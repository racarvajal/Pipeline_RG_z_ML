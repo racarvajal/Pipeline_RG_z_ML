{
 "cells": [
  {
   "cell_type": "markdown",
   "metadata": {},
   "source": [
    "# Pipeline for High-z Radio Galaxies 12: Create lists (files) with radio AGN candidates"
   ]
  },
  {
   "cell_type": "markdown",
   "metadata": {},
   "source": [
    "## Introduction"
   ]
  },
  {
   "cell_type": "markdown",
   "metadata": {},
   "source": [
    "In this file, three models will be applied consecutively in order to predict  \n",
    "the detection of Radio Galaxies (radio AGN) and their redshift.  \n",
    "\n",
    "In principle, this pipeline should be applied to data in Stripe 82. But  \n",
    "it can be used with any other suitable dataset."
   ]
  },
  {
   "cell_type": "code",
   "execution_count": 1,
   "metadata": {},
   "outputs": [],
   "source": [
    "%matplotlib inline\n",
    "# Static plots\n",
    "#%matplotlib ipympl\n",
    "# Interactive plots\n",
    "import numpy as np\n",
    "import matplotlib as mpl\n",
    "import matplotlib.cm as cm\n",
    "from matplotlib import ticker\n",
    "import matplotlib.pyplot as plt\n",
    "import matplotlib.colors as mcolors\n",
    "import matplotlib.patheffects as mpe\n",
    "import matplotlib.patches as mpatches\n",
    "from matplotlib.ticker import ScalarFormatter\n",
    "from mpl_toolkits.axes_grid1.inset_locator import inset_axes\n",
    "from astropy.visualization import LogStretch, PowerStretch\n",
    "from astropy.visualization.mpl_normalize import ImageNormalize\n",
    "from sklearn.preprocessing import MinMaxScaler\n",
    "from sklearn.metrics import ConfusionMatrixDisplay\n",
    "import sklearn.pipeline\n",
    "import colorcet as cc\n",
    "from pycaret import classification as pyc\n",
    "from pycaret import regression as pyr\n",
    "from joblib import dump, load\n",
    "import pandas as pd\n",
    "import mpl_scatter_density\n",
    "import global_variables as gv\n",
    "import global_functions as gf"
   ]
  },
  {
   "cell_type": "code",
   "execution_count": 2,
   "metadata": {},
   "outputs": [],
   "source": [
    "mpl.rcdefaults()"
   ]
  },
  {
   "cell_type": "markdown",
   "metadata": {},
   "source": [
    "Methods for the use of values in Confusion Matrices."
   ]
  },
  {
   "cell_type": "markdown",
   "metadata": {},
   "source": [
    "---"
   ]
  },
  {
   "cell_type": "markdown",
   "metadata": {},
   "source": [
    "## Reading data"
   ]
  },
  {
   "cell_type": "markdown",
   "metadata": {
    "tags": []
   },
   "source": [
    "Flags."
   ]
  },
  {
   "cell_type": "code",
   "execution_count": 3,
   "metadata": {},
   "outputs": [],
   "source": [
    "save_plot_flag      = False\n",
    "save_preds_flag     = True\n",
    "load_models_flag    = True\n",
    "predict_only_hi_z   = False\n",
    "use_zeroth_model    = False\n",
    "use_second_z_model  = False  # z >= 3.6 (with SMOGN), or, if needed, z >= 4.0"
   ]
  },
  {
   "cell_type": "code",
   "execution_count": 4,
   "metadata": {},
   "outputs": [],
   "source": [
    "used_area           = 'COSMOS'  # can be 'S82', 'HETDEX', 'COSMOS'"
   ]
  },
  {
   "cell_type": "code",
   "execution_count": 5,
   "metadata": {
    "jupyter": {
     "source_hidden": true
    }
   },
   "outputs": [],
   "source": [
    "if used_area != 'S82':\n",
    "    compare_A17_flag = False"
   ]
  },
  {
   "cell_type": "code",
   "execution_count": 6,
   "metadata": {
    "jupyter": {
     "source_hidden": true
    },
    "tags": []
   },
   "outputs": [],
   "source": [
    "file_name_dict      = {'S82': gv.file_S82, 'HETDEX': gv.file_HETDEX, 'COSMOS': gv.file_COSMOS}\n",
    "file_name           = file_name_dict[used_area]"
   ]
  },
  {
   "cell_type": "code",
   "execution_count": 7,
   "metadata": {
    "tags": []
   },
   "outputs": [],
   "source": [
    "feats_2_disc_S82    = ['objID', 'RA_MILLI', 'DEC_MILLI', 'X_ray_detect', 'W1mag', 'W2mag', 'FUVmag', 'NUVmag']\n",
    "feats_2_disc_HETDEX = ['objID', 'RA_MILLI', 'DEC_MILLI', 'X_ray_detect', 'W1mag', 'W2mag', 'FUVmag', 'NUVmag']\n",
    "feats_2_disc_COSMOS = ['objID', 'RA_MILLI', 'DEC_MILLI', 'X_ray_detect', 'W1mag', 'W2mag', 'FUVmag', 'NUVmag']\n",
    "\n",
    "feats_2_disc        = {'S82': feats_2_disc_S82, 'HETDEX': feats_2_disc_HETDEX, 'COSMOS': feats_2_disc_COSMOS}\n",
    "features_2_discard  = feats_2_disc[used_area]"
   ]
  },
  {
   "cell_type": "code",
   "execution_count": 8,
   "metadata": {
    "jupyter": {
     "source_hidden": true
    }
   },
   "outputs": [],
   "source": [
    "full_catalog_df     = pd.read_hdf(gv.cat_path + file_name, key='df').drop(columns=features_2_discard)"
   ]
  },
  {
   "cell_type": "code",
   "execution_count": 9,
   "metadata": {
    "jupyter": {
     "source_hidden": true
    }
   },
   "outputs": [],
   "source": [
    "full_catalog_df.loc[:, 'radio_detect'] = full_catalog_df.loc[:, 'radio_detect'].astype(int)"
   ]
  },
  {
   "cell_type": "markdown",
   "metadata": {},
   "source": [
    "Create features with class and combined redshift."
   ]
  },
  {
   "cell_type": "code",
   "execution_count": 10,
   "metadata": {},
   "outputs": [],
   "source": [
    "full_catalog_df['class']            = full_catalog_df.loc[:, 'is_AGN'].copy()\n",
    "filter_non_confirmed                = np.array(full_catalog_df.loc[:, 'is_AGN'] == 1) | np.array(full_catalog_df.loc[:, 'is_gal'] == 1)\n",
    "full_catalog_df.loc[~filter_non_confirmed, 'class'] = 0.5\n",
    "idx_non_Z                           = full_catalog_df.loc[:, 'Z'].where(full_catalog_df.loc[:, 'Z'] > 0).isna()\n",
    "full_catalog_df.loc[idx_non_Z, 'Z'] = full_catalog_df.loc[:, 'Z'].mask(idx_non_Z, full_catalog_df.loc[idx_non_Z, 'zsp'])"
   ]
  },
  {
   "cell_type": "markdown",
   "metadata": {},
   "source": [
    "Create column for detection as Radio AGN"
   ]
  },
  {
   "cell_type": "code",
   "execution_count": 11,
   "metadata": {},
   "outputs": [],
   "source": [
    "full_catalog_df['radio_AGN']      = np.array(full_catalog_df.loc[:, 'is_AGN'] == 1) & np.array(full_catalog_df.loc[:, 'radio_detect'] == 1)"
   ]
  },
  {
   "cell_type": "markdown",
   "metadata": {},
   "source": [
    "Discard minor features."
   ]
  },
  {
   "cell_type": "code",
   "execution_count": 12,
   "metadata": {},
   "outputs": [],
   "source": [
    "full_catalog_df                     = full_catalog_df.drop(columns=['is_AGN', 'is_SDSS_gal', 'is_gal', 'zsp'])"
   ]
  },
  {
   "cell_type": "markdown",
   "metadata": {},
   "source": [
    "#### As we want to predict, only use sources that have not previous spectroscopic classification"
   ]
  },
  {
   "cell_type": "code",
   "execution_count": 13,
   "metadata": {
    "jupyter": {
     "source_hidden": true
    }
   },
   "outputs": [
    {
     "name": "stdout",
     "output_type": "stream",
     "text": [
      "The used data set (in COSMOS) has 72,120 sources.\n",
      "And 1,343 have previous spectroscopic classification.\n"
     ]
    }
   ],
   "source": [
    "print(f'The used data set (in {used_area}) has {len(full_catalog_df):,} sources.')\n",
    "print(f'And {np.sum(filter_non_confirmed):,} have previous spectroscopic classification.')"
   ]
  },
  {
   "cell_type": "code",
   "execution_count": 14,
   "metadata": {},
   "outputs": [],
   "source": [
    "full_catalog_df                     = full_catalog_df.loc[~filter_non_confirmed]"
   ]
  },
  {
   "cell_type": "code",
   "execution_count": 15,
   "metadata": {
    "jupyter": {
     "source_hidden": true
    }
   },
   "outputs": [
    {
     "name": "stdout",
     "output_type": "stream",
     "text": [
      "This pipeline will predict properties for 70,777 sources in COSMOS.\n"
     ]
    }
   ],
   "source": [
    "print(f'This pipeline will predict properties for {len(full_catalog_df):,} sources in {used_area}.')"
   ]
  },
  {
   "cell_type": "markdown",
   "metadata": {},
   "source": [
    "---"
   ]
  },
  {
   "cell_type": "markdown",
   "metadata": {},
   "source": [
    "### Load models"
   ]
  },
  {
   "cell_type": "code",
   "execution_count": 16,
   "metadata": {},
   "outputs": [
    {
     "name": "stdout",
     "output_type": "stream",
     "text": [
      "Transformation Pipeline and Model Successfully Loaded\n",
      "Transformation Pipeline and Model Successfully Loaded\n",
      "Transformation Pipeline and Model Successfully Loaded\n"
     ]
    }
   ],
   "source": [
    "if load_models_flag:\n",
    "    if use_zeroth_model:\n",
    "        star_clf        = pyc.load_model(gv.models_path + gv.star_model)  # star/no-star model\n",
    "    AGN_gal_clf         = pyc.load_model(gv.models_path + gv.AGN_gal_model)  #\n",
    "    cal_AGN_gal_clf     = load(gv.models_path + gv.cal_AGN_gal_model)  # calibrated model\n",
    "    radio_det_clf       = pyc.load_model(gv.models_path + gv.radio_model)  # without predicted AGN\n",
    "    cal_radio_det_clf   = load(gv.models_path + gv.cal_radio_model)  # calibrated model\n",
    "    redshift_reg        = pyr.load_model(gv.models_path + gv.full_z_model)  # to use on full sample\n",
    "    if use_second_z_model:\n",
    "        redshift_reg_2  = pyr.load_model(gv.models_path + gv.high_z_model)  # sources with predicted z >= 3.6"
   ]
  },
  {
   "cell_type": "code",
   "execution_count": 17,
   "metadata": {
    "jupyter": {
     "source_hidden": true
    }
   },
   "outputs": [],
   "source": [
    "full_catalog_df = pyc.predict_model(AGN_gal_clf, data=full_catalog_df, probability_threshold=gv.AGN_thresh, raw_score=True, round=10)\n",
    "full_catalog_df = full_catalog_df.drop(columns=['Score_0'])\n",
    "full_catalog_df = full_catalog_df.rename(columns={'Label': 'pred_class', 'Score_1': 'Score_AGN'})\n",
    "full_catalog_df['Score_AGN'] = np.around(full_catalog_df.loc[:, 'Score_AGN'], decimals=7)\n",
    "pred_probs_AGN  = cal_AGN_gal_clf.predict_proba(full_catalog_df.loc[:, gf.get_final_column_names(AGN_gal_clf, full_catalog_df)])[:, 1]\n",
    "full_catalog_df['Prob_AGN'] = pred_probs_AGN"
   ]
  },
  {
   "cell_type": "code",
   "execution_count": 18,
   "metadata": {
    "jupyter": {
     "source_hidden": true
    }
   },
   "outputs": [],
   "source": [
    "full_catalog_df = pyc.predict_model(radio_det_clf, data=full_catalog_df, probability_threshold=gv.radio_thresh, raw_score=True, round=10)\n",
    "full_catalog_df = full_catalog_df.drop(columns=['Score_0'])\n",
    "full_catalog_df = full_catalog_df.rename(columns={'Label': 'pred_radio', 'Score_1': 'Score_radio'})\n",
    "full_catalog_df['Score_radio'] = np.around(full_catalog_df.loc[:, 'Score_radio'], decimals=7)\n",
    "pred_probs_rad  = cal_radio_det_clf.predict_proba(full_catalog_df.loc[:, gf.get_final_column_names(radio_det_clf, full_catalog_df)])[:, 1]\n",
    "full_catalog_df['Prob_radio'] = pred_probs_rad"
   ]
  },
  {
   "cell_type": "code",
   "execution_count": 19,
   "metadata": {
    "jupyter": {
     "source_hidden": true
    }
   },
   "outputs": [],
   "source": [
    "full_catalog_df = pyr.predict_model(redshift_reg, data=full_catalog_df, round=8)\n",
    "full_catalog_df = full_catalog_df.rename(columns={'Label': 'pred_Z'})\n",
    "full_catalog_df['pred_Z'] = np.around(full_catalog_df.loc[:, 'pred_Z'], decimals=3)"
   ]
  },
  {
   "cell_type": "code",
   "execution_count": 20,
   "metadata": {
    "jupyter": {
     "source_hidden": true
    }
   },
   "outputs": [],
   "source": [
    "redshift_tol    = 0.0\n",
    "if use_second_z_model:\n",
    "    full_catalog_df = pyr.predict_model(redshift_reg_2, data=full_catalog_df, round=6)\n",
    "    filter_pred_z   = full_catalog_df.loc[:, 'pred_Z'] >= (gv.high_z_limit + redshift_tol)\n",
    "    full_catalog_df.loc[:, 'pred_Z'] = full_catalog_df.loc[:, 'pred_Z'].mask(filter_pred_z, full_catalog_df.loc[filter_pred_z, 'Label'])\n",
    "    full_catalog_df = full_catalog_df.drop(columns=['Label'])\n",
    "    full_catalog_df.loc[:, 'pred_Z'] = np.around(full_catalog_df.loc[:, 'pred_Z'], decimals=3)"
   ]
  },
  {
   "cell_type": "code",
   "execution_count": 22,
   "metadata": {
    "jupyter": {
     "source_hidden": true
    },
    "tags": []
   },
   "outputs": [
    {
     "data": {
      "image/png": "[encoded data removed]",
      "text/plain": [
       "<Figure size 600x500 with 3 Axes>"
      ]
     },
     "metadata": {},
     "output_type": "display_data"
    }
   ],
   "source": [
    "fig             = plt.figure(figsize=(6,5))\n",
    "ax1             = fig.add_subplot(111, projection='scatter_density', xscale='log', yscale='log')\n",
    "ax1 = gf.plot_redshift_compare(full_catalog_df.loc[:, 'Z'], full_catalog_df.loc[:, 'pred_Z'], ax_pre=ax1, title=None, dpi=10, show_clb=True, log_stretch=False)\n",
    "ax1.axvline(x=(1 + gv.high_z_limit), ls='--', c='k', lw=2.5)\n",
    "if use_second_z_model:\n",
    "    ax1.set_ylabel('$1 + Z_{\\mathrm{Predicted}}^{\\mathrm{combined\\,models}}$', size=20)\n",
    "plt.show()"
   ]
  },
  {
   "cell_type": "code",
   "execution_count": 23,
   "metadata": {
    "jupyter": {
     "source_hidden": true
    }
   },
   "outputs": [],
   "source": [
    "full_catalog_df['pred_prob_class']    = (full_catalog_df.loc[:, 'Prob_AGN']   >= gv.cal_AGN_thresh).astype(int)\n",
    "full_catalog_df['pred_prob_radio']    = (full_catalog_df.loc[:, 'Prob_radio'] >= gv.cal_radio_thresh).astype(int)"
   ]
  },
  {
   "cell_type": "code",
   "execution_count": 24,
   "metadata": {
    "jupyter": {
     "source_hidden": true
    }
   },
   "outputs": [],
   "source": [
    "full_catalog_df['pred_radio_AGN']     = np.array(full_catalog_df.loc[:, 'pred_class'] == 1) & np.array(full_catalog_df.loc[:, 'pred_radio'] == 1)\n",
    "full_catalog_df['Score_rAGN']         = full_catalog_df.loc[:, 'Score_AGN'] * full_catalog_df.loc[:, 'Score_radio']\n",
    "full_catalog_df['pred_prob_rAGN']     = np.array(full_catalog_df.loc[:, 'pred_prob_class'] == 1) & np.array(full_catalog_df.loc[:, 'pred_prob_radio'] == 1)\n",
    "full_catalog_df['Prob_rAGN']          = full_catalog_df.loc[:, 'Prob_AGN'] * full_catalog_df.loc[:, 'Prob_radio']\n",
    "\n",
    "rad_score_scaler                      = MinMaxScaler()\n",
    "full_catalog_df['scaled_score_radio'] = rad_score_scaler.fit_transform(full_catalog_df.loc[:, 'Score_radio'].values.reshape(-1, 1))\n",
    "full_catalog_df['scaled_score_rAGN']  = full_catalog_df.loc[:, 'Score_AGN'] * full_catalog_df.loc[:, 'scaled_score_radio']"
   ]
  },
  {
   "cell_type": "code",
   "execution_count": 25,
   "metadata": {},
   "outputs": [
    {
     "data": {
      "text/html": [
       "<div>\n",
       "<style scoped>\n",
       "    .dataframe tbody tr th:only-of-type {\n",
       "        vertical-align: middle;\n",
       "    }\n",
       "\n",
       "    .dataframe tbody tr th {\n",
       "        vertical-align: top;\n",
       "    }\n",
       "\n",
       "    .dataframe thead th {\n",
       "        text-align: right;\n",
       "    }\n",
       "</style>\n",
       "<table border=\"1\" class=\"dataframe\">\n",
       "  <thead>\n",
       "    <tr style=\"text-align: right;\">\n",
       "      <th></th>\n",
       "      <th>class</th>\n",
       "      <th>pred_class</th>\n",
       "      <th>radio_detect</th>\n",
       "      <th>pred_radio</th>\n",
       "      <th>Z</th>\n",
       "      <th>pred_Z</th>\n",
       "    </tr>\n",
       "  </thead>\n",
       "  <tbody>\n",
       "    <tr>\n",
       "      <th>count</th>\n",
       "      <td>70777.0</td>\n",
       "      <td>70777.000000</td>\n",
       "      <td>70777.000000</td>\n",
       "      <td>70777.000000</td>\n",
       "      <td>195.000000</td>\n",
       "      <td>70777.000000</td>\n",
       "    </tr>\n",
       "    <tr>\n",
       "      <th>mean</th>\n",
       "      <td>0.5</td>\n",
       "      <td>0.152451</td>\n",
       "      <td>0.116224</td>\n",
       "      <td>0.034347</td>\n",
       "      <td>0.424231</td>\n",
       "      <td>2.211089</td>\n",
       "    </tr>\n",
       "    <tr>\n",
       "      <th>std</th>\n",
       "      <td>0.0</td>\n",
       "      <td>0.359460</td>\n",
       "      <td>0.320496</td>\n",
       "      <td>0.182121</td>\n",
       "      <td>0.833984</td>\n",
       "      <td>0.772840</td>\n",
       "    </tr>\n",
       "    <tr>\n",
       "      <th>min</th>\n",
       "      <td>0.5</td>\n",
       "      <td>0.000000</td>\n",
       "      <td>0.000000</td>\n",
       "      <td>0.000000</td>\n",
       "      <td>-0.000310</td>\n",
       "      <td>0.045000</td>\n",
       "    </tr>\n",
       "    <tr>\n",
       "      <th>25%</th>\n",
       "      <td>0.5</td>\n",
       "      <td>0.000000</td>\n",
       "      <td>0.000000</td>\n",
       "      <td>0.000000</td>\n",
       "      <td>0.000070</td>\n",
       "      <td>1.893000</td>\n",
       "    </tr>\n",
       "    <tr>\n",
       "      <th>50%</th>\n",
       "      <td>0.5</td>\n",
       "      <td>0.000000</td>\n",
       "      <td>0.000000</td>\n",
       "      <td>0.000000</td>\n",
       "      <td>0.000440</td>\n",
       "      <td>2.252000</td>\n",
       "    </tr>\n",
       "    <tr>\n",
       "      <th>75%</th>\n",
       "      <td>0.5</td>\n",
       "      <td>0.000000</td>\n",
       "      <td>0.000000</td>\n",
       "      <td>0.000000</td>\n",
       "      <td>0.415270</td>\n",
       "      <td>2.434000</td>\n",
       "    </tr>\n",
       "    <tr>\n",
       "      <th>max</th>\n",
       "      <td>0.5</td>\n",
       "      <td>1.000000</td>\n",
       "      <td>1.000000</td>\n",
       "      <td>1.000000</td>\n",
       "      <td>4.200000</td>\n",
       "      <td>4.687000</td>\n",
       "    </tr>\n",
       "  </tbody>\n",
       "</table>\n",
       "</div>"
      ],
      "text/plain": [
       "         class    pred_class  radio_detect    pred_radio           Z  \\\n",
       "count  70777.0  70777.000000  70777.000000  70777.000000  195.000000   \n",
       "mean       0.5      0.152451      0.116224      0.034347    0.424231   \n",
       "std        0.0      0.359460      0.320496      0.182121    0.833984   \n",
       "min        0.5      0.000000      0.000000      0.000000   -0.000310   \n",
       "25%        0.5      0.000000      0.000000      0.000000    0.000070   \n",
       "50%        0.5      0.000000      0.000000      0.000000    0.000440   \n",
       "75%        0.5      0.000000      0.000000      0.000000    0.415270   \n",
       "max        0.5      1.000000      1.000000      1.000000    4.200000   \n",
       "\n",
       "             pred_Z  \n",
       "count  70777.000000  \n",
       "mean       2.211089  \n",
       "std        0.772840  \n",
       "min        0.045000  \n",
       "25%        1.893000  \n",
       "50%        2.252000  \n",
       "75%        2.434000  \n",
       "max        4.687000  "
      ]
     },
     "execution_count": 25,
     "metadata": {},
     "output_type": "execute_result"
    }
   ],
   "source": [
    "full_catalog_df.loc[:, ['class', 'pred_class', 'radio_detect', 'pred_radio', 'Z', 'pred_Z']].describe()"
   ]
  },
  {
   "cell_type": "markdown",
   "metadata": {},
   "source": [
    "Obtain intermediate metrics"
   ]
  },
  {
   "cell_type": "code",
   "execution_count": 26,
   "metadata": {
    "jupyter": {
     "source_hidden": true
    }
   },
   "outputs": [],
   "source": [
    "filter_radio_AGN_t      = np.array(full_catalog_df.loc[:, 'class'] == 1) & np.array(full_catalog_df.loc[:, 'radio_detect'] == 1)\n",
    "filter_gal_AGN_t        = np.array(full_catalog_df.loc[:, 'class'] == 0) | np.array(full_catalog_df.loc[:, 'class'] == 1)\n",
    "total_size              = len(full_catalog_df)\n",
    "filter_AGN_t            = np.array(full_catalog_df.loc[:, 'class'] == 1)\n",
    "num_AGN_t               = np.sum(filter_AGN_t)\n",
    "num_gal_t               = np.sum(np.array(full_catalog_df.loc[:, 'class'] == 0))\n",
    "num_radio_t             = np.sum(np.array(full_catalog_df.loc[:, 'radio_detect'] == 1))\n",
    "num_radio_AGN_t         = np.sum(filter_radio_AGN_t)"
   ]
  },
  {
   "cell_type": "code",
   "execution_count": 27,
   "metadata": {
    "jupyter": {
     "source_hidden": true
    }
   },
   "outputs": [],
   "source": [
    "# filter_radio_AGN_p      = np.array(full_catalog_df.loc[:, 'Score_AGN']          >= threshold_AGN) &\\\n",
    "#                             np.array(full_catalog_df.loc[:, 'Score_radio']      >= threshold_radio)\n",
    "filter_radio_AGN_p      = np.array(full_catalog_df.loc[:, 'pred_class']      == 1) &\\\n",
    "                            np.array(full_catalog_df.loc[:, 'pred_radio']    == 1)\n",
    "filt_hiz_rAGN_p         = filter_radio_AGN_p * np.array(full_catalog_df.loc[:, 'pred_Z'] >= gv.high_z_limit)\n",
    "filter_AGN_p            = np.array(full_catalog_df.loc[:, 'pred_class']      == 1)\n",
    "filter_radio_p          = np.array(full_catalog_df.loc[:, 'pred_radio']      == 1)\n",
    "num_AGN_p               = np.sum(filter_AGN_p)\n",
    "num_gal_p               = np.sum(np.array(full_catalog_df.loc[:, 'pred_class'] == 0))\n",
    "num_radio_p             = np.sum(filter_radio_p)\n",
    "num_radio_AGN_p         = np.sum(filter_radio_AGN_p)"
   ]
  },
  {
   "cell_type": "markdown",
   "metadata": {},
   "source": [
    "### Select sources predicted to be Radio AGN"
   ]
  },
  {
   "cell_type": "code",
   "execution_count": 28,
   "metadata": {},
   "outputs": [],
   "source": [
    "full_catalog_df         = full_catalog_df.loc[filter_radio_AGN_p]"
   ]
  },
  {
   "cell_type": "code",
   "execution_count": 29,
   "metadata": {},
   "outputs": [
    {
     "data": {
      "text/html": [
       "<div>\n",
       "<style scoped>\n",
       "    .dataframe tbody tr th:only-of-type {\n",
       "        vertical-align: middle;\n",
       "    }\n",
       "\n",
       "    .dataframe tbody tr th {\n",
       "        vertical-align: top;\n",
       "    }\n",
       "\n",
       "    .dataframe thead th {\n",
       "        text-align: right;\n",
       "    }\n",
       "</style>\n",
       "<table border=\"1\" class=\"dataframe\">\n",
       "  <thead>\n",
       "    <tr style=\"text-align: right;\">\n",
       "      <th></th>\n",
       "      <th>class</th>\n",
       "      <th>pred_class</th>\n",
       "      <th>radio_detect</th>\n",
       "      <th>pred_radio</th>\n",
       "      <th>Z</th>\n",
       "      <th>pred_Z</th>\n",
       "    </tr>\n",
       "  </thead>\n",
       "  <tbody>\n",
       "    <tr>\n",
       "      <th>count</th>\n",
       "      <td>587.0</td>\n",
       "      <td>587.0</td>\n",
       "      <td>587.000000</td>\n",
       "      <td>587.0</td>\n",
       "      <td>5.000000</td>\n",
       "      <td>587.000000</td>\n",
       "    </tr>\n",
       "    <tr>\n",
       "      <th>mean</th>\n",
       "      <td>0.5</td>\n",
       "      <td>1.0</td>\n",
       "      <td>0.187394</td>\n",
       "      <td>1.0</td>\n",
       "      <td>0.480008</td>\n",
       "      <td>1.707203</td>\n",
       "    </tr>\n",
       "    <tr>\n",
       "      <th>std</th>\n",
       "      <td>0.0</td>\n",
       "      <td>0.0</td>\n",
       "      <td>0.390560</td>\n",
       "      <td>0.0</td>\n",
       "      <td>0.443836</td>\n",
       "      <td>0.839776</td>\n",
       "    </tr>\n",
       "    <tr>\n",
       "      <th>min</th>\n",
       "      <td>0.5</td>\n",
       "      <td>1.0</td>\n",
       "      <td>0.000000</td>\n",
       "      <td>1.0</td>\n",
       "      <td>0.000040</td>\n",
       "      <td>0.050000</td>\n",
       "    </tr>\n",
       "    <tr>\n",
       "      <th>25%</th>\n",
       "      <td>0.5</td>\n",
       "      <td>1.0</td>\n",
       "      <td>0.000000</td>\n",
       "      <td>1.0</td>\n",
       "      <td>0.300000</td>\n",
       "      <td>1.044000</td>\n",
       "    </tr>\n",
       "    <tr>\n",
       "      <th>50%</th>\n",
       "      <td>0.5</td>\n",
       "      <td>1.0</td>\n",
       "      <td>0.000000</td>\n",
       "      <td>1.0</td>\n",
       "      <td>0.400000</td>\n",
       "      <td>1.642000</td>\n",
       "    </tr>\n",
       "    <tr>\n",
       "      <th>75%</th>\n",
       "      <td>0.5</td>\n",
       "      <td>1.0</td>\n",
       "      <td>0.000000</td>\n",
       "      <td>1.0</td>\n",
       "      <td>0.500000</td>\n",
       "      <td>2.269000</td>\n",
       "    </tr>\n",
       "    <tr>\n",
       "      <th>max</th>\n",
       "      <td>0.5</td>\n",
       "      <td>1.0</td>\n",
       "      <td>1.000000</td>\n",
       "      <td>1.0</td>\n",
       "      <td>1.200000</td>\n",
       "      <td>3.841000</td>\n",
       "    </tr>\n",
       "  </tbody>\n",
       "</table>\n",
       "</div>"
      ],
      "text/plain": [
       "       class  pred_class  radio_detect  pred_radio         Z      pred_Z\n",
       "count  587.0       587.0    587.000000       587.0  5.000000  587.000000\n",
       "mean     0.5         1.0      0.187394         1.0  0.480008    1.707203\n",
       "std      0.0         0.0      0.390560         0.0  0.443836    0.839776\n",
       "min      0.5         1.0      0.000000         1.0  0.000040    0.050000\n",
       "25%      0.5         1.0      0.000000         1.0  0.300000    1.044000\n",
       "50%      0.5         1.0      0.000000         1.0  0.400000    1.642000\n",
       "75%      0.5         1.0      0.000000         1.0  0.500000    2.269000\n",
       "max      0.5         1.0      1.000000         1.0  1.200000    3.841000"
      ]
     },
     "execution_count": 29,
     "metadata": {},
     "output_type": "execute_result"
    }
   ],
   "source": [
    "full_catalog_df.loc[:, ['class', 'pred_class', 'radio_detect', 'pred_radio', 'Z', 'pred_Z']].describe()"
   ]
  },
  {
   "cell_type": "markdown",
   "metadata": {},
   "source": [
    "Add individual metrics for redshift"
   ]
  },
  {
   "cell_type": "code",
   "execution_count": 30,
   "metadata": {
    "tags": []
   },
   "outputs": [],
   "source": [
    "full_catalog_df['Delta_z_N'] = np.around((full_catalog_df.loc[:, 'pred_Z'] - full_catalog_df.loc[:, 'Z']) /\\\n",
    "                            (1 + full_catalog_df.loc[:, 'Z']), decimals=3)\n",
    "\n",
    "full_catalog_df['sigma_NMAD'] = np.around(1.48 * np.abs(full_catalog_df.loc[:, 'pred_Z'] - full_catalog_df.loc[:, 'Z']) /\\\n",
    "                            (1 + full_catalog_df.loc[:, 'Z']), decimals=3)"
   ]
  },
  {
   "cell_type": "markdown",
   "metadata": {},
   "source": [
    "Numerical summary."
   ]
  },
  {
   "cell_type": "code",
   "execution_count": 31,
   "metadata": {
    "jupyter": {
     "source_hidden": true
    },
    "tags": []
   },
   "outputs": [],
   "source": [
    "str_0_t   = f'Out of {total_size:,} initial sources in {used_area},\\n'\n",
    "str_1_t   = f'{num_gal_t:,} are confirmed to be galaxies. On the other side,\\n'\n",
    "str_2_t   = f'{num_AGN_t:,} are confirmed to be AGN. And, from the AGN,\\n'\n",
    "str_3_t   = f'{num_radio_AGN_t:,} are detected in radio.'\n",
    "\n",
    "str_0_p   = f'Out of {num_radio_AGN_t:,} initial radio-detected AGN in {used_area},\\n'\n",
    "str_1_p   = f'{num_gal_p:,} are predicted to be galaxies. On the other side,\\n'\n",
    "str_2_p   = f'{num_AGN_p:,} are predicted to be AGN. And, from the predicted AGN,\\n'\n",
    "str_3_p   = f'{num_radio_AGN_p:,} are predicted to be detected in radio.'"
   ]
  },
  {
   "cell_type": "code",
   "execution_count": 32,
   "metadata": {
    "jupyter": {
     "source_hidden": true
    },
    "tags": []
   },
   "outputs": [
    {
     "name": "stdout",
     "output_type": "stream",
     "text": [
      "------------------------------------------------------------\n",
      "Out of 70,777 initial sources in COSMOS,\n",
      "0 are confirmed to be galaxies. On the other side,\n",
      "0 are confirmed to be AGN. And, from the AGN,\n",
      "0 are detected in radio.\n",
      "------------------------------------------------------------\n",
      "Out of 0 initial radio-detected AGN in COSMOS,\n",
      "59,987 are predicted to be galaxies. On the other side,\n",
      "10,790 are predicted to be AGN. And, from the predicted AGN,\n",
      "587 are predicted to be detected in radio.\n",
      "------------------------------------------------------------\n"
     ]
    }
   ],
   "source": [
    "print('-' * 60)\n",
    "print(str_0_t + str_1_t + str_2_t + str_3_t)\n",
    "print('-' * 60)\n",
    "print(str_0_p + str_1_p + str_2_p + str_3_p)\n",
    "print('-' * 60)"
   ]
  },
  {
   "cell_type": "code",
   "execution_count": 33,
   "metadata": {},
   "outputs": [],
   "source": [
    "cols_4_table = show_columns = ['Name', 'RA_ICRS', 'DE_ICRS', 'TYPE', 'band_num', 'class', 'pred_class', 'Score_AGN', 'Prob_AGN',\\\n",
    "                               'radio_detect', 'pred_radio', 'Score_radio', 'Prob_radio', 'Prob_rAGN', 'Z', 'pred_Z']"
   ]
  },
  {
   "cell_type": "code",
   "execution_count": 34,
   "metadata": {
    "jupyter": {
     "source_hidden": true
    }
   },
   "outputs": [],
   "source": [
    "cols_4_export_S82    = ['Total_flux_VLASS', 'Fint_VLAS82', 'Stotal_TGSS', 'FEP']\n",
    "cols_4_export_HETDEX = ['Total_flux_VLASS', 'Sint_LOFAR', 'Stotal_TGSS', 'FEP', 'TotalFlux_LoLSS']\n",
    "cols_4_export_COSMOS = ['Total_flux_VLASS', 'Stotal_TGSS', 'FEP', 'Flux_COSMOSVLA3']\n",
    "\n",
    "cols_4_exp_all       = {'S82': cols_4_export_S82, 'HETDEX': cols_4_export_HETDEX, 'COSMOS': cols_4_export_COSMOS}\n",
    "\n",
    "cols_photo           = ['W1mproPM', 'W2mproPM', 'gmag', 'rmag', 'imag', 'zmag', 'ymag',\\\n",
    "                        'Jmag', 'Hmag', 'Kmag', 'W3mag', 'W4mag']\n",
    "\n",
    "cols_4_export        = cols_4_table + cols_4_exp_all[used_area] + cols_photo"
   ]
  },
  {
   "cell_type": "code",
   "execution_count": 38,
   "metadata": {
    "jupyter": {
     "source_hidden": true
    }
   },
   "outputs": [],
   "source": [
    "filter_new_rAGN = full_catalog_df.loc[:, 'radio_AGN'] == 0\n",
    "if predict_only_hi_z:\n",
    "    filter_high_z   = full_catalog_df.loc[:, 'pred_Z']    >= gv.high_z_limit\n",
    "elif not predict_only_hi_z:\n",
    "    filter_high_z   = np.ones_like(full_catalog_df.loc[:, 'pred_Z']).astype(bool)"
   ]
  },
  {
   "cell_type": "code",
   "execution_count": 39,
   "metadata": {},
   "outputs": [],
   "source": [
    "full_catalog_df.loc[:, 'TYPE'] = full_catalog_df.loc[:, 'TYPE'].mask(full_catalog_df.loc[:, 'TYPE'] == '    ', 'CCCC')"
   ]
  },
  {
   "cell_type": "code",
   "execution_count": 40,
   "metadata": {},
   "outputs": [
    {
     "data": {
      "text/html": [
       "<div>\n",
       "<style scoped>\n",
       "    .dataframe tbody tr th:only-of-type {\n",
       "        vertical-align: middle;\n",
       "    }\n",
       "\n",
       "    .dataframe tbody tr th {\n",
       "        vertical-align: top;\n",
       "    }\n",
       "\n",
       "    .dataframe thead th {\n",
       "        text-align: right;\n",
       "    }\n",
       "</style>\n",
       "<table border=\"1\" class=\"dataframe\">\n",
       "  <thead>\n",
       "    <tr style=\"text-align: right;\">\n",
       "      <th></th>\n",
       "      <th>Name</th>\n",
       "      <th>RA_ICRS</th>\n",
       "      <th>DE_ICRS</th>\n",
       "      <th>TYPE</th>\n",
       "      <th>band_num</th>\n",
       "      <th>class</th>\n",
       "      <th>pred_class</th>\n",
       "      <th>Score_AGN</th>\n",
       "      <th>Prob_AGN</th>\n",
       "      <th>radio_detect</th>\n",
       "      <th>pred_radio</th>\n",
       "      <th>Score_radio</th>\n",
       "      <th>Prob_radio</th>\n",
       "      <th>Prob_rAGN</th>\n",
       "      <th>Z</th>\n",
       "      <th>pred_Z</th>\n",
       "      <th>Total_flux_VLASS</th>\n",
       "      <th>Stotal_TGSS</th>\n",
       "      <th>FEP</th>\n",
       "      <th>Flux_COSMOSVLA3</th>\n",
       "      <th>W1mproPM</th>\n",
       "      <th>W2mproPM</th>\n",
       "      <th>gmag</th>\n",
       "      <th>rmag</th>\n",
       "      <th>imag</th>\n",
       "      <th>zmag</th>\n",
       "      <th>ymag</th>\n",
       "      <th>Jmag</th>\n",
       "      <th>Hmag</th>\n",
       "      <th>Kmag</th>\n",
       "      <th>W3mag</th>\n",
       "      <th>W4mag</th>\n",
       "    </tr>\n",
       "  </thead>\n",
       "  <tbody>\n",
       "    <tr>\n",
       "      <th>70328</th>\n",
       "      <td>J100211.65+022254.8</td>\n",
       "      <td>150.548523</td>\n",
       "      <td>2.381901</td>\n",
       "      <td>CCCC</td>\n",
       "      <td>12</td>\n",
       "      <td>0.5</td>\n",
       "      <td>1</td>\n",
       "      <td>0.811469</td>\n",
       "      <td>0.084557</td>\n",
       "      <td>0</td>\n",
       "      <td>1</td>\n",
       "      <td>0.500008</td>\n",
       "      <td>0.094345</td>\n",
       "      <td>0.007977</td>\n",
       "      <td>NaN</td>\n",
       "      <td>3.841</td>\n",
       "      <td>15.21</td>\n",
       "      <td>11.18</td>\n",
       "      <td>57.900002</td>\n",
       "      <td>21.25</td>\n",
       "      <td>16.993999</td>\n",
       "      <td>17.566999</td>\n",
       "      <td>19.678200</td>\n",
       "      <td>18.411600</td>\n",
       "      <td>17.223101</td>\n",
       "      <td>16.702900</td>\n",
       "      <td>16.453699</td>\n",
       "      <td>16.264000</td>\n",
       "      <td>16.035000</td>\n",
       "      <td>16.247999</td>\n",
       "      <td>16.670000</td>\n",
       "      <td>14.62</td>\n",
       "    </tr>\n",
       "    <tr>\n",
       "      <th>17483</th>\n",
       "      <td>J100227.27+014503.5</td>\n",
       "      <td>150.613617</td>\n",
       "      <td>1.750984</td>\n",
       "      <td>CCCC</td>\n",
       "      <td>9</td>\n",
       "      <td>0.5</td>\n",
       "      <td>1</td>\n",
       "      <td>0.561278</td>\n",
       "      <td>0.090462</td>\n",
       "      <td>0</td>\n",
       "      <td>1</td>\n",
       "      <td>0.500009</td>\n",
       "      <td>0.271108</td>\n",
       "      <td>0.024525</td>\n",
       "      <td>NaN</td>\n",
       "      <td>3.665</td>\n",
       "      <td>15.21</td>\n",
       "      <td>11.18</td>\n",
       "      <td>57.900002</td>\n",
       "      <td>21.25</td>\n",
       "      <td>18.618999</td>\n",
       "      <td>18.847000</td>\n",
       "      <td>20.737200</td>\n",
       "      <td>19.722300</td>\n",
       "      <td>19.800301</td>\n",
       "      <td>19.554300</td>\n",
       "      <td>19.326401</td>\n",
       "      <td>17.450001</td>\n",
       "      <td>17.240000</td>\n",
       "      <td>16.590000</td>\n",
       "      <td>16.641001</td>\n",
       "      <td>14.62</td>\n",
       "    </tr>\n",
       "    <tr>\n",
       "      <th>44605</th>\n",
       "      <td>J100000.91+014109.3</td>\n",
       "      <td>150.003799</td>\n",
       "      <td>1.685941</td>\n",
       "      <td>CCCC</td>\n",
       "      <td>12</td>\n",
       "      <td>0.5</td>\n",
       "      <td>1</td>\n",
       "      <td>0.640319</td>\n",
       "      <td>0.051274</td>\n",
       "      <td>0</td>\n",
       "      <td>1</td>\n",
       "      <td>0.500008</td>\n",
       "      <td>0.094689</td>\n",
       "      <td>0.004855</td>\n",
       "      <td>NaN</td>\n",
       "      <td>3.553</td>\n",
       "      <td>15.21</td>\n",
       "      <td>11.18</td>\n",
       "      <td>57.900002</td>\n",
       "      <td>21.25</td>\n",
       "      <td>16.896000</td>\n",
       "      <td>17.538000</td>\n",
       "      <td>18.577000</td>\n",
       "      <td>17.362400</td>\n",
       "      <td>16.702700</td>\n",
       "      <td>16.416901</td>\n",
       "      <td>16.253500</td>\n",
       "      <td>16.043001</td>\n",
       "      <td>15.828000</td>\n",
       "      <td>16.173000</td>\n",
       "      <td>16.670000</td>\n",
       "      <td>14.62</td>\n",
       "    </tr>\n",
       "    <tr>\n",
       "      <th>13602</th>\n",
       "      <td>J100105.76+022821.3</td>\n",
       "      <td>150.274017</td>\n",
       "      <td>2.472603</td>\n",
       "      <td>CCCC</td>\n",
       "      <td>12</td>\n",
       "      <td>0.5</td>\n",
       "      <td>1</td>\n",
       "      <td>0.833203</td>\n",
       "      <td>0.068404</td>\n",
       "      <td>0</td>\n",
       "      <td>1</td>\n",
       "      <td>0.500009</td>\n",
       "      <td>0.349589</td>\n",
       "      <td>0.023913</td>\n",
       "      <td>NaN</td>\n",
       "      <td>3.529</td>\n",
       "      <td>15.21</td>\n",
       "      <td>11.18</td>\n",
       "      <td>57.900002</td>\n",
       "      <td>21.25</td>\n",
       "      <td>16.097000</td>\n",
       "      <td>16.660999</td>\n",
       "      <td>18.503401</td>\n",
       "      <td>17.323099</td>\n",
       "      <td>16.254900</td>\n",
       "      <td>15.773300</td>\n",
       "      <td>15.529400</td>\n",
       "      <td>15.296000</td>\n",
       "      <td>15.094001</td>\n",
       "      <td>15.303000</td>\n",
       "      <td>16.670000</td>\n",
       "      <td>14.62</td>\n",
       "    </tr>\n",
       "    <tr>\n",
       "      <th>39570</th>\n",
       "      <td>J100059.68+021749.9</td>\n",
       "      <td>150.248657</td>\n",
       "      <td>2.297208</td>\n",
       "      <td>CCCC</td>\n",
       "      <td>12</td>\n",
       "      <td>0.5</td>\n",
       "      <td>1</td>\n",
       "      <td>0.595457</td>\n",
       "      <td>0.051413</td>\n",
       "      <td>0</td>\n",
       "      <td>1</td>\n",
       "      <td>0.500008</td>\n",
       "      <td>0.096661</td>\n",
       "      <td>0.004970</td>\n",
       "      <td>NaN</td>\n",
       "      <td>3.521</td>\n",
       "      <td>15.21</td>\n",
       "      <td>11.18</td>\n",
       "      <td>57.900002</td>\n",
       "      <td>21.25</td>\n",
       "      <td>16.857000</td>\n",
       "      <td>17.483000</td>\n",
       "      <td>18.490200</td>\n",
       "      <td>17.273500</td>\n",
       "      <td>16.659100</td>\n",
       "      <td>16.372700</td>\n",
       "      <td>16.210199</td>\n",
       "      <td>16.043001</td>\n",
       "      <td>15.795000</td>\n",
       "      <td>16.216000</td>\n",
       "      <td>16.670000</td>\n",
       "      <td>14.62</td>\n",
       "    </tr>\n",
       "    <tr>\n",
       "      <th>65302</th>\n",
       "      <td>J100102.60+021708.6</td>\n",
       "      <td>150.260818</td>\n",
       "      <td>2.285752</td>\n",
       "      <td>CCCC</td>\n",
       "      <td>12</td>\n",
       "      <td>0.5</td>\n",
       "      <td>1</td>\n",
       "      <td>0.802320</td>\n",
       "      <td>0.065251</td>\n",
       "      <td>0</td>\n",
       "      <td>1</td>\n",
       "      <td>0.500008</td>\n",
       "      <td>0.118494</td>\n",
       "      <td>0.007732</td>\n",
       "      <td>NaN</td>\n",
       "      <td>3.510</td>\n",
       "      <td>15.21</td>\n",
       "      <td>11.18</td>\n",
       "      <td>57.900002</td>\n",
       "      <td>21.25</td>\n",
       "      <td>16.764000</td>\n",
       "      <td>17.401001</td>\n",
       "      <td>19.051399</td>\n",
       "      <td>17.873899</td>\n",
       "      <td>16.867300</td>\n",
       "      <td>16.430500</td>\n",
       "      <td>16.210300</td>\n",
       "      <td>16.048000</td>\n",
       "      <td>15.688001</td>\n",
       "      <td>15.973001</td>\n",
       "      <td>16.670000</td>\n",
       "      <td>14.62</td>\n",
       "    </tr>\n",
       "    <tr>\n",
       "      <th>68963</th>\n",
       "      <td>J095730.10+013158.3</td>\n",
       "      <td>149.375443</td>\n",
       "      <td>1.532879</td>\n",
       "      <td>CCCC</td>\n",
       "      <td>12</td>\n",
       "      <td>0.5</td>\n",
       "      <td>1</td>\n",
       "      <td>0.707276</td>\n",
       "      <td>0.051386</td>\n",
       "      <td>0</td>\n",
       "      <td>1</td>\n",
       "      <td>0.500007</td>\n",
       "      <td>0.099214</td>\n",
       "      <td>0.005098</td>\n",
       "      <td>NaN</td>\n",
       "      <td>3.508</td>\n",
       "      <td>15.21</td>\n",
       "      <td>11.18</td>\n",
       "      <td>57.900002</td>\n",
       "      <td>21.25</td>\n",
       "      <td>16.816999</td>\n",
       "      <td>17.487000</td>\n",
       "      <td>18.276699</td>\n",
       "      <td>17.114000</td>\n",
       "      <td>16.519800</td>\n",
       "      <td>16.253201</td>\n",
       "      <td>16.111700</td>\n",
       "      <td>15.977000</td>\n",
       "      <td>15.727000</td>\n",
       "      <td>16.080999</td>\n",
       "      <td>16.670000</td>\n",
       "      <td>14.62</td>\n",
       "    </tr>\n",
       "    <tr>\n",
       "      <th>48324</th>\n",
       "      <td>J100155.82+022730.8</td>\n",
       "      <td>150.482605</td>\n",
       "      <td>2.458584</td>\n",
       "      <td>CCCC</td>\n",
       "      <td>12</td>\n",
       "      <td>0.5</td>\n",
       "      <td>1</td>\n",
       "      <td>0.889489</td>\n",
       "      <td>0.075952</td>\n",
       "      <td>0</td>\n",
       "      <td>1</td>\n",
       "      <td>0.500009</td>\n",
       "      <td>0.139236</td>\n",
       "      <td>0.010575</td>\n",
       "      <td>NaN</td>\n",
       "      <td>3.497</td>\n",
       "      <td>15.21</td>\n",
       "      <td>11.18</td>\n",
       "      <td>57.900002</td>\n",
       "      <td>21.25</td>\n",
       "      <td>16.423000</td>\n",
       "      <td>16.969999</td>\n",
       "      <td>18.903099</td>\n",
       "      <td>17.713499</td>\n",
       "      <td>16.605499</td>\n",
       "      <td>16.128401</td>\n",
       "      <td>15.874400</td>\n",
       "      <td>15.665000</td>\n",
       "      <td>15.482000</td>\n",
       "      <td>15.656000</td>\n",
       "      <td>16.670000</td>\n",
       "      <td>14.62</td>\n",
       "    </tr>\n",
       "    <tr>\n",
       "      <th>60676</th>\n",
       "      <td>J095759.83+022846.4</td>\n",
       "      <td>149.499298</td>\n",
       "      <td>2.479578</td>\n",
       "      <td>CCCC</td>\n",
       "      <td>12</td>\n",
       "      <td>0.5</td>\n",
       "      <td>1</td>\n",
       "      <td>0.787499</td>\n",
       "      <td>0.098014</td>\n",
       "      <td>0</td>\n",
       "      <td>1</td>\n",
       "      <td>0.500009</td>\n",
       "      <td>0.160116</td>\n",
       "      <td>0.015694</td>\n",
       "      <td>NaN</td>\n",
       "      <td>3.434</td>\n",
       "      <td>15.21</td>\n",
       "      <td>11.18</td>\n",
       "      <td>57.900002</td>\n",
       "      <td>21.25</td>\n",
       "      <td>16.589001</td>\n",
       "      <td>17.066999</td>\n",
       "      <td>19.608900</td>\n",
       "      <td>18.286200</td>\n",
       "      <td>16.934799</td>\n",
       "      <td>16.329000</td>\n",
       "      <td>16.053301</td>\n",
       "      <td>15.785000</td>\n",
       "      <td>15.673000</td>\n",
       "      <td>15.756001</td>\n",
       "      <td>16.670000</td>\n",
       "      <td>14.62</td>\n",
       "    </tr>\n",
       "    <tr>\n",
       "      <th>36090</th>\n",
       "      <td>J100217.07+024101.6</td>\n",
       "      <td>150.571152</td>\n",
       "      <td>2.683792</td>\n",
       "      <td>CCCC</td>\n",
       "      <td>12</td>\n",
       "      <td>0.5</td>\n",
       "      <td>1</td>\n",
       "      <td>0.868019</td>\n",
       "      <td>0.068531</td>\n",
       "      <td>0</td>\n",
       "      <td>1</td>\n",
       "      <td>0.500011</td>\n",
       "      <td>0.119283</td>\n",
       "      <td>0.008175</td>\n",
       "      <td>NaN</td>\n",
       "      <td>3.382</td>\n",
       "      <td>15.21</td>\n",
       "      <td>11.18</td>\n",
       "      <td>57.900002</td>\n",
       "      <td>21.25</td>\n",
       "      <td>16.684999</td>\n",
       "      <td>17.226999</td>\n",
       "      <td>19.035200</td>\n",
       "      <td>17.796301</td>\n",
       "      <td>16.767401</td>\n",
       "      <td>16.325399</td>\n",
       "      <td>16.096100</td>\n",
       "      <td>15.868000</td>\n",
       "      <td>15.819000</td>\n",
       "      <td>15.998000</td>\n",
       "      <td>16.670000</td>\n",
       "      <td>14.62</td>\n",
       "    </tr>\n",
       "    <tr>\n",
       "      <th>53396</th>\n",
       "      <td>J100006.81+012742.2</td>\n",
       "      <td>150.028381</td>\n",
       "      <td>1.461727</td>\n",
       "      <td>CCCC</td>\n",
       "      <td>12</td>\n",
       "      <td>0.5</td>\n",
       "      <td>1</td>\n",
       "      <td>0.594689</td>\n",
       "      <td>0.068031</td>\n",
       "      <td>0</td>\n",
       "      <td>1</td>\n",
       "      <td>0.500009</td>\n",
       "      <td>0.265081</td>\n",
       "      <td>0.018034</td>\n",
       "      <td>NaN</td>\n",
       "      <td>3.329</td>\n",
       "      <td>15.21</td>\n",
       "      <td>11.18</td>\n",
       "      <td>57.900002</td>\n",
       "      <td>21.25</td>\n",
       "      <td>16.145000</td>\n",
       "      <td>16.663000</td>\n",
       "      <td>18.598499</td>\n",
       "      <td>17.376400</td>\n",
       "      <td>16.280001</td>\n",
       "      <td>15.817700</td>\n",
       "      <td>15.579300</td>\n",
       "      <td>15.301000</td>\n",
       "      <td>15.141001</td>\n",
       "      <td>15.313001</td>\n",
       "      <td>16.670000</td>\n",
       "      <td>14.62</td>\n",
       "    </tr>\n",
       "    <tr>\n",
       "      <th>53556</th>\n",
       "      <td>J095739.24+023913.3</td>\n",
       "      <td>149.413513</td>\n",
       "      <td>2.653706</td>\n",
       "      <td>CCCC</td>\n",
       "      <td>12</td>\n",
       "      <td>0.5</td>\n",
       "      <td>1</td>\n",
       "      <td>0.689197</td>\n",
       "      <td>0.110400</td>\n",
       "      <td>0</td>\n",
       "      <td>1</td>\n",
       "      <td>0.500011</td>\n",
       "      <td>0.126438</td>\n",
       "      <td>0.013959</td>\n",
       "      <td>NaN</td>\n",
       "      <td>3.325</td>\n",
       "      <td>15.21</td>\n",
       "      <td>11.18</td>\n",
       "      <td>57.900002</td>\n",
       "      <td>21.25</td>\n",
       "      <td>16.566000</td>\n",
       "      <td>17.068001</td>\n",
       "      <td>19.299700</td>\n",
       "      <td>18.101500</td>\n",
       "      <td>16.875900</td>\n",
       "      <td>16.349199</td>\n",
       "      <td>16.083300</td>\n",
       "      <td>15.823999</td>\n",
       "      <td>15.643001</td>\n",
       "      <td>15.761001</td>\n",
       "      <td>16.670000</td>\n",
       "      <td>14.62</td>\n",
       "    </tr>\n",
       "    <tr>\n",
       "      <th>56871</th>\n",
       "      <td>J095921.17+021952.2</td>\n",
       "      <td>149.838196</td>\n",
       "      <td>2.331177</td>\n",
       "      <td>CCCC</td>\n",
       "      <td>12</td>\n",
       "      <td>0.5</td>\n",
       "      <td>1</td>\n",
       "      <td>0.734226</td>\n",
       "      <td>0.072744</td>\n",
       "      <td>0</td>\n",
       "      <td>1</td>\n",
       "      <td>0.500009</td>\n",
       "      <td>0.132948</td>\n",
       "      <td>0.009671</td>\n",
       "      <td>NaN</td>\n",
       "      <td>3.302</td>\n",
       "      <td>15.21</td>\n",
       "      <td>11.18</td>\n",
       "      <td>57.900002</td>\n",
       "      <td>21.25</td>\n",
       "      <td>16.472000</td>\n",
       "      <td>17.039000</td>\n",
       "      <td>18.823799</td>\n",
       "      <td>17.619801</td>\n",
       "      <td>16.577499</td>\n",
       "      <td>16.114599</td>\n",
       "      <td>15.880400</td>\n",
       "      <td>15.629000</td>\n",
       "      <td>15.424001</td>\n",
       "      <td>15.712001</td>\n",
       "      <td>16.670000</td>\n",
       "      <td>14.62</td>\n",
       "    </tr>\n",
       "    <tr>\n",
       "      <th>16887</th>\n",
       "      <td>J100034.71+015623.5</td>\n",
       "      <td>150.144623</td>\n",
       "      <td>1.939876</td>\n",
       "      <td>CCCC</td>\n",
       "      <td>12</td>\n",
       "      <td>0.5</td>\n",
       "      <td>1</td>\n",
       "      <td>0.612062</td>\n",
       "      <td>0.076243</td>\n",
       "      <td>0</td>\n",
       "      <td>1</td>\n",
       "      <td>0.500009</td>\n",
       "      <td>0.144217</td>\n",
       "      <td>0.010996</td>\n",
       "      <td>NaN</td>\n",
       "      <td>3.293</td>\n",
       "      <td>15.21</td>\n",
       "      <td>11.18</td>\n",
       "      <td>57.900002</td>\n",
       "      <td>21.25</td>\n",
       "      <td>16.337999</td>\n",
       "      <td>16.906000</td>\n",
       "      <td>18.968300</td>\n",
       "      <td>17.783400</td>\n",
       "      <td>16.610300</td>\n",
       "      <td>16.067499</td>\n",
       "      <td>15.829000</td>\n",
       "      <td>15.566999</td>\n",
       "      <td>15.309000</td>\n",
       "      <td>15.559000</td>\n",
       "      <td>16.670000</td>\n",
       "      <td>14.62</td>\n",
       "    </tr>\n",
       "    <tr>\n",
       "      <th>60740</th>\n",
       "      <td>J100249.16+014856.2</td>\n",
       "      <td>150.704849</td>\n",
       "      <td>1.815619</td>\n",
       "      <td>CCCC</td>\n",
       "      <td>12</td>\n",
       "      <td>0.5</td>\n",
       "      <td>1</td>\n",
       "      <td>0.858058</td>\n",
       "      <td>0.096026</td>\n",
       "      <td>0</td>\n",
       "      <td>1</td>\n",
       "      <td>0.500025</td>\n",
       "      <td>0.095402</td>\n",
       "      <td>0.009161</td>\n",
       "      <td>NaN</td>\n",
       "      <td>3.280</td>\n",
       "      <td>15.21</td>\n",
       "      <td>11.18</td>\n",
       "      <td>57.900002</td>\n",
       "      <td>21.25</td>\n",
       "      <td>17.063000</td>\n",
       "      <td>17.558001</td>\n",
       "      <td>19.855400</td>\n",
       "      <td>18.665600</td>\n",
       "      <td>17.384199</td>\n",
       "      <td>16.810400</td>\n",
       "      <td>16.521400</td>\n",
       "      <td>16.228001</td>\n",
       "      <td>16.073999</td>\n",
       "      <td>16.216999</td>\n",
       "      <td>16.670000</td>\n",
       "      <td>14.62</td>\n",
       "    </tr>\n",
       "  </tbody>\n",
       "</table>\n",
       "</div>"
      ],
      "text/plain": [
       "                      Name     RA_ICRS   DE_ICRS  TYPE  band_num  class  \\\n",
       "70328  J100211.65+022254.8  150.548523  2.381901  CCCC        12    0.5   \n",
       "17483  J100227.27+014503.5  150.613617  1.750984  CCCC         9    0.5   \n",
       "44605  J100000.91+014109.3  150.003799  1.685941  CCCC        12    0.5   \n",
       "13602  J100105.76+022821.3  150.274017  2.472603  CCCC        12    0.5   \n",
       "39570  J100059.68+021749.9  150.248657  2.297208  CCCC        12    0.5   \n",
       "65302  J100102.60+021708.6  150.260818  2.285752  CCCC        12    0.5   \n",
       "68963  J095730.10+013158.3  149.375443  1.532879  CCCC        12    0.5   \n",
       "48324  J100155.82+022730.8  150.482605  2.458584  CCCC        12    0.5   \n",
       "60676  J095759.83+022846.4  149.499298  2.479578  CCCC        12    0.5   \n",
       "36090  J100217.07+024101.6  150.571152  2.683792  CCCC        12    0.5   \n",
       "53396  J100006.81+012742.2  150.028381  1.461727  CCCC        12    0.5   \n",
       "53556  J095739.24+023913.3  149.413513  2.653706  CCCC        12    0.5   \n",
       "56871  J095921.17+021952.2  149.838196  2.331177  CCCC        12    0.5   \n",
       "16887  J100034.71+015623.5  150.144623  1.939876  CCCC        12    0.5   \n",
       "60740  J100249.16+014856.2  150.704849  1.815619  CCCC        12    0.5   \n",
       "\n",
       "       pred_class  Score_AGN  Prob_AGN  radio_detect  pred_radio  Score_radio  \\\n",
       "70328           1   0.811469  0.084557             0           1     0.500008   \n",
       "17483           1   0.561278  0.090462             0           1     0.500009   \n",
       "44605           1   0.640319  0.051274             0           1     0.500008   \n",
       "13602           1   0.833203  0.068404             0           1     0.500009   \n",
       "39570           1   0.595457  0.051413             0           1     0.500008   \n",
       "65302           1   0.802320  0.065251             0           1     0.500008   \n",
       "68963           1   0.707276  0.051386             0           1     0.500007   \n",
       "48324           1   0.889489  0.075952             0           1     0.500009   \n",
       "60676           1   0.787499  0.098014             0           1     0.500009   \n",
       "36090           1   0.868019  0.068531             0           1     0.500011   \n",
       "53396           1   0.594689  0.068031             0           1     0.500009   \n",
       "53556           1   0.689197  0.110400             0           1     0.500011   \n",
       "56871           1   0.734226  0.072744             0           1     0.500009   \n",
       "16887           1   0.612062  0.076243             0           1     0.500009   \n",
       "60740           1   0.858058  0.096026             0           1     0.500025   \n",
       "\n",
       "       Prob_radio  Prob_rAGN   Z  pred_Z  Total_flux_VLASS  Stotal_TGSS  \\\n",
       "70328    0.094345   0.007977 NaN   3.841             15.21        11.18   \n",
       "17483    0.271108   0.024525 NaN   3.665             15.21        11.18   \n",
       "44605    0.094689   0.004855 NaN   3.553             15.21        11.18   \n",
       "13602    0.349589   0.023913 NaN   3.529             15.21        11.18   \n",
       "39570    0.096661   0.004970 NaN   3.521             15.21        11.18   \n",
       "65302    0.118494   0.007732 NaN   3.510             15.21        11.18   \n",
       "68963    0.099214   0.005098 NaN   3.508             15.21        11.18   \n",
       "48324    0.139236   0.010575 NaN   3.497             15.21        11.18   \n",
       "60676    0.160116   0.015694 NaN   3.434             15.21        11.18   \n",
       "36090    0.119283   0.008175 NaN   3.382             15.21        11.18   \n",
       "53396    0.265081   0.018034 NaN   3.329             15.21        11.18   \n",
       "53556    0.126438   0.013959 NaN   3.325             15.21        11.18   \n",
       "56871    0.132948   0.009671 NaN   3.302             15.21        11.18   \n",
       "16887    0.144217   0.010996 NaN   3.293             15.21        11.18   \n",
       "60740    0.095402   0.009161 NaN   3.280             15.21        11.18   \n",
       "\n",
       "             FEP  Flux_COSMOSVLA3   W1mproPM   W2mproPM       gmag       rmag  \\\n",
       "70328  57.900002            21.25  16.993999  17.566999  19.678200  18.411600   \n",
       "17483  57.900002            21.25  18.618999  18.847000  20.737200  19.722300   \n",
       "44605  57.900002            21.25  16.896000  17.538000  18.577000  17.362400   \n",
       "13602  57.900002            21.25  16.097000  16.660999  18.503401  17.323099   \n",
       "39570  57.900002            21.25  16.857000  17.483000  18.490200  17.273500   \n",
       "65302  57.900002            21.25  16.764000  17.401001  19.051399  17.873899   \n",
       "68963  57.900002            21.25  16.816999  17.487000  18.276699  17.114000   \n",
       "48324  57.900002            21.25  16.423000  16.969999  18.903099  17.713499   \n",
       "60676  57.900002            21.25  16.589001  17.066999  19.608900  18.286200   \n",
       "36090  57.900002            21.25  16.684999  17.226999  19.035200  17.796301   \n",
       "53396  57.900002            21.25  16.145000  16.663000  18.598499  17.376400   \n",
       "53556  57.900002            21.25  16.566000  17.068001  19.299700  18.101500   \n",
       "56871  57.900002            21.25  16.472000  17.039000  18.823799  17.619801   \n",
       "16887  57.900002            21.25  16.337999  16.906000  18.968300  17.783400   \n",
       "60740  57.900002            21.25  17.063000  17.558001  19.855400  18.665600   \n",
       "\n",
       "            imag       zmag       ymag       Jmag       Hmag       Kmag  \\\n",
       "70328  17.223101  16.702900  16.453699  16.264000  16.035000  16.247999   \n",
       "17483  19.800301  19.554300  19.326401  17.450001  17.240000  16.590000   \n",
       "44605  16.702700  16.416901  16.253500  16.043001  15.828000  16.173000   \n",
       "13602  16.254900  15.773300  15.529400  15.296000  15.094001  15.303000   \n",
       "39570  16.659100  16.372700  16.210199  16.043001  15.795000  16.216000   \n",
       "65302  16.867300  16.430500  16.210300  16.048000  15.688001  15.973001   \n",
       "68963  16.519800  16.253201  16.111700  15.977000  15.727000  16.080999   \n",
       "48324  16.605499  16.128401  15.874400  15.665000  15.482000  15.656000   \n",
       "60676  16.934799  16.329000  16.053301  15.785000  15.673000  15.756001   \n",
       "36090  16.767401  16.325399  16.096100  15.868000  15.819000  15.998000   \n",
       "53396  16.280001  15.817700  15.579300  15.301000  15.141001  15.313001   \n",
       "53556  16.875900  16.349199  16.083300  15.823999  15.643001  15.761001   \n",
       "56871  16.577499  16.114599  15.880400  15.629000  15.424001  15.712001   \n",
       "16887  16.610300  16.067499  15.829000  15.566999  15.309000  15.559000   \n",
       "60740  17.384199  16.810400  16.521400  16.228001  16.073999  16.216999   \n",
       "\n",
       "           W3mag  W4mag  \n",
       "70328  16.670000  14.62  \n",
       "17483  16.641001  14.62  \n",
       "44605  16.670000  14.62  \n",
       "13602  16.670000  14.62  \n",
       "39570  16.670000  14.62  \n",
       "65302  16.670000  14.62  \n",
       "68963  16.670000  14.62  \n",
       "48324  16.670000  14.62  \n",
       "60676  16.670000  14.62  \n",
       "36090  16.670000  14.62  \n",
       "53396  16.670000  14.62  \n",
       "53556  16.670000  14.62  \n",
       "56871  16.670000  14.62  \n",
       "16887  16.670000  14.62  \n",
       "60740  16.670000  14.62  "
      ]
     },
     "metadata": {},
     "output_type": "display_data"
    }
   ],
   "source": [
    "display(full_catalog_df.loc[filter_high_z, cols_4_export].sort_values(by=['pred_Z'], ascending=False).head(15))"
   ]
  },
  {
   "cell_type": "code",
   "execution_count": 41,
   "metadata": {},
   "outputs": [],
   "source": [
    "if save_preds_flag:\n",
    "    full_catalog_df.loc[filter_high_z, cols_4_export].sort_values(by=['pred_Z'],\n",
    "     ascending=False).to_csv(gv.preds_path + f'predicted_rAGN_{used_area}.csv')"
   ]
  },
  {
   "cell_type": "markdown",
   "metadata": {},
   "source": [
    "---"
   ]
  },
  {
   "cell_type": "code",
   "execution_count": null,
   "metadata": {},
   "outputs": [],
   "source": []
  }
 ],
 "metadata": {
  "kernelspec": {
   "display_name": "Python 3 (ipykernel)",
   "language": "python",
   "name": "python3"
  },
  "language_info": {
   "codemirror_mode": {
    "name": "ipython",
    "version": 3
   },
   "file_extension": ".py",
   "mimetype": "text/x-python",
   "name": "python",
   "nbconvert_exporter": "python",
   "pygments_lexer": "ipython3",
   "version": "3.8.13"
  },
  "vscode": {
   "interpreter": {
    "hash": "1d7c94ac87c57432169d0bc24ce250f6f2e77b44a3b95192eb5ace62cff26777"
   }
  }
 },
 "nbformat": 4,
 "nbformat_minor": 4
}
