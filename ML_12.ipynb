{
 "cells": [
  {
   "cell_type": "markdown",
   "metadata": {},
   "source": [
    "# Pipeline for High-z Radio Galaxies 12: Application of full pipeline for prediction"
   ]
  },
  {
   "cell_type": "markdown",
   "metadata": {},
   "source": [
    "## Introduction"
   ]
  },
  {
   "cell_type": "markdown",
   "metadata": {},
   "source": [
    "In this file, three models will be applied consecutively in order to predict  \n",
    "the detection of Radio Galaxies (radio AGN) and their redshift.  \n",
    "\n",
    "In principle, this pipeline should be applied to data in Stripe 82. But  \n",
    "it can be used with any other suitable dataset."
   ]
  },
  {
   "cell_type": "code",
   "execution_count": 1,
   "metadata": {},
   "outputs": [],
   "source": [
    "%matplotlib inline\n",
    "# Static plots\n",
    "#%matplotlib ipympl\n",
    "# Interactive plots\n",
    "import numpy as np\n",
    "import matplotlib as mpl\n",
    "import matplotlib.cm as cm\n",
    "from matplotlib import ticker\n",
    "import matplotlib.pyplot as plt\n",
    "import matplotlib.colors as mcolors\n",
    "import matplotlib.patheffects as mpe\n",
    "import matplotlib.patches as mpatches\n",
    "from matplotlib.ticker import ScalarFormatter\n",
    "from mpl_toolkits.axes_grid1.inset_locator import inset_axes\n",
    "from astropy.visualization import LogStretch, PowerStretch\n",
    "from astropy.visualization.mpl_normalize import ImageNormalize\n",
    "from sklearn.preprocessing import MinMaxScaler\n",
    "from sklearn.metrics import ConfusionMatrixDisplay\n",
    "from sklearn.model_selection import train_test_split\n",
    "import sklearn.pipeline\n",
    "import colorcet as cc\n",
    "from pycaret import classification as pyc\n",
    "from pycaret import regression as pyr\n",
    "from pycaret.internal.tabular import _get_columns_to_stratify_by\n",
    "import pandas as pd\n",
    "import mpl_scatter_density\n",
    "# import schemdraw\n",
    "# from schemdraw import flow"
   ]
  },
  {
   "cell_type": "code",
   "execution_count": 2,
   "metadata": {},
   "outputs": [],
   "source": [
    "mpl.rcdefaults()"
   ]
  },
  {
   "cell_type": "markdown",
   "metadata": {},
   "source": [
    "Create path effects."
   ]
  },
  {
   "cell_type": "code",
   "execution_count": 3,
   "metadata": {
    "jupyter": {
     "source_hidden": true
    },
    "tags": []
   },
   "outputs": [],
   "source": [
    "pe1            = [mpe.Stroke(linewidth=5.0, foreground='black'),\n",
    "                  mpe.Stroke(foreground='white', alpha=1),\n",
    "                  mpe.Normal()]\n",
    "pe2            = [mpe.Stroke(linewidth=3.0, foreground='white'),\n",
    "                  mpe.Stroke(foreground='white', alpha=1),\n",
    "                  mpe.Normal()]"
   ]
  },
  {
   "cell_type": "markdown",
   "metadata": {},
   "source": [
    "Define specific metrics for redshift values."
   ]
  },
  {
   "cell_type": "code",
   "execution_count": 4,
   "metadata": {
    "jupyter": {
     "source_hidden": true
    },
    "tags": []
   },
   "outputs": [],
   "source": [
    "def sigma_mad(z_true, z_pred, **kwargs):\n",
    "    try:\n",
    "        med = np.nanmedian(np.abs(z_true - z_pred)).astype('float32')\n",
    "    except:\n",
    "        med = np.nanmedian(np.abs(z_true - z_pred))\n",
    "    return 1.48 * med"
   ]
  },
  {
   "cell_type": "code",
   "execution_count": 5,
   "metadata": {
    "jupyter": {
     "source_hidden": true
    },
    "tags": []
   },
   "outputs": [],
   "source": [
    "def sigma_nmad(z_true, z_pred, **kwargs):\n",
    "    dif  = (z_true - z_pred)\n",
    "    frac = dif / (1 + z_true).values\n",
    "    try:\n",
    "        med  = np.nanmedian(np.abs(frac)).astype('float32')\n",
    "    except:\n",
    "        med  = np.nanmedian(np.abs(frac))\n",
    "    return 1.48 * med"
   ]
  },
  {
   "cell_type": "code",
   "execution_count": 6,
   "metadata": {
    "jupyter": {
     "source_hidden": true
    },
    "tags": []
   },
   "outputs": [],
   "source": [
    "def sigma_z(z_true, z_pred, **kwargs):\n",
    "    dif = z_true - z_pred\n",
    "    ssq = np.sum(dif**2)\n",
    "    try:\n",
    "        rot = np.sqrt(ssq / len(z_true)).astype('float32')\n",
    "    except:\n",
    "        rot = np.sqrt(ssq / len(z_true))\n",
    "    return rot"
   ]
  },
  {
   "cell_type": "code",
   "execution_count": 7,
   "metadata": {
    "jupyter": {
     "source_hidden": true
    },
    "tags": []
   },
   "outputs": [],
   "source": [
    "def sigma_z_norm(z_true, z_pred, **kwargs):\n",
    "    dif = (z_true - z_pred) / (1 + z_true)\n",
    "    ssq = np.sum(dif**2)\n",
    "    try:\n",
    "        rot = np.sqrt(ssq / len(z_true)).astype('float32')\n",
    "    except:\n",
    "        rot = np.sqrt(ssq / len(z_true))\n",
    "    return rot"
   ]
  },
  {
   "cell_type": "code",
   "execution_count": 8,
   "metadata": {
    "jupyter": {
     "source_hidden": true
    },
    "tags": []
   },
   "outputs": [],
   "source": [
    "def outlier_frac(z_true, z_pred, **kwargs):\n",
    "    dif  = np.abs((z_true - z_pred) / (1 + z_true))\n",
    "    try:\n",
    "        siz  = np.sum(np.isfinite(dif)).astype('float32')\n",
    "        num  = np.sum(np.array(dif > 0.15)).astype('float32')\n",
    "    except:\n",
    "        siz  = np.sum(np.isfinite(dif))\n",
    "        num  = np.sum(np.array(dif > 0.15))\n",
    "    frac = num / siz\n",
    "    return frac"
   ]
  },
  {
   "cell_type": "markdown",
   "metadata": {},
   "source": [
    "Methods for Pycaret and saved models."
   ]
  },
  {
   "cell_type": "code",
   "execution_count": 9,
   "metadata": {
    "jupyter": {
     "source_hidden": true
    },
    "tags": []
   },
   "outputs": [],
   "source": [
    "def get_final_column_names(pycaret_pipeline, sample_df):\n",
    "    if isinstance(pycaret_pipeline, sklearn.pipeline.Pipeline):\n",
    "        for (name, method) in pycaret_pipeline.named_steps.items():\n",
    "            if method != 'passthrough' and name != 'trained_model':\n",
    "                print(f'Running {name}')\n",
    "                sample_df = method.transform(sample_df)\n",
    "        return sample_df.columns.tolist()\n",
    "    else:\n",
    "        try:\n",
    "            for (name, method) in pyr.get_config('prep_pipe').named_steps.items():\n",
    "                if method != 'passthrough' and name != 'trained_model':\n",
    "                    print(f'Running {name}')\n",
    "                    sample_df = method.transform(sample_df)\n",
    "        except:\n",
    "            for (name, method) in pyc.get_config('prep_pipe').named_steps.items():\n",
    "                if method != 'passthrough' and name != 'trained_model':\n",
    "                    print(f'Running {name}')\n",
    "                    sample_df = method.transform(sample_df)\n",
    "        return sample_df.columns.tolist()"
   ]
  },
  {
   "cell_type": "code",
   "execution_count": 10,
   "metadata": {
    "jupyter": {
     "source_hidden": true
    },
    "tags": []
   },
   "outputs": [],
   "source": [
    "def get_feature_importances_df(pycaret_pipeline, sample_df, n = 10):\n",
    "    \n",
    "    final_cols = get_final_column_names(pycaret_pipeline, sample_df)\n",
    "    \n",
    "    if isinstance(pycaret_pipeline, sklearn.pipeline.Pipeline):\n",
    "        try:\n",
    "            variables = pycaret_pipeline[\"trained_model\"].feature_importances_\n",
    "            \n",
    "        except:\n",
    "            variables = np.mean([\n",
    "                            tree.feature_importances_ for tree in pycaret_pipeline[\"trained_model\"].estimators_\n",
    "                if hasattr(tree, 'feature_importances_')\n",
    "                            ], axis=0)\n",
    "        \n",
    "        coef_df = pd.DataFrame({'Feature': final_cols, 'Importance': variables})\n",
    "        sorted_df = (\n",
    "            coef_df.sort_values(by='Importance', ascending=False)\n",
    "            .head(n)\n",
    "            .sort_values(by='Importance', ascending=True).reset_index(drop=True)\n",
    "        )\n",
    "    else:\n",
    "        try:\n",
    "            variables = pycaret_pipeline.feature_importances_\n",
    "            \n",
    "        except:\n",
    "            variables = np.mean([\n",
    "                            tree.feature_importances_ for tree in pycaret_pipeline.estimators_\n",
    "                if hasattr(tree, 'feature_importances_')\n",
    "                            ], axis=0)\n",
    "        \n",
    "        coef_df = pd.DataFrame({'Feature': final_cols, 'Importance': variables})\n",
    "        sorted_df = (\n",
    "            coef_df.sort_values(by='Importance', ascending=False)\n",
    "            .head(n)\n",
    "            .sort_values(by='Importance', ascending=True).reset_index(drop=True)\n",
    "        )\n",
    "    return sorted_df"
   ]
  },
  {
   "cell_type": "markdown",
   "metadata": {},
   "source": [
    "Methods for the use of values in Confusion Matrices."
   ]
  },
  {
   "cell_type": "code",
   "execution_count": 11,
   "metadata": {
    "jupyter": {
     "source_hidden": true
    }
   },
   "outputs": [],
   "source": [
    "def flatten_CM(cm_array):\n",
    "    try:\n",
    "        TN, FP, FN, TP = cm_array.flatten().astype('float32')\n",
    "    except:\n",
    "        TN, FP, FN, TP = cm_array.flatten()\n",
    "    return TN, FP, FN, TP"
   ]
  },
  {
   "cell_type": "code",
   "execution_count": 12,
   "metadata": {
    "jupyter": {
     "source_hidden": true
    },
    "tags": []
   },
   "outputs": [],
   "source": [
    "def MCC_from_CM(cm_array):  # Matthews correlation coefficient\n",
    "    TN, FP, FN, TP = flatten_CM(cm_array)\n",
    "    MCC = ((TP * TN) - (FP * FN)) / np.sqrt((TP + FP) * (TP + FN) * (TN + FP) * (TN + FN))\n",
    "    return MCC"
   ]
  },
  {
   "cell_type": "code",
   "execution_count": 13,
   "metadata": {
    "jupyter": {
     "source_hidden": true
    },
    "tags": []
   },
   "outputs": [],
   "source": [
    "def ACC_from_CM(cm_array):  # Accuracy\n",
    "    TN, FP, FN, TP = flatten_CM(cm_array)\n",
    "    ACC = (TP + TN) / (TP + TN + FP + FN)\n",
    "    return ACC"
   ]
  },
  {
   "cell_type": "code",
   "execution_count": 14,
   "metadata": {
    "jupyter": {
     "source_hidden": true
    },
    "tags": []
   },
   "outputs": [],
   "source": [
    "def F1_from_CM(cm_array):  # F-1 score\n",
    "    TN, FP, FN, TP = flatten_CM(cm_array)\n",
    "    F1 = 2 * TP / (2 * TP + FP + FN)\n",
    "    return F1"
   ]
  },
  {
   "cell_type": "code",
   "execution_count": 15,
   "metadata": {
    "jupyter": {
     "source_hidden": true
    },
    "tags": []
   },
   "outputs": [],
   "source": [
    "def Recall_from_CM(cm_array):  # Recall\n",
    "    TN, FP, FN, TP = flatten_CM(cm_array)\n",
    "    Recall = TP / (TP + FN)\n",
    "    return Recall"
   ]
  },
  {
   "cell_type": "markdown",
   "metadata": {},
   "source": [
    "Method to plot confusion matrix"
   ]
  },
  {
   "cell_type": "code",
   "execution_count": 16,
   "metadata": {
    "jupyter": {
     "source_hidden": true
    },
    "tags": []
   },
   "outputs": [],
   "source": [
    "def plot_conf_mat(confusion_matrix, title, axin, display_labels=['Non true', 'True'], cmap='cet_dimgray_r', show_clb=False, log_stretch=False):\n",
    "    disp = ConfusionMatrixDisplay(confusion_matrix=confusion_matrix, display_labels=display_labels)\n",
    "\n",
    "    min_val_colour = np.nanmin(confusion_matrix)\n",
    "    max_val_colour = np.nanmin(confusion_matrix)\n",
    "    \n",
    "    if log_stretch:\n",
    "        norm = ImageNormalize(stretch=LogStretch())\n",
    "    if not log_stretch:\n",
    "        norm = ImageNormalize(stretch=PowerStretch(0.35))\n",
    "\n",
    "    # NOTE: Fill all variables here with default values of the plot_confusion_matrix\n",
    "    disp_b = disp.plot(include_values=True, cmap=cm.get_cmap(cmap),\\\n",
    "             ax=axin, xticks_rotation='horizontal', values_format=',')\n",
    "\n",
    "    for text_val in disp_b.text_.flatten():\n",
    "        text_val.set_fontsize(28)\n",
    "    clb = plt.gca().images[-1].colorbar\n",
    "    clb.ax.tick_params(labelsize=14)\n",
    "    clb.ax.ticklabel_format(style='sci', scilimits=(0, 0))\n",
    "    clb.outline.set_linewidth(2.5)\n",
    "    clb.ax.set_ylabel('Elements in bin', size=14)\n",
    "    if not show_clb:\n",
    "        clb.remove()\n",
    "\n",
    "    # disp_b.im_.set_clim(1e2, 3e3)\n",
    "    disp_b.im_.norm = norm\n",
    "\n",
    "    axin.xaxis.get_label().set_fontsize(16)\n",
    "    axin.yaxis.get_label().set_fontsize(16)\n",
    "\n",
    "    axin.tick_params(axis='both', which='major', labelsize=14)\n",
    "\n",
    "    plt.setp(axin.spines.values(), linewidth=2.5)\n",
    "    plt.setp(axin.spines.values(), linewidth=2.5)\n",
    "    axin.set_title(title, fontsize=16)\n",
    "    plt.tight_layout()"
   ]
  },
  {
   "cell_type": "markdown",
   "metadata": {},
   "source": [
    "Method to plot predicted and true redshift values"
   ]
  },
  {
   "cell_type": "code",
   "execution_count": 17,
   "metadata": {
    "jupyter": {
     "source_hidden": true
    },
    "tags": []
   },
   "outputs": [],
   "source": [
    "def plot_redshift_compare(true_z, predicted_z, ax_pre, title=None, dpi=10, cmap='cet_linear_kryw_5_100_c64_r', show_clb=False, log_stretch=False):\n",
    "    if log_stretch:\n",
    "        norm = ImageNormalize(vmin=0., stretch=LogStretch())\n",
    "    if not log_stretch:\n",
    "        norm = ImageNormalize(vmin=0., stretch=PowerStretch(0.5))\n",
    "\n",
    "    filt_pair_z   = np.isfinite(true_z) & np.isfinite(predicted_z)\n",
    "    max_for_range = np.nanmax([np.nanmax(1 + true_z.loc[filt_pair_z]), np.nanmax(1 + predicted_z.loc[filt_pair_z])])\n",
    "\n",
    "    dens_1 = ax_pre.scatter_density((1 + true_z.sample(frac=1, random_state=seed)),\\\n",
    "            (1 + predicted_z.sample(frac=1, random_state=seed)),\\\n",
    "            cmap=plt.get_cmap(cmap), zorder=0, dpi=dpi, norm=norm, alpha=0.93)\n",
    "    \n",
    "    ax_pre.axline((2., 2.), (3., 3.), ls='--', marker=None, c='Gray', alpha=0.8, lw=3.0, zorder=20)\n",
    "    ax_pre.axline(xy1=(1., 1.15), xy2=(2., 2.3), ls='-.', marker=None, c='slateblue', alpha=0.6, lw=3.0, zorder=20)\n",
    "    ax_pre.axline(xy1=(1., 0.85), xy2=(2., 1.7), ls='-.', marker=None, c='slateblue', alpha=0.6, lw=3.0, zorder=20)\n",
    "\n",
    "    if show_clb:\n",
    "        clb = plt.colorbar(dens_1, extend='neither', norm=norm, ticks=ticker.MaxNLocator(integer=True))\n",
    "        clb.ax.tick_params(labelsize=14)\n",
    "        clb.outline.set_linewidth(2.5)\n",
    "        clb.ax.set_ylabel('Elements per pixel', size=16, path_effects=pe2)\n",
    "\n",
    "    # Inset axis with residuals\n",
    "    axins = inset_axes(ax_pre, width='35%', height='20%', loc=2)\n",
    "    res_z_z = (predicted_z - true_z) / (1 + true_z)\n",
    "    axins.hist(res_z_z, histtype='stepfilled', fc='grey', ec='k', bins=50, lw=2.5)\n",
    "    axins.axvline(x=np.nanpercentile(res_z_z, [15.9]), ls='--', lw=2.5, c='royalblue')\n",
    "    axins.axvline(x=np.nanpercentile(res_z_z, [84.1]), ls='--', lw=2.5, c='royalblue')\n",
    "    axins.set_xlabel('$\\Delta z / (1 + z_{\\mathrm{True}})$', fontsize=10)\n",
    "    axins.tick_params(labelleft=False, labelbottom=True)\n",
    "    axins.tick_params(which='both', top=True, right=True, direction='in')\n",
    "    axins.tick_params(axis='both', which='major', labelsize=10)\n",
    "    axins.tick_params(which='major', length=8, width=1.5)\n",
    "    axins.tick_params(which='minor', length=4, width=1.5)\n",
    "    plt.setp(axins.spines.values(), linewidth=2.5)\n",
    "    plt.setp(axins.spines.values(), linewidth=2.5)\n",
    "    axins.set_xlim(left=-0.9, right=0.9)\n",
    "    ##\n",
    "    ax_pre.set_xlabel('$1 + z_{\\mathrm{True}}$', fontsize=20)\n",
    "    ax_pre.set_ylabel('$1 + z_{\\mathrm{Predicted}}$', fontsize=20)\n",
    "    ax_pre.tick_params(which='both', top=True, right=True, direction='in')\n",
    "    ax_pre.tick_params(axis='both', which='minor', labelsize=14)\n",
    "    ax_pre.tick_params(which='major', length=8, width=1.5)\n",
    "    ax_pre.tick_params(which='minor', length=4, width=1.5)\n",
    "    # ax_pre.xaxis.set_major_locator(ticker.MaxNLocator(integer=True))\n",
    "    # ax_pre.yaxis.set_major_locator(ticker.MaxNLocator(integer=True))\n",
    "    ax_pre.xaxis.set_minor_formatter(ticker.ScalarFormatter(useMathText=False))\n",
    "    ax_pre.yaxis.set_minor_formatter(ticker.ScalarFormatter(useMathText=False))\n",
    "    plt.setp(ax_pre.spines.values(), linewidth=2.5)\n",
    "    plt.setp(ax_pre.spines.values(), linewidth=2.5)\n",
    "    ax_pre.set_xlim(left=1., right=np.ceil(max_for_range))\n",
    "    ax_pre.set_ylim(bottom=1., top=np.ceil(max_for_range))\n",
    "    ax_pre.set_title(title)\n",
    "    plt.tight_layout()"
   ]
  },
  {
   "cell_type": "markdown",
   "metadata": {},
   "source": [
    "---"
   ]
  },
  {
   "cell_type": "markdown",
   "metadata": {},
   "source": [
    "## Reading data"
   ]
  },
  {
   "cell_type": "code",
   "execution_count": 18,
   "metadata": {},
   "outputs": [],
   "source": [
    "cat_path            = '../../Catalogs/'  # relative path to the same directory"
   ]
  },
  {
   "cell_type": "markdown",
   "metadata": {
    "tags": []
   },
   "source": [
    "Flags."
   ]
  },
  {
   "cell_type": "code",
   "execution_count": 19,
   "metadata": {},
   "outputs": [],
   "source": [
    "save_plot_flag      = False\n",
    "load_models_flag    = True\n",
    "use_zeroth_model    = False  # Initial model to discriminate between star and non-star objects\n",
    "use_second_z_model  = False  # z >= 2.0\n",
    "use_third_z_model   = False  # z >= 3.0\n",
    "use_fourth_z_model  = True  # z >= 3.7 (with SMOGN), or, if needed, z >= 4.0\n",
    "compare_A17_flag    = True  # Compare with the results from Ananna et al., 2017"
   ]
  },
  {
   "cell_type": "code",
   "execution_count": 20,
   "metadata": {},
   "outputs": [],
   "source": [
    "used_area           = 'HETDEX'  # can be 'S82', 'HETDEX', 'COSMOS'\n",
    "use_val_HETDEX      = False  # Use only validation data from HETDEX"
   ]
  },
  {
   "cell_type": "code",
   "execution_count": 21,
   "metadata": {
    "jupyter": {
     "source_hidden": true
    }
   },
   "outputs": [],
   "source": [
    "if used_area != 'S82':\n",
    "    compare_A17_flag = False"
   ]
  },
  {
   "cell_type": "code",
   "execution_count": 22,
   "metadata": {
    "tags": []
   },
   "outputs": [],
   "source": [
    "file_S82            = 'CatWISE2020_S82_VLASS_VLAS82_PS1_GALEX_TGSS_XMM_2MASS_MILLIQUAS_7_4d_ALLWISE_SDSS_DR16_5sigma_imp.h5'\n",
    "file_HETDEX         = 'CatWISE2020_VLASS_LOFAR_PS1_GALEX_TGSS_XMM_2MASS_MILLIQUAS_7_4d_ALLWISE_LOLSS_SDSS_DR16_5sigma_imp.h5'\n",
    "file_COSMOS         = 'CatWISE2020_COSMOS_MILLIQUAS_7_4d_COSMOSVLA3_PS1_GALEX_TGSS_VLASS_XMM_2MASS_ALLWISE_SDSS_DR16_5sigma_imp.h5'\n",
    "file_S82_Ananna_17  = f'CatWISE2020_S82_VLASS_VLAS82_PS1_GALEX_TGSS_XMM_2MASS_MILLIQUAS_7_4d_ALLWISE_Ananna_17_zsp_5sigma_imp.h5'  # 204 objects\n",
    "\n",
    "file_name_dict      = {'S82': file_S82, 'HETDEX': file_HETDEX, 'COSMOS': file_COSMOS}\n",
    "file_name           = file_name_dict[used_area]"
   ]
  },
  {
   "cell_type": "code",
   "execution_count": 23,
   "metadata": {
    "jupyter": {
     "source_hidden": true
    },
    "tags": []
   },
   "outputs": [],
   "source": [
    "# feats_2_disc_S82    = ['objID', 'RA_MILLI', 'DEC_MILLI', 'X_ray_detect', 'Total_flux_VLASS',\\\n",
    "#                      'Fint_VLAS82', 'Stotal_TGSS', 'FEP', 'W1mag', 'W2mag']\n",
    "# feats_2_disc_HETDEX = ['objID', 'RA_MILLI', 'DEC_MILLI', 'X_ray_detect', 'Total_flux_VLASS',\\\n",
    "#                      'Sint_LOFAR', 'Stotal_TGSS', 'FEP', 'TotalFlux_LoLSS', 'W1mag', 'W2mag']\n",
    "# feats_2_disc_COSMOS = ['objID', 'RA_MILLI', 'DEC_MILLI', 'X_ray_detect', 'Total_flux_VLASS',\\\n",
    "#                      'Stotal_TGSS', 'FEP', 'Flux_COSMOSVLA3', 'W1mag', 'W2mag']\n",
    "\n",
    "feats_2_disc_S82    = ['RA_MILLI', 'DEC_MILLI', 'X_ray_detect', 'W1mag', 'W2mag']\n",
    "feats_2_disc_HETDEX = ['RA_MILLI', 'DEC_MILLI', 'X_ray_detect', 'W1mag', 'W2mag']\n",
    "feats_2_disc_COSMOS = ['RA_MILLI', 'DEC_MILLI', 'X_ray_detect', 'W1mag', 'W2mag']\n",
    "\n",
    "feats_2_disc        = {'S82': feats_2_disc_S82, 'HETDEX': feats_2_disc_HETDEX, 'COSMOS': feats_2_disc_COSMOS}\n",
    "features_2_discard  = feats_2_disc[used_area]"
   ]
  },
  {
   "cell_type": "code",
   "execution_count": 24,
   "metadata": {},
   "outputs": [],
   "source": [
    "full_catalog_df     = pd.read_hdf(cat_path + file_name, key='df').drop(columns=features_2_discard)"
   ]
  },
  {
   "cell_type": "code",
   "execution_count": 25,
   "metadata": {},
   "outputs": [],
   "source": [
    "full_catalog_df.loc[:, 'radio_detect'] = full_catalog_df.loc[:, 'radio_detect'].astype(int)"
   ]
  },
  {
   "cell_type": "markdown",
   "metadata": {},
   "source": [
    "Create features with class and combined redshift."
   ]
  },
  {
   "cell_type": "code",
   "execution_count": 26,
   "metadata": {},
   "outputs": [],
   "source": [
    "if use_zeroth_model:\n",
    "    full_catalog_df['is_str'] = np.array(full_catalog_df.loc[:, 'spCl'] == 'STAR  ').astype(int)"
   ]
  },
  {
   "cell_type": "code",
   "execution_count": 27,
   "metadata": {
    "jupyter": {
     "source_hidden": true
    }
   },
   "outputs": [],
   "source": [
    "full_catalog_df['class']            = full_catalog_df.loc[:, 'is_AGN'].copy()\n",
    "if use_zeroth_model:\n",
    "    filter_non_confirmed            = np.array(full_catalog_df.loc[:, 'is_AGN'] == 1) |\\\n",
    "                                      np.array(full_catalog_df.loc[:, 'is_gal'] == 1) |\\\n",
    "                                      np.array(full_catalog_df.loc[:, 'is_str'] == 1)\n",
    "    full_catalog_df.loc[np.array(full_catalog_df.loc[:, 'is_str'] == 1), 'class'] = 2\n",
    "elif not use_zeroth_model:\n",
    "    filter_non_confirmed            = np.array(full_catalog_df.loc[:, 'is_AGN'] == 1) |\\\n",
    "                                      np.array(full_catalog_df.loc[:, 'is_gal'] == 1)\n",
    "full_catalog_df.loc[~filter_non_confirmed, 'class'] = 0.5\n",
    "idx_non_Z                           = full_catalog_df.loc[:, 'Z'].where(full_catalog_df.loc[:, 'Z'] > 0).isna()\n",
    "full_catalog_df.loc[idx_non_Z, 'Z'] = full_catalog_df.loc[:, 'Z'].mask(idx_non_Z, full_catalog_df.loc[idx_non_Z, 'zsp'])"
   ]
  },
  {
   "cell_type": "markdown",
   "metadata": {},
   "source": [
    "Create column for detection as Radio AGN"
   ]
  },
  {
   "cell_type": "code",
   "execution_count": 28,
   "metadata": {},
   "outputs": [],
   "source": [
    "full_catalog_df['radio_AGN']        = np.array(full_catalog_df.loc[:, 'is_AGN'] == 1) & np.array(full_catalog_df.loc[:, 'radio_detect'] == 1)"
   ]
  },
  {
   "cell_type": "markdown",
   "metadata": {},
   "source": [
    "##### Random seed"
   ]
  },
  {
   "cell_type": "code",
   "execution_count": 29,
   "metadata": {},
   "outputs": [],
   "source": [
    "seed                                = 42"
   ]
  },
  {
   "cell_type": "markdown",
   "metadata": {},
   "source": [
    "---"
   ]
  },
  {
   "cell_type": "markdown",
   "metadata": {},
   "source": [
    "Split dataset if from HETDEX"
   ]
  },
  {
   "cell_type": "code",
   "execution_count": 30,
   "metadata": {
    "jupyter": {
     "source_hidden": true
    }
   },
   "outputs": [],
   "source": [
    "if used_area == 'HETDEX' and use_val_HETDEX:\n",
    "    full_catalog_df = full_catalog_df.loc[(full_catalog_df.loc[:, 'is_AGN'] == 1) | (full_catalog_df.loc[:, 'is_gal'] == 1)]\n",
    "    train_test_df, validation_df = train_test_split(full_catalog_df, test_size=0.2, random_state=seed, stratify=full_catalog_df.loc[:, 'class'])\n",
    "    # data_train_test_AGN_df = full_catalog_df.sample(frac=0.9, random_state=seed)  # Train + test sets\n",
    "    # data_validation_AGN_df = full_catalog_df.drop(data_train_test_AGN_df.index)  # Validation data\n",
    "    \n",
    "    print('Shape of used data')\n",
    "    print('-' * 40)\n",
    "    print(f'Full Dataset size: {full_catalog_df.shape}')\n",
    "    print(f'Data for Modeling (Train and Test): {train_test_df.shape}')\n",
    "    print(f'Unseen Data For Validation: {validation_df.shape}')\n",
    "    print('-' * 40)\n",
    "    full_catalog_df = validation_df"
   ]
  },
  {
   "cell_type": "markdown",
   "metadata": {},
   "source": [
    "Discard minor features."
   ]
  },
  {
   "cell_type": "code",
   "execution_count": 31,
   "metadata": {},
   "outputs": [],
   "source": [
    "full_catalog_df                     = full_catalog_df.drop(columns=['is_AGN', 'is_SDSS_gal', 'is_gal', 'zsp', 'spCl'])"
   ]
  },
  {
   "cell_type": "markdown",
   "metadata": {},
   "source": [
    "---"
   ]
  },
  {
   "cell_type": "markdown",
   "metadata": {},
   "source": [
    "### Load models"
   ]
  },
  {
   "cell_type": "code",
   "execution_count": 32,
   "metadata": {},
   "outputs": [
    {
     "name": "stdout",
     "output_type": "stream",
     "text": [
      "Transformation Pipeline and Model Successfully Loaded\n",
      "Transformation Pipeline and Model Successfully Loaded\n",
      "Transformation Pipeline and Model Successfully Loaded\n",
      "Transformation Pipeline and Model Successfully Loaded\n"
     ]
    }
   ],
   "source": [
    "if load_models_flag:\n",
    "    if use_zeroth_model:\n",
    "        star_clf        = pyc.load_model('models/classification_star_no_star_jun_30_2022')  # star/no-star model\n",
    "    AGN_gal_clf     = pyc.load_model('models/classification_AGN_galaxy_may_15_2022')\n",
    "    radio_det_clf   = pyc.load_model('models/classification_radio_detect_may_16_2022')\n",
    "    redshift_reg    = pyr.load_model('models/regression_z_may_17_2022')  # to use on full sample\n",
    "    if use_second_z_model:\n",
    "        redshift_reg_2  = pyr.load_model('models/regression_z_may_18_2022')  # to use on sources with predicted z >= 2\n",
    "    if use_third_z_model:\n",
    "        redshift_reg_3  = pyr.load_model('models/regression_z_may_30_2022')  # to use on sources with predicted z >= 3\n",
    "    if use_fourth_z_model:\n",
    "        # redshift_reg_4  = pyr.load_model('models/regression_z_may_31_2022')  # to use on sources with predicted z >= 3.7 (for z >= 4, regression_z_may_31_4_2022)\n",
    "        # redshift_reg_4  = pyr.load_model('models/regression_z_may_31_4_2022')  # to use on sources with predicted z >= 3.7 (for z >= 4, regression_z_may_31_4_2022)\n",
    "        redshift_reg_4  = pyr.load_model('models/regression_z_jun_01_2022')  # to use on sources with predicted z >= 3.7 used with SMOGN"
   ]
  },
  {
   "cell_type": "code",
   "execution_count": 33,
   "metadata": {},
   "outputs": [],
   "source": [
    "if use_zeroth_model:\n",
    "    threshold_star = 0.37441  # 0.5, 0.15688 from ROC AUC in train+test, 0.37441 from PR curve\n",
    "threshold_AGN   = 0.31117  # 0.5, 0.3094 from ROC AUC in train+test, 0.31117 from PR curve\n",
    "threshold_radio = 4.99972232e-01  # 0.5, 4.99972232e-01 from ROC AUC in train+test and PR curve"
   ]
  },
  {
   "cell_type": "code",
   "execution_count": 34,
   "metadata": {},
   "outputs": [],
   "source": [
    "if use_zeroth_model:  # we want no-star sources => label == 0\n",
    "    full_catalog_df = pyc.predict_model(star_clf, data=full_catalog_df, probability_threshold=threshold_star, raw_score=True, round=10)\n",
    "    full_catalog_df = full_catalog_df.drop(columns=['Score_1'])\n",
    "    full_catalog_df = full_catalog_df.rename(columns={'Label': 'pred_star', 'Score_0': 'Score_no_star'})\n",
    "    full_catalog_df.loc[:, 'Score_no_star'] = np.around(full_catalog_df.loc[:, 'Score_no_star'], decimals=7)\n",
    "elif not use_zeroth_model:\n",
    "    full_catalog_df['pred_star']     = 0\n",
    "    full_catalog_df['Score_no_star'] = 1"
   ]
  },
  {
   "cell_type": "code",
   "execution_count": 35,
   "metadata": {},
   "outputs": [],
   "source": [
    "full_catalog_df = pyc.predict_model(AGN_gal_clf, data=full_catalog_df, probability_threshold=threshold_AGN, raw_score=True, round=10)\n",
    "full_catalog_df = full_catalog_df.drop(columns=['Score_0'])\n",
    "full_catalog_df = full_catalog_df.rename(columns={'Label': 'pred_class', 'Score_1': 'Score_AGN'})\n",
    "full_catalog_df.loc[:, 'Score_AGN'] = np.around(full_catalog_df.loc[:, 'Score_AGN'], decimals=7)"
   ]
  },
  {
   "cell_type": "code",
   "execution_count": 36,
   "metadata": {},
   "outputs": [],
   "source": [
    "full_catalog_df = pyc.predict_model(radio_det_clf, data=full_catalog_df, probability_threshold=threshold_radio, raw_score=True, round=10)\n",
    "full_catalog_df = full_catalog_df.drop(columns=['Score_0'])\n",
    "full_catalog_df = full_catalog_df.rename(columns={'Label': 'pred_radio', 'Score_1': 'Score_radio'})\n",
    "full_catalog_df.loc[:, 'Score_radio'] = np.around(full_catalog_df.loc[:, 'Score_radio'], decimals=7)"
   ]
  },
  {
   "cell_type": "code",
   "execution_count": 37,
   "metadata": {},
   "outputs": [],
   "source": [
    "full_catalog_df = pyr.predict_model(redshift_reg, data=full_catalog_df, round=10)\n",
    "full_catalog_df = full_catalog_df.rename(columns={'Label': 'pred_Z'})\n",
    "full_catalog_df.loc[:, 'pred_Z'] = np.around(full_catalog_df.loc[:, 'pred_Z'], decimals=4)"
   ]
  },
  {
   "cell_type": "markdown",
   "metadata": {},
   "source": [
    "Scores before applying further z models"
   ]
  },
  {
   "cell_type": "code",
   "execution_count": 38,
   "metadata": {
    "jupyter": {
     "source_hidden": true
    }
   },
   "outputs": [],
   "source": [
    "if use_zeroth_model:\n",
    "    temp_filt_pred_nstr    = np.array(full_catalog_df.loc[:, 'pred_star'] == 0)  # filter for not being predicted as a star\n",
    "elif not use_zeroth_model:\n",
    "    temp_filt_pred_nstr    = np.ones_like(full_catalog_df.loc[:, 'class']).astype(bool)\n",
    "temp_filt_pred_rAGN        = np.array(full_catalog_df.loc[:, 'pred_class'] == 1) &\\\n",
    "                             np.array(full_catalog_df.loc[:, 'pred_radio'] == 1) &\\\n",
    "                             temp_filt_pred_nstr\n",
    "sigma_mad_early            = sigma_mad(full_catalog_df.loc[temp_filt_pred_rAGN, 'Z'],    full_catalog_df.loc[temp_filt_pred_rAGN, 'pred_Z'])\n",
    "sigma_nmad_early           = sigma_nmad(full_catalog_df.loc[temp_filt_pred_rAGN, 'Z'],   full_catalog_df.loc[temp_filt_pred_rAGN, 'pred_Z'])\n",
    "sigma_z_early              = sigma_z(full_catalog_df.loc[temp_filt_pred_rAGN, 'Z'],      full_catalog_df.loc[temp_filt_pred_rAGN, 'pred_Z'])\n",
    "sigma_z_norm_early         = sigma_z_norm(full_catalog_df.loc[temp_filt_pred_rAGN, 'Z'], full_catalog_df.loc[temp_filt_pred_rAGN, 'pred_Z'])\n",
    "out_frac_early             = outlier_frac(full_catalog_df.loc[temp_filt_pred_rAGN, 'Z'], full_catalog_df.loc[temp_filt_pred_rAGN, 'pred_Z'])"
   ]
  },
  {
   "cell_type": "code",
   "execution_count": 39,
   "metadata": {
    "jupyter": {
     "source_hidden": true
    }
   },
   "outputs": [],
   "source": [
    "temp_z_limit               = 3.7\n",
    "temp_filt_high_z_rAGN      = temp_filt_pred_rAGN * (full_catalog_df.loc[:, 'pred_Z'] >= temp_z_limit)\n",
    "sigma_mad_early_hiz        = sigma_mad(full_catalog_df.loc[temp_filt_high_z_rAGN, 'Z'],    full_catalog_df.loc[temp_filt_high_z_rAGN, 'pred_Z'])\n",
    "sigma_nmad_early_hiz       = sigma_nmad(full_catalog_df.loc[temp_filt_high_z_rAGN, 'Z'],   full_catalog_df.loc[temp_filt_high_z_rAGN, 'pred_Z'])\n",
    "sigma_z_early_hiz          = sigma_z(full_catalog_df.loc[temp_filt_high_z_rAGN, 'Z'],      full_catalog_df.loc[temp_filt_high_z_rAGN, 'pred_Z'])\n",
    "sigma_z_norm_early_hiz     = sigma_z_norm(full_catalog_df.loc[temp_filt_high_z_rAGN, 'Z'], full_catalog_df.loc[temp_filt_high_z_rAGN, 'pred_Z'])\n",
    "out_frac_early_hiz         = outlier_frac(full_catalog_df.loc[temp_filt_high_z_rAGN, 'Z'], full_catalog_df.loc[temp_filt_high_z_rAGN, 'pred_Z'])"
   ]
  },
  {
   "cell_type": "code",
   "execution_count": 40,
   "metadata": {
    "jupyter": {
     "source_hidden": true
    }
   },
   "outputs": [],
   "source": [
    "redshift_lim_a    = 2.0\n",
    "redshift_tol_a    = 0.0\n",
    "redshift_lim_b    = 3.0\n",
    "redshift_tol_b    = 0.0\n",
    "redshift_lim_c    = 3.7  # 3.7, 4.0\n",
    "redshift_tol_c    = 0.0\n",
    "if use_second_z_model:\n",
    "    full_catalog_df = pyr.predict_model(redshift_reg_2, data=full_catalog_df, round=10)\n",
    "    filter_pred_z   = full_catalog_df.loc[:, 'pred_Z'] >= (redshift_lim_a + redshift_tol_a)\n",
    "    full_catalog_df.loc[:, 'pred_Z'] = full_catalog_df.loc[:, 'pred_Z'].mask(filter_pred_z, full_catalog_df.loc[filter_pred_z, 'Label'])\n",
    "    full_catalog_df = full_catalog_df.drop(columns=['Label'])\n",
    "    full_catalog_df.loc[:, 'pred_Z'] = np.around(full_catalog_df.loc[:, 'pred_Z'], decimals=4)\n",
    "if use_third_z_model:\n",
    "    full_catalog_df = pyr.predict_model(redshift_reg_3, data=full_catalog_df, round=10)\n",
    "    filter_pred_z   = full_catalog_df.loc[:, 'pred_Z'] >= (redshift_lim_b + redshift_tol_b)\n",
    "    full_catalog_df.loc[:, 'pred_Z'] = full_catalog_df.loc[:, 'pred_Z'].mask(filter_pred_z, full_catalog_df.loc[filter_pred_z, 'Label'])\n",
    "    full_catalog_df = full_catalog_df.drop(columns=['Label'])\n",
    "    full_catalog_df.loc[:, 'pred_Z'] = np.around(full_catalog_df.loc[:, 'pred_Z'], decimals=4)\n",
    "if use_fourth_z_model:\n",
    "    full_catalog_df = pyr.predict_model(redshift_reg_4, data=full_catalog_df, round=10)\n",
    "    filter_pred_z   = full_catalog_df.loc[:, 'pred_Z'] >= (redshift_lim_c + redshift_tol_c)\n",
    "    full_catalog_df.loc[:, 'pred_Z'] = full_catalog_df.loc[:, 'pred_Z'].mask(filter_pred_z, full_catalog_df.loc[filter_pred_z, 'Label'])\n",
    "    full_catalog_df = full_catalog_df.drop(columns=['Label'])\n",
    "    full_catalog_df.loc[:, 'pred_Z'] = np.around(full_catalog_df.loc[:, 'pred_Z'], decimals=4)"
   ]
  },
  {
   "cell_type": "code",
   "execution_count": 41,
   "metadata": {
    "jupyter": {
     "source_hidden": true
    },
    "tags": []
   },
   "outputs": [
    {
     "data": {
      "image/png": "[encoded data removed]",
      "text/plain": [
       "<Figure size 600x500 with 3 Axes>"
      ]
     },
     "metadata": {},
     "output_type": "display_data"
    }
   ],
   "source": [
    "fig             = plt.figure(figsize=(6,5))\n",
    "ax1             = fig.add_subplot(111, projection='scatter_density', xscale='log', yscale='log')\n",
    "plot_redshift_compare(full_catalog_df.loc[:, 'Z'], full_catalog_df.loc[:, 'pred_Z'], ax_pre=ax1, title=None, dpi=10, show_clb=True, log_stretch=False)\n",
    "ax1.axvline(x=(1 + redshift_lim_a), ls='--', c='k', lw=2.5)\n",
    "ax1.axhline(y=(1 + redshift_lim_a), ls='--', c='k', lw=2.5)\n",
    "ax1.axvline(x=(1 + redshift_lim_c), ls='--', c='k', lw=2.5)\n",
    "ax1.axhline(y=(1 + redshift_lim_c), ls='--', c='k', lw=2.5)\n",
    "if use_second_z_model or use_third_z_model or use_fourth_z_model:\n",
    "    ax1.set_ylabel('$1 + z_{\\mathrm{Predicted}}^{\\mathrm{combined\\,models}}$', size=20)\n",
    "plt.show()"
   ]
  },
  {
   "cell_type": "code",
   "execution_count": 42,
   "metadata": {
    "jupyter": {
     "source_hidden": true
    }
   },
   "outputs": [],
   "source": [
    "full_catalog_df['pred_radio_AGN']     = np.array(full_catalog_df.loc[:, 'pred_star']  == 0) &\\\n",
    "                                        np.array(full_catalog_df.loc[:, 'pred_class'] == 1) &\\\n",
    "                                        np.array(full_catalog_df.loc[:, 'pred_radio'] == 1)\n",
    "full_catalog_df['Score_rAGN']         = full_catalog_df.loc[:, 'Score_no_star'] *\\\n",
    "                                        full_catalog_df.loc[:, 'Score_AGN'] *\\\n",
    "                                        full_catalog_df.loc[:, 'Score_radio']\n",
    "rad_score_scaler                      = MinMaxScaler()\n",
    "full_catalog_df['scaled_score_radio'] = rad_score_scaler.fit_transform(full_catalog_df.loc[:, 'Score_radio'].values.reshape(-1, 1))\n",
    "full_catalog_df['scaled_score_rAGN']  = full_catalog_df.loc[:, 'Score_AGN'] * full_catalog_df.loc[:, 'scaled_score_radio']"
   ]
  },
  {
   "cell_type": "code",
   "execution_count": 43,
   "metadata": {
    "jupyter": {
     "source_hidden": true
    }
   },
   "outputs": [
    {
     "data": {
      "text/html": [
       "<div>\n",
       "<style scoped>\n",
       "    .dataframe tbody tr th:only-of-type {\n",
       "        vertical-align: middle;\n",
       "    }\n",
       "\n",
       "    .dataframe tbody tr th {\n",
       "        vertical-align: top;\n",
       "    }\n",
       "\n",
       "    .dataframe thead th {\n",
       "        text-align: right;\n",
       "    }\n",
       "</style>\n",
       "<table border=\"1\" class=\"dataframe\">\n",
       "  <thead>\n",
       "    <tr style=\"text-align: right;\">\n",
       "      <th></th>\n",
       "      <th>class</th>\n",
       "      <th>pred_class</th>\n",
       "      <th>radio_detect</th>\n",
       "      <th>pred_radio</th>\n",
       "      <th>Z</th>\n",
       "      <th>pred_Z</th>\n",
       "    </tr>\n",
       "  </thead>\n",
       "  <tbody>\n",
       "    <tr>\n",
       "      <th>count</th>\n",
       "      <td>6.729647e+06</td>\n",
       "      <td>6.729647e+06</td>\n",
       "      <td>6.729647e+06</td>\n",
       "      <td>6.729647e+06</td>\n",
       "      <td>93071.000000</td>\n",
       "      <td>6.729647e+06</td>\n",
       "    </tr>\n",
       "    <tr>\n",
       "      <th>mean</th>\n",
       "      <td>4.981605e-01</td>\n",
       "      <td>7.137982e-01</td>\n",
       "      <td>5.133969e-02</td>\n",
       "      <td>2.015479e-01</td>\n",
       "      <td>0.771057</td>\n",
       "      <td>1.879171e+00</td>\n",
       "    </tr>\n",
       "    <tr>\n",
       "      <th>std</th>\n",
       "      <td>5.634398e-02</td>\n",
       "      <td>4.519849e-01</td>\n",
       "      <td>2.206897e-01</td>\n",
       "      <td>4.011563e-01</td>\n",
       "      <td>0.754876</td>\n",
       "      <td>6.714378e-01</td>\n",
       "    </tr>\n",
       "    <tr>\n",
       "      <th>min</th>\n",
       "      <td>0.000000e+00</td>\n",
       "      <td>0.000000e+00</td>\n",
       "      <td>0.000000e+00</td>\n",
       "      <td>0.000000e+00</td>\n",
       "      <td>-0.004490</td>\n",
       "      <td>4.020000e-02</td>\n",
       "    </tr>\n",
       "    <tr>\n",
       "      <th>25%</th>\n",
       "      <td>5.000000e-01</td>\n",
       "      <td>0.000000e+00</td>\n",
       "      <td>0.000000e+00</td>\n",
       "      <td>0.000000e+00</td>\n",
       "      <td>0.257255</td>\n",
       "      <td>1.727900e+00</td>\n",
       "    </tr>\n",
       "    <tr>\n",
       "      <th>50%</th>\n",
       "      <td>5.000000e-01</td>\n",
       "      <td>1.000000e+00</td>\n",
       "      <td>0.000000e+00</td>\n",
       "      <td>0.000000e+00</td>\n",
       "      <td>0.550640</td>\n",
       "      <td>2.064400e+00</td>\n",
       "    </tr>\n",
       "    <tr>\n",
       "      <th>75%</th>\n",
       "      <td>5.000000e-01</td>\n",
       "      <td>1.000000e+00</td>\n",
       "      <td>0.000000e+00</td>\n",
       "      <td>0.000000e+00</td>\n",
       "      <td>1.003000</td>\n",
       "      <td>2.147900e+00</td>\n",
       "    </tr>\n",
       "    <tr>\n",
       "      <th>max</th>\n",
       "      <td>1.000000e+00</td>\n",
       "      <td>1.000000e+00</td>\n",
       "      <td>1.000000e+00</td>\n",
       "      <td>1.000000e+00</td>\n",
       "      <td>7.028330</td>\n",
       "      <td>5.663000e+00</td>\n",
       "    </tr>\n",
       "  </tbody>\n",
       "</table>\n",
       "</div>"
      ],
      "text/plain": [
       "              class    pred_class  radio_detect    pred_radio             Z  \\\n",
       "count  6.729647e+06  6.729647e+06  6.729647e+06  6.729647e+06  93071.000000   \n",
       "mean   4.981605e-01  7.137982e-01  5.133969e-02  2.015479e-01      0.771057   \n",
       "std    5.634398e-02  4.519849e-01  2.206897e-01  4.011563e-01      0.754876   \n",
       "min    0.000000e+00  0.000000e+00  0.000000e+00  0.000000e+00     -0.004490   \n",
       "25%    5.000000e-01  0.000000e+00  0.000000e+00  0.000000e+00      0.257255   \n",
       "50%    5.000000e-01  1.000000e+00  0.000000e+00  0.000000e+00      0.550640   \n",
       "75%    5.000000e-01  1.000000e+00  0.000000e+00  0.000000e+00      1.003000   \n",
       "max    1.000000e+00  1.000000e+00  1.000000e+00  1.000000e+00      7.028330   \n",
       "\n",
       "             pred_Z  \n",
       "count  6.729647e+06  \n",
       "mean   1.879171e+00  \n",
       "std    6.714378e-01  \n",
       "min    4.020000e-02  \n",
       "25%    1.727900e+00  \n",
       "50%    2.064400e+00  \n",
       "75%    2.147900e+00  \n",
       "max    5.663000e+00  "
      ]
     },
     "execution_count": 43,
     "metadata": {},
     "output_type": "execute_result"
    }
   ],
   "source": [
    "displayed_cols = ['is_str', 'pred_star', 'class', 'pred_class', 'radio_detect', 'pred_radio', 'Z', 'pred_Z']\n",
    "if not use_zeroth_model:\n",
    "    displayed_cols.remove('is_str')\n",
    "    displayed_cols.remove('pred_star')\n",
    "full_catalog_df.loc[:, displayed_cols].describe()"
   ]
  },
  {
   "cell_type": "markdown",
   "metadata": {},
   "source": [
    "##### Include AGN detection criteria from literature"
   ]
  },
  {
   "cell_type": "code",
   "execution_count": 44,
   "metadata": {
    "jupyter": {
     "source_hidden": true
    }
   },
   "outputs": [],
   "source": [
    "full_catalog_df['M12_AGN'] = (np.array(full_catalog_df.loc[:, 'W1mproPM'] - full_catalog_df.loc[:, 'W2mproPM'] - 2.699 + 3.339 <\n",
    "                                      0.315 * (full_catalog_df.loc[:, 'W2mproPM'] - full_catalog_df.loc[:, 'W3mag'] - 3.339 + 5.174) + 0.791) &\n",
    "                              np.array(full_catalog_df.loc[:, 'W1mproPM'] - full_catalog_df.loc[:, 'W2mproPM'] - 2.699 + 3.339 >\n",
    "                                      0.315 * (full_catalog_df.loc[:, 'W2mproPM'] - full_catalog_df.loc[:, 'W3mag'] - 3.339 + 5.174) - 0.222) &\n",
    "                              np.array(full_catalog_df.loc[:, 'W1mproPM'] - full_catalog_df.loc[:, 'W2mproPM'] - 2.699 + 3.339 >\n",
    "                                      -3.172 * (full_catalog_df.loc[:, 'W2mproPM'] - full_catalog_df.loc[:, 'W3mag'] - 3.339 + 5.174) + 7.624)).astype(int)\n",
    "\n",
    "full_catalog_df['S12_AGN'] = np.array(full_catalog_df.loc[:, 'W1mproPM'] - full_catalog_df.loc[:, 'W2mproPM'] - 2.699 + 3.339 >= 0.8).astype(int)\n",
    "\n",
    "full_catalog_df['M16_AGN'] = (np.array(full_catalog_df.loc[:, 'W1mproPM'] - full_catalog_df.loc[:, 'W2mproPM'] - 2.699 + 3.339 > 0.5) &\n",
    "                              np.array(full_catalog_df.loc[:, 'W2mproPM'] - full_catalog_df.loc[:, 'W3mag'] - 3.339 + 5.174 < 4.4)).astype(int)\n",
    "\n",
    "full_catalog_df['B18_AGN'] = (np.array(full_catalog_df.loc[:, 'W1mproPM'] - full_catalog_df.loc[:, 'W2mproPM'] - 2.699 + 3.339 > 0.5) &\n",
    "                              np.array(full_catalog_df.loc[:, 'W2mproPM'] - full_catalog_df.loc[:, 'W3mag'] - 3.339 + 5.174 > 2.2) &\n",
    "                              np.array(full_catalog_df.loc[:, 'W1mproPM'] - full_catalog_df.loc[:, 'W2mproPM'] - 2.699 + 3.339 >\n",
    "                                      2 * (full_catalog_df.loc[:, 'W2mproPM'] - full_catalog_df.loc[:, 'W3mag'] - 3.339 + 5.174) - 8.9)).astype(int)"
   ]
  },
  {
   "cell_type": "markdown",
   "metadata": {},
   "source": [
    "Obtain intermediate metrics"
   ]
  },
  {
   "cell_type": "code",
   "execution_count": 45,
   "metadata": {
    "jupyter": {
     "source_hidden": true
    }
   },
   "outputs": [],
   "source": [
    "filter_radio_AGN_t      = np.array(full_catalog_df.loc[:, 'class'] == 1) & np.array(full_catalog_df.loc[:, 'radio_detect'] == 1)\n",
    "filter_gal_AGN_t        = np.array(full_catalog_df.loc[:, 'class'] == 0) | np.array(full_catalog_df.loc[:, 'class'] == 1)\n",
    "filter_str_gal_AGN_t    = np.array(full_catalog_df.loc[:, 'class'] == 0) |\\\n",
    "                          np.array(full_catalog_df.loc[:, 'class'] == 1) |\\\n",
    "                          np.array(full_catalog_df.loc[:, 'class'] == 2)\n",
    "total_size              = len(full_catalog_df)\n",
    "filter_AGN_t            = np.array(full_catalog_df.loc[:, 'class'] == 1)\n",
    "num_str_t               = np.sum(np.array(full_catalog_df.loc[:, 'class'] == 2))\n",
    "num_AGN_t               = np.sum(filter_AGN_t)\n",
    "num_gal_t               = np.sum(np.array(full_catalog_df.loc[:, 'class'] == 0))\n",
    "num_str_t               = np.sum(np.array(full_catalog_df.loc[:, 'is_str'] == 1))\n",
    "num_radio_t             = np.sum(np.array(full_catalog_df.loc[:, 'radio_detect'] == 1))\n",
    "num_radio_AGN_t         = np.sum(filter_radio_AGN_t)"
   ]
  },
  {
   "cell_type": "code",
   "execution_count": 46,
   "metadata": {
    "jupyter": {
     "source_hidden": true
    }
   },
   "outputs": [],
   "source": [
    "# filter_radio_AGN_p      = np.array(full_catalog_df.loc[:, 'Score_AGN']          >= threshold_AGN) &\\\n",
    "#                             np.array(full_catalog_df.loc[:, 'Score_radio']      >= threshold_radio)\n",
    "if use_zeroth_model:\n",
    "    filter_non_str_p      = np.array(full_catalog_df.loc[:, 'pred_star'] == 0)\n",
    "elif not use_zeroth_model:\n",
    "    filter_non_str_p      = np.ones_like(full_catalog_df.loc[:, 'class']).astype(bool)\n",
    "filter_radio_AGN_p        = full_catalog_df['pred_radio_AGN']\n",
    "filt_hiz_rAGN_p           = filter_radio_AGN_p * np.array(full_catalog_df.loc[:, 'pred_Z'] >= redshift_lim_c)\n",
    "filter_AGN_p              = np.array(full_catalog_df.loc[:, 'pred_class'] == 1) & filter_non_str_p\n",
    "filter_radio_p            = np.array(full_catalog_df.loc[:, 'pred_radio'] == 1)\n",
    "filt_new_rAGN_p           = filter_radio_AGN_p & np.array(full_catalog_df.loc[:, 'radio_AGN'] == 0)\n",
    "num_AGN_p                 = np.sum(filter_AGN_p)\n",
    "num_gal_p                 = np.sum(np.array(full_catalog_df.loc[:, 'pred_class'] == 0) & filter_non_str_p)\n",
    "num_radio_p               = np.sum(filter_radio_p)\n",
    "num_radio_AGN_p           = np.sum(filter_radio_AGN_p)\n",
    "num_rAGN_MQC_p            = np.sum(filter_radio_AGN_p & np.array(full_catalog_df.loc[:, 'class'] == 1))\n",
    "num_rAGN_gal_p            = np.sum(filter_radio_AGN_p & np.array(full_catalog_df.loc[:, 'class'] == 0))\n",
    "num_rAGN_str_p            = np.sum(filter_radio_AGN_p & np.array(full_catalog_df.loc[:, 'is_str'] == 1))\n",
    "num_rAGN_rad_p            = np.sum(filter_radio_AGN_p & np.array(full_catalog_df.loc[:, 'radio_detect'] == 1))\n",
    "num_new_rAGN_p            = np.sum(filter_radio_AGN_p) - np.sum(filter_radio_AGN_t)"
   ]
  },
  {
   "cell_type": "markdown",
   "metadata": {},
   "source": [
    "Confusion matrix for Star/not-star classification on confirmed sources (AGN + Galaxies + Stars)"
   ]
  },
  {
   "cell_type": "code",
   "execution_count": 47,
   "metadata": {
    "jupyter": {
     "source_hidden": true
    }
   },
   "outputs": [],
   "source": [
    "if use_zeroth_model:\n",
    "    cm_str = np.array([[np.sum(np.array(full_catalog_df.loc[:, 'is_str'] == 0) & np.array(full_catalog_df.loc[:, 'pred_star'] == 0)),\\\n",
    "                        np.sum(np.array(full_catalog_df.loc[:, 'is_str'] == 0) & np.array(full_catalog_df.loc[:, 'pred_star'] == 1))],\\\n",
    "                       [np.sum(np.array(full_catalog_df.loc[:, 'is_str'] == 1) & np.array(full_catalog_df.loc[:, 'pred_star'] == 0)),\\\n",
    "                        np.sum(np.array(full_catalog_df.loc[:, 'is_str'] == 1) & np.array(full_catalog_df.loc[:, 'pred_star'] == 1))]])"
   ]
  },
  {
   "cell_type": "markdown",
   "metadata": {},
   "source": [
    "Confusion matrix for AGN prediction on confirmed sources (AGN/galaxies). Including initial prediction of not being star."
   ]
  },
  {
   "cell_type": "code",
   "execution_count": 48,
   "metadata": {
    "jupyter": {
     "source_hidden": true
    },
    "tags": []
   },
   "outputs": [],
   "source": [
    "tmp_filt_AGN = filter_non_str_p * filter_gal_AGN_t\n",
    "cm_AGN = np.array([[np.sum(np.array(full_catalog_df.loc[tmp_filt_AGN, 'class'] == 0) & np.array(full_catalog_df.loc[tmp_filt_AGN, 'pred_class'] == 0)),\\\n",
    "                    np.sum(np.array(full_catalog_df.loc[tmp_filt_AGN, 'class'] == 0) & np.array(full_catalog_df.loc[tmp_filt_AGN, 'pred_class'] == 1))],\\\n",
    "                   [np.sum(np.array(full_catalog_df.loc[tmp_filt_AGN, 'class'] == 1) & np.array(full_catalog_df.loc[tmp_filt_AGN, 'pred_class'] == 0)),\\\n",
    "                    np.sum(np.array(full_catalog_df.loc[tmp_filt_AGN, 'class'] == 1) & np.array(full_catalog_df.loc[tmp_filt_AGN, 'pred_class'] == 1))]])"
   ]
  },
  {
   "cell_type": "markdown",
   "metadata": {},
   "source": [
    "Confusion matrix for AGN prediction on all sources (AGN/galaxies + unknown [stars])"
   ]
  },
  {
   "cell_type": "code",
   "execution_count": 49,
   "metadata": {
    "jupyter": {
     "source_hidden": true
    },
    "tags": []
   },
   "outputs": [],
   "source": [
    "cm_AGN_large = np.array([[np.sum(np.array(full_catalog_df.loc[:, 'class'] == 0)    & np.array(full_catalog_df.loc[:, 'pred_class'] == 0) & filter_non_str_p),\\\n",
    "                          np.sum(np.array(full_catalog_df.loc[:, 'class'] == 0)    & np.array(full_catalog_df.loc[:, 'pred_class'] == 0.5)),\\\n",
    "                          np.sum(np.array(full_catalog_df.loc[:, 'class'] == 0)    & np.array(full_catalog_df.loc[:, 'pred_class'] == 1) & filter_non_str_p)],\\\n",
    "                         [np.sum((np.array(full_catalog_df.loc[:, 'class'] == 0.5) | np.array(full_catalog_df.loc[:, 'class'] == 2) | ~filter_non_str_p)     & np.array(full_catalog_df.loc[:, 'pred_class'] == 0)),\\\n",
    "                          np.sum((np.array(full_catalog_df.loc[:, 'class'] == 0.5) | np.array(full_catalog_df.loc[:, 'class'] == 2) | ~filter_non_str_p)     & np.array(full_catalog_df.loc[:, 'pred_class'] == 0.5)),\\\n",
    "                          np.sum((np.array(full_catalog_df.loc[:, 'class'] == 0.5) | np.array(full_catalog_df.loc[:, 'class'] == 2) | ~filter_non_str_p)     & np.array(full_catalog_df.loc[:, 'pred_class'] == 1))],\\\n",
    "                         [np.sum(np.array(full_catalog_df.loc[:, 'class'] == 1)    & np.array(full_catalog_df.loc[:, 'pred_class'] == 0) & filter_non_str_p),\\\n",
    "                          np.sum(np.array(full_catalog_df.loc[:, 'class'] == 1)    & np.array(full_catalog_df.loc[:, 'pred_class'] == 0.5)),\\\n",
    "                          np.sum(np.array(full_catalog_df.loc[:, 'class'] == 1)    & np.array(full_catalog_df.loc[:, 'pred_class'] == 1) & filter_non_str_p)]])"
   ]
  },
  {
   "cell_type": "markdown",
   "metadata": {},
   "source": [
    "Confusion matrices from literature AGN criteria."
   ]
  },
  {
   "cell_type": "code",
   "execution_count": 50,
   "metadata": {
    "jupyter": {
     "source_hidden": true
    }
   },
   "outputs": [],
   "source": [
    "cm_AGN_S12 = np.array([[np.sum(np.array(full_catalog_df.loc[filter_non_str_p, 'class'] == 0) & np.array(full_catalog_df.loc[filter_non_str_p, 'S12_AGN'] == 0)),\\\n",
    "             np.sum(np.array(full_catalog_df.loc[filter_non_str_p, 'class'] == 0) & np.array(full_catalog_df.loc[filter_non_str_p, 'S12_AGN'] == 1))],\\\n",
    "            [np.sum(np.array(full_catalog_df.loc[filter_non_str_p, 'class'] == 1) & np.array(full_catalog_df.loc[filter_non_str_p, 'S12_AGN'] == 0)),\\\n",
    "             np.sum(np.array(full_catalog_df.loc[filter_non_str_p, 'class'] == 1) & np.array(full_catalog_df.loc[filter_non_str_p, 'S12_AGN'] == 1))]])\n",
    "\n",
    "cm_AGN_M12 = np.array([[np.sum(np.array(full_catalog_df.loc[filter_non_str_p, 'class'] == 0) & np.array(full_catalog_df.loc[filter_non_str_p, 'M12_AGN'] == 0)),\\\n",
    "             np.sum(np.array(full_catalog_df.loc[filter_non_str_p, 'class'] == 0) & np.array(full_catalog_df.loc[filter_non_str_p, 'M12_AGN'] == 1))],\\\n",
    "            [np.sum(np.array(full_catalog_df.loc[filter_non_str_p, 'class'] == 1) & np.array(full_catalog_df.loc[filter_non_str_p, 'M12_AGN'] == 0)),\\\n",
    "             np.sum(np.array(full_catalog_df.loc[filter_non_str_p, 'class'] == 1) & np.array(full_catalog_df.loc[filter_non_str_p, 'M12_AGN'] == 1))]])\n",
    "\n",
    "cm_AGN_M16 = np.array([[np.sum(np.array(full_catalog_df.loc[filter_non_str_p, 'class'] == 0) & np.array(full_catalog_df.loc[filter_non_str_p, 'M16_AGN'] == 0)),\\\n",
    "             np.sum(np.array(full_catalog_df.loc[filter_non_str_p, 'class'] == 0) & np.array(full_catalog_df.loc[filter_non_str_p, 'M16_AGN'] == 1))],\\\n",
    "            [np.sum(np.array(full_catalog_df.loc[filter_non_str_p, 'class'] == 1) & np.array(full_catalog_df.loc[filter_non_str_p, 'M16_AGN'] == 0)),\\\n",
    "             np.sum(np.array(full_catalog_df.loc[filter_non_str_p, 'class'] == 1) & np.array(full_catalog_df.loc[filter_non_str_p, 'M16_AGN'] == 1))]])\n",
    "\n",
    "cm_AGN_B18 = np.array([[np.sum(np.array(full_catalog_df.loc[filter_non_str_p, 'class'] == 0) & np.array(full_catalog_df.loc[filter_non_str_p, 'B18_AGN'] == 0)),\\\n",
    "             np.sum(np.array(full_catalog_df.loc[filter_non_str_p, 'class'] == 0) & np.array(full_catalog_df.loc[filter_non_str_p, 'B18_AGN'] == 1))],\\\n",
    "            [np.sum(np.array(full_catalog_df.loc[filter_non_str_p, 'class'] == 1) & np.array(full_catalog_df.loc[filter_non_str_p, 'B18_AGN'] == 0)),\\\n",
    "             np.sum(np.array(full_catalog_df.loc[filter_non_str_p, 'class'] == 1) & np.array(full_catalog_df.loc[filter_non_str_p, 'B18_AGN'] == 1))]])"
   ]
  },
  {
   "cell_type": "markdown",
   "metadata": {},
   "source": [
    "Confusion matrix for radio detection prediction on all sources (AGN/galaxies + unknown)"
   ]
  },
  {
   "cell_type": "code",
   "execution_count": 51,
   "metadata": {
    "jupyter": {
     "source_hidden": true
    },
    "tags": []
   },
   "outputs": [],
   "source": [
    "cm_radio = np.array([[np.sum(np.array(full_catalog_df.loc[filter_AGN_p, 'radio_detect'] == 0) &\\\n",
    "                             np.array(full_catalog_df.loc[filter_AGN_p, 'pred_radio']   == 0)),\\\n",
    "                      np.sum(np.array(full_catalog_df.loc[filter_AGN_p, 'radio_detect'] == 0) &\\\n",
    "                             np.array(full_catalog_df.loc[filter_AGN_p, 'pred_radio']   == 1))],\\\n",
    "                     [np.sum(np.array(full_catalog_df.loc[filter_AGN_p, 'radio_detect'] == 1) &\\\n",
    "                             np.array(full_catalog_df.loc[filter_AGN_p, 'pred_radio']   == 0)),\\\n",
    "                      np.sum(np.array(full_catalog_df.loc[filter_AGN_p, 'radio_detect'] == 1) &\\\n",
    "                             np.array(full_catalog_df.loc[filter_AGN_p, 'pred_radio']   == 1))]])"
   ]
  },
  {
   "cell_type": "markdown",
   "metadata": {},
   "source": [
    "Confusion matrix for radio detection prediction on confirmed sources (AGN/galaxies/stars)"
   ]
  },
  {
   "cell_type": "code",
   "execution_count": 52,
   "metadata": {
    "jupyter": {
     "source_hidden": true
    },
    "tags": []
   },
   "outputs": [],
   "source": [
    "cm_radio_conf = np.array([[np.sum(np.array(full_catalog_df.loc[filter_AGN_p & filter_str_gal_AGN_t, 'radio_detect'] == 0) &\\\n",
    "                                  np.array(full_catalog_df.loc[filter_AGN_p & filter_str_gal_AGN_t, 'pred_radio']   == 0)),\\\n",
    "                           np.sum(np.array(full_catalog_df.loc[filter_AGN_p & filter_str_gal_AGN_t, 'radio_detect'] == 0) &\\\n",
    "                                  np.array(full_catalog_df.loc[filter_AGN_p & filter_str_gal_AGN_t, 'pred_radio']   == 1))],\\\n",
    "                          [np.sum(np.array(full_catalog_df.loc[filter_AGN_p & filter_str_gal_AGN_t, 'radio_detect'] == 1) &\\\n",
    "                                  np.array(full_catalog_df.loc[filter_AGN_p & filter_str_gal_AGN_t, 'pred_radio']   == 0)),\\\n",
    "                           np.sum(np.array(full_catalog_df.loc[filter_AGN_p & filter_str_gal_AGN_t, 'radio_detect'] == 1) &\\\n",
    "                                  np.array(full_catalog_df.loc[filter_AGN_p & filter_str_gal_AGN_t, 'pred_radio']   == 1))]])"
   ]
  },
  {
   "cell_type": "markdown",
   "metadata": {},
   "source": [
    "Confusion matrix for radio AGN prediction on all sources (AGN/galaxies + unknown)"
   ]
  },
  {
   "cell_type": "code",
   "execution_count": 53,
   "metadata": {
    "jupyter": {
     "source_hidden": true
    }
   },
   "outputs": [],
   "source": [
    "cm_radio_AGN = np.array([[np.sum(np.array(full_catalog_df['radio_AGN'] == 0) & np.array(full_catalog_df['pred_radio_AGN'] == 0)),\\\n",
    "                          np.sum(np.array(full_catalog_df['radio_AGN'] == 0) & np.array(full_catalog_df['pred_radio_AGN'] == 1))],\\\n",
    "                         [np.sum(np.array(full_catalog_df['radio_AGN'] == 1) & np.array(full_catalog_df['pred_radio_AGN'] == 0)),\\\n",
    "                          np.sum(np.array(full_catalog_df['radio_AGN'] == 1) & np.array(full_catalog_df['pred_radio_AGN'] == 1))]])"
   ]
  },
  {
   "cell_type": "markdown",
   "metadata": {},
   "source": [
    "Confusion matrix for radio AGN prediction on confirmed sources (AGN/galaxies/stars)"
   ]
  },
  {
   "cell_type": "code",
   "execution_count": 54,
   "metadata": {
    "jupyter": {
     "source_hidden": true
    }
   },
   "outputs": [],
   "source": [
    "cm_radio_AGN_conf = np.array([[np.sum(np.array(full_catalog_df.loc[filter_str_gal_AGN_t, 'radio_AGN'] == 0) &\\\n",
    "                                      np.array(full_catalog_df.loc[filter_str_gal_AGN_t,'pred_radio_AGN'] == 0)),\\\n",
    "                               np.sum(np.array(full_catalog_df.loc[filter_str_gal_AGN_t, 'radio_AGN'] == 0) &\\\n",
    "                                      np.array(full_catalog_df.loc[filter_str_gal_AGN_t,'pred_radio_AGN'] == 1))],\\\n",
    "                              [np.sum(np.array(full_catalog_df.loc[filter_str_gal_AGN_t, 'radio_AGN'] == 1) &\\\n",
    "                                      np.array(full_catalog_df.loc[filter_str_gal_AGN_t,'pred_radio_AGN'] == 0)),\\\n",
    "                               np.sum(np.array(full_catalog_df.loc[filter_str_gal_AGN_t, 'radio_AGN'] == 1) &\\\n",
    "                                      np.array(full_catalog_df.loc[filter_str_gal_AGN_t,'pred_radio_AGN'] == 1))]])"
   ]
  },
  {
   "cell_type": "code",
   "execution_count": 55,
   "metadata": {
    "jupyter": {
     "source_hidden": true
    },
    "tags": []
   },
   "outputs": [],
   "source": [
    "sigma_mad_field            = sigma_mad(full_catalog_df.loc[filter_radio_AGN_p, 'Z'],    full_catalog_df.loc[filter_radio_AGN_p, 'pred_Z'])\n",
    "sigma_nmad_field           = sigma_nmad(full_catalog_df.loc[filter_radio_AGN_p, 'Z'],   full_catalog_df.loc[filter_radio_AGN_p, 'pred_Z'])\n",
    "sigma_z_field              = sigma_z(full_catalog_df.loc[filter_radio_AGN_p, 'Z'],      full_catalog_df.loc[filter_radio_AGN_p, 'pred_Z'])\n",
    "sigma_z_norm_field         = sigma_z_norm(full_catalog_df.loc[filter_radio_AGN_p, 'Z'], full_catalog_df.loc[filter_radio_AGN_p, 'pred_Z'])\n",
    "out_frac_field             = outlier_frac(full_catalog_df.loc[filter_radio_AGN_p, 'Z'], full_catalog_df.loc[filter_radio_AGN_p, 'pred_Z'])"
   ]
  },
  {
   "cell_type": "code",
   "execution_count": 56,
   "metadata": {
    "jupyter": {
     "source_hidden": true
    },
    "tags": []
   },
   "outputs": [],
   "source": [
    "temp_z_limit               = 3.7\n",
    "filt_high_z_rAGN_p         = filter_radio_AGN_p * (full_catalog_df.loc[:, 'pred_Z'] >= temp_z_limit)\n",
    "sigma_mad_field_hiz        = sigma_mad(full_catalog_df.loc[filt_high_z_rAGN_p, 'Z'],    full_catalog_df.loc[filt_high_z_rAGN_p, 'pred_Z'])\n",
    "sigma_nmad_field_hiz       = sigma_nmad(full_catalog_df.loc[filt_high_z_rAGN_p, 'Z'],   full_catalog_df.loc[filt_high_z_rAGN_p, 'pred_Z'])\n",
    "sigma_z_field_hiz          = sigma_z(full_catalog_df.loc[filt_high_z_rAGN_p, 'Z'],      full_catalog_df.loc[filt_high_z_rAGN_p, 'pred_Z'])\n",
    "sigma_z_norm_field_hiz     = sigma_z_norm(full_catalog_df.loc[filt_high_z_rAGN_p, 'Z'], full_catalog_df.loc[filt_high_z_rAGN_p, 'pred_Z'])\n",
    "out_frac_field_hiz         = outlier_frac(full_catalog_df.loc[filt_high_z_rAGN_p, 'Z'], full_catalog_df.loc[filt_high_z_rAGN_p, 'pred_Z'])"
   ]
  },
  {
   "cell_type": "markdown",
   "metadata": {},
   "source": [
    "Plot histograms for scores."
   ]
  },
  {
   "cell_type": "code",
   "execution_count": 57,
   "metadata": {
    "jupyter": {
     "source_hidden": true
    },
    "tags": []
   },
   "outputs": [
    {
     "data": {
      "image/png": "[encoded data removed]",
      "text/plain": [
       "<Figure size 700x500 with 1 Axes>"
      ]
     },
     "metadata": {},
     "output_type": "display_data"
    }
   ],
   "source": [
    "fig             = plt.figure(figsize=(7,5.0))\n",
    "ax1             = fig.add_subplot(111, xscale='linear', yscale='log')\n",
    "\n",
    "min_score  = np.nanmin(full_catalog_df.loc[:, 'Score_AGN'])\n",
    "max_score  = np.nanmax(full_catalog_df.loc[:, 'Score_AGN'])\n",
    "score_bins = np.linspace(min_score, max_score, 30)\n",
    "\n",
    "sample_size = np.sum(np.isfinite(full_catalog_df.loc[:, 'Score_AGN']))\n",
    "\n",
    "ax1.hist(full_catalog_df.loc[:, 'Score_AGN'], bins=score_bins, histtype='stepfilled', ec='k',\\\n",
    "         lw=3.5, color=cm.get_cmap('cet_gray')(0.8), alpha=1.0, label=f'Full {used_area} sample\\nN={sample_size:,}')\n",
    "\n",
    "ax1.axvline(x=0.5, ls='--', c='k', lw=2.5)\n",
    "    \n",
    "ax1.tick_params(which='both', top=True, right=True, direction='in')\n",
    "ax1.tick_params(axis='both', which='major', labelsize=14)\n",
    "ax1.tick_params(which='major', length=8, width=1.5)\n",
    "ax1.tick_params(which='minor', length=4, width=1.5)\n",
    "ax1.set_xlabel('AGN/Galaxy class score', size=20)\n",
    "ax1.set_ylabel('Frequency', size=20)\n",
    "plt.setp(ax1.spines.values(), linewidth=3.5)\n",
    "plt.setp(ax1.spines.values(), linewidth=3.5)\n",
    "plt.legend(loc=1, fontsize=14)\n",
    "plt.grid(False)\n",
    "#ax1.set_aspect('equal', 'box')\n",
    "fig.tight_layout()\n",
    "if save_plot_flag:\n",
    "    plt.savefig(f'plots/hist_predicted_AGN_scores_{used_area}.pdf', bbox_inches='tight')\n",
    "plt.show()"
   ]
  },
  {
   "cell_type": "code",
   "execution_count": 58,
   "metadata": {
    "jupyter": {
     "source_hidden": true
    },
    "tags": []
   },
   "outputs": [
    {
     "data": {
      "image/png": "[encoded data removed]",
      "text/plain": [
       "<Figure size 700x500 with 1 Axes>"
      ]
     },
     "metadata": {},
     "output_type": "display_data"
    }
   ],
   "source": [
    "fig             = plt.figure(figsize=(7,5.0))\n",
    "ax1             = fig.add_subplot(111, xscale='linear', yscale='log')\n",
    "\n",
    "min_score       = np.nanmin(full_catalog_df.loc[:, 'Score_radio'])\n",
    "max_score       = np.nanmax(full_catalog_df.loc[:, 'Score_radio'])\n",
    "score_bins      = np.linspace(min_score, max_score, 30)\n",
    "\n",
    "sample_size_gal = np.sum(np.isfinite(full_catalog_df.loc[np.array(full_catalog_df.loc[:, 'class'] == 0), 'Score_radio']))\n",
    "sample_size_AGN = np.sum(np.isfinite(full_catalog_df.loc[np.array(full_catalog_df.loc[:, 'class'] == 1), 'Score_radio']))\n",
    "\n",
    "ax1.hist(full_catalog_df.loc[np.array(full_catalog_df.loc[:, 'class'] == 0), 'Score_radio'], bins=score_bins,\\\n",
    "         histtype='stepfilled', ec='k', lw=3.5, color=cm.get_cmap('cet_gray')(0.9), alpha=0.9,\\\n",
    "         label=f'True class: Galaxy\\nN={sample_size_gal:,}', zorder=np.ceil((sample_size_AGN/sample_size_gal)))\n",
    "ax1.hist(full_catalog_df.loc[np.array(full_catalog_df.loc[:, 'class'] == 1), 'Score_radio'], bins=score_bins,\\\n",
    "         histtype='stepfilled', ec='k', lw=3.5, color=cm.get_cmap('cet_gray')(0.7), alpha=0.9,\\\n",
    "         label=f'True class: AGN\\nN={sample_size_AGN:,}', zorder=np.ceil((sample_size_gal/sample_size_AGN)))\n",
    "\n",
    "ax1.axvline(x=0.5, ls='--', c='k', lw=2.5, zorder=10)\n",
    "    \n",
    "ax1.tick_params(which='both', top=True, right=True, direction='in')\n",
    "ax1.tick_params(axis='both', which='major', labelsize=14)\n",
    "ax1.tick_params(which='major', length=8, width=1.5)\n",
    "ax1.tick_params(which='minor', length=4, width=1.5)\n",
    "ax1.set_xlabel('Radio detection score', size=20)\n",
    "ax1.set_ylabel('Frequency', size=20)\n",
    "plt.setp(ax1.spines.values(), linewidth=3.5)\n",
    "plt.setp(ax1.spines.values(), linewidth=3.5)\n",
    "plt.legend(loc=1, fontsize=14)\n",
    "plt.grid(False)\n",
    "fig.tight_layout()\n",
    "#ax1.set_aspect('equal', 'box')\n",
    "if save_plot_flag:\n",
    "    plt.savefig(f'plots/hist_predicted_radio_scores_true_class_{used_area}.pdf', bbox_inches='tight')\n",
    "plt.show()"
   ]
  },
  {
   "cell_type": "code",
   "execution_count": 59,
   "metadata": {
    "jupyter": {
     "source_hidden": true
    },
    "tags": []
   },
   "outputs": [
    {
     "data": {
      "image/png": "[encoded data removed]",
      "text/plain": [
       "<Figure size 700x500 with 1 Axes>"
      ]
     },
     "metadata": {},
     "output_type": "display_data"
    }
   ],
   "source": [
    "fig             = plt.figure(figsize=(7,5.0))\n",
    "ax1             = fig.add_subplot(111, xscale='linear', yscale='log')\n",
    "\n",
    "min_score       = np.nanmin(full_catalog_df.loc[:, 'Score_radio'])\n",
    "max_score       = np.nanmax(full_catalog_df.loc[:, 'Score_radio'])\n",
    "score_bins      = np.linspace(min_score, max_score, 30)\n",
    "\n",
    "sample_size_gal = np.sum(np.isfinite(full_catalog_df.loc[np.array(full_catalog_df.loc[:, 'Score_AGN'] < threshold_AGN), 'Score_radio']))\n",
    "sample_size_AGN = np.sum(np.isfinite(full_catalog_df.loc[np.array(full_catalog_df.loc[:, 'Score_AGN'] >= threshold_AGN), 'Score_radio']))\n",
    "\n",
    "ax1.hist(full_catalog_df.loc[np.array(full_catalog_df.loc[:, 'Score_AGN'] < threshold_AGN), 'Score_radio'],\\\n",
    "         bins=score_bins, histtype='stepfilled', ec='k', lw=3.5, color=cm.get_cmap('cet_gray')(0.9), alpha=0.9,\\\n",
    "         label=f'Predicted class: Galaxy\\nN={sample_size_gal:,}', zorder=np.ceil((sample_size_AGN/sample_size_gal)))\n",
    "ax1.hist(full_catalog_df.loc[np.array(full_catalog_df.loc[:, 'Score_AGN'] >= threshold_AGN), 'Score_radio'],\\\n",
    "         bins=score_bins, histtype='stepfilled', ec='k', lw=3.5, color=cm.get_cmap('cet_gray')(0.7), alpha=0.9,\\\n",
    "         label=f'Predicted class: AGN\\nN={sample_size_AGN:,}', zorder=np.ceil((sample_size_gal/sample_size_AGN)))\n",
    "\n",
    "ax1.axvline(x=0.5, ls='--', c='k', lw=2.5, zorder=9)\n",
    "    \n",
    "ax1.tick_params(which='both', top=True, right=True, direction='in')\n",
    "ax1.tick_params(axis='both', which='major', labelsize=14)\n",
    "ax1.tick_params(which='major', length=8, width=1.5)\n",
    "ax1.tick_params(which='minor', length=4, width=1.5)\n",
    "ax1.set_xlabel('Radio detection score', size=20)\n",
    "ax1.set_ylabel('Frequency', size=20)\n",
    "plt.setp(ax1.spines.values(), linewidth=3.5)\n",
    "plt.setp(ax1.spines.values(), linewidth=3.5)\n",
    "plt.legend(loc=1, fontsize=14)\n",
    "plt.grid(False)\n",
    "#ax1.set_aspect('equal', 'box')\n",
    "fig.tight_layout()\n",
    "if save_plot_flag:\n",
    "    plt.savefig(f'plots/hist_predicted_radio_scores_predicted_class_{used_area}.pdf', bbox_inches='tight')\n",
    "plt.show()"
   ]
  },
  {
   "cell_type": "markdown",
   "metadata": {},
   "source": [
    "Plot histograms for predicted and original redshifts."
   ]
  },
  {
   "cell_type": "code",
   "execution_count": 60,
   "metadata": {
    "jupyter": {
     "source_hidden": true
    },
    "tags": []
   },
   "outputs": [
    {
     "data": {
      "image/png": "[encoded data removed]",
      "text/plain": [
       "<Figure size 700x500 with 1 Axes>"
      ]
     },
     "metadata": {},
     "output_type": "display_data"
    }
   ],
   "source": [
    "fig             = plt.figure(figsize=(7,5.0))\n",
    "ax1             = fig.add_subplot(111, xscale='linear', yscale='log')\n",
    "\n",
    "min_score       = np.nanmin(full_catalog_df.loc[:, 'Z'])\n",
    "max_score       = np.nanmax(full_catalog_df.loc[:, 'Z'])\n",
    "score_bins      = np.linspace(min_score, max_score, 30)\n",
    "\n",
    "sample_size_gal = np.sum(np.isfinite(full_catalog_df.loc[np.array(full_catalog_df.loc[:, 'class'] == 0), 'Z']))\n",
    "sample_size_AGN = np.sum(np.isfinite(full_catalog_df.loc[np.array(full_catalog_df.loc[:, 'class'] == 1), 'Z']))\n",
    "\n",
    "ax1.hist(full_catalog_df.loc[np.array(full_catalog_df.loc[:, 'class'] == 0), 'Z'], bins=score_bins,\\\n",
    "         histtype='stepfilled', ec='k', lw=3.5, color=cm.get_cmap('cet_gray')(0.9), alpha=0.9,\\\n",
    "         label=f'True class: Galaxy\\nN={sample_size_gal:,}', zorder=np.ceil((sample_size_AGN/sample_size_gal)))\n",
    "ax1.hist(full_catalog_df.loc[np.array(full_catalog_df.loc[:, 'class'] == 1), 'Z'], bins=score_bins,\\\n",
    "         histtype='stepfilled', ec='k', lw=3.5, color=cm.get_cmap('cet_gray')(0.7), alpha=0.9,\\\n",
    "         label=f'True class: AGN\\nN={sample_size_AGN:,}', zorder=np.ceil((sample_size_gal/sample_size_AGN)))\n",
    "    \n",
    "ax1.tick_params(which='both', top=True, right=True, direction='in')\n",
    "ax1.tick_params(axis='both', which='major', labelsize=14)\n",
    "ax1.tick_params(which='major', length=8, width=1.5)\n",
    "ax1.tick_params(which='minor', length=4, width=1.5)\n",
    "ax1.set_xlabel('Original redshift', size=20)\n",
    "ax1.set_ylabel('Frequency', size=20)\n",
    "plt.setp(ax1.spines.values(), linewidth=3.5)\n",
    "plt.setp(ax1.spines.values(), linewidth=3.5)\n",
    "plt.legend(loc=1, fontsize=14)\n",
    "plt.grid(False)\n",
    "#ax1.set_aspect('equal', 'box')\n",
    "fig.tight_layout()\n",
    "if save_plot_flag:\n",
    "    plt.savefig(f'plots/hist_original_redshift_true_class_{used_area}.pdf', bbox_inches='tight')\n",
    "plt.show()"
   ]
  },
  {
   "cell_type": "code",
   "execution_count": 61,
   "metadata": {
    "jupyter": {
     "source_hidden": true
    },
    "tags": []
   },
   "outputs": [
    {
     "data": {
      "image/png": "[encoded data removed]",
      "text/plain": [
       "<Figure size 700x500 with 1 Axes>"
      ]
     },
     "metadata": {},
     "output_type": "display_data"
    }
   ],
   "source": [
    "fig             = plt.figure(figsize=(7,5.0))\n",
    "ax1             = fig.add_subplot(111, xscale='linear', yscale='log')\n",
    "\n",
    "min_score       = np.nanmin(full_catalog_df.loc[:, 'Z'])\n",
    "max_score       = np.nanmax(full_catalog_df.loc[:, 'Z'])\n",
    "score_bins      = np.linspace(min_score, max_score, 30)\n",
    "\n",
    "sample_size_gal = np.sum(np.isfinite(full_catalog_df.loc[np.array(full_catalog_df.loc[:, 'Score_AGN'] <  threshold_AGN), 'Z']))\n",
    "sample_size_AGN = np.sum(np.isfinite(full_catalog_df.loc[np.array(full_catalog_df.loc[:, 'Score_AGN'] >= threshold_AGN), 'Z']))\n",
    "\n",
    "ax1.hist(full_catalog_df.loc[np.array(full_catalog_df.loc[:, 'Score_AGN'] < threshold_AGN), 'Z'],\\\n",
    "         bins=score_bins, histtype='stepfilled', ec='k', lw=3.5, color=cm.get_cmap('cet_gray')(0.9), alpha=0.9,\\\n",
    "         label=f'Predicted class: Galaxy\\nN={sample_size_gal:,}', zorder=np.ceil((sample_size_AGN/sample_size_gal)))\n",
    "ax1.hist(full_catalog_df.loc[np.array(full_catalog_df.loc[:, 'Score_AGN'] >= threshold_AGN), 'Z'],\\\n",
    "         bins=score_bins, histtype='stepfilled', ec='k', lw=3.5, color=cm.get_cmap('cet_gray')(0.7), alpha=0.9,\\\n",
    "         label=f'Predicted class: AGN\\nN={sample_size_AGN:,}', zorder=np.ceil((sample_size_gal/sample_size_AGN)))\n",
    "    \n",
    "ax1.tick_params(which='both', top=True, right=True, direction='in')\n",
    "ax1.tick_params(axis='both', which='major', labelsize=14)\n",
    "ax1.tick_params(which='major', length=8, width=1.5)\n",
    "ax1.tick_params(which='minor', length=4, width=1.5)\n",
    "ax1.set_xlabel('Original redshift', size=20)\n",
    "ax1.set_ylabel('Frequency', size=20)\n",
    "plt.setp(ax1.spines.values(), linewidth=3.5)\n",
    "plt.setp(ax1.spines.values(), linewidth=3.5)\n",
    "plt.legend(loc=1, fontsize=14)\n",
    "plt.grid(False)\n",
    "#ax1.set_aspect('equal', 'box')\n",
    "fig.tight_layout()\n",
    "if save_plot_flag:\n",
    "    plt.savefig(f'plots/hist_true_redshift_predicted_class_{used_area}.pdf', bbox_inches='tight')\n",
    "plt.show()"
   ]
  },
  {
   "cell_type": "code",
   "execution_count": 62,
   "metadata": {
    "jupyter": {
     "source_hidden": true
    },
    "tags": []
   },
   "outputs": [
    {
     "data": {
      "image/png": "[encoded data removed]",
      "text/plain": [
       "<Figure size 700x500 with 1 Axes>"
      ]
     },
     "metadata": {},
     "output_type": "display_data"
    }
   ],
   "source": [
    "fig             = plt.figure(figsize=(7,5.0))\n",
    "ax1             = fig.add_subplot(111, xscale='linear', yscale='log')\n",
    "\n",
    "min_score       = np.nanmin(full_catalog_df.loc[:, 'pred_Z'])\n",
    "max_score       = np.nanmax(full_catalog_df.loc[:, 'pred_Z'])\n",
    "score_bins      = np.linspace(min_score, max_score, 30)\n",
    "\n",
    "sample_size_gal = np.sum(np.isfinite(full_catalog_df.loc[np.array(full_catalog_df.loc[:, 'class'] == 0), 'pred_Z']))\n",
    "sample_size_AGN = np.sum(np.isfinite(full_catalog_df.loc[np.array(full_catalog_df.loc[:, 'class'] == 1), 'pred_Z']))\n",
    "\n",
    "ax1.hist(full_catalog_df.loc[np.array(full_catalog_df.loc[:, 'class'] == 0), 'pred_Z'], bins=score_bins,\\\n",
    "         histtype='stepfilled', ec='k', lw=3.5, color=cm.get_cmap('cet_gray')(0.9), alpha=0.9,\\\n",
    "         label=f'True class: Galaxy\\nN={sample_size_gal:,}', zorder=np.ceil((sample_size_AGN/sample_size_gal)))\n",
    "ax1.hist(full_catalog_df.loc[np.array(full_catalog_df.loc[:, 'class'] == 1), 'pred_Z'], bins=score_bins,\\\n",
    "         histtype='stepfilled', ec='k', lw=3.5, color=cm.get_cmap('cet_gray')(0.7), alpha=0.9,\\\n",
    "         label=f'True class: AGN\\nN={sample_size_AGN:,}', zorder=np.ceil((sample_size_gal/sample_size_AGN)))\n",
    "    \n",
    "ax1.tick_params(which='both', top=True, right=True, direction='in')\n",
    "ax1.tick_params(axis='both', which='major', labelsize=14)\n",
    "ax1.tick_params(which='major', length=8, width=1.5)\n",
    "ax1.tick_params(which='minor', length=4, width=1.5)\n",
    "ax1.set_xlabel('Predicted redshift', size=20)\n",
    "ax1.set_ylabel('Frequency', size=20)\n",
    "plt.setp(ax1.spines.values(), linewidth=3.5)\n",
    "plt.setp(ax1.spines.values(), linewidth=3.5)\n",
    "plt.legend(loc=1, fontsize=14)\n",
    "plt.grid(False)\n",
    "#ax1.set_aspect('equal', 'box')\n",
    "fig.tight_layout()\n",
    "if save_plot_flag:\n",
    "    plt.savefig(f'plots/hist_predicted_redshift_true_class_{used_area}.pdf', bbox_inches='tight')\n",
    "plt.show()"
   ]
  },
  {
   "cell_type": "code",
   "execution_count": 63,
   "metadata": {
    "jupyter": {
     "source_hidden": true
    },
    "tags": []
   },
   "outputs": [
    {
     "data": {
      "image/png": "[encoded data removed]",
      "text/plain": [
       "<Figure size 700x500 with 1 Axes>"
      ]
     },
     "metadata": {},
     "output_type": "display_data"
    }
   ],
   "source": [
    "fig             = plt.figure(figsize=(7,5.0))\n",
    "ax1             = fig.add_subplot(111, xscale='linear', yscale='log')\n",
    "\n",
    "min_score       = np.nanmin(full_catalog_df.loc[:, 'pred_Z'])\n",
    "max_score       = np.nanmax(full_catalog_df.loc[:, 'pred_Z'])\n",
    "score_bins      = np.linspace(min_score, max_score, 30)\n",
    "\n",
    "sample_size_gal = np.sum(np.isfinite(full_catalog_df.loc[np.array(full_catalog_df.loc[:, 'Score_AGN'] < threshold_AGN), 'pred_Z']))\n",
    "sample_size_AGN = np.sum(np.isfinite(full_catalog_df.loc[np.array(full_catalog_df.loc[:, 'Score_AGN'] >= threshold_AGN), 'pred_Z']))\n",
    "\n",
    "ax1.hist(full_catalog_df.loc[np.array(full_catalog_df.loc[:, 'Score_AGN'] < threshold_AGN), 'pred_Z'],\\\n",
    "         bins=score_bins, histtype='stepfilled', ec='k', lw=3.5, color=cm.get_cmap('cet_gray')(0.9), alpha=0.9,\\\n",
    "         label=f'Predicted class: Galaxy\\nN={sample_size_gal:,}', zorder=np.ceil((sample_size_AGN/sample_size_gal)))\n",
    "ax1.hist(full_catalog_df.loc[np.array(full_catalog_df.loc[:, 'Score_AGN'] >= threshold_AGN), 'pred_Z'],\\\n",
    "         bins=score_bins, histtype='stepfilled', ec='k', lw=3.5, color=cm.get_cmap('cet_gray')(0.7), alpha=0.9,\\\n",
    "         label=f'Predicted class: AGN\\nN={sample_size_AGN:,}', zorder=np.ceil((sample_size_gal/sample_size_AGN)))\n",
    "    \n",
    "ax1.tick_params(which='both', top=True, right=True, direction='in')\n",
    "ax1.tick_params(axis='both', which='major', labelsize=14)\n",
    "ax1.tick_params(which='major', length=8, width=1.5)\n",
    "ax1.tick_params(which='minor', length=4, width=1.5)\n",
    "ax1.set_xlabel('Predicted redshift', size=20)\n",
    "ax1.set_ylabel('Frequency', size=20)\n",
    "plt.setp(ax1.spines.values(), linewidth=3.5)\n",
    "plt.setp(ax1.spines.values(), linewidth=3.5)\n",
    "plt.legend(loc=1, fontsize=14)\n",
    "plt.grid(False)\n",
    "#ax1.set_aspect('equal', 'box')\n",
    "fig.tight_layout()\n",
    "if save_plot_flag:\n",
    "    plt.savefig(f'plots/hist_predicted_redshift_predicted_class_{used_area}.pdf', bbox_inches='tight')\n",
    "plt.show()"
   ]
  },
  {
   "cell_type": "markdown",
   "metadata": {},
   "source": [
    "### Select sources predicted to be Radio AGN"
   ]
  },
  {
   "cell_type": "code",
   "execution_count": 64,
   "metadata": {
    "jupyter": {
     "source_hidden": true
    }
   },
   "outputs": [
    {
     "data": {
      "text/html": [
       "<div>\n",
       "<style scoped>\n",
       "    .dataframe tbody tr th:only-of-type {\n",
       "        vertical-align: middle;\n",
       "    }\n",
       "\n",
       "    .dataframe tbody tr th {\n",
       "        vertical-align: top;\n",
       "    }\n",
       "\n",
       "    .dataframe thead th {\n",
       "        text-align: right;\n",
       "    }\n",
       "</style>\n",
       "<table border=\"1\" class=\"dataframe\">\n",
       "  <thead>\n",
       "    <tr style=\"text-align: right;\">\n",
       "      <th></th>\n",
       "      <th>class</th>\n",
       "      <th>pred_class</th>\n",
       "      <th>radio_detect</th>\n",
       "      <th>pred_radio</th>\n",
       "      <th>Z</th>\n",
       "      <th>pred_Z</th>\n",
       "    </tr>\n",
       "  </thead>\n",
       "  <tbody>\n",
       "    <tr>\n",
       "      <th>count</th>\n",
       "      <td>504077.000000</td>\n",
       "      <td>504077.0</td>\n",
       "      <td>504077.000000</td>\n",
       "      <td>504077.0</td>\n",
       "      <td>10009.000000</td>\n",
       "      <td>504077.000000</td>\n",
       "    </tr>\n",
       "    <tr>\n",
       "      <th>mean</th>\n",
       "      <td>0.508770</td>\n",
       "      <td>1.0</td>\n",
       "      <td>0.184958</td>\n",
       "      <td>1.0</td>\n",
       "      <td>1.166247</td>\n",
       "      <td>1.520312</td>\n",
       "    </tr>\n",
       "    <tr>\n",
       "      <th>std</th>\n",
       "      <td>0.069691</td>\n",
       "      <td>0.0</td>\n",
       "      <td>0.388264</td>\n",
       "      <td>0.0</td>\n",
       "      <td>0.901595</td>\n",
       "      <td>0.647876</td>\n",
       "    </tr>\n",
       "    <tr>\n",
       "      <th>min</th>\n",
       "      <td>0.000000</td>\n",
       "      <td>1.0</td>\n",
       "      <td>0.000000</td>\n",
       "      <td>1.0</td>\n",
       "      <td>-0.004020</td>\n",
       "      <td>0.040200</td>\n",
       "    </tr>\n",
       "    <tr>\n",
       "      <th>25%</th>\n",
       "      <td>0.500000</td>\n",
       "      <td>1.0</td>\n",
       "      <td>0.000000</td>\n",
       "      <td>1.0</td>\n",
       "      <td>0.413000</td>\n",
       "      <td>1.062900</td>\n",
       "    </tr>\n",
       "    <tr>\n",
       "      <th>50%</th>\n",
       "      <td>0.500000</td>\n",
       "      <td>1.0</td>\n",
       "      <td>0.000000</td>\n",
       "      <td>1.0</td>\n",
       "      <td>1.047000</td>\n",
       "      <td>1.446000</td>\n",
       "    </tr>\n",
       "    <tr>\n",
       "      <th>75%</th>\n",
       "      <td>0.500000</td>\n",
       "      <td>1.0</td>\n",
       "      <td>0.000000</td>\n",
       "      <td>1.0</td>\n",
       "      <td>1.773000</td>\n",
       "      <td>1.921900</td>\n",
       "    </tr>\n",
       "    <tr>\n",
       "      <th>max</th>\n",
       "      <td>1.000000</td>\n",
       "      <td>1.0</td>\n",
       "      <td>1.000000</td>\n",
       "      <td>1.0</td>\n",
       "      <td>7.012240</td>\n",
       "      <td>5.523900</td>\n",
       "    </tr>\n",
       "  </tbody>\n",
       "</table>\n",
       "</div>"
      ],
      "text/plain": [
       "               class  pred_class   radio_detect  pred_radio             Z  \\\n",
       "count  504077.000000    504077.0  504077.000000    504077.0  10009.000000   \n",
       "mean        0.508770         1.0       0.184958         1.0      1.166247   \n",
       "std         0.069691         0.0       0.388264         0.0      0.901595   \n",
       "min         0.000000         1.0       0.000000         1.0     -0.004020   \n",
       "25%         0.500000         1.0       0.000000         1.0      0.413000   \n",
       "50%         0.500000         1.0       0.000000         1.0      1.047000   \n",
       "75%         0.500000         1.0       0.000000         1.0      1.773000   \n",
       "max         1.000000         1.0       1.000000         1.0      7.012240   \n",
       "\n",
       "              pred_Z  \n",
       "count  504077.000000  \n",
       "mean        1.520312  \n",
       "std         0.647876  \n",
       "min         0.040200  \n",
       "25%         1.062900  \n",
       "50%         1.446000  \n",
       "75%         1.921900  \n",
       "max         5.523900  "
      ]
     },
     "execution_count": 64,
     "metadata": {},
     "output_type": "execute_result"
    }
   ],
   "source": [
    "displayed_cols = ['is_str', 'pred_star', 'class', 'pred_class', 'radio_detect', 'pred_radio', 'Z', 'pred_Z']\n",
    "if not use_zeroth_model:\n",
    "    displayed_cols.remove('is_str')\n",
    "    displayed_cols.remove('pred_star')\n",
    "full_catalog_df.loc[filter_radio_AGN_p, displayed_cols].describe()"
   ]
  },
  {
   "cell_type": "markdown",
   "metadata": {},
   "source": [
    "Add individual metrics for redshift"
   ]
  },
  {
   "cell_type": "code",
   "execution_count": 65,
   "metadata": {
    "jupyter": {
     "source_hidden": true
    },
    "tags": []
   },
   "outputs": [],
   "source": [
    "full_catalog_df['Delta_z_N'] = np.around((full_catalog_df.loc[:, 'pred_Z'] - full_catalog_df.loc[:, 'Z']) /\\\n",
    "                            (1 + full_catalog_df.loc[:, 'Z']), decimals=3)\n",
    "\n",
    "full_catalog_df['sigma_NMAD'] = np.around(1.48 * np.abs(full_catalog_df.loc[:, 'pred_Z'] - full_catalog_df.loc[:, 'Z']) /\\\n",
    "                            (1 + full_catalog_df.loc[:, 'Z']), decimals=3)"
   ]
  },
  {
   "cell_type": "markdown",
   "metadata": {},
   "source": [
    "Numerical summary."
   ]
  },
  {
   "cell_type": "code",
   "execution_count": 66,
   "metadata": {
    "jupyter": {
     "source_hidden": true
    },
    "tags": []
   },
   "outputs": [],
   "source": [
    "str_0_t    = f'Out of {total_size:,} initial sources in {used_area},\\n'\n",
    "str_1_t    = f'{num_gal_t:,} are confirmed to be galaxies. On the other side,\\n'\n",
    "str_2_t    = f'{num_str_t:,} are listed as SDSS-DR16 stars and {num_AGN_t:,} are MQC AGN.\\n'\n",
    "str_3_t    = f'Also, {num_radio_AGN_t:,} AGN are detected in radio.'\n",
    "\n",
    "str_0_p    = f'Out of {num_radio_AGN_t:,} initial radio-detected AGN in {used_area},\\n'\n",
    "str_1_p    = f'{num_gal_p:,} are predicted to be galaxies. On the other side,\\n'\n",
    "str_2_p    = f'{num_AGN_p:,} are predicted to be AGN. From the predicted AGN,\\n'\n",
    "str_3_p    = f'{num_radio_AGN_p:,} are predicted to be detected in radio.'\n",
    "\n",
    "str_0_rAGN = f'{num_radio_AGN_p:,} sources were predicted to be Radio AGN in {used_area}.\\n'\n",
    "str_1_rAGN = f'{num_rAGN_MQC_p:,} of them were listed in MQC.\\n'\n",
    "str_2_rAGN = f'{num_rAGN_gal_p:,} of them are listed as SDSS-DR16 galaxies.\\n'\n",
    "str_3_rAGN = f'{num_rAGN_str_p:,} of them are listed as SDSS-DR16 stars.\\n'\n",
    "str_4_rAGN = f'{num_rAGN_rad_p:,} of them have radio detections.\\n'\n",
    "str_5_rAGN = f'Thus, {num_new_rAGN_p:,} sources are new radio AGN.'"
   ]
  },
  {
   "cell_type": "code",
   "execution_count": 67,
   "metadata": {
    "jupyter": {
     "source_hidden": true
    },
    "tags": []
   },
   "outputs": [
    {
     "name": "stdout",
     "output_type": "stream",
     "text": [
      "------------------------------------------------------------\n",
      "Out of 6,729,647 initial sources in HETDEX,\n",
      "55,153 are confirmed to be galaxies. On the other side,\n",
      "6,770 are listed as SDSS-DR16 stars and 30,395 are MQC AGN.\n",
      "Also, 9,894 AGN are detected in radio.\n",
      "------------------------------------------------------------\n",
      "Out of 9,894 initial radio-detected AGN in HETDEX,\n",
      "1,926,037 are predicted to be galaxies. On the other side,\n",
      "4,803,610 are predicted to be AGN. From the predicted AGN,\n",
      "504,077 are predicted to be detected in radio.\n",
      "------------------------------------------------------------\n",
      "504,077 sources were predicted to be Radio AGN in HETDEX.\n",
      "9,395 of them were listed in MQC.\n",
      "553 of them are listed as SDSS-DR16 galaxies.\n",
      "404 of them are listed as SDSS-DR16 stars.\n",
      "93,233 of them have radio detections.\n",
      "Thus, 494,183 sources are new radio AGN.\n",
      "------------------------------------------------------------\n"
     ]
    }
   ],
   "source": [
    "print('-' * 60)\n",
    "print(str_0_t + str_1_t + str_2_t + str_3_t)\n",
    "print('-' * 60)\n",
    "print(str_0_p + str_1_p + str_2_p + str_3_p)\n",
    "print('-' * 60)\n",
    "print(str_0_rAGN + str_1_rAGN + str_2_rAGN + str_3_rAGN + str_4_rAGN + str_5_rAGN)\n",
    "print('-' * 60)"
   ]
  },
  {
   "cell_type": "code",
   "execution_count": 68,
   "metadata": {
    "jupyter": {
     "source_hidden": true
    }
   },
   "outputs": [],
   "source": [
    "cols_4_table = show_columns = ['Name', 'RA_ICRS', 'DE_ICRS', 'TYPE', 'band_num', 'class', 'pred_class', 'Score_AGN',\\\n",
    "                               'radio_detect', 'pred_radio', 'scaled_score_radio', 'scaled_score_rAGN', 'Z', 'pred_Z']"
   ]
  },
  {
   "cell_type": "code",
   "execution_count": 69,
   "metadata": {
    "jupyter": {
     "source_hidden": true
    }
   },
   "outputs": [],
   "source": [
    "cols_4_export_S82    = ['Total_flux_VLASS', 'Fint_VLAS82', 'Stotal_TGSS', 'FEP']\n",
    "cols_4_export_HETDEX = ['Total_flux_VLASS', 'Sint_LOFAR', 'Stotal_TGSS', 'FEP', 'TotalFlux_LoLSS']\n",
    "cols_4_export_COSMOS = ['Total_flux_VLASS', 'Stotal_TGSS', 'FEP', 'Flux_COSMOSVLA3']\n",
    "\n",
    "cols_4_exp_all       = {'S82': cols_4_export_S82, 'HETDEX': cols_4_export_HETDEX, 'COSMOS': cols_4_export_COSMOS}\n",
    "\n",
    "cols_photo           = ['W1mproPM', 'W2mproPM', 'gmag', 'rmag', 'imag', 'zmag', 'ymag', 'FUVmag', 'NUVmag',\\\n",
    "                        'Jmag', 'Hmag', 'Kmag', 'W3mag', 'W4mag']\n",
    "\n",
    "cols_4_export        = cols_4_table + cols_4_exp_all[used_area] + cols_photo"
   ]
  },
  {
   "cell_type": "code",
   "execution_count": 70,
   "metadata": {},
   "outputs": [],
   "source": [
    "filter_high_z   = full_catalog_df.loc[:, 'pred_Z']    >= 3.7"
   ]
  },
  {
   "cell_type": "code",
   "execution_count": 71,
   "metadata": {},
   "outputs": [
    {
     "data": {
      "text/html": [
       "<div>\n",
       "<style scoped>\n",
       "    .dataframe tbody tr th:only-of-type {\n",
       "        vertical-align: middle;\n",
       "    }\n",
       "\n",
       "    .dataframe tbody tr th {\n",
       "        vertical-align: top;\n",
       "    }\n",
       "\n",
       "    .dataframe thead th {\n",
       "        text-align: right;\n",
       "    }\n",
       "</style>\n",
       "<table border=\"1\" class=\"dataframe\">\n",
       "  <thead>\n",
       "    <tr style=\"text-align: right;\">\n",
       "      <th></th>\n",
       "      <th>Name</th>\n",
       "      <th>RA_ICRS</th>\n",
       "      <th>DE_ICRS</th>\n",
       "      <th>TYPE</th>\n",
       "      <th>band_num</th>\n",
       "      <th>class</th>\n",
       "      <th>pred_class</th>\n",
       "      <th>Score_AGN</th>\n",
       "      <th>radio_detect</th>\n",
       "      <th>pred_radio</th>\n",
       "      <th>scaled_score_radio</th>\n",
       "      <th>scaled_score_rAGN</th>\n",
       "      <th>Z</th>\n",
       "      <th>pred_Z</th>\n",
       "    </tr>\n",
       "  </thead>\n",
       "  <tbody>\n",
       "    <tr>\n",
       "      <th>4948513</th>\n",
       "      <td>J131347.24+544011.3</td>\n",
       "      <td>198.446823</td>\n",
       "      <td>54.669807</td>\n",
       "      <td></td>\n",
       "      <td>10</td>\n",
       "      <td>0.5</td>\n",
       "      <td>1</td>\n",
       "      <td>0.593318</td>\n",
       "      <td>0</td>\n",
       "      <td>1</td>\n",
       "      <td>0.502676</td>\n",
       "      <td>0.298247</td>\n",
       "      <td>NaN</td>\n",
       "      <td>5.5239</td>\n",
       "    </tr>\n",
       "    <tr>\n",
       "      <th>5194516</th>\n",
       "      <td>J130821.47+562035.3</td>\n",
       "      <td>197.089478</td>\n",
       "      <td>56.343147</td>\n",
       "      <td></td>\n",
       "      <td>10</td>\n",
       "      <td>0.5</td>\n",
       "      <td>1</td>\n",
       "      <td>0.571361</td>\n",
       "      <td>0</td>\n",
       "      <td>1</td>\n",
       "      <td>0.574041</td>\n",
       "      <td>0.327985</td>\n",
       "      <td>NaN</td>\n",
       "      <td>5.4597</td>\n",
       "    </tr>\n",
       "    <tr>\n",
       "      <th>4566877</th>\n",
       "      <td>J130322.53+511904.9</td>\n",
       "      <td>195.843857</td>\n",
       "      <td>51.318024</td>\n",
       "      <td></td>\n",
       "      <td>6</td>\n",
       "      <td>0.5</td>\n",
       "      <td>1</td>\n",
       "      <td>0.441031</td>\n",
       "      <td>0</td>\n",
       "      <td>1</td>\n",
       "      <td>0.485281</td>\n",
       "      <td>0.214024</td>\n",
       "      <td>NaN</td>\n",
       "      <td>5.3044</td>\n",
       "    </tr>\n",
       "    <tr>\n",
       "      <th>5124835</th>\n",
       "      <td>J130836.94+554819.5</td>\n",
       "      <td>197.153931</td>\n",
       "      <td>55.805412</td>\n",
       "      <td></td>\n",
       "      <td>6</td>\n",
       "      <td>0.5</td>\n",
       "      <td>1</td>\n",
       "      <td>0.397967</td>\n",
       "      <td>0</td>\n",
       "      <td>1</td>\n",
       "      <td>0.445138</td>\n",
       "      <td>0.177150</td>\n",
       "      <td>NaN</td>\n",
       "      <td>5.3031</td>\n",
       "    </tr>\n",
       "    <tr>\n",
       "      <th>6630523</th>\n",
       "      <td>J123428.46+530827.8</td>\n",
       "      <td>188.618607</td>\n",
       "      <td>53.141064</td>\n",
       "      <td></td>\n",
       "      <td>6</td>\n",
       "      <td>0.5</td>\n",
       "      <td>1</td>\n",
       "      <td>0.358265</td>\n",
       "      <td>0</td>\n",
       "      <td>1</td>\n",
       "      <td>0.429081</td>\n",
       "      <td>0.153725</td>\n",
       "      <td>NaN</td>\n",
       "      <td>5.2955</td>\n",
       "    </tr>\n",
       "    <tr>\n",
       "      <th>825271</th>\n",
       "      <td>J140950.70+534956.9</td>\n",
       "      <td>212.461273</td>\n",
       "      <td>53.832474</td>\n",
       "      <td></td>\n",
       "      <td>6</td>\n",
       "      <td>0.5</td>\n",
       "      <td>1</td>\n",
       "      <td>0.338421</td>\n",
       "      <td>0</td>\n",
       "      <td>1</td>\n",
       "      <td>0.566459</td>\n",
       "      <td>0.191701</td>\n",
       "      <td>NaN</td>\n",
       "      <td>5.2950</td>\n",
       "    </tr>\n",
       "    <tr>\n",
       "      <th>5652540</th>\n",
       "      <td>J124817.93+560335.4</td>\n",
       "      <td>192.074677</td>\n",
       "      <td>56.059826</td>\n",
       "      <td></td>\n",
       "      <td>6</td>\n",
       "      <td>0.5</td>\n",
       "      <td>1</td>\n",
       "      <td>0.358316</td>\n",
       "      <td>0</td>\n",
       "      <td>1</td>\n",
       "      <td>0.502676</td>\n",
       "      <td>0.180117</td>\n",
       "      <td>NaN</td>\n",
       "      <td>5.2896</td>\n",
       "    </tr>\n",
       "    <tr>\n",
       "      <th>3530195</th>\n",
       "      <td>J131844.61+513908.5</td>\n",
       "      <td>199.685852</td>\n",
       "      <td>51.652378</td>\n",
       "      <td></td>\n",
       "      <td>6</td>\n",
       "      <td>0.5</td>\n",
       "      <td>1</td>\n",
       "      <td>0.327871</td>\n",
       "      <td>0</td>\n",
       "      <td>1</td>\n",
       "      <td>0.436218</td>\n",
       "      <td>0.143023</td>\n",
       "      <td>NaN</td>\n",
       "      <td>5.2840</td>\n",
       "    </tr>\n",
       "    <tr>\n",
       "      <th>6473182</th>\n",
       "      <td>J123605.48+523422.4</td>\n",
       "      <td>189.022842</td>\n",
       "      <td>52.572895</td>\n",
       "      <td></td>\n",
       "      <td>6</td>\n",
       "      <td>0.5</td>\n",
       "      <td>1</td>\n",
       "      <td>0.340046</td>\n",
       "      <td>0</td>\n",
       "      <td>1</td>\n",
       "      <td>0.490633</td>\n",
       "      <td>0.166838</td>\n",
       "      <td>NaN</td>\n",
       "      <td>5.2813</td>\n",
       "    </tr>\n",
       "    <tr>\n",
       "      <th>5118355</th>\n",
       "      <td>J121421.77+554218.4</td>\n",
       "      <td>183.590698</td>\n",
       "      <td>55.705112</td>\n",
       "      <td></td>\n",
       "      <td>6</td>\n",
       "      <td>0.5</td>\n",
       "      <td>1</td>\n",
       "      <td>0.365583</td>\n",
       "      <td>0</td>\n",
       "      <td>1</td>\n",
       "      <td>0.575379</td>\n",
       "      <td>0.210349</td>\n",
       "      <td>NaN</td>\n",
       "      <td>5.2624</td>\n",
       "    </tr>\n",
       "    <tr>\n",
       "      <th>3056422</th>\n",
       "      <td>J124501.54+553940.0</td>\n",
       "      <td>191.256378</td>\n",
       "      <td>55.661121</td>\n",
       "      <td></td>\n",
       "      <td>6</td>\n",
       "      <td>0.5</td>\n",
       "      <td>1</td>\n",
       "      <td>0.483626</td>\n",
       "      <td>0</td>\n",
       "      <td>1</td>\n",
       "      <td>0.491971</td>\n",
       "      <td>0.237930</td>\n",
       "      <td>NaN</td>\n",
       "      <td>5.2428</td>\n",
       "    </tr>\n",
       "    <tr>\n",
       "      <th>6193022</th>\n",
       "      <td>J145154.74+552013.9</td>\n",
       "      <td>222.978073</td>\n",
       "      <td>55.337193</td>\n",
       "      <td></td>\n",
       "      <td>6</td>\n",
       "      <td>0.5</td>\n",
       "      <td>1</td>\n",
       "      <td>0.380745</td>\n",
       "      <td>0</td>\n",
       "      <td>1</td>\n",
       "      <td>0.583854</td>\n",
       "      <td>0.222300</td>\n",
       "      <td>NaN</td>\n",
       "      <td>5.2101</td>\n",
       "    </tr>\n",
       "    <tr>\n",
       "      <th>3098739</th>\n",
       "      <td>J132039.13+501720.1</td>\n",
       "      <td>200.163055</td>\n",
       "      <td>50.288914</td>\n",
       "      <td></td>\n",
       "      <td>10</td>\n",
       "      <td>0.5</td>\n",
       "      <td>1</td>\n",
       "      <td>0.574926</td>\n",
       "      <td>0</td>\n",
       "      <td>1</td>\n",
       "      <td>0.585192</td>\n",
       "      <td>0.336442</td>\n",
       "      <td>NaN</td>\n",
       "      <td>5.2063</td>\n",
       "    </tr>\n",
       "    <tr>\n",
       "      <th>2871674</th>\n",
       "      <td>J131234.28+503842.1</td>\n",
       "      <td>198.142807</td>\n",
       "      <td>50.645031</td>\n",
       "      <td></td>\n",
       "      <td>10</td>\n",
       "      <td>0.5</td>\n",
       "      <td>1</td>\n",
       "      <td>0.365669</td>\n",
       "      <td>0</td>\n",
       "      <td>1</td>\n",
       "      <td>0.442908</td>\n",
       "      <td>0.161958</td>\n",
       "      <td>NaN</td>\n",
       "      <td>5.1867</td>\n",
       "    </tr>\n",
       "    <tr>\n",
       "      <th>1920006</th>\n",
       "      <td>J123716.09+540630.0</td>\n",
       "      <td>189.317047</td>\n",
       "      <td>54.108326</td>\n",
       "      <td></td>\n",
       "      <td>10</td>\n",
       "      <td>0.5</td>\n",
       "      <td>1</td>\n",
       "      <td>0.405975</td>\n",
       "      <td>0</td>\n",
       "      <td>1</td>\n",
       "      <td>0.567797</td>\n",
       "      <td>0.230511</td>\n",
       "      <td>NaN</td>\n",
       "      <td>5.1857</td>\n",
       "    </tr>\n",
       "    <tr>\n",
       "      <th>2693993</th>\n",
       "      <td>J105449.48+483611.5</td>\n",
       "      <td>163.706161</td>\n",
       "      <td>48.603210</td>\n",
       "      <td></td>\n",
       "      <td>10</td>\n",
       "      <td>0.5</td>\n",
       "      <td>1</td>\n",
       "      <td>0.371760</td>\n",
       "      <td>0</td>\n",
       "      <td>1</td>\n",
       "      <td>0.561552</td>\n",
       "      <td>0.208763</td>\n",
       "      <td>NaN</td>\n",
       "      <td>5.1827</td>\n",
       "    </tr>\n",
       "    <tr>\n",
       "      <th>5875836</th>\n",
       "      <td>J123941.26+494123.7</td>\n",
       "      <td>189.921936</td>\n",
       "      <td>49.689934</td>\n",
       "      <td></td>\n",
       "      <td>10</td>\n",
       "      <td>0.5</td>\n",
       "      <td>1</td>\n",
       "      <td>0.502991</td>\n",
       "      <td>0</td>\n",
       "      <td>1</td>\n",
       "      <td>0.446030</td>\n",
       "      <td>0.224349</td>\n",
       "      <td>NaN</td>\n",
       "      <td>5.1804</td>\n",
       "    </tr>\n",
       "    <tr>\n",
       "      <th>3317518</th>\n",
       "      <td>J145830.20+550604.2</td>\n",
       "      <td>224.625839</td>\n",
       "      <td>55.101162</td>\n",
       "      <td></td>\n",
       "      <td>10</td>\n",
       "      <td>0.5</td>\n",
       "      <td>1</td>\n",
       "      <td>0.431660</td>\n",
       "      <td>0</td>\n",
       "      <td>1</td>\n",
       "      <td>0.561552</td>\n",
       "      <td>0.242400</td>\n",
       "      <td>NaN</td>\n",
       "      <td>5.1800</td>\n",
       "    </tr>\n",
       "    <tr>\n",
       "      <th>574470</th>\n",
       "      <td>J124704.55+540055.9</td>\n",
       "      <td>191.768951</td>\n",
       "      <td>54.015530</td>\n",
       "      <td></td>\n",
       "      <td>10</td>\n",
       "      <td>0.5</td>\n",
       "      <td>1</td>\n",
       "      <td>0.564673</td>\n",
       "      <td>0</td>\n",
       "      <td>1</td>\n",
       "      <td>0.570027</td>\n",
       "      <td>0.321878</td>\n",
       "      <td>NaN</td>\n",
       "      <td>5.1693</td>\n",
       "    </tr>\n",
       "    <tr>\n",
       "      <th>4829445</th>\n",
       "      <td>J130320.29+544547.5</td>\n",
       "      <td>195.834595</td>\n",
       "      <td>54.763187</td>\n",
       "      <td></td>\n",
       "      <td>10</td>\n",
       "      <td>0.5</td>\n",
       "      <td>1</td>\n",
       "      <td>0.513102</td>\n",
       "      <td>0</td>\n",
       "      <td>1</td>\n",
       "      <td>0.580285</td>\n",
       "      <td>0.297746</td>\n",
       "      <td>NaN</td>\n",
       "      <td>5.1646</td>\n",
       "    </tr>\n",
       "    <tr>\n",
       "      <th>5152328</th>\n",
       "      <td>J130511.22+555901.1</td>\n",
       "      <td>196.296783</td>\n",
       "      <td>55.983643</td>\n",
       "      <td></td>\n",
       "      <td>10</td>\n",
       "      <td>0.5</td>\n",
       "      <td>1</td>\n",
       "      <td>0.483733</td>\n",
       "      <td>0</td>\n",
       "      <td>1</td>\n",
       "      <td>0.460303</td>\n",
       "      <td>0.222664</td>\n",
       "      <td>NaN</td>\n",
       "      <td>5.1635</td>\n",
       "    </tr>\n",
       "    <tr>\n",
       "      <th>1629624</th>\n",
       "      <td>J124931.25+553427.1</td>\n",
       "      <td>192.380173</td>\n",
       "      <td>55.574188</td>\n",
       "      <td></td>\n",
       "      <td>10</td>\n",
       "      <td>0.5</td>\n",
       "      <td>1</td>\n",
       "      <td>0.406197</td>\n",
       "      <td>1</td>\n",
       "      <td>1</td>\n",
       "      <td>0.489295</td>\n",
       "      <td>0.198750</td>\n",
       "      <td>NaN</td>\n",
       "      <td>5.1625</td>\n",
       "    </tr>\n",
       "    <tr>\n",
       "      <th>6328478</th>\n",
       "      <td>J132420.48+502450.5</td>\n",
       "      <td>201.085342</td>\n",
       "      <td>50.414028</td>\n",
       "      <td></td>\n",
       "      <td>10</td>\n",
       "      <td>0.5</td>\n",
       "      <td>1</td>\n",
       "      <td>0.475414</td>\n",
       "      <td>0</td>\n",
       "      <td>1</td>\n",
       "      <td>0.566459</td>\n",
       "      <td>0.269302</td>\n",
       "      <td>NaN</td>\n",
       "      <td>5.1619</td>\n",
       "    </tr>\n",
       "    <tr>\n",
       "      <th>6180222</th>\n",
       "      <td>J132755.63+525935.8</td>\n",
       "      <td>201.981827</td>\n",
       "      <td>52.993290</td>\n",
       "      <td></td>\n",
       "      <td>10</td>\n",
       "      <td>0.5</td>\n",
       "      <td>1</td>\n",
       "      <td>0.491116</td>\n",
       "      <td>0</td>\n",
       "      <td>1</td>\n",
       "      <td>0.580285</td>\n",
       "      <td>0.284988</td>\n",
       "      <td>NaN</td>\n",
       "      <td>5.1586</td>\n",
       "    </tr>\n",
       "    <tr>\n",
       "      <th>2688931</th>\n",
       "      <td>J132245.76+524959.6</td>\n",
       "      <td>200.690689</td>\n",
       "      <td>52.833225</td>\n",
       "      <td></td>\n",
       "      <td>10</td>\n",
       "      <td>0.5</td>\n",
       "      <td>1</td>\n",
       "      <td>0.478662</td>\n",
       "      <td>0</td>\n",
       "      <td>1</td>\n",
       "      <td>0.437556</td>\n",
       "      <td>0.209441</td>\n",
       "      <td>NaN</td>\n",
       "      <td>5.1572</td>\n",
       "    </tr>\n",
       "  </tbody>\n",
       "</table>\n",
       "</div>"
      ],
      "text/plain": [
       "                         Name     RA_ICRS    DE_ICRS  TYPE  band_num  class  \\\n",
       "4948513  J131347.24+544011.3   198.446823  54.669807              10    0.5   \n",
       "5194516  J130821.47+562035.3   197.089478  56.343147              10    0.5   \n",
       "4566877  J130322.53+511904.9   195.843857  51.318024               6    0.5   \n",
       "5124835  J130836.94+554819.5   197.153931  55.805412               6    0.5   \n",
       "6630523  J123428.46+530827.8   188.618607  53.141064               6    0.5   \n",
       "825271   J140950.70+534956.9   212.461273  53.832474               6    0.5   \n",
       "5652540  J124817.93+560335.4   192.074677  56.059826               6    0.5   \n",
       "3530195  J131844.61+513908.5   199.685852  51.652378               6    0.5   \n",
       "6473182  J123605.48+523422.4   189.022842  52.572895               6    0.5   \n",
       "5118355  J121421.77+554218.4   183.590698  55.705112               6    0.5   \n",
       "3056422  J124501.54+553940.0   191.256378  55.661121               6    0.5   \n",
       "6193022  J145154.74+552013.9   222.978073  55.337193               6    0.5   \n",
       "3098739  J132039.13+501720.1   200.163055  50.288914              10    0.5   \n",
       "2871674  J131234.28+503842.1   198.142807  50.645031              10    0.5   \n",
       "1920006  J123716.09+540630.0   189.317047  54.108326              10    0.5   \n",
       "2693993  J105449.48+483611.5   163.706161  48.603210              10    0.5   \n",
       "5875836  J123941.26+494123.7   189.921936  49.689934              10    0.5   \n",
       "3317518  J145830.20+550604.2   224.625839  55.101162              10    0.5   \n",
       "574470   J124704.55+540055.9   191.768951  54.015530              10    0.5   \n",
       "4829445  J130320.29+544547.5   195.834595  54.763187              10    0.5   \n",
       "5152328  J130511.22+555901.1   196.296783  55.983643              10    0.5   \n",
       "1629624  J124931.25+553427.1   192.380173  55.574188              10    0.5   \n",
       "6328478  J132420.48+502450.5   201.085342  50.414028              10    0.5   \n",
       "6180222  J132755.63+525935.8   201.981827  52.993290              10    0.5   \n",
       "2688931  J132245.76+524959.6   200.690689  52.833225              10    0.5   \n",
       "\n",
       "         pred_class  Score_AGN  radio_detect  pred_radio  scaled_score_radio  \\\n",
       "4948513           1   0.593318             0           1            0.502676   \n",
       "5194516           1   0.571361             0           1            0.574041   \n",
       "4566877           1   0.441031             0           1            0.485281   \n",
       "5124835           1   0.397967             0           1            0.445138   \n",
       "6630523           1   0.358265             0           1            0.429081   \n",
       "825271            1   0.338421             0           1            0.566459   \n",
       "5652540           1   0.358316             0           1            0.502676   \n",
       "3530195           1   0.327871             0           1            0.436218   \n",
       "6473182           1   0.340046             0           1            0.490633   \n",
       "5118355           1   0.365583             0           1            0.575379   \n",
       "3056422           1   0.483626             0           1            0.491971   \n",
       "6193022           1   0.380745             0           1            0.583854   \n",
       "3098739           1   0.574926             0           1            0.585192   \n",
       "2871674           1   0.365669             0           1            0.442908   \n",
       "1920006           1   0.405975             0           1            0.567797   \n",
       "2693993           1   0.371760             0           1            0.561552   \n",
       "5875836           1   0.502991             0           1            0.446030   \n",
       "3317518           1   0.431660             0           1            0.561552   \n",
       "574470            1   0.564673             0           1            0.570027   \n",
       "4829445           1   0.513102             0           1            0.580285   \n",
       "5152328           1   0.483733             0           1            0.460303   \n",
       "1629624           1   0.406197             1           1            0.489295   \n",
       "6328478           1   0.475414             0           1            0.566459   \n",
       "6180222           1   0.491116             0           1            0.580285   \n",
       "2688931           1   0.478662             0           1            0.437556   \n",
       "\n",
       "         scaled_score_rAGN   Z  pred_Z  \n",
       "4948513           0.298247 NaN  5.5239  \n",
       "5194516           0.327985 NaN  5.4597  \n",
       "4566877           0.214024 NaN  5.3044  \n",
       "5124835           0.177150 NaN  5.3031  \n",
       "6630523           0.153725 NaN  5.2955  \n",
       "825271            0.191701 NaN  5.2950  \n",
       "5652540           0.180117 NaN  5.2896  \n",
       "3530195           0.143023 NaN  5.2840  \n",
       "6473182           0.166838 NaN  5.2813  \n",
       "5118355           0.210349 NaN  5.2624  \n",
       "3056422           0.237930 NaN  5.2428  \n",
       "6193022           0.222300 NaN  5.2101  \n",
       "3098739           0.336442 NaN  5.2063  \n",
       "2871674           0.161958 NaN  5.1867  \n",
       "1920006           0.230511 NaN  5.1857  \n",
       "2693993           0.208763 NaN  5.1827  \n",
       "5875836           0.224349 NaN  5.1804  \n",
       "3317518           0.242400 NaN  5.1800  \n",
       "574470            0.321878 NaN  5.1693  \n",
       "4829445           0.297746 NaN  5.1646  \n",
       "5152328           0.222664 NaN  5.1635  \n",
       "1629624           0.198750 NaN  5.1625  \n",
       "6328478           0.269302 NaN  5.1619  \n",
       "6180222           0.284988 NaN  5.1586  \n",
       "2688931           0.209441 NaN  5.1572  "
      ]
     },
     "metadata": {},
     "output_type": "display_data"
    }
   ],
   "source": [
    "display(full_catalog_df.loc[filt_new_rAGN_p * filter_high_z, cols_4_table].sort_values(by=['pred_Z'], ascending=False).head(25))"
   ]
  },
  {
   "cell_type": "code",
   "execution_count": 72,
   "metadata": {},
   "outputs": [
    {
     "data": {
      "text/html": [
       "<div>\n",
       "<style scoped>\n",
       "    .dataframe tbody tr th:only-of-type {\n",
       "        vertical-align: middle;\n",
       "    }\n",
       "\n",
       "    .dataframe tbody tr th {\n",
       "        vertical-align: top;\n",
       "    }\n",
       "\n",
       "    .dataframe thead th {\n",
       "        text-align: right;\n",
       "    }\n",
       "</style>\n",
       "<table border=\"1\" class=\"dataframe\">\n",
       "  <thead>\n",
       "    <tr style=\"text-align: right;\">\n",
       "      <th></th>\n",
       "      <th>Name</th>\n",
       "      <th>RA_ICRS</th>\n",
       "      <th>DE_ICRS</th>\n",
       "      <th>TYPE</th>\n",
       "      <th>band_num</th>\n",
       "      <th>class</th>\n",
       "      <th>pred_class</th>\n",
       "      <th>Score_AGN</th>\n",
       "      <th>radio_detect</th>\n",
       "      <th>pred_radio</th>\n",
       "      <th>scaled_score_radio</th>\n",
       "      <th>scaled_score_rAGN</th>\n",
       "      <th>Z</th>\n",
       "      <th>pred_Z</th>\n",
       "    </tr>\n",
       "  </thead>\n",
       "  <tbody>\n",
       "    <tr>\n",
       "      <th>4948513</th>\n",
       "      <td>J131347.24+544011.3</td>\n",
       "      <td>198.446823</td>\n",
       "      <td>54.669807</td>\n",
       "      <td></td>\n",
       "      <td>10</td>\n",
       "      <td>0.5</td>\n",
       "      <td>1</td>\n",
       "      <td>0.593318</td>\n",
       "      <td>0</td>\n",
       "      <td>1</td>\n",
       "      <td>0.502676</td>\n",
       "      <td>0.298247</td>\n",
       "      <td>NaN</td>\n",
       "      <td>5.5239</td>\n",
       "    </tr>\n",
       "    <tr>\n",
       "      <th>5194516</th>\n",
       "      <td>J130821.47+562035.3</td>\n",
       "      <td>197.089478</td>\n",
       "      <td>56.343147</td>\n",
       "      <td></td>\n",
       "      <td>10</td>\n",
       "      <td>0.5</td>\n",
       "      <td>1</td>\n",
       "      <td>0.571361</td>\n",
       "      <td>0</td>\n",
       "      <td>1</td>\n",
       "      <td>0.574041</td>\n",
       "      <td>0.327985</td>\n",
       "      <td>NaN</td>\n",
       "      <td>5.4597</td>\n",
       "    </tr>\n",
       "    <tr>\n",
       "      <th>4566877</th>\n",
       "      <td>J130322.53+511904.9</td>\n",
       "      <td>195.843857</td>\n",
       "      <td>51.318024</td>\n",
       "      <td></td>\n",
       "      <td>6</td>\n",
       "      <td>0.5</td>\n",
       "      <td>1</td>\n",
       "      <td>0.441031</td>\n",
       "      <td>0</td>\n",
       "      <td>1</td>\n",
       "      <td>0.485281</td>\n",
       "      <td>0.214024</td>\n",
       "      <td>NaN</td>\n",
       "      <td>5.3044</td>\n",
       "    </tr>\n",
       "    <tr>\n",
       "      <th>5124835</th>\n",
       "      <td>J130836.94+554819.5</td>\n",
       "      <td>197.153931</td>\n",
       "      <td>55.805412</td>\n",
       "      <td></td>\n",
       "      <td>6</td>\n",
       "      <td>0.5</td>\n",
       "      <td>1</td>\n",
       "      <td>0.397967</td>\n",
       "      <td>0</td>\n",
       "      <td>1</td>\n",
       "      <td>0.445138</td>\n",
       "      <td>0.177150</td>\n",
       "      <td>NaN</td>\n",
       "      <td>5.3031</td>\n",
       "    </tr>\n",
       "    <tr>\n",
       "      <th>6630523</th>\n",
       "      <td>J123428.46+530827.8</td>\n",
       "      <td>188.618607</td>\n",
       "      <td>53.141064</td>\n",
       "      <td></td>\n",
       "      <td>6</td>\n",
       "      <td>0.5</td>\n",
       "      <td>1</td>\n",
       "      <td>0.358265</td>\n",
       "      <td>0</td>\n",
       "      <td>1</td>\n",
       "      <td>0.429081</td>\n",
       "      <td>0.153725</td>\n",
       "      <td>NaN</td>\n",
       "      <td>5.2955</td>\n",
       "    </tr>\n",
       "    <tr>\n",
       "      <th>825271</th>\n",
       "      <td>J140950.70+534956.9</td>\n",
       "      <td>212.461273</td>\n",
       "      <td>53.832474</td>\n",
       "      <td></td>\n",
       "      <td>6</td>\n",
       "      <td>0.5</td>\n",
       "      <td>1</td>\n",
       "      <td>0.338421</td>\n",
       "      <td>0</td>\n",
       "      <td>1</td>\n",
       "      <td>0.566459</td>\n",
       "      <td>0.191701</td>\n",
       "      <td>NaN</td>\n",
       "      <td>5.2950</td>\n",
       "    </tr>\n",
       "    <tr>\n",
       "      <th>5652540</th>\n",
       "      <td>J124817.93+560335.4</td>\n",
       "      <td>192.074677</td>\n",
       "      <td>56.059826</td>\n",
       "      <td></td>\n",
       "      <td>6</td>\n",
       "      <td>0.5</td>\n",
       "      <td>1</td>\n",
       "      <td>0.358316</td>\n",
       "      <td>0</td>\n",
       "      <td>1</td>\n",
       "      <td>0.502676</td>\n",
       "      <td>0.180117</td>\n",
       "      <td>NaN</td>\n",
       "      <td>5.2896</td>\n",
       "    </tr>\n",
       "    <tr>\n",
       "      <th>3530195</th>\n",
       "      <td>J131844.61+513908.5</td>\n",
       "      <td>199.685852</td>\n",
       "      <td>51.652378</td>\n",
       "      <td></td>\n",
       "      <td>6</td>\n",
       "      <td>0.5</td>\n",
       "      <td>1</td>\n",
       "      <td>0.327871</td>\n",
       "      <td>0</td>\n",
       "      <td>1</td>\n",
       "      <td>0.436218</td>\n",
       "      <td>0.143023</td>\n",
       "      <td>NaN</td>\n",
       "      <td>5.2840</td>\n",
       "    </tr>\n",
       "    <tr>\n",
       "      <th>6473182</th>\n",
       "      <td>J123605.48+523422.4</td>\n",
       "      <td>189.022842</td>\n",
       "      <td>52.572895</td>\n",
       "      <td></td>\n",
       "      <td>6</td>\n",
       "      <td>0.5</td>\n",
       "      <td>1</td>\n",
       "      <td>0.340046</td>\n",
       "      <td>0</td>\n",
       "      <td>1</td>\n",
       "      <td>0.490633</td>\n",
       "      <td>0.166838</td>\n",
       "      <td>NaN</td>\n",
       "      <td>5.2813</td>\n",
       "    </tr>\n",
       "    <tr>\n",
       "      <th>5118355</th>\n",
       "      <td>J121421.77+554218.4</td>\n",
       "      <td>183.590698</td>\n",
       "      <td>55.705112</td>\n",
       "      <td></td>\n",
       "      <td>6</td>\n",
       "      <td>0.5</td>\n",
       "      <td>1</td>\n",
       "      <td>0.365583</td>\n",
       "      <td>0</td>\n",
       "      <td>1</td>\n",
       "      <td>0.575379</td>\n",
       "      <td>0.210349</td>\n",
       "      <td>NaN</td>\n",
       "      <td>5.2624</td>\n",
       "    </tr>\n",
       "    <tr>\n",
       "      <th>3056422</th>\n",
       "      <td>J124501.54+553940.0</td>\n",
       "      <td>191.256378</td>\n",
       "      <td>55.661121</td>\n",
       "      <td></td>\n",
       "      <td>6</td>\n",
       "      <td>0.5</td>\n",
       "      <td>1</td>\n",
       "      <td>0.483626</td>\n",
       "      <td>0</td>\n",
       "      <td>1</td>\n",
       "      <td>0.491971</td>\n",
       "      <td>0.237930</td>\n",
       "      <td>NaN</td>\n",
       "      <td>5.2428</td>\n",
       "    </tr>\n",
       "    <tr>\n",
       "      <th>6193022</th>\n",
       "      <td>J145154.74+552013.9</td>\n",
       "      <td>222.978073</td>\n",
       "      <td>55.337193</td>\n",
       "      <td></td>\n",
       "      <td>6</td>\n",
       "      <td>0.5</td>\n",
       "      <td>1</td>\n",
       "      <td>0.380745</td>\n",
       "      <td>0</td>\n",
       "      <td>1</td>\n",
       "      <td>0.583854</td>\n",
       "      <td>0.222300</td>\n",
       "      <td>NaN</td>\n",
       "      <td>5.2101</td>\n",
       "    </tr>\n",
       "    <tr>\n",
       "      <th>3098739</th>\n",
       "      <td>J132039.13+501720.1</td>\n",
       "      <td>200.163055</td>\n",
       "      <td>50.288914</td>\n",
       "      <td></td>\n",
       "      <td>10</td>\n",
       "      <td>0.5</td>\n",
       "      <td>1</td>\n",
       "      <td>0.574926</td>\n",
       "      <td>0</td>\n",
       "      <td>1</td>\n",
       "      <td>0.585192</td>\n",
       "      <td>0.336442</td>\n",
       "      <td>NaN</td>\n",
       "      <td>5.2063</td>\n",
       "    </tr>\n",
       "    <tr>\n",
       "      <th>2871674</th>\n",
       "      <td>J131234.28+503842.1</td>\n",
       "      <td>198.142807</td>\n",
       "      <td>50.645031</td>\n",
       "      <td></td>\n",
       "      <td>10</td>\n",
       "      <td>0.5</td>\n",
       "      <td>1</td>\n",
       "      <td>0.365669</td>\n",
       "      <td>0</td>\n",
       "      <td>1</td>\n",
       "      <td>0.442908</td>\n",
       "      <td>0.161958</td>\n",
       "      <td>NaN</td>\n",
       "      <td>5.1867</td>\n",
       "    </tr>\n",
       "    <tr>\n",
       "      <th>1920006</th>\n",
       "      <td>J123716.09+540630.0</td>\n",
       "      <td>189.317047</td>\n",
       "      <td>54.108326</td>\n",
       "      <td></td>\n",
       "      <td>10</td>\n",
       "      <td>0.5</td>\n",
       "      <td>1</td>\n",
       "      <td>0.405975</td>\n",
       "      <td>0</td>\n",
       "      <td>1</td>\n",
       "      <td>0.567797</td>\n",
       "      <td>0.230511</td>\n",
       "      <td>NaN</td>\n",
       "      <td>5.1857</td>\n",
       "    </tr>\n",
       "  </tbody>\n",
       "</table>\n",
       "</div>"
      ],
      "text/plain": [
       "                         Name     RA_ICRS    DE_ICRS  TYPE  band_num  class  \\\n",
       "4948513  J131347.24+544011.3   198.446823  54.669807              10    0.5   \n",
       "5194516  J130821.47+562035.3   197.089478  56.343147              10    0.5   \n",
       "4566877  J130322.53+511904.9   195.843857  51.318024               6    0.5   \n",
       "5124835  J130836.94+554819.5   197.153931  55.805412               6    0.5   \n",
       "6630523  J123428.46+530827.8   188.618607  53.141064               6    0.5   \n",
       "825271   J140950.70+534956.9   212.461273  53.832474               6    0.5   \n",
       "5652540  J124817.93+560335.4   192.074677  56.059826               6    0.5   \n",
       "3530195  J131844.61+513908.5   199.685852  51.652378               6    0.5   \n",
       "6473182  J123605.48+523422.4   189.022842  52.572895               6    0.5   \n",
       "5118355  J121421.77+554218.4   183.590698  55.705112               6    0.5   \n",
       "3056422  J124501.54+553940.0   191.256378  55.661121               6    0.5   \n",
       "6193022  J145154.74+552013.9   222.978073  55.337193               6    0.5   \n",
       "3098739  J132039.13+501720.1   200.163055  50.288914              10    0.5   \n",
       "2871674  J131234.28+503842.1   198.142807  50.645031              10    0.5   \n",
       "1920006  J123716.09+540630.0   189.317047  54.108326              10    0.5   \n",
       "\n",
       "         pred_class  Score_AGN  radio_detect  pred_radio  scaled_score_radio  \\\n",
       "4948513           1   0.593318             0           1            0.502676   \n",
       "5194516           1   0.571361             0           1            0.574041   \n",
       "4566877           1   0.441031             0           1            0.485281   \n",
       "5124835           1   0.397967             0           1            0.445138   \n",
       "6630523           1   0.358265             0           1            0.429081   \n",
       "825271            1   0.338421             0           1            0.566459   \n",
       "5652540           1   0.358316             0           1            0.502676   \n",
       "3530195           1   0.327871             0           1            0.436218   \n",
       "6473182           1   0.340046             0           1            0.490633   \n",
       "5118355           1   0.365583             0           1            0.575379   \n",
       "3056422           1   0.483626             0           1            0.491971   \n",
       "6193022           1   0.380745             0           1            0.583854   \n",
       "3098739           1   0.574926             0           1            0.585192   \n",
       "2871674           1   0.365669             0           1            0.442908   \n",
       "1920006           1   0.405975             0           1            0.567797   \n",
       "\n",
       "         scaled_score_rAGN   Z  pred_Z  \n",
       "4948513           0.298247 NaN  5.5239  \n",
       "5194516           0.327985 NaN  5.4597  \n",
       "4566877           0.214024 NaN  5.3044  \n",
       "5124835           0.177150 NaN  5.3031  \n",
       "6630523           0.153725 NaN  5.2955  \n",
       "825271            0.191701 NaN  5.2950  \n",
       "5652540           0.180117 NaN  5.2896  \n",
       "3530195           0.143023 NaN  5.2840  \n",
       "6473182           0.166838 NaN  5.2813  \n",
       "5118355           0.210349 NaN  5.2624  \n",
       "3056422           0.237930 NaN  5.2428  \n",
       "6193022           0.222300 NaN  5.2101  \n",
       "3098739           0.336442 NaN  5.2063  \n",
       "2871674           0.161958 NaN  5.1867  \n",
       "1920006           0.230511 NaN  5.1857  "
      ]
     },
     "metadata": {},
     "output_type": "display_data"
    }
   ],
   "source": [
    "display(full_catalog_df.loc[filt_new_rAGN_p * filter_high_z, cols_4_table].sort_values(by=['pred_Z'], ascending=False).head(15))"
   ]
  },
  {
   "cell_type": "code",
   "execution_count": 73,
   "metadata": {},
   "outputs": [
    {
     "data": {
      "text/html": [
       "<div>\n",
       "<style scoped>\n",
       "    .dataframe tbody tr th:only-of-type {\n",
       "        vertical-align: middle;\n",
       "    }\n",
       "\n",
       "    .dataframe tbody tr th {\n",
       "        vertical-align: top;\n",
       "    }\n",
       "\n",
       "    .dataframe thead th {\n",
       "        text-align: right;\n",
       "    }\n",
       "</style>\n",
       "<table border=\"1\" class=\"dataframe\">\n",
       "  <thead>\n",
       "    <tr style=\"text-align: right;\">\n",
       "      <th></th>\n",
       "      <th>Name</th>\n",
       "      <th>RA_ICRS</th>\n",
       "      <th>DE_ICRS</th>\n",
       "      <th>TYPE</th>\n",
       "      <th>band_num</th>\n",
       "      <th>class</th>\n",
       "      <th>pred_class</th>\n",
       "      <th>Score_AGN</th>\n",
       "      <th>radio_detect</th>\n",
       "      <th>pred_radio</th>\n",
       "      <th>scaled_score_radio</th>\n",
       "      <th>scaled_score_rAGN</th>\n",
       "      <th>Z</th>\n",
       "      <th>pred_Z</th>\n",
       "    </tr>\n",
       "  </thead>\n",
       "  <tbody>\n",
       "    <tr>\n",
       "      <th>4174385</th>\n",
       "      <td>J132345.26+524542.4</td>\n",
       "      <td>200.938629</td>\n",
       "      <td>52.761787</td>\n",
       "      <td>Q</td>\n",
       "      <td>11</td>\n",
       "      <td>1.0</td>\n",
       "      <td>1</td>\n",
       "      <td>0.948873</td>\n",
       "      <td>0</td>\n",
       "      <td>0</td>\n",
       "      <td>0.009813</td>\n",
       "      <td>0.009311</td>\n",
       "      <td>3.656</td>\n",
       "      <td>3.9476</td>\n",
       "    </tr>\n",
       "    <tr>\n",
       "      <th>4883063</th>\n",
       "      <td>J141330.37+471749.4</td>\n",
       "      <td>213.376511</td>\n",
       "      <td>47.297062</td>\n",
       "      <td>Q</td>\n",
       "      <td>11</td>\n",
       "      <td>1.0</td>\n",
       "      <td>1</td>\n",
       "      <td>0.947947</td>\n",
       "      <td>1</td>\n",
       "      <td>1</td>\n",
       "      <td>0.982159</td>\n",
       "      <td>0.931034</td>\n",
       "      <td>3.612</td>\n",
       "      <td>3.9476</td>\n",
       "    </tr>\n",
       "    <tr>\n",
       "      <th>6608371</th>\n",
       "      <td>J135310.76+482243.3</td>\n",
       "      <td>208.294800</td>\n",
       "      <td>48.378712</td>\n",
       "      <td>Q</td>\n",
       "      <td>11</td>\n",
       "      <td>1.0</td>\n",
       "      <td>1</td>\n",
       "      <td>0.941861</td>\n",
       "      <td>1</td>\n",
       "      <td>1</td>\n",
       "      <td>0.982159</td>\n",
       "      <td>0.925057</td>\n",
       "      <td>3.826</td>\n",
       "      <td>3.9476</td>\n",
       "    </tr>\n",
       "    <tr>\n",
       "      <th>5761354</th>\n",
       "      <td>J123556.86+550826.6</td>\n",
       "      <td>188.986923</td>\n",
       "      <td>55.140724</td>\n",
       "      <td>Q</td>\n",
       "      <td>11</td>\n",
       "      <td>1.0</td>\n",
       "      <td>1</td>\n",
       "      <td>0.941440</td>\n",
       "      <td>1</td>\n",
       "      <td>1</td>\n",
       "      <td>0.985727</td>\n",
       "      <td>0.928003</td>\n",
       "      <td>3.669</td>\n",
       "      <td>3.9512</td>\n",
       "    </tr>\n",
       "    <tr>\n",
       "      <th>2208040</th>\n",
       "      <td>J112932.92+541854.8</td>\n",
       "      <td>172.387161</td>\n",
       "      <td>54.315216</td>\n",
       "      <td>Q</td>\n",
       "      <td>11</td>\n",
       "      <td>1.0</td>\n",
       "      <td>1</td>\n",
       "      <td>0.940738</td>\n",
       "      <td>0</td>\n",
       "      <td>0</td>\n",
       "      <td>0.173506</td>\n",
       "      <td>0.163223</td>\n",
       "      <td>4.380</td>\n",
       "      <td>3.9476</td>\n",
       "    </tr>\n",
       "    <tr>\n",
       "      <th>831122</th>\n",
       "      <td>J110611.60+472434.2</td>\n",
       "      <td>166.548325</td>\n",
       "      <td>47.409500</td>\n",
       "      <td>QR</td>\n",
       "      <td>10</td>\n",
       "      <td>1.0</td>\n",
       "      <td>1</td>\n",
       "      <td>0.940261</td>\n",
       "      <td>1</td>\n",
       "      <td>1</td>\n",
       "      <td>0.722569</td>\n",
       "      <td>0.679404</td>\n",
       "      <td>4.020</td>\n",
       "      <td>3.9518</td>\n",
       "    </tr>\n",
       "    <tr>\n",
       "      <th>1984719</th>\n",
       "      <td>J121537.77+545937.3</td>\n",
       "      <td>183.907364</td>\n",
       "      <td>54.993698</td>\n",
       "      <td>Q</td>\n",
       "      <td>11</td>\n",
       "      <td>1.0</td>\n",
       "      <td>1</td>\n",
       "      <td>0.938836</td>\n",
       "      <td>1</td>\n",
       "      <td>1</td>\n",
       "      <td>0.982159</td>\n",
       "      <td>0.922086</td>\n",
       "      <td>4.107</td>\n",
       "      <td>3.9499</td>\n",
       "    </tr>\n",
       "    <tr>\n",
       "      <th>4859262</th>\n",
       "      <td>J140916.78+472924.0</td>\n",
       "      <td>212.319946</td>\n",
       "      <td>47.490025</td>\n",
       "      <td>Q</td>\n",
       "      <td>11</td>\n",
       "      <td>1.0</td>\n",
       "      <td>1</td>\n",
       "      <td>0.938675</td>\n",
       "      <td>1</td>\n",
       "      <td>1</td>\n",
       "      <td>0.875558</td>\n",
       "      <td>0.821864</td>\n",
       "      <td>3.652</td>\n",
       "      <td>3.9552</td>\n",
       "    </tr>\n",
       "    <tr>\n",
       "      <th>4846431</th>\n",
       "      <td>J131536.58+485629.1</td>\n",
       "      <td>198.902420</td>\n",
       "      <td>48.941429</td>\n",
       "      <td>QR</td>\n",
       "      <td>11</td>\n",
       "      <td>1.0</td>\n",
       "      <td>1</td>\n",
       "      <td>0.937819</td>\n",
       "      <td>1</td>\n",
       "      <td>1</td>\n",
       "      <td>0.982159</td>\n",
       "      <td>0.921087</td>\n",
       "      <td>3.612</td>\n",
       "      <td>3.9476</td>\n",
       "    </tr>\n",
       "    <tr>\n",
       "      <th>4828779</th>\n",
       "      <td>J111947.06+462229.3</td>\n",
       "      <td>169.946106</td>\n",
       "      <td>46.374805</td>\n",
       "      <td>Q</td>\n",
       "      <td>11</td>\n",
       "      <td>1.0</td>\n",
       "      <td>1</td>\n",
       "      <td>0.936052</td>\n",
       "      <td>1</td>\n",
       "      <td>1</td>\n",
       "      <td>0.986619</td>\n",
       "      <td>0.923527</td>\n",
       "      <td>3.579</td>\n",
       "      <td>3.9492</td>\n",
       "    </tr>\n",
       "    <tr>\n",
       "      <th>4840174</th>\n",
       "      <td>J124311.97+485602.8</td>\n",
       "      <td>190.799881</td>\n",
       "      <td>48.934116</td>\n",
       "      <td>Q</td>\n",
       "      <td>11</td>\n",
       "      <td>1.0</td>\n",
       "      <td>1</td>\n",
       "      <td>0.935163</td>\n",
       "      <td>0</td>\n",
       "      <td>0</td>\n",
       "      <td>0.000000</td>\n",
       "      <td>0.000000</td>\n",
       "      <td>4.043</td>\n",
       "      <td>3.9476</td>\n",
       "    </tr>\n",
       "    <tr>\n",
       "      <th>3232807</th>\n",
       "      <td>J112512.98+551034.5</td>\n",
       "      <td>171.304077</td>\n",
       "      <td>55.176258</td>\n",
       "      <td>Q</td>\n",
       "      <td>11</td>\n",
       "      <td>1.0</td>\n",
       "      <td>1</td>\n",
       "      <td>0.934749</td>\n",
       "      <td>0</td>\n",
       "      <td>0</td>\n",
       "      <td>0.000000</td>\n",
       "      <td>0.000000</td>\n",
       "      <td>3.772</td>\n",
       "      <td>3.9476</td>\n",
       "    </tr>\n",
       "    <tr>\n",
       "      <th>4857795</th>\n",
       "      <td>J111034.69+480037.1</td>\n",
       "      <td>167.644547</td>\n",
       "      <td>48.010307</td>\n",
       "      <td>Q</td>\n",
       "      <td>11</td>\n",
       "      <td>1.0</td>\n",
       "      <td>1</td>\n",
       "      <td>0.934556</td>\n",
       "      <td>0</td>\n",
       "      <td>0</td>\n",
       "      <td>0.123996</td>\n",
       "      <td>0.115882</td>\n",
       "      <td>3.935</td>\n",
       "      <td>3.9499</td>\n",
       "    </tr>\n",
       "    <tr>\n",
       "      <th>4876065</th>\n",
       "      <td>J145334.09+482117.6</td>\n",
       "      <td>223.392029</td>\n",
       "      <td>48.354900</td>\n",
       "      <td>Q</td>\n",
       "      <td>11</td>\n",
       "      <td>1.0</td>\n",
       "      <td>1</td>\n",
       "      <td>0.934370</td>\n",
       "      <td>0</td>\n",
       "      <td>0</td>\n",
       "      <td>0.177520</td>\n",
       "      <td>0.165869</td>\n",
       "      <td>3.770</td>\n",
       "      <td>3.9476</td>\n",
       "    </tr>\n",
       "    <tr>\n",
       "      <th>3297058</th>\n",
       "      <td>J141209.11+553059.3</td>\n",
       "      <td>213.037918</td>\n",
       "      <td>55.516468</td>\n",
       "      <td>Q</td>\n",
       "      <td>11</td>\n",
       "      <td>1.0</td>\n",
       "      <td>1</td>\n",
       "      <td>0.932805</td>\n",
       "      <td>1</td>\n",
       "      <td>0</td>\n",
       "      <td>0.263604</td>\n",
       "      <td>0.245891</td>\n",
       "      <td>3.920</td>\n",
       "      <td>3.9487</td>\n",
       "    </tr>\n",
       "  </tbody>\n",
       "</table>\n",
       "</div>"
      ],
      "text/plain": [
       "                         Name     RA_ICRS    DE_ICRS  TYPE  band_num  class  \\\n",
       "4174385  J132345.26+524542.4   200.938629  52.761787  Q           11    1.0   \n",
       "4883063  J141330.37+471749.4   213.376511  47.297062  Q           11    1.0   \n",
       "6608371  J135310.76+482243.3   208.294800  48.378712  Q           11    1.0   \n",
       "5761354  J123556.86+550826.6   188.986923  55.140724  Q           11    1.0   \n",
       "2208040  J112932.92+541854.8   172.387161  54.315216  Q           11    1.0   \n",
       "831122   J110611.60+472434.2   166.548325  47.409500  QR          10    1.0   \n",
       "1984719  J121537.77+545937.3   183.907364  54.993698  Q           11    1.0   \n",
       "4859262  J140916.78+472924.0   212.319946  47.490025  Q           11    1.0   \n",
       "4846431  J131536.58+485629.1   198.902420  48.941429  QR          11    1.0   \n",
       "4828779  J111947.06+462229.3   169.946106  46.374805  Q           11    1.0   \n",
       "4840174  J124311.97+485602.8   190.799881  48.934116  Q           11    1.0   \n",
       "3232807  J112512.98+551034.5   171.304077  55.176258  Q           11    1.0   \n",
       "4857795  J111034.69+480037.1   167.644547  48.010307  Q           11    1.0   \n",
       "4876065  J145334.09+482117.6   223.392029  48.354900  Q           11    1.0   \n",
       "3297058  J141209.11+553059.3   213.037918  55.516468  Q           11    1.0   \n",
       "\n",
       "         pred_class  Score_AGN  radio_detect  pred_radio  scaled_score_radio  \\\n",
       "4174385           1   0.948873             0           0            0.009813   \n",
       "4883063           1   0.947947             1           1            0.982159   \n",
       "6608371           1   0.941861             1           1            0.982159   \n",
       "5761354           1   0.941440             1           1            0.985727   \n",
       "2208040           1   0.940738             0           0            0.173506   \n",
       "831122            1   0.940261             1           1            0.722569   \n",
       "1984719           1   0.938836             1           1            0.982159   \n",
       "4859262           1   0.938675             1           1            0.875558   \n",
       "4846431           1   0.937819             1           1            0.982159   \n",
       "4828779           1   0.936052             1           1            0.986619   \n",
       "4840174           1   0.935163             0           0            0.000000   \n",
       "3232807           1   0.934749             0           0            0.000000   \n",
       "4857795           1   0.934556             0           0            0.123996   \n",
       "4876065           1   0.934370             0           0            0.177520   \n",
       "3297058           1   0.932805             1           0            0.263604   \n",
       "\n",
       "         scaled_score_rAGN      Z  pred_Z  \n",
       "4174385           0.009311  3.656  3.9476  \n",
       "4883063           0.931034  3.612  3.9476  \n",
       "6608371           0.925057  3.826  3.9476  \n",
       "5761354           0.928003  3.669  3.9512  \n",
       "2208040           0.163223  4.380  3.9476  \n",
       "831122            0.679404  4.020  3.9518  \n",
       "1984719           0.922086  4.107  3.9499  \n",
       "4859262           0.821864  3.652  3.9552  \n",
       "4846431           0.921087  3.612  3.9476  \n",
       "4828779           0.923527  3.579  3.9492  \n",
       "4840174           0.000000  4.043  3.9476  \n",
       "3232807           0.000000  3.772  3.9476  \n",
       "4857795           0.115882  3.935  3.9499  \n",
       "4876065           0.165869  3.770  3.9476  \n",
       "3297058           0.245891  3.920  3.9487  "
      ]
     },
     "metadata": {},
     "output_type": "display_data"
    }
   ],
   "source": [
    "display(full_catalog_df.loc[~filt_new_rAGN_p * filter_high_z, cols_4_table].sort_values(by=['Score_AGN', 'pred_Z'], ascending=False).head(15))"
   ]
  },
  {
   "cell_type": "code",
   "execution_count": 74,
   "metadata": {},
   "outputs": [
    {
     "data": {
      "text/html": [
       "<div>\n",
       "<style scoped>\n",
       "    .dataframe tbody tr th:only-of-type {\n",
       "        vertical-align: middle;\n",
       "    }\n",
       "\n",
       "    .dataframe tbody tr th {\n",
       "        vertical-align: top;\n",
       "    }\n",
       "\n",
       "    .dataframe thead th {\n",
       "        text-align: right;\n",
       "    }\n",
       "</style>\n",
       "<table border=\"1\" class=\"dataframe\">\n",
       "  <thead>\n",
       "    <tr style=\"text-align: right;\">\n",
       "      <th></th>\n",
       "      <th>Name</th>\n",
       "      <th>RA_ICRS</th>\n",
       "      <th>DE_ICRS</th>\n",
       "      <th>TYPE</th>\n",
       "      <th>band_num</th>\n",
       "      <th>class</th>\n",
       "      <th>pred_class</th>\n",
       "      <th>Score_AGN</th>\n",
       "      <th>radio_detect</th>\n",
       "      <th>pred_radio</th>\n",
       "      <th>scaled_score_radio</th>\n",
       "      <th>scaled_score_rAGN</th>\n",
       "      <th>Z</th>\n",
       "      <th>pred_Z</th>\n",
       "    </tr>\n",
       "  </thead>\n",
       "  <tbody>\n",
       "    <tr>\n",
       "      <th>538974</th>\n",
       "      <td>J115913.50+470014.9</td>\n",
       "      <td>179.806259</td>\n",
       "      <td>47.004150</td>\n",
       "      <td></td>\n",
       "      <td>9</td>\n",
       "      <td>0.5</td>\n",
       "      <td>1</td>\n",
       "      <td>0.440280</td>\n",
       "      <td>1</td>\n",
       "      <td>1</td>\n",
       "      <td>0.995094</td>\n",
       "      <td>0.438120</td>\n",
       "      <td>NaN</td>\n",
       "      <td>4.4855</td>\n",
       "    </tr>\n",
       "    <tr>\n",
       "      <th>4157385</th>\n",
       "      <td>J132142.13+544823.3</td>\n",
       "      <td>200.425552</td>\n",
       "      <td>54.806473</td>\n",
       "      <td></td>\n",
       "      <td>5</td>\n",
       "      <td>0.5</td>\n",
       "      <td>1</td>\n",
       "      <td>0.331344</td>\n",
       "      <td>0</td>\n",
       "      <td>1</td>\n",
       "      <td>0.983497</td>\n",
       "      <td>0.325875</td>\n",
       "      <td>NaN</td>\n",
       "      <td>4.5368</td>\n",
       "    </tr>\n",
       "    <tr>\n",
       "      <th>6206893</th>\n",
       "      <td>J133325.28+530702.5</td>\n",
       "      <td>203.355362</td>\n",
       "      <td>53.117374</td>\n",
       "      <td></td>\n",
       "      <td>6</td>\n",
       "      <td>0.5</td>\n",
       "      <td>1</td>\n",
       "      <td>0.329543</td>\n",
       "      <td>0</td>\n",
       "      <td>1</td>\n",
       "      <td>0.983497</td>\n",
       "      <td>0.324105</td>\n",
       "      <td>NaN</td>\n",
       "      <td>4.5284</td>\n",
       "    </tr>\n",
       "    <tr>\n",
       "      <th>2759703</th>\n",
       "      <td>J110541.47+545200.3</td>\n",
       "      <td>166.422775</td>\n",
       "      <td>54.866753</td>\n",
       "      <td></td>\n",
       "      <td>5</td>\n",
       "      <td>0.5</td>\n",
       "      <td>1</td>\n",
       "      <td>0.345806</td>\n",
       "      <td>0</td>\n",
       "      <td>1</td>\n",
       "      <td>0.981713</td>\n",
       "      <td>0.339483</td>\n",
       "      <td>NaN</td>\n",
       "      <td>4.5254</td>\n",
       "    </tr>\n",
       "    <tr>\n",
       "      <th>6677431</th>\n",
       "      <td>J144155.87+490937.4</td>\n",
       "      <td>220.482773</td>\n",
       "      <td>49.160397</td>\n",
       "      <td></td>\n",
       "      <td>10</td>\n",
       "      <td>0.5</td>\n",
       "      <td>1</td>\n",
       "      <td>0.326461</td>\n",
       "      <td>0</td>\n",
       "      <td>1</td>\n",
       "      <td>0.980821</td>\n",
       "      <td>0.320200</td>\n",
       "      <td>NaN</td>\n",
       "      <td>4.1757</td>\n",
       "    </tr>\n",
       "    <tr>\n",
       "      <th>1795588</th>\n",
       "      <td>J134648.50+473401.6</td>\n",
       "      <td>206.702103</td>\n",
       "      <td>47.567127</td>\n",
       "      <td></td>\n",
       "      <td>9</td>\n",
       "      <td>0.5</td>\n",
       "      <td>1</td>\n",
       "      <td>0.393392</td>\n",
       "      <td>0</td>\n",
       "      <td>1</td>\n",
       "      <td>0.980375</td>\n",
       "      <td>0.385671</td>\n",
       "      <td>NaN</td>\n",
       "      <td>4.1164</td>\n",
       "    </tr>\n",
       "    <tr>\n",
       "      <th>6604195</th>\n",
       "      <td>J113234.98+543103.2</td>\n",
       "      <td>173.145737</td>\n",
       "      <td>54.517555</td>\n",
       "      <td></td>\n",
       "      <td>5</td>\n",
       "      <td>0.5</td>\n",
       "      <td>1</td>\n",
       "      <td>0.339998</td>\n",
       "      <td>0</td>\n",
       "      <td>1</td>\n",
       "      <td>0.978591</td>\n",
       "      <td>0.332719</td>\n",
       "      <td>NaN</td>\n",
       "      <td>4.4035</td>\n",
       "    </tr>\n",
       "    <tr>\n",
       "      <th>4777641</th>\n",
       "      <td>J115926.29+494724.9</td>\n",
       "      <td>179.859512</td>\n",
       "      <td>49.790253</td>\n",
       "      <td></td>\n",
       "      <td>5</td>\n",
       "      <td>0.5</td>\n",
       "      <td>1</td>\n",
       "      <td>0.321864</td>\n",
       "      <td>0</td>\n",
       "      <td>1</td>\n",
       "      <td>0.978591</td>\n",
       "      <td>0.314973</td>\n",
       "      <td>NaN</td>\n",
       "      <td>4.3771</td>\n",
       "    </tr>\n",
       "    <tr>\n",
       "      <th>4745475</th>\n",
       "      <td>J140137.35+562547.8</td>\n",
       "      <td>210.405624</td>\n",
       "      <td>56.429943</td>\n",
       "      <td></td>\n",
       "      <td>5</td>\n",
       "      <td>0.5</td>\n",
       "      <td>1</td>\n",
       "      <td>0.319668</td>\n",
       "      <td>0</td>\n",
       "      <td>1</td>\n",
       "      <td>0.978591</td>\n",
       "      <td>0.312824</td>\n",
       "      <td>NaN</td>\n",
       "      <td>4.3726</td>\n",
       "    </tr>\n",
       "    <tr>\n",
       "      <th>3270771</th>\n",
       "      <td>J112618.48+554001.6</td>\n",
       "      <td>171.577026</td>\n",
       "      <td>55.667126</td>\n",
       "      <td></td>\n",
       "      <td>5</td>\n",
       "      <td>0.5</td>\n",
       "      <td>1</td>\n",
       "      <td>0.339347</td>\n",
       "      <td>0</td>\n",
       "      <td>1</td>\n",
       "      <td>0.945138</td>\n",
       "      <td>0.320730</td>\n",
       "      <td>NaN</td>\n",
       "      <td>4.4392</td>\n",
       "    </tr>\n",
       "    <tr>\n",
       "      <th>2617139</th>\n",
       "      <td>J105510.29+482049.3</td>\n",
       "      <td>163.792877</td>\n",
       "      <td>48.347034</td>\n",
       "      <td></td>\n",
       "      <td>5</td>\n",
       "      <td>0.5</td>\n",
       "      <td>1</td>\n",
       "      <td>0.333521</td>\n",
       "      <td>0</td>\n",
       "      <td>1</td>\n",
       "      <td>0.945138</td>\n",
       "      <td>0.315224</td>\n",
       "      <td>NaN</td>\n",
       "      <td>4.3976</td>\n",
       "    </tr>\n",
       "    <tr>\n",
       "      <th>4542618</th>\n",
       "      <td>J120509.17+513251.1</td>\n",
       "      <td>181.288239</td>\n",
       "      <td>51.547539</td>\n",
       "      <td></td>\n",
       "      <td>5</td>\n",
       "      <td>0.5</td>\n",
       "      <td>1</td>\n",
       "      <td>0.313421</td>\n",
       "      <td>0</td>\n",
       "      <td>1</td>\n",
       "      <td>0.936218</td>\n",
       "      <td>0.293431</td>\n",
       "      <td>NaN</td>\n",
       "      <td>4.5350</td>\n",
       "    </tr>\n",
       "    <tr>\n",
       "      <th>6395466</th>\n",
       "      <td>J115308.25+513748.7</td>\n",
       "      <td>178.284363</td>\n",
       "      <td>51.630184</td>\n",
       "      <td></td>\n",
       "      <td>5</td>\n",
       "      <td>0.5</td>\n",
       "      <td>1</td>\n",
       "      <td>0.322467</td>\n",
       "      <td>0</td>\n",
       "      <td>1</td>\n",
       "      <td>0.901427</td>\n",
       "      <td>0.290681</td>\n",
       "      <td>NaN</td>\n",
       "      <td>4.3737</td>\n",
       "    </tr>\n",
       "    <tr>\n",
       "      <th>4966996</th>\n",
       "      <td>J110037.90+534913.0</td>\n",
       "      <td>165.157928</td>\n",
       "      <td>53.820282</td>\n",
       "      <td></td>\n",
       "      <td>9</td>\n",
       "      <td>0.5</td>\n",
       "      <td>1</td>\n",
       "      <td>0.381836</td>\n",
       "      <td>0</td>\n",
       "      <td>1</td>\n",
       "      <td>0.874219</td>\n",
       "      <td>0.333809</td>\n",
       "      <td>NaN</td>\n",
       "      <td>4.1414</td>\n",
       "    </tr>\n",
       "    <tr>\n",
       "      <th>2894457</th>\n",
       "      <td>J124002.34+550127.0</td>\n",
       "      <td>190.009766</td>\n",
       "      <td>55.024178</td>\n",
       "      <td></td>\n",
       "      <td>5</td>\n",
       "      <td>0.5</td>\n",
       "      <td>1</td>\n",
       "      <td>0.352809</td>\n",
       "      <td>0</td>\n",
       "      <td>1</td>\n",
       "      <td>0.842551</td>\n",
       "      <td>0.297260</td>\n",
       "      <td>NaN</td>\n",
       "      <td>4.1447</td>\n",
       "    </tr>\n",
       "  </tbody>\n",
       "</table>\n",
       "</div>"
      ],
      "text/plain": [
       "                         Name     RA_ICRS    DE_ICRS  TYPE  band_num  class  \\\n",
       "538974   J115913.50+470014.9   179.806259  47.004150               9    0.5   \n",
       "4157385  J132142.13+544823.3   200.425552  54.806473               5    0.5   \n",
       "6206893  J133325.28+530702.5   203.355362  53.117374               6    0.5   \n",
       "2759703  J110541.47+545200.3   166.422775  54.866753               5    0.5   \n",
       "6677431  J144155.87+490937.4   220.482773  49.160397              10    0.5   \n",
       "1795588  J134648.50+473401.6   206.702103  47.567127               9    0.5   \n",
       "6604195  J113234.98+543103.2   173.145737  54.517555               5    0.5   \n",
       "4777641  J115926.29+494724.9   179.859512  49.790253               5    0.5   \n",
       "4745475  J140137.35+562547.8   210.405624  56.429943               5    0.5   \n",
       "3270771  J112618.48+554001.6   171.577026  55.667126               5    0.5   \n",
       "2617139  J105510.29+482049.3   163.792877  48.347034               5    0.5   \n",
       "4542618  J120509.17+513251.1   181.288239  51.547539               5    0.5   \n",
       "6395466  J115308.25+513748.7   178.284363  51.630184               5    0.5   \n",
       "4966996  J110037.90+534913.0   165.157928  53.820282               9    0.5   \n",
       "2894457  J124002.34+550127.0   190.009766  55.024178               5    0.5   \n",
       "\n",
       "         pred_class  Score_AGN  radio_detect  pred_radio  scaled_score_radio  \\\n",
       "538974            1   0.440280             1           1            0.995094   \n",
       "4157385           1   0.331344             0           1            0.983497   \n",
       "6206893           1   0.329543             0           1            0.983497   \n",
       "2759703           1   0.345806             0           1            0.981713   \n",
       "6677431           1   0.326461             0           1            0.980821   \n",
       "1795588           1   0.393392             0           1            0.980375   \n",
       "6604195           1   0.339998             0           1            0.978591   \n",
       "4777641           1   0.321864             0           1            0.978591   \n",
       "4745475           1   0.319668             0           1            0.978591   \n",
       "3270771           1   0.339347             0           1            0.945138   \n",
       "2617139           1   0.333521             0           1            0.945138   \n",
       "4542618           1   0.313421             0           1            0.936218   \n",
       "6395466           1   0.322467             0           1            0.901427   \n",
       "4966996           1   0.381836             0           1            0.874219   \n",
       "2894457           1   0.352809             0           1            0.842551   \n",
       "\n",
       "         scaled_score_rAGN   Z  pred_Z  \n",
       "538974            0.438120 NaN  4.4855  \n",
       "4157385           0.325875 NaN  4.5368  \n",
       "6206893           0.324105 NaN  4.5284  \n",
       "2759703           0.339483 NaN  4.5254  \n",
       "6677431           0.320200 NaN  4.1757  \n",
       "1795588           0.385671 NaN  4.1164  \n",
       "6604195           0.332719 NaN  4.4035  \n",
       "4777641           0.314973 NaN  4.3771  \n",
       "4745475           0.312824 NaN  4.3726  \n",
       "3270771           0.320730 NaN  4.4392  \n",
       "2617139           0.315224 NaN  4.3976  \n",
       "4542618           0.293431 NaN  4.5350  \n",
       "6395466           0.290681 NaN  4.3737  \n",
       "4966996           0.333809 NaN  4.1414  \n",
       "2894457           0.297260 NaN  4.1447  "
      ]
     },
     "metadata": {},
     "output_type": "display_data"
    }
   ],
   "source": [
    "display(full_catalog_df.loc[filt_new_rAGN_p * filter_high_z, cols_4_table].sort_values(by=['scaled_score_radio', 'pred_Z'], ascending=False).head(15))"
   ]
  },
  {
   "cell_type": "code",
   "execution_count": 75,
   "metadata": {},
   "outputs": [
    {
     "data": {
      "text/html": [
       "<div>\n",
       "<style scoped>\n",
       "    .dataframe tbody tr th:only-of-type {\n",
       "        vertical-align: middle;\n",
       "    }\n",
       "\n",
       "    .dataframe tbody tr th {\n",
       "        vertical-align: top;\n",
       "    }\n",
       "\n",
       "    .dataframe thead th {\n",
       "        text-align: right;\n",
       "    }\n",
       "</style>\n",
       "<table border=\"1\" class=\"dataframe\">\n",
       "  <thead>\n",
       "    <tr style=\"text-align: right;\">\n",
       "      <th></th>\n",
       "      <th>Name</th>\n",
       "      <th>RA_ICRS</th>\n",
       "      <th>DE_ICRS</th>\n",
       "      <th>TYPE</th>\n",
       "      <th>band_num</th>\n",
       "      <th>class</th>\n",
       "      <th>pred_class</th>\n",
       "      <th>Score_AGN</th>\n",
       "      <th>radio_detect</th>\n",
       "      <th>pred_radio</th>\n",
       "      <th>scaled_score_radio</th>\n",
       "      <th>scaled_score_rAGN</th>\n",
       "      <th>Z</th>\n",
       "      <th>pred_Z</th>\n",
       "    </tr>\n",
       "  </thead>\n",
       "  <tbody>\n",
       "    <tr>\n",
       "      <th>578385</th>\n",
       "      <td>J141845.28+543407.6</td>\n",
       "      <td>214.688690</td>\n",
       "      <td>54.568794</td>\n",
       "      <td></td>\n",
       "      <td>11</td>\n",
       "      <td>0.5</td>\n",
       "      <td>1</td>\n",
       "      <td>0.756781</td>\n",
       "      <td>0</td>\n",
       "      <td>1</td>\n",
       "      <td>0.836307</td>\n",
       "      <td>0.632901</td>\n",
       "      <td>NaN</td>\n",
       "      <td>3.9492</td>\n",
       "    </tr>\n",
       "    <tr>\n",
       "      <th>5676243</th>\n",
       "      <td>J111444.02+521108.0</td>\n",
       "      <td>168.683426</td>\n",
       "      <td>52.185547</td>\n",
       "      <td></td>\n",
       "      <td>11</td>\n",
       "      <td>0.5</td>\n",
       "      <td>1</td>\n",
       "      <td>0.929096</td>\n",
       "      <td>1</td>\n",
       "      <td>1</td>\n",
       "      <td>0.601249</td>\n",
       "      <td>0.558618</td>\n",
       "      <td>NaN</td>\n",
       "      <td>3.9503</td>\n",
       "    </tr>\n",
       "    <tr>\n",
       "      <th>5967552</th>\n",
       "      <td>J145544.35+533211.6</td>\n",
       "      <td>223.934769</td>\n",
       "      <td>53.536572</td>\n",
       "      <td></td>\n",
       "      <td>11</td>\n",
       "      <td>0.5</td>\n",
       "      <td>1</td>\n",
       "      <td>0.914142</td>\n",
       "      <td>0</td>\n",
       "      <td>1</td>\n",
       "      <td>0.598127</td>\n",
       "      <td>0.546773</td>\n",
       "      <td>NaN</td>\n",
       "      <td>3.9476</td>\n",
       "    </tr>\n",
       "    <tr>\n",
       "      <th>6338787</th>\n",
       "      <td>J145439.57+470741.9</td>\n",
       "      <td>223.664886</td>\n",
       "      <td>47.128338</td>\n",
       "      <td></td>\n",
       "      <td>11</td>\n",
       "      <td>0.5</td>\n",
       "      <td>1</td>\n",
       "      <td>0.899541</td>\n",
       "      <td>0</td>\n",
       "      <td>1</td>\n",
       "      <td>0.599465</td>\n",
       "      <td>0.539243</td>\n",
       "      <td>NaN</td>\n",
       "      <td>3.9476</td>\n",
       "    </tr>\n",
       "    <tr>\n",
       "      <th>5690838</th>\n",
       "      <td>J143232.21+532553.9</td>\n",
       "      <td>218.134201</td>\n",
       "      <td>53.431648</td>\n",
       "      <td></td>\n",
       "      <td>11</td>\n",
       "      <td>0.5</td>\n",
       "      <td>1</td>\n",
       "      <td>0.915907</td>\n",
       "      <td>0</td>\n",
       "      <td>1</td>\n",
       "      <td>0.580731</td>\n",
       "      <td>0.531896</td>\n",
       "      <td>NaN</td>\n",
       "      <td>3.9499</td>\n",
       "    </tr>\n",
       "    <tr>\n",
       "      <th>5104783</th>\n",
       "      <td>J143513.12+462651.2</td>\n",
       "      <td>218.804672</td>\n",
       "      <td>46.447559</td>\n",
       "      <td></td>\n",
       "      <td>11</td>\n",
       "      <td>0.5</td>\n",
       "      <td>1</td>\n",
       "      <td>0.872846</td>\n",
       "      <td>0</td>\n",
       "      <td>1</td>\n",
       "      <td>0.596789</td>\n",
       "      <td>0.520905</td>\n",
       "      <td>NaN</td>\n",
       "      <td>3.9530</td>\n",
       "    </tr>\n",
       "    <tr>\n",
       "      <th>5589809</th>\n",
       "      <td>J143612.87+524238.1</td>\n",
       "      <td>219.053619</td>\n",
       "      <td>52.710594</td>\n",
       "      <td></td>\n",
       "      <td>11</td>\n",
       "      <td>0.5</td>\n",
       "      <td>1</td>\n",
       "      <td>0.726643</td>\n",
       "      <td>0</td>\n",
       "      <td>1</td>\n",
       "      <td>0.695361</td>\n",
       "      <td>0.505280</td>\n",
       "      <td>NaN</td>\n",
       "      <td>3.9492</td>\n",
       "    </tr>\n",
       "    <tr>\n",
       "      <th>6415492</th>\n",
       "      <td>J143413.03+545329.3</td>\n",
       "      <td>218.554306</td>\n",
       "      <td>54.891491</td>\n",
       "      <td></td>\n",
       "      <td>11</td>\n",
       "      <td>0.5</td>\n",
       "      <td>1</td>\n",
       "      <td>0.843104</td>\n",
       "      <td>1</td>\n",
       "      <td>1</td>\n",
       "      <td>0.598127</td>\n",
       "      <td>0.504283</td>\n",
       "      <td>NaN</td>\n",
       "      <td>4.0430</td>\n",
       "    </tr>\n",
       "    <tr>\n",
       "      <th>6336407</th>\n",
       "      <td>J114811.78+543808.4</td>\n",
       "      <td>177.049072</td>\n",
       "      <td>54.635658</td>\n",
       "      <td></td>\n",
       "      <td>10</td>\n",
       "      <td>0.5</td>\n",
       "      <td>1</td>\n",
       "      <td>0.831932</td>\n",
       "      <td>0</td>\n",
       "      <td>1</td>\n",
       "      <td>0.599465</td>\n",
       "      <td>0.498714</td>\n",
       "      <td>NaN</td>\n",
       "      <td>4.1717</td>\n",
       "    </tr>\n",
       "    <tr>\n",
       "      <th>4956713</th>\n",
       "      <td>J120205.68+474814.5</td>\n",
       "      <td>180.523621</td>\n",
       "      <td>47.804020</td>\n",
       "      <td></td>\n",
       "      <td>9</td>\n",
       "      <td>0.5</td>\n",
       "      <td>1</td>\n",
       "      <td>0.776084</td>\n",
       "      <td>0</td>\n",
       "      <td>1</td>\n",
       "      <td>0.641838</td>\n",
       "      <td>0.498120</td>\n",
       "      <td>NaN</td>\n",
       "      <td>3.9556</td>\n",
       "    </tr>\n",
       "    <tr>\n",
       "      <th>5093433</th>\n",
       "      <td>J143250.42+454812.0</td>\n",
       "      <td>218.210098</td>\n",
       "      <td>45.803341</td>\n",
       "      <td></td>\n",
       "      <td>11</td>\n",
       "      <td>0.5</td>\n",
       "      <td>1</td>\n",
       "      <td>0.857725</td>\n",
       "      <td>0</td>\n",
       "      <td>1</td>\n",
       "      <td>0.580731</td>\n",
       "      <td>0.498108</td>\n",
       "      <td>NaN</td>\n",
       "      <td>3.9476</td>\n",
       "    </tr>\n",
       "    <tr>\n",
       "      <th>5893619</th>\n",
       "      <td>J112911.37+534814.6</td>\n",
       "      <td>172.297394</td>\n",
       "      <td>53.804058</td>\n",
       "      <td></td>\n",
       "      <td>10</td>\n",
       "      <td>0.5</td>\n",
       "      <td>1</td>\n",
       "      <td>0.812347</td>\n",
       "      <td>0</td>\n",
       "      <td>1</td>\n",
       "      <td>0.599465</td>\n",
       "      <td>0.486973</td>\n",
       "      <td>NaN</td>\n",
       "      <td>4.2319</td>\n",
       "    </tr>\n",
       "    <tr>\n",
       "      <th>4716372</th>\n",
       "      <td>J120749.76+520638.3</td>\n",
       "      <td>181.957352</td>\n",
       "      <td>52.110630</td>\n",
       "      <td></td>\n",
       "      <td>10</td>\n",
       "      <td>0.5</td>\n",
       "      <td>1</td>\n",
       "      <td>0.583778</td>\n",
       "      <td>0</td>\n",
       "      <td>1</td>\n",
       "      <td>0.833631</td>\n",
       "      <td>0.486656</td>\n",
       "      <td>NaN</td>\n",
       "      <td>4.1758</td>\n",
       "    </tr>\n",
       "    <tr>\n",
       "      <th>5580042</th>\n",
       "      <td>J143522.09+523118.7</td>\n",
       "      <td>218.842026</td>\n",
       "      <td>52.521885</td>\n",
       "      <td></td>\n",
       "      <td>10</td>\n",
       "      <td>0.5</td>\n",
       "      <td>1</td>\n",
       "      <td>0.653381</td>\n",
       "      <td>0</td>\n",
       "      <td>1</td>\n",
       "      <td>0.739964</td>\n",
       "      <td>0.483479</td>\n",
       "      <td>NaN</td>\n",
       "      <td>4.1757</td>\n",
       "    </tr>\n",
       "    <tr>\n",
       "      <th>6289636</th>\n",
       "      <td>J114534.33+533739.8</td>\n",
       "      <td>176.393036</td>\n",
       "      <td>53.627708</td>\n",
       "      <td></td>\n",
       "      <td>11</td>\n",
       "      <td>0.5</td>\n",
       "      <td>1</td>\n",
       "      <td>0.831279</td>\n",
       "      <td>1</td>\n",
       "      <td>1</td>\n",
       "      <td>0.573595</td>\n",
       "      <td>0.476817</td>\n",
       "      <td>NaN</td>\n",
       "      <td>3.9476</td>\n",
       "    </tr>\n",
       "  </tbody>\n",
       "</table>\n",
       "</div>"
      ],
      "text/plain": [
       "                         Name     RA_ICRS    DE_ICRS  TYPE  band_num  class  \\\n",
       "578385   J141845.28+543407.6   214.688690  54.568794              11    0.5   \n",
       "5676243  J111444.02+521108.0   168.683426  52.185547              11    0.5   \n",
       "5967552  J145544.35+533211.6   223.934769  53.536572              11    0.5   \n",
       "6338787  J145439.57+470741.9   223.664886  47.128338              11    0.5   \n",
       "5690838  J143232.21+532553.9   218.134201  53.431648              11    0.5   \n",
       "5104783  J143513.12+462651.2   218.804672  46.447559              11    0.5   \n",
       "5589809  J143612.87+524238.1   219.053619  52.710594              11    0.5   \n",
       "6415492  J143413.03+545329.3   218.554306  54.891491              11    0.5   \n",
       "6336407  J114811.78+543808.4   177.049072  54.635658              10    0.5   \n",
       "4956713  J120205.68+474814.5   180.523621  47.804020               9    0.5   \n",
       "5093433  J143250.42+454812.0   218.210098  45.803341              11    0.5   \n",
       "5893619  J112911.37+534814.6   172.297394  53.804058              10    0.5   \n",
       "4716372  J120749.76+520638.3   181.957352  52.110630              10    0.5   \n",
       "5580042  J143522.09+523118.7   218.842026  52.521885              10    0.5   \n",
       "6289636  J114534.33+533739.8   176.393036  53.627708              11    0.5   \n",
       "\n",
       "         pred_class  Score_AGN  radio_detect  pred_radio  scaled_score_radio  \\\n",
       "578385            1   0.756781             0           1            0.836307   \n",
       "5676243           1   0.929096             1           1            0.601249   \n",
       "5967552           1   0.914142             0           1            0.598127   \n",
       "6338787           1   0.899541             0           1            0.599465   \n",
       "5690838           1   0.915907             0           1            0.580731   \n",
       "5104783           1   0.872846             0           1            0.596789   \n",
       "5589809           1   0.726643             0           1            0.695361   \n",
       "6415492           1   0.843104             1           1            0.598127   \n",
       "6336407           1   0.831932             0           1            0.599465   \n",
       "4956713           1   0.776084             0           1            0.641838   \n",
       "5093433           1   0.857725             0           1            0.580731   \n",
       "5893619           1   0.812347             0           1            0.599465   \n",
       "4716372           1   0.583778             0           1            0.833631   \n",
       "5580042           1   0.653381             0           1            0.739964   \n",
       "6289636           1   0.831279             1           1            0.573595   \n",
       "\n",
       "         scaled_score_rAGN   Z  pred_Z  \n",
       "578385            0.632901 NaN  3.9492  \n",
       "5676243           0.558618 NaN  3.9503  \n",
       "5967552           0.546773 NaN  3.9476  \n",
       "6338787           0.539243 NaN  3.9476  \n",
       "5690838           0.531896 NaN  3.9499  \n",
       "5104783           0.520905 NaN  3.9530  \n",
       "5589809           0.505280 NaN  3.9492  \n",
       "6415492           0.504283 NaN  4.0430  \n",
       "6336407           0.498714 NaN  4.1717  \n",
       "4956713           0.498120 NaN  3.9556  \n",
       "5093433           0.498108 NaN  3.9476  \n",
       "5893619           0.486973 NaN  4.2319  \n",
       "4716372           0.486656 NaN  4.1758  \n",
       "5580042           0.483479 NaN  4.1757  \n",
       "6289636           0.476817 NaN  3.9476  "
      ]
     },
     "metadata": {},
     "output_type": "display_data"
    }
   ],
   "source": [
    "display(full_catalog_df.loc[filt_new_rAGN_p * filter_high_z, cols_4_table].sort_values(by=['scaled_score_rAGN', 'pred_Z'], ascending=False).head(15))"
   ]
  },
  {
   "cell_type": "code",
   "execution_count": 76,
   "metadata": {},
   "outputs": [
    {
     "data": {
      "text/html": [
       "<div>\n",
       "<style scoped>\n",
       "    .dataframe tbody tr th:only-of-type {\n",
       "        vertical-align: middle;\n",
       "    }\n",
       "\n",
       "    .dataframe tbody tr th {\n",
       "        vertical-align: top;\n",
       "    }\n",
       "\n",
       "    .dataframe thead th {\n",
       "        text-align: right;\n",
       "    }\n",
       "</style>\n",
       "<table border=\"1\" class=\"dataframe\">\n",
       "  <thead>\n",
       "    <tr style=\"text-align: right;\">\n",
       "      <th></th>\n",
       "      <th>Name</th>\n",
       "      <th>RA_ICRS</th>\n",
       "      <th>DE_ICRS</th>\n",
       "      <th>TYPE</th>\n",
       "      <th>band_num</th>\n",
       "      <th>class</th>\n",
       "      <th>pred_class</th>\n",
       "      <th>Score_AGN</th>\n",
       "      <th>radio_detect</th>\n",
       "      <th>pred_radio</th>\n",
       "      <th>scaled_score_radio</th>\n",
       "      <th>scaled_score_rAGN</th>\n",
       "      <th>Z</th>\n",
       "      <th>pred_Z</th>\n",
       "    </tr>\n",
       "  </thead>\n",
       "  <tbody>\n",
       "    <tr>\n",
       "      <th>4883063</th>\n",
       "      <td>J141330.37+471749.4</td>\n",
       "      <td>213.376511</td>\n",
       "      <td>47.297062</td>\n",
       "      <td>Q</td>\n",
       "      <td>11</td>\n",
       "      <td>1.0</td>\n",
       "      <td>1</td>\n",
       "      <td>0.947947</td>\n",
       "      <td>1</td>\n",
       "      <td>1</td>\n",
       "      <td>0.982159</td>\n",
       "      <td>0.931034</td>\n",
       "      <td>3.612</td>\n",
       "      <td>3.9476</td>\n",
       "    </tr>\n",
       "    <tr>\n",
       "      <th>5761354</th>\n",
       "      <td>J123556.86+550826.6</td>\n",
       "      <td>188.986923</td>\n",
       "      <td>55.140724</td>\n",
       "      <td>Q</td>\n",
       "      <td>11</td>\n",
       "      <td>1.0</td>\n",
       "      <td>1</td>\n",
       "      <td>0.941440</td>\n",
       "      <td>1</td>\n",
       "      <td>1</td>\n",
       "      <td>0.985727</td>\n",
       "      <td>0.928003</td>\n",
       "      <td>3.669</td>\n",
       "      <td>3.9512</td>\n",
       "    </tr>\n",
       "    <tr>\n",
       "      <th>6608371</th>\n",
       "      <td>J135310.76+482243.3</td>\n",
       "      <td>208.294800</td>\n",
       "      <td>48.378712</td>\n",
       "      <td>Q</td>\n",
       "      <td>11</td>\n",
       "      <td>1.0</td>\n",
       "      <td>1</td>\n",
       "      <td>0.941861</td>\n",
       "      <td>1</td>\n",
       "      <td>1</td>\n",
       "      <td>0.982159</td>\n",
       "      <td>0.925057</td>\n",
       "      <td>3.826</td>\n",
       "      <td>3.9476</td>\n",
       "    </tr>\n",
       "    <tr>\n",
       "      <th>4828779</th>\n",
       "      <td>J111947.06+462229.3</td>\n",
       "      <td>169.946106</td>\n",
       "      <td>46.374805</td>\n",
       "      <td>Q</td>\n",
       "      <td>11</td>\n",
       "      <td>1.0</td>\n",
       "      <td>1</td>\n",
       "      <td>0.936052</td>\n",
       "      <td>1</td>\n",
       "      <td>1</td>\n",
       "      <td>0.986619</td>\n",
       "      <td>0.923527</td>\n",
       "      <td>3.579</td>\n",
       "      <td>3.9492</td>\n",
       "    </tr>\n",
       "    <tr>\n",
       "      <th>1984719</th>\n",
       "      <td>J121537.77+545937.3</td>\n",
       "      <td>183.907364</td>\n",
       "      <td>54.993698</td>\n",
       "      <td>Q</td>\n",
       "      <td>11</td>\n",
       "      <td>1.0</td>\n",
       "      <td>1</td>\n",
       "      <td>0.938836</td>\n",
       "      <td>1</td>\n",
       "      <td>1</td>\n",
       "      <td>0.982159</td>\n",
       "      <td>0.922086</td>\n",
       "      <td>4.107</td>\n",
       "      <td>3.9499</td>\n",
       "    </tr>\n",
       "    <tr>\n",
       "      <th>4846431</th>\n",
       "      <td>J131536.58+485629.1</td>\n",
       "      <td>198.902420</td>\n",
       "      <td>48.941429</td>\n",
       "      <td>QR</td>\n",
       "      <td>11</td>\n",
       "      <td>1.0</td>\n",
       "      <td>1</td>\n",
       "      <td>0.937819</td>\n",
       "      <td>1</td>\n",
       "      <td>1</td>\n",
       "      <td>0.982159</td>\n",
       "      <td>0.921087</td>\n",
       "      <td>3.612</td>\n",
       "      <td>3.9476</td>\n",
       "    </tr>\n",
       "    <tr>\n",
       "      <th>4836323</th>\n",
       "      <td>J143440.80+475826.4</td>\n",
       "      <td>218.669998</td>\n",
       "      <td>47.974003</td>\n",
       "      <td>Q</td>\n",
       "      <td>11</td>\n",
       "      <td>1.0</td>\n",
       "      <td>1</td>\n",
       "      <td>0.928947</td>\n",
       "      <td>1</td>\n",
       "      <td>1</td>\n",
       "      <td>0.989295</td>\n",
       "      <td>0.919003</td>\n",
       "      <td>3.666</td>\n",
       "      <td>3.9515</td>\n",
       "    </tr>\n",
       "    <tr>\n",
       "      <th>4836087</th>\n",
       "      <td>J135404.72+460724.8</td>\n",
       "      <td>208.519653</td>\n",
       "      <td>46.123558</td>\n",
       "      <td>Q</td>\n",
       "      <td>11</td>\n",
       "      <td>1.0</td>\n",
       "      <td>1</td>\n",
       "      <td>0.924757</td>\n",
       "      <td>1</td>\n",
       "      <td>1</td>\n",
       "      <td>0.990187</td>\n",
       "      <td>0.915682</td>\n",
       "      <td>3.833</td>\n",
       "      <td>3.9492</td>\n",
       "    </tr>\n",
       "    <tr>\n",
       "      <th>4882403</th>\n",
       "      <td>J113738.75+501142.4</td>\n",
       "      <td>174.411453</td>\n",
       "      <td>50.195126</td>\n",
       "      <td>Q</td>\n",
       "      <td>11</td>\n",
       "      <td>1.0</td>\n",
       "      <td>1</td>\n",
       "      <td>0.928987</td>\n",
       "      <td>1</td>\n",
       "      <td>1</td>\n",
       "      <td>0.983943</td>\n",
       "      <td>0.914070</td>\n",
       "      <td>3.994</td>\n",
       "      <td>3.9499</td>\n",
       "    </tr>\n",
       "    <tr>\n",
       "      <th>4836334</th>\n",
       "      <td>J134515.76+514242.3</td>\n",
       "      <td>206.315628</td>\n",
       "      <td>51.711754</td>\n",
       "      <td>Q</td>\n",
       "      <td>11</td>\n",
       "      <td>1.0</td>\n",
       "      <td>1</td>\n",
       "      <td>0.923174</td>\n",
       "      <td>1</td>\n",
       "      <td>1</td>\n",
       "      <td>0.982159</td>\n",
       "      <td>0.906704</td>\n",
       "      <td>3.632</td>\n",
       "      <td>3.9476</td>\n",
       "    </tr>\n",
       "    <tr>\n",
       "      <th>4846318</th>\n",
       "      <td>J143009.58+550535.1</td>\n",
       "      <td>217.539917</td>\n",
       "      <td>55.093086</td>\n",
       "      <td>Q</td>\n",
       "      <td>11</td>\n",
       "      <td>1.0</td>\n",
       "      <td>1</td>\n",
       "      <td>0.911900</td>\n",
       "      <td>1</td>\n",
       "      <td>1</td>\n",
       "      <td>0.981713</td>\n",
       "      <td>0.895224</td>\n",
       "      <td>3.780</td>\n",
       "      <td>3.9476</td>\n",
       "    </tr>\n",
       "    <tr>\n",
       "      <th>6252215</th>\n",
       "      <td>J132110.18+502202.6</td>\n",
       "      <td>200.292435</td>\n",
       "      <td>50.367386</td>\n",
       "      <td>Q</td>\n",
       "      <td>11</td>\n",
       "      <td>1.0</td>\n",
       "      <td>1</td>\n",
       "      <td>0.907231</td>\n",
       "      <td>1</td>\n",
       "      <td>1</td>\n",
       "      <td>0.982159</td>\n",
       "      <td>0.891045</td>\n",
       "      <td>3.711</td>\n",
       "      <td>3.9476</td>\n",
       "    </tr>\n",
       "    <tr>\n",
       "      <th>3411121</th>\n",
       "      <td>J133820.08+561150.4</td>\n",
       "      <td>204.583664</td>\n",
       "      <td>56.197327</td>\n",
       "      <td>Q</td>\n",
       "      <td>14</td>\n",
       "      <td>1.0</td>\n",
       "      <td>1</td>\n",
       "      <td>0.898172</td>\n",
       "      <td>1</td>\n",
       "      <td>1</td>\n",
       "      <td>0.991525</td>\n",
       "      <td>0.890560</td>\n",
       "      <td>3.801</td>\n",
       "      <td>3.9492</td>\n",
       "    </tr>\n",
       "    <tr>\n",
       "      <th>6332686</th>\n",
       "      <td>J130342.11+504409.4</td>\n",
       "      <td>195.925446</td>\n",
       "      <td>50.735943</td>\n",
       "      <td>QR</td>\n",
       "      <td>6</td>\n",
       "      <td>1.0</td>\n",
       "      <td>1</td>\n",
       "      <td>0.901317</td>\n",
       "      <td>1</td>\n",
       "      <td>1</td>\n",
       "      <td>0.980375</td>\n",
       "      <td>0.883629</td>\n",
       "      <td>3.678</td>\n",
       "      <td>3.9483</td>\n",
       "    </tr>\n",
       "    <tr>\n",
       "      <th>4867638</th>\n",
       "      <td>J142209.71+465932.3</td>\n",
       "      <td>215.540436</td>\n",
       "      <td>46.992298</td>\n",
       "      <td>QR</td>\n",
       "      <td>11</td>\n",
       "      <td>1.0</td>\n",
       "      <td>1</td>\n",
       "      <td>0.895505</td>\n",
       "      <td>1</td>\n",
       "      <td>1</td>\n",
       "      <td>0.985281</td>\n",
       "      <td>0.882324</td>\n",
       "      <td>3.812</td>\n",
       "      <td>3.9503</td>\n",
       "    </tr>\n",
       "  </tbody>\n",
       "</table>\n",
       "</div>"
      ],
      "text/plain": [
       "                         Name     RA_ICRS    DE_ICRS  TYPE  band_num  class  \\\n",
       "4883063  J141330.37+471749.4   213.376511  47.297062  Q           11    1.0   \n",
       "5761354  J123556.86+550826.6   188.986923  55.140724  Q           11    1.0   \n",
       "6608371  J135310.76+482243.3   208.294800  48.378712  Q           11    1.0   \n",
       "4828779  J111947.06+462229.3   169.946106  46.374805  Q           11    1.0   \n",
       "1984719  J121537.77+545937.3   183.907364  54.993698  Q           11    1.0   \n",
       "4846431  J131536.58+485629.1   198.902420  48.941429  QR          11    1.0   \n",
       "4836323  J143440.80+475826.4   218.669998  47.974003  Q           11    1.0   \n",
       "4836087  J135404.72+460724.8   208.519653  46.123558  Q           11    1.0   \n",
       "4882403  J113738.75+501142.4   174.411453  50.195126  Q           11    1.0   \n",
       "4836334  J134515.76+514242.3   206.315628  51.711754  Q           11    1.0   \n",
       "4846318  J143009.58+550535.1   217.539917  55.093086  Q           11    1.0   \n",
       "6252215  J132110.18+502202.6   200.292435  50.367386  Q           11    1.0   \n",
       "3411121  J133820.08+561150.4   204.583664  56.197327  Q           14    1.0   \n",
       "6332686  J130342.11+504409.4   195.925446  50.735943  QR           6    1.0   \n",
       "4867638  J142209.71+465932.3   215.540436  46.992298  QR          11    1.0   \n",
       "\n",
       "         pred_class  Score_AGN  radio_detect  pred_radio  scaled_score_radio  \\\n",
       "4883063           1   0.947947             1           1            0.982159   \n",
       "5761354           1   0.941440             1           1            0.985727   \n",
       "6608371           1   0.941861             1           1            0.982159   \n",
       "4828779           1   0.936052             1           1            0.986619   \n",
       "1984719           1   0.938836             1           1            0.982159   \n",
       "4846431           1   0.937819             1           1            0.982159   \n",
       "4836323           1   0.928947             1           1            0.989295   \n",
       "4836087           1   0.924757             1           1            0.990187   \n",
       "4882403           1   0.928987             1           1            0.983943   \n",
       "4836334           1   0.923174             1           1            0.982159   \n",
       "4846318           1   0.911900             1           1            0.981713   \n",
       "6252215           1   0.907231             1           1            0.982159   \n",
       "3411121           1   0.898172             1           1            0.991525   \n",
       "6332686           1   0.901317             1           1            0.980375   \n",
       "4867638           1   0.895505             1           1            0.985281   \n",
       "\n",
       "         scaled_score_rAGN      Z  pred_Z  \n",
       "4883063           0.931034  3.612  3.9476  \n",
       "5761354           0.928003  3.669  3.9512  \n",
       "6608371           0.925057  3.826  3.9476  \n",
       "4828779           0.923527  3.579  3.9492  \n",
       "1984719           0.922086  4.107  3.9499  \n",
       "4846431           0.921087  3.612  3.9476  \n",
       "4836323           0.919003  3.666  3.9515  \n",
       "4836087           0.915682  3.833  3.9492  \n",
       "4882403           0.914070  3.994  3.9499  \n",
       "4836334           0.906704  3.632  3.9476  \n",
       "4846318           0.895224  3.780  3.9476  \n",
       "6252215           0.891045  3.711  3.9476  \n",
       "3411121           0.890560  3.801  3.9492  \n",
       "6332686           0.883629  3.678  3.9483  \n",
       "4867638           0.882324  3.812  3.9503  "
      ]
     },
     "metadata": {},
     "output_type": "display_data"
    }
   ],
   "source": [
    "display(full_catalog_df.loc[filter_high_z, cols_4_table].sort_values(by=['scaled_score_rAGN', 'pred_Z'], ascending=False).head(15))"
   ]
  },
  {
   "cell_type": "markdown",
   "metadata": {},
   "source": [
    "Confusion matrix for AGN/galaxy prediction on all sources"
   ]
  },
  {
   "cell_type": "code",
   "execution_count": 77,
   "metadata": {
    "jupyter": {
     "source_hidden": true
    },
    "tags": []
   },
   "outputs": [],
   "source": [
    "MCC_AGN              = MCC_from_CM(cm_AGN)\n",
    "ACC_AGN              = ACC_from_CM(cm_AGN)\n",
    "F1_AGN               = F1_from_CM(cm_AGN)\n",
    "Recall_AGN           = Recall_from_CM(cm_AGN)"
   ]
  },
  {
   "cell_type": "markdown",
   "metadata": {},
   "source": [
    "Confusion matrices for AGN criteria from literature"
   ]
  },
  {
   "cell_type": "code",
   "execution_count": 78,
   "metadata": {
    "jupyter": {
     "source_hidden": true
    }
   },
   "outputs": [],
   "source": [
    "MCC_AGN_S12          = MCC_from_CM(cm_AGN_S12)\n",
    "ACC_AGN_S12          = ACC_from_CM(cm_AGN_S12)\n",
    "F1_AGN_S12           = F1_from_CM(cm_AGN_S12)\n",
    "Recall_AGN_S12       = Recall_from_CM(cm_AGN_S12)\n",
    "\n",
    "MCC_AGN_M12          = MCC_from_CM(cm_AGN_M12)\n",
    "ACC_AGN_M12          = ACC_from_CM(cm_AGN_M12)\n",
    "F1_AGN_M12           = F1_from_CM(cm_AGN_M12)\n",
    "Recall_AGN_M12       = Recall_from_CM(cm_AGN_M12)\n",
    "\n",
    "MCC_AGN_M16          = MCC_from_CM(cm_AGN_M16)\n",
    "ACC_AGN_M16          = ACC_from_CM(cm_AGN_M16)\n",
    "F1_AGN_M16           = F1_from_CM(cm_AGN_M16)\n",
    "Recall_AGN_M16       = Recall_from_CM(cm_AGN_M16)\n",
    "\n",
    "MCC_AGN_B18          = MCC_from_CM(cm_AGN_B18)\n",
    "ACC_AGN_B18          = ACC_from_CM(cm_AGN_B18)\n",
    "F1_AGN_B18           = F1_from_CM(cm_AGN_B18)\n",
    "Recall_AGN_B18       = Recall_from_CM(cm_AGN_B18)"
   ]
  },
  {
   "cell_type": "markdown",
   "metadata": {},
   "source": [
    "Confusion matrix for radio detection prediction on all predicted AGN"
   ]
  },
  {
   "cell_type": "code",
   "execution_count": 79,
   "metadata": {
    "jupyter": {
     "source_hidden": true
    },
    "tags": []
   },
   "outputs": [],
   "source": [
    "MCC_radio            = MCC_from_CM(cm_radio)\n",
    "ACC_radio            = ACC_from_CM(cm_radio)\n",
    "F1_radio             = F1_from_CM(cm_radio)\n",
    "Recall_radio         = Recall_from_CM(cm_radio)"
   ]
  },
  {
   "cell_type": "markdown",
   "metadata": {},
   "source": [
    "Confusion matrix for radio detection prediction on all confirmed sources"
   ]
  },
  {
   "cell_type": "code",
   "execution_count": 80,
   "metadata": {
    "jupyter": {
     "source_hidden": true
    },
    "tags": []
   },
   "outputs": [],
   "source": [
    "MCC_radio_conf       = MCC_from_CM(cm_radio_conf)\n",
    "ACC_radio_conf       = ACC_from_CM(cm_radio_conf)\n",
    "F1_radio_conf        = F1_from_CM(cm_radio_conf)\n",
    "Recall_radio_conf    = Recall_from_CM(cm_radio_conf)"
   ]
  },
  {
   "cell_type": "markdown",
   "metadata": {},
   "source": [
    "Confusion matrix for radio AGN detection prediction."
   ]
  },
  {
   "cell_type": "code",
   "execution_count": 81,
   "metadata": {
    "jupyter": {
     "source_hidden": true
    },
    "tags": []
   },
   "outputs": [],
   "source": [
    "MCC_radio_AGN        = MCC_from_CM(cm_radio_AGN)\n",
    "ACC_radio_AGN        = ACC_from_CM(cm_radio_AGN)\n",
    "F1_radio_AGN         = F1_from_CM(cm_radio_AGN)\n",
    "Recall_radio_AGN     = Recall_from_CM(cm_radio_AGN)"
   ]
  },
  {
   "cell_type": "markdown",
   "metadata": {},
   "source": [
    "Confusion matrix for radio AGN detection prediction on confirmed sources."
   ]
  },
  {
   "cell_type": "code",
   "execution_count": 82,
   "metadata": {
    "jupyter": {
     "source_hidden": true
    },
    "tags": []
   },
   "outputs": [],
   "source": [
    "MCC_radio_AGN_conf    = MCC_from_CM(cm_radio_AGN_conf)\n",
    "ACC_radio_AGN_conf    = ACC_from_CM(cm_radio_AGN_conf)\n",
    "F1_radio_AGN_conf     = F1_from_CM(cm_radio_AGN_conf)\n",
    "Recall_radio_AGN_conf = Recall_from_CM(cm_radio_AGN_conf)"
   ]
  },
  {
   "cell_type": "markdown",
   "metadata": {},
   "source": [
    "Print metrics"
   ]
  },
  {
   "cell_type": "code",
   "execution_count": 83,
   "metadata": {
    "jupyter": {
     "source_hidden": true
    },
    "tags": []
   },
   "outputs": [
    {
     "name": "stdout",
     "output_type": "stream",
     "text": [
      "Metrics for AGN prediction on all spectroscopically confirmed sources.\n",
      "Sample size,                        N = 85,548\n",
      "Matthews Correlation Coefficient, MCC = 0.9424\n",
      "Accuracy,                         ACC = 0.9729\n",
      "F-1 Score,                         F1 = 0.9629\n",
      "Recall,                        Recall = 0.9885\n"
     ]
    }
   ],
   "source": [
    "print('Metrics for AGN prediction on all spectroscopically confirmed sources.')\n",
    "print(f'Sample size,                        N = {np.sum(filter_gal_AGN_t):,}')\n",
    "print(f'Matthews Correlation Coefficient, MCC = {MCC_AGN:.4f}')\n",
    "print(f'Accuracy,                         ACC = {ACC_AGN:.4f}')\n",
    "print(f'F-1 Score,                         F1 = {F1_AGN:.4f}')\n",
    "print(f'Recall,                        Recall = {Recall_AGN:.4f}')"
   ]
  },
  {
   "cell_type": "code",
   "execution_count": 84,
   "metadata": {
    "jupyter": {
     "source_hidden": true
    },
    "tags": []
   },
   "outputs": [
    {
     "name": "stdout",
     "output_type": "stream",
     "text": [
      "Metrics for AGN detection criteria (from literature) on all spectroscopically confirmed sources.\n",
      "Sample size, N = 85,548\n",
      "Criterion:        S12\tM12\tM16\tMB18\n",
      "MCC,       MCC = 0.7057\t0.5123\t0.6287\t0.7438\n",
      "Accuracy,  ACC = 0.8673\t0.7720\t0.8273\t0.8816\n",
      "F-1 Score,  F1 = 0.8027\t0.5305\t0.6879\t0.8074\n",
      "Recall, Recall = 0.7600\t0.3624\t0.5358\t0.6981\n"
     ]
    }
   ],
   "source": [
    "print('Metrics for AGN detection criteria (from literature) on all spectroscopically confirmed sources.')\n",
    "print(f'Sample size, N = {np.sum(filter_gal_AGN_t):,}')\n",
    "print('Criterion:        S12\\tM12\\tM16\\tMB18')\n",
    "print(f'MCC,       MCC = {MCC_AGN_S12:.4f}\\t{MCC_AGN_M12:.4f}\\t{MCC_AGN_M16:.4f}\\t{MCC_AGN_B18:.4f}')\n",
    "print(f'Accuracy,  ACC = {ACC_AGN_S12:.4f}\\t{ACC_AGN_M12:.4f}\\t{ACC_AGN_M16:.4f}\\t{ACC_AGN_B18:.4f}')\n",
    "print(f'F-1 Score,  F1 = {F1_AGN_S12:.4f}\\t{F1_AGN_M12:.4f}\\t{F1_AGN_M16:.4f}\\t{F1_AGN_B18:.4f}')\n",
    "print(f'Recall, Recall = {Recall_AGN_S12:.4f}\\t{Recall_AGN_M12:.4f}\\t{Recall_AGN_M16:.4f}\\t{Recall_AGN_B18:.4f}')"
   ]
  },
  {
   "cell_type": "code",
   "execution_count": 85,
   "metadata": {
    "jupyter": {
     "source_hidden": true
    },
    "tags": []
   },
   "outputs": [
    {
     "name": "stdout",
     "output_type": "stream",
     "text": [
      "Metrics for radio detection prediction on all predicted AGN\n",
      "Sample size,                        N = 4,803,610\n",
      "Matthews Correlation Coefficient, MCC = 0.2473\n",
      "Accuracy,                         ACC = 0.8926\n",
      "F-1 Score,                         F1 = 0.2655\n",
      "Recall,                        Recall = 0.4702\n"
     ]
    }
   ],
   "source": [
    "print('Metrics for radio detection prediction on all predicted AGN')\n",
    "print(f'Sample size,                        N = {np.sum(filter_AGN_p):,}')\n",
    "print(f'Matthews Correlation Coefficient, MCC = {MCC_radio:.4f}')\n",
    "print(f'Accuracy,                         ACC = {ACC_radio:.4f}')\n",
    "print(f'F-1 Score,                         F1 = {F1_radio:.4f}')\n",
    "print(f'Recall,                        Recall = {Recall_radio:.4f}')"
   ]
  },
  {
   "cell_type": "code",
   "execution_count": 86,
   "metadata": {
    "jupyter": {
     "source_hidden": true
    },
    "tags": []
   },
   "outputs": [
    {
     "name": "stdout",
     "output_type": "stream",
     "text": [
      "Metrics for radio detection prediction on all confirmed sources predicted to be AGN\n",
      "Sample size,                        N = 32,008\n",
      "Matthews Correlation Coefficient, MCC = 0.8661\n",
      "Accuracy,                         ACC = 0.9422\n",
      "F-1 Score,                         F1 = 0.9081\n",
      "Recall,                        Recall = 0.8978\n"
     ]
    }
   ],
   "source": [
    "print('Metrics for radio detection prediction on all confirmed sources predicted to be AGN')\n",
    "print(f'Sample size,                        N = {np.sum(filter_AGN_p & filter_gal_AGN_t):,}')\n",
    "print(f'Matthews Correlation Coefficient, MCC = {MCC_radio_conf:.4f}')\n",
    "print(f'Accuracy,                         ACC = {ACC_radio_conf:.4f}')\n",
    "print(f'F-1 Score,                         F1 = {F1_radio_conf:.4f}')\n",
    "print(f'Recall,                        Recall = {Recall_radio_conf:.4f}')"
   ]
  },
  {
   "cell_type": "code",
   "execution_count": 87,
   "metadata": {
    "jupyter": {
     "source_hidden": true
    },
    "tags": []
   },
   "outputs": [
    {
     "name": "stdout",
     "output_type": "stream",
     "text": [
      "Metrics for radio AGN detection prediction\n",
      "Sample size,                        N = 6,729,647\n",
      "Matthews Correlation Coefficient, MCC = 0.1181\n",
      "Accuracy,                         ACC = 0.9262\n",
      "F-1 Score,                         F1 = 0.0341\n",
      "Recall,                        Recall = 0.8851\n"
     ]
    }
   ],
   "source": [
    "print('Metrics for radio AGN detection prediction')\n",
    "print(f'Sample size,                        N = {total_size:,}')\n",
    "print(f'Matthews Correlation Coefficient, MCC = {MCC_radio_AGN:.4f}')\n",
    "print(f'Accuracy,                         ACC = {ACC_radio_AGN:.4f}')\n",
    "print(f'F-1 Score,                         F1 = {F1_radio_AGN:.4f}')\n",
    "print(f'Recall,                        Recall = {Recall_radio_AGN:.4f}')"
   ]
  },
  {
   "cell_type": "code",
   "execution_count": 88,
   "metadata": {
    "jupyter": {
     "source_hidden": true
    },
    "tags": []
   },
   "outputs": [
    {
     "name": "stdout",
     "output_type": "stream",
     "text": [
      "Metrics for radio AGN detection prediction on all confirmed sources\n",
      "Sample size,                        N = 85,548\n",
      "Matthews Correlation Coefficient, MCC = 0.8673\n",
      "Accuracy,                         ACC = 0.9728\n",
      "F-1 Score,                         F1 = 0.8827\n",
      "Recall,                        Recall = 0.8851\n"
     ]
    }
   ],
   "source": [
    "print('Metrics for radio AGN detection prediction on all confirmed sources')\n",
    "print(f'Sample size,                        N = {np.sum(filter_gal_AGN_t):,}')\n",
    "print(f'Matthews Correlation Coefficient, MCC = {MCC_radio_AGN_conf:.4f}')\n",
    "print(f'Accuracy,                         ACC = {ACC_radio_AGN_conf:.4f}')\n",
    "print(f'F-1 Score,                         F1 = {F1_radio_AGN_conf:.4f}')\n",
    "print(f'Recall,                        Recall = {Recall_radio_AGN_conf:.4f}')"
   ]
  },
  {
   "cell_type": "code",
   "execution_count": 89,
   "metadata": {
    "jupyter": {
     "source_hidden": true
    },
    "tags": []
   },
   "outputs": [
    {
     "name": "stdout",
     "output_type": "stream",
     "text": [
      "Metrics for redshift prediction on all predicted radio AGN with only one Z model\n",
      "Sample size,                        N = 93,071\n",
      "Sigma MAD                       σ MAD = 0.1104\n",
      "Sigma NMAD,                    σ NMAD = 0.0529\n",
      "Sigma z,                          σ z = 0.0752\n",
      "Sigma z normalized,             σ z N = 0.0586\n",
      "Outlier fraction,                   η = 0.1599\n"
     ]
    }
   ],
   "source": [
    "print('Metrics for redshift prediction on all predicted radio AGN with only one Z model')\n",
    "print(f'Sample size,                        N = {np.sum(np.isfinite(full_catalog_df.loc[:, \"Z\"]) & np.isfinite(full_catalog_df.loc[:, \"pred_Z\"])):,}')\n",
    "print(f'Sigma MAD                       \\u03C3 MAD = {sigma_mad_early:.4f}')\n",
    "print(f'Sigma NMAD,                    \\u03C3 NMAD = {sigma_nmad_early:.4f}')\n",
    "print(f'Sigma z,                          \\u03C3 z = {sigma_z_early:.4f}')\n",
    "print(f'Sigma z normalized,             \\u03C3 z N = {sigma_z_norm_early:.4f}')\n",
    "print(f'Outlier fraction,                   \\u03B7 = {out_frac_early:.4f}')"
   ]
  },
  {
   "cell_type": "code",
   "execution_count": 90,
   "metadata": {
    "jupyter": {
     "source_hidden": true
    },
    "tags": []
   },
   "outputs": [
    {
     "name": "stdout",
     "output_type": "stream",
     "text": [
      "Metrics for redshift prediction on all predicted radio AGN with all models\n",
      "Sample size,                        N = 93,071\n",
      "Sigma MAD                       σ MAD = 0.1104\n",
      "Sigma NMAD,                    σ NMAD = 0.0528\n",
      "Sigma z,                          σ z = 0.0755\n",
      "Sigma z normalized,             σ z N = 0.0590\n",
      "Outlier fraction,                   η = 0.1597\n"
     ]
    }
   ],
   "source": [
    "print('Metrics for redshift prediction on all predicted radio AGN with all models')\n",
    "print(f'Sample size,                        N = {np.sum(np.isfinite(full_catalog_df.loc[:, \"Z\"]) & np.isfinite(full_catalog_df.loc[:, \"pred_Z\"])):,}')\n",
    "print(f'Sigma MAD                       \\u03C3 MAD = {sigma_mad_field:.4f}')\n",
    "print(f'Sigma NMAD,                    \\u03C3 NMAD = {sigma_nmad_field:.4f}')\n",
    "print(f'Sigma z,                          \\u03C3 z = {sigma_z_field:.4f}')\n",
    "print(f'Sigma z normalized,             \\u03C3 z N = {sigma_z_norm_field:.4f}')\n",
    "print(f'Outlier fraction,                   \\u03B7 = {out_frac_field:.4f}')"
   ]
  },
  {
   "cell_type": "code",
   "execution_count": 91,
   "metadata": {
    "jupyter": {
     "source_hidden": true
    }
   },
   "outputs": [
    {
     "name": "stdout",
     "output_type": "stream",
     "text": [
      "Metrics for redshift prediction on predicted radio AGN with only one Z model at high z (original prediction)\n",
      "Sample size,                        N = 394\n",
      "Sigma MAD                       σ MAD = 0.3271\n",
      "Sigma NMAD,                    σ NMAD = 0.0701\n",
      "Sigma z,                          σ z = 0.2259\n",
      "Sigma z normalized,             σ z N = 0.2164\n",
      "Outlier fraction,                   η = 0.1695\n"
     ]
    }
   ],
   "source": [
    "print('Metrics for redshift prediction on predicted radio AGN with only one Z model at high z (original prediction)')\n",
    "print(f'Sample size,                        N = {np.sum(np.isfinite(full_catalog_df.loc[:, \"Z\"]) & np.isfinite(full_catalog_df.loc[:, \"pred_Z\"]) & np.array(full_catalog_df.loc[:, \"pred_Z\"] >= redshift_lim_c)):,}')\n",
    "print(f'Sigma MAD                       \\u03C3 MAD = {sigma_mad_early_hiz:.4f}')\n",
    "print(f'Sigma NMAD,                    \\u03C3 NMAD = {sigma_nmad_early_hiz:.4f}')\n",
    "print(f'Sigma z,                          \\u03C3 z = {sigma_z_early_hiz:.4f}')\n",
    "print(f'Sigma z normalized,             \\u03C3 z N = {sigma_z_norm_early_hiz:.4f}')\n",
    "print(f'Outlier fraction,                   \\u03B7 = {out_frac_early_hiz:.4f}')"
   ]
  },
  {
   "cell_type": "code",
   "execution_count": 92,
   "metadata": {
    "jupyter": {
     "source_hidden": true
    }
   },
   "outputs": [
    {
     "name": "stdout",
     "output_type": "stream",
     "text": [
      "Metrics for redshift prediction on predicted radio AGN with all models at high z\n",
      "Sample size,                        N = 394\n",
      "Sigma MAD                       σ MAD = 0.2628\n",
      "Sigma NMAD,                    σ NMAD = 0.0551\n",
      "Sigma z,                          σ z = 0.2465\n",
      "Sigma z normalized,             σ z N = 0.2379\n",
      "Outlier fraction,                   η = 0.1356\n"
     ]
    }
   ],
   "source": [
    "print('Metrics for redshift prediction on predicted radio AGN with all models at high z')\n",
    "print(f'Sample size,                        N = {np.sum(np.isfinite(full_catalog_df.loc[:, \"Z\"]) & np.isfinite(full_catalog_df.loc[:, \"pred_Z\"]) & np.array(full_catalog_df.loc[:, \"pred_Z\"] >= redshift_lim_c)):,}')\n",
    "print(f'Sigma MAD                       \\u03C3 MAD = {sigma_mad_field_hiz:.4f}')\n",
    "print(f'Sigma NMAD,                    \\u03C3 NMAD = {sigma_nmad_field_hiz:.4f}')\n",
    "print(f'Sigma z,                          \\u03C3 z = {sigma_z_field_hiz:.4f}')\n",
    "print(f'Sigma z normalized,             \\u03C3 z N = {sigma_z_norm_field_hiz:.4f}')\n",
    "print(f'Outlier fraction,                   \\u03B7 = {out_frac_field_hiz:.4f}')"
   ]
  },
  {
   "cell_type": "markdown",
   "metadata": {},
   "source": [
    "Plot predictions"
   ]
  },
  {
   "cell_type": "code",
   "execution_count": 93,
   "metadata": {
    "jupyter": {
     "source_hidden": true
    },
    "tags": []
   },
   "outputs": [
    {
     "data": {
      "image/png": "[encoded data removed]",
      "text/plain": [
       "<Figure size 600x500 with 1 Axes>"
      ]
     },
     "metadata": {},
     "output_type": "display_data"
    }
   ],
   "source": [
    "fig             = plt.figure(figsize=(6,5))\n",
    "ax1             = fig.add_subplot(111)\n",
    "plot_conf_mat(cm_AGN, title=used_area, axin=ax1, display_labels=['Galaxy', 'AGN'], log_stretch=False)\n",
    "if save_plot_flag:\n",
    "    plt.savefig(f'plots/conf_matrix_AGN_{used_area}.pdf', bbox_inches='tight')\n",
    "plt.show()"
   ]
  },
  {
   "cell_type": "code",
   "execution_count": 94,
   "metadata": {
    "jupyter": {
     "source_hidden": true
    },
    "tags": []
   },
   "outputs": [
    {
     "data": {
      "image/png": "[encoded data removed]",
      "text/plain": [
       "<Figure size 700x600 with 1 Axes>"
      ]
     },
     "metadata": {},
     "output_type": "display_data"
    }
   ],
   "source": [
    "fig             = plt.figure(figsize=(7,6))\n",
    "ax1             = fig.add_subplot(111)\n",
    "plot_conf_mat(cm_AGN_large, title=used_area, axin=ax1, display_labels=['Galaxy', 'Unknown', 'AGN'], log_stretch=False)\n",
    "\n",
    "ax1.xaxis.get_label().set_fontsize(18)\n",
    "ax1.yaxis.get_label().set_fontsize(18)\n",
    "\n",
    "ax1.tick_params(axis='both', which='major', labelsize=20)\n",
    "ax1.tick_params(axis='y', which='major', labelrotation=90)\n",
    "plt.yticks(va='center')\n",
    "if save_plot_flag:\n",
    "    plt.savefig(f'plots/conf_matrix_AGN_all_classes_{used_area}.pdf', bbox_inches='tight')\n",
    "plt.show()"
   ]
  },
  {
   "cell_type": "code",
   "execution_count": 95,
   "metadata": {
    "jupyter": {
     "source_hidden": true
    },
    "tags": []
   },
   "outputs": [
    {
     "data": {
      "image/png": "[encoded data removed]",
      "text/plain": [
       "<Figure size 600x500 with 1 Axes>"
      ]
     },
     "metadata": {},
     "output_type": "display_data"
    }
   ],
   "source": [
    "fig             = plt.figure(figsize=(6,5))\n",
    "ax1             = fig.add_subplot(111)\n",
    "plot_conf_mat(cm_radio, title=used_area, axin=ax1, display_labels=['No\\nRadio', 'Radio'], log_stretch=True)\n",
    "if save_plot_flag:\n",
    "    plt.savefig(f'plots/conf_matrix_radio_{used_area}.pdf', bbox_inches='tight')\n",
    "plt.show()"
   ]
  },
  {
   "cell_type": "code",
   "execution_count": 96,
   "metadata": {
    "jupyter": {
     "source_hidden": true
    },
    "tags": []
   },
   "outputs": [
    {
     "data": {
      "image/png": "[encoded data removed]",
      "text/plain": [
       "<Figure size 600x500 with 1 Axes>"
      ]
     },
     "metadata": {},
     "output_type": "display_data"
    }
   ],
   "source": [
    "fig             = plt.figure(figsize=(6,5))\n",
    "ax1             = fig.add_subplot(111)\n",
    "plot_conf_mat(cm_radio_conf, title=used_area+': confirmed sources', axin=ax1, display_labels=['No\\nRadio', 'Radio'], log_stretch=True)\n",
    "if save_plot_flag:\n",
    "    plt.savefig(f'plots/conf_matrix_radio_confirmed_{used_area}.pdf', bbox_inches='tight')\n",
    "plt.show()"
   ]
  },
  {
   "cell_type": "code",
   "execution_count": 97,
   "metadata": {
    "jupyter": {
     "source_hidden": true
    },
    "tags": []
   },
   "outputs": [
    {
     "data": {
      "image/png": "[encoded data removed]",
      "text/plain": [
       "<Figure size 600x500 with 1 Axes>"
      ]
     },
     "metadata": {},
     "output_type": "display_data"
    }
   ],
   "source": [
    "fig             = plt.figure(figsize=(6,5))\n",
    "ax1             = fig.add_subplot(111)\n",
    "plot_conf_mat(cm_radio_AGN, title=used_area, axin=ax1, display_labels=['No\\nRadio AGN', 'Radio AGN'], log_stretch=True)\n",
    "if save_plot_flag:\n",
    "    plt.savefig(f'plots/conf_matrix_radio_AGN_{used_area}.pdf', bbox_inches='tight')\n",
    "plt.show()"
   ]
  },
  {
   "cell_type": "code",
   "execution_count": 98,
   "metadata": {
    "jupyter": {
     "source_hidden": true
    },
    "tags": []
   },
   "outputs": [
    {
     "data": {
      "image/png": "[encoded data removed]",
      "text/plain": [
       "<Figure size 600x500 with 1 Axes>"
      ]
     },
     "metadata": {},
     "output_type": "display_data"
    }
   ],
   "source": [
    "fig             = plt.figure(figsize=(6,5))\n",
    "ax1             = fig.add_subplot(111)\n",
    "plot_conf_mat(cm_radio_AGN_conf, title=used_area + ': confirmed sources', axin=ax1, display_labels=['No\\nRadio AGN', 'Radio AGN'], log_stretch=True)\n",
    "if save_plot_flag:\n",
    "    plt.savefig(f'plots/conf_matrix_radio_AGN_confirmed_{used_area}.pdf', bbox_inches='tight')\n",
    "plt.show()"
   ]
  },
  {
   "cell_type": "code",
   "execution_count": 99,
   "metadata": {
    "jupyter": {
     "source_hidden": true
    },
    "tags": []
   },
   "outputs": [
    {
     "data": {
      "image/png": "[encoded data removed]",
      "text/plain": [
       "<Figure size 680x530 with 3 Axes>"
      ]
     },
     "metadata": {},
     "output_type": "display_data"
    }
   ],
   "source": [
    "fig             = plt.figure(figsize=(6.8,5.3))\n",
    "ax1             = fig.add_subplot(111, projection='scatter_density', xscale='log', yscale='log')\n",
    "plot_redshift_compare(full_catalog_df.loc[filter_radio_AGN_p, 'Z'], full_catalog_df.loc[filter_radio_AGN_p, 'pred_Z'],\\\n",
    "                      ax_pre=ax1, title=None, dpi=10, show_clb=True, log_stretch=False)\n",
    "if save_plot_flag:\n",
    "    plt.savefig(f'plots/compare_redshift_{used_area}.pdf', bbox_inches='tight')\n",
    "plt.show()"
   ]
  },
  {
   "cell_type": "code",
   "execution_count": 100,
   "metadata": {
    "jupyter": {
     "source_hidden": true
    },
    "tags": []
   },
   "outputs": [
    {
     "data": {
      "image/png": "[encoded data removed]",
      "text/plain": [
       "<Figure size 1000x350 with 1 Axes>"
      ]
     },
     "metadata": {},
     "output_type": "display_data"
    }
   ],
   "source": [
    "fig             = plt.figure(figsize=(10,3.5))\n",
    "ax1             = fig.add_subplot(111, xscale='linear', yscale='log')\n",
    "\n",
    "min_for_range = np.nanmin([np.nanmin(full_catalog_df.loc[:, 'Z']),\\\n",
    "                           np.nanmin(full_catalog_df.loc[:, 'pred_Z'])])\n",
    "max_for_range = np.nanmax([np.nanmax(full_catalog_df.loc[:, 'Z']),\\\n",
    "                           np.nanmax(full_catalog_df.loc[:, 'pred_Z'])])\n",
    "bins_z        = np.linspace(min_for_range, max_for_range, 50)\n",
    "\n",
    "\n",
    "\n",
    "_, bins, _ = ax1.hist(full_catalog_df.loc[filt_new_rAGN_p, 'pred_Z'], bins=bins_z, histtype='stepfilled',\\\n",
    "                      ec='k', fc='mediumpurple', lw=3.5,\\\n",
    "                      label=f\"New\\nN={np.sum(filt_new_rAGN_p):,}\")\n",
    "ax1.hist(full_catalog_df.loc[filter_radio_AGN_t * filter_radio_AGN_p, 'Z'], bins=bins_z, histtype='stepfilled', ec='k',\\\n",
    "         fc='darkcyan', lw=3.5, label=f\"True\\nN={np.sum(filter_radio_AGN_t):,}\", alpha=0.7)\n",
    "\n",
    "ax1.tick_params(which='both', top=True, right=True, direction='in')\n",
    "ax1.tick_params(axis='both', which='major', labelsize=14)\n",
    "ax1.tick_params(which='major', length=8, width=1.5)\n",
    "ax1.tick_params(which='minor', length=4, width=1.5)\n",
    "# ax1.set_xlabel('$m_{\\mathrm{W1}}\\, \\mathrm{[AB]}$', size=20)\n",
    "ax1.set_xlabel('$z_{\\mathrm{AGN}}$', size=20)\n",
    "ax1.set_ylabel('Frequency', size=20)\n",
    "# ax1.set_ylabel('Frequency', size=20)\n",
    "plt.setp(ax1.spines.values(), linewidth=3.5)\n",
    "plt.setp(ax1.spines.values(), linewidth=3.5)\n",
    "plt.legend(loc=1, fontsize=16)\n",
    "# ax1.invert_xaxis()\n",
    "# ax1.set_xlim(left=-4, right=6)\n",
    "#ax1.set_aspect('equal', 'box')\n",
    "ax1.set_title(used_area, fontsize=14)\n",
    "fig.tight_layout()\n",
    "if save_plot_flag:\n",
    "    plt.savefig(f'plots/hist_true_predicted_z_{used_area}.pdf')\n",
    "plt.show()"
   ]
  },
  {
   "cell_type": "markdown",
   "metadata": {},
   "source": [
    "---"
   ]
  },
  {
   "cell_type": "markdown",
   "metadata": {},
   "source": [
    "## Additional test with data from Ananna et al., 2017"
   ]
  },
  {
   "cell_type": "code",
   "execution_count": 101,
   "metadata": {
    "jupyter": {
     "source_hidden": true
    },
    "tags": []
   },
   "outputs": [],
   "source": [
    "if compare_A17_flag:\n",
    "    full_catalog_A17_df = pd.read_hdf(cat_path + file_S82_Ananna_17, key='df').drop(columns=features_2_discard)"
   ]
  },
  {
   "cell_type": "code",
   "execution_count": 102,
   "metadata": {
    "jupyter": {
     "source_hidden": true
    },
    "tags": []
   },
   "outputs": [],
   "source": [
    "if compare_A17_flag:\n",
    "    full_catalog_A17_df = pyr.predict_model(redshift_reg, data=full_catalog_A17_df, round=8)\n",
    "    full_catalog_A17_df = full_catalog_A17_df.rename(columns={'Label': 'pred_Z', 'is_AGN': 'class'})\n",
    "    full_catalog_A17_df['pred_Z'] = np.around(full_catalog_A17_df.loc[:, 'pred_Z'], decimals=6)\n",
    "    redshift_lim_0    = 2.0\n",
    "    redshift_tol_0    = 0.0\n",
    "    redshift_lim_1    = 3.0\n",
    "    redshift_tol_1    = 0.0\n",
    "    redshift_lim_2    = 3.7\n",
    "    redshift_tol_2    = 0.0\n",
    "    if use_second_z_model:\n",
    "        full_catalog_A17_df = pyr.predict_model(redshift_reg_2, data=full_catalog_A17_df, round=8)\n",
    "        filter_pred_z_A17   = full_catalog_A17_df.loc[:, 'pred_Z'] >= (redshift_lim_0 + redshift_tol_0)\n",
    "        full_catalog_A17_df.loc[:, 'pred_Z'] = full_catalog_A17_df.loc[:, 'pred_Z'].mask(filter_pred_z_A17, full_catalog_A17_df.loc[filter_pred_z_A17, 'Label'])\n",
    "        full_catalog_A17_df = full_catalog_A17_df.drop(columns=['Label'])\n",
    "        full_catalog_A17_df.loc[:, 'pred_Z'] = np.around(full_catalog_A17_df.loc[:, 'pred_Z'], decimals=6)\n",
    "    if use_third_z_model:\n",
    "        full_catalog_A17_df = pyr.predict_model(redshift_reg_3, data=full_catalog_A17_df, round=8)\n",
    "        filter_pred_z_A17   = full_catalog_A17_df.loc[:, 'pred_Z'] >= (redshift_lim_1 + redshift_tol_1)\n",
    "        full_catalog_A17_df.loc[:, 'pred_Z'] = full_catalog_A17_df.loc[:, 'pred_Z'].mask(filter_pred_z_A17, full_catalog_A17_df.loc[filter_pred_z_A17, 'Label'])\n",
    "        full_catalog_A17_df = full_catalog_A17_df.drop(columns=['Label'])\n",
    "        full_catalog_A17_df.loc[:, 'pred_Z'] = np.around(full_catalog_A17_df.loc[:, 'pred_Z'], decimals=6)\n",
    "    if use_fourth_z_model:\n",
    "        full_catalog_A17_df = pyr.predict_model(redshift_reg_4, data=full_catalog_A17_df, round=8)\n",
    "        filter_pred_z_A17   = full_catalog_A17_df.loc[:, 'pred_Z'] >= (redshift_lim_2 + redshift_tol_2)\n",
    "        full_catalog_A17_df.loc[:, 'pred_Z'] = full_catalog_A17_df.loc[:, 'pred_Z'].mask(filter_pred_z_A17, full_catalog_A17_df.loc[filter_pred_z_A17, 'Label'])\n",
    "        full_catalog_A17_df = full_catalog_A17_df.drop(columns=['Label'])\n",
    "        full_catalog_A17_df.loc[:, 'pred_Z'] = np.around(full_catalog_A17_df.loc[:, 'pred_Z'], decimals=6)"
   ]
  },
  {
   "cell_type": "code",
   "execution_count": 103,
   "metadata": {
    "jupyter": {
     "source_hidden": true
    },
    "tags": []
   },
   "outputs": [],
   "source": [
    "if compare_A17_flag:\n",
    "    sigma_mad_AGN_A17            = sigma_mad(full_catalog_A17_df.loc[:, 'Z'],    full_catalog_A17_df.loc[:, 'pred_Z'])\n",
    "    sigma_nmad_AGN_A17           = sigma_nmad(full_catalog_A17_df.loc[:, 'Z'],   full_catalog_A17_df.loc[:, 'pred_Z'])\n",
    "    sigma_z_AGN_A17              = sigma_z(full_catalog_A17_df.loc[:, 'Z'],      full_catalog_A17_df.loc[:, 'pred_Z'])\n",
    "    sigma_z_norm_AGN_A17         = sigma_z_norm(full_catalog_A17_df.loc[:, 'Z'], full_catalog_A17_df.loc[:, 'pred_Z'])\n",
    "    out_frac_AGN_A17             = outlier_frac(full_catalog_A17_df.loc[:, 'Z'], full_catalog_A17_df.loc[:, 'pred_Z'])"
   ]
  },
  {
   "cell_type": "code",
   "execution_count": 104,
   "metadata": {
    "jupyter": {
     "source_hidden": true
    },
    "tags": []
   },
   "outputs": [],
   "source": [
    "if compare_A17_flag:\n",
    "    print('Metrics for redshift prediction on AGN from Ananna et al., 2017')\n",
    "    print(f'Sample size,                        N = {np.sum(np.isfinite(full_catalog_A17_df.loc[:, \"zsp\"]) & np.isfinite(full_catalog_A17_df.loc[:, \"pred_Z\"])):,}')\n",
    "    print(f'Sigma MAD                       \\u03C3 MAD = {sigma_mad_AGN_A17:.4f}')\n",
    "    print(f'Sigma NMAD,                    \\u03C3 NMAD = {sigma_nmad_AGN_A17:.4f}')\n",
    "    print(f'Sigma z,                          \\u03C3 z = {sigma_z_AGN_A17:.4f}')\n",
    "    print(f'Sigma z normalized,             \\u03C3 z N = {sigma_z_norm_AGN_A17:.4f}')\n",
    "    print(f'Outlier fraction,                   \\u03B7 = {out_frac_AGN_A17:.4f}')"
   ]
  },
  {
   "cell_type": "code",
   "execution_count": 105,
   "metadata": {
    "jupyter": {
     "source_hidden": true
    },
    "tags": []
   },
   "outputs": [],
   "source": [
    "if compare_A17_flag:\n",
    "    fig              = plt.figure(figsize=(7.5,4.3))\n",
    "    ax1              = fig.add_subplot(111, xscale='linear', yscale='linear')\n",
    "    \n",
    "    min_score        = np.nanmin([np.nanmin(full_catalog_A17_df.loc[:, 'zsp']), np.nanmin(full_catalog_A17_df.loc[:, 'pred_Z'])])\n",
    "    max_score        = np.nanmax([np.nanmax(full_catalog_A17_df.loc[:, 'zsp']), np.nanmax(full_catalog_A17_df.loc[:, 'pred_Z'])])\n",
    "    score_bins       = np.linspace(min_score, max_score, 30)\n",
    "    \n",
    "    sample_size_orig = np.sum(np.isfinite(full_catalog_A17_df.loc[:, 'zsp']))\n",
    "    sample_size_pred = np.sum(np.isfinite(full_catalog_A17_df.loc[:, 'pred_Z']))\n",
    "    \n",
    "    ax1.hist(full_catalog_A17_df.loc[:, 'zsp'], bins=score_bins, histtype='stepfilled',\\\n",
    "             ec='k', lw=3.5, color=cm.get_cmap('cet_gray')(0.8), alpha=0.9,\\\n",
    "             label=f'Original\\nN={sample_size_orig:,}', zorder=2)\n",
    "    ax1.hist(full_catalog_A17_df.loc[:, 'pred_Z'], bins=score_bins, histtype='stepfilled',\\\n",
    "             ec='k', lw=3.5, color=cm.get_cmap('cet_gray')(0.9), alpha=0.7,\\\n",
    "             label=f'Predicted\\nN={sample_size_pred:,}', zorder=1)\n",
    "        \n",
    "    ax1.tick_params(which='both', top=True, right=True, direction='in')\n",
    "    ax1.tick_params(axis='both', which='major', labelsize=14)\n",
    "    ax1.tick_params(which='major', length=8, width=1.5)\n",
    "    ax1.tick_params(which='minor', length=4, width=1.5)\n",
    "    ax1.set_xlabel('Redshift', size=20)\n",
    "    ax1.set_ylabel('Frequency', size=20)\n",
    "    plt.setp(ax1.spines.values(), linewidth=3.5)\n",
    "    plt.setp(ax1.spines.values(), linewidth=3.5)\n",
    "    plt.legend(loc=1, fontsize=14)\n",
    "    plt.grid(False)\n",
    "    ax1.set_title('S82: Ananna+17')\n",
    "    #ax1.set_aspect('equal', 'box')\n",
    "    fig.tight_layout()\n",
    "    if save_plot_flag:\n",
    "        plt.savefig(f'plots/hist_redshift_AGN_{used_area}_Ananna_17.pdf', bbox_inches='tight')\n",
    "    plt.show()"
   ]
  },
  {
   "cell_type": "code",
   "execution_count": 106,
   "metadata": {
    "jupyter": {
     "source_hidden": true
    },
    "tags": []
   },
   "outputs": [],
   "source": [
    "if compare_A17_flag:\n",
    "    full_catalog_A17_df = full_catalog_A17_df.loc[np.array(full_catalog_A17_df.loc[:, 'class'] == 1) &\\\n",
    "                                                  np.array(full_catalog_A17_df.loc[:, 'radio_detect'] == 1)]"
   ]
  },
  {
   "cell_type": "code",
   "execution_count": 107,
   "metadata": {
    "jupyter": {
     "source_hidden": true
    },
    "tags": []
   },
   "outputs": [],
   "source": [
    "if compare_A17_flag:\n",
    "    used_z_col = 'zsp'\n",
    "    full_catalog_A17_df['Delta_z_N'] = np.around((full_catalog_A17_df.loc[:, 'pred_Z'] - full_catalog_A17_df.loc[:, used_z_col]) /\\\n",
    "                                                 (1 + full_catalog_A17_df.loc[:, used_z_col]), decimals=3)\n",
    "    full_catalog_A17_df['sigma_NMAD'] = np.around(1.48 * np.abs(full_catalog_A17_df.loc[:, 'pred_Z'] - full_catalog_A17_df.loc[:, used_z_col]) /\\\n",
    "                                                  (1 + full_catalog_A17_df.loc[:, used_z_col]), decimals=3)"
   ]
  },
  {
   "cell_type": "code",
   "execution_count": 108,
   "metadata": {
    "jupyter": {
     "source_hidden": true
    },
    "tags": []
   },
   "outputs": [],
   "source": [
    "if compare_A17_flag:\n",
    "    show_columns_A17 = ['RA_ICRS', 'DE_ICRS', 'Name', 'TYPE', 'band_num', 'class', 'radio_detect', 'Z', 'zsp', 'pred_Z', 'Delta_z_N']\n",
    "    display(full_catalog_A17_df.loc[:, show_columns_A17].sort_values(by='pred_Z', ascending=False).head(10))\n",
    "    display(full_catalog_A17_df.loc[:, show_columns_A17].sort_values(by=used_z_col, ascending=False).head(10))"
   ]
  },
  {
   "cell_type": "code",
   "execution_count": 109,
   "metadata": {
    "jupyter": {
     "source_hidden": true
    },
    "tags": []
   },
   "outputs": [],
   "source": [
    "if compare_A17_flag:\n",
    "    sigma_mad_rAGN_A17            = sigma_mad(full_catalog_A17_df.loc[:, 'Z'],    full_catalog_A17_df.loc[:, 'pred_Z'])\n",
    "    sigma_nmad_rAGN_A17           = sigma_nmad(full_catalog_A17_df.loc[:, 'Z'],   full_catalog_A17_df.loc[:, 'pred_Z'])\n",
    "    sigma_z_rAGN_A17              = sigma_z(full_catalog_A17_df.loc[:, 'Z'],      full_catalog_A17_df.loc[:, 'pred_Z'])\n",
    "    sigma_z_norm_rAGN_A17         = sigma_z_norm(full_catalog_A17_df.loc[:, 'Z'], full_catalog_A17_df.loc[:, 'pred_Z'])\n",
    "    out_frac_rAGN_A17             = outlier_frac(full_catalog_A17_df.loc[:, 'Z'], full_catalog_A17_df.loc[:, 'pred_Z'])"
   ]
  },
  {
   "cell_type": "code",
   "execution_count": 110,
   "metadata": {
    "jupyter": {
     "source_hidden": true
    },
    "tags": []
   },
   "outputs": [],
   "source": [
    "if compare_A17_flag:\n",
    "    print('Metrics for redshift prediction on radio AGN from Ananna et al., 2017')\n",
    "    print(f'Sample size,                        N = {np.sum(np.isfinite(full_catalog_A17_df.loc[:, \"zsp\"]) & np.isfinite(full_catalog_A17_df.loc[:, \"pred_Z\"])):,}')\n",
    "    print(f'Sigma MAD                       \\u03C3 MAD = {sigma_mad_rAGN_A17:.4f}')\n",
    "    print(f'Sigma NMAD,                    \\u03C3 NMAD = {sigma_nmad_rAGN_A17:.4f}')\n",
    "    print(f'Sigma z,                          \\u03C3 z = {sigma_z_rAGN_A17:.4f}')\n",
    "    print(f'Sigma z normalized,             \\u03C3 z N = {sigma_z_norm_rAGN_A17:.4f}')\n",
    "    print(f'Outlier fraction,                   \\u03B7 = {out_frac_rAGN_A17:.4f}')"
   ]
  },
  {
   "cell_type": "code",
   "execution_count": 111,
   "metadata": {
    "jupyter": {
     "source_hidden": true
    },
    "tags": []
   },
   "outputs": [],
   "source": [
    "if compare_A17_flag:\n",
    "    fig             = plt.figure(figsize=(6,5))\n",
    "    ax1             = fig.add_subplot(111, projection='scatter_density', xscale='log', yscale='log')\n",
    "    plot_redshift_compare(full_catalog_A17_df.loc[:, used_z_col], full_catalog_A17_df.loc[:, 'pred_Z'],\\\n",
    "                          ax_pre=ax1, title=None, dpi=10, show_clb=True, log_stretch=False)\n",
    "    if save_plot_flag:\n",
    "        plt.savefig(f'plots/compare_redshift_{used_area}_Ananna_17.pdf', bbox_inches='tight')\n",
    "    plt.show()"
   ]
  },
  {
   "cell_type": "code",
   "execution_count": null,
   "metadata": {},
   "outputs": [],
   "source": []
  }
 ],
 "metadata": {
  "kernelspec": {
   "display_name": "Python 3 (ipykernel)",
   "language": "python",
   "name": "python3"
  },
  "language_info": {
   "codemirror_mode": {
    "name": "ipython",
    "version": 3
   },
   "file_extension": ".py",
   "mimetype": "text/x-python",
   "name": "python",
   "nbconvert_exporter": "python",
   "pygments_lexer": "ipython3",
   "version": "3.8.13"
  }
 },
 "nbformat": 4,
 "nbformat_minor": 4
}
