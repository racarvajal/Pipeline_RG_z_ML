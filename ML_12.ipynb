{
 "cells": [
  {
   "cell_type": "markdown",
   "metadata": {},
   "source": [
    "# Pipeline for High-z Radio Galaxies 12: Create lists (files) with radio AGN candidates"
   ]
  },
  {
   "cell_type": "markdown",
   "metadata": {},
   "source": [
    "## Introduction"
   ]
  },
  {
   "cell_type": "markdown",
   "metadata": {},
   "source": [
    "In this file, three models will be applied consecutively in order to predict  \n",
    "the detection of Radio Galaxies (radio AGN) and their redshift.  \n",
    "\n",
    "In principle, this pipeline should be applied to data in Stripe 82. But  \n",
    "it can be used with any other suitable dataset."
   ]
  },
  {
   "cell_type": "code",
   "execution_count": 1,
   "metadata": {},
   "outputs": [],
   "source": [
    "%matplotlib inline\n",
    "# Static plots\n",
    "#%matplotlib ipympl\n",
    "# Interactive plots\n",
    "import numpy as np\n",
    "import matplotlib as mpl\n",
    "import matplotlib.cm as cm\n",
    "from matplotlib import ticker\n",
    "import matplotlib.pyplot as plt\n",
    "import matplotlib.colors as mcolors\n",
    "import matplotlib.patheffects as mpe\n",
    "import matplotlib.patches as mpatches\n",
    "from matplotlib.ticker import ScalarFormatter\n",
    "from mpl_toolkits.axes_grid1.inset_locator import inset_axes\n",
    "from astropy.visualization import LogStretch, PowerStretch\n",
    "from astropy.visualization.mpl_normalize import ImageNormalize\n",
    "from sklearn.preprocessing import MinMaxScaler\n",
    "from sklearn.metrics import ConfusionMatrixDisplay\n",
    "import sklearn.pipeline\n",
    "import colorcet as cc\n",
    "from pycaret import classification as pyc\n",
    "from pycaret import regression as pyr\n",
    "from joblib import dump, load\n",
    "import pandas as pd\n",
    "import mpl_scatter_density\n",
    "import global_variables as gv\n",
    "import global_functions as gf"
   ]
  },
  {
   "cell_type": "code",
   "execution_count": 2,
   "metadata": {},
   "outputs": [],
   "source": [
    "mpl.rcdefaults()"
   ]
  },
  {
   "cell_type": "markdown",
   "metadata": {},
   "source": [
    "Methods for the use of values in Confusion Matrices."
   ]
  },
  {
   "cell_type": "markdown",
   "metadata": {},
   "source": [
    "---"
   ]
  },
  {
   "cell_type": "markdown",
   "metadata": {},
   "source": [
    "## Reading data"
   ]
  },
  {
   "cell_type": "markdown",
   "metadata": {
    "tags": []
   },
   "source": [
    "Flags."
   ]
  },
  {
   "cell_type": "code",
   "execution_count": 3,
   "metadata": {},
   "outputs": [],
   "source": [
    "save_plot_flag      = False\n",
    "save_preds_flag     = True\n",
    "load_models_flag    = True\n",
    "predict_only_hi_z   = False\n",
    "use_zeroth_model    = False\n",
    "use_second_z_model  = False  # z >= 3.6 (with SMOGN), or, if needed, z >= 4.0"
   ]
  },
  {
   "cell_type": "code",
   "execution_count": 4,
   "metadata": {},
   "outputs": [],
   "source": [
    "used_area           = 'S82'  # can be 'S82', 'HETDEX', 'COSMOS'"
   ]
  },
  {
   "cell_type": "code",
   "execution_count": 5,
   "metadata": {
    "jupyter": {
     "source_hidden": true
    }
   },
   "outputs": [],
   "source": [
    "if used_area != 'S82':\n",
    "    compare_A17_flag = False"
   ]
  },
  {
   "cell_type": "code",
   "execution_count": 6,
   "metadata": {
    "jupyter": {
     "source_hidden": true
    },
    "tags": []
   },
   "outputs": [],
   "source": [
    "file_name_dict      = {'S82': gv.file_S82, 'HETDEX': gv.file_HETDEX, 'COSMOS': gv.file_COSMOS}\n",
    "file_name           = file_name_dict[used_area]"
   ]
  },
  {
   "cell_type": "code",
   "execution_count": 7,
   "metadata": {
    "tags": []
   },
   "outputs": [],
   "source": [
    "feats_2_disc_S82    = ['objID', 'RA_MILLI', 'DEC_MILLI', 'X_ray_detect', 'W1mag', 'W2mag', 'FUVmag', 'NUVmag']\n",
    "feats_2_disc_HETDEX = ['objID', 'RA_MILLI', 'DEC_MILLI', 'X_ray_detect', 'W1mag', 'W2mag', 'FUVmag', 'NUVmag']\n",
    "feats_2_disc_COSMOS = ['objID', 'RA_MILLI', 'DEC_MILLI', 'X_ray_detect', 'W1mag', 'W2mag', 'FUVmag', 'NUVmag']\n",
    "\n",
    "feats_2_disc        = {'S82': feats_2_disc_S82, 'HETDEX': feats_2_disc_HETDEX, 'COSMOS': feats_2_disc_COSMOS}\n",
    "features_2_discard  = feats_2_disc[used_area]"
   ]
  },
  {
   "cell_type": "code",
   "execution_count": 8,
   "metadata": {
    "jupyter": {
     "source_hidden": true
    }
   },
   "outputs": [],
   "source": [
    "full_catalog_df     = pd.read_hdf(gv.cat_path + file_name, key='df').drop(columns=features_2_discard)"
   ]
  },
  {
   "cell_type": "code",
   "execution_count": 9,
   "metadata": {
    "jupyter": {
     "source_hidden": true
    }
   },
   "outputs": [],
   "source": [
    "full_catalog_df.loc[:, 'radio_detect'] = full_catalog_df.loc[:, 'radio_detect'].astype(int)"
   ]
  },
  {
   "cell_type": "markdown",
   "metadata": {},
   "source": [
    "Create features with class and combined redshift."
   ]
  },
  {
   "cell_type": "code",
   "execution_count": 10,
   "metadata": {},
   "outputs": [],
   "source": [
    "full_catalog_df['class']            = full_catalog_df.loc[:, 'is_AGN'].copy()\n",
    "filter_non_confirmed                = np.array(full_catalog_df.loc[:, 'is_AGN'] == 1) | np.array(full_catalog_df.loc[:, 'is_gal'] == 1)\n",
    "full_catalog_df.loc[~filter_non_confirmed, 'class'] = 0.5\n",
    "idx_non_Z                           = full_catalog_df.loc[:, 'Z'].where(full_catalog_df.loc[:, 'Z'] > 0).isna()\n",
    "full_catalog_df.loc[idx_non_Z, 'Z'] = full_catalog_df.loc[:, 'Z'].mask(idx_non_Z, full_catalog_df.loc[idx_non_Z, 'zsp'])"
   ]
  },
  {
   "cell_type": "markdown",
   "metadata": {},
   "source": [
    "Create column for detection as Radio AGN"
   ]
  },
  {
   "cell_type": "code",
   "execution_count": 11,
   "metadata": {},
   "outputs": [],
   "source": [
    "full_catalog_df['radio_AGN']      = np.array(full_catalog_df.loc[:, 'is_AGN'] == 1) & np.array(full_catalog_df.loc[:, 'radio_detect'] == 1)"
   ]
  },
  {
   "cell_type": "markdown",
   "metadata": {},
   "source": [
    "Discard minor features."
   ]
  },
  {
   "cell_type": "code",
   "execution_count": 12,
   "metadata": {},
   "outputs": [],
   "source": [
    "full_catalog_df                     = full_catalog_df.drop(columns=['is_AGN', 'is_SDSS_gal', 'is_gal', 'zsp'])"
   ]
  },
  {
   "cell_type": "markdown",
   "metadata": {},
   "source": [
    "#### As we want to predict, only use sources that have not previous spectroscopic classification"
   ]
  },
  {
   "cell_type": "code",
   "execution_count": 13,
   "metadata": {
    "jupyter": {
     "source_hidden": true
    }
   },
   "outputs": [
    {
     "name": "stdout",
     "output_type": "stream",
     "text": [
      "The used data set (in S82) has 369,093 sources.\n",
      "And 3,304 have previous spectroscopic classification.\n"
     ]
    }
   ],
   "source": [
    "print(f'The used data set (in {used_area}) has {len(full_catalog_df):,} sources.')\n",
    "print(f'And {np.sum(filter_non_confirmed):,} have previous spectroscopic classification.')"
   ]
  },
  {
   "cell_type": "code",
   "execution_count": 14,
   "metadata": {},
   "outputs": [],
   "source": [
    "full_catalog_df                     = full_catalog_df.loc[~filter_non_confirmed]"
   ]
  },
  {
   "cell_type": "code",
   "execution_count": 15,
   "metadata": {
    "jupyter": {
     "source_hidden": true
    }
   },
   "outputs": [
    {
     "name": "stdout",
     "output_type": "stream",
     "text": [
      "This pipeline will predict properties for 365,789 sources in S82.\n"
     ]
    }
   ],
   "source": [
    "print(f'This pipeline will predict properties for {len(full_catalog_df):,} sources in {used_area}.')"
   ]
  },
  {
   "cell_type": "markdown",
   "metadata": {},
   "source": [
    "---"
   ]
  },
  {
   "cell_type": "markdown",
   "metadata": {},
   "source": [
    "### Load models"
   ]
  },
  {
   "cell_type": "code",
   "execution_count": 16,
   "metadata": {},
   "outputs": [
    {
     "name": "stdout",
     "output_type": "stream",
     "text": [
      "Transformation Pipeline and Model Successfully Loaded\n",
      "Transformation Pipeline and Model Successfully Loaded\n",
      "Transformation Pipeline and Model Successfully Loaded\n"
     ]
    }
   ],
   "source": [
    "if load_models_flag:\n",
    "    if use_zeroth_model:\n",
    "        star_clf        = pyc.load_model(gv.models_path + gv.star_model)  # star/no-star model\n",
    "    AGN_gal_clf         = pyc.load_model(gv.models_path + gv.AGN_gal_model)  #\n",
    "    cal_AGN_gal_clf     = load(gv.models_path + gv.cal_AGN_gal_model)  # calibrated model\n",
    "    radio_det_clf       = pyc.load_model(gv.models_path + gv.radio_model)  # without predicted AGN\n",
    "    cal_radio_det_clf   = load(gv.models_path + gv.cal_radio_model)  # calibrated model\n",
    "    redshift_reg        = pyr.load_model(gv.models_path + gv.full_z_model)  # to use on full sample\n",
    "    if use_second_z_model:\n",
    "        redshift_reg_2  = pyr.load_model(gv.models_path + gv.high_z_model)  # sources with predicted z >= 3.6"
   ]
  },
  {
   "cell_type": "code",
   "execution_count": 17,
   "metadata": {
    "jupyter": {
     "source_hidden": true
    }
   },
   "outputs": [],
   "source": [
    "full_catalog_df = pyc.predict_model(AGN_gal_clf, data=full_catalog_df, probability_threshold=gv.AGN_thresh, raw_score=True, round=10)\n",
    "full_catalog_df = full_catalog_df.drop(columns=['Score_0'])\n",
    "full_catalog_df = full_catalog_df.rename(columns={'Label': 'pred_class', 'Score_1': 'Score_AGN'})\n",
    "full_catalog_df['Score_AGN'] = np.around(full_catalog_df.loc[:, 'Score_AGN'], decimals=7)\n",
    "pred_probs_AGN  = cal_AGN_gal_clf.predict_proba(full_catalog_df.loc[:, gf.get_final_column_names(AGN_gal_clf, full_catalog_df)])[:, 1]\n",
    "full_catalog_df['Prob_AGN'] = pred_probs_AGN"
   ]
  },
  {
   "cell_type": "code",
   "execution_count": 18,
   "metadata": {
    "jupyter": {
     "source_hidden": true
    }
   },
   "outputs": [],
   "source": [
    "full_catalog_df = pyc.predict_model(radio_det_clf, data=full_catalog_df, probability_threshold=gv.radio_thresh, raw_score=True, round=10)\n",
    "full_catalog_df = full_catalog_df.drop(columns=['Score_0'])\n",
    "full_catalog_df = full_catalog_df.rename(columns={'Label': 'pred_radio', 'Score_1': 'Score_radio'})\n",
    "full_catalog_df['Score_radio'] = np.around(full_catalog_df.loc[:, 'Score_radio'], decimals=7)\n",
    "pred_probs_rad  = cal_radio_det_clf.predict_proba(full_catalog_df.loc[:, gf.get_final_column_names(radio_det_clf, full_catalog_df)])[:, 1]\n",
    "full_catalog_df['Prob_radio'] = pred_probs_rad"
   ]
  },
  {
   "cell_type": "code",
   "execution_count": 19,
   "metadata": {
    "jupyter": {
     "source_hidden": true
    }
   },
   "outputs": [],
   "source": [
    "full_catalog_df = pyr.predict_model(redshift_reg, data=full_catalog_df, round=8)\n",
    "full_catalog_df = full_catalog_df.rename(columns={'Label': 'pred_Z'})\n",
    "full_catalog_df['pred_Z'] = np.around(full_catalog_df.loc[:, 'pred_Z'], decimals=3)"
   ]
  },
  {
   "cell_type": "code",
   "execution_count": 20,
   "metadata": {
    "jupyter": {
     "source_hidden": true
    }
   },
   "outputs": [],
   "source": [
    "redshift_tol    = 0.0\n",
    "if use_second_z_model:\n",
    "    full_catalog_df = pyr.predict_model(redshift_reg_2, data=full_catalog_df, round=6)\n",
    "    filter_pred_z   = full_catalog_df.loc[:, 'pred_Z'] >= (gv.high_z_limit + redshift_tol)\n",
    "    full_catalog_df.loc[:, 'pred_Z'] = full_catalog_df.loc[:, 'pred_Z'].mask(filter_pred_z, full_catalog_df.loc[filter_pred_z, 'Label'])\n",
    "    full_catalog_df = full_catalog_df.drop(columns=['Label'])\n",
    "    full_catalog_df.loc[:, 'pred_Z'] = np.around(full_catalog_df.loc[:, 'pred_Z'], decimals=3)"
   ]
  },
  {
   "cell_type": "code",
   "execution_count": 21,
   "metadata": {
    "jupyter": {
     "source_hidden": true
    },
    "tags": []
   },
   "outputs": [
    {
     "data": {
      "image/png": "[encoded data removed]",
      "text/plain": [
       "<Figure size 600x500 with 3 Axes>"
      ]
     },
     "metadata": {},
     "output_type": "display_data"
    }
   ],
   "source": [
    "fig             = plt.figure(figsize=(6,5))\n",
    "ax1             = fig.add_subplot(111, projection='scatter_density', xscale='log', yscale='log')\n",
    "ax1 = gf.plot_redshift_compare(full_catalog_df.loc[:, 'Z'], full_catalog_df.loc[:, 'pred_Z'], ax_pre=ax1, title=None, dpi=10, show_clb=True, log_stretch=False)\n",
    "ax1.axvline(x=(1 + gv.high_z_limit), ls='--', c='k', lw=2.5)\n",
    "if use_second_z_model:\n",
    "    ax1.set_ylabel('$1 + Z_{\\mathrm{Predicted}}^{\\mathrm{combined\\,models}}$', size=20)\n",
    "plt.show()"
   ]
  },
  {
   "cell_type": "code",
   "execution_count": 22,
   "metadata": {
    "jupyter": {
     "source_hidden": true
    }
   },
   "outputs": [],
   "source": [
    "full_catalog_df['pred_prob_class']    = (full_catalog_df.loc[:, 'Prob_AGN']   >= gv.cal_AGN_thresh).astype(int)\n",
    "full_catalog_df['pred_prob_radio']    = (full_catalog_df.loc[:, 'Prob_radio'] >= gv.cal_radio_thresh).astype(int)"
   ]
  },
  {
   "cell_type": "code",
   "execution_count": 23,
   "metadata": {
    "jupyter": {
     "source_hidden": true
    }
   },
   "outputs": [],
   "source": [
    "full_catalog_df['pred_radio_AGN']     = np.array(full_catalog_df.loc[:, 'pred_class'] == 1) & np.array(full_catalog_df.loc[:, 'pred_radio'] == 1)\n",
    "full_catalog_df['Score_rAGN']         = full_catalog_df.loc[:, 'Score_AGN'] * full_catalog_df.loc[:, 'Score_radio']\n",
    "full_catalog_df['pred_prob_rAGN']     = np.array(full_catalog_df.loc[:, 'pred_prob_class'] == 1) & np.array(full_catalog_df.loc[:, 'pred_prob_radio'] == 1)\n",
    "full_catalog_df['Prob_rAGN']          = full_catalog_df.loc[:, 'Prob_AGN'] * full_catalog_df.loc[:, 'Prob_radio']\n",
    "\n",
    "rad_score_scaler                      = MinMaxScaler()\n",
    "full_catalog_df['scaled_score_radio'] = rad_score_scaler.fit_transform(full_catalog_df.loc[:, 'Score_radio'].values.reshape(-1, 1))\n",
    "full_catalog_df['scaled_score_rAGN']  = full_catalog_df.loc[:, 'Score_AGN'] * full_catalog_df.loc[:, 'scaled_score_radio']"
   ]
  },
  {
   "cell_type": "code",
   "execution_count": 24,
   "metadata": {},
   "outputs": [
    {
     "data": {
      "text/html": [
       "<div>\n",
       "<style scoped>\n",
       "    .dataframe tbody tr th:only-of-type {\n",
       "        vertical-align: middle;\n",
       "    }\n",
       "\n",
       "    .dataframe tbody tr th {\n",
       "        vertical-align: top;\n",
       "    }\n",
       "\n",
       "    .dataframe thead th {\n",
       "        text-align: right;\n",
       "    }\n",
       "</style>\n",
       "<table border=\"1\" class=\"dataframe\">\n",
       "  <thead>\n",
       "    <tr style=\"text-align: right;\">\n",
       "      <th></th>\n",
       "      <th>class</th>\n",
       "      <th>pred_class</th>\n",
       "      <th>radio_detect</th>\n",
       "      <th>pred_radio</th>\n",
       "      <th>Z</th>\n",
       "      <th>pred_Z</th>\n",
       "    </tr>\n",
       "  </thead>\n",
       "  <tbody>\n",
       "    <tr>\n",
       "      <th>count</th>\n",
       "      <td>365789.0</td>\n",
       "      <td>365789.000000</td>\n",
       "      <td>365789.000000</td>\n",
       "      <td>365789.000000</td>\n",
       "      <td>210.000000</td>\n",
       "      <td>365789.000000</td>\n",
       "    </tr>\n",
       "    <tr>\n",
       "      <th>mean</th>\n",
       "      <td>0.5</td>\n",
       "      <td>0.125132</td>\n",
       "      <td>0.040332</td>\n",
       "      <td>0.051199</td>\n",
       "      <td>0.684951</td>\n",
       "      <td>2.154899</td>\n",
       "    </tr>\n",
       "    <tr>\n",
       "      <th>std</th>\n",
       "      <td>0.0</td>\n",
       "      <td>0.330869</td>\n",
       "      <td>0.196737</td>\n",
       "      <td>0.220404</td>\n",
       "      <td>0.833093</td>\n",
       "      <td>0.793095</td>\n",
       "    </tr>\n",
       "    <tr>\n",
       "      <th>min</th>\n",
       "      <td>0.5</td>\n",
       "      <td>0.000000</td>\n",
       "      <td>0.000000</td>\n",
       "      <td>0.000000</td>\n",
       "      <td>-0.002420</td>\n",
       "      <td>0.029000</td>\n",
       "    </tr>\n",
       "    <tr>\n",
       "      <th>25%</th>\n",
       "      <td>0.5</td>\n",
       "      <td>0.000000</td>\n",
       "      <td>0.000000</td>\n",
       "      <td>0.000000</td>\n",
       "      <td>0.000120</td>\n",
       "      <td>1.824000</td>\n",
       "    </tr>\n",
       "    <tr>\n",
       "      <th>50%</th>\n",
       "      <td>0.5</td>\n",
       "      <td>0.000000</td>\n",
       "      <td>0.000000</td>\n",
       "      <td>0.000000</td>\n",
       "      <td>0.400000</td>\n",
       "      <td>2.252000</td>\n",
       "    </tr>\n",
       "    <tr>\n",
       "      <th>75%</th>\n",
       "      <td>0.5</td>\n",
       "      <td>0.000000</td>\n",
       "      <td>0.000000</td>\n",
       "      <td>0.000000</td>\n",
       "      <td>1.100000</td>\n",
       "      <td>2.391000</td>\n",
       "    </tr>\n",
       "    <tr>\n",
       "      <th>max</th>\n",
       "      <td>0.5</td>\n",
       "      <td>1.000000</td>\n",
       "      <td>1.000000</td>\n",
       "      <td>1.000000</td>\n",
       "      <td>4.300000</td>\n",
       "      <td>4.683000</td>\n",
       "    </tr>\n",
       "  </tbody>\n",
       "</table>\n",
       "</div>"
      ],
      "text/plain": [
       "          class     pred_class   radio_detect     pred_radio           Z  \\\n",
       "count  365789.0  365789.000000  365789.000000  365789.000000  210.000000   \n",
       "mean        0.5       0.125132       0.040332       0.051199    0.684951   \n",
       "std         0.0       0.330869       0.196737       0.220404    0.833093   \n",
       "min         0.5       0.000000       0.000000       0.000000   -0.002420   \n",
       "25%         0.5       0.000000       0.000000       0.000000    0.000120   \n",
       "50%         0.5       0.000000       0.000000       0.000000    0.400000   \n",
       "75%         0.5       0.000000       0.000000       0.000000    1.100000   \n",
       "max         0.5       1.000000       1.000000       1.000000    4.300000   \n",
       "\n",
       "              pred_Z  \n",
       "count  365789.000000  \n",
       "mean        2.154899  \n",
       "std         0.793095  \n",
       "min         0.029000  \n",
       "25%         1.824000  \n",
       "50%         2.252000  \n",
       "75%         2.391000  \n",
       "max         4.683000  "
      ]
     },
     "execution_count": 24,
     "metadata": {},
     "output_type": "execute_result"
    }
   ],
   "source": [
    "full_catalog_df.loc[:, ['class', 'pred_class', 'radio_detect', 'pred_radio', 'Z', 'pred_Z']].describe()"
   ]
  },
  {
   "cell_type": "markdown",
   "metadata": {},
   "source": [
    "Obtain intermediate metrics"
   ]
  },
  {
   "cell_type": "code",
   "execution_count": 25,
   "metadata": {
    "jupyter": {
     "source_hidden": true
    }
   },
   "outputs": [],
   "source": [
    "filter_radio_AGN_t      = np.array(full_catalog_df.loc[:, 'class'] == 1) & np.array(full_catalog_df.loc[:, 'radio_detect'] == 1)\n",
    "filter_gal_AGN_t        = np.array(full_catalog_df.loc[:, 'class'] == 0) | np.array(full_catalog_df.loc[:, 'class'] == 1)\n",
    "total_size              = len(full_catalog_df)\n",
    "filter_AGN_t            = np.array(full_catalog_df.loc[:, 'class'] == 1)\n",
    "num_AGN_t               = np.sum(filter_AGN_t)\n",
    "num_gal_t               = np.sum(np.array(full_catalog_df.loc[:, 'class'] == 0))\n",
    "num_radio_t             = np.sum(np.array(full_catalog_df.loc[:, 'radio_detect'] == 1))\n",
    "num_radio_AGN_t         = np.sum(filter_radio_AGN_t)"
   ]
  },
  {
   "cell_type": "code",
   "execution_count": 26,
   "metadata": {
    "jupyter": {
     "source_hidden": true
    }
   },
   "outputs": [],
   "source": [
    "# filter_radio_AGN_p      = np.array(full_catalog_df.loc[:, 'Score_AGN']          >= threshold_AGN) &\\\n",
    "#                             np.array(full_catalog_df.loc[:, 'Score_radio']      >= threshold_radio)\n",
    "filter_radio_AGN_p      = np.array(full_catalog_df.loc[:, 'pred_class']      == 1) &\\\n",
    "                            np.array(full_catalog_df.loc[:, 'pred_radio']    == 1)\n",
    "filt_hiz_rAGN_p         = filter_radio_AGN_p * np.array(full_catalog_df.loc[:, 'pred_Z'] >= gv.high_z_limit)\n",
    "filter_AGN_p            = np.array(full_catalog_df.loc[:, 'pred_class']      == 1)\n",
    "filter_radio_p          = np.array(full_catalog_df.loc[:, 'pred_radio']      == 1)\n",
    "num_AGN_p               = np.sum(filter_AGN_p)\n",
    "num_gal_p               = np.sum(np.array(full_catalog_df.loc[:, 'pred_class'] == 0))\n",
    "num_radio_p             = np.sum(filter_radio_p)\n",
    "num_radio_AGN_p         = np.sum(filter_radio_AGN_p)"
   ]
  },
  {
   "cell_type": "markdown",
   "metadata": {},
   "source": [
    "### Select sources predicted to be Radio AGN"
   ]
  },
  {
   "cell_type": "code",
   "execution_count": 27,
   "metadata": {},
   "outputs": [],
   "source": [
    "full_catalog_df         = full_catalog_df.loc[filter_radio_AGN_p]"
   ]
  },
  {
   "cell_type": "code",
   "execution_count": 28,
   "metadata": {},
   "outputs": [
    {
     "data": {
      "text/html": [
       "<div>\n",
       "<style scoped>\n",
       "    .dataframe tbody tr th:only-of-type {\n",
       "        vertical-align: middle;\n",
       "    }\n",
       "\n",
       "    .dataframe tbody tr th {\n",
       "        vertical-align: top;\n",
       "    }\n",
       "\n",
       "    .dataframe thead th {\n",
       "        text-align: right;\n",
       "    }\n",
       "</style>\n",
       "<table border=\"1\" class=\"dataframe\">\n",
       "  <thead>\n",
       "    <tr style=\"text-align: right;\">\n",
       "      <th></th>\n",
       "      <th>class</th>\n",
       "      <th>pred_class</th>\n",
       "      <th>radio_detect</th>\n",
       "      <th>pred_radio</th>\n",
       "      <th>Z</th>\n",
       "      <th>pred_Z</th>\n",
       "    </tr>\n",
       "  </thead>\n",
       "  <tbody>\n",
       "    <tr>\n",
       "      <th>count</th>\n",
       "      <td>3882.0</td>\n",
       "      <td>3882.0</td>\n",
       "      <td>3882.000000</td>\n",
       "      <td>3882.0</td>\n",
       "      <td>41.000000</td>\n",
       "      <td>3882.000000</td>\n",
       "    </tr>\n",
       "    <tr>\n",
       "      <th>mean</th>\n",
       "      <td>0.5</td>\n",
       "      <td>1.0</td>\n",
       "      <td>0.154044</td>\n",
       "      <td>1.0</td>\n",
       "      <td>0.805486</td>\n",
       "      <td>1.561682</td>\n",
       "    </tr>\n",
       "    <tr>\n",
       "      <th>std</th>\n",
       "      <td>0.0</td>\n",
       "      <td>0.0</td>\n",
       "      <td>0.361038</td>\n",
       "      <td>0.0</td>\n",
       "      <td>0.787753</td>\n",
       "      <td>0.924367</td>\n",
       "    </tr>\n",
       "    <tr>\n",
       "      <th>min</th>\n",
       "      <td>0.5</td>\n",
       "      <td>1.0</td>\n",
       "      <td>0.000000</td>\n",
       "      <td>1.0</td>\n",
       "      <td>-0.000220</td>\n",
       "      <td>0.030000</td>\n",
       "    </tr>\n",
       "    <tr>\n",
       "      <th>25%</th>\n",
       "      <td>0.5</td>\n",
       "      <td>1.0</td>\n",
       "      <td>0.000000</td>\n",
       "      <td>1.0</td>\n",
       "      <td>0.300000</td>\n",
       "      <td>0.850000</td>\n",
       "    </tr>\n",
       "    <tr>\n",
       "      <th>50%</th>\n",
       "      <td>0.5</td>\n",
       "      <td>1.0</td>\n",
       "      <td>0.000000</td>\n",
       "      <td>1.0</td>\n",
       "      <td>0.500000</td>\n",
       "      <td>1.438500</td>\n",
       "    </tr>\n",
       "    <tr>\n",
       "      <th>75%</th>\n",
       "      <td>0.5</td>\n",
       "      <td>1.0</td>\n",
       "      <td>0.000000</td>\n",
       "      <td>1.0</td>\n",
       "      <td>1.103540</td>\n",
       "      <td>2.134000</td>\n",
       "    </tr>\n",
       "    <tr>\n",
       "      <th>max</th>\n",
       "      <td>0.5</td>\n",
       "      <td>1.0</td>\n",
       "      <td>1.000000</td>\n",
       "      <td>1.0</td>\n",
       "      <td>3.100000</td>\n",
       "      <td>4.590000</td>\n",
       "    </tr>\n",
       "  </tbody>\n",
       "</table>\n",
       "</div>"
      ],
      "text/plain": [
       "        class  pred_class  radio_detect  pred_radio          Z       pred_Z\n",
       "count  3882.0      3882.0   3882.000000      3882.0  41.000000  3882.000000\n",
       "mean      0.5         1.0      0.154044         1.0   0.805486     1.561682\n",
       "std       0.0         0.0      0.361038         0.0   0.787753     0.924367\n",
       "min       0.5         1.0      0.000000         1.0  -0.000220     0.030000\n",
       "25%       0.5         1.0      0.000000         1.0   0.300000     0.850000\n",
       "50%       0.5         1.0      0.000000         1.0   0.500000     1.438500\n",
       "75%       0.5         1.0      0.000000         1.0   1.103540     2.134000\n",
       "max       0.5         1.0      1.000000         1.0   3.100000     4.590000"
      ]
     },
     "execution_count": 28,
     "metadata": {},
     "output_type": "execute_result"
    }
   ],
   "source": [
    "full_catalog_df.loc[:, ['class', 'pred_class', 'radio_detect', 'pred_radio', 'Z', 'pred_Z']].describe()"
   ]
  },
  {
   "cell_type": "markdown",
   "metadata": {},
   "source": [
    "Add individual metrics for redshift"
   ]
  },
  {
   "cell_type": "code",
   "execution_count": 29,
   "metadata": {
    "tags": []
   },
   "outputs": [],
   "source": [
    "full_catalog_df['Delta_z_N'] = np.around((full_catalog_df.loc[:, 'pred_Z'] - full_catalog_df.loc[:, 'Z']) /\\\n",
    "                            (1 + full_catalog_df.loc[:, 'Z']), decimals=3)\n",
    "\n",
    "full_catalog_df['sigma_NMAD'] = np.around(1.48 * np.abs(full_catalog_df.loc[:, 'pred_Z'] - full_catalog_df.loc[:, 'Z']) /\\\n",
    "                            (1 + full_catalog_df.loc[:, 'Z']), decimals=3)"
   ]
  },
  {
   "cell_type": "markdown",
   "metadata": {},
   "source": [
    "Numerical summary."
   ]
  },
  {
   "cell_type": "code",
   "execution_count": 30,
   "metadata": {
    "jupyter": {
     "source_hidden": true
    },
    "tags": []
   },
   "outputs": [],
   "source": [
    "str_0_t   = f'Out of {total_size:,} initial sources in {used_area},\\n'\n",
    "str_1_t   = f'{num_gal_t:,} are confirmed to be galaxies. On the other side,\\n'\n",
    "str_2_t   = f'{num_AGN_t:,} are confirmed to be AGN. And, from the AGN,\\n'\n",
    "str_3_t   = f'{num_radio_AGN_t:,} are detected in radio.'\n",
    "\n",
    "str_0_p   = f'Out of {num_radio_AGN_t:,} initial radio-detected AGN in {used_area},\\n'\n",
    "str_1_p   = f'{num_gal_p:,} are predicted to be galaxies. On the other side,\\n'\n",
    "str_2_p   = f'{num_AGN_p:,} are predicted to be AGN. And, from the predicted AGN,\\n'\n",
    "str_3_p   = f'{num_radio_AGN_p:,} are predicted to be detected in radio.'"
   ]
  },
  {
   "cell_type": "code",
   "execution_count": 31,
   "metadata": {
    "jupyter": {
     "source_hidden": true
    },
    "tags": []
   },
   "outputs": [
    {
     "name": "stdout",
     "output_type": "stream",
     "text": [
      "------------------------------------------------------------\n",
      "Out of 365,789 initial sources in S82,\n",
      "0 are confirmed to be galaxies. On the other side,\n",
      "0 are confirmed to be AGN. And, from the AGN,\n",
      "0 are detected in radio.\n",
      "------------------------------------------------------------\n",
      "Out of 0 initial radio-detected AGN in S82,\n",
      "320,017 are predicted to be galaxies. On the other side,\n",
      "45,772 are predicted to be AGN. And, from the predicted AGN,\n",
      "3,882 are predicted to be detected in radio.\n",
      "------------------------------------------------------------\n"
     ]
    }
   ],
   "source": [
    "print('-' * 60)\n",
    "print(str_0_t + str_1_t + str_2_t + str_3_t)\n",
    "print('-' * 60)\n",
    "print(str_0_p + str_1_p + str_2_p + str_3_p)\n",
    "print('-' * 60)"
   ]
  },
  {
   "cell_type": "code",
   "execution_count": 32,
   "metadata": {},
   "outputs": [],
   "source": [
    "cols_4_table = show_columns = ['Name', 'RA_ICRS', 'DE_ICRS', 'TYPE', 'band_num', 'class', 'pred_class', 'Score_AGN', 'Prob_AGN',\\\n",
    "                               'radio_detect', 'pred_radio', 'Score_radio', 'Prob_radio', 'Prob_rAGN', 'Z', 'pred_Z']"
   ]
  },
  {
   "cell_type": "code",
   "execution_count": 33,
   "metadata": {
    "jupyter": {
     "source_hidden": true
    }
   },
   "outputs": [],
   "source": [
    "cols_4_export_S82    = ['Total_flux_VLASS', 'Fint_VLAS82', 'Stotal_TGSS', 'FEP']\n",
    "cols_4_export_HETDEX = ['Total_flux_VLASS', 'Sint_LOFAR', 'Stotal_TGSS', 'FEP', 'TotalFlux_LoLSS']\n",
    "cols_4_export_COSMOS = ['Total_flux_VLASS', 'Stotal_TGSS', 'FEP', 'Flux_COSMOSVLA3']\n",
    "\n",
    "cols_4_exp_all       = {'S82': cols_4_export_S82, 'HETDEX': cols_4_export_HETDEX, 'COSMOS': cols_4_export_COSMOS}\n",
    "\n",
    "cols_photo           = ['W1mproPM', 'W2mproPM', 'gmag', 'rmag', 'imag', 'zmag', 'ymag',\\\n",
    "                        'Jmag', 'Hmag', 'Kmag', 'W3mag', 'W4mag']\n",
    "\n",
    "cols_4_export        = cols_4_table + cols_4_exp_all[used_area] + cols_photo"
   ]
  },
  {
   "cell_type": "code",
   "execution_count": 34,
   "metadata": {
    "jupyter": {
     "source_hidden": true
    }
   },
   "outputs": [],
   "source": [
    "filter_new_rAGN = full_catalog_df.loc[:, 'radio_AGN'] == 0\n",
    "if predict_only_hi_z:\n",
    "    filter_high_z   = full_catalog_df.loc[:, 'pred_Z']    >= gv.high_z_limit\n",
    "elif not predict_only_hi_z:\n",
    "    filter_high_z   = np.ones_like(full_catalog_df.loc[:, 'pred_Z']).astype(bool)"
   ]
  },
  {
   "cell_type": "code",
   "execution_count": 35,
   "metadata": {},
   "outputs": [],
   "source": [
    "full_catalog_df.loc[:, 'TYPE'] = full_catalog_df.loc[:, 'TYPE'].mask(full_catalog_df.loc[:, 'TYPE'] == '    ', 'CCCC')"
   ]
  },
  {
   "cell_type": "code",
   "execution_count": 36,
   "metadata": {},
   "outputs": [
    {
     "data": {
      "text/html": [
       "<div>\n",
       "<style scoped>\n",
       "    .dataframe tbody tr th:only-of-type {\n",
       "        vertical-align: middle;\n",
       "    }\n",
       "\n",
       "    .dataframe tbody tr th {\n",
       "        vertical-align: top;\n",
       "    }\n",
       "\n",
       "    .dataframe thead th {\n",
       "        text-align: right;\n",
       "    }\n",
       "</style>\n",
       "<table border=\"1\" class=\"dataframe\">\n",
       "  <thead>\n",
       "    <tr style=\"text-align: right;\">\n",
       "      <th></th>\n",
       "      <th>Name</th>\n",
       "      <th>RA_ICRS</th>\n",
       "      <th>DE_ICRS</th>\n",
       "      <th>TYPE</th>\n",
       "      <th>band_num</th>\n",
       "      <th>class</th>\n",
       "      <th>pred_class</th>\n",
       "      <th>Score_AGN</th>\n",
       "      <th>Prob_AGN</th>\n",
       "      <th>radio_detect</th>\n",
       "      <th>pred_radio</th>\n",
       "      <th>Score_radio</th>\n",
       "      <th>Prob_radio</th>\n",
       "      <th>Prob_rAGN</th>\n",
       "      <th>Z</th>\n",
       "      <th>pred_Z</th>\n",
       "      <th>Total_flux_VLASS</th>\n",
       "      <th>Fint_VLAS82</th>\n",
       "      <th>Stotal_TGSS</th>\n",
       "      <th>FEP</th>\n",
       "      <th>W1mproPM</th>\n",
       "      <th>W2mproPM</th>\n",
       "      <th>gmag</th>\n",
       "      <th>rmag</th>\n",
       "      <th>imag</th>\n",
       "      <th>zmag</th>\n",
       "      <th>ymag</th>\n",
       "      <th>Jmag</th>\n",
       "      <th>Hmag</th>\n",
       "      <th>Kmag</th>\n",
       "      <th>W3mag</th>\n",
       "      <th>W4mag</th>\n",
       "    </tr>\n",
       "  </thead>\n",
       "  <tbody>\n",
       "    <tr>\n",
       "      <th>189511</th>\n",
       "      <td>J224122.14+000146.9</td>\n",
       "      <td>340.342285</td>\n",
       "      <td>0.029702</td>\n",
       "      <td>CCCC</td>\n",
       "      <td>8</td>\n",
       "      <td>0.5</td>\n",
       "      <td>1</td>\n",
       "      <td>0.773671</td>\n",
       "      <td>0.397173</td>\n",
       "      <td>0</td>\n",
       "      <td>1</td>\n",
       "      <td>0.500049</td>\n",
       "      <td>0.197983</td>\n",
       "      <td>0.078633</td>\n",
       "      <td>NaN</td>\n",
       "      <td>4.590</td>\n",
       "      <td>15.21</td>\n",
       "      <td>17.860001</td>\n",
       "      <td>11.18</td>\n",
       "      <td>57.900002</td>\n",
       "      <td>18.858999</td>\n",
       "      <td>19.153999</td>\n",
       "      <td>23.299999</td>\n",
       "      <td>21.108000</td>\n",
       "      <td>19.775801</td>\n",
       "      <td>19.137800</td>\n",
       "      <td>18.857500</td>\n",
       "      <td>17.450001</td>\n",
       "      <td>17.240000</td>\n",
       "      <td>16.590000</td>\n",
       "      <td>16.67</td>\n",
       "      <td>14.62</td>\n",
       "    </tr>\n",
       "    <tr>\n",
       "      <th>115779</th>\n",
       "      <td>J222430.17+002812.4</td>\n",
       "      <td>336.125732</td>\n",
       "      <td>0.470109</td>\n",
       "      <td>CCCC</td>\n",
       "      <td>8</td>\n",
       "      <td>0.5</td>\n",
       "      <td>1</td>\n",
       "      <td>0.514304</td>\n",
       "      <td>0.499364</td>\n",
       "      <td>0</td>\n",
       "      <td>1</td>\n",
       "      <td>0.500089</td>\n",
       "      <td>0.195094</td>\n",
       "      <td>0.097423</td>\n",
       "      <td>NaN</td>\n",
       "      <td>4.587</td>\n",
       "      <td>15.21</td>\n",
       "      <td>17.860001</td>\n",
       "      <td>11.18</td>\n",
       "      <td>57.900002</td>\n",
       "      <td>18.687000</td>\n",
       "      <td>19.076000</td>\n",
       "      <td>23.299999</td>\n",
       "      <td>21.013700</td>\n",
       "      <td>19.659700</td>\n",
       "      <td>18.989700</td>\n",
       "      <td>18.677200</td>\n",
       "      <td>17.450001</td>\n",
       "      <td>17.240000</td>\n",
       "      <td>16.590000</td>\n",
       "      <td>16.67</td>\n",
       "      <td>14.62</td>\n",
       "    </tr>\n",
       "    <tr>\n",
       "      <th>221870</th>\n",
       "      <td>J220725.60+003922.5</td>\n",
       "      <td>331.856689</td>\n",
       "      <td>0.656229</td>\n",
       "      <td>CCCC</td>\n",
       "      <td>12</td>\n",
       "      <td>0.5</td>\n",
       "      <td>1</td>\n",
       "      <td>0.460021</td>\n",
       "      <td>0.086094</td>\n",
       "      <td>0</td>\n",
       "      <td>1</td>\n",
       "      <td>0.500009</td>\n",
       "      <td>0.093991</td>\n",
       "      <td>0.008092</td>\n",
       "      <td>NaN</td>\n",
       "      <td>3.874</td>\n",
       "      <td>15.21</td>\n",
       "      <td>17.860001</td>\n",
       "      <td>11.18</td>\n",
       "      <td>57.900002</td>\n",
       "      <td>17.063999</td>\n",
       "      <td>17.686001</td>\n",
       "      <td>19.677700</td>\n",
       "      <td>18.510500</td>\n",
       "      <td>17.327299</td>\n",
       "      <td>16.792101</td>\n",
       "      <td>16.542999</td>\n",
       "      <td>16.250000</td>\n",
       "      <td>15.979000</td>\n",
       "      <td>16.135000</td>\n",
       "      <td>16.67</td>\n",
       "      <td>14.62</td>\n",
       "    </tr>\n",
       "    <tr>\n",
       "      <th>144494</th>\n",
       "      <td>J015111.18+000042.4</td>\n",
       "      <td>27.796623</td>\n",
       "      <td>0.011775</td>\n",
       "      <td>CCCC</td>\n",
       "      <td>12</td>\n",
       "      <td>0.5</td>\n",
       "      <td>1</td>\n",
       "      <td>0.587087</td>\n",
       "      <td>0.088902</td>\n",
       "      <td>0</td>\n",
       "      <td>1</td>\n",
       "      <td>0.500023</td>\n",
       "      <td>0.123455</td>\n",
       "      <td>0.010975</td>\n",
       "      <td>NaN</td>\n",
       "      <td>3.839</td>\n",
       "      <td>15.21</td>\n",
       "      <td>17.860001</td>\n",
       "      <td>11.18</td>\n",
       "      <td>57.900002</td>\n",
       "      <td>16.486000</td>\n",
       "      <td>17.094000</td>\n",
       "      <td>19.118999</td>\n",
       "      <td>17.928699</td>\n",
       "      <td>16.746700</td>\n",
       "      <td>16.215500</td>\n",
       "      <td>15.963400</td>\n",
       "      <td>15.693000</td>\n",
       "      <td>15.462000</td>\n",
       "      <td>15.809000</td>\n",
       "      <td>16.67</td>\n",
       "      <td>14.62</td>\n",
       "    </tr>\n",
       "    <tr>\n",
       "      <th>280546</th>\n",
       "      <td>J014308.69-000524.3</td>\n",
       "      <td>25.786217</td>\n",
       "      <td>-0.090108</td>\n",
       "      <td>CCCC</td>\n",
       "      <td>12</td>\n",
       "      <td>0.5</td>\n",
       "      <td>1</td>\n",
       "      <td>0.747024</td>\n",
       "      <td>0.071319</td>\n",
       "      <td>0</td>\n",
       "      <td>1</td>\n",
       "      <td>0.500009</td>\n",
       "      <td>0.308858</td>\n",
       "      <td>0.022027</td>\n",
       "      <td>NaN</td>\n",
       "      <td>3.815</td>\n",
       "      <td>15.21</td>\n",
       "      <td>17.860001</td>\n",
       "      <td>11.18</td>\n",
       "      <td>57.900002</td>\n",
       "      <td>16.076000</td>\n",
       "      <td>16.600000</td>\n",
       "      <td>18.733700</td>\n",
       "      <td>17.508699</td>\n",
       "      <td>16.324600</td>\n",
       "      <td>15.791100</td>\n",
       "      <td>15.527000</td>\n",
       "      <td>15.295000</td>\n",
       "      <td>15.113000</td>\n",
       "      <td>15.432000</td>\n",
       "      <td>16.67</td>\n",
       "      <td>14.62</td>\n",
       "    </tr>\n",
       "    <tr>\n",
       "      <th>333559</th>\n",
       "      <td>J013633.13+010957.9</td>\n",
       "      <td>24.138077</td>\n",
       "      <td>1.166099</td>\n",
       "      <td>CCCC</td>\n",
       "      <td>12</td>\n",
       "      <td>0.5</td>\n",
       "      <td>1</td>\n",
       "      <td>0.774950</td>\n",
       "      <td>0.080626</td>\n",
       "      <td>0</td>\n",
       "      <td>1</td>\n",
       "      <td>0.500011</td>\n",
       "      <td>0.134174</td>\n",
       "      <td>0.010818</td>\n",
       "      <td>0.00012</td>\n",
       "      <td>3.810</td>\n",
       "      <td>15.21</td>\n",
       "      <td>17.860001</td>\n",
       "      <td>11.18</td>\n",
       "      <td>57.900002</td>\n",
       "      <td>16.388000</td>\n",
       "      <td>16.934000</td>\n",
       "      <td>19.042700</td>\n",
       "      <td>17.867800</td>\n",
       "      <td>16.669100</td>\n",
       "      <td>16.133600</td>\n",
       "      <td>15.853600</td>\n",
       "      <td>15.601000</td>\n",
       "      <td>15.404000</td>\n",
       "      <td>15.651000</td>\n",
       "      <td>16.67</td>\n",
       "      <td>14.62</td>\n",
       "    </tr>\n",
       "    <tr>\n",
       "      <th>13973</th>\n",
       "      <td>J011801.76+005230.2</td>\n",
       "      <td>19.507359</td>\n",
       "      <td>0.875070</td>\n",
       "      <td>CCCC</td>\n",
       "      <td>12</td>\n",
       "      <td>0.5</td>\n",
       "      <td>1</td>\n",
       "      <td>0.752168</td>\n",
       "      <td>0.092749</td>\n",
       "      <td>0</td>\n",
       "      <td>1</td>\n",
       "      <td>0.500009</td>\n",
       "      <td>0.095761</td>\n",
       "      <td>0.008882</td>\n",
       "      <td>NaN</td>\n",
       "      <td>3.796</td>\n",
       "      <td>15.21</td>\n",
       "      <td>17.860001</td>\n",
       "      <td>11.18</td>\n",
       "      <td>57.900002</td>\n",
       "      <td>16.896000</td>\n",
       "      <td>17.555000</td>\n",
       "      <td>19.605900</td>\n",
       "      <td>18.438499</td>\n",
       "      <td>17.221399</td>\n",
       "      <td>16.670300</td>\n",
       "      <td>16.407000</td>\n",
       "      <td>16.184000</td>\n",
       "      <td>15.931001</td>\n",
       "      <td>16.200001</td>\n",
       "      <td>16.67</td>\n",
       "      <td>14.62</td>\n",
       "    </tr>\n",
       "    <tr>\n",
       "      <th>303609</th>\n",
       "      <td>J020110.92+004119.8</td>\n",
       "      <td>30.295549</td>\n",
       "      <td>0.688844</td>\n",
       "      <td>CCCC</td>\n",
       "      <td>12</td>\n",
       "      <td>0.5</td>\n",
       "      <td>1</td>\n",
       "      <td>0.808470</td>\n",
       "      <td>0.101914</td>\n",
       "      <td>0</td>\n",
       "      <td>1</td>\n",
       "      <td>0.500009</td>\n",
       "      <td>0.142728</td>\n",
       "      <td>0.014546</td>\n",
       "      <td>NaN</td>\n",
       "      <td>3.794</td>\n",
       "      <td>15.21</td>\n",
       "      <td>17.860001</td>\n",
       "      <td>11.18</td>\n",
       "      <td>57.900002</td>\n",
       "      <td>16.344999</td>\n",
       "      <td>16.888000</td>\n",
       "      <td>18.950300</td>\n",
       "      <td>17.798800</td>\n",
       "      <td>16.574400</td>\n",
       "      <td>16.030800</td>\n",
       "      <td>15.768700</td>\n",
       "      <td>15.533000</td>\n",
       "      <td>15.369000</td>\n",
       "      <td>15.586000</td>\n",
       "      <td>16.67</td>\n",
       "      <td>14.62</td>\n",
       "    </tr>\n",
       "    <tr>\n",
       "      <th>257941</th>\n",
       "      <td>J021105.07+003115.0</td>\n",
       "      <td>32.771160</td>\n",
       "      <td>0.520837</td>\n",
       "      <td>CCCC</td>\n",
       "      <td>12</td>\n",
       "      <td>0.5</td>\n",
       "      <td>1</td>\n",
       "      <td>0.832693</td>\n",
       "      <td>0.090163</td>\n",
       "      <td>0</td>\n",
       "      <td>1</td>\n",
       "      <td>0.500008</td>\n",
       "      <td>0.167284</td>\n",
       "      <td>0.015083</td>\n",
       "      <td>NaN</td>\n",
       "      <td>3.784</td>\n",
       "      <td>15.21</td>\n",
       "      <td>17.860001</td>\n",
       "      <td>11.18</td>\n",
       "      <td>57.900002</td>\n",
       "      <td>16.410999</td>\n",
       "      <td>16.913000</td>\n",
       "      <td>19.311800</td>\n",
       "      <td>18.096100</td>\n",
       "      <td>16.825500</td>\n",
       "      <td>16.241199</td>\n",
       "      <td>15.968800</td>\n",
       "      <td>15.736000</td>\n",
       "      <td>15.502001</td>\n",
       "      <td>15.792001</td>\n",
       "      <td>16.67</td>\n",
       "      <td>14.62</td>\n",
       "    </tr>\n",
       "    <tr>\n",
       "      <th>158071</th>\n",
       "      <td>J021440.59+001008.5</td>\n",
       "      <td>33.669140</td>\n",
       "      <td>0.169031</td>\n",
       "      <td>CCCC</td>\n",
       "      <td>12</td>\n",
       "      <td>0.5</td>\n",
       "      <td>1</td>\n",
       "      <td>0.768499</td>\n",
       "      <td>0.078300</td>\n",
       "      <td>0</td>\n",
       "      <td>1</td>\n",
       "      <td>0.500009</td>\n",
       "      <td>0.226762</td>\n",
       "      <td>0.017755</td>\n",
       "      <td>NaN</td>\n",
       "      <td>3.771</td>\n",
       "      <td>15.21</td>\n",
       "      <td>17.860001</td>\n",
       "      <td>11.18</td>\n",
       "      <td>57.900002</td>\n",
       "      <td>16.089001</td>\n",
       "      <td>16.656000</td>\n",
       "      <td>18.737000</td>\n",
       "      <td>17.585199</td>\n",
       "      <td>16.362900</td>\n",
       "      <td>15.829600</td>\n",
       "      <td>15.570100</td>\n",
       "      <td>15.335000</td>\n",
       "      <td>15.147000</td>\n",
       "      <td>15.353001</td>\n",
       "      <td>16.67</td>\n",
       "      <td>14.62</td>\n",
       "    </tr>\n",
       "    <tr>\n",
       "      <th>154768</th>\n",
       "      <td>J220734.77-001701.5</td>\n",
       "      <td>331.894897</td>\n",
       "      <td>-0.283779</td>\n",
       "      <td>CCCC</td>\n",
       "      <td>12</td>\n",
       "      <td>0.5</td>\n",
       "      <td>1</td>\n",
       "      <td>0.904177</td>\n",
       "      <td>0.087944</td>\n",
       "      <td>0</td>\n",
       "      <td>1</td>\n",
       "      <td>0.500015</td>\n",
       "      <td>0.101041</td>\n",
       "      <td>0.008886</td>\n",
       "      <td>NaN</td>\n",
       "      <td>3.760</td>\n",
       "      <td>15.21</td>\n",
       "      <td>17.860001</td>\n",
       "      <td>11.18</td>\n",
       "      <td>57.900002</td>\n",
       "      <td>16.882999</td>\n",
       "      <td>17.433001</td>\n",
       "      <td>19.804600</td>\n",
       "      <td>18.534700</td>\n",
       "      <td>17.287701</td>\n",
       "      <td>16.721701</td>\n",
       "      <td>16.427299</td>\n",
       "      <td>16.195000</td>\n",
       "      <td>15.886001</td>\n",
       "      <td>16.222000</td>\n",
       "      <td>16.67</td>\n",
       "      <td>14.62</td>\n",
       "    </tr>\n",
       "    <tr>\n",
       "      <th>294956</th>\n",
       "      <td>J005033.38-004047.0</td>\n",
       "      <td>12.639127</td>\n",
       "      <td>-0.679744</td>\n",
       "      <td>CCCC</td>\n",
       "      <td>9</td>\n",
       "      <td>0.5</td>\n",
       "      <td>1</td>\n",
       "      <td>0.680086</td>\n",
       "      <td>0.212754</td>\n",
       "      <td>0</td>\n",
       "      <td>1</td>\n",
       "      <td>0.500027</td>\n",
       "      <td>0.144630</td>\n",
       "      <td>0.030771</td>\n",
       "      <td>NaN</td>\n",
       "      <td>3.755</td>\n",
       "      <td>15.21</td>\n",
       "      <td>17.860001</td>\n",
       "      <td>11.18</td>\n",
       "      <td>57.900002</td>\n",
       "      <td>18.657000</td>\n",
       "      <td>18.948000</td>\n",
       "      <td>22.063700</td>\n",
       "      <td>20.876499</td>\n",
       "      <td>19.413200</td>\n",
       "      <td>18.711100</td>\n",
       "      <td>18.365999</td>\n",
       "      <td>17.450001</td>\n",
       "      <td>17.240000</td>\n",
       "      <td>16.590000</td>\n",
       "      <td>16.67</td>\n",
       "      <td>14.62</td>\n",
       "    </tr>\n",
       "    <tr>\n",
       "      <th>124293</th>\n",
       "      <td>J020153.10-011429.4</td>\n",
       "      <td>30.471289</td>\n",
       "      <td>-1.241512</td>\n",
       "      <td>CCCC</td>\n",
       "      <td>12</td>\n",
       "      <td>0.5</td>\n",
       "      <td>1</td>\n",
       "      <td>0.857389</td>\n",
       "      <td>0.087043</td>\n",
       "      <td>0</td>\n",
       "      <td>1</td>\n",
       "      <td>0.500046</td>\n",
       "      <td>0.109419</td>\n",
       "      <td>0.009524</td>\n",
       "      <td>NaN</td>\n",
       "      <td>3.724</td>\n",
       "      <td>15.21</td>\n",
       "      <td>17.860001</td>\n",
       "      <td>11.18</td>\n",
       "      <td>57.900002</td>\n",
       "      <td>16.827000</td>\n",
       "      <td>17.396999</td>\n",
       "      <td>19.460400</td>\n",
       "      <td>18.293800</td>\n",
       "      <td>17.091499</td>\n",
       "      <td>16.557100</td>\n",
       "      <td>16.288500</td>\n",
       "      <td>16.084000</td>\n",
       "      <td>15.788000</td>\n",
       "      <td>16.030001</td>\n",
       "      <td>16.67</td>\n",
       "      <td>14.62</td>\n",
       "    </tr>\n",
       "    <tr>\n",
       "      <th>286675</th>\n",
       "      <td>J021137.38-003201.7</td>\n",
       "      <td>32.905792</td>\n",
       "      <td>-0.533841</td>\n",
       "      <td>CCCC</td>\n",
       "      <td>12</td>\n",
       "      <td>0.5</td>\n",
       "      <td>1</td>\n",
       "      <td>0.924105</td>\n",
       "      <td>0.104137</td>\n",
       "      <td>0</td>\n",
       "      <td>1</td>\n",
       "      <td>0.500009</td>\n",
       "      <td>0.097023</td>\n",
       "      <td>0.010104</td>\n",
       "      <td>NaN</td>\n",
       "      <td>3.720</td>\n",
       "      <td>15.21</td>\n",
       "      <td>17.860001</td>\n",
       "      <td>11.18</td>\n",
       "      <td>57.900002</td>\n",
       "      <td>16.940001</td>\n",
       "      <td>17.482000</td>\n",
       "      <td>19.711201</td>\n",
       "      <td>18.567600</td>\n",
       "      <td>17.254400</td>\n",
       "      <td>16.680799</td>\n",
       "      <td>16.389200</td>\n",
       "      <td>16.177000</td>\n",
       "      <td>15.969001</td>\n",
       "      <td>16.240000</td>\n",
       "      <td>16.67</td>\n",
       "      <td>14.62</td>\n",
       "    </tr>\n",
       "    <tr>\n",
       "      <th>332699</th>\n",
       "      <td>J230900.89-000356.5</td>\n",
       "      <td>347.253723</td>\n",
       "      <td>-0.065708</td>\n",
       "      <td>CCCC</td>\n",
       "      <td>12</td>\n",
       "      <td>0.5</td>\n",
       "      <td>1</td>\n",
       "      <td>0.916794</td>\n",
       "      <td>0.090364</td>\n",
       "      <td>0</td>\n",
       "      <td>1</td>\n",
       "      <td>0.500009</td>\n",
       "      <td>0.432187</td>\n",
       "      <td>0.039054</td>\n",
       "      <td>NaN</td>\n",
       "      <td>3.717</td>\n",
       "      <td>15.21</td>\n",
       "      <td>17.860001</td>\n",
       "      <td>11.18</td>\n",
       "      <td>57.900002</td>\n",
       "      <td>16.358999</td>\n",
       "      <td>16.816000</td>\n",
       "      <td>19.113100</td>\n",
       "      <td>17.950899</td>\n",
       "      <td>16.640200</td>\n",
       "      <td>16.050100</td>\n",
       "      <td>15.781700</td>\n",
       "      <td>15.587000</td>\n",
       "      <td>15.386001</td>\n",
       "      <td>15.676001</td>\n",
       "      <td>16.67</td>\n",
       "      <td>14.62</td>\n",
       "    </tr>\n",
       "  </tbody>\n",
       "</table>\n",
       "</div>"
      ],
      "text/plain": [
       "                        Name     RA_ICRS   DE_ICRS  TYPE  band_num  class  \\\n",
       "189511  J224122.14+000146.9   340.342285  0.029702  CCCC         8    0.5   \n",
       "115779  J222430.17+002812.4   336.125732  0.470109  CCCC         8    0.5   \n",
       "221870  J220725.60+003922.5   331.856689  0.656229  CCCC        12    0.5   \n",
       "144494  J015111.18+000042.4    27.796623  0.011775  CCCC        12    0.5   \n",
       "280546  J014308.69-000524.3    25.786217 -0.090108  CCCC        12    0.5   \n",
       "333559  J013633.13+010957.9    24.138077  1.166099  CCCC        12    0.5   \n",
       "13973   J011801.76+005230.2    19.507359  0.875070  CCCC        12    0.5   \n",
       "303609  J020110.92+004119.8    30.295549  0.688844  CCCC        12    0.5   \n",
       "257941  J021105.07+003115.0    32.771160  0.520837  CCCC        12    0.5   \n",
       "158071  J021440.59+001008.5    33.669140  0.169031  CCCC        12    0.5   \n",
       "154768  J220734.77-001701.5   331.894897 -0.283779  CCCC        12    0.5   \n",
       "294956  J005033.38-004047.0    12.639127 -0.679744  CCCC         9    0.5   \n",
       "124293  J020153.10-011429.4    30.471289 -1.241512  CCCC        12    0.5   \n",
       "286675  J021137.38-003201.7    32.905792 -0.533841  CCCC        12    0.5   \n",
       "332699  J230900.89-000356.5   347.253723 -0.065708  CCCC        12    0.5   \n",
       "\n",
       "        pred_class  Score_AGN  Prob_AGN  radio_detect  pred_radio  \\\n",
       "189511           1   0.773671  0.397173             0           1   \n",
       "115779           1   0.514304  0.499364             0           1   \n",
       "221870           1   0.460021  0.086094             0           1   \n",
       "144494           1   0.587087  0.088902             0           1   \n",
       "280546           1   0.747024  0.071319             0           1   \n",
       "333559           1   0.774950  0.080626             0           1   \n",
       "13973            1   0.752168  0.092749             0           1   \n",
       "303609           1   0.808470  0.101914             0           1   \n",
       "257941           1   0.832693  0.090163             0           1   \n",
       "158071           1   0.768499  0.078300             0           1   \n",
       "154768           1   0.904177  0.087944             0           1   \n",
       "294956           1   0.680086  0.212754             0           1   \n",
       "124293           1   0.857389  0.087043             0           1   \n",
       "286675           1   0.924105  0.104137             0           1   \n",
       "332699           1   0.916794  0.090364             0           1   \n",
       "\n",
       "        Score_radio  Prob_radio  Prob_rAGN        Z  pred_Z  Total_flux_VLASS  \\\n",
       "189511     0.500049    0.197983   0.078633      NaN   4.590             15.21   \n",
       "115779     0.500089    0.195094   0.097423      NaN   4.587             15.21   \n",
       "221870     0.500009    0.093991   0.008092      NaN   3.874             15.21   \n",
       "144494     0.500023    0.123455   0.010975      NaN   3.839             15.21   \n",
       "280546     0.500009    0.308858   0.022027      NaN   3.815             15.21   \n",
       "333559     0.500011    0.134174   0.010818  0.00012   3.810             15.21   \n",
       "13973      0.500009    0.095761   0.008882      NaN   3.796             15.21   \n",
       "303609     0.500009    0.142728   0.014546      NaN   3.794             15.21   \n",
       "257941     0.500008    0.167284   0.015083      NaN   3.784             15.21   \n",
       "158071     0.500009    0.226762   0.017755      NaN   3.771             15.21   \n",
       "154768     0.500015    0.101041   0.008886      NaN   3.760             15.21   \n",
       "294956     0.500027    0.144630   0.030771      NaN   3.755             15.21   \n",
       "124293     0.500046    0.109419   0.009524      NaN   3.724             15.21   \n",
       "286675     0.500009    0.097023   0.010104      NaN   3.720             15.21   \n",
       "332699     0.500009    0.432187   0.039054      NaN   3.717             15.21   \n",
       "\n",
       "        Fint_VLAS82  Stotal_TGSS        FEP   W1mproPM   W2mproPM       gmag  \\\n",
       "189511    17.860001        11.18  57.900002  18.858999  19.153999  23.299999   \n",
       "115779    17.860001        11.18  57.900002  18.687000  19.076000  23.299999   \n",
       "221870    17.860001        11.18  57.900002  17.063999  17.686001  19.677700   \n",
       "144494    17.860001        11.18  57.900002  16.486000  17.094000  19.118999   \n",
       "280546    17.860001        11.18  57.900002  16.076000  16.600000  18.733700   \n",
       "333559    17.860001        11.18  57.900002  16.388000  16.934000  19.042700   \n",
       "13973     17.860001        11.18  57.900002  16.896000  17.555000  19.605900   \n",
       "303609    17.860001        11.18  57.900002  16.344999  16.888000  18.950300   \n",
       "257941    17.860001        11.18  57.900002  16.410999  16.913000  19.311800   \n",
       "158071    17.860001        11.18  57.900002  16.089001  16.656000  18.737000   \n",
       "154768    17.860001        11.18  57.900002  16.882999  17.433001  19.804600   \n",
       "294956    17.860001        11.18  57.900002  18.657000  18.948000  22.063700   \n",
       "124293    17.860001        11.18  57.900002  16.827000  17.396999  19.460400   \n",
       "286675    17.860001        11.18  57.900002  16.940001  17.482000  19.711201   \n",
       "332699    17.860001        11.18  57.900002  16.358999  16.816000  19.113100   \n",
       "\n",
       "             rmag       imag       zmag       ymag       Jmag       Hmag  \\\n",
       "189511  21.108000  19.775801  19.137800  18.857500  17.450001  17.240000   \n",
       "115779  21.013700  19.659700  18.989700  18.677200  17.450001  17.240000   \n",
       "221870  18.510500  17.327299  16.792101  16.542999  16.250000  15.979000   \n",
       "144494  17.928699  16.746700  16.215500  15.963400  15.693000  15.462000   \n",
       "280546  17.508699  16.324600  15.791100  15.527000  15.295000  15.113000   \n",
       "333559  17.867800  16.669100  16.133600  15.853600  15.601000  15.404000   \n",
       "13973   18.438499  17.221399  16.670300  16.407000  16.184000  15.931001   \n",
       "303609  17.798800  16.574400  16.030800  15.768700  15.533000  15.369000   \n",
       "257941  18.096100  16.825500  16.241199  15.968800  15.736000  15.502001   \n",
       "158071  17.585199  16.362900  15.829600  15.570100  15.335000  15.147000   \n",
       "154768  18.534700  17.287701  16.721701  16.427299  16.195000  15.886001   \n",
       "294956  20.876499  19.413200  18.711100  18.365999  17.450001  17.240000   \n",
       "124293  18.293800  17.091499  16.557100  16.288500  16.084000  15.788000   \n",
       "286675  18.567600  17.254400  16.680799  16.389200  16.177000  15.969001   \n",
       "332699  17.950899  16.640200  16.050100  15.781700  15.587000  15.386001   \n",
       "\n",
       "             Kmag  W3mag  W4mag  \n",
       "189511  16.590000  16.67  14.62  \n",
       "115779  16.590000  16.67  14.62  \n",
       "221870  16.135000  16.67  14.62  \n",
       "144494  15.809000  16.67  14.62  \n",
       "280546  15.432000  16.67  14.62  \n",
       "333559  15.651000  16.67  14.62  \n",
       "13973   16.200001  16.67  14.62  \n",
       "303609  15.586000  16.67  14.62  \n",
       "257941  15.792001  16.67  14.62  \n",
       "158071  15.353001  16.67  14.62  \n",
       "154768  16.222000  16.67  14.62  \n",
       "294956  16.590000  16.67  14.62  \n",
       "124293  16.030001  16.67  14.62  \n",
       "286675  16.240000  16.67  14.62  \n",
       "332699  15.676001  16.67  14.62  "
      ]
     },
     "metadata": {},
     "output_type": "display_data"
    }
   ],
   "source": [
    "display(full_catalog_df.loc[filter_high_z, cols_4_export].sort_values(by=['pred_Z'], ascending=False).head(15))"
   ]
  },
  {
   "cell_type": "code",
   "execution_count": 37,
   "metadata": {},
   "outputs": [],
   "source": [
    "if save_preds_flag:\n",
    "    full_catalog_df.loc[filter_high_z, cols_4_export].sort_values(by=['pred_Z'],\n",
    "     ascending=False).to_csv(gv.preds_path + f'predicted_rAGN_{used_area}.csv')"
   ]
  },
  {
   "cell_type": "markdown",
   "metadata": {},
   "source": [
    "---"
   ]
  },
  {
   "cell_type": "code",
   "execution_count": null,
   "metadata": {},
   "outputs": [],
   "source": []
  }
 ],
 "metadata": {
  "kernelspec": {
   "display_name": "Python 3 (ipykernel)",
   "language": "python",
   "name": "python3"
  },
  "language_info": {
   "codemirror_mode": {
    "name": "ipython",
    "version": 3
   },
   "file_extension": ".py",
   "mimetype": "text/x-python",
   "name": "python",
   "nbconvert_exporter": "python",
   "pygments_lexer": "ipython3",
   "version": "3.8.13"
  },
  "vscode": {
   "interpreter": {
    "hash": "1d7c94ac87c57432169d0bc24ce250f6f2e77b44a3b95192eb5ace62cff26777"
   }
  }
 },
 "nbformat": 4,
 "nbformat_minor": 4
}
