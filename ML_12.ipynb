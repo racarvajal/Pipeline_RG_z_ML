{
 "cells": [
  {
   "cell_type": "markdown",
   "metadata": {},
   "source": [
    "# Pipeline for High-z Radio Galaxies 12: Create lists (files) with radio AGN candidates"
   ]
  },
  {
   "cell_type": "markdown",
   "metadata": {},
   "source": [
    "## Introduction"
   ]
  },
  {
   "cell_type": "markdown",
   "metadata": {},
   "source": [
    "In this file, three models will be applied consecutively in order to predict  \n",
    "the detection of Radio Galaxies (radio AGN) and their redshift.  \n",
    "\n",
    "In principle, this pipeline should be applied to data in Stripe 82. But  \n",
    "it can be used with any other suitable dataset."
   ]
  },
  {
   "cell_type": "code",
   "execution_count": 1,
   "metadata": {},
   "outputs": [],
   "source": [
    "%matplotlib inline\n",
    "# Static plots\n",
    "#%matplotlib ipympl\n",
    "# Interactive plots\n",
    "import numpy as np\n",
    "import matplotlib as mpl\n",
    "import matplotlib.cm as cm\n",
    "from matplotlib import ticker\n",
    "import matplotlib.pyplot as plt\n",
    "import matplotlib.colors as mcolors\n",
    "import matplotlib.patheffects as mpe\n",
    "import matplotlib.patches as mpatches\n",
    "from matplotlib.ticker import ScalarFormatter\n",
    "from mpl_toolkits.axes_grid1.inset_locator import inset_axes\n",
    "from astropy.visualization import LogStretch, PowerStretch\n",
    "from astropy.visualization.mpl_normalize import ImageNormalize\n",
    "from sklearn.preprocessing import MinMaxScaler\n",
    "from sklearn.metrics import ConfusionMatrixDisplay\n",
    "import sklearn.pipeline\n",
    "import colorcet as cc\n",
    "from pycaret import classification as pyc\n",
    "from pycaret import regression as pyr\n",
    "from joblib import dump, load\n",
    "import pandas as pd\n",
    "import mpl_scatter_density\n",
    "import global_variables as gv\n",
    "import global_functions as gf"
   ]
  },
  {
   "cell_type": "code",
   "execution_count": 2,
   "metadata": {},
   "outputs": [],
   "source": [
    "mpl.rcdefaults()"
   ]
  },
  {
   "cell_type": "markdown",
   "metadata": {},
   "source": [
    "---"
   ]
  },
  {
   "cell_type": "markdown",
   "metadata": {},
   "source": [
    "## Reading data"
   ]
  },
  {
   "cell_type": "markdown",
   "metadata": {
    "tags": []
   },
   "source": [
    "Flags."
   ]
  },
  {
   "cell_type": "code",
   "execution_count": 3,
   "metadata": {},
   "outputs": [],
   "source": [
    "save_plot_flag      = False\n",
    "save_preds_flag     = False\n",
    "load_models_flag    = True\n",
    "predict_only_hi_z   = False\n",
    "use_zeroth_model    = False\n",
    "use_second_z_model  = False  # z >= 3.6 (with SMOGN), or, if needed, z >= 4.0"
   ]
  },
  {
   "cell_type": "code",
   "execution_count": 4,
   "metadata": {},
   "outputs": [],
   "source": [
    "used_area           = 'HETDEX'  # can be 'S82', 'HETDEX', 'COSMOS'"
   ]
  },
  {
   "cell_type": "code",
   "execution_count": 5,
   "metadata": {},
   "outputs": [],
   "source": [
    "if used_area != 'S82':\n",
    "    compare_A17_flag = False"
   ]
  },
  {
   "cell_type": "code",
   "execution_count": 6,
   "metadata": {
    "tags": []
   },
   "outputs": [],
   "source": [
    "file_name_dict      = {'S82': gv.file_S82, 'HETDEX': gv.file_HETDEX, 'COSMOS': gv.file_COSMOS}\n",
    "file_name           = file_name_dict[used_area]"
   ]
  },
  {
   "cell_type": "code",
   "execution_count": 7,
   "metadata": {
    "tags": []
   },
   "outputs": [],
   "source": [
    "feats_2_disc_S82    = ['objID', 'RA_MILLI', 'DEC_MILLI', 'X_ray_detect', 'W1mag', 'W2mag', 'FUVmag', 'NUVmag', 'num_imputed']\n",
    "feats_2_disc_HETDEX = ['objID', 'RA_MILLI', 'DEC_MILLI', 'X_ray_detect', 'W1mag', 'W2mag', 'FUVmag', 'NUVmag', 'num_imputed']\n",
    "feats_2_disc_COSMOS = ['objID', 'RA_MILLI', 'DEC_MILLI', 'X_ray_detect', 'W1mag', 'W2mag', 'FUVmag', 'NUVmag', 'num_imputed']\n",
    "\n",
    "feats_2_disc        = {'S82': feats_2_disc_S82, 'HETDEX': feats_2_disc_HETDEX, 'COSMOS': feats_2_disc_COSMOS}\n",
    "features_2_discard  = feats_2_disc[used_area]"
   ]
  },
  {
   "cell_type": "code",
   "execution_count": 8,
   "metadata": {},
   "outputs": [],
   "source": [
    "full_catalog_df     = pd.read_hdf(gv.cat_path + file_name, key='df').drop(columns=features_2_discard)"
   ]
  },
  {
   "cell_type": "code",
   "execution_count": 9,
   "metadata": {
    "jupyter": {
     "source_hidden": true
    }
   },
   "outputs": [],
   "source": [
    "full_catalog_df.loc[:, 'radio_detect'] = full_catalog_df.loc[:, 'radio_detect'].astype(int)"
   ]
  },
  {
   "cell_type": "markdown",
   "metadata": {},
   "source": [
    "Create features with class and combined redshift."
   ]
  },
  {
   "cell_type": "code",
   "execution_count": 10,
   "metadata": {
    "jupyter": {
     "source_hidden": true
    }
   },
   "outputs": [],
   "source": [
    "full_catalog_df['class']            = full_catalog_df.loc[:, 'is_AGN'].copy()\n",
    "filter_non_confirmed                = np.array(full_catalog_df.loc[:, 'is_AGN'] == 1) | np.array(full_catalog_df.loc[:, 'is_gal'] == 1)\n",
    "full_catalog_df.loc[~filter_non_confirmed, 'class'] = np.nan\n",
    "idx_non_Z                           = full_catalog_df.loc[:, 'Z'].where(full_catalog_df.loc[:, 'Z'] > 0).isna()\n",
    "full_catalog_df.loc[idx_non_Z, 'Z'] = full_catalog_df.loc[:, 'Z'].mask(idx_non_Z, full_catalog_df.loc[idx_non_Z, 'zsp'])"
   ]
  },
  {
   "cell_type": "markdown",
   "metadata": {},
   "source": [
    "Create column for detection as Radio AGN"
   ]
  },
  {
   "cell_type": "code",
   "execution_count": 11,
   "metadata": {},
   "outputs": [],
   "source": [
    "full_catalog_df['radio_AGN']      = np.array(full_catalog_df.loc[:, 'is_AGN'] == 1) & np.array(full_catalog_df.loc[:, 'radio_detect'] == 1)"
   ]
  },
  {
   "cell_type": "markdown",
   "metadata": {},
   "source": [
    "Discard minor features."
   ]
  },
  {
   "cell_type": "code",
   "execution_count": 12,
   "metadata": {},
   "outputs": [],
   "source": [
    "full_catalog_df                     = full_catalog_df.drop(columns=['is_AGN', 'is_SDSS_QSO', 'is_SDSS_gal', 'is_gal', 'zsp'])"
   ]
  },
  {
   "cell_type": "markdown",
   "metadata": {},
   "source": [
    "#### As we want to predict, only use sources that have not previous spectroscopic classification"
   ]
  },
  {
   "cell_type": "code",
   "execution_count": 13,
   "metadata": {
    "jupyter": {
     "source_hidden": true
    }
   },
   "outputs": [
    {
     "name": "stdout",
     "output_type": "stream",
     "text": [
      "The used data set (in HETDEX) has 6,729,647 sources.\n",
      "And 83,409 have previous spectroscopic classification.\n"
     ]
    }
   ],
   "source": [
    "print(f'The used data set (in {used_area}) has {len(full_catalog_df):,} sources.')\n",
    "print(f'And {np.sum(filter_non_confirmed):,} have previous spectroscopic classification.')"
   ]
  },
  {
   "cell_type": "code",
   "execution_count": 14,
   "metadata": {},
   "outputs": [],
   "source": [
    "full_catalog_df                     = full_catalog_df.loc[~filter_non_confirmed]"
   ]
  },
  {
   "cell_type": "code",
   "execution_count": 15,
   "metadata": {
    "jupyter": {
     "source_hidden": true
    }
   },
   "outputs": [
    {
     "name": "stdout",
     "output_type": "stream",
     "text": [
      "This pipeline will predict properties for 6,646,238 sources in HETDEX.\n"
     ]
    }
   ],
   "source": [
    "print(f'This pipeline will predict properties for {len(full_catalog_df):,} sources in {used_area}.')"
   ]
  },
  {
   "cell_type": "markdown",
   "metadata": {},
   "source": [
    "---"
   ]
  },
  {
   "cell_type": "markdown",
   "metadata": {},
   "source": [
    "### Load models"
   ]
  },
  {
   "cell_type": "code",
   "execution_count": 16,
   "metadata": {},
   "outputs": [
    {
     "name": "stdout",
     "output_type": "stream",
     "text": [
      "Transformation Pipeline and Model Successfully Loaded\n",
      "Transformation Pipeline and Model Successfully Loaded\n",
      "Transformation Pipeline and Model Successfully Loaded\n"
     ]
    }
   ],
   "source": [
    "if load_models_flag:\n",
    "    if use_zeroth_model:\n",
    "        star_clf        = pyc.load_model(gv.models_path + gv.star_model)  # star/no-star model\n",
    "        cal_star_clf    = load(gv.models_path + gv.cal_str_model)  # calibrated model\n",
    "    AGN_gal_clf         = pyc.load_model(gv.models_path + gv.AGN_gal_model)  #\n",
    "    cal_AGN_gal_clf     = load(gv.models_path + gv.cal_AGN_gal_model)  # calibrated model\n",
    "    radio_det_clf       = pyc.load_model(gv.models_path + gv.radio_model)  # without predicted AGN\n",
    "    cal_radio_det_clf   = load(gv.models_path + gv.cal_radio_model)  # calibrated model\n",
    "    redshift_reg        = pyr.load_model(gv.models_path + gv.full_z_model)  # to use on full sample\n",
    "    if use_second_z_model:\n",
    "        redshift_reg_2  = pyr.load_model(gv.models_path + gv.high_z_model)  # sources with predicted z >= 3.6"
   ]
  },
  {
   "cell_type": "code",
   "execution_count": 17,
   "metadata": {
    "jupyter": {
     "source_hidden": true
    }
   },
   "outputs": [],
   "source": [
    "full_catalog_df = pyc.predict_model(AGN_gal_clf, data=full_catalog_df, probability_threshold=gv.AGN_thresh, raw_score=True, round=10)\n",
    "full_catalog_df = full_catalog_df.drop(columns=['Score_0'])\n",
    "full_catalog_df = full_catalog_df.rename(columns={'Label': 'pred_class', 'Score_1': 'Score_AGN'})\n",
    "full_catalog_df['Score_AGN'] = np.around(full_catalog_df.loc[:, 'Score_AGN'], decimals=7)\n",
    "pred_probs_AGN  = cal_AGN_gal_clf.predict_proba(full_catalog_df.loc[:, gf.get_final_column_names(AGN_gal_clf, full_catalog_df)])[:, 1]\n",
    "full_catalog_df['Prob_AGN'] = pred_probs_AGN"
   ]
  },
  {
   "cell_type": "code",
   "execution_count": 18,
   "metadata": {
    "jupyter": {
     "source_hidden": true
    }
   },
   "outputs": [],
   "source": [
    "full_catalog_df = pyc.predict_model(radio_det_clf, data=full_catalog_df, probability_threshold=gv.radio_thresh, raw_score=True, round=10)\n",
    "full_catalog_df = full_catalog_df.drop(columns=['Score_0'])\n",
    "full_catalog_df = full_catalog_df.rename(columns={'Label': 'pred_radio', 'Score_1': 'Score_radio'})\n",
    "full_catalog_df['Score_radio'] = np.around(full_catalog_df.loc[:, 'Score_radio'], decimals=7)\n",
    "pred_probs_rad  = cal_radio_det_clf.predict_proba(full_catalog_df.loc[:, gf.get_final_column_names(radio_det_clf, full_catalog_df)])[:, 1]\n",
    "full_catalog_df['Prob_radio'] = pred_probs_rad"
   ]
  },
  {
   "cell_type": "code",
   "execution_count": 19,
   "metadata": {
    "jupyter": {
     "source_hidden": true
    }
   },
   "outputs": [],
   "source": [
    "full_catalog_df = pyr.predict_model(redshift_reg, data=full_catalog_df, round=8)\n",
    "full_catalog_df = full_catalog_df.rename(columns={'Label': 'pred_Z'})\n",
    "full_catalog_df['pred_Z'] = np.around(full_catalog_df.loc[:, 'pred_Z'], decimals=3)"
   ]
  },
  {
   "cell_type": "code",
   "execution_count": 20,
   "metadata": {
    "jupyter": {
     "source_hidden": true
    }
   },
   "outputs": [],
   "source": [
    "redshift_tol    = 0.0\n",
    "if use_second_z_model:\n",
    "    full_catalog_df = pyr.predict_model(redshift_reg_2, data=full_catalog_df, round=6)\n",
    "    filter_pred_z   = full_catalog_df.loc[:, 'pred_Z'] >= (gv.high_z_limit + redshift_tol)\n",
    "    full_catalog_df.loc[:, 'pred_Z'] = full_catalog_df.loc[:, 'pred_Z'].mask(filter_pred_z, full_catalog_df.loc[filter_pred_z, 'Label'])\n",
    "    full_catalog_df = full_catalog_df.drop(columns=['Label'])\n",
    "    full_catalog_df.loc[:, 'pred_Z'] = np.around(full_catalog_df.loc[:, 'pred_Z'], decimals=3)"
   ]
  },
  {
   "cell_type": "code",
   "execution_count": 21,
   "metadata": {
    "jupyter": {
     "source_hidden": true
    },
    "tags": []
   },
   "outputs": [
    {
     "data": {
      "image/png": "[encoded data removed]",
      "text/plain": [
       "<Figure size 600x500 with 3 Axes>"
      ]
     },
     "metadata": {},
     "output_type": "display_data"
    }
   ],
   "source": [
    "fig             = plt.figure(figsize=(6,5))\n",
    "ax1             = fig.add_subplot(111, projection='scatter_density', xscale='log', yscale='log')\n",
    "ax1 = gf.plot_redshift_compare(full_catalog_df.loc[:, 'Z'], full_catalog_df.loc[:, 'pred_Z'], ax_pre=ax1, title=None, dpi=10, show_clb=True, log_stretch=False)\n",
    "ax1.axvline(x=(1 + gv.high_z_limit), ls='--', c='k', lw=2.5)\n",
    "if use_second_z_model:\n",
    "    ax1.set_ylabel('$1 + Z_{\\mathrm{Predicted}}^{\\mathrm{combined\\,models}}$', size=20)\n",
    "plt.show()"
   ]
  },
  {
   "cell_type": "code",
   "execution_count": 22,
   "metadata": {
    "jupyter": {
     "source_hidden": true
    }
   },
   "outputs": [],
   "source": [
    "full_catalog_df['pred_prob_class']    = (full_catalog_df.loc[:, 'Prob_AGN']   >= gv.cal_AGN_thresh).astype(int)\n",
    "full_catalog_df['pred_prob_radio']    = (full_catalog_df.loc[:, 'Prob_radio'] >= gv.cal_radio_thresh).astype(int)"
   ]
  },
  {
   "cell_type": "code",
   "execution_count": 23,
   "metadata": {
    "jupyter": {
     "source_hidden": true
    }
   },
   "outputs": [],
   "source": [
    "full_catalog_df['pred_radio_AGN']     = np.array(full_catalog_df.loc[:, 'pred_class'] == 1) & np.array(full_catalog_df.loc[:, 'pred_radio'] == 1)\n",
    "full_catalog_df['Score_rAGN']         = full_catalog_df.loc[:, 'Score_AGN'] * full_catalog_df.loc[:, 'Score_radio']\n",
    "full_catalog_df['pred_prob_rAGN']     = np.array(full_catalog_df.loc[:, 'pred_prob_class'] == 1) & np.array(full_catalog_df.loc[:, 'pred_prob_radio'] == 1)\n",
    "full_catalog_df['Prob_rAGN']          = full_catalog_df.loc[:, 'Prob_AGN'] * full_catalog_df.loc[:, 'Prob_radio']\n",
    "\n",
    "rad_score_scaler                      = MinMaxScaler()\n",
    "full_catalog_df['scaled_score_radio'] = rad_score_scaler.fit_transform(full_catalog_df.loc[:, 'Score_radio'].values.reshape(-1, 1))\n",
    "full_catalog_df['scaled_score_rAGN']  = full_catalog_df.loc[:, 'Score_AGN'] * full_catalog_df.loc[:, 'scaled_score_radio']"
   ]
  },
  {
   "cell_type": "code",
   "execution_count": 24,
   "metadata": {},
   "outputs": [
    {
     "data": {
      "text/html": [
       "<div>\n",
       "<style scoped>\n",
       "    .dataframe tbody tr th:only-of-type {\n",
       "        vertical-align: middle;\n",
       "    }\n",
       "\n",
       "    .dataframe tbody tr th {\n",
       "        vertical-align: top;\n",
       "    }\n",
       "\n",
       "    .dataframe thead th {\n",
       "        text-align: right;\n",
       "    }\n",
       "</style>\n",
       "<table border=\"1\" class=\"dataframe\">\n",
       "  <thead>\n",
       "    <tr style=\"text-align: right;\">\n",
       "      <th></th>\n",
       "      <th>class</th>\n",
       "      <th>pred_class</th>\n",
       "      <th>radio_detect</th>\n",
       "      <th>pred_radio</th>\n",
       "      <th>Z</th>\n",
       "      <th>pred_Z</th>\n",
       "    </tr>\n",
       "  </thead>\n",
       "  <tbody>\n",
       "    <tr>\n",
       "      <th>count</th>\n",
       "      <td>0.0</td>\n",
       "      <td>6.646238e+06</td>\n",
       "      <td>6.646238e+06</td>\n",
       "      <td>6.646238e+06</td>\n",
       "      <td>9662.000000</td>\n",
       "      <td>6.646238e+06</td>\n",
       "    </tr>\n",
       "    <tr>\n",
       "      <th>mean</th>\n",
       "      <td>NaN</td>\n",
       "      <td>1.205351e-01</td>\n",
       "      <td>4.826069e-02</td>\n",
       "      <td>9.245501e-02</td>\n",
       "      <td>0.400833</td>\n",
       "      <td>2.202599e+00</td>\n",
       "    </tr>\n",
       "    <tr>\n",
       "      <th>std</th>\n",
       "      <td>NaN</td>\n",
       "      <td>3.255863e-01</td>\n",
       "      <td>2.143166e-01</td>\n",
       "      <td>2.896672e-01</td>\n",
       "      <td>0.925536</td>\n",
       "      <td>7.065281e-01</td>\n",
       "    </tr>\n",
       "    <tr>\n",
       "      <th>min</th>\n",
       "      <td>NaN</td>\n",
       "      <td>0.000000e+00</td>\n",
       "      <td>0.000000e+00</td>\n",
       "      <td>0.000000e+00</td>\n",
       "      <td>-0.004140</td>\n",
       "      <td>2.400000e-02</td>\n",
       "    </tr>\n",
       "    <tr>\n",
       "      <th>25%</th>\n",
       "      <td>NaN</td>\n",
       "      <td>0.000000e+00</td>\n",
       "      <td>0.000000e+00</td>\n",
       "      <td>0.000000e+00</td>\n",
       "      <td>-0.000220</td>\n",
       "      <td>2.186000e+00</td>\n",
       "    </tr>\n",
       "    <tr>\n",
       "      <th>50%</th>\n",
       "      <td>NaN</td>\n",
       "      <td>0.000000e+00</td>\n",
       "      <td>0.000000e+00</td>\n",
       "      <td>0.000000e+00</td>\n",
       "      <td>-0.000010</td>\n",
       "      <td>2.246000e+00</td>\n",
       "    </tr>\n",
       "    <tr>\n",
       "      <th>75%</th>\n",
       "      <td>NaN</td>\n",
       "      <td>0.000000e+00</td>\n",
       "      <td>0.000000e+00</td>\n",
       "      <td>0.000000e+00</td>\n",
       "      <td>0.377580</td>\n",
       "      <td>2.318000e+00</td>\n",
       "    </tr>\n",
       "    <tr>\n",
       "      <th>max</th>\n",
       "      <td>NaN</td>\n",
       "      <td>1.000000e+00</td>\n",
       "      <td>1.000000e+00</td>\n",
       "      <td>1.000000e+00</td>\n",
       "      <td>7.028330</td>\n",
       "      <td>4.728000e+00</td>\n",
       "    </tr>\n",
       "  </tbody>\n",
       "</table>\n",
       "</div>"
      ],
      "text/plain": [
       "       class    pred_class  radio_detect    pred_radio            Z  \\\n",
       "count    0.0  6.646238e+06  6.646238e+06  6.646238e+06  9662.000000   \n",
       "mean     NaN  1.205351e-01  4.826069e-02  9.245501e-02     0.400833   \n",
       "std      NaN  3.255863e-01  2.143166e-01  2.896672e-01     0.925536   \n",
       "min      NaN  0.000000e+00  0.000000e+00  0.000000e+00    -0.004140   \n",
       "25%      NaN  0.000000e+00  0.000000e+00  0.000000e+00    -0.000220   \n",
       "50%      NaN  0.000000e+00  0.000000e+00  0.000000e+00    -0.000010   \n",
       "75%      NaN  0.000000e+00  0.000000e+00  0.000000e+00     0.377580   \n",
       "max      NaN  1.000000e+00  1.000000e+00  1.000000e+00     7.028330   \n",
       "\n",
       "             pred_Z  \n",
       "count  6.646238e+06  \n",
       "mean   2.202599e+00  \n",
       "std    7.065281e-01  \n",
       "min    2.400000e-02  \n",
       "25%    2.186000e+00  \n",
       "50%    2.246000e+00  \n",
       "75%    2.318000e+00  \n",
       "max    4.728000e+00  "
      ]
     },
     "execution_count": 24,
     "metadata": {},
     "output_type": "execute_result"
    }
   ],
   "source": [
    "full_catalog_df.loc[:, ['class', 'pred_class', 'radio_detect', 'pred_radio', 'Z', 'pred_Z']].describe()"
   ]
  },
  {
   "cell_type": "markdown",
   "metadata": {},
   "source": [
    "Obtain intermediate metrics"
   ]
  },
  {
   "cell_type": "code",
   "execution_count": 25,
   "metadata": {
    "jupyter": {
     "source_hidden": true
    }
   },
   "outputs": [],
   "source": [
    "filter_radio_AGN_t      = np.array(full_catalog_df.loc[:, 'class'] == 1) & np.array(full_catalog_df.loc[:, 'radio_detect'] == 1)\n",
    "filter_gal_AGN_t        = np.array(full_catalog_df.loc[:, 'class'] == 0) | np.array(full_catalog_df.loc[:, 'class'] == 1)\n",
    "total_size              = len(full_catalog_df)\n",
    "filter_AGN_t            = np.array(full_catalog_df.loc[:, 'class'] == 1)\n",
    "num_AGN_t               = np.sum(filter_AGN_t)\n",
    "num_gal_t               = np.sum(np.array(full_catalog_df.loc[:, 'class'] == 0))\n",
    "num_radio_t             = np.sum(np.array(full_catalog_df.loc[:, 'radio_detect'] == 1))\n",
    "num_radio_AGN_t         = np.sum(filter_radio_AGN_t)"
   ]
  },
  {
   "cell_type": "code",
   "execution_count": 26,
   "metadata": {
    "jupyter": {
     "source_hidden": true
    }
   },
   "outputs": [],
   "source": [
    "# filter_radio_AGN_p      = np.array(full_catalog_df.loc[:, 'Score_AGN']          >= threshold_AGN) &\\\n",
    "#                             np.array(full_catalog_df.loc[:, 'Score_radio']      >= threshold_radio)\n",
    "filter_radio_AGN_p      = np.array(full_catalog_df.loc[:, 'pred_class']      == 1) &\\\n",
    "                            np.array(full_catalog_df.loc[:, 'pred_radio']    == 1)\n",
    "filt_hiz_rAGN_p         = filter_radio_AGN_p * np.array(full_catalog_df.loc[:, 'pred_Z'] >= gv.high_z_limit)\n",
    "filter_AGN_p            = np.array(full_catalog_df.loc[:, 'pred_class']      == 1)\n",
    "filter_radio_p          = np.array(full_catalog_df.loc[:, 'pred_radio']      == 1)\n",
    "num_AGN_p               = np.sum(filter_AGN_p)\n",
    "num_gal_p               = np.sum(np.array(full_catalog_df.loc[:, 'pred_class'] == 0))\n",
    "num_radio_p             = np.sum(filter_radio_p)\n",
    "num_radio_AGN_p         = np.sum(filter_radio_AGN_p)"
   ]
  },
  {
   "cell_type": "markdown",
   "metadata": {},
   "source": [
    "### Select sources predicted to be Radio AGN"
   ]
  },
  {
   "cell_type": "code",
   "execution_count": 27,
   "metadata": {},
   "outputs": [],
   "source": [
    "full_catalog_df         = full_catalog_df.loc[filter_radio_AGN_p]"
   ]
  },
  {
   "cell_type": "code",
   "execution_count": 28,
   "metadata": {},
   "outputs": [
    {
     "data": {
      "text/html": [
       "<div>\n",
       "<style scoped>\n",
       "    .dataframe tbody tr th:only-of-type {\n",
       "        vertical-align: middle;\n",
       "    }\n",
       "\n",
       "    .dataframe tbody tr th {\n",
       "        vertical-align: top;\n",
       "    }\n",
       "\n",
       "    .dataframe thead th {\n",
       "        text-align: right;\n",
       "    }\n",
       "</style>\n",
       "<table border=\"1\" class=\"dataframe\">\n",
       "  <thead>\n",
       "    <tr style=\"text-align: right;\">\n",
       "      <th></th>\n",
       "      <th>class</th>\n",
       "      <th>pred_class</th>\n",
       "      <th>radio_detect</th>\n",
       "      <th>pred_radio</th>\n",
       "      <th>Z</th>\n",
       "      <th>pred_Z</th>\n",
       "    </tr>\n",
       "  </thead>\n",
       "  <tbody>\n",
       "    <tr>\n",
       "      <th>count</th>\n",
       "      <td>0.0</td>\n",
       "      <td>99723.0</td>\n",
       "      <td>99723.000000</td>\n",
       "      <td>99723.0</td>\n",
       "      <td>730.000000</td>\n",
       "      <td>99723.000000</td>\n",
       "    </tr>\n",
       "    <tr>\n",
       "      <th>mean</th>\n",
       "      <td>NaN</td>\n",
       "      <td>1.0</td>\n",
       "      <td>0.240486</td>\n",
       "      <td>1.0</td>\n",
       "      <td>0.715852</td>\n",
       "      <td>1.708630</td>\n",
       "    </tr>\n",
       "    <tr>\n",
       "      <th>std</th>\n",
       "      <td>NaN</td>\n",
       "      <td>0.0</td>\n",
       "      <td>0.427381</td>\n",
       "      <td>0.0</td>\n",
       "      <td>1.006232</td>\n",
       "      <td>0.889837</td>\n",
       "    </tr>\n",
       "    <tr>\n",
       "      <th>min</th>\n",
       "      <td>NaN</td>\n",
       "      <td>1.0</td>\n",
       "      <td>0.000000</td>\n",
       "      <td>1.0</td>\n",
       "      <td>-0.004020</td>\n",
       "      <td>0.026000</td>\n",
       "    </tr>\n",
       "    <tr>\n",
       "      <th>25%</th>\n",
       "      <td>NaN</td>\n",
       "      <td>1.0</td>\n",
       "      <td>0.000000</td>\n",
       "      <td>1.0</td>\n",
       "      <td>0.100000</td>\n",
       "      <td>0.996000</td>\n",
       "    </tr>\n",
       "    <tr>\n",
       "      <th>50%</th>\n",
       "      <td>NaN</td>\n",
       "      <td>1.0</td>\n",
       "      <td>0.000000</td>\n",
       "      <td>1.0</td>\n",
       "      <td>0.400000</td>\n",
       "      <td>1.598000</td>\n",
       "    </tr>\n",
       "    <tr>\n",
       "      <th>75%</th>\n",
       "      <td>NaN</td>\n",
       "      <td>1.0</td>\n",
       "      <td>0.000000</td>\n",
       "      <td>1.0</td>\n",
       "      <td>1.000000</td>\n",
       "      <td>2.552000</td>\n",
       "    </tr>\n",
       "    <tr>\n",
       "      <th>max</th>\n",
       "      <td>NaN</td>\n",
       "      <td>1.0</td>\n",
       "      <td>1.000000</td>\n",
       "      <td>1.0</td>\n",
       "      <td>6.879030</td>\n",
       "      <td>4.728000</td>\n",
       "    </tr>\n",
       "  </tbody>\n",
       "</table>\n",
       "</div>"
      ],
      "text/plain": [
       "       class  pred_class  radio_detect  pred_radio           Z        pred_Z\n",
       "count    0.0     99723.0  99723.000000     99723.0  730.000000  99723.000000\n",
       "mean     NaN         1.0      0.240486         1.0    0.715852      1.708630\n",
       "std      NaN         0.0      0.427381         0.0    1.006232      0.889837\n",
       "min      NaN         1.0      0.000000         1.0   -0.004020      0.026000\n",
       "25%      NaN         1.0      0.000000         1.0    0.100000      0.996000\n",
       "50%      NaN         1.0      0.000000         1.0    0.400000      1.598000\n",
       "75%      NaN         1.0      0.000000         1.0    1.000000      2.552000\n",
       "max      NaN         1.0      1.000000         1.0    6.879030      4.728000"
      ]
     },
     "execution_count": 28,
     "metadata": {},
     "output_type": "execute_result"
    }
   ],
   "source": [
    "full_catalog_df.loc[:, ['class', 'pred_class', 'radio_detect', 'pred_radio', 'Z', 'pred_Z']].describe()"
   ]
  },
  {
   "cell_type": "markdown",
   "metadata": {},
   "source": [
    "Add individual metrics for redshift"
   ]
  },
  {
   "cell_type": "code",
   "execution_count": 29,
   "metadata": {
    "tags": []
   },
   "outputs": [],
   "source": [
    "full_catalog_df['Delta_z_N'] = np.around((full_catalog_df.loc[:, 'pred_Z'] - full_catalog_df.loc[:, 'Z']) /\\\n",
    "                            (1 + full_catalog_df.loc[:, 'Z']), decimals=3)\n",
    "\n",
    "full_catalog_df['sigma_NMAD'] = np.around(1.48 * np.abs(full_catalog_df.loc[:, 'pred_Z'] - full_catalog_df.loc[:, 'Z']) /\\\n",
    "                            (1 + full_catalog_df.loc[:, 'Z']), decimals=3)"
   ]
  },
  {
   "cell_type": "markdown",
   "metadata": {},
   "source": [
    "Numerical summary."
   ]
  },
  {
   "cell_type": "code",
   "execution_count": 30,
   "metadata": {
    "jupyter": {
     "source_hidden": true
    },
    "tags": []
   },
   "outputs": [],
   "source": [
    "str_0_t   = f'Out of {total_size:,} initial sources in {used_area},\\n'\n",
    "str_1_t   = f'{num_gal_t:,} are confirmed to be galaxies. On the other side,\\n'\n",
    "str_2_t   = f'{num_AGN_t:,} are confirmed to be AGN. And, from the AGN,\\n'\n",
    "str_3_t   = f'{num_radio_AGN_t:,} are detected in radio.'\n",
    "\n",
    "str_0_p   = f'Out of {num_radio_AGN_t:,} initial radio-detected AGN in {used_area},\\n'\n",
    "str_1_p   = f'{num_gal_p:,} are predicted to be galaxies. On the other side,\\n'\n",
    "str_2_p   = f'{num_AGN_p:,} are predicted to be AGN. And, from the predicted AGN,\\n'\n",
    "str_3_p   = f'{num_radio_AGN_p:,} are predicted to be detected in radio.'"
   ]
  },
  {
   "cell_type": "code",
   "execution_count": 31,
   "metadata": {
    "jupyter": {
     "source_hidden": true
    },
    "tags": []
   },
   "outputs": [
    {
     "name": "stdout",
     "output_type": "stream",
     "text": [
      "------------------------------------------------------------\n",
      "Out of 6,646,238 initial sources in HETDEX,\n",
      "0 are confirmed to be galaxies. On the other side,\n",
      "0 are confirmed to be AGN. And, from the AGN,\n",
      "0 are detected in radio.\n",
      "------------------------------------------------------------\n",
      "Out of 0 initial radio-detected AGN in HETDEX,\n",
      "5,845,133 are predicted to be galaxies. On the other side,\n",
      "801,105 are predicted to be AGN. And, from the predicted AGN,\n",
      "99,723 are predicted to be detected in radio.\n",
      "------------------------------------------------------------\n"
     ]
    }
   ],
   "source": [
    "print('-' * 60)\n",
    "print(str_0_t + str_1_t + str_2_t + str_3_t)\n",
    "print('-' * 60)\n",
    "print(str_0_p + str_1_p + str_2_p + str_3_p)\n",
    "print('-' * 60)"
   ]
  },
  {
   "cell_type": "code",
   "execution_count": 32,
   "metadata": {},
   "outputs": [],
   "source": [
    "cols_4_table = show_columns = ['Name', 'RA_ICRS', 'DE_ICRS', 'TYPE', 'band_num', 'class', 'pred_class', 'Score_AGN', 'Prob_AGN',\\\n",
    "                               'radio_detect', 'pred_radio', 'Score_radio', 'Prob_radio', 'Prob_rAGN', 'Z', 'pred_Z']"
   ]
  },
  {
   "cell_type": "code",
   "execution_count": 33,
   "metadata": {
    "jupyter": {
     "source_hidden": true
    }
   },
   "outputs": [],
   "source": [
    "cols_4_export_S82    = ['Total_flux_VLASS', 'Fint_VLAS82', 'Stotal_TGSS', 'FEP']\n",
    "cols_4_export_HETDEX = ['Total_flux_VLASS', 'Sint_LOFAR', 'Stotal_TGSS', 'FEP', 'TotalFlux_LoLSS']\n",
    "cols_4_export_COSMOS = ['Total_flux_VLASS', 'Stotal_TGSS', 'FEP', 'Flux_COSMOSVLA3']\n",
    "\n",
    "cols_4_exp_all       = {'S82': cols_4_export_S82, 'HETDEX': cols_4_export_HETDEX, 'COSMOS': cols_4_export_COSMOS}\n",
    "\n",
    "cols_photo           = ['W1mproPM', 'W2mproPM', 'gmag', 'rmag', 'imag', 'zmag', 'ymag',\\\n",
    "                        'Jmag', 'Hmag', 'Kmag', 'W3mag', 'W4mag']\n",
    "\n",
    "cols_4_export        = cols_4_table + cols_4_exp_all[used_area] + cols_photo"
   ]
  },
  {
   "cell_type": "code",
   "execution_count": 34,
   "metadata": {
    "jupyter": {
     "source_hidden": true
    }
   },
   "outputs": [],
   "source": [
    "filter_new_rAGN = full_catalog_df.loc[:, 'radio_AGN'] == 0\n",
    "if predict_only_hi_z:\n",
    "    filter_high_z   = full_catalog_df.loc[:, 'pred_Z']    >= gv.high_z_limit\n",
    "elif not predict_only_hi_z:\n",
    "    filter_high_z   = np.ones_like(full_catalog_df.loc[:, 'pred_Z']).astype(bool)"
   ]
  },
  {
   "cell_type": "code",
   "execution_count": 35,
   "metadata": {},
   "outputs": [],
   "source": [
    "full_catalog_df.loc[:, 'TYPE'] = full_catalog_df.loc[:, 'TYPE'].mask(full_catalog_df.loc[:, 'TYPE'] == '    ', 'CCCC')"
   ]
  },
  {
   "cell_type": "code",
   "execution_count": 36,
   "metadata": {},
   "outputs": [
    {
     "data": {
      "text/html": [
       "<div>\n",
       "<style scoped>\n",
       "    .dataframe tbody tr th:only-of-type {\n",
       "        vertical-align: middle;\n",
       "    }\n",
       "\n",
       "    .dataframe tbody tr th {\n",
       "        vertical-align: top;\n",
       "    }\n",
       "\n",
       "    .dataframe thead th {\n",
       "        text-align: right;\n",
       "    }\n",
       "</style>\n",
       "<table border=\"1\" class=\"dataframe\">\n",
       "  <thead>\n",
       "    <tr style=\"text-align: right;\">\n",
       "      <th></th>\n",
       "      <th>Name</th>\n",
       "      <th>RA_ICRS</th>\n",
       "      <th>DE_ICRS</th>\n",
       "      <th>TYPE</th>\n",
       "      <th>band_num</th>\n",
       "      <th>class</th>\n",
       "      <th>pred_class</th>\n",
       "      <th>Score_AGN</th>\n",
       "      <th>Prob_AGN</th>\n",
       "      <th>radio_detect</th>\n",
       "      <th>pred_radio</th>\n",
       "      <th>Score_radio</th>\n",
       "      <th>Prob_radio</th>\n",
       "      <th>Prob_rAGN</th>\n",
       "      <th>Z</th>\n",
       "      <th>pred_Z</th>\n",
       "      <th>Total_flux_VLASS</th>\n",
       "      <th>Sint_LOFAR</th>\n",
       "      <th>Stotal_TGSS</th>\n",
       "      <th>FEP</th>\n",
       "      <th>TotalFlux_LoLSS</th>\n",
       "      <th>W1mproPM</th>\n",
       "      <th>W2mproPM</th>\n",
       "      <th>gmag</th>\n",
       "      <th>rmag</th>\n",
       "      <th>imag</th>\n",
       "      <th>zmag</th>\n",
       "      <th>ymag</th>\n",
       "      <th>Jmag</th>\n",
       "      <th>Hmag</th>\n",
       "      <th>Kmag</th>\n",
       "      <th>W3mag</th>\n",
       "      <th>W4mag</th>\n",
       "    </tr>\n",
       "  </thead>\n",
       "  <tbody>\n",
       "    <tr>\n",
       "      <th>3410222</th>\n",
       "      <td>J132514.21+534447.1</td>\n",
       "      <td>201.309235</td>\n",
       "      <td>53.746429</td>\n",
       "      <td>CCCC</td>\n",
       "      <td>8</td>\n",
       "      <td>NaN</td>\n",
       "      <td>1</td>\n",
       "      <td>0.602275</td>\n",
       "      <td>0.213189</td>\n",
       "      <td>0</td>\n",
       "      <td>1</td>\n",
       "      <td>0.501476</td>\n",
       "      <td>0.211988</td>\n",
       "      <td>0.045194</td>\n",
       "      <td>NaN</td>\n",
       "      <td>4.728</td>\n",
       "      <td>15.21</td>\n",
       "      <td>17.52</td>\n",
       "      <td>11.18</td>\n",
       "      <td>57.900002</td>\n",
       "      <td>12.91</td>\n",
       "      <td>18.823999</td>\n",
       "      <td>19.125999</td>\n",
       "      <td>23.299999</td>\n",
       "      <td>20.935801</td>\n",
       "      <td>19.635599</td>\n",
       "      <td>19.379000</td>\n",
       "      <td>19.478600</td>\n",
       "      <td>17.450001</td>\n",
       "      <td>17.24</td>\n",
       "      <td>16.59</td>\n",
       "      <td>16.67</td>\n",
       "      <td>14.62</td>\n",
       "    </tr>\n",
       "    <tr>\n",
       "      <th>4786343</th>\n",
       "      <td>J151237.08+543229.7</td>\n",
       "      <td>228.154526</td>\n",
       "      <td>54.541595</td>\n",
       "      <td>CCCC</td>\n",
       "      <td>8</td>\n",
       "      <td>NaN</td>\n",
       "      <td>1</td>\n",
       "      <td>0.470544</td>\n",
       "      <td>0.118438</td>\n",
       "      <td>0</td>\n",
       "      <td>1</td>\n",
       "      <td>0.500070</td>\n",
       "      <td>0.211988</td>\n",
       "      <td>0.025108</td>\n",
       "      <td>NaN</td>\n",
       "      <td>4.719</td>\n",
       "      <td>15.21</td>\n",
       "      <td>17.52</td>\n",
       "      <td>11.18</td>\n",
       "      <td>57.900002</td>\n",
       "      <td>12.91</td>\n",
       "      <td>19.594999</td>\n",
       "      <td>19.809999</td>\n",
       "      <td>23.299999</td>\n",
       "      <td>21.349899</td>\n",
       "      <td>19.876600</td>\n",
       "      <td>19.917700</td>\n",
       "      <td>19.839500</td>\n",
       "      <td>17.450001</td>\n",
       "      <td>17.24</td>\n",
       "      <td>16.59</td>\n",
       "      <td>16.67</td>\n",
       "      <td>14.62</td>\n",
       "    </tr>\n",
       "    <tr>\n",
       "      <th>3356328</th>\n",
       "      <td>J122031.00+505023.9</td>\n",
       "      <td>185.129196</td>\n",
       "      <td>50.839985</td>\n",
       "      <td>CCCC</td>\n",
       "      <td>8</td>\n",
       "      <td>NaN</td>\n",
       "      <td>1</td>\n",
       "      <td>0.453215</td>\n",
       "      <td>0.118827</td>\n",
       "      <td>0</td>\n",
       "      <td>1</td>\n",
       "      <td>0.501391</td>\n",
       "      <td>0.211988</td>\n",
       "      <td>0.025190</td>\n",
       "      <td>NaN</td>\n",
       "      <td>4.696</td>\n",
       "      <td>15.21</td>\n",
       "      <td>17.52</td>\n",
       "      <td>11.18</td>\n",
       "      <td>57.900002</td>\n",
       "      <td>12.91</td>\n",
       "      <td>19.118999</td>\n",
       "      <td>19.359001</td>\n",
       "      <td>23.299999</td>\n",
       "      <td>21.494499</td>\n",
       "      <td>20.160601</td>\n",
       "      <td>20.155600</td>\n",
       "      <td>19.887199</td>\n",
       "      <td>17.450001</td>\n",
       "      <td>17.24</td>\n",
       "      <td>16.59</td>\n",
       "      <td>16.67</td>\n",
       "      <td>14.62</td>\n",
       "    </tr>\n",
       "    <tr>\n",
       "      <th>5579116</th>\n",
       "      <td>J143357.45+523033.0</td>\n",
       "      <td>218.489365</td>\n",
       "      <td>52.509186</td>\n",
       "      <td>CCCC</td>\n",
       "      <td>8</td>\n",
       "      <td>NaN</td>\n",
       "      <td>1</td>\n",
       "      <td>0.591590</td>\n",
       "      <td>0.326744</td>\n",
       "      <td>0</td>\n",
       "      <td>1</td>\n",
       "      <td>0.496426</td>\n",
       "      <td>0.211988</td>\n",
       "      <td>0.069266</td>\n",
       "      <td>NaN</td>\n",
       "      <td>4.658</td>\n",
       "      <td>15.21</td>\n",
       "      <td>17.52</td>\n",
       "      <td>11.18</td>\n",
       "      <td>57.900002</td>\n",
       "      <td>12.91</td>\n",
       "      <td>18.941999</td>\n",
       "      <td>19.257000</td>\n",
       "      <td>23.299999</td>\n",
       "      <td>21.071100</td>\n",
       "      <td>19.539101</td>\n",
       "      <td>18.775400</td>\n",
       "      <td>18.424900</td>\n",
       "      <td>17.450001</td>\n",
       "      <td>17.24</td>\n",
       "      <td>16.59</td>\n",
       "      <td>16.67</td>\n",
       "      <td>14.62</td>\n",
       "    </tr>\n",
       "    <tr>\n",
       "      <th>4718130</th>\n",
       "      <td>J104718.00+523820.3</td>\n",
       "      <td>161.825012</td>\n",
       "      <td>52.638958</td>\n",
       "      <td>CCCC</td>\n",
       "      <td>8</td>\n",
       "      <td>NaN</td>\n",
       "      <td>1</td>\n",
       "      <td>0.454648</td>\n",
       "      <td>0.636515</td>\n",
       "      <td>0</td>\n",
       "      <td>1</td>\n",
       "      <td>0.501476</td>\n",
       "      <td>0.211988</td>\n",
       "      <td>0.134934</td>\n",
       "      <td>NaN</td>\n",
       "      <td>4.658</td>\n",
       "      <td>15.21</td>\n",
       "      <td>17.52</td>\n",
       "      <td>11.18</td>\n",
       "      <td>57.900002</td>\n",
       "      <td>12.91</td>\n",
       "      <td>18.886999</td>\n",
       "      <td>19.282000</td>\n",
       "      <td>23.299999</td>\n",
       "      <td>21.132999</td>\n",
       "      <td>19.729700</td>\n",
       "      <td>19.122999</td>\n",
       "      <td>18.879900</td>\n",
       "      <td>17.450001</td>\n",
       "      <td>17.24</td>\n",
       "      <td>16.59</td>\n",
       "      <td>16.67</td>\n",
       "      <td>14.62</td>\n",
       "    </tr>\n",
       "    <tr>\n",
       "      <th>5441869</th>\n",
       "      <td>J134834.43+510355.2</td>\n",
       "      <td>207.143448</td>\n",
       "      <td>51.065334</td>\n",
       "      <td>CCCC</td>\n",
       "      <td>8</td>\n",
       "      <td>NaN</td>\n",
       "      <td>1</td>\n",
       "      <td>0.638292</td>\n",
       "      <td>0.284232</td>\n",
       "      <td>0</td>\n",
       "      <td>1</td>\n",
       "      <td>0.500979</td>\n",
       "      <td>0.211988</td>\n",
       "      <td>0.060254</td>\n",
       "      <td>NaN</td>\n",
       "      <td>4.658</td>\n",
       "      <td>15.21</td>\n",
       "      <td>17.52</td>\n",
       "      <td>11.18</td>\n",
       "      <td>57.900002</td>\n",
       "      <td>12.91</td>\n",
       "      <td>18.942999</td>\n",
       "      <td>19.300001</td>\n",
       "      <td>23.299999</td>\n",
       "      <td>21.113501</td>\n",
       "      <td>19.668900</td>\n",
       "      <td>18.965900</td>\n",
       "      <td>18.688400</td>\n",
       "      <td>17.450001</td>\n",
       "      <td>17.24</td>\n",
       "      <td>16.59</td>\n",
       "      <td>16.67</td>\n",
       "      <td>14.62</td>\n",
       "    </tr>\n",
       "    <tr>\n",
       "      <th>3608513</th>\n",
       "      <td>J150410.88+532438.9</td>\n",
       "      <td>226.045334</td>\n",
       "      <td>53.410820</td>\n",
       "      <td>CCCC</td>\n",
       "      <td>8</td>\n",
       "      <td>NaN</td>\n",
       "      <td>1</td>\n",
       "      <td>0.619703</td>\n",
       "      <td>0.427547</td>\n",
       "      <td>0</td>\n",
       "      <td>1</td>\n",
       "      <td>0.501476</td>\n",
       "      <td>0.211988</td>\n",
       "      <td>0.090635</td>\n",
       "      <td>NaN</td>\n",
       "      <td>4.658</td>\n",
       "      <td>15.21</td>\n",
       "      <td>17.52</td>\n",
       "      <td>11.18</td>\n",
       "      <td>57.900002</td>\n",
       "      <td>12.91</td>\n",
       "      <td>18.865999</td>\n",
       "      <td>19.032000</td>\n",
       "      <td>23.299999</td>\n",
       "      <td>21.173901</td>\n",
       "      <td>19.949200</td>\n",
       "      <td>19.325600</td>\n",
       "      <td>18.990700</td>\n",
       "      <td>17.450001</td>\n",
       "      <td>17.24</td>\n",
       "      <td>16.59</td>\n",
       "      <td>16.67</td>\n",
       "      <td>14.62</td>\n",
       "    </tr>\n",
       "    <tr>\n",
       "      <th>2814419</th>\n",
       "      <td>J131349.66+501353.2</td>\n",
       "      <td>198.456894</td>\n",
       "      <td>50.231468</td>\n",
       "      <td>CCCC</td>\n",
       "      <td>8</td>\n",
       "      <td>NaN</td>\n",
       "      <td>1</td>\n",
       "      <td>0.454725</td>\n",
       "      <td>0.258448</td>\n",
       "      <td>0</td>\n",
       "      <td>1</td>\n",
       "      <td>0.500569</td>\n",
       "      <td>0.211988</td>\n",
       "      <td>0.054788</td>\n",
       "      <td>NaN</td>\n",
       "      <td>4.658</td>\n",
       "      <td>15.21</td>\n",
       "      <td>17.52</td>\n",
       "      <td>11.18</td>\n",
       "      <td>57.900002</td>\n",
       "      <td>12.91</td>\n",
       "      <td>19.132000</td>\n",
       "      <td>19.316999</td>\n",
       "      <td>23.299999</td>\n",
       "      <td>21.389999</td>\n",
       "      <td>20.011200</td>\n",
       "      <td>19.290300</td>\n",
       "      <td>19.001900</td>\n",
       "      <td>17.450001</td>\n",
       "      <td>17.24</td>\n",
       "      <td>16.59</td>\n",
       "      <td>16.67</td>\n",
       "      <td>14.62</td>\n",
       "    </tr>\n",
       "    <tr>\n",
       "      <th>5210113</th>\n",
       "      <td>J111754.83+511102.8</td>\n",
       "      <td>169.478455</td>\n",
       "      <td>51.184124</td>\n",
       "      <td>CCCC</td>\n",
       "      <td>8</td>\n",
       "      <td>NaN</td>\n",
       "      <td>1</td>\n",
       "      <td>0.768996</td>\n",
       "      <td>0.310533</td>\n",
       "      <td>0</td>\n",
       "      <td>1</td>\n",
       "      <td>0.501223</td>\n",
       "      <td>0.211988</td>\n",
       "      <td>0.065829</td>\n",
       "      <td>NaN</td>\n",
       "      <td>4.658</td>\n",
       "      <td>15.21</td>\n",
       "      <td>17.52</td>\n",
       "      <td>11.18</td>\n",
       "      <td>57.900002</td>\n",
       "      <td>12.91</td>\n",
       "      <td>18.915998</td>\n",
       "      <td>19.189001</td>\n",
       "      <td>23.299999</td>\n",
       "      <td>21.139799</td>\n",
       "      <td>19.712999</td>\n",
       "      <td>19.057301</td>\n",
       "      <td>18.818300</td>\n",
       "      <td>17.450001</td>\n",
       "      <td>17.24</td>\n",
       "      <td>16.59</td>\n",
       "      <td>16.67</td>\n",
       "      <td>14.62</td>\n",
       "    </tr>\n",
       "    <tr>\n",
       "      <th>2332928</th>\n",
       "      <td>J150714.22+514013.2</td>\n",
       "      <td>226.809265</td>\n",
       "      <td>51.670349</td>\n",
       "      <td>CCCC</td>\n",
       "      <td>8</td>\n",
       "      <td>NaN</td>\n",
       "      <td>1</td>\n",
       "      <td>0.620412</td>\n",
       "      <td>0.334530</td>\n",
       "      <td>0</td>\n",
       "      <td>1</td>\n",
       "      <td>0.500639</td>\n",
       "      <td>0.211988</td>\n",
       "      <td>0.070916</td>\n",
       "      <td>NaN</td>\n",
       "      <td>4.658</td>\n",
       "      <td>15.21</td>\n",
       "      <td>17.52</td>\n",
       "      <td>11.18</td>\n",
       "      <td>57.900002</td>\n",
       "      <td>12.91</td>\n",
       "      <td>18.849998</td>\n",
       "      <td>19.204000</td>\n",
       "      <td>23.299999</td>\n",
       "      <td>21.123800</td>\n",
       "      <td>19.633301</td>\n",
       "      <td>18.908100</td>\n",
       "      <td>18.560101</td>\n",
       "      <td>17.450001</td>\n",
       "      <td>17.24</td>\n",
       "      <td>16.59</td>\n",
       "      <td>16.67</td>\n",
       "      <td>14.62</td>\n",
       "    </tr>\n",
       "    <tr>\n",
       "      <th>5213282</th>\n",
       "      <td>J143451.42+471842.7</td>\n",
       "      <td>218.714279</td>\n",
       "      <td>47.311859</td>\n",
       "      <td>CCCC</td>\n",
       "      <td>8</td>\n",
       "      <td>NaN</td>\n",
       "      <td>1</td>\n",
       "      <td>0.449590</td>\n",
       "      <td>0.347742</td>\n",
       "      <td>0</td>\n",
       "      <td>1</td>\n",
       "      <td>0.501140</td>\n",
       "      <td>0.211988</td>\n",
       "      <td>0.073717</td>\n",
       "      <td>NaN</td>\n",
       "      <td>4.658</td>\n",
       "      <td>15.21</td>\n",
       "      <td>17.52</td>\n",
       "      <td>11.18</td>\n",
       "      <td>57.900002</td>\n",
       "      <td>12.91</td>\n",
       "      <td>18.868000</td>\n",
       "      <td>19.269001</td>\n",
       "      <td>23.299999</td>\n",
       "      <td>21.156401</td>\n",
       "      <td>19.607201</td>\n",
       "      <td>18.831600</td>\n",
       "      <td>18.521700</td>\n",
       "      <td>17.450001</td>\n",
       "      <td>17.24</td>\n",
       "      <td>16.59</td>\n",
       "      <td>16.67</td>\n",
       "      <td>14.62</td>\n",
       "    </tr>\n",
       "    <tr>\n",
       "      <th>6385163</th>\n",
       "      <td>J131154.46+460232.2</td>\n",
       "      <td>197.976929</td>\n",
       "      <td>46.042267</td>\n",
       "      <td>CCCC</td>\n",
       "      <td>8</td>\n",
       "      <td>NaN</td>\n",
       "      <td>1</td>\n",
       "      <td>0.699670</td>\n",
       "      <td>0.129522</td>\n",
       "      <td>0</td>\n",
       "      <td>1</td>\n",
       "      <td>0.501476</td>\n",
       "      <td>0.211988</td>\n",
       "      <td>0.027457</td>\n",
       "      <td>NaN</td>\n",
       "      <td>4.658</td>\n",
       "      <td>15.21</td>\n",
       "      <td>17.52</td>\n",
       "      <td>11.18</td>\n",
       "      <td>57.900002</td>\n",
       "      <td>12.91</td>\n",
       "      <td>18.857000</td>\n",
       "      <td>18.981001</td>\n",
       "      <td>23.299999</td>\n",
       "      <td>21.391001</td>\n",
       "      <td>20.054600</td>\n",
       "      <td>19.441799</td>\n",
       "      <td>19.111500</td>\n",
       "      <td>17.450001</td>\n",
       "      <td>17.24</td>\n",
       "      <td>16.59</td>\n",
       "      <td>16.67</td>\n",
       "      <td>14.62</td>\n",
       "    </tr>\n",
       "    <tr>\n",
       "      <th>5962247</th>\n",
       "      <td>J132700.32+523248.1</td>\n",
       "      <td>201.751373</td>\n",
       "      <td>52.546700</td>\n",
       "      <td>CCCC</td>\n",
       "      <td>8</td>\n",
       "      <td>NaN</td>\n",
       "      <td>1</td>\n",
       "      <td>0.571182</td>\n",
       "      <td>0.297060</td>\n",
       "      <td>0</td>\n",
       "      <td>1</td>\n",
       "      <td>0.501476</td>\n",
       "      <td>0.211988</td>\n",
       "      <td>0.062973</td>\n",
       "      <td>NaN</td>\n",
       "      <td>4.658</td>\n",
       "      <td>15.21</td>\n",
       "      <td>17.52</td>\n",
       "      <td>11.18</td>\n",
       "      <td>57.900002</td>\n",
       "      <td>12.91</td>\n",
       "      <td>18.873999</td>\n",
       "      <td>19.137001</td>\n",
       "      <td>23.299999</td>\n",
       "      <td>21.309601</td>\n",
       "      <td>19.927299</td>\n",
       "      <td>19.262600</td>\n",
       "      <td>18.986000</td>\n",
       "      <td>17.450001</td>\n",
       "      <td>17.24</td>\n",
       "      <td>16.59</td>\n",
       "      <td>16.67</td>\n",
       "      <td>14.62</td>\n",
       "    </tr>\n",
       "    <tr>\n",
       "      <th>1617033</th>\n",
       "      <td>J105903.79+473232.0</td>\n",
       "      <td>164.765778</td>\n",
       "      <td>47.542221</td>\n",
       "      <td>CCCC</td>\n",
       "      <td>8</td>\n",
       "      <td>NaN</td>\n",
       "      <td>1</td>\n",
       "      <td>0.612608</td>\n",
       "      <td>0.242801</td>\n",
       "      <td>0</td>\n",
       "      <td>1</td>\n",
       "      <td>0.499247</td>\n",
       "      <td>0.211988</td>\n",
       "      <td>0.051471</td>\n",
       "      <td>NaN</td>\n",
       "      <td>4.658</td>\n",
       "      <td>15.21</td>\n",
       "      <td>17.52</td>\n",
       "      <td>11.18</td>\n",
       "      <td>57.900002</td>\n",
       "      <td>12.91</td>\n",
       "      <td>19.098000</td>\n",
       "      <td>19.431000</td>\n",
       "      <td>23.299999</td>\n",
       "      <td>21.196301</td>\n",
       "      <td>19.770100</td>\n",
       "      <td>19.145599</td>\n",
       "      <td>18.868700</td>\n",
       "      <td>17.450001</td>\n",
       "      <td>17.24</td>\n",
       "      <td>16.59</td>\n",
       "      <td>16.67</td>\n",
       "      <td>14.62</td>\n",
       "    </tr>\n",
       "    <tr>\n",
       "      <th>1496114</th>\n",
       "      <td>J105939.37+471034.7</td>\n",
       "      <td>164.914032</td>\n",
       "      <td>47.176319</td>\n",
       "      <td>CCCC</td>\n",
       "      <td>8</td>\n",
       "      <td>NaN</td>\n",
       "      <td>1</td>\n",
       "      <td>0.485350</td>\n",
       "      <td>0.325411</td>\n",
       "      <td>0</td>\n",
       "      <td>1</td>\n",
       "      <td>0.496819</td>\n",
       "      <td>0.211988</td>\n",
       "      <td>0.068983</td>\n",
       "      <td>NaN</td>\n",
       "      <td>4.658</td>\n",
       "      <td>15.21</td>\n",
       "      <td>17.52</td>\n",
       "      <td>11.18</td>\n",
       "      <td>57.900002</td>\n",
       "      <td>12.91</td>\n",
       "      <td>19.008999</td>\n",
       "      <td>19.371000</td>\n",
       "      <td>23.299999</td>\n",
       "      <td>21.193899</td>\n",
       "      <td>19.530399</td>\n",
       "      <td>18.778799</td>\n",
       "      <td>18.434099</td>\n",
       "      <td>17.450001</td>\n",
       "      <td>17.24</td>\n",
       "      <td>16.59</td>\n",
       "      <td>16.67</td>\n",
       "      <td>14.62</td>\n",
       "    </tr>\n",
       "  </tbody>\n",
       "</table>\n",
       "</div>"
      ],
      "text/plain": [
       "                         Name     RA_ICRS    DE_ICRS  TYPE  band_num  class  \\\n",
       "3410222  J132514.21+534447.1   201.309235  53.746429  CCCC         8    NaN   \n",
       "4786343  J151237.08+543229.7   228.154526  54.541595  CCCC         8    NaN   \n",
       "3356328  J122031.00+505023.9   185.129196  50.839985  CCCC         8    NaN   \n",
       "5579116  J143357.45+523033.0   218.489365  52.509186  CCCC         8    NaN   \n",
       "4718130  J104718.00+523820.3   161.825012  52.638958  CCCC         8    NaN   \n",
       "5441869  J134834.43+510355.2   207.143448  51.065334  CCCC         8    NaN   \n",
       "3608513  J150410.88+532438.9   226.045334  53.410820  CCCC         8    NaN   \n",
       "2814419  J131349.66+501353.2   198.456894  50.231468  CCCC         8    NaN   \n",
       "5210113  J111754.83+511102.8   169.478455  51.184124  CCCC         8    NaN   \n",
       "2332928  J150714.22+514013.2   226.809265  51.670349  CCCC         8    NaN   \n",
       "5213282  J143451.42+471842.7   218.714279  47.311859  CCCC         8    NaN   \n",
       "6385163  J131154.46+460232.2   197.976929  46.042267  CCCC         8    NaN   \n",
       "5962247  J132700.32+523248.1   201.751373  52.546700  CCCC         8    NaN   \n",
       "1617033  J105903.79+473232.0   164.765778  47.542221  CCCC         8    NaN   \n",
       "1496114  J105939.37+471034.7   164.914032  47.176319  CCCC         8    NaN   \n",
       "\n",
       "         pred_class  Score_AGN  Prob_AGN  radio_detect  pred_radio  \\\n",
       "3410222           1   0.602275  0.213189             0           1   \n",
       "4786343           1   0.470544  0.118438             0           1   \n",
       "3356328           1   0.453215  0.118827             0           1   \n",
       "5579116           1   0.591590  0.326744             0           1   \n",
       "4718130           1   0.454648  0.636515             0           1   \n",
       "5441869           1   0.638292  0.284232             0           1   \n",
       "3608513           1   0.619703  0.427547             0           1   \n",
       "2814419           1   0.454725  0.258448             0           1   \n",
       "5210113           1   0.768996  0.310533             0           1   \n",
       "2332928           1   0.620412  0.334530             0           1   \n",
       "5213282           1   0.449590  0.347742             0           1   \n",
       "6385163           1   0.699670  0.129522             0           1   \n",
       "5962247           1   0.571182  0.297060             0           1   \n",
       "1617033           1   0.612608  0.242801             0           1   \n",
       "1496114           1   0.485350  0.325411             0           1   \n",
       "\n",
       "         Score_radio  Prob_radio  Prob_rAGN   Z  pred_Z  Total_flux_VLASS  \\\n",
       "3410222     0.501476    0.211988   0.045194 NaN   4.728             15.21   \n",
       "4786343     0.500070    0.211988   0.025108 NaN   4.719             15.21   \n",
       "3356328     0.501391    0.211988   0.025190 NaN   4.696             15.21   \n",
       "5579116     0.496426    0.211988   0.069266 NaN   4.658             15.21   \n",
       "4718130     0.501476    0.211988   0.134934 NaN   4.658             15.21   \n",
       "5441869     0.500979    0.211988   0.060254 NaN   4.658             15.21   \n",
       "3608513     0.501476    0.211988   0.090635 NaN   4.658             15.21   \n",
       "2814419     0.500569    0.211988   0.054788 NaN   4.658             15.21   \n",
       "5210113     0.501223    0.211988   0.065829 NaN   4.658             15.21   \n",
       "2332928     0.500639    0.211988   0.070916 NaN   4.658             15.21   \n",
       "5213282     0.501140    0.211988   0.073717 NaN   4.658             15.21   \n",
       "6385163     0.501476    0.211988   0.027457 NaN   4.658             15.21   \n",
       "5962247     0.501476    0.211988   0.062973 NaN   4.658             15.21   \n",
       "1617033     0.499247    0.211988   0.051471 NaN   4.658             15.21   \n",
       "1496114     0.496819    0.211988   0.068983 NaN   4.658             15.21   \n",
       "\n",
       "         Sint_LOFAR  Stotal_TGSS        FEP  TotalFlux_LoLSS   W1mproPM  \\\n",
       "3410222       17.52        11.18  57.900002            12.91  18.823999   \n",
       "4786343       17.52        11.18  57.900002            12.91  19.594999   \n",
       "3356328       17.52        11.18  57.900002            12.91  19.118999   \n",
       "5579116       17.52        11.18  57.900002            12.91  18.941999   \n",
       "4718130       17.52        11.18  57.900002            12.91  18.886999   \n",
       "5441869       17.52        11.18  57.900002            12.91  18.942999   \n",
       "3608513       17.52        11.18  57.900002            12.91  18.865999   \n",
       "2814419       17.52        11.18  57.900002            12.91  19.132000   \n",
       "5210113       17.52        11.18  57.900002            12.91  18.915998   \n",
       "2332928       17.52        11.18  57.900002            12.91  18.849998   \n",
       "5213282       17.52        11.18  57.900002            12.91  18.868000   \n",
       "6385163       17.52        11.18  57.900002            12.91  18.857000   \n",
       "5962247       17.52        11.18  57.900002            12.91  18.873999   \n",
       "1617033       17.52        11.18  57.900002            12.91  19.098000   \n",
       "1496114       17.52        11.18  57.900002            12.91  19.008999   \n",
       "\n",
       "          W2mproPM       gmag       rmag       imag       zmag       ymag  \\\n",
       "3410222  19.125999  23.299999  20.935801  19.635599  19.379000  19.478600   \n",
       "4786343  19.809999  23.299999  21.349899  19.876600  19.917700  19.839500   \n",
       "3356328  19.359001  23.299999  21.494499  20.160601  20.155600  19.887199   \n",
       "5579116  19.257000  23.299999  21.071100  19.539101  18.775400  18.424900   \n",
       "4718130  19.282000  23.299999  21.132999  19.729700  19.122999  18.879900   \n",
       "5441869  19.300001  23.299999  21.113501  19.668900  18.965900  18.688400   \n",
       "3608513  19.032000  23.299999  21.173901  19.949200  19.325600  18.990700   \n",
       "2814419  19.316999  23.299999  21.389999  20.011200  19.290300  19.001900   \n",
       "5210113  19.189001  23.299999  21.139799  19.712999  19.057301  18.818300   \n",
       "2332928  19.204000  23.299999  21.123800  19.633301  18.908100  18.560101   \n",
       "5213282  19.269001  23.299999  21.156401  19.607201  18.831600  18.521700   \n",
       "6385163  18.981001  23.299999  21.391001  20.054600  19.441799  19.111500   \n",
       "5962247  19.137001  23.299999  21.309601  19.927299  19.262600  18.986000   \n",
       "1617033  19.431000  23.299999  21.196301  19.770100  19.145599  18.868700   \n",
       "1496114  19.371000  23.299999  21.193899  19.530399  18.778799  18.434099   \n",
       "\n",
       "              Jmag   Hmag   Kmag  W3mag  W4mag  \n",
       "3410222  17.450001  17.24  16.59  16.67  14.62  \n",
       "4786343  17.450001  17.24  16.59  16.67  14.62  \n",
       "3356328  17.450001  17.24  16.59  16.67  14.62  \n",
       "5579116  17.450001  17.24  16.59  16.67  14.62  \n",
       "4718130  17.450001  17.24  16.59  16.67  14.62  \n",
       "5441869  17.450001  17.24  16.59  16.67  14.62  \n",
       "3608513  17.450001  17.24  16.59  16.67  14.62  \n",
       "2814419  17.450001  17.24  16.59  16.67  14.62  \n",
       "5210113  17.450001  17.24  16.59  16.67  14.62  \n",
       "2332928  17.450001  17.24  16.59  16.67  14.62  \n",
       "5213282  17.450001  17.24  16.59  16.67  14.62  \n",
       "6385163  17.450001  17.24  16.59  16.67  14.62  \n",
       "5962247  17.450001  17.24  16.59  16.67  14.62  \n",
       "1617033  17.450001  17.24  16.59  16.67  14.62  \n",
       "1496114  17.450001  17.24  16.59  16.67  14.62  "
      ]
     },
     "metadata": {},
     "output_type": "display_data"
    }
   ],
   "source": [
    "display(full_catalog_df.loc[filter_high_z, cols_4_export].sort_values(by=['pred_Z'], ascending=False).head(15))"
   ]
  },
  {
   "cell_type": "code",
   "execution_count": 37,
   "metadata": {},
   "outputs": [],
   "source": [
    "if save_preds_flag:\n",
    "    full_catalog_df.loc[filter_high_z, cols_4_export].sort_values(by=['pred_Z'],\n",
    "     ascending=False).to_csv(gv.preds_path + f'predicted_rAGN_{used_area}.csv')"
   ]
  },
  {
   "cell_type": "markdown",
   "metadata": {},
   "source": [
    "---"
   ]
  },
  {
   "cell_type": "code",
   "execution_count": null,
   "metadata": {},
   "outputs": [],
   "source": []
  }
 ],
 "metadata": {
  "kernelspec": {
   "display_name": "Python 3 (ipykernel)",
   "language": "python",
   "name": "python3"
  },
  "language_info": {
   "codemirror_mode": {
    "name": "ipython",
    "version": 3
   },
   "file_extension": ".py",
   "mimetype": "text/x-python",
   "name": "python",
   "nbconvert_exporter": "python",
   "pygments_lexer": "ipython3",
   "version": "3.8.13"
  },
  "vscode": {
   "interpreter": {
    "hash": "1d7c94ac87c57432169d0bc24ce250f6f2e77b44a3b95192eb5ace62cff26777"
   }
  }
 },
 "nbformat": 4,
 "nbformat_minor": 4
}
