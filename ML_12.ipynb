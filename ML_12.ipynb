{
 "cells": [
  {
   "cell_type": "markdown",
   "metadata": {},
   "source": [
    "# Pipeline for High-z Radio Galaxies 12: Create lists (files) with radio AGN candidates"
   ]
  },
  {
   "cell_type": "markdown",
   "metadata": {},
   "source": [
    "## Introduction"
   ]
  },
  {
   "cell_type": "markdown",
   "metadata": {},
   "source": [
    "In this file, three models will be applied consecutively in order to predict  \n",
    "the detection of Radio Galaxies (radio AGN) and their redshift.  \n",
    "\n",
    "In principle, this pipeline should be applied to data in Stripe 82. But  \n",
    "it can be used with any other suitable dataset."
   ]
  },
  {
   "cell_type": "code",
   "execution_count": 1,
   "metadata": {},
   "outputs": [],
   "source": [
    "%matplotlib inline\n",
    "# Static plots\n",
    "#%matplotlib ipympl\n",
    "# Interactive plots\n",
    "import numpy as np\n",
    "import matplotlib as mpl\n",
    "import matplotlib.cm as cm\n",
    "from matplotlib import ticker\n",
    "import matplotlib.pyplot as plt\n",
    "import matplotlib.colors as mcolors\n",
    "import matplotlib.patheffects as mpe\n",
    "import matplotlib.patches as mpatches\n",
    "from matplotlib.ticker import ScalarFormatter\n",
    "from mpl_toolkits.axes_grid1.inset_locator import inset_axes\n",
    "from astropy.visualization import LogStretch, PowerStretch\n",
    "from astropy.visualization.mpl_normalize import ImageNormalize\n",
    "from sklearn.preprocessing import MinMaxScaler\n",
    "from sklearn.metrics import ConfusionMatrixDisplay\n",
    "import sklearn.pipeline\n",
    "import colorcet as cc\n",
    "from pycaret import classification as pyc\n",
    "from pycaret import regression as pyr\n",
    "from joblib import dump, load\n",
    "import pandas as pd\n",
    "import mpl_scatter_density\n",
    "import global_variables as gv\n",
    "import global_functions as gf"
   ]
  },
  {
   "cell_type": "code",
   "execution_count": 2,
   "metadata": {},
   "outputs": [],
   "source": [
    "# mpl.rcdefaults()"
   ]
  },
  {
   "cell_type": "markdown",
   "metadata": {},
   "source": [
    "#### Methods to predict values using individual models"
   ]
  },
  {
   "cell_type": "markdown",
   "metadata": {},
   "source": [
    "Predict AGN/Galaxy classification"
   ]
  },
  {
   "cell_type": "code",
   "execution_count": 3,
   "metadata": {
    "jupyter": {
     "source_hidden": true
    }
   },
   "outputs": [],
   "source": [
    "def predict_AGN_gal(catalog_df, \n",
    "                    AGN_gal_model, \n",
    "                    cal_AGN_gal_model, \n",
    "                    threshold, \n",
    "                    cal_threshold, \n",
    "                    raw_score=True):\n",
    "    catalog_df = pyc.predict_model(AGN_gal_model, \n",
    "                                   data=catalog_df, \n",
    "                                   probability_threshold=threshold, \n",
    "                                   raw_score=raw_score, \n",
    "                                   round=10)\n",
    "    catalog_df = catalog_df.drop(columns=['Score_0'])\n",
    "    catalog_df = catalog_df.rename(columns={'Label': 'pred_class', 'Score_1': 'Score_AGN'})\n",
    "    catalog_df.loc[:, 'Score_AGN'] = np.around(catalog_df.loc[:, 'Score_AGN'], decimals=8)\n",
    "    pred_probs = cal_AGN_gal_model.predict(catalog_df.loc[:, 'Score_AGN'])\n",
    "    cal_class  = np.array(pred_probs >= cal_threshold).astype(int)\n",
    "    catalog_df['Prob_AGN']       = pred_probs\n",
    "    catalog_df['pred_class_cal'] = cal_class\n",
    "    return catalog_df"
   ]
  },
  {
   "cell_type": "markdown",
   "metadata": {},
   "source": [
    "Predict radio detection for AGN"
   ]
  },
  {
   "cell_type": "code",
   "execution_count": 4,
   "metadata": {
    "jupyter": {
     "source_hidden": true
    }
   },
   "outputs": [],
   "source": [
    "def predict_radio_det(catalog_df, \n",
    "                      radio_model, \n",
    "                      cal_radio_model, \n",
    "                      threshold, \n",
    "                      cal_threshold, \n",
    "                      raw_score=True):\n",
    "    catalog_df = pyc.predict_model(radio_model, \n",
    "                                   data=catalog_df, \n",
    "                                   probability_threshold=threshold, \n",
    "                                   raw_score=raw_score, \n",
    "                                   round=10)\n",
    "    catalog_df = catalog_df.drop(columns=['Score_0'])\n",
    "    catalog_df = catalog_df.rename(columns={'Label': 'pred_radio', 'Score_1': 'Score_radio'})\n",
    "    catalog_df.loc[:, 'Score_radio'] = np.around(catalog_df.loc[:, 'Score_radio'], decimals=8)\n",
    "    pred_probs = cal_radio_model.predict(catalog_df.loc[:, 'Score_radio'])\n",
    "    cal_class  = np.array(pred_probs >= cal_threshold).astype(int)\n",
    "    catalog_df['Prob_radio']     = pred_probs\n",
    "    catalog_df['pred_radio_cal'] = cal_class\n",
    "    return catalog_df"
   ]
  },
  {
   "cell_type": "markdown",
   "metadata": {},
   "source": [
    "Predict redshift for radio-detected AGN"
   ]
  },
  {
   "cell_type": "code",
   "execution_count": 5,
   "metadata": {
    "jupyter": {
     "source_hidden": true
    }
   },
   "outputs": [],
   "source": [
    "def predict_z(catalog_df, \n",
    "              redshift_model):\n",
    "    catalog_df = pyr.predict_model(redshift_model, \n",
    "                                   data=catalog_df, \n",
    "                                   round=10)\n",
    "    catalog_df = catalog_df.rename(columns={'Label': 'pred_Z'})\n",
    "    catalog_df.loc[:, 'pred_Z'] = np.around(catalog_df.loc[:, 'pred_Z'], decimals=4)\n",
    "    return catalog_df"
   ]
  },
  {
   "cell_type": "markdown",
   "metadata": {},
   "source": [
    "---"
   ]
  },
  {
   "cell_type": "markdown",
   "metadata": {},
   "source": [
    "## Reading data"
   ]
  },
  {
   "cell_type": "markdown",
   "metadata": {
    "tags": []
   },
   "source": [
    "Flags."
   ]
  },
  {
   "cell_type": "code",
   "execution_count": 6,
   "metadata": {},
   "outputs": [],
   "source": [
    "save_plot_flag      = False\n",
    "save_preds_flag     = True\n",
    "load_models_flag    = False\n",
    "predict_only_hi_z   = False\n",
    "use_zeroth_model    = False\n",
    "use_second_z_model  = False  # z >= 3.6 (with SMOGN), or, if needed, z >= 4.0"
   ]
  },
  {
   "cell_type": "code",
   "execution_count": 7,
   "metadata": {},
   "outputs": [],
   "source": [
    "used_area           = 'HETDEX'  # can be 'S82', 'HETDEX', 'COSMOS'"
   ]
  },
  {
   "cell_type": "code",
   "execution_count": 8,
   "metadata": {
    "tags": []
   },
   "outputs": [],
   "source": [
    "file_name_dict      = {'S82': gv.file_S82, 'HETDEX': gv.file_HETDEX, 'COSMOS': gv.file_COSMOS}\n",
    "file_name           = file_name_dict[used_area]"
   ]
  },
  {
   "cell_type": "code",
   "execution_count": 9,
   "metadata": {
    "tags": []
   },
   "outputs": [],
   "source": [
    "feats_2_disc_S82    = ['objID', 'RA_MILLI', 'DEC_MILLI', 'W1mag', 'W2mag', 'num_imputed', 'radio_detect']\n",
    "feats_2_disc_HETDEX = ['objID', 'RA_MILLI', 'DEC_MILLI', 'W1mag', 'W2mag', 'num_imputed', 'radio_detect']\n",
    "feats_2_disc_COSMOS = ['objID', 'RA_MILLI', 'DEC_MILLI', 'W1mag', 'W2mag', 'num_imputed', 'radio_detect', ]\n",
    "\n",
    "feats_2_disc        = {'S82': feats_2_disc_S82, 'HETDEX': feats_2_disc_HETDEX, 'COSMOS': feats_2_disc_COSMOS}\n",
    "features_2_discard  = feats_2_disc[used_area]"
   ]
  },
  {
   "cell_type": "code",
   "execution_count": 10,
   "metadata": {},
   "outputs": [],
   "source": [
    "full_catalog_df     = pd.read_hdf(gv.cat_path + file_name, key='df').drop(columns=features_2_discard)"
   ]
  },
  {
   "cell_type": "code",
   "execution_count": 11,
   "metadata": {
    "jupyter": {
     "source_hidden": true
    }
   },
   "outputs": [],
   "source": [
    "if used_area == 'S82':\n",
    "    full_catalog_df.loc[:, 'LOFAR_detect'] = full_catalog_df.loc[:, 'VLAS82_detect'].copy()\n",
    "    full_catalog_df = full_catalog_df.drop(columns=['VLAS82_detect'])\n",
    "if used_area == 'COSMOS':\n",
    "    full_catalog_df.loc[:, 'LOFAR_detect'] = full_catalog_df.loc[:, 'COSMOSVLA3_detect'].copy()\n",
    "    full_catalog_df = full_catalog_df.drop(columns=['COSMOSVLA3_detect'])"
   ]
  },
  {
   "cell_type": "markdown",
   "metadata": {},
   "source": [
    "Create features with class and combined redshift."
   ]
  },
  {
   "cell_type": "code",
   "execution_count": 12,
   "metadata": {
    "jupyter": {
     "source_hidden": true
    }
   },
   "outputs": [],
   "source": [
    "full_catalog_df['class']            = full_catalog_df.loc[:, 'is_AGN'].copy()\n",
    "filter_non_confirmed                = np.array(full_catalog_df.loc[:, 'is_AGN'] == 1) | np.array(full_catalog_df.loc[:, 'is_gal'] == 1)\n",
    "full_catalog_df.loc[~filter_non_confirmed, 'class'] = np.nan\n",
    "idx_non_Z                           = full_catalog_df.loc[:, 'Z'].where(full_catalog_df.loc[:, 'Z'] > 0).isna()\n",
    "full_catalog_df.loc[idx_non_Z, 'Z'] = full_catalog_df.loc[:, 'Z'].mask(idx_non_Z, full_catalog_df.loc[idx_non_Z, 'zsp'])"
   ]
  },
  {
   "cell_type": "markdown",
   "metadata": {},
   "source": [
    "Create column for detection as Radio AGN"
   ]
  },
  {
   "cell_type": "code",
   "execution_count": 13,
   "metadata": {},
   "outputs": [],
   "source": [
    "full_catalog_df['radio_AGN']      = (np.array(full_catalog_df.loc[:, 'is_AGN'] == 1) &\\\n",
    "                                     np.array(full_catalog_df.loc[:, 'LOFAR_detect'] == 1)).astype(int)"
   ]
  },
  {
   "cell_type": "markdown",
   "metadata": {},
   "source": [
    "Discard minor features."
   ]
  },
  {
   "cell_type": "code",
   "execution_count": 14,
   "metadata": {},
   "outputs": [],
   "source": [
    "# full_catalog_df                     = full_catalog_df.drop(columns=['is_AGN', 'is_SDSS_QSO', 'is_SDSS_gal', 'is_gal', 'zsp'])"
   ]
  },
  {
   "cell_type": "markdown",
   "metadata": {},
   "source": [
    "#### As we want to predict, only use sources that have not previous spectroscopic classification"
   ]
  },
  {
   "cell_type": "code",
   "execution_count": 15,
   "metadata": {
    "jupyter": {
     "source_hidden": true
    }
   },
   "outputs": [
    {
     "name": "stdout",
     "output_type": "stream",
     "text": [
      "The used data set (in HETDEX) has 15,136,878 sources.\n",
      "And 118,734 have previous spectroscopic classification.\n"
     ]
    }
   ],
   "source": [
    "print(f'The used data set (in {used_area}) has {len(full_catalog_df):,} sources.')\n",
    "print(f'And {np.sum(filter_non_confirmed):,} have previous spectroscopic classification.')"
   ]
  },
  {
   "cell_type": "code",
   "execution_count": 16,
   "metadata": {},
   "outputs": [],
   "source": [
    "# full_catalog_df                     = full_catalog_df.loc[~filter_non_confirmed]"
   ]
  },
  {
   "cell_type": "code",
   "execution_count": 17,
   "metadata": {
    "jupyter": {
     "source_hidden": true
    }
   },
   "outputs": [
    {
     "name": "stdout",
     "output_type": "stream",
     "text": [
      "This pipeline will predict properties for 15,136,878 sources in HETDEX.\n"
     ]
    }
   ],
   "source": [
    "print(f'This pipeline will predict properties for {len(full_catalog_df):,} sources in {used_area}.')"
   ]
  },
  {
   "cell_type": "markdown",
   "metadata": {},
   "source": [
    "---"
   ]
  },
  {
   "cell_type": "markdown",
   "metadata": {},
   "source": [
    "### Load models"
   ]
  },
  {
   "cell_type": "code",
   "execution_count": 18,
   "metadata": {},
   "outputs": [
    {
     "name": "stdout",
     "output_type": "stream",
     "text": [
      "Transformation Pipeline and Model Successfully Loaded\n",
      "Transformation Pipeline and Model Successfully Loaded\n",
      "Transformation Pipeline and Model Successfully Loaded\n"
     ]
    }
   ],
   "source": [
    "if load_models_flag:\n",
    "    if use_zeroth_model:\n",
    "        star_clf          = pyc.load_model(gv.models_path + gv.star_model)  # star/no-star model\n",
    "        cal_star_clf      = load(gv.models_path + gv.cal_str_model)  # calibrated model\n",
    "    AGN_gal_clf           = pyc.load_model(gv.models_path + gv.AGN_gal_model)  #\n",
    "    cal_AGN_gal_clf       = load(gv.models_path + gv.cal_AGN_gal_model)  # calibrated model\n",
    "    radio_det_AGN_clf     = pyc.load_model(gv.models_path + gv.radio_model)  # without predicted AGN\n",
    "    cal_radio_det_AGN_clf = load(gv.models_path + gv.cal_radio_model)  # calibrated model\n",
    "    redshift_reg_rAGN     = pyr.load_model(gv.models_path + gv.full_z_model)  # to use on full sample\n",
    "    if use_second_z_model:\n",
    "        redshift_reg_2    = pyr.load_model(gv.models_path + gv.high_z_model)  # sources with predicted z >= 3.6"
   ]
  },
  {
   "cell_type": "markdown",
   "metadata": {},
   "source": [
    "Run predictions"
   ]
  },
  {
   "cell_type": "code",
   "execution_count": 19,
   "metadata": {
    "jupyter": {
     "source_hidden": true
    }
   },
   "outputs": [],
   "source": [
    "full_catalog_df = predict_AGN_gal(full_catalog_df, \n",
    "                                  AGN_gal_clf, \n",
    "                                  cal_AGN_gal_clf, \n",
    "                                  gv.AGN_thresh, \n",
    "                                  gv.cal_AGN_thresh)"
   ]
  },
  {
   "cell_type": "code",
   "execution_count": 20,
   "metadata": {
    "jupyter": {
     "source_hidden": true
    }
   },
   "outputs": [],
   "source": [
    "full_catalog_df = predict_radio_det(full_catalog_df, \n",
    "                                    radio_det_AGN_clf, \n",
    "                                    cal_radio_det_AGN_clf, \n",
    "                                    gv.radio_thresh, \n",
    "                                    gv.cal_radio_thresh)"
   ]
  },
  {
   "cell_type": "code",
   "execution_count": 21,
   "metadata": {
    "jupyter": {
     "source_hidden": true
    }
   },
   "outputs": [],
   "source": [
    "full_catalog_df = full_catalog_df.rename(columns={'Score_radio': 'Score_radio_AGN', \n",
    "                                                            'pred_radio': 'pred_radio_AGN',\n",
    "                                                            'Prob_radio': 'Prob_radio_AGN', \n",
    "                                                            'pred_radio_cal': 'pred_radio_cal_AGN'})"
   ]
  },
  {
   "cell_type": "code",
   "execution_count": 22,
   "metadata": {
    "jupyter": {
     "source_hidden": true
    }
   },
   "outputs": [],
   "source": [
    "full_catalog_df = predict_z(full_catalog_df, redshift_reg_rAGN)"
   ]
  },
  {
   "cell_type": "code",
   "execution_count": 23,
   "metadata": {
    "jupyter": {
     "source_hidden": true
    }
   },
   "outputs": [],
   "source": [
    "full_catalog_df = full_catalog_df.rename(columns={'pred_Z': 'pred_Z_rAGN'})"
   ]
  },
  {
   "cell_type": "code",
   "execution_count": 24,
   "metadata": {
    "jupyter": {
     "source_hidden": true
    }
   },
   "outputs": [
    {
     "data": {
      "text/plain": [
       "array(['RA_ICRS', 'DE_ICRS', 'Name', 'TYPE', 'Z', 'zsp', 'spCl',\n",
       "       'band_num', 'LOFAR_detect', 'Sint_LOFAR', 'Sint_LOFAR_AB',\n",
       "       'Speak_LOFAR', 'rms_LOFAR', 'Sint_LOFAR_non_imp',\n",
       "       'Sint_LOFAR_AB_non_imp', 'Speak_LOFAR_non_imp', 'is_str',\n",
       "       'is_SDSS_QSO', 'is_AGN', 'is_SDSS_gal', 'is_gal', 'W1mproPM',\n",
       "       'W2mproPM', 'gmag', 'rmag', 'imag', 'zmag', 'ymag', 'W3mag',\n",
       "       'W4mag', 'Jmag', 'Hmag', 'Kmag', 'g_r', 'g_i', 'g_z', 'g_y', 'g_J',\n",
       "       'g_H', 'g_K', 'g_W1', 'g_W2', 'g_W3', 'g_W4', 'r_i', 'r_z', 'r_y',\n",
       "       'r_J', 'r_H', 'r_K', 'r_W1', 'r_W2', 'r_W3', 'r_W4', 'i_z', 'i_y',\n",
       "       'i_J', 'i_H', 'i_K', 'i_W1', 'i_W2', 'i_W3', 'i_W4', 'z_y', 'z_J',\n",
       "       'z_H', 'z_K', 'z_W1', 'z_W2', 'z_W3', 'z_W4', 'y_J', 'y_H', 'y_K',\n",
       "       'y_W1', 'y_W2', 'y_W3', 'y_W4', 'J_H', 'J_K', 'J_W1', 'J_W2',\n",
       "       'J_W3', 'J_W4', 'H_K', 'H_W1', 'H_W2', 'H_W3', 'H_W4', 'K_W1',\n",
       "       'K_W2', 'K_W3', 'K_W4', 'W1_W2', 'W1_W3', 'W1_W4', 'W2_W3',\n",
       "       'W2_W4', 'W3_W4', 'class', 'radio_AGN', 'pred_class', 'Score_AGN',\n",
       "       'Prob_AGN', 'pred_class_cal', 'pred_radio_AGN', 'Score_radio_AGN',\n",
       "       'Prob_radio_AGN', 'pred_radio_cal_AGN', 'pred_Z_rAGN'],\n",
       "      dtype=object)"
      ]
     },
     "execution_count": 24,
     "metadata": {},
     "output_type": "execute_result"
    }
   ],
   "source": [
    "np.array(full_catalog_df.columns)"
   ]
  },
  {
   "cell_type": "code",
   "execution_count": null,
   "metadata": {},
   "outputs": [],
   "source": []
  },
  {
   "cell_type": "code",
   "execution_count": 25,
   "metadata": {},
   "outputs": [],
   "source": [
    "# full_catalog_df = pyc.predict_model(AGN_gal_clf, data=full_catalog_df, probability_threshold=gv.AGN_thresh, raw_score=True, round=10)\n",
    "# full_catalog_df = full_catalog_df.drop(columns=['Score_0'])\n",
    "# full_catalog_df = full_catalog_df.rename(columns={'Label': 'pred_class', 'Score_1': 'Score_AGN'})\n",
    "# full_catalog_df['Score_AGN'] = np.around(full_catalog_df.loc[:, 'Score_AGN'], decimals=7)\n",
    "# pred_probs_AGN  = cal_AGN_gal_clf.predict(full_catalog_df.loc[:, 'Score_AGN'])\n",
    "# full_catalog_df['Prob_AGN'] = pred_probs_AGN"
   ]
  },
  {
   "cell_type": "code",
   "execution_count": 26,
   "metadata": {},
   "outputs": [],
   "source": [
    "# full_catalog_df = pyc.predict_model(radio_det_clf, data=full_catalog_df, probability_threshold=gv.radio_thresh, raw_score=True, round=10)\n",
    "# full_catalog_df = full_catalog_df.drop(columns=['Score_0'])\n",
    "# full_catalog_df = full_catalog_df.rename(columns={'Label': 'pred_radio', 'Score_1': 'Score_radio'})\n",
    "# full_catalog_df['Score_radio'] = np.around(full_catalog_df.loc[:, 'Score_radio'], decimals=7)\n",
    "# pred_probs_rad  = cal_radio_det_clf.predict(full_catalog_df.loc[:, 'Score_radio'])\n",
    "# full_catalog_df['Prob_radio'] = pred_probs_rad"
   ]
  },
  {
   "cell_type": "code",
   "execution_count": 27,
   "metadata": {},
   "outputs": [],
   "source": [
    "# full_catalog_df = pyr.predict_model(redshift_reg, data=full_catalog_df, round=8)\n",
    "# full_catalog_df = full_catalog_df.rename(columns={'Label': 'pred_Z'})\n",
    "# full_catalog_df['pred_Z'] = np.around(full_catalog_df.loc[:, 'pred_Z'], decimals=3)"
   ]
  },
  {
   "cell_type": "code",
   "execution_count": 28,
   "metadata": {},
   "outputs": [],
   "source": [
    "# redshift_tol    = 0.0\n",
    "# if use_second_z_model:\n",
    "#     full_catalog_df = pyr.predict_model(redshift_reg_2, data=full_catalog_df, round=6)\n",
    "#     filter_pred_z   = full_catalog_df.loc[:, 'pred_Z'] >= (gv.high_z_limit + redshift_tol)\n",
    "#     full_catalog_df.loc[:, 'pred_Z'] = full_catalog_df.loc[:, 'pred_Z'].mask(filter_pred_z, full_catalog_df.loc[filter_pred_z, 'Label'])\n",
    "#     full_catalog_df = full_catalog_df.drop(columns=['Label'])\n",
    "#     full_catalog_df.loc[:, 'pred_Z'] = np.around(full_catalog_df.loc[:, 'pred_Z'], decimals=3)"
   ]
  },
  {
   "cell_type": "code",
   "execution_count": 29,
   "metadata": {},
   "outputs": [],
   "source": [
    "# full_catalog_df['pred_prob_class']    = (full_catalog_df.loc[:, 'Prob_AGN']   >= gv.cal_AGN_thresh).astype(int)\n",
    "# full_catalog_df['pred_prob_radio']    = (full_catalog_df.loc[:, 'Prob_radio'] >= gv.cal_radio_thresh).astype(int)"
   ]
  },
  {
   "cell_type": "code",
   "execution_count": 30,
   "metadata": {},
   "outputs": [],
   "source": [
    "full_catalog_df['pred_radio_AGN']     = (np.array(full_catalog_df.loc[:, 'pred_class'] == 1) & np.array(full_catalog_df.loc[:, 'pred_radio_AGN'] == 1)).astype(int)\n",
    "full_catalog_df['Score_rAGN']         = full_catalog_df.loc[:, 'Score_AGN'] * full_catalog_df.loc[:, 'Score_radio_AGN']\n",
    "full_catalog_df['pred_prob_rAGN']     = (np.array(full_catalog_df.loc[:, 'pred_class_cal'] == 1) & np.array(full_catalog_df.loc[:, 'pred_radio_cal_AGN'] == 1)).astype(int)\n",
    "full_catalog_df['Prob_rAGN']          = full_catalog_df.loc[:, 'Prob_AGN'] * full_catalog_df.loc[:, 'Prob_radio_AGN']\n",
    "\n",
    "# rad_score_scaler                      = MinMaxScaler()\n",
    "# full_catalog_df['scaled_score_radio'] = rad_score_scaler.fit_transform(full_catalog_df.loc[:, 'Score_radio'].values.reshape(-1, 1))\n",
    "# full_catalog_df['scaled_score_rAGN']  = full_catalog_df.loc[:, 'Score_AGN'] * full_catalog_df.loc[:, 'scaled_score_radio']"
   ]
  },
  {
   "cell_type": "code",
   "execution_count": 31,
   "metadata": {},
   "outputs": [
    {
     "data": {
      "text/html": [
       "<div>\n",
       "<style scoped>\n",
       "    .dataframe tbody tr th:only-of-type {\n",
       "        vertical-align: middle;\n",
       "    }\n",
       "\n",
       "    .dataframe tbody tr th {\n",
       "        vertical-align: top;\n",
       "    }\n",
       "\n",
       "    .dataframe thead th {\n",
       "        text-align: right;\n",
       "    }\n",
       "</style>\n",
       "<table border=\"1\" class=\"dataframe\">\n",
       "  <thead>\n",
       "    <tr style=\"text-align: right;\">\n",
       "      <th></th>\n",
       "      <th>class</th>\n",
       "      <th>pred_class_cal</th>\n",
       "      <th>LOFAR_detect</th>\n",
       "      <th>pred_radio_cal_AGN</th>\n",
       "      <th>Z</th>\n",
       "      <th>pred_Z_rAGN</th>\n",
       "    </tr>\n",
       "  </thead>\n",
       "  <tbody>\n",
       "    <tr>\n",
       "      <th>count</th>\n",
       "      <td>118734.000000</td>\n",
       "      <td>1.513688e+07</td>\n",
       "      <td>1.513688e+07</td>\n",
       "      <td>1.513688e+07</td>\n",
       "      <td>134234.000000</td>\n",
       "      <td>1.513688e+07</td>\n",
       "    </tr>\n",
       "    <tr>\n",
       "      <th>mean</th>\n",
       "      <td>0.425641</td>\n",
       "      <td>6.624084e-01</td>\n",
       "      <td>1.239179e-02</td>\n",
       "      <td>9.470163e-02</td>\n",
       "      <td>0.876576</td>\n",
       "      <td>2.034189e+00</td>\n",
       "    </tr>\n",
       "    <tr>\n",
       "      <th>std</th>\n",
       "      <td>0.494442</td>\n",
       "      <td>4.728885e-01</td>\n",
       "      <td>1.106265e-01</td>\n",
       "      <td>2.928024e-01</td>\n",
       "      <td>0.779380</td>\n",
       "      <td>5.600387e-01</td>\n",
       "    </tr>\n",
       "    <tr>\n",
       "      <th>min</th>\n",
       "      <td>0.000000</td>\n",
       "      <td>0.000000e+00</td>\n",
       "      <td>0.000000e+00</td>\n",
       "      <td>0.000000e+00</td>\n",
       "      <td>-0.004490</td>\n",
       "      <td>5.300000e-03</td>\n",
       "    </tr>\n",
       "    <tr>\n",
       "      <th>25%</th>\n",
       "      <td>0.000000</td>\n",
       "      <td>0.000000e+00</td>\n",
       "      <td>0.000000e+00</td>\n",
       "      <td>0.000000e+00</td>\n",
       "      <td>0.381018</td>\n",
       "      <td>1.942800e+00</td>\n",
       "    </tr>\n",
       "    <tr>\n",
       "      <th>50%</th>\n",
       "      <td>0.000000</td>\n",
       "      <td>1.000000e+00</td>\n",
       "      <td>0.000000e+00</td>\n",
       "      <td>0.000000e+00</td>\n",
       "      <td>0.623500</td>\n",
       "      <td>2.128800e+00</td>\n",
       "    </tr>\n",
       "    <tr>\n",
       "      <th>75%</th>\n",
       "      <td>1.000000</td>\n",
       "      <td>1.000000e+00</td>\n",
       "      <td>0.000000e+00</td>\n",
       "      <td>0.000000e+00</td>\n",
       "      <td>1.282000</td>\n",
       "      <td>2.128800e+00</td>\n",
       "    </tr>\n",
       "    <tr>\n",
       "      <th>max</th>\n",
       "      <td>1.000000</td>\n",
       "      <td>1.000000e+00</td>\n",
       "      <td>1.000000e+00</td>\n",
       "      <td>1.000000e+00</td>\n",
       "      <td>7.028330</td>\n",
       "      <td>4.795500e+00</td>\n",
       "    </tr>\n",
       "  </tbody>\n",
       "</table>\n",
       "</div>"
      ],
      "text/plain": [
       "               class  pred_class_cal  LOFAR_detect  pred_radio_cal_AGN  \\\n",
       "count  118734.000000    1.513688e+07  1.513688e+07        1.513688e+07   \n",
       "mean        0.425641    6.624084e-01  1.239179e-02        9.470163e-02   \n",
       "std         0.494442    4.728885e-01  1.106265e-01        2.928024e-01   \n",
       "min         0.000000    0.000000e+00  0.000000e+00        0.000000e+00   \n",
       "25%         0.000000    0.000000e+00  0.000000e+00        0.000000e+00   \n",
       "50%         0.000000    1.000000e+00  0.000000e+00        0.000000e+00   \n",
       "75%         1.000000    1.000000e+00  0.000000e+00        0.000000e+00   \n",
       "max         1.000000    1.000000e+00  1.000000e+00        1.000000e+00   \n",
       "\n",
       "                   Z   pred_Z_rAGN  \n",
       "count  134234.000000  1.513688e+07  \n",
       "mean        0.876576  2.034189e+00  \n",
       "std         0.779380  5.600387e-01  \n",
       "min        -0.004490  5.300000e-03  \n",
       "25%         0.381018  1.942800e+00  \n",
       "50%         0.623500  2.128800e+00  \n",
       "75%         1.282000  2.128800e+00  \n",
       "max         7.028330  4.795500e+00  "
      ]
     },
     "execution_count": 31,
     "metadata": {},
     "output_type": "execute_result"
    }
   ],
   "source": [
    "full_catalog_df.loc[:, ['class', 'pred_class_cal', 'LOFAR_detect', 'pred_radio_cal_AGN', 'Z', 'pred_Z_rAGN']].describe()"
   ]
  },
  {
   "cell_type": "markdown",
   "metadata": {},
   "source": [
    "Obtain intermediate metrics"
   ]
  },
  {
   "cell_type": "code",
   "execution_count": 32,
   "metadata": {},
   "outputs": [],
   "source": [
    "filter_radio_AGN_t      = np.array(full_catalog_df.loc[:, 'class'] == 1) & np.array(full_catalog_df.loc[:, 'LOFAR_detect'] == 1)\n",
    "filter_gal_AGN_t        = np.array(full_catalog_df.loc[:, 'class'] == 0) | np.array(full_catalog_df.loc[:, 'class'] == 1)\n",
    "total_size              = len(full_catalog_df)\n",
    "filter_AGN_t            = np.array(full_catalog_df.loc[:, 'class'] == 1)\n",
    "num_AGN_t               = np.sum(filter_AGN_t)\n",
    "num_gal_t               = np.sum(np.array(full_catalog_df.loc[:, 'class'] == 0))\n",
    "num_radio_t             = np.sum(np.array(full_catalog_df.loc[:, 'LOFAR_detect'] == 1))\n",
    "num_radio_AGN_t         = np.sum(filter_radio_AGN_t)"
   ]
  },
  {
   "cell_type": "code",
   "execution_count": 33,
   "metadata": {},
   "outputs": [],
   "source": [
    "# filter_radio_AGN_p      = np.array(full_catalog_df.loc[:, 'Score_AGN']          >= threshold_AGN) &\\\n",
    "#                             np.array(full_catalog_df.loc[:, 'Score_radio']      >= threshold_radio)\n",
    "filter_radio_AGN_p      = np.array(full_catalog_df.loc[:, 'pred_class_cal']      == 1) &\\\n",
    "                            np.array(full_catalog_df.loc[:, 'pred_radio_cal_AGN']    == 1)\n",
    "filt_hiz_rAGN_p         = filter_radio_AGN_p * np.array(full_catalog_df.loc[:, 'pred_Z_rAGN'] >= gv.high_z_limit)\n",
    "filter_AGN_p            = np.array(full_catalog_df.loc[:, 'pred_class_cal']      == 1)\n",
    "filter_radio_p          = np.array(full_catalog_df.loc[:, 'pred_radio_cal_AGN']      == 1)\n",
    "num_AGN_p               = np.sum(filter_AGN_p)\n",
    "num_gal_p               = np.sum(np.array(full_catalog_df.loc[:, 'pred_class_cal'] == 0))\n",
    "num_radio_p             = np.sum(filter_radio_p)\n",
    "num_radio_AGN_p         = np.sum(filter_radio_AGN_p)"
   ]
  },
  {
   "cell_type": "markdown",
   "metadata": {},
   "source": [
    "### Select sources predicted to be Radio AGN (optional)"
   ]
  },
  {
   "cell_type": "code",
   "execution_count": 34,
   "metadata": {},
   "outputs": [],
   "source": [
    "# full_catalog_df         = full_catalog_df.loc[filter_radio_AGN_p]"
   ]
  },
  {
   "cell_type": "markdown",
   "metadata": {},
   "source": [
    "Add individual metrics for redshift"
   ]
  },
  {
   "cell_type": "code",
   "execution_count": 35,
   "metadata": {
    "tags": []
   },
   "outputs": [],
   "source": [
    "full_catalog_df['Delta_z_N'] = np.around((full_catalog_df.loc[:, 'pred_Z_rAGN'] - full_catalog_df.loc[:, 'Z']) /\\\n",
    "                            (1 + full_catalog_df.loc[:, 'Z']), decimals=3)\n",
    "\n",
    "full_catalog_df['sigma_NMAD'] = np.around(1.48 * np.abs(full_catalog_df.loc[:, 'pred_Z_rAGN'] - full_catalog_df.loc[:, 'Z']) /\\\n",
    "                            (1 + full_catalog_df.loc[:, 'Z']), decimals=3)"
   ]
  },
  {
   "cell_type": "markdown",
   "metadata": {},
   "source": [
    "Numerical summary."
   ]
  },
  {
   "cell_type": "code",
   "execution_count": 36,
   "metadata": {
    "jupyter": {
     "source_hidden": true
    },
    "tags": []
   },
   "outputs": [],
   "source": [
    "str_0_t   = f'Out of {total_size:,} initial sources in {used_area},\\n'\n",
    "str_1_t   = f'{num_gal_t:,} are confirmed to be galaxies. On the other side,\\n'\n",
    "str_2_t   = f'{num_AGN_t:,} are confirmed to be AGN. And, from the AGN,\\n'\n",
    "str_3_t   = f'{num_radio_AGN_t:,} are detected in radio.'\n",
    "\n",
    "str_0_p   = f'Out of {num_radio_AGN_t:,} initial radio-detected AGN in {used_area},\\n'\n",
    "str_1_p   = f'{num_gal_p:,} are predicted to be galaxies. On the other side,\\n'\n",
    "str_2_p   = f'{num_AGN_p:,} are predicted to be AGN. And, from the predicted AGN,\\n'\n",
    "str_3_p   = f'{num_radio_AGN_p:,} are predicted to be detected in radio.'"
   ]
  },
  {
   "cell_type": "code",
   "execution_count": 37,
   "metadata": {
    "jupyter": {
     "source_hidden": true
    },
    "tags": []
   },
   "outputs": [
    {
     "name": "stdout",
     "output_type": "stream",
     "text": [
      "------------------------------------------------------------\n",
      "Out of 15,136,878 initial sources in HETDEX,\n",
      "68,196 are confirmed to be galaxies. On the other side,\n",
      "50,538 are confirmed to be AGN. And, from the AGN,\n",
      "6,419 are detected in radio.\n",
      "------------------------------------------------------------\n",
      "Out of 6,419 initial radio-detected AGN in HETDEX,\n",
      "5,110,083 are predicted to be galaxies. On the other side,\n",
      "10,026,795 are predicted to be AGN. And, from the predicted AGN,\n",
      "79,859 are predicted to be detected in radio.\n",
      "------------------------------------------------------------\n"
     ]
    }
   ],
   "source": [
    "print('-' * 60)\n",
    "print(str_0_t + str_1_t + str_2_t + str_3_t)\n",
    "print('-' * 60)\n",
    "print(str_0_p + str_1_p + str_2_p + str_3_p)\n",
    "print('-' * 60)"
   ]
  },
  {
   "cell_type": "code",
   "execution_count": 38,
   "metadata": {},
   "outputs": [],
   "source": [
    "cols_4_table = show_columns = ['Name', 'RA_ICRS', 'DE_ICRS', 'TYPE', 'band_num', 'class', 'pred_class',\n",
    "                               'pred_class_cal', 'Score_AGN', 'Prob_AGN', 'LOFAR_detect', 'pred_radio_AGN',\n",
    "                               'pred_radio_cal_AGN', 'Score_radio_AGN', 'Prob_radio_AGN', 'radio_AGN', 'pred_radio_AGN',\n",
    "                               'pred_prob_rAGN', 'Score_rAGN', 'Prob_rAGN', 'Z', 'pred_Z_rAGN']"
   ]
  },
  {
   "cell_type": "code",
   "execution_count": 39,
   "metadata": {},
   "outputs": [],
   "source": [
    "if save_preds_flag:\n",
    "    if used_area == 'S82':\n",
    "        cols_2_save_preds = ['RA_ICRS', 'DE_ICRS', 'Name', 'band_num', 'class', 'Fint_VLAS82', \n",
    "                             'Fint_VLAS82_non_imp', 'W1mproPM', 'W2mproPM', 'gmag', 'rmag', \n",
    "                             'imag', 'zmag', 'ymag', 'W3mag', 'W4mag', 'Jmag', 'Hmag', 'Kmag', \n",
    "                             'Score_AGN', 'Prob_AGN', 'LOFAR_detect', 'Score_radio_AGN', \n",
    "                             'Prob_radio_AGN', 'radio_AGN', 'Score_rAGN', 'Prob_rAGN', 'Z', \n",
    "                             'pred_Z_rAGN']  # 'rms_VLAS82'\n",
    "    if used_area == 'HETDEX':\n",
    "        cols_2_save_preds = ['RA_ICRS', 'DE_ICRS', 'Name', 'band_num', 'class', 'Sint_LOFAR', \n",
    "                             'Sint_LOFAR_non_imp', 'W1mproPM', 'W2mproPM', 'gmag', 'rmag', \n",
    "                             'imag', 'zmag', 'ymag', 'W3mag', 'W4mag', 'Jmag', 'Hmag', 'Kmag', \n",
    "                             'Score_AGN', 'Prob_AGN', 'LOFAR_detect', 'Score_radio_AGN', \n",
    "                             'Prob_radio_AGN', 'radio_AGN', 'Score_rAGN', 'Prob_rAGN', 'Z', 'pred_Z_rAGN']"
   ]
  },
  {
   "cell_type": "code",
   "execution_count": 40,
   "metadata": {},
   "outputs": [],
   "source": [
    "cols_4_export_S82    = ['Fint_VLAS82']\n",
    "cols_4_export_HETDEX = ['Sint_LOFAR']\n",
    "cols_4_export_COSMOS = ['Flux_COSMOSVLA3']\n",
    "\n",
    "cols_4_exp_all       = {'S82': cols_4_export_S82, 'HETDEX': cols_4_export_HETDEX, 'COSMOS': cols_4_export_COSMOS}\n",
    "\n",
    "cols_photo           = ['W1mproPM', 'W2mproPM', 'gmag', 'rmag', 'imag', 'zmag', \n",
    "                        'ymag', 'Jmag', 'Hmag', 'Kmag', 'W3mag', 'W4mag']\n",
    "\n",
    "cols_4_export        = cols_4_table + cols_4_exp_all[used_area] + cols_photo"
   ]
  },
  {
   "cell_type": "code",
   "execution_count": 41,
   "metadata": {},
   "outputs": [],
   "source": [
    "filter_new_rAGN = full_catalog_df.loc[:, 'radio_AGN'] == 0\n",
    "if predict_only_hi_z:\n",
    "    filter_high_z   = full_catalog_df.loc[:, 'pred_Z_rAGN']    >= gv.high_z_limit\n",
    "elif not predict_only_hi_z:\n",
    "    filter_high_z   = np.ones_like(full_catalog_df.loc[:, 'pred_Z_rAGN']).astype(bool)"
   ]
  },
  {
   "cell_type": "code",
   "execution_count": 42,
   "metadata": {},
   "outputs": [],
   "source": [
    "full_catalog_df.loc[:, 'TYPE'] = full_catalog_df.loc[:, 'TYPE'].mask(full_catalog_df.loc[:, 'TYPE'] == '    ', 'CCCC')"
   ]
  },
  {
   "cell_type": "code",
   "execution_count": 43,
   "metadata": {},
   "outputs": [
    {
     "data": {
      "text/html": [
       "<div>\n",
       "<style scoped>\n",
       "    .dataframe tbody tr th:only-of-type {\n",
       "        vertical-align: middle;\n",
       "    }\n",
       "\n",
       "    .dataframe tbody tr th {\n",
       "        vertical-align: top;\n",
       "    }\n",
       "\n",
       "    .dataframe thead th {\n",
       "        text-align: right;\n",
       "    }\n",
       "</style>\n",
       "<table border=\"1\" class=\"dataframe\">\n",
       "  <thead>\n",
       "    <tr style=\"text-align: right;\">\n",
       "      <th></th>\n",
       "      <th>Name</th>\n",
       "      <th>RA_ICRS</th>\n",
       "      <th>DE_ICRS</th>\n",
       "      <th>TYPE</th>\n",
       "      <th>band_num</th>\n",
       "      <th>class</th>\n",
       "      <th>pred_class</th>\n",
       "      <th>pred_class_cal</th>\n",
       "      <th>Score_AGN</th>\n",
       "      <th>Prob_AGN</th>\n",
       "      <th>LOFAR_detect</th>\n",
       "      <th>pred_radio_AGN</th>\n",
       "      <th>pred_radio_cal_AGN</th>\n",
       "      <th>Score_radio_AGN</th>\n",
       "      <th>Prob_radio_AGN</th>\n",
       "      <th>radio_AGN</th>\n",
       "      <th>pred_radio_AGN</th>\n",
       "      <th>pred_prob_rAGN</th>\n",
       "      <th>Score_rAGN</th>\n",
       "      <th>Prob_rAGN</th>\n",
       "      <th>Z</th>\n",
       "      <th>pred_Z_rAGN</th>\n",
       "      <th>Sint_LOFAR</th>\n",
       "      <th>W1mproPM</th>\n",
       "      <th>W2mproPM</th>\n",
       "      <th>gmag</th>\n",
       "      <th>rmag</th>\n",
       "      <th>imag</th>\n",
       "      <th>zmag</th>\n",
       "      <th>ymag</th>\n",
       "      <th>Jmag</th>\n",
       "      <th>Hmag</th>\n",
       "      <th>Kmag</th>\n",
       "      <th>W3mag</th>\n",
       "      <th>W4mag</th>\n",
       "    </tr>\n",
       "  </thead>\n",
       "  <tbody>\n",
       "    <tr>\n",
       "      <th>7355795</th>\n",
       "      <td>J133422.63+475033.4</td>\n",
       "      <td>203.594269</td>\n",
       "      <td>47.842628</td>\n",
       "      <td>QX</td>\n",
       "      <td>8</td>\n",
       "      <td>1.0</td>\n",
       "      <td>1</td>\n",
       "      <td>1</td>\n",
       "      <td>0.500056</td>\n",
       "      <td>0.892290</td>\n",
       "      <td>1</td>\n",
       "      <td>0</td>\n",
       "      <td>0</td>\n",
       "      <td>0.048814</td>\n",
       "      <td>0.062214</td>\n",
       "      <td>1</td>\n",
       "      <td>0</td>\n",
       "      <td>0</td>\n",
       "      <td>0.024410</td>\n",
       "      <td>0.055513</td>\n",
       "      <td>4.958</td>\n",
       "      <td>4.7955</td>\n",
       "      <td>5.400000</td>\n",
       "      <td>18.983999</td>\n",
       "      <td>19.130001</td>\n",
       "      <td>23.299999</td>\n",
       "      <td>20.933100</td>\n",
       "      <td>19.620399</td>\n",
       "      <td>19.306101</td>\n",
       "      <td>19.200300</td>\n",
       "      <td>17.450001</td>\n",
       "      <td>17.24</td>\n",
       "      <td>16.59</td>\n",
       "      <td>16.67</td>\n",
       "      <td>14.62</td>\n",
       "    </tr>\n",
       "    <tr>\n",
       "      <th>3226938</th>\n",
       "      <td>J111714.13+540919.4</td>\n",
       "      <td>169.308868</td>\n",
       "      <td>54.155396</td>\n",
       "      <td>Q</td>\n",
       "      <td>8</td>\n",
       "      <td>1.0</td>\n",
       "      <td>1</td>\n",
       "      <td>1</td>\n",
       "      <td>0.500068</td>\n",
       "      <td>0.926060</td>\n",
       "      <td>1</td>\n",
       "      <td>0</td>\n",
       "      <td>1</td>\n",
       "      <td>0.208025</td>\n",
       "      <td>0.225272</td>\n",
       "      <td>1</td>\n",
       "      <td>0</td>\n",
       "      <td>1</td>\n",
       "      <td>0.104026</td>\n",
       "      <td>0.208615</td>\n",
       "      <td>4.700</td>\n",
       "      <td>4.7479</td>\n",
       "      <td>0.600000</td>\n",
       "      <td>19.456999</td>\n",
       "      <td>19.754002</td>\n",
       "      <td>23.299999</td>\n",
       "      <td>21.331800</td>\n",
       "      <td>20.118099</td>\n",
       "      <td>19.834101</td>\n",
       "      <td>19.797501</td>\n",
       "      <td>17.450001</td>\n",
       "      <td>17.24</td>\n",
       "      <td>16.59</td>\n",
       "      <td>16.67</td>\n",
       "      <td>14.62</td>\n",
       "    </tr>\n",
       "    <tr>\n",
       "      <th>4264628</th>\n",
       "      <td>J141000.75+460134.5</td>\n",
       "      <td>212.503098</td>\n",
       "      <td>46.026260</td>\n",
       "      <td></td>\n",
       "      <td>6</td>\n",
       "      <td>NaN</td>\n",
       "      <td>0</td>\n",
       "      <td>0</td>\n",
       "      <td>0.499961</td>\n",
       "      <td>0.204968</td>\n",
       "      <td>0</td>\n",
       "      <td>0</td>\n",
       "      <td>1</td>\n",
       "      <td>0.248813</td>\n",
       "      <td>0.261320</td>\n",
       "      <td>0</td>\n",
       "      <td>0</td>\n",
       "      <td>0</td>\n",
       "      <td>0.124397</td>\n",
       "      <td>0.053562</td>\n",
       "      <td>NaN</td>\n",
       "      <td>4.7153</td>\n",
       "      <td>0.356451</td>\n",
       "      <td>19.681999</td>\n",
       "      <td>19.809999</td>\n",
       "      <td>23.299999</td>\n",
       "      <td>20.781799</td>\n",
       "      <td>19.471001</td>\n",
       "      <td>19.164101</td>\n",
       "      <td>19.027300</td>\n",
       "      <td>17.450001</td>\n",
       "      <td>17.24</td>\n",
       "      <td>16.59</td>\n",
       "      <td>16.67</td>\n",
       "      <td>14.62</td>\n",
       "    </tr>\n",
       "    <tr>\n",
       "      <th>9544254</th>\n",
       "      <td>J132514.21+534447.1</td>\n",
       "      <td>201.309235</td>\n",
       "      <td>53.746429</td>\n",
       "      <td></td>\n",
       "      <td>6</td>\n",
       "      <td>NaN</td>\n",
       "      <td>0</td>\n",
       "      <td>1</td>\n",
       "      <td>0.500007</td>\n",
       "      <td>0.579070</td>\n",
       "      <td>0</td>\n",
       "      <td>0</td>\n",
       "      <td>1</td>\n",
       "      <td>0.351672</td>\n",
       "      <td>0.345250</td>\n",
       "      <td>0</td>\n",
       "      <td>0</td>\n",
       "      <td>1</td>\n",
       "      <td>0.175838</td>\n",
       "      <td>0.199924</td>\n",
       "      <td>NaN</td>\n",
       "      <td>4.7114</td>\n",
       "      <td>0.356451</td>\n",
       "      <td>18.823999</td>\n",
       "      <td>19.125999</td>\n",
       "      <td>23.299999</td>\n",
       "      <td>20.935801</td>\n",
       "      <td>19.635599</td>\n",
       "      <td>19.379000</td>\n",
       "      <td>19.478600</td>\n",
       "      <td>17.450001</td>\n",
       "      <td>17.24</td>\n",
       "      <td>16.59</td>\n",
       "      <td>16.67</td>\n",
       "      <td>14.62</td>\n",
       "    </tr>\n",
       "    <tr>\n",
       "      <th>10831188</th>\n",
       "      <td>J124400.05+553406.8</td>\n",
       "      <td>191.000183</td>\n",
       "      <td>55.568558</td>\n",
       "      <td>Q</td>\n",
       "      <td>8</td>\n",
       "      <td>1.0</td>\n",
       "      <td>1</td>\n",
       "      <td>1</td>\n",
       "      <td>0.500053</td>\n",
       "      <td>0.880950</td>\n",
       "      <td>0</td>\n",
       "      <td>0</td>\n",
       "      <td>1</td>\n",
       "      <td>0.736330</td>\n",
       "      <td>0.616554</td>\n",
       "      <td>0</td>\n",
       "      <td>0</td>\n",
       "      <td>1</td>\n",
       "      <td>0.368204</td>\n",
       "      <td>0.543153</td>\n",
       "      <td>4.623</td>\n",
       "      <td>4.6540</td>\n",
       "      <td>0.356451</td>\n",
       "      <td>18.931999</td>\n",
       "      <td>19.226000</td>\n",
       "      <td>23.299999</td>\n",
       "      <td>21.077101</td>\n",
       "      <td>19.595501</td>\n",
       "      <td>19.544100</td>\n",
       "      <td>19.271700</td>\n",
       "      <td>17.450001</td>\n",
       "      <td>17.24</td>\n",
       "      <td>16.59</td>\n",
       "      <td>16.67</td>\n",
       "      <td>14.62</td>\n",
       "    </tr>\n",
       "    <tr>\n",
       "      <th>13292816</th>\n",
       "      <td>J143508.80+485521.4</td>\n",
       "      <td>218.786652</td>\n",
       "      <td>48.922630</td>\n",
       "      <td>Q</td>\n",
       "      <td>8</td>\n",
       "      <td>1.0</td>\n",
       "      <td>1</td>\n",
       "      <td>1</td>\n",
       "      <td>0.500043</td>\n",
       "      <td>0.833659</td>\n",
       "      <td>0</td>\n",
       "      <td>0</td>\n",
       "      <td>0</td>\n",
       "      <td>0.131533</td>\n",
       "      <td>0.152147</td>\n",
       "      <td>0</td>\n",
       "      <td>0</td>\n",
       "      <td>0</td>\n",
       "      <td>0.065772</td>\n",
       "      <td>0.126839</td>\n",
       "      <td>4.776</td>\n",
       "      <td>4.6515</td>\n",
       "      <td>0.356451</td>\n",
       "      <td>19.424000</td>\n",
       "      <td>19.650002</td>\n",
       "      <td>23.299999</td>\n",
       "      <td>21.011400</td>\n",
       "      <td>19.706301</td>\n",
       "      <td>19.509300</td>\n",
       "      <td>19.394300</td>\n",
       "      <td>17.450001</td>\n",
       "      <td>17.24</td>\n",
       "      <td>16.59</td>\n",
       "      <td>16.67</td>\n",
       "      <td>14.62</td>\n",
       "    </tr>\n",
       "    <tr>\n",
       "      <th>12355845</th>\n",
       "      <td>J144321.14+501908.4</td>\n",
       "      <td>220.838120</td>\n",
       "      <td>50.319016</td>\n",
       "      <td></td>\n",
       "      <td>5</td>\n",
       "      <td>NaN</td>\n",
       "      <td>0</td>\n",
       "      <td>1</td>\n",
       "      <td>0.500007</td>\n",
       "      <td>0.579070</td>\n",
       "      <td>0</td>\n",
       "      <td>0</td>\n",
       "      <td>1</td>\n",
       "      <td>0.937123</td>\n",
       "      <td>0.794128</td>\n",
       "      <td>0</td>\n",
       "      <td>0</td>\n",
       "      <td>1</td>\n",
       "      <td>0.468568</td>\n",
       "      <td>0.459856</td>\n",
       "      <td>NaN</td>\n",
       "      <td>4.6064</td>\n",
       "      <td>0.356451</td>\n",
       "      <td>19.511999</td>\n",
       "      <td>19.809999</td>\n",
       "      <td>23.299999</td>\n",
       "      <td>21.092501</td>\n",
       "      <td>19.449699</td>\n",
       "      <td>19.490801</td>\n",
       "      <td>21.400000</td>\n",
       "      <td>17.450001</td>\n",
       "      <td>17.24</td>\n",
       "      <td>16.59</td>\n",
       "      <td>16.67</td>\n",
       "      <td>14.62</td>\n",
       "    </tr>\n",
       "    <tr>\n",
       "      <th>13669337</th>\n",
       "      <td>J143442.05+532102.5</td>\n",
       "      <td>218.675201</td>\n",
       "      <td>53.350716</td>\n",
       "      <td></td>\n",
       "      <td>7</td>\n",
       "      <td>NaN</td>\n",
       "      <td>0</td>\n",
       "      <td>0</td>\n",
       "      <td>0.499916</td>\n",
       "      <td>0.046814</td>\n",
       "      <td>0</td>\n",
       "      <td>0</td>\n",
       "      <td>1</td>\n",
       "      <td>0.438486</td>\n",
       "      <td>0.410208</td>\n",
       "      <td>0</td>\n",
       "      <td>0</td>\n",
       "      <td>0</td>\n",
       "      <td>0.219206</td>\n",
       "      <td>0.019203</td>\n",
       "      <td>NaN</td>\n",
       "      <td>4.5943</td>\n",
       "      <td>0.356451</td>\n",
       "      <td>19.473999</td>\n",
       "      <td>19.809999</td>\n",
       "      <td>23.299999</td>\n",
       "      <td>20.897600</td>\n",
       "      <td>20.666800</td>\n",
       "      <td>20.399200</td>\n",
       "      <td>21.400000</td>\n",
       "      <td>17.450001</td>\n",
       "      <td>17.24</td>\n",
       "      <td>16.59</td>\n",
       "      <td>16.67</td>\n",
       "      <td>14.62</td>\n",
       "    </tr>\n",
       "    <tr>\n",
       "      <th>3108302</th>\n",
       "      <td>J111513.19+532105.5</td>\n",
       "      <td>168.804932</td>\n",
       "      <td>53.351532</td>\n",
       "      <td></td>\n",
       "      <td>7</td>\n",
       "      <td>NaN</td>\n",
       "      <td>0</td>\n",
       "      <td>0</td>\n",
       "      <td>0.499973</td>\n",
       "      <td>0.282964</td>\n",
       "      <td>0</td>\n",
       "      <td>0</td>\n",
       "      <td>0</td>\n",
       "      <td>0.089812</td>\n",
       "      <td>0.108494</td>\n",
       "      <td>0</td>\n",
       "      <td>0</td>\n",
       "      <td>0</td>\n",
       "      <td>0.044904</td>\n",
       "      <td>0.030700</td>\n",
       "      <td>NaN</td>\n",
       "      <td>4.5863</td>\n",
       "      <td>0.356451</td>\n",
       "      <td>19.511000</td>\n",
       "      <td>19.809999</td>\n",
       "      <td>23.299999</td>\n",
       "      <td>20.940901</td>\n",
       "      <td>20.626600</td>\n",
       "      <td>20.388500</td>\n",
       "      <td>21.400000</td>\n",
       "      <td>17.450001</td>\n",
       "      <td>17.24</td>\n",
       "      <td>16.59</td>\n",
       "      <td>16.67</td>\n",
       "      <td>14.62</td>\n",
       "    </tr>\n",
       "    <tr>\n",
       "      <th>5398215</th>\n",
       "      <td>J140947.84+514530.7</td>\n",
       "      <td>212.449341</td>\n",
       "      <td>51.758556</td>\n",
       "      <td></td>\n",
       "      <td>5</td>\n",
       "      <td>NaN</td>\n",
       "      <td>0</td>\n",
       "      <td>0</td>\n",
       "      <td>0.499945</td>\n",
       "      <td>0.123539</td>\n",
       "      <td>0</td>\n",
       "      <td>0</td>\n",
       "      <td>1</td>\n",
       "      <td>0.305554</td>\n",
       "      <td>0.308715</td>\n",
       "      <td>0</td>\n",
       "      <td>0</td>\n",
       "      <td>0</td>\n",
       "      <td>0.152760</td>\n",
       "      <td>0.038138</td>\n",
       "      <td>NaN</td>\n",
       "      <td>4.5842</td>\n",
       "      <td>0.356451</td>\n",
       "      <td>19.552999</td>\n",
       "      <td>19.809999</td>\n",
       "      <td>23.299999</td>\n",
       "      <td>21.259800</td>\n",
       "      <td>20.958599</td>\n",
       "      <td>20.683599</td>\n",
       "      <td>21.400000</td>\n",
       "      <td>17.450001</td>\n",
       "      <td>17.24</td>\n",
       "      <td>16.59</td>\n",
       "      <td>16.67</td>\n",
       "      <td>14.62</td>\n",
       "    </tr>\n",
       "    <tr>\n",
       "      <th>4518752</th>\n",
       "      <td>J143002.80+484217.8</td>\n",
       "      <td>217.511658</td>\n",
       "      <td>48.704964</td>\n",
       "      <td></td>\n",
       "      <td>7</td>\n",
       "      <td>NaN</td>\n",
       "      <td>0</td>\n",
       "      <td>0</td>\n",
       "      <td>0.499976</td>\n",
       "      <td>0.305801</td>\n",
       "      <td>0</td>\n",
       "      <td>0</td>\n",
       "      <td>0</td>\n",
       "      <td>0.108025</td>\n",
       "      <td>0.127930</td>\n",
       "      <td>0</td>\n",
       "      <td>0</td>\n",
       "      <td>0</td>\n",
       "      <td>0.054010</td>\n",
       "      <td>0.039121</td>\n",
       "      <td>NaN</td>\n",
       "      <td>4.5840</td>\n",
       "      <td>0.356451</td>\n",
       "      <td>19.548000</td>\n",
       "      <td>19.809999</td>\n",
       "      <td>23.299999</td>\n",
       "      <td>21.211399</td>\n",
       "      <td>20.887600</td>\n",
       "      <td>20.629299</td>\n",
       "      <td>21.400000</td>\n",
       "      <td>17.450001</td>\n",
       "      <td>17.24</td>\n",
       "      <td>16.59</td>\n",
       "      <td>16.67</td>\n",
       "      <td>14.62</td>\n",
       "    </tr>\n",
       "    <tr>\n",
       "      <th>1567323</th>\n",
       "      <td>J115923.35+535946.8</td>\n",
       "      <td>179.847290</td>\n",
       "      <td>53.996323</td>\n",
       "      <td></td>\n",
       "      <td>7</td>\n",
       "      <td>NaN</td>\n",
       "      <td>0</td>\n",
       "      <td>0</td>\n",
       "      <td>0.499976</td>\n",
       "      <td>0.309057</td>\n",
       "      <td>0</td>\n",
       "      <td>0</td>\n",
       "      <td>1</td>\n",
       "      <td>0.214392</td>\n",
       "      <td>0.231020</td>\n",
       "      <td>0</td>\n",
       "      <td>0</td>\n",
       "      <td>0</td>\n",
       "      <td>0.107191</td>\n",
       "      <td>0.071398</td>\n",
       "      <td>NaN</td>\n",
       "      <td>4.5801</td>\n",
       "      <td>0.356451</td>\n",
       "      <td>19.532999</td>\n",
       "      <td>19.809999</td>\n",
       "      <td>23.299999</td>\n",
       "      <td>21.272100</td>\n",
       "      <td>20.964399</td>\n",
       "      <td>20.689400</td>\n",
       "      <td>21.400000</td>\n",
       "      <td>17.450001</td>\n",
       "      <td>17.24</td>\n",
       "      <td>16.59</td>\n",
       "      <td>16.67</td>\n",
       "      <td>14.62</td>\n",
       "    </tr>\n",
       "    <tr>\n",
       "      <th>13674939</th>\n",
       "      <td>J142647.98+521912.6</td>\n",
       "      <td>216.699905</td>\n",
       "      <td>52.320179</td>\n",
       "      <td></td>\n",
       "      <td>5</td>\n",
       "      <td>NaN</td>\n",
       "      <td>0</td>\n",
       "      <td>0</td>\n",
       "      <td>0.499938</td>\n",
       "      <td>0.100962</td>\n",
       "      <td>0</td>\n",
       "      <td>0</td>\n",
       "      <td>1</td>\n",
       "      <td>0.188988</td>\n",
       "      <td>0.207798</td>\n",
       "      <td>0</td>\n",
       "      <td>0</td>\n",
       "      <td>0</td>\n",
       "      <td>0.094482</td>\n",
       "      <td>0.020980</td>\n",
       "      <td>NaN</td>\n",
       "      <td>4.5794</td>\n",
       "      <td>0.356451</td>\n",
       "      <td>19.573999</td>\n",
       "      <td>19.809999</td>\n",
       "      <td>23.299999</td>\n",
       "      <td>20.847700</td>\n",
       "      <td>20.488501</td>\n",
       "      <td>20.176201</td>\n",
       "      <td>21.400000</td>\n",
       "      <td>17.450001</td>\n",
       "      <td>17.24</td>\n",
       "      <td>16.59</td>\n",
       "      <td>16.67</td>\n",
       "      <td>14.62</td>\n",
       "    </tr>\n",
       "    <tr>\n",
       "      <th>9293722</th>\n",
       "      <td>J133450.72+553359.4</td>\n",
       "      <td>203.711365</td>\n",
       "      <td>55.566509</td>\n",
       "      <td></td>\n",
       "      <td>7</td>\n",
       "      <td>NaN</td>\n",
       "      <td>0</td>\n",
       "      <td>0</td>\n",
       "      <td>0.499973</td>\n",
       "      <td>0.287493</td>\n",
       "      <td>0</td>\n",
       "      <td>0</td>\n",
       "      <td>0</td>\n",
       "      <td>0.155147</td>\n",
       "      <td>0.175587</td>\n",
       "      <td>0</td>\n",
       "      <td>0</td>\n",
       "      <td>0</td>\n",
       "      <td>0.077569</td>\n",
       "      <td>0.050480</td>\n",
       "      <td>NaN</td>\n",
       "      <td>4.5748</td>\n",
       "      <td>0.356451</td>\n",
       "      <td>19.518000</td>\n",
       "      <td>19.809999</td>\n",
       "      <td>23.299999</td>\n",
       "      <td>21.164700</td>\n",
       "      <td>20.860201</td>\n",
       "      <td>20.586800</td>\n",
       "      <td>21.400000</td>\n",
       "      <td>17.450001</td>\n",
       "      <td>17.24</td>\n",
       "      <td>16.59</td>\n",
       "      <td>16.67</td>\n",
       "      <td>14.62</td>\n",
       "    </tr>\n",
       "    <tr>\n",
       "      <th>11338421</th>\n",
       "      <td>J123032.88+554035.8</td>\n",
       "      <td>187.637024</td>\n",
       "      <td>55.676613</td>\n",
       "      <td></td>\n",
       "      <td>7</td>\n",
       "      <td>NaN</td>\n",
       "      <td>0</td>\n",
       "      <td>0</td>\n",
       "      <td>0.499976</td>\n",
       "      <td>0.310693</td>\n",
       "      <td>0</td>\n",
       "      <td>0</td>\n",
       "      <td>0</td>\n",
       "      <td>0.159336</td>\n",
       "      <td>0.179659</td>\n",
       "      <td>0</td>\n",
       "      <td>0</td>\n",
       "      <td>0</td>\n",
       "      <td>0.079664</td>\n",
       "      <td>0.055819</td>\n",
       "      <td>NaN</td>\n",
       "      <td>4.5746</td>\n",
       "      <td>0.356451</td>\n",
       "      <td>19.522999</td>\n",
       "      <td>19.809999</td>\n",
       "      <td>23.299999</td>\n",
       "      <td>21.266899</td>\n",
       "      <td>20.985399</td>\n",
       "      <td>20.748100</td>\n",
       "      <td>21.400000</td>\n",
       "      <td>17.450001</td>\n",
       "      <td>17.24</td>\n",
       "      <td>16.59</td>\n",
       "      <td>16.67</td>\n",
       "      <td>14.62</td>\n",
       "    </tr>\n",
       "  </tbody>\n",
       "</table>\n",
       "</div>"
      ],
      "text/plain": [
       "                         Name     RA_ICRS    DE_ICRS TYPE  band_num  class  \\\n",
       "7355795   J133422.63+475033.4  203.594269  47.842628   QX         8    1.0   \n",
       "3226938   J111714.13+540919.4  169.308868  54.155396    Q         8    1.0   \n",
       "4264628   J141000.75+460134.5  212.503098  46.026260              6    NaN   \n",
       "9544254   J132514.21+534447.1  201.309235  53.746429              6    NaN   \n",
       "10831188  J124400.05+553406.8  191.000183  55.568558    Q         8    1.0   \n",
       "13292816  J143508.80+485521.4  218.786652  48.922630    Q         8    1.0   \n",
       "12355845  J144321.14+501908.4  220.838120  50.319016              5    NaN   \n",
       "13669337  J143442.05+532102.5  218.675201  53.350716              7    NaN   \n",
       "3108302   J111513.19+532105.5  168.804932  53.351532              7    NaN   \n",
       "5398215   J140947.84+514530.7  212.449341  51.758556              5    NaN   \n",
       "4518752   J143002.80+484217.8  217.511658  48.704964              7    NaN   \n",
       "1567323   J115923.35+535946.8  179.847290  53.996323              7    NaN   \n",
       "13674939  J142647.98+521912.6  216.699905  52.320179              5    NaN   \n",
       "9293722   J133450.72+553359.4  203.711365  55.566509              7    NaN   \n",
       "11338421  J123032.88+554035.8  187.637024  55.676613              7    NaN   \n",
       "\n",
       "          pred_class  pred_class_cal  Score_AGN  Prob_AGN  LOFAR_detect  \\\n",
       "7355795            1               1   0.500056  0.892290             1   \n",
       "3226938            1               1   0.500068  0.926060             1   \n",
       "4264628            0               0   0.499961  0.204968             0   \n",
       "9544254            0               1   0.500007  0.579070             0   \n",
       "10831188           1               1   0.500053  0.880950             0   \n",
       "13292816           1               1   0.500043  0.833659             0   \n",
       "12355845           0               1   0.500007  0.579070             0   \n",
       "13669337           0               0   0.499916  0.046814             0   \n",
       "3108302            0               0   0.499973  0.282964             0   \n",
       "5398215            0               0   0.499945  0.123539             0   \n",
       "4518752            0               0   0.499976  0.305801             0   \n",
       "1567323            0               0   0.499976  0.309057             0   \n",
       "13674939           0               0   0.499938  0.100962             0   \n",
       "9293722            0               0   0.499973  0.287493             0   \n",
       "11338421           0               0   0.499976  0.310693             0   \n",
       "\n",
       "          pred_radio_AGN  pred_radio_cal_AGN  Score_radio_AGN  Prob_radio_AGN  \\\n",
       "7355795                0                   0         0.048814        0.062214   \n",
       "3226938                0                   1         0.208025        0.225272   \n",
       "4264628                0                   1         0.248813        0.261320   \n",
       "9544254                0                   1         0.351672        0.345250   \n",
       "10831188               0                   1         0.736330        0.616554   \n",
       "13292816               0                   0         0.131533        0.152147   \n",
       "12355845               0                   1         0.937123        0.794128   \n",
       "13669337               0                   1         0.438486        0.410208   \n",
       "3108302                0                   0         0.089812        0.108494   \n",
       "5398215                0                   1         0.305554        0.308715   \n",
       "4518752                0                   0         0.108025        0.127930   \n",
       "1567323                0                   1         0.214392        0.231020   \n",
       "13674939               0                   1         0.188988        0.207798   \n",
       "9293722                0                   0         0.155147        0.175587   \n",
       "11338421               0                   0         0.159336        0.179659   \n",
       "\n",
       "          radio_AGN  pred_radio_AGN  pred_prob_rAGN  Score_rAGN  Prob_rAGN  \\\n",
       "7355795           1               0               0    0.024410   0.055513   \n",
       "3226938           1               0               1    0.104026   0.208615   \n",
       "4264628           0               0               0    0.124397   0.053562   \n",
       "9544254           0               0               1    0.175838   0.199924   \n",
       "10831188          0               0               1    0.368204   0.543153   \n",
       "13292816          0               0               0    0.065772   0.126839   \n",
       "12355845          0               0               1    0.468568   0.459856   \n",
       "13669337          0               0               0    0.219206   0.019203   \n",
       "3108302           0               0               0    0.044904   0.030700   \n",
       "5398215           0               0               0    0.152760   0.038138   \n",
       "4518752           0               0               0    0.054010   0.039121   \n",
       "1567323           0               0               0    0.107191   0.071398   \n",
       "13674939          0               0               0    0.094482   0.020980   \n",
       "9293722           0               0               0    0.077569   0.050480   \n",
       "11338421          0               0               0    0.079664   0.055819   \n",
       "\n",
       "              Z  pred_Z_rAGN  Sint_LOFAR   W1mproPM   W2mproPM       gmag  \\\n",
       "7355795   4.958       4.7955    5.400000  18.983999  19.130001  23.299999   \n",
       "3226938   4.700       4.7479    0.600000  19.456999  19.754002  23.299999   \n",
       "4264628     NaN       4.7153    0.356451  19.681999  19.809999  23.299999   \n",
       "9544254     NaN       4.7114    0.356451  18.823999  19.125999  23.299999   \n",
       "10831188  4.623       4.6540    0.356451  18.931999  19.226000  23.299999   \n",
       "13292816  4.776       4.6515    0.356451  19.424000  19.650002  23.299999   \n",
       "12355845    NaN       4.6064    0.356451  19.511999  19.809999  23.299999   \n",
       "13669337    NaN       4.5943    0.356451  19.473999  19.809999  23.299999   \n",
       "3108302     NaN       4.5863    0.356451  19.511000  19.809999  23.299999   \n",
       "5398215     NaN       4.5842    0.356451  19.552999  19.809999  23.299999   \n",
       "4518752     NaN       4.5840    0.356451  19.548000  19.809999  23.299999   \n",
       "1567323     NaN       4.5801    0.356451  19.532999  19.809999  23.299999   \n",
       "13674939    NaN       4.5794    0.356451  19.573999  19.809999  23.299999   \n",
       "9293722     NaN       4.5748    0.356451  19.518000  19.809999  23.299999   \n",
       "11338421    NaN       4.5746    0.356451  19.522999  19.809999  23.299999   \n",
       "\n",
       "               rmag       imag       zmag       ymag       Jmag   Hmag   Kmag  \\\n",
       "7355795   20.933100  19.620399  19.306101  19.200300  17.450001  17.24  16.59   \n",
       "3226938   21.331800  20.118099  19.834101  19.797501  17.450001  17.24  16.59   \n",
       "4264628   20.781799  19.471001  19.164101  19.027300  17.450001  17.24  16.59   \n",
       "9544254   20.935801  19.635599  19.379000  19.478600  17.450001  17.24  16.59   \n",
       "10831188  21.077101  19.595501  19.544100  19.271700  17.450001  17.24  16.59   \n",
       "13292816  21.011400  19.706301  19.509300  19.394300  17.450001  17.24  16.59   \n",
       "12355845  21.092501  19.449699  19.490801  21.400000  17.450001  17.24  16.59   \n",
       "13669337  20.897600  20.666800  20.399200  21.400000  17.450001  17.24  16.59   \n",
       "3108302   20.940901  20.626600  20.388500  21.400000  17.450001  17.24  16.59   \n",
       "5398215   21.259800  20.958599  20.683599  21.400000  17.450001  17.24  16.59   \n",
       "4518752   21.211399  20.887600  20.629299  21.400000  17.450001  17.24  16.59   \n",
       "1567323   21.272100  20.964399  20.689400  21.400000  17.450001  17.24  16.59   \n",
       "13674939  20.847700  20.488501  20.176201  21.400000  17.450001  17.24  16.59   \n",
       "9293722   21.164700  20.860201  20.586800  21.400000  17.450001  17.24  16.59   \n",
       "11338421  21.266899  20.985399  20.748100  21.400000  17.450001  17.24  16.59   \n",
       "\n",
       "          W3mag  W4mag  \n",
       "7355795   16.67  14.62  \n",
       "3226938   16.67  14.62  \n",
       "4264628   16.67  14.62  \n",
       "9544254   16.67  14.62  \n",
       "10831188  16.67  14.62  \n",
       "13292816  16.67  14.62  \n",
       "12355845  16.67  14.62  \n",
       "13669337  16.67  14.62  \n",
       "3108302   16.67  14.62  \n",
       "5398215   16.67  14.62  \n",
       "4518752   16.67  14.62  \n",
       "1567323   16.67  14.62  \n",
       "13674939  16.67  14.62  \n",
       "9293722   16.67  14.62  \n",
       "11338421  16.67  14.62  "
      ]
     },
     "metadata": {},
     "output_type": "display_data"
    }
   ],
   "source": [
    "display(full_catalog_df.loc[filter_high_z, cols_4_export].sort_values(by=['pred_Z_rAGN'], ascending=False).head(15))"
   ]
  },
  {
   "cell_type": "code",
   "execution_count": 44,
   "metadata": {},
   "outputs": [
    {
     "name": "stdout",
     "output_type": "stream",
     "text": [
      "Data from HETDEX saved in files pred_rAGN/predicted_rAGN_HETDEX.csv and pred_rAGN/predicted_rAGN_HETDEX.parquet.\n",
      "Each file contains 15136878 entries.\n"
     ]
    }
   ],
   "source": [
    "if save_preds_flag:\n",
    "    saving_data_pred       = full_catalog_df.loc[:, cols_2_save_preds]\n",
    "    # full_catalog_df.loc[filter_high_z, cols_4_export].sort_values(by=['pred_Z_rAGN'],\n",
    "    #  ascending=False).to_csv(gv.preds_path + f'predicted_rAGN_{used_area}.csv', index_label='ID')\n",
    "    file_name_csv  = gv.preds_path + f'predicted_rAGN_{used_area}.csv'\n",
    "    file_name_prqt = gv.preds_path + f'predicted_rAGN_{used_area}.parquet'\n",
    "    saving_data_pred.to_csv(file_name_csv, index_label='ID')\n",
    "    # saving_data_pred['ID'] = saving_data_pred.index\n",
    "    saving_data_pred.to_parquet(file_name_prqt, index=True, engine='fastparquet')\n",
    "    print(f'Data from {used_area} saved in files {file_name_csv} and {file_name_prqt}.')\n",
    "    print(f'Each file contains {len(saving_data_pred)} entries.')"
   ]
  },
  {
   "cell_type": "markdown",
   "metadata": {},
   "source": [
    "---"
   ]
  },
  {
   "cell_type": "code",
   "execution_count": 45,
   "metadata": {},
   "outputs": [],
   "source": [
    "temp_flag = False"
   ]
  },
  {
   "cell_type": "code",
   "execution_count": 46,
   "metadata": {},
   "outputs": [],
   "source": [
    "if temp_flag:\n",
    "    cols_AGN   = ['g_r', 'r_i', 'r_J', 'i_z', 'i_y', \n",
    "                  'z_y', 'z_W2', 'y_J', 'y_W1', 'y_W2', 'J_H', 'H_K', \n",
    "                  'H_W3', 'W1_W2', 'W1_W3', 'W3_W4']  # Only colours (no 'band_num', 'W4mag')\n",
    "    cols_radio = ['g_r', 'g_i', 'r_i', 'r_z', 'i_z', \n",
    "                  'z_y', 'z_W1', 'y_J', 'y_W1', 'J_H', 'H_K', 'K_W3', \n",
    "                  'K_W4', 'W1_W2', 'W2_W3']  # Only colours (no 'band_num', 'W4mag')\n",
    "    cols_z     = ['g_r', 'g_W3', 'r_i', 'r_z', 'i_z', \n",
    "                  'i_y', 'z_y', 'y_J', 'y_W1', 'J_H', 'H_K', 'K_W3', \n",
    "                  'K_W4', 'W1_W2', 'W2_W3']  # Only colours (no 'band_num', 'W4mag')\n",
    "    \n",
    "    cols_cols = list(np.unique(cols_AGN + cols_radio + cols_z))"
   ]
  },
  {
   "cell_type": "code",
   "execution_count": 47,
   "metadata": {},
   "outputs": [],
   "source": [
    "if temp_flag:\n",
    "    \n",
    "    add_columns  = ['band_num', 'class', 'pred_class_cal', 'Score_AGN', 'Prob_AGN', \n",
    "                    'LOFAR_detect', 'pred_radio_cal_AGN', 'Score_radio_AGN', 'Prob_radio_AGN', \n",
    "                    'radio_AGN', 'pred_prob_rAGN', 'Score_rAGN', 'Prob_rAGN', 'Z', 'pred_Z_rAGN']\n",
    "    used_colours = cols_cols"
   ]
  },
  {
   "cell_type": "code",
   "execution_count": 48,
   "metadata": {},
   "outputs": [],
   "source": [
    "if temp_flag:\n",
    "    saving_data = full_catalog_df.loc[:, add_columns + cols_photo + used_colours]\n",
    "    saving_data['ID'] = saving_data.index\n",
    "    file_name         = gv.preds_path + f'{used_area}_for_prediction.h5'\n",
    "    file_name_pqt     = gv.preds_path + f'{used_area}_for_prediction.parquet'\n",
    "    saving_data.to_hdf(file_name, key='df')\n",
    "    saving_data.to_parquet(file_name_pqt, index=True, engine='fastparquet')\n",
    "    print(f'Data from {used_area} saved in files {file_name} and {file_name_pqt}')"
   ]
  },
  {
   "cell_type": "code",
   "execution_count": 49,
   "metadata": {},
   "outputs": [],
   "source": [
    "save_full_flag = False"
   ]
  },
  {
   "cell_type": "code",
   "execution_count": 50,
   "metadata": {},
   "outputs": [
    {
     "data": {
      "text/plain": [
       "array(['RA_ICRS', 'DE_ICRS', 'Name', 'TYPE', 'Z', 'zsp', 'spCl',\n",
       "       'band_num', 'LOFAR_detect', 'Sint_LOFAR', 'Sint_LOFAR_AB',\n",
       "       'Speak_LOFAR', 'rms_LOFAR', 'Sint_LOFAR_non_imp',\n",
       "       'Sint_LOFAR_AB_non_imp', 'Speak_LOFAR_non_imp', 'is_str',\n",
       "       'is_SDSS_QSO', 'is_AGN', 'is_SDSS_gal', 'is_gal', 'W1mproPM',\n",
       "       'W2mproPM', 'gmag', 'rmag', 'imag', 'zmag', 'ymag', 'W3mag',\n",
       "       'W4mag', 'Jmag', 'Hmag', 'Kmag', 'g_r', 'g_i', 'g_z', 'g_y', 'g_J',\n",
       "       'g_H', 'g_K', 'g_W1', 'g_W2', 'g_W3', 'g_W4', 'r_i', 'r_z', 'r_y',\n",
       "       'r_J', 'r_H', 'r_K', 'r_W1', 'r_W2', 'r_W3', 'r_W4', 'i_z', 'i_y',\n",
       "       'i_J', 'i_H', 'i_K', 'i_W1', 'i_W2', 'i_W3', 'i_W4', 'z_y', 'z_J',\n",
       "       'z_H', 'z_K', 'z_W1', 'z_W2', 'z_W3', 'z_W4', 'y_J', 'y_H', 'y_K',\n",
       "       'y_W1', 'y_W2', 'y_W3', 'y_W4', 'J_H', 'J_K', 'J_W1', 'J_W2',\n",
       "       'J_W3', 'J_W4', 'H_K', 'H_W1', 'H_W2', 'H_W3', 'H_W4', 'K_W1',\n",
       "       'K_W2', 'K_W3', 'K_W4', 'W1_W2', 'W1_W3', 'W1_W4', 'W2_W3',\n",
       "       'W2_W4', 'W3_W4', 'class', 'radio_AGN', 'pred_class', 'Score_AGN',\n",
       "       'Prob_AGN', 'pred_class_cal', 'pred_radio_AGN', 'Score_radio_AGN',\n",
       "       'Prob_radio_AGN', 'pred_radio_cal_AGN', 'pred_Z_rAGN',\n",
       "       'Score_rAGN', 'pred_prob_rAGN', 'Prob_rAGN', 'Delta_z_N',\n",
       "       'sigma_NMAD'], dtype=object)"
      ]
     },
     "execution_count": 50,
     "metadata": {},
     "output_type": "execute_result"
    }
   ],
   "source": [
    "np.array(full_catalog_df.columns)"
   ]
  },
  {
   "cell_type": "code",
   "execution_count": 51,
   "metadata": {},
   "outputs": [],
   "source": [
    "if save_full_flag:\n",
    "    if used_area == 'S82':\n",
    "        cols_2_save = ['RA_ICRS', 'DE_ICRS', 'Name', 'TYPE', 'Z', 'band_num', 'Fint_VLAS82', \n",
    "                       'Fint_VLAS82_AB', 'Fint_VLAS82_non_imp', 'is_str', 'W1mproPM', \n",
    "                       'W2mproPM', 'gmag', 'rmag', 'imag', 'zmag', 'ymag', 'W3mag', 'W4mag', 'Jmag', \n",
    "                       'Hmag', 'Kmag', 'g_r', 'g_i', 'g_z', 'g_y', 'g_J', 'g_H', 'g_K', 'g_W1', \n",
    "                       'g_W2', 'g_W3', 'g_W4', 'r_i', 'r_z', 'r_y', 'r_J', 'r_H', 'r_K', 'r_W1', \n",
    "                       'r_W2', 'r_W3', 'r_W4', 'i_z', 'i_y', 'i_J', 'i_H', 'i_K', 'i_W1', 'i_W2', \n",
    "                       'i_W3', 'i_W4', 'z_y', 'z_J', 'z_H', 'z_K', 'z_W1', 'z_W2', 'z_W3', 'z_W4', \n",
    "                       'y_J', 'y_H', 'y_K', 'y_W1', 'y_W2', 'y_W3', 'y_W4', 'J_H', 'J_K', 'J_W1', \n",
    "                       'J_W2', 'J_W3', 'J_W4', 'H_K', 'H_W1', 'H_W2', 'H_W3', 'H_W4', 'K_W1', \n",
    "                       'K_W2', 'K_W3', 'K_W4', 'W1_W2', 'W1_W3', 'W1_W4', 'W2_W3', 'W2_W4', 'W3_W4', \n",
    "                       'LOFAR_detect', 'class', 'radio_AGN', 'Prob_AGN', 'Prob_radio_AGN', \n",
    "                       'pred_Z_rAGN', 'pred_class_cal', 'pred_radio_cal_AGN', 'pred_prob_rAGN', 'Prob_rAGN']  # 'rms_VLAS82'\n",
    "    if used_area == 'HETDEX':\n",
    "        cols_2_save = ['RA_ICRS', 'DE_ICRS', 'Name', 'TYPE', 'Z', 'band_num', 'Sint_LOFAR', \n",
    "                       'Sint_LOFAR_AB', 'Sint_LOFAR_non_imp', 'rms_LOFAR', 'Speak_LOFAR', \n",
    "                       'Speak_LOFAR_non_imp', 'is_str', 'W1mproPM', 'W2mproPM', 'gmag', 'rmag', \n",
    "                       'imag', 'zmag', 'ymag', 'W3mag', 'W4mag', 'Jmag', 'Hmag', 'Kmag', 'g_r', \n",
    "                       'g_i', 'g_z', 'g_y', 'g_J', 'g_H', 'g_K', 'g_W1', 'g_W2', 'g_W3', 'g_W4', \n",
    "                       'r_i', 'r_z', 'r_y', 'r_J', 'r_H', 'r_K', 'r_W1', 'r_W2', 'r_W3', 'r_W4', \n",
    "                       'i_z','i_y', 'i_J', 'i_H', 'i_K', 'i_W1', 'i_W2', 'i_W3', 'i_W4', 'z_y', \n",
    "                       'z_J', 'z_H', 'z_K', 'z_W1', 'z_W2', 'z_W3', 'z_W4', 'y_J', 'y_H', 'y_K', \n",
    "                       'y_W1', 'y_W2', 'y_W3', 'y_W4', 'J_H', 'J_K', 'J_W1', 'J_W2', 'J_W3', 'J_W4', \n",
    "                       'H_K', 'H_W1', 'H_W2', 'H_W3', 'H_W4', 'K_W1', 'K_W2', 'K_W3', 'K_W4', \n",
    "                       'W1_W2', 'W1_W3', 'W1_W4', 'W2_W3', 'W2_W4', 'W3_W4', 'LOFAR_detect', \n",
    "                       'class', 'radio_AGN', 'Prob_AGN', 'Prob_radio_AGN', 'pred_Z_rAGN', \n",
    "                       'pred_class_cal', 'pred_radio_cal_AGN', 'pred_prob_rAGN', 'Prob_rAGN']"
   ]
  },
  {
   "cell_type": "code",
   "execution_count": 52,
   "metadata": {},
   "outputs": [
    {
     "name": "stdout",
     "output_type": "stream",
     "text": [
      "File pred_rAGN/HETDEX_full_prediction.h5 saved\n",
      "File pred_rAGN/HETDEX_full_prediction.parquet saved\n"
     ]
    }
   ],
   "source": [
    "if save_full_flag:\n",
    "    saving_data_full       = full_catalog_df.loc[:, cols_2_save]\n",
    "    saving_data_full['ID'] = saving_data_full.index\n",
    "    try:\n",
    "        saving_data_full.to_hdf(gv.preds_path + f'{used_area}_full_prediction.h5', key='df')\n",
    "        print(f'File {gv.preds_path}{used_area}_full_prediction.h5 saved')\n",
    "    except:\n",
    "        print(f'File {gv.preds_path}{used_area}_full_prediction.h5 was not saved')\n",
    "    try:\n",
    "        saving_data_full.to_parquet(gv.preds_path + f'{used_area}_full_prediction.parquet', index=True, engine='fastparquet')\n",
    "        print(f'File {gv.preds_path}{used_area}_full_prediction.parquet saved')\n",
    "    except:\n",
    "        print(f'File {gv.preds_path}{used_area}_full_prediction.parquet was not saved')"
   ]
  },
  {
   "cell_type": "code",
   "execution_count": null,
   "metadata": {},
   "outputs": [],
   "source": []
  },
  {
   "cell_type": "code",
   "execution_count": null,
   "metadata": {},
   "outputs": [],
   "source": []
  },
  {
   "cell_type": "code",
   "execution_count": null,
   "metadata": {},
   "outputs": [],
   "source": []
  },
  {
   "cell_type": "code",
   "execution_count": null,
   "metadata": {},
   "outputs": [],
   "source": []
  },
  {
   "cell_type": "code",
   "execution_count": null,
   "metadata": {},
   "outputs": [],
   "source": []
  },
  {
   "cell_type": "code",
   "execution_count": null,
   "metadata": {},
   "outputs": [],
   "source": []
  },
  {
   "cell_type": "code",
   "execution_count": null,
   "metadata": {},
   "outputs": [],
   "source": []
  },
  {
   "cell_type": "code",
   "execution_count": null,
   "metadata": {},
   "outputs": [],
   "source": []
  },
  {
   "cell_type": "code",
   "execution_count": null,
   "metadata": {},
   "outputs": [],
   "source": []
  }
 ],
 "metadata": {
  "kernelspec": {
   "display_name": "Python 3 (ipykernel)",
   "language": "python",
   "name": "python3"
  },
  "language_info": {
   "codemirror_mode": {
    "name": "ipython",
    "version": 3
   },
   "file_extension": ".py",
   "mimetype": "text/x-python",
   "name": "python",
   "nbconvert_exporter": "python",
   "pygments_lexer": "ipython3",
   "version": "3.8.13"
  },
  "vscode": {
   "interpreter": {
    "hash": "1d7c94ac87c57432169d0bc24ce250f6f2e77b44a3b95192eb5ace62cff26777"
   }
  }
 },
 "nbformat": 4,
 "nbformat_minor": 4
}
