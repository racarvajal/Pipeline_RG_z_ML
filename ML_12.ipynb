{
 "cells": [
  {
   "cell_type": "markdown",
   "metadata": {},
   "source": [
    "# Pipeline for High-z Radio Galaxies 12: Create lists (files) with radio AGN candidates"
   ]
  },
  {
   "cell_type": "markdown",
   "metadata": {},
   "source": [
    "## Introduction"
   ]
  },
  {
   "cell_type": "markdown",
   "metadata": {},
   "source": [
    "In this file, three models will be applied consecutively in order to predict  \n",
    "the detection of Radio Galaxies (radio AGN) and their redshift.  \n",
    "\n",
    "In principle, this pipeline should be applied to data in Stripe 82. But  \n",
    "it can be used with any other suitable dataset."
   ]
  },
  {
   "cell_type": "code",
   "execution_count": 1,
   "metadata": {},
   "outputs": [],
   "source": [
    "%matplotlib inline\n",
    "# Static plots\n",
    "#%matplotlib ipympl\n",
    "# Interactive plots\n",
    "import numpy as np\n",
    "import matplotlib as mpl\n",
    "import matplotlib.cm as cm\n",
    "from matplotlib import ticker\n",
    "import matplotlib.pyplot as plt\n",
    "import matplotlib.colors as mcolors\n",
    "import matplotlib.patheffects as mpe\n",
    "import matplotlib.patches as mpatches\n",
    "from matplotlib.ticker import ScalarFormatter\n",
    "from mpl_toolkits.axes_grid1.inset_locator import inset_axes\n",
    "from astropy.visualization import LogStretch, PowerStretch\n",
    "from astropy.visualization.mpl_normalize import ImageNormalize\n",
    "from sklearn.preprocessing import MinMaxScaler\n",
    "from sklearn.metrics import ConfusionMatrixDisplay\n",
    "import sklearn.pipeline\n",
    "import colorcet as cc\n",
    "from pycaret import classification as pyc\n",
    "from pycaret import regression as pyr\n",
    "from joblib import dump, load\n",
    "import pandas as pd\n",
    "import mpl_scatter_density\n",
    "import global_variables as gv\n",
    "import global_functions as gf"
   ]
  },
  {
   "cell_type": "code",
   "execution_count": 2,
   "metadata": {},
   "outputs": [],
   "source": [
    "mpl.rcdefaults()"
   ]
  },
  {
   "cell_type": "markdown",
   "metadata": {},
   "source": [
    "---"
   ]
  },
  {
   "cell_type": "markdown",
   "metadata": {},
   "source": [
    "## Reading data"
   ]
  },
  {
   "cell_type": "markdown",
   "metadata": {
    "tags": []
   },
   "source": [
    "Flags."
   ]
  },
  {
   "cell_type": "code",
   "execution_count": 3,
   "metadata": {},
   "outputs": [],
   "source": [
    "save_plot_flag      = False\n",
    "save_preds_flag     = False\n",
    "load_models_flag    = True\n",
    "predict_only_hi_z   = False\n",
    "use_zeroth_model    = False\n",
    "use_second_z_model  = False  # z >= 3.6 (with SMOGN), or, if needed, z >= 4.0"
   ]
  },
  {
   "cell_type": "code",
   "execution_count": 4,
   "metadata": {},
   "outputs": [],
   "source": [
    "used_area           = 'S82'  # can be 'S82', 'HETDEX', 'COSMOS'"
   ]
  },
  {
   "cell_type": "code",
   "execution_count": 5,
   "metadata": {
    "tags": []
   },
   "outputs": [],
   "source": [
    "file_name_dict      = {'S82': gv.file_S82, 'HETDEX': gv.file_HETDEX, 'COSMOS': gv.file_COSMOS}\n",
    "file_name           = file_name_dict[used_area]"
   ]
  },
  {
   "cell_type": "code",
   "execution_count": 6,
   "metadata": {
    "tags": []
   },
   "outputs": [],
   "source": [
    "feats_2_disc_S82    = ['objID', 'RA_MILLI', 'DEC_MILLI', 'W1mag', 'W2mag', 'num_imputed', 'radio_detect']\n",
    "feats_2_disc_HETDEX = ['objID', 'RA_MILLI', 'DEC_MILLI', 'W1mag', 'W2mag', 'num_imputed', 'radio_detect']\n",
    "feats_2_disc_COSMOS = ['objID', 'RA_MILLI', 'DEC_MILLI', 'W1mag', 'W2mag', 'num_imputed', 'radio_detect', ]\n",
    "\n",
    "feats_2_disc        = {'S82': feats_2_disc_S82, 'HETDEX': feats_2_disc_HETDEX, 'COSMOS': feats_2_disc_COSMOS}\n",
    "features_2_discard  = feats_2_disc[used_area]"
   ]
  },
  {
   "cell_type": "code",
   "execution_count": 7,
   "metadata": {},
   "outputs": [],
   "source": [
    "full_catalog_df     = pd.read_hdf(gv.cat_path + file_name, key='df').drop(columns=features_2_discard)"
   ]
  },
  {
   "cell_type": "code",
   "execution_count": 8,
   "metadata": {
    "jupyter": {
     "source_hidden": true
    }
   },
   "outputs": [],
   "source": [
    "if used_area == 'S82':\n",
    "    full_catalog_df.loc[:, 'LOFAR_detect'] = full_catalog_df.loc[:, 'VLAS82_detect'].copy()\n",
    "    full_catalog_df = full_catalog_df.drop(columns=['VLAS82_detect'])\n",
    "if used_area == 'COSMOS':\n",
    "    full_catalog_df.loc[:, 'LOFAR_detect'] = full_catalog_df.loc[:, 'COSMOSVLA3_detect'].copy()\n",
    "    full_catalog_df = full_catalog_df.drop(columns=['COSMOSVLA3_detect'])"
   ]
  },
  {
   "cell_type": "markdown",
   "metadata": {},
   "source": [
    "Create features with class and combined redshift."
   ]
  },
  {
   "cell_type": "code",
   "execution_count": 9,
   "metadata": {
    "jupyter": {
     "source_hidden": true
    }
   },
   "outputs": [],
   "source": [
    "full_catalog_df['class']            = full_catalog_df.loc[:, 'is_AGN'].copy()\n",
    "filter_non_confirmed                = np.array(full_catalog_df.loc[:, 'is_AGN'] == 1) | np.array(full_catalog_df.loc[:, 'is_gal'] == 1)\n",
    "full_catalog_df.loc[~filter_non_confirmed, 'class'] = np.nan\n",
    "idx_non_Z                           = full_catalog_df.loc[:, 'Z'].where(full_catalog_df.loc[:, 'Z'] > 0).isna()\n",
    "full_catalog_df.loc[idx_non_Z, 'Z'] = full_catalog_df.loc[:, 'Z'].mask(idx_non_Z, full_catalog_df.loc[idx_non_Z, 'zsp'])"
   ]
  },
  {
   "cell_type": "markdown",
   "metadata": {},
   "source": [
    "Create column for detection as Radio AGN"
   ]
  },
  {
   "cell_type": "code",
   "execution_count": 10,
   "metadata": {},
   "outputs": [],
   "source": [
    "full_catalog_df['radio_AGN']      = (np.array(full_catalog_df.loc[:, 'is_AGN'] == 1) &\\\n",
    "                                     np.array(full_catalog_df.loc[:, 'LOFAR_detect'] == 1)).astype(int)"
   ]
  },
  {
   "cell_type": "markdown",
   "metadata": {},
   "source": [
    "Discard minor features."
   ]
  },
  {
   "cell_type": "code",
   "execution_count": 11,
   "metadata": {},
   "outputs": [],
   "source": [
    "full_catalog_df                     = full_catalog_df.drop(columns=['is_AGN', 'is_SDSS_QSO', 'is_SDSS_gal', 'is_gal', 'zsp'])"
   ]
  },
  {
   "cell_type": "markdown",
   "metadata": {},
   "source": [
    "#### As we want to predict, only use sources that have not previous spectroscopic classification"
   ]
  },
  {
   "cell_type": "code",
   "execution_count": 12,
   "metadata": {
    "jupyter": {
     "source_hidden": true
    }
   },
   "outputs": [
    {
     "name": "stdout",
     "output_type": "stream",
     "text": [
      "The used data set (in S82) has 3,590,306 sources.\n",
      "And 21,828 have previous spectroscopic classification.\n"
     ]
    }
   ],
   "source": [
    "print(f'The used data set (in {used_area}) has {len(full_catalog_df):,} sources.')\n",
    "print(f'And {np.sum(filter_non_confirmed):,} have previous spectroscopic classification.')"
   ]
  },
  {
   "cell_type": "code",
   "execution_count": 13,
   "metadata": {},
   "outputs": [],
   "source": [
    "# full_catalog_df                     = full_catalog_df.loc[~filter_non_confirmed]"
   ]
  },
  {
   "cell_type": "code",
   "execution_count": 14,
   "metadata": {
    "jupyter": {
     "source_hidden": true
    }
   },
   "outputs": [
    {
     "name": "stdout",
     "output_type": "stream",
     "text": [
      "This pipeline will predict properties for 3,590,306 sources in S82.\n"
     ]
    }
   ],
   "source": [
    "print(f'This pipeline will predict properties for {len(full_catalog_df):,} sources in {used_area}.')"
   ]
  },
  {
   "cell_type": "markdown",
   "metadata": {},
   "source": [
    "---"
   ]
  },
  {
   "cell_type": "markdown",
   "metadata": {},
   "source": [
    "### Load models"
   ]
  },
  {
   "cell_type": "code",
   "execution_count": 15,
   "metadata": {},
   "outputs": [
    {
     "name": "stdout",
     "output_type": "stream",
     "text": [
      "Transformation Pipeline and Model Successfully Loaded\n",
      "Transformation Pipeline and Model Successfully Loaded\n",
      "Transformation Pipeline and Model Successfully Loaded\n"
     ]
    }
   ],
   "source": [
    "if load_models_flag:\n",
    "    if use_zeroth_model:\n",
    "        star_clf        = pyc.load_model(gv.models_path + gv.star_model)  # star/no-star model\n",
    "        cal_star_clf    = load(gv.models_path + gv.cal_str_model)  # calibrated model\n",
    "    AGN_gal_clf         = pyc.load_model(gv.models_path + gv.AGN_gal_model)  #\n",
    "    cal_AGN_gal_clf     = load(gv.models_path + gv.cal_AGN_gal_model)  # calibrated model\n",
    "    radio_det_clf       = pyc.load_model(gv.models_path + gv.radio_model)  # without predicted AGN\n",
    "    cal_radio_det_clf   = load(gv.models_path + gv.cal_radio_model)  # calibrated model\n",
    "    redshift_reg        = pyr.load_model(gv.models_path + gv.full_z_model)  # to use on full sample\n",
    "    if use_second_z_model:\n",
    "        redshift_reg_2  = pyr.load_model(gv.models_path + gv.high_z_model)  # sources with predicted z >= 3.6"
   ]
  },
  {
   "cell_type": "code",
   "execution_count": 16,
   "metadata": {
    "jupyter": {
     "source_hidden": true
    }
   },
   "outputs": [],
   "source": [
    "full_catalog_df = pyc.predict_model(AGN_gal_clf, data=full_catalog_df, probability_threshold=gv.AGN_thresh, raw_score=True, round=10)\n",
    "full_catalog_df = full_catalog_df.drop(columns=['Score_0'])\n",
    "full_catalog_df = full_catalog_df.rename(columns={'Label': 'pred_class', 'Score_1': 'Score_AGN'})\n",
    "full_catalog_df['Score_AGN'] = np.around(full_catalog_df.loc[:, 'Score_AGN'], decimals=7)\n",
    "pred_probs_AGN  = cal_AGN_gal_clf.predict(full_catalog_df.loc[:, 'Score_AGN'])\n",
    "full_catalog_df['Prob_AGN'] = pred_probs_AGN"
   ]
  },
  {
   "cell_type": "code",
   "execution_count": 17,
   "metadata": {
    "jupyter": {
     "source_hidden": true
    }
   },
   "outputs": [],
   "source": [
    "full_catalog_df = pyc.predict_model(radio_det_clf, data=full_catalog_df, probability_threshold=gv.radio_thresh, raw_score=True, round=10)\n",
    "full_catalog_df = full_catalog_df.drop(columns=['Score_0'])\n",
    "full_catalog_df = full_catalog_df.rename(columns={'Label': 'pred_radio', 'Score_1': 'Score_radio'})\n",
    "full_catalog_df['Score_radio'] = np.around(full_catalog_df.loc[:, 'Score_radio'], decimals=7)\n",
    "pred_probs_rad  = cal_radio_det_clf.predict(full_catalog_df.loc[:, 'Score_radio'])\n",
    "full_catalog_df['Prob_radio'] = pred_probs_rad"
   ]
  },
  {
   "cell_type": "code",
   "execution_count": 18,
   "metadata": {
    "jupyter": {
     "source_hidden": true
    }
   },
   "outputs": [],
   "source": [
    "full_catalog_df = pyr.predict_model(redshift_reg, data=full_catalog_df, round=8)\n",
    "full_catalog_df = full_catalog_df.rename(columns={'Label': 'pred_Z'})\n",
    "full_catalog_df['pred_Z'] = np.around(full_catalog_df.loc[:, 'pred_Z'], decimals=3)"
   ]
  },
  {
   "cell_type": "code",
   "execution_count": 19,
   "metadata": {
    "jupyter": {
     "source_hidden": true
    }
   },
   "outputs": [],
   "source": [
    "redshift_tol    = 0.0\n",
    "if use_second_z_model:\n",
    "    full_catalog_df = pyr.predict_model(redshift_reg_2, data=full_catalog_df, round=6)\n",
    "    filter_pred_z   = full_catalog_df.loc[:, 'pred_Z'] >= (gv.high_z_limit + redshift_tol)\n",
    "    full_catalog_df.loc[:, 'pred_Z'] = full_catalog_df.loc[:, 'pred_Z'].mask(filter_pred_z, full_catalog_df.loc[filter_pred_z, 'Label'])\n",
    "    full_catalog_df = full_catalog_df.drop(columns=['Label'])\n",
    "    full_catalog_df.loc[:, 'pred_Z'] = np.around(full_catalog_df.loc[:, 'pred_Z'], decimals=3)"
   ]
  },
  {
   "cell_type": "code",
   "execution_count": 20,
   "metadata": {
    "jupyter": {
     "source_hidden": true
    }
   },
   "outputs": [],
   "source": [
    "full_catalog_df['pred_prob_class']    = (full_catalog_df.loc[:, 'Prob_AGN']   >= gv.cal_AGN_thresh).astype(int)\n",
    "full_catalog_df['pred_prob_radio']    = (full_catalog_df.loc[:, 'Prob_radio'] >= gv.cal_radio_thresh).astype(int)"
   ]
  },
  {
   "cell_type": "code",
   "execution_count": 21,
   "metadata": {
    "jupyter": {
     "source_hidden": true
    }
   },
   "outputs": [],
   "source": [
    "full_catalog_df['pred_radio_AGN']     = (np.array(full_catalog_df.loc[:, 'pred_class'] == 1) & np.array(full_catalog_df.loc[:, 'pred_radio'] == 1)).astype(int)\n",
    "full_catalog_df['Score_rAGN']         = full_catalog_df.loc[:, 'Score_AGN'] * full_catalog_df.loc[:, 'Score_radio']\n",
    "full_catalog_df['pred_prob_rAGN']     = (np.array(full_catalog_df.loc[:, 'pred_prob_class'] == 1) & np.array(full_catalog_df.loc[:, 'pred_prob_radio'] == 1)).astype(int)\n",
    "full_catalog_df['Prob_rAGN']          = full_catalog_df.loc[:, 'Prob_AGN'] * full_catalog_df.loc[:, 'Prob_radio']\n",
    "\n",
    "rad_score_scaler                      = MinMaxScaler()\n",
    "full_catalog_df['scaled_score_radio'] = rad_score_scaler.fit_transform(full_catalog_df.loc[:, 'Score_radio'].values.reshape(-1, 1))\n",
    "full_catalog_df['scaled_score_rAGN']  = full_catalog_df.loc[:, 'Score_AGN'] * full_catalog_df.loc[:, 'scaled_score_radio']"
   ]
  },
  {
   "cell_type": "code",
   "execution_count": 22,
   "metadata": {
    "jupyter": {
     "source_hidden": true
    }
   },
   "outputs": [
    {
     "data": {
      "text/html": [
       "<div>\n",
       "<style scoped>\n",
       "    .dataframe tbody tr th:only-of-type {\n",
       "        vertical-align: middle;\n",
       "    }\n",
       "\n",
       "    .dataframe tbody tr th {\n",
       "        vertical-align: top;\n",
       "    }\n",
       "\n",
       "    .dataframe thead th {\n",
       "        text-align: right;\n",
       "    }\n",
       "</style>\n",
       "<table border=\"1\" class=\"dataframe\">\n",
       "  <thead>\n",
       "    <tr style=\"text-align: right;\">\n",
       "      <th></th>\n",
       "      <th>class</th>\n",
       "      <th>pred_prob_class</th>\n",
       "      <th>LOFAR_detect</th>\n",
       "      <th>pred_prob_radio</th>\n",
       "      <th>Z</th>\n",
       "      <th>pred_Z</th>\n",
       "    </tr>\n",
       "  </thead>\n",
       "  <tbody>\n",
       "    <tr>\n",
       "      <th>count</th>\n",
       "      <td>21828.000000</td>\n",
       "      <td>3.590306e+06</td>\n",
       "      <td>3.590306e+06</td>\n",
       "      <td>3.590306e+06</td>\n",
       "      <td>23130.000000</td>\n",
       "      <td>3.590306e+06</td>\n",
       "    </tr>\n",
       "    <tr>\n",
       "      <th>mean</th>\n",
       "      <td>0.812855</td>\n",
       "      <td>5.825665e-01</td>\n",
       "      <td>2.436283e-03</td>\n",
       "      <td>1.362499e-01</td>\n",
       "      <td>1.305753</td>\n",
       "      <td>1.977057e+00</td>\n",
       "    </tr>\n",
       "    <tr>\n",
       "      <th>std</th>\n",
       "      <td>0.390037</td>\n",
       "      <td>4.931357e-01</td>\n",
       "      <td>4.929856e-02</td>\n",
       "      <td>3.430538e-01</td>\n",
       "      <td>0.833161</td>\n",
       "      <td>6.022646e-01</td>\n",
       "    </tr>\n",
       "    <tr>\n",
       "      <th>min</th>\n",
       "      <td>0.000000</td>\n",
       "      <td>0.000000e+00</td>\n",
       "      <td>0.000000e+00</td>\n",
       "      <td>0.000000e+00</td>\n",
       "      <td>-0.007680</td>\n",
       "      <td>1.700000e-02</td>\n",
       "    </tr>\n",
       "    <tr>\n",
       "      <th>25%</th>\n",
       "      <td>1.000000</td>\n",
       "      <td>0.000000e+00</td>\n",
       "      <td>0.000000e+00</td>\n",
       "      <td>0.000000e+00</td>\n",
       "      <td>0.701000</td>\n",
       "      <td>1.777000e+00</td>\n",
       "    </tr>\n",
       "    <tr>\n",
       "      <th>50%</th>\n",
       "      <td>1.000000</td>\n",
       "      <td>1.000000e+00</td>\n",
       "      <td>0.000000e+00</td>\n",
       "      <td>0.000000e+00</td>\n",
       "      <td>1.203000</td>\n",
       "      <td>2.129000e+00</td>\n",
       "    </tr>\n",
       "    <tr>\n",
       "      <th>75%</th>\n",
       "      <td>1.000000</td>\n",
       "      <td>1.000000e+00</td>\n",
       "      <td>0.000000e+00</td>\n",
       "      <td>0.000000e+00</td>\n",
       "      <td>1.827000</td>\n",
       "      <td>2.129000e+00</td>\n",
       "    </tr>\n",
       "    <tr>\n",
       "      <th>max</th>\n",
       "      <td>1.000000</td>\n",
       "      <td>1.000000e+00</td>\n",
       "      <td>1.000000e+00</td>\n",
       "      <td>1.000000e+00</td>\n",
       "      <td>7.011240</td>\n",
       "      <td>4.739000e+00</td>\n",
       "    </tr>\n",
       "  </tbody>\n",
       "</table>\n",
       "</div>"
      ],
      "text/plain": [
       "              class  pred_prob_class  LOFAR_detect  pred_prob_radio  \\\n",
       "count  21828.000000     3.590306e+06  3.590306e+06     3.590306e+06   \n",
       "mean       0.812855     5.825665e-01  2.436283e-03     1.362499e-01   \n",
       "std        0.390037     4.931357e-01  4.929856e-02     3.430538e-01   \n",
       "min        0.000000     0.000000e+00  0.000000e+00     0.000000e+00   \n",
       "25%        1.000000     0.000000e+00  0.000000e+00     0.000000e+00   \n",
       "50%        1.000000     1.000000e+00  0.000000e+00     0.000000e+00   \n",
       "75%        1.000000     1.000000e+00  0.000000e+00     0.000000e+00   \n",
       "max        1.000000     1.000000e+00  1.000000e+00     1.000000e+00   \n",
       "\n",
       "                  Z        pred_Z  \n",
       "count  23130.000000  3.590306e+06  \n",
       "mean       1.305753  1.977057e+00  \n",
       "std        0.833161  6.022646e-01  \n",
       "min       -0.007680  1.700000e-02  \n",
       "25%        0.701000  1.777000e+00  \n",
       "50%        1.203000  2.129000e+00  \n",
       "75%        1.827000  2.129000e+00  \n",
       "max        7.011240  4.739000e+00  "
      ]
     },
     "execution_count": 22,
     "metadata": {},
     "output_type": "execute_result"
    }
   ],
   "source": [
    "full_catalog_df.loc[:, ['class', 'pred_prob_class', 'LOFAR_detect', 'pred_prob_radio', 'Z', 'pred_Z']].describe()"
   ]
  },
  {
   "cell_type": "markdown",
   "metadata": {},
   "source": [
    "Obtain intermediate metrics"
   ]
  },
  {
   "cell_type": "code",
   "execution_count": 23,
   "metadata": {
    "jupyter": {
     "source_hidden": true
    }
   },
   "outputs": [],
   "source": [
    "filter_radio_AGN_t      = np.array(full_catalog_df.loc[:, 'class'] == 1) & np.array(full_catalog_df.loc[:, 'LOFAR_detect'] == 1)\n",
    "filter_gal_AGN_t        = np.array(full_catalog_df.loc[:, 'class'] == 0) | np.array(full_catalog_df.loc[:, 'class'] == 1)\n",
    "total_size              = len(full_catalog_df)\n",
    "filter_AGN_t            = np.array(full_catalog_df.loc[:, 'class'] == 1)\n",
    "num_AGN_t               = np.sum(filter_AGN_t)\n",
    "num_gal_t               = np.sum(np.array(full_catalog_df.loc[:, 'class'] == 0))\n",
    "num_radio_t             = np.sum(np.array(full_catalog_df.loc[:, 'LOFAR_detect'] == 1))\n",
    "num_radio_AGN_t         = np.sum(filter_radio_AGN_t)"
   ]
  },
  {
   "cell_type": "code",
   "execution_count": 24,
   "metadata": {
    "jupyter": {
     "source_hidden": true
    }
   },
   "outputs": [],
   "source": [
    "# filter_radio_AGN_p      = np.array(full_catalog_df.loc[:, 'Score_AGN']          >= threshold_AGN) &\\\n",
    "#                             np.array(full_catalog_df.loc[:, 'Score_radio']      >= threshold_radio)\n",
    "filter_radio_AGN_p      = np.array(full_catalog_df.loc[:, 'pred_prob_class']      == 1) &\\\n",
    "                            np.array(full_catalog_df.loc[:, 'pred_prob_radio']    == 1)\n",
    "filt_hiz_rAGN_p         = filter_radio_AGN_p * np.array(full_catalog_df.loc[:, 'pred_Z'] >= gv.high_z_limit)\n",
    "filter_AGN_p            = np.array(full_catalog_df.loc[:, 'pred_prob_class']      == 1)\n",
    "filter_radio_p          = np.array(full_catalog_df.loc[:, 'pred_prob_radio']      == 1)\n",
    "num_AGN_p               = np.sum(filter_AGN_p)\n",
    "num_gal_p               = np.sum(np.array(full_catalog_df.loc[:, 'pred_prob_class'] == 0))\n",
    "num_radio_p             = np.sum(filter_radio_p)\n",
    "num_radio_AGN_p         = np.sum(filter_radio_AGN_p)"
   ]
  },
  {
   "cell_type": "markdown",
   "metadata": {},
   "source": [
    "### Select sources predicted to be Radio AGN (optional)"
   ]
  },
  {
   "cell_type": "code",
   "execution_count": 25,
   "metadata": {},
   "outputs": [],
   "source": [
    "# full_catalog_df         = full_catalog_df.loc[filter_radio_AGN_p]"
   ]
  },
  {
   "cell_type": "code",
   "execution_count": 26,
   "metadata": {
    "jupyter": {
     "source_hidden": true
    }
   },
   "outputs": [
    {
     "data": {
      "text/html": [
       "<div>\n",
       "<style scoped>\n",
       "    .dataframe tbody tr th:only-of-type {\n",
       "        vertical-align: middle;\n",
       "    }\n",
       "\n",
       "    .dataframe tbody tr th {\n",
       "        vertical-align: top;\n",
       "    }\n",
       "\n",
       "    .dataframe thead th {\n",
       "        text-align: right;\n",
       "    }\n",
       "</style>\n",
       "<table border=\"1\" class=\"dataframe\">\n",
       "  <thead>\n",
       "    <tr style=\"text-align: right;\">\n",
       "      <th></th>\n",
       "      <th>class</th>\n",
       "      <th>pred_prob_class</th>\n",
       "      <th>LOFAR_detect</th>\n",
       "      <th>pred_prob_radio</th>\n",
       "      <th>Z</th>\n",
       "      <th>pred_Z</th>\n",
       "    </tr>\n",
       "  </thead>\n",
       "  <tbody>\n",
       "    <tr>\n",
       "      <th>count</th>\n",
       "      <td>21828.000000</td>\n",
       "      <td>3.590306e+06</td>\n",
       "      <td>3.590306e+06</td>\n",
       "      <td>3.590306e+06</td>\n",
       "      <td>23130.000000</td>\n",
       "      <td>3.590306e+06</td>\n",
       "    </tr>\n",
       "    <tr>\n",
       "      <th>mean</th>\n",
       "      <td>0.812855</td>\n",
       "      <td>5.825665e-01</td>\n",
       "      <td>2.436283e-03</td>\n",
       "      <td>1.362499e-01</td>\n",
       "      <td>1.305753</td>\n",
       "      <td>1.977057e+00</td>\n",
       "    </tr>\n",
       "    <tr>\n",
       "      <th>std</th>\n",
       "      <td>0.390037</td>\n",
       "      <td>4.931357e-01</td>\n",
       "      <td>4.929856e-02</td>\n",
       "      <td>3.430538e-01</td>\n",
       "      <td>0.833161</td>\n",
       "      <td>6.022646e-01</td>\n",
       "    </tr>\n",
       "    <tr>\n",
       "      <th>min</th>\n",
       "      <td>0.000000</td>\n",
       "      <td>0.000000e+00</td>\n",
       "      <td>0.000000e+00</td>\n",
       "      <td>0.000000e+00</td>\n",
       "      <td>-0.007680</td>\n",
       "      <td>1.700000e-02</td>\n",
       "    </tr>\n",
       "    <tr>\n",
       "      <th>25%</th>\n",
       "      <td>1.000000</td>\n",
       "      <td>0.000000e+00</td>\n",
       "      <td>0.000000e+00</td>\n",
       "      <td>0.000000e+00</td>\n",
       "      <td>0.701000</td>\n",
       "      <td>1.777000e+00</td>\n",
       "    </tr>\n",
       "    <tr>\n",
       "      <th>50%</th>\n",
       "      <td>1.000000</td>\n",
       "      <td>1.000000e+00</td>\n",
       "      <td>0.000000e+00</td>\n",
       "      <td>0.000000e+00</td>\n",
       "      <td>1.203000</td>\n",
       "      <td>2.129000e+00</td>\n",
       "    </tr>\n",
       "    <tr>\n",
       "      <th>75%</th>\n",
       "      <td>1.000000</td>\n",
       "      <td>1.000000e+00</td>\n",
       "      <td>0.000000e+00</td>\n",
       "      <td>0.000000e+00</td>\n",
       "      <td>1.827000</td>\n",
       "      <td>2.129000e+00</td>\n",
       "    </tr>\n",
       "    <tr>\n",
       "      <th>max</th>\n",
       "      <td>1.000000</td>\n",
       "      <td>1.000000e+00</td>\n",
       "      <td>1.000000e+00</td>\n",
       "      <td>1.000000e+00</td>\n",
       "      <td>7.011240</td>\n",
       "      <td>4.739000e+00</td>\n",
       "    </tr>\n",
       "  </tbody>\n",
       "</table>\n",
       "</div>"
      ],
      "text/plain": [
       "              class  pred_prob_class  LOFAR_detect  pred_prob_radio  \\\n",
       "count  21828.000000     3.590306e+06  3.590306e+06     3.590306e+06   \n",
       "mean       0.812855     5.825665e-01  2.436283e-03     1.362499e-01   \n",
       "std        0.390037     4.931357e-01  4.929856e-02     3.430538e-01   \n",
       "min        0.000000     0.000000e+00  0.000000e+00     0.000000e+00   \n",
       "25%        1.000000     0.000000e+00  0.000000e+00     0.000000e+00   \n",
       "50%        1.000000     1.000000e+00  0.000000e+00     0.000000e+00   \n",
       "75%        1.000000     1.000000e+00  0.000000e+00     0.000000e+00   \n",
       "max        1.000000     1.000000e+00  1.000000e+00     1.000000e+00   \n",
       "\n",
       "                  Z        pred_Z  \n",
       "count  23130.000000  3.590306e+06  \n",
       "mean       1.305753  1.977057e+00  \n",
       "std        0.833161  6.022646e-01  \n",
       "min       -0.007680  1.700000e-02  \n",
       "25%        0.701000  1.777000e+00  \n",
       "50%        1.203000  2.129000e+00  \n",
       "75%        1.827000  2.129000e+00  \n",
       "max        7.011240  4.739000e+00  "
      ]
     },
     "execution_count": 26,
     "metadata": {},
     "output_type": "execute_result"
    }
   ],
   "source": [
    "full_catalog_df.loc[:, ['class', 'pred_prob_class', 'LOFAR_detect', 'pred_prob_radio', 'Z', 'pred_Z']].describe()"
   ]
  },
  {
   "cell_type": "markdown",
   "metadata": {},
   "source": [
    "Add individual metrics for redshift"
   ]
  },
  {
   "cell_type": "code",
   "execution_count": 27,
   "metadata": {
    "jupyter": {
     "source_hidden": true
    },
    "tags": []
   },
   "outputs": [],
   "source": [
    "full_catalog_df['Delta_z_N'] = np.around((full_catalog_df.loc[:, 'pred_Z'] - full_catalog_df.loc[:, 'Z']) /\\\n",
    "                            (1 + full_catalog_df.loc[:, 'Z']), decimals=3)\n",
    "\n",
    "full_catalog_df['sigma_NMAD'] = np.around(1.48 * np.abs(full_catalog_df.loc[:, 'pred_Z'] - full_catalog_df.loc[:, 'Z']) /\\\n",
    "                            (1 + full_catalog_df.loc[:, 'Z']), decimals=3)"
   ]
  },
  {
   "cell_type": "markdown",
   "metadata": {},
   "source": [
    "Numerical summary."
   ]
  },
  {
   "cell_type": "code",
   "execution_count": 28,
   "metadata": {
    "jupyter": {
     "source_hidden": true
    },
    "tags": []
   },
   "outputs": [],
   "source": [
    "str_0_t   = f'Out of {total_size:,} initial sources in {used_area},\\n'\n",
    "str_1_t   = f'{num_gal_t:,} are confirmed to be galaxies. On the other side,\\n'\n",
    "str_2_t   = f'{num_AGN_t:,} are confirmed to be AGN. And, from the AGN,\\n'\n",
    "str_3_t   = f'{num_radio_AGN_t:,} are detected in radio.'\n",
    "\n",
    "str_0_p   = f'Out of {num_radio_AGN_t:,} initial radio-detected AGN in {used_area},\\n'\n",
    "str_1_p   = f'{num_gal_p:,} are predicted to be galaxies. On the other side,\\n'\n",
    "str_2_p   = f'{num_AGN_p:,} are predicted to be AGN. And, from the predicted AGN,\\n'\n",
    "str_3_p   = f'{num_radio_AGN_p:,} are predicted to be detected in radio.'"
   ]
  },
  {
   "cell_type": "code",
   "execution_count": 29,
   "metadata": {
    "jupyter": {
     "source_hidden": true
    },
    "tags": []
   },
   "outputs": [
    {
     "name": "stdout",
     "output_type": "stream",
     "text": [
      "------------------------------------------------------------\n",
      "Out of 3,590,306 initial sources in S82,\n",
      "4,085 are confirmed to be galaxies. On the other side,\n",
      "17,743 are confirmed to be AGN. And, from the AGN,\n",
      "815 are detected in radio.\n",
      "------------------------------------------------------------\n",
      "Out of 815 initial radio-detected AGN in S82,\n",
      "1,498,714 are predicted to be galaxies. On the other side,\n",
      "2,091,592 are predicted to be AGN. And, from the predicted AGN,\n",
      "25,852 are predicted to be detected in radio.\n",
      "------------------------------------------------------------\n"
     ]
    }
   ],
   "source": [
    "print('-' * 60)\n",
    "print(str_0_t + str_1_t + str_2_t + str_3_t)\n",
    "print('-' * 60)\n",
    "print(str_0_p + str_1_p + str_2_p + str_3_p)\n",
    "print('-' * 60)"
   ]
  },
  {
   "cell_type": "code",
   "execution_count": 30,
   "metadata": {},
   "outputs": [],
   "source": [
    "cols_4_table = show_columns = ['Name', 'RA_ICRS', 'DE_ICRS', 'TYPE', 'band_num', 'class', 'pred_class',\\\n",
    "                               'pred_prob_class', 'Score_AGN', 'Prob_AGN', 'LOFAR_detect', 'pred_radio',\\\n",
    "                               'pred_prob_radio', 'Score_radio', 'Prob_radio', 'radio_AGN', 'pred_radio_AGN',\\\n",
    "                               'pred_prob_rAGN', 'Score_rAGN', 'Prob_rAGN', 'Z', 'pred_Z']"
   ]
  },
  {
   "cell_type": "code",
   "execution_count": 31,
   "metadata": {},
   "outputs": [],
   "source": [
    "cols_4_export_S82    = ['Fint_VLAS82']\n",
    "cols_4_export_HETDEX = ['Sint_LOFAR']\n",
    "cols_4_export_COSMOS = ['Flux_COSMOSVLA3']\n",
    "\n",
    "cols_4_exp_all       = {'S82': cols_4_export_S82, 'HETDEX': cols_4_export_HETDEX, 'COSMOS': cols_4_export_COSMOS}\n",
    "\n",
    "cols_photo           = ['W1mproPM', 'W2mproPM', 'gmag', 'rmag', 'imag', 'zmag', \n",
    "                        'ymag', 'Jmag', 'Hmag', 'Kmag', 'W3mag', 'W4mag']\n",
    "\n",
    "cols_4_export        = cols_4_table + cols_4_exp_all[used_area] + cols_photo"
   ]
  },
  {
   "cell_type": "code",
   "execution_count": 32,
   "metadata": {},
   "outputs": [],
   "source": [
    "filter_new_rAGN = full_catalog_df.loc[:, 'radio_AGN'] == 0\n",
    "if predict_only_hi_z:\n",
    "    filter_high_z   = full_catalog_df.loc[:, 'pred_Z']    >= gv.high_z_limit\n",
    "elif not predict_only_hi_z:\n",
    "    filter_high_z   = np.ones_like(full_catalog_df.loc[:, 'pred_Z']).astype(bool)"
   ]
  },
  {
   "cell_type": "code",
   "execution_count": 33,
   "metadata": {},
   "outputs": [],
   "source": [
    "full_catalog_df.loc[:, 'TYPE'] = full_catalog_df.loc[:, 'TYPE'].mask(full_catalog_df.loc[:, 'TYPE'] == '    ', 'CCCC')"
   ]
  },
  {
   "cell_type": "code",
   "execution_count": 34,
   "metadata": {},
   "outputs": [
    {
     "data": {
      "text/html": [
       "<div>\n",
       "<style scoped>\n",
       "    .dataframe tbody tr th:only-of-type {\n",
       "        vertical-align: middle;\n",
       "    }\n",
       "\n",
       "    .dataframe tbody tr th {\n",
       "        vertical-align: top;\n",
       "    }\n",
       "\n",
       "    .dataframe thead th {\n",
       "        text-align: right;\n",
       "    }\n",
       "</style>\n",
       "<table border=\"1\" class=\"dataframe\">\n",
       "  <thead>\n",
       "    <tr style=\"text-align: right;\">\n",
       "      <th></th>\n",
       "      <th>Name</th>\n",
       "      <th>RA_ICRS</th>\n",
       "      <th>DE_ICRS</th>\n",
       "      <th>TYPE</th>\n",
       "      <th>band_num</th>\n",
       "      <th>class</th>\n",
       "      <th>pred_class</th>\n",
       "      <th>pred_prob_class</th>\n",
       "      <th>Score_AGN</th>\n",
       "      <th>Prob_AGN</th>\n",
       "      <th>LOFAR_detect</th>\n",
       "      <th>pred_radio</th>\n",
       "      <th>pred_prob_radio</th>\n",
       "      <th>Score_radio</th>\n",
       "      <th>Prob_radio</th>\n",
       "      <th>radio_AGN</th>\n",
       "      <th>pred_radio_AGN</th>\n",
       "      <th>pred_prob_rAGN</th>\n",
       "      <th>Score_rAGN</th>\n",
       "      <th>Prob_rAGN</th>\n",
       "      <th>Z</th>\n",
       "      <th>pred_Z</th>\n",
       "      <th>Fint_VLAS82</th>\n",
       "      <th>W1mproPM</th>\n",
       "      <th>W2mproPM</th>\n",
       "      <th>gmag</th>\n",
       "      <th>rmag</th>\n",
       "      <th>imag</th>\n",
       "      <th>zmag</th>\n",
       "      <th>ymag</th>\n",
       "      <th>Jmag</th>\n",
       "      <th>Hmag</th>\n",
       "      <th>Kmag</th>\n",
       "      <th>W3mag</th>\n",
       "      <th>W4mag</th>\n",
       "    </tr>\n",
       "  </thead>\n",
       "  <tbody>\n",
       "    <tr>\n",
       "      <th>281082</th>\n",
       "      <td>J005421.41-010921.3</td>\n",
       "      <td>13.589242</td>\n",
       "      <td>-1.155940</td>\n",
       "      <td>Q</td>\n",
       "      <td>6</td>\n",
       "      <td>1.0</td>\n",
       "      <td>0</td>\n",
       "      <td>0</td>\n",
       "      <td>0.499950</td>\n",
       "      <td>0.148423</td>\n",
       "      <td>0</td>\n",
       "      <td>0</td>\n",
       "      <td>0</td>\n",
       "      <td>0.056025</td>\n",
       "      <td>0.070640</td>\n",
       "      <td>0</td>\n",
       "      <td>0</td>\n",
       "      <td>0</td>\n",
       "      <td>0.028010</td>\n",
       "      <td>0.010485</td>\n",
       "      <td>5.022</td>\n",
       "      <td>4.739</td>\n",
       "      <td>17.860001</td>\n",
       "      <td>19.458000</td>\n",
       "      <td>19.662001</td>\n",
       "      <td>23.299999</td>\n",
       "      <td>21.498501</td>\n",
       "      <td>20.056499</td>\n",
       "      <td>19.740400</td>\n",
       "      <td>19.5984</td>\n",
       "      <td>17.450001</td>\n",
       "      <td>17.24</td>\n",
       "      <td>16.59</td>\n",
       "      <td>16.67</td>\n",
       "      <td>14.62</td>\n",
       "    </tr>\n",
       "    <tr>\n",
       "      <th>1497075</th>\n",
       "      <td>J222509.18-001406.7</td>\n",
       "      <td>336.288300</td>\n",
       "      <td>-0.235215</td>\n",
       "      <td>Q</td>\n",
       "      <td>9</td>\n",
       "      <td>1.0</td>\n",
       "      <td>1</td>\n",
       "      <td>1</td>\n",
       "      <td>0.500049</td>\n",
       "      <td>0.861232</td>\n",
       "      <td>0</td>\n",
       "      <td>0</td>\n",
       "      <td>0</td>\n",
       "      <td>0.081257</td>\n",
       "      <td>0.099143</td>\n",
       "      <td>0</td>\n",
       "      <td>0</td>\n",
       "      <td>0</td>\n",
       "      <td>0.040632</td>\n",
       "      <td>0.085385</td>\n",
       "      <td>4.850</td>\n",
       "      <td>4.638</td>\n",
       "      <td>17.860001</td>\n",
       "      <td>18.577000</td>\n",
       "      <td>18.726999</td>\n",
       "      <td>21.888300</td>\n",
       "      <td>20.457100</td>\n",
       "      <td>19.103001</td>\n",
       "      <td>18.820101</td>\n",
       "      <td>18.7813</td>\n",
       "      <td>17.450001</td>\n",
       "      <td>17.24</td>\n",
       "      <td>16.59</td>\n",
       "      <td>16.67</td>\n",
       "      <td>14.62</td>\n",
       "    </tr>\n",
       "    <tr>\n",
       "      <th>2876093</th>\n",
       "      <td>J231615.98+004914.4</td>\n",
       "      <td>349.066620</td>\n",
       "      <td>0.820679</td>\n",
       "      <td></td>\n",
       "      <td>7</td>\n",
       "      <td>NaN</td>\n",
       "      <td>0</td>\n",
       "      <td>0</td>\n",
       "      <td>0.499947</td>\n",
       "      <td>0.134289</td>\n",
       "      <td>0</td>\n",
       "      <td>0</td>\n",
       "      <td>1</td>\n",
       "      <td>0.207238</td>\n",
       "      <td>0.224558</td>\n",
       "      <td>0</td>\n",
       "      <td>0</td>\n",
       "      <td>0</td>\n",
       "      <td>0.103608</td>\n",
       "      <td>0.030156</td>\n",
       "      <td>NaN</td>\n",
       "      <td>4.595</td>\n",
       "      <td>17.860001</td>\n",
       "      <td>19.477999</td>\n",
       "      <td>19.809999</td>\n",
       "      <td>23.299999</td>\n",
       "      <td>20.851801</td>\n",
       "      <td>20.637600</td>\n",
       "      <td>20.379200</td>\n",
       "      <td>21.4000</td>\n",
       "      <td>17.450001</td>\n",
       "      <td>17.24</td>\n",
       "      <td>16.59</td>\n",
       "      <td>16.67</td>\n",
       "      <td>14.62</td>\n",
       "    </tr>\n",
       "    <tr>\n",
       "      <th>2667473</th>\n",
       "      <td>J013556.69+003942.6</td>\n",
       "      <td>23.986246</td>\n",
       "      <td>0.661852</td>\n",
       "      <td></td>\n",
       "      <td>7</td>\n",
       "      <td>NaN</td>\n",
       "      <td>0</td>\n",
       "      <td>0</td>\n",
       "      <td>0.499973</td>\n",
       "      <td>0.282668</td>\n",
       "      <td>0</td>\n",
       "      <td>0</td>\n",
       "      <td>0</td>\n",
       "      <td>0.163937</td>\n",
       "      <td>0.184103</td>\n",
       "      <td>0</td>\n",
       "      <td>0</td>\n",
       "      <td>0</td>\n",
       "      <td>0.081964</td>\n",
       "      <td>0.052040</td>\n",
       "      <td>NaN</td>\n",
       "      <td>4.577</td>\n",
       "      <td>17.860001</td>\n",
       "      <td>19.505999</td>\n",
       "      <td>19.809999</td>\n",
       "      <td>23.299999</td>\n",
       "      <td>21.274900</td>\n",
       "      <td>20.989700</td>\n",
       "      <td>20.736099</td>\n",
       "      <td>21.4000</td>\n",
       "      <td>17.450001</td>\n",
       "      <td>17.24</td>\n",
       "      <td>16.59</td>\n",
       "      <td>16.67</td>\n",
       "      <td>14.62</td>\n",
       "    </tr>\n",
       "    <tr>\n",
       "      <th>1418308</th>\n",
       "      <td>J014331.64-001745.6</td>\n",
       "      <td>25.881863</td>\n",
       "      <td>-0.296041</td>\n",
       "      <td></td>\n",
       "      <td>5</td>\n",
       "      <td>NaN</td>\n",
       "      <td>0</td>\n",
       "      <td>0</td>\n",
       "      <td>0.499939</td>\n",
       "      <td>0.102862</td>\n",
       "      <td>0</td>\n",
       "      <td>0</td>\n",
       "      <td>1</td>\n",
       "      <td>0.258198</td>\n",
       "      <td>0.269367</td>\n",
       "      <td>0</td>\n",
       "      <td>0</td>\n",
       "      <td>0</td>\n",
       "      <td>0.129083</td>\n",
       "      <td>0.027708</td>\n",
       "      <td>NaN</td>\n",
       "      <td>4.577</td>\n",
       "      <td>17.860001</td>\n",
       "      <td>19.563999</td>\n",
       "      <td>19.809999</td>\n",
       "      <td>23.299999</td>\n",
       "      <td>21.165701</td>\n",
       "      <td>20.887600</td>\n",
       "      <td>20.606001</td>\n",
       "      <td>21.4000</td>\n",
       "      <td>17.450001</td>\n",
       "      <td>17.24</td>\n",
       "      <td>16.59</td>\n",
       "      <td>16.67</td>\n",
       "      <td>14.62</td>\n",
       "    </tr>\n",
       "    <tr>\n",
       "      <th>3311969</th>\n",
       "      <td>J013502.21+010925.3</td>\n",
       "      <td>23.759235</td>\n",
       "      <td>1.157051</td>\n",
       "      <td></td>\n",
       "      <td>7</td>\n",
       "      <td>NaN</td>\n",
       "      <td>0</td>\n",
       "      <td>0</td>\n",
       "      <td>0.499896</td>\n",
       "      <td>0.023809</td>\n",
       "      <td>0</td>\n",
       "      <td>0</td>\n",
       "      <td>0</td>\n",
       "      <td>0.130683</td>\n",
       "      <td>0.151287</td>\n",
       "      <td>0</td>\n",
       "      <td>0</td>\n",
       "      <td>0</td>\n",
       "      <td>0.065328</td>\n",
       "      <td>0.003602</td>\n",
       "      <td>NaN</td>\n",
       "      <td>4.570</td>\n",
       "      <td>17.860001</td>\n",
       "      <td>19.417000</td>\n",
       "      <td>19.809999</td>\n",
       "      <td>23.299999</td>\n",
       "      <td>21.094101</td>\n",
       "      <td>20.891399</td>\n",
       "      <td>20.646400</td>\n",
       "      <td>21.4000</td>\n",
       "      <td>17.450001</td>\n",
       "      <td>17.24</td>\n",
       "      <td>16.59</td>\n",
       "      <td>16.67</td>\n",
       "      <td>14.62</td>\n",
       "    </tr>\n",
       "    <tr>\n",
       "      <th>1870141</th>\n",
       "      <td>J015313.97+000308.5</td>\n",
       "      <td>28.308220</td>\n",
       "      <td>0.052361</td>\n",
       "      <td></td>\n",
       "      <td>7</td>\n",
       "      <td>NaN</td>\n",
       "      <td>0</td>\n",
       "      <td>0</td>\n",
       "      <td>0.499893</td>\n",
       "      <td>0.020945</td>\n",
       "      <td>0</td>\n",
       "      <td>0</td>\n",
       "      <td>1</td>\n",
       "      <td>0.188143</td>\n",
       "      <td>0.207012</td>\n",
       "      <td>0</td>\n",
       "      <td>0</td>\n",
       "      <td>0</td>\n",
       "      <td>0.094051</td>\n",
       "      <td>0.004336</td>\n",
       "      <td>NaN</td>\n",
       "      <td>4.568</td>\n",
       "      <td>17.860001</td>\n",
       "      <td>19.425999</td>\n",
       "      <td>19.809999</td>\n",
       "      <td>23.299999</td>\n",
       "      <td>21.152000</td>\n",
       "      <td>20.950199</td>\n",
       "      <td>20.716200</td>\n",
       "      <td>21.4000</td>\n",
       "      <td>17.450001</td>\n",
       "      <td>17.24</td>\n",
       "      <td>16.59</td>\n",
       "      <td>16.67</td>\n",
       "      <td>14.62</td>\n",
       "    </tr>\n",
       "    <tr>\n",
       "      <th>73383</th>\n",
       "      <td>J014921.68-012024.6</td>\n",
       "      <td>27.340359</td>\n",
       "      <td>-1.340193</td>\n",
       "      <td></td>\n",
       "      <td>7</td>\n",
       "      <td>NaN</td>\n",
       "      <td>0</td>\n",
       "      <td>0</td>\n",
       "      <td>0.499979</td>\n",
       "      <td>0.330600</td>\n",
       "      <td>0</td>\n",
       "      <td>0</td>\n",
       "      <td>0</td>\n",
       "      <td>0.084418</td>\n",
       "      <td>0.102615</td>\n",
       "      <td>0</td>\n",
       "      <td>0</td>\n",
       "      <td>0</td>\n",
       "      <td>0.042207</td>\n",
       "      <td>0.033924</td>\n",
       "      <td>NaN</td>\n",
       "      <td>4.568</td>\n",
       "      <td>17.860001</td>\n",
       "      <td>19.549999</td>\n",
       "      <td>19.809999</td>\n",
       "      <td>23.299999</td>\n",
       "      <td>21.260401</td>\n",
       "      <td>20.984400</td>\n",
       "      <td>20.745100</td>\n",
       "      <td>21.4000</td>\n",
       "      <td>17.450001</td>\n",
       "      <td>17.24</td>\n",
       "      <td>16.59</td>\n",
       "      <td>16.67</td>\n",
       "      <td>14.62</td>\n",
       "    </tr>\n",
       "    <tr>\n",
       "      <th>248624</th>\n",
       "      <td>J014331.42-011052.3</td>\n",
       "      <td>25.880953</td>\n",
       "      <td>-1.181239</td>\n",
       "      <td></td>\n",
       "      <td>5</td>\n",
       "      <td>NaN</td>\n",
       "      <td>0</td>\n",
       "      <td>0</td>\n",
       "      <td>0.499938</td>\n",
       "      <td>0.100533</td>\n",
       "      <td>0</td>\n",
       "      <td>0</td>\n",
       "      <td>1</td>\n",
       "      <td>0.374364</td>\n",
       "      <td>0.362668</td>\n",
       "      <td>0</td>\n",
       "      <td>0</td>\n",
       "      <td>0</td>\n",
       "      <td>0.187159</td>\n",
       "      <td>0.036460</td>\n",
       "      <td>NaN</td>\n",
       "      <td>4.560</td>\n",
       "      <td>17.860001</td>\n",
       "      <td>19.557999</td>\n",
       "      <td>19.809999</td>\n",
       "      <td>23.299999</td>\n",
       "      <td>21.221399</td>\n",
       "      <td>20.933599</td>\n",
       "      <td>20.634100</td>\n",
       "      <td>21.4000</td>\n",
       "      <td>17.450001</td>\n",
       "      <td>17.24</td>\n",
       "      <td>16.59</td>\n",
       "      <td>16.67</td>\n",
       "      <td>14.62</td>\n",
       "    </tr>\n",
       "    <tr>\n",
       "      <th>2023799</th>\n",
       "      <td>J220618.89+001010.8</td>\n",
       "      <td>331.578735</td>\n",
       "      <td>0.169662</td>\n",
       "      <td></td>\n",
       "      <td>5</td>\n",
       "      <td>NaN</td>\n",
       "      <td>0</td>\n",
       "      <td>0</td>\n",
       "      <td>0.499884</td>\n",
       "      <td>0.015072</td>\n",
       "      <td>0</td>\n",
       "      <td>0</td>\n",
       "      <td>0</td>\n",
       "      <td>0.162584</td>\n",
       "      <td>0.182799</td>\n",
       "      <td>0</td>\n",
       "      <td>0</td>\n",
       "      <td>0</td>\n",
       "      <td>0.081273</td>\n",
       "      <td>0.002755</td>\n",
       "      <td>NaN</td>\n",
       "      <td>4.560</td>\n",
       "      <td>17.860001</td>\n",
       "      <td>19.404999</td>\n",
       "      <td>19.780001</td>\n",
       "      <td>23.299999</td>\n",
       "      <td>20.834700</td>\n",
       "      <td>20.605700</td>\n",
       "      <td>20.379999</td>\n",
       "      <td>21.4000</td>\n",
       "      <td>17.450001</td>\n",
       "      <td>17.24</td>\n",
       "      <td>16.59</td>\n",
       "      <td>16.67</td>\n",
       "      <td>14.62</td>\n",
       "    </tr>\n",
       "    <tr>\n",
       "      <th>1676726</th>\n",
       "      <td>J223141.73-000548.0</td>\n",
       "      <td>337.923920</td>\n",
       "      <td>-0.096705</td>\n",
       "      <td></td>\n",
       "      <td>7</td>\n",
       "      <td>NaN</td>\n",
       "      <td>0</td>\n",
       "      <td>0</td>\n",
       "      <td>0.499977</td>\n",
       "      <td>0.315470</td>\n",
       "      <td>0</td>\n",
       "      <td>0</td>\n",
       "      <td>0</td>\n",
       "      <td>0.073487</td>\n",
       "      <td>0.090518</td>\n",
       "      <td>0</td>\n",
       "      <td>0</td>\n",
       "      <td>0</td>\n",
       "      <td>0.036742</td>\n",
       "      <td>0.028556</td>\n",
       "      <td>NaN</td>\n",
       "      <td>4.556</td>\n",
       "      <td>17.860001</td>\n",
       "      <td>19.573000</td>\n",
       "      <td>19.809999</td>\n",
       "      <td>23.299999</td>\n",
       "      <td>21.240601</td>\n",
       "      <td>20.923901</td>\n",
       "      <td>20.691401</td>\n",
       "      <td>21.4000</td>\n",
       "      <td>17.450001</td>\n",
       "      <td>17.24</td>\n",
       "      <td>16.59</td>\n",
       "      <td>16.67</td>\n",
       "      <td>14.62</td>\n",
       "    </tr>\n",
       "    <tr>\n",
       "      <th>1140460</th>\n",
       "      <td>J224153.05-003013.8</td>\n",
       "      <td>340.471069</td>\n",
       "      <td>-0.503851</td>\n",
       "      <td></td>\n",
       "      <td>7</td>\n",
       "      <td>NaN</td>\n",
       "      <td>0</td>\n",
       "      <td>0</td>\n",
       "      <td>0.499972</td>\n",
       "      <td>0.274617</td>\n",
       "      <td>0</td>\n",
       "      <td>0</td>\n",
       "      <td>0</td>\n",
       "      <td>0.125938</td>\n",
       "      <td>0.146466</td>\n",
       "      <td>0</td>\n",
       "      <td>0</td>\n",
       "      <td>0</td>\n",
       "      <td>0.062965</td>\n",
       "      <td>0.040222</td>\n",
       "      <td>NaN</td>\n",
       "      <td>4.555</td>\n",
       "      <td>17.860001</td>\n",
       "      <td>19.496000</td>\n",
       "      <td>19.809999</td>\n",
       "      <td>23.299999</td>\n",
       "      <td>20.664400</td>\n",
       "      <td>20.386101</td>\n",
       "      <td>20.153799</td>\n",
       "      <td>21.4000</td>\n",
       "      <td>17.450001</td>\n",
       "      <td>17.24</td>\n",
       "      <td>16.59</td>\n",
       "      <td>16.67</td>\n",
       "      <td>14.62</td>\n",
       "    </tr>\n",
       "    <tr>\n",
       "      <th>783074</th>\n",
       "      <td>J011656.26-004629.7</td>\n",
       "      <td>19.234476</td>\n",
       "      <td>-0.774945</td>\n",
       "      <td></td>\n",
       "      <td>7</td>\n",
       "      <td>NaN</td>\n",
       "      <td>0</td>\n",
       "      <td>0</td>\n",
       "      <td>0.499975</td>\n",
       "      <td>0.297668</td>\n",
       "      <td>0</td>\n",
       "      <td>0</td>\n",
       "      <td>0</td>\n",
       "      <td>0.071275</td>\n",
       "      <td>0.088039</td>\n",
       "      <td>0</td>\n",
       "      <td>0</td>\n",
       "      <td>0</td>\n",
       "      <td>0.035636</td>\n",
       "      <td>0.026206</td>\n",
       "      <td>NaN</td>\n",
       "      <td>4.550</td>\n",
       "      <td>17.860001</td>\n",
       "      <td>19.578999</td>\n",
       "      <td>19.809999</td>\n",
       "      <td>23.299999</td>\n",
       "      <td>21.272900</td>\n",
       "      <td>20.906799</td>\n",
       "      <td>20.685600</td>\n",
       "      <td>21.4000</td>\n",
       "      <td>17.450001</td>\n",
       "      <td>17.24</td>\n",
       "      <td>16.59</td>\n",
       "      <td>16.67</td>\n",
       "      <td>14.62</td>\n",
       "    </tr>\n",
       "    <tr>\n",
       "      <th>723732</th>\n",
       "      <td>J012629.19-004913.2</td>\n",
       "      <td>21.621666</td>\n",
       "      <td>-0.820364</td>\n",
       "      <td></td>\n",
       "      <td>7</td>\n",
       "      <td>NaN</td>\n",
       "      <td>0</td>\n",
       "      <td>0</td>\n",
       "      <td>0.499946</td>\n",
       "      <td>0.128880</td>\n",
       "      <td>0</td>\n",
       "      <td>0</td>\n",
       "      <td>0</td>\n",
       "      <td>0.157165</td>\n",
       "      <td>0.177551</td>\n",
       "      <td>0</td>\n",
       "      <td>0</td>\n",
       "      <td>0</td>\n",
       "      <td>0.078574</td>\n",
       "      <td>0.022883</td>\n",
       "      <td>NaN</td>\n",
       "      <td>4.544</td>\n",
       "      <td>17.860001</td>\n",
       "      <td>19.628000</td>\n",
       "      <td>19.809999</td>\n",
       "      <td>23.299999</td>\n",
       "      <td>21.091499</td>\n",
       "      <td>20.722401</td>\n",
       "      <td>20.469900</td>\n",
       "      <td>21.4000</td>\n",
       "      <td>17.450001</td>\n",
       "      <td>17.24</td>\n",
       "      <td>16.59</td>\n",
       "      <td>16.67</td>\n",
       "      <td>14.62</td>\n",
       "    </tr>\n",
       "    <tr>\n",
       "      <th>1721965</th>\n",
       "      <td>J012455.54-000342.7</td>\n",
       "      <td>21.231472</td>\n",
       "      <td>-0.061883</td>\n",
       "      <td></td>\n",
       "      <td>7</td>\n",
       "      <td>NaN</td>\n",
       "      <td>0</td>\n",
       "      <td>0</td>\n",
       "      <td>0.499966</td>\n",
       "      <td>0.237880</td>\n",
       "      <td>0</td>\n",
       "      <td>0</td>\n",
       "      <td>0</td>\n",
       "      <td>0.167315</td>\n",
       "      <td>0.187346</td>\n",
       "      <td>0</td>\n",
       "      <td>0</td>\n",
       "      <td>0</td>\n",
       "      <td>0.083652</td>\n",
       "      <td>0.044566</td>\n",
       "      <td>NaN</td>\n",
       "      <td>4.539</td>\n",
       "      <td>17.860001</td>\n",
       "      <td>19.644999</td>\n",
       "      <td>19.809999</td>\n",
       "      <td>23.299999</td>\n",
       "      <td>21.139299</td>\n",
       "      <td>20.804800</td>\n",
       "      <td>20.490801</td>\n",
       "      <td>21.4000</td>\n",
       "      <td>17.450001</td>\n",
       "      <td>17.24</td>\n",
       "      <td>16.59</td>\n",
       "      <td>16.67</td>\n",
       "      <td>14.62</td>\n",
       "    </tr>\n",
       "  </tbody>\n",
       "</table>\n",
       "</div>"
      ],
      "text/plain": [
       "                        Name     RA_ICRS   DE_ICRS TYPE  band_num  class  \\\n",
       "281082   J005421.41-010921.3   13.589242 -1.155940    Q         6    1.0   \n",
       "1497075  J222509.18-001406.7  336.288300 -0.235215    Q         9    1.0   \n",
       "2876093  J231615.98+004914.4  349.066620  0.820679              7    NaN   \n",
       "2667473  J013556.69+003942.6   23.986246  0.661852              7    NaN   \n",
       "1418308  J014331.64-001745.6   25.881863 -0.296041              5    NaN   \n",
       "3311969  J013502.21+010925.3   23.759235  1.157051              7    NaN   \n",
       "1870141  J015313.97+000308.5   28.308220  0.052361              7    NaN   \n",
       "73383    J014921.68-012024.6   27.340359 -1.340193              7    NaN   \n",
       "248624   J014331.42-011052.3   25.880953 -1.181239              5    NaN   \n",
       "2023799  J220618.89+001010.8  331.578735  0.169662              5    NaN   \n",
       "1676726  J223141.73-000548.0  337.923920 -0.096705              7    NaN   \n",
       "1140460  J224153.05-003013.8  340.471069 -0.503851              7    NaN   \n",
       "783074   J011656.26-004629.7   19.234476 -0.774945              7    NaN   \n",
       "723732   J012629.19-004913.2   21.621666 -0.820364              7    NaN   \n",
       "1721965  J012455.54-000342.7   21.231472 -0.061883              7    NaN   \n",
       "\n",
       "         pred_class  pred_prob_class  Score_AGN  Prob_AGN  LOFAR_detect  \\\n",
       "281082            0                0   0.499950  0.148423             0   \n",
       "1497075           1                1   0.500049  0.861232             0   \n",
       "2876093           0                0   0.499947  0.134289             0   \n",
       "2667473           0                0   0.499973  0.282668             0   \n",
       "1418308           0                0   0.499939  0.102862             0   \n",
       "3311969           0                0   0.499896  0.023809             0   \n",
       "1870141           0                0   0.499893  0.020945             0   \n",
       "73383             0                0   0.499979  0.330600             0   \n",
       "248624            0                0   0.499938  0.100533             0   \n",
       "2023799           0                0   0.499884  0.015072             0   \n",
       "1676726           0                0   0.499977  0.315470             0   \n",
       "1140460           0                0   0.499972  0.274617             0   \n",
       "783074            0                0   0.499975  0.297668             0   \n",
       "723732            0                0   0.499946  0.128880             0   \n",
       "1721965           0                0   0.499966  0.237880             0   \n",
       "\n",
       "         pred_radio  pred_prob_radio  Score_radio  Prob_radio  radio_AGN  \\\n",
       "281082            0                0     0.056025    0.070640          0   \n",
       "1497075           0                0     0.081257    0.099143          0   \n",
       "2876093           0                1     0.207238    0.224558          0   \n",
       "2667473           0                0     0.163937    0.184103          0   \n",
       "1418308           0                1     0.258198    0.269367          0   \n",
       "3311969           0                0     0.130683    0.151287          0   \n",
       "1870141           0                1     0.188143    0.207012          0   \n",
       "73383             0                0     0.084418    0.102615          0   \n",
       "248624            0                1     0.374364    0.362668          0   \n",
       "2023799           0                0     0.162584    0.182799          0   \n",
       "1676726           0                0     0.073487    0.090518          0   \n",
       "1140460           0                0     0.125938    0.146466          0   \n",
       "783074            0                0     0.071275    0.088039          0   \n",
       "723732            0                0     0.157165    0.177551          0   \n",
       "1721965           0                0     0.167315    0.187346          0   \n",
       "\n",
       "         pred_radio_AGN  pred_prob_rAGN  Score_rAGN  Prob_rAGN      Z  pred_Z  \\\n",
       "281082                0               0    0.028010   0.010485  5.022   4.739   \n",
       "1497075               0               0    0.040632   0.085385  4.850   4.638   \n",
       "2876093               0               0    0.103608   0.030156    NaN   4.595   \n",
       "2667473               0               0    0.081964   0.052040    NaN   4.577   \n",
       "1418308               0               0    0.129083   0.027708    NaN   4.577   \n",
       "3311969               0               0    0.065328   0.003602    NaN   4.570   \n",
       "1870141               0               0    0.094051   0.004336    NaN   4.568   \n",
       "73383                 0               0    0.042207   0.033924    NaN   4.568   \n",
       "248624                0               0    0.187159   0.036460    NaN   4.560   \n",
       "2023799               0               0    0.081273   0.002755    NaN   4.560   \n",
       "1676726               0               0    0.036742   0.028556    NaN   4.556   \n",
       "1140460               0               0    0.062965   0.040222    NaN   4.555   \n",
       "783074                0               0    0.035636   0.026206    NaN   4.550   \n",
       "723732                0               0    0.078574   0.022883    NaN   4.544   \n",
       "1721965               0               0    0.083652   0.044566    NaN   4.539   \n",
       "\n",
       "         Fint_VLAS82   W1mproPM   W2mproPM       gmag       rmag       imag  \\\n",
       "281082     17.860001  19.458000  19.662001  23.299999  21.498501  20.056499   \n",
       "1497075    17.860001  18.577000  18.726999  21.888300  20.457100  19.103001   \n",
       "2876093    17.860001  19.477999  19.809999  23.299999  20.851801  20.637600   \n",
       "2667473    17.860001  19.505999  19.809999  23.299999  21.274900  20.989700   \n",
       "1418308    17.860001  19.563999  19.809999  23.299999  21.165701  20.887600   \n",
       "3311969    17.860001  19.417000  19.809999  23.299999  21.094101  20.891399   \n",
       "1870141    17.860001  19.425999  19.809999  23.299999  21.152000  20.950199   \n",
       "73383      17.860001  19.549999  19.809999  23.299999  21.260401  20.984400   \n",
       "248624     17.860001  19.557999  19.809999  23.299999  21.221399  20.933599   \n",
       "2023799    17.860001  19.404999  19.780001  23.299999  20.834700  20.605700   \n",
       "1676726    17.860001  19.573000  19.809999  23.299999  21.240601  20.923901   \n",
       "1140460    17.860001  19.496000  19.809999  23.299999  20.664400  20.386101   \n",
       "783074     17.860001  19.578999  19.809999  23.299999  21.272900  20.906799   \n",
       "723732     17.860001  19.628000  19.809999  23.299999  21.091499  20.722401   \n",
       "1721965    17.860001  19.644999  19.809999  23.299999  21.139299  20.804800   \n",
       "\n",
       "              zmag     ymag       Jmag   Hmag   Kmag  W3mag  W4mag  \n",
       "281082   19.740400  19.5984  17.450001  17.24  16.59  16.67  14.62  \n",
       "1497075  18.820101  18.7813  17.450001  17.24  16.59  16.67  14.62  \n",
       "2876093  20.379200  21.4000  17.450001  17.24  16.59  16.67  14.62  \n",
       "2667473  20.736099  21.4000  17.450001  17.24  16.59  16.67  14.62  \n",
       "1418308  20.606001  21.4000  17.450001  17.24  16.59  16.67  14.62  \n",
       "3311969  20.646400  21.4000  17.450001  17.24  16.59  16.67  14.62  \n",
       "1870141  20.716200  21.4000  17.450001  17.24  16.59  16.67  14.62  \n",
       "73383    20.745100  21.4000  17.450001  17.24  16.59  16.67  14.62  \n",
       "248624   20.634100  21.4000  17.450001  17.24  16.59  16.67  14.62  \n",
       "2023799  20.379999  21.4000  17.450001  17.24  16.59  16.67  14.62  \n",
       "1676726  20.691401  21.4000  17.450001  17.24  16.59  16.67  14.62  \n",
       "1140460  20.153799  21.4000  17.450001  17.24  16.59  16.67  14.62  \n",
       "783074   20.685600  21.4000  17.450001  17.24  16.59  16.67  14.62  \n",
       "723732   20.469900  21.4000  17.450001  17.24  16.59  16.67  14.62  \n",
       "1721965  20.490801  21.4000  17.450001  17.24  16.59  16.67  14.62  "
      ]
     },
     "metadata": {},
     "output_type": "display_data"
    }
   ],
   "source": [
    "display(full_catalog_df.loc[filter_high_z, cols_4_export].sort_values(by=['pred_Z'], ascending=False).head(15))"
   ]
  },
  {
   "cell_type": "code",
   "execution_count": 35,
   "metadata": {},
   "outputs": [],
   "source": [
    "if save_preds_flag:\n",
    "    full_catalog_df.loc[filter_high_z, cols_4_export].sort_values(by=['pred_Z'],\n",
    "     ascending=False).to_csv(gv.preds_path + f'predicted_rAGN_{used_area}.csv', index_label='ID')"
   ]
  },
  {
   "cell_type": "markdown",
   "metadata": {},
   "source": [
    "---"
   ]
  },
  {
   "cell_type": "code",
   "execution_count": 36,
   "metadata": {},
   "outputs": [],
   "source": [
    "temp_flag = False"
   ]
  },
  {
   "cell_type": "code",
   "execution_count": 37,
   "metadata": {},
   "outputs": [],
   "source": [
    "if temp_flag:\n",
    "    cols_AGN   = ['g_r', 'r_i', 'r_J', 'i_z', 'i_y', \n",
    "                  'z_y', 'z_W2', 'y_J', 'y_W1', 'y_W2', 'J_H', 'H_K', \n",
    "                  'H_W3', 'W1_W2', 'W1_W3', 'W3_W4']  # Only colours (no 'band_num', 'W4mag')\n",
    "    cols_radio = ['g_r', 'g_i', 'r_i', 'r_z', 'i_z', \n",
    "                  'z_y', 'z_W1', 'y_J', 'y_W1', 'J_H', 'H_K', 'K_W3', \n",
    "                  'K_W4', 'W1_W2', 'W2_W3']  # Only colours (no 'band_num', 'W4mag')\n",
    "    cols_z     = ['g_r', 'g_W3', 'r_i', 'r_z', 'i_z', \n",
    "                  'i_y', 'z_y', 'y_J', 'y_W1', 'J_H', 'H_K', 'K_W3', \n",
    "                  'K_W4', 'W1_W2', 'W2_W3']  # Only colours (no 'band_num', 'W4mag')\n",
    "    \n",
    "    cols_cols = list(np.unique(cols_AGN + cols_radio + cols_z))"
   ]
  },
  {
   "cell_type": "code",
   "execution_count": 38,
   "metadata": {},
   "outputs": [],
   "source": [
    "if temp_flag:\n",
    "    \n",
    "    add_columns  = ['band_num', 'class', 'pred_prob_class', 'Score_AGN', 'Prob_AGN', \n",
    "                    'LOFAR_detect',  'pred_prob_radio', 'Score_radio', 'Prob_radio', \n",
    "                    'radio_AGN', 'pred_prob_rAGN', 'Score_rAGN', 'Prob_rAGN', 'Z', 'pred_Z']\n",
    "    used_colours = cols_cols"
   ]
  },
  {
   "cell_type": "code",
   "execution_count": 39,
   "metadata": {},
   "outputs": [],
   "source": [
    "if temp_flag:\n",
    "    saving_data = full_catalog_df.loc[:, add_columns + cols_photo + used_colours]\n",
    "    saving_data['ID'] = saving_data.index\n",
    "    saving_data.to_hdf(gv.preds_path + f'{used_area}_for_prediction.h5', key='df')"
   ]
  },
  {
   "cell_type": "code",
   "execution_count": null,
   "metadata": {},
   "outputs": [],
   "source": []
  }
 ],
 "metadata": {
  "kernelspec": {
   "display_name": "Python 3 (ipykernel)",
   "language": "python",
   "name": "python3"
  },
  "language_info": {
   "codemirror_mode": {
    "name": "ipython",
    "version": 3
   },
   "file_extension": ".py",
   "mimetype": "text/x-python",
   "name": "python",
   "nbconvert_exporter": "python",
   "pygments_lexer": "ipython3",
   "version": "3.8.13"
  },
  "vscode": {
   "interpreter": {
    "hash": "1d7c94ac87c57432169d0bc24ce250f6f2e77b44a3b95192eb5ace62cff26777"
   }
  }
 },
 "nbformat": 4,
 "nbformat_minor": 4
}
