{
 "cells": [
  {
   "cell_type": "markdown",
   "metadata": {},
   "source": [
    "# Pipeline for High-z Radio Galaxies 12: Create lists (files) with radio AGN candidates"
   ]
  },
  {
   "cell_type": "markdown",
   "metadata": {},
   "source": [
    "## Introduction"
   ]
  },
  {
   "cell_type": "markdown",
   "metadata": {},
   "source": [
    "In this file, three models will be applied consecutively in order to predict  \n",
    "the detection of Radio Galaxies (radio AGN) and their redshift.  \n",
    "\n",
    "In principle, this pipeline should be applied to data in Stripe 82. But  \n",
    "it can be used with any other suitable dataset."
   ]
  },
  {
   "cell_type": "code",
   "execution_count": 1,
   "metadata": {},
   "outputs": [],
   "source": [
    "%matplotlib inline\n",
    "# Static plots\n",
    "#%matplotlib ipympl\n",
    "# Interactive plots\n",
    "import numpy as np\n",
    "import matplotlib as mpl\n",
    "import matplotlib.cm as cm\n",
    "from matplotlib import ticker\n",
    "import matplotlib.pyplot as plt\n",
    "import matplotlib.colors as mcolors\n",
    "import matplotlib.patheffects as mpe\n",
    "import matplotlib.patches as mpatches\n",
    "from matplotlib.ticker import ScalarFormatter\n",
    "from mpl_toolkits.axes_grid1.inset_locator import inset_axes\n",
    "from astropy.visualization import LogStretch, PowerStretch\n",
    "from astropy.visualization.mpl_normalize import ImageNormalize\n",
    "from sklearn.preprocessing import MinMaxScaler\n",
    "from sklearn.metrics import ConfusionMatrixDisplay\n",
    "import sklearn.pipeline\n",
    "import colorcet as cc\n",
    "from pycaret import classification as pyc\n",
    "from pycaret import regression as pyr\n",
    "from joblib import dump, load\n",
    "import pandas as pd\n",
    "import mpl_scatter_density\n",
    "import global_variables as gv\n",
    "import global_functions as gf"
   ]
  },
  {
   "cell_type": "code",
   "execution_count": 2,
   "metadata": {},
   "outputs": [],
   "source": [
    "mpl.rcdefaults()"
   ]
  },
  {
   "cell_type": "markdown",
   "metadata": {},
   "source": [
    "---"
   ]
  },
  {
   "cell_type": "markdown",
   "metadata": {},
   "source": [
    "## Reading data"
   ]
  },
  {
   "cell_type": "markdown",
   "metadata": {
    "tags": []
   },
   "source": [
    "Flags."
   ]
  },
  {
   "cell_type": "code",
   "execution_count": 3,
   "metadata": {},
   "outputs": [],
   "source": [
    "save_plot_flag      = False\n",
    "save_preds_flag     = False\n",
    "load_models_flag    = True\n",
    "predict_only_hi_z   = False\n",
    "use_zeroth_model    = False\n",
    "use_second_z_model  = False  # z >= 3.6 (with SMOGN), or, if needed, z >= 4.0"
   ]
  },
  {
   "cell_type": "code",
   "execution_count": 4,
   "metadata": {},
   "outputs": [],
   "source": [
    "used_area           = 'HETDEX'  # can be 'S82', 'HETDEX', 'COSMOS'"
   ]
  },
  {
   "cell_type": "code",
   "execution_count": 5,
   "metadata": {
    "tags": []
   },
   "outputs": [],
   "source": [
    "file_name_dict      = {'S82': gv.file_S82, 'HETDEX': gv.file_HETDEX, 'COSMOS': gv.file_COSMOS}\n",
    "file_name           = file_name_dict[used_area]"
   ]
  },
  {
   "cell_type": "code",
   "execution_count": 6,
   "metadata": {
    "tags": []
   },
   "outputs": [],
   "source": [
    "feats_2_disc_S82    = ['objID', 'RA_MILLI', 'DEC_MILLI', 'X_ray_detect', 'W1mag', 'W2mag', 'FUVmag', 'NUVmag', 'num_imputed']\n",
    "feats_2_disc_HETDEX = ['objID', 'RA_MILLI', 'DEC_MILLI', 'X_ray_detect', 'W1mag', 'W2mag', 'FUVmag', 'NUVmag', 'num_imputed']\n",
    "feats_2_disc_COSMOS = ['objID', 'RA_MILLI', 'DEC_MILLI', 'X_ray_detect', 'W1mag', 'W2mag', 'FUVmag', 'NUVmag', 'num_imputed']\n",
    "\n",
    "feats_2_disc        = {'S82': feats_2_disc_S82, 'HETDEX': feats_2_disc_HETDEX, 'COSMOS': feats_2_disc_COSMOS}\n",
    "features_2_discard  = feats_2_disc[used_area]"
   ]
  },
  {
   "cell_type": "code",
   "execution_count": 7,
   "metadata": {},
   "outputs": [],
   "source": [
    "full_catalog_df     = pd.read_hdf(gv.cat_path + file_name, key='df').drop(columns=features_2_discard)"
   ]
  },
  {
   "cell_type": "code",
   "execution_count": 8,
   "metadata": {
    "jupyter": {
     "source_hidden": true
    }
   },
   "outputs": [],
   "source": [
    "full_catalog_df.loc[:, 'radio_detect'] = full_catalog_df.loc[:, 'radio_detect'].astype(int)"
   ]
  },
  {
   "cell_type": "markdown",
   "metadata": {},
   "source": [
    "Create features with class and combined redshift."
   ]
  },
  {
   "cell_type": "code",
   "execution_count": 9,
   "metadata": {
    "jupyter": {
     "source_hidden": true
    }
   },
   "outputs": [],
   "source": [
    "full_catalog_df['class']            = full_catalog_df.loc[:, 'is_AGN'].copy()\n",
    "filter_non_confirmed                = np.array(full_catalog_df.loc[:, 'is_AGN'] == 1) | np.array(full_catalog_df.loc[:, 'is_gal'] == 1)\n",
    "full_catalog_df.loc[~filter_non_confirmed, 'class'] = np.nan\n",
    "idx_non_Z                           = full_catalog_df.loc[:, 'Z'].where(full_catalog_df.loc[:, 'Z'] > 0).isna()\n",
    "full_catalog_df.loc[idx_non_Z, 'Z'] = full_catalog_df.loc[:, 'Z'].mask(idx_non_Z, full_catalog_df.loc[idx_non_Z, 'zsp'])"
   ]
  },
  {
   "cell_type": "markdown",
   "metadata": {},
   "source": [
    "Create column for detection as Radio AGN"
   ]
  },
  {
   "cell_type": "code",
   "execution_count": 10,
   "metadata": {},
   "outputs": [],
   "source": [
    "full_catalog_df['radio_AGN']      = (np.array(full_catalog_df.loc[:, 'is_AGN'] == 1) & np.array(full_catalog_df.loc[:, 'radio_detect'] == 1)).astype(int)"
   ]
  },
  {
   "cell_type": "markdown",
   "metadata": {},
   "source": [
    "Discard minor features."
   ]
  },
  {
   "cell_type": "code",
   "execution_count": 11,
   "metadata": {},
   "outputs": [],
   "source": [
    "full_catalog_df                     = full_catalog_df.drop(columns=['is_AGN', 'is_SDSS_QSO', 'is_SDSS_gal', 'is_gal', 'zsp'])"
   ]
  },
  {
   "cell_type": "markdown",
   "metadata": {},
   "source": [
    "#### As we want to predict, only use sources that have not previous spectroscopic classification"
   ]
  },
  {
   "cell_type": "code",
   "execution_count": 12,
   "metadata": {
    "jupyter": {
     "source_hidden": true
    }
   },
   "outputs": [
    {
     "name": "stdout",
     "output_type": "stream",
     "text": [
      "The used data set (in HETDEX) has 6,729,647 sources.\n",
      "And 83,409 have previous spectroscopic classification.\n"
     ]
    }
   ],
   "source": [
    "print(f'The used data set (in {used_area}) has {len(full_catalog_df):,} sources.')\n",
    "print(f'And {np.sum(filter_non_confirmed):,} have previous spectroscopic classification.')"
   ]
  },
  {
   "cell_type": "code",
   "execution_count": 13,
   "metadata": {},
   "outputs": [],
   "source": [
    "full_catalog_df                     = full_catalog_df.loc[~filter_non_confirmed]"
   ]
  },
  {
   "cell_type": "code",
   "execution_count": 14,
   "metadata": {
    "jupyter": {
     "source_hidden": true
    }
   },
   "outputs": [
    {
     "name": "stdout",
     "output_type": "stream",
     "text": [
      "This pipeline will predict properties for 6,646,238 sources in HETDEX.\n"
     ]
    }
   ],
   "source": [
    "print(f'This pipeline will predict properties for {len(full_catalog_df):,} sources in {used_area}.')"
   ]
  },
  {
   "cell_type": "markdown",
   "metadata": {},
   "source": [
    "---"
   ]
  },
  {
   "cell_type": "markdown",
   "metadata": {},
   "source": [
    "### Load models"
   ]
  },
  {
   "cell_type": "code",
   "execution_count": 15,
   "metadata": {},
   "outputs": [
    {
     "name": "stdout",
     "output_type": "stream",
     "text": [
      "Transformation Pipeline and Model Successfully Loaded\n",
      "Transformation Pipeline and Model Successfully Loaded\n",
      "Transformation Pipeline and Model Successfully Loaded\n"
     ]
    }
   ],
   "source": [
    "if load_models_flag:\n",
    "    if use_zeroth_model:\n",
    "        star_clf        = pyc.load_model(gv.models_path + gv.star_model)  # star/no-star model\n",
    "        cal_star_clf    = load(gv.models_path + gv.cal_str_model)  # calibrated model\n",
    "    AGN_gal_clf         = pyc.load_model(gv.models_path + gv.AGN_gal_model)  #\n",
    "    cal_AGN_gal_clf     = load(gv.models_path + gv.cal_AGN_gal_model)  # calibrated model\n",
    "    radio_det_clf       = pyc.load_model(gv.models_path + gv.radio_model)  # without predicted AGN\n",
    "    cal_radio_det_clf   = load(gv.models_path + gv.cal_radio_model)  # calibrated model\n",
    "    redshift_reg        = pyr.load_model(gv.models_path + gv.full_z_model)  # to use on full sample\n",
    "    if use_second_z_model:\n",
    "        redshift_reg_2  = pyr.load_model(gv.models_path + gv.high_z_model)  # sources with predicted z >= 3.6"
   ]
  },
  {
   "cell_type": "code",
   "execution_count": 16,
   "metadata": {
    "jupyter": {
     "source_hidden": true
    }
   },
   "outputs": [],
   "source": [
    "full_catalog_df = pyc.predict_model(AGN_gal_clf, data=full_catalog_df, probability_threshold=gv.AGN_thresh, raw_score=True, round=10)\n",
    "full_catalog_df = full_catalog_df.drop(columns=['Score_0'])\n",
    "full_catalog_df = full_catalog_df.rename(columns={'Label': 'pred_class', 'Score_1': 'Score_AGN'})\n",
    "full_catalog_df['Score_AGN'] = np.around(full_catalog_df.loc[:, 'Score_AGN'], decimals=7)\n",
    "pred_probs_AGN  = cal_AGN_gal_clf.predict(full_catalog_df.loc[:, 'Score_AGN'])\n",
    "full_catalog_df['Prob_AGN'] = pred_probs_AGN"
   ]
  },
  {
   "cell_type": "code",
   "execution_count": 17,
   "metadata": {
    "jupyter": {
     "source_hidden": true
    }
   },
   "outputs": [],
   "source": [
    "full_catalog_df = pyc.predict_model(radio_det_clf, data=full_catalog_df, probability_threshold=gv.radio_thresh, raw_score=True, round=10)\n",
    "full_catalog_df = full_catalog_df.drop(columns=['Score_0'])\n",
    "full_catalog_df = full_catalog_df.rename(columns={'Label': 'pred_radio', 'Score_1': 'Score_radio'})\n",
    "full_catalog_df['Score_radio'] = np.around(full_catalog_df.loc[:, 'Score_radio'], decimals=7)\n",
    "pred_probs_rad  = cal_radio_det_clf.predict(full_catalog_df.loc[:, 'Score_radio'])\n",
    "full_catalog_df['Prob_radio'] = pred_probs_rad"
   ]
  },
  {
   "cell_type": "code",
   "execution_count": 18,
   "metadata": {
    "jupyter": {
     "source_hidden": true
    }
   },
   "outputs": [],
   "source": [
    "full_catalog_df = pyr.predict_model(redshift_reg, data=full_catalog_df, round=8)\n",
    "full_catalog_df = full_catalog_df.rename(columns={'Label': 'pred_Z'})\n",
    "full_catalog_df['pred_Z'] = np.around(full_catalog_df.loc[:, 'pred_Z'], decimals=3)"
   ]
  },
  {
   "cell_type": "code",
   "execution_count": 19,
   "metadata": {
    "jupyter": {
     "source_hidden": true
    }
   },
   "outputs": [],
   "source": [
    "redshift_tol    = 0.0\n",
    "if use_second_z_model:\n",
    "    full_catalog_df = pyr.predict_model(redshift_reg_2, data=full_catalog_df, round=6)\n",
    "    filter_pred_z   = full_catalog_df.loc[:, 'pred_Z'] >= (gv.high_z_limit + redshift_tol)\n",
    "    full_catalog_df.loc[:, 'pred_Z'] = full_catalog_df.loc[:, 'pred_Z'].mask(filter_pred_z, full_catalog_df.loc[filter_pred_z, 'Label'])\n",
    "    full_catalog_df = full_catalog_df.drop(columns=['Label'])\n",
    "    full_catalog_df.loc[:, 'pred_Z'] = np.around(full_catalog_df.loc[:, 'pred_Z'], decimals=3)"
   ]
  },
  {
   "cell_type": "code",
   "execution_count": 20,
   "metadata": {
    "jupyter": {
     "source_hidden": true
    },
    "tags": []
   },
   "outputs": [
    {
     "data": {
      "image/png": "[encoded data removed]",
      "text/plain": [
       "<Figure size 600x500 with 3 Axes>"
      ]
     },
     "metadata": {},
     "output_type": "display_data"
    }
   ],
   "source": [
    "fig             = plt.figure(figsize=(6,5))\n",
    "ax1             = fig.add_subplot(111, projection='scatter_density', xscale='log', yscale='log')\n",
    "ax1 = gf.plot_redshift_compare(full_catalog_df.loc[:, 'Z'], full_catalog_df.loc[:, 'pred_Z'], ax_pre=ax1, title=None, dpi=10, show_clb=True, log_stretch=False)\n",
    "ax1.axvline(x=(1 + gv.high_z_limit), ls='--', c='k', lw=2.5)\n",
    "if use_second_z_model:\n",
    "    ax1.set_ylabel('$1 + Z_{\\mathrm{Predicted}}^{\\mathrm{combined\\,models}}$', size=20)\n",
    "plt.show()"
   ]
  },
  {
   "cell_type": "code",
   "execution_count": 21,
   "metadata": {
    "jupyter": {
     "source_hidden": true
    }
   },
   "outputs": [],
   "source": [
    "full_catalog_df['pred_prob_class']    = (full_catalog_df.loc[:, 'Prob_AGN']   >= gv.cal_AGN_thresh).astype(int)\n",
    "full_catalog_df['pred_prob_radio']    = (full_catalog_df.loc[:, 'Prob_radio'] >= gv.cal_radio_thresh).astype(int)"
   ]
  },
  {
   "cell_type": "code",
   "execution_count": 22,
   "metadata": {
    "jupyter": {
     "source_hidden": true
    }
   },
   "outputs": [],
   "source": [
    "full_catalog_df['pred_radio_AGN']     = (np.array(full_catalog_df.loc[:, 'pred_class'] == 1) & np.array(full_catalog_df.loc[:, 'pred_radio'] == 1)).astype(int)\n",
    "full_catalog_df['Score_rAGN']         = full_catalog_df.loc[:, 'Score_AGN'] * full_catalog_df.loc[:, 'Score_radio']\n",
    "full_catalog_df['pred_prob_rAGN']     = (np.array(full_catalog_df.loc[:, 'pred_prob_class'] == 1) & np.array(full_catalog_df.loc[:, 'pred_prob_radio'] == 1)).astype(int)\n",
    "full_catalog_df['Prob_rAGN']          = full_catalog_df.loc[:, 'Prob_AGN'] * full_catalog_df.loc[:, 'Prob_radio']\n",
    "\n",
    "rad_score_scaler                      = MinMaxScaler()\n",
    "full_catalog_df['scaled_score_radio'] = rad_score_scaler.fit_transform(full_catalog_df.loc[:, 'Score_radio'].values.reshape(-1, 1))\n",
    "full_catalog_df['scaled_score_rAGN']  = full_catalog_df.loc[:, 'Score_AGN'] * full_catalog_df.loc[:, 'scaled_score_radio']"
   ]
  },
  {
   "cell_type": "code",
   "execution_count": 23,
   "metadata": {},
   "outputs": [
    {
     "data": {
      "text/html": [
       "<div>\n",
       "<style scoped>\n",
       "    .dataframe tbody tr th:only-of-type {\n",
       "        vertical-align: middle;\n",
       "    }\n",
       "\n",
       "    .dataframe tbody tr th {\n",
       "        vertical-align: top;\n",
       "    }\n",
       "\n",
       "    .dataframe thead th {\n",
       "        text-align: right;\n",
       "    }\n",
       "</style>\n",
       "<table border=\"1\" class=\"dataframe\">\n",
       "  <thead>\n",
       "    <tr style=\"text-align: right;\">\n",
       "      <th></th>\n",
       "      <th>class</th>\n",
       "      <th>pred_class</th>\n",
       "      <th>radio_detect</th>\n",
       "      <th>pred_radio</th>\n",
       "      <th>Z</th>\n",
       "      <th>pred_Z</th>\n",
       "    </tr>\n",
       "  </thead>\n",
       "  <tbody>\n",
       "    <tr>\n",
       "      <th>count</th>\n",
       "      <td>0.0</td>\n",
       "      <td>6.646238e+06</td>\n",
       "      <td>6.646238e+06</td>\n",
       "      <td>6.646238e+06</td>\n",
       "      <td>9662.000000</td>\n",
       "      <td>6.646238e+06</td>\n",
       "    </tr>\n",
       "    <tr>\n",
       "      <th>mean</th>\n",
       "      <td>NaN</td>\n",
       "      <td>1.181426e-01</td>\n",
       "      <td>4.826069e-02</td>\n",
       "      <td>8.106556e-02</td>\n",
       "      <td>0.400833</td>\n",
       "      <td>2.172043e+00</td>\n",
       "    </tr>\n",
       "    <tr>\n",
       "      <th>std</th>\n",
       "      <td>NaN</td>\n",
       "      <td>3.227770e-01</td>\n",
       "      <td>2.143166e-01</td>\n",
       "      <td>2.729358e-01</td>\n",
       "      <td>0.925536</td>\n",
       "      <td>6.698327e-01</td>\n",
       "    </tr>\n",
       "    <tr>\n",
       "      <th>min</th>\n",
       "      <td>NaN</td>\n",
       "      <td>0.000000e+00</td>\n",
       "      <td>0.000000e+00</td>\n",
       "      <td>0.000000e+00</td>\n",
       "      <td>-0.004140</td>\n",
       "      <td>1.600000e-02</td>\n",
       "    </tr>\n",
       "    <tr>\n",
       "      <th>25%</th>\n",
       "      <td>NaN</td>\n",
       "      <td>0.000000e+00</td>\n",
       "      <td>0.000000e+00</td>\n",
       "      <td>0.000000e+00</td>\n",
       "      <td>-0.000220</td>\n",
       "      <td>2.103000e+00</td>\n",
       "    </tr>\n",
       "    <tr>\n",
       "      <th>50%</th>\n",
       "      <td>NaN</td>\n",
       "      <td>0.000000e+00</td>\n",
       "      <td>0.000000e+00</td>\n",
       "      <td>0.000000e+00</td>\n",
       "      <td>-0.000010</td>\n",
       "      <td>2.283000e+00</td>\n",
       "    </tr>\n",
       "    <tr>\n",
       "      <th>75%</th>\n",
       "      <td>NaN</td>\n",
       "      <td>0.000000e+00</td>\n",
       "      <td>0.000000e+00</td>\n",
       "      <td>0.000000e+00</td>\n",
       "      <td>0.377580</td>\n",
       "      <td>2.283000e+00</td>\n",
       "    </tr>\n",
       "    <tr>\n",
       "      <th>max</th>\n",
       "      <td>NaN</td>\n",
       "      <td>1.000000e+00</td>\n",
       "      <td>1.000000e+00</td>\n",
       "      <td>1.000000e+00</td>\n",
       "      <td>7.028330</td>\n",
       "      <td>4.732000e+00</td>\n",
       "    </tr>\n",
       "  </tbody>\n",
       "</table>\n",
       "</div>"
      ],
      "text/plain": [
       "       class    pred_class  radio_detect    pred_radio            Z  \\\n",
       "count    0.0  6.646238e+06  6.646238e+06  6.646238e+06  9662.000000   \n",
       "mean     NaN  1.181426e-01  4.826069e-02  8.106556e-02     0.400833   \n",
       "std      NaN  3.227770e-01  2.143166e-01  2.729358e-01     0.925536   \n",
       "min      NaN  0.000000e+00  0.000000e+00  0.000000e+00    -0.004140   \n",
       "25%      NaN  0.000000e+00  0.000000e+00  0.000000e+00    -0.000220   \n",
       "50%      NaN  0.000000e+00  0.000000e+00  0.000000e+00    -0.000010   \n",
       "75%      NaN  0.000000e+00  0.000000e+00  0.000000e+00     0.377580   \n",
       "max      NaN  1.000000e+00  1.000000e+00  1.000000e+00     7.028330   \n",
       "\n",
       "             pred_Z  \n",
       "count  6.646238e+06  \n",
       "mean   2.172043e+00  \n",
       "std    6.698327e-01  \n",
       "min    1.600000e-02  \n",
       "25%    2.103000e+00  \n",
       "50%    2.283000e+00  \n",
       "75%    2.283000e+00  \n",
       "max    4.732000e+00  "
      ]
     },
     "execution_count": 23,
     "metadata": {},
     "output_type": "execute_result"
    }
   ],
   "source": [
    "full_catalog_df.loc[:, ['class', 'pred_class', 'radio_detect', 'pred_radio', 'Z', 'pred_Z']].describe()"
   ]
  },
  {
   "cell_type": "markdown",
   "metadata": {},
   "source": [
    "Obtain intermediate metrics"
   ]
  },
  {
   "cell_type": "code",
   "execution_count": 24,
   "metadata": {
    "jupyter": {
     "source_hidden": true
    }
   },
   "outputs": [],
   "source": [
    "filter_radio_AGN_t      = np.array(full_catalog_df.loc[:, 'class'] == 1) & np.array(full_catalog_df.loc[:, 'radio_detect'] == 1)\n",
    "filter_gal_AGN_t        = np.array(full_catalog_df.loc[:, 'class'] == 0) | np.array(full_catalog_df.loc[:, 'class'] == 1)\n",
    "total_size              = len(full_catalog_df)\n",
    "filter_AGN_t            = np.array(full_catalog_df.loc[:, 'class'] == 1)\n",
    "num_AGN_t               = np.sum(filter_AGN_t)\n",
    "num_gal_t               = np.sum(np.array(full_catalog_df.loc[:, 'class'] == 0))\n",
    "num_radio_t             = np.sum(np.array(full_catalog_df.loc[:, 'radio_detect'] == 1))\n",
    "num_radio_AGN_t         = np.sum(filter_radio_AGN_t)"
   ]
  },
  {
   "cell_type": "code",
   "execution_count": 25,
   "metadata": {
    "jupyter": {
     "source_hidden": true
    }
   },
   "outputs": [],
   "source": [
    "# filter_radio_AGN_p      = np.array(full_catalog_df.loc[:, 'Score_AGN']          >= threshold_AGN) &\\\n",
    "#                             np.array(full_catalog_df.loc[:, 'Score_radio']      >= threshold_radio)\n",
    "filter_radio_AGN_p      = np.array(full_catalog_df.loc[:, 'pred_class']      == 1) &\\\n",
    "                            np.array(full_catalog_df.loc[:, 'pred_radio']    == 1)\n",
    "filt_hiz_rAGN_p         = filter_radio_AGN_p * np.array(full_catalog_df.loc[:, 'pred_Z'] >= gv.high_z_limit)\n",
    "filter_AGN_p            = np.array(full_catalog_df.loc[:, 'pred_class']      == 1)\n",
    "filter_radio_p          = np.array(full_catalog_df.loc[:, 'pred_radio']      == 1)\n",
    "num_AGN_p               = np.sum(filter_AGN_p)\n",
    "num_gal_p               = np.sum(np.array(full_catalog_df.loc[:, 'pred_class'] == 0))\n",
    "num_radio_p             = np.sum(filter_radio_p)\n",
    "num_radio_AGN_p         = np.sum(filter_radio_AGN_p)"
   ]
  },
  {
   "cell_type": "markdown",
   "metadata": {},
   "source": [
    "### Select sources predicted to be Radio AGN"
   ]
  },
  {
   "cell_type": "code",
   "execution_count": 26,
   "metadata": {},
   "outputs": [],
   "source": [
    "full_catalog_df         = full_catalog_df.loc[filter_radio_AGN_p]"
   ]
  },
  {
   "cell_type": "code",
   "execution_count": 27,
   "metadata": {},
   "outputs": [
    {
     "data": {
      "text/html": [
       "<div>\n",
       "<style scoped>\n",
       "    .dataframe tbody tr th:only-of-type {\n",
       "        vertical-align: middle;\n",
       "    }\n",
       "\n",
       "    .dataframe tbody tr th {\n",
       "        vertical-align: top;\n",
       "    }\n",
       "\n",
       "    .dataframe thead th {\n",
       "        text-align: right;\n",
       "    }\n",
       "</style>\n",
       "<table border=\"1\" class=\"dataframe\">\n",
       "  <thead>\n",
       "    <tr style=\"text-align: right;\">\n",
       "      <th></th>\n",
       "      <th>class</th>\n",
       "      <th>pred_class</th>\n",
       "      <th>radio_detect</th>\n",
       "      <th>pred_radio</th>\n",
       "      <th>Z</th>\n",
       "      <th>pred_Z</th>\n",
       "    </tr>\n",
       "  </thead>\n",
       "  <tbody>\n",
       "    <tr>\n",
       "      <th>count</th>\n",
       "      <td>0.0</td>\n",
       "      <td>97873.0</td>\n",
       "      <td>97873.000000</td>\n",
       "      <td>97873.0</td>\n",
       "      <td>741.000000</td>\n",
       "      <td>97873.000000</td>\n",
       "    </tr>\n",
       "    <tr>\n",
       "      <th>mean</th>\n",
       "      <td>NaN</td>\n",
       "      <td>1.0</td>\n",
       "      <td>0.222063</td>\n",
       "      <td>1.0</td>\n",
       "      <td>0.673023</td>\n",
       "      <td>1.924976</td>\n",
       "    </tr>\n",
       "    <tr>\n",
       "      <th>std</th>\n",
       "      <td>NaN</td>\n",
       "      <td>0.0</td>\n",
       "      <td>0.415636</td>\n",
       "      <td>0.0</td>\n",
       "      <td>0.967323</td>\n",
       "      <td>0.830067</td>\n",
       "    </tr>\n",
       "    <tr>\n",
       "      <th>min</th>\n",
       "      <td>NaN</td>\n",
       "      <td>1.0</td>\n",
       "      <td>0.000000</td>\n",
       "      <td>1.0</td>\n",
       "      <td>-0.000340</td>\n",
       "      <td>0.016000</td>\n",
       "    </tr>\n",
       "    <tr>\n",
       "      <th>25%</th>\n",
       "      <td>NaN</td>\n",
       "      <td>1.0</td>\n",
       "      <td>0.000000</td>\n",
       "      <td>1.0</td>\n",
       "      <td>0.072880</td>\n",
       "      <td>1.270000</td>\n",
       "    </tr>\n",
       "    <tr>\n",
       "      <th>50%</th>\n",
       "      <td>NaN</td>\n",
       "      <td>1.0</td>\n",
       "      <td>0.000000</td>\n",
       "      <td>1.0</td>\n",
       "      <td>0.300000</td>\n",
       "      <td>2.138000</td>\n",
       "    </tr>\n",
       "    <tr>\n",
       "      <th>75%</th>\n",
       "      <td>NaN</td>\n",
       "      <td>1.0</td>\n",
       "      <td>0.000000</td>\n",
       "      <td>1.0</td>\n",
       "      <td>0.900000</td>\n",
       "      <td>2.536000</td>\n",
       "    </tr>\n",
       "    <tr>\n",
       "      <th>max</th>\n",
       "      <td>NaN</td>\n",
       "      <td>1.0</td>\n",
       "      <td>1.000000</td>\n",
       "      <td>1.0</td>\n",
       "      <td>6.879030</td>\n",
       "      <td>4.732000</td>\n",
       "    </tr>\n",
       "  </tbody>\n",
       "</table>\n",
       "</div>"
      ],
      "text/plain": [
       "       class  pred_class  radio_detect  pred_radio           Z        pred_Z\n",
       "count    0.0     97873.0  97873.000000     97873.0  741.000000  97873.000000\n",
       "mean     NaN         1.0      0.222063         1.0    0.673023      1.924976\n",
       "std      NaN         0.0      0.415636         0.0    0.967323      0.830067\n",
       "min      NaN         1.0      0.000000         1.0   -0.000340      0.016000\n",
       "25%      NaN         1.0      0.000000         1.0    0.072880      1.270000\n",
       "50%      NaN         1.0      0.000000         1.0    0.300000      2.138000\n",
       "75%      NaN         1.0      0.000000         1.0    0.900000      2.536000\n",
       "max      NaN         1.0      1.000000         1.0    6.879030      4.732000"
      ]
     },
     "execution_count": 27,
     "metadata": {},
     "output_type": "execute_result"
    }
   ],
   "source": [
    "full_catalog_df.loc[:, ['class', 'pred_class', 'radio_detect', 'pred_radio', 'Z', 'pred_Z']].describe()"
   ]
  },
  {
   "cell_type": "markdown",
   "metadata": {},
   "source": [
    "Add individual metrics for redshift"
   ]
  },
  {
   "cell_type": "code",
   "execution_count": 28,
   "metadata": {
    "jupyter": {
     "source_hidden": true
    },
    "tags": []
   },
   "outputs": [],
   "source": [
    "full_catalog_df['Delta_z_N'] = np.around((full_catalog_df.loc[:, 'pred_Z'] - full_catalog_df.loc[:, 'Z']) /\\\n",
    "                            (1 + full_catalog_df.loc[:, 'Z']), decimals=3)\n",
    "\n",
    "full_catalog_df['sigma_NMAD'] = np.around(1.48 * np.abs(full_catalog_df.loc[:, 'pred_Z'] - full_catalog_df.loc[:, 'Z']) /\\\n",
    "                            (1 + full_catalog_df.loc[:, 'Z']), decimals=3)"
   ]
  },
  {
   "cell_type": "markdown",
   "metadata": {},
   "source": [
    "Numerical summary."
   ]
  },
  {
   "cell_type": "code",
   "execution_count": 29,
   "metadata": {
    "jupyter": {
     "source_hidden": true
    },
    "tags": []
   },
   "outputs": [],
   "source": [
    "str_0_t   = f'Out of {total_size:,} initial sources in {used_area},\\n'\n",
    "str_1_t   = f'{num_gal_t:,} are confirmed to be galaxies. On the other side,\\n'\n",
    "str_2_t   = f'{num_AGN_t:,} are confirmed to be AGN. And, from the AGN,\\n'\n",
    "str_3_t   = f'{num_radio_AGN_t:,} are detected in radio.'\n",
    "\n",
    "str_0_p   = f'Out of {num_radio_AGN_t:,} initial radio-detected AGN in {used_area},\\n'\n",
    "str_1_p   = f'{num_gal_p:,} are predicted to be galaxies. On the other side,\\n'\n",
    "str_2_p   = f'{num_AGN_p:,} are predicted to be AGN. And, from the predicted AGN,\\n'\n",
    "str_3_p   = f'{num_radio_AGN_p:,} are predicted to be detected in radio.'"
   ]
  },
  {
   "cell_type": "code",
   "execution_count": 30,
   "metadata": {
    "jupyter": {
     "source_hidden": true
    },
    "tags": []
   },
   "outputs": [
    {
     "name": "stdout",
     "output_type": "stream",
     "text": [
      "------------------------------------------------------------\n",
      "Out of 6,646,238 initial sources in HETDEX,\n",
      "0 are confirmed to be galaxies. On the other side,\n",
      "0 are confirmed to be AGN. And, from the AGN,\n",
      "0 are detected in radio.\n",
      "------------------------------------------------------------\n",
      "Out of 0 initial radio-detected AGN in HETDEX,\n",
      "5,861,034 are predicted to be galaxies. On the other side,\n",
      "785,204 are predicted to be AGN. And, from the predicted AGN,\n",
      "97,873 are predicted to be detected in radio.\n",
      "------------------------------------------------------------\n"
     ]
    }
   ],
   "source": [
    "print('-' * 60)\n",
    "print(str_0_t + str_1_t + str_2_t + str_3_t)\n",
    "print('-' * 60)\n",
    "print(str_0_p + str_1_p + str_2_p + str_3_p)\n",
    "print('-' * 60)"
   ]
  },
  {
   "cell_type": "code",
   "execution_count": 31,
   "metadata": {},
   "outputs": [],
   "source": [
    "cols_4_table = show_columns = ['Name', 'RA_ICRS', 'DE_ICRS', 'TYPE', 'band_num', 'class', 'pred_class',\\\n",
    "                               'pred_prob_class', 'Score_AGN', 'Prob_AGN', 'radio_detect', 'pred_radio',\\\n",
    "                               'pred_prob_radio', 'Score_radio', 'Prob_radio', 'radio_AGN', 'pred_radio_AGN',\\\n",
    "                               'pred_prob_rAGN', 'Score_rAGN', 'Prob_rAGN', 'Z', 'pred_Z']"
   ]
  },
  {
   "cell_type": "code",
   "execution_count": 32,
   "metadata": {
    "jupyter": {
     "source_hidden": true
    }
   },
   "outputs": [],
   "source": [
    "cols_4_export_S82    = ['Total_flux_VLASS', 'Fint_VLAS82', 'Stotal_TGSS', 'FEP']\n",
    "cols_4_export_HETDEX = ['Total_flux_VLASS', 'Sint_LOFAR', 'Stotal_TGSS', 'FEP', 'TotalFlux_LoLSS']\n",
    "cols_4_export_COSMOS = ['Total_flux_VLASS', 'Stotal_TGSS', 'FEP', 'Flux_COSMOSVLA3']\n",
    "\n",
    "cols_4_exp_all       = {'S82': cols_4_export_S82, 'HETDEX': cols_4_export_HETDEX, 'COSMOS': cols_4_export_COSMOS}\n",
    "\n",
    "cols_photo           = ['W1mproPM', 'W2mproPM', 'gmag', 'rmag', 'imag', 'zmag', 'ymag',\\\n",
    "                        'Jmag', 'Hmag', 'Kmag', 'W3mag', 'W4mag']\n",
    "\n",
    "cols_4_export        = cols_4_table + cols_4_exp_all[used_area] + cols_photo"
   ]
  },
  {
   "cell_type": "code",
   "execution_count": 33,
   "metadata": {
    "jupyter": {
     "source_hidden": true
    }
   },
   "outputs": [],
   "source": [
    "filter_new_rAGN = full_catalog_df.loc[:, 'radio_AGN'] == 0\n",
    "if predict_only_hi_z:\n",
    "    filter_high_z   = full_catalog_df.loc[:, 'pred_Z']    >= gv.high_z_limit\n",
    "elif not predict_only_hi_z:\n",
    "    filter_high_z   = np.ones_like(full_catalog_df.loc[:, 'pred_Z']).astype(bool)"
   ]
  },
  {
   "cell_type": "code",
   "execution_count": 34,
   "metadata": {},
   "outputs": [],
   "source": [
    "full_catalog_df.loc[:, 'TYPE'] = full_catalog_df.loc[:, 'TYPE'].mask(full_catalog_df.loc[:, 'TYPE'] == '    ', 'CCCC')"
   ]
  },
  {
   "cell_type": "code",
   "execution_count": 35,
   "metadata": {},
   "outputs": [
    {
     "data": {
      "text/html": [
       "<div>\n",
       "<style scoped>\n",
       "    .dataframe tbody tr th:only-of-type {\n",
       "        vertical-align: middle;\n",
       "    }\n",
       "\n",
       "    .dataframe tbody tr th {\n",
       "        vertical-align: top;\n",
       "    }\n",
       "\n",
       "    .dataframe thead th {\n",
       "        text-align: right;\n",
       "    }\n",
       "</style>\n",
       "<table border=\"1\" class=\"dataframe\">\n",
       "  <thead>\n",
       "    <tr style=\"text-align: right;\">\n",
       "      <th></th>\n",
       "      <th>Name</th>\n",
       "      <th>RA_ICRS</th>\n",
       "      <th>DE_ICRS</th>\n",
       "      <th>TYPE</th>\n",
       "      <th>band_num</th>\n",
       "      <th>class</th>\n",
       "      <th>pred_class</th>\n",
       "      <th>pred_prob_class</th>\n",
       "      <th>Score_AGN</th>\n",
       "      <th>Prob_AGN</th>\n",
       "      <th>radio_detect</th>\n",
       "      <th>pred_radio</th>\n",
       "      <th>pred_prob_radio</th>\n",
       "      <th>Score_radio</th>\n",
       "      <th>Prob_radio</th>\n",
       "      <th>radio_AGN</th>\n",
       "      <th>pred_radio_AGN</th>\n",
       "      <th>pred_prob_rAGN</th>\n",
       "      <th>Score_rAGN</th>\n",
       "      <th>Prob_rAGN</th>\n",
       "      <th>Z</th>\n",
       "      <th>pred_Z</th>\n",
       "      <th>Total_flux_VLASS</th>\n",
       "      <th>Sint_LOFAR</th>\n",
       "      <th>Stotal_TGSS</th>\n",
       "      <th>FEP</th>\n",
       "      <th>TotalFlux_LoLSS</th>\n",
       "      <th>W1mproPM</th>\n",
       "      <th>W2mproPM</th>\n",
       "      <th>gmag</th>\n",
       "      <th>rmag</th>\n",
       "      <th>imag</th>\n",
       "      <th>zmag</th>\n",
       "      <th>ymag</th>\n",
       "      <th>Jmag</th>\n",
       "      <th>Hmag</th>\n",
       "      <th>Kmag</th>\n",
       "      <th>W3mag</th>\n",
       "      <th>W4mag</th>\n",
       "    </tr>\n",
       "  </thead>\n",
       "  <tbody>\n",
       "    <tr>\n",
       "      <th>4786343</th>\n",
       "      <td>J151237.08+543229.7</td>\n",
       "      <td>228.154526</td>\n",
       "      <td>54.541595</td>\n",
       "      <td>CCCC</td>\n",
       "      <td>8</td>\n",
       "      <td>NaN</td>\n",
       "      <td>1</td>\n",
       "      <td>1</td>\n",
       "      <td>0.991423</td>\n",
       "      <td>0.987216</td>\n",
       "      <td>0</td>\n",
       "      <td>1</td>\n",
       "      <td>1</td>\n",
       "      <td>0.499064</td>\n",
       "      <td>0.450643</td>\n",
       "      <td>0</td>\n",
       "      <td>1</td>\n",
       "      <td>1</td>\n",
       "      <td>0.494784</td>\n",
       "      <td>0.444882</td>\n",
       "      <td>NaN</td>\n",
       "      <td>4.732</td>\n",
       "      <td>15.21</td>\n",
       "      <td>17.520000</td>\n",
       "      <td>11.18</td>\n",
       "      <td>57.900002</td>\n",
       "      <td>12.91</td>\n",
       "      <td>19.594999</td>\n",
       "      <td>19.809999</td>\n",
       "      <td>23.299999</td>\n",
       "      <td>21.349899</td>\n",
       "      <td>19.876600</td>\n",
       "      <td>19.917700</td>\n",
       "      <td>19.839500</td>\n",
       "      <td>17.450001</td>\n",
       "      <td>17.24</td>\n",
       "      <td>16.59</td>\n",
       "      <td>16.670000</td>\n",
       "      <td>14.62</td>\n",
       "    </tr>\n",
       "    <tr>\n",
       "      <th>5389236</th>\n",
       "      <td>J132135.74+560140.7</td>\n",
       "      <td>200.398926</td>\n",
       "      <td>56.027981</td>\n",
       "      <td>CCCC</td>\n",
       "      <td>8</td>\n",
       "      <td>NaN</td>\n",
       "      <td>1</td>\n",
       "      <td>1</td>\n",
       "      <td>0.700025</td>\n",
       "      <td>0.708180</td>\n",
       "      <td>0</td>\n",
       "      <td>1</td>\n",
       "      <td>1</td>\n",
       "      <td>0.500737</td>\n",
       "      <td>0.613787</td>\n",
       "      <td>0</td>\n",
       "      <td>1</td>\n",
       "      <td>1</td>\n",
       "      <td>0.350528</td>\n",
       "      <td>0.434672</td>\n",
       "      <td>NaN</td>\n",
       "      <td>4.728</td>\n",
       "      <td>15.21</td>\n",
       "      <td>17.520000</td>\n",
       "      <td>11.18</td>\n",
       "      <td>57.900002</td>\n",
       "      <td>12.91</td>\n",
       "      <td>19.286999</td>\n",
       "      <td>19.586000</td>\n",
       "      <td>23.299999</td>\n",
       "      <td>20.695801</td>\n",
       "      <td>19.471300</td>\n",
       "      <td>19.520700</td>\n",
       "      <td>19.297001</td>\n",
       "      <td>17.450001</td>\n",
       "      <td>17.24</td>\n",
       "      <td>16.59</td>\n",
       "      <td>16.670000</td>\n",
       "      <td>14.62</td>\n",
       "    </tr>\n",
       "    <tr>\n",
       "      <th>3410222</th>\n",
       "      <td>J132514.21+534447.1</td>\n",
       "      <td>201.309235</td>\n",
       "      <td>53.746429</td>\n",
       "      <td>CCCC</td>\n",
       "      <td>8</td>\n",
       "      <td>NaN</td>\n",
       "      <td>1</td>\n",
       "      <td>1</td>\n",
       "      <td>0.941747</td>\n",
       "      <td>0.932154</td>\n",
       "      <td>0</td>\n",
       "      <td>1</td>\n",
       "      <td>1</td>\n",
       "      <td>0.501762</td>\n",
       "      <td>0.704527</td>\n",
       "      <td>0</td>\n",
       "      <td>1</td>\n",
       "      <td>1</td>\n",
       "      <td>0.472533</td>\n",
       "      <td>0.656728</td>\n",
       "      <td>NaN</td>\n",
       "      <td>4.703</td>\n",
       "      <td>15.21</td>\n",
       "      <td>17.520000</td>\n",
       "      <td>11.18</td>\n",
       "      <td>57.900002</td>\n",
       "      <td>12.91</td>\n",
       "      <td>18.823999</td>\n",
       "      <td>19.125999</td>\n",
       "      <td>23.299999</td>\n",
       "      <td>20.935801</td>\n",
       "      <td>19.635599</td>\n",
       "      <td>19.379000</td>\n",
       "      <td>19.478600</td>\n",
       "      <td>17.450001</td>\n",
       "      <td>17.24</td>\n",
       "      <td>16.59</td>\n",
       "      <td>16.670000</td>\n",
       "      <td>14.62</td>\n",
       "    </tr>\n",
       "    <tr>\n",
       "      <th>4777479</th>\n",
       "      <td>J130631.93+541725.6</td>\n",
       "      <td>196.633072</td>\n",
       "      <td>54.290443</td>\n",
       "      <td>CCCC</td>\n",
       "      <td>8</td>\n",
       "      <td>NaN</td>\n",
       "      <td>1</td>\n",
       "      <td>1</td>\n",
       "      <td>0.740830</td>\n",
       "      <td>0.744960</td>\n",
       "      <td>0</td>\n",
       "      <td>1</td>\n",
       "      <td>1</td>\n",
       "      <td>0.501762</td>\n",
       "      <td>0.704527</td>\n",
       "      <td>0</td>\n",
       "      <td>1</td>\n",
       "      <td>1</td>\n",
       "      <td>0.371721</td>\n",
       "      <td>0.524845</td>\n",
       "      <td>NaN</td>\n",
       "      <td>4.667</td>\n",
       "      <td>15.21</td>\n",
       "      <td>17.520000</td>\n",
       "      <td>11.18</td>\n",
       "      <td>57.900002</td>\n",
       "      <td>12.91</td>\n",
       "      <td>18.786999</td>\n",
       "      <td>18.851000</td>\n",
       "      <td>23.299999</td>\n",
       "      <td>20.029100</td>\n",
       "      <td>19.023899</td>\n",
       "      <td>18.797701</td>\n",
       "      <td>19.126400</td>\n",
       "      <td>17.450001</td>\n",
       "      <td>17.24</td>\n",
       "      <td>16.59</td>\n",
       "      <td>16.363001</td>\n",
       "      <td>14.62</td>\n",
       "    </tr>\n",
       "    <tr>\n",
       "      <th>1221351</th>\n",
       "      <td>J130146.24+494712.6</td>\n",
       "      <td>195.442673</td>\n",
       "      <td>49.786835</td>\n",
       "      <td>CCCC</td>\n",
       "      <td>8</td>\n",
       "      <td>NaN</td>\n",
       "      <td>1</td>\n",
       "      <td>0</td>\n",
       "      <td>0.467531</td>\n",
       "      <td>0.493739</td>\n",
       "      <td>1</td>\n",
       "      <td>1</td>\n",
       "      <td>1</td>\n",
       "      <td>0.501762</td>\n",
       "      <td>0.704527</td>\n",
       "      <td>0</td>\n",
       "      <td>1</td>\n",
       "      <td>0</td>\n",
       "      <td>0.234589</td>\n",
       "      <td>0.347853</td>\n",
       "      <td>NaN</td>\n",
       "      <td>4.626</td>\n",
       "      <td>15.21</td>\n",
       "      <td>17.152575</td>\n",
       "      <td>11.18</td>\n",
       "      <td>57.900002</td>\n",
       "      <td>12.91</td>\n",
       "      <td>18.893000</td>\n",
       "      <td>19.232000</td>\n",
       "      <td>23.299999</td>\n",
       "      <td>21.499100</td>\n",
       "      <td>20.089300</td>\n",
       "      <td>19.909300</td>\n",
       "      <td>19.852301</td>\n",
       "      <td>17.450001</td>\n",
       "      <td>17.24</td>\n",
       "      <td>16.59</td>\n",
       "      <td>16.670000</td>\n",
       "      <td>14.62</td>\n",
       "    </tr>\n",
       "    <tr>\n",
       "      <th>5295975</th>\n",
       "      <td>J133039.01+470355.4</td>\n",
       "      <td>202.662521</td>\n",
       "      <td>47.065407</td>\n",
       "      <td>CCCC</td>\n",
       "      <td>9</td>\n",
       "      <td>NaN</td>\n",
       "      <td>1</td>\n",
       "      <td>1</td>\n",
       "      <td>0.800322</td>\n",
       "      <td>0.798717</td>\n",
       "      <td>0</td>\n",
       "      <td>1</td>\n",
       "      <td>1</td>\n",
       "      <td>0.501762</td>\n",
       "      <td>0.704527</td>\n",
       "      <td>0</td>\n",
       "      <td>1</td>\n",
       "      <td>1</td>\n",
       "      <td>0.401571</td>\n",
       "      <td>0.562718</td>\n",
       "      <td>NaN</td>\n",
       "      <td>4.555</td>\n",
       "      <td>15.21</td>\n",
       "      <td>17.520000</td>\n",
       "      <td>11.18</td>\n",
       "      <td>57.900002</td>\n",
       "      <td>12.91</td>\n",
       "      <td>19.094000</td>\n",
       "      <td>18.998001</td>\n",
       "      <td>21.711700</td>\n",
       "      <td>20.528799</td>\n",
       "      <td>19.275299</td>\n",
       "      <td>19.402700</td>\n",
       "      <td>19.178801</td>\n",
       "      <td>17.450001</td>\n",
       "      <td>17.24</td>\n",
       "      <td>16.59</td>\n",
       "      <td>16.670000</td>\n",
       "      <td>14.62</td>\n",
       "    </tr>\n",
       "    <tr>\n",
       "      <th>2584274</th>\n",
       "      <td>J145230.01+502419.5</td>\n",
       "      <td>223.125076</td>\n",
       "      <td>50.405418</td>\n",
       "      <td>CCCC</td>\n",
       "      <td>9</td>\n",
       "      <td>NaN</td>\n",
       "      <td>1</td>\n",
       "      <td>0</td>\n",
       "      <td>0.457266</td>\n",
       "      <td>0.483934</td>\n",
       "      <td>1</td>\n",
       "      <td>1</td>\n",
       "      <td>1</td>\n",
       "      <td>0.501503</td>\n",
       "      <td>0.682750</td>\n",
       "      <td>0</td>\n",
       "      <td>1</td>\n",
       "      <td>0</td>\n",
       "      <td>0.229320</td>\n",
       "      <td>0.330406</td>\n",
       "      <td>NaN</td>\n",
       "      <td>4.448</td>\n",
       "      <td>15.21</td>\n",
       "      <td>16.787254</td>\n",
       "      <td>11.18</td>\n",
       "      <td>57.900002</td>\n",
       "      <td>12.91</td>\n",
       "      <td>19.000000</td>\n",
       "      <td>19.038000</td>\n",
       "      <td>21.232100</td>\n",
       "      <td>19.857100</td>\n",
       "      <td>18.964199</td>\n",
       "      <td>18.902700</td>\n",
       "      <td>18.795900</td>\n",
       "      <td>17.450001</td>\n",
       "      <td>17.24</td>\n",
       "      <td>16.59</td>\n",
       "      <td>16.670000</td>\n",
       "      <td>14.62</td>\n",
       "    </tr>\n",
       "    <tr>\n",
       "      <th>5947925</th>\n",
       "      <td>J123237.54+492244.4</td>\n",
       "      <td>188.156418</td>\n",
       "      <td>49.378998</td>\n",
       "      <td>CCCC</td>\n",
       "      <td>8</td>\n",
       "      <td>NaN</td>\n",
       "      <td>1</td>\n",
       "      <td>1</td>\n",
       "      <td>0.951729</td>\n",
       "      <td>0.942419</td>\n",
       "      <td>0</td>\n",
       "      <td>1</td>\n",
       "      <td>1</td>\n",
       "      <td>0.499340</td>\n",
       "      <td>0.477706</td>\n",
       "      <td>0</td>\n",
       "      <td>1</td>\n",
       "      <td>1</td>\n",
       "      <td>0.475236</td>\n",
       "      <td>0.450199</td>\n",
       "      <td>NaN</td>\n",
       "      <td>4.439</td>\n",
       "      <td>15.21</td>\n",
       "      <td>17.520000</td>\n",
       "      <td>11.18</td>\n",
       "      <td>57.900002</td>\n",
       "      <td>12.91</td>\n",
       "      <td>19.039999</td>\n",
       "      <td>19.445002</td>\n",
       "      <td>23.299999</td>\n",
       "      <td>21.193501</td>\n",
       "      <td>19.780500</td>\n",
       "      <td>19.150400</td>\n",
       "      <td>18.859900</td>\n",
       "      <td>17.450001</td>\n",
       "      <td>17.24</td>\n",
       "      <td>16.59</td>\n",
       "      <td>16.670000</td>\n",
       "      <td>14.62</td>\n",
       "    </tr>\n",
       "    <tr>\n",
       "      <th>6379554</th>\n",
       "      <td>J143330.08+541300.5</td>\n",
       "      <td>218.375336</td>\n",
       "      <td>54.216816</td>\n",
       "      <td>CCCC</td>\n",
       "      <td>8</td>\n",
       "      <td>NaN</td>\n",
       "      <td>1</td>\n",
       "      <td>1</td>\n",
       "      <td>0.880028</td>\n",
       "      <td>0.872138</td>\n",
       "      <td>0</td>\n",
       "      <td>1</td>\n",
       "      <td>1</td>\n",
       "      <td>0.497576</td>\n",
       "      <td>0.312864</td>\n",
       "      <td>0</td>\n",
       "      <td>1</td>\n",
       "      <td>1</td>\n",
       "      <td>0.437881</td>\n",
       "      <td>0.272861</td>\n",
       "      <td>-0.00001</td>\n",
       "      <td>4.439</td>\n",
       "      <td>15.21</td>\n",
       "      <td>17.520000</td>\n",
       "      <td>11.18</td>\n",
       "      <td>57.900002</td>\n",
       "      <td>12.91</td>\n",
       "      <td>19.153000</td>\n",
       "      <td>19.530001</td>\n",
       "      <td>23.299999</td>\n",
       "      <td>21.318199</td>\n",
       "      <td>19.833401</td>\n",
       "      <td>19.130301</td>\n",
       "      <td>18.791401</td>\n",
       "      <td>17.450001</td>\n",
       "      <td>17.24</td>\n",
       "      <td>16.59</td>\n",
       "      <td>16.670000</td>\n",
       "      <td>14.62</td>\n",
       "    </tr>\n",
       "    <tr>\n",
       "      <th>5667713</th>\n",
       "      <td>J133425.57+493048.6</td>\n",
       "      <td>203.606537</td>\n",
       "      <td>49.513512</td>\n",
       "      <td>CCCC</td>\n",
       "      <td>8</td>\n",
       "      <td>NaN</td>\n",
       "      <td>1</td>\n",
       "      <td>1</td>\n",
       "      <td>0.821034</td>\n",
       "      <td>0.817569</td>\n",
       "      <td>0</td>\n",
       "      <td>1</td>\n",
       "      <td>1</td>\n",
       "      <td>0.497576</td>\n",
       "      <td>0.312856</td>\n",
       "      <td>0</td>\n",
       "      <td>1</td>\n",
       "      <td>1</td>\n",
       "      <td>0.408527</td>\n",
       "      <td>0.255781</td>\n",
       "      <td>NaN</td>\n",
       "      <td>4.439</td>\n",
       "      <td>15.21</td>\n",
       "      <td>17.520000</td>\n",
       "      <td>11.18</td>\n",
       "      <td>57.900002</td>\n",
       "      <td>12.91</td>\n",
       "      <td>19.327000</td>\n",
       "      <td>19.702002</td>\n",
       "      <td>23.299999</td>\n",
       "      <td>21.271900</td>\n",
       "      <td>19.854799</td>\n",
       "      <td>19.213900</td>\n",
       "      <td>18.941700</td>\n",
       "      <td>17.450001</td>\n",
       "      <td>17.24</td>\n",
       "      <td>16.59</td>\n",
       "      <td>16.670000</td>\n",
       "      <td>14.62</td>\n",
       "    </tr>\n",
       "    <tr>\n",
       "      <th>6382724</th>\n",
       "      <td>J115218.01+515539.1</td>\n",
       "      <td>178.075043</td>\n",
       "      <td>51.927517</td>\n",
       "      <td>CCCC</td>\n",
       "      <td>8</td>\n",
       "      <td>NaN</td>\n",
       "      <td>1</td>\n",
       "      <td>1</td>\n",
       "      <td>0.629197</td>\n",
       "      <td>0.644037</td>\n",
       "      <td>0</td>\n",
       "      <td>1</td>\n",
       "      <td>1</td>\n",
       "      <td>0.497576</td>\n",
       "      <td>0.312864</td>\n",
       "      <td>0</td>\n",
       "      <td>1</td>\n",
       "      <td>1</td>\n",
       "      <td>0.313073</td>\n",
       "      <td>0.201496</td>\n",
       "      <td>NaN</td>\n",
       "      <td>4.439</td>\n",
       "      <td>15.21</td>\n",
       "      <td>17.520000</td>\n",
       "      <td>11.18</td>\n",
       "      <td>57.900002</td>\n",
       "      <td>12.91</td>\n",
       "      <td>19.085999</td>\n",
       "      <td>19.486000</td>\n",
       "      <td>23.299999</td>\n",
       "      <td>21.287399</td>\n",
       "      <td>19.822800</td>\n",
       "      <td>19.159901</td>\n",
       "      <td>18.794399</td>\n",
       "      <td>17.450001</td>\n",
       "      <td>17.24</td>\n",
       "      <td>16.59</td>\n",
       "      <td>16.670000</td>\n",
       "      <td>14.62</td>\n",
       "    </tr>\n",
       "    <tr>\n",
       "      <th>6127587</th>\n",
       "      <td>J133147.37+520957.1</td>\n",
       "      <td>202.947357</td>\n",
       "      <td>52.165878</td>\n",
       "      <td>CCCC</td>\n",
       "      <td>6</td>\n",
       "      <td>NaN</td>\n",
       "      <td>1</td>\n",
       "      <td>1</td>\n",
       "      <td>0.592081</td>\n",
       "      <td>0.610112</td>\n",
       "      <td>0</td>\n",
       "      <td>1</td>\n",
       "      <td>1</td>\n",
       "      <td>0.497576</td>\n",
       "      <td>0.312864</td>\n",
       "      <td>0</td>\n",
       "      <td>1</td>\n",
       "      <td>1</td>\n",
       "      <td>0.294605</td>\n",
       "      <td>0.190882</td>\n",
       "      <td>NaN</td>\n",
       "      <td>4.439</td>\n",
       "      <td>15.21</td>\n",
       "      <td>17.520000</td>\n",
       "      <td>11.18</td>\n",
       "      <td>57.900002</td>\n",
       "      <td>12.91</td>\n",
       "      <td>19.413000</td>\n",
       "      <td>19.809999</td>\n",
       "      <td>23.299999</td>\n",
       "      <td>21.163000</td>\n",
       "      <td>19.795601</td>\n",
       "      <td>19.163900</td>\n",
       "      <td>18.856800</td>\n",
       "      <td>17.450001</td>\n",
       "      <td>17.24</td>\n",
       "      <td>16.59</td>\n",
       "      <td>16.670000</td>\n",
       "      <td>14.62</td>\n",
       "    </tr>\n",
       "    <tr>\n",
       "      <th>6382395</th>\n",
       "      <td>J141000.64+483206.0</td>\n",
       "      <td>212.502655</td>\n",
       "      <td>48.534992</td>\n",
       "      <td>CCCC</td>\n",
       "      <td>8</td>\n",
       "      <td>NaN</td>\n",
       "      <td>1</td>\n",
       "      <td>1</td>\n",
       "      <td>0.870314</td>\n",
       "      <td>0.863028</td>\n",
       "      <td>0</td>\n",
       "      <td>1</td>\n",
       "      <td>1</td>\n",
       "      <td>0.497329</td>\n",
       "      <td>0.292256</td>\n",
       "      <td>0</td>\n",
       "      <td>1</td>\n",
       "      <td>1</td>\n",
       "      <td>0.432832</td>\n",
       "      <td>0.252225</td>\n",
       "      <td>NaN</td>\n",
       "      <td>4.439</td>\n",
       "      <td>15.21</td>\n",
       "      <td>17.520000</td>\n",
       "      <td>11.18</td>\n",
       "      <td>57.900002</td>\n",
       "      <td>12.91</td>\n",
       "      <td>19.258999</td>\n",
       "      <td>19.628000</td>\n",
       "      <td>23.299999</td>\n",
       "      <td>21.208401</td>\n",
       "      <td>19.823799</td>\n",
       "      <td>19.196699</td>\n",
       "      <td>18.859501</td>\n",
       "      <td>17.450001</td>\n",
       "      <td>17.24</td>\n",
       "      <td>16.59</td>\n",
       "      <td>16.670000</td>\n",
       "      <td>14.62</td>\n",
       "    </tr>\n",
       "    <tr>\n",
       "      <th>2461551</th>\n",
       "      <td>J135451.58+492559.1</td>\n",
       "      <td>208.714890</td>\n",
       "      <td>49.433083</td>\n",
       "      <td>CCCC</td>\n",
       "      <td>6</td>\n",
       "      <td>NaN</td>\n",
       "      <td>1</td>\n",
       "      <td>1</td>\n",
       "      <td>0.961464</td>\n",
       "      <td>0.952684</td>\n",
       "      <td>0</td>\n",
       "      <td>1</td>\n",
       "      <td>1</td>\n",
       "      <td>0.497496</td>\n",
       "      <td>0.306120</td>\n",
       "      <td>0</td>\n",
       "      <td>1</td>\n",
       "      <td>1</td>\n",
       "      <td>0.478324</td>\n",
       "      <td>0.291635</td>\n",
       "      <td>NaN</td>\n",
       "      <td>4.439</td>\n",
       "      <td>15.21</td>\n",
       "      <td>17.520000</td>\n",
       "      <td>11.18</td>\n",
       "      <td>57.900002</td>\n",
       "      <td>12.91</td>\n",
       "      <td>19.296999</td>\n",
       "      <td>19.559000</td>\n",
       "      <td>23.299999</td>\n",
       "      <td>21.334900</td>\n",
       "      <td>20.040899</td>\n",
       "      <td>19.346800</td>\n",
       "      <td>19.040899</td>\n",
       "      <td>17.450001</td>\n",
       "      <td>17.24</td>\n",
       "      <td>16.59</td>\n",
       "      <td>16.670000</td>\n",
       "      <td>14.62</td>\n",
       "    </tr>\n",
       "    <tr>\n",
       "      <th>4690280</th>\n",
       "      <td>J135818.16+533713.3</td>\n",
       "      <td>209.575653</td>\n",
       "      <td>53.620373</td>\n",
       "      <td>CCCC</td>\n",
       "      <td>8</td>\n",
       "      <td>NaN</td>\n",
       "      <td>1</td>\n",
       "      <td>1</td>\n",
       "      <td>0.636130</td>\n",
       "      <td>0.650346</td>\n",
       "      <td>0</td>\n",
       "      <td>1</td>\n",
       "      <td>1</td>\n",
       "      <td>0.497329</td>\n",
       "      <td>0.292256</td>\n",
       "      <td>0</td>\n",
       "      <td>1</td>\n",
       "      <td>1</td>\n",
       "      <td>0.316366</td>\n",
       "      <td>0.190068</td>\n",
       "      <td>NaN</td>\n",
       "      <td>4.439</td>\n",
       "      <td>15.21</td>\n",
       "      <td>17.520000</td>\n",
       "      <td>11.18</td>\n",
       "      <td>57.900002</td>\n",
       "      <td>12.91</td>\n",
       "      <td>19.355999</td>\n",
       "      <td>19.740000</td>\n",
       "      <td>23.299999</td>\n",
       "      <td>21.302601</td>\n",
       "      <td>19.907499</td>\n",
       "      <td>19.221800</td>\n",
       "      <td>18.940500</td>\n",
       "      <td>17.450001</td>\n",
       "      <td>17.24</td>\n",
       "      <td>16.59</td>\n",
       "      <td>16.670000</td>\n",
       "      <td>14.62</td>\n",
       "    </tr>\n",
       "  </tbody>\n",
       "</table>\n",
       "</div>"
      ],
      "text/plain": [
       "                         Name     RA_ICRS    DE_ICRS  TYPE  band_num  class  \\\n",
       "4786343  J151237.08+543229.7   228.154526  54.541595  CCCC         8    NaN   \n",
       "5389236  J132135.74+560140.7   200.398926  56.027981  CCCC         8    NaN   \n",
       "3410222  J132514.21+534447.1   201.309235  53.746429  CCCC         8    NaN   \n",
       "4777479  J130631.93+541725.6   196.633072  54.290443  CCCC         8    NaN   \n",
       "1221351  J130146.24+494712.6   195.442673  49.786835  CCCC         8    NaN   \n",
       "5295975  J133039.01+470355.4   202.662521  47.065407  CCCC         9    NaN   \n",
       "2584274  J145230.01+502419.5   223.125076  50.405418  CCCC         9    NaN   \n",
       "5947925  J123237.54+492244.4   188.156418  49.378998  CCCC         8    NaN   \n",
       "6379554  J143330.08+541300.5   218.375336  54.216816  CCCC         8    NaN   \n",
       "5667713  J133425.57+493048.6   203.606537  49.513512  CCCC         8    NaN   \n",
       "6382724  J115218.01+515539.1   178.075043  51.927517  CCCC         8    NaN   \n",
       "6127587  J133147.37+520957.1   202.947357  52.165878  CCCC         6    NaN   \n",
       "6382395  J141000.64+483206.0   212.502655  48.534992  CCCC         8    NaN   \n",
       "2461551  J135451.58+492559.1   208.714890  49.433083  CCCC         6    NaN   \n",
       "4690280  J135818.16+533713.3   209.575653  53.620373  CCCC         8    NaN   \n",
       "\n",
       "         pred_class  pred_prob_class  Score_AGN  Prob_AGN  radio_detect  \\\n",
       "4786343           1                1   0.991423  0.987216             0   \n",
       "5389236           1                1   0.700025  0.708180             0   \n",
       "3410222           1                1   0.941747  0.932154             0   \n",
       "4777479           1                1   0.740830  0.744960             0   \n",
       "1221351           1                0   0.467531  0.493739             1   \n",
       "5295975           1                1   0.800322  0.798717             0   \n",
       "2584274           1                0   0.457266  0.483934             1   \n",
       "5947925           1                1   0.951729  0.942419             0   \n",
       "6379554           1                1   0.880028  0.872138             0   \n",
       "5667713           1                1   0.821034  0.817569             0   \n",
       "6382724           1                1   0.629197  0.644037             0   \n",
       "6127587           1                1   0.592081  0.610112             0   \n",
       "6382395           1                1   0.870314  0.863028             0   \n",
       "2461551           1                1   0.961464  0.952684             0   \n",
       "4690280           1                1   0.636130  0.650346             0   \n",
       "\n",
       "         pred_radio  pred_prob_radio  Score_radio  Prob_radio  radio_AGN  \\\n",
       "4786343           1                1     0.499064    0.450643          0   \n",
       "5389236           1                1     0.500737    0.613787          0   \n",
       "3410222           1                1     0.501762    0.704527          0   \n",
       "4777479           1                1     0.501762    0.704527          0   \n",
       "1221351           1                1     0.501762    0.704527          0   \n",
       "5295975           1                1     0.501762    0.704527          0   \n",
       "2584274           1                1     0.501503    0.682750          0   \n",
       "5947925           1                1     0.499340    0.477706          0   \n",
       "6379554           1                1     0.497576    0.312864          0   \n",
       "5667713           1                1     0.497576    0.312856          0   \n",
       "6382724           1                1     0.497576    0.312864          0   \n",
       "6127587           1                1     0.497576    0.312864          0   \n",
       "6382395           1                1     0.497329    0.292256          0   \n",
       "2461551           1                1     0.497496    0.306120          0   \n",
       "4690280           1                1     0.497329    0.292256          0   \n",
       "\n",
       "         pred_radio_AGN  pred_prob_rAGN  Score_rAGN  Prob_rAGN        Z  \\\n",
       "4786343               1               1    0.494784   0.444882      NaN   \n",
       "5389236               1               1    0.350528   0.434672      NaN   \n",
       "3410222               1               1    0.472533   0.656728      NaN   \n",
       "4777479               1               1    0.371721   0.524845      NaN   \n",
       "1221351               1               0    0.234589   0.347853      NaN   \n",
       "5295975               1               1    0.401571   0.562718      NaN   \n",
       "2584274               1               0    0.229320   0.330406      NaN   \n",
       "5947925               1               1    0.475236   0.450199      NaN   \n",
       "6379554               1               1    0.437881   0.272861 -0.00001   \n",
       "5667713               1               1    0.408527   0.255781      NaN   \n",
       "6382724               1               1    0.313073   0.201496      NaN   \n",
       "6127587               1               1    0.294605   0.190882      NaN   \n",
       "6382395               1               1    0.432832   0.252225      NaN   \n",
       "2461551               1               1    0.478324   0.291635      NaN   \n",
       "4690280               1               1    0.316366   0.190068      NaN   \n",
       "\n",
       "         pred_Z  Total_flux_VLASS  Sint_LOFAR  Stotal_TGSS        FEP  \\\n",
       "4786343   4.732             15.21   17.520000        11.18  57.900002   \n",
       "5389236   4.728             15.21   17.520000        11.18  57.900002   \n",
       "3410222   4.703             15.21   17.520000        11.18  57.900002   \n",
       "4777479   4.667             15.21   17.520000        11.18  57.900002   \n",
       "1221351   4.626             15.21   17.152575        11.18  57.900002   \n",
       "5295975   4.555             15.21   17.520000        11.18  57.900002   \n",
       "2584274   4.448             15.21   16.787254        11.18  57.900002   \n",
       "5947925   4.439             15.21   17.520000        11.18  57.900002   \n",
       "6379554   4.439             15.21   17.520000        11.18  57.900002   \n",
       "5667713   4.439             15.21   17.520000        11.18  57.900002   \n",
       "6382724   4.439             15.21   17.520000        11.18  57.900002   \n",
       "6127587   4.439             15.21   17.520000        11.18  57.900002   \n",
       "6382395   4.439             15.21   17.520000        11.18  57.900002   \n",
       "2461551   4.439             15.21   17.520000        11.18  57.900002   \n",
       "4690280   4.439             15.21   17.520000        11.18  57.900002   \n",
       "\n",
       "         TotalFlux_LoLSS   W1mproPM   W2mproPM       gmag       rmag  \\\n",
       "4786343            12.91  19.594999  19.809999  23.299999  21.349899   \n",
       "5389236            12.91  19.286999  19.586000  23.299999  20.695801   \n",
       "3410222            12.91  18.823999  19.125999  23.299999  20.935801   \n",
       "4777479            12.91  18.786999  18.851000  23.299999  20.029100   \n",
       "1221351            12.91  18.893000  19.232000  23.299999  21.499100   \n",
       "5295975            12.91  19.094000  18.998001  21.711700  20.528799   \n",
       "2584274            12.91  19.000000  19.038000  21.232100  19.857100   \n",
       "5947925            12.91  19.039999  19.445002  23.299999  21.193501   \n",
       "6379554            12.91  19.153000  19.530001  23.299999  21.318199   \n",
       "5667713            12.91  19.327000  19.702002  23.299999  21.271900   \n",
       "6382724            12.91  19.085999  19.486000  23.299999  21.287399   \n",
       "6127587            12.91  19.413000  19.809999  23.299999  21.163000   \n",
       "6382395            12.91  19.258999  19.628000  23.299999  21.208401   \n",
       "2461551            12.91  19.296999  19.559000  23.299999  21.334900   \n",
       "4690280            12.91  19.355999  19.740000  23.299999  21.302601   \n",
       "\n",
       "              imag       zmag       ymag       Jmag   Hmag   Kmag      W3mag  \\\n",
       "4786343  19.876600  19.917700  19.839500  17.450001  17.24  16.59  16.670000   \n",
       "5389236  19.471300  19.520700  19.297001  17.450001  17.24  16.59  16.670000   \n",
       "3410222  19.635599  19.379000  19.478600  17.450001  17.24  16.59  16.670000   \n",
       "4777479  19.023899  18.797701  19.126400  17.450001  17.24  16.59  16.363001   \n",
       "1221351  20.089300  19.909300  19.852301  17.450001  17.24  16.59  16.670000   \n",
       "5295975  19.275299  19.402700  19.178801  17.450001  17.24  16.59  16.670000   \n",
       "2584274  18.964199  18.902700  18.795900  17.450001  17.24  16.59  16.670000   \n",
       "5947925  19.780500  19.150400  18.859900  17.450001  17.24  16.59  16.670000   \n",
       "6379554  19.833401  19.130301  18.791401  17.450001  17.24  16.59  16.670000   \n",
       "5667713  19.854799  19.213900  18.941700  17.450001  17.24  16.59  16.670000   \n",
       "6382724  19.822800  19.159901  18.794399  17.450001  17.24  16.59  16.670000   \n",
       "6127587  19.795601  19.163900  18.856800  17.450001  17.24  16.59  16.670000   \n",
       "6382395  19.823799  19.196699  18.859501  17.450001  17.24  16.59  16.670000   \n",
       "2461551  20.040899  19.346800  19.040899  17.450001  17.24  16.59  16.670000   \n",
       "4690280  19.907499  19.221800  18.940500  17.450001  17.24  16.59  16.670000   \n",
       "\n",
       "         W4mag  \n",
       "4786343  14.62  \n",
       "5389236  14.62  \n",
       "3410222  14.62  \n",
       "4777479  14.62  \n",
       "1221351  14.62  \n",
       "5295975  14.62  \n",
       "2584274  14.62  \n",
       "5947925  14.62  \n",
       "6379554  14.62  \n",
       "5667713  14.62  \n",
       "6382724  14.62  \n",
       "6127587  14.62  \n",
       "6382395  14.62  \n",
       "2461551  14.62  \n",
       "4690280  14.62  "
      ]
     },
     "metadata": {},
     "output_type": "display_data"
    }
   ],
   "source": [
    "display(full_catalog_df.loc[filter_high_z, cols_4_export].sort_values(by=['pred_Z'], ascending=False).head(15))"
   ]
  },
  {
   "cell_type": "code",
   "execution_count": 36,
   "metadata": {},
   "outputs": [],
   "source": [
    "if save_preds_flag:\n",
    "    full_catalog_df.loc[filter_high_z, cols_4_export].sort_values(by=['pred_Z'],\n",
    "     ascending=False).to_csv(gv.preds_path + f'predicted_rAGN_{used_area}.csv')"
   ]
  },
  {
   "cell_type": "markdown",
   "metadata": {},
   "source": [
    "---"
   ]
  },
  {
   "cell_type": "code",
   "execution_count": null,
   "metadata": {},
   "outputs": [],
   "source": []
  }
 ],
 "metadata": {
  "kernelspec": {
   "display_name": "Python 3 (ipykernel)",
   "language": "python",
   "name": "python3"
  },
  "language_info": {
   "codemirror_mode": {
    "name": "ipython",
    "version": 3
   },
   "file_extension": ".py",
   "mimetype": "text/x-python",
   "name": "python",
   "nbconvert_exporter": "python",
   "pygments_lexer": "ipython3",
   "version": "3.8.13"
  },
  "vscode": {
   "interpreter": {
    "hash": "1d7c94ac87c57432169d0bc24ce250f6f2e77b44a3b95192eb5ace62cff26777"
   }
  }
 },
 "nbformat": 4,
 "nbformat_minor": 4
}
