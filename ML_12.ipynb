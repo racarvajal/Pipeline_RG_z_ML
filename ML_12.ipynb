{
 "cells": [
  {
   "cell_type": "markdown",
   "metadata": {},
   "source": [
    "# Pipeline for High-z Radio Galaxies 12: Create lists (files) with radio AGN candidates"
   ]
  },
  {
   "cell_type": "markdown",
   "metadata": {},
   "source": [
    "## Introduction"
   ]
  },
  {
   "cell_type": "markdown",
   "metadata": {},
   "source": [
    "In this file, three models will be applied consecutively in order to predict  \n",
    "the detection of Radio Galaxies (radio AGN) and their redshift.  \n",
    "\n",
    "In principle, this pipeline should be applied to data in Stripe 82. But  \n",
    "it can be used with any other suitable dataset."
   ]
  },
  {
   "cell_type": "code",
   "execution_count": 1,
   "metadata": {},
   "outputs": [],
   "source": [
    "%matplotlib inline\n",
    "# Static plots\n",
    "#%matplotlib ipympl\n",
    "# Interactive plots\n",
    "import numpy as np\n",
    "import matplotlib as mpl\n",
    "import matplotlib.cm as cm\n",
    "from matplotlib import ticker\n",
    "import matplotlib.pyplot as plt\n",
    "import matplotlib.colors as mcolors\n",
    "import matplotlib.patheffects as mpe\n",
    "import matplotlib.patches as mpatches\n",
    "from matplotlib.ticker import ScalarFormatter\n",
    "from mpl_toolkits.axes_grid1.inset_locator import inset_axes\n",
    "from astropy.visualization import LogStretch, PowerStretch\n",
    "from astropy.visualization.mpl_normalize import ImageNormalize\n",
    "from sklearn.preprocessing import MinMaxScaler\n",
    "from sklearn.metrics import ConfusionMatrixDisplay\n",
    "import sklearn.pipeline\n",
    "import colorcet as cc\n",
    "from pycaret import classification as pyc\n",
    "from pycaret import regression as pyr\n",
    "from joblib import dump, load\n",
    "import pandas as pd\n",
    "import mpl_scatter_density\n",
    "import global_variables as gv\n",
    "import global_functions as gf"
   ]
  },
  {
   "cell_type": "code",
   "execution_count": 2,
   "metadata": {},
   "outputs": [],
   "source": [
    "mpl.rcdefaults()"
   ]
  },
  {
   "cell_type": "markdown",
   "metadata": {},
   "source": [
    "---"
   ]
  },
  {
   "cell_type": "markdown",
   "metadata": {},
   "source": [
    "## Reading data"
   ]
  },
  {
   "cell_type": "markdown",
   "metadata": {
    "tags": []
   },
   "source": [
    "Flags."
   ]
  },
  {
   "cell_type": "code",
   "execution_count": 3,
   "metadata": {},
   "outputs": [],
   "source": [
    "save_plot_flag      = False\n",
    "save_preds_flag     = False\n",
    "load_models_flag    = True\n",
    "predict_only_hi_z   = False\n",
    "use_zeroth_model    = False\n",
    "use_second_z_model  = False  # z >= 3.6 (with SMOGN), or, if needed, z >= 4.0"
   ]
  },
  {
   "cell_type": "code",
   "execution_count": 4,
   "metadata": {},
   "outputs": [],
   "source": [
    "used_area           = 'S82'  # can be 'S82', 'HETDEX', 'COSMOS'"
   ]
  },
  {
   "cell_type": "code",
   "execution_count": 5,
   "metadata": {
    "tags": []
   },
   "outputs": [],
   "source": [
    "file_name_dict      = {'S82': gv.file_S82, 'HETDEX': gv.file_HETDEX, 'COSMOS': gv.file_COSMOS}\n",
    "file_name           = file_name_dict[used_area]"
   ]
  },
  {
   "cell_type": "code",
   "execution_count": 6,
   "metadata": {
    "tags": []
   },
   "outputs": [],
   "source": [
    "feats_2_disc_S82    = ['objID', 'RA_MILLI', 'DEC_MILLI', 'W1mag', 'W2mag', 'num_imputed', 'radio_detect']\n",
    "feats_2_disc_HETDEX = ['objID', 'RA_MILLI', 'DEC_MILLI', 'W1mag', 'W2mag', 'num_imputed', 'radio_detect']\n",
    "feats_2_disc_COSMOS = ['objID', 'RA_MILLI', 'DEC_MILLI', 'W1mag', 'W2mag', 'num_imputed', 'radio_detect', ]\n",
    "\n",
    "feats_2_disc        = {'S82': feats_2_disc_S82, 'HETDEX': feats_2_disc_HETDEX, 'COSMOS': feats_2_disc_COSMOS}\n",
    "features_2_discard  = feats_2_disc[used_area]"
   ]
  },
  {
   "cell_type": "code",
   "execution_count": 7,
   "metadata": {},
   "outputs": [],
   "source": [
    "full_catalog_df     = pd.read_hdf(gv.cat_path + file_name, key='df').drop(columns=features_2_discard)"
   ]
  },
  {
   "cell_type": "code",
   "execution_count": 8,
   "metadata": {
    "jupyter": {
     "source_hidden": true
    }
   },
   "outputs": [],
   "source": [
    "if used_area == 'S82':\n",
    "    full_catalog_df.loc[:, 'LOFAR_detect'] = full_catalog_df.loc[:, 'VLAS82_detect'].copy()\n",
    "    full_catalog_df = full_catalog_df.drop(columns=['VLAS82_detect'])\n",
    "if used_area == 'COSMOS':\n",
    "    full_catalog_df.loc[:, 'LOFAR_detect'] = full_catalog_df.loc[:, 'COSMOSVLA3_detect'].copy()\n",
    "    full_catalog_df = full_catalog_df.drop(columns=['COSMOSVLA3_detect'])"
   ]
  },
  {
   "cell_type": "markdown",
   "metadata": {},
   "source": [
    "Create features with class and combined redshift."
   ]
  },
  {
   "cell_type": "code",
   "execution_count": 9,
   "metadata": {
    "jupyter": {
     "source_hidden": true
    }
   },
   "outputs": [],
   "source": [
    "full_catalog_df['class']            = full_catalog_df.loc[:, 'is_AGN'].copy()\n",
    "filter_non_confirmed                = np.array(full_catalog_df.loc[:, 'is_AGN'] == 1) | np.array(full_catalog_df.loc[:, 'is_gal'] == 1)\n",
    "full_catalog_df.loc[~filter_non_confirmed, 'class'] = np.nan\n",
    "idx_non_Z                           = full_catalog_df.loc[:, 'Z'].where(full_catalog_df.loc[:, 'Z'] > 0).isna()\n",
    "full_catalog_df.loc[idx_non_Z, 'Z'] = full_catalog_df.loc[:, 'Z'].mask(idx_non_Z, full_catalog_df.loc[idx_non_Z, 'zsp'])"
   ]
  },
  {
   "cell_type": "markdown",
   "metadata": {},
   "source": [
    "Create column for detection as Radio AGN"
   ]
  },
  {
   "cell_type": "code",
   "execution_count": 10,
   "metadata": {},
   "outputs": [],
   "source": [
    "full_catalog_df['radio_AGN']      = (np.array(full_catalog_df.loc[:, 'is_AGN'] == 1) &\\\n",
    "                                     np.array(full_catalog_df.loc[:, 'LOFAR_detect'] == 1)).astype(int)"
   ]
  },
  {
   "cell_type": "markdown",
   "metadata": {},
   "source": [
    "Discard minor features."
   ]
  },
  {
   "cell_type": "code",
   "execution_count": 11,
   "metadata": {},
   "outputs": [],
   "source": [
    "full_catalog_df                     = full_catalog_df.drop(columns=['is_AGN', 'is_SDSS_QSO', 'is_SDSS_gal', 'is_gal', 'zsp'])"
   ]
  },
  {
   "cell_type": "markdown",
   "metadata": {},
   "source": [
    "#### As we want to predict, only use sources that have not previous spectroscopic classification"
   ]
  },
  {
   "cell_type": "code",
   "execution_count": 12,
   "metadata": {
    "jupyter": {
     "source_hidden": true
    }
   },
   "outputs": [
    {
     "name": "stdout",
     "output_type": "stream",
     "text": [
      "The used data set (in S82) has 3,590,306 sources.\n",
      "And 25,689 have previous spectroscopic classification.\n"
     ]
    }
   ],
   "source": [
    "print(f'The used data set (in {used_area}) has {len(full_catalog_df):,} sources.')\n",
    "print(f'And {np.sum(filter_non_confirmed):,} have previous spectroscopic classification.')"
   ]
  },
  {
   "cell_type": "code",
   "execution_count": 13,
   "metadata": {},
   "outputs": [],
   "source": [
    "# full_catalog_df                     = full_catalog_df.loc[~filter_non_confirmed]"
   ]
  },
  {
   "cell_type": "code",
   "execution_count": 14,
   "metadata": {
    "jupyter": {
     "source_hidden": true
    }
   },
   "outputs": [
    {
     "name": "stdout",
     "output_type": "stream",
     "text": [
      "This pipeline will predict properties for 3,590,306 sources in S82.\n"
     ]
    }
   ],
   "source": [
    "print(f'This pipeline will predict properties for {len(full_catalog_df):,} sources in {used_area}.')"
   ]
  },
  {
   "cell_type": "markdown",
   "metadata": {},
   "source": [
    "---"
   ]
  },
  {
   "cell_type": "markdown",
   "metadata": {},
   "source": [
    "### Load models"
   ]
  },
  {
   "cell_type": "code",
   "execution_count": 15,
   "metadata": {},
   "outputs": [
    {
     "name": "stdout",
     "output_type": "stream",
     "text": [
      "Transformation Pipeline and Model Successfully Loaded\n",
      "Transformation Pipeline and Model Successfully Loaded\n",
      "Transformation Pipeline and Model Successfully Loaded\n"
     ]
    }
   ],
   "source": [
    "if load_models_flag:\n",
    "    if use_zeroth_model:\n",
    "        star_clf        = pyc.load_model(gv.models_path + gv.star_model)  # star/no-star model\n",
    "        cal_star_clf    = load(gv.models_path + gv.cal_str_model)  # calibrated model\n",
    "    AGN_gal_clf         = pyc.load_model(gv.models_path + gv.AGN_gal_model)  #\n",
    "    cal_AGN_gal_clf     = load(gv.models_path + gv.cal_AGN_gal_model)  # calibrated model\n",
    "    radio_det_clf       = pyc.load_model(gv.models_path + gv.radio_model)  # without predicted AGN\n",
    "    cal_radio_det_clf   = load(gv.models_path + gv.cal_radio_model)  # calibrated model\n",
    "    redshift_reg        = pyr.load_model(gv.models_path + gv.full_z_model)  # to use on full sample\n",
    "    if use_second_z_model:\n",
    "        redshift_reg_2  = pyr.load_model(gv.models_path + gv.high_z_model)  # sources with predicted z >= 3.6"
   ]
  },
  {
   "cell_type": "code",
   "execution_count": 16,
   "metadata": {
    "jupyter": {
     "source_hidden": true
    }
   },
   "outputs": [],
   "source": [
    "full_catalog_df = pyc.predict_model(AGN_gal_clf, data=full_catalog_df, probability_threshold=gv.AGN_thresh, raw_score=True, round=10)\n",
    "full_catalog_df = full_catalog_df.drop(columns=['Score_0'])\n",
    "full_catalog_df = full_catalog_df.rename(columns={'Label': 'pred_class', 'Score_1': 'Score_AGN'})\n",
    "full_catalog_df['Score_AGN'] = np.around(full_catalog_df.loc[:, 'Score_AGN'], decimals=7)\n",
    "pred_probs_AGN  = cal_AGN_gal_clf.predict(full_catalog_df.loc[:, 'Score_AGN'])\n",
    "full_catalog_df['Prob_AGN'] = pred_probs_AGN"
   ]
  },
  {
   "cell_type": "code",
   "execution_count": 17,
   "metadata": {
    "jupyter": {
     "source_hidden": true
    }
   },
   "outputs": [],
   "source": [
    "full_catalog_df = pyc.predict_model(radio_det_clf, data=full_catalog_df, probability_threshold=gv.radio_thresh, raw_score=True, round=10)\n",
    "full_catalog_df = full_catalog_df.drop(columns=['Score_0'])\n",
    "full_catalog_df = full_catalog_df.rename(columns={'Label': 'pred_radio', 'Score_1': 'Score_radio'})\n",
    "full_catalog_df['Score_radio'] = np.around(full_catalog_df.loc[:, 'Score_radio'], decimals=7)\n",
    "pred_probs_rad  = cal_radio_det_clf.predict(full_catalog_df.loc[:, 'Score_radio'])\n",
    "full_catalog_df['Prob_radio'] = pred_probs_rad"
   ]
  },
  {
   "cell_type": "code",
   "execution_count": 18,
   "metadata": {
    "jupyter": {
     "source_hidden": true
    }
   },
   "outputs": [],
   "source": [
    "full_catalog_df = pyr.predict_model(redshift_reg, data=full_catalog_df, round=8)\n",
    "full_catalog_df = full_catalog_df.rename(columns={'Label': 'pred_Z'})\n",
    "full_catalog_df['pred_Z'] = np.around(full_catalog_df.loc[:, 'pred_Z'], decimals=3)"
   ]
  },
  {
   "cell_type": "code",
   "execution_count": 19,
   "metadata": {
    "jupyter": {
     "source_hidden": true
    }
   },
   "outputs": [],
   "source": [
    "redshift_tol    = 0.0\n",
    "if use_second_z_model:\n",
    "    full_catalog_df = pyr.predict_model(redshift_reg_2, data=full_catalog_df, round=6)\n",
    "    filter_pred_z   = full_catalog_df.loc[:, 'pred_Z'] >= (gv.high_z_limit + redshift_tol)\n",
    "    full_catalog_df.loc[:, 'pred_Z'] = full_catalog_df.loc[:, 'pred_Z'].mask(filter_pred_z, full_catalog_df.loc[filter_pred_z, 'Label'])\n",
    "    full_catalog_df = full_catalog_df.drop(columns=['Label'])\n",
    "    full_catalog_df.loc[:, 'pred_Z'] = np.around(full_catalog_df.loc[:, 'pred_Z'], decimals=3)"
   ]
  },
  {
   "cell_type": "code",
   "execution_count": 20,
   "metadata": {
    "jupyter": {
     "source_hidden": true
    }
   },
   "outputs": [],
   "source": [
    "full_catalog_df['pred_prob_class']    = (full_catalog_df.loc[:, 'Prob_AGN']   >= gv.cal_AGN_thresh).astype(int)\n",
    "full_catalog_df['pred_prob_radio']    = (full_catalog_df.loc[:, 'Prob_radio'] >= gv.cal_radio_thresh).astype(int)"
   ]
  },
  {
   "cell_type": "code",
   "execution_count": 21,
   "metadata": {
    "jupyter": {
     "source_hidden": true
    }
   },
   "outputs": [],
   "source": [
    "full_catalog_df['pred_radio_AGN']     = (np.array(full_catalog_df.loc[:, 'pred_class'] == 1) & np.array(full_catalog_df.loc[:, 'pred_radio'] == 1)).astype(int)\n",
    "full_catalog_df['Score_rAGN']         = full_catalog_df.loc[:, 'Score_AGN'] * full_catalog_df.loc[:, 'Score_radio']\n",
    "full_catalog_df['pred_prob_rAGN']     = (np.array(full_catalog_df.loc[:, 'pred_prob_class'] == 1) & np.array(full_catalog_df.loc[:, 'pred_prob_radio'] == 1)).astype(int)\n",
    "full_catalog_df['Prob_rAGN']          = full_catalog_df.loc[:, 'Prob_AGN'] * full_catalog_df.loc[:, 'Prob_radio']\n",
    "\n",
    "rad_score_scaler                      = MinMaxScaler()\n",
    "full_catalog_df['scaled_score_radio'] = rad_score_scaler.fit_transform(full_catalog_df.loc[:, 'Score_radio'].values.reshape(-1, 1))\n",
    "full_catalog_df['scaled_score_rAGN']  = full_catalog_df.loc[:, 'Score_AGN'] * full_catalog_df.loc[:, 'scaled_score_radio']"
   ]
  },
  {
   "cell_type": "code",
   "execution_count": 22,
   "metadata": {
    "jupyter": {
     "source_hidden": true
    }
   },
   "outputs": [
    {
     "data": {
      "text/html": [
       "<div>\n",
       "<style scoped>\n",
       "    .dataframe tbody tr th:only-of-type {\n",
       "        vertical-align: middle;\n",
       "    }\n",
       "\n",
       "    .dataframe tbody tr th {\n",
       "        vertical-align: top;\n",
       "    }\n",
       "\n",
       "    .dataframe thead th {\n",
       "        text-align: right;\n",
       "    }\n",
       "</style>\n",
       "<table border=\"1\" class=\"dataframe\">\n",
       "  <thead>\n",
       "    <tr style=\"text-align: right;\">\n",
       "      <th></th>\n",
       "      <th>class</th>\n",
       "      <th>pred_prob_class</th>\n",
       "      <th>LOFAR_detect</th>\n",
       "      <th>pred_prob_radio</th>\n",
       "      <th>Z</th>\n",
       "      <th>pred_Z</th>\n",
       "    </tr>\n",
       "  </thead>\n",
       "  <tbody>\n",
       "    <tr>\n",
       "      <th>count</th>\n",
       "      <td>25689.000000</td>\n",
       "      <td>3.590306e+06</td>\n",
       "      <td>3.590306e+06</td>\n",
       "      <td>3.590306e+06</td>\n",
       "      <td>27189.000000</td>\n",
       "      <td>3.590306e+06</td>\n",
       "    </tr>\n",
       "    <tr>\n",
       "      <th>mean</th>\n",
       "      <td>0.796294</td>\n",
       "      <td>1.271733e-01</td>\n",
       "      <td>4.351997e-03</td>\n",
       "      <td>1.109669e-01</td>\n",
       "      <td>1.333979</td>\n",
       "      <td>2.040464e+00</td>\n",
       "    </tr>\n",
       "    <tr>\n",
       "      <th>std</th>\n",
       "      <td>0.402761</td>\n",
       "      <td>3.331670e-01</td>\n",
       "      <td>6.582597e-02</td>\n",
       "      <td>3.140911e-01</td>\n",
       "      <td>0.863897</td>\n",
       "      <td>6.375727e-01</td>\n",
       "    </tr>\n",
       "    <tr>\n",
       "      <th>min</th>\n",
       "      <td>0.000000</td>\n",
       "      <td>0.000000e+00</td>\n",
       "      <td>0.000000e+00</td>\n",
       "      <td>0.000000e+00</td>\n",
       "      <td>-0.009090</td>\n",
       "      <td>2.000000e-02</td>\n",
       "    </tr>\n",
       "    <tr>\n",
       "      <th>25%</th>\n",
       "      <td>1.000000</td>\n",
       "      <td>0.000000e+00</td>\n",
       "      <td>0.000000e+00</td>\n",
       "      <td>0.000000e+00</td>\n",
       "      <td>0.695000</td>\n",
       "      <td>1.781000e+00</td>\n",
       "    </tr>\n",
       "    <tr>\n",
       "      <th>50%</th>\n",
       "      <td>1.000000</td>\n",
       "      <td>0.000000e+00</td>\n",
       "      <td>0.000000e+00</td>\n",
       "      <td>0.000000e+00</td>\n",
       "      <td>1.235000</td>\n",
       "      <td>2.178000e+00</td>\n",
       "    </tr>\n",
       "    <tr>\n",
       "      <th>75%</th>\n",
       "      <td>1.000000</td>\n",
       "      <td>0.000000e+00</td>\n",
       "      <td>0.000000e+00</td>\n",
       "      <td>0.000000e+00</td>\n",
       "      <td>1.895000</td>\n",
       "      <td>2.178000e+00</td>\n",
       "    </tr>\n",
       "    <tr>\n",
       "      <th>max</th>\n",
       "      <td>1.000000</td>\n",
       "      <td>1.000000e+00</td>\n",
       "      <td>1.000000e+00</td>\n",
       "      <td>1.000000e+00</td>\n",
       "      <td>7.011240</td>\n",
       "      <td>4.103000e+00</td>\n",
       "    </tr>\n",
       "  </tbody>\n",
       "</table>\n",
       "</div>"
      ],
      "text/plain": [
       "              class  pred_prob_class  LOFAR_detect  pred_prob_radio  \\\n",
       "count  25689.000000     3.590306e+06  3.590306e+06     3.590306e+06   \n",
       "mean       0.796294     1.271733e-01  4.351997e-03     1.109669e-01   \n",
       "std        0.402761     3.331670e-01  6.582597e-02     3.140911e-01   \n",
       "min        0.000000     0.000000e+00  0.000000e+00     0.000000e+00   \n",
       "25%        1.000000     0.000000e+00  0.000000e+00     0.000000e+00   \n",
       "50%        1.000000     0.000000e+00  0.000000e+00     0.000000e+00   \n",
       "75%        1.000000     0.000000e+00  0.000000e+00     0.000000e+00   \n",
       "max        1.000000     1.000000e+00  1.000000e+00     1.000000e+00   \n",
       "\n",
       "                  Z        pred_Z  \n",
       "count  27189.000000  3.590306e+06  \n",
       "mean       1.333979  2.040464e+00  \n",
       "std        0.863897  6.375727e-01  \n",
       "min       -0.009090  2.000000e-02  \n",
       "25%        0.695000  1.781000e+00  \n",
       "50%        1.235000  2.178000e+00  \n",
       "75%        1.895000  2.178000e+00  \n",
       "max        7.011240  4.103000e+00  "
      ]
     },
     "execution_count": 22,
     "metadata": {},
     "output_type": "execute_result"
    }
   ],
   "source": [
    "full_catalog_df.loc[:, ['class', 'pred_prob_class', 'LOFAR_detect', 'pred_prob_radio', 'Z', 'pred_Z']].describe()"
   ]
  },
  {
   "cell_type": "markdown",
   "metadata": {},
   "source": [
    "Obtain intermediate metrics"
   ]
  },
  {
   "cell_type": "code",
   "execution_count": 23,
   "metadata": {
    "jupyter": {
     "source_hidden": true
    }
   },
   "outputs": [],
   "source": [
    "filter_radio_AGN_t      = np.array(full_catalog_df.loc[:, 'class'] == 1) & np.array(full_catalog_df.loc[:, 'LOFAR_detect'] == 1)\n",
    "filter_gal_AGN_t        = np.array(full_catalog_df.loc[:, 'class'] == 0) | np.array(full_catalog_df.loc[:, 'class'] == 1)\n",
    "total_size              = len(full_catalog_df)\n",
    "filter_AGN_t            = np.array(full_catalog_df.loc[:, 'class'] == 1)\n",
    "num_AGN_t               = np.sum(filter_AGN_t)\n",
    "num_gal_t               = np.sum(np.array(full_catalog_df.loc[:, 'class'] == 0))\n",
    "num_radio_t             = np.sum(np.array(full_catalog_df.loc[:, 'LOFAR_detect'] == 1))\n",
    "num_radio_AGN_t         = np.sum(filter_radio_AGN_t)"
   ]
  },
  {
   "cell_type": "code",
   "execution_count": 24,
   "metadata": {
    "jupyter": {
     "source_hidden": true
    }
   },
   "outputs": [],
   "source": [
    "# filter_radio_AGN_p      = np.array(full_catalog_df.loc[:, 'Score_AGN']          >= threshold_AGN) &\\\n",
    "#                             np.array(full_catalog_df.loc[:, 'Score_radio']      >= threshold_radio)\n",
    "filter_radio_AGN_p      = np.array(full_catalog_df.loc[:, 'pred_prob_class']      == 1) &\\\n",
    "                            np.array(full_catalog_df.loc[:, 'pred_prob_radio']    == 1)\n",
    "filt_hiz_rAGN_p         = filter_radio_AGN_p * np.array(full_catalog_df.loc[:, 'pred_Z'] >= gv.high_z_limit)\n",
    "filter_AGN_p            = np.array(full_catalog_df.loc[:, 'pred_prob_class']      == 1)\n",
    "filter_radio_p          = np.array(full_catalog_df.loc[:, 'pred_prob_radio']      == 1)\n",
    "num_AGN_p               = np.sum(filter_AGN_p)\n",
    "num_gal_p               = np.sum(np.array(full_catalog_df.loc[:, 'pred_prob_class'] == 0))\n",
    "num_radio_p             = np.sum(filter_radio_p)\n",
    "num_radio_AGN_p         = np.sum(filter_radio_AGN_p)"
   ]
  },
  {
   "cell_type": "markdown",
   "metadata": {},
   "source": [
    "### Select sources predicted to be Radio AGN (optional)"
   ]
  },
  {
   "cell_type": "code",
   "execution_count": 25,
   "metadata": {},
   "outputs": [],
   "source": [
    "# full_catalog_df         = full_catalog_df.loc[filter_radio_AGN_p]"
   ]
  },
  {
   "cell_type": "code",
   "execution_count": 26,
   "metadata": {
    "jupyter": {
     "source_hidden": true
    }
   },
   "outputs": [
    {
     "data": {
      "text/html": [
       "<div>\n",
       "<style scoped>\n",
       "    .dataframe tbody tr th:only-of-type {\n",
       "        vertical-align: middle;\n",
       "    }\n",
       "\n",
       "    .dataframe tbody tr th {\n",
       "        vertical-align: top;\n",
       "    }\n",
       "\n",
       "    .dataframe thead th {\n",
       "        text-align: right;\n",
       "    }\n",
       "</style>\n",
       "<table border=\"1\" class=\"dataframe\">\n",
       "  <thead>\n",
       "    <tr style=\"text-align: right;\">\n",
       "      <th></th>\n",
       "      <th>class</th>\n",
       "      <th>pred_prob_class</th>\n",
       "      <th>LOFAR_detect</th>\n",
       "      <th>pred_prob_radio</th>\n",
       "      <th>Z</th>\n",
       "      <th>pred_Z</th>\n",
       "    </tr>\n",
       "  </thead>\n",
       "  <tbody>\n",
       "    <tr>\n",
       "      <th>count</th>\n",
       "      <td>25689.000000</td>\n",
       "      <td>3.590306e+06</td>\n",
       "      <td>3.590306e+06</td>\n",
       "      <td>3.590306e+06</td>\n",
       "      <td>27189.000000</td>\n",
       "      <td>3.590306e+06</td>\n",
       "    </tr>\n",
       "    <tr>\n",
       "      <th>mean</th>\n",
       "      <td>0.796294</td>\n",
       "      <td>1.271733e-01</td>\n",
       "      <td>4.351997e-03</td>\n",
       "      <td>1.109669e-01</td>\n",
       "      <td>1.333979</td>\n",
       "      <td>2.040464e+00</td>\n",
       "    </tr>\n",
       "    <tr>\n",
       "      <th>std</th>\n",
       "      <td>0.402761</td>\n",
       "      <td>3.331670e-01</td>\n",
       "      <td>6.582597e-02</td>\n",
       "      <td>3.140911e-01</td>\n",
       "      <td>0.863897</td>\n",
       "      <td>6.375727e-01</td>\n",
       "    </tr>\n",
       "    <tr>\n",
       "      <th>min</th>\n",
       "      <td>0.000000</td>\n",
       "      <td>0.000000e+00</td>\n",
       "      <td>0.000000e+00</td>\n",
       "      <td>0.000000e+00</td>\n",
       "      <td>-0.009090</td>\n",
       "      <td>2.000000e-02</td>\n",
       "    </tr>\n",
       "    <tr>\n",
       "      <th>25%</th>\n",
       "      <td>1.000000</td>\n",
       "      <td>0.000000e+00</td>\n",
       "      <td>0.000000e+00</td>\n",
       "      <td>0.000000e+00</td>\n",
       "      <td>0.695000</td>\n",
       "      <td>1.781000e+00</td>\n",
       "    </tr>\n",
       "    <tr>\n",
       "      <th>50%</th>\n",
       "      <td>1.000000</td>\n",
       "      <td>0.000000e+00</td>\n",
       "      <td>0.000000e+00</td>\n",
       "      <td>0.000000e+00</td>\n",
       "      <td>1.235000</td>\n",
       "      <td>2.178000e+00</td>\n",
       "    </tr>\n",
       "    <tr>\n",
       "      <th>75%</th>\n",
       "      <td>1.000000</td>\n",
       "      <td>0.000000e+00</td>\n",
       "      <td>0.000000e+00</td>\n",
       "      <td>0.000000e+00</td>\n",
       "      <td>1.895000</td>\n",
       "      <td>2.178000e+00</td>\n",
       "    </tr>\n",
       "    <tr>\n",
       "      <th>max</th>\n",
       "      <td>1.000000</td>\n",
       "      <td>1.000000e+00</td>\n",
       "      <td>1.000000e+00</td>\n",
       "      <td>1.000000e+00</td>\n",
       "      <td>7.011240</td>\n",
       "      <td>4.103000e+00</td>\n",
       "    </tr>\n",
       "  </tbody>\n",
       "</table>\n",
       "</div>"
      ],
      "text/plain": [
       "              class  pred_prob_class  LOFAR_detect  pred_prob_radio  \\\n",
       "count  25689.000000     3.590306e+06  3.590306e+06     3.590306e+06   \n",
       "mean       0.796294     1.271733e-01  4.351997e-03     1.109669e-01   \n",
       "std        0.402761     3.331670e-01  6.582597e-02     3.140911e-01   \n",
       "min        0.000000     0.000000e+00  0.000000e+00     0.000000e+00   \n",
       "25%        1.000000     0.000000e+00  0.000000e+00     0.000000e+00   \n",
       "50%        1.000000     0.000000e+00  0.000000e+00     0.000000e+00   \n",
       "75%        1.000000     0.000000e+00  0.000000e+00     0.000000e+00   \n",
       "max        1.000000     1.000000e+00  1.000000e+00     1.000000e+00   \n",
       "\n",
       "                  Z        pred_Z  \n",
       "count  27189.000000  3.590306e+06  \n",
       "mean       1.333979  2.040464e+00  \n",
       "std        0.863897  6.375727e-01  \n",
       "min       -0.009090  2.000000e-02  \n",
       "25%        0.695000  1.781000e+00  \n",
       "50%        1.235000  2.178000e+00  \n",
       "75%        1.895000  2.178000e+00  \n",
       "max        7.011240  4.103000e+00  "
      ]
     },
     "execution_count": 26,
     "metadata": {},
     "output_type": "execute_result"
    }
   ],
   "source": [
    "full_catalog_df.loc[:, ['class', 'pred_prob_class', 'LOFAR_detect', 'pred_prob_radio', 'Z', 'pred_Z']].describe()"
   ]
  },
  {
   "cell_type": "markdown",
   "metadata": {},
   "source": [
    "Add individual metrics for redshift"
   ]
  },
  {
   "cell_type": "code",
   "execution_count": 27,
   "metadata": {
    "jupyter": {
     "source_hidden": true
    },
    "tags": []
   },
   "outputs": [],
   "source": [
    "full_catalog_df['Delta_z_N'] = np.around((full_catalog_df.loc[:, 'pred_Z'] - full_catalog_df.loc[:, 'Z']) /\\\n",
    "                            (1 + full_catalog_df.loc[:, 'Z']), decimals=3)\n",
    "\n",
    "full_catalog_df['sigma_NMAD'] = np.around(1.48 * np.abs(full_catalog_df.loc[:, 'pred_Z'] - full_catalog_df.loc[:, 'Z']) /\\\n",
    "                            (1 + full_catalog_df.loc[:, 'Z']), decimals=3)"
   ]
  },
  {
   "cell_type": "markdown",
   "metadata": {},
   "source": [
    "Numerical summary."
   ]
  },
  {
   "cell_type": "code",
   "execution_count": 28,
   "metadata": {
    "jupyter": {
     "source_hidden": true
    },
    "tags": []
   },
   "outputs": [],
   "source": [
    "str_0_t   = f'Out of {total_size:,} initial sources in {used_area},\\n'\n",
    "str_1_t   = f'{num_gal_t:,} are confirmed to be galaxies. On the other side,\\n'\n",
    "str_2_t   = f'{num_AGN_t:,} are confirmed to be AGN. And, from the AGN,\\n'\n",
    "str_3_t   = f'{num_radio_AGN_t:,} are detected in radio.'\n",
    "\n",
    "str_0_p   = f'Out of {num_radio_AGN_t:,} initial radio-detected AGN in {used_area},\\n'\n",
    "str_1_p   = f'{num_gal_p:,} are predicted to be galaxies. On the other side,\\n'\n",
    "str_2_p   = f'{num_AGN_p:,} are predicted to be AGN. And, from the predicted AGN,\\n'\n",
    "str_3_p   = f'{num_radio_AGN_p:,} are predicted to be detected in radio.'"
   ]
  },
  {
   "cell_type": "code",
   "execution_count": 29,
   "metadata": {
    "jupyter": {
     "source_hidden": true
    },
    "tags": []
   },
   "outputs": [
    {
     "name": "stdout",
     "output_type": "stream",
     "text": [
      "------------------------------------------------------------\n",
      "Out of 3,590,306 initial sources in S82,\n",
      "5,233 are confirmed to be galaxies. On the other side,\n",
      "20,456 are confirmed to be AGN. And, from the AGN,\n",
      "940 are detected in radio.\n",
      "------------------------------------------------------------\n",
      "Out of 940 initial radio-detected AGN in S82,\n",
      "3,133,715 are predicted to be galaxies. On the other side,\n",
      "456,591 are predicted to be AGN. And, from the predicted AGN,\n",
      "65,867 are predicted to be detected in radio.\n",
      "------------------------------------------------------------\n"
     ]
    }
   ],
   "source": [
    "print('-' * 60)\n",
    "print(str_0_t + str_1_t + str_2_t + str_3_t)\n",
    "print('-' * 60)\n",
    "print(str_0_p + str_1_p + str_2_p + str_3_p)\n",
    "print('-' * 60)"
   ]
  },
  {
   "cell_type": "code",
   "execution_count": 30,
   "metadata": {},
   "outputs": [],
   "source": [
    "cols_4_table = show_columns = ['Name', 'RA_ICRS', 'DE_ICRS', 'TYPE', 'band_num', 'class', 'pred_class',\\\n",
    "                               'pred_prob_class', 'Score_AGN', 'Prob_AGN', 'LOFAR_detect', 'pred_radio',\\\n",
    "                               'pred_prob_radio', 'Score_radio', 'Prob_radio', 'radio_AGN', 'pred_radio_AGN',\\\n",
    "                               'pred_prob_rAGN', 'Score_rAGN', 'Prob_rAGN', 'Z', 'pred_Z']"
   ]
  },
  {
   "cell_type": "code",
   "execution_count": 31,
   "metadata": {},
   "outputs": [],
   "source": [
    "cols_4_export_S82    = ['Fint_VLAS82']\n",
    "cols_4_export_HETDEX = ['Sint_LOFAR']\n",
    "cols_4_export_COSMOS = ['Flux_COSMOSVLA3']\n",
    "\n",
    "cols_4_exp_all       = {'S82': cols_4_export_S82, 'HETDEX': cols_4_export_HETDEX, 'COSMOS': cols_4_export_COSMOS}\n",
    "\n",
    "cols_photo           = ['W1mproPM', 'W2mproPM', 'gmag', 'rmag', 'imag', 'zmag', \n",
    "                        'ymag', 'Jmag', 'Hmag', 'Kmag', 'W3mag', 'W4mag']\n",
    "\n",
    "cols_4_export        = cols_4_table + cols_4_exp_all[used_area] + cols_photo"
   ]
  },
  {
   "cell_type": "code",
   "execution_count": 32,
   "metadata": {},
   "outputs": [],
   "source": [
    "filter_new_rAGN = full_catalog_df.loc[:, 'radio_AGN'] == 0\n",
    "if predict_only_hi_z:\n",
    "    filter_high_z   = full_catalog_df.loc[:, 'pred_Z']    >= gv.high_z_limit\n",
    "elif not predict_only_hi_z:\n",
    "    filter_high_z   = np.ones_like(full_catalog_df.loc[:, 'pred_Z']).astype(bool)"
   ]
  },
  {
   "cell_type": "code",
   "execution_count": 33,
   "metadata": {},
   "outputs": [],
   "source": [
    "full_catalog_df.loc[:, 'TYPE'] = full_catalog_df.loc[:, 'TYPE'].mask(full_catalog_df.loc[:, 'TYPE'] == '    ', 'CCCC')"
   ]
  },
  {
   "cell_type": "code",
   "execution_count": 34,
   "metadata": {},
   "outputs": [
    {
     "data": {
      "text/html": [
       "<div>\n",
       "<style scoped>\n",
       "    .dataframe tbody tr th:only-of-type {\n",
       "        vertical-align: middle;\n",
       "    }\n",
       "\n",
       "    .dataframe tbody tr th {\n",
       "        vertical-align: top;\n",
       "    }\n",
       "\n",
       "    .dataframe thead th {\n",
       "        text-align: right;\n",
       "    }\n",
       "</style>\n",
       "<table border=\"1\" class=\"dataframe\">\n",
       "  <thead>\n",
       "    <tr style=\"text-align: right;\">\n",
       "      <th></th>\n",
       "      <th>Name</th>\n",
       "      <th>RA_ICRS</th>\n",
       "      <th>DE_ICRS</th>\n",
       "      <th>TYPE</th>\n",
       "      <th>band_num</th>\n",
       "      <th>class</th>\n",
       "      <th>pred_class</th>\n",
       "      <th>pred_prob_class</th>\n",
       "      <th>Score_AGN</th>\n",
       "      <th>Prob_AGN</th>\n",
       "      <th>LOFAR_detect</th>\n",
       "      <th>pred_radio</th>\n",
       "      <th>pred_prob_radio</th>\n",
       "      <th>Score_radio</th>\n",
       "      <th>Prob_radio</th>\n",
       "      <th>radio_AGN</th>\n",
       "      <th>pred_radio_AGN</th>\n",
       "      <th>pred_prob_rAGN</th>\n",
       "      <th>Score_rAGN</th>\n",
       "      <th>Prob_rAGN</th>\n",
       "      <th>Z</th>\n",
       "      <th>pred_Z</th>\n",
       "      <th>Fint_VLAS82</th>\n",
       "      <th>W1mproPM</th>\n",
       "      <th>W2mproPM</th>\n",
       "      <th>gmag</th>\n",
       "      <th>rmag</th>\n",
       "      <th>imag</th>\n",
       "      <th>zmag</th>\n",
       "      <th>ymag</th>\n",
       "      <th>Jmag</th>\n",
       "      <th>Hmag</th>\n",
       "      <th>Kmag</th>\n",
       "      <th>W3mag</th>\n",
       "      <th>W4mag</th>\n",
       "    </tr>\n",
       "  </thead>\n",
       "  <tbody>\n",
       "    <tr>\n",
       "      <th>2684467</th>\n",
       "      <td>J020320.44+004029.9</td>\n",
       "      <td>30.835190</td>\n",
       "      <td>0.674982</td>\n",
       "      <td></td>\n",
       "      <td>7</td>\n",
       "      <td>NaN</td>\n",
       "      <td>0</td>\n",
       "      <td>0</td>\n",
       "      <td>0.414104</td>\n",
       "      <td>0.027847</td>\n",
       "      <td>0</td>\n",
       "      <td>0</td>\n",
       "      <td>0</td>\n",
       "      <td>0.052391</td>\n",
       "      <td>0.065826</td>\n",
       "      <td>0</td>\n",
       "      <td>0</td>\n",
       "      <td>0</td>\n",
       "      <td>0.021695</td>\n",
       "      <td>0.001833</td>\n",
       "      <td>NaN</td>\n",
       "      <td>4.103</td>\n",
       "      <td>17.860001</td>\n",
       "      <td>19.597000</td>\n",
       "      <td>19.809999</td>\n",
       "      <td>22.099701</td>\n",
       "      <td>20.625700</td>\n",
       "      <td>20.257799</td>\n",
       "      <td>20.021700</td>\n",
       "      <td>19.858601</td>\n",
       "      <td>17.450001</td>\n",
       "      <td>17.24</td>\n",
       "      <td>16.590000</td>\n",
       "      <td>16.670000</td>\n",
       "      <td>14.62</td>\n",
       "    </tr>\n",
       "    <tr>\n",
       "      <th>3511189</th>\n",
       "      <td>J224421.39+012018.8</td>\n",
       "      <td>341.089172</td>\n",
       "      <td>1.338558</td>\n",
       "      <td></td>\n",
       "      <td>12</td>\n",
       "      <td>NaN</td>\n",
       "      <td>0</td>\n",
       "      <td>0</td>\n",
       "      <td>0.398816</td>\n",
       "      <td>0.014283</td>\n",
       "      <td>0</td>\n",
       "      <td>0</td>\n",
       "      <td>0</td>\n",
       "      <td>0.076690</td>\n",
       "      <td>0.093915</td>\n",
       "      <td>0</td>\n",
       "      <td>0</td>\n",
       "      <td>0</td>\n",
       "      <td>0.030585</td>\n",
       "      <td>0.001341</td>\n",
       "      <td>NaN</td>\n",
       "      <td>4.102</td>\n",
       "      <td>17.860001</td>\n",
       "      <td>18.715000</td>\n",
       "      <td>18.964001</td>\n",
       "      <td>21.032900</td>\n",
       "      <td>19.525200</td>\n",
       "      <td>19.203899</td>\n",
       "      <td>18.976101</td>\n",
       "      <td>18.749901</td>\n",
       "      <td>17.450001</td>\n",
       "      <td>17.24</td>\n",
       "      <td>16.590000</td>\n",
       "      <td>16.670000</td>\n",
       "      <td>14.62</td>\n",
       "    </tr>\n",
       "    <tr>\n",
       "      <th>3511643</th>\n",
       "      <td>J224421.63+012020.7</td>\n",
       "      <td>341.090179</td>\n",
       "      <td>1.339097</td>\n",
       "      <td></td>\n",
       "      <td>12</td>\n",
       "      <td>NaN</td>\n",
       "      <td>0</td>\n",
       "      <td>0</td>\n",
       "      <td>0.398816</td>\n",
       "      <td>0.014283</td>\n",
       "      <td>0</td>\n",
       "      <td>0</td>\n",
       "      <td>0</td>\n",
       "      <td>0.070643</td>\n",
       "      <td>0.087032</td>\n",
       "      <td>0</td>\n",
       "      <td>0</td>\n",
       "      <td>0</td>\n",
       "      <td>0.028174</td>\n",
       "      <td>0.001243</td>\n",
       "      <td>NaN</td>\n",
       "      <td>4.096</td>\n",
       "      <td>17.860001</td>\n",
       "      <td>18.799999</td>\n",
       "      <td>19.048000</td>\n",
       "      <td>21.032900</td>\n",
       "      <td>19.525200</td>\n",
       "      <td>19.203899</td>\n",
       "      <td>18.976101</td>\n",
       "      <td>18.749901</td>\n",
       "      <td>17.450001</td>\n",
       "      <td>17.24</td>\n",
       "      <td>16.590000</td>\n",
       "      <td>16.670000</td>\n",
       "      <td>14.62</td>\n",
       "    </tr>\n",
       "    <tr>\n",
       "      <th>1768417</th>\n",
       "      <td>J225047.39-000133.8</td>\n",
       "      <td>342.697510</td>\n",
       "      <td>-0.026075</td>\n",
       "      <td></td>\n",
       "      <td>7</td>\n",
       "      <td>NaN</td>\n",
       "      <td>0</td>\n",
       "      <td>0</td>\n",
       "      <td>0.418509</td>\n",
       "      <td>0.033609</td>\n",
       "      <td>0</td>\n",
       "      <td>1</td>\n",
       "      <td>1</td>\n",
       "      <td>0.322234</td>\n",
       "      <td>0.332118</td>\n",
       "      <td>0</td>\n",
       "      <td>0</td>\n",
       "      <td>0</td>\n",
       "      <td>0.134858</td>\n",
       "      <td>0.011162</td>\n",
       "      <td>NaN</td>\n",
       "      <td>4.091</td>\n",
       "      <td>17.860001</td>\n",
       "      <td>19.548000</td>\n",
       "      <td>19.809999</td>\n",
       "      <td>23.299999</td>\n",
       "      <td>21.690701</td>\n",
       "      <td>21.365200</td>\n",
       "      <td>21.177200</td>\n",
       "      <td>21.400000</td>\n",
       "      <td>17.450001</td>\n",
       "      <td>17.24</td>\n",
       "      <td>16.590000</td>\n",
       "      <td>16.506001</td>\n",
       "      <td>14.62</td>\n",
       "    </tr>\n",
       "    <tr>\n",
       "      <th>38246</th>\n",
       "      <td>J230737.57-012307.5</td>\n",
       "      <td>346.906586</td>\n",
       "      <td>-1.385441</td>\n",
       "      <td></td>\n",
       "      <td>9</td>\n",
       "      <td>NaN</td>\n",
       "      <td>0</td>\n",
       "      <td>0</td>\n",
       "      <td>0.404498</td>\n",
       "      <td>0.018353</td>\n",
       "      <td>0</td>\n",
       "      <td>1</td>\n",
       "      <td>1</td>\n",
       "      <td>0.222104</td>\n",
       "      <td>0.242999</td>\n",
       "      <td>0</td>\n",
       "      <td>0</td>\n",
       "      <td>0</td>\n",
       "      <td>0.089840</td>\n",
       "      <td>0.004460</td>\n",
       "      <td>NaN</td>\n",
       "      <td>4.089</td>\n",
       "      <td>17.860001</td>\n",
       "      <td>18.792000</td>\n",
       "      <td>19.066000</td>\n",
       "      <td>21.571400</td>\n",
       "      <td>20.179199</td>\n",
       "      <td>19.749800</td>\n",
       "      <td>19.526600</td>\n",
       "      <td>19.320400</td>\n",
       "      <td>17.450001</td>\n",
       "      <td>17.24</td>\n",
       "      <td>16.590000</td>\n",
       "      <td>16.670000</td>\n",
       "      <td>14.62</td>\n",
       "    </tr>\n",
       "    <tr>\n",
       "      <th>2801090</th>\n",
       "      <td>J231303.33+004546.6</td>\n",
       "      <td>348.263916</td>\n",
       "      <td>0.762957</td>\n",
       "      <td></td>\n",
       "      <td>9</td>\n",
       "      <td>NaN</td>\n",
       "      <td>0</td>\n",
       "      <td>0</td>\n",
       "      <td>0.399303</td>\n",
       "      <td>0.014595</td>\n",
       "      <td>0</td>\n",
       "      <td>1</td>\n",
       "      <td>1</td>\n",
       "      <td>0.216301</td>\n",
       "      <td>0.237550</td>\n",
       "      <td>0</td>\n",
       "      <td>0</td>\n",
       "      <td>0</td>\n",
       "      <td>0.086370</td>\n",
       "      <td>0.003467</td>\n",
       "      <td>NaN</td>\n",
       "      <td>4.080</td>\n",
       "      <td>17.860001</td>\n",
       "      <td>18.761999</td>\n",
       "      <td>19.139000</td>\n",
       "      <td>21.470800</td>\n",
       "      <td>20.065901</td>\n",
       "      <td>19.685101</td>\n",
       "      <td>19.437901</td>\n",
       "      <td>19.336300</td>\n",
       "      <td>17.450001</td>\n",
       "      <td>17.24</td>\n",
       "      <td>16.590000</td>\n",
       "      <td>16.670000</td>\n",
       "      <td>14.62</td>\n",
       "    </tr>\n",
       "    <tr>\n",
       "      <th>1668095</th>\n",
       "      <td>J225830.49-000612.0</td>\n",
       "      <td>344.627106</td>\n",
       "      <td>-0.103350</td>\n",
       "      <td></td>\n",
       "      <td>12</td>\n",
       "      <td>NaN</td>\n",
       "      <td>0</td>\n",
       "      <td>0</td>\n",
       "      <td>0.393201</td>\n",
       "      <td>0.011118</td>\n",
       "      <td>0</td>\n",
       "      <td>0</td>\n",
       "      <td>0</td>\n",
       "      <td>0.105661</td>\n",
       "      <td>0.126004</td>\n",
       "      <td>0</td>\n",
       "      <td>0</td>\n",
       "      <td>0</td>\n",
       "      <td>0.041546</td>\n",
       "      <td>0.001401</td>\n",
       "      <td>NaN</td>\n",
       "      <td>4.073</td>\n",
       "      <td>17.860001</td>\n",
       "      <td>18.117001</td>\n",
       "      <td>18.528999</td>\n",
       "      <td>20.344500</td>\n",
       "      <td>18.110001</td>\n",
       "      <td>17.665001</td>\n",
       "      <td>17.423000</td>\n",
       "      <td>17.675301</td>\n",
       "      <td>17.339001</td>\n",
       "      <td>17.02</td>\n",
       "      <td>16.582001</td>\n",
       "      <td>16.670000</td>\n",
       "      <td>14.62</td>\n",
       "    </tr>\n",
       "    <tr>\n",
       "      <th>3242628</th>\n",
       "      <td>J230224.27+010609.5</td>\n",
       "      <td>345.601166</td>\n",
       "      <td>1.102631</td>\n",
       "      <td></td>\n",
       "      <td>7</td>\n",
       "      <td>NaN</td>\n",
       "      <td>0</td>\n",
       "      <td>0</td>\n",
       "      <td>0.474843</td>\n",
       "      <td>0.278366</td>\n",
       "      <td>0</td>\n",
       "      <td>0</td>\n",
       "      <td>0</td>\n",
       "      <td>0.058680</td>\n",
       "      <td>0.073208</td>\n",
       "      <td>0</td>\n",
       "      <td>0</td>\n",
       "      <td>0</td>\n",
       "      <td>0.027864</td>\n",
       "      <td>0.020379</td>\n",
       "      <td>NaN</td>\n",
       "      <td>4.071</td>\n",
       "      <td>17.860001</td>\n",
       "      <td>19.276999</td>\n",
       "      <td>19.561001</td>\n",
       "      <td>22.026800</td>\n",
       "      <td>20.572001</td>\n",
       "      <td>20.210199</td>\n",
       "      <td>20.020901</td>\n",
       "      <td>19.790001</td>\n",
       "      <td>17.450001</td>\n",
       "      <td>17.24</td>\n",
       "      <td>16.590000</td>\n",
       "      <td>16.670000</td>\n",
       "      <td>14.62</td>\n",
       "    </tr>\n",
       "    <tr>\n",
       "      <th>1056310</th>\n",
       "      <td>J004455.69-003401.7</td>\n",
       "      <td>11.232084</td>\n",
       "      <td>-0.567148</td>\n",
       "      <td></td>\n",
       "      <td>8</td>\n",
       "      <td>NaN</td>\n",
       "      <td>0</td>\n",
       "      <td>0</td>\n",
       "      <td>0.403748</td>\n",
       "      <td>0.017758</td>\n",
       "      <td>0</td>\n",
       "      <td>1</td>\n",
       "      <td>1</td>\n",
       "      <td>0.432780</td>\n",
       "      <td>0.422021</td>\n",
       "      <td>0</td>\n",
       "      <td>0</td>\n",
       "      <td>0</td>\n",
       "      <td>0.174734</td>\n",
       "      <td>0.007494</td>\n",
       "      <td>NaN</td>\n",
       "      <td>4.065</td>\n",
       "      <td>17.860001</td>\n",
       "      <td>19.650999</td>\n",
       "      <td>19.809999</td>\n",
       "      <td>23.299999</td>\n",
       "      <td>20.985300</td>\n",
       "      <td>20.596100</td>\n",
       "      <td>20.272200</td>\n",
       "      <td>19.945700</td>\n",
       "      <td>17.450001</td>\n",
       "      <td>17.24</td>\n",
       "      <td>16.590000</td>\n",
       "      <td>16.670000</td>\n",
       "      <td>14.62</td>\n",
       "    </tr>\n",
       "    <tr>\n",
       "      <th>2311652</th>\n",
       "      <td>J004812.93+002330.6</td>\n",
       "      <td>12.053917</td>\n",
       "      <td>0.391826</td>\n",
       "      <td></td>\n",
       "      <td>9</td>\n",
       "      <td>NaN</td>\n",
       "      <td>0</td>\n",
       "      <td>0</td>\n",
       "      <td>0.405825</td>\n",
       "      <td>0.019451</td>\n",
       "      <td>0</td>\n",
       "      <td>0</td>\n",
       "      <td>0</td>\n",
       "      <td>0.040597</td>\n",
       "      <td>0.051747</td>\n",
       "      <td>0</td>\n",
       "      <td>0</td>\n",
       "      <td>0</td>\n",
       "      <td>0.016475</td>\n",
       "      <td>0.001007</td>\n",
       "      <td>NaN</td>\n",
       "      <td>4.065</td>\n",
       "      <td>17.860001</td>\n",
       "      <td>19.476000</td>\n",
       "      <td>19.809999</td>\n",
       "      <td>22.151400</td>\n",
       "      <td>20.756001</td>\n",
       "      <td>20.373899</td>\n",
       "      <td>20.132500</td>\n",
       "      <td>19.913601</td>\n",
       "      <td>17.450001</td>\n",
       "      <td>17.24</td>\n",
       "      <td>16.590000</td>\n",
       "      <td>16.670000</td>\n",
       "      <td>14.62</td>\n",
       "    </tr>\n",
       "    <tr>\n",
       "      <th>2982880</th>\n",
       "      <td>J005530.82+005409.2</td>\n",
       "      <td>13.878479</td>\n",
       "      <td>0.902580</td>\n",
       "      <td></td>\n",
       "      <td>12</td>\n",
       "      <td>NaN</td>\n",
       "      <td>0</td>\n",
       "      <td>0</td>\n",
       "      <td>0.395016</td>\n",
       "      <td>0.012060</td>\n",
       "      <td>1</td>\n",
       "      <td>0</td>\n",
       "      <td>0</td>\n",
       "      <td>0.052167</td>\n",
       "      <td>0.065561</td>\n",
       "      <td>0</td>\n",
       "      <td>0</td>\n",
       "      <td>0</td>\n",
       "      <td>0.020607</td>\n",
       "      <td>0.000791</td>\n",
       "      <td>NaN</td>\n",
       "      <td>4.063</td>\n",
       "      <td>15.631260</td>\n",
       "      <td>18.688999</td>\n",
       "      <td>19.010000</td>\n",
       "      <td>21.171301</td>\n",
       "      <td>19.746500</td>\n",
       "      <td>19.193800</td>\n",
       "      <td>19.040199</td>\n",
       "      <td>18.866699</td>\n",
       "      <td>17.450001</td>\n",
       "      <td>17.24</td>\n",
       "      <td>16.590000</td>\n",
       "      <td>16.670000</td>\n",
       "      <td>14.62</td>\n",
       "    </tr>\n",
       "    <tr>\n",
       "      <th>2695830</th>\n",
       "      <td>J021805.98+004100.5</td>\n",
       "      <td>34.524967</td>\n",
       "      <td>0.683471</td>\n",
       "      <td></td>\n",
       "      <td>8</td>\n",
       "      <td>NaN</td>\n",
       "      <td>0</td>\n",
       "      <td>0</td>\n",
       "      <td>0.451141</td>\n",
       "      <td>0.124564</td>\n",
       "      <td>0</td>\n",
       "      <td>1</td>\n",
       "      <td>1</td>\n",
       "      <td>0.190343</td>\n",
       "      <td>0.212730</td>\n",
       "      <td>0</td>\n",
       "      <td>0</td>\n",
       "      <td>0</td>\n",
       "      <td>0.085872</td>\n",
       "      <td>0.026499</td>\n",
       "      <td>NaN</td>\n",
       "      <td>4.061</td>\n",
       "      <td>17.860001</td>\n",
       "      <td>19.598000</td>\n",
       "      <td>19.809999</td>\n",
       "      <td>23.299999</td>\n",
       "      <td>21.172899</td>\n",
       "      <td>20.861099</td>\n",
       "      <td>20.631500</td>\n",
       "      <td>20.458099</td>\n",
       "      <td>17.450001</td>\n",
       "      <td>17.24</td>\n",
       "      <td>16.590000</td>\n",
       "      <td>16.670000</td>\n",
       "      <td>14.62</td>\n",
       "    </tr>\n",
       "    <tr>\n",
       "      <th>1843616</th>\n",
       "      <td>J221439.16+000156.2</td>\n",
       "      <td>333.663208</td>\n",
       "      <td>0.032279</td>\n",
       "      <td></td>\n",
       "      <td>8</td>\n",
       "      <td>NaN</td>\n",
       "      <td>0</td>\n",
       "      <td>0</td>\n",
       "      <td>0.421434</td>\n",
       "      <td>0.038035</td>\n",
       "      <td>0</td>\n",
       "      <td>1</td>\n",
       "      <td>0</td>\n",
       "      <td>0.129576</td>\n",
       "      <td>0.151487</td>\n",
       "      <td>0</td>\n",
       "      <td>0</td>\n",
       "      <td>0</td>\n",
       "      <td>0.054608</td>\n",
       "      <td>0.005762</td>\n",
       "      <td>NaN</td>\n",
       "      <td>4.060</td>\n",
       "      <td>17.860001</td>\n",
       "      <td>19.585999</td>\n",
       "      <td>19.809999</td>\n",
       "      <td>23.299999</td>\n",
       "      <td>21.254000</td>\n",
       "      <td>20.798401</td>\n",
       "      <td>20.599899</td>\n",
       "      <td>20.461500</td>\n",
       "      <td>17.450001</td>\n",
       "      <td>17.24</td>\n",
       "      <td>16.590000</td>\n",
       "      <td>16.670000</td>\n",
       "      <td>14.62</td>\n",
       "    </tr>\n",
       "    <tr>\n",
       "      <th>1872980</th>\n",
       "      <td>J231114.36+000316.0</td>\n",
       "      <td>347.809845</td>\n",
       "      <td>0.054459</td>\n",
       "      <td></td>\n",
       "      <td>9</td>\n",
       "      <td>NaN</td>\n",
       "      <td>0</td>\n",
       "      <td>0</td>\n",
       "      <td>0.440077</td>\n",
       "      <td>0.081479</td>\n",
       "      <td>0</td>\n",
       "      <td>1</td>\n",
       "      <td>1</td>\n",
       "      <td>0.299282</td>\n",
       "      <td>0.312439</td>\n",
       "      <td>0</td>\n",
       "      <td>0</td>\n",
       "      <td>0</td>\n",
       "      <td>0.131707</td>\n",
       "      <td>0.025457</td>\n",
       "      <td>NaN</td>\n",
       "      <td>4.058</td>\n",
       "      <td>17.860001</td>\n",
       "      <td>18.837000</td>\n",
       "      <td>19.091000</td>\n",
       "      <td>21.712601</td>\n",
       "      <td>20.299999</td>\n",
       "      <td>19.856400</td>\n",
       "      <td>19.610901</td>\n",
       "      <td>19.387899</td>\n",
       "      <td>17.450001</td>\n",
       "      <td>17.24</td>\n",
       "      <td>16.590000</td>\n",
       "      <td>16.670000</td>\n",
       "      <td>14.62</td>\n",
       "    </tr>\n",
       "    <tr>\n",
       "      <th>2270994</th>\n",
       "      <td>J021606.30+002137.3</td>\n",
       "      <td>34.026279</td>\n",
       "      <td>0.360366</td>\n",
       "      <td></td>\n",
       "      <td>8</td>\n",
       "      <td>NaN</td>\n",
       "      <td>0</td>\n",
       "      <td>0</td>\n",
       "      <td>0.483502</td>\n",
       "      <td>0.356042</td>\n",
       "      <td>0</td>\n",
       "      <td>0</td>\n",
       "      <td>0</td>\n",
       "      <td>0.079329</td>\n",
       "      <td>0.096898</td>\n",
       "      <td>0</td>\n",
       "      <td>0</td>\n",
       "      <td>0</td>\n",
       "      <td>0.038356</td>\n",
       "      <td>0.034500</td>\n",
       "      <td>NaN</td>\n",
       "      <td>4.055</td>\n",
       "      <td>17.860001</td>\n",
       "      <td>19.671999</td>\n",
       "      <td>19.809999</td>\n",
       "      <td>23.299999</td>\n",
       "      <td>21.327801</td>\n",
       "      <td>20.966700</td>\n",
       "      <td>20.728701</td>\n",
       "      <td>20.679199</td>\n",
       "      <td>17.450001</td>\n",
       "      <td>17.24</td>\n",
       "      <td>16.590000</td>\n",
       "      <td>16.670000</td>\n",
       "      <td>14.62</td>\n",
       "    </tr>\n",
       "  </tbody>\n",
       "</table>\n",
       "</div>"
      ],
      "text/plain": [
       "                        Name     RA_ICRS   DE_ICRS TYPE  band_num  class  \\\n",
       "2684467  J020320.44+004029.9   30.835190  0.674982              7    NaN   \n",
       "3511189  J224421.39+012018.8  341.089172  1.338558             12    NaN   \n",
       "3511643  J224421.63+012020.7  341.090179  1.339097             12    NaN   \n",
       "1768417  J225047.39-000133.8  342.697510 -0.026075              7    NaN   \n",
       "38246    J230737.57-012307.5  346.906586 -1.385441              9    NaN   \n",
       "2801090  J231303.33+004546.6  348.263916  0.762957              9    NaN   \n",
       "1668095  J225830.49-000612.0  344.627106 -0.103350             12    NaN   \n",
       "3242628  J230224.27+010609.5  345.601166  1.102631              7    NaN   \n",
       "1056310  J004455.69-003401.7   11.232084 -0.567148              8    NaN   \n",
       "2311652  J004812.93+002330.6   12.053917  0.391826              9    NaN   \n",
       "2982880  J005530.82+005409.2   13.878479  0.902580             12    NaN   \n",
       "2695830  J021805.98+004100.5   34.524967  0.683471              8    NaN   \n",
       "1843616  J221439.16+000156.2  333.663208  0.032279              8    NaN   \n",
       "1872980  J231114.36+000316.0  347.809845  0.054459              9    NaN   \n",
       "2270994  J021606.30+002137.3   34.026279  0.360366              8    NaN   \n",
       "\n",
       "         pred_class  pred_prob_class  Score_AGN  Prob_AGN  LOFAR_detect  \\\n",
       "2684467           0                0   0.414104  0.027847             0   \n",
       "3511189           0                0   0.398816  0.014283             0   \n",
       "3511643           0                0   0.398816  0.014283             0   \n",
       "1768417           0                0   0.418509  0.033609             0   \n",
       "38246             0                0   0.404498  0.018353             0   \n",
       "2801090           0                0   0.399303  0.014595             0   \n",
       "1668095           0                0   0.393201  0.011118             0   \n",
       "3242628           0                0   0.474843  0.278366             0   \n",
       "1056310           0                0   0.403748  0.017758             0   \n",
       "2311652           0                0   0.405825  0.019451             0   \n",
       "2982880           0                0   0.395016  0.012060             1   \n",
       "2695830           0                0   0.451141  0.124564             0   \n",
       "1843616           0                0   0.421434  0.038035             0   \n",
       "1872980           0                0   0.440077  0.081479             0   \n",
       "2270994           0                0   0.483502  0.356042             0   \n",
       "\n",
       "         pred_radio  pred_prob_radio  Score_radio  Prob_radio  radio_AGN  \\\n",
       "2684467           0                0     0.052391    0.065826          0   \n",
       "3511189           0                0     0.076690    0.093915          0   \n",
       "3511643           0                0     0.070643    0.087032          0   \n",
       "1768417           1                1     0.322234    0.332118          0   \n",
       "38246             1                1     0.222104    0.242999          0   \n",
       "2801090           1                1     0.216301    0.237550          0   \n",
       "1668095           0                0     0.105661    0.126004          0   \n",
       "3242628           0                0     0.058680    0.073208          0   \n",
       "1056310           1                1     0.432780    0.422021          0   \n",
       "2311652           0                0     0.040597    0.051747          0   \n",
       "2982880           0                0     0.052167    0.065561          0   \n",
       "2695830           1                1     0.190343    0.212730          0   \n",
       "1843616           1                0     0.129576    0.151487          0   \n",
       "1872980           1                1     0.299282    0.312439          0   \n",
       "2270994           0                0     0.079329    0.096898          0   \n",
       "\n",
       "         pred_radio_AGN  pred_prob_rAGN  Score_rAGN  Prob_rAGN   Z  pred_Z  \\\n",
       "2684467               0               0    0.021695   0.001833 NaN   4.103   \n",
       "3511189               0               0    0.030585   0.001341 NaN   4.102   \n",
       "3511643               0               0    0.028174   0.001243 NaN   4.096   \n",
       "1768417               0               0    0.134858   0.011162 NaN   4.091   \n",
       "38246                 0               0    0.089840   0.004460 NaN   4.089   \n",
       "2801090               0               0    0.086370   0.003467 NaN   4.080   \n",
       "1668095               0               0    0.041546   0.001401 NaN   4.073   \n",
       "3242628               0               0    0.027864   0.020379 NaN   4.071   \n",
       "1056310               0               0    0.174734   0.007494 NaN   4.065   \n",
       "2311652               0               0    0.016475   0.001007 NaN   4.065   \n",
       "2982880               0               0    0.020607   0.000791 NaN   4.063   \n",
       "2695830               0               0    0.085872   0.026499 NaN   4.061   \n",
       "1843616               0               0    0.054608   0.005762 NaN   4.060   \n",
       "1872980               0               0    0.131707   0.025457 NaN   4.058   \n",
       "2270994               0               0    0.038356   0.034500 NaN   4.055   \n",
       "\n",
       "         Fint_VLAS82   W1mproPM   W2mproPM       gmag       rmag       imag  \\\n",
       "2684467    17.860001  19.597000  19.809999  22.099701  20.625700  20.257799   \n",
       "3511189    17.860001  18.715000  18.964001  21.032900  19.525200  19.203899   \n",
       "3511643    17.860001  18.799999  19.048000  21.032900  19.525200  19.203899   \n",
       "1768417    17.860001  19.548000  19.809999  23.299999  21.690701  21.365200   \n",
       "38246      17.860001  18.792000  19.066000  21.571400  20.179199  19.749800   \n",
       "2801090    17.860001  18.761999  19.139000  21.470800  20.065901  19.685101   \n",
       "1668095    17.860001  18.117001  18.528999  20.344500  18.110001  17.665001   \n",
       "3242628    17.860001  19.276999  19.561001  22.026800  20.572001  20.210199   \n",
       "1056310    17.860001  19.650999  19.809999  23.299999  20.985300  20.596100   \n",
       "2311652    17.860001  19.476000  19.809999  22.151400  20.756001  20.373899   \n",
       "2982880    15.631260  18.688999  19.010000  21.171301  19.746500  19.193800   \n",
       "2695830    17.860001  19.598000  19.809999  23.299999  21.172899  20.861099   \n",
       "1843616    17.860001  19.585999  19.809999  23.299999  21.254000  20.798401   \n",
       "1872980    17.860001  18.837000  19.091000  21.712601  20.299999  19.856400   \n",
       "2270994    17.860001  19.671999  19.809999  23.299999  21.327801  20.966700   \n",
       "\n",
       "              zmag       ymag       Jmag   Hmag       Kmag      W3mag  W4mag  \n",
       "2684467  20.021700  19.858601  17.450001  17.24  16.590000  16.670000  14.62  \n",
       "3511189  18.976101  18.749901  17.450001  17.24  16.590000  16.670000  14.62  \n",
       "3511643  18.976101  18.749901  17.450001  17.24  16.590000  16.670000  14.62  \n",
       "1768417  21.177200  21.400000  17.450001  17.24  16.590000  16.506001  14.62  \n",
       "38246    19.526600  19.320400  17.450001  17.24  16.590000  16.670000  14.62  \n",
       "2801090  19.437901  19.336300  17.450001  17.24  16.590000  16.670000  14.62  \n",
       "1668095  17.423000  17.675301  17.339001  17.02  16.582001  16.670000  14.62  \n",
       "3242628  20.020901  19.790001  17.450001  17.24  16.590000  16.670000  14.62  \n",
       "1056310  20.272200  19.945700  17.450001  17.24  16.590000  16.670000  14.62  \n",
       "2311652  20.132500  19.913601  17.450001  17.24  16.590000  16.670000  14.62  \n",
       "2982880  19.040199  18.866699  17.450001  17.24  16.590000  16.670000  14.62  \n",
       "2695830  20.631500  20.458099  17.450001  17.24  16.590000  16.670000  14.62  \n",
       "1843616  20.599899  20.461500  17.450001  17.24  16.590000  16.670000  14.62  \n",
       "1872980  19.610901  19.387899  17.450001  17.24  16.590000  16.670000  14.62  \n",
       "2270994  20.728701  20.679199  17.450001  17.24  16.590000  16.670000  14.62  "
      ]
     },
     "metadata": {},
     "output_type": "display_data"
    }
   ],
   "source": [
    "display(full_catalog_df.loc[filter_high_z, cols_4_export].sort_values(by=['pred_Z'], ascending=False).head(15))"
   ]
  },
  {
   "cell_type": "code",
   "execution_count": 35,
   "metadata": {},
   "outputs": [],
   "source": [
    "if save_preds_flag:\n",
    "    full_catalog_df.loc[filter_high_z, cols_4_export].sort_values(by=['pred_Z'],\n",
    "     ascending=False).to_csv(gv.preds_path + f'predicted_rAGN_{used_area}.csv', index_label='ID')"
   ]
  },
  {
   "cell_type": "markdown",
   "metadata": {},
   "source": [
    "---"
   ]
  },
  {
   "cell_type": "code",
   "execution_count": 36,
   "metadata": {},
   "outputs": [],
   "source": [
    "temp_flag = False"
   ]
  },
  {
   "cell_type": "code",
   "execution_count": 37,
   "metadata": {},
   "outputs": [],
   "source": [
    "if temp_flag:\n",
    "    \n",
    "    add_columns  = ['band_num', 'class', 'pred_prob_class', 'Score_AGN', 'Prob_AGN', \n",
    "                    'LOFAR_detect',  'pred_prob_radio', 'Score_radio', 'Prob_radio', \n",
    "                    'radio_AGN', 'pred_prob_rAGN', 'Score_rAGN', 'Prob_rAGN', 'Z', 'pred_Z']\n",
    "    used_colours = ['g_r', 'g_i', 'g_J',  'r_i', 'r_z', 'r_J', 'r_W1', 'i_z', \n",
    "                    'i_y', 'z_y', 'z_W1', 'y_J', 'y_W1', 'y_W2', 'J_H', \n",
    "                    'K_W3', 'K_W4', 'H_K', 'H_W3', 'W1_W2', 'W1_W3', 'W2_W3', 'W3_W4']"
   ]
  },
  {
   "cell_type": "code",
   "execution_count": 38,
   "metadata": {},
   "outputs": [],
   "source": [
    "if temp_flag:\n",
    "    saving_data = full_catalog_df.loc[:, add_columns + cols_photo + used_colours]\n",
    "    saving_data['ID'] = saving_data.index\n",
    "    saving_data.to_hdf(gv.preds_path + f'{used_area}_for_prediction.h5', key='df')"
   ]
  },
  {
   "cell_type": "code",
   "execution_count": null,
   "metadata": {},
   "outputs": [],
   "source": []
  }
 ],
 "metadata": {
  "kernelspec": {
   "display_name": "Python 3 (ipykernel)",
   "language": "python",
   "name": "python3"
  },
  "language_info": {
   "codemirror_mode": {
    "name": "ipython",
    "version": 3
   },
   "file_extension": ".py",
   "mimetype": "text/x-python",
   "name": "python",
   "nbconvert_exporter": "python",
   "pygments_lexer": "ipython3",
   "version": "3.8.13"
  },
  "vscode": {
   "interpreter": {
    "hash": "1d7c94ac87c57432169d0bc24ce250f6f2e77b44a3b95192eb5ace62cff26777"
   }
  }
 },
 "nbformat": 4,
 "nbformat_minor": 4
}
