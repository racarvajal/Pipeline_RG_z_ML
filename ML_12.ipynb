{
 "cells": [
  {
   "cell_type": "markdown",
   "metadata": {},
   "source": [
    "# Pipeline for High-z Radio Galaxies 12: Application of full pipeline for prediction"
   ]
  },
  {
   "cell_type": "markdown",
   "metadata": {},
   "source": [
    "## Introduction"
   ]
  },
  {
   "cell_type": "markdown",
   "metadata": {},
   "source": [
    "In this file, three models will be applied consecutively in order to predict  \n",
    "the detection of Radio Galaxies (radio AGN) and their redshift.  \n",
    "\n",
    "In principle, this pipeline should be applied to data in Stripe 82. But  \n",
    "it can be used with any other suitable dataset."
   ]
  },
  {
   "cell_type": "code",
   "execution_count": 1,
   "metadata": {},
   "outputs": [],
   "source": [
    "%matplotlib inline\n",
    "# Static plots\n",
    "#%matplotlib ipympl\n",
    "# Interactive plots\n",
    "import numpy as np\n",
    "import matplotlib as mpl\n",
    "import matplotlib.cm as cm\n",
    "from matplotlib import ticker\n",
    "import matplotlib.pyplot as plt\n",
    "import matplotlib.colors as mcolors\n",
    "import matplotlib.patheffects as mpe\n",
    "import matplotlib.patches as mpatches\n",
    "from matplotlib.ticker import ScalarFormatter\n",
    "from mpl_toolkits.axes_grid1.inset_locator import inset_axes\n",
    "from astropy.visualization import LogStretch\n",
    "from astropy.visualization.mpl_normalize import ImageNormalize\n",
    "from sklearn.preprocessing import MinMaxScaler\n",
    "from sklearn.metrics import ConfusionMatrixDisplay\n",
    "import sklearn.pipeline\n",
    "import colorcet as cc\n",
    "from pycaret import classification as pyc\n",
    "from pycaret import regression as pyr\n",
    "from pycaret.internal.tabular import _get_columns_to_stratify_by\n",
    "import pandas as pd\n",
    "import mpl_scatter_density\n",
    "# import schemdraw\n",
    "# from schemdraw import flow"
   ]
  },
  {
   "cell_type": "code",
   "execution_count": 2,
   "metadata": {},
   "outputs": [],
   "source": [
    "mpl.rcdefaults()"
   ]
  },
  {
   "cell_type": "markdown",
   "metadata": {},
   "source": [
    "Create path effects."
   ]
  },
  {
   "cell_type": "code",
   "execution_count": 3,
   "metadata": {
    "jupyter": {
     "source_hidden": true
    },
    "tags": []
   },
   "outputs": [],
   "source": [
    "pe1            = [mpe.Stroke(linewidth=5.0, foreground='black'),\n",
    "                  mpe.Stroke(foreground='white', alpha=1),\n",
    "                  mpe.Normal()]\n",
    "pe2            = [mpe.Stroke(linewidth=3.0, foreground='white'),\n",
    "                  mpe.Stroke(foreground='white', alpha=1),\n",
    "                  mpe.Normal()]"
   ]
  },
  {
   "cell_type": "markdown",
   "metadata": {},
   "source": [
    "Define specific metrics for redshift values."
   ]
  },
  {
   "cell_type": "code",
   "execution_count": 4,
   "metadata": {
    "jupyter": {
     "source_hidden": true
    },
    "tags": []
   },
   "outputs": [],
   "source": [
    "def sigma_mad(z_true, z_pred, **kwargs):\n",
    "    med = np.nanmedian(np.abs(z_true - z_pred)).astype('float32')\n",
    "    return 1.48 * med"
   ]
  },
  {
   "cell_type": "code",
   "execution_count": 5,
   "metadata": {
    "jupyter": {
     "source_hidden": true
    },
    "tags": []
   },
   "outputs": [],
   "source": [
    "def sigma_nmad(z_true, z_pred, **kwargs):\n",
    "    dif  = (z_true - z_pred)\n",
    "    frac = dif / (1 + z_true).values\n",
    "    med  = np.nanmedian(np.abs(frac)).astype('float32')\n",
    "    return 1.48 * med"
   ]
  },
  {
   "cell_type": "code",
   "execution_count": 6,
   "metadata": {
    "jupyter": {
     "source_hidden": true
    },
    "tags": []
   },
   "outputs": [],
   "source": [
    "def sigma_z(z_true, z_pred, **kwargs):\n",
    "    dif = z_true - z_pred\n",
    "    ssq = np.sum(dif**2)\n",
    "    rot = np.sqrt(ssq / len(z_true)).astype('float32')\n",
    "    return rot"
   ]
  },
  {
   "cell_type": "code",
   "execution_count": 7,
   "metadata": {
    "jupyter": {
     "source_hidden": true
    },
    "tags": []
   },
   "outputs": [],
   "source": [
    "def sigma_z_norm(z_true, z_pred, **kwargs):\n",
    "    dif = (z_true - z_pred) / (1 + z_true)\n",
    "    ssq = np.sum(dif**2)\n",
    "    rot = np.sqrt(ssq / len(z_true)).astype('float32')\n",
    "    return rot"
   ]
  },
  {
   "cell_type": "code",
   "execution_count": 8,
   "metadata": {
    "jupyter": {
     "source_hidden": true
    },
    "tags": []
   },
   "outputs": [],
   "source": [
    "def outlier_frac(z_true, z_pred, **kwargs):\n",
    "    dif  = np.abs((z_true - z_pred) / (1 + z_true))\n",
    "    siz  = np.sum(np.isfinite(dif)).astype('float32')\n",
    "    num  = np.sum(np.array(dif > 0.15)).astype('float32')\n",
    "    frac = num / siz\n",
    "    return frac"
   ]
  },
  {
   "cell_type": "markdown",
   "metadata": {},
   "source": [
    "Methods for Pycaret and saved models."
   ]
  },
  {
   "cell_type": "code",
   "execution_count": 9,
   "metadata": {
    "jupyter": {
     "source_hidden": true
    },
    "tags": []
   },
   "outputs": [],
   "source": [
    "def get_final_column_names(pycaret_pipeline, sample_df):\n",
    "    if isinstance(pycaret_pipeline, sklearn.pipeline.Pipeline):\n",
    "        for (name, method) in pycaret_pipeline.named_steps.items():\n",
    "            if method != 'passthrough' and name != 'trained_model':\n",
    "                print(f'Running {name}')\n",
    "                sample_df = method.transform(sample_df)\n",
    "        return sample_df.columns.tolist()\n",
    "    else:\n",
    "        try:\n",
    "            for (name, method) in pyr.get_config('prep_pipe').named_steps.items():\n",
    "                if method != 'passthrough' and name != 'trained_model':\n",
    "                    print(f'Running {name}')\n",
    "                    sample_df = method.transform(sample_df)\n",
    "        except:\n",
    "            for (name, method) in pyc.get_config('prep_pipe').named_steps.items():\n",
    "                if method != 'passthrough' and name != 'trained_model':\n",
    "                    print(f'Running {name}')\n",
    "                    sample_df = method.transform(sample_df)\n",
    "        return sample_df.columns.tolist()"
   ]
  },
  {
   "cell_type": "code",
   "execution_count": 10,
   "metadata": {
    "jupyter": {
     "source_hidden": true
    },
    "tags": []
   },
   "outputs": [],
   "source": [
    "def get_feature_importances_df(pycaret_pipeline, sample_df, n = 10):\n",
    "    \n",
    "    final_cols = get_final_column_names(pycaret_pipeline, sample_df)\n",
    "    \n",
    "    if isinstance(pycaret_pipeline, sklearn.pipeline.Pipeline):\n",
    "        try:\n",
    "            variables = pycaret_pipeline[\"trained_model\"].feature_importances_\n",
    "            \n",
    "        except:\n",
    "            variables = np.mean([\n",
    "                            tree.feature_importances_ for tree in pycaret_pipeline[\"trained_model\"].estimators_\n",
    "                if hasattr(tree, 'feature_importances_')\n",
    "                            ], axis=0)\n",
    "        \n",
    "        coef_df = pd.DataFrame({'Feature': final_cols, 'Importance': variables})\n",
    "        sorted_df = (\n",
    "            coef_df.sort_values(by='Importance', ascending=False)\n",
    "            .head(n)\n",
    "            .sort_values(by='Importance', ascending=True).reset_index(drop=True)\n",
    "        )\n",
    "    else:\n",
    "        try:\n",
    "            variables = pycaret_pipeline.feature_importances_\n",
    "            \n",
    "        except:\n",
    "            variables = np.mean([\n",
    "                            tree.feature_importances_ for tree in pycaret_pipeline.estimators_\n",
    "                if hasattr(tree, 'feature_importances_')\n",
    "                            ], axis=0)\n",
    "        \n",
    "        coef_df = pd.DataFrame({'Feature': final_cols, 'Importance': variables})\n",
    "        sorted_df = (\n",
    "            coef_df.sort_values(by='Importance', ascending=False)\n",
    "            .head(n)\n",
    "            .sort_values(by='Importance', ascending=True).reset_index(drop=True)\n",
    "        )\n",
    "    return sorted_df"
   ]
  },
  {
   "cell_type": "markdown",
   "metadata": {},
   "source": [
    "Methods for the use of values in Confusion Matrices."
   ]
  },
  {
   "cell_type": "code",
   "execution_count": 11,
   "metadata": {
    "jupyter": {
     "source_hidden": true
    },
    "tags": []
   },
   "outputs": [],
   "source": [
    "def MCC_from_CM(cm_array):  # Matthews correlation coefficient\n",
    "    TN, FP, FN, TP = cm_array.flatten().astype('float32')\n",
    "    MCC = ((TP * TN) - (FP * FN)) / np.sqrt((TP + FP) * (TP + FN) * (TN + FP) * (TN + FN))\n",
    "    return MCC"
   ]
  },
  {
   "cell_type": "code",
   "execution_count": 12,
   "metadata": {
    "jupyter": {
     "source_hidden": true
    },
    "tags": []
   },
   "outputs": [],
   "source": [
    "def ACC_from_CM(cm_array):  # Accuracy\n",
    "    TN, FP, FN, TP = cm_array.flatten().astype('float32')\n",
    "    ACC = (TP + TN) / (TP + TN + FP + FN)\n",
    "    return ACC"
   ]
  },
  {
   "cell_type": "code",
   "execution_count": 13,
   "metadata": {
    "jupyter": {
     "source_hidden": true
    },
    "tags": []
   },
   "outputs": [],
   "source": [
    "def F1_from_CM(cm_array):  # F-1 score\n",
    "    TN, FP, FN, TP = cm_array.flatten().astype('float32')\n",
    "    F1 = 2 * TP / (2 * TP + FP + FN)\n",
    "    return F1"
   ]
  },
  {
   "cell_type": "code",
   "execution_count": 14,
   "metadata": {
    "jupyter": {
     "source_hidden": true
    },
    "tags": []
   },
   "outputs": [],
   "source": [
    "def Recall_from_CM(cm_array):  # Recall\n",
    "    TN, FP, FN, TP = cm_array.flatten().astype('float32')\n",
    "    Recall = TP / (TP + FN)\n",
    "    return Recall"
   ]
  },
  {
   "cell_type": "markdown",
   "metadata": {},
   "source": [
    "Method to plot confusion matrix"
   ]
  },
  {
   "cell_type": "code",
   "execution_count": 15,
   "metadata": {
    "jupyter": {
     "source_hidden": true
    },
    "tags": []
   },
   "outputs": [],
   "source": [
    "def plot_conf_mat(confusion_matrix, title, axin, display_labels=['Non true', 'True'], cmap='cet_dimgray_r', show_clb=False, log_stretch=False):\n",
    "    disp = ConfusionMatrixDisplay(confusion_matrix=confusion_matrix, display_labels=display_labels)\n",
    "\n",
    "    min_val_colour = np.nanmin(confusion_matrix)\n",
    "    max_val_colour = np.nanmin(confusion_matrix)\n",
    "    \n",
    "    if log_stretch:\n",
    "        norm = ImageNormalize(stretch=LogStretch())\n",
    "    if not log_stretch:\n",
    "        norm = ImageNormalize()\n",
    "\n",
    "    # NOTE: Fill all variables here with default values of the plot_confusion_matrix\n",
    "    disp_b = disp.plot(include_values=True, cmap=cm.get_cmap(cmap),\\\n",
    "             ax=axin, xticks_rotation='horizontal')\n",
    "\n",
    "    for text_val in disp_b.text_.flatten():\n",
    "        text_val.set_fontsize(30)\n",
    "    clb = plt.gca().images[-1].colorbar\n",
    "    clb.ax.tick_params(labelsize=14)\n",
    "    clb.ax.ticklabel_format(style='sci', scilimits=(0, 0))\n",
    "    clb.outline.set_linewidth(2.5)\n",
    "    clb.ax.set_ylabel('Elements in bin', size=14)\n",
    "    if not show_clb:\n",
    "        clb.remove()\n",
    "\n",
    "    # disp_b.im_.set_clim(1e2, 3e3)\n",
    "    disp_b.im_.norm = norm\n",
    "\n",
    "    axin.xaxis.get_label().set_fontsize(16)\n",
    "    axin.yaxis.get_label().set_fontsize(16)\n",
    "\n",
    "    axin.tick_params(axis='both', which='major', labelsize=14)\n",
    "\n",
    "    plt.setp(axin.spines.values(), linewidth=2.5)\n",
    "    plt.setp(axin.spines.values(), linewidth=2.5)\n",
    "    axin.set_title(title)\n",
    "    plt.tight_layout()"
   ]
  },
  {
   "cell_type": "markdown",
   "metadata": {},
   "source": [
    "Method to plot predicted and true redshift values"
   ]
  },
  {
   "cell_type": "code",
   "execution_count": 16,
   "metadata": {
    "jupyter": {
     "source_hidden": true
    },
    "tags": []
   },
   "outputs": [],
   "source": [
    "def plot_redshift_compare(true_z, predicted_z, ax_pre, title=None, dpi=10, cmap='cet_linear_kryw_5_100_c64_r', show_clb=False, log_stretch=False):\n",
    "    if log_stretch:\n",
    "        norm = ImageNormalize(vmin=0., stretch=LogStretch())\n",
    "    if not log_stretch:\n",
    "        norm = ImageNormalize(vmin=0.)\n",
    "\n",
    "    filt_pair_z   = np.isfinite(true_z) & np.isfinite(predicted_z)\n",
    "    max_for_range = np.nanmax([np.nanmax(1 + true_z.loc[filt_pair_z]), np.nanmax(1 + predicted_z.loc[filt_pair_z])])\n",
    "\n",
    "    dens_1 = ax_pre.scatter_density((1 + true_z.sample(frac=1, random_state=seed)),\\\n",
    "            (1 + predicted_z.sample(frac=1, random_state=seed)),\\\n",
    "            cmap=plt.get_cmap(cmap), zorder=0, dpi=dpi, norm=norm, alpha=0.93)\n",
    "    \n",
    "    ax_pre.axline((2., 2.), (3., 3.), ls='--', marker=None, c='Gray', alpha=0.8, lw=3.0, zorder=20)\n",
    "    ax_pre.axline(xy1=(1., 1.15), xy2=(2., 2.3), ls='-.', marker=None, c='slateblue', alpha=0.6, lw=3.0, zorder=20)\n",
    "    ax_pre.axline(xy1=(1., 0.85), xy2=(2., 1.7), ls='-.', marker=None, c='slateblue', alpha=0.6, lw=3.0, zorder=20)\n",
    "\n",
    "    if show_clb:\n",
    "        clb = plt.colorbar(dens_1, extend='neither', norm=norm, ticks=ticker.MaxNLocator(integer=True))\n",
    "        clb.ax.tick_params(labelsize=14)\n",
    "        clb.outline.set_linewidth(2.5)\n",
    "        clb.ax.set_ylabel('Elements per pixel', size=16, path_effects=pe2)\n",
    "\n",
    "    # Inset axis with residuals\n",
    "    axins = inset_axes(ax_pre, width='35%', height='20%', loc=2)\n",
    "    res_z_z = (predicted_z - true_z) / (1 + true_z)\n",
    "    axins.hist(res_z_z, histtype='stepfilled', fc='grey', ec='k', bins=50, lw=2.5)\n",
    "    axins.axvline(x=np.nanpercentile(res_z_z, [15.9]), ls='--', lw=2.5, c='royalblue')\n",
    "    axins.axvline(x=np.nanpercentile(res_z_z, [84.1]), ls='--', lw=2.5, c='royalblue')\n",
    "    axins.set_xlabel('$\\Delta z / (1 + z_{\\mathrm{True}})$', fontsize=10)\n",
    "    axins.tick_params(labelleft=False, labelbottom=True)\n",
    "    axins.tick_params(which='both', top=True, right=True, direction='in')\n",
    "    axins.tick_params(axis='both', which='major', labelsize=10)\n",
    "    axins.tick_params(which='major', length=8, width=1.5)\n",
    "    axins.tick_params(which='minor', length=4, width=1.5)\n",
    "    plt.setp(axins.spines.values(), linewidth=2.5)\n",
    "    plt.setp(axins.spines.values(), linewidth=2.5)\n",
    "    axins.set_xlim(left=-0.9, right=0.9)\n",
    "    ##\n",
    "    ax_pre.set_xlabel('$1 + z_{\\mathrm{True}}$', fontsize=20)\n",
    "    ax_pre.set_ylabel('$1 + z_{\\mathrm{Predicted}}$', fontsize=20)\n",
    "    ax_pre.tick_params(which='both', top=True, right=True, direction='in')\n",
    "    ax_pre.tick_params(axis='both', which='minor', labelsize=14)\n",
    "    ax_pre.tick_params(which='major', length=8, width=1.5)\n",
    "    ax_pre.tick_params(which='minor', length=4, width=1.5)\n",
    "    # ax_pre.xaxis.set_major_locator(ticker.MaxNLocator(integer=True))\n",
    "    # ax_pre.yaxis.set_major_locator(ticker.MaxNLocator(integer=True))\n",
    "    ax_pre.xaxis.set_minor_formatter(ticker.ScalarFormatter(useMathText=False))\n",
    "    ax_pre.yaxis.set_minor_formatter(ticker.ScalarFormatter(useMathText=False))\n",
    "    plt.setp(ax_pre.spines.values(), linewidth=2.5)\n",
    "    plt.setp(ax_pre.spines.values(), linewidth=2.5)\n",
    "    ax_pre.set_xlim(left=1., right=np.ceil(max_for_range))\n",
    "    ax_pre.set_ylim(bottom=1., top=np.ceil(max_for_range))\n",
    "    ax_pre.set_title(title)\n",
    "    plt.tight_layout()"
   ]
  },
  {
   "cell_type": "markdown",
   "metadata": {},
   "source": [
    "---"
   ]
  },
  {
   "cell_type": "markdown",
   "metadata": {},
   "source": [
    "## Reading data"
   ]
  },
  {
   "cell_type": "code",
   "execution_count": 17,
   "metadata": {},
   "outputs": [],
   "source": [
    "cat_path            = '../../Catalogs/'  # relative path to the same directory"
   ]
  },
  {
   "cell_type": "markdown",
   "metadata": {},
   "source": [
    "Flags."
   ]
  },
  {
   "cell_type": "code",
   "execution_count": 18,
   "metadata": {},
   "outputs": [],
   "source": [
    "save_plot_flag      = False\n",
    "load_models_flag    = True"
   ]
  },
  {
   "cell_type": "code",
   "execution_count": 19,
   "metadata": {},
   "outputs": [],
   "source": [
    "used_area           = 'HETDEX'  # can be 'S82', 'HETDEX', 'COSMOS'"
   ]
  },
  {
   "cell_type": "code",
   "execution_count": 20,
   "metadata": {},
   "outputs": [],
   "source": [
    "file_S82            = 'CatWISE2020_S82_VLASS_VLAS82_PS1_GALEX_TGSS_XMM_2MASS_MILLIQUAS_7_4d_ALLWISE_SDSS_DR16_5sigma_imp.h5'\n",
    "file_HETDEX         = 'CatWISE2020_VLASS_LOFAR_PS1_GALEX_TGSS_XMM_2MASS_MILLIQUAS_7_4d_ALLWISE_LOLSS_SDSS_DR16_5sigma_imp.h5'\n",
    "file_COSMOS         = 'CatWISE2020_COSMOS_MILLIQUAS_7_4d_COSMOSVLA3_PS1_GALEX_TGSS_VLASS_XMM_2MASS_ALLWISE_SDSS_DR16_5sigma_imp.h5'\n",
    "\n",
    "file_name_dict      = {'S82': file_S82, 'HETDEX': file_HETDEX, 'COSMOS': file_COSMOS}\n",
    "file_name           = file_name_dict[used_area]"
   ]
  },
  {
   "cell_type": "code",
   "execution_count": 21,
   "metadata": {},
   "outputs": [],
   "source": [
    "feats_2_disc_S82    = ['objID', 'RA_MILLI', 'DEC_MILLI', 'X_ray_detect', 'Total_flux_VLASS',\\\n",
    "                     'Fint_VLAS82', 'Stotal_TGSS', 'FEP', 'W1mag', 'W2mag']\n",
    "feats_2_disc_HETDEX = ['objID', 'RA_MILLI', 'DEC_MILLI', 'X_ray_detect', 'Total_flux_VLASS',\\\n",
    "                     'Sint_LOFAR', 'Stotal_TGSS', 'FEP', 'TotalFlux_LoLSS', 'W1mag', 'W2mag']\n",
    "feats_2_disc_COSMOS = ['objID', 'RA_MILLI', 'DEC_MILLI', 'X_ray_detect', 'Total_flux_VLASS',\\\n",
    "                     'Stotal_TGSS', 'FEP', 'Flux_COSMOSVLA3', 'W1mag', 'W2mag']\n",
    "\n",
    "feats_2_disc        = {'S82': feats_2_disc_S82, 'HETDEX': feats_2_disc_HETDEX, 'COSMOS': feats_2_disc_COSMOS}\n",
    "features_2_discard  = feats_2_disc[used_area]"
   ]
  },
  {
   "cell_type": "code",
   "execution_count": 22,
   "metadata": {},
   "outputs": [],
   "source": [
    "full_catalog_df     = pd.read_hdf(cat_path + file_name, key='df').drop(columns=features_2_discard)"
   ]
  },
  {
   "cell_type": "code",
   "execution_count": 23,
   "metadata": {},
   "outputs": [],
   "source": [
    "full_catalog_df.loc[:, 'radio_detect'] = full_catalog_df.loc[:, 'radio_detect'].astype(int)"
   ]
  },
  {
   "cell_type": "markdown",
   "metadata": {},
   "source": [
    "Create features with class and combined redshift."
   ]
  },
  {
   "cell_type": "code",
   "execution_count": 24,
   "metadata": {},
   "outputs": [],
   "source": [
    "full_catalog_df['class']            = full_catalog_df.loc[:, 'is_AGN'].copy()\n",
    "filter_non_confirmed                = np.array(full_catalog_df.loc[:, 'is_AGN'] == 1) | np.array(full_catalog_df.loc[:, 'is_gal'] == 1)\n",
    "full_catalog_df.loc[~filter_non_confirmed, 'class'] = 0.5\n",
    "idx_non_Z                           = full_catalog_df.loc[:, 'Z'].where(full_catalog_df.loc[:, 'Z'] > 0).isna()\n",
    "full_catalog_df.loc[idx_non_Z, 'Z'] = full_catalog_df.loc[:, 'Z'].mask(idx_non_Z, full_catalog_df.loc[idx_non_Z, 'zsp'])"
   ]
  },
  {
   "cell_type": "markdown",
   "metadata": {},
   "source": [
    "Discard minor features."
   ]
  },
  {
   "cell_type": "code",
   "execution_count": 25,
   "metadata": {},
   "outputs": [],
   "source": [
    "full_catalog_df                     = full_catalog_df.drop(columns=['is_AGN', 'is_SDSS_gal', 'is_gal', 'zsp'])"
   ]
  },
  {
   "cell_type": "markdown",
   "metadata": {},
   "source": [
    "##### Random seed"
   ]
  },
  {
   "cell_type": "code",
   "execution_count": 26,
   "metadata": {},
   "outputs": [],
   "source": [
    "seed                                = 42"
   ]
  },
  {
   "cell_type": "markdown",
   "metadata": {},
   "source": [
    "---"
   ]
  },
  {
   "cell_type": "markdown",
   "metadata": {},
   "source": [
    "### Load models"
   ]
  },
  {
   "cell_type": "code",
   "execution_count": 27,
   "metadata": {},
   "outputs": [
    {
     "name": "stdout",
     "output_type": "stream",
     "text": [
      "Transformation Pipeline and Model Successfully Loaded\n",
      "Transformation Pipeline and Model Successfully Loaded\n",
      "Transformation Pipeline and Model Successfully Loaded\n"
     ]
    }
   ],
   "source": [
    "if load_models_flag:\n",
    "    AGN_gal_clf   = pyc.load_model('models/classification_AGN_galaxy_apr_20_2022')\n",
    "    radio_det_clf = pyc.load_model('models/classification_radio_detect_may_09_2022')\n",
    "    redshift_reg  = pyr.load_model('models/regression_z_may_10_2022')"
   ]
  },
  {
   "cell_type": "code",
   "execution_count": 28,
   "metadata": {},
   "outputs": [],
   "source": [
    "threshold_AGN   = 0.5\n",
    "threshold_radio = 0.5"
   ]
  },
  {
   "cell_type": "code",
   "execution_count": 29,
   "metadata": {},
   "outputs": [],
   "source": [
    "full_catalog_df = pyc.predict_model(AGN_gal_clf, data=full_catalog_df, probability_threshold=threshold_AGN, raw_score=True)\n",
    "full_catalog_df = full_catalog_df.rename(columns={'Label': 'pred_class', 'Score_0': 'Score_gal', 'Score_1': 'Score_AGN'})"
   ]
  },
  {
   "cell_type": "code",
   "execution_count": 30,
   "metadata": {},
   "outputs": [],
   "source": [
    "full_catalog_df = pyc.predict_model(radio_det_clf, data=full_catalog_df, probability_threshold=threshold_radio, raw_score=True)\n",
    "full_catalog_df = full_catalog_df.drop(columns=['Score_0'])\n",
    "full_catalog_df = full_catalog_df.rename(columns={'Label': 'pred_radio', 'Score_1': 'Score_radio'})"
   ]
  },
  {
   "cell_type": "code",
   "execution_count": 31,
   "metadata": {},
   "outputs": [],
   "source": [
    "full_catalog_df = pyr.predict_model(redshift_reg, data=full_catalog_df, round=3)\n",
    "full_catalog_df = full_catalog_df.rename(columns={'Label': 'pred_Z'})"
   ]
  },
  {
   "cell_type": "code",
   "execution_count": 32,
   "metadata": {},
   "outputs": [
    {
     "data": {
      "text/html": [
       "<div>\n",
       "<style scoped>\n",
       "    .dataframe tbody tr th:only-of-type {\n",
       "        vertical-align: middle;\n",
       "    }\n",
       "\n",
       "    .dataframe tbody tr th {\n",
       "        vertical-align: top;\n",
       "    }\n",
       "\n",
       "    .dataframe thead th {\n",
       "        text-align: right;\n",
       "    }\n",
       "</style>\n",
       "<table border=\"1\" class=\"dataframe\">\n",
       "  <thead>\n",
       "    <tr style=\"text-align: right;\">\n",
       "      <th></th>\n",
       "      <th>class</th>\n",
       "      <th>pred_class</th>\n",
       "      <th>radio_detect</th>\n",
       "      <th>pred_radio</th>\n",
       "      <th>Z</th>\n",
       "      <th>pred_Z</th>\n",
       "    </tr>\n",
       "  </thead>\n",
       "  <tbody>\n",
       "    <tr>\n",
       "      <th>count</th>\n",
       "      <td>6.729647e+06</td>\n",
       "      <td>6.729647e+06</td>\n",
       "      <td>6.729647e+06</td>\n",
       "      <td>6.729647e+06</td>\n",
       "      <td>93071.000000</td>\n",
       "      <td>6.729647e+06</td>\n",
       "    </tr>\n",
       "    <tr>\n",
       "      <th>mean</th>\n",
       "      <td>4.981605e-01</td>\n",
       "      <td>1.408276e-01</td>\n",
       "      <td>5.133969e-02</td>\n",
       "      <td>1.899401e-02</td>\n",
       "      <td>0.771065</td>\n",
       "      <td>1.194735e+00</td>\n",
       "    </tr>\n",
       "    <tr>\n",
       "      <th>std</th>\n",
       "      <td>5.634398e-02</td>\n",
       "      <td>3.478436e-01</td>\n",
       "      <td>2.206897e-01</td>\n",
       "      <td>1.365036e-01</td>\n",
       "      <td>0.754850</td>\n",
       "      <td>4.622662e-01</td>\n",
       "    </tr>\n",
       "    <tr>\n",
       "      <th>min</th>\n",
       "      <td>0.000000e+00</td>\n",
       "      <td>0.000000e+00</td>\n",
       "      <td>0.000000e+00</td>\n",
       "      <td>0.000000e+00</td>\n",
       "      <td>-0.004490</td>\n",
       "      <td>8.228000e-02</td>\n",
       "    </tr>\n",
       "    <tr>\n",
       "      <th>25%</th>\n",
       "      <td>5.000000e-01</td>\n",
       "      <td>0.000000e+00</td>\n",
       "      <td>0.000000e+00</td>\n",
       "      <td>0.000000e+00</td>\n",
       "      <td>0.257255</td>\n",
       "      <td>7.873005e-01</td>\n",
       "    </tr>\n",
       "    <tr>\n",
       "      <th>50%</th>\n",
       "      <td>5.000000e-01</td>\n",
       "      <td>0.000000e+00</td>\n",
       "      <td>0.000000e+00</td>\n",
       "      <td>0.000000e+00</td>\n",
       "      <td>0.550640</td>\n",
       "      <td>1.339818e+00</td>\n",
       "    </tr>\n",
       "    <tr>\n",
       "      <th>75%</th>\n",
       "      <td>5.000000e-01</td>\n",
       "      <td>0.000000e+00</td>\n",
       "      <td>0.000000e+00</td>\n",
       "      <td>0.000000e+00</td>\n",
       "      <td>1.003000</td>\n",
       "      <td>1.401581e+00</td>\n",
       "    </tr>\n",
       "    <tr>\n",
       "      <th>max</th>\n",
       "      <td>1.000000e+00</td>\n",
       "      <td>1.000000e+00</td>\n",
       "      <td>1.000000e+00</td>\n",
       "      <td>1.000000e+00</td>\n",
       "      <td>7.028330</td>\n",
       "      <td>2.915475e+00</td>\n",
       "    </tr>\n",
       "  </tbody>\n",
       "</table>\n",
       "</div>"
      ],
      "text/plain": [
       "              class    pred_class  radio_detect    pred_radio             Z  \\\n",
       "count  6.729647e+06  6.729647e+06  6.729647e+06  6.729647e+06  93071.000000   \n",
       "mean   4.981605e-01  1.408276e-01  5.133969e-02  1.899401e-02      0.771065   \n",
       "std    5.634398e-02  3.478436e-01  2.206897e-01  1.365036e-01      0.754850   \n",
       "min    0.000000e+00  0.000000e+00  0.000000e+00  0.000000e+00     -0.004490   \n",
       "25%    5.000000e-01  0.000000e+00  0.000000e+00  0.000000e+00      0.257255   \n",
       "50%    5.000000e-01  0.000000e+00  0.000000e+00  0.000000e+00      0.550640   \n",
       "75%    5.000000e-01  0.000000e+00  0.000000e+00  0.000000e+00      1.003000   \n",
       "max    1.000000e+00  1.000000e+00  1.000000e+00  1.000000e+00      7.028330   \n",
       "\n",
       "             pred_Z  \n",
       "count  6.729647e+06  \n",
       "mean   1.194735e+00  \n",
       "std    4.622662e-01  \n",
       "min    8.228000e-02  \n",
       "25%    7.873005e-01  \n",
       "50%    1.339818e+00  \n",
       "75%    1.401581e+00  \n",
       "max    2.915475e+00  "
      ]
     },
     "execution_count": 32,
     "metadata": {},
     "output_type": "execute_result"
    }
   ],
   "source": [
    "full_catalog_df.loc[:, ['class', 'pred_class', 'radio_detect', 'pred_radio', 'Z', 'pred_Z']].describe()"
   ]
  },
  {
   "cell_type": "markdown",
   "metadata": {},
   "source": [
    "Obtain intermediate metrics"
   ]
  },
  {
   "cell_type": "code",
   "execution_count": 33,
   "metadata": {},
   "outputs": [],
   "source": [
    "filter_AGN_t       = np.array(full_catalog_df.loc[:, 'class'] == 1)\n",
    "filter_gal_AGN_t   = np.array(full_catalog_df.loc[:, 'class'] == 0) | np.array(full_catalog_df.loc[:, 'class'] == 1)\n",
    "filter_AGN_p       = np.array(full_catalog_df.loc[:, 'Score_AGN'] > threshold_AGN)\n",
    "filter_radio_p     = np.array(full_catalog_df.loc[:, 'Score_radio'] > threshold_radio)\n",
    "filter_radio_AGN_p = np.array(full_catalog_df.loc[:, 'Score_AGN'] > threshold_AGN) & np.array(full_catalog_df.loc[:, 'Score_radio'] > threshold_radio)"
   ]
  },
  {
   "cell_type": "code",
   "execution_count": 34,
   "metadata": {},
   "outputs": [],
   "source": [
    "cm_AGN = np.array([[np.sum(np.array(full_catalog_df['class'] == 0) & np.array(full_catalog_df['pred_class'] == 0)),\\\n",
    "                    np.sum(np.array(full_catalog_df['class'] == 0) & np.array(full_catalog_df['pred_class'] == 1))],\\\n",
    "                   [np.sum(np.array(full_catalog_df['class'] == 1) & np.array(full_catalog_df['pred_class'] == 0)),\\\n",
    "                    np.sum(np.array(full_catalog_df['class'] == 1) & np.array(full_catalog_df['pred_class'] == 1))]])"
   ]
  },
  {
   "cell_type": "code",
   "execution_count": 35,
   "metadata": {},
   "outputs": [],
   "source": [
    "cm_radio = np.array([[np.sum(np.array(full_catalog_df.loc[filter_AGN_p, 'radio_detect'] == 0) &\\\n",
    "                             np.array(full_catalog_df.loc[filter_AGN_p, 'pred_radio'] == 0)),\\\n",
    "                      np.sum(np.array(full_catalog_df.loc[filter_AGN_p, 'radio_detect'] == 0) &\\\n",
    "                             np.array(full_catalog_df.loc[filter_AGN_p, 'pred_radio'] == 1))],\\\n",
    "                     [np.sum(np.array(full_catalog_df.loc[filter_AGN_p, 'radio_detect'] == 1) &\\\n",
    "                             np.array(full_catalog_df.loc[filter_AGN_p, 'pred_radio'] == 0)),\\\n",
    "                      np.sum(np.array(full_catalog_df.loc[filter_AGN_p, 'radio_detect'] == 1) &\\\n",
    "                             np.array(full_catalog_df.loc[filter_AGN_p, 'pred_radio'] == 1))]])"
   ]
  },
  {
   "cell_type": "code",
   "execution_count": 36,
   "metadata": {},
   "outputs": [],
   "source": [
    "cm_radio_gal_AGN = np.array([[np.sum(np.array(full_catalog_df.loc[filter_AGN_p & filter_gal_AGN_t, 'radio_detect'] == 0) &\\\n",
    "                                     np.array(full_catalog_df.loc[filter_AGN_p & filter_gal_AGN_t, 'pred_radio'] == 0)),\\\n",
    "                              np.sum(np.array(full_catalog_df.loc[filter_AGN_p & filter_gal_AGN_t, 'radio_detect'] == 0) &\\\n",
    "                                     np.array(full_catalog_df.loc[filter_AGN_p & filter_gal_AGN_t, 'pred_radio'] == 1))],\\\n",
    "                             [np.sum(np.array(full_catalog_df.loc[filter_AGN_p & filter_gal_AGN_t, 'radio_detect'] == 1) &\\\n",
    "                                     np.array(full_catalog_df.loc[filter_AGN_p & filter_gal_AGN_t, 'pred_radio'] == 0)),\\\n",
    "                              np.sum(np.array(full_catalog_df.loc[filter_AGN_p & filter_gal_AGN_t, 'radio_detect'] == 1) &\\\n",
    "                                     np.array(full_catalog_df.loc[filter_AGN_p & filter_gal_AGN_t, 'pred_radio'] == 1))]])"
   ]
  },
  {
   "cell_type": "code",
   "execution_count": 37,
   "metadata": {},
   "outputs": [],
   "source": [
    "sigma_mad_field            = sigma_mad(full_catalog_df.loc[filter_radio_AGN_p, 'Z'],    full_catalog_df.loc[filter_radio_AGN_p, 'pred_Z'])\n",
    "sigma_nmad_field           = sigma_nmad(full_catalog_df.loc[filter_radio_AGN_p, 'Z'],   full_catalog_df.loc[filter_radio_AGN_p, 'pred_Z'])\n",
    "sigma_z_field              = sigma_z(full_catalog_df.loc[filter_radio_AGN_p, 'Z'],      full_catalog_df.loc[filter_radio_AGN_p, 'pred_Z'])\n",
    "sigma_z_norm_field         = sigma_z_norm(full_catalog_df.loc[filter_radio_AGN_p, 'Z'], full_catalog_df.loc[filter_radio_AGN_p, 'pred_Z'])\n",
    "out_frac_field             = outlier_frac(full_catalog_df.loc[filter_radio_AGN_p, 'Z'], full_catalog_df.loc[filter_radio_AGN_p, 'pred_Z'])"
   ]
  },
  {
   "cell_type": "code",
   "execution_count": 38,
   "metadata": {},
   "outputs": [],
   "source": [
    "sigma_mad_field_gal_AGN    = sigma_mad(full_catalog_df.loc[filter_radio_AGN_p & filter_gal_AGN_t, 'Z'],    full_catalog_df.loc[filter_radio_AGN_p & filter_gal_AGN_t, 'pred_Z'])\n",
    "sigma_nmad_field_gal_AGN   = sigma_nmad(full_catalog_df.loc[filter_radio_AGN_p & filter_gal_AGN_t, 'Z'],   full_catalog_df.loc[filter_radio_AGN_p & filter_gal_AGN_t, 'pred_Z'])\n",
    "sigma_z_field_gal_AGN      = sigma_z(full_catalog_df.loc[filter_radio_AGN_p & filter_gal_AGN_t, 'Z'],      full_catalog_df.loc[filter_radio_AGN_p & filter_gal_AGN_t, 'pred_Z'])\n",
    "sigma_z_norm_field_gal_AGN = sigma_z_norm(full_catalog_df.loc[filter_radio_AGN_p & filter_gal_AGN_t & filter_gal_AGN_t, 'Z'], full_catalog_df.loc[filter_radio_AGN_p & filter_gal_AGN_t, 'pred_Z'])\n",
    "out_frac_field_gal_AGN     = outlier_frac(full_catalog_df.loc[filter_radio_AGN_p, 'Z'], full_catalog_df.loc[filter_radio_AGN_p & filter_gal_AGN_t, 'pred_Z'])"
   ]
  },
  {
   "cell_type": "markdown",
   "metadata": {},
   "source": [
    "Plot histograms for scores."
   ]
  },
  {
   "cell_type": "code",
   "execution_count": 39,
   "metadata": {
    "jupyter": {
     "source_hidden": true
    },
    "tags": []
   },
   "outputs": [
    {
     "data": {
      "image/png": "[encoded data removed]",
      "text/plain": [
       "<Figure size 700x500 with 1 Axes>"
      ]
     },
     "metadata": {},
     "output_type": "display_data"
    }
   ],
   "source": [
    "fig             = plt.figure(figsize=(7,5.0))\n",
    "ax1             = fig.add_subplot(111, xscale='linear', yscale='log')\n",
    "\n",
    "min_score  = np.nanmin(full_catalog_df.loc[:, 'Score_AGN'])\n",
    "max_score  = np.nanmax(full_catalog_df.loc[:, 'Score_AGN'])\n",
    "score_bins = np.linspace(min_score, max_score, 30)\n",
    "\n",
    "sample_size = np.sum(np.isfinite(full_catalog_df.loc[:, 'Score_AGN']))\n",
    "\n",
    "ax1.hist(full_catalog_df.loc[:, 'Score_AGN'], bins=score_bins, histtype='stepfilled', ec='k',\\\n",
    "         lw=3.5, color=cm.get_cmap('cet_gray')(0.8), alpha=1.0, label=f'Full {used_area} sample\\nN={sample_size:,}')\n",
    "\n",
    "ax1.axvline(x=0.5, ls='--', c='k', lw=2.5)\n",
    "    \n",
    "ax1.tick_params(which='both', top=True, right=True, direction='in')\n",
    "ax1.tick_params(axis='both', which='major', labelsize=14)\n",
    "ax1.tick_params(which='major', length=8, width=1.5)\n",
    "ax1.tick_params(which='minor', length=4, width=1.5)\n",
    "ax1.set_xlabel('AGN/Galaxy class score', size=20)\n",
    "ax1.set_ylabel('Frequency', size=20)\n",
    "plt.setp(ax1.spines.values(), linewidth=3.5)\n",
    "plt.setp(ax1.spines.values(), linewidth=3.5)\n",
    "plt.legend(loc=1, fontsize=14)\n",
    "plt.grid(False)\n",
    "#ax1.set_aspect('equal', 'box')\n",
    "if save_plot_flag:\n",
    "    plt.savefig(f'plots/predicted_AGN_scores_{used_area}.pdf', bbox_inches='tight')\n",
    "fig.tight_layout()"
   ]
  },
  {
   "cell_type": "code",
   "execution_count": 40,
   "metadata": {
    "jupyter": {
     "source_hidden": true
    },
    "tags": []
   },
   "outputs": [
    {
     "data": {
      "image/png": "[encoded data removed]",
      "text/plain": [
       "<Figure size 700x500 with 1 Axes>"
      ]
     },
     "metadata": {},
     "output_type": "display_data"
    }
   ],
   "source": [
    "fig             = plt.figure(figsize=(7,5.0))\n",
    "ax1             = fig.add_subplot(111, xscale='linear', yscale='log')\n",
    "\n",
    "min_score       = np.nanmin(full_catalog_df.loc[:, 'Score_radio'])\n",
    "max_score       = np.nanmax(full_catalog_df.loc[:, 'Score_radio'])\n",
    "score_bins      = np.linspace(min_score, max_score, 30)\n",
    "\n",
    "sample_size_gal = np.sum(np.isfinite(full_catalog_df.loc[np.array(full_catalog_df.loc[:, 'class'] == 0), 'Score_radio']))\n",
    "sample_size_AGN = np.sum(np.isfinite(full_catalog_df.loc[np.array(full_catalog_df.loc[:, 'class'] == 1), 'Score_radio']))\n",
    "\n",
    "ax1.hist(full_catalog_df.loc[np.array(full_catalog_df.loc[:, 'class'] == 0), 'Score_radio'], bins=score_bins, histtype='stepfilled', ec='k',\\\n",
    "         lw=3.5, color=cm.get_cmap('cet_gray')(0.9), alpha=1.0, label=f'True class: Galaxy\\nN={sample_size_gal:,}', zorder=1)\n",
    "ax1.hist(full_catalog_df.loc[np.array(full_catalog_df.loc[:, 'class'] == 1), 'Score_radio'], bins=score_bins, histtype='stepfilled', ec='k',\\\n",
    "         lw=3.5, color=cm.get_cmap('cet_gray')(0.7), alpha=1.0, label=f'True class: AGN\\nN={sample_size_AGN:,}', zorder=0)\n",
    "\n",
    "ax1.axvline(x=0.5, ls='--', c='k', lw=2.5)\n",
    "    \n",
    "ax1.tick_params(which='both', top=True, right=True, direction='in')\n",
    "ax1.tick_params(axis='both', which='major', labelsize=14)\n",
    "ax1.tick_params(which='major', length=8, width=1.5)\n",
    "ax1.tick_params(which='minor', length=4, width=1.5)\n",
    "ax1.set_xlabel('Radio detection score', size=20)\n",
    "ax1.set_ylabel('Frequency', size=20)\n",
    "plt.setp(ax1.spines.values(), linewidth=3.5)\n",
    "plt.setp(ax1.spines.values(), linewidth=3.5)\n",
    "plt.legend(loc=1, fontsize=14)\n",
    "plt.grid(False)\n",
    "#ax1.set_aspect('equal', 'box')\n",
    "if save_plot_flag:\n",
    "    plt.savefig(f'plots/predicted_radio_scores_{used_area}.pdf', bbox_inches='tight')\n",
    "fig.tight_layout()"
   ]
  },
  {
   "cell_type": "code",
   "execution_count": 41,
   "metadata": {
    "jupyter": {
     "source_hidden": true
    },
    "tags": []
   },
   "outputs": [
    {
     "data": {
      "image/png": "[encoded data removed]",
      "text/plain": [
       "<Figure size 700x500 with 1 Axes>"
      ]
     },
     "metadata": {},
     "output_type": "display_data"
    }
   ],
   "source": [
    "fig             = plt.figure(figsize=(7,5.0))\n",
    "ax1             = fig.add_subplot(111, xscale='linear', yscale='log')\n",
    "\n",
    "min_score       = np.nanmin(full_catalog_df.loc[:, 'Score_radio'])\n",
    "max_score       = np.nanmax(full_catalog_df.loc[:, 'Score_radio'])\n",
    "score_bins      = np.linspace(min_score, max_score, 30)\n",
    "\n",
    "sample_size_gal = np.sum(np.isfinite(full_catalog_df.loc[np.array(full_catalog_df.loc[:, 'Score_AGN'] <= threshold_AGN), 'Score_radio']))\n",
    "sample_size_AGN = np.sum(np.isfinite(full_catalog_df.loc[np.array(full_catalog_df.loc[:, 'Score_AGN'] > threshold_AGN), 'Score_radio']))\n",
    "\n",
    "ax1.hist(full_catalog_df.loc[np.array(full_catalog_df.loc[:, 'Score_AGN'] <= threshold_AGN), 'Score_radio'], bins=score_bins, histtype='stepfilled', ec='k',\\\n",
    "         lw=3.5, color=cm.get_cmap('cet_gray')(0.9), alpha=1.0, label=f'Predicted class: Galaxy\\nN={sample_size_gal:,}')\n",
    "ax1.hist(full_catalog_df.loc[np.array(full_catalog_df.loc[:, 'Score_AGN'] > threshold_AGN), 'Score_radio'], bins=score_bins, histtype='stepfilled', ec='k',\\\n",
    "         lw=3.5, color=cm.get_cmap('cet_gray')(0.7), alpha=1.0, label=f'Predicted class: AGN\\nN={sample_size_AGN:,}')\n",
    "\n",
    "ax1.axvline(x=0.5, ls='--', c='k', lw=2.5)\n",
    "    \n",
    "ax1.tick_params(which='both', top=True, right=True, direction='in')\n",
    "ax1.tick_params(axis='both', which='major', labelsize=14)\n",
    "ax1.tick_params(which='major', length=8, width=1.5)\n",
    "ax1.tick_params(which='minor', length=4, width=1.5)\n",
    "ax1.set_xlabel('Radio detection score', size=20)\n",
    "ax1.set_ylabel('Frequency', size=20)\n",
    "plt.setp(ax1.spines.values(), linewidth=3.5)\n",
    "plt.setp(ax1.spines.values(), linewidth=3.5)\n",
    "plt.legend(loc=1, fontsize=14)\n",
    "plt.grid(False)\n",
    "#ax1.set_aspect('equal', 'box')\n",
    "if save_plot_flag:\n",
    "    plt.savefig(f'plots/predicted_radio_scores_{used_area}.pdf', bbox_inches='tight')\n",
    "fig.tight_layout()"
   ]
  },
  {
   "cell_type": "markdown",
   "metadata": {},
   "source": [
    "### Select sources predicted to be Radio AGN"
   ]
  },
  {
   "cell_type": "code",
   "execution_count": 42,
   "metadata": {},
   "outputs": [],
   "source": [
    "filter_radio_AGN_t      = np.array(full_catalog_df.loc[:, 'class'] == 1) & np.array(full_catalog_df.loc[:, 'radio_detect'] == 1)\n",
    "total_size              = len(full_catalog_df)\n",
    "num_AGN_t               = np.sum(np.array(full_catalog_df.loc[:, 'class'] == 1))\n",
    "num_gal_t               = np.sum(np.array(full_catalog_df.loc[:, 'class'] == 0))\n",
    "num_radio_t             = np.sum(np.array(full_catalog_df.loc[:, 'radio_detect'] == 1))\n",
    "num_radio_AGN_t         = np.sum(filter_radio_AGN_t)"
   ]
  },
  {
   "cell_type": "code",
   "execution_count": 43,
   "metadata": {},
   "outputs": [],
   "source": [
    "filter_radio_AGN_p_full = np.array(full_catalog_df.loc[:, 'Score_AGN'] > threshold_AGN) & np.array(full_catalog_df.loc[:, 'Score_radio'] > threshold_radio)\n",
    "num_AGN_p_full          = np.sum(np.array(full_catalog_df.loc[:, 'Score_AGN'] > threshold_AGN))\n",
    "num_gal_p_full          = np.sum(np.array(full_catalog_df.loc[:, 'Score_AGN'] <= threshold_AGN))\n",
    "num_radio_p_full        = np.sum(np.array(full_catalog_df.loc[:, 'Score_radio'] > threshold_radio))\n",
    "num_radio_AGN_p_full    = np.sum(filter_radio_AGN_p_full)"
   ]
  },
  {
   "cell_type": "code",
   "execution_count": 44,
   "metadata": {},
   "outputs": [],
   "source": [
    "full_catalog_df         = full_catalog_df.loc[filter_radio_AGN_t]"
   ]
  },
  {
   "cell_type": "code",
   "execution_count": 45,
   "metadata": {},
   "outputs": [],
   "source": [
    "filter_radio_AGN_p      = np.array(full_catalog_df.loc[:, 'Score_AGN'] > threshold_AGN) & np.array(full_catalog_df.loc[:, 'Score_radio'] > threshold_radio)\n",
    "num_AGN_p               = np.sum(np.array(full_catalog_df.loc[:, 'Score_AGN'] > threshold_AGN))\n",
    "num_gal_p               = np.sum(np.array(full_catalog_df.loc[:, 'Score_AGN'] <= threshold_AGN))\n",
    "num_radio_p             = np.sum(np.array(full_catalog_df.loc[:, 'Score_radio'] > threshold_radio))\n",
    "num_radio_AGN_p         = np.sum(filter_radio_AGN_p)"
   ]
  },
  {
   "cell_type": "code",
   "execution_count": 46,
   "metadata": {},
   "outputs": [],
   "source": [
    "full_catalog_df         = full_catalog_df.loc[filter_radio_AGN_p]"
   ]
  },
  {
   "cell_type": "markdown",
   "metadata": {},
   "source": [
    "Add individual metrics for redshift"
   ]
  },
  {
   "cell_type": "code",
   "execution_count": 47,
   "metadata": {
    "tags": []
   },
   "outputs": [],
   "source": [
    "full_catalog_df['Delta_z_N'] = np.around((full_catalog_df.loc[:, 'pred_Z'] - full_catalog_df.loc[:, 'Z']) /\\\n",
    "                            (1 + full_catalog_df.loc[:, 'Z']), decimals=3)\n",
    "\n",
    "full_catalog_df['sigma_NMAD'] = np.around(1.48 * np.abs(full_catalog_df.loc[:, 'pred_Z'] - full_catalog_df.loc[:, 'Z']) /\\\n",
    "                            (1 + full_catalog_df.loc[:, 'Z']), decimals=3)"
   ]
  },
  {
   "cell_type": "markdown",
   "metadata": {},
   "source": [
    "Numerical summary."
   ]
  },
  {
   "cell_type": "code",
   "execution_count": 48,
   "metadata": {
    "tags": []
   },
   "outputs": [],
   "source": [
    "str_0_t   = f'Out of {total_size:,} initial sources in {used_area},\\n'\n",
    "str_1_t   = f'{num_gal_t:,} are confirmed to be galaxies. On the other side,\\n'\n",
    "str_2_t   = f'{num_AGN_t:,} are confirmed to be AGN. And, from the AGN,\\n'\n",
    "str_3_t   = f'{num_radio_AGN_t:,} are detected in radio.'\n",
    "\n",
    "str_0_p_f = f'Out of {total_size:,} initial sources in {used_area},\\n'\n",
    "str_1_p_f = f'{num_gal_p_full:,} are predicted to be galaxies. On the other side,\\n'\n",
    "str_2_p_f = f'{num_AGN_p_full:,} are predicted to be AGN. And, from the predicted AGN,\\n'\n",
    "str_3_p_f = f'{num_radio_AGN_p_full:,} are predicted to be detected in radio.'\n",
    "\n",
    "str_0_p   = f'Out of {num_radio_AGN_t:,} initial radio-detected AGN in {used_area},\\n'\n",
    "str_1_p   = f'{num_gal_p:,} are predicted to be galaxies. On the other side,\\n'\n",
    "str_2_p   = f'{num_AGN_p:,} are predicted to be AGN. And, from the predicted AGN,\\n'\n",
    "str_3_p   = f'{num_radio_AGN_p:,} are predicted to be detected in radio.'"
   ]
  },
  {
   "cell_type": "code",
   "execution_count": 49,
   "metadata": {
    "tags": []
   },
   "outputs": [
    {
     "name": "stdout",
     "output_type": "stream",
     "text": [
      "------------------------------------------------------------\n",
      "Out of 6,729,647 initial sources in HETDEX,\n",
      "55,153 are confirmed to be galaxies. On the other side,\n",
      "30,395 are confirmed to be AGN. And, from the AGN,\n",
      "9,894 are detected in radio.\n",
      "------------------------------------------------------------\n",
      "Out of 6,729,647 initial sources in HETDEX,\n",
      "5,782,217 are predicted to be galaxies. On the other side,\n",
      "947,430 are predicted to be AGN. And, from the predicted AGN,\n",
      "48,082 are predicted to be detected in radio.\n",
      "------------------------------------------------------------\n",
      "Out of 9,894 initial radio-detected AGN in HETDEX,\n",
      "807 are predicted to be galaxies. On the other side,\n",
      "9,087 are predicted to be AGN. And, from the predicted AGN,\n",
      "6,458 are predicted to be detected in radio.\n",
      "------------------------------------------------------------\n"
     ]
    }
   ],
   "source": [
    "print('-' * 60)\n",
    "print(str_0_t + str_1_t + str_2_t + str_3_t)\n",
    "print('-' * 60)\n",
    "print(str_0_p_f + str_1_p_f + str_2_p_f + str_3_p_f)\n",
    "print('-' * 60)\n",
    "print(str_0_p + str_1_p + str_2_p + str_3_p)\n",
    "print('-' * 60)"
   ]
  },
  {
   "cell_type": "code",
   "execution_count": 50,
   "metadata": {},
   "outputs": [],
   "source": [
    "cols_4_table = show_columns = ['RA_ICRS', 'DE_ICRS', 'Name', 'TYPE', 'band_num', 'class', 'pred_class', 'radio_detect', 'pred_radio', 'Z', 'pred_Z', 'Delta_z_N']"
   ]
  },
  {
   "cell_type": "code",
   "execution_count": 65,
   "metadata": {},
   "outputs": [
    {
     "data": {
      "text/html": [
       "<div>\n",
       "<style scoped>\n",
       "    .dataframe tbody tr th:only-of-type {\n",
       "        vertical-align: middle;\n",
       "    }\n",
       "\n",
       "    .dataframe tbody tr th {\n",
       "        vertical-align: top;\n",
       "    }\n",
       "\n",
       "    .dataframe thead th {\n",
       "        text-align: right;\n",
       "    }\n",
       "</style>\n",
       "<table border=\"1\" class=\"dataframe\">\n",
       "  <thead>\n",
       "    <tr style=\"text-align: right;\">\n",
       "      <th></th>\n",
       "      <th>RA_ICRS</th>\n",
       "      <th>DE_ICRS</th>\n",
       "      <th>Name</th>\n",
       "      <th>TYPE</th>\n",
       "      <th>band_num</th>\n",
       "      <th>class</th>\n",
       "      <th>pred_class</th>\n",
       "      <th>radio_detect</th>\n",
       "      <th>pred_radio</th>\n",
       "      <th>Z</th>\n",
       "      <th>pred_Z</th>\n",
       "      <th>Delta_z_N</th>\n",
       "    </tr>\n",
       "  </thead>\n",
       "  <tbody>\n",
       "    <tr>\n",
       "      <th>4828779</th>\n",
       "      <td>169.946106</td>\n",
       "      <td>46.374805</td>\n",
       "      <td>J111947.06+462229.3</td>\n",
       "      <td>Q</td>\n",
       "      <td>11</td>\n",
       "      <td>1.0</td>\n",
       "      <td>1</td>\n",
       "      <td>1</td>\n",
       "      <td>1</td>\n",
       "      <td>3.579</td>\n",
       "      <td>2.915475</td>\n",
       "      <td>-0.145</td>\n",
       "    </tr>\n",
       "    <tr>\n",
       "      <th>6608371</th>\n",
       "      <td>208.294800</td>\n",
       "      <td>48.378712</td>\n",
       "      <td>J135310.76+482243.3</td>\n",
       "      <td>Q</td>\n",
       "      <td>11</td>\n",
       "      <td>1.0</td>\n",
       "      <td>1</td>\n",
       "      <td>1</td>\n",
       "      <td>1</td>\n",
       "      <td>3.826</td>\n",
       "      <td>2.903612</td>\n",
       "      <td>-0.191</td>\n",
       "    </tr>\n",
       "    <tr>\n",
       "      <th>4840904</th>\n",
       "      <td>204.803955</td>\n",
       "      <td>51.901020</td>\n",
       "      <td>J133912.94+515403.7</td>\n",
       "      <td>Q</td>\n",
       "      <td>7</td>\n",
       "      <td>1.0</td>\n",
       "      <td>1</td>\n",
       "      <td>1</td>\n",
       "      <td>1</td>\n",
       "      <td>4.057</td>\n",
       "      <td>2.886300</td>\n",
       "      <td>-0.232</td>\n",
       "    </tr>\n",
       "    <tr>\n",
       "      <th>4844765</th>\n",
       "      <td>202.942535</td>\n",
       "      <td>48.640663</td>\n",
       "      <td>J133146.21+483826.3</td>\n",
       "      <td>Q</td>\n",
       "      <td>11</td>\n",
       "      <td>1.0</td>\n",
       "      <td>1</td>\n",
       "      <td>1</td>\n",
       "      <td>1</td>\n",
       "      <td>3.740</td>\n",
       "      <td>2.886194</td>\n",
       "      <td>-0.180</td>\n",
       "    </tr>\n",
       "    <tr>\n",
       "      <th>4846318</th>\n",
       "      <td>217.539917</td>\n",
       "      <td>55.093086</td>\n",
       "      <td>J143009.58+550535.1</td>\n",
       "      <td>Q</td>\n",
       "      <td>11</td>\n",
       "      <td>1.0</td>\n",
       "      <td>1</td>\n",
       "      <td>1</td>\n",
       "      <td>1</td>\n",
       "      <td>3.780</td>\n",
       "      <td>2.881094</td>\n",
       "      <td>-0.188</td>\n",
       "    </tr>\n",
       "    <tr>\n",
       "      <th>4907013</th>\n",
       "      <td>209.679764</td>\n",
       "      <td>47.459770</td>\n",
       "      <td>J135843.14+472735.1</td>\n",
       "      <td>Q</td>\n",
       "      <td>11</td>\n",
       "      <td>1.0</td>\n",
       "      <td>1</td>\n",
       "      <td>1</td>\n",
       "      <td>1</td>\n",
       "      <td>3.603</td>\n",
       "      <td>2.879938</td>\n",
       "      <td>-0.157</td>\n",
       "    </tr>\n",
       "    <tr>\n",
       "      <th>6697163</th>\n",
       "      <td>218.890701</td>\n",
       "      <td>54.599731</td>\n",
       "      <td>J143533.77+543559.0</td>\n",
       "      <td>QRX</td>\n",
       "      <td>11</td>\n",
       "      <td>1.0</td>\n",
       "      <td>1</td>\n",
       "      <td>1</td>\n",
       "      <td>1</td>\n",
       "      <td>3.810</td>\n",
       "      <td>2.875113</td>\n",
       "      <td>-0.194</td>\n",
       "    </tr>\n",
       "    <tr>\n",
       "      <th>3297058</th>\n",
       "      <td>213.037918</td>\n",
       "      <td>55.516468</td>\n",
       "      <td>J141209.11+553059.3</td>\n",
       "      <td>Q</td>\n",
       "      <td>11</td>\n",
       "      <td>1.0</td>\n",
       "      <td>1</td>\n",
       "      <td>1</td>\n",
       "      <td>1</td>\n",
       "      <td>3.920</td>\n",
       "      <td>2.866982</td>\n",
       "      <td>-0.214</td>\n",
       "    </tr>\n",
       "    <tr>\n",
       "      <th>1984719</th>\n",
       "      <td>183.907364</td>\n",
       "      <td>54.993698</td>\n",
       "      <td>J121537.77+545937.3</td>\n",
       "      <td>Q</td>\n",
       "      <td>11</td>\n",
       "      <td>1.0</td>\n",
       "      <td>1</td>\n",
       "      <td>1</td>\n",
       "      <td>1</td>\n",
       "      <td>4.107</td>\n",
       "      <td>2.851563</td>\n",
       "      <td>-0.246</td>\n",
       "    </tr>\n",
       "    <tr>\n",
       "      <th>4875703</th>\n",
       "      <td>223.858124</td>\n",
       "      <td>48.950409</td>\n",
       "      <td>J145525.95+485701.4</td>\n",
       "      <td>QR</td>\n",
       "      <td>11</td>\n",
       "      <td>1.0</td>\n",
       "      <td>1</td>\n",
       "      <td>1</td>\n",
       "      <td>1</td>\n",
       "      <td>3.501</td>\n",
       "      <td>2.851169</td>\n",
       "      <td>-0.144</td>\n",
       "    </tr>\n",
       "  </tbody>\n",
       "</table>\n",
       "</div>"
      ],
      "text/plain": [
       "            RA_ICRS    DE_ICRS                  Name  TYPE  band_num  class  \\\n",
       "4828779  169.946106  46.374805  J111947.06+462229.3   Q           11    1.0   \n",
       "6608371  208.294800  48.378712  J135310.76+482243.3   Q           11    1.0   \n",
       "4840904  204.803955  51.901020  J133912.94+515403.7   Q            7    1.0   \n",
       "4844765  202.942535  48.640663  J133146.21+483826.3   Q           11    1.0   \n",
       "4846318  217.539917  55.093086  J143009.58+550535.1   Q           11    1.0   \n",
       "4907013  209.679764  47.459770  J135843.14+472735.1   Q           11    1.0   \n",
       "6697163  218.890701  54.599731  J143533.77+543559.0   QRX         11    1.0   \n",
       "3297058  213.037918  55.516468  J141209.11+553059.3   Q           11    1.0   \n",
       "1984719  183.907364  54.993698  J121537.77+545937.3   Q           11    1.0   \n",
       "4875703  223.858124  48.950409  J145525.95+485701.4   QR          11    1.0   \n",
       "\n",
       "         pred_class  radio_detect  pred_radio      Z    pred_Z  Delta_z_N  \n",
       "4828779           1             1           1  3.579  2.915475     -0.145  \n",
       "6608371           1             1           1  3.826  2.903612     -0.191  \n",
       "4840904           1             1           1  4.057  2.886300     -0.232  \n",
       "4844765           1             1           1  3.740  2.886194     -0.180  \n",
       "4846318           1             1           1  3.780  2.881094     -0.188  \n",
       "4907013           1             1           1  3.603  2.879938     -0.157  \n",
       "6697163           1             1           1  3.810  2.875113     -0.194  \n",
       "3297058           1             1           1  3.920  2.866982     -0.214  \n",
       "1984719           1             1           1  4.107  2.851563     -0.246  \n",
       "4875703           1             1           1  3.501  2.851169     -0.144  "
      ]
     },
     "metadata": {},
     "output_type": "display_data"
    }
   ],
   "source": [
    "display(full_catalog_df.loc[:, cols_4_table].sort_values(by='pred_Z', ascending=False).head(10))"
   ]
  },
  {
   "cell_type": "code",
   "execution_count": 66,
   "metadata": {},
   "outputs": [
    {
     "data": {
      "text/html": [
       "<div>\n",
       "<style scoped>\n",
       "    .dataframe tbody tr th:only-of-type {\n",
       "        vertical-align: middle;\n",
       "    }\n",
       "\n",
       "    .dataframe tbody tr th {\n",
       "        vertical-align: top;\n",
       "    }\n",
       "\n",
       "    .dataframe thead th {\n",
       "        text-align: right;\n",
       "    }\n",
       "</style>\n",
       "<table border=\"1\" class=\"dataframe\">\n",
       "  <thead>\n",
       "    <tr style=\"text-align: right;\">\n",
       "      <th></th>\n",
       "      <th>RA_ICRS</th>\n",
       "      <th>DE_ICRS</th>\n",
       "      <th>Name</th>\n",
       "      <th>TYPE</th>\n",
       "      <th>band_num</th>\n",
       "      <th>class</th>\n",
       "      <th>pred_class</th>\n",
       "      <th>radio_detect</th>\n",
       "      <th>pred_radio</th>\n",
       "      <th>Z</th>\n",
       "      <th>pred_Z</th>\n",
       "      <th>Delta_z_N</th>\n",
       "    </tr>\n",
       "  </thead>\n",
       "  <tbody>\n",
       "    <tr>\n",
       "      <th>5920869</th>\n",
       "      <td>206.358017</td>\n",
       "      <td>56.072796</td>\n",
       "      <td>J134525.93+560422.0</td>\n",
       "      <td>R</td>\n",
       "      <td>9</td>\n",
       "      <td>1.0</td>\n",
       "      <td>1</td>\n",
       "      <td>1</td>\n",
       "      <td>1</td>\n",
       "      <td>5.800</td>\n",
       "      <td>0.881252</td>\n",
       "      <td>-0.723</td>\n",
       "    </tr>\n",
       "    <tr>\n",
       "      <th>4873366</th>\n",
       "      <td>172.824844</td>\n",
       "      <td>51.006256</td>\n",
       "      <td>J113117.96+510022.5</td>\n",
       "      <td>R</td>\n",
       "      <td>10</td>\n",
       "      <td>1.0</td>\n",
       "      <td>1</td>\n",
       "      <td>1</td>\n",
       "      <td>1</td>\n",
       "      <td>5.700</td>\n",
       "      <td>2.439125</td>\n",
       "      <td>-0.487</td>\n",
       "    </tr>\n",
       "    <tr>\n",
       "      <th>4840563</th>\n",
       "      <td>203.594269</td>\n",
       "      <td>47.842628</td>\n",
       "      <td>J133422.63+475033.4</td>\n",
       "      <td>QX</td>\n",
       "      <td>10</td>\n",
       "      <td>1.0</td>\n",
       "      <td>1</td>\n",
       "      <td>1</td>\n",
       "      <td>1</td>\n",
       "      <td>4.958</td>\n",
       "      <td>2.555971</td>\n",
       "      <td>-0.403</td>\n",
       "    </tr>\n",
       "    <tr>\n",
       "      <th>1125556</th>\n",
       "      <td>180.153030</td>\n",
       "      <td>46.313980</td>\n",
       "      <td>J120036.73+461850.3</td>\n",
       "      <td>Q</td>\n",
       "      <td>11</td>\n",
       "      <td>1.0</td>\n",
       "      <td>1</td>\n",
       "      <td>1</td>\n",
       "      <td>1</td>\n",
       "      <td>4.745</td>\n",
       "      <td>2.698316</td>\n",
       "      <td>-0.356</td>\n",
       "    </tr>\n",
       "    <tr>\n",
       "      <th>5721848</th>\n",
       "      <td>190.627365</td>\n",
       "      <td>54.382648</td>\n",
       "      <td>J124230.57+542257.5</td>\n",
       "      <td>QR</td>\n",
       "      <td>10</td>\n",
       "      <td>1.0</td>\n",
       "      <td>1</td>\n",
       "      <td>1</td>\n",
       "      <td>1</td>\n",
       "      <td>4.734</td>\n",
       "      <td>1.554423</td>\n",
       "      <td>-0.555</td>\n",
       "    </tr>\n",
       "    <tr>\n",
       "      <th>2470555</th>\n",
       "      <td>208.178101</td>\n",
       "      <td>49.512688</td>\n",
       "      <td>J135242.75+493045.6</td>\n",
       "      <td>Q</td>\n",
       "      <td>10</td>\n",
       "      <td>1.0</td>\n",
       "      <td>1</td>\n",
       "      <td>1</td>\n",
       "      <td>1</td>\n",
       "      <td>4.680</td>\n",
       "      <td>2.237440</td>\n",
       "      <td>-0.430</td>\n",
       "    </tr>\n",
       "    <tr>\n",
       "      <th>4705430</th>\n",
       "      <td>206.930389</td>\n",
       "      <td>49.939240</td>\n",
       "      <td>J134743.30+495621.3</td>\n",
       "      <td>QX</td>\n",
       "      <td>14</td>\n",
       "      <td>1.0</td>\n",
       "      <td>1</td>\n",
       "      <td>1</td>\n",
       "      <td>1</td>\n",
       "      <td>4.564</td>\n",
       "      <td>1.096310</td>\n",
       "      <td>-0.623</td>\n",
       "    </tr>\n",
       "    <tr>\n",
       "      <th>6483557</th>\n",
       "      <td>182.891861</td>\n",
       "      <td>48.709946</td>\n",
       "      <td>J121134.04+484235.8</td>\n",
       "      <td>Q</td>\n",
       "      <td>11</td>\n",
       "      <td>1.0</td>\n",
       "      <td>1</td>\n",
       "      <td>1</td>\n",
       "      <td>1</td>\n",
       "      <td>4.540</td>\n",
       "      <td>2.320951</td>\n",
       "      <td>-0.401</td>\n",
       "    </tr>\n",
       "    <tr>\n",
       "      <th>4891800</th>\n",
       "      <td>185.256058</td>\n",
       "      <td>48.603718</td>\n",
       "      <td>J122101.45+483613.4</td>\n",
       "      <td>Q</td>\n",
       "      <td>11</td>\n",
       "      <td>1.0</td>\n",
       "      <td>1</td>\n",
       "      <td>1</td>\n",
       "      <td>1</td>\n",
       "      <td>4.417</td>\n",
       "      <td>2.815501</td>\n",
       "      <td>-0.296</td>\n",
       "    </tr>\n",
       "    <tr>\n",
       "      <th>5632575</th>\n",
       "      <td>165.507919</td>\n",
       "      <td>53.653446</td>\n",
       "      <td>J110201.91+533912.4</td>\n",
       "      <td>QR</td>\n",
       "      <td>11</td>\n",
       "      <td>1.0</td>\n",
       "      <td>1</td>\n",
       "      <td>1</td>\n",
       "      <td>1</td>\n",
       "      <td>4.310</td>\n",
       "      <td>2.832226</td>\n",
       "      <td>-0.278</td>\n",
       "    </tr>\n",
       "  </tbody>\n",
       "</table>\n",
       "</div>"
      ],
      "text/plain": [
       "            RA_ICRS    DE_ICRS                  Name  TYPE  band_num  class  \\\n",
       "5920869  206.358017  56.072796  J134525.93+560422.0   R            9    1.0   \n",
       "4873366  172.824844  51.006256  J113117.96+510022.5   R           10    1.0   \n",
       "4840563  203.594269  47.842628  J133422.63+475033.4   QX          10    1.0   \n",
       "1125556  180.153030  46.313980  J120036.73+461850.3   Q           11    1.0   \n",
       "5721848  190.627365  54.382648  J124230.57+542257.5   QR          10    1.0   \n",
       "2470555  208.178101  49.512688  J135242.75+493045.6   Q           10    1.0   \n",
       "4705430  206.930389  49.939240  J134743.30+495621.3   QX          14    1.0   \n",
       "6483557  182.891861  48.709946  J121134.04+484235.8   Q           11    1.0   \n",
       "4891800  185.256058  48.603718  J122101.45+483613.4   Q           11    1.0   \n",
       "5632575  165.507919  53.653446  J110201.91+533912.4   QR          11    1.0   \n",
       "\n",
       "         pred_class  radio_detect  pred_radio      Z    pred_Z  Delta_z_N  \n",
       "5920869           1             1           1  5.800  0.881252     -0.723  \n",
       "4873366           1             1           1  5.700  2.439125     -0.487  \n",
       "4840563           1             1           1  4.958  2.555971     -0.403  \n",
       "1125556           1             1           1  4.745  2.698316     -0.356  \n",
       "5721848           1             1           1  4.734  1.554423     -0.555  \n",
       "2470555           1             1           1  4.680  2.237440     -0.430  \n",
       "4705430           1             1           1  4.564  1.096310     -0.623  \n",
       "6483557           1             1           1  4.540  2.320951     -0.401  \n",
       "4891800           1             1           1  4.417  2.815501     -0.296  \n",
       "5632575           1             1           1  4.310  2.832226     -0.278  "
      ]
     },
     "metadata": {},
     "output_type": "display_data"
    }
   ],
   "source": [
    "display(full_catalog_df.loc[:, cols_4_table].sort_values(by='Z', ascending=False).head(10))"
   ]
  },
  {
   "cell_type": "markdown",
   "metadata": {},
   "source": [
    "Confusion matrix for AGN/galaxy prediction on all sources"
   ]
  },
  {
   "cell_type": "code",
   "execution_count": 52,
   "metadata": {
    "jupyter": {
     "source_hidden": true
    },
    "tags": []
   },
   "outputs": [],
   "source": [
    "MCC_AGN              = MCC_from_CM(cm_AGN)\n",
    "ACC_AGN              = ACC_from_CM(cm_AGN)\n",
    "F1_AGN               = F1_from_CM(cm_AGN)\n",
    "Recall_AGN           = Recall_from_CM(cm_AGN)"
   ]
  },
  {
   "cell_type": "markdown",
   "metadata": {},
   "source": [
    "Confusion matrix for radio detection prediction on all predicted AGN"
   ]
  },
  {
   "cell_type": "code",
   "execution_count": 53,
   "metadata": {
    "jupyter": {
     "source_hidden": true
    },
    "tags": []
   },
   "outputs": [],
   "source": [
    "MCC_radio            = MCC_from_CM(cm_radio)\n",
    "ACC_radio            = ACC_from_CM(cm_radio)\n",
    "F1_radio             = F1_from_CM(cm_radio)\n",
    "Recall_radio         = Recall_from_CM(cm_radio)"
   ]
  },
  {
   "cell_type": "markdown",
   "metadata": {},
   "source": [
    "Confusion matrix for radio detection prediction on all confirmed AGN and galaxies that are predicted to be AGN"
   ]
  },
  {
   "cell_type": "code",
   "execution_count": 54,
   "metadata": {
    "jupyter": {
     "source_hidden": true
    },
    "tags": []
   },
   "outputs": [],
   "source": [
    "MCC_radio_gal_AGN    = MCC_from_CM(cm_radio_gal_AGN)\n",
    "ACC_radio_gal_AGN    = ACC_from_CM(cm_radio_gal_AGN)\n",
    "F1_radio_gal_AGN     = F1_from_CM(cm_radio_gal_AGN)\n",
    "Recall_radio_gal_AGN = Recall_from_CM(cm_radio_gal_AGN)"
   ]
  },
  {
   "cell_type": "code",
   "execution_count": 55,
   "metadata": {
    "tags": []
   },
   "outputs": [],
   "source": [
    "# sigma_mad_field    = sigma_mad(full_catalog_df.loc[:, 'Z'],    full_catalog_df.loc[:, 'pred_Z'])\n",
    "# sigma_nmad_field   = sigma_nmad(full_catalog_df.loc[:, 'Z'],   full_catalog_df.loc[:, 'pred_Z'])\n",
    "# sigma_z_field      = sigma_z(full_catalog_df.loc[:, 'Z'],      full_catalog_df.loc[:, 'pred_Z'])\n",
    "# sigma_z_norm_field = sigma_z_norm(full_catalog_df.loc[:, 'Z'], full_catalog_df.loc[:, 'pred_Z'])\n",
    "# out_frac_field     = outlier_frac(full_catalog_df.loc[:, 'Z'], full_catalog_df.loc[:, 'pred_Z'])"
   ]
  },
  {
   "cell_type": "markdown",
   "metadata": {},
   "source": [
    "Print metrics"
   ]
  },
  {
   "cell_type": "code",
   "execution_count": 56,
   "metadata": {
    "jupyter": {
     "source_hidden": true
    },
    "tags": []
   },
   "outputs": [
    {
     "name": "stdout",
     "output_type": "stream",
     "text": [
      "Metrics for AGN prediction on all sources\n",
      "Matthews Correlation Coefficient, MCC = 0.9464\n",
      "Accuracy,                         ACC = 0.9755\n",
      "F-1 Score,                         F1 = 0.9650\n",
      "Recall,                        Recall = 0.9503\n"
     ]
    }
   ],
   "source": [
    "print('Metrics for AGN prediction on all sources')\n",
    "print(f'Matthews Correlation Coefficient, MCC = {MCC_AGN:.4f}')\n",
    "print(f'Accuracy,                         ACC = {ACC_AGN:.4f}')\n",
    "print(f'F-1 Score,                         F1 = {F1_AGN:.4f}')\n",
    "print(f'Recall,                        Recall = {Recall_AGN:.4f}')"
   ]
  },
  {
   "cell_type": "code",
   "execution_count": 57,
   "metadata": {
    "jupyter": {
     "source_hidden": true
    },
    "tags": []
   },
   "outputs": [
    {
     "name": "stdout",
     "output_type": "stream",
     "text": [
      "Metrics for radio detection prediction on all predicted AGN\n",
      "Matthews Correlation Coefficient, MCC = 0.4295\n",
      "Accuracy,                         ACC = 0.9169\n",
      "F-1 Score,                         F1 = 0.4433\n",
      "Recall,                        Recall = 0.3358\n"
     ]
    }
   ],
   "source": [
    "print('Metrics for radio detection prediction on all predicted AGN')\n",
    "print(f'Matthews Correlation Coefficient, MCC = {MCC_radio:.4f}')\n",
    "print(f'Accuracy,                         ACC = {ACC_radio:.4f}')\n",
    "print(f'F-1 Score,                         F1 = {F1_radio:.4f}')\n",
    "print(f'Recall,                        Recall = {Recall_radio:.4f}')"
   ]
  },
  {
   "cell_type": "code",
   "execution_count": 58,
   "metadata": {
    "jupyter": {
     "source_hidden": true
    },
    "tags": []
   },
   "outputs": [
    {
     "name": "stdout",
     "output_type": "stream",
     "text": [
      "Metrics for radio detection prediction on all confirmed AGN and galaxies that are predicted to be AGN\n",
      "Matthews Correlation Coefficient, MCC = 0.7577\n",
      "Accuracy,                         ACC = 0.8968\n",
      "F-1 Score,                         F1 = 0.8122\n",
      "Recall,                        Recall = 0.7104\n"
     ]
    }
   ],
   "source": [
    "print('Metrics for radio detection prediction on all confirmed AGN and galaxies that are predicted to be AGN')\n",
    "print(f'Matthews Correlation Coefficient, MCC = {MCC_radio_gal_AGN:.4f}')\n",
    "print(f'Accuracy,                         ACC = {ACC_radio_gal_AGN:.4f}')\n",
    "print(f'F-1 Score,                         F1 = {F1_radio_gal_AGN:.4f}')\n",
    "print(f'Recall,                        Recall = {Recall_radio_gal_AGN:.4f}')"
   ]
  },
  {
   "cell_type": "code",
   "execution_count": 59,
   "metadata": {
    "jupyter": {
     "source_hidden": true
    },
    "tags": []
   },
   "outputs": [
    {
     "name": "stdout",
     "output_type": "stream",
     "text": [
      "Metrics for redshift prediction on all predicted radio AGN\n",
      "Sigma MAD                             = 0.1185\n",
      "Sigma NMAD,                           = 0.0604\n",
      "Sigma z,                              = 0.1476\n",
      "Sigma z normalized,                   = 0.0599\n",
      "Outlier fraction,                     = 0.1138\n"
     ]
    }
   ],
   "source": [
    "print('Metrics for redshift prediction on all predicted radio AGN')\n",
    "print(f'Sigma MAD                             = {sigma_mad_field:.4f}')\n",
    "print(f'Sigma NMAD,                           = {sigma_nmad_field:.4f}')\n",
    "print(f'Sigma z,                              = {sigma_z_field:.4f}')\n",
    "print(f'Sigma z normalized,                   = {sigma_z_norm_field:.4f}')\n",
    "print(f'Outlier fraction,                     = {out_frac_field:.4f}')"
   ]
  },
  {
   "cell_type": "code",
   "execution_count": 60,
   "metadata": {
    "jupyter": {
     "source_hidden": true
    },
    "tags": []
   },
   "outputs": [
    {
     "name": "stdout",
     "output_type": "stream",
     "text": [
      "Metrics for redshift prediction on all confirmed AGN and galaxies that are predicted to be radio AGN\n",
      "Sigma MAD                             = 0.1163\n",
      "Sigma NMAD,                           = 0.0596\n",
      "Sigma z,                              = 0.3167\n",
      "Sigma z normalized,                   = 0.1225\n",
      "Outlier fraction,                     = 0.1060\n"
     ]
    }
   ],
   "source": [
    "print('Metrics for redshift prediction on all confirmed AGN and galaxies that are predicted to be radio AGN')\n",
    "print(f'Sigma MAD                             = {sigma_mad_field_gal_AGN:.4f}')\n",
    "print(f'Sigma NMAD,                           = {sigma_nmad_field_gal_AGN:.4f}')\n",
    "print(f'Sigma z,                              = {sigma_z_field_gal_AGN:.4f}')\n",
    "print(f'Sigma z normalized,                   = {sigma_z_norm_field_gal_AGN:.4f}')\n",
    "print(f'Outlier fraction,                     = {out_frac_field_gal_AGN:.4f}')"
   ]
  },
  {
   "cell_type": "markdown",
   "metadata": {},
   "source": [
    "Plot predictions"
   ]
  },
  {
   "cell_type": "code",
   "execution_count": 61,
   "metadata": {
    "jupyter": {
     "source_hidden": true
    },
    "tags": []
   },
   "outputs": [
    {
     "data": {
      "image/png": "[encoded data removed]",
      "text/plain": [
       "<Figure size 600x500 with 1 Axes>"
      ]
     },
     "metadata": {},
     "output_type": "display_data"
    }
   ],
   "source": [
    "fig             = plt.figure(figsize=(6,5))\n",
    "ax1             = fig.add_subplot(111)\n",
    "plot_conf_mat(cm_AGN, title=used_area, axin=ax1, display_labels=['Galaxy', 'AGN'], log_stretch=True)\n",
    "if save_plot_flag:\n",
    "    plt.savefig(f'plots/conf_matrix_AGN_{used_area}.pdf', bbox_inches='tight')\n",
    "plt.show()"
   ]
  },
  {
   "cell_type": "code",
   "execution_count": 62,
   "metadata": {
    "jupyter": {
     "source_hidden": true
    },
    "tags": []
   },
   "outputs": [
    {
     "data": {
      "image/png": "[encoded data removed]",
      "text/plain": [
       "<Figure size 600x500 with 1 Axes>"
      ]
     },
     "metadata": {},
     "output_type": "display_data"
    }
   ],
   "source": [
    "fig             = plt.figure(figsize=(6,5))\n",
    "ax1             = fig.add_subplot(111)\n",
    "plot_conf_mat(cm_radio, title=used_area, axin=ax1, display_labels=['No\\nRadio', 'Radio'], log_stretch=True)\n",
    "if save_plot_flag:\n",
    "    plt.savefig(f'plots/conf_matrix_radio_{used_area}.pdf', bbox_inches='tight')\n",
    "plt.show()"
   ]
  },
  {
   "cell_type": "code",
   "execution_count": 63,
   "metadata": {
    "jupyter": {
     "source_hidden": true
    },
    "tags": []
   },
   "outputs": [
    {
     "data": {
      "image/png": "[encoded data removed]",
      "text/plain": [
       "<Figure size 600x500 with 3 Axes>"
      ]
     },
     "metadata": {},
     "output_type": "display_data"
    }
   ],
   "source": [
    "fig             = plt.figure(figsize=(6,5))\n",
    "ax1             = fig.add_subplot(111, projection='scatter_density', xscale='log', yscale='log')\n",
    "plot_redshift_compare(full_catalog_df.loc[:, 'Z'], full_catalog_df.loc[:, 'pred_Z'], ax_pre=ax1, title=None, dpi=10, show_clb=True, log_stretch=False)\n",
    "if save_plot_flag:\n",
    "    plt.savefig(f'plots/compare_redshift_{used_area}.pdf', bbox_inches='tight')\n",
    "plt.show()"
   ]
  },
  {
   "cell_type": "code",
   "execution_count": null,
   "metadata": {},
   "outputs": [],
   "source": []
  }
 ],
 "metadata": {
  "kernelspec": {
   "display_name": "Python 3 (ipykernel)",
   "language": "python",
   "name": "python3"
  },
  "language_info": {
   "codemirror_mode": {
    "name": "ipython",
    "version": 3
   },
   "file_extension": ".py",
   "mimetype": "text/x-python",
   "name": "python",
   "nbconvert_exporter": "python",
   "pygments_lexer": "ipython3",
   "version": "3.8.13"
  }
 },
 "nbformat": 4,
 "nbformat_minor": 4
}
