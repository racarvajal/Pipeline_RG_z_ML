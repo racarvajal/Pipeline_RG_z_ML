{
 "cells": [
  {
   "cell_type": "markdown",
   "metadata": {},
   "source": [
    "# Pipeline for High-z Radio Galaxies 12: Application of full pipeline for prediction"
   ]
  },
  {
   "cell_type": "markdown",
   "metadata": {},
   "source": [
    "## Introduction"
   ]
  },
  {
   "cell_type": "markdown",
   "metadata": {},
   "source": [
    "In this file, three models will be applied consecutively in order to predict  \n",
    "the detection of Radio Galaxies (radio AGN) and their redshift.  \n",
    "\n",
    "In principle, this pipeline should be applied to data in Stripe 82. But  \n",
    "it can be used with any other suitable dataset."
   ]
  },
  {
   "cell_type": "code",
   "execution_count": 1,
   "metadata": {},
   "outputs": [],
   "source": [
    "%matplotlib inline\n",
    "# Static plots\n",
    "#%matplotlib ipympl\n",
    "# Interactive plots\n",
    "import numpy as np\n",
    "import matplotlib as mpl\n",
    "import matplotlib.cm as cm\n",
    "from matplotlib import ticker\n",
    "import matplotlib.pyplot as plt\n",
    "import matplotlib.colors as mcolors\n",
    "import matplotlib.patheffects as mpe\n",
    "import matplotlib.patches as mpatches\n",
    "from matplotlib.ticker import ScalarFormatter\n",
    "from mpl_toolkits.axes_grid1.inset_locator import inset_axes\n",
    "from astropy.visualization import LogStretch, PowerStretch\n",
    "from astropy.visualization.mpl_normalize import ImageNormalize\n",
    "from sklearn.preprocessing import MinMaxScaler\n",
    "from sklearn.metrics import ConfusionMatrixDisplay\n",
    "from sklearn.model_selection import train_test_split\n",
    "import sklearn.pipeline\n",
    "import colorcet as cc\n",
    "from pycaret import classification as pyc\n",
    "from pycaret import regression as pyr\n",
    "from pycaret.internal.tabular import _get_columns_to_stratify_by\n",
    "import pandas as pd\n",
    "import mpl_scatter_density\n",
    "# import schemdraw\n",
    "# from schemdraw import flow"
   ]
  },
  {
   "cell_type": "code",
   "execution_count": 2,
   "metadata": {},
   "outputs": [],
   "source": [
    "mpl.rcdefaults()"
   ]
  },
  {
   "cell_type": "markdown",
   "metadata": {},
   "source": [
    "Create path effects."
   ]
  },
  {
   "cell_type": "code",
   "execution_count": 3,
   "metadata": {
    "jupyter": {
     "source_hidden": true
    },
    "tags": []
   },
   "outputs": [],
   "source": [
    "pe1            = [mpe.Stroke(linewidth=5.0, foreground='black'),\n",
    "                  mpe.Stroke(foreground='white', alpha=1),\n",
    "                  mpe.Normal()]\n",
    "pe2            = [mpe.Stroke(linewidth=3.0, foreground='white'),\n",
    "                  mpe.Stroke(foreground='white', alpha=1),\n",
    "                  mpe.Normal()]"
   ]
  },
  {
   "cell_type": "markdown",
   "metadata": {},
   "source": [
    "Define specific metrics for redshift values."
   ]
  },
  {
   "cell_type": "code",
   "execution_count": 4,
   "metadata": {
    "jupyter": {
     "source_hidden": true
    },
    "tags": []
   },
   "outputs": [],
   "source": [
    "def sigma_mad(z_true, z_pred, **kwargs):\n",
    "    try:\n",
    "        med = np.nanmedian(np.abs(z_true - z_pred)).astype('float32')\n",
    "    except:\n",
    "        med = np.nanmedian(np.abs(z_true - z_pred))\n",
    "    return 1.48 * med"
   ]
  },
  {
   "cell_type": "code",
   "execution_count": 5,
   "metadata": {
    "jupyter": {
     "source_hidden": true
    },
    "tags": []
   },
   "outputs": [],
   "source": [
    "def sigma_nmad(z_true, z_pred, **kwargs):\n",
    "    dif  = (z_true - z_pred)\n",
    "    frac = dif / (1 + z_true).values\n",
    "    try:\n",
    "        med  = np.nanmedian(np.abs(frac)).astype('float32')\n",
    "    except:\n",
    "        med  = np.nanmedian(np.abs(frac))\n",
    "    return 1.48 * med"
   ]
  },
  {
   "cell_type": "code",
   "execution_count": 6,
   "metadata": {
    "jupyter": {
     "source_hidden": true
    },
    "tags": []
   },
   "outputs": [],
   "source": [
    "def sigma_z(z_true, z_pred, **kwargs):\n",
    "    dif = z_true - z_pred\n",
    "    ssq = np.sum(dif**2)\n",
    "    try:\n",
    "        rot = np.sqrt(ssq / len(z_true)).astype('float32')\n",
    "    except:\n",
    "        rot = np.sqrt(ssq / len(z_true))\n",
    "    return rot"
   ]
  },
  {
   "cell_type": "code",
   "execution_count": 7,
   "metadata": {
    "jupyter": {
     "source_hidden": true
    },
    "tags": []
   },
   "outputs": [],
   "source": [
    "def sigma_z_norm(z_true, z_pred, **kwargs):\n",
    "    dif = (z_true - z_pred) / (1 + z_true)\n",
    "    ssq = np.sum(dif**2)\n",
    "    try:\n",
    "        rot = np.sqrt(ssq / len(z_true)).astype('float32')\n",
    "    except:\n",
    "        rot = np.sqrt(ssq / len(z_true))\n",
    "    return rot"
   ]
  },
  {
   "cell_type": "code",
   "execution_count": 8,
   "metadata": {
    "jupyter": {
     "source_hidden": true
    },
    "tags": []
   },
   "outputs": [],
   "source": [
    "def outlier_frac(z_true, z_pred, **kwargs):\n",
    "    dif  = np.abs((z_true - z_pred) / (1 + z_true))\n",
    "    try:\n",
    "        siz  = np.sum(np.isfinite(dif)).astype('float32')\n",
    "        num  = np.sum(np.array(dif > 0.15)).astype('float32')\n",
    "    except:\n",
    "        siz  = np.sum(np.isfinite(dif))\n",
    "        num  = np.sum(np.array(dif > 0.15))\n",
    "    frac = num / siz\n",
    "    return frac"
   ]
  },
  {
   "cell_type": "markdown",
   "metadata": {},
   "source": [
    "Methods for Pycaret and saved models."
   ]
  },
  {
   "cell_type": "code",
   "execution_count": 9,
   "metadata": {
    "jupyter": {
     "source_hidden": true
    },
    "tags": []
   },
   "outputs": [],
   "source": [
    "def get_final_column_names(pycaret_pipeline, sample_df):\n",
    "    if isinstance(pycaret_pipeline, sklearn.pipeline.Pipeline):\n",
    "        for (name, method) in pycaret_pipeline.named_steps.items():\n",
    "            if method != 'passthrough' and name != 'trained_model':\n",
    "                print(f'Running {name}')\n",
    "                sample_df = method.transform(sample_df)\n",
    "        return sample_df.columns.tolist()\n",
    "    else:\n",
    "        try:\n",
    "            for (name, method) in pyr.get_config('prep_pipe').named_steps.items():\n",
    "                if method != 'passthrough' and name != 'trained_model':\n",
    "                    print(f'Running {name}')\n",
    "                    sample_df = method.transform(sample_df)\n",
    "        except:\n",
    "            for (name, method) in pyc.get_config('prep_pipe').named_steps.items():\n",
    "                if method != 'passthrough' and name != 'trained_model':\n",
    "                    print(f'Running {name}')\n",
    "                    sample_df = method.transform(sample_df)\n",
    "        return sample_df.columns.tolist()"
   ]
  },
  {
   "cell_type": "code",
   "execution_count": 10,
   "metadata": {
    "jupyter": {
     "source_hidden": true
    },
    "tags": []
   },
   "outputs": [],
   "source": [
    "def get_feature_importances_df(pycaret_pipeline, sample_df, n = 10):\n",
    "    \n",
    "    final_cols = get_final_column_names(pycaret_pipeline, sample_df)\n",
    "    \n",
    "    if isinstance(pycaret_pipeline, sklearn.pipeline.Pipeline):\n",
    "        try:\n",
    "            variables = pycaret_pipeline[\"trained_model\"].feature_importances_\n",
    "            \n",
    "        except:\n",
    "            variables = np.mean([\n",
    "                            tree.feature_importances_ for tree in pycaret_pipeline[\"trained_model\"].estimators_\n",
    "                if hasattr(tree, 'feature_importances_')\n",
    "                            ], axis=0)\n",
    "        \n",
    "        coef_df = pd.DataFrame({'Feature': final_cols, 'Importance': variables})\n",
    "        sorted_df = (\n",
    "            coef_df.sort_values(by='Importance', ascending=False)\n",
    "            .head(n)\n",
    "            .sort_values(by='Importance', ascending=True).reset_index(drop=True)\n",
    "        )\n",
    "    else:\n",
    "        try:\n",
    "            variables = pycaret_pipeline.feature_importances_\n",
    "            \n",
    "        except:\n",
    "            variables = np.mean([\n",
    "                            tree.feature_importances_ for tree in pycaret_pipeline.estimators_\n",
    "                if hasattr(tree, 'feature_importances_')\n",
    "                            ], axis=0)\n",
    "        \n",
    "        coef_df = pd.DataFrame({'Feature': final_cols, 'Importance': variables})\n",
    "        sorted_df = (\n",
    "            coef_df.sort_values(by='Importance', ascending=False)\n",
    "            .head(n)\n",
    "            .sort_values(by='Importance', ascending=True).reset_index(drop=True)\n",
    "        )\n",
    "    return sorted_df"
   ]
  },
  {
   "cell_type": "markdown",
   "metadata": {},
   "source": [
    "Methods for the use of values in Confusion Matrices."
   ]
  },
  {
   "cell_type": "code",
   "execution_count": 11,
   "metadata": {
    "jupyter": {
     "source_hidden": true
    }
   },
   "outputs": [],
   "source": [
    "def flatten_CM(cm_array):\n",
    "    try:\n",
    "        TN, FP, FN, TP = cm_array.flatten().astype('float32')\n",
    "    except:\n",
    "        TN, FP, FN, TP = cm_array.flatten()\n",
    "    return TN, FP, FN, TP"
   ]
  },
  {
   "cell_type": "code",
   "execution_count": 12,
   "metadata": {
    "jupyter": {
     "source_hidden": true
    },
    "tags": []
   },
   "outputs": [],
   "source": [
    "def MCC_from_CM(cm_array):  # Matthews correlation coefficient\n",
    "    TN, FP, FN, TP = flatten_CM(cm_array)\n",
    "    MCC = ((TP * TN) - (FP * FN)) / np.sqrt((TP + FP) * (TP + FN) * (TN + FP) * (TN + FN))\n",
    "    return MCC"
   ]
  },
  {
   "cell_type": "code",
   "execution_count": 13,
   "metadata": {
    "jupyter": {
     "source_hidden": true
    },
    "tags": []
   },
   "outputs": [],
   "source": [
    "def ACC_from_CM(cm_array):  # Accuracy\n",
    "    TN, FP, FN, TP = flatten_CM(cm_array)\n",
    "    ACC = (TP + TN) / (TP + TN + FP + FN)\n",
    "    return ACC"
   ]
  },
  {
   "cell_type": "code",
   "execution_count": 14,
   "metadata": {
    "jupyter": {
     "source_hidden": true
    },
    "tags": []
   },
   "outputs": [],
   "source": [
    "def F1_from_CM(cm_array):  # F-1 score\n",
    "    TN, FP, FN, TP = flatten_CM(cm_array)\n",
    "    F1 = 2 * TP / (2 * TP + FP + FN)\n",
    "    return F1"
   ]
  },
  {
   "cell_type": "code",
   "execution_count": 15,
   "metadata": {
    "jupyter": {
     "source_hidden": true
    },
    "tags": []
   },
   "outputs": [],
   "source": [
    "def Recall_from_CM(cm_array):  # Recall\n",
    "    TN, FP, FN, TP = flatten_CM(cm_array)\n",
    "    Recall = TP / (TP + FN)\n",
    "    return Recall"
   ]
  },
  {
   "cell_type": "markdown",
   "metadata": {},
   "source": [
    "Method to plot confusion matrix"
   ]
  },
  {
   "cell_type": "code",
   "execution_count": 16,
   "metadata": {
    "jupyter": {
     "source_hidden": true
    },
    "tags": []
   },
   "outputs": [],
   "source": [
    "def plot_conf_mat(confusion_matrix, title, axin, display_labels=['Non true', 'True'], cmap='cet_dimgray_r', show_clb=False, log_stretch=False):\n",
    "    disp = ConfusionMatrixDisplay(confusion_matrix=confusion_matrix, display_labels=display_labels)\n",
    "\n",
    "    min_val_colour = np.nanmin(confusion_matrix)\n",
    "    max_val_colour = np.nanmin(confusion_matrix)\n",
    "    \n",
    "    if log_stretch:\n",
    "        norm = ImageNormalize(stretch=LogStretch())\n",
    "    if not log_stretch:\n",
    "        norm = ImageNormalize(stretch=PowerStretch(0.35))\n",
    "\n",
    "    # NOTE: Fill all variables here with default values of the plot_confusion_matrix\n",
    "    disp_b = disp.plot(include_values=True, cmap=cm.get_cmap(cmap),\\\n",
    "             ax=axin, xticks_rotation='horizontal', values_format=',')\n",
    "\n",
    "    for text_val in disp_b.text_.flatten():\n",
    "        text_val.set_fontsize(28)\n",
    "    clb = plt.gca().images[-1].colorbar\n",
    "    clb.ax.tick_params(labelsize=14)\n",
    "    clb.ax.ticklabel_format(style='sci', scilimits=(0, 0))\n",
    "    clb.outline.set_linewidth(2.5)\n",
    "    clb.ax.set_ylabel('Elements in bin', size=14)\n",
    "    if not show_clb:\n",
    "        clb.remove()\n",
    "\n",
    "    # disp_b.im_.set_clim(1e2, 3e3)\n",
    "    disp_b.im_.norm = norm\n",
    "\n",
    "    axin.xaxis.get_label().set_fontsize(16)\n",
    "    axin.yaxis.get_label().set_fontsize(16)\n",
    "\n",
    "    axin.tick_params(axis='both', which='major', labelsize=14)\n",
    "\n",
    "    plt.setp(axin.spines.values(), linewidth=2.5)\n",
    "    plt.setp(axin.spines.values(), linewidth=2.5)\n",
    "    axin.set_title(title, fontsize=16)\n",
    "    plt.tight_layout()"
   ]
  },
  {
   "cell_type": "markdown",
   "metadata": {},
   "source": [
    "Method to plot predicted and true redshift values"
   ]
  },
  {
   "cell_type": "code",
   "execution_count": 17,
   "metadata": {
    "jupyter": {
     "source_hidden": true
    },
    "tags": []
   },
   "outputs": [],
   "source": [
    "def plot_redshift_compare(true_z, predicted_z, ax_pre, title=None, dpi=10, cmap='cet_linear_kryw_5_100_c64_r', show_clb=False, log_stretch=False):\n",
    "    if log_stretch:\n",
    "        norm = ImageNormalize(vmin=0., stretch=LogStretch())\n",
    "    if not log_stretch:\n",
    "        norm = ImageNormalize(vmin=0., stretch=PowerStretch(0.5))\n",
    "\n",
    "    filt_pair_z   = np.isfinite(true_z) & np.isfinite(predicted_z)\n",
    "    max_for_range = np.nanmax([np.nanmax(1 + true_z.loc[filt_pair_z]), np.nanmax(1 + predicted_z.loc[filt_pair_z])])\n",
    "\n",
    "    dens_1 = ax_pre.scatter_density((1 + true_z.sample(frac=1, random_state=seed)),\\\n",
    "            (1 + predicted_z.sample(frac=1, random_state=seed)),\\\n",
    "            cmap=plt.get_cmap(cmap), zorder=0, dpi=dpi, norm=norm, alpha=0.93)\n",
    "    \n",
    "    ax_pre.axline((2., 2.), (3., 3.), ls='--', marker=None, c='Gray', alpha=0.8, lw=3.0, zorder=20)\n",
    "    ax_pre.axline(xy1=(1., 1.15), xy2=(2., 2.3), ls='-.', marker=None, c='slateblue', alpha=0.6, lw=3.0, zorder=20)\n",
    "    ax_pre.axline(xy1=(1., 0.85), xy2=(2., 1.7), ls='-.', marker=None, c='slateblue', alpha=0.6, lw=3.0, zorder=20)\n",
    "\n",
    "    if show_clb:\n",
    "        clb = plt.colorbar(dens_1, extend='neither', norm=norm, ticks=ticker.MaxNLocator(integer=True))\n",
    "        clb.ax.tick_params(labelsize=14)\n",
    "        clb.outline.set_linewidth(2.5)\n",
    "        clb.ax.set_ylabel('Elements per pixel', size=16, path_effects=pe2)\n",
    "\n",
    "    # Inset axis with residuals\n",
    "    axins = inset_axes(ax_pre, width='35%', height='20%', loc=2)\n",
    "    res_z_z = (predicted_z - true_z) / (1 + true_z)\n",
    "    axins.hist(res_z_z, histtype='stepfilled', fc='grey', ec='k', bins=50, lw=2.5)\n",
    "    axins.axvline(x=np.nanpercentile(res_z_z, [15.9]), ls='--', lw=2.5, c='royalblue')\n",
    "    axins.axvline(x=np.nanpercentile(res_z_z, [84.1]), ls='--', lw=2.5, c='royalblue')\n",
    "    axins.set_xlabel('$\\Delta z / (1 + z_{\\mathrm{True}})$', fontsize=10)\n",
    "    axins.tick_params(labelleft=False, labelbottom=True)\n",
    "    axins.tick_params(which='both', top=True, right=True, direction='in')\n",
    "    axins.tick_params(axis='both', which='major', labelsize=10)\n",
    "    axins.tick_params(which='major', length=8, width=1.5)\n",
    "    axins.tick_params(which='minor', length=4, width=1.5)\n",
    "    plt.setp(axins.spines.values(), linewidth=2.5)\n",
    "    plt.setp(axins.spines.values(), linewidth=2.5)\n",
    "    axins.set_xlim(left=-0.9, right=0.9)\n",
    "    ##\n",
    "    ax_pre.set_xlabel('$1 + z_{\\mathrm{True}}$', fontsize=20)\n",
    "    ax_pre.set_ylabel('$1 + z_{\\mathrm{Predicted}}$', fontsize=20)\n",
    "    ax_pre.tick_params(which='both', top=True, right=True, direction='in')\n",
    "    ax_pre.tick_params(axis='both', which='minor', labelsize=14)\n",
    "    ax_pre.tick_params(which='major', length=8, width=1.5)\n",
    "    ax_pre.tick_params(which='minor', length=4, width=1.5)\n",
    "    # ax_pre.xaxis.set_major_locator(ticker.MaxNLocator(integer=True))\n",
    "    # ax_pre.yaxis.set_major_locator(ticker.MaxNLocator(integer=True))\n",
    "    ax_pre.xaxis.set_minor_formatter(ticker.ScalarFormatter(useMathText=False))\n",
    "    ax_pre.yaxis.set_minor_formatter(ticker.ScalarFormatter(useMathText=False))\n",
    "    plt.setp(ax_pre.spines.values(), linewidth=2.5)\n",
    "    plt.setp(ax_pre.spines.values(), linewidth=2.5)\n",
    "    ax_pre.set_xlim(left=1., right=np.ceil(max_for_range))\n",
    "    ax_pre.set_ylim(bottom=1., top=np.ceil(max_for_range))\n",
    "    ax_pre.set_title(title)\n",
    "    plt.tight_layout()"
   ]
  },
  {
   "cell_type": "markdown",
   "metadata": {},
   "source": [
    "Functions to predict values"
   ]
  },
  {
   "cell_type": "code",
   "execution_count": 18,
   "metadata": {
    "jupyter": {
     "source_hidden": true
    }
   },
   "outputs": [],
   "source": [
    "def predict_star(catalog_df, star_model, threshold, raw_score=True):\n",
    "    catalog_df = pyc.predict_model(star_model, data=catalog_df, probability_threshold=threshold, raw_score=raw_score, round=10)\n",
    "    catalog_df = catalog_df.drop(columns=['Score_1'])\n",
    "    catalog_df = catalog_df.rename(columns={'Label': 'pred_star', 'Score_0': 'Score_no_star'})\n",
    "    catalog_df.loc[:, 'Score_no_star'] = np.around(catalog_df.loc[:, 'Score_no_star'], decimals=7)\n",
    "    return catalog_df"
   ]
  },
  {
   "cell_type": "code",
   "execution_count": 19,
   "metadata": {
    "jupyter": {
     "source_hidden": true
    }
   },
   "outputs": [],
   "source": [
    "def predict_AGN_gal(catalog_df, AGN_gal_model, threshold, raw_score=True):\n",
    "    catalog_df = pyc.predict_model(AGN_gal_model, data=catalog_df, probability_threshold=threshold, raw_score=raw_score, round=10)\n",
    "    catalog_df = catalog_df.drop(columns=['Score_0'])\n",
    "    catalog_df = catalog_df.rename(columns={'Label': 'pred_class', 'Score_1': 'Score_AGN'})\n",
    "    catalog_df.loc[:, 'Score_AGN'] = np.around(catalog_df.loc[:, 'Score_AGN'], decimals=7)\n",
    "    return catalog_df"
   ]
  },
  {
   "cell_type": "code",
   "execution_count": 20,
   "metadata": {
    "jupyter": {
     "source_hidden": true
    }
   },
   "outputs": [],
   "source": [
    "def predict_radio_det(catalog_df, radio_model, threshold, raw_score=True):\n",
    "    catalog_df = pyc.predict_model(radio_model, data=catalog_df, probability_threshold=threshold, raw_score=raw_score, round=10)\n",
    "    catalog_df = catalog_df.drop(columns=['Score_0'])\n",
    "    catalog_df = catalog_df.rename(columns={'Label': 'pred_radio', 'Score_1': 'Score_radio'})\n",
    "    catalog_df.loc[:, 'Score_radio'] = np.around(catalog_df.loc[:, 'Score_radio'], decimals=7)\n",
    "    return catalog_df"
   ]
  },
  {
   "cell_type": "code",
   "execution_count": 21,
   "metadata": {
    "jupyter": {
     "source_hidden": true
    }
   },
   "outputs": [],
   "source": [
    "def predict_z_full(catalog_df, redshift_model):\n",
    "    catalog_df = pyr.predict_model(redshift_model, data=catalog_df, round=10)\n",
    "    catalog_df = catalog_df.rename(columns={'Label': 'pred_Z'})\n",
    "    catalog_df.loc[:, 'pred_Z'] = np.around(catalog_df.loc[:, 'pred_Z'], decimals=4)\n",
    "    return catalog_df"
   ]
  },
  {
   "cell_type": "code",
   "execution_count": 22,
   "metadata": {
    "jupyter": {
     "source_hidden": true
    }
   },
   "outputs": [],
   "source": [
    "def predict_z_high(catalog_df, redshift_model, z_lim, z_tol):\n",
    "    catalog_df    = pyr.predict_model(redshift_model, data=catalog_df, round=10)\n",
    "    filter_pred_z = catalog_df.loc[:, 'pred_Z'] >= (z_lim + z_tol)\n",
    "    catalog_df.loc[:, 'pred_Z'] = catalog_df.loc[:, 'pred_Z'].mask(filter_pred_z, catalog_df.loc[filter_pred_z, 'Label'])\n",
    "    catalog_df    = catalog_df.drop(columns=['Label'])\n",
    "    catalog_df.loc[:, 'pred_Z'] = np.around(catalog_df.loc[:, 'pred_Z'], decimals=4)\n",
    "    return catalog_df"
   ]
  },
  {
   "cell_type": "code",
   "execution_count": 23,
   "metadata": {
    "jupyter": {
     "source_hidden": true
    }
   },
   "outputs": [],
   "source": [
    "def add_AGN_criteria(catalog_df):\n",
    "    catalog_df['M12_AGN'] = M12_AGN_criterion(catalog_df)\n",
    "    catalog_df['S12_AGN'] = S12_AGN_criterion(catalog_df)\n",
    "    catalog_df['M16_AGN'] = M16_AGN_criterion(catalog_df)\n",
    "    catalog_df['B18_AGN'] = B18_AGN_criterion(catalog_df)\n",
    "    return catalog_df"
   ]
  },
  {
   "cell_type": "code",
   "execution_count": 24,
   "metadata": {
    "jupyter": {
     "source_hidden": true
    }
   },
   "outputs": [],
   "source": [
    "def M12_AGN_criterion(catalog_df):\n",
    "    M12_column = (np.array(catalog_df.loc[:, 'W1mproPM'] - catalog_df.loc[:, 'W2mproPM'] - 2.699 + 3.339 <\n",
    "                           0.315 * (catalog_df.loc[:, 'W2mproPM'] - catalog_df.loc[:, 'W3mag'] - 3.339 + 5.174) + 0.791) &\n",
    "                  np.array(catalog_df.loc[:, 'W1mproPM'] - catalog_df.loc[:, 'W2mproPM'] - 2.699 + 3.339 >\n",
    "                           0.315 * (catalog_df.loc[:, 'W2mproPM'] - catalog_df.loc[:, 'W3mag'] - 3.339 + 5.174) - 0.222) &\n",
    "                  np.array(catalog_df.loc[:, 'W1mproPM'] - catalog_df.loc[:, 'W2mproPM'] - 2.699 + 3.339 >\n",
    "                           -3.172 * (catalog_df.loc[:, 'W2mproPM'] - catalog_df.loc[:, 'W3mag'] - 3.339 + 5.174) + 7.624)).astype(int)\n",
    "    return M12_column"
   ]
  },
  {
   "cell_type": "code",
   "execution_count": 25,
   "metadata": {
    "jupyter": {
     "source_hidden": true
    }
   },
   "outputs": [],
   "source": [
    "def S12_AGN_criterion(catalog_df):\n",
    "    S12_column = np.array(catalog_df.loc[:, 'W1mproPM'] - catalog_df.loc[:, 'W2mproPM'] - 2.699 + 3.339 >= 0.8).astype(int)\n",
    "    return S12_column"
   ]
  },
  {
   "cell_type": "code",
   "execution_count": 26,
   "metadata": {
    "jupyter": {
     "source_hidden": true
    }
   },
   "outputs": [],
   "source": [
    "def M16_AGN_criterion(catalog_df):\n",
    "    M16_column = (np.array(catalog_df.loc[:, 'W1mproPM'] - catalog_df.loc[:, 'W2mproPM'] - 2.699 + 3.339 > 0.5) &\n",
    "                  np.array(catalog_df.loc[:, 'W2mproPM'] - catalog_df.loc[:, 'W3mag'] - 3.339 + 5.174 < 4.4)).astype(int)\n",
    "    return M16_column"
   ]
  },
  {
   "cell_type": "code",
   "execution_count": 27,
   "metadata": {
    "jupyter": {
     "source_hidden": true
    }
   },
   "outputs": [],
   "source": [
    "def B18_AGN_criterion(catalog_df):\n",
    "    B18_column = (np.array(catalog_df.loc[:, 'W1mproPM'] - catalog_df.loc[:, 'W2mproPM'] - 2.699 + 3.339 > 0.5) &\n",
    "                  np.array(catalog_df.loc[:, 'W2mproPM'] - catalog_df.loc[:, 'W3mag'] - 3.339 + 5.174 > 2.2) &\n",
    "                  np.array(catalog_df.loc[:, 'W1mproPM'] - catalog_df.loc[:, 'W2mproPM'] - 2.699 + 3.339 >\n",
    "                           2 * (catalog_df.loc[:, 'W2mproPM'] - catalog_df.loc[:, 'W3mag'] - 3.339 + 5.174) - 8.9)).astype(int)\n",
    "    return B18_column"
   ]
  },
  {
   "cell_type": "markdown",
   "metadata": {},
   "source": [
    "---"
   ]
  },
  {
   "cell_type": "markdown",
   "metadata": {},
   "source": [
    "## Reading data"
   ]
  },
  {
   "cell_type": "code",
   "execution_count": 28,
   "metadata": {},
   "outputs": [],
   "source": [
    "cat_path            = '../../Catalogs/'  # relative path to the same directory"
   ]
  },
  {
   "cell_type": "markdown",
   "metadata": {
    "tags": []
   },
   "source": [
    "Flags."
   ]
  },
  {
   "cell_type": "code",
   "execution_count": 29,
   "metadata": {},
   "outputs": [],
   "source": [
    "save_plot_flag      = False\n",
    "load_models_flag    = True\n",
    "use_zeroth_model    = False  # Initial model to discriminate between star and non-star objects\n",
    "use_second_z_model  = False  # z >= 2.0\n",
    "use_third_z_model   = False  # z >= 3.0\n",
    "use_fourth_z_model  = True  # z >= 3.7 (with SMOGN), or, if needed, z >= 4.0\n",
    "compare_A17_flag    = True  # Compare with the results from Ananna et al., 2017"
   ]
  },
  {
   "cell_type": "code",
   "execution_count": 30,
   "metadata": {},
   "outputs": [],
   "source": [
    "used_area           = 'S82'  # can be 'S82', 'HETDEX', 'COSMOS'\n",
    "HETDEX_subset       = 'Validation'  # Validation, Training, Test, Test+Train"
   ]
  },
  {
   "cell_type": "code",
   "execution_count": 31,
   "metadata": {
    "jupyter": {
     "source_hidden": true
    }
   },
   "outputs": [],
   "source": [
    "if used_area != 'S82':\n",
    "    compare_A17_flag = False"
   ]
  },
  {
   "cell_type": "code",
   "execution_count": 32,
   "metadata": {
    "tags": []
   },
   "outputs": [],
   "source": [
    "file_S82            = 'CatWISE2020_S82_VLASS_VLAS82_PS1_GALEX_TGSS_XMM_2MASS_MILLIQUAS_7_4d_ALLWISE_SDSS_DR16_5sigma_imp.h5'\n",
    "file_HETDEX         = 'CatWISE2020_VLASS_LOFAR_PS1_GALEX_TGSS_XMM_2MASS_MILLIQUAS_7_4d_ALLWISE_LOLSS_SDSS_DR16_5sigma_imp.h5'\n",
    "file_COSMOS         = 'CatWISE2020_COSMOS_MILLIQUAS_7_4d_COSMOSVLA3_PS1_GALEX_TGSS_VLASS_XMM_2MASS_ALLWISE_SDSS_DR16_5sigma_imp.h5'\n",
    "file_S82_Ananna_17  = f'CatWISE2020_S82_VLASS_VLAS82_PS1_GALEX_TGSS_XMM_2MASS_MILLIQUAS_7_4d_ALLWISE_Ananna_17_zsp_5sigma_imp.h5'  # 204 objects\n",
    "\n",
    "file_name_dict      = {'S82': file_S82, 'HETDEX': file_HETDEX, 'COSMOS': file_COSMOS}\n",
    "file_name           = file_name_dict[used_area]"
   ]
  },
  {
   "cell_type": "code",
   "execution_count": 33,
   "metadata": {
    "jupyter": {
     "source_hidden": true
    },
    "tags": []
   },
   "outputs": [],
   "source": [
    "# feats_2_disc_S82    = ['objID', 'RA_MILLI', 'DEC_MILLI', 'X_ray_detect', 'Total_flux_VLASS',\\\n",
    "#                      'Fint_VLAS82', 'Stotal_TGSS', 'FEP', 'W1mag', 'W2mag']\n",
    "# feats_2_disc_HETDEX = ['objID', 'RA_MILLI', 'DEC_MILLI', 'X_ray_detect', 'Total_flux_VLASS',\\\n",
    "#                      'Sint_LOFAR', 'Stotal_TGSS', 'FEP', 'TotalFlux_LoLSS', 'W1mag', 'W2mag']\n",
    "# feats_2_disc_COSMOS = ['objID', 'RA_MILLI', 'DEC_MILLI', 'X_ray_detect', 'Total_flux_VLASS',\\\n",
    "#                      'Stotal_TGSS', 'FEP', 'Flux_COSMOSVLA3', 'W1mag', 'W2mag']\n",
    "\n",
    "feats_2_disc_S82    = ['RA_MILLI', 'DEC_MILLI', 'X_ray_detect', 'W1mag', 'W2mag']\n",
    "feats_2_disc_HETDEX = ['RA_MILLI', 'DEC_MILLI', 'X_ray_detect', 'W1mag', 'W2mag']\n",
    "feats_2_disc_COSMOS = ['RA_MILLI', 'DEC_MILLI', 'X_ray_detect', 'W1mag', 'W2mag']\n",
    "\n",
    "feats_2_disc        = {'S82': feats_2_disc_S82, 'HETDEX': feats_2_disc_HETDEX, 'COSMOS': feats_2_disc_COSMOS}\n",
    "features_2_discard  = feats_2_disc[used_area]"
   ]
  },
  {
   "cell_type": "code",
   "execution_count": 34,
   "metadata": {},
   "outputs": [],
   "source": [
    "full_catalog_df     = pd.read_hdf(cat_path + file_name, key='df').drop(columns=features_2_discard)"
   ]
  },
  {
   "cell_type": "code",
   "execution_count": 35,
   "metadata": {},
   "outputs": [],
   "source": [
    "full_catalog_df.loc[:, 'radio_detect'] = full_catalog_df.loc[:, 'radio_detect'].astype(int)"
   ]
  },
  {
   "cell_type": "markdown",
   "metadata": {},
   "source": [
    "Create features with class and combined redshift."
   ]
  },
  {
   "cell_type": "code",
   "execution_count": 36,
   "metadata": {},
   "outputs": [],
   "source": [
    "if use_zeroth_model:\n",
    "    full_catalog_df['is_str'] = np.array(full_catalog_df.loc[:, 'spCl'] == 'STAR  ').astype(int)\n",
    "elif not use_zeroth_model:\n",
    "    full_catalog_df['is_str'] = np.zeros_like(full_catalog_df.loc[:, 'spCl'])"
   ]
  },
  {
   "cell_type": "code",
   "execution_count": 37,
   "metadata": {},
   "outputs": [],
   "source": [
    "full_catalog_df['class']            = full_catalog_df.loc[:, 'is_AGN'].copy()\n",
    "if use_zeroth_model:\n",
    "    filter_non_confirmed            = np.array(full_catalog_df.loc[:, 'is_AGN'] == 1) |\\\n",
    "                                      np.array(full_catalog_df.loc[:, 'is_gal'] == 1) |\\\n",
    "                                      np.array(full_catalog_df.loc[:, 'is_str'] == 1)\n",
    "    full_catalog_df.loc[np.array(full_catalog_df.loc[:, 'is_str'] == 1), 'class'] = 2\n",
    "elif not use_zeroth_model:\n",
    "    filter_non_confirmed            = np.array(full_catalog_df.loc[:, 'is_AGN'] == 1) |\\\n",
    "                                      np.array(full_catalog_df.loc[:, 'is_gal'] == 1)\n",
    "full_catalog_df.loc[~filter_non_confirmed, 'class'] = 0.5\n",
    "idx_non_Z                           = full_catalog_df.loc[:, 'Z'].where(full_catalog_df.loc[:, 'Z'] > 0).isna()\n",
    "full_catalog_df.loc[idx_non_Z, 'Z'] = full_catalog_df.loc[:, 'Z'].mask(idx_non_Z, full_catalog_df.loc[idx_non_Z, 'zsp'])"
   ]
  },
  {
   "cell_type": "markdown",
   "metadata": {},
   "source": [
    "Create column for detection as Radio AGN"
   ]
  },
  {
   "cell_type": "code",
   "execution_count": 38,
   "metadata": {},
   "outputs": [],
   "source": [
    "full_catalog_df['radio_AGN']        = np.array(full_catalog_df.loc[:, 'is_AGN'] == 1) & np.array(full_catalog_df.loc[:, 'radio_detect'] == 1)"
   ]
  },
  {
   "cell_type": "markdown",
   "metadata": {},
   "source": [
    "##### Random seed"
   ]
  },
  {
   "cell_type": "code",
   "execution_count": 39,
   "metadata": {},
   "outputs": [],
   "source": [
    "seed                                = 42"
   ]
  },
  {
   "cell_type": "markdown",
   "metadata": {},
   "source": [
    "---"
   ]
  },
  {
   "cell_type": "markdown",
   "metadata": {},
   "source": [
    "Split dataset if from HETDEX"
   ]
  },
  {
   "cell_type": "code",
   "execution_count": 40,
   "metadata": {},
   "outputs": [],
   "source": [
    "if used_area == 'HETDEX':\n",
    "    if use_zeroth_model:\n",
    "        filter_known_spec = (full_catalog_df.loc[:, 'is_AGN'] == 1) |\\\n",
    "            (full_catalog_df.loc[:, 'is_gal'] == 1) | (full_catalog_df.loc[:, 'is_str'] == 1)\n",
    "    elif not use_zeroth_model:\n",
    "        filter_known_spec = (full_catalog_df.loc[:, 'is_AGN'] == 1) | (full_catalog_df.loc[:, 'is_gal'] == 1)\n",
    "    unknown_cat_df    = full_catalog_df.loc[~filter_known_spec]\n",
    "    full_catalog_df   = full_catalog_df.loc[filter_known_spec]\n",
    "    train_test_df, validation_df     = train_test_split(full_catalog_df, test_size=0.2,\\\n",
    "                                        random_state=seed, stratify=full_catalog_df.loc[:, 'class'])\n",
    "    train_df, test_df                = train_test_split(train_test_df, test_size=0.3,\\\n",
    "                                        random_state=seed, stratify=train_test_df.loc[:, 'class'])\n",
    "    print('Shape of used data in HETDEX')\n",
    "    print('(Confirmed galaxies and AGN)')\n",
    "    print('-' * 50)\n",
    "    print(f'Full confirmed dataset size:        {full_catalog_df.shape}')\n",
    "    print(f'Data for Modeling (Train and Test): {train_test_df.shape}')\n",
    "    print(f'Training data:                      {train_df.shape}')\n",
    "    print(f'Testing data:                       {test_df.shape}')\n",
    "    print(f'Unseen Data For Validation:         {validation_df.shape}')\n",
    "    print('-' * 50)\n",
    "    print()\n",
    "    print(f'Using {HETDEX_subset} data from HETDEX')\n",
    "    selected_dataset = {'Training': train_df, 'Test': test_df, 'Test+Train': train_test_df,\\\n",
    "                        'Validation': validation_df}\n",
    "    full_catalog_df = selected_dataset[HETDEX_subset]"
   ]
  },
  {
   "cell_type": "markdown",
   "metadata": {},
   "source": [
    "Split data if not from HETDEX"
   ]
  },
  {
   "cell_type": "code",
   "execution_count": 42,
   "metadata": {},
   "outputs": [],
   "source": [
    "if used_area != 'HETDEX':\n",
    "    filter_confirmed = (full_catalog_df.loc[:, 'class'] == 0) |\\\n",
    "                       (full_catalog_df.loc[:, 'class'] == 1) |\\\n",
    "                       (full_catalog_df.loc[:, 'class'] == 2)  # Galaxy, AGN, star\n",
    "    unknown_cat_df   = full_catalog_df.loc[~filter_confirmed]\n",
    "    full_catalog_df  = full_catalog_df.loc[filter_confirmed]"
   ]
  },
  {
   "cell_type": "code",
   "execution_count": 41,
   "metadata": {},
   "outputs": [
    {
     "name": "stdout",
     "output_type": "stream",
     "text": [
      "Full used dataset size:              (369093, 57)\n",
      "--------------------------------------------------\n",
      "Thus, it has 369,093 sources and 57 features.\n"
     ]
    }
   ],
   "source": [
    "print(f'Full used dataset size:              {full_catalog_df.shape}')\n",
    "print('-' * 50)\n",
    "print(f'Thus, it has {full_catalog_df.shape[0]:,} sources and {full_catalog_df.shape[1]:,} features.')"
   ]
  },
  {
   "cell_type": "markdown",
   "metadata": {},
   "source": [
    "Discard minor features."
   ]
  },
  {
   "cell_type": "code",
   "execution_count": 43,
   "metadata": {},
   "outputs": [],
   "source": [
    "full_catalog_df                     = full_catalog_df.drop(columns=['is_AGN', 'is_SDSS_gal', 'is_gal', 'zsp', 'spCl'])"
   ]
  },
  {
   "cell_type": "markdown",
   "metadata": {},
   "source": [
    "---"
   ]
  },
  {
   "cell_type": "markdown",
   "metadata": {},
   "source": [
    "### Load models"
   ]
  },
  {
   "cell_type": "code",
   "execution_count": 44,
   "metadata": {},
   "outputs": [
    {
     "name": "stdout",
     "output_type": "stream",
     "text": [
      "Transformation Pipeline and Model Successfully Loaded\n",
      "Transformation Pipeline and Model Successfully Loaded\n",
      "Transformation Pipeline and Model Successfully Loaded\n",
      "Transformation Pipeline and Model Successfully Loaded\n"
     ]
    }
   ],
   "source": [
    "if load_models_flag:\n",
    "    if use_zeroth_model:\n",
    "        star_clf        = pyc.load_model('models/classification_star_no_star_jun_30_2022')  # star/no-star model\n",
    "    AGN_gal_clf     = pyc.load_model('models/classification_AGN_galaxy_may_15_2022')\n",
    "    radio_det_clf   = pyc.load_model('models/classification_radio_detect_may_16_2022')\n",
    "    redshift_reg    = pyr.load_model('models/regression_z_may_17_2022')  # to use on full sample\n",
    "    if use_second_z_model:\n",
    "        redshift_reg_2  = pyr.load_model('models/regression_z_may_18_2022')  # to use on sources with predicted z >= 2\n",
    "    if use_third_z_model:\n",
    "        redshift_reg_3  = pyr.load_model('models/regression_z_may_30_2022')  # to use on sources with predicted z >= 3\n",
    "    if use_fourth_z_model:\n",
    "        # redshift_reg_4  = pyr.load_model('models/regression_z_may_31_2022')  # to use on sources with predicted z >= 3.7 (for z >= 4, regression_z_may_31_4_2022)\n",
    "        # redshift_reg_4  = pyr.load_model('models/regression_z_may_31_4_2022')  # to use on sources with predicted z >= 3.7 (for z >= 4, regression_z_may_31_4_2022)\n",
    "        # redshift_reg_4  = pyr.load_model('models/regression_z_jun_01_2022')  # to use on sources with predicted z >= 3.7 used with SMOGN\n",
    "        redshift_reg_4  = pyr.load_model('models/regression_z_jul_19_2022')  # to use on sources with predicted z >= 3.6 used with SMOGN"
   ]
  },
  {
   "cell_type": "code",
   "execution_count": 45,
   "metadata": {},
   "outputs": [],
   "source": [
    "if use_zeroth_model:\n",
    "    threshold_star = 0.37441  # 0.5, 0.15688 from ROC AUC in train+test, 0.37441 from PR curve\n",
    "threshold_AGN   = 0.31117  # 0.5, 0.3094 from ROC AUC in train+test, 0.31117 from PR curve\n",
    "threshold_radio = 4.99972232e-01  # 0.5, 4.99972232e-01 from ROC AUC in train+test and PR curve"
   ]
  },
  {
   "cell_type": "code",
   "execution_count": 46,
   "metadata": {},
   "outputs": [],
   "source": [
    "if use_zeroth_model:  # we want no-star sources => label == 0\n",
    "    full_catalog_df = predict_star(full_catalog_df, star_clf, threshold_star)\n",
    "    unknown_cat_df  = predict_star(unknown_cat_df,  star_clf, threshold_star)\n",
    "elif not use_zeroth_model:\n",
    "    full_catalog_df['pred_star']     = 0\n",
    "    full_catalog_df['Score_no_star'] = 1\n",
    "    unknown_cat_df['pred_star']      = 0\n",
    "    unknown_cat_df['Score_no_star']  = 1"
   ]
  },
  {
   "cell_type": "code",
   "execution_count": 47,
   "metadata": {},
   "outputs": [],
   "source": [
    "full_catalog_df = predict_AGN_gal(full_catalog_df, AGN_gal_clf, threshold_AGN)\n",
    "unknown_cat_df  = predict_AGN_gal(unknown_cat_df,  AGN_gal_clf, threshold_AGN)"
   ]
  },
  {
   "cell_type": "code",
   "execution_count": 48,
   "metadata": {},
   "outputs": [],
   "source": [
    "full_catalog_df = predict_radio_det(full_catalog_df, radio_det_clf, threshold_radio)\n",
    "unknown_cat_df  = predict_radio_det(unknown_cat_df,  radio_det_clf, threshold_radio)"
   ]
  },
  {
   "cell_type": "code",
   "execution_count": 49,
   "metadata": {},
   "outputs": [],
   "source": [
    "full_catalog_df = predict_z_full(full_catalog_df, redshift_reg)\n",
    "unknown_cat_df  = predict_z_full(unknown_cat_df,  redshift_reg)"
   ]
  },
  {
   "cell_type": "markdown",
   "metadata": {},
   "source": [
    "Scores before applying further z models"
   ]
  },
  {
   "cell_type": "code",
   "execution_count": 50,
   "metadata": {},
   "outputs": [],
   "source": [
    "if use_zeroth_model:\n",
    "    temp_filt_pred_nstr    = np.array(full_catalog_df.loc[:, 'pred_star'] == 0)  # filter for not being predicted as a star\n",
    "elif not use_zeroth_model:\n",
    "    temp_filt_pred_nstr    = np.ones_like(full_catalog_df.loc[:, 'class']).astype(bool)\n",
    "temp_filt_pred_rAGN        = np.array(full_catalog_df.loc[:, 'pred_class'] == 1) &\\\n",
    "                             np.array(full_catalog_df.loc[:, 'pred_radio'] == 1) &\\\n",
    "                             temp_filt_pred_nstr\n",
    "sigma_mad_early            = sigma_mad(full_catalog_df.loc[temp_filt_pred_rAGN, 'Z'],    full_catalog_df.loc[temp_filt_pred_rAGN, 'pred_Z'])\n",
    "sigma_nmad_early           = sigma_nmad(full_catalog_df.loc[temp_filt_pred_rAGN, 'Z'],   full_catalog_df.loc[temp_filt_pred_rAGN, 'pred_Z'])\n",
    "sigma_z_early              = sigma_z(full_catalog_df.loc[temp_filt_pred_rAGN, 'Z'],      full_catalog_df.loc[temp_filt_pred_rAGN, 'pred_Z'])\n",
    "sigma_z_norm_early         = sigma_z_norm(full_catalog_df.loc[temp_filt_pred_rAGN, 'Z'], full_catalog_df.loc[temp_filt_pred_rAGN, 'pred_Z'])\n",
    "out_frac_early             = outlier_frac(full_catalog_df.loc[temp_filt_pred_rAGN, 'Z'], full_catalog_df.loc[temp_filt_pred_rAGN, 'pred_Z'])"
   ]
  },
  {
   "cell_type": "code",
   "execution_count": 51,
   "metadata": {},
   "outputs": [],
   "source": [
    "temp_z_limit               = 3.6\n",
    "temp_filt_high_z_rAGN      = temp_filt_pred_rAGN * (full_catalog_df.loc[:, 'pred_Z'] >= temp_z_limit)\n",
    "sigma_mad_early_hiz        = sigma_mad(full_catalog_df.loc[temp_filt_high_z_rAGN, 'Z'],    full_catalog_df.loc[temp_filt_high_z_rAGN, 'pred_Z'])\n",
    "sigma_nmad_early_hiz       = sigma_nmad(full_catalog_df.loc[temp_filt_high_z_rAGN, 'Z'],   full_catalog_df.loc[temp_filt_high_z_rAGN, 'pred_Z'])\n",
    "sigma_z_early_hiz          = sigma_z(full_catalog_df.loc[temp_filt_high_z_rAGN, 'Z'],      full_catalog_df.loc[temp_filt_high_z_rAGN, 'pred_Z'])\n",
    "sigma_z_norm_early_hiz     = sigma_z_norm(full_catalog_df.loc[temp_filt_high_z_rAGN, 'Z'], full_catalog_df.loc[temp_filt_high_z_rAGN, 'pred_Z'])\n",
    "out_frac_early_hiz         = outlier_frac(full_catalog_df.loc[temp_filt_high_z_rAGN, 'Z'], full_catalog_df.loc[temp_filt_high_z_rAGN, 'pred_Z'])"
   ]
  },
  {
   "cell_type": "code",
   "execution_count": 52,
   "metadata": {},
   "outputs": [],
   "source": [
    "redshift_lim_a    = 2.0\n",
    "redshift_tol_a    = 0.0\n",
    "redshift_lim_b    = 3.0\n",
    "redshift_tol_b    = 0.0\n",
    "redshift_lim_c    = 3.6  # 3.6, 3.7, 4.0\n",
    "redshift_tol_c    = 0.0\n",
    "if use_second_z_model:\n",
    "    full_catalog_df = predict_z_high(full_catalog_df, redshift_reg_2, redshift_lim_a, redshift_tol_a)\n",
    "    unknown_cat_df  = predict_z_high(unknown_cat_df,  redshift_reg_2, redshift_lim_a, redshift_tol_a)\n",
    "if use_third_z_model:\n",
    "    full_catalog_df = predict_z_high(full_catalog_df, redshift_reg_3, redshift_lim_b, redshift_tol_b)\n",
    "    unknown_cat_df  = predict_z_high(unknown_cat_df,  redshift_reg_3, redshift_lim_b, redshift_tol_b)\n",
    "if use_fourth_z_model:\n",
    "    full_catalog_df = predict_z_high(full_catalog_df, redshift_reg_4, redshift_lim_c, redshift_tol_c)\n",
    "    unknown_cat_df  = predict_z_high(unknown_cat_df,  redshift_reg_4, redshift_lim_c, redshift_tol_c)"
   ]
  },
  {
   "cell_type": "code",
   "execution_count": 53,
   "metadata": {
    "tags": []
   },
   "outputs": [
    {
     "data": {
      "image/png": "[encoded data removed]",
      "text/plain": [
       "<Figure size 600x500 with 3 Axes>"
      ]
     },
     "metadata": {},
     "output_type": "display_data"
    }
   ],
   "source": [
    "fig             = plt.figure(figsize=(6,5))\n",
    "ax1             = fig.add_subplot(111, projection='scatter_density', xscale='log', yscale='log')\n",
    "plot_redshift_compare(full_catalog_df.loc[:, 'Z'], full_catalog_df.loc[:, 'pred_Z'], ax_pre=ax1, title=None, dpi=10, show_clb=True, log_stretch=False)\n",
    "ax1.axvline(x=(1 + redshift_lim_a), ls='--', c='k', lw=2.5)\n",
    "ax1.axhline(y=(1 + redshift_lim_a), ls='--', c='k', lw=2.5)\n",
    "ax1.axvline(x=(1 + redshift_lim_c), ls='--', c='k', lw=2.5)\n",
    "ax1.axhline(y=(1 + redshift_lim_c), ls='--', c='k', lw=2.5)\n",
    "if use_second_z_model or use_third_z_model or use_fourth_z_model:\n",
    "    ax1.set_ylabel('$1 + z_{\\mathrm{Predicted}}^{\\mathrm{combined\\,models}}$', size=20)\n",
    "plt.show()"
   ]
  },
  {
   "cell_type": "markdown",
   "metadata": {},
   "source": [
    "Plot histogram to compare redshift predictions in after all models passings (on HETDEX validation data only)."
   ]
  },
  {
   "cell_type": "code",
   "execution_count": 54,
   "metadata": {},
   "outputs": [],
   "source": [
    "if used_area == 'HETDEX':\n",
    "    if HETDEX_subset == 'Full':\n",
    "        filter_rAGN_t_H   = (full_catalog_df.loc[:, 'radio_AGN'] == 1)\n",
    "        filter_redshift_H = (full_catalog_df.loc[:, 'Z'] > 0)\n",
    "        full_catalog_H_df = full_catalog_df.loc[filter_rAGN_t_H & filter_redshift_H]\n",
    "        \n",
    "        train_test_H_df   = full_catalog_H_df.loc[np.isfinite(full_catalog_H_df.loc[:, 'Z'])].sample(frac=0.8, random_state=seed)  # Train + test sets\n",
    "        validation_H_df   = full_catalog_H_df.drop(train_test_H_df.index)  # Validation data\n",
    "        \n",
    "        filter_rAGN_t_v_H = (full_catalog_df.loc[:, 'radio_AGN'] == 1)\n",
    "        filt_rAGN_p_H     = (validation_H_df.loc[:, 'pred_class'] == 1) & (validation_H_df.loc[:, 'pred_radio'] == 1)\n",
    "        filt_new_rAGN_p_H = filt_rAGN_p_H & np.array(validation_H_df.loc[:, 'radio_AGN'] == 0)"
   ]
  },
  {
   "cell_type": "code",
   "execution_count": 55,
   "metadata": {},
   "outputs": [],
   "source": [
    "if used_area == 'HETDEX':\n",
    "    if HETDEX_subset == 'Full':\n",
    "        fig             = plt.figure(figsize=(10,3.5))\n",
    "        ax1             = fig.add_subplot(111, xscale='linear', yscale='log')\n",
    "        \n",
    "        min_for_range = np.nanmin([np.nanmin(validation_H_df.loc[:, 'Z']),\\\n",
    "                                   np.nanmin(validation_H_df.loc[:, 'pred_Z'])])\n",
    "        max_for_range = np.nanmax([np.nanmax(validation_H_df.loc[:, 'Z']),\\\n",
    "                                   np.nanmax(validation_H_df.loc[:, 'pred_Z'])])\n",
    "        bins_z        = np.linspace(min_for_range, max_for_range, 70)\n",
    "        \n",
    "        \n",
    "        \n",
    "        _, bins, _ = ax1.hist(validation_H_df.loc[:, 'pred_Z'], bins=bins_z, histtype='stepfilled',\\\n",
    "                              ec='k', fc='mediumpurple', lw=3.5,\\\n",
    "                              label=f\"Predicted\\nN={np.sum(np.isfinite(validation_H_df.loc[:, 'pred_Z'])):,}\")\n",
    "        ax1.hist(validation_H_df.loc[:, 'Z'], bins=bins_z, histtype='stepfilled', ec='k',\\\n",
    "                 fc='darkcyan', lw=3.5, label=f\"True\\nN={np.sum(np.sum(np.isfinite(validation_H_df.loc[:, 'Z']))):,}\", alpha=0.7)\n",
    "        \n",
    "        # ax1.axvline(x=3.7, ls='--', c='k', lw=2.5, zorder=10)\n",
    "        # ax1.axvline(x=3.8, ls='--', c='k', lw=2.5, zorder=10)\n",
    "        # ax1.axvline(x=3.9, ls='--', c='k', lw=2.5, zorder=10)\n",
    "        \n",
    "        ax1.tick_params(which='both', top=True, right=True, direction='in')\n",
    "        ax1.tick_params(axis='both', which='major', labelsize=14)\n",
    "        ax1.tick_params(which='major', length=8, width=1.5)\n",
    "        ax1.tick_params(which='minor', length=4, width=1.5)\n",
    "        # ax1.set_xlabel('$m_{\\mathrm{W1}}\\, \\mathrm{[AB]}$', size=20)\n",
    "        ax1.set_xlabel('$z_{\\mathrm{AGN}}$', size=20)\n",
    "        ax1.set_ylabel('Frequency', size=20)\n",
    "        # ax1.set_ylabel('Frequency', size=20)\n",
    "        plt.setp(ax1.spines.values(), linewidth=3.5)\n",
    "        plt.setp(ax1.spines.values(), linewidth=3.5)\n",
    "        plt.legend(loc=1, fontsize=16)\n",
    "        # ax1.invert_xaxis()\n",
    "        # ax1.set_xlim(left=-4, right=6)\n",
    "        #ax1.set_aspect('equal', 'box')\n",
    "        ax1.set_title(used_area, fontsize=14)\n",
    "        fig.tight_layout()\n",
    "        if save_plot_flag:\n",
    "            plt.savefig(f'plots/hist_true_predicted_z_{used_area}_validation.pdf')\n",
    "        plt.show()"
   ]
  },
  {
   "cell_type": "markdown",
   "metadata": {},
   "source": [
    "Additional columns with radio AGN prediction as a whole."
   ]
  },
  {
   "cell_type": "code",
   "execution_count": 56,
   "metadata": {},
   "outputs": [],
   "source": [
    "full_catalog_df['pred_radio_AGN']     = np.array(full_catalog_df.loc[:, 'pred_star']  == 0) &\\\n",
    "                                        np.array(full_catalog_df.loc[:, 'pred_class'] == 1) &\\\n",
    "                                        np.array(full_catalog_df.loc[:, 'pred_radio'] == 1)\n",
    "full_catalog_df['Score_rAGN']         = full_catalog_df.loc[:, 'Score_no_star'] *\\\n",
    "                                        full_catalog_df.loc[:, 'Score_AGN'] *\\\n",
    "                                        full_catalog_df.loc[:, 'Score_radio']\n",
    "rad_score_scaler                      = MinMaxScaler()\n",
    "rad_score_scaler.fit(full_catalog_df.loc[:, 'Score_radio'].values.reshape(-1, 1))\n",
    "full_catalog_df['scaled_score_radio'] = rad_score_scaler.transform(full_catalog_df.loc[:, 'Score_radio'].values.reshape(-1, 1))\n",
    "full_catalog_df['scaled_score_rAGN']  = full_catalog_df.loc[:, 'Score_AGN'] * full_catalog_df.loc[:, 'scaled_score_radio']"
   ]
  },
  {
   "cell_type": "code",
   "execution_count": 57,
   "metadata": {},
   "outputs": [],
   "source": [
    "unknown_cat_df['pred_radio_AGN']     = np.array(unknown_cat_df.loc[:, 'pred_star']  == 0) &\\\n",
    "                                       np.array(unknown_cat_df.loc[:, 'pred_class'] == 1) &\\\n",
    "                                       np.array(unknown_cat_df.loc[:, 'pred_radio'] == 1)\n",
    "unknown_cat_df['Score_rAGN']         = unknown_cat_df.loc[:, 'Score_no_star'] *\\\n",
    "                                       unknown_cat_df.loc[:, 'Score_AGN'] *\\\n",
    "                                       unknown_cat_df.loc[:, 'Score_radio']\n",
    "\n",
    "unknown_cat_df['scaled_score_radio'] = rad_score_scaler.transform(unknown_cat_df.loc[:, 'Score_radio'].values.reshape(-1, 1))\n",
    "unknown_cat_df['scaled_score_rAGN']  = unknown_cat_df.loc[:, 'Score_AGN'] * unknown_cat_df.loc[:, 'scaled_score_radio']"
   ]
  },
  {
   "cell_type": "code",
   "execution_count": 58,
   "metadata": {},
   "outputs": [
    {
     "data": {
      "text/html": [
       "<div>\n",
       "<style scoped>\n",
       "    .dataframe tbody tr th:only-of-type {\n",
       "        vertical-align: middle;\n",
       "    }\n",
       "\n",
       "    .dataframe tbody tr th {\n",
       "        vertical-align: top;\n",
       "    }\n",
       "\n",
       "    .dataframe thead th {\n",
       "        text-align: right;\n",
       "    }\n",
       "</style>\n",
       "<table border=\"1\" class=\"dataframe\">\n",
       "  <thead>\n",
       "    <tr style=\"text-align: right;\">\n",
       "      <th></th>\n",
       "      <th>class</th>\n",
       "      <th>pred_class</th>\n",
       "      <th>radio_detect</th>\n",
       "      <th>pred_radio</th>\n",
       "      <th>Z</th>\n",
       "      <th>pred_Z</th>\n",
       "    </tr>\n",
       "  </thead>\n",
       "  <tbody>\n",
       "    <tr>\n",
       "      <th>count</th>\n",
       "      <td>3600.000000</td>\n",
       "      <td>3600.000000</td>\n",
       "      <td>3600.000000</td>\n",
       "      <td>3600.000000</td>\n",
       "      <td>3434.000000</td>\n",
       "      <td>3600.000000</td>\n",
       "    </tr>\n",
       "    <tr>\n",
       "      <th>mean</th>\n",
       "      <td>0.860000</td>\n",
       "      <td>0.816667</td>\n",
       "      <td>0.354167</td>\n",
       "      <td>0.431111</td>\n",
       "      <td>1.307097</td>\n",
       "      <td>1.409550</td>\n",
       "    </tr>\n",
       "    <tr>\n",
       "      <th>std</th>\n",
       "      <td>0.347035</td>\n",
       "      <td>0.386993</td>\n",
       "      <td>0.478326</td>\n",
       "      <td>0.495300</td>\n",
       "      <td>0.884474</td>\n",
       "      <td>0.753519</td>\n",
       "    </tr>\n",
       "    <tr>\n",
       "      <th>min</th>\n",
       "      <td>0.000000</td>\n",
       "      <td>0.000000</td>\n",
       "      <td>0.000000</td>\n",
       "      <td>0.000000</td>\n",
       "      <td>0.000000</td>\n",
       "      <td>0.040300</td>\n",
       "    </tr>\n",
       "    <tr>\n",
       "      <th>25%</th>\n",
       "      <td>1.000000</td>\n",
       "      <td>1.000000</td>\n",
       "      <td>0.000000</td>\n",
       "      <td>0.000000</td>\n",
       "      <td>0.596000</td>\n",
       "      <td>0.806925</td>\n",
       "    </tr>\n",
       "    <tr>\n",
       "      <th>50%</th>\n",
       "      <td>1.000000</td>\n",
       "      <td>1.000000</td>\n",
       "      <td>0.000000</td>\n",
       "      <td>0.000000</td>\n",
       "      <td>1.190000</td>\n",
       "      <td>1.421000</td>\n",
       "    </tr>\n",
       "    <tr>\n",
       "      <th>75%</th>\n",
       "      <td>1.000000</td>\n",
       "      <td>1.000000</td>\n",
       "      <td>1.000000</td>\n",
       "      <td>1.000000</td>\n",
       "      <td>1.890000</td>\n",
       "      <td>1.975550</td>\n",
       "    </tr>\n",
       "    <tr>\n",
       "      <th>max</th>\n",
       "      <td>1.000000</td>\n",
       "      <td>1.000000</td>\n",
       "      <td>1.000000</td>\n",
       "      <td>1.000000</td>\n",
       "      <td>6.780000</td>\n",
       "      <td>4.571700</td>\n",
       "    </tr>\n",
       "  </tbody>\n",
       "</table>\n",
       "</div>"
      ],
      "text/plain": [
       "             class   pred_class  radio_detect   pred_radio            Z  \\\n",
       "count  3600.000000  3600.000000   3600.000000  3600.000000  3434.000000   \n",
       "mean      0.860000     0.816667      0.354167     0.431111     1.307097   \n",
       "std       0.347035     0.386993      0.478326     0.495300     0.884474   \n",
       "min       0.000000     0.000000      0.000000     0.000000     0.000000   \n",
       "25%       1.000000     1.000000      0.000000     0.000000     0.596000   \n",
       "50%       1.000000     1.000000      0.000000     0.000000     1.190000   \n",
       "75%       1.000000     1.000000      1.000000     1.000000     1.890000   \n",
       "max       1.000000     1.000000      1.000000     1.000000     6.780000   \n",
       "\n",
       "            pred_Z  \n",
       "count  3600.000000  \n",
       "mean      1.409550  \n",
       "std       0.753519  \n",
       "min       0.040300  \n",
       "25%       0.806925  \n",
       "50%       1.421000  \n",
       "75%       1.975550  \n",
       "max       4.571700  "
      ]
     },
     "execution_count": 58,
     "metadata": {},
     "output_type": "execute_result"
    }
   ],
   "source": [
    "displayed_cols = ['is_str', 'pred_star', 'class', 'pred_class', 'radio_detect', 'pred_radio', 'Z', 'pred_Z']\n",
    "if not use_zeroth_model:\n",
    "    displayed_cols.remove('is_str')\n",
    "    displayed_cols.remove('pred_star')\n",
    "full_catalog_df.loc[:, displayed_cols].describe()"
   ]
  },
  {
   "cell_type": "markdown",
   "metadata": {},
   "source": [
    "##### Include AGN detection criteria from literature"
   ]
  },
  {
   "cell_type": "code",
   "execution_count": 59,
   "metadata": {},
   "outputs": [],
   "source": [
    "full_catalog_df = add_AGN_criteria(full_catalog_df)\n",
    "unknown_cat_df  = add_AGN_criteria(unknown_cat_df)"
   ]
  },
  {
   "cell_type": "markdown",
   "metadata": {},
   "source": [
    "Obtain intermediate metrics"
   ]
  },
  {
   "cell_type": "code",
   "execution_count": 60,
   "metadata": {},
   "outputs": [],
   "source": [
    "filter_radio_AGN_t      = np.array(full_catalog_df.loc[:, 'class'] == 1) & np.array(full_catalog_df.loc[:, 'radio_detect'] == 1)\n",
    "if use_zeroth_model:\n",
    "    filter_known_spec = (full_catalog_df.loc[:, 'class'] == 0) |\\\n",
    "                        (full_catalog_df.loc[:, 'class'] == 1) |\\\n",
    "                        (full_catalog_df.loc[:, 'class'] == 2)\n",
    "elif not use_zeroth_model:\n",
    "    filter_known_spec = (full_catalog_df.loc[:, 'class'] == 0) |\\\n",
    "                        (full_catalog_df.loc[:, 'class'] == 1)\n",
    "total_size              = len(full_catalog_df)\n",
    "filter_AGN_t            = np.array(full_catalog_df.loc[:, 'class'] == 1)\n",
    "num_str_t               = np.sum(np.array(full_catalog_df.loc[:, 'class'] == 2))\n",
    "num_AGN_t               = np.sum(filter_AGN_t)\n",
    "num_gal_t               = np.sum(np.array(full_catalog_df.loc[:, 'class'] == 0))\n",
    "num_str_t               = np.sum(np.array(full_catalog_df.loc[:, 'is_str'] == 1))\n",
    "num_radio_t             = np.sum(np.array(full_catalog_df.loc[:, 'radio_detect'] == 1))\n",
    "num_radio_AGN_t         = np.sum(filter_radio_AGN_t)"
   ]
  },
  {
   "cell_type": "code",
   "execution_count": 61,
   "metadata": {},
   "outputs": [],
   "source": [
    "# filter_radio_AGN_p      = np.array(full_catalog_df.loc[:, 'Score_AGN']          >= threshold_AGN) &\\\n",
    "#                             np.array(full_catalog_df.loc[:, 'Score_radio']      >= threshold_radio)\n",
    "if use_zeroth_model:\n",
    "    filter_non_str_p      = np.array(full_catalog_df.loc[:, 'pred_star'] == 0)\n",
    "elif not use_zeroth_model:\n",
    "    filter_non_str_p      = np.ones_like(full_catalog_df.loc[:, 'class']).astype(bool)\n",
    "filter_radio_AGN_p        = full_catalog_df['pred_radio_AGN']\n",
    "filt_hiz_rAGN_p           = filter_radio_AGN_p * np.array(full_catalog_df.loc[:, 'pred_Z'] >= redshift_lim_c)\n",
    "filter_AGN_p              = np.array(full_catalog_df.loc[:, 'pred_class'] == 1) & filter_non_str_p\n",
    "filter_radio_p            = np.array(full_catalog_df.loc[:, 'pred_radio'] == 1)\n",
    "filt_new_rAGN_p           = filter_radio_AGN_p & np.array(full_catalog_df.loc[:, 'radio_AGN'] == 0)\n",
    "num_AGN_p                 = np.sum(filter_AGN_p)\n",
    "num_gal_p                 = np.sum(np.array(full_catalog_df.loc[:, 'pred_class'] == 0) & filter_non_str_p)\n",
    "num_radio_p               = np.sum(filter_radio_p)\n",
    "num_radio_AGN_p           = np.sum(filter_radio_AGN_p)\n",
    "num_rAGN_MQC_p            = np.sum(filter_radio_AGN_p & np.array(full_catalog_df.loc[:, 'class'] == 1))\n",
    "num_rAGN_gal_p            = np.sum(filter_radio_AGN_p & np.array(full_catalog_df.loc[:, 'class'] == 0))\n",
    "num_rAGN_str_p            = np.sum(filter_radio_AGN_p & np.array(full_catalog_df.loc[:, 'is_str'] == 1))\n",
    "num_rAGN_rad_p            = np.sum(filter_radio_AGN_p & np.array(full_catalog_df.loc[:, 'radio_detect'] == 1))\n",
    "num_new_rAGN_p            = np.sum(filter_radio_AGN_p) - np.sum(filter_radio_AGN_t)"
   ]
  },
  {
   "cell_type": "markdown",
   "metadata": {},
   "source": [
    "Confusion matrix for Star/not-star classification on confirmed sources (AGN + Galaxies + Stars)"
   ]
  },
  {
   "cell_type": "code",
   "execution_count": 62,
   "metadata": {},
   "outputs": [],
   "source": [
    "if use_zeroth_model:\n",
    "    cm_str = np.array([[np.sum(np.array(full_catalog_df.loc[:, 'is_str'] == 0) & np.array(full_catalog_df.loc[:, 'pred_star'] == 0)),\\\n",
    "                        np.sum(np.array(full_catalog_df.loc[:, 'is_str'] == 0) & np.array(full_catalog_df.loc[:, 'pred_star'] == 1))],\\\n",
    "                       [np.sum(np.array(full_catalog_df.loc[:, 'is_str'] == 1) & np.array(full_catalog_df.loc[:, 'pred_star'] == 0)),\\\n",
    "                        np.sum(np.array(full_catalog_df.loc[:, 'is_str'] == 1) & np.array(full_catalog_df.loc[:, 'pred_star'] == 1))]])"
   ]
  },
  {
   "cell_type": "markdown",
   "metadata": {},
   "source": [
    "Confusion matrix for AGN prediction on confirmed sources (AGN/galaxies). Including initial prediction of not being star."
   ]
  },
  {
   "cell_type": "code",
   "execution_count": 63,
   "metadata": {
    "tags": []
   },
   "outputs": [],
   "source": [
    "tmp_filt_AGN = filter_non_str_p * filter_known_spec\n",
    "cm_AGN = np.array([[np.sum(np.array(full_catalog_df.loc[filter_non_str_p, 'class'] == 0) &\\\n",
    "                           np.array(full_catalog_df.loc[filter_non_str_p, 'pred_class'] == 0)),\\\n",
    "                    np.sum(np.array(full_catalog_df.loc[filter_non_str_p, 'class'] == 0) &\\\n",
    "                           np.array(full_catalog_df.loc[filter_non_str_p, 'pred_class'] == 1))],\\\n",
    "                   [np.sum(np.array(full_catalog_df.loc[filter_non_str_p, 'class'] == 1) &\\\n",
    "                           np.array(full_catalog_df.loc[filter_non_str_p, 'pred_class'] == 0)),\\\n",
    "                    np.sum(np.array(full_catalog_df.loc[filter_non_str_p, 'class'] == 1) &\\\n",
    "                           np.array(full_catalog_df.loc[filter_non_str_p, 'pred_class'] == 1))]])"
   ]
  },
  {
   "cell_type": "markdown",
   "metadata": {},
   "source": [
    "Confusion matrix for AGN prediction on all sources (AGN/galaxies + unknown [stars])"
   ]
  },
  {
   "cell_type": "code",
   "execution_count": 64,
   "metadata": {
    "tags": []
   },
   "outputs": [],
   "source": [
    "# cm_AGN_large = np.array([[np.sum(np.array(full_catalog_df.loc[:, 'class'] == 0)    & np.array(full_catalog_df.loc[:, 'pred_class'] == 0) & filter_non_str_p),\\\n",
    "#                           np.sum(np.array(full_catalog_df.loc[:, 'class'] == 0)    & np.array(full_catalog_df.loc[:, 'pred_class'] == 0.5)),\\\n",
    "#                           np.sum(np.array(full_catalog_df.loc[:, 'class'] == 0)    & np.array(full_catalog_df.loc[:, 'pred_class'] == 1) & filter_non_str_p)],\\\n",
    "#                          [np.sum((np.array(full_catalog_df.loc[:, 'class'] == 0.5) | np.array(full_catalog_df.loc[:, 'class'] == 2) | ~filter_non_str_p)     & np.array(full_catalog_df.loc[:, 'pred_class'] == 0)),\\\n",
    "#                           np.sum((np.array(full_catalog_df.loc[:, 'class'] == 0.5) | np.array(full_catalog_df.loc[:, 'class'] == 2) | ~filter_non_str_p)     & np.array(full_catalog_df.loc[:, 'pred_class'] == 0.5)),\\\n",
    "#                           np.sum((np.array(full_catalog_df.loc[:, 'class'] == 0.5) | np.array(full_catalog_df.loc[:, 'class'] == 2) | ~filter_non_str_p)     & np.array(full_catalog_df.loc[:, 'pred_class'] == 1))],\\\n",
    "#                          [np.sum(np.array(full_catalog_df.loc[:, 'class'] == 1)    & np.array(full_catalog_df.loc[:, 'pred_class'] == 0) & filter_non_str_p),\\\n",
    "#                           np.sum(np.array(full_catalog_df.loc[:, 'class'] == 1)    & np.array(full_catalog_df.loc[:, 'pred_class'] == 0.5)),\\\n",
    "#                           np.sum(np.array(full_catalog_df.loc[:, 'class'] == 1)    & np.array(full_catalog_df.loc[:, 'pred_class'] == 1) & filter_non_str_p)]])"
   ]
  },
  {
   "cell_type": "markdown",
   "metadata": {},
   "source": [
    "Confusion matrices from literature AGN criteria."
   ]
  },
  {
   "cell_type": "code",
   "execution_count": 65,
   "metadata": {},
   "outputs": [],
   "source": [
    "tmp_filt_sp_nostr = filter_known_spec * filter_non_str_p\n",
    "cm_AGN_S12 = np.array([[np.sum(np.array(full_catalog_df.loc[filter_non_str_p, 'class'] == 0) & np.array(full_catalog_df.loc[filter_non_str_p, 'S12_AGN'] == 0)),\\\n",
    "             np.sum(np.array(full_catalog_df.loc[filter_non_str_p, 'class'] == 0) & np.array(full_catalog_df.loc[filter_non_str_p, 'S12_AGN'] == 1))],\\\n",
    "            [np.sum(np.array(full_catalog_df.loc[filter_non_str_p, 'class'] == 1) & np.array(full_catalog_df.loc[filter_non_str_p, 'S12_AGN'] == 0)),\\\n",
    "             np.sum(np.array(full_catalog_df.loc[filter_non_str_p, 'class'] == 1) & np.array(full_catalog_df.loc[filter_non_str_p, 'S12_AGN'] == 1))]])\n",
    "\n",
    "cm_AGN_M12 = np.array([[np.sum(np.array(full_catalog_df.loc[tmp_filt_sp_nostr, 'class'] == 0) & np.array(full_catalog_df.loc[tmp_filt_sp_nostr, 'M12_AGN'] == 0)),\\\n",
    "             np.sum(np.array(full_catalog_df.loc[tmp_filt_sp_nostr, 'class'] == 0) & np.array(full_catalog_df.loc[tmp_filt_sp_nostr, 'M12_AGN'] == 1))],\\\n",
    "            [np.sum(np.array(full_catalog_df.loc[tmp_filt_sp_nostr, 'class'] == 1) & np.array(full_catalog_df.loc[tmp_filt_sp_nostr, 'M12_AGN'] == 0)),\\\n",
    "             np.sum(np.array(full_catalog_df.loc[tmp_filt_sp_nostr, 'class'] == 1) & np.array(full_catalog_df.loc[tmp_filt_sp_nostr, 'M12_AGN'] == 1))]])\n",
    "\n",
    "cm_AGN_M16 = np.array([[np.sum(np.array(full_catalog_df.loc[tmp_filt_sp_nostr, 'class'] == 0) & np.array(full_catalog_df.loc[tmp_filt_sp_nostr, 'M16_AGN'] == 0)),\\\n",
    "             np.sum(np.array(full_catalog_df.loc[tmp_filt_sp_nostr, 'class'] == 0) & np.array(full_catalog_df.loc[tmp_filt_sp_nostr, 'M16_AGN'] == 1))],\\\n",
    "            [np.sum(np.array(full_catalog_df.loc[tmp_filt_sp_nostr, 'class'] == 1) & np.array(full_catalog_df.loc[tmp_filt_sp_nostr, 'M16_AGN'] == 0)),\\\n",
    "             np.sum(np.array(full_catalog_df.loc[tmp_filt_sp_nostr, 'class'] == 1) & np.array(full_catalog_df.loc[tmp_filt_sp_nostr, 'M16_AGN'] == 1))]])\n",
    "\n",
    "cm_AGN_B18 = np.array([[np.sum(np.array(full_catalog_df.loc[tmp_filt_sp_nostr, 'class'] == 0) & np.array(full_catalog_df.loc[tmp_filt_sp_nostr, 'B18_AGN'] == 0)),\\\n",
    "             np.sum(np.array(full_catalog_df.loc[tmp_filt_sp_nostr, 'class'] == 0) & np.array(full_catalog_df.loc[tmp_filt_sp_nostr, 'B18_AGN'] == 1))],\\\n",
    "            [np.sum(np.array(full_catalog_df.loc[tmp_filt_sp_nostr, 'class'] == 1) & np.array(full_catalog_df.loc[tmp_filt_sp_nostr, 'B18_AGN'] == 0)),\\\n",
    "             np.sum(np.array(full_catalog_df.loc[tmp_filt_sp_nostr, 'class'] == 1) & np.array(full_catalog_df.loc[tmp_filt_sp_nostr, 'B18_AGN'] == 1))]])"
   ]
  },
  {
   "cell_type": "markdown",
   "metadata": {},
   "source": [
    "Confusion matrix for radio detection prediction on all sources (AGN/galaxies + unknown)"
   ]
  },
  {
   "cell_type": "code",
   "execution_count": 66,
   "metadata": {
    "tags": []
   },
   "outputs": [],
   "source": [
    "# cm_radio = np.array([[np.sum(np.array(full_catalog_df.loc[filter_AGN_p, 'radio_detect'] == 0) &\\\n",
    "#                              np.array(full_catalog_df.loc[filter_AGN_p, 'pred_radio']   == 0)),\\\n",
    "#                       np.sum(np.array(full_catalog_df.loc[filter_AGN_p, 'radio_detect'] == 0) &\\\n",
    "#                              np.array(full_catalog_df.loc[filter_AGN_p, 'pred_radio']   == 1))],\\\n",
    "#                      [np.sum(np.array(full_catalog_df.loc[filter_AGN_p, 'radio_detect'] == 1) &\\\n",
    "#                              np.array(full_catalog_df.loc[filter_AGN_p, 'pred_radio']   == 0)),\\\n",
    "#                       np.sum(np.array(full_catalog_df.loc[filter_AGN_p, 'radio_detect'] == 1) &\\\n",
    "#                              np.array(full_catalog_df.loc[filter_AGN_p, 'pred_radio']   == 1))]])"
   ]
  },
  {
   "cell_type": "markdown",
   "metadata": {},
   "source": [
    "Confusion matrix for radio detection prediction on confirmed sources (AGN/galaxies/stars)"
   ]
  },
  {
   "cell_type": "code",
   "execution_count": 67,
   "metadata": {
    "tags": []
   },
   "outputs": [],
   "source": [
    "cm_radio = np.array([[np.sum(np.array(full_catalog_df.loc[filter_AGN_p, 'radio_detect'] == 0) &\\\n",
    "                             np.array(full_catalog_df.loc[filter_AGN_p, 'pred_radio']   == 0)),\\\n",
    "                      np.sum(np.array(full_catalog_df.loc[filter_AGN_p, 'radio_detect'] == 0) &\\\n",
    "                             np.array(full_catalog_df.loc[filter_AGN_p, 'pred_radio']   == 1))],\\\n",
    "                     [np.sum(np.array(full_catalog_df.loc[filter_AGN_p, 'radio_detect'] == 1) &\\\n",
    "                             np.array(full_catalog_df.loc[filter_AGN_p, 'pred_radio']   == 0)),\\\n",
    "                      np.sum(np.array(full_catalog_df.loc[filter_AGN_p, 'radio_detect'] == 1) &\\\n",
    "                             np.array(full_catalog_df.loc[filter_AGN_p, 'pred_radio']   == 1))]])"
   ]
  },
  {
   "cell_type": "markdown",
   "metadata": {},
   "source": [
    "Confusion matrix for radio AGN prediction on all sources (AGN/galaxies + unknown)"
   ]
  },
  {
   "cell_type": "code",
   "execution_count": 68,
   "metadata": {},
   "outputs": [],
   "source": [
    "# cm_radio_AGN = np.array([[np.sum(np.array(full_catalog_df['radio_AGN'] == 0) & np.array(full_catalog_df['pred_radio_AGN'] == 0)),\\\n",
    "#                           np.sum(np.array(full_catalog_df['radio_AGN'] == 0) & np.array(full_catalog_df['pred_radio_AGN'] == 1))],\\\n",
    "#                          [np.sum(np.array(full_catalog_df['radio_AGN'] == 1) & np.array(full_catalog_df['pred_radio_AGN'] == 0)),\\\n",
    "#                           np.sum(np.array(full_catalog_df['radio_AGN'] == 1) & np.array(full_catalog_df['pred_radio_AGN'] == 1))]])"
   ]
  },
  {
   "cell_type": "markdown",
   "metadata": {},
   "source": [
    "Confusion matrix for radio AGN prediction on confirmed sources (AGN/galaxies/stars)"
   ]
  },
  {
   "cell_type": "code",
   "execution_count": 69,
   "metadata": {},
   "outputs": [],
   "source": [
    "cm_rAGN = np.array([[np.sum(np.array(full_catalog_df.loc[:, 'radio_AGN'] == 0) &\\\n",
    "                            np.array(full_catalog_df.loc[:,'pred_radio_AGN'] == 0)),\\\n",
    "                     np.sum(np.array(full_catalog_df.loc[:, 'radio_AGN'] == 0) &\\\n",
    "                            np.array(full_catalog_df.loc[:,'pred_radio_AGN'] == 1))],\\\n",
    "                    [np.sum(np.array(full_catalog_df.loc[:, 'radio_AGN'] == 1) &\\\n",
    "                            np.array(full_catalog_df.loc[:,'pred_radio_AGN'] == 0)),\\\n",
    "                     np.sum(np.array(full_catalog_df.loc[:, 'radio_AGN'] == 1) &\\\n",
    "                            np.array(full_catalog_df.loc[:,'pred_radio_AGN'] == 1))]])"
   ]
  },
  {
   "cell_type": "markdown",
   "metadata": {},
   "source": [
    "Metrics from redshift predictions."
   ]
  },
  {
   "cell_type": "code",
   "execution_count": 70,
   "metadata": {
    "tags": []
   },
   "outputs": [],
   "source": [
    "sigma_mad_field            = sigma_mad(full_catalog_df.loc[filter_radio_AGN_p, 'Z'],    full_catalog_df.loc[filter_radio_AGN_p, 'pred_Z'])\n",
    "sigma_nmad_field           = sigma_nmad(full_catalog_df.loc[filter_radio_AGN_p, 'Z'],   full_catalog_df.loc[filter_radio_AGN_p, 'pred_Z'])\n",
    "sigma_z_field              = sigma_z(full_catalog_df.loc[filter_radio_AGN_p, 'Z'],      full_catalog_df.loc[filter_radio_AGN_p, 'pred_Z'])\n",
    "sigma_z_norm_field         = sigma_z_norm(full_catalog_df.loc[filter_radio_AGN_p, 'Z'], full_catalog_df.loc[filter_radio_AGN_p, 'pred_Z'])\n",
    "out_frac_field             = outlier_frac(full_catalog_df.loc[filter_radio_AGN_p, 'Z'], full_catalog_df.loc[filter_radio_AGN_p, 'pred_Z'])"
   ]
  },
  {
   "cell_type": "code",
   "execution_count": 71,
   "metadata": {
    "tags": []
   },
   "outputs": [],
   "source": [
    "temp_z_limit               = 3.6\n",
    "filt_high_z_rAGN_p         = filter_radio_AGN_p * (full_catalog_df.loc[:, 'pred_Z'] >= temp_z_limit)\n",
    "sigma_mad_field_hiz        = sigma_mad(full_catalog_df.loc[filt_high_z_rAGN_p, 'Z'],    full_catalog_df.loc[filt_high_z_rAGN_p, 'pred_Z'])\n",
    "sigma_nmad_field_hiz       = sigma_nmad(full_catalog_df.loc[filt_high_z_rAGN_p, 'Z'],   full_catalog_df.loc[filt_high_z_rAGN_p, 'pred_Z'])\n",
    "sigma_z_field_hiz          = sigma_z(full_catalog_df.loc[filt_high_z_rAGN_p, 'Z'],      full_catalog_df.loc[filt_high_z_rAGN_p, 'pred_Z'])\n",
    "sigma_z_norm_field_hiz     = sigma_z_norm(full_catalog_df.loc[filt_high_z_rAGN_p, 'Z'], full_catalog_df.loc[filt_high_z_rAGN_p, 'pred_Z'])\n",
    "out_frac_field_hiz         = outlier_frac(full_catalog_df.loc[filt_high_z_rAGN_p, 'Z'], full_catalog_df.loc[filt_high_z_rAGN_p, 'pred_Z'])"
   ]
  },
  {
   "cell_type": "markdown",
   "metadata": {},
   "source": [
    "Plot histograms for scores."
   ]
  },
  {
   "cell_type": "code",
   "execution_count": 72,
   "metadata": {
    "tags": []
   },
   "outputs": [
    {
     "data": {
      "image/png": "[encoded data removed]",
      "text/plain": [
       "<Figure size 700x500 with 1 Axes>"
      ]
     },
     "metadata": {},
     "output_type": "display_data"
    }
   ],
   "source": [
    "fig             = plt.figure(figsize=(7,5.0))\n",
    "ax1             = fig.add_subplot(111, xscale='linear', yscale='log')\n",
    "\n",
    "min_score  = np.nanmin(full_catalog_df.loc[:, 'Score_AGN'])\n",
    "max_score  = np.nanmax(full_catalog_df.loc[:, 'Score_AGN'])\n",
    "score_bins = np.linspace(min_score, max_score, 30)\n",
    "\n",
    "sample_size = np.sum(np.isfinite(full_catalog_df.loc[:, 'Score_AGN']))\n",
    "\n",
    "ax1.hist(full_catalog_df.loc[:, 'Score_AGN'], bins=score_bins, histtype='stepfilled', ec='k',\\\n",
    "         lw=3.5, color=cm.get_cmap('cet_gray')(0.8), alpha=1.0, label=f'{used_area} known sources\\nN={sample_size:,}')\n",
    "\n",
    "ax1.axvline(x=0.5, ls='--', c='k', lw=2.5)\n",
    "    \n",
    "ax1.tick_params(which='both', top=True, right=True, direction='in')\n",
    "ax1.tick_params(axis='both', which='major', labelsize=14)\n",
    "ax1.tick_params(which='major', length=8, width=1.5)\n",
    "ax1.tick_params(which='minor', length=4, width=1.5)\n",
    "ax1.set_xlabel('AGN/Galaxy class score', size=20)\n",
    "ax1.set_ylabel('Frequency', size=20)\n",
    "plt.setp(ax1.spines.values(), linewidth=3.5)\n",
    "plt.setp(ax1.spines.values(), linewidth=3.5)\n",
    "plt.legend(loc=1, fontsize=14)\n",
    "plt.grid(False)\n",
    "#ax1.set_aspect('equal', 'box')\n",
    "fig.tight_layout()\n",
    "if save_plot_flag:\n",
    "    plt.savefig(f'plots/hist_predicted_AGN_scores_known_{used_area}.pdf', bbox_inches='tight')\n",
    "plt.show()"
   ]
  },
  {
   "cell_type": "code",
   "execution_count": 73,
   "metadata": {
    "tags": []
   },
   "outputs": [
    {
     "data": {
      "image/png": "[encoded data removed]",
      "text/plain": [
       "<Figure size 700x500 with 1 Axes>"
      ]
     },
     "metadata": {},
     "output_type": "display_data"
    }
   ],
   "source": [
    "fig             = plt.figure(figsize=(7,5.0))\n",
    "ax1             = fig.add_subplot(111, xscale='linear', yscale='log')\n",
    "\n",
    "min_score  = np.nanmin(unknown_cat_df.loc[:, 'Score_AGN'])\n",
    "max_score  = np.nanmax(unknown_cat_df.loc[:, 'Score_AGN'])\n",
    "score_bins = np.linspace(min_score, max_score, 30)\n",
    "\n",
    "sample_size = np.sum(np.isfinite(unknown_cat_df.loc[:, 'Score_AGN']))\n",
    "\n",
    "ax1.hist(unknown_cat_df.loc[:, 'Score_AGN'], bins=score_bins, histtype='stepfilled', ec='k',\\\n",
    "         lw=3.5, color=cm.get_cmap('cet_gray')(0.8), alpha=1.0, label=f'{used_area} unknown sources\\nN={sample_size:,}')\n",
    "\n",
    "ax1.axvline(x=0.5, ls='--', c='k', lw=2.5)\n",
    "    \n",
    "ax1.tick_params(which='both', top=True, right=True, direction='in')\n",
    "ax1.tick_params(axis='both', which='major', labelsize=14)\n",
    "ax1.tick_params(which='major', length=8, width=1.5)\n",
    "ax1.tick_params(which='minor', length=4, width=1.5)\n",
    "ax1.set_xlabel('AGN/Galaxy class score', size=20)\n",
    "ax1.set_ylabel('Frequency', size=20)\n",
    "plt.setp(ax1.spines.values(), linewidth=3.5)\n",
    "plt.setp(ax1.spines.values(), linewidth=3.5)\n",
    "plt.legend(loc=1, fontsize=14)\n",
    "plt.grid(False)\n",
    "#ax1.set_aspect('equal', 'box')\n",
    "fig.tight_layout()\n",
    "if save_plot_flag:\n",
    "    plt.savefig(f'plots/hist_predicted_AGN_scores_unknown_{used_area}.pdf', bbox_inches='tight')\n",
    "plt.show()"
   ]
  },
  {
   "cell_type": "code",
   "execution_count": 74,
   "metadata": {
    "tags": []
   },
   "outputs": [
    {
     "data": {
      "image/png": "[encoded data removed]",
      "text/plain": [
       "<Figure size 700x500 with 1 Axes>"
      ]
     },
     "metadata": {},
     "output_type": "display_data"
    }
   ],
   "source": [
    "fig             = plt.figure(figsize=(7,5.0))\n",
    "ax1             = fig.add_subplot(111, xscale='linear', yscale='log')\n",
    "\n",
    "min_score       = np.nanmin(full_catalog_df.loc[:, 'Score_radio'])\n",
    "max_score       = np.nanmax(full_catalog_df.loc[:, 'Score_radio'])\n",
    "score_bins      = np.linspace(min_score, max_score, 30)\n",
    "\n",
    "sample_size_gal = np.sum(np.isfinite(full_catalog_df.loc[np.array(full_catalog_df.loc[:, 'class'] == 0), 'Score_radio']))\n",
    "sample_size_AGN = np.sum(np.isfinite(full_catalog_df.loc[np.array(full_catalog_df.loc[:, 'class'] == 1), 'Score_radio']))\n",
    "\n",
    "ax1.hist(full_catalog_df.loc[np.array(full_catalog_df.loc[:, 'class'] == 0), 'Score_radio'], bins=score_bins,\\\n",
    "         histtype='stepfilled', ec='k', lw=3.5, color=cm.get_cmap('cet_gray')(0.9), alpha=0.9,\\\n",
    "         label=f'True class: Galaxy\\nN={sample_size_gal:,}', zorder=np.ceil((sample_size_AGN/sample_size_gal)))\n",
    "ax1.hist(full_catalog_df.loc[np.array(full_catalog_df.loc[:, 'class'] == 1), 'Score_radio'], bins=score_bins,\\\n",
    "         histtype='stepfilled', ec='k', lw=3.5, color=cm.get_cmap('cet_gray')(0.7), alpha=0.9,\\\n",
    "         label=f'True class: AGN\\nN={sample_size_AGN:,}', zorder=np.ceil((sample_size_gal/sample_size_AGN)))\n",
    "\n",
    "ax1.axvline(x=0.5, ls='--', c='k', lw=2.5, zorder=10)\n",
    "    \n",
    "ax1.tick_params(which='both', top=True, right=True, direction='in')\n",
    "ax1.tick_params(axis='both', which='major', labelsize=14)\n",
    "ax1.tick_params(which='major', length=8, width=1.5)\n",
    "ax1.tick_params(which='minor', length=4, width=1.5)\n",
    "ax1.set_xlabel('Radio detection score', size=20)\n",
    "ax1.set_ylabel('Frequency', size=20)\n",
    "plt.setp(ax1.spines.values(), linewidth=3.5)\n",
    "plt.setp(ax1.spines.values(), linewidth=3.5)\n",
    "plt.legend(loc=1, fontsize=14)\n",
    "plt.grid(False)\n",
    "fig.tight_layout()\n",
    "#ax1.set_aspect('equal', 'box')\n",
    "if save_plot_flag:\n",
    "    plt.savefig(f'plots/hist_predicted_radio_scores_true_class_{used_area}.pdf', bbox_inches='tight')\n",
    "plt.show()"
   ]
  },
  {
   "cell_type": "code",
   "execution_count": 75,
   "metadata": {
    "jupyter": {
     "source_hidden": true
    },
    "tags": []
   },
   "outputs": [
    {
     "data": {
      "image/png": "[encoded data removed]",
      "text/plain": [
       "<Figure size 700x500 with 1 Axes>"
      ]
     },
     "metadata": {},
     "output_type": "display_data"
    }
   ],
   "source": [
    "fig             = plt.figure(figsize=(7,5.0))\n",
    "ax1             = fig.add_subplot(111, xscale='linear', yscale='log')\n",
    "\n",
    "min_score       = np.nanmin(full_catalog_df.loc[:, 'Score_radio'])\n",
    "max_score       = np.nanmax(full_catalog_df.loc[:, 'Score_radio'])\n",
    "score_bins      = np.linspace(min_score, max_score, 30)\n",
    "\n",
    "sample_size_gal = np.sum(np.isfinite(full_catalog_df.loc[np.array(full_catalog_df.loc[:, 'Score_AGN'] < threshold_AGN), 'Score_radio']))\n",
    "sample_size_AGN = np.sum(np.isfinite(full_catalog_df.loc[np.array(full_catalog_df.loc[:, 'Score_AGN'] >= threshold_AGN), 'Score_radio']))\n",
    "\n",
    "ax1.hist(full_catalog_df.loc[np.array(full_catalog_df.loc[:, 'Score_AGN'] < threshold_AGN), 'Score_radio'],\\\n",
    "         bins=score_bins, histtype='stepfilled', ec='k', lw=3.5, color=cm.get_cmap('cet_gray')(0.9), alpha=0.9,\\\n",
    "         label=f'Predicted class: Galaxy\\nN={sample_size_gal:,}', zorder=np.ceil((sample_size_AGN/sample_size_gal)))\n",
    "ax1.hist(full_catalog_df.loc[np.array(full_catalog_df.loc[:, 'Score_AGN'] >= threshold_AGN), 'Score_radio'],\\\n",
    "         bins=score_bins, histtype='stepfilled', ec='k', lw=3.5, color=cm.get_cmap('cet_gray')(0.7), alpha=0.9,\\\n",
    "         label=f'Predicted class: AGN\\nN={sample_size_AGN:,}', zorder=np.ceil((sample_size_gal/sample_size_AGN)))\n",
    "\n",
    "ax1.axvline(x=0.5, ls='--', c='k', lw=2.5, zorder=9)\n",
    "    \n",
    "ax1.tick_params(which='both', top=True, right=True, direction='in')\n",
    "ax1.tick_params(axis='both', which='major', labelsize=14)\n",
    "ax1.tick_params(which='major', length=8, width=1.5)\n",
    "ax1.tick_params(which='minor', length=4, width=1.5)\n",
    "ax1.set_xlabel('Radio detection score', size=20)\n",
    "ax1.set_ylabel('Frequency', size=20)\n",
    "plt.setp(ax1.spines.values(), linewidth=3.5)\n",
    "plt.setp(ax1.spines.values(), linewidth=3.5)\n",
    "plt.legend(loc=1, fontsize=14)\n",
    "plt.grid(False)\n",
    "#ax1.set_aspect('equal', 'box')\n",
    "fig.tight_layout()\n",
    "if save_plot_flag:\n",
    "    plt.savefig(f'plots/hist_predicted_radio_scores_predicted_class_{used_area}.pdf', bbox_inches='tight')\n",
    "plt.show()"
   ]
  },
  {
   "cell_type": "markdown",
   "metadata": {},
   "source": [
    "Plot histograms for predicted and original redshifts."
   ]
  },
  {
   "cell_type": "code",
   "execution_count": 76,
   "metadata": {
    "tags": []
   },
   "outputs": [
    {
     "data": {
      "image/png": "[encoded data removed]",
      "text/plain": [
       "<Figure size 700x500 with 1 Axes>"
      ]
     },
     "metadata": {},
     "output_type": "display_data"
    }
   ],
   "source": [
    "fig             = plt.figure(figsize=(7,5.0))\n",
    "ax1             = fig.add_subplot(111, xscale='linear', yscale='log')\n",
    "\n",
    "min_score       = np.nanmin(full_catalog_df.loc[:, 'Z'])\n",
    "max_score       = np.nanmax(full_catalog_df.loc[:, 'Z'])\n",
    "score_bins      = np.linspace(min_score, max_score, 30)\n",
    "\n",
    "sample_size_gal = np.sum(np.isfinite(full_catalog_df.loc[np.array(full_catalog_df.loc[:, 'class'] == 0), 'Z']))\n",
    "sample_size_AGN = np.sum(np.isfinite(full_catalog_df.loc[np.array(full_catalog_df.loc[:, 'class'] == 1), 'Z']))\n",
    "\n",
    "ax1.hist(full_catalog_df.loc[np.array(full_catalog_df.loc[:, 'class'] == 0), 'Z'], bins=score_bins,\\\n",
    "         histtype='stepfilled', ec='k', lw=3.5, color=cm.get_cmap('cet_gray')(0.9), alpha=0.9,\\\n",
    "         label=f'True class: Galaxy\\nN={sample_size_gal:,}', zorder=np.ceil((sample_size_AGN/sample_size_gal)))\n",
    "ax1.hist(full_catalog_df.loc[np.array(full_catalog_df.loc[:, 'class'] == 1), 'Z'], bins=score_bins,\\\n",
    "         histtype='stepfilled', ec='k', lw=3.5, color=cm.get_cmap('cet_gray')(0.7), alpha=0.9,\\\n",
    "         label=f'True class: AGN\\nN={sample_size_AGN:,}', zorder=np.ceil((sample_size_gal/sample_size_AGN)))\n",
    "    \n",
    "ax1.tick_params(which='both', top=True, right=True, direction='in')\n",
    "ax1.tick_params(axis='both', which='major', labelsize=14)\n",
    "ax1.tick_params(which='major', length=8, width=1.5)\n",
    "ax1.tick_params(which='minor', length=4, width=1.5)\n",
    "ax1.set_xlabel('Original redshift', size=20)\n",
    "ax1.set_ylabel('Frequency', size=20)\n",
    "plt.setp(ax1.spines.values(), linewidth=3.5)\n",
    "plt.setp(ax1.spines.values(), linewidth=3.5)\n",
    "plt.legend(loc=1, fontsize=14)\n",
    "plt.grid(False)\n",
    "#ax1.set_aspect('equal', 'box')\n",
    "fig.tight_layout()\n",
    "if save_plot_flag:\n",
    "    plt.savefig(f'plots/hist_original_redshift_true_class_{used_area}.pdf', bbox_inches='tight')\n",
    "plt.show()"
   ]
  },
  {
   "cell_type": "code",
   "execution_count": 77,
   "metadata": {
    "jupyter": {
     "source_hidden": true
    },
    "tags": []
   },
   "outputs": [
    {
     "data": {
      "image/png": "[encoded data removed]",
      "text/plain": [
       "<Figure size 700x500 with 1 Axes>"
      ]
     },
     "metadata": {},
     "output_type": "display_data"
    }
   ],
   "source": [
    "fig             = plt.figure(figsize=(7,5.0))\n",
    "ax1             = fig.add_subplot(111, xscale='linear', yscale='log')\n",
    "\n",
    "min_score       = np.nanmin(full_catalog_df.loc[:, 'Z'])\n",
    "max_score       = np.nanmax(full_catalog_df.loc[:, 'Z'])\n",
    "score_bins      = np.linspace(min_score, max_score, 30)\n",
    "\n",
    "sample_size_gal = np.sum(np.isfinite(full_catalog_df.loc[np.array(full_catalog_df.loc[:, 'Score_AGN'] <  threshold_AGN), 'Z']))\n",
    "sample_size_AGN = np.sum(np.isfinite(full_catalog_df.loc[np.array(full_catalog_df.loc[:, 'Score_AGN'] >= threshold_AGN), 'Z']))\n",
    "\n",
    "ax1.hist(full_catalog_df.loc[np.array(full_catalog_df.loc[:, 'Score_AGN'] < threshold_AGN), 'Z'],\\\n",
    "         bins=score_bins, histtype='stepfilled', ec='k', lw=3.5, color=cm.get_cmap('cet_gray')(0.9), alpha=0.9,\\\n",
    "         label=f'Predicted class: Galaxy\\nN={sample_size_gal:,}', zorder=np.ceil((sample_size_AGN/sample_size_gal)))\n",
    "ax1.hist(full_catalog_df.loc[np.array(full_catalog_df.loc[:, 'Score_AGN'] >= threshold_AGN), 'Z'],\\\n",
    "         bins=score_bins, histtype='stepfilled', ec='k', lw=3.5, color=cm.get_cmap('cet_gray')(0.7), alpha=0.9,\\\n",
    "         label=f'Predicted class: AGN\\nN={sample_size_AGN:,}', zorder=np.ceil((sample_size_gal/sample_size_AGN)))\n",
    "    \n",
    "ax1.tick_params(which='both', top=True, right=True, direction='in')\n",
    "ax1.tick_params(axis='both', which='major', labelsize=14)\n",
    "ax1.tick_params(which='major', length=8, width=1.5)\n",
    "ax1.tick_params(which='minor', length=4, width=1.5)\n",
    "ax1.set_xlabel('Original redshift', size=20)\n",
    "ax1.set_ylabel('Frequency', size=20)\n",
    "plt.setp(ax1.spines.values(), linewidth=3.5)\n",
    "plt.setp(ax1.spines.values(), linewidth=3.5)\n",
    "plt.legend(loc=1, fontsize=14)\n",
    "plt.grid(False)\n",
    "#ax1.set_aspect('equal', 'box')\n",
    "fig.tight_layout()\n",
    "if save_plot_flag:\n",
    "    plt.savefig(f'plots/hist_true_redshift_predicted_class_{used_area}.pdf', bbox_inches='tight')\n",
    "plt.show()"
   ]
  },
  {
   "cell_type": "code",
   "execution_count": 78,
   "metadata": {
    "jupyter": {
     "source_hidden": true
    },
    "tags": []
   },
   "outputs": [
    {
     "data": {
      "image/png": "[encoded data removed]",
      "text/plain": [
       "<Figure size 700x500 with 1 Axes>"
      ]
     },
     "metadata": {},
     "output_type": "display_data"
    }
   ],
   "source": [
    "fig             = plt.figure(figsize=(7,5.0))\n",
    "ax1             = fig.add_subplot(111, xscale='linear', yscale='log')\n",
    "\n",
    "min_score       = np.nanmin(full_catalog_df.loc[:, 'pred_Z'])\n",
    "max_score       = np.nanmax(full_catalog_df.loc[:, 'pred_Z'])\n",
    "score_bins      = np.linspace(min_score, max_score, 30)\n",
    "\n",
    "sample_size_gal = np.sum(np.isfinite(full_catalog_df.loc[np.array(full_catalog_df.loc[:, 'class'] == 0), 'pred_Z']))\n",
    "sample_size_AGN = np.sum(np.isfinite(full_catalog_df.loc[np.array(full_catalog_df.loc[:, 'class'] == 1), 'pred_Z']))\n",
    "\n",
    "ax1.hist(full_catalog_df.loc[np.array(full_catalog_df.loc[:, 'class'] == 0), 'pred_Z'], bins=score_bins,\\\n",
    "         histtype='stepfilled', ec='k', lw=3.5, color=cm.get_cmap('cet_gray')(0.9), alpha=0.9,\\\n",
    "         label=f'True class: Galaxy\\nN={sample_size_gal:,}', zorder=np.ceil((sample_size_AGN/sample_size_gal)))\n",
    "ax1.hist(full_catalog_df.loc[np.array(full_catalog_df.loc[:, 'class'] == 1), 'pred_Z'], bins=score_bins,\\\n",
    "         histtype='stepfilled', ec='k', lw=3.5, color=cm.get_cmap('cet_gray')(0.7), alpha=0.9,\\\n",
    "         label=f'True class: AGN\\nN={sample_size_AGN:,}', zorder=np.ceil((sample_size_gal/sample_size_AGN)))\n",
    "    \n",
    "ax1.tick_params(which='both', top=True, right=True, direction='in')\n",
    "ax1.tick_params(axis='both', which='major', labelsize=14)\n",
    "ax1.tick_params(which='major', length=8, width=1.5)\n",
    "ax1.tick_params(which='minor', length=4, width=1.5)\n",
    "ax1.set_xlabel('Predicted redshift', size=20)\n",
    "ax1.set_ylabel('Frequency', size=20)\n",
    "plt.setp(ax1.spines.values(), linewidth=3.5)\n",
    "plt.setp(ax1.spines.values(), linewidth=3.5)\n",
    "plt.legend(loc=1, fontsize=14)\n",
    "plt.grid(False)\n",
    "#ax1.set_aspect('equal', 'box')\n",
    "fig.tight_layout()\n",
    "if save_plot_flag:\n",
    "    plt.savefig(f'plots/hist_predicted_redshift_true_class_{used_area}.pdf', bbox_inches='tight')\n",
    "plt.show()"
   ]
  },
  {
   "cell_type": "code",
   "execution_count": 79,
   "metadata": {
    "jupyter": {
     "source_hidden": true
    },
    "tags": []
   },
   "outputs": [
    {
     "data": {
      "image/png": "[encoded data removed]",
      "text/plain": [
       "<Figure size 700x500 with 1 Axes>"
      ]
     },
     "metadata": {},
     "output_type": "display_data"
    }
   ],
   "source": [
    "fig             = plt.figure(figsize=(7,5.0))\n",
    "ax1             = fig.add_subplot(111, xscale='linear', yscale='log')\n",
    "\n",
    "min_score       = np.nanmin(full_catalog_df.loc[:, 'pred_Z'])\n",
    "max_score       = np.nanmax(full_catalog_df.loc[:, 'pred_Z'])\n",
    "score_bins      = np.linspace(min_score, max_score, 30)\n",
    "\n",
    "sample_size_gal = np.sum(np.isfinite(full_catalog_df.loc[np.array(full_catalog_df.loc[:, 'Score_AGN'] < threshold_AGN), 'pred_Z']))\n",
    "sample_size_AGN = np.sum(np.isfinite(full_catalog_df.loc[np.array(full_catalog_df.loc[:, 'Score_AGN'] >= threshold_AGN), 'pred_Z']))\n",
    "\n",
    "ax1.hist(full_catalog_df.loc[np.array(full_catalog_df.loc[:, 'Score_AGN'] < threshold_AGN), 'pred_Z'],\\\n",
    "         bins=score_bins, histtype='stepfilled', ec='k', lw=3.5, color=cm.get_cmap('cet_gray')(0.9), alpha=0.9,\\\n",
    "         label=f'Predicted class: Galaxy\\nN={sample_size_gal:,}', zorder=np.ceil((sample_size_AGN/sample_size_gal)))\n",
    "ax1.hist(full_catalog_df.loc[np.array(full_catalog_df.loc[:, 'Score_AGN'] >= threshold_AGN), 'pred_Z'],\\\n",
    "         bins=score_bins, histtype='stepfilled', ec='k', lw=3.5, color=cm.get_cmap('cet_gray')(0.7), alpha=0.9,\\\n",
    "         label=f'Predicted class: AGN\\nN={sample_size_AGN:,}', zorder=np.ceil((sample_size_gal/sample_size_AGN)))\n",
    "    \n",
    "ax1.tick_params(which='both', top=True, right=True, direction='in')\n",
    "ax1.tick_params(axis='both', which='major', labelsize=14)\n",
    "ax1.tick_params(which='major', length=8, width=1.5)\n",
    "ax1.tick_params(which='minor', length=4, width=1.5)\n",
    "ax1.set_xlabel('Predicted redshift', size=20)\n",
    "ax1.set_ylabel('Frequency', size=20)\n",
    "plt.setp(ax1.spines.values(), linewidth=3.5)\n",
    "plt.setp(ax1.spines.values(), linewidth=3.5)\n",
    "plt.legend(loc=1, fontsize=14)\n",
    "plt.grid(False)\n",
    "#ax1.set_aspect('equal', 'box')\n",
    "fig.tight_layout()\n",
    "if save_plot_flag:\n",
    "    plt.savefig(f'plots/hist_predicted_redshift_predicted_class_{used_area}.pdf', bbox_inches='tight')\n",
    "plt.show()"
   ]
  },
  {
   "cell_type": "markdown",
   "metadata": {},
   "source": [
    "### Select sources predicted to be Radio AGN"
   ]
  },
  {
   "cell_type": "code",
   "execution_count": 80,
   "metadata": {},
   "outputs": [
    {
     "data": {
      "text/html": [
       "<div>\n",
       "<style scoped>\n",
       "    .dataframe tbody tr th:only-of-type {\n",
       "        vertical-align: middle;\n",
       "    }\n",
       "\n",
       "    .dataframe tbody tr th {\n",
       "        vertical-align: top;\n",
       "    }\n",
       "\n",
       "    .dataframe thead th {\n",
       "        text-align: right;\n",
       "    }\n",
       "</style>\n",
       "<table border=\"1\" class=\"dataframe\">\n",
       "  <thead>\n",
       "    <tr style=\"text-align: right;\">\n",
       "      <th></th>\n",
       "      <th>class</th>\n",
       "      <th>pred_class</th>\n",
       "      <th>radio_detect</th>\n",
       "      <th>pred_radio</th>\n",
       "      <th>Z</th>\n",
       "      <th>pred_Z</th>\n",
       "    </tr>\n",
       "  </thead>\n",
       "  <tbody>\n",
       "    <tr>\n",
       "      <th>count</th>\n",
       "      <td>1053.000000</td>\n",
       "      <td>1053.0</td>\n",
       "      <td>1053.000000</td>\n",
       "      <td>1053.0</td>\n",
       "      <td>1006.000000</td>\n",
       "      <td>1053.000000</td>\n",
       "    </tr>\n",
       "    <tr>\n",
       "      <th>mean</th>\n",
       "      <td>0.966762</td>\n",
       "      <td>1.0</td>\n",
       "      <td>0.597341</td>\n",
       "      <td>1.0</td>\n",
       "      <td>1.021035</td>\n",
       "      <td>1.027611</td>\n",
       "    </tr>\n",
       "    <tr>\n",
       "      <th>std</th>\n",
       "      <td>0.179344</td>\n",
       "      <td>0.0</td>\n",
       "      <td>0.490666</td>\n",
       "      <td>0.0</td>\n",
       "      <td>0.834055</td>\n",
       "      <td>0.682773</td>\n",
       "    </tr>\n",
       "    <tr>\n",
       "      <th>min</th>\n",
       "      <td>0.000000</td>\n",
       "      <td>1.0</td>\n",
       "      <td>0.000000</td>\n",
       "      <td>1.0</td>\n",
       "      <td>0.018000</td>\n",
       "      <td>0.040300</td>\n",
       "    </tr>\n",
       "    <tr>\n",
       "      <th>25%</th>\n",
       "      <td>1.000000</td>\n",
       "      <td>1.0</td>\n",
       "      <td>0.000000</td>\n",
       "      <td>1.0</td>\n",
       "      <td>0.346500</td>\n",
       "      <td>0.495400</td>\n",
       "    </tr>\n",
       "    <tr>\n",
       "      <th>50%</th>\n",
       "      <td>1.000000</td>\n",
       "      <td>1.0</td>\n",
       "      <td>1.000000</td>\n",
       "      <td>1.0</td>\n",
       "      <td>0.842500</td>\n",
       "      <td>0.957600</td>\n",
       "    </tr>\n",
       "    <tr>\n",
       "      <th>75%</th>\n",
       "      <td>1.000000</td>\n",
       "      <td>1.0</td>\n",
       "      <td>1.000000</td>\n",
       "      <td>1.0</td>\n",
       "      <td>1.489000</td>\n",
       "      <td>1.447200</td>\n",
       "    </tr>\n",
       "    <tr>\n",
       "      <th>max</th>\n",
       "      <td>1.000000</td>\n",
       "      <td>1.0</td>\n",
       "      <td>1.000000</td>\n",
       "      <td>1.0</td>\n",
       "      <td>5.469000</td>\n",
       "      <td>4.054800</td>\n",
       "    </tr>\n",
       "  </tbody>\n",
       "</table>\n",
       "</div>"
      ],
      "text/plain": [
       "             class  pred_class  radio_detect  pred_radio            Z  \\\n",
       "count  1053.000000      1053.0   1053.000000      1053.0  1006.000000   \n",
       "mean      0.966762         1.0      0.597341         1.0     1.021035   \n",
       "std       0.179344         0.0      0.490666         0.0     0.834055   \n",
       "min       0.000000         1.0      0.000000         1.0     0.018000   \n",
       "25%       1.000000         1.0      0.000000         1.0     0.346500   \n",
       "50%       1.000000         1.0      1.000000         1.0     0.842500   \n",
       "75%       1.000000         1.0      1.000000         1.0     1.489000   \n",
       "max       1.000000         1.0      1.000000         1.0     5.469000   \n",
       "\n",
       "            pred_Z  \n",
       "count  1053.000000  \n",
       "mean      1.027611  \n",
       "std       0.682773  \n",
       "min       0.040300  \n",
       "25%       0.495400  \n",
       "50%       0.957600  \n",
       "75%       1.447200  \n",
       "max       4.054800  "
      ]
     },
     "execution_count": 80,
     "metadata": {},
     "output_type": "execute_result"
    }
   ],
   "source": [
    "displayed_cols = ['is_str', 'pred_star', 'class', 'pred_class', 'radio_detect', 'pred_radio', 'Z', 'pred_Z']\n",
    "if not use_zeroth_model:\n",
    "    displayed_cols.remove('is_str')\n",
    "    displayed_cols.remove('pred_star')\n",
    "full_catalog_df.loc[filter_radio_AGN_p, displayed_cols].describe()"
   ]
  },
  {
   "cell_type": "markdown",
   "metadata": {},
   "source": [
    "Add individual metrics for redshift"
   ]
  },
  {
   "cell_type": "code",
   "execution_count": 81,
   "metadata": {
    "tags": []
   },
   "outputs": [],
   "source": [
    "full_catalog_df['Delta_z_N'] = np.around((full_catalog_df.loc[:, 'pred_Z'] - full_catalog_df.loc[:, 'Z']) /\\\n",
    "                            (1 + full_catalog_df.loc[:, 'Z']), decimals=3)\n",
    "\n",
    "full_catalog_df['sigma_NMAD'] = np.around(1.48 * np.abs(full_catalog_df.loc[:, 'pred_Z'] - full_catalog_df.loc[:, 'Z']) /\\\n",
    "                            (1 + full_catalog_df.loc[:, 'Z']), decimals=3)"
   ]
  },
  {
   "cell_type": "markdown",
   "metadata": {},
   "source": [
    "Numerical summary."
   ]
  },
  {
   "cell_type": "code",
   "execution_count": 82,
   "metadata": {
    "tags": []
   },
   "outputs": [],
   "source": [
    "str_0_t    = f'Out of {total_size:,} initial sources in {used_area},\\n'\n",
    "str_1_t    = f'{num_gal_t:,} are confirmed to be galaxies. On the other side,\\n'\n",
    "str_2_t    = f'{num_str_t:,} are listed as SDSS-DR16 stars and {num_AGN_t:,} are MQC AGN.\\n'\n",
    "str_3_t    = f'Also, {num_radio_AGN_t:,} AGN are detected in radio.'\n",
    "\n",
    "str_0_p    = f'Out of {num_radio_AGN_t:,} initial radio-detected AGN in {used_area},\\n'\n",
    "str_1_p    = f'{num_gal_p:,} are predicted to be galaxies. On the other side,\\n'\n",
    "str_2_p    = f'{num_AGN_p:,} are predicted to be AGN. From the predicted AGN,\\n'\n",
    "str_3_p    = f'{num_radio_AGN_p:,} are predicted to be detected in radio.'\n",
    "\n",
    "str_0_rAGN = f'{num_radio_AGN_p:,} sources were predicted to be Radio AGN in {used_area}.\\n'\n",
    "str_1_rAGN = f'{num_rAGN_MQC_p:,} of them were listed in MQC.\\n'\n",
    "str_2_rAGN = f'{num_rAGN_gal_p:,} of them are listed as SDSS-DR16 galaxies.\\n'\n",
    "str_3_rAGN = f'{num_rAGN_str_p:,} of them are listed as SDSS-DR16 stars.\\n'\n",
    "str_4_rAGN = f'{num_rAGN_rad_p:,} of them have radio detections.\\n'\n",
    "str_5_rAGN = f'Thus, {num_new_rAGN_p:,} sources are new radio AGN.'"
   ]
  },
  {
   "cell_type": "code",
   "execution_count": 83,
   "metadata": {
    "tags": []
   },
   "outputs": [
    {
     "name": "stdout",
     "output_type": "stream",
     "text": [
      "------------------------------------------------------------\n",
      "Out of 3,600 initial sources in S82,\n",
      "504 are confirmed to be galaxies. On the other side,\n",
      "0 are listed as SDSS-DR16 stars and 3,096 are MQC AGN.\n",
      "Also, 1,163 AGN are detected in radio.\n",
      "------------------------------------------------------------\n",
      "Out of 1,163 initial radio-detected AGN in S82,\n",
      "660 are predicted to be galaxies. On the other side,\n",
      "2,940 are predicted to be AGN. From the predicted AGN,\n",
      "1,053 are predicted to be detected in radio.\n",
      "------------------------------------------------------------\n",
      "1,053 sources were predicted to be Radio AGN in S82.\n",
      "1,018 of them were listed in MQC.\n",
      "35 of them are listed as SDSS-DR16 galaxies.\n",
      "0 of them are listed as SDSS-DR16 stars.\n",
      "629 of them have radio detections.\n",
      "Thus, -110 sources are new radio AGN.\n",
      "------------------------------------------------------------\n"
     ]
    }
   ],
   "source": [
    "print('-' * 60)\n",
    "print(str_0_t + str_1_t + str_2_t + str_3_t)\n",
    "print('-' * 60)\n",
    "print(str_0_p + str_1_p + str_2_p + str_3_p)\n",
    "print('-' * 60)\n",
    "print(str_0_rAGN + str_1_rAGN + str_2_rAGN + str_3_rAGN + str_4_rAGN + str_5_rAGN)\n",
    "print('-' * 60)"
   ]
  },
  {
   "cell_type": "code",
   "execution_count": 84,
   "metadata": {},
   "outputs": [],
   "source": [
    "show_columns = ['Name', 'RA_ICRS', 'DE_ICRS', 'TYPE', 'band_num', 'class', 'pred_class', 'Score_AGN',\\\n",
    "                'radio_detect', 'pred_radio', 'scaled_score_radio', 'scaled_score_rAGN', 'Z', 'pred_Z']\n",
    "\n",
    "cols_4_table = ['RA_ICRS', 'DE_ICRS', 'band_num', 'class', 'pred_class', 'Score_AGN', 'radio_detect', 'pred_radio', 'Score_radio', 'Score_rAGN', 'Z', 'pred_Z']"
   ]
  },
  {
   "cell_type": "code",
   "execution_count": 85,
   "metadata": {},
   "outputs": [],
   "source": [
    "cols_4_export_S82    = ['Total_flux_VLASS', 'Fint_VLAS82', 'Stotal_TGSS', 'FEP']\n",
    "cols_4_export_HETDEX = ['Total_flux_VLASS', 'Sint_LOFAR', 'Stotal_TGSS', 'FEP', 'TotalFlux_LoLSS']\n",
    "cols_4_export_COSMOS = ['Total_flux_VLASS', 'Stotal_TGSS', 'FEP', 'Flux_COSMOSVLA3']\n",
    "\n",
    "cols_4_exp_all       = {'S82': cols_4_export_S82, 'HETDEX': cols_4_export_HETDEX, 'COSMOS': cols_4_export_COSMOS}\n",
    "\n",
    "cols_photo           = ['W1mproPM', 'W2mproPM', 'gmag', 'rmag', 'imag', 'zmag', 'ymag', 'FUVmag', 'NUVmag',\\\n",
    "                        'Jmag', 'Hmag', 'Kmag', 'W3mag', 'W4mag']\n",
    "\n",
    "cols_4_export        = show_columns + cols_4_exp_all[used_area] + cols_photo"
   ]
  },
  {
   "cell_type": "code",
   "execution_count": 86,
   "metadata": {},
   "outputs": [],
   "source": [
    "filter_high_z   = full_catalog_df.loc[:, 'pred_Z']    >= 3.7"
   ]
  },
  {
   "cell_type": "markdown",
   "metadata": {},
   "source": [
    "Display properties of newly-predicted Radio AGN."
   ]
  },
  {
   "cell_type": "code",
   "execution_count": 87,
   "metadata": {},
   "outputs": [
    {
     "data": {
      "text/html": [
       "<div>\n",
       "<style scoped>\n",
       "    .dataframe tbody tr th:only-of-type {\n",
       "        vertical-align: middle;\n",
       "    }\n",
       "\n",
       "    .dataframe tbody tr th {\n",
       "        vertical-align: top;\n",
       "    }\n",
       "\n",
       "    .dataframe thead th {\n",
       "        text-align: right;\n",
       "    }\n",
       "</style>\n",
       "<table border=\"1\" class=\"dataframe\">\n",
       "  <thead>\n",
       "    <tr style=\"text-align: right;\">\n",
       "      <th></th>\n",
       "      <th>RA_ICRS</th>\n",
       "      <th>DE_ICRS</th>\n",
       "      <th>band_num</th>\n",
       "      <th>class</th>\n",
       "      <th>pred_class</th>\n",
       "      <th>Score_AGN</th>\n",
       "      <th>radio_detect</th>\n",
       "      <th>pred_radio</th>\n",
       "      <th>Score_radio</th>\n",
       "      <th>Score_rAGN</th>\n",
       "      <th>Z</th>\n",
       "      <th>pred_Z</th>\n",
       "    </tr>\n",
       "  </thead>\n",
       "  <tbody>\n",
       "    <tr>\n",
       "      <th>221323</th>\n",
       "      <td>32.433456</td>\n",
       "      <td>0.351338</td>\n",
       "      <td>9</td>\n",
       "      <td>0.0</td>\n",
       "      <td>1</td>\n",
       "      <td>0.484451</td>\n",
       "      <td>0</td>\n",
       "      <td>1</td>\n",
       "      <td>0.499980</td>\n",
       "      <td>0.242216</td>\n",
       "      <td>0.64806</td>\n",
       "      <td>4.0548</td>\n",
       "    </tr>\n",
       "    <tr>\n",
       "      <th>60228</th>\n",
       "      <td>16.550922</td>\n",
       "      <td>0.322279</td>\n",
       "      <td>11</td>\n",
       "      <td>1.0</td>\n",
       "      <td>1</td>\n",
       "      <td>0.948111</td>\n",
       "      <td>0</td>\n",
       "      <td>1</td>\n",
       "      <td>0.500023</td>\n",
       "      <td>0.474077</td>\n",
       "      <td>3.11000</td>\n",
       "      <td>3.8282</td>\n",
       "    </tr>\n",
       "    <tr>\n",
       "      <th>321345</th>\n",
       "      <td>26.583260</td>\n",
       "      <td>-0.774685</td>\n",
       "      <td>11</td>\n",
       "      <td>1.0</td>\n",
       "      <td>1</td>\n",
       "      <td>0.917496</td>\n",
       "      <td>0</td>\n",
       "      <td>1</td>\n",
       "      <td>0.500004</td>\n",
       "      <td>0.458752</td>\n",
       "      <td>3.17400</td>\n",
       "      <td>3.2635</td>\n",
       "    </tr>\n",
       "    <tr>\n",
       "      <th>249970</th>\n",
       "      <td>345.687500</td>\n",
       "      <td>-0.556187</td>\n",
       "      <td>11</td>\n",
       "      <td>1.0</td>\n",
       "      <td>1</td>\n",
       "      <td>0.847198</td>\n",
       "      <td>0</td>\n",
       "      <td>1</td>\n",
       "      <td>0.500004</td>\n",
       "      <td>0.423602</td>\n",
       "      <td>3.76100</td>\n",
       "      <td>3.1292</td>\n",
       "    </tr>\n",
       "    <tr>\n",
       "      <th>320769</th>\n",
       "      <td>349.216858</td>\n",
       "      <td>0.857208</td>\n",
       "      <td>11</td>\n",
       "      <td>1.0</td>\n",
       "      <td>1</td>\n",
       "      <td>0.933817</td>\n",
       "      <td>0</td>\n",
       "      <td>1</td>\n",
       "      <td>0.500011</td>\n",
       "      <td>0.466919</td>\n",
       "      <td>3.23000</td>\n",
       "      <td>3.0918</td>\n",
       "    </tr>\n",
       "    <tr>\n",
       "      <th>271070</th>\n",
       "      <td>18.749750</td>\n",
       "      <td>-0.690015</td>\n",
       "      <td>11</td>\n",
       "      <td>0.0</td>\n",
       "      <td>1</td>\n",
       "      <td>0.821681</td>\n",
       "      <td>0</td>\n",
       "      <td>1</td>\n",
       "      <td>0.500097</td>\n",
       "      <td>0.410920</td>\n",
       "      <td>0.20897</td>\n",
       "      <td>3.0042</td>\n",
       "    </tr>\n",
       "    <tr>\n",
       "      <th>260607</th>\n",
       "      <td>345.756317</td>\n",
       "      <td>0.615221</td>\n",
       "      <td>11</td>\n",
       "      <td>1.0</td>\n",
       "      <td>1</td>\n",
       "      <td>0.943059</td>\n",
       "      <td>0</td>\n",
       "      <td>1</td>\n",
       "      <td>0.500011</td>\n",
       "      <td>0.471540</td>\n",
       "      <td>2.35100</td>\n",
       "      <td>2.8309</td>\n",
       "    </tr>\n",
       "    <tr>\n",
       "      <th>351903</th>\n",
       "      <td>19.751310</td>\n",
       "      <td>-0.032450</td>\n",
       "      <td>11</td>\n",
       "      <td>1.0</td>\n",
       "      <td>1</td>\n",
       "      <td>0.950594</td>\n",
       "      <td>0</td>\n",
       "      <td>1</td>\n",
       "      <td>0.500016</td>\n",
       "      <td>0.475312</td>\n",
       "      <td>2.75000</td>\n",
       "      <td>2.7488</td>\n",
       "    </tr>\n",
       "    <tr>\n",
       "      <th>263011</th>\n",
       "      <td>17.094646</td>\n",
       "      <td>0.196575</td>\n",
       "      <td>11</td>\n",
       "      <td>1.0</td>\n",
       "      <td>1</td>\n",
       "      <td>0.446222</td>\n",
       "      <td>0</td>\n",
       "      <td>1</td>\n",
       "      <td>0.500006</td>\n",
       "      <td>0.223113</td>\n",
       "      <td>3.71000</td>\n",
       "      <td>2.7100</td>\n",
       "    </tr>\n",
       "    <tr>\n",
       "      <th>341065</th>\n",
       "      <td>337.721619</td>\n",
       "      <td>0.170533</td>\n",
       "      <td>11</td>\n",
       "      <td>1.0</td>\n",
       "      <td>1</td>\n",
       "      <td>0.946570</td>\n",
       "      <td>0</td>\n",
       "      <td>1</td>\n",
       "      <td>0.500003</td>\n",
       "      <td>0.473288</td>\n",
       "      <td>3.38200</td>\n",
       "      <td>2.6768</td>\n",
       "    </tr>\n",
       "    <tr>\n",
       "      <th>179866</th>\n",
       "      <td>31.346783</td>\n",
       "      <td>-1.288134</td>\n",
       "      <td>11</td>\n",
       "      <td>1.0</td>\n",
       "      <td>1</td>\n",
       "      <td>0.944109</td>\n",
       "      <td>0</td>\n",
       "      <td>1</td>\n",
       "      <td>0.500011</td>\n",
       "      <td>0.472065</td>\n",
       "      <td>2.31000</td>\n",
       "      <td>2.6714</td>\n",
       "    </tr>\n",
       "    <tr>\n",
       "      <th>94386</th>\n",
       "      <td>335.210785</td>\n",
       "      <td>0.996780</td>\n",
       "      <td>11</td>\n",
       "      <td>1.0</td>\n",
       "      <td>1</td>\n",
       "      <td>0.897767</td>\n",
       "      <td>0</td>\n",
       "      <td>1</td>\n",
       "      <td>0.500011</td>\n",
       "      <td>0.448893</td>\n",
       "      <td>2.60100</td>\n",
       "      <td>2.6240</td>\n",
       "    </tr>\n",
       "    <tr>\n",
       "      <th>72596</th>\n",
       "      <td>343.182526</td>\n",
       "      <td>-0.697061</td>\n",
       "      <td>11</td>\n",
       "      <td>1.0</td>\n",
       "      <td>1</td>\n",
       "      <td>0.927452</td>\n",
       "      <td>0</td>\n",
       "      <td>1</td>\n",
       "      <td>0.500009</td>\n",
       "      <td>0.463734</td>\n",
       "      <td>2.95600</td>\n",
       "      <td>2.5977</td>\n",
       "    </tr>\n",
       "    <tr>\n",
       "      <th>151024</th>\n",
       "      <td>342.564575</td>\n",
       "      <td>1.080506</td>\n",
       "      <td>6</td>\n",
       "      <td>0.0</td>\n",
       "      <td>1</td>\n",
       "      <td>0.608581</td>\n",
       "      <td>0</td>\n",
       "      <td>1</td>\n",
       "      <td>0.500001</td>\n",
       "      <td>0.304291</td>\n",
       "      <td>0.32432</td>\n",
       "      <td>2.5517</td>\n",
       "    </tr>\n",
       "    <tr>\n",
       "      <th>351352</th>\n",
       "      <td>23.709490</td>\n",
       "      <td>0.593651</td>\n",
       "      <td>14</td>\n",
       "      <td>1.0</td>\n",
       "      <td>1</td>\n",
       "      <td>0.950089</td>\n",
       "      <td>0</td>\n",
       "      <td>1</td>\n",
       "      <td>0.500011</td>\n",
       "      <td>0.475055</td>\n",
       "      <td>2.68700</td>\n",
       "      <td>2.5503</td>\n",
       "    </tr>\n",
       "    <tr>\n",
       "      <th>262522</th>\n",
       "      <td>349.415649</td>\n",
       "      <td>-0.955410</td>\n",
       "      <td>11</td>\n",
       "      <td>1.0</td>\n",
       "      <td>1</td>\n",
       "      <td>0.950389</td>\n",
       "      <td>0</td>\n",
       "      <td>1</td>\n",
       "      <td>0.500011</td>\n",
       "      <td>0.475206</td>\n",
       "      <td>2.29100</td>\n",
       "      <td>2.5188</td>\n",
       "    </tr>\n",
       "    <tr>\n",
       "      <th>270357</th>\n",
       "      <td>334.009674</td>\n",
       "      <td>0.974047</td>\n",
       "      <td>16</td>\n",
       "      <td>1.0</td>\n",
       "      <td>1</td>\n",
       "      <td>0.937133</td>\n",
       "      <td>0</td>\n",
       "      <td>1</td>\n",
       "      <td>0.500100</td>\n",
       "      <td>0.468660</td>\n",
       "      <td>2.86400</td>\n",
       "      <td>2.5155</td>\n",
       "    </tr>\n",
       "    <tr>\n",
       "      <th>302902</th>\n",
       "      <td>24.262678</td>\n",
       "      <td>-0.704125</td>\n",
       "      <td>11</td>\n",
       "      <td>1.0</td>\n",
       "      <td>1</td>\n",
       "      <td>0.949983</td>\n",
       "      <td>0</td>\n",
       "      <td>1</td>\n",
       "      <td>0.500020</td>\n",
       "      <td>0.475011</td>\n",
       "      <td>2.50200</td>\n",
       "      <td>2.4977</td>\n",
       "    </tr>\n",
       "    <tr>\n",
       "      <th>59574</th>\n",
       "      <td>14.436190</td>\n",
       "      <td>1.138420</td>\n",
       "      <td>11</td>\n",
       "      <td>1.0</td>\n",
       "      <td>1</td>\n",
       "      <td>0.950178</td>\n",
       "      <td>0</td>\n",
       "      <td>1</td>\n",
       "      <td>0.500042</td>\n",
       "      <td>0.475129</td>\n",
       "      <td>2.76200</td>\n",
       "      <td>2.4800</td>\n",
       "    </tr>\n",
       "    <tr>\n",
       "      <th>249485</th>\n",
       "      <td>334.485443</td>\n",
       "      <td>0.595668</td>\n",
       "      <td>7</td>\n",
       "      <td>1.0</td>\n",
       "      <td>1</td>\n",
       "      <td>0.948515</td>\n",
       "      <td>0</td>\n",
       "      <td>1</td>\n",
       "      <td>0.499972</td>\n",
       "      <td>0.474231</td>\n",
       "      <td>2.93500</td>\n",
       "      <td>2.4406</td>\n",
       "    </tr>\n",
       "  </tbody>\n",
       "</table>\n",
       "</div>"
      ],
      "text/plain": [
       "           RA_ICRS   DE_ICRS  band_num  class  pred_class  Score_AGN  \\\n",
       "221323   32.433456  0.351338         9    0.0           1   0.484451   \n",
       "60228    16.550922  0.322279        11    1.0           1   0.948111   \n",
       "321345   26.583260 -0.774685        11    1.0           1   0.917496   \n",
       "249970  345.687500 -0.556187        11    1.0           1   0.847198   \n",
       "320769  349.216858  0.857208        11    1.0           1   0.933817   \n",
       "271070   18.749750 -0.690015        11    0.0           1   0.821681   \n",
       "260607  345.756317  0.615221        11    1.0           1   0.943059   \n",
       "351903   19.751310 -0.032450        11    1.0           1   0.950594   \n",
       "263011   17.094646  0.196575        11    1.0           1   0.446222   \n",
       "341065  337.721619  0.170533        11    1.0           1   0.946570   \n",
       "179866   31.346783 -1.288134        11    1.0           1   0.944109   \n",
       "94386   335.210785  0.996780        11    1.0           1   0.897767   \n",
       "72596   343.182526 -0.697061        11    1.0           1   0.927452   \n",
       "151024  342.564575  1.080506         6    0.0           1   0.608581   \n",
       "351352   23.709490  0.593651        14    1.0           1   0.950089   \n",
       "262522  349.415649 -0.955410        11    1.0           1   0.950389   \n",
       "270357  334.009674  0.974047        16    1.0           1   0.937133   \n",
       "302902   24.262678 -0.704125        11    1.0           1   0.949983   \n",
       "59574    14.436190  1.138420        11    1.0           1   0.950178   \n",
       "249485  334.485443  0.595668         7    1.0           1   0.948515   \n",
       "\n",
       "        radio_detect  pred_radio  Score_radio  Score_rAGN        Z  pred_Z  \n",
       "221323             0           1     0.499980    0.242216  0.64806  4.0548  \n",
       "60228              0           1     0.500023    0.474077  3.11000  3.8282  \n",
       "321345             0           1     0.500004    0.458752  3.17400  3.2635  \n",
       "249970             0           1     0.500004    0.423602  3.76100  3.1292  \n",
       "320769             0           1     0.500011    0.466919  3.23000  3.0918  \n",
       "271070             0           1     0.500097    0.410920  0.20897  3.0042  \n",
       "260607             0           1     0.500011    0.471540  2.35100  2.8309  \n",
       "351903             0           1     0.500016    0.475312  2.75000  2.7488  \n",
       "263011             0           1     0.500006    0.223113  3.71000  2.7100  \n",
       "341065             0           1     0.500003    0.473288  3.38200  2.6768  \n",
       "179866             0           1     0.500011    0.472065  2.31000  2.6714  \n",
       "94386              0           1     0.500011    0.448893  2.60100  2.6240  \n",
       "72596              0           1     0.500009    0.463734  2.95600  2.5977  \n",
       "151024             0           1     0.500001    0.304291  0.32432  2.5517  \n",
       "351352             0           1     0.500011    0.475055  2.68700  2.5503  \n",
       "262522             0           1     0.500011    0.475206  2.29100  2.5188  \n",
       "270357             0           1     0.500100    0.468660  2.86400  2.5155  \n",
       "302902             0           1     0.500020    0.475011  2.50200  2.4977  \n",
       "59574              0           1     0.500042    0.475129  2.76200  2.4800  \n",
       "249485             0           1     0.499972    0.474231  2.93500  2.4406  "
      ]
     },
     "metadata": {},
     "output_type": "display_data"
    }
   ],
   "source": [
    "display(full_catalog_df.loc[filt_new_rAGN_p, cols_4_table].sort_values(by=['pred_Z'], ascending=False).head(20))"
   ]
  },
  {
   "cell_type": "markdown",
   "metadata": {},
   "source": [
    "Display properties of old Radio AGN."
   ]
  },
  {
   "cell_type": "code",
   "execution_count": 88,
   "metadata": {},
   "outputs": [
    {
     "data": {
      "text/html": [
       "<div>\n",
       "<style scoped>\n",
       "    .dataframe tbody tr th:only-of-type {\n",
       "        vertical-align: middle;\n",
       "    }\n",
       "\n",
       "    .dataframe tbody tr th {\n",
       "        vertical-align: top;\n",
       "    }\n",
       "\n",
       "    .dataframe thead th {\n",
       "        text-align: right;\n",
       "    }\n",
       "</style>\n",
       "<table border=\"1\" class=\"dataframe\">\n",
       "  <thead>\n",
       "    <tr style=\"text-align: right;\">\n",
       "      <th></th>\n",
       "      <th>RA_ICRS</th>\n",
       "      <th>DE_ICRS</th>\n",
       "      <th>band_num</th>\n",
       "      <th>class</th>\n",
       "      <th>pred_class</th>\n",
       "      <th>Score_AGN</th>\n",
       "      <th>radio_detect</th>\n",
       "      <th>pred_radio</th>\n",
       "      <th>Score_radio</th>\n",
       "      <th>Score_rAGN</th>\n",
       "      <th>Z</th>\n",
       "      <th>pred_Z</th>\n",
       "    </tr>\n",
       "  </thead>\n",
       "  <tbody>\n",
       "    <tr>\n",
       "      <th>285477</th>\n",
       "      <td>32.679794</td>\n",
       "      <td>-0.305035</td>\n",
       "      <td>6</td>\n",
       "      <td>1.0</td>\n",
       "      <td>0</td>\n",
       "      <td>0.297608</td>\n",
       "      <td>1</td>\n",
       "      <td>0</td>\n",
       "      <td>0.499970</td>\n",
       "      <td>0.148795</td>\n",
       "      <td>4.650</td>\n",
       "      <td>4.5717</td>\n",
       "    </tr>\n",
       "    <tr>\n",
       "      <th>237511</th>\n",
       "      <td>11.019073</td>\n",
       "      <td>-0.683061</td>\n",
       "      <td>9</td>\n",
       "      <td>1.0</td>\n",
       "      <td>0</td>\n",
       "      <td>0.082265</td>\n",
       "      <td>1</td>\n",
       "      <td>0</td>\n",
       "      <td>0.499956</td>\n",
       "      <td>0.041129</td>\n",
       "      <td>4.420</td>\n",
       "      <td>4.4365</td>\n",
       "    </tr>\n",
       "    <tr>\n",
       "      <th>146413</th>\n",
       "      <td>22.075430</td>\n",
       "      <td>1.126324</td>\n",
       "      <td>10</td>\n",
       "      <td>1.0</td>\n",
       "      <td>1</td>\n",
       "      <td>0.643776</td>\n",
       "      <td>1</td>\n",
       "      <td>1</td>\n",
       "      <td>0.500020</td>\n",
       "      <td>0.321901</td>\n",
       "      <td>3.630</td>\n",
       "      <td>4.0210</td>\n",
       "    </tr>\n",
       "    <tr>\n",
       "      <th>256201</th>\n",
       "      <td>22.784021</td>\n",
       "      <td>0.880105</td>\n",
       "      <td>11</td>\n",
       "      <td>1.0</td>\n",
       "      <td>1</td>\n",
       "      <td>0.355430</td>\n",
       "      <td>1</td>\n",
       "      <td>1</td>\n",
       "      <td>0.499972</td>\n",
       "      <td>0.177705</td>\n",
       "      <td>4.202</td>\n",
       "      <td>3.8449</td>\n",
       "    </tr>\n",
       "    <tr>\n",
       "      <th>251848</th>\n",
       "      <td>338.898285</td>\n",
       "      <td>0.600602</td>\n",
       "      <td>7</td>\n",
       "      <td>1.0</td>\n",
       "      <td>0</td>\n",
       "      <td>0.234895</td>\n",
       "      <td>1</td>\n",
       "      <td>0</td>\n",
       "      <td>0.499936</td>\n",
       "      <td>0.117432</td>\n",
       "      <td>3.878</td>\n",
       "      <td>3.5755</td>\n",
       "    </tr>\n",
       "    <tr>\n",
       "      <th>305439</th>\n",
       "      <td>331.565063</td>\n",
       "      <td>-0.383915</td>\n",
       "      <td>6</td>\n",
       "      <td>1.0</td>\n",
       "      <td>1</td>\n",
       "      <td>0.371543</td>\n",
       "      <td>1</td>\n",
       "      <td>0</td>\n",
       "      <td>0.499879</td>\n",
       "      <td>0.185727</td>\n",
       "      <td>3.530</td>\n",
       "      <td>3.4977</td>\n",
       "    </tr>\n",
       "    <tr>\n",
       "      <th>310600</th>\n",
       "      <td>348.149658</td>\n",
       "      <td>-0.855208</td>\n",
       "      <td>6</td>\n",
       "      <td>1.0</td>\n",
       "      <td>0</td>\n",
       "      <td>0.128715</td>\n",
       "      <td>1</td>\n",
       "      <td>0</td>\n",
       "      <td>0.499876</td>\n",
       "      <td>0.064341</td>\n",
       "      <td>NaN</td>\n",
       "      <td>3.2572</td>\n",
       "    </tr>\n",
       "    <tr>\n",
       "      <th>262137</th>\n",
       "      <td>29.582396</td>\n",
       "      <td>-0.206112</td>\n",
       "      <td>11</td>\n",
       "      <td>1.0</td>\n",
       "      <td>1</td>\n",
       "      <td>0.765566</td>\n",
       "      <td>1</td>\n",
       "      <td>1</td>\n",
       "      <td>0.500011</td>\n",
       "      <td>0.382792</td>\n",
       "      <td>3.286</td>\n",
       "      <td>3.2209</td>\n",
       "    </tr>\n",
       "    <tr>\n",
       "      <th>259354</th>\n",
       "      <td>28.415033</td>\n",
       "      <td>-0.184724</td>\n",
       "      <td>11</td>\n",
       "      <td>1.0</td>\n",
       "      <td>1</td>\n",
       "      <td>0.434827</td>\n",
       "      <td>1</td>\n",
       "      <td>1</td>\n",
       "      <td>0.500011</td>\n",
       "      <td>0.217418</td>\n",
       "      <td>4.207</td>\n",
       "      <td>3.1506</td>\n",
       "    </tr>\n",
       "    <tr>\n",
       "      <th>21785</th>\n",
       "      <td>16.580158</td>\n",
       "      <td>0.806484</td>\n",
       "      <td>11</td>\n",
       "      <td>1.0</td>\n",
       "      <td>1</td>\n",
       "      <td>0.749239</td>\n",
       "      <td>1</td>\n",
       "      <td>1</td>\n",
       "      <td>0.500011</td>\n",
       "      <td>0.374628</td>\n",
       "      <td>4.435</td>\n",
       "      <td>3.1354</td>\n",
       "    </tr>\n",
       "    <tr>\n",
       "      <th>350551</th>\n",
       "      <td>346.598785</td>\n",
       "      <td>-0.769825</td>\n",
       "      <td>11</td>\n",
       "      <td>1.0</td>\n",
       "      <td>1</td>\n",
       "      <td>0.943485</td>\n",
       "      <td>1</td>\n",
       "      <td>1</td>\n",
       "      <td>0.500011</td>\n",
       "      <td>0.471753</td>\n",
       "      <td>3.588</td>\n",
       "      <td>3.0988</td>\n",
       "    </tr>\n",
       "    <tr>\n",
       "      <th>171832</th>\n",
       "      <td>11.963511</td>\n",
       "      <td>-0.741107</td>\n",
       "      <td>9</td>\n",
       "      <td>1.0</td>\n",
       "      <td>0</td>\n",
       "      <td>0.220717</td>\n",
       "      <td>1</td>\n",
       "      <td>0</td>\n",
       "      <td>0.499881</td>\n",
       "      <td>0.110332</td>\n",
       "      <td>1.715</td>\n",
       "      <td>3.0791</td>\n",
       "    </tr>\n",
       "    <tr>\n",
       "      <th>250457</th>\n",
       "      <td>339.681549</td>\n",
       "      <td>0.279982</td>\n",
       "      <td>11</td>\n",
       "      <td>1.0</td>\n",
       "      <td>1</td>\n",
       "      <td>0.924127</td>\n",
       "      <td>1</td>\n",
       "      <td>1</td>\n",
       "      <td>0.500011</td>\n",
       "      <td>0.462074</td>\n",
       "      <td>3.448</td>\n",
       "      <td>3.0207</td>\n",
       "    </tr>\n",
       "    <tr>\n",
       "      <th>263824</th>\n",
       "      <td>23.205776</td>\n",
       "      <td>0.440834</td>\n",
       "      <td>11</td>\n",
       "      <td>1.0</td>\n",
       "      <td>1</td>\n",
       "      <td>0.949934</td>\n",
       "      <td>1</td>\n",
       "      <td>1</td>\n",
       "      <td>0.500010</td>\n",
       "      <td>0.474977</td>\n",
       "      <td>3.181</td>\n",
       "      <td>2.9962</td>\n",
       "    </tr>\n",
       "    <tr>\n",
       "      <th>256355</th>\n",
       "      <td>28.043015</td>\n",
       "      <td>1.208298</td>\n",
       "      <td>7</td>\n",
       "      <td>1.0</td>\n",
       "      <td>1</td>\n",
       "      <td>0.943727</td>\n",
       "      <td>1</td>\n",
       "      <td>0</td>\n",
       "      <td>0.499876</td>\n",
       "      <td>0.471746</td>\n",
       "      <td>3.162</td>\n",
       "      <td>2.8995</td>\n",
       "    </tr>\n",
       "    <tr>\n",
       "      <th>356803</th>\n",
       "      <td>331.784698</td>\n",
       "      <td>1.023693</td>\n",
       "      <td>11</td>\n",
       "      <td>1.0</td>\n",
       "      <td>1</td>\n",
       "      <td>0.950048</td>\n",
       "      <td>1</td>\n",
       "      <td>1</td>\n",
       "      <td>0.500011</td>\n",
       "      <td>0.475035</td>\n",
       "      <td>2.911</td>\n",
       "      <td>2.8365</td>\n",
       "    </tr>\n",
       "    <tr>\n",
       "      <th>144296</th>\n",
       "      <td>337.428619</td>\n",
       "      <td>0.498315</td>\n",
       "      <td>11</td>\n",
       "      <td>1.0</td>\n",
       "      <td>1</td>\n",
       "      <td>0.916473</td>\n",
       "      <td>1</td>\n",
       "      <td>0</td>\n",
       "      <td>0.499948</td>\n",
       "      <td>0.458189</td>\n",
       "      <td>2.142</td>\n",
       "      <td>2.8347</td>\n",
       "    </tr>\n",
       "    <tr>\n",
       "      <th>137030</th>\n",
       "      <td>27.723097</td>\n",
       "      <td>-0.300845</td>\n",
       "      <td>7</td>\n",
       "      <td>1.0</td>\n",
       "      <td>1</td>\n",
       "      <td>0.600510</td>\n",
       "      <td>1</td>\n",
       "      <td>0</td>\n",
       "      <td>0.499876</td>\n",
       "      <td>0.300180</td>\n",
       "      <td>2.924</td>\n",
       "      <td>2.6821</td>\n",
       "    </tr>\n",
       "    <tr>\n",
       "      <th>240975</th>\n",
       "      <td>31.575752</td>\n",
       "      <td>-0.645665</td>\n",
       "      <td>6</td>\n",
       "      <td>1.0</td>\n",
       "      <td>1</td>\n",
       "      <td>0.945763</td>\n",
       "      <td>1</td>\n",
       "      <td>0</td>\n",
       "      <td>0.499876</td>\n",
       "      <td>0.472764</td>\n",
       "      <td>1.640</td>\n",
       "      <td>2.6489</td>\n",
       "    </tr>\n",
       "    <tr>\n",
       "      <th>249549</th>\n",
       "      <td>31.958725</td>\n",
       "      <td>0.068838</td>\n",
       "      <td>11</td>\n",
       "      <td>1.0</td>\n",
       "      <td>1</td>\n",
       "      <td>0.912748</td>\n",
       "      <td>1</td>\n",
       "      <td>0</td>\n",
       "      <td>0.499881</td>\n",
       "      <td>0.456265</td>\n",
       "      <td>3.010</td>\n",
       "      <td>2.6386</td>\n",
       "    </tr>\n",
       "  </tbody>\n",
       "</table>\n",
       "</div>"
      ],
      "text/plain": [
       "           RA_ICRS   DE_ICRS  band_num  class  pred_class  Score_AGN  \\\n",
       "285477   32.679794 -0.305035         6    1.0           0   0.297608   \n",
       "237511   11.019073 -0.683061         9    1.0           0   0.082265   \n",
       "146413   22.075430  1.126324        10    1.0           1   0.643776   \n",
       "256201   22.784021  0.880105        11    1.0           1   0.355430   \n",
       "251848  338.898285  0.600602         7    1.0           0   0.234895   \n",
       "305439  331.565063 -0.383915         6    1.0           1   0.371543   \n",
       "310600  348.149658 -0.855208         6    1.0           0   0.128715   \n",
       "262137   29.582396 -0.206112        11    1.0           1   0.765566   \n",
       "259354   28.415033 -0.184724        11    1.0           1   0.434827   \n",
       "21785    16.580158  0.806484        11    1.0           1   0.749239   \n",
       "350551  346.598785 -0.769825        11    1.0           1   0.943485   \n",
       "171832   11.963511 -0.741107         9    1.0           0   0.220717   \n",
       "250457  339.681549  0.279982        11    1.0           1   0.924127   \n",
       "263824   23.205776  0.440834        11    1.0           1   0.949934   \n",
       "256355   28.043015  1.208298         7    1.0           1   0.943727   \n",
       "356803  331.784698  1.023693        11    1.0           1   0.950048   \n",
       "144296  337.428619  0.498315        11    1.0           1   0.916473   \n",
       "137030   27.723097 -0.300845         7    1.0           1   0.600510   \n",
       "240975   31.575752 -0.645665         6    1.0           1   0.945763   \n",
       "249549   31.958725  0.068838        11    1.0           1   0.912748   \n",
       "\n",
       "        radio_detect  pred_radio  Score_radio  Score_rAGN      Z  pred_Z  \n",
       "285477             1           0     0.499970    0.148795  4.650  4.5717  \n",
       "237511             1           0     0.499956    0.041129  4.420  4.4365  \n",
       "146413             1           1     0.500020    0.321901  3.630  4.0210  \n",
       "256201             1           1     0.499972    0.177705  4.202  3.8449  \n",
       "251848             1           0     0.499936    0.117432  3.878  3.5755  \n",
       "305439             1           0     0.499879    0.185727  3.530  3.4977  \n",
       "310600             1           0     0.499876    0.064341    NaN  3.2572  \n",
       "262137             1           1     0.500011    0.382792  3.286  3.2209  \n",
       "259354             1           1     0.500011    0.217418  4.207  3.1506  \n",
       "21785              1           1     0.500011    0.374628  4.435  3.1354  \n",
       "350551             1           1     0.500011    0.471753  3.588  3.0988  \n",
       "171832             1           0     0.499881    0.110332  1.715  3.0791  \n",
       "250457             1           1     0.500011    0.462074  3.448  3.0207  \n",
       "263824             1           1     0.500010    0.474977  3.181  2.9962  \n",
       "256355             1           0     0.499876    0.471746  3.162  2.8995  \n",
       "356803             1           1     0.500011    0.475035  2.911  2.8365  \n",
       "144296             1           0     0.499948    0.458189  2.142  2.8347  \n",
       "137030             1           0     0.499876    0.300180  2.924  2.6821  \n",
       "240975             1           0     0.499876    0.472764  1.640  2.6489  \n",
       "249549             1           0     0.499881    0.456265  3.010  2.6386  "
      ]
     },
     "metadata": {},
     "output_type": "display_data"
    }
   ],
   "source": [
    "display(full_catalog_df.loc[filter_radio_AGN_t, cols_4_table].sort_values(by=['pred_Z'], ascending=False).head(20))"
   ]
  },
  {
   "cell_type": "markdown",
   "metadata": {},
   "source": [
    "Display properties of old Radio AGN predicted to be Radio AGN."
   ]
  },
  {
   "cell_type": "code",
   "execution_count": 89,
   "metadata": {},
   "outputs": [
    {
     "data": {
      "text/html": [
       "<div>\n",
       "<style scoped>\n",
       "    .dataframe tbody tr th:only-of-type {\n",
       "        vertical-align: middle;\n",
       "    }\n",
       "\n",
       "    .dataframe tbody tr th {\n",
       "        vertical-align: top;\n",
       "    }\n",
       "\n",
       "    .dataframe thead th {\n",
       "        text-align: right;\n",
       "    }\n",
       "</style>\n",
       "<table border=\"1\" class=\"dataframe\">\n",
       "  <thead>\n",
       "    <tr style=\"text-align: right;\">\n",
       "      <th></th>\n",
       "      <th>RA_ICRS</th>\n",
       "      <th>DE_ICRS</th>\n",
       "      <th>band_num</th>\n",
       "      <th>class</th>\n",
       "      <th>pred_class</th>\n",
       "      <th>Score_AGN</th>\n",
       "      <th>radio_detect</th>\n",
       "      <th>pred_radio</th>\n",
       "      <th>Score_radio</th>\n",
       "      <th>Score_rAGN</th>\n",
       "      <th>Z</th>\n",
       "      <th>pred_Z</th>\n",
       "    </tr>\n",
       "  </thead>\n",
       "  <tbody>\n",
       "    <tr>\n",
       "      <th>146413</th>\n",
       "      <td>22.075430</td>\n",
       "      <td>1.126324</td>\n",
       "      <td>10</td>\n",
       "      <td>1.0</td>\n",
       "      <td>1</td>\n",
       "      <td>0.643776</td>\n",
       "      <td>1</td>\n",
       "      <td>1</td>\n",
       "      <td>0.500020</td>\n",
       "      <td>0.321901</td>\n",
       "      <td>3.630</td>\n",
       "      <td>4.0210</td>\n",
       "    </tr>\n",
       "    <tr>\n",
       "      <th>256201</th>\n",
       "      <td>22.784021</td>\n",
       "      <td>0.880105</td>\n",
       "      <td>11</td>\n",
       "      <td>1.0</td>\n",
       "      <td>1</td>\n",
       "      <td>0.355430</td>\n",
       "      <td>1</td>\n",
       "      <td>1</td>\n",
       "      <td>0.499972</td>\n",
       "      <td>0.177705</td>\n",
       "      <td>4.202</td>\n",
       "      <td>3.8449</td>\n",
       "    </tr>\n",
       "    <tr>\n",
       "      <th>262137</th>\n",
       "      <td>29.582396</td>\n",
       "      <td>-0.206112</td>\n",
       "      <td>11</td>\n",
       "      <td>1.0</td>\n",
       "      <td>1</td>\n",
       "      <td>0.765566</td>\n",
       "      <td>1</td>\n",
       "      <td>1</td>\n",
       "      <td>0.500011</td>\n",
       "      <td>0.382792</td>\n",
       "      <td>3.286</td>\n",
       "      <td>3.2209</td>\n",
       "    </tr>\n",
       "    <tr>\n",
       "      <th>259354</th>\n",
       "      <td>28.415033</td>\n",
       "      <td>-0.184724</td>\n",
       "      <td>11</td>\n",
       "      <td>1.0</td>\n",
       "      <td>1</td>\n",
       "      <td>0.434827</td>\n",
       "      <td>1</td>\n",
       "      <td>1</td>\n",
       "      <td>0.500011</td>\n",
       "      <td>0.217418</td>\n",
       "      <td>4.207</td>\n",
       "      <td>3.1506</td>\n",
       "    </tr>\n",
       "    <tr>\n",
       "      <th>21785</th>\n",
       "      <td>16.580158</td>\n",
       "      <td>0.806484</td>\n",
       "      <td>11</td>\n",
       "      <td>1.0</td>\n",
       "      <td>1</td>\n",
       "      <td>0.749239</td>\n",
       "      <td>1</td>\n",
       "      <td>1</td>\n",
       "      <td>0.500011</td>\n",
       "      <td>0.374628</td>\n",
       "      <td>4.435</td>\n",
       "      <td>3.1354</td>\n",
       "    </tr>\n",
       "    <tr>\n",
       "      <th>350551</th>\n",
       "      <td>346.598785</td>\n",
       "      <td>-0.769825</td>\n",
       "      <td>11</td>\n",
       "      <td>1.0</td>\n",
       "      <td>1</td>\n",
       "      <td>0.943485</td>\n",
       "      <td>1</td>\n",
       "      <td>1</td>\n",
       "      <td>0.500011</td>\n",
       "      <td>0.471753</td>\n",
       "      <td>3.588</td>\n",
       "      <td>3.0988</td>\n",
       "    </tr>\n",
       "    <tr>\n",
       "      <th>250457</th>\n",
       "      <td>339.681549</td>\n",
       "      <td>0.279982</td>\n",
       "      <td>11</td>\n",
       "      <td>1.0</td>\n",
       "      <td>1</td>\n",
       "      <td>0.924127</td>\n",
       "      <td>1</td>\n",
       "      <td>1</td>\n",
       "      <td>0.500011</td>\n",
       "      <td>0.462074</td>\n",
       "      <td>3.448</td>\n",
       "      <td>3.0207</td>\n",
       "    </tr>\n",
       "    <tr>\n",
       "      <th>263824</th>\n",
       "      <td>23.205776</td>\n",
       "      <td>0.440834</td>\n",
       "      <td>11</td>\n",
       "      <td>1.0</td>\n",
       "      <td>1</td>\n",
       "      <td>0.949934</td>\n",
       "      <td>1</td>\n",
       "      <td>1</td>\n",
       "      <td>0.500010</td>\n",
       "      <td>0.474977</td>\n",
       "      <td>3.181</td>\n",
       "      <td>2.9962</td>\n",
       "    </tr>\n",
       "    <tr>\n",
       "      <th>356803</th>\n",
       "      <td>331.784698</td>\n",
       "      <td>1.023693</td>\n",
       "      <td>11</td>\n",
       "      <td>1.0</td>\n",
       "      <td>1</td>\n",
       "      <td>0.950048</td>\n",
       "      <td>1</td>\n",
       "      <td>1</td>\n",
       "      <td>0.500011</td>\n",
       "      <td>0.475035</td>\n",
       "      <td>2.911</td>\n",
       "      <td>2.8365</td>\n",
       "    </tr>\n",
       "    <tr>\n",
       "      <th>346972</th>\n",
       "      <td>30.274347</td>\n",
       "      <td>-0.333221</td>\n",
       "      <td>11</td>\n",
       "      <td>1.0</td>\n",
       "      <td>1</td>\n",
       "      <td>0.949448</td>\n",
       "      <td>1</td>\n",
       "      <td>1</td>\n",
       "      <td>0.500008</td>\n",
       "      <td>0.474731</td>\n",
       "      <td>2.806</td>\n",
       "      <td>2.5982</td>\n",
       "    </tr>\n",
       "    <tr>\n",
       "      <th>360399</th>\n",
       "      <td>338.817657</td>\n",
       "      <td>-0.980538</td>\n",
       "      <td>11</td>\n",
       "      <td>1.0</td>\n",
       "      <td>1</td>\n",
       "      <td>0.950688</td>\n",
       "      <td>1</td>\n",
       "      <td>1</td>\n",
       "      <td>0.500011</td>\n",
       "      <td>0.475354</td>\n",
       "      <td>1.181</td>\n",
       "      <td>2.5490</td>\n",
       "    </tr>\n",
       "    <tr>\n",
       "      <th>316228</th>\n",
       "      <td>341.846680</td>\n",
       "      <td>1.163626</td>\n",
       "      <td>11</td>\n",
       "      <td>1.0</td>\n",
       "      <td>1</td>\n",
       "      <td>0.819005</td>\n",
       "      <td>1</td>\n",
       "      <td>1</td>\n",
       "      <td>0.500089</td>\n",
       "      <td>0.409576</td>\n",
       "      <td>2.477</td>\n",
       "      <td>2.5285</td>\n",
       "    </tr>\n",
       "    <tr>\n",
       "      <th>115650</th>\n",
       "      <td>332.253204</td>\n",
       "      <td>0.399493</td>\n",
       "      <td>11</td>\n",
       "      <td>1.0</td>\n",
       "      <td>1</td>\n",
       "      <td>0.939831</td>\n",
       "      <td>1</td>\n",
       "      <td>1</td>\n",
       "      <td>0.500011</td>\n",
       "      <td>0.469925</td>\n",
       "      <td>3.125</td>\n",
       "      <td>2.5134</td>\n",
       "    </tr>\n",
       "    <tr>\n",
       "      <th>224104</th>\n",
       "      <td>349.030182</td>\n",
       "      <td>1.003573</td>\n",
       "      <td>16</td>\n",
       "      <td>1.0</td>\n",
       "      <td>1</td>\n",
       "      <td>0.943458</td>\n",
       "      <td>1</td>\n",
       "      <td>1</td>\n",
       "      <td>0.500008</td>\n",
       "      <td>0.471737</td>\n",
       "      <td>2.638</td>\n",
       "      <td>2.4315</td>\n",
       "    </tr>\n",
       "    <tr>\n",
       "      <th>250497</th>\n",
       "      <td>34.369316</td>\n",
       "      <td>-0.874197</td>\n",
       "      <td>11</td>\n",
       "      <td>1.0</td>\n",
       "      <td>1</td>\n",
       "      <td>0.949086</td>\n",
       "      <td>1</td>\n",
       "      <td>1</td>\n",
       "      <td>0.500089</td>\n",
       "      <td>0.474627</td>\n",
       "      <td>2.457</td>\n",
       "      <td>2.4253</td>\n",
       "    </tr>\n",
       "    <tr>\n",
       "      <th>4725</th>\n",
       "      <td>12.206827</td>\n",
       "      <td>1.095388</td>\n",
       "      <td>12</td>\n",
       "      <td>1.0</td>\n",
       "      <td>1</td>\n",
       "      <td>0.486333</td>\n",
       "      <td>1</td>\n",
       "      <td>1</td>\n",
       "      <td>0.500017</td>\n",
       "      <td>0.243175</td>\n",
       "      <td>2.612</td>\n",
       "      <td>2.3703</td>\n",
       "    </tr>\n",
       "    <tr>\n",
       "      <th>220408</th>\n",
       "      <td>28.751797</td>\n",
       "      <td>1.100096</td>\n",
       "      <td>11</td>\n",
       "      <td>1.0</td>\n",
       "      <td>1</td>\n",
       "      <td>0.949126</td>\n",
       "      <td>1</td>\n",
       "      <td>1</td>\n",
       "      <td>0.500008</td>\n",
       "      <td>0.474570</td>\n",
       "      <td>2.555</td>\n",
       "      <td>2.3581</td>\n",
       "    </tr>\n",
       "    <tr>\n",
       "      <th>282115</th>\n",
       "      <td>21.321480</td>\n",
       "      <td>-0.308027</td>\n",
       "      <td>14</td>\n",
       "      <td>1.0</td>\n",
       "      <td>1</td>\n",
       "      <td>0.950605</td>\n",
       "      <td>1</td>\n",
       "      <td>1</td>\n",
       "      <td>0.500011</td>\n",
       "      <td>0.475313</td>\n",
       "      <td>2.274</td>\n",
       "      <td>2.3168</td>\n",
       "    </tr>\n",
       "    <tr>\n",
       "      <th>258424</th>\n",
       "      <td>11.201526</td>\n",
       "      <td>1.060653</td>\n",
       "      <td>11</td>\n",
       "      <td>1.0</td>\n",
       "      <td>1</td>\n",
       "      <td>0.948533</td>\n",
       "      <td>1</td>\n",
       "      <td>1</td>\n",
       "      <td>0.500011</td>\n",
       "      <td>0.474277</td>\n",
       "      <td>2.125</td>\n",
       "      <td>2.2927</td>\n",
       "    </tr>\n",
       "    <tr>\n",
       "      <th>75352</th>\n",
       "      <td>11.183654</td>\n",
       "      <td>0.217644</td>\n",
       "      <td>11</td>\n",
       "      <td>1.0</td>\n",
       "      <td>1</td>\n",
       "      <td>0.949427</td>\n",
       "      <td>1</td>\n",
       "      <td>1</td>\n",
       "      <td>0.500010</td>\n",
       "      <td>0.474723</td>\n",
       "      <td>2.280</td>\n",
       "      <td>2.2922</td>\n",
       "    </tr>\n",
       "  </tbody>\n",
       "</table>\n",
       "</div>"
      ],
      "text/plain": [
       "           RA_ICRS   DE_ICRS  band_num  class  pred_class  Score_AGN  \\\n",
       "146413   22.075430  1.126324        10    1.0           1   0.643776   \n",
       "256201   22.784021  0.880105        11    1.0           1   0.355430   \n",
       "262137   29.582396 -0.206112        11    1.0           1   0.765566   \n",
       "259354   28.415033 -0.184724        11    1.0           1   0.434827   \n",
       "21785    16.580158  0.806484        11    1.0           1   0.749239   \n",
       "350551  346.598785 -0.769825        11    1.0           1   0.943485   \n",
       "250457  339.681549  0.279982        11    1.0           1   0.924127   \n",
       "263824   23.205776  0.440834        11    1.0           1   0.949934   \n",
       "356803  331.784698  1.023693        11    1.0           1   0.950048   \n",
       "346972   30.274347 -0.333221        11    1.0           1   0.949448   \n",
       "360399  338.817657 -0.980538        11    1.0           1   0.950688   \n",
       "316228  341.846680  1.163626        11    1.0           1   0.819005   \n",
       "115650  332.253204  0.399493        11    1.0           1   0.939831   \n",
       "224104  349.030182  1.003573        16    1.0           1   0.943458   \n",
       "250497   34.369316 -0.874197        11    1.0           1   0.949086   \n",
       "4725     12.206827  1.095388        12    1.0           1   0.486333   \n",
       "220408   28.751797  1.100096        11    1.0           1   0.949126   \n",
       "282115   21.321480 -0.308027        14    1.0           1   0.950605   \n",
       "258424   11.201526  1.060653        11    1.0           1   0.948533   \n",
       "75352    11.183654  0.217644        11    1.0           1   0.949427   \n",
       "\n",
       "        radio_detect  pred_radio  Score_radio  Score_rAGN      Z  pred_Z  \n",
       "146413             1           1     0.500020    0.321901  3.630  4.0210  \n",
       "256201             1           1     0.499972    0.177705  4.202  3.8449  \n",
       "262137             1           1     0.500011    0.382792  3.286  3.2209  \n",
       "259354             1           1     0.500011    0.217418  4.207  3.1506  \n",
       "21785              1           1     0.500011    0.374628  4.435  3.1354  \n",
       "350551             1           1     0.500011    0.471753  3.588  3.0988  \n",
       "250457             1           1     0.500011    0.462074  3.448  3.0207  \n",
       "263824             1           1     0.500010    0.474977  3.181  2.9962  \n",
       "356803             1           1     0.500011    0.475035  2.911  2.8365  \n",
       "346972             1           1     0.500008    0.474731  2.806  2.5982  \n",
       "360399             1           1     0.500011    0.475354  1.181  2.5490  \n",
       "316228             1           1     0.500089    0.409576  2.477  2.5285  \n",
       "115650             1           1     0.500011    0.469925  3.125  2.5134  \n",
       "224104             1           1     0.500008    0.471737  2.638  2.4315  \n",
       "250497             1           1     0.500089    0.474627  2.457  2.4253  \n",
       "4725               1           1     0.500017    0.243175  2.612  2.3703  \n",
       "220408             1           1     0.500008    0.474570  2.555  2.3581  \n",
       "282115             1           1     0.500011    0.475313  2.274  2.3168  \n",
       "258424             1           1     0.500011    0.474277  2.125  2.2927  \n",
       "75352              1           1     0.500010    0.474723  2.280  2.2922  "
      ]
     },
     "metadata": {},
     "output_type": "display_data"
    }
   ],
   "source": [
    "display(full_catalog_df.loc[filter_radio_AGN_p * filter_radio_AGN_t, cols_4_table].sort_values(by=['pred_Z'], ascending=False).head(20))"
   ]
  },
  {
   "cell_type": "markdown",
   "metadata": {},
   "source": [
    "Display properties of all predicted Radio AGN."
   ]
  },
  {
   "cell_type": "code",
   "execution_count": 90,
   "metadata": {},
   "outputs": [
    {
     "data": {
      "text/html": [
       "<div>\n",
       "<style scoped>\n",
       "    .dataframe tbody tr th:only-of-type {\n",
       "        vertical-align: middle;\n",
       "    }\n",
       "\n",
       "    .dataframe tbody tr th {\n",
       "        vertical-align: top;\n",
       "    }\n",
       "\n",
       "    .dataframe thead th {\n",
       "        text-align: right;\n",
       "    }\n",
       "</style>\n",
       "<table border=\"1\" class=\"dataframe\">\n",
       "  <thead>\n",
       "    <tr style=\"text-align: right;\">\n",
       "      <th></th>\n",
       "      <th>RA_ICRS</th>\n",
       "      <th>DE_ICRS</th>\n",
       "      <th>band_num</th>\n",
       "      <th>class</th>\n",
       "      <th>pred_class</th>\n",
       "      <th>Score_AGN</th>\n",
       "      <th>radio_detect</th>\n",
       "      <th>pred_radio</th>\n",
       "      <th>Score_radio</th>\n",
       "      <th>Score_rAGN</th>\n",
       "      <th>Z</th>\n",
       "      <th>pred_Z</th>\n",
       "    </tr>\n",
       "  </thead>\n",
       "  <tbody>\n",
       "    <tr>\n",
       "      <th>221323</th>\n",
       "      <td>32.433456</td>\n",
       "      <td>0.351338</td>\n",
       "      <td>9</td>\n",
       "      <td>0.0</td>\n",
       "      <td>1</td>\n",
       "      <td>0.484451</td>\n",
       "      <td>0</td>\n",
       "      <td>1</td>\n",
       "      <td>0.499980</td>\n",
       "      <td>0.242216</td>\n",
       "      <td>0.64806</td>\n",
       "      <td>4.0548</td>\n",
       "    </tr>\n",
       "    <tr>\n",
       "      <th>60228</th>\n",
       "      <td>16.550922</td>\n",
       "      <td>0.322279</td>\n",
       "      <td>11</td>\n",
       "      <td>1.0</td>\n",
       "      <td>1</td>\n",
       "      <td>0.948111</td>\n",
       "      <td>0</td>\n",
       "      <td>1</td>\n",
       "      <td>0.500023</td>\n",
       "      <td>0.474077</td>\n",
       "      <td>3.11000</td>\n",
       "      <td>3.8282</td>\n",
       "    </tr>\n",
       "    <tr>\n",
       "      <th>321345</th>\n",
       "      <td>26.583260</td>\n",
       "      <td>-0.774685</td>\n",
       "      <td>11</td>\n",
       "      <td>1.0</td>\n",
       "      <td>1</td>\n",
       "      <td>0.917496</td>\n",
       "      <td>0</td>\n",
       "      <td>1</td>\n",
       "      <td>0.500004</td>\n",
       "      <td>0.458752</td>\n",
       "      <td>3.17400</td>\n",
       "      <td>3.2635</td>\n",
       "    </tr>\n",
       "    <tr>\n",
       "      <th>249970</th>\n",
       "      <td>345.687500</td>\n",
       "      <td>-0.556187</td>\n",
       "      <td>11</td>\n",
       "      <td>1.0</td>\n",
       "      <td>1</td>\n",
       "      <td>0.847198</td>\n",
       "      <td>0</td>\n",
       "      <td>1</td>\n",
       "      <td>0.500004</td>\n",
       "      <td>0.423602</td>\n",
       "      <td>3.76100</td>\n",
       "      <td>3.1292</td>\n",
       "    </tr>\n",
       "    <tr>\n",
       "      <th>320769</th>\n",
       "      <td>349.216858</td>\n",
       "      <td>0.857208</td>\n",
       "      <td>11</td>\n",
       "      <td>1.0</td>\n",
       "      <td>1</td>\n",
       "      <td>0.933817</td>\n",
       "      <td>0</td>\n",
       "      <td>1</td>\n",
       "      <td>0.500011</td>\n",
       "      <td>0.466919</td>\n",
       "      <td>3.23000</td>\n",
       "      <td>3.0918</td>\n",
       "    </tr>\n",
       "    <tr>\n",
       "      <th>271070</th>\n",
       "      <td>18.749750</td>\n",
       "      <td>-0.690015</td>\n",
       "      <td>11</td>\n",
       "      <td>0.0</td>\n",
       "      <td>1</td>\n",
       "      <td>0.821681</td>\n",
       "      <td>0</td>\n",
       "      <td>1</td>\n",
       "      <td>0.500097</td>\n",
       "      <td>0.410920</td>\n",
       "      <td>0.20897</td>\n",
       "      <td>3.0042</td>\n",
       "    </tr>\n",
       "    <tr>\n",
       "      <th>260607</th>\n",
       "      <td>345.756317</td>\n",
       "      <td>0.615221</td>\n",
       "      <td>11</td>\n",
       "      <td>1.0</td>\n",
       "      <td>1</td>\n",
       "      <td>0.943059</td>\n",
       "      <td>0</td>\n",
       "      <td>1</td>\n",
       "      <td>0.500011</td>\n",
       "      <td>0.471540</td>\n",
       "      <td>2.35100</td>\n",
       "      <td>2.8309</td>\n",
       "    </tr>\n",
       "    <tr>\n",
       "      <th>351903</th>\n",
       "      <td>19.751310</td>\n",
       "      <td>-0.032450</td>\n",
       "      <td>11</td>\n",
       "      <td>1.0</td>\n",
       "      <td>1</td>\n",
       "      <td>0.950594</td>\n",
       "      <td>0</td>\n",
       "      <td>1</td>\n",
       "      <td>0.500016</td>\n",
       "      <td>0.475312</td>\n",
       "      <td>2.75000</td>\n",
       "      <td>2.7488</td>\n",
       "    </tr>\n",
       "    <tr>\n",
       "      <th>263011</th>\n",
       "      <td>17.094646</td>\n",
       "      <td>0.196575</td>\n",
       "      <td>11</td>\n",
       "      <td>1.0</td>\n",
       "      <td>1</td>\n",
       "      <td>0.446222</td>\n",
       "      <td>0</td>\n",
       "      <td>1</td>\n",
       "      <td>0.500006</td>\n",
       "      <td>0.223113</td>\n",
       "      <td>3.71000</td>\n",
       "      <td>2.7100</td>\n",
       "    </tr>\n",
       "    <tr>\n",
       "      <th>341065</th>\n",
       "      <td>337.721619</td>\n",
       "      <td>0.170533</td>\n",
       "      <td>11</td>\n",
       "      <td>1.0</td>\n",
       "      <td>1</td>\n",
       "      <td>0.946570</td>\n",
       "      <td>0</td>\n",
       "      <td>1</td>\n",
       "      <td>0.500003</td>\n",
       "      <td>0.473288</td>\n",
       "      <td>3.38200</td>\n",
       "      <td>2.6768</td>\n",
       "    </tr>\n",
       "    <tr>\n",
       "      <th>179866</th>\n",
       "      <td>31.346783</td>\n",
       "      <td>-1.288134</td>\n",
       "      <td>11</td>\n",
       "      <td>1.0</td>\n",
       "      <td>1</td>\n",
       "      <td>0.944109</td>\n",
       "      <td>0</td>\n",
       "      <td>1</td>\n",
       "      <td>0.500011</td>\n",
       "      <td>0.472065</td>\n",
       "      <td>2.31000</td>\n",
       "      <td>2.6714</td>\n",
       "    </tr>\n",
       "    <tr>\n",
       "      <th>94386</th>\n",
       "      <td>335.210785</td>\n",
       "      <td>0.996780</td>\n",
       "      <td>11</td>\n",
       "      <td>1.0</td>\n",
       "      <td>1</td>\n",
       "      <td>0.897767</td>\n",
       "      <td>0</td>\n",
       "      <td>1</td>\n",
       "      <td>0.500011</td>\n",
       "      <td>0.448893</td>\n",
       "      <td>2.60100</td>\n",
       "      <td>2.6240</td>\n",
       "    </tr>\n",
       "    <tr>\n",
       "      <th>72596</th>\n",
       "      <td>343.182526</td>\n",
       "      <td>-0.697061</td>\n",
       "      <td>11</td>\n",
       "      <td>1.0</td>\n",
       "      <td>1</td>\n",
       "      <td>0.927452</td>\n",
       "      <td>0</td>\n",
       "      <td>1</td>\n",
       "      <td>0.500009</td>\n",
       "      <td>0.463734</td>\n",
       "      <td>2.95600</td>\n",
       "      <td>2.5977</td>\n",
       "    </tr>\n",
       "    <tr>\n",
       "      <th>151024</th>\n",
       "      <td>342.564575</td>\n",
       "      <td>1.080506</td>\n",
       "      <td>6</td>\n",
       "      <td>0.0</td>\n",
       "      <td>1</td>\n",
       "      <td>0.608581</td>\n",
       "      <td>0</td>\n",
       "      <td>1</td>\n",
       "      <td>0.500001</td>\n",
       "      <td>0.304291</td>\n",
       "      <td>0.32432</td>\n",
       "      <td>2.5517</td>\n",
       "    </tr>\n",
       "    <tr>\n",
       "      <th>351352</th>\n",
       "      <td>23.709490</td>\n",
       "      <td>0.593651</td>\n",
       "      <td>14</td>\n",
       "      <td>1.0</td>\n",
       "      <td>1</td>\n",
       "      <td>0.950089</td>\n",
       "      <td>0</td>\n",
       "      <td>1</td>\n",
       "      <td>0.500011</td>\n",
       "      <td>0.475055</td>\n",
       "      <td>2.68700</td>\n",
       "      <td>2.5503</td>\n",
       "    </tr>\n",
       "    <tr>\n",
       "      <th>262522</th>\n",
       "      <td>349.415649</td>\n",
       "      <td>-0.955410</td>\n",
       "      <td>11</td>\n",
       "      <td>1.0</td>\n",
       "      <td>1</td>\n",
       "      <td>0.950389</td>\n",
       "      <td>0</td>\n",
       "      <td>1</td>\n",
       "      <td>0.500011</td>\n",
       "      <td>0.475206</td>\n",
       "      <td>2.29100</td>\n",
       "      <td>2.5188</td>\n",
       "    </tr>\n",
       "    <tr>\n",
       "      <th>270357</th>\n",
       "      <td>334.009674</td>\n",
       "      <td>0.974047</td>\n",
       "      <td>16</td>\n",
       "      <td>1.0</td>\n",
       "      <td>1</td>\n",
       "      <td>0.937133</td>\n",
       "      <td>0</td>\n",
       "      <td>1</td>\n",
       "      <td>0.500100</td>\n",
       "      <td>0.468660</td>\n",
       "      <td>2.86400</td>\n",
       "      <td>2.5155</td>\n",
       "    </tr>\n",
       "    <tr>\n",
       "      <th>302902</th>\n",
       "      <td>24.262678</td>\n",
       "      <td>-0.704125</td>\n",
       "      <td>11</td>\n",
       "      <td>1.0</td>\n",
       "      <td>1</td>\n",
       "      <td>0.949983</td>\n",
       "      <td>0</td>\n",
       "      <td>1</td>\n",
       "      <td>0.500020</td>\n",
       "      <td>0.475011</td>\n",
       "      <td>2.50200</td>\n",
       "      <td>2.4977</td>\n",
       "    </tr>\n",
       "    <tr>\n",
       "      <th>59574</th>\n",
       "      <td>14.436190</td>\n",
       "      <td>1.138420</td>\n",
       "      <td>11</td>\n",
       "      <td>1.0</td>\n",
       "      <td>1</td>\n",
       "      <td>0.950178</td>\n",
       "      <td>0</td>\n",
       "      <td>1</td>\n",
       "      <td>0.500042</td>\n",
       "      <td>0.475129</td>\n",
       "      <td>2.76200</td>\n",
       "      <td>2.4800</td>\n",
       "    </tr>\n",
       "    <tr>\n",
       "      <th>249485</th>\n",
       "      <td>334.485443</td>\n",
       "      <td>0.595668</td>\n",
       "      <td>7</td>\n",
       "      <td>1.0</td>\n",
       "      <td>1</td>\n",
       "      <td>0.948515</td>\n",
       "      <td>0</td>\n",
       "      <td>1</td>\n",
       "      <td>0.499972</td>\n",
       "      <td>0.474231</td>\n",
       "      <td>2.93500</td>\n",
       "      <td>2.4406</td>\n",
       "    </tr>\n",
       "  </tbody>\n",
       "</table>\n",
       "</div>"
      ],
      "text/plain": [
       "           RA_ICRS   DE_ICRS  band_num  class  pred_class  Score_AGN  \\\n",
       "221323   32.433456  0.351338         9    0.0           1   0.484451   \n",
       "60228    16.550922  0.322279        11    1.0           1   0.948111   \n",
       "321345   26.583260 -0.774685        11    1.0           1   0.917496   \n",
       "249970  345.687500 -0.556187        11    1.0           1   0.847198   \n",
       "320769  349.216858  0.857208        11    1.0           1   0.933817   \n",
       "271070   18.749750 -0.690015        11    0.0           1   0.821681   \n",
       "260607  345.756317  0.615221        11    1.0           1   0.943059   \n",
       "351903   19.751310 -0.032450        11    1.0           1   0.950594   \n",
       "263011   17.094646  0.196575        11    1.0           1   0.446222   \n",
       "341065  337.721619  0.170533        11    1.0           1   0.946570   \n",
       "179866   31.346783 -1.288134        11    1.0           1   0.944109   \n",
       "94386   335.210785  0.996780        11    1.0           1   0.897767   \n",
       "72596   343.182526 -0.697061        11    1.0           1   0.927452   \n",
       "151024  342.564575  1.080506         6    0.0           1   0.608581   \n",
       "351352   23.709490  0.593651        14    1.0           1   0.950089   \n",
       "262522  349.415649 -0.955410        11    1.0           1   0.950389   \n",
       "270357  334.009674  0.974047        16    1.0           1   0.937133   \n",
       "302902   24.262678 -0.704125        11    1.0           1   0.949983   \n",
       "59574    14.436190  1.138420        11    1.0           1   0.950178   \n",
       "249485  334.485443  0.595668         7    1.0           1   0.948515   \n",
       "\n",
       "        radio_detect  pred_radio  Score_radio  Score_rAGN        Z  pred_Z  \n",
       "221323             0           1     0.499980    0.242216  0.64806  4.0548  \n",
       "60228              0           1     0.500023    0.474077  3.11000  3.8282  \n",
       "321345             0           1     0.500004    0.458752  3.17400  3.2635  \n",
       "249970             0           1     0.500004    0.423602  3.76100  3.1292  \n",
       "320769             0           1     0.500011    0.466919  3.23000  3.0918  \n",
       "271070             0           1     0.500097    0.410920  0.20897  3.0042  \n",
       "260607             0           1     0.500011    0.471540  2.35100  2.8309  \n",
       "351903             0           1     0.500016    0.475312  2.75000  2.7488  \n",
       "263011             0           1     0.500006    0.223113  3.71000  2.7100  \n",
       "341065             0           1     0.500003    0.473288  3.38200  2.6768  \n",
       "179866             0           1     0.500011    0.472065  2.31000  2.6714  \n",
       "94386              0           1     0.500011    0.448893  2.60100  2.6240  \n",
       "72596              0           1     0.500009    0.463734  2.95600  2.5977  \n",
       "151024             0           1     0.500001    0.304291  0.32432  2.5517  \n",
       "351352             0           1     0.500011    0.475055  2.68700  2.5503  \n",
       "262522             0           1     0.500011    0.475206  2.29100  2.5188  \n",
       "270357             0           1     0.500100    0.468660  2.86400  2.5155  \n",
       "302902             0           1     0.500020    0.475011  2.50200  2.4977  \n",
       "59574              0           1     0.500042    0.475129  2.76200  2.4800  \n",
       "249485             0           1     0.499972    0.474231  2.93500  2.4406  "
      ]
     },
     "metadata": {},
     "output_type": "display_data"
    }
   ],
   "source": [
    "display(full_catalog_df.loc[filt_new_rAGN_p, cols_4_table].sort_values(by=['pred_Z'], ascending=False).head(20))"
   ]
  },
  {
   "cell_type": "markdown",
   "metadata": {},
   "source": [
    "Confusion matrix for AGN/galaxy prediction on all sources"
   ]
  },
  {
   "cell_type": "code",
   "execution_count": 91,
   "metadata": {
    "tags": []
   },
   "outputs": [],
   "source": [
    "MCC_AGN              = MCC_from_CM(cm_AGN)\n",
    "ACC_AGN              = ACC_from_CM(cm_AGN)\n",
    "F1_AGN               = F1_from_CM(cm_AGN)\n",
    "Recall_AGN           = Recall_from_CM(cm_AGN)"
   ]
  },
  {
   "cell_type": "markdown",
   "metadata": {},
   "source": [
    "Confusion matrices for AGN criteria from literature"
   ]
  },
  {
   "cell_type": "code",
   "execution_count": 92,
   "metadata": {},
   "outputs": [],
   "source": [
    "MCC_AGN_S12          = MCC_from_CM(cm_AGN_S12)\n",
    "ACC_AGN_S12          = ACC_from_CM(cm_AGN_S12)\n",
    "F1_AGN_S12           = F1_from_CM(cm_AGN_S12)\n",
    "Recall_AGN_S12       = Recall_from_CM(cm_AGN_S12)\n",
    "\n",
    "MCC_AGN_M12          = MCC_from_CM(cm_AGN_M12)\n",
    "ACC_AGN_M12          = ACC_from_CM(cm_AGN_M12)\n",
    "F1_AGN_M12           = F1_from_CM(cm_AGN_M12)\n",
    "Recall_AGN_M12       = Recall_from_CM(cm_AGN_M12)\n",
    "\n",
    "MCC_AGN_M16          = MCC_from_CM(cm_AGN_M16)\n",
    "ACC_AGN_M16          = ACC_from_CM(cm_AGN_M16)\n",
    "F1_AGN_M16           = F1_from_CM(cm_AGN_M16)\n",
    "Recall_AGN_M16       = Recall_from_CM(cm_AGN_M16)\n",
    "\n",
    "MCC_AGN_B18          = MCC_from_CM(cm_AGN_B18)\n",
    "ACC_AGN_B18          = ACC_from_CM(cm_AGN_B18)\n",
    "F1_AGN_B18           = F1_from_CM(cm_AGN_B18)\n",
    "Recall_AGN_B18       = Recall_from_CM(cm_AGN_B18)"
   ]
  },
  {
   "cell_type": "markdown",
   "metadata": {},
   "source": [
    "Confusion matrix for radio detection prediction on all predicted AGN"
   ]
  },
  {
   "cell_type": "code",
   "execution_count": 93,
   "metadata": {
    "tags": []
   },
   "outputs": [],
   "source": [
    "MCC_radio            = MCC_from_CM(cm_radio)\n",
    "ACC_radio            = ACC_from_CM(cm_radio)\n",
    "F1_radio             = F1_from_CM(cm_radio)\n",
    "Recall_radio         = Recall_from_CM(cm_radio)"
   ]
  },
  {
   "cell_type": "markdown",
   "metadata": {},
   "source": [
    "Confusion matrix for radio detection prediction on all confirmed sources"
   ]
  },
  {
   "cell_type": "code",
   "execution_count": 94,
   "metadata": {
    "tags": []
   },
   "outputs": [],
   "source": [
    "# MCC_radio_conf       = MCC_from_CM(cm_radio_conf)\n",
    "# ACC_radio_conf       = ACC_from_CM(cm_radio_conf)\n",
    "# F1_radio_conf        = F1_from_CM(cm_radio_conf)\n",
    "# Recall_radio_conf    = Recall_from_CM(cm_radio_conf)"
   ]
  },
  {
   "cell_type": "markdown",
   "metadata": {},
   "source": [
    "Confusion matrix for radio AGN detection prediction."
   ]
  },
  {
   "cell_type": "code",
   "execution_count": 95,
   "metadata": {
    "tags": []
   },
   "outputs": [],
   "source": [
    "MCC_radio_AGN        = MCC_from_CM(cm_rAGN)\n",
    "ACC_radio_AGN        = ACC_from_CM(cm_rAGN)\n",
    "F1_radio_AGN         = F1_from_CM(cm_rAGN)\n",
    "Recall_radio_AGN     = Recall_from_CM(cm_rAGN)"
   ]
  },
  {
   "cell_type": "markdown",
   "metadata": {},
   "source": [
    "Confusion matrix for radio AGN detection prediction on confirmed sources."
   ]
  },
  {
   "cell_type": "code",
   "execution_count": 96,
   "metadata": {
    "tags": []
   },
   "outputs": [],
   "source": [
    "# MCC_radio_AGN_conf    = MCC_from_CM(cm_radio_AGN_conf)\n",
    "# ACC_radio_AGN_conf    = ACC_from_CM(cm_radio_AGN_conf)\n",
    "# F1_radio_AGN_conf     = F1_from_CM(cm_radio_AGN_conf)\n",
    "# Recall_radio_AGN_conf = Recall_from_CM(cm_radio_AGN_conf)"
   ]
  },
  {
   "cell_type": "markdown",
   "metadata": {},
   "source": [
    "Print metrics"
   ]
  },
  {
   "cell_type": "code",
   "execution_count": 97,
   "metadata": {
    "tags": []
   },
   "outputs": [
    {
     "name": "stdout",
     "output_type": "stream",
     "text": [
      "Metrics for AGN prediction on all spectroscopically confirmed sources.\n",
      "Sample size,                        N = 3,600\n",
      "F-1 Score,                         F1 = 0.9341\n",
      "Matthews Correlation Coefficient, MCC = 0.6012\n",
      "Recall,                        Recall = 0.9105\n",
      "Accuracy,                         ACC = 0.8894\n"
     ]
    }
   ],
   "source": [
    "print('Metrics for AGN prediction on all spectroscopically confirmed sources.')\n",
    "print(f'Sample size,                        N = {np.sum(filter_known_spec):,}')\n",
    "print(f'F-1 Score,                         F1 = {F1_AGN:.4f}')\n",
    "print(f'Matthews Correlation Coefficient, MCC = {MCC_AGN:.4f}')\n",
    "print(f'Recall,                        Recall = {Recall_AGN:.4f}')\n",
    "print(f'Accuracy,                         ACC = {ACC_AGN:.4f}')"
   ]
  },
  {
   "cell_type": "code",
   "execution_count": 98,
   "metadata": {
    "tags": []
   },
   "outputs": [
    {
     "name": "stdout",
     "output_type": "stream",
     "text": [
      "Metrics for AGN detection criteria (from literature) on all spectroscopically confirmed sources.\n",
      "Sample size, N = 3,600\n",
      "Criterion:        S12\tM12\tM16\tB18\n",
      "F-1 Score,  F1 = 0.7879\t0.4504\t0.6508\t0.7670\n",
      "MCC,       MCC = 0.3378\t0.2264\t0.3184\t0.4109\n",
      "Recall, Recall = 0.6705\t0.2910\t0.4848\t0.6256\n",
      "Accuracy,  ACC = 0.6894\t0.3892\t0.5525\t0.6731\n"
     ]
    }
   ],
   "source": [
    "print('Metrics for AGN detection criteria (from literature) on all spectroscopically confirmed sources.')\n",
    "print(f'Sample size, N = {np.sum(filter_known_spec):,}')\n",
    "print('Criterion:        S12\\tM12\\tM16\\tB18')\n",
    "print(f'F-1 Score,  F1 = {F1_AGN_S12:.4f}\\t{F1_AGN_M12:.4f}\\t{F1_AGN_M16:.4f}\\t{F1_AGN_B18:.4f}')\n",
    "print(f'MCC,       MCC = {MCC_AGN_S12:.4f}\\t{MCC_AGN_M12:.4f}\\t{MCC_AGN_M16:.4f}\\t{MCC_AGN_B18:.4f}')\n",
    "print(f'Recall, Recall = {Recall_AGN_S12:.4f}\\t{Recall_AGN_M12:.4f}\\t{Recall_AGN_M16:.4f}\\t{Recall_AGN_B18:.4f}')\n",
    "print(f'Accuracy,  ACC = {ACC_AGN_S12:.4f}\\t{ACC_AGN_M12:.4f}\\t{ACC_AGN_M16:.4f}\\t{ACC_AGN_B18:.4f}')"
   ]
  },
  {
   "cell_type": "code",
   "execution_count": 99,
   "metadata": {
    "tags": []
   },
   "outputs": [
    {
     "name": "stdout",
     "output_type": "stream",
     "text": [
      "Metrics for radio detection prediction on all predicted AGN\n",
      "Sample size,                        N = 2,940\n",
      "F-1 Score,                         F1 = 0.6116\n",
      "Matthews Correlation Coefficient, MCC = 0.4030\n",
      "Recall,                        Recall = 0.6265\n",
      "Accuracy,                         ACC = 0.7282\n"
     ]
    }
   ],
   "source": [
    "print('Metrics for radio detection prediction on all predicted AGN')\n",
    "print(f'Sample size,                        N = {np.sum(filter_AGN_p):,}')\n",
    "print(f'F-1 Score,                         F1 = {F1_radio:.4f}')\n",
    "print(f'Matthews Correlation Coefficient, MCC = {MCC_radio:.4f}')\n",
    "print(f'Recall,                        Recall = {Recall_radio:.4f}')\n",
    "print(f'Accuracy,                         ACC = {ACC_radio:.4f}')"
   ]
  },
  {
   "cell_type": "code",
   "execution_count": 100,
   "metadata": {
    "tags": []
   },
   "outputs": [],
   "source": [
    "# print('Metrics for radio detection prediction on all confirmed sources predicted to be AGN')\n",
    "# print(f'Sample size,                        N = {np.sum(filter_AGN_p & filter_known_spec):,}')\n",
    "# print(f'F-1 Score,                         F1 = {F1_radio_conf:.4f}')\n",
    "# print(f'Matthews Correlation Coefficient, MCC = {MCC_radio_conf:.4f}')\n",
    "# print(f'Recall,                        Recall = {Recall_radio_conf:.4f}')\n",
    "# print(f'Accuracy,                         ACC = {ACC_radio_conf:.4f}')"
   ]
  },
  {
   "cell_type": "code",
   "execution_count": 101,
   "metadata": {
    "tags": []
   },
   "outputs": [
    {
     "name": "stdout",
     "output_type": "stream",
     "text": [
      "Metrics for radio AGN detection prediction\n",
      "Sample size,                        N = 3,600\n",
      "F-1 Score,                         F1 = 0.5623\n",
      "Matthews Correlation Coefficient, MCC = 0.3693\n",
      "Recall,                        Recall = 0.5357\n",
      "Accuracy,                         ACC = 0.7306\n"
     ]
    }
   ],
   "source": [
    "print('Metrics for radio AGN detection prediction')\n",
    "print(f'Sample size,                        N = {total_size:,}')\n",
    "print(f'F-1 Score,                         F1 = {F1_radio_AGN:.4f}')\n",
    "print(f'Matthews Correlation Coefficient, MCC = {MCC_radio_AGN:.4f}')\n",
    "print(f'Recall,                        Recall = {Recall_radio_AGN:.4f}')\n",
    "print(f'Accuracy,                         ACC = {ACC_radio_AGN:.4f}')"
   ]
  },
  {
   "cell_type": "code",
   "execution_count": 102,
   "metadata": {
    "tags": []
   },
   "outputs": [],
   "source": [
    "# print('Metrics for radio AGN detection prediction on all confirmed sources')\n",
    "# print(f'Sample size,                        N = {np.sum(filter_known_spec):,}')\n",
    "# print(f'F-1 Score,                         F1 = {F1_radio_AGN_conf:.4f}')\n",
    "# print(f'Matthews Correlation Coefficient, MCC = {MCC_radio_AGN_conf:.4f}')\n",
    "# print(f'Recall,                        Recall = {Recall_radio_AGN_conf:.4f}')\n",
    "# print(f'Accuracy,                         ACC = {ACC_radio_AGN_conf:.4f}')"
   ]
  },
  {
   "cell_type": "code",
   "execution_count": 103,
   "metadata": {
    "tags": []
   },
   "outputs": [
    {
     "name": "stdout",
     "output_type": "stream",
     "text": [
      "Metrics for redshift prediction on all predicted radio AGN with only one Z model\n",
      "Sample size,                        N = 3,434\n",
      "Sigma MAD                       σ MAD = 0.1816\n",
      "Sigma NMAD,                    σ NMAD = 0.0933\n",
      "Sigma z,                          σ z = 0.5273\n",
      "Sigma z normalized,             σ z N = 0.2678\n",
      "Outlier fraction,                   η = 0.2734\n"
     ]
    }
   ],
   "source": [
    "print('Metrics for redshift prediction on all predicted radio AGN with only one Z model')\n",
    "print(f'Sample size,                        N = {np.sum(np.isfinite(full_catalog_df.loc[:, \"Z\"]) & np.isfinite(full_catalog_df.loc[:, \"pred_Z\"])):,}')\n",
    "print(f'Sigma MAD                       \\u03C3 MAD = {sigma_mad_early:.4f}')\n",
    "print(f'Sigma NMAD,                    \\u03C3 NMAD = {sigma_nmad_early:.4f}')\n",
    "print(f'Sigma z,                          \\u03C3 z = {sigma_z_early:.4f}')\n",
    "print(f'Sigma z normalized,             \\u03C3 z N = {sigma_z_norm_early:.4f}')\n",
    "print(f'Outlier fraction,                   \\u03B7 = {out_frac_early:.4f}')"
   ]
  },
  {
   "cell_type": "code",
   "execution_count": 104,
   "metadata": {
    "tags": []
   },
   "outputs": [
    {
     "name": "stdout",
     "output_type": "stream",
     "text": [
      "Metrics for redshift prediction on all predicted radio AGN with all models\n",
      "Sample size,                        N = 3,434\n",
      "Sigma MAD                       σ MAD = 0.1816\n",
      "Sigma NMAD,                    σ NMAD = 0.0933\n",
      "Sigma z,                          σ z = 0.5277\n",
      "Sigma z normalized,             σ z N = 0.2680\n",
      "Outlier fraction,                   η = 0.2744\n"
     ]
    }
   ],
   "source": [
    "print('Metrics for redshift prediction on all predicted radio AGN with all models')\n",
    "print(f'Sample size,                        N = {np.sum(np.isfinite(full_catalog_df.loc[:, \"Z\"]) & np.isfinite(full_catalog_df.loc[:, \"pred_Z\"])):,}')\n",
    "print(f'Sigma MAD                       \\u03C3 MAD = {sigma_mad_field:.4f}')\n",
    "print(f'Sigma NMAD,                    \\u03C3 NMAD = {sigma_nmad_field:.4f}')\n",
    "print(f'Sigma z,                          \\u03C3 z = {sigma_z_field:.4f}')\n",
    "print(f'Sigma z normalized,             \\u03C3 z N = {sigma_z_norm_field:.4f}')\n",
    "print(f'Outlier fraction,                   \\u03B7 = {out_frac_field:.4f}')"
   ]
  },
  {
   "cell_type": "code",
   "execution_count": 105,
   "metadata": {},
   "outputs": [
    {
     "name": "stdout",
     "output_type": "stream",
     "text": [
      "Metrics for redshift prediction on predicted radio AGN with only one Z model at high z (original prediction)\n",
      "Sample size,                        N = 18\n",
      "Sigma MAD                       σ MAD = 0.8375\n",
      "Sigma NMAD,                    σ NMAD = 0.1818\n",
      "Sigma z,                          σ z = 1.7273\n",
      "Sigma z normalized,             σ z N = 1.0196\n",
      "Outlier fraction,                   η = 0.2500\n"
     ]
    }
   ],
   "source": [
    "print('Metrics for redshift prediction on predicted radio AGN with only one Z model at high z (original prediction)')\n",
    "samp_size_tmp  = np.sum(np.isfinite(full_catalog_df.loc[:, \"Z\"]) & np.isfinite(full_catalog_df.loc[:, \"pred_Z\"]) &\\\n",
    "                        np.array(full_catalog_df.loc[:, \"pred_Z\"] >= redshift_lim_c))\n",
    "print(f'Sample size,                        N = {samp_size_tmp:,}')\n",
    "print(f'Sigma MAD                       \\u03C3 MAD = {sigma_mad_early_hiz:.4f}')\n",
    "print(f'Sigma NMAD,                    \\u03C3 NMAD = {sigma_nmad_early_hiz:.4f}')\n",
    "print(f'Sigma z,                          \\u03C3 z = {sigma_z_early_hiz:.4f}')\n",
    "print(f'Sigma z normalized,             \\u03C3 z N = {sigma_z_norm_early_hiz:.4f}')\n",
    "print(f'Outlier fraction,                   \\u03B7 = {out_frac_early_hiz:.4f}')"
   ]
  },
  {
   "cell_type": "code",
   "execution_count": 106,
   "metadata": {},
   "outputs": [
    {
     "name": "stdout",
     "output_type": "stream",
     "text": [
      "Metrics for redshift prediction on predicted radio AGN with all models at high z\n",
      "Sample size,                        N = 18\n",
      "Sigma MAD                       σ MAD = 0.8208\n",
      "Sigma NMAD,                    σ NMAD = 0.1918\n",
      "Sigma z,                          σ z = 1.7608\n",
      "Sigma z normalized,             σ z N = 1.0387\n",
      "Outlier fraction,                   η = 0.5000\n"
     ]
    }
   ],
   "source": [
    "print('Metrics for redshift prediction on predicted radio AGN with all models at high z')\n",
    "samp_size_tmp  = np.sum(np.isfinite(full_catalog_df.loc[:, \"Z\"]) & np.isfinite(full_catalog_df.loc[:, \"pred_Z\"]) &\\\n",
    "                        np.array(full_catalog_df.loc[:, \"pred_Z\"] >= redshift_lim_c))\n",
    "print(f'Sample size,                        N = {samp_size_tmp:,}')\n",
    "print(f'Sigma MAD                       \\u03C3 MAD = {sigma_mad_field_hiz:.4f}')\n",
    "print(f'Sigma NMAD,                    \\u03C3 NMAD = {sigma_nmad_field_hiz:.4f}')\n",
    "print(f'Sigma z,                          \\u03C3 z = {sigma_z_field_hiz:.4f}')\n",
    "print(f'Sigma z normalized,             \\u03C3 z N = {sigma_z_norm_field_hiz:.4f}')\n",
    "print(f'Outlier fraction,                   \\u03B7 = {out_frac_field_hiz:.4f}')"
   ]
  },
  {
   "cell_type": "markdown",
   "metadata": {},
   "source": [
    "Plot predictions"
   ]
  },
  {
   "cell_type": "code",
   "execution_count": 107,
   "metadata": {
    "tags": []
   },
   "outputs": [
    {
     "data": {
      "image/png": "[encoded data removed]",
      "text/plain": [
       "<Figure size 600x500 with 1 Axes>"
      ]
     },
     "metadata": {},
     "output_type": "display_data"
    }
   ],
   "source": [
    "fig             = plt.figure(figsize=(6,5))\n",
    "ax1             = fig.add_subplot(111)\n",
    "plot_conf_mat(cm_AGN, title=used_area, axin=ax1, display_labels=['Galaxy', 'AGN'], log_stretch=False)\n",
    "if save_plot_flag:\n",
    "    plt.savefig(f'plots/conf_matrix_AGN_{used_area}.pdf', bbox_inches='tight')\n",
    "plt.show()"
   ]
  },
  {
   "cell_type": "code",
   "execution_count": 108,
   "metadata": {
    "tags": []
   },
   "outputs": [
    {
     "data": {
      "image/png": "[encoded data removed]",
      "text/plain": [
       "<Figure size 600x500 with 1 Axes>"
      ]
     },
     "metadata": {},
     "output_type": "display_data"
    }
   ],
   "source": [
    "fig             = plt.figure(figsize=(6,5))\n",
    "ax1             = fig.add_subplot(111)\n",
    "plot_conf_mat(cm_radio, title=used_area, axin=ax1, display_labels=['No\\nRadio', 'Radio'], log_stretch=True)\n",
    "if save_plot_flag:\n",
    "    plt.savefig(f'plots/conf_matrix_radio_{used_area}.pdf', bbox_inches='tight')\n",
    "plt.show()"
   ]
  },
  {
   "cell_type": "code",
   "execution_count": 109,
   "metadata": {
    "tags": []
   },
   "outputs": [
    {
     "data": {
      "image/png": "[encoded data removed]",
      "text/plain": [
       "<Figure size 600x500 with 1 Axes>"
      ]
     },
     "metadata": {},
     "output_type": "display_data"
    }
   ],
   "source": [
    "fig             = plt.figure(figsize=(6,5))\n",
    "ax1             = fig.add_subplot(111)\n",
    "plot_conf_mat(cm_rAGN, title=used_area, axin=ax1, display_labels=['No\\nRadio AGN', 'Radio AGN'], log_stretch=True)\n",
    "if save_plot_flag:\n",
    "    plt.savefig(f'plots/conf_matrix_radio_AGN_{used_area}.pdf', bbox_inches='tight')\n",
    "plt.show()"
   ]
  },
  {
   "cell_type": "code",
   "execution_count": 110,
   "metadata": {
    "tags": []
   },
   "outputs": [
    {
     "data": {
      "image/png": "[encoded data removed]",
      "text/plain": [
       "<Figure size 680x530 with 3 Axes>"
      ]
     },
     "metadata": {},
     "output_type": "display_data"
    }
   ],
   "source": [
    "fig             = plt.figure(figsize=(6.8,5.3))\n",
    "ax1             = fig.add_subplot(111, projection='scatter_density', xscale='log', yscale='log')\n",
    "plot_redshift_compare(full_catalog_df.loc[filter_radio_AGN_p, 'Z'], full_catalog_df.loc[filter_radio_AGN_p, 'pred_Z'],\\\n",
    "                      ax_pre=ax1, title=None, dpi=10, show_clb=True, log_stretch=False)\n",
    "\n",
    "if save_plot_flag:\n",
    "    plt.savefig(f'plots/compare_redshift_{used_area}.pdf', bbox_inches='tight')\n",
    "plt.show()"
   ]
  },
  {
   "cell_type": "code",
   "execution_count": 111,
   "metadata": {
    "jupyter": {
     "source_hidden": true
    },
    "tags": []
   },
   "outputs": [
    {
     "data": {
      "image/png": "[encoded data removed]",
      "text/plain": [
       "<Figure size 1000x350 with 1 Axes>"
      ]
     },
     "metadata": {},
     "output_type": "display_data"
    }
   ],
   "source": [
    "fig             = plt.figure(figsize=(10,3.5))\n",
    "ax1             = fig.add_subplot(111, xscale='linear', yscale='log')\n",
    "\n",
    "min_for_range = np.nanmin([np.nanmin(full_catalog_df.loc[:, 'Z']),\\\n",
    "                           np.nanmin(full_catalog_df.loc[:, 'pred_Z'])])\n",
    "max_for_range = np.nanmax([np.nanmax(full_catalog_df.loc[:, 'Z']),\\\n",
    "                           np.nanmax(full_catalog_df.loc[:, 'pred_Z'])])\n",
    "bins_z        = np.linspace(min_for_range, max_for_range, 70)\n",
    "\n",
    "\n",
    "\n",
    "_, bins, _ = ax1.hist(full_catalog_df.loc[filt_new_rAGN_p, 'pred_Z'], bins=bins_z, histtype='stepfilled',\\\n",
    "                      ec='k', fc='mediumpurple', lw=3.5,\\\n",
    "                      label=f\"New\\nN={np.sum(filt_new_rAGN_p):,}\")\n",
    "ax1.hist(full_catalog_df.loc[filter_radio_AGN_t * filter_radio_AGN_p, 'Z'], bins=bins_z, histtype='stepfilled', ec='k',\\\n",
    "         fc='darkcyan', lw=3.5, label=f\"True\\nN={np.sum(filter_radio_AGN_t):,}\", alpha=0.7)\n",
    "\n",
    "# ax1.axvline(x=3.6, ls='--', c='k', lw=2.5, zorder=10)\n",
    "# ax1.axvline(x=3.7, ls='--', c='k', lw=2.5, zorder=10)\n",
    "# ax1.axvline(x=3.8, ls='--', c='k', lw=2.5, zorder=10)\n",
    "# ax1.axvline(x=3.9, ls='--', c='k', lw=2.5, zorder=10)\n",
    "# ax1.axvline(x=4.0, ls='--', c='k', lw=2.5, zorder=10)\n",
    "\n",
    "ax1.tick_params(which='both', top=True, right=True, direction='in')\n",
    "ax1.tick_params(axis='both', which='major', labelsize=14)\n",
    "ax1.tick_params(which='major', length=8, width=1.5)\n",
    "ax1.tick_params(which='minor', length=4, width=1.5)\n",
    "# ax1.set_xlabel('$m_{\\mathrm{W1}}\\, \\mathrm{[AB]}$', size=20)\n",
    "ax1.set_xlabel('$z_{\\mathrm{AGN}}$', size=20)\n",
    "ax1.set_ylabel('Frequency', size=20)\n",
    "# ax1.set_ylabel('Frequency', size=20)\n",
    "plt.setp(ax1.spines.values(), linewidth=3.5)\n",
    "plt.setp(ax1.spines.values(), linewidth=3.5)\n",
    "plt.legend(loc=1, fontsize=16)\n",
    "# ax1.invert_xaxis()\n",
    "# ax1.set_xlim(left=-4, right=6)\n",
    "#ax1.set_aspect('equal', 'box')\n",
    "ax1.set_title(used_area, fontsize=14)\n",
    "fig.tight_layout()\n",
    "if save_plot_flag:\n",
    "    plt.savefig(f'plots/hist_true_predicted_z_{used_area}.pdf')\n",
    "plt.show()"
   ]
  },
  {
   "cell_type": "markdown",
   "metadata": {},
   "source": [
    "---"
   ]
  },
  {
   "cell_type": "markdown",
   "metadata": {},
   "source": [
    "## Additional test with data from Ananna et al., 2017"
   ]
  },
  {
   "cell_type": "code",
   "execution_count": 112,
   "metadata": {
    "jupyter": {
     "source_hidden": true
    },
    "tags": []
   },
   "outputs": [],
   "source": [
    "if compare_A17_flag:\n",
    "    full_catalog_A17_df = pd.read_hdf(cat_path + file_S82_Ananna_17, key='df').drop(columns=features_2_discard)"
   ]
  },
  {
   "cell_type": "code",
   "execution_count": 113,
   "metadata": {
    "jupyter": {
     "source_hidden": true
    },
    "tags": []
   },
   "outputs": [],
   "source": [
    "if compare_A17_flag:\n",
    "    full_catalog_A17_df = pyr.predict_model(redshift_reg, data=full_catalog_A17_df, round=8)\n",
    "    full_catalog_A17_df = full_catalog_A17_df.rename(columns={'Label': 'pred_Z', 'is_AGN': 'class'})\n",
    "    full_catalog_A17_df['pred_Z'] = np.around(full_catalog_A17_df.loc[:, 'pred_Z'], decimals=6)\n",
    "    redshift_lim_0    = 2.0\n",
    "    redshift_tol_0    = 0.0\n",
    "    redshift_lim_1    = 3.0\n",
    "    redshift_tol_1    = 0.0\n",
    "    redshift_lim_2    = 3.6\n",
    "    redshift_tol_2    = 0.0\n",
    "    if use_second_z_model:\n",
    "        full_catalog_A17_df = pyr.predict_model(redshift_reg_2, data=full_catalog_A17_df, round=8)\n",
    "        filter_pred_z_A17   = full_catalog_A17_df.loc[:, 'pred_Z'] >= (redshift_lim_0 + redshift_tol_0)\n",
    "        full_catalog_A17_df.loc[:, 'pred_Z'] = full_catalog_A17_df.loc[:, 'pred_Z'].mask(filter_pred_z_A17, full_catalog_A17_df.loc[filter_pred_z_A17, 'Label'])\n",
    "        full_catalog_A17_df = full_catalog_A17_df.drop(columns=['Label'])\n",
    "        full_catalog_A17_df.loc[:, 'pred_Z'] = np.around(full_catalog_A17_df.loc[:, 'pred_Z'], decimals=6)\n",
    "    if use_third_z_model:\n",
    "        full_catalog_A17_df = pyr.predict_model(redshift_reg_3, data=full_catalog_A17_df, round=8)\n",
    "        filter_pred_z_A17   = full_catalog_A17_df.loc[:, 'pred_Z'] >= (redshift_lim_1 + redshift_tol_1)\n",
    "        full_catalog_A17_df.loc[:, 'pred_Z'] = full_catalog_A17_df.loc[:, 'pred_Z'].mask(filter_pred_z_A17, full_catalog_A17_df.loc[filter_pred_z_A17, 'Label'])\n",
    "        full_catalog_A17_df = full_catalog_A17_df.drop(columns=['Label'])\n",
    "        full_catalog_A17_df.loc[:, 'pred_Z'] = np.around(full_catalog_A17_df.loc[:, 'pred_Z'], decimals=6)\n",
    "    if use_fourth_z_model:\n",
    "        full_catalog_A17_df = pyr.predict_model(redshift_reg_4, data=full_catalog_A17_df, round=8)\n",
    "        filter_pred_z_A17   = full_catalog_A17_df.loc[:, 'pred_Z'] >= (redshift_lim_2 + redshift_tol_2)\n",
    "        full_catalog_A17_df.loc[:, 'pred_Z'] = full_catalog_A17_df.loc[:, 'pred_Z'].mask(filter_pred_z_A17, full_catalog_A17_df.loc[filter_pred_z_A17, 'Label'])\n",
    "        full_catalog_A17_df = full_catalog_A17_df.drop(columns=['Label'])\n",
    "        full_catalog_A17_df.loc[:, 'pred_Z'] = np.around(full_catalog_A17_df.loc[:, 'pred_Z'], decimals=6)"
   ]
  },
  {
   "cell_type": "code",
   "execution_count": 114,
   "metadata": {
    "jupyter": {
     "source_hidden": true
    },
    "tags": []
   },
   "outputs": [],
   "source": [
    "if compare_A17_flag:\n",
    "    sigma_mad_AGN_A17            = sigma_mad(full_catalog_A17_df.loc[:, 'Z'],    full_catalog_A17_df.loc[:, 'pred_Z'])\n",
    "    sigma_nmad_AGN_A17           = sigma_nmad(full_catalog_A17_df.loc[:, 'Z'],   full_catalog_A17_df.loc[:, 'pred_Z'])\n",
    "    sigma_z_AGN_A17              = sigma_z(full_catalog_A17_df.loc[:, 'Z'],      full_catalog_A17_df.loc[:, 'pred_Z'])\n",
    "    sigma_z_norm_AGN_A17         = sigma_z_norm(full_catalog_A17_df.loc[:, 'Z'], full_catalog_A17_df.loc[:, 'pred_Z'])\n",
    "    out_frac_AGN_A17             = outlier_frac(full_catalog_A17_df.loc[:, 'Z'], full_catalog_A17_df.loc[:, 'pred_Z'])"
   ]
  },
  {
   "cell_type": "code",
   "execution_count": 115,
   "metadata": {
    "jupyter": {
     "source_hidden": true
    },
    "tags": []
   },
   "outputs": [
    {
     "name": "stdout",
     "output_type": "stream",
     "text": [
      "Metrics for redshift prediction on AGN from Ananna et al., 2017\n",
      "Sample size,                        N = 204\n",
      "Sigma MAD                       σ MAD = 0.2199\n",
      "Sigma NMAD,                    σ NMAD = 0.1041\n",
      "Sigma z,                          σ z = 0.3414\n",
      "Sigma z normalized,             σ z N = 0.1735\n",
      "Outlier fraction,                   η = 0.2469\n"
     ]
    }
   ],
   "source": [
    "if compare_A17_flag:\n",
    "    print('Metrics for redshift prediction on AGN from Ananna et al., 2017')\n",
    "    print(f'Sample size,                        N = {np.sum(np.isfinite(full_catalog_A17_df.loc[:, \"zsp\"]) & np.isfinite(full_catalog_A17_df.loc[:, \"pred_Z\"])):,}')\n",
    "    print(f'Sigma MAD                       \\u03C3 MAD = {sigma_mad_AGN_A17:.4f}')\n",
    "    print(f'Sigma NMAD,                    \\u03C3 NMAD = {sigma_nmad_AGN_A17:.4f}')\n",
    "    print(f'Sigma z,                          \\u03C3 z = {sigma_z_AGN_A17:.4f}')\n",
    "    print(f'Sigma z normalized,             \\u03C3 z N = {sigma_z_norm_AGN_A17:.4f}')\n",
    "    print(f'Outlier fraction,                   \\u03B7 = {out_frac_AGN_A17:.4f}')"
   ]
  },
  {
   "cell_type": "code",
   "execution_count": 116,
   "metadata": {
    "jupyter": {
     "source_hidden": true
    },
    "tags": []
   },
   "outputs": [
    {
     "data": {
      "image/png": "[encoded data removed]",
      "text/plain": [
       "<Figure size 750x430 with 1 Axes>"
      ]
     },
     "metadata": {},
     "output_type": "display_data"
    }
   ],
   "source": [
    "if compare_A17_flag:\n",
    "    fig              = plt.figure(figsize=(7.5,4.3))\n",
    "    ax1              = fig.add_subplot(111, xscale='linear', yscale='linear')\n",
    "    \n",
    "    min_score        = np.nanmin([np.nanmin(full_catalog_A17_df.loc[:, 'zsp']), np.nanmin(full_catalog_A17_df.loc[:, 'pred_Z'])])\n",
    "    max_score        = np.nanmax([np.nanmax(full_catalog_A17_df.loc[:, 'zsp']), np.nanmax(full_catalog_A17_df.loc[:, 'pred_Z'])])\n",
    "    score_bins       = np.linspace(min_score, max_score, 30)\n",
    "    \n",
    "    sample_size_orig = np.sum(np.isfinite(full_catalog_A17_df.loc[:, 'zsp']))\n",
    "    sample_size_pred = np.sum(np.isfinite(full_catalog_A17_df.loc[:, 'pred_Z']))\n",
    "    \n",
    "    ax1.hist(full_catalog_A17_df.loc[:, 'zsp'], bins=score_bins, histtype='stepfilled',\\\n",
    "             ec='k', lw=3.5, color=cm.get_cmap('cet_gray')(0.8), alpha=0.9,\\\n",
    "             label=f'Original\\nN={sample_size_orig:,}', zorder=2)\n",
    "    ax1.hist(full_catalog_A17_df.loc[:, 'pred_Z'], bins=score_bins, histtype='stepfilled',\\\n",
    "             ec='k', lw=3.5, color=cm.get_cmap('cet_gray')(0.9), alpha=0.7,\\\n",
    "             label=f'Predicted\\nN={sample_size_pred:,}', zorder=1)\n",
    "        \n",
    "    ax1.tick_params(which='both', top=True, right=True, direction='in')\n",
    "    ax1.tick_params(axis='both', which='major', labelsize=14)\n",
    "    ax1.tick_params(which='major', length=8, width=1.5)\n",
    "    ax1.tick_params(which='minor', length=4, width=1.5)\n",
    "    ax1.set_xlabel('Redshift', size=20)\n",
    "    ax1.set_ylabel('Frequency', size=20)\n",
    "    plt.setp(ax1.spines.values(), linewidth=3.5)\n",
    "    plt.setp(ax1.spines.values(), linewidth=3.5)\n",
    "    plt.legend(loc=1, fontsize=14)\n",
    "    plt.grid(False)\n",
    "    ax1.set_title('S82: Ananna+17')\n",
    "    #ax1.set_aspect('equal', 'box')\n",
    "    fig.tight_layout()\n",
    "    if save_plot_flag:\n",
    "        plt.savefig(f'plots/hist_redshift_AGN_{used_area}_Ananna_17.pdf', bbox_inches='tight')\n",
    "    plt.show()"
   ]
  },
  {
   "cell_type": "code",
   "execution_count": 117,
   "metadata": {
    "jupyter": {
     "source_hidden": true
    },
    "tags": []
   },
   "outputs": [],
   "source": [
    "if compare_A17_flag:\n",
    "    full_catalog_A17_df = full_catalog_A17_df.loc[np.array(full_catalog_A17_df.loc[:, 'class'] == 1) &\\\n",
    "                                                  np.array(full_catalog_A17_df.loc[:, 'radio_detect'] == 1)]"
   ]
  },
  {
   "cell_type": "code",
   "execution_count": 118,
   "metadata": {
    "jupyter": {
     "source_hidden": true
    },
    "tags": []
   },
   "outputs": [],
   "source": [
    "if compare_A17_flag:\n",
    "    used_z_col = 'zsp'\n",
    "    full_catalog_A17_df['Delta_z_N'] = np.around((full_catalog_A17_df.loc[:, 'pred_Z'] - full_catalog_A17_df.loc[:, used_z_col]) /\\\n",
    "                                                 (1 + full_catalog_A17_df.loc[:, used_z_col]), decimals=3)\n",
    "    full_catalog_A17_df['sigma_NMAD'] = np.around(1.48 * np.abs(full_catalog_A17_df.loc[:, 'pred_Z'] - full_catalog_A17_df.loc[:, used_z_col]) /\\\n",
    "                                                  (1 + full_catalog_A17_df.loc[:, used_z_col]), decimals=3)"
   ]
  },
  {
   "cell_type": "code",
   "execution_count": 119,
   "metadata": {
    "jupyter": {
     "source_hidden": true
    },
    "tags": []
   },
   "outputs": [
    {
     "data": {
      "text/html": [
       "<div>\n",
       "<style scoped>\n",
       "    .dataframe tbody tr th:only-of-type {\n",
       "        vertical-align: middle;\n",
       "    }\n",
       "\n",
       "    .dataframe tbody tr th {\n",
       "        vertical-align: top;\n",
       "    }\n",
       "\n",
       "    .dataframe thead th {\n",
       "        text-align: right;\n",
       "    }\n",
       "</style>\n",
       "<table border=\"1\" class=\"dataframe\">\n",
       "  <thead>\n",
       "    <tr style=\"text-align: right;\">\n",
       "      <th></th>\n",
       "      <th>RA_ICRS</th>\n",
       "      <th>DE_ICRS</th>\n",
       "      <th>Name</th>\n",
       "      <th>TYPE</th>\n",
       "      <th>band_num</th>\n",
       "      <th>class</th>\n",
       "      <th>radio_detect</th>\n",
       "      <th>Z</th>\n",
       "      <th>zsp</th>\n",
       "      <th>pred_Z</th>\n",
       "      <th>Delta_z_N</th>\n",
       "    </tr>\n",
       "  </thead>\n",
       "  <tbody>\n",
       "    <tr>\n",
       "      <th>49</th>\n",
       "      <td>27.723097</td>\n",
       "      <td>-0.300845</td>\n",
       "      <td>J015053.54-001803.0</td>\n",
       "      <td>QRX</td>\n",
       "      <td>7</td>\n",
       "      <td>1</td>\n",
       "      <td>1</td>\n",
       "      <td>2.924</td>\n",
       "      <td>2.924181</td>\n",
       "      <td>2.68215</td>\n",
       "      <td>-0.062</td>\n",
       "    </tr>\n",
       "    <tr>\n",
       "      <th>96</th>\n",
       "      <td>14.320834</td>\n",
       "      <td>-0.409190</td>\n",
       "      <td>J005716.99-002433.0</td>\n",
       "      <td>QRX</td>\n",
       "      <td>11</td>\n",
       "      <td>1</td>\n",
       "      <td>1</td>\n",
       "      <td>2.748</td>\n",
       "      <td>2.747530</td>\n",
       "      <td>2.61190</td>\n",
       "      <td>-0.036</td>\n",
       "    </tr>\n",
       "    <tr>\n",
       "      <th>141</th>\n",
       "      <td>20.386988</td>\n",
       "      <td>0.108013</td>\n",
       "      <td>J012132.87+000628.9</td>\n",
       "      <td>QR2X</td>\n",
       "      <td>12</td>\n",
       "      <td>1</td>\n",
       "      <td>1</td>\n",
       "      <td>2.177</td>\n",
       "      <td>2.177000</td>\n",
       "      <td>2.05680</td>\n",
       "      <td>-0.038</td>\n",
       "    </tr>\n",
       "    <tr>\n",
       "      <th>169</th>\n",
       "      <td>24.873035</td>\n",
       "      <td>0.225089</td>\n",
       "      <td>J013929.52+001330.3</td>\n",
       "      <td>QX</td>\n",
       "      <td>12</td>\n",
       "      <td>1</td>\n",
       "      <td>1</td>\n",
       "      <td>2.103</td>\n",
       "      <td>2.103771</td>\n",
       "      <td>2.04870</td>\n",
       "      <td>-0.018</td>\n",
       "    </tr>\n",
       "    <tr>\n",
       "      <th>195</th>\n",
       "      <td>18.962803</td>\n",
       "      <td>-0.409888</td>\n",
       "      <td>J011551.07-002435.5</td>\n",
       "      <td>QX</td>\n",
       "      <td>6</td>\n",
       "      <td>1</td>\n",
       "      <td>1</td>\n",
       "      <td>2.688</td>\n",
       "      <td>2.686848</td>\n",
       "      <td>2.03060</td>\n",
       "      <td>-0.178</td>\n",
       "    </tr>\n",
       "    <tr>\n",
       "      <th>197</th>\n",
       "      <td>20.767641</td>\n",
       "      <td>-0.274536</td>\n",
       "      <td>J012304.22-001628.2</td>\n",
       "      <td>QRX</td>\n",
       "      <td>13</td>\n",
       "      <td>1</td>\n",
       "      <td>1</td>\n",
       "      <td>2.118</td>\n",
       "      <td>2.120905</td>\n",
       "      <td>1.94565</td>\n",
       "      <td>-0.056</td>\n",
       "    </tr>\n",
       "    <tr>\n",
       "      <th>37</th>\n",
       "      <td>21.973881</td>\n",
       "      <td>0.421378</td>\n",
       "      <td>J012753.72+002516.9</td>\n",
       "      <td>QRX</td>\n",
       "      <td>11</td>\n",
       "      <td>1</td>\n",
       "      <td>1</td>\n",
       "      <td>2.449</td>\n",
       "      <td>2.449000</td>\n",
       "      <td>1.91120</td>\n",
       "      <td>-0.156</td>\n",
       "    </tr>\n",
       "    <tr>\n",
       "      <th>130</th>\n",
       "      <td>25.263466</td>\n",
       "      <td>-0.194894</td>\n",
       "      <td>J014103.23-001141.5</td>\n",
       "      <td>QRX</td>\n",
       "      <td>11</td>\n",
       "      <td>1</td>\n",
       "      <td>1</td>\n",
       "      <td>1.810</td>\n",
       "      <td>1.809509</td>\n",
       "      <td>1.86200</td>\n",
       "      <td>0.019</td>\n",
       "    </tr>\n",
       "    <tr>\n",
       "      <th>160</th>\n",
       "      <td>25.346014</td>\n",
       "      <td>-0.406123</td>\n",
       "      <td>J014123.04-002421.9</td>\n",
       "      <td>QRX</td>\n",
       "      <td>14</td>\n",
       "      <td>1</td>\n",
       "      <td>1</td>\n",
       "      <td>2.608</td>\n",
       "      <td>2.607775</td>\n",
       "      <td>1.86050</td>\n",
       "      <td>-0.207</td>\n",
       "    </tr>\n",
       "    <tr>\n",
       "      <th>172</th>\n",
       "      <td>27.643908</td>\n",
       "      <td>-0.033507</td>\n",
       "      <td>J015034.53-000200.5</td>\n",
       "      <td>AX</td>\n",
       "      <td>12</td>\n",
       "      <td>1</td>\n",
       "      <td>1</td>\n",
       "      <td>0.169</td>\n",
       "      <td>1.740262</td>\n",
       "      <td>1.78525</td>\n",
       "      <td>0.016</td>\n",
       "    </tr>\n",
       "  </tbody>\n",
       "</table>\n",
       "</div>"
      ],
      "text/plain": [
       "       RA_ICRS   DE_ICRS                  Name  TYPE  band_num  class  \\\n",
       "49   27.723097 -0.300845  J015053.54-001803.0   QRX          7      1   \n",
       "96   14.320834 -0.409190  J005716.99-002433.0   QRX         11      1   \n",
       "141  20.386988  0.108013  J012132.87+000628.9   QR2X        12      1   \n",
       "169  24.873035  0.225089  J013929.52+001330.3   QX          12      1   \n",
       "195  18.962803 -0.409888  J011551.07-002435.5   QX           6      1   \n",
       "197  20.767641 -0.274536  J012304.22-001628.2   QRX         13      1   \n",
       "37   21.973881  0.421378  J012753.72+002516.9   QRX         11      1   \n",
       "130  25.263466 -0.194894  J014103.23-001141.5   QRX         11      1   \n",
       "160  25.346014 -0.406123  J014123.04-002421.9   QRX         14      1   \n",
       "172  27.643908 -0.033507  J015034.53-000200.5   AX          12      1   \n",
       "\n",
       "     radio_detect      Z       zsp   pred_Z  Delta_z_N  \n",
       "49              1  2.924  2.924181  2.68215     -0.062  \n",
       "96              1  2.748  2.747530  2.61190     -0.036  \n",
       "141             1  2.177  2.177000  2.05680     -0.038  \n",
       "169             1  2.103  2.103771  2.04870     -0.018  \n",
       "195             1  2.688  2.686848  2.03060     -0.178  \n",
       "197             1  2.118  2.120905  1.94565     -0.056  \n",
       "37              1  2.449  2.449000  1.91120     -0.156  \n",
       "130             1  1.810  1.809509  1.86200      0.019  \n",
       "160             1  2.608  2.607775  1.86050     -0.207  \n",
       "172             1  0.169  1.740262  1.78525      0.016  "
      ]
     },
     "metadata": {},
     "output_type": "display_data"
    },
    {
     "data": {
      "text/html": [
       "<div>\n",
       "<style scoped>\n",
       "    .dataframe tbody tr th:only-of-type {\n",
       "        vertical-align: middle;\n",
       "    }\n",
       "\n",
       "    .dataframe tbody tr th {\n",
       "        vertical-align: top;\n",
       "    }\n",
       "\n",
       "    .dataframe thead th {\n",
       "        text-align: right;\n",
       "    }\n",
       "</style>\n",
       "<table border=\"1\" class=\"dataframe\">\n",
       "  <thead>\n",
       "    <tr style=\"text-align: right;\">\n",
       "      <th></th>\n",
       "      <th>RA_ICRS</th>\n",
       "      <th>DE_ICRS</th>\n",
       "      <th>Name</th>\n",
       "      <th>TYPE</th>\n",
       "      <th>band_num</th>\n",
       "      <th>class</th>\n",
       "      <th>radio_detect</th>\n",
       "      <th>Z</th>\n",
       "      <th>zsp</th>\n",
       "      <th>pred_Z</th>\n",
       "      <th>Delta_z_N</th>\n",
       "    </tr>\n",
       "  </thead>\n",
       "  <tbody>\n",
       "    <tr>\n",
       "      <th>49</th>\n",
       "      <td>27.723097</td>\n",
       "      <td>-0.300845</td>\n",
       "      <td>J015053.54-001803.0</td>\n",
       "      <td>QRX</td>\n",
       "      <td>7</td>\n",
       "      <td>1</td>\n",
       "      <td>1</td>\n",
       "      <td>2.924</td>\n",
       "      <td>2.924181</td>\n",
       "      <td>2.68215</td>\n",
       "      <td>-0.062</td>\n",
       "    </tr>\n",
       "    <tr>\n",
       "      <th>96</th>\n",
       "      <td>14.320834</td>\n",
       "      <td>-0.409190</td>\n",
       "      <td>J005716.99-002433.0</td>\n",
       "      <td>QRX</td>\n",
       "      <td>11</td>\n",
       "      <td>1</td>\n",
       "      <td>1</td>\n",
       "      <td>2.748</td>\n",
       "      <td>2.747530</td>\n",
       "      <td>2.61190</td>\n",
       "      <td>-0.036</td>\n",
       "    </tr>\n",
       "    <tr>\n",
       "      <th>195</th>\n",
       "      <td>18.962803</td>\n",
       "      <td>-0.409888</td>\n",
       "      <td>J011551.07-002435.5</td>\n",
       "      <td>QX</td>\n",
       "      <td>6</td>\n",
       "      <td>1</td>\n",
       "      <td>1</td>\n",
       "      <td>2.688</td>\n",
       "      <td>2.686848</td>\n",
       "      <td>2.03060</td>\n",
       "      <td>-0.178</td>\n",
       "    </tr>\n",
       "    <tr>\n",
       "      <th>160</th>\n",
       "      <td>25.346014</td>\n",
       "      <td>-0.406123</td>\n",
       "      <td>J014123.04-002421.9</td>\n",
       "      <td>QRX</td>\n",
       "      <td>14</td>\n",
       "      <td>1</td>\n",
       "      <td>1</td>\n",
       "      <td>2.608</td>\n",
       "      <td>2.607775</td>\n",
       "      <td>1.86050</td>\n",
       "      <td>-0.207</td>\n",
       "    </tr>\n",
       "    <tr>\n",
       "      <th>37</th>\n",
       "      <td>21.973881</td>\n",
       "      <td>0.421378</td>\n",
       "      <td>J012753.72+002516.9</td>\n",
       "      <td>QRX</td>\n",
       "      <td>11</td>\n",
       "      <td>1</td>\n",
       "      <td>1</td>\n",
       "      <td>2.449</td>\n",
       "      <td>2.449000</td>\n",
       "      <td>1.91120</td>\n",
       "      <td>-0.156</td>\n",
       "    </tr>\n",
       "    <tr>\n",
       "      <th>141</th>\n",
       "      <td>20.386988</td>\n",
       "      <td>0.108013</td>\n",
       "      <td>J012132.87+000628.9</td>\n",
       "      <td>QR2X</td>\n",
       "      <td>12</td>\n",
       "      <td>1</td>\n",
       "      <td>1</td>\n",
       "      <td>2.177</td>\n",
       "      <td>2.177000</td>\n",
       "      <td>2.05680</td>\n",
       "      <td>-0.038</td>\n",
       "    </tr>\n",
       "    <tr>\n",
       "      <th>197</th>\n",
       "      <td>20.767641</td>\n",
       "      <td>-0.274536</td>\n",
       "      <td>J012304.22-001628.2</td>\n",
       "      <td>QRX</td>\n",
       "      <td>13</td>\n",
       "      <td>1</td>\n",
       "      <td>1</td>\n",
       "      <td>2.118</td>\n",
       "      <td>2.120905</td>\n",
       "      <td>1.94565</td>\n",
       "      <td>-0.056</td>\n",
       "    </tr>\n",
       "    <tr>\n",
       "      <th>169</th>\n",
       "      <td>24.873035</td>\n",
       "      <td>0.225089</td>\n",
       "      <td>J013929.52+001330.3</td>\n",
       "      <td>QX</td>\n",
       "      <td>12</td>\n",
       "      <td>1</td>\n",
       "      <td>1</td>\n",
       "      <td>2.103</td>\n",
       "      <td>2.103771</td>\n",
       "      <td>2.04870</td>\n",
       "      <td>-0.018</td>\n",
       "    </tr>\n",
       "    <tr>\n",
       "      <th>179</th>\n",
       "      <td>27.972092</td>\n",
       "      <td>-0.480644</td>\n",
       "      <td>J015153.29-002850.2</td>\n",
       "      <td>QRX</td>\n",
       "      <td>15</td>\n",
       "      <td>1</td>\n",
       "      <td>1</td>\n",
       "      <td>1.996</td>\n",
       "      <td>1.996000</td>\n",
       "      <td>0.14090</td>\n",
       "      <td>-0.619</td>\n",
       "    </tr>\n",
       "    <tr>\n",
       "      <th>155</th>\n",
       "      <td>25.025864</td>\n",
       "      <td>0.022714</td>\n",
       "      <td>J014006.20+000121.8</td>\n",
       "      <td>QX</td>\n",
       "      <td>7</td>\n",
       "      <td>1</td>\n",
       "      <td>1</td>\n",
       "      <td>1.830</td>\n",
       "      <td>1.830263</td>\n",
       "      <td>1.00510</td>\n",
       "      <td>-0.292</td>\n",
       "    </tr>\n",
       "  </tbody>\n",
       "</table>\n",
       "</div>"
      ],
      "text/plain": [
       "       RA_ICRS   DE_ICRS                  Name  TYPE  band_num  class  \\\n",
       "49   27.723097 -0.300845  J015053.54-001803.0   QRX          7      1   \n",
       "96   14.320834 -0.409190  J005716.99-002433.0   QRX         11      1   \n",
       "195  18.962803 -0.409888  J011551.07-002435.5   QX           6      1   \n",
       "160  25.346014 -0.406123  J014123.04-002421.9   QRX         14      1   \n",
       "37   21.973881  0.421378  J012753.72+002516.9   QRX         11      1   \n",
       "141  20.386988  0.108013  J012132.87+000628.9   QR2X        12      1   \n",
       "197  20.767641 -0.274536  J012304.22-001628.2   QRX         13      1   \n",
       "169  24.873035  0.225089  J013929.52+001330.3   QX          12      1   \n",
       "179  27.972092 -0.480644  J015153.29-002850.2   QRX         15      1   \n",
       "155  25.025864  0.022714  J014006.20+000121.8   QX           7      1   \n",
       "\n",
       "     radio_detect      Z       zsp   pred_Z  Delta_z_N  \n",
       "49              1  2.924  2.924181  2.68215     -0.062  \n",
       "96              1  2.748  2.747530  2.61190     -0.036  \n",
       "195             1  2.688  2.686848  2.03060     -0.178  \n",
       "160             1  2.608  2.607775  1.86050     -0.207  \n",
       "37              1  2.449  2.449000  1.91120     -0.156  \n",
       "141             1  2.177  2.177000  2.05680     -0.038  \n",
       "197             1  2.118  2.120905  1.94565     -0.056  \n",
       "169             1  2.103  2.103771  2.04870     -0.018  \n",
       "179             1  1.996  1.996000  0.14090     -0.619  \n",
       "155             1  1.830  1.830263  1.00510     -0.292  "
      ]
     },
     "metadata": {},
     "output_type": "display_data"
    }
   ],
   "source": [
    "if compare_A17_flag:\n",
    "    show_columns_A17 = ['RA_ICRS', 'DE_ICRS', 'Name', 'TYPE', 'band_num', 'class', 'radio_detect', 'Z', 'zsp', 'pred_Z', 'Delta_z_N']\n",
    "    display(full_catalog_A17_df.loc[:, show_columns_A17].sort_values(by='pred_Z', ascending=False).head(10))\n",
    "    display(full_catalog_A17_df.loc[:, show_columns_A17].sort_values(by=used_z_col, ascending=False).head(10))"
   ]
  },
  {
   "cell_type": "code",
   "execution_count": 120,
   "metadata": {
    "jupyter": {
     "source_hidden": true
    },
    "tags": []
   },
   "outputs": [],
   "source": [
    "if compare_A17_flag:\n",
    "    sigma_mad_rAGN_A17            = sigma_mad(full_catalog_A17_df.loc[:, 'Z'],    full_catalog_A17_df.loc[:, 'pred_Z'])\n",
    "    sigma_nmad_rAGN_A17           = sigma_nmad(full_catalog_A17_df.loc[:, 'Z'],   full_catalog_A17_df.loc[:, 'pred_Z'])\n",
    "    sigma_z_rAGN_A17              = sigma_z(full_catalog_A17_df.loc[:, 'Z'],      full_catalog_A17_df.loc[:, 'pred_Z'])\n",
    "    sigma_z_norm_rAGN_A17         = sigma_z_norm(full_catalog_A17_df.loc[:, 'Z'], full_catalog_A17_df.loc[:, 'pred_Z'])\n",
    "    out_frac_rAGN_A17             = outlier_frac(full_catalog_A17_df.loc[:, 'Z'], full_catalog_A17_df.loc[:, 'pred_Z'])"
   ]
  },
  {
   "cell_type": "code",
   "execution_count": 121,
   "metadata": {
    "jupyter": {
     "source_hidden": true
    },
    "tags": []
   },
   "outputs": [
    {
     "name": "stdout",
     "output_type": "stream",
     "text": [
      "Metrics for redshift prediction on radio AGN from Ananna et al., 2017\n",
      "Sample size,                        N = 77\n",
      "Sigma MAD                       σ MAD = 0.1779\n",
      "Sigma NMAD,                    σ NMAD = 0.0912\n",
      "Sigma z,                          σ z = 0.3837\n",
      "Sigma z normalized,             σ z N = 0.2104\n",
      "Outlier fraction,                   η = 0.1948\n"
     ]
    }
   ],
   "source": [
    "if compare_A17_flag:\n",
    "    print('Metrics for redshift prediction on radio AGN from Ananna et al., 2017')\n",
    "    print(f'Sample size,                        N = {np.sum(np.isfinite(full_catalog_A17_df.loc[:, \"zsp\"]) & np.isfinite(full_catalog_A17_df.loc[:, \"pred_Z\"])):,}')\n",
    "    print(f'Sigma MAD                       \\u03C3 MAD = {sigma_mad_rAGN_A17:.4f}')\n",
    "    print(f'Sigma NMAD,                    \\u03C3 NMAD = {sigma_nmad_rAGN_A17:.4f}')\n",
    "    print(f'Sigma z,                          \\u03C3 z = {sigma_z_rAGN_A17:.4f}')\n",
    "    print(f'Sigma z normalized,             \\u03C3 z N = {sigma_z_norm_rAGN_A17:.4f}')\n",
    "    print(f'Outlier fraction,                   \\u03B7 = {out_frac_rAGN_A17:.4f}')"
   ]
  },
  {
   "cell_type": "code",
   "execution_count": 122,
   "metadata": {
    "jupyter": {
     "source_hidden": true
    },
    "tags": []
   },
   "outputs": [
    {
     "data": {
      "image/png": "[encoded data removed]",
      "text/plain": [
       "<Figure size 600x500 with 3 Axes>"
      ]
     },
     "metadata": {},
     "output_type": "display_data"
    }
   ],
   "source": [
    "if compare_A17_flag:\n",
    "    fig             = plt.figure(figsize=(6,5))\n",
    "    ax1             = fig.add_subplot(111, projection='scatter_density', xscale='log', yscale='log')\n",
    "    plot_redshift_compare(full_catalog_A17_df.loc[:, used_z_col], full_catalog_A17_df.loc[:, 'pred_Z'],\\\n",
    "                          ax_pre=ax1, title=None, dpi=10, show_clb=True, log_stretch=False)\n",
    "    if save_plot_flag:\n",
    "        plt.savefig(f'plots/compare_redshift_{used_area}_Ananna_17.pdf', bbox_inches='tight')\n",
    "    plt.show()"
   ]
  },
  {
   "cell_type": "code",
   "execution_count": null,
   "metadata": {},
   "outputs": [],
   "source": []
  }
 ],
 "metadata": {
  "kernelspec": {
   "display_name": "Python 3 (ipykernel)",
   "language": "python",
   "name": "python3"
  },
  "language_info": {
   "codemirror_mode": {
    "name": "ipython",
    "version": 3
   },
   "file_extension": ".py",
   "mimetype": "text/x-python",
   "name": "python",
   "nbconvert_exporter": "python",
   "pygments_lexer": "ipython3",
   "version": "3.8.13"
  }
 },
 "nbformat": 4,
 "nbformat_minor": 4
}
