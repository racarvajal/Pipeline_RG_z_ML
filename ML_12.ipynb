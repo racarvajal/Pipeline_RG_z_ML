{
 "cells": [
  {
   "cell_type": "markdown",
   "metadata": {},
   "source": [
    "# Pipeline for High-z Radio Galaxies 12: Create lists (files) with radio AGN candidates"
   ]
  },
  {
   "cell_type": "markdown",
   "metadata": {},
   "source": [
    "## Introduction"
   ]
  },
  {
   "cell_type": "markdown",
   "metadata": {},
   "source": [
    "In this file, three models will be applied consecutively in order to predict  \n",
    "the detection of Radio Galaxies (radio AGN) and their redshift.  \n",
    "\n",
    "In principle, this pipeline should be applied to data in Stripe 82. But  \n",
    "it can be used with any other suitable dataset."
   ]
  },
  {
   "cell_type": "code",
   "execution_count": 1,
   "metadata": {},
   "outputs": [],
   "source": [
    "%matplotlib inline\n",
    "# Static plots\n",
    "#%matplotlib ipympl\n",
    "# Interactive plots\n",
    "import numpy as np\n",
    "import matplotlib as mpl\n",
    "import matplotlib.cm as cm\n",
    "from matplotlib import ticker\n",
    "import matplotlib.pyplot as plt\n",
    "import matplotlib.colors as mcolors\n",
    "import matplotlib.patheffects as mpe\n",
    "import matplotlib.patches as mpatches\n",
    "from matplotlib.ticker import ScalarFormatter\n",
    "from mpl_toolkits.axes_grid1.inset_locator import inset_axes\n",
    "from astropy.visualization import LogStretch, PowerStretch\n",
    "from astropy.visualization.mpl_normalize import ImageNormalize\n",
    "from sklearn.preprocessing import MinMaxScaler\n",
    "from sklearn.metrics import ConfusionMatrixDisplay\n",
    "import sklearn.pipeline\n",
    "import colorcet as cc\n",
    "from pycaret import classification as pyc\n",
    "from pycaret import regression as pyr\n",
    "from joblib import dump, load\n",
    "import pandas as pd\n",
    "import mpl_scatter_density\n",
    "import global_variables as gv\n",
    "import global_functions as gf"
   ]
  },
  {
   "cell_type": "code",
   "execution_count": 2,
   "metadata": {},
   "outputs": [],
   "source": [
    "mpl.rcdefaults()"
   ]
  },
  {
   "cell_type": "markdown",
   "metadata": {},
   "source": [
    "Methods for the use of values in Confusion Matrices."
   ]
  },
  {
   "cell_type": "markdown",
   "metadata": {},
   "source": [
    "---"
   ]
  },
  {
   "cell_type": "markdown",
   "metadata": {},
   "source": [
    "## Reading data"
   ]
  },
  {
   "cell_type": "markdown",
   "metadata": {
    "tags": []
   },
   "source": [
    "Flags."
   ]
  },
  {
   "cell_type": "code",
   "execution_count": 3,
   "metadata": {},
   "outputs": [],
   "source": [
    "save_plot_flag      = False\n",
    "save_preds_flag     = False\n",
    "load_models_flag    = True\n",
    "predict_only_hi_z   = False\n",
    "use_zeroth_model    = False\n",
    "use_second_z_model  = False  # z >= 3.6 (with SMOGN), or, if needed, z >= 4.0"
   ]
  },
  {
   "cell_type": "code",
   "execution_count": 4,
   "metadata": {},
   "outputs": [],
   "source": [
    "used_area           = 'HETDEX'  # can be 'S82', 'HETDEX', 'COSMOS'"
   ]
  },
  {
   "cell_type": "code",
   "execution_count": 5,
   "metadata": {
    "jupyter": {
     "source_hidden": true
    }
   },
   "outputs": [],
   "source": [
    "if used_area != 'S82':\n",
    "    compare_A17_flag = False"
   ]
  },
  {
   "cell_type": "code",
   "execution_count": 6,
   "metadata": {
    "jupyter": {
     "source_hidden": true
    },
    "tags": []
   },
   "outputs": [],
   "source": [
    "file_name_dict      = {'S82': gv.file_S82, 'HETDEX': gv.file_HETDEX, 'COSMOS': gv.file_COSMOS}\n",
    "file_name           = file_name_dict[used_area]"
   ]
  },
  {
   "cell_type": "code",
   "execution_count": 7,
   "metadata": {
    "tags": []
   },
   "outputs": [],
   "source": [
    "feats_2_disc_S82    = ['objID', 'RA_MILLI', 'DEC_MILLI', 'X_ray_detect', 'W1mag', 'W2mag', 'FUVmag', 'NUVmag']\n",
    "feats_2_disc_HETDEX = ['objID', 'RA_MILLI', 'DEC_MILLI', 'X_ray_detect', 'W1mag', 'W2mag', 'FUVmag', 'NUVmag']\n",
    "feats_2_disc_COSMOS = ['objID', 'RA_MILLI', 'DEC_MILLI', 'X_ray_detect', 'W1mag', 'W2mag', 'FUVmag', 'NUVmag']\n",
    "\n",
    "feats_2_disc        = {'S82': feats_2_disc_S82, 'HETDEX': feats_2_disc_HETDEX, 'COSMOS': feats_2_disc_COSMOS}\n",
    "features_2_discard  = feats_2_disc[used_area]"
   ]
  },
  {
   "cell_type": "code",
   "execution_count": 8,
   "metadata": {
    "jupyter": {
     "source_hidden": true
    }
   },
   "outputs": [],
   "source": [
    "full_catalog_df     = pd.read_hdf(gv.cat_path + file_name, key='df').drop(columns=features_2_discard)"
   ]
  },
  {
   "cell_type": "code",
   "execution_count": 9,
   "metadata": {
    "jupyter": {
     "source_hidden": true
    }
   },
   "outputs": [],
   "source": [
    "full_catalog_df.loc[:, 'radio_detect'] = full_catalog_df.loc[:, 'radio_detect'].astype(int)"
   ]
  },
  {
   "cell_type": "markdown",
   "metadata": {},
   "source": [
    "Create features with class and combined redshift."
   ]
  },
  {
   "cell_type": "code",
   "execution_count": 10,
   "metadata": {
    "jupyter": {
     "source_hidden": true
    }
   },
   "outputs": [],
   "source": [
    "full_catalog_df['class']            = full_catalog_df.loc[:, 'is_AGN'].copy()\n",
    "filter_non_confirmed                = np.array(full_catalog_df.loc[:, 'is_AGN'] == 1) | np.array(full_catalog_df.loc[:, 'is_gal'] == 1)\n",
    "full_catalog_df.loc[~filter_non_confirmed, 'class'] = 0.5\n",
    "idx_non_Z                           = full_catalog_df.loc[:, 'Z'].where(full_catalog_df.loc[:, 'Z'] > 0).isna()\n",
    "full_catalog_df.loc[idx_non_Z, 'Z'] = full_catalog_df.loc[:, 'Z'].mask(idx_non_Z, full_catalog_df.loc[idx_non_Z, 'zsp'])"
   ]
  },
  {
   "cell_type": "markdown",
   "metadata": {},
   "source": [
    "Create column for detection as Radio AGN"
   ]
  },
  {
   "cell_type": "code",
   "execution_count": 11,
   "metadata": {},
   "outputs": [],
   "source": [
    "full_catalog_df['radio_AGN']      = np.array(full_catalog_df.loc[:, 'is_AGN'] == 1) & np.array(full_catalog_df.loc[:, 'radio_detect'] == 1)"
   ]
  },
  {
   "cell_type": "markdown",
   "metadata": {},
   "source": [
    "Discard minor features."
   ]
  },
  {
   "cell_type": "code",
   "execution_count": 12,
   "metadata": {},
   "outputs": [],
   "source": [
    "full_catalog_df                     = full_catalog_df.drop(columns=['is_AGN', 'is_SDSS_gal', 'is_gal', 'zsp'])"
   ]
  },
  {
   "cell_type": "markdown",
   "metadata": {},
   "source": [
    "#### As we want to predict, only use sources that have not previous spectroscopic classification"
   ]
  },
  {
   "cell_type": "code",
   "execution_count": 13,
   "metadata": {
    "jupyter": {
     "source_hidden": true
    }
   },
   "outputs": [
    {
     "name": "stdout",
     "output_type": "stream",
     "text": [
      "The used data set (in HETDEX) has 6,729,647 sources.\n",
      "And 83,409 have previous spectroscopic classification.\n"
     ]
    }
   ],
   "source": [
    "print(f'The used data set (in {used_area}) has {len(full_catalog_df):,} sources.')\n",
    "print(f'And {np.sum(filter_non_confirmed):,} have previous spectroscopic classification.')"
   ]
  },
  {
   "cell_type": "code",
   "execution_count": 14,
   "metadata": {},
   "outputs": [],
   "source": [
    "full_catalog_df                     = full_catalog_df.loc[~filter_non_confirmed]"
   ]
  },
  {
   "cell_type": "code",
   "execution_count": 15,
   "metadata": {
    "jupyter": {
     "source_hidden": true
    }
   },
   "outputs": [
    {
     "name": "stdout",
     "output_type": "stream",
     "text": [
      "This pipeline will predict properties for 6,646,238 sources in HETDEX.\n"
     ]
    }
   ],
   "source": [
    "print(f'This pipeline will predict properties for {len(full_catalog_df):,} sources in {used_area}.')"
   ]
  },
  {
   "cell_type": "markdown",
   "metadata": {},
   "source": [
    "---"
   ]
  },
  {
   "cell_type": "markdown",
   "metadata": {},
   "source": [
    "### Load models"
   ]
  },
  {
   "cell_type": "code",
   "execution_count": 16,
   "metadata": {},
   "outputs": [
    {
     "name": "stdout",
     "output_type": "stream",
     "text": [
      "Transformation Pipeline and Model Successfully Loaded\n",
      "Transformation Pipeline and Model Successfully Loaded\n",
      "Transformation Pipeline and Model Successfully Loaded\n"
     ]
    }
   ],
   "source": [
    "if load_models_flag:\n",
    "    if use_zeroth_model:\n",
    "        star_clf        = pyc.load_model(gv.models_path + gv.star_model)  # star/no-star model\n",
    "    AGN_gal_clf         = pyc.load_model(gv.models_path + gv.AGN_gal_model)  #\n",
    "    cal_AGN_gal_clf     = load(gv.models_path + gv.cal_AGN_gal_model)  # calibrated model\n",
    "    radio_det_clf       = pyc.load_model(gv.models_path + gv.radio_model)  # without predicted AGN\n",
    "    cal_radio_det_clf   = load(gv.models_path + gv.cal_radio_model)  # calibrated model\n",
    "    redshift_reg        = pyr.load_model(gv.models_path + gv.full_z_model)  # to use on full sample\n",
    "    if use_second_z_model:\n",
    "        redshift_reg_2  = pyr.load_model(gv.models_path + gv.high_z_model)  # sources with predicted z >= 3.6"
   ]
  },
  {
   "cell_type": "code",
   "execution_count": 17,
   "metadata": {
    "jupyter": {
     "source_hidden": true
    }
   },
   "outputs": [],
   "source": [
    "full_catalog_df = pyc.predict_model(AGN_gal_clf, data=full_catalog_df, probability_threshold=gv.AGN_thresh, raw_score=True, round=10)\n",
    "full_catalog_df = full_catalog_df.drop(columns=['Score_0'])\n",
    "full_catalog_df = full_catalog_df.rename(columns={'Label': 'pred_class', 'Score_1': 'Score_AGN'})\n",
    "full_catalog_df['Score_AGN'] = np.around(full_catalog_df.loc[:, 'Score_AGN'], decimals=7)\n",
    "pred_probs_AGN  = cal_AGN_gal_clf.predict_proba(full_catalog_df.loc[:, gf.get_final_column_names(AGN_gal_clf, full_catalog_df)])[:, 1]\n",
    "full_catalog_df['Prob_AGN'] = pred_probs_AGN"
   ]
  },
  {
   "cell_type": "code",
   "execution_count": 18,
   "metadata": {
    "jupyter": {
     "source_hidden": true
    }
   },
   "outputs": [],
   "source": [
    "full_catalog_df = pyc.predict_model(radio_det_clf, data=full_catalog_df, probability_threshold=gv.radio_thresh, raw_score=True, round=10)\n",
    "full_catalog_df = full_catalog_df.drop(columns=['Score_0'])\n",
    "full_catalog_df = full_catalog_df.rename(columns={'Label': 'pred_radio', 'Score_1': 'Score_radio'})\n",
    "full_catalog_df['Score_radio'] = np.around(full_catalog_df.loc[:, 'Score_radio'], decimals=7)\n",
    "pred_probs_rad  = cal_radio_det_clf.predict_proba(full_catalog_df.loc[:, gf.get_final_column_names(radio_det_clf, full_catalog_df)])[:, 1]\n",
    "full_catalog_df['Prob_radio'] = pred_probs_rad"
   ]
  },
  {
   "cell_type": "code",
   "execution_count": 19,
   "metadata": {
    "jupyter": {
     "source_hidden": true
    }
   },
   "outputs": [],
   "source": [
    "full_catalog_df = pyr.predict_model(redshift_reg, data=full_catalog_df, round=8)\n",
    "full_catalog_df = full_catalog_df.rename(columns={'Label': 'pred_Z'})\n",
    "full_catalog_df['pred_Z'] = np.around(full_catalog_df.loc[:, 'pred_Z'], decimals=3)"
   ]
  },
  {
   "cell_type": "code",
   "execution_count": 20,
   "metadata": {
    "jupyter": {
     "source_hidden": true
    }
   },
   "outputs": [],
   "source": [
    "redshift_tol    = 0.0\n",
    "if use_second_z_model:\n",
    "    full_catalog_df = pyr.predict_model(redshift_reg_2, data=full_catalog_df, round=6)\n",
    "    filter_pred_z   = full_catalog_df.loc[:, 'pred_Z'] >= (gv.high_z_limit + redshift_tol)\n",
    "    full_catalog_df.loc[:, 'pred_Z'] = full_catalog_df.loc[:, 'pred_Z'].mask(filter_pred_z, full_catalog_df.loc[filter_pred_z, 'Label'])\n",
    "    full_catalog_df = full_catalog_df.drop(columns=['Label'])\n",
    "    full_catalog_df.loc[:, 'pred_Z'] = np.around(full_catalog_df.loc[:, 'pred_Z'], decimals=3)"
   ]
  },
  {
   "cell_type": "code",
   "execution_count": 21,
   "metadata": {
    "jupyter": {
     "source_hidden": true
    },
    "tags": []
   },
   "outputs": [
    {
     "data": {
      "image/png": "[encoded data removed]",
      "text/plain": [
       "<Figure size 600x500 with 3 Axes>"
      ]
     },
     "metadata": {},
     "output_type": "display_data"
    }
   ],
   "source": [
    "fig             = plt.figure(figsize=(6,5))\n",
    "ax1             = fig.add_subplot(111, projection='scatter_density', xscale='log', yscale='log')\n",
    "ax1 = gf.plot_redshift_compare(full_catalog_df.loc[:, 'Z'], full_catalog_df.loc[:, 'pred_Z'], ax_pre=ax1, title=None, dpi=10, show_clb=True, log_stretch=False)\n",
    "ax1.axvline(x=(1 + gv.high_z_limit), ls='--', c='k', lw=2.5)\n",
    "if use_second_z_model:\n",
    "    ax1.set_ylabel('$1 + Z_{\\mathrm{Predicted}}^{\\mathrm{combined\\,models}}$', size=20)\n",
    "plt.show()"
   ]
  },
  {
   "cell_type": "code",
   "execution_count": 22,
   "metadata": {
    "jupyter": {
     "source_hidden": true
    }
   },
   "outputs": [],
   "source": [
    "full_catalog_df['pred_prob_class']    = (full_catalog_df.loc[:, 'Prob_AGN']   >= gv.cal_AGN_thresh).astype(int)\n",
    "full_catalog_df['pred_prob_radio']    = (full_catalog_df.loc[:, 'Prob_radio'] >= gv.cal_radio_thresh).astype(int)"
   ]
  },
  {
   "cell_type": "code",
   "execution_count": 23,
   "metadata": {
    "jupyter": {
     "source_hidden": true
    }
   },
   "outputs": [],
   "source": [
    "full_catalog_df['pred_radio_AGN']     = np.array(full_catalog_df.loc[:, 'pred_class'] == 1) & np.array(full_catalog_df.loc[:, 'pred_radio'] == 1)\n",
    "full_catalog_df['Score_rAGN']         = full_catalog_df.loc[:, 'Score_AGN'] * full_catalog_df.loc[:, 'Score_radio']\n",
    "full_catalog_df['pred_prob_rAGN']     = np.array(full_catalog_df.loc[:, 'pred_prob_class'] == 1) & np.array(full_catalog_df.loc[:, 'pred_prob_radio'] == 1)\n",
    "full_catalog_df['Prob_rAGN']          = full_catalog_df.loc[:, 'Prob_AGN'] * full_catalog_df.loc[:, 'Prob_radio']\n",
    "\n",
    "rad_score_scaler                      = MinMaxScaler()\n",
    "full_catalog_df['scaled_score_radio'] = rad_score_scaler.fit_transform(full_catalog_df.loc[:, 'Score_radio'].values.reshape(-1, 1))\n",
    "full_catalog_df['scaled_score_rAGN']  = full_catalog_df.loc[:, 'Score_AGN'] * full_catalog_df.loc[:, 'scaled_score_radio']"
   ]
  },
  {
   "cell_type": "code",
   "execution_count": 24,
   "metadata": {},
   "outputs": [
    {
     "data": {
      "text/html": [
       "<div>\n",
       "<style scoped>\n",
       "    .dataframe tbody tr th:only-of-type {\n",
       "        vertical-align: middle;\n",
       "    }\n",
       "\n",
       "    .dataframe tbody tr th {\n",
       "        vertical-align: top;\n",
       "    }\n",
       "\n",
       "    .dataframe thead th {\n",
       "        text-align: right;\n",
       "    }\n",
       "</style>\n",
       "<table border=\"1\" class=\"dataframe\">\n",
       "  <thead>\n",
       "    <tr style=\"text-align: right;\">\n",
       "      <th></th>\n",
       "      <th>class</th>\n",
       "      <th>pred_class</th>\n",
       "      <th>radio_detect</th>\n",
       "      <th>pred_radio</th>\n",
       "      <th>Z</th>\n",
       "      <th>pred_Z</th>\n",
       "    </tr>\n",
       "  </thead>\n",
       "  <tbody>\n",
       "    <tr>\n",
       "      <th>count</th>\n",
       "      <td>6646238.0</td>\n",
       "      <td>6.646238e+06</td>\n",
       "      <td>6.646238e+06</td>\n",
       "      <td>6.646238e+06</td>\n",
       "      <td>9662.000000</td>\n",
       "      <td>6.646238e+06</td>\n",
       "    </tr>\n",
       "    <tr>\n",
       "      <th>mean</th>\n",
       "      <td>0.5</td>\n",
       "      <td>1.205351e-01</td>\n",
       "      <td>4.826069e-02</td>\n",
       "      <td>3.345667e-02</td>\n",
       "      <td>0.400833</td>\n",
       "      <td>2.201876e+00</td>\n",
       "    </tr>\n",
       "    <tr>\n",
       "      <th>std</th>\n",
       "      <td>0.0</td>\n",
       "      <td>3.255863e-01</td>\n",
       "      <td>2.143166e-01</td>\n",
       "      <td>1.798258e-01</td>\n",
       "      <td>0.925536</td>\n",
       "      <td>7.072563e-01</td>\n",
       "    </tr>\n",
       "    <tr>\n",
       "      <th>min</th>\n",
       "      <td>0.5</td>\n",
       "      <td>0.000000e+00</td>\n",
       "      <td>0.000000e+00</td>\n",
       "      <td>0.000000e+00</td>\n",
       "      <td>-0.004140</td>\n",
       "      <td>2.300000e-02</td>\n",
       "    </tr>\n",
       "    <tr>\n",
       "      <th>25%</th>\n",
       "      <td>0.5</td>\n",
       "      <td>0.000000e+00</td>\n",
       "      <td>0.000000e+00</td>\n",
       "      <td>0.000000e+00</td>\n",
       "      <td>-0.000220</td>\n",
       "      <td>2.203000e+00</td>\n",
       "    </tr>\n",
       "    <tr>\n",
       "      <th>50%</th>\n",
       "      <td>0.5</td>\n",
       "      <td>0.000000e+00</td>\n",
       "      <td>0.000000e+00</td>\n",
       "      <td>0.000000e+00</td>\n",
       "      <td>-0.000010</td>\n",
       "      <td>2.252000e+00</td>\n",
       "    </tr>\n",
       "    <tr>\n",
       "      <th>75%</th>\n",
       "      <td>0.5</td>\n",
       "      <td>0.000000e+00</td>\n",
       "      <td>0.000000e+00</td>\n",
       "      <td>0.000000e+00</td>\n",
       "      <td>0.377580</td>\n",
       "      <td>2.318000e+00</td>\n",
       "    </tr>\n",
       "    <tr>\n",
       "      <th>max</th>\n",
       "      <td>0.5</td>\n",
       "      <td>1.000000e+00</td>\n",
       "      <td>1.000000e+00</td>\n",
       "      <td>1.000000e+00</td>\n",
       "      <td>7.028330</td>\n",
       "      <td>4.732000e+00</td>\n",
       "    </tr>\n",
       "  </tbody>\n",
       "</table>\n",
       "</div>"
      ],
      "text/plain": [
       "           class    pred_class  radio_detect    pred_radio            Z  \\\n",
       "count  6646238.0  6.646238e+06  6.646238e+06  6.646238e+06  9662.000000   \n",
       "mean         0.5  1.205351e-01  4.826069e-02  3.345667e-02     0.400833   \n",
       "std          0.0  3.255863e-01  2.143166e-01  1.798258e-01     0.925536   \n",
       "min          0.5  0.000000e+00  0.000000e+00  0.000000e+00    -0.004140   \n",
       "25%          0.5  0.000000e+00  0.000000e+00  0.000000e+00    -0.000220   \n",
       "50%          0.5  0.000000e+00  0.000000e+00  0.000000e+00    -0.000010   \n",
       "75%          0.5  0.000000e+00  0.000000e+00  0.000000e+00     0.377580   \n",
       "max          0.5  1.000000e+00  1.000000e+00  1.000000e+00     7.028330   \n",
       "\n",
       "             pred_Z  \n",
       "count  6.646238e+06  \n",
       "mean   2.201876e+00  \n",
       "std    7.072563e-01  \n",
       "min    2.300000e-02  \n",
       "25%    2.203000e+00  \n",
       "50%    2.252000e+00  \n",
       "75%    2.318000e+00  \n",
       "max    4.732000e+00  "
      ]
     },
     "execution_count": 24,
     "metadata": {},
     "output_type": "execute_result"
    }
   ],
   "source": [
    "full_catalog_df.loc[:, ['class', 'pred_class', 'radio_detect', 'pred_radio', 'Z', 'pred_Z']].describe()"
   ]
  },
  {
   "cell_type": "markdown",
   "metadata": {},
   "source": [
    "Obtain intermediate metrics"
   ]
  },
  {
   "cell_type": "code",
   "execution_count": 25,
   "metadata": {
    "jupyter": {
     "source_hidden": true
    }
   },
   "outputs": [],
   "source": [
    "filter_radio_AGN_t      = np.array(full_catalog_df.loc[:, 'class'] == 1) & np.array(full_catalog_df.loc[:, 'radio_detect'] == 1)\n",
    "filter_gal_AGN_t        = np.array(full_catalog_df.loc[:, 'class'] == 0) | np.array(full_catalog_df.loc[:, 'class'] == 1)\n",
    "total_size              = len(full_catalog_df)\n",
    "filter_AGN_t            = np.array(full_catalog_df.loc[:, 'class'] == 1)\n",
    "num_AGN_t               = np.sum(filter_AGN_t)\n",
    "num_gal_t               = np.sum(np.array(full_catalog_df.loc[:, 'class'] == 0))\n",
    "num_radio_t             = np.sum(np.array(full_catalog_df.loc[:, 'radio_detect'] == 1))\n",
    "num_radio_AGN_t         = np.sum(filter_radio_AGN_t)"
   ]
  },
  {
   "cell_type": "code",
   "execution_count": 26,
   "metadata": {
    "jupyter": {
     "source_hidden": true
    }
   },
   "outputs": [],
   "source": [
    "# filter_radio_AGN_p      = np.array(full_catalog_df.loc[:, 'Score_AGN']          >= threshold_AGN) &\\\n",
    "#                             np.array(full_catalog_df.loc[:, 'Score_radio']      >= threshold_radio)\n",
    "filter_radio_AGN_p      = np.array(full_catalog_df.loc[:, 'pred_class']      == 1) &\\\n",
    "                            np.array(full_catalog_df.loc[:, 'pred_radio']    == 1)\n",
    "filt_hiz_rAGN_p         = filter_radio_AGN_p * np.array(full_catalog_df.loc[:, 'pred_Z'] >= gv.high_z_limit)\n",
    "filter_AGN_p            = np.array(full_catalog_df.loc[:, 'pred_class']      == 1)\n",
    "filter_radio_p          = np.array(full_catalog_df.loc[:, 'pred_radio']      == 1)\n",
    "num_AGN_p               = np.sum(filter_AGN_p)\n",
    "num_gal_p               = np.sum(np.array(full_catalog_df.loc[:, 'pred_class'] == 0))\n",
    "num_radio_p             = np.sum(filter_radio_p)\n",
    "num_radio_AGN_p         = np.sum(filter_radio_AGN_p)"
   ]
  },
  {
   "cell_type": "markdown",
   "metadata": {},
   "source": [
    "### Select sources predicted to be Radio AGN"
   ]
  },
  {
   "cell_type": "code",
   "execution_count": 27,
   "metadata": {},
   "outputs": [],
   "source": [
    "full_catalog_df         = full_catalog_df.loc[filter_radio_AGN_p]"
   ]
  },
  {
   "cell_type": "code",
   "execution_count": 28,
   "metadata": {},
   "outputs": [
    {
     "data": {
      "text/html": [
       "<div>\n",
       "<style scoped>\n",
       "    .dataframe tbody tr th:only-of-type {\n",
       "        vertical-align: middle;\n",
       "    }\n",
       "\n",
       "    .dataframe tbody tr th {\n",
       "        vertical-align: top;\n",
       "    }\n",
       "\n",
       "    .dataframe thead th {\n",
       "        text-align: right;\n",
       "    }\n",
       "</style>\n",
       "<table border=\"1\" class=\"dataframe\">\n",
       "  <thead>\n",
       "    <tr style=\"text-align: right;\">\n",
       "      <th></th>\n",
       "      <th>class</th>\n",
       "      <th>pred_class</th>\n",
       "      <th>radio_detect</th>\n",
       "      <th>pred_radio</th>\n",
       "      <th>Z</th>\n",
       "      <th>pred_Z</th>\n",
       "    </tr>\n",
       "  </thead>\n",
       "  <tbody>\n",
       "    <tr>\n",
       "      <th>count</th>\n",
       "      <td>55333.0</td>\n",
       "      <td>55333.0</td>\n",
       "      <td>55333.000000</td>\n",
       "      <td>55333.0</td>\n",
       "      <td>504.000000</td>\n",
       "      <td>55333.000000</td>\n",
       "    </tr>\n",
       "    <tr>\n",
       "      <th>mean</th>\n",
       "      <td>0.5</td>\n",
       "      <td>1.0</td>\n",
       "      <td>0.265465</td>\n",
       "      <td>1.0</td>\n",
       "      <td>0.680451</td>\n",
       "      <td>1.666190</td>\n",
       "    </tr>\n",
       "    <tr>\n",
       "      <th>std</th>\n",
       "      <td>0.0</td>\n",
       "      <td>0.0</td>\n",
       "      <td>0.441585</td>\n",
       "      <td>0.0</td>\n",
       "      <td>1.039101</td>\n",
       "      <td>0.920135</td>\n",
       "    </tr>\n",
       "    <tr>\n",
       "      <th>min</th>\n",
       "      <td>0.5</td>\n",
       "      <td>1.0</td>\n",
       "      <td>0.000000</td>\n",
       "      <td>1.0</td>\n",
       "      <td>-0.000570</td>\n",
       "      <td>0.026000</td>\n",
       "    </tr>\n",
       "    <tr>\n",
       "      <th>25%</th>\n",
       "      <td>0.5</td>\n",
       "      <td>1.0</td>\n",
       "      <td>0.000000</td>\n",
       "      <td>1.0</td>\n",
       "      <td>0.100000</td>\n",
       "      <td>0.943000</td>\n",
       "    </tr>\n",
       "    <tr>\n",
       "      <th>50%</th>\n",
       "      <td>0.5</td>\n",
       "      <td>1.0</td>\n",
       "      <td>0.000000</td>\n",
       "      <td>1.0</td>\n",
       "      <td>0.300000</td>\n",
       "      <td>1.602000</td>\n",
       "    </tr>\n",
       "    <tr>\n",
       "      <th>75%</th>\n",
       "      <td>0.5</td>\n",
       "      <td>1.0</td>\n",
       "      <td>1.000000</td>\n",
       "      <td>1.0</td>\n",
       "      <td>0.800000</td>\n",
       "      <td>2.701000</td>\n",
       "    </tr>\n",
       "    <tr>\n",
       "      <th>max</th>\n",
       "      <td>0.5</td>\n",
       "      <td>1.0</td>\n",
       "      <td>1.000000</td>\n",
       "      <td>1.0</td>\n",
       "      <td>6.879030</td>\n",
       "      <td>4.631000</td>\n",
       "    </tr>\n",
       "  </tbody>\n",
       "</table>\n",
       "</div>"
      ],
      "text/plain": [
       "         class  pred_class  radio_detect  pred_radio           Z        pred_Z\n",
       "count  55333.0     55333.0  55333.000000     55333.0  504.000000  55333.000000\n",
       "mean       0.5         1.0      0.265465         1.0    0.680451      1.666190\n",
       "std        0.0         0.0      0.441585         0.0    1.039101      0.920135\n",
       "min        0.5         1.0      0.000000         1.0   -0.000570      0.026000\n",
       "25%        0.5         1.0      0.000000         1.0    0.100000      0.943000\n",
       "50%        0.5         1.0      0.000000         1.0    0.300000      1.602000\n",
       "75%        0.5         1.0      1.000000         1.0    0.800000      2.701000\n",
       "max        0.5         1.0      1.000000         1.0    6.879030      4.631000"
      ]
     },
     "execution_count": 28,
     "metadata": {},
     "output_type": "execute_result"
    }
   ],
   "source": [
    "full_catalog_df.loc[:, ['class', 'pred_class', 'radio_detect', 'pred_radio', 'Z', 'pred_Z']].describe()"
   ]
  },
  {
   "cell_type": "markdown",
   "metadata": {},
   "source": [
    "Add individual metrics for redshift"
   ]
  },
  {
   "cell_type": "code",
   "execution_count": 29,
   "metadata": {
    "tags": []
   },
   "outputs": [],
   "source": [
    "full_catalog_df['Delta_z_N'] = np.around((full_catalog_df.loc[:, 'pred_Z'] - full_catalog_df.loc[:, 'Z']) /\\\n",
    "                            (1 + full_catalog_df.loc[:, 'Z']), decimals=3)\n",
    "\n",
    "full_catalog_df['sigma_NMAD'] = np.around(1.48 * np.abs(full_catalog_df.loc[:, 'pred_Z'] - full_catalog_df.loc[:, 'Z']) /\\\n",
    "                            (1 + full_catalog_df.loc[:, 'Z']), decimals=3)"
   ]
  },
  {
   "cell_type": "markdown",
   "metadata": {},
   "source": [
    "Numerical summary."
   ]
  },
  {
   "cell_type": "code",
   "execution_count": 30,
   "metadata": {
    "jupyter": {
     "source_hidden": true
    },
    "tags": []
   },
   "outputs": [],
   "source": [
    "str_0_t   = f'Out of {total_size:,} initial sources in {used_area},\\n'\n",
    "str_1_t   = f'{num_gal_t:,} are confirmed to be galaxies. On the other side,\\n'\n",
    "str_2_t   = f'{num_AGN_t:,} are confirmed to be AGN. And, from the AGN,\\n'\n",
    "str_3_t   = f'{num_radio_AGN_t:,} are detected in radio.'\n",
    "\n",
    "str_0_p   = f'Out of {num_radio_AGN_t:,} initial radio-detected AGN in {used_area},\\n'\n",
    "str_1_p   = f'{num_gal_p:,} are predicted to be galaxies. On the other side,\\n'\n",
    "str_2_p   = f'{num_AGN_p:,} are predicted to be AGN. And, from the predicted AGN,\\n'\n",
    "str_3_p   = f'{num_radio_AGN_p:,} are predicted to be detected in radio.'"
   ]
  },
  {
   "cell_type": "code",
   "execution_count": 31,
   "metadata": {
    "jupyter": {
     "source_hidden": true
    },
    "tags": []
   },
   "outputs": [
    {
     "name": "stdout",
     "output_type": "stream",
     "text": [
      "------------------------------------------------------------\n",
      "Out of 6,646,238 initial sources in HETDEX,\n",
      "0 are confirmed to be galaxies. On the other side,\n",
      "0 are confirmed to be AGN. And, from the AGN,\n",
      "0 are detected in radio.\n",
      "------------------------------------------------------------\n",
      "Out of 0 initial radio-detected AGN in HETDEX,\n",
      "5,845,133 are predicted to be galaxies. On the other side,\n",
      "801,105 are predicted to be AGN. And, from the predicted AGN,\n",
      "55,333 are predicted to be detected in radio.\n",
      "------------------------------------------------------------\n"
     ]
    }
   ],
   "source": [
    "print('-' * 60)\n",
    "print(str_0_t + str_1_t + str_2_t + str_3_t)\n",
    "print('-' * 60)\n",
    "print(str_0_p + str_1_p + str_2_p + str_3_p)\n",
    "print('-' * 60)"
   ]
  },
  {
   "cell_type": "code",
   "execution_count": 32,
   "metadata": {},
   "outputs": [],
   "source": [
    "cols_4_table = show_columns = ['Name', 'RA_ICRS', 'DE_ICRS', 'TYPE', 'band_num', 'class', 'pred_class', 'Score_AGN', 'Prob_AGN',\\\n",
    "                               'radio_detect', 'pred_radio', 'Score_radio', 'Prob_radio', 'Prob_rAGN', 'Z', 'pred_Z']"
   ]
  },
  {
   "cell_type": "code",
   "execution_count": 33,
   "metadata": {
    "jupyter": {
     "source_hidden": true
    }
   },
   "outputs": [],
   "source": [
    "cols_4_export_S82    = ['Total_flux_VLASS', 'Fint_VLAS82', 'Stotal_TGSS', 'FEP']\n",
    "cols_4_export_HETDEX = ['Total_flux_VLASS', 'Sint_LOFAR', 'Stotal_TGSS', 'FEP', 'TotalFlux_LoLSS']\n",
    "cols_4_export_COSMOS = ['Total_flux_VLASS', 'Stotal_TGSS', 'FEP', 'Flux_COSMOSVLA3']\n",
    "\n",
    "cols_4_exp_all       = {'S82': cols_4_export_S82, 'HETDEX': cols_4_export_HETDEX, 'COSMOS': cols_4_export_COSMOS}\n",
    "\n",
    "cols_photo           = ['W1mproPM', 'W2mproPM', 'gmag', 'rmag', 'imag', 'zmag', 'ymag',\\\n",
    "                        'Jmag', 'Hmag', 'Kmag', 'W3mag', 'W4mag']\n",
    "\n",
    "cols_4_export        = cols_4_table + cols_4_exp_all[used_area] + cols_photo"
   ]
  },
  {
   "cell_type": "code",
   "execution_count": 34,
   "metadata": {
    "jupyter": {
     "source_hidden": true
    }
   },
   "outputs": [],
   "source": [
    "filter_new_rAGN = full_catalog_df.loc[:, 'radio_AGN'] == 0\n",
    "if predict_only_hi_z:\n",
    "    filter_high_z   = full_catalog_df.loc[:, 'pred_Z']    >= gv.high_z_limit\n",
    "elif not predict_only_hi_z:\n",
    "    filter_high_z   = np.ones_like(full_catalog_df.loc[:, 'pred_Z']).astype(bool)"
   ]
  },
  {
   "cell_type": "code",
   "execution_count": 35,
   "metadata": {},
   "outputs": [],
   "source": [
    "full_catalog_df.loc[:, 'TYPE'] = full_catalog_df.loc[:, 'TYPE'].mask(full_catalog_df.loc[:, 'TYPE'] == '    ', 'CCCC')"
   ]
  },
  {
   "cell_type": "code",
   "execution_count": 36,
   "metadata": {},
   "outputs": [
    {
     "data": {
      "text/html": [
       "<div>\n",
       "<style scoped>\n",
       "    .dataframe tbody tr th:only-of-type {\n",
       "        vertical-align: middle;\n",
       "    }\n",
       "\n",
       "    .dataframe tbody tr th {\n",
       "        vertical-align: top;\n",
       "    }\n",
       "\n",
       "    .dataframe thead th {\n",
       "        text-align: right;\n",
       "    }\n",
       "</style>\n",
       "<table border=\"1\" class=\"dataframe\">\n",
       "  <thead>\n",
       "    <tr style=\"text-align: right;\">\n",
       "      <th></th>\n",
       "      <th>Name</th>\n",
       "      <th>RA_ICRS</th>\n",
       "      <th>DE_ICRS</th>\n",
       "      <th>TYPE</th>\n",
       "      <th>band_num</th>\n",
       "      <th>class</th>\n",
       "      <th>pred_class</th>\n",
       "      <th>Score_AGN</th>\n",
       "      <th>Prob_AGN</th>\n",
       "      <th>radio_detect</th>\n",
       "      <th>pred_radio</th>\n",
       "      <th>Score_radio</th>\n",
       "      <th>Prob_radio</th>\n",
       "      <th>Prob_rAGN</th>\n",
       "      <th>Z</th>\n",
       "      <th>pred_Z</th>\n",
       "      <th>Total_flux_VLASS</th>\n",
       "      <th>Sint_LOFAR</th>\n",
       "      <th>Stotal_TGSS</th>\n",
       "      <th>FEP</th>\n",
       "      <th>TotalFlux_LoLSS</th>\n",
       "      <th>W1mproPM</th>\n",
       "      <th>W2mproPM</th>\n",
       "      <th>gmag</th>\n",
       "      <th>rmag</th>\n",
       "      <th>imag</th>\n",
       "      <th>zmag</th>\n",
       "      <th>ymag</th>\n",
       "      <th>Jmag</th>\n",
       "      <th>Hmag</th>\n",
       "      <th>Kmag</th>\n",
       "      <th>W3mag</th>\n",
       "      <th>W4mag</th>\n",
       "    </tr>\n",
       "  </thead>\n",
       "  <tbody>\n",
       "    <tr>\n",
       "      <th>3410222</th>\n",
       "      <td>J132514.21+534447.1</td>\n",
       "      <td>201.309235</td>\n",
       "      <td>53.746429</td>\n",
       "      <td>CCCC</td>\n",
       "      <td>8</td>\n",
       "      <td>0.5</td>\n",
       "      <td>1</td>\n",
       "      <td>0.602275</td>\n",
       "      <td>0.213189</td>\n",
       "      <td>0</td>\n",
       "      <td>1</td>\n",
       "      <td>0.500049</td>\n",
       "      <td>0.198517</td>\n",
       "      <td>0.042322</td>\n",
       "      <td>NaN</td>\n",
       "      <td>4.631</td>\n",
       "      <td>15.21</td>\n",
       "      <td>17.520000</td>\n",
       "      <td>11.18</td>\n",
       "      <td>57.900002</td>\n",
       "      <td>12.91</td>\n",
       "      <td>18.823999</td>\n",
       "      <td>19.125999</td>\n",
       "      <td>23.299999</td>\n",
       "      <td>20.935801</td>\n",
       "      <td>19.635599</td>\n",
       "      <td>19.379000</td>\n",
       "      <td>19.478600</td>\n",
       "      <td>17.450001</td>\n",
       "      <td>17.24</td>\n",
       "      <td>16.590</td>\n",
       "      <td>16.670</td>\n",
       "      <td>14.62</td>\n",
       "    </tr>\n",
       "    <tr>\n",
       "      <th>955536</th>\n",
       "      <td>J125817.90+542010.4</td>\n",
       "      <td>194.574615</td>\n",
       "      <td>54.336243</td>\n",
       "      <td>CCCC</td>\n",
       "      <td>8</td>\n",
       "      <td>0.5</td>\n",
       "      <td>1</td>\n",
       "      <td>0.533006</td>\n",
       "      <td>0.275053</td>\n",
       "      <td>0</td>\n",
       "      <td>1</td>\n",
       "      <td>0.500053</td>\n",
       "      <td>0.195094</td>\n",
       "      <td>0.053661</td>\n",
       "      <td>-0.00013</td>\n",
       "      <td>4.587</td>\n",
       "      <td>15.21</td>\n",
       "      <td>17.520000</td>\n",
       "      <td>11.18</td>\n",
       "      <td>57.900002</td>\n",
       "      <td>12.91</td>\n",
       "      <td>18.729000</td>\n",
       "      <td>19.131001</td>\n",
       "      <td>23.299999</td>\n",
       "      <td>20.902399</td>\n",
       "      <td>19.560200</td>\n",
       "      <td>18.957800</td>\n",
       "      <td>18.644899</td>\n",
       "      <td>17.450001</td>\n",
       "      <td>17.24</td>\n",
       "      <td>16.590</td>\n",
       "      <td>16.670</td>\n",
       "      <td>14.62</td>\n",
       "    </tr>\n",
       "    <tr>\n",
       "      <th>6336407</th>\n",
       "      <td>J114811.78+543808.4</td>\n",
       "      <td>177.049072</td>\n",
       "      <td>54.635658</td>\n",
       "      <td>CCCC</td>\n",
       "      <td>8</td>\n",
       "      <td>0.5</td>\n",
       "      <td>1</td>\n",
       "      <td>0.738927</td>\n",
       "      <td>0.364926</td>\n",
       "      <td>0</td>\n",
       "      <td>1</td>\n",
       "      <td>0.500027</td>\n",
       "      <td>0.195094</td>\n",
       "      <td>0.071195</td>\n",
       "      <td>NaN</td>\n",
       "      <td>4.587</td>\n",
       "      <td>15.21</td>\n",
       "      <td>17.520000</td>\n",
       "      <td>11.18</td>\n",
       "      <td>57.900002</td>\n",
       "      <td>12.91</td>\n",
       "      <td>18.741999</td>\n",
       "      <td>19.075001</td>\n",
       "      <td>23.299999</td>\n",
       "      <td>21.018200</td>\n",
       "      <td>19.709400</td>\n",
       "      <td>19.038799</td>\n",
       "      <td>18.740801</td>\n",
       "      <td>17.450001</td>\n",
       "      <td>17.24</td>\n",
       "      <td>16.590</td>\n",
       "      <td>16.670</td>\n",
       "      <td>14.62</td>\n",
       "    </tr>\n",
       "    <tr>\n",
       "      <th>6010565</th>\n",
       "      <td>J133656.77+521243.0</td>\n",
       "      <td>204.236542</td>\n",
       "      <td>52.211956</td>\n",
       "      <td>CCCC</td>\n",
       "      <td>9</td>\n",
       "      <td>0.5</td>\n",
       "      <td>1</td>\n",
       "      <td>0.521439</td>\n",
       "      <td>0.114420</td>\n",
       "      <td>1</td>\n",
       "      <td>1</td>\n",
       "      <td>0.500008</td>\n",
       "      <td>0.208274</td>\n",
       "      <td>0.023831</td>\n",
       "      <td>NaN</td>\n",
       "      <td>4.497</td>\n",
       "      <td>15.21</td>\n",
       "      <td>15.703115</td>\n",
       "      <td>11.18</td>\n",
       "      <td>57.900002</td>\n",
       "      <td>12.91</td>\n",
       "      <td>18.851999</td>\n",
       "      <td>18.880001</td>\n",
       "      <td>19.289801</td>\n",
       "      <td>18.072001</td>\n",
       "      <td>16.869600</td>\n",
       "      <td>16.349199</td>\n",
       "      <td>16.088900</td>\n",
       "      <td>17.450001</td>\n",
       "      <td>17.24</td>\n",
       "      <td>16.590</td>\n",
       "      <td>16.563</td>\n",
       "      <td>14.62</td>\n",
       "    </tr>\n",
       "    <tr>\n",
       "      <th>2950162</th>\n",
       "      <td>J122528.35+502813.1</td>\n",
       "      <td>186.368164</td>\n",
       "      <td>50.470314</td>\n",
       "      <td>CCCC</td>\n",
       "      <td>9</td>\n",
       "      <td>0.5</td>\n",
       "      <td>1</td>\n",
       "      <td>0.824832</td>\n",
       "      <td>0.299150</td>\n",
       "      <td>0</td>\n",
       "      <td>1</td>\n",
       "      <td>0.500006</td>\n",
       "      <td>0.150290</td>\n",
       "      <td>0.044959</td>\n",
       "      <td>NaN</td>\n",
       "      <td>4.433</td>\n",
       "      <td>15.21</td>\n",
       "      <td>17.520000</td>\n",
       "      <td>11.18</td>\n",
       "      <td>57.900002</td>\n",
       "      <td>12.91</td>\n",
       "      <td>18.769999</td>\n",
       "      <td>19.043001</td>\n",
       "      <td>21.947100</td>\n",
       "      <td>20.680700</td>\n",
       "      <td>19.308300</td>\n",
       "      <td>18.710899</td>\n",
       "      <td>18.433901</td>\n",
       "      <td>17.450001</td>\n",
       "      <td>17.24</td>\n",
       "      <td>16.590</td>\n",
       "      <td>16.670</td>\n",
       "      <td>14.62</td>\n",
       "    </tr>\n",
       "    <tr>\n",
       "      <th>2646775</th>\n",
       "      <td>J113523.52+461640.9</td>\n",
       "      <td>173.848007</td>\n",
       "      <td>46.278038</td>\n",
       "      <td>CCCC</td>\n",
       "      <td>9</td>\n",
       "      <td>0.5</td>\n",
       "      <td>1</td>\n",
       "      <td>0.793412</td>\n",
       "      <td>0.218637</td>\n",
       "      <td>0</td>\n",
       "      <td>1</td>\n",
       "      <td>0.500050</td>\n",
       "      <td>0.150290</td>\n",
       "      <td>0.032859</td>\n",
       "      <td>NaN</td>\n",
       "      <td>4.418</td>\n",
       "      <td>15.21</td>\n",
       "      <td>17.520000</td>\n",
       "      <td>11.18</td>\n",
       "      <td>57.900002</td>\n",
       "      <td>12.91</td>\n",
       "      <td>18.639999</td>\n",
       "      <td>18.959000</td>\n",
       "      <td>21.891399</td>\n",
       "      <td>20.487101</td>\n",
       "      <td>19.184299</td>\n",
       "      <td>18.580900</td>\n",
       "      <td>18.304800</td>\n",
       "      <td>17.450001</td>\n",
       "      <td>17.24</td>\n",
       "      <td>16.590</td>\n",
       "      <td>16.670</td>\n",
       "      <td>14.62</td>\n",
       "    </tr>\n",
       "    <tr>\n",
       "      <th>3513647</th>\n",
       "      <td>J150436.99+525718.7</td>\n",
       "      <td>226.154129</td>\n",
       "      <td>52.955204</td>\n",
       "      <td>CCCC</td>\n",
       "      <td>9</td>\n",
       "      <td>0.5</td>\n",
       "      <td>1</td>\n",
       "      <td>0.810082</td>\n",
       "      <td>0.177472</td>\n",
       "      <td>0</td>\n",
       "      <td>1</td>\n",
       "      <td>0.500019</td>\n",
       "      <td>0.190640</td>\n",
       "      <td>0.033833</td>\n",
       "      <td>NaN</td>\n",
       "      <td>4.394</td>\n",
       "      <td>15.21</td>\n",
       "      <td>17.520000</td>\n",
       "      <td>11.18</td>\n",
       "      <td>57.900002</td>\n",
       "      <td>12.91</td>\n",
       "      <td>18.790998</td>\n",
       "      <td>19.116001</td>\n",
       "      <td>21.827600</td>\n",
       "      <td>20.683901</td>\n",
       "      <td>19.334200</td>\n",
       "      <td>18.735001</td>\n",
       "      <td>18.442301</td>\n",
       "      <td>17.450001</td>\n",
       "      <td>17.24</td>\n",
       "      <td>16.590</td>\n",
       "      <td>16.670</td>\n",
       "      <td>14.62</td>\n",
       "    </tr>\n",
       "    <tr>\n",
       "      <th>2275442</th>\n",
       "      <td>J131558.17+493553.9</td>\n",
       "      <td>198.992416</td>\n",
       "      <td>49.598297</td>\n",
       "      <td>CCCC</td>\n",
       "      <td>9</td>\n",
       "      <td>0.5</td>\n",
       "      <td>1</td>\n",
       "      <td>0.447276</td>\n",
       "      <td>0.305612</td>\n",
       "      <td>0</td>\n",
       "      <td>1</td>\n",
       "      <td>0.500008</td>\n",
       "      <td>0.255498</td>\n",
       "      <td>0.078083</td>\n",
       "      <td>NaN</td>\n",
       "      <td>4.320</td>\n",
       "      <td>15.21</td>\n",
       "      <td>17.520000</td>\n",
       "      <td>11.18</td>\n",
       "      <td>57.900002</td>\n",
       "      <td>12.91</td>\n",
       "      <td>18.793999</td>\n",
       "      <td>18.868000</td>\n",
       "      <td>22.151600</td>\n",
       "      <td>21.164600</td>\n",
       "      <td>19.866301</td>\n",
       "      <td>19.307501</td>\n",
       "      <td>19.049500</td>\n",
       "      <td>17.450001</td>\n",
       "      <td>17.24</td>\n",
       "      <td>16.590</td>\n",
       "      <td>16.670</td>\n",
       "      <td>14.62</td>\n",
       "    </tr>\n",
       "    <tr>\n",
       "      <th>5298136</th>\n",
       "      <td>J133034.86+471228.8</td>\n",
       "      <td>202.645233</td>\n",
       "      <td>47.208038</td>\n",
       "      <td>CCCC</td>\n",
       "      <td>12</td>\n",
       "      <td>0.5</td>\n",
       "      <td>1</td>\n",
       "      <td>0.612072</td>\n",
       "      <td>0.057340</td>\n",
       "      <td>0</td>\n",
       "      <td>1</td>\n",
       "      <td>0.500009</td>\n",
       "      <td>0.107005</td>\n",
       "      <td>0.006136</td>\n",
       "      <td>NaN</td>\n",
       "      <td>4.315</td>\n",
       "      <td>15.21</td>\n",
       "      <td>17.520000</td>\n",
       "      <td>11.18</td>\n",
       "      <td>57.900002</td>\n",
       "      <td>12.91</td>\n",
       "      <td>16.823999</td>\n",
       "      <td>17.365000</td>\n",
       "      <td>18.674101</td>\n",
       "      <td>17.008200</td>\n",
       "      <td>16.189100</td>\n",
       "      <td>15.909400</td>\n",
       "      <td>16.203501</td>\n",
       "      <td>16.054001</td>\n",
       "      <td>15.88</td>\n",
       "      <td>16.122</td>\n",
       "      <td>16.670</td>\n",
       "      <td>14.62</td>\n",
       "    </tr>\n",
       "    <tr>\n",
       "      <th>5677964</th>\n",
       "      <td>J133326.54+502358.5</td>\n",
       "      <td>203.360580</td>\n",
       "      <td>50.399582</td>\n",
       "      <td>CCCC</td>\n",
       "      <td>7</td>\n",
       "      <td>0.5</td>\n",
       "      <td>1</td>\n",
       "      <td>0.469213</td>\n",
       "      <td>0.318237</td>\n",
       "      <td>0</td>\n",
       "      <td>1</td>\n",
       "      <td>0.500015</td>\n",
       "      <td>0.284103</td>\n",
       "      <td>0.090412</td>\n",
       "      <td>NaN</td>\n",
       "      <td>4.145</td>\n",
       "      <td>15.21</td>\n",
       "      <td>17.520000</td>\n",
       "      <td>11.18</td>\n",
       "      <td>57.900002</td>\n",
       "      <td>12.91</td>\n",
       "      <td>19.608999</td>\n",
       "      <td>19.809999</td>\n",
       "      <td>23.299999</td>\n",
       "      <td>21.201599</td>\n",
       "      <td>20.999399</td>\n",
       "      <td>20.764700</td>\n",
       "      <td>21.400000</td>\n",
       "      <td>17.450001</td>\n",
       "      <td>17.24</td>\n",
       "      <td>16.590</td>\n",
       "      <td>16.670</td>\n",
       "      <td>14.62</td>\n",
       "    </tr>\n",
       "    <tr>\n",
       "      <th>5327401</th>\n",
       "      <td>J122412.59+560516.1</td>\n",
       "      <td>186.052475</td>\n",
       "      <td>56.087799</td>\n",
       "      <td>CCCC</td>\n",
       "      <td>5</td>\n",
       "      <td>0.5</td>\n",
       "      <td>1</td>\n",
       "      <td>0.468345</td>\n",
       "      <td>0.227105</td>\n",
       "      <td>0</td>\n",
       "      <td>1</td>\n",
       "      <td>0.500038</td>\n",
       "      <td>0.249018</td>\n",
       "      <td>0.056553</td>\n",
       "      <td>NaN</td>\n",
       "      <td>4.105</td>\n",
       "      <td>15.21</td>\n",
       "      <td>17.520000</td>\n",
       "      <td>11.18</td>\n",
       "      <td>57.900002</td>\n",
       "      <td>12.91</td>\n",
       "      <td>19.553999</td>\n",
       "      <td>19.809999</td>\n",
       "      <td>23.299999</td>\n",
       "      <td>21.232700</td>\n",
       "      <td>21.053499</td>\n",
       "      <td>20.816799</td>\n",
       "      <td>21.400000</td>\n",
       "      <td>17.450001</td>\n",
       "      <td>17.24</td>\n",
       "      <td>16.590</td>\n",
       "      <td>16.670</td>\n",
       "      <td>14.62</td>\n",
       "    </tr>\n",
       "    <tr>\n",
       "      <th>4848000</th>\n",
       "      <td>J120240.04+531650.1</td>\n",
       "      <td>180.666840</td>\n",
       "      <td>53.280605</td>\n",
       "      <td>CCCC</td>\n",
       "      <td>7</td>\n",
       "      <td>0.5</td>\n",
       "      <td>1</td>\n",
       "      <td>0.518766</td>\n",
       "      <td>0.416950</td>\n",
       "      <td>0</td>\n",
       "      <td>1</td>\n",
       "      <td>0.500030</td>\n",
       "      <td>0.202238</td>\n",
       "      <td>0.084323</td>\n",
       "      <td>NaN</td>\n",
       "      <td>4.068</td>\n",
       "      <td>15.21</td>\n",
       "      <td>17.520000</td>\n",
       "      <td>11.18</td>\n",
       "      <td>57.900002</td>\n",
       "      <td>12.91</td>\n",
       "      <td>19.691999</td>\n",
       "      <td>19.809999</td>\n",
       "      <td>23.299999</td>\n",
       "      <td>21.277599</td>\n",
       "      <td>20.912001</td>\n",
       "      <td>20.915600</td>\n",
       "      <td>21.400000</td>\n",
       "      <td>17.450001</td>\n",
       "      <td>17.24</td>\n",
       "      <td>16.590</td>\n",
       "      <td>16.670</td>\n",
       "      <td>14.62</td>\n",
       "    </tr>\n",
       "    <tr>\n",
       "      <th>4693881</th>\n",
       "      <td>J152234.32+532110.1</td>\n",
       "      <td>230.643021</td>\n",
       "      <td>53.352806</td>\n",
       "      <td>CCCC</td>\n",
       "      <td>7</td>\n",
       "      <td>0.5</td>\n",
       "      <td>1</td>\n",
       "      <td>0.464507</td>\n",
       "      <td>0.187918</td>\n",
       "      <td>0</td>\n",
       "      <td>1</td>\n",
       "      <td>0.500049</td>\n",
       "      <td>0.312091</td>\n",
       "      <td>0.058648</td>\n",
       "      <td>NaN</td>\n",
       "      <td>4.044</td>\n",
       "      <td>15.21</td>\n",
       "      <td>17.520000</td>\n",
       "      <td>11.18</td>\n",
       "      <td>57.900002</td>\n",
       "      <td>12.91</td>\n",
       "      <td>19.546999</td>\n",
       "      <td>19.809999</td>\n",
       "      <td>23.299999</td>\n",
       "      <td>21.265900</td>\n",
       "      <td>21.075399</td>\n",
       "      <td>20.910101</td>\n",
       "      <td>21.400000</td>\n",
       "      <td>17.450001</td>\n",
       "      <td>17.24</td>\n",
       "      <td>16.590</td>\n",
       "      <td>16.670</td>\n",
       "      <td>14.62</td>\n",
       "    </tr>\n",
       "    <tr>\n",
       "      <th>4418442</th>\n",
       "      <td>J113745.18+561605.4</td>\n",
       "      <td>174.438263</td>\n",
       "      <td>56.268177</td>\n",
       "      <td>CCCC</td>\n",
       "      <td>7</td>\n",
       "      <td>0.5</td>\n",
       "      <td>1</td>\n",
       "      <td>0.501094</td>\n",
       "      <td>0.947240</td>\n",
       "      <td>0</td>\n",
       "      <td>1</td>\n",
       "      <td>0.500056</td>\n",
       "      <td>0.303230</td>\n",
       "      <td>0.287231</td>\n",
       "      <td>NaN</td>\n",
       "      <td>4.037</td>\n",
       "      <td>15.21</td>\n",
       "      <td>17.520000</td>\n",
       "      <td>11.18</td>\n",
       "      <td>57.900002</td>\n",
       "      <td>12.91</td>\n",
       "      <td>20.129999</td>\n",
       "      <td>19.809999</td>\n",
       "      <td>23.299999</td>\n",
       "      <td>21.276600</td>\n",
       "      <td>20.925600</td>\n",
       "      <td>20.921301</td>\n",
       "      <td>21.400000</td>\n",
       "      <td>17.450001</td>\n",
       "      <td>17.24</td>\n",
       "      <td>16.590</td>\n",
       "      <td>16.670</td>\n",
       "      <td>14.62</td>\n",
       "    </tr>\n",
       "    <tr>\n",
       "      <th>6294744</th>\n",
       "      <td>J144558.05+465104.8</td>\n",
       "      <td>221.491867</td>\n",
       "      <td>46.851345</td>\n",
       "      <td>CCCC</td>\n",
       "      <td>7</td>\n",
       "      <td>0.5</td>\n",
       "      <td>1</td>\n",
       "      <td>0.455504</td>\n",
       "      <td>0.907511</td>\n",
       "      <td>0</td>\n",
       "      <td>1</td>\n",
       "      <td>0.500038</td>\n",
       "      <td>0.299833</td>\n",
       "      <td>0.272101</td>\n",
       "      <td>NaN</td>\n",
       "      <td>4.035</td>\n",
       "      <td>15.21</td>\n",
       "      <td>17.520000</td>\n",
       "      <td>11.18</td>\n",
       "      <td>57.900002</td>\n",
       "      <td>12.91</td>\n",
       "      <td>20.129999</td>\n",
       "      <td>19.809999</td>\n",
       "      <td>23.299999</td>\n",
       "      <td>21.321800</td>\n",
       "      <td>20.990299</td>\n",
       "      <td>20.959900</td>\n",
       "      <td>21.400000</td>\n",
       "      <td>17.450001</td>\n",
       "      <td>17.24</td>\n",
       "      <td>16.590</td>\n",
       "      <td>16.670</td>\n",
       "      <td>14.62</td>\n",
       "    </tr>\n",
       "  </tbody>\n",
       "</table>\n",
       "</div>"
      ],
      "text/plain": [
       "                         Name     RA_ICRS    DE_ICRS  TYPE  band_num  class  \\\n",
       "3410222  J132514.21+534447.1   201.309235  53.746429  CCCC         8    0.5   \n",
       "955536   J125817.90+542010.4   194.574615  54.336243  CCCC         8    0.5   \n",
       "6336407  J114811.78+543808.4   177.049072  54.635658  CCCC         8    0.5   \n",
       "6010565  J133656.77+521243.0   204.236542  52.211956  CCCC         9    0.5   \n",
       "2950162  J122528.35+502813.1   186.368164  50.470314  CCCC         9    0.5   \n",
       "2646775  J113523.52+461640.9   173.848007  46.278038  CCCC         9    0.5   \n",
       "3513647  J150436.99+525718.7   226.154129  52.955204  CCCC         9    0.5   \n",
       "2275442  J131558.17+493553.9   198.992416  49.598297  CCCC         9    0.5   \n",
       "5298136  J133034.86+471228.8   202.645233  47.208038  CCCC        12    0.5   \n",
       "5677964  J133326.54+502358.5   203.360580  50.399582  CCCC         7    0.5   \n",
       "5327401  J122412.59+560516.1   186.052475  56.087799  CCCC         5    0.5   \n",
       "4848000  J120240.04+531650.1   180.666840  53.280605  CCCC         7    0.5   \n",
       "4693881  J152234.32+532110.1   230.643021  53.352806  CCCC         7    0.5   \n",
       "4418442  J113745.18+561605.4   174.438263  56.268177  CCCC         7    0.5   \n",
       "6294744  J144558.05+465104.8   221.491867  46.851345  CCCC         7    0.5   \n",
       "\n",
       "         pred_class  Score_AGN  Prob_AGN  radio_detect  pred_radio  \\\n",
       "3410222           1   0.602275  0.213189             0           1   \n",
       "955536            1   0.533006  0.275053             0           1   \n",
       "6336407           1   0.738927  0.364926             0           1   \n",
       "6010565           1   0.521439  0.114420             1           1   \n",
       "2950162           1   0.824832  0.299150             0           1   \n",
       "2646775           1   0.793412  0.218637             0           1   \n",
       "3513647           1   0.810082  0.177472             0           1   \n",
       "2275442           1   0.447276  0.305612             0           1   \n",
       "5298136           1   0.612072  0.057340             0           1   \n",
       "5677964           1   0.469213  0.318237             0           1   \n",
       "5327401           1   0.468345  0.227105             0           1   \n",
       "4848000           1   0.518766  0.416950             0           1   \n",
       "4693881           1   0.464507  0.187918             0           1   \n",
       "4418442           1   0.501094  0.947240             0           1   \n",
       "6294744           1   0.455504  0.907511             0           1   \n",
       "\n",
       "         Score_radio  Prob_radio  Prob_rAGN        Z  pred_Z  \\\n",
       "3410222     0.500049    0.198517   0.042322      NaN   4.631   \n",
       "955536      0.500053    0.195094   0.053661 -0.00013   4.587   \n",
       "6336407     0.500027    0.195094   0.071195      NaN   4.587   \n",
       "6010565     0.500008    0.208274   0.023831      NaN   4.497   \n",
       "2950162     0.500006    0.150290   0.044959      NaN   4.433   \n",
       "2646775     0.500050    0.150290   0.032859      NaN   4.418   \n",
       "3513647     0.500019    0.190640   0.033833      NaN   4.394   \n",
       "2275442     0.500008    0.255498   0.078083      NaN   4.320   \n",
       "5298136     0.500009    0.107005   0.006136      NaN   4.315   \n",
       "5677964     0.500015    0.284103   0.090412      NaN   4.145   \n",
       "5327401     0.500038    0.249018   0.056553      NaN   4.105   \n",
       "4848000     0.500030    0.202238   0.084323      NaN   4.068   \n",
       "4693881     0.500049    0.312091   0.058648      NaN   4.044   \n",
       "4418442     0.500056    0.303230   0.287231      NaN   4.037   \n",
       "6294744     0.500038    0.299833   0.272101      NaN   4.035   \n",
       "\n",
       "         Total_flux_VLASS  Sint_LOFAR  Stotal_TGSS        FEP  \\\n",
       "3410222             15.21   17.520000        11.18  57.900002   \n",
       "955536              15.21   17.520000        11.18  57.900002   \n",
       "6336407             15.21   17.520000        11.18  57.900002   \n",
       "6010565             15.21   15.703115        11.18  57.900002   \n",
       "2950162             15.21   17.520000        11.18  57.900002   \n",
       "2646775             15.21   17.520000        11.18  57.900002   \n",
       "3513647             15.21   17.520000        11.18  57.900002   \n",
       "2275442             15.21   17.520000        11.18  57.900002   \n",
       "5298136             15.21   17.520000        11.18  57.900002   \n",
       "5677964             15.21   17.520000        11.18  57.900002   \n",
       "5327401             15.21   17.520000        11.18  57.900002   \n",
       "4848000             15.21   17.520000        11.18  57.900002   \n",
       "4693881             15.21   17.520000        11.18  57.900002   \n",
       "4418442             15.21   17.520000        11.18  57.900002   \n",
       "6294744             15.21   17.520000        11.18  57.900002   \n",
       "\n",
       "         TotalFlux_LoLSS   W1mproPM   W2mproPM       gmag       rmag  \\\n",
       "3410222            12.91  18.823999  19.125999  23.299999  20.935801   \n",
       "955536             12.91  18.729000  19.131001  23.299999  20.902399   \n",
       "6336407            12.91  18.741999  19.075001  23.299999  21.018200   \n",
       "6010565            12.91  18.851999  18.880001  19.289801  18.072001   \n",
       "2950162            12.91  18.769999  19.043001  21.947100  20.680700   \n",
       "2646775            12.91  18.639999  18.959000  21.891399  20.487101   \n",
       "3513647            12.91  18.790998  19.116001  21.827600  20.683901   \n",
       "2275442            12.91  18.793999  18.868000  22.151600  21.164600   \n",
       "5298136            12.91  16.823999  17.365000  18.674101  17.008200   \n",
       "5677964            12.91  19.608999  19.809999  23.299999  21.201599   \n",
       "5327401            12.91  19.553999  19.809999  23.299999  21.232700   \n",
       "4848000            12.91  19.691999  19.809999  23.299999  21.277599   \n",
       "4693881            12.91  19.546999  19.809999  23.299999  21.265900   \n",
       "4418442            12.91  20.129999  19.809999  23.299999  21.276600   \n",
       "6294744            12.91  20.129999  19.809999  23.299999  21.321800   \n",
       "\n",
       "              imag       zmag       ymag       Jmag   Hmag    Kmag   W3mag  \\\n",
       "3410222  19.635599  19.379000  19.478600  17.450001  17.24  16.590  16.670   \n",
       "955536   19.560200  18.957800  18.644899  17.450001  17.24  16.590  16.670   \n",
       "6336407  19.709400  19.038799  18.740801  17.450001  17.24  16.590  16.670   \n",
       "6010565  16.869600  16.349199  16.088900  17.450001  17.24  16.590  16.563   \n",
       "2950162  19.308300  18.710899  18.433901  17.450001  17.24  16.590  16.670   \n",
       "2646775  19.184299  18.580900  18.304800  17.450001  17.24  16.590  16.670   \n",
       "3513647  19.334200  18.735001  18.442301  17.450001  17.24  16.590  16.670   \n",
       "2275442  19.866301  19.307501  19.049500  17.450001  17.24  16.590  16.670   \n",
       "5298136  16.189100  15.909400  16.203501  16.054001  15.88  16.122  16.670   \n",
       "5677964  20.999399  20.764700  21.400000  17.450001  17.24  16.590  16.670   \n",
       "5327401  21.053499  20.816799  21.400000  17.450001  17.24  16.590  16.670   \n",
       "4848000  20.912001  20.915600  21.400000  17.450001  17.24  16.590  16.670   \n",
       "4693881  21.075399  20.910101  21.400000  17.450001  17.24  16.590  16.670   \n",
       "4418442  20.925600  20.921301  21.400000  17.450001  17.24  16.590  16.670   \n",
       "6294744  20.990299  20.959900  21.400000  17.450001  17.24  16.590  16.670   \n",
       "\n",
       "         W4mag  \n",
       "3410222  14.62  \n",
       "955536   14.62  \n",
       "6336407  14.62  \n",
       "6010565  14.62  \n",
       "2950162  14.62  \n",
       "2646775  14.62  \n",
       "3513647  14.62  \n",
       "2275442  14.62  \n",
       "5298136  14.62  \n",
       "5677964  14.62  \n",
       "5327401  14.62  \n",
       "4848000  14.62  \n",
       "4693881  14.62  \n",
       "4418442  14.62  \n",
       "6294744  14.62  "
      ]
     },
     "metadata": {},
     "output_type": "display_data"
    }
   ],
   "source": [
    "display(full_catalog_df.loc[filter_high_z, cols_4_export].sort_values(by=['pred_Z'], ascending=False).head(15))"
   ]
  },
  {
   "cell_type": "code",
   "execution_count": 37,
   "metadata": {},
   "outputs": [],
   "source": [
    "if save_preds_flag:\n",
    "    full_catalog_df.loc[filter_high_z, cols_4_export].sort_values(by=['pred_Z'],\n",
    "     ascending=False).to_csv(gv.preds_path + f'predicted_rAGN_{used_area}.csv')"
   ]
  },
  {
   "cell_type": "markdown",
   "metadata": {},
   "source": [
    "---"
   ]
  },
  {
   "cell_type": "code",
   "execution_count": null,
   "metadata": {},
   "outputs": [],
   "source": []
  }
 ],
 "metadata": {
  "kernelspec": {
   "display_name": "Python 3 (ipykernel)",
   "language": "python",
   "name": "python3"
  },
  "language_info": {
   "codemirror_mode": {
    "name": "ipython",
    "version": 3
   },
   "file_extension": ".py",
   "mimetype": "text/x-python",
   "name": "python",
   "nbconvert_exporter": "python",
   "pygments_lexer": "ipython3",
   "version": "3.8.13"
  },
  "vscode": {
   "interpreter": {
    "hash": "1d7c94ac87c57432169d0bc24ce250f6f2e77b44a3b95192eb5ace62cff26777"
   }
  }
 },
 "nbformat": 4,
 "nbformat_minor": 4
}
