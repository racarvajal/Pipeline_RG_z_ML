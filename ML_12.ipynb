{
 "cells": [
  {
   "cell_type": "markdown",
   "metadata": {},
   "source": [
    "# Pipeline for High-z Radio Galaxies 12: Create lists (files) with radio AGN candidates"
   ]
  },
  {
   "cell_type": "markdown",
   "metadata": {},
   "source": [
    "## Introduction"
   ]
  },
  {
   "cell_type": "markdown",
   "metadata": {},
   "source": [
    "In this file, three models will be applied consecutively in order to predict  \n",
    "the detection of Radio Galaxies (radio AGN) and their redshift.  \n",
    "\n",
    "In principle, this pipeline should be applied to data in Stripe 82. But  \n",
    "it can be used with any other suitable dataset."
   ]
  },
  {
   "cell_type": "code",
   "execution_count": 1,
   "metadata": {},
   "outputs": [],
   "source": [
    "%matplotlib inline\n",
    "# Static plots\n",
    "#%matplotlib ipympl\n",
    "# Interactive plots\n",
    "import numpy as np\n",
    "import matplotlib as mpl\n",
    "import matplotlib.cm as cm\n",
    "from matplotlib import ticker\n",
    "import matplotlib.pyplot as plt\n",
    "import matplotlib.colors as mcolors\n",
    "import matplotlib.patheffects as mpe\n",
    "import matplotlib.patches as mpatches\n",
    "from matplotlib.ticker import ScalarFormatter\n",
    "from mpl_toolkits.axes_grid1.inset_locator import inset_axes\n",
    "from astropy.visualization import LogStretch, PowerStretch\n",
    "from astropy.visualization.mpl_normalize import ImageNormalize\n",
    "from sklearn.preprocessing import MinMaxScaler\n",
    "from sklearn.metrics import ConfusionMatrixDisplay\n",
    "import sklearn.pipeline\n",
    "import colorcet as cc\n",
    "from pycaret import classification as pyc\n",
    "from pycaret import regression as pyr\n",
    "from joblib import dump, load\n",
    "import pandas as pd\n",
    "import mpl_scatter_density\n",
    "import global_variables as gv\n",
    "import global_functions as gf"
   ]
  },
  {
   "cell_type": "code",
   "execution_count": 2,
   "metadata": {},
   "outputs": [],
   "source": [
    "mpl.rcdefaults()"
   ]
  },
  {
   "cell_type": "markdown",
   "metadata": {},
   "source": [
    "---"
   ]
  },
  {
   "cell_type": "markdown",
   "metadata": {},
   "source": [
    "## Reading data"
   ]
  },
  {
   "cell_type": "markdown",
   "metadata": {
    "tags": []
   },
   "source": [
    "Flags."
   ]
  },
  {
   "cell_type": "code",
   "execution_count": 3,
   "metadata": {},
   "outputs": [],
   "source": [
    "save_plot_flag      = False\n",
    "save_preds_flag     = False\n",
    "load_models_flag    = True\n",
    "predict_only_hi_z   = False\n",
    "use_zeroth_model    = False\n",
    "use_second_z_model  = False  # z >= 3.6 (with SMOGN), or, if needed, z >= 4.0"
   ]
  },
  {
   "cell_type": "code",
   "execution_count": 4,
   "metadata": {},
   "outputs": [],
   "source": [
    "used_area           = 'HETDEX'  # can be 'S82', 'HETDEX', 'COSMOS'"
   ]
  },
  {
   "cell_type": "code",
   "execution_count": 5,
   "metadata": {
    "tags": []
   },
   "outputs": [],
   "source": [
    "file_name_dict      = {'S82': gv.file_S82, 'HETDEX': gv.file_HETDEX, 'COSMOS': gv.file_COSMOS}\n",
    "file_name           = file_name_dict[used_area]"
   ]
  },
  {
   "cell_type": "code",
   "execution_count": 6,
   "metadata": {
    "tags": []
   },
   "outputs": [],
   "source": [
    "feats_2_disc_S82    = ['objID', 'RA_MILLI', 'DEC_MILLI', 'W1mag', 'W2mag', 'num_imputed', 'radio_detect']\n",
    "feats_2_disc_HETDEX = ['objID', 'RA_MILLI', 'DEC_MILLI', 'W1mag', 'W2mag', 'num_imputed', 'radio_detect']\n",
    "feats_2_disc_COSMOS = ['objID', 'RA_MILLI', 'DEC_MILLI', 'W1mag', 'W2mag', 'num_imputed', 'radio_detect', ]\n",
    "\n",
    "feats_2_disc        = {'S82': feats_2_disc_S82, 'HETDEX': feats_2_disc_HETDEX, 'COSMOS': feats_2_disc_COSMOS}\n",
    "features_2_discard  = feats_2_disc[used_area]"
   ]
  },
  {
   "cell_type": "code",
   "execution_count": 7,
   "metadata": {},
   "outputs": [],
   "source": [
    "full_catalog_df     = pd.read_hdf(gv.cat_path + file_name, key='df').drop(columns=features_2_discard)"
   ]
  },
  {
   "cell_type": "code",
   "execution_count": 8,
   "metadata": {
    "jupyter": {
     "source_hidden": true
    }
   },
   "outputs": [],
   "source": [
    "if used_area == 'S82':\n",
    "    full_catalog_df.loc[:, 'LOFAR_detect'] = full_catalog_df.loc[:, 'VLAS82_detect'].copy()\n",
    "    full_catalog_df = full_catalog_df.drop(columns=['VLAS82_detect'])\n",
    "if used_area == 'COSMOS':\n",
    "    full_catalog_df.loc[:, 'LOFAR_detect'] = full_catalog_df.loc[:, 'COSMOSVLA3_detect'].copy()\n",
    "    full_catalog_df = full_catalog_df.drop(columns=['COSMOSVLA3_detect'])"
   ]
  },
  {
   "cell_type": "markdown",
   "metadata": {},
   "source": [
    "Create features with class and combined redshift."
   ]
  },
  {
   "cell_type": "code",
   "execution_count": 9,
   "metadata": {
    "jupyter": {
     "source_hidden": true
    }
   },
   "outputs": [],
   "source": [
    "full_catalog_df['class']            = full_catalog_df.loc[:, 'is_AGN'].copy()\n",
    "filter_non_confirmed                = np.array(full_catalog_df.loc[:, 'is_AGN'] == 1) | np.array(full_catalog_df.loc[:, 'is_gal'] == 1)\n",
    "full_catalog_df.loc[~filter_non_confirmed, 'class'] = np.nan\n",
    "idx_non_Z                           = full_catalog_df.loc[:, 'Z'].where(full_catalog_df.loc[:, 'Z'] > 0).isna()\n",
    "full_catalog_df.loc[idx_non_Z, 'Z'] = full_catalog_df.loc[:, 'Z'].mask(idx_non_Z, full_catalog_df.loc[idx_non_Z, 'zsp'])"
   ]
  },
  {
   "cell_type": "markdown",
   "metadata": {},
   "source": [
    "Create column for detection as Radio AGN"
   ]
  },
  {
   "cell_type": "code",
   "execution_count": 10,
   "metadata": {},
   "outputs": [],
   "source": [
    "full_catalog_df['radio_AGN']      = (np.array(full_catalog_df.loc[:, 'is_AGN'] == 1) &\\\n",
    "                                     np.array(full_catalog_df.loc[:, 'LOFAR_detect'] == 1)).astype(int)"
   ]
  },
  {
   "cell_type": "markdown",
   "metadata": {},
   "source": [
    "Discard minor features."
   ]
  },
  {
   "cell_type": "code",
   "execution_count": 11,
   "metadata": {},
   "outputs": [],
   "source": [
    "full_catalog_df                     = full_catalog_df.drop(columns=['is_AGN', 'is_SDSS_QSO', 'is_SDSS_gal', 'is_gal', 'zsp'])"
   ]
  },
  {
   "cell_type": "markdown",
   "metadata": {},
   "source": [
    "#### As we want to predict, only use sources that have not previous spectroscopic classification"
   ]
  },
  {
   "cell_type": "code",
   "execution_count": 12,
   "metadata": {
    "jupyter": {
     "source_hidden": true
    }
   },
   "outputs": [
    {
     "name": "stdout",
     "output_type": "stream",
     "text": [
      "The used data set (in HETDEX) has 15,136,878 sources.\n",
      "And 118,734 have previous spectroscopic classification.\n"
     ]
    }
   ],
   "source": [
    "print(f'The used data set (in {used_area}) has {len(full_catalog_df):,} sources.')\n",
    "print(f'And {np.sum(filter_non_confirmed):,} have previous spectroscopic classification.')"
   ]
  },
  {
   "cell_type": "code",
   "execution_count": 13,
   "metadata": {},
   "outputs": [],
   "source": [
    "# full_catalog_df                     = full_catalog_df.loc[~filter_non_confirmed]"
   ]
  },
  {
   "cell_type": "code",
   "execution_count": 14,
   "metadata": {
    "jupyter": {
     "source_hidden": true
    }
   },
   "outputs": [
    {
     "name": "stdout",
     "output_type": "stream",
     "text": [
      "This pipeline will predict properties for 15,136,878 sources in HETDEX.\n"
     ]
    }
   ],
   "source": [
    "print(f'This pipeline will predict properties for {len(full_catalog_df):,} sources in {used_area}.')"
   ]
  },
  {
   "cell_type": "markdown",
   "metadata": {},
   "source": [
    "---"
   ]
  },
  {
   "cell_type": "markdown",
   "metadata": {},
   "source": [
    "### Load models"
   ]
  },
  {
   "cell_type": "code",
   "execution_count": 15,
   "metadata": {},
   "outputs": [
    {
     "name": "stdout",
     "output_type": "stream",
     "text": [
      "Transformation Pipeline and Model Successfully Loaded\n",
      "Transformation Pipeline and Model Successfully Loaded\n",
      "Transformation Pipeline and Model Successfully Loaded\n"
     ]
    }
   ],
   "source": [
    "if load_models_flag:\n",
    "    if use_zeroth_model:\n",
    "        star_clf        = pyc.load_model(gv.models_path + gv.star_model)  # star/no-star model\n",
    "        cal_star_clf    = load(gv.models_path + gv.cal_str_model)  # calibrated model\n",
    "    AGN_gal_clf         = pyc.load_model(gv.models_path + gv.AGN_gal_model)  #\n",
    "    cal_AGN_gal_clf     = load(gv.models_path + gv.cal_AGN_gal_model)  # calibrated model\n",
    "    radio_det_clf       = pyc.load_model(gv.models_path + gv.radio_model)  # without predicted AGN\n",
    "    cal_radio_det_clf   = load(gv.models_path + gv.cal_radio_model)  # calibrated model\n",
    "    redshift_reg        = pyr.load_model(gv.models_path + gv.full_z_model)  # to use on full sample\n",
    "    if use_second_z_model:\n",
    "        redshift_reg_2  = pyr.load_model(gv.models_path + gv.high_z_model)  # sources with predicted z >= 3.6"
   ]
  },
  {
   "cell_type": "code",
   "execution_count": 16,
   "metadata": {
    "jupyter": {
     "source_hidden": true
    }
   },
   "outputs": [],
   "source": [
    "full_catalog_df = pyc.predict_model(AGN_gal_clf, data=full_catalog_df, probability_threshold=gv.AGN_thresh, raw_score=True, round=10)\n",
    "full_catalog_df = full_catalog_df.drop(columns=['Score_0'])\n",
    "full_catalog_df = full_catalog_df.rename(columns={'Label': 'pred_class', 'Score_1': 'Score_AGN'})\n",
    "full_catalog_df['Score_AGN'] = np.around(full_catalog_df.loc[:, 'Score_AGN'], decimals=7)\n",
    "pred_probs_AGN  = cal_AGN_gal_clf.predict(full_catalog_df.loc[:, 'Score_AGN'])\n",
    "full_catalog_df['Prob_AGN'] = pred_probs_AGN"
   ]
  },
  {
   "cell_type": "code",
   "execution_count": 17,
   "metadata": {
    "jupyter": {
     "source_hidden": true
    }
   },
   "outputs": [],
   "source": [
    "full_catalog_df = pyc.predict_model(radio_det_clf, data=full_catalog_df, probability_threshold=gv.radio_thresh, raw_score=True, round=10)\n",
    "full_catalog_df = full_catalog_df.drop(columns=['Score_0'])\n",
    "full_catalog_df = full_catalog_df.rename(columns={'Label': 'pred_radio', 'Score_1': 'Score_radio'})\n",
    "full_catalog_df['Score_radio'] = np.around(full_catalog_df.loc[:, 'Score_radio'], decimals=7)\n",
    "pred_probs_rad  = cal_radio_det_clf.predict(full_catalog_df.loc[:, 'Score_radio'])\n",
    "full_catalog_df['Prob_radio'] = pred_probs_rad"
   ]
  },
  {
   "cell_type": "code",
   "execution_count": 18,
   "metadata": {
    "jupyter": {
     "source_hidden": true
    }
   },
   "outputs": [],
   "source": [
    "full_catalog_df = pyr.predict_model(redshift_reg, data=full_catalog_df, round=8)\n",
    "full_catalog_df = full_catalog_df.rename(columns={'Label': 'pred_Z'})\n",
    "full_catalog_df['pred_Z'] = np.around(full_catalog_df.loc[:, 'pred_Z'], decimals=3)"
   ]
  },
  {
   "cell_type": "code",
   "execution_count": 19,
   "metadata": {
    "jupyter": {
     "source_hidden": true
    }
   },
   "outputs": [],
   "source": [
    "redshift_tol    = 0.0\n",
    "if use_second_z_model:\n",
    "    full_catalog_df = pyr.predict_model(redshift_reg_2, data=full_catalog_df, round=6)\n",
    "    filter_pred_z   = full_catalog_df.loc[:, 'pred_Z'] >= (gv.high_z_limit + redshift_tol)\n",
    "    full_catalog_df.loc[:, 'pred_Z'] = full_catalog_df.loc[:, 'pred_Z'].mask(filter_pred_z, full_catalog_df.loc[filter_pred_z, 'Label'])\n",
    "    full_catalog_df = full_catalog_df.drop(columns=['Label'])\n",
    "    full_catalog_df.loc[:, 'pred_Z'] = np.around(full_catalog_df.loc[:, 'pred_Z'], decimals=3)"
   ]
  },
  {
   "cell_type": "code",
   "execution_count": 20,
   "metadata": {
    "jupyter": {
     "source_hidden": true
    }
   },
   "outputs": [],
   "source": [
    "full_catalog_df['pred_prob_class']    = (full_catalog_df.loc[:, 'Prob_AGN']   >= gv.cal_AGN_thresh).astype(int)\n",
    "full_catalog_df['pred_prob_radio']    = (full_catalog_df.loc[:, 'Prob_radio'] >= gv.cal_radio_thresh).astype(int)"
   ]
  },
  {
   "cell_type": "code",
   "execution_count": 21,
   "metadata": {
    "jupyter": {
     "source_hidden": true
    }
   },
   "outputs": [],
   "source": [
    "full_catalog_df['pred_radio_AGN']     = (np.array(full_catalog_df.loc[:, 'pred_class'] == 1) & np.array(full_catalog_df.loc[:, 'pred_radio'] == 1)).astype(int)\n",
    "full_catalog_df['Score_rAGN']         = full_catalog_df.loc[:, 'Score_AGN'] * full_catalog_df.loc[:, 'Score_radio']\n",
    "full_catalog_df['pred_prob_rAGN']     = (np.array(full_catalog_df.loc[:, 'pred_prob_class'] == 1) & np.array(full_catalog_df.loc[:, 'pred_prob_radio'] == 1)).astype(int)\n",
    "full_catalog_df['Prob_rAGN']          = full_catalog_df.loc[:, 'Prob_AGN'] * full_catalog_df.loc[:, 'Prob_radio']\n",
    "\n",
    "rad_score_scaler                      = MinMaxScaler()\n",
    "full_catalog_df['scaled_score_radio'] = rad_score_scaler.fit_transform(full_catalog_df.loc[:, 'Score_radio'].values.reshape(-1, 1))\n",
    "full_catalog_df['scaled_score_rAGN']  = full_catalog_df.loc[:, 'Score_AGN'] * full_catalog_df.loc[:, 'scaled_score_radio']"
   ]
  },
  {
   "cell_type": "code",
   "execution_count": 22,
   "metadata": {
    "jupyter": {
     "source_hidden": true
    }
   },
   "outputs": [
    {
     "data": {
      "text/html": [
       "<div>\n",
       "<style scoped>\n",
       "    .dataframe tbody tr th:only-of-type {\n",
       "        vertical-align: middle;\n",
       "    }\n",
       "\n",
       "    .dataframe tbody tr th {\n",
       "        vertical-align: top;\n",
       "    }\n",
       "\n",
       "    .dataframe thead th {\n",
       "        text-align: right;\n",
       "    }\n",
       "</style>\n",
       "<table border=\"1\" class=\"dataframe\">\n",
       "  <thead>\n",
       "    <tr style=\"text-align: right;\">\n",
       "      <th></th>\n",
       "      <th>class</th>\n",
       "      <th>pred_prob_class</th>\n",
       "      <th>LOFAR_detect</th>\n",
       "      <th>pred_prob_radio</th>\n",
       "      <th>Z</th>\n",
       "      <th>pred_Z</th>\n",
       "    </tr>\n",
       "  </thead>\n",
       "  <tbody>\n",
       "    <tr>\n",
       "      <th>count</th>\n",
       "      <td>118734.000000</td>\n",
       "      <td>1.513688e+07</td>\n",
       "      <td>1.513688e+07</td>\n",
       "      <td>1.513688e+07</td>\n",
       "      <td>134234.000000</td>\n",
       "      <td>1.513688e+07</td>\n",
       "    </tr>\n",
       "    <tr>\n",
       "      <th>mean</th>\n",
       "      <td>0.425641</td>\n",
       "      <td>6.623990e-01</td>\n",
       "      <td>1.239179e-02</td>\n",
       "      <td>9.470163e-02</td>\n",
       "      <td>0.876576</td>\n",
       "      <td>2.034261e+00</td>\n",
       "    </tr>\n",
       "    <tr>\n",
       "      <th>std</th>\n",
       "      <td>0.494442</td>\n",
       "      <td>4.728917e-01</td>\n",
       "      <td>1.106265e-01</td>\n",
       "      <td>2.928024e-01</td>\n",
       "      <td>0.779380</td>\n",
       "      <td>5.600509e-01</td>\n",
       "    </tr>\n",
       "    <tr>\n",
       "      <th>min</th>\n",
       "      <td>0.000000</td>\n",
       "      <td>0.000000e+00</td>\n",
       "      <td>0.000000e+00</td>\n",
       "      <td>0.000000e+00</td>\n",
       "      <td>-0.004490</td>\n",
       "      <td>5.000000e-03</td>\n",
       "    </tr>\n",
       "    <tr>\n",
       "      <th>25%</th>\n",
       "      <td>0.000000</td>\n",
       "      <td>0.000000e+00</td>\n",
       "      <td>0.000000e+00</td>\n",
       "      <td>0.000000e+00</td>\n",
       "      <td>0.381018</td>\n",
       "      <td>1.943000e+00</td>\n",
       "    </tr>\n",
       "    <tr>\n",
       "      <th>50%</th>\n",
       "      <td>0.000000</td>\n",
       "      <td>1.000000e+00</td>\n",
       "      <td>0.000000e+00</td>\n",
       "      <td>0.000000e+00</td>\n",
       "      <td>0.623500</td>\n",
       "      <td>2.129000e+00</td>\n",
       "    </tr>\n",
       "    <tr>\n",
       "      <th>75%</th>\n",
       "      <td>1.000000</td>\n",
       "      <td>1.000000e+00</td>\n",
       "      <td>0.000000e+00</td>\n",
       "      <td>0.000000e+00</td>\n",
       "      <td>1.282000</td>\n",
       "      <td>2.129000e+00</td>\n",
       "    </tr>\n",
       "    <tr>\n",
       "      <th>max</th>\n",
       "      <td>1.000000</td>\n",
       "      <td>1.000000e+00</td>\n",
       "      <td>1.000000e+00</td>\n",
       "      <td>1.000000e+00</td>\n",
       "      <td>7.028330</td>\n",
       "      <td>4.796000e+00</td>\n",
       "    </tr>\n",
       "  </tbody>\n",
       "</table>\n",
       "</div>"
      ],
      "text/plain": [
       "               class  pred_prob_class  LOFAR_detect  pred_prob_radio  \\\n",
       "count  118734.000000     1.513688e+07  1.513688e+07     1.513688e+07   \n",
       "mean        0.425641     6.623990e-01  1.239179e-02     9.470163e-02   \n",
       "std         0.494442     4.728917e-01  1.106265e-01     2.928024e-01   \n",
       "min         0.000000     0.000000e+00  0.000000e+00     0.000000e+00   \n",
       "25%         0.000000     0.000000e+00  0.000000e+00     0.000000e+00   \n",
       "50%         0.000000     1.000000e+00  0.000000e+00     0.000000e+00   \n",
       "75%         1.000000     1.000000e+00  0.000000e+00     0.000000e+00   \n",
       "max         1.000000     1.000000e+00  1.000000e+00     1.000000e+00   \n",
       "\n",
       "                   Z        pred_Z  \n",
       "count  134234.000000  1.513688e+07  \n",
       "mean        0.876576  2.034261e+00  \n",
       "std         0.779380  5.600509e-01  \n",
       "min        -0.004490  5.000000e-03  \n",
       "25%         0.381018  1.943000e+00  \n",
       "50%         0.623500  2.129000e+00  \n",
       "75%         1.282000  2.129000e+00  \n",
       "max         7.028330  4.796000e+00  "
      ]
     },
     "execution_count": 22,
     "metadata": {},
     "output_type": "execute_result"
    }
   ],
   "source": [
    "full_catalog_df.loc[:, ['class', 'pred_prob_class', 'LOFAR_detect', 'pred_prob_radio', 'Z', 'pred_Z']].describe()"
   ]
  },
  {
   "cell_type": "markdown",
   "metadata": {},
   "source": [
    "Obtain intermediate metrics"
   ]
  },
  {
   "cell_type": "code",
   "execution_count": 23,
   "metadata": {
    "jupyter": {
     "source_hidden": true
    }
   },
   "outputs": [],
   "source": [
    "filter_radio_AGN_t      = np.array(full_catalog_df.loc[:, 'class'] == 1) & np.array(full_catalog_df.loc[:, 'LOFAR_detect'] == 1)\n",
    "filter_gal_AGN_t        = np.array(full_catalog_df.loc[:, 'class'] == 0) | np.array(full_catalog_df.loc[:, 'class'] == 1)\n",
    "total_size              = len(full_catalog_df)\n",
    "filter_AGN_t            = np.array(full_catalog_df.loc[:, 'class'] == 1)\n",
    "num_AGN_t               = np.sum(filter_AGN_t)\n",
    "num_gal_t               = np.sum(np.array(full_catalog_df.loc[:, 'class'] == 0))\n",
    "num_radio_t             = np.sum(np.array(full_catalog_df.loc[:, 'LOFAR_detect'] == 1))\n",
    "num_radio_AGN_t         = np.sum(filter_radio_AGN_t)"
   ]
  },
  {
   "cell_type": "code",
   "execution_count": 24,
   "metadata": {
    "jupyter": {
     "source_hidden": true
    }
   },
   "outputs": [],
   "source": [
    "# filter_radio_AGN_p      = np.array(full_catalog_df.loc[:, 'Score_AGN']          >= threshold_AGN) &\\\n",
    "#                             np.array(full_catalog_df.loc[:, 'Score_radio']      >= threshold_radio)\n",
    "filter_radio_AGN_p      = np.array(full_catalog_df.loc[:, 'pred_prob_class']      == 1) &\\\n",
    "                            np.array(full_catalog_df.loc[:, 'pred_prob_radio']    == 1)\n",
    "filt_hiz_rAGN_p         = filter_radio_AGN_p * np.array(full_catalog_df.loc[:, 'pred_Z'] >= gv.high_z_limit)\n",
    "filter_AGN_p            = np.array(full_catalog_df.loc[:, 'pred_prob_class']      == 1)\n",
    "filter_radio_p          = np.array(full_catalog_df.loc[:, 'pred_prob_radio']      == 1)\n",
    "num_AGN_p               = np.sum(filter_AGN_p)\n",
    "num_gal_p               = np.sum(np.array(full_catalog_df.loc[:, 'pred_prob_class'] == 0))\n",
    "num_radio_p             = np.sum(filter_radio_p)\n",
    "num_radio_AGN_p         = np.sum(filter_radio_AGN_p)"
   ]
  },
  {
   "cell_type": "markdown",
   "metadata": {},
   "source": [
    "### Select sources predicted to be Radio AGN (optional)"
   ]
  },
  {
   "cell_type": "code",
   "execution_count": 25,
   "metadata": {},
   "outputs": [],
   "source": [
    "# full_catalog_df         = full_catalog_df.loc[filter_radio_AGN_p]"
   ]
  },
  {
   "cell_type": "code",
   "execution_count": 26,
   "metadata": {
    "jupyter": {
     "source_hidden": true
    }
   },
   "outputs": [
    {
     "data": {
      "text/html": [
       "<div>\n",
       "<style scoped>\n",
       "    .dataframe tbody tr th:only-of-type {\n",
       "        vertical-align: middle;\n",
       "    }\n",
       "\n",
       "    .dataframe tbody tr th {\n",
       "        vertical-align: top;\n",
       "    }\n",
       "\n",
       "    .dataframe thead th {\n",
       "        text-align: right;\n",
       "    }\n",
       "</style>\n",
       "<table border=\"1\" class=\"dataframe\">\n",
       "  <thead>\n",
       "    <tr style=\"text-align: right;\">\n",
       "      <th></th>\n",
       "      <th>class</th>\n",
       "      <th>pred_prob_class</th>\n",
       "      <th>LOFAR_detect</th>\n",
       "      <th>pred_prob_radio</th>\n",
       "      <th>Z</th>\n",
       "      <th>pred_Z</th>\n",
       "    </tr>\n",
       "  </thead>\n",
       "  <tbody>\n",
       "    <tr>\n",
       "      <th>count</th>\n",
       "      <td>118734.000000</td>\n",
       "      <td>1.513688e+07</td>\n",
       "      <td>1.513688e+07</td>\n",
       "      <td>1.513688e+07</td>\n",
       "      <td>134234.000000</td>\n",
       "      <td>1.513688e+07</td>\n",
       "    </tr>\n",
       "    <tr>\n",
       "      <th>mean</th>\n",
       "      <td>0.425641</td>\n",
       "      <td>6.623990e-01</td>\n",
       "      <td>1.239179e-02</td>\n",
       "      <td>9.470163e-02</td>\n",
       "      <td>0.876576</td>\n",
       "      <td>2.034261e+00</td>\n",
       "    </tr>\n",
       "    <tr>\n",
       "      <th>std</th>\n",
       "      <td>0.494442</td>\n",
       "      <td>4.728917e-01</td>\n",
       "      <td>1.106265e-01</td>\n",
       "      <td>2.928024e-01</td>\n",
       "      <td>0.779380</td>\n",
       "      <td>5.600509e-01</td>\n",
       "    </tr>\n",
       "    <tr>\n",
       "      <th>min</th>\n",
       "      <td>0.000000</td>\n",
       "      <td>0.000000e+00</td>\n",
       "      <td>0.000000e+00</td>\n",
       "      <td>0.000000e+00</td>\n",
       "      <td>-0.004490</td>\n",
       "      <td>5.000000e-03</td>\n",
       "    </tr>\n",
       "    <tr>\n",
       "      <th>25%</th>\n",
       "      <td>0.000000</td>\n",
       "      <td>0.000000e+00</td>\n",
       "      <td>0.000000e+00</td>\n",
       "      <td>0.000000e+00</td>\n",
       "      <td>0.381018</td>\n",
       "      <td>1.943000e+00</td>\n",
       "    </tr>\n",
       "    <tr>\n",
       "      <th>50%</th>\n",
       "      <td>0.000000</td>\n",
       "      <td>1.000000e+00</td>\n",
       "      <td>0.000000e+00</td>\n",
       "      <td>0.000000e+00</td>\n",
       "      <td>0.623500</td>\n",
       "      <td>2.129000e+00</td>\n",
       "    </tr>\n",
       "    <tr>\n",
       "      <th>75%</th>\n",
       "      <td>1.000000</td>\n",
       "      <td>1.000000e+00</td>\n",
       "      <td>0.000000e+00</td>\n",
       "      <td>0.000000e+00</td>\n",
       "      <td>1.282000</td>\n",
       "      <td>2.129000e+00</td>\n",
       "    </tr>\n",
       "    <tr>\n",
       "      <th>max</th>\n",
       "      <td>1.000000</td>\n",
       "      <td>1.000000e+00</td>\n",
       "      <td>1.000000e+00</td>\n",
       "      <td>1.000000e+00</td>\n",
       "      <td>7.028330</td>\n",
       "      <td>4.796000e+00</td>\n",
       "    </tr>\n",
       "  </tbody>\n",
       "</table>\n",
       "</div>"
      ],
      "text/plain": [
       "               class  pred_prob_class  LOFAR_detect  pred_prob_radio  \\\n",
       "count  118734.000000     1.513688e+07  1.513688e+07     1.513688e+07   \n",
       "mean        0.425641     6.623990e-01  1.239179e-02     9.470163e-02   \n",
       "std         0.494442     4.728917e-01  1.106265e-01     2.928024e-01   \n",
       "min         0.000000     0.000000e+00  0.000000e+00     0.000000e+00   \n",
       "25%         0.000000     0.000000e+00  0.000000e+00     0.000000e+00   \n",
       "50%         0.000000     1.000000e+00  0.000000e+00     0.000000e+00   \n",
       "75%         1.000000     1.000000e+00  0.000000e+00     0.000000e+00   \n",
       "max         1.000000     1.000000e+00  1.000000e+00     1.000000e+00   \n",
       "\n",
       "                   Z        pred_Z  \n",
       "count  134234.000000  1.513688e+07  \n",
       "mean        0.876576  2.034261e+00  \n",
       "std         0.779380  5.600509e-01  \n",
       "min        -0.004490  5.000000e-03  \n",
       "25%         0.381018  1.943000e+00  \n",
       "50%         0.623500  2.129000e+00  \n",
       "75%         1.282000  2.129000e+00  \n",
       "max         7.028330  4.796000e+00  "
      ]
     },
     "execution_count": 26,
     "metadata": {},
     "output_type": "execute_result"
    }
   ],
   "source": [
    "full_catalog_df.loc[:, ['class', 'pred_prob_class', 'LOFAR_detect', 'pred_prob_radio', 'Z', 'pred_Z']].describe()"
   ]
  },
  {
   "cell_type": "markdown",
   "metadata": {},
   "source": [
    "Add individual metrics for redshift"
   ]
  },
  {
   "cell_type": "code",
   "execution_count": 27,
   "metadata": {
    "jupyter": {
     "source_hidden": true
    },
    "tags": []
   },
   "outputs": [],
   "source": [
    "full_catalog_df['Delta_z_N'] = np.around((full_catalog_df.loc[:, 'pred_Z'] - full_catalog_df.loc[:, 'Z']) /\\\n",
    "                            (1 + full_catalog_df.loc[:, 'Z']), decimals=3)\n",
    "\n",
    "full_catalog_df['sigma_NMAD'] = np.around(1.48 * np.abs(full_catalog_df.loc[:, 'pred_Z'] - full_catalog_df.loc[:, 'Z']) /\\\n",
    "                            (1 + full_catalog_df.loc[:, 'Z']), decimals=3)"
   ]
  },
  {
   "cell_type": "markdown",
   "metadata": {},
   "source": [
    "Numerical summary."
   ]
  },
  {
   "cell_type": "code",
   "execution_count": 28,
   "metadata": {
    "jupyter": {
     "source_hidden": true
    },
    "tags": []
   },
   "outputs": [],
   "source": [
    "str_0_t   = f'Out of {total_size:,} initial sources in {used_area},\\n'\n",
    "str_1_t   = f'{num_gal_t:,} are confirmed to be galaxies. On the other side,\\n'\n",
    "str_2_t   = f'{num_AGN_t:,} are confirmed to be AGN. And, from the AGN,\\n'\n",
    "str_3_t   = f'{num_radio_AGN_t:,} are detected in radio.'\n",
    "\n",
    "str_0_p   = f'Out of {num_radio_AGN_t:,} initial radio-detected AGN in {used_area},\\n'\n",
    "str_1_p   = f'{num_gal_p:,} are predicted to be galaxies. On the other side,\\n'\n",
    "str_2_p   = f'{num_AGN_p:,} are predicted to be AGN. And, from the predicted AGN,\\n'\n",
    "str_3_p   = f'{num_radio_AGN_p:,} are predicted to be detected in radio.'"
   ]
  },
  {
   "cell_type": "code",
   "execution_count": 29,
   "metadata": {
    "jupyter": {
     "source_hidden": true
    },
    "tags": []
   },
   "outputs": [
    {
     "name": "stdout",
     "output_type": "stream",
     "text": [
      "------------------------------------------------------------\n",
      "Out of 15,136,878 initial sources in HETDEX,\n",
      "68,196 are confirmed to be galaxies. On the other side,\n",
      "50,538 are confirmed to be AGN. And, from the AGN,\n",
      "6,419 are detected in radio.\n",
      "------------------------------------------------------------\n",
      "Out of 6,419 initial radio-detected AGN in HETDEX,\n",
      "5,110,225 are predicted to be galaxies. On the other side,\n",
      "10,026,653 are predicted to be AGN. And, from the predicted AGN,\n",
      "79,847 are predicted to be detected in radio.\n",
      "------------------------------------------------------------\n"
     ]
    }
   ],
   "source": [
    "print('-' * 60)\n",
    "print(str_0_t + str_1_t + str_2_t + str_3_t)\n",
    "print('-' * 60)\n",
    "print(str_0_p + str_1_p + str_2_p + str_3_p)\n",
    "print('-' * 60)"
   ]
  },
  {
   "cell_type": "code",
   "execution_count": 30,
   "metadata": {},
   "outputs": [],
   "source": [
    "cols_4_table = show_columns = ['Name', 'RA_ICRS', 'DE_ICRS', 'TYPE', 'band_num', 'class', 'pred_class',\\\n",
    "                               'pred_prob_class', 'Score_AGN', 'Prob_AGN', 'LOFAR_detect', 'pred_radio',\\\n",
    "                               'pred_prob_radio', 'Score_radio', 'Prob_radio', 'radio_AGN', 'pred_radio_AGN',\\\n",
    "                               'pred_prob_rAGN', 'Score_rAGN', 'Prob_rAGN', 'Z', 'pred_Z']"
   ]
  },
  {
   "cell_type": "code",
   "execution_count": 31,
   "metadata": {},
   "outputs": [],
   "source": [
    "cols_4_export_S82    = ['Fint_VLAS82']\n",
    "cols_4_export_HETDEX = ['Sint_LOFAR']\n",
    "cols_4_export_COSMOS = ['Flux_COSMOSVLA3']\n",
    "\n",
    "cols_4_exp_all       = {'S82': cols_4_export_S82, 'HETDEX': cols_4_export_HETDEX, 'COSMOS': cols_4_export_COSMOS}\n",
    "\n",
    "cols_photo           = ['W1mproPM', 'W2mproPM', 'gmag', 'rmag', 'imag', 'zmag', \n",
    "                        'ymag', 'Jmag', 'Hmag', 'Kmag', 'W3mag', 'W4mag']\n",
    "\n",
    "cols_4_export        = cols_4_table + cols_4_exp_all[used_area] + cols_photo"
   ]
  },
  {
   "cell_type": "code",
   "execution_count": 32,
   "metadata": {},
   "outputs": [],
   "source": [
    "filter_new_rAGN = full_catalog_df.loc[:, 'radio_AGN'] == 0\n",
    "if predict_only_hi_z:\n",
    "    filter_high_z   = full_catalog_df.loc[:, 'pred_Z']    >= gv.high_z_limit\n",
    "elif not predict_only_hi_z:\n",
    "    filter_high_z   = np.ones_like(full_catalog_df.loc[:, 'pred_Z']).astype(bool)"
   ]
  },
  {
   "cell_type": "code",
   "execution_count": 33,
   "metadata": {},
   "outputs": [],
   "source": [
    "full_catalog_df.loc[:, 'TYPE'] = full_catalog_df.loc[:, 'TYPE'].mask(full_catalog_df.loc[:, 'TYPE'] == '    ', 'CCCC')"
   ]
  },
  {
   "cell_type": "code",
   "execution_count": 34,
   "metadata": {},
   "outputs": [
    {
     "data": {
      "text/html": [
       "<div>\n",
       "<style scoped>\n",
       "    .dataframe tbody tr th:only-of-type {\n",
       "        vertical-align: middle;\n",
       "    }\n",
       "\n",
       "    .dataframe tbody tr th {\n",
       "        vertical-align: top;\n",
       "    }\n",
       "\n",
       "    .dataframe thead th {\n",
       "        text-align: right;\n",
       "    }\n",
       "</style>\n",
       "<table border=\"1\" class=\"dataframe\">\n",
       "  <thead>\n",
       "    <tr style=\"text-align: right;\">\n",
       "      <th></th>\n",
       "      <th>Name</th>\n",
       "      <th>RA_ICRS</th>\n",
       "      <th>DE_ICRS</th>\n",
       "      <th>TYPE</th>\n",
       "      <th>band_num</th>\n",
       "      <th>class</th>\n",
       "      <th>pred_class</th>\n",
       "      <th>pred_prob_class</th>\n",
       "      <th>Score_AGN</th>\n",
       "      <th>Prob_AGN</th>\n",
       "      <th>LOFAR_detect</th>\n",
       "      <th>pred_radio</th>\n",
       "      <th>pred_prob_radio</th>\n",
       "      <th>Score_radio</th>\n",
       "      <th>Prob_radio</th>\n",
       "      <th>radio_AGN</th>\n",
       "      <th>pred_radio_AGN</th>\n",
       "      <th>pred_prob_rAGN</th>\n",
       "      <th>Score_rAGN</th>\n",
       "      <th>Prob_rAGN</th>\n",
       "      <th>Z</th>\n",
       "      <th>pred_Z</th>\n",
       "      <th>Sint_LOFAR</th>\n",
       "      <th>W1mproPM</th>\n",
       "      <th>W2mproPM</th>\n",
       "      <th>gmag</th>\n",
       "      <th>rmag</th>\n",
       "      <th>imag</th>\n",
       "      <th>zmag</th>\n",
       "      <th>ymag</th>\n",
       "      <th>Jmag</th>\n",
       "      <th>Hmag</th>\n",
       "      <th>Kmag</th>\n",
       "      <th>W3mag</th>\n",
       "      <th>W4mag</th>\n",
       "    </tr>\n",
       "  </thead>\n",
       "  <tbody>\n",
       "    <tr>\n",
       "      <th>7355795</th>\n",
       "      <td>J133422.63+475033.4</td>\n",
       "      <td>203.594269</td>\n",
       "      <td>47.842628</td>\n",
       "      <td>QX</td>\n",
       "      <td>8</td>\n",
       "      <td>1.0</td>\n",
       "      <td>1</td>\n",
       "      <td>1</td>\n",
       "      <td>0.500056</td>\n",
       "      <td>0.892185</td>\n",
       "      <td>1</td>\n",
       "      <td>0</td>\n",
       "      <td>0</td>\n",
       "      <td>0.048814</td>\n",
       "      <td>0.062214</td>\n",
       "      <td>1</td>\n",
       "      <td>0</td>\n",
       "      <td>0</td>\n",
       "      <td>0.024410</td>\n",
       "      <td>0.055506</td>\n",
       "      <td>4.958</td>\n",
       "      <td>4.796</td>\n",
       "      <td>14.569016</td>\n",
       "      <td>18.983999</td>\n",
       "      <td>19.130001</td>\n",
       "      <td>23.299999</td>\n",
       "      <td>20.933100</td>\n",
       "      <td>19.620399</td>\n",
       "      <td>19.306101</td>\n",
       "      <td>19.200300</td>\n",
       "      <td>17.450001</td>\n",
       "      <td>17.24</td>\n",
       "      <td>16.59</td>\n",
       "      <td>16.67</td>\n",
       "      <td>14.62</td>\n",
       "    </tr>\n",
       "    <tr>\n",
       "      <th>3226938</th>\n",
       "      <td>J111714.13+540919.4</td>\n",
       "      <td>169.308868</td>\n",
       "      <td>54.155396</td>\n",
       "      <td>Q</td>\n",
       "      <td>8</td>\n",
       "      <td>1.0</td>\n",
       "      <td>1</td>\n",
       "      <td>1</td>\n",
       "      <td>0.500068</td>\n",
       "      <td>0.926110</td>\n",
       "      <td>1</td>\n",
       "      <td>0</td>\n",
       "      <td>1</td>\n",
       "      <td>0.208025</td>\n",
       "      <td>0.225272</td>\n",
       "      <td>1</td>\n",
       "      <td>0</td>\n",
       "      <td>1</td>\n",
       "      <td>0.104026</td>\n",
       "      <td>0.208627</td>\n",
       "      <td>4.700</td>\n",
       "      <td>4.748</td>\n",
       "      <td>16.954622</td>\n",
       "      <td>19.456999</td>\n",
       "      <td>19.754002</td>\n",
       "      <td>23.299999</td>\n",
       "      <td>21.331800</td>\n",
       "      <td>20.118099</td>\n",
       "      <td>19.834101</td>\n",
       "      <td>19.797501</td>\n",
       "      <td>17.450001</td>\n",
       "      <td>17.24</td>\n",
       "      <td>16.59</td>\n",
       "      <td>16.67</td>\n",
       "      <td>14.62</td>\n",
       "    </tr>\n",
       "    <tr>\n",
       "      <th>4264628</th>\n",
       "      <td>J141000.75+460134.5</td>\n",
       "      <td>212.503098</td>\n",
       "      <td>46.026260</td>\n",
       "      <td></td>\n",
       "      <td>6</td>\n",
       "      <td>NaN</td>\n",
       "      <td>0</td>\n",
       "      <td>0</td>\n",
       "      <td>0.499961</td>\n",
       "      <td>0.205264</td>\n",
       "      <td>0</td>\n",
       "      <td>0</td>\n",
       "      <td>1</td>\n",
       "      <td>0.248813</td>\n",
       "      <td>0.261320</td>\n",
       "      <td>0</td>\n",
       "      <td>0</td>\n",
       "      <td>0</td>\n",
       "      <td>0.124397</td>\n",
       "      <td>0.053640</td>\n",
       "      <td>NaN</td>\n",
       "      <td>4.715</td>\n",
       "      <td>17.520000</td>\n",
       "      <td>19.681999</td>\n",
       "      <td>19.809999</td>\n",
       "      <td>23.299999</td>\n",
       "      <td>20.781799</td>\n",
       "      <td>19.471001</td>\n",
       "      <td>19.164101</td>\n",
       "      <td>19.027300</td>\n",
       "      <td>17.450001</td>\n",
       "      <td>17.24</td>\n",
       "      <td>16.59</td>\n",
       "      <td>16.67</td>\n",
       "      <td>14.62</td>\n",
       "    </tr>\n",
       "    <tr>\n",
       "      <th>9544254</th>\n",
       "      <td>J132514.21+534447.1</td>\n",
       "      <td>201.309235</td>\n",
       "      <td>53.746429</td>\n",
       "      <td></td>\n",
       "      <td>6</td>\n",
       "      <td>NaN</td>\n",
       "      <td>0</td>\n",
       "      <td>1</td>\n",
       "      <td>0.500007</td>\n",
       "      <td>0.578804</td>\n",
       "      <td>0</td>\n",
       "      <td>0</td>\n",
       "      <td>1</td>\n",
       "      <td>0.351672</td>\n",
       "      <td>0.345250</td>\n",
       "      <td>0</td>\n",
       "      <td>0</td>\n",
       "      <td>1</td>\n",
       "      <td>0.175838</td>\n",
       "      <td>0.199832</td>\n",
       "      <td>NaN</td>\n",
       "      <td>4.711</td>\n",
       "      <td>17.520000</td>\n",
       "      <td>18.823999</td>\n",
       "      <td>19.125999</td>\n",
       "      <td>23.299999</td>\n",
       "      <td>20.935801</td>\n",
       "      <td>19.635599</td>\n",
       "      <td>19.379000</td>\n",
       "      <td>19.478600</td>\n",
       "      <td>17.450001</td>\n",
       "      <td>17.24</td>\n",
       "      <td>16.59</td>\n",
       "      <td>16.67</td>\n",
       "      <td>14.62</td>\n",
       "    </tr>\n",
       "    <tr>\n",
       "      <th>10831188</th>\n",
       "      <td>J124400.05+553406.8</td>\n",
       "      <td>191.000183</td>\n",
       "      <td>55.568558</td>\n",
       "      <td>Q</td>\n",
       "      <td>8</td>\n",
       "      <td>1.0</td>\n",
       "      <td>1</td>\n",
       "      <td>1</td>\n",
       "      <td>0.500053</td>\n",
       "      <td>0.880835</td>\n",
       "      <td>0</td>\n",
       "      <td>0</td>\n",
       "      <td>1</td>\n",
       "      <td>0.736330</td>\n",
       "      <td>0.616554</td>\n",
       "      <td>0</td>\n",
       "      <td>0</td>\n",
       "      <td>1</td>\n",
       "      <td>0.368204</td>\n",
       "      <td>0.543082</td>\n",
       "      <td>4.623</td>\n",
       "      <td>4.654</td>\n",
       "      <td>17.520000</td>\n",
       "      <td>18.931999</td>\n",
       "      <td>19.226000</td>\n",
       "      <td>23.299999</td>\n",
       "      <td>21.077101</td>\n",
       "      <td>19.595501</td>\n",
       "      <td>19.544100</td>\n",
       "      <td>19.271700</td>\n",
       "      <td>17.450001</td>\n",
       "      <td>17.24</td>\n",
       "      <td>16.59</td>\n",
       "      <td>16.67</td>\n",
       "      <td>14.62</td>\n",
       "    </tr>\n",
       "    <tr>\n",
       "      <th>13292816</th>\n",
       "      <td>J143508.80+485521.4</td>\n",
       "      <td>218.786652</td>\n",
       "      <td>48.922630</td>\n",
       "      <td>Q</td>\n",
       "      <td>8</td>\n",
       "      <td>1.0</td>\n",
       "      <td>1</td>\n",
       "      <td>1</td>\n",
       "      <td>0.500043</td>\n",
       "      <td>0.833508</td>\n",
       "      <td>0</td>\n",
       "      <td>0</td>\n",
       "      <td>0</td>\n",
       "      <td>0.131533</td>\n",
       "      <td>0.152147</td>\n",
       "      <td>0</td>\n",
       "      <td>0</td>\n",
       "      <td>0</td>\n",
       "      <td>0.065772</td>\n",
       "      <td>0.126816</td>\n",
       "      <td>4.776</td>\n",
       "      <td>4.652</td>\n",
       "      <td>17.520000</td>\n",
       "      <td>19.424000</td>\n",
       "      <td>19.650002</td>\n",
       "      <td>23.299999</td>\n",
       "      <td>21.011400</td>\n",
       "      <td>19.706301</td>\n",
       "      <td>19.509300</td>\n",
       "      <td>19.394300</td>\n",
       "      <td>17.450001</td>\n",
       "      <td>17.24</td>\n",
       "      <td>16.59</td>\n",
       "      <td>16.67</td>\n",
       "      <td>14.62</td>\n",
       "    </tr>\n",
       "    <tr>\n",
       "      <th>12355845</th>\n",
       "      <td>J144321.14+501908.4</td>\n",
       "      <td>220.838120</td>\n",
       "      <td>50.319016</td>\n",
       "      <td></td>\n",
       "      <td>5</td>\n",
       "      <td>NaN</td>\n",
       "      <td>0</td>\n",
       "      <td>1</td>\n",
       "      <td>0.500007</td>\n",
       "      <td>0.578804</td>\n",
       "      <td>0</td>\n",
       "      <td>0</td>\n",
       "      <td>1</td>\n",
       "      <td>0.937123</td>\n",
       "      <td>0.794128</td>\n",
       "      <td>0</td>\n",
       "      <td>0</td>\n",
       "      <td>1</td>\n",
       "      <td>0.468568</td>\n",
       "      <td>0.459644</td>\n",
       "      <td>NaN</td>\n",
       "      <td>4.606</td>\n",
       "      <td>17.520000</td>\n",
       "      <td>19.511999</td>\n",
       "      <td>19.809999</td>\n",
       "      <td>23.299999</td>\n",
       "      <td>21.092501</td>\n",
       "      <td>19.449699</td>\n",
       "      <td>19.490801</td>\n",
       "      <td>21.400000</td>\n",
       "      <td>17.450001</td>\n",
       "      <td>17.24</td>\n",
       "      <td>16.59</td>\n",
       "      <td>16.67</td>\n",
       "      <td>14.62</td>\n",
       "    </tr>\n",
       "    <tr>\n",
       "      <th>13669337</th>\n",
       "      <td>J143442.05+532102.5</td>\n",
       "      <td>218.675201</td>\n",
       "      <td>53.350716</td>\n",
       "      <td></td>\n",
       "      <td>7</td>\n",
       "      <td>NaN</td>\n",
       "      <td>0</td>\n",
       "      <td>0</td>\n",
       "      <td>0.499916</td>\n",
       "      <td>0.046781</td>\n",
       "      <td>0</td>\n",
       "      <td>0</td>\n",
       "      <td>1</td>\n",
       "      <td>0.438486</td>\n",
       "      <td>0.410208</td>\n",
       "      <td>0</td>\n",
       "      <td>0</td>\n",
       "      <td>0</td>\n",
       "      <td>0.219206</td>\n",
       "      <td>0.019190</td>\n",
       "      <td>NaN</td>\n",
       "      <td>4.594</td>\n",
       "      <td>17.520000</td>\n",
       "      <td>19.473999</td>\n",
       "      <td>19.809999</td>\n",
       "      <td>23.299999</td>\n",
       "      <td>20.897600</td>\n",
       "      <td>20.666800</td>\n",
       "      <td>20.399200</td>\n",
       "      <td>21.400000</td>\n",
       "      <td>17.450001</td>\n",
       "      <td>17.24</td>\n",
       "      <td>16.59</td>\n",
       "      <td>16.67</td>\n",
       "      <td>14.62</td>\n",
       "    </tr>\n",
       "    <tr>\n",
       "      <th>3108302</th>\n",
       "      <td>J111513.19+532105.5</td>\n",
       "      <td>168.804932</td>\n",
       "      <td>53.351532</td>\n",
       "      <td></td>\n",
       "      <td>7</td>\n",
       "      <td>NaN</td>\n",
       "      <td>0</td>\n",
       "      <td>0</td>\n",
       "      <td>0.499973</td>\n",
       "      <td>0.282668</td>\n",
       "      <td>0</td>\n",
       "      <td>0</td>\n",
       "      <td>0</td>\n",
       "      <td>0.089812</td>\n",
       "      <td>0.108494</td>\n",
       "      <td>0</td>\n",
       "      <td>0</td>\n",
       "      <td>0</td>\n",
       "      <td>0.044904</td>\n",
       "      <td>0.030668</td>\n",
       "      <td>NaN</td>\n",
       "      <td>4.586</td>\n",
       "      <td>17.520000</td>\n",
       "      <td>19.511000</td>\n",
       "      <td>19.809999</td>\n",
       "      <td>23.299999</td>\n",
       "      <td>20.940901</td>\n",
       "      <td>20.626600</td>\n",
       "      <td>20.388500</td>\n",
       "      <td>21.400000</td>\n",
       "      <td>17.450001</td>\n",
       "      <td>17.24</td>\n",
       "      <td>16.59</td>\n",
       "      <td>16.67</td>\n",
       "      <td>14.62</td>\n",
       "    </tr>\n",
       "    <tr>\n",
       "      <th>5398215</th>\n",
       "      <td>J140947.84+514530.7</td>\n",
       "      <td>212.449341</td>\n",
       "      <td>51.758556</td>\n",
       "      <td></td>\n",
       "      <td>5</td>\n",
       "      <td>NaN</td>\n",
       "      <td>0</td>\n",
       "      <td>0</td>\n",
       "      <td>0.499945</td>\n",
       "      <td>0.123657</td>\n",
       "      <td>0</td>\n",
       "      <td>0</td>\n",
       "      <td>1</td>\n",
       "      <td>0.305554</td>\n",
       "      <td>0.308716</td>\n",
       "      <td>0</td>\n",
       "      <td>0</td>\n",
       "      <td>0</td>\n",
       "      <td>0.152760</td>\n",
       "      <td>0.038175</td>\n",
       "      <td>NaN</td>\n",
       "      <td>4.584</td>\n",
       "      <td>17.520000</td>\n",
       "      <td>19.552999</td>\n",
       "      <td>19.809999</td>\n",
       "      <td>23.299999</td>\n",
       "      <td>21.259800</td>\n",
       "      <td>20.958599</td>\n",
       "      <td>20.683599</td>\n",
       "      <td>21.400000</td>\n",
       "      <td>17.450001</td>\n",
       "      <td>17.24</td>\n",
       "      <td>16.59</td>\n",
       "      <td>16.67</td>\n",
       "      <td>14.62</td>\n",
       "    </tr>\n",
       "    <tr>\n",
       "      <th>4518752</th>\n",
       "      <td>J143002.80+484217.8</td>\n",
       "      <td>217.511658</td>\n",
       "      <td>48.704964</td>\n",
       "      <td></td>\n",
       "      <td>7</td>\n",
       "      <td>NaN</td>\n",
       "      <td>0</td>\n",
       "      <td>0</td>\n",
       "      <td>0.499976</td>\n",
       "      <td>0.306110</td>\n",
       "      <td>0</td>\n",
       "      <td>0</td>\n",
       "      <td>0</td>\n",
       "      <td>0.108025</td>\n",
       "      <td>0.127930</td>\n",
       "      <td>0</td>\n",
       "      <td>0</td>\n",
       "      <td>0</td>\n",
       "      <td>0.054010</td>\n",
       "      <td>0.039161</td>\n",
       "      <td>NaN</td>\n",
       "      <td>4.584</td>\n",
       "      <td>17.520000</td>\n",
       "      <td>19.548000</td>\n",
       "      <td>19.809999</td>\n",
       "      <td>23.299999</td>\n",
       "      <td>21.211399</td>\n",
       "      <td>20.887600</td>\n",
       "      <td>20.629299</td>\n",
       "      <td>21.400000</td>\n",
       "      <td>17.450001</td>\n",
       "      <td>17.24</td>\n",
       "      <td>16.59</td>\n",
       "      <td>16.67</td>\n",
       "      <td>14.62</td>\n",
       "    </tr>\n",
       "    <tr>\n",
       "      <th>1567323</th>\n",
       "      <td>J115923.35+535946.8</td>\n",
       "      <td>179.847290</td>\n",
       "      <td>53.996323</td>\n",
       "      <td></td>\n",
       "      <td>7</td>\n",
       "      <td>NaN</td>\n",
       "      <td>0</td>\n",
       "      <td>0</td>\n",
       "      <td>0.499976</td>\n",
       "      <td>0.309213</td>\n",
       "      <td>0</td>\n",
       "      <td>0</td>\n",
       "      <td>1</td>\n",
       "      <td>0.214392</td>\n",
       "      <td>0.231020</td>\n",
       "      <td>0</td>\n",
       "      <td>0</td>\n",
       "      <td>0</td>\n",
       "      <td>0.107191</td>\n",
       "      <td>0.071434</td>\n",
       "      <td>NaN</td>\n",
       "      <td>4.580</td>\n",
       "      <td>17.520000</td>\n",
       "      <td>19.532999</td>\n",
       "      <td>19.809999</td>\n",
       "      <td>23.299999</td>\n",
       "      <td>21.272100</td>\n",
       "      <td>20.964399</td>\n",
       "      <td>20.689400</td>\n",
       "      <td>21.400000</td>\n",
       "      <td>17.450001</td>\n",
       "      <td>17.24</td>\n",
       "      <td>16.59</td>\n",
       "      <td>16.67</td>\n",
       "      <td>14.62</td>\n",
       "    </tr>\n",
       "    <tr>\n",
       "      <th>13674939</th>\n",
       "      <td>J142647.98+521912.6</td>\n",
       "      <td>216.699905</td>\n",
       "      <td>52.320179</td>\n",
       "      <td></td>\n",
       "      <td>5</td>\n",
       "      <td>NaN</td>\n",
       "      <td>0</td>\n",
       "      <td>0</td>\n",
       "      <td>0.499938</td>\n",
       "      <td>0.100863</td>\n",
       "      <td>0</td>\n",
       "      <td>0</td>\n",
       "      <td>1</td>\n",
       "      <td>0.188988</td>\n",
       "      <td>0.207798</td>\n",
       "      <td>0</td>\n",
       "      <td>0</td>\n",
       "      <td>0</td>\n",
       "      <td>0.094482</td>\n",
       "      <td>0.020959</td>\n",
       "      <td>NaN</td>\n",
       "      <td>4.579</td>\n",
       "      <td>17.520000</td>\n",
       "      <td>19.573999</td>\n",
       "      <td>19.809999</td>\n",
       "      <td>23.299999</td>\n",
       "      <td>20.847700</td>\n",
       "      <td>20.488501</td>\n",
       "      <td>20.176201</td>\n",
       "      <td>21.400000</td>\n",
       "      <td>17.450001</td>\n",
       "      <td>17.24</td>\n",
       "      <td>16.59</td>\n",
       "      <td>16.67</td>\n",
       "      <td>14.62</td>\n",
       "    </tr>\n",
       "    <tr>\n",
       "      <th>9293722</th>\n",
       "      <td>J133450.72+553359.4</td>\n",
       "      <td>203.711365</td>\n",
       "      <td>55.566509</td>\n",
       "      <td></td>\n",
       "      <td>7</td>\n",
       "      <td>NaN</td>\n",
       "      <td>0</td>\n",
       "      <td>0</td>\n",
       "      <td>0.499973</td>\n",
       "      <td>0.287120</td>\n",
       "      <td>0</td>\n",
       "      <td>0</td>\n",
       "      <td>0</td>\n",
       "      <td>0.155147</td>\n",
       "      <td>0.175587</td>\n",
       "      <td>0</td>\n",
       "      <td>0</td>\n",
       "      <td>0</td>\n",
       "      <td>0.077569</td>\n",
       "      <td>0.050414</td>\n",
       "      <td>NaN</td>\n",
       "      <td>4.575</td>\n",
       "      <td>17.520000</td>\n",
       "      <td>19.518000</td>\n",
       "      <td>19.809999</td>\n",
       "      <td>23.299999</td>\n",
       "      <td>21.164700</td>\n",
       "      <td>20.860201</td>\n",
       "      <td>20.586800</td>\n",
       "      <td>21.400000</td>\n",
       "      <td>17.450001</td>\n",
       "      <td>17.24</td>\n",
       "      <td>16.59</td>\n",
       "      <td>16.67</td>\n",
       "      <td>14.62</td>\n",
       "    </tr>\n",
       "    <tr>\n",
       "      <th>11338421</th>\n",
       "      <td>J123032.88+554035.8</td>\n",
       "      <td>187.637024</td>\n",
       "      <td>55.676613</td>\n",
       "      <td></td>\n",
       "      <td>7</td>\n",
       "      <td>NaN</td>\n",
       "      <td>0</td>\n",
       "      <td>0</td>\n",
       "      <td>0.499976</td>\n",
       "      <td>0.310771</td>\n",
       "      <td>0</td>\n",
       "      <td>0</td>\n",
       "      <td>0</td>\n",
       "      <td>0.159336</td>\n",
       "      <td>0.179659</td>\n",
       "      <td>0</td>\n",
       "      <td>0</td>\n",
       "      <td>0</td>\n",
       "      <td>0.079664</td>\n",
       "      <td>0.055833</td>\n",
       "      <td>NaN</td>\n",
       "      <td>4.575</td>\n",
       "      <td>17.520000</td>\n",
       "      <td>19.522999</td>\n",
       "      <td>19.809999</td>\n",
       "      <td>23.299999</td>\n",
       "      <td>21.266899</td>\n",
       "      <td>20.985399</td>\n",
       "      <td>20.748100</td>\n",
       "      <td>21.400000</td>\n",
       "      <td>17.450001</td>\n",
       "      <td>17.24</td>\n",
       "      <td>16.59</td>\n",
       "      <td>16.67</td>\n",
       "      <td>14.62</td>\n",
       "    </tr>\n",
       "  </tbody>\n",
       "</table>\n",
       "</div>"
      ],
      "text/plain": [
       "                         Name     RA_ICRS    DE_ICRS TYPE  band_num  class  \\\n",
       "7355795   J133422.63+475033.4  203.594269  47.842628   QX         8    1.0   \n",
       "3226938   J111714.13+540919.4  169.308868  54.155396    Q         8    1.0   \n",
       "4264628   J141000.75+460134.5  212.503098  46.026260              6    NaN   \n",
       "9544254   J132514.21+534447.1  201.309235  53.746429              6    NaN   \n",
       "10831188  J124400.05+553406.8  191.000183  55.568558    Q         8    1.0   \n",
       "13292816  J143508.80+485521.4  218.786652  48.922630    Q         8    1.0   \n",
       "12355845  J144321.14+501908.4  220.838120  50.319016              5    NaN   \n",
       "13669337  J143442.05+532102.5  218.675201  53.350716              7    NaN   \n",
       "3108302   J111513.19+532105.5  168.804932  53.351532              7    NaN   \n",
       "5398215   J140947.84+514530.7  212.449341  51.758556              5    NaN   \n",
       "4518752   J143002.80+484217.8  217.511658  48.704964              7    NaN   \n",
       "1567323   J115923.35+535946.8  179.847290  53.996323              7    NaN   \n",
       "13674939  J142647.98+521912.6  216.699905  52.320179              5    NaN   \n",
       "9293722   J133450.72+553359.4  203.711365  55.566509              7    NaN   \n",
       "11338421  J123032.88+554035.8  187.637024  55.676613              7    NaN   \n",
       "\n",
       "          pred_class  pred_prob_class  Score_AGN  Prob_AGN  LOFAR_detect  \\\n",
       "7355795            1                1   0.500056  0.892185             1   \n",
       "3226938            1                1   0.500068  0.926110             1   \n",
       "4264628            0                0   0.499961  0.205264             0   \n",
       "9544254            0                1   0.500007  0.578804             0   \n",
       "10831188           1                1   0.500053  0.880835             0   \n",
       "13292816           1                1   0.500043  0.833508             0   \n",
       "12355845           0                1   0.500007  0.578804             0   \n",
       "13669337           0                0   0.499916  0.046781             0   \n",
       "3108302            0                0   0.499973  0.282668             0   \n",
       "5398215            0                0   0.499945  0.123657             0   \n",
       "4518752            0                0   0.499976  0.306110             0   \n",
       "1567323            0                0   0.499976  0.309213             0   \n",
       "13674939           0                0   0.499938  0.100863             0   \n",
       "9293722            0                0   0.499973  0.287120             0   \n",
       "11338421           0                0   0.499976  0.310771             0   \n",
       "\n",
       "          pred_radio  pred_prob_radio  Score_radio  Prob_radio  radio_AGN  \\\n",
       "7355795            0                0     0.048814    0.062214          1   \n",
       "3226938            0                1     0.208025    0.225272          1   \n",
       "4264628            0                1     0.248813    0.261320          0   \n",
       "9544254            0                1     0.351672    0.345250          0   \n",
       "10831188           0                1     0.736330    0.616554          0   \n",
       "13292816           0                0     0.131533    0.152147          0   \n",
       "12355845           0                1     0.937123    0.794128          0   \n",
       "13669337           0                1     0.438486    0.410208          0   \n",
       "3108302            0                0     0.089812    0.108494          0   \n",
       "5398215            0                1     0.305554    0.308716          0   \n",
       "4518752            0                0     0.108025    0.127930          0   \n",
       "1567323            0                1     0.214392    0.231020          0   \n",
       "13674939           0                1     0.188988    0.207798          0   \n",
       "9293722            0                0     0.155147    0.175587          0   \n",
       "11338421           0                0     0.159336    0.179659          0   \n",
       "\n",
       "          pred_radio_AGN  pred_prob_rAGN  Score_rAGN  Prob_rAGN      Z  \\\n",
       "7355795                0               0    0.024410   0.055506  4.958   \n",
       "3226938                0               1    0.104026   0.208627  4.700   \n",
       "4264628                0               0    0.124397   0.053640    NaN   \n",
       "9544254                0               1    0.175838   0.199832    NaN   \n",
       "10831188               0               1    0.368204   0.543082  4.623   \n",
       "13292816               0               0    0.065772   0.126816  4.776   \n",
       "12355845               0               1    0.468568   0.459644    NaN   \n",
       "13669337               0               0    0.219206   0.019190    NaN   \n",
       "3108302                0               0    0.044904   0.030668    NaN   \n",
       "5398215                0               0    0.152760   0.038175    NaN   \n",
       "4518752                0               0    0.054010   0.039161    NaN   \n",
       "1567323                0               0    0.107191   0.071434    NaN   \n",
       "13674939               0               0    0.094482   0.020959    NaN   \n",
       "9293722                0               0    0.077569   0.050414    NaN   \n",
       "11338421               0               0    0.079664   0.055833    NaN   \n",
       "\n",
       "          pred_Z  Sint_LOFAR   W1mproPM   W2mproPM       gmag       rmag  \\\n",
       "7355795    4.796   14.569016  18.983999  19.130001  23.299999  20.933100   \n",
       "3226938    4.748   16.954622  19.456999  19.754002  23.299999  21.331800   \n",
       "4264628    4.715   17.520000  19.681999  19.809999  23.299999  20.781799   \n",
       "9544254    4.711   17.520000  18.823999  19.125999  23.299999  20.935801   \n",
       "10831188   4.654   17.520000  18.931999  19.226000  23.299999  21.077101   \n",
       "13292816   4.652   17.520000  19.424000  19.650002  23.299999  21.011400   \n",
       "12355845   4.606   17.520000  19.511999  19.809999  23.299999  21.092501   \n",
       "13669337   4.594   17.520000  19.473999  19.809999  23.299999  20.897600   \n",
       "3108302    4.586   17.520000  19.511000  19.809999  23.299999  20.940901   \n",
       "5398215    4.584   17.520000  19.552999  19.809999  23.299999  21.259800   \n",
       "4518752    4.584   17.520000  19.548000  19.809999  23.299999  21.211399   \n",
       "1567323    4.580   17.520000  19.532999  19.809999  23.299999  21.272100   \n",
       "13674939   4.579   17.520000  19.573999  19.809999  23.299999  20.847700   \n",
       "9293722    4.575   17.520000  19.518000  19.809999  23.299999  21.164700   \n",
       "11338421   4.575   17.520000  19.522999  19.809999  23.299999  21.266899   \n",
       "\n",
       "               imag       zmag       ymag       Jmag   Hmag   Kmag  W3mag  \\\n",
       "7355795   19.620399  19.306101  19.200300  17.450001  17.24  16.59  16.67   \n",
       "3226938   20.118099  19.834101  19.797501  17.450001  17.24  16.59  16.67   \n",
       "4264628   19.471001  19.164101  19.027300  17.450001  17.24  16.59  16.67   \n",
       "9544254   19.635599  19.379000  19.478600  17.450001  17.24  16.59  16.67   \n",
       "10831188  19.595501  19.544100  19.271700  17.450001  17.24  16.59  16.67   \n",
       "13292816  19.706301  19.509300  19.394300  17.450001  17.24  16.59  16.67   \n",
       "12355845  19.449699  19.490801  21.400000  17.450001  17.24  16.59  16.67   \n",
       "13669337  20.666800  20.399200  21.400000  17.450001  17.24  16.59  16.67   \n",
       "3108302   20.626600  20.388500  21.400000  17.450001  17.24  16.59  16.67   \n",
       "5398215   20.958599  20.683599  21.400000  17.450001  17.24  16.59  16.67   \n",
       "4518752   20.887600  20.629299  21.400000  17.450001  17.24  16.59  16.67   \n",
       "1567323   20.964399  20.689400  21.400000  17.450001  17.24  16.59  16.67   \n",
       "13674939  20.488501  20.176201  21.400000  17.450001  17.24  16.59  16.67   \n",
       "9293722   20.860201  20.586800  21.400000  17.450001  17.24  16.59  16.67   \n",
       "11338421  20.985399  20.748100  21.400000  17.450001  17.24  16.59  16.67   \n",
       "\n",
       "          W4mag  \n",
       "7355795   14.62  \n",
       "3226938   14.62  \n",
       "4264628   14.62  \n",
       "9544254   14.62  \n",
       "10831188  14.62  \n",
       "13292816  14.62  \n",
       "12355845  14.62  \n",
       "13669337  14.62  \n",
       "3108302   14.62  \n",
       "5398215   14.62  \n",
       "4518752   14.62  \n",
       "1567323   14.62  \n",
       "13674939  14.62  \n",
       "9293722   14.62  \n",
       "11338421  14.62  "
      ]
     },
     "metadata": {},
     "output_type": "display_data"
    }
   ],
   "source": [
    "display(full_catalog_df.loc[filter_high_z, cols_4_export].sort_values(by=['pred_Z'], ascending=False).head(15))"
   ]
  },
  {
   "cell_type": "code",
   "execution_count": 35,
   "metadata": {},
   "outputs": [],
   "source": [
    "if save_preds_flag:\n",
    "    full_catalog_df.loc[filter_high_z, cols_4_export].sort_values(by=['pred_Z'],\n",
    "     ascending=False).to_csv(gv.preds_path + f'predicted_rAGN_{used_area}.csv', index_label='ID')"
   ]
  },
  {
   "cell_type": "markdown",
   "metadata": {},
   "source": [
    "---"
   ]
  },
  {
   "cell_type": "code",
   "execution_count": 36,
   "metadata": {},
   "outputs": [],
   "source": [
    "temp_flag = True"
   ]
  },
  {
   "cell_type": "code",
   "execution_count": 37,
   "metadata": {},
   "outputs": [],
   "source": [
    "if temp_flag:\n",
    "    cols_AGN   = ['g_r', 'r_i', 'r_J', 'i_z', 'i_y', \n",
    "                  'z_y', 'z_W2', 'y_J', 'y_W1', 'y_W2', 'J_H', 'H_K', \n",
    "                  'H_W3', 'W1_W2', 'W1_W3', 'W3_W4']  # Only colours (no 'band_num', 'W4mag')\n",
    "    cols_radio = ['g_r', 'g_i', 'r_i', 'r_z', 'i_z', \n",
    "                  'z_y', 'z_W1', 'y_J', 'y_W1', 'J_H', 'H_K', 'K_W3', \n",
    "                  'K_W4', 'W1_W2', 'W2_W3']  # Only colours (no 'band_num', 'W4mag')\n",
    "    cols_z     = ['g_r', 'g_W3', 'r_i', 'r_z', 'i_z', \n",
    "                  'i_y', 'z_y', 'y_J', 'y_W1', 'J_H', 'H_K', 'K_W3', \n",
    "                  'K_W4', 'W1_W2', 'W2_W3']  # Only colours (no 'band_num', 'W4mag')\n",
    "    \n",
    "    cols_cols = list(np.unique(cols_AGN + cols_radio + cols_z))"
   ]
  },
  {
   "cell_type": "code",
   "execution_count": 38,
   "metadata": {},
   "outputs": [],
   "source": [
    "if temp_flag:\n",
    "    \n",
    "    add_columns  = ['band_num', 'class', 'pred_prob_class', 'Score_AGN', 'Prob_AGN', \n",
    "                    'LOFAR_detect',  'pred_prob_radio', 'Score_radio', 'Prob_radio', \n",
    "                    'radio_AGN', 'pred_prob_rAGN', 'Score_rAGN', 'Prob_rAGN', 'Z', 'pred_Z']\n",
    "    used_colours = cols_cols"
   ]
  },
  {
   "cell_type": "code",
   "execution_count": 39,
   "metadata": {},
   "outputs": [
    {
     "name": "stdout",
     "output_type": "stream",
     "text": [
      "Data from HETDEX saved in files pred_rAGN/HETDEX_for_prediction.h5 and pred_rAGN/HETDEX_for_prediction.parquet\n"
     ]
    }
   ],
   "source": [
    "if temp_flag:\n",
    "    saving_data = full_catalog_df.loc[:, add_columns + cols_photo + used_colours]\n",
    "    saving_data['ID'] = saving_data.index\n",
    "    file_name         = gv.preds_path + f'{used_area}_for_prediction.h5'\n",
    "    file_name_pqt     = gv.preds_path + f'{used_area}_for_prediction.parquet'\n",
    "    saving_data.to_hdf(file_name, key='df')\n",
    "    saving_data.to_parquet(file_name_pqt, index=True, engine='fastparquet')\n",
    "    print(f'Data from {used_area} saved in files {file_name} and {file_name_pqt}')"
   ]
  },
  {
   "cell_type": "code",
   "execution_count": null,
   "metadata": {},
   "outputs": [],
   "source": []
  }
 ],
 "metadata": {
  "kernelspec": {
   "display_name": "Python 3 (ipykernel)",
   "language": "python",
   "name": "python3"
  },
  "language_info": {
   "codemirror_mode": {
    "name": "ipython",
    "version": 3
   },
   "file_extension": ".py",
   "mimetype": "text/x-python",
   "name": "python",
   "nbconvert_exporter": "python",
   "pygments_lexer": "ipython3",
   "version": "3.8.16"
  },
  "vscode": {
   "interpreter": {
    "hash": "1d7c94ac87c57432169d0bc24ce250f6f2e77b44a3b95192eb5ace62cff26777"
   }
  }
 },
 "nbformat": 4,
 "nbformat_minor": 4
}
