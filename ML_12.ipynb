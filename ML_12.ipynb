{
 "cells": [
  {
   "cell_type": "markdown",
   "metadata": {},
   "source": [
    "# Pipeline for High-z Radio Galaxies 12: Application of full pipeline for prediction"
   ]
  },
  {
   "cell_type": "markdown",
   "metadata": {},
   "source": [
    "## Introduction"
   ]
  },
  {
   "cell_type": "markdown",
   "metadata": {},
   "source": [
    "In this file, three models will be applied consecutively in order to predict  \n",
    "the detection of Radio Galaxies (radio AGN) and their redshift.  \n",
    "\n",
    "In principle, this pipeline should be applied to data in Stripe 82. But  \n",
    "it can be used with any other suitable dataset."
   ]
  },
  {
   "cell_type": "code",
   "execution_count": 1,
   "metadata": {},
   "outputs": [],
   "source": [
    "%matplotlib inline\n",
    "# Static plots\n",
    "#%matplotlib ipympl\n",
    "# Interactive plots\n",
    "import numpy as np\n",
    "import matplotlib as mpl\n",
    "import matplotlib.cm as cm\n",
    "from matplotlib import ticker\n",
    "import matplotlib.pyplot as plt\n",
    "import matplotlib.colors as mcolors\n",
    "import matplotlib.patheffects as mpe\n",
    "import matplotlib.patches as mpatches\n",
    "from matplotlib.ticker import ScalarFormatter\n",
    "from mpl_toolkits.axes_grid1.inset_locator import inset_axes\n",
    "from astropy.visualization import LogStretch, PowerStretch\n",
    "from astropy.visualization.mpl_normalize import ImageNormalize\n",
    "from sklearn.preprocessing import MinMaxScaler\n",
    "from sklearn.metrics import ConfusionMatrixDisplay\n",
    "from sklearn.model_selection import train_test_split\n",
    "import sklearn.pipeline\n",
    "import colorcet as cc\n",
    "from pycaret import classification as pyc\n",
    "from pycaret import regression as pyr\n",
    "from pycaret.internal.tabular import _get_columns_to_stratify_by\n",
    "import pandas as pd\n",
    "import mpl_scatter_density\n",
    "# import schemdraw\n",
    "# from schemdraw import flow"
   ]
  },
  {
   "cell_type": "code",
   "execution_count": 2,
   "metadata": {},
   "outputs": [],
   "source": [
    "mpl.rcdefaults()"
   ]
  },
  {
   "cell_type": "markdown",
   "metadata": {},
   "source": [
    "Create path effects."
   ]
  },
  {
   "cell_type": "code",
   "execution_count": 3,
   "metadata": {
    "jupyter": {
     "source_hidden": true
    },
    "tags": []
   },
   "outputs": [],
   "source": [
    "pe1            = [mpe.Stroke(linewidth=5.0, foreground='black'),\n",
    "                  mpe.Stroke(foreground='white', alpha=1),\n",
    "                  mpe.Normal()]\n",
    "pe2            = [mpe.Stroke(linewidth=3.0, foreground='white'),\n",
    "                  mpe.Stroke(foreground='white', alpha=1),\n",
    "                  mpe.Normal()]"
   ]
  },
  {
   "cell_type": "markdown",
   "metadata": {},
   "source": [
    "Define specific metrics for redshift values."
   ]
  },
  {
   "cell_type": "code",
   "execution_count": 4,
   "metadata": {
    "jupyter": {
     "source_hidden": true
    },
    "tags": []
   },
   "outputs": [],
   "source": [
    "def sigma_mad(z_true, z_pred, **kwargs):\n",
    "    try:\n",
    "        med = np.nanmedian(np.abs(z_true - z_pred)).astype('float32')\n",
    "    except:\n",
    "        med = np.nanmedian(np.abs(z_true - z_pred))\n",
    "    return 1.48 * med"
   ]
  },
  {
   "cell_type": "code",
   "execution_count": 5,
   "metadata": {
    "jupyter": {
     "source_hidden": true
    },
    "tags": []
   },
   "outputs": [],
   "source": [
    "def sigma_nmad(z_true, z_pred, **kwargs):\n",
    "    dif  = (z_true - z_pred)\n",
    "    frac = dif / (1 + z_true).values\n",
    "    try:\n",
    "        med  = np.nanmedian(np.abs(frac)).astype('float32')\n",
    "    except:\n",
    "        med  = np.nanmedian(np.abs(frac))\n",
    "    return 1.48 * med"
   ]
  },
  {
   "cell_type": "code",
   "execution_count": 6,
   "metadata": {
    "jupyter": {
     "source_hidden": true
    },
    "tags": []
   },
   "outputs": [],
   "source": [
    "def sigma_z(z_true, z_pred, **kwargs):\n",
    "    dif = z_true - z_pred\n",
    "    ssq = np.sum(dif**2)\n",
    "    try:\n",
    "        rot = np.sqrt(ssq / len(z_true)).astype('float32')\n",
    "    except:\n",
    "        rot = np.sqrt(ssq / len(z_true))\n",
    "    return rot"
   ]
  },
  {
   "cell_type": "code",
   "execution_count": 7,
   "metadata": {
    "jupyter": {
     "source_hidden": true
    },
    "tags": []
   },
   "outputs": [],
   "source": [
    "def sigma_z_norm(z_true, z_pred, **kwargs):\n",
    "    dif = (z_true - z_pred) / (1 + z_true)\n",
    "    ssq = np.sum(dif**2)\n",
    "    try:\n",
    "        rot = np.sqrt(ssq / len(z_true)).astype('float32')\n",
    "    except:\n",
    "        rot = np.sqrt(ssq / len(z_true))\n",
    "    return rot"
   ]
  },
  {
   "cell_type": "code",
   "execution_count": 8,
   "metadata": {
    "jupyter": {
     "source_hidden": true
    },
    "tags": []
   },
   "outputs": [],
   "source": [
    "def outlier_frac(z_true, z_pred, **kwargs):\n",
    "    dif  = np.abs((z_true - z_pred) / (1 + z_true))\n",
    "    try:\n",
    "        siz  = np.sum(np.isfinite(dif)).astype('float32')\n",
    "        num  = np.sum(np.array(dif > 0.15)).astype('float32')\n",
    "    except:\n",
    "        siz  = np.sum(np.isfinite(dif))\n",
    "        num  = np.sum(np.array(dif > 0.15))\n",
    "    frac = num / siz\n",
    "    return frac"
   ]
  },
  {
   "cell_type": "markdown",
   "metadata": {},
   "source": [
    "Methods for Pycaret and saved models."
   ]
  },
  {
   "cell_type": "code",
   "execution_count": 9,
   "metadata": {
    "jupyter": {
     "source_hidden": true
    },
    "tags": []
   },
   "outputs": [],
   "source": [
    "def get_final_column_names(pycaret_pipeline, sample_df):\n",
    "    if isinstance(pycaret_pipeline, sklearn.pipeline.Pipeline):\n",
    "        for (name, method) in pycaret_pipeline.named_steps.items():\n",
    "            if method != 'passthrough' and name != 'trained_model':\n",
    "                print(f'Running {name}')\n",
    "                sample_df = method.transform(sample_df)\n",
    "        return sample_df.columns.tolist()\n",
    "    else:\n",
    "        try:\n",
    "            for (name, method) in pyr.get_config('prep_pipe').named_steps.items():\n",
    "                if method != 'passthrough' and name != 'trained_model':\n",
    "                    print(f'Running {name}')\n",
    "                    sample_df = method.transform(sample_df)\n",
    "        except:\n",
    "            for (name, method) in pyc.get_config('prep_pipe').named_steps.items():\n",
    "                if method != 'passthrough' and name != 'trained_model':\n",
    "                    print(f'Running {name}')\n",
    "                    sample_df = method.transform(sample_df)\n",
    "        return sample_df.columns.tolist()"
   ]
  },
  {
   "cell_type": "code",
   "execution_count": 10,
   "metadata": {
    "jupyter": {
     "source_hidden": true
    },
    "tags": []
   },
   "outputs": [],
   "source": [
    "def get_feature_importances_df(pycaret_pipeline, sample_df, n = 10):\n",
    "    \n",
    "    final_cols = get_final_column_names(pycaret_pipeline, sample_df)\n",
    "    \n",
    "    if isinstance(pycaret_pipeline, sklearn.pipeline.Pipeline):\n",
    "        try:\n",
    "            variables = pycaret_pipeline[\"trained_model\"].feature_importances_\n",
    "            \n",
    "        except:\n",
    "            variables = np.mean([\n",
    "                            tree.feature_importances_ for tree in pycaret_pipeline[\"trained_model\"].estimators_\n",
    "                if hasattr(tree, 'feature_importances_')\n",
    "                            ], axis=0)\n",
    "        \n",
    "        coef_df = pd.DataFrame({'Feature': final_cols, 'Importance': variables})\n",
    "        sorted_df = (\n",
    "            coef_df.sort_values(by='Importance', ascending=False)\n",
    "            .head(n)\n",
    "            .sort_values(by='Importance', ascending=True).reset_index(drop=True)\n",
    "        )\n",
    "    else:\n",
    "        try:\n",
    "            variables = pycaret_pipeline.feature_importances_\n",
    "            \n",
    "        except:\n",
    "            variables = np.mean([\n",
    "                            tree.feature_importances_ for tree in pycaret_pipeline.estimators_\n",
    "                if hasattr(tree, 'feature_importances_')\n",
    "                            ], axis=0)\n",
    "        \n",
    "        coef_df = pd.DataFrame({'Feature': final_cols, 'Importance': variables})\n",
    "        sorted_df = (\n",
    "            coef_df.sort_values(by='Importance', ascending=False)\n",
    "            .head(n)\n",
    "            .sort_values(by='Importance', ascending=True).reset_index(drop=True)\n",
    "        )\n",
    "    return sorted_df"
   ]
  },
  {
   "cell_type": "markdown",
   "metadata": {},
   "source": [
    "Methods for the use of values in Confusion Matrices."
   ]
  },
  {
   "cell_type": "code",
   "execution_count": 11,
   "metadata": {
    "jupyter": {
     "source_hidden": true
    }
   },
   "outputs": [],
   "source": [
    "def flatten_CM(cm_array):\n",
    "    try:\n",
    "        TN, FP, FN, TP = cm_array.flatten().astype('float32')\n",
    "    except:\n",
    "        TN, FP, FN, TP = cm_array.flatten()\n",
    "    return TN, FP, FN, TP"
   ]
  },
  {
   "cell_type": "code",
   "execution_count": 12,
   "metadata": {
    "jupyter": {
     "source_hidden": true
    },
    "tags": []
   },
   "outputs": [],
   "source": [
    "def MCC_from_CM(cm_array):  # Matthews correlation coefficient\n",
    "    TN, FP, FN, TP = flatten_CM(cm_array)\n",
    "    MCC = ((TP * TN) - (FP * FN)) / np.sqrt((TP + FP) * (TP + FN) * (TN + FP) * (TN + FN))\n",
    "    return MCC"
   ]
  },
  {
   "cell_type": "code",
   "execution_count": 13,
   "metadata": {
    "jupyter": {
     "source_hidden": true
    },
    "tags": []
   },
   "outputs": [],
   "source": [
    "def ACC_from_CM(cm_array):  # Accuracy\n",
    "    TN, FP, FN, TP = flatten_CM(cm_array)\n",
    "    ACC = (TP + TN) / (TP + TN + FP + FN)\n",
    "    return ACC"
   ]
  },
  {
   "cell_type": "code",
   "execution_count": 14,
   "metadata": {
    "jupyter": {
     "source_hidden": true
    },
    "tags": []
   },
   "outputs": [],
   "source": [
    "def F1_from_CM(cm_array):  # F-1 score\n",
    "    TN, FP, FN, TP = flatten_CM(cm_array)\n",
    "    F1 = 2 * TP / (2 * TP + FP + FN)\n",
    "    return F1"
   ]
  },
  {
   "cell_type": "code",
   "execution_count": 15,
   "metadata": {
    "jupyter": {
     "source_hidden": true
    },
    "tags": []
   },
   "outputs": [],
   "source": [
    "def Recall_from_CM(cm_array):  # Recall\n",
    "    TN, FP, FN, TP = flatten_CM(cm_array)\n",
    "    Recall = TP / (TP + FN)\n",
    "    return Recall"
   ]
  },
  {
   "cell_type": "markdown",
   "metadata": {},
   "source": [
    "Method to plot confusion matrix"
   ]
  },
  {
   "cell_type": "code",
   "execution_count": 16,
   "metadata": {
    "jupyter": {
     "source_hidden": true
    },
    "tags": []
   },
   "outputs": [],
   "source": [
    "def plot_conf_mat(confusion_matrix, title, axin, display_labels=['Non true', 'True'], cmap='cet_dimgray_r', show_clb=False, log_stretch=False):\n",
    "    disp = ConfusionMatrixDisplay(confusion_matrix=confusion_matrix, display_labels=display_labels)\n",
    "\n",
    "    min_val_colour = np.nanmin(confusion_matrix)\n",
    "    max_val_colour = np.nanmin(confusion_matrix)\n",
    "    \n",
    "    if log_stretch:\n",
    "        norm = ImageNormalize(stretch=LogStretch())\n",
    "    if not log_stretch:\n",
    "        norm = ImageNormalize(stretch=PowerStretch(0.35))\n",
    "\n",
    "    # NOTE: Fill all variables here with default values of the plot_confusion_matrix\n",
    "    disp_b = disp.plot(include_values=True, cmap=cm.get_cmap(cmap),\\\n",
    "             ax=axin, xticks_rotation='horizontal', values_format=',')\n",
    "\n",
    "    for text_val in disp_b.text_.flatten():\n",
    "        text_val.set_fontsize(28)\n",
    "    clb = plt.gca().images[-1].colorbar\n",
    "    clb.ax.tick_params(labelsize=14)\n",
    "    clb.ax.ticklabel_format(style='sci', scilimits=(0, 0))\n",
    "    clb.outline.set_linewidth(2.5)\n",
    "    clb.ax.set_ylabel('Elements in bin', size=14)\n",
    "    if not show_clb:\n",
    "        clb.remove()\n",
    "\n",
    "    # disp_b.im_.set_clim(1e2, 3e3)\n",
    "    disp_b.im_.norm = norm\n",
    "\n",
    "    axin.xaxis.get_label().set_fontsize(16)\n",
    "    axin.yaxis.get_label().set_fontsize(16)\n",
    "\n",
    "    axin.tick_params(axis='both', which='major', labelsize=14)\n",
    "\n",
    "    plt.setp(axin.spines.values(), linewidth=2.5)\n",
    "    plt.setp(axin.spines.values(), linewidth=2.5)\n",
    "    axin.set_title(title, fontsize=16)\n",
    "    plt.tight_layout()"
   ]
  },
  {
   "cell_type": "markdown",
   "metadata": {},
   "source": [
    "Method to plot predicted and true redshift values"
   ]
  },
  {
   "cell_type": "code",
   "execution_count": 17,
   "metadata": {
    "jupyter": {
     "source_hidden": true
    },
    "tags": []
   },
   "outputs": [],
   "source": [
    "def plot_redshift_compare(true_z, predicted_z, ax_pre, title=None, dpi=10, cmap='cet_linear_kryw_5_100_c64_r', show_clb=False, log_stretch=False):\n",
    "    if log_stretch:\n",
    "        norm = ImageNormalize(vmin=0., stretch=LogStretch())\n",
    "    if not log_stretch:\n",
    "        norm = ImageNormalize(vmin=0., stretch=PowerStretch(0.5))\n",
    "\n",
    "    filt_pair_z   = np.isfinite(true_z) & np.isfinite(predicted_z)\n",
    "    max_for_range = np.nanmax([np.nanmax(1 + true_z.loc[filt_pair_z]), np.nanmax(1 + predicted_z.loc[filt_pair_z])])\n",
    "\n",
    "    dens_1 = ax_pre.scatter_density((1 + true_z.sample(frac=1, random_state=seed)),\\\n",
    "            (1 + predicted_z.sample(frac=1, random_state=seed)),\\\n",
    "            cmap=plt.get_cmap(cmap), zorder=0, dpi=dpi, norm=norm, alpha=0.93)\n",
    "    \n",
    "    ax_pre.axline((2., 2.), (3., 3.), ls='--', marker=None, c='Gray', alpha=0.8, lw=3.0, zorder=20)\n",
    "    ax_pre.axline(xy1=(1., 1.15), xy2=(2., 2.3), ls='-.', marker=None, c='slateblue', alpha=0.6, lw=3.0, zorder=20)\n",
    "    ax_pre.axline(xy1=(1., 0.85), xy2=(2., 1.7), ls='-.', marker=None, c='slateblue', alpha=0.6, lw=3.0, zorder=20)\n",
    "\n",
    "    if show_clb:\n",
    "        clb = plt.colorbar(dens_1, extend='neither', norm=norm, ticks=ticker.MaxNLocator(integer=True))\n",
    "        clb.ax.tick_params(labelsize=14)\n",
    "        clb.outline.set_linewidth(2.5)\n",
    "        clb.ax.set_ylabel('Elements per pixel', size=16, path_effects=pe2)\n",
    "\n",
    "    # Inset axis with residuals\n",
    "    axins = inset_axes(ax_pre, width='35%', height='20%', loc=2)\n",
    "    res_z_z = (predicted_z - true_z) / (1 + true_z)\n",
    "    axins.hist(res_z_z, histtype='stepfilled', fc='grey', ec='k', bins=50, lw=2.5)\n",
    "    axins.axvline(x=np.nanpercentile(res_z_z, [15.9]), ls='--', lw=2.5, c='royalblue')\n",
    "    axins.axvline(x=np.nanpercentile(res_z_z, [84.1]), ls='--', lw=2.5, c='royalblue')\n",
    "    axins.set_xlabel('$\\Delta z / (1 + z_{\\mathrm{True}})$', fontsize=10)\n",
    "    axins.tick_params(labelleft=False, labelbottom=True)\n",
    "    axins.tick_params(which='both', top=True, right=True, direction='in')\n",
    "    axins.tick_params(axis='both', which='major', labelsize=10)\n",
    "    axins.tick_params(which='major', length=8, width=1.5)\n",
    "    axins.tick_params(which='minor', length=4, width=1.5)\n",
    "    plt.setp(axins.spines.values(), linewidth=2.5)\n",
    "    plt.setp(axins.spines.values(), linewidth=2.5)\n",
    "    axins.set_xlim(left=-0.9, right=0.9)\n",
    "    ##\n",
    "    ax_pre.set_xlabel('$1 + z_{\\mathrm{True}}$', fontsize=20)\n",
    "    ax_pre.set_ylabel('$1 + z_{\\mathrm{Predicted}}$', fontsize=20)\n",
    "    ax_pre.tick_params(which='both', top=True, right=True, direction='in')\n",
    "    ax_pre.tick_params(axis='both', which='minor', labelsize=14)\n",
    "    ax_pre.tick_params(which='major', length=8, width=1.5)\n",
    "    ax_pre.tick_params(which='minor', length=4, width=1.5)\n",
    "    # ax_pre.xaxis.set_major_locator(ticker.MaxNLocator(integer=True))\n",
    "    # ax_pre.yaxis.set_major_locator(ticker.MaxNLocator(integer=True))\n",
    "    ax_pre.xaxis.set_minor_formatter(ticker.ScalarFormatter(useMathText=False))\n",
    "    ax_pre.yaxis.set_minor_formatter(ticker.ScalarFormatter(useMathText=False))\n",
    "    plt.setp(ax_pre.spines.values(), linewidth=2.5)\n",
    "    plt.setp(ax_pre.spines.values(), linewidth=2.5)\n",
    "    ax_pre.set_xlim(left=1., right=np.ceil(max_for_range))\n",
    "    ax_pre.set_ylim(bottom=1., top=np.ceil(max_for_range))\n",
    "    ax_pre.set_title(title)\n",
    "    plt.tight_layout()"
   ]
  },
  {
   "cell_type": "markdown",
   "metadata": {},
   "source": [
    "Functions to predict values"
   ]
  },
  {
   "cell_type": "code",
   "execution_count": 18,
   "metadata": {
    "jupyter": {
     "source_hidden": true
    }
   },
   "outputs": [],
   "source": [
    "def predict_star(catalog_df, star_model, threshold, raw_score=True):\n",
    "    catalog_df = pyc.predict_model(star_model, data=catalog_df, probability_threshold=threshold, raw_score=raw_score, round=10)\n",
    "    catalog_df = catalog_df.drop(columns=['Score_1'])\n",
    "    catalog_df = catalog_df.rename(columns={'Label': 'pred_star', 'Score_0': 'Score_no_star'})\n",
    "    catalog_df.loc[:, 'Score_no_star'] = np.around(catalog_df.loc[:, 'Score_no_star'], decimals=7)\n",
    "    return catalog_df"
   ]
  },
  {
   "cell_type": "code",
   "execution_count": 19,
   "metadata": {
    "jupyter": {
     "source_hidden": true
    }
   },
   "outputs": [],
   "source": [
    "def predict_AGN_gal(catalog_df, AGN_gal_model, threshold, raw_score=True):\n",
    "    catalog_df = pyc.predict_model(AGN_gal_model, data=catalog_df, probability_threshold=threshold, raw_score=raw_score, round=10)\n",
    "    catalog_df = catalog_df.drop(columns=['Score_0'])\n",
    "    catalog_df = catalog_df.rename(columns={'Label': 'pred_class', 'Score_1': 'Score_AGN'})\n",
    "    catalog_df.loc[:, 'Score_AGN'] = np.around(catalog_df.loc[:, 'Score_AGN'], decimals=7)\n",
    "    return catalog_df"
   ]
  },
  {
   "cell_type": "code",
   "execution_count": 20,
   "metadata": {
    "jupyter": {
     "source_hidden": true
    }
   },
   "outputs": [],
   "source": [
    "def predict_radio_det(catalog_df, radio_model, threshold, raw_score=True):\n",
    "    catalog_df = pyc.predict_model(radio_model, data=catalog_df, probability_threshold=threshold, raw_score=raw_score, round=10)\n",
    "    catalog_df = catalog_df.drop(columns=['Score_0'])\n",
    "    catalog_df = catalog_df.rename(columns={'Label': 'pred_radio', 'Score_1': 'Score_radio'})\n",
    "    catalog_df.loc[:, 'Score_radio'] = np.around(catalog_df.loc[:, 'Score_radio'], decimals=7)\n",
    "    return catalog_df"
   ]
  },
  {
   "cell_type": "code",
   "execution_count": 21,
   "metadata": {
    "jupyter": {
     "source_hidden": true
    }
   },
   "outputs": [],
   "source": [
    "def predict_z_full(catalog_df, redshift_model):\n",
    "    catalog_df = pyr.predict_model(redshift_model, data=catalog_df, round=10)\n",
    "    catalog_df = catalog_df.rename(columns={'Label': 'pred_Z'})\n",
    "    catalog_df.loc[:, 'pred_Z'] = np.around(catalog_df.loc[:, 'pred_Z'], decimals=4)\n",
    "    return catalog_df"
   ]
  },
  {
   "cell_type": "code",
   "execution_count": 22,
   "metadata": {
    "jupyter": {
     "source_hidden": true
    }
   },
   "outputs": [],
   "source": [
    "def predict_z_high(catalog_df, redshift_model, z_lim, z_tol):\n",
    "    catalog_df    = pyr.predict_model(redshift_model, data=catalog_df, round=10)\n",
    "    filter_pred_z = catalog_df.loc[:, 'pred_Z'] >= (z_lim + z_tol)\n",
    "    catalog_df.loc[:, 'pred_Z'] = catalog_df.loc[:, 'pred_Z'].mask(filter_pred_z, catalog_df.loc[filter_pred_z, 'Label'])\n",
    "    catalog_df    = catalog_df.drop(columns=['Label'])\n",
    "    catalog_df.loc[:, 'pred_Z'] = np.around(catalog_df.loc[:, 'pred_Z'], decimals=4)\n",
    "    return catalog_df"
   ]
  },
  {
   "cell_type": "code",
   "execution_count": 23,
   "metadata": {
    "jupyter": {
     "source_hidden": true
    }
   },
   "outputs": [],
   "source": [
    "def add_AGN_criteria(catalog_df):\n",
    "    catalog_df['M12_AGN'] = M12_AGN_criterion(catalog_df)\n",
    "    catalog_df['S12_AGN'] = S12_AGN_criterion(catalog_df)\n",
    "    catalog_df['M16_AGN'] = M16_AGN_criterion(catalog_df)\n",
    "    catalog_df['B18_AGN'] = B18_AGN_criterion(catalog_df)\n",
    "    return catalog_df"
   ]
  },
  {
   "cell_type": "code",
   "execution_count": 24,
   "metadata": {
    "jupyter": {
     "source_hidden": true
    }
   },
   "outputs": [],
   "source": [
    "def M12_AGN_criterion(catalog_df):\n",
    "    M12_column = (np.array(catalog_df.loc[:, 'W1mproPM'] - catalog_df.loc[:, 'W2mproPM'] - 2.699 + 3.339 <\n",
    "                           0.315 * (catalog_df.loc[:, 'W2mproPM'] - catalog_df.loc[:, 'W3mag'] - 3.339 + 5.174) + 0.791) &\n",
    "                  np.array(catalog_df.loc[:, 'W1mproPM'] - catalog_df.loc[:, 'W2mproPM'] - 2.699 + 3.339 >\n",
    "                           0.315 * (catalog_df.loc[:, 'W2mproPM'] - catalog_df.loc[:, 'W3mag'] - 3.339 + 5.174) - 0.222) &\n",
    "                  np.array(catalog_df.loc[:, 'W1mproPM'] - catalog_df.loc[:, 'W2mproPM'] - 2.699 + 3.339 >\n",
    "                           -3.172 * (catalog_df.loc[:, 'W2mproPM'] - catalog_df.loc[:, 'W3mag'] - 3.339 + 5.174) + 7.624)).astype(int)\n",
    "    return M12_column"
   ]
  },
  {
   "cell_type": "code",
   "execution_count": 25,
   "metadata": {
    "jupyter": {
     "source_hidden": true
    }
   },
   "outputs": [],
   "source": [
    "def S12_AGN_criterion(catalog_df):\n",
    "    S12_column = np.array(catalog_df.loc[:, 'W1mproPM'] - catalog_df.loc[:, 'W2mproPM'] - 2.699 + 3.339 >= 0.8).astype(int)\n",
    "    return S12_column"
   ]
  },
  {
   "cell_type": "code",
   "execution_count": 26,
   "metadata": {
    "jupyter": {
     "source_hidden": true
    }
   },
   "outputs": [],
   "source": [
    "def M16_AGN_criterion(catalog_df):\n",
    "    M16_column = (np.array(catalog_df.loc[:, 'W1mproPM'] - catalog_df.loc[:, 'W2mproPM'] - 2.699 + 3.339 > 0.5) &\n",
    "                  np.array(catalog_df.loc[:, 'W2mproPM'] - catalog_df.loc[:, 'W3mag'] - 3.339 + 5.174 < 4.4)).astype(int)\n",
    "    return M16_column"
   ]
  },
  {
   "cell_type": "code",
   "execution_count": 27,
   "metadata": {
    "jupyter": {
     "source_hidden": true
    }
   },
   "outputs": [],
   "source": [
    "def B18_AGN_criterion(catalog_df):\n",
    "    B18_column = (np.array(catalog_df.loc[:, 'W1mproPM'] - catalog_df.loc[:, 'W2mproPM'] - 2.699 + 3.339 > 0.5) &\n",
    "                  np.array(catalog_df.loc[:, 'W2mproPM'] - catalog_df.loc[:, 'W3mag'] - 3.339 + 5.174 > 2.2) &\n",
    "                  np.array(catalog_df.loc[:, 'W1mproPM'] - catalog_df.loc[:, 'W2mproPM'] - 2.699 + 3.339 >\n",
    "                           2 * (catalog_df.loc[:, 'W2mproPM'] - catalog_df.loc[:, 'W3mag'] - 3.339 + 5.174) - 8.9)).astype(int)\n",
    "    return B18_column"
   ]
  },
  {
   "cell_type": "markdown",
   "metadata": {},
   "source": [
    "---"
   ]
  },
  {
   "cell_type": "markdown",
   "metadata": {},
   "source": [
    "## Reading data"
   ]
  },
  {
   "cell_type": "code",
   "execution_count": 28,
   "metadata": {},
   "outputs": [],
   "source": [
    "cat_path            = '../../Catalogs/'  # relative path to the same directory"
   ]
  },
  {
   "cell_type": "markdown",
   "metadata": {
    "tags": []
   },
   "source": [
    "Flags."
   ]
  },
  {
   "cell_type": "code",
   "execution_count": 29,
   "metadata": {},
   "outputs": [],
   "source": [
    "save_plot_flag      = False\n",
    "load_models_flag    = True\n",
    "use_zeroth_model    = False  # Initial model to discriminate between star and non-star objects\n",
    "use_second_z_model  = False  # z >= 2.0\n",
    "use_third_z_model   = False  # z >= 3.0\n",
    "use_fourth_z_model  = True  # z >= 3.7 (with SMOGN), or, if needed, z >= 4.0\n",
    "compare_A17_flag    = True  # Compare with the results from Ananna et al., 2017"
   ]
  },
  {
   "cell_type": "code",
   "execution_count": 30,
   "metadata": {},
   "outputs": [],
   "source": [
    "used_area           = 'COSMOS'  # can be 'S82', 'HETDEX', 'COSMOS'\n",
    "HETDEX_subset       = 'Validation'  # Validation, Training, Test, Test+Train"
   ]
  },
  {
   "cell_type": "code",
   "execution_count": 31,
   "metadata": {
    "jupyter": {
     "source_hidden": true
    }
   },
   "outputs": [],
   "source": [
    "if used_area != 'S82':\n",
    "    compare_A17_flag = False"
   ]
  },
  {
   "cell_type": "code",
   "execution_count": 32,
   "metadata": {
    "tags": []
   },
   "outputs": [],
   "source": [
    "file_S82            = 'CatWISE2020_S82_VLASS_VLAS82_PS1_GALEX_TGSS_XMM_2MASS_MILLIQUAS_7_4d_ALLWISE_SDSS_DR16_5sigma_imp.h5'\n",
    "file_HETDEX         = 'CatWISE2020_VLASS_LOFAR_PS1_GALEX_TGSS_XMM_2MASS_MILLIQUAS_7_4d_ALLWISE_LOLSS_SDSS_DR16_5sigma_imp.h5'\n",
    "file_COSMOS         = 'CatWISE2020_COSMOS_MILLIQUAS_7_4d_COSMOSVLA3_PS1_GALEX_TGSS_VLASS_XMM_2MASS_ALLWISE_SDSS_DR16_5sigma_imp.h5'\n",
    "file_S82_Ananna_17  = f'CatWISE2020_S82_VLASS_VLAS82_PS1_GALEX_TGSS_XMM_2MASS_MILLIQUAS_7_4d_ALLWISE_Ananna_17_zsp_5sigma_imp.h5'  # 204 objects\n",
    "\n",
    "file_name_dict      = {'S82': file_S82, 'HETDEX': file_HETDEX, 'COSMOS': file_COSMOS}\n",
    "file_name           = file_name_dict[used_area]"
   ]
  },
  {
   "cell_type": "code",
   "execution_count": 33,
   "metadata": {
    "jupyter": {
     "source_hidden": true
    },
    "tags": []
   },
   "outputs": [],
   "source": [
    "# feats_2_disc_S82    = ['objID', 'RA_MILLI', 'DEC_MILLI', 'X_ray_detect', 'Total_flux_VLASS',\\\n",
    "#                      'Fint_VLAS82', 'Stotal_TGSS', 'FEP', 'W1mag', 'W2mag']\n",
    "# feats_2_disc_HETDEX = ['objID', 'RA_MILLI', 'DEC_MILLI', 'X_ray_detect', 'Total_flux_VLASS',\\\n",
    "#                      'Sint_LOFAR', 'Stotal_TGSS', 'FEP', 'TotalFlux_LoLSS', 'W1mag', 'W2mag']\n",
    "# feats_2_disc_COSMOS = ['objID', 'RA_MILLI', 'DEC_MILLI', 'X_ray_detect', 'Total_flux_VLASS',\\\n",
    "#                      'Stotal_TGSS', 'FEP', 'Flux_COSMOSVLA3', 'W1mag', 'W2mag']\n",
    "\n",
    "feats_2_disc_S82    = ['RA_MILLI', 'DEC_MILLI', 'X_ray_detect', 'W1mag', 'W2mag', 'FUVmag', 'NUVmag']\n",
    "feats_2_disc_HETDEX = ['RA_MILLI', 'DEC_MILLI', 'X_ray_detect', 'W1mag', 'W2mag', 'FUVmag', 'NUVmag']\n",
    "feats_2_disc_COSMOS = ['RA_MILLI', 'DEC_MILLI', 'X_ray_detect', 'W1mag', 'W2mag', 'FUVmag', 'NUVmag']\n",
    "\n",
    "feats_2_disc        = {'S82': feats_2_disc_S82, 'HETDEX': feats_2_disc_HETDEX, 'COSMOS': feats_2_disc_COSMOS}\n",
    "features_2_discard  = feats_2_disc[used_area]"
   ]
  },
  {
   "cell_type": "code",
   "execution_count": 34,
   "metadata": {},
   "outputs": [],
   "source": [
    "full_catalog_df     = pd.read_hdf(cat_path + file_name, key='df').drop(columns=features_2_discard)"
   ]
  },
  {
   "cell_type": "code",
   "execution_count": 35,
   "metadata": {},
   "outputs": [],
   "source": [
    "full_catalog_df.loc[:, 'radio_detect'] = full_catalog_df.loc[:, 'radio_detect'].astype(int)"
   ]
  },
  {
   "cell_type": "markdown",
   "metadata": {},
   "source": [
    "Create features with class and combined redshift."
   ]
  },
  {
   "cell_type": "code",
   "execution_count": 36,
   "metadata": {
    "jupyter": {
     "source_hidden": true
    }
   },
   "outputs": [],
   "source": [
    "if use_zeroth_model:\n",
    "    full_catalog_df['is_str'] = np.array(full_catalog_df.loc[:, 'spCl'] == 'STAR  ').astype(int)\n",
    "elif not use_zeroth_model:\n",
    "    full_catalog_df['is_str'] = np.zeros_like(full_catalog_df.loc[:, 'spCl'])"
   ]
  },
  {
   "cell_type": "code",
   "execution_count": 37,
   "metadata": {
    "jupyter": {
     "source_hidden": true
    }
   },
   "outputs": [],
   "source": [
    "full_catalog_df['class']            = full_catalog_df.loc[:, 'is_AGN'].copy()\n",
    "if use_zeroth_model:\n",
    "    filter_non_confirmed            = np.array(full_catalog_df.loc[:, 'is_AGN'] == 1) |\\\n",
    "                                      np.array(full_catalog_df.loc[:, 'is_gal'] == 1) |\\\n",
    "                                      np.array(full_catalog_df.loc[:, 'is_str'] == 1)\n",
    "    full_catalog_df.loc[np.array(full_catalog_df.loc[:, 'is_str'] == 1), 'class'] = 2\n",
    "elif not use_zeroth_model:\n",
    "    filter_non_confirmed            = np.array(full_catalog_df.loc[:, 'is_AGN'] == 1) |\\\n",
    "                                      np.array(full_catalog_df.loc[:, 'is_gal'] == 1)\n",
    "full_catalog_df.loc[~filter_non_confirmed, 'class'] = 0.5\n",
    "idx_non_Z                           = full_catalog_df.loc[:, 'Z'].where(full_catalog_df.loc[:, 'Z'] > 0).isna()\n",
    "full_catalog_df.loc[idx_non_Z, 'Z'] = full_catalog_df.loc[:, 'Z'].mask(idx_non_Z, full_catalog_df.loc[idx_non_Z, 'zsp'])"
   ]
  },
  {
   "cell_type": "markdown",
   "metadata": {},
   "source": [
    "Create column for detection as Radio AGN"
   ]
  },
  {
   "cell_type": "code",
   "execution_count": 38,
   "metadata": {},
   "outputs": [],
   "source": [
    "full_catalog_df['radio_AGN']        = np.array(full_catalog_df.loc[:, 'is_AGN'] == 1) & np.array(full_catalog_df.loc[:, 'radio_detect'] == 1)"
   ]
  },
  {
   "cell_type": "markdown",
   "metadata": {},
   "source": [
    "##### Random seed"
   ]
  },
  {
   "cell_type": "code",
   "execution_count": 39,
   "metadata": {},
   "outputs": [],
   "source": [
    "seed                                = 42"
   ]
  },
  {
   "cell_type": "markdown",
   "metadata": {},
   "source": [
    "---"
   ]
  },
  {
   "cell_type": "markdown",
   "metadata": {},
   "source": [
    "Split dataset if from HETDEX"
   ]
  },
  {
   "cell_type": "code",
   "execution_count": 40,
   "metadata": {
    "jupyter": {
     "source_hidden": true
    }
   },
   "outputs": [],
   "source": [
    "if used_area == 'HETDEX':\n",
    "    if use_zeroth_model:\n",
    "        filter_known_spec = (full_catalog_df.loc[:, 'is_AGN'] == 1) |\\\n",
    "            (full_catalog_df.loc[:, 'is_gal'] == 1) | (full_catalog_df.loc[:, 'is_str'] == 1)\n",
    "    elif not use_zeroth_model:\n",
    "        filter_known_spec = (full_catalog_df.loc[:, 'is_AGN'] == 1) | (full_catalog_df.loc[:, 'is_gal'] == 1)\n",
    "    unknown_cat_df    = full_catalog_df.loc[~filter_known_spec]\n",
    "    full_catalog_df   = full_catalog_df.loc[filter_known_spec]\n",
    "    train_test_df, validation_df     = train_test_split(full_catalog_df, test_size=0.2,\\\n",
    "                                        random_state=seed, stratify=full_catalog_df.loc[:, 'class'])\n",
    "    train_df, test_df                = train_test_split(train_test_df, test_size=0.3,\\\n",
    "                                        random_state=seed, stratify=train_test_df.loc[:, 'class'])\n",
    "    print('Shape of used data in HETDEX')\n",
    "    print('(Confirmed galaxies and AGN)')\n",
    "    print('-' * 50)\n",
    "    print(f'Full confirmed dataset size:        {full_catalog_df.shape}')\n",
    "    print(f'Data for Modeling (Train and Test): {train_test_df.shape}')\n",
    "    print(f'Training data:                      {train_df.shape}')\n",
    "    print(f'Testing data:                       {test_df.shape}')\n",
    "    print(f'Unseen Data For Validation:         {validation_df.shape}')\n",
    "    print('-' * 50)\n",
    "    print()\n",
    "    print(f'Using {HETDEX_subset} data from HETDEX')\n",
    "    selected_dataset = {'Training': train_df, 'Test': test_df, 'Test+Train': train_test_df,\\\n",
    "                        'Validation': validation_df}\n",
    "    full_catalog_df = selected_dataset[HETDEX_subset]"
   ]
  },
  {
   "cell_type": "markdown",
   "metadata": {},
   "source": [
    "Split data if not from HETDEX"
   ]
  },
  {
   "cell_type": "code",
   "execution_count": 41,
   "metadata": {
    "jupyter": {
     "source_hidden": true
    }
   },
   "outputs": [],
   "source": [
    "if used_area != 'HETDEX':\n",
    "    filter_confirmed = (full_catalog_df.loc[:, 'class'] == 0) |\\\n",
    "                       (full_catalog_df.loc[:, 'class'] == 1) |\\\n",
    "                       (full_catalog_df.loc[:, 'class'] == 2)  # Galaxy, AGN, star\n",
    "    unknown_cat_df   = full_catalog_df.loc[~filter_confirmed]\n",
    "    full_catalog_df  = full_catalog_df.loc[filter_confirmed]"
   ]
  },
  {
   "cell_type": "code",
   "execution_count": 42,
   "metadata": {
    "jupyter": {
     "source_hidden": true
    }
   },
   "outputs": [
    {
     "name": "stdout",
     "output_type": "stream",
     "text": [
      "Full used dataset size:              (1502, 57)\n",
      "--------------------------------------------------\n",
      "Thus, it has 1,502 sources and 57 features.\n"
     ]
    }
   ],
   "source": [
    "print(f'Full used dataset size:              {full_catalog_df.shape}')\n",
    "print('-' * 50)\n",
    "print(f'Thus, it has {full_catalog_df.shape[0]:,} sources and {full_catalog_df.shape[1]:,} features.')"
   ]
  },
  {
   "cell_type": "markdown",
   "metadata": {},
   "source": [
    "Discard minor features."
   ]
  },
  {
   "cell_type": "code",
   "execution_count": 43,
   "metadata": {},
   "outputs": [],
   "source": [
    "full_catalog_df                     = full_catalog_df.drop(columns=['is_AGN', 'is_SDSS_gal', 'is_gal', 'zsp', 'spCl'])"
   ]
  },
  {
   "cell_type": "markdown",
   "metadata": {},
   "source": [
    "---"
   ]
  },
  {
   "cell_type": "markdown",
   "metadata": {},
   "source": [
    "### Load models"
   ]
  },
  {
   "cell_type": "code",
   "execution_count": 44,
   "metadata": {},
   "outputs": [
    {
     "name": "stdout",
     "output_type": "stream",
     "text": [
      "Transformation Pipeline and Model Successfully Loaded\n",
      "Transformation Pipeline and Model Successfully Loaded\n",
      "Transformation Pipeline and Model Successfully Loaded\n",
      "Transformation Pipeline and Model Successfully Loaded\n"
     ]
    }
   ],
   "source": [
    "if load_models_flag:\n",
    "    if use_zeroth_model:\n",
    "        star_clf        = pyc.load_model('models/classification_star_no_star_jun_30_2022')  # star/no-star model\n",
    "    AGN_gal_clf     = pyc.load_model('models/classification_AGN_galaxy_may_15_2022')\n",
    "    # radio_det_clf   = pyc.load_model('models/classification_radio_detect_may_16_2022')  # with predicted AGN\n",
    "    radio_det_clf   = pyc.load_model('models/classification_radio_detect_ago_02_2022')  # without predicted AGN\n",
    "    redshift_reg    = pyr.load_model('models/regression_z_may_17_2022')  # to use on full sample\n",
    "    if use_second_z_model:\n",
    "        redshift_reg_2  = pyr.load_model('models/regression_z_may_18_2022')  # to use on sources with predicted z >= 2\n",
    "    if use_third_z_model:\n",
    "        redshift_reg_3  = pyr.load_model('models/regression_z_may_30_2022')  # to use on sources with predicted z >= 3\n",
    "    if use_fourth_z_model:\n",
    "        # redshift_reg_4  = pyr.load_model('models/regression_z_may_31_2022')  # to use on sources with predicted z >= 3.7 (for z >= 4, regression_z_may_31_4_2022)\n",
    "        # redshift_reg_4  = pyr.load_model('models/regression_z_may_31_4_2022')  # to use on sources with predicted z >= 3.7 (for z >= 4, regression_z_may_31_4_2022)\n",
    "        # redshift_reg_4  = pyr.load_model('models/regression_z_jun_01_2022')  # to use on sources with predicted z >= 3.7 used with SMOGN\n",
    "        redshift_reg_4  = pyr.load_model('models/regression_z_jul_19_2022')  # to use on sources with predicted z >= 3.6 used with SMOGN"
   ]
  },
  {
   "cell_type": "code",
   "execution_count": 45,
   "metadata": {},
   "outputs": [],
   "source": [
    "if use_zeroth_model:\n",
    "    threshold_star = 0.37441  # 0.5, 0.15688 from ROC AUC in train+test, 0.37441 from PR curve\n",
    "threshold_AGN   = 0.31117  # 0.5, 0.3094 from ROC AUC in train+test, 0.31117 from PR curve\n",
    "threshold_radio = 3.45872868e-01  # 0.5, 4.99972232e-01, 3.45872868e-01 without including new AGN from ROC AUC in train+test and PR curve"
   ]
  },
  {
   "cell_type": "code",
   "execution_count": 46,
   "metadata": {
    "jupyter": {
     "source_hidden": true
    }
   },
   "outputs": [],
   "source": [
    "if use_zeroth_model:  # we want no-star sources => label == 0\n",
    "    full_catalog_df = predict_star(full_catalog_df, star_clf, threshold_star)\n",
    "    unknown_cat_df  = predict_star(unknown_cat_df,  star_clf, threshold_star)\n",
    "elif not use_zeroth_model:\n",
    "    full_catalog_df['pred_star']     = 0\n",
    "    full_catalog_df['Score_no_star'] = 1\n",
    "    unknown_cat_df['pred_star']      = 0\n",
    "    unknown_cat_df['Score_no_star']  = 1"
   ]
  },
  {
   "cell_type": "code",
   "execution_count": 47,
   "metadata": {},
   "outputs": [],
   "source": [
    "full_catalog_df = predict_AGN_gal(full_catalog_df, AGN_gal_clf, threshold_AGN)\n",
    "unknown_cat_df  = predict_AGN_gal(unknown_cat_df,  AGN_gal_clf, threshold_AGN)"
   ]
  },
  {
   "cell_type": "code",
   "execution_count": 48,
   "metadata": {},
   "outputs": [],
   "source": [
    "full_catalog_df = predict_radio_det(full_catalog_df, radio_det_clf, threshold_radio)\n",
    "unknown_cat_df  = predict_radio_det(unknown_cat_df,  radio_det_clf, threshold_radio)"
   ]
  },
  {
   "cell_type": "code",
   "execution_count": 49,
   "metadata": {},
   "outputs": [],
   "source": [
    "full_catalog_df = predict_z_full(full_catalog_df, redshift_reg)\n",
    "unknown_cat_df  = predict_z_full(unknown_cat_df,  redshift_reg)"
   ]
  },
  {
   "cell_type": "markdown",
   "metadata": {},
   "source": [
    "Scores before applying further z models"
   ]
  },
  {
   "cell_type": "code",
   "execution_count": 50,
   "metadata": {
    "jupyter": {
     "source_hidden": true
    }
   },
   "outputs": [],
   "source": [
    "if use_zeroth_model:\n",
    "    temp_filt_pred_nstr    = np.array(full_catalog_df.loc[:, 'pred_star'] == 0)  # filter for not being predicted as a star\n",
    "elif not use_zeroth_model:\n",
    "    temp_filt_pred_nstr    = np.ones_like(full_catalog_df.loc[:, 'class']).astype(bool)\n",
    "temp_filt_pred_rAGN        = np.array(full_catalog_df.loc[:, 'pred_class'] == 1) &\\\n",
    "                             np.array(full_catalog_df.loc[:, 'pred_radio'] == 1) &\\\n",
    "                             temp_filt_pred_nstr\n",
    "sigma_mad_early            = sigma_mad(full_catalog_df.loc[temp_filt_pred_rAGN, 'Z'],    full_catalog_df.loc[temp_filt_pred_rAGN, 'pred_Z'])\n",
    "sigma_nmad_early           = sigma_nmad(full_catalog_df.loc[temp_filt_pred_rAGN, 'Z'],   full_catalog_df.loc[temp_filt_pred_rAGN, 'pred_Z'])\n",
    "sigma_z_early              = sigma_z(full_catalog_df.loc[temp_filt_pred_rAGN, 'Z'],      full_catalog_df.loc[temp_filt_pred_rAGN, 'pred_Z'])\n",
    "sigma_z_norm_early         = sigma_z_norm(full_catalog_df.loc[temp_filt_pred_rAGN, 'Z'], full_catalog_df.loc[temp_filt_pred_rAGN, 'pred_Z'])\n",
    "out_frac_early             = outlier_frac(full_catalog_df.loc[temp_filt_pred_rAGN, 'Z'], full_catalog_df.loc[temp_filt_pred_rAGN, 'pred_Z'])"
   ]
  },
  {
   "cell_type": "code",
   "execution_count": 51,
   "metadata": {
    "jupyter": {
     "source_hidden": true
    }
   },
   "outputs": [],
   "source": [
    "temp_z_limit               = 3.6\n",
    "temp_filt_high_z_rAGN      = temp_filt_pred_rAGN * (full_catalog_df.loc[:, 'pred_Z'] >= temp_z_limit)\n",
    "sigma_mad_early_hiz        = sigma_mad(full_catalog_df.loc[temp_filt_high_z_rAGN, 'Z'],    full_catalog_df.loc[temp_filt_high_z_rAGN, 'pred_Z'])\n",
    "sigma_nmad_early_hiz       = sigma_nmad(full_catalog_df.loc[temp_filt_high_z_rAGN, 'Z'],   full_catalog_df.loc[temp_filt_high_z_rAGN, 'pred_Z'])\n",
    "sigma_z_early_hiz          = sigma_z(full_catalog_df.loc[temp_filt_high_z_rAGN, 'Z'],      full_catalog_df.loc[temp_filt_high_z_rAGN, 'pred_Z'])\n",
    "sigma_z_norm_early_hiz     = sigma_z_norm(full_catalog_df.loc[temp_filt_high_z_rAGN, 'Z'], full_catalog_df.loc[temp_filt_high_z_rAGN, 'pred_Z'])\n",
    "out_frac_early_hiz         = outlier_frac(full_catalog_df.loc[temp_filt_high_z_rAGN, 'Z'], full_catalog_df.loc[temp_filt_high_z_rAGN, 'pred_Z'])"
   ]
  },
  {
   "cell_type": "code",
   "execution_count": 52,
   "metadata": {
    "jupyter": {
     "source_hidden": true
    }
   },
   "outputs": [],
   "source": [
    "redshift_lim_a    = 2.0\n",
    "redshift_tol_a    = 0.0\n",
    "redshift_lim_b    = 3.0\n",
    "redshift_tol_b    = 0.0\n",
    "redshift_lim_c    = 3.6  # 3.6, 3.7, 4.0\n",
    "redshift_tol_c    = 0.0\n",
    "if use_second_z_model:\n",
    "    full_catalog_df = predict_z_high(full_catalog_df, redshift_reg_2, redshift_lim_a, redshift_tol_a)\n",
    "    unknown_cat_df  = predict_z_high(unknown_cat_df,  redshift_reg_2, redshift_lim_a, redshift_tol_a)\n",
    "if use_third_z_model:\n",
    "    full_catalog_df = predict_z_high(full_catalog_df, redshift_reg_3, redshift_lim_b, redshift_tol_b)\n",
    "    unknown_cat_df  = predict_z_high(unknown_cat_df,  redshift_reg_3, redshift_lim_b, redshift_tol_b)\n",
    "if use_fourth_z_model:\n",
    "    full_catalog_df = predict_z_high(full_catalog_df, redshift_reg_4, redshift_lim_c, redshift_tol_c)\n",
    "    unknown_cat_df  = predict_z_high(unknown_cat_df,  redshift_reg_4, redshift_lim_c, redshift_tol_c)"
   ]
  },
  {
   "cell_type": "code",
   "execution_count": 53,
   "metadata": {
    "jupyter": {
     "source_hidden": true
    },
    "tags": []
   },
   "outputs": [
    {
     "data": {
      "image/png": "[encoded data removed]",
      "text/plain": [
       "<Figure size 600x500 with 3 Axes>"
      ]
     },
     "metadata": {},
     "output_type": "display_data"
    }
   ],
   "source": [
    "fig             = plt.figure(figsize=(6,5))\n",
    "ax1             = fig.add_subplot(111, projection='scatter_density', xscale='log', yscale='log')\n",
    "plot_redshift_compare(full_catalog_df.loc[:, 'Z'], full_catalog_df.loc[:, 'pred_Z'],\\\n",
    "                      ax_pre=ax1, title=None, dpi=10, show_clb=True, log_stretch=False)\n",
    "ax1.axvline(x=(1 + redshift_lim_a), ls='--', c='k', lw=2.5)\n",
    "ax1.axhline(y=(1 + redshift_lim_a), ls='--', c='k', lw=2.5)\n",
    "ax1.axvline(x=(1 + redshift_lim_c), ls='--', c='k', lw=2.5)\n",
    "ax1.axhline(y=(1 + redshift_lim_c), ls='--', c='k', lw=2.5)\n",
    "if use_second_z_model or use_third_z_model or use_fourth_z_model:\n",
    "    ax1.set_ylabel('$1 + z_{\\mathrm{Predicted}}^{\\mathrm{combined\\,models}}$', size=20)\n",
    "plt.show()"
   ]
  },
  {
   "cell_type": "markdown",
   "metadata": {},
   "source": [
    "Additional columns with radio AGN prediction as a whole."
   ]
  },
  {
   "cell_type": "code",
   "execution_count": 54,
   "metadata": {
    "jupyter": {
     "source_hidden": true
    }
   },
   "outputs": [],
   "source": [
    "full_catalog_df['pred_radio_AGN']     = np.array(full_catalog_df.loc[:, 'pred_star']  == 0) &\\\n",
    "                                        np.array(full_catalog_df.loc[:, 'pred_class'] == 1) &\\\n",
    "                                        np.array(full_catalog_df.loc[:, 'pred_radio'] == 1)\n",
    "full_catalog_df['Score_rAGN']         = full_catalog_df.loc[:, 'Score_no_star'] *\\\n",
    "                                        full_catalog_df.loc[:, 'Score_AGN'] *\\\n",
    "                                        full_catalog_df.loc[:, 'Score_radio']\n",
    "rad_score_scaler                      = MinMaxScaler()\n",
    "rad_score_scaler.fit(full_catalog_df.loc[:, 'Score_radio'].values.reshape(-1, 1))\n",
    "full_catalog_df['scaled_score_radio'] = rad_score_scaler.transform(full_catalog_df.loc[:, 'Score_radio'].values.reshape(-1, 1))\n",
    "full_catalog_df['scaled_score_rAGN']  = full_catalog_df.loc[:, 'Score_AGN'] * full_catalog_df.loc[:, 'scaled_score_radio']"
   ]
  },
  {
   "cell_type": "code",
   "execution_count": 55,
   "metadata": {
    "jupyter": {
     "source_hidden": true
    }
   },
   "outputs": [],
   "source": [
    "unknown_cat_df['pred_radio_AGN']     = np.array(unknown_cat_df.loc[:, 'pred_star']  == 0) &\\\n",
    "                                       np.array(unknown_cat_df.loc[:, 'pred_class'] == 1) &\\\n",
    "                                       np.array(unknown_cat_df.loc[:, 'pred_radio'] == 1)\n",
    "unknown_cat_df['Score_rAGN']         = unknown_cat_df.loc[:, 'Score_no_star'] *\\\n",
    "                                       unknown_cat_df.loc[:, 'Score_AGN'] *\\\n",
    "                                       unknown_cat_df.loc[:, 'Score_radio']\n",
    "\n",
    "unknown_cat_df['scaled_score_radio'] = rad_score_scaler.transform(unknown_cat_df.loc[:, 'Score_radio'].values.reshape(-1, 1))\n",
    "unknown_cat_df['scaled_score_rAGN']  = unknown_cat_df.loc[:, 'Score_AGN'] * unknown_cat_df.loc[:, 'scaled_score_radio']"
   ]
  },
  {
   "cell_type": "code",
   "execution_count": 56,
   "metadata": {
    "jupyter": {
     "source_hidden": true
    }
   },
   "outputs": [
    {
     "data": {
      "text/html": [
       "<div>\n",
       "<style scoped>\n",
       "    .dataframe tbody tr th:only-of-type {\n",
       "        vertical-align: middle;\n",
       "    }\n",
       "\n",
       "    .dataframe tbody tr th {\n",
       "        vertical-align: top;\n",
       "    }\n",
       "\n",
       "    .dataframe thead th {\n",
       "        text-align: right;\n",
       "    }\n",
       "</style>\n",
       "<table border=\"1\" class=\"dataframe\">\n",
       "  <thead>\n",
       "    <tr style=\"text-align: right;\">\n",
       "      <th></th>\n",
       "      <th>class</th>\n",
       "      <th>pred_class</th>\n",
       "      <th>radio_detect</th>\n",
       "      <th>pred_radio</th>\n",
       "      <th>Z</th>\n",
       "      <th>pred_Z</th>\n",
       "    </tr>\n",
       "  </thead>\n",
       "  <tbody>\n",
       "    <tr>\n",
       "      <th>count</th>\n",
       "      <td>1502.000000</td>\n",
       "      <td>1502.000000</td>\n",
       "      <td>1502.000000</td>\n",
       "      <td>1502.000000</td>\n",
       "      <td>1413.000000</td>\n",
       "      <td>1502.000000</td>\n",
       "    </tr>\n",
       "    <tr>\n",
       "      <th>mean</th>\n",
       "      <td>0.779627</td>\n",
       "      <td>0.631158</td>\n",
       "      <td>0.475366</td>\n",
       "      <td>0.507989</td>\n",
       "      <td>1.072018</td>\n",
       "      <td>1.283274</td>\n",
       "    </tr>\n",
       "    <tr>\n",
       "      <th>std</th>\n",
       "      <td>0.414636</td>\n",
       "      <td>0.482652</td>\n",
       "      <td>0.499559</td>\n",
       "      <td>0.500103</td>\n",
       "      <td>0.827538</td>\n",
       "      <td>0.735958</td>\n",
       "    </tr>\n",
       "    <tr>\n",
       "      <th>min</th>\n",
       "      <td>0.000000</td>\n",
       "      <td>0.000000</td>\n",
       "      <td>0.000000</td>\n",
       "      <td>0.000000</td>\n",
       "      <td>0.006230</td>\n",
       "      <td>0.051400</td>\n",
       "    </tr>\n",
       "    <tr>\n",
       "      <th>25%</th>\n",
       "      <td>1.000000</td>\n",
       "      <td>0.000000</td>\n",
       "      <td>0.000000</td>\n",
       "      <td>0.000000</td>\n",
       "      <td>0.431850</td>\n",
       "      <td>0.583275</td>\n",
       "    </tr>\n",
       "    <tr>\n",
       "      <th>50%</th>\n",
       "      <td>1.000000</td>\n",
       "      <td>1.000000</td>\n",
       "      <td>0.000000</td>\n",
       "      <td>1.000000</td>\n",
       "      <td>0.878000</td>\n",
       "      <td>1.218400</td>\n",
       "    </tr>\n",
       "    <tr>\n",
       "      <th>75%</th>\n",
       "      <td>1.000000</td>\n",
       "      <td>1.000000</td>\n",
       "      <td>1.000000</td>\n",
       "      <td>1.000000</td>\n",
       "      <td>1.529000</td>\n",
       "      <td>1.892200</td>\n",
       "    </tr>\n",
       "    <tr>\n",
       "      <th>max</th>\n",
       "      <td>1.000000</td>\n",
       "      <td>1.000000</td>\n",
       "      <td>1.000000</td>\n",
       "      <td>1.000000</td>\n",
       "      <td>7.149000</td>\n",
       "      <td>4.017500</td>\n",
       "    </tr>\n",
       "  </tbody>\n",
       "</table>\n",
       "</div>"
      ],
      "text/plain": [
       "             class   pred_class  radio_detect   pred_radio            Z  \\\n",
       "count  1502.000000  1502.000000   1502.000000  1502.000000  1413.000000   \n",
       "mean      0.779627     0.631158      0.475366     0.507989     1.072018   \n",
       "std       0.414636     0.482652      0.499559     0.500103     0.827538   \n",
       "min       0.000000     0.000000      0.000000     0.000000     0.006230   \n",
       "25%       1.000000     0.000000      0.000000     0.000000     0.431850   \n",
       "50%       1.000000     1.000000      0.000000     1.000000     0.878000   \n",
       "75%       1.000000     1.000000      1.000000     1.000000     1.529000   \n",
       "max       1.000000     1.000000      1.000000     1.000000     7.149000   \n",
       "\n",
       "            pred_Z  \n",
       "count  1502.000000  \n",
       "mean      1.283274  \n",
       "std       0.735958  \n",
       "min       0.051400  \n",
       "25%       0.583275  \n",
       "50%       1.218400  \n",
       "75%       1.892200  \n",
       "max       4.017500  "
      ]
     },
     "execution_count": 56,
     "metadata": {},
     "output_type": "execute_result"
    }
   ],
   "source": [
    "displayed_cols = ['is_str', 'pred_star', 'class', 'pred_class', 'radio_detect', 'pred_radio', 'Z', 'pred_Z']\n",
    "if not use_zeroth_model:\n",
    "    displayed_cols.remove('is_str')\n",
    "    displayed_cols.remove('pred_star')\n",
    "full_catalog_df.loc[:, displayed_cols].describe()"
   ]
  },
  {
   "cell_type": "markdown",
   "metadata": {},
   "source": [
    "##### Include AGN detection criteria from literature"
   ]
  },
  {
   "cell_type": "code",
   "execution_count": 57,
   "metadata": {},
   "outputs": [],
   "source": [
    "full_catalog_df = add_AGN_criteria(full_catalog_df)\n",
    "unknown_cat_df  = add_AGN_criteria(unknown_cat_df)"
   ]
  },
  {
   "cell_type": "markdown",
   "metadata": {},
   "source": [
    "Obtain intermediate metrics"
   ]
  },
  {
   "cell_type": "code",
   "execution_count": 58,
   "metadata": {
    "jupyter": {
     "source_hidden": true
    }
   },
   "outputs": [],
   "source": [
    "filter_radio_AGN_t      = np.array(full_catalog_df.loc[:, 'class'] == 1) & np.array(full_catalog_df.loc[:, 'radio_detect'] == 1)\n",
    "if use_zeroth_model:\n",
    "    filter_known_spec = (full_catalog_df.loc[:, 'class'] == 0) |\\\n",
    "                        (full_catalog_df.loc[:, 'class'] == 1) |\\\n",
    "                        (full_catalog_df.loc[:, 'class'] == 2)\n",
    "elif not use_zeroth_model:\n",
    "    filter_known_spec = (full_catalog_df.loc[:, 'class'] == 0) |\\\n",
    "                        (full_catalog_df.loc[:, 'class'] == 1)\n",
    "total_size              = len(full_catalog_df)\n",
    "filter_AGN_t            = np.array(full_catalog_df.loc[:, 'class'] == 1)\n",
    "num_str_t               = np.sum(np.array(full_catalog_df.loc[:, 'class'] == 2))\n",
    "num_AGN_t               = np.sum(filter_AGN_t)\n",
    "num_gal_t               = np.sum(np.array(full_catalog_df.loc[:, 'class'] == 0))\n",
    "num_str_t               = np.sum(np.array(full_catalog_df.loc[:, 'is_str'] == 1))\n",
    "num_radio_t             = np.sum(np.array(full_catalog_df.loc[:, 'radio_detect'] == 1))\n",
    "num_radio_AGN_t         = np.sum(filter_radio_AGN_t)"
   ]
  },
  {
   "cell_type": "code",
   "execution_count": 59,
   "metadata": {
    "jupyter": {
     "source_hidden": true
    }
   },
   "outputs": [],
   "source": [
    "# filter_radio_AGN_p      = np.array(full_catalog_df.loc[:, 'Score_AGN']          >= threshold_AGN) &\\\n",
    "#                             np.array(full_catalog_df.loc[:, 'Score_radio']      >= threshold_radio)\n",
    "if use_zeroth_model:\n",
    "    filter_non_str_p      = np.array(full_catalog_df.loc[:, 'pred_star'] == 0)\n",
    "elif not use_zeroth_model:\n",
    "    filter_non_str_p      = np.ones_like(full_catalog_df.loc[:, 'class']).astype(bool)\n",
    "filter_radio_AGN_p        = full_catalog_df['pred_radio_AGN']\n",
    "filt_hiz_rAGN_p           = filter_radio_AGN_p * np.array(full_catalog_df.loc[:, 'pred_Z'] >= redshift_lim_c)\n",
    "filter_AGN_p              = np.array(full_catalog_df.loc[:, 'pred_class'] == 1) & filter_non_str_p\n",
    "filter_radio_p            = np.array(full_catalog_df.loc[:, 'pred_radio'] == 1)\n",
    "filt_new_rAGN_p           = filter_radio_AGN_p & np.array(full_catalog_df.loc[:, 'radio_AGN'] == 0)\n",
    "num_str_p                 = np.sum(full_catalog_df.loc[:, 'pred_star'] == 1)\n",
    "num_AGN_p                 = np.sum(filter_AGN_p)\n",
    "num_gal_p                 = np.sum(np.array(full_catalog_df.loc[:, 'pred_class'] == 0) & filter_non_str_p)\n",
    "num_radio_p               = np.sum(filter_radio_p)\n",
    "num_radio_AGN_p           = np.sum(filter_radio_AGN_p)\n",
    "num_rAGN_MQC_p            = np.sum(filter_radio_AGN_p & np.array(full_catalog_df.loc[:, 'class'] == 1))\n",
    "num_rAGN_gal_p            = np.sum(filter_radio_AGN_p & np.array(full_catalog_df.loc[:, 'class'] == 0))\n",
    "num_rAGN_str_p            = np.sum(filter_radio_AGN_p & np.array(full_catalog_df.loc[:, 'is_str'] == 1))\n",
    "num_rAGN_rad_p            = np.sum(filter_radio_AGN_p & np.array(full_catalog_df.loc[:, 'radio_detect'] == 1))\n",
    "num_new_rAGN_p            = np.sum(filter_radio_AGN_p) - np.sum(filter_radio_AGN_t)"
   ]
  },
  {
   "cell_type": "code",
   "execution_count": 60,
   "metadata": {
    "jupyter": {
     "source_hidden": true
    }
   },
   "outputs": [],
   "source": [
    "# filter_radio_AGN_p      = np.array(full_catalog_df.loc[:, 'Score_AGN']          >= threshold_AGN) &\\\n",
    "#                             np.array(full_catalog_df.loc[:, 'Score_radio']      >= threshold_radio)\n",
    "if use_zeroth_model:\n",
    "    filter_non_str_unk_p      = np.array(unknown_cat_df.loc[:, 'pred_star'] == 0)\n",
    "elif not use_zeroth_model:\n",
    "    filter_non_str_unk_p      = np.ones_like(unknown_cat_df.loc[:, 'class']).astype(bool)\n",
    "filter_radio_AGN_unk_p        = unknown_cat_df['pred_radio_AGN']\n",
    "filt_hiz_rAGN_unk_p           = filter_radio_AGN_unk_p * np.array(unknown_cat_df.loc[:, 'pred_Z'] >= redshift_lim_c)\n",
    "filter_AGN_unk_p              = np.array(unknown_cat_df.loc[:, 'pred_class'] == 1) & filter_non_str_unk_p\n",
    "filter_radio_unk_p            = np.array(unknown_cat_df.loc[:, 'pred_radio'] == 1)\n",
    "filt_new_rAGN_unk_p           = filter_radio_AGN_unk_p & np.array(unknown_cat_df.loc[:, 'radio_AGN'] == 0)\n",
    "num_str_unk_p                 = np.sum(unknown_cat_df.loc[:, 'pred_star'] == 1)\n",
    "num_AGN_unk_p                 = np.sum(filter_AGN_unk_p)\n",
    "num_gal_unk_p                 = np.sum(np.array(unknown_cat_df.loc[:, 'pred_class'] == 0) & filter_non_str_unk_p)\n",
    "num_radio_unk_p               = np.sum(filter_radio_unk_p)\n",
    "num_radio_AGN_unk_p           = np.sum(filter_radio_AGN_unk_p)\n",
    "num_rAGN_MQC_unk_p            = np.sum(filter_radio_AGN_unk_p & np.array(unknown_cat_df.loc[:, 'class'] == 1))\n",
    "num_rAGN_gal_unk_p            = np.sum(filter_radio_AGN_unk_p & np.array(unknown_cat_df.loc[:, 'class'] == 0))\n",
    "num_rAGN_str_unk_p            = np.sum(filter_radio_AGN_unk_p & np.array(unknown_cat_df.loc[:, 'is_str'] == 1))\n",
    "num_rAGN_rad_unk_p            = np.sum(filter_radio_AGN_unk_p & np.array(unknown_cat_df.loc[:, 'radio_detect'] == 1))"
   ]
  },
  {
   "cell_type": "markdown",
   "metadata": {},
   "source": [
    "Confusion matrix for Star/not-star classification on confirmed sources (AGN + Galaxies + Stars)"
   ]
  },
  {
   "cell_type": "code",
   "execution_count": 61,
   "metadata": {
    "jupyter": {
     "source_hidden": true
    }
   },
   "outputs": [],
   "source": [
    "if use_zeroth_model:\n",
    "    cm_str = np.array([[np.sum(np.array(full_catalog_df.loc[:, 'is_str'] == 0) & np.array(full_catalog_df.loc[:, 'pred_star'] == 0)),\\\n",
    "                        np.sum(np.array(full_catalog_df.loc[:, 'is_str'] == 0) & np.array(full_catalog_df.loc[:, 'pred_star'] == 1))],\\\n",
    "                       [np.sum(np.array(full_catalog_df.loc[:, 'is_str'] == 1) & np.array(full_catalog_df.loc[:, 'pred_star'] == 0)),\\\n",
    "                        np.sum(np.array(full_catalog_df.loc[:, 'is_str'] == 1) & np.array(full_catalog_df.loc[:, 'pred_star'] == 1))]])"
   ]
  },
  {
   "cell_type": "markdown",
   "metadata": {},
   "source": [
    "Confusion matrix for AGN prediction on confirmed sources (AGN/galaxies). Including initial prediction of not being star."
   ]
  },
  {
   "cell_type": "code",
   "execution_count": 62,
   "metadata": {
    "jupyter": {
     "source_hidden": true
    },
    "tags": []
   },
   "outputs": [],
   "source": [
    "tmp_filt_AGN = filter_non_str_p * filter_known_spec\n",
    "cm_AGN = np.array([[np.sum(np.array(full_catalog_df.loc[filter_non_str_p, 'class'] == 0) &\\\n",
    "                           np.array(full_catalog_df.loc[filter_non_str_p, 'pred_class'] == 0)),\\\n",
    "                    np.sum(np.array(full_catalog_df.loc[filter_non_str_p, 'class'] == 0) &\\\n",
    "                           np.array(full_catalog_df.loc[filter_non_str_p, 'pred_class'] == 1))],\\\n",
    "                   [np.sum(np.array(full_catalog_df.loc[filter_non_str_p, 'class'] == 1) &\\\n",
    "                           np.array(full_catalog_df.loc[filter_non_str_p, 'pred_class'] == 0)),\\\n",
    "                    np.sum(np.array(full_catalog_df.loc[filter_non_str_p, 'class'] == 1) &\\\n",
    "                           np.array(full_catalog_df.loc[filter_non_str_p, 'pred_class'] == 1))]])"
   ]
  },
  {
   "cell_type": "markdown",
   "metadata": {},
   "source": [
    "Confusion matrices from literature AGN criteria."
   ]
  },
  {
   "cell_type": "code",
   "execution_count": 63,
   "metadata": {
    "jupyter": {
     "source_hidden": true
    }
   },
   "outputs": [],
   "source": [
    "tmp_filt_sp_nostr = filter_known_spec * filter_non_str_p\n",
    "cm_AGN_S12 = np.array([[np.sum(np.array(full_catalog_df.loc[filter_non_str_p, 'class'] == 0) &\\\n",
    "                               np.array(full_catalog_df.loc[filter_non_str_p, 'S12_AGN'] == 0)),\\\n",
    "             np.sum(np.array(full_catalog_df.loc[filter_non_str_p, 'class'] == 0) &\\\n",
    "                    np.array(full_catalog_df.loc[filter_non_str_p, 'S12_AGN'] == 1))],\\\n",
    "            [np.sum(np.array(full_catalog_df.loc[filter_non_str_p, 'class'] == 1) &\\\n",
    "                    np.array(full_catalog_df.loc[filter_non_str_p, 'S12_AGN'] == 0)),\\\n",
    "             np.sum(np.array(full_catalog_df.loc[filter_non_str_p, 'class'] == 1) &\\\n",
    "                    np.array(full_catalog_df.loc[filter_non_str_p, 'S12_AGN'] == 1))]])\n",
    "\n",
    "cm_AGN_M12 = np.array([[np.sum(np.array(full_catalog_df.loc[tmp_filt_sp_nostr, 'class'] == 0) &\\\n",
    "                               np.array(full_catalog_df.loc[tmp_filt_sp_nostr, 'M12_AGN'] == 0)),\\\n",
    "             np.sum(np.array(full_catalog_df.loc[tmp_filt_sp_nostr, 'class'] == 0) &\\\n",
    "                    np.array(full_catalog_df.loc[tmp_filt_sp_nostr, 'M12_AGN'] == 1))],\\\n",
    "            [np.sum(np.array(full_catalog_df.loc[tmp_filt_sp_nostr, 'class'] == 1) &\\\n",
    "                    np.array(full_catalog_df.loc[tmp_filt_sp_nostr, 'M12_AGN'] == 0)),\\\n",
    "             np.sum(np.array(full_catalog_df.loc[tmp_filt_sp_nostr, 'class'] == 1) &\\\n",
    "                    np.array(full_catalog_df.loc[tmp_filt_sp_nostr, 'M12_AGN'] == 1))]])\n",
    "\n",
    "cm_AGN_M16 = np.array([[np.sum(np.array(full_catalog_df.loc[tmp_filt_sp_nostr, 'class'] == 0) &\\\n",
    "                               np.array(full_catalog_df.loc[tmp_filt_sp_nostr, 'M16_AGN'] == 0)),\\\n",
    "             np.sum(np.array(full_catalog_df.loc[tmp_filt_sp_nostr, 'class'] == 0) &\\\n",
    "                    np.array(full_catalog_df.loc[tmp_filt_sp_nostr, 'M16_AGN'] == 1))],\\\n",
    "            [np.sum(np.array(full_catalog_df.loc[tmp_filt_sp_nostr, 'class'] == 1) &\\\n",
    "                    np.array(full_catalog_df.loc[tmp_filt_sp_nostr, 'M16_AGN'] == 0)),\\\n",
    "             np.sum(np.array(full_catalog_df.loc[tmp_filt_sp_nostr, 'class'] == 1) &\\\n",
    "                    np.array(full_catalog_df.loc[tmp_filt_sp_nostr, 'M16_AGN'] == 1))]])\n",
    "\n",
    "cm_AGN_B18 = np.array([[np.sum(np.array(full_catalog_df.loc[tmp_filt_sp_nostr, 'class'] == 0) &\\\n",
    "                               np.array(full_catalog_df.loc[tmp_filt_sp_nostr, 'B18_AGN'] == 0)),\\\n",
    "             np.sum(np.array(full_catalog_df.loc[tmp_filt_sp_nostr, 'class'] == 0) &\\\n",
    "                    np.array(full_catalog_df.loc[tmp_filt_sp_nostr, 'B18_AGN'] == 1))],\\\n",
    "            [np.sum(np.array(full_catalog_df.loc[tmp_filt_sp_nostr, 'class'] == 1) &\\\n",
    "                    np.array(full_catalog_df.loc[tmp_filt_sp_nostr, 'B18_AGN'] == 0)),\\\n",
    "             np.sum(np.array(full_catalog_df.loc[tmp_filt_sp_nostr, 'class'] == 1) &\\\n",
    "                    np.array(full_catalog_df.loc[tmp_filt_sp_nostr, 'B18_AGN'] == 1))]])"
   ]
  },
  {
   "cell_type": "markdown",
   "metadata": {},
   "source": [
    "Confusion matrix for radio detection prediction on confirmed sources (AGN/galaxies/stars)"
   ]
  },
  {
   "cell_type": "code",
   "execution_count": 64,
   "metadata": {
    "jupyter": {
     "source_hidden": true
    },
    "tags": []
   },
   "outputs": [],
   "source": [
    "cm_radio = np.array([[np.sum(np.array(full_catalog_df.loc[filter_AGN_p, 'radio_detect'] == 0) &\\\n",
    "                             np.array(full_catalog_df.loc[filter_AGN_p, 'pred_radio']   == 0)),\\\n",
    "                      np.sum(np.array(full_catalog_df.loc[filter_AGN_p, 'radio_detect'] == 0) &\\\n",
    "                             np.array(full_catalog_df.loc[filter_AGN_p, 'pred_radio']   == 1))],\\\n",
    "                     [np.sum(np.array(full_catalog_df.loc[filter_AGN_p, 'radio_detect'] == 1) &\\\n",
    "                             np.array(full_catalog_df.loc[filter_AGN_p, 'pred_radio']   == 0)),\\\n",
    "                      np.sum(np.array(full_catalog_df.loc[filter_AGN_p, 'radio_detect'] == 1) &\\\n",
    "                             np.array(full_catalog_df.loc[filter_AGN_p, 'pred_radio']   == 1))]])"
   ]
  },
  {
   "cell_type": "markdown",
   "metadata": {},
   "source": [
    "Confusion matrix for radio AGN prediction on confirmed sources (AGN/galaxies/stars)"
   ]
  },
  {
   "cell_type": "code",
   "execution_count": 65,
   "metadata": {
    "jupyter": {
     "source_hidden": true
    }
   },
   "outputs": [],
   "source": [
    "cm_rAGN = np.array([[np.sum(np.array(full_catalog_df.loc[:, 'radio_AGN'] == 0) &\\\n",
    "                            np.array(full_catalog_df.loc[:,'pred_radio_AGN'] == 0)),\\\n",
    "                     np.sum(np.array(full_catalog_df.loc[:, 'radio_AGN'] == 0) &\\\n",
    "                            np.array(full_catalog_df.loc[:,'pred_radio_AGN'] == 1))],\\\n",
    "                    [np.sum(np.array(full_catalog_df.loc[:, 'radio_AGN'] == 1) &\\\n",
    "                            np.array(full_catalog_df.loc[:,'pred_radio_AGN'] == 0)),\\\n",
    "                     np.sum(np.array(full_catalog_df.loc[:, 'radio_AGN'] == 1) &\\\n",
    "                            np.array(full_catalog_df.loc[:,'pred_radio_AGN'] == 1))]])"
   ]
  },
  {
   "cell_type": "markdown",
   "metadata": {},
   "source": [
    "Metrics from redshift predictions."
   ]
  },
  {
   "cell_type": "code",
   "execution_count": 66,
   "metadata": {
    "jupyter": {
     "source_hidden": true
    },
    "tags": []
   },
   "outputs": [],
   "source": [
    "sigma_mad_field            = sigma_mad(full_catalog_df.loc[filter_radio_AGN_p, 'Z'],    full_catalog_df.loc[filter_radio_AGN_p, 'pred_Z'])\n",
    "sigma_nmad_field           = sigma_nmad(full_catalog_df.loc[filter_radio_AGN_p, 'Z'],   full_catalog_df.loc[filter_radio_AGN_p, 'pred_Z'])\n",
    "sigma_z_field              = sigma_z(full_catalog_df.loc[filter_radio_AGN_p, 'Z'],      full_catalog_df.loc[filter_radio_AGN_p, 'pred_Z'])\n",
    "sigma_z_norm_field         = sigma_z_norm(full_catalog_df.loc[filter_radio_AGN_p, 'Z'], full_catalog_df.loc[filter_radio_AGN_p, 'pred_Z'])\n",
    "out_frac_field             = outlier_frac(full_catalog_df.loc[filter_radio_AGN_p, 'Z'], full_catalog_df.loc[filter_radio_AGN_p, 'pred_Z'])"
   ]
  },
  {
   "cell_type": "code",
   "execution_count": 67,
   "metadata": {
    "jupyter": {
     "source_hidden": true
    },
    "tags": []
   },
   "outputs": [],
   "source": [
    "temp_z_limit               = 3.6\n",
    "filt_high_z_rAGN_p         = filter_radio_AGN_p * (full_catalog_df.loc[:, 'pred_Z'] >= temp_z_limit)\n",
    "sigma_mad_field_hiz        = sigma_mad(full_catalog_df.loc[filt_high_z_rAGN_p, 'Z'],    full_catalog_df.loc[filt_high_z_rAGN_p, 'pred_Z'])\n",
    "sigma_nmad_field_hiz       = sigma_nmad(full_catalog_df.loc[filt_high_z_rAGN_p, 'Z'],   full_catalog_df.loc[filt_high_z_rAGN_p, 'pred_Z'])\n",
    "sigma_z_field_hiz          = sigma_z(full_catalog_df.loc[filt_high_z_rAGN_p, 'Z'],      full_catalog_df.loc[filt_high_z_rAGN_p, 'pred_Z'])\n",
    "sigma_z_norm_field_hiz     = sigma_z_norm(full_catalog_df.loc[filt_high_z_rAGN_p, 'Z'], full_catalog_df.loc[filt_high_z_rAGN_p, 'pred_Z'])\n",
    "out_frac_field_hiz         = outlier_frac(full_catalog_df.loc[filt_high_z_rAGN_p, 'Z'], full_catalog_df.loc[filt_high_z_rAGN_p, 'pred_Z'])"
   ]
  },
  {
   "cell_type": "markdown",
   "metadata": {},
   "source": [
    "Plot histograms for scores."
   ]
  },
  {
   "cell_type": "code",
   "execution_count": 68,
   "metadata": {
    "jupyter": {
     "source_hidden": true
    },
    "tags": []
   },
   "outputs": [
    {
     "data": {
      "image/png": "[encoded data removed]",
      "text/plain": [
       "<Figure size 700x500 with 1 Axes>"
      ]
     },
     "metadata": {},
     "output_type": "display_data"
    }
   ],
   "source": [
    "fig             = plt.figure(figsize=(7,5.0))\n",
    "ax1             = fig.add_subplot(111, xscale='linear', yscale='log')\n",
    "\n",
    "min_score  = np.nanmin(full_catalog_df.loc[filter_non_str_p, 'Score_AGN'])\n",
    "max_score  = np.nanmax(full_catalog_df.loc[filter_non_str_p, 'Score_AGN'])\n",
    "score_bins = np.linspace(min_score, max_score, 30)\n",
    "\n",
    "sample_size = np.sum(filter_non_str_p)\n",
    "\n",
    "ax1.hist(full_catalog_df.loc[filter_non_str_p, 'Score_AGN'], bins=score_bins, histtype='stepfilled', ec='k',\\\n",
    "         lw=3.5, color=cm.get_cmap('cet_gray')(0.8), alpha=1.0, label=f'{used_area} known sources\\nN={sample_size:,}')\n",
    "\n",
    "ax1.axvline(x=0.5, ls='--', c='k', lw=2.5)\n",
    "ax1.axvline(x=threshold_AGN, ls='--', c='k', lw=2.5, zorder=10)\n",
    "    \n",
    "ax1.tick_params(which='both', top=True, right=True, direction='in')\n",
    "ax1.tick_params(axis='both', which='major', labelsize=14)\n",
    "ax1.tick_params(which='major', length=8, width=1.5)\n",
    "ax1.tick_params(which='minor', length=4, width=1.5)\n",
    "ax1.set_xlabel('AGN/Galaxy class score', size=20)\n",
    "ax1.set_ylabel('Frequency', size=20)\n",
    "plt.setp(ax1.spines.values(), linewidth=3.5)\n",
    "plt.setp(ax1.spines.values(), linewidth=3.5)\n",
    "plt.legend(loc=1, fontsize=14)\n",
    "plt.grid(False)\n",
    "#ax1.set_aspect('equal', 'box')\n",
    "fig.tight_layout()\n",
    "if save_plot_flag:\n",
    "    plt.savefig(f'plots/hist_predicted_AGN_scores_known_{used_area}.pdf', bbox_inches='tight')\n",
    "plt.show()"
   ]
  },
  {
   "cell_type": "code",
   "execution_count": 69,
   "metadata": {
    "jupyter": {
     "source_hidden": true
    },
    "tags": []
   },
   "outputs": [
    {
     "data": {
      "image/png": "[encoded data removed]",
      "text/plain": [
       "<Figure size 700x500 with 1 Axes>"
      ]
     },
     "metadata": {},
     "output_type": "display_data"
    }
   ],
   "source": [
    "fig             = plt.figure(figsize=(7,5.0))\n",
    "ax1             = fig.add_subplot(111, xscale='linear', yscale='log')\n",
    "\n",
    "min_score  = np.nanmin(unknown_cat_df.loc[filter_non_str_unk_p, 'Score_AGN'])\n",
    "max_score  = np.nanmax(unknown_cat_df.loc[filter_non_str_unk_p, 'Score_AGN'])\n",
    "score_bins = np.linspace(min_score, max_score, 30)\n",
    "\n",
    "sample_size = np.sum(filter_non_str_unk_p)\n",
    "\n",
    "ax1.hist(unknown_cat_df.loc[filter_non_str_unk_p, 'Score_AGN'], bins=score_bins, histtype='stepfilled', ec='k',\\\n",
    "         lw=3.5, color=cm.get_cmap('cet_gray')(0.8), alpha=1.0, label=f'{used_area} unknown sources\\nN={sample_size:,}')\n",
    "\n",
    "ax1.axvline(x=0.5, ls='--', c='k', lw=2.5)\n",
    "ax1.axvline(x=threshold_AGN, ls='--', c='k', lw=2.5, zorder=10)\n",
    "    \n",
    "ax1.tick_params(which='both', top=True, right=True, direction='in')\n",
    "ax1.tick_params(axis='both', which='major', labelsize=14)\n",
    "ax1.tick_params(which='major', length=8, width=1.5)\n",
    "ax1.tick_params(which='minor', length=4, width=1.5)\n",
    "ax1.set_xlabel('AGN/Galaxy class score', size=20)\n",
    "ax1.set_ylabel('Frequency', size=20)\n",
    "plt.setp(ax1.spines.values(), linewidth=3.5)\n",
    "plt.setp(ax1.spines.values(), linewidth=3.5)\n",
    "plt.legend(loc=1, fontsize=14)\n",
    "plt.grid(False)\n",
    "#ax1.set_aspect('equal', 'box')\n",
    "fig.tight_layout()\n",
    "if save_plot_flag:\n",
    "    plt.savefig(f'plots/hist_predicted_AGN_scores_unknown_{used_area}.pdf', bbox_inches='tight')\n",
    "plt.show()"
   ]
  },
  {
   "cell_type": "code",
   "execution_count": 70,
   "metadata": {
    "jupyter": {
     "source_hidden": true
    },
    "tags": []
   },
   "outputs": [
    {
     "data": {
      "image/png": "[encoded data removed]",
      "text/plain": [
       "<Figure size 700x500 with 1 Axes>"
      ]
     },
     "metadata": {},
     "output_type": "display_data"
    }
   ],
   "source": [
    "fig             = plt.figure(figsize=(7,5.0))\n",
    "ax1             = fig.add_subplot(111, xscale='linear', yscale='log')\n",
    "\n",
    "min_score       = np.nanmin(full_catalog_df.loc[filter_AGN_p, 'Score_radio'])\n",
    "max_score       = np.nanmax(full_catalog_df.loc[filter_AGN_p, 'Score_radio'])\n",
    "score_bins      = np.linspace(min_score, max_score, 30)\n",
    "\n",
    "sample_size     = np.sum(filter_AGN_p)\n",
    "\n",
    "ax1.hist(full_catalog_df.loc[filter_AGN_p, 'Score_radio'], bins=score_bins,\\\n",
    "         histtype='stepfilled', ec='k', lw=3.5, color=cm.get_cmap('cet_gray')(0.8), alpha=0.9,\\\n",
    "         label=f'{used_area} known sources\\nN={sample_size:,}')\n",
    "\n",
    "ax1.axvline(x=0.5, ls='--', c='k', lw=2.5, zorder=10)\n",
    "ax1.axvline(x=threshold_radio, ls='--', c='k', lw=2.5, zorder=10)\n",
    "    \n",
    "ax1.tick_params(which='both', top=True, right=True, direction='in')\n",
    "ax1.tick_params(axis='both', which='major', labelsize=14)\n",
    "ax1.tick_params(which='major', length=8, width=1.5)\n",
    "ax1.tick_params(which='minor', length=4, width=1.5)\n",
    "ax1.set_xlabel('Radio detection score', size=20)\n",
    "ax1.set_ylabel('Frequency', size=20)\n",
    "plt.setp(ax1.spines.values(), linewidth=3.5)\n",
    "plt.setp(ax1.spines.values(), linewidth=3.5)\n",
    "plt.legend(loc=1, fontsize=14)\n",
    "plt.grid(False)\n",
    "fig.tight_layout()\n",
    "#ax1.set_aspect('equal', 'box')\n",
    "if save_plot_flag:\n",
    "    plt.savefig(f'plots/hist_predicted_radio_scores_pred_AGN_known_{used_area}.pdf', bbox_inches='tight')\n",
    "plt.show()"
   ]
  },
  {
   "cell_type": "code",
   "execution_count": 71,
   "metadata": {
    "jupyter": {
     "source_hidden": true
    },
    "tags": []
   },
   "outputs": [
    {
     "data": {
      "image/png": "[encoded data removed]",
      "text/plain": [
       "<Figure size 700x500 with 1 Axes>"
      ]
     },
     "metadata": {},
     "output_type": "display_data"
    }
   ],
   "source": [
    "fig             = plt.figure(figsize=(7,5.0))\n",
    "ax1             = fig.add_subplot(111, xscale='linear', yscale='log')\n",
    "\n",
    "min_score       = np.nanmin(unknown_cat_df.loc[filter_AGN_unk_p, 'Score_radio'])\n",
    "max_score       = np.nanmax(unknown_cat_df.loc[filter_AGN_unk_p, 'Score_radio'])\n",
    "score_bins      = np.linspace(min_score, max_score, 30)\n",
    "\n",
    "sample_size     = np.sum(filter_AGN_unk_p)\n",
    "\n",
    "ax1.hist(unknown_cat_df.loc[filter_AGN_unk_p, 'Score_radio'], bins=score_bins,\\\n",
    "         histtype='stepfilled', ec='k', lw=3.5, color=cm.get_cmap('cet_gray')(0.8), alpha=0.9,\\\n",
    "         label=f'{used_area} unknown sources\\nN={sample_size:,}')\n",
    "\n",
    "ax1.axvline(x=0.5, ls='--', c='k', lw=2.5, zorder=10)\n",
    "ax1.axvline(x=threshold_radio, ls='--', c='k', lw=2.5, zorder=10)\n",
    "    \n",
    "ax1.tick_params(which='both', top=True, right=True, direction='in')\n",
    "ax1.tick_params(axis='both', which='major', labelsize=14)\n",
    "ax1.tick_params(which='major', length=8, width=1.5)\n",
    "ax1.tick_params(which='minor', length=4, width=1.5)\n",
    "ax1.set_xlabel('Radio detection score', size=20)\n",
    "ax1.set_ylabel('Frequency', size=20)\n",
    "plt.setp(ax1.spines.values(), linewidth=3.5)\n",
    "plt.setp(ax1.spines.values(), linewidth=3.5)\n",
    "plt.legend(loc=1, fontsize=14)\n",
    "plt.grid(False)\n",
    "fig.tight_layout()\n",
    "#ax1.set_aspect('equal', 'box')\n",
    "if save_plot_flag:\n",
    "    plt.savefig(f'plots/hist_predicted_radio_scores_pred_AGN_unknown_{used_area}.pdf', bbox_inches='tight')\n",
    "plt.show()"
   ]
  },
  {
   "cell_type": "code",
   "execution_count": 72,
   "metadata": {
    "jupyter": {
     "source_hidden": true
    },
    "tags": []
   },
   "outputs": [
    {
     "data": {
      "image/png": "[encoded data removed]",
      "text/plain": [
       "<Figure size 700x500 with 1 Axes>"
      ]
     },
     "metadata": {},
     "output_type": "display_data"
    }
   ],
   "source": [
    "fig             = plt.figure(figsize=(7,5.0))\n",
    "ax1             = fig.add_subplot(111, xscale='linear', yscale='log')\n",
    "\n",
    "min_score       = np.nanmin(full_catalog_df.loc[filter_non_str_p, 'scaled_score_rAGN'])\n",
    "max_score       = np.nanmax(full_catalog_df.loc[filter_non_str_p, 'scaled_score_rAGN'])\n",
    "score_bins      = np.linspace(min_score, max_score, 30)\n",
    "\n",
    "sample_size     = np.sum(filter_non_str_p)\n",
    "\n",
    "ax1.hist(full_catalog_df.loc[filter_non_str_p, 'scaled_score_rAGN'], bins=score_bins,\\\n",
    "         histtype='stepfilled', ec='k', lw=3.5, color=cm.get_cmap('cet_gray')(0.8), alpha=0.9,\\\n",
    "         label=f'{used_area} known sources\\nN={sample_size:,}')\n",
    "\n",
    "# ax1.axvline(x=0.5, ls='--', c='k', lw=2.5, zorder=10)\n",
    "    \n",
    "ax1.tick_params(which='both', top=True, right=True, direction='in')\n",
    "ax1.tick_params(axis='both', which='major', labelsize=14)\n",
    "ax1.tick_params(which='major', length=8, width=1.5)\n",
    "ax1.tick_params(which='minor', length=4, width=1.5)\n",
    "ax1.set_xlabel('Scaled Radio AGN score', size=20)\n",
    "ax1.set_ylabel('Frequency', size=20)\n",
    "plt.setp(ax1.spines.values(), linewidth=3.5)\n",
    "plt.setp(ax1.spines.values(), linewidth=3.5)\n",
    "plt.legend(loc=1, fontsize=14)\n",
    "plt.grid(False)\n",
    "fig.tight_layout()\n",
    "#ax1.set_aspect('equal', 'box')\n",
    "if save_plot_flag:\n",
    "    plt.savefig(f'plots/hist_predicted_rAGN_scores_known_{used_area}.pdf', bbox_inches='tight')\n",
    "plt.show()"
   ]
  },
  {
   "cell_type": "code",
   "execution_count": 73,
   "metadata": {
    "jupyter": {
     "source_hidden": true
    },
    "tags": []
   },
   "outputs": [
    {
     "data": {
      "image/png": "[encoded data removed]",
      "text/plain": [
       "<Figure size 700x500 with 1 Axes>"
      ]
     },
     "metadata": {},
     "output_type": "display_data"
    }
   ],
   "source": [
    "fig             = plt.figure(figsize=(7,5.0))\n",
    "ax1             = fig.add_subplot(111, xscale='linear', yscale='log')\n",
    "\n",
    "min_score       = np.nanmin(unknown_cat_df.loc[filter_non_str_unk_p, 'scaled_score_rAGN'])\n",
    "max_score       = np.nanmax(unknown_cat_df.loc[filter_non_str_unk_p, 'scaled_score_rAGN'])\n",
    "score_bins      = np.linspace(min_score, max_score, 30)\n",
    "\n",
    "sample_size     = np.sum(filter_non_str_unk_p)\n",
    "\n",
    "ax1.hist(unknown_cat_df.loc[filter_non_str_unk_p, 'scaled_score_rAGN'], bins=score_bins,\\\n",
    "         histtype='stepfilled', ec='k', lw=3.5, color=cm.get_cmap('cet_gray')(0.8), alpha=0.9,\\\n",
    "         label=f'{used_area} unknown sources\\nN={sample_size:,}')\n",
    "\n",
    "# ax1.axvline(x=0.5, ls='--', c='k', lw=2.5, zorder=10)\n",
    "    \n",
    "ax1.tick_params(which='both', top=True, right=True, direction='in')\n",
    "ax1.tick_params(axis='both', which='major', labelsize=14)\n",
    "ax1.tick_params(which='major', length=8, width=1.5)\n",
    "ax1.tick_params(which='minor', length=4, width=1.5)\n",
    "ax1.set_xlabel('Scaled Radio AGN score', size=20)\n",
    "ax1.set_ylabel('Frequency', size=20)\n",
    "plt.setp(ax1.spines.values(), linewidth=3.5)\n",
    "plt.setp(ax1.spines.values(), linewidth=3.5)\n",
    "plt.legend(loc=1, fontsize=14)\n",
    "plt.grid(False)\n",
    "fig.tight_layout()\n",
    "#ax1.set_aspect('equal', 'box')\n",
    "if save_plot_flag:\n",
    "    plt.savefig(f'plots/hist_predicted_rAGN_unknown_{used_area}.pdf', bbox_inches='tight')\n",
    "plt.show()"
   ]
  },
  {
   "cell_type": "markdown",
   "metadata": {},
   "source": [
    "Plot histograms for predicted and original redshifts."
   ]
  },
  {
   "cell_type": "code",
   "execution_count": 74,
   "metadata": {
    "jupyter": {
     "source_hidden": true
    },
    "tags": []
   },
   "outputs": [
    {
     "data": {
      "image/png": "[encoded data removed]",
      "text/plain": [
       "<Figure size 700x500 with 1 Axes>"
      ]
     },
     "metadata": {},
     "output_type": "display_data"
    }
   ],
   "source": [
    "fig             = plt.figure(figsize=(7,5.0))\n",
    "ax1             = fig.add_subplot(111, xscale='linear', yscale='log')\n",
    "\n",
    "min_score       = np.nanmin(full_catalog_df.loc[filter_radio_AGN_p, 'pred_Z'])\n",
    "max_score       = np.nanmax(full_catalog_df.loc[filter_radio_AGN_p, 'pred_Z'])\n",
    "score_bins      = np.linspace(min_score, max_score, 30)\n",
    "\n",
    "sample_size     = np.sum(filter_radio_AGN_p)\n",
    "\n",
    "ax1.hist(full_catalog_df.loc[filter_radio_AGN_p, 'pred_Z'], bins=score_bins,\\\n",
    "         histtype='stepfilled', ec='k', lw=3.5, color=cm.get_cmap('cet_gray')(0.8), alpha=0.9,\\\n",
    "         label=f'{used_area} known sources\\nN={sample_size:,}')\n",
    "\n",
    "ax1.axvline(x=redshift_lim_c, ls='--', c='k', lw=2.5, zorder=10)\n",
    "    \n",
    "ax1.tick_params(which='both', top=True, right=True, direction='in')\n",
    "ax1.tick_params(axis='both', which='major', labelsize=14)\n",
    "ax1.tick_params(which='major', length=8, width=1.5)\n",
    "ax1.tick_params(which='minor', length=4, width=1.5)\n",
    "ax1.set_xlabel('Predicted redshift', size=20)\n",
    "ax1.set_ylabel('Frequency', size=20)\n",
    "plt.setp(ax1.spines.values(), linewidth=3.5)\n",
    "plt.setp(ax1.spines.values(), linewidth=3.5)\n",
    "plt.legend(loc=1, fontsize=14)\n",
    "plt.grid(False)\n",
    "#ax1.set_aspect('equal', 'box')\n",
    "fig.tight_layout()\n",
    "if save_plot_flag:\n",
    "    plt.savefig(f'plots/hist_predicted_redshift_rAGN_known_{used_area}.pdf', bbox_inches='tight')\n",
    "plt.show()"
   ]
  },
  {
   "cell_type": "code",
   "execution_count": 75,
   "metadata": {
    "jupyter": {
     "source_hidden": true
    },
    "tags": []
   },
   "outputs": [
    {
     "data": {
      "image/png": "[encoded data removed]",
      "text/plain": [
       "<Figure size 700x500 with 1 Axes>"
      ]
     },
     "metadata": {},
     "output_type": "display_data"
    }
   ],
   "source": [
    "fig             = plt.figure(figsize=(7,5.0))\n",
    "ax1             = fig.add_subplot(111, xscale='linear', yscale='log')\n",
    "\n",
    "min_score       = np.nanmin(unknown_cat_df.loc[filter_radio_AGN_unk_p, 'pred_Z'])\n",
    "max_score       = np.nanmax(unknown_cat_df.loc[filter_radio_AGN_unk_p, 'pred_Z'])\n",
    "score_bins      = np.linspace(min_score, max_score, 30)\n",
    "\n",
    "sample_size     = np.sum(filter_radio_AGN_unk_p)\n",
    "\n",
    "ax1.hist(unknown_cat_df.loc[filter_radio_AGN_unk_p, 'pred_Z'], bins=score_bins,\\\n",
    "         histtype='stepfilled', ec='k', lw=3.5, color=cm.get_cmap('cet_gray')(0.8), alpha=0.9,\\\n",
    "         label=f'{used_area} unknown sources\\nN={sample_size:,}')\n",
    "\n",
    "ax1.axvline(x=redshift_lim_c, ls='--', c='k', lw=2.5, zorder=10)\n",
    "    \n",
    "ax1.tick_params(which='both', top=True, right=True, direction='in')\n",
    "ax1.tick_params(axis='both', which='major', labelsize=14)\n",
    "ax1.tick_params(which='major', length=8, width=1.5)\n",
    "ax1.tick_params(which='minor', length=4, width=1.5)\n",
    "ax1.set_xlabel('Predicted redshift', size=20)\n",
    "ax1.set_ylabel('Frequency', size=20)\n",
    "plt.setp(ax1.spines.values(), linewidth=3.5)\n",
    "plt.setp(ax1.spines.values(), linewidth=3.5)\n",
    "plt.legend(loc=1, fontsize=14)\n",
    "plt.grid(False)\n",
    "#ax1.set_aspect('equal', 'box')\n",
    "fig.tight_layout()\n",
    "if save_plot_flag:\n",
    "    plt.savefig(f'plots/hist_predicted_redshift_rAGN_unknown_{used_area}.pdf', bbox_inches='tight')\n",
    "plt.show()"
   ]
  },
  {
   "cell_type": "code",
   "execution_count": 76,
   "metadata": {
    "jupyter": {
     "source_hidden": true
    }
   },
   "outputs": [
    {
     "data": {
      "text/html": [
       "<div>\n",
       "<style scoped>\n",
       "    .dataframe tbody tr th:only-of-type {\n",
       "        vertical-align: middle;\n",
       "    }\n",
       "\n",
       "    .dataframe tbody tr th {\n",
       "        vertical-align: top;\n",
       "    }\n",
       "\n",
       "    .dataframe thead th {\n",
       "        text-align: right;\n",
       "    }\n",
       "</style>\n",
       "<table border=\"1\" class=\"dataframe\">\n",
       "  <thead>\n",
       "    <tr style=\"text-align: right;\">\n",
       "      <th></th>\n",
       "      <th>class</th>\n",
       "      <th>pred_class</th>\n",
       "      <th>radio_detect</th>\n",
       "      <th>pred_radio</th>\n",
       "      <th>Z</th>\n",
       "      <th>pred_Z</th>\n",
       "    </tr>\n",
       "  </thead>\n",
       "  <tbody>\n",
       "    <tr>\n",
       "      <th>count</th>\n",
       "      <td>340.000000</td>\n",
       "      <td>340.0</td>\n",
       "      <td>340.000000</td>\n",
       "      <td>340.0</td>\n",
       "      <td>313.000000</td>\n",
       "      <td>340.000000</td>\n",
       "    </tr>\n",
       "    <tr>\n",
       "      <th>mean</th>\n",
       "      <td>0.991176</td>\n",
       "      <td>1.0</td>\n",
       "      <td>0.676471</td>\n",
       "      <td>1.0</td>\n",
       "      <td>1.077768</td>\n",
       "      <td>1.187689</td>\n",
       "    </tr>\n",
       "    <tr>\n",
       "      <th>std</th>\n",
       "      <td>0.093656</td>\n",
       "      <td>0.0</td>\n",
       "      <td>0.468512</td>\n",
       "      <td>0.0</td>\n",
       "      <td>0.727100</td>\n",
       "      <td>0.552016</td>\n",
       "    </tr>\n",
       "    <tr>\n",
       "      <th>min</th>\n",
       "      <td>0.000000</td>\n",
       "      <td>1.0</td>\n",
       "      <td>0.000000</td>\n",
       "      <td>1.0</td>\n",
       "      <td>0.044000</td>\n",
       "      <td>0.051400</td>\n",
       "    </tr>\n",
       "    <tr>\n",
       "      <th>25%</th>\n",
       "      <td>1.000000</td>\n",
       "      <td>1.0</td>\n",
       "      <td>0.000000</td>\n",
       "      <td>1.0</td>\n",
       "      <td>0.554000</td>\n",
       "      <td>0.813850</td>\n",
       "    </tr>\n",
       "    <tr>\n",
       "      <th>50%</th>\n",
       "      <td>1.000000</td>\n",
       "      <td>1.0</td>\n",
       "      <td>1.000000</td>\n",
       "      <td>1.0</td>\n",
       "      <td>0.969000</td>\n",
       "      <td>1.131550</td>\n",
       "    </tr>\n",
       "    <tr>\n",
       "      <th>75%</th>\n",
       "      <td>1.000000</td>\n",
       "      <td>1.0</td>\n",
       "      <td>1.000000</td>\n",
       "      <td>1.0</td>\n",
       "      <td>1.405000</td>\n",
       "      <td>1.599175</td>\n",
       "    </tr>\n",
       "    <tr>\n",
       "      <th>max</th>\n",
       "      <td>1.000000</td>\n",
       "      <td>1.0</td>\n",
       "      <td>1.000000</td>\n",
       "      <td>1.0</td>\n",
       "      <td>4.660000</td>\n",
       "      <td>2.707300</td>\n",
       "    </tr>\n",
       "  </tbody>\n",
       "</table>\n",
       "</div>"
      ],
      "text/plain": [
       "            class  pred_class  radio_detect  pred_radio           Z  \\\n",
       "count  340.000000       340.0    340.000000       340.0  313.000000   \n",
       "mean     0.991176         1.0      0.676471         1.0    1.077768   \n",
       "std      0.093656         0.0      0.468512         0.0    0.727100   \n",
       "min      0.000000         1.0      0.000000         1.0    0.044000   \n",
       "25%      1.000000         1.0      0.000000         1.0    0.554000   \n",
       "50%      1.000000         1.0      1.000000         1.0    0.969000   \n",
       "75%      1.000000         1.0      1.000000         1.0    1.405000   \n",
       "max      1.000000         1.0      1.000000         1.0    4.660000   \n",
       "\n",
       "           pred_Z  \n",
       "count  340.000000  \n",
       "mean     1.187689  \n",
       "std      0.552016  \n",
       "min      0.051400  \n",
       "25%      0.813850  \n",
       "50%      1.131550  \n",
       "75%      1.599175  \n",
       "max      2.707300  "
      ]
     },
     "metadata": {},
     "output_type": "display_data"
    },
    {
     "data": {
      "text/html": [
       "<div>\n",
       "<style scoped>\n",
       "    .dataframe tbody tr th:only-of-type {\n",
       "        vertical-align: middle;\n",
       "    }\n",
       "\n",
       "    .dataframe tbody tr th {\n",
       "        vertical-align: top;\n",
       "    }\n",
       "\n",
       "    .dataframe thead th {\n",
       "        text-align: right;\n",
       "    }\n",
       "</style>\n",
       "<table border=\"1\" class=\"dataframe\">\n",
       "  <thead>\n",
       "    <tr style=\"text-align: right;\">\n",
       "      <th></th>\n",
       "      <th>class</th>\n",
       "      <th>pred_class</th>\n",
       "      <th>radio_detect</th>\n",
       "      <th>pred_radio</th>\n",
       "      <th>Z</th>\n",
       "      <th>pred_Z</th>\n",
       "    </tr>\n",
       "  </thead>\n",
       "  <tbody>\n",
       "    <tr>\n",
       "      <th>count</th>\n",
       "      <td>7377.0</td>\n",
       "      <td>7377.0</td>\n",
       "      <td>7377.000000</td>\n",
       "      <td>7377.0</td>\n",
       "      <td>9.000000</td>\n",
       "      <td>7377.000000</td>\n",
       "    </tr>\n",
       "    <tr>\n",
       "      <th>mean</th>\n",
       "      <td>0.5</td>\n",
       "      <td>1.0</td>\n",
       "      <td>0.212146</td>\n",
       "      <td>1.0</td>\n",
       "      <td>0.000236</td>\n",
       "      <td>1.638902</td>\n",
       "    </tr>\n",
       "    <tr>\n",
       "      <th>std</th>\n",
       "      <td>0.0</td>\n",
       "      <td>0.0</td>\n",
       "      <td>0.408855</td>\n",
       "      <td>0.0</td>\n",
       "      <td>0.000412</td>\n",
       "      <td>0.675912</td>\n",
       "    </tr>\n",
       "    <tr>\n",
       "      <th>min</th>\n",
       "      <td>0.5</td>\n",
       "      <td>1.0</td>\n",
       "      <td>0.000000</td>\n",
       "      <td>1.0</td>\n",
       "      <td>-0.000020</td>\n",
       "      <td>0.042900</td>\n",
       "    </tr>\n",
       "    <tr>\n",
       "      <th>25%</th>\n",
       "      <td>0.5</td>\n",
       "      <td>1.0</td>\n",
       "      <td>0.000000</td>\n",
       "      <td>1.0</td>\n",
       "      <td>0.000030</td>\n",
       "      <td>1.161200</td>\n",
       "    </tr>\n",
       "    <tr>\n",
       "      <th>50%</th>\n",
       "      <td>0.5</td>\n",
       "      <td>1.0</td>\n",
       "      <td>0.000000</td>\n",
       "      <td>1.0</td>\n",
       "      <td>0.000040</td>\n",
       "      <td>1.715400</td>\n",
       "    </tr>\n",
       "    <tr>\n",
       "      <th>75%</th>\n",
       "      <td>0.5</td>\n",
       "      <td>1.0</td>\n",
       "      <td>0.000000</td>\n",
       "      <td>1.0</td>\n",
       "      <td>0.000170</td>\n",
       "      <td>1.950400</td>\n",
       "    </tr>\n",
       "    <tr>\n",
       "      <th>max</th>\n",
       "      <td>0.5</td>\n",
       "      <td>1.0</td>\n",
       "      <td>1.000000</td>\n",
       "      <td>1.0</td>\n",
       "      <td>0.001200</td>\n",
       "      <td>4.579000</td>\n",
       "    </tr>\n",
       "  </tbody>\n",
       "</table>\n",
       "</div>"
      ],
      "text/plain": [
       "        class  pred_class  radio_detect  pred_radio         Z       pred_Z\n",
       "count  7377.0      7377.0   7377.000000      7377.0  9.000000  7377.000000\n",
       "mean      0.5         1.0      0.212146         1.0  0.000236     1.638902\n",
       "std       0.0         0.0      0.408855         0.0  0.000412     0.675912\n",
       "min       0.5         1.0      0.000000         1.0 -0.000020     0.042900\n",
       "25%       0.5         1.0      0.000000         1.0  0.000030     1.161200\n",
       "50%       0.5         1.0      0.000000         1.0  0.000040     1.715400\n",
       "75%       0.5         1.0      0.000000         1.0  0.000170     1.950400\n",
       "max       0.5         1.0      1.000000         1.0  0.001200     4.579000"
      ]
     },
     "metadata": {},
     "output_type": "display_data"
    }
   ],
   "source": [
    "displayed_cols = ['is_str', 'pred_star', 'class', 'pred_class', 'radio_detect', 'pred_radio', 'Z', 'pred_Z']\n",
    "if not use_zeroth_model:\n",
    "    displayed_cols.remove('is_str')\n",
    "    displayed_cols.remove('pred_star')\n",
    "display(full_catalog_df.loc[filter_radio_AGN_p, displayed_cols].describe())\n",
    "display(unknown_cat_df.loc[filter_radio_AGN_unk_p, displayed_cols].describe())"
   ]
  },
  {
   "cell_type": "markdown",
   "metadata": {},
   "source": [
    "Add individual metrics for redshift"
   ]
  },
  {
   "cell_type": "code",
   "execution_count": 77,
   "metadata": {
    "jupyter": {
     "source_hidden": true
    },
    "tags": []
   },
   "outputs": [],
   "source": [
    "full_catalog_df['Delta_z_N'] = np.around((full_catalog_df.loc[:, 'pred_Z'] - full_catalog_df.loc[:, 'Z']) /\\\n",
    "                            (1 + full_catalog_df.loc[:, 'Z']), decimals=3)\n",
    "\n",
    "full_catalog_df['sigma_NMAD'] = np.around(1.48 * np.abs(full_catalog_df.loc[:, 'pred_Z'] - full_catalog_df.loc[:, 'Z']) /\\\n",
    "                            (1 + full_catalog_df.loc[:, 'Z']), decimals=3)"
   ]
  },
  {
   "cell_type": "markdown",
   "metadata": {},
   "source": [
    "Numerical summary."
   ]
  },
  {
   "cell_type": "code",
   "execution_count": 78,
   "metadata": {
    "jupyter": {
     "source_hidden": true
    },
    "tags": []
   },
   "outputs": [],
   "source": [
    "str_0_t     = f'Out of {total_size:,} initially known sources in {used_area},\\n'\n",
    "str_1_t     = f'{num_gal_t:,} are confirmed to be galaxies. On the other side,\\n'\n",
    "str_2_t     = f'{num_str_t:,} are listed as SDSS-DR16 stars and {num_AGN_t:,} are MQC AGN.\\n'\n",
    "str_3_t     = f'Also, {num_radio_AGN_t:,} AGN are detected in radio (i.e. Radio Galaxies).'\n",
    "\n",
    "str_0_kno_p = f'Out of {len(full_catalog_df):,} initially known sources in {used_area},\\n'\n",
    "str_1_kno_p = f'{num_gal_p:,} are predicted to be galaxies. On the other side,\\n'\n",
    "str_2_kno_p = f'{num_str_p:,} are predicted as SDSS-DR16 stars and {num_AGN_p:,} are MQC AGN.\\n'\n",
    "str_3_kno_p = f'Also, {num_radio_AGN_p:,} AGN are predicted to bedetected in radio.'\n",
    "\n",
    "str_0_unk_p = f'Out of {len(unknown_cat_df):,} initially unknown sources in {used_area},\\n'\n",
    "str_1_unk_p = f'{num_gal_unk_p:,} are predicted to be galaxies. On the other side,\\n'\n",
    "str_2_unk_p = f'{num_str_unk_p:,} are predicted as SDSS-DR16 stars and {num_AGN_unk_p:,} are MQC AGN.\\n'\n",
    "str_3_unk_p = f'Also, {num_radio_AGN_unk_p:,} AGN are predicted to be detected in radio.'"
   ]
  },
  {
   "cell_type": "code",
   "execution_count": 79,
   "metadata": {
    "jupyter": {
     "source_hidden": true
    },
    "tags": []
   },
   "outputs": [
    {
     "name": "stdout",
     "output_type": "stream",
     "text": [
      "------------------------------------------------------------\n",
      "Out of 1,502 initially known sources in COSMOS,\n",
      "331 are confirmed to be galaxies. On the other side,\n",
      "0 are listed as SDSS-DR16 stars and 1,171 are MQC AGN.\n",
      "Also, 569 AGN are detected in radio (i.e. Radio Galaxies).\n",
      "------------------------------------------------------------\n",
      "------------------------------------------------------------\n",
      "Out of 1,502 initially known sources in COSMOS,\n",
      "554 are predicted to be galaxies. On the other side,\n",
      "0 are predicted as SDSS-DR16 stars and 948 are MQC AGN.\n",
      "Also, 340 AGN are predicted to bedetected in radio.\n",
      "------------------------------------------------------------\n",
      "------------------------------------------------------------\n",
      "Out of 70,618 initially unknown sources in COSMOS,\n",
      "23,891 are predicted to be galaxies. On the other side,\n",
      "0 are predicted as SDSS-DR16 stars and 46,727 are MQC AGN.\n",
      "Also, 7,377 AGN are predicted to be detected in radio.\n",
      "------------------------------------------------------------\n"
     ]
    }
   ],
   "source": [
    "print('-' * 60)\n",
    "print(str_0_t + str_1_t + str_2_t + str_3_t)\n",
    "print('-' * 60)\n",
    "\n",
    "print('-' * 60)\n",
    "print(str_0_kno_p + str_1_kno_p + str_2_kno_p + str_3_kno_p)\n",
    "print('-' * 60)\n",
    "\n",
    "print('-' * 60)\n",
    "print(str_0_unk_p + str_1_unk_p + str_2_unk_p + str_3_unk_p)\n",
    "print('-' * 60)"
   ]
  },
  {
   "cell_type": "code",
   "execution_count": 80,
   "metadata": {
    "jupyter": {
     "source_hidden": true
    }
   },
   "outputs": [],
   "source": [
    "show_columns = ['Name', 'RA_ICRS', 'DE_ICRS', 'TYPE', 'band_num', 'class', 'pred_class', 'Score_AGN',\\\n",
    "                'radio_detect', 'pred_radio', 'scaled_score_radio', 'scaled_score_rAGN', 'Z', 'pred_Z']\n",
    "\n",
    "cols_4_table_pred_known   = ['RA_ICRS', 'DE_ICRS', 'band_num', 'class', 'Score_AGN', 'radio_detect',\\\n",
    "                             'Score_radio', 'Score_rAGN', 'Z', 'pred_Z']\n",
    "cols_4_table_pred_unknown = ['RA_ICRS', 'DE_ICRS', 'band_num', 'Score_AGN', 'radio_detect',\\\n",
    "                             'Score_radio', 'Score_rAGN', 'pred_Z']"
   ]
  },
  {
   "cell_type": "code",
   "execution_count": 81,
   "metadata": {
    "jupyter": {
     "source_hidden": true
    }
   },
   "outputs": [],
   "source": [
    "cols_4_export_S82    = ['Total_flux_VLASS', 'Fint_VLAS82', 'Stotal_TGSS', 'FEP']\n",
    "cols_4_export_HETDEX = ['Total_flux_VLASS', 'Sint_LOFAR', 'Stotal_TGSS', 'FEP', 'TotalFlux_LoLSS']\n",
    "cols_4_export_COSMOS = ['Total_flux_VLASS', 'Stotal_TGSS', 'FEP', 'Flux_COSMOSVLA3']\n",
    "\n",
    "cols_4_exp_all       = {'S82': cols_4_export_S82, 'HETDEX': cols_4_export_HETDEX, 'COSMOS': cols_4_export_COSMOS}\n",
    "\n",
    "cols_photo           = ['W1mproPM', 'W2mproPM', 'gmag', 'rmag', 'imag', 'zmag', 'ymag', 'FUVmag', 'NUVmag',\\\n",
    "                        'Jmag', 'Hmag', 'Kmag', 'W3mag', 'W4mag']\n",
    "\n",
    "cols_4_export        = show_columns + cols_4_exp_all[used_area] + cols_photo"
   ]
  },
  {
   "cell_type": "code",
   "execution_count": 82,
   "metadata": {},
   "outputs": [],
   "source": [
    "filter_high_z   = full_catalog_df.loc[:, 'pred_Z']    >= 3.7"
   ]
  },
  {
   "cell_type": "markdown",
   "metadata": {},
   "source": [
    "Display properties of predicted Radio AGN in known sample."
   ]
  },
  {
   "cell_type": "code",
   "execution_count": 83,
   "metadata": {},
   "outputs": [
    {
     "data": {
      "text/html": [
       "<div>\n",
       "<style scoped>\n",
       "    .dataframe tbody tr th:only-of-type {\n",
       "        vertical-align: middle;\n",
       "    }\n",
       "\n",
       "    .dataframe tbody tr th {\n",
       "        vertical-align: top;\n",
       "    }\n",
       "\n",
       "    .dataframe thead th {\n",
       "        text-align: right;\n",
       "    }\n",
       "</style>\n",
       "<table border=\"1\" class=\"dataframe\">\n",
       "  <thead>\n",
       "    <tr style=\"text-align: right;\">\n",
       "      <th></th>\n",
       "      <th>RA_ICRS</th>\n",
       "      <th>DE_ICRS</th>\n",
       "      <th>band_num</th>\n",
       "      <th>class</th>\n",
       "      <th>Score_AGN</th>\n",
       "      <th>radio_detect</th>\n",
       "      <th>Score_radio</th>\n",
       "      <th>Score_rAGN</th>\n",
       "      <th>Z</th>\n",
       "      <th>pred_Z</th>\n",
       "    </tr>\n",
       "  </thead>\n",
       "  <tbody>\n",
       "    <tr>\n",
       "      <th>46226</th>\n",
       "      <td>150.381638</td>\n",
       "      <td>2.505726</td>\n",
       "      <td>6</td>\n",
       "      <td>1.0</td>\n",
       "      <td>0.518291</td>\n",
       "      <td>1</td>\n",
       "      <td>0.533164</td>\n",
       "      <td>0.276334</td>\n",
       "      <td>1.809</td>\n",
       "      <td>2.7073</td>\n",
       "    </tr>\n",
       "    <tr>\n",
       "      <th>22895</th>\n",
       "      <td>149.777634</td>\n",
       "      <td>1.694904</td>\n",
       "      <td>12</td>\n",
       "      <td>1.0</td>\n",
       "      <td>0.437341</td>\n",
       "      <td>0</td>\n",
       "      <td>0.600202</td>\n",
       "      <td>0.262493</td>\n",
       "      <td>1.300</td>\n",
       "      <td>2.5975</td>\n",
       "    </tr>\n",
       "    <tr>\n",
       "      <th>55882</th>\n",
       "      <td>150.639328</td>\n",
       "      <td>1.883945</td>\n",
       "      <td>11</td>\n",
       "      <td>1.0</td>\n",
       "      <td>0.782742</td>\n",
       "      <td>0</td>\n",
       "      <td>0.627152</td>\n",
       "      <td>0.490898</td>\n",
       "      <td>0.300</td>\n",
       "      <td>2.4872</td>\n",
       "    </tr>\n",
       "    <tr>\n",
       "      <th>55637</th>\n",
       "      <td>149.930893</td>\n",
       "      <td>2.118666</td>\n",
       "      <td>11</td>\n",
       "      <td>1.0</td>\n",
       "      <td>0.950344</td>\n",
       "      <td>1</td>\n",
       "      <td>0.442769</td>\n",
       "      <td>0.420783</td>\n",
       "      <td>2.210</td>\n",
       "      <td>2.4807</td>\n",
       "    </tr>\n",
       "    <tr>\n",
       "      <th>38896</th>\n",
       "      <td>150.682159</td>\n",
       "      <td>2.785619</td>\n",
       "      <td>11</td>\n",
       "      <td>1.0</td>\n",
       "      <td>0.949294</td>\n",
       "      <td>0</td>\n",
       "      <td>0.663753</td>\n",
       "      <td>0.630097</td>\n",
       "      <td>2.546</td>\n",
       "      <td>2.4800</td>\n",
       "    </tr>\n",
       "    <tr>\n",
       "      <th>61320</th>\n",
       "      <td>149.552521</td>\n",
       "      <td>2.590802</td>\n",
       "      <td>11</td>\n",
       "      <td>1.0</td>\n",
       "      <td>0.692759</td>\n",
       "      <td>1</td>\n",
       "      <td>0.376866</td>\n",
       "      <td>0.261078</td>\n",
       "      <td>1.006</td>\n",
       "      <td>2.4660</td>\n",
       "    </tr>\n",
       "    <tr>\n",
       "      <th>55258</th>\n",
       "      <td>150.659378</td>\n",
       "      <td>1.629671</td>\n",
       "      <td>12</td>\n",
       "      <td>1.0</td>\n",
       "      <td>0.950282</td>\n",
       "      <td>1</td>\n",
       "      <td>0.465103</td>\n",
       "      <td>0.441979</td>\n",
       "      <td>2.506</td>\n",
       "      <td>2.4157</td>\n",
       "    </tr>\n",
       "    <tr>\n",
       "      <th>54107</th>\n",
       "      <td>150.171371</td>\n",
       "      <td>2.564153</td>\n",
       "      <td>6</td>\n",
       "      <td>1.0</td>\n",
       "      <td>0.320320</td>\n",
       "      <td>0</td>\n",
       "      <td>0.575014</td>\n",
       "      <td>0.184188</td>\n",
       "      <td>0.501</td>\n",
       "      <td>2.3671</td>\n",
       "    </tr>\n",
       "    <tr>\n",
       "      <th>62271</th>\n",
       "      <td>149.925293</td>\n",
       "      <td>2.684190</td>\n",
       "      <td>12</td>\n",
       "      <td>1.0</td>\n",
       "      <td>0.949964</td>\n",
       "      <td>1</td>\n",
       "      <td>0.755531</td>\n",
       "      <td>0.717727</td>\n",
       "      <td>1.780</td>\n",
       "      <td>2.3666</td>\n",
       "    </tr>\n",
       "    <tr>\n",
       "      <th>21363</th>\n",
       "      <td>149.649933</td>\n",
       "      <td>1.865833</td>\n",
       "      <td>11</td>\n",
       "      <td>1.0</td>\n",
       "      <td>0.949299</td>\n",
       "      <td>1</td>\n",
       "      <td>0.486063</td>\n",
       "      <td>0.461419</td>\n",
       "      <td>2.932</td>\n",
       "      <td>2.3155</td>\n",
       "    </tr>\n",
       "    <tr>\n",
       "      <th>5489</th>\n",
       "      <td>150.037201</td>\n",
       "      <td>2.244638</td>\n",
       "      <td>11</td>\n",
       "      <td>1.0</td>\n",
       "      <td>0.950127</td>\n",
       "      <td>1</td>\n",
       "      <td>0.650250</td>\n",
       "      <td>0.617820</td>\n",
       "      <td>2.536</td>\n",
       "      <td>2.3051</td>\n",
       "    </tr>\n",
       "    <tr>\n",
       "      <th>57026</th>\n",
       "      <td>149.744598</td>\n",
       "      <td>2.027437</td>\n",
       "      <td>11</td>\n",
       "      <td>1.0</td>\n",
       "      <td>0.950478</td>\n",
       "      <td>0</td>\n",
       "      <td>0.400128</td>\n",
       "      <td>0.380312</td>\n",
       "      <td>2.455</td>\n",
       "      <td>2.2677</td>\n",
       "    </tr>\n",
       "    <tr>\n",
       "      <th>39084</th>\n",
       "      <td>150.716080</td>\n",
       "      <td>1.769423</td>\n",
       "      <td>6</td>\n",
       "      <td>1.0</td>\n",
       "      <td>0.883836</td>\n",
       "      <td>1</td>\n",
       "      <td>0.621671</td>\n",
       "      <td>0.549455</td>\n",
       "      <td>2.459</td>\n",
       "      <td>2.2459</td>\n",
       "    </tr>\n",
       "    <tr>\n",
       "      <th>56657</th>\n",
       "      <td>150.156906</td>\n",
       "      <td>2.497000</td>\n",
       "      <td>8</td>\n",
       "      <td>1.0</td>\n",
       "      <td>0.364220</td>\n",
       "      <td>1</td>\n",
       "      <td>0.826309</td>\n",
       "      <td>0.300958</td>\n",
       "      <td>0.671</td>\n",
       "      <td>2.2046</td>\n",
       "    </tr>\n",
       "    <tr>\n",
       "      <th>4181</th>\n",
       "      <td>149.728668</td>\n",
       "      <td>2.602076</td>\n",
       "      <td>11</td>\n",
       "      <td>1.0</td>\n",
       "      <td>0.806520</td>\n",
       "      <td>0</td>\n",
       "      <td>0.456316</td>\n",
       "      <td>0.368028</td>\n",
       "      <td>0.300</td>\n",
       "      <td>2.2046</td>\n",
       "    </tr>\n",
       "    <tr>\n",
       "      <th>288</th>\n",
       "      <td>150.253220</td>\n",
       "      <td>1.965806</td>\n",
       "      <td>11</td>\n",
       "      <td>1.0</td>\n",
       "      <td>0.356632</td>\n",
       "      <td>0</td>\n",
       "      <td>0.546555</td>\n",
       "      <td>0.194919</td>\n",
       "      <td>0.426</td>\n",
       "      <td>2.1634</td>\n",
       "    </tr>\n",
       "    <tr>\n",
       "      <th>28211</th>\n",
       "      <td>149.477158</td>\n",
       "      <td>2.582351</td>\n",
       "      <td>10</td>\n",
       "      <td>1.0</td>\n",
       "      <td>0.454735</td>\n",
       "      <td>0</td>\n",
       "      <td>0.599267</td>\n",
       "      <td>0.272507</td>\n",
       "      <td>NaN</td>\n",
       "      <td>2.1538</td>\n",
       "    </tr>\n",
       "    <tr>\n",
       "      <th>62964</th>\n",
       "      <td>150.319885</td>\n",
       "      <td>1.681563</td>\n",
       "      <td>13</td>\n",
       "      <td>1.0</td>\n",
       "      <td>0.949789</td>\n",
       "      <td>1</td>\n",
       "      <td>0.456093</td>\n",
       "      <td>0.433192</td>\n",
       "      <td>2.056</td>\n",
       "      <td>2.1200</td>\n",
       "    </tr>\n",
       "    <tr>\n",
       "      <th>56717</th>\n",
       "      <td>150.165573</td>\n",
       "      <td>2.133574</td>\n",
       "      <td>11</td>\n",
       "      <td>1.0</td>\n",
       "      <td>0.558670</td>\n",
       "      <td>1</td>\n",
       "      <td>0.496125</td>\n",
       "      <td>0.277170</td>\n",
       "      <td>0.838</td>\n",
       "      <td>2.1114</td>\n",
       "    </tr>\n",
       "    <tr>\n",
       "      <th>1538</th>\n",
       "      <td>150.720688</td>\n",
       "      <td>2.693625</td>\n",
       "      <td>11</td>\n",
       "      <td>1.0</td>\n",
       "      <td>0.949781</td>\n",
       "      <td>1</td>\n",
       "      <td>0.533572</td>\n",
       "      <td>0.506776</td>\n",
       "      <td>2.611</td>\n",
       "      <td>2.0783</td>\n",
       "    </tr>\n",
       "  </tbody>\n",
       "</table>\n",
       "</div>"
      ],
      "text/plain": [
       "          RA_ICRS   DE_ICRS  band_num  class  Score_AGN  radio_detect  \\\n",
       "46226  150.381638  2.505726         6    1.0   0.518291             1   \n",
       "22895  149.777634  1.694904        12    1.0   0.437341             0   \n",
       "55882  150.639328  1.883945        11    1.0   0.782742             0   \n",
       "55637  149.930893  2.118666        11    1.0   0.950344             1   \n",
       "38896  150.682159  2.785619        11    1.0   0.949294             0   \n",
       "61320  149.552521  2.590802        11    1.0   0.692759             1   \n",
       "55258  150.659378  1.629671        12    1.0   0.950282             1   \n",
       "54107  150.171371  2.564153         6    1.0   0.320320             0   \n",
       "62271  149.925293  2.684190        12    1.0   0.949964             1   \n",
       "21363  149.649933  1.865833        11    1.0   0.949299             1   \n",
       "5489   150.037201  2.244638        11    1.0   0.950127             1   \n",
       "57026  149.744598  2.027437        11    1.0   0.950478             0   \n",
       "39084  150.716080  1.769423         6    1.0   0.883836             1   \n",
       "56657  150.156906  2.497000         8    1.0   0.364220             1   \n",
       "4181   149.728668  2.602076        11    1.0   0.806520             0   \n",
       "288    150.253220  1.965806        11    1.0   0.356632             0   \n",
       "28211  149.477158  2.582351        10    1.0   0.454735             0   \n",
       "62964  150.319885  1.681563        13    1.0   0.949789             1   \n",
       "56717  150.165573  2.133574        11    1.0   0.558670             1   \n",
       "1538   150.720688  2.693625        11    1.0   0.949781             1   \n",
       "\n",
       "       Score_radio  Score_rAGN      Z  pred_Z  \n",
       "46226     0.533164    0.276334  1.809  2.7073  \n",
       "22895     0.600202    0.262493  1.300  2.5975  \n",
       "55882     0.627152    0.490898  0.300  2.4872  \n",
       "55637     0.442769    0.420783  2.210  2.4807  \n",
       "38896     0.663753    0.630097  2.546  2.4800  \n",
       "61320     0.376866    0.261078  1.006  2.4660  \n",
       "55258     0.465103    0.441979  2.506  2.4157  \n",
       "54107     0.575014    0.184188  0.501  2.3671  \n",
       "62271     0.755531    0.717727  1.780  2.3666  \n",
       "21363     0.486063    0.461419  2.932  2.3155  \n",
       "5489      0.650250    0.617820  2.536  2.3051  \n",
       "57026     0.400128    0.380312  2.455  2.2677  \n",
       "39084     0.621671    0.549455  2.459  2.2459  \n",
       "56657     0.826309    0.300958  0.671  2.2046  \n",
       "4181      0.456316    0.368028  0.300  2.2046  \n",
       "288       0.546555    0.194919  0.426  2.1634  \n",
       "28211     0.599267    0.272507    NaN  2.1538  \n",
       "62964     0.456093    0.433192  2.056  2.1200  \n",
       "56717     0.496125    0.277170  0.838  2.1114  \n",
       "1538      0.533572    0.506776  2.611  2.0783  "
      ]
     },
     "metadata": {},
     "output_type": "display_data"
    }
   ],
   "source": [
    "display(full_catalog_df.loc[filter_radio_AGN_p, cols_4_table_pred_known].sort_values(by=['pred_Z'], ascending=False).head(20))"
   ]
  },
  {
   "cell_type": "markdown",
   "metadata": {},
   "source": [
    "Display properties predicted Radio AGN in unknown sample."
   ]
  },
  {
   "cell_type": "code",
   "execution_count": 84,
   "metadata": {},
   "outputs": [
    {
     "data": {
      "text/html": [
       "<div>\n",
       "<style scoped>\n",
       "    .dataframe tbody tr th:only-of-type {\n",
       "        vertical-align: middle;\n",
       "    }\n",
       "\n",
       "    .dataframe tbody tr th {\n",
       "        vertical-align: top;\n",
       "    }\n",
       "\n",
       "    .dataframe thead th {\n",
       "        text-align: right;\n",
       "    }\n",
       "</style>\n",
       "<table border=\"1\" class=\"dataframe\">\n",
       "  <thead>\n",
       "    <tr style=\"text-align: right;\">\n",
       "      <th></th>\n",
       "      <th>RA_ICRS</th>\n",
       "      <th>DE_ICRS</th>\n",
       "      <th>band_num</th>\n",
       "      <th>Score_AGN</th>\n",
       "      <th>radio_detect</th>\n",
       "      <th>Score_radio</th>\n",
       "      <th>Score_rAGN</th>\n",
       "      <th>pred_Z</th>\n",
       "    </tr>\n",
       "  </thead>\n",
       "  <tbody>\n",
       "    <tr>\n",
       "      <th>13772</th>\n",
       "      <td>150.001099</td>\n",
       "      <td>2.957623</td>\n",
       "      <td>6</td>\n",
       "      <td>0.315343</td>\n",
       "      <td>0</td>\n",
       "      <td>0.346189</td>\n",
       "      <td>0.109168</td>\n",
       "      <td>4.5790</td>\n",
       "    </tr>\n",
       "    <tr>\n",
       "      <th>33160</th>\n",
       "      <td>149.365768</td>\n",
       "      <td>2.513925</td>\n",
       "      <td>9</td>\n",
       "      <td>0.507448</td>\n",
       "      <td>0</td>\n",
       "      <td>0.649222</td>\n",
       "      <td>0.329446</td>\n",
       "      <td>4.5531</td>\n",
       "    </tr>\n",
       "    <tr>\n",
       "      <th>7030</th>\n",
       "      <td>149.378311</td>\n",
       "      <td>2.010387</td>\n",
       "      <td>5</td>\n",
       "      <td>0.385211</td>\n",
       "      <td>0</td>\n",
       "      <td>0.852816</td>\n",
       "      <td>0.328514</td>\n",
       "      <td>4.5314</td>\n",
       "    </tr>\n",
       "    <tr>\n",
       "      <th>9895</th>\n",
       "      <td>149.575897</td>\n",
       "      <td>2.881017</td>\n",
       "      <td>5</td>\n",
       "      <td>0.401219</td>\n",
       "      <td>0</td>\n",
       "      <td>0.852816</td>\n",
       "      <td>0.342166</td>\n",
       "      <td>4.5305</td>\n",
       "    </tr>\n",
       "    <tr>\n",
       "      <th>51272</th>\n",
       "      <td>149.759262</td>\n",
       "      <td>2.412272</td>\n",
       "      <td>5</td>\n",
       "      <td>0.326963</td>\n",
       "      <td>0</td>\n",
       "      <td>0.887795</td>\n",
       "      <td>0.290276</td>\n",
       "      <td>4.4918</td>\n",
       "    </tr>\n",
       "    <tr>\n",
       "      <th>46065</th>\n",
       "      <td>150.645798</td>\n",
       "      <td>2.794713</td>\n",
       "      <td>6</td>\n",
       "      <td>0.343611</td>\n",
       "      <td>0</td>\n",
       "      <td>0.497717</td>\n",
       "      <td>0.171021</td>\n",
       "      <td>4.4519</td>\n",
       "    </tr>\n",
       "    <tr>\n",
       "      <th>58835</th>\n",
       "      <td>150.023407</td>\n",
       "      <td>2.323553</td>\n",
       "      <td>5</td>\n",
       "      <td>0.314292</td>\n",
       "      <td>0</td>\n",
       "      <td>0.772534</td>\n",
       "      <td>0.242802</td>\n",
       "      <td>4.4471</td>\n",
       "    </tr>\n",
       "    <tr>\n",
       "      <th>56023</th>\n",
       "      <td>150.525192</td>\n",
       "      <td>2.650507</td>\n",
       "      <td>7</td>\n",
       "      <td>0.415200</td>\n",
       "      <td>0</td>\n",
       "      <td>0.741458</td>\n",
       "      <td>0.307854</td>\n",
       "      <td>4.4459</td>\n",
       "    </tr>\n",
       "    <tr>\n",
       "      <th>22317</th>\n",
       "      <td>149.955597</td>\n",
       "      <td>1.550446</td>\n",
       "      <td>9</td>\n",
       "      <td>0.363658</td>\n",
       "      <td>0</td>\n",
       "      <td>0.477378</td>\n",
       "      <td>0.173602</td>\n",
       "      <td>4.2235</td>\n",
       "    </tr>\n",
       "    <tr>\n",
       "      <th>13674</th>\n",
       "      <td>149.353180</td>\n",
       "      <td>2.521513</td>\n",
       "      <td>9</td>\n",
       "      <td>0.338341</td>\n",
       "      <td>0</td>\n",
       "      <td>0.650051</td>\n",
       "      <td>0.219939</td>\n",
       "      <td>4.2038</td>\n",
       "    </tr>\n",
       "    <tr>\n",
       "      <th>34815</th>\n",
       "      <td>149.794022</td>\n",
       "      <td>2.887027</td>\n",
       "      <td>9</td>\n",
       "      <td>0.398137</td>\n",
       "      <td>0</td>\n",
       "      <td>0.726780</td>\n",
       "      <td>0.289358</td>\n",
       "      <td>4.1970</td>\n",
       "    </tr>\n",
       "    <tr>\n",
       "      <th>42379</th>\n",
       "      <td>149.735626</td>\n",
       "      <td>2.215382</td>\n",
       "      <td>10</td>\n",
       "      <td>0.424647</td>\n",
       "      <td>1</td>\n",
       "      <td>0.495656</td>\n",
       "      <td>0.210479</td>\n",
       "      <td>4.1731</td>\n",
       "    </tr>\n",
       "    <tr>\n",
       "      <th>43436</th>\n",
       "      <td>150.150497</td>\n",
       "      <td>2.550285</td>\n",
       "      <td>10</td>\n",
       "      <td>0.438763</td>\n",
       "      <td>0</td>\n",
       "      <td>0.387625</td>\n",
       "      <td>0.170075</td>\n",
       "      <td>4.1648</td>\n",
       "    </tr>\n",
       "    <tr>\n",
       "      <th>49782</th>\n",
       "      <td>150.564331</td>\n",
       "      <td>2.526281</td>\n",
       "      <td>10</td>\n",
       "      <td>0.452476</td>\n",
       "      <td>0</td>\n",
       "      <td>0.378817</td>\n",
       "      <td>0.171405</td>\n",
       "      <td>4.1521</td>\n",
       "    </tr>\n",
       "    <tr>\n",
       "      <th>29693</th>\n",
       "      <td>149.872635</td>\n",
       "      <td>2.224733</td>\n",
       "      <td>9</td>\n",
       "      <td>0.386009</td>\n",
       "      <td>0</td>\n",
       "      <td>0.413393</td>\n",
       "      <td>0.159574</td>\n",
       "      <td>4.1263</td>\n",
       "    </tr>\n",
       "    <tr>\n",
       "      <th>52818</th>\n",
       "      <td>149.876862</td>\n",
       "      <td>2.740665</td>\n",
       "      <td>9</td>\n",
       "      <td>0.355159</td>\n",
       "      <td>0</td>\n",
       "      <td>0.381168</td>\n",
       "      <td>0.135375</td>\n",
       "      <td>4.1050</td>\n",
       "    </tr>\n",
       "    <tr>\n",
       "      <th>71744</th>\n",
       "      <td>150.096909</td>\n",
       "      <td>1.853898</td>\n",
       "      <td>6</td>\n",
       "      <td>0.406260</td>\n",
       "      <td>0</td>\n",
       "      <td>0.602378</td>\n",
       "      <td>0.244722</td>\n",
       "      <td>4.1029</td>\n",
       "    </tr>\n",
       "    <tr>\n",
       "      <th>28758</th>\n",
       "      <td>150.681885</td>\n",
       "      <td>2.752678</td>\n",
       "      <td>6</td>\n",
       "      <td>0.342699</td>\n",
       "      <td>0</td>\n",
       "      <td>0.382333</td>\n",
       "      <td>0.131025</td>\n",
       "      <td>4.1027</td>\n",
       "    </tr>\n",
       "    <tr>\n",
       "      <th>5133</th>\n",
       "      <td>149.672058</td>\n",
       "      <td>1.533808</td>\n",
       "      <td>9</td>\n",
       "      <td>0.455441</td>\n",
       "      <td>0</td>\n",
       "      <td>0.524684</td>\n",
       "      <td>0.238963</td>\n",
       "      <td>4.0982</td>\n",
       "    </tr>\n",
       "    <tr>\n",
       "      <th>64291</th>\n",
       "      <td>149.960510</td>\n",
       "      <td>1.982908</td>\n",
       "      <td>10</td>\n",
       "      <td>0.368439</td>\n",
       "      <td>0</td>\n",
       "      <td>0.669897</td>\n",
       "      <td>0.246816</td>\n",
       "      <td>4.0924</td>\n",
       "    </tr>\n",
       "  </tbody>\n",
       "</table>\n",
       "</div>"
      ],
      "text/plain": [
       "          RA_ICRS   DE_ICRS  band_num  Score_AGN  radio_detect  Score_radio  \\\n",
       "13772  150.001099  2.957623         6   0.315343             0     0.346189   \n",
       "33160  149.365768  2.513925         9   0.507448             0     0.649222   \n",
       "7030   149.378311  2.010387         5   0.385211             0     0.852816   \n",
       "9895   149.575897  2.881017         5   0.401219             0     0.852816   \n",
       "51272  149.759262  2.412272         5   0.326963             0     0.887795   \n",
       "46065  150.645798  2.794713         6   0.343611             0     0.497717   \n",
       "58835  150.023407  2.323553         5   0.314292             0     0.772534   \n",
       "56023  150.525192  2.650507         7   0.415200             0     0.741458   \n",
       "22317  149.955597  1.550446         9   0.363658             0     0.477378   \n",
       "13674  149.353180  2.521513         9   0.338341             0     0.650051   \n",
       "34815  149.794022  2.887027         9   0.398137             0     0.726780   \n",
       "42379  149.735626  2.215382        10   0.424647             1     0.495656   \n",
       "43436  150.150497  2.550285        10   0.438763             0     0.387625   \n",
       "49782  150.564331  2.526281        10   0.452476             0     0.378817   \n",
       "29693  149.872635  2.224733         9   0.386009             0     0.413393   \n",
       "52818  149.876862  2.740665         9   0.355159             0     0.381168   \n",
       "71744  150.096909  1.853898         6   0.406260             0     0.602378   \n",
       "28758  150.681885  2.752678         6   0.342699             0     0.382333   \n",
       "5133   149.672058  1.533808         9   0.455441             0     0.524684   \n",
       "64291  149.960510  1.982908        10   0.368439             0     0.669897   \n",
       "\n",
       "       Score_rAGN  pred_Z  \n",
       "13772    0.109168  4.5790  \n",
       "33160    0.329446  4.5531  \n",
       "7030     0.328514  4.5314  \n",
       "9895     0.342166  4.5305  \n",
       "51272    0.290276  4.4918  \n",
       "46065    0.171021  4.4519  \n",
       "58835    0.242802  4.4471  \n",
       "56023    0.307854  4.4459  \n",
       "22317    0.173602  4.2235  \n",
       "13674    0.219939  4.2038  \n",
       "34815    0.289358  4.1970  \n",
       "42379    0.210479  4.1731  \n",
       "43436    0.170075  4.1648  \n",
       "49782    0.171405  4.1521  \n",
       "29693    0.159574  4.1263  \n",
       "52818    0.135375  4.1050  \n",
       "71744    0.244722  4.1029  \n",
       "28758    0.131025  4.1027  \n",
       "5133     0.238963  4.0982  \n",
       "64291    0.246816  4.0924  "
      ]
     },
     "metadata": {},
     "output_type": "display_data"
    }
   ],
   "source": [
    "display(unknown_cat_df.loc[filter_radio_AGN_unk_p, cols_4_table_pred_unknown].sort_values(by=['pred_Z'], ascending=False).head(20))"
   ]
  },
  {
   "cell_type": "markdown",
   "metadata": {},
   "source": [
    "Confusion matrix for AGN/galaxy prediction on all sources"
   ]
  },
  {
   "cell_type": "code",
   "execution_count": 85,
   "metadata": {
    "jupyter": {
     "source_hidden": true
    },
    "tags": []
   },
   "outputs": [],
   "source": [
    "MCC_AGN              = MCC_from_CM(cm_AGN)\n",
    "ACC_AGN              = ACC_from_CM(cm_AGN)\n",
    "F1_AGN               = F1_from_CM(cm_AGN)\n",
    "Recall_AGN           = Recall_from_CM(cm_AGN)"
   ]
  },
  {
   "cell_type": "markdown",
   "metadata": {},
   "source": [
    "Confusion matrix for radio detection prediction on all predicted AGN"
   ]
  },
  {
   "cell_type": "code",
   "execution_count": 86,
   "metadata": {
    "jupyter": {
     "source_hidden": true
    },
    "tags": []
   },
   "outputs": [],
   "source": [
    "MCC_radio            = MCC_from_CM(cm_radio)\n",
    "ACC_radio            = ACC_from_CM(cm_radio)\n",
    "F1_radio             = F1_from_CM(cm_radio)\n",
    "Recall_radio         = Recall_from_CM(cm_radio)"
   ]
  },
  {
   "cell_type": "markdown",
   "metadata": {},
   "source": [
    "Confusion matrix for radio AGN detection prediction."
   ]
  },
  {
   "cell_type": "code",
   "execution_count": 87,
   "metadata": {
    "jupyter": {
     "source_hidden": true
    },
    "tags": []
   },
   "outputs": [],
   "source": [
    "MCC_radio_AGN        = MCC_from_CM(cm_rAGN)\n",
    "ACC_radio_AGN        = ACC_from_CM(cm_rAGN)\n",
    "F1_radio_AGN         = F1_from_CM(cm_rAGN)\n",
    "Recall_radio_AGN     = Recall_from_CM(cm_rAGN)"
   ]
  },
  {
   "cell_type": "code",
   "execution_count": 88,
   "metadata": {
    "jupyter": {
     "source_hidden": true
    }
   },
   "outputs": [],
   "source": [
    "metrics_classif      = np.array([[np.sum(filter_known_spec), F1_AGN,       MCC_AGN,       Recall_AGN,       ACC_AGN],\\\n",
    "                                 [np.sum(filter_AGN_p),      F1_radio,     MCC_radio,     Recall_radio,     ACC_radio],\\\n",
    "                                 [np.sum(filter_known_spec), F1_radio_AGN, MCC_radio_AGN, Recall_radio_AGN, ACC_radio_AGN]])\n",
    "metrics_classif_df   = pd.DataFrame(data=metrics_classif, columns=['Sample', 'F1', 'MCC', 'Recall', 'Accuracy'],\\\n",
    "                                    index=['AGN/Galaxy', 'Radio', 'Radio AGN'])"
   ]
  },
  {
   "cell_type": "markdown",
   "metadata": {},
   "source": [
    "Confusion matrices for AGN criteria from literature"
   ]
  },
  {
   "cell_type": "code",
   "execution_count": 89,
   "metadata": {
    "jupyter": {
     "source_hidden": true
    }
   },
   "outputs": [],
   "source": [
    "MCC_AGN_S12          = MCC_from_CM(cm_AGN_S12)\n",
    "ACC_AGN_S12          = ACC_from_CM(cm_AGN_S12)\n",
    "F1_AGN_S12           = F1_from_CM(cm_AGN_S12)\n",
    "Recall_AGN_S12       = Recall_from_CM(cm_AGN_S12)\n",
    "\n",
    "MCC_AGN_M12          = MCC_from_CM(cm_AGN_M12)\n",
    "ACC_AGN_M12          = ACC_from_CM(cm_AGN_M12)\n",
    "F1_AGN_M12           = F1_from_CM(cm_AGN_M12)\n",
    "Recall_AGN_M12       = Recall_from_CM(cm_AGN_M12)\n",
    "\n",
    "MCC_AGN_M16          = MCC_from_CM(cm_AGN_M16)\n",
    "ACC_AGN_M16          = ACC_from_CM(cm_AGN_M16)\n",
    "F1_AGN_M16           = F1_from_CM(cm_AGN_M16)\n",
    "Recall_AGN_M16       = Recall_from_CM(cm_AGN_M16)\n",
    "\n",
    "MCC_AGN_B18          = MCC_from_CM(cm_AGN_B18)\n",
    "ACC_AGN_B18          = ACC_from_CM(cm_AGN_B18)\n",
    "F1_AGN_B18           = F1_from_CM(cm_AGN_B18)\n",
    "Recall_AGN_B18       = Recall_from_CM(cm_AGN_B18)\n",
    "\n",
    "metrics_AGN_criteria    = np.array([[F1_AGN_S12,     F1_AGN_M12,     F1_AGN_M16,     F1_AGN_B18],\\\n",
    "                                    [MCC_AGN_S12,    MCC_AGN_M12,    MCC_AGN_M16,    MCC_AGN_B18],\\\n",
    "                                    [Recall_AGN_S12, Recall_AGN_M12, Recall_AGN_M16, Recall_AGN_B18],\\\n",
    "                                    [ACC_AGN_S12,    ACC_AGN_M12,    ACC_AGN_M16,    ACC_AGN_B18]]) \n",
    "\n",
    "metrics_AGN_criteria_df = pd.DataFrame(data=metrics_AGN_criteria.T, columns=['F1', 'MCC', 'Recall', 'Accuracy'],\\\n",
    "                                       index=['S12', 'M12', 'M16', 'B18'])"
   ]
  },
  {
   "cell_type": "markdown",
   "metadata": {},
   "source": [
    "Join metrics for regression."
   ]
  },
  {
   "cell_type": "code",
   "execution_count": 90,
   "metadata": {
    "jupyter": {
     "source_hidden": true
    }
   },
   "outputs": [],
   "source": [
    "size_rAGN    = np.sum(filter_radio_AGN_p)\n",
    "size_rAGN_hz = np.sum(filter_radio_AGN_p * np.array(full_catalog_df.loc[:, 'pred_Z'] >= redshift_lim_c))\n",
    "metrics_z    = np.array([[size_rAGN, sigma_mad_early, sigma_nmad_early, sigma_z_early, sigma_z_norm_early, out_frac_early],\\\n",
    "                         [size_rAGN, sigma_mad_field, sigma_nmad_field, sigma_z_field, sigma_z_norm_field, out_frac_field],\\\n",
    "                         [size_rAGN_hz, sigma_mad_early_hiz, sigma_nmad_early_hiz, sigma_z_early_hiz, sigma_z_norm_early_hiz, out_frac_early_hiz],\\\n",
    "                         [size_rAGN_hz, sigma_mad_field_hiz, sigma_nmad_field_hiz, sigma_z_field_hiz, sigma_z_norm_field_hiz, out_frac_field_hiz]])\n",
    "metrics_z_df = pd.DataFrame(data=metrics_z,\\\n",
    "                            columns=['Sample', '\\u03C3 MAD', '\\u03C3 NMAD', '\\u03C3 z', '\\u03C3 z N', '\\u03B7'],\\\n",
    "                            index=['First model only', 'Two models', 'First model high z', 'Second model high z'])"
   ]
  },
  {
   "cell_type": "markdown",
   "metadata": {},
   "source": [
    "Print metrics"
   ]
  },
  {
   "cell_type": "code",
   "execution_count": 91,
   "metadata": {
    "jupyter": {
     "source_hidden": true
    }
   },
   "outputs": [
    {
     "name": "stdout",
     "output_type": "stream",
     "text": [
      "Metrics for classification steps along the pipeline.\n"
     ]
    },
    {
     "data": {
      "text/html": [
       "<div>\n",
       "<style scoped>\n",
       "    .dataframe tbody tr th:only-of-type {\n",
       "        vertical-align: middle;\n",
       "    }\n",
       "\n",
       "    .dataframe tbody tr th {\n",
       "        vertical-align: top;\n",
       "    }\n",
       "\n",
       "    .dataframe thead th {\n",
       "        text-align: right;\n",
       "    }\n",
       "</style>\n",
       "<table border=\"1\" class=\"dataframe\">\n",
       "  <thead>\n",
       "    <tr style=\"text-align: right;\">\n",
       "      <th></th>\n",
       "      <th>Sample</th>\n",
       "      <th>F1</th>\n",
       "      <th>MCC</th>\n",
       "      <th>Recall</th>\n",
       "      <th>Accuracy</th>\n",
       "    </tr>\n",
       "  </thead>\n",
       "  <tbody>\n",
       "    <tr>\n",
       "      <th>AGN/Galaxy</th>\n",
       "      <td>1502</td>\n",
       "      <td>0.8882</td>\n",
       "      <td>0.6722</td>\n",
       "      <td>0.8036</td>\n",
       "      <td>0.8422</td>\n",
       "    </tr>\n",
       "    <tr>\n",
       "      <th>Radio</th>\n",
       "      <td>948</td>\n",
       "      <td>0.5890</td>\n",
       "      <td>0.3168</td>\n",
       "      <td>0.5215</td>\n",
       "      <td>0.6614</td>\n",
       "    </tr>\n",
       "    <tr>\n",
       "      <th>Radio AGN</th>\n",
       "      <td>1502</td>\n",
       "      <td>0.5017</td>\n",
       "      <td>0.3253</td>\n",
       "      <td>0.4007</td>\n",
       "      <td>0.6984</td>\n",
       "    </tr>\n",
       "  </tbody>\n",
       "</table>\n",
       "</div>"
      ],
      "text/plain": [
       "            Sample     F1    MCC  Recall  Accuracy\n",
       "AGN/Galaxy    1502 0.8882 0.6722  0.8036    0.8422\n",
       "Radio          948 0.5890 0.3168  0.5215    0.6614\n",
       "Radio AGN     1502 0.5017 0.3253  0.4007    0.6984"
      ]
     },
     "metadata": {},
     "output_type": "display_data"
    }
   ],
   "source": [
    "print('Metrics for classification steps along the pipeline.')\n",
    "metrics_classif_df.loc[:, 'Sample'] = metrics_classif_df.loc[:, 'Sample'].astype(int)\n",
    "with pd.option_context('display.float_format', '{:.4f}'.format):\n",
    "    display(metrics_classif_df)"
   ]
  },
  {
   "cell_type": "code",
   "execution_count": 92,
   "metadata": {
    "jupyter": {
     "source_hidden": true
    },
    "tags": []
   },
   "outputs": [
    {
     "name": "stdout",
     "output_type": "stream",
     "text": [
      "Metrics for AGN detection criteria (from literature).\n",
      "Sample size, N = 1,502\n"
     ]
    },
    {
     "data": {
      "text/html": [
       "<div>\n",
       "<style scoped>\n",
       "    .dataframe tbody tr th:only-of-type {\n",
       "        vertical-align: middle;\n",
       "    }\n",
       "\n",
       "    .dataframe tbody tr th {\n",
       "        vertical-align: top;\n",
       "    }\n",
       "\n",
       "    .dataframe thead th {\n",
       "        text-align: right;\n",
       "    }\n",
       "</style>\n",
       "<table border=\"1\" class=\"dataframe\">\n",
       "  <thead>\n",
       "    <tr style=\"text-align: right;\">\n",
       "      <th></th>\n",
       "      <th>F1</th>\n",
       "      <th>MCC</th>\n",
       "      <th>Recall</th>\n",
       "      <th>Accuracy</th>\n",
       "    </tr>\n",
       "  </thead>\n",
       "  <tbody>\n",
       "    <tr>\n",
       "      <th>S12</th>\n",
       "      <td>0.7030</td>\n",
       "      <td>0.4411</td>\n",
       "      <td>0.5448</td>\n",
       "      <td>0.6411</td>\n",
       "    </tr>\n",
       "    <tr>\n",
       "      <th>M12</th>\n",
       "      <td>0.2455</td>\n",
       "      <td>0.1816</td>\n",
       "      <td>0.1401</td>\n",
       "      <td>0.3289</td>\n",
       "    </tr>\n",
       "    <tr>\n",
       "      <th>M16</th>\n",
       "      <td>0.4172</td>\n",
       "      <td>0.2542</td>\n",
       "      <td>0.2647</td>\n",
       "      <td>0.4234</td>\n",
       "    </tr>\n",
       "    <tr>\n",
       "      <th>B18</th>\n",
       "      <td>0.5617</td>\n",
       "      <td>0.3328</td>\n",
       "      <td>0.3928</td>\n",
       "      <td>0.5220</td>\n",
       "    </tr>\n",
       "  </tbody>\n",
       "</table>\n",
       "</div>"
      ],
      "text/plain": [
       "        F1    MCC  Recall  Accuracy\n",
       "S12 0.7030 0.4411  0.5448    0.6411\n",
       "M12 0.2455 0.1816  0.1401    0.3289\n",
       "M16 0.4172 0.2542  0.2647    0.4234\n",
       "B18 0.5617 0.3328  0.3928    0.5220"
      ]
     },
     "metadata": {},
     "output_type": "display_data"
    }
   ],
   "source": [
    "print('Metrics for AGN detection criteria (from literature).')\n",
    "print(f'Sample size, N = {np.sum(filter_known_spec):,}')\n",
    "with pd.option_context('display.float_format', '{:.4f}'.format):\n",
    "    display(metrics_AGN_criteria_df)"
   ]
  },
  {
   "cell_type": "code",
   "execution_count": 93,
   "metadata": {
    "jupyter": {
     "source_hidden": true
    }
   },
   "outputs": [
    {
     "name": "stdout",
     "output_type": "stream",
     "text": [
      "Metrics for redshift predictions\n"
     ]
    },
    {
     "data": {
      "text/html": [
       "<div>\n",
       "<style scoped>\n",
       "    .dataframe tbody tr th:only-of-type {\n",
       "        vertical-align: middle;\n",
       "    }\n",
       "\n",
       "    .dataframe tbody tr th {\n",
       "        vertical-align: top;\n",
       "    }\n",
       "\n",
       "    .dataframe thead th {\n",
       "        text-align: right;\n",
       "    }\n",
       "</style>\n",
       "<table border=\"1\" class=\"dataframe\">\n",
       "  <thead>\n",
       "    <tr style=\"text-align: right;\">\n",
       "      <th></th>\n",
       "      <th>Sample</th>\n",
       "      <th>σ MAD</th>\n",
       "      <th>σ NMAD</th>\n",
       "      <th>σ z</th>\n",
       "      <th>σ z N</th>\n",
       "      <th>η</th>\n",
       "    </tr>\n",
       "  </thead>\n",
       "  <tbody>\n",
       "    <tr>\n",
       "      <th>First model only</th>\n",
       "      <td>340</td>\n",
       "      <td>0.3021</td>\n",
       "      <td>0.1558</td>\n",
       "      <td>0.6176</td>\n",
       "      <td>0.3144</td>\n",
       "      <td>0.4089</td>\n",
       "    </tr>\n",
       "    <tr>\n",
       "      <th>Two models</th>\n",
       "      <td>340</td>\n",
       "      <td>0.3021</td>\n",
       "      <td>0.1558</td>\n",
       "      <td>0.6176</td>\n",
       "      <td>0.3144</td>\n",
       "      <td>0.4089</td>\n",
       "    </tr>\n",
       "    <tr>\n",
       "      <th>First model high z</th>\n",
       "      <td>0</td>\n",
       "      <td>NaN</td>\n",
       "      <td>NaN</td>\n",
       "      <td>NaN</td>\n",
       "      <td>NaN</td>\n",
       "      <td>NaN</td>\n",
       "    </tr>\n",
       "    <tr>\n",
       "      <th>Second model high z</th>\n",
       "      <td>0</td>\n",
       "      <td>NaN</td>\n",
       "      <td>NaN</td>\n",
       "      <td>NaN</td>\n",
       "      <td>NaN</td>\n",
       "      <td>NaN</td>\n",
       "    </tr>\n",
       "  </tbody>\n",
       "</table>\n",
       "</div>"
      ],
      "text/plain": [
       "                     Sample  σ MAD  σ NMAD    σ z  σ z N      η\n",
       "First model only        340 0.3021  0.1558 0.6176 0.3144 0.4089\n",
       "Two models              340 0.3021  0.1558 0.6176 0.3144 0.4089\n",
       "First model high z        0    NaN     NaN    NaN    NaN    NaN\n",
       "Second model high z       0    NaN     NaN    NaN    NaN    NaN"
      ]
     },
     "metadata": {},
     "output_type": "display_data"
    }
   ],
   "source": [
    "print('Metrics for redshift predictions')\n",
    "metrics_z_df.loc[:, 'Sample'] = metrics_z_df.loc[:, 'Sample'].astype(int)\n",
    "with pd.option_context('display.float_format', '{:.4f}'.format):\n",
    "    display(metrics_z_df)"
   ]
  },
  {
   "cell_type": "markdown",
   "metadata": {},
   "source": [
    "Plot predictions"
   ]
  },
  {
   "cell_type": "code",
   "execution_count": 94,
   "metadata": {
    "jupyter": {
     "source_hidden": true
    },
    "tags": []
   },
   "outputs": [
    {
     "data": {
      "image/png": "[encoded data removed]",
      "text/plain": [
       "<Figure size 600x500 with 1 Axes>"
      ]
     },
     "metadata": {},
     "output_type": "display_data"
    }
   ],
   "source": [
    "fig             = plt.figure(figsize=(6,5))\n",
    "ax1             = fig.add_subplot(111)\n",
    "plot_conf_mat(cm_AGN, title=used_area, axin=ax1, display_labels=['Galaxy', 'AGN'], log_stretch=False)\n",
    "if save_plot_flag:\n",
    "    plt.savefig(f'plots/conf_matrix_AGN_{used_area}.pdf', bbox_inches='tight')\n",
    "plt.show()"
   ]
  },
  {
   "cell_type": "code",
   "execution_count": 95,
   "metadata": {
    "jupyter": {
     "source_hidden": true
    },
    "tags": []
   },
   "outputs": [
    {
     "data": {
      "image/png": "[encoded data removed]",
      "text/plain": [
       "<Figure size 600x500 with 1 Axes>"
      ]
     },
     "metadata": {},
     "output_type": "display_data"
    }
   ],
   "source": [
    "fig             = plt.figure(figsize=(6,5))\n",
    "ax1             = fig.add_subplot(111)\n",
    "plot_conf_mat(cm_radio, title=used_area, axin=ax1, display_labels=['No\\nRadio', 'Radio'], log_stretch=False)\n",
    "if save_plot_flag:\n",
    "    plt.savefig(f'plots/conf_matrix_radio_{used_area}.pdf', bbox_inches='tight')\n",
    "plt.show()"
   ]
  },
  {
   "cell_type": "code",
   "execution_count": 96,
   "metadata": {
    "jupyter": {
     "source_hidden": true
    },
    "tags": []
   },
   "outputs": [
    {
     "data": {
      "image/png": "[encoded data removed]",
      "text/plain": [
       "<Figure size 600x500 with 1 Axes>"
      ]
     },
     "metadata": {},
     "output_type": "display_data"
    }
   ],
   "source": [
    "fig             = plt.figure(figsize=(6,5))\n",
    "ax1             = fig.add_subplot(111)\n",
    "plot_conf_mat(cm_rAGN, title=used_area, axin=ax1, display_labels=['No\\nRadio AGN', 'Radio AGN'], log_stretch=False)\n",
    "if save_plot_flag:\n",
    "    plt.savefig(f'plots/conf_matrix_radio_AGN_{used_area}.pdf', bbox_inches='tight')\n",
    "plt.show()"
   ]
  },
  {
   "cell_type": "code",
   "execution_count": 97,
   "metadata": {
    "jupyter": {
     "source_hidden": true
    },
    "tags": []
   },
   "outputs": [
    {
     "data": {
      "image/png": "[encoded data removed]",
      "text/plain": [
       "<Figure size 680x530 with 3 Axes>"
      ]
     },
     "metadata": {},
     "output_type": "display_data"
    }
   ],
   "source": [
    "fig             = plt.figure(figsize=(6.8,5.3))\n",
    "ax1             = fig.add_subplot(111, projection='scatter_density', xscale='log', yscale='log')\n",
    "plot_redshift_compare(full_catalog_df.loc[filter_radio_AGN_p, 'Z'], full_catalog_df.loc[filter_radio_AGN_p, 'pred_Z'],\\\n",
    "                      ax_pre=ax1, title=None, dpi=10, show_clb=True, log_stretch=False)\n",
    "\n",
    "if save_plot_flag:\n",
    "    plt.savefig(f'plots/compare_redshift_{used_area}.pdf', bbox_inches='tight')\n",
    "plt.show()"
   ]
  },
  {
   "cell_type": "code",
   "execution_count": 98,
   "metadata": {
    "jupyter": {
     "source_hidden": true
    },
    "tags": []
   },
   "outputs": [
    {
     "data": {
      "image/png": "[encoded data removed]",
      "text/plain": [
       "<Figure size 1000x350 with 1 Axes>"
      ]
     },
     "metadata": {},
     "output_type": "display_data"
    }
   ],
   "source": [
    "fig             = plt.figure(figsize=(10,3.5))\n",
    "ax1             = fig.add_subplot(111, xscale='linear', yscale='log')\n",
    "\n",
    "min_for_range = np.nanmin([np.nanmin(full_catalog_df.loc[:, 'Z']),\\\n",
    "                           np.nanmin(full_catalog_df.loc[:, 'pred_Z'])])\n",
    "max_for_range = np.nanmax([np.nanmax(full_catalog_df.loc[:, 'Z']),\\\n",
    "                           np.nanmax(full_catalog_df.loc[:, 'pred_Z'])])\n",
    "bins_z        = np.linspace(min_for_range, max_for_range, 70)\n",
    "\n",
    "\n",
    "\n",
    "_, bins, _ = ax1.hist(full_catalog_df.loc[filt_new_rAGN_p, 'pred_Z'], bins=bins_z, histtype='stepfilled',\\\n",
    "                      ec='k', fc='mediumpurple', lw=3.5,\\\n",
    "                      label=f\"New\\nN={np.sum(filt_new_rAGN_p):,}\")\n",
    "ax1.hist(full_catalog_df.loc[filter_radio_AGN_t * filter_radio_AGN_p, 'Z'], bins=bins_z, histtype='stepfilled', ec='k',\\\n",
    "         fc='darkcyan', lw=3.5, label=f\"True\\nN={np.sum(filter_radio_AGN_t):,}\", alpha=0.7)\n",
    "\n",
    "# ax1.axvline(x=3.6, ls='--', c='k', lw=2.5, zorder=10)\n",
    "# ax1.axvline(x=3.7, ls='--', c='k', lw=2.5, zorder=10)\n",
    "# ax1.axvline(x=3.8, ls='--', c='k', lw=2.5, zorder=10)\n",
    "# ax1.axvline(x=3.9, ls='--', c='k', lw=2.5, zorder=10)\n",
    "# ax1.axvline(x=4.0, ls='--', c='k', lw=2.5, zorder=10)\n",
    "\n",
    "ax1.tick_params(which='both', top=True, right=True, direction='in')\n",
    "ax1.tick_params(axis='both', which='major', labelsize=14)\n",
    "ax1.tick_params(which='major', length=8, width=1.5)\n",
    "ax1.tick_params(which='minor', length=4, width=1.5)\n",
    "# ax1.set_xlabel('$m_{\\mathrm{W1}}\\, \\mathrm{[AB]}$', size=20)\n",
    "ax1.set_xlabel('$z_{\\mathrm{AGN}}$', size=20)\n",
    "ax1.set_ylabel('Frequency', size=20)\n",
    "# ax1.set_ylabel('Frequency', size=20)\n",
    "plt.setp(ax1.spines.values(), linewidth=3.5)\n",
    "plt.setp(ax1.spines.values(), linewidth=3.5)\n",
    "plt.legend(loc=1, fontsize=16)\n",
    "# ax1.invert_xaxis()\n",
    "# ax1.set_xlim(left=-4, right=6)\n",
    "#ax1.set_aspect('equal', 'box')\n",
    "ax1.set_title(used_area, fontsize=14)\n",
    "fig.tight_layout()\n",
    "if save_plot_flag:\n",
    "    plt.savefig(f'plots/hist_true_predicted_z_{used_area}.pdf')\n",
    "plt.show()"
   ]
  },
  {
   "cell_type": "markdown",
   "metadata": {},
   "source": [
    "### Present results for unknown sources"
   ]
  },
  {
   "cell_type": "code",
   "execution_count": 99,
   "metadata": {
    "jupyter": {
     "source_hidden": true
    }
   },
   "outputs": [],
   "source": [
    "unk_summary_AGN_gal                 = unknown_cat_df.loc[:, 'Score_AGN'].groupby(unknown_cat_df.loc[:, 'pred_class']).describe()\n",
    "unk_summary_radio                   = unknown_cat_df.loc[filter_AGN_unk_p,\n",
    "                                                         'Score_radio'].groupby(unknown_cat_df.loc[filter_AGN_unk_p,\n",
    "                                                                                                   'pred_radio']).describe()\n",
    "unk_summary_radio_scaled            = unknown_cat_df.loc[filter_AGN_unk_p,\n",
    "                                                         'scaled_score_radio'].groupby(unknown_cat_df.loc[filter_AGN_unk_p,\n",
    "                                                                                                   'pred_radio']).describe()\n",
    "unk_summary_z                       = unknown_cat_df.loc[filter_radio_AGN_unk_p, 'pred_Z'].describe()\n",
    "unk_summary_AGN_radio               = pd.concat([unk_summary_AGN_gal, unk_summary_radio, unk_summary_radio_scaled])\n",
    "unk_summary_AGN_radio['Prediction'] = ['Galaxy', 'AGN', 'No radio', 'Radio', 'No radio (s)', 'Radio (s)']\n",
    "unk_summary_AGN_radio               = unk_summary_AGN_radio.set_index('Prediction', drop=True)\n",
    "unk_summary_AGN_radio.loc['Z']      = unk_summary_z"
   ]
  },
  {
   "cell_type": "code",
   "execution_count": 100,
   "metadata": {
    "jupyter": {
     "source_hidden": true
    }
   },
   "outputs": [
    {
     "data": {
      "text/html": [
       "<div>\n",
       "<style scoped>\n",
       "    .dataframe tbody tr th:only-of-type {\n",
       "        vertical-align: middle;\n",
       "    }\n",
       "\n",
       "    .dataframe tbody tr th {\n",
       "        vertical-align: top;\n",
       "    }\n",
       "\n",
       "    .dataframe thead th {\n",
       "        text-align: right;\n",
       "    }\n",
       "</style>\n",
       "<table border=\"1\" class=\"dataframe\">\n",
       "  <thead>\n",
       "    <tr style=\"text-align: right;\">\n",
       "      <th></th>\n",
       "      <th>count</th>\n",
       "      <th>mean</th>\n",
       "      <th>std</th>\n",
       "      <th>min</th>\n",
       "      <th>25%</th>\n",
       "      <th>50%</th>\n",
       "      <th>75%</th>\n",
       "      <th>max</th>\n",
       "    </tr>\n",
       "    <tr>\n",
       "      <th>Prediction</th>\n",
       "      <th></th>\n",
       "      <th></th>\n",
       "      <th></th>\n",
       "      <th></th>\n",
       "      <th></th>\n",
       "      <th></th>\n",
       "      <th></th>\n",
       "      <th></th>\n",
       "    </tr>\n",
       "  </thead>\n",
       "  <tbody>\n",
       "    <tr>\n",
       "      <th>Galaxy</th>\n",
       "      <td>23891</td>\n",
       "      <td>0.13887</td>\n",
       "      <td>0.08100</td>\n",
       "      <td>0.04815</td>\n",
       "      <td>0.06495</td>\n",
       "      <td>0.11579</td>\n",
       "      <td>0.20077</td>\n",
       "      <td>0.31113</td>\n",
       "    </tr>\n",
       "    <tr>\n",
       "      <th>AGN</th>\n",
       "      <td>46727</td>\n",
       "      <td>0.49717</td>\n",
       "      <td>0.12075</td>\n",
       "      <td>0.31119</td>\n",
       "      <td>0.45398</td>\n",
       "      <td>0.45398</td>\n",
       "      <td>0.50976</td>\n",
       "      <td>0.95045</td>\n",
       "    </tr>\n",
       "    <tr>\n",
       "      <th>No radio</th>\n",
       "      <td>39350</td>\n",
       "      <td>0.19557</td>\n",
       "      <td>0.07422</td>\n",
       "      <td>0.00271</td>\n",
       "      <td>0.15078</td>\n",
       "      <td>0.23636</td>\n",
       "      <td>0.23636</td>\n",
       "      <td>0.34584</td>\n",
       "    </tr>\n",
       "    <tr>\n",
       "      <th>Radio</th>\n",
       "      <td>7377</td>\n",
       "      <td>0.61184</td>\n",
       "      <td>0.17725</td>\n",
       "      <td>0.34594</td>\n",
       "      <td>0.45879</td>\n",
       "      <td>0.58608</td>\n",
       "      <td>0.77229</td>\n",
       "      <td>0.99988</td>\n",
       "    </tr>\n",
       "    <tr>\n",
       "      <th>No radio (s)</th>\n",
       "      <td>39350</td>\n",
       "      <td>0.19322</td>\n",
       "      <td>0.07451</td>\n",
       "      <td>-0.00039</td>\n",
       "      <td>0.14825</td>\n",
       "      <td>0.23416</td>\n",
       "      <td>0.23416</td>\n",
       "      <td>0.34406</td>\n",
       "    </tr>\n",
       "    <tr>\n",
       "      <th>Radio (s)</th>\n",
       "      <td>7377</td>\n",
       "      <td>0.61108</td>\n",
       "      <td>0.17793</td>\n",
       "      <td>0.34416</td>\n",
       "      <td>0.45745</td>\n",
       "      <td>0.58522</td>\n",
       "      <td>0.77214</td>\n",
       "      <td>1.00061</td>\n",
       "    </tr>\n",
       "    <tr>\n",
       "      <th>Z</th>\n",
       "      <td>7377</td>\n",
       "      <td>1.63890</td>\n",
       "      <td>0.67591</td>\n",
       "      <td>0.04290</td>\n",
       "      <td>1.16120</td>\n",
       "      <td>1.71540</td>\n",
       "      <td>1.95040</td>\n",
       "      <td>4.57900</td>\n",
       "    </tr>\n",
       "  </tbody>\n",
       "</table>\n",
       "</div>"
      ],
      "text/plain": [
       "              count    mean     std      min     25%     50%     75%     max\n",
       "Prediction                                                                  \n",
       "Galaxy        23891 0.13887 0.08100  0.04815 0.06495 0.11579 0.20077 0.31113\n",
       "AGN           46727 0.49717 0.12075  0.31119 0.45398 0.45398 0.50976 0.95045\n",
       "No radio      39350 0.19557 0.07422  0.00271 0.15078 0.23636 0.23636 0.34584\n",
       "Radio          7377 0.61184 0.17725  0.34594 0.45879 0.58608 0.77229 0.99988\n",
       "No radio (s)  39350 0.19322 0.07451 -0.00039 0.14825 0.23416 0.23416 0.34406\n",
       "Radio (s)      7377 0.61108 0.17793  0.34416 0.45745 0.58522 0.77214 1.00061\n",
       "Z              7377 1.63890 0.67591  0.04290 1.16120 1.71540 1.95040 4.57900"
      ]
     },
     "metadata": {},
     "output_type": "display_data"
    }
   ],
   "source": [
    "unk_summary_AGN_radio.loc[:, 'count'] = unk_summary_AGN_radio.loc[:, 'count'].astype(int)\n",
    "with pd.option_context('display.float_format', '{:.5f}'.format):\n",
    "    display(unk_summary_AGN_radio)"
   ]
  },
  {
   "cell_type": "markdown",
   "metadata": {},
   "source": [
    "#### Same idea for known sample."
   ]
  },
  {
   "cell_type": "code",
   "execution_count": 101,
   "metadata": {
    "jupyter": {
     "source_hidden": true
    }
   },
   "outputs": [],
   "source": [
    "kno_summary_AGN_gal                 = full_catalog_df.loc[:, 'Score_AGN'].groupby(full_catalog_df.loc[:, 'pred_class']).describe()\n",
    "kno_summary_radio                   = full_catalog_df.loc[filter_AGN_p,\n",
    "                                                         'Score_radio'].groupby(full_catalog_df.loc[filter_AGN_p,\n",
    "                                                                                                   'pred_radio']).describe()\n",
    "kno_summary_radio_scaled            = full_catalog_df.loc[filter_AGN_p,\n",
    "                                                         'scaled_score_radio'].groupby(full_catalog_df.loc[filter_AGN_p,\n",
    "                                                                                                   'pred_radio']).describe()\n",
    "kno_summary_z                       = full_catalog_df.loc[filter_radio_AGN_p, 'pred_Z'].describe()\n",
    "kno_summary_AGN_radio               = pd.concat([kno_summary_AGN_gal, kno_summary_radio, kno_summary_radio_scaled])\n",
    "kno_summary_AGN_radio['Prediction'] = ['Galaxy', 'AGN', 'No radio', 'Radio', 'No radio (s)', 'Radio (s)']\n",
    "kno_summary_AGN_radio               = kno_summary_AGN_radio.set_index('Prediction', drop=True)\n",
    "kno_summary_AGN_radio.loc['Z']      = kno_summary_z"
   ]
  },
  {
   "cell_type": "code",
   "execution_count": 102,
   "metadata": {
    "jupyter": {
     "source_hidden": true
    }
   },
   "outputs": [
    {
     "data": {
      "text/html": [
       "<div>\n",
       "<style scoped>\n",
       "    .dataframe tbody tr th:only-of-type {\n",
       "        vertical-align: middle;\n",
       "    }\n",
       "\n",
       "    .dataframe tbody tr th {\n",
       "        vertical-align: top;\n",
       "    }\n",
       "\n",
       "    .dataframe thead th {\n",
       "        text-align: right;\n",
       "    }\n",
       "</style>\n",
       "<table border=\"1\" class=\"dataframe\">\n",
       "  <thead>\n",
       "    <tr style=\"text-align: right;\">\n",
       "      <th></th>\n",
       "      <th>count</th>\n",
       "      <th>mean</th>\n",
       "      <th>std</th>\n",
       "      <th>min</th>\n",
       "      <th>25%</th>\n",
       "      <th>50%</th>\n",
       "      <th>75%</th>\n",
       "      <th>max</th>\n",
       "    </tr>\n",
       "    <tr>\n",
       "      <th>Prediction</th>\n",
       "      <th></th>\n",
       "      <th></th>\n",
       "      <th></th>\n",
       "      <th></th>\n",
       "      <th></th>\n",
       "      <th></th>\n",
       "      <th></th>\n",
       "      <th></th>\n",
       "    </tr>\n",
       "  </thead>\n",
       "  <tbody>\n",
       "    <tr>\n",
       "      <th>Galaxy</th>\n",
       "      <td>554</td>\n",
       "      <td>0.10272</td>\n",
       "      <td>0.07128</td>\n",
       "      <td>0.04931</td>\n",
       "      <td>0.05269</td>\n",
       "      <td>0.06736</td>\n",
       "      <td>0.13063</td>\n",
       "      <td>0.30821</td>\n",
       "    </tr>\n",
       "    <tr>\n",
       "      <th>AGN</th>\n",
       "      <td>948</td>\n",
       "      <td>0.72358</td>\n",
       "      <td>0.21784</td>\n",
       "      <td>0.31187</td>\n",
       "      <td>0.47638</td>\n",
       "      <td>0.79314</td>\n",
       "      <td>0.93971</td>\n",
       "      <td>0.95278</td>\n",
       "    </tr>\n",
       "    <tr>\n",
       "      <th>No radio</th>\n",
       "      <td>608</td>\n",
       "      <td>0.14060</td>\n",
       "      <td>0.09326</td>\n",
       "      <td>0.00309</td>\n",
       "      <td>0.05099</td>\n",
       "      <td>0.12544</td>\n",
       "      <td>0.23636</td>\n",
       "      <td>0.34559</td>\n",
       "    </tr>\n",
       "    <tr>\n",
       "      <th>Radio</th>\n",
       "      <td>340</td>\n",
       "      <td>0.66658</td>\n",
       "      <td>0.20458</td>\n",
       "      <td>0.34756</td>\n",
       "      <td>0.48709</td>\n",
       "      <td>0.63393</td>\n",
       "      <td>0.85952</td>\n",
       "      <td>0.99738</td>\n",
       "    </tr>\n",
       "    <tr>\n",
       "      <th>No radio (s)</th>\n",
       "      <td>608</td>\n",
       "      <td>0.13803</td>\n",
       "      <td>0.09361</td>\n",
       "      <td>0.00000</td>\n",
       "      <td>0.04808</td>\n",
       "      <td>0.12282</td>\n",
       "      <td>0.23416</td>\n",
       "      <td>0.34381</td>\n",
       "    </tr>\n",
       "    <tr>\n",
       "      <th>Radio (s)</th>\n",
       "      <td>340</td>\n",
       "      <td>0.66602</td>\n",
       "      <td>0.20536</td>\n",
       "      <td>0.34579</td>\n",
       "      <td>0.48585</td>\n",
       "      <td>0.63325</td>\n",
       "      <td>0.85970</td>\n",
       "      <td>0.99809</td>\n",
       "    </tr>\n",
       "    <tr>\n",
       "      <th>Z</th>\n",
       "      <td>340</td>\n",
       "      <td>1.18769</td>\n",
       "      <td>0.55202</td>\n",
       "      <td>0.05140</td>\n",
       "      <td>0.81385</td>\n",
       "      <td>1.13155</td>\n",
       "      <td>1.59918</td>\n",
       "      <td>2.70730</td>\n",
       "    </tr>\n",
       "  </tbody>\n",
       "</table>\n",
       "</div>"
      ],
      "text/plain": [
       "              count    mean     std     min     25%     50%     75%     max\n",
       "Prediction                                                                 \n",
       "Galaxy          554 0.10272 0.07128 0.04931 0.05269 0.06736 0.13063 0.30821\n",
       "AGN             948 0.72358 0.21784 0.31187 0.47638 0.79314 0.93971 0.95278\n",
       "No radio        608 0.14060 0.09326 0.00309 0.05099 0.12544 0.23636 0.34559\n",
       "Radio           340 0.66658 0.20458 0.34756 0.48709 0.63393 0.85952 0.99738\n",
       "No radio (s)    608 0.13803 0.09361 0.00000 0.04808 0.12282 0.23416 0.34381\n",
       "Radio (s)       340 0.66602 0.20536 0.34579 0.48585 0.63325 0.85970 0.99809\n",
       "Z               340 1.18769 0.55202 0.05140 0.81385 1.13155 1.59918 2.70730"
      ]
     },
     "metadata": {},
     "output_type": "display_data"
    }
   ],
   "source": [
    "kno_summary_AGN_radio.loc[:, 'count'] = kno_summary_AGN_radio.loc[:, 'count'].astype(int)\n",
    "with pd.option_context('display.float_format', '{:.5f}'.format):\n",
    "    display(kno_summary_AGN_radio)"
   ]
  },
  {
   "cell_type": "markdown",
   "metadata": {},
   "source": [
    "---"
   ]
  },
  {
   "cell_type": "markdown",
   "metadata": {},
   "source": [
    "## Additional test with data from Ananna et al., 2017"
   ]
  },
  {
   "cell_type": "code",
   "execution_count": 103,
   "metadata": {
    "jupyter": {
     "source_hidden": true
    },
    "tags": []
   },
   "outputs": [],
   "source": [
    "if compare_A17_flag:\n",
    "    full_catalog_A17_df = pd.read_hdf(cat_path + file_S82_Ananna_17, key='df').drop(columns=features_2_discard)"
   ]
  },
  {
   "cell_type": "code",
   "execution_count": 104,
   "metadata": {
    "jupyter": {
     "source_hidden": true
    },
    "tags": []
   },
   "outputs": [],
   "source": [
    "if compare_A17_flag:\n",
    "    full_catalog_A17_df = pyr.predict_model(redshift_reg, data=full_catalog_A17_df, round=8)\n",
    "    full_catalog_A17_df = full_catalog_A17_df.rename(columns={'Label': 'pred_Z', 'is_AGN': 'class'})\n",
    "    full_catalog_A17_df['pred_Z'] = np.around(full_catalog_A17_df.loc[:, 'pred_Z'], decimals=6)\n",
    "    redshift_lim_0    = 2.0\n",
    "    redshift_tol_0    = 0.0\n",
    "    redshift_lim_1    = 3.0\n",
    "    redshift_tol_1    = 0.0\n",
    "    redshift_lim_2    = 3.6\n",
    "    redshift_tol_2    = 0.0\n",
    "    if use_second_z_model:\n",
    "        full_catalog_A17_df = pyr.predict_model(redshift_reg_2, data=full_catalog_A17_df, round=8)\n",
    "        filter_pred_z_A17   = full_catalog_A17_df.loc[:, 'pred_Z'] >= (redshift_lim_0 + redshift_tol_0)\n",
    "        full_catalog_A17_df.loc[:, 'pred_Z'] = full_catalog_A17_df.loc[:, 'pred_Z'].mask(filter_pred_z_A17, full_catalog_A17_df.loc[filter_pred_z_A17, 'Label'])\n",
    "        full_catalog_A17_df = full_catalog_A17_df.drop(columns=['Label'])\n",
    "        full_catalog_A17_df.loc[:, 'pred_Z'] = np.around(full_catalog_A17_df.loc[:, 'pred_Z'], decimals=6)\n",
    "    if use_third_z_model:\n",
    "        full_catalog_A17_df = pyr.predict_model(redshift_reg_3, data=full_catalog_A17_df, round=8)\n",
    "        filter_pred_z_A17   = full_catalog_A17_df.loc[:, 'pred_Z'] >= (redshift_lim_1 + redshift_tol_1)\n",
    "        full_catalog_A17_df.loc[:, 'pred_Z'] = full_catalog_A17_df.loc[:, 'pred_Z'].mask(filter_pred_z_A17, full_catalog_A17_df.loc[filter_pred_z_A17, 'Label'])\n",
    "        full_catalog_A17_df = full_catalog_A17_df.drop(columns=['Label'])\n",
    "        full_catalog_A17_df.loc[:, 'pred_Z'] = np.around(full_catalog_A17_df.loc[:, 'pred_Z'], decimals=6)\n",
    "    if use_fourth_z_model:\n",
    "        full_catalog_A17_df = pyr.predict_model(redshift_reg_4, data=full_catalog_A17_df, round=8)\n",
    "        filter_pred_z_A17   = full_catalog_A17_df.loc[:, 'pred_Z'] >= (redshift_lim_2 + redshift_tol_2)\n",
    "        full_catalog_A17_df.loc[:, 'pred_Z'] = full_catalog_A17_df.loc[:, 'pred_Z'].mask(filter_pred_z_A17, full_catalog_A17_df.loc[filter_pred_z_A17, 'Label'])\n",
    "        full_catalog_A17_df = full_catalog_A17_df.drop(columns=['Label'])\n",
    "        full_catalog_A17_df.loc[:, 'pred_Z'] = np.around(full_catalog_A17_df.loc[:, 'pred_Z'], decimals=6)"
   ]
  },
  {
   "cell_type": "code",
   "execution_count": 105,
   "metadata": {
    "jupyter": {
     "source_hidden": true
    },
    "tags": []
   },
   "outputs": [],
   "source": [
    "if compare_A17_flag:\n",
    "    sigma_mad_AGN_A17            = sigma_mad(full_catalog_A17_df.loc[:, 'Z'],    full_catalog_A17_df.loc[:, 'pred_Z'])\n",
    "    sigma_nmad_AGN_A17           = sigma_nmad(full_catalog_A17_df.loc[:, 'Z'],   full_catalog_A17_df.loc[:, 'pred_Z'])\n",
    "    sigma_z_AGN_A17              = sigma_z(full_catalog_A17_df.loc[:, 'Z'],      full_catalog_A17_df.loc[:, 'pred_Z'])\n",
    "    sigma_z_norm_AGN_A17         = sigma_z_norm(full_catalog_A17_df.loc[:, 'Z'], full_catalog_A17_df.loc[:, 'pred_Z'])\n",
    "    out_frac_AGN_A17             = outlier_frac(full_catalog_A17_df.loc[:, 'Z'], full_catalog_A17_df.loc[:, 'pred_Z'])"
   ]
  },
  {
   "cell_type": "code",
   "execution_count": 106,
   "metadata": {
    "jupyter": {
     "source_hidden": true
    }
   },
   "outputs": [],
   "source": [
    "if compare_A17_flag:\n",
    "    size_AGN_A17         = np.sum(np.isfinite(full_catalog_A17_df.loc[:, \"zsp\"]) & np.isfinite(full_catalog_A17_df.loc[:, \"pred_Z\"]))\n",
    "    metrics_z_AGN_A17    = np.array([size_AGN_A17, sigma_mad_AGN_A17, sigma_nmad_AGN_A17, sigma_z_AGN_A17,\n",
    "                                     sigma_z_norm_AGN_A17, out_frac_AGN_A17])\n",
    "    metrics_z_A17_df = pd.DataFrame(columns=['Sample', '\\u03C3 MAD', '\\u03C3 NMAD', '\\u03C3 z', '\\u03C3 z N', '\\u03B7'])\n",
    "    metrics_z_A17_df.loc['AGN'] = metrics_z_AGN_A17"
   ]
  },
  {
   "cell_type": "code",
   "execution_count": 107,
   "metadata": {
    "jupyter": {
     "source_hidden": true
    },
    "tags": []
   },
   "outputs": [],
   "source": [
    "if compare_A17_flag:\n",
    "    fig              = plt.figure(figsize=(7.5,4.3))\n",
    "    ax1              = fig.add_subplot(111, xscale='linear', yscale='linear')\n",
    "    \n",
    "    min_score        = np.nanmin([np.nanmin(full_catalog_A17_df.loc[:, 'zsp']), np.nanmin(full_catalog_A17_df.loc[:, 'pred_Z'])])\n",
    "    max_score        = np.nanmax([np.nanmax(full_catalog_A17_df.loc[:, 'zsp']), np.nanmax(full_catalog_A17_df.loc[:, 'pred_Z'])])\n",
    "    score_bins       = np.linspace(min_score, max_score, 30)\n",
    "    \n",
    "    sample_size_orig = np.sum(np.isfinite(full_catalog_A17_df.loc[:, 'zsp']))\n",
    "    sample_size_pred = np.sum(np.isfinite(full_catalog_A17_df.loc[:, 'pred_Z']))\n",
    "    \n",
    "    ax1.hist(full_catalog_A17_df.loc[:, 'zsp'], bins=score_bins, histtype='stepfilled',\\\n",
    "             ec='k', lw=3.5, color=cm.get_cmap('cet_gray')(0.8), alpha=0.8,\\\n",
    "             label=f'Original\\nN={sample_size_orig:,}', zorder=2)\n",
    "    ax1.hist(full_catalog_A17_df.loc[:, 'pred_Z'], bins=score_bins, histtype='stepfilled',\\\n",
    "             ec='k', lw=3.5, color=cm.get_cmap('cet_gray')(0.9), alpha=0.9,\\\n",
    "             label=f'Predicted\\nN={sample_size_pred:,}', zorder=1)\n",
    "        \n",
    "    ax1.tick_params(which='both', top=True, right=True, direction='in')\n",
    "    ax1.tick_params(axis='both', which='major', labelsize=14)\n",
    "    ax1.tick_params(which='major', length=8, width=1.5)\n",
    "    ax1.tick_params(which='minor', length=4, width=1.5)\n",
    "    ax1.set_xlabel('Redshift', size=20)\n",
    "    ax1.set_ylabel('Frequency', size=20)\n",
    "    plt.setp(ax1.spines.values(), linewidth=3.5)\n",
    "    plt.setp(ax1.spines.values(), linewidth=3.5)\n",
    "    plt.legend(loc=1, fontsize=14)\n",
    "    plt.grid(False)\n",
    "    ax1.set_title('S82: Ananna+17')\n",
    "    #ax1.set_aspect('equal', 'box')\n",
    "    fig.tight_layout()\n",
    "    if save_plot_flag:\n",
    "        plt.savefig(f'plots/hist_redshift_AGN_{used_area}_Ananna_17.pdf', bbox_inches='tight')\n",
    "    plt.show()"
   ]
  },
  {
   "cell_type": "code",
   "execution_count": 108,
   "metadata": {
    "jupyter": {
     "source_hidden": true
    },
    "tags": []
   },
   "outputs": [],
   "source": [
    "if compare_A17_flag:\n",
    "    full_catalog_A17_df = full_catalog_A17_df.loc[np.array(full_catalog_A17_df.loc[:, 'class'] == 1) &\\\n",
    "                                                  np.array(full_catalog_A17_df.loc[:, 'radio_detect'] == 1)]"
   ]
  },
  {
   "cell_type": "code",
   "execution_count": 109,
   "metadata": {
    "jupyter": {
     "source_hidden": true
    },
    "tags": []
   },
   "outputs": [],
   "source": [
    "if compare_A17_flag:\n",
    "    used_z_col = 'zsp'\n",
    "    full_catalog_A17_df['Delta_z_N'] = np.around((full_catalog_A17_df.loc[:, 'pred_Z'] - full_catalog_A17_df.loc[:, used_z_col]) /\\\n",
    "                                                 (1 + full_catalog_A17_df.loc[:, used_z_col]), decimals=3)\n",
    "    full_catalog_A17_df['sigma_NMAD'] = np.around(1.48 * np.abs(full_catalog_A17_df.loc[:, 'pred_Z'] - full_catalog_A17_df.loc[:, used_z_col]) /\\\n",
    "                                                  (1 + full_catalog_A17_df.loc[:, used_z_col]), decimals=3)"
   ]
  },
  {
   "cell_type": "code",
   "execution_count": 110,
   "metadata": {
    "jupyter": {
     "source_hidden": true
    },
    "tags": []
   },
   "outputs": [],
   "source": [
    "if compare_A17_flag:\n",
    "    show_columns_A17 = ['RA_ICRS', 'DE_ICRS', 'Name', 'TYPE', 'band_num', 'Z', 'zsp', 'pred_Z', 'Delta_z_N']\n",
    "    with pd.option_context('display.float_format', '{:.4f}'.format):\n",
    "        display(full_catalog_A17_df.loc[:, show_columns_A17].sort_values(by='pred_Z', ascending=False).head(10))\n",
    "        display(full_catalog_A17_df.loc[:, show_columns_A17].sort_values(by=used_z_col, ascending=False).head(10))"
   ]
  },
  {
   "cell_type": "code",
   "execution_count": 111,
   "metadata": {
    "jupyter": {
     "source_hidden": true
    },
    "tags": []
   },
   "outputs": [],
   "source": [
    "if compare_A17_flag:\n",
    "    sigma_mad_rAGN_A17            = sigma_mad(full_catalog_A17_df.loc[:, 'Z'],    full_catalog_A17_df.loc[:, 'pred_Z'])\n",
    "    sigma_nmad_rAGN_A17           = sigma_nmad(full_catalog_A17_df.loc[:, 'Z'],   full_catalog_A17_df.loc[:, 'pred_Z'])\n",
    "    sigma_z_rAGN_A17              = sigma_z(full_catalog_A17_df.loc[:, 'Z'],      full_catalog_A17_df.loc[:, 'pred_Z'])\n",
    "    sigma_z_norm_rAGN_A17         = sigma_z_norm(full_catalog_A17_df.loc[:, 'Z'], full_catalog_A17_df.loc[:, 'pred_Z'])\n",
    "    out_frac_rAGN_A17             = outlier_frac(full_catalog_A17_df.loc[:, 'Z'], full_catalog_A17_df.loc[:, 'pred_Z'])"
   ]
  },
  {
   "cell_type": "code",
   "execution_count": 112,
   "metadata": {
    "jupyter": {
     "source_hidden": true
    }
   },
   "outputs": [],
   "source": [
    "if compare_A17_flag:\n",
    "    size_rAGN_A17     = np.sum(np.isfinite(full_catalog_A17_df.loc[:, \"zsp\"]) & np.isfinite(full_catalog_A17_df.loc[:, \"pred_Z\"]))\n",
    "    metrics_z_rAGN_A17    = np.array([size_rAGN_A17, sigma_mad_rAGN_A17, sigma_nmad_rAGN_A17, sigma_z_rAGN_A17,\n",
    "                                 sigma_z_norm_rAGN_A17, out_frac_rAGN_A17])\n",
    "    metrics_z_A17_df.loc['Radio AGN'] = metrics_z_rAGN_A17"
   ]
  },
  {
   "cell_type": "code",
   "execution_count": 113,
   "metadata": {
    "jupyter": {
     "source_hidden": true
    }
   },
   "outputs": [],
   "source": [
    "if compare_A17_flag:\n",
    "    print('Metrics for redshift predictions in all AGN and Radio AGN from Ananna et al., 2017 with counterparts in our sample')\n",
    "    metrics_z_A17_df.loc[:, 'Sample'] = metrics_z_A17_df.loc[:, 'Sample'].astype(int)\n",
    "    with pd.option_context('display.float_format', '{:.4f}'.format):\n",
    "        display(metrics_z_A17_df)"
   ]
  },
  {
   "cell_type": "code",
   "execution_count": 114,
   "metadata": {
    "jupyter": {
     "source_hidden": true
    },
    "tags": []
   },
   "outputs": [],
   "source": [
    "if compare_A17_flag:\n",
    "    fig             = plt.figure(figsize=(6,5))\n",
    "    ax1             = fig.add_subplot(111, projection='scatter_density', xscale='log', yscale='log')\n",
    "    plot_redshift_compare(full_catalog_A17_df.loc[:, used_z_col], full_catalog_A17_df.loc[:, 'pred_Z'],\\\n",
    "                          ax_pre=ax1, title=None, dpi=10, show_clb=True, log_stretch=False)\n",
    "    if save_plot_flag:\n",
    "        plt.savefig(f'plots/compare_redshift_{used_area}_Ananna_17.pdf', bbox_inches='tight')\n",
    "    plt.show()"
   ]
  },
  {
   "cell_type": "code",
   "execution_count": null,
   "metadata": {},
   "outputs": [],
   "source": []
  }
 ],
 "metadata": {
  "kernelspec": {
   "display_name": "Python 3 (ipykernel)",
   "language": "python",
   "name": "python3"
  },
  "language_info": {
   "codemirror_mode": {
    "name": "ipython",
    "version": 3
   },
   "file_extension": ".py",
   "mimetype": "text/x-python",
   "name": "python",
   "nbconvert_exporter": "python",
   "pygments_lexer": "ipython3",
   "version": "3.8.13"
  }
 },
 "nbformat": 4,
 "nbformat_minor": 4
}
