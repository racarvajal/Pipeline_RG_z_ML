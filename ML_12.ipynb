{
 "cells": [
  {
   "cell_type": "markdown",
   "metadata": {},
   "source": [
    "# Pipeline for High-z Radio Galaxies 12: Application of full pipeline for prediction"
   ]
  },
  {
   "cell_type": "markdown",
   "metadata": {},
   "source": [
    "## Introduction"
   ]
  },
  {
   "cell_type": "markdown",
   "metadata": {},
   "source": [
    "In this file, three models will be applied consecutively in order to predict  \n",
    "the detection of Radio Galaxies (radio AGN) and their redshift.  \n",
    "\n",
    "In principle, this pipeline should be applied to data in Stripe 82. But  \n",
    "it can be used with any other suitable dataset."
   ]
  },
  {
   "cell_type": "code",
   "execution_count": 1,
   "metadata": {},
   "outputs": [],
   "source": [
    "%matplotlib inline\n",
    "# Static plots\n",
    "#%matplotlib ipympl\n",
    "# Interactive plots\n",
    "import numpy as np\n",
    "import matplotlib as mpl\n",
    "import matplotlib.cm as cm\n",
    "from matplotlib import ticker\n",
    "import matplotlib.pyplot as plt\n",
    "import matplotlib.colors as mcolors\n",
    "import matplotlib.patheffects as mpe\n",
    "import matplotlib.patches as mpatches\n",
    "from matplotlib.ticker import ScalarFormatter\n",
    "from mpl_toolkits.axes_grid1.inset_locator import inset_axes\n",
    "from astropy.visualization import LogStretch, PowerStretch\n",
    "from astropy.visualization.mpl_normalize import ImageNormalize\n",
    "from sklearn.preprocessing import MinMaxScaler\n",
    "from sklearn.metrics import ConfusionMatrixDisplay\n",
    "from sklearn.model_selection import train_test_split\n",
    "import sklearn.pipeline\n",
    "import colorcet as cc\n",
    "from pycaret import classification as pyc\n",
    "from pycaret import regression as pyr\n",
    "from pycaret.internal.tabular import _get_columns_to_stratify_by\n",
    "import pandas as pd\n",
    "import mpl_scatter_density\n",
    "# import schemdraw\n",
    "# from schemdraw import flow"
   ]
  },
  {
   "cell_type": "code",
   "execution_count": 2,
   "metadata": {},
   "outputs": [],
   "source": [
    "mpl.rcdefaults()"
   ]
  },
  {
   "cell_type": "markdown",
   "metadata": {},
   "source": [
    "Create path effects."
   ]
  },
  {
   "cell_type": "code",
   "execution_count": 3,
   "metadata": {
    "jupyter": {
     "source_hidden": true
    },
    "tags": []
   },
   "outputs": [],
   "source": [
    "pe1            = [mpe.Stroke(linewidth=5.0, foreground='black'),\n",
    "                  mpe.Stroke(foreground='white', alpha=1),\n",
    "                  mpe.Normal()]\n",
    "pe2            = [mpe.Stroke(linewidth=3.0, foreground='white'),\n",
    "                  mpe.Stroke(foreground='white', alpha=1),\n",
    "                  mpe.Normal()]"
   ]
  },
  {
   "cell_type": "markdown",
   "metadata": {},
   "source": [
    "Define specific metrics for redshift values."
   ]
  },
  {
   "cell_type": "code",
   "execution_count": 4,
   "metadata": {
    "jupyter": {
     "source_hidden": true
    },
    "tags": []
   },
   "outputs": [],
   "source": [
    "def sigma_mad(z_true, z_pred, **kwargs):\n",
    "    try:\n",
    "        med = np.nanmedian(np.abs(z_true - z_pred)).astype('float32')\n",
    "    except:\n",
    "        med = np.nanmedian(np.abs(z_true - z_pred))\n",
    "    return 1.48 * med"
   ]
  },
  {
   "cell_type": "code",
   "execution_count": 5,
   "metadata": {
    "jupyter": {
     "source_hidden": true
    },
    "tags": []
   },
   "outputs": [],
   "source": [
    "def sigma_nmad(z_true, z_pred, **kwargs):\n",
    "    dif  = (z_true - z_pred)\n",
    "    frac = dif / (1 + z_true).values\n",
    "    try:\n",
    "        med  = np.nanmedian(np.abs(frac)).astype('float32')\n",
    "    except:\n",
    "        med  = np.nanmedian(np.abs(frac))\n",
    "    return 1.48 * med"
   ]
  },
  {
   "cell_type": "code",
   "execution_count": 6,
   "metadata": {
    "jupyter": {
     "source_hidden": true
    },
    "tags": []
   },
   "outputs": [],
   "source": [
    "def sigma_z(z_true, z_pred, **kwargs):\n",
    "    dif = z_true - z_pred\n",
    "    ssq = np.sum(dif**2)\n",
    "    try:\n",
    "        rot = np.sqrt(ssq / len(z_true)).astype('float32')\n",
    "    except:\n",
    "        rot = np.sqrt(ssq / len(z_true))\n",
    "    return rot"
   ]
  },
  {
   "cell_type": "code",
   "execution_count": 7,
   "metadata": {
    "jupyter": {
     "source_hidden": true
    },
    "tags": []
   },
   "outputs": [],
   "source": [
    "def sigma_z_norm(z_true, z_pred, **kwargs):\n",
    "    dif = (z_true - z_pred) / (1 + z_true)\n",
    "    ssq = np.sum(dif**2)\n",
    "    try:\n",
    "        rot = np.sqrt(ssq / len(z_true)).astype('float32')\n",
    "    except:\n",
    "        rot = np.sqrt(ssq / len(z_true))\n",
    "    return rot"
   ]
  },
  {
   "cell_type": "code",
   "execution_count": 8,
   "metadata": {
    "jupyter": {
     "source_hidden": true
    },
    "tags": []
   },
   "outputs": [],
   "source": [
    "def outlier_frac(z_true, z_pred, **kwargs):\n",
    "    dif  = np.abs((z_true - z_pred) / (1 + z_true))\n",
    "    try:\n",
    "        siz  = np.sum(np.isfinite(dif)).astype('float32')\n",
    "        num  = np.sum(np.array(dif > 0.15)).astype('float32')\n",
    "    except:\n",
    "        siz  = np.sum(np.isfinite(dif))\n",
    "        num  = np.sum(np.array(dif > 0.15))\n",
    "    frac = num / siz\n",
    "    return frac"
   ]
  },
  {
   "cell_type": "markdown",
   "metadata": {},
   "source": [
    "Methods for Pycaret and saved models."
   ]
  },
  {
   "cell_type": "code",
   "execution_count": 9,
   "metadata": {
    "jupyter": {
     "source_hidden": true
    },
    "tags": []
   },
   "outputs": [],
   "source": [
    "def get_final_column_names(pycaret_pipeline, sample_df):\n",
    "    if isinstance(pycaret_pipeline, sklearn.pipeline.Pipeline):\n",
    "        for (name, method) in pycaret_pipeline.named_steps.items():\n",
    "            if method != 'passthrough' and name != 'trained_model':\n",
    "                print(f'Running {name}')\n",
    "                sample_df = method.transform(sample_df)\n",
    "        return sample_df.columns.tolist()\n",
    "    else:\n",
    "        try:\n",
    "            for (name, method) in pyr.get_config('prep_pipe').named_steps.items():\n",
    "                if method != 'passthrough' and name != 'trained_model':\n",
    "                    print(f'Running {name}')\n",
    "                    sample_df = method.transform(sample_df)\n",
    "        except:\n",
    "            for (name, method) in pyc.get_config('prep_pipe').named_steps.items():\n",
    "                if method != 'passthrough' and name != 'trained_model':\n",
    "                    print(f'Running {name}')\n",
    "                    sample_df = method.transform(sample_df)\n",
    "        return sample_df.columns.tolist()"
   ]
  },
  {
   "cell_type": "code",
   "execution_count": 10,
   "metadata": {
    "jupyter": {
     "source_hidden": true
    },
    "tags": []
   },
   "outputs": [],
   "source": [
    "def get_feature_importances_df(pycaret_pipeline, sample_df, n = 10):\n",
    "    \n",
    "    final_cols = get_final_column_names(pycaret_pipeline, sample_df)\n",
    "    \n",
    "    if isinstance(pycaret_pipeline, sklearn.pipeline.Pipeline):\n",
    "        try:\n",
    "            variables = pycaret_pipeline[\"trained_model\"].feature_importances_\n",
    "            \n",
    "        except:\n",
    "            variables = np.mean([\n",
    "                            tree.feature_importances_ for tree in pycaret_pipeline[\"trained_model\"].estimators_\n",
    "                if hasattr(tree, 'feature_importances_')\n",
    "                            ], axis=0)\n",
    "        \n",
    "        coef_df = pd.DataFrame({'Feature': final_cols, 'Importance': variables})\n",
    "        sorted_df = (\n",
    "            coef_df.sort_values(by='Importance', ascending=False)\n",
    "            .head(n)\n",
    "            .sort_values(by='Importance', ascending=True).reset_index(drop=True)\n",
    "        )\n",
    "    else:\n",
    "        try:\n",
    "            variables = pycaret_pipeline.feature_importances_\n",
    "            \n",
    "        except:\n",
    "            variables = np.mean([\n",
    "                            tree.feature_importances_ for tree in pycaret_pipeline.estimators_\n",
    "                if hasattr(tree, 'feature_importances_')\n",
    "                            ], axis=0)\n",
    "        \n",
    "        coef_df = pd.DataFrame({'Feature': final_cols, 'Importance': variables})\n",
    "        sorted_df = (\n",
    "            coef_df.sort_values(by='Importance', ascending=False)\n",
    "            .head(n)\n",
    "            .sort_values(by='Importance', ascending=True).reset_index(drop=True)\n",
    "        )\n",
    "    return sorted_df"
   ]
  },
  {
   "cell_type": "markdown",
   "metadata": {},
   "source": [
    "Methods for the use of values in Confusion Matrices."
   ]
  },
  {
   "cell_type": "code",
   "execution_count": 11,
   "metadata": {},
   "outputs": [],
   "source": [
    "def flatten_CM(cm_array):\n",
    "    try:\n",
    "        TN, FP, FN, TP = cm_array.flatten().astype('float32')\n",
    "    except:\n",
    "        TN, FP, FN, TP = cm_array.flatten()\n",
    "    return TN, FP, FN, TP"
   ]
  },
  {
   "cell_type": "code",
   "execution_count": 12,
   "metadata": {
    "tags": []
   },
   "outputs": [],
   "source": [
    "def MCC_from_CM(cm_array):  # Matthews correlation coefficient\n",
    "    TN, FP, FN, TP = flatten_CM(cm_array)\n",
    "    MCC = ((TP * TN) - (FP * FN)) / np.sqrt((TP + FP) * (TP + FN) * (TN + FP) * (TN + FN))\n",
    "    return MCC"
   ]
  },
  {
   "cell_type": "code",
   "execution_count": 13,
   "metadata": {
    "tags": []
   },
   "outputs": [],
   "source": [
    "def ACC_from_CM(cm_array):  # Accuracy\n",
    "    TN, FP, FN, TP = flatten_CM(cm_array)\n",
    "    ACC = (TP + TN) / (TP + TN + FP + FN)\n",
    "    return ACC"
   ]
  },
  {
   "cell_type": "code",
   "execution_count": 14,
   "metadata": {
    "tags": []
   },
   "outputs": [],
   "source": [
    "def F1_from_CM(cm_array):  # F-1 score\n",
    "    TN, FP, FN, TP = flatten_CM(cm_array)\n",
    "    F1 = 2 * TP / (2 * TP + FP + FN)\n",
    "    return F1"
   ]
  },
  {
   "cell_type": "code",
   "execution_count": 15,
   "metadata": {
    "tags": []
   },
   "outputs": [],
   "source": [
    "def Recall_from_CM(cm_array):  # Recall\n",
    "    TN, FP, FN, TP = flatten_CM(cm_array)\n",
    "    Recall = TP / (TP + FN)\n",
    "    return Recall"
   ]
  },
  {
   "cell_type": "markdown",
   "metadata": {},
   "source": [
    "Method to plot confusion matrix"
   ]
  },
  {
   "cell_type": "code",
   "execution_count": 16,
   "metadata": {
    "jupyter": {
     "source_hidden": true
    },
    "tags": []
   },
   "outputs": [],
   "source": [
    "def plot_conf_mat(confusion_matrix, title, axin, display_labels=['Non true', 'True'], cmap='cet_dimgray_r', show_clb=False, log_stretch=False):\n",
    "    disp = ConfusionMatrixDisplay(confusion_matrix=confusion_matrix, display_labels=display_labels)\n",
    "\n",
    "    min_val_colour = np.nanmin(confusion_matrix)\n",
    "    max_val_colour = np.nanmin(confusion_matrix)\n",
    "    \n",
    "    if log_stretch:\n",
    "        norm = ImageNormalize(stretch=LogStretch())\n",
    "    if not log_stretch:\n",
    "        norm = ImageNormalize(stretch=PowerStretch(0.35))\n",
    "\n",
    "    # NOTE: Fill all variables here with default values of the plot_confusion_matrix\n",
    "    disp_b = disp.plot(include_values=True, cmap=cm.get_cmap(cmap),\\\n",
    "             ax=axin, xticks_rotation='horizontal', values_format=',')\n",
    "\n",
    "    for text_val in disp_b.text_.flatten():\n",
    "        text_val.set_fontsize(28)\n",
    "    clb = plt.gca().images[-1].colorbar\n",
    "    clb.ax.tick_params(labelsize=14)\n",
    "    clb.ax.ticklabel_format(style='sci', scilimits=(0, 0))\n",
    "    clb.outline.set_linewidth(2.5)\n",
    "    clb.ax.set_ylabel('Elements in bin', size=14)\n",
    "    if not show_clb:\n",
    "        clb.remove()\n",
    "\n",
    "    # disp_b.im_.set_clim(1e2, 3e3)\n",
    "    disp_b.im_.norm = norm\n",
    "\n",
    "    axin.xaxis.get_label().set_fontsize(16)\n",
    "    axin.yaxis.get_label().set_fontsize(16)\n",
    "\n",
    "    axin.tick_params(axis='both', which='major', labelsize=14)\n",
    "\n",
    "    plt.setp(axin.spines.values(), linewidth=2.5)\n",
    "    plt.setp(axin.spines.values(), linewidth=2.5)\n",
    "    axin.set_title(title, fontsize=16)\n",
    "    plt.tight_layout()"
   ]
  },
  {
   "cell_type": "markdown",
   "metadata": {},
   "source": [
    "Method to plot predicted and true redshift values"
   ]
  },
  {
   "cell_type": "code",
   "execution_count": 17,
   "metadata": {
    "jupyter": {
     "source_hidden": true
    },
    "tags": []
   },
   "outputs": [],
   "source": [
    "def plot_redshift_compare(true_z, predicted_z, ax_pre, title=None, dpi=10, cmap='cet_linear_kryw_5_100_c64_r', show_clb=False, log_stretch=False):\n",
    "    if log_stretch:\n",
    "        norm = ImageNormalize(vmin=0., stretch=LogStretch())\n",
    "    if not log_stretch:\n",
    "        norm = ImageNormalize(vmin=0., stretch=PowerStretch(0.5))\n",
    "\n",
    "    filt_pair_z   = np.isfinite(true_z) & np.isfinite(predicted_z)\n",
    "    max_for_range = np.nanmax([np.nanmax(1 + true_z.loc[filt_pair_z]), np.nanmax(1 + predicted_z.loc[filt_pair_z])])\n",
    "\n",
    "    dens_1 = ax_pre.scatter_density((1 + true_z.sample(frac=1, random_state=seed)),\\\n",
    "            (1 + predicted_z.sample(frac=1, random_state=seed)),\\\n",
    "            cmap=plt.get_cmap(cmap), zorder=0, dpi=dpi, norm=norm, alpha=0.93)\n",
    "    \n",
    "    ax_pre.axline((2., 2.), (3., 3.), ls='--', marker=None, c='Gray', alpha=0.8, lw=3.0, zorder=20)\n",
    "    ax_pre.axline(xy1=(1., 1.15), xy2=(2., 2.3), ls='-.', marker=None, c='slateblue', alpha=0.6, lw=3.0, zorder=20)\n",
    "    ax_pre.axline(xy1=(1., 0.85), xy2=(2., 1.7), ls='-.', marker=None, c='slateblue', alpha=0.6, lw=3.0, zorder=20)\n",
    "\n",
    "    if show_clb:\n",
    "        clb = plt.colorbar(dens_1, extend='neither', norm=norm, ticks=ticker.MaxNLocator(integer=True))\n",
    "        clb.ax.tick_params(labelsize=14)\n",
    "        clb.outline.set_linewidth(2.5)\n",
    "        clb.ax.set_ylabel('Elements per pixel', size=16, path_effects=pe2)\n",
    "\n",
    "    # Inset axis with residuals\n",
    "    axins = inset_axes(ax_pre, width='35%', height='20%', loc=2)\n",
    "    res_z_z = (predicted_z - true_z) / (1 + true_z)\n",
    "    axins.hist(res_z_z, histtype='stepfilled', fc='grey', ec='k', bins=50, lw=2.5)\n",
    "    axins.axvline(x=np.nanpercentile(res_z_z, [15.9]), ls='--', lw=2.5, c='royalblue')\n",
    "    axins.axvline(x=np.nanpercentile(res_z_z, [84.1]), ls='--', lw=2.5, c='royalblue')\n",
    "    axins.set_xlabel('$\\Delta z / (1 + z_{\\mathrm{True}})$', fontsize=10)\n",
    "    axins.tick_params(labelleft=False, labelbottom=True)\n",
    "    axins.tick_params(which='both', top=True, right=True, direction='in')\n",
    "    axins.tick_params(axis='both', which='major', labelsize=10)\n",
    "    axins.tick_params(which='major', length=8, width=1.5)\n",
    "    axins.tick_params(which='minor', length=4, width=1.5)\n",
    "    plt.setp(axins.spines.values(), linewidth=2.5)\n",
    "    plt.setp(axins.spines.values(), linewidth=2.5)\n",
    "    axins.set_xlim(left=-0.9, right=0.9)\n",
    "    ##\n",
    "    ax_pre.set_xlabel('$1 + z_{\\mathrm{True}}$', fontsize=20)\n",
    "    ax_pre.set_ylabel('$1 + z_{\\mathrm{Predicted}}$', fontsize=20)\n",
    "    ax_pre.tick_params(which='both', top=True, right=True, direction='in')\n",
    "    ax_pre.tick_params(axis='both', which='minor', labelsize=14)\n",
    "    ax_pre.tick_params(which='major', length=8, width=1.5)\n",
    "    ax_pre.tick_params(which='minor', length=4, width=1.5)\n",
    "    # ax_pre.xaxis.set_major_locator(ticker.MaxNLocator(integer=True))\n",
    "    # ax_pre.yaxis.set_major_locator(ticker.MaxNLocator(integer=True))\n",
    "    ax_pre.xaxis.set_minor_formatter(ticker.ScalarFormatter(useMathText=False))\n",
    "    ax_pre.yaxis.set_minor_formatter(ticker.ScalarFormatter(useMathText=False))\n",
    "    plt.setp(ax_pre.spines.values(), linewidth=2.5)\n",
    "    plt.setp(ax_pre.spines.values(), linewidth=2.5)\n",
    "    ax_pre.set_xlim(left=1., right=np.ceil(max_for_range))\n",
    "    ax_pre.set_ylim(bottom=1., top=np.ceil(max_for_range))\n",
    "    ax_pre.set_title(title)\n",
    "    plt.tight_layout()"
   ]
  },
  {
   "cell_type": "markdown",
   "metadata": {},
   "source": [
    "---"
   ]
  },
  {
   "cell_type": "markdown",
   "metadata": {},
   "source": [
    "## Reading data"
   ]
  },
  {
   "cell_type": "code",
   "execution_count": 18,
   "metadata": {},
   "outputs": [],
   "source": [
    "cat_path            = '../../Catalogs/'  # relative path to the same directory"
   ]
  },
  {
   "cell_type": "markdown",
   "metadata": {
    "tags": []
   },
   "source": [
    "Flags."
   ]
  },
  {
   "cell_type": "code",
   "execution_count": 19,
   "metadata": {},
   "outputs": [],
   "source": [
    "save_plot_flag      = False\n",
    "load_models_flag    = True\n",
    "use_zeroth_model    = False  # Initial model to discriminate between star and non-star objects\n",
    "use_second_z_model  = False  # z >= 2.0\n",
    "use_third_z_model   = False  # z >= 3.0\n",
    "use_fourth_z_model  = True  # z >= 3.7 (with SMOGN), or, if needed, z >= 4.0\n",
    "compare_A17_flag    = True  # Compare with the results from Ananna et al., 2017"
   ]
  },
  {
   "cell_type": "code",
   "execution_count": 20,
   "metadata": {},
   "outputs": [],
   "source": [
    "used_area           = 'HETDEX'  # can be 'S82', 'HETDEX', 'COSMOS'"
   ]
  },
  {
   "cell_type": "code",
   "execution_count": 21,
   "metadata": {
    "jupyter": {
     "source_hidden": true
    }
   },
   "outputs": [],
   "source": [
    "if used_area != 'S82':\n",
    "    compare_A17_flag = False"
   ]
  },
  {
   "cell_type": "code",
   "execution_count": 22,
   "metadata": {
    "tags": []
   },
   "outputs": [],
   "source": [
    "file_S82            = 'CatWISE2020_S82_VLASS_VLAS82_PS1_GALEX_TGSS_XMM_2MASS_MILLIQUAS_7_4d_ALLWISE_SDSS_DR16_5sigma_imp.h5'\n",
    "file_HETDEX         = 'CatWISE2020_VLASS_LOFAR_PS1_GALEX_TGSS_XMM_2MASS_MILLIQUAS_7_4d_ALLWISE_LOLSS_SDSS_DR16_5sigma_imp.h5'\n",
    "file_COSMOS         = 'CatWISE2020_COSMOS_MILLIQUAS_7_4d_COSMOSVLA3_PS1_GALEX_TGSS_VLASS_XMM_2MASS_ALLWISE_SDSS_DR16_5sigma_imp.h5'\n",
    "file_S82_Ananna_17  = f'CatWISE2020_S82_VLASS_VLAS82_PS1_GALEX_TGSS_XMM_2MASS_MILLIQUAS_7_4d_ALLWISE_Ananna_17_zsp_5sigma_imp.h5'  # 204 objects\n",
    "\n",
    "file_name_dict      = {'S82': file_S82, 'HETDEX': file_HETDEX, 'COSMOS': file_COSMOS}\n",
    "file_name           = file_name_dict[used_area]"
   ]
  },
  {
   "cell_type": "code",
   "execution_count": 23,
   "metadata": {
    "jupyter": {
     "source_hidden": true
    },
    "tags": []
   },
   "outputs": [],
   "source": [
    "# feats_2_disc_S82    = ['objID', 'RA_MILLI', 'DEC_MILLI', 'X_ray_detect', 'Total_flux_VLASS',\\\n",
    "#                      'Fint_VLAS82', 'Stotal_TGSS', 'FEP', 'W1mag', 'W2mag']\n",
    "# feats_2_disc_HETDEX = ['objID', 'RA_MILLI', 'DEC_MILLI', 'X_ray_detect', 'Total_flux_VLASS',\\\n",
    "#                      'Sint_LOFAR', 'Stotal_TGSS', 'FEP', 'TotalFlux_LoLSS', 'W1mag', 'W2mag']\n",
    "# feats_2_disc_COSMOS = ['objID', 'RA_MILLI', 'DEC_MILLI', 'X_ray_detect', 'Total_flux_VLASS',\\\n",
    "#                      'Stotal_TGSS', 'FEP', 'Flux_COSMOSVLA3', 'W1mag', 'W2mag']\n",
    "\n",
    "feats_2_disc_S82    = ['RA_MILLI', 'DEC_MILLI', 'X_ray_detect', 'W1mag', 'W2mag']\n",
    "feats_2_disc_HETDEX = ['RA_MILLI', 'DEC_MILLI', 'X_ray_detect', 'W1mag', 'W2mag']\n",
    "feats_2_disc_COSMOS = ['RA_MILLI', 'DEC_MILLI', 'X_ray_detect', 'W1mag', 'W2mag']\n",
    "\n",
    "feats_2_disc        = {'S82': feats_2_disc_S82, 'HETDEX': feats_2_disc_HETDEX, 'COSMOS': feats_2_disc_COSMOS}\n",
    "features_2_discard  = feats_2_disc[used_area]"
   ]
  },
  {
   "cell_type": "code",
   "execution_count": 24,
   "metadata": {},
   "outputs": [],
   "source": [
    "full_catalog_df     = pd.read_hdf(cat_path + file_name, key='df').drop(columns=features_2_discard)"
   ]
  },
  {
   "cell_type": "code",
   "execution_count": 25,
   "metadata": {},
   "outputs": [],
   "source": [
    "full_catalog_df.loc[:, 'radio_detect'] = full_catalog_df.loc[:, 'radio_detect'].astype(int)"
   ]
  },
  {
   "cell_type": "markdown",
   "metadata": {},
   "source": [
    "Create features with class and combined redshift."
   ]
  },
  {
   "cell_type": "code",
   "execution_count": 26,
   "metadata": {},
   "outputs": [],
   "source": [
    "if use_zeroth_model:\n",
    "    full_catalog_df['is_str'] = np.array(full_catalog_df.loc[:, 'spCl'] == 'STAR  ').astype(int)"
   ]
  },
  {
   "cell_type": "code",
   "execution_count": 27,
   "metadata": {
    "jupyter": {
     "source_hidden": true
    }
   },
   "outputs": [],
   "source": [
    "full_catalog_df['class']            = full_catalog_df.loc[:, 'is_AGN'].copy()\n",
    "if use_zeroth_model:\n",
    "    filter_non_confirmed            = np.array(full_catalog_df.loc[:, 'is_AGN'] == 1) |\\\n",
    "                                      np.array(full_catalog_df.loc[:, 'is_gal'] == 1) |\\\n",
    "                                      np.array(full_catalog_df.loc[:, 'is_str'] == 1)\n",
    "    full_catalog_df.loc[np.array(full_catalog_df.loc[:, 'is_str'] == 1), 'class'] = 2\n",
    "elif not use_zeroth_model:\n",
    "    filter_non_confirmed            = np.array(full_catalog_df.loc[:, 'is_AGN'] == 1) |\\\n",
    "                                      np.array(full_catalog_df.loc[:, 'is_gal'] == 1)\n",
    "full_catalog_df.loc[~filter_non_confirmed, 'class'] = 0.5\n",
    "idx_non_Z                           = full_catalog_df.loc[:, 'Z'].where(full_catalog_df.loc[:, 'Z'] > 0).isna()\n",
    "full_catalog_df.loc[idx_non_Z, 'Z'] = full_catalog_df.loc[:, 'Z'].mask(idx_non_Z, full_catalog_df.loc[idx_non_Z, 'zsp'])"
   ]
  },
  {
   "cell_type": "markdown",
   "metadata": {},
   "source": [
    "Create column for detection as Radio AGN"
   ]
  },
  {
   "cell_type": "code",
   "execution_count": 28,
   "metadata": {},
   "outputs": [],
   "source": [
    "full_catalog_df['radio_AGN']        = np.array(full_catalog_df.loc[:, 'is_AGN'] == 1) & np.array(full_catalog_df.loc[:, 'radio_detect'] == 1)"
   ]
  },
  {
   "cell_type": "markdown",
   "metadata": {},
   "source": [
    "##### Random seed"
   ]
  },
  {
   "cell_type": "code",
   "execution_count": 29,
   "metadata": {},
   "outputs": [],
   "source": [
    "seed                                = 42"
   ]
  },
  {
   "cell_type": "markdown",
   "metadata": {},
   "source": [
    "---"
   ]
  },
  {
   "cell_type": "markdown",
   "metadata": {},
   "source": [
    "Split dataset if from HETDEX"
   ]
  },
  {
   "cell_type": "code",
   "execution_count": 30,
   "metadata": {},
   "outputs": [
    {
     "name": "stdout",
     "output_type": "stream",
     "text": [
      "Shape of used data\n",
      "----------------------------------------\n",
      "Full Dataset size: (1760691, 58)\n",
      "Data for Modeling (Train and Test): (1408552, 58)\n",
      "Unseen Data For Validation: (352139, 58)\n",
      "----------------------------------------\n"
     ]
    }
   ],
   "source": [
    "if used_area == 'HETDEX':\n",
    "    full_catalog_df = full_catalog_df.loc[(full_catalog_df.loc[:, 'is_AGN'] == 1) | (full_catalog_df.loc[:, 'is_gal'] == 1)]\n",
    "    train_test_df, validation_df = train_test_split(full_catalog_df, test_size=0.2, random_state=seed, stratify=full_catalog_df.loc[:, 'class'])\n",
    "    # data_train_test_AGN_df = full_catalog_df.sample(frac=0.9, random_state=seed)  # Train + test sets\n",
    "    # data_validation_AGN_df = full_catalog_df.drop(data_train_test_AGN_df.index)  # Validation data\n",
    "    \n",
    "    print('Shape of used data')\n",
    "    print('-' * 40)\n",
    "    print(f'Full Dataset size: {full_catalog_df.shape}')\n",
    "    print(f'Data for Modeling (Train and Test): {train_test_df.shape}')\n",
    "    print(f'Unseen Data For Validation: {validation_df.shape}')\n",
    "    print('-' * 40)\n",
    "    full_catalog_df = validation_df"
   ]
  },
  {
   "cell_type": "code",
   "execution_count": 31,
   "metadata": {},
   "outputs": [
    {
     "data": {
      "text/plain": [
       "352139"
      ]
     },
     "execution_count": 31,
     "metadata": {},
     "output_type": "execute_result"
    }
   ],
   "source": [
    "len(full_catalog_df.loc[:, \"is_AGN\"])"
   ]
  },
  {
   "cell_type": "code",
   "execution_count": 32,
   "metadata": {},
   "outputs": [
    {
     "data": {
      "text/plain": [
       "(352139, 58)"
      ]
     },
     "execution_count": 32,
     "metadata": {},
     "output_type": "execute_result"
    }
   ],
   "source": [
    "np.shape(full_catalog_df)"
   ]
  },
  {
   "cell_type": "code",
   "execution_count": 33,
   "metadata": {},
   "outputs": [
    {
     "data": {
      "text/plain": [
       "6079"
      ]
     },
     "execution_count": 33,
     "metadata": {},
     "output_type": "execute_result"
    }
   ],
   "source": [
    "np.sum(np.array(full_catalog_df.loc[:, 'is_AGN'] == 1))"
   ]
  },
  {
   "cell_type": "code",
   "execution_count": 34,
   "metadata": {},
   "outputs": [
    {
     "data": {
      "text/plain": [
       "346060"
      ]
     },
     "execution_count": 34,
     "metadata": {},
     "output_type": "execute_result"
    }
   ],
   "source": [
    "np.sum(np.array(full_catalog_df.loc[:, 'is_gal'] == 1))"
   ]
  },
  {
   "cell_type": "markdown",
   "metadata": {},
   "source": [
    "Discard minor features."
   ]
  },
  {
   "cell_type": "code",
   "execution_count": 35,
   "metadata": {},
   "outputs": [],
   "source": [
    "full_catalog_df                     = full_catalog_df.drop(columns=['is_AGN', 'is_SDSS_gal', 'is_gal', 'zsp', 'spCl'])"
   ]
  },
  {
   "cell_type": "markdown",
   "metadata": {},
   "source": [
    "---"
   ]
  },
  {
   "cell_type": "markdown",
   "metadata": {},
   "source": [
    "### Load models"
   ]
  },
  {
   "cell_type": "code",
   "execution_count": 36,
   "metadata": {},
   "outputs": [
    {
     "name": "stdout",
     "output_type": "stream",
     "text": [
      "Transformation Pipeline and Model Successfully Loaded\n",
      "Transformation Pipeline and Model Successfully Loaded\n",
      "Transformation Pipeline and Model Successfully Loaded\n",
      "Transformation Pipeline and Model Successfully Loaded\n"
     ]
    }
   ],
   "source": [
    "if load_models_flag:\n",
    "    if use_zeroth_model:\n",
    "        star_clf        = pyc.load_model('models/classification_star_no_star_jun_30_2022')  # star/no-star model\n",
    "    AGN_gal_clf     = pyc.load_model('models/classification_AGN_galaxy_may_15_2022')\n",
    "    radio_det_clf   = pyc.load_model('models/classification_radio_detect_may_16_2022')\n",
    "    redshift_reg    = pyr.load_model('models/regression_z_may_17_2022')  # to use on full sample\n",
    "    if use_second_z_model:\n",
    "        redshift_reg_2  = pyr.load_model('models/regression_z_may_18_2022')  # to use on sources with predicted z >= 2\n",
    "    if use_third_z_model:\n",
    "        redshift_reg_3  = pyr.load_model('models/regression_z_may_30_2022')  # to use on sources with predicted z >= 3\n",
    "    if use_fourth_z_model:\n",
    "        # redshift_reg_4  = pyr.load_model('models/regression_z_may_31_2022')  # to use on sources with predicted z >= 3.7 (for z >= 4, regression_z_may_31_4_2022)\n",
    "        # redshift_reg_4  = pyr.load_model('models/regression_z_may_31_4_2022')  # to use on sources with predicted z >= 3.7 (for z >= 4, regression_z_may_31_4_2022)\n",
    "        redshift_reg_4  = pyr.load_model('models/regression_z_jun_01_2022')  # to use on sources with predicted z >= 3.7 used with SMOGN"
   ]
  },
  {
   "cell_type": "code",
   "execution_count": 37,
   "metadata": {},
   "outputs": [],
   "source": [
    "if use_zeroth_model:\n",
    "    threshold_star = 0.37441  # 0.5, 0.15688 from ROC AUC in train+test, 0.37441 from PR curve\n",
    "threshold_AGN   = 0.31117  # 0.5, 0.3094 from ROC AUC in train+test, 0.31117 from PR curve\n",
    "threshold_radio = 4.99972232e-01  # 0.5, 4.99972232e-01 from ROC AUC in train+test and PR curve"
   ]
  },
  {
   "cell_type": "code",
   "execution_count": 38,
   "metadata": {},
   "outputs": [],
   "source": [
    "if use_zeroth_model:  # we want no-star sources => label == 0\n",
    "    full_catalog_df = pyc.predict_model(star_clf, data=full_catalog_df, probability_threshold=threshold_star, raw_score=True, round=10)\n",
    "    full_catalog_df = full_catalog_df.drop(columns=['Score_1'])\n",
    "    full_catalog_df = full_catalog_df.rename(columns={'Label': 'pred_star', 'Score_0': 'Score_no_star'})\n",
    "    full_catalog_df.loc[:, 'Score_no_star'] = np.around(full_catalog_df.loc[:, 'Score_no_star'], decimals=7)\n",
    "elif not use_zeroth_model:\n",
    "    full_catalog_df['pred_star']     = 0\n",
    "    full_catalog_df['Score_no_star'] = 1"
   ]
  },
  {
   "cell_type": "code",
   "execution_count": 39,
   "metadata": {},
   "outputs": [],
   "source": [
    "full_catalog_df = pyc.predict_model(AGN_gal_clf, data=full_catalog_df, probability_threshold=threshold_AGN, raw_score=True, round=10)\n",
    "full_catalog_df = full_catalog_df.drop(columns=['Score_0'])\n",
    "full_catalog_df = full_catalog_df.rename(columns={'Label': 'pred_class', 'Score_1': 'Score_AGN'})\n",
    "full_catalog_df.loc[:, 'Score_AGN'] = np.around(full_catalog_df.loc[:, 'Score_AGN'], decimals=7)"
   ]
  },
  {
   "cell_type": "code",
   "execution_count": 40,
   "metadata": {},
   "outputs": [],
   "source": [
    "full_catalog_df = pyc.predict_model(radio_det_clf, data=full_catalog_df, probability_threshold=threshold_radio, raw_score=True, round=10)\n",
    "full_catalog_df = full_catalog_df.drop(columns=['Score_0'])\n",
    "full_catalog_df = full_catalog_df.rename(columns={'Label': 'pred_radio', 'Score_1': 'Score_radio'})\n",
    "full_catalog_df.loc[:, 'Score_radio'] = np.around(full_catalog_df.loc[:, 'Score_radio'], decimals=7)"
   ]
  },
  {
   "cell_type": "code",
   "execution_count": 41,
   "metadata": {},
   "outputs": [],
   "source": [
    "full_catalog_df = pyr.predict_model(redshift_reg, data=full_catalog_df, round=10)\n",
    "full_catalog_df = full_catalog_df.rename(columns={'Label': 'pred_Z'})\n",
    "full_catalog_df.loc[:, 'pred_Z'] = np.around(full_catalog_df.loc[:, 'pred_Z'], decimals=4)"
   ]
  },
  {
   "cell_type": "markdown",
   "metadata": {},
   "source": [
    "Scores before applying further z models"
   ]
  },
  {
   "cell_type": "code",
   "execution_count": 42,
   "metadata": {
    "jupyter": {
     "source_hidden": true
    }
   },
   "outputs": [],
   "source": [
    "if use_zeroth_model:\n",
    "    temp_filt_pred_nstr    = np.array(full_catalog_df.loc[:, 'pred_star'] == 0)  # filter for not being predicted as a star\n",
    "elif not use_zeroth_model:\n",
    "    temp_filt_pred_nstr    = np.ones_like(full_catalog_df.loc[:, 'class']).astype(bool)\n",
    "temp_filt_pred_rAGN        = np.array(full_catalog_df.loc[:, 'pred_class'] == 1) &\\\n",
    "                             np.array(full_catalog_df.loc[:, 'pred_radio'] == 1) &\\\n",
    "                             temp_filt_pred_nstr\n",
    "sigma_mad_early            = sigma_mad(full_catalog_df.loc[temp_filt_pred_rAGN, 'Z'],    full_catalog_df.loc[temp_filt_pred_rAGN, 'pred_Z'])\n",
    "sigma_nmad_early           = sigma_nmad(full_catalog_df.loc[temp_filt_pred_rAGN, 'Z'],   full_catalog_df.loc[temp_filt_pred_rAGN, 'pred_Z'])\n",
    "sigma_z_early              = sigma_z(full_catalog_df.loc[temp_filt_pred_rAGN, 'Z'],      full_catalog_df.loc[temp_filt_pred_rAGN, 'pred_Z'])\n",
    "sigma_z_norm_early         = sigma_z_norm(full_catalog_df.loc[temp_filt_pred_rAGN, 'Z'], full_catalog_df.loc[temp_filt_pred_rAGN, 'pred_Z'])\n",
    "out_frac_early             = outlier_frac(full_catalog_df.loc[temp_filt_pred_rAGN, 'Z'], full_catalog_df.loc[temp_filt_pred_rAGN, 'pred_Z'])"
   ]
  },
  {
   "cell_type": "code",
   "execution_count": 43,
   "metadata": {
    "jupyter": {
     "source_hidden": true
    }
   },
   "outputs": [],
   "source": [
    "temp_z_limit               = 3.7\n",
    "temp_filt_high_z_rAGN      = temp_filt_pred_rAGN * (full_catalog_df.loc[:, 'pred_Z'] >= temp_z_limit)\n",
    "sigma_mad_early_hiz        = sigma_mad(full_catalog_df.loc[temp_filt_high_z_rAGN, 'Z'],    full_catalog_df.loc[temp_filt_high_z_rAGN, 'pred_Z'])\n",
    "sigma_nmad_early_hiz       = sigma_nmad(full_catalog_df.loc[temp_filt_high_z_rAGN, 'Z'],   full_catalog_df.loc[temp_filt_high_z_rAGN, 'pred_Z'])\n",
    "sigma_z_early_hiz          = sigma_z(full_catalog_df.loc[temp_filt_high_z_rAGN, 'Z'],      full_catalog_df.loc[temp_filt_high_z_rAGN, 'pred_Z'])\n",
    "sigma_z_norm_early_hiz     = sigma_z_norm(full_catalog_df.loc[temp_filt_high_z_rAGN, 'Z'], full_catalog_df.loc[temp_filt_high_z_rAGN, 'pred_Z'])\n",
    "out_frac_early_hiz         = outlier_frac(full_catalog_df.loc[temp_filt_high_z_rAGN, 'Z'], full_catalog_df.loc[temp_filt_high_z_rAGN, 'pred_Z'])"
   ]
  },
  {
   "cell_type": "code",
   "execution_count": 44,
   "metadata": {
    "jupyter": {
     "source_hidden": true
    }
   },
   "outputs": [],
   "source": [
    "redshift_lim_a    = 2.0\n",
    "redshift_tol_a    = 0.0\n",
    "redshift_lim_b    = 3.0\n",
    "redshift_tol_b    = 0.0\n",
    "redshift_lim_c    = 3.7  # 3.7, 4.0\n",
    "redshift_tol_c    = 0.0\n",
    "if use_second_z_model:\n",
    "    full_catalog_df = pyr.predict_model(redshift_reg_2, data=full_catalog_df, round=10)\n",
    "    filter_pred_z   = full_catalog_df.loc[:, 'pred_Z'] >= (redshift_lim_a + redshift_tol_a)\n",
    "    full_catalog_df.loc[:, 'pred_Z'] = full_catalog_df.loc[:, 'pred_Z'].mask(filter_pred_z, full_catalog_df.loc[filter_pred_z, 'Label'])\n",
    "    full_catalog_df = full_catalog_df.drop(columns=['Label'])\n",
    "    full_catalog_df.loc[:, 'pred_Z'] = np.around(full_catalog_df.loc[:, 'pred_Z'], decimals=4)\n",
    "if use_third_z_model:\n",
    "    full_catalog_df = pyr.predict_model(redshift_reg_3, data=full_catalog_df, round=10)\n",
    "    filter_pred_z   = full_catalog_df.loc[:, 'pred_Z'] >= (redshift_lim_b + redshift_tol_b)\n",
    "    full_catalog_df.loc[:, 'pred_Z'] = full_catalog_df.loc[:, 'pred_Z'].mask(filter_pred_z, full_catalog_df.loc[filter_pred_z, 'Label'])\n",
    "    full_catalog_df = full_catalog_df.drop(columns=['Label'])\n",
    "    full_catalog_df.loc[:, 'pred_Z'] = np.around(full_catalog_df.loc[:, 'pred_Z'], decimals=4)\n",
    "if use_fourth_z_model:\n",
    "    full_catalog_df = pyr.predict_model(redshift_reg_4, data=full_catalog_df, round=10)\n",
    "    filter_pred_z   = full_catalog_df.loc[:, 'pred_Z'] >= (redshift_lim_c + redshift_tol_c)\n",
    "    full_catalog_df.loc[:, 'pred_Z'] = full_catalog_df.loc[:, 'pred_Z'].mask(filter_pred_z, full_catalog_df.loc[filter_pred_z, 'Label'])\n",
    "    full_catalog_df = full_catalog_df.drop(columns=['Label'])\n",
    "    full_catalog_df.loc[:, 'pred_Z'] = np.around(full_catalog_df.loc[:, 'pred_Z'], decimals=4)"
   ]
  },
  {
   "cell_type": "code",
   "execution_count": 45,
   "metadata": {
    "jupyter": {
     "source_hidden": true
    },
    "tags": []
   },
   "outputs": [
    {
     "data": {
      "image/png": "[encoded data removed]",
      "text/plain": [
       "<Figure size 600x500 with 3 Axes>"
      ]
     },
     "metadata": {},
     "output_type": "display_data"
    }
   ],
   "source": [
    "fig             = plt.figure(figsize=(6,5))\n",
    "ax1             = fig.add_subplot(111, projection='scatter_density', xscale='log', yscale='log')\n",
    "plot_redshift_compare(full_catalog_df.loc[:, 'Z'], full_catalog_df.loc[:, 'pred_Z'], ax_pre=ax1, title=None, dpi=10, show_clb=True, log_stretch=False)\n",
    "ax1.axvline(x=(1 + redshift_lim_a), ls='--', c='k', lw=2.5)\n",
    "ax1.axhline(y=(1 + redshift_lim_a), ls='--', c='k', lw=2.5)\n",
    "ax1.axvline(x=(1 + redshift_lim_c), ls='--', c='k', lw=2.5)\n",
    "ax1.axhline(y=(1 + redshift_lim_c), ls='--', c='k', lw=2.5)\n",
    "if use_second_z_model or use_third_z_model or use_fourth_z_model:\n",
    "    ax1.set_ylabel('$1 + z_{\\mathrm{Predicted}}^{\\mathrm{combined\\,models}}$', size=20)\n",
    "plt.show()"
   ]
  },
  {
   "cell_type": "code",
   "execution_count": 46,
   "metadata": {
    "jupyter": {
     "source_hidden": true
    }
   },
   "outputs": [],
   "source": [
    "full_catalog_df['pred_radio_AGN']     = np.array(full_catalog_df.loc[:, 'pred_star']  == 0) &\\\n",
    "                                        np.array(full_catalog_df.loc[:, 'pred_class'] == 1) &\\\n",
    "                                        np.array(full_catalog_df.loc[:, 'pred_radio'] == 1)\n",
    "full_catalog_df['Score_rAGN']         = full_catalog_df.loc[:, 'Score_no_star'] *\\\n",
    "                                        full_catalog_df.loc[:, 'Score_AGN'] *\\\n",
    "                                        full_catalog_df.loc[:, 'Score_radio']\n",
    "rad_score_scaler                      = MinMaxScaler()\n",
    "full_catalog_df['scaled_score_radio'] = rad_score_scaler.fit_transform(full_catalog_df.loc[:, 'Score_radio'].values.reshape(-1, 1))\n",
    "full_catalog_df['scaled_score_rAGN']  = full_catalog_df.loc[:, 'Score_AGN'] * full_catalog_df.loc[:, 'scaled_score_radio']"
   ]
  },
  {
   "cell_type": "code",
   "execution_count": 47,
   "metadata": {
    "jupyter": {
     "source_hidden": true
    }
   },
   "outputs": [
    {
     "data": {
      "text/html": [
       "<div>\n",
       "<style scoped>\n",
       "    .dataframe tbody tr th:only-of-type {\n",
       "        vertical-align: middle;\n",
       "    }\n",
       "\n",
       "    .dataframe tbody tr th {\n",
       "        vertical-align: top;\n",
       "    }\n",
       "\n",
       "    .dataframe thead th {\n",
       "        text-align: right;\n",
       "    }\n",
       "</style>\n",
       "<table border=\"1\" class=\"dataframe\">\n",
       "  <thead>\n",
       "    <tr style=\"text-align: right;\">\n",
       "      <th></th>\n",
       "      <th>class</th>\n",
       "      <th>pred_class</th>\n",
       "      <th>radio_detect</th>\n",
       "      <th>pred_radio</th>\n",
       "      <th>Z</th>\n",
       "      <th>pred_Z</th>\n",
       "    </tr>\n",
       "  </thead>\n",
       "  <tbody>\n",
       "    <tr>\n",
       "      <th>count</th>\n",
       "      <td>352139.000000</td>\n",
       "      <td>352139.00000</td>\n",
       "      <td>352139.000000</td>\n",
       "      <td>352139.000000</td>\n",
       "      <td>16427.000000</td>\n",
       "      <td>352139.000000</td>\n",
       "    </tr>\n",
       "    <tr>\n",
       "      <th>mean</th>\n",
       "      <td>0.017263</td>\n",
       "      <td>0.54535</td>\n",
       "      <td>0.075070</td>\n",
       "      <td>0.287225</td>\n",
       "      <td>0.810350</td>\n",
       "      <td>1.713118</td>\n",
       "    </tr>\n",
       "    <tr>\n",
       "      <th>std</th>\n",
       "      <td>0.130250</td>\n",
       "      <td>0.49794</td>\n",
       "      <td>0.263504</td>\n",
       "      <td>0.452468</td>\n",
       "      <td>0.724771</td>\n",
       "      <td>0.874100</td>\n",
       "    </tr>\n",
       "    <tr>\n",
       "      <th>min</th>\n",
       "      <td>0.000000</td>\n",
       "      <td>0.00000</td>\n",
       "      <td>0.000000</td>\n",
       "      <td>0.000000</td>\n",
       "      <td>-0.002180</td>\n",
       "      <td>0.040300</td>\n",
       "    </tr>\n",
       "    <tr>\n",
       "      <th>25%</th>\n",
       "      <td>0.000000</td>\n",
       "      <td>0.00000</td>\n",
       "      <td>0.000000</td>\n",
       "      <td>0.000000</td>\n",
       "      <td>0.328450</td>\n",
       "      <td>1.015250</td>\n",
       "    </tr>\n",
       "    <tr>\n",
       "      <th>50%</th>\n",
       "      <td>0.000000</td>\n",
       "      <td>1.00000</td>\n",
       "      <td>0.000000</td>\n",
       "      <td>0.000000</td>\n",
       "      <td>0.566620</td>\n",
       "      <td>1.859000</td>\n",
       "    </tr>\n",
       "    <tr>\n",
       "      <th>75%</th>\n",
       "      <td>0.000000</td>\n",
       "      <td>1.00000</td>\n",
       "      <td>0.000000</td>\n",
       "      <td>1.000000</td>\n",
       "      <td>1.078000</td>\n",
       "      <td>2.147900</td>\n",
       "    </tr>\n",
       "    <tr>\n",
       "      <th>max</th>\n",
       "      <td>1.000000</td>\n",
       "      <td>1.00000</td>\n",
       "      <td>1.000000</td>\n",
       "      <td>1.000000</td>\n",
       "      <td>5.830000</td>\n",
       "      <td>5.654800</td>\n",
       "    </tr>\n",
       "  </tbody>\n",
       "</table>\n",
       "</div>"
      ],
      "text/plain": [
       "               class    pred_class   radio_detect     pred_radio  \\\n",
       "count  352139.000000  352139.00000  352139.000000  352139.000000   \n",
       "mean        0.017263       0.54535       0.075070       0.287225   \n",
       "std         0.130250       0.49794       0.263504       0.452468   \n",
       "min         0.000000       0.00000       0.000000       0.000000   \n",
       "25%         0.000000       0.00000       0.000000       0.000000   \n",
       "50%         0.000000       1.00000       0.000000       0.000000   \n",
       "75%         0.000000       1.00000       0.000000       1.000000   \n",
       "max         1.000000       1.00000       1.000000       1.000000   \n",
       "\n",
       "                  Z         pred_Z  \n",
       "count  16427.000000  352139.000000  \n",
       "mean       0.810350       1.713118  \n",
       "std        0.724771       0.874100  \n",
       "min       -0.002180       0.040300  \n",
       "25%        0.328450       1.015250  \n",
       "50%        0.566620       1.859000  \n",
       "75%        1.078000       2.147900  \n",
       "max        5.830000       5.654800  "
      ]
     },
     "execution_count": 47,
     "metadata": {},
     "output_type": "execute_result"
    }
   ],
   "source": [
    "displayed_cols = ['is_str', 'pred_star', 'class', 'pred_class', 'radio_detect', 'pred_radio', 'Z', 'pred_Z']\n",
    "if not use_zeroth_model:\n",
    "    displayed_cols.remove('is_str')\n",
    "    displayed_cols.remove('pred_star')\n",
    "full_catalog_df.loc[:, displayed_cols].describe()"
   ]
  },
  {
   "cell_type": "markdown",
   "metadata": {},
   "source": [
    "##### Include AGN detection criteria from literature"
   ]
  },
  {
   "cell_type": "code",
   "execution_count": 48,
   "metadata": {
    "jupyter": {
     "source_hidden": true
    }
   },
   "outputs": [],
   "source": [
    "full_catalog_df['M12_AGN'] = (np.array(full_catalog_df.loc[:, 'W1mproPM'] - full_catalog_df.loc[:, 'W2mproPM'] - 2.699 + 3.339 <\n",
    "                                      0.315 * (full_catalog_df.loc[:, 'W2mproPM'] - full_catalog_df.loc[:, 'W3mag'] - 3.339 + 5.174) + 0.791) &\n",
    "                              np.array(full_catalog_df.loc[:, 'W1mproPM'] - full_catalog_df.loc[:, 'W2mproPM'] - 2.699 + 3.339 >\n",
    "                                      0.315 * (full_catalog_df.loc[:, 'W2mproPM'] - full_catalog_df.loc[:, 'W3mag'] - 3.339 + 5.174) - 0.222) &\n",
    "                              np.array(full_catalog_df.loc[:, 'W1mproPM'] - full_catalog_df.loc[:, 'W2mproPM'] - 2.699 + 3.339 >\n",
    "                                      -3.172 * (full_catalog_df.loc[:, 'W2mproPM'] - full_catalog_df.loc[:, 'W3mag'] - 3.339 + 5.174) + 7.624)).astype(int)\n",
    "\n",
    "full_catalog_df['S12_AGN'] = np.array(full_catalog_df.loc[:, 'W1mproPM'] - full_catalog_df.loc[:, 'W2mproPM'] - 2.699 + 3.339 >= 0.8).astype(int)\n",
    "\n",
    "full_catalog_df['M16_AGN'] = (np.array(full_catalog_df.loc[:, 'W1mproPM'] - full_catalog_df.loc[:, 'W2mproPM'] - 2.699 + 3.339 > 0.5) &\n",
    "                              np.array(full_catalog_df.loc[:, 'W2mproPM'] - full_catalog_df.loc[:, 'W3mag'] - 3.339 + 5.174 < 4.4)).astype(int)\n",
    "\n",
    "full_catalog_df['B18_AGN'] = (np.array(full_catalog_df.loc[:, 'W1mproPM'] - full_catalog_df.loc[:, 'W2mproPM'] - 2.699 + 3.339 > 0.5) &\n",
    "                              np.array(full_catalog_df.loc[:, 'W2mproPM'] - full_catalog_df.loc[:, 'W3mag'] - 3.339 + 5.174 > 2.2) &\n",
    "                              np.array(full_catalog_df.loc[:, 'W1mproPM'] - full_catalog_df.loc[:, 'W2mproPM'] - 2.699 + 3.339 >\n",
    "                                      2 * (full_catalog_df.loc[:, 'W2mproPM'] - full_catalog_df.loc[:, 'W3mag'] - 3.339 + 5.174) - 8.9)).astype(int)"
   ]
  },
  {
   "cell_type": "markdown",
   "metadata": {},
   "source": [
    "Obtain intermediate metrics"
   ]
  },
  {
   "cell_type": "code",
   "execution_count": 49,
   "metadata": {
    "jupyter": {
     "source_hidden": true
    }
   },
   "outputs": [],
   "source": [
    "filter_radio_AGN_t      = np.array(full_catalog_df.loc[:, 'class'] == 1) & np.array(full_catalog_df.loc[:, 'radio_detect'] == 1)\n",
    "filter_gal_AGN_t        = np.array(full_catalog_df.loc[:, 'class'] == 0) | np.array(full_catalog_df.loc[:, 'class'] == 1)\n",
    "filter_str_gal_AGN_t    = np.array(full_catalog_df.loc[:, 'class'] == 0) |\\\n",
    "                          np.array(full_catalog_df.loc[:, 'class'] == 1) |\\\n",
    "                          np.array(full_catalog_df.loc[:, 'class'] == 2)\n",
    "total_size              = len(full_catalog_df)\n",
    "filter_AGN_t            = np.array(full_catalog_df.loc[:, 'class'] == 1)\n",
    "num_str_t               = np.sum(np.array(full_catalog_df.loc[:, 'class'] == 2))\n",
    "num_AGN_t               = np.sum(filter_AGN_t)\n",
    "num_gal_t               = np.sum(np.array(full_catalog_df.loc[:, 'class'] == 0))\n",
    "num_str_t               = np.sum(np.array(full_catalog_df.loc[:, 'is_str'] == 1))\n",
    "num_radio_t             = np.sum(np.array(full_catalog_df.loc[:, 'radio_detect'] == 1))\n",
    "num_radio_AGN_t         = np.sum(filter_radio_AGN_t)"
   ]
  },
  {
   "cell_type": "code",
   "execution_count": 50,
   "metadata": {
    "jupyter": {
     "source_hidden": true
    }
   },
   "outputs": [],
   "source": [
    "# filter_radio_AGN_p      = np.array(full_catalog_df.loc[:, 'Score_AGN']          >= threshold_AGN) &\\\n",
    "#                             np.array(full_catalog_df.loc[:, 'Score_radio']      >= threshold_radio)\n",
    "if use_zeroth_model:\n",
    "    filter_non_str_p      = np.array(full_catalog_df.loc[:, 'pred_star'] == 0)\n",
    "elif not use_zeroth_model:\n",
    "    filter_non_str_p      = np.ones_like(full_catalog_df.loc[:, 'class']).astype(bool)\n",
    "filter_radio_AGN_p        = full_catalog_df['pred_radio_AGN']\n",
    "filt_hiz_rAGN_p           = filter_radio_AGN_p * np.array(full_catalog_df.loc[:, 'pred_Z'] >= redshift_lim_c)\n",
    "filter_AGN_p              = np.array(full_catalog_df.loc[:, 'pred_class'] == 1) & filter_non_str_p\n",
    "filter_radio_p            = np.array(full_catalog_df.loc[:, 'pred_radio'] == 1)\n",
    "filt_new_rAGN_p           = filter_radio_AGN_p & np.array(full_catalog_df.loc[:, 'radio_AGN'] == 0)\n",
    "num_AGN_p                 = np.sum(filter_AGN_p)\n",
    "num_gal_p                 = np.sum(np.array(full_catalog_df.loc[:, 'pred_class'] == 0) & filter_non_str_p)\n",
    "num_radio_p               = np.sum(filter_radio_p)\n",
    "num_radio_AGN_p           = np.sum(filter_radio_AGN_p)\n",
    "num_rAGN_MQC_p            = np.sum(filter_radio_AGN_p & np.array(full_catalog_df.loc[:, 'class'] == 1))\n",
    "num_rAGN_gal_p            = np.sum(filter_radio_AGN_p & np.array(full_catalog_df.loc[:, 'class'] == 0))\n",
    "num_rAGN_str_p            = np.sum(filter_radio_AGN_p & np.array(full_catalog_df.loc[:, 'is_str'] == 1))\n",
    "num_rAGN_rad_p            = np.sum(filter_radio_AGN_p & np.array(full_catalog_df.loc[:, 'radio_detect'] == 1))\n",
    "num_new_rAGN_p            = np.sum(filter_radio_AGN_p) - np.sum(filter_radio_AGN_t)"
   ]
  },
  {
   "cell_type": "markdown",
   "metadata": {},
   "source": [
    "Confusion matrix for Star/not-star classification on confirmed sources (AGN + Galaxies + Stars)"
   ]
  },
  {
   "cell_type": "code",
   "execution_count": 51,
   "metadata": {
    "jupyter": {
     "source_hidden": true
    }
   },
   "outputs": [],
   "source": [
    "if use_zeroth_model:\n",
    "    cm_str = np.array([[np.sum(np.array(full_catalog_df.loc[:, 'is_str'] == 0) & np.array(full_catalog_df.loc[:, 'pred_star'] == 0)),\\\n",
    "                        np.sum(np.array(full_catalog_df.loc[:, 'is_str'] == 0) & np.array(full_catalog_df.loc[:, 'pred_star'] == 1))],\\\n",
    "                       [np.sum(np.array(full_catalog_df.loc[:, 'is_str'] == 1) & np.array(full_catalog_df.loc[:, 'pred_star'] == 0)),\\\n",
    "                        np.sum(np.array(full_catalog_df.loc[:, 'is_str'] == 1) & np.array(full_catalog_df.loc[:, 'pred_star'] == 1))]])"
   ]
  },
  {
   "cell_type": "markdown",
   "metadata": {},
   "source": [
    "Confusion matrix for AGN prediction on confirmed sources (AGN/galaxies). Including initial prediction of not being star."
   ]
  },
  {
   "cell_type": "code",
   "execution_count": 52,
   "metadata": {},
   "outputs": [
    {
     "data": {
      "text/plain": [
       "352139"
      ]
     },
     "execution_count": 52,
     "metadata": {},
     "output_type": "execute_result"
    }
   ],
   "source": [
    "np.sum(filter_gal_AGN_t)"
   ]
  },
  {
   "cell_type": "code",
   "execution_count": 53,
   "metadata": {},
   "outputs": [
    {
     "data": {
      "text/plain": [
       "(352139,)"
      ]
     },
     "execution_count": 53,
     "metadata": {},
     "output_type": "execute_result"
    }
   ],
   "source": [
    "np.shape(filter_gal_AGN_t)"
   ]
  },
  {
   "cell_type": "code",
   "execution_count": 54,
   "metadata": {},
   "outputs": [
    {
     "data": {
      "text/plain": [
       "(array([0., 1.]), array([346060,   6079]))"
      ]
     },
     "execution_count": 54,
     "metadata": {},
     "output_type": "execute_result"
    }
   ],
   "source": [
    "np.unique(full_catalog_df.loc[filter_gal_AGN_t, 'class'], return_counts=True)"
   ]
  },
  {
   "cell_type": "code",
   "execution_count": 55,
   "metadata": {},
   "outputs": [
    {
     "data": {
      "text/plain": [
       "(array([0, 1]), array([160100, 192039]))"
      ]
     },
     "execution_count": 55,
     "metadata": {},
     "output_type": "execute_result"
    }
   ],
   "source": [
    "np.unique(full_catalog_df.loc[filter_gal_AGN_t, 'pred_class'], return_counts=True)"
   ]
  },
  {
   "cell_type": "code",
   "execution_count": 56,
   "metadata": {
    "tags": []
   },
   "outputs": [],
   "source": [
    "tmp_filt_AGN = filter_non_str_p * filter_gal_AGN_t\n",
    "cm_AGN = np.array([[np.sum(np.array(full_catalog_df.loc[tmp_filt_AGN, 'class'] == 0) & np.array(full_catalog_df.loc[tmp_filt_AGN, 'pred_class'] == 0)),\\\n",
    "                    np.sum(np.array(full_catalog_df.loc[tmp_filt_AGN, 'class'] == 0) & np.array(full_catalog_df.loc[tmp_filt_AGN, 'pred_class'] == 1))],\\\n",
    "                   [np.sum(np.array(full_catalog_df.loc[tmp_filt_AGN, 'class'] == 1) & np.array(full_catalog_df.loc[tmp_filt_AGN, 'pred_class'] == 0)),\\\n",
    "                    np.sum(np.array(full_catalog_df.loc[tmp_filt_AGN, 'class'] == 1) & np.array(full_catalog_df.loc[tmp_filt_AGN, 'pred_class'] == 1))]])"
   ]
  },
  {
   "cell_type": "markdown",
   "metadata": {},
   "source": [
    "Confusion matrix for AGN prediction on all sources (AGN/galaxies + unknown [stars])"
   ]
  },
  {
   "cell_type": "code",
   "execution_count": 57,
   "metadata": {
    "jupyter": {
     "source_hidden": true
    },
    "tags": []
   },
   "outputs": [],
   "source": [
    "cm_AGN_large = np.array([[np.sum(np.array(full_catalog_df.loc[:, 'class'] == 0)    & np.array(full_catalog_df.loc[:, 'pred_class'] == 0) & filter_non_str_p),\\\n",
    "                          np.sum(np.array(full_catalog_df.loc[:, 'class'] == 0)    & np.array(full_catalog_df.loc[:, 'pred_class'] == 0.5)),\\\n",
    "                          np.sum(np.array(full_catalog_df.loc[:, 'class'] == 0)    & np.array(full_catalog_df.loc[:, 'pred_class'] == 1) & filter_non_str_p)],\\\n",
    "                         [np.sum((np.array(full_catalog_df.loc[:, 'class'] == 0.5) | np.array(full_catalog_df.loc[:, 'class'] == 2) | ~filter_non_str_p)     & np.array(full_catalog_df.loc[:, 'pred_class'] == 0)),\\\n",
    "                          np.sum((np.array(full_catalog_df.loc[:, 'class'] == 0.5) | np.array(full_catalog_df.loc[:, 'class'] == 2) | ~filter_non_str_p)     & np.array(full_catalog_df.loc[:, 'pred_class'] == 0.5)),\\\n",
    "                          np.sum((np.array(full_catalog_df.loc[:, 'class'] == 0.5) | np.array(full_catalog_df.loc[:, 'class'] == 2) | ~filter_non_str_p)     & np.array(full_catalog_df.loc[:, 'pred_class'] == 1))],\\\n",
    "                         [np.sum(np.array(full_catalog_df.loc[:, 'class'] == 1)    & np.array(full_catalog_df.loc[:, 'pred_class'] == 0) & filter_non_str_p),\\\n",
    "                          np.sum(np.array(full_catalog_df.loc[:, 'class'] == 1)    & np.array(full_catalog_df.loc[:, 'pred_class'] == 0.5)),\\\n",
    "                          np.sum(np.array(full_catalog_df.loc[:, 'class'] == 1)    & np.array(full_catalog_df.loc[:, 'pred_class'] == 1) & filter_non_str_p)]])"
   ]
  },
  {
   "cell_type": "markdown",
   "metadata": {},
   "source": [
    "Confusion matrices from literature AGN criteria."
   ]
  },
  {
   "cell_type": "code",
   "execution_count": 58,
   "metadata": {
    "jupyter": {
     "source_hidden": true
    }
   },
   "outputs": [],
   "source": [
    "cm_AGN_S12 = np.array([[np.sum(np.array(full_catalog_df.loc[filter_non_str_p, 'class'] == 0) & np.array(full_catalog_df.loc[filter_non_str_p, 'S12_AGN'] == 0)),\\\n",
    "             np.sum(np.array(full_catalog_df.loc[filter_non_str_p, 'class'] == 0) & np.array(full_catalog_df.loc[filter_non_str_p, 'S12_AGN'] == 1))],\\\n",
    "            [np.sum(np.array(full_catalog_df.loc[filter_non_str_p, 'class'] == 1) & np.array(full_catalog_df.loc[filter_non_str_p, 'S12_AGN'] == 0)),\\\n",
    "             np.sum(np.array(full_catalog_df.loc[filter_non_str_p, 'class'] == 1) & np.array(full_catalog_df.loc[filter_non_str_p, 'S12_AGN'] == 1))]])\n",
    "\n",
    "cm_AGN_M12 = np.array([[np.sum(np.array(full_catalog_df.loc[filter_non_str_p, 'class'] == 0) & np.array(full_catalog_df.loc[filter_non_str_p, 'M12_AGN'] == 0)),\\\n",
    "             np.sum(np.array(full_catalog_df.loc[filter_non_str_p, 'class'] == 0) & np.array(full_catalog_df.loc[filter_non_str_p, 'M12_AGN'] == 1))],\\\n",
    "            [np.sum(np.array(full_catalog_df.loc[filter_non_str_p, 'class'] == 1) & np.array(full_catalog_df.loc[filter_non_str_p, 'M12_AGN'] == 0)),\\\n",
    "             np.sum(np.array(full_catalog_df.loc[filter_non_str_p, 'class'] == 1) & np.array(full_catalog_df.loc[filter_non_str_p, 'M12_AGN'] == 1))]])\n",
    "\n",
    "cm_AGN_M16 = np.array([[np.sum(np.array(full_catalog_df.loc[filter_non_str_p, 'class'] == 0) & np.array(full_catalog_df.loc[filter_non_str_p, 'M16_AGN'] == 0)),\\\n",
    "             np.sum(np.array(full_catalog_df.loc[filter_non_str_p, 'class'] == 0) & np.array(full_catalog_df.loc[filter_non_str_p, 'M16_AGN'] == 1))],\\\n",
    "            [np.sum(np.array(full_catalog_df.loc[filter_non_str_p, 'class'] == 1) & np.array(full_catalog_df.loc[filter_non_str_p, 'M16_AGN'] == 0)),\\\n",
    "             np.sum(np.array(full_catalog_df.loc[filter_non_str_p, 'class'] == 1) & np.array(full_catalog_df.loc[filter_non_str_p, 'M16_AGN'] == 1))]])\n",
    "\n",
    "cm_AGN_B18 = np.array([[np.sum(np.array(full_catalog_df.loc[filter_non_str_p, 'class'] == 0) & np.array(full_catalog_df.loc[filter_non_str_p, 'B18_AGN'] == 0)),\\\n",
    "             np.sum(np.array(full_catalog_df.loc[filter_non_str_p, 'class'] == 0) & np.array(full_catalog_df.loc[filter_non_str_p, 'B18_AGN'] == 1))],\\\n",
    "            [np.sum(np.array(full_catalog_df.loc[filter_non_str_p, 'class'] == 1) & np.array(full_catalog_df.loc[filter_non_str_p, 'B18_AGN'] == 0)),\\\n",
    "             np.sum(np.array(full_catalog_df.loc[filter_non_str_p, 'class'] == 1) & np.array(full_catalog_df.loc[filter_non_str_p, 'B18_AGN'] == 1))]])"
   ]
  },
  {
   "cell_type": "markdown",
   "metadata": {},
   "source": [
    "Confusion matrix for radio detection prediction on all sources (AGN/galaxies + unknown)"
   ]
  },
  {
   "cell_type": "code",
   "execution_count": 59,
   "metadata": {
    "jupyter": {
     "source_hidden": true
    },
    "tags": []
   },
   "outputs": [],
   "source": [
    "cm_radio = np.array([[np.sum(np.array(full_catalog_df.loc[filter_AGN_p, 'radio_detect'] == 0) &\\\n",
    "                             np.array(full_catalog_df.loc[filter_AGN_p, 'pred_radio']   == 0)),\\\n",
    "                      np.sum(np.array(full_catalog_df.loc[filter_AGN_p, 'radio_detect'] == 0) &\\\n",
    "                             np.array(full_catalog_df.loc[filter_AGN_p, 'pred_radio']   == 1))],\\\n",
    "                     [np.sum(np.array(full_catalog_df.loc[filter_AGN_p, 'radio_detect'] == 1) &\\\n",
    "                             np.array(full_catalog_df.loc[filter_AGN_p, 'pred_radio']   == 0)),\\\n",
    "                      np.sum(np.array(full_catalog_df.loc[filter_AGN_p, 'radio_detect'] == 1) &\\\n",
    "                             np.array(full_catalog_df.loc[filter_AGN_p, 'pred_radio']   == 1))]])"
   ]
  },
  {
   "cell_type": "markdown",
   "metadata": {},
   "source": [
    "Confusion matrix for radio detection prediction on confirmed sources (AGN/galaxies/stars)"
   ]
  },
  {
   "cell_type": "code",
   "execution_count": 60,
   "metadata": {
    "jupyter": {
     "source_hidden": true
    },
    "tags": []
   },
   "outputs": [],
   "source": [
    "cm_radio_conf = np.array([[np.sum(np.array(full_catalog_df.loc[filter_AGN_p & filter_str_gal_AGN_t, 'radio_detect'] == 0) &\\\n",
    "                                  np.array(full_catalog_df.loc[filter_AGN_p & filter_str_gal_AGN_t, 'pred_radio']   == 0)),\\\n",
    "                           np.sum(np.array(full_catalog_df.loc[filter_AGN_p & filter_str_gal_AGN_t, 'radio_detect'] == 0) &\\\n",
    "                                  np.array(full_catalog_df.loc[filter_AGN_p & filter_str_gal_AGN_t, 'pred_radio']   == 1))],\\\n",
    "                          [np.sum(np.array(full_catalog_df.loc[filter_AGN_p & filter_str_gal_AGN_t, 'radio_detect'] == 1) &\\\n",
    "                                  np.array(full_catalog_df.loc[filter_AGN_p & filter_str_gal_AGN_t, 'pred_radio']   == 0)),\\\n",
    "                           np.sum(np.array(full_catalog_df.loc[filter_AGN_p & filter_str_gal_AGN_t, 'radio_detect'] == 1) &\\\n",
    "                                  np.array(full_catalog_df.loc[filter_AGN_p & filter_str_gal_AGN_t, 'pred_radio']   == 1))]])"
   ]
  },
  {
   "cell_type": "markdown",
   "metadata": {},
   "source": [
    "Confusion matrix for radio AGN prediction on all sources (AGN/galaxies + unknown)"
   ]
  },
  {
   "cell_type": "code",
   "execution_count": 61,
   "metadata": {
    "jupyter": {
     "source_hidden": true
    }
   },
   "outputs": [],
   "source": [
    "cm_radio_AGN = np.array([[np.sum(np.array(full_catalog_df['radio_AGN'] == 0) & np.array(full_catalog_df['pred_radio_AGN'] == 0)),\\\n",
    "                          np.sum(np.array(full_catalog_df['radio_AGN'] == 0) & np.array(full_catalog_df['pred_radio_AGN'] == 1))],\\\n",
    "                         [np.sum(np.array(full_catalog_df['radio_AGN'] == 1) & np.array(full_catalog_df['pred_radio_AGN'] == 0)),\\\n",
    "                          np.sum(np.array(full_catalog_df['radio_AGN'] == 1) & np.array(full_catalog_df['pred_radio_AGN'] == 1))]])"
   ]
  },
  {
   "cell_type": "markdown",
   "metadata": {},
   "source": [
    "Confusion matrix for radio AGN prediction on confirmed sources (AGN/galaxies/stars)"
   ]
  },
  {
   "cell_type": "code",
   "execution_count": 62,
   "metadata": {
    "jupyter": {
     "source_hidden": true
    }
   },
   "outputs": [],
   "source": [
    "cm_radio_AGN_conf = np.array([[np.sum(np.array(full_catalog_df.loc[filter_str_gal_AGN_t, 'radio_AGN'] == 0) &\\\n",
    "                                      np.array(full_catalog_df.loc[filter_str_gal_AGN_t,'pred_radio_AGN'] == 0)),\\\n",
    "                               np.sum(np.array(full_catalog_df.loc[filter_str_gal_AGN_t, 'radio_AGN'] == 0) &\\\n",
    "                                      np.array(full_catalog_df.loc[filter_str_gal_AGN_t,'pred_radio_AGN'] == 1))],\\\n",
    "                              [np.sum(np.array(full_catalog_df.loc[filter_str_gal_AGN_t, 'radio_AGN'] == 1) &\\\n",
    "                                      np.array(full_catalog_df.loc[filter_str_gal_AGN_t,'pred_radio_AGN'] == 0)),\\\n",
    "                               np.sum(np.array(full_catalog_df.loc[filter_str_gal_AGN_t, 'radio_AGN'] == 1) &\\\n",
    "                                      np.array(full_catalog_df.loc[filter_str_gal_AGN_t,'pred_radio_AGN'] == 1))]])"
   ]
  },
  {
   "cell_type": "code",
   "execution_count": 63,
   "metadata": {
    "jupyter": {
     "source_hidden": true
    },
    "tags": []
   },
   "outputs": [],
   "source": [
    "sigma_mad_field            = sigma_mad(full_catalog_df.loc[filter_radio_AGN_p, 'Z'],    full_catalog_df.loc[filter_radio_AGN_p, 'pred_Z'])\n",
    "sigma_nmad_field           = sigma_nmad(full_catalog_df.loc[filter_radio_AGN_p, 'Z'],   full_catalog_df.loc[filter_radio_AGN_p, 'pred_Z'])\n",
    "sigma_z_field              = sigma_z(full_catalog_df.loc[filter_radio_AGN_p, 'Z'],      full_catalog_df.loc[filter_radio_AGN_p, 'pred_Z'])\n",
    "sigma_z_norm_field         = sigma_z_norm(full_catalog_df.loc[filter_radio_AGN_p, 'Z'], full_catalog_df.loc[filter_radio_AGN_p, 'pred_Z'])\n",
    "out_frac_field             = outlier_frac(full_catalog_df.loc[filter_radio_AGN_p, 'Z'], full_catalog_df.loc[filter_radio_AGN_p, 'pred_Z'])"
   ]
  },
  {
   "cell_type": "code",
   "execution_count": 64,
   "metadata": {
    "jupyter": {
     "source_hidden": true
    },
    "tags": []
   },
   "outputs": [],
   "source": [
    "temp_z_limit               = 3.7\n",
    "filt_high_z_rAGN_p         = filter_radio_AGN_p * (full_catalog_df.loc[:, 'pred_Z'] >= temp_z_limit)\n",
    "sigma_mad_field_hiz        = sigma_mad(full_catalog_df.loc[filt_high_z_rAGN_p, 'Z'],    full_catalog_df.loc[filt_high_z_rAGN_p, 'pred_Z'])\n",
    "sigma_nmad_field_hiz       = sigma_nmad(full_catalog_df.loc[filt_high_z_rAGN_p, 'Z'],   full_catalog_df.loc[filt_high_z_rAGN_p, 'pred_Z'])\n",
    "sigma_z_field_hiz          = sigma_z(full_catalog_df.loc[filt_high_z_rAGN_p, 'Z'],      full_catalog_df.loc[filt_high_z_rAGN_p, 'pred_Z'])\n",
    "sigma_z_norm_field_hiz     = sigma_z_norm(full_catalog_df.loc[filt_high_z_rAGN_p, 'Z'], full_catalog_df.loc[filt_high_z_rAGN_p, 'pred_Z'])\n",
    "out_frac_field_hiz         = outlier_frac(full_catalog_df.loc[filt_high_z_rAGN_p, 'Z'], full_catalog_df.loc[filt_high_z_rAGN_p, 'pred_Z'])"
   ]
  },
  {
   "cell_type": "markdown",
   "metadata": {},
   "source": [
    "Plot histograms for scores."
   ]
  },
  {
   "cell_type": "code",
   "execution_count": 65,
   "metadata": {
    "jupyter": {
     "source_hidden": true
    },
    "tags": []
   },
   "outputs": [
    {
     "data": {
      "image/png": "[encoded data removed]",
      "text/plain": [
       "<Figure size 700x500 with 1 Axes>"
      ]
     },
     "metadata": {},
     "output_type": "display_data"
    }
   ],
   "source": [
    "fig             = plt.figure(figsize=(7,5.0))\n",
    "ax1             = fig.add_subplot(111, xscale='linear', yscale='log')\n",
    "\n",
    "min_score  = np.nanmin(full_catalog_df.loc[:, 'Score_AGN'])\n",
    "max_score  = np.nanmax(full_catalog_df.loc[:, 'Score_AGN'])\n",
    "score_bins = np.linspace(min_score, max_score, 30)\n",
    "\n",
    "sample_size = np.sum(np.isfinite(full_catalog_df.loc[:, 'Score_AGN']))\n",
    "\n",
    "ax1.hist(full_catalog_df.loc[:, 'Score_AGN'], bins=score_bins, histtype='stepfilled', ec='k',\\\n",
    "         lw=3.5, color=cm.get_cmap('cet_gray')(0.8), alpha=1.0, label=f'Full {used_area} sample\\nN={sample_size:,}')\n",
    "\n",
    "ax1.axvline(x=0.5, ls='--', c='k', lw=2.5)\n",
    "    \n",
    "ax1.tick_params(which='both', top=True, right=True, direction='in')\n",
    "ax1.tick_params(axis='both', which='major', labelsize=14)\n",
    "ax1.tick_params(which='major', length=8, width=1.5)\n",
    "ax1.tick_params(which='minor', length=4, width=1.5)\n",
    "ax1.set_xlabel('AGN/Galaxy class score', size=20)\n",
    "ax1.set_ylabel('Frequency', size=20)\n",
    "plt.setp(ax1.spines.values(), linewidth=3.5)\n",
    "plt.setp(ax1.spines.values(), linewidth=3.5)\n",
    "plt.legend(loc=1, fontsize=14)\n",
    "plt.grid(False)\n",
    "#ax1.set_aspect('equal', 'box')\n",
    "fig.tight_layout()\n",
    "if save_plot_flag:\n",
    "    plt.savefig(f'plots/hist_predicted_AGN_scores_{used_area}.pdf', bbox_inches='tight')\n",
    "plt.show()"
   ]
  },
  {
   "cell_type": "code",
   "execution_count": 66,
   "metadata": {
    "jupyter": {
     "source_hidden": true
    },
    "tags": []
   },
   "outputs": [
    {
     "data": {
      "image/png": "[encoded data removed]",
      "text/plain": [
       "<Figure size 700x500 with 1 Axes>"
      ]
     },
     "metadata": {},
     "output_type": "display_data"
    }
   ],
   "source": [
    "fig             = plt.figure(figsize=(7,5.0))\n",
    "ax1             = fig.add_subplot(111, xscale='linear', yscale='log')\n",
    "\n",
    "min_score       = np.nanmin(full_catalog_df.loc[:, 'Score_radio'])\n",
    "max_score       = np.nanmax(full_catalog_df.loc[:, 'Score_radio'])\n",
    "score_bins      = np.linspace(min_score, max_score, 30)\n",
    "\n",
    "sample_size_gal = np.sum(np.isfinite(full_catalog_df.loc[np.array(full_catalog_df.loc[:, 'class'] == 0), 'Score_radio']))\n",
    "sample_size_AGN = np.sum(np.isfinite(full_catalog_df.loc[np.array(full_catalog_df.loc[:, 'class'] == 1), 'Score_radio']))\n",
    "\n",
    "ax1.hist(full_catalog_df.loc[np.array(full_catalog_df.loc[:, 'class'] == 0), 'Score_radio'], bins=score_bins,\\\n",
    "         histtype='stepfilled', ec='k', lw=3.5, color=cm.get_cmap('cet_gray')(0.9), alpha=0.9,\\\n",
    "         label=f'True class: Galaxy\\nN={sample_size_gal:,}', zorder=np.ceil((sample_size_AGN/sample_size_gal)))\n",
    "ax1.hist(full_catalog_df.loc[np.array(full_catalog_df.loc[:, 'class'] == 1), 'Score_radio'], bins=score_bins,\\\n",
    "         histtype='stepfilled', ec='k', lw=3.5, color=cm.get_cmap('cet_gray')(0.7), alpha=0.9,\\\n",
    "         label=f'True class: AGN\\nN={sample_size_AGN:,}', zorder=np.ceil((sample_size_gal/sample_size_AGN)))\n",
    "\n",
    "ax1.axvline(x=0.5, ls='--', c='k', lw=2.5, zorder=10)\n",
    "    \n",
    "ax1.tick_params(which='both', top=True, right=True, direction='in')\n",
    "ax1.tick_params(axis='both', which='major', labelsize=14)\n",
    "ax1.tick_params(which='major', length=8, width=1.5)\n",
    "ax1.tick_params(which='minor', length=4, width=1.5)\n",
    "ax1.set_xlabel('Radio detection score', size=20)\n",
    "ax1.set_ylabel('Frequency', size=20)\n",
    "plt.setp(ax1.spines.values(), linewidth=3.5)\n",
    "plt.setp(ax1.spines.values(), linewidth=3.5)\n",
    "plt.legend(loc=1, fontsize=14)\n",
    "plt.grid(False)\n",
    "fig.tight_layout()\n",
    "#ax1.set_aspect('equal', 'box')\n",
    "if save_plot_flag:\n",
    "    plt.savefig(f'plots/hist_predicted_radio_scores_true_class_{used_area}.pdf', bbox_inches='tight')\n",
    "plt.show()"
   ]
  },
  {
   "cell_type": "code",
   "execution_count": 67,
   "metadata": {
    "jupyter": {
     "source_hidden": true
    },
    "tags": []
   },
   "outputs": [
    {
     "data": {
      "image/png": "[encoded data removed]",
      "text/plain": [
       "<Figure size 700x500 with 1 Axes>"
      ]
     },
     "metadata": {},
     "output_type": "display_data"
    }
   ],
   "source": [
    "fig             = plt.figure(figsize=(7,5.0))\n",
    "ax1             = fig.add_subplot(111, xscale='linear', yscale='log')\n",
    "\n",
    "min_score       = np.nanmin(full_catalog_df.loc[:, 'Score_radio'])\n",
    "max_score       = np.nanmax(full_catalog_df.loc[:, 'Score_radio'])\n",
    "score_bins      = np.linspace(min_score, max_score, 30)\n",
    "\n",
    "sample_size_gal = np.sum(np.isfinite(full_catalog_df.loc[np.array(full_catalog_df.loc[:, 'Score_AGN'] < threshold_AGN), 'Score_radio']))\n",
    "sample_size_AGN = np.sum(np.isfinite(full_catalog_df.loc[np.array(full_catalog_df.loc[:, 'Score_AGN'] >= threshold_AGN), 'Score_radio']))\n",
    "\n",
    "ax1.hist(full_catalog_df.loc[np.array(full_catalog_df.loc[:, 'Score_AGN'] < threshold_AGN), 'Score_radio'],\\\n",
    "         bins=score_bins, histtype='stepfilled', ec='k', lw=3.5, color=cm.get_cmap('cet_gray')(0.9), alpha=0.9,\\\n",
    "         label=f'Predicted class: Galaxy\\nN={sample_size_gal:,}', zorder=np.ceil((sample_size_AGN/sample_size_gal)))\n",
    "ax1.hist(full_catalog_df.loc[np.array(full_catalog_df.loc[:, 'Score_AGN'] >= threshold_AGN), 'Score_radio'],\\\n",
    "         bins=score_bins, histtype='stepfilled', ec='k', lw=3.5, color=cm.get_cmap('cet_gray')(0.7), alpha=0.9,\\\n",
    "         label=f'Predicted class: AGN\\nN={sample_size_AGN:,}', zorder=np.ceil((sample_size_gal/sample_size_AGN)))\n",
    "\n",
    "ax1.axvline(x=0.5, ls='--', c='k', lw=2.5, zorder=9)\n",
    "    \n",
    "ax1.tick_params(which='both', top=True, right=True, direction='in')\n",
    "ax1.tick_params(axis='both', which='major', labelsize=14)\n",
    "ax1.tick_params(which='major', length=8, width=1.5)\n",
    "ax1.tick_params(which='minor', length=4, width=1.5)\n",
    "ax1.set_xlabel('Radio detection score', size=20)\n",
    "ax1.set_ylabel('Frequency', size=20)\n",
    "plt.setp(ax1.spines.values(), linewidth=3.5)\n",
    "plt.setp(ax1.spines.values(), linewidth=3.5)\n",
    "plt.legend(loc=1, fontsize=14)\n",
    "plt.grid(False)\n",
    "#ax1.set_aspect('equal', 'box')\n",
    "fig.tight_layout()\n",
    "if save_plot_flag:\n",
    "    plt.savefig(f'plots/hist_predicted_radio_scores_predicted_class_{used_area}.pdf', bbox_inches='tight')\n",
    "plt.show()"
   ]
  },
  {
   "cell_type": "markdown",
   "metadata": {},
   "source": [
    "Plot histograms for predicted and original redshifts."
   ]
  },
  {
   "cell_type": "code",
   "execution_count": 68,
   "metadata": {
    "jupyter": {
     "source_hidden": true
    },
    "tags": []
   },
   "outputs": [
    {
     "data": {
      "image/png": "[encoded data removed]",
      "text/plain": [
       "<Figure size 700x500 with 1 Axes>"
      ]
     },
     "metadata": {},
     "output_type": "display_data"
    }
   ],
   "source": [
    "fig             = plt.figure(figsize=(7,5.0))\n",
    "ax1             = fig.add_subplot(111, xscale='linear', yscale='log')\n",
    "\n",
    "min_score       = np.nanmin(full_catalog_df.loc[:, 'Z'])\n",
    "max_score       = np.nanmax(full_catalog_df.loc[:, 'Z'])\n",
    "score_bins      = np.linspace(min_score, max_score, 30)\n",
    "\n",
    "sample_size_gal = np.sum(np.isfinite(full_catalog_df.loc[np.array(full_catalog_df.loc[:, 'class'] == 0), 'Z']))\n",
    "sample_size_AGN = np.sum(np.isfinite(full_catalog_df.loc[np.array(full_catalog_df.loc[:, 'class'] == 1), 'Z']))\n",
    "\n",
    "ax1.hist(full_catalog_df.loc[np.array(full_catalog_df.loc[:, 'class'] == 0), 'Z'], bins=score_bins,\\\n",
    "         histtype='stepfilled', ec='k', lw=3.5, color=cm.get_cmap('cet_gray')(0.9), alpha=0.9,\\\n",
    "         label=f'True class: Galaxy\\nN={sample_size_gal:,}', zorder=np.ceil((sample_size_AGN/sample_size_gal)))\n",
    "ax1.hist(full_catalog_df.loc[np.array(full_catalog_df.loc[:, 'class'] == 1), 'Z'], bins=score_bins,\\\n",
    "         histtype='stepfilled', ec='k', lw=3.5, color=cm.get_cmap('cet_gray')(0.7), alpha=0.9,\\\n",
    "         label=f'True class: AGN\\nN={sample_size_AGN:,}', zorder=np.ceil((sample_size_gal/sample_size_AGN)))\n",
    "    \n",
    "ax1.tick_params(which='both', top=True, right=True, direction='in')\n",
    "ax1.tick_params(axis='both', which='major', labelsize=14)\n",
    "ax1.tick_params(which='major', length=8, width=1.5)\n",
    "ax1.tick_params(which='minor', length=4, width=1.5)\n",
    "ax1.set_xlabel('Original redshift', size=20)\n",
    "ax1.set_ylabel('Frequency', size=20)\n",
    "plt.setp(ax1.spines.values(), linewidth=3.5)\n",
    "plt.setp(ax1.spines.values(), linewidth=3.5)\n",
    "plt.legend(loc=1, fontsize=14)\n",
    "plt.grid(False)\n",
    "#ax1.set_aspect('equal', 'box')\n",
    "fig.tight_layout()\n",
    "if save_plot_flag:\n",
    "    plt.savefig(f'plots/hist_original_redshift_true_class_{used_area}.pdf', bbox_inches='tight')\n",
    "plt.show()"
   ]
  },
  {
   "cell_type": "code",
   "execution_count": 69,
   "metadata": {
    "jupyter": {
     "source_hidden": true
    },
    "tags": []
   },
   "outputs": [
    {
     "data": {
      "image/png": "[encoded data removed]",
      "text/plain": [
       "<Figure size 700x500 with 1 Axes>"
      ]
     },
     "metadata": {},
     "output_type": "display_data"
    }
   ],
   "source": [
    "fig             = plt.figure(figsize=(7,5.0))\n",
    "ax1             = fig.add_subplot(111, xscale='linear', yscale='log')\n",
    "\n",
    "min_score       = np.nanmin(full_catalog_df.loc[:, 'Z'])\n",
    "max_score       = np.nanmax(full_catalog_df.loc[:, 'Z'])\n",
    "score_bins      = np.linspace(min_score, max_score, 30)\n",
    "\n",
    "sample_size_gal = np.sum(np.isfinite(full_catalog_df.loc[np.array(full_catalog_df.loc[:, 'Score_AGN'] <  threshold_AGN), 'Z']))\n",
    "sample_size_AGN = np.sum(np.isfinite(full_catalog_df.loc[np.array(full_catalog_df.loc[:, 'Score_AGN'] >= threshold_AGN), 'Z']))\n",
    "\n",
    "ax1.hist(full_catalog_df.loc[np.array(full_catalog_df.loc[:, 'Score_AGN'] < threshold_AGN), 'Z'],\\\n",
    "         bins=score_bins, histtype='stepfilled', ec='k', lw=3.5, color=cm.get_cmap('cet_gray')(0.9), alpha=0.9,\\\n",
    "         label=f'Predicted class: Galaxy\\nN={sample_size_gal:,}', zorder=np.ceil((sample_size_AGN/sample_size_gal)))\n",
    "ax1.hist(full_catalog_df.loc[np.array(full_catalog_df.loc[:, 'Score_AGN'] >= threshold_AGN), 'Z'],\\\n",
    "         bins=score_bins, histtype='stepfilled', ec='k', lw=3.5, color=cm.get_cmap('cet_gray')(0.7), alpha=0.9,\\\n",
    "         label=f'Predicted class: AGN\\nN={sample_size_AGN:,}', zorder=np.ceil((sample_size_gal/sample_size_AGN)))\n",
    "    \n",
    "ax1.tick_params(which='both', top=True, right=True, direction='in')\n",
    "ax1.tick_params(axis='both', which='major', labelsize=14)\n",
    "ax1.tick_params(which='major', length=8, width=1.5)\n",
    "ax1.tick_params(which='minor', length=4, width=1.5)\n",
    "ax1.set_xlabel('Original redshift', size=20)\n",
    "ax1.set_ylabel('Frequency', size=20)\n",
    "plt.setp(ax1.spines.values(), linewidth=3.5)\n",
    "plt.setp(ax1.spines.values(), linewidth=3.5)\n",
    "plt.legend(loc=1, fontsize=14)\n",
    "plt.grid(False)\n",
    "#ax1.set_aspect('equal', 'box')\n",
    "fig.tight_layout()\n",
    "if save_plot_flag:\n",
    "    plt.savefig(f'plots/hist_true_redshift_predicted_class_{used_area}.pdf', bbox_inches='tight')\n",
    "plt.show()"
   ]
  },
  {
   "cell_type": "code",
   "execution_count": 70,
   "metadata": {
    "jupyter": {
     "source_hidden": true
    },
    "tags": []
   },
   "outputs": [
    {
     "data": {
      "image/png": "[encoded data removed]",
      "text/plain": [
       "<Figure size 700x500 with 1 Axes>"
      ]
     },
     "metadata": {},
     "output_type": "display_data"
    }
   ],
   "source": [
    "fig             = plt.figure(figsize=(7,5.0))\n",
    "ax1             = fig.add_subplot(111, xscale='linear', yscale='log')\n",
    "\n",
    "min_score       = np.nanmin(full_catalog_df.loc[:, 'pred_Z'])\n",
    "max_score       = np.nanmax(full_catalog_df.loc[:, 'pred_Z'])\n",
    "score_bins      = np.linspace(min_score, max_score, 30)\n",
    "\n",
    "sample_size_gal = np.sum(np.isfinite(full_catalog_df.loc[np.array(full_catalog_df.loc[:, 'class'] == 0), 'pred_Z']))\n",
    "sample_size_AGN = np.sum(np.isfinite(full_catalog_df.loc[np.array(full_catalog_df.loc[:, 'class'] == 1), 'pred_Z']))\n",
    "\n",
    "ax1.hist(full_catalog_df.loc[np.array(full_catalog_df.loc[:, 'class'] == 0), 'pred_Z'], bins=score_bins,\\\n",
    "         histtype='stepfilled', ec='k', lw=3.5, color=cm.get_cmap('cet_gray')(0.9), alpha=0.9,\\\n",
    "         label=f'True class: Galaxy\\nN={sample_size_gal:,}', zorder=np.ceil((sample_size_AGN/sample_size_gal)))\n",
    "ax1.hist(full_catalog_df.loc[np.array(full_catalog_df.loc[:, 'class'] == 1), 'pred_Z'], bins=score_bins,\\\n",
    "         histtype='stepfilled', ec='k', lw=3.5, color=cm.get_cmap('cet_gray')(0.7), alpha=0.9,\\\n",
    "         label=f'True class: AGN\\nN={sample_size_AGN:,}', zorder=np.ceil((sample_size_gal/sample_size_AGN)))\n",
    "    \n",
    "ax1.tick_params(which='both', top=True, right=True, direction='in')\n",
    "ax1.tick_params(axis='both', which='major', labelsize=14)\n",
    "ax1.tick_params(which='major', length=8, width=1.5)\n",
    "ax1.tick_params(which='minor', length=4, width=1.5)\n",
    "ax1.set_xlabel('Predicted redshift', size=20)\n",
    "ax1.set_ylabel('Frequency', size=20)\n",
    "plt.setp(ax1.spines.values(), linewidth=3.5)\n",
    "plt.setp(ax1.spines.values(), linewidth=3.5)\n",
    "plt.legend(loc=1, fontsize=14)\n",
    "plt.grid(False)\n",
    "#ax1.set_aspect('equal', 'box')\n",
    "fig.tight_layout()\n",
    "if save_plot_flag:\n",
    "    plt.savefig(f'plots/hist_predicted_redshift_true_class_{used_area}.pdf', bbox_inches='tight')\n",
    "plt.show()"
   ]
  },
  {
   "cell_type": "code",
   "execution_count": 71,
   "metadata": {
    "jupyter": {
     "source_hidden": true
    },
    "tags": []
   },
   "outputs": [
    {
     "data": {
      "image/png": "[encoded data removed]",
      "text/plain": [
       "<Figure size 700x500 with 1 Axes>"
      ]
     },
     "metadata": {},
     "output_type": "display_data"
    }
   ],
   "source": [
    "fig             = plt.figure(figsize=(7,5.0))\n",
    "ax1             = fig.add_subplot(111, xscale='linear', yscale='log')\n",
    "\n",
    "min_score       = np.nanmin(full_catalog_df.loc[:, 'pred_Z'])\n",
    "max_score       = np.nanmax(full_catalog_df.loc[:, 'pred_Z'])\n",
    "score_bins      = np.linspace(min_score, max_score, 30)\n",
    "\n",
    "sample_size_gal = np.sum(np.isfinite(full_catalog_df.loc[np.array(full_catalog_df.loc[:, 'Score_AGN'] < threshold_AGN), 'pred_Z']))\n",
    "sample_size_AGN = np.sum(np.isfinite(full_catalog_df.loc[np.array(full_catalog_df.loc[:, 'Score_AGN'] >= threshold_AGN), 'pred_Z']))\n",
    "\n",
    "ax1.hist(full_catalog_df.loc[np.array(full_catalog_df.loc[:, 'Score_AGN'] < threshold_AGN), 'pred_Z'],\\\n",
    "         bins=score_bins, histtype='stepfilled', ec='k', lw=3.5, color=cm.get_cmap('cet_gray')(0.9), alpha=0.9,\\\n",
    "         label=f'Predicted class: Galaxy\\nN={sample_size_gal:,}', zorder=np.ceil((sample_size_AGN/sample_size_gal)))\n",
    "ax1.hist(full_catalog_df.loc[np.array(full_catalog_df.loc[:, 'Score_AGN'] >= threshold_AGN), 'pred_Z'],\\\n",
    "         bins=score_bins, histtype='stepfilled', ec='k', lw=3.5, color=cm.get_cmap('cet_gray')(0.7), alpha=0.9,\\\n",
    "         label=f'Predicted class: AGN\\nN={sample_size_AGN:,}', zorder=np.ceil((sample_size_gal/sample_size_AGN)))\n",
    "    \n",
    "ax1.tick_params(which='both', top=True, right=True, direction='in')\n",
    "ax1.tick_params(axis='both', which='major', labelsize=14)\n",
    "ax1.tick_params(which='major', length=8, width=1.5)\n",
    "ax1.tick_params(which='minor', length=4, width=1.5)\n",
    "ax1.set_xlabel('Predicted redshift', size=20)\n",
    "ax1.set_ylabel('Frequency', size=20)\n",
    "plt.setp(ax1.spines.values(), linewidth=3.5)\n",
    "plt.setp(ax1.spines.values(), linewidth=3.5)\n",
    "plt.legend(loc=1, fontsize=14)\n",
    "plt.grid(False)\n",
    "#ax1.set_aspect('equal', 'box')\n",
    "fig.tight_layout()\n",
    "if save_plot_flag:\n",
    "    plt.savefig(f'plots/hist_predicted_redshift_predicted_class_{used_area}.pdf', bbox_inches='tight')\n",
    "plt.show()"
   ]
  },
  {
   "cell_type": "markdown",
   "metadata": {},
   "source": [
    "### Select sources predicted to be Radio AGN"
   ]
  },
  {
   "cell_type": "code",
   "execution_count": 72,
   "metadata": {
    "jupyter": {
     "source_hidden": true
    }
   },
   "outputs": [
    {
     "data": {
      "text/html": [
       "<div>\n",
       "<style scoped>\n",
       "    .dataframe tbody tr th:only-of-type {\n",
       "        vertical-align: middle;\n",
       "    }\n",
       "\n",
       "    .dataframe tbody tr th {\n",
       "        vertical-align: top;\n",
       "    }\n",
       "\n",
       "    .dataframe thead th {\n",
       "        text-align: right;\n",
       "    }\n",
       "</style>\n",
       "<table border=\"1\" class=\"dataframe\">\n",
       "  <thead>\n",
       "    <tr style=\"text-align: right;\">\n",
       "      <th></th>\n",
       "      <th>class</th>\n",
       "      <th>pred_class</th>\n",
       "      <th>radio_detect</th>\n",
       "      <th>pred_radio</th>\n",
       "      <th>Z</th>\n",
       "      <th>pred_Z</th>\n",
       "    </tr>\n",
       "  </thead>\n",
       "  <tbody>\n",
       "    <tr>\n",
       "      <th>count</th>\n",
       "      <td>22523.000000</td>\n",
       "      <td>22523.0</td>\n",
       "      <td>22523.000000</td>\n",
       "      <td>22523.0</td>\n",
       "      <td>1905.000000</td>\n",
       "      <td>22523.000000</td>\n",
       "    </tr>\n",
       "    <tr>\n",
       "      <th>mean</th>\n",
       "      <td>0.084758</td>\n",
       "      <td>1.0</td>\n",
       "      <td>0.329352</td>\n",
       "      <td>1.0</td>\n",
       "      <td>1.187663</td>\n",
       "      <td>1.370081</td>\n",
       "    </tr>\n",
       "    <tr>\n",
       "      <th>std</th>\n",
       "      <td>0.278527</td>\n",
       "      <td>0.0</td>\n",
       "      <td>0.469988</td>\n",
       "      <td>0.0</td>\n",
       "      <td>0.866530</td>\n",
       "      <td>0.760439</td>\n",
       "    </tr>\n",
       "    <tr>\n",
       "      <th>min</th>\n",
       "      <td>0.000000</td>\n",
       "      <td>1.0</td>\n",
       "      <td>0.000000</td>\n",
       "      <td>1.0</td>\n",
       "      <td>-0.000110</td>\n",
       "      <td>0.040300</td>\n",
       "    </tr>\n",
       "    <tr>\n",
       "      <th>25%</th>\n",
       "      <td>0.000000</td>\n",
       "      <td>1.0</td>\n",
       "      <td>0.000000</td>\n",
       "      <td>1.0</td>\n",
       "      <td>0.453000</td>\n",
       "      <td>0.775900</td>\n",
       "    </tr>\n",
       "    <tr>\n",
       "      <th>50%</th>\n",
       "      <td>0.000000</td>\n",
       "      <td>1.0</td>\n",
       "      <td>0.000000</td>\n",
       "      <td>1.0</td>\n",
       "      <td>1.075000</td>\n",
       "      <td>1.243700</td>\n",
       "    </tr>\n",
       "    <tr>\n",
       "      <th>75%</th>\n",
       "      <td>0.000000</td>\n",
       "      <td>1.0</td>\n",
       "      <td>1.000000</td>\n",
       "      <td>1.0</td>\n",
       "      <td>1.798000</td>\n",
       "      <td>1.898400</td>\n",
       "    </tr>\n",
       "    <tr>\n",
       "      <th>max</th>\n",
       "      <td>1.000000</td>\n",
       "      <td>1.0</td>\n",
       "      <td>1.000000</td>\n",
       "      <td>1.0</td>\n",
       "      <td>5.800000</td>\n",
       "      <td>5.182700</td>\n",
       "    </tr>\n",
       "  </tbody>\n",
       "</table>\n",
       "</div>"
      ],
      "text/plain": [
       "              class  pred_class  radio_detect  pred_radio            Z  \\\n",
       "count  22523.000000     22523.0  22523.000000     22523.0  1905.000000   \n",
       "mean       0.084758         1.0      0.329352         1.0     1.187663   \n",
       "std        0.278527         0.0      0.469988         0.0     0.866530   \n",
       "min        0.000000         1.0      0.000000         1.0    -0.000110   \n",
       "25%        0.000000         1.0      0.000000         1.0     0.453000   \n",
       "50%        0.000000         1.0      0.000000         1.0     1.075000   \n",
       "75%        0.000000         1.0      1.000000         1.0     1.798000   \n",
       "max        1.000000         1.0      1.000000         1.0     5.800000   \n",
       "\n",
       "             pred_Z  \n",
       "count  22523.000000  \n",
       "mean       1.370081  \n",
       "std        0.760439  \n",
       "min        0.040300  \n",
       "25%        0.775900  \n",
       "50%        1.243700  \n",
       "75%        1.898400  \n",
       "max        5.182700  "
      ]
     },
     "execution_count": 72,
     "metadata": {},
     "output_type": "execute_result"
    }
   ],
   "source": [
    "displayed_cols = ['is_str', 'pred_star', 'class', 'pred_class', 'radio_detect', 'pred_radio', 'Z', 'pred_Z']\n",
    "if not use_zeroth_model:\n",
    "    displayed_cols.remove('is_str')\n",
    "    displayed_cols.remove('pred_star')\n",
    "full_catalog_df.loc[filter_radio_AGN_p, displayed_cols].describe()"
   ]
  },
  {
   "cell_type": "markdown",
   "metadata": {},
   "source": [
    "Add individual metrics for redshift"
   ]
  },
  {
   "cell_type": "code",
   "execution_count": 73,
   "metadata": {
    "jupyter": {
     "source_hidden": true
    },
    "tags": []
   },
   "outputs": [],
   "source": [
    "full_catalog_df['Delta_z_N'] = np.around((full_catalog_df.loc[:, 'pred_Z'] - full_catalog_df.loc[:, 'Z']) /\\\n",
    "                            (1 + full_catalog_df.loc[:, 'Z']), decimals=3)\n",
    "\n",
    "full_catalog_df['sigma_NMAD'] = np.around(1.48 * np.abs(full_catalog_df.loc[:, 'pred_Z'] - full_catalog_df.loc[:, 'Z']) /\\\n",
    "                            (1 + full_catalog_df.loc[:, 'Z']), decimals=3)"
   ]
  },
  {
   "cell_type": "markdown",
   "metadata": {},
   "source": [
    "Numerical summary."
   ]
  },
  {
   "cell_type": "code",
   "execution_count": 74,
   "metadata": {
    "jupyter": {
     "source_hidden": true
    },
    "tags": []
   },
   "outputs": [],
   "source": [
    "str_0_t    = f'Out of {total_size:,} initial sources in {used_area},\\n'\n",
    "str_1_t    = f'{num_gal_t:,} are confirmed to be galaxies. On the other side,\\n'\n",
    "str_2_t    = f'{num_str_t:,} are listed as SDSS-DR16 stars and {num_AGN_t:,} are MQC AGN.\\n'\n",
    "str_3_t    = f'Also, {num_radio_AGN_t:,} AGN are detected in radio.'\n",
    "\n",
    "str_0_p    = f'Out of {num_radio_AGN_t:,} initial radio-detected AGN in {used_area},\\n'\n",
    "str_1_p    = f'{num_gal_p:,} are predicted to be galaxies. On the other side,\\n'\n",
    "str_2_p    = f'{num_AGN_p:,} are predicted to be AGN. From the predicted AGN,\\n'\n",
    "str_3_p    = f'{num_radio_AGN_p:,} are predicted to be detected in radio.'\n",
    "\n",
    "str_0_rAGN = f'{num_radio_AGN_p:,} sources were predicted to be Radio AGN in {used_area}.\\n'\n",
    "str_1_rAGN = f'{num_rAGN_MQC_p:,} of them were listed in MQC.\\n'\n",
    "str_2_rAGN = f'{num_rAGN_gal_p:,} of them are listed as SDSS-DR16 galaxies.\\n'\n",
    "str_3_rAGN = f'{num_rAGN_str_p:,} of them are listed as SDSS-DR16 stars.\\n'\n",
    "str_4_rAGN = f'{num_rAGN_rad_p:,} of them have radio detections.\\n'\n",
    "str_5_rAGN = f'Thus, {num_new_rAGN_p:,} sources are new radio AGN.'"
   ]
  },
  {
   "cell_type": "code",
   "execution_count": 75,
   "metadata": {
    "jupyter": {
     "source_hidden": true
    },
    "tags": []
   },
   "outputs": [
    {
     "name": "stdout",
     "output_type": "stream",
     "text": [
      "------------------------------------------------------------\n",
      "Out of 352,139 initial sources in HETDEX,\n",
      "346,060 are confirmed to be galaxies. On the other side,\n",
      "68 are listed as SDSS-DR16 stars and 6,079 are MQC AGN.\n",
      "Also, 2,038 AGN are detected in radio.\n",
      "------------------------------------------------------------\n",
      "Out of 2,038 initial radio-detected AGN in HETDEX,\n",
      "160,100 are predicted to be galaxies. On the other side,\n",
      "192,039 are predicted to be AGN. From the predicted AGN,\n",
      "22,523 are predicted to be detected in radio.\n",
      "------------------------------------------------------------\n",
      "22,523 sources were predicted to be Radio AGN in HETDEX.\n",
      "1,909 of them were listed in MQC.\n",
      "20,614 of them are listed as SDSS-DR16 galaxies.\n",
      "7 of them are listed as SDSS-DR16 stars.\n",
      "7,418 of them have radio detections.\n",
      "Thus, 20,485 sources are new radio AGN.\n",
      "------------------------------------------------------------\n"
     ]
    }
   ],
   "source": [
    "print('-' * 60)\n",
    "print(str_0_t + str_1_t + str_2_t + str_3_t)\n",
    "print('-' * 60)\n",
    "print(str_0_p + str_1_p + str_2_p + str_3_p)\n",
    "print('-' * 60)\n",
    "print(str_0_rAGN + str_1_rAGN + str_2_rAGN + str_3_rAGN + str_4_rAGN + str_5_rAGN)\n",
    "print('-' * 60)"
   ]
  },
  {
   "cell_type": "code",
   "execution_count": 76,
   "metadata": {
    "jupyter": {
     "source_hidden": true
    }
   },
   "outputs": [],
   "source": [
    "cols_4_table = show_columns = ['Name', 'RA_ICRS', 'DE_ICRS', 'TYPE', 'band_num', 'class', 'pred_class', 'Score_AGN',\\\n",
    "                               'radio_detect', 'pred_radio', 'scaled_score_radio', 'scaled_score_rAGN', 'Z', 'pred_Z']"
   ]
  },
  {
   "cell_type": "code",
   "execution_count": 77,
   "metadata": {
    "jupyter": {
     "source_hidden": true
    }
   },
   "outputs": [],
   "source": [
    "cols_4_export_S82    = ['Total_flux_VLASS', 'Fint_VLAS82', 'Stotal_TGSS', 'FEP']\n",
    "cols_4_export_HETDEX = ['Total_flux_VLASS', 'Sint_LOFAR', 'Stotal_TGSS', 'FEP', 'TotalFlux_LoLSS']\n",
    "cols_4_export_COSMOS = ['Total_flux_VLASS', 'Stotal_TGSS', 'FEP', 'Flux_COSMOSVLA3']\n",
    "\n",
    "cols_4_exp_all       = {'S82': cols_4_export_S82, 'HETDEX': cols_4_export_HETDEX, 'COSMOS': cols_4_export_COSMOS}\n",
    "\n",
    "cols_photo           = ['W1mproPM', 'W2mproPM', 'gmag', 'rmag', 'imag', 'zmag', 'ymag', 'FUVmag', 'NUVmag',\\\n",
    "                        'Jmag', 'Hmag', 'Kmag', 'W3mag', 'W4mag']\n",
    "\n",
    "cols_4_export        = cols_4_table + cols_4_exp_all[used_area] + cols_photo"
   ]
  },
  {
   "cell_type": "code",
   "execution_count": 78,
   "metadata": {},
   "outputs": [],
   "source": [
    "filter_high_z   = full_catalog_df.loc[:, 'pred_Z']    >= 3.7"
   ]
  },
  {
   "cell_type": "code",
   "execution_count": 79,
   "metadata": {},
   "outputs": [
    {
     "data": {
      "text/html": [
       "<div>\n",
       "<style scoped>\n",
       "    .dataframe tbody tr th:only-of-type {\n",
       "        vertical-align: middle;\n",
       "    }\n",
       "\n",
       "    .dataframe tbody tr th {\n",
       "        vertical-align: top;\n",
       "    }\n",
       "\n",
       "    .dataframe thead th {\n",
       "        text-align: right;\n",
       "    }\n",
       "</style>\n",
       "<table border=\"1\" class=\"dataframe\">\n",
       "  <thead>\n",
       "    <tr style=\"text-align: right;\">\n",
       "      <th></th>\n",
       "      <th>Name</th>\n",
       "      <th>RA_ICRS</th>\n",
       "      <th>DE_ICRS</th>\n",
       "      <th>TYPE</th>\n",
       "      <th>band_num</th>\n",
       "      <th>class</th>\n",
       "      <th>pred_class</th>\n",
       "      <th>Score_AGN</th>\n",
       "      <th>radio_detect</th>\n",
       "      <th>pred_radio</th>\n",
       "      <th>scaled_score_radio</th>\n",
       "      <th>scaled_score_rAGN</th>\n",
       "      <th>Z</th>\n",
       "      <th>pred_Z</th>\n",
       "    </tr>\n",
       "  </thead>\n",
       "  <tbody>\n",
       "    <tr>\n",
       "      <th>2693993</th>\n",
       "      <td>J105449.48+483611.5</td>\n",
       "      <td>163.706161</td>\n",
       "      <td>48.603210</td>\n",
       "      <td></td>\n",
       "      <td>10</td>\n",
       "      <td>0.0</td>\n",
       "      <td>1</td>\n",
       "      <td>0.371760</td>\n",
       "      <td>0</td>\n",
       "      <td>1</td>\n",
       "      <td>0.561552</td>\n",
       "      <td>0.208763</td>\n",
       "      <td>NaN</td>\n",
       "      <td>5.1827</td>\n",
       "    </tr>\n",
       "    <tr>\n",
       "      <th>6328478</th>\n",
       "      <td>J132420.48+502450.5</td>\n",
       "      <td>201.085342</td>\n",
       "      <td>50.414028</td>\n",
       "      <td></td>\n",
       "      <td>10</td>\n",
       "      <td>0.0</td>\n",
       "      <td>1</td>\n",
       "      <td>0.475414</td>\n",
       "      <td>0</td>\n",
       "      <td>1</td>\n",
       "      <td>0.566459</td>\n",
       "      <td>0.269302</td>\n",
       "      <td>NaN</td>\n",
       "      <td>5.1619</td>\n",
       "    </tr>\n",
       "    <tr>\n",
       "      <th>2688931</th>\n",
       "      <td>J132245.76+524959.6</td>\n",
       "      <td>200.690689</td>\n",
       "      <td>52.833225</td>\n",
       "      <td></td>\n",
       "      <td>10</td>\n",
       "      <td>0.0</td>\n",
       "      <td>1</td>\n",
       "      <td>0.478662</td>\n",
       "      <td>0</td>\n",
       "      <td>1</td>\n",
       "      <td>0.437556</td>\n",
       "      <td>0.209441</td>\n",
       "      <td>NaN</td>\n",
       "      <td>5.1572</td>\n",
       "    </tr>\n",
       "    <tr>\n",
       "      <th>925218</th>\n",
       "      <td>J135733.90+481557.2</td>\n",
       "      <td>209.391220</td>\n",
       "      <td>48.265907</td>\n",
       "      <td></td>\n",
       "      <td>7</td>\n",
       "      <td>0.0</td>\n",
       "      <td>1</td>\n",
       "      <td>0.384805</td>\n",
       "      <td>0</td>\n",
       "      <td>1</td>\n",
       "      <td>0.598127</td>\n",
       "      <td>0.230162</td>\n",
       "      <td>-0.00011</td>\n",
       "      <td>5.0677</td>\n",
       "    </tr>\n",
       "    <tr>\n",
       "      <th>4273520</th>\n",
       "      <td>J120435.63+504657.1</td>\n",
       "      <td>181.148483</td>\n",
       "      <td>50.782516</td>\n",
       "      <td></td>\n",
       "      <td>5</td>\n",
       "      <td>0.0</td>\n",
       "      <td>1</td>\n",
       "      <td>0.358862</td>\n",
       "      <td>0</td>\n",
       "      <td>1</td>\n",
       "      <td>0.506690</td>\n",
       "      <td>0.181832</td>\n",
       "      <td>NaN</td>\n",
       "      <td>4.7296</td>\n",
       "    </tr>\n",
       "    <tr>\n",
       "      <th>3390070</th>\n",
       "      <td>J150001.88+522257.0</td>\n",
       "      <td>225.007843</td>\n",
       "      <td>52.382500</td>\n",
       "      <td></td>\n",
       "      <td>10</td>\n",
       "      <td>0.0</td>\n",
       "      <td>1</td>\n",
       "      <td>0.319478</td>\n",
       "      <td>0</td>\n",
       "      <td>1</td>\n",
       "      <td>0.561552</td>\n",
       "      <td>0.179404</td>\n",
       "      <td>NaN</td>\n",
       "      <td>4.6838</td>\n",
       "    </tr>\n",
       "    <tr>\n",
       "      <th>2919244</th>\n",
       "      <td>J123956.46+551951.4</td>\n",
       "      <td>189.985260</td>\n",
       "      <td>55.330967</td>\n",
       "      <td></td>\n",
       "      <td>9</td>\n",
       "      <td>0.0</td>\n",
       "      <td>1</td>\n",
       "      <td>0.356559</td>\n",
       "      <td>0</td>\n",
       "      <td>1</td>\n",
       "      <td>0.442908</td>\n",
       "      <td>0.157923</td>\n",
       "      <td>NaN</td>\n",
       "      <td>4.6672</td>\n",
       "    </tr>\n",
       "    <tr>\n",
       "      <th>2943194</th>\n",
       "      <td>J122605.89+501443.9</td>\n",
       "      <td>186.524582</td>\n",
       "      <td>50.245518</td>\n",
       "      <td></td>\n",
       "      <td>9</td>\n",
       "      <td>0.0</td>\n",
       "      <td>1</td>\n",
       "      <td>0.415118</td>\n",
       "      <td>0</td>\n",
       "      <td>1</td>\n",
       "      <td>0.605709</td>\n",
       "      <td>0.251441</td>\n",
       "      <td>NaN</td>\n",
       "      <td>4.6485</td>\n",
       "    </tr>\n",
       "    <tr>\n",
       "      <th>6154084</th>\n",
       "      <td>J145222.17+545516.9</td>\n",
       "      <td>223.092392</td>\n",
       "      <td>54.921368</td>\n",
       "      <td></td>\n",
       "      <td>9</td>\n",
       "      <td>0.0</td>\n",
       "      <td>1</td>\n",
       "      <td>0.431523</td>\n",
       "      <td>0</td>\n",
       "      <td>1</td>\n",
       "      <td>0.449599</td>\n",
       "      <td>0.194012</td>\n",
       "      <td>NaN</td>\n",
       "      <td>4.6290</td>\n",
       "    </tr>\n",
       "    <tr>\n",
       "      <th>2037615</th>\n",
       "      <td>J113250.54+470330.0</td>\n",
       "      <td>173.210571</td>\n",
       "      <td>47.058346</td>\n",
       "      <td></td>\n",
       "      <td>9</td>\n",
       "      <td>0.0</td>\n",
       "      <td>1</td>\n",
       "      <td>0.479934</td>\n",
       "      <td>0</td>\n",
       "      <td>1</td>\n",
       "      <td>0.463426</td>\n",
       "      <td>0.222414</td>\n",
       "      <td>NaN</td>\n",
       "      <td>4.5626</td>\n",
       "    </tr>\n",
       "    <tr>\n",
       "      <th>6064972</th>\n",
       "      <td>J151657.57+492729.9</td>\n",
       "      <td>229.239899</td>\n",
       "      <td>49.458305</td>\n",
       "      <td></td>\n",
       "      <td>9</td>\n",
       "      <td>0.0</td>\n",
       "      <td>1</td>\n",
       "      <td>0.432895</td>\n",
       "      <td>0</td>\n",
       "      <td>1</td>\n",
       "      <td>0.447368</td>\n",
       "      <td>0.193664</td>\n",
       "      <td>NaN</td>\n",
       "      <td>4.5545</td>\n",
       "    </tr>\n",
       "    <tr>\n",
       "      <th>2701100</th>\n",
       "      <td>J105235.64+482433.7</td>\n",
       "      <td>163.148499</td>\n",
       "      <td>48.409359</td>\n",
       "      <td></td>\n",
       "      <td>9</td>\n",
       "      <td>0.0</td>\n",
       "      <td>1</td>\n",
       "      <td>0.494138</td>\n",
       "      <td>0</td>\n",
       "      <td>1</td>\n",
       "      <td>0.590098</td>\n",
       "      <td>0.291590</td>\n",
       "      <td>NaN</td>\n",
       "      <td>4.5497</td>\n",
       "    </tr>\n",
       "    <tr>\n",
       "      <th>4659062</th>\n",
       "      <td>J120151.90+522204.8</td>\n",
       "      <td>180.466263</td>\n",
       "      <td>52.368000</td>\n",
       "      <td></td>\n",
       "      <td>9</td>\n",
       "      <td>0.0</td>\n",
       "      <td>1</td>\n",
       "      <td>0.576901</td>\n",
       "      <td>0</td>\n",
       "      <td>1</td>\n",
       "      <td>0.588760</td>\n",
       "      <td>0.339656</td>\n",
       "      <td>NaN</td>\n",
       "      <td>4.5476</td>\n",
       "    </tr>\n",
       "    <tr>\n",
       "      <th>4881640</th>\n",
       "      <td>J120414.65+533459.0</td>\n",
       "      <td>181.061020</td>\n",
       "      <td>53.583069</td>\n",
       "      <td></td>\n",
       "      <td>9</td>\n",
       "      <td>0.0</td>\n",
       "      <td>1</td>\n",
       "      <td>0.490254</td>\n",
       "      <td>0</td>\n",
       "      <td>1</td>\n",
       "      <td>0.611508</td>\n",
       "      <td>0.299794</td>\n",
       "      <td>NaN</td>\n",
       "      <td>4.5439</td>\n",
       "    </tr>\n",
       "    <tr>\n",
       "      <th>5316127</th>\n",
       "      <td>J124901.60+481335.3</td>\n",
       "      <td>192.256668</td>\n",
       "      <td>48.226494</td>\n",
       "      <td></td>\n",
       "      <td>9</td>\n",
       "      <td>0.0</td>\n",
       "      <td>1</td>\n",
       "      <td>0.322545</td>\n",
       "      <td>0</td>\n",
       "      <td>1</td>\n",
       "      <td>0.515611</td>\n",
       "      <td>0.166308</td>\n",
       "      <td>NaN</td>\n",
       "      <td>4.5377</td>\n",
       "    </tr>\n",
       "    <tr>\n",
       "      <th>259704</th>\n",
       "      <td>J120642.55+481505.3</td>\n",
       "      <td>181.677292</td>\n",
       "      <td>48.251469</td>\n",
       "      <td></td>\n",
       "      <td>5</td>\n",
       "      <td>0.0</td>\n",
       "      <td>1</td>\n",
       "      <td>0.444043</td>\n",
       "      <td>0</td>\n",
       "      <td>1</td>\n",
       "      <td>0.571811</td>\n",
       "      <td>0.253909</td>\n",
       "      <td>NaN</td>\n",
       "      <td>4.5373</td>\n",
       "    </tr>\n",
       "    <tr>\n",
       "      <th>1180588</th>\n",
       "      <td>J104913.92+470214.1</td>\n",
       "      <td>162.308029</td>\n",
       "      <td>47.037266</td>\n",
       "      <td></td>\n",
       "      <td>5</td>\n",
       "      <td>0.0</td>\n",
       "      <td>1</td>\n",
       "      <td>0.403388</td>\n",
       "      <td>0</td>\n",
       "      <td>1</td>\n",
       "      <td>0.597681</td>\n",
       "      <td>0.241097</td>\n",
       "      <td>NaN</td>\n",
       "      <td>4.5353</td>\n",
       "    </tr>\n",
       "    <tr>\n",
       "      <th>6553025</th>\n",
       "      <td>J113258.03+540032.6</td>\n",
       "      <td>173.241806</td>\n",
       "      <td>54.009064</td>\n",
       "      <td></td>\n",
       "      <td>9</td>\n",
       "      <td>0.0</td>\n",
       "      <td>1</td>\n",
       "      <td>0.523500</td>\n",
       "      <td>0</td>\n",
       "      <td>1</td>\n",
       "      <td>0.448260</td>\n",
       "      <td>0.234664</td>\n",
       "      <td>NaN</td>\n",
       "      <td>4.5091</td>\n",
       "    </tr>\n",
       "    <tr>\n",
       "      <th>2562037</th>\n",
       "      <td>J123558.35+545816.2</td>\n",
       "      <td>188.993149</td>\n",
       "      <td>54.971172</td>\n",
       "      <td></td>\n",
       "      <td>5</td>\n",
       "      <td>0.0</td>\n",
       "      <td>1</td>\n",
       "      <td>0.341491</td>\n",
       "      <td>0</td>\n",
       "      <td>1</td>\n",
       "      <td>0.596789</td>\n",
       "      <td>0.203798</td>\n",
       "      <td>NaN</td>\n",
       "      <td>4.4946</td>\n",
       "    </tr>\n",
       "    <tr>\n",
       "      <th>4672529</th>\n",
       "      <td>J135021.58+555222.6</td>\n",
       "      <td>207.589905</td>\n",
       "      <td>55.872978</td>\n",
       "      <td></td>\n",
       "      <td>9</td>\n",
       "      <td>0.0</td>\n",
       "      <td>1</td>\n",
       "      <td>0.318486</td>\n",
       "      <td>0</td>\n",
       "      <td>1</td>\n",
       "      <td>0.525424</td>\n",
       "      <td>0.167340</td>\n",
       "      <td>NaN</td>\n",
       "      <td>4.4933</td>\n",
       "    </tr>\n",
       "    <tr>\n",
       "      <th>2687526</th>\n",
       "      <td>J142512.28+553141.3</td>\n",
       "      <td>216.301208</td>\n",
       "      <td>55.528156</td>\n",
       "      <td></td>\n",
       "      <td>10</td>\n",
       "      <td>0.0</td>\n",
       "      <td>1</td>\n",
       "      <td>0.365508</td>\n",
       "      <td>0</td>\n",
       "      <td>1</td>\n",
       "      <td>0.429973</td>\n",
       "      <td>0.157159</td>\n",
       "      <td>NaN</td>\n",
       "      <td>4.4742</td>\n",
       "    </tr>\n",
       "    <tr>\n",
       "      <th>6545480</th>\n",
       "      <td>J113108.92+534339.0</td>\n",
       "      <td>172.787186</td>\n",
       "      <td>53.727489</td>\n",
       "      <td></td>\n",
       "      <td>9</td>\n",
       "      <td>0.0</td>\n",
       "      <td>1</td>\n",
       "      <td>0.450978</td>\n",
       "      <td>0</td>\n",
       "      <td>1</td>\n",
       "      <td>0.580285</td>\n",
       "      <td>0.261696</td>\n",
       "      <td>NaN</td>\n",
       "      <td>4.4710</td>\n",
       "    </tr>\n",
       "    <tr>\n",
       "      <th>4774199</th>\n",
       "      <td>J115911.04+494132.1</td>\n",
       "      <td>179.796005</td>\n",
       "      <td>49.692265</td>\n",
       "      <td></td>\n",
       "      <td>9</td>\n",
       "      <td>0.0</td>\n",
       "      <td>1</td>\n",
       "      <td>0.316316</td>\n",
       "      <td>0</td>\n",
       "      <td>1</td>\n",
       "      <td>0.583854</td>\n",
       "      <td>0.184682</td>\n",
       "      <td>NaN</td>\n",
       "      <td>4.4648</td>\n",
       "    </tr>\n",
       "    <tr>\n",
       "      <th>5787131</th>\n",
       "      <td>J113010.62+492917.1</td>\n",
       "      <td>172.544281</td>\n",
       "      <td>49.488094</td>\n",
       "      <td></td>\n",
       "      <td>5</td>\n",
       "      <td>0.0</td>\n",
       "      <td>1</td>\n",
       "      <td>0.386306</td>\n",
       "      <td>0</td>\n",
       "      <td>1</td>\n",
       "      <td>0.596789</td>\n",
       "      <td>0.230543</td>\n",
       "      <td>NaN</td>\n",
       "      <td>4.4590</td>\n",
       "    </tr>\n",
       "    <tr>\n",
       "      <th>4819716</th>\n",
       "      <td>J150439.56+541355.0</td>\n",
       "      <td>226.164856</td>\n",
       "      <td>54.231941</td>\n",
       "      <td></td>\n",
       "      <td>9</td>\n",
       "      <td>0.0</td>\n",
       "      <td>1</td>\n",
       "      <td>0.334069</td>\n",
       "      <td>0</td>\n",
       "      <td>1</td>\n",
       "      <td>0.532114</td>\n",
       "      <td>0.177763</td>\n",
       "      <td>NaN</td>\n",
       "      <td>4.4460</td>\n",
       "    </tr>\n",
       "  </tbody>\n",
       "</table>\n",
       "</div>"
      ],
      "text/plain": [
       "                         Name     RA_ICRS    DE_ICRS  TYPE  band_num  class  \\\n",
       "2693993  J105449.48+483611.5   163.706161  48.603210              10    0.0   \n",
       "6328478  J132420.48+502450.5   201.085342  50.414028              10    0.0   \n",
       "2688931  J132245.76+524959.6   200.690689  52.833225              10    0.0   \n",
       "925218   J135733.90+481557.2   209.391220  48.265907               7    0.0   \n",
       "4273520  J120435.63+504657.1   181.148483  50.782516               5    0.0   \n",
       "3390070  J150001.88+522257.0   225.007843  52.382500              10    0.0   \n",
       "2919244  J123956.46+551951.4   189.985260  55.330967               9    0.0   \n",
       "2943194  J122605.89+501443.9   186.524582  50.245518               9    0.0   \n",
       "6154084  J145222.17+545516.9   223.092392  54.921368               9    0.0   \n",
       "2037615  J113250.54+470330.0   173.210571  47.058346               9    0.0   \n",
       "6064972  J151657.57+492729.9   229.239899  49.458305               9    0.0   \n",
       "2701100  J105235.64+482433.7   163.148499  48.409359               9    0.0   \n",
       "4659062  J120151.90+522204.8   180.466263  52.368000               9    0.0   \n",
       "4881640  J120414.65+533459.0   181.061020  53.583069               9    0.0   \n",
       "5316127  J124901.60+481335.3   192.256668  48.226494               9    0.0   \n",
       "259704   J120642.55+481505.3   181.677292  48.251469               5    0.0   \n",
       "1180588  J104913.92+470214.1   162.308029  47.037266               5    0.0   \n",
       "6553025  J113258.03+540032.6   173.241806  54.009064               9    0.0   \n",
       "2562037  J123558.35+545816.2   188.993149  54.971172               5    0.0   \n",
       "4672529  J135021.58+555222.6   207.589905  55.872978               9    0.0   \n",
       "2687526  J142512.28+553141.3   216.301208  55.528156              10    0.0   \n",
       "6545480  J113108.92+534339.0   172.787186  53.727489               9    0.0   \n",
       "4774199  J115911.04+494132.1   179.796005  49.692265               9    0.0   \n",
       "5787131  J113010.62+492917.1   172.544281  49.488094               5    0.0   \n",
       "4819716  J150439.56+541355.0   226.164856  54.231941               9    0.0   \n",
       "\n",
       "         pred_class  Score_AGN  radio_detect  pred_radio  scaled_score_radio  \\\n",
       "2693993           1   0.371760             0           1            0.561552   \n",
       "6328478           1   0.475414             0           1            0.566459   \n",
       "2688931           1   0.478662             0           1            0.437556   \n",
       "925218            1   0.384805             0           1            0.598127   \n",
       "4273520           1   0.358862             0           1            0.506690   \n",
       "3390070           1   0.319478             0           1            0.561552   \n",
       "2919244           1   0.356559             0           1            0.442908   \n",
       "2943194           1   0.415118             0           1            0.605709   \n",
       "6154084           1   0.431523             0           1            0.449599   \n",
       "2037615           1   0.479934             0           1            0.463426   \n",
       "6064972           1   0.432895             0           1            0.447368   \n",
       "2701100           1   0.494138             0           1            0.590098   \n",
       "4659062           1   0.576901             0           1            0.588760   \n",
       "4881640           1   0.490254             0           1            0.611508   \n",
       "5316127           1   0.322545             0           1            0.515611   \n",
       "259704            1   0.444043             0           1            0.571811   \n",
       "1180588           1   0.403388             0           1            0.597681   \n",
       "6553025           1   0.523500             0           1            0.448260   \n",
       "2562037           1   0.341491             0           1            0.596789   \n",
       "4672529           1   0.318486             0           1            0.525424   \n",
       "2687526           1   0.365508             0           1            0.429973   \n",
       "6545480           1   0.450978             0           1            0.580285   \n",
       "4774199           1   0.316316             0           1            0.583854   \n",
       "5787131           1   0.386306             0           1            0.596789   \n",
       "4819716           1   0.334069             0           1            0.532114   \n",
       "\n",
       "         scaled_score_rAGN        Z  pred_Z  \n",
       "2693993           0.208763      NaN  5.1827  \n",
       "6328478           0.269302      NaN  5.1619  \n",
       "2688931           0.209441      NaN  5.1572  \n",
       "925218            0.230162 -0.00011  5.0677  \n",
       "4273520           0.181832      NaN  4.7296  \n",
       "3390070           0.179404      NaN  4.6838  \n",
       "2919244           0.157923      NaN  4.6672  \n",
       "2943194           0.251441      NaN  4.6485  \n",
       "6154084           0.194012      NaN  4.6290  \n",
       "2037615           0.222414      NaN  4.5626  \n",
       "6064972           0.193664      NaN  4.5545  \n",
       "2701100           0.291590      NaN  4.5497  \n",
       "4659062           0.339656      NaN  4.5476  \n",
       "4881640           0.299794      NaN  4.5439  \n",
       "5316127           0.166308      NaN  4.5377  \n",
       "259704            0.253909      NaN  4.5373  \n",
       "1180588           0.241097      NaN  4.5353  \n",
       "6553025           0.234664      NaN  4.5091  \n",
       "2562037           0.203798      NaN  4.4946  \n",
       "4672529           0.167340      NaN  4.4933  \n",
       "2687526           0.157159      NaN  4.4742  \n",
       "6545480           0.261696      NaN  4.4710  \n",
       "4774199           0.184682      NaN  4.4648  \n",
       "5787131           0.230543      NaN  4.4590  \n",
       "4819716           0.177763      NaN  4.4460  "
      ]
     },
     "metadata": {},
     "output_type": "display_data"
    }
   ],
   "source": [
    "display(full_catalog_df.loc[filt_new_rAGN_p * filter_high_z, cols_4_table].sort_values(by=['pred_Z'], ascending=False).head(25))"
   ]
  },
  {
   "cell_type": "code",
   "execution_count": 80,
   "metadata": {},
   "outputs": [
    {
     "data": {
      "text/html": [
       "<div>\n",
       "<style scoped>\n",
       "    .dataframe tbody tr th:only-of-type {\n",
       "        vertical-align: middle;\n",
       "    }\n",
       "\n",
       "    .dataframe tbody tr th {\n",
       "        vertical-align: top;\n",
       "    }\n",
       "\n",
       "    .dataframe thead th {\n",
       "        text-align: right;\n",
       "    }\n",
       "</style>\n",
       "<table border=\"1\" class=\"dataframe\">\n",
       "  <thead>\n",
       "    <tr style=\"text-align: right;\">\n",
       "      <th></th>\n",
       "      <th>Name</th>\n",
       "      <th>RA_ICRS</th>\n",
       "      <th>DE_ICRS</th>\n",
       "      <th>TYPE</th>\n",
       "      <th>band_num</th>\n",
       "      <th>class</th>\n",
       "      <th>pred_class</th>\n",
       "      <th>Score_AGN</th>\n",
       "      <th>radio_detect</th>\n",
       "      <th>pred_radio</th>\n",
       "      <th>scaled_score_radio</th>\n",
       "      <th>scaled_score_rAGN</th>\n",
       "      <th>Z</th>\n",
       "      <th>pred_Z</th>\n",
       "    </tr>\n",
       "  </thead>\n",
       "  <tbody>\n",
       "    <tr>\n",
       "      <th>2693993</th>\n",
       "      <td>J105449.48+483611.5</td>\n",
       "      <td>163.706161</td>\n",
       "      <td>48.603210</td>\n",
       "      <td></td>\n",
       "      <td>10</td>\n",
       "      <td>0.0</td>\n",
       "      <td>1</td>\n",
       "      <td>0.371760</td>\n",
       "      <td>0</td>\n",
       "      <td>1</td>\n",
       "      <td>0.561552</td>\n",
       "      <td>0.208763</td>\n",
       "      <td>NaN</td>\n",
       "      <td>5.1827</td>\n",
       "    </tr>\n",
       "    <tr>\n",
       "      <th>6328478</th>\n",
       "      <td>J132420.48+502450.5</td>\n",
       "      <td>201.085342</td>\n",
       "      <td>50.414028</td>\n",
       "      <td></td>\n",
       "      <td>10</td>\n",
       "      <td>0.0</td>\n",
       "      <td>1</td>\n",
       "      <td>0.475414</td>\n",
       "      <td>0</td>\n",
       "      <td>1</td>\n",
       "      <td>0.566459</td>\n",
       "      <td>0.269302</td>\n",
       "      <td>NaN</td>\n",
       "      <td>5.1619</td>\n",
       "    </tr>\n",
       "    <tr>\n",
       "      <th>2688931</th>\n",
       "      <td>J132245.76+524959.6</td>\n",
       "      <td>200.690689</td>\n",
       "      <td>52.833225</td>\n",
       "      <td></td>\n",
       "      <td>10</td>\n",
       "      <td>0.0</td>\n",
       "      <td>1</td>\n",
       "      <td>0.478662</td>\n",
       "      <td>0</td>\n",
       "      <td>1</td>\n",
       "      <td>0.437556</td>\n",
       "      <td>0.209441</td>\n",
       "      <td>NaN</td>\n",
       "      <td>5.1572</td>\n",
       "    </tr>\n",
       "    <tr>\n",
       "      <th>925218</th>\n",
       "      <td>J135733.90+481557.2</td>\n",
       "      <td>209.391220</td>\n",
       "      <td>48.265907</td>\n",
       "      <td></td>\n",
       "      <td>7</td>\n",
       "      <td>0.0</td>\n",
       "      <td>1</td>\n",
       "      <td>0.384805</td>\n",
       "      <td>0</td>\n",
       "      <td>1</td>\n",
       "      <td>0.598127</td>\n",
       "      <td>0.230162</td>\n",
       "      <td>-0.00011</td>\n",
       "      <td>5.0677</td>\n",
       "    </tr>\n",
       "    <tr>\n",
       "      <th>4273520</th>\n",
       "      <td>J120435.63+504657.1</td>\n",
       "      <td>181.148483</td>\n",
       "      <td>50.782516</td>\n",
       "      <td></td>\n",
       "      <td>5</td>\n",
       "      <td>0.0</td>\n",
       "      <td>1</td>\n",
       "      <td>0.358862</td>\n",
       "      <td>0</td>\n",
       "      <td>1</td>\n",
       "      <td>0.506690</td>\n",
       "      <td>0.181832</td>\n",
       "      <td>NaN</td>\n",
       "      <td>4.7296</td>\n",
       "    </tr>\n",
       "    <tr>\n",
       "      <th>3390070</th>\n",
       "      <td>J150001.88+522257.0</td>\n",
       "      <td>225.007843</td>\n",
       "      <td>52.382500</td>\n",
       "      <td></td>\n",
       "      <td>10</td>\n",
       "      <td>0.0</td>\n",
       "      <td>1</td>\n",
       "      <td>0.319478</td>\n",
       "      <td>0</td>\n",
       "      <td>1</td>\n",
       "      <td>0.561552</td>\n",
       "      <td>0.179404</td>\n",
       "      <td>NaN</td>\n",
       "      <td>4.6838</td>\n",
       "    </tr>\n",
       "    <tr>\n",
       "      <th>2919244</th>\n",
       "      <td>J123956.46+551951.4</td>\n",
       "      <td>189.985260</td>\n",
       "      <td>55.330967</td>\n",
       "      <td></td>\n",
       "      <td>9</td>\n",
       "      <td>0.0</td>\n",
       "      <td>1</td>\n",
       "      <td>0.356559</td>\n",
       "      <td>0</td>\n",
       "      <td>1</td>\n",
       "      <td>0.442908</td>\n",
       "      <td>0.157923</td>\n",
       "      <td>NaN</td>\n",
       "      <td>4.6672</td>\n",
       "    </tr>\n",
       "    <tr>\n",
       "      <th>2943194</th>\n",
       "      <td>J122605.89+501443.9</td>\n",
       "      <td>186.524582</td>\n",
       "      <td>50.245518</td>\n",
       "      <td></td>\n",
       "      <td>9</td>\n",
       "      <td>0.0</td>\n",
       "      <td>1</td>\n",
       "      <td>0.415118</td>\n",
       "      <td>0</td>\n",
       "      <td>1</td>\n",
       "      <td>0.605709</td>\n",
       "      <td>0.251441</td>\n",
       "      <td>NaN</td>\n",
       "      <td>4.6485</td>\n",
       "    </tr>\n",
       "    <tr>\n",
       "      <th>6154084</th>\n",
       "      <td>J145222.17+545516.9</td>\n",
       "      <td>223.092392</td>\n",
       "      <td>54.921368</td>\n",
       "      <td></td>\n",
       "      <td>9</td>\n",
       "      <td>0.0</td>\n",
       "      <td>1</td>\n",
       "      <td>0.431523</td>\n",
       "      <td>0</td>\n",
       "      <td>1</td>\n",
       "      <td>0.449599</td>\n",
       "      <td>0.194012</td>\n",
       "      <td>NaN</td>\n",
       "      <td>4.6290</td>\n",
       "    </tr>\n",
       "    <tr>\n",
       "      <th>2037615</th>\n",
       "      <td>J113250.54+470330.0</td>\n",
       "      <td>173.210571</td>\n",
       "      <td>47.058346</td>\n",
       "      <td></td>\n",
       "      <td>9</td>\n",
       "      <td>0.0</td>\n",
       "      <td>1</td>\n",
       "      <td>0.479934</td>\n",
       "      <td>0</td>\n",
       "      <td>1</td>\n",
       "      <td>0.463426</td>\n",
       "      <td>0.222414</td>\n",
       "      <td>NaN</td>\n",
       "      <td>4.5626</td>\n",
       "    </tr>\n",
       "    <tr>\n",
       "      <th>6064972</th>\n",
       "      <td>J151657.57+492729.9</td>\n",
       "      <td>229.239899</td>\n",
       "      <td>49.458305</td>\n",
       "      <td></td>\n",
       "      <td>9</td>\n",
       "      <td>0.0</td>\n",
       "      <td>1</td>\n",
       "      <td>0.432895</td>\n",
       "      <td>0</td>\n",
       "      <td>1</td>\n",
       "      <td>0.447368</td>\n",
       "      <td>0.193664</td>\n",
       "      <td>NaN</td>\n",
       "      <td>4.5545</td>\n",
       "    </tr>\n",
       "    <tr>\n",
       "      <th>2701100</th>\n",
       "      <td>J105235.64+482433.7</td>\n",
       "      <td>163.148499</td>\n",
       "      <td>48.409359</td>\n",
       "      <td></td>\n",
       "      <td>9</td>\n",
       "      <td>0.0</td>\n",
       "      <td>1</td>\n",
       "      <td>0.494138</td>\n",
       "      <td>0</td>\n",
       "      <td>1</td>\n",
       "      <td>0.590098</td>\n",
       "      <td>0.291590</td>\n",
       "      <td>NaN</td>\n",
       "      <td>4.5497</td>\n",
       "    </tr>\n",
       "    <tr>\n",
       "      <th>4659062</th>\n",
       "      <td>J120151.90+522204.8</td>\n",
       "      <td>180.466263</td>\n",
       "      <td>52.368000</td>\n",
       "      <td></td>\n",
       "      <td>9</td>\n",
       "      <td>0.0</td>\n",
       "      <td>1</td>\n",
       "      <td>0.576901</td>\n",
       "      <td>0</td>\n",
       "      <td>1</td>\n",
       "      <td>0.588760</td>\n",
       "      <td>0.339656</td>\n",
       "      <td>NaN</td>\n",
       "      <td>4.5476</td>\n",
       "    </tr>\n",
       "    <tr>\n",
       "      <th>4881640</th>\n",
       "      <td>J120414.65+533459.0</td>\n",
       "      <td>181.061020</td>\n",
       "      <td>53.583069</td>\n",
       "      <td></td>\n",
       "      <td>9</td>\n",
       "      <td>0.0</td>\n",
       "      <td>1</td>\n",
       "      <td>0.490254</td>\n",
       "      <td>0</td>\n",
       "      <td>1</td>\n",
       "      <td>0.611508</td>\n",
       "      <td>0.299794</td>\n",
       "      <td>NaN</td>\n",
       "      <td>4.5439</td>\n",
       "    </tr>\n",
       "    <tr>\n",
       "      <th>5316127</th>\n",
       "      <td>J124901.60+481335.3</td>\n",
       "      <td>192.256668</td>\n",
       "      <td>48.226494</td>\n",
       "      <td></td>\n",
       "      <td>9</td>\n",
       "      <td>0.0</td>\n",
       "      <td>1</td>\n",
       "      <td>0.322545</td>\n",
       "      <td>0</td>\n",
       "      <td>1</td>\n",
       "      <td>0.515611</td>\n",
       "      <td>0.166308</td>\n",
       "      <td>NaN</td>\n",
       "      <td>4.5377</td>\n",
       "    </tr>\n",
       "  </tbody>\n",
       "</table>\n",
       "</div>"
      ],
      "text/plain": [
       "                         Name     RA_ICRS    DE_ICRS  TYPE  band_num  class  \\\n",
       "2693993  J105449.48+483611.5   163.706161  48.603210              10    0.0   \n",
       "6328478  J132420.48+502450.5   201.085342  50.414028              10    0.0   \n",
       "2688931  J132245.76+524959.6   200.690689  52.833225              10    0.0   \n",
       "925218   J135733.90+481557.2   209.391220  48.265907               7    0.0   \n",
       "4273520  J120435.63+504657.1   181.148483  50.782516               5    0.0   \n",
       "3390070  J150001.88+522257.0   225.007843  52.382500              10    0.0   \n",
       "2919244  J123956.46+551951.4   189.985260  55.330967               9    0.0   \n",
       "2943194  J122605.89+501443.9   186.524582  50.245518               9    0.0   \n",
       "6154084  J145222.17+545516.9   223.092392  54.921368               9    0.0   \n",
       "2037615  J113250.54+470330.0   173.210571  47.058346               9    0.0   \n",
       "6064972  J151657.57+492729.9   229.239899  49.458305               9    0.0   \n",
       "2701100  J105235.64+482433.7   163.148499  48.409359               9    0.0   \n",
       "4659062  J120151.90+522204.8   180.466263  52.368000               9    0.0   \n",
       "4881640  J120414.65+533459.0   181.061020  53.583069               9    0.0   \n",
       "5316127  J124901.60+481335.3   192.256668  48.226494               9    0.0   \n",
       "\n",
       "         pred_class  Score_AGN  radio_detect  pred_radio  scaled_score_radio  \\\n",
       "2693993           1   0.371760             0           1            0.561552   \n",
       "6328478           1   0.475414             0           1            0.566459   \n",
       "2688931           1   0.478662             0           1            0.437556   \n",
       "925218            1   0.384805             0           1            0.598127   \n",
       "4273520           1   0.358862             0           1            0.506690   \n",
       "3390070           1   0.319478             0           1            0.561552   \n",
       "2919244           1   0.356559             0           1            0.442908   \n",
       "2943194           1   0.415118             0           1            0.605709   \n",
       "6154084           1   0.431523             0           1            0.449599   \n",
       "2037615           1   0.479934             0           1            0.463426   \n",
       "6064972           1   0.432895             0           1            0.447368   \n",
       "2701100           1   0.494138             0           1            0.590098   \n",
       "4659062           1   0.576901             0           1            0.588760   \n",
       "4881640           1   0.490254             0           1            0.611508   \n",
       "5316127           1   0.322545             0           1            0.515611   \n",
       "\n",
       "         scaled_score_rAGN        Z  pred_Z  \n",
       "2693993           0.208763      NaN  5.1827  \n",
       "6328478           0.269302      NaN  5.1619  \n",
       "2688931           0.209441      NaN  5.1572  \n",
       "925218            0.230162 -0.00011  5.0677  \n",
       "4273520           0.181832      NaN  4.7296  \n",
       "3390070           0.179404      NaN  4.6838  \n",
       "2919244           0.157923      NaN  4.6672  \n",
       "2943194           0.251441      NaN  4.6485  \n",
       "6154084           0.194012      NaN  4.6290  \n",
       "2037615           0.222414      NaN  4.5626  \n",
       "6064972           0.193664      NaN  4.5545  \n",
       "2701100           0.291590      NaN  4.5497  \n",
       "4659062           0.339656      NaN  4.5476  \n",
       "4881640           0.299794      NaN  4.5439  \n",
       "5316127           0.166308      NaN  4.5377  "
      ]
     },
     "metadata": {},
     "output_type": "display_data"
    }
   ],
   "source": [
    "display(full_catalog_df.loc[filt_new_rAGN_p * filter_high_z, cols_4_table].sort_values(by=['pred_Z'], ascending=False).head(15))"
   ]
  },
  {
   "cell_type": "code",
   "execution_count": 81,
   "metadata": {},
   "outputs": [
    {
     "data": {
      "text/html": [
       "<div>\n",
       "<style scoped>\n",
       "    .dataframe tbody tr th:only-of-type {\n",
       "        vertical-align: middle;\n",
       "    }\n",
       "\n",
       "    .dataframe tbody tr th {\n",
       "        vertical-align: top;\n",
       "    }\n",
       "\n",
       "    .dataframe thead th {\n",
       "        text-align: right;\n",
       "    }\n",
       "</style>\n",
       "<table border=\"1\" class=\"dataframe\">\n",
       "  <thead>\n",
       "    <tr style=\"text-align: right;\">\n",
       "      <th></th>\n",
       "      <th>Name</th>\n",
       "      <th>RA_ICRS</th>\n",
       "      <th>DE_ICRS</th>\n",
       "      <th>TYPE</th>\n",
       "      <th>band_num</th>\n",
       "      <th>class</th>\n",
       "      <th>pred_class</th>\n",
       "      <th>Score_AGN</th>\n",
       "      <th>radio_detect</th>\n",
       "      <th>pred_radio</th>\n",
       "      <th>scaled_score_radio</th>\n",
       "      <th>scaled_score_rAGN</th>\n",
       "      <th>Z</th>\n",
       "      <th>pred_Z</th>\n",
       "    </tr>\n",
       "  </thead>\n",
       "  <tbody>\n",
       "    <tr>\n",
       "      <th>4846431</th>\n",
       "      <td>J131536.58+485629.1</td>\n",
       "      <td>198.902420</td>\n",
       "      <td>48.941429</td>\n",
       "      <td>QR</td>\n",
       "      <td>11</td>\n",
       "      <td>1.0</td>\n",
       "      <td>1</td>\n",
       "      <td>0.937819</td>\n",
       "      <td>1</td>\n",
       "      <td>1</td>\n",
       "      <td>0.982159</td>\n",
       "      <td>0.921087</td>\n",
       "      <td>3.612</td>\n",
       "      <td>3.9476</td>\n",
       "    </tr>\n",
       "    <tr>\n",
       "      <th>4857795</th>\n",
       "      <td>J111034.69+480037.1</td>\n",
       "      <td>167.644547</td>\n",
       "      <td>48.010307</td>\n",
       "      <td>Q</td>\n",
       "      <td>11</td>\n",
       "      <td>1.0</td>\n",
       "      <td>1</td>\n",
       "      <td>0.934556</td>\n",
       "      <td>0</td>\n",
       "      <td>0</td>\n",
       "      <td>0.123996</td>\n",
       "      <td>0.115882</td>\n",
       "      <td>3.935</td>\n",
       "      <td>3.9499</td>\n",
       "    </tr>\n",
       "    <tr>\n",
       "      <th>4883968</th>\n",
       "      <td>J143832.30+481815.4</td>\n",
       "      <td>219.634567</td>\n",
       "      <td>48.304298</td>\n",
       "      <td>Q</td>\n",
       "      <td>11</td>\n",
       "      <td>1.0</td>\n",
       "      <td>1</td>\n",
       "      <td>0.924758</td>\n",
       "      <td>0</td>\n",
       "      <td>0</td>\n",
       "      <td>0.168153</td>\n",
       "      <td>0.155501</td>\n",
       "      <td>3.838</td>\n",
       "      <td>3.9476</td>\n",
       "    </tr>\n",
       "    <tr>\n",
       "      <th>4836334</th>\n",
       "      <td>J134515.76+514242.3</td>\n",
       "      <td>206.315628</td>\n",
       "      <td>51.711754</td>\n",
       "      <td>Q</td>\n",
       "      <td>11</td>\n",
       "      <td>1.0</td>\n",
       "      <td>1</td>\n",
       "      <td>0.923174</td>\n",
       "      <td>1</td>\n",
       "      <td>1</td>\n",
       "      <td>0.982159</td>\n",
       "      <td>0.906704</td>\n",
       "      <td>3.632</td>\n",
       "      <td>3.9476</td>\n",
       "    </tr>\n",
       "    <tr>\n",
       "      <th>4828228</th>\n",
       "      <td>J112126.53+464239.9</td>\n",
       "      <td>170.360550</td>\n",
       "      <td>46.711098</td>\n",
       "      <td>Q</td>\n",
       "      <td>11</td>\n",
       "      <td>1.0</td>\n",
       "      <td>1</td>\n",
       "      <td>0.922938</td>\n",
       "      <td>0</td>\n",
       "      <td>0</td>\n",
       "      <td>0.200268</td>\n",
       "      <td>0.184835</td>\n",
       "      <td>3.603</td>\n",
       "      <td>3.9476</td>\n",
       "    </tr>\n",
       "    <tr>\n",
       "      <th>5442941</th>\n",
       "      <td>J133315.47+561039.1</td>\n",
       "      <td>203.314484</td>\n",
       "      <td>56.177525</td>\n",
       "      <td></td>\n",
       "      <td>10</td>\n",
       "      <td>0.0</td>\n",
       "      <td>1</td>\n",
       "      <td>0.916653</td>\n",
       "      <td>0</td>\n",
       "      <td>0</td>\n",
       "      <td>0.028992</td>\n",
       "      <td>0.026576</td>\n",
       "      <td>NaN</td>\n",
       "      <td>3.9483</td>\n",
       "    </tr>\n",
       "    <tr>\n",
       "      <th>6462493</th>\n",
       "      <td>J131914.21+520200.0</td>\n",
       "      <td>199.809189</td>\n",
       "      <td>52.033337</td>\n",
       "      <td>QX</td>\n",
       "      <td>14</td>\n",
       "      <td>1.0</td>\n",
       "      <td>1</td>\n",
       "      <td>0.912135</td>\n",
       "      <td>1</td>\n",
       "      <td>1</td>\n",
       "      <td>0.603479</td>\n",
       "      <td>0.550455</td>\n",
       "      <td>3.910</td>\n",
       "      <td>3.9492</td>\n",
       "    </tr>\n",
       "    <tr>\n",
       "      <th>517011</th>\n",
       "      <td>J120214.91+475400.7</td>\n",
       "      <td>180.562088</td>\n",
       "      <td>47.900188</td>\n",
       "      <td></td>\n",
       "      <td>10</td>\n",
       "      <td>0.0</td>\n",
       "      <td>1</td>\n",
       "      <td>0.905748</td>\n",
       "      <td>0</td>\n",
       "      <td>0</td>\n",
       "      <td>0.000000</td>\n",
       "      <td>0.000000</td>\n",
       "      <td>NaN</td>\n",
       "      <td>3.9483</td>\n",
       "    </tr>\n",
       "    <tr>\n",
       "      <th>4844445</th>\n",
       "      <td>J134128.42+471944.8</td>\n",
       "      <td>205.368423</td>\n",
       "      <td>47.329128</td>\n",
       "      <td>Q</td>\n",
       "      <td>7</td>\n",
       "      <td>1.0</td>\n",
       "      <td>1</td>\n",
       "      <td>0.905629</td>\n",
       "      <td>0</td>\n",
       "      <td>0</td>\n",
       "      <td>0.194469</td>\n",
       "      <td>0.176117</td>\n",
       "      <td>3.695</td>\n",
       "      <td>3.9483</td>\n",
       "    </tr>\n",
       "    <tr>\n",
       "      <th>6181967</th>\n",
       "      <td>J114751.85+501056.6</td>\n",
       "      <td>176.966049</td>\n",
       "      <td>50.182419</td>\n",
       "      <td></td>\n",
       "      <td>10</td>\n",
       "      <td>0.0</td>\n",
       "      <td>1</td>\n",
       "      <td>0.896568</td>\n",
       "      <td>0</td>\n",
       "      <td>0</td>\n",
       "      <td>0.032114</td>\n",
       "      <td>0.028793</td>\n",
       "      <td>NaN</td>\n",
       "      <td>3.9483</td>\n",
       "    </tr>\n",
       "    <tr>\n",
       "      <th>4317796</th>\n",
       "      <td>J113649.18+474314.8</td>\n",
       "      <td>174.204926</td>\n",
       "      <td>47.720783</td>\n",
       "      <td></td>\n",
       "      <td>10</td>\n",
       "      <td>0.0</td>\n",
       "      <td>1</td>\n",
       "      <td>0.895798</td>\n",
       "      <td>0</td>\n",
       "      <td>0</td>\n",
       "      <td>0.000000</td>\n",
       "      <td>0.000000</td>\n",
       "      <td>NaN</td>\n",
       "      <td>3.9483</td>\n",
       "    </tr>\n",
       "    <tr>\n",
       "      <th>4280652</th>\n",
       "      <td>J152309.97+522958.7</td>\n",
       "      <td>230.791565</td>\n",
       "      <td>52.499641</td>\n",
       "      <td></td>\n",
       "      <td>10</td>\n",
       "      <td>0.0</td>\n",
       "      <td>1</td>\n",
       "      <td>0.895146</td>\n",
       "      <td>0</td>\n",
       "      <td>0</td>\n",
       "      <td>0.123104</td>\n",
       "      <td>0.110196</td>\n",
       "      <td>NaN</td>\n",
       "      <td>3.9483</td>\n",
       "    </tr>\n",
       "    <tr>\n",
       "      <th>4880210</th>\n",
       "      <td>J135230.51+531108.5</td>\n",
       "      <td>208.127121</td>\n",
       "      <td>53.185715</td>\n",
       "      <td>Q</td>\n",
       "      <td>11</td>\n",
       "      <td>1.0</td>\n",
       "      <td>1</td>\n",
       "      <td>0.892433</td>\n",
       "      <td>1</td>\n",
       "      <td>1</td>\n",
       "      <td>0.982159</td>\n",
       "      <td>0.876511</td>\n",
       "      <td>4.223</td>\n",
       "      <td>3.9508</td>\n",
       "    </tr>\n",
       "    <tr>\n",
       "      <th>4907909</th>\n",
       "      <td>J114455.74+543550.8</td>\n",
       "      <td>176.232254</td>\n",
       "      <td>54.597424</td>\n",
       "      <td>Q</td>\n",
       "      <td>10</td>\n",
       "      <td>1.0</td>\n",
       "      <td>1</td>\n",
       "      <td>0.888837</td>\n",
       "      <td>0</td>\n",
       "      <td>0</td>\n",
       "      <td>0.005352</td>\n",
       "      <td>0.004757</td>\n",
       "      <td>3.638</td>\n",
       "      <td>3.9483</td>\n",
       "    </tr>\n",
       "    <tr>\n",
       "      <th>4828367</th>\n",
       "      <td>J143826.96+460655.1</td>\n",
       "      <td>219.612335</td>\n",
       "      <td>46.115314</td>\n",
       "      <td>Q</td>\n",
       "      <td>11</td>\n",
       "      <td>1.0</td>\n",
       "      <td>1</td>\n",
       "      <td>0.886797</td>\n",
       "      <td>0</td>\n",
       "      <td>0</td>\n",
       "      <td>0.000000</td>\n",
       "      <td>0.000000</td>\n",
       "      <td>3.851</td>\n",
       "      <td>3.9487</td>\n",
       "    </tr>\n",
       "  </tbody>\n",
       "</table>\n",
       "</div>"
      ],
      "text/plain": [
       "                         Name     RA_ICRS    DE_ICRS  TYPE  band_num  class  \\\n",
       "4846431  J131536.58+485629.1   198.902420  48.941429  QR          11    1.0   \n",
       "4857795  J111034.69+480037.1   167.644547  48.010307  Q           11    1.0   \n",
       "4883968  J143832.30+481815.4   219.634567  48.304298  Q           11    1.0   \n",
       "4836334  J134515.76+514242.3   206.315628  51.711754  Q           11    1.0   \n",
       "4828228  J112126.53+464239.9   170.360550  46.711098  Q           11    1.0   \n",
       "5442941  J133315.47+561039.1   203.314484  56.177525              10    0.0   \n",
       "6462493  J131914.21+520200.0   199.809189  52.033337  QX          14    1.0   \n",
       "517011   J120214.91+475400.7   180.562088  47.900188              10    0.0   \n",
       "4844445  J134128.42+471944.8   205.368423  47.329128  Q            7    1.0   \n",
       "6181967  J114751.85+501056.6   176.966049  50.182419              10    0.0   \n",
       "4317796  J113649.18+474314.8   174.204926  47.720783              10    0.0   \n",
       "4280652  J152309.97+522958.7   230.791565  52.499641              10    0.0   \n",
       "4880210  J135230.51+531108.5   208.127121  53.185715  Q           11    1.0   \n",
       "4907909  J114455.74+543550.8   176.232254  54.597424  Q           10    1.0   \n",
       "4828367  J143826.96+460655.1   219.612335  46.115314  Q           11    1.0   \n",
       "\n",
       "         pred_class  Score_AGN  radio_detect  pred_radio  scaled_score_radio  \\\n",
       "4846431           1   0.937819             1           1            0.982159   \n",
       "4857795           1   0.934556             0           0            0.123996   \n",
       "4883968           1   0.924758             0           0            0.168153   \n",
       "4836334           1   0.923174             1           1            0.982159   \n",
       "4828228           1   0.922938             0           0            0.200268   \n",
       "5442941           1   0.916653             0           0            0.028992   \n",
       "6462493           1   0.912135             1           1            0.603479   \n",
       "517011            1   0.905748             0           0            0.000000   \n",
       "4844445           1   0.905629             0           0            0.194469   \n",
       "6181967           1   0.896568             0           0            0.032114   \n",
       "4317796           1   0.895798             0           0            0.000000   \n",
       "4280652           1   0.895146             0           0            0.123104   \n",
       "4880210           1   0.892433             1           1            0.982159   \n",
       "4907909           1   0.888837             0           0            0.005352   \n",
       "4828367           1   0.886797             0           0            0.000000   \n",
       "\n",
       "         scaled_score_rAGN      Z  pred_Z  \n",
       "4846431           0.921087  3.612  3.9476  \n",
       "4857795           0.115882  3.935  3.9499  \n",
       "4883968           0.155501  3.838  3.9476  \n",
       "4836334           0.906704  3.632  3.9476  \n",
       "4828228           0.184835  3.603  3.9476  \n",
       "5442941           0.026576    NaN  3.9483  \n",
       "6462493           0.550455  3.910  3.9492  \n",
       "517011            0.000000    NaN  3.9483  \n",
       "4844445           0.176117  3.695  3.9483  \n",
       "6181967           0.028793    NaN  3.9483  \n",
       "4317796           0.000000    NaN  3.9483  \n",
       "4280652           0.110196    NaN  3.9483  \n",
       "4880210           0.876511  4.223  3.9508  \n",
       "4907909           0.004757  3.638  3.9483  \n",
       "4828367           0.000000  3.851  3.9487  "
      ]
     },
     "metadata": {},
     "output_type": "display_data"
    }
   ],
   "source": [
    "display(full_catalog_df.loc[~filt_new_rAGN_p * filter_high_z, cols_4_table].sort_values(by=['Score_AGN', 'pred_Z'], ascending=False).head(15))"
   ]
  },
  {
   "cell_type": "code",
   "execution_count": 82,
   "metadata": {},
   "outputs": [
    {
     "data": {
      "text/html": [
       "<div>\n",
       "<style scoped>\n",
       "    .dataframe tbody tr th:only-of-type {\n",
       "        vertical-align: middle;\n",
       "    }\n",
       "\n",
       "    .dataframe tbody tr th {\n",
       "        vertical-align: top;\n",
       "    }\n",
       "\n",
       "    .dataframe thead th {\n",
       "        text-align: right;\n",
       "    }\n",
       "</style>\n",
       "<table border=\"1\" class=\"dataframe\">\n",
       "  <thead>\n",
       "    <tr style=\"text-align: right;\">\n",
       "      <th></th>\n",
       "      <th>Name</th>\n",
       "      <th>RA_ICRS</th>\n",
       "      <th>DE_ICRS</th>\n",
       "      <th>TYPE</th>\n",
       "      <th>band_num</th>\n",
       "      <th>class</th>\n",
       "      <th>pred_class</th>\n",
       "      <th>Score_AGN</th>\n",
       "      <th>radio_detect</th>\n",
       "      <th>pred_radio</th>\n",
       "      <th>scaled_score_radio</th>\n",
       "      <th>scaled_score_rAGN</th>\n",
       "      <th>Z</th>\n",
       "      <th>pred_Z</th>\n",
       "    </tr>\n",
       "  </thead>\n",
       "  <tbody>\n",
       "    <tr>\n",
       "      <th>4777641</th>\n",
       "      <td>J115926.29+494724.9</td>\n",
       "      <td>179.859512</td>\n",
       "      <td>49.790253</td>\n",
       "      <td></td>\n",
       "      <td>5</td>\n",
       "      <td>0.0</td>\n",
       "      <td>1</td>\n",
       "      <td>0.321864</td>\n",
       "      <td>0</td>\n",
       "      <td>1</td>\n",
       "      <td>0.978591</td>\n",
       "      <td>0.314973</td>\n",
       "      <td>NaN</td>\n",
       "      <td>4.3771</td>\n",
       "    </tr>\n",
       "    <tr>\n",
       "      <th>4408175</th>\n",
       "      <td>J140430.32+554701.5</td>\n",
       "      <td>211.126343</td>\n",
       "      <td>55.783752</td>\n",
       "      <td></td>\n",
       "      <td>9</td>\n",
       "      <td>0.0</td>\n",
       "      <td>1</td>\n",
       "      <td>0.396047</td>\n",
       "      <td>0</td>\n",
       "      <td>1</td>\n",
       "      <td>0.723015</td>\n",
       "      <td>0.286348</td>\n",
       "      <td>NaN</td>\n",
       "      <td>4.1123</td>\n",
       "    </tr>\n",
       "    <tr>\n",
       "      <th>5424307</th>\n",
       "      <td>J121440.01+562141.9</td>\n",
       "      <td>183.666702</td>\n",
       "      <td>56.361645</td>\n",
       "      <td></td>\n",
       "      <td>9</td>\n",
       "      <td>0.0</td>\n",
       "      <td>1</td>\n",
       "      <td>0.401928</td>\n",
       "      <td>0</td>\n",
       "      <td>1</td>\n",
       "      <td>0.643622</td>\n",
       "      <td>0.258690</td>\n",
       "      <td>NaN</td>\n",
       "      <td>4.2659</td>\n",
       "    </tr>\n",
       "    <tr>\n",
       "      <th>6209521</th>\n",
       "      <td>J132429.00+492502.3</td>\n",
       "      <td>201.120850</td>\n",
       "      <td>49.417309</td>\n",
       "      <td></td>\n",
       "      <td>9</td>\n",
       "      <td>0.0</td>\n",
       "      <td>1</td>\n",
       "      <td>0.318131</td>\n",
       "      <td>0</td>\n",
       "      <td>1</td>\n",
       "      <td>0.643622</td>\n",
       "      <td>0.204756</td>\n",
       "      <td>NaN</td>\n",
       "      <td>4.1630</td>\n",
       "    </tr>\n",
       "    <tr>\n",
       "      <th>2148849</th>\n",
       "      <td>J134244.22+563139.9</td>\n",
       "      <td>205.684235</td>\n",
       "      <td>56.527760</td>\n",
       "      <td></td>\n",
       "      <td>9</td>\n",
       "      <td>0.0</td>\n",
       "      <td>1</td>\n",
       "      <td>0.372376</td>\n",
       "      <td>0</td>\n",
       "      <td>1</td>\n",
       "      <td>0.643622</td>\n",
       "      <td>0.239670</td>\n",
       "      <td>NaN</td>\n",
       "      <td>4.1612</td>\n",
       "    </tr>\n",
       "    <tr>\n",
       "      <th>4796842</th>\n",
       "      <td>J121254.72+531015.2</td>\n",
       "      <td>183.227982</td>\n",
       "      <td>53.170898</td>\n",
       "      <td></td>\n",
       "      <td>9</td>\n",
       "      <td>0.0</td>\n",
       "      <td>1</td>\n",
       "      <td>0.404561</td>\n",
       "      <td>0</td>\n",
       "      <td>1</td>\n",
       "      <td>0.643622</td>\n",
       "      <td>0.260384</td>\n",
       "      <td>NaN</td>\n",
       "      <td>4.1577</td>\n",
       "    </tr>\n",
       "    <tr>\n",
       "      <th>4660577</th>\n",
       "      <td>J135158.23+553546.4</td>\n",
       "      <td>207.992615</td>\n",
       "      <td>55.596245</td>\n",
       "      <td></td>\n",
       "      <td>9</td>\n",
       "      <td>0.0</td>\n",
       "      <td>1</td>\n",
       "      <td>0.421542</td>\n",
       "      <td>0</td>\n",
       "      <td>1</td>\n",
       "      <td>0.643622</td>\n",
       "      <td>0.271314</td>\n",
       "      <td>NaN</td>\n",
       "      <td>4.1555</td>\n",
       "    </tr>\n",
       "    <tr>\n",
       "      <th>5344480</th>\n",
       "      <td>J122235.64+551915.7</td>\n",
       "      <td>185.648529</td>\n",
       "      <td>55.321030</td>\n",
       "      <td></td>\n",
       "      <td>9</td>\n",
       "      <td>0.0</td>\n",
       "      <td>1</td>\n",
       "      <td>0.395647</td>\n",
       "      <td>0</td>\n",
       "      <td>1</td>\n",
       "      <td>0.643622</td>\n",
       "      <td>0.254647</td>\n",
       "      <td>NaN</td>\n",
       "      <td>4.1542</td>\n",
       "    </tr>\n",
       "    <tr>\n",
       "      <th>4166212</th>\n",
       "      <td>J135941.42+551630.5</td>\n",
       "      <td>209.922592</td>\n",
       "      <td>55.275143</td>\n",
       "      <td></td>\n",
       "      <td>9</td>\n",
       "      <td>0.0</td>\n",
       "      <td>1</td>\n",
       "      <td>0.358409</td>\n",
       "      <td>0</td>\n",
       "      <td>1</td>\n",
       "      <td>0.643622</td>\n",
       "      <td>0.230680</td>\n",
       "      <td>NaN</td>\n",
       "      <td>4.1116</td>\n",
       "    </tr>\n",
       "    <tr>\n",
       "      <th>4695746</th>\n",
       "      <td>J140100.68+534618.5</td>\n",
       "      <td>210.252823</td>\n",
       "      <td>53.771797</td>\n",
       "      <td></td>\n",
       "      <td>9</td>\n",
       "      <td>0.0</td>\n",
       "      <td>1</td>\n",
       "      <td>0.422970</td>\n",
       "      <td>0</td>\n",
       "      <td>1</td>\n",
       "      <td>0.643622</td>\n",
       "      <td>0.272233</td>\n",
       "      <td>NaN</td>\n",
       "      <td>4.1113</td>\n",
       "    </tr>\n",
       "    <tr>\n",
       "      <th>6131126</th>\n",
       "      <td>J142153.38+480539.0</td>\n",
       "      <td>215.472397</td>\n",
       "      <td>48.094193</td>\n",
       "      <td></td>\n",
       "      <td>9</td>\n",
       "      <td>0.0</td>\n",
       "      <td>1</td>\n",
       "      <td>0.419374</td>\n",
       "      <td>0</td>\n",
       "      <td>1</td>\n",
       "      <td>0.643622</td>\n",
       "      <td>0.269918</td>\n",
       "      <td>NaN</td>\n",
       "      <td>3.9602</td>\n",
       "    </tr>\n",
       "    <tr>\n",
       "      <th>5476356</th>\n",
       "      <td>J110945.11+502427.1</td>\n",
       "      <td>167.437958</td>\n",
       "      <td>50.407532</td>\n",
       "      <td></td>\n",
       "      <td>9</td>\n",
       "      <td>0.0</td>\n",
       "      <td>1</td>\n",
       "      <td>0.330912</td>\n",
       "      <td>0</td>\n",
       "      <td>1</td>\n",
       "      <td>0.643176</td>\n",
       "      <td>0.212834</td>\n",
       "      <td>NaN</td>\n",
       "      <td>4.1853</td>\n",
       "    </tr>\n",
       "    <tr>\n",
       "      <th>2715212</th>\n",
       "      <td>J145609.98+504738.8</td>\n",
       "      <td>224.041580</td>\n",
       "      <td>50.794125</td>\n",
       "      <td></td>\n",
       "      <td>9</td>\n",
       "      <td>0.0</td>\n",
       "      <td>1</td>\n",
       "      <td>0.451759</td>\n",
       "      <td>0</td>\n",
       "      <td>1</td>\n",
       "      <td>0.643176</td>\n",
       "      <td>0.290560</td>\n",
       "      <td>NaN</td>\n",
       "      <td>4.1271</td>\n",
       "    </tr>\n",
       "    <tr>\n",
       "      <th>1147221</th>\n",
       "      <td>J135855.05+484443.3</td>\n",
       "      <td>209.729355</td>\n",
       "      <td>48.745369</td>\n",
       "      <td></td>\n",
       "      <td>9</td>\n",
       "      <td>0.0</td>\n",
       "      <td>1</td>\n",
       "      <td>0.376036</td>\n",
       "      <td>0</td>\n",
       "      <td>1</td>\n",
       "      <td>0.642730</td>\n",
       "      <td>0.241689</td>\n",
       "      <td>NaN</td>\n",
       "      <td>4.1341</td>\n",
       "    </tr>\n",
       "    <tr>\n",
       "      <th>5328495</th>\n",
       "      <td>J134937.67+464919.4</td>\n",
       "      <td>207.406982</td>\n",
       "      <td>46.822071</td>\n",
       "      <td></td>\n",
       "      <td>9</td>\n",
       "      <td>0.0</td>\n",
       "      <td>1</td>\n",
       "      <td>0.452353</td>\n",
       "      <td>0</td>\n",
       "      <td>1</td>\n",
       "      <td>0.642730</td>\n",
       "      <td>0.290740</td>\n",
       "      <td>NaN</td>\n",
       "      <td>4.0092</td>\n",
       "    </tr>\n",
       "  </tbody>\n",
       "</table>\n",
       "</div>"
      ],
      "text/plain": [
       "                         Name     RA_ICRS    DE_ICRS  TYPE  band_num  class  \\\n",
       "4777641  J115926.29+494724.9   179.859512  49.790253               5    0.0   \n",
       "4408175  J140430.32+554701.5   211.126343  55.783752               9    0.0   \n",
       "5424307  J121440.01+562141.9   183.666702  56.361645               9    0.0   \n",
       "6209521  J132429.00+492502.3   201.120850  49.417309               9    0.0   \n",
       "2148849  J134244.22+563139.9   205.684235  56.527760               9    0.0   \n",
       "4796842  J121254.72+531015.2   183.227982  53.170898               9    0.0   \n",
       "4660577  J135158.23+553546.4   207.992615  55.596245               9    0.0   \n",
       "5344480  J122235.64+551915.7   185.648529  55.321030               9    0.0   \n",
       "4166212  J135941.42+551630.5   209.922592  55.275143               9    0.0   \n",
       "4695746  J140100.68+534618.5   210.252823  53.771797               9    0.0   \n",
       "6131126  J142153.38+480539.0   215.472397  48.094193               9    0.0   \n",
       "5476356  J110945.11+502427.1   167.437958  50.407532               9    0.0   \n",
       "2715212  J145609.98+504738.8   224.041580  50.794125               9    0.0   \n",
       "1147221  J135855.05+484443.3   209.729355  48.745369               9    0.0   \n",
       "5328495  J134937.67+464919.4   207.406982  46.822071               9    0.0   \n",
       "\n",
       "         pred_class  Score_AGN  radio_detect  pred_radio  scaled_score_radio  \\\n",
       "4777641           1   0.321864             0           1            0.978591   \n",
       "4408175           1   0.396047             0           1            0.723015   \n",
       "5424307           1   0.401928             0           1            0.643622   \n",
       "6209521           1   0.318131             0           1            0.643622   \n",
       "2148849           1   0.372376             0           1            0.643622   \n",
       "4796842           1   0.404561             0           1            0.643622   \n",
       "4660577           1   0.421542             0           1            0.643622   \n",
       "5344480           1   0.395647             0           1            0.643622   \n",
       "4166212           1   0.358409             0           1            0.643622   \n",
       "4695746           1   0.422970             0           1            0.643622   \n",
       "6131126           1   0.419374             0           1            0.643622   \n",
       "5476356           1   0.330912             0           1            0.643176   \n",
       "2715212           1   0.451759             0           1            0.643176   \n",
       "1147221           1   0.376036             0           1            0.642730   \n",
       "5328495           1   0.452353             0           1            0.642730   \n",
       "\n",
       "         scaled_score_rAGN   Z  pred_Z  \n",
       "4777641           0.314973 NaN  4.3771  \n",
       "4408175           0.286348 NaN  4.1123  \n",
       "5424307           0.258690 NaN  4.2659  \n",
       "6209521           0.204756 NaN  4.1630  \n",
       "2148849           0.239670 NaN  4.1612  \n",
       "4796842           0.260384 NaN  4.1577  \n",
       "4660577           0.271314 NaN  4.1555  \n",
       "5344480           0.254647 NaN  4.1542  \n",
       "4166212           0.230680 NaN  4.1116  \n",
       "4695746           0.272233 NaN  4.1113  \n",
       "6131126           0.269918 NaN  3.9602  \n",
       "5476356           0.212834 NaN  4.1853  \n",
       "2715212           0.290560 NaN  4.1271  \n",
       "1147221           0.241689 NaN  4.1341  \n",
       "5328495           0.290740 NaN  4.0092  "
      ]
     },
     "metadata": {},
     "output_type": "display_data"
    }
   ],
   "source": [
    "display(full_catalog_df.loc[filt_new_rAGN_p * filter_high_z, cols_4_table].sort_values(by=['scaled_score_radio', 'pred_Z'], ascending=False).head(15))"
   ]
  },
  {
   "cell_type": "code",
   "execution_count": 83,
   "metadata": {},
   "outputs": [
    {
     "data": {
      "text/html": [
       "<div>\n",
       "<style scoped>\n",
       "    .dataframe tbody tr th:only-of-type {\n",
       "        vertical-align: middle;\n",
       "    }\n",
       "\n",
       "    .dataframe tbody tr th {\n",
       "        vertical-align: top;\n",
       "    }\n",
       "\n",
       "    .dataframe thead th {\n",
       "        text-align: right;\n",
       "    }\n",
       "</style>\n",
       "<table border=\"1\" class=\"dataframe\">\n",
       "  <thead>\n",
       "    <tr style=\"text-align: right;\">\n",
       "      <th></th>\n",
       "      <th>Name</th>\n",
       "      <th>RA_ICRS</th>\n",
       "      <th>DE_ICRS</th>\n",
       "      <th>TYPE</th>\n",
       "      <th>band_num</th>\n",
       "      <th>class</th>\n",
       "      <th>pred_class</th>\n",
       "      <th>Score_AGN</th>\n",
       "      <th>radio_detect</th>\n",
       "      <th>pred_radio</th>\n",
       "      <th>scaled_score_radio</th>\n",
       "      <th>scaled_score_rAGN</th>\n",
       "      <th>Z</th>\n",
       "      <th>pred_Z</th>\n",
       "    </tr>\n",
       "  </thead>\n",
       "  <tbody>\n",
       "    <tr>\n",
       "      <th>6338787</th>\n",
       "      <td>J145439.57+470741.9</td>\n",
       "      <td>223.664886</td>\n",
       "      <td>47.128338</td>\n",
       "      <td></td>\n",
       "      <td>11</td>\n",
       "      <td>0.0</td>\n",
       "      <td>1</td>\n",
       "      <td>0.899541</td>\n",
       "      <td>0</td>\n",
       "      <td>1</td>\n",
       "      <td>0.599465</td>\n",
       "      <td>0.539243</td>\n",
       "      <td>NaN</td>\n",
       "      <td>3.9476</td>\n",
       "    </tr>\n",
       "    <tr>\n",
       "      <th>5081683</th>\n",
       "      <td>J143034.63+461135.1</td>\n",
       "      <td>217.644302</td>\n",
       "      <td>46.193085</td>\n",
       "      <td></td>\n",
       "      <td>11</td>\n",
       "      <td>0.0</td>\n",
       "      <td>1</td>\n",
       "      <td>0.787798</td>\n",
       "      <td>0</td>\n",
       "      <td>1</td>\n",
       "      <td>0.579839</td>\n",
       "      <td>0.456796</td>\n",
       "      <td>NaN</td>\n",
       "      <td>3.9533</td>\n",
       "    </tr>\n",
       "    <tr>\n",
       "      <th>6703452</th>\n",
       "      <td>J114507.43+523926.1</td>\n",
       "      <td>176.280945</td>\n",
       "      <td>52.657242</td>\n",
       "      <td></td>\n",
       "      <td>10</td>\n",
       "      <td>0.0</td>\n",
       "      <td>1</td>\n",
       "      <td>0.671410</td>\n",
       "      <td>0</td>\n",
       "      <td>1</td>\n",
       "      <td>0.593220</td>\n",
       "      <td>0.398294</td>\n",
       "      <td>NaN</td>\n",
       "      <td>3.9502</td>\n",
       "    </tr>\n",
       "    <tr>\n",
       "      <th>6386282</th>\n",
       "      <td>J145559.41+482013.0</td>\n",
       "      <td>223.997559</td>\n",
       "      <td>48.336948</td>\n",
       "      <td></td>\n",
       "      <td>9</td>\n",
       "      <td>0.0</td>\n",
       "      <td>1</td>\n",
       "      <td>0.582851</td>\n",
       "      <td>0</td>\n",
       "      <td>1</td>\n",
       "      <td>0.642284</td>\n",
       "      <td>0.374356</td>\n",
       "      <td>NaN</td>\n",
       "      <td>3.9585</td>\n",
       "    </tr>\n",
       "    <tr>\n",
       "      <th>4456097</th>\n",
       "      <td>J122755.33+534435.5</td>\n",
       "      <td>186.980560</td>\n",
       "      <td>53.743206</td>\n",
       "      <td></td>\n",
       "      <td>9</td>\n",
       "      <td>0.0</td>\n",
       "      <td>1</td>\n",
       "      <td>0.627278</td>\n",
       "      <td>0</td>\n",
       "      <td>1</td>\n",
       "      <td>0.592328</td>\n",
       "      <td>0.371555</td>\n",
       "      <td>NaN</td>\n",
       "      <td>3.9656</td>\n",
       "    </tr>\n",
       "    <tr>\n",
       "      <th>5113415</th>\n",
       "      <td>J121251.43+553451.6</td>\n",
       "      <td>183.214279</td>\n",
       "      <td>55.581013</td>\n",
       "      <td></td>\n",
       "      <td>9</td>\n",
       "      <td>0.0</td>\n",
       "      <td>1</td>\n",
       "      <td>0.578618</td>\n",
       "      <td>0</td>\n",
       "      <td>1</td>\n",
       "      <td>0.592774</td>\n",
       "      <td>0.342990</td>\n",
       "      <td>NaN</td>\n",
       "      <td>3.9520</td>\n",
       "    </tr>\n",
       "    <tr>\n",
       "      <th>4659062</th>\n",
       "      <td>J120151.90+522204.8</td>\n",
       "      <td>180.466263</td>\n",
       "      <td>52.368000</td>\n",
       "      <td></td>\n",
       "      <td>9</td>\n",
       "      <td>0.0</td>\n",
       "      <td>1</td>\n",
       "      <td>0.576901</td>\n",
       "      <td>0</td>\n",
       "      <td>1</td>\n",
       "      <td>0.588760</td>\n",
       "      <td>0.339656</td>\n",
       "      <td>NaN</td>\n",
       "      <td>4.5476</td>\n",
       "    </tr>\n",
       "    <tr>\n",
       "      <th>4876165</th>\n",
       "      <td>J145329.04+482206.0</td>\n",
       "      <td>223.371002</td>\n",
       "      <td>48.368351</td>\n",
       "      <td>Q</td>\n",
       "      <td>11</td>\n",
       "      <td>1.0</td>\n",
       "      <td>1</td>\n",
       "      <td>0.677400</td>\n",
       "      <td>0</td>\n",
       "      <td>1</td>\n",
       "      <td>0.491079</td>\n",
       "      <td>0.332657</td>\n",
       "      <td>3.445</td>\n",
       "      <td>3.9755</td>\n",
       "    </tr>\n",
       "    <tr>\n",
       "      <th>1219164</th>\n",
       "      <td>J125055.55+541641.9</td>\n",
       "      <td>192.731430</td>\n",
       "      <td>54.278309</td>\n",
       "      <td></td>\n",
       "      <td>10</td>\n",
       "      <td>0.0</td>\n",
       "      <td>1</td>\n",
       "      <td>0.545511</td>\n",
       "      <td>0</td>\n",
       "      <td>1</td>\n",
       "      <td>0.599465</td>\n",
       "      <td>0.327015</td>\n",
       "      <td>NaN</td>\n",
       "      <td>4.3976</td>\n",
       "    </tr>\n",
       "    <tr>\n",
       "      <th>5742283</th>\n",
       "      <td>J133534.91+505129.6</td>\n",
       "      <td>203.895477</td>\n",
       "      <td>50.858227</td>\n",
       "      <td></td>\n",
       "      <td>9</td>\n",
       "      <td>0.0</td>\n",
       "      <td>1</td>\n",
       "      <td>0.506723</td>\n",
       "      <td>0</td>\n",
       "      <td>1</td>\n",
       "      <td>0.637823</td>\n",
       "      <td>0.323200</td>\n",
       "      <td>NaN</td>\n",
       "      <td>3.9540</td>\n",
       "    </tr>\n",
       "    <tr>\n",
       "      <th>2133837</th>\n",
       "      <td>J141250.01+561438.4</td>\n",
       "      <td>213.208359</td>\n",
       "      <td>56.244007</td>\n",
       "      <td></td>\n",
       "      <td>9</td>\n",
       "      <td>0.0</td>\n",
       "      <td>1</td>\n",
       "      <td>0.713467</td>\n",
       "      <td>0</td>\n",
       "      <td>1</td>\n",
       "      <td>0.446030</td>\n",
       "      <td>0.318228</td>\n",
       "      <td>NaN</td>\n",
       "      <td>3.9674</td>\n",
       "    </tr>\n",
       "    <tr>\n",
       "      <th>6050737</th>\n",
       "      <td>J145443.16+542744.2</td>\n",
       "      <td>223.679840</td>\n",
       "      <td>54.462280</td>\n",
       "      <td></td>\n",
       "      <td>10</td>\n",
       "      <td>0.0</td>\n",
       "      <td>1</td>\n",
       "      <td>0.716472</td>\n",
       "      <td>0</td>\n",
       "      <td>1</td>\n",
       "      <td>0.442462</td>\n",
       "      <td>0.317012</td>\n",
       "      <td>NaN</td>\n",
       "      <td>3.9517</td>\n",
       "    </tr>\n",
       "    <tr>\n",
       "      <th>4777641</th>\n",
       "      <td>J115926.29+494724.9</td>\n",
       "      <td>179.859512</td>\n",
       "      <td>49.790253</td>\n",
       "      <td></td>\n",
       "      <td>5</td>\n",
       "      <td>0.0</td>\n",
       "      <td>1</td>\n",
       "      <td>0.321864</td>\n",
       "      <td>0</td>\n",
       "      <td>1</td>\n",
       "      <td>0.978591</td>\n",
       "      <td>0.314973</td>\n",
       "      <td>NaN</td>\n",
       "      <td>4.3771</td>\n",
       "    </tr>\n",
       "    <tr>\n",
       "      <th>380920</th>\n",
       "      <td>J114827.86+522300.3</td>\n",
       "      <td>177.116104</td>\n",
       "      <td>52.383408</td>\n",
       "      <td></td>\n",
       "      <td>9</td>\n",
       "      <td>0.0</td>\n",
       "      <td>1</td>\n",
       "      <td>0.525716</td>\n",
       "      <td>0</td>\n",
       "      <td>1</td>\n",
       "      <td>0.599019</td>\n",
       "      <td>0.314914</td>\n",
       "      <td>NaN</td>\n",
       "      <td>3.9643</td>\n",
       "    </tr>\n",
       "    <tr>\n",
       "      <th>6075918</th>\n",
       "      <td>J144817.89+535712.4</td>\n",
       "      <td>222.074539</td>\n",
       "      <td>53.953449</td>\n",
       "      <td></td>\n",
       "      <td>9</td>\n",
       "      <td>0.0</td>\n",
       "      <td>1</td>\n",
       "      <td>0.522710</td>\n",
       "      <td>0</td>\n",
       "      <td>1</td>\n",
       "      <td>0.598573</td>\n",
       "      <td>0.312880</td>\n",
       "      <td>NaN</td>\n",
       "      <td>3.9532</td>\n",
       "    </tr>\n",
       "  </tbody>\n",
       "</table>\n",
       "</div>"
      ],
      "text/plain": [
       "                         Name     RA_ICRS    DE_ICRS  TYPE  band_num  class  \\\n",
       "6338787  J145439.57+470741.9   223.664886  47.128338              11    0.0   \n",
       "5081683  J143034.63+461135.1   217.644302  46.193085              11    0.0   \n",
       "6703452  J114507.43+523926.1   176.280945  52.657242              10    0.0   \n",
       "6386282  J145559.41+482013.0   223.997559  48.336948               9    0.0   \n",
       "4456097  J122755.33+534435.5   186.980560  53.743206               9    0.0   \n",
       "5113415  J121251.43+553451.6   183.214279  55.581013               9    0.0   \n",
       "4659062  J120151.90+522204.8   180.466263  52.368000               9    0.0   \n",
       "4876165  J145329.04+482206.0   223.371002  48.368351  Q           11    1.0   \n",
       "1219164  J125055.55+541641.9   192.731430  54.278309              10    0.0   \n",
       "5742283  J133534.91+505129.6   203.895477  50.858227               9    0.0   \n",
       "2133837  J141250.01+561438.4   213.208359  56.244007               9    0.0   \n",
       "6050737  J145443.16+542744.2   223.679840  54.462280              10    0.0   \n",
       "4777641  J115926.29+494724.9   179.859512  49.790253               5    0.0   \n",
       "380920   J114827.86+522300.3   177.116104  52.383408               9    0.0   \n",
       "6075918  J144817.89+535712.4   222.074539  53.953449               9    0.0   \n",
       "\n",
       "         pred_class  Score_AGN  radio_detect  pred_radio  scaled_score_radio  \\\n",
       "6338787           1   0.899541             0           1            0.599465   \n",
       "5081683           1   0.787798             0           1            0.579839   \n",
       "6703452           1   0.671410             0           1            0.593220   \n",
       "6386282           1   0.582851             0           1            0.642284   \n",
       "4456097           1   0.627278             0           1            0.592328   \n",
       "5113415           1   0.578618             0           1            0.592774   \n",
       "4659062           1   0.576901             0           1            0.588760   \n",
       "4876165           1   0.677400             0           1            0.491079   \n",
       "1219164           1   0.545511             0           1            0.599465   \n",
       "5742283           1   0.506723             0           1            0.637823   \n",
       "2133837           1   0.713467             0           1            0.446030   \n",
       "6050737           1   0.716472             0           1            0.442462   \n",
       "4777641           1   0.321864             0           1            0.978591   \n",
       "380920            1   0.525716             0           1            0.599019   \n",
       "6075918           1   0.522710             0           1            0.598573   \n",
       "\n",
       "         scaled_score_rAGN      Z  pred_Z  \n",
       "6338787           0.539243    NaN  3.9476  \n",
       "5081683           0.456796    NaN  3.9533  \n",
       "6703452           0.398294    NaN  3.9502  \n",
       "6386282           0.374356    NaN  3.9585  \n",
       "4456097           0.371555    NaN  3.9656  \n",
       "5113415           0.342990    NaN  3.9520  \n",
       "4659062           0.339656    NaN  4.5476  \n",
       "4876165           0.332657  3.445  3.9755  \n",
       "1219164           0.327015    NaN  4.3976  \n",
       "5742283           0.323200    NaN  3.9540  \n",
       "2133837           0.318228    NaN  3.9674  \n",
       "6050737           0.317012    NaN  3.9517  \n",
       "4777641           0.314973    NaN  4.3771  \n",
       "380920            0.314914    NaN  3.9643  \n",
       "6075918           0.312880    NaN  3.9532  "
      ]
     },
     "metadata": {},
     "output_type": "display_data"
    }
   ],
   "source": [
    "display(full_catalog_df.loc[filt_new_rAGN_p * filter_high_z, cols_4_table].sort_values(by=['scaled_score_rAGN', 'pred_Z'], ascending=False).head(15))"
   ]
  },
  {
   "cell_type": "code",
   "execution_count": 84,
   "metadata": {},
   "outputs": [
    {
     "data": {
      "text/html": [
       "<div>\n",
       "<style scoped>\n",
       "    .dataframe tbody tr th:only-of-type {\n",
       "        vertical-align: middle;\n",
       "    }\n",
       "\n",
       "    .dataframe tbody tr th {\n",
       "        vertical-align: top;\n",
       "    }\n",
       "\n",
       "    .dataframe thead th {\n",
       "        text-align: right;\n",
       "    }\n",
       "</style>\n",
       "<table border=\"1\" class=\"dataframe\">\n",
       "  <thead>\n",
       "    <tr style=\"text-align: right;\">\n",
       "      <th></th>\n",
       "      <th>Name</th>\n",
       "      <th>RA_ICRS</th>\n",
       "      <th>DE_ICRS</th>\n",
       "      <th>TYPE</th>\n",
       "      <th>band_num</th>\n",
       "      <th>class</th>\n",
       "      <th>pred_class</th>\n",
       "      <th>Score_AGN</th>\n",
       "      <th>radio_detect</th>\n",
       "      <th>pred_radio</th>\n",
       "      <th>scaled_score_radio</th>\n",
       "      <th>scaled_score_rAGN</th>\n",
       "      <th>Z</th>\n",
       "      <th>pred_Z</th>\n",
       "    </tr>\n",
       "  </thead>\n",
       "  <tbody>\n",
       "    <tr>\n",
       "      <th>4846431</th>\n",
       "      <td>J131536.58+485629.1</td>\n",
       "      <td>198.902420</td>\n",
       "      <td>48.941429</td>\n",
       "      <td>QR</td>\n",
       "      <td>11</td>\n",
       "      <td>1.0</td>\n",
       "      <td>1</td>\n",
       "      <td>0.937819</td>\n",
       "      <td>1</td>\n",
       "      <td>1</td>\n",
       "      <td>0.982159</td>\n",
       "      <td>0.921087</td>\n",
       "      <td>3.612</td>\n",
       "      <td>3.9476</td>\n",
       "    </tr>\n",
       "    <tr>\n",
       "      <th>4836334</th>\n",
       "      <td>J134515.76+514242.3</td>\n",
       "      <td>206.315628</td>\n",
       "      <td>51.711754</td>\n",
       "      <td>Q</td>\n",
       "      <td>11</td>\n",
       "      <td>1.0</td>\n",
       "      <td>1</td>\n",
       "      <td>0.923174</td>\n",
       "      <td>1</td>\n",
       "      <td>1</td>\n",
       "      <td>0.982159</td>\n",
       "      <td>0.906704</td>\n",
       "      <td>3.632</td>\n",
       "      <td>3.9476</td>\n",
       "    </tr>\n",
       "    <tr>\n",
       "      <th>4880210</th>\n",
       "      <td>J135230.51+531108.5</td>\n",
       "      <td>208.127121</td>\n",
       "      <td>53.185715</td>\n",
       "      <td>Q</td>\n",
       "      <td>11</td>\n",
       "      <td>1.0</td>\n",
       "      <td>1</td>\n",
       "      <td>0.892433</td>\n",
       "      <td>1</td>\n",
       "      <td>1</td>\n",
       "      <td>0.982159</td>\n",
       "      <td>0.876511</td>\n",
       "      <td>4.223</td>\n",
       "      <td>3.9508</td>\n",
       "    </tr>\n",
       "    <tr>\n",
       "      <th>3992021</th>\n",
       "      <td>J145232.93+495329.8</td>\n",
       "      <td>223.137207</td>\n",
       "      <td>49.891617</td>\n",
       "      <td>Q</td>\n",
       "      <td>11</td>\n",
       "      <td>1.0</td>\n",
       "      <td>1</td>\n",
       "      <td>0.793569</td>\n",
       "      <td>1</td>\n",
       "      <td>1</td>\n",
       "      <td>0.993756</td>\n",
       "      <td>0.788613</td>\n",
       "      <td>3.885</td>\n",
       "      <td>3.9534</td>\n",
       "    </tr>\n",
       "    <tr>\n",
       "      <th>4824771</th>\n",
       "      <td>J122732.41+471045.1</td>\n",
       "      <td>186.885040</td>\n",
       "      <td>47.179184</td>\n",
       "      <td>Q</td>\n",
       "      <td>11</td>\n",
       "      <td>1.0</td>\n",
       "      <td>1</td>\n",
       "      <td>0.592463</td>\n",
       "      <td>1</td>\n",
       "      <td>1</td>\n",
       "      <td>0.981713</td>\n",
       "      <td>0.581628</td>\n",
       "      <td>3.829</td>\n",
       "      <td>3.9489</td>\n",
       "    </tr>\n",
       "    <tr>\n",
       "      <th>6462493</th>\n",
       "      <td>J131914.21+520200.0</td>\n",
       "      <td>199.809189</td>\n",
       "      <td>52.033337</td>\n",
       "      <td>QX</td>\n",
       "      <td>14</td>\n",
       "      <td>1.0</td>\n",
       "      <td>1</td>\n",
       "      <td>0.912135</td>\n",
       "      <td>1</td>\n",
       "      <td>1</td>\n",
       "      <td>0.603479</td>\n",
       "      <td>0.550455</td>\n",
       "      <td>3.910</td>\n",
       "      <td>3.9492</td>\n",
       "    </tr>\n",
       "    <tr>\n",
       "      <th>6338787</th>\n",
       "      <td>J145439.57+470741.9</td>\n",
       "      <td>223.664886</td>\n",
       "      <td>47.128338</td>\n",
       "      <td></td>\n",
       "      <td>11</td>\n",
       "      <td>0.0</td>\n",
       "      <td>1</td>\n",
       "      <td>0.899541</td>\n",
       "      <td>0</td>\n",
       "      <td>1</td>\n",
       "      <td>0.599465</td>\n",
       "      <td>0.539243</td>\n",
       "      <td>NaN</td>\n",
       "      <td>3.9476</td>\n",
       "    </tr>\n",
       "    <tr>\n",
       "      <th>5081683</th>\n",
       "      <td>J143034.63+461135.1</td>\n",
       "      <td>217.644302</td>\n",
       "      <td>46.193085</td>\n",
       "      <td></td>\n",
       "      <td>11</td>\n",
       "      <td>0.0</td>\n",
       "      <td>1</td>\n",
       "      <td>0.787798</td>\n",
       "      <td>0</td>\n",
       "      <td>1</td>\n",
       "      <td>0.579839</td>\n",
       "      <td>0.456796</td>\n",
       "      <td>NaN</td>\n",
       "      <td>3.9533</td>\n",
       "    </tr>\n",
       "    <tr>\n",
       "      <th>127301</th>\n",
       "      <td>J121336.14+540438.2</td>\n",
       "      <td>183.400604</td>\n",
       "      <td>54.077301</td>\n",
       "      <td>R</td>\n",
       "      <td>9</td>\n",
       "      <td>1.0</td>\n",
       "      <td>1</td>\n",
       "      <td>0.454433</td>\n",
       "      <td>1</td>\n",
       "      <td>1</td>\n",
       "      <td>0.981713</td>\n",
       "      <td>0.446123</td>\n",
       "      <td>NaN</td>\n",
       "      <td>4.1156</td>\n",
       "    </tr>\n",
       "    <tr>\n",
       "      <th>6703452</th>\n",
       "      <td>J114507.43+523926.1</td>\n",
       "      <td>176.280945</td>\n",
       "      <td>52.657242</td>\n",
       "      <td></td>\n",
       "      <td>10</td>\n",
       "      <td>0.0</td>\n",
       "      <td>1</td>\n",
       "      <td>0.671410</td>\n",
       "      <td>0</td>\n",
       "      <td>1</td>\n",
       "      <td>0.593220</td>\n",
       "      <td>0.398294</td>\n",
       "      <td>NaN</td>\n",
       "      <td>3.9502</td>\n",
       "    </tr>\n",
       "    <tr>\n",
       "      <th>1766700</th>\n",
       "      <td>J110931.70+464048.1</td>\n",
       "      <td>167.382095</td>\n",
       "      <td>46.680035</td>\n",
       "      <td>Q</td>\n",
       "      <td>11</td>\n",
       "      <td>1.0</td>\n",
       "      <td>1</td>\n",
       "      <td>0.881932</td>\n",
       "      <td>1</td>\n",
       "      <td>0</td>\n",
       "      <td>0.428635</td>\n",
       "      <td>0.378027</td>\n",
       "      <td>3.633</td>\n",
       "      <td>3.9476</td>\n",
       "    </tr>\n",
       "    <tr>\n",
       "      <th>6386282</th>\n",
       "      <td>J145559.41+482013.0</td>\n",
       "      <td>223.997559</td>\n",
       "      <td>48.336948</td>\n",
       "      <td></td>\n",
       "      <td>9</td>\n",
       "      <td>0.0</td>\n",
       "      <td>1</td>\n",
       "      <td>0.582851</td>\n",
       "      <td>0</td>\n",
       "      <td>1</td>\n",
       "      <td>0.642284</td>\n",
       "      <td>0.374356</td>\n",
       "      <td>NaN</td>\n",
       "      <td>3.9585</td>\n",
       "    </tr>\n",
       "    <tr>\n",
       "      <th>4456097</th>\n",
       "      <td>J122755.33+534435.5</td>\n",
       "      <td>186.980560</td>\n",
       "      <td>53.743206</td>\n",
       "      <td></td>\n",
       "      <td>9</td>\n",
       "      <td>0.0</td>\n",
       "      <td>1</td>\n",
       "      <td>0.627278</td>\n",
       "      <td>0</td>\n",
       "      <td>1</td>\n",
       "      <td>0.592328</td>\n",
       "      <td>0.371555</td>\n",
       "      <td>NaN</td>\n",
       "      <td>3.9656</td>\n",
       "    </tr>\n",
       "    <tr>\n",
       "      <th>5113415</th>\n",
       "      <td>J121251.43+553451.6</td>\n",
       "      <td>183.214279</td>\n",
       "      <td>55.581013</td>\n",
       "      <td></td>\n",
       "      <td>9</td>\n",
       "      <td>0.0</td>\n",
       "      <td>1</td>\n",
       "      <td>0.578618</td>\n",
       "      <td>0</td>\n",
       "      <td>1</td>\n",
       "      <td>0.592774</td>\n",
       "      <td>0.342990</td>\n",
       "      <td>NaN</td>\n",
       "      <td>3.9520</td>\n",
       "    </tr>\n",
       "    <tr>\n",
       "      <th>4659062</th>\n",
       "      <td>J120151.90+522204.8</td>\n",
       "      <td>180.466263</td>\n",
       "      <td>52.368000</td>\n",
       "      <td></td>\n",
       "      <td>9</td>\n",
       "      <td>0.0</td>\n",
       "      <td>1</td>\n",
       "      <td>0.576901</td>\n",
       "      <td>0</td>\n",
       "      <td>1</td>\n",
       "      <td>0.588760</td>\n",
       "      <td>0.339656</td>\n",
       "      <td>NaN</td>\n",
       "      <td>4.5476</td>\n",
       "    </tr>\n",
       "  </tbody>\n",
       "</table>\n",
       "</div>"
      ],
      "text/plain": [
       "                         Name     RA_ICRS    DE_ICRS  TYPE  band_num  class  \\\n",
       "4846431  J131536.58+485629.1   198.902420  48.941429  QR          11    1.0   \n",
       "4836334  J134515.76+514242.3   206.315628  51.711754  Q           11    1.0   \n",
       "4880210  J135230.51+531108.5   208.127121  53.185715  Q           11    1.0   \n",
       "3992021  J145232.93+495329.8   223.137207  49.891617  Q           11    1.0   \n",
       "4824771  J122732.41+471045.1   186.885040  47.179184  Q           11    1.0   \n",
       "6462493  J131914.21+520200.0   199.809189  52.033337  QX          14    1.0   \n",
       "6338787  J145439.57+470741.9   223.664886  47.128338              11    0.0   \n",
       "5081683  J143034.63+461135.1   217.644302  46.193085              11    0.0   \n",
       "127301   J121336.14+540438.2   183.400604  54.077301  R            9    1.0   \n",
       "6703452  J114507.43+523926.1   176.280945  52.657242              10    0.0   \n",
       "1766700  J110931.70+464048.1   167.382095  46.680035  Q           11    1.0   \n",
       "6386282  J145559.41+482013.0   223.997559  48.336948               9    0.0   \n",
       "4456097  J122755.33+534435.5   186.980560  53.743206               9    0.0   \n",
       "5113415  J121251.43+553451.6   183.214279  55.581013               9    0.0   \n",
       "4659062  J120151.90+522204.8   180.466263  52.368000               9    0.0   \n",
       "\n",
       "         pred_class  Score_AGN  radio_detect  pred_radio  scaled_score_radio  \\\n",
       "4846431           1   0.937819             1           1            0.982159   \n",
       "4836334           1   0.923174             1           1            0.982159   \n",
       "4880210           1   0.892433             1           1            0.982159   \n",
       "3992021           1   0.793569             1           1            0.993756   \n",
       "4824771           1   0.592463             1           1            0.981713   \n",
       "6462493           1   0.912135             1           1            0.603479   \n",
       "6338787           1   0.899541             0           1            0.599465   \n",
       "5081683           1   0.787798             0           1            0.579839   \n",
       "127301            1   0.454433             1           1            0.981713   \n",
       "6703452           1   0.671410             0           1            0.593220   \n",
       "1766700           1   0.881932             1           0            0.428635   \n",
       "6386282           1   0.582851             0           1            0.642284   \n",
       "4456097           1   0.627278             0           1            0.592328   \n",
       "5113415           1   0.578618             0           1            0.592774   \n",
       "4659062           1   0.576901             0           1            0.588760   \n",
       "\n",
       "         scaled_score_rAGN      Z  pred_Z  \n",
       "4846431           0.921087  3.612  3.9476  \n",
       "4836334           0.906704  3.632  3.9476  \n",
       "4880210           0.876511  4.223  3.9508  \n",
       "3992021           0.788613  3.885  3.9534  \n",
       "4824771           0.581628  3.829  3.9489  \n",
       "6462493           0.550455  3.910  3.9492  \n",
       "6338787           0.539243    NaN  3.9476  \n",
       "5081683           0.456796    NaN  3.9533  \n",
       "127301            0.446123    NaN  4.1156  \n",
       "6703452           0.398294    NaN  3.9502  \n",
       "1766700           0.378027  3.633  3.9476  \n",
       "6386282           0.374356    NaN  3.9585  \n",
       "4456097           0.371555    NaN  3.9656  \n",
       "5113415           0.342990    NaN  3.9520  \n",
       "4659062           0.339656    NaN  4.5476  "
      ]
     },
     "metadata": {},
     "output_type": "display_data"
    }
   ],
   "source": [
    "display(full_catalog_df.loc[filter_high_z, cols_4_table].sort_values(by=['scaled_score_rAGN', 'pred_Z'], ascending=False).head(15))"
   ]
  },
  {
   "cell_type": "markdown",
   "metadata": {},
   "source": [
    "Confusion matrix for AGN/galaxy prediction on all sources"
   ]
  },
  {
   "cell_type": "code",
   "execution_count": 85,
   "metadata": {},
   "outputs": [
    {
     "data": {
      "text/plain": [
       "array([[160014, 186046],\n",
       "       [    86,   5993]])"
      ]
     },
     "execution_count": 85,
     "metadata": {},
     "output_type": "execute_result"
    }
   ],
   "source": [
    "cm_AGN"
   ]
  },
  {
   "cell_type": "code",
   "execution_count": 86,
   "metadata": {},
   "outputs": [
    {
     "data": {
      "text/plain": [
       "array([160014, 186046,     86,   5993])"
      ]
     },
     "execution_count": 86,
     "metadata": {},
     "output_type": "execute_result"
    }
   ],
   "source": [
    "cm_AGN.flatten()"
   ]
  },
  {
   "cell_type": "code",
   "execution_count": 87,
   "metadata": {},
   "outputs": [
    {
     "data": {
      "text/plain": [
       "40416818919331494730000"
      ]
     },
     "execution_count": 87,
     "metadata": {},
     "output_type": "execute_result"
    }
   ],
   "source": [
    "(30_044 + 931_022) * (30_044 + 351) * (799_274 + 931_022) * (799_274 + 351)"
   ]
  },
  {
   "cell_type": "code",
   "execution_count": 88,
   "metadata": {},
   "outputs": [
    {
     "data": {
      "text/plain": [
       "201039346694.45056"
      ]
     },
     "execution_count": 88,
     "metadata": {},
     "output_type": "execute_result"
    }
   ],
   "source": [
    "np.sqrt(float((30_044 + 931_022) * (30_044 + 351) * (799_274 + 931_022) * (799_274 + 351)))"
   ]
  },
  {
   "cell_type": "code",
   "execution_count": 89,
   "metadata": {},
   "outputs": [],
   "source": [
    "MCC_test = ((30044 * 799274) - (931022 * 351)) / np.sqrt(float((30044 + 931022) * (30044 + 351) * (799274 + 931022) * (799274 + 351)))"
   ]
  },
  {
   "cell_type": "code",
   "execution_count": 90,
   "metadata": {},
   "outputs": [
    {
     "data": {
      "text/plain": [
       "0.11782071382275258"
      ]
     },
     "execution_count": 90,
     "metadata": {},
     "output_type": "execute_result"
    }
   ],
   "source": [
    "MCC_test"
   ]
  },
  {
   "cell_type": "code",
   "execution_count": 91,
   "metadata": {
    "tags": []
   },
   "outputs": [],
   "source": [
    "MCC_AGN              = MCC_from_CM(cm_AGN)\n",
    "ACC_AGN              = ACC_from_CM(cm_AGN)\n",
    "F1_AGN               = F1_from_CM(cm_AGN)\n",
    "Recall_AGN           = Recall_from_CM(cm_AGN)"
   ]
  },
  {
   "cell_type": "markdown",
   "metadata": {},
   "source": [
    "Confusion matrices for AGN criteria from literature"
   ]
  },
  {
   "cell_type": "code",
   "execution_count": 92,
   "metadata": {
    "jupyter": {
     "source_hidden": true
    }
   },
   "outputs": [],
   "source": [
    "MCC_AGN_S12          = MCC_from_CM(cm_AGN_S12)\n",
    "ACC_AGN_S12          = ACC_from_CM(cm_AGN_S12)\n",
    "F1_AGN_S12           = F1_from_CM(cm_AGN_S12)\n",
    "Recall_AGN_S12       = Recall_from_CM(cm_AGN_S12)\n",
    "\n",
    "MCC_AGN_M12          = MCC_from_CM(cm_AGN_M12)\n",
    "ACC_AGN_M12          = ACC_from_CM(cm_AGN_M12)\n",
    "F1_AGN_M12           = F1_from_CM(cm_AGN_M12)\n",
    "Recall_AGN_M12       = Recall_from_CM(cm_AGN_M12)\n",
    "\n",
    "MCC_AGN_M16          = MCC_from_CM(cm_AGN_M16)\n",
    "ACC_AGN_M16          = ACC_from_CM(cm_AGN_M16)\n",
    "F1_AGN_M16           = F1_from_CM(cm_AGN_M16)\n",
    "Recall_AGN_M16       = Recall_from_CM(cm_AGN_M16)\n",
    "\n",
    "MCC_AGN_B18          = MCC_from_CM(cm_AGN_B18)\n",
    "ACC_AGN_B18          = ACC_from_CM(cm_AGN_B18)\n",
    "F1_AGN_B18           = F1_from_CM(cm_AGN_B18)\n",
    "Recall_AGN_B18       = Recall_from_CM(cm_AGN_B18)"
   ]
  },
  {
   "cell_type": "markdown",
   "metadata": {},
   "source": [
    "Confusion matrix for radio detection prediction on all predicted AGN"
   ]
  },
  {
   "cell_type": "code",
   "execution_count": 93,
   "metadata": {
    "jupyter": {
     "source_hidden": true
    },
    "tags": []
   },
   "outputs": [],
   "source": [
    "MCC_radio            = MCC_from_CM(cm_radio)\n",
    "ACC_radio            = ACC_from_CM(cm_radio)\n",
    "F1_radio             = F1_from_CM(cm_radio)\n",
    "Recall_radio         = Recall_from_CM(cm_radio)"
   ]
  },
  {
   "cell_type": "markdown",
   "metadata": {},
   "source": [
    "Confusion matrix for radio detection prediction on all confirmed sources"
   ]
  },
  {
   "cell_type": "code",
   "execution_count": 94,
   "metadata": {
    "jupyter": {
     "source_hidden": true
    },
    "tags": []
   },
   "outputs": [],
   "source": [
    "MCC_radio_conf       = MCC_from_CM(cm_radio_conf)\n",
    "ACC_radio_conf       = ACC_from_CM(cm_radio_conf)\n",
    "F1_radio_conf        = F1_from_CM(cm_radio_conf)\n",
    "Recall_radio_conf    = Recall_from_CM(cm_radio_conf)"
   ]
  },
  {
   "cell_type": "markdown",
   "metadata": {},
   "source": [
    "Confusion matrix for radio AGN detection prediction."
   ]
  },
  {
   "cell_type": "code",
   "execution_count": 95,
   "metadata": {
    "jupyter": {
     "source_hidden": true
    },
    "tags": []
   },
   "outputs": [],
   "source": [
    "MCC_radio_AGN        = MCC_from_CM(cm_radio_AGN)\n",
    "ACC_radio_AGN        = ACC_from_CM(cm_radio_AGN)\n",
    "F1_radio_AGN         = F1_from_CM(cm_radio_AGN)\n",
    "Recall_radio_AGN     = Recall_from_CM(cm_radio_AGN)"
   ]
  },
  {
   "cell_type": "markdown",
   "metadata": {},
   "source": [
    "Confusion matrix for radio AGN detection prediction on confirmed sources."
   ]
  },
  {
   "cell_type": "code",
   "execution_count": 96,
   "metadata": {
    "jupyter": {
     "source_hidden": true
    },
    "tags": []
   },
   "outputs": [],
   "source": [
    "MCC_radio_AGN_conf    = MCC_from_CM(cm_radio_AGN_conf)\n",
    "ACC_radio_AGN_conf    = ACC_from_CM(cm_radio_AGN_conf)\n",
    "F1_radio_AGN_conf     = F1_from_CM(cm_radio_AGN_conf)\n",
    "Recall_radio_AGN_conf = Recall_from_CM(cm_radio_AGN_conf)"
   ]
  },
  {
   "cell_type": "markdown",
   "metadata": {},
   "source": [
    "Print metrics"
   ]
  },
  {
   "cell_type": "code",
   "execution_count": 97,
   "metadata": {
    "jupyter": {
     "source_hidden": true
    },
    "tags": []
   },
   "outputs": [
    {
     "name": "stdout",
     "output_type": "stream",
     "text": [
      "Metrics for AGN prediction on all spectroscopically confirmed sources.\n",
      "Sample size,                        N = 352,139\n",
      "Matthews Correlation Coefficient, MCC = 0.1173\n",
      "Accuracy,                         ACC = 0.4714\n",
      "F-1 Score,                         F1 = 0.0605\n",
      "Recall,                        Recall = 0.9859\n"
     ]
    }
   ],
   "source": [
    "print('Metrics for AGN prediction on all spectroscopically confirmed sources.')\n",
    "print(f'Sample size,                        N = {np.sum(filter_gal_AGN_t):,}')\n",
    "print(f'Matthews Correlation Coefficient, MCC = {MCC_AGN:.4f}')\n",
    "print(f'Accuracy,                         ACC = {ACC_AGN:.4f}')\n",
    "print(f'F-1 Score,                         F1 = {F1_AGN:.4f}')\n",
    "print(f'Recall,                        Recall = {Recall_AGN:.4f}')"
   ]
  },
  {
   "cell_type": "code",
   "execution_count": 98,
   "metadata": {
    "jupyter": {
     "source_hidden": true
    },
    "tags": []
   },
   "outputs": [
    {
     "name": "stdout",
     "output_type": "stream",
     "text": [
      "Metrics for AGN detection criteria (from literature) on all spectroscopically confirmed sources.\n",
      "Sample size, N = 352,139\n",
      "Criterion:        S12\tM12\tM16\tMB18\n",
      "MCC,       MCC = 0.0687\t0.5169\t0.4262\t0.4375\n",
      "Accuracy,  ACC = 0.5144\t0.9869\t0.9755\t0.9654\n",
      "F-1 Score,  F1 = 0.0509\t0.4902\t0.4296\t0.4112\n",
      "Recall, Recall = 0.7536\t0.3644\t0.5343\t0.6998\n"
     ]
    }
   ],
   "source": [
    "print('Metrics for AGN detection criteria (from literature) on all spectroscopically confirmed sources.')\n",
    "print(f'Sample size, N = {np.sum(filter_gal_AGN_t):,}')\n",
    "print('Criterion:        S12\\tM12\\tM16\\tMB18')\n",
    "print(f'MCC,       MCC = {MCC_AGN_S12:.4f}\\t{MCC_AGN_M12:.4f}\\t{MCC_AGN_M16:.4f}\\t{MCC_AGN_B18:.4f}')\n",
    "print(f'Accuracy,  ACC = {ACC_AGN_S12:.4f}\\t{ACC_AGN_M12:.4f}\\t{ACC_AGN_M16:.4f}\\t{ACC_AGN_B18:.4f}')\n",
    "print(f'F-1 Score,  F1 = {F1_AGN_S12:.4f}\\t{F1_AGN_M12:.4f}\\t{F1_AGN_M16:.4f}\\t{F1_AGN_B18:.4f}')\n",
    "print(f'Recall, Recall = {Recall_AGN_S12:.4f}\\t{Recall_AGN_M12:.4f}\\t{Recall_AGN_M16:.4f}\\t{Recall_AGN_B18:.4f}')"
   ]
  },
  {
   "cell_type": "code",
   "execution_count": 99,
   "metadata": {
    "jupyter": {
     "source_hidden": true
    },
    "tags": []
   },
   "outputs": [
    {
     "name": "stdout",
     "output_type": "stream",
     "text": [
      "Metrics for radio detection prediction on all predicted AGN\n",
      "Sample size,                        N = 192,039\n",
      "Matthews Correlation Coefficient, MCC = 0.4154\n",
      "Accuracy,                         ACC = 0.9004\n",
      "F-1 Score,                         F1 = 0.4368\n",
      "Recall,                        Recall = 0.6484\n"
     ]
    }
   ],
   "source": [
    "print('Metrics for radio detection prediction on all predicted AGN')\n",
    "print(f'Sample size,                        N = {np.sum(filter_AGN_p):,}')\n",
    "print(f'Matthews Correlation Coefficient, MCC = {MCC_radio:.4f}')\n",
    "print(f'Accuracy,                         ACC = {ACC_radio:.4f}')\n",
    "print(f'F-1 Score,                         F1 = {F1_radio:.4f}')\n",
    "print(f'Recall,                        Recall = {Recall_radio:.4f}')"
   ]
  },
  {
   "cell_type": "code",
   "execution_count": 100,
   "metadata": {
    "jupyter": {
     "source_hidden": true
    },
    "tags": []
   },
   "outputs": [
    {
     "name": "stdout",
     "output_type": "stream",
     "text": [
      "Metrics for radio detection prediction on all confirmed sources predicted to be AGN\n",
      "Sample size,                        N = 192,039\n",
      "Matthews Correlation Coefficient, MCC = 0.4154\n",
      "Accuracy,                         ACC = 0.9004\n",
      "F-1 Score,                         F1 = 0.4368\n",
      "Recall,                        Recall = 0.6484\n"
     ]
    }
   ],
   "source": [
    "print('Metrics for radio detection prediction on all confirmed sources predicted to be AGN')\n",
    "print(f'Sample size,                        N = {np.sum(filter_AGN_p & filter_gal_AGN_t):,}')\n",
    "print(f'Matthews Correlation Coefficient, MCC = {MCC_radio_conf:.4f}')\n",
    "print(f'Accuracy,                         ACC = {ACC_radio_conf:.4f}')\n",
    "print(f'F-1 Score,                         F1 = {F1_radio_conf:.4f}')\n",
    "print(f'Recall,                        Recall = {Recall_radio_conf:.4f}')"
   ]
  },
  {
   "cell_type": "code",
   "execution_count": 101,
   "metadata": {
    "jupyter": {
     "source_hidden": true
    },
    "tags": []
   },
   "outputs": [
    {
     "name": "stdout",
     "output_type": "stream",
     "text": [
      "Metrics for radio AGN detection prediction\n",
      "Sample size,                        N = 352,139\n",
      "Matthews Correlation Coefficient, MCC = 0.2556\n",
      "Accuracy,                         ACC = 0.9405\n",
      "F-1 Score,                         F1 = 0.1467\n",
      "Recall,                        Recall = 0.8837\n"
     ]
    }
   ],
   "source": [
    "print('Metrics for radio AGN detection prediction')\n",
    "print(f'Sample size,                        N = {total_size:,}')\n",
    "print(f'Matthews Correlation Coefficient, MCC = {MCC_radio_AGN:.4f}')\n",
    "print(f'Accuracy,                         ACC = {ACC_radio_AGN:.4f}')\n",
    "print(f'F-1 Score,                         F1 = {F1_radio_AGN:.4f}')\n",
    "print(f'Recall,                        Recall = {Recall_radio_AGN:.4f}')"
   ]
  },
  {
   "cell_type": "code",
   "execution_count": 102,
   "metadata": {
    "jupyter": {
     "source_hidden": true
    },
    "tags": []
   },
   "outputs": [
    {
     "name": "stdout",
     "output_type": "stream",
     "text": [
      "Metrics for radio AGN detection prediction on all confirmed sources\n",
      "Sample size,                        N = 352,139\n",
      "Matthews Correlation Coefficient, MCC = 0.2556\n",
      "Accuracy,                         ACC = 0.9405\n",
      "F-1 Score,                         F1 = 0.1467\n",
      "Recall,                        Recall = 0.8837\n"
     ]
    }
   ],
   "source": [
    "print('Metrics for radio AGN detection prediction on all confirmed sources')\n",
    "print(f'Sample size,                        N = {np.sum(filter_gal_AGN_t):,}')\n",
    "print(f'Matthews Correlation Coefficient, MCC = {MCC_radio_AGN_conf:.4f}')\n",
    "print(f'Accuracy,                         ACC = {ACC_radio_AGN_conf:.4f}')\n",
    "print(f'F-1 Score,                         F1 = {F1_radio_AGN_conf:.4f}')\n",
    "print(f'Recall,                        Recall = {Recall_radio_AGN_conf:.4f}')"
   ]
  },
  {
   "cell_type": "code",
   "execution_count": 103,
   "metadata": {
    "jupyter": {
     "source_hidden": true
    },
    "tags": []
   },
   "outputs": [
    {
     "name": "stdout",
     "output_type": "stream",
     "text": [
      "Metrics for redshift prediction on all predicted radio AGN with only one Z model\n",
      "Sample size,                        N = 16,427\n",
      "Sigma MAD                       σ MAD = 0.0969\n",
      "Sigma NMAD,                    σ NMAD = 0.0473\n",
      "Sigma z,                          σ z = 0.0933\n",
      "Sigma z normalized,             σ z N = 0.0532\n",
      "Outlier fraction,                   η = 0.1118\n"
     ]
    }
   ],
   "source": [
    "print('Metrics for redshift prediction on all predicted radio AGN with only one Z model')\n",
    "print(f'Sample size,                        N = {np.sum(np.isfinite(full_catalog_df.loc[:, \"Z\"]) & np.isfinite(full_catalog_df.loc[:, \"pred_Z\"])):,}')\n",
    "print(f'Sigma MAD                       \\u03C3 MAD = {sigma_mad_early:.4f}')\n",
    "print(f'Sigma NMAD,                    \\u03C3 NMAD = {sigma_nmad_early:.4f}')\n",
    "print(f'Sigma z,                          \\u03C3 z = {sigma_z_early:.4f}')\n",
    "print(f'Sigma z normalized,             \\u03C3 z N = {sigma_z_norm_early:.4f}')\n",
    "print(f'Outlier fraction,                   \\u03B7 = {out_frac_early:.4f}')"
   ]
  },
  {
   "cell_type": "code",
   "execution_count": 104,
   "metadata": {
    "jupyter": {
     "source_hidden": true
    },
    "tags": []
   },
   "outputs": [
    {
     "name": "stdout",
     "output_type": "stream",
     "text": [
      "Metrics for redshift prediction on all predicted radio AGN with all models\n",
      "Sample size,                        N = 16,427\n",
      "Sigma MAD                       σ MAD = 0.0969\n",
      "Sigma NMAD,                    σ NMAD = 0.0474\n",
      "Sigma z,                          σ z = 0.0959\n",
      "Sigma z normalized,             σ z N = 0.0575\n",
      "Outlier fraction,                   η = 0.1118\n"
     ]
    }
   ],
   "source": [
    "print('Metrics for redshift prediction on all predicted radio AGN with all models')\n",
    "print(f'Sample size,                        N = {np.sum(np.isfinite(full_catalog_df.loc[:, \"Z\"]) & np.isfinite(full_catalog_df.loc[:, \"pred_Z\"])):,}')\n",
    "print(f'Sigma MAD                       \\u03C3 MAD = {sigma_mad_field:.4f}')\n",
    "print(f'Sigma NMAD,                    \\u03C3 NMAD = {sigma_nmad_field:.4f}')\n",
    "print(f'Sigma z,                          \\u03C3 z = {sigma_z_field:.4f}')\n",
    "print(f'Sigma z normalized,             \\u03C3 z N = {sigma_z_norm_field:.4f}')\n",
    "print(f'Outlier fraction,                   \\u03B7 = {out_frac_field:.4f}')"
   ]
  },
  {
   "cell_type": "code",
   "execution_count": 105,
   "metadata": {
    "jupyter": {
     "source_hidden": true
    }
   },
   "outputs": [
    {
     "name": "stdout",
     "output_type": "stream",
     "text": [
      "Metrics for redshift prediction on predicted radio AGN with only one Z model at high z (original prediction)\n",
      "Sample size,                        N = 58\n",
      "Sigma MAD                       σ MAD = 0.2642\n",
      "Sigma NMAD,                    σ NMAD = 0.0544\n",
      "Sigma z,                          σ z = 0.2359\n",
      "Sigma z normalized,             σ z N = 0.2332\n",
      "Outlier fraction,                   η = 0.1250\n"
     ]
    }
   ],
   "source": [
    "print('Metrics for redshift prediction on predicted radio AGN with only one Z model at high z (original prediction)')\n",
    "print(f'Sample size,                        N = {np.sum(np.isfinite(full_catalog_df.loc[:, \"Z\"]) & np.isfinite(full_catalog_df.loc[:, \"pred_Z\"]) & np.array(full_catalog_df.loc[:, \"pred_Z\"] >= redshift_lim_c)):,}')\n",
    "print(f'Sigma MAD                       \\u03C3 MAD = {sigma_mad_early_hiz:.4f}')\n",
    "print(f'Sigma NMAD,                    \\u03C3 NMAD = {sigma_nmad_early_hiz:.4f}')\n",
    "print(f'Sigma z,                          \\u03C3 z = {sigma_z_early_hiz:.4f}')\n",
    "print(f'Sigma z normalized,             \\u03C3 z N = {sigma_z_norm_early_hiz:.4f}')\n",
    "print(f'Outlier fraction,                   \\u03B7 = {out_frac_early_hiz:.4f}')"
   ]
  },
  {
   "cell_type": "code",
   "execution_count": 106,
   "metadata": {
    "jupyter": {
     "source_hidden": true
    }
   },
   "outputs": [
    {
     "name": "stdout",
     "output_type": "stream",
     "text": [
      "Metrics for redshift prediction on predicted radio AGN with all models at high z\n",
      "Sample size,                        N = 58\n",
      "Sigma MAD                       σ MAD = 0.4350\n",
      "Sigma NMAD,                    σ NMAD = 0.0890\n",
      "Sigma z,                          σ z = 0.3091\n",
      "Sigma z normalized,             σ z N = 0.3058\n",
      "Outlier fraction,                   η = 0.1250\n"
     ]
    }
   ],
   "source": [
    "print('Metrics for redshift prediction on predicted radio AGN with all models at high z')\n",
    "print(f'Sample size,                        N = {np.sum(np.isfinite(full_catalog_df.loc[:, \"Z\"]) & np.isfinite(full_catalog_df.loc[:, \"pred_Z\"]) & np.array(full_catalog_df.loc[:, \"pred_Z\"] >= redshift_lim_c)):,}')\n",
    "print(f'Sigma MAD                       \\u03C3 MAD = {sigma_mad_field_hiz:.4f}')\n",
    "print(f'Sigma NMAD,                    \\u03C3 NMAD = {sigma_nmad_field_hiz:.4f}')\n",
    "print(f'Sigma z,                          \\u03C3 z = {sigma_z_field_hiz:.4f}')\n",
    "print(f'Sigma z normalized,             \\u03C3 z N = {sigma_z_norm_field_hiz:.4f}')\n",
    "print(f'Outlier fraction,                   \\u03B7 = {out_frac_field_hiz:.4f}')"
   ]
  },
  {
   "cell_type": "markdown",
   "metadata": {},
   "source": [
    "Plot predictions"
   ]
  },
  {
   "cell_type": "code",
   "execution_count": 107,
   "metadata": {
    "jupyter": {
     "source_hidden": true
    },
    "tags": []
   },
   "outputs": [
    {
     "data": {
      "image/png": "[encoded data removed]",
      "text/plain": [
       "<Figure size 600x500 with 1 Axes>"
      ]
     },
     "metadata": {},
     "output_type": "display_data"
    }
   ],
   "source": [
    "fig             = plt.figure(figsize=(6,5))\n",
    "ax1             = fig.add_subplot(111)\n",
    "plot_conf_mat(cm_AGN, title=used_area, axin=ax1, display_labels=['Galaxy', 'AGN'], log_stretch=False)\n",
    "if save_plot_flag:\n",
    "    plt.savefig(f'plots/conf_matrix_AGN_{used_area}.pdf', bbox_inches='tight')\n",
    "plt.show()"
   ]
  },
  {
   "cell_type": "code",
   "execution_count": 108,
   "metadata": {
    "jupyter": {
     "source_hidden": true
    },
    "tags": []
   },
   "outputs": [
    {
     "data": {
      "image/png": "[encoded data removed]",
      "text/plain": [
       "<Figure size 700x600 with 1 Axes>"
      ]
     },
     "metadata": {},
     "output_type": "display_data"
    }
   ],
   "source": [
    "fig             = plt.figure(figsize=(7,6))\n",
    "ax1             = fig.add_subplot(111)\n",
    "plot_conf_mat(cm_AGN_large, title=used_area, axin=ax1, display_labels=['Galaxy', 'Unknown', 'AGN'], log_stretch=False)\n",
    "\n",
    "ax1.xaxis.get_label().set_fontsize(18)\n",
    "ax1.yaxis.get_label().set_fontsize(18)\n",
    "\n",
    "ax1.tick_params(axis='both', which='major', labelsize=20)\n",
    "ax1.tick_params(axis='y', which='major', labelrotation=90)\n",
    "plt.yticks(va='center')\n",
    "\n",
    "if save_plot_flag:\n",
    "    plt.savefig(f'plots/conf_matrix_AGN_all_classes_{used_area}.pdf', bbox_inches='tight')\n",
    "plt.show()"
   ]
  },
  {
   "cell_type": "code",
   "execution_count": 109,
   "metadata": {
    "jupyter": {
     "source_hidden": true
    },
    "tags": []
   },
   "outputs": [
    {
     "data": {
      "image/png": "[encoded data removed]",
      "text/plain": [
       "<Figure size 600x500 with 1 Axes>"
      ]
     },
     "metadata": {},
     "output_type": "display_data"
    }
   ],
   "source": [
    "fig             = plt.figure(figsize=(6,5))\n",
    "ax1             = fig.add_subplot(111)\n",
    "plot_conf_mat(cm_radio, title=used_area, axin=ax1, display_labels=['No\\nRadio', 'Radio'], log_stretch=True)\n",
    "if save_plot_flag:\n",
    "    plt.savefig(f'plots/conf_matrix_radio_{used_area}.pdf', bbox_inches='tight')\n",
    "plt.show()"
   ]
  },
  {
   "cell_type": "code",
   "execution_count": 110,
   "metadata": {
    "jupyter": {
     "source_hidden": true
    },
    "tags": []
   },
   "outputs": [
    {
     "data": {
      "image/png": "[encoded data removed]",
      "text/plain": [
       "<Figure size 600x500 with 1 Axes>"
      ]
     },
     "metadata": {},
     "output_type": "display_data"
    }
   ],
   "source": [
    "fig             = plt.figure(figsize=(6,5))\n",
    "ax1             = fig.add_subplot(111)\n",
    "plot_conf_mat(cm_radio_conf, title=used_area+': confirmed sources', axin=ax1, display_labels=['No\\nRadio', 'Radio'], log_stretch=True)\n",
    "if save_plot_flag:\n",
    "    plt.savefig(f'plots/conf_matrix_radio_confirmed_{used_area}.pdf', bbox_inches='tight')\n",
    "plt.show()"
   ]
  },
  {
   "cell_type": "code",
   "execution_count": 111,
   "metadata": {
    "jupyter": {
     "source_hidden": true
    },
    "tags": []
   },
   "outputs": [
    {
     "data": {
      "image/png": "[encoded data removed]",
      "text/plain": [
       "<Figure size 600x500 with 1 Axes>"
      ]
     },
     "metadata": {},
     "output_type": "display_data"
    }
   ],
   "source": [
    "fig             = plt.figure(figsize=(6,5))\n",
    "ax1             = fig.add_subplot(111)\n",
    "plot_conf_mat(cm_radio_AGN, title=used_area, axin=ax1, display_labels=['No\\nRadio AGN', 'Radio AGN'], log_stretch=True)\n",
    "if save_plot_flag:\n",
    "    plt.savefig(f'plots/conf_matrix_radio_AGN_{used_area}.pdf', bbox_inches='tight')\n",
    "plt.show()"
   ]
  },
  {
   "cell_type": "code",
   "execution_count": 112,
   "metadata": {
    "jupyter": {
     "source_hidden": true
    },
    "tags": []
   },
   "outputs": [
    {
     "data": {
      "image/png": "[encoded data removed]",
      "text/plain": [
       "<Figure size 600x500 with 1 Axes>"
      ]
     },
     "metadata": {},
     "output_type": "display_data"
    }
   ],
   "source": [
    "fig             = plt.figure(figsize=(6,5))\n",
    "ax1             = fig.add_subplot(111)\n",
    "plot_conf_mat(cm_radio_AGN_conf, title=used_area + ': confirmed sources', axin=ax1, display_labels=['No\\nRadio AGN', 'Radio AGN'], log_stretch=True)\n",
    "if save_plot_flag:\n",
    "    plt.savefig(f'plots/conf_matrix_radio_AGN_confirmed_{used_area}.pdf', bbox_inches='tight')\n",
    "plt.show()"
   ]
  },
  {
   "cell_type": "code",
   "execution_count": 113,
   "metadata": {
    "jupyter": {
     "source_hidden": true
    },
    "tags": []
   },
   "outputs": [
    {
     "data": {
      "image/png": "[encoded data removed]",
      "text/plain": [
       "<Figure size 680x530 with 3 Axes>"
      ]
     },
     "metadata": {},
     "output_type": "display_data"
    }
   ],
   "source": [
    "fig             = plt.figure(figsize=(6.8,5.3))\n",
    "ax1             = fig.add_subplot(111, projection='scatter_density', xscale='log', yscale='log')\n",
    "plot_redshift_compare(full_catalog_df.loc[filter_radio_AGN_p, 'Z'], full_catalog_df.loc[filter_radio_AGN_p, 'pred_Z'],\\\n",
    "                      ax_pre=ax1, title=None, dpi=10, show_clb=True, log_stretch=False)\n",
    "if save_plot_flag:\n",
    "    plt.savefig(f'plots/compare_redshift_{used_area}.pdf', bbox_inches='tight')\n",
    "plt.show()"
   ]
  },
  {
   "cell_type": "code",
   "execution_count": 114,
   "metadata": {
    "jupyter": {
     "source_hidden": true
    },
    "tags": []
   },
   "outputs": [
    {
     "data": {
      "image/png": "[encoded data removed]",
      "text/plain": [
       "<Figure size 1000x350 with 1 Axes>"
      ]
     },
     "metadata": {},
     "output_type": "display_data"
    }
   ],
   "source": [
    "fig             = plt.figure(figsize=(10,3.5))\n",
    "ax1             = fig.add_subplot(111, xscale='linear', yscale='log')\n",
    "\n",
    "min_for_range = np.nanmin([np.nanmin(full_catalog_df.loc[:, 'Z']),\\\n",
    "                           np.nanmin(full_catalog_df.loc[:, 'pred_Z'])])\n",
    "max_for_range = np.nanmax([np.nanmax(full_catalog_df.loc[:, 'Z']),\\\n",
    "                           np.nanmax(full_catalog_df.loc[:, 'pred_Z'])])\n",
    "bins_z        = np.linspace(min_for_range, max_for_range, 50)\n",
    "\n",
    "\n",
    "\n",
    "_, bins, _ = ax1.hist(full_catalog_df.loc[filt_new_rAGN_p, 'pred_Z'], bins=bins_z, histtype='stepfilled',\\\n",
    "                      ec='k', fc='mediumpurple', lw=3.5,\\\n",
    "                      label=f\"New\\nN={np.sum(filt_new_rAGN_p):,}\")\n",
    "ax1.hist(full_catalog_df.loc[filter_radio_AGN_t * filter_radio_AGN_p, 'Z'], bins=bins_z, histtype='stepfilled', ec='k',\\\n",
    "         fc='darkcyan', lw=3.5, label=f\"True\\nN={np.sum(filter_radio_AGN_t):,}\", alpha=0.7)\n",
    "\n",
    "ax1.tick_params(which='both', top=True, right=True, direction='in')\n",
    "ax1.tick_params(axis='both', which='major', labelsize=14)\n",
    "ax1.tick_params(which='major', length=8, width=1.5)\n",
    "ax1.tick_params(which='minor', length=4, width=1.5)\n",
    "# ax1.set_xlabel('$m_{\\mathrm{W1}}\\, \\mathrm{[AB]}$', size=20)\n",
    "ax1.set_xlabel('$z_{\\mathrm{AGN}}$', size=20)\n",
    "ax1.set_ylabel('Frequency', size=20)\n",
    "# ax1.set_ylabel('Frequency', size=20)\n",
    "plt.setp(ax1.spines.values(), linewidth=3.5)\n",
    "plt.setp(ax1.spines.values(), linewidth=3.5)\n",
    "plt.legend(loc=1, fontsize=16)\n",
    "# ax1.invert_xaxis()\n",
    "# ax1.set_xlim(left=-4, right=6)\n",
    "#ax1.set_aspect('equal', 'box')\n",
    "ax1.set_title(used_area, fontsize=14)\n",
    "fig.tight_layout()\n",
    "if save_plot_flag:\n",
    "    plt.savefig(f'plots/hist_true_predicted_z_{used_area}.pdf')\n",
    "plt.show()"
   ]
  },
  {
   "cell_type": "markdown",
   "metadata": {},
   "source": [
    "---"
   ]
  },
  {
   "cell_type": "markdown",
   "metadata": {},
   "source": [
    "## Additional test with data from Ananna et al., 2017"
   ]
  },
  {
   "cell_type": "code",
   "execution_count": 115,
   "metadata": {
    "jupyter": {
     "source_hidden": true
    },
    "tags": []
   },
   "outputs": [],
   "source": [
    "if compare_A17_flag:\n",
    "    full_catalog_A17_df = pd.read_hdf(cat_path + file_S82_Ananna_17, key='df').drop(columns=features_2_discard)"
   ]
  },
  {
   "cell_type": "code",
   "execution_count": 116,
   "metadata": {
    "jupyter": {
     "source_hidden": true
    },
    "tags": []
   },
   "outputs": [],
   "source": [
    "if compare_A17_flag:\n",
    "    full_catalog_A17_df = pyr.predict_model(redshift_reg, data=full_catalog_A17_df, round=8)\n",
    "    full_catalog_A17_df = full_catalog_A17_df.rename(columns={'Label': 'pred_Z', 'is_AGN': 'class'})\n",
    "    full_catalog_A17_df['pred_Z'] = np.around(full_catalog_A17_df.loc[:, 'pred_Z'], decimals=6)\n",
    "    redshift_lim_0    = 2.0\n",
    "    redshift_tol_0    = 0.0\n",
    "    redshift_lim_1    = 3.0\n",
    "    redshift_tol_1    = 0.0\n",
    "    redshift_lim_2    = 3.7\n",
    "    redshift_tol_2    = 0.0\n",
    "    if use_second_z_model:\n",
    "        full_catalog_A17_df = pyr.predict_model(redshift_reg_2, data=full_catalog_A17_df, round=8)\n",
    "        filter_pred_z_A17   = full_catalog_A17_df.loc[:, 'pred_Z'] >= (redshift_lim_0 + redshift_tol_0)\n",
    "        full_catalog_A17_df.loc[:, 'pred_Z'] = full_catalog_A17_df.loc[:, 'pred_Z'].mask(filter_pred_z_A17, full_catalog_A17_df.loc[filter_pred_z_A17, 'Label'])\n",
    "        full_catalog_A17_df = full_catalog_A17_df.drop(columns=['Label'])\n",
    "        full_catalog_A17_df.loc[:, 'pred_Z'] = np.around(full_catalog_A17_df.loc[:, 'pred_Z'], decimals=6)\n",
    "    if use_third_z_model:\n",
    "        full_catalog_A17_df = pyr.predict_model(redshift_reg_3, data=full_catalog_A17_df, round=8)\n",
    "        filter_pred_z_A17   = full_catalog_A17_df.loc[:, 'pred_Z'] >= (redshift_lim_1 + redshift_tol_1)\n",
    "        full_catalog_A17_df.loc[:, 'pred_Z'] = full_catalog_A17_df.loc[:, 'pred_Z'].mask(filter_pred_z_A17, full_catalog_A17_df.loc[filter_pred_z_A17, 'Label'])\n",
    "        full_catalog_A17_df = full_catalog_A17_df.drop(columns=['Label'])\n",
    "        full_catalog_A17_df.loc[:, 'pred_Z'] = np.around(full_catalog_A17_df.loc[:, 'pred_Z'], decimals=6)\n",
    "    if use_fourth_z_model:\n",
    "        full_catalog_A17_df = pyr.predict_model(redshift_reg_4, data=full_catalog_A17_df, round=8)\n",
    "        filter_pred_z_A17   = full_catalog_A17_df.loc[:, 'pred_Z'] >= (redshift_lim_2 + redshift_tol_2)\n",
    "        full_catalog_A17_df.loc[:, 'pred_Z'] = full_catalog_A17_df.loc[:, 'pred_Z'].mask(filter_pred_z_A17, full_catalog_A17_df.loc[filter_pred_z_A17, 'Label'])\n",
    "        full_catalog_A17_df = full_catalog_A17_df.drop(columns=['Label'])\n",
    "        full_catalog_A17_df.loc[:, 'pred_Z'] = np.around(full_catalog_A17_df.loc[:, 'pred_Z'], decimals=6)"
   ]
  },
  {
   "cell_type": "code",
   "execution_count": 117,
   "metadata": {
    "jupyter": {
     "source_hidden": true
    },
    "tags": []
   },
   "outputs": [],
   "source": [
    "if compare_A17_flag:\n",
    "    sigma_mad_AGN_A17            = sigma_mad(full_catalog_A17_df.loc[:, 'Z'],    full_catalog_A17_df.loc[:, 'pred_Z'])\n",
    "    sigma_nmad_AGN_A17           = sigma_nmad(full_catalog_A17_df.loc[:, 'Z'],   full_catalog_A17_df.loc[:, 'pred_Z'])\n",
    "    sigma_z_AGN_A17              = sigma_z(full_catalog_A17_df.loc[:, 'Z'],      full_catalog_A17_df.loc[:, 'pred_Z'])\n",
    "    sigma_z_norm_AGN_A17         = sigma_z_norm(full_catalog_A17_df.loc[:, 'Z'], full_catalog_A17_df.loc[:, 'pred_Z'])\n",
    "    out_frac_AGN_A17             = outlier_frac(full_catalog_A17_df.loc[:, 'Z'], full_catalog_A17_df.loc[:, 'pred_Z'])"
   ]
  },
  {
   "cell_type": "code",
   "execution_count": 118,
   "metadata": {
    "jupyter": {
     "source_hidden": true
    },
    "tags": []
   },
   "outputs": [],
   "source": [
    "if compare_A17_flag:\n",
    "    print('Metrics for redshift prediction on AGN from Ananna et al., 2017')\n",
    "    print(f'Sample size,                        N = {np.sum(np.isfinite(full_catalog_A17_df.loc[:, \"zsp\"]) & np.isfinite(full_catalog_A17_df.loc[:, \"pred_Z\"])):,}')\n",
    "    print(f'Sigma MAD                       \\u03C3 MAD = {sigma_mad_AGN_A17:.4f}')\n",
    "    print(f'Sigma NMAD,                    \\u03C3 NMAD = {sigma_nmad_AGN_A17:.4f}')\n",
    "    print(f'Sigma z,                          \\u03C3 z = {sigma_z_AGN_A17:.4f}')\n",
    "    print(f'Sigma z normalized,             \\u03C3 z N = {sigma_z_norm_AGN_A17:.4f}')\n",
    "    print(f'Outlier fraction,                   \\u03B7 = {out_frac_AGN_A17:.4f}')"
   ]
  },
  {
   "cell_type": "code",
   "execution_count": 119,
   "metadata": {
    "jupyter": {
     "source_hidden": true
    },
    "tags": []
   },
   "outputs": [],
   "source": [
    "if compare_A17_flag:\n",
    "    fig              = plt.figure(figsize=(7.5,4.3))\n",
    "    ax1              = fig.add_subplot(111, xscale='linear', yscale='linear')\n",
    "    \n",
    "    min_score        = np.nanmin([np.nanmin(full_catalog_A17_df.loc[:, 'zsp']), np.nanmin(full_catalog_A17_df.loc[:, 'pred_Z'])])\n",
    "    max_score        = np.nanmax([np.nanmax(full_catalog_A17_df.loc[:, 'zsp']), np.nanmax(full_catalog_A17_df.loc[:, 'pred_Z'])])\n",
    "    score_bins       = np.linspace(min_score, max_score, 30)\n",
    "    \n",
    "    sample_size_orig = np.sum(np.isfinite(full_catalog_A17_df.loc[:, 'zsp']))\n",
    "    sample_size_pred = np.sum(np.isfinite(full_catalog_A17_df.loc[:, 'pred_Z']))\n",
    "    \n",
    "    ax1.hist(full_catalog_A17_df.loc[:, 'zsp'], bins=score_bins, histtype='stepfilled',\\\n",
    "             ec='k', lw=3.5, color=cm.get_cmap('cet_gray')(0.8), alpha=0.9,\\\n",
    "             label=f'Original\\nN={sample_size_orig:,}', zorder=2)\n",
    "    ax1.hist(full_catalog_A17_df.loc[:, 'pred_Z'], bins=score_bins, histtype='stepfilled',\\\n",
    "             ec='k', lw=3.5, color=cm.get_cmap('cet_gray')(0.9), alpha=0.7,\\\n",
    "             label=f'Predicted\\nN={sample_size_pred:,}', zorder=1)\n",
    "        \n",
    "    ax1.tick_params(which='both', top=True, right=True, direction='in')\n",
    "    ax1.tick_params(axis='both', which='major', labelsize=14)\n",
    "    ax1.tick_params(which='major', length=8, width=1.5)\n",
    "    ax1.tick_params(which='minor', length=4, width=1.5)\n",
    "    ax1.set_xlabel('Redshift', size=20)\n",
    "    ax1.set_ylabel('Frequency', size=20)\n",
    "    plt.setp(ax1.spines.values(), linewidth=3.5)\n",
    "    plt.setp(ax1.spines.values(), linewidth=3.5)\n",
    "    plt.legend(loc=1, fontsize=14)\n",
    "    plt.grid(False)\n",
    "    ax1.set_title('S82: Ananna+17')\n",
    "    #ax1.set_aspect('equal', 'box')\n",
    "    fig.tight_layout()\n",
    "    if save_plot_flag:\n",
    "        plt.savefig(f'plots/hist_redshift_AGN_{used_area}_Ananna_17.pdf', bbox_inches='tight')\n",
    "    plt.show()"
   ]
  },
  {
   "cell_type": "code",
   "execution_count": 120,
   "metadata": {
    "jupyter": {
     "source_hidden": true
    },
    "tags": []
   },
   "outputs": [],
   "source": [
    "if compare_A17_flag:\n",
    "    full_catalog_A17_df = full_catalog_A17_df.loc[np.array(full_catalog_A17_df.loc[:, 'class'] == 1) &\\\n",
    "                                                  np.array(full_catalog_A17_df.loc[:, 'radio_detect'] == 1)]"
   ]
  },
  {
   "cell_type": "code",
   "execution_count": 121,
   "metadata": {
    "jupyter": {
     "source_hidden": true
    },
    "tags": []
   },
   "outputs": [],
   "source": [
    "if compare_A17_flag:\n",
    "    used_z_col = 'zsp'\n",
    "    full_catalog_A17_df['Delta_z_N'] = np.around((full_catalog_A17_df.loc[:, 'pred_Z'] - full_catalog_A17_df.loc[:, used_z_col]) /\\\n",
    "                                                 (1 + full_catalog_A17_df.loc[:, used_z_col]), decimals=3)\n",
    "    full_catalog_A17_df['sigma_NMAD'] = np.around(1.48 * np.abs(full_catalog_A17_df.loc[:, 'pred_Z'] - full_catalog_A17_df.loc[:, used_z_col]) /\\\n",
    "                                                  (1 + full_catalog_A17_df.loc[:, used_z_col]), decimals=3)"
   ]
  },
  {
   "cell_type": "code",
   "execution_count": 122,
   "metadata": {
    "jupyter": {
     "source_hidden": true
    },
    "tags": []
   },
   "outputs": [],
   "source": [
    "if compare_A17_flag:\n",
    "    show_columns_A17 = ['RA_ICRS', 'DE_ICRS', 'Name', 'TYPE', 'band_num', 'class', 'radio_detect', 'Z', 'zsp', 'pred_Z', 'Delta_z_N']\n",
    "    display(full_catalog_A17_df.loc[:, show_columns_A17].sort_values(by='pred_Z', ascending=False).head(10))\n",
    "    display(full_catalog_A17_df.loc[:, show_columns_A17].sort_values(by=used_z_col, ascending=False).head(10))"
   ]
  },
  {
   "cell_type": "code",
   "execution_count": 123,
   "metadata": {
    "jupyter": {
     "source_hidden": true
    },
    "tags": []
   },
   "outputs": [],
   "source": [
    "if compare_A17_flag:\n",
    "    sigma_mad_rAGN_A17            = sigma_mad(full_catalog_A17_df.loc[:, 'Z'],    full_catalog_A17_df.loc[:, 'pred_Z'])\n",
    "    sigma_nmad_rAGN_A17           = sigma_nmad(full_catalog_A17_df.loc[:, 'Z'],   full_catalog_A17_df.loc[:, 'pred_Z'])\n",
    "    sigma_z_rAGN_A17              = sigma_z(full_catalog_A17_df.loc[:, 'Z'],      full_catalog_A17_df.loc[:, 'pred_Z'])\n",
    "    sigma_z_norm_rAGN_A17         = sigma_z_norm(full_catalog_A17_df.loc[:, 'Z'], full_catalog_A17_df.loc[:, 'pred_Z'])\n",
    "    out_frac_rAGN_A17             = outlier_frac(full_catalog_A17_df.loc[:, 'Z'], full_catalog_A17_df.loc[:, 'pred_Z'])"
   ]
  },
  {
   "cell_type": "code",
   "execution_count": 124,
   "metadata": {
    "jupyter": {
     "source_hidden": true
    },
    "tags": []
   },
   "outputs": [],
   "source": [
    "if compare_A17_flag:\n",
    "    print('Metrics for redshift prediction on radio AGN from Ananna et al., 2017')\n",
    "    print(f'Sample size,                        N = {np.sum(np.isfinite(full_catalog_A17_df.loc[:, \"zsp\"]) & np.isfinite(full_catalog_A17_df.loc[:, \"pred_Z\"])):,}')\n",
    "    print(f'Sigma MAD                       \\u03C3 MAD = {sigma_mad_rAGN_A17:.4f}')\n",
    "    print(f'Sigma NMAD,                    \\u03C3 NMAD = {sigma_nmad_rAGN_A17:.4f}')\n",
    "    print(f'Sigma z,                          \\u03C3 z = {sigma_z_rAGN_A17:.4f}')\n",
    "    print(f'Sigma z normalized,             \\u03C3 z N = {sigma_z_norm_rAGN_A17:.4f}')\n",
    "    print(f'Outlier fraction,                   \\u03B7 = {out_frac_rAGN_A17:.4f}')"
   ]
  },
  {
   "cell_type": "code",
   "execution_count": 125,
   "metadata": {
    "jupyter": {
     "source_hidden": true
    },
    "tags": []
   },
   "outputs": [],
   "source": [
    "if compare_A17_flag:\n",
    "    fig             = plt.figure(figsize=(6,5))\n",
    "    ax1             = fig.add_subplot(111, projection='scatter_density', xscale='log', yscale='log')\n",
    "    plot_redshift_compare(full_catalog_A17_df.loc[:, used_z_col], full_catalog_A17_df.loc[:, 'pred_Z'],\\\n",
    "                          ax_pre=ax1, title=None, dpi=10, show_clb=True, log_stretch=False)\n",
    "    if save_plot_flag:\n",
    "        plt.savefig(f'plots/compare_redshift_{used_area}_Ananna_17.pdf', bbox_inches='tight')\n",
    "    plt.show()"
   ]
  },
  {
   "cell_type": "code",
   "execution_count": null,
   "metadata": {},
   "outputs": [],
   "source": []
  }
 ],
 "metadata": {
  "kernelspec": {
   "display_name": "Python 3 (ipykernel)",
   "language": "python",
   "name": "python3"
  },
  "language_info": {
   "codemirror_mode": {
    "name": "ipython",
    "version": 3
   },
   "file_extension": ".py",
   "mimetype": "text/x-python",
   "name": "python",
   "nbconvert_exporter": "python",
   "pygments_lexer": "ipython3",
   "version": "3.8.13"
  }
 },
 "nbformat": 4,
 "nbformat_minor": 4
}
