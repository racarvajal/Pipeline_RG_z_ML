{
 "cells": [
  {
   "cell_type": "markdown",
   "id": "3169e6a8",
   "metadata": {
    "id": "c71fae7e-a4c4-4950-8c16-4a74a1e69482"
   },
   "source": [
    "# Pipeline for High-z Radio Galaxies 05: Redshift prediction (high z, new instance with data balancing)"
   ]
  },
  {
   "cell_type": "markdown",
   "id": "a8cec2ce",
   "metadata": {
    "id": "714a7301-9b3d-4ad9-9659-b68cad4014c5"
   },
   "source": [
    "## Introduction"
   ]
  },
  {
   "cell_type": "markdown",
   "id": "53a78b95",
   "metadata": {
    "id": "dea6dd12-650e-4ab6-bae7-0268f78e7fea"
   },
   "source": [
    "Training for regression (prediction) of redshift for sources in the HETDEX field. \n",
    "\n",
    "Sources are all elements detected in the CatWISE2020 catalogue. But regression  \n",
    "will be done only with AGN from the Million Quasar Catalog (MQC).  \n",
    "Only sources with confirmed $z$ will be used.\n",
    "\n",
    "Also, as a test, only high-redshift sources ($z \\geq 3.6$ (or $3.7$), from recall behaviour. Turn-off point) will be used.  \n",
    "Additionally, SMOGN will be used to increase the parameter space size oversampling highest redshift elements.\n",
    "\n",
    "Being either AGN or galaxy will not be used as an additional feature."
   ]
  },
  {
   "cell_type": "markdown",
   "id": "f3ccd3d6",
   "metadata": {
    "id": "00a0aec8-0112-4728-a8fe-f99cdf05a33b"
   },
   "source": [
    "Training data is from HETDEX Spring Field."
   ]
  },
  {
   "cell_type": "code",
   "execution_count": 1,
   "id": "e0af8c47",
   "metadata": {
    "id": "1161a2b6-ef8d-429d-8dea-40f0de36e393"
   },
   "outputs": [],
   "source": [
    "%matplotlib inline\n",
    "# Static plots\n",
    "#%matplotlib ipympl\n",
    "# Interactive plots\n",
    "import numpy as np\n",
    "import matplotlib as mpl\n",
    "from matplotlib import ticker\n",
    "import matplotlib.cm as cm\n",
    "import matplotlib.pyplot as plt\n",
    "import matplotlib.colors as mcolors\n",
    "import matplotlib.patheffects as mpe\n",
    "import mpl_scatter_density\n",
    "from mpl_toolkits.axes_grid1.inset_locator import inset_axes\n",
    "from astropy.visualization import LogStretch, PowerStretch\n",
    "from astropy.visualization.mpl_normalize import ImageNormalize\n",
    "from sklearn.preprocessing import MinMaxScaler\n",
    "from sklearn.model_selection import train_test_split\n",
    "import sklearn.pipeline\n",
    "import ppscore as pps\n",
    "import seaborn as sns\n",
    "import colorcet as cc\n",
    "from pycaret import regression as pyr\n",
    "import pandas as pd\n",
    "import smogn\n",
    "import global_variables as gv\n",
    "import global_functions as gf"
   ]
  },
  {
   "cell_type": "code",
   "execution_count": 2,
   "id": "ebb8c30c",
   "metadata": {},
   "outputs": [],
   "source": [
    "mpl.rcdefaults()"
   ]
  },
  {
   "cell_type": "code",
   "execution_count": 3,
   "id": "ddea5528",
   "metadata": {},
   "outputs": [],
   "source": [
    "plt.rcParams['text.usetex'] = True"
   ]
  },
  {
   "cell_type": "markdown",
   "id": "fd37fbf8",
   "metadata": {},
   "source": [
    "Define specific metrics for redshift values:  \n",
    "\n",
    "$$\n",
    "\\sigma_{\\mathrm{NMAD}} = 1.48 \\times \\mathrm{median}\\left(\\frac{|(z_{True} - z_{Predict})|}{(1 + z_{True})}\\right)\n",
    "$$"
   ]
  },
  {
   "cell_type": "markdown",
   "id": "362d37ee",
   "metadata": {
    "id": "8222df68-1b98-436b-af43-d9f38d015ba6"
   },
   "source": [
    "***"
   ]
  },
  {
   "cell_type": "markdown",
   "id": "3845ec74",
   "metadata": {
    "id": "e2ce5669-172d-4ed4-b6fe-5fff8afc7df5"
   },
   "source": [
    "## Reading data"
   ]
  },
  {
   "cell_type": "markdown",
   "id": "71c08d48",
   "metadata": {
    "id": "c4e41fd8-fbc5-4185-b03e-8a57634a05a9"
   },
   "source": [
    "We import our data using the `pandas` package."
   ]
  },
  {
   "cell_type": "code",
   "execution_count": 4,
   "id": "06d947d2",
   "metadata": {},
   "outputs": [],
   "source": [
    "save_plot_flag  = False\n",
    "save_model_flag = False\n",
    "load_model_flag = True\n",
    "run_smoter_flag = False\n",
    "use_calibration = True"
   ]
  },
  {
   "cell_type": "markdown",
   "id": "f12701da",
   "metadata": {
    "id": "2cd751bd-1eb4-4c54-b6fa-418773ac8938"
   },
   "source": [
    "First, open the file as astropy Table to modify (and standardise)  \n",
    "the units of fluxes and/or magnitudes."
   ]
  },
  {
   "cell_type": "markdown",
   "id": "7619a712",
   "metadata": {
    "id": "d0ce0178-04a7-4113-bbb8-1b70ce220764"
   },
   "source": [
    "---"
   ]
  },
  {
   "cell_type": "markdown",
   "id": "81d252df",
   "metadata": {
    "id": "6e66f66c-4987-4340-bf82-7d8e218033fb"
   },
   "source": [
    "Create `pandas` DataFrame from `astropy` table."
   ]
  },
  {
   "cell_type": "code",
   "execution_count": 5,
   "id": "c042a90d",
   "metadata": {
    "jupyter": {
     "source_hidden": true
    }
   },
   "outputs": [],
   "source": [
    "features_2_discard = ['objID', 'RA_ICRS', 'DE_ICRS', 'Name', 'RA_MILLI', 'DEC_MILLI', 'TYPE',\\\n",
    "                      'X_ray_detect', 'Total_flux_VLASS', 'Sint_LOFAR', 'Stotal_TGSS', 'FEP',\\\n",
    "                      'TotalFlux_LoLSS', 'W1mag', 'W2mag', 'FUVmag', 'NUVmag', 'num_imputed',\\\n",
    "                      'radio_detect', 'TGSS_detect', 'VLASS_detect', 'LoLSS_detect'] # , 'mode',\\\n",
    "                     # 'class', 'f_zsp', 'subCl', 'zph', 'e_zph']  # Not needed for training in this model"
   ]
  },
  {
   "cell_type": "code",
   "execution_count": 6,
   "id": "24a94896",
   "metadata": {
    "id": "498083f5-b8c6-44aa-8de4-75b1dc899296",
    "tags": []
   },
   "outputs": [],
   "source": [
    "full_catalog_df = pd.read_hdf(gv.cat_path + gv.file_HETDEX, key='df').drop(columns=features_2_discard)"
   ]
  },
  {
   "cell_type": "code",
   "execution_count": 7,
   "id": "cc9a50cd",
   "metadata": {
    "jupyter": {
     "source_hidden": true
    }
   },
   "outputs": [],
   "source": [
    "full_catalog_df.loc[:, 'LOFAR_detect'] = full_catalog_df.loc[:, 'LOFAR_detect'].astype(int)"
   ]
  },
  {
   "cell_type": "code",
   "execution_count": 8,
   "id": "c02d8f18",
   "metadata": {},
   "outputs": [],
   "source": [
    "target_feat = 'Z'"
   ]
  },
  {
   "cell_type": "markdown",
   "id": "56d4e9b4",
   "metadata": {},
   "source": [
    "Combine redshift values (AGN + galaxies)."
   ]
  },
  {
   "cell_type": "code",
   "execution_count": 9,
   "id": "3a3019a0",
   "metadata": {
    "jupyter": {
     "source_hidden": true
    }
   },
   "outputs": [],
   "source": [
    "idx_non_Z                = full_catalog_df.loc[:, target_feat].where(full_catalog_df.loc[:, target_feat] > 0).isna()\n",
    "full_catalog_df.loc[idx_non_Z, target_feat] = full_catalog_df.loc[:, target_feat].mask(idx_non_Z, full_catalog_df.loc[idx_non_Z, 'zsp'])"
   ]
  },
  {
   "cell_type": "markdown",
   "id": "6fee7f67",
   "metadata": {
    "id": "6619390c-a04f-4bd0-9f97-9ca54bc9c764"
   },
   "source": [
    "---"
   ]
  },
  {
   "cell_type": "markdown",
   "id": "c8d8e957",
   "metadata": {},
   "source": [
    "## Split data: Test, Train, Validation"
   ]
  },
  {
   "cell_type": "markdown",
   "id": "17090fed",
   "metadata": {},
   "source": [
    "Create same train/test/validation sub-sets as with AGN/galaxy model.  \n",
    "After this, select sources needed for this model (`is_AGN == 1` and `radio_detect == 1`)."
   ]
  },
  {
   "cell_type": "code",
   "execution_count": 10,
   "id": "91e5431d",
   "metadata": {
    "jupyter": {
     "source_hidden": true
    }
   },
   "outputs": [
    {
     "name": "stdout",
     "output_type": "stream",
     "text": [
      "Shape of used data in HETDEX\n",
      "-----------------------------------------------------------------\n",
      "Full confirmed dataset size:                      (83409, 88)\n",
      "Data for Modeling (Train, Test, and Calibration): (66727, 88)\n",
      "Training data:                                    (53381, 88)\n",
      "Testing data:                                     (6673, 88)\n",
      "Calibration data:                                 (6673, 88)\n",
      "Validation data:                                  (16682, 88)\n",
      "-----------------------------------------------------------------\n",
      "\n"
     ]
    }
   ],
   "source": [
    "filter_known_spec  = (full_catalog_df.loc[:, 'is_AGN'] == 1) | (full_catalog_df.loc[:, 'is_gal'] == 1)\n",
    "filter_known_radio = full_catalog_df.loc[:, 'LOFAR_detect'] == 1\n",
    "full_catalog_df    = full_catalog_df.loc[filter_known_spec]\n",
    "train_test_df, train_df, test_df, calibration_df, validation_df = gf.split_set(full_catalog_df, [0.2, 0.2, 0.5],\\\n",
    "                                                                               'is_AGN', use_calibration=use_calibration)\n",
    "print('Shape of used data in HETDEX')\n",
    "print('-' * 65)\n",
    "print(f'Full confirmed dataset size:                      {full_catalog_df.shape}')\n",
    "print(f'Data for Modeling (Train, Test, and Calibration): {train_test_df.shape}')\n",
    "print(f'Training data:                                    {train_df.shape}')\n",
    "print(f'Testing data:                                     {test_df.shape}')\n",
    "if use_calibration:\n",
    "    print(f'Calibration data:                                 {calibration_df.shape}')\n",
    "print(f'Validation data:                                  {validation_df.shape}')\n",
    "print('-' * 65)\n",
    "print()"
   ]
  },
  {
   "cell_type": "code",
   "execution_count": 11,
   "id": "415a4562",
   "metadata": {
    "jupyter": {
     "source_hidden": true
    }
   },
   "outputs": [],
   "source": [
    "full_catalog_df = full_catalog_df.loc[(full_catalog_df.loc[:, 'is_AGN'] == 1) & (full_catalog_df.loc[:, 'LOFAR_detect'] == 1)]\n",
    "train_test_df   = train_test_df.loc[(train_test_df.loc[:, 'is_AGN'] == 1) & (train_test_df.loc[:, 'LOFAR_detect'] == 1)]\n",
    "train_df        = train_df.loc[(train_df.loc[:, 'is_AGN'] == 1) & (train_df.loc[:, 'LOFAR_detect'] == 1)]\n",
    "test_df         = test_df.loc[(test_df.loc[:, 'is_AGN'] == 1) & (test_df.loc[:, 'LOFAR_detect'] == 1)]\n",
    "calibration_df  = calibration_df.loc[(calibration_df.loc[:, 'is_AGN'] == 1) & (calibration_df.loc[:, 'LOFAR_detect'] == 1)]\n",
    "validation_df   = validation_df.loc[(validation_df.loc[:, 'is_AGN'] == 1) & (validation_df.loc[:, 'LOFAR_detect'] == 1)]"
   ]
  },
  {
   "cell_type": "markdown",
   "id": "04607bd1",
   "metadata": {},
   "source": [
    "#### Select high-z objects"
   ]
  },
  {
   "cell_type": "code",
   "execution_count": 12,
   "id": "223f267f",
   "metadata": {
    "jupyter": {
     "source_hidden": true
    }
   },
   "outputs": [],
   "source": [
    "filter_high_z    = full_catalog_df.loc[:, target_feat] >= gv.high_z_limit\n",
    "full_catalog_df  = full_catalog_df.loc[full_catalog_df.loc[:, target_feat] >= gv.high_z_limit]\n",
    "train_test_df    = train_test_df.loc[train_test_df.loc[:, target_feat] >= gv.high_z_limit]\n",
    "train_df         = train_df.loc[train_df.loc[:, target_feat] >= gv.high_z_limit]\n",
    "test_df          = test_df.loc[test_df.loc[:, target_feat] >= gv.high_z_limit]\n",
    "calibration_df   = calibration_df.loc[calibration_df.loc[:, target_feat] >= gv.high_z_limit]\n",
    "validation_df    = validation_df.loc[validation_df.loc[:, target_feat] >= gv.high_z_limit]"
   ]
  },
  {
   "cell_type": "code",
   "execution_count": 13,
   "id": "6206c6a0",
   "metadata": {
    "jupyter": {
     "source_hidden": true
    },
    "tags": []
   },
   "outputs": [
    {
     "name": "stdout",
     "output_type": "stream",
     "text": [
      "In this dataset (HETDEX), with 1,891 elements,\n",
      "1,891 of them are marked as AGN, and, from them, 1,891 have confirmed radio detection.\n"
     ]
    }
   ],
   "source": [
    "n_is_AGN = np.sum(full_catalog_df.loc[:, 'is_AGN'] == 1)\n",
    "n_is_rad = np.sum(full_catalog_df.loc[:, 'LOFAR_detect'] == 1)\n",
    "print(f'In this dataset (HETDEX), with {len(full_catalog_df.loc[:, \"is_AGN\"]):,} elements,\\n' +\\\n",
    "         f'{n_is_AGN:,} of them are marked as AGN, and, from them, {n_is_rad:,} have confirmed radio detection.')"
   ]
  },
  {
   "cell_type": "markdown",
   "id": "d35aa993",
   "metadata": {},
   "source": [
    "#### Remove intermediate targets"
   ]
  },
  {
   "cell_type": "code",
   "execution_count": 14,
   "id": "c3880f97",
   "metadata": {
    "jupyter": {
     "source_hidden": true
    }
   },
   "outputs": [],
   "source": [
    "cols_to_remove_cl = ['is_AGN', 'is_SDSS_QSO', 'is_SDSS_gal', 'is_gal', 'is_str', 'spCl', 'LOFAR_detect', 'zsp']\n",
    "full_catalog_df = full_catalog_df.drop(columns=cols_to_remove_cl)\n",
    "train_test_df   = train_test_df.drop(columns=cols_to_remove_cl)\n",
    "train_df        = train_df.drop(columns=cols_to_remove_cl)\n",
    "test_df         = test_df.drop(columns=cols_to_remove_cl)\n",
    "calibration_df  = calibration_df.drop(columns=cols_to_remove_cl)\n",
    "validation_df   = validation_df.drop(columns=cols_to_remove_cl)"
   ]
  },
  {
   "cell_type": "markdown",
   "id": "cba9a8f5",
   "metadata": {
    "id": "6619390c-a04f-4bd0-9f97-9ca54bc9c764"
   },
   "source": [
    "---"
   ]
  },
  {
   "cell_type": "code",
   "execution_count": 15,
   "id": "c2c21d25",
   "metadata": {
    "jupyter": {
     "source_hidden": true
    },
    "tags": []
   },
   "outputs": [
    {
     "name": "stdout",
     "output_type": "stream",
     "text": [
      "Final shape of used data\n",
      "--------------------------------------------------\n",
      "Confirmed Radio AGN\n",
      "--------------------------------------------------\n",
      "Full confirmed dataset size:        (1891, 80)\n",
      "Data for Modeling (Train and Test): (1503, 80)\n",
      "Training data:                      (1175, 80)\n",
      "Testing data:                       (170, 80)\n",
      "Calibration data:                   (158, 80)\n",
      "Validation data:                    (388, 80)\n",
      "--------------------------------------------------\n"
     ]
    }
   ],
   "source": [
    "print('Final shape of used data')\n",
    "print('-' * 50)\n",
    "print('Confirmed Radio AGN')\n",
    "print('-' * 50)\n",
    "print(f'Full confirmed dataset size:        {full_catalog_df.shape}')\n",
    "print(f'Data for Modeling (Train and Test): {train_test_df.shape}')\n",
    "print(f'Training data:                      {train_df.shape}')\n",
    "print(f'Testing data:                       {test_df.shape}')\n",
    "print(f'Calibration data:                   {calibration_df.shape}')\n",
    "print(f'Validation data:                    {validation_df.shape}')\n",
    "print('-' * 50)"
   ]
  },
  {
   "cell_type": "code",
   "execution_count": 16,
   "id": "559b1973",
   "metadata": {
    "jupyter": {
     "source_hidden": true
    },
    "tags": []
   },
   "outputs": [
    {
     "data": {
      "image/png": "[encoded data removed]",
      "text/plain": [
       "<Figure size 700x450 with 1 Axes>"
      ]
     },
     "metadata": {},
     "output_type": "display_data"
    }
   ],
   "source": [
    "fig             = plt.figure(figsize=(7,4.5))\n",
    "ax1             = fig.add_subplot(111, xscale='linear', yscale='log')\n",
    "\n",
    "min_score  = np.nanmin(full_catalog_df.loc[:, target_feat])\n",
    "max_score  = np.nanmax(full_catalog_df.loc[:, target_feat])\n",
    "score_bins = np.linspace(min_score, max_score, 30)\n",
    "\n",
    "ax1.hist(train_test_df.loc[:, target_feat], bins=score_bins, histtype='stepfilled', ec='k',\\\n",
    "         lw=3.5, color=cm.get_cmap('cet_gray')(0.8), alpha=1.0, label='Train+Test')\n",
    "ax1.hist(validation_df.loc[:, target_feat], bins=score_bins, histtype='stepfilled', ec='k',\\\n",
    "         lw=3.5, color=cm.get_cmap('cet_gray')(0.95), alpha=1.0, label='Validation')\n",
    "\n",
    "ax1.axvline(x=gv.high_z_limit, ls='--', c='k', lw=2.5)\n",
    "    \n",
    "ax1.tick_params(which='both', top=True, right=True, direction='in')\n",
    "ax1.tick_params(axis='both', which='major', labelsize=14)\n",
    "ax1.tick_params(which='major', length=8, width=1.5)\n",
    "ax1.tick_params(which='minor', length=4, width=1.5)\n",
    "ax1.set_xlabel('Redshift', size=20)\n",
    "ax1.set_ylabel('Frequency', size=20)\n",
    "plt.setp(ax1.spines.values(), linewidth=3.5)\n",
    "plt.setp(ax1.spines.values(), linewidth=3.5)\n",
    "plt.legend(loc=1, fontsize=14)\n",
    "plt.grid(False)\n",
    "# ax1.set_xlim(left=min_score - 1e-2, right=max_score + 1e-2)\n",
    "#ax1.set_aspect('equal', 'box')\n",
    "fig.tight_layout()"
   ]
  },
  {
   "cell_type": "markdown",
   "id": "d6eb906e",
   "metadata": {},
   "source": [
    "Save indices of sources in validation sub-set for future steps."
   ]
  },
  {
   "cell_type": "code",
   "execution_count": 17,
   "id": "333abf15",
   "metadata": {},
   "outputs": [],
   "source": [
    "# val_idx = validation_df.index.to_numpy()\n",
    "# np.savetxt(fname='idx_validation_radio_01.txt', X=val_idx, header='Indices from first radio detection training.', fmt='%i')"
   ]
  },
  {
   "cell_type": "markdown",
   "id": "2cbbca41",
   "metadata": {},
   "source": [
    "---"
   ]
  },
  {
   "cell_type": "markdown",
   "id": "6b93cb17",
   "metadata": {},
   "source": [
    "## Use SMOGN for data augmentation at high redshifts"
   ]
  },
  {
   "cell_type": "code",
   "execution_count": 18,
   "id": "e59a55f9",
   "metadata": {
    "jupyter": {
     "source_hidden": true
    }
   },
   "outputs": [],
   "source": [
    "if run_smoter_flag:\n",
    "    backup_train_df = train_df.copy()"
   ]
  },
  {
   "cell_type": "code",
   "execution_count": 19,
   "id": "82d542ba",
   "metadata": {
    "jupyter": {
     "source_hidden": true
    }
   },
   "outputs": [],
   "source": [
    "if run_smoter_flag:\n",
    "    train_df = smogn.smoter(\n",
    "        \n",
    "        ## main arguments\n",
    "        data          = backup_train_df.reset_index(drop=True),  ## pandas dataframe\n",
    "        y             = target_feat,                             ## string ('header name')\n",
    "        k             = 10,                                      ## positive integer (k < n), 4\n",
    "        samp_method   = 'extreme',                               ## string ('balance' or 'extreme')\n",
    "        drop_na_col   = False,\n",
    "        drop_na_row   = False,\n",
    "        under_samp    = True,\n",
    "        seed          = gv.seed,\n",
    "        replace       = False,\n",
    "    \n",
    "        ## phi relevance arguments\n",
    "        rel_thres     = 0.85,                                    ## positive real number (0 < R < 1), 0.5\n",
    "        rel_method    = 'auto',                                  ## string ('auto' or 'manual')\n",
    "        rel_xtrm_type = 'both',                                  ## string ('low' or 'both' or 'high')\n",
    "        rel_coef      = 2.00                                     ## positive real number (0 < R), 2.85\n",
    "    )"
   ]
  },
  {
   "cell_type": "code",
   "execution_count": 20,
   "id": "a28c6a04",
   "metadata": {
    "jupyter": {
     "source_hidden": true
    }
   },
   "outputs": [],
   "source": [
    "if run_smoter_flag:\n",
    "    print('Shape of new used data (after SMOGN)')\n",
    "    print('-' * 40)\n",
    "    print(f'Data for Modeling (Train and Test): {train_df.shape}')\n",
    "    print('-' * 40)"
   ]
  },
  {
   "cell_type": "code",
   "execution_count": 21,
   "id": "1b2b3000",
   "metadata": {
    "jupyter": {
     "source_hidden": true
    },
    "tags": []
   },
   "outputs": [],
   "source": [
    "if run_smoter_flag:\n",
    "    fig             = plt.figure(figsize=(7,4.5))\n",
    "    ax1             = fig.add_subplot(111, xscale='linear', yscale='log')\n",
    "    \n",
    "    min_score  = np.nanmin(full_catalog_df.loc[:, target_feat])\n",
    "    max_score  = np.nanmax(full_catalog_df.loc[:, target_feat])\n",
    "    score_bins = np.linspace(min_score, max_score, 40)\n",
    "    \n",
    "    ax1.hist(train_df.loc[:, target_feat], bins=score_bins, histtype='stepfilled', ec='k',\\\n",
    "             lw=3.5, color=cm.get_cmap('cet_gray')(0.95), alpha=1.0, label='SMOGN Train')\n",
    "    ax1.hist(backup_train_df.loc[:, target_feat], bins=score_bins, histtype='stepfilled', ec='k',\\\n",
    "             lw=3.5, color=cm.get_cmap('cet_gray')(0.8), alpha=0.75, label='Original Train')\n",
    "    \n",
    "    ax1.axvline(x=redshift_low_lim, ls='--', c='k', lw=2.5)\n",
    "        \n",
    "    ax1.tick_params(which='both', top=True, right=True, direction='in')\n",
    "    ax1.tick_params(axis='both', which='major', labelsize=14)\n",
    "    ax1.tick_params(which='major', length=8, width=1.5)\n",
    "    ax1.tick_params(which='minor', length=4, width=1.5)\n",
    "    ax1.set_xlabel('Redshift', size=20)\n",
    "    ax1.set_ylabel('Frequency', size=20)\n",
    "    plt.setp(ax1.spines.values(), linewidth=3.5)\n",
    "    plt.setp(ax1.spines.values(), linewidth=3.5)\n",
    "    plt.legend(loc=1, fontsize=14)\n",
    "    plt.grid(False)\n",
    "    # ax1.set_xlim(left=min_score - 1e-2, right=max_score + 1e-2)\n",
    "    #ax1.set_aspect('equal', 'box')\n",
    "    fig.tight_layout()"
   ]
  },
  {
   "cell_type": "markdown",
   "id": "d0dc95d4",
   "metadata": {},
   "source": [
    "---"
   ]
  },
  {
   "cell_type": "markdown",
   "id": "dfeedb2e",
   "metadata": {},
   "source": [
    "## Use Correlation matrix to discard some features"
   ]
  },
  {
   "cell_type": "code",
   "execution_count": 22,
   "id": "4b83e5da",
   "metadata": {
    "jupyter": {
     "source_hidden": true
    },
    "tags": []
   },
   "outputs": [],
   "source": [
    "min_max_scaler              = MinMaxScaler(feature_range=(0., 1.))\n",
    "full_scaled                 = min_max_scaler.fit_transform(train_test_df.values)\n",
    "norm_train_test_df = pd.DataFrame(data=full_scaled, columns=train_test_df.columns, index=train_test_df.index)"
   ]
  },
  {
   "cell_type": "markdown",
   "id": "774d7a54",
   "metadata": {},
   "source": [
    "Calculate Reduced Standard deviation to discard between pairs of features:  \n",
    "\n",
    "$$\\mathrm{RSD} = \\frac{\\sigma}{\\mu} \\times 100$$"
   ]
  },
  {
   "cell_type": "code",
   "execution_count": 23,
   "id": "eeae5242",
   "metadata": {
    "jupyter": {
     "source_hidden": true
    }
   },
   "outputs": [],
   "source": [
    "rsd_vals = (train_test_df.std() / train_test_df.mean() * 100).sort_values(ascending=False)"
   ]
  },
  {
   "cell_type": "code",
   "execution_count": 24,
   "id": "c01bc4c6",
   "metadata": {},
   "outputs": [
    {
     "data": {
      "text/plain": [
       "K_W3        613.547420\n",
       "z_y         371.175904\n",
       "r_i         177.415317\n",
       "i_z         146.221847\n",
       "g_r         136.843051\n",
       "i_y         136.158555\n",
       "g_i         121.147048\n",
       "y_W1        110.969910\n",
       "r_z         107.595446\n",
       "r_y         104.978492\n",
       "g_z          89.195254\n",
       "g_y          88.440907\n",
       "z_W1         85.030304\n",
       "y_W2         73.597522\n",
       "W1_W2        71.552600\n",
       "i_W1         69.728578\n",
       "r_W1         65.471384\n",
       "g_W1         65.247597\n",
       "z_W2         59.974403\n",
       "i_W2         53.831564\n",
       "g_W2         51.380927\n",
       "r_W2         51.316939\n",
       "H_W3         45.639853\n",
       "y_J          44.797565\n",
       "y_H          41.212351\n",
       "z_J          40.686465\n",
       "i_J          38.858908\n",
       "z_H          37.579317\n",
       "r_J          36.697153\n",
       "i_H          36.100765\n",
       "g_J          35.639966\n",
       "J_W3         34.922256\n",
       "r_H          34.230442\n",
       "g_H          33.450661\n",
       "y_K          33.113730\n",
       "z_K          30.480619\n",
       "i_K          29.656921\n",
       "y_W3         28.473827\n",
       "r_K          28.368162\n",
       "g_K          28.107940\n",
       "z_W3         25.887505\n",
       "i_W3         25.427431\n",
       "g_W3         25.097762\n",
       "W2_W3        24.834143\n",
       "r_W3         24.498306\n",
       "W1_W3        22.303182\n",
       "y_W4         20.127452\n",
       "Z            19.768228\n",
       "z_W4         18.749694\n",
       "i_W4         18.643968\n",
       "g_W4         18.491008\n",
       "r_W4         18.119888\n",
       "W2_W4        17.595760\n",
       "W1_W4        16.221600\n",
       "W3_W4        15.140708\n",
       "band_num     14.050205\n",
       "J_H          11.798705\n",
       "H_K           8.945025\n",
       "J_K           8.229043\n",
       "gmag          5.359526\n",
       "ymag          5.304902\n",
       "imag          5.123170\n",
       "rmag          5.075416\n",
       "zmag          5.026048\n",
       "W2mproPM      4.111456\n",
       "W1mproPM      3.996735\n",
       "K_W4          3.597608\n",
       "J_W4          3.254236\n",
       "H_W4          3.249726\n",
       "W3mag         2.000401\n",
       "Jmag          0.538099\n",
       "W4mag         0.535408\n",
       "Hmag          0.480952\n",
       "Kmag          0.176497\n",
       "K_W1        -29.040942\n",
       "K_W2        -33.419671\n",
       "H_W1        -37.880582\n",
       "J_W1        -42.089369\n",
       "H_W2        -45.765189\n",
       "J_W2        -52.068619\n",
       "dtype: float64"
      ]
     },
     "execution_count": 24,
     "metadata": {},
     "output_type": "execute_result"
    }
   ],
   "source": [
    "rsd_vals"
   ]
  },
  {
   "cell_type": "code",
   "execution_count": 25,
   "id": "20df6c17",
   "metadata": {},
   "outputs": [],
   "source": [
    "correlation = norm_train_test_df.corr()"
   ]
  },
  {
   "cell_type": "code",
   "execution_count": 26,
   "id": "a3b95538",
   "metadata": {
    "jupyter": {
     "source_hidden": true
    },
    "tags": []
   },
   "outputs": [],
   "source": [
    "filt_high_corr = np.array(correlation.abs().unstack().sort_values(ascending=False).drop_duplicates().values > 0.75) &\\\n",
    "np.array(correlation.abs().unstack().sort_values(ascending=False).drop_duplicates().values < 1.00)"
   ]
  },
  {
   "cell_type": "code",
   "execution_count": 27,
   "id": "ce2c7214",
   "metadata": {
    "jupyter": {
     "source_hidden": true
    },
    "tags": []
   },
   "outputs": [],
   "source": [
    "corr_pairs     = correlation.abs().unstack().sort_values(ascending=False).drop_duplicates().index[filt_high_corr]"
   ]
  },
  {
   "cell_type": "code",
   "execution_count": 28,
   "id": "bf5e92ec",
   "metadata": {
    "jupyter": {
     "source_hidden": true
    },
    "tags": []
   },
   "outputs": [],
   "source": [
    "list_drop_corr = []"
   ]
  },
  {
   "cell_type": "markdown",
   "id": "a046899b",
   "metadata": {},
   "source": [
    "We want to discard features that are highly correlated (>0.75).  \n",
    "Between two features, we will discard the one with the lowest standard deviation (RSD)."
   ]
  },
  {
   "cell_type": "code",
   "execution_count": 29,
   "id": "5ee505db",
   "metadata": {
    "jupyter": {
     "source_hidden": true
    },
    "tags": []
   },
   "outputs": [],
   "source": [
    "for row in corr_pairs:\n",
    "    if target_feat in row:\n",
    "        continue\n",
    "    elif row[0] in list_drop_corr:\n",
    "        continue\n",
    "    elif row[1] in list_drop_corr:\n",
    "        continue\n",
    "    else:\n",
    "        metric_a = rsd_vals[row[0]]\n",
    "        metric_b = rsd_vals[row[1]]\n",
    "        if metric_a >= metric_b:\n",
    "            list_drop_corr.append(row[1])\n",
    "        else:\n",
    "            list_drop_corr.append(row[0])"
   ]
  },
  {
   "cell_type": "code",
   "execution_count": 30,
   "id": "4e8d5ee1",
   "metadata": {},
   "outputs": [
    {
     "data": {
      "text/plain": [
       "['g_H',\n",
       " 'y_H',\n",
       " 'i_H',\n",
       " 'r_H',\n",
       " 'z_H',\n",
       " 'gmag',\n",
       " 'ymag',\n",
       " 'imag',\n",
       " 'rmag',\n",
       " 'zmag',\n",
       " 'J_W2',\n",
       " 'J_W1',\n",
       " 'K_W2',\n",
       " 'K_W1',\n",
       " 'g_K',\n",
       " 'y_K',\n",
       " 'i_K',\n",
       " 'r_K',\n",
       " 'z_K',\n",
       " 'J_W3',\n",
       " 'g_W4',\n",
       " 'W3mag',\n",
       " 'y_W4',\n",
       " 'i_W4',\n",
       " 'r_W4',\n",
       " 'z_W4',\n",
       " 'W2mproPM',\n",
       " 'W1mproPM',\n",
       " 'H_W2',\n",
       " 'H_W1',\n",
       " 'H_W3',\n",
       " 'W3_W4',\n",
       " 'Jmag',\n",
       " 'Hmag',\n",
       " 'H_W4',\n",
       " 'r_J',\n",
       " 'g_W2',\n",
       " 'i_J',\n",
       " 'g_W3',\n",
       " 'W1_W4',\n",
       " 'r_W3',\n",
       " 'y_W3',\n",
       " 'i_W3',\n",
       " 'z_W3',\n",
       " 'J_K',\n",
       " 'r_W2',\n",
       " 'W2_W4',\n",
       " 'y_W2',\n",
       " 'i_W2',\n",
       " 'W1_W3',\n",
       " 'W4mag',\n",
       " 'z_J',\n",
       " 'z_W2',\n",
       " 'r_W1',\n",
       " 'g_i',\n",
       " 'i_W1',\n",
       " 'r_y',\n",
       " 'g_J',\n",
       " 'Kmag',\n",
       " 'g_y',\n",
       " 'W2_W3',\n",
       " 'g_z',\n",
       " 'i_y']"
      ]
     },
     "execution_count": 30,
     "metadata": {},
     "output_type": "execute_result"
    }
   ],
   "source": [
    "list_drop_corr"
   ]
  },
  {
   "cell_type": "code",
   "execution_count": 31,
   "id": "226da75a",
   "metadata": {},
   "outputs": [],
   "source": [
    "# correlation.abs().unstack().sort_values(ascending=False).drop_duplicates()[:15]"
   ]
  },
  {
   "cell_type": "code",
   "execution_count": 32,
   "id": "e0773cfc",
   "metadata": {},
   "outputs": [],
   "source": [
    "norm_train_test_discard = norm_train_test_df.drop(columns=list_drop_corr)"
   ]
  },
  {
   "cell_type": "code",
   "execution_count": 33,
   "id": "b0456e1b",
   "metadata": {},
   "outputs": [],
   "source": [
    "corr_discard = norm_train_test_discard.corr()"
   ]
  },
  {
   "cell_type": "code",
   "execution_count": 34,
   "id": "98de9087",
   "metadata": {},
   "outputs": [
    {
     "data": {
      "text/plain": [
       "Z         Z       1.000000\n",
       "y_W1      z_W1    0.741658\n",
       "z_W1      g_W1    0.731580\n",
       "y_J       y_W1    0.701786\n",
       "band_num  y_J     0.694666\n",
       "r_z       i_z     0.683218\n",
       "g_W1      g_r     0.662374\n",
       "r_i       r_z     0.660561\n",
       "J_W4      K_W4    0.657673\n",
       "H_K       J_W4    0.614013\n",
       "g_W1      y_W1    0.610524\n",
       "K_W4      K_W3    0.560720\n",
       "K_W3      y_J     0.524851\n",
       "W1_W2     Z       0.522987\n",
       "y_J       z_W1    0.519680\n",
       "dtype: float64"
      ]
     },
     "execution_count": 34,
     "metadata": {},
     "output_type": "execute_result"
    }
   ],
   "source": [
    "corr_discard.abs().unstack().sort_values(ascending=False).drop_duplicates()[:15]"
   ]
  },
  {
   "cell_type": "code",
   "execution_count": 35,
   "id": "299709b6",
   "metadata": {
    "jupyter": {
     "source_hidden": true
    },
    "tags": []
   },
   "outputs": [
    {
     "data": {
      "text/plain": [
       "Text(1052.0930609538775, 0.5, 'feature')"
      ]
     },
     "execution_count": 35,
     "metadata": {},
     "output_type": "execute_result"
    },
    {
     "data": {
      "image/png": "[encoded data removed]",
      "text/plain": [
       "<Figure size 3000x1500 with 2 Axes>"
      ]
     },
     "metadata": {},
     "output_type": "display_data"
    }
   ],
   "source": [
    "plt.figure(figsize=(30,15))\n",
    "sns.set_context('paper', rc={'axes.labelsize':20, 'axes.ticklabelsize':14})\n",
    "ax1 = sns.heatmap(corr_discard, annot=True, cmap=plt.get_cmap('cet_CET_D1A'), center=0.0, square=True)\n",
    "ax1.set_xlabel('feature')\n",
    "ax1.set_ylabel('feature')"
   ]
  },
  {
   "cell_type": "code",
   "execution_count": 36,
   "id": "b7629369",
   "metadata": {},
   "outputs": [],
   "source": [
    "# norm_train_test_discard.loc[:, target_feat] = norm_train_test_discard.loc[:, target_feat].astype(bool)"
   ]
  },
  {
   "cell_type": "code",
   "execution_count": 37,
   "id": "137933f9",
   "metadata": {},
   "outputs": [],
   "source": [
    "pps_matrix = pps.matrix(norm_train_test_discard, random_seed=gv.seed)[['x', 'y', 'ppscore']].pivot(columns='x', index='y', values='ppscore')"
   ]
  },
  {
   "cell_type": "code",
   "execution_count": 38,
   "id": "8ad740cc",
   "metadata": {},
   "outputs": [
    {
     "data": {
      "text/plain": [
       "x         y       \n",
       "H_K       H_K         1.000000\n",
       "band_num  y_J         0.450071\n",
       "J_W4      K_W4        0.374800\n",
       "band_num  y_W1        0.351022\n",
       "y_W1      z_W1        0.253188\n",
       "band_num  z_y         0.248785\n",
       "z_W1      y_W1        0.228175\n",
       "y_J       band_num    0.218679\n",
       "z_W1      g_W1        0.214056\n",
       "y_W1      y_J         0.212256\n",
       "z_y       y_J         0.202135\n",
       "y_J       y_W1        0.191760\n",
       "K_W4      J_W4        0.185589\n",
       "K_W3      K_W4        0.184153\n",
       "g_W1      z_W1        0.177962\n",
       "band_num  z_W1        0.129575\n",
       "K_W3      y_J         0.116048\n",
       "y_W1      g_W1        0.115257\n",
       "z_y       y_W1        0.087503\n",
       "r_z       i_z         0.069386\n",
       "dtype: float64"
      ]
     },
     "execution_count": 38,
     "metadata": {},
     "output_type": "execute_result"
    }
   ],
   "source": [
    "pps_matrix.unstack().sort_values(ascending=False).drop_duplicates()[:20]"
   ]
  },
  {
   "cell_type": "code",
   "execution_count": 39,
   "id": "496c704a",
   "metadata": {
    "jupyter": {
     "source_hidden": true
    },
    "tags": []
   },
   "outputs": [],
   "source": [
    "filt_high_pps = np.array(pps_matrix.abs().unstack().sort_values(ascending=False).drop_duplicates().values > 0.75) &\\\n",
    "np.array(pps_matrix.abs().unstack().sort_values(ascending=False).drop_duplicates().values < 1.00)"
   ]
  },
  {
   "cell_type": "code",
   "execution_count": 40,
   "id": "234479cc",
   "metadata": {},
   "outputs": [],
   "source": [
    "pps_pairs     = pps_matrix.abs().unstack().sort_values(ascending=False).drop_duplicates().index[filt_high_pps]"
   ]
  },
  {
   "cell_type": "code",
   "execution_count": 41,
   "id": "f74f3bb5",
   "metadata": {
    "tags": []
   },
   "outputs": [],
   "source": [
    "list_drop_pps = []"
   ]
  },
  {
   "cell_type": "code",
   "execution_count": 42,
   "id": "fc91b122",
   "metadata": {
    "jupyter": {
     "source_hidden": true
    },
    "tags": []
   },
   "outputs": [],
   "source": [
    "for row in pps_pairs:\n",
    "    if target_feat in row:\n",
    "        continue\n",
    "    elif row[0] in list_drop_pps:\n",
    "        continue\n",
    "    elif row[1] in list_drop_pps:\n",
    "        continue\n",
    "    else:\n",
    "        metric_a = rsd_vals[row[0]]\n",
    "        metric_b = rsd_vals[row[1]]\n",
    "        if metric_a >= metric_b:\n",
    "            list_drop_pps.append(row[1])\n",
    "        else:\n",
    "            list_drop_pps.append(row[0])"
   ]
  },
  {
   "cell_type": "code",
   "execution_count": 43,
   "id": "4aebca7f",
   "metadata": {},
   "outputs": [
    {
     "data": {
      "text/plain": [
       "[]"
      ]
     },
     "execution_count": 43,
     "metadata": {},
     "output_type": "execute_result"
    }
   ],
   "source": [
    "list_drop_pps"
   ]
  },
  {
   "cell_type": "code",
   "execution_count": 44,
   "id": "f2e0c185",
   "metadata": {},
   "outputs": [],
   "source": [
    "norm_train_test_discard = norm_train_test_discard.drop(columns=list_drop_pps)"
   ]
  },
  {
   "cell_type": "code",
   "execution_count": 45,
   "id": "c306d708",
   "metadata": {},
   "outputs": [],
   "source": [
    "pps_pred_target = pps.predictors(norm_train_test_discard, target_feat, random_seed=gv.seed)"
   ]
  },
  {
   "cell_type": "code",
   "execution_count": 46,
   "id": "137195ad",
   "metadata": {},
   "outputs": [
    {
     "data": {
      "text/html": [
       "<div>\n",
       "<style scoped>\n",
       "    .dataframe tbody tr th:only-of-type {\n",
       "        vertical-align: middle;\n",
       "    }\n",
       "\n",
       "    .dataframe tbody tr th {\n",
       "        vertical-align: top;\n",
       "    }\n",
       "\n",
       "    .dataframe thead th {\n",
       "        text-align: right;\n",
       "    }\n",
       "</style>\n",
       "<table border=\"1\" class=\"dataframe\">\n",
       "  <thead>\n",
       "    <tr style=\"text-align: right;\">\n",
       "      <th></th>\n",
       "      <th>x</th>\n",
       "      <th>y</th>\n",
       "      <th>ppscore</th>\n",
       "      <th>case</th>\n",
       "      <th>is_valid_score</th>\n",
       "      <th>metric</th>\n",
       "      <th>baseline_score</th>\n",
       "      <th>model_score</th>\n",
       "      <th>model</th>\n",
       "    </tr>\n",
       "  </thead>\n",
       "  <tbody>\n",
       "    <tr>\n",
       "      <th>0</th>\n",
       "      <td>band_num</td>\n",
       "      <td>Z</td>\n",
       "      <td>0</td>\n",
       "      <td>regression</td>\n",
       "      <td>True</td>\n",
       "      <td>mean absolute error</td>\n",
       "      <td>0.08602</td>\n",
       "      <td>0.090377</td>\n",
       "      <td>DecisionTreeRegressor()</td>\n",
       "    </tr>\n",
       "    <tr>\n",
       "      <th>1</th>\n",
       "      <td>g_r</td>\n",
       "      <td>Z</td>\n",
       "      <td>0</td>\n",
       "      <td>regression</td>\n",
       "      <td>True</td>\n",
       "      <td>mean absolute error</td>\n",
       "      <td>0.08602</td>\n",
       "      <td>0.103104</td>\n",
       "      <td>DecisionTreeRegressor()</td>\n",
       "    </tr>\n",
       "    <tr>\n",
       "      <th>2</th>\n",
       "      <td>g_W1</td>\n",
       "      <td>Z</td>\n",
       "      <td>0</td>\n",
       "      <td>regression</td>\n",
       "      <td>True</td>\n",
       "      <td>mean absolute error</td>\n",
       "      <td>0.08602</td>\n",
       "      <td>0.121516</td>\n",
       "      <td>DecisionTreeRegressor()</td>\n",
       "    </tr>\n",
       "    <tr>\n",
       "      <th>3</th>\n",
       "      <td>r_i</td>\n",
       "      <td>Z</td>\n",
       "      <td>0</td>\n",
       "      <td>regression</td>\n",
       "      <td>True</td>\n",
       "      <td>mean absolute error</td>\n",
       "      <td>0.08602</td>\n",
       "      <td>0.118249</td>\n",
       "      <td>DecisionTreeRegressor()</td>\n",
       "    </tr>\n",
       "    <tr>\n",
       "      <th>4</th>\n",
       "      <td>r_z</td>\n",
       "      <td>Z</td>\n",
       "      <td>0</td>\n",
       "      <td>regression</td>\n",
       "      <td>True</td>\n",
       "      <td>mean absolute error</td>\n",
       "      <td>0.08602</td>\n",
       "      <td>0.113793</td>\n",
       "      <td>DecisionTreeRegressor()</td>\n",
       "    </tr>\n",
       "    <tr>\n",
       "      <th>5</th>\n",
       "      <td>i_z</td>\n",
       "      <td>Z</td>\n",
       "      <td>0</td>\n",
       "      <td>regression</td>\n",
       "      <td>True</td>\n",
       "      <td>mean absolute error</td>\n",
       "      <td>0.08602</td>\n",
       "      <td>0.106148</td>\n",
       "      <td>DecisionTreeRegressor()</td>\n",
       "    </tr>\n",
       "    <tr>\n",
       "      <th>6</th>\n",
       "      <td>z_y</td>\n",
       "      <td>Z</td>\n",
       "      <td>0</td>\n",
       "      <td>regression</td>\n",
       "      <td>True</td>\n",
       "      <td>mean absolute error</td>\n",
       "      <td>0.08602</td>\n",
       "      <td>0.120561</td>\n",
       "      <td>DecisionTreeRegressor()</td>\n",
       "    </tr>\n",
       "    <tr>\n",
       "      <th>7</th>\n",
       "      <td>z_W1</td>\n",
       "      <td>Z</td>\n",
       "      <td>0</td>\n",
       "      <td>regression</td>\n",
       "      <td>True</td>\n",
       "      <td>mean absolute error</td>\n",
       "      <td>0.08602</td>\n",
       "      <td>0.120118</td>\n",
       "      <td>DecisionTreeRegressor()</td>\n",
       "    </tr>\n",
       "    <tr>\n",
       "      <th>8</th>\n",
       "      <td>y_J</td>\n",
       "      <td>Z</td>\n",
       "      <td>0</td>\n",
       "      <td>regression</td>\n",
       "      <td>True</td>\n",
       "      <td>mean absolute error</td>\n",
       "      <td>0.08602</td>\n",
       "      <td>0.112964</td>\n",
       "      <td>DecisionTreeRegressor()</td>\n",
       "    </tr>\n",
       "    <tr>\n",
       "      <th>9</th>\n",
       "      <td>y_W1</td>\n",
       "      <td>Z</td>\n",
       "      <td>0</td>\n",
       "      <td>regression</td>\n",
       "      <td>True</td>\n",
       "      <td>mean absolute error</td>\n",
       "      <td>0.08602</td>\n",
       "      <td>0.120952</td>\n",
       "      <td>DecisionTreeRegressor()</td>\n",
       "    </tr>\n",
       "    <tr>\n",
       "      <th>10</th>\n",
       "      <td>J_H</td>\n",
       "      <td>Z</td>\n",
       "      <td>0</td>\n",
       "      <td>regression</td>\n",
       "      <td>True</td>\n",
       "      <td>mean absolute error</td>\n",
       "      <td>0.08602</td>\n",
       "      <td>0.090456</td>\n",
       "      <td>DecisionTreeRegressor()</td>\n",
       "    </tr>\n",
       "    <tr>\n",
       "      <th>11</th>\n",
       "      <td>J_W4</td>\n",
       "      <td>Z</td>\n",
       "      <td>0</td>\n",
       "      <td>regression</td>\n",
       "      <td>True</td>\n",
       "      <td>mean absolute error</td>\n",
       "      <td>0.08602</td>\n",
       "      <td>0.090642</td>\n",
       "      <td>DecisionTreeRegressor()</td>\n",
       "    </tr>\n",
       "    <tr>\n",
       "      <th>12</th>\n",
       "      <td>H_K</td>\n",
       "      <td>Z</td>\n",
       "      <td>0</td>\n",
       "      <td>regression</td>\n",
       "      <td>True</td>\n",
       "      <td>mean absolute error</td>\n",
       "      <td>0.08602</td>\n",
       "      <td>0.090225</td>\n",
       "      <td>DecisionTreeRegressor()</td>\n",
       "    </tr>\n",
       "    <tr>\n",
       "      <th>13</th>\n",
       "      <td>K_W3</td>\n",
       "      <td>Z</td>\n",
       "      <td>0</td>\n",
       "      <td>regression</td>\n",
       "      <td>True</td>\n",
       "      <td>mean absolute error</td>\n",
       "      <td>0.08602</td>\n",
       "      <td>0.096735</td>\n",
       "      <td>DecisionTreeRegressor()</td>\n",
       "    </tr>\n",
       "    <tr>\n",
       "      <th>14</th>\n",
       "      <td>K_W4</td>\n",
       "      <td>Z</td>\n",
       "      <td>0</td>\n",
       "      <td>regression</td>\n",
       "      <td>True</td>\n",
       "      <td>mean absolute error</td>\n",
       "      <td>0.08602</td>\n",
       "      <td>0.091200</td>\n",
       "      <td>DecisionTreeRegressor()</td>\n",
       "    </tr>\n",
       "    <tr>\n",
       "      <th>15</th>\n",
       "      <td>W1_W2</td>\n",
       "      <td>Z</td>\n",
       "      <td>0</td>\n",
       "      <td>regression</td>\n",
       "      <td>True</td>\n",
       "      <td>mean absolute error</td>\n",
       "      <td>0.08602</td>\n",
       "      <td>0.094533</td>\n",
       "      <td>DecisionTreeRegressor()</td>\n",
       "    </tr>\n",
       "  </tbody>\n",
       "</table>\n",
       "</div>"
      ],
      "text/plain": [
       "           x  y  ppscore        case  is_valid_score               metric  \\\n",
       "0   band_num  Z        0  regression            True  mean absolute error   \n",
       "1        g_r  Z        0  regression            True  mean absolute error   \n",
       "2       g_W1  Z        0  regression            True  mean absolute error   \n",
       "3        r_i  Z        0  regression            True  mean absolute error   \n",
       "4        r_z  Z        0  regression            True  mean absolute error   \n",
       "5        i_z  Z        0  regression            True  mean absolute error   \n",
       "6        z_y  Z        0  regression            True  mean absolute error   \n",
       "7       z_W1  Z        0  regression            True  mean absolute error   \n",
       "8        y_J  Z        0  regression            True  mean absolute error   \n",
       "9       y_W1  Z        0  regression            True  mean absolute error   \n",
       "10       J_H  Z        0  regression            True  mean absolute error   \n",
       "11      J_W4  Z        0  regression            True  mean absolute error   \n",
       "12       H_K  Z        0  regression            True  mean absolute error   \n",
       "13      K_W3  Z        0  regression            True  mean absolute error   \n",
       "14      K_W4  Z        0  regression            True  mean absolute error   \n",
       "15     W1_W2  Z        0  regression            True  mean absolute error   \n",
       "\n",
       "    baseline_score  model_score                    model  \n",
       "0          0.08602     0.090377  DecisionTreeRegressor()  \n",
       "1          0.08602     0.103104  DecisionTreeRegressor()  \n",
       "2          0.08602     0.121516  DecisionTreeRegressor()  \n",
       "3          0.08602     0.118249  DecisionTreeRegressor()  \n",
       "4          0.08602     0.113793  DecisionTreeRegressor()  \n",
       "5          0.08602     0.106148  DecisionTreeRegressor()  \n",
       "6          0.08602     0.120561  DecisionTreeRegressor()  \n",
       "7          0.08602     0.120118  DecisionTreeRegressor()  \n",
       "8          0.08602     0.112964  DecisionTreeRegressor()  \n",
       "9          0.08602     0.120952  DecisionTreeRegressor()  \n",
       "10         0.08602     0.090456  DecisionTreeRegressor()  \n",
       "11         0.08602     0.090642  DecisionTreeRegressor()  \n",
       "12         0.08602     0.090225  DecisionTreeRegressor()  \n",
       "13         0.08602     0.096735  DecisionTreeRegressor()  \n",
       "14         0.08602     0.091200  DecisionTreeRegressor()  \n",
       "15         0.08602     0.094533  DecisionTreeRegressor()  "
      ]
     },
     "execution_count": 46,
     "metadata": {},
     "output_type": "execute_result"
    }
   ],
   "source": [
    "pps_pred_target"
   ]
  },
  {
   "cell_type": "markdown",
   "id": "230526e8",
   "metadata": {
    "id": "f567638a-2720-4d09-8fc4-0832c0307148"
   },
   "source": [
    "---"
   ]
  },
  {
   "cell_type": "markdown",
   "id": "c022a8b0",
   "metadata": {
    "id": "1b55b413-36ea-4c3a-b261-ae4f4b71045d"
   },
   "source": [
    "## Use Machine Learning (ML): PyCaret"
   ]
  },
  {
   "cell_type": "markdown",
   "id": "21e1702c",
   "metadata": {
    "id": "8BFUMLcApfnI"
   },
   "source": [
    "## Train Models"
   ]
  },
  {
   "cell_type": "markdown",
   "id": "1778b8b6",
   "metadata": {
    "id": "L0rK_gTcprFK"
   },
   "source": [
    "### AGN Detection Prediction"
   ]
  },
  {
   "cell_type": "code",
   "execution_count": 47,
   "id": "d8759f74",
   "metadata": {},
   "outputs": [],
   "source": [
    "final_feats = pps_pred_target.x.to_list()  # Before Boruta\n",
    "final_feats.remove('band_num')  # After Boruta\n",
    "final_feats.remove('y_J')       # After Boruta\n",
    "final_feats.remove('J_H')       # After Boruta\n",
    "final_feats.remove('J_W4')      # After Boruta\n",
    "final_feats.remove('H_K')       # After Boruta\n",
    "final_feats.remove('K_W3')      # After Boruta\n",
    "final_feats.remove('K_W4')      # After Boruta"
   ]
  },
  {
   "cell_type": "code",
   "execution_count": 48,
   "id": "6550afec",
   "metadata": {},
   "outputs": [],
   "source": [
    "# feats_2_discard = list_drop_corr + list_drop_pps\n",
    "feats_2_discard = list_drop_corr + list_drop_pps + ['band_num', 'y_J', 'J_H', 'J_W4', 'H_K', 'K_W3', 'K_W4']"
   ]
  },
  {
   "cell_type": "markdown",
   "id": "54654f55",
   "metadata": {},
   "source": [
    "Boruta discards one feature."
   ]
  },
  {
   "cell_type": "code",
   "execution_count": 49,
   "id": "821eac86",
   "metadata": {
    "id": "ttLEcpmVst4j"
   },
   "outputs": [
    {
     "data": {
      "text/html": [
       "<style type=\"text/css\">\n",
       "#T_57c7f_row27_col1, #T_57c7f_row29_col1, #T_57c7f_row42_col1 {\n",
       "  background-color: lightgreen;\n",
       "}\n",
       "</style>\n",
       "<table id=\"T_57c7f\">\n",
       "  <thead>\n",
       "    <tr>\n",
       "      <th class=\"blank level0\" >&nbsp;</th>\n",
       "      <th id=\"T_57c7f_level0_col0\" class=\"col_heading level0 col0\" >Description</th>\n",
       "      <th id=\"T_57c7f_level0_col1\" class=\"col_heading level0 col1\" >Value</th>\n",
       "    </tr>\n",
       "  </thead>\n",
       "  <tbody>\n",
       "    <tr>\n",
       "      <th id=\"T_57c7f_level0_row0\" class=\"row_heading level0 row0\" >0</th>\n",
       "      <td id=\"T_57c7f_row0_col0\" class=\"data row0 col0\" >session_id</td>\n",
       "      <td id=\"T_57c7f_row0_col1\" class=\"data row0 col1\" >42</td>\n",
       "    </tr>\n",
       "    <tr>\n",
       "      <th id=\"T_57c7f_level0_row1\" class=\"row_heading level0 row1\" >1</th>\n",
       "      <td id=\"T_57c7f_row1_col0\" class=\"data row1 col0\" >Target</td>\n",
       "      <td id=\"T_57c7f_row1_col1\" class=\"data row1 col1\" >Z</td>\n",
       "    </tr>\n",
       "    <tr>\n",
       "      <th id=\"T_57c7f_level0_row2\" class=\"row_heading level0 row2\" >2</th>\n",
       "      <td id=\"T_57c7f_row2_col0\" class=\"data row2 col0\" >Original Data</td>\n",
       "      <td id=\"T_57c7f_row2_col1\" class=\"data row2 col1\" >(1175, 80)</td>\n",
       "    </tr>\n",
       "    <tr>\n",
       "      <th id=\"T_57c7f_level0_row3\" class=\"row_heading level0 row3\" >3</th>\n",
       "      <td id=\"T_57c7f_row3_col0\" class=\"data row3 col0\" >Missing Values</td>\n",
       "      <td id=\"T_57c7f_row3_col1\" class=\"data row3 col1\" >False</td>\n",
       "    </tr>\n",
       "    <tr>\n",
       "      <th id=\"T_57c7f_level0_row4\" class=\"row_heading level0 row4\" >4</th>\n",
       "      <td id=\"T_57c7f_row4_col0\" class=\"data row4 col0\" >Numeric Features</td>\n",
       "      <td id=\"T_57c7f_row4_col1\" class=\"data row4 col1\" >9</td>\n",
       "    </tr>\n",
       "    <tr>\n",
       "      <th id=\"T_57c7f_level0_row5\" class=\"row_heading level0 row5\" >5</th>\n",
       "      <td id=\"T_57c7f_row5_col0\" class=\"data row5 col0\" >Categorical Features</td>\n",
       "      <td id=\"T_57c7f_row5_col1\" class=\"data row5 col1\" >0</td>\n",
       "    </tr>\n",
       "    <tr>\n",
       "      <th id=\"T_57c7f_level0_row6\" class=\"row_heading level0 row6\" >6</th>\n",
       "      <td id=\"T_57c7f_row6_col0\" class=\"data row6 col0\" >Ordinal Features</td>\n",
       "      <td id=\"T_57c7f_row6_col1\" class=\"data row6 col1\" >False</td>\n",
       "    </tr>\n",
       "    <tr>\n",
       "      <th id=\"T_57c7f_level0_row7\" class=\"row_heading level0 row7\" >7</th>\n",
       "      <td id=\"T_57c7f_row7_col0\" class=\"data row7 col0\" >High Cardinality Features</td>\n",
       "      <td id=\"T_57c7f_row7_col1\" class=\"data row7 col1\" >False</td>\n",
       "    </tr>\n",
       "    <tr>\n",
       "      <th id=\"T_57c7f_level0_row8\" class=\"row_heading level0 row8\" >8</th>\n",
       "      <td id=\"T_57c7f_row8_col0\" class=\"data row8 col0\" >High Cardinality Method</td>\n",
       "      <td id=\"T_57c7f_row8_col1\" class=\"data row8 col1\" >None</td>\n",
       "    </tr>\n",
       "    <tr>\n",
       "      <th id=\"T_57c7f_level0_row9\" class=\"row_heading level0 row9\" >9</th>\n",
       "      <td id=\"T_57c7f_row9_col0\" class=\"data row9 col0\" >Transformed Train Set</td>\n",
       "      <td id=\"T_57c7f_row9_col1\" class=\"data row9 col1\" >(1175, 9)</td>\n",
       "    </tr>\n",
       "    <tr>\n",
       "      <th id=\"T_57c7f_level0_row10\" class=\"row_heading level0 row10\" >10</th>\n",
       "      <td id=\"T_57c7f_row10_col0\" class=\"data row10 col0\" >Transformed Test Set</td>\n",
       "      <td id=\"T_57c7f_row10_col1\" class=\"data row10 col1\" >(170, 9)</td>\n",
       "    </tr>\n",
       "    <tr>\n",
       "      <th id=\"T_57c7f_level0_row11\" class=\"row_heading level0 row11\" >11</th>\n",
       "      <td id=\"T_57c7f_row11_col0\" class=\"data row11 col0\" >Shuffle Train-Test</td>\n",
       "      <td id=\"T_57c7f_row11_col1\" class=\"data row11 col1\" >True</td>\n",
       "    </tr>\n",
       "    <tr>\n",
       "      <th id=\"T_57c7f_level0_row12\" class=\"row_heading level0 row12\" >12</th>\n",
       "      <td id=\"T_57c7f_row12_col0\" class=\"data row12 col0\" >Stratify Train-Test</td>\n",
       "      <td id=\"T_57c7f_row12_col1\" class=\"data row12 col1\" >False</td>\n",
       "    </tr>\n",
       "    <tr>\n",
       "      <th id=\"T_57c7f_level0_row13\" class=\"row_heading level0 row13\" >13</th>\n",
       "      <td id=\"T_57c7f_row13_col0\" class=\"data row13 col0\" >Fold Generator</td>\n",
       "      <td id=\"T_57c7f_row13_col1\" class=\"data row13 col1\" >KFold</td>\n",
       "    </tr>\n",
       "    <tr>\n",
       "      <th id=\"T_57c7f_level0_row14\" class=\"row_heading level0 row14\" >14</th>\n",
       "      <td id=\"T_57c7f_row14_col0\" class=\"data row14 col0\" >Fold Number</td>\n",
       "      <td id=\"T_57c7f_row14_col1\" class=\"data row14 col1\" >10</td>\n",
       "    </tr>\n",
       "    <tr>\n",
       "      <th id=\"T_57c7f_level0_row15\" class=\"row_heading level0 row15\" >15</th>\n",
       "      <td id=\"T_57c7f_row15_col0\" class=\"data row15 col0\" >CPU Jobs</td>\n",
       "      <td id=\"T_57c7f_row15_col1\" class=\"data row15 col1\" >12</td>\n",
       "    </tr>\n",
       "    <tr>\n",
       "      <th id=\"T_57c7f_level0_row16\" class=\"row_heading level0 row16\" >16</th>\n",
       "      <td id=\"T_57c7f_row16_col0\" class=\"data row16 col0\" >Use GPU</td>\n",
       "      <td id=\"T_57c7f_row16_col1\" class=\"data row16 col1\" >False</td>\n",
       "    </tr>\n",
       "    <tr>\n",
       "      <th id=\"T_57c7f_level0_row17\" class=\"row_heading level0 row17\" >17</th>\n",
       "      <td id=\"T_57c7f_row17_col0\" class=\"data row17 col0\" >Log Experiment</td>\n",
       "      <td id=\"T_57c7f_row17_col1\" class=\"data row17 col1\" >False</td>\n",
       "    </tr>\n",
       "    <tr>\n",
       "      <th id=\"T_57c7f_level0_row18\" class=\"row_heading level0 row18\" >18</th>\n",
       "      <td id=\"T_57c7f_row18_col0\" class=\"data row18 col0\" >Experiment Name</td>\n",
       "      <td id=\"T_57c7f_row18_col1\" class=\"data row18 col1\" >reg-default-name</td>\n",
       "    </tr>\n",
       "    <tr>\n",
       "      <th id=\"T_57c7f_level0_row19\" class=\"row_heading level0 row19\" >19</th>\n",
       "      <td id=\"T_57c7f_row19_col0\" class=\"data row19 col0\" >USI</td>\n",
       "      <td id=\"T_57c7f_row19_col1\" class=\"data row19 col1\" >c7be</td>\n",
       "    </tr>\n",
       "    <tr>\n",
       "      <th id=\"T_57c7f_level0_row20\" class=\"row_heading level0 row20\" >20</th>\n",
       "      <td id=\"T_57c7f_row20_col0\" class=\"data row20 col0\" >Imputation Type</td>\n",
       "      <td id=\"T_57c7f_row20_col1\" class=\"data row20 col1\" >simple</td>\n",
       "    </tr>\n",
       "    <tr>\n",
       "      <th id=\"T_57c7f_level0_row21\" class=\"row_heading level0 row21\" >21</th>\n",
       "      <td id=\"T_57c7f_row21_col0\" class=\"data row21 col0\" >Iterative Imputation Iteration</td>\n",
       "      <td id=\"T_57c7f_row21_col1\" class=\"data row21 col1\" >None</td>\n",
       "    </tr>\n",
       "    <tr>\n",
       "      <th id=\"T_57c7f_level0_row22\" class=\"row_heading level0 row22\" >22</th>\n",
       "      <td id=\"T_57c7f_row22_col0\" class=\"data row22 col0\" >Numeric Imputer</td>\n",
       "      <td id=\"T_57c7f_row22_col1\" class=\"data row22 col1\" >mean</td>\n",
       "    </tr>\n",
       "    <tr>\n",
       "      <th id=\"T_57c7f_level0_row23\" class=\"row_heading level0 row23\" >23</th>\n",
       "      <td id=\"T_57c7f_row23_col0\" class=\"data row23 col0\" >Iterative Imputation Numeric Model</td>\n",
       "      <td id=\"T_57c7f_row23_col1\" class=\"data row23 col1\" >None</td>\n",
       "    </tr>\n",
       "    <tr>\n",
       "      <th id=\"T_57c7f_level0_row24\" class=\"row_heading level0 row24\" >24</th>\n",
       "      <td id=\"T_57c7f_row24_col0\" class=\"data row24 col0\" >Categorical Imputer</td>\n",
       "      <td id=\"T_57c7f_row24_col1\" class=\"data row24 col1\" >constant</td>\n",
       "    </tr>\n",
       "    <tr>\n",
       "      <th id=\"T_57c7f_level0_row25\" class=\"row_heading level0 row25\" >25</th>\n",
       "      <td id=\"T_57c7f_row25_col0\" class=\"data row25 col0\" >Iterative Imputation Categorical Model</td>\n",
       "      <td id=\"T_57c7f_row25_col1\" class=\"data row25 col1\" >None</td>\n",
       "    </tr>\n",
       "    <tr>\n",
       "      <th id=\"T_57c7f_level0_row26\" class=\"row_heading level0 row26\" >26</th>\n",
       "      <td id=\"T_57c7f_row26_col0\" class=\"data row26 col0\" >Unknown Categoricals Handling</td>\n",
       "      <td id=\"T_57c7f_row26_col1\" class=\"data row26 col1\" >least_frequent</td>\n",
       "    </tr>\n",
       "    <tr>\n",
       "      <th id=\"T_57c7f_level0_row27\" class=\"row_heading level0 row27\" >27</th>\n",
       "      <td id=\"T_57c7f_row27_col0\" class=\"data row27 col0\" >Normalize</td>\n",
       "      <td id=\"T_57c7f_row27_col1\" class=\"data row27 col1\" >True</td>\n",
       "    </tr>\n",
       "    <tr>\n",
       "      <th id=\"T_57c7f_level0_row28\" class=\"row_heading level0 row28\" >28</th>\n",
       "      <td id=\"T_57c7f_row28_col0\" class=\"data row28 col0\" >Normalize Method</td>\n",
       "      <td id=\"T_57c7f_row28_col1\" class=\"data row28 col1\" >zscore</td>\n",
       "    </tr>\n",
       "    <tr>\n",
       "      <th id=\"T_57c7f_level0_row29\" class=\"row_heading level0 row29\" >29</th>\n",
       "      <td id=\"T_57c7f_row29_col0\" class=\"data row29 col0\" >Transformation</td>\n",
       "      <td id=\"T_57c7f_row29_col1\" class=\"data row29 col1\" >True</td>\n",
       "    </tr>\n",
       "    <tr>\n",
       "      <th id=\"T_57c7f_level0_row30\" class=\"row_heading level0 row30\" >30</th>\n",
       "      <td id=\"T_57c7f_row30_col0\" class=\"data row30 col0\" >Transformation Method</td>\n",
       "      <td id=\"T_57c7f_row30_col1\" class=\"data row30 col1\" >yeo-johnson</td>\n",
       "    </tr>\n",
       "    <tr>\n",
       "      <th id=\"T_57c7f_level0_row31\" class=\"row_heading level0 row31\" >31</th>\n",
       "      <td id=\"T_57c7f_row31_col0\" class=\"data row31 col0\" >PCA</td>\n",
       "      <td id=\"T_57c7f_row31_col1\" class=\"data row31 col1\" >False</td>\n",
       "    </tr>\n",
       "    <tr>\n",
       "      <th id=\"T_57c7f_level0_row32\" class=\"row_heading level0 row32\" >32</th>\n",
       "      <td id=\"T_57c7f_row32_col0\" class=\"data row32 col0\" >PCA Method</td>\n",
       "      <td id=\"T_57c7f_row32_col1\" class=\"data row32 col1\" >None</td>\n",
       "    </tr>\n",
       "    <tr>\n",
       "      <th id=\"T_57c7f_level0_row33\" class=\"row_heading level0 row33\" >33</th>\n",
       "      <td id=\"T_57c7f_row33_col0\" class=\"data row33 col0\" >PCA Components</td>\n",
       "      <td id=\"T_57c7f_row33_col1\" class=\"data row33 col1\" >None</td>\n",
       "    </tr>\n",
       "    <tr>\n",
       "      <th id=\"T_57c7f_level0_row34\" class=\"row_heading level0 row34\" >34</th>\n",
       "      <td id=\"T_57c7f_row34_col0\" class=\"data row34 col0\" >Ignore Low Variance</td>\n",
       "      <td id=\"T_57c7f_row34_col1\" class=\"data row34 col1\" >False</td>\n",
       "    </tr>\n",
       "    <tr>\n",
       "      <th id=\"T_57c7f_level0_row35\" class=\"row_heading level0 row35\" >35</th>\n",
       "      <td id=\"T_57c7f_row35_col0\" class=\"data row35 col0\" >Combine Rare Levels</td>\n",
       "      <td id=\"T_57c7f_row35_col1\" class=\"data row35 col1\" >False</td>\n",
       "    </tr>\n",
       "    <tr>\n",
       "      <th id=\"T_57c7f_level0_row36\" class=\"row_heading level0 row36\" >36</th>\n",
       "      <td id=\"T_57c7f_row36_col0\" class=\"data row36 col0\" >Rare Level Threshold</td>\n",
       "      <td id=\"T_57c7f_row36_col1\" class=\"data row36 col1\" >None</td>\n",
       "    </tr>\n",
       "    <tr>\n",
       "      <th id=\"T_57c7f_level0_row37\" class=\"row_heading level0 row37\" >37</th>\n",
       "      <td id=\"T_57c7f_row37_col0\" class=\"data row37 col0\" >Numeric Binning</td>\n",
       "      <td id=\"T_57c7f_row37_col1\" class=\"data row37 col1\" >False</td>\n",
       "    </tr>\n",
       "    <tr>\n",
       "      <th id=\"T_57c7f_level0_row38\" class=\"row_heading level0 row38\" >38</th>\n",
       "      <td id=\"T_57c7f_row38_col0\" class=\"data row38 col0\" >Remove Outliers</td>\n",
       "      <td id=\"T_57c7f_row38_col1\" class=\"data row38 col1\" >False</td>\n",
       "    </tr>\n",
       "    <tr>\n",
       "      <th id=\"T_57c7f_level0_row39\" class=\"row_heading level0 row39\" >39</th>\n",
       "      <td id=\"T_57c7f_row39_col0\" class=\"data row39 col0\" >Outliers Threshold</td>\n",
       "      <td id=\"T_57c7f_row39_col1\" class=\"data row39 col1\" >None</td>\n",
       "    </tr>\n",
       "    <tr>\n",
       "      <th id=\"T_57c7f_level0_row40\" class=\"row_heading level0 row40\" >40</th>\n",
       "      <td id=\"T_57c7f_row40_col0\" class=\"data row40 col0\" >Remove Multicollinearity</td>\n",
       "      <td id=\"T_57c7f_row40_col1\" class=\"data row40 col1\" >False</td>\n",
       "    </tr>\n",
       "    <tr>\n",
       "      <th id=\"T_57c7f_level0_row41\" class=\"row_heading level0 row41\" >41</th>\n",
       "      <td id=\"T_57c7f_row41_col0\" class=\"data row41 col0\" >Multicollinearity Threshold</td>\n",
       "      <td id=\"T_57c7f_row41_col1\" class=\"data row41 col1\" >None</td>\n",
       "    </tr>\n",
       "    <tr>\n",
       "      <th id=\"T_57c7f_level0_row42\" class=\"row_heading level0 row42\" >42</th>\n",
       "      <td id=\"T_57c7f_row42_col0\" class=\"data row42 col0\" >Remove Perfect Collinearity</td>\n",
       "      <td id=\"T_57c7f_row42_col1\" class=\"data row42 col1\" >True</td>\n",
       "    </tr>\n",
       "    <tr>\n",
       "      <th id=\"T_57c7f_level0_row43\" class=\"row_heading level0 row43\" >43</th>\n",
       "      <td id=\"T_57c7f_row43_col0\" class=\"data row43 col0\" >Clustering</td>\n",
       "      <td id=\"T_57c7f_row43_col1\" class=\"data row43 col1\" >False</td>\n",
       "    </tr>\n",
       "    <tr>\n",
       "      <th id=\"T_57c7f_level0_row44\" class=\"row_heading level0 row44\" >44</th>\n",
       "      <td id=\"T_57c7f_row44_col0\" class=\"data row44 col0\" >Clustering Iteration</td>\n",
       "      <td id=\"T_57c7f_row44_col1\" class=\"data row44 col1\" >None</td>\n",
       "    </tr>\n",
       "    <tr>\n",
       "      <th id=\"T_57c7f_level0_row45\" class=\"row_heading level0 row45\" >45</th>\n",
       "      <td id=\"T_57c7f_row45_col0\" class=\"data row45 col0\" >Polynomial Features</td>\n",
       "      <td id=\"T_57c7f_row45_col1\" class=\"data row45 col1\" >False</td>\n",
       "    </tr>\n",
       "    <tr>\n",
       "      <th id=\"T_57c7f_level0_row46\" class=\"row_heading level0 row46\" >46</th>\n",
       "      <td id=\"T_57c7f_row46_col0\" class=\"data row46 col0\" >Polynomial Degree</td>\n",
       "      <td id=\"T_57c7f_row46_col1\" class=\"data row46 col1\" >None</td>\n",
       "    </tr>\n",
       "    <tr>\n",
       "      <th id=\"T_57c7f_level0_row47\" class=\"row_heading level0 row47\" >47</th>\n",
       "      <td id=\"T_57c7f_row47_col0\" class=\"data row47 col0\" >Trignometry Features</td>\n",
       "      <td id=\"T_57c7f_row47_col1\" class=\"data row47 col1\" >False</td>\n",
       "    </tr>\n",
       "    <tr>\n",
       "      <th id=\"T_57c7f_level0_row48\" class=\"row_heading level0 row48\" >48</th>\n",
       "      <td id=\"T_57c7f_row48_col0\" class=\"data row48 col0\" >Polynomial Threshold</td>\n",
       "      <td id=\"T_57c7f_row48_col1\" class=\"data row48 col1\" >None</td>\n",
       "    </tr>\n",
       "    <tr>\n",
       "      <th id=\"T_57c7f_level0_row49\" class=\"row_heading level0 row49\" >49</th>\n",
       "      <td id=\"T_57c7f_row49_col0\" class=\"data row49 col0\" >Group Features</td>\n",
       "      <td id=\"T_57c7f_row49_col1\" class=\"data row49 col1\" >False</td>\n",
       "    </tr>\n",
       "    <tr>\n",
       "      <th id=\"T_57c7f_level0_row50\" class=\"row_heading level0 row50\" >50</th>\n",
       "      <td id=\"T_57c7f_row50_col0\" class=\"data row50 col0\" >Feature Selection</td>\n",
       "      <td id=\"T_57c7f_row50_col1\" class=\"data row50 col1\" >False</td>\n",
       "    </tr>\n",
       "    <tr>\n",
       "      <th id=\"T_57c7f_level0_row51\" class=\"row_heading level0 row51\" >51</th>\n",
       "      <td id=\"T_57c7f_row51_col0\" class=\"data row51 col0\" >Feature Selection Method</td>\n",
       "      <td id=\"T_57c7f_row51_col1\" class=\"data row51 col1\" >boruta</td>\n",
       "    </tr>\n",
       "    <tr>\n",
       "      <th id=\"T_57c7f_level0_row52\" class=\"row_heading level0 row52\" >52</th>\n",
       "      <td id=\"T_57c7f_row52_col0\" class=\"data row52 col0\" >Features Selection Threshold</td>\n",
       "      <td id=\"T_57c7f_row52_col1\" class=\"data row52 col1\" >None</td>\n",
       "    </tr>\n",
       "    <tr>\n",
       "      <th id=\"T_57c7f_level0_row53\" class=\"row_heading level0 row53\" >53</th>\n",
       "      <td id=\"T_57c7f_row53_col0\" class=\"data row53 col0\" >Feature Interaction</td>\n",
       "      <td id=\"T_57c7f_row53_col1\" class=\"data row53 col1\" >False</td>\n",
       "    </tr>\n",
       "    <tr>\n",
       "      <th id=\"T_57c7f_level0_row54\" class=\"row_heading level0 row54\" >54</th>\n",
       "      <td id=\"T_57c7f_row54_col0\" class=\"data row54 col0\" >Feature Ratio</td>\n",
       "      <td id=\"T_57c7f_row54_col1\" class=\"data row54 col1\" >False</td>\n",
       "    </tr>\n",
       "    <tr>\n",
       "      <th id=\"T_57c7f_level0_row55\" class=\"row_heading level0 row55\" >55</th>\n",
       "      <td id=\"T_57c7f_row55_col0\" class=\"data row55 col0\" >Interaction Threshold</td>\n",
       "      <td id=\"T_57c7f_row55_col1\" class=\"data row55 col1\" >None</td>\n",
       "    </tr>\n",
       "    <tr>\n",
       "      <th id=\"T_57c7f_level0_row56\" class=\"row_heading level0 row56\" >56</th>\n",
       "      <td id=\"T_57c7f_row56_col0\" class=\"data row56 col0\" >Transform Target</td>\n",
       "      <td id=\"T_57c7f_row56_col1\" class=\"data row56 col1\" >False</td>\n",
       "    </tr>\n",
       "    <tr>\n",
       "      <th id=\"T_57c7f_level0_row57\" class=\"row_heading level0 row57\" >57</th>\n",
       "      <td id=\"T_57c7f_row57_col0\" class=\"data row57 col0\" >Transform Target Method</td>\n",
       "      <td id=\"T_57c7f_row57_col1\" class=\"data row57 col1\" >box-cox</td>\n",
       "    </tr>\n",
       "  </tbody>\n",
       "</table>\n"
      ],
      "text/plain": [
       "<pandas.io.formats.style.Styler at 0x7f45a1f32220>"
      ]
     },
     "metadata": {},
     "output_type": "display_data"
    }
   ],
   "source": [
    "exp_radio = pyr.setup(data=train_df, test_data=test_df, target=target_feat, session_id=gv.seed, silent=True,\\\n",
    "                      feature_selection=False, feature_selection_method='boruta',\\\n",
    "                      numeric_features=final_feats, ignore_features=feats_2_discard, transformation=True,\\\n",
    "                      transformation_method='yeo-johnson', n_jobs=12, normalize=True,\\\n",
    "                      normalize_method='zscore', use_gpu=False)  # 15 minutes with Boruta # 5 without"
   ]
  },
  {
   "cell_type": "code",
   "execution_count": 49,
   "id": "0394b6ff",
   "metadata": {
    "id": "ykHUiWyetG0G"
   },
   "outputs": [
    {
     "data": {
      "text/plain": [
       "Index(['g_r', 'g_W1', 'r_i', 'r_z', 'i_z', 'z_y', 'z_W1', 'y_W1', 'W1_W2'], dtype='object')"
      ]
     },
     "execution_count": 49,
     "metadata": {},
     "output_type": "execute_result"
    }
   ],
   "source": [
    "pyr.get_config('X').columns"
   ]
  },
  {
   "cell_type": "code",
   "execution_count": 50,
   "id": "ac2333ad",
   "metadata": {
    "id": "JFF_T52ztI11"
   },
   "outputs": [
    {
     "data": {
      "text/html": [
       "<div>\n",
       "<style scoped>\n",
       "    .dataframe tbody tr th:only-of-type {\n",
       "        vertical-align: middle;\n",
       "    }\n",
       "\n",
       "    .dataframe tbody tr th {\n",
       "        vertical-align: top;\n",
       "    }\n",
       "\n",
       "    .dataframe thead th {\n",
       "        text-align: right;\n",
       "    }\n",
       "</style>\n",
       "<table border=\"1\" class=\"dataframe\">\n",
       "  <thead>\n",
       "    <tr style=\"text-align: right;\">\n",
       "      <th></th>\n",
       "      <th>Name</th>\n",
       "      <th>Reference</th>\n",
       "      <th>Turbo</th>\n",
       "    </tr>\n",
       "    <tr>\n",
       "      <th>ID</th>\n",
       "      <th></th>\n",
       "      <th></th>\n",
       "      <th></th>\n",
       "    </tr>\n",
       "  </thead>\n",
       "  <tbody>\n",
       "    <tr>\n",
       "      <th>lr</th>\n",
       "      <td>Linear Regression</td>\n",
       "      <td>sklearn.linear_model._base.LinearRegression</td>\n",
       "      <td>True</td>\n",
       "    </tr>\n",
       "    <tr>\n",
       "      <th>lasso</th>\n",
       "      <td>Lasso Regression</td>\n",
       "      <td>sklearn.linear_model._coordinate_descent.Lasso</td>\n",
       "      <td>True</td>\n",
       "    </tr>\n",
       "    <tr>\n",
       "      <th>ridge</th>\n",
       "      <td>Ridge Regression</td>\n",
       "      <td>sklearn.linear_model._ridge.Ridge</td>\n",
       "      <td>True</td>\n",
       "    </tr>\n",
       "    <tr>\n",
       "      <th>en</th>\n",
       "      <td>Elastic Net</td>\n",
       "      <td>sklearn.linear_model._coordinate_descent.Elast...</td>\n",
       "      <td>True</td>\n",
       "    </tr>\n",
       "    <tr>\n",
       "      <th>lar</th>\n",
       "      <td>Least Angle Regression</td>\n",
       "      <td>sklearn.linear_model._least_angle.Lars</td>\n",
       "      <td>True</td>\n",
       "    </tr>\n",
       "    <tr>\n",
       "      <th>llar</th>\n",
       "      <td>Lasso Least Angle Regression</td>\n",
       "      <td>sklearn.linear_model._least_angle.LassoLars</td>\n",
       "      <td>True</td>\n",
       "    </tr>\n",
       "    <tr>\n",
       "      <th>omp</th>\n",
       "      <td>Orthogonal Matching Pursuit</td>\n",
       "      <td>sklearn.linear_model._omp.OrthogonalMatchingPu...</td>\n",
       "      <td>True</td>\n",
       "    </tr>\n",
       "    <tr>\n",
       "      <th>br</th>\n",
       "      <td>Bayesian Ridge</td>\n",
       "      <td>sklearn.linear_model._bayes.BayesianRidge</td>\n",
       "      <td>True</td>\n",
       "    </tr>\n",
       "    <tr>\n",
       "      <th>ard</th>\n",
       "      <td>Automatic Relevance Determination</td>\n",
       "      <td>sklearn.linear_model._bayes.ARDRegression</td>\n",
       "      <td>False</td>\n",
       "    </tr>\n",
       "    <tr>\n",
       "      <th>par</th>\n",
       "      <td>Passive Aggressive Regressor</td>\n",
       "      <td>sklearn.linear_model._passive_aggressive.Passi...</td>\n",
       "      <td>True</td>\n",
       "    </tr>\n",
       "    <tr>\n",
       "      <th>ransac</th>\n",
       "      <td>Random Sample Consensus</td>\n",
       "      <td>sklearn.linear_model._ransac.RANSACRegressor</td>\n",
       "      <td>False</td>\n",
       "    </tr>\n",
       "    <tr>\n",
       "      <th>tr</th>\n",
       "      <td>TheilSen Regressor</td>\n",
       "      <td>sklearn.linear_model._theil_sen.TheilSenRegressor</td>\n",
       "      <td>False</td>\n",
       "    </tr>\n",
       "    <tr>\n",
       "      <th>huber</th>\n",
       "      <td>Huber Regressor</td>\n",
       "      <td>sklearn.linear_model._huber.HuberRegressor</td>\n",
       "      <td>True</td>\n",
       "    </tr>\n",
       "    <tr>\n",
       "      <th>kr</th>\n",
       "      <td>Kernel Ridge</td>\n",
       "      <td>sklearn.kernel_ridge.KernelRidge</td>\n",
       "      <td>False</td>\n",
       "    </tr>\n",
       "    <tr>\n",
       "      <th>svm</th>\n",
       "      <td>Support Vector Regression</td>\n",
       "      <td>sklearn.svm._classes.SVR</td>\n",
       "      <td>False</td>\n",
       "    </tr>\n",
       "    <tr>\n",
       "      <th>knn</th>\n",
       "      <td>K Neighbors Regressor</td>\n",
       "      <td>sklearn.neighbors._regression.KNeighborsRegressor</td>\n",
       "      <td>True</td>\n",
       "    </tr>\n",
       "    <tr>\n",
       "      <th>dt</th>\n",
       "      <td>Decision Tree Regressor</td>\n",
       "      <td>sklearn.tree._classes.DecisionTreeRegressor</td>\n",
       "      <td>True</td>\n",
       "    </tr>\n",
       "    <tr>\n",
       "      <th>rf</th>\n",
       "      <td>Random Forest Regressor</td>\n",
       "      <td>sklearn.ensemble._forest.RandomForestRegressor</td>\n",
       "      <td>True</td>\n",
       "    </tr>\n",
       "    <tr>\n",
       "      <th>et</th>\n",
       "      <td>Extra Trees Regressor</td>\n",
       "      <td>sklearn.ensemble._forest.ExtraTreesRegressor</td>\n",
       "      <td>True</td>\n",
       "    </tr>\n",
       "    <tr>\n",
       "      <th>ada</th>\n",
       "      <td>AdaBoost Regressor</td>\n",
       "      <td>sklearn.ensemble._weight_boosting.AdaBoostRegr...</td>\n",
       "      <td>True</td>\n",
       "    </tr>\n",
       "    <tr>\n",
       "      <th>gbr</th>\n",
       "      <td>Gradient Boosting Regressor</td>\n",
       "      <td>sklearn.ensemble._gb.GradientBoostingRegressor</td>\n",
       "      <td>True</td>\n",
       "    </tr>\n",
       "    <tr>\n",
       "      <th>mlp</th>\n",
       "      <td>MLP Regressor</td>\n",
       "      <td>sklearn.neural_network._multilayer_perceptron....</td>\n",
       "      <td>False</td>\n",
       "    </tr>\n",
       "    <tr>\n",
       "      <th>xgboost</th>\n",
       "      <td>Extreme Gradient Boosting</td>\n",
       "      <td>xgboost.sklearn.XGBRegressor</td>\n",
       "      <td>True</td>\n",
       "    </tr>\n",
       "    <tr>\n",
       "      <th>lightgbm</th>\n",
       "      <td>Light Gradient Boosting Machine</td>\n",
       "      <td>lightgbm.sklearn.LGBMRegressor</td>\n",
       "      <td>True</td>\n",
       "    </tr>\n",
       "    <tr>\n",
       "      <th>catboost</th>\n",
       "      <td>CatBoost Regressor</td>\n",
       "      <td>catboost.core.CatBoostRegressor</td>\n",
       "      <td>True</td>\n",
       "    </tr>\n",
       "    <tr>\n",
       "      <th>dummy</th>\n",
       "      <td>Dummy Regressor</td>\n",
       "      <td>sklearn.dummy.DummyRegressor</td>\n",
       "      <td>True</td>\n",
       "    </tr>\n",
       "  </tbody>\n",
       "</table>\n",
       "</div>"
      ],
      "text/plain": [
       "                                       Name  \\\n",
       "ID                                            \n",
       "lr                        Linear Regression   \n",
       "lasso                      Lasso Regression   \n",
       "ridge                      Ridge Regression   \n",
       "en                              Elastic Net   \n",
       "lar                  Least Angle Regression   \n",
       "llar           Lasso Least Angle Regression   \n",
       "omp             Orthogonal Matching Pursuit   \n",
       "br                           Bayesian Ridge   \n",
       "ard       Automatic Relevance Determination   \n",
       "par            Passive Aggressive Regressor   \n",
       "ransac              Random Sample Consensus   \n",
       "tr                       TheilSen Regressor   \n",
       "huber                       Huber Regressor   \n",
       "kr                             Kernel Ridge   \n",
       "svm               Support Vector Regression   \n",
       "knn                   K Neighbors Regressor   \n",
       "dt                  Decision Tree Regressor   \n",
       "rf                  Random Forest Regressor   \n",
       "et                    Extra Trees Regressor   \n",
       "ada                      AdaBoost Regressor   \n",
       "gbr             Gradient Boosting Regressor   \n",
       "mlp                           MLP Regressor   \n",
       "xgboost           Extreme Gradient Boosting   \n",
       "lightgbm    Light Gradient Boosting Machine   \n",
       "catboost                 CatBoost Regressor   \n",
       "dummy                       Dummy Regressor   \n",
       "\n",
       "                                                  Reference  Turbo  \n",
       "ID                                                                  \n",
       "lr              sklearn.linear_model._base.LinearRegression   True  \n",
       "lasso        sklearn.linear_model._coordinate_descent.Lasso   True  \n",
       "ridge                     sklearn.linear_model._ridge.Ridge   True  \n",
       "en        sklearn.linear_model._coordinate_descent.Elast...   True  \n",
       "lar                  sklearn.linear_model._least_angle.Lars   True  \n",
       "llar            sklearn.linear_model._least_angle.LassoLars   True  \n",
       "omp       sklearn.linear_model._omp.OrthogonalMatchingPu...   True  \n",
       "br                sklearn.linear_model._bayes.BayesianRidge   True  \n",
       "ard               sklearn.linear_model._bayes.ARDRegression  False  \n",
       "par       sklearn.linear_model._passive_aggressive.Passi...   True  \n",
       "ransac         sklearn.linear_model._ransac.RANSACRegressor  False  \n",
       "tr        sklearn.linear_model._theil_sen.TheilSenRegressor  False  \n",
       "huber            sklearn.linear_model._huber.HuberRegressor   True  \n",
       "kr                         sklearn.kernel_ridge.KernelRidge  False  \n",
       "svm                                sklearn.svm._classes.SVR  False  \n",
       "knn       sklearn.neighbors._regression.KNeighborsRegressor   True  \n",
       "dt              sklearn.tree._classes.DecisionTreeRegressor   True  \n",
       "rf           sklearn.ensemble._forest.RandomForestRegressor   True  \n",
       "et             sklearn.ensemble._forest.ExtraTreesRegressor   True  \n",
       "ada       sklearn.ensemble._weight_boosting.AdaBoostRegr...   True  \n",
       "gbr          sklearn.ensemble._gb.GradientBoostingRegressor   True  \n",
       "mlp       sklearn.neural_network._multilayer_perceptron....  False  \n",
       "xgboost                        xgboost.sklearn.XGBRegressor   True  \n",
       "lightgbm                     lightgbm.sklearn.LGBMRegressor   True  \n",
       "catboost                    catboost.core.CatBoostRegressor   True  \n",
       "dummy                          sklearn.dummy.DummyRegressor   True  "
      ]
     },
     "execution_count": 50,
     "metadata": {},
     "output_type": "execute_result"
    }
   ],
   "source": [
    "pyr.models()"
   ]
  },
  {
   "cell_type": "markdown",
   "id": "81652566",
   "metadata": {},
   "source": [
    "Add custom metrics"
   ]
  },
  {
   "cell_type": "code",
   "execution_count": 51,
   "id": "3e83043f",
   "metadata": {},
   "outputs": [
    {
     "data": {
      "text/plain": [
       "Name                                                        outlier_fr\n",
       "Display Name                                                outlier_fr\n",
       "Score Function               <function outlier_frac at 0x7fe025ae7820>\n",
       "Scorer               make_scorer(outlier_frac, greater_is_better=Fa...\n",
       "Target                                                            pred\n",
       "Args                                                                {}\n",
       "Greater is Better                                                False\n",
       "Custom                                                            True\n",
       "Name: out_f, dtype: object"
      ]
     },
     "execution_count": 51,
     "metadata": {},
     "output_type": "execute_result"
    }
   ],
   "source": [
    "pyr.add_metric('s_mad',  'sigma_mad',    gf.sigma_mad,    greater_is_better=False)\n",
    "pyr.add_metric('s_nmad', 'sigma_nmad',   gf.sigma_nmad,   greater_is_better=False)\n",
    "pyr.add_metric('s_z',    'sigma_z',      gf.sigma_z,      greater_is_better=False)\n",
    "pyr.add_metric('s_z_n',  'sigma_z_norm', gf.sigma_z_norm, greater_is_better=False)\n",
    "pyr.add_metric('out_f',  'outlier_fr',   gf.outlier_frac, greater_is_better=False)"
   ]
  },
  {
   "cell_type": "code",
   "execution_count": 52,
   "id": "43c2015a",
   "metadata": {
    "id": "m3mCNspXtLnI"
   },
   "outputs": [
    {
     "data": {
      "text/html": [
       "<style type=\"text/css\">\n",
       "#T_3b377 th {\n",
       "  text-align: left;\n",
       "}\n",
       "#T_3b377_row0_col0, #T_3b377_row0_col1, #T_3b377_row0_col2, #T_3b377_row0_col3, #T_3b377_row0_col4, #T_3b377_row0_col5, #T_3b377_row0_col6, #T_3b377_row0_col9, #T_3b377_row0_col10, #T_3b377_row0_col11, #T_3b377_row1_col0, #T_3b377_row1_col7, #T_3b377_row1_col8, #T_3b377_row1_col11, #T_3b377_row2_col0, #T_3b377_row2_col1, #T_3b377_row2_col2, #T_3b377_row2_col3, #T_3b377_row2_col4, #T_3b377_row2_col5, #T_3b377_row2_col6, #T_3b377_row2_col7, #T_3b377_row2_col8, #T_3b377_row2_col9, #T_3b377_row2_col10, #T_3b377_row2_col11, #T_3b377_row3_col0, #T_3b377_row3_col1, #T_3b377_row3_col2, #T_3b377_row3_col3, #T_3b377_row3_col4, #T_3b377_row3_col5, #T_3b377_row3_col6, #T_3b377_row3_col7, #T_3b377_row3_col8, #T_3b377_row3_col9, #T_3b377_row3_col10, #T_3b377_row3_col11, #T_3b377_row4_col0, #T_3b377_row4_col1, #T_3b377_row4_col2, #T_3b377_row4_col3, #T_3b377_row4_col4, #T_3b377_row4_col5, #T_3b377_row4_col6, #T_3b377_row4_col7, #T_3b377_row4_col8, #T_3b377_row4_col9, #T_3b377_row4_col10, #T_3b377_row5_col0, #T_3b377_row5_col1, #T_3b377_row5_col2, #T_3b377_row5_col3, #T_3b377_row5_col4, #T_3b377_row5_col5, #T_3b377_row5_col6, #T_3b377_row5_col7, #T_3b377_row5_col8, #T_3b377_row5_col9, #T_3b377_row5_col10, #T_3b377_row5_col11 {\n",
       "  text-align: left;\n",
       "}\n",
       "#T_3b377_row0_col7, #T_3b377_row0_col8, #T_3b377_row1_col1, #T_3b377_row1_col2, #T_3b377_row1_col3, #T_3b377_row1_col4, #T_3b377_row1_col5, #T_3b377_row1_col6, #T_3b377_row1_col9, #T_3b377_row1_col10, #T_3b377_row4_col11 {\n",
       "  text-align: left;\n",
       "  background-color: yellow;\n",
       "}\n",
       "#T_3b377_row0_col12, #T_3b377_row1_col12, #T_3b377_row2_col12, #T_3b377_row3_col12, #T_3b377_row4_col12 {\n",
       "  text-align: left;\n",
       "  background-color: lightgrey;\n",
       "}\n",
       "#T_3b377_row5_col12 {\n",
       "  text-align: left;\n",
       "  background-color: yellow;\n",
       "  background-color: lightgrey;\n",
       "}\n",
       "</style>\n",
       "<table id=\"T_3b377\">\n",
       "  <thead>\n",
       "    <tr>\n",
       "      <th class=\"blank level0\" >&nbsp;</th>\n",
       "      <th id=\"T_3b377_level0_col0\" class=\"col_heading level0 col0\" >Model</th>\n",
       "      <th id=\"T_3b377_level0_col1\" class=\"col_heading level0 col1\" >MAE</th>\n",
       "      <th id=\"T_3b377_level0_col2\" class=\"col_heading level0 col2\" >MSE</th>\n",
       "      <th id=\"T_3b377_level0_col3\" class=\"col_heading level0 col3\" >RMSE</th>\n",
       "      <th id=\"T_3b377_level0_col4\" class=\"col_heading level0 col4\" >R2</th>\n",
       "      <th id=\"T_3b377_level0_col5\" class=\"col_heading level0 col5\" >RMSLE</th>\n",
       "      <th id=\"T_3b377_level0_col6\" class=\"col_heading level0 col6\" >MAPE</th>\n",
       "      <th id=\"T_3b377_level0_col7\" class=\"col_heading level0 col7\" >sigma_mad</th>\n",
       "      <th id=\"T_3b377_level0_col8\" class=\"col_heading level0 col8\" >sigma_nmad</th>\n",
       "      <th id=\"T_3b377_level0_col9\" class=\"col_heading level0 col9\" >sigma_z</th>\n",
       "      <th id=\"T_3b377_level0_col10\" class=\"col_heading level0 col10\" >sigma_z_norm</th>\n",
       "      <th id=\"T_3b377_level0_col11\" class=\"col_heading level0 col11\" >outlier_fr</th>\n",
       "      <th id=\"T_3b377_level0_col12\" class=\"col_heading level0 col12\" >TT (Sec)</th>\n",
       "    </tr>\n",
       "  </thead>\n",
       "  <tbody>\n",
       "    <tr>\n",
       "      <th id=\"T_3b377_level0_row0\" class=\"row_heading level0 row0\" >et</th>\n",
       "      <td id=\"T_3b377_row0_col0\" class=\"data row0 col0\" >Extra Trees Regressor</td>\n",
       "      <td id=\"T_3b377_row0_col1\" class=\"data row0 col1\" >0.2236</td>\n",
       "      <td id=\"T_3b377_row0_col2\" class=\"data row0 col2\" >0.1135</td>\n",
       "      <td id=\"T_3b377_row0_col3\" class=\"data row0 col3\" >0.3315</td>\n",
       "      <td id=\"T_3b377_row0_col4\" class=\"data row0 col4\" >0.5580</td>\n",
       "      <td id=\"T_3b377_row0_col5\" class=\"data row0 col5\" >0.0869</td>\n",
       "      <td id=\"T_3b377_row0_col6\" class=\"data row0 col6\" >0.0868</td>\n",
       "      <td id=\"T_3b377_row0_col7\" class=\"data row0 col7\" >0.2324</td>\n",
       "      <td id=\"T_3b377_row0_col8\" class=\"data row0 col8\" >0.0675</td>\n",
       "      <td id=\"T_3b377_row0_col9\" class=\"data row0 col9\" >0.3315</td>\n",
       "      <td id=\"T_3b377_row0_col10\" class=\"data row0 col10\" >0.0890</td>\n",
       "      <td id=\"T_3b377_row0_col11\" class=\"data row0 col11\" >0.0740</td>\n",
       "      <td id=\"T_3b377_row0_col12\" class=\"data row0 col12\" >0.0380</td>\n",
       "    </tr>\n",
       "    <tr>\n",
       "      <th id=\"T_3b377_level0_row1\" class=\"row_heading level0 row1\" >catboost</th>\n",
       "      <td id=\"T_3b377_row1_col0\" class=\"data row1 col0\" >CatBoost Regressor</td>\n",
       "      <td id=\"T_3b377_row1_col1\" class=\"data row1 col1\" >0.2233</td>\n",
       "      <td id=\"T_3b377_row1_col2\" class=\"data row1 col2\" >0.1080</td>\n",
       "      <td id=\"T_3b377_row1_col3\" class=\"data row1 col3\" >0.3239</td>\n",
       "      <td id=\"T_3b377_row1_col4\" class=\"data row1 col4\" >0.5854</td>\n",
       "      <td id=\"T_3b377_row1_col5\" class=\"data row1 col5\" >0.0856</td>\n",
       "      <td id=\"T_3b377_row1_col6\" class=\"data row1 col6\" >0.0862</td>\n",
       "      <td id=\"T_3b377_row1_col7\" class=\"data row1 col7\" >0.2342</td>\n",
       "      <td id=\"T_3b377_row1_col8\" class=\"data row1 col8\" >0.0677</td>\n",
       "      <td id=\"T_3b377_row1_col9\" class=\"data row1 col9\" >0.3239</td>\n",
       "      <td id=\"T_3b377_row1_col10\" class=\"data row1 col10\" >0.0857</td>\n",
       "      <td id=\"T_3b377_row1_col11\" class=\"data row1 col11\" >0.0672</td>\n",
       "      <td id=\"T_3b377_row1_col12\" class=\"data row1 col12\" >0.4670</td>\n",
       "    </tr>\n",
       "    <tr>\n",
       "      <th id=\"T_3b377_level0_row2\" class=\"row_heading level0 row2\" >xgboost</th>\n",
       "      <td id=\"T_3b377_row2_col0\" class=\"data row2 col0\" >Extreme Gradient Boosting</td>\n",
       "      <td id=\"T_3b377_row2_col1\" class=\"data row2 col1\" >0.2359</td>\n",
       "      <td id=\"T_3b377_row2_col2\" class=\"data row2 col2\" >0.1200</td>\n",
       "      <td id=\"T_3b377_row2_col3\" class=\"data row2 col3\" >0.3414</td>\n",
       "      <td id=\"T_3b377_row2_col4\" class=\"data row2 col4\" >0.5353</td>\n",
       "      <td id=\"T_3b377_row2_col5\" class=\"data row2 col5\" >0.0900</td>\n",
       "      <td id=\"T_3b377_row2_col6\" class=\"data row2 col6\" >0.0911</td>\n",
       "      <td id=\"T_3b377_row2_col7\" class=\"data row2 col7\" >0.2346</td>\n",
       "      <td id=\"T_3b377_row2_col8\" class=\"data row2 col8\" >0.0676</td>\n",
       "      <td id=\"T_3b377_row2_col9\" class=\"data row2 col9\" >0.3414</td>\n",
       "      <td id=\"T_3b377_row2_col10\" class=\"data row2 col10\" >0.0908</td>\n",
       "      <td id=\"T_3b377_row2_col11\" class=\"data row2 col11\" >0.0834</td>\n",
       "      <td id=\"T_3b377_row2_col12\" class=\"data row2 col12\" >7.8760</td>\n",
       "    </tr>\n",
       "    <tr>\n",
       "      <th id=\"T_3b377_level0_row3\" class=\"row_heading level0 row3\" >gbr</th>\n",
       "      <td id=\"T_3b377_row3_col0\" class=\"data row3 col0\" >Gradient Boosting Regressor</td>\n",
       "      <td id=\"T_3b377_row3_col1\" class=\"data row3 col1\" >0.2286</td>\n",
       "      <td id=\"T_3b377_row3_col2\" class=\"data row3 col2\" >0.1175</td>\n",
       "      <td id=\"T_3b377_row3_col3\" class=\"data row3 col3\" >0.3360</td>\n",
       "      <td id=\"T_3b377_row3_col4\" class=\"data row3 col4\" >0.5440</td>\n",
       "      <td id=\"T_3b377_row3_col5\" class=\"data row3 col5\" >0.0874</td>\n",
       "      <td id=\"T_3b377_row3_col6\" class=\"data row3 col6\" >0.0879</td>\n",
       "      <td id=\"T_3b377_row3_col7\" class=\"data row3 col7\" >0.2422</td>\n",
       "      <td id=\"T_3b377_row3_col8\" class=\"data row3 col8\" >0.0694</td>\n",
       "      <td id=\"T_3b377_row3_col9\" class=\"data row3 col9\" >0.3360</td>\n",
       "      <td id=\"T_3b377_row3_col10\" class=\"data row3 col10\" >0.0891</td>\n",
       "      <td id=\"T_3b377_row3_col11\" class=\"data row3 col11\" >0.0723</td>\n",
       "      <td id=\"T_3b377_row3_col12\" class=\"data row3 col12\" >0.0350</td>\n",
       "    </tr>\n",
       "    <tr>\n",
       "      <th id=\"T_3b377_level0_row4\" class=\"row_heading level0 row4\" >rf</th>\n",
       "      <td id=\"T_3b377_row4_col0\" class=\"data row4 col0\" >Random Forest Regressor</td>\n",
       "      <td id=\"T_3b377_row4_col1\" class=\"data row4 col1\" >0.2251</td>\n",
       "      <td id=\"T_3b377_row4_col2\" class=\"data row4 col2\" >0.1161</td>\n",
       "      <td id=\"T_3b377_row4_col3\" class=\"data row4 col3\" >0.3349</td>\n",
       "      <td id=\"T_3b377_row4_col4\" class=\"data row4 col4\" >0.5444</td>\n",
       "      <td id=\"T_3b377_row4_col5\" class=\"data row4 col5\" >0.0877</td>\n",
       "      <td id=\"T_3b377_row4_col6\" class=\"data row4 col6\" >0.0873</td>\n",
       "      <td id=\"T_3b377_row4_col7\" class=\"data row4 col7\" >0.2426</td>\n",
       "      <td id=\"T_3b377_row4_col8\" class=\"data row4 col8\" >0.0689</td>\n",
       "      <td id=\"T_3b377_row4_col9\" class=\"data row4 col9\" >0.3349</td>\n",
       "      <td id=\"T_3b377_row4_col10\" class=\"data row4 col10\" >0.0899</td>\n",
       "      <td id=\"T_3b377_row4_col11\" class=\"data row4 col11\" >0.0655</td>\n",
       "      <td id=\"T_3b377_row4_col12\" class=\"data row4 col12\" >0.4090</td>\n",
       "    </tr>\n",
       "    <tr>\n",
       "      <th id=\"T_3b377_level0_row5\" class=\"row_heading level0 row5\" >dummy</th>\n",
       "      <td id=\"T_3b377_row5_col0\" class=\"data row5 col0\" >Dummy Regressor</td>\n",
       "      <td id=\"T_3b377_row5_col1\" class=\"data row5 col1\" >0.3855</td>\n",
       "      <td id=\"T_3b377_row5_col2\" class=\"data row5 col2\" >0.2653</td>\n",
       "      <td id=\"T_3b377_row5_col3\" class=\"data row5 col3\" >0.5121</td>\n",
       "      <td id=\"T_3b377_row5_col4\" class=\"data row5 col4\" >-0.0075</td>\n",
       "      <td id=\"T_3b377_row5_col5\" class=\"data row5 col5\" >0.1324</td>\n",
       "      <td id=\"T_3b377_row5_col6\" class=\"data row5 col6\" >0.1454</td>\n",
       "      <td id=\"T_3b377_row5_col7\" class=\"data row5 col7\" >0.5005</td>\n",
       "      <td id=\"T_3b377_row5_col8\" class=\"data row5 col8\" >0.1467</td>\n",
       "      <td id=\"T_3b377_row5_col9\" class=\"data row5 col9\" >0.5121</td>\n",
       "      <td id=\"T_3b377_row5_col10\" class=\"data row5 col10\" >0.1258</td>\n",
       "      <td id=\"T_3b377_row5_col11\" class=\"data row5 col11\" >0.2418</td>\n",
       "      <td id=\"T_3b377_row5_col12\" class=\"data row5 col12\" >0.0050</td>\n",
       "    </tr>\n",
       "  </tbody>\n",
       "</table>\n"
      ],
      "text/plain": [
       "<pandas.io.formats.style.Styler at 0x7fe024d4d7c0>"
      ]
     },
     "metadata": {},
     "output_type": "display_data"
    }
   ],
   "source": [
    "metric_2_opt          = 's_mad'\n",
    "final_selection_reg   = ['rf', 'catboost', 'gbr', 'et', 'xgboost', 'dummy']\n",
    "initial_selection_reg = ['rf', 'et', 'gbr', 'xgboost', 'catboost', 'dummy']  # Only tree-based models (except lightgbm, small sample => too slow)\n",
    "n_models              = 5\n",
    "top_model_z          = pyr.compare_models(n_select=n_models, include=final_selection_reg, sort=metric_2_opt)  # 1:15 hour for used_models_clf\n",
    "# top_model_z          = pyr.compare_models(n_select=n_models, include=initial_selection_reg, sort=metric_2_opt)  # 5 minutes, using all models."
   ]
  },
  {
   "cell_type": "markdown",
   "id": "423b3349",
   "metadata": {},
   "source": [
    "Thus, we select `et` as meta learner (based upon $\\sigma_{\\mathrm{MAD}}$)."
   ]
  },
  {
   "cell_type": "markdown",
   "id": "890593cd",
   "metadata": {},
   "source": [
    "Thus, we stack the models."
   ]
  },
  {
   "cell_type": "code",
   "execution_count": 53,
   "id": "02619d55",
   "metadata": {},
   "outputs": [
    {
     "data": {
      "text/html": [
       "<style type=\"text/css\">\n",
       "#T_ea629_row10_col0, #T_ea629_row10_col1, #T_ea629_row10_col2, #T_ea629_row10_col3, #T_ea629_row10_col4, #T_ea629_row10_col5, #T_ea629_row10_col6, #T_ea629_row10_col7, #T_ea629_row10_col8, #T_ea629_row10_col9, #T_ea629_row10_col10 {\n",
       "  background: yellow;\n",
       "}\n",
       "</style>\n",
       "<table id=\"T_ea629\">\n",
       "  <thead>\n",
       "    <tr>\n",
       "      <th class=\"blank level0\" >&nbsp;</th>\n",
       "      <th id=\"T_ea629_level0_col0\" class=\"col_heading level0 col0\" >MAE</th>\n",
       "      <th id=\"T_ea629_level0_col1\" class=\"col_heading level0 col1\" >MSE</th>\n",
       "      <th id=\"T_ea629_level0_col2\" class=\"col_heading level0 col2\" >RMSE</th>\n",
       "      <th id=\"T_ea629_level0_col3\" class=\"col_heading level0 col3\" >R2</th>\n",
       "      <th id=\"T_ea629_level0_col4\" class=\"col_heading level0 col4\" >RMSLE</th>\n",
       "      <th id=\"T_ea629_level0_col5\" class=\"col_heading level0 col5\" >MAPE</th>\n",
       "      <th id=\"T_ea629_level0_col6\" class=\"col_heading level0 col6\" >sigma_mad</th>\n",
       "      <th id=\"T_ea629_level0_col7\" class=\"col_heading level0 col7\" >sigma_nmad</th>\n",
       "      <th id=\"T_ea629_level0_col8\" class=\"col_heading level0 col8\" >sigma_z</th>\n",
       "      <th id=\"T_ea629_level0_col9\" class=\"col_heading level0 col9\" >sigma_z_norm</th>\n",
       "      <th id=\"T_ea629_level0_col10\" class=\"col_heading level0 col10\" >outlier_fr</th>\n",
       "    </tr>\n",
       "    <tr>\n",
       "      <th class=\"index_name level0\" >Fold</th>\n",
       "      <th class=\"blank col0\" >&nbsp;</th>\n",
       "      <th class=\"blank col1\" >&nbsp;</th>\n",
       "      <th class=\"blank col2\" >&nbsp;</th>\n",
       "      <th class=\"blank col3\" >&nbsp;</th>\n",
       "      <th class=\"blank col4\" >&nbsp;</th>\n",
       "      <th class=\"blank col5\" >&nbsp;</th>\n",
       "      <th class=\"blank col6\" >&nbsp;</th>\n",
       "      <th class=\"blank col7\" >&nbsp;</th>\n",
       "      <th class=\"blank col8\" >&nbsp;</th>\n",
       "      <th class=\"blank col9\" >&nbsp;</th>\n",
       "      <th class=\"blank col10\" >&nbsp;</th>\n",
       "    </tr>\n",
       "  </thead>\n",
       "  <tbody>\n",
       "    <tr>\n",
       "      <th id=\"T_ea629_level0_row0\" class=\"row_heading level0 row0\" >0</th>\n",
       "      <td id=\"T_ea629_row0_col0\" class=\"data row0 col0\" >0.2482</td>\n",
       "      <td id=\"T_ea629_row0_col1\" class=\"data row0 col1\" >0.1191</td>\n",
       "      <td id=\"T_ea629_row0_col2\" class=\"data row0 col2\" >0.3452</td>\n",
       "      <td id=\"T_ea629_row0_col3\" class=\"data row0 col3\" >0.3447</td>\n",
       "      <td id=\"T_ea629_row0_col4\" class=\"data row0 col4\" >0.0943</td>\n",
       "      <td id=\"T_ea629_row0_col5\" class=\"data row0 col5\" >0.1010</td>\n",
       "      <td id=\"T_ea629_row0_col6\" class=\"data row0 col6\" >0.2680</td>\n",
       "      <td id=\"T_ea629_row0_col7\" class=\"data row0 col7\" >0.0806</td>\n",
       "      <td id=\"T_ea629_row0_col8\" class=\"data row0 col8\" >0.3452</td>\n",
       "      <td id=\"T_ea629_row0_col9\" class=\"data row0 col9\" >0.0992</td>\n",
       "      <td id=\"T_ea629_row0_col10\" class=\"data row0 col10\" >0.1017</td>\n",
       "    </tr>\n",
       "    <tr>\n",
       "      <th id=\"T_ea629_level0_row1\" class=\"row_heading level0 row1\" >1</th>\n",
       "      <td id=\"T_ea629_row1_col0\" class=\"data row1 col0\" >0.2119</td>\n",
       "      <td id=\"T_ea629_row1_col1\" class=\"data row1 col1\" >0.0970</td>\n",
       "      <td id=\"T_ea629_row1_col2\" class=\"data row1 col2\" >0.3114</td>\n",
       "      <td id=\"T_ea629_row1_col3\" class=\"data row1 col3\" >0.6459</td>\n",
       "      <td id=\"T_ea629_row1_col4\" class=\"data row1 col4\" >0.0839</td>\n",
       "      <td id=\"T_ea629_row1_col5\" class=\"data row1 col5\" >0.0824</td>\n",
       "      <td id=\"T_ea629_row1_col6\" class=\"data row1 col6\" >0.2179</td>\n",
       "      <td id=\"T_ea629_row1_col7\" class=\"data row1 col7\" >0.0614</td>\n",
       "      <td id=\"T_ea629_row1_col8\" class=\"data row1 col8\" >0.3114</td>\n",
       "      <td id=\"T_ea629_row1_col9\" class=\"data row1 col9\" >0.0888</td>\n",
       "      <td id=\"T_ea629_row1_col10\" class=\"data row1 col10\" >0.0593</td>\n",
       "    </tr>\n",
       "    <tr>\n",
       "      <th id=\"T_ea629_level0_row2\" class=\"row_heading level0 row2\" >2</th>\n",
       "      <td id=\"T_ea629_row2_col0\" class=\"data row2 col0\" >0.2116</td>\n",
       "      <td id=\"T_ea629_row2_col1\" class=\"data row2 col1\" >0.0837</td>\n",
       "      <td id=\"T_ea629_row2_col2\" class=\"data row2 col2\" >0.2893</td>\n",
       "      <td id=\"T_ea629_row2_col3\" class=\"data row2 col3\" >0.6743</td>\n",
       "      <td id=\"T_ea629_row2_col4\" class=\"data row2 col4\" >0.0803</td>\n",
       "      <td id=\"T_ea629_row2_col5\" class=\"data row2 col5\" >0.0856</td>\n",
       "      <td id=\"T_ea629_row2_col6\" class=\"data row2 col6\" >0.2268</td>\n",
       "      <td id=\"T_ea629_row2_col7\" class=\"data row2 col7\" >0.0649</td>\n",
       "      <td id=\"T_ea629_row2_col8\" class=\"data row2 col8\" >0.2893</td>\n",
       "      <td id=\"T_ea629_row2_col9\" class=\"data row2 col9\" >0.0846</td>\n",
       "      <td id=\"T_ea629_row2_col10\" class=\"data row2 col10\" >0.0678</td>\n",
       "    </tr>\n",
       "    <tr>\n",
       "      <th id=\"T_ea629_level0_row3\" class=\"row_heading level0 row3\" >3</th>\n",
       "      <td id=\"T_ea629_row3_col0\" class=\"data row3 col0\" >0.2473</td>\n",
       "      <td id=\"T_ea629_row3_col1\" class=\"data row3 col1\" >0.1026</td>\n",
       "      <td id=\"T_ea629_row3_col2\" class=\"data row3 col2\" >0.3203</td>\n",
       "      <td id=\"T_ea629_row3_col3\" class=\"data row3 col3\" >0.4330</td>\n",
       "      <td id=\"T_ea629_row3_col4\" class=\"data row3 col4\" >0.0894</td>\n",
       "      <td id=\"T_ea629_row3_col5\" class=\"data row3 col5\" >0.0966</td>\n",
       "      <td id=\"T_ea629_row3_col6\" class=\"data row3 col6\" >0.3220</td>\n",
       "      <td id=\"T_ea629_row3_col7\" class=\"data row3 col7\" >0.0870</td>\n",
       "      <td id=\"T_ea629_row3_col8\" class=\"data row3 col8\" >0.3203</td>\n",
       "      <td id=\"T_ea629_row3_col9\" class=\"data row3 col9\" >0.0886</td>\n",
       "      <td id=\"T_ea629_row3_col10\" class=\"data row3 col10\" >0.0763</td>\n",
       "    </tr>\n",
       "    <tr>\n",
       "      <th id=\"T_ea629_level0_row4\" class=\"row_heading level0 row4\" >4</th>\n",
       "      <td id=\"T_ea629_row4_col0\" class=\"data row4 col0\" >0.2039</td>\n",
       "      <td id=\"T_ea629_row4_col1\" class=\"data row4 col1\" >0.0895</td>\n",
       "      <td id=\"T_ea629_row4_col2\" class=\"data row4 col2\" >0.2992</td>\n",
       "      <td id=\"T_ea629_row4_col3\" class=\"data row4 col3\" >0.6556</td>\n",
       "      <td id=\"T_ea629_row4_col4\" class=\"data row4 col4\" >0.0825</td>\n",
       "      <td id=\"T_ea629_row4_col5\" class=\"data row4 col5\" >0.0820</td>\n",
       "      <td id=\"T_ea629_row4_col6\" class=\"data row4 col6\" >0.1708</td>\n",
       "      <td id=\"T_ea629_row4_col7\" class=\"data row4 col7\" >0.0508</td>\n",
       "      <td id=\"T_ea629_row4_col8\" class=\"data row4 col8\" >0.2992</td>\n",
       "      <td id=\"T_ea629_row4_col9\" class=\"data row4 col9\" >0.0868</td>\n",
       "      <td id=\"T_ea629_row4_col10\" class=\"data row4 col10\" >0.0763</td>\n",
       "    </tr>\n",
       "    <tr>\n",
       "      <th id=\"T_ea629_level0_row5\" class=\"row_heading level0 row5\" >5</th>\n",
       "      <td id=\"T_ea629_row5_col0\" class=\"data row5 col0\" >0.2240</td>\n",
       "      <td id=\"T_ea629_row5_col1\" class=\"data row5 col1\" >0.0939</td>\n",
       "      <td id=\"T_ea629_row5_col2\" class=\"data row5 col2\" >0.3065</td>\n",
       "      <td id=\"T_ea629_row5_col3\" class=\"data row5 col3\" >0.6926</td>\n",
       "      <td id=\"T_ea629_row5_col4\" class=\"data row5 col4\" >0.0808</td>\n",
       "      <td id=\"T_ea629_row5_col5\" class=\"data row5 col5\" >0.0842</td>\n",
       "      <td id=\"T_ea629_row5_col6\" class=\"data row5 col6\" >0.2547</td>\n",
       "      <td id=\"T_ea629_row5_col7\" class=\"data row5 col7\" >0.0670</td>\n",
       "      <td id=\"T_ea629_row5_col8\" class=\"data row5 col8\" >0.3065</td>\n",
       "      <td id=\"T_ea629_row5_col9\" class=\"data row5 col9\" >0.0790</td>\n",
       "      <td id=\"T_ea629_row5_col10\" class=\"data row5 col10\" >0.0684</td>\n",
       "    </tr>\n",
       "    <tr>\n",
       "      <th id=\"T_ea629_level0_row6\" class=\"row_heading level0 row6\" >6</th>\n",
       "      <td id=\"T_ea629_row6_col0\" class=\"data row6 col0\" >0.2494</td>\n",
       "      <td id=\"T_ea629_row6_col1\" class=\"data row6 col1\" >0.1427</td>\n",
       "      <td id=\"T_ea629_row6_col2\" class=\"data row6 col2\" >0.3777</td>\n",
       "      <td id=\"T_ea629_row6_col3\" class=\"data row6 col3\" >0.3940</td>\n",
       "      <td id=\"T_ea629_row6_col4\" class=\"data row6 col4\" >0.1001</td>\n",
       "      <td id=\"T_ea629_row6_col5\" class=\"data row6 col5\" >0.0971</td>\n",
       "      <td id=\"T_ea629_row6_col6\" class=\"data row6 col6\" >0.2319</td>\n",
       "      <td id=\"T_ea629_row6_col7\" class=\"data row6 col7\" >0.0705</td>\n",
       "      <td id=\"T_ea629_row6_col8\" class=\"data row6 col8\" >0.3777</td>\n",
       "      <td id=\"T_ea629_row6_col9\" class=\"data row6 col9\" >0.1069</td>\n",
       "      <td id=\"T_ea629_row6_col10\" class=\"data row6 col10\" >0.1026</td>\n",
       "    </tr>\n",
       "    <tr>\n",
       "      <th id=\"T_ea629_level0_row7\" class=\"row_heading level0 row7\" >7</th>\n",
       "      <td id=\"T_ea629_row7_col0\" class=\"data row7 col0\" >0.2528</td>\n",
       "      <td id=\"T_ea629_row7_col1\" class=\"data row7 col1\" >0.2205</td>\n",
       "      <td id=\"T_ea629_row7_col2\" class=\"data row7 col2\" >0.4696</td>\n",
       "      <td id=\"T_ea629_row7_col3\" class=\"data row7 col3\" >0.4410</td>\n",
       "      <td id=\"T_ea629_row7_col4\" class=\"data row7 col4\" >0.1075</td>\n",
       "      <td id=\"T_ea629_row7_col5\" class=\"data row7 col5\" >0.0894</td>\n",
       "      <td id=\"T_ea629_row7_col6\" class=\"data row7 col6\" >0.2723</td>\n",
       "      <td id=\"T_ea629_row7_col7\" class=\"data row7 col7\" >0.0713</td>\n",
       "      <td id=\"T_ea629_row7_col8\" class=\"data row7 col8\" >0.4696</td>\n",
       "      <td id=\"T_ea629_row7_col9\" class=\"data row7 col9\" >0.0929</td>\n",
       "      <td id=\"T_ea629_row7_col10\" class=\"data row7 col10\" >0.0855</td>\n",
       "    </tr>\n",
       "    <tr>\n",
       "      <th id=\"T_ea629_level0_row8\" class=\"row_heading level0 row8\" >8</th>\n",
       "      <td id=\"T_ea629_row8_col0\" class=\"data row8 col0\" >0.2141</td>\n",
       "      <td id=\"T_ea629_row8_col1\" class=\"data row8 col1\" >0.1062</td>\n",
       "      <td id=\"T_ea629_row8_col2\" class=\"data row8 col2\" >0.3259</td>\n",
       "      <td id=\"T_ea629_row8_col3\" class=\"data row8 col3\" >0.6276</td>\n",
       "      <td id=\"T_ea629_row8_col4\" class=\"data row8 col4\" >0.0830</td>\n",
       "      <td id=\"T_ea629_row8_col5\" class=\"data row8 col5\" >0.0801</td>\n",
       "      <td id=\"T_ea629_row8_col6\" class=\"data row8 col6\" >0.1798</td>\n",
       "      <td id=\"T_ea629_row8_col7\" class=\"data row8 col7\" >0.0521</td>\n",
       "      <td id=\"T_ea629_row8_col8\" class=\"data row8 col8\" >0.3259</td>\n",
       "      <td id=\"T_ea629_row8_col9\" class=\"data row8 col9\" >0.0825</td>\n",
       "      <td id=\"T_ea629_row8_col10\" class=\"data row8 col10\" >0.0684</td>\n",
       "    </tr>\n",
       "    <tr>\n",
       "      <th id=\"T_ea629_level0_row9\" class=\"row_heading level0 row9\" >9</th>\n",
       "      <td id=\"T_ea629_row9_col0\" class=\"data row9 col0\" >0.1808</td>\n",
       "      <td id=\"T_ea629_row9_col1\" class=\"data row9 col1\" >0.0556</td>\n",
       "      <td id=\"T_ea629_row9_col2\" class=\"data row9 col2\" >0.2359</td>\n",
       "      <td id=\"T_ea629_row9_col3\" class=\"data row9 col3\" >0.7874</td>\n",
       "      <td id=\"T_ea629_row9_col4\" class=\"data row9 col4\" >0.0667</td>\n",
       "      <td id=\"T_ea629_row9_col5\" class=\"data row9 col5\" >0.0733</td>\n",
       "      <td id=\"T_ea629_row9_col6\" class=\"data row9 col6\" >0.2029</td>\n",
       "      <td id=\"T_ea629_row9_col7\" class=\"data row9 col7\" >0.0572</td>\n",
       "      <td id=\"T_ea629_row9_col8\" class=\"data row9 col8\" >0.2359</td>\n",
       "      <td id=\"T_ea629_row9_col9\" class=\"data row9 col9\" >0.0690</td>\n",
       "      <td id=\"T_ea629_row9_col10\" class=\"data row9 col10\" >0.0513</td>\n",
       "    </tr>\n",
       "    <tr>\n",
       "      <th id=\"T_ea629_level0_row10\" class=\"row_heading level0 row10\" >Mean</th>\n",
       "      <td id=\"T_ea629_row10_col0\" class=\"data row10 col0\" >0.2244</td>\n",
       "      <td id=\"T_ea629_row10_col1\" class=\"data row10 col1\" >0.1111</td>\n",
       "      <td id=\"T_ea629_row10_col2\" class=\"data row10 col2\" >0.3281</td>\n",
       "      <td id=\"T_ea629_row10_col3\" class=\"data row10 col3\" >0.5696</td>\n",
       "      <td id=\"T_ea629_row10_col4\" class=\"data row10 col4\" >0.0869</td>\n",
       "      <td id=\"T_ea629_row10_col5\" class=\"data row10 col5\" >0.0872</td>\n",
       "      <td id=\"T_ea629_row10_col6\" class=\"data row10 col6\" >0.2347</td>\n",
       "      <td id=\"T_ea629_row10_col7\" class=\"data row10 col7\" >0.0663</td>\n",
       "      <td id=\"T_ea629_row10_col8\" class=\"data row10 col8\" >0.3281</td>\n",
       "      <td id=\"T_ea629_row10_col9\" class=\"data row10 col9\" >0.0878</td>\n",
       "      <td id=\"T_ea629_row10_col10\" class=\"data row10 col10\" >0.0757</td>\n",
       "    </tr>\n",
       "    <tr>\n",
       "      <th id=\"T_ea629_level0_row11\" class=\"row_heading level0 row11\" >Std</th>\n",
       "      <td id=\"T_ea629_row11_col0\" class=\"data row11 col0\" >0.0229</td>\n",
       "      <td id=\"T_ea629_row11_col1\" class=\"data row11 col1\" >0.0423</td>\n",
       "      <td id=\"T_ea629_row11_col2\" class=\"data row11 col2\" >0.0587</td>\n",
       "      <td id=\"T_ea629_row11_col3\" class=\"data row11 col3\" >0.1438</td>\n",
       "      <td id=\"T_ea629_row11_col4\" class=\"data row11 col4\" >0.0109</td>\n",
       "      <td id=\"T_ea629_row11_col5\" class=\"data row11 col5\" >0.0083</td>\n",
       "      <td id=\"T_ea629_row11_col6\" class=\"data row11 col6\" >0.0436</td>\n",
       "      <td id=\"T_ea629_row11_col7\" class=\"data row11 col7\" >0.0111</td>\n",
       "      <td id=\"T_ea629_row11_col8\" class=\"data row11 col8\" >0.0587</td>\n",
       "      <td id=\"T_ea629_row11_col9\" class=\"data row11 col9\" >0.0100</td>\n",
       "      <td id=\"T_ea629_row11_col10\" class=\"data row11 col10\" >0.0159</td>\n",
       "    </tr>\n",
       "  </tbody>\n",
       "</table>\n"
      ],
      "text/plain": [
       "<pandas.io.formats.style.Styler at 0x7fe024c81a00>"
      ]
     },
     "metadata": {},
     "output_type": "display_data"
    }
   ],
   "source": [
    "stacked_model_z = pyr.stack_models(estimator_list=top_model_z[1:], meta_model=top_model_z[0],\\\n",
    "                                   optimize=metric_2_opt, restack=True)"
   ]
  },
  {
   "cell_type": "code",
   "execution_count": 54,
   "id": "b27d30de",
   "metadata": {
    "id": "Dz0XvX17teel"
   },
   "outputs": [
    {
     "data": {
      "text/html": [
       "<style type=\"text/css\">\n",
       "#T_481dd_row10_col0, #T_481dd_row10_col1, #T_481dd_row10_col2, #T_481dd_row10_col3, #T_481dd_row10_col4, #T_481dd_row10_col5, #T_481dd_row10_col6, #T_481dd_row10_col7, #T_481dd_row10_col8, #T_481dd_row10_col9, #T_481dd_row10_col10 {\n",
       "  background: yellow;\n",
       "}\n",
       "</style>\n",
       "<table id=\"T_481dd\">\n",
       "  <thead>\n",
       "    <tr>\n",
       "      <th class=\"blank level0\" >&nbsp;</th>\n",
       "      <th id=\"T_481dd_level0_col0\" class=\"col_heading level0 col0\" >MAE</th>\n",
       "      <th id=\"T_481dd_level0_col1\" class=\"col_heading level0 col1\" >MSE</th>\n",
       "      <th id=\"T_481dd_level0_col2\" class=\"col_heading level0 col2\" >RMSE</th>\n",
       "      <th id=\"T_481dd_level0_col3\" class=\"col_heading level0 col3\" >R2</th>\n",
       "      <th id=\"T_481dd_level0_col4\" class=\"col_heading level0 col4\" >RMSLE</th>\n",
       "      <th id=\"T_481dd_level0_col5\" class=\"col_heading level0 col5\" >MAPE</th>\n",
       "      <th id=\"T_481dd_level0_col6\" class=\"col_heading level0 col6\" >sigma_mad</th>\n",
       "      <th id=\"T_481dd_level0_col7\" class=\"col_heading level0 col7\" >sigma_nmad</th>\n",
       "      <th id=\"T_481dd_level0_col8\" class=\"col_heading level0 col8\" >sigma_z</th>\n",
       "      <th id=\"T_481dd_level0_col9\" class=\"col_heading level0 col9\" >sigma_z_norm</th>\n",
       "      <th id=\"T_481dd_level0_col10\" class=\"col_heading level0 col10\" >outlier_fr</th>\n",
       "    </tr>\n",
       "    <tr>\n",
       "      <th class=\"index_name level0\" >Fold</th>\n",
       "      <th class=\"blank col0\" >&nbsp;</th>\n",
       "      <th class=\"blank col1\" >&nbsp;</th>\n",
       "      <th class=\"blank col2\" >&nbsp;</th>\n",
       "      <th class=\"blank col3\" >&nbsp;</th>\n",
       "      <th class=\"blank col4\" >&nbsp;</th>\n",
       "      <th class=\"blank col5\" >&nbsp;</th>\n",
       "      <th class=\"blank col6\" >&nbsp;</th>\n",
       "      <th class=\"blank col7\" >&nbsp;</th>\n",
       "      <th class=\"blank col8\" >&nbsp;</th>\n",
       "      <th class=\"blank col9\" >&nbsp;</th>\n",
       "      <th class=\"blank col10\" >&nbsp;</th>\n",
       "    </tr>\n",
       "  </thead>\n",
       "  <tbody>\n",
       "    <tr>\n",
       "      <th id=\"T_481dd_level0_row0\" class=\"row_heading level0 row0\" >0</th>\n",
       "      <td id=\"T_481dd_row0_col0\" class=\"data row0 col0\" >0.2391</td>\n",
       "      <td id=\"T_481dd_row0_col1\" class=\"data row0 col1\" >0.1142</td>\n",
       "      <td id=\"T_481dd_row0_col2\" class=\"data row0 col2\" >0.3379</td>\n",
       "      <td id=\"T_481dd_row0_col3\" class=\"data row0 col3\" >0.3718</td>\n",
       "      <td id=\"T_481dd_row0_col4\" class=\"data row0 col4\" >0.0923</td>\n",
       "      <td id=\"T_481dd_row0_col5\" class=\"data row0 col5\" >0.0977</td>\n",
       "      <td id=\"T_481dd_row0_col6\" class=\"data row0 col6\" >0.2672</td>\n",
       "      <td id=\"T_481dd_row0_col7\" class=\"data row0 col7\" >0.0800</td>\n",
       "      <td id=\"T_481dd_row0_col8\" class=\"data row0 col8\" >0.3379</td>\n",
       "      <td id=\"T_481dd_row0_col9\" class=\"data row0 col9\" >0.0975</td>\n",
       "      <td id=\"T_481dd_row0_col10\" class=\"data row0 col10\" >0.0932</td>\n",
       "    </tr>\n",
       "    <tr>\n",
       "      <th id=\"T_481dd_level0_row1\" class=\"row_heading level0 row1\" >1</th>\n",
       "      <td id=\"T_481dd_row1_col0\" class=\"data row1 col0\" >0.2068</td>\n",
       "      <td id=\"T_481dd_row1_col1\" class=\"data row1 col1\" >0.0888</td>\n",
       "      <td id=\"T_481dd_row1_col2\" class=\"data row1 col2\" >0.2981</td>\n",
       "      <td id=\"T_481dd_row1_col3\" class=\"data row1 col3\" >0.6756</td>\n",
       "      <td id=\"T_481dd_row1_col4\" class=\"data row1 col4\" >0.0802</td>\n",
       "      <td id=\"T_481dd_row1_col5\" class=\"data row1 col5\" >0.0797</td>\n",
       "      <td id=\"T_481dd_row1_col6\" class=\"data row1 col6\" >0.1925</td>\n",
       "      <td id=\"T_481dd_row1_col7\" class=\"data row1 col7\" >0.0555</td>\n",
       "      <td id=\"T_481dd_row1_col8\" class=\"data row1 col8\" >0.2981</td>\n",
       "      <td id=\"T_481dd_row1_col9\" class=\"data row1 col9\" >0.0837</td>\n",
       "      <td id=\"T_481dd_row1_col10\" class=\"data row1 col10\" >0.0339</td>\n",
       "    </tr>\n",
       "    <tr>\n",
       "      <th id=\"T_481dd_level0_row2\" class=\"row_heading level0 row2\" >2</th>\n",
       "      <td id=\"T_481dd_row2_col0\" class=\"data row2 col0\" >0.2114</td>\n",
       "      <td id=\"T_481dd_row2_col1\" class=\"data row2 col1\" >0.0782</td>\n",
       "      <td id=\"T_481dd_row2_col2\" class=\"data row2 col2\" >0.2796</td>\n",
       "      <td id=\"T_481dd_row2_col3\" class=\"data row2 col3\" >0.6958</td>\n",
       "      <td id=\"T_481dd_row2_col4\" class=\"data row2 col4\" >0.0776</td>\n",
       "      <td id=\"T_481dd_row2_col5\" class=\"data row2 col5\" >0.0849</td>\n",
       "      <td id=\"T_481dd_row2_col6\" class=\"data row2 col6\" >0.2370</td>\n",
       "      <td id=\"T_481dd_row2_col7\" class=\"data row2 col7\" >0.0638</td>\n",
       "      <td id=\"T_481dd_row2_col8\" class=\"data row2 col8\" >0.2796</td>\n",
       "      <td id=\"T_481dd_row2_col9\" class=\"data row2 col9\" >0.0808</td>\n",
       "      <td id=\"T_481dd_row2_col10\" class=\"data row2 col10\" >0.0678</td>\n",
       "    </tr>\n",
       "    <tr>\n",
       "      <th id=\"T_481dd_level0_row3\" class=\"row_heading level0 row3\" >3</th>\n",
       "      <td id=\"T_481dd_row3_col0\" class=\"data row3 col0\" >0.2414</td>\n",
       "      <td id=\"T_481dd_row3_col1\" class=\"data row3 col1\" >0.0969</td>\n",
       "      <td id=\"T_481dd_row3_col2\" class=\"data row3 col2\" >0.3112</td>\n",
       "      <td id=\"T_481dd_row3_col3\" class=\"data row3 col3\" >0.4648</td>\n",
       "      <td id=\"T_481dd_row3_col4\" class=\"data row3 col4\" >0.0864</td>\n",
       "      <td id=\"T_481dd_row3_col5\" class=\"data row3 col5\" >0.0938</td>\n",
       "      <td id=\"T_481dd_row3_col6\" class=\"data row3 col6\" >0.2865</td>\n",
       "      <td id=\"T_481dd_row3_col7\" class=\"data row3 col7\" >0.0824</td>\n",
       "      <td id=\"T_481dd_row3_col8\" class=\"data row3 col8\" >0.3112</td>\n",
       "      <td id=\"T_481dd_row3_col9\" class=\"data row3 col9\" >0.0857</td>\n",
       "      <td id=\"T_481dd_row3_col10\" class=\"data row3 col10\" >0.0678</td>\n",
       "    </tr>\n",
       "    <tr>\n",
       "      <th id=\"T_481dd_level0_row4\" class=\"row_heading level0 row4\" >4</th>\n",
       "      <td id=\"T_481dd_row4_col0\" class=\"data row4 col0\" >0.1943</td>\n",
       "      <td id=\"T_481dd_row4_col1\" class=\"data row4 col1\" >0.0818</td>\n",
       "      <td id=\"T_481dd_row4_col2\" class=\"data row4 col2\" >0.2861</td>\n",
       "      <td id=\"T_481dd_row4_col3\" class=\"data row4 col3\" >0.6852</td>\n",
       "      <td id=\"T_481dd_row4_col4\" class=\"data row4 col4\" >0.0786</td>\n",
       "      <td id=\"T_481dd_row4_col5\" class=\"data row4 col5\" >0.0778</td>\n",
       "      <td id=\"T_481dd_row4_col6\" class=\"data row4 col6\" >0.1788</td>\n",
       "      <td id=\"T_481dd_row4_col7\" class=\"data row4 col7\" >0.0562</td>\n",
       "      <td id=\"T_481dd_row4_col8\" class=\"data row4 col8\" >0.2861</td>\n",
       "      <td id=\"T_481dd_row4_col9\" class=\"data row4 col9\" >0.0829</td>\n",
       "      <td id=\"T_481dd_row4_col10\" class=\"data row4 col10\" >0.0763</td>\n",
       "    </tr>\n",
       "    <tr>\n",
       "      <th id=\"T_481dd_level0_row5\" class=\"row_heading level0 row5\" >5</th>\n",
       "      <td id=\"T_481dd_row5_col0\" class=\"data row5 col0\" >0.2194</td>\n",
       "      <td id=\"T_481dd_row5_col1\" class=\"data row5 col1\" >0.0874</td>\n",
       "      <td id=\"T_481dd_row5_col2\" class=\"data row5 col2\" >0.2957</td>\n",
       "      <td id=\"T_481dd_row5_col3\" class=\"data row5 col3\" >0.7138</td>\n",
       "      <td id=\"T_481dd_row5_col4\" class=\"data row5 col4\" >0.0778</td>\n",
       "      <td id=\"T_481dd_row5_col5\" class=\"data row5 col5\" >0.0821</td>\n",
       "      <td id=\"T_481dd_row5_col6\" class=\"data row5 col6\" >0.2451</td>\n",
       "      <td id=\"T_481dd_row5_col7\" class=\"data row5 col7\" >0.0696</td>\n",
       "      <td id=\"T_481dd_row5_col8\" class=\"data row5 col8\" >0.2957</td>\n",
       "      <td id=\"T_481dd_row5_col9\" class=\"data row5 col9\" >0.0764</td>\n",
       "      <td id=\"T_481dd_row5_col10\" class=\"data row5 col10\" >0.0684</td>\n",
       "    </tr>\n",
       "    <tr>\n",
       "      <th id=\"T_481dd_level0_row6\" class=\"row_heading level0 row6\" >6</th>\n",
       "      <td id=\"T_481dd_row6_col0\" class=\"data row6 col0\" >0.2431</td>\n",
       "      <td id=\"T_481dd_row6_col1\" class=\"data row6 col1\" >0.1373</td>\n",
       "      <td id=\"T_481dd_row6_col2\" class=\"data row6 col2\" >0.3705</td>\n",
       "      <td id=\"T_481dd_row6_col3\" class=\"data row6 col3\" >0.4168</td>\n",
       "      <td id=\"T_481dd_row6_col4\" class=\"data row6 col4\" >0.0978</td>\n",
       "      <td id=\"T_481dd_row6_col5\" class=\"data row6 col5\" >0.0956</td>\n",
       "      <td id=\"T_481dd_row6_col6\" class=\"data row6 col6\" >0.2298</td>\n",
       "      <td id=\"T_481dd_row6_col7\" class=\"data row6 col7\" >0.0702</td>\n",
       "      <td id=\"T_481dd_row6_col8\" class=\"data row6 col8\" >0.3705</td>\n",
       "      <td id=\"T_481dd_row6_col9\" class=\"data row6 col9\" >0.1060</td>\n",
       "      <td id=\"T_481dd_row6_col10\" class=\"data row6 col10\" >0.0769</td>\n",
       "    </tr>\n",
       "    <tr>\n",
       "      <th id=\"T_481dd_level0_row7\" class=\"row_heading level0 row7\" >7</th>\n",
       "      <td id=\"T_481dd_row7_col0\" class=\"data row7 col0\" >0.2418</td>\n",
       "      <td id=\"T_481dd_row7_col1\" class=\"data row7 col1\" >0.2108</td>\n",
       "      <td id=\"T_481dd_row7_col2\" class=\"data row7 col2\" >0.4592</td>\n",
       "      <td id=\"T_481dd_row7_col3\" class=\"data row7 col3\" >0.4654</td>\n",
       "      <td id=\"T_481dd_row7_col4\" class=\"data row7 col4\" >0.1047</td>\n",
       "      <td id=\"T_481dd_row7_col5\" class=\"data row7 col5\" >0.0858</td>\n",
       "      <td id=\"T_481dd_row7_col6\" class=\"data row7 col6\" >0.2517</td>\n",
       "      <td id=\"T_481dd_row7_col7\" class=\"data row7 col7\" >0.0683</td>\n",
       "      <td id=\"T_481dd_row7_col8\" class=\"data row7 col8\" >0.4592</td>\n",
       "      <td id=\"T_481dd_row7_col9\" class=\"data row7 col9\" >0.0904</td>\n",
       "      <td id=\"T_481dd_row7_col10\" class=\"data row7 col10\" >0.0684</td>\n",
       "    </tr>\n",
       "    <tr>\n",
       "      <th id=\"T_481dd_level0_row8\" class=\"row_heading level0 row8\" >8</th>\n",
       "      <td id=\"T_481dd_row8_col0\" class=\"data row8 col0\" >0.2169</td>\n",
       "      <td id=\"T_481dd_row8_col1\" class=\"data row8 col1\" >0.1123</td>\n",
       "      <td id=\"T_481dd_row8_col2\" class=\"data row8 col2\" >0.3351</td>\n",
       "      <td id=\"T_481dd_row8_col3\" class=\"data row8 col3\" >0.6062</td>\n",
       "      <td id=\"T_481dd_row8_col4\" class=\"data row8 col4\" >0.0845</td>\n",
       "      <td id=\"T_481dd_row8_col5\" class=\"data row8 col5\" >0.0802</td>\n",
       "      <td id=\"T_481dd_row8_col6\" class=\"data row8 col6\" >0.2004</td>\n",
       "      <td id=\"T_481dd_row8_col7\" class=\"data row8 col7\" >0.0562</td>\n",
       "      <td id=\"T_481dd_row8_col8\" class=\"data row8 col8\" >0.3351</td>\n",
       "      <td id=\"T_481dd_row8_col9\" class=\"data row8 col9\" >0.0816</td>\n",
       "      <td id=\"T_481dd_row8_col10\" class=\"data row8 col10\" >0.0513</td>\n",
       "    </tr>\n",
       "    <tr>\n",
       "      <th id=\"T_481dd_level0_row9\" class=\"row_heading level0 row9\" >9</th>\n",
       "      <td id=\"T_481dd_row9_col0\" class=\"data row9 col0\" >0.1875</td>\n",
       "      <td id=\"T_481dd_row9_col1\" class=\"data row9 col1\" >0.0596</td>\n",
       "      <td id=\"T_481dd_row9_col2\" class=\"data row9 col2\" >0.2441</td>\n",
       "      <td id=\"T_481dd_row9_col3\" class=\"data row9 col3\" >0.7723</td>\n",
       "      <td id=\"T_481dd_row9_col4\" class=\"data row9 col4\" >0.0675</td>\n",
       "      <td id=\"T_481dd_row9_col5\" class=\"data row9 col5\" >0.0744</td>\n",
       "      <td id=\"T_481dd_row9_col6\" class=\"data row9 col6\" >0.2112</td>\n",
       "      <td id=\"T_481dd_row9_col7\" class=\"data row9 col7\" >0.0610</td>\n",
       "      <td id=\"T_481dd_row9_col8\" class=\"data row9 col8\" >0.2441</td>\n",
       "      <td id=\"T_481dd_row9_col9\" class=\"data row9 col9\" >0.0694</td>\n",
       "      <td id=\"T_481dd_row9_col10\" class=\"data row9 col10\" >0.0256</td>\n",
       "    </tr>\n",
       "    <tr>\n",
       "      <th id=\"T_481dd_level0_row10\" class=\"row_heading level0 row10\" >Mean</th>\n",
       "      <td id=\"T_481dd_row10_col0\" class=\"data row10 col0\" >0.2202</td>\n",
       "      <td id=\"T_481dd_row10_col1\" class=\"data row10 col1\" >0.1067</td>\n",
       "      <td id=\"T_481dd_row10_col2\" class=\"data row10 col2\" >0.3218</td>\n",
       "      <td id=\"T_481dd_row10_col3\" class=\"data row10 col3\" >0.5868</td>\n",
       "      <td id=\"T_481dd_row10_col4\" class=\"data row10 col4\" >0.0847</td>\n",
       "      <td id=\"T_481dd_row10_col5\" class=\"data row10 col5\" >0.0852</td>\n",
       "      <td id=\"T_481dd_row10_col6\" class=\"data row10 col6\" >0.2300</td>\n",
       "      <td id=\"T_481dd_row10_col7\" class=\"data row10 col7\" >0.0663</td>\n",
       "      <td id=\"T_481dd_row10_col8\" class=\"data row10 col8\" >0.3218</td>\n",
       "      <td id=\"T_481dd_row10_col9\" class=\"data row10 col9\" >0.0854</td>\n",
       "      <td id=\"T_481dd_row10_col10\" class=\"data row10 col10\" >0.0630</td>\n",
       "    </tr>\n",
       "    <tr>\n",
       "      <th id=\"T_481dd_level0_row11\" class=\"row_heading level0 row11\" >Std</th>\n",
       "      <td id=\"T_481dd_row11_col0\" class=\"data row11 col0\" >0.0195</td>\n",
       "      <td id=\"T_481dd_row11_col1\" class=\"data row11 col1\" >0.0404</td>\n",
       "      <td id=\"T_481dd_row11_col2\" class=\"data row11 col2\" >0.0567</td>\n",
       "      <td id=\"T_481dd_row11_col3\" class=\"data row11 col3\" >0.1360</td>\n",
       "      <td id=\"T_481dd_row11_col4\" class=\"data row11 col4\" >0.0104</td>\n",
       "      <td id=\"T_481dd_row11_col5\" class=\"data row11 col5\" >0.0076</td>\n",
       "      <td id=\"T_481dd_row11_col6\" class=\"data row11 col6\" >0.0325</td>\n",
       "      <td id=\"T_481dd_row11_col7\" class=\"data row11 col7\" >0.0091</td>\n",
       "      <td id=\"T_481dd_row11_col8\" class=\"data row11 col8\" >0.0567</td>\n",
       "      <td id=\"T_481dd_row11_col9\" class=\"data row11 col9\" >0.0099</td>\n",
       "      <td id=\"T_481dd_row11_col10\" class=\"data row11 col10\" >0.0194</td>\n",
       "    </tr>\n",
       "  </tbody>\n",
       "</table>\n"
      ],
      "text/plain": [
       "<pandas.io.formats.style.Styler at 0x7fe0513329d0>"
      ]
     },
     "metadata": {},
     "output_type": "display_data"
    }
   ],
   "source": [
    "tuned_z_reg = pyr.tune_model(stacked_model_z, early_stopping=True, optimize=metric_2_opt,\\\n",
    "                               search_library='tune-sklearn', search_algorithm='bayesian', choose_better=True)  # 1h30"
   ]
  },
  {
   "cell_type": "code",
   "execution_count": 55,
   "id": "8bd283a3",
   "metadata": {
    "id": "GJfDVspZtn7Z"
   },
   "outputs": [
    {
     "data": {
      "image/png": "[encoded data removed]",
      "text/plain": [
       "<Figure size 640x480 with 1 Axes>"
      ]
     },
     "metadata": {},
     "output_type": "display_data"
    }
   ],
   "source": [
    "pyr.plot_model(tuned_z_reg, plot='error')"
   ]
  },
  {
   "cell_type": "code",
   "execution_count": 56,
   "id": "488e9033",
   "metadata": {
    "id": "3N6_OxWptsEe",
    "tags": []
   },
   "outputs": [
    {
     "data": {
      "image/png": "[encoded data removed]",
      "text/plain": [
       "<Figure size 640x480 with 2 Axes>"
      ]
     },
     "metadata": {},
     "output_type": "display_data"
    }
   ],
   "source": [
    "pyr.plot_model(tuned_z_reg, plot='residuals')"
   ]
  },
  {
   "cell_type": "code",
   "execution_count": null,
   "id": "feca1f1b",
   "metadata": {
    "id": "Mq15jdjqtv3Y"
   },
   "outputs": [],
   "source": [
    "# pyr.plot_model(tuned_z_reg.estimators_[0], plot='feature_all')"
   ]
  },
  {
   "cell_type": "code",
   "execution_count": 57,
   "id": "30aa033a",
   "metadata": {
    "id": "Mq15jdjqtv3Y"
   },
   "outputs": [
    {
     "data": {
      "text/html": [
       "<div>\n",
       "<style scoped>\n",
       "    .dataframe tbody tr th:only-of-type {\n",
       "        vertical-align: middle;\n",
       "    }\n",
       "\n",
       "    .dataframe tbody tr th {\n",
       "        vertical-align: top;\n",
       "    }\n",
       "\n",
       "    .dataframe thead th {\n",
       "        text-align: right;\n",
       "    }\n",
       "</style>\n",
       "<table border=\"1\" class=\"dataframe\">\n",
       "  <thead>\n",
       "    <tr style=\"text-align: right;\">\n",
       "      <th></th>\n",
       "      <th>Parameters</th>\n",
       "    </tr>\n",
       "  </thead>\n",
       "  <tbody>\n",
       "    <tr>\n",
       "      <th>bootstrap</th>\n",
       "      <td>True</td>\n",
       "    </tr>\n",
       "    <tr>\n",
       "      <th>ccp_alpha</th>\n",
       "      <td>0.0</td>\n",
       "    </tr>\n",
       "    <tr>\n",
       "      <th>criterion</th>\n",
       "      <td>mse</td>\n",
       "    </tr>\n",
       "    <tr>\n",
       "      <th>max_depth</th>\n",
       "      <td>8</td>\n",
       "    </tr>\n",
       "    <tr>\n",
       "      <th>max_features</th>\n",
       "      <td>0.9631316254094502</td>\n",
       "    </tr>\n",
       "    <tr>\n",
       "      <th>max_leaf_nodes</th>\n",
       "      <td>None</td>\n",
       "    </tr>\n",
       "    <tr>\n",
       "      <th>max_samples</th>\n",
       "      <td>None</td>\n",
       "    </tr>\n",
       "    <tr>\n",
       "      <th>min_impurity_decrease</th>\n",
       "      <td>1.0157210681093717e-09</td>\n",
       "    </tr>\n",
       "    <tr>\n",
       "      <th>min_impurity_split</th>\n",
       "      <td>None</td>\n",
       "    </tr>\n",
       "    <tr>\n",
       "      <th>min_samples_leaf</th>\n",
       "      <td>4</td>\n",
       "    </tr>\n",
       "    <tr>\n",
       "      <th>min_samples_split</th>\n",
       "      <td>2</td>\n",
       "    </tr>\n",
       "    <tr>\n",
       "      <th>min_weight_fraction_leaf</th>\n",
       "      <td>0.0</td>\n",
       "    </tr>\n",
       "    <tr>\n",
       "      <th>n_estimators</th>\n",
       "      <td>51</td>\n",
       "    </tr>\n",
       "    <tr>\n",
       "      <th>n_jobs</th>\n",
       "      <td>12</td>\n",
       "    </tr>\n",
       "    <tr>\n",
       "      <th>oob_score</th>\n",
       "      <td>False</td>\n",
       "    </tr>\n",
       "    <tr>\n",
       "      <th>random_state</th>\n",
       "      <td>42</td>\n",
       "    </tr>\n",
       "    <tr>\n",
       "      <th>verbose</th>\n",
       "      <td>0</td>\n",
       "    </tr>\n",
       "    <tr>\n",
       "      <th>warm_start</th>\n",
       "      <td>False</td>\n",
       "    </tr>\n",
       "  </tbody>\n",
       "</table>\n",
       "</div>"
      ],
      "text/plain": [
       "                                      Parameters\n",
       "bootstrap                                   True\n",
       "ccp_alpha                                    0.0\n",
       "criterion                                    mse\n",
       "max_depth                                      8\n",
       "max_features                  0.9631316254094502\n",
       "max_leaf_nodes                              None\n",
       "max_samples                                 None\n",
       "min_impurity_decrease     1.0157210681093717e-09\n",
       "min_impurity_split                          None\n",
       "min_samples_leaf                               4\n",
       "min_samples_split                              2\n",
       "min_weight_fraction_leaf                     0.0\n",
       "n_estimators                                  51\n",
       "n_jobs                                        12\n",
       "oob_score                                  False\n",
       "random_state                                  42\n",
       "verbose                                        0\n",
       "warm_start                                 False"
      ]
     },
     "metadata": {},
     "output_type": "display_data"
    }
   ],
   "source": [
    "pyr.plot_model(tuned_z_reg.final_estimator_, plot='parameter')"
   ]
  },
  {
   "cell_type": "code",
   "execution_count": 58,
   "id": "aa0278cc",
   "metadata": {
    "id": "Mq15jdjqtv3Y"
   },
   "outputs": [
    {
     "data": {
      "text/html": [
       "<div>\n",
       "<style scoped>\n",
       "    .dataframe tbody tr th:only-of-type {\n",
       "        vertical-align: middle;\n",
       "    }\n",
       "\n",
       "    .dataframe tbody tr th {\n",
       "        vertical-align: top;\n",
       "    }\n",
       "\n",
       "    .dataframe thead th {\n",
       "        text-align: right;\n",
       "    }\n",
       "</style>\n",
       "<table border=\"1\" class=\"dataframe\">\n",
       "  <thead>\n",
       "    <tr style=\"text-align: right;\">\n",
       "      <th></th>\n",
       "      <th>Parameters</th>\n",
       "    </tr>\n",
       "  </thead>\n",
       "  <tbody>\n",
       "    <tr>\n",
       "      <th>bootstrap</th>\n",
       "      <td>True</td>\n",
       "    </tr>\n",
       "    <tr>\n",
       "      <th>ccp_alpha</th>\n",
       "      <td>0.0</td>\n",
       "    </tr>\n",
       "    <tr>\n",
       "      <th>criterion</th>\n",
       "      <td>mse</td>\n",
       "    </tr>\n",
       "    <tr>\n",
       "      <th>max_depth</th>\n",
       "      <td>8</td>\n",
       "    </tr>\n",
       "    <tr>\n",
       "      <th>max_features</th>\n",
       "      <td>0.9631316254094502</td>\n",
       "    </tr>\n",
       "    <tr>\n",
       "      <th>max_leaf_nodes</th>\n",
       "      <td>None</td>\n",
       "    </tr>\n",
       "    <tr>\n",
       "      <th>max_samples</th>\n",
       "      <td>None</td>\n",
       "    </tr>\n",
       "    <tr>\n",
       "      <th>min_impurity_decrease</th>\n",
       "      <td>1.0157210681093717e-09</td>\n",
       "    </tr>\n",
       "    <tr>\n",
       "      <th>min_impurity_split</th>\n",
       "      <td>None</td>\n",
       "    </tr>\n",
       "    <tr>\n",
       "      <th>min_samples_leaf</th>\n",
       "      <td>4</td>\n",
       "    </tr>\n",
       "    <tr>\n",
       "      <th>min_samples_split</th>\n",
       "      <td>2</td>\n",
       "    </tr>\n",
       "    <tr>\n",
       "      <th>min_weight_fraction_leaf</th>\n",
       "      <td>0.0</td>\n",
       "    </tr>\n",
       "    <tr>\n",
       "      <th>n_estimators</th>\n",
       "      <td>51</td>\n",
       "    </tr>\n",
       "    <tr>\n",
       "      <th>n_jobs</th>\n",
       "      <td>12</td>\n",
       "    </tr>\n",
       "    <tr>\n",
       "      <th>oob_score</th>\n",
       "      <td>False</td>\n",
       "    </tr>\n",
       "    <tr>\n",
       "      <th>random_state</th>\n",
       "      <td>42</td>\n",
       "    </tr>\n",
       "    <tr>\n",
       "      <th>verbose</th>\n",
       "      <td>0</td>\n",
       "    </tr>\n",
       "    <tr>\n",
       "      <th>warm_start</th>\n",
       "      <td>False</td>\n",
       "    </tr>\n",
       "  </tbody>\n",
       "</table>\n",
       "</div>"
      ],
      "text/plain": [
       "                                      Parameters\n",
       "bootstrap                                   True\n",
       "ccp_alpha                                    0.0\n",
       "criterion                                    mse\n",
       "max_depth                                      8\n",
       "max_features                  0.9631316254094502\n",
       "max_leaf_nodes                              None\n",
       "max_samples                                 None\n",
       "min_impurity_decrease     1.0157210681093717e-09\n",
       "min_impurity_split                          None\n",
       "min_samples_leaf                               4\n",
       "min_samples_split                              2\n",
       "min_weight_fraction_leaf                     0.0\n",
       "n_estimators                                  51\n",
       "n_jobs                                        12\n",
       "oob_score                                  False\n",
       "random_state                                  42\n",
       "verbose                                        0\n",
       "warm_start                                 False"
      ]
     },
     "metadata": {},
     "output_type": "display_data"
    }
   ],
   "source": [
    "pyr.plot_model(tuned_z_reg.final_estimator, plot='parameter')"
   ]
  },
  {
   "cell_type": "code",
   "execution_count": 59,
   "id": "a4549701",
   "metadata": {
    "id": "t2CRgDLptzuE"
   },
   "outputs": [],
   "source": [
    "plt.rcParams.update(plt.rcParamsDefault)"
   ]
  },
  {
   "cell_type": "code",
   "execution_count": 60,
   "id": "6f1a9920",
   "metadata": {},
   "outputs": [
    {
     "data": {
      "text/html": [
       "<style type=\"text/css\">\n",
       "</style>\n",
       "<table id=\"T_6abd9\">\n",
       "  <thead>\n",
       "    <tr>\n",
       "      <th class=\"blank level0\" >&nbsp;</th>\n",
       "      <th id=\"T_6abd9_level0_col0\" class=\"col_heading level0 col0\" >Model</th>\n",
       "      <th id=\"T_6abd9_level0_col1\" class=\"col_heading level0 col1\" >MAE</th>\n",
       "      <th id=\"T_6abd9_level0_col2\" class=\"col_heading level0 col2\" >MSE</th>\n",
       "      <th id=\"T_6abd9_level0_col3\" class=\"col_heading level0 col3\" >RMSE</th>\n",
       "      <th id=\"T_6abd9_level0_col4\" class=\"col_heading level0 col4\" >R2</th>\n",
       "      <th id=\"T_6abd9_level0_col5\" class=\"col_heading level0 col5\" >RMSLE</th>\n",
       "      <th id=\"T_6abd9_level0_col6\" class=\"col_heading level0 col6\" >MAPE</th>\n",
       "      <th id=\"T_6abd9_level0_col7\" class=\"col_heading level0 col7\" >sigma_mad</th>\n",
       "      <th id=\"T_6abd9_level0_col8\" class=\"col_heading level0 col8\" >sigma_nmad</th>\n",
       "      <th id=\"T_6abd9_level0_col9\" class=\"col_heading level0 col9\" >sigma_z</th>\n",
       "      <th id=\"T_6abd9_level0_col10\" class=\"col_heading level0 col10\" >sigma_z_norm</th>\n",
       "      <th id=\"T_6abd9_level0_col11\" class=\"col_heading level0 col11\" >outlier_fr</th>\n",
       "    </tr>\n",
       "  </thead>\n",
       "  <tbody>\n",
       "    <tr>\n",
       "      <th id=\"T_6abd9_level0_row0\" class=\"row_heading level0 row0\" >0</th>\n",
       "      <td id=\"T_6abd9_row0_col0\" class=\"data row0 col0\" >Stacking Regressor</td>\n",
       "      <td id=\"T_6abd9_row0_col1\" class=\"data row0 col1\" >0.2041</td>\n",
       "      <td id=\"T_6abd9_row0_col2\" class=\"data row0 col2\" >0.0750</td>\n",
       "      <td id=\"T_6abd9_row0_col3\" class=\"data row0 col3\" >0.2739</td>\n",
       "      <td id=\"T_6abd9_row0_col4\" class=\"data row0 col4\" >0.5504</td>\n",
       "      <td id=\"T_6abd9_row0_col5\" class=\"data row0 col5\" >0.0763</td>\n",
       "      <td id=\"T_6abd9_row0_col6\" class=\"data row0 col6\" >0.0819</td>\n",
       "      <td id=\"T_6abd9_row0_col7\" class=\"data row0 col7\" >0.2400</td>\n",
       "      <td id=\"T_6abd9_row0_col8\" class=\"data row0 col8\" >0.0669</td>\n",
       "      <td id=\"T_6abd9_row0_col9\" class=\"data row0 col9\" >0.2739</td>\n",
       "      <td id=\"T_6abd9_row0_col10\" class=\"data row0 col10\" >0.0774</td>\n",
       "      <td id=\"T_6abd9_row0_col11\" class=\"data row0 col11\" >0.0706</td>\n",
       "    </tr>\n",
       "  </tbody>\n",
       "</table>\n"
      ],
      "text/plain": [
       "<pandas.io.formats.style.Styler at 0x7fddb2e8f7c0>"
      ]
     },
     "metadata": {},
     "output_type": "display_data"
    },
    {
     "data": {
      "text/html": [
       "<div>\n",
       "<style scoped>\n",
       "    .dataframe tbody tr th:only-of-type {\n",
       "        vertical-align: middle;\n",
       "    }\n",
       "\n",
       "    .dataframe tbody tr th {\n",
       "        vertical-align: top;\n",
       "    }\n",
       "\n",
       "    .dataframe thead th {\n",
       "        text-align: right;\n",
       "    }\n",
       "</style>\n",
       "<table border=\"1\" class=\"dataframe\">\n",
       "  <thead>\n",
       "    <tr style=\"text-align: right;\">\n",
       "      <th></th>\n",
       "      <th>Z</th>\n",
       "      <th>Label</th>\n",
       "    </tr>\n",
       "  </thead>\n",
       "  <tbody>\n",
       "    <tr>\n",
       "      <th>count</th>\n",
       "      <td>170.000000</td>\n",
       "      <td>170.000000</td>\n",
       "    </tr>\n",
       "    <tr>\n",
       "      <th>mean</th>\n",
       "      <td>2.501088</td>\n",
       "      <td>2.514636</td>\n",
       "    </tr>\n",
       "    <tr>\n",
       "      <th>std</th>\n",
       "      <td>0.409682</td>\n",
       "      <td>0.320884</td>\n",
       "    </tr>\n",
       "    <tr>\n",
       "      <th>min</th>\n",
       "      <td>2.002000</td>\n",
       "      <td>2.096870</td>\n",
       "    </tr>\n",
       "    <tr>\n",
       "      <th>25%</th>\n",
       "      <td>2.171750</td>\n",
       "      <td>2.298746</td>\n",
       "    </tr>\n",
       "    <tr>\n",
       "      <th>50%</th>\n",
       "      <td>2.411000</td>\n",
       "      <td>2.467835</td>\n",
       "    </tr>\n",
       "    <tr>\n",
       "      <th>75%</th>\n",
       "      <td>2.731500</td>\n",
       "      <td>2.679613</td>\n",
       "    </tr>\n",
       "    <tr>\n",
       "      <th>max</th>\n",
       "      <td>3.920000</td>\n",
       "      <td>3.789828</td>\n",
       "    </tr>\n",
       "  </tbody>\n",
       "</table>\n",
       "</div>"
      ],
      "text/plain": [
       "                Z       Label\n",
       "count  170.000000  170.000000\n",
       "mean     2.501088    2.514636\n",
       "std      0.409682    0.320884\n",
       "min      2.002000    2.096870\n",
       "25%      2.171750    2.298746\n",
       "50%      2.411000    2.467835\n",
       "75%      2.731500    2.679613\n",
       "max      3.920000    3.789828"
      ]
     },
     "execution_count": 60,
     "metadata": {},
     "output_type": "execute_result"
    }
   ],
   "source": [
    "pyr.predict_model(tuned_z_reg).loc[:, [target_feat, 'Label']].describe()"
   ]
  },
  {
   "cell_type": "code",
   "execution_count": 61,
   "id": "1d1704c8",
   "metadata": {},
   "outputs": [
    {
     "data": {
      "text/html": [
       "<style type=\"text/css\">\n",
       "</style>\n",
       "<table id=\"T_bf2b6\">\n",
       "  <thead>\n",
       "    <tr>\n",
       "      <th class=\"blank level0\" >&nbsp;</th>\n",
       "      <th id=\"T_bf2b6_level0_col0\" class=\"col_heading level0 col0\" >Model</th>\n",
       "      <th id=\"T_bf2b6_level0_col1\" class=\"col_heading level0 col1\" >MAE</th>\n",
       "      <th id=\"T_bf2b6_level0_col2\" class=\"col_heading level0 col2\" >MSE</th>\n",
       "      <th id=\"T_bf2b6_level0_col3\" class=\"col_heading level0 col3\" >RMSE</th>\n",
       "      <th id=\"T_bf2b6_level0_col4\" class=\"col_heading level0 col4\" >R2</th>\n",
       "      <th id=\"T_bf2b6_level0_col5\" class=\"col_heading level0 col5\" >RMSLE</th>\n",
       "      <th id=\"T_bf2b6_level0_col6\" class=\"col_heading level0 col6\" >MAPE</th>\n",
       "      <th id=\"T_bf2b6_level0_col7\" class=\"col_heading level0 col7\" >sigma_mad</th>\n",
       "      <th id=\"T_bf2b6_level0_col8\" class=\"col_heading level0 col8\" >sigma_nmad</th>\n",
       "      <th id=\"T_bf2b6_level0_col9\" class=\"col_heading level0 col9\" >sigma_z</th>\n",
       "      <th id=\"T_bf2b6_level0_col10\" class=\"col_heading level0 col10\" >sigma_z_norm</th>\n",
       "      <th id=\"T_bf2b6_level0_col11\" class=\"col_heading level0 col11\" >outlier_fr</th>\n",
       "    </tr>\n",
       "  </thead>\n",
       "  <tbody>\n",
       "    <tr>\n",
       "      <th id=\"T_bf2b6_level0_row0\" class=\"row_heading level0 row0\" >0</th>\n",
       "      <td id=\"T_bf2b6_row0_col0\" class=\"data row0 col0\" >Stacking Regressor</td>\n",
       "      <td id=\"T_bf2b6_row0_col1\" class=\"data row0 col1\" >0.2041</td>\n",
       "      <td id=\"T_bf2b6_row0_col2\" class=\"data row0 col2\" >0.0750</td>\n",
       "      <td id=\"T_bf2b6_row0_col3\" class=\"data row0 col3\" >0.2739</td>\n",
       "      <td id=\"T_bf2b6_row0_col4\" class=\"data row0 col4\" >0.5504</td>\n",
       "      <td id=\"T_bf2b6_row0_col5\" class=\"data row0 col5\" >0.0763</td>\n",
       "      <td id=\"T_bf2b6_row0_col6\" class=\"data row0 col6\" >0.0819</td>\n",
       "      <td id=\"T_bf2b6_row0_col7\" class=\"data row0 col7\" >0.2400</td>\n",
       "      <td id=\"T_bf2b6_row0_col8\" class=\"data row0 col8\" >0.0669</td>\n",
       "      <td id=\"T_bf2b6_row0_col9\" class=\"data row0 col9\" >0.2739</td>\n",
       "      <td id=\"T_bf2b6_row0_col10\" class=\"data row0 col10\" >0.0774</td>\n",
       "      <td id=\"T_bf2b6_row0_col11\" class=\"data row0 col11\" >0.0706</td>\n",
       "    </tr>\n",
       "  </tbody>\n",
       "</table>\n"
      ],
      "text/plain": [
       "<pandas.io.formats.style.Styler at 0x7fe024c81c10>"
      ]
     },
     "metadata": {},
     "output_type": "display_data"
    }
   ],
   "source": [
    "test_prediction_reg = pyr.predict_model(tuned_z_reg)"
   ]
  },
  {
   "cell_type": "code",
   "execution_count": 62,
   "id": "27eccd12",
   "metadata": {
    "id": "WsMuc6dtt2ci"
   },
   "outputs": [
    {
     "name": "stderr",
     "output_type": "stream",
     "text": [
      "/home/rcarvajal/.miniforge3/envs/test_pycaret/lib/python3.8/site-packages/xgboost/compat.py:36: FutureWarning: pandas.Int64Index is deprecated and will be removed from pandas in a future version. Use pandas.Index with the appropriate dtype instead.\n",
      "  from pandas import MultiIndex, Int64Index\n",
      "/home/rcarvajal/.miniforge3/envs/test_pycaret/lib/python3.8/site-packages/xgboost/compat.py:36: FutureWarning: pandas.Int64Index is deprecated and will be removed from pandas in a future version. Use pandas.Index with the appropriate dtype instead.\n",
      "  from pandas import MultiIndex, Int64Index\n",
      "/home/rcarvajal/.miniforge3/envs/test_pycaret/lib/python3.8/site-packages/xgboost/compat.py:36: FutureWarning: pandas.Int64Index is deprecated and will be removed from pandas in a future version. Use pandas.Index with the appropriate dtype instead.\n",
      "  from pandas import MultiIndex, Int64Index\n",
      "/home/rcarvajal/.miniforge3/envs/test_pycaret/lib/python3.8/site-packages/xgboost/compat.py:36: FutureWarning: pandas.Int64Index is deprecated and will be removed from pandas in a future version. Use pandas.Index with the appropriate dtype instead.\n",
      "  from pandas import MultiIndex, Int64Index\n",
      "/home/rcarvajal/.miniforge3/envs/test_pycaret/lib/python3.8/site-packages/xgboost/compat.py:36: FutureWarning: pandas.Int64Index is deprecated and will be removed from pandas in a future version. Use pandas.Index with the appropriate dtype instead.\n",
      "  from pandas import MultiIndex, Int64Index\n",
      "/home/rcarvajal/.miniforge3/envs/test_pycaret/lib/python3.8/site-packages/xgboost/compat.py:36: FutureWarning: pandas.Int64Index is deprecated and will be removed from pandas in a future version. Use pandas.Index with the appropriate dtype instead.\n",
      "  from pandas import MultiIndex, Int64Index\n",
      "/home/rcarvajal/.miniforge3/envs/test_pycaret/lib/python3.8/site-packages/xgboost/compat.py:36: FutureWarning: pandas.Int64Index is deprecated and will be removed from pandas in a future version. Use pandas.Index with the appropriate dtype instead.\n",
      "  from pandas import MultiIndex, Int64Index\n",
      "/home/rcarvajal/.miniforge3/envs/test_pycaret/lib/python3.8/site-packages/xgboost/compat.py:36: FutureWarning: pandas.Int64Index is deprecated and will be removed from pandas in a future version. Use pandas.Index with the appropriate dtype instead.\n",
      "  from pandas import MultiIndex, Int64Index\n",
      "/home/rcarvajal/.miniforge3/envs/test_pycaret/lib/python3.8/site-packages/xgboost/compat.py:36: FutureWarning: pandas.Int64Index is deprecated and will be removed from pandas in a future version. Use pandas.Index with the appropriate dtype instead.\n",
      "  from pandas import MultiIndex, Int64Index\n",
      "/home/rcarvajal/.miniforge3/envs/test_pycaret/lib/python3.8/site-packages/xgboost/compat.py:36: FutureWarning: pandas.Int64Index is deprecated and will be removed from pandas in a future version. Use pandas.Index with the appropriate dtype instead.\n",
      "  from pandas import MultiIndex, Int64Index\n"
     ]
    }
   ],
   "source": [
    "final_z_reg = pyr.finalize_model(tuned_z_reg)"
   ]
  },
  {
   "cell_type": "code",
   "execution_count": 63,
   "id": "1ca4ad78",
   "metadata": {},
   "outputs": [
    {
     "data": {
      "text/html": [
       "<style type=\"text/css\">\n",
       "</style>\n",
       "<table id=\"T_0d657\">\n",
       "  <thead>\n",
       "    <tr>\n",
       "      <th class=\"blank level0\" >&nbsp;</th>\n",
       "      <th id=\"T_0d657_level0_col0\" class=\"col_heading level0 col0\" >Model</th>\n",
       "      <th id=\"T_0d657_level0_col1\" class=\"col_heading level0 col1\" >MAE</th>\n",
       "      <th id=\"T_0d657_level0_col2\" class=\"col_heading level0 col2\" >MSE</th>\n",
       "      <th id=\"T_0d657_level0_col3\" class=\"col_heading level0 col3\" >RMSE</th>\n",
       "      <th id=\"T_0d657_level0_col4\" class=\"col_heading level0 col4\" >R2</th>\n",
       "      <th id=\"T_0d657_level0_col5\" class=\"col_heading level0 col5\" >RMSLE</th>\n",
       "      <th id=\"T_0d657_level0_col6\" class=\"col_heading level0 col6\" >MAPE</th>\n",
       "      <th id=\"T_0d657_level0_col7\" class=\"col_heading level0 col7\" >sigma_mad</th>\n",
       "      <th id=\"T_0d657_level0_col8\" class=\"col_heading level0 col8\" >sigma_nmad</th>\n",
       "      <th id=\"T_0d657_level0_col9\" class=\"col_heading level0 col9\" >sigma_z</th>\n",
       "      <th id=\"T_0d657_level0_col10\" class=\"col_heading level0 col10\" >sigma_z_norm</th>\n",
       "      <th id=\"T_0d657_level0_col11\" class=\"col_heading level0 col11\" >outlier_fr</th>\n",
       "    </tr>\n",
       "  </thead>\n",
       "  <tbody>\n",
       "    <tr>\n",
       "      <th id=\"T_0d657_level0_row0\" class=\"row_heading level0 row0\" >0</th>\n",
       "      <td id=\"T_0d657_row0_col0\" class=\"data row0 col0\" >Stacking Regressor</td>\n",
       "      <td id=\"T_0d657_row0_col1\" class=\"data row0 col1\" >0.2041</td>\n",
       "      <td id=\"T_0d657_row0_col2\" class=\"data row0 col2\" >0.0750</td>\n",
       "      <td id=\"T_0d657_row0_col3\" class=\"data row0 col3\" >0.2739</td>\n",
       "      <td id=\"T_0d657_row0_col4\" class=\"data row0 col4\" >0.5504</td>\n",
       "      <td id=\"T_0d657_row0_col5\" class=\"data row0 col5\" >0.0763</td>\n",
       "      <td id=\"T_0d657_row0_col6\" class=\"data row0 col6\" >0.0819</td>\n",
       "      <td id=\"T_0d657_row0_col7\" class=\"data row0 col7\" >0.2400</td>\n",
       "      <td id=\"T_0d657_row0_col8\" class=\"data row0 col8\" >0.0669</td>\n",
       "      <td id=\"T_0d657_row0_col9\" class=\"data row0 col9\" >0.2739</td>\n",
       "      <td id=\"T_0d657_row0_col10\" class=\"data row0 col10\" >0.0774</td>\n",
       "      <td id=\"T_0d657_row0_col11\" class=\"data row0 col11\" >0.0706</td>\n",
       "    </tr>\n",
       "  </tbody>\n",
       "</table>\n"
      ],
      "text/plain": [
       "<pandas.io.formats.style.Styler at 0x7fded43909d0>"
      ]
     },
     "metadata": {},
     "output_type": "display_data"
    },
    {
     "data": {
      "text/html": [
       "<div>\n",
       "<style scoped>\n",
       "    .dataframe tbody tr th:only-of-type {\n",
       "        vertical-align: middle;\n",
       "    }\n",
       "\n",
       "    .dataframe tbody tr th {\n",
       "        vertical-align: top;\n",
       "    }\n",
       "\n",
       "    .dataframe thead th {\n",
       "        text-align: right;\n",
       "    }\n",
       "</style>\n",
       "<table border=\"1\" class=\"dataframe\">\n",
       "  <thead>\n",
       "    <tr style=\"text-align: right;\">\n",
       "      <th></th>\n",
       "      <th>Z</th>\n",
       "      <th>Label</th>\n",
       "    </tr>\n",
       "  </thead>\n",
       "  <tbody>\n",
       "    <tr>\n",
       "      <th>count</th>\n",
       "      <td>170.000000</td>\n",
       "      <td>170.000000</td>\n",
       "    </tr>\n",
       "    <tr>\n",
       "      <th>mean</th>\n",
       "      <td>2.501088</td>\n",
       "      <td>2.514636</td>\n",
       "    </tr>\n",
       "    <tr>\n",
       "      <th>std</th>\n",
       "      <td>0.409682</td>\n",
       "      <td>0.320884</td>\n",
       "    </tr>\n",
       "    <tr>\n",
       "      <th>min</th>\n",
       "      <td>2.002000</td>\n",
       "      <td>2.096870</td>\n",
       "    </tr>\n",
       "    <tr>\n",
       "      <th>25%</th>\n",
       "      <td>2.171750</td>\n",
       "      <td>2.298746</td>\n",
       "    </tr>\n",
       "    <tr>\n",
       "      <th>50%</th>\n",
       "      <td>2.411000</td>\n",
       "      <td>2.467835</td>\n",
       "    </tr>\n",
       "    <tr>\n",
       "      <th>75%</th>\n",
       "      <td>2.731500</td>\n",
       "      <td>2.679613</td>\n",
       "    </tr>\n",
       "    <tr>\n",
       "      <th>max</th>\n",
       "      <td>3.920000</td>\n",
       "      <td>3.789828</td>\n",
       "    </tr>\n",
       "  </tbody>\n",
       "</table>\n",
       "</div>"
      ],
      "text/plain": [
       "                Z       Label\n",
       "count  170.000000  170.000000\n",
       "mean     2.501088    2.514636\n",
       "std      0.409682    0.320884\n",
       "min      2.002000    2.096870\n",
       "25%      2.171750    2.298746\n",
       "50%      2.411000    2.467835\n",
       "75%      2.731500    2.679613\n",
       "max      3.920000    3.789828"
      ]
     },
     "execution_count": 63,
     "metadata": {},
     "output_type": "execute_result"
    }
   ],
   "source": [
    "pyr.predict_model(final_z_reg).loc[:, [target_feat, 'Label']].describe()"
   ]
  },
  {
   "cell_type": "code",
   "execution_count": 65,
   "id": "b87edd4b",
   "metadata": {
    "id": "kAciINC6t-gk"
   },
   "outputs": [
    {
     "name": "stdout",
     "output_type": "stream",
     "text": [
      "Transformation Pipeline and Model Successfully Saved\n"
     ]
    }
   ],
   "source": [
    "if save_model_flag:\n",
    "    pyr.save_model(final_z_reg, gv.models_path + gv.high_z_model)  # Model (it will be saved with .pkl extension)"
   ]
  },
  {
   "cell_type": "markdown",
   "id": "35dedbbc",
   "metadata": {
    "id": "ef654bbb-7b74-4cef-a809-42d2eb8e7fcb"
   },
   "source": [
    "## Load Models"
   ]
  },
  {
   "cell_type": "markdown",
   "id": "b4cc9454",
   "metadata": {
    "id": "217777e4-0212-4a37-b535-6fcaf2f0817e"
   },
   "source": [
    "AGN detection model."
   ]
  },
  {
   "cell_type": "code",
   "execution_count": 50,
   "id": "5637a178",
   "metadata": {
    "id": "ad6bf94f-c59d-4013-b523-76a77df047cc",
    "outputId": "d8cd5b82-e109-4bd1-90ea-bf0e85e10ccd",
    "tags": []
   },
   "outputs": [
    {
     "name": "stdout",
     "output_type": "stream",
     "text": [
      "Transformation Pipeline and Model Successfully Loaded\n"
     ]
    }
   ],
   "source": [
    "if load_model_flag:\n",
    "    final_z_reg = pyr.load_model(gv.models_path + gv.high_z_model)  # for z >= 4, regression_z_may_31_4_2022"
   ]
  },
  {
   "cell_type": "markdown",
   "id": "c5d3129c",
   "metadata": {
    "id": "6fcb2c6c-a004-4801-b43d-a3593f802cf5"
   },
   "source": [
    "### Prediction process"
   ]
  },
  {
   "cell_type": "markdown",
   "id": "b271fb48",
   "metadata": {},
   "source": [
    "#### Feature importances"
   ]
  },
  {
   "cell_type": "code",
   "execution_count": 51,
   "id": "76e37165",
   "metadata": {
    "jupyter": {
     "source_hidden": true
    }
   },
   "outputs": [],
   "source": [
    "base_models_names = gf.get_base_estimators_names(final_z_reg)\n",
    "base_models       = gf.get_base_estimators_models(final_z_reg)"
   ]
  },
  {
   "cell_type": "code",
   "execution_count": 52,
   "id": "316729ae",
   "metadata": {
    "jupyter": {
     "source_hidden": true
    }
   },
   "outputs": [
    {
     "name": "stdout",
     "output_type": "stream",
     "text": [
      "Running data pre-processing:\n",
      "\n"
     ]
    }
   ],
   "source": [
    "print('Running data pre-processing:\\n')\n",
    "extended_data_z_df = gf.preprocess_data(final_z_reg, validation_df, base_models_names)"
   ]
  },
  {
   "cell_type": "code",
   "execution_count": 53,
   "id": "5c302d2b",
   "metadata": {
    "jupyter": {
     "source_hidden": true
    }
   },
   "outputs": [],
   "source": [
    "coef_sorted_meta_df = gf.feat_importances_meta_model(final_z_reg, extended_data_z_df)"
   ]
  },
  {
   "cell_type": "code",
   "execution_count": 54,
   "id": "e342939b",
   "metadata": {
    "jupyter": {
     "source_hidden": true
    },
    "tags": []
   },
   "outputs": [],
   "source": [
    "coef_sorted_base_df = gf.feat_importances_base_models(base_models_names, base_models, extended_data_z_df)"
   ]
  },
  {
   "cell_type": "code",
   "execution_count": 55,
   "id": "51196512",
   "metadata": {
    "jupyter": {
     "source_hidden": true
    },
    "tags": []
   },
   "outputs": [],
   "source": [
    "multicol_feat = [(key, name) for key in coef_sorted_base_df.keys() for name in ('Feature', 'Importance')]"
   ]
  },
  {
   "cell_type": "code",
   "execution_count": 56,
   "id": "48370621",
   "metadata": {
    "jupyter": {
     "source_hidden": true
    },
    "tags": []
   },
   "outputs": [
    {
     "name": "stdout",
     "output_type": "stream",
     "text": [
      "Feature importances scaled to sum 100\n",
      "Calculating for catboost...\n",
      "Calculating for xgboost...\n",
      "Calculating for gbr...\n",
      "Calculating for rf...\n"
     ]
    },
    {
     "data": {
      "text/html": [
       "<div>\n",
       "<style scoped>\n",
       "    .dataframe tbody tr th:only-of-type {\n",
       "        vertical-align: middle;\n",
       "    }\n",
       "\n",
       "    .dataframe tbody tr th {\n",
       "        vertical-align: top;\n",
       "    }\n",
       "\n",
       "    .dataframe thead tr th {\n",
       "        text-align: left;\n",
       "    }\n",
       "</style>\n",
       "<table border=\"1\" class=\"dataframe\">\n",
       "  <thead>\n",
       "    <tr>\n",
       "      <th></th>\n",
       "      <th colspan=\"2\" halign=\"left\">catboost</th>\n",
       "      <th colspan=\"2\" halign=\"left\">xgboost</th>\n",
       "      <th colspan=\"2\" halign=\"left\">gbr</th>\n",
       "      <th colspan=\"2\" halign=\"left\">rf</th>\n",
       "    </tr>\n",
       "    <tr>\n",
       "      <th></th>\n",
       "      <th>Feature</th>\n",
       "      <th>Importance</th>\n",
       "      <th>Feature</th>\n",
       "      <th>Importance</th>\n",
       "      <th>Feature</th>\n",
       "      <th>Importance</th>\n",
       "      <th>Feature</th>\n",
       "      <th>Importance</th>\n",
       "    </tr>\n",
       "  </thead>\n",
       "  <tbody>\n",
       "    <tr>\n",
       "      <th>0</th>\n",
       "      <td>g_r</td>\n",
       "      <td>26.641506</td>\n",
       "      <td>W1_W2</td>\n",
       "      <td>32.953930</td>\n",
       "      <td>g_r</td>\n",
       "      <td>35.048013</td>\n",
       "      <td>g_r</td>\n",
       "      <td>31.193964</td>\n",
       "    </tr>\n",
       "    <tr>\n",
       "      <th>1</th>\n",
       "      <td>W1_W2</td>\n",
       "      <td>23.395694</td>\n",
       "      <td>g_r</td>\n",
       "      <td>19.409229</td>\n",
       "      <td>W1_W2</td>\n",
       "      <td>28.418021</td>\n",
       "      <td>W1_W2</td>\n",
       "      <td>25.055891</td>\n",
       "    </tr>\n",
       "    <tr>\n",
       "      <th>2</th>\n",
       "      <td>i_z</td>\n",
       "      <td>9.760998</td>\n",
       "      <td>i_z</td>\n",
       "      <td>10.193643</td>\n",
       "      <td>i_z</td>\n",
       "      <td>9.471280</td>\n",
       "      <td>i_z</td>\n",
       "      <td>9.012866</td>\n",
       "    </tr>\n",
       "    <tr>\n",
       "      <th>3</th>\n",
       "      <td>z_y</td>\n",
       "      <td>9.481468</td>\n",
       "      <td>r_z</td>\n",
       "      <td>8.547462</td>\n",
       "      <td>r_z</td>\n",
       "      <td>6.856286</td>\n",
       "      <td>z_y</td>\n",
       "      <td>8.030604</td>\n",
       "    </tr>\n",
       "    <tr>\n",
       "      <th>4</th>\n",
       "      <td>r_z</td>\n",
       "      <td>8.807002</td>\n",
       "      <td>g_W1</td>\n",
       "      <td>7.119089</td>\n",
       "      <td>z_y</td>\n",
       "      <td>6.782618</td>\n",
       "      <td>r_z</td>\n",
       "      <td>7.243429</td>\n",
       "    </tr>\n",
       "    <tr>\n",
       "      <th>5</th>\n",
       "      <td>g_W1</td>\n",
       "      <td>5.975004</td>\n",
       "      <td>z_W1</td>\n",
       "      <td>6.699553</td>\n",
       "      <td>g_W1</td>\n",
       "      <td>4.900490</td>\n",
       "      <td>r_i</td>\n",
       "      <td>5.954728</td>\n",
       "    </tr>\n",
       "    <tr>\n",
       "      <th>6</th>\n",
       "      <td>r_i</td>\n",
       "      <td>5.776794</td>\n",
       "      <td>r_i</td>\n",
       "      <td>5.687845</td>\n",
       "      <td>z_W1</td>\n",
       "      <td>3.796408</td>\n",
       "      <td>g_W1</td>\n",
       "      <td>5.419368</td>\n",
       "    </tr>\n",
       "    <tr>\n",
       "      <th>7</th>\n",
       "      <td>z_W1</td>\n",
       "      <td>5.758766</td>\n",
       "      <td>z_y</td>\n",
       "      <td>5.553289</td>\n",
       "      <td>r_i</td>\n",
       "      <td>2.780476</td>\n",
       "      <td>z_W1</td>\n",
       "      <td>4.723036</td>\n",
       "    </tr>\n",
       "    <tr>\n",
       "      <th>8</th>\n",
       "      <td>y_W1</td>\n",
       "      <td>4.402769</td>\n",
       "      <td>y_W1</td>\n",
       "      <td>3.835960</td>\n",
       "      <td>y_W1</td>\n",
       "      <td>1.946409</td>\n",
       "      <td>y_W1</td>\n",
       "      <td>3.366113</td>\n",
       "    </tr>\n",
       "  </tbody>\n",
       "</table>\n",
       "</div>"
      ],
      "text/plain": [
       "  catboost            xgboost                gbr                 rf           \n",
       "   Feature Importance Feature Importance Feature Importance Feature Importance\n",
       "0      g_r  26.641506   W1_W2  32.953930     g_r  35.048013     g_r  31.193964\n",
       "1    W1_W2  23.395694     g_r  19.409229   W1_W2  28.418021   W1_W2  25.055891\n",
       "2      i_z   9.760998     i_z  10.193643     i_z   9.471280     i_z   9.012866\n",
       "3      z_y   9.481468     r_z   8.547462     r_z   6.856286     z_y   8.030604\n",
       "4      r_z   8.807002    g_W1   7.119089     z_y   6.782618     r_z   7.243429\n",
       "5     g_W1   5.975004    z_W1   6.699553    g_W1   4.900490     r_i   5.954728\n",
       "6      r_i   5.776794     r_i   5.687845    z_W1   3.796408    g_W1   5.419368\n",
       "7     z_W1   5.758766     z_y   5.553289     r_i   2.780476    z_W1   4.723036\n",
       "8     y_W1   4.402769    y_W1   3.835960    y_W1   1.946409    y_W1   3.366113"
      ]
     },
     "metadata": {},
     "output_type": "display_data"
    }
   ],
   "source": [
    "print('Feature importances scaled to sum 100')\n",
    "coef_sorted_base_df_copy_sum = coef_sorted_base_df.copy()\n",
    "for key in coef_sorted_base_df_copy_sum.keys():\n",
    "    print(f'Calculating for {key}...')\n",
    "    coef_sorted_base_df_copy_sum[key].loc[:, 'Importance'] = coef_sorted_base_df[key].loc[:, 'Importance'] /\\\n",
    "                                                        coef_sorted_base_df[key].loc[:, 'Importance'].sum() * 100\n",
    "    # display(coef_sorted_base_df_copy_sum[key])\n",
    "coef_sorted_base_full_df = pd.concat([coef_sorted_base_df_copy_sum[key].reset_index(drop=True) for key in coef_sorted_base_df_copy_sum.keys()], axis=1)\n",
    "coef_sorted_base_full_df.columns = pd.MultiIndex.from_tuples(multicol_feat)\n",
    "display(coef_sorted_base_full_df)"
   ]
  },
  {
   "cell_type": "code",
   "execution_count": 57,
   "id": "bd4e0877",
   "metadata": {
    "jupyter": {
     "source_hidden": true
    },
    "tags": []
   },
   "outputs": [
    {
     "name": "stdout",
     "output_type": "stream",
     "text": [
      "Feature importances scaled to sum 100\n",
      "Meta model\n"
     ]
    },
    {
     "data": {
      "text/html": [
       "<div>\n",
       "<style scoped>\n",
       "    .dataframe tbody tr th:only-of-type {\n",
       "        vertical-align: middle;\n",
       "    }\n",
       "\n",
       "    .dataframe tbody tr th {\n",
       "        vertical-align: top;\n",
       "    }\n",
       "\n",
       "    .dataframe thead th {\n",
       "        text-align: right;\n",
       "    }\n",
       "</style>\n",
       "<table border=\"1\" class=\"dataframe\">\n",
       "  <thead>\n",
       "    <tr style=\"text-align: right;\">\n",
       "      <th></th>\n",
       "      <th>Feature</th>\n",
       "      <th>Importance</th>\n",
       "    </tr>\n",
       "  </thead>\n",
       "  <tbody>\n",
       "    <tr>\n",
       "      <th>0</th>\n",
       "      <td>catboost</td>\n",
       "      <td>30.054819</td>\n",
       "    </tr>\n",
       "    <tr>\n",
       "      <th>1</th>\n",
       "      <td>rf</td>\n",
       "      <td>27.904145</td>\n",
       "    </tr>\n",
       "    <tr>\n",
       "      <th>2</th>\n",
       "      <td>xgboost</td>\n",
       "      <td>20.774279</td>\n",
       "    </tr>\n",
       "    <tr>\n",
       "      <th>3</th>\n",
       "      <td>gbr</td>\n",
       "      <td>8.742016</td>\n",
       "    </tr>\n",
       "    <tr>\n",
       "      <th>4</th>\n",
       "      <td>g_r</td>\n",
       "      <td>2.264729</td>\n",
       "    </tr>\n",
       "    <tr>\n",
       "      <th>5</th>\n",
       "      <td>g_W1</td>\n",
       "      <td>1.732253</td>\n",
       "    </tr>\n",
       "    <tr>\n",
       "      <th>6</th>\n",
       "      <td>W1_W2</td>\n",
       "      <td>1.465946</td>\n",
       "    </tr>\n",
       "    <tr>\n",
       "      <th>7</th>\n",
       "      <td>z_W1</td>\n",
       "      <td>1.390398</td>\n",
       "    </tr>\n",
       "    <tr>\n",
       "      <th>8</th>\n",
       "      <td>i_z</td>\n",
       "      <td>1.223152</td>\n",
       "    </tr>\n",
       "    <tr>\n",
       "      <th>9</th>\n",
       "      <td>z_y</td>\n",
       "      <td>1.147615</td>\n",
       "    </tr>\n",
       "    <tr>\n",
       "      <th>10</th>\n",
       "      <td>r_i</td>\n",
       "      <td>1.141933</td>\n",
       "    </tr>\n",
       "    <tr>\n",
       "      <th>11</th>\n",
       "      <td>y_W1</td>\n",
       "      <td>1.094421</td>\n",
       "    </tr>\n",
       "    <tr>\n",
       "      <th>12</th>\n",
       "      <td>r_z</td>\n",
       "      <td>1.064294</td>\n",
       "    </tr>\n",
       "  </tbody>\n",
       "</table>\n",
       "</div>"
      ],
      "text/plain": [
       "     Feature  Importance\n",
       "0   catboost   30.054819\n",
       "1         rf   27.904145\n",
       "2    xgboost   20.774279\n",
       "3        gbr    8.742016\n",
       "4        g_r    2.264729\n",
       "5       g_W1    1.732253\n",
       "6      W1_W2    1.465946\n",
       "7       z_W1    1.390398\n",
       "8        i_z    1.223152\n",
       "9        z_y    1.147615\n",
       "10       r_i    1.141933\n",
       "11      y_W1    1.094421\n",
       "12       r_z    1.064294"
      ]
     },
     "metadata": {},
     "output_type": "display_data"
    }
   ],
   "source": [
    "print('Feature importances scaled to sum 100')\n",
    "coef_sorted_meta_df_copy_sum = coef_sorted_meta_df.copy()\n",
    "coef_sorted_meta_df_copy_sum.loc[:, 'Importance'] = coef_sorted_meta_df.loc[:, 'Importance'] /\\\n",
    "                                                     coef_sorted_meta_df.loc[:, 'Importance'].sum() * 100\n",
    "print('Meta model')\n",
    "display(coef_sorted_meta_df_copy_sum)"
   ]
  },
  {
   "cell_type": "code",
   "execution_count": 58,
   "id": "bdf83bfc",
   "metadata": {
    "jupyter": {
     "source_hidden": true
    }
   },
   "outputs": [
    {
     "name": "stdout",
     "output_type": "stream",
     "text": [
      "Combined feature importances scaled to sum 100\n"
     ]
    },
    {
     "data": {
      "text/html": [
       "<div>\n",
       "<style scoped>\n",
       "    .dataframe tbody tr th:only-of-type {\n",
       "        vertical-align: middle;\n",
       "    }\n",
       "\n",
       "    .dataframe tbody tr th {\n",
       "        vertical-align: top;\n",
       "    }\n",
       "\n",
       "    .dataframe thead th {\n",
       "        text-align: right;\n",
       "    }\n",
       "</style>\n",
       "<table border=\"1\" class=\"dataframe\">\n",
       "  <thead>\n",
       "    <tr style=\"text-align: right;\">\n",
       "      <th></th>\n",
       "      <th>Importance</th>\n",
       "    </tr>\n",
       "    <tr>\n",
       "      <th>Feature</th>\n",
       "      <th></th>\n",
       "    </tr>\n",
       "  </thead>\n",
       "  <tbody>\n",
       "    <tr>\n",
       "      <th>g_r</th>\n",
       "      <td>26.0722</td>\n",
       "    </tr>\n",
       "    <tr>\n",
       "      <th>W1_W2</th>\n",
       "      <td>24.8194</td>\n",
       "    </tr>\n",
       "    <tr>\n",
       "      <th>i_z</th>\n",
       "      <td>9.6174</td>\n",
       "    </tr>\n",
       "    <tr>\n",
       "      <th>r_z</th>\n",
       "      <td>8.1075</td>\n",
       "    </tr>\n",
       "    <tr>\n",
       "      <th>z_y</th>\n",
       "      <td>7.9847</td>\n",
       "    </tr>\n",
       "    <tr>\n",
       "      <th>g_W1</th>\n",
       "      <td>6.9476</td>\n",
       "    </tr>\n",
       "    <tr>\n",
       "      <th>z_W1</th>\n",
       "      <td>6.1628</td>\n",
       "    </tr>\n",
       "    <tr>\n",
       "      <th>r_i</th>\n",
       "      <td>5.9644</td>\n",
       "    </tr>\n",
       "    <tr>\n",
       "      <th>y_W1</th>\n",
       "      <td>4.3240</td>\n",
       "    </tr>\n",
       "  </tbody>\n",
       "</table>\n",
       "</div>"
      ],
      "text/plain": [
       "         Importance\n",
       "Feature            \n",
       "g_r         26.0722\n",
       "W1_W2       24.8194\n",
       "i_z          9.6174\n",
       "r_z          8.1075\n",
       "z_y          7.9847\n",
       "g_W1         6.9476\n",
       "z_W1         6.1628\n",
       "r_i          5.9644\n",
       "y_W1         4.3240"
      ]
     },
     "metadata": {},
     "output_type": "display_data"
    }
   ],
   "source": [
    "print('Combined feature importances scaled to sum 100')\n",
    "coef_sorted_comb_sum = coef_sorted_meta_df_copy_sum.copy().set_index('Feature')\n",
    "for key in coef_sorted_base_df_copy_sum.keys():\n",
    "    factor = coef_sorted_meta_df_copy_sum.set_index('Feature').loc[key] / 100\n",
    "    tmp_feat_imp = coef_sorted_base_full_df.loc[:, key].copy().set_index('Feature')\n",
    "    coef_sorted_comb_sum = coef_sorted_comb_sum + tmp_feat_imp * factor\n",
    "with pd.option_context('display.float_format', '{:.4f}'.format):\n",
    "    display(coef_sorted_comb_sum.sort_values(by=['Importance'], ascending=False).drop(index=base_models_names))"
   ]
  },
  {
   "cell_type": "code",
   "execution_count": 86,
   "id": "5a8ac989",
   "metadata": {
    "jupyter": {
     "source_hidden": true
    },
    "tags": []
   },
   "outputs": [
    {
     "name": "stdout",
     "output_type": "stream",
     "text": [
      "Feature importances scaled to sum 100\n",
      "--------------------\n",
      "top features:\n",
      "Feature\tImportance\n",
      "g_r\t26.072\n",
      "W1_W2\t24.819\n",
      "i_z\t9.617\n",
      "r_z\t8.107\n",
      "z_y\t7.985\n",
      "g_W1\t6.948\n",
      "z_W1\t6.163\n",
      "r_i\t5.964\n",
      "y_W1\t4.324\n"
     ]
    },
    {
     "data": {
      "image/png": "[encoded data removed]",
      "text/plain": [
       "<Figure size 700x1000 with 1 Axes>"
      ]
     },
     "metadata": {},
     "output_type": "display_data"
    }
   ],
   "source": [
    "print('Feature importances scaled to sum 100')\n",
    "try:\n",
    "    fig         = plt.figure(figsize=(7,10))\n",
    "    ax1         = fig.add_subplot(111)\n",
    "    n_top       = len(validation_df.columns)\n",
    "    features_df = coef_sorted_comb_sum.sort_values(by=['Importance'], ascending=True).drop(index=base_models_names)\n",
    "    features    = features_df.index.to_list()\n",
    "    importances = features_df.loc[:, 'Importance'].to_list()\n",
    "    import_scal_colors = (importances - np.nanmin(importances)) / (np.nanmax(importances) - np.nanmin(importances))\n",
    "    ax1.set_title('Feature Importances', size=14)\n",
    "    ax1.barh(range(len(importances)), importances,\\\n",
    "             color=plt.get_cmap('bone', len(importances))(import_scal_colors), align='center', ec='k', lw=1.5)\n",
    "    plt.yticks(range(len(importances)), features)\n",
    "    ax1.set_xlabel('Relative Importance', size=14)\n",
    "    ax1.set_ylabel('Features', size=14)\n",
    "    ax1.tick_params(axis='both', which='major', labelsize=14)\n",
    "    ax1.tick_params(axis='y', which='major', rotation=30)\n",
    "    plt.setp(ax1.spines.values(), linewidth=2.5)\n",
    "    ax1.tick_params(which='both',top=True, right=False, direction='in')\n",
    "    plt.tight_layout()\n",
    "    if save_plot_flag:\n",
    "        if redshift_low_lim == 3.7:\n",
    "            plt.savefig(gv.plots_path + 'feat_imp_regression_z_08.pdf', bbox_inches='tight')\n",
    "        elif redshift_low_lim == 3.6:\n",
    "            plt.savefig(gv.plots_path + 'feat_imp_regression_z_09.pdf', bbox_inches='tight')\n",
    "\n",
    "    print('-' * 20)\n",
    "    print('top features:')\n",
    "    print('Feature\\tImportance')\n",
    "    for feat, imp in zip(reversed(features), reversed(importances)):\n",
    "        print(f'{feat}\\t{round(imp, 3):>.3f}')\n",
    "\n",
    "except:\n",
    "    print('learning algorithm does not provide feature importance.')"
   ]
  },
  {
   "cell_type": "markdown",
   "id": "d24849c4",
   "metadata": {},
   "source": [
    "#### List optimised hyperparameters"
   ]
  },
  {
   "cell_type": "code",
   "execution_count": 60,
   "id": "768e4812",
   "metadata": {
    "jupyter": {
     "source_hidden": true
    }
   },
   "outputs": [
    {
     "data": {
      "text/html": [
       "<div>\n",
       "<style scoped>\n",
       "    .dataframe tbody tr th:only-of-type {\n",
       "        vertical-align: middle;\n",
       "    }\n",
       "\n",
       "    .dataframe tbody tr th {\n",
       "        vertical-align: top;\n",
       "    }\n",
       "\n",
       "    .dataframe thead th {\n",
       "        text-align: right;\n",
       "    }\n",
       "</style>\n",
       "<table border=\"1\" class=\"dataframe\">\n",
       "  <thead>\n",
       "    <tr style=\"text-align: right;\">\n",
       "      <th></th>\n",
       "      <th>rf</th>\n",
       "      <th>catboost</th>\n",
       "      <th>xgboost</th>\n",
       "      <th>gbr</th>\n",
       "      <th>rf</th>\n",
       "    </tr>\n",
       "  </thead>\n",
       "  <tbody>\n",
       "    <tr>\n",
       "      <th>n_estimators</th>\n",
       "      <td>51</td>\n",
       "      <td>NaN</td>\n",
       "      <td>100.0000</td>\n",
       "      <td>100.0000</td>\n",
       "      <td>100.0000</td>\n",
       "    </tr>\n",
       "    <tr>\n",
       "      <th>max_depth</th>\n",
       "      <td>8</td>\n",
       "      <td>NaN</td>\n",
       "      <td>6.0000</td>\n",
       "      <td>3.0000</td>\n",
       "      <td>NaN</td>\n",
       "    </tr>\n",
       "    <tr>\n",
       "      <th>min_impurity_decrease</th>\n",
       "      <td>0.0000</td>\n",
       "      <td>NaN</td>\n",
       "      <td>NaN</td>\n",
       "      <td>0.0000</td>\n",
       "      <td>0.0000</td>\n",
       "    </tr>\n",
       "    <tr>\n",
       "      <th>max_features</th>\n",
       "      <td>0.9631</td>\n",
       "      <td>NaN</td>\n",
       "      <td>NaN</td>\n",
       "      <td>None</td>\n",
       "      <td>auto</td>\n",
       "    </tr>\n",
       "    <tr>\n",
       "      <th>bootstrap</th>\n",
       "      <td>True</td>\n",
       "      <td>NaN</td>\n",
       "      <td>NaN</td>\n",
       "      <td>NaN</td>\n",
       "      <td>True</td>\n",
       "    </tr>\n",
       "    <tr>\n",
       "      <th>criterion</th>\n",
       "      <td>mse</td>\n",
       "      <td>NaN</td>\n",
       "      <td>NaN</td>\n",
       "      <td>NaN</td>\n",
       "      <td>mse</td>\n",
       "    </tr>\n",
       "    <tr>\n",
       "      <th>min_samples_split</th>\n",
       "      <td>2</td>\n",
       "      <td>NaN</td>\n",
       "      <td>NaN</td>\n",
       "      <td>2.0000</td>\n",
       "      <td>2.0000</td>\n",
       "    </tr>\n",
       "    <tr>\n",
       "      <th>min_samples_leaf</th>\n",
       "      <td>4</td>\n",
       "      <td>NaN</td>\n",
       "      <td>NaN</td>\n",
       "      <td>1.0000</td>\n",
       "      <td>1.0000</td>\n",
       "    </tr>\n",
       "    <tr>\n",
       "      <th>learning_rate</th>\n",
       "      <td>NaN</td>\n",
       "      <td>0.0420</td>\n",
       "      <td>0.3000</td>\n",
       "      <td>0.1000</td>\n",
       "      <td>NaN</td>\n",
       "    </tr>\n",
       "    <tr>\n",
       "      <th>depth</th>\n",
       "      <td>NaN</td>\n",
       "      <td>6.0000</td>\n",
       "      <td>NaN</td>\n",
       "      <td>NaN</td>\n",
       "      <td>NaN</td>\n",
       "    </tr>\n",
       "    <tr>\n",
       "      <th>random_strength</th>\n",
       "      <td>NaN</td>\n",
       "      <td>1.0000</td>\n",
       "      <td>NaN</td>\n",
       "      <td>NaN</td>\n",
       "      <td>NaN</td>\n",
       "    </tr>\n",
       "    <tr>\n",
       "      <th>l2_leaf_reg</th>\n",
       "      <td>NaN</td>\n",
       "      <td>3.0000</td>\n",
       "      <td>NaN</td>\n",
       "      <td>NaN</td>\n",
       "      <td>NaN</td>\n",
       "    </tr>\n",
       "    <tr>\n",
       "      <th>subsample</th>\n",
       "      <td>NaN</td>\n",
       "      <td>NaN</td>\n",
       "      <td>1.0000</td>\n",
       "      <td>1.0000</td>\n",
       "      <td>NaN</td>\n",
       "    </tr>\n",
       "    <tr>\n",
       "      <th>colsample_bytree</th>\n",
       "      <td>NaN</td>\n",
       "      <td>NaN</td>\n",
       "      <td>1.0000</td>\n",
       "      <td>NaN</td>\n",
       "      <td>NaN</td>\n",
       "    </tr>\n",
       "    <tr>\n",
       "      <th>min_child_weight</th>\n",
       "      <td>NaN</td>\n",
       "      <td>NaN</td>\n",
       "      <td>1.0000</td>\n",
       "      <td>NaN</td>\n",
       "      <td>NaN</td>\n",
       "    </tr>\n",
       "    <tr>\n",
       "      <th>reg_alpha</th>\n",
       "      <td>NaN</td>\n",
       "      <td>NaN</td>\n",
       "      <td>0.0000</td>\n",
       "      <td>NaN</td>\n",
       "      <td>NaN</td>\n",
       "    </tr>\n",
       "    <tr>\n",
       "      <th>reg_lambda</th>\n",
       "      <td>NaN</td>\n",
       "      <td>NaN</td>\n",
       "      <td>1.0000</td>\n",
       "      <td>NaN</td>\n",
       "      <td>NaN</td>\n",
       "    </tr>\n",
       "    <tr>\n",
       "      <th>scale_pos_weight</th>\n",
       "      <td>NaN</td>\n",
       "      <td>NaN</td>\n",
       "      <td>1.0000</td>\n",
       "      <td>NaN</td>\n",
       "      <td>NaN</td>\n",
       "    </tr>\n",
       "  </tbody>\n",
       "</table>\n",
       "</div>"
      ],
      "text/plain": [
       "                          rf catboost  xgboost      gbr       rf\n",
       "n_estimators              51      NaN 100.0000 100.0000 100.0000\n",
       "max_depth                  8      NaN   6.0000   3.0000      NaN\n",
       "min_impurity_decrease 0.0000      NaN      NaN   0.0000   0.0000\n",
       "max_features          0.9631      NaN      NaN     None     auto\n",
       "bootstrap               True      NaN      NaN      NaN     True\n",
       "criterion                mse      NaN      NaN      NaN      mse\n",
       "min_samples_split          2      NaN      NaN   2.0000   2.0000\n",
       "min_samples_leaf           4      NaN      NaN   1.0000   1.0000\n",
       "learning_rate            NaN   0.0420   0.3000   0.1000      NaN\n",
       "depth                    NaN   6.0000      NaN      NaN      NaN\n",
       "random_strength          NaN   1.0000      NaN      NaN      NaN\n",
       "l2_leaf_reg              NaN   3.0000      NaN      NaN      NaN\n",
       "subsample                NaN      NaN   1.0000   1.0000      NaN\n",
       "colsample_bytree         NaN      NaN   1.0000      NaN      NaN\n",
       "min_child_weight         NaN      NaN   1.0000      NaN      NaN\n",
       "reg_alpha                NaN      NaN   0.0000      NaN      NaN\n",
       "reg_lambda               NaN      NaN   1.0000      NaN      NaN\n",
       "scale_pos_weight         NaN      NaN   1.0000      NaN      NaN"
      ]
     },
     "metadata": {},
     "output_type": "display_data"
    }
   ],
   "source": [
    "hyperparams_models_df = gf.obtain_optimised_hyperpars(final_z_reg, 'rf', 'regression')\n",
    "with pd.option_context('display.float_format', '{:.4f}'.format):\n",
    "    display(hyperparams_models_df)"
   ]
  },
  {
   "cell_type": "markdown",
   "id": "9162ee66",
   "metadata": {},
   "source": [
    "---"
   ]
  },
  {
   "cell_type": "code",
   "execution_count": 61,
   "id": "1e204c39",
   "metadata": {
    "jupyter": {
     "source_hidden": true
    }
   },
   "outputs": [
    {
     "name": "stdout",
     "output_type": "stream",
     "text": [
      "Size of train set is 1,175\n",
      "Size of test set is  170\n"
     ]
    }
   ],
   "source": [
    "print(f'Size of train set is {len(train_df):,}')\n",
    "print(f'Size of test set is  {len(test_df):,}')"
   ]
  },
  {
   "cell_type": "code",
   "execution_count": 62,
   "id": "42eba8e2",
   "metadata": {},
   "outputs": [
    {
     "data": {
      "text/html": [
       "<style type=\"text/css\">\n",
       "</style>\n",
       "<table id=\"T_2a4bf\">\n",
       "  <thead>\n",
       "    <tr>\n",
       "      <th class=\"blank level0\" >&nbsp;</th>\n",
       "      <th id=\"T_2a4bf_level0_col0\" class=\"col_heading level0 col0\" >Model</th>\n",
       "      <th id=\"T_2a4bf_level0_col1\" class=\"col_heading level0 col1\" >MAE</th>\n",
       "      <th id=\"T_2a4bf_level0_col2\" class=\"col_heading level0 col2\" >MSE</th>\n",
       "      <th id=\"T_2a4bf_level0_col3\" class=\"col_heading level0 col3\" >RMSE</th>\n",
       "      <th id=\"T_2a4bf_level0_col4\" class=\"col_heading level0 col4\" >R2</th>\n",
       "      <th id=\"T_2a4bf_level0_col5\" class=\"col_heading level0 col5\" >RMSLE</th>\n",
       "      <th id=\"T_2a4bf_level0_col6\" class=\"col_heading level0 col6\" >MAPE</th>\n",
       "    </tr>\n",
       "  </thead>\n",
       "  <tbody>\n",
       "    <tr>\n",
       "      <th id=\"T_2a4bf_level0_row0\" class=\"row_heading level0 row0\" >0</th>\n",
       "      <td id=\"T_2a4bf_row0_col0\" class=\"data row0 col0\" >Stacking Regressor</td>\n",
       "      <td id=\"T_2a4bf_row0_col1\" class=\"data row0 col1\" >0.2205</td>\n",
       "      <td id=\"T_2a4bf_row0_col2\" class=\"data row0 col2\" >0.0912</td>\n",
       "      <td id=\"T_2a4bf_row0_col3\" class=\"data row0 col3\" >0.3021</td>\n",
       "      <td id=\"T_2a4bf_row0_col4\" class=\"data row0 col4\" >0.5486</td>\n",
       "      <td id=\"T_2a4bf_row0_col5\" class=\"data row0 col5\" >0.0817</td>\n",
       "      <td id=\"T_2a4bf_row0_col6\" class=\"data row0 col6\" >0.0878</td>\n",
       "    </tr>\n",
       "  </tbody>\n",
       "</table>\n"
      ],
      "text/plain": [
       "<pandas.io.formats.style.Styler at 0x7f45a0911e20>"
      ]
     },
     "metadata": {},
     "output_type": "display_data"
    },
    {
     "data": {
      "text/html": [
       "<style type=\"text/css\">\n",
       "</style>\n",
       "<table id=\"T_a9cd0\">\n",
       "  <thead>\n",
       "    <tr>\n",
       "      <th class=\"blank level0\" >&nbsp;</th>\n",
       "      <th id=\"T_a9cd0_level0_col0\" class=\"col_heading level0 col0\" >Model</th>\n",
       "      <th id=\"T_a9cd0_level0_col1\" class=\"col_heading level0 col1\" >MAE</th>\n",
       "      <th id=\"T_a9cd0_level0_col2\" class=\"col_heading level0 col2\" >MSE</th>\n",
       "      <th id=\"T_a9cd0_level0_col3\" class=\"col_heading level0 col3\" >RMSE</th>\n",
       "      <th id=\"T_a9cd0_level0_col4\" class=\"col_heading level0 col4\" >R2</th>\n",
       "      <th id=\"T_a9cd0_level0_col5\" class=\"col_heading level0 col5\" >RMSLE</th>\n",
       "      <th id=\"T_a9cd0_level0_col6\" class=\"col_heading level0 col6\" >MAPE</th>\n",
       "    </tr>\n",
       "  </thead>\n",
       "  <tbody>\n",
       "    <tr>\n",
       "      <th id=\"T_a9cd0_level0_row0\" class=\"row_heading level0 row0\" >0</th>\n",
       "      <td id=\"T_a9cd0_row0_col0\" class=\"data row0 col0\" >Stacking Regressor</td>\n",
       "      <td id=\"T_a9cd0_row0_col1\" class=\"data row0 col1\" >0.1175</td>\n",
       "      <td id=\"T_a9cd0_row0_col2\" class=\"data row0 col2\" >0.0276</td>\n",
       "      <td id=\"T_a9cd0_row0_col3\" class=\"data row0 col3\" >0.1661</td>\n",
       "      <td id=\"T_a9cd0_row0_col4\" class=\"data row0 col4\" >0.8958</td>\n",
       "      <td id=\"T_a9cd0_row0_col5\" class=\"data row0 col5\" >0.0440</td>\n",
       "      <td id=\"T_a9cd0_row0_col6\" class=\"data row0 col6\" >0.0460</td>\n",
       "    </tr>\n",
       "  </tbody>\n",
       "</table>\n"
      ],
      "text/plain": [
       "<pandas.io.formats.style.Styler at 0x7f45a1f2ed60>"
      ]
     },
     "metadata": {},
     "output_type": "display_data"
    },
    {
     "data": {
      "text/html": [
       "<style type=\"text/css\">\n",
       "</style>\n",
       "<table id=\"T_b2c2d\">\n",
       "  <thead>\n",
       "    <tr>\n",
       "      <th class=\"blank level0\" >&nbsp;</th>\n",
       "      <th id=\"T_b2c2d_level0_col0\" class=\"col_heading level0 col0\" >Model</th>\n",
       "      <th id=\"T_b2c2d_level0_col1\" class=\"col_heading level0 col1\" >MAE</th>\n",
       "      <th id=\"T_b2c2d_level0_col2\" class=\"col_heading level0 col2\" >MSE</th>\n",
       "      <th id=\"T_b2c2d_level0_col3\" class=\"col_heading level0 col3\" >RMSE</th>\n",
       "      <th id=\"T_b2c2d_level0_col4\" class=\"col_heading level0 col4\" >R2</th>\n",
       "      <th id=\"T_b2c2d_level0_col5\" class=\"col_heading level0 col5\" >RMSLE</th>\n",
       "      <th id=\"T_b2c2d_level0_col6\" class=\"col_heading level0 col6\" >MAPE</th>\n",
       "    </tr>\n",
       "  </thead>\n",
       "  <tbody>\n",
       "    <tr>\n",
       "      <th id=\"T_b2c2d_level0_row0\" class=\"row_heading level0 row0\" >0</th>\n",
       "      <td id=\"T_b2c2d_row0_col0\" class=\"data row0 col0\" >Stacking Regressor</td>\n",
       "      <td id=\"T_b2c2d_row0_col1\" class=\"data row0 col1\" >0.2041</td>\n",
       "      <td id=\"T_b2c2d_row0_col2\" class=\"data row0 col2\" >0.0750</td>\n",
       "      <td id=\"T_b2c2d_row0_col3\" class=\"data row0 col3\" >0.2739</td>\n",
       "      <td id=\"T_b2c2d_row0_col4\" class=\"data row0 col4\" >0.5504</td>\n",
       "      <td id=\"T_b2c2d_row0_col5\" class=\"data row0 col5\" >0.0763</td>\n",
       "      <td id=\"T_b2c2d_row0_col6\" class=\"data row0 col6\" >0.0819</td>\n",
       "    </tr>\n",
       "  </tbody>\n",
       "</table>\n"
      ],
      "text/plain": [
       "<pandas.io.formats.style.Styler at 0x7f460afd26a0>"
      ]
     },
     "metadata": {},
     "output_type": "display_data"
    },
    {
     "data": {
      "text/html": [
       "<style type=\"text/css\">\n",
       "</style>\n",
       "<table id=\"T_98f2d\">\n",
       "  <thead>\n",
       "    <tr>\n",
       "      <th class=\"blank level0\" >&nbsp;</th>\n",
       "      <th id=\"T_98f2d_level0_col0\" class=\"col_heading level0 col0\" >Model</th>\n",
       "      <th id=\"T_98f2d_level0_col1\" class=\"col_heading level0 col1\" >MAE</th>\n",
       "      <th id=\"T_98f2d_level0_col2\" class=\"col_heading level0 col2\" >MSE</th>\n",
       "      <th id=\"T_98f2d_level0_col3\" class=\"col_heading level0 col3\" >RMSE</th>\n",
       "      <th id=\"T_98f2d_level0_col4\" class=\"col_heading level0 col4\" >R2</th>\n",
       "      <th id=\"T_98f2d_level0_col5\" class=\"col_heading level0 col5\" >RMSLE</th>\n",
       "      <th id=\"T_98f2d_level0_col6\" class=\"col_heading level0 col6\" >MAPE</th>\n",
       "    </tr>\n",
       "  </thead>\n",
       "  <tbody>\n",
       "    <tr>\n",
       "      <th id=\"T_98f2d_level0_row0\" class=\"row_heading level0 row0\" >0</th>\n",
       "      <td id=\"T_98f2d_row0_col0\" class=\"data row0 col0\" >Stacking Regressor</td>\n",
       "      <td id=\"T_98f2d_row0_col1\" class=\"data row0 col1\" >0.2144</td>\n",
       "      <td id=\"T_98f2d_row0_col2\" class=\"data row0 col2\" >0.1031</td>\n",
       "      <td id=\"T_98f2d_row0_col3\" class=\"data row0 col3\" >0.3211</td>\n",
       "      <td id=\"T_98f2d_row0_col4\" class=\"data row0 col4\" >0.6055</td>\n",
       "      <td id=\"T_98f2d_row0_col5\" class=\"data row0 col5\" >0.0848</td>\n",
       "      <td id=\"T_98f2d_row0_col6\" class=\"data row0 col6\" >0.0829</td>\n",
       "    </tr>\n",
       "  </tbody>\n",
       "</table>\n"
      ],
      "text/plain": [
       "<pandas.io.formats.style.Styler at 0x7f45ba373790>"
      ]
     },
     "metadata": {},
     "output_type": "display_data"
    },
    {
     "data": {
      "text/html": [
       "<style type=\"text/css\">\n",
       "</style>\n",
       "<table id=\"T_aca0a\">\n",
       "  <thead>\n",
       "    <tr>\n",
       "      <th class=\"blank level0\" >&nbsp;</th>\n",
       "      <th id=\"T_aca0a_level0_col0\" class=\"col_heading level0 col0\" >Model</th>\n",
       "      <th id=\"T_aca0a_level0_col1\" class=\"col_heading level0 col1\" >MAE</th>\n",
       "      <th id=\"T_aca0a_level0_col2\" class=\"col_heading level0 col2\" >MSE</th>\n",
       "      <th id=\"T_aca0a_level0_col3\" class=\"col_heading level0 col3\" >RMSE</th>\n",
       "      <th id=\"T_aca0a_level0_col4\" class=\"col_heading level0 col4\" >R2</th>\n",
       "      <th id=\"T_aca0a_level0_col5\" class=\"col_heading level0 col5\" >RMSLE</th>\n",
       "      <th id=\"T_aca0a_level0_col6\" class=\"col_heading level0 col6\" >MAPE</th>\n",
       "    </tr>\n",
       "  </thead>\n",
       "  <tbody>\n",
       "    <tr>\n",
       "      <th id=\"T_aca0a_level0_row0\" class=\"row_heading level0 row0\" >0</th>\n",
       "      <td id=\"T_aca0a_row0_col0\" class=\"data row0 col0\" >Stacking Regressor</td>\n",
       "      <td id=\"T_aca0a_row0_col1\" class=\"data row0 col1\" >0.1375</td>\n",
       "      <td id=\"T_aca0a_row0_col2\" class=\"data row0 col2\" >0.0409</td>\n",
       "      <td id=\"T_aca0a_row0_col3\" class=\"data row0 col3\" >0.2023</td>\n",
       "      <td id=\"T_aca0a_row0_col4\" class=\"data row0 col4\" >0.8388</td>\n",
       "      <td id=\"T_aca0a_row0_col5\" class=\"data row0 col5\" >0.0541</td>\n",
       "      <td id=\"T_aca0a_row0_col6\" class=\"data row0 col6\" >0.0540</td>\n",
       "    </tr>\n",
       "  </tbody>\n",
       "</table>\n"
      ],
      "text/plain": [
       "<pandas.io.formats.style.Styler at 0x7f45a1506f10>"
      ]
     },
     "metadata": {},
     "output_type": "display_data"
    }
   ],
   "source": [
    "validation_prediction_reg = pyr.predict_model(final_z_reg, data=validation_df)\n",
    "train_prediction_reg      = pyr.predict_model(final_z_reg, data=train_df)\n",
    "test_prediction_reg       = pyr.predict_model(final_z_reg, data=test_df)\n",
    "calib_prediction_reg      = pyr.predict_model(final_z_reg, data=calibration_df)\n",
    "train_test_prediction_reg = pyr.predict_model(final_z_reg, data=train_test_df)"
   ]
  },
  {
   "cell_type": "code",
   "execution_count": 63,
   "id": "d7b36fa2",
   "metadata": {
    "jupyter": {
     "source_hidden": true
    }
   },
   "outputs": [
    {
     "data": {
      "text/html": [
       "<div>\n",
       "<style scoped>\n",
       "    .dataframe tbody tr th:only-of-type {\n",
       "        vertical-align: middle;\n",
       "    }\n",
       "\n",
       "    .dataframe tbody tr th {\n",
       "        vertical-align: top;\n",
       "    }\n",
       "\n",
       "    .dataframe thead th {\n",
       "        text-align: right;\n",
       "    }\n",
       "</style>\n",
       "<table border=\"1\" class=\"dataframe\">\n",
       "  <thead>\n",
       "    <tr style=\"text-align: right;\">\n",
       "      <th></th>\n",
       "      <th>Z</th>\n",
       "      <th>Label</th>\n",
       "    </tr>\n",
       "  </thead>\n",
       "  <tbody>\n",
       "    <tr>\n",
       "      <th>count</th>\n",
       "      <td>388.000000</td>\n",
       "      <td>388.000000</td>\n",
       "    </tr>\n",
       "    <tr>\n",
       "      <th>mean</th>\n",
       "      <td>2.529585</td>\n",
       "      <td>2.567274</td>\n",
       "    </tr>\n",
       "    <tr>\n",
       "      <th>std</th>\n",
       "      <td>0.450194</td>\n",
       "      <td>0.368267</td>\n",
       "    </tr>\n",
       "    <tr>\n",
       "      <th>min</th>\n",
       "      <td>2.000000</td>\n",
       "      <td>2.088721</td>\n",
       "    </tr>\n",
       "    <tr>\n",
       "      <th>25%</th>\n",
       "      <td>2.193000</td>\n",
       "      <td>2.307852</td>\n",
       "    </tr>\n",
       "    <tr>\n",
       "      <th>50%</th>\n",
       "      <td>2.444000</td>\n",
       "      <td>2.488675</td>\n",
       "    </tr>\n",
       "    <tr>\n",
       "      <th>75%</th>\n",
       "      <td>2.716250</td>\n",
       "      <td>2.709077</td>\n",
       "    </tr>\n",
       "    <tr>\n",
       "      <th>max</th>\n",
       "      <td>4.247000</td>\n",
       "      <td>4.185686</td>\n",
       "    </tr>\n",
       "  </tbody>\n",
       "</table>\n",
       "</div>"
      ],
      "text/plain": [
       "                Z       Label\n",
       "count  388.000000  388.000000\n",
       "mean     2.529585    2.567274\n",
       "std      0.450194    0.368267\n",
       "min      2.000000    2.088721\n",
       "25%      2.193000    2.307852\n",
       "50%      2.444000    2.488675\n",
       "75%      2.716250    2.709077\n",
       "max      4.247000    4.185686"
      ]
     },
     "execution_count": 63,
     "metadata": {},
     "output_type": "execute_result"
    }
   ],
   "source": [
    "validation_prediction_reg.loc[:, [target_feat, 'Label']].describe()"
   ]
  },
  {
   "cell_type": "code",
   "execution_count": 64,
   "id": "441aae59",
   "metadata": {
    "jupyter": {
     "source_hidden": true
    },
    "tags": []
   },
   "outputs": [],
   "source": [
    "sigma_mad_train         = gf.sigma_mad(train_prediction_reg.loc[:, target_feat],         train_prediction_reg.loc[:, 'Label'])\n",
    "sigma_mad_test          = gf.sigma_mad(test_prediction_reg.loc[:, target_feat],          test_prediction_reg.loc[:, 'Label'])\n",
    "sigma_mad_train_test    = gf.sigma_mad(train_test_prediction_reg.loc[:, target_feat],    train_test_prediction_reg.loc[:, 'Label'])\n",
    "sigma_mad_calib         = gf.sigma_mad(calib_prediction_reg.loc[:, target_feat],         calib_prediction_reg.loc[:, 'Label'])\n",
    "sigma_mad_valid         = gf.sigma_mad(validation_prediction_reg.loc[:, target_feat],    validation_prediction_reg.loc[:, 'Label'])"
   ]
  },
  {
   "cell_type": "code",
   "execution_count": 65,
   "id": "80fe09e8",
   "metadata": {
    "jupyter": {
     "source_hidden": true
    },
    "tags": []
   },
   "outputs": [],
   "source": [
    "sigma_nmad_train        = gf.sigma_nmad(train_prediction_reg.loc[:, target_feat],        train_prediction_reg.loc[:, 'Label'])\n",
    "sigma_nmad_test         = gf.sigma_nmad(test_prediction_reg.loc[:, target_feat],         test_prediction_reg.loc[:, 'Label'])\n",
    "sigma_nmad_train_test   = gf.sigma_nmad(train_test_prediction_reg.loc[:, target_feat],   train_test_prediction_reg.loc[:, 'Label'])\n",
    "sigma_nmad_calib        = gf.sigma_nmad(calib_prediction_reg.loc[:, target_feat],        calib_prediction_reg.loc[:, 'Label'])\n",
    "sigma_nmad_valid        = gf.sigma_nmad(validation_prediction_reg.loc[:, target_feat],   validation_prediction_reg.loc[:, 'Label'])"
   ]
  },
  {
   "cell_type": "code",
   "execution_count": 66,
   "id": "eb631091",
   "metadata": {
    "jupyter": {
     "source_hidden": true
    },
    "tags": []
   },
   "outputs": [],
   "source": [
    "sigma_z_train           = gf.sigma_z(train_prediction_reg.loc[:, target_feat],           train_prediction_reg.loc[:, 'Label'])\n",
    "sigma_z_test            = gf.sigma_z(test_prediction_reg.loc[:, target_feat],            test_prediction_reg.loc[:, 'Label'])\n",
    "sigma_z_train_test      = gf.sigma_z(train_test_prediction_reg.loc[:, target_feat],      train_test_prediction_reg.loc[:, 'Label'])\n",
    "sigma_z_calib           = gf.sigma_z(calib_prediction_reg.loc[:, target_feat],           calib_prediction_reg.loc[:, 'Label'])\n",
    "sigma_z_valid           = gf.sigma_z(validation_prediction_reg.loc[:, target_feat],      validation_prediction_reg.loc[:, 'Label'])"
   ]
  },
  {
   "cell_type": "code",
   "execution_count": 67,
   "id": "b03bdc20",
   "metadata": {
    "jupyter": {
     "source_hidden": true
    },
    "tags": []
   },
   "outputs": [],
   "source": [
    "sigma_z_norm_train      = gf.sigma_z_norm(train_prediction_reg.loc[:, target_feat],      train_prediction_reg.loc[:, 'Label'])\n",
    "sigma_z_norm_test       = gf.sigma_z_norm(test_prediction_reg.loc[:, target_feat],       test_prediction_reg.loc[:, 'Label'])\n",
    "sigma_z_norm_train_test = gf.sigma_z_norm(train_test_prediction_reg.loc[:, target_feat], train_test_prediction_reg.loc[:, 'Label'])\n",
    "sigma_z_norm_calib      = gf.sigma_z_norm(calib_prediction_reg.loc[:, target_feat],      calib_prediction_reg.loc[:, 'Label'])\n",
    "sigma_z_norm_valid      = gf.sigma_z_norm(validation_prediction_reg.loc[:, target_feat], validation_prediction_reg.loc[:, 'Label'])"
   ]
  },
  {
   "cell_type": "code",
   "execution_count": 68,
   "id": "650b6a39",
   "metadata": {
    "jupyter": {
     "source_hidden": true
    },
    "tags": []
   },
   "outputs": [],
   "source": [
    "out_frac_train      = gf.outlier_frac(train_prediction_reg.loc[:, target_feat],           train_prediction_reg.loc[:, 'Label'])\n",
    "out_frac_test       = gf.outlier_frac(test_prediction_reg.loc[:, target_feat],            test_prediction_reg.loc[:, 'Label'])\n",
    "out_frac_train_test = gf.outlier_frac(train_test_prediction_reg.loc[:, target_feat],      train_test_prediction_reg.loc[:, 'Label'])\n",
    "out_frac_calib      = gf.outlier_frac(calib_prediction_reg.loc[:, target_feat],           calib_prediction_reg.loc[:, 'Label'])\n",
    "out_frac_valid      = gf.outlier_frac(validation_prediction_reg.loc[:, target_feat],      validation_prediction_reg.loc[:, 'Label'])"
   ]
  },
  {
   "cell_type": "markdown",
   "id": "c87b4cb9",
   "metadata": {},
   "source": [
    "Display metrics as DataFrame"
   ]
  },
  {
   "cell_type": "code",
   "execution_count": 69,
   "id": "16a058ba",
   "metadata": {
    "jupyter": {
     "source_hidden": true
    }
   },
   "outputs": [],
   "source": [
    "metrics_z = np.array([[sigma_mad_train,      sigma_nmad_train,      sigma_z_train,      sigma_z_norm_train,      out_frac_train],\\\n",
    "                      [sigma_mad_test,       sigma_nmad_test,       sigma_z_test,       sigma_z_norm_test,       out_frac_test],\\\n",
    "                      [sigma_mad_train_test, sigma_nmad_train_test, sigma_z_train_test, sigma_z_norm_train_test, out_frac_train_test],\\\n",
    "                      [sigma_mad_calib,      sigma_nmad_calib,      sigma_z_calib,      sigma_z_norm_calib,      out_frac_calib],\\\n",
    "                      [sigma_mad_valid,      sigma_nmad_valid,      sigma_z_valid,      sigma_z_norm_valid,      out_frac_valid]])"
   ]
  },
  {
   "cell_type": "code",
   "execution_count": 70,
   "id": "fb41b308",
   "metadata": {
    "jupyter": {
     "source_hidden": true
    }
   },
   "outputs": [],
   "source": [
    "metrics_z_df = pd.DataFrame(data=metrics_z, index=['Train', 'Test', 'Train+Test', 'Calibration', 'Validation'],\\\n",
    "                            columns=['\\u03C3 MAD', '\\u03C3 NMAD', '\\u03C3 z', '\\u03C3 z N', '\\u03B7'])"
   ]
  },
  {
   "cell_type": "code",
   "execution_count": 71,
   "id": "003e9add",
   "metadata": {
    "jupyter": {
     "source_hidden": true
    }
   },
   "outputs": [
    {
     "data": {
      "text/html": [
       "<div>\n",
       "<style scoped>\n",
       "    .dataframe tbody tr th:only-of-type {\n",
       "        vertical-align: middle;\n",
       "    }\n",
       "\n",
       "    .dataframe tbody tr th {\n",
       "        vertical-align: top;\n",
       "    }\n",
       "\n",
       "    .dataframe thead th {\n",
       "        text-align: right;\n",
       "    }\n",
       "</style>\n",
       "<table border=\"1\" class=\"dataframe\">\n",
       "  <thead>\n",
       "    <tr style=\"text-align: right;\">\n",
       "      <th></th>\n",
       "      <th>σ MAD</th>\n",
       "      <th>σ NMAD</th>\n",
       "      <th>σ z</th>\n",
       "      <th>σ z N</th>\n",
       "      <th>η</th>\n",
       "    </tr>\n",
       "  </thead>\n",
       "  <tbody>\n",
       "    <tr>\n",
       "      <th>Train</th>\n",
       "      <td>0.1269</td>\n",
       "      <td>0.0371</td>\n",
       "      <td>0.1661</td>\n",
       "      <td>0.0440</td>\n",
       "      <td>0.0043</td>\n",
       "    </tr>\n",
       "    <tr>\n",
       "      <th>Test</th>\n",
       "      <td>0.2400</td>\n",
       "      <td>0.0669</td>\n",
       "      <td>0.2739</td>\n",
       "      <td>0.0774</td>\n",
       "      <td>0.0706</td>\n",
       "    </tr>\n",
       "    <tr>\n",
       "      <th>Train+Test</th>\n",
       "      <td>0.1448</td>\n",
       "      <td>0.0416</td>\n",
       "      <td>0.2023</td>\n",
       "      <td>0.0553</td>\n",
       "      <td>0.0166</td>\n",
       "    </tr>\n",
       "    <tr>\n",
       "      <th>Calibration</th>\n",
       "      <td>0.2222</td>\n",
       "      <td>0.0633</td>\n",
       "      <td>0.3211</td>\n",
       "      <td>0.0911</td>\n",
       "      <td>0.0506</td>\n",
       "    </tr>\n",
       "    <tr>\n",
       "      <th>Validation</th>\n",
       "      <td>0.2608</td>\n",
       "      <td>0.0730</td>\n",
       "      <td>0.3021</td>\n",
       "      <td>0.0847</td>\n",
       "      <td>0.0670</td>\n",
       "    </tr>\n",
       "  </tbody>\n",
       "</table>\n",
       "</div>"
      ],
      "text/plain": [
       "             σ MAD  σ NMAD    σ z  σ z N      η\n",
       "Train       0.1269  0.0371 0.1661 0.0440 0.0043\n",
       "Test        0.2400  0.0669 0.2739 0.0774 0.0706\n",
       "Train+Test  0.1448  0.0416 0.2023 0.0553 0.0166\n",
       "Calibration 0.2222  0.0633 0.3211 0.0911 0.0506\n",
       "Validation  0.2608  0.0730 0.3021 0.0847 0.0670"
      ]
     },
     "metadata": {},
     "output_type": "display_data"
    }
   ],
   "source": [
    "with pd.option_context('display.float_format', '{:.4f}'.format):\n",
    "    display(metrics_z_df)"
   ]
  },
  {
   "cell_type": "code",
   "execution_count": 72,
   "id": "d2851e21",
   "metadata": {
    "jupyter": {
     "source_hidden": true
    },
    "tags": []
   },
   "outputs": [
    {
     "data": {
      "image/png": "[encoded data removed]",
      "text/plain": [
       "<Figure size 600x500 with 3 Axes>"
      ]
     },
     "metadata": {},
     "output_type": "display_data"
    }
   ],
   "source": [
    "fig             = plt.figure(figsize=(6,5))\n",
    "ax1             = fig.add_subplot(111, projection='scatter_density', xscale='log', yscale='log')\n",
    "ax1 = gf.plot_redshift_compare(train_prediction_reg.loc[:, target_feat], train_prediction_reg.loc[:, 'Label'],\\\n",
    "                      ax_pre=ax1, title='Training set', dpi=10, show_clb=True, log_stretch=False)\n",
    "\n",
    "min_z = np.floor(train_prediction_reg.loc[:, [target_feat, 'Label']].min().min())\n",
    "max_z = np.ceil(train_prediction_reg.loc[:, [target_feat, 'Label']].max().max())\n",
    "\n",
    "ax1.set_xlim(left=min_z,   right=max_z)\n",
    "ax1.set_ylim(bottom=min_z, top=max_z)\n",
    "\n",
    "if save_plot_flag:\n",
    "    plt.savefig(gv.plots_path + 'compare_plot_train_redshift_09.pdf', bbox_inches='tight')\n",
    "plt.show()"
   ]
  },
  {
   "cell_type": "code",
   "execution_count": 73,
   "id": "cef7b5b5",
   "metadata": {
    "jupyter": {
     "source_hidden": true
    },
    "tags": []
   },
   "outputs": [
    {
     "data": {
      "image/png": "[encoded data removed]",
      "text/plain": [
       "<Figure size 600x500 with 3 Axes>"
      ]
     },
     "metadata": {},
     "output_type": "display_data"
    }
   ],
   "source": [
    "fig             = plt.figure(figsize=(6,5))\n",
    "ax1             = fig.add_subplot(111, projection='scatter_density', xscale='log', yscale='log')\n",
    "ax1 = gf.plot_redshift_compare(test_prediction_reg.loc[:, target_feat], test_prediction_reg.loc[:, 'Label'],\\\n",
    "                      ax_pre=ax1, title='Test set', dpi=10, show_clb=True, log_stretch=False)\n",
    "\n",
    "min_z = np.floor(test_prediction_reg.loc[:, [target_feat, 'Label']].min().min())\n",
    "max_z = np.ceil(test_prediction_reg.loc[:, [target_feat, 'Label']].max().max())\n",
    "\n",
    "ax1.set_xlim(left=min_z,   right=max_z)\n",
    "ax1.set_ylim(bottom=min_z, top=max_z)\n",
    "\n",
    "if save_plot_flag:\n",
    "    plt.savefig(gv.plots_path + 'compare_plot_test_redshift_09.pdf', bbox_inches='tight')\n",
    "plt.show()"
   ]
  },
  {
   "cell_type": "code",
   "execution_count": 74,
   "id": "e77d469b",
   "metadata": {
    "jupyter": {
     "source_hidden": true
    },
    "tags": []
   },
   "outputs": [
    {
     "data": {
      "image/png": "[encoded data removed]",
      "text/plain": [
       "<Figure size 600x500 with 3 Axes>"
      ]
     },
     "metadata": {},
     "output_type": "display_data"
    }
   ],
   "source": [
    "fig             = plt.figure(figsize=(6,5))\n",
    "ax1             = fig.add_subplot(111, projection='scatter_density', xscale='log', yscale='log')\n",
    "ax1 = gf.plot_redshift_compare(train_test_prediction_reg.loc[:, target_feat], train_test_prediction_reg.loc[:, 'Label'],\\\n",
    "                      ax_pre=ax1, title='Train+test set', dpi=10, show_clb=True, log_stretch=False)\n",
    "min_z = np.floor(train_test_prediction_reg.loc[:, [target_feat, 'Label']].min().min())\n",
    "max_z = np.ceil(train_test_prediction_reg.loc[:, [target_feat, 'Label']].max().max())\n",
    "\n",
    "ax1.set_xlim(left=min_z,   right=max_z)\n",
    "ax1.set_ylim(bottom=min_z, top=max_z)\n",
    "\n",
    "if save_plot_flag:\n",
    "    plt.savefig(gv.plots_path + 'compare_plot_train_test_redshift_09.pdf', bbox_inches='tight')\n",
    "plt.show()"
   ]
  },
  {
   "cell_type": "code",
   "execution_count": 75,
   "id": "b6c68aa0",
   "metadata": {
    "jupyter": {
     "source_hidden": true
    },
    "tags": []
   },
   "outputs": [
    {
     "data": {
      "image/png": "[encoded data removed]",
      "text/plain": [
       "<Figure size 600x500 with 3 Axes>"
      ]
     },
     "metadata": {},
     "output_type": "display_data"
    }
   ],
   "source": [
    "fig             = plt.figure(figsize=(6,5))\n",
    "ax1             = fig.add_subplot(111, projection='scatter_density', xscale='log', yscale='log')\n",
    "ax1 = gf.plot_redshift_compare(calib_prediction_reg.loc[:, target_feat], calib_prediction_reg.loc[:, 'Label'],\\\n",
    "                      ax_pre=ax1, title='Calibration set', dpi=10, show_clb=True, log_stretch=False)\n",
    "\n",
    "min_z = np.floor(calib_prediction_reg.loc[:, [target_feat, 'Label']].min().min())\n",
    "max_z = np.ceil(calib_prediction_reg.loc[:, [target_feat, 'Label']].max().max())\n",
    "\n",
    "ax1.set_xlim(left=min_z,   right=max_z)\n",
    "ax1.set_ylim(bottom=min_z, top=max_z)\n",
    "\n",
    "if save_plot_flag:\n",
    "    plt.savefig(gv.plots_path + 'compare_plot_calibration_redshift_09.pdf', bbox_inches='tight')\n",
    "plt.show()"
   ]
  },
  {
   "cell_type": "code",
   "execution_count": 76,
   "id": "5ee7efcc",
   "metadata": {
    "jupyter": {
     "source_hidden": true
    },
    "tags": []
   },
   "outputs": [
    {
     "data": {
      "image/png": "[encoded data removed]",
      "text/plain": [
       "<Figure size 600x500 with 3 Axes>"
      ]
     },
     "metadata": {},
     "output_type": "display_data"
    }
   ],
   "source": [
    "fig             = plt.figure(figsize=(6,5))\n",
    "ax1             = fig.add_subplot(111, projection='scatter_density', xscale='log', yscale='log')\n",
    "ax1 = gf.plot_redshift_compare(validation_prediction_reg.loc[:, target_feat], validation_prediction_reg.loc[:, 'Label'],\\\n",
    "                      ax_pre=ax1, title='Validation set', dpi=10, show_clb=True, log_stretch=False)\n",
    "min_z = np.floor(validation_prediction_reg.loc[:, [target_feat, 'Label']].min().min())\n",
    "max_z = np.ceil(validation_prediction_reg.loc[:, [target_feat, 'Label']].max().max())\n",
    "\n",
    "ax1.set_xlim(left=min_z,   right=max_z)\n",
    "ax1.set_ylim(bottom=min_z, top=max_z)\n",
    "\n",
    "if save_plot_flag:\n",
    "    plt.savefig(gv.plots_path + 'compare_plot_validation_redshift_09.pdf', bbox_inches='tight')\n",
    "plt.show()"
   ]
  },
  {
   "cell_type": "code",
   "execution_count": 77,
   "id": "2a0dacbd",
   "metadata": {
    "jupyter": {
     "source_hidden": true
    },
    "tags": []
   },
   "outputs": [
    {
     "data": {
      "image/png": "[encoded data removed]",
      "text/plain": [
       "<Figure size 1000x350 with 1 Axes>"
      ]
     },
     "metadata": {},
     "output_type": "display_data"
    }
   ],
   "source": [
    "fig             = plt.figure(figsize=(10,3.5))\n",
    "ax1             = fig.add_subplot(111, xscale='linear', yscale='log')\n",
    "\n",
    "min_for_range = np.nanmin([np.nanmin(validation_prediction_reg.loc[:, target_feat]),\\\n",
    "                           np.nanmin(validation_prediction_reg.loc[:, 'Label'])])\n",
    "max_for_range = np.nanmax([np.nanmax(validation_prediction_reg.loc[:, target_feat]),\\\n",
    "                           np.nanmax(validation_prediction_reg.loc[:, 'Label'])])\n",
    "bins_z        = np.linspace(min_for_range, max_for_range, 50)\n",
    "\n",
    "_, bins, _ = ax1.hist(validation_prediction_reg.loc[:, 'Label'], bins=bins_z, histtype='stepfilled',\\\n",
    "                      ec='k', fc='mediumpurple', lw=3.5,\\\n",
    "                      label=f\"Predicted\\nN={np.sum(np.array(validation_prediction_reg.loc[:, 'Label'] > 0))}\")\n",
    "ax1.hist(validation_prediction_reg.loc[:, target_feat], bins=bins_z, histtype='stepfilled', ec='k', fc='darkcyan',\\\n",
    "         lw=3.5, label=f\"True\\nN={np.sum(np.array(validation_prediction_reg.loc[:, target_feat] > 0))}\", alpha=0.7)\n",
    "\n",
    "ax1.tick_params(which='both', top=True, right=True, direction='in')\n",
    "ax1.tick_params(axis='both', which='major', labelsize=14)\n",
    "ax1.tick_params(which='major', length=8, width=1.5)\n",
    "ax1.tick_params(which='minor', length=4, width=1.5)\n",
    "# ax1.set_xlabel('$m_{\\mathrm{W1}}\\, \\mathrm{[AB]}$', size=20)\n",
    "ax1.set_xlabel('$Z$', size=20)\n",
    "ax1.set_ylabel('Frequency', size=20)\n",
    "# ax1.set_ylabel('Frequency', size=20)\n",
    "plt.setp(ax1.spines.values(), linewidth=3.5)\n",
    "plt.setp(ax1.spines.values(), linewidth=3.5)\n",
    "plt.legend(loc=1, fontsize=20)\n",
    "# ax1.invert_xaxis()\n",
    "# ax1.set_xlim(left=-4, right=6)\n",
    "#ax1.set_aspect('equal', 'box')\n",
    "fig.tight_layout()\n",
    "if save_plot_flag:\n",
    "    plt.savefig(gv.plots_path + 'hist_true_predicted_z_09.pdf')\n",
    "plt.show()"
   ]
  },
  {
   "cell_type": "code",
   "execution_count": null,
   "id": "eac32e55",
   "metadata": {},
   "outputs": [],
   "source": []
  }
 ],
 "metadata": {
  "accelerator": "GPU",
  "colab": {
   "name": "HETDEX_pipeline_AGN_training.ipynb",
   "provenance": []
  },
  "kernelspec": {
   "display_name": "Python 3 (ipykernel)",
   "language": "python",
   "name": "python3"
  },
  "language_info": {
   "codemirror_mode": {
    "name": "ipython",
    "version": 3
   },
   "file_extension": ".py",
   "mimetype": "text/x-python",
   "name": "python",
   "nbconvert_exporter": "python",
   "pygments_lexer": "ipython3",
   "version": "3.8.13"
  }
 },
 "nbformat": 4,
 "nbformat_minor": 5
}
