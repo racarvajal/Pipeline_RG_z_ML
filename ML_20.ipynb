{
 "cells": [
  {
   "cell_type": "markdown",
   "id": "36289821",
   "metadata": {},
   "source": [
    "# Pipeline for High-z Radio Galaxies 20: SHAP values for meta models in prediction"
   ]
  },
  {
   "cell_type": "markdown",
   "id": "8a107b07",
   "metadata": {},
   "source": [
    "In this notebook, we aim to obtain a SHAP analysis for a sub-sample of our catalogue in the meta-learners used for predictions."
   ]
  },
  {
   "cell_type": "code",
   "execution_count": null,
   "id": "f45c9c17",
   "metadata": {},
   "outputs": [],
   "source": [
    "%matplotlib inline\n",
    "# Static plots\n",
    "#%matplotlib ipympl\n",
    "# Interactive plots\n",
    "import copy\n",
    "import numpy as np\n",
    "import matplotlib as mpl\n",
    "import matplotlib.cm as cm\n",
    "import matplotlib.pyplot as plt\n",
    "import matplotlib.colors as mcolors\n",
    "import matplotlib.patheffects as mpe\n",
    "import colorcet as cc\n",
    "import cmasher as cmr\n",
    "from pycaret import classification as pyc\n",
    "from pycaret import regression as pyr\n",
    "import pandas as pd\n",
    "import shap\n",
    "import fasttreeshap"
   ]
  },
  {
   "cell_type": "code",
   "execution_count": null,
   "id": "a689ad1a",
   "metadata": {},
   "outputs": [],
   "source": [
    "mpl.rcdefaults()"
   ]
  },
  {
   "cell_type": "code",
   "execution_count": null,
   "id": "f97607c2",
   "metadata": {},
   "outputs": [],
   "source": [
    "pe1            = [mpe.Stroke(linewidth=5.0, foreground='black'),\n",
    "                  mpe.Stroke(foreground='white', alpha=1),\n",
    "                  mpe.Normal()]\n",
    "pe2            = [mpe.Stroke(linewidth=3.0, foreground='white'),\n",
    "                  mpe.Stroke(foreground='white', alpha=1),\n",
    "                  mpe.Normal()]"
   ]
  },
  {
   "cell_type": "code",
   "execution_count": null,
   "id": "c4983a1f",
   "metadata": {},
   "outputs": [],
   "source": [
    "def get_final_column_names(pycaret_pipeline, sample_df):\n",
    "    if isinstance(pycaret_pipeline, sklearn.pipeline.Pipeline):\n",
    "        for (name, method) in pycaret_pipeline.named_steps.items():\n",
    "            if method != 'passthrough' and name != 'trained_model':\n",
    "                print(f'Running {name}')\n",
    "                sample_df = method.transform(sample_df)\n",
    "        return sample_df.columns.tolist()\n",
    "    else:\n",
    "        try:\n",
    "            for (name, method) in pyr.get_config('prep_pipe').named_steps.items():\n",
    "                if method != 'passthrough' and name != 'trained_model':\n",
    "                    print(f'Running {name}')\n",
    "                    sample_df = method.transform(sample_df)\n",
    "            return sample_df.columns.tolist()\n",
    "        except:\n",
    "            for (name, method) in pyc.get_config('prep_pipe').named_steps.items():\n",
    "                if method != 'passthrough' and name != 'trained_model':\n",
    "                    print(f'Running {name}')\n",
    "                    sample_df = method.transform(sample_df)\n",
    "            return sample_df.columns.tolist()"
   ]
  },
  {
   "cell_type": "code",
   "execution_count": null,
   "id": "0d2ddbaa",
   "metadata": {},
   "outputs": [],
   "source": [
    "def get_base_estimators_names(pycaret_pipeline):\n",
    "    if isinstance(pycaret_pipeline, sklearn.pipeline.Pipeline):\n",
    "        estimators  = pycaret_pipeline['trained_model'].estimators\n",
    "    else:\n",
    "        estimators  = pycaret_pipeline.estimators\n",
    "\n",
    "    estimators_list = [estimator[0] for estimator in estimators]\n",
    "    return estimators_list"
   ]
  },
  {
   "cell_type": "markdown",
   "id": "2730e60e",
   "metadata": {},
   "source": [
    "---"
   ]
  },
  {
   "cell_type": "code",
   "execution_count": null,
   "id": "5e1d75e7",
   "metadata": {},
   "outputs": [],
   "source": [
    "save_plot_flag      = False\n",
    "load_models_flag    = True\n",
    "use_second_z_model  = True"
   ]
  },
  {
   "cell_type": "markdown",
   "id": "d6b8879e",
   "metadata": {},
   "source": [
    "### Load data"
   ]
  },
  {
   "cell_type": "code",
   "execution_count": null,
   "id": "e3fc1dfc",
   "metadata": {},
   "outputs": [],
   "source": [
    "cat_path            = '../../Catalogs/'  # relative path to the same directory"
   ]
  },
  {
   "cell_type": "markdown",
   "id": "d608dc2d",
   "metadata": {},
   "source": [
    "Any of the available areas could be used. But we aim to Stripe 82 since we want to understand, with SHAP, predictions and not training."
   ]
  },
  {
   "cell_type": "code",
   "execution_count": null,
   "id": "3536814e",
   "metadata": {},
   "outputs": [],
   "source": [
    "used_area           = 'S82'  # can be 'S82', 'HETDEX', 'COSMOS' "
   ]
  },
  {
   "cell_type": "code",
   "execution_count": null,
   "id": "cb42a574",
   "metadata": {},
   "outputs": [],
   "source": [
    "file_S82            = 'CatWISE2020_S82_VLASS_VLAS82_PS1_GALEX_TGSS_XMM_2MASS_MILLIQUAS_7_4d_ALLWISE_SDSS_DR16_5sigma_imp.h5'\n",
    "file_HETDEX         = 'CatWISE2020_VLASS_LOFAR_PS1_GALEX_TGSS_XMM_2MASS_MILLIQUAS_7_4d_ALLWISE_LOLSS_SDSS_DR16_5sigma_imp.h5'\n",
    "file_COSMOS         = 'CatWISE2020_COSMOS_MILLIQUAS_7_4d_COSMOSVLA3_PS1_GALEX_TGSS_VLASS_XMM_2MASS_ALLWISE_SDSS_DR16_5sigma_imp.h5'\n",
    "\n",
    "file_name_dict      = {'S82': file_S82, 'HETDEX': file_HETDEX, 'COSMOS': file_COSMOS}\n",
    "file_name           = file_name_dict[used_area]"
   ]
  },
  {
   "cell_type": "code",
   "execution_count": null,
   "id": "b00c7e16",
   "metadata": {},
   "outputs": [],
   "source": [
    "feats_2_disc_S82    = ['objID', 'RA_MILLI', 'DEC_MILLI', 'X_ray_detect', 'Total_flux_VLASS',\\\n",
    "                     'Fint_VLAS82', 'Stotal_TGSS', 'FEP', 'W1mag', 'W2mag']\n",
    "feats_2_disc_HETDEX = ['objID', 'RA_MILLI', 'DEC_MILLI', 'X_ray_detect', 'Total_flux_VLASS',\\\n",
    "                     'Sint_LOFAR', 'Stotal_TGSS', 'FEP', 'TotalFlux_LoLSS', 'W1mag', 'W2mag']\n",
    "feats_2_disc_COSMOS = ['objID', 'RA_MILLI', 'DEC_MILLI', 'X_ray_detect', 'Total_flux_VLASS',\\\n",
    "                     'Stotal_TGSS', 'FEP', 'Flux_COSMOSVLA3', 'W1mag', 'W2mag']\n",
    "\n",
    "feats_2_disc        = {'S82': feats_2_disc_S82, 'HETDEX': feats_2_disc_HETDEX, 'COSMOS': feats_2_disc_COSMOS}\n",
    "features_2_discard  = feats_2_disc[used_area]"
   ]
  },
  {
   "cell_type": "code",
   "execution_count": null,
   "id": "bb6bcf5b",
   "metadata": {},
   "outputs": [],
   "source": [
    "full_catalog_df     = pd.read_hdf(cat_path + file_name, key='df').drop(columns=features_2_discard)"
   ]
  },
  {
   "cell_type": "code",
   "execution_count": null,
   "id": "a748dbd2",
   "metadata": {},
   "outputs": [],
   "source": [
    "full_catalog_df.info()"
   ]
  },
  {
   "cell_type": "markdown",
   "id": "82bcadea",
   "metadata": {},
   "source": [
    "Create features with class and combined redshift."
   ]
  },
  {
   "cell_type": "code",
   "execution_count": null,
   "id": "5300606b",
   "metadata": {},
   "outputs": [],
   "source": [
    "full_catalog_df['class']            = full_catalog_df.loc[:, 'is_AGN'].copy()\n",
    "filter_non_confirmed                = np.array(full_catalog_df.loc[:, 'is_AGN'] == 1) | np.array(full_catalog_df.loc[:, 'is_gal'] == 1)\n",
    "full_catalog_df.loc[~filter_non_confirmed, 'class'] = 0.5\n",
    "idx_non_Z                           = full_catalog_df.loc[:, 'Z'].where(full_catalog_df.loc[:, 'Z'] > 0).isna()\n",
    "full_catalog_df.loc[idx_non_Z, 'Z'] = full_catalog_df.loc[:, 'Z'].mask(idx_non_Z, full_catalog_df.loc[idx_non_Z, 'zsp'])"
   ]
  },
  {
   "cell_type": "code",
   "execution_count": null,
   "id": "dfd97f77",
   "metadata": {},
   "outputs": [],
   "source": [
    "full_catalog_df['radio_AGN']        = np.array(full_catalog_df.loc[:, 'is_AGN'] == 1) & np.array(full_catalog_df.loc[:, 'radio_detect'] == 1)"
   ]
  },
  {
   "cell_type": "code",
   "execution_count": null,
   "id": "ba32a658",
   "metadata": {},
   "outputs": [],
   "source": [
    "full_catalog_df                     = full_catalog_df.drop(columns=['is_AGN', 'is_SDSS_gal', 'is_gal', 'zsp'])"
   ]
  },
  {
   "cell_type": "markdown",
   "id": "a973b8b3",
   "metadata": {},
   "source": [
    "##### Random seed"
   ]
  },
  {
   "cell_type": "code",
   "execution_count": null,
   "id": "e93cd819",
   "metadata": {},
   "outputs": [],
   "source": [
    "seed                                = 42"
   ]
  },
  {
   "cell_type": "markdown",
   "id": "c0382687",
   "metadata": {},
   "source": [
    "### Load models"
   ]
  },
  {
   "cell_type": "code",
   "execution_count": null,
   "id": "ce3991a2",
   "metadata": {},
   "outputs": [],
   "source": [
    "if load_models_flag:\n",
    "    AGN_gal_clf     = pyc.load_model('models/classification_AGN_galaxy_may_15_2022')\n",
    "    radio_det_clf   = pyc.load_model('models/classification_radio_detect_may_16_2022')\n",
    "    redshift_reg    = pyr.load_model('models/regression_z_may_17_2022')  # to use on full sample\n",
    "    if use_second_z_model:\n",
    "        redshift_reg_2  = pyr.load_model('models/regression_z_may_18_2022')  # to use on sources with predicted z >= 2"
   ]
  },
  {
   "cell_type": "code",
   "execution_count": null,
   "id": "630571c8",
   "metadata": {},
   "outputs": [],
   "source": [
    "threshold_AGN   = 0.5\n",
    "threshold_radio = 0.5"
   ]
  },
  {
   "cell_type": "markdown",
   "id": "8a9fa9d0",
   "metadata": {},
   "source": [
    "Predictions"
   ]
  },
  {
   "cell_type": "code",
   "execution_count": null,
   "id": "0d96fdac",
   "metadata": {},
   "outputs": [],
   "source": [
    "full_catalog_df = pyc.predict_model(AGN_gal_clf, data=full_catalog_df, probability_threshold=threshold_AGN, raw_score=True)\n",
    "full_catalog_df = full_catalog_df.drop(columns=['Score_0'])\n",
    "full_catalog_df = full_catalog_df.rename(columns={'Label': 'pred_class', 'Score_1': 'Score_AGN'})"
   ]
  },
  {
   "cell_type": "code",
   "execution_count": null,
   "id": "a6513a09",
   "metadata": {},
   "outputs": [],
   "source": [
    "full_catalog_df = pyc.predict_model(radio_det_clf, data=full_catalog_df, probability_threshold=threshold_radio, raw_score=True)\n",
    "full_catalog_df = full_catalog_df.drop(columns=['Score_0'])\n",
    "full_catalog_df = full_catalog_df.rename(columns={'Label': 'pred_radio', 'Score_1': 'Score_radio'})"
   ]
  },
  {
   "cell_type": "code",
   "execution_count": null,
   "id": "7f28fdf9",
   "metadata": {},
   "outputs": [],
   "source": [
    "full_catalog_df = pyr.predict_model(redshift_reg, data=full_catalog_df, round=3)\n",
    "full_catalog_df = full_catalog_df.rename(columns={'Label': 'pred_Z'})\n",
    "full_catalog_df.loc[:, 'pred_Z'] = np.around(full_catalog_df.loc[:, 'pred_Z'], decimals=3)"
   ]
  },
  {
   "cell_type": "code",
   "execution_count": null,
   "id": "e97b9930",
   "metadata": {},
   "outputs": [],
   "source": [
    "redshift_lim    = 2.0\n",
    "redshift_tol    = 0.0\n",
    "if use_second_z_model:\n",
    "    full_catalog_df = pyr.predict_model(redshift_reg_2, data=full_catalog_df, round=3)\n",
    "    filter_pred_z   = full_catalog_df.loc[:, 'pred_Z'] >= (redshift_lim + redshift_tol)\n",
    "    full_catalog_df.loc[:, 'pred_Z'] = full_catalog_df.loc[:, 'pred_Z'].mask(filter_pred_z, full_catalog_df.loc[filter_pred_z, 'Label'])\n",
    "    full_catalog_df = full_catalog_df.drop(columns=['Label'])\n",
    "    full_catalog_df.loc[:, 'pred_Z'] = np.around(full_catalog_df.loc[:, 'pred_Z'], decimals=3)"
   ]
  },
  {
   "cell_type": "code",
   "execution_count": null,
   "id": "96082c07",
   "metadata": {},
   "outputs": [],
   "source": [
    "full_catalog_df['pred_radio_AGN'] = np.array(full_catalog_df.loc[:, 'pred_class'] == 1) & np.array(full_catalog_df.loc[:, 'pred_radio'] == 1)"
   ]
  },
  {
   "cell_type": "markdown",
   "id": "70a9fd02",
   "metadata": {},
   "source": [
    "---"
   ]
  },
  {
   "cell_type": "markdown",
   "id": "ef42f42d",
   "metadata": {},
   "source": [
    "## Use SHAP"
   ]
  },
  {
   "cell_type": "markdown",
   "id": "e45a537d",
   "metadata": {},
   "source": [
    "Flags to run on each meta learner."
   ]
  },
  {
   "cell_type": "code",
   "execution_count": null,
   "id": "cc8ae9dd",
   "metadata": {},
   "outputs": [],
   "source": [
    "run_shap_AGN_meta   = True\n",
    "run_shap_radio_meta = True\n",
    "run_shap_z_meta     = True"
   ]
  },
  {
   "cell_type": "code",
   "execution_count": null,
   "id": "4a58a7a0",
   "metadata": {},
   "outputs": [],
   "source": [
    "selected_color = plt.get_cmap('cmr.pride')  # cmr.pride, cet_CET_R3"
   ]
  },
  {
   "cell_type": "markdown",
   "id": "5f36b1c7",
   "metadata": {},
   "source": [
    "#### SHAP - AGN/galaxy model"
   ]
  },
  {
   "cell_type": "markdown",
   "id": "608a835e",
   "metadata": {},
   "source": [
    "SHAP does not need to use the full dataset for its analysis. Around $N=1000$ is a good number."
   ]
  },
  {
   "cell_type": "code",
   "execution_count": null,
   "id": "9df99a2a",
   "metadata": {},
   "outputs": [],
   "source": [
    "sample_size_AGN = 1000"
   ]
  },
  {
   "cell_type": "code",
   "execution_count": null,
   "id": "f840b3a8",
   "metadata": {},
   "outputs": [],
   "source": [
    "estimators_list_AGN = get_base_estimators_names(final_z_reg)"
   ]
  },
  {
   "cell_type": "code",
   "execution_count": null,
   "id": "a781eae5",
   "metadata": {},
   "outputs": [],
   "source": [
    "reduced_data_AGN = full_catalog_df.loc[:, get_final_column_names(AGN_gal_clf, full_catalog_df)].copy()\n",
    "reduced_idx_AGN  = reduced_data_AGN.index\n",
    "reduced_cols_AGN = reduced_data_AGN.columns\n",
    "reduced_cols_AGN = reduced_data_AGN.columns.insert(0, estimators_list_AGN[0])\n",
    "if len(estimators_list_AGN) > 1:\n",
    "    for est_name in estimators_list_AGN[1::]:\n",
    "        reduced_cols_AGN = reduced_cols_AGN.insert(0, est_name)"
   ]
  },
  {
   "cell_type": "code",
   "execution_count": null,
   "id": "73d54add",
   "metadata": {},
   "outputs": [],
   "source": [
    "print('Running data pre-processing:\\n')\n",
    "if isinstance(AGN_gal_clf, sklearn.pipeline.Pipeline):\n",
    "    prep_steps = AGN_gal_clf.named_steps.items()\n",
    "else:\n",
    "    prep_steps = pyc.get_config('prep_pipe').named_steps.items()\n",
    "\n",
    "for (name, method) in prep_steps:\n",
    "    if method != 'passthrough':  # and name != 'trained_model':\n",
    "        print(f'Running {name}')\n",
    "        reduced_data_AGN = method.transform(reduced_data_AGN)\n",
    "reduced_data_AGN_df = pd.DataFrame(reduced_data_AGN, columns=reduced_cols_AGN, index=reduced_idx_AGN)"
   ]
  },
  {
   "cell_type": "markdown",
   "id": "f072fa3e",
   "metadata": {},
   "source": [
    "Use FastTreeSHAP package"
   ]
  },
  {
   "cell_type": "code",
   "execution_count": null,
   "id": "4774a836",
   "metadata": {},
   "outputs": [],
   "source": [
    "if run_shap_AGN_meta:\n",
    "    explainer_AGN_meta = fasttreeshap.TreeExplainer(AGN_gal_clf.named_steps['trained_model'].final_estimator_,\\\n",
    "                                                    data=reduced_data_AGN_df, feature_perturbation='interventional',\\\n",
    "                                                    model_output='raw', feature_dependence='independent',\\\n",
    "                                                    algorithm='auto', n_jobs=12)"
   ]
  },
  {
   "cell_type": "code",
   "execution_count": null,
   "id": "4943e15c",
   "metadata": {},
   "outputs": [],
   "source": [
    "if run_shap_AGN_meta:\n",
    "    print('Working with meta-model')\n",
    "    shap_values_AGN_meta = explainer_AGN_meta(reduced_data_AGN_df)"
   ]
  },
  {
   "cell_type": "code",
   "execution_count": null,
   "id": "12d724f9",
   "metadata": {},
   "outputs": [],
   "source": [
    "if run_shap_AGN_meta:\n",
    "    explainer_AGN_meta.expected_value"
   ]
  },
  {
   "cell_type": "code",
   "execution_count": null,
   "id": "be8cf6dd",
   "metadata": {},
   "outputs": [],
   "source": [
    "if run_shap_AGN_meta:\n",
    "    shap.plots.beeswarm(copy.deepcopy(shap_values_AGN_meta), log_scale=False, show=False, color_bar=False,\n",
    "                        color=selected_color, max_display=len(shap_values_AGN_final.feature_names), alpha=1.0)\n",
    "    _, h = plt.gcf().get_size_inches()\n",
    "\n",
    "    m = cm.ScalarMappable(cmap=selected_color)\n",
    "    cb = plt.colorbar(m, ticks=[0, 1], aspect=100)\n",
    "    cb.set_ticklabels([shap.plots._labels.labels['FEATURE_VALUE_LOW'], shap.plots._labels.labels['FEATURE_VALUE_HIGH']])\n",
    "    cb.set_label(shap.plots._labels.labels[\"FEATURE_VALUE\"], size=16, labelpad=-20)\n",
    "    cb.ax.tick_params(labelsize=16, length=0)\n",
    "    cb.set_alpha(1)\n",
    "    cb.outline.set_visible(False)\n",
    "    bbox = cb.ax.get_window_extent().transformed(plt.gcf().dpi_scale_trans.inverted())\n",
    "\n",
    "    plt.gca().tick_params('x', labelsize=14)\n",
    "    plt.gca().xaxis.get_offset_text().set_fontsize(14)\n",
    "    plt.gca().xaxis.get_offset_text().set_position((0,1))\n",
    "    plt.gca().tick_params('y', labelsize=20)\n",
    "    plt.gca().xaxis.label.set_size(20)\n",
    "\n",
    "    plt.title('AGN detection: Meta-learner', fontsize=20)\n",
    "\n",
    "    plt.gcf().set_size_inches(h, h*3/2)\n",
    "    plt.tight_layout()\n",
    "    if save_plot_flag:\n",
    "        plt.savefig(f'plots/SHAP_AGN_meta_learner_{used_area}.pdf', bbox_inches='tight')\n",
    "    plt.show()"
   ]
  },
  {
   "cell_type": "code",
   "execution_count": null,
   "id": "ca9177bf",
   "metadata": {},
   "outputs": [],
   "source": [
    "# (0.5 - 5e-6, 0.5 + 2e-5)\n",
    "# (0.5 - 2.2e-5, 0.5 + 2.1e-5)\n",
    "if run_shap_AGN_meta:\n",
    "    size_side       = 8\n",
    "    fig             = plt.figure(figsize=(size_side,size_side * 3/2))\n",
    "    ax1             = fig.add_subplot(111, xscale='linear', yscale='linear')\n",
    "    shap.plots.decision(base_value=explainer_AGN_meta.expected_value,\n",
    "                        shap_values=shap_values_AGN_meta.values,\n",
    "                        feature_names=reduced_cols_AGN.to_list(),\n",
    "                        link='logit', plot_color=selected_color,\n",
    "                        highlight=None, auto_size_plot=False,\n",
    "                        show=False, xlim=None,\n",
    "                        feature_display_range=slice(-1, -(len(shap_values_AGN_meta.feature_names) +1), -1))\n",
    "    \n",
    "    ax1.tick_params('x', labelsize=14)\n",
    "    ax1.xaxis.get_offset_text().set_fontsize(14)\n",
    "    #ax1.xaxis.get_offset_text().set_position((0,1))\n",
    "    ax1.tick_params('y', labelsize=20)\n",
    "    # plt.ticklabel_format(axis='x', style='sci', scilimits=(0,0))\n",
    "    ax1.xaxis.label.set_size(20)\n",
    "    \n",
    "    plt.title('AGN detection: Meta-learner', fontsize=20)\n",
    "    \n",
    "    plt.tight_layout()\n",
    "    if save_plot_flag:\n",
    "        plt.savefig(f'plots/SHAP_decision_AGN_meta_learner_{used_area}.pdf', bbox_inches='tight')\n",
    "    plt.show()"
   ]
  },
  {
   "cell_type": "code",
   "execution_count": null,
   "id": "77206736",
   "metadata": {},
   "outputs": [],
   "source": [
    "if run_shap_AGN_meta:\n",
    "    # The model's raw prediction for the first observation.\n",
    "    print(AGN_gal_clf.named_steps['trained_model'].final_estimator_.predict(reduced_data_AGN_df[0]).round(5))\n",
    "    \n",
    "    # The corresponding sum of the mean + shap values\n",
    "    print((explainer_AGN_meta.expected_value + shap_values_AGN_meta.values[0].sum()).round(5))"
   ]
  },
  {
   "cell_type": "markdown",
   "id": "64c8de2b",
   "metadata": {},
   "source": [
    "#### SHAP - Radio detection model"
   ]
  },
  {
   "cell_type": "markdown",
   "id": "9cc8b52a",
   "metadata": {},
   "source": [
    "#### SHAP - First redshift prediction model"
   ]
  },
  {
   "cell_type": "markdown",
   "id": "db69c4dd",
   "metadata": {},
   "source": [
    "#### SHAP - Second redshift prediction model"
   ]
  },
  {
   "cell_type": "code",
   "execution_count": null,
   "id": "f412b012",
   "metadata": {},
   "outputs": [],
   "source": []
  },
  {
   "cell_type": "code",
   "execution_count": null,
   "id": "10aeb505",
   "metadata": {},
   "outputs": [],
   "source": []
  },
  {
   "cell_type": "code",
   "execution_count": null,
   "id": "7a10389a",
   "metadata": {},
   "outputs": [],
   "source": []
  },
  {
   "cell_type": "code",
   "execution_count": null,
   "id": "081dce8b",
   "metadata": {},
   "outputs": [],
   "source": []
  }
 ],
 "metadata": {
  "kernelspec": {
   "display_name": "Python 3 (ipykernel)",
   "language": "python",
   "name": "python3"
  },
  "language_info": {
   "codemirror_mode": {
    "name": "ipython",
    "version": 3
   },
   "file_extension": ".py",
   "mimetype": "text/x-python",
   "name": "python",
   "nbconvert_exporter": "python",
   "pygments_lexer": "ipython3",
   "version": "3.8.13"
  }
 },
 "nbformat": 4,
 "nbformat_minor": 5
}
