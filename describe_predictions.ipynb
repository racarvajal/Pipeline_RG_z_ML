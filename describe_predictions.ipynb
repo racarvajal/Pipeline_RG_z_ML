{
 "cells": [
  {
   "cell_type": "markdown",
   "id": "b72f972d",
   "metadata": {},
   "source": [
    "# Describe data used after applying models (HETDEX and Stripe 82)"
   ]
  },
  {
   "cell_type": "code",
   "execution_count": 1,
   "id": "6996ea3c",
   "metadata": {},
   "outputs": [],
   "source": [
    "%matplotlib inline\n",
    "# Static plots\n",
    "#%matplotlib ipympl\n",
    "# Interactive plots\n",
    "import numpy as np\n",
    "import matplotlib as mpl\n",
    "import matplotlib.cm as cm\n",
    "import matplotlib.pyplot as plt\n",
    "import matplotlib.colors as mcolors\n",
    "import matplotlib.patheffects as mpe\n",
    "import matplotlib.patches as mpatches\n",
    "from matplotlib.ticker import AutoMinorLocator\n",
    "from mpl_toolkits.axes_grid1.inset_locator import inset_axes\n",
    "import mpl_scatter_density\n",
    "from sklearn.model_selection import train_test_split\n",
    "from astropy.visualization import LogStretch, PowerStretch\n",
    "from astropy.visualization.mpl_normalize import ImageNormalize\n",
    "import colorcet as cc\n",
    "import cmasher as cmr\n",
    "import pandas as pd\n",
    "from chainconsumer import ChainConsumer\n",
    "import global_variables as gv\n",
    "import global_functions as gf"
   ]
  },
  {
   "cell_type": "code",
   "execution_count": 2,
   "id": "8f55051a",
   "metadata": {},
   "outputs": [],
   "source": [
    "mpl.rcdefaults()"
   ]
  },
  {
   "cell_type": "code",
   "execution_count": 3,
   "id": "a7a88151",
   "metadata": {},
   "outputs": [],
   "source": [
    "plt.rcParams['text.usetex'] = True"
   ]
  },
  {
   "cell_type": "markdown",
   "id": "215f0ec7",
   "metadata": {},
   "source": [
    "---"
   ]
  },
  {
   "cell_type": "markdown",
   "id": "6e046d33",
   "metadata": {},
   "source": [
    "## Reading data"
   ]
  },
  {
   "cell_type": "markdown",
   "id": "8c5754fa",
   "metadata": {},
   "source": [
    "#### File name"
   ]
  },
  {
   "cell_type": "code",
   "execution_count": 4,
   "id": "35aa28bf",
   "metadata": {},
   "outputs": [],
   "source": [
    "save_plot_flag      = False\n",
    "use_imputed         = False\n",
    "plot_area_dens      = True"
   ]
  },
  {
   "cell_type": "code",
   "execution_count": 5,
   "id": "b1262b59",
   "metadata": {},
   "outputs": [],
   "source": [
    "used_area           = 'S82'  # can be 'S82', 'HETDEX'\n",
    "HETDEX_subset       = 'all'  # 'training', 'test', 'train_test', 'calibration', 'validation', 'known', 'unknown', 'all'\n",
    "S82_subset          = 'all'  # 'known', 'unknown', 'all'"
   ]
  },
  {
   "cell_type": "code",
   "execution_count": 6,
   "id": "6a46150a",
   "metadata": {},
   "outputs": [],
   "source": [
    "if plot_area_dens:\n",
    "    norm_str            = '_norm'\n",
    "if not plot_area_dens:\n",
    "    norm_str            = ''"
   ]
  },
  {
   "cell_type": "code",
   "execution_count": 7,
   "id": "8b6c7751",
   "metadata": {},
   "outputs": [],
   "source": [
    "feats_2_disc_S82    = ['objID', 'RA_MILLI', 'DEC_MILLI', 'W1mag', 'W2mag', 'num_imputed']\n",
    "feats_2_disc_HETDEX = ['objID', 'RA_MILLI', 'DEC_MILLI', 'W1mag', 'W2mag', 'num_imputed']\n",
    "feats_2_disc_COSMOS = ['objID', 'RA_MILLI', 'DEC_MILLI', 'W1mag', 'W2mag', 'num_imputed']\n",
    "\n",
    "feats_2_disc        = {'S82': feats_2_disc_S82, 'HETDEX': feats_2_disc_HETDEX, 'COSMOS': feats_2_disc_COSMOS}\n",
    "features_2_discard  = feats_2_disc[used_area]\n",
    "if not use_imputed:\n",
    "    feats_2_disc_HETDEX.remove('num_imputed')\n",
    "    feats_2_disc_S82.remove('num_imputed')"
   ]
  },
  {
   "cell_type": "code",
   "execution_count": 8,
   "id": "b962f50b",
   "metadata": {
    "jupyter": {
     "source_hidden": true
    }
   },
   "outputs": [],
   "source": [
    "if use_imputed:\n",
    "    file_name_dict      = {'S82': gv.file_S82, 'HETDEX': gv.file_HETDEX, 'COSMOS': gv.file_COSMOS}\n",
    "    imp_string          = '_imputed'\n",
    "if not use_imputed:\n",
    "    file_name_dict      = {'S82': gv.file_non_imp_S82, 'HETDEX': gv.file_non_imp_HETDEX, 'COSMOS': gv.file_non_imp_COSMOS}\n",
    "    imp_string          = '_nonimputed'\n",
    "file_name               = file_name_dict[used_area]\n",
    "\n",
    "if plot_area_dens:\n",
    "    norm_str            = '_norm'\n",
    "if not plot_area_dens:\n",
    "    norm_str            = ''"
   ]
  },
  {
   "cell_type": "code",
   "execution_count": 9,
   "id": "f65e46da",
   "metadata": {},
   "outputs": [],
   "source": [
    "full_catalog_HETDEX_df  = pd.read_csv(gv.preds_path + f'predicted_rAGN_HETDEX.csv')\n",
    "full_catalog_S82_df     = pd.read_csv(gv.preds_path + f'predicted_rAGN_S82.csv')"
   ]
  },
  {
   "cell_type": "markdown",
   "id": "8863d807",
   "metadata": {},
   "source": [
    "Convert values from `float64` to `float32`."
   ]
  },
  {
   "cell_type": "code",
   "execution_count": 10,
   "id": "b1cbed18",
   "metadata": {},
   "outputs": [],
   "source": [
    "for col in full_catalog_HETDEX_df.columns:\n",
    "    if full_catalog_HETDEX_df.loc[:, col].dtype == 'float64':\n",
    "        full_catalog_HETDEX_df.loc[:, col] = full_catalog_HETDEX_df.loc[:, col].astype('float32')\n",
    "for col in full_catalog_S82_df.columns:\n",
    "    if full_catalog_S82_df.loc[:, col].dtype == 'float64':\n",
    "        full_catalog_S82_df.loc[:, col] = full_catalog_S82_df.loc[:, col].astype('float32')"
   ]
  },
  {
   "cell_type": "code",
   "execution_count": 11,
   "id": "6b8d1e9a",
   "metadata": {
    "jupyter": {
     "source_hidden": true
    }
   },
   "outputs": [],
   "source": [
    "HETDEX_AGN_filter       = np.array(full_catalog_HETDEX_df.loc[:, 'class'] == 1)\n",
    "S82_AGN_filter          = np.array(full_catalog_S82_df.loc[:, 'class'] == 1)\n",
    "HETDEX_gal_filter       = np.array(full_catalog_HETDEX_df.loc[:, 'class'] == 0)\n",
    "S82_gal_filter          = np.array(full_catalog_S82_df.loc[:, 'class'] == 0)"
   ]
  },
  {
   "cell_type": "code",
   "execution_count": 12,
   "id": "18af448a",
   "metadata": {
    "jupyter": {
     "source_hidden": true
    }
   },
   "outputs": [],
   "source": [
    "HETDEX_radio_filter     = np.array(full_catalog_HETDEX_df.loc[:, 'LOFAR_detect'] == 1)\n",
    "S82_radio_filter        = np.array(full_catalog_S82_df.loc[:, 'LOFAR_detect'] == 1)\n",
    "HETDEX_noradio_filter   = np.array(full_catalog_HETDEX_df.loc[:, 'LOFAR_detect'] == 0)\n",
    "S82_noradio_filter      = np.array(full_catalog_S82_df.loc[:, 'LOFAR_detect'] == 0)"
   ]
  },
  {
   "cell_type": "code",
   "execution_count": 13,
   "id": "0f671279",
   "metadata": {
    "jupyter": {
     "source_hidden": true
    }
   },
   "outputs": [
    {
     "ename": "KeyError",
     "evalue": "'pred_prob_class'",
     "output_type": "error",
     "traceback": [
      "\u001b[0;31m---------------------------------------------------------------------------\u001b[0m",
      "\u001b[0;31mKeyError\u001b[0m                                  Traceback (most recent call last)",
      "File \u001b[0;32m~/.miniforge3/envs/clone_test_pycaret/lib/python3.8/site-packages/pandas/core/indexes/base.py:3621\u001b[0m, in \u001b[0;36mIndex.get_loc\u001b[0;34m(self, key, method, tolerance)\u001b[0m\n\u001b[1;32m   3620\u001b[0m \u001b[38;5;28;01mtry\u001b[39;00m:\n\u001b[0;32m-> 3621\u001b[0m     \u001b[38;5;28;01mreturn\u001b[39;00m \u001b[38;5;28;43mself\u001b[39;49m\u001b[38;5;241;43m.\u001b[39;49m\u001b[43m_engine\u001b[49m\u001b[38;5;241;43m.\u001b[39;49m\u001b[43mget_loc\u001b[49m\u001b[43m(\u001b[49m\u001b[43mcasted_key\u001b[49m\u001b[43m)\u001b[49m\n\u001b[1;32m   3622\u001b[0m \u001b[38;5;28;01mexcept\u001b[39;00m \u001b[38;5;167;01mKeyError\u001b[39;00m \u001b[38;5;28;01mas\u001b[39;00m err:\n",
      "File \u001b[0;32m~/.miniforge3/envs/clone_test_pycaret/lib/python3.8/site-packages/pandas/_libs/index.pyx:136\u001b[0m, in \u001b[0;36mpandas._libs.index.IndexEngine.get_loc\u001b[0;34m()\u001b[0m\n",
      "File \u001b[0;32m~/.miniforge3/envs/clone_test_pycaret/lib/python3.8/site-packages/pandas/_libs/index.pyx:163\u001b[0m, in \u001b[0;36mpandas._libs.index.IndexEngine.get_loc\u001b[0;34m()\u001b[0m\n",
      "File \u001b[0;32mpandas/_libs/hashtable_class_helper.pxi:5198\u001b[0m, in \u001b[0;36mpandas._libs.hashtable.PyObjectHashTable.get_item\u001b[0;34m()\u001b[0m\n",
      "File \u001b[0;32mpandas/_libs/hashtable_class_helper.pxi:5206\u001b[0m, in \u001b[0;36mpandas._libs.hashtable.PyObjectHashTable.get_item\u001b[0;34m()\u001b[0m\n",
      "\u001b[0;31mKeyError\u001b[0m: 'pred_prob_class'",
      "\nThe above exception was the direct cause of the following exception:\n",
      "\u001b[0;31mKeyError\u001b[0m                                  Traceback (most recent call last)",
      "Input \u001b[0;32mIn [13]\u001b[0m, in \u001b[0;36m<cell line: 1>\u001b[0;34m()\u001b[0m\n\u001b[0;32m----> 1\u001b[0m HETDEX_pAGN_filter      \u001b[38;5;241m=\u001b[39m np\u001b[38;5;241m.\u001b[39marray(\u001b[43mfull_catalog_HETDEX_df\u001b[49m\u001b[38;5;241;43m.\u001b[39;49m\u001b[43mloc\u001b[49m\u001b[43m[\u001b[49m\u001b[43m:\u001b[49m\u001b[43m,\u001b[49m\u001b[43m \u001b[49m\u001b[38;5;124;43m'\u001b[39;49m\u001b[38;5;124;43mpred_prob_class\u001b[39;49m\u001b[38;5;124;43m'\u001b[39;49m\u001b[43m]\u001b[49m \u001b[38;5;241m==\u001b[39m \u001b[38;5;241m1\u001b[39m)\n\u001b[1;32m      2\u001b[0m S82_pAGN_filter         \u001b[38;5;241m=\u001b[39m np\u001b[38;5;241m.\u001b[39marray(full_catalog_S82_df\u001b[38;5;241m.\u001b[39mloc[:, \u001b[38;5;124m'\u001b[39m\u001b[38;5;124mpred_prob_class\u001b[39m\u001b[38;5;124m'\u001b[39m] \u001b[38;5;241m==\u001b[39m \u001b[38;5;241m1\u001b[39m)\n\u001b[1;32m      3\u001b[0m HETDEX_pgal_filter      \u001b[38;5;241m=\u001b[39m np\u001b[38;5;241m.\u001b[39marray(full_catalog_HETDEX_df\u001b[38;5;241m.\u001b[39mloc[:, \u001b[38;5;124m'\u001b[39m\u001b[38;5;124mpred_prob_class\u001b[39m\u001b[38;5;124m'\u001b[39m] \u001b[38;5;241m==\u001b[39m \u001b[38;5;241m0\u001b[39m)\n",
      "File \u001b[0;32m~/.miniforge3/envs/clone_test_pycaret/lib/python3.8/site-packages/pandas/core/indexing.py:961\u001b[0m, in \u001b[0;36m_LocationIndexer.__getitem__\u001b[0;34m(self, key)\u001b[0m\n\u001b[1;32m    959\u001b[0m     \u001b[38;5;28;01mif\u001b[39;00m \u001b[38;5;28mself\u001b[39m\u001b[38;5;241m.\u001b[39m_is_scalar_access(key):\n\u001b[1;32m    960\u001b[0m         \u001b[38;5;28;01mreturn\u001b[39;00m \u001b[38;5;28mself\u001b[39m\u001b[38;5;241m.\u001b[39mobj\u001b[38;5;241m.\u001b[39m_get_value(\u001b[38;5;241m*\u001b[39mkey, takeable\u001b[38;5;241m=\u001b[39m\u001b[38;5;28mself\u001b[39m\u001b[38;5;241m.\u001b[39m_takeable)\n\u001b[0;32m--> 961\u001b[0m     \u001b[38;5;28;01mreturn\u001b[39;00m \u001b[38;5;28;43mself\u001b[39;49m\u001b[38;5;241;43m.\u001b[39;49m\u001b[43m_getitem_tuple\u001b[49m\u001b[43m(\u001b[49m\u001b[43mkey\u001b[49m\u001b[43m)\u001b[49m\n\u001b[1;32m    962\u001b[0m \u001b[38;5;28;01melse\u001b[39;00m:\n\u001b[1;32m    963\u001b[0m     \u001b[38;5;66;03m# we by definition only have the 0th axis\u001b[39;00m\n\u001b[1;32m    964\u001b[0m     axis \u001b[38;5;241m=\u001b[39m \u001b[38;5;28mself\u001b[39m\u001b[38;5;241m.\u001b[39maxis \u001b[38;5;129;01mor\u001b[39;00m \u001b[38;5;241m0\u001b[39m\n",
      "File \u001b[0;32m~/.miniforge3/envs/clone_test_pycaret/lib/python3.8/site-packages/pandas/core/indexing.py:1140\u001b[0m, in \u001b[0;36m_LocIndexer._getitem_tuple\u001b[0;34m(self, tup)\u001b[0m\n\u001b[1;32m   1138\u001b[0m \u001b[38;5;28;01mwith\u001b[39;00m suppress(IndexingError):\n\u001b[1;32m   1139\u001b[0m     tup \u001b[38;5;241m=\u001b[39m \u001b[38;5;28mself\u001b[39m\u001b[38;5;241m.\u001b[39m_expand_ellipsis(tup)\n\u001b[0;32m-> 1140\u001b[0m     \u001b[38;5;28;01mreturn\u001b[39;00m \u001b[38;5;28;43mself\u001b[39;49m\u001b[38;5;241;43m.\u001b[39;49m\u001b[43m_getitem_lowerdim\u001b[49m\u001b[43m(\u001b[49m\u001b[43mtup\u001b[49m\u001b[43m)\u001b[49m\n\u001b[1;32m   1142\u001b[0m \u001b[38;5;66;03m# no multi-index, so validate all of the indexers\u001b[39;00m\n\u001b[1;32m   1143\u001b[0m tup \u001b[38;5;241m=\u001b[39m \u001b[38;5;28mself\u001b[39m\u001b[38;5;241m.\u001b[39m_validate_tuple_indexer(tup)\n",
      "File \u001b[0;32m~/.miniforge3/envs/clone_test_pycaret/lib/python3.8/site-packages/pandas/core/indexing.py:867\u001b[0m, in \u001b[0;36m_LocationIndexer._getitem_lowerdim\u001b[0;34m(self, tup)\u001b[0m\n\u001b[1;32m    863\u001b[0m \u001b[38;5;28;01mfor\u001b[39;00m i, key \u001b[38;5;129;01min\u001b[39;00m \u001b[38;5;28menumerate\u001b[39m(tup):\n\u001b[1;32m    864\u001b[0m     \u001b[38;5;28;01mif\u001b[39;00m is_label_like(key):\n\u001b[1;32m    865\u001b[0m         \u001b[38;5;66;03m# We don't need to check for tuples here because those are\u001b[39;00m\n\u001b[1;32m    866\u001b[0m         \u001b[38;5;66;03m#  caught by the _is_nested_tuple_indexer check above.\u001b[39;00m\n\u001b[0;32m--> 867\u001b[0m         section \u001b[38;5;241m=\u001b[39m \u001b[38;5;28;43mself\u001b[39;49m\u001b[38;5;241;43m.\u001b[39;49m\u001b[43m_getitem_axis\u001b[49m\u001b[43m(\u001b[49m\u001b[43mkey\u001b[49m\u001b[43m,\u001b[49m\u001b[43m \u001b[49m\u001b[43maxis\u001b[49m\u001b[38;5;241;43m=\u001b[39;49m\u001b[43mi\u001b[49m\u001b[43m)\u001b[49m\n\u001b[1;32m    869\u001b[0m         \u001b[38;5;66;03m# We should never have a scalar section here, because\u001b[39;00m\n\u001b[1;32m    870\u001b[0m         \u001b[38;5;66;03m#  _getitem_lowerdim is only called after a check for\u001b[39;00m\n\u001b[1;32m    871\u001b[0m         \u001b[38;5;66;03m#  is_scalar_access, which that would be.\u001b[39;00m\n\u001b[1;32m    872\u001b[0m         \u001b[38;5;28;01mif\u001b[39;00m section\u001b[38;5;241m.\u001b[39mndim \u001b[38;5;241m==\u001b[39m \u001b[38;5;28mself\u001b[39m\u001b[38;5;241m.\u001b[39mndim:\n\u001b[1;32m    873\u001b[0m             \u001b[38;5;66;03m# we're in the middle of slicing through a MultiIndex\u001b[39;00m\n\u001b[1;32m    874\u001b[0m             \u001b[38;5;66;03m# revise the key wrt to `section` by inserting an _NS\u001b[39;00m\n",
      "File \u001b[0;32m~/.miniforge3/envs/clone_test_pycaret/lib/python3.8/site-packages/pandas/core/indexing.py:1202\u001b[0m, in \u001b[0;36m_LocIndexer._getitem_axis\u001b[0;34m(self, key, axis)\u001b[0m\n\u001b[1;32m   1200\u001b[0m \u001b[38;5;66;03m# fall thru to straight lookup\u001b[39;00m\n\u001b[1;32m   1201\u001b[0m \u001b[38;5;28mself\u001b[39m\u001b[38;5;241m.\u001b[39m_validate_key(key, axis)\n\u001b[0;32m-> 1202\u001b[0m \u001b[38;5;28;01mreturn\u001b[39;00m \u001b[38;5;28;43mself\u001b[39;49m\u001b[38;5;241;43m.\u001b[39;49m\u001b[43m_get_label\u001b[49m\u001b[43m(\u001b[49m\u001b[43mkey\u001b[49m\u001b[43m,\u001b[49m\u001b[43m \u001b[49m\u001b[43maxis\u001b[49m\u001b[38;5;241;43m=\u001b[39;49m\u001b[43maxis\u001b[49m\u001b[43m)\u001b[49m\n",
      "File \u001b[0;32m~/.miniforge3/envs/clone_test_pycaret/lib/python3.8/site-packages/pandas/core/indexing.py:1153\u001b[0m, in \u001b[0;36m_LocIndexer._get_label\u001b[0;34m(self, label, axis)\u001b[0m\n\u001b[1;32m   1151\u001b[0m \u001b[38;5;28;01mdef\u001b[39;00m \u001b[38;5;21m_get_label\u001b[39m(\u001b[38;5;28mself\u001b[39m, label, axis: \u001b[38;5;28mint\u001b[39m):\n\u001b[1;32m   1152\u001b[0m     \u001b[38;5;66;03m# GH#5667 this will fail if the label is not present in the axis.\u001b[39;00m\n\u001b[0;32m-> 1153\u001b[0m     \u001b[38;5;28;01mreturn\u001b[39;00m \u001b[38;5;28;43mself\u001b[39;49m\u001b[38;5;241;43m.\u001b[39;49m\u001b[43mobj\u001b[49m\u001b[38;5;241;43m.\u001b[39;49m\u001b[43mxs\u001b[49m\u001b[43m(\u001b[49m\u001b[43mlabel\u001b[49m\u001b[43m,\u001b[49m\u001b[43m \u001b[49m\u001b[43maxis\u001b[49m\u001b[38;5;241;43m=\u001b[39;49m\u001b[43maxis\u001b[49m\u001b[43m)\u001b[49m\n",
      "File \u001b[0;32m~/.miniforge3/envs/clone_test_pycaret/lib/python3.8/site-packages/pandas/core/generic.py:3849\u001b[0m, in \u001b[0;36mNDFrame.xs\u001b[0;34m(self, key, axis, level, drop_level)\u001b[0m\n\u001b[1;32m   3847\u001b[0m \u001b[38;5;28;01mif\u001b[39;00m axis \u001b[38;5;241m==\u001b[39m \u001b[38;5;241m1\u001b[39m:\n\u001b[1;32m   3848\u001b[0m     \u001b[38;5;28;01mif\u001b[39;00m drop_level:\n\u001b[0;32m-> 3849\u001b[0m         \u001b[38;5;28;01mreturn\u001b[39;00m \u001b[38;5;28;43mself\u001b[39;49m\u001b[43m[\u001b[49m\u001b[43mkey\u001b[49m\u001b[43m]\u001b[49m\n\u001b[1;32m   3850\u001b[0m     index \u001b[38;5;241m=\u001b[39m \u001b[38;5;28mself\u001b[39m\u001b[38;5;241m.\u001b[39mcolumns\n\u001b[1;32m   3851\u001b[0m \u001b[38;5;28;01melse\u001b[39;00m:\n",
      "File \u001b[0;32m~/.miniforge3/envs/clone_test_pycaret/lib/python3.8/site-packages/pandas/core/frame.py:3505\u001b[0m, in \u001b[0;36mDataFrame.__getitem__\u001b[0;34m(self, key)\u001b[0m\n\u001b[1;32m   3503\u001b[0m \u001b[38;5;28;01mif\u001b[39;00m \u001b[38;5;28mself\u001b[39m\u001b[38;5;241m.\u001b[39mcolumns\u001b[38;5;241m.\u001b[39mnlevels \u001b[38;5;241m>\u001b[39m \u001b[38;5;241m1\u001b[39m:\n\u001b[1;32m   3504\u001b[0m     \u001b[38;5;28;01mreturn\u001b[39;00m \u001b[38;5;28mself\u001b[39m\u001b[38;5;241m.\u001b[39m_getitem_multilevel(key)\n\u001b[0;32m-> 3505\u001b[0m indexer \u001b[38;5;241m=\u001b[39m \u001b[38;5;28;43mself\u001b[39;49m\u001b[38;5;241;43m.\u001b[39;49m\u001b[43mcolumns\u001b[49m\u001b[38;5;241;43m.\u001b[39;49m\u001b[43mget_loc\u001b[49m\u001b[43m(\u001b[49m\u001b[43mkey\u001b[49m\u001b[43m)\u001b[49m\n\u001b[1;32m   3506\u001b[0m \u001b[38;5;28;01mif\u001b[39;00m is_integer(indexer):\n\u001b[1;32m   3507\u001b[0m     indexer \u001b[38;5;241m=\u001b[39m [indexer]\n",
      "File \u001b[0;32m~/.miniforge3/envs/clone_test_pycaret/lib/python3.8/site-packages/pandas/core/indexes/base.py:3623\u001b[0m, in \u001b[0;36mIndex.get_loc\u001b[0;34m(self, key, method, tolerance)\u001b[0m\n\u001b[1;32m   3621\u001b[0m     \u001b[38;5;28;01mreturn\u001b[39;00m \u001b[38;5;28mself\u001b[39m\u001b[38;5;241m.\u001b[39m_engine\u001b[38;5;241m.\u001b[39mget_loc(casted_key)\n\u001b[1;32m   3622\u001b[0m \u001b[38;5;28;01mexcept\u001b[39;00m \u001b[38;5;167;01mKeyError\u001b[39;00m \u001b[38;5;28;01mas\u001b[39;00m err:\n\u001b[0;32m-> 3623\u001b[0m     \u001b[38;5;28;01mraise\u001b[39;00m \u001b[38;5;167;01mKeyError\u001b[39;00m(key) \u001b[38;5;28;01mfrom\u001b[39;00m \u001b[38;5;21;01merr\u001b[39;00m\n\u001b[1;32m   3624\u001b[0m \u001b[38;5;28;01mexcept\u001b[39;00m \u001b[38;5;167;01mTypeError\u001b[39;00m:\n\u001b[1;32m   3625\u001b[0m     \u001b[38;5;66;03m# If we have a listlike key, _check_indexing_error will raise\u001b[39;00m\n\u001b[1;32m   3626\u001b[0m     \u001b[38;5;66;03m#  InvalidIndexError. Otherwise we fall through and re-raise\u001b[39;00m\n\u001b[1;32m   3627\u001b[0m     \u001b[38;5;66;03m#  the TypeError.\u001b[39;00m\n\u001b[1;32m   3628\u001b[0m     \u001b[38;5;28mself\u001b[39m\u001b[38;5;241m.\u001b[39m_check_indexing_error(key)\n",
      "\u001b[0;31mKeyError\u001b[0m: 'pred_prob_class'"
     ]
    }
   ],
   "source": [
    "HETDEX_pAGN_filter      = np.array(full_catalog_HETDEX_df.loc[:, 'pred_prob_class'] == 1)\n",
    "S82_pAGN_filter         = np.array(full_catalog_S82_df.loc[:, 'pred_prob_class'] == 1)\n",
    "HETDEX_pgal_filter      = np.array(full_catalog_HETDEX_df.loc[:, 'pred_prob_class'] == 0)\n",
    "S82_pgal_filter         = np.array(full_catalog_S82_df.loc[:, 'pred_prob_class'] == 0)"
   ]
  },
  {
   "cell_type": "code",
   "execution_count": null,
   "id": "6540527a",
   "metadata": {
    "jupyter": {
     "source_hidden": true
    }
   },
   "outputs": [],
   "source": [
    "HETDEX_pradio_filter    = np.array(full_catalog_HETDEX_df.loc[:, 'pred_prob_radio'] == 1)\n",
    "S82_pradio_filter       = np.array(full_catalog_S82_df.loc[:, 'pred_prob_radio'] == 1)\n",
    "HETDEX_pnoradio_filter  = np.array(full_catalog_HETDEX_df.loc[:, 'pred_prob_radio'] == 0)\n",
    "S82_pnoradio_filter     = np.array(full_catalog_S82_df.loc[:, 'pred_prob_radio'] == 0)"
   ]
  },
  {
   "cell_type": "code",
   "execution_count": null,
   "id": "096d72f0",
   "metadata": {
    "jupyter": {
     "source_hidden": true
    }
   },
   "outputs": [],
   "source": [
    "HETDEX_known_filter     = np.array(full_catalog_HETDEX_df.loc[:, 'class'] == 0) |\\\n",
    "                            np.array(full_catalog_HETDEX_df.loc[:, 'class'] == 1)\n",
    "S82_known_filter        = np.array(full_catalog_S82_df.loc[:, 'class'] == 0)    |\\\n",
    "                            np.array(full_catalog_S82_df.loc[:, 'class'] == 1)"
   ]
  },
  {
   "cell_type": "code",
   "execution_count": null,
   "id": "cdd9c13e",
   "metadata": {
    "jupyter": {
     "source_hidden": true
    }
   },
   "outputs": [],
   "source": [
    "HETDEX_true_rAGN_filter = np.array(full_catalog_HETDEX_df.loc[:, 'class'] == 1) &\\\n",
    "                            np.array(full_catalog_HETDEX_df.loc[:, 'LOFAR_detect'] == 1)\n",
    "S82_true_rAGN_filter    = np.array(full_catalog_S82_df.loc[:, 'class'] == 1)    &\\\n",
    "                            np.array(full_catalog_S82_df.loc[:, 'LOFAR_detect'] == 1)"
   ]
  },
  {
   "cell_type": "code",
   "execution_count": null,
   "id": "67b85eca",
   "metadata": {
    "jupyter": {
     "source_hidden": true
    }
   },
   "outputs": [],
   "source": [
    "HETDEX_pred_rAGN_filter = np.array(full_catalog_HETDEX_df.loc[:, 'pred_prob_class'] == 1) &\\\n",
    "                            np.array(full_catalog_HETDEX_df.loc[:, 'pred_prob_radio'] == 1)\n",
    "S82_pred_rAGN_filter    = np.array(full_catalog_S82_df.loc[:, 'pred_prob_class'] == 1)    &\\\n",
    "                            np.array(full_catalog_S82_df.loc[:, 'pred_prob_radio'] == 1)"
   ]
  },
  {
   "cell_type": "code",
   "execution_count": null,
   "id": "3858b6c6",
   "metadata": {
    "jupyter": {
     "source_hidden": true
    }
   },
   "outputs": [],
   "source": [
    "HETDEX_pred_AGN_norad_filter = np.array(full_catalog_HETDEX_df.loc[:, 'pred_prob_class'] == 1) &\\\n",
    "                                np.array(full_catalog_HETDEX_df.loc[:, 'pred_prob_radio'] == 0)\n",
    "S82_pred_AGN_norad_filter    = np.array(full_catalog_S82_df.loc[:, 'pred_prob_class'] == 1)    &\\\n",
    "                                np.array(full_catalog_S82_df.loc[:, 'pred_prob_radio'] == 0)"
   ]
  },
  {
   "cell_type": "code",
   "execution_count": null,
   "id": "df60ae67",
   "metadata": {
    "jupyter": {
     "source_hidden": true
    }
   },
   "outputs": [],
   "source": [
    "if HETDEX_subset == 'unknown':\n",
    "    full_catalog_HETDEX_df = full_catalog_HETDEX_df.loc[~HETDEX_known_filter]\n",
    "elif HETDEX_subset == 'known':\n",
    "    full_catalog_HETDEX_df = full_catalog_HETDEX_df.loc[HETDEX_known_filter]\n",
    "elif HETDEX_subset == 'training':\n",
    "    full_catalog_HETDEX_df = full_catalog_HETDEX_df.loc[HETDEX_known_filter]\n",
    "    _, full_catalog_HETDEX_df, _, _, _ = gf.split_set(full_catalog_HETDEX_df, [0.2, 0.2, 0.5],\\\n",
    "                                                                               'is_AGN', use_calibration=True)\n",
    "elif HETDEX_subset == 'test':\n",
    "    full_catalog_HETDEX_df = full_catalog_HETDEX_df.loc[HETDEX_known_filter]\n",
    "    _, _, full_catalog_HETDEX_df, _, _ = gf.split_set(full_catalog_HETDEX_df, [0.2, 0.2, 0.5],\\\n",
    "                                                                               'is_AGN', use_calibration=True)\n",
    "elif HETDEX_subset == 'train_test':\n",
    "    full_catalog_HETDEX_df = full_catalog_HETDEX_df.loc[HETDEX_known_filter]\n",
    "    full_catalog_HETDEX_df, _, _, _, _ = gf.split_set(full_catalog_HETDEX_df, [0.2, 0.2, 0.5],\\\n",
    "                                                                               'is_AGN', use_calibration=True)\n",
    "elif HETDEX_subset == 'calibration':\n",
    "    full_catalog_HETDEX_df = full_catalog_HETDEX_df.loc[HETDEX_known_filter]\n",
    "    _, _, _, full_catalog_HETDEX_df, _ = gf.split_set(full_catalog_HETDEX_df, [0.2, 0.2, 0.5],\\\n",
    "                                                                               'is_AGN', use_calibration=True)\n",
    "elif HETDEX_subset == 'validation':\n",
    "    full_catalog_HETDEX_df = full_catalog_HETDEX_df.loc[HETDEX_known_filter]\n",
    "    _, _, _, _, full_catalog_HETDEX_df = gf.split_set(full_catalog_HETDEX_df, [0.2, 0.2, 0.5],\\\n",
    "                                                                               'is_AGN', use_calibration=True)\n",
    "else:\n",
    "    pass"
   ]
  },
  {
   "cell_type": "code",
   "execution_count": null,
   "id": "7e1d7ab2",
   "metadata": {
    "jupyter": {
     "source_hidden": true
    }
   },
   "outputs": [],
   "source": [
    "if S82_subset == 'unknown':\n",
    "    full_catalog_S82_df = full_catalog_S82_df.loc[~S82_known_filter]\n",
    "elif S82_subset == 'known':\n",
    "    full_catalog_S82_df = full_catalog_S82_df.loc[S82_known_filter]\n",
    "else:\n",
    "    pass"
   ]
  },
  {
   "cell_type": "code",
   "execution_count": null,
   "id": "df4fb2d6",
   "metadata": {
    "jupyter": {
     "source_hidden": true
    }
   },
   "outputs": [],
   "source": [
    "print('Shape of used data in HETDEX')\n",
    "print('-' * 40)\n",
    "print(f'Selected sub-set is: {HETDEX_subset}')\n",
    "print(f'Its shape is:        {full_catalog_HETDEX_df.shape}')\n",
    "print('-' * 40)\n",
    "print()"
   ]
  },
  {
   "cell_type": "code",
   "execution_count": null,
   "id": "35a413b1",
   "metadata": {
    "jupyter": {
     "source_hidden": true
    }
   },
   "outputs": [],
   "source": [
    "print('Shape of used data in Stripe 82')\n",
    "print('-' * 40)\n",
    "print(f'Selected sub-set is: {S82_subset}')\n",
    "print(f'Its shape is:        {full_catalog_S82_df.shape}')\n",
    "print('-' * 40)\n",
    "print()"
   ]
  },
  {
   "cell_type": "markdown",
   "id": "adb29ebc",
   "metadata": {},
   "source": [
    "---"
   ]
  },
  {
   "cell_type": "markdown",
   "id": "1bbaf021",
   "metadata": {},
   "source": [
    "## Description plots"
   ]
  },
  {
   "cell_type": "code",
   "execution_count": null,
   "id": "5f66a909",
   "metadata": {
    "jupyter": {
     "source_hidden": true
    }
   },
   "outputs": [],
   "source": [
    "bands_plot = ['gmag', 'rmag', 'imag', 'zmag', 'ymag', 'Jmag',\n",
    "              'Hmag', 'Kmag', 'W1mproPM', 'W2mproPM', 'W3mag', 'W4mag']"
   ]
  },
  {
   "cell_type": "code",
   "execution_count": null,
   "id": "c55fe34f",
   "metadata": {
    "jupyter": {
     "source_hidden": true
    }
   },
   "outputs": [],
   "source": [
    "mag_cols_lim = {'W1mproPM': 20.13, 'W2mproPM': 19.81, 'Sint_LOFAR': 17.52, 'Total_flux_VLASS': 15.21,\\\n",
    "                    'TotalFlux_LoLSS': 12.91, 'Stotal_TGSS': 11.18, 'Fint_VLAS82': 17.86,\\\n",
    "                    'Flux_COSMOSVLA3': 21.25, 'W1mag': 19.6, 'W2mag': 19.34, 'W3mag': 16.67,\\\n",
    "                    'W4mag': 14.62, 'gmag': 23.3, 'rmag': 23.2, 'imag': 23.1, 'zmag': 22.3,\\\n",
    "                    'ymag': 21.4, 'FUVmag': 20.0, 'NUVmag': 21.0, 'FEP': 57.9, 'Jmag': 17.45,\\\n",
    "                    'Hmag': 17.24, 'Kmag': 16.59}  # Proper (5-sigma) limits\n",
    "\n",
    "for key in mag_cols_lim:\n",
    "    mag_cols_lim[key] = np.float32(mag_cols_lim[key])"
   ]
  },
  {
   "cell_type": "code",
   "execution_count": null,
   "id": "375ef2e7",
   "metadata": {
    "jupyter": {
     "source_hidden": true
    }
   },
   "outputs": [],
   "source": [
    "mag_cols_names   = {'W1mproPM': 'W1', 'W2mproPM': 'W2', 'Sint_LOFAR': 'LOFAR', 'Total_flux_VLASS': 'VLASS', \n",
    "                  'TotalFlux_LoLSS': 'LoLSS', 'Stotal_TGSS': 'TGSS', 'W1mag': 'W1 (AW)', \n",
    "                  'W2mag': 'W2 (AW)', 'W3mag': 'W3', 'W4mag': 'W4', 'gmag': 'g', 'rmag': 'r', \n",
    "                  'imag': 'i', 'zmag': 'z', 'ymag': 'y', 'FUVmag': 'FUV', 'NUVmag': 'NUV', \n",
    "                  'FEP': 'XMM', 'Jmag': 'J', 'Hmag': 'H', 'Kmag': 'K'}"
   ]
  },
  {
   "cell_type": "code",
   "execution_count": null,
   "id": "9011fa16",
   "metadata": {
    "jupyter": {
     "source_hidden": true
    }
   },
   "outputs": [],
   "source": [
    "fig             = plt.figure(figsize=(9,3.5))\n",
    "ax1             = fig.add_subplot(111, xscale='linear', yscale='log')\n",
    "\n",
    "min_z_HETDEX_pred = full_catalog_HETDEX_df.loc[HETDEX_pred_rAGN_filter * ~HETDEX_known_filter, 'pred_Z'].min()\n",
    "max_z_HETDEX_pred = full_catalog_HETDEX_df.loc[HETDEX_pred_rAGN_filter * ~HETDEX_known_filter, 'pred_Z'].max()\n",
    "min_z_HETDEX_true = full_catalog_HETDEX_df.loc[HETDEX_true_rAGN_filter * HETDEX_known_filter, 'Z'].min()\n",
    "max_z_HETDEX_true = full_catalog_HETDEX_df.loc[HETDEX_true_rAGN_filter * HETDEX_known_filter, 'Z'].max()\n",
    "min_z_S82_pred    = full_catalog_S82_df.loc[S82_pred_rAGN_filter * ~S82_known_filter, 'pred_Z'].min()\n",
    "max_z_S82_pred    = full_catalog_S82_df.loc[S82_pred_rAGN_filter * ~S82_known_filter, 'pred_Z'].max()\n",
    "min_z_S82_true    = full_catalog_S82_df.loc[S82_true_rAGN_filter * S82_known_filter, 'Z'].min()\n",
    "max_z_S82_true    = full_catalog_S82_df.loc[S82_true_rAGN_filter * S82_known_filter, 'Z'].max()\n",
    "full_z_bins       = np.linspace(np.nanmin([min_z_HETDEX_pred, min_z_HETDEX_true, min_z_S82_pred, min_z_S82_true]),\\\n",
    "                                np.nanmax([max_z_HETDEX_pred, max_z_HETDEX_true, max_z_S82_pred, max_z_S82_true]), 50)\n",
    "\n",
    "counts_HETDEX_pred, edges_HETDEX_pred = np.histogram(full_catalog_HETDEX_df.loc[HETDEX_pred_rAGN_filter * ~HETDEX_known_filter, 'pred_Z'], bins=full_z_bins)\n",
    "counts_S82_pred,    edges_S82_pred    = np.histogram(full_catalog_S82_df.loc[S82_pred_rAGN_filter * ~S82_known_filter, 'pred_Z'], bins=full_z_bins)\n",
    "counts_HETDEX_true, edges_HETDEX_true = np.histogram(full_catalog_HETDEX_df.loc[HETDEX_true_rAGN_filter * HETDEX_known_filter, 'Z'], bins=full_z_bins)\n",
    "counts_S82_true,    edges_S82_true    = np.histogram(full_catalog_S82_df.loc[S82_true_rAGN_filter * S82_known_filter, 'Z'], bins=full_z_bins)\n",
    "\n",
    "ax1.stairs(counts_HETDEX_pred / gv.area_HETDEX, edges_HETDEX_pred, fill=True, ec='k', lw=3.5,\\\n",
    "           fc=plt.get_cmap('cet_bmy',3)(0.0), label='HETDEX', alpha=0.65)\n",
    "ax1.stairs(counts_S82_pred / gv.area_S82, edges_S82_pred, fill=True, ec='k', lw=3.5,\\\n",
    "           fc=plt.get_cmap('cet_bmy',3)(0.5), label='S82', alpha=0.65)\n",
    "ax1.stairs(counts_HETDEX_true / gv.area_HETDEX, edges_HETDEX_true, fill=True, ec='k', lw=3.5,\\\n",
    "           fc=plt.get_cmap('cet_bmy',3)(0.0), label='HETDEX', hatch='//', alpha=0.65)\n",
    "ax1.stairs(counts_S82_true / gv.area_S82, edges_S82_true, fill=True, ec='k', lw=3.5,\\\n",
    "           fc=plt.get_cmap('cet_bmy',3)(0.5), label='S82', hatch='//', alpha=0.65)\n",
    "\n",
    "\n",
    "HETDEX_patch       = mpatches.Patch(fc=plt.get_cmap('cet_bmy',3)(0.0), ec='k', label='HETDEX', lw=2.0, alpha=0.65)\n",
    "S82_patch          = mpatches.Patch(fc=plt.get_cmap('cet_bmy',3)(0.5), ec='k', label='S82', lw=2.0, alpha=0.65)\n",
    "pred_patch         = mpatches.Patch(fc='None', ec='k', label='Predicted', lw=2.0)\n",
    "true_patch         = mpatches.Patch(fc='None', ec='k', label='True', hatch='///', lw=2.0)\n",
    "ax1.legend(handles=[HETDEX_patch, S82_patch, pred_patch, true_patch], loc=1, fontsize=16, ncol=1,\n",
    "              handletextpad=0.3, handlelength=1.0, columnspacing=0.5)\n",
    "\n",
    "ax1.tick_params(which='both', top=True, right=True, direction='in')\n",
    "ax1.tick_params(axis='both', which='major', labelsize=14)\n",
    "ax1.tick_params(which='major', length=8, width=1.5)\n",
    "ax1.tick_params(which='minor', length=4, width=1.5)\n",
    "# ax1.set_xlabel('$m_{\\mathrm{W1}}\\, \\mathrm{[AB]}$', size=20)\n",
    "ax1.set_xlabel('Redshift', size=20)\n",
    "ax1.set_ylabel('Normalised\\nfrequency [$\\mathrm{deg}^{-2}$]', size=20)\n",
    "plt.setp(ax1.spines.values(), linewidth=3.5)\n",
    "plt.setp(ax1.spines.values(), linewidth=3.5)\n",
    "# plt.legend(loc=1, fontsize=14)\n",
    "# ax1.set_xlim(left=2.8, right=20.2)\n",
    "#ax1.set_aspect('equal', 'box')\n",
    "fig.tight_layout()\n",
    "if save_plot_flag:\n",
    "    plt.savefig(gv.plots_path + f'hist_pred_true_z_HETDEX_{HETDEX_subset}_S82{imp_string}.pdf', bbox_inches='tight')\n",
    "plt.show()"
   ]
  },
  {
   "cell_type": "markdown",
   "id": "afc17082",
   "metadata": {},
   "source": [
    "Repeat previous plot (colour-colour) but with highly-relevant features from models."
   ]
  },
  {
   "cell_type": "code",
   "execution_count": null,
   "id": "066d5f0b",
   "metadata": {},
   "outputs": [],
   "source": [
    "mag_cols_names   = {'W1': 'W1mproPM', 'W2': 'W2mproPM', 'W3': 'W3mag', 'W4': 'W4mag',\n",
    "                    'g': 'gmag', 'r': 'rmag', 'i': 'imag', 'z': 'zmag', 'y': 'ymag',\n",
    "                    'J': 'Jmag', 'H': 'Hmag', 'K': 'Kmag'}"
   ]
  },
  {
   "cell_type": "code",
   "execution_count": null,
   "id": "250b008a",
   "metadata": {},
   "outputs": [],
   "source": [
    "colours_list   = ['W1_W2', 'r_z', 'g_r', 'W1_W3', 'y_W2', 'g_J', 'r_i', 'r_W1', \n",
    "                  'i_y', 'z_y', 'i_z', 'y_J', 'K_W3', 'H_K', 'J_H', 'W2_W3', 'z_W1', \n",
    "                  'y_W1', 'K_W4', 'g_W1']"
   ]
  },
  {
   "cell_type": "code",
   "execution_count": null,
   "id": "805c1542",
   "metadata": {},
   "outputs": [],
   "source": [
    "# cols_pairplot = ['band_num', 'W4mag', 'Kmag', 'g_r', 'g_i', 'g_J', \n",
    "#                  'r_i', 'r_z',  'r_J', 'r_W1', 'i_z', 'i_y', \n",
    "#                  'z_y', 'z_W1', 'y_J', 'y_W1', 'y_W2',  'J_H', \n",
    "#                  'K_W3', 'K_W4', 'H_K', 'H_W3', 'W1_W2', 'W1_W3', \n",
    "#                 'W2_W3', 'W3_W4', 'pred_Z']  # All features used in three models plus predicted redshift\n",
    "\n",
    "cols_AGN   = ['g_r', 'r_i', 'r_J', 'i_z', 'i_y', \n",
    "              'z_y', 'z_W2', 'y_J', 'y_W1', 'y_W2', 'J_H', 'H_K',  \n",
    "              'H_W3', 'W1_W2', 'W1_W3', 'W3_W4']  #  Only colours (no 'band_num', 'W4mag')\n",
    "cols_radio = ['g_r', 'g_i', 'r_i', 'r_z', 'i_z',  \n",
    "              'z_y', 'z_W1', 'y_J', 'y_W1', 'J_H', 'H_K', 'K_W3',  \n",
    "              'K_W4', 'W1_W2', 'W2_W3']  # Only colours (no 'band_num', 'W4mag')\n",
    "cols_z     = ['g_r', 'g_W3', 'r_i', 'r_z', 'i_z', \n",
    "              'i_y', 'z_y', 'y_J', 'y_W1', 'J_H', 'H_K', 'K_W3', \n",
    "              'K_W4', 'W1_W2', 'W2_W3']  # Only colours (no 'band_num', 'W4mag')\n",
    "\n",
    "colours_list  = list(np.unique(cols_AGN + cols_radio + cols_z))\n",
    "    \n",
    "cols_pairplot = ['band_num', 'W4mag'] + colours_list  # All features used in three models plus predicted redshift"
   ]
  },
  {
   "cell_type": "markdown",
   "id": "4b138a87",
   "metadata": {},
   "source": [
    "Create colours"
   ]
  },
  {
   "cell_type": "code",
   "execution_count": null,
   "id": "90b7b196",
   "metadata": {},
   "outputs": [],
   "source": [
    "for colour in colours_list:\n",
    "    full_catalog_HETDEX_df[colour] = full_catalog_HETDEX_df.loc[:, mag_cols_names[colour.split('_')[0]]] -\\\n",
    "    full_catalog_HETDEX_df.loc[:, mag_cols_names[colour.split('_')[1]]]\n",
    "    full_catalog_S82_df[colour] = full_catalog_S82_df.loc[:, mag_cols_names[colour.split('_')[0]]] -\\\n",
    "    full_catalog_S82_df.loc[:, mag_cols_names[colour.split('_')[1]]]"
   ]
  },
  {
   "cell_type": "markdown",
   "id": "1402b452",
   "metadata": {},
   "source": [
    "Plot histograms (distributions) from all features separated by target (classification)"
   ]
  },
  {
   "cell_type": "markdown",
   "id": "24fdc8a5",
   "metadata": {},
   "source": [
    "Histograms are normalised and log-scaled (in the Y axis)."
   ]
  },
  {
   "cell_type": "markdown",
   "id": "05fdbff8",
   "metadata": {},
   "source": [
    "Stripe 82 - Predicted AGN/Galaxy."
   ]
  },
  {
   "cell_type": "code",
   "execution_count": null,
   "id": "85a28a1a",
   "metadata": {
    "jupyter": {
     "source_hidden": true
    }
   },
   "outputs": [],
   "source": [
    "fig = ChainConsumer()\\\n",
    "        .add_chain(full_catalog_S82_df.loc[S82_pAGN_filter, cols_pairplot], name='Stripe 82 predicted AGN')\\\n",
    "        .add_chain(full_catalog_S82_df.loc[S82_pgal_filter, cols_pairplot], name='Stripe 82 predicted Galaxies')\\\n",
    "        .configure(shade=False, colors=[mcolors.to_hex(plt.get_cmap('cet_CET_D2')(0.0)), mcolors.to_hex(plt.get_cmap('cet_CET_D2')(1.0))])\\\n",
    "        .plotter.plot_distributions(col_wrap=5, log_scales=False, display=False)  # Green AGN\n",
    "for ax_fig in fig.axes:\n",
    "    ax_fig.set_yscale('log')\n",
    "    ax_fig.set_ylim(bottom=1e-5, top=1e1)\n",
    "    x_lims_tmp = ax_fig.get_xlim()\n",
    "    ax_fig.set_xlim(left=x_lims_tmp[0] * 0.75, right=x_lims_tmp[1] * 1.25)\n",
    "    ax_fig.set_yticks([])\n",
    "plt.show()"
   ]
  },
  {
   "cell_type": "markdown",
   "id": "3ebe3fa0",
   "metadata": {},
   "source": [
    "HETDEX - Predicted AGN/Galaxy."
   ]
  },
  {
   "cell_type": "code",
   "execution_count": null,
   "id": "e824e56f",
   "metadata": {
    "jupyter": {
     "source_hidden": true
    }
   },
   "outputs": [],
   "source": [
    "fig = ChainConsumer()\\\n",
    "        .add_chain(full_catalog_HETDEX_df.loc[HETDEX_pAGN_filter, cols_pairplot], name='HETDEX Predicted AGN')\\\n",
    "        .add_chain(full_catalog_HETDEX_df.loc[HETDEX_pgal_filter, cols_pairplot], name='HETDEX Predicted Galaxies')\\\n",
    "        .configure(shade=False, colors=[mcolors.to_hex(plt.get_cmap('cet_CET_D2')(0.0)), mcolors.to_hex(plt.get_cmap('cet_CET_D2')(1.0))])\\\n",
    "        .plotter.plot_distributions(col_wrap=5, log_scales=False, display=False)  # Green AGN\n",
    "for ax_fig in fig.axes:\n",
    "    ax_fig.set_yscale('log')\n",
    "    ax_fig.set_ylim(bottom=1e-5, top=1e1)\n",
    "    x_lims_tmp = ax_fig.get_xlim()\n",
    "    ax_fig.set_xlim(left=x_lims_tmp[0] * 0.75, right=x_lims_tmp[1] * 1.25)\n",
    "    ax_fig.set_yticks([])\n",
    "plt.show()"
   ]
  },
  {
   "cell_type": "markdown",
   "id": "0ad08be7",
   "metadata": {},
   "source": [
    "Stripe 82 - Predicted Radio detection."
   ]
  },
  {
   "cell_type": "code",
   "execution_count": null,
   "id": "343e56ff",
   "metadata": {
    "jupyter": {
     "source_hidden": true
    }
   },
   "outputs": [],
   "source": [
    "fig = ChainConsumer()\\\n",
    "        .add_chain(full_catalog_S82_df.loc[S82_pAGN_filter * S82_pradio_filter, cols_pairplot], name='Stripe 82 pred AGN pred radio')\\\n",
    "        .add_chain(full_catalog_S82_df.loc[S82_pAGN_filter * S82_pnoradio_filter, cols_pairplot], name='Stripe 82 pred AGN pred no-radio')\\\n",
    "        .configure(shade=False, colors=[mcolors.to_hex(plt.get_cmap('cet_CET_D2')(0.0)), mcolors.to_hex(plt.get_cmap('cet_CET_D2')(1.0))])\\\n",
    "        .plotter.plot_distributions(col_wrap=5, log_scales=False, display=False)  # Green Radio\n",
    "for ax_fig in fig.axes:\n",
    "    ax_fig.set_yscale('log')\n",
    "    ax_fig.set_ylim(bottom=1e-5, top=1e1)\n",
    "    x_lims_tmp = ax_fig.get_xlim()\n",
    "    ax_fig.set_xlim(left=x_lims_tmp[0] * 0.75, right=x_lims_tmp[1] * 1.25)\n",
    "    ax_fig.set_yticks([])\n",
    "plt.show()"
   ]
  },
  {
   "cell_type": "markdown",
   "id": "5212f4db",
   "metadata": {},
   "source": [
    "HETDEX - Predicted Radio detection."
   ]
  },
  {
   "cell_type": "code",
   "execution_count": null,
   "id": "56ce8bbb",
   "metadata": {
    "jupyter": {
     "source_hidden": true
    }
   },
   "outputs": [],
   "source": [
    "fig = ChainConsumer()\\\n",
    "        .add_chain(full_catalog_HETDEX_df.loc[HETDEX_pAGN_filter * HETDEX_pradio_filter, cols_pairplot], name='HETDEX pred AGN pred radio')\\\n",
    "        .add_chain(full_catalog_HETDEX_df.loc[HETDEX_pAGN_filter * HETDEX_pnoradio_filter, cols_pairplot], name='HETDEX pred AGN pred no-radio')\\\n",
    "        .configure(shade=False, colors=[mcolors.to_hex(plt.get_cmap('cet_CET_D2')(0.0)), mcolors.to_hex(plt.get_cmap('cet_CET_D2')(1.0))])\\\n",
    "        .plotter.plot_distributions(col_wrap=5, log_scales=False, display=False)  # Green Radio\n",
    "for ax_fig in fig.axes:\n",
    "    ax_fig.set_yscale('log')\n",
    "    ax_fig.set_ylim(bottom=1e-5, top=1e1)\n",
    "    x_lims_tmp = ax_fig.get_xlim()\n",
    "    ax_fig.set_xlim(left=x_lims_tmp[0] * 0.75, right=x_lims_tmp[1] * 1.25)\n",
    "    ax_fig.set_yticks([])\n",
    "plt.show()"
   ]
  },
  {
   "cell_type": "markdown",
   "id": "3e3f5f6c",
   "metadata": {},
   "source": [
    "Plot corner plots (contours and histograms) from all features separated by target (classification)"
   ]
  },
  {
   "cell_type": "markdown",
   "id": "38df8219",
   "metadata": {},
   "source": [
    "Stripe 82 - Predicted AGN/Galaxy."
   ]
  },
  {
   "cell_type": "code",
   "execution_count": null,
   "id": "1f4b7765",
   "metadata": {
    "jupyter": {
     "source_hidden": true
    }
   },
   "outputs": [],
   "source": [
    "# fig = ChainConsumer()\\\n",
    "#         .add_chain(full_catalog_S82_df.loc[S82_pAGN_filter, cols_pairplot], name='Stripe 82 predicted AGN')\\\n",
    "#         .add_chain(full_catalog_S82_df.loc[S82_pgal_filter, cols_pairplot], name='Stripe 82 predicted Galaxies')\\\n",
    "#         .configure(shade=False, colors=[mcolors.to_hex(plt.get_cmap('cet_CET_D2')(0.0)), mcolors.to_hex(plt.get_cmap('cet_CET_D2')(1.0))])\\\n",
    "#         .plotter.plot()  # Green AGN"
   ]
  },
  {
   "cell_type": "markdown",
   "id": "a817a0b7",
   "metadata": {},
   "source": [
    "HETDEX - Predicted AGN/Galaxy."
   ]
  },
  {
   "cell_type": "code",
   "execution_count": null,
   "id": "d821054d",
   "metadata": {
    "jupyter": {
     "source_hidden": true
    }
   },
   "outputs": [],
   "source": [
    "# fig = ChainConsumer()\\\n",
    "#         .add_chain(full_catalog_HETDEX_df.loc[HETDEX_pAGN_filter, cols_pairplot], name='HETDEX Predicted AGN')\\\n",
    "#         .add_chain(full_catalog_HETDEX_df.loc[HETDEX_pgal_filter, cols_pairplot], name='HETDEX Predicted Galaxies')\\\n",
    "#         .configure(shade=False, colors=[mcolors.to_hex(plt.get_cmap('cet_CET_D2')(0.0)), mcolors.to_hex(plt.get_cmap('cet_CET_D2')(1.0))])\\\n",
    "#         .plotter.plot()  # Green AGN"
   ]
  },
  {
   "cell_type": "markdown",
   "id": "acb782ce",
   "metadata": {},
   "source": [
    "Stripe 82 - Predicted Radio detection."
   ]
  },
  {
   "cell_type": "code",
   "execution_count": null,
   "id": "5e21971f",
   "metadata": {
    "jupyter": {
     "source_hidden": true
    }
   },
   "outputs": [],
   "source": [
    "# fig = ChainConsumer()\\\n",
    "#         .add_chain(full_catalog_S82_df.loc[S82_pAGN_filter * S82_pradio_filter, cols_pairplot], name='Stripe 82 pred AGN pred radio')\\\n",
    "#         .add_chain(full_catalog_S82_df.loc[S82_pAGN_filter * S82_pnoradio_filter, cols_pairplot], name='Stripe 82 pred AGN pred no-radio')\\\n",
    "#         .configure(shade=False, colors=[mcolors.to_hex(plt.get_cmap('cet_CET_D2')(0.0)), mcolors.to_hex(plt.get_cmap('cet_CET_D2')(1.0))])\\\n",
    "#         .plotter.plot()  # Green AGN"
   ]
  },
  {
   "cell_type": "markdown",
   "id": "4dd447b3",
   "metadata": {},
   "source": [
    "HETDEX - Predicted Radio detection."
   ]
  },
  {
   "cell_type": "code",
   "execution_count": null,
   "id": "aaea9f03",
   "metadata": {
    "jupyter": {
     "source_hidden": true
    }
   },
   "outputs": [],
   "source": [
    "# fig = ChainConsumer()\\\n",
    "#         .add_chain(full_catalog_HETDEX_df.loc[HETDEX_pAGN_filter * HETDEX_pradio_filter, cols_pairplot], name='HETDEX pred AGN pred radio')\\\n",
    "#         .add_chain(full_catalog_HETDEX_df.loc[HETDEX_pAGN_filter * HETDEX_pnoradio_filter, cols_pairplot], name='HETDEX pred AGN pred no-radio')\\\n",
    "#         .configure(shade=False, colors=[mcolors.to_hex(plt.get_cmap('cet_CET_D2')(0.0)), mcolors.to_hex(plt.get_cmap('cet_CET_D2')(1.0))])\\\n",
    "#         .plotter.plot()  # Green AGN"
   ]
  },
  {
   "cell_type": "code",
   "execution_count": null,
   "id": "b804363d",
   "metadata": {},
   "outputs": [],
   "source": []
  },
  {
   "cell_type": "code",
   "execution_count": null,
   "id": "905bc4ed",
   "metadata": {},
   "outputs": [],
   "source": []
  },
  {
   "cell_type": "code",
   "execution_count": null,
   "id": "7c597150",
   "metadata": {
    "jupyter": {
     "source_hidden": true
    }
   },
   "outputs": [],
   "source": [
    "fig             = plt.figure(figsize=(9,3.5))\n",
    "ax1             = fig.add_subplot(111, xscale='linear', yscale='log')\n",
    "\n",
    "min_W4_HETDEX_radio = full_catalog_HETDEX_df.loc[HETDEX_pred_rAGN_filter      * ~HETDEX_known_filter, 'W4mag'].min()\n",
    "max_W4_HETDEX_radio = full_catalog_HETDEX_df.loc[HETDEX_pred_rAGN_filter      * ~HETDEX_known_filter, 'W4mag'].max()\n",
    "min_W4_HETDEX_norad = full_catalog_HETDEX_df.loc[HETDEX_pred_AGN_norad_filter * ~HETDEX_known_filter, 'W4mag'].min()\n",
    "max_W4_HETDEX_norad = full_catalog_HETDEX_df.loc[HETDEX_pred_AGN_norad_filter * ~HETDEX_known_filter, 'W4mag'].max()\n",
    "min_W4_S82_radio    = full_catalog_S82_df.loc[S82_pred_rAGN_filter            * ~S82_known_filter, 'W4mag'].min()\n",
    "max_W4_S82_radio    = full_catalog_S82_df.loc[S82_pred_rAGN_filter            * ~S82_known_filter, 'W4mag'].max()\n",
    "min_W4_S82_norad    = full_catalog_S82_df.loc[S82_pred_AGN_norad_filter       * ~S82_known_filter, 'W4mag'].min()\n",
    "max_W4_S82_norad    = full_catalog_S82_df.loc[S82_pred_AGN_norad_filter       * ~S82_known_filter, 'W4mag'].max()\n",
    "full_W4_bins        = np.linspace(np.nanmin([min_W4_HETDEX_radio, min_W4_HETDEX_norad, min_W4_S82_radio, min_W4_S82_norad]),\\\n",
    "                                  np.nanmax([max_W4_HETDEX_radio, max_W4_HETDEX_norad, max_W4_S82_radio, max_W4_S82_norad]), 50)\n",
    "\n",
    "counts_HETDEX_radio, edges_HETDEX_radio = np.histogram(full_catalog_HETDEX_df.loc[HETDEX_pred_rAGN_filter * ~HETDEX_known_filter, 'W4mag'], bins=full_W4_bins)\n",
    "counts_S82_radio,    edges_S82_radio    = np.histogram(full_catalog_S82_df.loc[S82_pred_rAGN_filter * ~S82_known_filter, 'W4mag'], bins=full_W4_bins)\n",
    "counts_HETDEX_norad, edges_HETDEX_norad = np.histogram(full_catalog_HETDEX_df.loc[HETDEX_pred_AGN_norad_filter * ~HETDEX_known_filter, 'W4mag'], bins=full_W4_bins)\n",
    "counts_S82_norad,    edges_S82_norad    = np.histogram(full_catalog_S82_df.loc[S82_pred_AGN_norad_filter * ~S82_known_filter, 'W4mag'], bins=full_W4_bins)\n",
    "\n",
    "ax1.stairs(counts_HETDEX_radio / gv.area_HETDEX, edges_HETDEX_radio, fill=True, ec='k', lw=3.5,\\\n",
    "           fc=plt.get_cmap('cet_bmy',3)(0.0), label='HETDEX', alpha=0.65)\n",
    "ax1.stairs(counts_S82_radio / gv.area_S82, edges_S82_radio, fill=True, ec='k', lw=3.5,\\\n",
    "           fc=plt.get_cmap('cet_bmy',3)(0.5), label='S82', alpha=0.65)\n",
    "\n",
    "ax1.stairs(counts_S82_norad / gv.area_S82, edges_S82_norad, fill=True, ec='k', lw=3.5,\\\n",
    "           fc=plt.get_cmap('cet_bmy',3)(0.5), label='S82', hatch='//', alpha=0.55)\n",
    "ax1.stairs(counts_HETDEX_norad / gv.area_HETDEX, edges_HETDEX_norad, fill=True, ec='k', lw=3.5,\\\n",
    "           fc=plt.get_cmap('cet_bmy',3)(0.0), label='HETDEX', hatch='//', alpha=0.55)\n",
    "\n",
    "\n",
    "HETDEX_patch       = mpatches.Patch(fc=plt.get_cmap('cet_bmy',3)(0.0), ec='k', label='HETDEX', lw=2.0, alpha=0.65)\n",
    "S82_patch          = mpatches.Patch(fc=plt.get_cmap('cet_bmy',3)(0.5), ec='k', label='S82', lw=2.0, alpha=0.65)\n",
    "radio_patch        = mpatches.Patch(fc='None', ec='k', label='Pred AGN + Radio', lw=2.0)\n",
    "norad_patch        = mpatches.Patch(fc='None', ec='k', label='Pred AGN + No Radio', hatch='///', lw=2.0)\n",
    "ax1.legend(handles=[HETDEX_patch, S82_patch, radio_patch, norad_patch], loc=1, fontsize=16, ncol=1,\n",
    "              handletextpad=0.3, handlelength=1.0, columnspacing=0.5)\n",
    "ax1.invert_xaxis()\n",
    "ax1.tick_params(which='both', top=True, right=True, direction='in')\n",
    "ax1.tick_params(axis='both', which='major', labelsize=14)\n",
    "ax1.tick_params(which='major', length=8, width=1.5)\n",
    "ax1.tick_params(which='minor', length=4, width=1.5)\n",
    "# ax1.set_xlabel('$m_{\\mathrm{W1}}\\, \\mathrm{[AB]}$', size=20)\n",
    "ax1.set_xlabel('$\\mathrm{mag}_{\\mathrm{W4}}\\,[\\mathrm{AB}]$', size=20)\n",
    "ax1.set_ylabel('Normalised\\nfrequency [$\\mathrm{deg}^{-2}$]', size=20)\n",
    "plt.setp(ax1.spines.values(), linewidth=3.5)\n",
    "plt.setp(ax1.spines.values(), linewidth=3.5)\n",
    "# plt.legend(loc=1, fontsize=14)\n",
    "# ax1.set_xlim(left=2.8, right=20.2)\n",
    "#ax1.set_aspect('equal', 'box')\n",
    "fig.tight_layout()\n",
    "plt.savefig(gv.plots_path + f'hist_W4_radio_non_radio_HETDEX_{HETDEX_subset}_S82{imp_string}.pdf', bbox_inches='tight')\n",
    "if save_plot_flag:\n",
    "    plt.savefig(gv.plots_path + f'hist_W4_radio_non_radio_HETDEX_{HETDEX_subset}_S82{imp_string}.pdf', bbox_inches='tight')\n",
    "plt.show()"
   ]
  },
  {
   "cell_type": "code",
   "execution_count": null,
   "id": "bc09fc68",
   "metadata": {},
   "outputs": [],
   "source": []
  },
  {
   "cell_type": "code",
   "execution_count": null,
   "id": "65ddeb1a",
   "metadata": {},
   "outputs": [],
   "source": []
  },
  {
   "cell_type": "code",
   "execution_count": null,
   "id": "9271fa13",
   "metadata": {},
   "outputs": [],
   "source": []
  },
  {
   "cell_type": "code",
   "execution_count": null,
   "id": "9bd9e194",
   "metadata": {
    "jupyter": {
     "source_hidden": true
    }
   },
   "outputs": [],
   "source": [
    "fig_temp             = plt.figure(figsize=(7,5))\n",
    "ax1_temp             = fig_temp.add_subplot(111, xscale='linear', yscale='linear',  projection='scatter_density')\n",
    "\n",
    "if not use_imputed:\n",
    "    filt_plot_HETDEX = np.array(full_catalog_HETDEX_df.loc[:, 'rmag']     != mag_cols_lim['rmag']) &\\\n",
    "                       np.array(full_catalog_HETDEX_df.loc[:, 'zmag']     != mag_cols_lim['zmag']) &\\\n",
    "                       np.array(full_catalog_HETDEX_df.loc[:, 'W1mproPM'] != mag_cols_lim['W1mproPM']) &\\\n",
    "                       np.array(full_catalog_HETDEX_df.loc[:, 'W2mproPM'] != mag_cols_lim['W2mproPM'])\n",
    "    \n",
    "if use_imputed:\n",
    "    filt_plot_HETDEX = np.isfinite(full_catalog_HETDEX_df.loc[:, 'rmag'])     &\\\n",
    "                       np.isfinite(full_catalog_HETDEX_df.loc[:, 'zmag'])     &\\\n",
    "                       np.isfinite(full_catalog_HETDEX_df.loc[:, 'W1mproPM']) &\\\n",
    "                       np.isfinite(full_catalog_HETDEX_df.loc[:, 'W2mproPM'])\n",
    "\n",
    "filt_agn_HETDEX      = np.array(full_catalog_HETDEX_df.loc[:, 'class'] == 1)\n",
    "\n",
    "norm_dens_HETDEX_tmp = ImageNormalize(vmin=0, vmax=500, stretch=PowerStretch(0.35))\n",
    "\n",
    "if np.sum(filt_agn_HETDEX & filt_plot_HETDEX) > 0:\n",
    "    dens_agn_HETDEX  = ax1_temp.scatter_density((full_catalog_HETDEX_df.loc[filt_agn_HETDEX & filt_plot_HETDEX, 'rmag'] -\\\n",
    "                                                 full_catalog_HETDEX_df.loc[filt_agn_HETDEX & filt_plot_HETDEX, 'zmag']),\\\n",
    "                                                (full_catalog_HETDEX_df.loc[filt_agn_HETDEX & filt_plot_HETDEX, 'W1mproPM'] -\\\n",
    "                                                 full_catalog_HETDEX_df.loc[filt_agn_HETDEX & filt_plot_HETDEX, 'W2mproPM']),\\\n",
    "                                                 cmap=plt.get_cmap('cet_gray_r'), zorder=0, dpi=15, alpha=1.0, norm=norm_dens_HETDEX_tmp)"
   ]
  },
  {
   "cell_type": "code",
   "execution_count": null,
   "id": "a9974047",
   "metadata": {
    "jupyter": {
     "source_hidden": true
    }
   },
   "outputs": [],
   "source": [
    "fig_temp             = plt.figure(figsize=(7,5))\n",
    "ax1_temp             = fig_temp.add_subplot(111, xscale='linear', yscale='linear',  projection='scatter_density')\n",
    "\n",
    "if not use_imputed:\n",
    "    filt_plot_S82 = np.array(full_catalog_S82_df.loc[:, 'rmag']     != mag_cols_lim['rmag'])     &\\\n",
    "                    np.array(full_catalog_S82_df.loc[:, 'zmag']     != mag_cols_lim['zmag'])     &\\\n",
    "                    np.array(full_catalog_S82_df.loc[:, 'W1mproPM'] != mag_cols_lim['W1mproPM']) &\\\n",
    "                    np.array(full_catalog_S82_df.loc[:, 'W2mproPM'] != mag_cols_lim['W2mproPM'])\n",
    "if use_imputed:\n",
    "    filt_plot_S82 = np.isfinite(full_catalog_S82_df.loc[:, 'rmag']) &\\\n",
    "                    np.isfinite(full_catalog_S82_df.loc[:, 'zmag']) &\\\n",
    "                    np.isfinite(full_catalog_S82_df.loc[:, 'W1mproPM'])    &\\\n",
    "                    np.isfinite(full_catalog_S82_df.loc[:, 'W2mproPM'])\n",
    "filt_agn_S82  = np.array(full_catalog_S82_df.loc[:, 'class'] == 1)\n",
    "\n",
    "norm_dens_S82_tmp = ImageNormalize(vmin=0, vmax=55, stretch=PowerStretch(0.35))\n",
    "\n",
    "if np.sum(filt_agn_S82 & filt_plot_S82) > 0:\n",
    "    dens_agn_S82  = ax1_temp.scatter_density((full_catalog_S82_df.loc[filt_agn_S82 & filt_plot_S82, 'rmag'] -\\\n",
    "                                              full_catalog_S82_df.loc[filt_agn_S82 & filt_plot_S82, 'zmag']),\\\n",
    "                                             (full_catalog_S82_df.loc[filt_agn_S82 & filt_plot_S82, 'W1mproPM'] -\\\n",
    "                                              full_catalog_S82_df.loc[filt_agn_S82 & filt_plot_S82, 'W2mproPM']),\\\n",
    "                                              cmap=plt.get_cmap('cet_gray_r'), zorder=0, dpi=10, alpha=1.0, norm=norm_dens_S82_tmp)"
   ]
  },
  {
   "cell_type": "code",
   "execution_count": null,
   "id": "a96a18d2",
   "metadata": {},
   "outputs": [],
   "source": [
    "num_contour_levels_HETDEX = 10\n",
    "num_contour_levels_S82    = 8\n",
    "type_of_levels            = 'log'  # 'log', 'linear'"
   ]
  },
  {
   "cell_type": "code",
   "execution_count": null,
   "id": "ff13faf4",
   "metadata": {
    "jupyter": {
     "source_hidden": true
    }
   },
   "outputs": [],
   "source": [
    "print('For the following plot, HETDEX contour levels will be located at:')\n",
    "if type_of_levels  == 'linear':\n",
    "    tmp_levs_HETDEX = np.linspace(5, 10**(np.log10(np.nanmax(dens_agn_HETDEX.get_array()))), num_contour_levels_HETDEX)\n",
    "if type_of_levels  == 'log':\n",
    "    tmp_levs_HETDEX = np.logspace(np.log10(5), np.log10(np.nanmax(dens_agn_HETDEX.get_array())), num_contour_levels_HETDEX)\n",
    "tmp_levs_HETDEX = np.ceil(tmp_levs_HETDEX)\n",
    "tmp_levs_HETDEX[num_contour_levels_HETDEX - 1] -= tmp_levs_HETDEX[num_contour_levels_HETDEX - 1] %\\\n",
    "                                                10**np.floor(np.log10(tmp_levs_HETDEX[num_contour_levels_HETDEX - 1]))\n",
    "print(tmp_levs_HETDEX)"
   ]
  },
  {
   "cell_type": "code",
   "execution_count": null,
   "id": "138f6ce6",
   "metadata": {
    "jupyter": {
     "source_hidden": true
    }
   },
   "outputs": [],
   "source": [
    "print('For the following plot, S82 contour levels will be located at:')\n",
    "if type_of_levels  == 'linear':\n",
    "    tmp_levs_S82 = np.linspace(5, 10**(np.log10(np.nanmax(dens_agn_S82.get_array()))), num_contour_levels_S82)\n",
    "if type_of_levels  == 'log':\n",
    "    tmp_levs_S82 = np.logspace(np.log10(5), np.log10(np.nanmax(dens_agn_S82.get_array())), num_contour_levels_S82)\n",
    "tmp_levs_S82 = np.ceil(tmp_levs_S82)\n",
    "tmp_levs_S82[num_contour_levels_S82 - 1] -= tmp_levs_S82[num_contour_levels_S82 - 1] %\\\n",
    "                                            10**np.floor(np.log10(tmp_levs_S82[num_contour_levels_S82 - 1]))\n",
    "print(tmp_levs_S82)"
   ]
  },
  {
   "cell_type": "code",
   "execution_count": null,
   "id": "a871d312",
   "metadata": {},
   "outputs": [],
   "source": [
    "dens_clb_in = True  # Plot colorbar for density outside of inside axes."
   ]
  },
  {
   "cell_type": "code",
   "execution_count": null,
   "id": "4dafcf53",
   "metadata": {
    "jupyter": {
     "source_hidden": true
    }
   },
   "outputs": [],
   "source": [
    "if not dens_clb_in:\n",
    "    fig                = plt.figure(figsize=(9,6.5))\n",
    "if dens_clb_in:\n",
    "    fig                = plt.figure(figsize=(7.2,6.5))\n",
    "ax1                = fig.add_subplot(111, xscale='linear', yscale='linear', projection='scatter_density')\n",
    "\n",
    "num_levels_dens    = 20\n",
    "cmap_dens          = 'cet_gray_r'\n",
    "cmap_cont          = 'cet_CET_R3'\n",
    "cmap_agn           = 'cet_CET_C9'\n",
    "\n",
    "if np.sum(filt_agn_HETDEX & filt_plot_HETDEX) > 0:\n",
    "    if type_of_levels  == 'linear':\n",
    "        contour_levels_HETDEX = np.linspace(5, 10**(np.log10(np.nanmax(dens_agn_HETDEX.get_array()))),\\\n",
    "                                            num_contour_levels_HETDEX)\n",
    "    if type_of_levels  == 'log':\n",
    "        contour_levels_HETDEX = np.logspace(np.log10(5),  np.log10(np.nanmax(dens_agn_HETDEX.get_array())),\\\n",
    "                                            num_contour_levels_HETDEX)\n",
    "    contour_levels_HETDEX[num_contour_levels_HETDEX - 1] -= contour_levels_HETDEX[num_contour_levels_HETDEX - 1] %\\\n",
    "                                                    10**np.floor(np.log10(contour_levels_HETDEX[num_contour_levels_HETDEX - 1]))\n",
    "    contour_levels_HETDEX = np.unique(np.ceil(contour_levels_HETDEX))\n",
    "    \n",
    "AB_lims_x          = (-2.5, 6.1)\n",
    "AB_lims_y          = (-1.3, 1.7)\n",
    "\n",
    "\n",
    "norm_val  = mcolors.CenteredNorm(vcenter=0.5)\n",
    "norm_dens = ImageNormalize(vmin=0, vmax=2000, stretch=PowerStretch(0.35))\n",
    "\n",
    "if np.sum(filt_agn_HETDEX & filt_plot_HETDEX) > 0:\n",
    "    norm_cont      = ImageNormalize(vmin=contour_levels_HETDEX[0], vmax=contour_levels_HETDEX[-1], stretch=PowerStretch(0.35))\n",
    "\n",
    "filt_bands         = np.array(full_catalog_HETDEX_df.loc[:, 'rmag']     != mag_cols_lim['rmag'])     &\\\n",
    "                     np.array(full_catalog_HETDEX_df.loc[:, 'zmag']     != mag_cols_lim['zmag'])     &\\\n",
    "                     np.array(full_catalog_HETDEX_df.loc[:, 'W1mproPM'] != mag_cols_lim['W1mproPM']) &\\\n",
    "                     np.array(full_catalog_HETDEX_df.loc[:, 'W1mproPM'] != mag_cols_lim['W1mproPM'])\n",
    "\n",
    "filt_plot          = np.isfinite(full_catalog_HETDEX_df.loc[:, 'rmag']     - full_catalog_HETDEX_df.loc[:, 'zmag']) &\\\n",
    "                     np.isfinite(full_catalog_HETDEX_df.loc[:, 'W1mproPM'] - full_catalog_HETDEX_df.loc[:, 'W2mproPM'])\n",
    "\n",
    "dens_plot_data_x = (full_catalog_HETDEX_df.loc[filt_bands, 'rmag'] -\\\n",
    "                    full_catalog_HETDEX_df.loc[filt_bands, 'zmag'])[filt_plot]\n",
    "dens_plot_data_y = (full_catalog_HETDEX_df.loc[filt_bands, 'W1mproPM'] -\\\n",
    "                    full_catalog_HETDEX_df.loc[filt_bands, 'W2mproPM'])[filt_plot]\n",
    "\n",
    "dens_CW_HETDEX      = ax1.scatter_density(dens_plot_data_x, dens_plot_data_y,\n",
    "                             cmap=plt.get_cmap(cmap_dens, num_levels_dens),\n",
    "                             zorder=0, dpi=30, norm=norm_dens, alpha=1.0)\n",
    "n_sources_HETDEX = int(np.nansum(dens_agn_HETDEX.get_array()))\n",
    "n_sources_CW     = int(np.nansum(filt_bands[filt_plot]))\n",
    "\n",
    "if np.sum(filt_agn_HETDEX & filt_plot_HETDEX) > 0:\n",
    "    xx_agn = np.linspace(dens_agn_HETDEX.get_extent()[0],\\\n",
    "                         dens_agn_HETDEX.get_extent()[1],\\\n",
    "                         np.shape(dens_agn_HETDEX.get_array())[1])\n",
    "    yy_agn = np.linspace(dens_agn_HETDEX.get_extent()[2],\\\n",
    "                         dens_agn_HETDEX.get_extent()[3],\\\n",
    "                         np.shape(dens_agn_HETDEX.get_array())[0])\n",
    "\n",
    "    cont_HETDEX = ax1.contour(xx_agn, yy_agn, np.flipud(dens_agn_HETDEX.get_array()), levels=contour_levels_HETDEX,\\\n",
    "                         linewidths=4.0, cmap=plt.get_cmap(cmap_cont), linestyles='dashed', zorder=3, norm=norm_cont)\n",
    "    # ax1.annotate(text=f'N = {n_sources_HETDEX}', xy=(0.5, 0.96), xycoords='axes fraction',\\\n",
    "    #              fontsize=18, ha='center', va='top', path_effects=gf.pe2, zorder=11)\n",
    "    # fig = ChainConsumer()\\\n",
    "    #     .add_chain(full_catalog_HETDEX_df.loc[HETDEX_AGN_filter, ['r_z', 'W1_W2']], name='HETDEX AGN')\\\n",
    "    #     .add_chain(full_catalog_HETDEX_df.loc[HETDEX_gal_filter, ['r_z', 'W1_W2']], name='HETDEX Galaxies')\\\n",
    "    #     .configure(shade=False, colors=[mcolors.to_hex(plt.get_cmap('cet_CET_D2')(0.0)),\\\n",
    "    #                                     mcolors.to_hex(plt.get_cmap('cet_CET_D2')(1.0))], sigmas=[0, 1, 2, 3, 4], linewidths=3.5)\\\n",
    "    #     .plotter.plot_contour(ax=ax1, parameter_x='r_z', parameter_y='W1_W2')  # Green AGN\n",
    "\n",
    "ax1.plot([-3], [-3], marker='s', ls='None', c=plt.get_cmap(cmap_dens)(1.1),    label=f'CW          - N = {n_sources_CW:,}'.replace(',',' '), zorder=0)\n",
    "if np.sum(filt_agn_HETDEX & filt_plot_HETDEX) > 0:\n",
    "    ax1.plot([-3], [-3], marker=None, ls='--', c=plt.get_cmap(cmap_cont)(0.0), label=f'MQC AGN - N = {n_sources_HETDEX:,}'.replace(',',' '), zorder=0)\n",
    "\n",
    "if not dens_clb_in:\n",
    "    clb = plt.colorbar(dens_1, extend='neither', pad=0.15)\n",
    "    clb.formatter.set_powerlimits((0, 0))\n",
    "    clb.ax.tick_params(labelsize=14)\n",
    "    clb.ax.yaxis.get_offset_text().set_fontsize(14)\n",
    "    # clb.ax.yaxis.set_offset_position('right')\n",
    "    clb.ax.yaxis.get_offset_text().set_position((0,0))\n",
    "    clb.outline.set_linewidth(2.5)\n",
    "    clb.update_ticks()\n",
    "    clb.ax.set_ylabel('Elements per pixel', size=16, path_effects=pe2, labelpad=-2)\n",
    "    ax1.set_xlim(left=AB_lims_x[0], right=AB_lims_x[1])\n",
    "    ax1.set_ylim(bottom=AB_lims_y[0], top=AB_lims_y[1])\n",
    "    ax1.legend(loc=2, fontsize=14, ncol=3, columnspacing=.5, handletextpad=0.2, handlelength=0.8)\n",
    "\n",
    "# vega_shift     = {'W1mproPM': 2.699, 'W2mproPM': 3.339, 'W1mag': 2.699, 'W2mag': 3.339, 'W3mag': 5.174,\\\n",
    "#                   'W4mag': 6.620, 'Jmag': 0.910, 'Hmag': 1.390, 'Kmag': 1.850, 'gmag': 0.4810,\\\n",
    "#                     'rmag': 0.6170, 'imag': 0.7520, 'zmag': 0.8660, 'ymag': 0.9620}\n",
    "\n",
    "# Colorbar density\n",
    "if dens_clb_in:\n",
    "    axins0 = inset_axes(ax1, width='100%', height='100%', bbox_transform=ax1.transAxes,\\\n",
    "                        loc=1, bbox_to_anchor=(0.9, 0.15, 0.05, 0.80), borderpad=0)\n",
    "    \n",
    "    clb_dens    = fig.colorbar(dens_CW_HETDEX, cax=axins0, orientation='vertical',\\\n",
    "                     cmap=plt.get_cmap(cmap_dens, num_levels_dens), norm=norm_dens, extend='max')\n",
    "    axins0.yaxis.set_ticks_position('left')\n",
    "    clb_dens.ax.tick_params(labelsize=14)\n",
    "    clb_dens.outline.set_linewidth(2.5)\n",
    "    # clb_dens.ax.set_ylabel('Elements per pixel', size=12, path_effects=pe2)\n",
    "##\n",
    "\n",
    "# Colorbar contour\n",
    "axins1 = inset_axes(ax1, width='100%', height='100%', bbox_transform=ax1.transAxes,\\\n",
    "                    loc=3, bbox_to_anchor=(0.06, 0.07, 0.80, 0.05), borderpad=0)\n",
    "sm = plt.cm.ScalarMappable(norm=norm_cont, cmap=cont_HETDEX.cmap)\n",
    "sm.set_array([])\n",
    "clb_cont    = fig.colorbar(sm, cax=axins1, orientation='horizontal', ticks=cont_HETDEX.levels)\n",
    "axins1.xaxis.set_ticks_position('bottom')\n",
    "clb_cont.ax.tick_params(labelsize=14)\n",
    "clb_cont.outline.set_linewidth(2.5)\n",
    "##\n",
    "\n",
    "ax1.set_xlim(AB_lims_x)\n",
    "ax1.set_ylim(AB_lims_y)\n",
    "\n",
    "ax2 = ax1.twinx()\n",
    "ax2.set_ylim(tuple(np.array(ax1.get_ylim()) - 2.699 + 3.339))\n",
    "ax2.tick_params(which='both', top=False, right=True, direction='in')\n",
    "ax2.tick_params(which='both', bottom=False, left=False, direction='in')\n",
    "ax2.tick_params(axis='both', which='major', labelsize=16)\n",
    "ax2.tick_params(which='major', length=8, width=1.5)\n",
    "ax2.tick_params(which='minor', length=4, width=1.5)\n",
    "ax2.set_ylabel('$m_{\\mathrm{W1}} - m_{\\mathrm{W2}}\\, \\mathrm{[Vega]}$', size=20)\n",
    "\n",
    "ax3 = ax1.twiny()\n",
    "ax3.set_xlim(tuple(np.array(ax1.get_xlim()) - 0.617 + 0.866))\n",
    "ax3.tick_params(which='both', top=True, right=False, direction='in')\n",
    "ax3.tick_params(which='both', bottom=False, left=False, direction='in')\n",
    "ax3.tick_params(axis='both', which='major', labelsize=16)\n",
    "ax3.tick_params(which='major', length=8, width=1.5)\n",
    "ax3.tick_params(which='minor', length=4, width=1.5)\n",
    "ax3.set_xlabel('$m_{\\mathrm{r}} - m_{\\mathrm{z}}\\, \\mathrm{[Vega]}$', size=20)\n",
    "\n",
    "ax1.tick_params(which='both', top=False, right=False, direction='in')\n",
    "ax1.tick_params(axis='both', which='major', labelsize=16)\n",
    "ax1.tick_params(which='major', length=8, width=1.5)\n",
    "ax1.tick_params(which='minor', length=4, width=1.5)\n",
    "ax1.set_xlabel('$m_{\\mathrm{r}} - m_{\\mathrm{z}}\\, \\mathrm{[AB]}$', size=20)\n",
    "ax1.set_ylabel('$m_{\\mathrm{W1}} - m_{\\mathrm{W2}}\\, \\mathrm{[AB]}$', size=20)\n",
    "plt.setp(ax1.spines.values(), linewidth=3.5)\n",
    "plt.setp(ax1.spines.values(), linewidth=3.5)\n",
    "ax1.legend(loc=2, fontsize=14, ncol=1, columnspacing=.5, handletextpad=0.2, handlelength=0.8, framealpha=0.95)\n",
    "plt.tight_layout()\n",
    "if save_plot_flag:\n",
    "    plt.savefig(gv.plots_path + f'r_z_W1_W2_AGN_HETDEX_{HETDEX_subset}{imp_string}.pdf', bbox_inches='tight')\n",
    "plt.show()"
   ]
  },
  {
   "cell_type": "code",
   "execution_count": null,
   "id": "630e2d4c",
   "metadata": {
    "jupyter": {
     "source_hidden": true
    }
   },
   "outputs": [],
   "source": [
    "if not dens_clb_in:\n",
    "    fig                = plt.figure(figsize=(9,6.5))\n",
    "if dens_clb_in:\n",
    "    fig                = plt.figure(figsize=(7.2,6.5))\n",
    "ax1                = fig.add_subplot(111, xscale='linear', yscale='linear', projection='scatter_density')\n",
    "\n",
    "num_levels_dens    = 20\n",
    "cmap_dens          = 'cet_gray_r'\n",
    "cmap_cont          = 'cet_CET_R3'\n",
    "cmap_agn           = 'cet_CET_C9'\n",
    "    \n",
    "if np.sum(filt_agn_S82 & filt_plot_S82) > 0:\n",
    "    if type_of_levels  == 'linear':\n",
    "        contour_levels_S82 = np.linspace(5, 10**(np.log10(np.nanmax(dens_agn_S82.get_array()))),\\\n",
    "                                            num_contour_levels_S82)\n",
    "    if type_of_levels  == 'log':\n",
    "        contour_levels_S82 = np.logspace(np.log10(5),  np.log10(np.nanmax(dens_agn_S82.get_array())),\\\n",
    "                                            num_contour_levels_S82)\n",
    "    contour_levels_S82[num_contour_levels_S82 - 1] -= contour_levels_S82[num_contour_levels_S82 - 1] %\\\n",
    "                                                    10**np.floor(np.log10(contour_levels_S82[num_contour_levels_S82 - 1]))\n",
    "    contour_levels_S82 = np.unique(np.ceil(contour_levels_S82))\n",
    "\n",
    "AB_lims_x          = (-2.5, 6.1)\n",
    "AB_lims_y          = (-1.3, 1.7)\n",
    "\n",
    "\n",
    "norm_val  = mcolors.CenteredNorm(vcenter=0.5)\n",
    "norm_dens = ImageNormalize(vmin=0, vmax=65, stretch=PowerStretch(0.35))\n",
    "\n",
    "if np.sum(filt_agn_S82 & filt_plot_S82) > 0:\n",
    "    norm_cont      = ImageNormalize(vmin=contour_levels_S82[0], vmax=contour_levels_S82[-1], stretch=PowerStretch(0.35))\n",
    "\n",
    "filt_bands         = np.array(full_catalog_S82_df.loc[:, 'rmag']     != mag_cols_lim['rmag']) &\\\n",
    "                     np.array(full_catalog_S82_df.loc[:, 'zmag']     != mag_cols_lim['zmag']) &\\\n",
    "                     np.array(full_catalog_S82_df.loc[:, 'W1mproPM'] != mag_cols_lim['W1mproPM']) &\\\n",
    "                     np.array(full_catalog_S82_df.loc[:, 'W2mproPM'] != mag_cols_lim['W2mproPM'])\n",
    "\n",
    "filt_plot          = np.isfinite(full_catalog_S82_df.loc[:, 'rmag']     - full_catalog_S82_df.loc[:, 'zmag']) &\\\n",
    "                     np.isfinite(full_catalog_S82_df.loc[:, 'W1mproPM'] - full_catalog_S82_df.loc[:, 'W2mproPM'])\n",
    "\n",
    "dens_plot_data_x = (full_catalog_S82_df.loc[filt_bands, 'rmag'] -\\\n",
    "                    full_catalog_S82_df.loc[filt_bands, 'zmag'])[filt_plot]\n",
    "dens_plot_data_y = (full_catalog_S82_df.loc[filt_bands, 'W1mproPM'] -\\\n",
    "                    full_catalog_S82_df.loc[filt_bands, 'W2mproPM'])[filt_plot]\n",
    "\n",
    "dens_CW_S82 = ax1.scatter_density(dens_plot_data_x, dens_plot_data_y,\n",
    "                             cmap=plt.get_cmap(cmap_dens, num_levels_dens),\n",
    "                             zorder=0, dpi=20, norm=norm_dens, alpha=1.0)\n",
    "n_sources_S82 = int(np.nansum(dens_agn_S82.get_array()))\n",
    "n_sources_CW  = int(np.nansum(filt_bands[filt_plot]))\n",
    "\n",
    "if np.sum(filt_agn_S82 & filt_plot_S82) > 0:\n",
    "    xx_agn = np.linspace(dens_agn_S82.get_extent()[0],\\\n",
    "                         dens_agn_S82.get_extent()[1],\\\n",
    "                         np.shape(dens_agn_S82.get_array())[1])\n",
    "    yy_agn = np.linspace(dens_agn_S82.get_extent()[2],\\\n",
    "                         dens_agn_S82.get_extent()[3],\\\n",
    "                         np.shape(dens_agn_S82.get_array())[0])\n",
    "\n",
    "    cont_S82 = ax1.contour(xx_agn, yy_agn, np.flipud(dens_agn_S82.get_array()), levels=contour_levels_S82,\\\n",
    "                         linewidths=4.0, cmap=plt.get_cmap(cmap_cont), linestyles='dashed', zorder=3, norm=norm_cont)\n",
    "    # ax1.annotate(text=f'N = {n_sources_S82}', xy=(0.5, 0.96), xycoords='axes fraction',\\\n",
    "    #              fontsize=18, ha='center', va='top', path_effects=gf.pe2, zorder=11)\n",
    "\n",
    "ax1.plot([-3], [-3], marker='s', ls='None', c=plt.get_cmap(cmap_dens)(1.1), label=f'CW          - N = {n_sources_CW:,}'.replace(',',' '), zorder=0)\n",
    "if np.sum(filt_agn_S82 & filt_plot_S82) > 0:\n",
    "    ax1.plot([-3], [-3], marker=None, ls='--', c=plt.get_cmap(cmap_cont)(0.0), label=f'MQC AGN - N = {n_sources_S82:,}'.replace(',',' '), zorder=0)\n",
    "\n",
    "if not dens_clb_in:\n",
    "    clb = plt.colorbar(dens_S82, extend='neither', pad=0.15)\n",
    "    clb.formatter.set_powerlimits((0, 0))\n",
    "    clb.ax.tick_params(labelsize=14)\n",
    "    clb.ax.yaxis.get_offset_text().set_fontsize(14)\n",
    "    # clb.ax.yaxis.set_offset_position('right')\n",
    "    clb.ax.yaxis.get_offset_text().set_position((0,0))\n",
    "    clb.outline.set_linewidth(2.5)\n",
    "    clb.update_ticks()\n",
    "    clb.ax.set_ylabel('Elements per pixel', size=16, path_effects=pe2, labelpad=-2)\n",
    "    ax1.set_xlim(left=AB_lims_x[0], right=AB_lims_x[1])\n",
    "    ax1.set_ylim(bottom=AB_lims_y[0], top=AB_lims_y[1])\n",
    "    ax1.legend(loc=2, fontsize=14, ncol=3, columnspacing=.5, handletextpad=0.2, handlelength=0.8)\n",
    "\n",
    "# vega_shift     = {'W1mproPM': 2.699, 'W2mproPM': 3.339, 'W1mag': 2.699, 'W2mag': 3.339, 'W3mag': 5.174,\\\n",
    "#                   'W4mag': 6.620, 'Jmag': 0.910, 'Hmag': 1.390, 'Kmag': 1.850, 'gmag': 0.4810,\\\n",
    "#                     'rmag': 0.6170, 'imag': 0.7520, 'zmag': 0.8660, 'ymag': 0.9620}\n",
    "\n",
    "# Colorbar density\n",
    "if dens_clb_in:\n",
    "    axins0 = inset_axes(ax1, width='100%', height='100%', bbox_transform=ax1.transAxes,\\\n",
    "                        loc=1, bbox_to_anchor=(0.9, 0.15, 0.05, 0.80), borderpad=0)\n",
    "    \n",
    "    clb_dens    = fig.colorbar(dens_CW_S82, cax=axins0, orientation='vertical',\\\n",
    "                     cmap=plt.get_cmap(cmap_dens, num_levels_dens), norm=norm_dens, extend='max')\n",
    "    axins0.yaxis.set_ticks_position('left')\n",
    "    clb_dens.ax.tick_params(labelsize=14)\n",
    "    clb_dens.outline.set_linewidth(2.5)\n",
    "    # clb_dens.ax.set_ylabel('Elements per pixel', size=12, path_effects=pe2)\n",
    "##\n",
    "\n",
    "# Colorbar contour\n",
    "axins1 = inset_axes(ax1, width='100%', height='100%', bbox_transform=ax1.transAxes,\\\n",
    "                    loc=3, bbox_to_anchor=(0.06, 0.07, 0.80, 0.05), borderpad=0)\n",
    "sm = plt.cm.ScalarMappable(norm=norm_cont, cmap=cont_S82.cmap)\n",
    "sm.set_array([])\n",
    "clb_cont    = fig.colorbar(sm, cax=axins1, orientation='horizontal', ticks=cont_S82.levels)\n",
    "axins1.xaxis.set_ticks_position('bottom')\n",
    "clb_cont.ax.tick_params(labelsize=14)\n",
    "clb_cont.outline.set_linewidth(2.5)\n",
    "##\n",
    "\n",
    "ax1.set_xlim(AB_lims_x)\n",
    "ax1.set_ylim(AB_lims_y)\n",
    "\n",
    "ax2 = ax1.twinx()\n",
    "ax2.set_ylim(tuple(np.array(ax1.get_ylim()) - 2.699 + 3.339))\n",
    "ax2.tick_params(which='both', top=False, right=True, direction='in')\n",
    "ax2.tick_params(which='both', bottom=False, left=False, direction='in')\n",
    "ax2.tick_params(axis='both', which='major', labelsize=16)\n",
    "ax2.tick_params(which='major', length=8, width=1.5)\n",
    "ax2.tick_params(which='minor', length=4, width=1.5)\n",
    "ax2.set_ylabel('$m_{\\mathrm{W1}} - m_{\\mathrm{W2}}\\, \\mathrm{[Vega]}$', size=20)\n",
    "\n",
    "ax3 = ax1.twiny()\n",
    "ax3.set_xlim(tuple(np.array(ax1.get_xlim()) - 0.617 + 0.866))\n",
    "ax3.tick_params(which='both', top=True, right=False, direction='in')\n",
    "ax3.tick_params(which='both', bottom=False, left=False, direction='in')\n",
    "ax3.tick_params(axis='both', which='major', labelsize=16)\n",
    "ax3.tick_params(which='major', length=8, width=1.5)\n",
    "ax3.tick_params(which='minor', length=4, width=1.5)\n",
    "ax3.set_xlabel('$m_{\\mathrm{r}} - m_{\\mathrm{z}}\\, \\mathrm{[Vega]}$', size=20)\n",
    "\n",
    "ax1.tick_params(which='both', top=False, right=False, direction='in')\n",
    "ax1.tick_params(axis='both', which='major', labelsize=16)\n",
    "ax1.tick_params(which='major', length=8, width=1.5)\n",
    "ax1.tick_params(which='minor', length=4, width=1.5)\n",
    "ax1.set_xlabel('$m_{\\mathrm{r}} - m_{\\mathrm{z}}\\, \\mathrm{[AB]}$', size=20)\n",
    "ax1.set_ylabel('$m_{\\mathrm{W1}} - m_{\\mathrm{W2}}\\, \\mathrm{[AB]}$', size=20)\n",
    "plt.setp(ax1.spines.values(), linewidth=3.5)\n",
    "plt.setp(ax1.spines.values(), linewidth=3.5)\n",
    "ax1.legend(loc=2, fontsize=14, ncol=1, columnspacing=.5, handletextpad=0.2, handlelength=0.8, framealpha=0.95)\n",
    "plt.tight_layout()\n",
    "if save_plot_flag:\n",
    "    plt.savefig(gv.plots_path + f'r_z_W1_W2_AGN_S82_{S82_subset}{imp_string}.pdf', bbox_inches='tight')\n",
    "plt.show()"
   ]
  },
  {
   "cell_type": "markdown",
   "id": "eb3ca1bd",
   "metadata": {},
   "source": [
    "### Using `Chainconsumer` package."
   ]
  },
  {
   "cell_type": "markdown",
   "id": "1367d28e",
   "metadata": {},
   "source": [
    "Contours at $0, 0.67 (50\\%), 1, 2, 3 - \\sigma$"
   ]
  },
  {
   "cell_type": "code",
   "execution_count": null,
   "id": "c7290b44",
   "metadata": {
    "jupyter": {
     "source_hidden": true
    }
   },
   "outputs": [],
   "source": [
    "if not dens_clb_in:\n",
    "    fig                = plt.figure(figsize=(9,6.5))\n",
    "if dens_clb_in:\n",
    "    fig                = plt.figure(figsize=(7.2,6.5))\n",
    "ax1                = fig.add_subplot(111, xscale='linear', yscale='linear', projection='scatter_density')\n",
    "\n",
    "num_levels_dens    = 20\n",
    "cmap_dens          = 'cet_gray_r'\n",
    "cmap_cont          = 'cet_CET_R3'\n",
    "cmap_agn           = 'cet_CET_C9'\n",
    "\n",
    "if np.sum(filt_agn_HETDEX & filt_plot_HETDEX) > 0:\n",
    "    if type_of_levels  == 'linear':\n",
    "        contour_levels_HETDEX = np.linspace(5, 10**(np.log10(np.nanmax(dens_agn_HETDEX.get_array()))),\\\n",
    "                                            num_contour_levels_HETDEX)\n",
    "    if type_of_levels  == 'log':\n",
    "        contour_levels_HETDEX = np.logspace(np.log10(5),  np.log10(np.nanmax(dens_agn_HETDEX.get_array())),\\\n",
    "                                            num_contour_levels_HETDEX)\n",
    "    contour_levels_HETDEX[num_contour_levels_HETDEX - 1] -= contour_levels_HETDEX[num_contour_levels_HETDEX - 1] %\\\n",
    "                                                    10**np.floor(np.log10(contour_levels_HETDEX[num_contour_levels_HETDEX - 1]))\n",
    "    contour_levels_HETDEX = np.unique(np.ceil(contour_levels_HETDEX))\n",
    "    \n",
    "AB_lims_x          = (-2.5, 4.1)  # (-2.5, 6.1)\n",
    "AB_lims_y          = (-1.3, 1.8)  # (-1.3, 1.7)\n",
    "\n",
    "\n",
    "norm_val  = mcolors.CenteredNorm(vcenter=0.5)\n",
    "norm_dens = ImageNormalize(vmin=0, vmax=5000, stretch=PowerStretch(0.35))\n",
    "\n",
    "if np.sum(filt_agn_HETDEX & filt_plot_HETDEX) > 0:\n",
    "    norm_cont      = ImageNormalize(vmin=contour_levels_HETDEX[0], vmax=contour_levels_HETDEX[-1], stretch=PowerStretch(0.35))\n",
    "\n",
    "filt_bands         = np.array(full_catalog_HETDEX_df.loc[:, 'rmag']     != mag_cols_lim['rmag'])     &\\\n",
    "                     np.array(full_catalog_HETDEX_df.loc[:, 'zmag']     != mag_cols_lim['zmag'])     &\\\n",
    "                     np.array(full_catalog_HETDEX_df.loc[:, 'W1mproPM'] != mag_cols_lim['W1mproPM']) &\\\n",
    "                     np.array(full_catalog_HETDEX_df.loc[:, 'W2mproPM'] != mag_cols_lim['W2mproPM'])\n",
    "\n",
    "filt_plot          = np.isfinite(full_catalog_HETDEX_df.loc[:, 'rmag']     - full_catalog_HETDEX_df.loc[:, 'zmag']) &\\\n",
    "                     np.isfinite(full_catalog_HETDEX_df.loc[:, 'W1mproPM'] - full_catalog_HETDEX_df.loc[:, 'W2mproPM'])\n",
    "\n",
    "dens_plot_data_x = (full_catalog_HETDEX_df.loc[filt_plot_HETDEX, 'rmag'] -\\\n",
    "                    full_catalog_HETDEX_df.loc[filt_plot_HETDEX, 'zmag'])[filt_plot]\n",
    "dens_plot_data_y = (full_catalog_HETDEX_df.loc[filt_plot_HETDEX, 'W1mproPM'] -\\\n",
    "                    full_catalog_HETDEX_df.loc[filt_plot_HETDEX, 'W2mproPM'])[filt_plot]\n",
    "\n",
    "dens_CW_HETDEX      = ax1.scatter_density(dens_plot_data_x, dens_plot_data_y,\n",
    "                             cmap=plt.get_cmap(cmap_dens, num_levels_dens),\n",
    "                             zorder=0, dpi=30, norm=norm_dens, alpha=1.0)\n",
    "n_sources_HETDEX = int(np.nansum(dens_agn_HETDEX.get_array()))\n",
    "n_sources_CW     = int(np.nansum(filt_bands[filt_plot]))\n",
    "\n",
    "if np.sum(filt_agn_HETDEX & filt_plot_HETDEX) > 0:\n",
    "    xx_agn = np.linspace(dens_agn_HETDEX.get_extent()[0],\\\n",
    "                         dens_agn_HETDEX.get_extent()[1],\\\n",
    "                         np.shape(dens_agn_HETDEX.get_array())[1])\n",
    "    yy_agn = np.linspace(dens_agn_HETDEX.get_extent()[2],\\\n",
    "                         dens_agn_HETDEX.get_extent()[3],\\\n",
    "                         np.shape(dens_agn_HETDEX.get_array())[0])\n",
    "\n",
    "    # cont_HETDEX = ax1.contour(xx_agn, yy_agn, np.flipud(dens_agn_HETDEX.get_array()), levels=contour_levels_HETDEX,\\\n",
    "    #                      linewidths=4.0, cmap=plt.get_cmap(cmap_cont), linestyles='dashed', zorder=3, norm=norm_cont)\n",
    "    # ax1.annotate(text=f'N = {n_sources_HETDEX}', xy=(0.5, 0.96), xycoords='axes fraction',\\\n",
    "    #              fontsize=18, ha='center', va='top', path_effects=gf.pe2, zorder=11)\n",
    "    corner_HETDEX = ChainConsumer()\\\n",
    "        .add_chain(full_catalog_HETDEX_df.loc[HETDEX_AGN_filter * filt_plot_HETDEX, ['r_z', 'W1_W2']], name='HETDEX MQC AGN')\\\n",
    "        .add_chain(full_catalog_HETDEX_df.loc[HETDEX_gal_filter * filt_plot_HETDEX, ['r_z', 'W1_W2']], name='HETDEX SDSS Galaxies')\\\n",
    "        .configure(shade=True, colors=[mcolors.to_hex(plt.get_cmap('cet_CET_D2')(0.0)),\\\n",
    "                                        mcolors.to_hex(plt.get_cmap('cet_CET_D2')(1.0))], sigmas=[0.01, 1, 2, 3],\\\n",
    "                   linewidths=3.5, shade_alpha=0.075)\\\n",
    "        .plotter.plot_contour(ax=ax1, parameter_x='r_z', parameter_y='W1_W2')  # Green AGN\n",
    "\n",
    "ax1.plot([-3], [-3], marker='s', ls='None', c=plt.get_cmap(cmap_dens)(1.1),    label=f'CW          -  N = {n_sources_CW:,}'.replace(',',' '), zorder=0)\n",
    "if np.sum(filt_agn_HETDEX & filt_plot_HETDEX) > 0:\n",
    "    ax1.plot([-3], [-3], marker=None, ls='-', lw=2.0, c=plt.get_cmap('cet_CET_D2')(0.0),\\\n",
    "             label=f'MQC AGN - N =      {np.sum(HETDEX_AGN_filter * filt_plot_HETDEX):,}'.replace(',',' '), zorder=0)\n",
    "    ax1.plot([-3], [-3], marker=None, ls='-', lw=2.0, c=plt.get_cmap('cet_CET_D2')(1.0),\\\n",
    "             label=f'SDSS Gal  - N =      {np.sum(HETDEX_gal_filter * filt_plot_HETDEX):,}'.replace(',',' '), zorder=0)\n",
    "\n",
    "if not dens_clb_in:\n",
    "    clb = plt.colorbar(dens_1, extend='neither', pad=0.15)\n",
    "    clb.formatter.set_powerlimits((0, 0))\n",
    "    clb.ax.tick_params(labelsize=14)\n",
    "    clb.ax.yaxis.get_offset_text().set_fontsize(14)\n",
    "    clb.ax.yaxis.set_offset_position('right')\n",
    "    clb.ax.yaxis.get_offset_text().set_position((0,0))\n",
    "    clb.outline.set_linewidth(2.5)\n",
    "    clb.update_ticks()\n",
    "    clb.ax.set_ylabel('Elements per pixel', size=16, path_effects=pe2, labelpad=-2)\n",
    "    ax1.set_xlim(left=AB_lims_x[0], right=AB_lims_x[1])\n",
    "    ax1.set_ylim(bottom=AB_lims_y[0], top=AB_lims_y[1])\n",
    "    ax1.legend(loc=2, fontsize=14, ncol=3, columnspacing=.5, handletextpad=0.2, handlelength=0.8)\n",
    "\n",
    "# vega_shift     = {'W1mproPM': 2.699, 'W2mproPM': 3.339, 'W1mag': 2.699, 'W2mag': 3.339, 'W3mag': 5.174,\\\n",
    "#                   'W4mag': 6.620, 'Jmag': 0.910, 'Hmag': 1.390, 'Kmag': 1.850, 'gmag': 0.4810,\\\n",
    "#                     'rmag': 0.6170, 'imag': 0.7520, 'zmag': 0.8660, 'ymag': 0.9620}\n",
    "\n",
    "# Colorbar density\n",
    "if dens_clb_in:\n",
    "    axins0 = inset_axes(ax1, width='100%', height='100%', bbox_transform=ax1.transAxes,\\\n",
    "                        loc=1, bbox_to_anchor=(0.9, 0.15, 0.05, 0.80), borderpad=0)\n",
    "    \n",
    "    clb_dens    = fig.colorbar(dens_CW_HETDEX, cax=axins0, orientation='vertical',\\\n",
    "                     cmap=plt.get_cmap(cmap_dens, num_levels_dens), norm=norm_dens, extend='max')\n",
    "    axins0.yaxis.set_ticks_position('left')\n",
    "    clb_dens.ax.tick_params(labelsize=14)\n",
    "    clb_dens.outline.set_linewidth(2.5)\n",
    "    # clb_dens.ax.set_ylabel('Elements per pixel', size=12, path_effects=pe2)\n",
    "##\n",
    "\n",
    "# Colorbar contour\n",
    "# axins1 = inset_axes(ax1, width='100%', height='100%', bbox_transform=ax1.transAxes,\\\n",
    "#                     loc=3, bbox_to_anchor=(0.06, 0.07, 0.80, 0.05), borderpad=0)\n",
    "# sm = plt.cm.ScalarMappable(norm=norm_cont, cmap=cont_HETDEX.cmap)\n",
    "# sm.set_array([])\n",
    "# clb_cont    = fig.colorbar(sm, cax=axins1, orientation='horizontal', ticks=cont_HETDEX.levels)\n",
    "# axins1.xaxis.set_ticks_position('bottom')\n",
    "# clb_cont.ax.tick_params(labelsize=14)\n",
    "# clb_cont.outline.set_linewidth(2.5)\n",
    "##\n",
    "\n",
    "ax1.set_xlim(AB_lims_x)\n",
    "ax1.set_ylim(AB_lims_y)\n",
    "\n",
    "x_Vega   = np.array(AB_lims_x) - 0.617 + 0.866  # Vega\n",
    "y_Vega   = np.array(AB_lims_y) - 2.699 + 3.339  # Vega\n",
    "# New criterion by Carvajal+\n",
    "points_C23 = np.array([[-0.45, -0.45, 1.8, 1.8], [y_Vega[-1], 0.1, 0.9, y_Vega[-1]]])\n",
    "ax1.plot(points_C23[0] + 0.617 - 0.866, points_C23[1] + 2.699 - 3.339,\n",
    "         label='This work', c=plt.get_cmap(cmap_agn)(0.75), zorder=2, lw=3)\n",
    "\n",
    "ax2 = ax1.twinx()\n",
    "ax2.set_ylim(tuple(np.array(ax1.get_ylim()) - 2.699 + 3.339))\n",
    "ax2.tick_params(which='both', top=False, right=True, direction='in')\n",
    "ax2.tick_params(which='both', bottom=False, left=False, direction='in')\n",
    "ax2.tick_params(axis='both', which='major', labelsize=16)\n",
    "ax2.tick_params(which='major', length=8, width=1.5)\n",
    "ax2.tick_params(which='minor', length=4, width=1.5)\n",
    "ax2.set_ylabel('$m_{\\mathrm{W1}} - m_{\\mathrm{W2}}\\, \\mathrm{[Vega]}$', size=20)\n",
    "\n",
    "ax3 = ax1.twiny()\n",
    "ax3.set_xlim(tuple(np.array(ax1.get_xlim()) - 0.617 + 0.866))\n",
    "ax3.tick_params(which='both', top=True, right=False, direction='in')\n",
    "ax3.tick_params(which='both', bottom=False, left=False, direction='in')\n",
    "ax3.tick_params(axis='both', which='major', labelsize=16)\n",
    "ax3.tick_params(which='major', length=8, width=1.5)\n",
    "ax3.tick_params(which='minor', length=4, width=1.5)\n",
    "ax3.set_xlabel('$m_{\\mathrm{r}} - m_{\\mathrm{z}}\\, \\mathrm{[Vega]}$', size=20)\n",
    "\n",
    "ax1.tick_params(which='both', top=False, right=False, direction='in')\n",
    "ax1.tick_params(axis='both', which='major', labelsize=16)\n",
    "ax1.tick_params(which='major', length=8, width=1.5)\n",
    "ax1.tick_params(which='minor', length=4, width=1.5)\n",
    "ax1.set_xlabel('$m_{\\mathrm{r}} - m_{\\mathrm{z}}\\, \\mathrm{[AB]}$', size=20)\n",
    "ax1.set_ylabel('$m_{\\mathrm{W1}} - m_{\\mathrm{W2}}\\, \\mathrm{[AB]}$', size=20)\n",
    "plt.setp(ax1.spines.values(), linewidth=3.5)\n",
    "plt.setp(ax1.spines.values(), linewidth=3.5)\n",
    "ax1.legend(loc=2, fontsize=12, ncol=1, columnspacing=.5, handletextpad=0.2, handlelength=0.8, framealpha=0.95)\n",
    "plt.tight_layout()\n",
    "if save_plot_flag:\n",
    "    plt.savefig(gv.plots_path + f'r_z_W1_W2_AGN_gal_HETDEX_{HETDEX_subset}{imp_string}.pdf', bbox_inches='tight')\n",
    "plt.show()"
   ]
  },
  {
   "cell_type": "code",
   "execution_count": null,
   "id": "622267d1",
   "metadata": {
    "jupyter": {
     "source_hidden": true
    }
   },
   "outputs": [],
   "source": [
    "if not dens_clb_in:\n",
    "    fig                = plt.figure(figsize=(9,6.5))\n",
    "if dens_clb_in:\n",
    "    fig                = plt.figure(figsize=(7.2,6.5))\n",
    "ax1                = fig.add_subplot(111, xscale='linear', yscale='linear', projection='scatter_density')\n",
    "\n",
    "num_levels_dens    = 20\n",
    "cmap_dens          = 'cet_gray_r'\n",
    "cmap_cont          = 'cet_CET_R3'\n",
    "cmap_agn           = 'cet_CET_C9'\n",
    "\n",
    "if np.sum(filt_agn_HETDEX & filt_plot_HETDEX) > 0:\n",
    "    if type_of_levels  == 'linear':\n",
    "        contour_levels_HETDEX = np.linspace(5, 10**(np.log10(np.nanmax(dens_agn_HETDEX.get_array()))),\n",
    "                                            num_contour_levels_HETDEX)\n",
    "    if type_of_levels  == 'log':\n",
    "        contour_levels_HETDEX = np.logspace(np.log10(5),  np.log10(np.nanmax(dens_agn_HETDEX.get_array())),\n",
    "                                            num_contour_levels_HETDEX)\n",
    "    contour_levels_HETDEX[num_contour_levels_HETDEX - 1] -= contour_levels_HETDEX[num_contour_levels_HETDEX - 1] %\\\n",
    "                                                    10**np.floor(np.log10(contour_levels_HETDEX[num_contour_levels_HETDEX - 1]))\n",
    "    contour_levels_HETDEX = np.unique(np.ceil(contour_levels_HETDEX))\n",
    "    \n",
    "AB_lims_x          = (-2.5, 4.1)  # (-2.5, 6.1)\n",
    "AB_lims_y          = (-1.3, 1.8)  # (-1.3, 1.7)\n",
    "\n",
    "\n",
    "norm_val  = mcolors.CenteredNorm(vcenter=0.5)\n",
    "norm_dens = ImageNormalize(vmin=0, vmax=5000, stretch=PowerStretch(0.35))\n",
    "\n",
    "if np.sum(filt_agn_HETDEX & filt_plot_HETDEX) > 0:\n",
    "    norm_cont      = ImageNormalize(vmin=contour_levels_HETDEX[0], vmax=contour_levels_HETDEX[-1], stretch=PowerStretch(0.35))\n",
    "\n",
    "filt_bands         = np.array(full_catalog_HETDEX_df.loc[:, 'gmag']     != mag_cols_lim['gmag'])     &\\\n",
    "                     np.array(full_catalog_HETDEX_df.loc[:, 'rmag']     != mag_cols_lim['rmag'])     &\\\n",
    "                     np.array(full_catalog_HETDEX_df.loc[:, 'W1mproPM'] != mag_cols_lim['W1mproPM']) &\\\n",
    "                     np.array(full_catalog_HETDEX_df.loc[:, 'W2mproPM'] != mag_cols_lim['W2mproPM'])\n",
    "\n",
    "filt_plot          = np.isfinite(full_catalog_HETDEX_df.loc[:, 'gmag']     - full_catalog_HETDEX_df.loc[:, 'rmag']) &\\\n",
    "                     np.isfinite(full_catalog_HETDEX_df.loc[:, 'W1mproPM'] - full_catalog_HETDEX_df.loc[:, 'W2mproPM'])\n",
    "tmp_filt_plt       = filt_bands * filt_plot\n",
    "\n",
    "dens_plot_data_x = (full_catalog_HETDEX_df.loc[filt_plot_HETDEX, 'gmag'] -\n",
    "                    full_catalog_HETDEX_df.loc[filt_plot_HETDEX, 'rmag'])[filt_plot]\n",
    "dens_plot_data_y = (full_catalog_HETDEX_df.loc[filt_plot_HETDEX, 'W1mproPM'] -\n",
    "                    full_catalog_HETDEX_df.loc[filt_plot_HETDEX, 'W2mproPM'])[filt_plot]\n",
    "\n",
    "dens_CW_HETDEX      = ax1.scatter_density(dens_plot_data_x, dens_plot_data_y,\n",
    "                             cmap=plt.get_cmap(cmap_dens, num_levels_dens),\n",
    "                             zorder=0, dpi=30, norm=norm_dens, alpha=1.0)\n",
    "n_sources_HETDEX = int(np.nansum(dens_agn_HETDEX.get_array()))\n",
    "n_sources_CW     = int(np.nansum(filt_bands[filt_plot]))\n",
    "\n",
    "if np.sum(filt_agn_HETDEX & filt_plot_HETDEX) > 0:\n",
    "    xx_agn = np.linspace(dens_agn_HETDEX.get_extent()[0],\\\n",
    "                         dens_agn_HETDEX.get_extent()[1],\\\n",
    "                         np.shape(dens_agn_HETDEX.get_array())[1])\n",
    "    yy_agn = np.linspace(dens_agn_HETDEX.get_extent()[2],\\\n",
    "                         dens_agn_HETDEX.get_extent()[3],\\\n",
    "                         np.shape(dens_agn_HETDEX.get_array())[0])\n",
    "\n",
    "    # cont_HETDEX = ax1.contour(xx_agn, yy_agn, np.flipud(dens_agn_HETDEX.get_array()), levels=contour_levels_HETDEX,\\\n",
    "    #                      linewidths=4.0, cmap=plt.get_cmap(cmap_cont), linestyles='dashed', zorder=3, norm=norm_cont)\n",
    "    # ax1.annotate(text=f'N = {n_sources_HETDEX}', xy=(0.5, 0.96), xycoords='axes fraction',\\\n",
    "    #              fontsize=18, ha='center', va='top', path_effects=gf.pe2, zorder=11)\n",
    "    corner_HETDEX = ChainConsumer()\\\n",
    "        .add_chain(full_catalog_HETDEX_df.loc[HETDEX_AGN_filter * filt_plot_HETDEX, ['g_r', 'W1_W2']], name='HETDEX MQC AGN')\\\n",
    "        .add_chain(full_catalog_HETDEX_df.loc[HETDEX_gal_filter * filt_plot_HETDEX, ['g_r', 'W1_W2']], name='HETDEX SDSS Galaxies')\\\n",
    "        .configure(shade=True, colors=[mcolors.to_hex(plt.get_cmap('cet_CET_D2')(0.0)),\n",
    "                                       mcolors.to_hex(plt.get_cmap('cet_CET_D2')(1.0))], \n",
    "                   sigmas=[0.01, 1, 2, 3],\n",
    "                   linewidths=3.5, shade_alpha=0.075)\\\n",
    "        .plotter.plot_contour(ax=ax1, parameter_x='g_r', parameter_y='W1_W2')  # Green AGN\n",
    "\n",
    "ax1.plot([-3], [-3], marker='s', ls='None', c=plt.get_cmap(cmap_dens)(1.1),    label=f'CW          -  N = {n_sources_CW:,}'.replace(',',' '), zorder=0)\n",
    "if np.sum(filt_agn_HETDEX & filt_plot_HETDEX) > 0:\n",
    "    ax1.plot([-3], [-3], marker=None, ls='-', lw=2.0, c=plt.get_cmap('cet_CET_D2')(0.0),\\\n",
    "             label=f'MQC AGN - N =      {np.sum(HETDEX_AGN_filter * filt_plot_HETDEX):,}'.replace(',',' '), zorder=0)\n",
    "    ax1.plot([-3], [-3], marker=None, ls='-', lw=2.0, c=plt.get_cmap('cet_CET_D2')(1.0),\\\n",
    "             label=f'SDSS Gal  - N =      {np.sum(HETDEX_gal_filter * filt_plot_HETDEX):,}'.replace(',',' '), zorder=0)\n",
    "\n",
    "if not dens_clb_in:\n",
    "    clb = plt.colorbar(dens_1, extend='neither', pad=0.15)\n",
    "    clb.formatter.set_powerlimits((0, 0))\n",
    "    clb.ax.tick_params(labelsize=14)\n",
    "    clb.ax.yaxis.get_offset_text().set_fontsize(14)\n",
    "    clb.ax.yaxis.set_offset_position('right')\n",
    "    clb.ax.yaxis.get_offset_text().set_position((0,0))\n",
    "    clb.outline.set_linewidth(2.5)\n",
    "    clb.update_ticks()\n",
    "    clb.ax.set_ylabel('Elements per pixel', size=16, path_effects=pe2, labelpad=-2)\n",
    "    ax1.set_xlim(left=AB_lims_x[0], right=AB_lims_x[1])\n",
    "    ax1.set_ylim(bottom=AB_lims_y[0], top=AB_lims_y[1])\n",
    "    ax1.legend(loc=2, fontsize=14, ncol=3, columnspacing=.5, handletextpad=0.2, handlelength=0.8)\n",
    "\n",
    "# vega_shift     = {'W1mproPM': 2.699, 'W2mproPM': 3.339, 'W1mag': 2.699, 'W2mag': 3.339, 'W3mag': 5.174,\\\n",
    "#                   'W4mag': 6.620, 'Jmag': 0.910, 'Hmag': 1.390, 'Kmag': 1.850, 'gmag': 0.4810,\\\n",
    "#                     'rmag': 0.6170, 'imag': 0.7520, 'zmag': 0.8660, 'ymag': 0.9620}\n",
    "\n",
    "# Colorbar density\n",
    "if dens_clb_in:\n",
    "    axins0 = inset_axes(ax1, width='100%', height='100%', bbox_transform=ax1.transAxes,\\\n",
    "                        loc=1, bbox_to_anchor=(0.9, 0.15, 0.05, 0.80), borderpad=0)\n",
    "    \n",
    "    clb_dens    = fig.colorbar(dens_CW_HETDEX, cax=axins0, orientation='vertical',\\\n",
    "                     cmap=plt.get_cmap(cmap_dens, num_levels_dens), norm=norm_dens, extend='max')\n",
    "    axins0.yaxis.set_ticks_position('left')\n",
    "    clb_dens.ax.tick_params(labelsize=14)\n",
    "    clb_dens.outline.set_linewidth(2.5)\n",
    "    # clb_dens.ax.set_ylabel('Elements per pixel', size=12, path_effects=pe2)\n",
    "##\n",
    "\n",
    "# Colorbar contour\n",
    "# axins1 = inset_axes(ax1, width='100%', height='100%', bbox_transform=ax1.transAxes,\\\n",
    "#                     loc=3, bbox_to_anchor=(0.06, 0.07, 0.80, 0.05), borderpad=0)\n",
    "# sm = plt.cm.ScalarMappable(norm=norm_cont, cmap=cont_HETDEX.cmap)\n",
    "# sm.set_array([])\n",
    "# clb_cont    = fig.colorbar(sm, cax=axins1, orientation='horizontal', ticks=cont_HETDEX.levels)\n",
    "# axins1.xaxis.set_ticks_position('bottom')\n",
    "# clb_cont.ax.tick_params(labelsize=14)\n",
    "# clb_cont.outline.set_linewidth(2.5)\n",
    "##\n",
    "\n",
    "ax1.set_xlim(AB_lims_x)\n",
    "ax1.set_ylim(AB_lims_y)\n",
    "\n",
    "x_Vega   = np.array(AB_lims_x) - 0.481 + 0.617  # Vega\n",
    "y_Vega   = np.array(AB_lims_y) - 2.699 + 3.339  # Vega\n",
    "# New criterion by Carvajal+\n",
    "points_C23 = np.array([[-0.76, -0.76, 1.8, 1.8], [y_Vega[-1], 0.26, 0.84, y_Vega[-1]]])\n",
    "ax1.plot(points_C23[0] + 0.481 - 0.617, points_C23[1] + 2.699 - 3.339,\n",
    "         label='This work', c=plt.get_cmap(cmap_agn)(0.75), zorder=2, lw=3)\n",
    "\n",
    "ax2 = ax1.twinx()\n",
    "ax2.set_ylim(tuple(np.array(ax1.get_ylim()) - 2.699 + 3.339))\n",
    "ax2.tick_params(which='both', top=False, right=True, direction='in')\n",
    "ax2.tick_params(which='both', bottom=False, left=False, direction='in')\n",
    "ax2.tick_params(axis='both', which='major', labelsize=16)\n",
    "ax2.tick_params(which='major', length=8, width=1.5)\n",
    "ax2.tick_params(which='minor', length=4, width=1.5)\n",
    "ax2.set_ylabel('$m_{\\mathrm{W1}} - m_{\\mathrm{W2}}\\, \\mathrm{[Vega]}$', size=20)\n",
    "\n",
    "ax3 = ax1.twiny()\n",
    "ax3.set_xlim(tuple(np.array(ax1.get_xlim()) - 0.481 + 0.617))\n",
    "ax3.tick_params(which='both', top=True, right=False, direction='in')\n",
    "ax3.tick_params(which='both', bottom=False, left=False, direction='in')\n",
    "ax3.tick_params(axis='both', which='major', labelsize=16)\n",
    "ax3.tick_params(which='major', length=8, width=1.5)\n",
    "ax3.tick_params(which='minor', length=4, width=1.5)\n",
    "ax3.set_xlabel('$m_{\\mathrm{g}} - m_{\\mathrm{r}}\\, \\mathrm{[Vega]}$', size=20)\n",
    "\n",
    "ax1.tick_params(which='both', top=False, right=False, direction='in')\n",
    "ax1.tick_params(axis='both', which='major', labelsize=16)\n",
    "ax1.tick_params(which='major', length=8, width=1.5)\n",
    "ax1.tick_params(which='minor', length=4, width=1.5)\n",
    "ax1.set_xlabel('$m_{\\mathrm{g}} - m_{\\mathrm{r}}\\, \\mathrm{[AB]}$', size=20)\n",
    "ax1.set_ylabel('$m_{\\mathrm{W1}} - m_{\\mathrm{W2}}\\, \\mathrm{[AB]}$', size=20)\n",
    "plt.setp(ax1.spines.values(), linewidth=3.5)\n",
    "plt.setp(ax1.spines.values(), linewidth=3.5)\n",
    "ax1.legend(loc=2, fontsize=12, ncol=1, columnspacing=.5, handletextpad=0.2, handlelength=0.8, framealpha=0.95)\n",
    "plt.tight_layout()\n",
    "if save_plot_flag:\n",
    "    plt.savefig(gv.plots_path + f'g_r_W1_W2_AGN_gal_HETDEX_{HETDEX_subset}{imp_string}.pdf', bbox_inches='tight')\n",
    "plt.show()"
   ]
  },
  {
   "cell_type": "code",
   "execution_count": null,
   "id": "db7ed62e",
   "metadata": {
    "jupyter": {
     "source_hidden": true
    }
   },
   "outputs": [],
   "source": [
    "if not dens_clb_in:\n",
    "    fig                = plt.figure(figsize=(9,6.5))\n",
    "if dens_clb_in:\n",
    "    fig                = plt.figure(figsize=(7.2,6.5))\n",
    "ax1                = fig.add_subplot(111, xscale='linear', yscale='linear', projection='scatter_density')\n",
    "\n",
    "num_levels_dens    = 20\n",
    "cmap_dens          = 'cet_gray_r'\n",
    "cmap_cont          = 'cet_CET_R3'\n",
    "cmap_agn           = 'cet_CET_C9'\n",
    "\n",
    "if np.sum(filt_agn_HETDEX & filt_plot_HETDEX) > 0:\n",
    "    if type_of_levels  == 'linear':\n",
    "        contour_levels_HETDEX = np.linspace(5, 10**(np.log10(np.nanmax(dens_agn_HETDEX.get_array()))),\\\n",
    "                                            num_contour_levels_HETDEX)\n",
    "    if type_of_levels  == 'log':\n",
    "        contour_levels_HETDEX = np.logspace(np.log10(5),  np.log10(np.nanmax(dens_agn_HETDEX.get_array())),\\\n",
    "                                            num_contour_levels_HETDEX)\n",
    "    contour_levels_HETDEX[num_contour_levels_HETDEX - 1] -= contour_levels_HETDEX[num_contour_levels_HETDEX - 1] %\\\n",
    "                                                    10**np.floor(np.log10(contour_levels_HETDEX[num_contour_levels_HETDEX - 1]))\n",
    "    contour_levels_HETDEX = np.unique(np.ceil(contour_levels_HETDEX))\n",
    "\n",
    "AB_lims_x          = (-2.5, 4.1)  # (-2.5, 6.1)\n",
    "AB_lims_y          = (-1.3, 1.8)  # (-1.3, 1.7)\n",
    "\n",
    "\n",
    "norm_val  = mcolors.CenteredNorm(vcenter=0.5)\n",
    "norm_dens = ImageNormalize(vmin=0, vmax=2000, stretch=PowerStretch(0.35))\n",
    "\n",
    "if np.sum(filt_agn_HETDEX & filt_plot_HETDEX) > 0:\n",
    "    norm_cont      = ImageNormalize(vmin=contour_levels_HETDEX[0], vmax=contour_levels_HETDEX[-1], stretch=PowerStretch(0.35))\n",
    "\n",
    "filt_bands         = np.array(full_catalog_HETDEX_df.loc[:, 'rmag']     != mag_cols_lim['rmag'])     &\\\n",
    "                     np.array(full_catalog_HETDEX_df.loc[:, 'zmag']     != mag_cols_lim['zmag'])     &\\\n",
    "                     np.array(full_catalog_HETDEX_df.loc[:, 'W1mproPM'] != mag_cols_lim['W1mproPM']) &\\\n",
    "                     np.array(full_catalog_HETDEX_df.loc[:, 'W1mproPM'] != mag_cols_lim['W1mproPM'])\n",
    "\n",
    "filt_plot          = np.isfinite(full_catalog_HETDEX_df.loc[:, 'rmag']     - full_catalog_HETDEX_df.loc[:, 'zmag']) &\\\n",
    "                     np.isfinite(full_catalog_HETDEX_df.loc[:, 'W1mproPM'] - full_catalog_HETDEX_df.loc[:, 'W2mproPM'])\n",
    "\n",
    "dens_plot_data_x = (full_catalog_HETDEX_df.loc[filt_plot_HETDEX, 'rmag'] -\\\n",
    "                    full_catalog_HETDEX_df.loc[filt_plot_HETDEX, 'zmag'])[filt_plot]\n",
    "dens_plot_data_y = (full_catalog_HETDEX_df.loc[filt_plot_HETDEX, 'W1mproPM'] -\\\n",
    "                    full_catalog_HETDEX_df.loc[filt_plot_HETDEX, 'W2mproPM'])[filt_plot]\n",
    "\n",
    "dens_CW_HETDEX      = ax1.scatter_density(dens_plot_data_x, dens_plot_data_y,\n",
    "                             cmap=plt.get_cmap(cmap_dens, num_levels_dens),\n",
    "                             zorder=0, dpi=30, norm=norm_dens, alpha=1.0)\n",
    "n_sources_HETDEX = int(np.nansum(dens_agn_HETDEX.get_array()))\n",
    "n_sources_CW     = int(np.nansum(filt_bands[filt_plot]))\n",
    "\n",
    "if np.sum(filt_agn_HETDEX & filt_plot_HETDEX) > 0:\n",
    "    xx_agn = np.linspace(dens_agn_HETDEX.get_extent()[0],\\\n",
    "                         dens_agn_HETDEX.get_extent()[1],\\\n",
    "                         np.shape(dens_agn_HETDEX.get_array())[1])\n",
    "    yy_agn = np.linspace(dens_agn_HETDEX.get_extent()[2],\\\n",
    "                         dens_agn_HETDEX.get_extent()[3],\\\n",
    "                         np.shape(dens_agn_HETDEX.get_array())[0])\n",
    "\n",
    "    # cont_HETDEX = ax1.contour(xx_agn, yy_agn, np.flipud(dens_agn_HETDEX.get_array()), levels=contour_levels_HETDEX,\\\n",
    "    #                      linewidths=4.0, cmap=plt.get_cmap(cmap_cont), linestyles='dashed', zorder=3, norm=norm_cont)\n",
    "    # ax1.annotate(text=f'N = {n_sources_HETDEX}', xy=(0.5, 0.96), xycoords='axes fraction',\\\n",
    "    #              fontsize=18, ha='center', va='top', path_effects=gf.pe2, zorder=11)\n",
    "    corner_HETDEX = ChainConsumer()\\\n",
    "        .add_chain(full_catalog_HETDEX_df.loc[HETDEX_pAGN_filter * filt_plot_HETDEX, ['r_z', 'W1_W2']], name='HETDEX predicted AGN')\\\n",
    "        .add_chain(full_catalog_HETDEX_df.loc[HETDEX_pgal_filter * filt_plot_HETDEX, ['r_z', 'W1_W2']], name='HETDEX predicted Galaxies')\\\n",
    "        .configure(shade=True, colors=[mcolors.to_hex(plt.get_cmap('cet_CET_D2')(0.0)),\\\n",
    "                                        mcolors.to_hex(plt.get_cmap('cet_CET_D2')(1.0))], sigmas=[0.01, 1, 2, 3],\\\n",
    "                   linewidths=3.5, shade_alpha=0.075)\\\n",
    "        .plotter.plot_contour(ax=ax1, parameter_x='r_z', parameter_y='W1_W2')  # Green AGN\n",
    "\n",
    "ax1.plot([-3], [-3], marker='s', ls='None', c=plt.get_cmap(cmap_dens)(1.1),    label=f'CW          - N = {n_sources_CW:,}'.replace(',',' '), zorder=0)\n",
    "if np.sum(filt_agn_HETDEX & filt_plot_HETDEX) > 0:\n",
    "    ax1.plot([-3], [-3], marker=None, ls='-', lw=2.0, c=plt.get_cmap('cet_CET_D2')(0.0),\\\n",
    "             label=f'Pred AGN - N = {np.sum(HETDEX_pAGN_filter * filt_plot_HETDEX):,}'.replace(',',' '), zorder=0)\n",
    "    ax1.plot([-3], [-3], marker=None, ls='-', lw=2.0, c=plt.get_cmap('cet_CET_D2')(1.0),\\\n",
    "             label=f'Pred Gal - N = {np.sum(HETDEX_pgal_filter * filt_plot_HETDEX):,}'.replace(',',' '), zorder=0)\n",
    "\n",
    "if not dens_clb_in:\n",
    "    clb = plt.colorbar(dens_1, extend='neither', pad=0.15)\n",
    "    clb.formatter.set_powerlimits((0, 0))\n",
    "    clb.ax.tick_params(labelsize=14)\n",
    "    clb.ax.yaxis.get_offset_text().set_fontsize(14)\n",
    "    # clb.ax.yaxis.set_offset_position('right')\n",
    "    clb.ax.yaxis.get_offset_text().set_position((0,0))\n",
    "    clb.outline.set_linewidth(2.5)\n",
    "    clb.update_ticks()\n",
    "    clb.ax.set_ylabel('Elements per pixel', size=16, path_effects=pe2, labelpad=-2)\n",
    "    ax1.set_xlim(left=AB_lims_x[0], right=AB_lims_x[1])\n",
    "    ax1.set_ylim(bottom=AB_lims_y[0], top=AB_lims_y[1])\n",
    "    ax1.legend(loc=2, fontsize=14, ncol=3, columnspacing=.5, handletextpad=0.2, handlelength=0.8)\n",
    "\n",
    "# vega_shift     = {'W1mproPM': 2.699, 'W2mproPM': 3.339, 'W1mag': 2.699, 'W2mag': 3.339, 'W3mag': 5.174,\\\n",
    "#                   'W4mag': 6.620, 'Jmag': 0.910, 'Hmag': 1.390, 'Kmag': 1.850, 'gmag': 0.4810,\\\n",
    "#                     'rmag': 0.6170, 'imag': 0.7520, 'zmag': 0.8660, 'ymag': 0.9620}\n",
    "\n",
    "# Colorbar density\n",
    "if dens_clb_in:\n",
    "    axins0 = inset_axes(ax1, width='100%', height='100%', bbox_transform=ax1.transAxes,\\\n",
    "                        loc=1, bbox_to_anchor=(0.9, 0.15, 0.05, 0.80), borderpad=0)\n",
    "    \n",
    "    clb_dens    = fig.colorbar(dens_CW_HETDEX, cax=axins0, orientation='vertical',\\\n",
    "                     cmap=plt.get_cmap(cmap_dens, num_levels_dens), norm=norm_dens, extend='max')\n",
    "    axins0.yaxis.set_ticks_position('left')\n",
    "    clb_dens.ax.tick_params(labelsize=14)\n",
    "    clb_dens.outline.set_linewidth(2.5)\n",
    "    # clb_dens.ax.set_ylabel('Elements per pixel', size=12, path_effects=pe2)\n",
    "##\n",
    "\n",
    "# Colorbar contour\n",
    "# axins1 = inset_axes(ax1, width='100%', height='100%', bbox_transform=ax1.transAxes,\\\n",
    "#                     loc=3, bbox_to_anchor=(0.06, 0.07, 0.80, 0.05), borderpad=0)\n",
    "# sm = plt.cm.ScalarMappable(norm=norm_cont, cmap=cont_HETDEX.cmap)\n",
    "# sm.set_array([])\n",
    "# clb_cont    = fig.colorbar(sm, cax=axins1, orientation='horizontal', ticks=cont_HETDEX.levels)\n",
    "# axins1.xaxis.set_ticks_position('bottom')\n",
    "# clb_cont.ax.tick_params(labelsize=14)\n",
    "# clb_cont.outline.set_linewidth(2.5)\n",
    "##\n",
    "\n",
    "ax1.set_xlim(AB_lims_x)\n",
    "ax1.set_ylim(AB_lims_y)\n",
    "\n",
    "x_Vega   = np.array(AB_lims_x) - 0.617 + 0.866  # Vega\n",
    "y_Vega   = np.array(AB_lims_y) - 2.699 + 3.339  # Vega\n",
    "# Blecha+2018\n",
    "points_B18 = np.array([[-0.5, -0.5, 1.6, 1.6], [y_Vega[-1], 0.1, 0.9, y_Vega[-1]]])\n",
    "ax1.plot(points_B18[0] + 0.617 - 0.866, points_B18[1] + 2.699 - 3.339,\n",
    "         label='This work', c=plt.get_cmap(cmap_agn)(0.75), zorder=2, lw=3)\n",
    "\n",
    "ax2 = ax1.twinx()\n",
    "ax2.set_ylim(tuple(np.array(ax1.get_ylim()) - 2.699 + 3.339))\n",
    "ax2.tick_params(which='both', top=False, right=True, direction='in')\n",
    "ax2.tick_params(which='both', bottom=False, left=False, direction='in')\n",
    "ax2.tick_params(axis='both', which='major', labelsize=16)\n",
    "ax2.tick_params(which='major', length=8, width=1.5)\n",
    "ax2.tick_params(which='minor', length=4, width=1.5)\n",
    "ax2.set_ylabel('$m_{\\mathrm{W1}} - m_{\\mathrm{W2}}\\, \\mathrm{[Vega]}$', size=20)\n",
    "\n",
    "ax3 = ax1.twiny()\n",
    "ax3.set_xlim(tuple(np.array(ax1.get_xlim()) - 0.617 + 0.866))\n",
    "ax3.tick_params(which='both', top=True, right=False, direction='in')\n",
    "ax3.tick_params(which='both', bottom=False, left=False, direction='in')\n",
    "ax3.tick_params(axis='both', which='major', labelsize=16)\n",
    "ax3.tick_params(which='major', length=8, width=1.5)\n",
    "ax3.tick_params(which='minor', length=4, width=1.5)\n",
    "ax3.set_xlabel('$m_{\\mathrm{r}} - m_{\\mathrm{z}}\\, \\mathrm{[Vega]}$', size=20)\n",
    "\n",
    "ax1.tick_params(which='both', top=False, right=False, direction='in')\n",
    "ax1.tick_params(axis='both', which='major', labelsize=16)\n",
    "ax1.tick_params(which='major', length=8, width=1.5)\n",
    "ax1.tick_params(which='minor', length=4, width=1.5)\n",
    "ax1.set_xlabel('$m_{\\mathrm{r}} - m_{\\mathrm{z}}\\, \\mathrm{[AB]}$', size=20)\n",
    "ax1.set_ylabel('$m_{\\mathrm{W1}} - m_{\\mathrm{W2}}\\, \\mathrm{[AB]}$', size=20)\n",
    "plt.setp(ax1.spines.values(), linewidth=3.5)\n",
    "plt.setp(ax1.spines.values(), linewidth=3.5)\n",
    "ax1.legend(loc=2, fontsize=12, ncol=1, columnspacing=.5, handletextpad=0.2, handlelength=0.8, framealpha=0.95)\n",
    "plt.tight_layout()\n",
    "if save_plot_flag:\n",
    "    plt.savefig(gv.plots_path + f'r_z_W1_W2_pred_AGN_gal_HETDEX_{HETDEX_subset}{imp_string}.pdf', bbox_inches='tight')\n",
    "plt.show()"
   ]
  },
  {
   "cell_type": "code",
   "execution_count": null,
   "id": "58958d53",
   "metadata": {},
   "outputs": [],
   "source": []
  },
  {
   "cell_type": "code",
   "execution_count": null,
   "id": "5fa3e2f6",
   "metadata": {},
   "outputs": [],
   "source": []
  },
  {
   "cell_type": "code",
   "execution_count": null,
   "id": "a4527ea1",
   "metadata": {},
   "outputs": [],
   "source": []
  },
  {
   "cell_type": "code",
   "execution_count": null,
   "id": "6f72039c",
   "metadata": {},
   "outputs": [],
   "source": []
  }
 ],
 "metadata": {
  "kernelspec": {
   "display_name": "Python 3 (ipykernel)",
   "language": "python",
   "name": "python3"
  },
  "language_info": {
   "codemirror_mode": {
    "name": "ipython",
    "version": 3
   },
   "file_extension": ".py",
   "mimetype": "text/x-python",
   "name": "python",
   "nbconvert_exporter": "python",
   "pygments_lexer": "ipython3",
   "version": "3.8.16"
  },
  "vscode": {
   "interpreter": {
    "hash": "1d7c94ac87c57432169d0bc24ce250f6f2e77b44a3b95192eb5ace62cff26777"
   }
  }
 },
 "nbformat": 4,
 "nbformat_minor": 5
}
