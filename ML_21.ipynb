{
 "cells": [
  {
   "cell_type": "markdown",
   "id": "a19841fd",
   "metadata": {},
   "source": [
    "# Pipeline for High-z Radio Galaxies 21: Analysis of predictions. Scores and Metrics"
   ]
  },
  {
   "cell_type": "code",
   "execution_count": 1,
   "id": "72b75aa2",
   "metadata": {},
   "outputs": [],
   "source": [
    "%matplotlib inline\n",
    "# Static plots\n",
    "#%matplotlib ipympl\n",
    "# Interactive plots\n",
    "import copy\n",
    "import numpy as np\n",
    "import matplotlib as mpl\n",
    "import matplotlib.cm as cm\n",
    "import matplotlib.pyplot as plt\n",
    "import matplotlib.colors as mcolors\n",
    "import matplotlib.patheffects as mpe\n",
    "import sklearn.pipeline\n",
    "import colorcet as cc\n",
    "import cmasher as cmr\n",
    "from pycaret import classification as pyc\n",
    "from pycaret import regression as pyr\n",
    "import pandas as pd"
   ]
  },
  {
   "cell_type": "code",
   "execution_count": 2,
   "id": "e76fec0f",
   "metadata": {},
   "outputs": [],
   "source": [
    "mpl.rcdefaults()"
   ]
  },
  {
   "cell_type": "markdown",
   "id": "fdbc591e",
   "metadata": {},
   "source": [
    "Create path effects"
   ]
  },
  {
   "cell_type": "code",
   "execution_count": 3,
   "id": "70b38856",
   "metadata": {},
   "outputs": [],
   "source": [
    "pe1            = [mpe.Stroke(linewidth=5.0, foreground='black'),\n",
    "                  mpe.Stroke(foreground='white', alpha=1),\n",
    "                  mpe.Normal()]\n",
    "pe2            = [mpe.Stroke(linewidth=3.0, foreground='white'),\n",
    "                  mpe.Stroke(foreground='white', alpha=1),\n",
    "                  mpe.Normal()]"
   ]
  },
  {
   "cell_type": "markdown",
   "id": "61fd881c",
   "metadata": {},
   "source": [
    "Define specific metrics for redshift values."
   ]
  },
  {
   "cell_type": "code",
   "execution_count": 4,
   "id": "b9c7f357",
   "metadata": {
    "tags": []
   },
   "outputs": [],
   "source": [
    "def sigma_mad(z_true, z_pred, **kwargs):\n",
    "    med = np.nanmedian(np.abs(z_true - z_pred)).astype('float32')\n",
    "    return 1.48 * med"
   ]
  },
  {
   "cell_type": "code",
   "execution_count": 5,
   "id": "0ce045d0",
   "metadata": {
    "tags": []
   },
   "outputs": [],
   "source": [
    "def sigma_nmad(z_true, z_pred, **kwargs):\n",
    "    dif  = (z_true - z_pred)\n",
    "    frac = dif / (1 + z_true).values\n",
    "    med  = np.nanmedian(np.abs(frac)).astype('float32')\n",
    "    return 1.48 * med"
   ]
  },
  {
   "cell_type": "code",
   "execution_count": 6,
   "id": "0e923300",
   "metadata": {
    "tags": []
   },
   "outputs": [],
   "source": [
    "def sigma_z(z_true, z_pred, **kwargs):\n",
    "    dif = z_true - z_pred\n",
    "    ssq = np.sum(dif**2)\n",
    "    rot = np.sqrt(ssq / len(z_true)).astype('float32')\n",
    "    return rot"
   ]
  },
  {
   "cell_type": "code",
   "execution_count": 7,
   "id": "c8b84624",
   "metadata": {
    "tags": []
   },
   "outputs": [],
   "source": [
    "def sigma_z_norm(z_true, z_pred, **kwargs):\n",
    "    dif = (z_true - z_pred) / (1 + z_true)\n",
    "    ssq = np.sum(dif**2)\n",
    "    rot = np.sqrt(ssq / len(z_true)).astype('float32')\n",
    "    return rot"
   ]
  },
  {
   "cell_type": "code",
   "execution_count": 8,
   "id": "ab32bc1b",
   "metadata": {
    "tags": []
   },
   "outputs": [],
   "source": [
    "def outlier_frac(z_true, z_pred, **kwargs):\n",
    "    dif  = np.abs((z_true - z_pred) / (1 + z_true))\n",
    "    siz  = np.sum(np.isfinite(dif)).astype('float32')\n",
    "    num  = np.sum(np.array(dif > 0.15)).astype('float32')\n",
    "    frac = num / siz\n",
    "    return frac"
   ]
  },
  {
   "cell_type": "markdown",
   "id": "a38b67e4",
   "metadata": {},
   "source": [
    "Methods for the use of values in Confusion Matrices."
   ]
  },
  {
   "cell_type": "code",
   "execution_count": 9,
   "id": "af7c1af0",
   "metadata": {
    "tags": []
   },
   "outputs": [],
   "source": [
    "def MCC_from_CM(cm_array):  # Matthews correlation coefficient\n",
    "    TN, FP, FN, TP = cm_array.flatten().astype('float32')\n",
    "    MCC = ((TP * TN) - (FP * FN)) / np.sqrt((TP + FP) * (TP + FN) * (TN + FP) * (TN + FN))\n",
    "    return MCC"
   ]
  },
  {
   "cell_type": "code",
   "execution_count": 10,
   "id": "100e0b3e",
   "metadata": {
    "tags": []
   },
   "outputs": [],
   "source": [
    "def ACC_from_CM(cm_array):  # Accuracy\n",
    "    TN, FP, FN, TP = cm_array.flatten().astype('float32')\n",
    "    ACC = (TP + TN) / (TP + TN + FP + FN)\n",
    "    return ACC"
   ]
  },
  {
   "cell_type": "code",
   "execution_count": 11,
   "id": "f574fd24",
   "metadata": {
    "tags": []
   },
   "outputs": [],
   "source": [
    "def F1_from_CM(cm_array):  # F-1 score\n",
    "    TN, FP, FN, TP = cm_array.flatten().astype('float32')\n",
    "    F1 = 2 * TP / (2 * TP + FP + FN)\n",
    "    return F1"
   ]
  },
  {
   "cell_type": "code",
   "execution_count": 12,
   "id": "44e6c3da",
   "metadata": {
    "tags": []
   },
   "outputs": [],
   "source": [
    "def Recall_from_CM(cm_array):  # Recall\n",
    "    TN, FP, FN, TP = cm_array.flatten().astype('float32')\n",
    "    Recall = TP / (TP + FN)\n",
    "    return Recall"
   ]
  },
  {
   "cell_type": "markdown",
   "id": "2a78d8da",
   "metadata": {},
   "source": [
    "Method to plot confusion matrix"
   ]
  },
  {
   "cell_type": "code",
   "execution_count": 13,
   "id": "179ddf3c",
   "metadata": {
    "jupyter": {
     "source_hidden": true
    },
    "tags": []
   },
   "outputs": [],
   "source": [
    "def plot_conf_mat(confusion_matrix, title, axin, display_labels=['Non true', 'True'], cmap='cet_dimgray_r', show_clb=False, log_stretch=False):\n",
    "    disp = ConfusionMatrixDisplay(confusion_matrix=confusion_matrix, display_labels=display_labels)\n",
    "\n",
    "    min_val_colour = np.nanmin(confusion_matrix)\n",
    "    max_val_colour = np.nanmin(confusion_matrix)\n",
    "    \n",
    "    if log_stretch:\n",
    "        norm = ImageNormalize(stretch=LogStretch())\n",
    "    if not log_stretch:\n",
    "        norm = ImageNormalize()\n",
    "\n",
    "    # NOTE: Fill all variables here with default values of the plot_confusion_matrix\n",
    "    disp_b = disp.plot(include_values=True, cmap=cm.get_cmap(cmap),\\\n",
    "             ax=axin, xticks_rotation='horizontal', values_format=',')\n",
    "\n",
    "    for text_val in disp_b.text_.flatten():\n",
    "        text_val.set_fontsize(28)\n",
    "    clb = plt.gca().images[-1].colorbar\n",
    "    clb.ax.tick_params(labelsize=14)\n",
    "    clb.ax.ticklabel_format(style='sci', scilimits=(0, 0))\n",
    "    clb.outline.set_linewidth(2.5)\n",
    "    clb.ax.set_ylabel('Elements in bin', size=14)\n",
    "    if not show_clb:\n",
    "        clb.remove()\n",
    "\n",
    "    # disp_b.im_.set_clim(1e2, 3e3)\n",
    "    disp_b.im_.norm = norm\n",
    "\n",
    "    axin.xaxis.get_label().set_fontsize(16)\n",
    "    axin.yaxis.get_label().set_fontsize(16)\n",
    "\n",
    "    axin.tick_params(axis='both', which='major', labelsize=14)\n",
    "\n",
    "    plt.setp(axin.spines.values(), linewidth=2.5)\n",
    "    plt.setp(axin.spines.values(), linewidth=2.5)\n",
    "    axin.set_title(title)\n",
    "    plt.tight_layout()"
   ]
  },
  {
   "cell_type": "markdown",
   "id": "bf5afd40",
   "metadata": {},
   "source": [
    "Method to plot predicted and true redshift values"
   ]
  },
  {
   "cell_type": "code",
   "execution_count": 14,
   "id": "417e96f6",
   "metadata": {
    "tags": []
   },
   "outputs": [],
   "source": [
    "def plot_redshift_compare(true_z, predicted_z, ax_pre, title=None, dpi=10, cmap='cet_linear_kryw_5_100_c64_r', show_clb=False, log_stretch=False):\n",
    "    if log_stretch:\n",
    "        norm = ImageNormalize(vmin=0., stretch=LogStretch())\n",
    "    if not log_stretch:\n",
    "        norm = ImageNormalize(vmin=0., stretch=PowerStretch(1.1))\n",
    "\n",
    "    filt_pair_z   = np.isfinite(true_z) & np.isfinite(predicted_z)\n",
    "    max_for_range = np.nanmax([np.nanmax(1 + true_z.loc[filt_pair_z]), np.nanmax(1 + predicted_z.loc[filt_pair_z])])\n",
    "\n",
    "    dens_1 = ax_pre.scatter_density((1 + true_z.sample(frac=1, random_state=seed)),\\\n",
    "            (1 + predicted_z.sample(frac=1, random_state=seed)),\\\n",
    "            cmap=plt.get_cmap(cmap), zorder=0, dpi=dpi, norm=norm, alpha=0.93)\n",
    "    \n",
    "    ax_pre.axline((2., 2.), (3., 3.), ls='--', marker=None, c='Gray', alpha=0.8, lw=3.0, zorder=20)\n",
    "    ax_pre.axline(xy1=(1., 1.15), xy2=(2., 2.3), ls='-.', marker=None, c='slateblue', alpha=0.6, lw=3.0, zorder=20)\n",
    "    ax_pre.axline(xy1=(1., 0.85), xy2=(2., 1.7), ls='-.', marker=None, c='slateblue', alpha=0.6, lw=3.0, zorder=20)\n",
    "\n",
    "    if show_clb:\n",
    "        clb = plt.colorbar(dens_1, extend='neither', norm=norm, ticks=ticker.MaxNLocator(integer=True))\n",
    "        clb.ax.tick_params(labelsize=14)\n",
    "        clb.outline.set_linewidth(2.5)\n",
    "        clb.ax.set_ylabel('Elements per pixel', size=16, path_effects=pe2)\n",
    "\n",
    "    # Inset axis with residuals\n",
    "    axins = inset_axes(ax_pre, width='35%', height='20%', loc=2)\n",
    "    res_z_z = (predicted_z - true_z) / (1 + true_z)\n",
    "    axins.hist(res_z_z, histtype='stepfilled', fc='grey', ec='k', bins=50, lw=2.5)\n",
    "    axins.axvline(x=np.nanpercentile(res_z_z, [15.9]), ls='--', lw=2.5, c='royalblue')\n",
    "    axins.axvline(x=np.nanpercentile(res_z_z, [84.1]), ls='--', lw=2.5, c='royalblue')\n",
    "    axins.set_xlabel('$\\Delta z / (1 + z_{\\mathrm{True}})$', fontsize=10)\n",
    "    axins.tick_params(labelleft=False, labelbottom=True)\n",
    "    axins.tick_params(which='both', top=True, right=True, direction='in')\n",
    "    axins.tick_params(axis='both', which='major', labelsize=10)\n",
    "    axins.tick_params(which='major', length=8, width=1.5)\n",
    "    axins.tick_params(which='minor', length=4, width=1.5)\n",
    "    plt.setp(axins.spines.values(), linewidth=2.5)\n",
    "    plt.setp(axins.spines.values(), linewidth=2.5)\n",
    "    axins.set_xlim(left=-0.9, right=0.9)\n",
    "    ##\n",
    "    ax_pre.set_xlabel('$1 + z_{\\mathrm{True}}$', fontsize=20)\n",
    "    ax_pre.set_ylabel('$1 + z_{\\mathrm{Predicted}}$', fontsize=20)\n",
    "    ax_pre.tick_params(which='both', top=True, right=True, direction='in')\n",
    "    ax_pre.tick_params(axis='both', which='minor', labelsize=14)\n",
    "    ax_pre.tick_params(which='major', length=8, width=1.5)\n",
    "    ax_pre.tick_params(which='minor', length=4, width=1.5)\n",
    "    # ax_pre.xaxis.set_major_locator(ticker.MaxNLocator(integer=True))\n",
    "    # ax_pre.yaxis.set_major_locator(ticker.MaxNLocator(integer=True))\n",
    "    ax_pre.xaxis.set_minor_formatter(ticker.ScalarFormatter(useMathText=False))\n",
    "    ax_pre.yaxis.set_minor_formatter(ticker.ScalarFormatter(useMathText=False))\n",
    "    plt.setp(ax_pre.spines.values(), linewidth=2.5)\n",
    "    plt.setp(ax_pre.spines.values(), linewidth=2.5)\n",
    "    ax_pre.set_xlim(left=1., right=np.ceil(max_for_range))\n",
    "    ax_pre.set_ylim(bottom=1., top=np.ceil(max_for_range))\n",
    "    ax_pre.set_title(title)\n",
    "    plt.tight_layout()"
   ]
  },
  {
   "cell_type": "markdown",
   "id": "e4b2fdf2",
   "metadata": {},
   "source": [
    "Method to plot metrics over redshift"
   ]
  },
  {
   "cell_type": "code",
   "execution_count": 94,
   "id": "bd2d3eff",
   "metadata": {},
   "outputs": [],
   "source": [
    "def plot_metric_over_z(z_range, metric_range, name_metric, ax_pre, title=None, color=plt.get_cmap('cmr.redshift')(0.8)):\n",
    "    ax_pre.plot(z_range, metric_range, color=color, zorder=0, alpha=0.93, marker='o', ls='-', lw=2.5)\n",
    "    ##\n",
    "    ax_pre.set_xlabel('$z_{\\mathrm{True}}$', fontsize=20)\n",
    "    ax_pre.set_ylabel(f'$\\mathrm{{{name_metric}}} (\\geq z)$', fontsize=20)\n",
    "    ax_pre.tick_params(which='both', top=True, right=True, direction='in')\n",
    "    ax_pre.tick_params(axis='both', which='major', labelsize=16)\n",
    "    ax_pre.tick_params(which='major', length=8, width=1.5)\n",
    "    ax_pre.tick_params(which='minor', length=4, width=1.5)\n",
    "    plt.setp(ax_pre.spines.values(), linewidth=2.5)\n",
    "    plt.setp(ax_pre.spines.values(), linewidth=2.5)\n",
    "    ax_pre.set_title(title)\n",
    "    plt.tight_layout()"
   ]
  },
  {
   "cell_type": "markdown",
   "id": "ac7adf0e",
   "metadata": {},
   "source": [
    "Methods for Pycaret"
   ]
  },
  {
   "cell_type": "code",
   "execution_count": 15,
   "id": "00af65b1",
   "metadata": {},
   "outputs": [],
   "source": [
    "def get_final_column_names(pycaret_pipeline, sample_df):\n",
    "    if isinstance(pycaret_pipeline, sklearn.pipeline.Pipeline):\n",
    "        for (name, method) in pycaret_pipeline.named_steps.items():\n",
    "            if method != 'passthrough' and name != 'trained_model':\n",
    "                print(f'Running {name}')\n",
    "                sample_df = method.transform(sample_df)\n",
    "        return sample_df.columns.tolist()\n",
    "    else:\n",
    "        try:\n",
    "            for (name, method) in pyr.get_config('prep_pipe').named_steps.items():\n",
    "                if method != 'passthrough' and name != 'trained_model':\n",
    "                    print(f'Running {name}')\n",
    "                    sample_df = method.transform(sample_df)\n",
    "            return sample_df.columns.tolist()\n",
    "        except:\n",
    "            for (name, method) in pyc.get_config('prep_pipe').named_steps.items():\n",
    "                if method != 'passthrough' and name != 'trained_model':\n",
    "                    print(f'Running {name}')\n",
    "                    sample_df = method.transform(sample_df)\n",
    "            return sample_df.columns.tolist()"
   ]
  },
  {
   "cell_type": "code",
   "execution_count": 16,
   "id": "1570ed41",
   "metadata": {},
   "outputs": [],
   "source": [
    "def get_base_estimators_names(pycaret_pipeline):\n",
    "    if isinstance(pycaret_pipeline, sklearn.pipeline.Pipeline):\n",
    "        estimators  = pycaret_pipeline['trained_model'].estimators\n",
    "    else:\n",
    "        estimators  = pycaret_pipeline.estimators\n",
    "\n",
    "    estimators_list = [estimator[0] for estimator in estimators]\n",
    "    return estimators_list"
   ]
  },
  {
   "cell_type": "markdown",
   "id": "efd6e8df",
   "metadata": {},
   "source": [
    "---"
   ]
  },
  {
   "cell_type": "code",
   "execution_count": 17,
   "id": "e564d024",
   "metadata": {},
   "outputs": [],
   "source": [
    "save_plot_flag      = False\n",
    "load_models_flag    = True\n",
    "use_second_z_model  = True"
   ]
  },
  {
   "cell_type": "markdown",
   "id": "bdd682d8",
   "metadata": {},
   "source": [
    "### Load data"
   ]
  },
  {
   "cell_type": "code",
   "execution_count": 18,
   "id": "52d89502",
   "metadata": {},
   "outputs": [],
   "source": [
    "cat_path            = '../../Catalogs/'  # relative path to the same directory"
   ]
  },
  {
   "cell_type": "code",
   "execution_count": 19,
   "id": "239871d8",
   "metadata": {},
   "outputs": [],
   "source": [
    "used_area           = 'S82'  # can be 'S82', 'HETDEX', 'COSMOS' "
   ]
  },
  {
   "cell_type": "code",
   "execution_count": 20,
   "id": "cc9a3504",
   "metadata": {},
   "outputs": [],
   "source": [
    "file_S82            = 'CatWISE2020_S82_VLASS_VLAS82_PS1_GALEX_TGSS_XMM_2MASS_MILLIQUAS_7_4d_ALLWISE_SDSS_DR16_5sigma_imp.h5'\n",
    "file_HETDEX         = 'CatWISE2020_VLASS_LOFAR_PS1_GALEX_TGSS_XMM_2MASS_MILLIQUAS_7_4d_ALLWISE_LOLSS_SDSS_DR16_5sigma_imp.h5'\n",
    "file_COSMOS         = 'CatWISE2020_COSMOS_MILLIQUAS_7_4d_COSMOSVLA3_PS1_GALEX_TGSS_VLASS_XMM_2MASS_ALLWISE_SDSS_DR16_5sigma_imp.h5'\n",
    "\n",
    "file_name_dict      = {'S82': file_S82, 'HETDEX': file_HETDEX, 'COSMOS': file_COSMOS}\n",
    "file_name           = file_name_dict[used_area]"
   ]
  },
  {
   "cell_type": "code",
   "execution_count": 21,
   "id": "40036358",
   "metadata": {
    "jupyter": {
     "source_hidden": true
    }
   },
   "outputs": [],
   "source": [
    "feats_2_disc_S82    = ['objID', 'RA_MILLI', 'DEC_MILLI', 'X_ray_detect', 'Total_flux_VLASS',\\\n",
    "                     'Fint_VLAS82', 'Stotal_TGSS', 'FEP', 'W1mag', 'W2mag']\n",
    "feats_2_disc_HETDEX = ['objID', 'RA_MILLI', 'DEC_MILLI', 'X_ray_detect', 'Total_flux_VLASS',\\\n",
    "                     'Sint_LOFAR', 'Stotal_TGSS', 'FEP', 'TotalFlux_LoLSS', 'W1mag', 'W2mag']\n",
    "feats_2_disc_COSMOS = ['objID', 'RA_MILLI', 'DEC_MILLI', 'X_ray_detect', 'Total_flux_VLASS',\\\n",
    "                     'Stotal_TGSS', 'FEP', 'Flux_COSMOSVLA3', 'W1mag', 'W2mag']\n",
    "\n",
    "feats_2_disc        = {'S82': feats_2_disc_S82, 'HETDEX': feats_2_disc_HETDEX, 'COSMOS': feats_2_disc_COSMOS}\n",
    "features_2_discard  = feats_2_disc[used_area]"
   ]
  },
  {
   "cell_type": "code",
   "execution_count": 22,
   "id": "12eb26ed",
   "metadata": {},
   "outputs": [],
   "source": [
    "full_catalog_df     = pd.read_hdf(cat_path + file_name, key='df').drop(columns=features_2_discard)"
   ]
  },
  {
   "cell_type": "code",
   "execution_count": 23,
   "id": "5c30c434",
   "metadata": {},
   "outputs": [
    {
     "name": "stdout",
     "output_type": "stream",
     "text": [
      "<class 'pandas.core.frame.DataFrame'>\n",
      "Int64Index: 369093 entries, 0 to 369092\n",
      "Data columns (total 48 columns):\n",
      " #   Column        Non-Null Count   Dtype  \n",
      "---  ------        --------------   -----  \n",
      " 0   RA_ICRS       369093 non-null  float32\n",
      " 1   DE_ICRS       369093 non-null  float32\n",
      " 2   Name          369093 non-null  object \n",
      " 3   TYPE          369093 non-null  object \n",
      " 4   Z             2930 non-null    float32\n",
      " 5   zsp           665 non-null     float32\n",
      " 6   band_num      369093 non-null  int64  \n",
      " 7   radio_detect  369093 non-null  bool   \n",
      " 8   is_AGN        369093 non-null  int64  \n",
      " 9   is_SDSS_gal   369093 non-null  int64  \n",
      " 10  is_gal        369093 non-null  int64  \n",
      " 11  W1mproPM      369093 non-null  float32\n",
      " 12  W2mproPM      369093 non-null  float32\n",
      " 13  gmag          369093 non-null  float32\n",
      " 14  rmag          369093 non-null  float32\n",
      " 15  imag          369093 non-null  float32\n",
      " 16  zmag          369093 non-null  float32\n",
      " 17  ymag          369093 non-null  float32\n",
      " 18  FUVmag        369093 non-null  float32\n",
      " 19  NUVmag        369093 non-null  float32\n",
      " 20  Jmag          369093 non-null  float32\n",
      " 21  Hmag          369093 non-null  float32\n",
      " 22  Kmag          369093 non-null  float32\n",
      " 23  W3mag         369093 non-null  float32\n",
      " 24  W4mag         369093 non-null  float32\n",
      " 25  g_r           369093 non-null  float32\n",
      " 26  r_i           369093 non-null  float32\n",
      " 27  i_z           369093 non-null  float32\n",
      " 28  z_y           369093 non-null  float32\n",
      " 29  g_i           369093 non-null  float32\n",
      " 30  w1_w2         369093 non-null  float32\n",
      " 31  w2_w3         369093 non-null  float32\n",
      " 32  w3_w4         369093 non-null  float32\n",
      " 33  J_H           369093 non-null  float32\n",
      " 34  H_K           369093 non-null  float32\n",
      " 35  FUV_NUV       369093 non-null  float32\n",
      " 36  r/z           369093 non-null  float32\n",
      " 37  i/y           369093 non-null  float32\n",
      " 38  w1/w3         369093 non-null  float32\n",
      " 39  w1/w4         369093 non-null  float32\n",
      " 40  w2/w4         369093 non-null  float32\n",
      " 41  J/K           369093 non-null  float32\n",
      " 42  FUV/K         369093 non-null  float32\n",
      " 43  g/J           369093 non-null  float32\n",
      " 44  r/H           369093 non-null  float32\n",
      " 45  i/K           369093 non-null  float32\n",
      " 46  z/W1          369093 non-null  float32\n",
      " 47  y/W2          369093 non-null  float32\n",
      "dtypes: bool(1), float32(41), int64(4), object(2)\n",
      "memory usage: 77.8+ MB\n"
     ]
    }
   ],
   "source": [
    "full_catalog_df.info()"
   ]
  },
  {
   "cell_type": "markdown",
   "id": "7e783b81",
   "metadata": {},
   "source": [
    "Create features with class and combined redshift."
   ]
  },
  {
   "cell_type": "code",
   "execution_count": 24,
   "id": "0735525c",
   "metadata": {},
   "outputs": [],
   "source": [
    "full_catalog_df['class']            = full_catalog_df.loc[:, 'is_AGN'].copy()\n",
    "filter_non_confirmed                = np.array(full_catalog_df.loc[:, 'is_AGN'] == 1) | np.array(full_catalog_df.loc[:, 'is_gal'] == 1)\n",
    "full_catalog_df.loc[~filter_non_confirmed, 'class'] = 0.5\n",
    "idx_non_Z                           = full_catalog_df.loc[:, 'Z'].where(full_catalog_df.loc[:, 'Z'] > 0).isna()\n",
    "full_catalog_df.loc[idx_non_Z, 'Z'] = full_catalog_df.loc[:, 'Z'].mask(idx_non_Z, full_catalog_df.loc[idx_non_Z, 'zsp'])"
   ]
  },
  {
   "cell_type": "code",
   "execution_count": 25,
   "id": "e87fc8b5",
   "metadata": {},
   "outputs": [],
   "source": [
    "full_catalog_df['radio_AGN']        = np.array(full_catalog_df.loc[:, 'is_AGN'] == 1) & np.array(full_catalog_df.loc[:, 'radio_detect'] == 1)"
   ]
  },
  {
   "cell_type": "code",
   "execution_count": 26,
   "id": "fd0ce43d",
   "metadata": {},
   "outputs": [],
   "source": [
    "full_catalog_df                     = full_catalog_df.drop(columns=['is_AGN', 'is_SDSS_gal', 'is_gal', 'zsp'])"
   ]
  },
  {
   "cell_type": "markdown",
   "id": "586e1c70",
   "metadata": {},
   "source": [
    "##### Random seed"
   ]
  },
  {
   "cell_type": "code",
   "execution_count": 27,
   "id": "6729002c",
   "metadata": {},
   "outputs": [],
   "source": [
    "seed                                = 42"
   ]
  },
  {
   "cell_type": "markdown",
   "id": "b2e54064",
   "metadata": {},
   "source": [
    "### Load models"
   ]
  },
  {
   "cell_type": "code",
   "execution_count": 28,
   "id": "8a7c8189",
   "metadata": {},
   "outputs": [
    {
     "name": "stdout",
     "output_type": "stream",
     "text": [
      "Transformation Pipeline and Model Successfully Loaded\n",
      "Transformation Pipeline and Model Successfully Loaded\n",
      "Transformation Pipeline and Model Successfully Loaded\n",
      "Transformation Pipeline and Model Successfully Loaded\n"
     ]
    }
   ],
   "source": [
    "if load_models_flag:\n",
    "    AGN_gal_clf     = pyc.load_model('models/classification_AGN_galaxy_may_15_2022')\n",
    "    radio_det_clf   = pyc.load_model('models/classification_radio_detect_may_16_2022')\n",
    "    redshift_reg    = pyr.load_model('models/regression_z_may_17_2022')  # to use on full sample\n",
    "    if use_second_z_model:\n",
    "        redshift_reg_2  = pyr.load_model('models/regression_z_may_18_2022')  # to use on sources with predicted z >= 2"
   ]
  },
  {
   "cell_type": "code",
   "execution_count": 29,
   "id": "35d0b8a1",
   "metadata": {},
   "outputs": [],
   "source": [
    "threshold_AGN   = 0.5\n",
    "threshold_radio = 0.5"
   ]
  },
  {
   "cell_type": "markdown",
   "id": "65a06cda",
   "metadata": {},
   "source": [
    "Predictions"
   ]
  },
  {
   "cell_type": "code",
   "execution_count": 30,
   "id": "69039eda",
   "metadata": {},
   "outputs": [],
   "source": [
    "full_catalog_df = pyc.predict_model(AGN_gal_clf, data=full_catalog_df, probability_threshold=threshold_AGN, raw_score=True, round=8)\n",
    "full_catalog_df = full_catalog_df.drop(columns=['Score_0'])\n",
    "full_catalog_df = full_catalog_df.rename(columns={'Label': 'pred_class', 'Score_1': 'Score_AGN'})\n",
    "full_catalog_df.loc[:, 'Score_AGN'] = np.around(full_catalog_df.loc[:, 'Score_AGN'], decimals=6)"
   ]
  },
  {
   "cell_type": "code",
   "execution_count": 31,
   "id": "85b21cb1",
   "metadata": {},
   "outputs": [],
   "source": [
    "full_catalog_df = pyc.predict_model(radio_det_clf, data=full_catalog_df, probability_threshold=threshold_radio, raw_score=True, round=8)\n",
    "full_catalog_df = full_catalog_df.drop(columns=['Score_0'])\n",
    "full_catalog_df = full_catalog_df.rename(columns={'Label': 'pred_radio', 'Score_1': 'Score_radio'})\n",
    "full_catalog_df.loc[:, 'Score_radio'] = np.around(full_catalog_df.loc[:, 'Score_radio'], decimals=6)"
   ]
  },
  {
   "cell_type": "code",
   "execution_count": 32,
   "id": "b5e3fee7",
   "metadata": {},
   "outputs": [],
   "source": [
    "full_catalog_df = pyr.predict_model(redshift_reg, data=full_catalog_df, round=3)\n",
    "full_catalog_df = full_catalog_df.rename(columns={'Label': 'pred_Z'})\n",
    "full_catalog_df.loc[:, 'pred_Z'] = np.around(full_catalog_df.loc[:, 'pred_Z'], decimals=3)"
   ]
  },
  {
   "cell_type": "code",
   "execution_count": 33,
   "id": "e319d9d5",
   "metadata": {},
   "outputs": [],
   "source": [
    "redshift_lim    = 2.0\n",
    "redshift_tol    = 0.0\n",
    "if use_second_z_model:\n",
    "    full_catalog_df = pyr.predict_model(redshift_reg_2, data=full_catalog_df, round=3)\n",
    "    filter_pred_z   = full_catalog_df.loc[:, 'pred_Z'] >= (redshift_lim + redshift_tol)\n",
    "    full_catalog_df.loc[:, 'pred_Z'] = full_catalog_df.loc[:, 'pred_Z'].mask(filter_pred_z, full_catalog_df.loc[filter_pred_z, 'Label'])\n",
    "    full_catalog_df = full_catalog_df.drop(columns=['Label'])\n",
    "    full_catalog_df.loc[:, 'pred_Z'] = np.around(full_catalog_df.loc[:, 'pred_Z'], decimals=3)"
   ]
  },
  {
   "cell_type": "code",
   "execution_count": 34,
   "id": "5817681c",
   "metadata": {},
   "outputs": [],
   "source": [
    "full_catalog_df['pred_radio_AGN'] = np.array(full_catalog_df.loc[:, 'pred_class'] == 1) & np.array(full_catalog_df.loc[:, 'pred_radio'] == 1)"
   ]
  },
  {
   "cell_type": "markdown",
   "id": "e280e184",
   "metadata": {},
   "source": [
    "---"
   ]
  },
  {
   "cell_type": "markdown",
   "id": "05a97cf9",
   "metadata": {},
   "source": [
    "#### Confusion matrices"
   ]
  },
  {
   "cell_type": "code",
   "execution_count": 37,
   "id": "fc6c511d",
   "metadata": {},
   "outputs": [],
   "source": [
    "cm_AGN = np.array([[np.sum(np.array(full_catalog_df.loc[:, 'class'] == 0) & np.array(full_catalog_df.loc[:, 'pred_class'] == 0)),\\\n",
    "                    np.sum(np.array(full_catalog_df.loc[:, 'class'] == 0) & np.array(full_catalog_df.loc[:, 'pred_class'] == 1))],\\\n",
    "                   [np.sum(np.array(full_catalog_df.loc[:, 'class'] == 1) & np.array(full_catalog_df.loc[:, 'pred_class'] == 0)),\\\n",
    "                    np.sum(np.array(full_catalog_df.loc[:, 'class'] == 1) & np.array(full_catalog_df.loc[:, 'pred_class'] == 1))]])"
   ]
  },
  {
   "cell_type": "code",
   "execution_count": 39,
   "id": "e2170da9",
   "metadata": {},
   "outputs": [],
   "source": [
    "def conf_mat_AGN(true_class, predicted_class):\n",
    "    cm = np.array([[np.sum(np.array(true_class == 0) & np.array(predicted_class == 0)),\\\n",
    "                    np.sum(np.array(true_class == 0) & np.array(predicted_class == 1))],\\\n",
    "                   [np.sum(np.array(true_class == 1) & np.array(predicted_class == 0)),\\\n",
    "                    np.sum(np.array(true_class == 1) & np.array(predicted_class == 1))]])\n",
    "    return cm"
   ]
  },
  {
   "cell_type": "markdown",
   "id": "e3ca8796",
   "metadata": {},
   "source": [
    "---"
   ]
  },
  {
   "cell_type": "markdown",
   "id": "7dd4b40a",
   "metadata": {},
   "source": [
    "## Calculate and plot scores vs redshift values"
   ]
  },
  {
   "cell_type": "markdown",
   "id": "adca8ef6",
   "metadata": {},
   "source": [
    "Create redshift ranges, linear and logarithmic"
   ]
  },
  {
   "cell_type": "code",
   "execution_count": 71,
   "id": "1cc7285c",
   "metadata": {},
   "outputs": [],
   "source": [
    "n_elems     = 50\n",
    "z_range_lin = np.linspace(0, np.nanmax(full_catalog_df.loc[:, 'Z']), n_elems)\n",
    "z_range_log = np.logspace(np.log10(np.abs(np.nanmin(full_catalog_df.loc[:, 'Z']))),\\\n",
    "                          np.log10(np.abs(np.nanmax(full_catalog_df.loc[:, 'Z']))), n_elems)"
   ]
  },
  {
   "cell_type": "code",
   "execution_count": 72,
   "id": "f7afbf84",
   "metadata": {},
   "outputs": [],
   "source": [
    "def z_metric_in_z_ranges(data_set_df, z_col, z_range, metric_function, *metricArgs):\n",
    "    metric_output  = np.zeros_like(z_range)\n",
    "    true_vals      = metricArgs[0]\n",
    "    predicted_vals = metricArgs[1]\n",
    "    for count, z_thresh in enumerate(z_range):\n",
    "        filter_z             = data_set_df.loc[:, z_col] >= z_thresh\n",
    "        if np.sum(filter_z) == 0:\n",
    "            metric_output[count] = np.nan\n",
    "            continue\n",
    "        sub_set              = data_set_df.loc[data_set_df.loc[:, z_col] >= z_thresh]\n",
    "        metric_output[count] = metric_function(sub_set.loc[:, true_vals], sub_set.loc[:, predicted_vals])\n",
    "    return metric_output"
   ]
  },
  {
   "cell_type": "code",
   "execution_count": 73,
   "id": "84ed829f",
   "metadata": {},
   "outputs": [],
   "source": [
    "def class_metric_in_z_ranges(data_set_df, z_col, z_range, metric_function, *metricArgs):\n",
    "    metric_output   = np.zeros_like(z_range)\n",
    "    true_class      = metricArgs[0]\n",
    "    predicted_class = metricArgs[1]\n",
    "    for count, z_thresh in enumerate(z_range):\n",
    "        filter_z             = data_set_df.loc[:, z_col] >= z_thresh\n",
    "        if np.sum(filter_z) == 0:\n",
    "            metric_output[count] = np.nan\n",
    "            continue\n",
    "        sub_set              = data_set_df.loc[data_set_df.loc[:, z_col] >= z_thresh]\n",
    "        sub_cm               = conf_mat_AGN(sub_set.loc[:, true_class], sub_set.loc[:, predicted_class])\n",
    "        metric_output[count] = metric_function(sub_cm)\n",
    "    return metric_output"
   ]
  },
  {
   "cell_type": "code",
   "execution_count": 74,
   "id": "01dd552d",
   "metadata": {},
   "outputs": [],
   "source": [
    "F1_AGN_z_lin           = class_metric_in_z_ranges(full_catalog_df, 'Z', z_range_lin, F1_from_CM,     'class',        'pred_class')\n",
    "MCC_AGN_z_lin          = class_metric_in_z_ranges(full_catalog_df, 'Z', z_range_lin, MCC_from_CM,    'class',        'pred_class')\n",
    "Rec_AGN_z_lin          = class_metric_in_z_ranges(full_catalog_df, 'Z', z_range_lin, Recall_from_CM, 'class',        'pred_class')\n",
    "F1_radio_z_lin         = class_metric_in_z_ranges(full_catalog_df, 'Z', z_range_lin, F1_from_CM,     'radio_detect', 'pred_radio')\n",
    "MCC_radio_z_lin        = class_metric_in_z_ranges(full_catalog_df, 'Z', z_range_lin, MCC_from_CM,    'radio_detect', 'pred_radio')\n",
    "Rec_radio_z_lin        = class_metric_in_z_ranges(full_catalog_df, 'Z', z_range_lin, Recall_from_CM, 'radio_detect', 'pred_radio')\n",
    "s_MAD_z_z_lin          = z_metric_in_z_ranges(full_catalog_df,     'Z', z_range_lin, sigma_mad,      'Z',            'pred_Z')\n",
    "s_NMAD_z_z_lin         = z_metric_in_z_ranges(full_catalog_df,     'Z', z_range_lin, sigma_nmad,     'Z',            'pred_Z')\n",
    "sigma_z_z_z_lin        = z_metric_in_z_ranges(full_catalog_df,     'Z', z_range_lin, sigma_z,        'Z',            'pred_Z')\n",
    "sigma_z_N_z_z_lin      = z_metric_in_z_ranges(full_catalog_df,     'Z', z_range_lin, sigma_z_norm,   'Z',            'pred_Z')\n",
    "out_fr_z_z_lin         = z_metric_in_z_ranges(full_catalog_df,     'Z', z_range_lin, outlier_frac,   'Z',            'pred_Z')"
   ]
  },
  {
   "cell_type": "code",
   "execution_count": 75,
   "id": "b26b2fe6",
   "metadata": {},
   "outputs": [],
   "source": [
    "F1_AGN_z_log           = class_metric_in_z_ranges(full_catalog_df, 'Z', z_range_log, F1_from_CM,     'class',        'pred_class')\n",
    "MCC_AGN_z_log          = class_metric_in_z_ranges(full_catalog_df, 'Z', z_range_log, MCC_from_CM,    'class',        'pred_class')\n",
    "Rec_AGN_z_log          = class_metric_in_z_ranges(full_catalog_df, 'Z', z_range_log, Recall_from_CM, 'class',        'pred_class')\n",
    "F1_radio_z_log         = class_metric_in_z_ranges(full_catalog_df, 'Z', z_range_log, F1_from_CM,     'radio_detect', 'pred_radio')\n",
    "MCC_radio_z_log        = class_metric_in_z_ranges(full_catalog_df, 'Z', z_range_log, MCC_from_CM,    'radio_detect', 'pred_radio')\n",
    "Rec_radio_z_log        = class_metric_in_z_ranges(full_catalog_df, 'Z', z_range_log, Recall_from_CM, 'radio_detect', 'pred_radio')\n",
    "s_MAD_z_z_log          = z_metric_in_z_ranges(full_catalog_df,     'Z', z_range_log, sigma_mad,      'Z',            'pred_Z')\n",
    "s_NMAD_z_z_log         = z_metric_in_z_ranges(full_catalog_df,     'Z', z_range_log, sigma_nmad,     'Z',            'pred_Z')\n",
    "sigma_z_z_z_log        = z_metric_in_z_ranges(full_catalog_df,     'Z', z_range_log, sigma_z,        'Z',            'pred_Z')\n",
    "sigma_z_N_z_z_log      = z_metric_in_z_ranges(full_catalog_df,     'Z', z_range_log, sigma_z_norm,   'Z',            'pred_Z')\n",
    "out_fr_z_z_log         = z_metric_in_z_ranges(full_catalog_df,     'Z', z_range_log, outlier_frac,   'Z',            'pred_Z')"
   ]
  },
  {
   "cell_type": "code",
   "execution_count": 97,
   "id": "d733aea2",
   "metadata": {},
   "outputs": [
    {
     "data": {
      "image/png": "[encoded data removed]",
      "text/plain": [
       "<Figure size 600x500 with 1 Axes>"
      ]
     },
     "metadata": {},
     "output_type": "display_data"
    }
   ],
   "source": [
    "fig             = plt.figure(figsize=(6,5))\n",
    "ax1             = fig.add_subplot(111, xscale='linear', yscale='linear')\n",
    "plot_metric_over_z(z_range_lin, Rec_radio_z_lin, 'Radio Recall', ax1, title=None)\n",
    "if save_plot_flag:\n",
    "    plt.savefig(f'plots/{name_metric.replace(\" \", \"_\")}_redshift_{used_area}.pdf', bbox_inches='tight')\n",
    "plt.show()"
   ]
  },
  {
   "cell_type": "code",
   "execution_count": null,
   "id": "1ac442c5",
   "metadata": {},
   "outputs": [],
   "source": []
  }
 ],
 "metadata": {
  "kernelspec": {
   "display_name": "Python 3 (ipykernel)",
   "language": "python",
   "name": "python3"
  },
  "language_info": {
   "codemirror_mode": {
    "name": "ipython",
    "version": 3
   },
   "file_extension": ".py",
   "mimetype": "text/x-python",
   "name": "python",
   "nbconvert_exporter": "python",
   "pygments_lexer": "ipython3",
   "version": "3.8.13"
  }
 },
 "nbformat": 4,
 "nbformat_minor": 5
}
