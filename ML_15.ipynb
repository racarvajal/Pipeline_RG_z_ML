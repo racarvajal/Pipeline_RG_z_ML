{
 "cells": [
  {
   "cell_type": "markdown",
   "id": "beda6db5",
   "metadata": {
    "id": "c71fae7e-a4c4-4950-8c16-4a74a1e69482"
   },
   "source": [
    "# Pipeline for High-z Radio Galaxies 15: Radio detection classification with confirmed and predicted AGN"
   ]
  },
  {
   "cell_type": "markdown",
   "id": "3b7bda4b",
   "metadata": {
    "id": "714a7301-9b3d-4ad9-9659-b68cad4014c5"
   },
   "source": [
    "## Introduction"
   ]
  },
  {
   "cell_type": "markdown",
   "id": "67d15f11",
   "metadata": {
    "id": "dea6dd12-650e-4ab6-bae7-0268f78e7fea"
   },
   "source": [
    "Training for classification of sources with and without radio detection in the HETDEX field. \n",
    "\n",
    "Sources are all elements detected in the CatWISE2020 catalogue.  But classification  \n",
    "will be done with AGN from the Million Quasar Catalog (MQC) and those predicted  \n",
    "to be AGN by the initial Galaxy/AGN classification model (`ML_01.ipynb`).  \n",
    "\n",
    "Being either AGN or galaxy will be used as an additional feature."
   ]
  },
  {
   "cell_type": "markdown",
   "id": "89ee61cb",
   "metadata": {
    "id": "00a0aec8-0112-4728-a8fe-f99cdf05a33b"
   },
   "source": [
    "Training data is from HETDEX Spring Field."
   ]
  },
  {
   "cell_type": "code",
   "execution_count": 1,
   "id": "92c00b80",
   "metadata": {
    "id": "1161a2b6-ef8d-429d-8dea-40f0de36e393"
   },
   "outputs": [],
   "source": [
    "%matplotlib inline\n",
    "# Static plots\n",
    "#%matplotlib ipympl\n",
    "# Interactive plots\n",
    "import numpy as np\n",
    "import matplotlib as mpl\n",
    "import matplotlib.cm as cm\n",
    "import matplotlib.pyplot as plt\n",
    "import matplotlib.colors as mcolors\n",
    "import matplotlib.patheffects as mpe\n",
    "from astropy.visualization import LogStretch\n",
    "from astropy.visualization.mpl_normalize import ImageNormalize\n",
    "from sklearn.preprocessing import MinMaxScaler\n",
    "from sklearn.model_selection import train_test_split\n",
    "from sklearn.metrics import ConfusionMatrixDisplay, roc_auc_score, roc_curve, RocCurveDisplay, matthews_corrcoef\n",
    "from sklearn.calibration import calibration_curve\n",
    "import sklearn.pipeline\n",
    "import ppscore as pps\n",
    "import seaborn as sns\n",
    "import colorcet as cc\n",
    "from pycaret import classification as pyc\n",
    "# from pycaret import regression as pyr\n",
    "from pycaret.internal.tabular import _get_columns_to_stratify_by\n",
    "import pandas as pd"
   ]
  },
  {
   "cell_type": "code",
   "execution_count": 2,
   "id": "13981d4e",
   "metadata": {},
   "outputs": [],
   "source": [
    "mpl.rcdefaults()"
   ]
  },
  {
   "cell_type": "markdown",
   "id": "b20a459f",
   "metadata": {
    "id": "9647d74a-8d80-4d24-a2f4-023184fa27ac"
   },
   "source": [
    "Create class to normalize asymmetric colorscales  \n",
    "(from [http://chris35wills.github.io/matplotlib_diverging_colorbar/](http://chris35wills.github.io/matplotlib_diverging_colorbar/))."
   ]
  },
  {
   "cell_type": "code",
   "execution_count": 3,
   "id": "2b97c3f6",
   "metadata": {
    "id": "652a8557-e595-4861-af72-5d3220fb7620",
    "jupyter": {
     "source_hidden": true
    },
    "tags": []
   },
   "outputs": [],
   "source": [
    "class MidpointNormalize(mcolors.Normalize):\n",
    "    \"\"\"\n",
    "    Normalise the colorbar so that diverging bars work there way either side from a prescribed midpoint value)\n",
    "\n",
    "    e.g. im=ax1.imshow(array, norm=MidpointNormalize(midpoint=0.,vmin=-100, vmax=100))\n",
    "    \"\"\"\n",
    "    def __init__(self, vmin=None, vmax=None, midpoint=None, clip=False):\n",
    "        self.midpoint = midpoint\n",
    "        mcolors.Normalize.__init__(self, vmin, vmax, clip)\n",
    "\n",
    "    def __call__(self, value, clip=None):\n",
    "        # I'm ignoring masked values and all kinds of edge cases to make a\n",
    "        # simple example...\n",
    "        x, y = [self.vmin, self.midpoint, self.vmax], [0, 0.5, 1]\n",
    "        return np.ma.masked_array(np.interp(value, x, y), np.isnan(value))"
   ]
  },
  {
   "cell_type": "markdown",
   "id": "4c9041f1",
   "metadata": {
    "id": "0bc24aa0-581a-4c39-bc90-b18f85385e78"
   },
   "source": [
    "For future plots, we can configure their aspect too."
   ]
  },
  {
   "cell_type": "code",
   "execution_count": 4,
   "id": "1de7d8d4",
   "metadata": {
    "id": "cc05a86c-85e4-46e7-9b7f-f8ac4abd4ff2",
    "jupyter": {
     "source_hidden": true
    },
    "tags": []
   },
   "outputs": [],
   "source": [
    "cmap           = cm.get_cmap('inferno')\n",
    "cmap_alt       = cm.get_cmap('Dark2')\n",
    "cmap_alt_2     = cm.get_cmap('Greys_r')  # Shades of grey\n",
    "cmap_alt_3     = cm.get_cmap('coolwarm')  # blue to red\n",
    "dark_color     = cmap(0.4)  # RGBA color code\n",
    "light_color    = cmap(0.6)  # RGBA color code\n",
    "colors         = [cmap(0.15), cmap(0.30), cmap(0.45), cmap(0.60), cmap(0.75), cmap(0.90)]\n",
    "colors_3       = [cmap(0.25), cmap(0.50), cmap(0.75)]\n",
    "colors_3_alt   = [cmap_alt(0.25), cmap_alt(0.50), cmap_alt(0.75)]\n",
    "colors_3_alt_2 = [cmap_alt_2(0.25), cmap_alt_2(0.50), cmap_alt_2(0.75)]\n",
    "colors_8       = [cmap(0.12), cmap(0.24), cmap(0.35), cmap(0.48), cmap(0.6), cmap(0.72), cmap(0.84), cmap(0.96)]\n",
    "colors_8_alt   = [cmap_alt(0.12), cmap_alt(0.24), cmap_alt(0.35), cmap_alt(0.48), cmap_alt(0.6), cmap_alt(0.72),\\\n",
    "                  cmap_alt(0.84), cmap_alt(0.96)]\n",
    "colors_8_alt_2 = [cmap_alt_2(0.06), cmap_alt_2(0.18), cmap_alt_2(0.29), cmap_alt_2(0.42), cmap_alt_2(0.54),\\\n",
    "                  cmap_alt_2(0.66), cmap_alt_2(0.78), cmap_alt_2(0.90)]\n",
    "colors_8_alt_3 = [cmap_alt_3(0.06), cmap_alt_3(0.18), cmap_alt_3(0.29), cmap_alt_3(0.42), cmap_alt_3(0.54),\\\n",
    "                  cmap_alt_3(0.66), cmap_alt_3(0.78), cmap_alt_3(0.90)]"
   ]
  },
  {
   "cell_type": "code",
   "execution_count": 5,
   "id": "e3814bed",
   "metadata": {
    "id": "f7b5bb0d-e1c0-415d-b7a8-3237c86e6c7b",
    "jupyter": {
     "source_hidden": true
    },
    "tags": []
   },
   "outputs": [],
   "source": [
    "pe1            = [mpe.Stroke(linewidth=5.0, foreground='black'),\n",
    "                  mpe.Stroke(foreground='white', alpha=1),\n",
    "                  mpe.Normal()]\n",
    "pe2            = [mpe.Stroke(linewidth=3.0, foreground='white'),\n",
    "                  mpe.Stroke(foreground='white', alpha=1),\n",
    "                  mpe.Normal()]\n",
    "\n",
    "alp_str        = r'$\\alpha$'"
   ]
  },
  {
   "cell_type": "markdown",
   "id": "d3429120",
   "metadata": {
    "id": "aacf1d05-0bd7-4cbe-a480-5bd658bc008c"
   },
   "source": [
    "Methdods for PyCaret and saved models."
   ]
  },
  {
   "cell_type": "code",
   "execution_count": 6,
   "id": "cffc7a60",
   "metadata": {
    "id": "86db6e67-85aa-4cd6-a3dc-bfe638bc69bb",
    "jupyter": {
     "source_hidden": true
    },
    "tags": []
   },
   "outputs": [],
   "source": [
    "def get_final_column_names(pycaret_pipeline, sample_df):\n",
    "    if isinstance(pycaret_pipeline, sklearn.pipeline.Pipeline):\n",
    "        for (name, method) in pycaret_pipeline.named_steps.items():\n",
    "            if method != 'passthrough' and name != 'trained_model':\n",
    "                print(f'Running {name}')\n",
    "                sample_df = method.transform(sample_df)\n",
    "        return sample_df.columns.tolist()\n",
    "    else:\n",
    "        for (name, method) in pyc.get_config('prep_pipe').named_steps.items():\n",
    "            if method != 'passthrough' and name != 'trained_model':\n",
    "                print(f'Running {name}')\n",
    "                sample_df = method.transform(sample_df)\n",
    "        return sample_df.columns.tolist()"
   ]
  },
  {
   "cell_type": "code",
   "execution_count": 7,
   "id": "b592559d",
   "metadata": {
    "id": "715acda9-475d-4c9c-8e99-4921da2e1152",
    "jupyter": {
     "source_hidden": true
    },
    "tags": []
   },
   "outputs": [],
   "source": [
    "def get_feature_importances_df(pycaret_pipeline, sample_df, n = 10):\n",
    "    \n",
    "    final_cols = get_final_column_names(pycaret_pipeline, sample_df)\n",
    "    \n",
    "    if isinstance(pycaret_pipeline, sklearn.pipeline.Pipeline):\n",
    "        try:\n",
    "            variables = pycaret_pipeline[\"trained_model\"].feature_importances_\n",
    "            \n",
    "        except:\n",
    "            variables = np.mean([\n",
    "                            tree.feature_importances_ for tree in pycaret_pipeline[\"trained_model\"].estimators_\n",
    "                if hasattr(tree, 'feature_importances_')\n",
    "                            ], axis=0)\n",
    "        \n",
    "        coef_df = pd.DataFrame({'Feature': final_cols, 'Importance': variables})\n",
    "        sorted_df = (\n",
    "            coef_df.sort_values(by='Importance', ascending=False)\n",
    "            .head(n)\n",
    "            .sort_values(by='Importance', ascending=True).reset_index(drop=True)\n",
    "        )\n",
    "    else:\n",
    "        try:\n",
    "            variables = pycaret_pipeline.feature_importances_\n",
    "            \n",
    "        except:\n",
    "            variables = np.mean([\n",
    "                            tree.feature_importances_ for tree in pycaret_pipeline.estimators_\n",
    "                if hasattr(tree, 'feature_importances_')\n",
    "                            ], axis=0)\n",
    "        \n",
    "        coef_df = pd.DataFrame({'Feature': final_cols, 'Importance': variables})\n",
    "        sorted_df = (\n",
    "            coef_df.sort_values(by='Importance', ascending=False)\n",
    "            .head(n)\n",
    "            .sort_values(by='Importance', ascending=True).reset_index(drop=True)\n",
    "        )\n",
    "    return sorted_df"
   ]
  },
  {
   "cell_type": "code",
   "execution_count": 8,
   "id": "35511b3e",
   "metadata": {
    "jupyter": {
     "source_hidden": true
    },
    "tags": []
   },
   "outputs": [],
   "source": [
    "def plot_conf_mat(confusion_matrix, title, axin, display_labels=['Non true', 'True'], cmap='cet_dimgray_r', show_clb=False, log_stretch=False):\n",
    "    disp = ConfusionMatrixDisplay(confusion_matrix=confusion_matrix,\n",
    "                              display_labels=display_labels)\n",
    "\n",
    "    min_val_colour = np.nanmin(confusion_matrix)\n",
    "    max_val_colour = np.nanmin(confusion_matrix)\n",
    "    \n",
    "    if log_stretch:\n",
    "        norm = ImageNormalize(stretch=LogStretch())\n",
    "    if not log_stretch:\n",
    "        norm = ImageNormalize()\n",
    "\n",
    "    # NOTE: Fill all variables here with default values of the plot_confusion_matrix\n",
    "    disp_b = disp.plot(include_values=True, cmap=cm.get_cmap(cmap),\\\n",
    "             ax=axin, xticks_rotation='horizontal')\n",
    "\n",
    "    for text_val in disp_b.text_.flatten():\n",
    "        text_val.set_fontsize(30)\n",
    "    clb = plt.gca().images[-1].colorbar\n",
    "    clb.ax.tick_params(labelsize=14)\n",
    "    clb.ax.ticklabel_format(style='sci', scilimits=(0, 0))\n",
    "    clb.outline.set_linewidth(2.5)\n",
    "    clb.ax.set_ylabel('Elements in bin', size=14)\n",
    "    if not show_clb:\n",
    "        clb.remove()\n",
    "\n",
    "    # disp_b.im_.set_clim(1e2, 3e3)\n",
    "    disp_b.im_.norm = norm\n",
    "\n",
    "    axin.xaxis.get_label().set_fontsize(16)\n",
    "    axin.yaxis.get_label().set_fontsize(16)\n",
    "\n",
    "    axin.tick_params(axis='both', which='major', labelsize=14)\n",
    "\n",
    "    plt.setp(axin.spines.values(), linewidth=2.5)\n",
    "    plt.setp(axin.spines.values(), linewidth=2.5)\n",
    "    axin.set_title(title)\n",
    "    plt.tight_layout()"
   ]
  },
  {
   "cell_type": "code",
   "execution_count": 9,
   "id": "68b7f194",
   "metadata": {
    "jupyter": {
     "source_hidden": true
    },
    "tags": []
   },
   "outputs": [],
   "source": [
    "def MCC_from_CM(cm_array):  # Matthews correlation coefficient\n",
    "    TN, FP, FN, TP = cm_array.flatten().astype('float32')\n",
    "    MCC = ((TP * TN) - (FP * FN)) / np.sqrt((TP + FP) * (TP + FN) * (TN + FP) * (TN + FN))\n",
    "    return MCC"
   ]
  },
  {
   "cell_type": "code",
   "execution_count": 10,
   "id": "c486f504",
   "metadata": {
    "jupyter": {
     "source_hidden": true
    },
    "tags": []
   },
   "outputs": [],
   "source": [
    "def ACC_from_CM(cm_array):  # Accuracy\n",
    "    TN, FP, FN, TP = cm_array.flatten().astype('float32')\n",
    "    ACC = (TP + TN) / (TP + TN + FP + FN)\n",
    "    return ACC"
   ]
  },
  {
   "cell_type": "code",
   "execution_count": 11,
   "id": "dcc2efd8",
   "metadata": {
    "jupyter": {
     "source_hidden": true
    },
    "tags": []
   },
   "outputs": [],
   "source": [
    "def F1_from_CM(cm_array):  # F-1 score\n",
    "    TN, FP, FN, TP = cm_array.flatten().astype('float32')\n",
    "    F1 = 2 * TP / (2 * TP + FP + FN)\n",
    "    return F1"
   ]
  },
  {
   "cell_type": "code",
   "execution_count": 12,
   "id": "70510a5c",
   "metadata": {
    "jupyter": {
     "source_hidden": true
    },
    "tags": []
   },
   "outputs": [],
   "source": [
    "def Recall_from_CM(cm_array):  # Recall\n",
    "    TN, FP, FN, TP = cm_array.flatten().astype('float32')\n",
    "    Recall = TP / (TP + FN)\n",
    "    return Recall"
   ]
  },
  {
   "cell_type": "markdown",
   "id": "50358e74",
   "metadata": {
    "id": "8222df68-1b98-436b-af43-d9f38d015ba6"
   },
   "source": [
    "***"
   ]
  },
  {
   "cell_type": "markdown",
   "id": "c210c2be",
   "metadata": {
    "id": "e2ce5669-172d-4ed4-b6fe-5fff8afc7df5"
   },
   "source": [
    "## Reading data"
   ]
  },
  {
   "cell_type": "code",
   "execution_count": 13,
   "id": "7d7ee214",
   "metadata": {
    "id": "b0619b32-391c-4f18-8284-d1fabf6a800c",
    "tags": []
   },
   "outputs": [],
   "source": [
    "cat_path = '../../Catalogs/'  # relative path to the same directory"
   ]
  },
  {
   "cell_type": "markdown",
   "id": "b4322204",
   "metadata": {
    "id": "c4e41fd8-fbc5-4185-b03e-8a57634a05a9"
   },
   "source": [
    "We import our data using the `pandas` package."
   ]
  },
  {
   "cell_type": "code",
   "execution_count": 14,
   "id": "769787f8",
   "metadata": {},
   "outputs": [],
   "source": [
    "save_plot_flag  = False\n",
    "save_model_flag = False\n",
    "load_model_flag = False"
   ]
  },
  {
   "cell_type": "code",
   "execution_count": 15,
   "id": "9754e653",
   "metadata": {},
   "outputs": [],
   "source": [
    "use_5sigma = True  # use files with 5-sigma magnitude imputation"
   ]
  },
  {
   "cell_type": "code",
   "execution_count": 16,
   "id": "e40c8d1f",
   "metadata": {},
   "outputs": [],
   "source": [
    "mqc_version = '7_4d'  # '7_2'"
   ]
  },
  {
   "cell_type": "code",
   "execution_count": 17,
   "id": "556d0b35",
   "metadata": {
    "id": "c69bd7ee-7184-46e3-a6cb-1a66cb75d6ae",
    "tags": []
   },
   "outputs": [],
   "source": [
    "file_name_train = f'CatWISE2020_VLASS_LOFAR_PS1_GALEX_TGSS_XMM_2MASS_MILLIQUAS_{mqc_version}_ALLWISE_LOLSS_SDSS_DR16_5sigma_imp.h5'  # 6729647 objects (6.7e6)"
   ]
  },
  {
   "cell_type": "markdown",
   "id": "347a39c0",
   "metadata": {
    "id": "2cd751bd-1eb4-4c54-b6fa-418773ac8938"
   },
   "source": [
    "First, open the file as astropy Table to modify (and standardise)  \n",
    "the units of fluxes and/or magnitudes."
   ]
  },
  {
   "cell_type": "markdown",
   "id": "1fbd297f",
   "metadata": {
    "id": "d0ce0178-04a7-4113-bbb8-1b70ce220764"
   },
   "source": [
    "---"
   ]
  },
  {
   "cell_type": "markdown",
   "id": "6485f4b5",
   "metadata": {
    "id": "6e66f66c-4987-4340-bf82-7d8e218033fb"
   },
   "source": [
    "Create `pandas` DataFrame from `astropy` table."
   ]
  },
  {
   "cell_type": "code",
   "execution_count": 18,
   "id": "b149a2ae",
   "metadata": {},
   "outputs": [],
   "source": [
    "features_2_discard = ['objID', 'RA_ICRS', 'DE_ICRS', 'Name', 'RA_MILLI', 'DEC_MILLI',\\\n",
    "                     'TYPE', 'Z', 'zsp', 'X_ray_detect', 'Total_flux_VLASS',\\\n",
    "                     'Sint_LOFAR', 'Stotal_TGSS', 'FEP', 'TotalFlux_LoLSS', 'W1mag', 'W2mag'] # , 'mode',\\\n",
    "                     # 'class', 'f_zsp', 'subCl', 'zph', 'e_zph']  # Not needed for training in this model"
   ]
  },
  {
   "cell_type": "code",
   "execution_count": 19,
   "id": "8e323326",
   "metadata": {
    "id": "498083f5-b8c6-44aa-8de4-75b1dc899296",
    "tags": []
   },
   "outputs": [],
   "source": [
    "full_catalog_df = pd.read_hdf(cat_path + file_name_train, key='df').drop(columns=features_2_discard)"
   ]
  },
  {
   "cell_type": "code",
   "execution_count": 20,
   "id": "98723124",
   "metadata": {},
   "outputs": [],
   "source": [
    "# full_catalog_df.describe()"
   ]
  },
  {
   "cell_type": "markdown",
   "id": "bd931ea7",
   "metadata": {
    "papermill": {
     "duration": 0.018835,
     "end_time": "2022-04-21T14:20:29.760494",
     "exception": false,
     "start_time": "2022-04-21T14:20:29.741659",
     "status": "completed"
    },
    "tags": []
   },
   "source": [
    "#### Load previous model to create labels for unknown sources."
   ]
  },
  {
   "cell_type": "code",
   "execution_count": 21,
   "id": "f65bd703",
   "metadata": {},
   "outputs": [],
   "source": [
    "# full_catalog_df['class'] = full_catalog_df.loc[:, 'is_AGN'].copy()"
   ]
  },
  {
   "cell_type": "code",
   "execution_count": 22,
   "id": "ce9de8dc",
   "metadata": {
    "papermill": {
     "duration": 1.46203,
     "end_time": "2022-04-21T14:20:28.732926",
     "exception": false,
     "start_time": "2022-04-21T14:20:27.270896",
     "status": "completed"
    },
    "tags": []
   },
   "outputs": [],
   "source": [
    "confirmed_indices = full_catalog_df.loc[(full_catalog_df.loc[:, 'is_gal'] == 1) | (full_catalog_df.loc[:, 'is_AGN'] == 1)].index\n",
    "unknown_indices   = full_catalog_df.drop(index=confirmed_indices).index\n",
    "final_indices     = confirmed_indices.union(unknown_indices)  # all"
   ]
  },
  {
   "cell_type": "code",
   "execution_count": 24,
   "id": "0486a115",
   "metadata": {},
   "outputs": [
    {
     "name": "stdout",
     "output_type": "stream",
     "text": [
      "There are 30,395 confirmed AGN in this dataset.\n"
     ]
    }
   ],
   "source": [
    "print(f'There are {np.sum(full_catalog_df.loc[:, \"is_AGN\"] == 1):,} confirmed AGN in this dataset.')"
   ]
  },
  {
   "cell_type": "code",
   "execution_count": 25,
   "id": "ecac18c5",
   "metadata": {
    "papermill": {
     "duration": 0.583663,
     "end_time": "2022-04-21T14:20:30.362786",
     "exception": false,
     "start_time": "2022-04-21T14:20:29.779123",
     "status": "completed"
    },
    "tags": []
   },
   "outputs": [
    {
     "name": "stdout",
     "output_type": "stream",
     "text": [
      "Transformation Pipeline and Model Successfully Loaded\n"
     ]
    }
   ],
   "source": [
    "# if load_model_flag:\n",
    "AGN_gal_clf = pyc.load_model('models/classification_AGN_galaxy_apr_20_2022')"
   ]
  },
  {
   "cell_type": "code",
   "execution_count": 26,
   "id": "e8e784ad",
   "metadata": {
    "papermill": {
     "duration": 125.807916,
     "end_time": "2022-04-21T14:22:36.194906",
     "exception": false,
     "start_time": "2022-04-21T14:20:30.386990",
     "status": "completed"
    },
    "tags": []
   },
   "outputs": [],
   "source": [
    "AGN_pred_threshold = 0.5\n",
    "new_labels_train   = pyc.predict_model(AGN_gal_clf, data=full_catalog_df,\\\n",
    "                                       probability_threshold=AGN_pred_threshold,\\\n",
    "                                       raw_score=True).loc[:, 'Score_1']"
   ]
  },
  {
   "cell_type": "code",
   "execution_count": 27,
   "id": "fd636db9",
   "metadata": {
    "papermill": {
     "duration": 0.691881,
     "end_time": "2022-04-21T14:22:36.909516",
     "exception": false,
     "start_time": "2022-04-21T14:22:36.217635",
     "status": "completed"
    },
    "tags": []
   },
   "outputs": [],
   "source": [
    "full_catalog_df['class'] = new_labels_train.copy()"
   ]
  },
  {
   "cell_type": "code",
   "execution_count": 30,
   "id": "d152b73a",
   "metadata": {},
   "outputs": [],
   "source": [
    "full_catalog_df.loc[:, 'class'] = full_catalog_df.loc[:, 'class'].mask(full_catalog_df.loc[:, 'is_gal'] == 1, 0)\n",
    "full_catalog_df.loc[:, 'class'] = full_catalog_df.loc[:, 'class'].mask(full_catalog_df.loc[:, 'is_AGN'] == 1, 1)"
   ]
  },
  {
   "cell_type": "markdown",
   "id": "ae21e0e8",
   "metadata": {},
   "source": [
    "#### Select only confirmed and highly likely AGN"
   ]
  },
  {
   "cell_type": "code",
   "execution_count": 28,
   "id": "756f432c",
   "metadata": {},
   "outputs": [],
   "source": [
    "AGN_threshold = 0.95\n",
    "gal_threshold = 0.05"
   ]
  },
  {
   "cell_type": "code",
   "execution_count": 32,
   "id": "abb90c93",
   "metadata": {},
   "outputs": [],
   "source": [
    "filter_upgrade_AGN = (full_catalog_df.loc[:, 'class'] > AGN_threshold) & (full_catalog_df.loc[:, 'class'] < 1.00)\n",
    "filter_upgrade_gal = (full_catalog_df.loc[:, 'class'] < gal_threshold) & (full_catalog_df.loc[:, 'class'] > 0.00)\n",
    "full_catalog_df.loc[:, 'class'] = full_catalog_df.loc[:, 'class'].mask(filter_upgrade_AGN, 1)\n",
    "full_catalog_df.loc[:, 'class'] = full_catalog_df.loc[:, 'class'].mask(filter_upgrade_gal, 0)"
   ]
  },
  {
   "cell_type": "code",
   "execution_count": 33,
   "id": "953ce384",
   "metadata": {},
   "outputs": [],
   "source": [
    "full_catalog_df.loc[:, 'class'] = full_catalog_df.loc[:, 'class'].astype(int)"
   ]
  },
  {
   "cell_type": "code",
   "execution_count": 34,
   "id": "27cbe7f9",
   "metadata": {
    "tags": []
   },
   "outputs": [],
   "source": [
    "full_catalog_df = full_catalog_df.loc[(full_catalog_df.loc[:, 'class'] == 1)]"
   ]
  },
  {
   "cell_type": "code",
   "execution_count": 35,
   "id": "41d9e0f7",
   "metadata": {
    "tags": []
   },
   "outputs": [
    {
     "name": "stdout",
     "output_type": "stream",
     "text": [
      "In this dataset (HETDEX), with 78,934 elements,\n",
      "78,934 of them are marked as AGN, and, from them, 21,305 have confirmed radio detection.\n"
     ]
    }
   ],
   "source": [
    "n_is_AGN = np.sum(full_catalog_df.loc[:, 'class'] == 1)\n",
    "n_is_gal = np.sum(full_catalog_df.loc[:, 'class'] == 0)\n",
    "n_is_rad = np.sum(full_catalog_df.loc[:, 'radio_detect'] == 1)\n",
    "print(f'In this dataset (HETDEX), with {len(full_catalog_df.loc[:, \"is_AGN\"]):,} elements,\\n' +\\\n",
    "         f'{n_is_AGN:,} of them are marked as AGN, and, from them, {n_is_rad:,} have confirmed radio detection.')"
   ]
  },
  {
   "cell_type": "markdown",
   "id": "25992100",
   "metadata": {
    "id": "6619390c-a04f-4bd0-9f97-9ca54bc9c764"
   },
   "source": [
    "---"
   ]
  },
  {
   "cell_type": "markdown",
   "id": "d26d558d",
   "metadata": {
    "id": "e1111608-acd0-41fd-a79d-831539eb56b9"
   },
   "source": [
    "## Possible correlations"
   ]
  },
  {
   "cell_type": "code",
   "execution_count": 36,
   "id": "6897d0ec",
   "metadata": {
    "id": "c5787752-376d-4409-bda6-ed1ab94bbe9b",
    "jupyter": {
     "source_hidden": true
    },
    "outputId": "80a70466-b8d8-4390-8734-77688a25a7de",
    "tags": []
   },
   "outputs": [
    {
     "name": "stdout",
     "output_type": "stream",
     "text": [
      "['band_num', 'radio_detect', 'is_AGN', 'is_SDSS_gal', 'is_gal', 'W1mproPM', 'W2mproPM', 'gmag', 'rmag', 'imag', 'zmag', 'ymag', 'FUVmag', 'NUVmag', 'Jmag', 'Hmag', 'Kmag', 'W3mag', 'W4mag', 'g_r', 'r_i', 'i_z', 'z_y', 'g_i', 'w1_w2', 'w2_w3', 'w3_w4', 'J_H', 'H_K', 'FUV_NUV', 'r/z', 'i/y', 'w1/w3', 'w1/w4', 'w2/w4', 'J/K', 'FUV/K', 'g/J', 'r/H', 'i/K', 'z/W1', 'y/W2', 'class']\n"
     ]
    }
   ],
   "source": [
    "print(full_catalog_df.columns.to_list())"
   ]
  },
  {
   "cell_type": "markdown",
   "id": "08fb8c00",
   "metadata": {
    "id": "27645d12-9370-40d8-aeba-24d4415bb9eb"
   },
   "source": [
    "---"
   ]
  },
  {
   "cell_type": "markdown",
   "id": "ebc47d5a",
   "metadata": {
    "id": "u4vi69d_pPbd"
   },
   "source": [
    "## Random seed"
   ]
  },
  {
   "cell_type": "code",
   "execution_count": 37,
   "id": "0a4c56d5",
   "metadata": {
    "id": "8byjjVU3pOjM"
   },
   "outputs": [],
   "source": [
    "seed = 42"
   ]
  },
  {
   "cell_type": "markdown",
   "id": "71f04175",
   "metadata": {},
   "source": [
    "Create target"
   ]
  },
  {
   "cell_type": "code",
   "execution_count": 38,
   "id": "ac11b686",
   "metadata": {},
   "outputs": [],
   "source": [
    "full_catalog_df.loc[:, 'radio_detect'] = full_catalog_df.loc[:, 'radio_detect'].astype(int)"
   ]
  },
  {
   "cell_type": "markdown",
   "id": "2d724cd9",
   "metadata": {},
   "source": [
    "Remove intermediate targets"
   ]
  },
  {
   "cell_type": "code",
   "execution_count": 39,
   "id": "ff455056",
   "metadata": {},
   "outputs": [],
   "source": [
    "full_catalog_df = full_catalog_df.drop(columns=['is_AGN', 'is_SDSS_gal', 'is_gal', 'class'])"
   ]
  },
  {
   "cell_type": "markdown",
   "id": "cdf9a77d",
   "metadata": {},
   "source": [
    "## Split data: Test, Train, Validation"
   ]
  },
  {
   "cell_type": "code",
   "execution_count": 40,
   "id": "767c3c66",
   "metadata": {
    "jupyter": {
     "source_hidden": true
    },
    "tags": []
   },
   "outputs": [
    {
     "name": "stdout",
     "output_type": "stream",
     "text": [
      "Shape of used data\n",
      "----------------------------------------\n",
      "Full Dataset size: (78934, 39)\n",
      "Data for Modeling (Train and Test): (63147, 39)\n",
      "Unseen Data For Validation: (15787, 39)\n",
      "----------------------------------------\n"
     ]
    }
   ],
   "source": [
    "train_test_df, validation_df = train_test_split(full_catalog_df, test_size=0.2,\\\n",
    "     random_state=seed, stratify=full_catalog_df.loc[:, 'radio_detect'])\n",
    "# data_train_test_AGN_df = full_catalog_df.sample(frac=0.9, random_state=seed)  # Train + test sets\n",
    "# data_validation_AGN_df = full_catalog_df.drop(data_train_test_AGN_df.index)  # Validation data\n",
    "\n",
    "print('Shape of used data')\n",
    "print('-' * 40)\n",
    "print(f'Full Dataset size: {full_catalog_df.shape}')\n",
    "print(f'Data for Modeling (Train and Test): {train_test_df.shape}')\n",
    "print(f'Unseen Data For Validation: {validation_df.shape}')\n",
    "print('-' * 40)"
   ]
  },
  {
   "cell_type": "markdown",
   "id": "f54ec29a",
   "metadata": {},
   "source": [
    "Save indices of sources in validation sub-set for future steps."
   ]
  },
  {
   "cell_type": "code",
   "execution_count": 41,
   "id": "b78d0d05",
   "metadata": {},
   "outputs": [],
   "source": [
    "# val_idx = validation_df.index.to_numpy()\n",
    "# np.savetxt(fname='idx_validation_radio_01.txt', X=val_idx, header='Indices from first radio detection training.', fmt='%i')"
   ]
  },
  {
   "cell_type": "markdown",
   "id": "16263dad",
   "metadata": {},
   "source": [
    "---"
   ]
  },
  {
   "cell_type": "markdown",
   "id": "fe81f77b",
   "metadata": {},
   "source": [
    "## Use Correlation matrix to discard some features"
   ]
  },
  {
   "cell_type": "code",
   "execution_count": 42,
   "id": "a713c3a4",
   "metadata": {
    "jupyter": {
     "source_hidden": true
    },
    "tags": []
   },
   "outputs": [],
   "source": [
    "min_max_scaler              = MinMaxScaler(feature_range=(0., 1.))\n",
    "full_scaled                 = min_max_scaler.fit_transform(train_test_df.values)\n",
    "norm_train_test_df = pd.DataFrame(data=full_scaled, columns=train_test_df.columns, index=train_test_df.index)"
   ]
  },
  {
   "cell_type": "markdown",
   "id": "c114d81b",
   "metadata": {},
   "source": [
    "Calculate Reduced Standard deviation to discard between pairs of features:  \n",
    "\n",
    "$$\\mathrm{RSD} = \\frac{\\sigma}{\\mu} \\times 100$$"
   ]
  },
  {
   "cell_type": "code",
   "execution_count": 43,
   "id": "3be78423",
   "metadata": {},
   "outputs": [],
   "source": [
    "rsd_vals = (train_test_df.std() / train_test_df.mean() * 100).sort_values(ascending=False)"
   ]
  },
  {
   "cell_type": "code",
   "execution_count": 44,
   "id": "c6c53e6c",
   "metadata": {},
   "outputs": [
    {
     "data": {
      "text/plain": [
       "z_y             218.802597\n",
       "i_z             175.616171\n",
       "r_i             165.945811\n",
       "radio_detect    164.468325\n",
       "g_r             161.706197\n",
       "g_i             118.397941\n",
       "w1_w2            74.578934\n",
       "band_num         32.132233\n",
       "w2_w3            25.326356\n",
       "J_H              13.972082\n",
       "H_K              12.450564\n",
       "w3_w4            11.437357\n",
       "imag              6.443492\n",
       "rmag              6.269300\n",
       "i/K               6.262517\n",
       "r/H               5.998205\n",
       "gmag              5.997379\n",
       "g/J               5.760535\n",
       "zmag              5.679346\n",
       "ymag              5.025388\n",
       "W1mproPM          4.615968\n",
       "W2mproPM          4.493684\n",
       "w1/w4             4.199419\n",
       "w2/w4             4.064054\n",
       "z/W1              3.849367\n",
       "i/y               3.587020\n",
       "w1/w3             3.510582\n",
       "y/W2              3.382594\n",
       "r/z               2.153672\n",
       "W3mag             2.129783\n",
       "NUVmag            1.416638\n",
       "W4mag             1.235961\n",
       "Hmag              1.183805\n",
       "Jmag              1.150326\n",
       "FUV/K             1.029587\n",
       "Kmag              0.852738\n",
       "FUVmag            0.486484\n",
       "J/K               0.448127\n",
       "FUV_NUV         -26.130478\n",
       "dtype: float64"
      ]
     },
     "execution_count": 44,
     "metadata": {},
     "output_type": "execute_result"
    }
   ],
   "source": [
    "rsd_vals"
   ]
  },
  {
   "cell_type": "code",
   "execution_count": 45,
   "id": "b498c81b",
   "metadata": {},
   "outputs": [],
   "source": [
    "correlation    = norm_train_test_df.corr()"
   ]
  },
  {
   "cell_type": "code",
   "execution_count": 46,
   "id": "30450328",
   "metadata": {},
   "outputs": [],
   "source": [
    "filt_high_corr = np.array(correlation.abs().unstack().sort_values(ascending=False).drop_duplicates().values > 0.75) &\\\n",
    "np.array(correlation.abs().unstack().sort_values(ascending=False).drop_duplicates().values < 1.00)"
   ]
  },
  {
   "cell_type": "code",
   "execution_count": 47,
   "id": "63d5f211",
   "metadata": {},
   "outputs": [],
   "source": [
    "corr_pairs     = correlation.abs().unstack().sort_values(ascending=False).drop_duplicates().index[filt_high_corr]"
   ]
  },
  {
   "cell_type": "code",
   "execution_count": 48,
   "id": "9d140c7e",
   "metadata": {},
   "outputs": [],
   "source": [
    "target_feat    = 'radio_detect'"
   ]
  },
  {
   "cell_type": "code",
   "execution_count": 49,
   "id": "71f6c127",
   "metadata": {
    "jupyter": {
     "source_hidden": true
    },
    "tags": []
   },
   "outputs": [],
   "source": [
    "list_drop_corr = []"
   ]
  },
  {
   "cell_type": "markdown",
   "id": "16f7d64e",
   "metadata": {},
   "source": [
    "We want to discard features that are highly correlated (>0.75).  \n",
    "Between two features, we will discard the one with the lowest standard deviation (RSD)."
   ]
  },
  {
   "cell_type": "code",
   "execution_count": 50,
   "id": "9e2ddaec",
   "metadata": {
    "jupyter": {
     "source_hidden": true
    },
    "tags": []
   },
   "outputs": [],
   "source": [
    "for row in corr_pairs:\n",
    "    if target_feat in row:\n",
    "        continue\n",
    "    elif row[0] in list_drop_corr:\n",
    "        continue\n",
    "    elif row[1] in list_drop_corr:\n",
    "        continue\n",
    "    else:\n",
    "        metric_a = rsd_vals[row[0]]\n",
    "        metric_b = rsd_vals[row[1]]\n",
    "        if metric_a >= metric_b:\n",
    "            list_drop_corr.append(row[1])\n",
    "        else:\n",
    "            list_drop_corr.append(row[0])"
   ]
  },
  {
   "cell_type": "code",
   "execution_count": 51,
   "id": "07a2d715",
   "metadata": {},
   "outputs": [
    {
     "data": {
      "text/plain": [
       "['i/K',\n",
       " 'Jmag',\n",
       " 'r/H',\n",
       " 'g/J',\n",
       " 'rmag',\n",
       " 'w2/w4',\n",
       " 'w1/w4',\n",
       " 'W2mproPM',\n",
       " 'Kmag',\n",
       " 'FUV_NUV',\n",
       " 'zmag',\n",
       " 'gmag',\n",
       " 'w1/w3',\n",
       " 'J/K',\n",
       " 'W3mag',\n",
       " 'W1mproPM',\n",
       " 'Hmag',\n",
       " 'ymag',\n",
       " 'i/y',\n",
       " 'imag',\n",
       " 'g_i',\n",
       " 'r/z']"
      ]
     },
     "execution_count": 51,
     "metadata": {},
     "output_type": "execute_result"
    }
   ],
   "source": [
    "list_drop_corr"
   ]
  },
  {
   "cell_type": "code",
   "execution_count": 52,
   "id": "3302a65a",
   "metadata": {},
   "outputs": [],
   "source": [
    "# correlation.abs().unstack().sort_values(ascending=False).drop_duplicates()[:15]"
   ]
  },
  {
   "cell_type": "code",
   "execution_count": 53,
   "id": "30d98587",
   "metadata": {},
   "outputs": [],
   "source": [
    "norm_train_test_discard = norm_train_test_df.drop(columns=list_drop_corr)"
   ]
  },
  {
   "cell_type": "code",
   "execution_count": 54,
   "id": "0f57f04f",
   "metadata": {},
   "outputs": [],
   "source": [
    "corr_discard = norm_train_test_discard.corr()"
   ]
  },
  {
   "cell_type": "code",
   "execution_count": 55,
   "id": "35e33415",
   "metadata": {},
   "outputs": [
    {
     "data": {
      "text/plain": [
       "band_num  band_num    1.000000\n",
       "y/W2      z/W1        0.684263\n",
       "NUVmag    FUVmag      0.622517\n",
       "z_y       z/W1        0.589020\n",
       "band_num  w2_w3       0.550694\n",
       "H_K       FUV/K       0.510311\n",
       "w2_w3     w3_w4       0.505283\n",
       "w3_w4     W4mag       0.495036\n",
       "NUVmag    w3_w4       0.491415\n",
       "H_K       w3_w4       0.446667\n",
       "W4mag     H_K         0.402439\n",
       "NUVmag    w2_w3       0.392237\n",
       "z_y       band_num    0.390447\n",
       "band_num  z/W1        0.390292\n",
       "          w3_w4       0.380886\n",
       "dtype: float64"
      ]
     },
     "execution_count": 55,
     "metadata": {},
     "output_type": "execute_result"
    }
   ],
   "source": [
    "corr_discard.abs().unstack().sort_values(ascending=False).drop_duplicates()[:15]"
   ]
  },
  {
   "cell_type": "code",
   "execution_count": 56,
   "id": "b37475a6",
   "metadata": {
    "jupyter": {
     "source_hidden": true
    },
    "tags": []
   },
   "outputs": [
    {
     "data": {
      "text/plain": [
       "Text(1049.9166666666667, 0.5, 'feature')"
      ]
     },
     "execution_count": 56,
     "metadata": {},
     "output_type": "execute_result"
    },
    {
     "data": {
      "image/png": "[encoded data removed]",
      "text/plain": [
       "<Figure size 3000x1500 with 2 Axes>"
      ]
     },
     "metadata": {},
     "output_type": "display_data"
    }
   ],
   "source": [
    "plt.figure(figsize=(30,15))\n",
    "sns.set_context('paper', rc={'axes.labelsize':20, 'axes.ticklabelsize':14})\n",
    "ax1 = sns.heatmap(corr_discard, annot=True, cmap=plt.get_cmap('cet_CET_D1A'), center=0.0, square=True)\n",
    "ax1.set_xlabel('feature')\n",
    "ax1.set_ylabel('feature')"
   ]
  },
  {
   "cell_type": "code",
   "execution_count": 57,
   "id": "a4016ed2",
   "metadata": {},
   "outputs": [],
   "source": [
    "norm_train_test_discard.loc[:, 'radio_detect'] = norm_train_test_discard.loc[:, 'radio_detect'].astype(bool)"
   ]
  },
  {
   "cell_type": "code",
   "execution_count": 58,
   "id": "6032b0eb",
   "metadata": {},
   "outputs": [],
   "source": [
    "pps_matrix = pps.matrix(norm_train_test_discard, random_seed=seed)[['x', 'y', 'ppscore']].pivot(columns='x', index='y', values='ppscore')"
   ]
  },
  {
   "cell_type": "code",
   "execution_count": 59,
   "id": "56baac7a",
   "metadata": {},
   "outputs": [
    {
     "data": {
      "text/plain": [
       "x         y           \n",
       "FUV/K     FUV/K           1.000000\n",
       "          FUVmag          0.607753\n",
       "band_num  i_z             0.339056\n",
       "y/W2      w2_w3           0.329232\n",
       "i_z       z_y             0.301714\n",
       "band_num  z_y             0.293134\n",
       "z_y       band_num        0.289419\n",
       "band_num  w2_w3           0.271129\n",
       "          z/W1            0.249095\n",
       "z/W1      z_y             0.242733\n",
       "y/W2      z/W1            0.241109\n",
       "w3_w4     radio_detect    0.232601\n",
       "z_y       z/W1            0.226048\n",
       "NUVmag    FUVmag          0.218203\n",
       "i_z       band_num        0.193747\n",
       "r_i       i_z             0.188635\n",
       "i_z       z/W1            0.173943\n",
       "g_r       band_num        0.147652\n",
       "W4mag     radio_detect    0.144618\n",
       "w2_w3     radio_detect    0.140431\n",
       "dtype: float64"
      ]
     },
     "execution_count": 59,
     "metadata": {},
     "output_type": "execute_result"
    }
   ],
   "source": [
    "pps_matrix.unstack().sort_values(ascending=False).drop_duplicates()[:20]"
   ]
  },
  {
   "cell_type": "code",
   "execution_count": 60,
   "id": "d46cd4ce",
   "metadata": {
    "jupyter": {
     "source_hidden": true
    },
    "tags": []
   },
   "outputs": [],
   "source": [
    "filt_high_pps = np.array(pps_matrix.abs().unstack().sort_values(ascending=False).drop_duplicates().values > 0.75) &\\\n",
    "np.array(pps_matrix.abs().unstack().sort_values(ascending=False).drop_duplicates().values < 1.00)"
   ]
  },
  {
   "cell_type": "code",
   "execution_count": 61,
   "id": "58abe614",
   "metadata": {},
   "outputs": [],
   "source": [
    "pps_pairs     = pps_matrix.abs().unstack().sort_values(ascending=False).drop_duplicates().index[filt_high_pps]"
   ]
  },
  {
   "cell_type": "code",
   "execution_count": 62,
   "id": "9579f088",
   "metadata": {},
   "outputs": [],
   "source": [
    "target_feat = 'radio_detect'"
   ]
  },
  {
   "cell_type": "code",
   "execution_count": 63,
   "id": "cc09a22b",
   "metadata": {
    "tags": []
   },
   "outputs": [],
   "source": [
    "list_drop_pps = []"
   ]
  },
  {
   "cell_type": "code",
   "execution_count": 64,
   "id": "8055c9ce",
   "metadata": {
    "jupyter": {
     "source_hidden": true
    },
    "tags": []
   },
   "outputs": [],
   "source": [
    "for row in pps_pairs:\n",
    "    if target_feat in row:\n",
    "        continue\n",
    "    elif row[0] in list_drop_pps:\n",
    "        continue\n",
    "    elif row[1] in list_drop_pps:\n",
    "        continue\n",
    "    else:\n",
    "        metric_a = rsd_vals[row[0]]\n",
    "        metric_b = rsd_vals[row[1]]\n",
    "        if metric_a >= metric_b:\n",
    "            list_drop_pps.append(row[1])\n",
    "        else:\n",
    "            list_drop_pps.append(row[0])"
   ]
  },
  {
   "cell_type": "code",
   "execution_count": 65,
   "id": "e5b88f5f",
   "metadata": {},
   "outputs": [
    {
     "data": {
      "text/plain": [
       "[]"
      ]
     },
     "execution_count": 65,
     "metadata": {},
     "output_type": "execute_result"
    }
   ],
   "source": [
    "list_drop_pps"
   ]
  },
  {
   "cell_type": "code",
   "execution_count": 66,
   "id": "875adb89",
   "metadata": {},
   "outputs": [],
   "source": [
    "norm_train_test_discard = norm_train_test_discard.drop(columns=list_drop_pps)"
   ]
  },
  {
   "cell_type": "code",
   "execution_count": 67,
   "id": "4bc540a3",
   "metadata": {},
   "outputs": [],
   "source": [
    "pps_pred_target = pps.predictors(norm_train_test_discard, 'radio_detect', random_seed=seed)"
   ]
  },
  {
   "cell_type": "code",
   "execution_count": 68,
   "id": "7f3ff5a1",
   "metadata": {},
   "outputs": [
    {
     "data": {
      "text/html": [
       "<div>\n",
       "<style scoped>\n",
       "    .dataframe tbody tr th:only-of-type {\n",
       "        vertical-align: middle;\n",
       "    }\n",
       "\n",
       "    .dataframe tbody tr th {\n",
       "        vertical-align: top;\n",
       "    }\n",
       "\n",
       "    .dataframe thead th {\n",
       "        text-align: right;\n",
       "    }\n",
       "</style>\n",
       "<table border=\"1\" class=\"dataframe\">\n",
       "  <thead>\n",
       "    <tr style=\"text-align: right;\">\n",
       "      <th></th>\n",
       "      <th>x</th>\n",
       "      <th>y</th>\n",
       "      <th>ppscore</th>\n",
       "      <th>case</th>\n",
       "      <th>is_valid_score</th>\n",
       "      <th>metric</th>\n",
       "      <th>baseline_score</th>\n",
       "      <th>model_score</th>\n",
       "      <th>model</th>\n",
       "    </tr>\n",
       "  </thead>\n",
       "  <tbody>\n",
       "    <tr>\n",
       "      <th>0</th>\n",
       "      <td>w3_w4</td>\n",
       "      <td>radio_detect</td>\n",
       "      <td>0.232601</td>\n",
       "      <td>classification</td>\n",
       "      <td>True</td>\n",
       "      <td>weighted F1</td>\n",
       "      <td>0.624341</td>\n",
       "      <td>0.711719</td>\n",
       "      <td>DecisionTreeClassifier()</td>\n",
       "    </tr>\n",
       "    <tr>\n",
       "      <th>1</th>\n",
       "      <td>W4mag</td>\n",
       "      <td>radio_detect</td>\n",
       "      <td>0.144618</td>\n",
       "      <td>classification</td>\n",
       "      <td>True</td>\n",
       "      <td>weighted F1</td>\n",
       "      <td>0.624341</td>\n",
       "      <td>0.678668</td>\n",
       "      <td>DecisionTreeClassifier()</td>\n",
       "    </tr>\n",
       "    <tr>\n",
       "      <th>2</th>\n",
       "      <td>w2_w3</td>\n",
       "      <td>radio_detect</td>\n",
       "      <td>0.140431</td>\n",
       "      <td>classification</td>\n",
       "      <td>True</td>\n",
       "      <td>weighted F1</td>\n",
       "      <td>0.624341</td>\n",
       "      <td>0.677095</td>\n",
       "      <td>DecisionTreeClassifier()</td>\n",
       "    </tr>\n",
       "    <tr>\n",
       "      <th>3</th>\n",
       "      <td>band_num</td>\n",
       "      <td>radio_detect</td>\n",
       "      <td>0.118980</td>\n",
       "      <td>classification</td>\n",
       "      <td>True</td>\n",
       "      <td>weighted F1</td>\n",
       "      <td>0.624341</td>\n",
       "      <td>0.669037</td>\n",
       "      <td>DecisionTreeClassifier()</td>\n",
       "    </tr>\n",
       "    <tr>\n",
       "      <th>4</th>\n",
       "      <td>w1_w2</td>\n",
       "      <td>radio_detect</td>\n",
       "      <td>0.098319</td>\n",
       "      <td>classification</td>\n",
       "      <td>True</td>\n",
       "      <td>weighted F1</td>\n",
       "      <td>0.624341</td>\n",
       "      <td>0.661276</td>\n",
       "      <td>DecisionTreeClassifier()</td>\n",
       "    </tr>\n",
       "    <tr>\n",
       "      <th>5</th>\n",
       "      <td>y/W2</td>\n",
       "      <td>radio_detect</td>\n",
       "      <td>0.077572</td>\n",
       "      <td>classification</td>\n",
       "      <td>True</td>\n",
       "      <td>weighted F1</td>\n",
       "      <td>0.624341</td>\n",
       "      <td>0.653481</td>\n",
       "      <td>DecisionTreeClassifier()</td>\n",
       "    </tr>\n",
       "    <tr>\n",
       "      <th>6</th>\n",
       "      <td>J_H</td>\n",
       "      <td>radio_detect</td>\n",
       "      <td>0.076460</td>\n",
       "      <td>classification</td>\n",
       "      <td>True</td>\n",
       "      <td>weighted F1</td>\n",
       "      <td>0.624341</td>\n",
       "      <td>0.653064</td>\n",
       "      <td>DecisionTreeClassifier()</td>\n",
       "    </tr>\n",
       "    <tr>\n",
       "      <th>7</th>\n",
       "      <td>H_K</td>\n",
       "      <td>radio_detect</td>\n",
       "      <td>0.063884</td>\n",
       "      <td>classification</td>\n",
       "      <td>True</td>\n",
       "      <td>weighted F1</td>\n",
       "      <td>0.624341</td>\n",
       "      <td>0.648340</td>\n",
       "      <td>DecisionTreeClassifier()</td>\n",
       "    </tr>\n",
       "    <tr>\n",
       "      <th>8</th>\n",
       "      <td>g_r</td>\n",
       "      <td>radio_detect</td>\n",
       "      <td>0.060173</td>\n",
       "      <td>classification</td>\n",
       "      <td>True</td>\n",
       "      <td>weighted F1</td>\n",
       "      <td>0.624341</td>\n",
       "      <td>0.646945</td>\n",
       "      <td>DecisionTreeClassifier()</td>\n",
       "    </tr>\n",
       "    <tr>\n",
       "      <th>9</th>\n",
       "      <td>FUV/K</td>\n",
       "      <td>radio_detect</td>\n",
       "      <td>0.054905</td>\n",
       "      <td>classification</td>\n",
       "      <td>True</td>\n",
       "      <td>weighted F1</td>\n",
       "      <td>0.624341</td>\n",
       "      <td>0.644967</td>\n",
       "      <td>DecisionTreeClassifier()</td>\n",
       "    </tr>\n",
       "    <tr>\n",
       "      <th>10</th>\n",
       "      <td>r_i</td>\n",
       "      <td>radio_detect</td>\n",
       "      <td>0.042402</td>\n",
       "      <td>classification</td>\n",
       "      <td>True</td>\n",
       "      <td>weighted F1</td>\n",
       "      <td>0.624341</td>\n",
       "      <td>0.640270</td>\n",
       "      <td>DecisionTreeClassifier()</td>\n",
       "    </tr>\n",
       "    <tr>\n",
       "      <th>11</th>\n",
       "      <td>NUVmag</td>\n",
       "      <td>radio_detect</td>\n",
       "      <td>0.042161</td>\n",
       "      <td>classification</td>\n",
       "      <td>True</td>\n",
       "      <td>weighted F1</td>\n",
       "      <td>0.624341</td>\n",
       "      <td>0.640179</td>\n",
       "      <td>DecisionTreeClassifier()</td>\n",
       "    </tr>\n",
       "    <tr>\n",
       "      <th>12</th>\n",
       "      <td>z/W1</td>\n",
       "      <td>radio_detect</td>\n",
       "      <td>0.040243</td>\n",
       "      <td>classification</td>\n",
       "      <td>True</td>\n",
       "      <td>weighted F1</td>\n",
       "      <td>0.624341</td>\n",
       "      <td>0.639459</td>\n",
       "      <td>DecisionTreeClassifier()</td>\n",
       "    </tr>\n",
       "    <tr>\n",
       "      <th>13</th>\n",
       "      <td>z_y</td>\n",
       "      <td>radio_detect</td>\n",
       "      <td>0.035303</td>\n",
       "      <td>classification</td>\n",
       "      <td>True</td>\n",
       "      <td>weighted F1</td>\n",
       "      <td>0.624341</td>\n",
       "      <td>0.637603</td>\n",
       "      <td>DecisionTreeClassifier()</td>\n",
       "    </tr>\n",
       "    <tr>\n",
       "      <th>14</th>\n",
       "      <td>FUVmag</td>\n",
       "      <td>radio_detect</td>\n",
       "      <td>0.012773</td>\n",
       "      <td>classification</td>\n",
       "      <td>True</td>\n",
       "      <td>weighted F1</td>\n",
       "      <td>0.624341</td>\n",
       "      <td>0.629139</td>\n",
       "      <td>DecisionTreeClassifier()</td>\n",
       "    </tr>\n",
       "    <tr>\n",
       "      <th>15</th>\n",
       "      <td>i_z</td>\n",
       "      <td>radio_detect</td>\n",
       "      <td>0.000000</td>\n",
       "      <td>classification</td>\n",
       "      <td>True</td>\n",
       "      <td>weighted F1</td>\n",
       "      <td>0.624341</td>\n",
       "      <td>0.618637</td>\n",
       "      <td>DecisionTreeClassifier()</td>\n",
       "    </tr>\n",
       "  </tbody>\n",
       "</table>\n",
       "</div>"
      ],
      "text/plain": [
       "           x             y   ppscore            case  is_valid_score  \\\n",
       "0      w3_w4  radio_detect  0.232601  classification            True   \n",
       "1      W4mag  radio_detect  0.144618  classification            True   \n",
       "2      w2_w3  radio_detect  0.140431  classification            True   \n",
       "3   band_num  radio_detect  0.118980  classification            True   \n",
       "4      w1_w2  radio_detect  0.098319  classification            True   \n",
       "5       y/W2  radio_detect  0.077572  classification            True   \n",
       "6        J_H  radio_detect  0.076460  classification            True   \n",
       "7        H_K  radio_detect  0.063884  classification            True   \n",
       "8        g_r  radio_detect  0.060173  classification            True   \n",
       "9      FUV/K  radio_detect  0.054905  classification            True   \n",
       "10       r_i  radio_detect  0.042402  classification            True   \n",
       "11    NUVmag  radio_detect  0.042161  classification            True   \n",
       "12      z/W1  radio_detect  0.040243  classification            True   \n",
       "13       z_y  radio_detect  0.035303  classification            True   \n",
       "14    FUVmag  radio_detect  0.012773  classification            True   \n",
       "15       i_z  radio_detect  0.000000  classification            True   \n",
       "\n",
       "         metric  baseline_score  model_score                     model  \n",
       "0   weighted F1        0.624341     0.711719  DecisionTreeClassifier()  \n",
       "1   weighted F1        0.624341     0.678668  DecisionTreeClassifier()  \n",
       "2   weighted F1        0.624341     0.677095  DecisionTreeClassifier()  \n",
       "3   weighted F1        0.624341     0.669037  DecisionTreeClassifier()  \n",
       "4   weighted F1        0.624341     0.661276  DecisionTreeClassifier()  \n",
       "5   weighted F1        0.624341     0.653481  DecisionTreeClassifier()  \n",
       "6   weighted F1        0.624341     0.653064  DecisionTreeClassifier()  \n",
       "7   weighted F1        0.624341     0.648340  DecisionTreeClassifier()  \n",
       "8   weighted F1        0.624341     0.646945  DecisionTreeClassifier()  \n",
       "9   weighted F1        0.624341     0.644967  DecisionTreeClassifier()  \n",
       "10  weighted F1        0.624341     0.640270  DecisionTreeClassifier()  \n",
       "11  weighted F1        0.624341     0.640179  DecisionTreeClassifier()  \n",
       "12  weighted F1        0.624341     0.639459  DecisionTreeClassifier()  \n",
       "13  weighted F1        0.624341     0.637603  DecisionTreeClassifier()  \n",
       "14  weighted F1        0.624341     0.629139  DecisionTreeClassifier()  \n",
       "15  weighted F1        0.624341     0.618637  DecisionTreeClassifier()  "
      ]
     },
     "execution_count": 68,
     "metadata": {},
     "output_type": "execute_result"
    }
   ],
   "source": [
    "pps_pred_target"
   ]
  },
  {
   "cell_type": "code",
   "execution_count": 69,
   "id": "6788fc70",
   "metadata": {},
   "outputs": [
    {
     "name": "stdout",
     "output_type": "stream",
     "text": [
      "78,934\n"
     ]
    }
   ],
   "source": [
    "print(f'{len(full_catalog_df):,}')"
   ]
  },
  {
   "cell_type": "markdown",
   "id": "6058a82e",
   "metadata": {
    "id": "f567638a-2720-4d09-8fc4-0832c0307148"
   },
   "source": [
    "---"
   ]
  },
  {
   "cell_type": "markdown",
   "id": "e6b1633c",
   "metadata": {
    "id": "1b55b413-36ea-4c3a-b261-ae4f4b71045d"
   },
   "source": [
    "## Use Machine Learning (ML): PyCaret"
   ]
  },
  {
   "cell_type": "markdown",
   "id": "996aa43b",
   "metadata": {
    "id": "8BFUMLcApfnI"
   },
   "source": [
    "## Train Models"
   ]
  },
  {
   "cell_type": "markdown",
   "id": "f0e3f030",
   "metadata": {
    "id": "L0rK_gTcprFK"
   },
   "source": [
    "### AGN Detection Prediction"
   ]
  },
  {
   "cell_type": "code",
   "execution_count": 74,
   "id": "eee699f5",
   "metadata": {},
   "outputs": [],
   "source": [
    "final_feats = pps_pred_target.x.to_list()  # Before Boruta\n",
    "final_feats.remove('FUVmag')  # After Boruta"
   ]
  },
  {
   "cell_type": "code",
   "execution_count": 75,
   "id": "a6c7aeb2",
   "metadata": {},
   "outputs": [],
   "source": [
    "feats_2_discard = list_drop_corr + list_drop_pps + ['FUVmag']"
   ]
  },
  {
   "cell_type": "markdown",
   "id": "2454f1dc",
   "metadata": {},
   "source": [
    "Boruta discards one feature."
   ]
  },
  {
   "cell_type": "code",
   "execution_count": 76,
   "id": "dd79de61",
   "metadata": {
    "id": "ttLEcpmVst4j"
   },
   "outputs": [
    {
     "data": {
      "text/html": [
       "<style type=\"text/css\">\n",
       "#T_d0bd0_row29_col1, #T_d0bd0_row31_col1, #T_d0bd0_row44_col1 {\n",
       "  background-color: lightgreen;\n",
       "}\n",
       "</style>\n",
       "<table id=\"T_d0bd0\">\n",
       "  <thead>\n",
       "    <tr>\n",
       "      <th class=\"blank level0\" >&nbsp;</th>\n",
       "      <th id=\"T_d0bd0_level0_col0\" class=\"col_heading level0 col0\" >Description</th>\n",
       "      <th id=\"T_d0bd0_level0_col1\" class=\"col_heading level0 col1\" >Value</th>\n",
       "    </tr>\n",
       "  </thead>\n",
       "  <tbody>\n",
       "    <tr>\n",
       "      <th id=\"T_d0bd0_level0_row0\" class=\"row_heading level0 row0\" >0</th>\n",
       "      <td id=\"T_d0bd0_row0_col0\" class=\"data row0 col0\" >session_id</td>\n",
       "      <td id=\"T_d0bd0_row0_col1\" class=\"data row0 col1\" >42</td>\n",
       "    </tr>\n",
       "    <tr>\n",
       "      <th id=\"T_d0bd0_level0_row1\" class=\"row_heading level0 row1\" >1</th>\n",
       "      <td id=\"T_d0bd0_row1_col0\" class=\"data row1 col0\" >Target</td>\n",
       "      <td id=\"T_d0bd0_row1_col1\" class=\"data row1 col1\" >radio_detect</td>\n",
       "    </tr>\n",
       "    <tr>\n",
       "      <th id=\"T_d0bd0_level0_row2\" class=\"row_heading level0 row2\" >2</th>\n",
       "      <td id=\"T_d0bd0_row2_col0\" class=\"data row2 col0\" >Target Type</td>\n",
       "      <td id=\"T_d0bd0_row2_col1\" class=\"data row2 col1\" >Binary</td>\n",
       "    </tr>\n",
       "    <tr>\n",
       "      <th id=\"T_d0bd0_level0_row3\" class=\"row_heading level0 row3\" >3</th>\n",
       "      <td id=\"T_d0bd0_row3_col0\" class=\"data row3 col0\" >Label Encoded</td>\n",
       "      <td id=\"T_d0bd0_row3_col1\" class=\"data row3 col1\" >None</td>\n",
       "    </tr>\n",
       "    <tr>\n",
       "      <th id=\"T_d0bd0_level0_row4\" class=\"row_heading level0 row4\" >4</th>\n",
       "      <td id=\"T_d0bd0_row4_col0\" class=\"data row4 col0\" >Original Data</td>\n",
       "      <td id=\"T_d0bd0_row4_col1\" class=\"data row4 col1\" >(63147, 39)</td>\n",
       "    </tr>\n",
       "    <tr>\n",
       "      <th id=\"T_d0bd0_level0_row5\" class=\"row_heading level0 row5\" >5</th>\n",
       "      <td id=\"T_d0bd0_row5_col0\" class=\"data row5 col0\" >Missing Values</td>\n",
       "      <td id=\"T_d0bd0_row5_col1\" class=\"data row5 col1\" >False</td>\n",
       "    </tr>\n",
       "    <tr>\n",
       "      <th id=\"T_d0bd0_level0_row6\" class=\"row_heading level0 row6\" >6</th>\n",
       "      <td id=\"T_d0bd0_row6_col0\" class=\"data row6 col0\" >Numeric Features</td>\n",
       "      <td id=\"T_d0bd0_row6_col1\" class=\"data row6 col1\" >15</td>\n",
       "    </tr>\n",
       "    <tr>\n",
       "      <th id=\"T_d0bd0_level0_row7\" class=\"row_heading level0 row7\" >7</th>\n",
       "      <td id=\"T_d0bd0_row7_col0\" class=\"data row7 col0\" >Categorical Features</td>\n",
       "      <td id=\"T_d0bd0_row7_col1\" class=\"data row7 col1\" >0</td>\n",
       "    </tr>\n",
       "    <tr>\n",
       "      <th id=\"T_d0bd0_level0_row8\" class=\"row_heading level0 row8\" >8</th>\n",
       "      <td id=\"T_d0bd0_row8_col0\" class=\"data row8 col0\" >Ordinal Features</td>\n",
       "      <td id=\"T_d0bd0_row8_col1\" class=\"data row8 col1\" >False</td>\n",
       "    </tr>\n",
       "    <tr>\n",
       "      <th id=\"T_d0bd0_level0_row9\" class=\"row_heading level0 row9\" >9</th>\n",
       "      <td id=\"T_d0bd0_row9_col0\" class=\"data row9 col0\" >High Cardinality Features</td>\n",
       "      <td id=\"T_d0bd0_row9_col1\" class=\"data row9 col1\" >False</td>\n",
       "    </tr>\n",
       "    <tr>\n",
       "      <th id=\"T_d0bd0_level0_row10\" class=\"row_heading level0 row10\" >10</th>\n",
       "      <td id=\"T_d0bd0_row10_col0\" class=\"data row10 col0\" >High Cardinality Method</td>\n",
       "      <td id=\"T_d0bd0_row10_col1\" class=\"data row10 col1\" >None</td>\n",
       "    </tr>\n",
       "    <tr>\n",
       "      <th id=\"T_d0bd0_level0_row11\" class=\"row_heading level0 row11\" >11</th>\n",
       "      <td id=\"T_d0bd0_row11_col0\" class=\"data row11 col0\" >Transformed Train Set</td>\n",
       "      <td id=\"T_d0bd0_row11_col1\" class=\"data row11 col1\" >(44202, 15)</td>\n",
       "    </tr>\n",
       "    <tr>\n",
       "      <th id=\"T_d0bd0_level0_row12\" class=\"row_heading level0 row12\" >12</th>\n",
       "      <td id=\"T_d0bd0_row12_col0\" class=\"data row12 col0\" >Transformed Test Set</td>\n",
       "      <td id=\"T_d0bd0_row12_col1\" class=\"data row12 col1\" >(18945, 15)</td>\n",
       "    </tr>\n",
       "    <tr>\n",
       "      <th id=\"T_d0bd0_level0_row13\" class=\"row_heading level0 row13\" >13</th>\n",
       "      <td id=\"T_d0bd0_row13_col0\" class=\"data row13 col0\" >Shuffle Train-Test</td>\n",
       "      <td id=\"T_d0bd0_row13_col1\" class=\"data row13 col1\" >True</td>\n",
       "    </tr>\n",
       "    <tr>\n",
       "      <th id=\"T_d0bd0_level0_row14\" class=\"row_heading level0 row14\" >14</th>\n",
       "      <td id=\"T_d0bd0_row14_col0\" class=\"data row14 col0\" >Stratify Train-Test</td>\n",
       "      <td id=\"T_d0bd0_row14_col1\" class=\"data row14 col1\" >True</td>\n",
       "    </tr>\n",
       "    <tr>\n",
       "      <th id=\"T_d0bd0_level0_row15\" class=\"row_heading level0 row15\" >15</th>\n",
       "      <td id=\"T_d0bd0_row15_col0\" class=\"data row15 col0\" >Fold Generator</td>\n",
       "      <td id=\"T_d0bd0_row15_col1\" class=\"data row15 col1\" >StratifiedKFold</td>\n",
       "    </tr>\n",
       "    <tr>\n",
       "      <th id=\"T_d0bd0_level0_row16\" class=\"row_heading level0 row16\" >16</th>\n",
       "      <td id=\"T_d0bd0_row16_col0\" class=\"data row16 col0\" >Fold Number</td>\n",
       "      <td id=\"T_d0bd0_row16_col1\" class=\"data row16 col1\" >10</td>\n",
       "    </tr>\n",
       "    <tr>\n",
       "      <th id=\"T_d0bd0_level0_row17\" class=\"row_heading level0 row17\" >17</th>\n",
       "      <td id=\"T_d0bd0_row17_col0\" class=\"data row17 col0\" >CPU Jobs</td>\n",
       "      <td id=\"T_d0bd0_row17_col1\" class=\"data row17 col1\" >12</td>\n",
       "    </tr>\n",
       "    <tr>\n",
       "      <th id=\"T_d0bd0_level0_row18\" class=\"row_heading level0 row18\" >18</th>\n",
       "      <td id=\"T_d0bd0_row18_col0\" class=\"data row18 col0\" >Use GPU</td>\n",
       "      <td id=\"T_d0bd0_row18_col1\" class=\"data row18 col1\" >False</td>\n",
       "    </tr>\n",
       "    <tr>\n",
       "      <th id=\"T_d0bd0_level0_row19\" class=\"row_heading level0 row19\" >19</th>\n",
       "      <td id=\"T_d0bd0_row19_col0\" class=\"data row19 col0\" >Log Experiment</td>\n",
       "      <td id=\"T_d0bd0_row19_col1\" class=\"data row19 col1\" >False</td>\n",
       "    </tr>\n",
       "    <tr>\n",
       "      <th id=\"T_d0bd0_level0_row20\" class=\"row_heading level0 row20\" >20</th>\n",
       "      <td id=\"T_d0bd0_row20_col0\" class=\"data row20 col0\" >Experiment Name</td>\n",
       "      <td id=\"T_d0bd0_row20_col1\" class=\"data row20 col1\" >clf-default-name</td>\n",
       "    </tr>\n",
       "    <tr>\n",
       "      <th id=\"T_d0bd0_level0_row21\" class=\"row_heading level0 row21\" >21</th>\n",
       "      <td id=\"T_d0bd0_row21_col0\" class=\"data row21 col0\" >USI</td>\n",
       "      <td id=\"T_d0bd0_row21_col1\" class=\"data row21 col1\" >eca6</td>\n",
       "    </tr>\n",
       "    <tr>\n",
       "      <th id=\"T_d0bd0_level0_row22\" class=\"row_heading level0 row22\" >22</th>\n",
       "      <td id=\"T_d0bd0_row22_col0\" class=\"data row22 col0\" >Imputation Type</td>\n",
       "      <td id=\"T_d0bd0_row22_col1\" class=\"data row22 col1\" >simple</td>\n",
       "    </tr>\n",
       "    <tr>\n",
       "      <th id=\"T_d0bd0_level0_row23\" class=\"row_heading level0 row23\" >23</th>\n",
       "      <td id=\"T_d0bd0_row23_col0\" class=\"data row23 col0\" >Iterative Imputation Iteration</td>\n",
       "      <td id=\"T_d0bd0_row23_col1\" class=\"data row23 col1\" >None</td>\n",
       "    </tr>\n",
       "    <tr>\n",
       "      <th id=\"T_d0bd0_level0_row24\" class=\"row_heading level0 row24\" >24</th>\n",
       "      <td id=\"T_d0bd0_row24_col0\" class=\"data row24 col0\" >Numeric Imputer</td>\n",
       "      <td id=\"T_d0bd0_row24_col1\" class=\"data row24 col1\" >mean</td>\n",
       "    </tr>\n",
       "    <tr>\n",
       "      <th id=\"T_d0bd0_level0_row25\" class=\"row_heading level0 row25\" >25</th>\n",
       "      <td id=\"T_d0bd0_row25_col0\" class=\"data row25 col0\" >Iterative Imputation Numeric Model</td>\n",
       "      <td id=\"T_d0bd0_row25_col1\" class=\"data row25 col1\" >None</td>\n",
       "    </tr>\n",
       "    <tr>\n",
       "      <th id=\"T_d0bd0_level0_row26\" class=\"row_heading level0 row26\" >26</th>\n",
       "      <td id=\"T_d0bd0_row26_col0\" class=\"data row26 col0\" >Categorical Imputer</td>\n",
       "      <td id=\"T_d0bd0_row26_col1\" class=\"data row26 col1\" >constant</td>\n",
       "    </tr>\n",
       "    <tr>\n",
       "      <th id=\"T_d0bd0_level0_row27\" class=\"row_heading level0 row27\" >27</th>\n",
       "      <td id=\"T_d0bd0_row27_col0\" class=\"data row27 col0\" >Iterative Imputation Categorical Model</td>\n",
       "      <td id=\"T_d0bd0_row27_col1\" class=\"data row27 col1\" >None</td>\n",
       "    </tr>\n",
       "    <tr>\n",
       "      <th id=\"T_d0bd0_level0_row28\" class=\"row_heading level0 row28\" >28</th>\n",
       "      <td id=\"T_d0bd0_row28_col0\" class=\"data row28 col0\" >Unknown Categoricals Handling</td>\n",
       "      <td id=\"T_d0bd0_row28_col1\" class=\"data row28 col1\" >least_frequent</td>\n",
       "    </tr>\n",
       "    <tr>\n",
       "      <th id=\"T_d0bd0_level0_row29\" class=\"row_heading level0 row29\" >29</th>\n",
       "      <td id=\"T_d0bd0_row29_col0\" class=\"data row29 col0\" >Normalize</td>\n",
       "      <td id=\"T_d0bd0_row29_col1\" class=\"data row29 col1\" >True</td>\n",
       "    </tr>\n",
       "    <tr>\n",
       "      <th id=\"T_d0bd0_level0_row30\" class=\"row_heading level0 row30\" >30</th>\n",
       "      <td id=\"T_d0bd0_row30_col0\" class=\"data row30 col0\" >Normalize Method</td>\n",
       "      <td id=\"T_d0bd0_row30_col1\" class=\"data row30 col1\" >zscore</td>\n",
       "    </tr>\n",
       "    <tr>\n",
       "      <th id=\"T_d0bd0_level0_row31\" class=\"row_heading level0 row31\" >31</th>\n",
       "      <td id=\"T_d0bd0_row31_col0\" class=\"data row31 col0\" >Transformation</td>\n",
       "      <td id=\"T_d0bd0_row31_col1\" class=\"data row31 col1\" >True</td>\n",
       "    </tr>\n",
       "    <tr>\n",
       "      <th id=\"T_d0bd0_level0_row32\" class=\"row_heading level0 row32\" >32</th>\n",
       "      <td id=\"T_d0bd0_row32_col0\" class=\"data row32 col0\" >Transformation Method</td>\n",
       "      <td id=\"T_d0bd0_row32_col1\" class=\"data row32 col1\" >yeo-johnson</td>\n",
       "    </tr>\n",
       "    <tr>\n",
       "      <th id=\"T_d0bd0_level0_row33\" class=\"row_heading level0 row33\" >33</th>\n",
       "      <td id=\"T_d0bd0_row33_col0\" class=\"data row33 col0\" >PCA</td>\n",
       "      <td id=\"T_d0bd0_row33_col1\" class=\"data row33 col1\" >False</td>\n",
       "    </tr>\n",
       "    <tr>\n",
       "      <th id=\"T_d0bd0_level0_row34\" class=\"row_heading level0 row34\" >34</th>\n",
       "      <td id=\"T_d0bd0_row34_col0\" class=\"data row34 col0\" >PCA Method</td>\n",
       "      <td id=\"T_d0bd0_row34_col1\" class=\"data row34 col1\" >None</td>\n",
       "    </tr>\n",
       "    <tr>\n",
       "      <th id=\"T_d0bd0_level0_row35\" class=\"row_heading level0 row35\" >35</th>\n",
       "      <td id=\"T_d0bd0_row35_col0\" class=\"data row35 col0\" >PCA Components</td>\n",
       "      <td id=\"T_d0bd0_row35_col1\" class=\"data row35 col1\" >None</td>\n",
       "    </tr>\n",
       "    <tr>\n",
       "      <th id=\"T_d0bd0_level0_row36\" class=\"row_heading level0 row36\" >36</th>\n",
       "      <td id=\"T_d0bd0_row36_col0\" class=\"data row36 col0\" >Ignore Low Variance</td>\n",
       "      <td id=\"T_d0bd0_row36_col1\" class=\"data row36 col1\" >False</td>\n",
       "    </tr>\n",
       "    <tr>\n",
       "      <th id=\"T_d0bd0_level0_row37\" class=\"row_heading level0 row37\" >37</th>\n",
       "      <td id=\"T_d0bd0_row37_col0\" class=\"data row37 col0\" >Combine Rare Levels</td>\n",
       "      <td id=\"T_d0bd0_row37_col1\" class=\"data row37 col1\" >False</td>\n",
       "    </tr>\n",
       "    <tr>\n",
       "      <th id=\"T_d0bd0_level0_row38\" class=\"row_heading level0 row38\" >38</th>\n",
       "      <td id=\"T_d0bd0_row38_col0\" class=\"data row38 col0\" >Rare Level Threshold</td>\n",
       "      <td id=\"T_d0bd0_row38_col1\" class=\"data row38 col1\" >None</td>\n",
       "    </tr>\n",
       "    <tr>\n",
       "      <th id=\"T_d0bd0_level0_row39\" class=\"row_heading level0 row39\" >39</th>\n",
       "      <td id=\"T_d0bd0_row39_col0\" class=\"data row39 col0\" >Numeric Binning</td>\n",
       "      <td id=\"T_d0bd0_row39_col1\" class=\"data row39 col1\" >False</td>\n",
       "    </tr>\n",
       "    <tr>\n",
       "      <th id=\"T_d0bd0_level0_row40\" class=\"row_heading level0 row40\" >40</th>\n",
       "      <td id=\"T_d0bd0_row40_col0\" class=\"data row40 col0\" >Remove Outliers</td>\n",
       "      <td id=\"T_d0bd0_row40_col1\" class=\"data row40 col1\" >False</td>\n",
       "    </tr>\n",
       "    <tr>\n",
       "      <th id=\"T_d0bd0_level0_row41\" class=\"row_heading level0 row41\" >41</th>\n",
       "      <td id=\"T_d0bd0_row41_col0\" class=\"data row41 col0\" >Outliers Threshold</td>\n",
       "      <td id=\"T_d0bd0_row41_col1\" class=\"data row41 col1\" >None</td>\n",
       "    </tr>\n",
       "    <tr>\n",
       "      <th id=\"T_d0bd0_level0_row42\" class=\"row_heading level0 row42\" >42</th>\n",
       "      <td id=\"T_d0bd0_row42_col0\" class=\"data row42 col0\" >Remove Multicollinearity</td>\n",
       "      <td id=\"T_d0bd0_row42_col1\" class=\"data row42 col1\" >False</td>\n",
       "    </tr>\n",
       "    <tr>\n",
       "      <th id=\"T_d0bd0_level0_row43\" class=\"row_heading level0 row43\" >43</th>\n",
       "      <td id=\"T_d0bd0_row43_col0\" class=\"data row43 col0\" >Multicollinearity Threshold</td>\n",
       "      <td id=\"T_d0bd0_row43_col1\" class=\"data row43 col1\" >None</td>\n",
       "    </tr>\n",
       "    <tr>\n",
       "      <th id=\"T_d0bd0_level0_row44\" class=\"row_heading level0 row44\" >44</th>\n",
       "      <td id=\"T_d0bd0_row44_col0\" class=\"data row44 col0\" >Remove Perfect Collinearity</td>\n",
       "      <td id=\"T_d0bd0_row44_col1\" class=\"data row44 col1\" >True</td>\n",
       "    </tr>\n",
       "    <tr>\n",
       "      <th id=\"T_d0bd0_level0_row45\" class=\"row_heading level0 row45\" >45</th>\n",
       "      <td id=\"T_d0bd0_row45_col0\" class=\"data row45 col0\" >Clustering</td>\n",
       "      <td id=\"T_d0bd0_row45_col1\" class=\"data row45 col1\" >False</td>\n",
       "    </tr>\n",
       "    <tr>\n",
       "      <th id=\"T_d0bd0_level0_row46\" class=\"row_heading level0 row46\" >46</th>\n",
       "      <td id=\"T_d0bd0_row46_col0\" class=\"data row46 col0\" >Clustering Iteration</td>\n",
       "      <td id=\"T_d0bd0_row46_col1\" class=\"data row46 col1\" >None</td>\n",
       "    </tr>\n",
       "    <tr>\n",
       "      <th id=\"T_d0bd0_level0_row47\" class=\"row_heading level0 row47\" >47</th>\n",
       "      <td id=\"T_d0bd0_row47_col0\" class=\"data row47 col0\" >Polynomial Features</td>\n",
       "      <td id=\"T_d0bd0_row47_col1\" class=\"data row47 col1\" >False</td>\n",
       "    </tr>\n",
       "    <tr>\n",
       "      <th id=\"T_d0bd0_level0_row48\" class=\"row_heading level0 row48\" >48</th>\n",
       "      <td id=\"T_d0bd0_row48_col0\" class=\"data row48 col0\" >Polynomial Degree</td>\n",
       "      <td id=\"T_d0bd0_row48_col1\" class=\"data row48 col1\" >None</td>\n",
       "    </tr>\n",
       "    <tr>\n",
       "      <th id=\"T_d0bd0_level0_row49\" class=\"row_heading level0 row49\" >49</th>\n",
       "      <td id=\"T_d0bd0_row49_col0\" class=\"data row49 col0\" >Trignometry Features</td>\n",
       "      <td id=\"T_d0bd0_row49_col1\" class=\"data row49 col1\" >False</td>\n",
       "    </tr>\n",
       "    <tr>\n",
       "      <th id=\"T_d0bd0_level0_row50\" class=\"row_heading level0 row50\" >50</th>\n",
       "      <td id=\"T_d0bd0_row50_col0\" class=\"data row50 col0\" >Polynomial Threshold</td>\n",
       "      <td id=\"T_d0bd0_row50_col1\" class=\"data row50 col1\" >None</td>\n",
       "    </tr>\n",
       "    <tr>\n",
       "      <th id=\"T_d0bd0_level0_row51\" class=\"row_heading level0 row51\" >51</th>\n",
       "      <td id=\"T_d0bd0_row51_col0\" class=\"data row51 col0\" >Group Features</td>\n",
       "      <td id=\"T_d0bd0_row51_col1\" class=\"data row51 col1\" >False</td>\n",
       "    </tr>\n",
       "    <tr>\n",
       "      <th id=\"T_d0bd0_level0_row52\" class=\"row_heading level0 row52\" >52</th>\n",
       "      <td id=\"T_d0bd0_row52_col0\" class=\"data row52 col0\" >Feature Selection</td>\n",
       "      <td id=\"T_d0bd0_row52_col1\" class=\"data row52 col1\" >False</td>\n",
       "    </tr>\n",
       "    <tr>\n",
       "      <th id=\"T_d0bd0_level0_row53\" class=\"row_heading level0 row53\" >53</th>\n",
       "      <td id=\"T_d0bd0_row53_col0\" class=\"data row53 col0\" >Feature Selection Method</td>\n",
       "      <td id=\"T_d0bd0_row53_col1\" class=\"data row53 col1\" >boruta</td>\n",
       "    </tr>\n",
       "    <tr>\n",
       "      <th id=\"T_d0bd0_level0_row54\" class=\"row_heading level0 row54\" >54</th>\n",
       "      <td id=\"T_d0bd0_row54_col0\" class=\"data row54 col0\" >Features Selection Threshold</td>\n",
       "      <td id=\"T_d0bd0_row54_col1\" class=\"data row54 col1\" >None</td>\n",
       "    </tr>\n",
       "    <tr>\n",
       "      <th id=\"T_d0bd0_level0_row55\" class=\"row_heading level0 row55\" >55</th>\n",
       "      <td id=\"T_d0bd0_row55_col0\" class=\"data row55 col0\" >Feature Interaction</td>\n",
       "      <td id=\"T_d0bd0_row55_col1\" class=\"data row55 col1\" >False</td>\n",
       "    </tr>\n",
       "    <tr>\n",
       "      <th id=\"T_d0bd0_level0_row56\" class=\"row_heading level0 row56\" >56</th>\n",
       "      <td id=\"T_d0bd0_row56_col0\" class=\"data row56 col0\" >Feature Ratio</td>\n",
       "      <td id=\"T_d0bd0_row56_col1\" class=\"data row56 col1\" >False</td>\n",
       "    </tr>\n",
       "    <tr>\n",
       "      <th id=\"T_d0bd0_level0_row57\" class=\"row_heading level0 row57\" >57</th>\n",
       "      <td id=\"T_d0bd0_row57_col0\" class=\"data row57 col0\" >Interaction Threshold</td>\n",
       "      <td id=\"T_d0bd0_row57_col1\" class=\"data row57 col1\" >None</td>\n",
       "    </tr>\n",
       "    <tr>\n",
       "      <th id=\"T_d0bd0_level0_row58\" class=\"row_heading level0 row58\" >58</th>\n",
       "      <td id=\"T_d0bd0_row58_col0\" class=\"data row58 col0\" >Fix Imbalance</td>\n",
       "      <td id=\"T_d0bd0_row58_col1\" class=\"data row58 col1\" >False</td>\n",
       "    </tr>\n",
       "    <tr>\n",
       "      <th id=\"T_d0bd0_level0_row59\" class=\"row_heading level0 row59\" >59</th>\n",
       "      <td id=\"T_d0bd0_row59_col0\" class=\"data row59 col0\" >Fix Imbalance Method</td>\n",
       "      <td id=\"T_d0bd0_row59_col1\" class=\"data row59 col1\" >SMOTE</td>\n",
       "    </tr>\n",
       "  </tbody>\n",
       "</table>\n"
      ],
      "text/plain": [
       "<pandas.io.formats.style.Styler at 0x7fc159eab760>"
      ]
     },
     "metadata": {},
     "output_type": "display_data"
    }
   ],
   "source": [
    "exp_radio = pyc.setup(data=train_test_df, target='radio_detect', session_id=seed, silent=True,\\\n",
    "                    feature_selection=False, feature_selection_method='boruta', data_split_stratify=True,\\\n",
    "                    numeric_features=final_feats, ignore_features=feats_2_discard, transformation=True,\\\n",
    "                    transformation_method='yeo-johnson', n_jobs=12, normalize=True,\\\n",
    "                    normalize_method='zscore', use_gpu=False)  # 15 minutes with Boruta # 5 without"
   ]
  },
  {
   "cell_type": "code",
   "execution_count": 77,
   "id": "b557e053",
   "metadata": {
    "id": "ykHUiWyetG0G"
   },
   "outputs": [
    {
     "data": {
      "text/plain": [
       "Index(['band_num', 'NUVmag', 'W4mag', 'g_r', 'r_i', 'i_z', 'z_y', 'w1_w2',\n",
       "       'w2_w3', 'w3_w4', 'J_H', 'H_K', 'FUV/K', 'z/W1', 'y/W2'],\n",
       "      dtype='object')"
      ]
     },
     "execution_count": 77,
     "metadata": {},
     "output_type": "execute_result"
    }
   ],
   "source": [
    "pyc.get_config('X').columns"
   ]
  },
  {
   "cell_type": "code",
   "execution_count": 78,
   "id": "8781ef41",
   "metadata": {
    "id": "JFF_T52ztI11"
   },
   "outputs": [
    {
     "data": {
      "text/html": [
       "<div>\n",
       "<style scoped>\n",
       "    .dataframe tbody tr th:only-of-type {\n",
       "        vertical-align: middle;\n",
       "    }\n",
       "\n",
       "    .dataframe tbody tr th {\n",
       "        vertical-align: top;\n",
       "    }\n",
       "\n",
       "    .dataframe thead th {\n",
       "        text-align: right;\n",
       "    }\n",
       "</style>\n",
       "<table border=\"1\" class=\"dataframe\">\n",
       "  <thead>\n",
       "    <tr style=\"text-align: right;\">\n",
       "      <th></th>\n",
       "      <th>Name</th>\n",
       "      <th>Reference</th>\n",
       "      <th>Turbo</th>\n",
       "    </tr>\n",
       "    <tr>\n",
       "      <th>ID</th>\n",
       "      <th></th>\n",
       "      <th></th>\n",
       "      <th></th>\n",
       "    </tr>\n",
       "  </thead>\n",
       "  <tbody>\n",
       "    <tr>\n",
       "      <th>lr</th>\n",
       "      <td>Logistic Regression</td>\n",
       "      <td>sklearn.linear_model._logistic.LogisticRegression</td>\n",
       "      <td>True</td>\n",
       "    </tr>\n",
       "    <tr>\n",
       "      <th>knn</th>\n",
       "      <td>K Neighbors Classifier</td>\n",
       "      <td>sklearn.neighbors._classification.KNeighborsCl...</td>\n",
       "      <td>True</td>\n",
       "    </tr>\n",
       "    <tr>\n",
       "      <th>nb</th>\n",
       "      <td>Naive Bayes</td>\n",
       "      <td>sklearn.naive_bayes.GaussianNB</td>\n",
       "      <td>True</td>\n",
       "    </tr>\n",
       "    <tr>\n",
       "      <th>dt</th>\n",
       "      <td>Decision Tree Classifier</td>\n",
       "      <td>sklearn.tree._classes.DecisionTreeClassifier</td>\n",
       "      <td>True</td>\n",
       "    </tr>\n",
       "    <tr>\n",
       "      <th>svm</th>\n",
       "      <td>SVM - Linear Kernel</td>\n",
       "      <td>sklearn.linear_model._stochastic_gradient.SGDC...</td>\n",
       "      <td>True</td>\n",
       "    </tr>\n",
       "    <tr>\n",
       "      <th>rbfsvm</th>\n",
       "      <td>SVM - Radial Kernel</td>\n",
       "      <td>sklearn.svm._classes.SVC</td>\n",
       "      <td>False</td>\n",
       "    </tr>\n",
       "    <tr>\n",
       "      <th>gpc</th>\n",
       "      <td>Gaussian Process Classifier</td>\n",
       "      <td>sklearn.gaussian_process._gpc.GaussianProcessC...</td>\n",
       "      <td>False</td>\n",
       "    </tr>\n",
       "    <tr>\n",
       "      <th>mlp</th>\n",
       "      <td>MLP Classifier</td>\n",
       "      <td>sklearn.neural_network._multilayer_perceptron....</td>\n",
       "      <td>False</td>\n",
       "    </tr>\n",
       "    <tr>\n",
       "      <th>ridge</th>\n",
       "      <td>Ridge Classifier</td>\n",
       "      <td>sklearn.linear_model._ridge.RidgeClassifier</td>\n",
       "      <td>True</td>\n",
       "    </tr>\n",
       "    <tr>\n",
       "      <th>rf</th>\n",
       "      <td>Random Forest Classifier</td>\n",
       "      <td>sklearn.ensemble._forest.RandomForestClassifier</td>\n",
       "      <td>True</td>\n",
       "    </tr>\n",
       "    <tr>\n",
       "      <th>qda</th>\n",
       "      <td>Quadratic Discriminant Analysis</td>\n",
       "      <td>sklearn.discriminant_analysis.QuadraticDiscrim...</td>\n",
       "      <td>True</td>\n",
       "    </tr>\n",
       "    <tr>\n",
       "      <th>ada</th>\n",
       "      <td>Ada Boost Classifier</td>\n",
       "      <td>sklearn.ensemble._weight_boosting.AdaBoostClas...</td>\n",
       "      <td>True</td>\n",
       "    </tr>\n",
       "    <tr>\n",
       "      <th>gbc</th>\n",
       "      <td>Gradient Boosting Classifier</td>\n",
       "      <td>sklearn.ensemble._gb.GradientBoostingClassifier</td>\n",
       "      <td>True</td>\n",
       "    </tr>\n",
       "    <tr>\n",
       "      <th>lda</th>\n",
       "      <td>Linear Discriminant Analysis</td>\n",
       "      <td>sklearn.discriminant_analysis.LinearDiscrimina...</td>\n",
       "      <td>True</td>\n",
       "    </tr>\n",
       "    <tr>\n",
       "      <th>et</th>\n",
       "      <td>Extra Trees Classifier</td>\n",
       "      <td>sklearn.ensemble._forest.ExtraTreesClassifier</td>\n",
       "      <td>True</td>\n",
       "    </tr>\n",
       "    <tr>\n",
       "      <th>xgboost</th>\n",
       "      <td>Extreme Gradient Boosting</td>\n",
       "      <td>xgboost.sklearn.XGBClassifier</td>\n",
       "      <td>True</td>\n",
       "    </tr>\n",
       "    <tr>\n",
       "      <th>lightgbm</th>\n",
       "      <td>Light Gradient Boosting Machine</td>\n",
       "      <td>lightgbm.sklearn.LGBMClassifier</td>\n",
       "      <td>True</td>\n",
       "    </tr>\n",
       "    <tr>\n",
       "      <th>catboost</th>\n",
       "      <td>CatBoost Classifier</td>\n",
       "      <td>catboost.core.CatBoostClassifier</td>\n",
       "      <td>True</td>\n",
       "    </tr>\n",
       "    <tr>\n",
       "      <th>dummy</th>\n",
       "      <td>Dummy Classifier</td>\n",
       "      <td>sklearn.dummy.DummyClassifier</td>\n",
       "      <td>True</td>\n",
       "    </tr>\n",
       "  </tbody>\n",
       "</table>\n",
       "</div>"
      ],
      "text/plain": [
       "                                     Name  \\\n",
       "ID                                          \n",
       "lr                    Logistic Regression   \n",
       "knn                K Neighbors Classifier   \n",
       "nb                            Naive Bayes   \n",
       "dt               Decision Tree Classifier   \n",
       "svm                   SVM - Linear Kernel   \n",
       "rbfsvm                SVM - Radial Kernel   \n",
       "gpc           Gaussian Process Classifier   \n",
       "mlp                        MLP Classifier   \n",
       "ridge                    Ridge Classifier   \n",
       "rf               Random Forest Classifier   \n",
       "qda       Quadratic Discriminant Analysis   \n",
       "ada                  Ada Boost Classifier   \n",
       "gbc          Gradient Boosting Classifier   \n",
       "lda          Linear Discriminant Analysis   \n",
       "et                 Extra Trees Classifier   \n",
       "xgboost         Extreme Gradient Boosting   \n",
       "lightgbm  Light Gradient Boosting Machine   \n",
       "catboost              CatBoost Classifier   \n",
       "dummy                    Dummy Classifier   \n",
       "\n",
       "                                                  Reference  Turbo  \n",
       "ID                                                                  \n",
       "lr        sklearn.linear_model._logistic.LogisticRegression   True  \n",
       "knn       sklearn.neighbors._classification.KNeighborsCl...   True  \n",
       "nb                           sklearn.naive_bayes.GaussianNB   True  \n",
       "dt             sklearn.tree._classes.DecisionTreeClassifier   True  \n",
       "svm       sklearn.linear_model._stochastic_gradient.SGDC...   True  \n",
       "rbfsvm                             sklearn.svm._classes.SVC  False  \n",
       "gpc       sklearn.gaussian_process._gpc.GaussianProcessC...  False  \n",
       "mlp       sklearn.neural_network._multilayer_perceptron....  False  \n",
       "ridge           sklearn.linear_model._ridge.RidgeClassifier   True  \n",
       "rf          sklearn.ensemble._forest.RandomForestClassifier   True  \n",
       "qda       sklearn.discriminant_analysis.QuadraticDiscrim...   True  \n",
       "ada       sklearn.ensemble._weight_boosting.AdaBoostClas...   True  \n",
       "gbc         sklearn.ensemble._gb.GradientBoostingClassifier   True  \n",
       "lda       sklearn.discriminant_analysis.LinearDiscrimina...   True  \n",
       "et            sklearn.ensemble._forest.ExtraTreesClassifier   True  \n",
       "xgboost                       xgboost.sklearn.XGBClassifier   True  \n",
       "lightgbm                    lightgbm.sklearn.LGBMClassifier   True  \n",
       "catboost                   catboost.core.CatBoostClassifier   True  \n",
       "dummy                         sklearn.dummy.DummyClassifier   True  "
      ]
     },
     "execution_count": 78,
     "metadata": {},
     "output_type": "execute_result"
    }
   ],
   "source": [
    "pyc.models()"
   ]
  },
  {
   "cell_type": "code",
   "execution_count": 79,
   "id": "154733f5",
   "metadata": {
    "id": "m3mCNspXtLnI"
   },
   "outputs": [
    {
     "data": {
      "text/html": [
       "<style type=\"text/css\">\n",
       "#T_7756d th {\n",
       "  text-align: left;\n",
       "}\n",
       "#T_7756d_row0_col0, #T_7756d_row0_col3, #T_7756d_row0_col4, #T_7756d_row0_col5, #T_7756d_row0_col6, #T_7756d_row1_col0, #T_7756d_row1_col1, #T_7756d_row1_col2, #T_7756d_row1_col3, #T_7756d_row1_col4, #T_7756d_row1_col5, #T_7756d_row1_col6, #T_7756d_row1_col7, #T_7756d_row2_col0, #T_7756d_row2_col1, #T_7756d_row2_col2, #T_7756d_row2_col3, #T_7756d_row2_col4, #T_7756d_row2_col5, #T_7756d_row2_col6, #T_7756d_row2_col7, #T_7756d_row3_col0, #T_7756d_row3_col1, #T_7756d_row3_col2, #T_7756d_row3_col3, #T_7756d_row3_col4, #T_7756d_row3_col5, #T_7756d_row3_col6, #T_7756d_row3_col7, #T_7756d_row4_col0, #T_7756d_row4_col1, #T_7756d_row4_col2, #T_7756d_row4_col3, #T_7756d_row4_col4, #T_7756d_row4_col5, #T_7756d_row4_col6, #T_7756d_row4_col7, #T_7756d_row5_col0, #T_7756d_row5_col1, #T_7756d_row5_col2, #T_7756d_row5_col3, #T_7756d_row5_col4, #T_7756d_row5_col7, #T_7756d_row6_col0, #T_7756d_row6_col1, #T_7756d_row6_col2, #T_7756d_row6_col3, #T_7756d_row6_col4, #T_7756d_row6_col5, #T_7756d_row6_col6, #T_7756d_row6_col7, #T_7756d_row7_col0, #T_7756d_row7_col1, #T_7756d_row7_col2, #T_7756d_row7_col3, #T_7756d_row7_col4, #T_7756d_row7_col5, #T_7756d_row7_col6, #T_7756d_row7_col7, #T_7756d_row8_col0, #T_7756d_row8_col1, #T_7756d_row8_col2, #T_7756d_row8_col3, #T_7756d_row8_col4, #T_7756d_row8_col5, #T_7756d_row8_col6, #T_7756d_row8_col7, #T_7756d_row9_col0, #T_7756d_row9_col1, #T_7756d_row9_col2, #T_7756d_row9_col3, #T_7756d_row9_col5, #T_7756d_row9_col6, #T_7756d_row9_col7, #T_7756d_row10_col0, #T_7756d_row10_col1, #T_7756d_row10_col2, #T_7756d_row10_col3, #T_7756d_row10_col4, #T_7756d_row10_col5, #T_7756d_row10_col6, #T_7756d_row10_col7, #T_7756d_row11_col0, #T_7756d_row11_col1, #T_7756d_row11_col2, #T_7756d_row11_col3, #T_7756d_row11_col4, #T_7756d_row11_col5, #T_7756d_row11_col6, #T_7756d_row11_col7, #T_7756d_row12_col0, #T_7756d_row12_col1, #T_7756d_row12_col2, #T_7756d_row12_col3, #T_7756d_row12_col4, #T_7756d_row12_col5, #T_7756d_row12_col6, #T_7756d_row12_col7, #T_7756d_row13_col0, #T_7756d_row13_col1, #T_7756d_row13_col2, #T_7756d_row13_col4, #T_7756d_row13_col5, #T_7756d_row13_col6, #T_7756d_row13_col7, #T_7756d_row14_col0, #T_7756d_row14_col1, #T_7756d_row14_col2, #T_7756d_row14_col3, #T_7756d_row14_col4, #T_7756d_row14_col5, #T_7756d_row14_col6, #T_7756d_row14_col7 {\n",
       "  text-align: left;\n",
       "}\n",
       "#T_7756d_row0_col1, #T_7756d_row0_col2, #T_7756d_row0_col7, #T_7756d_row5_col5, #T_7756d_row5_col6, #T_7756d_row9_col4, #T_7756d_row13_col3 {\n",
       "  text-align: left;\n",
       "  background-color: yellow;\n",
       "}\n",
       "#T_7756d_row0_col8, #T_7756d_row1_col8, #T_7756d_row2_col8, #T_7756d_row3_col8, #T_7756d_row4_col8, #T_7756d_row5_col8, #T_7756d_row6_col8, #T_7756d_row7_col8, #T_7756d_row8_col8, #T_7756d_row10_col8, #T_7756d_row11_col8, #T_7756d_row12_col8, #T_7756d_row13_col8, #T_7756d_row14_col8 {\n",
       "  text-align: left;\n",
       "  background-color: lightgrey;\n",
       "}\n",
       "#T_7756d_row9_col8 {\n",
       "  text-align: left;\n",
       "  background-color: yellow;\n",
       "  background-color: lightgrey;\n",
       "}\n",
       "</style>\n",
       "<table id=\"T_7756d\">\n",
       "  <thead>\n",
       "    <tr>\n",
       "      <th class=\"blank level0\" >&nbsp;</th>\n",
       "      <th id=\"T_7756d_level0_col0\" class=\"col_heading level0 col0\" >Model</th>\n",
       "      <th id=\"T_7756d_level0_col1\" class=\"col_heading level0 col1\" >Accuracy</th>\n",
       "      <th id=\"T_7756d_level0_col2\" class=\"col_heading level0 col2\" >AUC</th>\n",
       "      <th id=\"T_7756d_level0_col3\" class=\"col_heading level0 col3\" >Recall</th>\n",
       "      <th id=\"T_7756d_level0_col4\" class=\"col_heading level0 col4\" >Prec.</th>\n",
       "      <th id=\"T_7756d_level0_col5\" class=\"col_heading level0 col5\" >F1</th>\n",
       "      <th id=\"T_7756d_level0_col6\" class=\"col_heading level0 col6\" >Kappa</th>\n",
       "      <th id=\"T_7756d_level0_col7\" class=\"col_heading level0 col7\" >MCC</th>\n",
       "      <th id=\"T_7756d_level0_col8\" class=\"col_heading level0 col8\" >TT (Sec)</th>\n",
       "    </tr>\n",
       "  </thead>\n",
       "  <tbody>\n",
       "    <tr>\n",
       "      <th id=\"T_7756d_level0_row0\" class=\"row_heading level0 row0\" >lightgbm</th>\n",
       "      <td id=\"T_7756d_row0_col0\" class=\"data row0 col0\" >Light Gradient Boosting Machine</td>\n",
       "      <td id=\"T_7756d_row0_col1\" class=\"data row0 col1\" >0.7798</td>\n",
       "      <td id=\"T_7756d_row0_col2\" class=\"data row0 col2\" >0.7974</td>\n",
       "      <td id=\"T_7756d_row0_col3\" class=\"data row0 col3\" >0.3368</td>\n",
       "      <td id=\"T_7756d_row0_col4\" class=\"data row0 col4\" >0.6886</td>\n",
       "      <td id=\"T_7756d_row0_col5\" class=\"data row0 col5\" >0.4522</td>\n",
       "      <td id=\"T_7756d_row0_col6\" class=\"data row0 col6\" >0.3341</td>\n",
       "      <td id=\"T_7756d_row0_col7\" class=\"data row0 col7\" >0.3677</td>\n",
       "      <td id=\"T_7756d_row0_col8\" class=\"data row0 col8\" >27.5110</td>\n",
       "    </tr>\n",
       "    <tr>\n",
       "      <th id=\"T_7756d_level0_row1\" class=\"row_heading level0 row1\" >catboost</th>\n",
       "      <td id=\"T_7756d_row1_col0\" class=\"data row1 col0\" >CatBoost Classifier</td>\n",
       "      <td id=\"T_7756d_row1_col1\" class=\"data row1 col1\" >0.7789</td>\n",
       "      <td id=\"T_7756d_row1_col2\" class=\"data row1 col2\" >0.7971</td>\n",
       "      <td id=\"T_7756d_row1_col3\" class=\"data row1 col3\" >0.3436</td>\n",
       "      <td id=\"T_7756d_row1_col4\" class=\"data row1 col4\" >0.6787</td>\n",
       "      <td id=\"T_7756d_row1_col5\" class=\"data row1 col5\" >0.4561</td>\n",
       "      <td id=\"T_7756d_row1_col6\" class=\"data row1 col6\" >0.3356</td>\n",
       "      <td id=\"T_7756d_row1_col7\" class=\"data row1 col7\" >0.3663</td>\n",
       "      <td id=\"T_7756d_row1_col8\" class=\"data row1 col8\" >1.6350</td>\n",
       "    </tr>\n",
       "    <tr>\n",
       "      <th id=\"T_7756d_level0_row2\" class=\"row_heading level0 row2\" >gbc</th>\n",
       "      <td id=\"T_7756d_row2_col0\" class=\"data row2 col0\" >Gradient Boosting Classifier</td>\n",
       "      <td id=\"T_7756d_row2_col1\" class=\"data row2 col1\" >0.7795</td>\n",
       "      <td id=\"T_7756d_row2_col2\" class=\"data row2 col2\" >0.7950</td>\n",
       "      <td id=\"T_7756d_row2_col3\" class=\"data row2 col3\" >0.3183</td>\n",
       "      <td id=\"T_7756d_row2_col4\" class=\"data row2 col4\" >0.7024</td>\n",
       "      <td id=\"T_7756d_row2_col5\" class=\"data row2 col5\" >0.4379</td>\n",
       "      <td id=\"T_7756d_row2_col6\" class=\"data row2 col6\" >0.3241</td>\n",
       "      <td id=\"T_7756d_row2_col7\" class=\"data row2 col7\" >0.3635</td>\n",
       "      <td id=\"T_7756d_row2_col8\" class=\"data row2 col8\" >1.0050</td>\n",
       "    </tr>\n",
       "    <tr>\n",
       "      <th id=\"T_7756d_level0_row3\" class=\"row_heading level0 row3\" >ada</th>\n",
       "      <td id=\"T_7756d_row3_col0\" class=\"data row3 col0\" >Ada Boost Classifier</td>\n",
       "      <td id=\"T_7756d_row3_col1\" class=\"data row3 col1\" >0.7764</td>\n",
       "      <td id=\"T_7756d_row3_col2\" class=\"data row3 col2\" >0.7879</td>\n",
       "      <td id=\"T_7756d_row3_col3\" class=\"data row3 col3\" >0.3264</td>\n",
       "      <td id=\"T_7756d_row3_col4\" class=\"data row3 col4\" >0.6787</td>\n",
       "      <td id=\"T_7756d_row3_col5\" class=\"data row3 col5\" >0.4406</td>\n",
       "      <td id=\"T_7756d_row3_col6\" class=\"data row3 col6\" >0.3217</td>\n",
       "      <td id=\"T_7756d_row3_col7\" class=\"data row3 col7\" >0.3555</td>\n",
       "      <td id=\"T_7756d_row3_col8\" class=\"data row3 col8\" >0.2530</td>\n",
       "    </tr>\n",
       "    <tr>\n",
       "      <th id=\"T_7756d_level0_row4\" class=\"row_heading level0 row4\" >xgboost</th>\n",
       "      <td id=\"T_7756d_row4_col0\" class=\"data row4 col0\" >Extreme Gradient Boosting</td>\n",
       "      <td id=\"T_7756d_row4_col1\" class=\"data row4 col1\" >0.7736</td>\n",
       "      <td id=\"T_7756d_row4_col2\" class=\"data row4 col2\" >0.7882</td>\n",
       "      <td id=\"T_7756d_row4_col3\" class=\"data row4 col3\" >0.3452</td>\n",
       "      <td id=\"T_7756d_row4_col4\" class=\"data row4 col4\" >0.6529</td>\n",
       "      <td id=\"T_7756d_row4_col5\" class=\"data row4 col5\" >0.4516</td>\n",
       "      <td id=\"T_7756d_row4_col6\" class=\"data row4 col6\" >0.3256</td>\n",
       "      <td id=\"T_7756d_row4_col7\" class=\"data row4 col7\" >0.3519</td>\n",
       "      <td id=\"T_7756d_row4_col8\" class=\"data row4 col8\" >8.3410</td>\n",
       "    </tr>\n",
       "    <tr>\n",
       "      <th id=\"T_7756d_level0_row5\" class=\"row_heading level0 row5\" >rf</th>\n",
       "      <td id=\"T_7756d_row5_col0\" class=\"data row5 col0\" >Random Forest Classifier</td>\n",
       "      <td id=\"T_7756d_row5_col1\" class=\"data row5 col1\" >0.7674</td>\n",
       "      <td id=\"T_7756d_row5_col2\" class=\"data row5 col2\" >0.7682</td>\n",
       "      <td id=\"T_7756d_row5_col3\" class=\"data row5 col3\" >0.3957</td>\n",
       "      <td id=\"T_7756d_row5_col4\" class=\"data row5 col4\" >0.6062</td>\n",
       "      <td id=\"T_7756d_row5_col5\" class=\"data row5 col5\" >0.4787</td>\n",
       "      <td id=\"T_7756d_row5_col6\" class=\"data row5 col6\" >0.3374</td>\n",
       "      <td id=\"T_7756d_row5_col7\" class=\"data row5 col7\" >0.3502</td>\n",
       "      <td id=\"T_7756d_row5_col8\" class=\"data row5 col8\" >0.5010</td>\n",
       "    </tr>\n",
       "    <tr>\n",
       "      <th id=\"T_7756d_level0_row6\" class=\"row_heading level0 row6\" >lr</th>\n",
       "      <td id=\"T_7756d_row6_col0\" class=\"data row6 col0\" >Logistic Regression</td>\n",
       "      <td id=\"T_7756d_row6_col1\" class=\"data row6 col1\" >0.7747</td>\n",
       "      <td id=\"T_7756d_row6_col2\" class=\"data row6 col2\" >0.7863</td>\n",
       "      <td id=\"T_7756d_row6_col3\" class=\"data row6 col3\" >0.3187</td>\n",
       "      <td id=\"T_7756d_row6_col4\" class=\"data row6 col4\" >0.6758</td>\n",
       "      <td id=\"T_7756d_row6_col5\" class=\"data row6 col5\" >0.4331</td>\n",
       "      <td id=\"T_7756d_row6_col6\" class=\"data row6 col6\" >0.3144</td>\n",
       "      <td id=\"T_7756d_row6_col7\" class=\"data row6 col7\" >0.3491</td>\n",
       "      <td id=\"T_7756d_row6_col8\" class=\"data row6 col8\" >0.2550</td>\n",
       "    </tr>\n",
       "    <tr>\n",
       "      <th id=\"T_7756d_level0_row7\" class=\"row_heading level0 row7\" >lda</th>\n",
       "      <td id=\"T_7756d_row7_col0\" class=\"data row7 col0\" >Linear Discriminant Analysis</td>\n",
       "      <td id=\"T_7756d_row7_col1\" class=\"data row7 col1\" >0.7743</td>\n",
       "      <td id=\"T_7756d_row7_col2\" class=\"data row7 col2\" >0.7859</td>\n",
       "      <td id=\"T_7756d_row7_col3\" class=\"data row7 col3\" >0.2975</td>\n",
       "      <td id=\"T_7756d_row7_col4\" class=\"data row7 col4\" >0.6907</td>\n",
       "      <td id=\"T_7756d_row7_col5\" class=\"data row7 col5\" >0.4157</td>\n",
       "      <td id=\"T_7756d_row7_col6\" class=\"data row7 col6\" >0.3023</td>\n",
       "      <td id=\"T_7756d_row7_col7\" class=\"data row7 col7\" >0.3437</td>\n",
       "      <td id=\"T_7756d_row7_col8\" class=\"data row7 col8\" >0.0260</td>\n",
       "    </tr>\n",
       "    <tr>\n",
       "      <th id=\"T_7756d_level0_row8\" class=\"row_heading level0 row8\" >et</th>\n",
       "      <td id=\"T_7756d_row8_col0\" class=\"data row8 col0\" >Extra Trees Classifier</td>\n",
       "      <td id=\"T_7756d_row8_col1\" class=\"data row8 col1\" >0.7645</td>\n",
       "      <td id=\"T_7756d_row8_col2\" class=\"data row8 col2\" >0.7544</td>\n",
       "      <td id=\"T_7756d_row8_col3\" class=\"data row8 col3\" >0.3859</td>\n",
       "      <td id=\"T_7756d_row8_col4\" class=\"data row8 col4\" >0.5995</td>\n",
       "      <td id=\"T_7756d_row8_col5\" class=\"data row8 col5\" >0.4694</td>\n",
       "      <td id=\"T_7756d_row8_col6\" class=\"data row8 col6\" >0.3271</td>\n",
       "      <td id=\"T_7756d_row8_col7\" class=\"data row8 col7\" >0.3403</td>\n",
       "      <td id=\"T_7756d_row8_col8\" class=\"data row8 col8\" >0.2880</td>\n",
       "    </tr>\n",
       "    <tr>\n",
       "      <th id=\"T_7756d_level0_row9\" class=\"row_heading level0 row9\" >ridge</th>\n",
       "      <td id=\"T_7756d_row9_col0\" class=\"data row9 col0\" >Ridge Classifier</td>\n",
       "      <td id=\"T_7756d_row9_col1\" class=\"data row9 col1\" >0.7741</td>\n",
       "      <td id=\"T_7756d_row9_col2\" class=\"data row9 col2\" >0.0000</td>\n",
       "      <td id=\"T_7756d_row9_col3\" class=\"data row9 col3\" >0.2610</td>\n",
       "      <td id=\"T_7756d_row9_col4\" class=\"data row9 col4\" >0.7281</td>\n",
       "      <td id=\"T_7756d_row9_col5\" class=\"data row9 col5\" >0.3841</td>\n",
       "      <td id=\"T_7756d_row9_col6\" class=\"data row9 col6\" >0.2817</td>\n",
       "      <td id=\"T_7756d_row9_col7\" class=\"data row9 col7\" >0.3376</td>\n",
       "      <td id=\"T_7756d_row9_col8\" class=\"data row9 col8\" >0.0180</td>\n",
       "    </tr>\n",
       "    <tr>\n",
       "      <th id=\"T_7756d_level0_row10\" class=\"row_heading level0 row10\" >svm</th>\n",
       "      <td id=\"T_7756d_row10_col0\" class=\"data row10 col0\" >SVM - Linear Kernel</td>\n",
       "      <td id=\"T_7756d_row10_col1\" class=\"data row10 col1\" >0.7703</td>\n",
       "      <td id=\"T_7756d_row10_col2\" class=\"data row10 col2\" >0.0000</td>\n",
       "      <td id=\"T_7756d_row10_col3\" class=\"data row10 col3\" >0.2521</td>\n",
       "      <td id=\"T_7756d_row10_col4\" class=\"data row10 col4\" >0.7101</td>\n",
       "      <td id=\"T_7756d_row10_col5\" class=\"data row10 col5\" >0.3720</td>\n",
       "      <td id=\"T_7756d_row10_col6\" class=\"data row10 col6\" >0.2686</td>\n",
       "      <td id=\"T_7756d_row10_col7\" class=\"data row10 col7\" >0.3228</td>\n",
       "      <td id=\"T_7756d_row10_col8\" class=\"data row10 col8\" >0.0420</td>\n",
       "    </tr>\n",
       "    <tr>\n",
       "      <th id=\"T_7756d_level0_row11\" class=\"row_heading level0 row11\" >qda</th>\n",
       "      <td id=\"T_7756d_row11_col0\" class=\"data row11 col0\" >Quadratic Discriminant Analysis</td>\n",
       "      <td id=\"T_7756d_row11_col1\" class=\"data row11 col1\" >0.7661</td>\n",
       "      <td id=\"T_7756d_row11_col2\" class=\"data row11 col2\" >0.7702</td>\n",
       "      <td id=\"T_7756d_row11_col3\" class=\"data row11 col3\" >0.2403</td>\n",
       "      <td id=\"T_7756d_row11_col4\" class=\"data row11 col4\" >0.6934</td>\n",
       "      <td id=\"T_7756d_row11_col5\" class=\"data row11 col5\" >0.3561</td>\n",
       "      <td id=\"T_7756d_row11_col6\" class=\"data row11 col6\" >0.2526</td>\n",
       "      <td id=\"T_7756d_row11_col7\" class=\"data row11 col7\" >0.3060</td>\n",
       "      <td id=\"T_7756d_row11_col8\" class=\"data row11 col8\" >0.0210</td>\n",
       "    </tr>\n",
       "    <tr>\n",
       "      <th id=\"T_7756d_level0_row12\" class=\"row_heading level0 row12\" >nb</th>\n",
       "      <td id=\"T_7756d_row12_col0\" class=\"data row12 col0\" >Naive Bayes</td>\n",
       "      <td id=\"T_7756d_row12_col1\" class=\"data row12 col1\" >0.7593</td>\n",
       "      <td id=\"T_7756d_row12_col2\" class=\"data row12 col2\" >0.7645</td>\n",
       "      <td id=\"T_7756d_row12_col3\" class=\"data row12 col3\" >0.2395</td>\n",
       "      <td id=\"T_7756d_row12_col4\" class=\"data row12 col4\" >0.6466</td>\n",
       "      <td id=\"T_7756d_row12_col5\" class=\"data row12 col5\" >0.3492</td>\n",
       "      <td id=\"T_7756d_row12_col6\" class=\"data row12 col6\" >0.2381</td>\n",
       "      <td id=\"T_7756d_row12_col7\" class=\"data row12 col7\" >0.2826</td>\n",
       "      <td id=\"T_7756d_row12_col8\" class=\"data row12 col8\" >0.1580</td>\n",
       "    </tr>\n",
       "    <tr>\n",
       "      <th id=\"T_7756d_level0_row13\" class=\"row_heading level0 row13\" >dt</th>\n",
       "      <td id=\"T_7756d_row13_col0\" class=\"data row13 col0\" >Decision Tree Classifier</td>\n",
       "      <td id=\"T_7756d_row13_col1\" class=\"data row13 col1\" >0.7023</td>\n",
       "      <td id=\"T_7756d_row13_col2\" class=\"data row13 col2\" >0.6235</td>\n",
       "      <td id=\"T_7756d_row13_col3\" class=\"data row13 col3\" >0.4309</td>\n",
       "      <td id=\"T_7756d_row13_col4\" class=\"data row13 col4\" >0.4468</td>\n",
       "      <td id=\"T_7756d_row13_col5\" class=\"data row13 col5\" >0.4386</td>\n",
       "      <td id=\"T_7756d_row13_col6\" class=\"data row13 col6\" >0.2361</td>\n",
       "      <td id=\"T_7756d_row13_col7\" class=\"data row13 col7\" >0.2362</td>\n",
       "      <td id=\"T_7756d_row13_col8\" class=\"data row13 col8\" >0.0730</td>\n",
       "    </tr>\n",
       "    <tr>\n",
       "      <th id=\"T_7756d_level0_row14\" class=\"row_heading level0 row14\" >dummy</th>\n",
       "      <td id=\"T_7756d_row14_col0\" class=\"data row14 col0\" >Dummy Classifier</td>\n",
       "      <td id=\"T_7756d_row14_col1\" class=\"data row14 col1\" >0.7301</td>\n",
       "      <td id=\"T_7756d_row14_col2\" class=\"data row14 col2\" >0.5000</td>\n",
       "      <td id=\"T_7756d_row14_col3\" class=\"data row14 col3\" >0.0000</td>\n",
       "      <td id=\"T_7756d_row14_col4\" class=\"data row14 col4\" >0.0000</td>\n",
       "      <td id=\"T_7756d_row14_col5\" class=\"data row14 col5\" >0.0000</td>\n",
       "      <td id=\"T_7756d_row14_col6\" class=\"data row14 col6\" >0.0000</td>\n",
       "      <td id=\"T_7756d_row14_col7\" class=\"data row14 col7\" >0.0000</td>\n",
       "      <td id=\"T_7756d_row14_col8\" class=\"data row14 col8\" >0.0200</td>\n",
       "    </tr>\n",
       "  </tbody>\n",
       "</table>\n"
      ],
      "text/plain": [
       "<pandas.io.formats.style.Styler at 0x7fc221d07040>"
      ]
     },
     "metadata": {},
     "output_type": "display_data"
    }
   ],
   "source": [
    "# used_models_clf      = ['catboost','xgboost', 'lightgbm', 'rf', 'et', 'lr', 'dt', 'svm', 'lda']  # knn too slow, ridge does not work\n",
    "final_selection_clf  = ['ligthgbm', 'catboost', 'gbc', 'ada', 'xgboost', 'dummy']\n",
    "n_models             = 5\n",
    "top_model_radio = pyc.compare_models(n_select=n_models, include=final_selection_clf, sort='MCC')  # 1:15 hour for used_models_clf\n",
    "# top_model_radio = pyc.compare_models(n_select=n_models, exclude=['knn'], sort='MCC')  # 10 minutes, using all models."
   ]
  },
  {
   "cell_type": "markdown",
   "id": "1be5a202",
   "metadata": {},
   "source": [
    "Thus, we select `Catboost` as meta learner."
   ]
  },
  {
   "cell_type": "markdown",
   "id": "743db780",
   "metadata": {},
   "source": [
    "Thus, we stack the models."
   ]
  },
  {
   "cell_type": "code",
   "execution_count": 80,
   "id": "e71a165f",
   "metadata": {},
   "outputs": [
    {
     "data": {
      "text/html": [
       "<style type=\"text/css\">\n",
       "#T_8b289_row10_col0, #T_8b289_row10_col1, #T_8b289_row10_col2, #T_8b289_row10_col3, #T_8b289_row10_col4, #T_8b289_row10_col5, #T_8b289_row10_col6 {\n",
       "  background: yellow;\n",
       "}\n",
       "</style>\n",
       "<table id=\"T_8b289\">\n",
       "  <thead>\n",
       "    <tr>\n",
       "      <th class=\"blank level0\" >&nbsp;</th>\n",
       "      <th id=\"T_8b289_level0_col0\" class=\"col_heading level0 col0\" >Accuracy</th>\n",
       "      <th id=\"T_8b289_level0_col1\" class=\"col_heading level0 col1\" >AUC</th>\n",
       "      <th id=\"T_8b289_level0_col2\" class=\"col_heading level0 col2\" >Recall</th>\n",
       "      <th id=\"T_8b289_level0_col3\" class=\"col_heading level0 col3\" >Prec.</th>\n",
       "      <th id=\"T_8b289_level0_col4\" class=\"col_heading level0 col4\" >F1</th>\n",
       "      <th id=\"T_8b289_level0_col5\" class=\"col_heading level0 col5\" >Kappa</th>\n",
       "      <th id=\"T_8b289_level0_col6\" class=\"col_heading level0 col6\" >MCC</th>\n",
       "    </tr>\n",
       "    <tr>\n",
       "      <th class=\"index_name level0\" >Fold</th>\n",
       "      <th class=\"blank col0\" >&nbsp;</th>\n",
       "      <th class=\"blank col1\" >&nbsp;</th>\n",
       "      <th class=\"blank col2\" >&nbsp;</th>\n",
       "      <th class=\"blank col3\" >&nbsp;</th>\n",
       "      <th class=\"blank col4\" >&nbsp;</th>\n",
       "      <th class=\"blank col5\" >&nbsp;</th>\n",
       "      <th class=\"blank col6\" >&nbsp;</th>\n",
       "    </tr>\n",
       "  </thead>\n",
       "  <tbody>\n",
       "    <tr>\n",
       "      <th id=\"T_8b289_level0_row0\" class=\"row_heading level0 row0\" >0</th>\n",
       "      <td id=\"T_8b289_row0_col0\" class=\"data row0 col0\" >0.7774</td>\n",
       "      <td id=\"T_8b289_row0_col1\" class=\"data row0 col1\" >0.7983</td>\n",
       "      <td id=\"T_8b289_row0_col2\" class=\"data row0 col2\" >0.3428</td>\n",
       "      <td id=\"T_8b289_row0_col3\" class=\"data row0 col3\" >0.6716</td>\n",
       "      <td id=\"T_8b289_row0_col4\" class=\"data row0 col4\" >0.4539</td>\n",
       "      <td id=\"T_8b289_row0_col5\" class=\"data row0 col5\" >0.3321</td>\n",
       "      <td id=\"T_8b289_row0_col6\" class=\"data row0 col6\" >0.3618</td>\n",
       "    </tr>\n",
       "    <tr>\n",
       "      <th id=\"T_8b289_level0_row1\" class=\"row_heading level0 row1\" >1</th>\n",
       "      <td id=\"T_8b289_row1_col0\" class=\"data row1 col0\" >0.7797</td>\n",
       "      <td id=\"T_8b289_row1_col1\" class=\"data row1 col1\" >0.8020</td>\n",
       "      <td id=\"T_8b289_row1_col2\" class=\"data row1 col2\" >0.3291</td>\n",
       "      <td id=\"T_8b289_row1_col3\" class=\"data row1 col3\" >0.6943</td>\n",
       "      <td id=\"T_8b289_row1_col4\" class=\"data row1 col4\" >0.4466</td>\n",
       "      <td id=\"T_8b289_row1_col5\" class=\"data row1 col5\" >0.3303</td>\n",
       "      <td id=\"T_8b289_row1_col6\" class=\"data row1 col6\" >0.3661</td>\n",
       "    </tr>\n",
       "    <tr>\n",
       "      <th id=\"T_8b289_level0_row2\" class=\"row_heading level0 row2\" >2</th>\n",
       "      <td id=\"T_8b289_row2_col0\" class=\"data row2 col0\" >0.7794</td>\n",
       "      <td id=\"T_8b289_row2_col1\" class=\"data row2 col1\" >0.7943</td>\n",
       "      <td id=\"T_8b289_row2_col2\" class=\"data row2 col2\" >0.3453</td>\n",
       "      <td id=\"T_8b289_row2_col3\" class=\"data row2 col3\" >0.6799</td>\n",
       "      <td id=\"T_8b289_row2_col4\" class=\"data row2 col4\" >0.4580</td>\n",
       "      <td id=\"T_8b289_row2_col5\" class=\"data row2 col5\" >0.3376</td>\n",
       "      <td id=\"T_8b289_row2_col6\" class=\"data row2 col6\" >0.3681</td>\n",
       "    </tr>\n",
       "    <tr>\n",
       "      <th id=\"T_8b289_level0_row3\" class=\"row_heading level0 row3\" >3</th>\n",
       "      <td id=\"T_8b289_row3_col0\" class=\"data row3 col0\" >0.7767</td>\n",
       "      <td id=\"T_8b289_row3_col1\" class=\"data row3 col1\" >0.8015</td>\n",
       "      <td id=\"T_8b289_row3_col2\" class=\"data row3 col2\" >0.3252</td>\n",
       "      <td id=\"T_8b289_row3_col3\" class=\"data row3 col3\" >0.6807</td>\n",
       "      <td id=\"T_8b289_row3_col4\" class=\"data row3 col4\" >0.4402</td>\n",
       "      <td id=\"T_8b289_row3_col5\" class=\"data row3 col5\" >0.3218</td>\n",
       "      <td id=\"T_8b289_row3_col6\" class=\"data row3 col6\" >0.3561</td>\n",
       "    </tr>\n",
       "    <tr>\n",
       "      <th id=\"T_8b289_level0_row4\" class=\"row_heading level0 row4\" >4</th>\n",
       "      <td id=\"T_8b289_row4_col0\" class=\"data row4 col0\" >0.7817</td>\n",
       "      <td id=\"T_8b289_row4_col1\" class=\"data row4 col1\" >0.7950</td>\n",
       "      <td id=\"T_8b289_row4_col2\" class=\"data row4 col2\" >0.3412</td>\n",
       "      <td id=\"T_8b289_row4_col3\" class=\"data row4 col3\" >0.6945</td>\n",
       "      <td id=\"T_8b289_row4_col4\" class=\"data row4 col4\" >0.4576</td>\n",
       "      <td id=\"T_8b289_row4_col5\" class=\"data row4 col5\" >0.3402</td>\n",
       "      <td id=\"T_8b289_row4_col6\" class=\"data row4 col6\" >0.3740</td>\n",
       "    </tr>\n",
       "    <tr>\n",
       "      <th id=\"T_8b289_level0_row5\" class=\"row_heading level0 row5\" >5</th>\n",
       "      <td id=\"T_8b289_row5_col0\" class=\"data row5 col0\" >0.7817</td>\n",
       "      <td id=\"T_8b289_row5_col1\" class=\"data row5 col1\" >0.8119</td>\n",
       "      <td id=\"T_8b289_row5_col2\" class=\"data row5 col2\" >0.3227</td>\n",
       "      <td id=\"T_8b289_row5_col3\" class=\"data row5 col3\" >0.7103</td>\n",
       "      <td id=\"T_8b289_row5_col4\" class=\"data row5 col4\" >0.4438</td>\n",
       "      <td id=\"T_8b289_row5_col5\" class=\"data row5 col5\" >0.3310</td>\n",
       "      <td id=\"T_8b289_row5_col6\" class=\"data row5 col6\" >0.3709</td>\n",
       "    </tr>\n",
       "    <tr>\n",
       "      <th id=\"T_8b289_level0_row6\" class=\"row_heading level0 row6\" >6</th>\n",
       "      <td id=\"T_8b289_row6_col0\" class=\"data row6 col0\" >0.7848</td>\n",
       "      <td id=\"T_8b289_row6_col1\" class=\"data row6 col1\" >0.7940</td>\n",
       "      <td id=\"T_8b289_row6_col2\" class=\"data row6 col2\" >0.3512</td>\n",
       "      <td id=\"T_8b289_row6_col3\" class=\"data row6 col3\" >0.7030</td>\n",
       "      <td id=\"T_8b289_row6_col4\" class=\"data row6 col4\" >0.4684</td>\n",
       "      <td id=\"T_8b289_row6_col5\" class=\"data row6 col5\" >0.3519</td>\n",
       "      <td id=\"T_8b289_row6_col6\" class=\"data row6 col6\" >0.3852</td>\n",
       "    </tr>\n",
       "    <tr>\n",
       "      <th id=\"T_8b289_level0_row7\" class=\"row_heading level0 row7\" >7</th>\n",
       "      <td id=\"T_8b289_row7_col0\" class=\"data row7 col0\" >0.7686</td>\n",
       "      <td id=\"T_8b289_row7_col1\" class=\"data row7 col1\" >0.7910</td>\n",
       "      <td id=\"T_8b289_row7_col2\" class=\"data row7 col2\" >0.3068</td>\n",
       "      <td id=\"T_8b289_row7_col3\" class=\"data row7 col3\" >0.6512</td>\n",
       "      <td id=\"T_8b289_row7_col4\" class=\"data row7 col4\" >0.4171</td>\n",
       "      <td id=\"T_8b289_row7_col5\" class=\"data row7 col5\" >0.2953</td>\n",
       "      <td id=\"T_8b289_row7_col6\" class=\"data row7 col6\" >0.3279</td>\n",
       "    </tr>\n",
       "    <tr>\n",
       "      <th id=\"T_8b289_level0_row8\" class=\"row_heading level0 row8\" >8</th>\n",
       "      <td id=\"T_8b289_row8_col0\" class=\"data row8 col0\" >0.7869</td>\n",
       "      <td id=\"T_8b289_row8_col1\" class=\"data row8 col1\" >0.8013</td>\n",
       "      <td id=\"T_8b289_row8_col2\" class=\"data row8 col2\" >0.3546</td>\n",
       "      <td id=\"T_8b289_row8_col3\" class=\"data row8 col3\" >0.7109</td>\n",
       "      <td id=\"T_8b289_row8_col4\" class=\"data row8 col4\" >0.4732</td>\n",
       "      <td id=\"T_8b289_row8_col5\" class=\"data row8 col5\" >0.3578</td>\n",
       "      <td id=\"T_8b289_row8_col6\" class=\"data row8 col6\" >0.3918</td>\n",
       "    </tr>\n",
       "    <tr>\n",
       "      <th id=\"T_8b289_level0_row9\" class=\"row_heading level0 row9\" >9</th>\n",
       "      <td id=\"T_8b289_row9_col0\" class=\"data row9 col0\" >0.7731</td>\n",
       "      <td id=\"T_8b289_row9_col1\" class=\"data row9 col1\" >0.7864</td>\n",
       "      <td id=\"T_8b289_row9_col2\" class=\"data row9 col2\" >0.3319</td>\n",
       "      <td id=\"T_8b289_row9_col3\" class=\"data row9 col3\" >0.6578</td>\n",
       "      <td id=\"T_8b289_row9_col4\" class=\"data row9 col4\" >0.4412</td>\n",
       "      <td id=\"T_8b289_row9_col5\" class=\"data row9 col5\" >0.3177</td>\n",
       "      <td id=\"T_8b289_row9_col6\" class=\"data row9 col6\" >0.3470</td>\n",
       "    </tr>\n",
       "    <tr>\n",
       "      <th id=\"T_8b289_level0_row10\" class=\"row_heading level0 row10\" >Mean</th>\n",
       "      <td id=\"T_8b289_row10_col0\" class=\"data row10 col0\" >0.7790</td>\n",
       "      <td id=\"T_8b289_row10_col1\" class=\"data row10 col1\" >0.7976</td>\n",
       "      <td id=\"T_8b289_row10_col2\" class=\"data row10 col2\" >0.3351</td>\n",
       "      <td id=\"T_8b289_row10_col3\" class=\"data row10 col3\" >0.6854</td>\n",
       "      <td id=\"T_8b289_row10_col4\" class=\"data row10 col4\" >0.4500</td>\n",
       "      <td id=\"T_8b289_row10_col5\" class=\"data row10 col5\" >0.3316</td>\n",
       "      <td id=\"T_8b289_row10_col6\" class=\"data row10 col6\" >0.3649</td>\n",
       "    </tr>\n",
       "    <tr>\n",
       "      <th id=\"T_8b289_level0_row11\" class=\"row_heading level0 row11\" >Std</th>\n",
       "      <td id=\"T_8b289_row11_col0\" class=\"data row11 col0\" >0.0051</td>\n",
       "      <td id=\"T_8b289_row11_col1\" class=\"data row11 col1\" >0.0067</td>\n",
       "      <td id=\"T_8b289_row11_col2\" class=\"data row11 col2\" >0.0139</td>\n",
       "      <td id=\"T_8b289_row11_col3\" class=\"data row11 col3\" >0.0198</td>\n",
       "      <td id=\"T_8b289_row11_col4\" class=\"data row11 col4\" >0.0152</td>\n",
       "      <td id=\"T_8b289_row11_col5\" class=\"data row11 col5\" >0.0168</td>\n",
       "      <td id=\"T_8b289_row11_col6\" class=\"data row11 col6\" >0.0175</td>\n",
       "    </tr>\n",
       "  </tbody>\n",
       "</table>\n"
      ],
      "text/plain": [
       "<pandas.io.formats.style.Styler at 0x7fc159d78e20>"
      ]
     },
     "metadata": {},
     "output_type": "display_data"
    }
   ],
   "source": [
    "stacked_model_radio = pyc.stack_models(estimator_list=top_model_radio[1:], meta_model=top_model_radio[0])"
   ]
  },
  {
   "cell_type": "code",
   "execution_count": 81,
   "id": "25cf5f83",
   "metadata": {
    "id": "Dz0XvX17teel"
   },
   "outputs": [
    {
     "data": {
      "text/html": [
       "<style type=\"text/css\">\n",
       "#T_e1c41_row10_col0, #T_e1c41_row10_col1, #T_e1c41_row10_col2, #T_e1c41_row10_col3, #T_e1c41_row10_col4, #T_e1c41_row10_col5, #T_e1c41_row10_col6 {\n",
       "  background: yellow;\n",
       "}\n",
       "</style>\n",
       "<table id=\"T_e1c41\">\n",
       "  <thead>\n",
       "    <tr>\n",
       "      <th class=\"blank level0\" >&nbsp;</th>\n",
       "      <th id=\"T_e1c41_level0_col0\" class=\"col_heading level0 col0\" >Accuracy</th>\n",
       "      <th id=\"T_e1c41_level0_col1\" class=\"col_heading level0 col1\" >AUC</th>\n",
       "      <th id=\"T_e1c41_level0_col2\" class=\"col_heading level0 col2\" >Recall</th>\n",
       "      <th id=\"T_e1c41_level0_col3\" class=\"col_heading level0 col3\" >Prec.</th>\n",
       "      <th id=\"T_e1c41_level0_col4\" class=\"col_heading level0 col4\" >F1</th>\n",
       "      <th id=\"T_e1c41_level0_col5\" class=\"col_heading level0 col5\" >Kappa</th>\n",
       "      <th id=\"T_e1c41_level0_col6\" class=\"col_heading level0 col6\" >MCC</th>\n",
       "    </tr>\n",
       "    <tr>\n",
       "      <th class=\"index_name level0\" >Fold</th>\n",
       "      <th class=\"blank col0\" >&nbsp;</th>\n",
       "      <th class=\"blank col1\" >&nbsp;</th>\n",
       "      <th class=\"blank col2\" >&nbsp;</th>\n",
       "      <th class=\"blank col3\" >&nbsp;</th>\n",
       "      <th class=\"blank col4\" >&nbsp;</th>\n",
       "      <th class=\"blank col5\" >&nbsp;</th>\n",
       "      <th class=\"blank col6\" >&nbsp;</th>\n",
       "    </tr>\n",
       "  </thead>\n",
       "  <tbody>\n",
       "    <tr>\n",
       "      <th id=\"T_e1c41_level0_row0\" class=\"row_heading level0 row0\" >0</th>\n",
       "      <td id=\"T_e1c41_row0_col0\" class=\"data row0 col0\" >0.7758</td>\n",
       "      <td id=\"T_e1c41_row0_col1\" class=\"data row0 col1\" >0.7960</td>\n",
       "      <td id=\"T_e1c41_row0_col2\" class=\"data row0 col2\" >0.3428</td>\n",
       "      <td id=\"T_e1c41_row0_col3\" class=\"data row0 col3\" >0.6640</td>\n",
       "      <td id=\"T_e1c41_row0_col4\" class=\"data row0 col4\" >0.4522</td>\n",
       "      <td id=\"T_e1c41_row0_col5\" class=\"data row0 col5\" >0.3288</td>\n",
       "      <td id=\"T_e1c41_row0_col6\" class=\"data row0 col6\" >0.3572</td>\n",
       "    </tr>\n",
       "    <tr>\n",
       "      <th id=\"T_e1c41_level0_row1\" class=\"row_heading level0 row1\" >1</th>\n",
       "      <td id=\"T_e1c41_row1_col0\" class=\"data row1 col0\" >0.7772</td>\n",
       "      <td id=\"T_e1c41_row1_col1\" class=\"data row1 col1\" >0.7984</td>\n",
       "      <td id=\"T_e1c41_row1_col2\" class=\"data row1 col2\" >0.3476</td>\n",
       "      <td id=\"T_e1c41_row1_col3\" class=\"data row1 col3\" >0.6683</td>\n",
       "      <td id=\"T_e1c41_row1_col4\" class=\"data row1 col4\" >0.4573</td>\n",
       "      <td id=\"T_e1c41_row1_col5\" class=\"data row1 col5\" >0.3343</td>\n",
       "      <td id=\"T_e1c41_row1_col6\" class=\"data row1 col6\" >0.3626</td>\n",
       "    </tr>\n",
       "    <tr>\n",
       "      <th id=\"T_e1c41_level0_row2\" class=\"row_heading level0 row2\" >2</th>\n",
       "      <td id=\"T_e1c41_row2_col0\" class=\"data row2 col0\" >0.7792</td>\n",
       "      <td id=\"T_e1c41_row2_col1\" class=\"data row2 col1\" >0.7946</td>\n",
       "      <td id=\"T_e1c41_row2_col2\" class=\"data row2 col2\" >0.3571</td>\n",
       "      <td id=\"T_e1c41_row2_col3\" class=\"data row2 col3\" >0.6709</td>\n",
       "      <td id=\"T_e1c41_row2_col4\" class=\"data row2 col4\" >0.4661</td>\n",
       "      <td id=\"T_e1c41_row2_col5\" class=\"data row2 col5\" >0.3429</td>\n",
       "      <td id=\"T_e1c41_row2_col6\" class=\"data row2 col6\" >0.3700</td>\n",
       "    </tr>\n",
       "    <tr>\n",
       "      <th id=\"T_e1c41_level0_row3\" class=\"row_heading level0 row3\" >3</th>\n",
       "      <td id=\"T_e1c41_row3_col0\" class=\"data row3 col0\" >0.7776</td>\n",
       "      <td id=\"T_e1c41_row3_col1\" class=\"data row3 col1\" >0.7996</td>\n",
       "      <td id=\"T_e1c41_row3_col2\" class=\"data row3 col2\" >0.3386</td>\n",
       "      <td id=\"T_e1c41_row3_col3\" class=\"data row3 col3\" >0.6756</td>\n",
       "      <td id=\"T_e1c41_row3_col4\" class=\"data row3 col4\" >0.4511</td>\n",
       "      <td id=\"T_e1c41_row3_col5\" class=\"data row3 col5\" >0.3305</td>\n",
       "      <td id=\"T_e1c41_row3_col6\" class=\"data row3 col6\" >0.3615</td>\n",
       "    </tr>\n",
       "    <tr>\n",
       "      <th id=\"T_e1c41_level0_row4\" class=\"row_heading level0 row4\" >4</th>\n",
       "      <td id=\"T_e1c41_row4_col0\" class=\"data row4 col0\" >0.7799</td>\n",
       "      <td id=\"T_e1c41_row4_col1\" class=\"data row4 col1\" >0.7950</td>\n",
       "      <td id=\"T_e1c41_row4_col2\" class=\"data row4 col2\" >0.3487</td>\n",
       "      <td id=\"T_e1c41_row4_col3\" class=\"data row4 col3\" >0.6797</td>\n",
       "      <td id=\"T_e1c41_row4_col4\" class=\"data row4 col4\" >0.4609</td>\n",
       "      <td id=\"T_e1c41_row4_col5\" class=\"data row4 col5\" >0.3402</td>\n",
       "      <td id=\"T_e1c41_row4_col6\" class=\"data row4 col6\" >0.3701</td>\n",
       "    </tr>\n",
       "    <tr>\n",
       "      <th id=\"T_e1c41_level0_row5\" class=\"row_heading level0 row5\" >5</th>\n",
       "      <td id=\"T_e1c41_row5_col0\" class=\"data row5 col0\" >0.7842</td>\n",
       "      <td id=\"T_e1c41_row5_col1\" class=\"data row5 col1\" >0.8088</td>\n",
       "      <td id=\"T_e1c41_row5_col2\" class=\"data row5 col2\" >0.3596</td>\n",
       "      <td id=\"T_e1c41_row5_col3\" class=\"data row5 col3\" >0.6931</td>\n",
       "      <td id=\"T_e1c41_row5_col4\" class=\"data row5 col4\" >0.4735</td>\n",
       "      <td id=\"T_e1c41_row5_col5\" class=\"data row5 col5\" >0.3545</td>\n",
       "      <td id=\"T_e1c41_row5_col6\" class=\"data row5 col6\" >0.3847</td>\n",
       "    </tr>\n",
       "    <tr>\n",
       "      <th id=\"T_e1c41_level0_row6\" class=\"row_heading level0 row6\" >6</th>\n",
       "      <td id=\"T_e1c41_row6_col0\" class=\"data row6 col0\" >0.7826</td>\n",
       "      <td id=\"T_e1c41_row6_col1\" class=\"data row6 col1\" >0.7933</td>\n",
       "      <td id=\"T_e1c41_row6_col2\" class=\"data row6 col2\" >0.3705</td>\n",
       "      <td id=\"T_e1c41_row6_col3\" class=\"data row6 col3\" >0.6779</td>\n",
       "      <td id=\"T_e1c41_row6_col4\" class=\"data row6 col4\" >0.4791</td>\n",
       "      <td id=\"T_e1c41_row6_col5\" class=\"data row6 col5\" >0.3563</td>\n",
       "      <td id=\"T_e1c41_row6_col6\" class=\"data row6 col6\" >0.3823</td>\n",
       "    </tr>\n",
       "    <tr>\n",
       "      <th id=\"T_e1c41_level0_row7\" class=\"row_heading level0 row7\" >7</th>\n",
       "      <td id=\"T_e1c41_row7_col0\" class=\"data row7 col0\" >0.7708</td>\n",
       "      <td id=\"T_e1c41_row7_col1\" class=\"data row7 col1\" >0.7892</td>\n",
       "      <td id=\"T_e1c41_row7_col2\" class=\"data row7 col2\" >0.3361</td>\n",
       "      <td id=\"T_e1c41_row7_col3\" class=\"data row7 col3\" >0.6447</td>\n",
       "      <td id=\"T_e1c41_row7_col4\" class=\"data row7 col4\" >0.4419</td>\n",
       "      <td id=\"T_e1c41_row7_col5\" class=\"data row7 col5\" >0.3152</td>\n",
       "      <td id=\"T_e1c41_row7_col6\" class=\"data row7 col6\" >0.3417</td>\n",
       "    </tr>\n",
       "    <tr>\n",
       "      <th id=\"T_e1c41_level0_row8\" class=\"row_heading level0 row8\" >8</th>\n",
       "      <td id=\"T_e1c41_row8_col0\" class=\"data row8 col0\" >0.7855</td>\n",
       "      <td id=\"T_e1c41_row8_col1\" class=\"data row8 col1\" >0.7988</td>\n",
       "      <td id=\"T_e1c41_row8_col2\" class=\"data row8 col2\" >0.3529</td>\n",
       "      <td id=\"T_e1c41_row8_col3\" class=\"data row8 col3\" >0.7052</td>\n",
       "      <td id=\"T_e1c41_row8_col4\" class=\"data row8 col4\" >0.4704</td>\n",
       "      <td id=\"T_e1c41_row8_col5\" class=\"data row8 col5\" >0.3541</td>\n",
       "      <td id=\"T_e1c41_row8_col6\" class=\"data row8 col6\" >0.3875</td>\n",
       "    </tr>\n",
       "    <tr>\n",
       "      <th id=\"T_e1c41_level0_row9\" class=\"row_heading level0 row9\" >9</th>\n",
       "      <td id=\"T_e1c41_row9_col0\" class=\"data row9 col0\" >0.7724</td>\n",
       "      <td id=\"T_e1c41_row9_col1\" class=\"data row9 col1\" >0.7838</td>\n",
       "      <td id=\"T_e1c41_row9_col2\" class=\"data row9 col2\" >0.3546</td>\n",
       "      <td id=\"T_e1c41_row9_col3\" class=\"data row9 col3\" >0.6419</td>\n",
       "      <td id=\"T_e1c41_row9_col4\" class=\"data row9 col4\" >0.4568</td>\n",
       "      <td id=\"T_e1c41_row9_col5\" class=\"data row9 col5\" >0.3277</td>\n",
       "      <td id=\"T_e1c41_row9_col6\" class=\"data row9 col6\" >0.3508</td>\n",
       "    </tr>\n",
       "    <tr>\n",
       "      <th id=\"T_e1c41_level0_row10\" class=\"row_heading level0 row10\" >Mean</th>\n",
       "      <td id=\"T_e1c41_row10_col0\" class=\"data row10 col0\" >0.7785</td>\n",
       "      <td id=\"T_e1c41_row10_col1\" class=\"data row10 col1\" >0.7958</td>\n",
       "      <td id=\"T_e1c41_row10_col2\" class=\"data row10 col2\" >0.3509</td>\n",
       "      <td id=\"T_e1c41_row10_col3\" class=\"data row10 col3\" >0.6721</td>\n",
       "      <td id=\"T_e1c41_row10_col4\" class=\"data row10 col4\" >0.4609</td>\n",
       "      <td id=\"T_e1c41_row10_col5\" class=\"data row10 col5\" >0.3384</td>\n",
       "      <td id=\"T_e1c41_row10_col6\" class=\"data row10 col6\" >0.3668</td>\n",
       "    </tr>\n",
       "    <tr>\n",
       "      <th id=\"T_e1c41_level0_row11\" class=\"row_heading level0 row11\" >Std</th>\n",
       "      <td id=\"T_e1c41_row11_col0\" class=\"data row11 col0\" >0.0045</td>\n",
       "      <td id=\"T_e1c41_row11_col1\" class=\"data row11 col1\" >0.0063</td>\n",
       "      <td id=\"T_e1c41_row11_col2\" class=\"data row11 col2\" >0.0098</td>\n",
       "      <td id=\"T_e1c41_row11_col3\" class=\"data row11 col3\" >0.0184</td>\n",
       "      <td id=\"T_e1c41_row11_col4\" class=\"data row11 col4\" >0.0108</td>\n",
       "      <td id=\"T_e1c41_row11_col5\" class=\"data row11 col5\" >0.0129</td>\n",
       "      <td id=\"T_e1c41_row11_col6\" class=\"data row11 col6\" >0.0143</td>\n",
       "    </tr>\n",
       "  </tbody>\n",
       "</table>\n"
      ],
      "text/plain": [
       "<pandas.io.formats.style.Styler at 0x7fc1696f61f0>"
      ]
     },
     "metadata": {},
     "output_type": "display_data"
    }
   ],
   "source": [
    "tuned_radio_clf = pyc.tune_model(stacked_model_radio, early_stopping='asha', optimize='MCC',\\\n",
    "                                 search_library='tune-sklearn', search_algorithm='random')  # 1h30"
   ]
  },
  {
   "cell_type": "code",
   "execution_count": 82,
   "id": "09e378d1",
   "metadata": {
    "id": "GJfDVspZtn7Z"
   },
   "outputs": [
    {
     "data": {
      "image/png": "[encoded data removed]",
      "text/plain": [
       "<Figure size 640x480 with 1 Axes>"
      ]
     },
     "metadata": {},
     "output_type": "display_data"
    }
   ],
   "source": [
    "pyc.plot_model(tuned_radio_clf, plot='confusion_matrix')"
   ]
  },
  {
   "cell_type": "code",
   "execution_count": 83,
   "id": "3171f296",
   "metadata": {
    "id": "3N6_OxWptsEe",
    "tags": []
   },
   "outputs": [
    {
     "data": {
      "image/png": "[encoded data removed]",
      "text/plain": [
       "<Figure size 640x480 with 2 Axes>"
      ]
     },
     "metadata": {},
     "output_type": "display_data"
    }
   ],
   "source": [
    "pyc.plot_model(tuned_radio_clf, plot='class_report')"
   ]
  },
  {
   "cell_type": "code",
   "execution_count": 84,
   "id": "0233195f",
   "metadata": {
    "id": "Mq15jdjqtv3Y"
   },
   "outputs": [
    {
     "data": {
      "image/png": "[encoded data removed]",
      "text/plain": [
       "<Figure size 700x600 with 1 Axes>"
      ]
     },
     "metadata": {},
     "output_type": "display_data"
    }
   ],
   "source": [
    "pyc.plot_model(tuned_radio_clf, plot='calibration')"
   ]
  },
  {
   "cell_type": "code",
   "execution_count": 85,
   "id": "e877d9c8",
   "metadata": {
    "id": "Mq15jdjqtv3Y"
   },
   "outputs": [
    {
     "data": {
      "image/png": "[encoded data removed]",
      "text/plain": [
       "<Figure size 800x500 with 1 Axes>"
      ]
     },
     "metadata": {},
     "output_type": "display_data"
    }
   ],
   "source": [
    "pyc.plot_model(tuned_radio_clf.estimators_[0], plot='feature_all')"
   ]
  },
  {
   "cell_type": "code",
   "execution_count": 87,
   "id": "10f3c94f",
   "metadata": {
    "id": "Mq15jdjqtv3Y"
   },
   "outputs": [
    {
     "data": {
      "text/html": [
       "<div>\n",
       "<style scoped>\n",
       "    .dataframe tbody tr th:only-of-type {\n",
       "        vertical-align: middle;\n",
       "    }\n",
       "\n",
       "    .dataframe tbody tr th {\n",
       "        vertical-align: top;\n",
       "    }\n",
       "\n",
       "    .dataframe thead th {\n",
       "        text-align: right;\n",
       "    }\n",
       "</style>\n",
       "<table border=\"1\" class=\"dataframe\">\n",
       "  <thead>\n",
       "    <tr style=\"text-align: right;\">\n",
       "      <th></th>\n",
       "      <th>Parameters</th>\n",
       "    </tr>\n",
       "  </thead>\n",
       "  <tbody>\n",
       "    <tr>\n",
       "      <th>boosting_type</th>\n",
       "      <td>gbdt</td>\n",
       "    </tr>\n",
       "    <tr>\n",
       "      <th>class_weight</th>\n",
       "      <td>None</td>\n",
       "    </tr>\n",
       "    <tr>\n",
       "      <th>colsample_bytree</th>\n",
       "      <td>1.0</td>\n",
       "    </tr>\n",
       "    <tr>\n",
       "      <th>importance_type</th>\n",
       "      <td>split</td>\n",
       "    </tr>\n",
       "    <tr>\n",
       "      <th>learning_rate</th>\n",
       "      <td>0.05</td>\n",
       "    </tr>\n",
       "    <tr>\n",
       "      <th>max_depth</th>\n",
       "      <td>-1</td>\n",
       "    </tr>\n",
       "    <tr>\n",
       "      <th>min_child_samples</th>\n",
       "      <td>56</td>\n",
       "    </tr>\n",
       "    <tr>\n",
       "      <th>min_child_weight</th>\n",
       "      <td>0.001</td>\n",
       "    </tr>\n",
       "    <tr>\n",
       "      <th>min_split_gain</th>\n",
       "      <td>0.3</td>\n",
       "    </tr>\n",
       "    <tr>\n",
       "      <th>n_estimators</th>\n",
       "      <td>210</td>\n",
       "    </tr>\n",
       "    <tr>\n",
       "      <th>n_jobs</th>\n",
       "      <td>12</td>\n",
       "    </tr>\n",
       "    <tr>\n",
       "      <th>num_leaves</th>\n",
       "      <td>70</td>\n",
       "    </tr>\n",
       "    <tr>\n",
       "      <th>objective</th>\n",
       "      <td>None</td>\n",
       "    </tr>\n",
       "    <tr>\n",
       "      <th>random_state</th>\n",
       "      <td>42</td>\n",
       "    </tr>\n",
       "    <tr>\n",
       "      <th>reg_alpha</th>\n",
       "      <td>0.05</td>\n",
       "    </tr>\n",
       "    <tr>\n",
       "      <th>reg_lambda</th>\n",
       "      <td>0.0001</td>\n",
       "    </tr>\n",
       "    <tr>\n",
       "      <th>silent</th>\n",
       "      <td>warn</td>\n",
       "    </tr>\n",
       "    <tr>\n",
       "      <th>subsample</th>\n",
       "      <td>1.0</td>\n",
       "    </tr>\n",
       "    <tr>\n",
       "      <th>subsample_for_bin</th>\n",
       "      <td>200000</td>\n",
       "    </tr>\n",
       "    <tr>\n",
       "      <th>subsample_freq</th>\n",
       "      <td>0</td>\n",
       "    </tr>\n",
       "    <tr>\n",
       "      <th>feature_fraction</th>\n",
       "      <td>0.9</td>\n",
       "    </tr>\n",
       "    <tr>\n",
       "      <th>bagging_fraction</th>\n",
       "      <td>0.8</td>\n",
       "    </tr>\n",
       "    <tr>\n",
       "      <th>bagging_freq</th>\n",
       "      <td>1</td>\n",
       "    </tr>\n",
       "  </tbody>\n",
       "</table>\n",
       "</div>"
      ],
      "text/plain": [
       "                  Parameters\n",
       "boosting_type           gbdt\n",
       "class_weight            None\n",
       "colsample_bytree         1.0\n",
       "importance_type        split\n",
       "learning_rate           0.05\n",
       "max_depth                 -1\n",
       "min_child_samples         56\n",
       "min_child_weight       0.001\n",
       "min_split_gain           0.3\n",
       "n_estimators             210\n",
       "n_jobs                    12\n",
       "num_leaves                70\n",
       "objective               None\n",
       "random_state              42\n",
       "reg_alpha               0.05\n",
       "reg_lambda            0.0001\n",
       "silent                  warn\n",
       "subsample                1.0\n",
       "subsample_for_bin     200000\n",
       "subsample_freq             0\n",
       "feature_fraction         0.9\n",
       "bagging_fraction         0.8\n",
       "bagging_freq               1"
      ]
     },
     "metadata": {},
     "output_type": "display_data"
    }
   ],
   "source": [
    "pyc.plot_model(tuned_radio_clf.final_estimator, plot='parameter')"
   ]
  },
  {
   "cell_type": "code",
   "execution_count": 88,
   "id": "2f66302a",
   "metadata": {
    "id": "t2CRgDLptzuE"
   },
   "outputs": [],
   "source": [
    "plt.rcParams.update(plt.rcParamsDefault)"
   ]
  },
  {
   "cell_type": "code",
   "execution_count": 89,
   "id": "616c68a5",
   "metadata": {},
   "outputs": [
    {
     "data": {
      "text/html": [
       "<style type=\"text/css\">\n",
       "</style>\n",
       "<table id=\"T_2d13d\">\n",
       "  <thead>\n",
       "    <tr>\n",
       "      <th class=\"blank level0\" >&nbsp;</th>\n",
       "      <th id=\"T_2d13d_level0_col0\" class=\"col_heading level0 col0\" >Model</th>\n",
       "      <th id=\"T_2d13d_level0_col1\" class=\"col_heading level0 col1\" >Accuracy</th>\n",
       "      <th id=\"T_2d13d_level0_col2\" class=\"col_heading level0 col2\" >AUC</th>\n",
       "      <th id=\"T_2d13d_level0_col3\" class=\"col_heading level0 col3\" >Recall</th>\n",
       "      <th id=\"T_2d13d_level0_col4\" class=\"col_heading level0 col4\" >Prec.</th>\n",
       "      <th id=\"T_2d13d_level0_col5\" class=\"col_heading level0 col5\" >F1</th>\n",
       "      <th id=\"T_2d13d_level0_col6\" class=\"col_heading level0 col6\" >Kappa</th>\n",
       "      <th id=\"T_2d13d_level0_col7\" class=\"col_heading level0 col7\" >MCC</th>\n",
       "    </tr>\n",
       "  </thead>\n",
       "  <tbody>\n",
       "    <tr>\n",
       "      <th id=\"T_2d13d_level0_row0\" class=\"row_heading level0 row0\" >0</th>\n",
       "      <td id=\"T_2d13d_row0_col0\" class=\"data row0 col0\" >Stacking Classifier</td>\n",
       "      <td id=\"T_2d13d_row0_col1\" class=\"data row0 col1\" >0.7764</td>\n",
       "      <td id=\"T_2d13d_row0_col2\" class=\"data row0 col2\" >0.7849</td>\n",
       "      <td id=\"T_2d13d_row0_col3\" class=\"data row0 col3\" >0.3460</td>\n",
       "      <td id=\"T_2d13d_row0_col4\" class=\"data row0 col4\" >0.6645</td>\n",
       "      <td id=\"T_2d13d_row0_col5\" class=\"data row0 col5\" >0.4550</td>\n",
       "      <td id=\"T_2d13d_row0_col6\" class=\"data row0 col6\" >0.3315</td>\n",
       "      <td id=\"T_2d13d_row0_col7\" class=\"data row0 col7\" >0.3595</td>\n",
       "    </tr>\n",
       "  </tbody>\n",
       "</table>\n"
      ],
      "text/plain": [
       "<pandas.io.formats.style.Styler at 0x7fc220939bb0>"
      ]
     },
     "metadata": {},
     "output_type": "display_data"
    },
    {
     "data": {
      "text/html": [
       "<div>\n",
       "<style scoped>\n",
       "    .dataframe tbody tr th:only-of-type {\n",
       "        vertical-align: middle;\n",
       "    }\n",
       "\n",
       "    .dataframe tbody tr th {\n",
       "        vertical-align: top;\n",
       "    }\n",
       "\n",
       "    .dataframe thead th {\n",
       "        text-align: right;\n",
       "    }\n",
       "</style>\n",
       "<table border=\"1\" class=\"dataframe\">\n",
       "  <thead>\n",
       "    <tr style=\"text-align: right;\">\n",
       "      <th></th>\n",
       "      <th>band_num</th>\n",
       "      <th>NUVmag</th>\n",
       "      <th>W4mag</th>\n",
       "      <th>g_r</th>\n",
       "      <th>r_i</th>\n",
       "      <th>i_z</th>\n",
       "      <th>z_y</th>\n",
       "      <th>w1_w2</th>\n",
       "      <th>w2_w3</th>\n",
       "      <th>w3_w4</th>\n",
       "      <th>J_H</th>\n",
       "      <th>H_K</th>\n",
       "      <th>FUV/K</th>\n",
       "      <th>z/W1</th>\n",
       "      <th>y/W2</th>\n",
       "      <th>radio_detect</th>\n",
       "      <th>Label</th>\n",
       "      <th>Score_0</th>\n",
       "      <th>Score_1</th>\n",
       "    </tr>\n",
       "  </thead>\n",
       "  <tbody>\n",
       "    <tr>\n",
       "      <th>0</th>\n",
       "      <td>-1.050801</td>\n",
       "      <td>0.259998</td>\n",
       "      <td>0.185214</td>\n",
       "      <td>-0.305500</td>\n",
       "      <td>-0.215556</td>\n",
       "      <td>1.252056</td>\n",
       "      <td>1.067637</td>\n",
       "      <td>0.104266</td>\n",
       "      <td>0.976778</td>\n",
       "      <td>0.277645</td>\n",
       "      <td>-0.011376</td>\n",
       "      <td>0.101317</td>\n",
       "      <td>-0.019187</td>\n",
       "      <td>0.790677</td>\n",
       "      <td>0.041159</td>\n",
       "      <td>0</td>\n",
       "      <td>0</td>\n",
       "      <td>0.8286</td>\n",
       "      <td>0.1714</td>\n",
       "    </tr>\n",
       "    <tr>\n",
       "      <th>1</th>\n",
       "      <td>1.026254</td>\n",
       "      <td>-3.900047</td>\n",
       "      <td>0.185214</td>\n",
       "      <td>0.032185</td>\n",
       "      <td>-1.282960</td>\n",
       "      <td>-0.273363</td>\n",
       "      <td>-0.372774</td>\n",
       "      <td>0.557954</td>\n",
       "      <td>-1.270124</td>\n",
       "      <td>0.277645</td>\n",
       "      <td>-0.011376</td>\n",
       "      <td>0.101317</td>\n",
       "      <td>-0.019187</td>\n",
       "      <td>0.162244</td>\n",
       "      <td>0.691514</td>\n",
       "      <td>0</td>\n",
       "      <td>0</td>\n",
       "      <td>0.7260</td>\n",
       "      <td>0.2740</td>\n",
       "    </tr>\n",
       "    <tr>\n",
       "      <th>2</th>\n",
       "      <td>-1.050801</td>\n",
       "      <td>0.259998</td>\n",
       "      <td>0.185214</td>\n",
       "      <td>-0.305500</td>\n",
       "      <td>-0.215556</td>\n",
       "      <td>1.252056</td>\n",
       "      <td>1.067637</td>\n",
       "      <td>0.173997</td>\n",
       "      <td>0.923049</td>\n",
       "      <td>0.277645</td>\n",
       "      <td>-0.011376</td>\n",
       "      <td>0.101317</td>\n",
       "      <td>-0.019187</td>\n",
       "      <td>0.790677</td>\n",
       "      <td>0.065738</td>\n",
       "      <td>0</td>\n",
       "      <td>0</td>\n",
       "      <td>0.7755</td>\n",
       "      <td>0.2245</td>\n",
       "    </tr>\n",
       "    <tr>\n",
       "      <th>3</th>\n",
       "      <td>0.255436</td>\n",
       "      <td>0.259998</td>\n",
       "      <td>0.185214</td>\n",
       "      <td>0.952485</td>\n",
       "      <td>-0.583823</td>\n",
       "      <td>-0.589107</td>\n",
       "      <td>-1.326584</td>\n",
       "      <td>-0.947149</td>\n",
       "      <td>0.417559</td>\n",
       "      <td>0.277645</td>\n",
       "      <td>-0.011376</td>\n",
       "      <td>0.101317</td>\n",
       "      <td>-0.019187</td>\n",
       "      <td>-0.325383</td>\n",
       "      <td>0.324092</td>\n",
       "      <td>0</td>\n",
       "      <td>0</td>\n",
       "      <td>0.8499</td>\n",
       "      <td>0.1501</td>\n",
       "    </tr>\n",
       "    <tr>\n",
       "      <th>4</th>\n",
       "      <td>0.255436</td>\n",
       "      <td>0.259998</td>\n",
       "      <td>0.185214</td>\n",
       "      <td>0.328224</td>\n",
       "      <td>0.071370</td>\n",
       "      <td>0.357853</td>\n",
       "      <td>-1.518679</td>\n",
       "      <td>-1.828882</td>\n",
       "      <td>-0.682370</td>\n",
       "      <td>0.277645</td>\n",
       "      <td>-0.011376</td>\n",
       "      <td>0.101317</td>\n",
       "      <td>-0.019187</td>\n",
       "      <td>0.601245</td>\n",
       "      <td>1.249617</td>\n",
       "      <td>0</td>\n",
       "      <td>0</td>\n",
       "      <td>0.7229</td>\n",
       "      <td>0.2771</td>\n",
       "    </tr>\n",
       "    <tr>\n",
       "      <th>...</th>\n",
       "      <td>...</td>\n",
       "      <td>...</td>\n",
       "      <td>...</td>\n",
       "      <td>...</td>\n",
       "      <td>...</td>\n",
       "      <td>...</td>\n",
       "      <td>...</td>\n",
       "      <td>...</td>\n",
       "      <td>...</td>\n",
       "      <td>...</td>\n",
       "      <td>...</td>\n",
       "      <td>...</td>\n",
       "      <td>...</td>\n",
       "      <td>...</td>\n",
       "      <td>...</td>\n",
       "      <td>...</td>\n",
       "      <td>...</td>\n",
       "      <td>...</td>\n",
       "      <td>...</td>\n",
       "    </tr>\n",
       "    <tr>\n",
       "      <th>18940</th>\n",
       "      <td>-1.050801</td>\n",
       "      <td>0.259998</td>\n",
       "      <td>0.185214</td>\n",
       "      <td>-0.305500</td>\n",
       "      <td>-0.215556</td>\n",
       "      <td>1.252056</td>\n",
       "      <td>1.067637</td>\n",
       "      <td>-1.335939</td>\n",
       "      <td>1.034725</td>\n",
       "      <td>0.277645</td>\n",
       "      <td>-0.011376</td>\n",
       "      <td>0.101317</td>\n",
       "      <td>-0.019187</td>\n",
       "      <td>1.254628</td>\n",
       "      <td>0.015170</td>\n",
       "      <td>1</td>\n",
       "      <td>0</td>\n",
       "      <td>0.7223</td>\n",
       "      <td>0.2777</td>\n",
       "    </tr>\n",
       "    <tr>\n",
       "      <th>18941</th>\n",
       "      <td>-1.050801</td>\n",
       "      <td>0.259998</td>\n",
       "      <td>0.185214</td>\n",
       "      <td>0.399260</td>\n",
       "      <td>0.156341</td>\n",
       "      <td>-0.430961</td>\n",
       "      <td>-1.054631</td>\n",
       "      <td>-0.144882</td>\n",
       "      <td>0.574933</td>\n",
       "      <td>0.277645</td>\n",
       "      <td>-0.011376</td>\n",
       "      <td>0.101317</td>\n",
       "      <td>-0.019187</td>\n",
       "      <td>-0.468598</td>\n",
       "      <td>0.237754</td>\n",
       "      <td>0</td>\n",
       "      <td>0</td>\n",
       "      <td>0.8706</td>\n",
       "      <td>0.1294</td>\n",
       "    </tr>\n",
       "    <tr>\n",
       "      <th>18942</th>\n",
       "      <td>1.026254</td>\n",
       "      <td>0.259998</td>\n",
       "      <td>0.185214</td>\n",
       "      <td>-0.226043</td>\n",
       "      <td>0.007159</td>\n",
       "      <td>-0.693368</td>\n",
       "      <td>-0.202629</td>\n",
       "      <td>0.200360</td>\n",
       "      <td>-0.741719</td>\n",
       "      <td>0.277645</td>\n",
       "      <td>-0.011376</td>\n",
       "      <td>0.101317</td>\n",
       "      <td>-0.019187</td>\n",
       "      <td>-1.242998</td>\n",
       "      <td>-1.147241</td>\n",
       "      <td>1</td>\n",
       "      <td>0</td>\n",
       "      <td>0.7288</td>\n",
       "      <td>0.2712</td>\n",
       "    </tr>\n",
       "    <tr>\n",
       "      <th>18943</th>\n",
       "      <td>0.632219</td>\n",
       "      <td>0.259998</td>\n",
       "      <td>0.185214</td>\n",
       "      <td>-0.456816</td>\n",
       "      <td>-0.372317</td>\n",
       "      <td>-0.468736</td>\n",
       "      <td>0.368215</td>\n",
       "      <td>1.044753</td>\n",
       "      <td>0.353221</td>\n",
       "      <td>0.277645</td>\n",
       "      <td>-0.011376</td>\n",
       "      <td>0.101317</td>\n",
       "      <td>-0.019187</td>\n",
       "      <td>-1.334211</td>\n",
       "      <td>-1.435273</td>\n",
       "      <td>0</td>\n",
       "      <td>0</td>\n",
       "      <td>0.9505</td>\n",
       "      <td>0.0495</td>\n",
       "    </tr>\n",
       "    <tr>\n",
       "      <th>18944</th>\n",
       "      <td>1.026254</td>\n",
       "      <td>0.259998</td>\n",
       "      <td>0.185214</td>\n",
       "      <td>-0.724676</td>\n",
       "      <td>1.070593</td>\n",
       "      <td>-1.561387</td>\n",
       "      <td>-0.329560</td>\n",
       "      <td>1.709810</td>\n",
       "      <td>-1.288485</td>\n",
       "      <td>0.277645</td>\n",
       "      <td>-0.011376</td>\n",
       "      <td>0.101317</td>\n",
       "      <td>-0.019187</td>\n",
       "      <td>-0.835517</td>\n",
       "      <td>-0.152675</td>\n",
       "      <td>0</td>\n",
       "      <td>0</td>\n",
       "      <td>0.8639</td>\n",
       "      <td>0.1361</td>\n",
       "    </tr>\n",
       "  </tbody>\n",
       "</table>\n",
       "<p>18945 rows × 19 columns</p>\n",
       "</div>"
      ],
      "text/plain": [
       "       band_num    NUVmag     W4mag       g_r       r_i       i_z       z_y  \\\n",
       "0     -1.050801  0.259998  0.185214 -0.305500 -0.215556  1.252056  1.067637   \n",
       "1      1.026254 -3.900047  0.185214  0.032185 -1.282960 -0.273363 -0.372774   \n",
       "2     -1.050801  0.259998  0.185214 -0.305500 -0.215556  1.252056  1.067637   \n",
       "3      0.255436  0.259998  0.185214  0.952485 -0.583823 -0.589107 -1.326584   \n",
       "4      0.255436  0.259998  0.185214  0.328224  0.071370  0.357853 -1.518679   \n",
       "...         ...       ...       ...       ...       ...       ...       ...   \n",
       "18940 -1.050801  0.259998  0.185214 -0.305500 -0.215556  1.252056  1.067637   \n",
       "18941 -1.050801  0.259998  0.185214  0.399260  0.156341 -0.430961 -1.054631   \n",
       "18942  1.026254  0.259998  0.185214 -0.226043  0.007159 -0.693368 -0.202629   \n",
       "18943  0.632219  0.259998  0.185214 -0.456816 -0.372317 -0.468736  0.368215   \n",
       "18944  1.026254  0.259998  0.185214 -0.724676  1.070593 -1.561387 -0.329560   \n",
       "\n",
       "          w1_w2     w2_w3     w3_w4       J_H       H_K     FUV/K      z/W1  \\\n",
       "0      0.104266  0.976778  0.277645 -0.011376  0.101317 -0.019187  0.790677   \n",
       "1      0.557954 -1.270124  0.277645 -0.011376  0.101317 -0.019187  0.162244   \n",
       "2      0.173997  0.923049  0.277645 -0.011376  0.101317 -0.019187  0.790677   \n",
       "3     -0.947149  0.417559  0.277645 -0.011376  0.101317 -0.019187 -0.325383   \n",
       "4     -1.828882 -0.682370  0.277645 -0.011376  0.101317 -0.019187  0.601245   \n",
       "...         ...       ...       ...       ...       ...       ...       ...   \n",
       "18940 -1.335939  1.034725  0.277645 -0.011376  0.101317 -0.019187  1.254628   \n",
       "18941 -0.144882  0.574933  0.277645 -0.011376  0.101317 -0.019187 -0.468598   \n",
       "18942  0.200360 -0.741719  0.277645 -0.011376  0.101317 -0.019187 -1.242998   \n",
       "18943  1.044753  0.353221  0.277645 -0.011376  0.101317 -0.019187 -1.334211   \n",
       "18944  1.709810 -1.288485  0.277645 -0.011376  0.101317 -0.019187 -0.835517   \n",
       "\n",
       "           y/W2  radio_detect  Label  Score_0  Score_1  \n",
       "0      0.041159             0      0   0.8286   0.1714  \n",
       "1      0.691514             0      0   0.7260   0.2740  \n",
       "2      0.065738             0      0   0.7755   0.2245  \n",
       "3      0.324092             0      0   0.8499   0.1501  \n",
       "4      1.249617             0      0   0.7229   0.2771  \n",
       "...         ...           ...    ...      ...      ...  \n",
       "18940  0.015170             1      0   0.7223   0.2777  \n",
       "18941  0.237754             0      0   0.8706   0.1294  \n",
       "18942 -1.147241             1      0   0.7288   0.2712  \n",
       "18943 -1.435273             0      0   0.9505   0.0495  \n",
       "18944 -0.152675             0      0   0.8639   0.1361  \n",
       "\n",
       "[18945 rows x 19 columns]"
      ]
     },
     "execution_count": 89,
     "metadata": {},
     "output_type": "execute_result"
    }
   ],
   "source": [
    "pyc.predict_model(tuned_radio_clf, probability_threshold=0.5, raw_score=True)"
   ]
  },
  {
   "cell_type": "code",
   "execution_count": 90,
   "id": "247a5456",
   "metadata": {},
   "outputs": [
    {
     "data": {
      "text/html": [
       "<style type=\"text/css\">\n",
       "</style>\n",
       "<table id=\"T_cf25a\">\n",
       "  <thead>\n",
       "    <tr>\n",
       "      <th class=\"blank level0\" >&nbsp;</th>\n",
       "      <th id=\"T_cf25a_level0_col0\" class=\"col_heading level0 col0\" >Model</th>\n",
       "      <th id=\"T_cf25a_level0_col1\" class=\"col_heading level0 col1\" >Accuracy</th>\n",
       "      <th id=\"T_cf25a_level0_col2\" class=\"col_heading level0 col2\" >AUC</th>\n",
       "      <th id=\"T_cf25a_level0_col3\" class=\"col_heading level0 col3\" >Recall</th>\n",
       "      <th id=\"T_cf25a_level0_col4\" class=\"col_heading level0 col4\" >Prec.</th>\n",
       "      <th id=\"T_cf25a_level0_col5\" class=\"col_heading level0 col5\" >F1</th>\n",
       "      <th id=\"T_cf25a_level0_col6\" class=\"col_heading level0 col6\" >Kappa</th>\n",
       "      <th id=\"T_cf25a_level0_col7\" class=\"col_heading level0 col7\" >MCC</th>\n",
       "    </tr>\n",
       "  </thead>\n",
       "  <tbody>\n",
       "    <tr>\n",
       "      <th id=\"T_cf25a_level0_row0\" class=\"row_heading level0 row0\" >0</th>\n",
       "      <td id=\"T_cf25a_row0_col0\" class=\"data row0 col0\" >Stacking Classifier</td>\n",
       "      <td id=\"T_cf25a_row0_col1\" class=\"data row0 col1\" >0.7764</td>\n",
       "      <td id=\"T_cf25a_row0_col2\" class=\"data row0 col2\" >0.7849</td>\n",
       "      <td id=\"T_cf25a_row0_col3\" class=\"data row0 col3\" >0.3460</td>\n",
       "      <td id=\"T_cf25a_row0_col4\" class=\"data row0 col4\" >0.6645</td>\n",
       "      <td id=\"T_cf25a_row0_col5\" class=\"data row0 col5\" >0.4550</td>\n",
       "      <td id=\"T_cf25a_row0_col6\" class=\"data row0 col6\" >0.3315</td>\n",
       "      <td id=\"T_cf25a_row0_col7\" class=\"data row0 col7\" >0.3595</td>\n",
       "    </tr>\n",
       "  </tbody>\n",
       "</table>\n"
      ],
      "text/plain": [
       "<pandas.io.formats.style.Styler at 0x7fc159bee2e0>"
      ]
     },
     "metadata": {},
     "output_type": "display_data"
    }
   ],
   "source": [
    "test_prediction_clf = pyc.predict_model(tuned_radio_clf, probability_threshold=0.5, raw_score=True)"
   ]
  },
  {
   "cell_type": "markdown",
   "id": "5e6ff5c0",
   "metadata": {},
   "source": [
    "Metrics from applying model to test data.  \n",
    "\n",
    "|Model                    |Accuracy|AUC   |Recall|Prec. |F1    |Kappa |MCC   |\n",
    "|-------------------------|--------|------|------|------|------|------|------|\n",
    "|Extreme Gradient Boosting|0.9978  |0.9781|0.5978|0.8092|0.6876|0.6865|0.6945|"
   ]
  },
  {
   "cell_type": "code",
   "execution_count": 91,
   "id": "a69c99cf",
   "metadata": {
    "id": "WsMuc6dtt2ci"
   },
   "outputs": [
    {
     "name": "stdout",
     "output_type": "stream",
     "text": [
      "[LightGBM] [Warning] bagging_fraction is set=0.8, subsample=1.0 will be ignored. Current value: bagging_fraction=0.8\n",
      "[LightGBM] [Warning] feature_fraction is set=0.9, colsample_bytree=1.0 will be ignored. Current value: feature_fraction=0.9\n",
      "[LightGBM] [Warning] bagging_freq is set=1, subsample_freq=0 will be ignored. Current value: bagging_freq=1\n"
     ]
    },
    {
     "name": "stderr",
     "output_type": "stream",
     "text": [
      "/home/rcarvajal/.miniforge3/envs/test_pycaret/lib/python3.8/site-packages/xgboost/compat.py:36: FutureWarning: pandas.Int64Index is deprecated and will be removed from pandas in a future version. Use pandas.Index with the appropriate dtype instead.\n",
      "  from pandas import MultiIndex, Int64Index\n",
      "/home/rcarvajal/.miniforge3/envs/test_pycaret/lib/python3.8/site-packages/xgboost/sklearn.py:1224: UserWarning: The use of label encoder in XGBClassifier is deprecated and will be removed in a future release. To remove this warning, do the following: 1) Pass option use_label_encoder=False when constructing XGBClassifier object; and 2) Encode your labels (y) as integers starting with 0, i.e. 0, 1, 2, ..., [num_class - 1].\n",
      "  warnings.warn(label_encoder_deprecation_msg, UserWarning)\n",
      "/home/rcarvajal/.miniforge3/envs/test_pycaret/lib/python3.8/site-packages/xgboost/data.py:262: FutureWarning: pandas.Int64Index is deprecated and will be removed from pandas in a future version. Use pandas.Index with the appropriate dtype instead.\n",
      "  elif isinstance(data.columns, (pd.Int64Index, pd.RangeIndex)):\n",
      "/home/rcarvajal/.miniforge3/envs/test_pycaret/lib/python3.8/site-packages/xgboost/sklearn.py:1224: UserWarning: The use of label encoder in XGBClassifier is deprecated and will be removed in a future release. To remove this warning, do the following: 1) Pass option use_label_encoder=False when constructing XGBClassifier object; and 2) Encode your labels (y) as integers starting with 0, i.e. 0, 1, 2, ..., [num_class - 1].\n",
      "  warnings.warn(label_encoder_deprecation_msg, UserWarning)\n",
      "/home/rcarvajal/.miniforge3/envs/test_pycaret/lib/python3.8/site-packages/xgboost/data.py:262: FutureWarning: pandas.Int64Index is deprecated and will be removed from pandas in a future version. Use pandas.Index with the appropriate dtype instead.\n",
      "  elif isinstance(data.columns, (pd.Int64Index, pd.RangeIndex)):\n",
      "/home/rcarvajal/.miniforge3/envs/test_pycaret/lib/python3.8/site-packages/xgboost/data.py:262: FutureWarning: pandas.Int64Index is deprecated and will be removed from pandas in a future version. Use pandas.Index with the appropriate dtype instead.\n",
      "  elif isinstance(data.columns, (pd.Int64Index, pd.RangeIndex)):\n",
      "/home/rcarvajal/.miniforge3/envs/test_pycaret/lib/python3.8/site-packages/xgboost/sklearn.py:1224: UserWarning: The use of label encoder in XGBClassifier is deprecated and will be removed in a future release. To remove this warning, do the following: 1) Pass option use_label_encoder=False when constructing XGBClassifier object; and 2) Encode your labels (y) as integers starting with 0, i.e. 0, 1, 2, ..., [num_class - 1].\n",
      "  warnings.warn(label_encoder_deprecation_msg, UserWarning)\n",
      "/home/rcarvajal/.miniforge3/envs/test_pycaret/lib/python3.8/site-packages/xgboost/data.py:262: FutureWarning: pandas.Int64Index is deprecated and will be removed from pandas in a future version. Use pandas.Index with the appropriate dtype instead.\n",
      "  elif isinstance(data.columns, (pd.Int64Index, pd.RangeIndex)):\n",
      "/home/rcarvajal/.miniforge3/envs/test_pycaret/lib/python3.8/site-packages/xgboost/sklearn.py:1224: UserWarning: The use of label encoder in XGBClassifier is deprecated and will be removed in a future release. To remove this warning, do the following: 1) Pass option use_label_encoder=False when constructing XGBClassifier object; and 2) Encode your labels (y) as integers starting with 0, i.e. 0, 1, 2, ..., [num_class - 1].\n",
      "  warnings.warn(label_encoder_deprecation_msg, UserWarning)\n",
      "/home/rcarvajal/.miniforge3/envs/test_pycaret/lib/python3.8/site-packages/xgboost/data.py:262: FutureWarning: pandas.Int64Index is deprecated and will be removed from pandas in a future version. Use pandas.Index with the appropriate dtype instead.\n",
      "  elif isinstance(data.columns, (pd.Int64Index, pd.RangeIndex)):\n",
      "/home/rcarvajal/.miniforge3/envs/test_pycaret/lib/python3.8/site-packages/xgboost/data.py:262: FutureWarning: pandas.Int64Index is deprecated and will be removed from pandas in a future version. Use pandas.Index with the appropriate dtype instead.\n",
      "  elif isinstance(data.columns, (pd.Int64Index, pd.RangeIndex)):\n"
     ]
    },
    {
     "name": "stdout",
     "output_type": "stream",
     "text": [
      "[LightGBM] [Warning] bagging_fraction is set=0.8, subsample=1.0 will be ignored. Current value: bagging_fraction=0.8\n",
      "[LightGBM] [Warning] feature_fraction is set=0.9, colsample_bytree=1.0 will be ignored. Current value: feature_fraction=0.9\n",
      "[LightGBM] [Warning] bagging_freq is set=1, subsample_freq=0 will be ignored. Current value: bagging_freq=1\n"
     ]
    },
    {
     "name": "stderr",
     "output_type": "stream",
     "text": [
      "/home/rcarvajal/.miniforge3/envs/test_pycaret/lib/python3.8/site-packages/xgboost/compat.py:36: FutureWarning: pandas.Int64Index is deprecated and will be removed from pandas in a future version. Use pandas.Index with the appropriate dtype instead.\n",
      "  from pandas import MultiIndex, Int64Index\n",
      "/home/rcarvajal/.miniforge3/envs/test_pycaret/lib/python3.8/site-packages/xgboost/sklearn.py:1224: UserWarning: The use of label encoder in XGBClassifier is deprecated and will be removed in a future release. To remove this warning, do the following: 1) Pass option use_label_encoder=False when constructing XGBClassifier object; and 2) Encode your labels (y) as integers starting with 0, i.e. 0, 1, 2, ..., [num_class - 1].\n",
      "  warnings.warn(label_encoder_deprecation_msg, UserWarning)\n",
      "/home/rcarvajal/.miniforge3/envs/test_pycaret/lib/python3.8/site-packages/xgboost/data.py:262: FutureWarning: pandas.Int64Index is deprecated and will be removed from pandas in a future version. Use pandas.Index with the appropriate dtype instead.\n",
      "  elif isinstance(data.columns, (pd.Int64Index, pd.RangeIndex)):\n",
      "/home/rcarvajal/.miniforge3/envs/test_pycaret/lib/python3.8/site-packages/xgboost/sklearn.py:1224: UserWarning: The use of label encoder in XGBClassifier is deprecated and will be removed in a future release. To remove this warning, do the following: 1) Pass option use_label_encoder=False when constructing XGBClassifier object; and 2) Encode your labels (y) as integers starting with 0, i.e. 0, 1, 2, ..., [num_class - 1].\n",
      "  warnings.warn(label_encoder_deprecation_msg, UserWarning)\n",
      "/home/rcarvajal/.miniforge3/envs/test_pycaret/lib/python3.8/site-packages/xgboost/data.py:262: FutureWarning: pandas.Int64Index is deprecated and will be removed from pandas in a future version. Use pandas.Index with the appropriate dtype instead.\n",
      "  elif isinstance(data.columns, (pd.Int64Index, pd.RangeIndex)):\n",
      "/home/rcarvajal/.miniforge3/envs/test_pycaret/lib/python3.8/site-packages/xgboost/data.py:262: FutureWarning: pandas.Int64Index is deprecated and will be removed from pandas in a future version. Use pandas.Index with the appropriate dtype instead.\n",
      "  elif isinstance(data.columns, (pd.Int64Index, pd.RangeIndex)):\n",
      "/home/rcarvajal/.miniforge3/envs/test_pycaret/lib/python3.8/site-packages/xgboost/sklearn.py:1224: UserWarning: The use of label encoder in XGBClassifier is deprecated and will be removed in a future release. To remove this warning, do the following: 1) Pass option use_label_encoder=False when constructing XGBClassifier object; and 2) Encode your labels (y) as integers starting with 0, i.e. 0, 1, 2, ..., [num_class - 1].\n",
      "  warnings.warn(label_encoder_deprecation_msg, UserWarning)\n",
      "/home/rcarvajal/.miniforge3/envs/test_pycaret/lib/python3.8/site-packages/xgboost/data.py:262: FutureWarning: pandas.Int64Index is deprecated and will be removed from pandas in a future version. Use pandas.Index with the appropriate dtype instead.\n",
      "  elif isinstance(data.columns, (pd.Int64Index, pd.RangeIndex)):\n",
      "/home/rcarvajal/.miniforge3/envs/test_pycaret/lib/python3.8/site-packages/xgboost/data.py:262: FutureWarning: pandas.Int64Index is deprecated and will be removed from pandas in a future version. Use pandas.Index with the appropriate dtype instead.\n",
      "  elif isinstance(data.columns, (pd.Int64Index, pd.RangeIndex)):\n",
      "/home/rcarvajal/.miniforge3/envs/test_pycaret/lib/python3.8/site-packages/xgboost/sklearn.py:1224: UserWarning: The use of label encoder in XGBClassifier is deprecated and will be removed in a future release. To remove this warning, do the following: 1) Pass option use_label_encoder=False when constructing XGBClassifier object; and 2) Encode your labels (y) as integers starting with 0, i.e. 0, 1, 2, ..., [num_class - 1].\n",
      "  warnings.warn(label_encoder_deprecation_msg, UserWarning)\n",
      "/home/rcarvajal/.miniforge3/envs/test_pycaret/lib/python3.8/site-packages/xgboost/data.py:262: FutureWarning: pandas.Int64Index is deprecated and will be removed from pandas in a future version. Use pandas.Index with the appropriate dtype instead.\n",
      "  elif isinstance(data.columns, (pd.Int64Index, pd.RangeIndex)):\n",
      "/home/rcarvajal/.miniforge3/envs/test_pycaret/lib/python3.8/site-packages/xgboost/data.py:262: FutureWarning: pandas.Int64Index is deprecated and will be removed from pandas in a future version. Use pandas.Index with the appropriate dtype instead.\n",
      "  elif isinstance(data.columns, (pd.Int64Index, pd.RangeIndex)):\n"
     ]
    },
    {
     "name": "stdout",
     "output_type": "stream",
     "text": [
      "[LightGBM] [Warning] bagging_fraction is set=0.8, subsample=1.0 will be ignored. Current value: bagging_fraction=0.8\n",
      "[LightGBM] [Warning] feature_fraction is set=0.9, colsample_bytree=1.0 will be ignored. Current value: feature_fraction=0.9\n",
      "[LightGBM] [Warning] bagging_freq is set=1, subsample_freq=0 will be ignored. Current value: bagging_freq=1\n"
     ]
    },
    {
     "name": "stderr",
     "output_type": "stream",
     "text": [
      "/home/rcarvajal/.miniforge3/envs/test_pycaret/lib/python3.8/site-packages/xgboost/compat.py:36: FutureWarning: pandas.Int64Index is deprecated and will be removed from pandas in a future version. Use pandas.Index with the appropriate dtype instead.\n",
      "  from pandas import MultiIndex, Int64Index\n",
      "/home/rcarvajal/.miniforge3/envs/test_pycaret/lib/python3.8/site-packages/xgboost/sklearn.py:1224: UserWarning: The use of label encoder in XGBClassifier is deprecated and will be removed in a future release. To remove this warning, do the following: 1) Pass option use_label_encoder=False when constructing XGBClassifier object; and 2) Encode your labels (y) as integers starting with 0, i.e. 0, 1, 2, ..., [num_class - 1].\n",
      "  warnings.warn(label_encoder_deprecation_msg, UserWarning)\n",
      "/home/rcarvajal/.miniforge3/envs/test_pycaret/lib/python3.8/site-packages/xgboost/data.py:262: FutureWarning: pandas.Int64Index is deprecated and will be removed from pandas in a future version. Use pandas.Index with the appropriate dtype instead.\n",
      "  elif isinstance(data.columns, (pd.Int64Index, pd.RangeIndex)):\n",
      "/home/rcarvajal/.miniforge3/envs/test_pycaret/lib/python3.8/site-packages/xgboost/sklearn.py:1224: UserWarning: The use of label encoder in XGBClassifier is deprecated and will be removed in a future release. To remove this warning, do the following: 1) Pass option use_label_encoder=False when constructing XGBClassifier object; and 2) Encode your labels (y) as integers starting with 0, i.e. 0, 1, 2, ..., [num_class - 1].\n",
      "  warnings.warn(label_encoder_deprecation_msg, UserWarning)\n",
      "/home/rcarvajal/.miniforge3/envs/test_pycaret/lib/python3.8/site-packages/xgboost/data.py:262: FutureWarning: pandas.Int64Index is deprecated and will be removed from pandas in a future version. Use pandas.Index with the appropriate dtype instead.\n",
      "  elif isinstance(data.columns, (pd.Int64Index, pd.RangeIndex)):\n",
      "/home/rcarvajal/.miniforge3/envs/test_pycaret/lib/python3.8/site-packages/xgboost/data.py:262: FutureWarning: pandas.Int64Index is deprecated and will be removed from pandas in a future version. Use pandas.Index with the appropriate dtype instead.\n",
      "  elif isinstance(data.columns, (pd.Int64Index, pd.RangeIndex)):\n",
      "/home/rcarvajal/.miniforge3/envs/test_pycaret/lib/python3.8/site-packages/xgboost/sklearn.py:1224: UserWarning: The use of label encoder in XGBClassifier is deprecated and will be removed in a future release. To remove this warning, do the following: 1) Pass option use_label_encoder=False when constructing XGBClassifier object; and 2) Encode your labels (y) as integers starting with 0, i.e. 0, 1, 2, ..., [num_class - 1].\n",
      "  warnings.warn(label_encoder_deprecation_msg, UserWarning)\n",
      "/home/rcarvajal/.miniforge3/envs/test_pycaret/lib/python3.8/site-packages/xgboost/data.py:262: FutureWarning: pandas.Int64Index is deprecated and will be removed from pandas in a future version. Use pandas.Index with the appropriate dtype instead.\n",
      "  elif isinstance(data.columns, (pd.Int64Index, pd.RangeIndex)):\n",
      "/home/rcarvajal/.miniforge3/envs/test_pycaret/lib/python3.8/site-packages/xgboost/sklearn.py:1224: UserWarning: The use of label encoder in XGBClassifier is deprecated and will be removed in a future release. To remove this warning, do the following: 1) Pass option use_label_encoder=False when constructing XGBClassifier object; and 2) Encode your labels (y) as integers starting with 0, i.e. 0, 1, 2, ..., [num_class - 1].\n",
      "  warnings.warn(label_encoder_deprecation_msg, UserWarning)\n",
      "/home/rcarvajal/.miniforge3/envs/test_pycaret/lib/python3.8/site-packages/xgboost/data.py:262: FutureWarning: pandas.Int64Index is deprecated and will be removed from pandas in a future version. Use pandas.Index with the appropriate dtype instead.\n",
      "  elif isinstance(data.columns, (pd.Int64Index, pd.RangeIndex)):\n",
      "/home/rcarvajal/.miniforge3/envs/test_pycaret/lib/python3.8/site-packages/xgboost/data.py:262: FutureWarning: pandas.Int64Index is deprecated and will be removed from pandas in a future version. Use pandas.Index with the appropriate dtype instead.\n",
      "  elif isinstance(data.columns, (pd.Int64Index, pd.RangeIndex)):\n",
      "/home/rcarvajal/.miniforge3/envs/test_pycaret/lib/python3.8/site-packages/xgboost/sklearn.py:1224: UserWarning: The use of label encoder in XGBClassifier is deprecated and will be removed in a future release. To remove this warning, do the following: 1) Pass option use_label_encoder=False when constructing XGBClassifier object; and 2) Encode your labels (y) as integers starting with 0, i.e. 0, 1, 2, ..., [num_class - 1].\n",
      "  warnings.warn(label_encoder_deprecation_msg, UserWarning)\n",
      "/home/rcarvajal/.miniforge3/envs/test_pycaret/lib/python3.8/site-packages/xgboost/data.py:262: FutureWarning: pandas.Int64Index is deprecated and will be removed from pandas in a future version. Use pandas.Index with the appropriate dtype instead.\n",
      "  elif isinstance(data.columns, (pd.Int64Index, pd.RangeIndex)):\n"
     ]
    },
    {
     "name": "stdout",
     "output_type": "stream",
     "text": [
      "[LightGBM] [Warning] bagging_fraction is set=0.8, subsample=1.0 will be ignored. Current value: bagging_fraction=0.8\n",
      "[LightGBM] [Warning] feature_fraction is set=0.9, colsample_bytree=1.0 will be ignored. Current value: feature_fraction=0.9\n",
      "[LightGBM] [Warning] bagging_freq is set=1, subsample_freq=0 will be ignored. Current value: bagging_freq=1\n"
     ]
    },
    {
     "name": "stderr",
     "output_type": "stream",
     "text": [
      "/home/rcarvajal/.miniforge3/envs/test_pycaret/lib/python3.8/site-packages/xgboost/compat.py:36: FutureWarning: pandas.Int64Index is deprecated and will be removed from pandas in a future version. Use pandas.Index with the appropriate dtype instead.\n",
      "  from pandas import MultiIndex, Int64Index\n",
      "/home/rcarvajal/.miniforge3/envs/test_pycaret/lib/python3.8/site-packages/xgboost/sklearn.py:1224: UserWarning: The use of label encoder in XGBClassifier is deprecated and will be removed in a future release. To remove this warning, do the following: 1) Pass option use_label_encoder=False when constructing XGBClassifier object; and 2) Encode your labels (y) as integers starting with 0, i.e. 0, 1, 2, ..., [num_class - 1].\n",
      "  warnings.warn(label_encoder_deprecation_msg, UserWarning)\n",
      "/home/rcarvajal/.miniforge3/envs/test_pycaret/lib/python3.8/site-packages/xgboost/data.py:262: FutureWarning: pandas.Int64Index is deprecated and will be removed from pandas in a future version. Use pandas.Index with the appropriate dtype instead.\n",
      "  elif isinstance(data.columns, (pd.Int64Index, pd.RangeIndex)):\n",
      "/home/rcarvajal/.miniforge3/envs/test_pycaret/lib/python3.8/site-packages/xgboost/sklearn.py:1224: UserWarning: The use of label encoder in XGBClassifier is deprecated and will be removed in a future release. To remove this warning, do the following: 1) Pass option use_label_encoder=False when constructing XGBClassifier object; and 2) Encode your labels (y) as integers starting with 0, i.e. 0, 1, 2, ..., [num_class - 1].\n",
      "  warnings.warn(label_encoder_deprecation_msg, UserWarning)\n",
      "/home/rcarvajal/.miniforge3/envs/test_pycaret/lib/python3.8/site-packages/xgboost/data.py:262: FutureWarning: pandas.Int64Index is deprecated and will be removed from pandas in a future version. Use pandas.Index with the appropriate dtype instead.\n",
      "  elif isinstance(data.columns, (pd.Int64Index, pd.RangeIndex)):\n",
      "/home/rcarvajal/.miniforge3/envs/test_pycaret/lib/python3.8/site-packages/xgboost/data.py:262: FutureWarning: pandas.Int64Index is deprecated and will be removed from pandas in a future version. Use pandas.Index with the appropriate dtype instead.\n",
      "  elif isinstance(data.columns, (pd.Int64Index, pd.RangeIndex)):\n",
      "/home/rcarvajal/.miniforge3/envs/test_pycaret/lib/python3.8/site-packages/xgboost/sklearn.py:1224: UserWarning: The use of label encoder in XGBClassifier is deprecated and will be removed in a future release. To remove this warning, do the following: 1) Pass option use_label_encoder=False when constructing XGBClassifier object; and 2) Encode your labels (y) as integers starting with 0, i.e. 0, 1, 2, ..., [num_class - 1].\n",
      "  warnings.warn(label_encoder_deprecation_msg, UserWarning)\n",
      "/home/rcarvajal/.miniforge3/envs/test_pycaret/lib/python3.8/site-packages/xgboost/data.py:262: FutureWarning: pandas.Int64Index is deprecated and will be removed from pandas in a future version. Use pandas.Index with the appropriate dtype instead.\n",
      "  elif isinstance(data.columns, (pd.Int64Index, pd.RangeIndex)):\n",
      "/home/rcarvajal/.miniforge3/envs/test_pycaret/lib/python3.8/site-packages/xgboost/sklearn.py:1224: UserWarning: The use of label encoder in XGBClassifier is deprecated and will be removed in a future release. To remove this warning, do the following: 1) Pass option use_label_encoder=False when constructing XGBClassifier object; and 2) Encode your labels (y) as integers starting with 0, i.e. 0, 1, 2, ..., [num_class - 1].\n",
      "  warnings.warn(label_encoder_deprecation_msg, UserWarning)\n",
      "/home/rcarvajal/.miniforge3/envs/test_pycaret/lib/python3.8/site-packages/xgboost/data.py:262: FutureWarning: pandas.Int64Index is deprecated and will be removed from pandas in a future version. Use pandas.Index with the appropriate dtype instead.\n",
      "  elif isinstance(data.columns, (pd.Int64Index, pd.RangeIndex)):\n",
      "/home/rcarvajal/.miniforge3/envs/test_pycaret/lib/python3.8/site-packages/xgboost/data.py:262: FutureWarning: pandas.Int64Index is deprecated and will be removed from pandas in a future version. Use pandas.Index with the appropriate dtype instead.\n",
      "  elif isinstance(data.columns, (pd.Int64Index, pd.RangeIndex)):\n"
     ]
    },
    {
     "name": "stdout",
     "output_type": "stream",
     "text": [
      "[LightGBM] [Warning] bagging_fraction is set=0.8, subsample=1.0 will be ignored. Current value: bagging_fraction=0.8\n",
      "[LightGBM] [Warning] feature_fraction is set=0.9, colsample_bytree=1.0 will be ignored. Current value: feature_fraction=0.9\n",
      "[LightGBM] [Warning] bagging_freq is set=1, subsample_freq=0 will be ignored. Current value: bagging_freq=1\n"
     ]
    },
    {
     "name": "stderr",
     "output_type": "stream",
     "text": [
      "/home/rcarvajal/.miniforge3/envs/test_pycaret/lib/python3.8/site-packages/xgboost/compat.py:36: FutureWarning: pandas.Int64Index is deprecated and will be removed from pandas in a future version. Use pandas.Index with the appropriate dtype instead.\n",
      "  from pandas import MultiIndex, Int64Index\n",
      "/home/rcarvajal/.miniforge3/envs/test_pycaret/lib/python3.8/site-packages/xgboost/sklearn.py:1224: UserWarning: The use of label encoder in XGBClassifier is deprecated and will be removed in a future release. To remove this warning, do the following: 1) Pass option use_label_encoder=False when constructing XGBClassifier object; and 2) Encode your labels (y) as integers starting with 0, i.e. 0, 1, 2, ..., [num_class - 1].\n",
      "  warnings.warn(label_encoder_deprecation_msg, UserWarning)\n",
      "/home/rcarvajal/.miniforge3/envs/test_pycaret/lib/python3.8/site-packages/xgboost/data.py:262: FutureWarning: pandas.Int64Index is deprecated and will be removed from pandas in a future version. Use pandas.Index with the appropriate dtype instead.\n",
      "  elif isinstance(data.columns, (pd.Int64Index, pd.RangeIndex)):\n",
      "/home/rcarvajal/.miniforge3/envs/test_pycaret/lib/python3.8/site-packages/xgboost/sklearn.py:1224: UserWarning: The use of label encoder in XGBClassifier is deprecated and will be removed in a future release. To remove this warning, do the following: 1) Pass option use_label_encoder=False when constructing XGBClassifier object; and 2) Encode your labels (y) as integers starting with 0, i.e. 0, 1, 2, ..., [num_class - 1].\n",
      "  warnings.warn(label_encoder_deprecation_msg, UserWarning)\n",
      "/home/rcarvajal/.miniforge3/envs/test_pycaret/lib/python3.8/site-packages/xgboost/data.py:262: FutureWarning: pandas.Int64Index is deprecated and will be removed from pandas in a future version. Use pandas.Index with the appropriate dtype instead.\n",
      "  elif isinstance(data.columns, (pd.Int64Index, pd.RangeIndex)):\n",
      "/home/rcarvajal/.miniforge3/envs/test_pycaret/lib/python3.8/site-packages/xgboost/data.py:262: FutureWarning: pandas.Int64Index is deprecated and will be removed from pandas in a future version. Use pandas.Index with the appropriate dtype instead.\n",
      "  elif isinstance(data.columns, (pd.Int64Index, pd.RangeIndex)):\n",
      "/home/rcarvajal/.miniforge3/envs/test_pycaret/lib/python3.8/site-packages/xgboost/sklearn.py:1224: UserWarning: The use of label encoder in XGBClassifier is deprecated and will be removed in a future release. To remove this warning, do the following: 1) Pass option use_label_encoder=False when constructing XGBClassifier object; and 2) Encode your labels (y) as integers starting with 0, i.e. 0, 1, 2, ..., [num_class - 1].\n",
      "  warnings.warn(label_encoder_deprecation_msg, UserWarning)\n",
      "/home/rcarvajal/.miniforge3/envs/test_pycaret/lib/python3.8/site-packages/xgboost/data.py:262: FutureWarning: pandas.Int64Index is deprecated and will be removed from pandas in a future version. Use pandas.Index with the appropriate dtype instead.\n",
      "  elif isinstance(data.columns, (pd.Int64Index, pd.RangeIndex)):\n",
      "/home/rcarvajal/.miniforge3/envs/test_pycaret/lib/python3.8/site-packages/xgboost/sklearn.py:1224: UserWarning: The use of label encoder in XGBClassifier is deprecated and will be removed in a future release. To remove this warning, do the following: 1) Pass option use_label_encoder=False when constructing XGBClassifier object; and 2) Encode your labels (y) as integers starting with 0, i.e. 0, 1, 2, ..., [num_class - 1].\n",
      "  warnings.warn(label_encoder_deprecation_msg, UserWarning)\n",
      "/home/rcarvajal/.miniforge3/envs/test_pycaret/lib/python3.8/site-packages/xgboost/data.py:262: FutureWarning: pandas.Int64Index is deprecated and will be removed from pandas in a future version. Use pandas.Index with the appropriate dtype instead.\n",
      "  elif isinstance(data.columns, (pd.Int64Index, pd.RangeIndex)):\n",
      "/home/rcarvajal/.miniforge3/envs/test_pycaret/lib/python3.8/site-packages/xgboost/data.py:262: FutureWarning: pandas.Int64Index is deprecated and will be removed from pandas in a future version. Use pandas.Index with the appropriate dtype instead.\n",
      "  elif isinstance(data.columns, (pd.Int64Index, pd.RangeIndex)):\n"
     ]
    },
    {
     "name": "stdout",
     "output_type": "stream",
     "text": [
      "[LightGBM] [Warning] bagging_fraction is set=0.8, subsample=1.0 will be ignored. Current value: bagging_fraction=0.8\n",
      "[LightGBM] [Warning] feature_fraction is set=0.9, colsample_bytree=1.0 will be ignored. Current value: feature_fraction=0.9\n",
      "[LightGBM] [Warning] bagging_freq is set=1, subsample_freq=0 will be ignored. Current value: bagging_freq=1\n"
     ]
    },
    {
     "name": "stderr",
     "output_type": "stream",
     "text": [
      "/home/rcarvajal/.miniforge3/envs/test_pycaret/lib/python3.8/site-packages/xgboost/compat.py:36: FutureWarning: pandas.Int64Index is deprecated and will be removed from pandas in a future version. Use pandas.Index with the appropriate dtype instead.\n",
      "  from pandas import MultiIndex, Int64Index\n",
      "/home/rcarvajal/.miniforge3/envs/test_pycaret/lib/python3.8/site-packages/xgboost/sklearn.py:1224: UserWarning: The use of label encoder in XGBClassifier is deprecated and will be removed in a future release. To remove this warning, do the following: 1) Pass option use_label_encoder=False when constructing XGBClassifier object; and 2) Encode your labels (y) as integers starting with 0, i.e. 0, 1, 2, ..., [num_class - 1].\n",
      "  warnings.warn(label_encoder_deprecation_msg, UserWarning)\n",
      "/home/rcarvajal/.miniforge3/envs/test_pycaret/lib/python3.8/site-packages/xgboost/data.py:262: FutureWarning: pandas.Int64Index is deprecated and will be removed from pandas in a future version. Use pandas.Index with the appropriate dtype instead.\n",
      "  elif isinstance(data.columns, (pd.Int64Index, pd.RangeIndex)):\n",
      "/home/rcarvajal/.miniforge3/envs/test_pycaret/lib/python3.8/site-packages/xgboost/sklearn.py:1224: UserWarning: The use of label encoder in XGBClassifier is deprecated and will be removed in a future release. To remove this warning, do the following: 1) Pass option use_label_encoder=False when constructing XGBClassifier object; and 2) Encode your labels (y) as integers starting with 0, i.e. 0, 1, 2, ..., [num_class - 1].\n",
      "  warnings.warn(label_encoder_deprecation_msg, UserWarning)\n",
      "/home/rcarvajal/.miniforge3/envs/test_pycaret/lib/python3.8/site-packages/xgboost/data.py:262: FutureWarning: pandas.Int64Index is deprecated and will be removed from pandas in a future version. Use pandas.Index with the appropriate dtype instead.\n",
      "  elif isinstance(data.columns, (pd.Int64Index, pd.RangeIndex)):\n",
      "/home/rcarvajal/.miniforge3/envs/test_pycaret/lib/python3.8/site-packages/xgboost/data.py:262: FutureWarning: pandas.Int64Index is deprecated and will be removed from pandas in a future version. Use pandas.Index with the appropriate dtype instead.\n",
      "  elif isinstance(data.columns, (pd.Int64Index, pd.RangeIndex)):\n",
      "/home/rcarvajal/.miniforge3/envs/test_pycaret/lib/python3.8/site-packages/xgboost/sklearn.py:1224: UserWarning: The use of label encoder in XGBClassifier is deprecated and will be removed in a future release. To remove this warning, do the following: 1) Pass option use_label_encoder=False when constructing XGBClassifier object; and 2) Encode your labels (y) as integers starting with 0, i.e. 0, 1, 2, ..., [num_class - 1].\n",
      "  warnings.warn(label_encoder_deprecation_msg, UserWarning)\n",
      "/home/rcarvajal/.miniforge3/envs/test_pycaret/lib/python3.8/site-packages/xgboost/data.py:262: FutureWarning: pandas.Int64Index is deprecated and will be removed from pandas in a future version. Use pandas.Index with the appropriate dtype instead.\n",
      "  elif isinstance(data.columns, (pd.Int64Index, pd.RangeIndex)):\n",
      "/home/rcarvajal/.miniforge3/envs/test_pycaret/lib/python3.8/site-packages/xgboost/data.py:262: FutureWarning: pandas.Int64Index is deprecated and will be removed from pandas in a future version. Use pandas.Index with the appropriate dtype instead.\n",
      "  elif isinstance(data.columns, (pd.Int64Index, pd.RangeIndex)):\n",
      "/home/rcarvajal/.miniforge3/envs/test_pycaret/lib/python3.8/site-packages/xgboost/sklearn.py:1224: UserWarning: The use of label encoder in XGBClassifier is deprecated and will be removed in a future release. To remove this warning, do the following: 1) Pass option use_label_encoder=False when constructing XGBClassifier object; and 2) Encode your labels (y) as integers starting with 0, i.e. 0, 1, 2, ..., [num_class - 1].\n",
      "  warnings.warn(label_encoder_deprecation_msg, UserWarning)\n",
      "/home/rcarvajal/.miniforge3/envs/test_pycaret/lib/python3.8/site-packages/xgboost/data.py:262: FutureWarning: pandas.Int64Index is deprecated and will be removed from pandas in a future version. Use pandas.Index with the appropriate dtype instead.\n",
      "  elif isinstance(data.columns, (pd.Int64Index, pd.RangeIndex)):\n",
      "/home/rcarvajal/.miniforge3/envs/test_pycaret/lib/python3.8/site-packages/xgboost/data.py:262: FutureWarning: pandas.Int64Index is deprecated and will be removed from pandas in a future version. Use pandas.Index with the appropriate dtype instead.\n",
      "  elif isinstance(data.columns, (pd.Int64Index, pd.RangeIndex)):\n"
     ]
    },
    {
     "name": "stdout",
     "output_type": "stream",
     "text": [
      "[LightGBM] [Warning] bagging_fraction is set=0.8, subsample=1.0 will be ignored. Current value: bagging_fraction=0.8\n",
      "[LightGBM] [Warning] feature_fraction is set=0.9, colsample_bytree=1.0 will be ignored. Current value: feature_fraction=0.9\n",
      "[LightGBM] [Warning] bagging_freq is set=1, subsample_freq=0 will be ignored. Current value: bagging_freq=1\n"
     ]
    },
    {
     "name": "stderr",
     "output_type": "stream",
     "text": [
      "/home/rcarvajal/.miniforge3/envs/test_pycaret/lib/python3.8/site-packages/xgboost/compat.py:36: FutureWarning: pandas.Int64Index is deprecated and will be removed from pandas in a future version. Use pandas.Index with the appropriate dtype instead.\n",
      "  from pandas import MultiIndex, Int64Index\n",
      "/home/rcarvajal/.miniforge3/envs/test_pycaret/lib/python3.8/site-packages/xgboost/sklearn.py:1224: UserWarning: The use of label encoder in XGBClassifier is deprecated and will be removed in a future release. To remove this warning, do the following: 1) Pass option use_label_encoder=False when constructing XGBClassifier object; and 2) Encode your labels (y) as integers starting with 0, i.e. 0, 1, 2, ..., [num_class - 1].\n",
      "  warnings.warn(label_encoder_deprecation_msg, UserWarning)\n",
      "/home/rcarvajal/.miniforge3/envs/test_pycaret/lib/python3.8/site-packages/xgboost/data.py:262: FutureWarning: pandas.Int64Index is deprecated and will be removed from pandas in a future version. Use pandas.Index with the appropriate dtype instead.\n",
      "  elif isinstance(data.columns, (pd.Int64Index, pd.RangeIndex)):\n",
      "/home/rcarvajal/.miniforge3/envs/test_pycaret/lib/python3.8/site-packages/xgboost/sklearn.py:1224: UserWarning: The use of label encoder in XGBClassifier is deprecated and will be removed in a future release. To remove this warning, do the following: 1) Pass option use_label_encoder=False when constructing XGBClassifier object; and 2) Encode your labels (y) as integers starting with 0, i.e. 0, 1, 2, ..., [num_class - 1].\n",
      "  warnings.warn(label_encoder_deprecation_msg, UserWarning)\n",
      "/home/rcarvajal/.miniforge3/envs/test_pycaret/lib/python3.8/site-packages/xgboost/data.py:262: FutureWarning: pandas.Int64Index is deprecated and will be removed from pandas in a future version. Use pandas.Index with the appropriate dtype instead.\n",
      "  elif isinstance(data.columns, (pd.Int64Index, pd.RangeIndex)):\n",
      "/home/rcarvajal/.miniforge3/envs/test_pycaret/lib/python3.8/site-packages/xgboost/data.py:262: FutureWarning: pandas.Int64Index is deprecated and will be removed from pandas in a future version. Use pandas.Index with the appropriate dtype instead.\n",
      "  elif isinstance(data.columns, (pd.Int64Index, pd.RangeIndex)):\n",
      "/home/rcarvajal/.miniforge3/envs/test_pycaret/lib/python3.8/site-packages/xgboost/sklearn.py:1224: UserWarning: The use of label encoder in XGBClassifier is deprecated and will be removed in a future release. To remove this warning, do the following: 1) Pass option use_label_encoder=False when constructing XGBClassifier object; and 2) Encode your labels (y) as integers starting with 0, i.e. 0, 1, 2, ..., [num_class - 1].\n",
      "  warnings.warn(label_encoder_deprecation_msg, UserWarning)\n",
      "/home/rcarvajal/.miniforge3/envs/test_pycaret/lib/python3.8/site-packages/xgboost/data.py:262: FutureWarning: pandas.Int64Index is deprecated and will be removed from pandas in a future version. Use pandas.Index with the appropriate dtype instead.\n",
      "  elif isinstance(data.columns, (pd.Int64Index, pd.RangeIndex)):\n",
      "/home/rcarvajal/.miniforge3/envs/test_pycaret/lib/python3.8/site-packages/xgboost/data.py:262: FutureWarning: pandas.Int64Index is deprecated and will be removed from pandas in a future version. Use pandas.Index with the appropriate dtype instead.\n",
      "  elif isinstance(data.columns, (pd.Int64Index, pd.RangeIndex)):\n",
      "/home/rcarvajal/.miniforge3/envs/test_pycaret/lib/python3.8/site-packages/xgboost/sklearn.py:1224: UserWarning: The use of label encoder in XGBClassifier is deprecated and will be removed in a future release. To remove this warning, do the following: 1) Pass option use_label_encoder=False when constructing XGBClassifier object; and 2) Encode your labels (y) as integers starting with 0, i.e. 0, 1, 2, ..., [num_class - 1].\n",
      "  warnings.warn(label_encoder_deprecation_msg, UserWarning)\n",
      "/home/rcarvajal/.miniforge3/envs/test_pycaret/lib/python3.8/site-packages/xgboost/data.py:262: FutureWarning: pandas.Int64Index is deprecated and will be removed from pandas in a future version. Use pandas.Index with the appropriate dtype instead.\n",
      "  elif isinstance(data.columns, (pd.Int64Index, pd.RangeIndex)):\n",
      "/home/rcarvajal/.miniforge3/envs/test_pycaret/lib/python3.8/site-packages/xgboost/data.py:262: FutureWarning: pandas.Int64Index is deprecated and will be removed from pandas in a future version. Use pandas.Index with the appropriate dtype instead.\n",
      "  elif isinstance(data.columns, (pd.Int64Index, pd.RangeIndex)):\n"
     ]
    },
    {
     "name": "stdout",
     "output_type": "stream",
     "text": [
      "[LightGBM] [Warning] bagging_fraction is set=0.8, subsample=1.0 will be ignored. Current value: bagging_fraction=0.8\n",
      "[LightGBM] [Warning] feature_fraction is set=0.9, colsample_bytree=1.0 will be ignored. Current value: feature_fraction=0.9\n",
      "[LightGBM] [Warning] bagging_freq is set=1, subsample_freq=0 will be ignored. Current value: bagging_freq=1\n"
     ]
    },
    {
     "name": "stderr",
     "output_type": "stream",
     "text": [
      "/home/rcarvajal/.miniforge3/envs/test_pycaret/lib/python3.8/site-packages/xgboost/compat.py:36: FutureWarning: pandas.Int64Index is deprecated and will be removed from pandas in a future version. Use pandas.Index with the appropriate dtype instead.\n",
      "  from pandas import MultiIndex, Int64Index\n",
      "/home/rcarvajal/.miniforge3/envs/test_pycaret/lib/python3.8/site-packages/xgboost/sklearn.py:1224: UserWarning: The use of label encoder in XGBClassifier is deprecated and will be removed in a future release. To remove this warning, do the following: 1) Pass option use_label_encoder=False when constructing XGBClassifier object; and 2) Encode your labels (y) as integers starting with 0, i.e. 0, 1, 2, ..., [num_class - 1].\n",
      "  warnings.warn(label_encoder_deprecation_msg, UserWarning)\n",
      "/home/rcarvajal/.miniforge3/envs/test_pycaret/lib/python3.8/site-packages/xgboost/data.py:262: FutureWarning: pandas.Int64Index is deprecated and will be removed from pandas in a future version. Use pandas.Index with the appropriate dtype instead.\n",
      "  elif isinstance(data.columns, (pd.Int64Index, pd.RangeIndex)):\n",
      "/home/rcarvajal/.miniforge3/envs/test_pycaret/lib/python3.8/site-packages/xgboost/sklearn.py:1224: UserWarning: The use of label encoder in XGBClassifier is deprecated and will be removed in a future release. To remove this warning, do the following: 1) Pass option use_label_encoder=False when constructing XGBClassifier object; and 2) Encode your labels (y) as integers starting with 0, i.e. 0, 1, 2, ..., [num_class - 1].\n",
      "  warnings.warn(label_encoder_deprecation_msg, UserWarning)\n",
      "/home/rcarvajal/.miniforge3/envs/test_pycaret/lib/python3.8/site-packages/xgboost/data.py:262: FutureWarning: pandas.Int64Index is deprecated and will be removed from pandas in a future version. Use pandas.Index with the appropriate dtype instead.\n",
      "  elif isinstance(data.columns, (pd.Int64Index, pd.RangeIndex)):\n",
      "/home/rcarvajal/.miniforge3/envs/test_pycaret/lib/python3.8/site-packages/xgboost/data.py:262: FutureWarning: pandas.Int64Index is deprecated and will be removed from pandas in a future version. Use pandas.Index with the appropriate dtype instead.\n",
      "  elif isinstance(data.columns, (pd.Int64Index, pd.RangeIndex)):\n",
      "/home/rcarvajal/.miniforge3/envs/test_pycaret/lib/python3.8/site-packages/xgboost/sklearn.py:1224: UserWarning: The use of label encoder in XGBClassifier is deprecated and will be removed in a future release. To remove this warning, do the following: 1) Pass option use_label_encoder=False when constructing XGBClassifier object; and 2) Encode your labels (y) as integers starting with 0, i.e. 0, 1, 2, ..., [num_class - 1].\n",
      "  warnings.warn(label_encoder_deprecation_msg, UserWarning)\n",
      "/home/rcarvajal/.miniforge3/envs/test_pycaret/lib/python3.8/site-packages/xgboost/data.py:262: FutureWarning: pandas.Int64Index is deprecated and will be removed from pandas in a future version. Use pandas.Index with the appropriate dtype instead.\n",
      "  elif isinstance(data.columns, (pd.Int64Index, pd.RangeIndex)):\n",
      "/home/rcarvajal/.miniforge3/envs/test_pycaret/lib/python3.8/site-packages/xgboost/sklearn.py:1224: UserWarning: The use of label encoder in XGBClassifier is deprecated and will be removed in a future release. To remove this warning, do the following: 1) Pass option use_label_encoder=False when constructing XGBClassifier object; and 2) Encode your labels (y) as integers starting with 0, i.e. 0, 1, 2, ..., [num_class - 1].\n",
      "  warnings.warn(label_encoder_deprecation_msg, UserWarning)\n",
      "/home/rcarvajal/.miniforge3/envs/test_pycaret/lib/python3.8/site-packages/xgboost/data.py:262: FutureWarning: pandas.Int64Index is deprecated and will be removed from pandas in a future version. Use pandas.Index with the appropriate dtype instead.\n",
      "  elif isinstance(data.columns, (pd.Int64Index, pd.RangeIndex)):\n",
      "/home/rcarvajal/.miniforge3/envs/test_pycaret/lib/python3.8/site-packages/xgboost/data.py:262: FutureWarning: pandas.Int64Index is deprecated and will be removed from pandas in a future version. Use pandas.Index with the appropriate dtype instead.\n",
      "  elif isinstance(data.columns, (pd.Int64Index, pd.RangeIndex)):\n",
      "/home/rcarvajal/.miniforge3/envs/test_pycaret/lib/python3.8/site-packages/xgboost/sklearn.py:1224: UserWarning: The use of label encoder in XGBClassifier is deprecated and will be removed in a future release. To remove this warning, do the following: 1) Pass option use_label_encoder=False when constructing XGBClassifier object; and 2) Encode your labels (y) as integers starting with 0, i.e. 0, 1, 2, ..., [num_class - 1].\n",
      "  warnings.warn(label_encoder_deprecation_msg, UserWarning)\n",
      "/home/rcarvajal/.miniforge3/envs/test_pycaret/lib/python3.8/site-packages/xgboost/data.py:262: FutureWarning: pandas.Int64Index is deprecated and will be removed from pandas in a future version. Use pandas.Index with the appropriate dtype instead.\n",
      "  elif isinstance(data.columns, (pd.Int64Index, pd.RangeIndex)):\n"
     ]
    },
    {
     "name": "stdout",
     "output_type": "stream",
     "text": [
      "[LightGBM] [Warning] bagging_fraction is set=0.8, subsample=1.0 will be ignored. Current value: bagging_fraction=0.8\n",
      "[LightGBM] [Warning] feature_fraction is set=0.9, colsample_bytree=1.0 will be ignored. Current value: feature_fraction=0.9\n",
      "[LightGBM] [Warning] bagging_freq is set=1, subsample_freq=0 will be ignored. Current value: bagging_freq=1\n"
     ]
    },
    {
     "name": "stderr",
     "output_type": "stream",
     "text": [
      "/home/rcarvajal/.miniforge3/envs/test_pycaret/lib/python3.8/site-packages/xgboost/compat.py:36: FutureWarning: pandas.Int64Index is deprecated and will be removed from pandas in a future version. Use pandas.Index with the appropriate dtype instead.\n",
      "  from pandas import MultiIndex, Int64Index\n",
      "/home/rcarvajal/.miniforge3/envs/test_pycaret/lib/python3.8/site-packages/xgboost/sklearn.py:1224: UserWarning: The use of label encoder in XGBClassifier is deprecated and will be removed in a future release. To remove this warning, do the following: 1) Pass option use_label_encoder=False when constructing XGBClassifier object; and 2) Encode your labels (y) as integers starting with 0, i.e. 0, 1, 2, ..., [num_class - 1].\n",
      "  warnings.warn(label_encoder_deprecation_msg, UserWarning)\n",
      "/home/rcarvajal/.miniforge3/envs/test_pycaret/lib/python3.8/site-packages/xgboost/data.py:262: FutureWarning: pandas.Int64Index is deprecated and will be removed from pandas in a future version. Use pandas.Index with the appropriate dtype instead.\n",
      "  elif isinstance(data.columns, (pd.Int64Index, pd.RangeIndex)):\n",
      "/home/rcarvajal/.miniforge3/envs/test_pycaret/lib/python3.8/site-packages/xgboost/sklearn.py:1224: UserWarning: The use of label encoder in XGBClassifier is deprecated and will be removed in a future release. To remove this warning, do the following: 1) Pass option use_label_encoder=False when constructing XGBClassifier object; and 2) Encode your labels (y) as integers starting with 0, i.e. 0, 1, 2, ..., [num_class - 1].\n",
      "  warnings.warn(label_encoder_deprecation_msg, UserWarning)\n",
      "/home/rcarvajal/.miniforge3/envs/test_pycaret/lib/python3.8/site-packages/xgboost/data.py:262: FutureWarning: pandas.Int64Index is deprecated and will be removed from pandas in a future version. Use pandas.Index with the appropriate dtype instead.\n",
      "  elif isinstance(data.columns, (pd.Int64Index, pd.RangeIndex)):\n",
      "/home/rcarvajal/.miniforge3/envs/test_pycaret/lib/python3.8/site-packages/xgboost/data.py:262: FutureWarning: pandas.Int64Index is deprecated and will be removed from pandas in a future version. Use pandas.Index with the appropriate dtype instead.\n",
      "  elif isinstance(data.columns, (pd.Int64Index, pd.RangeIndex)):\n",
      "/home/rcarvajal/.miniforge3/envs/test_pycaret/lib/python3.8/site-packages/xgboost/sklearn.py:1224: UserWarning: The use of label encoder in XGBClassifier is deprecated and will be removed in a future release. To remove this warning, do the following: 1) Pass option use_label_encoder=False when constructing XGBClassifier object; and 2) Encode your labels (y) as integers starting with 0, i.e. 0, 1, 2, ..., [num_class - 1].\n",
      "  warnings.warn(label_encoder_deprecation_msg, UserWarning)\n",
      "/home/rcarvajal/.miniforge3/envs/test_pycaret/lib/python3.8/site-packages/xgboost/data.py:262: FutureWarning: pandas.Int64Index is deprecated and will be removed from pandas in a future version. Use pandas.Index with the appropriate dtype instead.\n",
      "  elif isinstance(data.columns, (pd.Int64Index, pd.RangeIndex)):\n",
      "/home/rcarvajal/.miniforge3/envs/test_pycaret/lib/python3.8/site-packages/xgboost/sklearn.py:1224: UserWarning: The use of label encoder in XGBClassifier is deprecated and will be removed in a future release. To remove this warning, do the following: 1) Pass option use_label_encoder=False when constructing XGBClassifier object; and 2) Encode your labels (y) as integers starting with 0, i.e. 0, 1, 2, ..., [num_class - 1].\n",
      "  warnings.warn(label_encoder_deprecation_msg, UserWarning)\n",
      "/home/rcarvajal/.miniforge3/envs/test_pycaret/lib/python3.8/site-packages/xgboost/data.py:262: FutureWarning: pandas.Int64Index is deprecated and will be removed from pandas in a future version. Use pandas.Index with the appropriate dtype instead.\n",
      "  elif isinstance(data.columns, (pd.Int64Index, pd.RangeIndex)):\n",
      "/home/rcarvajal/.miniforge3/envs/test_pycaret/lib/python3.8/site-packages/xgboost/data.py:262: FutureWarning: pandas.Int64Index is deprecated and will be removed from pandas in a future version. Use pandas.Index with the appropriate dtype instead.\n",
      "  elif isinstance(data.columns, (pd.Int64Index, pd.RangeIndex)):\n",
      "Custom logger is already specified. Specify more than one logger at same time is not thread safe.Custom logger is already specified. Specify more than one logger at same time is not thread safe.Custom logger is already specified. Specify more than one logger at same time is not thread safe.Custom logger is already specified. Specify more than one logger at same time is not thread safe."
     ]
    },
    {
     "name": "stdout",
     "output_type": "stream",
     "text": [
      "[LightGBM] [Warning] bagging_fraction is set=0.8, subsample=1.0 will be ignored. Current value: bagging_fraction=0.8\n",
      "[LightGBM] [Warning] feature_fraction is set=0.9, colsample_bytree=1.0 will be ignored. Current value: feature_fraction=0.9\n",
      "[LightGBM] [Warning] bagging_freq is set=1, subsample_freq=0 will be ignored. Current value: bagging_freq=1\n"
     ]
    },
    {
     "name": "stderr",
     "output_type": "stream",
     "text": [
      "/home/rcarvajal/.miniforge3/envs/test_pycaret/lib/python3.8/site-packages/xgboost/compat.py:36: FutureWarning: pandas.Int64Index is deprecated and will be removed from pandas in a future version. Use pandas.Index with the appropriate dtype instead.\n",
      "  from pandas import MultiIndex, Int64Index\n",
      "/home/rcarvajal/.miniforge3/envs/test_pycaret/lib/python3.8/site-packages/xgboost/sklearn.py:1224: UserWarning: The use of label encoder in XGBClassifier is deprecated and will be removed in a future release. To remove this warning, do the following: 1) Pass option use_label_encoder=False when constructing XGBClassifier object; and 2) Encode your labels (y) as integers starting with 0, i.e. 0, 1, 2, ..., [num_class - 1].\n",
      "  warnings.warn(label_encoder_deprecation_msg, UserWarning)\n",
      "/home/rcarvajal/.miniforge3/envs/test_pycaret/lib/python3.8/site-packages/xgboost/data.py:262: FutureWarning: pandas.Int64Index is deprecated and will be removed from pandas in a future version. Use pandas.Index with the appropriate dtype instead.\n",
      "  elif isinstance(data.columns, (pd.Int64Index, pd.RangeIndex)):\n",
      "/home/rcarvajal/.miniforge3/envs/test_pycaret/lib/python3.8/site-packages/xgboost/sklearn.py:1224: UserWarning: The use of label encoder in XGBClassifier is deprecated and will be removed in a future release. To remove this warning, do the following: 1) Pass option use_label_encoder=False when constructing XGBClassifier object; and 2) Encode your labels (y) as integers starting with 0, i.e. 0, 1, 2, ..., [num_class - 1].\n",
      "  warnings.warn(label_encoder_deprecation_msg, UserWarning)\n",
      "/home/rcarvajal/.miniforge3/envs/test_pycaret/lib/python3.8/site-packages/xgboost/data.py:262: FutureWarning: pandas.Int64Index is deprecated and will be removed from pandas in a future version. Use pandas.Index with the appropriate dtype instead.\n",
      "  elif isinstance(data.columns, (pd.Int64Index, pd.RangeIndex)):\n",
      "/home/rcarvajal/.miniforge3/envs/test_pycaret/lib/python3.8/site-packages/xgboost/data.py:262: FutureWarning: pandas.Int64Index is deprecated and will be removed from pandas in a future version. Use pandas.Index with the appropriate dtype instead.\n",
      "  elif isinstance(data.columns, (pd.Int64Index, pd.RangeIndex)):\n",
      "/home/rcarvajal/.miniforge3/envs/test_pycaret/lib/python3.8/site-packages/xgboost/sklearn.py:1224: UserWarning: The use of label encoder in XGBClassifier is deprecated and will be removed in a future release. To remove this warning, do the following: 1) Pass option use_label_encoder=False when constructing XGBClassifier object; and 2) Encode your labels (y) as integers starting with 0, i.e. 0, 1, 2, ..., [num_class - 1].\n",
      "  warnings.warn(label_encoder_deprecation_msg, UserWarning)\n",
      "/home/rcarvajal/.miniforge3/envs/test_pycaret/lib/python3.8/site-packages/xgboost/data.py:262: FutureWarning: pandas.Int64Index is deprecated and will be removed from pandas in a future version. Use pandas.Index with the appropriate dtype instead.\n",
      "  elif isinstance(data.columns, (pd.Int64Index, pd.RangeIndex)):\n",
      "/home/rcarvajal/.miniforge3/envs/test_pycaret/lib/python3.8/site-packages/xgboost/sklearn.py:1224: UserWarning: The use of label encoder in XGBClassifier is deprecated and will be removed in a future release. To remove this warning, do the following: 1) Pass option use_label_encoder=False when constructing XGBClassifier object; and 2) Encode your labels (y) as integers starting with 0, i.e. 0, 1, 2, ..., [num_class - 1].\n",
      "  warnings.warn(label_encoder_deprecation_msg, UserWarning)\n",
      "/home/rcarvajal/.miniforge3/envs/test_pycaret/lib/python3.8/site-packages/xgboost/data.py:262: FutureWarning: pandas.Int64Index is deprecated and will be removed from pandas in a future version. Use pandas.Index with the appropriate dtype instead.\n",
      "  elif isinstance(data.columns, (pd.Int64Index, pd.RangeIndex)):\n",
      "/home/rcarvajal/.miniforge3/envs/test_pycaret/lib/python3.8/site-packages/xgboost/data.py:262: FutureWarning: pandas.Int64Index is deprecated and will be removed from pandas in a future version. Use pandas.Index with the appropriate dtype instead.\n",
      "  elif isinstance(data.columns, (pd.Int64Index, pd.RangeIndex)):\n"
     ]
    }
   ],
   "source": [
    "final_radio_clf = pyc.finalize_model(tuned_radio_clf)"
   ]
  },
  {
   "cell_type": "code",
   "execution_count": 92,
   "id": "c3d04ad2",
   "metadata": {
    "id": "kAciINC6t-gk"
   },
   "outputs": [
    {
     "name": "stdout",
     "output_type": "stream",
     "text": [
      "Transformation Pipeline and Model Successfully Saved\n"
     ]
    }
   ],
   "source": [
    "if save_model_flag:\n",
    "    pyc.save_model(final_radio_clf, 'models/classification_radio_detect_may_14_2022')  # Model (it will be saved with .pkl extension)\n",
    "    # pyc.save_config('models/config_classification_radio_detect_may_14_2022')  # Configuration file"
   ]
  },
  {
   "cell_type": "markdown",
   "id": "1789a354",
   "metadata": {
    "id": "ef654bbb-7b74-4cef-a809-42d2eb8e7fcb"
   },
   "source": [
    "## Load Models"
   ]
  },
  {
   "cell_type": "markdown",
   "id": "2f560918",
   "metadata": {
    "id": "217777e4-0212-4a37-b535-6fcaf2f0817e"
   },
   "source": [
    "AGN detection model."
   ]
  },
  {
   "cell_type": "code",
   "execution_count": 68,
   "id": "d80e1854",
   "metadata": {
    "id": "ad6bf94f-c59d-4013-b523-76a77df047cc",
    "outputId": "d8cd5b82-e109-4bd1-90ea-bf0e85e10ccd",
    "tags": []
   },
   "outputs": [],
   "source": [
    "if load_model_flag:\n",
    "    final_radio_clf = pyc.load_model('models/classification_radio_detect_may_14_2022')"
   ]
  },
  {
   "cell_type": "markdown",
   "id": "607d3983",
   "metadata": {
    "id": "6fcb2c6c-a004-4801-b43d-a3593f802cf5"
   },
   "source": [
    "### Prediction process"
   ]
  },
  {
   "cell_type": "markdown",
   "id": "1915f94e",
   "metadata": {},
   "source": [
    "#### Feature importances"
   ]
  },
  {
   "cell_type": "code",
   "execution_count": 93,
   "id": "081ce883",
   "metadata": {},
   "outputs": [],
   "source": [
    "estimators_list = [estimator[0] for estimator in final_radio_clf.estimators]"
   ]
  },
  {
   "cell_type": "code",
   "execution_count": 94,
   "id": "ed4fb4a8",
   "metadata": {
    "jupyter": {
     "source_hidden": true
    },
    "tags": []
   },
   "outputs": [
    {
     "name": "stdout",
     "output_type": "stream",
     "text": [
      "Running dtypes\n",
      "Running imputer\n",
      "Running new_levels1\n",
      "Running new_levels\n",
      "Running feature_time\n",
      "Running scaling\n",
      "Running P_transform\n",
      "Running dummy\n",
      "Running fix_perfect\n",
      "Running clean_names\n"
     ]
    }
   ],
   "source": [
    "extended_data_radio = validation_df.loc[:, get_final_column_names(final_radio_clf, validation_df)].copy()\n",
    "extended_idx_radio  = extended_data_radio.index\n",
    "initial_cols_radio  = extended_data_radio.columns\n",
    "extended_cols_radio = extended_data_radio.columns.insert(0, estimators_list[0])\n",
    "if len(estimators_list) > 1:\n",
    "    for est_name in estimators_list[1::]:\n",
    "        extended_cols_radio = extended_cols_radio.insert(0, est_name)"
   ]
  },
  {
   "cell_type": "code",
   "execution_count": 95,
   "id": "bb3a2ee6",
   "metadata": {
    "jupyter": {
     "source_hidden": true
    },
    "tags": []
   },
   "outputs": [
    {
     "name": "stdout",
     "output_type": "stream",
     "text": [
      "Running data pre-processing:\n",
      "\n",
      "Running dtypes\n",
      "Running imputer\n",
      "Running new_levels1\n",
      "Running new_levels\n",
      "Running feature_time\n",
      "Running scaling\n",
      "Running P_transform\n",
      "Running dummy\n",
      "Running fix_perfect\n",
      "Running clean_names\n"
     ]
    }
   ],
   "source": [
    "print('Running data pre-processing:\\n')\n",
    "if isinstance(final_radio_clf, sklearn.pipeline.Pipeline):\n",
    "    prep_steps = final_radio_clf.named_steps.items()\n",
    "else:\n",
    "    prep_steps = pyc.get_config('prep_pipe').named_steps.items()\n",
    "\n",
    "for (name, method) in prep_steps:\n",
    "    if method != 'passthrough':  # and name != 'trained_model':\n",
    "        print(f'Running {name}')\n",
    "        extended_data_radio = method.transform(extended_data_radio)\n",
    "extended_data_radio_df = pd.DataFrame(extended_data_radio, columns=extended_cols_radio, index=extended_idx_radio)"
   ]
  },
  {
   "cell_type": "code",
   "execution_count": 96,
   "id": "02b0a560",
   "metadata": {
    "jupyter": {
     "source_hidden": true
    },
    "tags": []
   },
   "outputs": [],
   "source": [
    "if isinstance(final_radio_clf, sklearn.pipeline.Pipeline):\n",
    "    importances_coef = final_radio_clf.named_steps['trained_model'].final_estimator_.feature_importances_\n",
    "else:\n",
    "    importances_coef = final_radio_clf.final_estimator_.feature_importances_\n",
    "\n",
    "coef_meta_df = pd.DataFrame({'Feature': extended_cols_radio, 'Importance': importances_coef})\n",
    "coef_sorted_meta_df = (\n",
    "    coef_meta_df.sort_values(by='Importance', ascending=False)\n",
    "    .head(len(extended_cols_radio))\n",
    "    .sort_values(by='Importance', ascending=False).reset_index(drop=True)\n",
    ")"
   ]
  },
  {
   "cell_type": "code",
   "execution_count": 97,
   "id": "28ce0e95",
   "metadata": {
    "jupyter": {
     "source_hidden": true
    },
    "tags": []
   },
   "outputs": [],
   "source": [
    "if isinstance(final_radio_clf, sklearn.pipeline.Pipeline):\n",
    "    estimators_list  = final_radio_clf.named_steps['trained_model'].estimators\n",
    "    estimators_list_ = final_radio_clf.named_steps['trained_model'].estimators_\n",
    "else:\n",
    "    estimators_list  = final_radio_clf.estimators\n",
    "    estimators_list_ = final_radio_clf.estimators_"
   ]
  },
  {
   "cell_type": "code",
   "execution_count": 98,
   "id": "dd697eec",
   "metadata": {
    "jupyter": {
     "source_hidden": true
    },
    "tags": []
   },
   "outputs": [],
   "source": [
    "base_models_names = [model[0] for model in estimators_list]"
   ]
  },
  {
   "cell_type": "code",
   "execution_count": 99,
   "id": "315c767f",
   "metadata": {
    "jupyter": {
     "source_hidden": true
    },
    "tags": []
   },
   "outputs": [],
   "source": [
    "coef_sorted_base_df = {}"
   ]
  },
  {
   "cell_type": "code",
   "execution_count": 100,
   "id": "39f73637",
   "metadata": {
    "jupyter": {
     "source_hidden": true
    },
    "tags": []
   },
   "outputs": [],
   "source": [
    "for model, model_fit in zip(base_models_names, estimators_list_):\n",
    "    if hasattr(model_fit, 'feature_importances_'):\n",
    "        coef_base_df = pd.DataFrame({'Feature': extended_cols_radio.drop(base_models_names),\n",
    "                                     'Importance': model_fit.feature_importances_})\n",
    "        coef_sorted_base_df[model] = (\n",
    "        coef_base_df.sort_values(by='Importance', ascending=False)\n",
    "        .head(len(extended_cols_radio.drop(base_models_names)))\n",
    "        .sort_values(by='Importance', ascending=False).reset_index(drop=True)\n",
    "    )\n",
    "    elif hasattr(model_fit, 'coef_'):\n",
    "        coef_base_df = pd.DataFrame({'Feature': extended_cols_radio.drop(base_models_names),\n",
    "                                     'Importance': np.abs(model_fit.coef_) *\\\n",
    "                                     extended_data_radio_df.loc[:, extended_cols_radio.drop(base_models_names)].std(axis=0)})\n",
    "        coef_sorted_base_df[model] = (\n",
    "        coef_base_df.sort_values(by='Importance', ascending=False)\n",
    "        .head(len(extended_cols_radio.drop(base_models_names)))\n",
    "        .sort_values(by='Importance', ascending=False).reset_index(drop=True)\n",
    ")"
   ]
  },
  {
   "cell_type": "code",
   "execution_count": 101,
   "id": "4ce26259",
   "metadata": {
    "jupyter": {
     "source_hidden": true
    },
    "tags": []
   },
   "outputs": [],
   "source": [
    "multicol_feat = [(key, name) for key in coef_sorted_base_df.keys() for name in ('Feature', 'Importance')]"
   ]
  },
  {
   "cell_type": "code",
   "execution_count": 102,
   "id": "890e5849",
   "metadata": {
    "jupyter": {
     "source_hidden": true
    },
    "tags": []
   },
   "outputs": [
    {
     "name": "stdout",
     "output_type": "stream",
     "text": [
      "Feature importances scaled to sum 100\n",
      "Calculating for catboost...\n",
      "Calculating for gbc...\n",
      "Calculating for ada...\n",
      "Calculating for xgboost...\n"
     ]
    },
    {
     "data": {
      "text/html": [
       "<div>\n",
       "<style scoped>\n",
       "    .dataframe tbody tr th:only-of-type {\n",
       "        vertical-align: middle;\n",
       "    }\n",
       "\n",
       "    .dataframe tbody tr th {\n",
       "        vertical-align: top;\n",
       "    }\n",
       "\n",
       "    .dataframe thead tr th {\n",
       "        text-align: left;\n",
       "    }\n",
       "</style>\n",
       "<table border=\"1\" class=\"dataframe\">\n",
       "  <thead>\n",
       "    <tr>\n",
       "      <th></th>\n",
       "      <th colspan=\"2\" halign=\"left\">catboost</th>\n",
       "      <th colspan=\"2\" halign=\"left\">gbc</th>\n",
       "      <th colspan=\"2\" halign=\"left\">ada</th>\n",
       "      <th colspan=\"2\" halign=\"left\">xgboost</th>\n",
       "    </tr>\n",
       "    <tr>\n",
       "      <th></th>\n",
       "      <th>Feature</th>\n",
       "      <th>Importance</th>\n",
       "      <th>Feature</th>\n",
       "      <th>Importance</th>\n",
       "      <th>Feature</th>\n",
       "      <th>Importance</th>\n",
       "      <th>Feature</th>\n",
       "      <th>Importance</th>\n",
       "    </tr>\n",
       "  </thead>\n",
       "  <tbody>\n",
       "    <tr>\n",
       "      <th>0</th>\n",
       "      <td>w2_w3</td>\n",
       "      <td>21.686947</td>\n",
       "      <td>w3_w4</td>\n",
       "      <td>37.979357</td>\n",
       "      <td>w2_w3</td>\n",
       "      <td>24.0</td>\n",
       "      <td>w3_w4</td>\n",
       "      <td>32.667248</td>\n",
       "    </tr>\n",
       "    <tr>\n",
       "      <th>1</th>\n",
       "      <td>z/W1</td>\n",
       "      <td>11.813289</td>\n",
       "      <td>w2_w3</td>\n",
       "      <td>35.423452</td>\n",
       "      <td>z/W1</td>\n",
       "      <td>14.0</td>\n",
       "      <td>W4mag</td>\n",
       "      <td>19.091373</td>\n",
       "    </tr>\n",
       "    <tr>\n",
       "      <th>2</th>\n",
       "      <td>i_z</td>\n",
       "      <td>11.082586</td>\n",
       "      <td>i_z</td>\n",
       "      <td>7.019229</td>\n",
       "      <td>r_i</td>\n",
       "      <td>10.0</td>\n",
       "      <td>w2_w3</td>\n",
       "      <td>16.435974</td>\n",
       "    </tr>\n",
       "    <tr>\n",
       "      <th>3</th>\n",
       "      <td>w1_w2</td>\n",
       "      <td>9.611492</td>\n",
       "      <td>z/W1</td>\n",
       "      <td>4.915963</td>\n",
       "      <td>i_z</td>\n",
       "      <td>10.0</td>\n",
       "      <td>i_z</td>\n",
       "      <td>4.137479</td>\n",
       "    </tr>\n",
       "    <tr>\n",
       "      <th>4</th>\n",
       "      <td>g_r</td>\n",
       "      <td>9.252906</td>\n",
       "      <td>r_i</td>\n",
       "      <td>3.345193</td>\n",
       "      <td>w3_w4</td>\n",
       "      <td>10.0</td>\n",
       "      <td>z/W1</td>\n",
       "      <td>3.844109</td>\n",
       "    </tr>\n",
       "    <tr>\n",
       "      <th>5</th>\n",
       "      <td>r_i</td>\n",
       "      <td>8.548600</td>\n",
       "      <td>w1_w2</td>\n",
       "      <td>3.105621</td>\n",
       "      <td>w1_w2</td>\n",
       "      <td>8.0</td>\n",
       "      <td>NUVmag</td>\n",
       "      <td>3.106658</td>\n",
       "    </tr>\n",
       "    <tr>\n",
       "      <th>6</th>\n",
       "      <td>w3_w4</td>\n",
       "      <td>7.691575</td>\n",
       "      <td>g_r</td>\n",
       "      <td>3.043971</td>\n",
       "      <td>g_r</td>\n",
       "      <td>6.0</td>\n",
       "      <td>r_i</td>\n",
       "      <td>2.967183</td>\n",
       "    </tr>\n",
       "    <tr>\n",
       "      <th>7</th>\n",
       "      <td>y/W2</td>\n",
       "      <td>6.309658</td>\n",
       "      <td>W4mag</td>\n",
       "      <td>2.778690</td>\n",
       "      <td>y/W2</td>\n",
       "      <td>6.0</td>\n",
       "      <td>g_r</td>\n",
       "      <td>2.838032</td>\n",
       "    </tr>\n",
       "    <tr>\n",
       "      <th>8</th>\n",
       "      <td>z_y</td>\n",
       "      <td>5.515532</td>\n",
       "      <td>y/W2</td>\n",
       "      <td>1.320640</td>\n",
       "      <td>band_num</td>\n",
       "      <td>4.0</td>\n",
       "      <td>w1_w2</td>\n",
       "      <td>2.817326</td>\n",
       "    </tr>\n",
       "    <tr>\n",
       "      <th>9</th>\n",
       "      <td>band_num</td>\n",
       "      <td>3.394886</td>\n",
       "      <td>band_num</td>\n",
       "      <td>0.410109</td>\n",
       "      <td>W4mag</td>\n",
       "      <td>2.0</td>\n",
       "      <td>band_num</td>\n",
       "      <td>2.662046</td>\n",
       "    </tr>\n",
       "    <tr>\n",
       "      <th>10</th>\n",
       "      <td>W4mag</td>\n",
       "      <td>1.831746</td>\n",
       "      <td>z_y</td>\n",
       "      <td>0.292853</td>\n",
       "      <td>z_y</td>\n",
       "      <td>2.0</td>\n",
       "      <td>y/W2</td>\n",
       "      <td>2.496261</td>\n",
       "    </tr>\n",
       "    <tr>\n",
       "      <th>11</th>\n",
       "      <td>NUVmag</td>\n",
       "      <td>1.003649</td>\n",
       "      <td>NUVmag</td>\n",
       "      <td>0.208011</td>\n",
       "      <td>H_K</td>\n",
       "      <td>2.0</td>\n",
       "      <td>z_y</td>\n",
       "      <td>2.222663</td>\n",
       "    </tr>\n",
       "    <tr>\n",
       "      <th>12</th>\n",
       "      <td>FUV/K</td>\n",
       "      <td>0.902439</td>\n",
       "      <td>FUV/K</td>\n",
       "      <td>0.103418</td>\n",
       "      <td>FUV/K</td>\n",
       "      <td>2.0</td>\n",
       "      <td>FUV/K</td>\n",
       "      <td>1.947456</td>\n",
       "    </tr>\n",
       "    <tr>\n",
       "      <th>13</th>\n",
       "      <td>J_H</td>\n",
       "      <td>0.777726</td>\n",
       "      <td>H_K</td>\n",
       "      <td>0.048126</td>\n",
       "      <td>NUVmag</td>\n",
       "      <td>0.0</td>\n",
       "      <td>H_K</td>\n",
       "      <td>1.655511</td>\n",
       "    </tr>\n",
       "    <tr>\n",
       "      <th>14</th>\n",
       "      <td>H_K</td>\n",
       "      <td>0.576967</td>\n",
       "      <td>J_H</td>\n",
       "      <td>0.005368</td>\n",
       "      <td>J_H</td>\n",
       "      <td>0.0</td>\n",
       "      <td>J_H</td>\n",
       "      <td>1.110678</td>\n",
       "    </tr>\n",
       "  </tbody>\n",
       "</table>\n",
       "</div>"
      ],
      "text/plain": [
       "    catboost                  gbc                  ada              xgboost  \\\n",
       "     Feature Importance   Feature Importance   Feature Importance   Feature   \n",
       "0      w2_w3  21.686947     w3_w4  37.979357     w2_w3       24.0     w3_w4   \n",
       "1       z/W1  11.813289     w2_w3  35.423452      z/W1       14.0     W4mag   \n",
       "2        i_z  11.082586       i_z   7.019229       r_i       10.0     w2_w3   \n",
       "3      w1_w2   9.611492      z/W1   4.915963       i_z       10.0       i_z   \n",
       "4        g_r   9.252906       r_i   3.345193     w3_w4       10.0      z/W1   \n",
       "5        r_i   8.548600     w1_w2   3.105621     w1_w2        8.0    NUVmag   \n",
       "6      w3_w4   7.691575       g_r   3.043971       g_r        6.0       r_i   \n",
       "7       y/W2   6.309658     W4mag   2.778690      y/W2        6.0       g_r   \n",
       "8        z_y   5.515532      y/W2   1.320640  band_num        4.0     w1_w2   \n",
       "9   band_num   3.394886  band_num   0.410109     W4mag        2.0  band_num   \n",
       "10     W4mag   1.831746       z_y   0.292853       z_y        2.0      y/W2   \n",
       "11    NUVmag   1.003649    NUVmag   0.208011       H_K        2.0       z_y   \n",
       "12     FUV/K   0.902439     FUV/K   0.103418     FUV/K        2.0     FUV/K   \n",
       "13       J_H   0.777726       H_K   0.048126    NUVmag        0.0       H_K   \n",
       "14       H_K   0.576967       J_H   0.005368       J_H        0.0       J_H   \n",
       "\n",
       "               \n",
       "   Importance  \n",
       "0   32.667248  \n",
       "1   19.091373  \n",
       "2   16.435974  \n",
       "3    4.137479  \n",
       "4    3.844109  \n",
       "5    3.106658  \n",
       "6    2.967183  \n",
       "7    2.838032  \n",
       "8    2.817326  \n",
       "9    2.662046  \n",
       "10   2.496261  \n",
       "11   2.222663  \n",
       "12   1.947456  \n",
       "13   1.655511  \n",
       "14   1.110678  "
      ]
     },
     "metadata": {},
     "output_type": "display_data"
    }
   ],
   "source": [
    "print('Feature importances scaled to sum 100')\n",
    "coef_sorted_base_df_copy_sum = coef_sorted_base_df.copy()\n",
    "for key in coef_sorted_base_df_copy_sum.keys():\n",
    "    print(f'Calculating for {key}...')\n",
    "    coef_sorted_base_df_copy_sum[key].loc[:, 'Importance'] = coef_sorted_base_df[key].loc[:, 'Importance'] /\\\n",
    "                                                        coef_sorted_base_df[key].loc[:, 'Importance'].sum() * 100\n",
    "    # display(coef_sorted_base_df_copy_sum[key])\n",
    "coef_sorted_base_full_df = pd.concat([coef_sorted_base_df_copy_sum[key].reset_index(drop=True) for key in coef_sorted_base_df_copy_sum.keys()], axis=1)\n",
    "coef_sorted_base_full_df.columns = pd.MultiIndex.from_tuples(multicol_feat)\n",
    "display(coef_sorted_base_full_df)"
   ]
  },
  {
   "cell_type": "code",
   "execution_count": 103,
   "id": "8eb48e1b",
   "metadata": {
    "jupyter": {
     "source_hidden": true
    },
    "tags": []
   },
   "outputs": [
    {
     "name": "stdout",
     "output_type": "stream",
     "text": [
      "Feature importances scaled to sum 100\n",
      "Meta model\n"
     ]
    },
    {
     "data": {
      "text/html": [
       "<div>\n",
       "<style scoped>\n",
       "    .dataframe tbody tr th:only-of-type {\n",
       "        vertical-align: middle;\n",
       "    }\n",
       "\n",
       "    .dataframe tbody tr th {\n",
       "        vertical-align: top;\n",
       "    }\n",
       "\n",
       "    .dataframe thead th {\n",
       "        text-align: right;\n",
       "    }\n",
       "</style>\n",
       "<table border=\"1\" class=\"dataframe\">\n",
       "  <thead>\n",
       "    <tr style=\"text-align: right;\">\n",
       "      <th></th>\n",
       "      <th>Feature</th>\n",
       "      <th>Importance</th>\n",
       "    </tr>\n",
       "  </thead>\n",
       "  <tbody>\n",
       "    <tr>\n",
       "      <th>0</th>\n",
       "      <td>r_i</td>\n",
       "      <td>8.999310</td>\n",
       "    </tr>\n",
       "    <tr>\n",
       "      <th>1</th>\n",
       "      <td>xgboost</td>\n",
       "      <td>8.812974</td>\n",
       "    </tr>\n",
       "    <tr>\n",
       "      <th>2</th>\n",
       "      <td>g_r</td>\n",
       "      <td>8.730159</td>\n",
       "    </tr>\n",
       "    <tr>\n",
       "      <th>3</th>\n",
       "      <td>catboost</td>\n",
       "      <td>8.626639</td>\n",
       "    </tr>\n",
       "    <tr>\n",
       "      <th>4</th>\n",
       "      <td>w1_w2</td>\n",
       "      <td>8.571429</td>\n",
       "    </tr>\n",
       "    <tr>\n",
       "      <th>5</th>\n",
       "      <td>z/W1</td>\n",
       "      <td>8.467909</td>\n",
       "    </tr>\n",
       "    <tr>\n",
       "      <th>6</th>\n",
       "      <td>i_z</td>\n",
       "      <td>8.198758</td>\n",
       "    </tr>\n",
       "    <tr>\n",
       "      <th>7</th>\n",
       "      <td>ada</td>\n",
       "      <td>7.253278</td>\n",
       "    </tr>\n",
       "    <tr>\n",
       "      <th>8</th>\n",
       "      <td>w2_w3</td>\n",
       "      <td>7.163561</td>\n",
       "    </tr>\n",
       "    <tr>\n",
       "      <th>9</th>\n",
       "      <td>gbc</td>\n",
       "      <td>6.970324</td>\n",
       "    </tr>\n",
       "    <tr>\n",
       "      <th>10</th>\n",
       "      <td>z_y</td>\n",
       "      <td>6.459627</td>\n",
       "    </tr>\n",
       "    <tr>\n",
       "      <th>11</th>\n",
       "      <td>y/W2</td>\n",
       "      <td>6.204279</td>\n",
       "    </tr>\n",
       "    <tr>\n",
       "      <th>12</th>\n",
       "      <td>band_num</td>\n",
       "      <td>2.236025</td>\n",
       "    </tr>\n",
       "    <tr>\n",
       "      <th>13</th>\n",
       "      <td>w3_w4</td>\n",
       "      <td>1.552795</td>\n",
       "    </tr>\n",
       "    <tr>\n",
       "      <th>14</th>\n",
       "      <td>NUVmag</td>\n",
       "      <td>0.559006</td>\n",
       "    </tr>\n",
       "    <tr>\n",
       "      <th>15</th>\n",
       "      <td>J_H</td>\n",
       "      <td>0.441684</td>\n",
       "    </tr>\n",
       "    <tr>\n",
       "      <th>16</th>\n",
       "      <td>FUV/K</td>\n",
       "      <td>0.331263</td>\n",
       "    </tr>\n",
       "    <tr>\n",
       "      <th>17</th>\n",
       "      <td>W4mag</td>\n",
       "      <td>0.324362</td>\n",
       "    </tr>\n",
       "    <tr>\n",
       "      <th>18</th>\n",
       "      <td>H_K</td>\n",
       "      <td>0.096618</td>\n",
       "    </tr>\n",
       "  </tbody>\n",
       "</table>\n",
       "</div>"
      ],
      "text/plain": [
       "     Feature  Importance\n",
       "0        r_i    8.999310\n",
       "1    xgboost    8.812974\n",
       "2        g_r    8.730159\n",
       "3   catboost    8.626639\n",
       "4      w1_w2    8.571429\n",
       "5       z/W1    8.467909\n",
       "6        i_z    8.198758\n",
       "7        ada    7.253278\n",
       "8      w2_w3    7.163561\n",
       "9        gbc    6.970324\n",
       "10       z_y    6.459627\n",
       "11      y/W2    6.204279\n",
       "12  band_num    2.236025\n",
       "13     w3_w4    1.552795\n",
       "14    NUVmag    0.559006\n",
       "15       J_H    0.441684\n",
       "16     FUV/K    0.331263\n",
       "17     W4mag    0.324362\n",
       "18       H_K    0.096618"
      ]
     },
     "metadata": {},
     "output_type": "display_data"
    }
   ],
   "source": [
    "print('Feature importances scaled to sum 100')\n",
    "coef_sorted_meta_df_copy_sum = coef_sorted_meta_df.copy()\n",
    "coef_sorted_meta_df_copy_sum.loc[:, 'Importance'] = coef_sorted_meta_df.loc[:, 'Importance'] /\\\n",
    "                                                     coef_sorted_meta_df.loc[:, 'Importance'].sum() * 100\n",
    "print('Meta model')\n",
    "display(coef_sorted_meta_df_copy_sum)"
   ]
  },
  {
   "cell_type": "code",
   "execution_count": 104,
   "id": "74455d01",
   "metadata": {
    "jupyter": {
     "source_hidden": true
    },
    "tags": []
   },
   "outputs": [
    {
     "name": "stdout",
     "output_type": "stream",
     "text": [
      "Feature importances scaled to sum 100\n",
      "Running dtypes\n",
      "Running imputer\n",
      "Running new_levels1\n",
      "Running new_levels\n",
      "Running feature_time\n",
      "Running scaling\n",
      "Running P_transform\n",
      "Running dummy\n",
      "Running fix_perfect\n",
      "Running clean_names\n",
      "--------------------\n",
      "top features:\n",
      "Feature\tImportance\n",
      "w2_w3\t21.792\n",
      "z/W1\t11.690\n",
      "i_z\t10.965\n",
      "w1_w2\t9.467\n",
      "g_r\t9.099\n",
      "r_i\t8.458\n",
      "w3_w4\t8.251\n",
      "y/W2\t6.221\n",
      "z_y\t5.399\n",
      "band_num\t3.365\n",
      "W4mag\t2.010\n",
      "NUVmag\t1.007\n",
      "FUV/K\t0.915\n",
      "J_H\t0.766\n",
      "H_K\t0.596\n"
     ]
    },
    {
     "data": {
      "image/png": "[encoded data removed]",
      "text/plain": [
       "<Figure size 700x1000 with 1 Axes>"
      ]
     },
     "metadata": {},
     "output_type": "display_data"
    }
   ],
   "source": [
    "print('Feature importances scaled to sum 100')\n",
    "try:\n",
    "    fig         = plt.figure(figsize=(7,10))\n",
    "    ax1         = fig.add_subplot(111)\n",
    "    n_top       = len(validation_df.columns)\n",
    "    features_df = get_feature_importances_df(final_radio_clf, validation_df, n=n_top)\n",
    "    features    = features_df.loc[:, 'Feature'].to_list()\n",
    "    importances = features_df.loc[:, 'Importance'].to_list()\n",
    "    import_scal = importances / np.nansum(importances)\n",
    "    import_scal_colors = (importances - np.nanmin(importances)) / (np.nanmax(importances) - np.nanmin(importances))\n",
    "    # indices     = np.argsort(importances)[-n_top:] #only show most important features\n",
    "    # indices     = np.argsort(importances)\n",
    "    # ax1.set_title(f'{model_name} Feature Importances', size=14)\n",
    "    ax1.set_title('Feature Importances', size=14)\n",
    "    ax1.barh(range(len(importances)), import_scal * 100,\\\n",
    "             color=plt.get_cmap('bone', len(importances))(import_scal_colors), align='center', ec='k', lw=1.5)\n",
    "    # plt.yticks(range(len(importances)), [features[i] for i in importances])\n",
    "    plt.yticks(range(len(importances)), features)\n",
    "    ax1.set_xlabel('Relative Importance', size=14)\n",
    "    ax1.set_ylabel('Features', size=14)\n",
    "    ax1.tick_params(axis='both', which='major', labelsize=14)\n",
    "    ax1.tick_params(axis='y', which='major', rotation=30)\n",
    "    plt.setp(ax1.spines.values(), linewidth=2.5)\n",
    "    ax1.tick_params(which='both',top=True, right=False, direction='in')\n",
    "    # ax1.set_xscale('log')\n",
    "    # plt.show()\n",
    "    plt.tight_layout()\n",
    "    if save_plot_flag:\n",
    "        plt.savefig('plots/feat_imp_classification_radio_detect_04.pdf', bbox_inches='tight')\n",
    "\n",
    "    print('-' * 20)\n",
    "    print('top features:')\n",
    "    print('Feature\\tImportance')\n",
    "    for feat, imp in zip(reversed(features), reversed(import_scal  * 100)):\n",
    "        print(f'{feat}\\t{round(imp, 3):>.3f}')\n",
    "\n",
    "except:\n",
    "    print('learning algorithm does not provide feature importance.')"
   ]
  },
  {
   "cell_type": "code",
   "execution_count": 105,
   "id": "c5e8cf1b",
   "metadata": {},
   "outputs": [],
   "source": [
    "radio_pred_threshold = 0.5\n",
    "# radio_pred_threshold = 0.49999523  # from MCC optimisation - From S82 data"
   ]
  },
  {
   "cell_type": "code",
   "execution_count": 106,
   "id": "fc28bfe5",
   "metadata": {
    "tags": []
   },
   "outputs": [
    {
     "data": {
      "text/html": [
       "<style type=\"text/css\">\n",
       "</style>\n",
       "<table id=\"T_e93ae\">\n",
       "  <thead>\n",
       "    <tr>\n",
       "      <th class=\"blank level0\" >&nbsp;</th>\n",
       "      <th id=\"T_e93ae_level0_col0\" class=\"col_heading level0 col0\" >Model</th>\n",
       "      <th id=\"T_e93ae_level0_col1\" class=\"col_heading level0 col1\" >Accuracy</th>\n",
       "      <th id=\"T_e93ae_level0_col2\" class=\"col_heading level0 col2\" >AUC</th>\n",
       "      <th id=\"T_e93ae_level0_col3\" class=\"col_heading level0 col3\" >Recall</th>\n",
       "      <th id=\"T_e93ae_level0_col4\" class=\"col_heading level0 col4\" >Prec.</th>\n",
       "      <th id=\"T_e93ae_level0_col5\" class=\"col_heading level0 col5\" >F1</th>\n",
       "      <th id=\"T_e93ae_level0_col6\" class=\"col_heading level0 col6\" >Kappa</th>\n",
       "      <th id=\"T_e93ae_level0_col7\" class=\"col_heading level0 col7\" >MCC</th>\n",
       "    </tr>\n",
       "  </thead>\n",
       "  <tbody>\n",
       "    <tr>\n",
       "      <th id=\"T_e93ae_level0_row0\" class=\"row_heading level0 row0\" >0</th>\n",
       "      <td id=\"T_e93ae_row0_col0\" class=\"data row0 col0\" >Stacking Classifier</td>\n",
       "      <td id=\"T_e93ae_row0_col1\" class=\"data row0 col1\" >0.7806</td>\n",
       "      <td id=\"T_e93ae_row0_col2\" class=\"data row0 col2\" >0.7938</td>\n",
       "      <td id=\"T_e93ae_row0_col3\" class=\"data row0 col3\" >0.3412</td>\n",
       "      <td id=\"T_e93ae_row0_col4\" class=\"data row0 col4\" >0.6888</td>\n",
       "      <td id=\"T_e93ae_row0_col5\" class=\"data row0 col5\" >0.4564</td>\n",
       "      <td id=\"T_e93ae_row0_col6\" class=\"data row0 col6\" >0.3380</td>\n",
       "      <td id=\"T_e93ae_row0_col7\" class=\"data row0 col7\" >0.3707</td>\n",
       "    </tr>\n",
       "  </tbody>\n",
       "</table>\n"
      ],
      "text/plain": [
       "<pandas.io.formats.style.Styler at 0x7fc2209de370>"
      ]
     },
     "metadata": {},
     "output_type": "display_data"
    }
   ],
   "source": [
    "validation_prediction_clf = pyc.predict_model(final_radio_clf, data=validation_df, probability_threshold=radio_pred_threshold, raw_score=True)"
   ]
  },
  {
   "cell_type": "markdown",
   "id": "36adeed0",
   "metadata": {},
   "source": [
    "Create confusion matrix with validation data."
   ]
  },
  {
   "cell_type": "code",
   "execution_count": 107,
   "id": "cc48682c",
   "metadata": {
    "tags": []
   },
   "outputs": [],
   "source": [
    "cm_mat_val = np.array([[np.sum(np.array(validation_prediction_clf['radio_detect'] == 0) & np.array(validation_prediction_clf['Label'] == 0)),\\\n",
    "                        np.sum(np.array(validation_prediction_clf['radio_detect'] == 0) & np.array(validation_prediction_clf['Label'] == 1))],\\\n",
    "                       [np.sum(np.array(validation_prediction_clf['radio_detect'] == 1) & np.array(validation_prediction_clf['Label'] == 0)),\\\n",
    "                        np.sum(np.array(validation_prediction_clf['radio_detect'] == 1) & np.array(validation_prediction_clf['Label'] == 1))]])"
   ]
  },
  {
   "cell_type": "code",
   "execution_count": 108,
   "id": "a5f7921c",
   "metadata": {
    "tags": []
   },
   "outputs": [
    {
     "data": {
      "image/png": "[encoded data removed]",
      "text/plain": [
       "<Figure size 600x500 with 1 Axes>"
      ]
     },
     "metadata": {},
     "output_type": "display_data"
    }
   ],
   "source": [
    "fig             = plt.figure(figsize=(6,5))\n",
    "ax1             = fig.add_subplot(111)\n",
    "\n",
    "plot_conf_mat(cm_mat_val, title='Validation set', axin=ax1, display_labels=['No\\nRadio', 'Radio'], log_stretch=True)\n",
    "plt.tight_layout()\n",
    "if save_plot_flag:\n",
    "    plt.savefig('plots/conf_matrix_validation_classification_radio_detect_04.pdf', bbox_inches='tight')\n",
    "plt.show()"
   ]
  },
  {
   "cell_type": "code",
   "execution_count": 109,
   "id": "d6d27fb5",
   "metadata": {
    "id": "36c0a111-8876-48fd-aa3c-7e900fdeaef6",
    "tags": []
   },
   "outputs": [],
   "source": [
    "# TN_radio, FP_radio, FN_radio, TP_radio = cm_mat_val.flatten().astype('float32')"
   ]
  },
  {
   "cell_type": "code",
   "execution_count": 110,
   "id": "85242e8a",
   "metadata": {
    "id": "dc1ed42b-d2cf-4c2f-9d30-c6adcf919310",
    "jupyter": {
     "source_hidden": true
    },
    "tags": []
   },
   "outputs": [],
   "source": [
    "MCC_radio_val    = MCC_from_CM(cm_mat_val)\n",
    "ACC_radio_val    = ACC_from_CM(cm_mat_val)\n",
    "F1_radio_val     = F1_from_CM(cm_mat_val)\n",
    "Recall_radio_val = Recall_from_CM(cm_mat_val)"
   ]
  },
  {
   "cell_type": "code",
   "execution_count": 111,
   "id": "9a14d18c",
   "metadata": {
    "id": "b1410aa3-a97f-410f-9d1b-c374b7143d2d",
    "jupyter": {
     "source_hidden": true
    },
    "outputId": "fc50cee5-60c6-40cd-f7d7-66252e9219ac",
    "tags": []
   },
   "outputs": [
    {
     "name": "stdout",
     "output_type": "stream",
     "text": [
      "Metrics for Validation set.\n",
      "Matthews Correlation Coefficient is MCC = 0.3707\n",
      "Accuracy is                         ACC = 0.7806\n",
      "F1-score is                          F1 = 0.4564\n",
      "Recall is                           TPR = 0.3412\n"
     ]
    }
   ],
   "source": [
    "print('Metrics for Validation set.')\n",
    "print(f'Matthews Correlation Coefficient is MCC = {MCC_radio_val:.4f}')\n",
    "print(f'Accuracy is                         ACC = {ACC_radio_val:.4f}')\n",
    "print(f'F1-score is                          F1 = {F1_radio_val:.4f}')\n",
    "print(f'Recall is                           TPR = {Recall_radio_val:.4f}')"
   ]
  },
  {
   "cell_type": "markdown",
   "id": "09192af4",
   "metadata": {},
   "source": [
    "---"
   ]
  },
  {
   "cell_type": "markdown",
   "id": "2685b0ac",
   "metadata": {},
   "source": [
    "### Separate AGN and galaxies for Confusion Matrices"
   ]
  },
  {
   "cell_type": "code",
   "execution_count": 112,
   "id": "c9cef1e1",
   "metadata": {
    "jupyter": {
     "source_hidden": true
    },
    "tags": []
   },
   "outputs": [],
   "source": [
    "# validation_prediction_clf_AGN = validation_prediction_clf.loc[validation_prediction_clf.loc[:, 'class'] == 1]\n",
    "# validation_prediction_clf_gal = validation_prediction_clf.loc[validation_prediction_clf.loc[:, 'class'] == 0]"
   ]
  },
  {
   "cell_type": "code",
   "execution_count": 113,
   "id": "f0002a69",
   "metadata": {
    "jupyter": {
     "source_hidden": true
    },
    "tags": []
   },
   "outputs": [],
   "source": [
    "# cm_mat_val_gal = np.array([[np.sum(np.array(validation_prediction_clf_gal['radio_detect'] == 0) & np.array(validation_prediction_clf_gal['Label'] == 0)),\\\n",
    "#           np.sum(np.array(validation_prediction_clf_gal['radio_detect'] == 0) & np.array(validation_prediction_clf_gal['Label'] == 1))],\\\n",
    "#         [np.sum(np.array(validation_prediction_clf_gal['radio_detect'] == 1) & np.array(validation_prediction_clf_gal['Label'] == 0)),\\\n",
    "#           np.sum(np.array(validation_prediction_clf_gal['radio_detect'] == 1) & np.array(validation_prediction_clf_gal['Label'] == 1))]])\n",
    "# \n",
    "# cm_mat_val_AGN = np.array([[np.sum(np.array(validation_prediction_clf_AGN['radio_detect'] == 0) & np.array(validation_prediction_clf_AGN['Label'] == 0)),\\\n",
    "#           np.sum(np.array(validation_prediction_clf_AGN['radio_detect'] == 0) & np.array(validation_prediction_clf_AGN['Label'] == 1))],\\\n",
    "#         [np.sum(np.array(validation_prediction_clf_AGN['radio_detect'] == 1) & np.array(validation_prediction_clf_AGN['Label'] == 0)),\\\n",
    "#           np.sum(np.array(validation_prediction_clf_AGN['radio_detect'] == 1) & np.array(validation_prediction_clf_AGN['Label'] == 1))]])"
   ]
  },
  {
   "cell_type": "code",
   "execution_count": 114,
   "id": "cf805080",
   "metadata": {
    "jupyter": {
     "source_hidden": true
    },
    "tags": []
   },
   "outputs": [],
   "source": [
    "# fig             = plt.figure(figsize=(6,5))\n",
    "# ax1             = fig.add_subplot(111)\n",
    "# \n",
    "# plot_conf_mat(cm_mat_val_gal, title='Galaxies', axin=ax1, display_labels=['No\\nRadio', 'Radio'], log_stretch=True)\n",
    "# plt.tight_layout()\n",
    "# if save_plot_flag:\n",
    "#     plt.savefig('plots/conf_matrix_validation_classification_radio_detect_gal_03.pdf', bbox_inches='tight')\n",
    "# plt.show()"
   ]
  },
  {
   "cell_type": "code",
   "execution_count": 115,
   "id": "f0869ddf",
   "metadata": {
    "jupyter": {
     "source_hidden": true
    },
    "tags": []
   },
   "outputs": [],
   "source": [
    "# fig             = plt.figure(figsize=(6,5))\n",
    "# ax1             = fig.add_subplot(111)\n",
    "#  \n",
    "# plot_conf_mat(cm_mat_val_AGN, title='AGN', axin=ax1, display_labels=['No\\nRadio', 'Radio'], log_stretch=True)\n",
    "# plt.tight_layout()\n",
    "# if save_plot_flag:\n",
    "#     plt.savefig('plots/conf_matrix_validation_classification_radio_detect_AGN_03.pdf', bbox_inches='tight')\n",
    "# plt.show()"
   ]
  },
  {
   "cell_type": "code",
   "execution_count": 116,
   "id": "1f269eb9",
   "metadata": {
    "id": "36c0a111-8876-48fd-aa3c-7e900fdeaef6",
    "jupyter": {
     "source_hidden": true
    },
    "tags": []
   },
   "outputs": [],
   "source": [
    "# TN_radio_gal, FP_radio_gal, FN_radio_gal, TP_radio_gal = cm_mat_val_gal.flatten().astype('float32')\n",
    "# TN_radio_AGN, FP_radio_AGN, FN_radio_AGN, TP_radio_AGN = cm_mat_val_AGN.flatten().astype('float32')"
   ]
  },
  {
   "cell_type": "code",
   "execution_count": 117,
   "id": "72a581d7",
   "metadata": {
    "id": "dc1ed42b-d2cf-4c2f-9d30-c6adcf919310",
    "jupyter": {
     "source_hidden": true
    },
    "tags": []
   },
   "outputs": [],
   "source": [
    "# MCC_radio_val_gal = ((TP_radio_gal * TN_radio_gal) - (FP_radio_gal * FN_radio_gal)) /\\\n",
    "#             np.sqrt((TP_radio_gal + FP_radio_gal) * (TP_radio_gal + FN_radio_gal) * (TN_radio_gal + FP_radio_gal) * (TN_radio_gal + FN_radio_gal))\n",
    "# \n",
    "# ACC_radio_val_gal = (TP_radio_gal + TN_radio_gal) / (TP_radio_gal + TN_radio_gal + FP_radio_gal + FN_radio_gal)\n",
    "# \n",
    "# F1_radio_val_gal  = 2 * TP_radio_gal / (2 * TP_radio_gal + FP_radio_gal + FN_radio_gal)\n",
    "# \n",
    "# Recall_radio_val_gal = TP_radio_gal / (TP_radio_gal + FN_radio_gal)"
   ]
  },
  {
   "cell_type": "code",
   "execution_count": 118,
   "id": "eca4ae9f",
   "metadata": {
    "jupyter": {
     "source_hidden": true
    },
    "tags": []
   },
   "outputs": [],
   "source": [
    "# MCC_radio_val_AGN = ((TP_radio_AGN * TN_radio_AGN) - (FP_radio_AGN * FN_radio_AGN)) /\\\n",
    "#             np.sqrt((TP_radio_AGN + FP_radio_AGN) * (TP_radio_AGN + FN_radio_AGN) * (TN_radio_AGN + FP_radio_AGN) * (TN_radio_AGN + FN_radio_AGN))\n",
    "# \n",
    "# ACC_radio_val_AGN = (TP_radio_AGN + TN_radio_AGN) / (TP_radio_AGN + TN_radio_AGN + FP_radio_AGN + FN_radio_AGN)\n",
    "# \n",
    "# F1_radio_val_AGN  = 2 * TP_radio_AGN / (2 * TP_radio_AGN + FP_radio_AGN + FN_radio_AGN)\n",
    "# \n",
    "# Recall_radio_val_AGN = TP_radio_AGN / (TP_radio_AGN + FN_radio_AGN)"
   ]
  },
  {
   "cell_type": "code",
   "execution_count": 119,
   "id": "fa3569cf",
   "metadata": {
    "id": "b1410aa3-a97f-410f-9d1b-c374b7143d2d",
    "jupyter": {
     "source_hidden": true
    },
    "outputId": "fc50cee5-60c6-40cd-f7d7-66252e9219ac",
    "tags": []
   },
   "outputs": [],
   "source": [
    "# print('Metrics for galaxies in validation set:')\n",
    "# print(f'Matthews Correlation Coefficient is MCC = {MCC_radio_val_gal:.4f}')\n",
    "# print(f'Accuracy is                         ACC = {ACC_radio_val_gal:.4f}')\n",
    "# print(f'F1-score is                          F1 = {F1_radio_val_gal:.4f}')\n",
    "# print(f'Recall is                           TPR = {Recall_radio_val_gal:.4f}')"
   ]
  },
  {
   "cell_type": "code",
   "execution_count": 120,
   "id": "6c3b7a31",
   "metadata": {
    "id": "b1410aa3-a97f-410f-9d1b-c374b7143d2d",
    "jupyter": {
     "source_hidden": true
    },
    "outputId": "fc50cee5-60c6-40cd-f7d7-66252e9219ac",
    "tags": []
   },
   "outputs": [],
   "source": [
    "# print('Metrics for AGN in validation set:')\n",
    "# print(f'Matthews Correlation Coefficient is MCC = {MCC_radio_val_AGN:.4f}')\n",
    "# print(f'Accuracy is                         ACC = {ACC_radio_val_AGN:.4f}')\n",
    "# print(f'F1-score is                          F1 = {F1_radio_val_AGN:.4f}')\n",
    "# print(f'Recall is                           TPR = {Recall_radio_val_AGN:.4f}')"
   ]
  },
  {
   "cell_type": "markdown",
   "id": "7098861f",
   "metadata": {},
   "source": [
    "---"
   ]
  },
  {
   "cell_type": "code",
   "execution_count": 121,
   "id": "1f8a15f6",
   "metadata": {
    "jupyter": {
     "source_hidden": true
    },
    "tags": []
   },
   "outputs": [],
   "source": [
    "train_size         = 0.7\n",
    "data_split_shuffle = True\n",
    "_stratify_columns = _get_columns_to_stratify_by(\n",
    "            train_test_df.drop(columns=['radio_detect']), train_test_df.loc[:, 'radio_detect'], False, 'radio_detect'\n",
    "        )\n",
    "\n",
    "X_train, X_test, y_train, y_test = train_test_split(\n",
    "                train_test_df.drop(columns=['radio_detect']),\n",
    "                train_test_df.loc[:, 'radio_detect'],\n",
    "                test_size=1 - train_size,\n",
    "                stratify=_stratify_columns,\n",
    "                random_state=seed,\n",
    "                shuffle=data_split_shuffle,\n",
    "            )\n",
    "train_data_df        = pd.concat([X_train, y_train], axis=1)\n",
    "test_data_df         = pd.concat([X_test, y_test], axis=1)"
   ]
  },
  {
   "cell_type": "code",
   "execution_count": 122,
   "id": "86efe420",
   "metadata": {
    "tags": []
   },
   "outputs": [
    {
     "data": {
      "text/html": [
       "<style type=\"text/css\">\n",
       "</style>\n",
       "<table id=\"T_5357d\">\n",
       "  <thead>\n",
       "    <tr>\n",
       "      <th class=\"blank level0\" >&nbsp;</th>\n",
       "      <th id=\"T_5357d_level0_col0\" class=\"col_heading level0 col0\" >Model</th>\n",
       "      <th id=\"T_5357d_level0_col1\" class=\"col_heading level0 col1\" >Accuracy</th>\n",
       "      <th id=\"T_5357d_level0_col2\" class=\"col_heading level0 col2\" >AUC</th>\n",
       "      <th id=\"T_5357d_level0_col3\" class=\"col_heading level0 col3\" >Recall</th>\n",
       "      <th id=\"T_5357d_level0_col4\" class=\"col_heading level0 col4\" >Prec.</th>\n",
       "      <th id=\"T_5357d_level0_col5\" class=\"col_heading level0 col5\" >F1</th>\n",
       "      <th id=\"T_5357d_level0_col6\" class=\"col_heading level0 col6\" >Kappa</th>\n",
       "      <th id=\"T_5357d_level0_col7\" class=\"col_heading level0 col7\" >MCC</th>\n",
       "    </tr>\n",
       "  </thead>\n",
       "  <tbody>\n",
       "    <tr>\n",
       "      <th id=\"T_5357d_level0_row0\" class=\"row_heading level0 row0\" >0</th>\n",
       "      <td id=\"T_5357d_row0_col0\" class=\"data row0 col0\" >Stacking Classifier</td>\n",
       "      <td id=\"T_5357d_row0_col1\" class=\"data row0 col1\" >0.8054</td>\n",
       "      <td id=\"T_5357d_row0_col2\" class=\"data row0 col2\" >0.8415</td>\n",
       "      <td id=\"T_5357d_row0_col3\" class=\"data row0 col3\" >0.3908</td>\n",
       "      <td id=\"T_5357d_row0_col4\" class=\"data row0 col4\" >0.7781</td>\n",
       "      <td id=\"T_5357d_row0_col5\" class=\"data row0 col5\" >0.5203</td>\n",
       "      <td id=\"T_5357d_row0_col6\" class=\"data row0 col6\" >0.4146</td>\n",
       "      <td id=\"T_5357d_row0_col7\" class=\"data row0 col7\" >0.4533</td>\n",
       "    </tr>\n",
       "  </tbody>\n",
       "</table>\n"
      ],
      "text/plain": [
       "<pandas.io.formats.style.Styler at 0x7fc1521838e0>"
      ]
     },
     "metadata": {},
     "output_type": "display_data"
    }
   ],
   "source": [
    "train_prediction_clf = pyc.predict_model(final_radio_clf, data=train_data_df, probability_threshold=radio_pred_threshold, raw_score=True)"
   ]
  },
  {
   "cell_type": "code",
   "execution_count": 123,
   "id": "cf03e74e",
   "metadata": {
    "tags": []
   },
   "outputs": [
    {
     "data": {
      "text/html": [
       "<style type=\"text/css\">\n",
       "</style>\n",
       "<table id=\"T_fd842\">\n",
       "  <thead>\n",
       "    <tr>\n",
       "      <th class=\"blank level0\" >&nbsp;</th>\n",
       "      <th id=\"T_fd842_level0_col0\" class=\"col_heading level0 col0\" >Model</th>\n",
       "      <th id=\"T_fd842_level0_col1\" class=\"col_heading level0 col1\" >Accuracy</th>\n",
       "      <th id=\"T_fd842_level0_col2\" class=\"col_heading level0 col2\" >AUC</th>\n",
       "      <th id=\"T_fd842_level0_col3\" class=\"col_heading level0 col3\" >Recall</th>\n",
       "      <th id=\"T_fd842_level0_col4\" class=\"col_heading level0 col4\" >Prec.</th>\n",
       "      <th id=\"T_fd842_level0_col5\" class=\"col_heading level0 col5\" >F1</th>\n",
       "      <th id=\"T_fd842_level0_col6\" class=\"col_heading level0 col6\" >Kappa</th>\n",
       "      <th id=\"T_fd842_level0_col7\" class=\"col_heading level0 col7\" >MCC</th>\n",
       "    </tr>\n",
       "  </thead>\n",
       "  <tbody>\n",
       "    <tr>\n",
       "      <th id=\"T_fd842_level0_row0\" class=\"row_heading level0 row0\" >0</th>\n",
       "      <td id=\"T_fd842_row0_col0\" class=\"data row0 col0\" >Stacking Classifier</td>\n",
       "      <td id=\"T_fd842_row0_col1\" class=\"data row0 col1\" >0.8027</td>\n",
       "      <td id=\"T_fd842_row0_col2\" class=\"data row0 col2\" >0.8395</td>\n",
       "      <td id=\"T_fd842_row0_col3\" class=\"data row0 col3\" >0.3870</td>\n",
       "      <td id=\"T_fd842_row0_col4\" class=\"data row0 col4\" >0.7647</td>\n",
       "      <td id=\"T_fd842_row0_col5\" class=\"data row0 col5\" >0.5139</td>\n",
       "      <td id=\"T_fd842_row0_col6\" class=\"data row0 col6\" >0.4064</td>\n",
       "      <td id=\"T_fd842_row0_col7\" class=\"data row0 col7\" >0.4435</td>\n",
       "    </tr>\n",
       "  </tbody>\n",
       "</table>\n"
      ],
      "text/plain": [
       "<pandas.io.formats.style.Styler at 0x7fc1693e2970>"
      ]
     },
     "metadata": {},
     "output_type": "display_data"
    }
   ],
   "source": [
    "test_prediction_clf = pyc.predict_model(final_radio_clf, data=test_data_df, probability_threshold=radio_pred_threshold, raw_score=True)"
   ]
  },
  {
   "cell_type": "code",
   "execution_count": 124,
   "id": "81f57a0e",
   "metadata": {
    "jupyter": {
     "source_hidden": true
    },
    "tags": []
   },
   "outputs": [],
   "source": [
    "cm_mat_train = np.array([[np.sum(np.array(train_prediction_clf['radio_detect'] == 0) & np.array(train_prediction_clf['Label'] == 0)),\\\n",
    "          np.sum(np.array(train_prediction_clf['radio_detect'] == 0) & np.array(train_prediction_clf['Label'] == 1))],\\\n",
    "        [np.sum(np.array(train_prediction_clf['radio_detect'] == 1) & np.array(train_prediction_clf['Label'] == 0)),\\\n",
    "          np.sum(np.array(train_prediction_clf['radio_detect'] == 1) & np.array(train_prediction_clf['Label'] == 1))]])"
   ]
  },
  {
   "cell_type": "code",
   "execution_count": 125,
   "id": "99ec050e",
   "metadata": {
    "jupyter": {
     "source_hidden": true
    },
    "tags": []
   },
   "outputs": [],
   "source": [
    "cm_mat_test = np.array([[np.sum(np.array(test_prediction_clf['radio_detect'] == 0) & np.array(test_prediction_clf['Label'] == 0)),\\\n",
    "          np.sum(np.array(test_prediction_clf['radio_detect'] == 0) & np.array(test_prediction_clf['Label'] == 1))],\\\n",
    "        [np.sum(np.array(test_prediction_clf['radio_detect'] == 1) & np.array(test_prediction_clf['Label'] == 0)),\\\n",
    "          np.sum(np.array(test_prediction_clf['radio_detect'] == 1) & np.array(test_prediction_clf['Label'] == 1))]])"
   ]
  },
  {
   "cell_type": "code",
   "execution_count": 126,
   "id": "3ff6e566",
   "metadata": {
    "tags": []
   },
   "outputs": [
    {
     "data": {
      "image/png": "[encoded data removed]",
      "text/plain": [
       "<Figure size 600x500 with 1 Axes>"
      ]
     },
     "metadata": {},
     "output_type": "display_data"
    }
   ],
   "source": [
    "fig             = plt.figure(figsize=(6,5))\n",
    "ax1             = fig.add_subplot(111)\n",
    "plot_conf_mat(cm_mat_train, title='Training set', axin=ax1, display_labels=['No\\nRadio', 'Radio'], log_stretch=True)\n",
    "plt.tight_layout()\n",
    "if save_plot_flag:\n",
    "    plt.savefig('plots/conf_matrix_train_classification_radio_detect_04.pdf', bbox_inches='tight')\n",
    "plt.show()"
   ]
  },
  {
   "cell_type": "code",
   "execution_count": 127,
   "id": "64c87a6e",
   "metadata": {
    "tags": []
   },
   "outputs": [
    {
     "data": {
      "image/png": "[encoded data removed]",
      "text/plain": [
       "<Figure size 600x500 with 1 Axes>"
      ]
     },
     "metadata": {},
     "output_type": "display_data"
    }
   ],
   "source": [
    "fig             = plt.figure(figsize=(6,5))\n",
    "ax1             = fig.add_subplot(111)\n",
    "plot_conf_mat(cm_mat_test, title='Test set', axin=ax1, display_labels=['No\\nRadio', 'Radio'], log_stretch=True)\n",
    "plt.tight_layout()\n",
    "if save_plot_flag:\n",
    "    plt.savefig('plots/conf_matrix_test_classification_radio_detect_04.pdf', bbox_inches='tight')\n",
    "plt.show()"
   ]
  },
  {
   "cell_type": "code",
   "execution_count": 128,
   "id": "12b390d8",
   "metadata": {
    "id": "36c0a111-8876-48fd-aa3c-7e900fdeaef6",
    "jupyter": {
     "source_hidden": true
    },
    "tags": []
   },
   "outputs": [],
   "source": [
    "# TN_radio_train, FP_radio_train, FN_radio_train, TP_radio_train = cm_mat_train.flatten().astype('float32')"
   ]
  },
  {
   "cell_type": "code",
   "execution_count": 129,
   "id": "fc2bdbd7",
   "metadata": {
    "id": "dc1ed42b-d2cf-4c2f-9d30-c6adcf919310",
    "jupyter": {
     "source_hidden": true
    },
    "tags": []
   },
   "outputs": [],
   "source": [
    "MCC_radio_train    = MCC_from_CM(cm_mat_train)\n",
    "ACC_radio_train    = ACC_from_CM(cm_mat_train)\n",
    "F1_radio_train     = F1_from_CM(cm_mat_train)\n",
    "Recall_radio_train = Recall_from_CM(cm_mat_train)"
   ]
  },
  {
   "cell_type": "code",
   "execution_count": 130,
   "id": "1c0cb5b3",
   "metadata": {
    "id": "b1410aa3-a97f-410f-9d1b-c374b7143d2d",
    "jupyter": {
     "source_hidden": true
    },
    "outputId": "fc50cee5-60c6-40cd-f7d7-66252e9219ac",
    "tags": []
   },
   "outputs": [
    {
     "name": "stdout",
     "output_type": "stream",
     "text": [
      "Metrics for Training set.\n",
      "Matthews Correlation Coefficient is MCC = 0.4533\n",
      "Accuracy is                         ACC = 0.8054\n",
      "F1-score is                          F1 = 0.5203\n",
      "Recall is                           TPR = 0.3908\n"
     ]
    }
   ],
   "source": [
    "print('Metrics for Training set.')\n",
    "print(f'Matthews Correlation Coefficient is MCC = {MCC_radio_train:.4f}')\n",
    "print(f'Accuracy is                         ACC = {ACC_radio_train:.4f}')\n",
    "print(f'F1-score is                          F1 = {F1_radio_train:.4f}')\n",
    "print(f'Recall is                           TPR = {Recall_radio_train:.4f}')"
   ]
  },
  {
   "cell_type": "code",
   "execution_count": 131,
   "id": "b67cb225",
   "metadata": {
    "id": "36c0a111-8876-48fd-aa3c-7e900fdeaef6",
    "jupyter": {
     "source_hidden": true
    },
    "tags": []
   },
   "outputs": [],
   "source": [
    "# TN_radio_test, FP_radio_test, FN_radio_test, TP_radio_test = cm_mat_test.flatten().astype('float32')"
   ]
  },
  {
   "cell_type": "code",
   "execution_count": 132,
   "id": "7aace9ef",
   "metadata": {
    "id": "dc1ed42b-d2cf-4c2f-9d30-c6adcf919310",
    "jupyter": {
     "source_hidden": true
    },
    "tags": []
   },
   "outputs": [],
   "source": [
    "MCC_radio_test    = MCC_from_CM(cm_mat_test)\n",
    "ACC_radio_test    = ACC_from_CM(cm_mat_test)\n",
    "F1_radio_test     = F1_from_CM(cm_mat_test)\n",
    "Recall_radio_test = Recall_from_CM(cm_mat_test)"
   ]
  },
  {
   "cell_type": "code",
   "execution_count": 133,
   "id": "898d8dc9",
   "metadata": {
    "id": "b1410aa3-a97f-410f-9d1b-c374b7143d2d",
    "jupyter": {
     "source_hidden": true
    },
    "outputId": "fc50cee5-60c6-40cd-f7d7-66252e9219ac",
    "tags": []
   },
   "outputs": [
    {
     "name": "stdout",
     "output_type": "stream",
     "text": [
      "Metrics for Test set.\n",
      "Matthews Correlation Coefficient is MCC = 0.4435\n",
      "Accuracy is                         ACC = 0.8027\n",
      "F1-score is                          F1 = 0.5139\n",
      "Recall is                           TPR = 0.3870\n"
     ]
    }
   ],
   "source": [
    "print('Metrics for Test set.')\n",
    "print(f'Matthews Correlation Coefficient is MCC = {MCC_radio_test:.4f}')\n",
    "print(f'Accuracy is                         ACC = {ACC_radio_test:.4f}')\n",
    "print(f'F1-score is                          F1 = {F1_radio_test:.4f}')\n",
    "print(f'Recall is                           TPR = {Recall_radio_test:.4f}')"
   ]
  },
  {
   "cell_type": "markdown",
   "id": "f14be693",
   "metadata": {},
   "source": [
    "Calculate ROC AUC values and plots."
   ]
  },
  {
   "cell_type": "code",
   "execution_count": 134,
   "id": "7234af04",
   "metadata": {
    "id": "b47f6aa7-8d75-4c19-908a-1e30080f6da5",
    "jupyter": {
     "source_hidden": true
    },
    "tags": []
   },
   "outputs": [],
   "source": [
    "roc_auc_train      = roc_auc_score(train_prediction_clf.loc[:, 'radio_detect'],      train_prediction_clf.loc[:, 'Score_1'])\n",
    "roc_auc_test       = roc_auc_score(test_prediction_clf.loc[:, 'radio_detect'],       test_prediction_clf.loc[:, 'Score_1'])\n",
    "roc_auc_validation = roc_auc_score(validation_prediction_clf.loc[:, 'radio_detect'], validation_prediction_clf.loc[:, 'Score_1'])"
   ]
  },
  {
   "cell_type": "code",
   "execution_count": 135,
   "id": "58e7d213",
   "metadata": {
    "jupyter": {
     "source_hidden": true
    },
    "tags": []
   },
   "outputs": [
    {
     "name": "stdout",
     "output_type": "stream",
     "text": [
      "Area under the curve (ROC) for training   = 0.84152\n",
      "Area under the curve (ROC) for test       = 0.83945\n",
      "Area under the curve (ROC) for validation = 0.79377\n"
     ]
    }
   ],
   "source": [
    "print(f'Area under the curve (ROC) for training   = {roc_auc_train:.5f}')\n",
    "print(f'Area under the curve (ROC) for test       = {roc_auc_test:.5f}')\n",
    "print(f'Area under the curve (ROC) for validation = {roc_auc_validation:.5f}')"
   ]
  },
  {
   "cell_type": "code",
   "execution_count": 136,
   "id": "4983e64a",
   "metadata": {
    "jupyter": {
     "source_hidden": true
    },
    "tags": []
   },
   "outputs": [],
   "source": [
    "fpr_train, tpr_train, thresh_train = roc_curve(train_prediction_clf.loc[:, 'radio_detect'],      train_prediction_clf.loc[:, 'Score_1'])\n",
    "fpr_test,  tpr_test,  thresh_test  = roc_curve(test_prediction_clf.loc[:, 'radio_detect'],       test_prediction_clf.loc[:, 'Score_1'])\n",
    "fpr_val,   tpr_val,   thresh_val   = roc_curve(validation_prediction_clf.loc[:, 'radio_detect'], validation_prediction_clf.loc[:, 'Score_1'])"
   ]
  },
  {
   "cell_type": "code",
   "execution_count": 137,
   "id": "96d2880c",
   "metadata": {
    "jupyter": {
     "source_hidden": true
    },
    "tags": []
   },
   "outputs": [
    {
     "data": {
      "image/png": "[encoded data removed]",
      "text/plain": [
       "<Figure size 700x600 with 1 Axes>"
      ]
     },
     "metadata": {},
     "output_type": "display_data"
    }
   ],
   "source": [
    "fig             = plt.figure(figsize=(7,6))\n",
    "ax1             = fig.add_subplot(111)\n",
    "\n",
    "viz_train = RocCurveDisplay(fpr=fpr_train, tpr=tpr_train, roc_auc=roc_auc_train)\n",
    "viz_test  = RocCurveDisplay(fpr=fpr_test,  tpr=tpr_test,  roc_auc=roc_auc_test)\n",
    "viz_val   = RocCurveDisplay(fpr=fpr_val,   tpr=tpr_val,   roc_auc=roc_auc_validation)\n",
    "viz_train.plot(ax=ax1, lw=3, c=cm.get_cmap('cet_dimgray')(0.0), label=f\"Training.   (AUC = {roc_auc_train:0.5f})\")\n",
    "viz_test.plot(ax=ax1,  lw=3, c=cm.get_cmap('cet_dimgray')(0.4), label=f\"Test.       (AUC = {roc_auc_test:0.5f})\")\n",
    "viz_val.plot(ax=ax1,   lw=3, c=cm.get_cmap('cet_dimgray')(0.8), label=f\"Validation. (AUC = {roc_auc_validation:0.5f})\")\n",
    "\n",
    "ax1.plot([0, 1], [0, 1], ls='--', marker=None, c='Gray', alpha=0.7, lw=3.0, label='Random guess (AUC = 0.50)')\n",
    "\n",
    "ax1.set_xlabel('False Positive Rate', fontsize=20)\n",
    "ax1.set_ylabel('True Positive Rate', fontsize=20)\n",
    "ax1.tick_params(which='both', top=True, right=True, direction='in')\n",
    "ax1.tick_params(axis='both', which='major', labelsize=14)\n",
    "ax1.tick_params(which='major', length=8, width=1.5)\n",
    "ax1.tick_params(which='minor', length=4, width=1.5)\n",
    "plt.setp(ax1.spines.values(), linewidth=2.5)\n",
    "plt.setp(ax1.spines.values(), linewidth=2.5)\n",
    "# ax1.set_aspect('equal', 'box')\n",
    "plt.legend(loc=4, fontsize=16, title='Radio detection\\nclassification', title_fontsize=16)\n",
    "ax1.set_aspect('equal', 'datalim')\n",
    "ax1.set_title('ROC curve. HETDEX field.', fontsize=16)\n",
    "fig.tight_layout()\n",
    "if save_plot_flag:\n",
    "    plt.savefig('plots/AUC_ROC_classification_radio_detect_04.pdf', bbox_inches='tight')\n",
    "plt.show()"
   ]
  },
  {
   "cell_type": "code",
   "execution_count": null,
   "id": "2b7af7ce",
   "metadata": {},
   "outputs": [],
   "source": []
  }
 ],
 "metadata": {
  "accelerator": "GPU",
  "colab": {
   "name": "HETDEX_pipeline_AGN_training.ipynb",
   "provenance": []
  },
  "kernelspec": {
   "display_name": "Python 3 (ipykernel)",
   "language": "python",
   "name": "python3"
  },
  "language_info": {
   "codemirror_mode": {
    "name": "ipython",
    "version": 3
   },
   "file_extension": ".py",
   "mimetype": "text/x-python",
   "name": "python",
   "nbconvert_exporter": "python",
   "pygments_lexer": "ipython3",
   "version": "3.8.13"
  }
 },
 "nbformat": 4,
 "nbformat_minor": 5
}
