{
 "cells": [
  {
   "cell_type": "markdown",
   "metadata": {},
   "source": [
    "# Pipeline for High-z Radio Galaxies 25: Create lists (files) with radio AGN candidates"
   ]
  },
  {
   "cell_type": "markdown",
   "metadata": {},
   "source": [
    "## Introduction"
   ]
  },
  {
   "cell_type": "markdown",
   "metadata": {},
   "source": [
    "In this file, three models will be applied consecutively in order to predict  \n",
    "the detection of Radio Galaxies (radio AGN) and their redshift.  \n",
    "\n",
    "In principle, this pipeline should be applied to data in Stripe 82. But  \n",
    "it can be used with any other suitable dataset."
   ]
  },
  {
   "cell_type": "code",
   "execution_count": 1,
   "metadata": {},
   "outputs": [],
   "source": [
    "%matplotlib inline\n",
    "# Static plots\n",
    "#%matplotlib ipympl\n",
    "# Interactive plots\n",
    "import numpy as np\n",
    "import matplotlib as mpl\n",
    "import matplotlib.cm as cm\n",
    "from matplotlib import ticker\n",
    "import matplotlib.pyplot as plt\n",
    "import matplotlib.colors as mcolors\n",
    "import matplotlib.patheffects as mpe\n",
    "import matplotlib.patches as mpatches\n",
    "from matplotlib.ticker import ScalarFormatter\n",
    "from mpl_toolkits.axes_grid1.inset_locator import inset_axes\n",
    "from astropy.visualization import LogStretch, PowerStretch\n",
    "from astropy.visualization.mpl_normalize import ImageNormalize\n",
    "from sklearn.preprocessing import MinMaxScaler\n",
    "from sklearn.metrics import ConfusionMatrixDisplay\n",
    "import sklearn.pipeline\n",
    "import colorcet as cc\n",
    "from pycaret import classification as pyc\n",
    "from pycaret import regression as pyr\n",
    "from pycaret.internal.tabular import _get_columns_to_stratify_by\n",
    "import pandas as pd\n",
    "import mpl_scatter_density\n",
    "# import schemdraw\n",
    "# from schemdraw import flow"
   ]
  },
  {
   "cell_type": "code",
   "execution_count": 2,
   "metadata": {},
   "outputs": [],
   "source": [
    "mpl.rcdefaults()"
   ]
  },
  {
   "cell_type": "markdown",
   "metadata": {},
   "source": [
    "Create path effects."
   ]
  },
  {
   "cell_type": "code",
   "execution_count": 3,
   "metadata": {
    "jupyter": {
     "source_hidden": true
    },
    "tags": []
   },
   "outputs": [],
   "source": [
    "pe1            = [mpe.Stroke(linewidth=5.0, foreground='black'),\n",
    "                  mpe.Stroke(foreground='white', alpha=1),\n",
    "                  mpe.Normal()]\n",
    "pe2            = [mpe.Stroke(linewidth=3.0, foreground='white'),\n",
    "                  mpe.Stroke(foreground='white', alpha=1),\n",
    "                  mpe.Normal()]"
   ]
  },
  {
   "cell_type": "markdown",
   "metadata": {},
   "source": [
    "Define specific metrics for redshift values."
   ]
  },
  {
   "cell_type": "code",
   "execution_count": 4,
   "metadata": {
    "jupyter": {
     "source_hidden": true
    },
    "tags": []
   },
   "outputs": [],
   "source": [
    "def sigma_mad(z_true, z_pred, **kwargs):\n",
    "    med = np.nanmedian(np.abs(z_true - z_pred)).astype('float32')\n",
    "    return 1.48 * med"
   ]
  },
  {
   "cell_type": "code",
   "execution_count": 5,
   "metadata": {
    "jupyter": {
     "source_hidden": true
    },
    "tags": []
   },
   "outputs": [],
   "source": [
    "def sigma_nmad(z_true, z_pred, **kwargs):\n",
    "    dif  = (z_true - z_pred)\n",
    "    frac = dif / (1 + z_true).values\n",
    "    med  = np.nanmedian(np.abs(frac)).astype('float32')\n",
    "    return 1.48 * med"
   ]
  },
  {
   "cell_type": "code",
   "execution_count": 6,
   "metadata": {
    "jupyter": {
     "source_hidden": true
    },
    "tags": []
   },
   "outputs": [],
   "source": [
    "def sigma_z(z_true, z_pred, **kwargs):\n",
    "    dif = z_true - z_pred\n",
    "    ssq = np.sum(dif**2)\n",
    "    rot = np.sqrt(ssq / len(z_true)).astype('float32')\n",
    "    return rot"
   ]
  },
  {
   "cell_type": "code",
   "execution_count": 7,
   "metadata": {
    "jupyter": {
     "source_hidden": true
    },
    "tags": []
   },
   "outputs": [],
   "source": [
    "def sigma_z_norm(z_true, z_pred, **kwargs):\n",
    "    dif = (z_true - z_pred) / (1 + z_true)\n",
    "    ssq = np.sum(dif**2)\n",
    "    rot = np.sqrt(ssq / len(z_true)).astype('float32')\n",
    "    return rot"
   ]
  },
  {
   "cell_type": "code",
   "execution_count": 8,
   "metadata": {
    "jupyter": {
     "source_hidden": true
    },
    "tags": []
   },
   "outputs": [],
   "source": [
    "def outlier_frac(z_true, z_pred, **kwargs):\n",
    "    dif  = np.abs((z_true - z_pred) / (1 + z_true))\n",
    "    siz  = np.sum(np.isfinite(dif)).astype('float32')\n",
    "    num  = np.sum(np.array(dif > 0.15)).astype('float32')\n",
    "    frac = num / siz\n",
    "    return frac"
   ]
  },
  {
   "cell_type": "markdown",
   "metadata": {},
   "source": [
    "Methods for Pycaret and saved models."
   ]
  },
  {
   "cell_type": "code",
   "execution_count": 9,
   "metadata": {
    "jupyter": {
     "source_hidden": true
    },
    "tags": []
   },
   "outputs": [],
   "source": [
    "def get_final_column_names(pycaret_pipeline, sample_df):\n",
    "    if isinstance(pycaret_pipeline, sklearn.pipeline.Pipeline):\n",
    "        for (name, method) in pycaret_pipeline.named_steps.items():\n",
    "            if method != 'passthrough' and name != 'trained_model':\n",
    "                print(f'Running {name}')\n",
    "                sample_df = method.transform(sample_df)\n",
    "        return sample_df.columns.tolist()\n",
    "    else:\n",
    "        try:\n",
    "            for (name, method) in pyr.get_config('prep_pipe').named_steps.items():\n",
    "                if method != 'passthrough' and name != 'trained_model':\n",
    "                    print(f'Running {name}')\n",
    "                    sample_df = method.transform(sample_df)\n",
    "        except:\n",
    "            for (name, method) in pyc.get_config('prep_pipe').named_steps.items():\n",
    "                if method != 'passthrough' and name != 'trained_model':\n",
    "                    print(f'Running {name}')\n",
    "                    sample_df = method.transform(sample_df)\n",
    "        return sample_df.columns.tolist()"
   ]
  },
  {
   "cell_type": "code",
   "execution_count": 10,
   "metadata": {
    "jupyter": {
     "source_hidden": true
    },
    "tags": []
   },
   "outputs": [],
   "source": [
    "def get_feature_importances_df(pycaret_pipeline, sample_df, n = 10):\n",
    "    \n",
    "    final_cols = get_final_column_names(pycaret_pipeline, sample_df)\n",
    "    \n",
    "    if isinstance(pycaret_pipeline, sklearn.pipeline.Pipeline):\n",
    "        try:\n",
    "            variables = pycaret_pipeline[\"trained_model\"].feature_importances_\n",
    "            \n",
    "        except:\n",
    "            variables = np.mean([\n",
    "                            tree.feature_importances_ for tree in pycaret_pipeline[\"trained_model\"].estimators_\n",
    "                if hasattr(tree, 'feature_importances_')\n",
    "                            ], axis=0)\n",
    "        \n",
    "        coef_df = pd.DataFrame({'Feature': final_cols, 'Importance': variables})\n",
    "        sorted_df = (\n",
    "            coef_df.sort_values(by='Importance', ascending=False)\n",
    "            .head(n)\n",
    "            .sort_values(by='Importance', ascending=True).reset_index(drop=True)\n",
    "        )\n",
    "    else:\n",
    "        try:\n",
    "            variables = pycaret_pipeline.feature_importances_\n",
    "            \n",
    "        except:\n",
    "            variables = np.mean([\n",
    "                            tree.feature_importances_ for tree in pycaret_pipeline.estimators_\n",
    "                if hasattr(tree, 'feature_importances_')\n",
    "                            ], axis=0)\n",
    "        \n",
    "        coef_df = pd.DataFrame({'Feature': final_cols, 'Importance': variables})\n",
    "        sorted_df = (\n",
    "            coef_df.sort_values(by='Importance', ascending=False)\n",
    "            .head(n)\n",
    "            .sort_values(by='Importance', ascending=True).reset_index(drop=True)\n",
    "        )\n",
    "    return sorted_df"
   ]
  },
  {
   "cell_type": "markdown",
   "metadata": {},
   "source": [
    "Methods for the use of values in Confusion Matrices."
   ]
  },
  {
   "cell_type": "code",
   "execution_count": 11,
   "metadata": {
    "jupyter": {
     "source_hidden": true
    },
    "tags": []
   },
   "outputs": [],
   "source": [
    "def MCC_from_CM(cm_array):  # Matthews correlation coefficient\n",
    "    TN, FP, FN, TP = cm_array.flatten().astype('float32')\n",
    "    MCC = ((TP * TN) - (FP * FN)) / np.sqrt((TP + FP) * (TP + FN) * (TN + FP) * (TN + FN))\n",
    "    return MCC"
   ]
  },
  {
   "cell_type": "code",
   "execution_count": 12,
   "metadata": {
    "jupyter": {
     "source_hidden": true
    },
    "tags": []
   },
   "outputs": [],
   "source": [
    "def ACC_from_CM(cm_array):  # Accuracy\n",
    "    TN, FP, FN, TP = cm_array.flatten().astype('float32')\n",
    "    ACC = (TP + TN) / (TP + TN + FP + FN)\n",
    "    return ACC"
   ]
  },
  {
   "cell_type": "code",
   "execution_count": 13,
   "metadata": {
    "jupyter": {
     "source_hidden": true
    },
    "tags": []
   },
   "outputs": [],
   "source": [
    "def F1_from_CM(cm_array):  # F-1 score\n",
    "    TN, FP, FN, TP = cm_array.flatten().astype('float32')\n",
    "    F1 = 2 * TP / (2 * TP + FP + FN)\n",
    "    return F1"
   ]
  },
  {
   "cell_type": "code",
   "execution_count": 14,
   "metadata": {
    "jupyter": {
     "source_hidden": true
    },
    "tags": []
   },
   "outputs": [],
   "source": [
    "def Recall_from_CM(cm_array):  # Recall\n",
    "    TN, FP, FN, TP = cm_array.flatten().astype('float32')\n",
    "    Recall = TP / (TP + FN)\n",
    "    return Recall"
   ]
  },
  {
   "cell_type": "markdown",
   "metadata": {},
   "source": [
    "Method to plot confusion matrix"
   ]
  },
  {
   "cell_type": "code",
   "execution_count": 15,
   "metadata": {
    "jupyter": {
     "source_hidden": true
    },
    "tags": []
   },
   "outputs": [],
   "source": [
    "def plot_conf_mat(confusion_matrix, title, axin, display_labels=['Non true', 'True'], cmap='cet_dimgray_r', show_clb=False, log_stretch=False):\n",
    "    disp = ConfusionMatrixDisplay(confusion_matrix=confusion_matrix, display_labels=display_labels)\n",
    "\n",
    "    min_val_colour = np.nanmin(confusion_matrix)\n",
    "    max_val_colour = np.nanmin(confusion_matrix)\n",
    "    \n",
    "    if log_stretch:\n",
    "        norm = ImageNormalize(stretch=LogStretch())\n",
    "    if not log_stretch:\n",
    "        norm = ImageNormalize()\n",
    "\n",
    "    # NOTE: Fill all variables here with default values of the plot_confusion_matrix\n",
    "    disp_b = disp.plot(include_values=True, cmap=cm.get_cmap(cmap),\\\n",
    "             ax=axin, xticks_rotation='horizontal', values_format=',')\n",
    "\n",
    "    for text_val in disp_b.text_.flatten():\n",
    "        text_val.set_fontsize(28)\n",
    "    clb = plt.gca().images[-1].colorbar\n",
    "    clb.ax.tick_params(labelsize=14)\n",
    "    clb.ax.ticklabel_format(style='sci', scilimits=(0, 0))\n",
    "    clb.outline.set_linewidth(2.5)\n",
    "    clb.ax.set_ylabel('Elements in bin', size=14)\n",
    "    if not show_clb:\n",
    "        clb.remove()\n",
    "\n",
    "    # disp_b.im_.set_clim(1e2, 3e3)\n",
    "    disp_b.im_.norm = norm\n",
    "\n",
    "    axin.xaxis.get_label().set_fontsize(16)\n",
    "    axin.yaxis.get_label().set_fontsize(16)\n",
    "\n",
    "    axin.tick_params(axis='both', which='major', labelsize=14)\n",
    "\n",
    "    plt.setp(axin.spines.values(), linewidth=2.5)\n",
    "    plt.setp(axin.spines.values(), linewidth=2.5)\n",
    "    axin.set_title(title)\n",
    "    plt.tight_layout()"
   ]
  },
  {
   "cell_type": "markdown",
   "metadata": {},
   "source": [
    "Method to plot predicted and true redshift values"
   ]
  },
  {
   "cell_type": "code",
   "execution_count": 16,
   "metadata": {
    "jupyter": {
     "source_hidden": true
    },
    "tags": []
   },
   "outputs": [],
   "source": [
    "def plot_redshift_compare(true_z, predicted_z, ax_pre, title=None, dpi=10, cmap='cet_linear_kryw_5_100_c64_r', show_clb=False, log_stretch=False):\n",
    "    if log_stretch:\n",
    "        norm = ImageNormalize(vmin=0., stretch=LogStretch())\n",
    "    if not log_stretch:\n",
    "        norm = ImageNormalize(vmin=0., stretch=PowerStretch(0.5))\n",
    "\n",
    "    filt_pair_z   = np.isfinite(true_z) & np.isfinite(predicted_z)\n",
    "    max_for_range = np.nanmax([np.nanmax(1 + true_z.loc[filt_pair_z]), np.nanmax(1 + predicted_z.loc[filt_pair_z])])\n",
    "\n",
    "    dens_1 = ax_pre.scatter_density((1 + true_z.sample(frac=1, random_state=seed)),\\\n",
    "            (1 + predicted_z.sample(frac=1, random_state=seed)),\\\n",
    "            cmap=plt.get_cmap(cmap), zorder=0, dpi=dpi, norm=norm, alpha=0.93)\n",
    "    \n",
    "    ax_pre.axline((2., 2.), (3., 3.), ls='--', marker=None, c='Gray', alpha=0.8, lw=3.0, zorder=20)\n",
    "    ax_pre.axline(xy1=(1., 1.15), xy2=(2., 2.3), ls='-.', marker=None, c='slateblue', alpha=0.6, lw=3.0, zorder=20)\n",
    "    ax_pre.axline(xy1=(1., 0.85), xy2=(2., 1.7), ls='-.', marker=None, c='slateblue', alpha=0.6, lw=3.0, zorder=20)\n",
    "\n",
    "    if show_clb:\n",
    "        clb = plt.colorbar(dens_1, extend='neither', norm=norm, ticks=ticker.MaxNLocator(integer=True))\n",
    "        clb.ax.tick_params(labelsize=14)\n",
    "        clb.outline.set_linewidth(2.5)\n",
    "        clb.ax.set_ylabel('Elements per pixel', size=16, path_effects=pe2)\n",
    "\n",
    "    # Inset axis with residuals\n",
    "    axins = inset_axes(ax_pre, width='35%', height='20%', loc=2)\n",
    "    res_z_z = (predicted_z - true_z) / (1 + true_z)\n",
    "    axins.hist(res_z_z, histtype='stepfilled', fc='grey', ec='k', bins=50, lw=2.5)\n",
    "    axins.axvline(x=np.nanpercentile(res_z_z, [15.9]), ls='--', lw=2.5, c='royalblue')\n",
    "    axins.axvline(x=np.nanpercentile(res_z_z, [84.1]), ls='--', lw=2.5, c='royalblue')\n",
    "    axins.set_xlabel('$\\Delta z / (1 + z_{\\mathrm{True}})$', fontsize=10)\n",
    "    axins.tick_params(labelleft=False, labelbottom=True)\n",
    "    axins.tick_params(which='both', top=True, right=True, direction='in')\n",
    "    axins.tick_params(axis='both', which='major', labelsize=10)\n",
    "    axins.tick_params(which='major', length=8, width=1.5)\n",
    "    axins.tick_params(which='minor', length=4, width=1.5)\n",
    "    plt.setp(axins.spines.values(), linewidth=2.5)\n",
    "    plt.setp(axins.spines.values(), linewidth=2.5)\n",
    "    axins.set_xlim(left=-0.9, right=0.9)\n",
    "    ##\n",
    "    ax_pre.set_xlabel('$1 + z_{\\mathrm{True}}$', fontsize=20)\n",
    "    ax_pre.set_ylabel('$1 + z_{\\mathrm{Predicted}}$', fontsize=20)\n",
    "    ax_pre.tick_params(which='both', top=True, right=True, direction='in')\n",
    "    ax_pre.tick_params(axis='both', which='minor', labelsize=14)\n",
    "    ax_pre.tick_params(which='major', length=8, width=1.5)\n",
    "    ax_pre.tick_params(which='minor', length=4, width=1.5)\n",
    "    # ax_pre.xaxis.set_major_locator(ticker.MaxNLocator(integer=True))\n",
    "    # ax_pre.yaxis.set_major_locator(ticker.MaxNLocator(integer=True))\n",
    "    ax_pre.xaxis.set_minor_formatter(ticker.ScalarFormatter(useMathText=False))\n",
    "    ax_pre.yaxis.set_minor_formatter(ticker.ScalarFormatter(useMathText=False))\n",
    "    plt.setp(ax_pre.spines.values(), linewidth=2.5)\n",
    "    plt.setp(ax_pre.spines.values(), linewidth=2.5)\n",
    "    ax_pre.set_xlim(left=1., right=np.ceil(max_for_range))\n",
    "    ax_pre.set_ylim(bottom=1., top=np.ceil(max_for_range))\n",
    "    ax_pre.set_title(title)\n",
    "    plt.tight_layout()"
   ]
  },
  {
   "cell_type": "markdown",
   "metadata": {},
   "source": [
    "---"
   ]
  },
  {
   "cell_type": "markdown",
   "metadata": {},
   "source": [
    "## Reading data"
   ]
  },
  {
   "cell_type": "code",
   "execution_count": 17,
   "metadata": {},
   "outputs": [],
   "source": [
    "cat_path            = '../../Catalogs/'  # relative path to the same directory"
   ]
  },
  {
   "cell_type": "markdown",
   "metadata": {
    "tags": []
   },
   "source": [
    "Flags."
   ]
  },
  {
   "cell_type": "code",
   "execution_count": 18,
   "metadata": {},
   "outputs": [],
   "source": [
    "save_plot_flag      = False\n",
    "save_preds_flag     = True\n",
    "load_models_flag    = True\n",
    "use_second_z_model  = True  # z >= 2.0\n",
    "use_third_z_model   = True  # z >= 3.0\n",
    "use_fourth_z_model  = True  # z >= 3.7 (with SMOGN), or, if needed, z >= 4.0\n",
    "compare_A17_flag    = True  # Compare with the results from Ananna et al., 2017"
   ]
  },
  {
   "cell_type": "code",
   "execution_count": 19,
   "metadata": {},
   "outputs": [],
   "source": [
    "used_area           = 'S82'  # can be 'S82', 'HETDEX', 'COSMOS'"
   ]
  },
  {
   "cell_type": "code",
   "execution_count": 20,
   "metadata": {
    "jupyter": {
     "source_hidden": true
    }
   },
   "outputs": [],
   "source": [
    "if used_area != 'S82':\n",
    "    compare_A17_flag = False"
   ]
  },
  {
   "cell_type": "code",
   "execution_count": 21,
   "metadata": {
    "jupyter": {
     "source_hidden": true
    },
    "tags": []
   },
   "outputs": [],
   "source": [
    "file_S82            = 'CatWISE2020_S82_VLASS_VLAS82_PS1_GALEX_TGSS_XMM_2MASS_MILLIQUAS_7_4d_ALLWISE_SDSS_DR16_5sigma_imp.h5'\n",
    "file_HETDEX         = 'CatWISE2020_VLASS_LOFAR_PS1_GALEX_TGSS_XMM_2MASS_MILLIQUAS_7_4d_ALLWISE_LOLSS_SDSS_DR16_5sigma_imp.h5'\n",
    "file_COSMOS         = 'CatWISE2020_COSMOS_MILLIQUAS_7_4d_COSMOSVLA3_PS1_GALEX_TGSS_VLASS_XMM_2MASS_ALLWISE_SDSS_DR16_5sigma_imp.h5'\n",
    "file_S82_Ananna_17  = f'CatWISE2020_S82_VLASS_VLAS82_PS1_GALEX_TGSS_XMM_2MASS_MILLIQUAS_7_4d_ALLWISE_Ananna_17_zsp_5sigma_imp.h5'  # 204 objects\n",
    "\n",
    "file_name_dict      = {'S82': file_S82, 'HETDEX': file_HETDEX, 'COSMOS': file_COSMOS}\n",
    "file_name           = file_name_dict[used_area]"
   ]
  },
  {
   "cell_type": "code",
   "execution_count": 22,
   "metadata": {
    "tags": []
   },
   "outputs": [],
   "source": [
    "# feats_2_disc_S82    = ['objID', 'RA_MILLI', 'DEC_MILLI', 'X_ray_detect', 'Total_flux_VLASS',\\\n",
    "#                      'Fint_VLAS82', 'Stotal_TGSS', 'FEP', 'W1mag', 'W2mag']\n",
    "# feats_2_disc_HETDEX = ['objID', 'RA_MILLI', 'DEC_MILLI', 'X_ray_detect', 'Total_flux_VLASS',\\\n",
    "#                      'Sint_LOFAR', 'Stotal_TGSS', 'FEP', 'TotalFlux_LoLSS', 'W1mag', 'W2mag']\n",
    "# feats_2_disc_COSMOS = ['objID', 'RA_MILLI', 'DEC_MILLI', 'X_ray_detect', 'Total_flux_VLASS',\\\n",
    "#                      'Stotal_TGSS', 'FEP', 'Flux_COSMOSVLA3', 'W1mag', 'W2mag']\n",
    "\n",
    "feats_2_disc_S82    = ['objID', 'RA_MILLI', 'DEC_MILLI', 'X_ray_detect', 'W1mag', 'W2mag']\n",
    "feats_2_disc_HETDEX = ['objID', 'RA_MILLI', 'DEC_MILLI', 'X_ray_detect', 'W1mag', 'W2mag']\n",
    "feats_2_disc_COSMOS = ['objID', 'RA_MILLI', 'DEC_MILLI', 'X_ray_detect', 'W1mag', 'W2mag']\n",
    "\n",
    "feats_2_disc        = {'S82': feats_2_disc_S82, 'HETDEX': feats_2_disc_HETDEX, 'COSMOS': feats_2_disc_COSMOS}\n",
    "features_2_discard  = feats_2_disc[used_area]"
   ]
  },
  {
   "cell_type": "code",
   "execution_count": 23,
   "metadata": {
    "jupyter": {
     "source_hidden": true
    }
   },
   "outputs": [],
   "source": [
    "full_catalog_df     = pd.read_hdf(cat_path + file_name, key='df').drop(columns=features_2_discard)"
   ]
  },
  {
   "cell_type": "code",
   "execution_count": 24,
   "metadata": {
    "jupyter": {
     "source_hidden": true
    }
   },
   "outputs": [],
   "source": [
    "full_catalog_df.loc[:, 'radio_detect'] = full_catalog_df.loc[:, 'radio_detect'].astype(int)"
   ]
  },
  {
   "cell_type": "markdown",
   "metadata": {},
   "source": [
    "Create features with class and combined redshift."
   ]
  },
  {
   "cell_type": "code",
   "execution_count": 25,
   "metadata": {
    "jupyter": {
     "source_hidden": true
    }
   },
   "outputs": [],
   "source": [
    "full_catalog_df['class']            = full_catalog_df.loc[:, 'is_AGN'].copy()\n",
    "filter_non_confirmed                = np.array(full_catalog_df.loc[:, 'is_AGN'] == 1) | np.array(full_catalog_df.loc[:, 'is_gal'] == 1)\n",
    "full_catalog_df.loc[~filter_non_confirmed, 'class'] = 0.5\n",
    "idx_non_Z                           = full_catalog_df.loc[:, 'Z'].where(full_catalog_df.loc[:, 'Z'] > 0).isna()\n",
    "full_catalog_df.loc[idx_non_Z, 'Z'] = full_catalog_df.loc[:, 'Z'].mask(idx_non_Z, full_catalog_df.loc[idx_non_Z, 'zsp'])"
   ]
  },
  {
   "cell_type": "markdown",
   "metadata": {},
   "source": [
    "Create column for detection as Radio AGN"
   ]
  },
  {
   "cell_type": "code",
   "execution_count": 26,
   "metadata": {
    "jupyter": {
     "source_hidden": true
    }
   },
   "outputs": [],
   "source": [
    "full_catalog_df['radio_AGN']      = np.array(full_catalog_df.loc[:, 'is_AGN'] == 1) & np.array(full_catalog_df.loc[:, 'radio_detect'] == 1)"
   ]
  },
  {
   "cell_type": "markdown",
   "metadata": {},
   "source": [
    "Discard minor features."
   ]
  },
  {
   "cell_type": "code",
   "execution_count": 27,
   "metadata": {},
   "outputs": [],
   "source": [
    "full_catalog_df                     = full_catalog_df.drop(columns=['is_AGN', 'is_SDSS_gal', 'is_gal', 'zsp'])"
   ]
  },
  {
   "cell_type": "markdown",
   "metadata": {},
   "source": [
    "##### Random seed"
   ]
  },
  {
   "cell_type": "code",
   "execution_count": 28,
   "metadata": {},
   "outputs": [],
   "source": [
    "seed                                = 42"
   ]
  },
  {
   "cell_type": "markdown",
   "metadata": {},
   "source": [
    "---"
   ]
  },
  {
   "cell_type": "markdown",
   "metadata": {},
   "source": [
    "### Load models"
   ]
  },
  {
   "cell_type": "code",
   "execution_count": 29,
   "metadata": {},
   "outputs": [
    {
     "name": "stdout",
     "output_type": "stream",
     "text": [
      "Transformation Pipeline and Model Successfully Loaded\n",
      "Transformation Pipeline and Model Successfully Loaded\n",
      "Transformation Pipeline and Model Successfully Loaded\n",
      "Transformation Pipeline and Model Successfully Loaded\n",
      "Transformation Pipeline and Model Successfully Loaded\n",
      "Transformation Pipeline and Model Successfully Loaded\n"
     ]
    }
   ],
   "source": [
    "if load_models_flag:\n",
    "    AGN_gal_clf     = pyc.load_model('models/classification_AGN_galaxy_may_15_2022')\n",
    "    radio_det_clf   = pyc.load_model('models/classification_radio_detect_may_16_2022')\n",
    "    redshift_reg    = pyr.load_model('models/regression_z_may_17_2022')  # to use on full sample\n",
    "    if use_second_z_model:\n",
    "        redshift_reg_2  = pyr.load_model('models/regression_z_may_18_2022')  # to use on sources with predicted z >= 2\n",
    "    if use_third_z_model:\n",
    "        redshift_reg_3  = pyr.load_model('models/regression_z_may_30_2022')  # to use on sources with predicted z >= 3\n",
    "    if use_fourth_z_model:\n",
    "        # redshift_reg_4  = pyr.load_model('models/regression_z_may_31_2022')  # to use on sources with predicted z >= 3.7 (for z >= 4, regression_z_may_31_4_2022)\n",
    "        redshift_reg_4  = pyr.load_model('models/regression_z_may_31_4_2022')  # to use on sources with predicted z >= 3.7 (for z >= 4, regression_z_may_31_4_2022)\n",
    "        # redshift_reg_4  = pyr.load_model('models/regression_z_jun_01_2022')  # to use on sources with predicted z >= 3.7 used with SMOGN"
   ]
  },
  {
   "cell_type": "code",
   "execution_count": 30,
   "metadata": {},
   "outputs": [],
   "source": [
    "threshold_AGN   = 0.3112  # 0.5, 0.3094 from ROC AUC in train+test, 0.3112 from PR curve\n",
    "threshold_radio = 4.99972232e-01  # 0.5, 4.99972232e-01 from ROC AUC in train+test and PR curve"
   ]
  },
  {
   "cell_type": "code",
   "execution_count": 31,
   "metadata": {},
   "outputs": [],
   "source": [
    "full_catalog_df = pyc.predict_model(AGN_gal_clf, data=full_catalog_df, probability_threshold=threshold_AGN, raw_score=True, round=10)\n",
    "full_catalog_df = full_catalog_df.drop(columns=['Score_0'])\n",
    "full_catalog_df = full_catalog_df.rename(columns={'Label': 'pred_class', 'Score_1': 'Score_AGN'})\n",
    "full_catalog_df.loc[:, 'Score_AGN'] = np.around(full_catalog_df.loc[:, 'Score_AGN'], decimals=7)"
   ]
  },
  {
   "cell_type": "code",
   "execution_count": 32,
   "metadata": {},
   "outputs": [],
   "source": [
    "full_catalog_df = pyc.predict_model(radio_det_clf, data=full_catalog_df, probability_threshold=threshold_radio, raw_score=True, round=10)\n",
    "full_catalog_df = full_catalog_df.drop(columns=['Score_0'])\n",
    "full_catalog_df = full_catalog_df.rename(columns={'Label': 'pred_radio', 'Score_1': 'Score_radio'})\n",
    "full_catalog_df.loc[:, 'Score_radio'] = np.around(full_catalog_df.loc[:, 'Score_radio'], decimals=7)"
   ]
  },
  {
   "cell_type": "code",
   "execution_count": 33,
   "metadata": {},
   "outputs": [],
   "source": [
    "full_catalog_df = pyr.predict_model(redshift_reg, data=full_catalog_df, round=8)\n",
    "full_catalog_df = full_catalog_df.rename(columns={'Label': 'pred_Z'})\n",
    "full_catalog_df.loc[:, 'pred_Z'] = np.around(full_catalog_df.loc[:, 'pred_Z'], decimals=3)"
   ]
  },
  {
   "cell_type": "code",
   "execution_count": 34,
   "metadata": {},
   "outputs": [],
   "source": [
    "redshift_lim_a    = 2.0\n",
    "redshift_tol_a    = 0.0\n",
    "redshift_lim_b    = 3.0\n",
    "redshift_tol_b    = 0.0\n",
    "redshift_lim_c    = 4.0  # 3.7, 4.0\n",
    "redshift_tol_c    = 0.0\n",
    "if use_second_z_model:\n",
    "    full_catalog_df = pyr.predict_model(redshift_reg_2, data=full_catalog_df, round=3)\n",
    "    filter_pred_z   = full_catalog_df.loc[:, 'pred_Z'] >= (redshift_lim_a + redshift_tol_a)\n",
    "    full_catalog_df.loc[:, 'pred_Z'] = full_catalog_df.loc[:, 'pred_Z'].mask(filter_pred_z, full_catalog_df.loc[filter_pred_z, 'Label'])\n",
    "    full_catalog_df = full_catalog_df.drop(columns=['Label'])\n",
    "    full_catalog_df.loc[:, 'pred_Z'] = np.around(full_catalog_df.loc[:, 'pred_Z'], decimals=3)\n",
    "if use_third_z_model:\n",
    "    full_catalog_df = pyr.predict_model(redshift_reg_3, data=full_catalog_df, round=3)\n",
    "    filter_pred_z   = full_catalog_df.loc[:, 'pred_Z'] >= (redshift_lim_b + redshift_tol_b)\n",
    "    full_catalog_df.loc[:, 'pred_Z'] = full_catalog_df.loc[:, 'pred_Z'].mask(filter_pred_z, full_catalog_df.loc[filter_pred_z, 'Label'])\n",
    "    full_catalog_df = full_catalog_df.drop(columns=['Label'])\n",
    "    full_catalog_df.loc[:, 'pred_Z'] = np.around(full_catalog_df.loc[:, 'pred_Z'], decimals=3)\n",
    "if use_fourth_z_model:\n",
    "    full_catalog_df = pyr.predict_model(redshift_reg_4, data=full_catalog_df, round=3)\n",
    "    filter_pred_z   = full_catalog_df.loc[:, 'pred_Z'] >= (redshift_lim_c + redshift_tol_c)\n",
    "    full_catalog_df.loc[:, 'pred_Z'] = full_catalog_df.loc[:, 'pred_Z'].mask(filter_pred_z, full_catalog_df.loc[filter_pred_z, 'Label'])\n",
    "    full_catalog_df = full_catalog_df.drop(columns=['Label'])\n",
    "    full_catalog_df.loc[:, 'pred_Z'] = np.around(full_catalog_df.loc[:, 'pred_Z'], decimals=3)"
   ]
  },
  {
   "cell_type": "code",
   "execution_count": 35,
   "metadata": {
    "jupyter": {
     "source_hidden": true
    },
    "tags": []
   },
   "outputs": [
    {
     "data": {
      "image/png": "[encoded data removed]",
      "text/plain": [
       "<Figure size 600x500 with 3 Axes>"
      ]
     },
     "metadata": {},
     "output_type": "display_data"
    }
   ],
   "source": [
    "fig             = plt.figure(figsize=(6,5))\n",
    "ax1             = fig.add_subplot(111, projection='scatter_density', xscale='log', yscale='log')\n",
    "plot_redshift_compare(full_catalog_df.loc[:, 'Z'], full_catalog_df.loc[:, 'pred_Z'], ax_pre=ax1, title=None, dpi=10, show_clb=True, log_stretch=False)\n",
    "ax1.axvline(x=(1 + redshift_lim_a), ls='--', c='k', lw=2.5)\n",
    "ax1.axhline(y=(1 + redshift_lim_a), ls='--', c='k', lw=2.5)\n",
    "ax1.axvline(x=(1 + redshift_lim_b), ls='--', c='k', lw=2.5)\n",
    "ax1.axhline(y=(1 + redshift_lim_b), ls='--', c='k', lw=2.5)\n",
    "if use_second_z_model or use_third_z_model or use_fourth_z_model:\n",
    "    ax1.set_ylabel('$1 + z_{\\mathrm{Predicted}}^{\\mathrm{combined\\,models}}$', size=20)\n",
    "plt.show()"
   ]
  },
  {
   "cell_type": "code",
   "execution_count": 36,
   "metadata": {
    "jupyter": {
     "source_hidden": true
    }
   },
   "outputs": [],
   "source": [
    "full_catalog_df['pred_radio_AGN']     = np.array(full_catalog_df.loc[:, 'pred_class'] == 1) & np.array(full_catalog_df.loc[:, 'pred_radio'] == 1)\n",
    "full_catalog_df['Score_rAGN']         = full_catalog_df.loc[:, 'Score_AGN'] * full_catalog_df.loc[:, 'Score_radio']\n",
    "rad_score_scaler                      = MinMaxScaler()\n",
    "full_catalog_df['scaled_score_radio'] = rad_score_scaler.fit_transform(full_catalog_df.loc[:, 'Score_radio'].values.reshape(-1, 1))\n",
    "full_catalog_df['scaled_score_rAGN']  = full_catalog_df.loc[:, 'Score_AGN'] * full_catalog_df.loc[:, 'scaled_score_radio']"
   ]
  },
  {
   "cell_type": "code",
   "execution_count": 37,
   "metadata": {},
   "outputs": [
    {
     "data": {
      "text/html": [
       "<div>\n",
       "<style scoped>\n",
       "    .dataframe tbody tr th:only-of-type {\n",
       "        vertical-align: middle;\n",
       "    }\n",
       "\n",
       "    .dataframe tbody tr th {\n",
       "        vertical-align: top;\n",
       "    }\n",
       "\n",
       "    .dataframe thead th {\n",
       "        text-align: right;\n",
       "    }\n",
       "</style>\n",
       "<table border=\"1\" class=\"dataframe\">\n",
       "  <thead>\n",
       "    <tr style=\"text-align: right;\">\n",
       "      <th></th>\n",
       "      <th>class</th>\n",
       "      <th>pred_class</th>\n",
       "      <th>radio_detect</th>\n",
       "      <th>pred_radio</th>\n",
       "      <th>Z</th>\n",
       "      <th>pred_Z</th>\n",
       "    </tr>\n",
       "  </thead>\n",
       "  <tbody>\n",
       "    <tr>\n",
       "      <th>count</th>\n",
       "      <td>369093.000000</td>\n",
       "      <td>369093.000000</td>\n",
       "      <td>369093.000000</td>\n",
       "      <td>369093.000000</td>\n",
       "      <td>3514.000000</td>\n",
       "      <td>369093.000000</td>\n",
       "    </tr>\n",
       "    <tr>\n",
       "      <th>mean</th>\n",
       "      <td>0.488563</td>\n",
       "      <td>0.635853</td>\n",
       "      <td>0.042835</td>\n",
       "      <td>0.260848</td>\n",
       "      <td>1.284949</td>\n",
       "      <td>2.113896</td>\n",
       "    </tr>\n",
       "    <tr>\n",
       "      <th>std</th>\n",
       "      <td>0.098904</td>\n",
       "      <td>0.481191</td>\n",
       "      <td>0.202485</td>\n",
       "      <td>0.439098</td>\n",
       "      <td>0.890670</td>\n",
       "      <td>1.071312</td>\n",
       "    </tr>\n",
       "    <tr>\n",
       "      <th>min</th>\n",
       "      <td>0.000000</td>\n",
       "      <td>0.000000</td>\n",
       "      <td>0.000000</td>\n",
       "      <td>0.000000</td>\n",
       "      <td>-0.002420</td>\n",
       "      <td>0.040000</td>\n",
       "    </tr>\n",
       "    <tr>\n",
       "      <th>25%</th>\n",
       "      <td>0.500000</td>\n",
       "      <td>0.000000</td>\n",
       "      <td>0.000000</td>\n",
       "      <td>0.000000</td>\n",
       "      <td>0.580100</td>\n",
       "      <td>1.431000</td>\n",
       "    </tr>\n",
       "    <tr>\n",
       "      <th>50%</th>\n",
       "      <td>0.500000</td>\n",
       "      <td>1.000000</td>\n",
       "      <td>0.000000</td>\n",
       "      <td>0.000000</td>\n",
       "      <td>1.166000</td>\n",
       "      <td>1.982000</td>\n",
       "    </tr>\n",
       "    <tr>\n",
       "      <th>75%</th>\n",
       "      <td>0.500000</td>\n",
       "      <td>1.000000</td>\n",
       "      <td>0.000000</td>\n",
       "      <td>1.000000</td>\n",
       "      <td>1.874500</td>\n",
       "      <td>2.563000</td>\n",
       "    </tr>\n",
       "    <tr>\n",
       "      <th>max</th>\n",
       "      <td>1.000000</td>\n",
       "      <td>1.000000</td>\n",
       "      <td>1.000000</td>\n",
       "      <td>1.000000</td>\n",
       "      <td>6.780000</td>\n",
       "      <td>6.210000</td>\n",
       "    </tr>\n",
       "  </tbody>\n",
       "</table>\n",
       "</div>"
      ],
      "text/plain": [
       "               class     pred_class   radio_detect     pred_radio  \\\n",
       "count  369093.000000  369093.000000  369093.000000  369093.000000   \n",
       "mean        0.488563       0.635853       0.042835       0.260848   \n",
       "std         0.098904       0.481191       0.202485       0.439098   \n",
       "min         0.000000       0.000000       0.000000       0.000000   \n",
       "25%         0.500000       0.000000       0.000000       0.000000   \n",
       "50%         0.500000       1.000000       0.000000       0.000000   \n",
       "75%         0.500000       1.000000       0.000000       1.000000   \n",
       "max         1.000000       1.000000       1.000000       1.000000   \n",
       "\n",
       "                 Z         pred_Z  \n",
       "count  3514.000000  369093.000000  \n",
       "mean      1.284949       2.113896  \n",
       "std       0.890670       1.071312  \n",
       "min      -0.002420       0.040000  \n",
       "25%       0.580100       1.431000  \n",
       "50%       1.166000       1.982000  \n",
       "75%       1.874500       2.563000  \n",
       "max       6.780000       6.210000  "
      ]
     },
     "execution_count": 37,
     "metadata": {},
     "output_type": "execute_result"
    }
   ],
   "source": [
    "full_catalog_df.loc[:, ['class', 'pred_class', 'radio_detect', 'pred_radio', 'Z', 'pred_Z']].describe()"
   ]
  },
  {
   "cell_type": "markdown",
   "metadata": {},
   "source": [
    "Obtain intermediate metrics"
   ]
  },
  {
   "cell_type": "code",
   "execution_count": 38,
   "metadata": {},
   "outputs": [],
   "source": [
    "filter_radio_AGN_t      = np.array(full_catalog_df.loc[:, 'class'] == 1) & np.array(full_catalog_df.loc[:, 'radio_detect'] == 1)\n",
    "filter_gal_AGN_t        = np.array(full_catalog_df.loc[:, 'class'] == 0) | np.array(full_catalog_df.loc[:, 'class'] == 1)\n",
    "total_size              = len(full_catalog_df)\n",
    "filter_AGN_t            = np.array(full_catalog_df.loc[:, 'class'] == 1)\n",
    "num_AGN_t               = np.sum(filter_AGN_t)\n",
    "num_gal_t               = np.sum(np.array(full_catalog_df.loc[:, 'class'] == 0))\n",
    "num_radio_t             = np.sum(np.array(full_catalog_df.loc[:, 'radio_detect'] == 1))\n",
    "num_radio_AGN_t         = np.sum(filter_radio_AGN_t)"
   ]
  },
  {
   "cell_type": "code",
   "execution_count": 39,
   "metadata": {},
   "outputs": [],
   "source": [
    "# filter_radio_AGN_p      = np.array(full_catalog_df.loc[:, 'Score_AGN']          >= threshold_AGN) &\\\n",
    "#                             np.array(full_catalog_df.loc[:, 'Score_radio']      >= threshold_radio)\n",
    "filter_radio_AGN_p      = np.array(full_catalog_df.loc[:, 'pred_class']      == 1) &\\\n",
    "                            np.array(full_catalog_df.loc[:, 'pred_radio']    == 1)\n",
    "filt_hiz_rAGN_p         = filter_radio_AGN_p * np.array(full_catalog_df.loc[:, 'pred_Z'] >= redshift_lim_c)\n",
    "filter_AGN_p            = np.array(full_catalog_df.loc[:, 'pred_class']      == 1)\n",
    "filter_radio_p          = np.array(full_catalog_df.loc[:, 'pred_radio']      == 1)\n",
    "num_AGN_p               = np.sum(filter_AGN_p)\n",
    "num_gal_p               = np.sum(np.array(full_catalog_df.loc[:, 'pred_class'] == 0))\n",
    "num_radio_p             = np.sum(filter_radio_p)\n",
    "num_radio_AGN_p         = np.sum(filter_radio_AGN_p)"
   ]
  },
  {
   "cell_type": "markdown",
   "metadata": {},
   "source": [
    "### Select sources predicted to be Radio AGN"
   ]
  },
  {
   "cell_type": "code",
   "execution_count": 40,
   "metadata": {},
   "outputs": [],
   "source": [
    "full_catalog_df         = full_catalog_df.loc[filter_radio_AGN_p]"
   ]
  },
  {
   "cell_type": "code",
   "execution_count": 41,
   "metadata": {},
   "outputs": [
    {
     "data": {
      "text/html": [
       "<div>\n",
       "<style scoped>\n",
       "    .dataframe tbody tr th:only-of-type {\n",
       "        vertical-align: middle;\n",
       "    }\n",
       "\n",
       "    .dataframe tbody tr th {\n",
       "        vertical-align: top;\n",
       "    }\n",
       "\n",
       "    .dataframe thead th {\n",
       "        text-align: right;\n",
       "    }\n",
       "</style>\n",
       "<table border=\"1\" class=\"dataframe\">\n",
       "  <thead>\n",
       "    <tr style=\"text-align: right;\">\n",
       "      <th></th>\n",
       "      <th>class</th>\n",
       "      <th>pred_class</th>\n",
       "      <th>radio_detect</th>\n",
       "      <th>pred_radio</th>\n",
       "      <th>Z</th>\n",
       "      <th>pred_Z</th>\n",
       "    </tr>\n",
       "  </thead>\n",
       "  <tbody>\n",
       "    <tr>\n",
       "      <th>count</th>\n",
       "      <td>34665.000000</td>\n",
       "      <td>34665.0</td>\n",
       "      <td>34665.000000</td>\n",
       "      <td>34665.0</td>\n",
       "      <td>1021.000000</td>\n",
       "      <td>34665.000000</td>\n",
       "    </tr>\n",
       "    <tr>\n",
       "      <th>mean</th>\n",
       "      <td>0.499639</td>\n",
       "      <td>1.0</td>\n",
       "      <td>0.108380</td>\n",
       "      <td>1.0</td>\n",
       "      <td>1.014643</td>\n",
       "      <td>1.586028</td>\n",
       "    </tr>\n",
       "    <tr>\n",
       "      <th>std</th>\n",
       "      <td>0.121918</td>\n",
       "      <td>0.0</td>\n",
       "      <td>0.310864</td>\n",
       "      <td>0.0</td>\n",
       "      <td>0.832285</td>\n",
       "      <td>0.811113</td>\n",
       "    </tr>\n",
       "    <tr>\n",
       "      <th>min</th>\n",
       "      <td>0.000000</td>\n",
       "      <td>1.0</td>\n",
       "      <td>0.000000</td>\n",
       "      <td>1.0</td>\n",
       "      <td>-0.002420</td>\n",
       "      <td>0.040000</td>\n",
       "    </tr>\n",
       "    <tr>\n",
       "      <th>25%</th>\n",
       "      <td>0.500000</td>\n",
       "      <td>1.0</td>\n",
       "      <td>0.000000</td>\n",
       "      <td>1.0</td>\n",
       "      <td>0.344000</td>\n",
       "      <td>1.055000</td>\n",
       "    </tr>\n",
       "    <tr>\n",
       "      <th>50%</th>\n",
       "      <td>0.500000</td>\n",
       "      <td>1.0</td>\n",
       "      <td>0.000000</td>\n",
       "      <td>1.0</td>\n",
       "      <td>0.841000</td>\n",
       "      <td>1.422000</td>\n",
       "    </tr>\n",
       "    <tr>\n",
       "      <th>75%</th>\n",
       "      <td>0.500000</td>\n",
       "      <td>1.0</td>\n",
       "      <td>0.000000</td>\n",
       "      <td>1.0</td>\n",
       "      <td>1.479000</td>\n",
       "      <td>1.898000</td>\n",
       "    </tr>\n",
       "    <tr>\n",
       "      <th>max</th>\n",
       "      <td>1.000000</td>\n",
       "      <td>1.0</td>\n",
       "      <td>1.000000</td>\n",
       "      <td>1.0</td>\n",
       "      <td>5.469000</td>\n",
       "      <td>6.210000</td>\n",
       "    </tr>\n",
       "  </tbody>\n",
       "</table>\n",
       "</div>"
      ],
      "text/plain": [
       "              class  pred_class  radio_detect  pred_radio            Z  \\\n",
       "count  34665.000000     34665.0  34665.000000     34665.0  1021.000000   \n",
       "mean       0.499639         1.0      0.108380         1.0     1.014643   \n",
       "std        0.121918         0.0      0.310864         0.0     0.832285   \n",
       "min        0.000000         1.0      0.000000         1.0    -0.002420   \n",
       "25%        0.500000         1.0      0.000000         1.0     0.344000   \n",
       "50%        0.500000         1.0      0.000000         1.0     0.841000   \n",
       "75%        0.500000         1.0      0.000000         1.0     1.479000   \n",
       "max        1.000000         1.0      1.000000         1.0     5.469000   \n",
       "\n",
       "             pred_Z  \n",
       "count  34665.000000  \n",
       "mean       1.586028  \n",
       "std        0.811113  \n",
       "min        0.040000  \n",
       "25%        1.055000  \n",
       "50%        1.422000  \n",
       "75%        1.898000  \n",
       "max        6.210000  "
      ]
     },
     "execution_count": 41,
     "metadata": {},
     "output_type": "execute_result"
    }
   ],
   "source": [
    "full_catalog_df.loc[:, ['class', 'pred_class', 'radio_detect', 'pred_radio', 'Z', 'pred_Z']].describe()"
   ]
  },
  {
   "cell_type": "markdown",
   "metadata": {},
   "source": [
    "Add individual metrics for redshift"
   ]
  },
  {
   "cell_type": "code",
   "execution_count": 42,
   "metadata": {
    "tags": []
   },
   "outputs": [],
   "source": [
    "full_catalog_df['Delta_z_N'] = np.around((full_catalog_df.loc[:, 'pred_Z'] - full_catalog_df.loc[:, 'Z']) /\\\n",
    "                            (1 + full_catalog_df.loc[:, 'Z']), decimals=3)\n",
    "\n",
    "full_catalog_df['sigma_NMAD'] = np.around(1.48 * np.abs(full_catalog_df.loc[:, 'pred_Z'] - full_catalog_df.loc[:, 'Z']) /\\\n",
    "                            (1 + full_catalog_df.loc[:, 'Z']), decimals=3)"
   ]
  },
  {
   "cell_type": "markdown",
   "metadata": {},
   "source": [
    "Numerical summary."
   ]
  },
  {
   "cell_type": "code",
   "execution_count": 43,
   "metadata": {
    "jupyter": {
     "source_hidden": true
    },
    "tags": []
   },
   "outputs": [],
   "source": [
    "str_0_t   = f'Out of {total_size:,} initial sources in {used_area},\\n'\n",
    "str_1_t   = f'{num_gal_t:,} are confirmed to be galaxies. On the other side,\\n'\n",
    "str_2_t   = f'{num_AGN_t:,} are confirmed to be AGN. And, from the AGN,\\n'\n",
    "str_3_t   = f'{num_radio_AGN_t:,} are detected in radio.'\n",
    "\n",
    "str_0_p   = f'Out of {num_radio_AGN_t:,} initial radio-detected AGN in {used_area},\\n'\n",
    "str_1_p   = f'{num_gal_p:,} are predicted to be galaxies. On the other side,\\n'\n",
    "str_2_p   = f'{num_AGN_p:,} are predicted to be AGN. And, from the predicted AGN,\\n'\n",
    "str_3_p   = f'{num_radio_AGN_p:,} are predicted to be detected in radio.'"
   ]
  },
  {
   "cell_type": "code",
   "execution_count": 44,
   "metadata": {
    "jupyter": {
     "source_hidden": true
    },
    "tags": []
   },
   "outputs": [
    {
     "name": "stdout",
     "output_type": "stream",
     "text": [
      "------------------------------------------------------------\n",
      "Out of 369,093 initial sources in S82,\n",
      "11,539 are confirmed to be galaxies. On the other side,\n",
      "3,096 are confirmed to be AGN. And, from the AGN,\n",
      "1,163 are detected in radio.\n",
      "------------------------------------------------------------\n",
      "Out of 1,163 initial radio-detected AGN in S82,\n",
      "134,404 are predicted to be galaxies. On the other side,\n",
      "234,689 are predicted to be AGN. And, from the predicted AGN,\n",
      "34,665 are predicted to be detected in radio.\n",
      "------------------------------------------------------------\n"
     ]
    }
   ],
   "source": [
    "print('-' * 60)\n",
    "print(str_0_t + str_1_t + str_2_t + str_3_t)\n",
    "print('-' * 60)\n",
    "print(str_0_p + str_1_p + str_2_p + str_3_p)\n",
    "print('-' * 60)"
   ]
  },
  {
   "cell_type": "code",
   "execution_count": 45,
   "metadata": {},
   "outputs": [],
   "source": [
    "cols_4_table = show_columns = ['Name', 'RA_ICRS', 'DE_ICRS', 'TYPE', 'band_num', 'class', 'pred_class', 'Score_AGN',\\\n",
    "                               'radio_detect', 'pred_radio', 'scaled_score_radio', 'scaled_score_rAGN', 'Z', 'pred_Z']"
   ]
  },
  {
   "cell_type": "code",
   "execution_count": 46,
   "metadata": {},
   "outputs": [],
   "source": [
    "cols_4_export_S82    = ['Total_flux_VLASS', 'Fint_VLAS82', 'Stotal_TGSS', 'FEP']\n",
    "cols_4_export_HETDEX = ['Total_flux_VLASS', 'Sint_LOFAR', 'Stotal_TGSS', 'FEP', 'TotalFlux_LoLSS']\n",
    "cols_4_export_COSMOS = ['Total_flux_VLASS', 'Stotal_TGSS', 'FEP', 'Flux_COSMOSVLA3']\n",
    "\n",
    "cols_4_exp_all       = {'S82': cols_4_export_S82, 'HETDEX': cols_4_export_HETDEX, 'COSMOS': cols_4_export_COSMOS}\n",
    "\n",
    "cols_photo           = ['W1mproPM', 'W2mproPM', 'gmag', 'rmag', 'imag', 'zmag', 'ymag', 'FUVmag', 'NUVmag',\\\n",
    "                        'Jmag', 'Hmag', 'Kmag', 'W3mag', 'W4mag']\n",
    "\n",
    "cols_4_export        = cols_4_table + cols_4_exp_all[used_area] + cols_photo"
   ]
  },
  {
   "cell_type": "code",
   "execution_count": 47,
   "metadata": {},
   "outputs": [],
   "source": [
    "filter_new_rAGN = full_catalog_df.loc[:, 'radio_AGN'] == 0\n",
    "filter_high_z   = full_catalog_df.loc[:, 'pred_Z']    >= 4.5"
   ]
  },
  {
   "cell_type": "code",
   "execution_count": 48,
   "metadata": {},
   "outputs": [],
   "source": [
    "full_catalog_df.loc[:, 'TYPE'] = full_catalog_df.loc[:, 'TYPE'].mask(full_catalog_df.loc[:, 'TYPE'] == '    ', 'CCCC')"
   ]
  },
  {
   "cell_type": "code",
   "execution_count": 49,
   "metadata": {},
   "outputs": [
    {
     "data": {
      "text/html": [
       "<div>\n",
       "<style scoped>\n",
       "    .dataframe tbody tr th:only-of-type {\n",
       "        vertical-align: middle;\n",
       "    }\n",
       "\n",
       "    .dataframe tbody tr th {\n",
       "        vertical-align: top;\n",
       "    }\n",
       "\n",
       "    .dataframe thead th {\n",
       "        text-align: right;\n",
       "    }\n",
       "</style>\n",
       "<table border=\"1\" class=\"dataframe\">\n",
       "  <thead>\n",
       "    <tr style=\"text-align: right;\">\n",
       "      <th></th>\n",
       "      <th>Name</th>\n",
       "      <th>RA_ICRS</th>\n",
       "      <th>DE_ICRS</th>\n",
       "      <th>TYPE</th>\n",
       "      <th>band_num</th>\n",
       "      <th>class</th>\n",
       "      <th>pred_class</th>\n",
       "      <th>Score_AGN</th>\n",
       "      <th>radio_detect</th>\n",
       "      <th>pred_radio</th>\n",
       "      <th>scaled_score_radio</th>\n",
       "      <th>scaled_score_rAGN</th>\n",
       "      <th>Z</th>\n",
       "      <th>pred_Z</th>\n",
       "      <th>Total_flux_VLASS</th>\n",
       "      <th>Fint_VLAS82</th>\n",
       "      <th>Stotal_TGSS</th>\n",
       "      <th>FEP</th>\n",
       "      <th>W1mproPM</th>\n",
       "      <th>W2mproPM</th>\n",
       "      <th>gmag</th>\n",
       "      <th>rmag</th>\n",
       "      <th>imag</th>\n",
       "      <th>zmag</th>\n",
       "      <th>ymag</th>\n",
       "      <th>FUVmag</th>\n",
       "      <th>NUVmag</th>\n",
       "      <th>Jmag</th>\n",
       "      <th>Hmag</th>\n",
       "      <th>Kmag</th>\n",
       "      <th>W3mag</th>\n",
       "      <th>W4mag</th>\n",
       "    </tr>\n",
       "  </thead>\n",
       "  <tbody>\n",
       "    <tr>\n",
       "      <th>264397</th>\n",
       "      <td>J231833.98+005809.5</td>\n",
       "      <td>349.641602</td>\n",
       "      <td>0.969328</td>\n",
       "      <td>CCCC</td>\n",
       "      <td>7</td>\n",
       "      <td>0.5</td>\n",
       "      <td>1</td>\n",
       "      <td>0.385986</td>\n",
       "      <td>0</td>\n",
       "      <td>1</td>\n",
       "      <td>0.582962</td>\n",
       "      <td>0.225015</td>\n",
       "      <td>NaN</td>\n",
       "      <td>6.21</td>\n",
       "      <td>15.21</td>\n",
       "      <td>17.860001</td>\n",
       "      <td>11.18</td>\n",
       "      <td>57.900002</td>\n",
       "      <td>19.760000</td>\n",
       "      <td>19.809999</td>\n",
       "      <td>23.299999</td>\n",
       "      <td>23.200001</td>\n",
       "      <td>23.100000</td>\n",
       "      <td>21.309999</td>\n",
       "      <td>21.400000</td>\n",
       "      <td>20.0</td>\n",
       "      <td>21.0</td>\n",
       "      <td>17.450001</td>\n",
       "      <td>17.24</td>\n",
       "      <td>16.59</td>\n",
       "      <td>16.670</td>\n",
       "      <td>14.620</td>\n",
       "    </tr>\n",
       "    <tr>\n",
       "      <th>362815</th>\n",
       "      <td>J010348.98-004755.3</td>\n",
       "      <td>15.954120</td>\n",
       "      <td>-0.798716</td>\n",
       "      <td>CCCC</td>\n",
       "      <td>7</td>\n",
       "      <td>0.5</td>\n",
       "      <td>1</td>\n",
       "      <td>0.518748</td>\n",
       "      <td>0</td>\n",
       "      <td>1</td>\n",
       "      <td>0.587868</td>\n",
       "      <td>0.304956</td>\n",
       "      <td>NaN</td>\n",
       "      <td>6.21</td>\n",
       "      <td>15.21</td>\n",
       "      <td>17.860001</td>\n",
       "      <td>11.18</td>\n",
       "      <td>57.900002</td>\n",
       "      <td>19.851999</td>\n",
       "      <td>19.809999</td>\n",
       "      <td>23.299999</td>\n",
       "      <td>23.200001</td>\n",
       "      <td>23.100000</td>\n",
       "      <td>21.498100</td>\n",
       "      <td>21.400000</td>\n",
       "      <td>20.0</td>\n",
       "      <td>21.0</td>\n",
       "      <td>17.450001</td>\n",
       "      <td>17.24</td>\n",
       "      <td>16.59</td>\n",
       "      <td>16.670</td>\n",
       "      <td>14.620</td>\n",
       "    </tr>\n",
       "    <tr>\n",
       "      <th>166030</th>\n",
       "      <td>J012701.54+000619.7</td>\n",
       "      <td>21.756475</td>\n",
       "      <td>0.105492</td>\n",
       "      <td>CCCC</td>\n",
       "      <td>7</td>\n",
       "      <td>0.5</td>\n",
       "      <td>1</td>\n",
       "      <td>0.649834</td>\n",
       "      <td>0</td>\n",
       "      <td>1</td>\n",
       "      <td>0.599019</td>\n",
       "      <td>0.389263</td>\n",
       "      <td>NaN</td>\n",
       "      <td>6.21</td>\n",
       "      <td>15.21</td>\n",
       "      <td>17.860001</td>\n",
       "      <td>11.18</td>\n",
       "      <td>57.900002</td>\n",
       "      <td>19.667000</td>\n",
       "      <td>19.705000</td>\n",
       "      <td>23.299999</td>\n",
       "      <td>23.200001</td>\n",
       "      <td>23.100000</td>\n",
       "      <td>21.574800</td>\n",
       "      <td>21.400000</td>\n",
       "      <td>20.0</td>\n",
       "      <td>21.0</td>\n",
       "      <td>17.450001</td>\n",
       "      <td>17.24</td>\n",
       "      <td>16.59</td>\n",
       "      <td>16.670</td>\n",
       "      <td>14.620</td>\n",
       "    </tr>\n",
       "    <tr>\n",
       "      <th>63730</th>\n",
       "      <td>J231614.11-011655.4</td>\n",
       "      <td>349.058807</td>\n",
       "      <td>-1.282086</td>\n",
       "      <td>CCCC</td>\n",
       "      <td>7</td>\n",
       "      <td>0.5</td>\n",
       "      <td>1</td>\n",
       "      <td>0.519250</td>\n",
       "      <td>0</td>\n",
       "      <td>1</td>\n",
       "      <td>0.502676</td>\n",
       "      <td>0.261015</td>\n",
       "      <td>NaN</td>\n",
       "      <td>6.21</td>\n",
       "      <td>15.21</td>\n",
       "      <td>17.860001</td>\n",
       "      <td>11.18</td>\n",
       "      <td>57.900002</td>\n",
       "      <td>19.790998</td>\n",
       "      <td>19.809999</td>\n",
       "      <td>23.299999</td>\n",
       "      <td>23.200001</td>\n",
       "      <td>23.100000</td>\n",
       "      <td>21.467699</td>\n",
       "      <td>21.400000</td>\n",
       "      <td>20.0</td>\n",
       "      <td>21.0</td>\n",
       "      <td>17.450001</td>\n",
       "      <td>17.24</td>\n",
       "      <td>16.59</td>\n",
       "      <td>16.670</td>\n",
       "      <td>14.620</td>\n",
       "    </tr>\n",
       "    <tr>\n",
       "      <th>334960</th>\n",
       "      <td>J014627.45+000531.0</td>\n",
       "      <td>26.614408</td>\n",
       "      <td>0.091951</td>\n",
       "      <td>CCCC</td>\n",
       "      <td>4</td>\n",
       "      <td>0.5</td>\n",
       "      <td>1</td>\n",
       "      <td>0.372474</td>\n",
       "      <td>0</td>\n",
       "      <td>1</td>\n",
       "      <td>0.580285</td>\n",
       "      <td>0.216141</td>\n",
       "      <td>NaN</td>\n",
       "      <td>5.80</td>\n",
       "      <td>15.21</td>\n",
       "      <td>17.860001</td>\n",
       "      <td>11.18</td>\n",
       "      <td>57.900002</td>\n",
       "      <td>19.658998</td>\n",
       "      <td>19.809999</td>\n",
       "      <td>23.299999</td>\n",
       "      <td>23.200001</td>\n",
       "      <td>22.387400</td>\n",
       "      <td>21.355400</td>\n",
       "      <td>21.400000</td>\n",
       "      <td>20.0</td>\n",
       "      <td>21.0</td>\n",
       "      <td>17.450001</td>\n",
       "      <td>17.24</td>\n",
       "      <td>16.59</td>\n",
       "      <td>16.670</td>\n",
       "      <td>14.620</td>\n",
       "    </tr>\n",
       "    <tr>\n",
       "      <th>119957</th>\n",
       "      <td>J005058.65-002628.4</td>\n",
       "      <td>12.744381</td>\n",
       "      <td>-0.441237</td>\n",
       "      <td>CCCC</td>\n",
       "      <td>10</td>\n",
       "      <td>0.5</td>\n",
       "      <td>1</td>\n",
       "      <td>0.330339</td>\n",
       "      <td>0</td>\n",
       "      <td>1</td>\n",
       "      <td>0.551740</td>\n",
       "      <td>0.182261</td>\n",
       "      <td>NaN</td>\n",
       "      <td>5.80</td>\n",
       "      <td>15.21</td>\n",
       "      <td>17.860001</td>\n",
       "      <td>11.18</td>\n",
       "      <td>57.900002</td>\n",
       "      <td>19.133999</td>\n",
       "      <td>19.530001</td>\n",
       "      <td>23.299999</td>\n",
       "      <td>22.112900</td>\n",
       "      <td>20.293501</td>\n",
       "      <td>19.408501</td>\n",
       "      <td>18.926800</td>\n",
       "      <td>20.0</td>\n",
       "      <td>21.0</td>\n",
       "      <td>17.450001</td>\n",
       "      <td>17.24</td>\n",
       "      <td>16.59</td>\n",
       "      <td>16.670</td>\n",
       "      <td>14.620</td>\n",
       "    </tr>\n",
       "    <tr>\n",
       "      <th>246986</th>\n",
       "      <td>J225034.64-001459.0</td>\n",
       "      <td>342.644409</td>\n",
       "      <td>-0.249751</td>\n",
       "      <td>CCCC</td>\n",
       "      <td>9</td>\n",
       "      <td>0.5</td>\n",
       "      <td>1</td>\n",
       "      <td>0.343430</td>\n",
       "      <td>0</td>\n",
       "      <td>1</td>\n",
       "      <td>0.644960</td>\n",
       "      <td>0.221499</td>\n",
       "      <td>NaN</td>\n",
       "      <td>5.80</td>\n",
       "      <td>15.21</td>\n",
       "      <td>17.860001</td>\n",
       "      <td>11.18</td>\n",
       "      <td>57.900002</td>\n",
       "      <td>19.223000</td>\n",
       "      <td>19.673000</td>\n",
       "      <td>23.299999</td>\n",
       "      <td>22.052601</td>\n",
       "      <td>20.044300</td>\n",
       "      <td>19.243799</td>\n",
       "      <td>18.666201</td>\n",
       "      <td>20.0</td>\n",
       "      <td>21.0</td>\n",
       "      <td>17.450001</td>\n",
       "      <td>17.24</td>\n",
       "      <td>16.59</td>\n",
       "      <td>16.670</td>\n",
       "      <td>14.524</td>\n",
       "    </tr>\n",
       "    <tr>\n",
       "      <th>325275</th>\n",
       "      <td>J221842.28-004913.0</td>\n",
       "      <td>334.676208</td>\n",
       "      <td>-0.820283</td>\n",
       "      <td>CCCC</td>\n",
       "      <td>8</td>\n",
       "      <td>0.5</td>\n",
       "      <td>1</td>\n",
       "      <td>0.316249</td>\n",
       "      <td>0</td>\n",
       "      <td>1</td>\n",
       "      <td>0.594558</td>\n",
       "      <td>0.188029</td>\n",
       "      <td>NaN</td>\n",
       "      <td>5.80</td>\n",
       "      <td>15.21</td>\n",
       "      <td>17.860001</td>\n",
       "      <td>11.18</td>\n",
       "      <td>57.900002</td>\n",
       "      <td>20.025999</td>\n",
       "      <td>19.809999</td>\n",
       "      <td>23.299999</td>\n",
       "      <td>21.411501</td>\n",
       "      <td>23.100000</td>\n",
       "      <td>21.212000</td>\n",
       "      <td>21.400000</td>\n",
       "      <td>20.0</td>\n",
       "      <td>21.0</td>\n",
       "      <td>17.450001</td>\n",
       "      <td>17.24</td>\n",
       "      <td>16.59</td>\n",
       "      <td>16.573</td>\n",
       "      <td>14.620</td>\n",
       "    </tr>\n",
       "    <tr>\n",
       "      <th>208073</th>\n",
       "      <td>J222129.35+005647.8</td>\n",
       "      <td>335.372314</td>\n",
       "      <td>0.946608</td>\n",
       "      <td>CCCC</td>\n",
       "      <td>9</td>\n",
       "      <td>0.5</td>\n",
       "      <td>1</td>\n",
       "      <td>0.351127</td>\n",
       "      <td>0</td>\n",
       "      <td>1</td>\n",
       "      <td>0.607493</td>\n",
       "      <td>0.213307</td>\n",
       "      <td>NaN</td>\n",
       "      <td>5.80</td>\n",
       "      <td>15.21</td>\n",
       "      <td>17.860001</td>\n",
       "      <td>11.18</td>\n",
       "      <td>57.900002</td>\n",
       "      <td>19.455000</td>\n",
       "      <td>19.307001</td>\n",
       "      <td>23.299999</td>\n",
       "      <td>23.200001</td>\n",
       "      <td>21.655300</td>\n",
       "      <td>20.832500</td>\n",
       "      <td>20.656000</td>\n",
       "      <td>20.0</td>\n",
       "      <td>21.0</td>\n",
       "      <td>17.450001</td>\n",
       "      <td>17.24</td>\n",
       "      <td>16.59</td>\n",
       "      <td>16.670</td>\n",
       "      <td>14.620</td>\n",
       "    </tr>\n",
       "    <tr>\n",
       "      <th>363100</th>\n",
       "      <td>J231239.46+002512.7</td>\n",
       "      <td>348.164429</td>\n",
       "      <td>0.420203</td>\n",
       "      <td>CCCC</td>\n",
       "      <td>9</td>\n",
       "      <td>0.5</td>\n",
       "      <td>1</td>\n",
       "      <td>0.329121</td>\n",
       "      <td>0</td>\n",
       "      <td>1</td>\n",
       "      <td>0.599019</td>\n",
       "      <td>0.197150</td>\n",
       "      <td>NaN</td>\n",
       "      <td>5.80</td>\n",
       "      <td>15.21</td>\n",
       "      <td>17.860001</td>\n",
       "      <td>11.18</td>\n",
       "      <td>57.900002</td>\n",
       "      <td>19.507000</td>\n",
       "      <td>19.566000</td>\n",
       "      <td>23.299999</td>\n",
       "      <td>23.200001</td>\n",
       "      <td>21.895800</td>\n",
       "      <td>21.093399</td>\n",
       "      <td>20.801500</td>\n",
       "      <td>20.0</td>\n",
       "      <td>21.0</td>\n",
       "      <td>17.450001</td>\n",
       "      <td>17.24</td>\n",
       "      <td>16.59</td>\n",
       "      <td>16.670</td>\n",
       "      <td>14.620</td>\n",
       "    </tr>\n",
       "    <tr>\n",
       "      <th>363962</th>\n",
       "      <td>J222358.86+011115.1</td>\n",
       "      <td>335.995270</td>\n",
       "      <td>1.187520</td>\n",
       "      <td>CCCC</td>\n",
       "      <td>9</td>\n",
       "      <td>0.5</td>\n",
       "      <td>1</td>\n",
       "      <td>0.315038</td>\n",
       "      <td>0</td>\n",
       "      <td>1</td>\n",
       "      <td>0.581624</td>\n",
       "      <td>0.183233</td>\n",
       "      <td>NaN</td>\n",
       "      <td>5.80</td>\n",
       "      <td>15.21</td>\n",
       "      <td>17.860001</td>\n",
       "      <td>11.18</td>\n",
       "      <td>57.900002</td>\n",
       "      <td>19.421999</td>\n",
       "      <td>19.517000</td>\n",
       "      <td>23.299999</td>\n",
       "      <td>23.200001</td>\n",
       "      <td>21.739201</td>\n",
       "      <td>21.211399</td>\n",
       "      <td>20.622499</td>\n",
       "      <td>20.0</td>\n",
       "      <td>21.0</td>\n",
       "      <td>17.450001</td>\n",
       "      <td>17.24</td>\n",
       "      <td>16.59</td>\n",
       "      <td>16.670</td>\n",
       "      <td>14.620</td>\n",
       "    </tr>\n",
       "    <tr>\n",
       "      <th>130829</th>\n",
       "      <td>J223132.18+003712.3</td>\n",
       "      <td>337.884125</td>\n",
       "      <td>0.620073</td>\n",
       "      <td>CCCC</td>\n",
       "      <td>6</td>\n",
       "      <td>0.5</td>\n",
       "      <td>1</td>\n",
       "      <td>0.496874</td>\n",
       "      <td>0</td>\n",
       "      <td>1</td>\n",
       "      <td>0.586084</td>\n",
       "      <td>0.291210</td>\n",
       "      <td>NaN</td>\n",
       "      <td>5.80</td>\n",
       "      <td>15.21</td>\n",
       "      <td>17.860001</td>\n",
       "      <td>11.18</td>\n",
       "      <td>57.900002</td>\n",
       "      <td>18.896999</td>\n",
       "      <td>19.299000</td>\n",
       "      <td>23.299999</td>\n",
       "      <td>21.028099</td>\n",
       "      <td>19.643200</td>\n",
       "      <td>18.898399</td>\n",
       "      <td>18.488899</td>\n",
       "      <td>20.0</td>\n",
       "      <td>21.0</td>\n",
       "      <td>17.450001</td>\n",
       "      <td>17.24</td>\n",
       "      <td>16.59</td>\n",
       "      <td>16.670</td>\n",
       "      <td>14.620</td>\n",
       "    </tr>\n",
       "    <tr>\n",
       "      <th>98324</th>\n",
       "      <td>J015845.46-010402.7</td>\n",
       "      <td>29.689432</td>\n",
       "      <td>-1.067435</td>\n",
       "      <td>CCCC</td>\n",
       "      <td>6</td>\n",
       "      <td>0.5</td>\n",
       "      <td>1</td>\n",
       "      <td>0.373726</td>\n",
       "      <td>0</td>\n",
       "      <td>1</td>\n",
       "      <td>0.435772</td>\n",
       "      <td>0.162859</td>\n",
       "      <td>NaN</td>\n",
       "      <td>5.80</td>\n",
       "      <td>15.21</td>\n",
       "      <td>17.860001</td>\n",
       "      <td>11.18</td>\n",
       "      <td>57.900002</td>\n",
       "      <td>19.025000</td>\n",
       "      <td>19.404001</td>\n",
       "      <td>23.299999</td>\n",
       "      <td>21.294701</td>\n",
       "      <td>19.717400</td>\n",
       "      <td>18.976601</td>\n",
       "      <td>18.613300</td>\n",
       "      <td>20.0</td>\n",
       "      <td>21.0</td>\n",
       "      <td>17.450001</td>\n",
       "      <td>17.24</td>\n",
       "      <td>16.59</td>\n",
       "      <td>16.670</td>\n",
       "      <td>14.620</td>\n",
       "    </tr>\n",
       "    <tr>\n",
       "      <th>219663</th>\n",
       "      <td>J230910.20-010115.0</td>\n",
       "      <td>347.292542</td>\n",
       "      <td>-1.020865</td>\n",
       "      <td>CCCC</td>\n",
       "      <td>10</td>\n",
       "      <td>0.5</td>\n",
       "      <td>1</td>\n",
       "      <td>0.330118</td>\n",
       "      <td>0</td>\n",
       "      <td>1</td>\n",
       "      <td>0.586976</td>\n",
       "      <td>0.193771</td>\n",
       "      <td>NaN</td>\n",
       "      <td>5.70</td>\n",
       "      <td>15.21</td>\n",
       "      <td>17.860001</td>\n",
       "      <td>11.18</td>\n",
       "      <td>57.900002</td>\n",
       "      <td>19.330000</td>\n",
       "      <td>19.515001</td>\n",
       "      <td>23.299999</td>\n",
       "      <td>21.593100</td>\n",
       "      <td>21.155300</td>\n",
       "      <td>20.633801</td>\n",
       "      <td>20.251200</td>\n",
       "      <td>20.0</td>\n",
       "      <td>21.0</td>\n",
       "      <td>17.450001</td>\n",
       "      <td>17.24</td>\n",
       "      <td>16.59</td>\n",
       "      <td>16.670</td>\n",
       "      <td>14.620</td>\n",
       "    </tr>\n",
       "    <tr>\n",
       "      <th>228643</th>\n",
       "      <td>J230358.94+005716.9</td>\n",
       "      <td>345.995605</td>\n",
       "      <td>0.954712</td>\n",
       "      <td>CCCC</td>\n",
       "      <td>10</td>\n",
       "      <td>0.5</td>\n",
       "      <td>1</td>\n",
       "      <td>0.774375</td>\n",
       "      <td>0</td>\n",
       "      <td>1</td>\n",
       "      <td>0.756021</td>\n",
       "      <td>0.585444</td>\n",
       "      <td>NaN</td>\n",
       "      <td>5.70</td>\n",
       "      <td>15.21</td>\n",
       "      <td>17.860001</td>\n",
       "      <td>11.18</td>\n",
       "      <td>57.900002</td>\n",
       "      <td>18.434000</td>\n",
       "      <td>18.794001</td>\n",
       "      <td>23.299999</td>\n",
       "      <td>21.217199</td>\n",
       "      <td>19.676701</td>\n",
       "      <td>18.991600</td>\n",
       "      <td>18.556400</td>\n",
       "      <td>20.0</td>\n",
       "      <td>21.0</td>\n",
       "      <td>17.450001</td>\n",
       "      <td>17.24</td>\n",
       "      <td>16.59</td>\n",
       "      <td>16.670</td>\n",
       "      <td>14.620</td>\n",
       "    </tr>\n",
       "  </tbody>\n",
       "</table>\n",
       "</div>"
      ],
      "text/plain": [
       "                        Name     RA_ICRS   DE_ICRS  TYPE  band_num  class  \\\n",
       "264397  J231833.98+005809.5   349.641602  0.969328  CCCC         7    0.5   \n",
       "362815  J010348.98-004755.3    15.954120 -0.798716  CCCC         7    0.5   \n",
       "166030  J012701.54+000619.7    21.756475  0.105492  CCCC         7    0.5   \n",
       "63730   J231614.11-011655.4   349.058807 -1.282086  CCCC         7    0.5   \n",
       "334960  J014627.45+000531.0    26.614408  0.091951  CCCC         4    0.5   \n",
       "119957  J005058.65-002628.4    12.744381 -0.441237  CCCC        10    0.5   \n",
       "246986  J225034.64-001459.0   342.644409 -0.249751  CCCC         9    0.5   \n",
       "325275  J221842.28-004913.0   334.676208 -0.820283  CCCC         8    0.5   \n",
       "208073  J222129.35+005647.8   335.372314  0.946608  CCCC         9    0.5   \n",
       "363100  J231239.46+002512.7   348.164429  0.420203  CCCC         9    0.5   \n",
       "363962  J222358.86+011115.1   335.995270  1.187520  CCCC         9    0.5   \n",
       "130829  J223132.18+003712.3   337.884125  0.620073  CCCC         6    0.5   \n",
       "98324   J015845.46-010402.7    29.689432 -1.067435  CCCC         6    0.5   \n",
       "219663  J230910.20-010115.0   347.292542 -1.020865  CCCC        10    0.5   \n",
       "228643  J230358.94+005716.9   345.995605  0.954712  CCCC        10    0.5   \n",
       "\n",
       "        pred_class  Score_AGN  radio_detect  pred_radio  scaled_score_radio  \\\n",
       "264397           1   0.385986             0           1            0.582962   \n",
       "362815           1   0.518748             0           1            0.587868   \n",
       "166030           1   0.649834             0           1            0.599019   \n",
       "63730            1   0.519250             0           1            0.502676   \n",
       "334960           1   0.372474             0           1            0.580285   \n",
       "119957           1   0.330339             0           1            0.551740   \n",
       "246986           1   0.343430             0           1            0.644960   \n",
       "325275           1   0.316249             0           1            0.594558   \n",
       "208073           1   0.351127             0           1            0.607493   \n",
       "363100           1   0.329121             0           1            0.599019   \n",
       "363962           1   0.315038             0           1            0.581624   \n",
       "130829           1   0.496874             0           1            0.586084   \n",
       "98324            1   0.373726             0           1            0.435772   \n",
       "219663           1   0.330118             0           1            0.586976   \n",
       "228643           1   0.774375             0           1            0.756021   \n",
       "\n",
       "        scaled_score_rAGN   Z  pred_Z  Total_flux_VLASS  Fint_VLAS82  \\\n",
       "264397           0.225015 NaN    6.21             15.21    17.860001   \n",
       "362815           0.304956 NaN    6.21             15.21    17.860001   \n",
       "166030           0.389263 NaN    6.21             15.21    17.860001   \n",
       "63730            0.261015 NaN    6.21             15.21    17.860001   \n",
       "334960           0.216141 NaN    5.80             15.21    17.860001   \n",
       "119957           0.182261 NaN    5.80             15.21    17.860001   \n",
       "246986           0.221499 NaN    5.80             15.21    17.860001   \n",
       "325275           0.188029 NaN    5.80             15.21    17.860001   \n",
       "208073           0.213307 NaN    5.80             15.21    17.860001   \n",
       "363100           0.197150 NaN    5.80             15.21    17.860001   \n",
       "363962           0.183233 NaN    5.80             15.21    17.860001   \n",
       "130829           0.291210 NaN    5.80             15.21    17.860001   \n",
       "98324            0.162859 NaN    5.80             15.21    17.860001   \n",
       "219663           0.193771 NaN    5.70             15.21    17.860001   \n",
       "228643           0.585444 NaN    5.70             15.21    17.860001   \n",
       "\n",
       "        Stotal_TGSS        FEP   W1mproPM   W2mproPM       gmag       rmag  \\\n",
       "264397        11.18  57.900002  19.760000  19.809999  23.299999  23.200001   \n",
       "362815        11.18  57.900002  19.851999  19.809999  23.299999  23.200001   \n",
       "166030        11.18  57.900002  19.667000  19.705000  23.299999  23.200001   \n",
       "63730         11.18  57.900002  19.790998  19.809999  23.299999  23.200001   \n",
       "334960        11.18  57.900002  19.658998  19.809999  23.299999  23.200001   \n",
       "119957        11.18  57.900002  19.133999  19.530001  23.299999  22.112900   \n",
       "246986        11.18  57.900002  19.223000  19.673000  23.299999  22.052601   \n",
       "325275        11.18  57.900002  20.025999  19.809999  23.299999  21.411501   \n",
       "208073        11.18  57.900002  19.455000  19.307001  23.299999  23.200001   \n",
       "363100        11.18  57.900002  19.507000  19.566000  23.299999  23.200001   \n",
       "363962        11.18  57.900002  19.421999  19.517000  23.299999  23.200001   \n",
       "130829        11.18  57.900002  18.896999  19.299000  23.299999  21.028099   \n",
       "98324         11.18  57.900002  19.025000  19.404001  23.299999  21.294701   \n",
       "219663        11.18  57.900002  19.330000  19.515001  23.299999  21.593100   \n",
       "228643        11.18  57.900002  18.434000  18.794001  23.299999  21.217199   \n",
       "\n",
       "             imag       zmag       ymag  FUVmag  NUVmag       Jmag   Hmag  \\\n",
       "264397  23.100000  21.309999  21.400000    20.0    21.0  17.450001  17.24   \n",
       "362815  23.100000  21.498100  21.400000    20.0    21.0  17.450001  17.24   \n",
       "166030  23.100000  21.574800  21.400000    20.0    21.0  17.450001  17.24   \n",
       "63730   23.100000  21.467699  21.400000    20.0    21.0  17.450001  17.24   \n",
       "334960  22.387400  21.355400  21.400000    20.0    21.0  17.450001  17.24   \n",
       "119957  20.293501  19.408501  18.926800    20.0    21.0  17.450001  17.24   \n",
       "246986  20.044300  19.243799  18.666201    20.0    21.0  17.450001  17.24   \n",
       "325275  23.100000  21.212000  21.400000    20.0    21.0  17.450001  17.24   \n",
       "208073  21.655300  20.832500  20.656000    20.0    21.0  17.450001  17.24   \n",
       "363100  21.895800  21.093399  20.801500    20.0    21.0  17.450001  17.24   \n",
       "363962  21.739201  21.211399  20.622499    20.0    21.0  17.450001  17.24   \n",
       "130829  19.643200  18.898399  18.488899    20.0    21.0  17.450001  17.24   \n",
       "98324   19.717400  18.976601  18.613300    20.0    21.0  17.450001  17.24   \n",
       "219663  21.155300  20.633801  20.251200    20.0    21.0  17.450001  17.24   \n",
       "228643  19.676701  18.991600  18.556400    20.0    21.0  17.450001  17.24   \n",
       "\n",
       "         Kmag   W3mag   W4mag  \n",
       "264397  16.59  16.670  14.620  \n",
       "362815  16.59  16.670  14.620  \n",
       "166030  16.59  16.670  14.620  \n",
       "63730   16.59  16.670  14.620  \n",
       "334960  16.59  16.670  14.620  \n",
       "119957  16.59  16.670  14.620  \n",
       "246986  16.59  16.670  14.524  \n",
       "325275  16.59  16.573  14.620  \n",
       "208073  16.59  16.670  14.620  \n",
       "363100  16.59  16.670  14.620  \n",
       "363962  16.59  16.670  14.620  \n",
       "130829  16.59  16.670  14.620  \n",
       "98324   16.59  16.670  14.620  \n",
       "219663  16.59  16.670  14.620  \n",
       "228643  16.59  16.670  14.620  "
      ]
     },
     "metadata": {},
     "output_type": "display_data"
    }
   ],
   "source": [
    "display(full_catalog_df.loc[filter_high_z, cols_4_export].sort_values(by=['pred_Z'], ascending=False).head(15))"
   ]
  },
  {
   "cell_type": "code",
   "execution_count": 50,
   "metadata": {},
   "outputs": [],
   "source": [
    "if save_preds_flag:\n",
    "    full_catalog_df.loc[filter_high_z, cols_4_export].sort_values(by=['pred_Z'], ascending=False).to_csv(f'pred_rAGN/predicted_rAGN_{used_area}.csv')"
   ]
  },
  {
   "cell_type": "markdown",
   "metadata": {},
   "source": [
    "---"
   ]
  },
  {
   "cell_type": "code",
   "execution_count": null,
   "metadata": {},
   "outputs": [],
   "source": []
  }
 ],
 "metadata": {
  "kernelspec": {
   "display_name": "Python 3 (ipykernel)",
   "language": "python",
   "name": "python3"
  },
  "language_info": {
   "codemirror_mode": {
    "name": "ipython",
    "version": 3
   },
   "file_extension": ".py",
   "mimetype": "text/x-python",
   "name": "python",
   "nbconvert_exporter": "python",
   "pygments_lexer": "ipython3",
   "version": "3.8.13"
  }
 },
 "nbformat": 4,
 "nbformat_minor": 4
}
