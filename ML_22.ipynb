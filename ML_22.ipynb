{
 "cells": [
  {
   "cell_type": "markdown",
   "id": "ad038bbc",
   "metadata": {
    "id": "c71fae7e-a4c4-4950-8c16-4a74a1e69482"
   },
   "source": [
    "# Pipeline for High-z Radio Galaxies 22: Redshift prediction (high z, new instance)"
   ]
  },
  {
   "cell_type": "markdown",
   "id": "8bf07f05",
   "metadata": {
    "id": "714a7301-9b3d-4ad9-9659-b68cad4014c5"
   },
   "source": [
    "## Introduction"
   ]
  },
  {
   "cell_type": "markdown",
   "id": "1e256b7d",
   "metadata": {
    "id": "dea6dd12-650e-4ab6-bae7-0268f78e7fea"
   },
   "source": [
    "Training for regression (prediction) of redshift for sources in the HETDEX field. \n",
    "\n",
    "Sources are all elements detected in the CatWISE2020 catalogue. But regression  \n",
    "will be done only with AGN from the Million Quasar Catalog (MQC).  \n",
    "Only sources with confirmed $z$ will be used.\n",
    "\n",
    "Also, as a test, only high-redshift sources ($z \\geq 3$, from distribution, mostly AGN) will be used.\n",
    "\n",
    "Being either AGN or galaxy will not be used as an additional feature."
   ]
  },
  {
   "cell_type": "markdown",
   "id": "8bba0b94",
   "metadata": {
    "id": "00a0aec8-0112-4728-a8fe-f99cdf05a33b"
   },
   "source": [
    "Training data is from HETDEX Spring Field."
   ]
  },
  {
   "cell_type": "code",
   "execution_count": 1,
   "id": "4aeabb51",
   "metadata": {
    "id": "1161a2b6-ef8d-429d-8dea-40f0de36e393"
   },
   "outputs": [],
   "source": [
    "%matplotlib inline\n",
    "# Static plots\n",
    "#%matplotlib ipympl\n",
    "# Interactive plots\n",
    "import numpy as np\n",
    "import matplotlib as mpl\n",
    "from matplotlib import ticker\n",
    "import matplotlib.cm as cm\n",
    "import matplotlib.pyplot as plt\n",
    "import matplotlib.colors as mcolors\n",
    "import matplotlib.patheffects as mpe\n",
    "import mpl_scatter_density\n",
    "from mpl_toolkits.axes_grid1.inset_locator import inset_axes\n",
    "from astropy.visualization import LogStretch, PowerStretch\n",
    "from astropy.visualization.mpl_normalize import ImageNormalize\n",
    "from sklearn.preprocessing import MinMaxScaler\n",
    "from sklearn.model_selection import train_test_split\n",
    "# from sklearn.metrics import ConfusionMatrixDisplay, roc_auc_score, roc_curve, RocCurveDisplay, matthews_corrcoef\n",
    "# from sklearn.calibration import calibration_curve\n",
    "import sklearn.pipeline\n",
    "import ppscore as pps\n",
    "import seaborn as sns\n",
    "import colorcet as cc\n",
    "# from pycaret import classification as pyc\n",
    "from pycaret import regression as pyr\n",
    "from pycaret.internal.tabular import _get_columns_to_stratify_by\n",
    "import pandas as pd"
   ]
  },
  {
   "cell_type": "code",
   "execution_count": 2,
   "id": "acc65b09",
   "metadata": {},
   "outputs": [],
   "source": [
    "mpl.rcdefaults()"
   ]
  },
  {
   "cell_type": "markdown",
   "id": "cd8ef3f4",
   "metadata": {
    "id": "9647d74a-8d80-4d24-a2f4-023184fa27ac"
   },
   "source": [
    "Create class to normalize asymmetric colorscales  \n",
    "(from [http://chris35wills.github.io/matplotlib_diverging_colorbar/](http://chris35wills.github.io/matplotlib_diverging_colorbar/))."
   ]
  },
  {
   "cell_type": "code",
   "execution_count": 3,
   "id": "3a016a53",
   "metadata": {
    "id": "652a8557-e595-4861-af72-5d3220fb7620",
    "jupyter": {
     "source_hidden": true
    },
    "tags": []
   },
   "outputs": [],
   "source": [
    "class MidpointNormalize(mcolors.Normalize):\n",
    "    \"\"\"\n",
    "    Normalise the colorbar so that diverging bars work there way either side from a prescribed midpoint value)\n",
    "\n",
    "    e.g. im=ax1.imshow(array, norm=MidpointNormalize(midpoint=0.,vmin=-100, vmax=100))\n",
    "    \"\"\"\n",
    "    def __init__(self, vmin=None, vmax=None, midpoint=None, clip=False):\n",
    "        self.midpoint = midpoint\n",
    "        mcolors.Normalize.__init__(self, vmin, vmax, clip)\n",
    "\n",
    "    def __call__(self, value, clip=None):\n",
    "        # I'm ignoring masked values and all kinds of edge cases to make a\n",
    "        # simple example...\n",
    "        x, y = [self.vmin, self.midpoint, self.vmax], [0, 0.5, 1]\n",
    "        return np.ma.masked_array(np.interp(value, x, y), np.isnan(value))"
   ]
  },
  {
   "cell_type": "markdown",
   "id": "40f1e7ae",
   "metadata": {
    "id": "0bc24aa0-581a-4c39-bc90-b18f85385e78"
   },
   "source": [
    "For future plots, we can configure their aspect too."
   ]
  },
  {
   "cell_type": "code",
   "execution_count": 4,
   "id": "6e693fe5",
   "metadata": {
    "id": "cc05a86c-85e4-46e7-9b7f-f8ac4abd4ff2",
    "jupyter": {
     "source_hidden": true
    },
    "tags": []
   },
   "outputs": [],
   "source": [
    "cmap           = cm.get_cmap('inferno')\n",
    "cmap_alt       = cm.get_cmap('Dark2')\n",
    "cmap_alt_2     = cm.get_cmap('Greys_r')  # Shades of grey\n",
    "cmap_alt_3     = cm.get_cmap('coolwarm')  # blue to red\n",
    "dark_color     = cmap(0.4)  # RGBA color code\n",
    "light_color    = cmap(0.6)  # RGBA color code\n",
    "colors         = [cmap(0.15), cmap(0.30), cmap(0.45), cmap(0.60), cmap(0.75), cmap(0.90)]\n",
    "colors_3       = [cmap(0.25), cmap(0.50), cmap(0.75)]\n",
    "colors_3_alt   = [cmap_alt(0.25), cmap_alt(0.50), cmap_alt(0.75)]\n",
    "colors_3_alt_2 = [cmap_alt_2(0.25), cmap_alt_2(0.50), cmap_alt_2(0.75)]\n",
    "colors_8       = [cmap(0.12), cmap(0.24), cmap(0.35), cmap(0.48), cmap(0.6), cmap(0.72), cmap(0.84), cmap(0.96)]\n",
    "colors_8_alt   = [cmap_alt(0.12), cmap_alt(0.24), cmap_alt(0.35), cmap_alt(0.48), cmap_alt(0.6), cmap_alt(0.72),\\\n",
    "                  cmap_alt(0.84), cmap_alt(0.96)]\n",
    "colors_8_alt_2 = [cmap_alt_2(0.06), cmap_alt_2(0.18), cmap_alt_2(0.29), cmap_alt_2(0.42), cmap_alt_2(0.54),\\\n",
    "                  cmap_alt_2(0.66), cmap_alt_2(0.78), cmap_alt_2(0.90)]\n",
    "colors_8_alt_3 = [cmap_alt_3(0.06), cmap_alt_3(0.18), cmap_alt_3(0.29), cmap_alt_3(0.42), cmap_alt_3(0.54),\\\n",
    "                  cmap_alt_3(0.66), cmap_alt_3(0.78), cmap_alt_3(0.90)]"
   ]
  },
  {
   "cell_type": "code",
   "execution_count": 5,
   "id": "f2b9a84a",
   "metadata": {
    "id": "f7b5bb0d-e1c0-415d-b7a8-3237c86e6c7b",
    "jupyter": {
     "source_hidden": true
    },
    "tags": []
   },
   "outputs": [],
   "source": [
    "pe1            = [mpe.Stroke(linewidth=5.0, foreground='black'),\n",
    "                  mpe.Stroke(foreground='white', alpha=1),\n",
    "                  mpe.Normal()]\n",
    "pe2            = [mpe.Stroke(linewidth=3.0, foreground='white'),\n",
    "                  mpe.Stroke(foreground='white', alpha=1),\n",
    "                  mpe.Normal()]\n",
    "\n",
    "alp_str        = r'$\\alpha$'"
   ]
  },
  {
   "cell_type": "markdown",
   "id": "de5b41f8",
   "metadata": {},
   "source": [
    "Define specific metrics for redshift values:  \n",
    "\n",
    "$$\n",
    "\\sigma_{\\mathrm{NMAD}} = 1.48 \\times \\mathrm{median}\\left(\\frac{|(z_{True} - z_{Predict})|}{(1 + z_{True})}\\right)\n",
    "$$"
   ]
  },
  {
   "cell_type": "code",
   "execution_count": 6,
   "id": "b2cd6bd5",
   "metadata": {
    "jupyter": {
     "source_hidden": true
    },
    "tags": []
   },
   "outputs": [],
   "source": [
    "def sigma_mad(z_true, z_pred, **kwargs):\n",
    "    med = np.nanmedian(np.abs(z_true - z_pred)).astype('float32')\n",
    "    return 1.48 * med"
   ]
  },
  {
   "cell_type": "code",
   "execution_count": 7,
   "id": "b7897de1",
   "metadata": {
    "jupyter": {
     "source_hidden": true
    },
    "tags": []
   },
   "outputs": [],
   "source": [
    "def sigma_nmad(z_true, z_pred, **kwargs):\n",
    "    dif  = (z_true - z_pred)\n",
    "    frac = dif / (1 + z_true).values\n",
    "    med  = np.nanmedian(np.abs(frac)).astype('float32')\n",
    "    return 1.48 * med"
   ]
  },
  {
   "cell_type": "code",
   "execution_count": 8,
   "id": "f2cb3e2e",
   "metadata": {
    "jupyter": {
     "source_hidden": true
    },
    "tags": []
   },
   "outputs": [],
   "source": [
    "def sigma_z(z_true, z_pred, **kwargs):\n",
    "    dif = z_true - z_pred\n",
    "    ssq = np.sum(dif**2)\n",
    "    rot = np.sqrt(ssq / len(z_true)).astype('float32')\n",
    "    return rot"
   ]
  },
  {
   "cell_type": "code",
   "execution_count": 9,
   "id": "2579554f",
   "metadata": {
    "jupyter": {
     "source_hidden": true
    },
    "tags": []
   },
   "outputs": [],
   "source": [
    "def sigma_z_norm(z_true, z_pred, **kwargs):\n",
    "    dif = (z_true - z_pred) / (1 + z_true)\n",
    "    ssq = np.sum(dif**2)\n",
    "    rot = np.sqrt(ssq / len(z_true)).astype('float32')\n",
    "    return rot"
   ]
  },
  {
   "cell_type": "code",
   "execution_count": 10,
   "id": "037fa628",
   "metadata": {
    "jupyter": {
     "source_hidden": true
    },
    "tags": []
   },
   "outputs": [],
   "source": [
    "def outlier_frac(z_true, z_pred, **kwargs):\n",
    "    dif  = np.abs((z_true - z_pred) / (1 + z_true))\n",
    "    siz  = np.sum(np.isfinite(dif)).astype('float32')\n",
    "    num  = np.sum(np.array(dif > 0.15)).astype('float32')\n",
    "    frac = num / siz\n",
    "    return frac"
   ]
  },
  {
   "cell_type": "markdown",
   "id": "c2a34a27",
   "metadata": {
    "id": "aacf1d05-0bd7-4cbe-a480-5bd658bc008c"
   },
   "source": [
    "Methdods for PyCaret and saved models."
   ]
  },
  {
   "cell_type": "code",
   "execution_count": 11,
   "id": "6ef05c35",
   "metadata": {
    "id": "86db6e67-85aa-4cd6-a3dc-bfe638bc69bb",
    "jupyter": {
     "source_hidden": true
    },
    "tags": []
   },
   "outputs": [],
   "source": [
    "def get_final_column_names(pycaret_pipeline, sample_df):\n",
    "    if isinstance(pycaret_pipeline, sklearn.pipeline.Pipeline):\n",
    "        for (name, method) in pycaret_pipeline.named_steps.items():\n",
    "            if method != 'passthrough' and name != 'trained_model':\n",
    "                print(f'Running {name}')\n",
    "                sample_df = method.transform(sample_df)\n",
    "        return sample_df.columns.tolist()\n",
    "    else:\n",
    "        for (name, method) in pyr.get_config('prep_pipe').named_steps.items():\n",
    "            if method != 'passthrough' and name != 'trained_model':\n",
    "                print(f'Running {name}')\n",
    "                sample_df = method.transform(sample_df)\n",
    "        return sample_df.columns.tolist()"
   ]
  },
  {
   "cell_type": "code",
   "execution_count": 12,
   "id": "7d529bc0",
   "metadata": {
    "id": "715acda9-475d-4c9c-8e99-4921da2e1152",
    "jupyter": {
     "source_hidden": true
    },
    "tags": []
   },
   "outputs": [],
   "source": [
    "def get_feature_importances_df(pycaret_pipeline, sample_df, n = 10):\n",
    "    \n",
    "    final_cols = get_final_column_names(pycaret_pipeline, sample_df)\n",
    "    \n",
    "    if isinstance(pycaret_pipeline, sklearn.pipeline.Pipeline):\n",
    "        try:\n",
    "            variables = pycaret_pipeline[\"trained_model\"].feature_importances_\n",
    "            \n",
    "        except:\n",
    "            variables = np.mean([\n",
    "                            tree.feature_importances_ for tree in pycaret_pipeline[\"trained_model\"].estimators_\n",
    "                if hasattr(tree, 'feature_importances_')\n",
    "                            ], axis=0)\n",
    "        \n",
    "        coef_df = pd.DataFrame({'Feature': final_cols, 'Importance': variables})\n",
    "        sorted_df = (\n",
    "            coef_df.sort_values(by='Importance', ascending=False)\n",
    "            .head(n)\n",
    "            .sort_values(by='Importance', ascending=True).reset_index(drop=True)\n",
    "        )\n",
    "    else:\n",
    "        try:\n",
    "            variables = pycaret_pipeline.feature_importances_\n",
    "            \n",
    "        except:\n",
    "            variables = np.mean([\n",
    "                            tree.feature_importances_ for tree in pycaret_pipeline.estimators_\n",
    "                if hasattr(tree, 'feature_importances_')\n",
    "                            ], axis=0)\n",
    "        \n",
    "        coef_df = pd.DataFrame({'Feature': final_cols, 'Importance': variables})\n",
    "        sorted_df = (\n",
    "            coef_df.sort_values(by='Importance', ascending=False)\n",
    "            .head(n)\n",
    "            .sort_values(by='Importance', ascending=True).reset_index(drop=True)\n",
    "        )\n",
    "    return sorted_df"
   ]
  },
  {
   "cell_type": "code",
   "execution_count": 13,
   "id": "f319f660",
   "metadata": {
    "jupyter": {
     "source_hidden": true
    },
    "tags": []
   },
   "outputs": [],
   "source": [
    "def plot_conf_mat(confusion_matrix, title, axin, display_labels=['Non true', 'True'], cmap='cet_dimgray_r', show_clb=False, log_stretch=False):\n",
    "    disp = ConfusionMatrixDisplay(confusion_matrix=confusion_matrix,\n",
    "                              display_labels=display_labels)\n",
    "\n",
    "    min_val_colour = np.nanmin(confusion_matrix)\n",
    "    max_val_colour = np.nanmin(confusion_matrix)\n",
    "    \n",
    "    if log_stretch:\n",
    "        norm = ImageNormalize(stretch=LogStretch())\n",
    "    if not log_stretch:\n",
    "        norm = ImageNormalize()\n",
    "\n",
    "    # NOTE: Fill all variables here with default values of the plot_confusion_matrix\n",
    "    disp_b = disp.plot(include_values=True, cmap=cm.get_cmap(cmap),\\\n",
    "             ax=axin, xticks_rotation='horizontal')\n",
    "\n",
    "    for text_val in disp_b.text_.flatten():\n",
    "        text_val.set_fontsize(30)\n",
    "    clb = plt.gca().images[-1].colorbar\n",
    "    clb.ax.tick_params(labelsize=14)\n",
    "    clb.ax.ticklabel_format(style='sci', scilimits=(0, 0))\n",
    "    clb.outline.set_linewidth(2.5)\n",
    "    clb.ax.set_ylabel('Elements in bin', size=14)\n",
    "    if not show_clb:\n",
    "        clb.remove()\n",
    "\n",
    "    # disp_b.im_.set_clim(1e2, 3e3)\n",
    "    disp_b.im_.norm = norm\n",
    "\n",
    "    axin.xaxis.get_label().set_fontsize(16)\n",
    "    axin.yaxis.get_label().set_fontsize(16)\n",
    "\n",
    "    axin.tick_params(axis='both', which='major', labelsize=14)\n",
    "\n",
    "    plt.setp(axin.spines.values(), linewidth=2.5)\n",
    "    plt.setp(axin.spines.values(), linewidth=2.5)\n",
    "    axin.set_title(title)\n",
    "    plt.tight_layout()"
   ]
  },
  {
   "cell_type": "code",
   "execution_count": 14,
   "id": "b9cfdff8",
   "metadata": {
    "jupyter": {
     "source_hidden": true
    }
   },
   "outputs": [],
   "source": [
    "def get_base_estimators_names(pycaret_pipeline):\n",
    "    if isinstance(pycaret_pipeline, sklearn.pipeline.Pipeline):\n",
    "        estimators  = pycaret_pipeline['trained_model'].estimators\n",
    "    else:\n",
    "        estimators  = pycaret_pipeline.estimators\n",
    "\n",
    "    estimators_list = [estimator[0] for estimator in estimators]\n",
    "    return estimators_list"
   ]
  },
  {
   "cell_type": "markdown",
   "id": "dc504c94",
   "metadata": {},
   "source": [
    "Method to compare and plot redshifts."
   ]
  },
  {
   "cell_type": "code",
   "execution_count": 15,
   "id": "06875a4e",
   "metadata": {
    "jupyter": {
     "source_hidden": true
    }
   },
   "outputs": [],
   "source": [
    "def plot_redshift_compare(true_z, predicted_z, ax_pre, title=None, dpi=10, cmap='cet_linear_kryw_5_100_c64_r', show_clb=False, log_stretch=False):\n",
    "    if log_stretch:\n",
    "        norm = ImageNormalize(vmin=0., stretch=LogStretch())\n",
    "    if not log_stretch:\n",
    "        norm = ImageNormalize(vmin=0., stretch=PowerStretch(0.3))\n",
    "\n",
    "    filt_pair_z   = np.isfinite(true_z) & np.isfinite(predicted_z)\n",
    "    max_for_range = np.nanmax([np.nanmax(1 + true_z.loc[filt_pair_z]), np.nanmax(1 + predicted_z.loc[filt_pair_z])])\n",
    "    min_for_range = np.nanmin([np.nanmin(1 + true_z.loc[filt_pair_z]), np.nanmin(1 + predicted_z.loc[filt_pair_z])])\n",
    "\n",
    "    dens_1 = ax_pre.scatter_density((1 + true_z.sample(frac=1, random_state=seed)),\\\n",
    "            (1 + predicted_z.sample(frac=1, random_state=seed)),\\\n",
    "            cmap=plt.get_cmap(cmap), zorder=0, dpi=dpi, norm=norm, alpha=0.93)\n",
    "    \n",
    "    ax_pre.axline((2., 2.), (3., 3.), ls='--', marker=None, c='Gray', alpha=0.8, lw=3.0, zorder=20)\n",
    "    ax_pre.axline(xy1=(1., 1.15), xy2=(2., 2.3), ls='-.', marker=None, c='slateblue', alpha=0.6, lw=3.0, zorder=20)\n",
    "    ax_pre.axline(xy1=(1., 0.85), xy2=(2., 1.7), ls='-.', marker=None, c='slateblue', alpha=0.6, lw=3.0, zorder=20)\n",
    "\n",
    "    if show_clb:\n",
    "        clb = plt.colorbar(dens_1, extend='neither', norm=norm, ticks=ticker.MaxNLocator(integer=True))\n",
    "        clb.ax.tick_params(labelsize=14)\n",
    "        clb.outline.set_linewidth(2.5)\n",
    "        clb.ax.set_ylabel('Elements per pixel', size=16, path_effects=pe2)\n",
    "\n",
    "    # Inset axis with residuals\n",
    "    axins = inset_axes(ax_pre, width='35%', height='20%', loc=2)\n",
    "    res_z_z = (predicted_z - true_z) / (1 + true_z)\n",
    "    axins.hist(res_z_z, histtype='stepfilled', fc='grey', ec='k', bins=50, lw=2.5)\n",
    "    axins.axvline(x=np.nanpercentile(res_z_z, [15.9]), ls='--', lw=2.5, c='royalblue')\n",
    "    axins.axvline(x=np.nanpercentile(res_z_z, [84.1]), ls='--', lw=2.5, c='royalblue')\n",
    "    axins.set_xlabel('$\\Delta z / (1 + z_{\\mathrm{True}})$', fontsize=10)\n",
    "    axins.tick_params(labelleft=False, labelbottom=True)\n",
    "    axins.tick_params(which='both', top=True, right=True, direction='in')\n",
    "    axins.tick_params(axis='both', which='major', labelsize=10)\n",
    "    axins.tick_params(which='major', length=8, width=1.5)\n",
    "    axins.tick_params(which='minor', length=4, width=1.5)\n",
    "    plt.setp(axins.spines.values(), linewidth=2.5)\n",
    "    plt.setp(axins.spines.values(), linewidth=2.5)\n",
    "    axins.set_xlim(left=-0.9, right=0.9)\n",
    "    ##\n",
    "    ax_pre.set_xlabel('$1 + z_{\\mathrm{True}}$', fontsize=20)\n",
    "    ax_pre.set_ylabel('$1 + z_{\\mathrm{Predicted}}$', fontsize=20)\n",
    "    ax_pre.tick_params(which='both', top=True, right=True, direction='in')\n",
    "    ax_pre.tick_params(axis='both', which='minor', labelsize=14)\n",
    "    ax_pre.tick_params(which='major', length=8, width=1.5)\n",
    "    ax_pre.tick_params(which='minor', length=4, width=1.5)\n",
    "    # ax_pre.xaxis.set_major_locator(ticker.MaxNLocator(integer=True))\n",
    "    # ax_pre.yaxis.set_major_locator(ticker.MaxNLocator(integer=True))\n",
    "    ax_pre.xaxis.set_minor_formatter(ticker.ScalarFormatter(useMathText=False))\n",
    "    ax_pre.yaxis.set_minor_formatter(ticker.ScalarFormatter(useMathText=False))\n",
    "    plt.setp(ax_pre.spines.values(), linewidth=2.5)\n",
    "    plt.setp(ax_pre.spines.values(), linewidth=2.5)\n",
    "    ax_pre.set_xlim(left=np.floor(min_for_range), right=np.ceil(max_for_range))\n",
    "    ax_pre.set_ylim(bottom=np.floor(min_for_range), top=np.ceil(max_for_range))\n",
    "    ax_pre.set_title(title, fontsize=14)\n",
    "    plt.tight_layout()"
   ]
  },
  {
   "cell_type": "markdown",
   "id": "cb168267",
   "metadata": {
    "id": "8222df68-1b98-436b-af43-d9f38d015ba6"
   },
   "source": [
    "***"
   ]
  },
  {
   "cell_type": "markdown",
   "id": "f2ef20ba",
   "metadata": {
    "id": "e2ce5669-172d-4ed4-b6fe-5fff8afc7df5"
   },
   "source": [
    "## Reading data"
   ]
  },
  {
   "cell_type": "code",
   "execution_count": 16,
   "id": "d149532d",
   "metadata": {
    "id": "b0619b32-391c-4f18-8284-d1fabf6a800c",
    "tags": []
   },
   "outputs": [],
   "source": [
    "cat_path = '../../Catalogs/'  # relative path to the same directory"
   ]
  },
  {
   "cell_type": "markdown",
   "id": "3a410303",
   "metadata": {
    "id": "c4e41fd8-fbc5-4185-b03e-8a57634a05a9"
   },
   "source": [
    "We import our data using the `pandas` package."
   ]
  },
  {
   "cell_type": "code",
   "execution_count": 17,
   "id": "3ef90ae1",
   "metadata": {},
   "outputs": [],
   "source": [
    "save_plot_flag  = False\n",
    "save_model_flag = False\n",
    "load_model_flag = False"
   ]
  },
  {
   "cell_type": "code",
   "execution_count": 18,
   "id": "98462ac1",
   "metadata": {},
   "outputs": [],
   "source": [
    "use_5sigma = True  # use files with 5-sigma magnitude imputation"
   ]
  },
  {
   "cell_type": "code",
   "execution_count": 19,
   "id": "9438b67d",
   "metadata": {},
   "outputs": [],
   "source": [
    "mqc_version = '7_4d'  # '7_2'"
   ]
  },
  {
   "cell_type": "code",
   "execution_count": 20,
   "id": "d601413b",
   "metadata": {
    "id": "c69bd7ee-7184-46e3-a6cb-1a66cb75d6ae",
    "tags": []
   },
   "outputs": [],
   "source": [
    "file_name_train = f'CatWISE2020_VLASS_LOFAR_PS1_GALEX_TGSS_XMM_2MASS_MILLIQUAS_{mqc_version}_ALLWISE_LOLSS_SDSS_DR16_5sigma_imp.h5'  # 6729647 objects (6.7e6)"
   ]
  },
  {
   "cell_type": "markdown",
   "id": "290a14c5",
   "metadata": {
    "id": "2cd751bd-1eb4-4c54-b6fa-418773ac8938"
   },
   "source": [
    "First, open the file as astropy Table to modify (and standardise)  \n",
    "the units of fluxes and/or magnitudes."
   ]
  },
  {
   "cell_type": "markdown",
   "id": "72921238",
   "metadata": {
    "id": "d0ce0178-04a7-4113-bbb8-1b70ce220764"
   },
   "source": [
    "---"
   ]
  },
  {
   "cell_type": "markdown",
   "id": "e83108cc",
   "metadata": {
    "id": "6e66f66c-4987-4340-bf82-7d8e218033fb"
   },
   "source": [
    "Create `pandas` DataFrame from `astropy` table."
   ]
  },
  {
   "cell_type": "code",
   "execution_count": 21,
   "id": "4e23dd73",
   "metadata": {},
   "outputs": [],
   "source": [
    "features_2_discard = ['objID', 'RA_ICRS', 'DE_ICRS', 'Name', 'RA_MILLI', 'DEC_MILLI',\\\n",
    "                     'TYPE', 'X_ray_detect', 'Total_flux_VLASS',\\\n",
    "                     'Sint_LOFAR', 'Stotal_TGSS', 'FEP', 'TotalFlux_LoLSS', 'W1mag', 'W2mag'] # , 'mode',\\\n",
    "                     # 'class', 'f_zsp', 'subCl', 'zph', 'e_zph']  # Not needed for training in this model"
   ]
  },
  {
   "cell_type": "code",
   "execution_count": 22,
   "id": "d0c780c1",
   "metadata": {
    "id": "498083f5-b8c6-44aa-8de4-75b1dc899296",
    "tags": []
   },
   "outputs": [],
   "source": [
    "full_catalog_df = pd.read_hdf(cat_path + file_name_train, key='df').drop(columns=features_2_discard)"
   ]
  },
  {
   "cell_type": "code",
   "execution_count": 23,
   "id": "aa53cc28",
   "metadata": {},
   "outputs": [],
   "source": [
    "full_catalog_df.loc[:, 'radio_detect'] = full_catalog_df.loc[:, 'radio_detect'].astype(int)"
   ]
  },
  {
   "cell_type": "code",
   "execution_count": 24,
   "id": "2875c8cc",
   "metadata": {},
   "outputs": [],
   "source": [
    "# full_catalog_df.describe()"
   ]
  },
  {
   "cell_type": "markdown",
   "id": "aabc5614",
   "metadata": {},
   "source": [
    "Combine redshift values (AGN + galaxies)."
   ]
  },
  {
   "cell_type": "code",
   "execution_count": 25,
   "id": "4b53ebfe",
   "metadata": {},
   "outputs": [],
   "source": [
    "idx_non_Z                = full_catalog_df.loc[:, 'Z'].where(full_catalog_df.loc[:, 'Z'] > 0).isna()\n",
    "full_catalog_df.loc[idx_non_Z, 'Z'] = full_catalog_df.loc[:, 'Z'].mask(idx_non_Z, full_catalog_df.loc[idx_non_Z, 'zsp'])"
   ]
  },
  {
   "cell_type": "markdown",
   "id": "78f689df",
   "metadata": {},
   "source": [
    "#### Select only confirmed radio AGN"
   ]
  },
  {
   "cell_type": "code",
   "execution_count": 26,
   "id": "ad3d8613",
   "metadata": {},
   "outputs": [],
   "source": [
    "# full_catalog_df = full_catalog_df.loc[(full_catalog_df.loc[:, 'is_gal'] == 1) | (full_catalog_df.loc[:, 'is_AGN'] == 1)]\n",
    "filter_confirmed = full_catalog_df.loc[:, 'is_AGN'] == 1\n",
    "filter_redshift  = (full_catalog_df.loc[:, 'Z'] > 0) | (full_catalog_df.loc[:, 'zsp'] > 0)\n",
    "filter_radio     = full_catalog_df.loc[:, 'radio_detect'] == 1\n",
    "full_catalog_df  = full_catalog_df.loc[filter_confirmed & filter_redshift & filter_radio]"
   ]
  },
  {
   "cell_type": "markdown",
   "id": "ea173c50",
   "metadata": {
    "tags": []
   },
   "source": [
    "#### Select high-redshift sources"
   ]
  },
  {
   "cell_type": "code",
   "execution_count": 27,
   "id": "c0be58c0",
   "metadata": {},
   "outputs": [],
   "source": [
    "redshift_low_lim = 4.0\n",
    "filter_high_z    = full_catalog_df.loc[:, 'Z'] >= redshift_low_lim\n",
    "full_catalog_df  = full_catalog_df.loc[filter_high_z]"
   ]
  },
  {
   "cell_type": "code",
   "execution_count": 28,
   "id": "53347fb3",
   "metadata": {
    "tags": []
   },
   "outputs": [
    {
     "name": "stdout",
     "output_type": "stream",
     "text": [
      "In this dataset, with 36 elements,\n",
      "36 of them are marked as AGN, 0 have been indentified as galaxies, and 36 are identified as radio detections.\n"
     ]
    }
   ],
   "source": [
    "n_full   = len(full_catalog_df)\n",
    "n_is_AGN = np.sum(full_catalog_df.loc[:, 'is_AGN'] == 1)\n",
    "n_is_gal = np.sum(full_catalog_df.loc[:, 'is_gal'] == 1)\n",
    "n_is_rad = np.sum(full_catalog_df.loc[:, 'radio_detect'] == 1)\n",
    "print(f'In this dataset, with {n_full:,} elements,\\n' +\\\n",
    "         f'{n_is_AGN:,} of them are marked as AGN, {n_is_gal:,} have been indentified as galaxies,' +\\\n",
    "      f' and {n_is_rad:,} are identified as radio detections.')"
   ]
  },
  {
   "cell_type": "markdown",
   "id": "cf7376d0",
   "metadata": {
    "id": "6619390c-a04f-4bd0-9f97-9ca54bc9c764"
   },
   "source": [
    "---"
   ]
  },
  {
   "cell_type": "markdown",
   "id": "c999cd1a",
   "metadata": {
    "id": "e1111608-acd0-41fd-a79d-831539eb56b9"
   },
   "source": [
    "## Possible correlations"
   ]
  },
  {
   "cell_type": "code",
   "execution_count": 29,
   "id": "dc04a702",
   "metadata": {
    "id": "c5787752-376d-4409-bda6-ed1ab94bbe9b",
    "jupyter": {
     "source_hidden": true
    },
    "outputId": "80a70466-b8d8-4390-8734-77688a25a7de",
    "tags": []
   },
   "outputs": [
    {
     "name": "stdout",
     "output_type": "stream",
     "text": [
      "['Z', 'zsp', 'band_num', 'radio_detect', 'is_AGN', 'is_SDSS_gal', 'is_gal', 'W1mproPM', 'W2mproPM', 'gmag', 'rmag', 'imag', 'zmag', 'ymag', 'FUVmag', 'NUVmag', 'Jmag', 'Hmag', 'Kmag', 'W3mag', 'W4mag', 'g_r', 'r_i', 'i_z', 'z_y', 'g_i', 'w1_w2', 'w2_w3', 'w3_w4', 'J_H', 'H_K', 'FUV_NUV', 'r/z', 'i/y', 'w1/w3', 'w1/w4', 'w2/w4', 'J/K', 'FUV/K', 'g/J', 'r/H', 'i/K', 'z/W1', 'y/W2']\n"
     ]
    }
   ],
   "source": [
    "print(full_catalog_df.columns.to_list())"
   ]
  },
  {
   "cell_type": "markdown",
   "id": "a39a14f3",
   "metadata": {
    "id": "27645d12-9370-40d8-aeba-24d4415bb9eb"
   },
   "source": [
    "---"
   ]
  },
  {
   "cell_type": "markdown",
   "id": "48abd460",
   "metadata": {
    "id": "u4vi69d_pPbd"
   },
   "source": [
    "## Random seed"
   ]
  },
  {
   "cell_type": "code",
   "execution_count": 30,
   "id": "7eb318ae",
   "metadata": {
    "id": "8byjjVU3pOjM"
   },
   "outputs": [],
   "source": [
    "seed = 42"
   ]
  },
  {
   "cell_type": "markdown",
   "id": "7fe52121",
   "metadata": {},
   "source": [
    "Create target"
   ]
  },
  {
   "cell_type": "markdown",
   "id": "5fcb88a7",
   "metadata": {},
   "source": [
    "$0$ for galaxies and $1$ for AGN"
   ]
  },
  {
   "cell_type": "code",
   "execution_count": 31,
   "id": "04ea9ccf",
   "metadata": {},
   "outputs": [],
   "source": [
    "# full_catalog_df['class'] = full_catalog_df.loc[:, 'is_AGN'].copy()"
   ]
  },
  {
   "cell_type": "markdown",
   "id": "2f089dcc",
   "metadata": {},
   "source": [
    "Remove intermediate targets"
   ]
  },
  {
   "cell_type": "code",
   "execution_count": 32,
   "id": "6c5131e3",
   "metadata": {},
   "outputs": [],
   "source": [
    "full_catalog_df = full_catalog_df.drop(columns=['is_AGN', 'is_SDSS_gal', 'is_gal', 'radio_detect', 'zsp'])"
   ]
  },
  {
   "cell_type": "markdown",
   "id": "67105d80",
   "metadata": {},
   "source": [
    "---"
   ]
  },
  {
   "cell_type": "markdown",
   "id": "1bfd72e0",
   "metadata": {},
   "source": [
    "#### Add prediction from first AGN/galaxy model as feature."
   ]
  },
  {
   "cell_type": "code",
   "execution_count": 33,
   "id": "927b22a7",
   "metadata": {},
   "outputs": [],
   "source": [
    "# AGN_gal_clf = pyc.load_model('models/classification_AGN_galaxy_apr_20_2022')"
   ]
  },
  {
   "cell_type": "code",
   "execution_count": 34,
   "id": "4afef4d6",
   "metadata": {},
   "outputs": [],
   "source": [
    "# AGN_pred_threshold = 0.5\n",
    "# full_catalog_df    = pyc.predict_model(AGN_gal_clf, data=full_catalog_df, probability_threshold=AGN_pred_threshold, raw_score=False).drop(columns=['Score'])"
   ]
  },
  {
   "cell_type": "code",
   "execution_count": 35,
   "id": "1af97671",
   "metadata": {},
   "outputs": [],
   "source": [
    "# full_catalog_df = full_catalog_df.rename(columns={'Label': 'class'})"
   ]
  },
  {
   "cell_type": "markdown",
   "id": "5298de1f",
   "metadata": {},
   "source": [
    "---"
   ]
  },
  {
   "cell_type": "markdown",
   "id": "be00486a",
   "metadata": {},
   "source": [
    "## Split data: Test, Train, Validation"
   ]
  },
  {
   "cell_type": "code",
   "execution_count": 36,
   "id": "e16ee8f3",
   "metadata": {
    "jupyter": {
     "source_hidden": true
    },
    "tags": []
   },
   "outputs": [
    {
     "name": "stdout",
     "output_type": "stream",
     "text": [
      "Shape of used data\n",
      "----------------------------------------\n",
      "Full Dataset size: (36, 39)\n",
      "Data for Modeling (Train and Test): (29, 39)\n",
      "Unseen Data For Validation: (7, 39)\n",
      "----------------------------------------\n"
     ]
    }
   ],
   "source": [
    "# train_test_df, validation_df = train_test_split(full_catalog_df, test_size=0.2,\\\n",
    "#                                                 random_state=seed, stratify=None)\n",
    "train_test_df = full_catalog_df.loc[np.isfinite(full_catalog_df.loc[:, 'Z'])].sample(frac=0.8, random_state=seed)  # Train + test sets\n",
    "validation_df = full_catalog_df.drop(train_test_df.index)  # Validation data\n",
    "\n",
    "print('Shape of used data')\n",
    "print('-' * 40)\n",
    "print(f'Full Dataset size: {full_catalog_df.shape}')\n",
    "print(f'Data for Modeling (Train and Test): {train_test_df.shape}')\n",
    "print(f'Unseen Data For Validation: {validation_df.shape}')\n",
    "print('-' * 40)"
   ]
  },
  {
   "cell_type": "code",
   "execution_count": 37,
   "id": "92c47966",
   "metadata": {
    "jupyter": {
     "source_hidden": true
    },
    "tags": []
   },
   "outputs": [
    {
     "data": {
      "image/png": "[encoded data removed]",
      "text/plain": [
       "<Figure size 700x450 with 1 Axes>"
      ]
     },
     "metadata": {},
     "output_type": "display_data"
    }
   ],
   "source": [
    "fig             = plt.figure(figsize=(7,4.5))\n",
    "ax1             = fig.add_subplot(111, xscale='linear', yscale='log')\n",
    "\n",
    "min_score  = np.nanmin(full_catalog_df.loc[:, 'Z'])\n",
    "max_score  = np.nanmax(full_catalog_df.loc[:, 'Z'])\n",
    "score_bins = np.linspace(min_score, max_score, 30)\n",
    "\n",
    "ax1.hist(train_test_df.loc[:, 'Z'], bins=score_bins, histtype='stepfilled', ec='k',\\\n",
    "         lw=3.5, color=cm.get_cmap('cet_gray')(0.8), alpha=1.0, label='Train+Test')\n",
    "ax1.hist(validation_df.loc[:, 'Z'], bins=score_bins, histtype='stepfilled', ec='k',\\\n",
    "         lw=3.5, color=cm.get_cmap('cet_gray')(0.95), alpha=1.0, label='Validation')\n",
    "\n",
    "ax1.axvline(x=redshift_low_lim, ls='--', c='k', lw=2.5)\n",
    "    \n",
    "ax1.tick_params(which='both', top=True, right=True, direction='in')\n",
    "ax1.tick_params(axis='both', which='major', labelsize=14)\n",
    "ax1.tick_params(which='major', length=8, width=1.5)\n",
    "ax1.tick_params(which='minor', length=4, width=1.5)\n",
    "ax1.set_xlabel('Redshift', size=20)\n",
    "ax1.set_ylabel('Frequency', size=20)\n",
    "plt.setp(ax1.spines.values(), linewidth=3.5)\n",
    "plt.setp(ax1.spines.values(), linewidth=3.5)\n",
    "plt.legend(loc=1, fontsize=14)\n",
    "plt.grid(False)\n",
    "# ax1.set_xlim(left=min_score - 1e-2, right=max_score + 1e-2)\n",
    "#ax1.set_aspect('equal', 'box')\n",
    "fig.tight_layout()"
   ]
  },
  {
   "cell_type": "markdown",
   "id": "68ab0e99",
   "metadata": {},
   "source": [
    "Save indices of sources in validation sub-set for future steps."
   ]
  },
  {
   "cell_type": "code",
   "execution_count": 38,
   "id": "9754def5",
   "metadata": {},
   "outputs": [],
   "source": [
    "# val_idx = validation_df.index.to_numpy()\n",
    "# np.savetxt(fname='idx_validation_radio_01.txt', X=val_idx, header='Indices from first radio detection training.', fmt='%i')"
   ]
  },
  {
   "cell_type": "markdown",
   "id": "8cabf12b",
   "metadata": {},
   "source": [
    "---"
   ]
  },
  {
   "cell_type": "markdown",
   "id": "f3d10ce0",
   "metadata": {},
   "source": [
    "## Use Correlation matrix to discard some features"
   ]
  },
  {
   "cell_type": "code",
   "execution_count": 39,
   "id": "db2259d0",
   "metadata": {
    "jupyter": {
     "source_hidden": true
    },
    "tags": []
   },
   "outputs": [],
   "source": [
    "min_max_scaler              = MinMaxScaler(feature_range=(0., 1.))\n",
    "full_scaled                 = min_max_scaler.fit_transform(train_test_df.values)\n",
    "norm_train_test_df = pd.DataFrame(data=full_scaled, columns=train_test_df.columns, index=train_test_df.index)"
   ]
  },
  {
   "cell_type": "markdown",
   "id": "4257d8ed",
   "metadata": {},
   "source": [
    "Calculate Reduced Standard deviation to discard between pairs of features:  \n",
    "\n",
    "$$\\mathrm{RSD} = \\frac{\\sigma}{\\mu} \\times 100$$"
   ]
  },
  {
   "cell_type": "code",
   "execution_count": 40,
   "id": "12292d83",
   "metadata": {},
   "outputs": [],
   "source": [
    "rsd_vals = (train_test_df.std() / train_test_df.mean() * 100).sort_values(ascending=False)"
   ]
  },
  {
   "cell_type": "code",
   "execution_count": 41,
   "id": "9230fc7b",
   "metadata": {},
   "outputs": [
    {
     "data": {
      "text/plain": [
       "i_z           111.866796\n",
       "r_i            91.261982\n",
       "g_r            41.034132\n",
       "g_i            36.552821\n",
       "w2_w3          25.964388\n",
       "band_num       16.347392\n",
       "w3_w4          14.077399\n",
       "J_H            13.877810\n",
       "Z              12.580329\n",
       "H_K            12.272223\n",
       "rmag            6.377329\n",
       "r/H             6.142945\n",
       "ymag            6.019307\n",
       "imag            5.829419\n",
       "i/K             5.762474\n",
       "gmag            5.373820\n",
       "W1mproPM        5.100007\n",
       "g/J             5.090185\n",
       "zmag            5.074010\n",
       "w1/w4           4.889444\n",
       "W2mproPM        4.506537\n",
       "w2/w4           4.260402\n",
       "w1/w3           4.078287\n",
       "y/W2            3.268174\n",
       "r/z             3.214269\n",
       "z/W1            3.107321\n",
       "i/y             2.769952\n",
       "W3mag           2.027430\n",
       "Jmag            0.780091\n",
       "Hmag            0.624376\n",
       "J/K             0.607491\n",
       "W4mag           0.514573\n",
       "FUV/K           0.179634\n",
       "Kmag            0.178031\n",
       "FUV_NUV        -0.000000\n",
       "NUVmag          0.000000\n",
       "FUVmag          0.000000\n",
       "w1_w2        -838.455206\n",
       "z_y        -14143.294051\n",
       "dtype: float64"
      ]
     },
     "execution_count": 41,
     "metadata": {},
     "output_type": "execute_result"
    }
   ],
   "source": [
    "rsd_vals"
   ]
  },
  {
   "cell_type": "code",
   "execution_count": 42,
   "id": "79d80215",
   "metadata": {},
   "outputs": [],
   "source": [
    "correlation = norm_train_test_df.corr()"
   ]
  },
  {
   "cell_type": "code",
   "execution_count": 43,
   "id": "1c708d48",
   "metadata": {
    "jupyter": {
     "source_hidden": true
    },
    "tags": []
   },
   "outputs": [],
   "source": [
    "filt_high_corr = np.array(correlation.abs().unstack().sort_values(ascending=False).drop_duplicates().values > 0.75) &\\\n",
    "np.array(correlation.abs().unstack().sort_values(ascending=False).drop_duplicates().values < 1.00)"
   ]
  },
  {
   "cell_type": "code",
   "execution_count": 44,
   "id": "b43fde48",
   "metadata": {
    "jupyter": {
     "source_hidden": true
    },
    "tags": []
   },
   "outputs": [],
   "source": [
    "corr_pairs     = correlation.abs().unstack().sort_values(ascending=False).drop_duplicates().index[filt_high_corr]"
   ]
  },
  {
   "cell_type": "code",
   "execution_count": 45,
   "id": "bbe8f74e",
   "metadata": {},
   "outputs": [],
   "source": [
    "target_feat = 'Z'"
   ]
  },
  {
   "cell_type": "code",
   "execution_count": 46,
   "id": "c6491c08",
   "metadata": {
    "jupyter": {
     "source_hidden": true
    },
    "tags": []
   },
   "outputs": [],
   "source": [
    "list_drop_corr = []"
   ]
  },
  {
   "cell_type": "markdown",
   "id": "5de4a5a9",
   "metadata": {},
   "source": [
    "We want to discard features that are highly correlated (>0.75).  \n",
    "Between two features, we will discard the one with the lowest standard deviation (RSD)."
   ]
  },
  {
   "cell_type": "code",
   "execution_count": 47,
   "id": "5a1f911f",
   "metadata": {
    "jupyter": {
     "source_hidden": true
    },
    "tags": []
   },
   "outputs": [],
   "source": [
    "for row in corr_pairs:\n",
    "    if target_feat in row:\n",
    "        continue\n",
    "    elif row[0] in list_drop_corr:\n",
    "        continue\n",
    "    elif row[1] in list_drop_corr:\n",
    "        continue\n",
    "    else:\n",
    "        metric_a = rsd_vals[row[0]]\n",
    "        metric_b = rsd_vals[row[1]]\n",
    "        if metric_a >= metric_b:\n",
    "            list_drop_corr.append(row[1])\n",
    "        else:\n",
    "            list_drop_corr.append(row[0])"
   ]
  },
  {
   "cell_type": "code",
   "execution_count": 48,
   "id": "df119a43",
   "metadata": {},
   "outputs": [
    {
     "data": {
      "text/plain": [
       "['i/K',\n",
       " 'r/H',\n",
       " 'w1/w4',\n",
       " 'w2/w4',\n",
       " 'g/J',\n",
       " 'W3mag',\n",
       " 'zmag',\n",
       " 'W2mproPM',\n",
       " 'r/z',\n",
       " 'W1mproPM',\n",
       " 'w1/w3',\n",
       " 'z_y',\n",
       " 'gmag',\n",
       " 'imag',\n",
       " 'ymag',\n",
       " 'W4mag']"
      ]
     },
     "execution_count": 48,
     "metadata": {},
     "output_type": "execute_result"
    }
   ],
   "source": [
    "list_drop_corr"
   ]
  },
  {
   "cell_type": "code",
   "execution_count": 49,
   "id": "a00003da",
   "metadata": {},
   "outputs": [],
   "source": [
    "# correlation.abs().unstack().sort_values(ascending=False).drop_duplicates()[:15]"
   ]
  },
  {
   "cell_type": "code",
   "execution_count": 50,
   "id": "b0310ccc",
   "metadata": {},
   "outputs": [],
   "source": [
    "norm_train_test_discard = norm_train_test_df.drop(columns=list_drop_corr)"
   ]
  },
  {
   "cell_type": "code",
   "execution_count": 51,
   "id": "0ab79580",
   "metadata": {},
   "outputs": [],
   "source": [
    "corr_discard = norm_train_test_discard.corr()"
   ]
  },
  {
   "cell_type": "code",
   "execution_count": 52,
   "id": "81703792",
   "metadata": {},
   "outputs": [
    {
     "data": {
      "text/plain": [
       "Hmag   FUV/K       1.000000\n",
       "Kmag   J_H         1.000000\n",
       "w1_w2  y/W2        0.730530\n",
       "rmag   band_num    0.729721\n",
       "z/W1   i/y         0.728606\n",
       "FUV/K  w3_w4       0.721226\n",
       "w3_w4  H_K         0.721226\n",
       "       Hmag        0.721226\n",
       "i/y    Z           0.677432\n",
       "r_i    g_i         0.662379\n",
       "rmag   Z           0.656733\n",
       "g_r    w1_w2       0.638816\n",
       "       g_i         0.615250\n",
       "rmag   w2_w3       0.609990\n",
       "i_z    rmag        0.609368\n",
       "dtype: float64"
      ]
     },
     "execution_count": 52,
     "metadata": {},
     "output_type": "execute_result"
    }
   ],
   "source": [
    "corr_discard.abs().unstack().sort_values(ascending=False).drop_duplicates()[:15]"
   ]
  },
  {
   "cell_type": "code",
   "execution_count": 53,
   "id": "949e792b",
   "metadata": {
    "jupyter": {
     "source_hidden": true
    },
    "tags": []
   },
   "outputs": [
    {
     "data": {
      "text/plain": [
       "Text(1049.9166666666667, 0.5, 'feature')"
      ]
     },
     "execution_count": 53,
     "metadata": {},
     "output_type": "execute_result"
    },
    {
     "data": {
      "image/png": "[encoded data removed]",
      "text/plain": [
       "<Figure size 3000x1500 with 2 Axes>"
      ]
     },
     "metadata": {},
     "output_type": "display_data"
    }
   ],
   "source": [
    "plt.figure(figsize=(30,15))\n",
    "sns.set_context('paper', rc={'axes.labelsize':20, 'axes.ticklabelsize':14})\n",
    "ax1 = sns.heatmap(corr_discard, annot=True, cmap=plt.get_cmap('cet_CET_D1A'), center=0.0, square=True)\n",
    "ax1.set_xlabel('feature')\n",
    "ax1.set_ylabel('feature')"
   ]
  },
  {
   "cell_type": "code",
   "execution_count": 54,
   "id": "ea40964a",
   "metadata": {},
   "outputs": [],
   "source": [
    "# norm_train_test_discard.loc[:, 'Z'] = norm_train_test_discard.loc[:, 'Z'].astype(bool)"
   ]
  },
  {
   "cell_type": "code",
   "execution_count": 55,
   "id": "3cce81c6",
   "metadata": {},
   "outputs": [],
   "source": [
    "pps_matrix = pps.matrix(norm_train_test_discard, random_seed=seed)[['x', 'y', 'ppscore']].pivot(columns='x', index='y', values='ppscore')"
   ]
  },
  {
   "cell_type": "code",
   "execution_count": 56,
   "id": "22d62cc2",
   "metadata": {},
   "outputs": [
    {
     "data": {
      "text/plain": [
       "x         y       \n",
       "FUV/K     FUV/K       1.000000\n",
       "g_i       r_i         0.454819\n",
       "y/W2      w2_w3       0.388546\n",
       "Z         g_i         0.346569\n",
       "y/W2      z/W1        0.302811\n",
       "g_i       g_r         0.293186\n",
       "w1_w2     y/W2        0.275217\n",
       "          i_z         0.222330\n",
       "z/W1      y/W2        0.216712\n",
       "y/W2      w1_w2       0.203272\n",
       "g_r       g_i         0.200580\n",
       "i/y       g_r         0.191160\n",
       "band_num  rmag        0.177260\n",
       "i/y       y/W2        0.161874\n",
       "r_i       Z           0.159539\n",
       "Z         r_i         0.132243\n",
       "r_i       g_i         0.109406\n",
       "rmag      band_num    0.105887\n",
       "y/W2      rmag        0.098444\n",
       "z/W1      Z           0.090362\n",
       "dtype: float64"
      ]
     },
     "execution_count": 56,
     "metadata": {},
     "output_type": "execute_result"
    }
   ],
   "source": [
    "pps_matrix.unstack().sort_values(ascending=False).drop_duplicates()[:20]"
   ]
  },
  {
   "cell_type": "code",
   "execution_count": 57,
   "id": "35677755",
   "metadata": {
    "jupyter": {
     "source_hidden": true
    },
    "tags": []
   },
   "outputs": [],
   "source": [
    "filt_high_pps = np.array(pps_matrix.abs().unstack().sort_values(ascending=False).drop_duplicates().values > 0.75) &\\\n",
    "np.array(pps_matrix.abs().unstack().sort_values(ascending=False).drop_duplicates().values < 1.00)"
   ]
  },
  {
   "cell_type": "code",
   "execution_count": 58,
   "id": "ec4f2bb8",
   "metadata": {},
   "outputs": [],
   "source": [
    "pps_pairs     = pps_matrix.abs().unstack().sort_values(ascending=False).drop_duplicates().index[filt_high_pps]"
   ]
  },
  {
   "cell_type": "code",
   "execution_count": 59,
   "id": "d4cd2780",
   "metadata": {},
   "outputs": [],
   "source": [
    "target_feat = 'Z'"
   ]
  },
  {
   "cell_type": "code",
   "execution_count": 60,
   "id": "ae80bb5a",
   "metadata": {
    "tags": []
   },
   "outputs": [],
   "source": [
    "list_drop_pps = []"
   ]
  },
  {
   "cell_type": "code",
   "execution_count": 61,
   "id": "aecfa2aa",
   "metadata": {
    "jupyter": {
     "source_hidden": true
    },
    "tags": []
   },
   "outputs": [],
   "source": [
    "for row in pps_pairs:\n",
    "    if target_feat in row:\n",
    "        continue\n",
    "    elif row[0] in list_drop_pps:\n",
    "        continue\n",
    "    elif row[1] in list_drop_pps:\n",
    "        continue\n",
    "    else:\n",
    "        metric_a = rsd_vals[row[0]]\n",
    "        metric_b = rsd_vals[row[1]]\n",
    "        if metric_a >= metric_b:\n",
    "            list_drop_pps.append(row[1])\n",
    "        else:\n",
    "            list_drop_pps.append(row[0])"
   ]
  },
  {
   "cell_type": "code",
   "execution_count": 62,
   "id": "cf75033b",
   "metadata": {},
   "outputs": [
    {
     "data": {
      "text/plain": [
       "[]"
      ]
     },
     "execution_count": 62,
     "metadata": {},
     "output_type": "execute_result"
    }
   ],
   "source": [
    "list_drop_pps"
   ]
  },
  {
   "cell_type": "code",
   "execution_count": 63,
   "id": "15f51191",
   "metadata": {},
   "outputs": [],
   "source": [
    "norm_train_test_discard = norm_train_test_discard.drop(columns=list_drop_pps)"
   ]
  },
  {
   "cell_type": "code",
   "execution_count": 64,
   "id": "8971b70b",
   "metadata": {},
   "outputs": [],
   "source": [
    "pps_pred_target = pps.predictors(norm_train_test_discard, 'Z', random_seed=seed)"
   ]
  },
  {
   "cell_type": "code",
   "execution_count": 65,
   "id": "9a012c3d",
   "metadata": {},
   "outputs": [
    {
     "data": {
      "text/html": [
       "<div>\n",
       "<style scoped>\n",
       "    .dataframe tbody tr th:only-of-type {\n",
       "        vertical-align: middle;\n",
       "    }\n",
       "\n",
       "    .dataframe tbody tr th {\n",
       "        vertical-align: top;\n",
       "    }\n",
       "\n",
       "    .dataframe thead th {\n",
       "        text-align: right;\n",
       "    }\n",
       "</style>\n",
       "<table border=\"1\" class=\"dataframe\">\n",
       "  <thead>\n",
       "    <tr style=\"text-align: right;\">\n",
       "      <th></th>\n",
       "      <th>x</th>\n",
       "      <th>y</th>\n",
       "      <th>ppscore</th>\n",
       "      <th>case</th>\n",
       "      <th>is_valid_score</th>\n",
       "      <th>metric</th>\n",
       "      <th>baseline_score</th>\n",
       "      <th>model_score</th>\n",
       "      <th>model</th>\n",
       "    </tr>\n",
       "  </thead>\n",
       "  <tbody>\n",
       "    <tr>\n",
       "      <th>0</th>\n",
       "      <td>r_i</td>\n",
       "      <td>Z</td>\n",
       "      <td>0.159539</td>\n",
       "      <td>regression</td>\n",
       "      <td>True</td>\n",
       "      <td>mean absolute error</td>\n",
       "      <td>0.187206</td>\n",
       "      <td>0.157339</td>\n",
       "      <td>DecisionTreeRegressor()</td>\n",
       "    </tr>\n",
       "    <tr>\n",
       "      <th>1</th>\n",
       "      <td>z/W1</td>\n",
       "      <td>Z</td>\n",
       "      <td>0.090362</td>\n",
       "      <td>regression</td>\n",
       "      <td>True</td>\n",
       "      <td>mean absolute error</td>\n",
       "      <td>0.187206</td>\n",
       "      <td>0.170289</td>\n",
       "      <td>DecisionTreeRegressor()</td>\n",
       "    </tr>\n",
       "    <tr>\n",
       "      <th>2</th>\n",
       "      <td>g_i</td>\n",
       "      <td>Z</td>\n",
       "      <td>0.082096</td>\n",
       "      <td>regression</td>\n",
       "      <td>True</td>\n",
       "      <td>mean absolute error</td>\n",
       "      <td>0.187206</td>\n",
       "      <td>0.171837</td>\n",
       "      <td>DecisionTreeRegressor()</td>\n",
       "    </tr>\n",
       "    <tr>\n",
       "      <th>3</th>\n",
       "      <td>g_r</td>\n",
       "      <td>Z</td>\n",
       "      <td>0.074295</td>\n",
       "      <td>regression</td>\n",
       "      <td>True</td>\n",
       "      <td>mean absolute error</td>\n",
       "      <td>0.187206</td>\n",
       "      <td>0.173297</td>\n",
       "      <td>DecisionTreeRegressor()</td>\n",
       "    </tr>\n",
       "    <tr>\n",
       "      <th>4</th>\n",
       "      <td>rmag</td>\n",
       "      <td>Z</td>\n",
       "      <td>0.041578</td>\n",
       "      <td>regression</td>\n",
       "      <td>True</td>\n",
       "      <td>mean absolute error</td>\n",
       "      <td>0.187206</td>\n",
       "      <td>0.179422</td>\n",
       "      <td>DecisionTreeRegressor()</td>\n",
       "    </tr>\n",
       "    <tr>\n",
       "      <th>5</th>\n",
       "      <td>band_num</td>\n",
       "      <td>Z</td>\n",
       "      <td>0.000000</td>\n",
       "      <td>regression</td>\n",
       "      <td>True</td>\n",
       "      <td>mean absolute error</td>\n",
       "      <td>0.187206</td>\n",
       "      <td>0.207626</td>\n",
       "      <td>DecisionTreeRegressor()</td>\n",
       "    </tr>\n",
       "    <tr>\n",
       "      <th>6</th>\n",
       "      <td>FUVmag</td>\n",
       "      <td>Z</td>\n",
       "      <td>0.000000</td>\n",
       "      <td>regression</td>\n",
       "      <td>True</td>\n",
       "      <td>mean absolute error</td>\n",
       "      <td>0.187206</td>\n",
       "      <td>0.196816</td>\n",
       "      <td>DecisionTreeRegressor()</td>\n",
       "    </tr>\n",
       "    <tr>\n",
       "      <th>7</th>\n",
       "      <td>NUVmag</td>\n",
       "      <td>Z</td>\n",
       "      <td>0.000000</td>\n",
       "      <td>regression</td>\n",
       "      <td>True</td>\n",
       "      <td>mean absolute error</td>\n",
       "      <td>0.187206</td>\n",
       "      <td>0.196816</td>\n",
       "      <td>DecisionTreeRegressor()</td>\n",
       "    </tr>\n",
       "    <tr>\n",
       "      <th>8</th>\n",
       "      <td>Jmag</td>\n",
       "      <td>Z</td>\n",
       "      <td>0.000000</td>\n",
       "      <td>regression</td>\n",
       "      <td>True</td>\n",
       "      <td>mean absolute error</td>\n",
       "      <td>0.187206</td>\n",
       "      <td>0.198144</td>\n",
       "      <td>DecisionTreeRegressor()</td>\n",
       "    </tr>\n",
       "    <tr>\n",
       "      <th>9</th>\n",
       "      <td>Hmag</td>\n",
       "      <td>Z</td>\n",
       "      <td>0.000000</td>\n",
       "      <td>regression</td>\n",
       "      <td>True</td>\n",
       "      <td>mean absolute error</td>\n",
       "      <td>0.187206</td>\n",
       "      <td>0.198144</td>\n",
       "      <td>DecisionTreeRegressor()</td>\n",
       "    </tr>\n",
       "    <tr>\n",
       "      <th>10</th>\n",
       "      <td>Kmag</td>\n",
       "      <td>Z</td>\n",
       "      <td>0.000000</td>\n",
       "      <td>regression</td>\n",
       "      <td>True</td>\n",
       "      <td>mean absolute error</td>\n",
       "      <td>0.187206</td>\n",
       "      <td>0.198144</td>\n",
       "      <td>DecisionTreeRegressor()</td>\n",
       "    </tr>\n",
       "    <tr>\n",
       "      <th>11</th>\n",
       "      <td>i_z</td>\n",
       "      <td>Z</td>\n",
       "      <td>0.000000</td>\n",
       "      <td>regression</td>\n",
       "      <td>True</td>\n",
       "      <td>mean absolute error</td>\n",
       "      <td>0.187206</td>\n",
       "      <td>0.276172</td>\n",
       "      <td>DecisionTreeRegressor()</td>\n",
       "    </tr>\n",
       "    <tr>\n",
       "      <th>12</th>\n",
       "      <td>w1_w2</td>\n",
       "      <td>Z</td>\n",
       "      <td>0.000000</td>\n",
       "      <td>regression</td>\n",
       "      <td>True</td>\n",
       "      <td>mean absolute error</td>\n",
       "      <td>0.187206</td>\n",
       "      <td>0.253416</td>\n",
       "      <td>DecisionTreeRegressor()</td>\n",
       "    </tr>\n",
       "    <tr>\n",
       "      <th>13</th>\n",
       "      <td>w2_w3</td>\n",
       "      <td>Z</td>\n",
       "      <td>0.000000</td>\n",
       "      <td>regression</td>\n",
       "      <td>True</td>\n",
       "      <td>mean absolute error</td>\n",
       "      <td>0.187206</td>\n",
       "      <td>0.271762</td>\n",
       "      <td>DecisionTreeRegressor()</td>\n",
       "    </tr>\n",
       "    <tr>\n",
       "      <th>14</th>\n",
       "      <td>w3_w4</td>\n",
       "      <td>Z</td>\n",
       "      <td>0.000000</td>\n",
       "      <td>regression</td>\n",
       "      <td>True</td>\n",
       "      <td>mean absolute error</td>\n",
       "      <td>0.187206</td>\n",
       "      <td>0.253174</td>\n",
       "      <td>DecisionTreeRegressor()</td>\n",
       "    </tr>\n",
       "    <tr>\n",
       "      <th>15</th>\n",
       "      <td>J_H</td>\n",
       "      <td>Z</td>\n",
       "      <td>0.000000</td>\n",
       "      <td>regression</td>\n",
       "      <td>True</td>\n",
       "      <td>mean absolute error</td>\n",
       "      <td>0.187206</td>\n",
       "      <td>0.198144</td>\n",
       "      <td>DecisionTreeRegressor()</td>\n",
       "    </tr>\n",
       "    <tr>\n",
       "      <th>16</th>\n",
       "      <td>H_K</td>\n",
       "      <td>Z</td>\n",
       "      <td>0.000000</td>\n",
       "      <td>regression</td>\n",
       "      <td>True</td>\n",
       "      <td>mean absolute error</td>\n",
       "      <td>0.187206</td>\n",
       "      <td>0.198144</td>\n",
       "      <td>DecisionTreeRegressor()</td>\n",
       "    </tr>\n",
       "    <tr>\n",
       "      <th>17</th>\n",
       "      <td>FUV_NUV</td>\n",
       "      <td>Z</td>\n",
       "      <td>0.000000</td>\n",
       "      <td>regression</td>\n",
       "      <td>True</td>\n",
       "      <td>mean absolute error</td>\n",
       "      <td>0.187206</td>\n",
       "      <td>0.196816</td>\n",
       "      <td>DecisionTreeRegressor()</td>\n",
       "    </tr>\n",
       "    <tr>\n",
       "      <th>18</th>\n",
       "      <td>i/y</td>\n",
       "      <td>Z</td>\n",
       "      <td>0.000000</td>\n",
       "      <td>regression</td>\n",
       "      <td>True</td>\n",
       "      <td>mean absolute error</td>\n",
       "      <td>0.187206</td>\n",
       "      <td>0.191902</td>\n",
       "      <td>DecisionTreeRegressor()</td>\n",
       "    </tr>\n",
       "    <tr>\n",
       "      <th>19</th>\n",
       "      <td>J/K</td>\n",
       "      <td>Z</td>\n",
       "      <td>0.000000</td>\n",
       "      <td>regression</td>\n",
       "      <td>True</td>\n",
       "      <td>mean absolute error</td>\n",
       "      <td>0.187206</td>\n",
       "      <td>0.198144</td>\n",
       "      <td>DecisionTreeRegressor()</td>\n",
       "    </tr>\n",
       "    <tr>\n",
       "      <th>20</th>\n",
       "      <td>FUV/K</td>\n",
       "      <td>Z</td>\n",
       "      <td>0.000000</td>\n",
       "      <td>regression</td>\n",
       "      <td>True</td>\n",
       "      <td>mean absolute error</td>\n",
       "      <td>0.187206</td>\n",
       "      <td>0.198144</td>\n",
       "      <td>DecisionTreeRegressor()</td>\n",
       "    </tr>\n",
       "    <tr>\n",
       "      <th>21</th>\n",
       "      <td>y/W2</td>\n",
       "      <td>Z</td>\n",
       "      <td>0.000000</td>\n",
       "      <td>regression</td>\n",
       "      <td>True</td>\n",
       "      <td>mean absolute error</td>\n",
       "      <td>0.187206</td>\n",
       "      <td>0.213162</td>\n",
       "      <td>DecisionTreeRegressor()</td>\n",
       "    </tr>\n",
       "  </tbody>\n",
       "</table>\n",
       "</div>"
      ],
      "text/plain": [
       "           x  y   ppscore        case  is_valid_score               metric  \\\n",
       "0        r_i  Z  0.159539  regression            True  mean absolute error   \n",
       "1       z/W1  Z  0.090362  regression            True  mean absolute error   \n",
       "2        g_i  Z  0.082096  regression            True  mean absolute error   \n",
       "3        g_r  Z  0.074295  regression            True  mean absolute error   \n",
       "4       rmag  Z  0.041578  regression            True  mean absolute error   \n",
       "5   band_num  Z  0.000000  regression            True  mean absolute error   \n",
       "6     FUVmag  Z  0.000000  regression            True  mean absolute error   \n",
       "7     NUVmag  Z  0.000000  regression            True  mean absolute error   \n",
       "8       Jmag  Z  0.000000  regression            True  mean absolute error   \n",
       "9       Hmag  Z  0.000000  regression            True  mean absolute error   \n",
       "10      Kmag  Z  0.000000  regression            True  mean absolute error   \n",
       "11       i_z  Z  0.000000  regression            True  mean absolute error   \n",
       "12     w1_w2  Z  0.000000  regression            True  mean absolute error   \n",
       "13     w2_w3  Z  0.000000  regression            True  mean absolute error   \n",
       "14     w3_w4  Z  0.000000  regression            True  mean absolute error   \n",
       "15       J_H  Z  0.000000  regression            True  mean absolute error   \n",
       "16       H_K  Z  0.000000  regression            True  mean absolute error   \n",
       "17   FUV_NUV  Z  0.000000  regression            True  mean absolute error   \n",
       "18       i/y  Z  0.000000  regression            True  mean absolute error   \n",
       "19       J/K  Z  0.000000  regression            True  mean absolute error   \n",
       "20     FUV/K  Z  0.000000  regression            True  mean absolute error   \n",
       "21      y/W2  Z  0.000000  regression            True  mean absolute error   \n",
       "\n",
       "    baseline_score  model_score                    model  \n",
       "0         0.187206     0.157339  DecisionTreeRegressor()  \n",
       "1         0.187206     0.170289  DecisionTreeRegressor()  \n",
       "2         0.187206     0.171837  DecisionTreeRegressor()  \n",
       "3         0.187206     0.173297  DecisionTreeRegressor()  \n",
       "4         0.187206     0.179422  DecisionTreeRegressor()  \n",
       "5         0.187206     0.207626  DecisionTreeRegressor()  \n",
       "6         0.187206     0.196816  DecisionTreeRegressor()  \n",
       "7         0.187206     0.196816  DecisionTreeRegressor()  \n",
       "8         0.187206     0.198144  DecisionTreeRegressor()  \n",
       "9         0.187206     0.198144  DecisionTreeRegressor()  \n",
       "10        0.187206     0.198144  DecisionTreeRegressor()  \n",
       "11        0.187206     0.276172  DecisionTreeRegressor()  \n",
       "12        0.187206     0.253416  DecisionTreeRegressor()  \n",
       "13        0.187206     0.271762  DecisionTreeRegressor()  \n",
       "14        0.187206     0.253174  DecisionTreeRegressor()  \n",
       "15        0.187206     0.198144  DecisionTreeRegressor()  \n",
       "16        0.187206     0.198144  DecisionTreeRegressor()  \n",
       "17        0.187206     0.196816  DecisionTreeRegressor()  \n",
       "18        0.187206     0.191902  DecisionTreeRegressor()  \n",
       "19        0.187206     0.198144  DecisionTreeRegressor()  \n",
       "20        0.187206     0.198144  DecisionTreeRegressor()  \n",
       "21        0.187206     0.213162  DecisionTreeRegressor()  "
      ]
     },
     "execution_count": 65,
     "metadata": {},
     "output_type": "execute_result"
    }
   ],
   "source": [
    "pps_pred_target"
   ]
  },
  {
   "cell_type": "markdown",
   "id": "846235a4",
   "metadata": {
    "id": "f567638a-2720-4d09-8fc4-0832c0307148"
   },
   "source": [
    "---"
   ]
  },
  {
   "cell_type": "markdown",
   "id": "4440fb8e",
   "metadata": {
    "id": "1b55b413-36ea-4c3a-b261-ae4f4b71045d"
   },
   "source": [
    "## Use Machine Learning (ML): PyCaret"
   ]
  },
  {
   "cell_type": "markdown",
   "id": "1daab5d9",
   "metadata": {
    "id": "8BFUMLcApfnI"
   },
   "source": [
    "## Train Models"
   ]
  },
  {
   "cell_type": "markdown",
   "id": "ba3999cb",
   "metadata": {
    "id": "L0rK_gTcprFK"
   },
   "source": [
    "### AGN Detection Prediction"
   ]
  },
  {
   "cell_type": "code",
   "execution_count": 71,
   "id": "48171011",
   "metadata": {},
   "outputs": [],
   "source": [
    "final_feats = pps_pred_target.x.to_list()  # Before Boruta\n",
    "# z >= 3\n",
    "# final_feats.remove('band_num')  # After Boruta\n",
    "# final_feats.remove('FUVmag')  # After Boruta\n",
    "# final_feats.remove('NUVmag')  # After Boruta\n",
    "# final_feats.remove('W4mag')  # After Boruta\n",
    "# final_feats.remove('w2_w3')  # After Boruta\n",
    "# final_feats.remove('w3_w4')  # After Boruta\n",
    "# final_feats.remove('J_H')  # After Boruta\n",
    "# final_feats.remove('H_K')  # After Boruta\n",
    "# final_feats.remove('FUV_NUV')  # After Boruta\n",
    "# final_feats.remove('FUV/K')  # After Boruta\n",
    "# # z >= 4\n",
    "final_feats.remove('g_r')  # After Boruta\n",
    "final_feats.remove('band_num')  # After Boruta\n",
    "final_feats.remove('FUVmag')  # After Boruta\n",
    "final_feats.remove('NUVmag')  # After Boruta\n",
    "final_feats.remove('Jmag')  # After Boruta\n",
    "final_feats.remove('Hmag')  # After Boruta\n",
    "final_feats.remove('Kmag')  # After Boruta\n",
    "final_feats.remove('w1_w2')  # After Boruta\n",
    "final_feats.remove('w2_w3')  # After Boruta\n",
    "final_feats.remove('w3_w4')  # After Boruta\n",
    "final_feats.remove('J_H')  # After Boruta\n",
    "final_feats.remove('H_K')  # After Boruta\n",
    "final_feats.remove('FUV_NUV')  # After Boruta\n",
    "final_feats.remove('J/K')  # After Boruta\n",
    "final_feats.remove('FUV/K')  # After Boruta\n",
    "final_feats.remove('y/W2')  # After Boruta"
   ]
  },
  {
   "cell_type": "code",
   "execution_count": 74,
   "id": "fd3d12ba",
   "metadata": {},
   "outputs": [],
   "source": [
    "# z >= 3\n",
    "# feats_2_discard = list_drop_corr + list_drop_pps + ['band_num', 'FUVmag', 'NUVmag', 'W4mag', 'w2_w3',\\\n",
    "#                                                     'w3_w4', 'J_H', 'H_K', 'FUV_NUV', 'FUV/K']\n",
    "# z >= 3\n",
    "feats_2_discard = list_drop_corr + list_drop_pps + ['g_r', 'band_num', 'FUVmag', 'NUVmag', 'Jmag',\\\n",
    "                                                    'Hmag', 'Kmag', 'w1_w2', 'w2_w3', 'w3_w4', 'J_H',\\\n",
    "                                                    'H_K', 'FUV_NUV', 'J/K', 'FUV/K', 'y/W2']"
   ]
  },
  {
   "cell_type": "markdown",
   "id": "74d832fc",
   "metadata": {},
   "source": [
    "Boruta discards one feature."
   ]
  },
  {
   "cell_type": "code",
   "execution_count": 75,
   "id": "527b3dd2",
   "metadata": {
    "id": "ttLEcpmVst4j"
   },
   "outputs": [
    {
     "data": {
      "text/html": [
       "<style type=\"text/css\">\n",
       "#T_1f723_row27_col1, #T_1f723_row29_col1, #T_1f723_row42_col1 {\n",
       "  background-color: lightgreen;\n",
       "}\n",
       "</style>\n",
       "<table id=\"T_1f723\">\n",
       "  <thead>\n",
       "    <tr>\n",
       "      <th class=\"blank level0\" >&nbsp;</th>\n",
       "      <th id=\"T_1f723_level0_col0\" class=\"col_heading level0 col0\" >Description</th>\n",
       "      <th id=\"T_1f723_level0_col1\" class=\"col_heading level0 col1\" >Value</th>\n",
       "    </tr>\n",
       "  </thead>\n",
       "  <tbody>\n",
       "    <tr>\n",
       "      <th id=\"T_1f723_level0_row0\" class=\"row_heading level0 row0\" >0</th>\n",
       "      <td id=\"T_1f723_row0_col0\" class=\"data row0 col0\" >session_id</td>\n",
       "      <td id=\"T_1f723_row0_col1\" class=\"data row0 col1\" >42</td>\n",
       "    </tr>\n",
       "    <tr>\n",
       "      <th id=\"T_1f723_level0_row1\" class=\"row_heading level0 row1\" >1</th>\n",
       "      <td id=\"T_1f723_row1_col0\" class=\"data row1 col0\" >Target</td>\n",
       "      <td id=\"T_1f723_row1_col1\" class=\"data row1 col1\" >Z</td>\n",
       "    </tr>\n",
       "    <tr>\n",
       "      <th id=\"T_1f723_level0_row2\" class=\"row_heading level0 row2\" >2</th>\n",
       "      <td id=\"T_1f723_row2_col0\" class=\"data row2 col0\" >Original Data</td>\n",
       "      <td id=\"T_1f723_row2_col1\" class=\"data row2 col1\" >(29, 39)</td>\n",
       "    </tr>\n",
       "    <tr>\n",
       "      <th id=\"T_1f723_level0_row3\" class=\"row_heading level0 row3\" >3</th>\n",
       "      <td id=\"T_1f723_row3_col0\" class=\"data row3 col0\" >Missing Values</td>\n",
       "      <td id=\"T_1f723_row3_col1\" class=\"data row3 col1\" >False</td>\n",
       "    </tr>\n",
       "    <tr>\n",
       "      <th id=\"T_1f723_level0_row4\" class=\"row_heading level0 row4\" >4</th>\n",
       "      <td id=\"T_1f723_row4_col0\" class=\"data row4 col0\" >Numeric Features</td>\n",
       "      <td id=\"T_1f723_row4_col1\" class=\"data row4 col1\" >6</td>\n",
       "    </tr>\n",
       "    <tr>\n",
       "      <th id=\"T_1f723_level0_row5\" class=\"row_heading level0 row5\" >5</th>\n",
       "      <td id=\"T_1f723_row5_col0\" class=\"data row5 col0\" >Categorical Features</td>\n",
       "      <td id=\"T_1f723_row5_col1\" class=\"data row5 col1\" >0</td>\n",
       "    </tr>\n",
       "    <tr>\n",
       "      <th id=\"T_1f723_level0_row6\" class=\"row_heading level0 row6\" >6</th>\n",
       "      <td id=\"T_1f723_row6_col0\" class=\"data row6 col0\" >Ordinal Features</td>\n",
       "      <td id=\"T_1f723_row6_col1\" class=\"data row6 col1\" >False</td>\n",
       "    </tr>\n",
       "    <tr>\n",
       "      <th id=\"T_1f723_level0_row7\" class=\"row_heading level0 row7\" >7</th>\n",
       "      <td id=\"T_1f723_row7_col0\" class=\"data row7 col0\" >High Cardinality Features</td>\n",
       "      <td id=\"T_1f723_row7_col1\" class=\"data row7 col1\" >False</td>\n",
       "    </tr>\n",
       "    <tr>\n",
       "      <th id=\"T_1f723_level0_row8\" class=\"row_heading level0 row8\" >8</th>\n",
       "      <td id=\"T_1f723_row8_col0\" class=\"data row8 col0\" >High Cardinality Method</td>\n",
       "      <td id=\"T_1f723_row8_col1\" class=\"data row8 col1\" >None</td>\n",
       "    </tr>\n",
       "    <tr>\n",
       "      <th id=\"T_1f723_level0_row9\" class=\"row_heading level0 row9\" >9</th>\n",
       "      <td id=\"T_1f723_row9_col0\" class=\"data row9 col0\" >Transformed Train Set</td>\n",
       "      <td id=\"T_1f723_row9_col1\" class=\"data row9 col1\" >(20, 6)</td>\n",
       "    </tr>\n",
       "    <tr>\n",
       "      <th id=\"T_1f723_level0_row10\" class=\"row_heading level0 row10\" >10</th>\n",
       "      <td id=\"T_1f723_row10_col0\" class=\"data row10 col0\" >Transformed Test Set</td>\n",
       "      <td id=\"T_1f723_row10_col1\" class=\"data row10 col1\" >(9, 6)</td>\n",
       "    </tr>\n",
       "    <tr>\n",
       "      <th id=\"T_1f723_level0_row11\" class=\"row_heading level0 row11\" >11</th>\n",
       "      <td id=\"T_1f723_row11_col0\" class=\"data row11 col0\" >Shuffle Train-Test</td>\n",
       "      <td id=\"T_1f723_row11_col1\" class=\"data row11 col1\" >True</td>\n",
       "    </tr>\n",
       "    <tr>\n",
       "      <th id=\"T_1f723_level0_row12\" class=\"row_heading level0 row12\" >12</th>\n",
       "      <td id=\"T_1f723_row12_col0\" class=\"data row12 col0\" >Stratify Train-Test</td>\n",
       "      <td id=\"T_1f723_row12_col1\" class=\"data row12 col1\" >False</td>\n",
       "    </tr>\n",
       "    <tr>\n",
       "      <th id=\"T_1f723_level0_row13\" class=\"row_heading level0 row13\" >13</th>\n",
       "      <td id=\"T_1f723_row13_col0\" class=\"data row13 col0\" >Fold Generator</td>\n",
       "      <td id=\"T_1f723_row13_col1\" class=\"data row13 col1\" >KFold</td>\n",
       "    </tr>\n",
       "    <tr>\n",
       "      <th id=\"T_1f723_level0_row14\" class=\"row_heading level0 row14\" >14</th>\n",
       "      <td id=\"T_1f723_row14_col0\" class=\"data row14 col0\" >Fold Number</td>\n",
       "      <td id=\"T_1f723_row14_col1\" class=\"data row14 col1\" >10</td>\n",
       "    </tr>\n",
       "    <tr>\n",
       "      <th id=\"T_1f723_level0_row15\" class=\"row_heading level0 row15\" >15</th>\n",
       "      <td id=\"T_1f723_row15_col0\" class=\"data row15 col0\" >CPU Jobs</td>\n",
       "      <td id=\"T_1f723_row15_col1\" class=\"data row15 col1\" >12</td>\n",
       "    </tr>\n",
       "    <tr>\n",
       "      <th id=\"T_1f723_level0_row16\" class=\"row_heading level0 row16\" >16</th>\n",
       "      <td id=\"T_1f723_row16_col0\" class=\"data row16 col0\" >Use GPU</td>\n",
       "      <td id=\"T_1f723_row16_col1\" class=\"data row16 col1\" >False</td>\n",
       "    </tr>\n",
       "    <tr>\n",
       "      <th id=\"T_1f723_level0_row17\" class=\"row_heading level0 row17\" >17</th>\n",
       "      <td id=\"T_1f723_row17_col0\" class=\"data row17 col0\" >Log Experiment</td>\n",
       "      <td id=\"T_1f723_row17_col1\" class=\"data row17 col1\" >False</td>\n",
       "    </tr>\n",
       "    <tr>\n",
       "      <th id=\"T_1f723_level0_row18\" class=\"row_heading level0 row18\" >18</th>\n",
       "      <td id=\"T_1f723_row18_col0\" class=\"data row18 col0\" >Experiment Name</td>\n",
       "      <td id=\"T_1f723_row18_col1\" class=\"data row18 col1\" >reg-default-name</td>\n",
       "    </tr>\n",
       "    <tr>\n",
       "      <th id=\"T_1f723_level0_row19\" class=\"row_heading level0 row19\" >19</th>\n",
       "      <td id=\"T_1f723_row19_col0\" class=\"data row19 col0\" >USI</td>\n",
       "      <td id=\"T_1f723_row19_col1\" class=\"data row19 col1\" >d1cc</td>\n",
       "    </tr>\n",
       "    <tr>\n",
       "      <th id=\"T_1f723_level0_row20\" class=\"row_heading level0 row20\" >20</th>\n",
       "      <td id=\"T_1f723_row20_col0\" class=\"data row20 col0\" >Imputation Type</td>\n",
       "      <td id=\"T_1f723_row20_col1\" class=\"data row20 col1\" >simple</td>\n",
       "    </tr>\n",
       "    <tr>\n",
       "      <th id=\"T_1f723_level0_row21\" class=\"row_heading level0 row21\" >21</th>\n",
       "      <td id=\"T_1f723_row21_col0\" class=\"data row21 col0\" >Iterative Imputation Iteration</td>\n",
       "      <td id=\"T_1f723_row21_col1\" class=\"data row21 col1\" >None</td>\n",
       "    </tr>\n",
       "    <tr>\n",
       "      <th id=\"T_1f723_level0_row22\" class=\"row_heading level0 row22\" >22</th>\n",
       "      <td id=\"T_1f723_row22_col0\" class=\"data row22 col0\" >Numeric Imputer</td>\n",
       "      <td id=\"T_1f723_row22_col1\" class=\"data row22 col1\" >mean</td>\n",
       "    </tr>\n",
       "    <tr>\n",
       "      <th id=\"T_1f723_level0_row23\" class=\"row_heading level0 row23\" >23</th>\n",
       "      <td id=\"T_1f723_row23_col0\" class=\"data row23 col0\" >Iterative Imputation Numeric Model</td>\n",
       "      <td id=\"T_1f723_row23_col1\" class=\"data row23 col1\" >None</td>\n",
       "    </tr>\n",
       "    <tr>\n",
       "      <th id=\"T_1f723_level0_row24\" class=\"row_heading level0 row24\" >24</th>\n",
       "      <td id=\"T_1f723_row24_col0\" class=\"data row24 col0\" >Categorical Imputer</td>\n",
       "      <td id=\"T_1f723_row24_col1\" class=\"data row24 col1\" >constant</td>\n",
       "    </tr>\n",
       "    <tr>\n",
       "      <th id=\"T_1f723_level0_row25\" class=\"row_heading level0 row25\" >25</th>\n",
       "      <td id=\"T_1f723_row25_col0\" class=\"data row25 col0\" >Iterative Imputation Categorical Model</td>\n",
       "      <td id=\"T_1f723_row25_col1\" class=\"data row25 col1\" >None</td>\n",
       "    </tr>\n",
       "    <tr>\n",
       "      <th id=\"T_1f723_level0_row26\" class=\"row_heading level0 row26\" >26</th>\n",
       "      <td id=\"T_1f723_row26_col0\" class=\"data row26 col0\" >Unknown Categoricals Handling</td>\n",
       "      <td id=\"T_1f723_row26_col1\" class=\"data row26 col1\" >least_frequent</td>\n",
       "    </tr>\n",
       "    <tr>\n",
       "      <th id=\"T_1f723_level0_row27\" class=\"row_heading level0 row27\" >27</th>\n",
       "      <td id=\"T_1f723_row27_col0\" class=\"data row27 col0\" >Normalize</td>\n",
       "      <td id=\"T_1f723_row27_col1\" class=\"data row27 col1\" >True</td>\n",
       "    </tr>\n",
       "    <tr>\n",
       "      <th id=\"T_1f723_level0_row28\" class=\"row_heading level0 row28\" >28</th>\n",
       "      <td id=\"T_1f723_row28_col0\" class=\"data row28 col0\" >Normalize Method</td>\n",
       "      <td id=\"T_1f723_row28_col1\" class=\"data row28 col1\" >zscore</td>\n",
       "    </tr>\n",
       "    <tr>\n",
       "      <th id=\"T_1f723_level0_row29\" class=\"row_heading level0 row29\" >29</th>\n",
       "      <td id=\"T_1f723_row29_col0\" class=\"data row29 col0\" >Transformation</td>\n",
       "      <td id=\"T_1f723_row29_col1\" class=\"data row29 col1\" >True</td>\n",
       "    </tr>\n",
       "    <tr>\n",
       "      <th id=\"T_1f723_level0_row30\" class=\"row_heading level0 row30\" >30</th>\n",
       "      <td id=\"T_1f723_row30_col0\" class=\"data row30 col0\" >Transformation Method</td>\n",
       "      <td id=\"T_1f723_row30_col1\" class=\"data row30 col1\" >yeo-johnson</td>\n",
       "    </tr>\n",
       "    <tr>\n",
       "      <th id=\"T_1f723_level0_row31\" class=\"row_heading level0 row31\" >31</th>\n",
       "      <td id=\"T_1f723_row31_col0\" class=\"data row31 col0\" >PCA</td>\n",
       "      <td id=\"T_1f723_row31_col1\" class=\"data row31 col1\" >False</td>\n",
       "    </tr>\n",
       "    <tr>\n",
       "      <th id=\"T_1f723_level0_row32\" class=\"row_heading level0 row32\" >32</th>\n",
       "      <td id=\"T_1f723_row32_col0\" class=\"data row32 col0\" >PCA Method</td>\n",
       "      <td id=\"T_1f723_row32_col1\" class=\"data row32 col1\" >None</td>\n",
       "    </tr>\n",
       "    <tr>\n",
       "      <th id=\"T_1f723_level0_row33\" class=\"row_heading level0 row33\" >33</th>\n",
       "      <td id=\"T_1f723_row33_col0\" class=\"data row33 col0\" >PCA Components</td>\n",
       "      <td id=\"T_1f723_row33_col1\" class=\"data row33 col1\" >None</td>\n",
       "    </tr>\n",
       "    <tr>\n",
       "      <th id=\"T_1f723_level0_row34\" class=\"row_heading level0 row34\" >34</th>\n",
       "      <td id=\"T_1f723_row34_col0\" class=\"data row34 col0\" >Ignore Low Variance</td>\n",
       "      <td id=\"T_1f723_row34_col1\" class=\"data row34 col1\" >False</td>\n",
       "    </tr>\n",
       "    <tr>\n",
       "      <th id=\"T_1f723_level0_row35\" class=\"row_heading level0 row35\" >35</th>\n",
       "      <td id=\"T_1f723_row35_col0\" class=\"data row35 col0\" >Combine Rare Levels</td>\n",
       "      <td id=\"T_1f723_row35_col1\" class=\"data row35 col1\" >False</td>\n",
       "    </tr>\n",
       "    <tr>\n",
       "      <th id=\"T_1f723_level0_row36\" class=\"row_heading level0 row36\" >36</th>\n",
       "      <td id=\"T_1f723_row36_col0\" class=\"data row36 col0\" >Rare Level Threshold</td>\n",
       "      <td id=\"T_1f723_row36_col1\" class=\"data row36 col1\" >None</td>\n",
       "    </tr>\n",
       "    <tr>\n",
       "      <th id=\"T_1f723_level0_row37\" class=\"row_heading level0 row37\" >37</th>\n",
       "      <td id=\"T_1f723_row37_col0\" class=\"data row37 col0\" >Numeric Binning</td>\n",
       "      <td id=\"T_1f723_row37_col1\" class=\"data row37 col1\" >False</td>\n",
       "    </tr>\n",
       "    <tr>\n",
       "      <th id=\"T_1f723_level0_row38\" class=\"row_heading level0 row38\" >38</th>\n",
       "      <td id=\"T_1f723_row38_col0\" class=\"data row38 col0\" >Remove Outliers</td>\n",
       "      <td id=\"T_1f723_row38_col1\" class=\"data row38 col1\" >False</td>\n",
       "    </tr>\n",
       "    <tr>\n",
       "      <th id=\"T_1f723_level0_row39\" class=\"row_heading level0 row39\" >39</th>\n",
       "      <td id=\"T_1f723_row39_col0\" class=\"data row39 col0\" >Outliers Threshold</td>\n",
       "      <td id=\"T_1f723_row39_col1\" class=\"data row39 col1\" >None</td>\n",
       "    </tr>\n",
       "    <tr>\n",
       "      <th id=\"T_1f723_level0_row40\" class=\"row_heading level0 row40\" >40</th>\n",
       "      <td id=\"T_1f723_row40_col0\" class=\"data row40 col0\" >Remove Multicollinearity</td>\n",
       "      <td id=\"T_1f723_row40_col1\" class=\"data row40 col1\" >False</td>\n",
       "    </tr>\n",
       "    <tr>\n",
       "      <th id=\"T_1f723_level0_row41\" class=\"row_heading level0 row41\" >41</th>\n",
       "      <td id=\"T_1f723_row41_col0\" class=\"data row41 col0\" >Multicollinearity Threshold</td>\n",
       "      <td id=\"T_1f723_row41_col1\" class=\"data row41 col1\" >None</td>\n",
       "    </tr>\n",
       "    <tr>\n",
       "      <th id=\"T_1f723_level0_row42\" class=\"row_heading level0 row42\" >42</th>\n",
       "      <td id=\"T_1f723_row42_col0\" class=\"data row42 col0\" >Remove Perfect Collinearity</td>\n",
       "      <td id=\"T_1f723_row42_col1\" class=\"data row42 col1\" >True</td>\n",
       "    </tr>\n",
       "    <tr>\n",
       "      <th id=\"T_1f723_level0_row43\" class=\"row_heading level0 row43\" >43</th>\n",
       "      <td id=\"T_1f723_row43_col0\" class=\"data row43 col0\" >Clustering</td>\n",
       "      <td id=\"T_1f723_row43_col1\" class=\"data row43 col1\" >False</td>\n",
       "    </tr>\n",
       "    <tr>\n",
       "      <th id=\"T_1f723_level0_row44\" class=\"row_heading level0 row44\" >44</th>\n",
       "      <td id=\"T_1f723_row44_col0\" class=\"data row44 col0\" >Clustering Iteration</td>\n",
       "      <td id=\"T_1f723_row44_col1\" class=\"data row44 col1\" >None</td>\n",
       "    </tr>\n",
       "    <tr>\n",
       "      <th id=\"T_1f723_level0_row45\" class=\"row_heading level0 row45\" >45</th>\n",
       "      <td id=\"T_1f723_row45_col0\" class=\"data row45 col0\" >Polynomial Features</td>\n",
       "      <td id=\"T_1f723_row45_col1\" class=\"data row45 col1\" >False</td>\n",
       "    </tr>\n",
       "    <tr>\n",
       "      <th id=\"T_1f723_level0_row46\" class=\"row_heading level0 row46\" >46</th>\n",
       "      <td id=\"T_1f723_row46_col0\" class=\"data row46 col0\" >Polynomial Degree</td>\n",
       "      <td id=\"T_1f723_row46_col1\" class=\"data row46 col1\" >None</td>\n",
       "    </tr>\n",
       "    <tr>\n",
       "      <th id=\"T_1f723_level0_row47\" class=\"row_heading level0 row47\" >47</th>\n",
       "      <td id=\"T_1f723_row47_col0\" class=\"data row47 col0\" >Trignometry Features</td>\n",
       "      <td id=\"T_1f723_row47_col1\" class=\"data row47 col1\" >False</td>\n",
       "    </tr>\n",
       "    <tr>\n",
       "      <th id=\"T_1f723_level0_row48\" class=\"row_heading level0 row48\" >48</th>\n",
       "      <td id=\"T_1f723_row48_col0\" class=\"data row48 col0\" >Polynomial Threshold</td>\n",
       "      <td id=\"T_1f723_row48_col1\" class=\"data row48 col1\" >None</td>\n",
       "    </tr>\n",
       "    <tr>\n",
       "      <th id=\"T_1f723_level0_row49\" class=\"row_heading level0 row49\" >49</th>\n",
       "      <td id=\"T_1f723_row49_col0\" class=\"data row49 col0\" >Group Features</td>\n",
       "      <td id=\"T_1f723_row49_col1\" class=\"data row49 col1\" >False</td>\n",
       "    </tr>\n",
       "    <tr>\n",
       "      <th id=\"T_1f723_level0_row50\" class=\"row_heading level0 row50\" >50</th>\n",
       "      <td id=\"T_1f723_row50_col0\" class=\"data row50 col0\" >Feature Selection</td>\n",
       "      <td id=\"T_1f723_row50_col1\" class=\"data row50 col1\" >False</td>\n",
       "    </tr>\n",
       "    <tr>\n",
       "      <th id=\"T_1f723_level0_row51\" class=\"row_heading level0 row51\" >51</th>\n",
       "      <td id=\"T_1f723_row51_col0\" class=\"data row51 col0\" >Feature Selection Method</td>\n",
       "      <td id=\"T_1f723_row51_col1\" class=\"data row51 col1\" >boruta</td>\n",
       "    </tr>\n",
       "    <tr>\n",
       "      <th id=\"T_1f723_level0_row52\" class=\"row_heading level0 row52\" >52</th>\n",
       "      <td id=\"T_1f723_row52_col0\" class=\"data row52 col0\" >Features Selection Threshold</td>\n",
       "      <td id=\"T_1f723_row52_col1\" class=\"data row52 col1\" >None</td>\n",
       "    </tr>\n",
       "    <tr>\n",
       "      <th id=\"T_1f723_level0_row53\" class=\"row_heading level0 row53\" >53</th>\n",
       "      <td id=\"T_1f723_row53_col0\" class=\"data row53 col0\" >Feature Interaction</td>\n",
       "      <td id=\"T_1f723_row53_col1\" class=\"data row53 col1\" >False</td>\n",
       "    </tr>\n",
       "    <tr>\n",
       "      <th id=\"T_1f723_level0_row54\" class=\"row_heading level0 row54\" >54</th>\n",
       "      <td id=\"T_1f723_row54_col0\" class=\"data row54 col0\" >Feature Ratio</td>\n",
       "      <td id=\"T_1f723_row54_col1\" class=\"data row54 col1\" >False</td>\n",
       "    </tr>\n",
       "    <tr>\n",
       "      <th id=\"T_1f723_level0_row55\" class=\"row_heading level0 row55\" >55</th>\n",
       "      <td id=\"T_1f723_row55_col0\" class=\"data row55 col0\" >Interaction Threshold</td>\n",
       "      <td id=\"T_1f723_row55_col1\" class=\"data row55 col1\" >None</td>\n",
       "    </tr>\n",
       "    <tr>\n",
       "      <th id=\"T_1f723_level0_row56\" class=\"row_heading level0 row56\" >56</th>\n",
       "      <td id=\"T_1f723_row56_col0\" class=\"data row56 col0\" >Transform Target</td>\n",
       "      <td id=\"T_1f723_row56_col1\" class=\"data row56 col1\" >False</td>\n",
       "    </tr>\n",
       "    <tr>\n",
       "      <th id=\"T_1f723_level0_row57\" class=\"row_heading level0 row57\" >57</th>\n",
       "      <td id=\"T_1f723_row57_col0\" class=\"data row57 col0\" >Transform Target Method</td>\n",
       "      <td id=\"T_1f723_row57_col1\" class=\"data row57 col1\" >box-cox</td>\n",
       "    </tr>\n",
       "  </tbody>\n",
       "</table>\n"
      ],
      "text/plain": [
       "<pandas.io.formats.style.Styler at 0x7f538f13f3a0>"
      ]
     },
     "metadata": {},
     "output_type": "display_data"
    }
   ],
   "source": [
    "exp_radio = pyr.setup(data=train_test_df, target='Z', session_id=seed, silent=True,\\\n",
    "                    feature_selection=False, feature_selection_method='boruta',\\\n",
    "                    numeric_features=final_feats, ignore_features=feats_2_discard, transformation=True,\\\n",
    "                    transformation_method='yeo-johnson', n_jobs=12, normalize=True,\\\n",
    "                    normalize_method='zscore', use_gpu=False)  # 15 minutes with Boruta # 5 without"
   ]
  },
  {
   "cell_type": "code",
   "execution_count": 76,
   "id": "c2bf69df",
   "metadata": {
    "id": "ykHUiWyetG0G"
   },
   "outputs": [
    {
     "data": {
      "text/plain": [
       "Index(['rmag', 'r_i', 'i_z', 'g_i', 'i/y', 'z/W1'], dtype='object')"
      ]
     },
     "execution_count": 76,
     "metadata": {},
     "output_type": "execute_result"
    }
   ],
   "source": [
    "pyr.get_config('X').columns"
   ]
  },
  {
   "cell_type": "code",
   "execution_count": 77,
   "id": "6dd3af09",
   "metadata": {
    "id": "JFF_T52ztI11"
   },
   "outputs": [
    {
     "data": {
      "text/html": [
       "<div>\n",
       "<style scoped>\n",
       "    .dataframe tbody tr th:only-of-type {\n",
       "        vertical-align: middle;\n",
       "    }\n",
       "\n",
       "    .dataframe tbody tr th {\n",
       "        vertical-align: top;\n",
       "    }\n",
       "\n",
       "    .dataframe thead th {\n",
       "        text-align: right;\n",
       "    }\n",
       "</style>\n",
       "<table border=\"1\" class=\"dataframe\">\n",
       "  <thead>\n",
       "    <tr style=\"text-align: right;\">\n",
       "      <th></th>\n",
       "      <th>Name</th>\n",
       "      <th>Reference</th>\n",
       "      <th>Turbo</th>\n",
       "    </tr>\n",
       "    <tr>\n",
       "      <th>ID</th>\n",
       "      <th></th>\n",
       "      <th></th>\n",
       "      <th></th>\n",
       "    </tr>\n",
       "  </thead>\n",
       "  <tbody>\n",
       "    <tr>\n",
       "      <th>lr</th>\n",
       "      <td>Linear Regression</td>\n",
       "      <td>sklearn.linear_model._base.LinearRegression</td>\n",
       "      <td>True</td>\n",
       "    </tr>\n",
       "    <tr>\n",
       "      <th>lasso</th>\n",
       "      <td>Lasso Regression</td>\n",
       "      <td>sklearn.linear_model._coordinate_descent.Lasso</td>\n",
       "      <td>True</td>\n",
       "    </tr>\n",
       "    <tr>\n",
       "      <th>ridge</th>\n",
       "      <td>Ridge Regression</td>\n",
       "      <td>sklearn.linear_model._ridge.Ridge</td>\n",
       "      <td>True</td>\n",
       "    </tr>\n",
       "    <tr>\n",
       "      <th>en</th>\n",
       "      <td>Elastic Net</td>\n",
       "      <td>sklearn.linear_model._coordinate_descent.Elast...</td>\n",
       "      <td>True</td>\n",
       "    </tr>\n",
       "    <tr>\n",
       "      <th>lar</th>\n",
       "      <td>Least Angle Regression</td>\n",
       "      <td>sklearn.linear_model._least_angle.Lars</td>\n",
       "      <td>True</td>\n",
       "    </tr>\n",
       "    <tr>\n",
       "      <th>llar</th>\n",
       "      <td>Lasso Least Angle Regression</td>\n",
       "      <td>sklearn.linear_model._least_angle.LassoLars</td>\n",
       "      <td>True</td>\n",
       "    </tr>\n",
       "    <tr>\n",
       "      <th>omp</th>\n",
       "      <td>Orthogonal Matching Pursuit</td>\n",
       "      <td>sklearn.linear_model._omp.OrthogonalMatchingPu...</td>\n",
       "      <td>True</td>\n",
       "    </tr>\n",
       "    <tr>\n",
       "      <th>br</th>\n",
       "      <td>Bayesian Ridge</td>\n",
       "      <td>sklearn.linear_model._bayes.BayesianRidge</td>\n",
       "      <td>True</td>\n",
       "    </tr>\n",
       "    <tr>\n",
       "      <th>ard</th>\n",
       "      <td>Automatic Relevance Determination</td>\n",
       "      <td>sklearn.linear_model._bayes.ARDRegression</td>\n",
       "      <td>False</td>\n",
       "    </tr>\n",
       "    <tr>\n",
       "      <th>par</th>\n",
       "      <td>Passive Aggressive Regressor</td>\n",
       "      <td>sklearn.linear_model._passive_aggressive.Passi...</td>\n",
       "      <td>True</td>\n",
       "    </tr>\n",
       "    <tr>\n",
       "      <th>ransac</th>\n",
       "      <td>Random Sample Consensus</td>\n",
       "      <td>sklearn.linear_model._ransac.RANSACRegressor</td>\n",
       "      <td>False</td>\n",
       "    </tr>\n",
       "    <tr>\n",
       "      <th>tr</th>\n",
       "      <td>TheilSen Regressor</td>\n",
       "      <td>sklearn.linear_model._theil_sen.TheilSenRegressor</td>\n",
       "      <td>False</td>\n",
       "    </tr>\n",
       "    <tr>\n",
       "      <th>huber</th>\n",
       "      <td>Huber Regressor</td>\n",
       "      <td>sklearn.linear_model._huber.HuberRegressor</td>\n",
       "      <td>True</td>\n",
       "    </tr>\n",
       "    <tr>\n",
       "      <th>kr</th>\n",
       "      <td>Kernel Ridge</td>\n",
       "      <td>sklearn.kernel_ridge.KernelRidge</td>\n",
       "      <td>False</td>\n",
       "    </tr>\n",
       "    <tr>\n",
       "      <th>svm</th>\n",
       "      <td>Support Vector Regression</td>\n",
       "      <td>sklearn.svm._classes.SVR</td>\n",
       "      <td>False</td>\n",
       "    </tr>\n",
       "    <tr>\n",
       "      <th>knn</th>\n",
       "      <td>K Neighbors Regressor</td>\n",
       "      <td>sklearn.neighbors._regression.KNeighborsRegressor</td>\n",
       "      <td>True</td>\n",
       "    </tr>\n",
       "    <tr>\n",
       "      <th>dt</th>\n",
       "      <td>Decision Tree Regressor</td>\n",
       "      <td>sklearn.tree._classes.DecisionTreeRegressor</td>\n",
       "      <td>True</td>\n",
       "    </tr>\n",
       "    <tr>\n",
       "      <th>rf</th>\n",
       "      <td>Random Forest Regressor</td>\n",
       "      <td>sklearn.ensemble._forest.RandomForestRegressor</td>\n",
       "      <td>True</td>\n",
       "    </tr>\n",
       "    <tr>\n",
       "      <th>et</th>\n",
       "      <td>Extra Trees Regressor</td>\n",
       "      <td>sklearn.ensemble._forest.ExtraTreesRegressor</td>\n",
       "      <td>True</td>\n",
       "    </tr>\n",
       "    <tr>\n",
       "      <th>ada</th>\n",
       "      <td>AdaBoost Regressor</td>\n",
       "      <td>sklearn.ensemble._weight_boosting.AdaBoostRegr...</td>\n",
       "      <td>True</td>\n",
       "    </tr>\n",
       "    <tr>\n",
       "      <th>gbr</th>\n",
       "      <td>Gradient Boosting Regressor</td>\n",
       "      <td>sklearn.ensemble._gb.GradientBoostingRegressor</td>\n",
       "      <td>True</td>\n",
       "    </tr>\n",
       "    <tr>\n",
       "      <th>mlp</th>\n",
       "      <td>MLP Regressor</td>\n",
       "      <td>sklearn.neural_network._multilayer_perceptron....</td>\n",
       "      <td>False</td>\n",
       "    </tr>\n",
       "    <tr>\n",
       "      <th>xgboost</th>\n",
       "      <td>Extreme Gradient Boosting</td>\n",
       "      <td>xgboost.sklearn.XGBRegressor</td>\n",
       "      <td>True</td>\n",
       "    </tr>\n",
       "    <tr>\n",
       "      <th>lightgbm</th>\n",
       "      <td>Light Gradient Boosting Machine</td>\n",
       "      <td>lightgbm.sklearn.LGBMRegressor</td>\n",
       "      <td>True</td>\n",
       "    </tr>\n",
       "    <tr>\n",
       "      <th>catboost</th>\n",
       "      <td>CatBoost Regressor</td>\n",
       "      <td>catboost.core.CatBoostRegressor</td>\n",
       "      <td>True</td>\n",
       "    </tr>\n",
       "    <tr>\n",
       "      <th>dummy</th>\n",
       "      <td>Dummy Regressor</td>\n",
       "      <td>sklearn.dummy.DummyRegressor</td>\n",
       "      <td>True</td>\n",
       "    </tr>\n",
       "  </tbody>\n",
       "</table>\n",
       "</div>"
      ],
      "text/plain": [
       "                                       Name  \\\n",
       "ID                                            \n",
       "lr                        Linear Regression   \n",
       "lasso                      Lasso Regression   \n",
       "ridge                      Ridge Regression   \n",
       "en                              Elastic Net   \n",
       "lar                  Least Angle Regression   \n",
       "llar           Lasso Least Angle Regression   \n",
       "omp             Orthogonal Matching Pursuit   \n",
       "br                           Bayesian Ridge   \n",
       "ard       Automatic Relevance Determination   \n",
       "par            Passive Aggressive Regressor   \n",
       "ransac              Random Sample Consensus   \n",
       "tr                       TheilSen Regressor   \n",
       "huber                       Huber Regressor   \n",
       "kr                             Kernel Ridge   \n",
       "svm               Support Vector Regression   \n",
       "knn                   K Neighbors Regressor   \n",
       "dt                  Decision Tree Regressor   \n",
       "rf                  Random Forest Regressor   \n",
       "et                    Extra Trees Regressor   \n",
       "ada                      AdaBoost Regressor   \n",
       "gbr             Gradient Boosting Regressor   \n",
       "mlp                           MLP Regressor   \n",
       "xgboost           Extreme Gradient Boosting   \n",
       "lightgbm    Light Gradient Boosting Machine   \n",
       "catboost                 CatBoost Regressor   \n",
       "dummy                       Dummy Regressor   \n",
       "\n",
       "                                                  Reference  Turbo  \n",
       "ID                                                                  \n",
       "lr              sklearn.linear_model._base.LinearRegression   True  \n",
       "lasso        sklearn.linear_model._coordinate_descent.Lasso   True  \n",
       "ridge                     sklearn.linear_model._ridge.Ridge   True  \n",
       "en        sklearn.linear_model._coordinate_descent.Elast...   True  \n",
       "lar                  sklearn.linear_model._least_angle.Lars   True  \n",
       "llar            sklearn.linear_model._least_angle.LassoLars   True  \n",
       "omp       sklearn.linear_model._omp.OrthogonalMatchingPu...   True  \n",
       "br                sklearn.linear_model._bayes.BayesianRidge   True  \n",
       "ard               sklearn.linear_model._bayes.ARDRegression  False  \n",
       "par       sklearn.linear_model._passive_aggressive.Passi...   True  \n",
       "ransac         sklearn.linear_model._ransac.RANSACRegressor  False  \n",
       "tr        sklearn.linear_model._theil_sen.TheilSenRegressor  False  \n",
       "huber            sklearn.linear_model._huber.HuberRegressor   True  \n",
       "kr                         sklearn.kernel_ridge.KernelRidge  False  \n",
       "svm                                sklearn.svm._classes.SVR  False  \n",
       "knn       sklearn.neighbors._regression.KNeighborsRegressor   True  \n",
       "dt              sklearn.tree._classes.DecisionTreeRegressor   True  \n",
       "rf           sklearn.ensemble._forest.RandomForestRegressor   True  \n",
       "et             sklearn.ensemble._forest.ExtraTreesRegressor   True  \n",
       "ada       sklearn.ensemble._weight_boosting.AdaBoostRegr...   True  \n",
       "gbr          sklearn.ensemble._gb.GradientBoostingRegressor   True  \n",
       "mlp       sklearn.neural_network._multilayer_perceptron....  False  \n",
       "xgboost                        xgboost.sklearn.XGBRegressor   True  \n",
       "lightgbm                     lightgbm.sklearn.LGBMRegressor   True  \n",
       "catboost                    catboost.core.CatBoostRegressor   True  \n",
       "dummy                          sklearn.dummy.DummyRegressor   True  "
      ]
     },
     "execution_count": 77,
     "metadata": {},
     "output_type": "execute_result"
    }
   ],
   "source": [
    "pyr.models()"
   ]
  },
  {
   "cell_type": "markdown",
   "id": "4d03e743",
   "metadata": {},
   "source": [
    "Add custom metrics"
   ]
  },
  {
   "cell_type": "code",
   "execution_count": 78,
   "id": "b6fcae6c",
   "metadata": {},
   "outputs": [
    {
     "data": {
      "text/plain": [
       "Name                                                        outlier_fr\n",
       "Display Name                                                outlier_fr\n",
       "Score Function               <function outlier_frac at 0x7f546021c3a0>\n",
       "Scorer               make_scorer(outlier_frac, greater_is_better=Fa...\n",
       "Target                                                            pred\n",
       "Args                                                                {}\n",
       "Greater is Better                                                False\n",
       "Custom                                                            True\n",
       "Name: out_f, dtype: object"
      ]
     },
     "execution_count": 78,
     "metadata": {},
     "output_type": "execute_result"
    }
   ],
   "source": [
    "pyr.add_metric('s_mad',  'sigma_mad',    sigma_mad,    greater_is_better=False)\n",
    "pyr.add_metric('s_nmad', 'sigma_nmad',   sigma_nmad,   greater_is_better=False)\n",
    "pyr.add_metric('s_z',    'sigma_z',      sigma_z,      greater_is_better=False)\n",
    "pyr.add_metric('s_z_n',  'sigma_z_norm', sigma_z_norm, greater_is_better=False)\n",
    "pyr.add_metric('out_f',  'outlier_fr',   outlier_frac, greater_is_better=False)"
   ]
  },
  {
   "cell_type": "code",
   "execution_count": 79,
   "id": "5fe800e9",
   "metadata": {
    "id": "m3mCNspXtLnI"
   },
   "outputs": [
    {
     "data": {
      "text/html": [
       "<style type=\"text/css\">\n",
       "#T_96cea th {\n",
       "  text-align: left;\n",
       "}\n",
       "#T_96cea_row0_col0, #T_96cea_row0_col11, #T_96cea_row1_col0, #T_96cea_row1_col1, #T_96cea_row1_col2, #T_96cea_row1_col3, #T_96cea_row1_col4, #T_96cea_row1_col5, #T_96cea_row1_col6, #T_96cea_row1_col7, #T_96cea_row1_col8, #T_96cea_row1_col9, #T_96cea_row1_col10, #T_96cea_row1_col11, #T_96cea_row2_col0, #T_96cea_row2_col1, #T_96cea_row2_col2, #T_96cea_row2_col3, #T_96cea_row2_col4, #T_96cea_row2_col5, #T_96cea_row2_col6, #T_96cea_row2_col7, #T_96cea_row2_col8, #T_96cea_row2_col9, #T_96cea_row2_col10, #T_96cea_row2_col11, #T_96cea_row3_col0, #T_96cea_row3_col1, #T_96cea_row3_col2, #T_96cea_row3_col3, #T_96cea_row3_col4, #T_96cea_row3_col5, #T_96cea_row3_col6, #T_96cea_row3_col7, #T_96cea_row3_col8, #T_96cea_row3_col9, #T_96cea_row3_col10, #T_96cea_row3_col11, #T_96cea_row4_col0, #T_96cea_row4_col1, #T_96cea_row4_col2, #T_96cea_row4_col3, #T_96cea_row4_col4, #T_96cea_row4_col5, #T_96cea_row4_col6, #T_96cea_row4_col7, #T_96cea_row4_col8, #T_96cea_row4_col9, #T_96cea_row4_col10, #T_96cea_row4_col11, #T_96cea_row5_col0, #T_96cea_row5_col1, #T_96cea_row5_col2, #T_96cea_row5_col3, #T_96cea_row5_col4, #T_96cea_row5_col5, #T_96cea_row5_col6, #T_96cea_row5_col7, #T_96cea_row5_col8, #T_96cea_row5_col9, #T_96cea_row5_col10, #T_96cea_row6_col0, #T_96cea_row6_col1, #T_96cea_row6_col2, #T_96cea_row6_col3, #T_96cea_row6_col4, #T_96cea_row6_col5, #T_96cea_row6_col6, #T_96cea_row6_col7, #T_96cea_row6_col8, #T_96cea_row6_col9, #T_96cea_row6_col10, #T_96cea_row7_col0, #T_96cea_row7_col1, #T_96cea_row7_col2, #T_96cea_row7_col3, #T_96cea_row7_col4, #T_96cea_row7_col5, #T_96cea_row7_col6, #T_96cea_row7_col7, #T_96cea_row7_col8, #T_96cea_row7_col9, #T_96cea_row7_col10, #T_96cea_row8_col0, #T_96cea_row8_col1, #T_96cea_row8_col2, #T_96cea_row8_col3, #T_96cea_row8_col4, #T_96cea_row8_col5, #T_96cea_row8_col6, #T_96cea_row8_col7, #T_96cea_row8_col8, #T_96cea_row8_col9, #T_96cea_row8_col10, #T_96cea_row8_col11, #T_96cea_row9_col0, #T_96cea_row9_col1, #T_96cea_row9_col2, #T_96cea_row9_col3, #T_96cea_row9_col4, #T_96cea_row9_col5, #T_96cea_row9_col6, #T_96cea_row9_col7, #T_96cea_row9_col8, #T_96cea_row9_col9, #T_96cea_row9_col10, #T_96cea_row9_col11, #T_96cea_row10_col0, #T_96cea_row10_col1, #T_96cea_row10_col2, #T_96cea_row10_col3, #T_96cea_row10_col4, #T_96cea_row10_col5, #T_96cea_row10_col6, #T_96cea_row10_col7, #T_96cea_row10_col8, #T_96cea_row10_col9, #T_96cea_row10_col10, #T_96cea_row10_col11, #T_96cea_row11_col0, #T_96cea_row11_col1, #T_96cea_row11_col2, #T_96cea_row11_col3, #T_96cea_row11_col4, #T_96cea_row11_col5, #T_96cea_row11_col6, #T_96cea_row11_col7, #T_96cea_row11_col8, #T_96cea_row11_col9, #T_96cea_row11_col10, #T_96cea_row12_col0, #T_96cea_row12_col1, #T_96cea_row12_col2, #T_96cea_row12_col3, #T_96cea_row12_col4, #T_96cea_row12_col5, #T_96cea_row12_col6, #T_96cea_row12_col7, #T_96cea_row12_col8, #T_96cea_row12_col9, #T_96cea_row12_col10, #T_96cea_row12_col11, #T_96cea_row13_col0, #T_96cea_row13_col1, #T_96cea_row13_col2, #T_96cea_row13_col3, #T_96cea_row13_col4, #T_96cea_row13_col5, #T_96cea_row13_col6, #T_96cea_row13_col7, #T_96cea_row13_col8, #T_96cea_row13_col9, #T_96cea_row13_col10, #T_96cea_row13_col11, #T_96cea_row14_col0, #T_96cea_row14_col1, #T_96cea_row14_col2, #T_96cea_row14_col3, #T_96cea_row14_col4, #T_96cea_row14_col5, #T_96cea_row14_col6, #T_96cea_row14_col7, #T_96cea_row14_col8, #T_96cea_row14_col9, #T_96cea_row14_col10, #T_96cea_row14_col11, #T_96cea_row15_col0, #T_96cea_row15_col1, #T_96cea_row15_col2, #T_96cea_row15_col3, #T_96cea_row15_col4, #T_96cea_row15_col5, #T_96cea_row15_col6, #T_96cea_row15_col7, #T_96cea_row15_col8, #T_96cea_row15_col9, #T_96cea_row15_col10, #T_96cea_row15_col11, #T_96cea_row16_col0, #T_96cea_row16_col1, #T_96cea_row16_col2, #T_96cea_row16_col3, #T_96cea_row16_col4, #T_96cea_row16_col5, #T_96cea_row16_col6, #T_96cea_row16_col7, #T_96cea_row16_col8, #T_96cea_row16_col9, #T_96cea_row16_col10, #T_96cea_row16_col11, #T_96cea_row17_col0, #T_96cea_row17_col1, #T_96cea_row17_col2, #T_96cea_row17_col3, #T_96cea_row17_col4, #T_96cea_row17_col5, #T_96cea_row17_col6, #T_96cea_row17_col7, #T_96cea_row17_col8, #T_96cea_row17_col9, #T_96cea_row17_col10, #T_96cea_row17_col11, #T_96cea_row18_col0, #T_96cea_row18_col1, #T_96cea_row18_col2, #T_96cea_row18_col3, #T_96cea_row18_col4, #T_96cea_row18_col5, #T_96cea_row18_col6, #T_96cea_row18_col7, #T_96cea_row18_col8, #T_96cea_row18_col9, #T_96cea_row18_col10, #T_96cea_row18_col11 {\n",
       "  text-align: left;\n",
       "}\n",
       "#T_96cea_row0_col1, #T_96cea_row0_col2, #T_96cea_row0_col3, #T_96cea_row0_col4, #T_96cea_row0_col5, #T_96cea_row0_col6, #T_96cea_row0_col7, #T_96cea_row0_col8, #T_96cea_row0_col9, #T_96cea_row0_col10, #T_96cea_row5_col11, #T_96cea_row6_col11, #T_96cea_row7_col11, #T_96cea_row11_col11 {\n",
       "  text-align: left;\n",
       "  background-color: yellow;\n",
       "}\n",
       "#T_96cea_row0_col12, #T_96cea_row1_col12, #T_96cea_row2_col12, #T_96cea_row3_col12, #T_96cea_row4_col12, #T_96cea_row5_col12, #T_96cea_row6_col12, #T_96cea_row7_col12, #T_96cea_row8_col12, #T_96cea_row9_col12, #T_96cea_row10_col12, #T_96cea_row12_col12, #T_96cea_row14_col12, #T_96cea_row15_col12, #T_96cea_row17_col12 {\n",
       "  text-align: left;\n",
       "  background-color: lightgrey;\n",
       "}\n",
       "#T_96cea_row11_col12, #T_96cea_row13_col12, #T_96cea_row16_col12, #T_96cea_row18_col12 {\n",
       "  text-align: left;\n",
       "  background-color: yellow;\n",
       "  background-color: lightgrey;\n",
       "}\n",
       "</style>\n",
       "<table id=\"T_96cea\">\n",
       "  <thead>\n",
       "    <tr>\n",
       "      <th class=\"blank level0\" >&nbsp;</th>\n",
       "      <th id=\"T_96cea_level0_col0\" class=\"col_heading level0 col0\" >Model</th>\n",
       "      <th id=\"T_96cea_level0_col1\" class=\"col_heading level0 col1\" >MAE</th>\n",
       "      <th id=\"T_96cea_level0_col2\" class=\"col_heading level0 col2\" >MSE</th>\n",
       "      <th id=\"T_96cea_level0_col3\" class=\"col_heading level0 col3\" >RMSE</th>\n",
       "      <th id=\"T_96cea_level0_col4\" class=\"col_heading level0 col4\" >R2</th>\n",
       "      <th id=\"T_96cea_level0_col5\" class=\"col_heading level0 col5\" >RMSLE</th>\n",
       "      <th id=\"T_96cea_level0_col6\" class=\"col_heading level0 col6\" >MAPE</th>\n",
       "      <th id=\"T_96cea_level0_col7\" class=\"col_heading level0 col7\" >sigma_mad</th>\n",
       "      <th id=\"T_96cea_level0_col8\" class=\"col_heading level0 col8\" >sigma_nmad</th>\n",
       "      <th id=\"T_96cea_level0_col9\" class=\"col_heading level0 col9\" >sigma_z</th>\n",
       "      <th id=\"T_96cea_level0_col10\" class=\"col_heading level0 col10\" >sigma_z_norm</th>\n",
       "      <th id=\"T_96cea_level0_col11\" class=\"col_heading level0 col11\" >outlier_fr</th>\n",
       "      <th id=\"T_96cea_level0_col12\" class=\"col_heading level0 col12\" >TT (Sec)</th>\n",
       "    </tr>\n",
       "  </thead>\n",
       "  <tbody>\n",
       "    <tr>\n",
       "      <th id=\"T_96cea_level0_row0\" class=\"row_heading level0 row0\" >ada</th>\n",
       "      <td id=\"T_96cea_row0_col0\" class=\"data row0 col0\" >AdaBoost Regressor</td>\n",
       "      <td id=\"T_96cea_row0_col1\" class=\"data row0 col1\" >0.2130</td>\n",
       "      <td id=\"T_96cea_row0_col2\" class=\"data row0 col2\" >0.1265</td>\n",
       "      <td id=\"T_96cea_row0_col3\" class=\"data row0 col3\" >0.2672</td>\n",
       "      <td id=\"T_96cea_row0_col4\" class=\"data row0 col4\" >-5.8820</td>\n",
       "      <td id=\"T_96cea_row0_col5\" class=\"data row0 col5\" >0.0459</td>\n",
       "      <td id=\"T_96cea_row0_col6\" class=\"data row0 col6\" >0.0430</td>\n",
       "      <td id=\"T_96cea_row0_col7\" class=\"data row0 col7\" >0.3152</td>\n",
       "      <td id=\"T_96cea_row0_col8\" class=\"data row0 col8\" >0.0528</td>\n",
       "      <td id=\"T_96cea_row0_col9\" class=\"data row0 col9\" >0.2672</td>\n",
       "      <td id=\"T_96cea_row0_col10\" class=\"data row0 col10\" >0.0441</td>\n",
       "      <td id=\"T_96cea_row0_col11\" class=\"data row0 col11\" >0.0500</td>\n",
       "      <td id=\"T_96cea_row0_col12\" class=\"data row0 col12\" >0.0150</td>\n",
       "    </tr>\n",
       "    <tr>\n",
       "      <th id=\"T_96cea_level0_row1\" class=\"row_heading level0 row1\" >catboost</th>\n",
       "      <td id=\"T_96cea_row1_col0\" class=\"data row1 col0\" >CatBoost Regressor</td>\n",
       "      <td id=\"T_96cea_row1_col1\" class=\"data row1 col1\" >0.2624</td>\n",
       "      <td id=\"T_96cea_row1_col2\" class=\"data row1 col2\" >0.1949</td>\n",
       "      <td id=\"T_96cea_row1_col3\" class=\"data row1 col3\" >0.3186</td>\n",
       "      <td id=\"T_96cea_row1_col4\" class=\"data row1 col4\" >-70.9317</td>\n",
       "      <td id=\"T_96cea_row1_col5\" class=\"data row1 col5\" >0.0541</td>\n",
       "      <td id=\"T_96cea_row1_col6\" class=\"data row1 col6\" >0.0524</td>\n",
       "      <td id=\"T_96cea_row1_col7\" class=\"data row1 col7\" >0.3883</td>\n",
       "      <td id=\"T_96cea_row1_col8\" class=\"data row1 col8\" >0.0644</td>\n",
       "      <td id=\"T_96cea_row1_col9\" class=\"data row1 col9\" >0.3186</td>\n",
       "      <td id=\"T_96cea_row1_col10\" class=\"data row1 col10\" >0.0517</td>\n",
       "      <td id=\"T_96cea_row1_col11\" class=\"data row1 col11\" >0.0500</td>\n",
       "      <td id=\"T_96cea_row1_col12\" class=\"data row1 col12\" >0.0630</td>\n",
       "    </tr>\n",
       "    <tr>\n",
       "      <th id=\"T_96cea_level0_row2\" class=\"row_heading level0 row2\" >rf</th>\n",
       "      <td id=\"T_96cea_row2_col0\" class=\"data row2 col0\" >Random Forest Regressor</td>\n",
       "      <td id=\"T_96cea_row2_col1\" class=\"data row2 col1\" >0.2741</td>\n",
       "      <td id=\"T_96cea_row2_col2\" class=\"data row2 col2\" >0.2349</td>\n",
       "      <td id=\"T_96cea_row2_col3\" class=\"data row2 col3\" >0.3479</td>\n",
       "      <td id=\"T_96cea_row2_col4\" class=\"data row2 col4\" >-27.7034</td>\n",
       "      <td id=\"T_96cea_row2_col5\" class=\"data row2 col5\" >0.0587</td>\n",
       "      <td id=\"T_96cea_row2_col6\" class=\"data row2 col6\" >0.0536</td>\n",
       "      <td id=\"T_96cea_row2_col7\" class=\"data row2 col7\" >0.4057</td>\n",
       "      <td id=\"T_96cea_row2_col8\" class=\"data row2 col8\" >0.0661</td>\n",
       "      <td id=\"T_96cea_row2_col9\" class=\"data row2 col9\" >0.3479</td>\n",
       "      <td id=\"T_96cea_row2_col10\" class=\"data row2 col10\" >0.0556</td>\n",
       "      <td id=\"T_96cea_row2_col11\" class=\"data row2 col11\" >0.1000</td>\n",
       "      <td id=\"T_96cea_row2_col12\" class=\"data row2 col12\" >0.0320</td>\n",
       "    </tr>\n",
       "    <tr>\n",
       "      <th id=\"T_96cea_level0_row3\" class=\"row_heading level0 row3\" >et</th>\n",
       "      <td id=\"T_96cea_row3_col0\" class=\"data row3 col0\" >Extra Trees Regressor</td>\n",
       "      <td id=\"T_96cea_row3_col1\" class=\"data row3 col1\" >0.3102</td>\n",
       "      <td id=\"T_96cea_row3_col2\" class=\"data row3 col2\" >0.2248</td>\n",
       "      <td id=\"T_96cea_row3_col3\" class=\"data row3 col3\" >0.3804</td>\n",
       "      <td id=\"T_96cea_row3_col4\" class=\"data row3 col4\" >-87.5946</td>\n",
       "      <td id=\"T_96cea_row3_col5\" class=\"data row3 col5\" >0.0646</td>\n",
       "      <td id=\"T_96cea_row3_col6\" class=\"data row3 col6\" >0.0628</td>\n",
       "      <td id=\"T_96cea_row3_col7\" class=\"data row3 col7\" >0.4591</td>\n",
       "      <td id=\"T_96cea_row3_col8\" class=\"data row3 col8\" >0.0770</td>\n",
       "      <td id=\"T_96cea_row3_col9\" class=\"data row3 col9\" >0.3804</td>\n",
       "      <td id=\"T_96cea_row3_col10\" class=\"data row3 col10\" >0.0626</td>\n",
       "      <td id=\"T_96cea_row3_col11\" class=\"data row3 col11\" >0.0500</td>\n",
       "      <td id=\"T_96cea_row3_col12\" class=\"data row3 col12\" >0.0270</td>\n",
       "    </tr>\n",
       "    <tr>\n",
       "      <th id=\"T_96cea_level0_row4\" class=\"row_heading level0 row4\" >dt</th>\n",
       "      <td id=\"T_96cea_row4_col0\" class=\"data row4 col0\" >Decision Tree Regressor</td>\n",
       "      <td id=\"T_96cea_row4_col1\" class=\"data row4 col1\" >0.3130</td>\n",
       "      <td id=\"T_96cea_row4_col2\" class=\"data row4 col2\" >0.2906</td>\n",
       "      <td id=\"T_96cea_row4_col3\" class=\"data row4 col3\" >0.3987</td>\n",
       "      <td id=\"T_96cea_row4_col4\" class=\"data row4 col4\" >-44.1812</td>\n",
       "      <td id=\"T_96cea_row4_col5\" class=\"data row4 col5\" >0.0682</td>\n",
       "      <td id=\"T_96cea_row4_col6\" class=\"data row4 col6\" >0.0616</td>\n",
       "      <td id=\"T_96cea_row4_col7\" class=\"data row4 col7\" >0.4632</td>\n",
       "      <td id=\"T_96cea_row4_col8\" class=\"data row4 col8\" >0.0759</td>\n",
       "      <td id=\"T_96cea_row4_col9\" class=\"data row4 col9\" >0.3987</td>\n",
       "      <td id=\"T_96cea_row4_col10\" class=\"data row4 col10\" >0.0644</td>\n",
       "      <td id=\"T_96cea_row4_col11\" class=\"data row4 col11\" >0.1000</td>\n",
       "      <td id=\"T_96cea_row4_col12\" class=\"data row4 col12\" >0.0090</td>\n",
       "    </tr>\n",
       "    <tr>\n",
       "      <th id=\"T_96cea_level0_row5\" class=\"row_heading level0 row5\" >lr</th>\n",
       "      <td id=\"T_96cea_row5_col0\" class=\"data row5 col0\" >Linear Regression</td>\n",
       "      <td id=\"T_96cea_row5_col1\" class=\"data row5 col1\" >0.3303</td>\n",
       "      <td id=\"T_96cea_row5_col2\" class=\"data row5 col2\" >0.1666</td>\n",
       "      <td id=\"T_96cea_row5_col3\" class=\"data row5 col3\" >0.3696</td>\n",
       "      <td id=\"T_96cea_row5_col4\" class=\"data row5 col4\" >-161.1260</td>\n",
       "      <td id=\"T_96cea_row5_col5\" class=\"data row5 col5\" >0.0651</td>\n",
       "      <td id=\"T_96cea_row5_col6\" class=\"data row5 col6\" >0.0710</td>\n",
       "      <td id=\"T_96cea_row5_col7\" class=\"data row5 col7\" >0.4889</td>\n",
       "      <td id=\"T_96cea_row5_col8\" class=\"data row5 col8\" >0.0863</td>\n",
       "      <td id=\"T_96cea_row5_col9\" class=\"data row5 col9\" >0.3696</td>\n",
       "      <td id=\"T_96cea_row5_col10\" class=\"data row5 col10\" >0.0646</td>\n",
       "      <td id=\"T_96cea_row5_col11\" class=\"data row5 col11\" >0.0000</td>\n",
       "      <td id=\"T_96cea_row5_col12\" class=\"data row5 col12\" >0.2190</td>\n",
       "    </tr>\n",
       "    <tr>\n",
       "      <th id=\"T_96cea_level0_row6\" class=\"row_heading level0 row6\" >lar</th>\n",
       "      <td id=\"T_96cea_row6_col0\" class=\"data row6 col0\" >Least Angle Regression</td>\n",
       "      <td id=\"T_96cea_row6_col1\" class=\"data row6 col1\" >0.3324</td>\n",
       "      <td id=\"T_96cea_row6_col2\" class=\"data row6 col2\" >0.1672</td>\n",
       "      <td id=\"T_96cea_row6_col3\" class=\"data row6 col3\" >0.3719</td>\n",
       "      <td id=\"T_96cea_row6_col4\" class=\"data row6 col4\" >-199.4040</td>\n",
       "      <td id=\"T_96cea_row6_col5\" class=\"data row6 col5\" >0.0656</td>\n",
       "      <td id=\"T_96cea_row6_col6\" class=\"data row6 col6\" >0.0717</td>\n",
       "      <td id=\"T_96cea_row6_col7\" class=\"data row6 col7\" >0.4919</td>\n",
       "      <td id=\"T_96cea_row6_col8\" class=\"data row6 col8\" >0.0871</td>\n",
       "      <td id=\"T_96cea_row6_col9\" class=\"data row6 col9\" >0.3719</td>\n",
       "      <td id=\"T_96cea_row6_col10\" class=\"data row6 col10\" >0.0653</td>\n",
       "      <td id=\"T_96cea_row6_col11\" class=\"data row6 col11\" >0.0000</td>\n",
       "      <td id=\"T_96cea_row6_col12\" class=\"data row6 col12\" >0.0090</td>\n",
       "    </tr>\n",
       "    <tr>\n",
       "      <th id=\"T_96cea_level0_row7\" class=\"row_heading level0 row7\" >ridge</th>\n",
       "      <td id=\"T_96cea_row7_col0\" class=\"data row7 col0\" >Ridge Regression</td>\n",
       "      <td id=\"T_96cea_row7_col1\" class=\"data row7 col1\" >0.3356</td>\n",
       "      <td id=\"T_96cea_row7_col2\" class=\"data row7 col2\" >0.1789</td>\n",
       "      <td id=\"T_96cea_row7_col3\" class=\"data row7 col3\" >0.3801</td>\n",
       "      <td id=\"T_96cea_row7_col4\" class=\"data row7 col4\" >-151.8393</td>\n",
       "      <td id=\"T_96cea_row7_col5\" class=\"data row7 col5\" >0.0662</td>\n",
       "      <td id=\"T_96cea_row7_col6\" class=\"data row7 col6\" >0.0711</td>\n",
       "      <td id=\"T_96cea_row7_col7\" class=\"data row7 col7\" >0.4967</td>\n",
       "      <td id=\"T_96cea_row7_col8\" class=\"data row7 col8\" >0.0866</td>\n",
       "      <td id=\"T_96cea_row7_col9\" class=\"data row7 col9\" >0.3801</td>\n",
       "      <td id=\"T_96cea_row7_col10\" class=\"data row7 col10\" >0.0654</td>\n",
       "      <td id=\"T_96cea_row7_col11\" class=\"data row7 col11\" >0.0000</td>\n",
       "      <td id=\"T_96cea_row7_col12\" class=\"data row7 col12\" >0.0090</td>\n",
       "    </tr>\n",
       "    <tr>\n",
       "      <th id=\"T_96cea_level0_row8\" class=\"row_heading level0 row8\" >gbr</th>\n",
       "      <td id=\"T_96cea_row8_col0\" class=\"data row8 col0\" >Gradient Boosting Regressor</td>\n",
       "      <td id=\"T_96cea_row8_col1\" class=\"data row8 col1\" >0.3387</td>\n",
       "      <td id=\"T_96cea_row8_col2\" class=\"data row8 col2\" >0.3246</td>\n",
       "      <td id=\"T_96cea_row8_col3\" class=\"data row8 col3\" >0.4084</td>\n",
       "      <td id=\"T_96cea_row8_col4\" class=\"data row8 col4\" >-10.6789</td>\n",
       "      <td id=\"T_96cea_row8_col5\" class=\"data row8 col5\" >0.0692</td>\n",
       "      <td id=\"T_96cea_row8_col6\" class=\"data row8 col6\" >0.0674</td>\n",
       "      <td id=\"T_96cea_row8_col7\" class=\"data row8 col7\" >0.5013</td>\n",
       "      <td id=\"T_96cea_row8_col8\" class=\"data row8 col8\" >0.0829</td>\n",
       "      <td id=\"T_96cea_row8_col9\" class=\"data row8 col9\" >0.4084</td>\n",
       "      <td id=\"T_96cea_row8_col10\" class=\"data row8 col10\" >0.0660</td>\n",
       "      <td id=\"T_96cea_row8_col11\" class=\"data row8 col11\" >0.1000</td>\n",
       "      <td id=\"T_96cea_row8_col12\" class=\"data row8 col12\" >0.0120</td>\n",
       "    </tr>\n",
       "    <tr>\n",
       "      <th id=\"T_96cea_level0_row9\" class=\"row_heading level0 row9\" >br</th>\n",
       "      <td id=\"T_96cea_row9_col0\" class=\"data row9 col0\" >Bayesian Ridge</td>\n",
       "      <td id=\"T_96cea_row9_col1\" class=\"data row9 col1\" >0.3626</td>\n",
       "      <td id=\"T_96cea_row9_col2\" class=\"data row9 col2\" >0.2271</td>\n",
       "      <td id=\"T_96cea_row9_col3\" class=\"data row9 col3\" >0.4112</td>\n",
       "      <td id=\"T_96cea_row9_col4\" class=\"data row9 col4\" >-154.6691</td>\n",
       "      <td id=\"T_96cea_row9_col5\" class=\"data row9 col5\" >0.0715</td>\n",
       "      <td id=\"T_96cea_row9_col6\" class=\"data row9 col6\" >0.0760</td>\n",
       "      <td id=\"T_96cea_row9_col7\" class=\"data row9 col7\" >0.5366</td>\n",
       "      <td id=\"T_96cea_row9_col8\" class=\"data row9 col8\" >0.0927</td>\n",
       "      <td id=\"T_96cea_row9_col9\" class=\"data row9 col9\" >0.4112</td>\n",
       "      <td id=\"T_96cea_row9_col10\" class=\"data row9 col10\" >0.0700</td>\n",
       "      <td id=\"T_96cea_row9_col11\" class=\"data row9 col11\" >0.0500</td>\n",
       "      <td id=\"T_96cea_row9_col12\" class=\"data row9 col12\" >0.0090</td>\n",
       "    </tr>\n",
       "    <tr>\n",
       "      <th id=\"T_96cea_level0_row10\" class=\"row_heading level0 row10\" >xgboost</th>\n",
       "      <td id=\"T_96cea_row10_col0\" class=\"data row10 col0\" >Extreme Gradient Boosting</td>\n",
       "      <td id=\"T_96cea_row10_col1\" class=\"data row10 col1\" >0.3715</td>\n",
       "      <td id=\"T_96cea_row10_col2\" class=\"data row10 col2\" >0.3420</td>\n",
       "      <td id=\"T_96cea_row10_col3\" class=\"data row10 col3\" >0.4602</td>\n",
       "      <td id=\"T_96cea_row10_col4\" class=\"data row10 col4\" >-89.2446</td>\n",
       "      <td id=\"T_96cea_row10_col5\" class=\"data row10 col5\" >0.0763</td>\n",
       "      <td id=\"T_96cea_row10_col6\" class=\"data row10 col6\" >0.0776</td>\n",
       "      <td id=\"T_96cea_row10_col7\" class=\"data row10 col7\" >0.5498</td>\n",
       "      <td id=\"T_96cea_row10_col8\" class=\"data row10 col8\" >0.0948</td>\n",
       "      <td id=\"T_96cea_row10_col9\" class=\"data row10 col9\" >0.4602</td>\n",
       "      <td id=\"T_96cea_row10_col10\" class=\"data row10 col10\" >0.0783</td>\n",
       "      <td id=\"T_96cea_row10_col11\" class=\"data row10 col11\" >0.1500</td>\n",
       "      <td id=\"T_96cea_row10_col12\" class=\"data row10 col12\" >2.3850</td>\n",
       "    </tr>\n",
       "    <tr>\n",
       "      <th id=\"T_96cea_level0_row11\" class=\"row_heading level0 row11\" >par</th>\n",
       "      <td id=\"T_96cea_row11_col0\" class=\"data row11 col0\" >Passive Aggressive Regressor</td>\n",
       "      <td id=\"T_96cea_row11_col1\" class=\"data row11 col1\" >0.4332</td>\n",
       "      <td id=\"T_96cea_row11_col2\" class=\"data row11 col2\" >0.2241</td>\n",
       "      <td id=\"T_96cea_row11_col3\" class=\"data row11 col3\" >0.4576</td>\n",
       "      <td id=\"T_96cea_row11_col4\" class=\"data row11 col4\" >-349.6556</td>\n",
       "      <td id=\"T_96cea_row11_col5\" class=\"data row11 col5\" >0.0827</td>\n",
       "      <td id=\"T_96cea_row11_col6\" class=\"data row11 col6\" >0.0953</td>\n",
       "      <td id=\"T_96cea_row11_col7\" class=\"data row11 col7\" >0.6411</td>\n",
       "      <td id=\"T_96cea_row11_col8\" class=\"data row11 col8\" >0.1154</td>\n",
       "      <td id=\"T_96cea_row11_col9\" class=\"data row11 col9\" >0.4576</td>\n",
       "      <td id=\"T_96cea_row11_col10\" class=\"data row11 col10\" >0.0823</td>\n",
       "      <td id=\"T_96cea_row11_col11\" class=\"data row11 col11\" >0.0000</td>\n",
       "      <td id=\"T_96cea_row11_col12\" class=\"data row11 col12\" >0.0080</td>\n",
       "    </tr>\n",
       "    <tr>\n",
       "      <th id=\"T_96cea_level0_row12\" class=\"row_heading level0 row12\" >lasso</th>\n",
       "      <td id=\"T_96cea_row12_col0\" class=\"data row12 col0\" >Lasso Regression</td>\n",
       "      <td id=\"T_96cea_row12_col1\" class=\"data row12 col1\" >0.4349</td>\n",
       "      <td id=\"T_96cea_row12_col2\" class=\"data row12 col2\" >0.3394</td>\n",
       "      <td id=\"T_96cea_row12_col3\" class=\"data row12 col3\" >0.4894</td>\n",
       "      <td id=\"T_96cea_row12_col4\" class=\"data row12 col4\" >-491.8908</td>\n",
       "      <td id=\"T_96cea_row12_col5\" class=\"data row12 col5\" >0.0856</td>\n",
       "      <td id=\"T_96cea_row12_col6\" class=\"data row12 col6\" >0.0921</td>\n",
       "      <td id=\"T_96cea_row12_col7\" class=\"data row12 col7\" >0.6436</td>\n",
       "      <td id=\"T_96cea_row12_col8\" class=\"data row12 col8\" >0.1121</td>\n",
       "      <td id=\"T_96cea_row12_col9\" class=\"data row12 col9\" >0.4894</td>\n",
       "      <td id=\"T_96cea_row12_col10\" class=\"data row12 col10\" >0.0837</td>\n",
       "      <td id=\"T_96cea_row12_col11\" class=\"data row12 col11\" >0.1000</td>\n",
       "      <td id=\"T_96cea_row12_col12\" class=\"data row12 col12\" >0.1430</td>\n",
       "    </tr>\n",
       "    <tr>\n",
       "      <th id=\"T_96cea_level0_row13\" class=\"row_heading level0 row13\" >en</th>\n",
       "      <td id=\"T_96cea_row13_col0\" class=\"data row13 col0\" >Elastic Net</td>\n",
       "      <td id=\"T_96cea_row13_col1\" class=\"data row13 col1\" >0.4349</td>\n",
       "      <td id=\"T_96cea_row13_col2\" class=\"data row13 col2\" >0.3394</td>\n",
       "      <td id=\"T_96cea_row13_col3\" class=\"data row13 col3\" >0.4894</td>\n",
       "      <td id=\"T_96cea_row13_col4\" class=\"data row13 col4\" >-491.8908</td>\n",
       "      <td id=\"T_96cea_row13_col5\" class=\"data row13 col5\" >0.0856</td>\n",
       "      <td id=\"T_96cea_row13_col6\" class=\"data row13 col6\" >0.0921</td>\n",
       "      <td id=\"T_96cea_row13_col7\" class=\"data row13 col7\" >0.6436</td>\n",
       "      <td id=\"T_96cea_row13_col8\" class=\"data row13 col8\" >0.1121</td>\n",
       "      <td id=\"T_96cea_row13_col9\" class=\"data row13 col9\" >0.4894</td>\n",
       "      <td id=\"T_96cea_row13_col10\" class=\"data row13 col10\" >0.0837</td>\n",
       "      <td id=\"T_96cea_row13_col11\" class=\"data row13 col11\" >0.1000</td>\n",
       "      <td id=\"T_96cea_row13_col12\" class=\"data row13 col12\" >0.0080</td>\n",
       "    </tr>\n",
       "    <tr>\n",
       "      <th id=\"T_96cea_level0_row14\" class=\"row_heading level0 row14\" >llar</th>\n",
       "      <td id=\"T_96cea_row14_col0\" class=\"data row14 col0\" >Lasso Least Angle Regression</td>\n",
       "      <td id=\"T_96cea_row14_col1\" class=\"data row14 col1\" >0.4349</td>\n",
       "      <td id=\"T_96cea_row14_col2\" class=\"data row14 col2\" >0.3394</td>\n",
       "      <td id=\"T_96cea_row14_col3\" class=\"data row14 col3\" >0.4894</td>\n",
       "      <td id=\"T_96cea_row14_col4\" class=\"data row14 col4\" >-491.8908</td>\n",
       "      <td id=\"T_96cea_row14_col5\" class=\"data row14 col5\" >0.0856</td>\n",
       "      <td id=\"T_96cea_row14_col6\" class=\"data row14 col6\" >0.0921</td>\n",
       "      <td id=\"T_96cea_row14_col7\" class=\"data row14 col7\" >0.6436</td>\n",
       "      <td id=\"T_96cea_row14_col8\" class=\"data row14 col8\" >0.1121</td>\n",
       "      <td id=\"T_96cea_row14_col9\" class=\"data row14 col9\" >0.4894</td>\n",
       "      <td id=\"T_96cea_row14_col10\" class=\"data row14 col10\" >0.0837</td>\n",
       "      <td id=\"T_96cea_row14_col11\" class=\"data row14 col11\" >0.1000</td>\n",
       "      <td id=\"T_96cea_row14_col12\" class=\"data row14 col12\" >0.0090</td>\n",
       "    </tr>\n",
       "    <tr>\n",
       "      <th id=\"T_96cea_level0_row15\" class=\"row_heading level0 row15\" >lightgbm</th>\n",
       "      <td id=\"T_96cea_row15_col0\" class=\"data row15 col0\" >Light Gradient Boosting Machine</td>\n",
       "      <td id=\"T_96cea_row15_col1\" class=\"data row15 col1\" >0.4349</td>\n",
       "      <td id=\"T_96cea_row15_col2\" class=\"data row15 col2\" >0.3394</td>\n",
       "      <td id=\"T_96cea_row15_col3\" class=\"data row15 col3\" >0.4894</td>\n",
       "      <td id=\"T_96cea_row15_col4\" class=\"data row15 col4\" >-491.8901</td>\n",
       "      <td id=\"T_96cea_row15_col5\" class=\"data row15 col5\" >0.0856</td>\n",
       "      <td id=\"T_96cea_row15_col6\" class=\"data row15 col6\" >0.0921</td>\n",
       "      <td id=\"T_96cea_row15_col7\" class=\"data row15 col7\" >0.6436</td>\n",
       "      <td id=\"T_96cea_row15_col8\" class=\"data row15 col8\" >0.1121</td>\n",
       "      <td id=\"T_96cea_row15_col9\" class=\"data row15 col9\" >0.4894</td>\n",
       "      <td id=\"T_96cea_row15_col10\" class=\"data row15 col10\" >0.0837</td>\n",
       "      <td id=\"T_96cea_row15_col11\" class=\"data row15 col11\" >0.1000</td>\n",
       "      <td id=\"T_96cea_row15_col12\" class=\"data row15 col12\" >0.2020</td>\n",
       "    </tr>\n",
       "    <tr>\n",
       "      <th id=\"T_96cea_level0_row16\" class=\"row_heading level0 row16\" >dummy</th>\n",
       "      <td id=\"T_96cea_row16_col0\" class=\"data row16 col0\" >Dummy Regressor</td>\n",
       "      <td id=\"T_96cea_row16_col1\" class=\"data row16 col1\" >0.4349</td>\n",
       "      <td id=\"T_96cea_row16_col2\" class=\"data row16 col2\" >0.3394</td>\n",
       "      <td id=\"T_96cea_row16_col3\" class=\"data row16 col3\" >0.4894</td>\n",
       "      <td id=\"T_96cea_row16_col4\" class=\"data row16 col4\" >-491.8908</td>\n",
       "      <td id=\"T_96cea_row16_col5\" class=\"data row16 col5\" >0.0856</td>\n",
       "      <td id=\"T_96cea_row16_col6\" class=\"data row16 col6\" >0.0921</td>\n",
       "      <td id=\"T_96cea_row16_col7\" class=\"data row16 col7\" >0.6436</td>\n",
       "      <td id=\"T_96cea_row16_col8\" class=\"data row16 col8\" >0.1121</td>\n",
       "      <td id=\"T_96cea_row16_col9\" class=\"data row16 col9\" >0.4894</td>\n",
       "      <td id=\"T_96cea_row16_col10\" class=\"data row16 col10\" >0.0837</td>\n",
       "      <td id=\"T_96cea_row16_col11\" class=\"data row16 col11\" >0.1000</td>\n",
       "      <td id=\"T_96cea_row16_col12\" class=\"data row16 col12\" >0.0080</td>\n",
       "    </tr>\n",
       "    <tr>\n",
       "      <th id=\"T_96cea_level0_row17\" class=\"row_heading level0 row17\" >huber</th>\n",
       "      <td id=\"T_96cea_row17_col0\" class=\"data row17 col0\" >Huber Regressor</td>\n",
       "      <td id=\"T_96cea_row17_col1\" class=\"data row17 col1\" >0.4513</td>\n",
       "      <td id=\"T_96cea_row17_col2\" class=\"data row17 col2\" >0.4755</td>\n",
       "      <td id=\"T_96cea_row17_col3\" class=\"data row17 col3\" >0.5326</td>\n",
       "      <td id=\"T_96cea_row17_col4\" class=\"data row17 col4\" >-245.3266</td>\n",
       "      <td id=\"T_96cea_row17_col5\" class=\"data row17 col5\" >0.0948</td>\n",
       "      <td id=\"T_96cea_row17_col6\" class=\"data row17 col6\" >0.0931</td>\n",
       "      <td id=\"T_96cea_row17_col7\" class=\"data row17 col7\" >0.6679</td>\n",
       "      <td id=\"T_96cea_row17_col8\" class=\"data row17 col8\" >0.1138</td>\n",
       "      <td id=\"T_96cea_row17_col9\" class=\"data row17 col9\" >0.5326</td>\n",
       "      <td id=\"T_96cea_row17_col10\" class=\"data row17 col10\" >0.0894</td>\n",
       "      <td id=\"T_96cea_row17_col11\" class=\"data row17 col11\" >0.0500</td>\n",
       "      <td id=\"T_96cea_row17_col12\" class=\"data row17 col12\" >0.0090</td>\n",
       "    </tr>\n",
       "    <tr>\n",
       "      <th id=\"T_96cea_level0_row18\" class=\"row_heading level0 row18\" >omp</th>\n",
       "      <td id=\"T_96cea_row18_col0\" class=\"data row18 col0\" >Orthogonal Matching Pursuit</td>\n",
       "      <td id=\"T_96cea_row18_col1\" class=\"data row18 col1\" >0.4574</td>\n",
       "      <td id=\"T_96cea_row18_col2\" class=\"data row18 col2\" >0.4607</td>\n",
       "      <td id=\"T_96cea_row18_col3\" class=\"data row18 col3\" >0.5338</td>\n",
       "      <td id=\"T_96cea_row18_col4\" class=\"data row18 col4\" >-416.2612</td>\n",
       "      <td id=\"T_96cea_row18_col5\" class=\"data row18 col5\" >0.0949</td>\n",
       "      <td id=\"T_96cea_row18_col6\" class=\"data row18 col6\" >0.0952</td>\n",
       "      <td id=\"T_96cea_row18_col7\" class=\"data row18 col7\" >0.6770</td>\n",
       "      <td id=\"T_96cea_row18_col8\" class=\"data row18 col8\" >0.1162</td>\n",
       "      <td id=\"T_96cea_row18_col9\" class=\"data row18 col9\" >0.5338</td>\n",
       "      <td id=\"T_96cea_row18_col10\" class=\"data row18 col10\" >0.0901</td>\n",
       "      <td id=\"T_96cea_row18_col11\" class=\"data row18 col11\" >0.1500</td>\n",
       "      <td id=\"T_96cea_row18_col12\" class=\"data row18 col12\" >0.0080</td>\n",
       "    </tr>\n",
       "  </tbody>\n",
       "</table>\n"
      ],
      "text/plain": [
       "<pandas.io.formats.style.Styler at 0x7f538f20fac0>"
      ]
     },
     "metadata": {},
     "output_type": "display_data"
    }
   ],
   "source": [
    "# z >= 3\n",
    "# final_selection_reg  = ['rf', 'et', 'gbr', 'catboost', 'xgboost', 'dummy']\n",
    "# z >= 4\n",
    "final_selection_reg  = ['ada', 'catboost', 'rf', 'et', 'dt', 'dummy']\n",
    "n_models             = 5\n",
    "# top_model_z          = pyr.compare_models(n_select=n_models, include=final_selection_reg, sort='s_mad')  # 1:15 hour for used_models_clf\n",
    "top_model_z          = pyr.compare_models(n_select=n_models, exclude=['knn'], sort='s_mad')  # 5 minutes, using all models."
   ]
  },
  {
   "cell_type": "markdown",
   "id": "ef2770ab",
   "metadata": {},
   "source": [
    "Thus, we select `lightgbm` as meta learner."
   ]
  },
  {
   "cell_type": "markdown",
   "id": "28fcda39",
   "metadata": {},
   "source": [
    "Thus, we stack the models."
   ]
  },
  {
   "cell_type": "code",
   "execution_count": 80,
   "id": "7430cad2",
   "metadata": {},
   "outputs": [
    {
     "data": {
      "text/html": [
       "<style type=\"text/css\">\n",
       "#T_63ab8_row10_col0, #T_63ab8_row10_col1, #T_63ab8_row10_col2, #T_63ab8_row10_col3, #T_63ab8_row10_col4, #T_63ab8_row10_col5, #T_63ab8_row10_col6, #T_63ab8_row10_col7, #T_63ab8_row10_col8, #T_63ab8_row10_col9, #T_63ab8_row10_col10 {\n",
       "  background: yellow;\n",
       "}\n",
       "</style>\n",
       "<table id=\"T_63ab8\">\n",
       "  <thead>\n",
       "    <tr>\n",
       "      <th class=\"blank level0\" >&nbsp;</th>\n",
       "      <th id=\"T_63ab8_level0_col0\" class=\"col_heading level0 col0\" >MAE</th>\n",
       "      <th id=\"T_63ab8_level0_col1\" class=\"col_heading level0 col1\" >MSE</th>\n",
       "      <th id=\"T_63ab8_level0_col2\" class=\"col_heading level0 col2\" >RMSE</th>\n",
       "      <th id=\"T_63ab8_level0_col3\" class=\"col_heading level0 col3\" >R2</th>\n",
       "      <th id=\"T_63ab8_level0_col4\" class=\"col_heading level0 col4\" >RMSLE</th>\n",
       "      <th id=\"T_63ab8_level0_col5\" class=\"col_heading level0 col5\" >MAPE</th>\n",
       "      <th id=\"T_63ab8_level0_col6\" class=\"col_heading level0 col6\" >sigma_mad</th>\n",
       "      <th id=\"T_63ab8_level0_col7\" class=\"col_heading level0 col7\" >sigma_nmad</th>\n",
       "      <th id=\"T_63ab8_level0_col8\" class=\"col_heading level0 col8\" >sigma_z</th>\n",
       "      <th id=\"T_63ab8_level0_col9\" class=\"col_heading level0 col9\" >sigma_z_norm</th>\n",
       "      <th id=\"T_63ab8_level0_col10\" class=\"col_heading level0 col10\" >outlier_fr</th>\n",
       "    </tr>\n",
       "    <tr>\n",
       "      <th class=\"index_name level0\" >Fold</th>\n",
       "      <th class=\"blank col0\" >&nbsp;</th>\n",
       "      <th class=\"blank col1\" >&nbsp;</th>\n",
       "      <th class=\"blank col2\" >&nbsp;</th>\n",
       "      <th class=\"blank col3\" >&nbsp;</th>\n",
       "      <th class=\"blank col4\" >&nbsp;</th>\n",
       "      <th class=\"blank col5\" >&nbsp;</th>\n",
       "      <th class=\"blank col6\" >&nbsp;</th>\n",
       "      <th class=\"blank col7\" >&nbsp;</th>\n",
       "      <th class=\"blank col8\" >&nbsp;</th>\n",
       "      <th class=\"blank col9\" >&nbsp;</th>\n",
       "      <th class=\"blank col10\" >&nbsp;</th>\n",
       "    </tr>\n",
       "  </thead>\n",
       "  <tbody>\n",
       "    <tr>\n",
       "      <th id=\"T_63ab8_level0_row0\" class=\"row_heading level0 row0\" >0</th>\n",
       "      <td id=\"T_63ab8_row0_col0\" class=\"data row0 col0\" >0.3802</td>\n",
       "      <td id=\"T_63ab8_row0_col1\" class=\"data row0 col1\" >0.1557</td>\n",
       "      <td id=\"T_63ab8_row0_col2\" class=\"data row0 col2\" >0.3946</td>\n",
       "      <td id=\"T_63ab8_row0_col3\" class=\"data row0 col3\" >-1.9178</td>\n",
       "      <td id=\"T_63ab8_row0_col4\" class=\"data row0 col4\" >0.0722</td>\n",
       "      <td id=\"T_63ab8_row0_col5\" class=\"data row0 col5\" >0.0883</td>\n",
       "      <td id=\"T_63ab8_row0_col6\" class=\"data row0 col6\" >0.5627</td>\n",
       "      <td id=\"T_63ab8_row0_col7\" class=\"data row0 col7\" >0.1061</td>\n",
       "      <td id=\"T_63ab8_row0_col8\" class=\"data row0 col8\" >0.3946</td>\n",
       "      <td id=\"T_63ab8_row0_col9\" class=\"data row0 col9\" >0.0752</td>\n",
       "      <td id=\"T_63ab8_row0_col10\" class=\"data row0 col10\" >0.0000</td>\n",
       "    </tr>\n",
       "    <tr>\n",
       "      <th id=\"T_63ab8_level0_row1\" class=\"row_heading level0 row1\" >1</th>\n",
       "      <td id=\"T_63ab8_row1_col0\" class=\"data row1 col0\" >0.2675</td>\n",
       "      <td id=\"T_63ab8_row1_col1\" class=\"data row1 col1\" >0.1304</td>\n",
       "      <td id=\"T_63ab8_row1_col2\" class=\"data row1 col2\" >0.3611</td>\n",
       "      <td id=\"T_63ab8_row1_col3\" class=\"data row1 col3\" >0.8812</td>\n",
       "      <td id=\"T_63ab8_row1_col4\" class=\"data row1 col4\" >0.0520</td>\n",
       "      <td id=\"T_63ab8_row1_col5\" class=\"data row1 col5\" >0.0441</td>\n",
       "      <td id=\"T_63ab8_row1_col6\" class=\"data row1 col6\" >0.3959</td>\n",
       "      <td id=\"T_63ab8_row1_col7\" class=\"data row1 col7\" >0.0560</td>\n",
       "      <td id=\"T_63ab8_row1_col8\" class=\"data row1 col8\" >0.3611</td>\n",
       "      <td id=\"T_63ab8_row1_col9\" class=\"data row1 col9\" >0.0501</td>\n",
       "      <td id=\"T_63ab8_row1_col10\" class=\"data row1 col10\" >0.0000</td>\n",
       "    </tr>\n",
       "    <tr>\n",
       "      <th id=\"T_63ab8_level0_row2\" class=\"row_heading level0 row2\" >2</th>\n",
       "      <td id=\"T_63ab8_row2_col0\" class=\"data row2 col0\" >0.6410</td>\n",
       "      <td id=\"T_63ab8_row2_col1\" class=\"data row2 col1\" >0.8040</td>\n",
       "      <td id=\"T_63ab8_row2_col2\" class=\"data row2 col2\" >0.8967</td>\n",
       "      <td id=\"T_63ab8_row2_col3\" class=\"data row2 col3\" >-0.3114</td>\n",
       "      <td id=\"T_63ab8_row2_col4\" class=\"data row2 col4\" >0.1484</td>\n",
       "      <td id=\"T_63ab8_row2_col5\" class=\"data row2 col5\" >0.1129</td>\n",
       "      <td id=\"T_63ab8_row2_col6\" class=\"data row2 col6\" >0.9487</td>\n",
       "      <td id=\"T_63ab8_row2_col7\" class=\"data row2 col7\" >0.1421</td>\n",
       "      <td id=\"T_63ab8_row2_col8\" class=\"data row2 col8\" >0.8967</td>\n",
       "      <td id=\"T_63ab8_row2_col9\" class=\"data row2 col9\" >0.1338</td>\n",
       "      <td id=\"T_63ab8_row2_col10\" class=\"data row2 col10\" >0.5000</td>\n",
       "    </tr>\n",
       "    <tr>\n",
       "      <th id=\"T_63ab8_level0_row3\" class=\"row_heading level0 row3\" >3</th>\n",
       "      <td id=\"T_63ab8_row3_col0\" class=\"data row3 col0\" >0.1483</td>\n",
       "      <td id=\"T_63ab8_row3_col1\" class=\"data row3 col1\" >0.0404</td>\n",
       "      <td id=\"T_63ab8_row3_col2\" class=\"data row3 col2\" >0.2010</td>\n",
       "      <td id=\"T_63ab8_row3_col3\" class=\"data row3 col3\" >-1.2503</td>\n",
       "      <td id=\"T_63ab8_row3_col4\" class=\"data row3 col4\" >0.0380</td>\n",
       "      <td id=\"T_63ab8_row3_col5\" class=\"data row3 col5\" >0.0334</td>\n",
       "      <td id=\"T_63ab8_row3_col6\" class=\"data row3 col6\" >0.2194</td>\n",
       "      <td id=\"T_63ab8_row3_col7\" class=\"data row3 col7\" >0.0403</td>\n",
       "      <td id=\"T_63ab8_row3_col8\" class=\"data row3 col8\" >0.2010</td>\n",
       "      <td id=\"T_63ab8_row3_col9\" class=\"data row3 col9\" >0.0370</td>\n",
       "      <td id=\"T_63ab8_row3_col10\" class=\"data row3 col10\" >0.0000</td>\n",
       "    </tr>\n",
       "    <tr>\n",
       "      <th id=\"T_63ab8_level0_row4\" class=\"row_heading level0 row4\" >4</th>\n",
       "      <td id=\"T_63ab8_row4_col0\" class=\"data row4 col0\" >0.1870</td>\n",
       "      <td id=\"T_63ab8_row4_col1\" class=\"data row4 col1\" >0.0487</td>\n",
       "      <td id=\"T_63ab8_row4_col2\" class=\"data row4 col2\" >0.2206</td>\n",
       "      <td id=\"T_63ab8_row4_col3\" class=\"data row4 col3\" >-485.5819</td>\n",
       "      <td id=\"T_63ab8_row4_col4\" class=\"data row4 col4\" >0.0419</td>\n",
       "      <td id=\"T_63ab8_row4_col5\" class=\"data row4 col5\" >0.0453</td>\n",
       "      <td id=\"T_63ab8_row4_col6\" class=\"data row4 col6\" >0.2768</td>\n",
       "      <td id=\"T_63ab8_row4_col7\" class=\"data row4 col7\" >0.0539</td>\n",
       "      <td id=\"T_63ab8_row4_col8\" class=\"data row4 col8\" >0.2206</td>\n",
       "      <td id=\"T_63ab8_row4_col9\" class=\"data row4 col9\" >0.0430</td>\n",
       "      <td id=\"T_63ab8_row4_col10\" class=\"data row4 col10\" >0.0000</td>\n",
       "    </tr>\n",
       "    <tr>\n",
       "      <th id=\"T_63ab8_level0_row5\" class=\"row_heading level0 row5\" >5</th>\n",
       "      <td id=\"T_63ab8_row5_col0\" class=\"data row5 col0\" >0.1600</td>\n",
       "      <td id=\"T_63ab8_row5_col1\" class=\"data row5 col1\" >0.0395</td>\n",
       "      <td id=\"T_63ab8_row5_col2\" class=\"data row5 col2\" >0.1988</td>\n",
       "      <td id=\"T_63ab8_row5_col3\" class=\"data row5 col3\" >0.3922</td>\n",
       "      <td id=\"T_63ab8_row5_col4\" class=\"data row5 col4\" >0.0343</td>\n",
       "      <td id=\"T_63ab8_row5_col5\" class=\"data row5 col5\" >0.0347</td>\n",
       "      <td id=\"T_63ab8_row5_col6\" class=\"data row5 col6\" >0.2368</td>\n",
       "      <td id=\"T_63ab8_row5_col7\" class=\"data row5 col7\" >0.0422</td>\n",
       "      <td id=\"T_63ab8_row5_col8\" class=\"data row5 col8\" >0.1988</td>\n",
       "      <td id=\"T_63ab8_row5_col9\" class=\"data row5 col9\" >0.0351</td>\n",
       "      <td id=\"T_63ab8_row5_col10\" class=\"data row5 col10\" >0.0000</td>\n",
       "    </tr>\n",
       "    <tr>\n",
       "      <th id=\"T_63ab8_level0_row6\" class=\"row_heading level0 row6\" >6</th>\n",
       "      <td id=\"T_63ab8_row6_col0\" class=\"data row6 col0\" >0.0445</td>\n",
       "      <td id=\"T_63ab8_row6_col1\" class=\"data row6 col1\" >0.0023</td>\n",
       "      <td id=\"T_63ab8_row6_col2\" class=\"data row6 col2\" >0.0477</td>\n",
       "      <td id=\"T_63ab8_row6_col3\" class=\"data row6 col3\" >-19.6810</td>\n",
       "      <td id=\"T_63ab8_row6_col4\" class=\"data row6 col4\" >0.0094</td>\n",
       "      <td id=\"T_63ab8_row6_col5\" class=\"data row6 col5\" >0.0109</td>\n",
       "      <td id=\"T_63ab8_row6_col6\" class=\"data row6 col6\" >0.0659</td>\n",
       "      <td id=\"T_63ab8_row6_col7\" class=\"data row6 col7\" >0.0130</td>\n",
       "      <td id=\"T_63ab8_row6_col8\" class=\"data row6 col8\" >0.0477</td>\n",
       "      <td id=\"T_63ab8_row6_col9\" class=\"data row6 col9\" >0.0094</td>\n",
       "      <td id=\"T_63ab8_row6_col10\" class=\"data row6 col10\" >0.0000</td>\n",
       "    </tr>\n",
       "    <tr>\n",
       "      <th id=\"T_63ab8_level0_row7\" class=\"row_heading level0 row7\" >7</th>\n",
       "      <td id=\"T_63ab8_row7_col0\" class=\"data row7 col0\" >0.2938</td>\n",
       "      <td id=\"T_63ab8_row7_col1\" class=\"data row7 col1\" >0.1183</td>\n",
       "      <td id=\"T_63ab8_row7_col2\" class=\"data row7 col2\" >0.3440</td>\n",
       "      <td id=\"T_63ab8_row7_col3\" class=\"data row7 col3\" >-0.4365</td>\n",
       "      <td id=\"T_63ab8_row7_col4\" class=\"data row7 col4\" >0.0647</td>\n",
       "      <td id=\"T_63ab8_row7_col5\" class=\"data row7 col5\" >0.0660</td>\n",
       "      <td id=\"T_63ab8_row7_col6\" class=\"data row7 col6\" >0.4349</td>\n",
       "      <td id=\"T_63ab8_row7_col7\" class=\"data row7 col7\" >0.0798</td>\n",
       "      <td id=\"T_63ab8_row7_col8\" class=\"data row7 col8\" >0.3440</td>\n",
       "      <td id=\"T_63ab8_row7_col9\" class=\"data row7 col9\" >0.0621</td>\n",
       "      <td id=\"T_63ab8_row7_col10\" class=\"data row7 col10\" >0.0000</td>\n",
       "    </tr>\n",
       "    <tr>\n",
       "      <th id=\"T_63ab8_level0_row8\" class=\"row_heading level0 row8\" >8</th>\n",
       "      <td id=\"T_63ab8_row8_col0\" class=\"data row8 col0\" >0.1374</td>\n",
       "      <td id=\"T_63ab8_row8_col1\" class=\"data row8 col1\" >0.0349</td>\n",
       "      <td id=\"T_63ab8_row8_col2\" class=\"data row8 col2\" >0.1867</td>\n",
       "      <td id=\"T_63ab8_row8_col3\" class=\"data row8 col3\" >-1.7794</td>\n",
       "      <td id=\"T_63ab8_row8_col4\" class=\"data row8 col4\" >0.0321</td>\n",
       "      <td id=\"T_63ab8_row8_col5\" class=\"data row8 col5\" >0.0278</td>\n",
       "      <td id=\"T_63ab8_row8_col6\" class=\"data row8 col6\" >0.2034</td>\n",
       "      <td id=\"T_63ab8_row8_col7\" class=\"data row8 col7\" >0.0342</td>\n",
       "      <td id=\"T_63ab8_row8_col8\" class=\"data row8 col8\" >0.1867</td>\n",
       "      <td id=\"T_63ab8_row8_col9\" class=\"data row8 col9\" >0.0313</td>\n",
       "      <td id=\"T_63ab8_row8_col10\" class=\"data row8 col10\" >0.0000</td>\n",
       "    </tr>\n",
       "    <tr>\n",
       "      <th id=\"T_63ab8_level0_row9\" class=\"row_heading level0 row9\" >9</th>\n",
       "      <td id=\"T_63ab8_row9_col0\" class=\"data row9 col0\" >0.1098</td>\n",
       "      <td id=\"T_63ab8_row9_col1\" class=\"data row9 col1\" >0.0147</td>\n",
       "      <td id=\"T_63ab8_row9_col2\" class=\"data row9 col2\" >0.1213</td>\n",
       "      <td id=\"T_63ab8_row9_col3\" class=\"data row9 col3\" >-4.5483</td>\n",
       "      <td id=\"T_63ab8_row9_col4\" class=\"data row9 col4\" >0.0211</td>\n",
       "      <td id=\"T_63ab8_row9_col5\" class=\"data row9 col5\" >0.0228</td>\n",
       "      <td id=\"T_63ab8_row9_col6\" class=\"data row9 col6\" >0.1626</td>\n",
       "      <td id=\"T_63ab8_row9_col7\" class=\"data row9 col7\" >0.0279</td>\n",
       "      <td id=\"T_63ab8_row9_col8\" class=\"data row9 col8\" >0.1213</td>\n",
       "      <td id=\"T_63ab8_row9_col9\" class=\"data row9 col9\" >0.0208</td>\n",
       "      <td id=\"T_63ab8_row9_col10\" class=\"data row9 col10\" >0.0000</td>\n",
       "    </tr>\n",
       "    <tr>\n",
       "      <th id=\"T_63ab8_level0_row10\" class=\"row_heading level0 row10\" >Mean</th>\n",
       "      <td id=\"T_63ab8_row10_col0\" class=\"data row10 col0\" >0.2370</td>\n",
       "      <td id=\"T_63ab8_row10_col1\" class=\"data row10 col1\" >0.1389</td>\n",
       "      <td id=\"T_63ab8_row10_col2\" class=\"data row10 col2\" >0.2972</td>\n",
       "      <td id=\"T_63ab8_row10_col3\" class=\"data row10 col3\" >-51.4233</td>\n",
       "      <td id=\"T_63ab8_row10_col4\" class=\"data row10 col4\" >0.0514</td>\n",
       "      <td id=\"T_63ab8_row10_col5\" class=\"data row10 col5\" >0.0486</td>\n",
       "      <td id=\"T_63ab8_row10_col6\" class=\"data row10 col6\" >0.3507</td>\n",
       "      <td id=\"T_63ab8_row10_col7\" class=\"data row10 col7\" >0.0595</td>\n",
       "      <td id=\"T_63ab8_row10_col8\" class=\"data row10 col8\" >0.2972</td>\n",
       "      <td id=\"T_63ab8_row10_col9\" class=\"data row10 col9\" >0.0498</td>\n",
       "      <td id=\"T_63ab8_row10_col10\" class=\"data row10 col10\" >0.0500</td>\n",
       "    </tr>\n",
       "    <tr>\n",
       "      <th id=\"T_63ab8_level0_row11\" class=\"row_heading level0 row11\" >Std</th>\n",
       "      <td id=\"T_63ab8_row11_col0\" class=\"data row11 col0\" >0.1635</td>\n",
       "      <td id=\"T_63ab8_row11_col1\" class=\"data row11 col1\" >0.2271</td>\n",
       "      <td id=\"T_63ab8_row11_col2\" class=\"data row11 col2\" >0.2248</td>\n",
       "      <td id=\"T_63ab8_row11_col3\" class=\"data row11 col3\" >144.8323</td>\n",
       "      <td id=\"T_63ab8_row11_col4\" class=\"data row11 col4\" >0.0369</td>\n",
       "      <td id=\"T_63ab8_row11_col5\" class=\"data row11 col5\" >0.0300</td>\n",
       "      <td id=\"T_63ab8_row11_col6\" class=\"data row11 col6\" >0.2420</td>\n",
       "      <td id=\"T_63ab8_row11_col7\" class=\"data row11 col7\" >0.0373</td>\n",
       "      <td id=\"T_63ab8_row11_col8\" class=\"data row11 col8\" >0.2248</td>\n",
       "      <td id=\"T_63ab8_row11_col9\" class=\"data row11 col9\" >0.0333</td>\n",
       "      <td id=\"T_63ab8_row11_col10\" class=\"data row11 col10\" >0.1500</td>\n",
       "    </tr>\n",
       "  </tbody>\n",
       "</table>\n"
      ],
      "text/plain": [
       "<pandas.io.formats.style.Styler at 0x7f53adde5f10>"
      ]
     },
     "metadata": {},
     "output_type": "display_data"
    }
   ],
   "source": [
    "stacked_model_z = pyr.stack_models(estimator_list=top_model_z[1:], meta_model=top_model_z[0], optimize='s_mad')"
   ]
  },
  {
   "cell_type": "code",
   "execution_count": 81,
   "id": "969fcbbf",
   "metadata": {
    "id": "Dz0XvX17teel"
   },
   "outputs": [
    {
     "data": {
      "text/html": [
       "<style type=\"text/css\">\n",
       "#T_5ffea_row10_col0, #T_5ffea_row10_col1, #T_5ffea_row10_col2, #T_5ffea_row10_col3, #T_5ffea_row10_col4, #T_5ffea_row10_col5, #T_5ffea_row10_col6, #T_5ffea_row10_col7, #T_5ffea_row10_col8, #T_5ffea_row10_col9, #T_5ffea_row10_col10 {\n",
       "  background: yellow;\n",
       "}\n",
       "</style>\n",
       "<table id=\"T_5ffea\">\n",
       "  <thead>\n",
       "    <tr>\n",
       "      <th class=\"blank level0\" >&nbsp;</th>\n",
       "      <th id=\"T_5ffea_level0_col0\" class=\"col_heading level0 col0\" >MAE</th>\n",
       "      <th id=\"T_5ffea_level0_col1\" class=\"col_heading level0 col1\" >MSE</th>\n",
       "      <th id=\"T_5ffea_level0_col2\" class=\"col_heading level0 col2\" >RMSE</th>\n",
       "      <th id=\"T_5ffea_level0_col3\" class=\"col_heading level0 col3\" >R2</th>\n",
       "      <th id=\"T_5ffea_level0_col4\" class=\"col_heading level0 col4\" >RMSLE</th>\n",
       "      <th id=\"T_5ffea_level0_col5\" class=\"col_heading level0 col5\" >MAPE</th>\n",
       "      <th id=\"T_5ffea_level0_col6\" class=\"col_heading level0 col6\" >sigma_mad</th>\n",
       "      <th id=\"T_5ffea_level0_col7\" class=\"col_heading level0 col7\" >sigma_nmad</th>\n",
       "      <th id=\"T_5ffea_level0_col8\" class=\"col_heading level0 col8\" >sigma_z</th>\n",
       "      <th id=\"T_5ffea_level0_col9\" class=\"col_heading level0 col9\" >sigma_z_norm</th>\n",
       "      <th id=\"T_5ffea_level0_col10\" class=\"col_heading level0 col10\" >outlier_fr</th>\n",
       "    </tr>\n",
       "    <tr>\n",
       "      <th class=\"index_name level0\" >Fold</th>\n",
       "      <th class=\"blank col0\" >&nbsp;</th>\n",
       "      <th class=\"blank col1\" >&nbsp;</th>\n",
       "      <th class=\"blank col2\" >&nbsp;</th>\n",
       "      <th class=\"blank col3\" >&nbsp;</th>\n",
       "      <th class=\"blank col4\" >&nbsp;</th>\n",
       "      <th class=\"blank col5\" >&nbsp;</th>\n",
       "      <th class=\"blank col6\" >&nbsp;</th>\n",
       "      <th class=\"blank col7\" >&nbsp;</th>\n",
       "      <th class=\"blank col8\" >&nbsp;</th>\n",
       "      <th class=\"blank col9\" >&nbsp;</th>\n",
       "      <th class=\"blank col10\" >&nbsp;</th>\n",
       "    </tr>\n",
       "  </thead>\n",
       "  <tbody>\n",
       "    <tr>\n",
       "      <th id=\"T_5ffea_level0_row0\" class=\"row_heading level0 row0\" >0</th>\n",
       "      <td id=\"T_5ffea_row0_col0\" class=\"data row0 col0\" >0.4003</td>\n",
       "      <td id=\"T_5ffea_row0_col1\" class=\"data row0 col1\" >0.1717</td>\n",
       "      <td id=\"T_5ffea_row0_col2\" class=\"data row0 col2\" >0.4144</td>\n",
       "      <td id=\"T_5ffea_row0_col3\" class=\"data row0 col3\" >-2.2178</td>\n",
       "      <td id=\"T_5ffea_row0_col4\" class=\"data row0 col4\" >0.0756</td>\n",
       "      <td id=\"T_5ffea_row0_col5\" class=\"data row0 col5\" >0.0930</td>\n",
       "      <td id=\"T_5ffea_row0_col6\" class=\"data row0 col6\" >0.5924</td>\n",
       "      <td id=\"T_5ffea_row0_col7\" class=\"data row0 col7\" >0.1116</td>\n",
       "      <td id=\"T_5ffea_row0_col8\" class=\"data row0 col8\" >0.4144</td>\n",
       "      <td id=\"T_5ffea_row0_col9\" class=\"data row0 col9\" >0.0789</td>\n",
       "      <td id=\"T_5ffea_row0_col10\" class=\"data row0 col10\" >0.0000</td>\n",
       "    </tr>\n",
       "    <tr>\n",
       "      <th id=\"T_5ffea_level0_row1\" class=\"row_heading level0 row1\" >1</th>\n",
       "      <td id=\"T_5ffea_row1_col0\" class=\"data row1 col0\" >0.2615</td>\n",
       "      <td id=\"T_5ffea_row1_col1\" class=\"data row1 col1\" >0.1301</td>\n",
       "      <td id=\"T_5ffea_row1_col2\" class=\"data row1 col2\" >0.3607</td>\n",
       "      <td id=\"T_5ffea_row1_col3\" class=\"data row1 col3\" >0.8814</td>\n",
       "      <td id=\"T_5ffea_row1_col4\" class=\"data row1 col4\" >0.0519</td>\n",
       "      <td id=\"T_5ffea_row1_col5\" class=\"data row1 col5\" >0.0426</td>\n",
       "      <td id=\"T_5ffea_row1_col6\" class=\"data row1 col6\" >0.3870</td>\n",
       "      <td id=\"T_5ffea_row1_col7\" class=\"data row1 col7\" >0.0542</td>\n",
       "      <td id=\"T_5ffea_row1_col8\" class=\"data row1 col8\" >0.3607</td>\n",
       "      <td id=\"T_5ffea_row1_col9\" class=\"data row1 col9\" >0.0500</td>\n",
       "      <td id=\"T_5ffea_row1_col10\" class=\"data row1 col10\" >0.0000</td>\n",
       "    </tr>\n",
       "    <tr>\n",
       "      <th id=\"T_5ffea_level0_row2\" class=\"row_heading level0 row2\" >2</th>\n",
       "      <td id=\"T_5ffea_row2_col0\" class=\"data row2 col0\" >0.6449</td>\n",
       "      <td id=\"T_5ffea_row2_col1\" class=\"data row2 col1\" >0.8041</td>\n",
       "      <td id=\"T_5ffea_row2_col2\" class=\"data row2 col2\" >0.8967</td>\n",
       "      <td id=\"T_5ffea_row2_col3\" class=\"data row2 col3\" >-0.3116</td>\n",
       "      <td id=\"T_5ffea_row2_col4\" class=\"data row2 col4\" >0.1484</td>\n",
       "      <td id=\"T_5ffea_row2_col5\" class=\"data row2 col5\" >0.1139</td>\n",
       "      <td id=\"T_5ffea_row2_col6\" class=\"data row2 col6\" >0.9544</td>\n",
       "      <td id=\"T_5ffea_row2_col7\" class=\"data row2 col7\" >0.1432</td>\n",
       "      <td id=\"T_5ffea_row2_col8\" class=\"data row2 col8\" >0.8967</td>\n",
       "      <td id=\"T_5ffea_row2_col9\" class=\"data row2 col9\" >0.1339</td>\n",
       "      <td id=\"T_5ffea_row2_col10\" class=\"data row2 col10\" >0.5000</td>\n",
       "    </tr>\n",
       "    <tr>\n",
       "      <th id=\"T_5ffea_level0_row3\" class=\"row_heading level0 row3\" >3</th>\n",
       "      <td id=\"T_5ffea_row3_col0\" class=\"data row3 col0\" >0.0934</td>\n",
       "      <td id=\"T_5ffea_row3_col1\" class=\"data row3 col1\" >0.0123</td>\n",
       "      <td id=\"T_5ffea_row3_col2\" class=\"data row3 col2\" >0.1107</td>\n",
       "      <td id=\"T_5ffea_row3_col3\" class=\"data row3 col3\" >0.3177</td>\n",
       "      <td id=\"T_5ffea_row3_col4\" class=\"data row3 col4\" >0.0201</td>\n",
       "      <td id=\"T_5ffea_row3_col5\" class=\"data row3 col5\" >0.0209</td>\n",
       "      <td id=\"T_5ffea_row3_col6\" class=\"data row3 col6\" >0.1382</td>\n",
       "      <td id=\"T_5ffea_row3_col7\" class=\"data row3 col7\" >0.0252</td>\n",
       "      <td id=\"T_5ffea_row3_col8\" class=\"data row3 col8\" >0.1107</td>\n",
       "      <td id=\"T_5ffea_row3_col9\" class=\"data row3 col9\" >0.0203</td>\n",
       "      <td id=\"T_5ffea_row3_col10\" class=\"data row3 col10\" >0.0000</td>\n",
       "    </tr>\n",
       "    <tr>\n",
       "      <th id=\"T_5ffea_level0_row4\" class=\"row_heading level0 row4\" >4</th>\n",
       "      <td id=\"T_5ffea_row4_col0\" class=\"data row4 col0\" >0.0351</td>\n",
       "      <td id=\"T_5ffea_row4_col1\" class=\"data row4 col1\" >0.0015</td>\n",
       "      <td id=\"T_5ffea_row4_col2\" class=\"data row4 col2\" >0.0382</td>\n",
       "      <td id=\"T_5ffea_row4_col3\" class=\"data row4 col3\" >-13.6002</td>\n",
       "      <td id=\"T_5ffea_row4_col4\" class=\"data row4 col4\" >0.0075</td>\n",
       "      <td id=\"T_5ffea_row4_col5\" class=\"data row4 col5\" >0.0085</td>\n",
       "      <td id=\"T_5ffea_row4_col6\" class=\"data row4 col6\" >0.0519</td>\n",
       "      <td id=\"T_5ffea_row4_col7\" class=\"data row4 col7\" >0.0101</td>\n",
       "      <td id=\"T_5ffea_row4_col8\" class=\"data row4 col8\" >0.0382</td>\n",
       "      <td id=\"T_5ffea_row4_col9\" class=\"data row4 col9\" >0.0074</td>\n",
       "      <td id=\"T_5ffea_row4_col10\" class=\"data row4 col10\" >0.0000</td>\n",
       "    </tr>\n",
       "    <tr>\n",
       "      <th id=\"T_5ffea_level0_row5\" class=\"row_heading level0 row5\" >5</th>\n",
       "      <td id=\"T_5ffea_row5_col0\" class=\"data row5 col0\" >0.1712</td>\n",
       "      <td id=\"T_5ffea_row5_col1\" class=\"data row5 col1\" >0.0407</td>\n",
       "      <td id=\"T_5ffea_row5_col2\" class=\"data row5 col2\" >0.2018</td>\n",
       "      <td id=\"T_5ffea_row5_col3\" class=\"data row5 col3\" >0.3739</td>\n",
       "      <td id=\"T_5ffea_row5_col4\" class=\"data row5 col4\" >0.0349</td>\n",
       "      <td id=\"T_5ffea_row5_col5\" class=\"data row5 col5\" >0.0374</td>\n",
       "      <td id=\"T_5ffea_row5_col6\" class=\"data row5 col6\" >0.2533</td>\n",
       "      <td id=\"T_5ffea_row5_col7\" class=\"data row5 col7\" >0.0454</td>\n",
       "      <td id=\"T_5ffea_row5_col8\" class=\"data row5 col8\" >0.2018</td>\n",
       "      <td id=\"T_5ffea_row5_col9\" class=\"data row5 col9\" >0.0357</td>\n",
       "      <td id=\"T_5ffea_row5_col10\" class=\"data row5 col10\" >0.0000</td>\n",
       "    </tr>\n",
       "    <tr>\n",
       "      <th id=\"T_5ffea_level0_row6\" class=\"row_heading level0 row6\" >6</th>\n",
       "      <td id=\"T_5ffea_row6_col0\" class=\"data row6 col0\" >0.0604</td>\n",
       "      <td id=\"T_5ffea_row6_col1\" class=\"data row6 col1\" >0.0036</td>\n",
       "      <td id=\"T_5ffea_row6_col2\" class=\"data row6 col2\" >0.0604</td>\n",
       "      <td id=\"T_5ffea_row6_col3\" class=\"data row6 col3\" >-32.0739</td>\n",
       "      <td id=\"T_5ffea_row6_col4\" class=\"data row6 col4\" >0.0118</td>\n",
       "      <td id=\"T_5ffea_row6_col5\" class=\"data row6 col5\" >0.0148</td>\n",
       "      <td id=\"T_5ffea_row6_col6\" class=\"data row6 col6\" >0.0894</td>\n",
       "      <td id=\"T_5ffea_row6_col7\" class=\"data row6 col7\" >0.0176</td>\n",
       "      <td id=\"T_5ffea_row6_col8\" class=\"data row6 col8\" >0.0604</td>\n",
       "      <td id=\"T_5ffea_row6_col9\" class=\"data row6 col9\" >0.0119</td>\n",
       "      <td id=\"T_5ffea_row6_col10\" class=\"data row6 col10\" >0.0000</td>\n",
       "    </tr>\n",
       "    <tr>\n",
       "      <th id=\"T_5ffea_level0_row7\" class=\"row_heading level0 row7\" >7</th>\n",
       "      <td id=\"T_5ffea_row7_col0\" class=\"data row7 col0\" >0.2878</td>\n",
       "      <td id=\"T_5ffea_row7_col1\" class=\"data row7 col1\" >0.1065</td>\n",
       "      <td id=\"T_5ffea_row7_col2\" class=\"data row7 col2\" >0.3264</td>\n",
       "      <td id=\"T_5ffea_row7_col3\" class=\"data row7 col3\" >-0.2931</td>\n",
       "      <td id=\"T_5ffea_row7_col4\" class=\"data row7 col4\" >0.0613</td>\n",
       "      <td id=\"T_5ffea_row7_col5\" class=\"data row7 col5\" >0.0650</td>\n",
       "      <td id=\"T_5ffea_row7_col6\" class=\"data row7 col6\" >0.4260</td>\n",
       "      <td id=\"T_5ffea_row7_col7\" class=\"data row7 col7\" >0.0785</td>\n",
       "      <td id=\"T_5ffea_row7_col8\" class=\"data row7 col8\" >0.3264</td>\n",
       "      <td id=\"T_5ffea_row7_col9\" class=\"data row7 col9\" >0.0591</td>\n",
       "      <td id=\"T_5ffea_row7_col10\" class=\"data row7 col10\" >0.0000</td>\n",
       "    </tr>\n",
       "    <tr>\n",
       "      <th id=\"T_5ffea_level0_row8\" class=\"row_heading level0 row8\" >8</th>\n",
       "      <td id=\"T_5ffea_row8_col0\" class=\"data row8 col0\" >0.1477</td>\n",
       "      <td id=\"T_5ffea_row8_col1\" class=\"data row8 col1\" >0.0368</td>\n",
       "      <td id=\"T_5ffea_row8_col2\" class=\"data row8 col2\" >0.1918</td>\n",
       "      <td id=\"T_5ffea_row8_col3\" class=\"data row8 col3\" >-1.9317</td>\n",
       "      <td id=\"T_5ffea_row8_col4\" class=\"data row8 col4\" >0.0329</td>\n",
       "      <td id=\"T_5ffea_row8_col5\" class=\"data row8 col5\" >0.0299</td>\n",
       "      <td id=\"T_5ffea_row8_col6\" class=\"data row8 col6\" >0.2187</td>\n",
       "      <td id=\"T_5ffea_row8_col7\" class=\"data row8 col7\" >0.0368</td>\n",
       "      <td id=\"T_5ffea_row8_col8\" class=\"data row8 col8\" >0.1918</td>\n",
       "      <td id=\"T_5ffea_row8_col9\" class=\"data row8 col9\" >0.0322</td>\n",
       "      <td id=\"T_5ffea_row8_col10\" class=\"data row8 col10\" >0.0000</td>\n",
       "    </tr>\n",
       "    <tr>\n",
       "      <th id=\"T_5ffea_level0_row9\" class=\"row_heading level0 row9\" >9</th>\n",
       "      <td id=\"T_5ffea_row9_col0\" class=\"data row9 col0\" >0.1554</td>\n",
       "      <td id=\"T_5ffea_row9_col1\" class=\"data row9 col1\" >0.0272</td>\n",
       "      <td id=\"T_5ffea_row9_col2\" class=\"data row9 col2\" >0.1649</td>\n",
       "      <td id=\"T_5ffea_row9_col3\" class=\"data row9 col3\" >-9.2496</td>\n",
       "      <td id=\"T_5ffea_row9_col4\" class=\"data row9 col4\" >0.0288</td>\n",
       "      <td id=\"T_5ffea_row9_col5\" class=\"data row9 col5\" >0.0323</td>\n",
       "      <td id=\"T_5ffea_row9_col6\" class=\"data row9 col6\" >0.2299</td>\n",
       "      <td id=\"T_5ffea_row9_col7\" class=\"data row9 col7\" >0.0395</td>\n",
       "      <td id=\"T_5ffea_row9_col8\" class=\"data row9 col8\" >0.1649</td>\n",
       "      <td id=\"T_5ffea_row9_col9\" class=\"data row9 col9\" >0.0283</td>\n",
       "      <td id=\"T_5ffea_row9_col10\" class=\"data row9 col10\" >0.0000</td>\n",
       "    </tr>\n",
       "    <tr>\n",
       "      <th id=\"T_5ffea_level0_row10\" class=\"row_heading level0 row10\" >Mean</th>\n",
       "      <td id=\"T_5ffea_row10_col0\" class=\"data row10 col0\" >0.2258</td>\n",
       "      <td id=\"T_5ffea_row10_col1\" class=\"data row10 col1\" >0.1335</td>\n",
       "      <td id=\"T_5ffea_row10_col2\" class=\"data row10 col2\" >0.2766</td>\n",
       "      <td id=\"T_5ffea_row10_col3\" class=\"data row10 col3\" >-5.8105</td>\n",
       "      <td id=\"T_5ffea_row10_col4\" class=\"data row10 col4\" >0.0473</td>\n",
       "      <td id=\"T_5ffea_row10_col5\" class=\"data row10 col5\" >0.0458</td>\n",
       "      <td id=\"T_5ffea_row10_col6\" class=\"data row10 col6\" >0.3341</td>\n",
       "      <td id=\"T_5ffea_row10_col7\" class=\"data row10 col7\" >0.0562</td>\n",
       "      <td id=\"T_5ffea_row10_col8\" class=\"data row10 col8\" >0.2766</td>\n",
       "      <td id=\"T_5ffea_row10_col9\" class=\"data row10 col9\" >0.0458</td>\n",
       "      <td id=\"T_5ffea_row10_col10\" class=\"data row10 col10\" >0.0500</td>\n",
       "    </tr>\n",
       "    <tr>\n",
       "      <th id=\"T_5ffea_level0_row11\" class=\"row_heading level0 row11\" >Std</th>\n",
       "      <td id=\"T_5ffea_row11_col0\" class=\"data row11 col0\" >0.1751</td>\n",
       "      <td id=\"T_5ffea_row11_col1\" class=\"data row11 col1\" >0.2303</td>\n",
       "      <td id=\"T_5ffea_row11_col2\" class=\"data row11 col2\" >0.2386</td>\n",
       "      <td id=\"T_5ffea_row11_col3\" class=\"data row11 col3\" >9.8564</td>\n",
       "      <td id=\"T_5ffea_row11_col4\" class=\"data row11 col4\" >0.0394</td>\n",
       "      <td id=\"T_5ffea_row11_col5\" class=\"data row11 col5\" >0.0327</td>\n",
       "      <td id=\"T_5ffea_row11_col6\" class=\"data row11 col6\" >0.2591</td>\n",
       "      <td id=\"T_5ffea_row11_col7\" class=\"data row11 col7\" >0.0406</td>\n",
       "      <td id=\"T_5ffea_row11_col8\" class=\"data row11 col8\" >0.2386</td>\n",
       "      <td id=\"T_5ffea_row11_col9\" class=\"data row11 col9\" >0.0359</td>\n",
       "      <td id=\"T_5ffea_row11_col10\" class=\"data row11 col10\" >0.1500</td>\n",
       "    </tr>\n",
       "  </tbody>\n",
       "</table>\n"
      ],
      "text/plain": [
       "<pandas.io.formats.style.Styler at 0x7f538f23afd0>"
      ]
     },
     "metadata": {},
     "output_type": "display_data"
    }
   ],
   "source": [
    "tuned_z_reg = pyr.tune_model(stacked_model_z, early_stopping='asha', optimize='s_mad') # ,\\\n",
    "#                                search_library='tune-sklearn', search_algorithm='random')  # 1h30"
   ]
  },
  {
   "cell_type": "code",
   "execution_count": 82,
   "id": "5213677c",
   "metadata": {
    "id": "GJfDVspZtn7Z"
   },
   "outputs": [
    {
     "data": {
      "image/png": "[encoded data removed]",
      "text/plain": [
       "<Figure size 640x480 with 1 Axes>"
      ]
     },
     "metadata": {},
     "output_type": "display_data"
    }
   ],
   "source": [
    "pyr.plot_model(tuned_z_reg, plot='error')"
   ]
  },
  {
   "cell_type": "code",
   "execution_count": 83,
   "id": "b7e8f4bd",
   "metadata": {
    "id": "3N6_OxWptsEe",
    "tags": []
   },
   "outputs": [
    {
     "data": {
      "image/png": "[encoded data removed]",
      "text/plain": [
       "<Figure size 640x480 with 2 Axes>"
      ]
     },
     "metadata": {},
     "output_type": "display_data"
    }
   ],
   "source": [
    "pyr.plot_model(tuned_z_reg, plot='residuals')"
   ]
  },
  {
   "cell_type": "code",
   "execution_count": 84,
   "id": "b7d99e71",
   "metadata": {
    "id": "Mq15jdjqtv3Y"
   },
   "outputs": [
    {
     "data": {
      "image/png": "[encoded data removed]",
      "text/plain": [
       "<Figure size 800x0 with 1 Axes>"
      ]
     },
     "metadata": {},
     "output_type": "display_data"
    }
   ],
   "source": [
    "pyr.plot_model(tuned_z_reg.estimators_[0], plot='feature_all')"
   ]
  },
  {
   "cell_type": "code",
   "execution_count": 85,
   "id": "2e6b580f",
   "metadata": {
    "id": "Mq15jdjqtv3Y"
   },
   "outputs": [
    {
     "data": {
      "text/html": [
       "<div>\n",
       "<style scoped>\n",
       "    .dataframe tbody tr th:only-of-type {\n",
       "        vertical-align: middle;\n",
       "    }\n",
       "\n",
       "    .dataframe tbody tr th {\n",
       "        vertical-align: top;\n",
       "    }\n",
       "\n",
       "    .dataframe thead th {\n",
       "        text-align: right;\n",
       "    }\n",
       "</style>\n",
       "<table border=\"1\" class=\"dataframe\">\n",
       "  <thead>\n",
       "    <tr style=\"text-align: right;\">\n",
       "      <th></th>\n",
       "      <th>Parameters</th>\n",
       "    </tr>\n",
       "  </thead>\n",
       "  <tbody>\n",
       "    <tr>\n",
       "      <th>base_estimator</th>\n",
       "      <td>None</td>\n",
       "    </tr>\n",
       "    <tr>\n",
       "      <th>learning_rate</th>\n",
       "      <td>0.4</td>\n",
       "    </tr>\n",
       "    <tr>\n",
       "      <th>loss</th>\n",
       "      <td>square</td>\n",
       "    </tr>\n",
       "    <tr>\n",
       "      <th>n_estimators</th>\n",
       "      <td>170</td>\n",
       "    </tr>\n",
       "    <tr>\n",
       "      <th>random_state</th>\n",
       "      <td>42</td>\n",
       "    </tr>\n",
       "  </tbody>\n",
       "</table>\n",
       "</div>"
      ],
      "text/plain": [
       "               Parameters\n",
       "base_estimator       None\n",
       "learning_rate         0.4\n",
       "loss               square\n",
       "n_estimators          170\n",
       "random_state           42"
      ]
     },
     "metadata": {},
     "output_type": "display_data"
    }
   ],
   "source": [
    "pyr.plot_model(tuned_z_reg.final_estimator, plot='parameter')"
   ]
  },
  {
   "cell_type": "code",
   "execution_count": 86,
   "id": "4eaeeda8",
   "metadata": {
    "id": "t2CRgDLptzuE"
   },
   "outputs": [],
   "source": [
    "plt.rcParams.update(plt.rcParamsDefault)"
   ]
  },
  {
   "cell_type": "code",
   "execution_count": 87,
   "id": "f8b00d00",
   "metadata": {},
   "outputs": [
    {
     "data": {
      "text/html": [
       "<style type=\"text/css\">\n",
       "</style>\n",
       "<table id=\"T_0a49d\">\n",
       "  <thead>\n",
       "    <tr>\n",
       "      <th class=\"blank level0\" >&nbsp;</th>\n",
       "      <th id=\"T_0a49d_level0_col0\" class=\"col_heading level0 col0\" >Model</th>\n",
       "      <th id=\"T_0a49d_level0_col1\" class=\"col_heading level0 col1\" >MAE</th>\n",
       "      <th id=\"T_0a49d_level0_col2\" class=\"col_heading level0 col2\" >MSE</th>\n",
       "      <th id=\"T_0a49d_level0_col3\" class=\"col_heading level0 col3\" >RMSE</th>\n",
       "      <th id=\"T_0a49d_level0_col4\" class=\"col_heading level0 col4\" >R2</th>\n",
       "      <th id=\"T_0a49d_level0_col5\" class=\"col_heading level0 col5\" >RMSLE</th>\n",
       "      <th id=\"T_0a49d_level0_col6\" class=\"col_heading level0 col6\" >MAPE</th>\n",
       "      <th id=\"T_0a49d_level0_col7\" class=\"col_heading level0 col7\" >sigma_mad</th>\n",
       "      <th id=\"T_0a49d_level0_col8\" class=\"col_heading level0 col8\" >sigma_nmad</th>\n",
       "      <th id=\"T_0a49d_level0_col9\" class=\"col_heading level0 col9\" >sigma_z</th>\n",
       "      <th id=\"T_0a49d_level0_col10\" class=\"col_heading level0 col10\" >sigma_z_norm</th>\n",
       "      <th id=\"T_0a49d_level0_col11\" class=\"col_heading level0 col11\" >outlier_fr</th>\n",
       "    </tr>\n",
       "  </thead>\n",
       "  <tbody>\n",
       "    <tr>\n",
       "      <th id=\"T_0a49d_level0_row0\" class=\"row_heading level0 row0\" >0</th>\n",
       "      <td id=\"T_0a49d_row0_col0\" class=\"data row0 col0\" >Stacking Regressor</td>\n",
       "      <td id=\"T_0a49d_row0_col1\" class=\"data row0 col1\" >0.2029</td>\n",
       "      <td id=\"T_0a49d_row0_col2\" class=\"data row0 col2\" >0.0837</td>\n",
       "      <td id=\"T_0a49d_row0_col3\" class=\"data row0 col3\" >0.2893</td>\n",
       "      <td id=\"T_0a49d_row0_col4\" class=\"data row0 col4\" >0.7298</td>\n",
       "      <td id=\"T_0a49d_row0_col5\" class=\"data row0 col5\" >0.0485</td>\n",
       "      <td id=\"T_0a49d_row0_col6\" class=\"data row0 col6\" >0.0446</td>\n",
       "      <td id=\"T_0a49d_row0_col7\" class=\"data row0 col7\" >0.1598</td>\n",
       "      <td id=\"T_0a49d_row0_col8\" class=\"data row0 col8\" >0.0292</td>\n",
       "      <td id=\"T_0a49d_row0_col9\" class=\"data row0 col9\" >0.2893</td>\n",
       "      <td id=\"T_0a49d_row0_col10\" class=\"data row0 col10\" >0.0507</td>\n",
       "      <td id=\"T_0a49d_row0_col11\" class=\"data row0 col11\" >0.0000</td>\n",
       "    </tr>\n",
       "  </tbody>\n",
       "</table>\n"
      ],
      "text/plain": [
       "<pandas.io.formats.style.Styler at 0x7f5456da6970>"
      ]
     },
     "metadata": {},
     "output_type": "display_data"
    },
    {
     "data": {
      "text/html": [
       "<div>\n",
       "<style scoped>\n",
       "    .dataframe tbody tr th:only-of-type {\n",
       "        vertical-align: middle;\n",
       "    }\n",
       "\n",
       "    .dataframe tbody tr th {\n",
       "        vertical-align: top;\n",
       "    }\n",
       "\n",
       "    .dataframe thead th {\n",
       "        text-align: right;\n",
       "    }\n",
       "</style>\n",
       "<table border=\"1\" class=\"dataframe\">\n",
       "  <thead>\n",
       "    <tr style=\"text-align: right;\">\n",
       "      <th></th>\n",
       "      <th>rmag</th>\n",
       "      <th>r_i</th>\n",
       "      <th>i_z</th>\n",
       "      <th>g_i</th>\n",
       "      <th>i/y</th>\n",
       "      <th>z/W1</th>\n",
       "      <th>Z</th>\n",
       "      <th>Label</th>\n",
       "    </tr>\n",
       "  </thead>\n",
       "  <tbody>\n",
       "    <tr>\n",
       "      <th>0</th>\n",
       "      <td>-0.954054</td>\n",
       "      <td>-1.736599</td>\n",
       "      <td>-1.237396</td>\n",
       "      <td>0.128147</td>\n",
       "      <td>-0.053257</td>\n",
       "      <td>1.311474</td>\n",
       "      <td>4.200</td>\n",
       "      <td>4.61850</td>\n",
       "    </tr>\n",
       "    <tr>\n",
       "      <th>1</th>\n",
       "      <td>-1.078730</td>\n",
       "      <td>-0.516147</td>\n",
       "      <td>-0.710067</td>\n",
       "      <td>-0.303105</td>\n",
       "      <td>0.129930</td>\n",
       "      <td>0.662046</td>\n",
       "      <td>4.223</td>\n",
       "      <td>4.09975</td>\n",
       "    </tr>\n",
       "    <tr>\n",
       "      <th>2</th>\n",
       "      <td>0.023664</td>\n",
       "      <td>-0.950165</td>\n",
       "      <td>-0.529940</td>\n",
       "      <td>-1.160985</td>\n",
       "      <td>-1.708130</td>\n",
       "      <td>0.278953</td>\n",
       "      <td>4.020</td>\n",
       "      <td>4.10520</td>\n",
       "    </tr>\n",
       "    <tr>\n",
       "      <th>3</th>\n",
       "      <td>1.997841</td>\n",
       "      <td>1.383939</td>\n",
       "      <td>1.111055</td>\n",
       "      <td>-0.529657</td>\n",
       "      <td>2.749016</td>\n",
       "      <td>2.431000</td>\n",
       "      <td>5.800</td>\n",
       "      <td>5.70000</td>\n",
       "    </tr>\n",
       "    <tr>\n",
       "      <th>4</th>\n",
       "      <td>0.206848</td>\n",
       "      <td>0.673418</td>\n",
       "      <td>0.539288</td>\n",
       "      <td>0.837807</td>\n",
       "      <td>1.108515</td>\n",
       "      <td>1.640509</td>\n",
       "      <td>5.000</td>\n",
       "      <td>5.70000</td>\n",
       "    </tr>\n",
       "    <tr>\n",
       "      <th>5</th>\n",
       "      <td>-0.590661</td>\n",
       "      <td>-0.605033</td>\n",
       "      <td>-0.687561</td>\n",
       "      <td>-0.595615</td>\n",
       "      <td>0.663596</td>\n",
       "      <td>0.739396</td>\n",
       "      <td>4.005</td>\n",
       "      <td>4.10375</td>\n",
       "    </tr>\n",
       "    <tr>\n",
       "      <th>6</th>\n",
       "      <td>-1.038514</td>\n",
       "      <td>-0.850454</td>\n",
       "      <td>-1.601718</td>\n",
       "      <td>-0.745980</td>\n",
       "      <td>0.072576</td>\n",
       "      <td>0.039039</td>\n",
       "      <td>4.107</td>\n",
       "      <td>4.09975</td>\n",
       "    </tr>\n",
       "    <tr>\n",
       "      <th>7</th>\n",
       "      <td>-0.593254</td>\n",
       "      <td>0.247707</td>\n",
       "      <td>-0.195291</td>\n",
       "      <td>-0.132165</td>\n",
       "      <td>-0.026426</td>\n",
       "      <td>-0.776289</td>\n",
       "      <td>4.540</td>\n",
       "      <td>4.43200</td>\n",
       "    </tr>\n",
       "    <tr>\n",
       "      <th>8</th>\n",
       "      <td>0.530711</td>\n",
       "      <td>-1.705676</td>\n",
       "      <td>1.356420</td>\n",
       "      <td>-0.684703</td>\n",
       "      <td>0.142561</td>\n",
       "      <td>0.272721</td>\n",
       "      <td>4.247</td>\n",
       "      <td>4.43200</td>\n",
       "    </tr>\n",
       "  </tbody>\n",
       "</table>\n",
       "</div>"
      ],
      "text/plain": [
       "       rmag       r_i       i_z       g_i       i/y      z/W1      Z    Label\n",
       "0 -0.954054 -1.736599 -1.237396  0.128147 -0.053257  1.311474  4.200  4.61850\n",
       "1 -1.078730 -0.516147 -0.710067 -0.303105  0.129930  0.662046  4.223  4.09975\n",
       "2  0.023664 -0.950165 -0.529940 -1.160985 -1.708130  0.278953  4.020  4.10520\n",
       "3  1.997841  1.383939  1.111055 -0.529657  2.749016  2.431000  5.800  5.70000\n",
       "4  0.206848  0.673418  0.539288  0.837807  1.108515  1.640509  5.000  5.70000\n",
       "5 -0.590661 -0.605033 -0.687561 -0.595615  0.663596  0.739396  4.005  4.10375\n",
       "6 -1.038514 -0.850454 -1.601718 -0.745980  0.072576  0.039039  4.107  4.09975\n",
       "7 -0.593254  0.247707 -0.195291 -0.132165 -0.026426 -0.776289  4.540  4.43200\n",
       "8  0.530711 -1.705676  1.356420 -0.684703  0.142561  0.272721  4.247  4.43200"
      ]
     },
     "execution_count": 87,
     "metadata": {},
     "output_type": "execute_result"
    }
   ],
   "source": [
    "pyr.predict_model(tuned_z_reg)"
   ]
  },
  {
   "cell_type": "code",
   "execution_count": 88,
   "id": "935e2ff7",
   "metadata": {},
   "outputs": [
    {
     "data": {
      "text/html": [
       "<style type=\"text/css\">\n",
       "</style>\n",
       "<table id=\"T_93569\">\n",
       "  <thead>\n",
       "    <tr>\n",
       "      <th class=\"blank level0\" >&nbsp;</th>\n",
       "      <th id=\"T_93569_level0_col0\" class=\"col_heading level0 col0\" >Model</th>\n",
       "      <th id=\"T_93569_level0_col1\" class=\"col_heading level0 col1\" >MAE</th>\n",
       "      <th id=\"T_93569_level0_col2\" class=\"col_heading level0 col2\" >MSE</th>\n",
       "      <th id=\"T_93569_level0_col3\" class=\"col_heading level0 col3\" >RMSE</th>\n",
       "      <th id=\"T_93569_level0_col4\" class=\"col_heading level0 col4\" >R2</th>\n",
       "      <th id=\"T_93569_level0_col5\" class=\"col_heading level0 col5\" >RMSLE</th>\n",
       "      <th id=\"T_93569_level0_col6\" class=\"col_heading level0 col6\" >MAPE</th>\n",
       "      <th id=\"T_93569_level0_col7\" class=\"col_heading level0 col7\" >sigma_mad</th>\n",
       "      <th id=\"T_93569_level0_col8\" class=\"col_heading level0 col8\" >sigma_nmad</th>\n",
       "      <th id=\"T_93569_level0_col9\" class=\"col_heading level0 col9\" >sigma_z</th>\n",
       "      <th id=\"T_93569_level0_col10\" class=\"col_heading level0 col10\" >sigma_z_norm</th>\n",
       "      <th id=\"T_93569_level0_col11\" class=\"col_heading level0 col11\" >outlier_fr</th>\n",
       "    </tr>\n",
       "  </thead>\n",
       "  <tbody>\n",
       "    <tr>\n",
       "      <th id=\"T_93569_level0_row0\" class=\"row_heading level0 row0\" >0</th>\n",
       "      <td id=\"T_93569_row0_col0\" class=\"data row0 col0\" >Stacking Regressor</td>\n",
       "      <td id=\"T_93569_row0_col1\" class=\"data row0 col1\" >0.2029</td>\n",
       "      <td id=\"T_93569_row0_col2\" class=\"data row0 col2\" >0.0837</td>\n",
       "      <td id=\"T_93569_row0_col3\" class=\"data row0 col3\" >0.2893</td>\n",
       "      <td id=\"T_93569_row0_col4\" class=\"data row0 col4\" >0.7298</td>\n",
       "      <td id=\"T_93569_row0_col5\" class=\"data row0 col5\" >0.0485</td>\n",
       "      <td id=\"T_93569_row0_col6\" class=\"data row0 col6\" >0.0446</td>\n",
       "      <td id=\"T_93569_row0_col7\" class=\"data row0 col7\" >0.1598</td>\n",
       "      <td id=\"T_93569_row0_col8\" class=\"data row0 col8\" >0.0292</td>\n",
       "      <td id=\"T_93569_row0_col9\" class=\"data row0 col9\" >0.2893</td>\n",
       "      <td id=\"T_93569_row0_col10\" class=\"data row0 col10\" >0.0507</td>\n",
       "      <td id=\"T_93569_row0_col11\" class=\"data row0 col11\" >0.0000</td>\n",
       "    </tr>\n",
       "  </tbody>\n",
       "</table>\n"
      ],
      "text/plain": [
       "<pandas.io.formats.style.Styler at 0x7f53ade93160>"
      ]
     },
     "metadata": {},
     "output_type": "display_data"
    }
   ],
   "source": [
    "test_prediction_reg = pyr.predict_model(tuned_z_reg)"
   ]
  },
  {
   "cell_type": "markdown",
   "id": "52e39d0e",
   "metadata": {},
   "source": [
    "Metrics from applying model to test data.  \n",
    "\n",
    "|Model                    |Accuracy|AUC   |Recall|Prec. |F1    |Kappa |MCC   |\n",
    "|-------------------------|--------|------|------|------|------|------|------|\n",
    "|Extreme Gradient Boosting|0.9978  |0.9781|0.5978|0.8092|0.6876|0.6865|0.6945|"
   ]
  },
  {
   "cell_type": "code",
   "execution_count": 89,
   "id": "436bb8b2",
   "metadata": {
    "id": "WsMuc6dtt2ci"
   },
   "outputs": [],
   "source": [
    "final_z_reg = pyr.finalize_model(tuned_z_reg)"
   ]
  },
  {
   "cell_type": "code",
   "execution_count": 119,
   "id": "94d3ee01",
   "metadata": {
    "id": "kAciINC6t-gk"
   },
   "outputs": [
    {
     "name": "stdout",
     "output_type": "stream",
     "text": [
      "Transformation Pipeline and Model Successfully Saved\n"
     ]
    }
   ],
   "source": [
    "if save_model_flag:\n",
    "    pyr.save_model(final_z_reg, 'models/regression_z_may_30_2022')  # Model (it will be saved with .pkl extension)\n",
    "    # pyr.save_config('models/config_regression_z_may_18_2022')  # Configuration file"
   ]
  },
  {
   "cell_type": "markdown",
   "id": "5caeaca8",
   "metadata": {
    "id": "ef654bbb-7b74-4cef-a809-42d2eb8e7fcb"
   },
   "source": [
    "## Load Models"
   ]
  },
  {
   "cell_type": "markdown",
   "id": "3b210909",
   "metadata": {
    "id": "217777e4-0212-4a37-b535-6fcaf2f0817e"
   },
   "source": [
    "AGN detection model."
   ]
  },
  {
   "cell_type": "code",
   "execution_count": 65,
   "id": "54daf83f",
   "metadata": {
    "id": "ad6bf94f-c59d-4013-b523-76a77df047cc",
    "outputId": "d8cd5b82-e109-4bd1-90ea-bf0e85e10ccd",
    "tags": []
   },
   "outputs": [
    {
     "name": "stdout",
     "output_type": "stream",
     "text": [
      "Transformation Pipeline and Model Successfully Loaded\n"
     ]
    }
   ],
   "source": [
    "if load_model_flag:\n",
    "    final_z_reg = pyr.load_model('models/regression_z_may_30_2022')"
   ]
  },
  {
   "cell_type": "markdown",
   "id": "3fa86004",
   "metadata": {
    "id": "6fcb2c6c-a004-4801-b43d-a3593f802cf5"
   },
   "source": [
    "### Prediction process"
   ]
  },
  {
   "cell_type": "markdown",
   "id": "c5308ce2",
   "metadata": {},
   "source": [
    "#### Feature importances"
   ]
  },
  {
   "cell_type": "code",
   "execution_count": 90,
   "id": "944e06f1",
   "metadata": {
    "jupyter": {
     "source_hidden": true
    }
   },
   "outputs": [],
   "source": [
    "estimators_list = get_base_estimators_names(final_z_reg)"
   ]
  },
  {
   "cell_type": "code",
   "execution_count": 91,
   "id": "2a8be252",
   "metadata": {
    "jupyter": {
     "source_hidden": true
    },
    "tags": []
   },
   "outputs": [
    {
     "name": "stdout",
     "output_type": "stream",
     "text": [
      "Running dtypes\n",
      "Running imputer\n",
      "Running new_levels1\n",
      "Running new_levels\n",
      "Running feature_time\n",
      "Running scaling\n",
      "Running P_transform\n",
      "Running dummy\n",
      "Running fix_perfect\n",
      "Running clean_names\n"
     ]
    }
   ],
   "source": [
    "extended_data_z = validation_df.loc[:, get_final_column_names(final_z_reg, validation_df)].copy()\n",
    "extended_idx_z  = extended_data_z.index\n",
    "initial_cols_z  = extended_data_z.columns\n",
    "extended_cols_z = extended_data_z.columns.insert(0, estimators_list[0])\n",
    "if len(estimators_list) > 1:\n",
    "    for est_name in estimators_list[1::]:\n",
    "        extended_cols_z = extended_cols_z.insert(0, est_name)"
   ]
  },
  {
   "cell_type": "code",
   "execution_count": 92,
   "id": "0bb8c507",
   "metadata": {
    "jupyter": {
     "source_hidden": true
    },
    "tags": []
   },
   "outputs": [
    {
     "name": "stdout",
     "output_type": "stream",
     "text": [
      "Running data pre-processing:\n",
      "\n",
      "Running dtypes\n",
      "Running imputer\n",
      "Running new_levels1\n",
      "Running new_levels\n",
      "Running feature_time\n",
      "Running scaling\n",
      "Running P_transform\n",
      "Running dummy\n",
      "Running fix_perfect\n",
      "Running clean_names\n"
     ]
    }
   ],
   "source": [
    "print('Running data pre-processing:\\n')\n",
    "if isinstance(final_z_reg, sklearn.pipeline.Pipeline):\n",
    "    prep_steps = final_z_reg.named_steps.items()\n",
    "else:\n",
    "    prep_steps = pyr.get_config('prep_pipe').named_steps.items()\n",
    "\n",
    "for (name, method) in prep_steps:\n",
    "    if method != 'passthrough':  # and name != 'trained_model':\n",
    "        print(f'Running {name}')\n",
    "        extended_data_z = method.transform(extended_data_z)\n",
    "extended_data_z_df = pd.DataFrame(extended_data_z, columns=extended_cols_z, index=extended_idx_z)"
   ]
  },
  {
   "cell_type": "code",
   "execution_count": 93,
   "id": "f77a5965",
   "metadata": {
    "jupyter": {
     "source_hidden": true
    },
    "tags": []
   },
   "outputs": [],
   "source": [
    "if isinstance(final_z_reg, sklearn.pipeline.Pipeline):\n",
    "    if hasattr(final_z_reg.named_steps['trained_model'].final_estimator_, 'feature_importances_'):\n",
    "        importances_coef = final_z_reg.named_steps['trained_model'].final_estimator_.feature_importances_\n",
    "    elif hasattr(final_z_reg.named_steps['trained_model'].final_estimator_, 'coef_'):\n",
    "        importances_coef = np.abs(np.ravel(final_z_reg.named_steps['trained_model'].final_estimator_.coef_)) *\\\n",
    "                                     extended_data_z_df.loc[:, extended_cols_z].std(axis=0)\n",
    "else:\n",
    "    if hasattr(final_z_reg.final_estimator_, 'feature_importances_'):\n",
    "        importances_coef = final_z_reg.final_estimator_.feature_importances_\n",
    "    elif hasattr(final_z_reg.final_estimator_, 'coef_'):\n",
    "        importances_coef = np.abs(np.ravel(final_z_reg.final_estimator_.coef_)) *\\\n",
    "                                     extended_data_z_df.loc[:, extended_cols_z].std(axis=0)\n",
    "\n",
    "coef_meta_df = pd.DataFrame({'Feature': extended_cols_z, 'Importance': importances_coef})\n",
    "coef_sorted_meta_df = (\n",
    "    coef_meta_df.sort_values(by='Importance', ascending=False)\n",
    "    .head(len(extended_cols_z))\n",
    "    .sort_values(by='Importance', ascending=False).reset_index(drop=True)\n",
    ")"
   ]
  },
  {
   "cell_type": "code",
   "execution_count": 94,
   "id": "2bad50c1",
   "metadata": {
    "jupyter": {
     "source_hidden": true
    },
    "tags": []
   },
   "outputs": [],
   "source": [
    "if isinstance(final_z_reg, sklearn.pipeline.Pipeline):\n",
    "    estimators_list  = final_z_reg.named_steps['trained_model'].estimators\n",
    "    estimators_list_ = final_z_reg.named_steps['trained_model'].estimators_\n",
    "else:\n",
    "    estimators_list  = final_z_reg.estimators\n",
    "    estimators_list_ = final_z_reg.estimators_"
   ]
  },
  {
   "cell_type": "code",
   "execution_count": 95,
   "id": "ecb1610b",
   "metadata": {
    "jupyter": {
     "source_hidden": true
    },
    "tags": []
   },
   "outputs": [],
   "source": [
    "base_models_names = [model[0] for model in estimators_list]"
   ]
  },
  {
   "cell_type": "code",
   "execution_count": 96,
   "id": "fc403ce6",
   "metadata": {
    "jupyter": {
     "source_hidden": true
    },
    "tags": []
   },
   "outputs": [],
   "source": [
    "coef_sorted_base_df = {}"
   ]
  },
  {
   "cell_type": "code",
   "execution_count": 97,
   "id": "86533c0b",
   "metadata": {
    "jupyter": {
     "source_hidden": true
    },
    "tags": []
   },
   "outputs": [],
   "source": [
    "for model, model_fit in zip(base_models_names, estimators_list_):\n",
    "    if hasattr(model_fit, 'feature_importances_'):\n",
    "        coef_base_df = pd.DataFrame({'Feature': extended_cols_z.drop(base_models_names),\n",
    "                                     'Importance': model_fit.feature_importances_})\n",
    "        coef_sorted_base_df[model] = (\n",
    "        coef_base_df.sort_values(by='Importance', ascending=False)\n",
    "        .head(len(extended_cols_z.drop(base_models_names)))\n",
    "        .sort_values(by='Importance', ascending=False).reset_index(drop=True)\n",
    "    )\n",
    "    elif hasattr(model_fit, 'coef_'):\n",
    "        coef_base_df = pd.DataFrame({'Feature': extended_cols_z.drop(base_models_names),\n",
    "                                     'Importance': np.abs(np.ravel(model_fit.coef_)) *\\\n",
    "                                     extended_data_z_df.loc[:, extended_cols_z.drop(base_models_names)].std(axis=0)})\n",
    "        coef_sorted_base_df[model] = (\n",
    "        coef_base_df.sort_values(by='Importance', ascending=False)\n",
    "        .head(len(extended_cols_radio.drop(base_models_names)))\n",
    "        .sort_values(by='Importance', ascending=False).reset_index(drop=True)\n",
    ")"
   ]
  },
  {
   "cell_type": "code",
   "execution_count": 98,
   "id": "becfd8d9",
   "metadata": {
    "jupyter": {
     "source_hidden": true
    },
    "tags": []
   },
   "outputs": [],
   "source": [
    "multicol_feat = [(key, name) for key in coef_sorted_base_df.keys() for name in ('Feature', 'Importance')]"
   ]
  },
  {
   "cell_type": "code",
   "execution_count": 99,
   "id": "b7aa863b",
   "metadata": {
    "jupyter": {
     "source_hidden": true
    },
    "tags": []
   },
   "outputs": [
    {
     "name": "stdout",
     "output_type": "stream",
     "text": [
      "Feature importances scaled to sum 100\n",
      "Calculating for catboost...\n",
      "Calculating for rf...\n",
      "Calculating for et...\n",
      "Calculating for dt...\n"
     ]
    },
    {
     "data": {
      "text/html": [
       "<div>\n",
       "<style scoped>\n",
       "    .dataframe tbody tr th:only-of-type {\n",
       "        vertical-align: middle;\n",
       "    }\n",
       "\n",
       "    .dataframe tbody tr th {\n",
       "        vertical-align: top;\n",
       "    }\n",
       "\n",
       "    .dataframe thead tr th {\n",
       "        text-align: left;\n",
       "    }\n",
       "</style>\n",
       "<table border=\"1\" class=\"dataframe\">\n",
       "  <thead>\n",
       "    <tr>\n",
       "      <th></th>\n",
       "      <th colspan=\"2\" halign=\"left\">catboost</th>\n",
       "      <th colspan=\"2\" halign=\"left\">rf</th>\n",
       "      <th colspan=\"2\" halign=\"left\">et</th>\n",
       "      <th colspan=\"2\" halign=\"left\">dt</th>\n",
       "    </tr>\n",
       "    <tr>\n",
       "      <th></th>\n",
       "      <th>Feature</th>\n",
       "      <th>Importance</th>\n",
       "      <th>Feature</th>\n",
       "      <th>Importance</th>\n",
       "      <th>Feature</th>\n",
       "      <th>Importance</th>\n",
       "      <th>Feature</th>\n",
       "      <th>Importance</th>\n",
       "    </tr>\n",
       "  </thead>\n",
       "  <tbody>\n",
       "    <tr>\n",
       "      <th>0</th>\n",
       "      <td>i/y</td>\n",
       "      <td>32.508297</td>\n",
       "      <td>i/y</td>\n",
       "      <td>42.962626</td>\n",
       "      <td>i/y</td>\n",
       "      <td>27.861954</td>\n",
       "      <td>i/y</td>\n",
       "      <td>69.943355</td>\n",
       "    </tr>\n",
       "    <tr>\n",
       "      <th>1</th>\n",
       "      <td>rmag</td>\n",
       "      <td>16.126740</td>\n",
       "      <td>r_i</td>\n",
       "      <td>23.452771</td>\n",
       "      <td>r_i</td>\n",
       "      <td>18.718561</td>\n",
       "      <td>r_i</td>\n",
       "      <td>23.991636</td>\n",
       "    </tr>\n",
       "    <tr>\n",
       "      <th>2</th>\n",
       "      <td>r_i</td>\n",
       "      <td>15.411550</td>\n",
       "      <td>g_i</td>\n",
       "      <td>11.055175</td>\n",
       "      <td>rmag</td>\n",
       "      <td>17.767405</td>\n",
       "      <td>g_i</td>\n",
       "      <td>3.349757</td>\n",
       "    </tr>\n",
       "    <tr>\n",
       "      <th>3</th>\n",
       "      <td>g_i</td>\n",
       "      <td>14.237126</td>\n",
       "      <td>rmag</td>\n",
       "      <td>9.485592</td>\n",
       "      <td>g_i</td>\n",
       "      <td>13.959072</td>\n",
       "      <td>i_z</td>\n",
       "      <td>2.463462</td>\n",
       "    </tr>\n",
       "    <tr>\n",
       "      <th>4</th>\n",
       "      <td>z/W1</td>\n",
       "      <td>14.005693</td>\n",
       "      <td>i_z</td>\n",
       "      <td>9.405340</td>\n",
       "      <td>z/W1</td>\n",
       "      <td>12.032566</td>\n",
       "      <td>rmag</td>\n",
       "      <td>0.188832</td>\n",
       "    </tr>\n",
       "    <tr>\n",
       "      <th>5</th>\n",
       "      <td>i_z</td>\n",
       "      <td>7.710593</td>\n",
       "      <td>z/W1</td>\n",
       "      <td>3.638496</td>\n",
       "      <td>i_z</td>\n",
       "      <td>9.660442</td>\n",
       "      <td>z/W1</td>\n",
       "      <td>0.062958</td>\n",
       "    </tr>\n",
       "  </tbody>\n",
       "</table>\n",
       "</div>"
      ],
      "text/plain": [
       "  catboost                 rf                 et                 dt           \n",
       "   Feature Importance Feature Importance Feature Importance Feature Importance\n",
       "0      i/y  32.508297     i/y  42.962626     i/y  27.861954     i/y  69.943355\n",
       "1     rmag  16.126740     r_i  23.452771     r_i  18.718561     r_i  23.991636\n",
       "2      r_i  15.411550     g_i  11.055175    rmag  17.767405     g_i   3.349757\n",
       "3      g_i  14.237126    rmag   9.485592     g_i  13.959072     i_z   2.463462\n",
       "4     z/W1  14.005693     i_z   9.405340    z/W1  12.032566    rmag   0.188832\n",
       "5      i_z   7.710593    z/W1   3.638496     i_z   9.660442    z/W1   0.062958"
      ]
     },
     "metadata": {},
     "output_type": "display_data"
    }
   ],
   "source": [
    "print('Feature importances scaled to sum 100')\n",
    "coef_sorted_base_df_copy_sum = coef_sorted_base_df.copy()\n",
    "for key in coef_sorted_base_df_copy_sum.keys():\n",
    "    print(f'Calculating for {key}...')\n",
    "    coef_sorted_base_df_copy_sum[key].loc[:, 'Importance'] = coef_sorted_base_df[key].loc[:, 'Importance'] /\\\n",
    "                                                        coef_sorted_base_df[key].loc[:, 'Importance'].sum() * 100\n",
    "    # display(coef_sorted_base_df_copy_sum[key])\n",
    "coef_sorted_base_full_df = pd.concat([coef_sorted_base_df_copy_sum[key].reset_index(drop=True) for key in coef_sorted_base_df_copy_sum.keys()], axis=1)\n",
    "coef_sorted_base_full_df.columns = pd.MultiIndex.from_tuples(multicol_feat)\n",
    "display(coef_sorted_base_full_df)"
   ]
  },
  {
   "cell_type": "code",
   "execution_count": 100,
   "id": "877de311",
   "metadata": {
    "jupyter": {
     "source_hidden": true
    },
    "tags": []
   },
   "outputs": [
    {
     "name": "stdout",
     "output_type": "stream",
     "text": [
      "Feature importances scaled to sum 100\n",
      "Meta model\n"
     ]
    },
    {
     "data": {
      "text/html": [
       "<div>\n",
       "<style scoped>\n",
       "    .dataframe tbody tr th:only-of-type {\n",
       "        vertical-align: middle;\n",
       "    }\n",
       "\n",
       "    .dataframe tbody tr th {\n",
       "        vertical-align: top;\n",
       "    }\n",
       "\n",
       "    .dataframe thead th {\n",
       "        text-align: right;\n",
       "    }\n",
       "</style>\n",
       "<table border=\"1\" class=\"dataframe\">\n",
       "  <thead>\n",
       "    <tr style=\"text-align: right;\">\n",
       "      <th></th>\n",
       "      <th>Feature</th>\n",
       "      <th>Importance</th>\n",
       "    </tr>\n",
       "  </thead>\n",
       "  <tbody>\n",
       "    <tr>\n",
       "      <th>0</th>\n",
       "      <td>i/y</td>\n",
       "      <td>53.735270</td>\n",
       "    </tr>\n",
       "    <tr>\n",
       "      <th>1</th>\n",
       "      <td>dt</td>\n",
       "      <td>10.513405</td>\n",
       "    </tr>\n",
       "    <tr>\n",
       "      <th>2</th>\n",
       "      <td>rmag</td>\n",
       "      <td>9.099468</td>\n",
       "    </tr>\n",
       "    <tr>\n",
       "      <th>3</th>\n",
       "      <td>i_z</td>\n",
       "      <td>6.235085</td>\n",
       "    </tr>\n",
       "    <tr>\n",
       "      <th>4</th>\n",
       "      <td>g_i</td>\n",
       "      <td>5.882023</td>\n",
       "    </tr>\n",
       "    <tr>\n",
       "      <th>5</th>\n",
       "      <td>r_i</td>\n",
       "      <td>5.718105</td>\n",
       "    </tr>\n",
       "    <tr>\n",
       "      <th>6</th>\n",
       "      <td>z/W1</td>\n",
       "      <td>4.426381</td>\n",
       "    </tr>\n",
       "    <tr>\n",
       "      <th>7</th>\n",
       "      <td>et</td>\n",
       "      <td>2.016665</td>\n",
       "    </tr>\n",
       "    <tr>\n",
       "      <th>8</th>\n",
       "      <td>rf</td>\n",
       "      <td>1.998039</td>\n",
       "    </tr>\n",
       "    <tr>\n",
       "      <th>9</th>\n",
       "      <td>catboost</td>\n",
       "      <td>0.375559</td>\n",
       "    </tr>\n",
       "  </tbody>\n",
       "</table>\n",
       "</div>"
      ],
      "text/plain": [
       "    Feature  Importance\n",
       "0       i/y   53.735270\n",
       "1        dt   10.513405\n",
       "2      rmag    9.099468\n",
       "3       i_z    6.235085\n",
       "4       g_i    5.882023\n",
       "5       r_i    5.718105\n",
       "6      z/W1    4.426381\n",
       "7        et    2.016665\n",
       "8        rf    1.998039\n",
       "9  catboost    0.375559"
      ]
     },
     "metadata": {},
     "output_type": "display_data"
    }
   ],
   "source": [
    "print('Feature importances scaled to sum 100')\n",
    "coef_sorted_meta_df_copy_sum = coef_sorted_meta_df.copy()\n",
    "coef_sorted_meta_df_copy_sum.loc[:, 'Importance'] = coef_sorted_meta_df.loc[:, 'Importance'] /\\\n",
    "                                                     coef_sorted_meta_df.loc[:, 'Importance'].sum() * 100\n",
    "print('Meta model')\n",
    "display(coef_sorted_meta_df_copy_sum)"
   ]
  },
  {
   "cell_type": "code",
   "execution_count": 101,
   "id": "78b1a946",
   "metadata": {
    "jupyter": {
     "source_hidden": true
    },
    "tags": []
   },
   "outputs": [
    {
     "name": "stdout",
     "output_type": "stream",
     "text": [
      "Feature importances scaled to sum 100\n",
      "Running dtypes\n",
      "Running imputer\n",
      "Running new_levels1\n",
      "Running new_levels\n",
      "Running feature_time\n",
      "Running scaling\n",
      "Running P_transform\n",
      "Running dummy\n",
      "Running fix_perfect\n",
      "Running clean_names\n",
      "--------------------\n",
      "top features:\n",
      "Feature\tImportance\n",
      "i/y\t32.928\n",
      "rmag\t15.923\n",
      "r_i\t15.605\n",
      "g_i\t14.098\n",
      "z/W1\t13.751\n",
      "i_z\t7.695\n"
     ]
    },
    {
     "data": {
      "image/png": "[encoded data removed]",
      "text/plain": [
       "<Figure size 700x1000 with 1 Axes>"
      ]
     },
     "metadata": {},
     "output_type": "display_data"
    }
   ],
   "source": [
    "print('Feature importances scaled to sum 100')\n",
    "try:\n",
    "    fig         = plt.figure(figsize=(7,10))\n",
    "    ax1         = fig.add_subplot(111)\n",
    "    n_top       = len(validation_df.columns)\n",
    "    features_df = get_feature_importances_df(final_z_reg, validation_df, n=n_top)\n",
    "    features    = features_df.loc[:, 'Feature'].to_list()\n",
    "    importances = features_df.loc[:, 'Importance'].to_list()\n",
    "    import_scal = importances / np.nansum(importances)\n",
    "    import_scal_colors = (importances - np.nanmin(importances)) / (np.nanmax(importances) - np.nanmin(importances))\n",
    "    # indices     = np.argsort(importances)[-n_top:] #only show most important features\n",
    "    # indices     = np.argsort(importances)\n",
    "    # ax1.set_title(f'{model_name} Feature Importances', size=14)\n",
    "    ax1.set_title('Feature Importances', size=14)\n",
    "    ax1.barh(range(len(importances)), import_scal * 100,\\\n",
    "             color=plt.get_cmap('bone', len(importances))(import_scal_colors), align='center', ec='k', lw=1.5)\n",
    "    # plt.yticks(range(len(importances)), [features[i] for i in importances])\n",
    "    plt.yticks(range(len(importances)), features)\n",
    "    ax1.set_xlabel('Relative Importance', size=14)\n",
    "    ax1.set_ylabel('Features', size=14)\n",
    "    ax1.tick_params(axis='both', which='major', labelsize=14)\n",
    "    ax1.tick_params(axis='y', which='major', rotation=30)\n",
    "    plt.setp(ax1.spines.values(), linewidth=2.5)\n",
    "    ax1.tick_params(which='both',top=True, right=False, direction='in')\n",
    "    # ax1.set_xscale('log')\n",
    "    # plt.show()\n",
    "    plt.tight_layout()\n",
    "    if save_plot_flag:\n",
    "        plt.savefig('plots/feat_imp_regression_z_06.pdf', bbox_inches='tight')\n",
    "\n",
    "    print('-' * 20)\n",
    "    print('top features:')\n",
    "    print('Feature\\tImportance')\n",
    "    for feat, imp in zip(reversed(features), reversed(import_scal  * 100)):\n",
    "        print(f'{feat}\\t{round(imp, 3):>.3f}')\n",
    "\n",
    "except:\n",
    "    print('learning algorithm does not provide feature importance.')"
   ]
  },
  {
   "cell_type": "code",
   "execution_count": 102,
   "id": "cfcb0f2d",
   "metadata": {},
   "outputs": [
    {
     "data": {
      "text/html": [
       "<style type=\"text/css\">\n",
       "</style>\n",
       "<table id=\"T_768f2\">\n",
       "  <thead>\n",
       "    <tr>\n",
       "      <th class=\"blank level0\" >&nbsp;</th>\n",
       "      <th id=\"T_768f2_level0_col0\" class=\"col_heading level0 col0\" >Model</th>\n",
       "      <th id=\"T_768f2_level0_col1\" class=\"col_heading level0 col1\" >MAE</th>\n",
       "      <th id=\"T_768f2_level0_col2\" class=\"col_heading level0 col2\" >MSE</th>\n",
       "      <th id=\"T_768f2_level0_col3\" class=\"col_heading level0 col3\" >RMSE</th>\n",
       "      <th id=\"T_768f2_level0_col4\" class=\"col_heading level0 col4\" >R2</th>\n",
       "      <th id=\"T_768f2_level0_col5\" class=\"col_heading level0 col5\" >RMSLE</th>\n",
       "      <th id=\"T_768f2_level0_col6\" class=\"col_heading level0 col6\" >MAPE</th>\n",
       "      <th id=\"T_768f2_level0_col7\" class=\"col_heading level0 col7\" >sigma_mad</th>\n",
       "      <th id=\"T_768f2_level0_col8\" class=\"col_heading level0 col8\" >sigma_nmad</th>\n",
       "      <th id=\"T_768f2_level0_col9\" class=\"col_heading level0 col9\" >sigma_z</th>\n",
       "      <th id=\"T_768f2_level0_col10\" class=\"col_heading level0 col10\" >sigma_z_norm</th>\n",
       "      <th id=\"T_768f2_level0_col11\" class=\"col_heading level0 col11\" >outlier_fr</th>\n",
       "    </tr>\n",
       "  </thead>\n",
       "  <tbody>\n",
       "    <tr>\n",
       "      <th id=\"T_768f2_level0_row0\" class=\"row_heading level0 row0\" >0</th>\n",
       "      <td id=\"T_768f2_row0_col0\" class=\"data row0 col0\" >Stacking Regressor</td>\n",
       "      <td id=\"T_768f2_row0_col1\" class=\"data row0 col1\" >0.1675</td>\n",
       "      <td id=\"T_768f2_row0_col2\" class=\"data row0 col2\" >0.0416</td>\n",
       "      <td id=\"T_768f2_row0_col3\" class=\"data row0 col3\" >0.2039</td>\n",
       "      <td id=\"T_768f2_row0_col4\" class=\"data row0 col4\" >-0.4409</td>\n",
       "      <td id=\"T_768f2_row0_col5\" class=\"data row0 col5\" >0.0382</td>\n",
       "      <td id=\"T_768f2_row0_col6\" class=\"data row0 col6\" >0.0379</td>\n",
       "      <td id=\"T_768f2_row0_col7\" class=\"data row0 col7\" >0.2603</td>\n",
       "      <td id=\"T_768f2_row0_col8\" class=\"data row0 col8\" >0.0476</td>\n",
       "      <td id=\"T_768f2_row0_col9\" class=\"data row0 col9\" >0.2039</td>\n",
       "      <td id=\"T_768f2_row0_col10\" class=\"data row0 col10\" >0.0373</td>\n",
       "      <td id=\"T_768f2_row0_col11\" class=\"data row0 col11\" >0.0000</td>\n",
       "    </tr>\n",
       "  </tbody>\n",
       "</table>\n"
      ],
      "text/plain": [
       "<pandas.io.formats.style.Styler at 0x7f53ade9a220>"
      ]
     },
     "metadata": {},
     "output_type": "display_data"
    }
   ],
   "source": [
    "validation_prediction_reg = pyr.predict_model(final_z_reg, data=validation_df)"
   ]
  },
  {
   "cell_type": "code",
   "execution_count": 103,
   "id": "2dd84be0",
   "metadata": {},
   "outputs": [
    {
     "data": {
      "text/html": [
       "<div>\n",
       "<style scoped>\n",
       "    .dataframe tbody tr th:only-of-type {\n",
       "        vertical-align: middle;\n",
       "    }\n",
       "\n",
       "    .dataframe tbody tr th {\n",
       "        vertical-align: top;\n",
       "    }\n",
       "\n",
       "    .dataframe thead th {\n",
       "        text-align: right;\n",
       "    }\n",
       "</style>\n",
       "<table border=\"1\" class=\"dataframe\">\n",
       "  <thead>\n",
       "    <tr style=\"text-align: right;\">\n",
       "      <th></th>\n",
       "      <th>Z</th>\n",
       "      <th>Label</th>\n",
       "    </tr>\n",
       "  </thead>\n",
       "  <tbody>\n",
       "    <tr>\n",
       "      <th>count</th>\n",
       "      <td>7.000000</td>\n",
       "      <td>7.000000</td>\n",
       "    </tr>\n",
       "    <tr>\n",
       "      <th>mean</th>\n",
       "      <td>4.310571</td>\n",
       "      <td>4.209448</td>\n",
       "    </tr>\n",
       "    <tr>\n",
       "      <th>std</th>\n",
       "      <td>0.183476</td>\n",
       "      <td>0.194672</td>\n",
       "    </tr>\n",
       "    <tr>\n",
       "      <th>min</th>\n",
       "      <td>4.088000</td>\n",
       "      <td>4.104000</td>\n",
       "    </tr>\n",
       "    <tr>\n",
       "      <th>25%</th>\n",
       "      <td>4.163500</td>\n",
       "      <td>4.120641</td>\n",
       "    </tr>\n",
       "    <tr>\n",
       "      <th>50%</th>\n",
       "      <td>4.310000</td>\n",
       "      <td>4.129375</td>\n",
       "    </tr>\n",
       "    <tr>\n",
       "      <th>75%</th>\n",
       "      <td>4.442500</td>\n",
       "      <td>4.173786</td>\n",
       "    </tr>\n",
       "    <tr>\n",
       "      <th>max</th>\n",
       "      <td>4.564000</td>\n",
       "      <td>4.643909</td>\n",
       "    </tr>\n",
       "  </tbody>\n",
       "</table>\n",
       "</div>"
      ],
      "text/plain": [
       "              Z     Label\n",
       "count  7.000000  7.000000\n",
       "mean   4.310571  4.209448\n",
       "std    0.183476  0.194672\n",
       "min    4.088000  4.104000\n",
       "25%    4.163500  4.120641\n",
       "50%    4.310000  4.129375\n",
       "75%    4.442500  4.173786\n",
       "max    4.564000  4.643909"
      ]
     },
     "execution_count": 103,
     "metadata": {},
     "output_type": "execute_result"
    }
   ],
   "source": [
    "validation_prediction_reg.loc[:, ['Z', 'Label']].describe()"
   ]
  },
  {
   "cell_type": "code",
   "execution_count": 104,
   "id": "16d7ce8e",
   "metadata": {},
   "outputs": [],
   "source": [
    "# clb.vmax"
   ]
  },
  {
   "cell_type": "code",
   "execution_count": 105,
   "id": "db0c2d7b",
   "metadata": {
    "jupyter": {
     "source_hidden": true
    },
    "tags": []
   },
   "outputs": [
    {
     "data": {
      "image/png": "[encoded data removed]",
      "text/plain": [
       "<Figure size 600x500 with 3 Axes>"
      ]
     },
     "metadata": {},
     "output_type": "display_data"
    }
   ],
   "source": [
    "fig             = plt.figure(figsize=(6,5))\n",
    "ax1             = fig.add_subplot(111, projection='scatter_density', xscale='log', yscale='log')\n",
    "plot_redshift_compare(validation_prediction_reg.loc[:, 'Z'], validation_prediction_reg.loc[:, 'Label'],\\\n",
    "                      ax_pre=ax1, title='Validation set', dpi=10, show_clb=True, log_stretch=False)\n",
    "if save_plot_flag:\n",
    "    plt.savefig('plots/compare_plot_validation_redshift_06.pdf', bbox_inches='tight')\n",
    "plt.show()"
   ]
  },
  {
   "cell_type": "code",
   "execution_count": 106,
   "id": "56b486d2",
   "metadata": {
    "jupyter": {
     "source_hidden": true
    },
    "tags": []
   },
   "outputs": [],
   "source": [
    "train_size         = 0.7\n",
    "data_split_shuffle = True\n",
    "_stratify_columns  = _get_columns_to_stratify_by(\n",
    "            train_test_df.drop(columns=['Z']), train_test_df.loc[:, 'Z'], False, 'Z'\n",
    "        )\n",
    "\n",
    "X_train, X_test, y_train, y_test = train_test_split(\n",
    "                train_test_df.drop(columns=['Z']),\n",
    "                train_test_df.loc[:, 'Z'],\n",
    "                test_size=1 - train_size,\n",
    "                stratify=_stratify_columns,\n",
    "                random_state=seed,\n",
    "                shuffle=data_split_shuffle,\n",
    "            )\n",
    "train_df        = pd.concat([X_train, y_train], axis=1)\n",
    "test_df         = pd.concat([X_test, y_test], axis=1)"
   ]
  },
  {
   "cell_type": "code",
   "execution_count": 107,
   "id": "d82e2f8c",
   "metadata": {},
   "outputs": [
    {
     "data": {
      "text/html": [
       "<style type=\"text/css\">\n",
       "</style>\n",
       "<table id=\"T_baa4f\">\n",
       "  <thead>\n",
       "    <tr>\n",
       "      <th class=\"blank level0\" >&nbsp;</th>\n",
       "      <th id=\"T_baa4f_level0_col0\" class=\"col_heading level0 col0\" >Model</th>\n",
       "      <th id=\"T_baa4f_level0_col1\" class=\"col_heading level0 col1\" >MAE</th>\n",
       "      <th id=\"T_baa4f_level0_col2\" class=\"col_heading level0 col2\" >MSE</th>\n",
       "      <th id=\"T_baa4f_level0_col3\" class=\"col_heading level0 col3\" >RMSE</th>\n",
       "      <th id=\"T_baa4f_level0_col4\" class=\"col_heading level0 col4\" >R2</th>\n",
       "      <th id=\"T_baa4f_level0_col5\" class=\"col_heading level0 col5\" >RMSLE</th>\n",
       "      <th id=\"T_baa4f_level0_col6\" class=\"col_heading level0 col6\" >MAPE</th>\n",
       "      <th id=\"T_baa4f_level0_col7\" class=\"col_heading level0 col7\" >sigma_mad</th>\n",
       "      <th id=\"T_baa4f_level0_col8\" class=\"col_heading level0 col8\" >sigma_nmad</th>\n",
       "      <th id=\"T_baa4f_level0_col9\" class=\"col_heading level0 col9\" >sigma_z</th>\n",
       "      <th id=\"T_baa4f_level0_col10\" class=\"col_heading level0 col10\" >sigma_z_norm</th>\n",
       "      <th id=\"T_baa4f_level0_col11\" class=\"col_heading level0 col11\" >outlier_fr</th>\n",
       "    </tr>\n",
       "  </thead>\n",
       "  <tbody>\n",
       "    <tr>\n",
       "      <th id=\"T_baa4f_level0_row0\" class=\"row_heading level0 row0\" >0</th>\n",
       "      <td id=\"T_baa4f_row0_col0\" class=\"data row0 col0\" >Stacking Regressor</td>\n",
       "      <td id=\"T_baa4f_row0_col1\" class=\"data row0 col1\" >0.0430</td>\n",
       "      <td id=\"T_baa4f_row0_col2\" class=\"data row0 col2\" >0.0038</td>\n",
       "      <td id=\"T_baa4f_row0_col3\" class=\"data row0 col3\" >0.0614</td>\n",
       "      <td id=\"T_baa4f_row0_col4\" class=\"data row0 col4\" >0.9879</td>\n",
       "      <td id=\"T_baa4f_row0_col5\" class=\"data row0 col5\" >0.0114</td>\n",
       "      <td id=\"T_baa4f_row0_col6\" class=\"data row0 col6\" >0.0099</td>\n",
       "      <td id=\"T_baa4f_row0_col7\" class=\"data row0 col7\" >0.0469</td>\n",
       "      <td id=\"T_baa4f_row0_col8\" class=\"data row0 col8\" >0.0086</td>\n",
       "      <td id=\"T_baa4f_row0_col9\" class=\"data row0 col9\" >0.0614</td>\n",
       "      <td id=\"T_baa4f_row0_col10\" class=\"data row0 col10\" >0.0114</td>\n",
       "      <td id=\"T_baa4f_row0_col11\" class=\"data row0 col11\" >0.0000</td>\n",
       "    </tr>\n",
       "  </tbody>\n",
       "</table>\n"
      ],
      "text/plain": [
       "<pandas.io.formats.style.Styler at 0x7f53ac2bebe0>"
      ]
     },
     "metadata": {},
     "output_type": "display_data"
    },
    {
     "data": {
      "text/html": [
       "<style type=\"text/css\">\n",
       "</style>\n",
       "<table id=\"T_ad751\">\n",
       "  <thead>\n",
       "    <tr>\n",
       "      <th class=\"blank level0\" >&nbsp;</th>\n",
       "      <th id=\"T_ad751_level0_col0\" class=\"col_heading level0 col0\" >Model</th>\n",
       "      <th id=\"T_ad751_level0_col1\" class=\"col_heading level0 col1\" >MAE</th>\n",
       "      <th id=\"T_ad751_level0_col2\" class=\"col_heading level0 col2\" >MSE</th>\n",
       "      <th id=\"T_ad751_level0_col3\" class=\"col_heading level0 col3\" >RMSE</th>\n",
       "      <th id=\"T_ad751_level0_col4\" class=\"col_heading level0 col4\" >R2</th>\n",
       "      <th id=\"T_ad751_level0_col5\" class=\"col_heading level0 col5\" >RMSLE</th>\n",
       "      <th id=\"T_ad751_level0_col6\" class=\"col_heading level0 col6\" >MAPE</th>\n",
       "      <th id=\"T_ad751_level0_col7\" class=\"col_heading level0 col7\" >sigma_mad</th>\n",
       "      <th id=\"T_ad751_level0_col8\" class=\"col_heading level0 col8\" >sigma_nmad</th>\n",
       "      <th id=\"T_ad751_level0_col9\" class=\"col_heading level0 col9\" >sigma_z</th>\n",
       "      <th id=\"T_ad751_level0_col10\" class=\"col_heading level0 col10\" >sigma_z_norm</th>\n",
       "      <th id=\"T_ad751_level0_col11\" class=\"col_heading level0 col11\" >outlier_fr</th>\n",
       "    </tr>\n",
       "  </thead>\n",
       "  <tbody>\n",
       "    <tr>\n",
       "      <th id=\"T_ad751_level0_row0\" class=\"row_heading level0 row0\" >0</th>\n",
       "      <td id=\"T_ad751_row0_col0\" class=\"data row0 col0\" >Stacking Regressor</td>\n",
       "      <td id=\"T_ad751_row0_col1\" class=\"data row0 col1\" >0.0345</td>\n",
       "      <td id=\"T_ad751_row0_col2\" class=\"data row0 col2\" >0.0031</td>\n",
       "      <td id=\"T_ad751_row0_col3\" class=\"data row0 col3\" >0.0552</td>\n",
       "      <td id=\"T_ad751_row0_col4\" class=\"data row0 col4\" >0.9902</td>\n",
       "      <td id=\"T_ad751_row0_col5\" class=\"data row0 col5\" >0.0108</td>\n",
       "      <td id=\"T_ad751_row0_col6\" class=\"data row0 col6\" >0.0084</td>\n",
       "      <td id=\"T_ad751_row0_col7\" class=\"data row0 col7\" >0.0155</td>\n",
       "      <td id=\"T_ad751_row0_col8\" class=\"data row0 col8\" >0.0026</td>\n",
       "      <td id=\"T_ad751_row0_col9\" class=\"data row0 col9\" >0.0552</td>\n",
       "      <td id=\"T_ad751_row0_col10\" class=\"data row0 col10\" >0.0109</td>\n",
       "      <td id=\"T_ad751_row0_col11\" class=\"data row0 col11\" >0.0000</td>\n",
       "    </tr>\n",
       "  </tbody>\n",
       "</table>\n"
      ],
      "text/plain": [
       "<pandas.io.formats.style.Styler at 0x7f544e89c610>"
      ]
     },
     "metadata": {},
     "output_type": "display_data"
    }
   ],
   "source": [
    "train_prediction_reg = pyr.predict_model(final_z_reg, data=train_df)\n",
    "test_prediction_reg  = pyr.predict_model(final_z_reg, data=test_df)"
   ]
  },
  {
   "cell_type": "code",
   "execution_count": 108,
   "id": "3d28fff1",
   "metadata": {
    "jupyter": {
     "source_hidden": true
    },
    "tags": []
   },
   "outputs": [],
   "source": [
    "sigma_mad_train    = sigma_mad(train_prediction_reg.loc[:, 'Z'],         train_prediction_reg.loc[:, 'Label'])\n",
    "sigma_mad_test     = sigma_mad(test_prediction_reg.loc[:, 'Z'],          test_prediction_reg.loc[:, 'Label'])\n",
    "sigma_mad_valid    = sigma_mad(validation_prediction_reg.loc[:, 'Z'],    validation_prediction_reg.loc[:, 'Label'])"
   ]
  },
  {
   "cell_type": "code",
   "execution_count": 109,
   "id": "55ae44cd",
   "metadata": {
    "jupyter": {
     "source_hidden": true
    },
    "tags": []
   },
   "outputs": [],
   "source": [
    "sigma_nmad_train   = sigma_nmad(train_prediction_reg.loc[:, 'Z'],        train_prediction_reg.loc[:, 'Label'])\n",
    "sigma_nmad_test    = sigma_nmad(test_prediction_reg.loc[:, 'Z'],         test_prediction_reg.loc[:, 'Label'])\n",
    "sigma_nmad_valid   = sigma_nmad(validation_prediction_reg.loc[:, 'Z'],   validation_prediction_reg.loc[:, 'Label'])"
   ]
  },
  {
   "cell_type": "code",
   "execution_count": 110,
   "id": "41a80801",
   "metadata": {
    "jupyter": {
     "source_hidden": true
    },
    "tags": []
   },
   "outputs": [],
   "source": [
    "sigma_z_train      = sigma_z(train_prediction_reg.loc[:, 'Z'],           train_prediction_reg.loc[:, 'Label'])\n",
    "sigma_z_test       = sigma_z(test_prediction_reg.loc[:, 'Z'],            test_prediction_reg.loc[:, 'Label'])\n",
    "sigma_z_valid      = sigma_z(validation_prediction_reg.loc[:, 'Z'],      validation_prediction_reg.loc[:, 'Label'])"
   ]
  },
  {
   "cell_type": "code",
   "execution_count": 111,
   "id": "5435afd5",
   "metadata": {
    "jupyter": {
     "source_hidden": true
    },
    "tags": []
   },
   "outputs": [],
   "source": [
    "sigma_z_norm_train = sigma_z_norm(train_prediction_reg.loc[:, 'Z'],      train_prediction_reg.loc[:, 'Label'])\n",
    "sigma_z_norm_test  = sigma_z_norm(test_prediction_reg.loc[:, 'Z'],       test_prediction_reg.loc[:, 'Label'])\n",
    "sigma_z_norm_valid = sigma_z_norm(validation_prediction_reg.loc[:, 'Z'], validation_prediction_reg.loc[:, 'Label'])"
   ]
  },
  {
   "cell_type": "code",
   "execution_count": 112,
   "id": "852c9bf5",
   "metadata": {
    "jupyter": {
     "source_hidden": true
    },
    "tags": []
   },
   "outputs": [],
   "source": [
    "out_frac_train     = outlier_frac(train_prediction_reg.loc[:, 'Z'],      train_prediction_reg.loc[:, 'Label'])\n",
    "out_frac_test      = outlier_frac(test_prediction_reg.loc[:, 'Z'],       test_prediction_reg.loc[:, 'Label'])\n",
    "out_frac_valid     = outlier_frac(validation_prediction_reg.loc[:, 'Z'], validation_prediction_reg.loc[:, 'Label'])"
   ]
  },
  {
   "cell_type": "code",
   "execution_count": 113,
   "id": "4c46aa71",
   "metadata": {
    "jupyter": {
     "source_hidden": true
    },
    "tags": []
   },
   "outputs": [
    {
     "name": "stdout",
     "output_type": "stream",
     "text": [
      "Scores for training set:\n",
      "Sigma MAD:\t\t0.0469\n",
      "Sigma NMAD:\t\t0.0086\n",
      "Sigma z:\t\t0.0614\n",
      "Sigma z norm:\t\t0.0114\n",
      "Out fraction:\t\t0.0000\n",
      "-----------------------------------\n"
     ]
    }
   ],
   "source": [
    "print('Scores for training set:')\n",
    "print(f'Sigma MAD:\\t\\t{sigma_mad_train:.4f}')\n",
    "print(f'Sigma NMAD:\\t\\t{sigma_nmad_train:.4f}')\n",
    "print(f'Sigma z:\\t\\t{sigma_z_train:.4f}')\n",
    "print(f'Sigma z norm:\\t\\t{sigma_z_norm_train:.4f}')\n",
    "print(f'Out fraction:\\t\\t{out_frac_train:.4f}')\n",
    "print('-' * 35)"
   ]
  },
  {
   "cell_type": "code",
   "execution_count": 114,
   "id": "dc126083",
   "metadata": {
    "jupyter": {
     "source_hidden": true
    },
    "tags": []
   },
   "outputs": [
    {
     "name": "stdout",
     "output_type": "stream",
     "text": [
      "Scores for test set:\n",
      "Sigma MAD:\t\t0.0155\n",
      "Sigma NMAD:\t\t0.0026\n",
      "Sigma z:\t\t0.0552\n",
      "Sigma z norm:\t\t0.0109\n",
      "Out fraction:\t\t0.0000\n",
      "-----------------------------------\n"
     ]
    }
   ],
   "source": [
    "print('Scores for test set:')\n",
    "print(f'Sigma MAD:\\t\\t{sigma_mad_test:.4f}')\n",
    "print(f'Sigma NMAD:\\t\\t{sigma_nmad_test:.4f}')\n",
    "print(f'Sigma z:\\t\\t{sigma_z_test:.4f}')\n",
    "print(f'Sigma z norm:\\t\\t{sigma_z_norm_test:.4f}')\n",
    "print(f'Out fraction:\\t\\t{out_frac_test:.4f}')\n",
    "print('-' * 35)"
   ]
  },
  {
   "cell_type": "code",
   "execution_count": 115,
   "id": "323f2700",
   "metadata": {
    "jupyter": {
     "source_hidden": true
    },
    "tags": []
   },
   "outputs": [
    {
     "name": "stdout",
     "output_type": "stream",
     "text": [
      "Scores for validation set:\n",
      "Sigma MAD:\t\t0.2603\n",
      "Sigma NMAD:\t\t0.0476\n",
      "Sigma z:\t\t0.2039\n",
      "Sigma z norm:\t\t0.0373\n",
      "Out fraction:\t\t0.0000\n",
      "-----------------------------------\n"
     ]
    }
   ],
   "source": [
    "print('Scores for validation set:')\n",
    "print(f'Sigma MAD:\\t\\t{sigma_mad_valid:.4f}')\n",
    "print(f'Sigma NMAD:\\t\\t{sigma_nmad_valid:.4f}')\n",
    "print(f'Sigma z:\\t\\t{sigma_z_valid:.4f}')\n",
    "print(f'Sigma z norm:\\t\\t{sigma_z_norm_valid:.4f}')\n",
    "print(f'Out fraction:\\t\\t{out_frac_valid:.4f}')\n",
    "print('-' * 35)"
   ]
  },
  {
   "cell_type": "code",
   "execution_count": 116,
   "id": "383c4d0b",
   "metadata": {
    "jupyter": {
     "source_hidden": true
    },
    "tags": []
   },
   "outputs": [
    {
     "data": {
      "image/png": "[encoded data removed]",
      "text/plain": [
       "<Figure size 600x500 with 3 Axes>"
      ]
     },
     "metadata": {},
     "output_type": "display_data"
    }
   ],
   "source": [
    "fig             = plt.figure(figsize=(6,5))\n",
    "ax1             = fig.add_subplot(111, projection='scatter_density', xscale='log', yscale='log')\n",
    "plot_redshift_compare(train_prediction_reg.loc[:, 'Z'], train_prediction_reg.loc[:, 'Label'],\\\n",
    "                      ax_pre=ax1, title='Training set', dpi=10, show_clb=True, log_stretch=False)\n",
    "if save_plot_flag:\n",
    "    plt.savefig('plots/compare_plot_train_redshift_06.pdf', bbox_inches='tight')\n",
    "plt.show()"
   ]
  },
  {
   "cell_type": "code",
   "execution_count": 117,
   "id": "834679c7",
   "metadata": {
    "jupyter": {
     "source_hidden": true
    },
    "tags": []
   },
   "outputs": [
    {
     "data": {
      "image/png": "[encoded data removed]",
      "text/plain": [
       "<Figure size 600x500 with 3 Axes>"
      ]
     },
     "metadata": {},
     "output_type": "display_data"
    }
   ],
   "source": [
    "fig             = plt.figure(figsize=(6,5))\n",
    "ax1             = fig.add_subplot(111, projection='scatter_density', xscale='log', yscale='log')\n",
    "plot_redshift_compare(test_prediction_reg.loc[:, 'Z'], test_prediction_reg.loc[:, 'Label'],\\\n",
    "                      ax_pre=ax1, title='Training set', dpi=10, show_clb=True, log_stretch=False)\n",
    "if save_plot_flag:\n",
    "    plt.savefig('plots/compare_plot_test_redshift_06.pdf', bbox_inches='tight')\n",
    "plt.show()"
   ]
  },
  {
   "cell_type": "code",
   "execution_count": 118,
   "id": "392b364c",
   "metadata": {
    "jupyter": {
     "source_hidden": true
    },
    "tags": []
   },
   "outputs": [
    {
     "data": {
      "image/png": "[encoded data removed]",
      "text/plain": [
       "<Figure size 1000x350 with 1 Axes>"
      ]
     },
     "metadata": {},
     "output_type": "display_data"
    }
   ],
   "source": [
    "fig             = plt.figure(figsize=(10,3.5))\n",
    "ax1             = fig.add_subplot(111, xscale='linear', yscale='log')\n",
    "\n",
    "min_for_range = np.nanmin([np.nanmin(validation_prediction_reg.loc[:, 'Z']),\\\n",
    "                           np.nanmin(validation_prediction_reg.loc[:, 'Label'])])\n",
    "max_for_range = np.nanmax([np.nanmax(validation_prediction_reg.loc[:, 'Z']),\\\n",
    "                           np.nanmax(validation_prediction_reg.loc[:, 'Label'])])\n",
    "bins_z        = np.linspace(min_for_range, max_for_range, 50)\n",
    "\n",
    "_, bins, _ = ax1.hist(validation_prediction_reg.loc[:, 'Label'], bins=bins_z, histtype='stepfilled',\\\n",
    "                      ec='k', fc='mediumpurple', lw=3.5,\\\n",
    "                      label=f\"Predicted\\nN={np.sum(np.array(validation_prediction_reg.loc[:, 'Label'] > 0))}\")\n",
    "ax1.hist(validation_prediction_reg.loc[:, 'Z'], bins=bins_z, histtype='stepfilled', ec='k', fc='darkcyan',\\\n",
    "         lw=3.5, label=f\"True\\nN={np.sum(np.array(validation_prediction_reg.loc[:, 'Z'] > 0))}\", alpha=0.7)\n",
    "\n",
    "ax1.tick_params(which='both', top=True, right=True, direction='in')\n",
    "ax1.tick_params(axis='both', which='major', labelsize=14)\n",
    "ax1.tick_params(which='major', length=8, width=1.5)\n",
    "ax1.tick_params(which='minor', length=4, width=1.5)\n",
    "# ax1.set_xlabel('$m_{\\mathrm{W1}}\\, \\mathrm{[AB]}$', size=20)\n",
    "ax1.set_xlabel('$z_{\\mathrm{AGN}}$', size=20)\n",
    "ax1.set_ylabel('Frequency', size=20)\n",
    "# ax1.set_ylabel('Frequency', size=20)\n",
    "plt.setp(ax1.spines.values(), linewidth=3.5)\n",
    "plt.setp(ax1.spines.values(), linewidth=3.5)\n",
    "plt.legend(loc=1, fontsize=20)\n",
    "# ax1.invert_xaxis()\n",
    "# ax1.set_xlim(left=-4, right=6)\n",
    "#ax1.set_aspect('equal', 'box')\n",
    "fig.tight_layout()\n",
    "if save_plot_flag:\n",
    "    plt.savefig('plots/hist_true_predicted_z_05.pdf')\n",
    "plt.show()"
   ]
  },
  {
   "cell_type": "code",
   "execution_count": null,
   "id": "5c388d62",
   "metadata": {},
   "outputs": [],
   "source": []
  }
 ],
 "metadata": {
  "accelerator": "GPU",
  "colab": {
   "name": "HETDEX_pipeline_AGN_training.ipynb",
   "provenance": []
  },
  "kernelspec": {
   "display_name": "Python 3 (ipykernel)",
   "language": "python",
   "name": "python3"
  },
  "language_info": {
   "codemirror_mode": {
    "name": "ipython",
    "version": 3
   },
   "file_extension": ".py",
   "mimetype": "text/x-python",
   "name": "python",
   "nbconvert_exporter": "python",
   "pygments_lexer": "ipython3",
   "version": "3.8.13"
  }
 },
 "nbformat": 4,
 "nbformat_minor": 5
}
