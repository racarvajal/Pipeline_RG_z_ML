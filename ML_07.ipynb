{
 "cells": [
  {
   "cell_type": "markdown",
   "metadata": {},
   "source": [
    "# Pipeline for High-z Radio Galaxies 07: Application of full pipeline for prediction with naive thresholds"
   ]
  },
  {
   "cell_type": "markdown",
   "metadata": {},
   "source": [
    "## Introduction"
   ]
  },
  {
   "cell_type": "markdown",
   "metadata": {},
   "source": [
    "In this file, three models will be applied consecutively in order to predict  \n",
    "the detection of Radio Galaxies (radio AGN) and their redshift.  \n",
    "\n",
    "In principle, this pipeline should be applied to data in Stripe 82. But  \n",
    "it can be used with any other suitable dataset."
   ]
  },
  {
   "cell_type": "code",
   "execution_count": 1,
   "metadata": {},
   "outputs": [],
   "source": [
    "%matplotlib inline\n",
    "# Static plots\n",
    "#%matplotlib ipympl\n",
    "# Interactive plots\n",
    "import numpy as np\n",
    "import matplotlib as mpl\n",
    "import matplotlib.cm as cm\n",
    "from matplotlib import ticker\n",
    "import matplotlib.pyplot as plt\n",
    "import matplotlib.colors as mcolors\n",
    "import matplotlib.patheffects as mpe\n",
    "import matplotlib.patches as mpatches\n",
    "from matplotlib.ticker import ScalarFormatter\n",
    "from mpl_toolkits.axes_grid1.inset_locator import inset_axes\n",
    "from astropy.visualization import LogStretch, PowerStretch\n",
    "from astropy.visualization.mpl_normalize import ImageNormalize\n",
    "from sklearn.preprocessing import MinMaxScaler\n",
    "from sklearn.metrics import ConfusionMatrixDisplay\n",
    "from sklearn.model_selection import train_test_split\n",
    "import sklearn.pipeline\n",
    "import colorcet as cc\n",
    "from pycaret import classification as pyc\n",
    "from pycaret import regression as pyr\n",
    "import pandas as pd\n",
    "import mpl_scatter_density\n",
    "from joblib import dump, load\n",
    "import global_variables as gv\n",
    "import global_functions as gf"
   ]
  },
  {
   "cell_type": "code",
   "execution_count": 2,
   "metadata": {},
   "outputs": [],
   "source": [
    "mpl.rcdefaults()"
   ]
  },
  {
   "cell_type": "code",
   "execution_count": 3,
   "metadata": {},
   "outputs": [],
   "source": [
    "plt.rcParams['text.usetex'] = True"
   ]
  },
  {
   "cell_type": "markdown",
   "metadata": {},
   "source": [
    "Functions to predict values"
   ]
  },
  {
   "cell_type": "code",
   "execution_count": 4,
   "metadata": {
    "jupyter": {
     "source_hidden": true
    }
   },
   "outputs": [],
   "source": [
    "def predict_star(catalog_df, star_model, cal_str_model, threshold, cal_threshold, raw_score=True):\n",
    "    catalog_df = pyc.predict_model(star_model, data=catalog_df, probability_threshold=threshold, raw_score=raw_score, round=10)\n",
    "    catalog_df = catalog_df.drop(columns=['Score_1'])\n",
    "    catalog_df = catalog_df.rename(columns={'Label': 'pred_star', 'Score_0': 'Score_no_star'})\n",
    "    catalog_df.loc[:, 'Score_no_star'] = np.around(catalog_df.loc[:, 'Score_no_star'], decimals=7)\n",
    "    pred_probs = cal_str_model.predict(catalog_df.loc[:, 'Score_0'])\n",
    "    cal_class  = np.array(pred_probs < (1 - cal_threshold)).astype(int)\n",
    "    catalog_df['Prob_no_star']  = pred_probs\n",
    "    catalog_df['pred_star_cal'] = cal_class\n",
    "    return catalog_df"
   ]
  },
  {
   "cell_type": "code",
   "execution_count": 5,
   "metadata": {
    "jupyter": {
     "source_hidden": true
    }
   },
   "outputs": [],
   "source": [
    "def predict_AGN_gal(catalog_df, AGN_gal_model, cal_AGN_gal_model, threshold, cal_threshold, raw_score=True):\n",
    "    catalog_df = pyc.predict_model(AGN_gal_model, data=catalog_df, probability_threshold=threshold, raw_score=raw_score, round=10)\n",
    "    catalog_df = catalog_df.drop(columns=['Score_0'])\n",
    "    catalog_df = catalog_df.rename(columns={'Label': 'pred_class', 'Score_1': 'Score_AGN'})\n",
    "    catalog_df.loc[:, 'Score_AGN'] = np.around(catalog_df.loc[:, 'Score_AGN'], decimals=7)\n",
    "    pred_probs = cal_AGN_gal_model.predict(catalog_df.loc[:, 'Score_AGN'])\n",
    "    cal_class  = np.array(pred_probs >= cal_threshold).astype(int)\n",
    "    catalog_df['Prob_AGN']       = pred_probs\n",
    "    catalog_df['pred_class_cal'] = cal_class\n",
    "    return catalog_df"
   ]
  },
  {
   "cell_type": "code",
   "execution_count": 6,
   "metadata": {
    "jupyter": {
     "source_hidden": true
    }
   },
   "outputs": [],
   "source": [
    "def predict_radio_det(catalog_df, radio_model, cal_radio_model, threshold, cal_threshold, raw_score=True):\n",
    "    catalog_df = pyc.predict_model(radio_model, data=catalog_df, probability_threshold=threshold, raw_score=raw_score, round=10)\n",
    "    catalog_df = catalog_df.drop(columns=['Score_0'])\n",
    "    catalog_df = catalog_df.rename(columns={'Label': 'pred_radio', 'Score_1': 'Score_radio'})\n",
    "    catalog_df.loc[:, 'Score_radio'] = np.around(catalog_df.loc[:, 'Score_radio'], decimals=7)\n",
    "    pred_probs = cal_radio_model.predict(catalog_df.loc[:, 'Score_radio'])\n",
    "    cal_class  = np.array(pred_probs >= cal_threshold).astype(int)\n",
    "    catalog_df['Prob_radio']     = pred_probs\n",
    "    catalog_df['pred_radio_cal'] = cal_class\n",
    "    return catalog_df"
   ]
  },
  {
   "cell_type": "code",
   "execution_count": 7,
   "metadata": {
    "jupyter": {
     "source_hidden": true
    }
   },
   "outputs": [],
   "source": [
    "def predict_z_full(catalog_df, redshift_model):\n",
    "    catalog_df = pyr.predict_model(redshift_model, data=catalog_df, round=10)\n",
    "    catalog_df = catalog_df.rename(columns={'Label': 'pred_Z'})\n",
    "    catalog_df.loc[:, 'pred_Z'] = np.around(catalog_df.loc[:, 'pred_Z'], decimals=4)\n",
    "    return catalog_df"
   ]
  },
  {
   "cell_type": "code",
   "execution_count": 8,
   "metadata": {
    "jupyter": {
     "source_hidden": true
    }
   },
   "outputs": [],
   "source": [
    "def predict_z_high(catalog_df, redshift_model, z_lim, z_tol):\n",
    "    catalog_df    = pyr.predict_model(redshift_model, data=catalog_df, round=10)\n",
    "    filter_pred_z = catalog_df.loc[:, 'pred_Z'] >= (z_lim + z_tol)\n",
    "    catalog_df.loc[:, 'pred_Z'] = catalog_df.loc[:, 'pred_Z'].mask(filter_pred_z, catalog_df.loc[filter_pred_z, 'Label'])\n",
    "    catalog_df    = catalog_df.drop(columns=['Label'])\n",
    "    catalog_df.loc[:, 'pred_Z'] = np.around(catalog_df.loc[:, 'pred_Z'], decimals=4)\n",
    "    return catalog_df"
   ]
  },
  {
   "cell_type": "markdown",
   "metadata": {},
   "source": [
    "---"
   ]
  },
  {
   "cell_type": "markdown",
   "metadata": {},
   "source": [
    "## Reading data"
   ]
  },
  {
   "cell_type": "markdown",
   "metadata": {
    "tags": []
   },
   "source": [
    "Flags."
   ]
  },
  {
   "cell_type": "code",
   "execution_count": 9,
   "metadata": {},
   "outputs": [],
   "source": [
    "save_plot_flag      = False\n",
    "load_models_flag    = True\n",
    "use_zeroth_model    = False  # Initial model to discriminate between star and non-star objects\n",
    "use_second_z_model  = False  # z >= 3.7 (with SMOGN), or, if needed, z >= 4.0 ***\n",
    "use_calibration     = True\n",
    "compare_A17_flag    = True  # Compare with the results from Ananna et al., 2017"
   ]
  },
  {
   "cell_type": "code",
   "execution_count": 10,
   "metadata": {},
   "outputs": [],
   "source": [
    "used_area           = 'S82'  # can be 'S82', 'HETDEX', 'COSMOS'\n",
    "HETDEX_subset       = 'Validation'  # Validation, Training, Test, Test+Train"
   ]
  },
  {
   "cell_type": "code",
   "execution_count": 11,
   "metadata": {
    "jupyter": {
     "source_hidden": true
    }
   },
   "outputs": [],
   "source": [
    "if used_area != 'S82':\n",
    "    compare_A17_flag = False"
   ]
  },
  {
   "cell_type": "code",
   "execution_count": 12,
   "metadata": {
    "tags": []
   },
   "outputs": [],
   "source": [
    "file_name_dict      = {'S82': gv.file_S82, 'HETDEX': gv.file_HETDEX, 'COSMOS': gv.file_COSMOS}\n",
    "file_name           = file_name_dict[used_area]"
   ]
  },
  {
   "cell_type": "code",
   "execution_count": 13,
   "metadata": {
    "tags": []
   },
   "outputs": [],
   "source": [
    "feats_2_disc_S82    = ['RA_MILLI', 'DEC_MILLI', 'W1mag', 'W2mag', 'num_imputed', 'radio_detect']\n",
    "feats_2_disc_HETDEX = ['RA_MILLI', 'DEC_MILLI', 'W1mag', 'W2mag', 'num_imputed', 'radio_detect']\n",
    "feats_2_disc_COSMOS = ['RA_MILLI', 'DEC_MILLI', 'W1mag', 'W2mag', 'num_imputed', 'radio_detect']\n",
    "\n",
    "feats_2_disc        = {'S82': feats_2_disc_S82, 'HETDEX': feats_2_disc_HETDEX, 'COSMOS': feats_2_disc_COSMOS}\n",
    "features_2_discard  = feats_2_disc[used_area]"
   ]
  },
  {
   "cell_type": "code",
   "execution_count": 14,
   "metadata": {},
   "outputs": [],
   "source": [
    "full_catalog_df     = pd.read_hdf(gv.cat_path + file_name, key='df').drop(columns=features_2_discard)"
   ]
  },
  {
   "cell_type": "code",
   "execution_count": 15,
   "metadata": {
    "jupyter": {
     "source_hidden": true
    }
   },
   "outputs": [],
   "source": [
    "if used_area == 'S82':\n",
    "    full_catalog_df.loc[:, 'LOFAR_detect'] = full_catalog_df.loc[:, 'VLAS82_detect'].copy()\n",
    "    full_catalog_df = full_catalog_df.drop(columns=['VLAS82_detect'])\n",
    "if used_area == 'COSMOS':\n",
    "    full_catalog_df.loc[:, 'LOFAR_detect'] = full_catalog_df.loc[:, 'COSMOSVLA3_detect'].copy()\n",
    "    full_catalog_df = full_catalog_df.drop(columns=['COSMOSVLA3_detect'])"
   ]
  },
  {
   "cell_type": "markdown",
   "metadata": {},
   "source": [
    "Create features with class and combined redshift."
   ]
  },
  {
   "cell_type": "code",
   "execution_count": 16,
   "metadata": {
    "jupyter": {
     "source_hidden": true
    }
   },
   "outputs": [],
   "source": [
    "if use_zeroth_model:\n",
    "    full_catalog_df['is_str'] = np.array(full_catalog_df.loc[:, 'spCl'] == 'STAR  ').astype(int)\n",
    "elif not use_zeroth_model:\n",
    "    full_catalog_df['is_str'] = np.zeros_like(full_catalog_df.loc[:, 'spCl'])"
   ]
  },
  {
   "cell_type": "code",
   "execution_count": 17,
   "metadata": {
    "jupyter": {
     "source_hidden": true
    }
   },
   "outputs": [],
   "source": [
    "full_catalog_df['class']            = full_catalog_df.loc[:, 'is_AGN'].copy()\n",
    "if use_zeroth_model:\n",
    "    filter_non_confirmed            = np.array(full_catalog_df.loc[:, 'is_AGN'] == 1) |\\\n",
    "                                      np.array(full_catalog_df.loc[:, 'is_gal'] == 1) |\\\n",
    "                                      np.array(full_catalog_df.loc[:, 'is_str'] == 1)\n",
    "    full_catalog_df.loc[np.array(full_catalog_df.loc[:, 'is_str'] == 1), 'class'] = 2\n",
    "elif not use_zeroth_model:\n",
    "    filter_non_confirmed            = np.array(full_catalog_df.loc[:, 'is_AGN'] == 1) |\\\n",
    "                                      np.array(full_catalog_df.loc[:, 'is_gal'] == 1)\n",
    "full_catalog_df.loc[~filter_non_confirmed, 'class'] = 0.5\n",
    "idx_non_Z                           = full_catalog_df.loc[:, 'Z'].where(full_catalog_df.loc[:, 'Z'] > 0).isna()\n",
    "full_catalog_df.loc[idx_non_Z, 'Z'] = full_catalog_df.loc[:, 'Z'].mask(idx_non_Z, full_catalog_df.loc[idx_non_Z, 'zsp'])"
   ]
  },
  {
   "cell_type": "markdown",
   "metadata": {},
   "source": [
    "Create column for detection as Radio AGN"
   ]
  },
  {
   "cell_type": "code",
   "execution_count": 18,
   "metadata": {
    "jupyter": {
     "source_hidden": true
    }
   },
   "outputs": [],
   "source": [
    "full_catalog_df['radio_AGN']        = np.array(full_catalog_df.loc[:, 'is_AGN'] == 1) & np.array(full_catalog_df.loc[:, 'LOFAR_detect'] == 1)"
   ]
  },
  {
   "cell_type": "markdown",
   "metadata": {},
   "source": [
    "Show early statistics of confirmed sources"
   ]
  },
  {
   "cell_type": "code",
   "execution_count": 19,
   "metadata": {
    "jupyter": {
     "source_hidden": true
    }
   },
   "outputs": [
    {
     "name": "stdout",
     "output_type": "stream",
     "text": [
      "In the S82 field, there are 25,689 confirmed sources.\n",
      "5,233 of them are galaxies.\n",
      "20,456 of them are AGN.\n",
      "0 of them are stars.\n"
     ]
    }
   ],
   "source": [
    "print(f'In the {used_area} field, there are {np.sum(full_catalog_df.loc[:, \"class\"] != 0.5):,} confirmed sources.')\n",
    "print(f'{np.sum(full_catalog_df.loc[:, \"class\"] == 0):,} of them are galaxies.')\n",
    "print(f'{np.sum(full_catalog_df.loc[:, \"class\"] == 1):,} of them are AGN.')\n",
    "print(f'{np.sum(full_catalog_df.loc[:, \"class\"] == 2):,} of them are stars.')"
   ]
  },
  {
   "cell_type": "markdown",
   "metadata": {},
   "source": [
    "---"
   ]
  },
  {
   "cell_type": "markdown",
   "metadata": {},
   "source": [
    "Split dataset if from HETDEX"
   ]
  },
  {
   "cell_type": "code",
   "execution_count": 20,
   "metadata": {
    "jupyter": {
     "source_hidden": true
    }
   },
   "outputs": [],
   "source": [
    "if used_area == 'HETDEX':\n",
    "    if use_zeroth_model:\n",
    "        filter_known_spec = (full_catalog_df.loc[:, 'is_AGN'] == 1) |\\\n",
    "            (full_catalog_df.loc[:, 'is_gal'] == 1) | (full_catalog_df.loc[:, 'is_str'] == 1)\n",
    "    elif not use_zeroth_model:\n",
    "        filter_known_spec = (full_catalog_df.loc[:, 'is_AGN'] == 1) | (full_catalog_df.loc[:, 'is_gal'] == 1)\n",
    "    unknown_cat_df    = full_catalog_df.loc[~filter_known_spec]\n",
    "    full_catalog_df   = full_catalog_df.loc[filter_known_spec]\n",
    "    train_test_df, train_df, test_df, calibration_df, validation_df = gf.split_set(full_catalog_df, [0.2, 0.2, 0.5],\\\n",
    "                                                                               'is_AGN', use_calibration=use_calibration)\n",
    "    print('Shape of used data in HETDEX')\n",
    "    print('-' * 65)\n",
    "    print(f'Full confirmed dataset size:                      {full_catalog_df.shape}')\n",
    "    print(f'Data for Modeling (Train, Test, and Calibration): {train_test_df.shape}')\n",
    "    print(f'Training data:                                    {train_df.shape}')\n",
    "    print(f'Testing data:                                     {test_df.shape}')\n",
    "    if use_calibration:\n",
    "        print(f'Calibration data:                                 {calibration_df.shape}')\n",
    "    print(f'Validation data:                                  {validation_df.shape}')\n",
    "    print('-' * 65)\n",
    "    print()\n",
    "    print(f'Using {HETDEX_subset} data from HETDEX')\n",
    "    selected_dataset = {'Training': train_df, 'Test': test_df, 'Test+Train': train_test_df,\\\n",
    "                        'Validation': validation_df, 'Calibration': calibration_df}\n",
    "    full_catalog_df = selected_dataset[HETDEX_subset]"
   ]
  },
  {
   "cell_type": "markdown",
   "metadata": {},
   "source": [
    "Split data if not from HETDEX"
   ]
  },
  {
   "cell_type": "code",
   "execution_count": 21,
   "metadata": {
    "jupyter": {
     "source_hidden": true
    }
   },
   "outputs": [],
   "source": [
    "if used_area != 'HETDEX':\n",
    "    filter_confirmed = (full_catalog_df.loc[:, 'class'] == 0) |\\\n",
    "                       (full_catalog_df.loc[:, 'class'] == 1) |\\\n",
    "                       (full_catalog_df.loc[:, 'class'] == 2)  # Galaxy, AGN, star\n",
    "    unknown_cat_df   = full_catalog_df.loc[~filter_confirmed]\n",
    "    full_catalog_df  = full_catalog_df.loc[filter_confirmed]"
   ]
  },
  {
   "cell_type": "code",
   "execution_count": 22,
   "metadata": {
    "jupyter": {
     "source_hidden": true
    }
   },
   "outputs": [
    {
     "name": "stdout",
     "output_type": "stream",
     "text": [
      "Full used dataset size:              (25689, 96)\n",
      "--------------------------------------------------\n",
      "Thus, it has 25,689 sources and 96 features.\n"
     ]
    }
   ],
   "source": [
    "print(f'Full used dataset size:              {full_catalog_df.shape}')\n",
    "print('-' * 50)\n",
    "print(f'Thus, it has {full_catalog_df.shape[0]:,} sources and {full_catalog_df.shape[1]:,} features.')"
   ]
  },
  {
   "cell_type": "markdown",
   "metadata": {},
   "source": [
    "Discard minor features."
   ]
  },
  {
   "cell_type": "code",
   "execution_count": 23,
   "metadata": {},
   "outputs": [],
   "source": [
    "full_catalog_df                     = full_catalog_df.drop(columns=['is_AGN', 'is_SDSS_QSO', 'is_SDSS_gal', 'is_gal', 'zsp', 'spCl'])"
   ]
  },
  {
   "cell_type": "markdown",
   "metadata": {},
   "source": [
    "---"
   ]
  },
  {
   "cell_type": "markdown",
   "metadata": {},
   "source": [
    "### Load models"
   ]
  },
  {
   "cell_type": "code",
   "execution_count": 24,
   "metadata": {},
   "outputs": [
    {
     "name": "stdout",
     "output_type": "stream",
     "text": [
      "Transformation Pipeline and Model Successfully Loaded\n",
      "Transformation Pipeline and Model Successfully Loaded\n",
      "Transformation Pipeline and Model Successfully Loaded\n"
     ]
    }
   ],
   "source": [
    "if load_models_flag:\n",
    "    if use_zeroth_model:\n",
    "        star_clf        = pyc.load_model(gv.models_path + gv.star_model)     # star/no-star model\n",
    "        cal_star_clf    = load(gv.models_path + gv.cal_str_model)  # calibrated model\n",
    "    AGN_gal_clf         = pyc.load_model(gv.models_path + gv.AGN_gal_model)  # \n",
    "    cal_AGN_gal_clf     = load(gv.models_path + gv.cal_AGN_gal_model)        # calibrated model\n",
    "    radio_det_clf       = pyc.load_model(gv.models_path + gv.radio_model)    # without predicted AGN\n",
    "    cal_radio_det_clf   = load(gv.models_path + gv.cal_radio_model)          # calibrated model\n",
    "    redshift_reg        = pyr.load_model(gv.models_path + gv.full_z_model)   # to use on full sample\n",
    "    if use_second_z_model:\n",
    "        redshift_reg_2  = pyr.load_model(gv.models_path + gv.high_z_model)   # to use on sources with predicted z >= 3.6 used with SMOGN"
   ]
  },
  {
   "cell_type": "markdown",
   "metadata": {},
   "source": [
    "Predictions with naive thresholds ($0.5$)."
   ]
  },
  {
   "cell_type": "code",
   "execution_count": 25,
   "metadata": {
    "jupyter": {
     "source_hidden": true
    }
   },
   "outputs": [],
   "source": [
    "if use_zeroth_model:  # we want no-star sources => label == 0\n",
    "    full_catalog_df = predict_star(full_catalog_df, star_clf, cal_star_clf, gv.naive_star_thresh, gv.naive_star_thresh)\n",
    "    unknown_cat_df  = predict_star(unknown_cat_df,  star_clf, cal_star_clf, gv.naive_star_thresh, gv.naive_star_thresh)\n",
    "elif not use_zeroth_model:\n",
    "    full_catalog_df['pred_star']     = 0\n",
    "    full_catalog_df['Score_no_star'] = 1\n",
    "    full_catalog_df['Prob_no_star']  = 1\n",
    "    full_catalog_df['pred_star_cal'] = 0\n",
    "    unknown_cat_df['pred_star']      = 0\n",
    "    unknown_cat_df['pred_star_cal']  = 0\n",
    "    unknown_cat_df['Score_no_star']  = 1\n",
    "    unknown_cat_df['Prob_no_star']   = 1"
   ]
  },
  {
   "cell_type": "code",
   "execution_count": 26,
   "metadata": {},
   "outputs": [],
   "source": [
    "full_catalog_df = predict_AGN_gal(full_catalog_df, AGN_gal_clf, cal_AGN_gal_clf, gv.naive_AGN_thresh, gv.naive_AGN_thresh)\n",
    "unknown_cat_df  = predict_AGN_gal(unknown_cat_df,  AGN_gal_clf, cal_AGN_gal_clf, gv.naive_AGN_thresh, gv.naive_AGN_thresh)"
   ]
  },
  {
   "cell_type": "code",
   "execution_count": 27,
   "metadata": {},
   "outputs": [],
   "source": [
    "full_catalog_df = predict_radio_det(full_catalog_df, radio_det_clf, cal_radio_det_clf, gv.naive_radio_thresh, gv.naive_radio_thresh)\n",
    "unknown_cat_df  = predict_radio_det(unknown_cat_df,  radio_det_clf, cal_radio_det_clf, gv.naive_radio_thresh, gv.naive_radio_thresh)"
   ]
  },
  {
   "cell_type": "code",
   "execution_count": 28,
   "metadata": {},
   "outputs": [],
   "source": [
    "full_catalog_df = predict_z_full(full_catalog_df, redshift_reg)\n",
    "unknown_cat_df  = predict_z_full(unknown_cat_df,  redshift_reg)"
   ]
  },
  {
   "cell_type": "markdown",
   "metadata": {},
   "source": [
    "Scores before applying further z models"
   ]
  },
  {
   "cell_type": "code",
   "execution_count": 29,
   "metadata": {
    "jupyter": {
     "source_hidden": true
    }
   },
   "outputs": [],
   "source": [
    "if use_zeroth_model:\n",
    "    temp_filt_pred_nstr    = np.array(full_catalog_df.loc[:, 'pred_star'] == 0)  # filter for not being predicted as a star\n",
    "elif not use_zeroth_model:\n",
    "    temp_filt_pred_nstr    = np.ones_like(full_catalog_df.loc[:, 'class']).astype(bool)\n",
    "temp_filt_pred_rAGN        = np.array(full_catalog_df.loc[:, 'pred_class'] == 1) &\\\n",
    "                             np.array(full_catalog_df.loc[:, 'pred_radio'] == 1) &\\\n",
    "                             temp_filt_pred_nstr\n",
    "sigma_mad_early            = gf.sigma_mad(full_catalog_df.loc[temp_filt_pred_rAGN, 'Z'],    full_catalog_df.loc[temp_filt_pred_rAGN, 'pred_Z'])\n",
    "sigma_nmad_early           = gf.sigma_nmad(full_catalog_df.loc[temp_filt_pred_rAGN, 'Z'],   full_catalog_df.loc[temp_filt_pred_rAGN, 'pred_Z'])\n",
    "sigma_z_early              = gf.sigma_z(full_catalog_df.loc[temp_filt_pred_rAGN, 'Z'],      full_catalog_df.loc[temp_filt_pred_rAGN, 'pred_Z'])\n",
    "sigma_z_norm_early         = gf.sigma_z_norm(full_catalog_df.loc[temp_filt_pred_rAGN, 'Z'], full_catalog_df.loc[temp_filt_pred_rAGN, 'pred_Z'])\n",
    "out_frac_early             = gf.outlier_frac(full_catalog_df.loc[temp_filt_pred_rAGN, 'Z'], full_catalog_df.loc[temp_filt_pred_rAGN, 'pred_Z'])"
   ]
  },
  {
   "cell_type": "code",
   "execution_count": 30,
   "metadata": {
    "jupyter": {
     "source_hidden": true
    }
   },
   "outputs": [],
   "source": [
    "if use_zeroth_model:\n",
    "    temp_filt_pred_nstr_prob    = np.array(full_catalog_df.loc[:, 'pred_star_cal'] == 0)  # filter for not being predicted as a star\n",
    "elif not use_zeroth_model:\n",
    "    temp_filt_pred_nstr_prob    = np.ones_like(full_catalog_df.loc[:, 'class']).astype(bool)\n",
    "temp_filt_pred_rAGN_prob   = np.array(full_catalog_df.loc[:, 'pred_class_cal'] == 1) &\\\n",
    "                             np.array(full_catalog_df.loc[:, 'pred_radio_cal'] == 1) &\\\n",
    "                             temp_filt_pred_nstr_prob\n",
    "sigma_mad_prob_early       = gf.sigma_mad(full_catalog_df.loc[temp_filt_pred_rAGN_prob, 'Z'],    full_catalog_df.loc[temp_filt_pred_rAGN_prob, 'pred_Z'])\n",
    "sigma_nmad_prob_early      = gf.sigma_nmad(full_catalog_df.loc[temp_filt_pred_rAGN_prob, 'Z'],   full_catalog_df.loc[temp_filt_pred_rAGN_prob, 'pred_Z'])\n",
    "sigma_z_prob_early         = gf.sigma_z(full_catalog_df.loc[temp_filt_pred_rAGN_prob, 'Z'],      full_catalog_df.loc[temp_filt_pred_rAGN_prob, 'pred_Z'])\n",
    "sigma_z_norm_prob_early    = gf.sigma_z_norm(full_catalog_df.loc[temp_filt_pred_rAGN_prob, 'Z'], full_catalog_df.loc[temp_filt_pred_rAGN_prob, 'pred_Z'])\n",
    "out_frac_prob_early        = gf.outlier_frac(full_catalog_df.loc[temp_filt_pred_rAGN_prob, 'Z'], full_catalog_df.loc[temp_filt_pred_rAGN_prob, 'pred_Z'])"
   ]
  },
  {
   "cell_type": "code",
   "execution_count": 31,
   "metadata": {
    "jupyter": {
     "source_hidden": true
    }
   },
   "outputs": [],
   "source": [
    "temp_filt_high_z_rAGN       = temp_filt_pred_rAGN * (full_catalog_df.loc[:, 'pred_Z'] >= gv.high_z_limit)\n",
    "sigma_mad_early_hiz         = gf.sigma_mad(full_catalog_df.loc[temp_filt_high_z_rAGN, 'Z'],    full_catalog_df.loc[temp_filt_high_z_rAGN, 'pred_Z'])\n",
    "sigma_nmad_early_hiz        = gf.sigma_nmad(full_catalog_df.loc[temp_filt_high_z_rAGN, 'Z'],   full_catalog_df.loc[temp_filt_high_z_rAGN, 'pred_Z'])\n",
    "sigma_z_early_hiz           = gf.sigma_z(full_catalog_df.loc[temp_filt_high_z_rAGN, 'Z'],      full_catalog_df.loc[temp_filt_high_z_rAGN, 'pred_Z'])\n",
    "sigma_z_norm_early_hiz      = gf.sigma_z_norm(full_catalog_df.loc[temp_filt_high_z_rAGN, 'Z'], full_catalog_df.loc[temp_filt_high_z_rAGN, 'pred_Z'])\n",
    "out_frac_early_hiz          = gf.outlier_frac(full_catalog_df.loc[temp_filt_high_z_rAGN, 'Z'], full_catalog_df.loc[temp_filt_high_z_rAGN, 'pred_Z'])\n",
    "\n",
    "temp_filt_high_z_rAGN_prob  = temp_filt_pred_rAGN_prob * (full_catalog_df.loc[:, 'pred_Z'] >= gv.high_z_limit)\n",
    "sigma_mad_prob_early_hiz    = gf.sigma_mad(full_catalog_df.loc[temp_filt_high_z_rAGN_prob, 'Z'],    full_catalog_df.loc[temp_filt_high_z_rAGN_prob, 'pred_Z'])\n",
    "sigma_nmad_prob_early_hiz   = gf.sigma_nmad(full_catalog_df.loc[temp_filt_high_z_rAGN_prob, 'Z'],   full_catalog_df.loc[temp_filt_high_z_rAGN_prob, 'pred_Z'])\n",
    "sigma_z_prob_early_hiz      = gf.sigma_z(full_catalog_df.loc[temp_filt_high_z_rAGN_prob, 'Z'],      full_catalog_df.loc[temp_filt_high_z_rAGN_prob, 'pred_Z'])\n",
    "sigma_z_norm_prob_early_hiz = gf.sigma_z_norm(full_catalog_df.loc[temp_filt_high_z_rAGN_prob, 'Z'], full_catalog_df.loc[temp_filt_high_z_rAGN_prob, 'pred_Z'])\n",
    "out_frac_prob_early_hiz     = gf.outlier_frac(full_catalog_df.loc[temp_filt_high_z_rAGN_prob, 'Z'], full_catalog_df.loc[temp_filt_high_z_rAGN_prob, 'pred_Z'])"
   ]
  },
  {
   "cell_type": "code",
   "execution_count": 32,
   "metadata": {
    "jupyter": {
     "source_hidden": true
    }
   },
   "outputs": [],
   "source": [
    "redshift_tol    = 0.0\n",
    "if use_second_z_model:\n",
    "    full_catalog_df = predict_z_high(full_catalog_df, redshift_reg_2, gv.high_z_limit, redshift_tol)\n",
    "    unknown_cat_df  = predict_z_high(unknown_cat_df,  redshift_reg_2, gv.high_z_limit, redshift_tol)"
   ]
  },
  {
   "cell_type": "code",
   "execution_count": 33,
   "metadata": {
    "jupyter": {
     "source_hidden": true
    },
    "tags": []
   },
   "outputs": [
    {
     "data": {
      "image/png": "[encoded data removed]",
      "text/plain": [
       "<Figure size 600x500 with 3 Axes>"
      ]
     },
     "metadata": {},
     "output_type": "display_data"
    }
   ],
   "source": [
    "fig             = plt.figure(figsize=(6,5))\n",
    "ax1             = fig.add_subplot(111, projection='scatter_density', xscale='log', yscale='log')\n",
    "ax1 = gf.plot_redshift_compare(full_catalog_df.loc[:, 'Z'], full_catalog_df.loc[:, 'pred_Z'],\\\n",
    "                      ax_pre=ax1, title=None, dpi=10, show_clb=True, log_stretch=False)\n",
    "ax1.axvline(x=(1 + gv.high_z_limit), ls='--', c='k', lw=2.5)\n",
    "if use_second_z_model:\n",
    "    ax1.set_ylabel('$1 + Z_{\\mathrm{Predicted}}^{\\mathrm{combined\\,models}}$', size=20)\n",
    "plt.show()"
   ]
  },
  {
   "cell_type": "markdown",
   "metadata": {},
   "source": [
    "Additional columns with radio AGN prediction as a whole."
   ]
  },
  {
   "cell_type": "code",
   "execution_count": 34,
   "metadata": {
    "jupyter": {
     "source_hidden": true
    }
   },
   "outputs": [],
   "source": [
    "full_catalog_df['pred_radio_AGN']     = np.array(full_catalog_df.loc[:, 'pred_star']  == 0) &\\\n",
    "                                        np.array(full_catalog_df.loc[:, 'pred_class'] == 1) &\\\n",
    "                                        np.array(full_catalog_df.loc[:, 'pred_radio'] == 1)\n",
    "full_catalog_df['pred_prob_rAGN']     = np.array(full_catalog_df.loc[:, 'pred_star_cal']  == 0) &\\\n",
    "                                        np.array(full_catalog_df.loc[:, 'pred_class_cal'] == 1) &\\\n",
    "                                        np.array(full_catalog_df.loc[:, 'pred_radio_cal'] == 1)\n",
    "full_catalog_df['Score_rAGN']         = full_catalog_df.loc[:, 'Score_no_star'] *\\\n",
    "                                        full_catalog_df.loc[:, 'Score_AGN'] *\\\n",
    "                                        full_catalog_df.loc[:, 'Score_radio']\n",
    "full_catalog_df['Prob_rAGN']          = full_catalog_df.loc[:, 'Prob_no_star'] *\\\n",
    "                                        full_catalog_df.loc[:, 'Prob_AGN'] *\\\n",
    "                                        full_catalog_df.loc[:, 'Prob_radio']\n",
    "rad_score_scaler                      = MinMaxScaler()\n",
    "rad_score_scaler.fit(full_catalog_df.loc[:, 'Score_radio'].values.reshape(-1, 1))\n",
    "full_catalog_df['scaled_score_radio'] = rad_score_scaler.transform(full_catalog_df.loc[:, 'Score_radio'].values.reshape(-1, 1))\n",
    "full_catalog_df['scaled_score_rAGN']  = full_catalog_df.loc[:, 'Score_AGN'] * full_catalog_df.loc[:, 'scaled_score_radio']"
   ]
  },
  {
   "cell_type": "code",
   "execution_count": 35,
   "metadata": {
    "jupyter": {
     "source_hidden": true
    }
   },
   "outputs": [],
   "source": [
    "unknown_cat_df['pred_radio_AGN']     = np.array(unknown_cat_df.loc[:, 'pred_star']  == 0) &\\\n",
    "                                       np.array(unknown_cat_df.loc[:, 'pred_class'] == 1) &\\\n",
    "                                       np.array(unknown_cat_df.loc[:, 'pred_radio'] == 1)\n",
    "unknown_cat_df['pred_prob_rAGN']     = np.array(unknown_cat_df.loc[:, 'pred_star_cal']  == 0) &\\\n",
    "                                       np.array(unknown_cat_df.loc[:, 'pred_class_cal'] == 1) &\\\n",
    "                                       np.array(unknown_cat_df.loc[:, 'pred_radio_cal'] == 1)\n",
    "unknown_cat_df['Score_rAGN']         = unknown_cat_df.loc[:, 'Score_no_star'] *\\\n",
    "                                       unknown_cat_df.loc[:, 'Score_AGN'] *\\\n",
    "                                       unknown_cat_df.loc[:, 'Score_radio']\n",
    "unknown_cat_df['Prob_rAGN']          = unknown_cat_df.loc[:, 'Prob_no_star'] *\\\n",
    "                                       unknown_cat_df.loc[:, 'Prob_AGN'] *\\\n",
    "                                       unknown_cat_df.loc[:, 'Prob_radio']\n",
    "\n",
    "unknown_cat_df['scaled_score_radio'] = rad_score_scaler.transform(unknown_cat_df.loc[:, 'Score_radio'].values.reshape(-1, 1))\n",
    "unknown_cat_df['scaled_score_rAGN']  = unknown_cat_df.loc[:, 'Score_AGN'] * unknown_cat_df.loc[:, 'scaled_score_radio']"
   ]
  },
  {
   "cell_type": "code",
   "execution_count": 36,
   "metadata": {
    "jupyter": {
     "source_hidden": true
    }
   },
   "outputs": [
    {
     "data": {
      "text/html": [
       "<div>\n",
       "<style scoped>\n",
       "    .dataframe tbody tr th:only-of-type {\n",
       "        vertical-align: middle;\n",
       "    }\n",
       "\n",
       "    .dataframe tbody tr th {\n",
       "        vertical-align: top;\n",
       "    }\n",
       "\n",
       "    .dataframe thead th {\n",
       "        text-align: right;\n",
       "    }\n",
       "</style>\n",
       "<table border=\"1\" class=\"dataframe\">\n",
       "  <thead>\n",
       "    <tr style=\"text-align: right;\">\n",
       "      <th></th>\n",
       "      <th>class</th>\n",
       "      <th>pred_class</th>\n",
       "      <th>pred_class_cal</th>\n",
       "      <th>LOFAR_detect</th>\n",
       "      <th>pred_radio</th>\n",
       "      <th>pred_radio_cal</th>\n",
       "      <th>Z</th>\n",
       "      <th>pred_Z</th>\n",
       "    </tr>\n",
       "  </thead>\n",
       "  <tbody>\n",
       "    <tr>\n",
       "      <th>count</th>\n",
       "      <td>25689.000000</td>\n",
       "      <td>25689.000000</td>\n",
       "      <td>25689.000000</td>\n",
       "      <td>25689.000000</td>\n",
       "      <td>25689.000000</td>\n",
       "      <td>25689.000000</td>\n",
       "      <td>25689.000000</td>\n",
       "      <td>25689.000000</td>\n",
       "    </tr>\n",
       "    <tr>\n",
       "      <th>mean</th>\n",
       "      <td>0.796294</td>\n",
       "      <td>0.725213</td>\n",
       "      <td>0.727510</td>\n",
       "      <td>0.040990</td>\n",
       "      <td>0.109035</td>\n",
       "      <td>0.096851</td>\n",
       "      <td>1.376866</td>\n",
       "      <td>1.648898</td>\n",
       "    </tr>\n",
       "    <tr>\n",
       "      <th>std</th>\n",
       "      <td>0.402761</td>\n",
       "      <td>0.446416</td>\n",
       "      <td>0.445249</td>\n",
       "      <td>0.198272</td>\n",
       "      <td>0.311689</td>\n",
       "      <td>0.295760</td>\n",
       "      <td>0.829741</td>\n",
       "      <td>0.734307</td>\n",
       "    </tr>\n",
       "    <tr>\n",
       "      <th>min</th>\n",
       "      <td>0.000000</td>\n",
       "      <td>0.000000</td>\n",
       "      <td>0.000000</td>\n",
       "      <td>0.000000</td>\n",
       "      <td>0.000000</td>\n",
       "      <td>0.000000</td>\n",
       "      <td>-0.009090</td>\n",
       "      <td>0.026900</td>\n",
       "    </tr>\n",
       "    <tr>\n",
       "      <th>25%</th>\n",
       "      <td>1.000000</td>\n",
       "      <td>0.000000</td>\n",
       "      <td>0.000000</td>\n",
       "      <td>0.000000</td>\n",
       "      <td>0.000000</td>\n",
       "      <td>0.000000</td>\n",
       "      <td>0.750200</td>\n",
       "      <td>1.076700</td>\n",
       "    </tr>\n",
       "    <tr>\n",
       "      <th>50%</th>\n",
       "      <td>1.000000</td>\n",
       "      <td>1.000000</td>\n",
       "      <td>1.000000</td>\n",
       "      <td>0.000000</td>\n",
       "      <td>0.000000</td>\n",
       "      <td>0.000000</td>\n",
       "      <td>1.286000</td>\n",
       "      <td>1.756900</td>\n",
       "    </tr>\n",
       "    <tr>\n",
       "      <th>75%</th>\n",
       "      <td>1.000000</td>\n",
       "      <td>1.000000</td>\n",
       "      <td>1.000000</td>\n",
       "      <td>0.000000</td>\n",
       "      <td>0.000000</td>\n",
       "      <td>0.000000</td>\n",
       "      <td>1.920000</td>\n",
       "      <td>2.178100</td>\n",
       "    </tr>\n",
       "    <tr>\n",
       "      <th>max</th>\n",
       "      <td>1.000000</td>\n",
       "      <td>1.000000</td>\n",
       "      <td>1.000000</td>\n",
       "      <td>1.000000</td>\n",
       "      <td>1.000000</td>\n",
       "      <td>1.000000</td>\n",
       "      <td>6.780000</td>\n",
       "      <td>4.030300</td>\n",
       "    </tr>\n",
       "  </tbody>\n",
       "</table>\n",
       "</div>"
      ],
      "text/plain": [
       "              class    pred_class  pred_class_cal  LOFAR_detect    pred_radio  \\\n",
       "count  25689.000000  25689.000000    25689.000000  25689.000000  25689.000000   \n",
       "mean       0.796294      0.725213        0.727510      0.040990      0.109035   \n",
       "std        0.402761      0.446416        0.445249      0.198272      0.311689   \n",
       "min        0.000000      0.000000        0.000000      0.000000      0.000000   \n",
       "25%        1.000000      0.000000        0.000000      0.000000      0.000000   \n",
       "50%        1.000000      1.000000        1.000000      0.000000      0.000000   \n",
       "75%        1.000000      1.000000        1.000000      0.000000      0.000000   \n",
       "max        1.000000      1.000000        1.000000      1.000000      1.000000   \n",
       "\n",
       "       pred_radio_cal             Z        pred_Z  \n",
       "count    25689.000000  25689.000000  25689.000000  \n",
       "mean         0.096851      1.376866      1.648898  \n",
       "std          0.295760      0.829741      0.734307  \n",
       "min          0.000000     -0.009090      0.026900  \n",
       "25%          0.000000      0.750200      1.076700  \n",
       "50%          0.000000      1.286000      1.756900  \n",
       "75%          0.000000      1.920000      2.178100  \n",
       "max          1.000000      6.780000      4.030300  "
      ]
     },
     "execution_count": 36,
     "metadata": {},
     "output_type": "execute_result"
    }
   ],
   "source": [
    "displayed_cols = ['is_str', 'pred_star', 'class', 'pred_class', 'pred_class_cal', 'LOFAR_detect', 'pred_radio', 'pred_radio_cal', 'Z', 'pred_Z']\n",
    "if not use_zeroth_model:\n",
    "    displayed_cols.remove('is_str')\n",
    "    displayed_cols.remove('pred_star')\n",
    "full_catalog_df.loc[:, displayed_cols].describe()"
   ]
  },
  {
   "cell_type": "markdown",
   "metadata": {},
   "source": [
    "Obtain intermediate metrics"
   ]
  },
  {
   "cell_type": "code",
   "execution_count": 37,
   "metadata": {
    "jupyter": {
     "source_hidden": true
    }
   },
   "outputs": [],
   "source": [
    "filter_radio_AGN_t      = np.array(full_catalog_df.loc[:, 'class'] == 1) & np.array(full_catalog_df.loc[:, 'LOFAR_detect'] == 1)\n",
    "if use_zeroth_model:\n",
    "    filter_known_spec = (full_catalog_df.loc[:, 'class'] == 0) |\\\n",
    "                        (full_catalog_df.loc[:, 'class'] == 1) |\\\n",
    "                        (full_catalog_df.loc[:, 'class'] == 2)\n",
    "elif not use_zeroth_model:\n",
    "    filter_known_spec = (full_catalog_df.loc[:, 'class'] == 0) |\\\n",
    "                        (full_catalog_df.loc[:, 'class'] == 1)\n",
    "total_size              = len(full_catalog_df)\n",
    "filter_gal_t            = np.array(full_catalog_df.loc[:, 'class'] == 0)\n",
    "filter_AGN_t            = np.array(full_catalog_df.loc[:, 'class'] == 1)\n",
    "filter_str_t            = np.array(full_catalog_df.loc[:, 'class'] == 2)\n",
    "filter_radio_t          = np.array(full_catalog_df.loc[:, 'LOFAR_detect'] == 1)\n",
    "num_str_t               = np.sum(filter_str_t)\n",
    "num_AGN_t               = np.sum(filter_AGN_t)\n",
    "num_gal_t               = np.sum(filter_gal_t)\n",
    "num_str_t               = np.sum(np.array(full_catalog_df.loc[:, 'is_str'] == 1))\n",
    "num_radio_t             = np.sum(filter_radio_t)\n",
    "num_radio_AGN_t         = np.sum(filter_radio_AGN_t)"
   ]
  },
  {
   "cell_type": "code",
   "execution_count": 38,
   "metadata": {
    "jupyter": {
     "source_hidden": true
    }
   },
   "outputs": [],
   "source": [
    "if use_zeroth_model:\n",
    "    filter_non_str_p      = np.array(full_catalog_df.loc[:, 'pred_star'] == 0)\n",
    "elif not use_zeroth_model:\n",
    "    filter_non_str_p      = np.ones_like(full_catalog_df.loc[:, 'class']).astype(bool)\n",
    "filter_radio_AGN_p        = full_catalog_df['pred_radio_AGN']\n",
    "filt_hiz_rAGN_p           = filter_radio_AGN_p * np.array(full_catalog_df.loc[:, 'pred_Z'] >= gv.high_z_limit)\n",
    "filter_AGN_p              = np.array(full_catalog_df.loc[:, 'pred_class'] == 1) & filter_non_str_p\n",
    "filter_radio_p            = np.array(full_catalog_df.loc[:, 'pred_radio'] == 1)\n",
    "filt_new_rAGN_p           = filter_radio_AGN_p & np.array(full_catalog_df.loc[:, 'radio_AGN'] == 0)\n",
    "num_str_p                 = np.sum(full_catalog_df.loc[:, 'pred_star'] == 1)\n",
    "num_AGN_p                 = np.sum(filter_AGN_p)\n",
    "num_gal_p                 = np.sum(np.array(full_catalog_df.loc[:, 'pred_class'] == 0) & filter_non_str_p)\n",
    "num_radio_p               = np.sum(filter_radio_p)\n",
    "num_radio_AGN_p           = np.sum(filter_radio_AGN_p)\n",
    "num_rAGN_MQC_p            = np.sum(filter_radio_AGN_p & np.array(full_catalog_df.loc[:, 'class'] == 1))\n",
    "num_rAGN_gal_p            = np.sum(filter_radio_AGN_p & np.array(full_catalog_df.loc[:, 'class'] == 0))\n",
    "num_rAGN_str_p            = np.sum(filter_radio_AGN_p & np.array(full_catalog_df.loc[:, 'is_str'] == 1))\n",
    "num_rAGN_rad_p            = np.sum(filter_radio_AGN_p & np.array(full_catalog_df.loc[:, 'LOFAR_detect'] == 1))\n",
    "num_new_rAGN_p            = np.sum(filter_radio_AGN_p) - np.sum(filter_radio_AGN_t)"
   ]
  },
  {
   "cell_type": "markdown",
   "metadata": {},
   "source": [
    "Some metrics for predicted classes based on probabilities (not scores)."
   ]
  },
  {
   "cell_type": "code",
   "execution_count": 39,
   "metadata": {
    "jupyter": {
     "source_hidden": true
    }
   },
   "outputs": [],
   "source": [
    "if use_zeroth_model:\n",
    "    filter_non_str_prob_p = np.array(full_catalog_df.loc[:, 'pred_star_cal'] == 0)\n",
    "elif not use_zeroth_model:\n",
    "    filter_non_str_prob_p = np.ones_like(full_catalog_df.loc[:, 'class']).astype(bool)\n",
    "filter_radio_AGN_prob_p   = full_catalog_df['pred_prob_rAGN']\n",
    "filt_hiz_rAGN_prob_p      = filter_radio_AGN_prob_p * np.array(full_catalog_df.loc[:, 'pred_Z'] >= gv.high_z_limit)\n",
    "filter_AGN_prob_p         = np.array(full_catalog_df.loc[:, 'pred_class_cal'] == 1) & filter_non_str_prob_p\n",
    "filter_radio_prob_p       = np.array(full_catalog_df.loc[:, 'pred_radio_cal'] == 1)\n",
    "filt_new_rAGN_prob_p      = filter_radio_AGN_prob_p & np.array(full_catalog_df.loc[:, 'radio_AGN'] == 0)\n",
    "\n",
    "num_AGN_prob_p            = np.sum(filter_AGN_prob_p)\n",
    "num_gal_prob_p            = np.sum(np.array(full_catalog_df.loc[:, 'pred_class_cal'] == 0) & filter_non_str_prob_p)\n",
    "num_radio_prob_p          = np.sum(filter_radio_prob_p)\n",
    "num_radio_AGN_prob_p      = np.sum(filter_radio_AGN_prob_p)\n",
    "num_rAGN_MQC_prob_p       = np.sum(filter_radio_AGN_prob_p & np.array(full_catalog_df.loc[:, 'class'] == 1))\n",
    "num_rAGN_gal_prob_p       = np.sum(filter_radio_AGN_prob_p & np.array(full_catalog_df.loc[:, 'class'] == 0))\n",
    "num_rAGN_str_prob_p       = np.sum(filter_radio_AGN_prob_p & np.array(full_catalog_df.loc[:, 'is_str'] == 1))\n",
    "num_rAGN_rad_prob_p       = np.sum(filter_radio_AGN_prob_p & np.array(full_catalog_df.loc[:, 'LOFAR_detect'] == 1))\n",
    "num_new_rAGN_prob_p       = np.sum(filter_radio_AGN_prob_p) - np.sum(filter_radio_AGN_t)"
   ]
  },
  {
   "cell_type": "code",
   "execution_count": 40,
   "metadata": {
    "jupyter": {
     "source_hidden": true
    }
   },
   "outputs": [],
   "source": [
    "if use_zeroth_model:\n",
    "    filter_non_str_unk_p      = np.array(unknown_cat_df.loc[:, 'pred_star'] == 0)\n",
    "elif not use_zeroth_model:\n",
    "    filter_non_str_unk_p      = np.ones_like(unknown_cat_df.loc[:, 'class']).astype(bool)\n",
    "filter_radio_AGN_unk_p        = unknown_cat_df['pred_radio_AGN']\n",
    "filt_hiz_rAGN_unk_p           = filter_radio_AGN_unk_p * np.array(unknown_cat_df.loc[:, 'pred_Z'] >= gv.high_z_limit)\n",
    "filter_AGN_unk_p              = np.array(unknown_cat_df.loc[:, 'pred_class'] == 1) & filter_non_str_unk_p\n",
    "filter_radio_unk_p            = np.array(unknown_cat_df.loc[:, 'pred_radio'] == 1)\n",
    "filt_new_rAGN_unk_p           = filter_radio_AGN_unk_p & np.array(unknown_cat_df.loc[:, 'radio_AGN'] == 0)\n",
    "num_str_unk_p                 = np.sum(unknown_cat_df.loc[:, 'pred_star'] == 1)\n",
    "num_AGN_unk_p                 = np.sum(filter_AGN_unk_p)\n",
    "num_gal_unk_p                 = np.sum(np.array(unknown_cat_df.loc[:, 'pred_class'] == 0) & filter_non_str_unk_p)\n",
    "num_radio_unk_p               = np.sum(filter_radio_unk_p)\n",
    "num_radio_AGN_unk_p           = np.sum(filter_radio_AGN_unk_p)\n",
    "num_rAGN_MQC_unk_p            = np.sum(filter_radio_AGN_unk_p & np.array(unknown_cat_df.loc[:, 'class'] == 1))\n",
    "num_rAGN_gal_unk_p            = np.sum(filter_radio_AGN_unk_p & np.array(unknown_cat_df.loc[:, 'class'] == 0))\n",
    "num_rAGN_str_unk_p            = np.sum(filter_radio_AGN_unk_p & np.array(unknown_cat_df.loc[:, 'is_str'] == 1))\n",
    "num_rAGN_rad_unk_p            = np.sum(filter_radio_AGN_unk_p & np.array(unknown_cat_df.loc[:, 'LOFAR_detect'] == 1))"
   ]
  },
  {
   "cell_type": "code",
   "execution_count": 41,
   "metadata": {
    "jupyter": {
     "source_hidden": true
    }
   },
   "outputs": [],
   "source": [
    "if use_zeroth_model:\n",
    "    filter_non_str_unk_prob_p = np.array(unknown_cat_df.loc[:, 'pred_star_cal'] == 0)\n",
    "elif not use_zeroth_model:\n",
    "    filter_non_str_unk_prob_p = np.ones_like(unknown_cat_df.loc[:, 'class']).astype(bool)\n",
    "filter_radio_AGN_unk_prob_p   = unknown_cat_df['pred_prob_rAGN']\n",
    "filt_hiz_rAGN_unk_prob_p      = filter_radio_AGN_unk_prob_p * np.array(unknown_cat_df.loc[:, 'pred_Z'] >= gv.high_z_limit)\n",
    "filter_AGN_unk_prob_p         = np.array(unknown_cat_df.loc[:, 'pred_class_cal'] == 1) & filter_non_str_unk_prob_p\n",
    "filter_radio_unk_prob_p       = np.array(unknown_cat_df.loc[:, 'pred_radio_cal'] == 1)\n",
    "filt_new_rAGN_unk_prob_p      = filter_radio_AGN_unk_prob_p & np.array(unknown_cat_df.loc[:, 'radio_AGN'] == 0)\n",
    "\n",
    "num_AGN_unk_prob_p            = np.sum(filter_AGN_unk_prob_p)\n",
    "num_gal_unk_prob_p            = np.sum(np.array(unknown_cat_df.loc[:, 'pred_class_cal'] == 0) & filter_non_str_unk_prob_p)\n",
    "num_radio_unk_prob_p          = np.sum(filter_radio_unk_prob_p)\n",
    "num_radio_AGN_unk_prob_p      = np.sum(filter_radio_AGN_unk_prob_p)\n",
    "num_rAGN_MQC_unk_prob_p       = np.sum(filter_radio_AGN_unk_prob_p & np.array(unknown_cat_df.loc[:, 'class'] == 1))\n",
    "num_rAGN_gal_unk_prob_p       = np.sum(filter_radio_AGN_unk_prob_p & np.array(unknown_cat_df.loc[:, 'class'] == 0))\n",
    "num_rAGN_str_unk_prob_p       = np.sum(filter_radio_AGN_unk_prob_p & np.array(unknown_cat_df.loc[:, 'is_str'] == 1))\n",
    "num_rAGN_rad_unk_prob_p       = np.sum(filter_radio_AGN_unk_prob_p & np.array(unknown_cat_df.loc[:, 'LOFAR_detect'] == 1))\n",
    "num_new_rAGN_unk_prob_p       = np.sum(filter_radio_AGN_unk_prob_p) - np.sum(filter_radio_AGN_t)"
   ]
  },
  {
   "cell_type": "markdown",
   "metadata": {},
   "source": [
    "Confusion matrix for Star/not-star classification on confirmed sources (AGN + Galaxies + Stars)"
   ]
  },
  {
   "cell_type": "code",
   "execution_count": 42,
   "metadata": {
    "jupyter": {
     "source_hidden": true
    }
   },
   "outputs": [],
   "source": [
    "if use_zeroth_model:\n",
    "    cm_str = gf.conf_mat_func(full_catalog_df.loc[:, 'is_str'], full_catalog_df.loc[:, 'pred_star'])"
   ]
  },
  {
   "cell_type": "markdown",
   "metadata": {},
   "source": [
    "Confusion matrix for AGN prediction on confirmed sources (AGN/galaxies). Including initial prediction of not being star."
   ]
  },
  {
   "cell_type": "code",
   "execution_count": 43,
   "metadata": {
    "jupyter": {
     "source_hidden": true
    },
    "tags": []
   },
   "outputs": [],
   "source": [
    "tmp_filt_AGN = filter_non_str_p * filter_known_spec\n",
    "cm_AGN = gf.conf_mat_func(full_catalog_df.loc[filter_non_str_p, 'class'],\\\n",
    "        full_catalog_df.loc[filter_non_str_p, 'pred_class'])\n",
    "\n",
    "cm_AGN_prob = gf.conf_mat_func(full_catalog_df.loc[filter_non_str_p, 'class'],\\\n",
    "        full_catalog_df.loc[filter_non_str_p, 'pred_class_cal'])"
   ]
  },
  {
   "cell_type": "markdown",
   "metadata": {},
   "source": [
    "Confusion matrix for radio detection prediction on confirmed sources (AGN/galaxies/stars)"
   ]
  },
  {
   "cell_type": "code",
   "execution_count": 44,
   "metadata": {
    "jupyter": {
     "source_hidden": true
    },
    "tags": []
   },
   "outputs": [],
   "source": [
    "cm_radio = gf.conf_mat_func(full_catalog_df.loc[filter_AGN_p, 'LOFAR_detect'],\\\n",
    "        full_catalog_df.loc[filter_AGN_p, 'pred_radio'])\n",
    "\n",
    "cm_radio_prob = gf.conf_mat_func(full_catalog_df.loc[filter_AGN_prob_p, 'LOFAR_detect'],\\\n",
    "        full_catalog_df.loc[filter_AGN_prob_p, 'pred_radio_cal'])"
   ]
  },
  {
   "cell_type": "markdown",
   "metadata": {},
   "source": [
    "Confusion matrix for radio AGN prediction on confirmed sources (AGN/galaxies/stars)"
   ]
  },
  {
   "cell_type": "code",
   "execution_count": 45,
   "metadata": {
    "jupyter": {
     "source_hidden": true
    }
   },
   "outputs": [],
   "source": [
    "cm_rAGN = gf.conf_mat_func(full_catalog_df.loc[:, 'radio_AGN'], full_catalog_df.loc[:,'pred_radio_AGN'])\n",
    "\n",
    "cm_rAGN_prob = gf.conf_mat_func(full_catalog_df.loc[:, 'radio_AGN'], full_catalog_df.loc[:,'pred_prob_rAGN'])"
   ]
  },
  {
   "cell_type": "markdown",
   "metadata": {},
   "source": [
    "Metrics from redshift predictions."
   ]
  },
  {
   "cell_type": "code",
   "execution_count": 46,
   "metadata": {
    "jupyter": {
     "source_hidden": true
    },
    "tags": []
   },
   "outputs": [],
   "source": [
    "sigma_mad_field            = gf.sigma_mad(full_catalog_df.loc[filter_radio_AGN_p, 'Z'],    full_catalog_df.loc[filter_radio_AGN_p, 'pred_Z'])\n",
    "sigma_nmad_field           = gf.sigma_nmad(full_catalog_df.loc[filter_radio_AGN_p, 'Z'],   full_catalog_df.loc[filter_radio_AGN_p, 'pred_Z'])\n",
    "sigma_z_field              = gf.sigma_z(full_catalog_df.loc[filter_radio_AGN_p, 'Z'],      full_catalog_df.loc[filter_radio_AGN_p, 'pred_Z'])\n",
    "sigma_z_norm_field         = gf.sigma_z_norm(full_catalog_df.loc[filter_radio_AGN_p, 'Z'], full_catalog_df.loc[filter_radio_AGN_p, 'pred_Z'])\n",
    "out_frac_field             = gf.outlier_frac(full_catalog_df.loc[filter_radio_AGN_p, 'Z'], full_catalog_df.loc[filter_radio_AGN_p, 'pred_Z'])\n",
    "\n",
    "sigma_mad_prob_field       = gf.sigma_mad(full_catalog_df.loc[filter_radio_AGN_prob_p, 'Z'],    full_catalog_df.loc[filter_radio_AGN_prob_p, 'pred_Z'])\n",
    "sigma_nmad_prob_field      = gf.sigma_nmad(full_catalog_df.loc[filter_radio_AGN_prob_p, 'Z'],   full_catalog_df.loc[filter_radio_AGN_prob_p, 'pred_Z'])\n",
    "sigma_z_prob_field         = gf.sigma_z(full_catalog_df.loc[filter_radio_AGN_prob_p, 'Z'],      full_catalog_df.loc[filter_radio_AGN_prob_p, 'pred_Z'])\n",
    "sigma_z_norm_prob_field    = gf.sigma_z_norm(full_catalog_df.loc[filter_radio_AGN_prob_p, 'Z'], full_catalog_df.loc[filter_radio_AGN_prob_p, 'pred_Z'])\n",
    "out_frac_prob_field        = gf.outlier_frac(full_catalog_df.loc[filter_radio_AGN_prob_p, 'Z'], full_catalog_df.loc[filter_radio_AGN_prob_p, 'pred_Z'])"
   ]
  },
  {
   "cell_type": "code",
   "execution_count": 47,
   "metadata": {
    "jupyter": {
     "source_hidden": true
    },
    "tags": []
   },
   "outputs": [],
   "source": [
    "filt_high_z_rAGN_p         = filter_radio_AGN_p * (full_catalog_df.loc[:, 'pred_Z'] >= gv.high_z_limit)\n",
    "sigma_mad_field_hiz        = gf.sigma_mad(full_catalog_df.loc[filt_high_z_rAGN_p, 'Z'],    full_catalog_df.loc[filt_high_z_rAGN_p, 'pred_Z'])\n",
    "sigma_nmad_field_hiz       = gf.sigma_nmad(full_catalog_df.loc[filt_high_z_rAGN_p, 'Z'],   full_catalog_df.loc[filt_high_z_rAGN_p, 'pred_Z'])\n",
    "sigma_z_field_hiz          = gf.sigma_z(full_catalog_df.loc[filt_high_z_rAGN_p, 'Z'],      full_catalog_df.loc[filt_high_z_rAGN_p, 'pred_Z'])\n",
    "sigma_z_norm_field_hiz     = gf.sigma_z_norm(full_catalog_df.loc[filt_high_z_rAGN_p, 'Z'], full_catalog_df.loc[filt_high_z_rAGN_p, 'pred_Z'])\n",
    "out_frac_field_hiz         = gf.outlier_frac(full_catalog_df.loc[filt_high_z_rAGN_p, 'Z'], full_catalog_df.loc[filt_high_z_rAGN_p, 'pred_Z'])\n",
    "\n",
    "filt_high_z_rAGN_prob_p         = filter_radio_AGN_prob_p * (full_catalog_df.loc[:, 'pred_Z'] >= gv.high_z_limit)\n",
    "sigma_mad_prob_field_hiz        = gf.sigma_mad(full_catalog_df.loc[filt_high_z_rAGN_prob_p, 'Z'],    full_catalog_df.loc[filt_high_z_rAGN_prob_p, 'pred_Z'])\n",
    "sigma_nmad_prob_field_hiz       = gf.sigma_nmad(full_catalog_df.loc[filt_high_z_rAGN_prob_p, 'Z'],   full_catalog_df.loc[filt_high_z_rAGN_prob_p, 'pred_Z'])\n",
    "sigma_z_prob_field_hiz          = gf.sigma_z(full_catalog_df.loc[filt_high_z_rAGN_prob_p, 'Z'],      full_catalog_df.loc[filt_high_z_rAGN_prob_p, 'pred_Z'])\n",
    "sigma_z_norm_prob_field_hiz     = gf.sigma_z_norm(full_catalog_df.loc[filt_high_z_rAGN_prob_p, 'Z'], full_catalog_df.loc[filt_high_z_rAGN_prob_p, 'pred_Z'])\n",
    "out_frac_prob_field_hiz         = gf.outlier_frac(full_catalog_df.loc[filt_high_z_rAGN_prob_p, 'Z'], full_catalog_df.loc[filt_high_z_rAGN_prob_p, 'pred_Z'])"
   ]
  },
  {
   "cell_type": "markdown",
   "metadata": {},
   "source": [
    "Plot histograms for scores."
   ]
  },
  {
   "cell_type": "code",
   "execution_count": 48,
   "metadata": {
    "jupyter": {
     "source_hidden": true
    },
    "tags": []
   },
   "outputs": [
    {
     "data": {
      "image/png": "[encoded data removed]",
      "text/plain": [
       "<Figure size 700x500 with 1 Axes>"
      ]
     },
     "metadata": {},
     "output_type": "display_data"
    }
   ],
   "source": [
    "fig             = plt.figure(figsize=(7,5.0))\n",
    "ax1             = fig.add_subplot(111, xscale='linear', yscale='log')\n",
    "\n",
    "min_score  = np.nanmin(full_catalog_df.loc[filter_non_str_p, 'Score_AGN'])\n",
    "max_score  = np.nanmax(full_catalog_df.loc[filter_non_str_p, 'Score_AGN'])\n",
    "score_bins = np.linspace(min_score, max_score, 30)\n",
    "\n",
    "sample_size = np.sum(filter_non_str_p)\n",
    "\n",
    "ax1.hist(full_catalog_df.loc[filter_non_str_p, 'Score_AGN'], bins=score_bins, histtype='stepfilled', ec='k',\\\n",
    "         lw=3.5, color=cm.get_cmap('cet_gray')(0.8), alpha=1.0, label=f'{used_area} known sources\\nN={sample_size:,}')\n",
    "\n",
    "ax1.axvline(x=gv.naive_AGN_thresh, ls='--', c='k', lw=2.5, zorder=10)\n",
    "    \n",
    "ax1.tick_params(which='both', top=True, right=True, direction='in')\n",
    "ax1.tick_params(axis='both', which='major', labelsize=14)\n",
    "ax1.tick_params(which='major', length=8, width=1.5)\n",
    "ax1.tick_params(which='minor', length=4, width=1.5)\n",
    "ax1.set_xlabel('AGN/Galaxy class score', size=20)\n",
    "ax1.set_ylabel('Frequency', size=20)\n",
    "plt.setp(ax1.spines.values(), linewidth=3.5)\n",
    "plt.setp(ax1.spines.values(), linewidth=3.5)\n",
    "plt.legend(loc=1, fontsize=14)\n",
    "plt.grid(False)\n",
    "#ax1.set_aspect('equal', 'box')\n",
    "fig.tight_layout()\n",
    "if save_plot_flag:\n",
    "    plt.savefig(gv.plots_path + f'hist_predicted_AGN_naive_scores_known_{used_area}.pdf', bbox_inches='tight')\n",
    "plt.show()"
   ]
  },
  {
   "cell_type": "code",
   "execution_count": 49,
   "metadata": {
    "jupyter": {
     "source_hidden": true
    },
    "tags": []
   },
   "outputs": [
    {
     "data": {
      "image/png": "[encoded data removed]",
      "text/plain": [
       "<Figure size 700x500 with 1 Axes>"
      ]
     },
     "metadata": {},
     "output_type": "display_data"
    }
   ],
   "source": [
    "fig             = plt.figure(figsize=(7,5.0))\n",
    "ax1             = fig.add_subplot(111, xscale='linear', yscale='log')\n",
    "\n",
    "min_score  = np.nanmin(full_catalog_df.loc[filter_non_str_p, 'Prob_AGN'])\n",
    "max_score  = np.nanmax(full_catalog_df.loc[filter_non_str_p, 'Prob_AGN'])\n",
    "score_bins = np.linspace(min_score, max_score, 30)\n",
    "\n",
    "sample_size = np.sum(filter_non_str_p)\n",
    "\n",
    "ax1.hist(full_catalog_df.loc[filter_non_str_p, 'Prob_AGN'], bins=score_bins, histtype='stepfilled', ec='k',\\\n",
    "         lw=3.5, color=cm.get_cmap('cet_gray')(0.8), alpha=1.0, label=f'{used_area} known sources\\nN={sample_size:,}')\n",
    "\n",
    "ax1.axvline(x=gv.naive_AGN_thresh, ls='--', c='k', lw=2.5, zorder=10)\n",
    "    \n",
    "ax1.tick_params(which='both', top=True, right=True, direction='in')\n",
    "ax1.tick_params(axis='both', which='major', labelsize=14)\n",
    "ax1.tick_params(which='major', length=8, width=1.5)\n",
    "ax1.tick_params(which='minor', length=4, width=1.5)\n",
    "ax1.set_xlabel('AGN/Galaxy class probability', size=20)\n",
    "ax1.set_ylabel('Frequency', size=20)\n",
    "plt.setp(ax1.spines.values(), linewidth=3.5)\n",
    "plt.setp(ax1.spines.values(), linewidth=3.5)\n",
    "plt.legend(loc=1, fontsize=14)\n",
    "plt.grid(False)\n",
    "#ax1.set_aspect('equal', 'box')\n",
    "fig.tight_layout()\n",
    "if save_plot_flag:\n",
    "    plt.savefig(gv.plots_path + f'hist_predicted_AGN_naive_probs_known_{used_area}.pdf', bbox_inches='tight')\n",
    "plt.show()"
   ]
  },
  {
   "cell_type": "code",
   "execution_count": 50,
   "metadata": {
    "jupyter": {
     "source_hidden": true
    },
    "tags": []
   },
   "outputs": [
    {
     "data": {
      "image/png": "[encoded data removed]",
      "text/plain": [
       "<Figure size 700x500 with 1 Axes>"
      ]
     },
     "metadata": {},
     "output_type": "display_data"
    }
   ],
   "source": [
    "fig             = plt.figure(figsize=(7,5.0))\n",
    "ax1             = fig.add_subplot(111, xscale='linear', yscale='log')\n",
    "\n",
    "min_score  = np.nanmin(unknown_cat_df.loc[filter_non_str_unk_p, 'Score_AGN'])\n",
    "max_score  = np.nanmax(unknown_cat_df.loc[filter_non_str_unk_p, 'Score_AGN'])\n",
    "score_bins = np.linspace(min_score, max_score, 30)\n",
    "\n",
    "sample_size = np.sum(filter_non_str_unk_p)\n",
    "\n",
    "ax1.hist(unknown_cat_df.loc[filter_non_str_unk_p, 'Score_AGN'], bins=score_bins, histtype='stepfilled', ec='k',\\\n",
    "         lw=3.5, color=cm.get_cmap('cet_gray')(0.8), alpha=1.0, label=f'{used_area} unknown sources\\nN={sample_size:,}')\n",
    "\n",
    "ax1.axvline(x=gv.naive_AGN_thresh, ls='--', c='k', lw=2.5, zorder=10)\n",
    "    \n",
    "ax1.tick_params(which='both', top=True, right=True, direction='in')\n",
    "ax1.tick_params(axis='both', which='major', labelsize=14)\n",
    "ax1.tick_params(which='major', length=8, width=1.5)\n",
    "ax1.tick_params(which='minor', length=4, width=1.5)\n",
    "ax1.set_xlabel('AGN/Galaxy class score', size=20)\n",
    "ax1.set_ylabel('Frequency', size=20)\n",
    "plt.setp(ax1.spines.values(), linewidth=3.5)\n",
    "plt.setp(ax1.spines.values(), linewidth=3.5)\n",
    "plt.legend(loc=1, fontsize=14)\n",
    "plt.grid(False)\n",
    "#ax1.set_aspect('equal', 'box')\n",
    "fig.tight_layout()\n",
    "if save_plot_flag:\n",
    "    plt.savefig(gv.plots_path + f'hist_predicted_AGN_naive_scores_unknown_{used_area}.pdf', bbox_inches='tight')\n",
    "plt.show()"
   ]
  },
  {
   "cell_type": "code",
   "execution_count": 51,
   "metadata": {
    "jupyter": {
     "source_hidden": true
    },
    "tags": []
   },
   "outputs": [
    {
     "data": {
      "image/png": "[encoded data removed]",
      "text/plain": [
       "<Figure size 700x500 with 1 Axes>"
      ]
     },
     "metadata": {},
     "output_type": "display_data"
    }
   ],
   "source": [
    "fig             = plt.figure(figsize=(7,5.0))\n",
    "ax1             = fig.add_subplot(111, xscale='linear', yscale='log')\n",
    "\n",
    "min_score  = np.nanmin(unknown_cat_df.loc[filter_non_str_unk_p, 'Prob_AGN'])\n",
    "max_score  = np.nanmax(unknown_cat_df.loc[filter_non_str_unk_p, 'Prob_AGN'])\n",
    "score_bins = np.linspace(min_score, max_score, 30)\n",
    "\n",
    "sample_size = np.sum(filter_non_str_unk_p)\n",
    "\n",
    "ax1.hist(unknown_cat_df.loc[filter_non_str_unk_p, 'Prob_AGN'], bins=score_bins, histtype='stepfilled', ec='k',\\\n",
    "         lw=3.5, color=cm.get_cmap('cet_gray')(0.8), alpha=1.0, label=f'{used_area} unknown sources\\nN={sample_size:,}')\n",
    "\n",
    "ax1.axvline(x=gv.naive_AGN_thresh, ls='--', c='k', lw=2.5, zorder=10)\n",
    "    \n",
    "ax1.tick_params(which='both', top=True, right=True, direction='in')\n",
    "ax1.tick_params(axis='both', which='major', labelsize=14)\n",
    "ax1.tick_params(which='major', length=8, width=1.5)\n",
    "ax1.tick_params(which='minor', length=4, width=1.5)\n",
    "ax1.set_xlabel('AGN/Galaxy class probability', size=20)\n",
    "ax1.set_ylabel('Frequency', size=20)\n",
    "plt.setp(ax1.spines.values(), linewidth=3.5)\n",
    "plt.setp(ax1.spines.values(), linewidth=3.5)\n",
    "plt.legend(loc=1, fontsize=14)\n",
    "plt.grid(False)\n",
    "#ax1.set_aspect('equal', 'box')\n",
    "fig.tight_layout()\n",
    "if save_plot_flag:\n",
    "    plt.savefig(gv.plots_path + f'hist_predicted_AGN_naive_probs_unknown_{used_area}.pdf', bbox_inches='tight')\n",
    "plt.show()"
   ]
  },
  {
   "cell_type": "code",
   "execution_count": 52,
   "metadata": {
    "jupyter": {
     "source_hidden": true
    },
    "tags": []
   },
   "outputs": [
    {
     "data": {
      "image/png": "[encoded data removed]",
      "text/plain": [
       "<Figure size 700x500 with 1 Axes>"
      ]
     },
     "metadata": {},
     "output_type": "display_data"
    }
   ],
   "source": [
    "fig             = plt.figure(figsize=(7,5.0))\n",
    "ax1             = fig.add_subplot(111, xscale='linear', yscale='log')\n",
    "\n",
    "min_score       = np.nanmin(full_catalog_df.loc[filter_AGN_p, 'Score_radio'])\n",
    "max_score       = np.nanmax(full_catalog_df.loc[filter_AGN_p, 'Score_radio'])\n",
    "score_bins      = np.linspace(min_score, max_score, 30)\n",
    "\n",
    "sample_size     = np.sum(filter_AGN_p)\n",
    "\n",
    "ax1.hist(full_catalog_df.loc[filter_AGN_p, 'Score_radio'], bins=score_bins,\\\n",
    "         histtype='stepfilled', ec='k', lw=3.5, color=cm.get_cmap('cet_gray')(0.8), alpha=0.9,\\\n",
    "         label=f'{used_area} known sources\\nN={sample_size:,}')\n",
    "\n",
    "ax1.axvline(x=gv.naive_radio_thresh, ls='--', c='k', lw=2.5, zorder=10)\n",
    "    \n",
    "ax1.tick_params(which='both', top=True, right=True, direction='in')\n",
    "ax1.tick_params(axis='both', which='major', labelsize=14)\n",
    "ax1.tick_params(which='major', length=8, width=1.5)\n",
    "ax1.tick_params(which='minor', length=4, width=1.5)\n",
    "ax1.set_xlabel('Radio detection score', size=20)\n",
    "ax1.set_ylabel('Frequency', size=20)\n",
    "plt.setp(ax1.spines.values(), linewidth=3.5)\n",
    "plt.setp(ax1.spines.values(), linewidth=3.5)\n",
    "plt.legend(loc=1, fontsize=14)\n",
    "plt.grid(False)\n",
    "fig.tight_layout()\n",
    "#ax1.set_aspect('equal', 'box')\n",
    "if save_plot_flag:\n",
    "    plt.savefig(gv.plots_path + f'hist_predicted_radio_naive_scores_pred_AGN_known_{used_area}.pdf', bbox_inches='tight')\n",
    "plt.show()"
   ]
  },
  {
   "cell_type": "code",
   "execution_count": 53,
   "metadata": {
    "jupyter": {
     "source_hidden": true
    },
    "tags": []
   },
   "outputs": [
    {
     "data": {
      "image/png": "[encoded data removed]",
      "text/plain": [
       "<Figure size 700x500 with 1 Axes>"
      ]
     },
     "metadata": {},
     "output_type": "display_data"
    }
   ],
   "source": [
    "fig             = plt.figure(figsize=(7,5.0))\n",
    "ax1             = fig.add_subplot(111, xscale='linear', yscale='log')\n",
    "\n",
    "min_score       = np.nanmin(full_catalog_df.loc[filter_AGN_p, 'Prob_radio'])\n",
    "max_score       = np.nanmax(full_catalog_df.loc[filter_AGN_p, 'Prob_radio'])\n",
    "score_bins      = np.linspace(min_score, max_score, 30)\n",
    "\n",
    "sample_size     = np.sum(filter_AGN_p)\n",
    "\n",
    "ax1.hist(full_catalog_df.loc[filter_AGN_p, 'Prob_radio'], bins=score_bins,\\\n",
    "         histtype='stepfilled', ec='k', lw=3.5, color=cm.get_cmap('cet_gray')(0.8), alpha=0.9,\\\n",
    "         label=f'{used_area} known sources\\nN={sample_size:,}')\n",
    "\n",
    "ax1.axvline(x=gv.naive_radio_thresh, ls='--', c='k', lw=2.5, zorder=10)\n",
    "    \n",
    "ax1.tick_params(which='both', top=True, right=True, direction='in')\n",
    "ax1.tick_params(axis='both', which='major', labelsize=14)\n",
    "ax1.tick_params(which='major', length=8, width=1.5)\n",
    "ax1.tick_params(which='minor', length=4, width=1.5)\n",
    "ax1.set_xlabel('Radio detection probability', size=20)\n",
    "ax1.set_ylabel('Frequency', size=20)\n",
    "plt.setp(ax1.spines.values(), linewidth=3.5)\n",
    "plt.setp(ax1.spines.values(), linewidth=3.5)\n",
    "plt.legend(loc=1, fontsize=14)\n",
    "plt.grid(False)\n",
    "fig.tight_layout()\n",
    "#ax1.set_aspect('equal', 'box')\n",
    "if save_plot_flag:\n",
    "    plt.savefig(gv.plots_path + f'hist_predicted_radio_naive_prob_pred_AGN_known_{used_area}.pdf', bbox_inches='tight')\n",
    "plt.show()"
   ]
  },
  {
   "cell_type": "code",
   "execution_count": 54,
   "metadata": {
    "jupyter": {
     "source_hidden": true
    },
    "tags": []
   },
   "outputs": [
    {
     "data": {
      "image/png": "[encoded data removed]",
      "text/plain": [
       "<Figure size 700x500 with 1 Axes>"
      ]
     },
     "metadata": {},
     "output_type": "display_data"
    }
   ],
   "source": [
    "fig             = plt.figure(figsize=(7,5.0))\n",
    "ax1             = fig.add_subplot(111, xscale='linear', yscale='log')\n",
    "\n",
    "min_score       = np.nanmin(unknown_cat_df.loc[filter_AGN_unk_p, 'Score_radio'])\n",
    "max_score       = np.nanmax(unknown_cat_df.loc[filter_AGN_unk_p, 'Score_radio'])\n",
    "score_bins      = np.linspace(min_score, max_score, 30)\n",
    "\n",
    "sample_size     = np.sum(filter_AGN_unk_p)\n",
    "\n",
    "ax1.hist(unknown_cat_df.loc[filter_AGN_unk_p, 'Score_radio'], bins=score_bins,\\\n",
    "         histtype='stepfilled', ec='k', lw=3.5, color=cm.get_cmap('cet_gray')(0.8), alpha=0.9,\\\n",
    "         label=f'{used_area} unknown sources\\nN={sample_size:,}')\n",
    "\n",
    "ax1.axvline(x=gv.naive_radio_thresh, ls='--', c='k', lw=2.5, zorder=10)\n",
    "    \n",
    "ax1.tick_params(which='both', top=True, right=True, direction='in')\n",
    "ax1.tick_params(axis='both', which='major', labelsize=14)\n",
    "ax1.tick_params(which='major', length=8, width=1.5)\n",
    "ax1.tick_params(which='minor', length=4, width=1.5)\n",
    "ax1.set_xlabel('Radio detection score', size=20)\n",
    "ax1.set_ylabel('Frequency', size=20)\n",
    "plt.setp(ax1.spines.values(), linewidth=3.5)\n",
    "plt.setp(ax1.spines.values(), linewidth=3.5)\n",
    "plt.legend(loc=1, fontsize=14)\n",
    "plt.grid(False)\n",
    "fig.tight_layout()\n",
    "#ax1.set_aspect('equal', 'box')\n",
    "if save_plot_flag:\n",
    "    plt.savefig(gv.plots_path + f'hist_predicted_radio_naive_scores_pred_AGN_unknown_{used_area}.pdf', bbox_inches='tight')\n",
    "plt.show()"
   ]
  },
  {
   "cell_type": "code",
   "execution_count": 55,
   "metadata": {
    "jupyter": {
     "source_hidden": true
    },
    "tags": []
   },
   "outputs": [
    {
     "data": {
      "image/png": "[encoded data removed]",
      "text/plain": [
       "<Figure size 700x500 with 1 Axes>"
      ]
     },
     "metadata": {},
     "output_type": "display_data"
    }
   ],
   "source": [
    "fig             = plt.figure(figsize=(7,5.0))\n",
    "ax1             = fig.add_subplot(111, xscale='linear', yscale='log')\n",
    "\n",
    "min_score       = np.nanmin(unknown_cat_df.loc[filter_AGN_unk_p, 'Prob_radio'])\n",
    "max_score       = np.nanmax(unknown_cat_df.loc[filter_AGN_unk_p, 'Prob_radio'])\n",
    "score_bins      = np.linspace(min_score, max_score, 30)\n",
    "\n",
    "sample_size     = np.sum(filter_AGN_unk_p)\n",
    "\n",
    "ax1.hist(unknown_cat_df.loc[filter_AGN_unk_p, 'Prob_radio'], bins=score_bins,\\\n",
    "         histtype='stepfilled', ec='k', lw=3.5, color=cm.get_cmap('cet_gray')(0.8), alpha=0.9,\\\n",
    "         label=f'{used_area} unknown sources\\nN={sample_size:,}')\n",
    "\n",
    "ax1.axvline(x=gv.naive_radio_thresh, ls='--', c='k', lw=2.5, zorder=10)\n",
    "    \n",
    "ax1.tick_params(which='both', top=True, right=True, direction='in')\n",
    "ax1.tick_params(axis='both', which='major', labelsize=14)\n",
    "ax1.tick_params(which='major', length=8, width=1.5)\n",
    "ax1.tick_params(which='minor', length=4, width=1.5)\n",
    "ax1.set_xlabel('Radio detection probability', size=20)\n",
    "ax1.set_ylabel('Frequency', size=20)\n",
    "plt.setp(ax1.spines.values(), linewidth=3.5)\n",
    "plt.setp(ax1.spines.values(), linewidth=3.5)\n",
    "plt.legend(loc=1, fontsize=14)\n",
    "plt.grid(False)\n",
    "fig.tight_layout()\n",
    "#ax1.set_aspect('equal', 'box')\n",
    "if save_plot_flag:\n",
    "    plt.savefig(gv.plots_path + f'hist_predicted_radio_naive_probs_pred_AGN_unknown_{used_area}.pdf', bbox_inches='tight')\n",
    "plt.show()"
   ]
  },
  {
   "cell_type": "code",
   "execution_count": 56,
   "metadata": {
    "jupyter": {
     "source_hidden": true
    },
    "tags": []
   },
   "outputs": [
    {
     "data": {
      "image/png": "[encoded data removed]",
      "text/plain": [
       "<Figure size 700x500 with 1 Axes>"
      ]
     },
     "metadata": {},
     "output_type": "display_data"
    }
   ],
   "source": [
    "fig             = plt.figure(figsize=(7,5.0))\n",
    "ax1             = fig.add_subplot(111, xscale='linear', yscale='log')\n",
    "\n",
    "min_score       = np.nanmin(full_catalog_df.loc[filter_non_str_p, 'Prob_rAGN'])\n",
    "max_score       = np.nanmax(full_catalog_df.loc[filter_non_str_p, 'Prob_rAGN'])\n",
    "score_bins      = np.linspace(min_score, max_score, 30)\n",
    "\n",
    "sample_size     = np.sum(filter_non_str_p)\n",
    "\n",
    "ax1.hist(full_catalog_df.loc[filter_non_str_p, 'Prob_rAGN'], bins=score_bins,\\\n",
    "         histtype='stepfilled', ec='k', lw=3.5, color=cm.get_cmap('cet_gray')(0.8), alpha=0.9,\\\n",
    "         label=f'{used_area} known sources\\nN={sample_size:,}')\n",
    "\n",
    "ax1.axvline(x=gv.naive_AGN_thresh * gv.naive_radio_thresh, ls='--', c='k', lw=2.5, zorder=10)\n",
    "    \n",
    "ax1.tick_params(which='both', top=True, right=True, direction='in')\n",
    "ax1.tick_params(axis='both', which='major', labelsize=14)\n",
    "ax1.tick_params(which='major', length=8, width=1.5)\n",
    "ax1.tick_params(which='minor', length=4, width=1.5)\n",
    "ax1.set_xlabel('Radio AGN probability', size=20)\n",
    "ax1.set_ylabel('Frequency', size=20)\n",
    "plt.setp(ax1.spines.values(), linewidth=3.5)\n",
    "plt.setp(ax1.spines.values(), linewidth=3.5)\n",
    "plt.legend(loc=1, fontsize=14)\n",
    "plt.grid(False)\n",
    "fig.tight_layout()\n",
    "#ax1.set_aspect('equal', 'box')\n",
    "if save_plot_flag:\n",
    "    plt.savefig(gv.plots_path + f'hist_predicted_rAGN_naive_probs_known_{used_area}.pdf', bbox_inches='tight')\n",
    "plt.show()"
   ]
  },
  {
   "cell_type": "code",
   "execution_count": 57,
   "metadata": {
    "jupyter": {
     "source_hidden": true
    },
    "tags": []
   },
   "outputs": [
    {
     "data": {
      "image/png": "[encoded data removed]",
      "text/plain": [
       "<Figure size 700x500 with 1 Axes>"
      ]
     },
     "metadata": {},
     "output_type": "display_data"
    }
   ],
   "source": [
    "fig             = plt.figure(figsize=(7,5.0))\n",
    "ax1             = fig.add_subplot(111, xscale='linear', yscale='log')\n",
    "\n",
    "min_score       = np.nanmin(unknown_cat_df.loc[filter_non_str_unk_p, 'Prob_rAGN'])\n",
    "max_score       = np.nanmax(unknown_cat_df.loc[filter_non_str_unk_p, 'Prob_rAGN'])\n",
    "score_bins      = np.linspace(min_score, max_score, 30)\n",
    "\n",
    "sample_size     = np.sum(filter_non_str_unk_p)\n",
    "\n",
    "ax1.hist(unknown_cat_df.loc[filter_non_str_unk_p, 'Prob_rAGN'], bins=score_bins,\\\n",
    "         histtype='stepfilled', ec='k', lw=3.5, color=cm.get_cmap('cet_gray')(0.8), alpha=0.9,\\\n",
    "         label=f'{used_area} unknown sources\\nN={sample_size:,}')\n",
    "\n",
    "ax1.axvline(x=gv.naive_AGN_thresh * gv.naive_radio_thresh, ls='--', c='k', lw=2.5, zorder=10)\n",
    "    \n",
    "ax1.tick_params(which='both', top=True, right=True, direction='in')\n",
    "ax1.tick_params(axis='both', which='major', labelsize=14)\n",
    "ax1.tick_params(which='major', length=8, width=1.5)\n",
    "ax1.tick_params(which='minor', length=4, width=1.5)\n",
    "ax1.set_xlabel('Radio AGN probability', size=20)\n",
    "ax1.set_ylabel('Frequency', size=20)\n",
    "plt.setp(ax1.spines.values(), linewidth=3.5)\n",
    "plt.setp(ax1.spines.values(), linewidth=3.5)\n",
    "plt.legend(loc=1, fontsize=14)\n",
    "plt.grid(False)\n",
    "fig.tight_layout()\n",
    "#ax1.set_aspect('equal', 'box')\n",
    "if save_plot_flag:\n",
    "    plt.savefig(gv.plots_path + f'hist_predicted_rAGN_naive_probs_unknown_{used_area}.pdf', bbox_inches='tight')\n",
    "plt.show()"
   ]
  },
  {
   "cell_type": "markdown",
   "metadata": {},
   "source": [
    "Plot histograms for predicted and original redshifts."
   ]
  },
  {
   "cell_type": "code",
   "execution_count": 58,
   "metadata": {
    "jupyter": {
     "source_hidden": true
    },
    "tags": []
   },
   "outputs": [
    {
     "data": {
      "image/png": "[encoded data removed]",
      "text/plain": [
       "<Figure size 700x500 with 1 Axes>"
      ]
     },
     "metadata": {},
     "output_type": "display_data"
    }
   ],
   "source": [
    "fig             = plt.figure(figsize=(7,5.0))\n",
    "ax1             = fig.add_subplot(111, xscale='linear', yscale='log')\n",
    "\n",
    "min_score       = np.nanmin(full_catalog_df.loc[filter_radio_AGN_p, 'pred_Z'])\n",
    "max_score       = np.nanmax(full_catalog_df.loc[filter_radio_AGN_p, 'pred_Z'])\n",
    "score_bins      = np.linspace(min_score, max_score, 30)\n",
    "\n",
    "sample_size     = np.sum(filter_radio_AGN_p)\n",
    "\n",
    "ax1.hist(full_catalog_df.loc[filter_radio_AGN_p, 'pred_Z'], bins=score_bins,\\\n",
    "         histtype='stepfilled', ec='k', lw=3.5, color=cm.get_cmap('cet_gray')(0.8), alpha=0.9,\\\n",
    "         label=f'{used_area} known sources\\nN={sample_size:,}')\n",
    "\n",
    "ax1.axvline(x=gv.high_z_limit, ls='--', c='k', lw=2.5, zorder=10)\n",
    "    \n",
    "ax1.tick_params(which='both', top=True, right=True, direction='in')\n",
    "ax1.tick_params(axis='both', which='major', labelsize=14)\n",
    "ax1.tick_params(which='major', length=8, width=1.5)\n",
    "ax1.tick_params(which='minor', length=4, width=1.5)\n",
    "ax1.set_xlabel('Predicted redshift', size=20)\n",
    "ax1.set_ylabel('Frequency', size=20)\n",
    "plt.setp(ax1.spines.values(), linewidth=3.5)\n",
    "plt.setp(ax1.spines.values(), linewidth=3.5)\n",
    "plt.legend(loc=1, fontsize=14)\n",
    "plt.grid(False)\n",
    "#ax1.set_aspect('equal', 'box')\n",
    "fig.tight_layout()\n",
    "if save_plot_flag:\n",
    "    plt.savefig(gv.plots_path + f'hist_predicted_naive_redshift_rAGN_known_{used_area}.pdf', bbox_inches='tight')\n",
    "plt.show()"
   ]
  },
  {
   "cell_type": "code",
   "execution_count": 59,
   "metadata": {
    "jupyter": {
     "source_hidden": true
    },
    "tags": []
   },
   "outputs": [
    {
     "data": {
      "image/png": "[encoded data removed]",
      "text/plain": [
       "<Figure size 700x500 with 1 Axes>"
      ]
     },
     "metadata": {},
     "output_type": "display_data"
    }
   ],
   "source": [
    "fig             = plt.figure(figsize=(7,5.0))\n",
    "ax1             = fig.add_subplot(111, xscale='linear', yscale='log')\n",
    "\n",
    "min_score       = np.nanmin(unknown_cat_df.loc[filter_radio_AGN_unk_p, 'pred_Z'])\n",
    "max_score       = np.nanmax(unknown_cat_df.loc[filter_radio_AGN_unk_p, 'pred_Z'])\n",
    "score_bins      = np.linspace(min_score, max_score, 30)\n",
    "\n",
    "sample_size     = np.sum(filter_radio_AGN_unk_p)\n",
    "\n",
    "ax1.hist(unknown_cat_df.loc[filter_radio_AGN_unk_p, 'pred_Z'], bins=score_bins,\\\n",
    "         histtype='stepfilled', ec='k', lw=3.5, color=cm.get_cmap('cet_gray')(0.8), alpha=0.9,\\\n",
    "         label=f'{used_area} unknown sources\\nN={sample_size:,}')\n",
    "\n",
    "ax1.axvline(x=gv.high_z_limit, ls='--', c='k', lw=2.5, zorder=10)\n",
    "    \n",
    "ax1.tick_params(which='both', top=True, right=True, direction='in')\n",
    "ax1.tick_params(axis='both', which='major', labelsize=14)\n",
    "ax1.tick_params(which='major', length=8, width=1.5)\n",
    "ax1.tick_params(which='minor', length=4, width=1.5)\n",
    "ax1.set_xlabel('Predicted redshift', size=20)\n",
    "ax1.set_ylabel('Frequency', size=20)\n",
    "plt.setp(ax1.spines.values(), linewidth=3.5)\n",
    "plt.setp(ax1.spines.values(), linewidth=3.5)\n",
    "plt.legend(loc=1, fontsize=14)\n",
    "plt.grid(False)\n",
    "#ax1.set_aspect('equal', 'box')\n",
    "fig.tight_layout()\n",
    "if save_plot_flag:\n",
    "    plt.savefig(gv.plots_path + f'hist_predicted_naive_redshift_rAGN_unknown_{used_area}.pdf', bbox_inches='tight')\n",
    "plt.show()"
   ]
  },
  {
   "cell_type": "code",
   "execution_count": 60,
   "metadata": {
    "jupyter": {
     "source_hidden": true
    }
   },
   "outputs": [
    {
     "name": "stdout",
     "output_type": "stream",
     "text": [
      "Predictions for known sources:\n"
     ]
    },
    {
     "data": {
      "text/html": [
       "<div>\n",
       "<style scoped>\n",
       "    .dataframe tbody tr th:only-of-type {\n",
       "        vertical-align: middle;\n",
       "    }\n",
       "\n",
       "    .dataframe tbody tr th {\n",
       "        vertical-align: top;\n",
       "    }\n",
       "\n",
       "    .dataframe thead th {\n",
       "        text-align: right;\n",
       "    }\n",
       "</style>\n",
       "<table border=\"1\" class=\"dataframe\">\n",
       "  <thead>\n",
       "    <tr style=\"text-align: right;\">\n",
       "      <th></th>\n",
       "      <th>class</th>\n",
       "      <th>pred_class</th>\n",
       "      <th>LOFAR_detect</th>\n",
       "      <th>pred_radio</th>\n",
       "      <th>Z</th>\n",
       "      <th>pred_Z</th>\n",
       "    </tr>\n",
       "  </thead>\n",
       "  <tbody>\n",
       "    <tr>\n",
       "      <th>count</th>\n",
       "      <td>1236.000000</td>\n",
       "      <td>1236.0</td>\n",
       "      <td>1236.000000</td>\n",
       "      <td>1236.0</td>\n",
       "      <td>1236.000000</td>\n",
       "      <td>1236.000000</td>\n",
       "    </tr>\n",
       "    <tr>\n",
       "      <th>mean</th>\n",
       "      <td>0.974919</td>\n",
       "      <td>1.0</td>\n",
       "      <td>0.214401</td>\n",
       "      <td>1.0</td>\n",
       "      <td>0.894947</td>\n",
       "      <td>0.920063</td>\n",
       "    </tr>\n",
       "    <tr>\n",
       "      <th>std</th>\n",
       "      <td>0.156434</td>\n",
       "      <td>0.0</td>\n",
       "      <td>0.410572</td>\n",
       "      <td>0.0</td>\n",
       "      <td>0.758529</td>\n",
       "      <td>0.670083</td>\n",
       "    </tr>\n",
       "    <tr>\n",
       "      <th>min</th>\n",
       "      <td>0.000000</td>\n",
       "      <td>1.0</td>\n",
       "      <td>0.000000</td>\n",
       "      <td>1.0</td>\n",
       "      <td>0.015000</td>\n",
       "      <td>0.028300</td>\n",
       "    </tr>\n",
       "    <tr>\n",
       "      <th>25%</th>\n",
       "      <td>1.000000</td>\n",
       "      <td>1.0</td>\n",
       "      <td>0.000000</td>\n",
       "      <td>1.0</td>\n",
       "      <td>0.300948</td>\n",
       "      <td>0.420325</td>\n",
       "    </tr>\n",
       "    <tr>\n",
       "      <th>50%</th>\n",
       "      <td>1.000000</td>\n",
       "      <td>1.0</td>\n",
       "      <td>0.000000</td>\n",
       "      <td>1.0</td>\n",
       "      <td>0.683000</td>\n",
       "      <td>0.752150</td>\n",
       "    </tr>\n",
       "    <tr>\n",
       "      <th>75%</th>\n",
       "      <td>1.000000</td>\n",
       "      <td>1.0</td>\n",
       "      <td>0.000000</td>\n",
       "      <td>1.0</td>\n",
       "      <td>1.314500</td>\n",
       "      <td>1.344825</td>\n",
       "    </tr>\n",
       "    <tr>\n",
       "      <th>max</th>\n",
       "      <td>1.000000</td>\n",
       "      <td>1.0</td>\n",
       "      <td>1.000000</td>\n",
       "      <td>1.0</td>\n",
       "      <td>4.435000</td>\n",
       "      <td>3.835500</td>\n",
       "    </tr>\n",
       "  </tbody>\n",
       "</table>\n",
       "</div>"
      ],
      "text/plain": [
       "             class  pred_class  LOFAR_detect  pred_radio            Z  \\\n",
       "count  1236.000000      1236.0   1236.000000      1236.0  1236.000000   \n",
       "mean      0.974919         1.0      0.214401         1.0     0.894947   \n",
       "std       0.156434         0.0      0.410572         0.0     0.758529   \n",
       "min       0.000000         1.0      0.000000         1.0     0.015000   \n",
       "25%       1.000000         1.0      0.000000         1.0     0.300948   \n",
       "50%       1.000000         1.0      0.000000         1.0     0.683000   \n",
       "75%       1.000000         1.0      0.000000         1.0     1.314500   \n",
       "max       1.000000         1.0      1.000000         1.0     4.435000   \n",
       "\n",
       "            pred_Z  \n",
       "count  1236.000000  \n",
       "mean      0.920063  \n",
       "std       0.670083  \n",
       "min       0.028300  \n",
       "25%       0.420325  \n",
       "50%       0.752150  \n",
       "75%       1.344825  \n",
       "max       3.835500  "
      ]
     },
     "metadata": {},
     "output_type": "display_data"
    },
    {
     "name": "stdout",
     "output_type": "stream",
     "text": [
      "\n",
      "Predictions for unknown sources:\n"
     ]
    },
    {
     "data": {
      "text/html": [
       "<div>\n",
       "<style scoped>\n",
       "    .dataframe tbody tr th:only-of-type {\n",
       "        vertical-align: middle;\n",
       "    }\n",
       "\n",
       "    .dataframe tbody tr th {\n",
       "        vertical-align: top;\n",
       "    }\n",
       "\n",
       "    .dataframe thead th {\n",
       "        text-align: right;\n",
       "    }\n",
       "</style>\n",
       "<table border=\"1\" class=\"dataframe\">\n",
       "  <thead>\n",
       "    <tr style=\"text-align: right;\">\n",
       "      <th></th>\n",
       "      <th>class</th>\n",
       "      <th>pred_class</th>\n",
       "      <th>LOFAR_detect</th>\n",
       "      <th>pred_radio</th>\n",
       "      <th>Z</th>\n",
       "      <th>pred_Z</th>\n",
       "    </tr>\n",
       "  </thead>\n",
       "  <tbody>\n",
       "    <tr>\n",
       "      <th>count</th>\n",
       "      <td>15125.0</td>\n",
       "      <td>15125.0</td>\n",
       "      <td>15125.000000</td>\n",
       "      <td>15125.0</td>\n",
       "      <td>58.000000</td>\n",
       "      <td>15125.000000</td>\n",
       "    </tr>\n",
       "    <tr>\n",
       "      <th>mean</th>\n",
       "      <td>0.5</td>\n",
       "      <td>1.0</td>\n",
       "      <td>0.026579</td>\n",
       "      <td>1.0</td>\n",
       "      <td>0.717716</td>\n",
       "      <td>1.744023</td>\n",
       "    </tr>\n",
       "    <tr>\n",
       "      <th>std</th>\n",
       "      <td>0.0</td>\n",
       "      <td>0.0</td>\n",
       "      <td>0.160853</td>\n",
       "      <td>0.0</td>\n",
       "      <td>1.160353</td>\n",
       "      <td>0.822403</td>\n",
       "    </tr>\n",
       "    <tr>\n",
       "      <th>min</th>\n",
       "      <td>0.5</td>\n",
       "      <td>1.0</td>\n",
       "      <td>0.000000</td>\n",
       "      <td>1.0</td>\n",
       "      <td>-0.000060</td>\n",
       "      <td>0.019800</td>\n",
       "    </tr>\n",
       "    <tr>\n",
       "      <th>25%</th>\n",
       "      <td>0.5</td>\n",
       "      <td>1.0</td>\n",
       "      <td>0.000000</td>\n",
       "      <td>1.0</td>\n",
       "      <td>0.200000</td>\n",
       "      <td>1.205700</td>\n",
       "    </tr>\n",
       "    <tr>\n",
       "      <th>50%</th>\n",
       "      <td>0.5</td>\n",
       "      <td>1.0</td>\n",
       "      <td>0.000000</td>\n",
       "      <td>1.0</td>\n",
       "      <td>0.400000</td>\n",
       "      <td>1.743400</td>\n",
       "    </tr>\n",
       "    <tr>\n",
       "      <th>75%</th>\n",
       "      <td>0.5</td>\n",
       "      <td>1.0</td>\n",
       "      <td>0.000000</td>\n",
       "      <td>1.0</td>\n",
       "      <td>0.600000</td>\n",
       "      <td>2.330100</td>\n",
       "    </tr>\n",
       "    <tr>\n",
       "      <th>max</th>\n",
       "      <td>0.5</td>\n",
       "      <td>1.0</td>\n",
       "      <td>1.000000</td>\n",
       "      <td>1.0</td>\n",
       "      <td>6.796880</td>\n",
       "      <td>3.994100</td>\n",
       "    </tr>\n",
       "  </tbody>\n",
       "</table>\n",
       "</div>"
      ],
      "text/plain": [
       "         class  pred_class  LOFAR_detect  pred_radio          Z        pred_Z\n",
       "count  15125.0     15125.0  15125.000000     15125.0  58.000000  15125.000000\n",
       "mean       0.5         1.0      0.026579         1.0   0.717716      1.744023\n",
       "std        0.0         0.0      0.160853         0.0   1.160353      0.822403\n",
       "min        0.5         1.0      0.000000         1.0  -0.000060      0.019800\n",
       "25%        0.5         1.0      0.000000         1.0   0.200000      1.205700\n",
       "50%        0.5         1.0      0.000000         1.0   0.400000      1.743400\n",
       "75%        0.5         1.0      0.000000         1.0   0.600000      2.330100\n",
       "max        0.5         1.0      1.000000         1.0   6.796880      3.994100"
      ]
     },
     "metadata": {},
     "output_type": "display_data"
    }
   ],
   "source": [
    "displayed_cols = ['is_str', 'pred_star', 'class', 'pred_class', 'LOFAR_detect', 'pred_radio', 'Z', 'pred_Z']\n",
    "if not use_zeroth_model:\n",
    "    displayed_cols.remove('is_str')\n",
    "    displayed_cols.remove('pred_star')\n",
    "print('Predictions for known sources:')\n",
    "display(full_catalog_df.loc[filter_radio_AGN_p, displayed_cols].describe())\n",
    "print('\\nPredictions for unknown sources:')\n",
    "display(unknown_cat_df.loc[filter_radio_AGN_unk_p, displayed_cols].describe())"
   ]
  },
  {
   "cell_type": "markdown",
   "metadata": {},
   "source": [
    "Add individual metrics for redshift"
   ]
  },
  {
   "cell_type": "code",
   "execution_count": 61,
   "metadata": {
    "jupyter": {
     "source_hidden": true
    },
    "tags": []
   },
   "outputs": [],
   "source": [
    "full_catalog_df['Delta_z_N'] = np.around((full_catalog_df.loc[:, 'pred_Z'] - full_catalog_df.loc[:, 'Z']) /\\\n",
    "                            (1 + full_catalog_df.loc[:, 'Z']), decimals=3)\n",
    "\n",
    "full_catalog_df['sigma_NMAD'] = np.around(1.48 * np.abs(full_catalog_df.loc[:, 'pred_Z'] - full_catalog_df.loc[:, 'Z']) /\\\n",
    "                            (1 + full_catalog_df.loc[:, 'Z']), decimals=3)"
   ]
  },
  {
   "cell_type": "markdown",
   "metadata": {},
   "source": [
    "Numerical summary."
   ]
  },
  {
   "cell_type": "code",
   "execution_count": 62,
   "metadata": {
    "jupyter": {
     "source_hidden": true
    },
    "tags": []
   },
   "outputs": [],
   "source": [
    "str_0_t     = f'Out of {total_size:,} initially known sources in {used_area},\\n'\n",
    "str_1_t     = f'{num_gal_t:,} are confirmed to be galaxies. On the other side,\\n'\n",
    "str_2_t     = f'{num_str_t:,} are listed as SDSS-DR16 stars and {num_AGN_t:,} are MQC AGN.\\n'\n",
    "str_3_t     = f'Also, {num_radio_AGN_t:,} AGN are detected in radio (i.e. Radio Galaxies).'\n",
    "\n",
    "str_0_kno_p = f'Out of {len(full_catalog_df):,} initially known sources in {used_area},\\n'\n",
    "str_1_kno_p = f'{num_gal_p:,} are predicted to be galaxies. On the other side,\\n'\n",
    "str_2_kno_p = f'{num_str_p:,} are predicted as SDSS-DR16 stars and {num_AGN_p:,} are MQC AGN.\\n'\n",
    "str_3_kno_p = f'Also, {num_radio_AGN_p:,} AGN are predicted to bedetected in radio.'\n",
    "\n",
    "str_0_unk_p = f'Out of {len(unknown_cat_df):,} initially unknown sources in {used_area},\\n'\n",
    "str_1_unk_p = f'{num_gal_unk_p:,} are predicted to be galaxies. On the other side,\\n'\n",
    "str_2_unk_p = f'{num_str_unk_p:,} are predicted as SDSS-DR16 stars and {num_AGN_unk_p:,} are MQC AGN.\\n'\n",
    "str_3_unk_p = f'Also, {num_radio_AGN_unk_p:,} AGN are predicted to be detected in radio.'"
   ]
  },
  {
   "cell_type": "code",
   "execution_count": 63,
   "metadata": {
    "jupyter": {
     "source_hidden": true
    },
    "tags": []
   },
   "outputs": [
    {
     "name": "stdout",
     "output_type": "stream",
     "text": [
      "------------------------------------------------------------\n",
      "Out of 25,689 initially known sources in S82,\n",
      "5,233 are confirmed to be galaxies. On the other side,\n",
      "0 are listed as SDSS-DR16 stars and 20,456 are MQC AGN.\n",
      "Also, 940 AGN are detected in radio (i.e. Radio Galaxies).\n",
      "------------------------------------------------------------\n",
      "------------------------------------------------------------\n",
      "Out of 25,689 initially known sources in S82,\n",
      "7,059 are predicted to be galaxies. On the other side,\n",
      "0 are predicted as SDSS-DR16 stars and 18,630 are MQC AGN.\n",
      "Also, 1,236 AGN are predicted to bedetected in radio.\n",
      "------------------------------------------------------------\n",
      "------------------------------------------------------------\n",
      "Out of 3,564,617 initially unknown sources in S82,\n",
      "3,207,467 are predicted to be galaxies. On the other side,\n",
      "0 are predicted as SDSS-DR16 stars and 357,150 are MQC AGN.\n",
      "Also, 15,125 AGN are predicted to be detected in radio.\n",
      "------------------------------------------------------------\n"
     ]
    }
   ],
   "source": [
    "print('-' * 60)\n",
    "print(str_0_t + str_1_t + str_2_t + str_3_t)\n",
    "print('-' * 60)\n",
    "\n",
    "print('-' * 60)\n",
    "print(str_0_kno_p + str_1_kno_p + str_2_kno_p + str_3_kno_p)\n",
    "print('-' * 60)\n",
    "\n",
    "print('-' * 60)\n",
    "print(str_0_unk_p + str_1_unk_p + str_2_unk_p + str_3_unk_p)\n",
    "print('-' * 60)"
   ]
  },
  {
   "cell_type": "code",
   "execution_count": 64,
   "metadata": {
    "jupyter": {
     "source_hidden": true
    }
   },
   "outputs": [],
   "source": [
    "show_columns = ['Name', 'RA_ICRS', 'DE_ICRS', 'TYPE', 'band_num', 'class', 'pred_class', 'Score_AGN',\\\n",
    "                'LOFAR_detect', 'pred_radio', 'scaled_score_radio', 'scaled_score_rAGN', 'Z', 'pred_Z']\n",
    "\n",
    "# cols_4_table_pred_known   = ['RA_ICRS', 'DE_ICRS', 'band_num', 'class', 'Score_AGN', 'Prob_AGN', 'radio_detect',\\\n",
    "#                              'Score_radio', 'Prob_radio', 'Score_rAGN', 'Prob_rAGN', 'Z', 'pred_Z']\n",
    "# cols_4_table_pred_unknown = ['RA_ICRS', 'DE_ICRS', 'band_num', 'Score_AGN', 'Prob_AGN', 'radio_detect',\\\n",
    "#                              'Score_radio', 'Prob_radio', 'Score_rAGN', 'Prob_rAGN', 'pred_Z']\n",
    "cols_4_table_pred_known   = ['RA_ICRS', 'DE_ICRS', 'band_num', 'class', 'Score_AGN', 'LOFAR_detect',\\\n",
    "                             'Score_radio', 'Score_rAGN', 'Z', 'pred_Z']\n",
    "cols_4_table_pred_unknown = ['RA_ICRS', 'DE_ICRS', 'band_num', 'Score_AGN', 'LOFAR_detect',\\\n",
    "                             'Score_radio', 'Score_rAGN', 'pred_Z']"
   ]
  },
  {
   "cell_type": "code",
   "execution_count": 65,
   "metadata": {
    "jupyter": {
     "source_hidden": true
    }
   },
   "outputs": [],
   "source": [
    "cols_4_export_S82    = ['Total_flux_VLASS', 'Fint_VLAS82', 'Stotal_TGSS', 'FEP']\n",
    "cols_4_export_HETDEX = ['Total_flux_VLASS', 'Sint_LOFAR', 'Stotal_TGSS', 'FEP', 'TotalFlux_LoLSS']\n",
    "cols_4_export_COSMOS = ['Total_flux_VLASS', 'Stotal_TGSS', 'FEP', 'Flux_COSMOSVLA3']\n",
    "\n",
    "cols_4_exp_all       = {'S82': cols_4_export_S82, 'HETDEX': cols_4_export_HETDEX, 'COSMOS': cols_4_export_COSMOS}\n",
    "\n",
    "cols_photo           = ['W1mproPM', 'W2mproPM', 'gmag', 'rmag', 'imag', 'zmag', 'ymag', 'FUVmag', 'NUVmag',\\\n",
    "                        'Jmag', 'Hmag', 'Kmag', 'W3mag', 'W4mag']\n",
    "\n",
    "cols_4_export        = show_columns + cols_4_exp_all[used_area] + cols_photo"
   ]
  },
  {
   "cell_type": "code",
   "execution_count": 66,
   "metadata": {},
   "outputs": [],
   "source": [
    "filter_high_z   = full_catalog_df.loc[:, 'pred_Z']    >= gv.high_z_limit"
   ]
  },
  {
   "cell_type": "markdown",
   "metadata": {},
   "source": [
    "Display properties of predicted Radio AGN in known sample."
   ]
  },
  {
   "cell_type": "code",
   "execution_count": 67,
   "metadata": {},
   "outputs": [
    {
     "data": {
      "text/html": [
       "<div>\n",
       "<style scoped>\n",
       "    .dataframe tbody tr th:only-of-type {\n",
       "        vertical-align: middle;\n",
       "    }\n",
       "\n",
       "    .dataframe tbody tr th {\n",
       "        vertical-align: top;\n",
       "    }\n",
       "\n",
       "    .dataframe thead th {\n",
       "        text-align: right;\n",
       "    }\n",
       "</style>\n",
       "<table border=\"1\" class=\"dataframe\">\n",
       "  <thead>\n",
       "    <tr style=\"text-align: right;\">\n",
       "      <th></th>\n",
       "      <th>RA_ICRS</th>\n",
       "      <th>DE_ICRS</th>\n",
       "      <th>band_num</th>\n",
       "      <th>class</th>\n",
       "      <th>Score_AGN</th>\n",
       "      <th>LOFAR_detect</th>\n",
       "      <th>Score_radio</th>\n",
       "      <th>Score_rAGN</th>\n",
       "      <th>Z</th>\n",
       "      <th>pred_Z</th>\n",
       "    </tr>\n",
       "  </thead>\n",
       "  <tbody>\n",
       "    <tr>\n",
       "      <th>3301527</th>\n",
       "      <td>346.665192</td>\n",
       "      <td>1.148655</td>\n",
       "      <td>9</td>\n",
       "      <td>1.0</td>\n",
       "      <td>0.550975</td>\n",
       "      <td>0</td>\n",
       "      <td>0.646490</td>\n",
       "      <td>0.356200</td>\n",
       "      <td>3.648</td>\n",
       "      <td>3.8355</td>\n",
       "    </tr>\n",
       "    <tr>\n",
       "      <th>794288</th>\n",
       "      <td>21.752874</td>\n",
       "      <td>-0.766390</td>\n",
       "      <td>12</td>\n",
       "      <td>1.0</td>\n",
       "      <td>0.568310</td>\n",
       "      <td>0</td>\n",
       "      <td>0.820163</td>\n",
       "      <td>0.466107</td>\n",
       "      <td>4.105</td>\n",
       "      <td>3.7306</td>\n",
       "    </tr>\n",
       "    <tr>\n",
       "      <th>2705463</th>\n",
       "      <td>27.703466</td>\n",
       "      <td>0.690627</td>\n",
       "      <td>12</td>\n",
       "      <td>1.0</td>\n",
       "      <td>0.582582</td>\n",
       "      <td>0</td>\n",
       "      <td>0.656616</td>\n",
       "      <td>0.382532</td>\n",
       "      <td>3.685</td>\n",
       "      <td>3.6195</td>\n",
       "    </tr>\n",
       "    <tr>\n",
       "      <th>2774066</th>\n",
       "      <td>21.015764</td>\n",
       "      <td>0.742418</td>\n",
       "      <td>12</td>\n",
       "      <td>1.0</td>\n",
       "      <td>0.531338</td>\n",
       "      <td>0</td>\n",
       "      <td>0.742258</td>\n",
       "      <td>0.394390</td>\n",
       "      <td>3.836</td>\n",
       "      <td>3.3773</td>\n",
       "    </tr>\n",
       "    <tr>\n",
       "      <th>2416370</th>\n",
       "      <td>25.455189</td>\n",
       "      <td>0.471381</td>\n",
       "      <td>12</td>\n",
       "      <td>1.0</td>\n",
       "      <td>0.536056</td>\n",
       "      <td>0</td>\n",
       "      <td>0.650668</td>\n",
       "      <td>0.348794</td>\n",
       "      <td>2.123</td>\n",
       "      <td>3.3735</td>\n",
       "    </tr>\n",
       "  </tbody>\n",
       "</table>\n",
       "</div>"
      ],
      "text/plain": [
       "            RA_ICRS   DE_ICRS  band_num  class  Score_AGN  LOFAR_detect  \\\n",
       "3301527  346.665192  1.148655         9    1.0   0.550975             0   \n",
       "794288    21.752874 -0.766390        12    1.0   0.568310             0   \n",
       "2705463   27.703466  0.690627        12    1.0   0.582582             0   \n",
       "2774066   21.015764  0.742418        12    1.0   0.531338             0   \n",
       "2416370   25.455189  0.471381        12    1.0   0.536056             0   \n",
       "\n",
       "         Score_radio  Score_rAGN      Z  pred_Z  \n",
       "3301527     0.646490    0.356200  3.648  3.8355  \n",
       "794288      0.820163    0.466107  4.105  3.7306  \n",
       "2705463     0.656616    0.382532  3.685  3.6195  \n",
       "2774066     0.742258    0.394390  3.836  3.3773  \n",
       "2416370     0.650668    0.348794  2.123  3.3735  "
      ]
     },
     "metadata": {},
     "output_type": "display_data"
    }
   ],
   "source": [
    "disp_table_known = full_catalog_df.loc[filter_radio_AGN_prob_p, cols_4_table_pred_known].sort_values(by=['pred_Z'], ascending=False).head(5)\n",
    "display(disp_table_known)"
   ]
  },
  {
   "cell_type": "markdown",
   "metadata": {},
   "source": [
    "LaTeX display of same table"
   ]
  },
  {
   "cell_type": "code",
   "execution_count": 68,
   "metadata": {
    "jupyter": {
     "source_hidden": true
    }
   },
   "outputs": [
    {
     "data": {
      "text/plain": [
       "'\\\\begin{tabular}{lrrrrrrrrrr}\\n\\\\toprule\\n{} &     RA\\\\_ICRS &   DE\\\\_ICRS &  band\\\\_num &  class &  Score\\\\_AGN &  LOFAR\\\\_detect &  Score\\\\_radio &  Score\\\\_rAGN &      Z &  pred\\\\_Z \\\\\\\\\\n\\\\midrule\\n3301527 &  346.665192 &  1.148655 &         9 &    1.0 &   0.550975 &             0 &     0.646490 &    0.356200 &  3.648 &  3.8355 \\\\\\\\\\n794288  &   21.752874 & -0.766390 &        12 &    1.0 &   0.568310 &             0 &     0.820163 &    0.466107 &  4.105 &  3.7306 \\\\\\\\\\n2705463 &   27.703466 &  0.690627 &        12 &    1.0 &   0.582582 &             0 &     0.656616 &    0.382532 &  3.685 &  3.6195 \\\\\\\\\\n2774066 &   21.015764 &  0.742418 &        12 &    1.0 &   0.531338 &             0 &     0.742258 &    0.394390 &  3.836 &  3.3773 \\\\\\\\\\n2416370 &   25.455189 &  0.471381 &        12 &    1.0 &   0.536056 &             0 &     0.650668 &    0.348794 &  2.123 &  3.3735 \\\\\\\\\\n\\\\bottomrule\\n\\\\end{tabular}\\n'"
      ]
     },
     "metadata": {},
     "output_type": "display_data"
    }
   ],
   "source": [
    "display(disp_table_known.to_latex())"
   ]
  },
  {
   "cell_type": "markdown",
   "metadata": {},
   "source": [
    "Display properties predicted Radio AGN in unknown sample."
   ]
  },
  {
   "cell_type": "code",
   "execution_count": 69,
   "metadata": {},
   "outputs": [
    {
     "data": {
      "text/html": [
       "<div>\n",
       "<style scoped>\n",
       "    .dataframe tbody tr th:only-of-type {\n",
       "        vertical-align: middle;\n",
       "    }\n",
       "\n",
       "    .dataframe tbody tr th {\n",
       "        vertical-align: top;\n",
       "    }\n",
       "\n",
       "    .dataframe thead th {\n",
       "        text-align: right;\n",
       "    }\n",
       "</style>\n",
       "<table border=\"1\" class=\"dataframe\">\n",
       "  <thead>\n",
       "    <tr style=\"text-align: right;\">\n",
       "      <th></th>\n",
       "      <th>RA_ICRS</th>\n",
       "      <th>DE_ICRS</th>\n",
       "      <th>band_num</th>\n",
       "      <th>Score_AGN</th>\n",
       "      <th>LOFAR_detect</th>\n",
       "      <th>Score_radio</th>\n",
       "      <th>Score_rAGN</th>\n",
       "      <th>pred_Z</th>\n",
       "    </tr>\n",
       "  </thead>\n",
       "  <tbody>\n",
       "    <tr>\n",
       "      <th>772344</th>\n",
       "      <td>340.411560</td>\n",
       "      <td>-0.783064</td>\n",
       "      <td>12</td>\n",
       "      <td>0.523335</td>\n",
       "      <td>0</td>\n",
       "      <td>0.554466</td>\n",
       "      <td>0.290172</td>\n",
       "      <td>3.9941</td>\n",
       "    </tr>\n",
       "    <tr>\n",
       "      <th>865972</th>\n",
       "      <td>346.346527</td>\n",
       "      <td>-0.711693</td>\n",
       "      <td>9</td>\n",
       "      <td>0.518022</td>\n",
       "      <td>0</td>\n",
       "      <td>0.741667</td>\n",
       "      <td>0.384200</td>\n",
       "      <td>3.9157</td>\n",
       "    </tr>\n",
       "    <tr>\n",
       "      <th>1309590</th>\n",
       "      <td>341.742096</td>\n",
       "      <td>-0.378200</td>\n",
       "      <td>12</td>\n",
       "      <td>0.517073</td>\n",
       "      <td>0</td>\n",
       "      <td>0.683843</td>\n",
       "      <td>0.353597</td>\n",
       "      <td>3.8478</td>\n",
       "    </tr>\n",
       "    <tr>\n",
       "      <th>3310072</th>\n",
       "      <td>27.600998</td>\n",
       "      <td>1.155542</td>\n",
       "      <td>12</td>\n",
       "      <td>0.512079</td>\n",
       "      <td>0</td>\n",
       "      <td>0.702817</td>\n",
       "      <td>0.359898</td>\n",
       "      <td>3.7866</td>\n",
       "    </tr>\n",
       "    <tr>\n",
       "      <th>104816</th>\n",
       "      <td>346.087921</td>\n",
       "      <td>-1.306702</td>\n",
       "      <td>9</td>\n",
       "      <td>0.556414</td>\n",
       "      <td>0</td>\n",
       "      <td>0.584661</td>\n",
       "      <td>0.325314</td>\n",
       "      <td>3.6518</td>\n",
       "    </tr>\n",
       "  </tbody>\n",
       "</table>\n",
       "</div>"
      ],
      "text/plain": [
       "            RA_ICRS   DE_ICRS  band_num  Score_AGN  LOFAR_detect  Score_radio  \\\n",
       "772344   340.411560 -0.783064        12   0.523335             0     0.554466   \n",
       "865972   346.346527 -0.711693         9   0.518022             0     0.741667   \n",
       "1309590  341.742096 -0.378200        12   0.517073             0     0.683843   \n",
       "3310072   27.600998  1.155542        12   0.512079             0     0.702817   \n",
       "104816   346.087921 -1.306702         9   0.556414             0     0.584661   \n",
       "\n",
       "         Score_rAGN  pred_Z  \n",
       "772344     0.290172  3.9941  \n",
       "865972     0.384200  3.9157  \n",
       "1309590    0.353597  3.8478  \n",
       "3310072    0.359898  3.7866  \n",
       "104816     0.325314  3.6518  "
      ]
     },
     "metadata": {},
     "output_type": "display_data"
    }
   ],
   "source": [
    "disp_table_unk = unknown_cat_df.loc[filter_radio_AGN_unk_prob_p, cols_4_table_pred_unknown].sort_values(by=['pred_Z'], ascending=False).head(5)\n",
    "display(disp_table_unk)"
   ]
  },
  {
   "cell_type": "markdown",
   "metadata": {},
   "source": [
    "LaTeX display of same table"
   ]
  },
  {
   "cell_type": "code",
   "execution_count": 70,
   "metadata": {
    "jupyter": {
     "source_hidden": true
    }
   },
   "outputs": [
    {
     "data": {
      "text/plain": [
       "'\\\\begin{tabular}{lrrrrrrrr}\\n\\\\toprule\\n{} &     RA\\\\_ICRS &   DE\\\\_ICRS &  band\\\\_num &  Score\\\\_AGN &  LOFAR\\\\_detect &  Score\\\\_radio &  Score\\\\_rAGN &  pred\\\\_Z \\\\\\\\\\n\\\\midrule\\n772344  &  340.411560 & -0.783064 &        12 &   0.523335 &             0 &     0.554466 &    0.290172 &  3.9941 \\\\\\\\\\n865972  &  346.346527 & -0.711693 &         9 &   0.518022 &             0 &     0.741667 &    0.384200 &  3.9157 \\\\\\\\\\n1309590 &  341.742096 & -0.378200 &        12 &   0.517073 &             0 &     0.683843 &    0.353597 &  3.8478 \\\\\\\\\\n3310072 &   27.600998 &  1.155542 &        12 &   0.512079 &             0 &     0.702817 &    0.359898 &  3.7866 \\\\\\\\\\n104816  &  346.087921 & -1.306702 &         9 &   0.556414 &             0 &     0.584661 &    0.325314 &  3.6518 \\\\\\\\\\n\\\\bottomrule\\n\\\\end{tabular}\\n'"
      ]
     },
     "metadata": {},
     "output_type": "display_data"
    }
   ],
   "source": [
    "display(disp_table_unk.to_latex())"
   ]
  },
  {
   "cell_type": "markdown",
   "metadata": {},
   "source": [
    "Confusion matrix for AGN/galaxy prediction on all sources"
   ]
  },
  {
   "cell_type": "code",
   "execution_count": 71,
   "metadata": {
    "jupyter": {
     "source_hidden": true
    },
    "tags": []
   },
   "outputs": [],
   "source": [
    "MCC_AGN              = gf.MCC_from_CM(cm_AGN)\n",
    "ACC_AGN              = gf.ACC_from_CM(cm_AGN)\n",
    "Fb_AGN               = gf.Fb_from_CM(cm_AGN)\n",
    "Precision_AGN        = gf.Precision_from_CM(cm_AGN)\n",
    "Recall_AGN           = gf.Recall_from_CM(cm_AGN)\n",
    "\n",
    "MCC_AGN_prob         = gf.MCC_from_CM(cm_AGN_prob)\n",
    "ACC_AGN_prob         = gf.ACC_from_CM(cm_AGN_prob)\n",
    "Fb_AGN_prob          = gf.Fb_from_CM(cm_AGN_prob)\n",
    "Precision_AGN_prob   = gf.Precision_from_CM(cm_AGN_prob)\n",
    "Recall_AGN_prob      = gf.Recall_from_CM(cm_AGN_prob)"
   ]
  },
  {
   "cell_type": "markdown",
   "metadata": {},
   "source": [
    "Confusion matrix for radio detection prediction on all predicted AGN"
   ]
  },
  {
   "cell_type": "code",
   "execution_count": 72,
   "metadata": {
    "jupyter": {
     "source_hidden": true
    },
    "tags": []
   },
   "outputs": [],
   "source": [
    "MCC_radio            = gf.MCC_from_CM(cm_radio)\n",
    "ACC_radio            = gf.ACC_from_CM(cm_radio)\n",
    "Fb_radio             = gf.Fb_from_CM(cm_radio)\n",
    "Precision_radio      = gf.Precision_from_CM(cm_radio)\n",
    "Recall_radio         = gf.Recall_from_CM(cm_radio)\n",
    "\n",
    "MCC_radio_prob       = gf.MCC_from_CM(cm_radio_prob)\n",
    "ACC_radio_prob       = gf.ACC_from_CM(cm_radio_prob)\n",
    "Fb_radio_prob        = gf.Fb_from_CM(cm_radio_prob)\n",
    "Precision_radio_prob = gf.Precision_from_CM(cm_radio_prob)\n",
    "Recall_radio_prob    = gf.Recall_from_CM(cm_radio_prob)"
   ]
  },
  {
   "cell_type": "markdown",
   "metadata": {},
   "source": [
    "Confusion matrix for radio AGN detection prediction."
   ]
  },
  {
   "cell_type": "code",
   "execution_count": 73,
   "metadata": {
    "jupyter": {
     "source_hidden": true
    },
    "tags": []
   },
   "outputs": [],
   "source": [
    "MCC_radio_AGN            = gf.MCC_from_CM(cm_rAGN)\n",
    "ACC_radio_AGN            = gf.ACC_from_CM(cm_rAGN)\n",
    "Fb_radio_AGN             = gf.Fb_from_CM(cm_rAGN)\n",
    "Precision_radio_AGN      = gf.Precision_from_CM(cm_rAGN)\n",
    "Recall_radio_AGN         = gf.Recall_from_CM(cm_rAGN)\n",
    "\n",
    "MCC_radio_AGN_prob       = gf.MCC_from_CM(cm_rAGN_prob)\n",
    "ACC_radio_AGN_prob       = gf.ACC_from_CM(cm_rAGN_prob)\n",
    "Fb_radio_AGN_prob        = gf.Fb_from_CM(cm_rAGN_prob)\n",
    "Precision_radio_AGN_prob = gf.Precision_from_CM(cm_rAGN_prob)\n",
    "Recall_radio_AGN_prob    = gf.Recall_from_CM(cm_rAGN_prob)"
   ]
  },
  {
   "cell_type": "markdown",
   "metadata": {},
   "source": [
    "Join metrics for classification."
   ]
  },
  {
   "cell_type": "code",
   "execution_count": 74,
   "metadata": {
    "jupyter": {
     "source_hidden": true
    }
   },
   "outputs": [],
   "source": [
    "metrics_classif      = np.array([[np.sum(filter_known_spec), Fb_AGN,       MCC_AGN,       Precision_AGN,       Recall_AGN,       ACC_AGN],\\\n",
    "                                 [np.sum(filter_AGN_p),      Fb_radio,     MCC_radio,     Precision_radio,     Recall_radio,     ACC_radio],\\\n",
    "                                 [np.sum(filter_known_spec), Fb_radio_AGN, MCC_radio_AGN, Precision_radio_AGN, Recall_radio_AGN, ACC_radio_AGN]])\n",
    "metrics_classif_df   = pd.DataFrame(data=metrics_classif, columns=['Sample', 'F-\\u03B2', 'MCC', 'Precision', 'Recall', 'Accuracy'],\\\n",
    "                                    index=['AGN/Galaxy', 'Radio', 'Radio AGN'])\n",
    "\n",
    "metrics_classif_prob      = np.array([[np.sum(filter_known_spec), Fb_AGN_prob,       MCC_AGN_prob,       Precision_AGN_prob,       Recall_AGN_prob,       ACC_AGN_prob],\\\n",
    "                                      [np.sum(filter_AGN_prob_p), Fb_radio_prob,     MCC_radio_prob,     Precision_radio_prob,     Recall_radio_prob,     ACC_radio_prob],\\\n",
    "                                      [np.sum(filter_known_spec), Fb_radio_AGN_prob, MCC_radio_AGN_prob, Precision_radio_AGN_prob, Recall_radio_AGN_prob, ACC_radio_AGN_prob]])\n",
    "metrics_classif_prob_df   = pd.DataFrame(data=metrics_classif_prob, columns=['Sample', 'F-\\u03B2', 'MCC', 'Precision', 'Recall', 'Accuracy'],\\\n",
    "                                    index=['AGN/Galaxy', 'Radio', 'Radio AGN'])"
   ]
  },
  {
   "cell_type": "markdown",
   "metadata": {},
   "source": [
    "Join metrics for regression."
   ]
  },
  {
   "cell_type": "code",
   "execution_count": 75,
   "metadata": {
    "jupyter": {
     "source_hidden": true
    }
   },
   "outputs": [],
   "source": [
    "size_rAGN    = np.sum(filter_radio_AGN_p)\n",
    "size_rAGN_hz = np.sum(filter_radio_AGN_p * np.array(full_catalog_df.loc[:, 'pred_Z'] >= gv.high_z_limit))\n",
    "metrics_z    = np.array([[size_rAGN, sigma_mad_early, sigma_nmad_early, sigma_z_early, sigma_z_norm_early, out_frac_early],\\\n",
    "                         [size_rAGN, sigma_mad_field, sigma_nmad_field, sigma_z_field, sigma_z_norm_field, out_frac_field],\\\n",
    "                         [size_rAGN_hz, sigma_mad_early_hiz, sigma_nmad_early_hiz, sigma_z_early_hiz, sigma_z_norm_early_hiz, out_frac_early_hiz],\\\n",
    "                         [size_rAGN_hz, sigma_mad_field_hiz, sigma_nmad_field_hiz, sigma_z_field_hiz, sigma_z_norm_field_hiz, out_frac_field_hiz]])\n",
    "metrics_z_df = pd.DataFrame(data=metrics_z,\\\n",
    "                            columns=['Sample', '\\u03C3 MAD', '\\u03C3 NMAD', '\\u03C3 z', '\\u03C3 z N', '\\u03B7'],\\\n",
    "                            index=['First model only', 'Two models', 'First model high z', 'Second model high z'])\n",
    "\n",
    "size_rAGN_prob    = np.sum(filter_radio_AGN_prob_p)\n",
    "size_rAGN_prob_hz = np.sum(filter_radio_AGN_prob_p * np.array(full_catalog_df.loc[:, 'pred_Z'] >= gv.high_z_limit))\n",
    "metrics_z_prob    = np.array([[size_rAGN_prob, sigma_mad_prob_early, sigma_nmad_prob_early, sigma_z_prob_early,\\\n",
    "                               sigma_z_norm_prob_early, out_frac_prob_early],\\\n",
    "                         [size_rAGN_prob, sigma_mad_prob_field, sigma_nmad_prob_field, sigma_z_prob_field,\\\n",
    "                          sigma_z_norm_prob_field, out_frac_prob_field],\\\n",
    "                         [size_rAGN_prob_hz, sigma_mad_prob_early_hiz, sigma_nmad_prob_early_hiz, sigma_z_prob_early_hiz,\\\n",
    "                          sigma_z_norm_prob_early_hiz, out_frac_prob_early_hiz],\\\n",
    "                         [size_rAGN_prob_hz, sigma_mad_prob_field_hiz, sigma_nmad_prob_field_hiz, sigma_z_prob_field_hiz,\\\n",
    "                          sigma_z_norm_prob_field_hiz, out_frac_prob_field_hiz]])\n",
    "metrics_z_prob_df = pd.DataFrame(data=metrics_z_prob,\\\n",
    "                            columns=['Sample', '\\u03C3 MAD', '\\u03C3 NMAD', '\\u03C3 z', '\\u03C3 z N', '\\u03B7'],\\\n",
    "                            index=['First model only', 'Two models', 'First model high z', 'Second model high z'])"
   ]
  },
  {
   "cell_type": "markdown",
   "metadata": {},
   "source": [
    "Print metrics"
   ]
  },
  {
   "cell_type": "code",
   "execution_count": 76,
   "metadata": {
    "jupyter": {
     "source_hidden": true
    }
   },
   "outputs": [
    {
     "name": "stdout",
     "output_type": "stream",
     "text": [
      "Metrics for classification steps along the pipeline using scores to obtain classes.\n"
     ]
    },
    {
     "data": {
      "text/html": [
       "<div>\n",
       "<style scoped>\n",
       "    .dataframe tbody tr th:only-of-type {\n",
       "        vertical-align: middle;\n",
       "    }\n",
       "\n",
       "    .dataframe tbody tr th {\n",
       "        vertical-align: top;\n",
       "    }\n",
       "\n",
       "    .dataframe thead th {\n",
       "        text-align: right;\n",
       "    }\n",
       "</style>\n",
       "<table border=\"1\" class=\"dataframe\">\n",
       "  <thead>\n",
       "    <tr style=\"text-align: right;\">\n",
       "      <th></th>\n",
       "      <th>Sample</th>\n",
       "      <th>F-β</th>\n",
       "      <th>MCC</th>\n",
       "      <th>Precision</th>\n",
       "      <th>Recall</th>\n",
       "    </tr>\n",
       "  </thead>\n",
       "  <tbody>\n",
       "    <tr>\n",
       "      <th>AGN/Galaxy</th>\n",
       "      <td>25689</td>\n",
       "      <td>0.9248</td>\n",
       "      <td>0.7186</td>\n",
       "      <td>0.9744</td>\n",
       "      <td>0.8875</td>\n",
       "    </tr>\n",
       "    <tr>\n",
       "      <th>Radio</th>\n",
       "      <td>18630</td>\n",
       "      <td>0.2700</td>\n",
       "      <td>0.2316</td>\n",
       "      <td>0.2144</td>\n",
       "      <td>0.3437</td>\n",
       "    </tr>\n",
       "    <tr>\n",
       "      <th>Radio AGN</th>\n",
       "      <td>25689</td>\n",
       "      <td>0.2421</td>\n",
       "      <td>0.2081</td>\n",
       "      <td>0.2104</td>\n",
       "      <td>0.2766</td>\n",
       "    </tr>\n",
       "  </tbody>\n",
       "</table>\n",
       "</div>"
      ],
      "text/plain": [
       "            Sample    F-β    MCC  Precision  Recall\n",
       "AGN/Galaxy   25689 0.9248 0.7186     0.9744  0.8875\n",
       "Radio        18630 0.2700 0.2316     0.2144  0.3437\n",
       "Radio AGN    25689 0.2421 0.2081     0.2104  0.2766"
      ]
     },
     "metadata": {},
     "output_type": "display_data"
    }
   ],
   "source": [
    "print('Metrics for classification steps along the pipeline using scores to obtain classes.')\n",
    "metrics_classif_df.loc[:, 'Sample'] = metrics_classif_df.loc[:, 'Sample'].astype(int)\n",
    "with pd.option_context('display.float_format', '{:.4f}'.format):\n",
    "    display(metrics_classif_df.drop(columns=['Accuracy']))"
   ]
  },
  {
   "cell_type": "code",
   "execution_count": 77,
   "metadata": {
    "jupyter": {
     "source_hidden": true
    }
   },
   "outputs": [
    {
     "name": "stdout",
     "output_type": "stream",
     "text": [
      "Metrics for classification steps along the pipeline using probabilities to obtain classes.\n"
     ]
    },
    {
     "data": {
      "text/html": [
       "<div>\n",
       "<style scoped>\n",
       "    .dataframe tbody tr th:only-of-type {\n",
       "        vertical-align: middle;\n",
       "    }\n",
       "\n",
       "    .dataframe tbody tr th {\n",
       "        vertical-align: top;\n",
       "    }\n",
       "\n",
       "    .dataframe thead th {\n",
       "        text-align: right;\n",
       "    }\n",
       "</style>\n",
       "<table border=\"1\" class=\"dataframe\">\n",
       "  <thead>\n",
       "    <tr style=\"text-align: right;\">\n",
       "      <th></th>\n",
       "      <th>Sample</th>\n",
       "      <th>F-β</th>\n",
       "      <th>MCC</th>\n",
       "      <th>Precision</th>\n",
       "      <th>Recall</th>\n",
       "    </tr>\n",
       "  </thead>\n",
       "  <tbody>\n",
       "    <tr>\n",
       "      <th>AGN/Galaxy</th>\n",
       "      <td>25689</td>\n",
       "      <td>0.9254</td>\n",
       "      <td>0.7183</td>\n",
       "      <td>0.9734</td>\n",
       "      <td>0.8893</td>\n",
       "    </tr>\n",
       "    <tr>\n",
       "      <th>Radio</th>\n",
       "      <td>18689</td>\n",
       "      <td>0.2859</td>\n",
       "      <td>0.2485</td>\n",
       "      <td>0.2402</td>\n",
       "      <td>0.3393</td>\n",
       "    </tr>\n",
       "    <tr>\n",
       "      <th>Radio AGN</th>\n",
       "      <td>25689</td>\n",
       "      <td>0.2569</td>\n",
       "      <td>0.2252</td>\n",
       "      <td>0.2366</td>\n",
       "      <td>0.2766</td>\n",
       "    </tr>\n",
       "  </tbody>\n",
       "</table>\n",
       "</div>"
      ],
      "text/plain": [
       "            Sample    F-β    MCC  Precision  Recall\n",
       "AGN/Galaxy   25689 0.9254 0.7183     0.9734  0.8893\n",
       "Radio        18689 0.2859 0.2485     0.2402  0.3393\n",
       "Radio AGN    25689 0.2569 0.2252     0.2366  0.2766"
      ]
     },
     "metadata": {},
     "output_type": "display_data"
    }
   ],
   "source": [
    "print('Metrics for classification steps along the pipeline using probabilities to obtain classes.')\n",
    "metrics_classif_prob_df.loc[:, 'Sample'] = metrics_classif_prob_df.loc[:, 'Sample'].astype(int)\n",
    "with pd.option_context('display.float_format', '{:.4f}'.format):\n",
    "    display(metrics_classif_prob_df.drop(columns=['Accuracy']))"
   ]
  },
  {
   "cell_type": "code",
   "execution_count": 78,
   "metadata": {
    "jupyter": {
     "source_hidden": true
    }
   },
   "outputs": [
    {
     "name": "stdout",
     "output_type": "stream",
     "text": [
      "Metrics for redshift predictions for sources predicted to be Radio AGN by scores\n"
     ]
    },
    {
     "data": {
      "text/html": [
       "<div>\n",
       "<style scoped>\n",
       "    .dataframe tbody tr th:only-of-type {\n",
       "        vertical-align: middle;\n",
       "    }\n",
       "\n",
       "    .dataframe tbody tr th {\n",
       "        vertical-align: top;\n",
       "    }\n",
       "\n",
       "    .dataframe thead th {\n",
       "        text-align: right;\n",
       "    }\n",
       "</style>\n",
       "<table border=\"1\" class=\"dataframe\">\n",
       "  <thead>\n",
       "    <tr style=\"text-align: right;\">\n",
       "      <th></th>\n",
       "      <th>Sample</th>\n",
       "      <th>σ MAD</th>\n",
       "      <th>σ NMAD</th>\n",
       "      <th>σ z</th>\n",
       "      <th>σ z N</th>\n",
       "      <th>η</th>\n",
       "    </tr>\n",
       "  </thead>\n",
       "  <tbody>\n",
       "    <tr>\n",
       "      <th>First model only</th>\n",
       "      <td>1236</td>\n",
       "      <td>0.1424</td>\n",
       "      <td>0.0792</td>\n",
       "      <td>0.4252</td>\n",
       "      <td>0.2188</td>\n",
       "      <td>0.2330</td>\n",
       "    </tr>\n",
       "    <tr>\n",
       "      <th>Two models</th>\n",
       "      <td>1236</td>\n",
       "      <td>0.1424</td>\n",
       "      <td>0.0792</td>\n",
       "      <td>0.4252</td>\n",
       "      <td>0.2188</td>\n",
       "      <td>0.2330</td>\n",
       "    </tr>\n",
       "    <tr>\n",
       "      <th>First model high z</th>\n",
       "      <td>101</td>\n",
       "      <td>0.3139</td>\n",
       "      <td>0.0945</td>\n",
       "      <td>0.6212</td>\n",
       "      <td>0.3526</td>\n",
       "      <td>0.2376</td>\n",
       "    </tr>\n",
       "    <tr>\n",
       "      <th>Second model high z</th>\n",
       "      <td>101</td>\n",
       "      <td>0.3139</td>\n",
       "      <td>0.0945</td>\n",
       "      <td>0.6212</td>\n",
       "      <td>0.3526</td>\n",
       "      <td>0.2376</td>\n",
       "    </tr>\n",
       "  </tbody>\n",
       "</table>\n",
       "</div>"
      ],
      "text/plain": [
       "                     Sample  σ MAD  σ NMAD    σ z  σ z N      η\n",
       "First model only       1236 0.1424  0.0792 0.4252 0.2188 0.2330\n",
       "Two models             1236 0.1424  0.0792 0.4252 0.2188 0.2330\n",
       "First model high z      101 0.3139  0.0945 0.6212 0.3526 0.2376\n",
       "Second model high z     101 0.3139  0.0945 0.6212 0.3526 0.2376"
      ]
     },
     "metadata": {},
     "output_type": "display_data"
    }
   ],
   "source": [
    "print('Metrics for redshift predictions for sources predicted to be Radio AGN by scores')\n",
    "metrics_z_df.loc[:, 'Sample'] = metrics_z_df.loc[:, 'Sample'].astype(int)\n",
    "with pd.option_context('display.float_format', '{:.4f}'.format):\n",
    "    display(metrics_z_df)"
   ]
  },
  {
   "cell_type": "code",
   "execution_count": 79,
   "metadata": {
    "jupyter": {
     "source_hidden": true
    }
   },
   "outputs": [
    {
     "name": "stdout",
     "output_type": "stream",
     "text": [
      "Metrics for redshift predictions for sources predicted to be Radio AGN by probabilities\n"
     ]
    },
    {
     "data": {
      "text/html": [
       "<div>\n",
       "<style scoped>\n",
       "    .dataframe tbody tr th:only-of-type {\n",
       "        vertical-align: middle;\n",
       "    }\n",
       "\n",
       "    .dataframe tbody tr th {\n",
       "        vertical-align: top;\n",
       "    }\n",
       "\n",
       "    .dataframe thead th {\n",
       "        text-align: right;\n",
       "    }\n",
       "</style>\n",
       "<table border=\"1\" class=\"dataframe\">\n",
       "  <thead>\n",
       "    <tr style=\"text-align: right;\">\n",
       "      <th></th>\n",
       "      <th>Sample</th>\n",
       "      <th>σ MAD</th>\n",
       "      <th>σ NMAD</th>\n",
       "      <th>σ z</th>\n",
       "      <th>σ z N</th>\n",
       "      <th>η</th>\n",
       "    </tr>\n",
       "  </thead>\n",
       "  <tbody>\n",
       "    <tr>\n",
       "      <th>First model only</th>\n",
       "      <td>1099</td>\n",
       "      <td>0.1376</td>\n",
       "      <td>0.0778</td>\n",
       "      <td>0.4303</td>\n",
       "      <td>0.2208</td>\n",
       "      <td>0.2311</td>\n",
       "    </tr>\n",
       "    <tr>\n",
       "      <th>Two models</th>\n",
       "      <td>1099</td>\n",
       "      <td>0.1376</td>\n",
       "      <td>0.0778</td>\n",
       "      <td>0.4303</td>\n",
       "      <td>0.2208</td>\n",
       "      <td>0.2311</td>\n",
       "    </tr>\n",
       "    <tr>\n",
       "      <th>First model high z</th>\n",
       "      <td>82</td>\n",
       "      <td>0.3472</td>\n",
       "      <td>0.1090</td>\n",
       "      <td>0.6679</td>\n",
       "      <td>0.3915</td>\n",
       "      <td>0.2561</td>\n",
       "    </tr>\n",
       "    <tr>\n",
       "      <th>Second model high z</th>\n",
       "      <td>82</td>\n",
       "      <td>0.3472</td>\n",
       "      <td>0.1090</td>\n",
       "      <td>0.6679</td>\n",
       "      <td>0.3915</td>\n",
       "      <td>0.2561</td>\n",
       "    </tr>\n",
       "  </tbody>\n",
       "</table>\n",
       "</div>"
      ],
      "text/plain": [
       "                     Sample  σ MAD  σ NMAD    σ z  σ z N      η\n",
       "First model only       1099 0.1376  0.0778 0.4303 0.2208 0.2311\n",
       "Two models             1099 0.1376  0.0778 0.4303 0.2208 0.2311\n",
       "First model high z       82 0.3472  0.1090 0.6679 0.3915 0.2561\n",
       "Second model high z      82 0.3472  0.1090 0.6679 0.3915 0.2561"
      ]
     },
     "metadata": {},
     "output_type": "display_data"
    }
   ],
   "source": [
    "print('Metrics for redshift predictions for sources predicted to be Radio AGN by probabilities')\n",
    "metrics_z_prob_df.loc[:, 'Sample'] = metrics_z_prob_df.loc[:, 'Sample'].astype(int)\n",
    "with pd.option_context('display.float_format', '{:.4f}'.format):\n",
    "    display(metrics_z_prob_df)"
   ]
  },
  {
   "cell_type": "markdown",
   "metadata": {},
   "source": [
    "## Plot predictions"
   ]
  },
  {
   "cell_type": "markdown",
   "metadata": {},
   "source": [
    "### Classifications based on scores"
   ]
  },
  {
   "cell_type": "code",
   "execution_count": 80,
   "metadata": {
    "jupyter": {
     "source_hidden": true
    },
    "tags": []
   },
   "outputs": [
    {
     "data": {
      "image/png": "[encoded data removed]",
      "text/plain": [
       "<Figure size 600x500 with 1 Axes>"
      ]
     },
     "metadata": {},
     "output_type": "display_data"
    }
   ],
   "source": [
    "fig             = plt.figure(figsize=(6,5))\n",
    "ax1             = fig.add_subplot(111)\n",
    "ax1 = gf.plot_conf_mat(cm_AGN, title=used_area, axin=ax1, display_labels=['Galaxy', 'AGN'], log_stretch=False)\n",
    "ax1.texts[3].set_color('white')\n",
    "if save_plot_flag:\n",
    "    plt.savefig(gv.plots_path + f'conf_matrix_AGN_naive_{used_area}.pdf', bbox_inches='tight')\n",
    "plt.show()"
   ]
  },
  {
   "cell_type": "code",
   "execution_count": 81,
   "metadata": {
    "jupyter": {
     "source_hidden": true
    },
    "tags": []
   },
   "outputs": [
    {
     "data": {
      "image/png": "[encoded data removed]",
      "text/plain": [
       "<Figure size 600x500 with 1 Axes>"
      ]
     },
     "metadata": {},
     "output_type": "display_data"
    }
   ],
   "source": [
    "fig             = plt.figure(figsize=(6,5))\n",
    "ax1             = fig.add_subplot(111)\n",
    "_ = gf.plot_conf_mat(cm_radio, title=used_area, axin=ax1, display_labels=['No\\nRadio', 'Radio'], log_stretch=False)\n",
    "if save_plot_flag:\n",
    "    plt.savefig(gv.plots_path + f'conf_matrix_radio_naive_{used_area}.pdf', bbox_inches='tight')\n",
    "plt.show()"
   ]
  },
  {
   "cell_type": "code",
   "execution_count": 82,
   "metadata": {
    "jupyter": {
     "source_hidden": true
    },
    "tags": []
   },
   "outputs": [
    {
     "data": {
      "image/png": "[encoded data removed]",
      "text/plain": [
       "<Figure size 600x500 with 1 Axes>"
      ]
     },
     "metadata": {},
     "output_type": "display_data"
    }
   ],
   "source": [
    "fig             = plt.figure(figsize=(6,5))\n",
    "ax1             = fig.add_subplot(111)\n",
    "_ = gf.plot_conf_mat(cm_rAGN, title=used_area, axin=ax1, display_labels=['No\\nRadio AGN', 'Radio AGN'], log_stretch=False)\n",
    "if save_plot_flag:\n",
    "    plt.savefig(gv.plots_path + f'conf_matrix_radio_AGN_naive_{used_area}.pdf', bbox_inches='tight')\n",
    "plt.show()"
   ]
  },
  {
   "cell_type": "markdown",
   "metadata": {},
   "source": [
    "### Classifications based on probabilities"
   ]
  },
  {
   "cell_type": "code",
   "execution_count": 83,
   "metadata": {
    "jupyter": {
     "source_hidden": true
    },
    "tags": []
   },
   "outputs": [
    {
     "data": {
      "image/png": "[encoded data removed]",
      "text/plain": [
       "<Figure size 600x500 with 1 Axes>"
      ]
     },
     "metadata": {},
     "output_type": "display_data"
    }
   ],
   "source": [
    "fig             = plt.figure(figsize=(6,5))\n",
    "ax1             = fig.add_subplot(111)\n",
    "ax1 = gf.plot_conf_mat(cm_AGN_prob, title=used_area, axin=ax1, display_labels=['Galaxy', 'AGN'], log_stretch=False)\n",
    "ax1.texts[3].set_color('white')\n",
    "if save_plot_flag:\n",
    "    plt.savefig(gv.plots_path + f'conf_matrix_AGN_prob_naive_{used_area}.pdf', bbox_inches='tight')\n",
    "plt.show()"
   ]
  },
  {
   "cell_type": "code",
   "execution_count": 84,
   "metadata": {
    "jupyter": {
     "source_hidden": true
    },
    "tags": []
   },
   "outputs": [
    {
     "data": {
      "image/png": "[encoded data removed]",
      "text/plain": [
       "<Figure size 600x500 with 1 Axes>"
      ]
     },
     "metadata": {},
     "output_type": "display_data"
    }
   ],
   "source": [
    "fig             = plt.figure(figsize=(6,5))\n",
    "ax1             = fig.add_subplot(111)\n",
    "_ = gf.plot_conf_mat(cm_radio_prob, title=used_area, axin=ax1, display_labels=['No\\nRadio', 'Radio'], log_stretch=False)\n",
    "if save_plot_flag:\n",
    "    plt.savefig(gv.plots_path + f'conf_matrix_radio_prob_naive_{used_area}.pdf', bbox_inches='tight')\n",
    "plt.show()"
   ]
  },
  {
   "cell_type": "code",
   "execution_count": 85,
   "metadata": {
    "jupyter": {
     "source_hidden": true
    },
    "tags": []
   },
   "outputs": [
    {
     "data": {
      "image/png": "[encoded data removed]",
      "text/plain": [
       "<Figure size 600x500 with 1 Axes>"
      ]
     },
     "metadata": {},
     "output_type": "display_data"
    }
   ],
   "source": [
    "fig             = plt.figure(figsize=(6,5))\n",
    "ax1             = fig.add_subplot(111)\n",
    "_ = gf.plot_conf_mat(cm_rAGN_prob, title=used_area, axin=ax1, display_labels=['No\\nRadio AGN', 'Radio AGN'], log_stretch=False)\n",
    "if save_plot_flag:\n",
    "    plt.savefig(gv.plots_path + f'conf_matrix_radio_AGN_prob_naive_{used_area}.pdf', bbox_inches='tight')\n",
    "plt.show()"
   ]
  },
  {
   "cell_type": "markdown",
   "metadata": {},
   "source": [
    "### Regression from sources by scores"
   ]
  },
  {
   "cell_type": "code",
   "execution_count": 86,
   "metadata": {
    "jupyter": {
     "source_hidden": true
    },
    "tags": []
   },
   "outputs": [
    {
     "data": {
      "image/png": "[encoded data removed]",
      "text/plain": [
       "<Figure size 680x530 with 3 Axes>"
      ]
     },
     "metadata": {},
     "output_type": "display_data"
    }
   ],
   "source": [
    "fig             = plt.figure(figsize=(6.8,5.3))\n",
    "ax1             = fig.add_subplot(111, projection='scatter_density', xscale='log', yscale='log')\n",
    "_ = gf.plot_redshift_compare(full_catalog_df.loc[filter_radio_AGN_p, 'Z'], full_catalog_df.loc[filter_radio_AGN_p, 'pred_Z'],\\\n",
    "                      ax_pre=ax1, title=None, dpi=10, show_clb=True, log_stretch=False)\n",
    "\n",
    "if save_plot_flag:\n",
    "    plt.savefig(gv.plots_path + f'compare_redshift_naive_{used_area}.pdf', bbox_inches='tight')\n",
    "plt.show()"
   ]
  },
  {
   "cell_type": "markdown",
   "metadata": {},
   "source": [
    "### Regression from sources by probabilities"
   ]
  },
  {
   "cell_type": "code",
   "execution_count": 87,
   "metadata": {
    "jupyter": {
     "source_hidden": true
    },
    "tags": []
   },
   "outputs": [
    {
     "data": {
      "image/png": "[encoded data removed]",
      "text/plain": [
       "<Figure size 680x530 with 3 Axes>"
      ]
     },
     "metadata": {},
     "output_type": "display_data"
    }
   ],
   "source": [
    "fig             = plt.figure(figsize=(6.8,5.3))\n",
    "ax1             = fig.add_subplot(111, projection='scatter_density', xscale='log', yscale='log')\n",
    "_ = gf.plot_redshift_compare(full_catalog_df.loc[filter_radio_AGN_prob_p, 'Z'], full_catalog_df.loc[filter_radio_AGN_prob_p, 'pred_Z'],\\\n",
    "                      ax_pre=ax1, title=None, dpi=10, show_clb=True, log_stretch=False)\n",
    "\n",
    "if save_plot_flag:\n",
    "    plt.savefig(gv.plots_path + f'compare_redshift_prob_naive_{used_area}.pdf', bbox_inches='tight')\n",
    "plt.show()"
   ]
  },
  {
   "cell_type": "markdown",
   "metadata": {},
   "source": [
    "### Results from unknown sources"
   ]
  },
  {
   "cell_type": "code",
   "execution_count": 88,
   "metadata": {
    "jupyter": {
     "source_hidden": true
    }
   },
   "outputs": [],
   "source": [
    "unk_summary_AGN_gal                   = unknown_cat_df.loc[:, 'Score_AGN'].groupby(unknown_cat_df.loc[:, 'pred_class']).describe()\n",
    "unk_summary_AGN_gal_probs             = unknown_cat_df.loc[:, 'Prob_AGN'].groupby(unknown_cat_df.loc[:, 'pred_class_cal']).describe()\n",
    "unk_summary_radio                     = unknown_cat_df.loc[filter_AGN_unk_p,\n",
    "                                                         'Score_radio'].groupby(unknown_cat_df.loc[filter_AGN_unk_p,\n",
    "                                                                                                   'pred_radio']).describe()\n",
    "unk_summary_radio_probs               = unknown_cat_df.loc[filter_AGN_unk_prob_p,\n",
    "                                                         'Prob_radio'].groupby(unknown_cat_df.loc[filter_AGN_unk_prob_p,\n",
    "                                                                                                   'pred_radio_cal']).describe()\n",
    "unk_summary_z                         = unknown_cat_df.loc[filter_radio_AGN_unk_p, 'pred_Z'].describe()\n",
    "unk_summary_z_probs                   = unknown_cat_df.loc[filter_radio_AGN_unk_prob_p, 'pred_Z'].describe()\n",
    "unk_summary_AGN_radio                 = pd.concat([unk_summary_AGN_gal, unk_summary_AGN_gal_probs, unk_summary_radio, unk_summary_radio_probs])\n",
    "unk_summary_AGN_radio['Prediction']   = ['Galaxy', 'AGN', 'Galaxy (prob)', 'AGN (prob)', 'No radio', 'Radio', 'No radio (prob)', 'Radio (prob)']\n",
    "unk_summary_AGN_radio                 = unk_summary_AGN_radio.set_index('Prediction', drop=True)\n",
    "unk_summary_AGN_radio.loc['Z']        = unk_summary_z\n",
    "unk_summary_AGN_radio.loc['Z (prob)'] = unk_summary_z_probs"
   ]
  },
  {
   "cell_type": "code",
   "execution_count": 89,
   "metadata": {
    "jupyter": {
     "source_hidden": true
    }
   },
   "outputs": [
    {
     "data": {
      "text/html": [
       "<div>\n",
       "<style scoped>\n",
       "    .dataframe tbody tr th:only-of-type {\n",
       "        vertical-align: middle;\n",
       "    }\n",
       "\n",
       "    .dataframe tbody tr th {\n",
       "        vertical-align: top;\n",
       "    }\n",
       "\n",
       "    .dataframe thead th {\n",
       "        text-align: right;\n",
       "    }\n",
       "</style>\n",
       "<table border=\"1\" class=\"dataframe\">\n",
       "  <thead>\n",
       "    <tr style=\"text-align: right;\">\n",
       "      <th></th>\n",
       "      <th>count</th>\n",
       "      <th>mean</th>\n",
       "      <th>std</th>\n",
       "      <th>min</th>\n",
       "      <th>25%</th>\n",
       "      <th>50%</th>\n",
       "      <th>75%</th>\n",
       "      <th>max</th>\n",
       "    </tr>\n",
       "    <tr>\n",
       "      <th>Prediction</th>\n",
       "      <th></th>\n",
       "      <th></th>\n",
       "      <th></th>\n",
       "      <th></th>\n",
       "      <th></th>\n",
       "      <th></th>\n",
       "      <th></th>\n",
       "      <th></th>\n",
       "    </tr>\n",
       "  </thead>\n",
       "  <tbody>\n",
       "    <tr>\n",
       "      <th>Galaxy</th>\n",
       "      <td>3207467</td>\n",
       "      <td>0.44939</td>\n",
       "      <td>0.03573</td>\n",
       "      <td>0.38465</td>\n",
       "      <td>0.41316</td>\n",
       "      <td>0.47150</td>\n",
       "      <td>0.47963</td>\n",
       "      <td>0.50000</td>\n",
       "    </tr>\n",
       "    <tr>\n",
       "      <th>AGN</th>\n",
       "      <td>357150</td>\n",
       "      <td>0.53596</td>\n",
       "      <td>0.02768</td>\n",
       "      <td>0.50000</td>\n",
       "      <td>0.51080</td>\n",
       "      <td>0.53091</td>\n",
       "      <td>0.55514</td>\n",
       "      <td>0.60235</td>\n",
       "    </tr>\n",
       "    <tr>\n",
       "      <th>Galaxy (prob)</th>\n",
       "      <td>3188178</td>\n",
       "      <td>0.18945</td>\n",
       "      <td>0.14353</td>\n",
       "      <td>0.00755</td>\n",
       "      <td>0.02671</td>\n",
       "      <td>0.24343</td>\n",
       "      <td>0.32006</td>\n",
       "      <td>0.50000</td>\n",
       "    </tr>\n",
       "    <tr>\n",
       "      <th>AGN (prob)</th>\n",
       "      <td>376439</td>\n",
       "      <td>0.76148</td>\n",
       "      <td>0.15567</td>\n",
       "      <td>0.50001</td>\n",
       "      <td>0.60482</td>\n",
       "      <td>0.78452</td>\n",
       "      <td>0.90370</td>\n",
       "      <td>0.98580</td>\n",
       "    </tr>\n",
       "    <tr>\n",
       "      <th>No radio</th>\n",
       "      <td>342025</td>\n",
       "      <td>0.07169</td>\n",
       "      <td>0.08836</td>\n",
       "      <td>0.00241</td>\n",
       "      <td>0.02409</td>\n",
       "      <td>0.03533</td>\n",
       "      <td>0.07360</td>\n",
       "      <td>0.49998</td>\n",
       "    </tr>\n",
       "    <tr>\n",
       "      <th>Radio</th>\n",
       "      <td>15125</td>\n",
       "      <td>0.66391</td>\n",
       "      <td>0.11873</td>\n",
       "      <td>0.50000</td>\n",
       "      <td>0.56479</td>\n",
       "      <td>0.64225</td>\n",
       "      <td>0.74281</td>\n",
       "      <td>0.98938</td>\n",
       "    </tr>\n",
       "    <tr>\n",
       "      <th>No radio (prob)</th>\n",
       "      <td>362684</td>\n",
       "      <td>0.08450</td>\n",
       "      <td>0.09359</td>\n",
       "      <td>0.00338</td>\n",
       "      <td>0.03123</td>\n",
       "      <td>0.04499</td>\n",
       "      <td>0.09100</td>\n",
       "      <td>0.49998</td>\n",
       "    </tr>\n",
       "    <tr>\n",
       "      <th>Radio (prob)</th>\n",
       "      <td>13755</td>\n",
       "      <td>0.61688</td>\n",
       "      <td>0.08955</td>\n",
       "      <td>0.50002</td>\n",
       "      <td>0.54392</td>\n",
       "      <td>0.59831</td>\n",
       "      <td>0.66920</td>\n",
       "      <td>0.93361</td>\n",
       "    </tr>\n",
       "    <tr>\n",
       "      <th>Z</th>\n",
       "      <td>15125</td>\n",
       "      <td>1.74402</td>\n",
       "      <td>0.82240</td>\n",
       "      <td>0.01980</td>\n",
       "      <td>1.20570</td>\n",
       "      <td>1.74340</td>\n",
       "      <td>2.33010</td>\n",
       "      <td>3.99410</td>\n",
       "    </tr>\n",
       "    <tr>\n",
       "      <th>Z (prob)</th>\n",
       "      <td>13755</td>\n",
       "      <td>1.70391</td>\n",
       "      <td>0.81905</td>\n",
       "      <td>0.01980</td>\n",
       "      <td>1.12590</td>\n",
       "      <td>1.72220</td>\n",
       "      <td>2.12245</td>\n",
       "      <td>3.99410</td>\n",
       "    </tr>\n",
       "  </tbody>\n",
       "</table>\n",
       "</div>"
      ],
      "text/plain": [
       "                   count    mean     std     min     25%     50%     75%  \\\n",
       "Prediction                                                                 \n",
       "Galaxy           3207467 0.44939 0.03573 0.38465 0.41316 0.47150 0.47963   \n",
       "AGN               357150 0.53596 0.02768 0.50000 0.51080 0.53091 0.55514   \n",
       "Galaxy (prob)    3188178 0.18945 0.14353 0.00755 0.02671 0.24343 0.32006   \n",
       "AGN (prob)        376439 0.76148 0.15567 0.50001 0.60482 0.78452 0.90370   \n",
       "No radio          342025 0.07169 0.08836 0.00241 0.02409 0.03533 0.07360   \n",
       "Radio              15125 0.66391 0.11873 0.50000 0.56479 0.64225 0.74281   \n",
       "No radio (prob)   362684 0.08450 0.09359 0.00338 0.03123 0.04499 0.09100   \n",
       "Radio (prob)       13755 0.61688 0.08955 0.50002 0.54392 0.59831 0.66920   \n",
       "Z                  15125 1.74402 0.82240 0.01980 1.20570 1.74340 2.33010   \n",
       "Z (prob)           13755 1.70391 0.81905 0.01980 1.12590 1.72220 2.12245   \n",
       "\n",
       "                    max  \n",
       "Prediction               \n",
       "Galaxy          0.50000  \n",
       "AGN             0.60235  \n",
       "Galaxy (prob)   0.50000  \n",
       "AGN (prob)      0.98580  \n",
       "No radio        0.49998  \n",
       "Radio           0.98938  \n",
       "No radio (prob) 0.49998  \n",
       "Radio (prob)    0.93361  \n",
       "Z               3.99410  \n",
       "Z (prob)        3.99410  "
      ]
     },
     "metadata": {},
     "output_type": "display_data"
    }
   ],
   "source": [
    "unk_summary_AGN_radio.loc[:, 'count'] = unk_summary_AGN_radio.loc[:, 'count'].astype(int)\n",
    "with pd.option_context('display.float_format', '{:.5f}'.format):\n",
    "    display(unk_summary_AGN_radio)"
   ]
  },
  {
   "cell_type": "code",
   "execution_count": 90,
   "metadata": {
    "jupyter": {
     "source_hidden": true
    }
   },
   "outputs": [
    {
     "name": "stdout",
     "output_type": "stream",
     "text": [
      "In the unknown sources, there are 14,572 radio detected sources.\n"
     ]
    }
   ],
   "source": [
    "print(f\"In the unknown sources, there are {np.sum(unknown_cat_df.loc[:, 'LOFAR_detect'] == 1):,} radio detected sources.\")"
   ]
  },
  {
   "cell_type": "markdown",
   "metadata": {},
   "source": [
    "#### Same idea for known sample."
   ]
  },
  {
   "cell_type": "code",
   "execution_count": 91,
   "metadata": {
    "jupyter": {
     "source_hidden": true
    }
   },
   "outputs": [],
   "source": [
    "kno_summary_AGN_gal                   = full_catalog_df.loc[:, 'Score_AGN'].groupby(full_catalog_df.loc[:, 'pred_class']).describe()\n",
    "kno_summary_AGN_gal_probs             = full_catalog_df.loc[:, 'Prob_AGN'].groupby(full_catalog_df.loc[:, 'pred_class_cal']).describe()\n",
    "kno_summary_radio                     = full_catalog_df.loc[filter_AGN_p,\n",
    "                                                         'Score_radio'].groupby(full_catalog_df.loc[filter_AGN_p,\n",
    "                                                                                                   'pred_radio']).describe()\n",
    "kno_summary_radio_probs               = full_catalog_df.loc[filter_AGN_prob_p,\n",
    "                                                         'Prob_radio'].groupby(full_catalog_df.loc[filter_AGN_prob_p,\n",
    "                                                                                                   'pred_radio_cal']).describe()\n",
    "kno_summary_z                         = full_catalog_df.loc[filter_radio_AGN_p, 'pred_Z'].describe()\n",
    "kno_summary_z_probs                   = full_catalog_df.loc[filter_radio_AGN_prob_p, 'pred_Z'].describe()\n",
    "kno_summary_AGN_radio                 = pd.concat([kno_summary_AGN_gal, kno_summary_AGN_gal_probs, kno_summary_radio, kno_summary_radio_probs])\n",
    "kno_summary_AGN_radio['Prediction']   = ['Galaxy', 'AGN', 'Galaxy (prob)', 'AGN (prob)', 'No radio', 'Radio', 'No radio (prob)', 'Radio (prob)']\n",
    "kno_summary_AGN_radio                 = kno_summary_AGN_radio.set_index('Prediction', drop=True)\n",
    "kno_summary_AGN_radio.loc['Z']        = kno_summary_z\n",
    "kno_summary_AGN_radio.loc['Z (prob)'] = kno_summary_z_probs"
   ]
  },
  {
   "cell_type": "code",
   "execution_count": 92,
   "metadata": {
    "jupyter": {
     "source_hidden": true
    }
   },
   "outputs": [
    {
     "data": {
      "text/html": [
       "<div>\n",
       "<style scoped>\n",
       "    .dataframe tbody tr th:only-of-type {\n",
       "        vertical-align: middle;\n",
       "    }\n",
       "\n",
       "    .dataframe tbody tr th {\n",
       "        vertical-align: top;\n",
       "    }\n",
       "\n",
       "    .dataframe thead th {\n",
       "        text-align: right;\n",
       "    }\n",
       "</style>\n",
       "<table border=\"1\" class=\"dataframe\">\n",
       "  <thead>\n",
       "    <tr style=\"text-align: right;\">\n",
       "      <th></th>\n",
       "      <th>count</th>\n",
       "      <th>mean</th>\n",
       "      <th>std</th>\n",
       "      <th>min</th>\n",
       "      <th>25%</th>\n",
       "      <th>50%</th>\n",
       "      <th>75%</th>\n",
       "      <th>max</th>\n",
       "    </tr>\n",
       "    <tr>\n",
       "      <th>Prediction</th>\n",
       "      <th></th>\n",
       "      <th></th>\n",
       "      <th></th>\n",
       "      <th></th>\n",
       "      <th></th>\n",
       "      <th></th>\n",
       "      <th></th>\n",
       "      <th></th>\n",
       "    </tr>\n",
       "  </thead>\n",
       "  <tbody>\n",
       "    <tr>\n",
       "      <th>Galaxy</th>\n",
       "      <td>7059</td>\n",
       "      <td>0.42776</td>\n",
       "      <td>0.03809</td>\n",
       "      <td>0.38585</td>\n",
       "      <td>0.39323</td>\n",
       "      <td>0.41249</td>\n",
       "      <td>0.46854</td>\n",
       "      <td>0.49995</td>\n",
       "    </tr>\n",
       "    <tr>\n",
       "      <th>AGN</th>\n",
       "      <td>18630</td>\n",
       "      <td>0.58176</td>\n",
       "      <td>0.02512</td>\n",
       "      <td>0.50006</td>\n",
       "      <td>0.57533</td>\n",
       "      <td>0.59380</td>\n",
       "      <td>0.59798</td>\n",
       "      <td>0.60235</td>\n",
       "    </tr>\n",
       "    <tr>\n",
       "      <th>Galaxy (prob)</th>\n",
       "      <td>7000</td>\n",
       "      <td>0.11424</td>\n",
       "      <td>0.14061</td>\n",
       "      <td>0.00798</td>\n",
       "      <td>0.01111</td>\n",
       "      <td>0.02462</td>\n",
       "      <td>0.21743</td>\n",
       "      <td>0.49827</td>\n",
       "    </tr>\n",
       "    <tr>\n",
       "      <th>AGN (prob)</th>\n",
       "      <td>18689</td>\n",
       "      <td>0.94214</td>\n",
       "      <td>0.09040</td>\n",
       "      <td>0.50028</td>\n",
       "      <td>0.95802</td>\n",
       "      <td>0.98003</td>\n",
       "      <td>0.98309</td>\n",
       "      <td>0.98580</td>\n",
       "    </tr>\n",
       "    <tr>\n",
       "      <th>No radio</th>\n",
       "      <td>17394</td>\n",
       "      <td>0.10572</td>\n",
       "      <td>0.10512</td>\n",
       "      <td>0.00552</td>\n",
       "      <td>0.03187</td>\n",
       "      <td>0.05838</td>\n",
       "      <td>0.14508</td>\n",
       "      <td>0.49987</td>\n",
       "    </tr>\n",
       "    <tr>\n",
       "      <th>Radio</th>\n",
       "      <td>1236</td>\n",
       "      <td>0.71522</td>\n",
       "      <td>0.14741</td>\n",
       "      <td>0.50021</td>\n",
       "      <td>0.58117</td>\n",
       "      <td>0.69186</td>\n",
       "      <td>0.84891</td>\n",
       "      <td>0.99217</td>\n",
       "    </tr>\n",
       "    <tr>\n",
       "      <th>No radio (prob)</th>\n",
       "      <td>17590</td>\n",
       "      <td>0.12161</td>\n",
       "      <td>0.10937</td>\n",
       "      <td>0.00758</td>\n",
       "      <td>0.04121</td>\n",
       "      <td>0.07359</td>\n",
       "      <td>0.17099</td>\n",
       "      <td>0.49994</td>\n",
       "    </tr>\n",
       "    <tr>\n",
       "      <th>Radio (prob)</th>\n",
       "      <td>1099</td>\n",
       "      <td>0.66377</td>\n",
       "      <td>0.11615</td>\n",
       "      <td>0.50027</td>\n",
       "      <td>0.56119</td>\n",
       "      <td>0.64454</td>\n",
       "      <td>0.76013</td>\n",
       "      <td>0.94329</td>\n",
       "    </tr>\n",
       "    <tr>\n",
       "      <th>Z</th>\n",
       "      <td>1236</td>\n",
       "      <td>0.92006</td>\n",
       "      <td>0.67008</td>\n",
       "      <td>0.02830</td>\n",
       "      <td>0.42033</td>\n",
       "      <td>0.75215</td>\n",
       "      <td>1.34483</td>\n",
       "      <td>3.83550</td>\n",
       "    </tr>\n",
       "    <tr>\n",
       "      <th>Z (prob)</th>\n",
       "      <td>1099</td>\n",
       "      <td>0.88307</td>\n",
       "      <td>0.66430</td>\n",
       "      <td>0.02830</td>\n",
       "      <td>0.36980</td>\n",
       "      <td>0.71620</td>\n",
       "      <td>1.28370</td>\n",
       "      <td>3.83550</td>\n",
       "    </tr>\n",
       "  </tbody>\n",
       "</table>\n",
       "</div>"
      ],
      "text/plain": [
       "                 count    mean     std     min     25%     50%     75%     max\n",
       "Prediction                                                                    \n",
       "Galaxy            7059 0.42776 0.03809 0.38585 0.39323 0.41249 0.46854 0.49995\n",
       "AGN              18630 0.58176 0.02512 0.50006 0.57533 0.59380 0.59798 0.60235\n",
       "Galaxy (prob)     7000 0.11424 0.14061 0.00798 0.01111 0.02462 0.21743 0.49827\n",
       "AGN (prob)       18689 0.94214 0.09040 0.50028 0.95802 0.98003 0.98309 0.98580\n",
       "No radio         17394 0.10572 0.10512 0.00552 0.03187 0.05838 0.14508 0.49987\n",
       "Radio             1236 0.71522 0.14741 0.50021 0.58117 0.69186 0.84891 0.99217\n",
       "No radio (prob)  17590 0.12161 0.10937 0.00758 0.04121 0.07359 0.17099 0.49994\n",
       "Radio (prob)      1099 0.66377 0.11615 0.50027 0.56119 0.64454 0.76013 0.94329\n",
       "Z                 1236 0.92006 0.67008 0.02830 0.42033 0.75215 1.34483 3.83550\n",
       "Z (prob)          1099 0.88307 0.66430 0.02830 0.36980 0.71620 1.28370 3.83550"
      ]
     },
     "metadata": {},
     "output_type": "display_data"
    }
   ],
   "source": [
    "kno_summary_AGN_radio.loc[:, 'count'] = kno_summary_AGN_radio.loc[:, 'count'].astype(int)\n",
    "with pd.option_context('display.float_format', '{:.5f}'.format):\n",
    "    display(kno_summary_AGN_radio)"
   ]
  },
  {
   "cell_type": "code",
   "execution_count": 93,
   "metadata": {
    "jupyter": {
     "source_hidden": true
    }
   },
   "outputs": [
    {
     "name": "stdout",
     "output_type": "stream",
     "text": [
      "In the known sources, there are 1,053 radio detected sources.\n"
     ]
    }
   ],
   "source": [
    "print(f\"In the known sources, there are {np.sum(full_catalog_df.loc[:, 'LOFAR_detect'] == 1):,} radio detected sources.\")"
   ]
  },
  {
   "cell_type": "markdown",
   "metadata": {},
   "source": [
    "#### Some properties from predicted Radio AGN"
   ]
  },
  {
   "cell_type": "code",
   "execution_count": 94,
   "metadata": {
    "jupyter": {
     "source_hidden": true
    }
   },
   "outputs": [],
   "source": [
    "n_pred_rAGN_AGN_sco      = len(full_catalog_df.loc[filter_radio_AGN_p * filter_AGN_t])\n",
    "n_pred_rAGN_gal_sco      = len(full_catalog_df.loc[filter_radio_AGN_p * filter_gal_t])\n",
    "n_pred_rAGN_radio_sco    = len(full_catalog_df.loc[filter_radio_AGN_p * filter_radio_t])\n",
    "n_pred_rAGN_nonradio_sco = len(full_catalog_df.loc[filter_radio_AGN_p * ~filter_radio_t])"
   ]
  },
  {
   "cell_type": "code",
   "execution_count": 95,
   "metadata": {
    "jupyter": {
     "source_hidden": true
    }
   },
   "outputs": [],
   "source": [
    "str_rAGN_stats_class_sco = f'From {num_radio_AGN_p:,} sources predicted as rAGN,' +\\\n",
    "                           f' {n_pred_rAGN_gal_sco:,} are galaxies and {n_pred_rAGN_AGN_sco:,} are AGN.'\n",
    "str_rAGN_stats_radio_sco = f'From {num_radio_AGN_p:,} sources predicted as rAGN, {n_pred_rAGN_radio_sco:,}' +\\\n",
    "                           f' are radio detected and {n_pred_rAGN_nonradio_sco:,} are not.'"
   ]
  },
  {
   "cell_type": "code",
   "execution_count": 96,
   "metadata": {
    "jupyter": {
     "source_hidden": true
    }
   },
   "outputs": [
    {
     "name": "stdout",
     "output_type": "stream",
     "text": [
      "--------------------------------------------------------------------------------\n",
      "Statistics from sources predicted to be Radio AGN\n",
      "with scores in the known sources of S82-Validation\n",
      "\n",
      "From 1,236 sources predicted as rAGN, 31 are galaxies and 1,205 are AGN.\n",
      "From 1,236 sources predicted as rAGN, 265 are radio detected and 971 are not.\n",
      "--------------------------------------------------------------------------------\n"
     ]
    }
   ],
   "source": [
    "print('-' * 80)\n",
    "print('Statistics from sources predicted to be Radio AGN')\n",
    "print(f'with scores in the known sources of {used_area}-{HETDEX_subset}')\n",
    "print()\n",
    "print(str_rAGN_stats_class_sco)\n",
    "print(str_rAGN_stats_radio_sco)\n",
    "print('-' * 80)"
   ]
  },
  {
   "cell_type": "code",
   "execution_count": 97,
   "metadata": {
    "jupyter": {
     "source_hidden": true
    }
   },
   "outputs": [],
   "source": [
    "n_pred_rAGN_AGN_pro      = len(full_catalog_df.loc[filter_radio_AGN_prob_p * filter_AGN_t])\n",
    "n_pred_rAGN_gal_pro      = len(full_catalog_df.loc[filter_radio_AGN_prob_p * filter_gal_t])\n",
    "n_pred_rAGN_radio_pro    = len(full_catalog_df.loc[filter_radio_AGN_prob_p * filter_radio_t])\n",
    "n_pred_rAGN_nonradio_pro = len(full_catalog_df.loc[filter_radio_AGN_prob_p * ~filter_radio_t])"
   ]
  },
  {
   "cell_type": "code",
   "execution_count": 98,
   "metadata": {
    "jupyter": {
     "source_hidden": true
    }
   },
   "outputs": [],
   "source": [
    "str_rAGN_stats_class_pro = f'From {num_radio_AGN_prob_p:,} sources predicted as rAGN,' +\\\n",
    "                           f' {n_pred_rAGN_gal_pro:,} are galaxies and {n_pred_rAGN_AGN_pro:,} are AGN.'\n",
    "str_rAGN_stats_radio_pro = f'From {num_radio_AGN_prob_p:,} sources predicted as rAGN, {n_pred_rAGN_radio_pro:,}' +\\\n",
    "                           f' are radio detected and {n_pred_rAGN_nonradio_pro:,} are not.'"
   ]
  },
  {
   "cell_type": "code",
   "execution_count": 99,
   "metadata": {
    "jupyter": {
     "source_hidden": true
    }
   },
   "outputs": [
    {
     "name": "stdout",
     "output_type": "stream",
     "text": [
      "--------------------------------------------------------------------------------\n",
      "Statistics from sources predicted to be Radio AGN\n",
      "with probabilities in the known sources of S82-Validation\n",
      "\n",
      "From 1,099 sources predicted as rAGN, 24 are galaxies and 1,075 are AGN.\n",
      "From 1,099 sources predicted as rAGN, 264 are radio detected and 835 are not.\n",
      "--------------------------------------------------------------------------------\n"
     ]
    }
   ],
   "source": [
    "print('-' * 80)\n",
    "print('Statistics from sources predicted to be Radio AGN')\n",
    "print(f'with probabilities in the known sources of {used_area}-{HETDEX_subset}')\n",
    "print()\n",
    "print(str_rAGN_stats_class_pro)\n",
    "print(str_rAGN_stats_radio_pro)\n",
    "print('-' * 80)"
   ]
  },
  {
   "cell_type": "markdown",
   "metadata": {},
   "source": [
    "#### Histograms for predicted sources in unknown sources."
   ]
  },
  {
   "cell_type": "markdown",
   "metadata": {},
   "source": [
    "Predictions from scores."
   ]
  },
  {
   "cell_type": "code",
   "execution_count": 100,
   "metadata": {
    "jupyter": {
     "source_hidden": true
    },
    "tags": []
   },
   "outputs": [
    {
     "data": {
      "image/png": "[encoded data removed]",
      "text/plain": [
       "<Figure size 1000x350 with 1 Axes>"
      ]
     },
     "metadata": {},
     "output_type": "display_data"
    }
   ],
   "source": [
    "fig             = plt.figure(figsize=(10,3.5))\n",
    "ax1             = fig.add_subplot(111, xscale='linear', yscale='log')\n",
    "\n",
    "min_for_range = np.nanmin(unknown_cat_df.loc[filter_radio_AGN_unk_p, 'pred_Z'])\n",
    "max_for_range = np.nanmax(unknown_cat_df.loc[filter_radio_AGN_unk_p, 'pred_Z'])\n",
    "bins_z        = np.linspace(min_for_range, max_for_range, 70)\n",
    "\n",
    "_, bins, _ = ax1.hist(unknown_cat_df.loc[filter_radio_AGN_unk_p, 'pred_Z'], bins=bins_z, histtype='stepfilled',\\\n",
    "                      ec='k', fc='mediumpurple', lw=3.5,\\\n",
    "                      label=f'Predicted')\n",
    "\n",
    "ax1.tick_params(which='both', top=True, right=True, direction='in')\n",
    "ax1.tick_params(axis='both', which='major', labelsize=14)\n",
    "ax1.tick_params(which='major', length=8, width=1.5)\n",
    "ax1.tick_params(which='minor', length=4, width=1.5)\n",
    "# ax1.set_xlabel('$m_{\\mathrm{W1}}\\, \\mathrm{[AB]}$', size=20)\n",
    "ax1.set_xlabel('Redshift', size=20)\n",
    "ax1.set_ylabel('Frequency', size=20)\n",
    "# ax1.set_ylabel('Frequency', size=20)\n",
    "plt.setp(ax1.spines.values(), linewidth=3.5)\n",
    "plt.setp(ax1.spines.values(), linewidth=3.5)\n",
    "plt.legend(loc=1, fontsize=16, title=f'N={np.sum(filter_radio_AGN_unk_p):,}', title_fontsize=16)\n",
    "# ax1.invert_xaxis()\n",
    "# ax1.set_xlim(left=-4, right=6)\n",
    "#ax1.set_aspect('equal', 'box')\n",
    "ax1.set_title(used_area, fontsize=14)\n",
    "fig.tight_layout()\n",
    "if save_plot_flag:\n",
    "    plt.savefig(gv.plots_path + f'hist_predicted_z_naive_{used_area}_unknown.pdf')\n",
    "plt.show()"
   ]
  },
  {
   "cell_type": "markdown",
   "metadata": {},
   "source": [
    "Predictions from probabilities."
   ]
  },
  {
   "cell_type": "code",
   "execution_count": 101,
   "metadata": {
    "jupyter": {
     "source_hidden": true
    },
    "tags": []
   },
   "outputs": [
    {
     "data": {
      "image/png": "[encoded data removed]",
      "text/plain": [
       "<Figure size 1000x350 with 1 Axes>"
      ]
     },
     "metadata": {},
     "output_type": "display_data"
    }
   ],
   "source": [
    "fig             = plt.figure(figsize=(10,3.5))\n",
    "ax1             = fig.add_subplot(111, xscale='linear', yscale='log')\n",
    "\n",
    "min_for_range = np.nanmin(unknown_cat_df.loc[filter_radio_AGN_unk_prob_p, 'pred_Z'])\n",
    "max_for_range = np.nanmax(unknown_cat_df.loc[filter_radio_AGN_unk_prob_p, 'pred_Z'])\n",
    "bins_z        = np.linspace(min_for_range, max_for_range, 70)\n",
    "\n",
    "_, bins, _ = ax1.hist(unknown_cat_df.loc[filter_radio_AGN_unk_prob_p, 'pred_Z'], bins=bins_z, histtype='stepfilled',\\\n",
    "                      ec='k', fc='mediumpurple', lw=3.5,\\\n",
    "                      label=f'Predicted')\n",
    "\n",
    "ax1.tick_params(which='both', top=True, right=True, direction='in')\n",
    "ax1.tick_params(axis='both', which='major', labelsize=14)\n",
    "ax1.tick_params(which='major', length=8, width=1.5)\n",
    "ax1.tick_params(which='minor', length=4, width=1.5)\n",
    "# ax1.set_xlabel('$m_{\\mathrm{W1}}\\, \\mathrm{[AB]}$', size=20)\n",
    "ax1.set_xlabel('Redshift', size=20)\n",
    "ax1.set_ylabel('Frequency', size=20)\n",
    "# ax1.set_ylabel('Frequency', size=20)\n",
    "plt.setp(ax1.spines.values(), linewidth=3.5)\n",
    "plt.setp(ax1.spines.values(), linewidth=3.5)\n",
    "plt.legend(loc=1, fontsize=16, title=f'N={np.sum(filter_radio_AGN_unk_prob_p):,}', title_fontsize=16)\n",
    "# ax1.invert_xaxis()\n",
    "# ax1.set_xlim(left=-4, right=6)\n",
    "#ax1.set_aspect('equal', 'box')\n",
    "ax1.set_title(used_area, fontsize=14)\n",
    "fig.tight_layout()\n",
    "if save_plot_flag:\n",
    "    plt.savefig(gv.plots_path + f'hist_predicted_z_prob_naive_{used_area}_unknown.pdf')\n",
    "plt.show()"
   ]
  },
  {
   "cell_type": "code",
   "execution_count": null,
   "metadata": {},
   "outputs": [],
   "source": []
  }
 ],
 "metadata": {
  "kernelspec": {
   "display_name": "Python 3 (ipykernel)",
   "language": "python",
   "name": "python3"
  },
  "language_info": {
   "codemirror_mode": {
    "name": "ipython",
    "version": 3
   },
   "file_extension": ".py",
   "mimetype": "text/x-python",
   "name": "python",
   "nbconvert_exporter": "python",
   "pygments_lexer": "ipython3",
   "version": "3.8.13"
  },
  "vscode": {
   "interpreter": {
    "hash": "1d7c94ac87c57432169d0bc24ce250f6f2e77b44a3b95192eb5ace62cff26777"
   }
  }
 },
 "nbformat": 4,
 "nbformat_minor": 4
}
