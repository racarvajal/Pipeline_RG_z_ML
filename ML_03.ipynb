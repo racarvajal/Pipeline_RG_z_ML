{
 "cells": [
  {
   "cell_type": "markdown",
   "id": "c71fae7e-a4c4-4950-8c16-4a74a1e69482",
   "metadata": {
    "id": "c71fae7e-a4c4-4950-8c16-4a74a1e69482",
    "papermill": {
     "duration": 0.025679,
     "end_time": "2022-04-21T14:20:13.859941",
     "exception": false,
     "start_time": "2022-04-21T14:20:13.834262",
     "status": "completed"
    },
    "tags": []
   },
   "source": [
    "# Pipeline for High-z Radio Galaxies 03: AGN/Galaxy regression"
   ]
  },
  {
   "cell_type": "markdown",
   "id": "714a7301-9b3d-4ad9-9659-b68cad4014c5",
   "metadata": {
    "id": "714a7301-9b3d-4ad9-9659-b68cad4014c5",
    "papermill": {
     "duration": 0.020522,
     "end_time": "2022-04-21T14:20:13.902335",
     "exception": false,
     "start_time": "2022-04-21T14:20:13.881813",
     "status": "completed"
    },
    "tags": []
   },
   "source": [
    "## Introduction"
   ]
  },
  {
   "cell_type": "markdown",
   "id": "dea6dd12-650e-4ab6-bae7-0268f78e7fea",
   "metadata": {
    "id": "dea6dd12-650e-4ab6-bae7-0268f78e7fea",
    "papermill": {
     "duration": 0.01813,
     "end_time": "2022-04-21T14:20:13.939025",
     "exception": false,
     "start_time": "2022-04-21T14:20:13.920895",
     "status": "completed"
    },
    "tags": []
   },
   "source": [
    "Training for classification of AGN and galaxies will be done in the HETDEX Field using regression.  \n",
    "\n",
    "Sources are all elements detected in the CatWISE2020 catalogue.  Classification will be done  \n",
    "with the output of the first classification model over the full dataset.  Then, highly confident  \n",
    "predictions and confirmed sources will be used in a new regression model that will try to  \n",
    "predict the probability/score of being either a galaxy or an AGN."
   ]
  },
  {
   "cell_type": "markdown",
   "id": "00a0aec8-0112-4728-a8fe-f99cdf05a33b",
   "metadata": {
    "id": "00a0aec8-0112-4728-a8fe-f99cdf05a33b",
    "papermill": {
     "duration": 0.017998,
     "end_time": "2022-04-21T14:20:13.975290",
     "exception": false,
     "start_time": "2022-04-21T14:20:13.957292",
     "status": "completed"
    },
    "tags": []
   },
   "source": [
    "Training data is from HETDEX Spring Field."
   ]
  },
  {
   "cell_type": "code",
   "execution_count": 1,
   "id": "1161a2b6-ef8d-429d-8dea-40f0de36e393",
   "metadata": {
    "id": "1161a2b6-ef8d-429d-8dea-40f0de36e393",
    "papermill": {
     "duration": 2.862325,
     "end_time": "2022-04-21T14:20:16.855821",
     "exception": false,
     "start_time": "2022-04-21T14:20:13.993496",
     "status": "completed"
    },
    "tags": []
   },
   "outputs": [],
   "source": [
    "%matplotlib inline\n",
    "# Static plots\n",
    "#%matplotlib ipympl\n",
    "# Interactive plots\n",
    "import numpy as np\n",
    "import matplotlib as mpl\n",
    "import matplotlib.cm as cm\n",
    "import matplotlib.pyplot as plt\n",
    "import matplotlib.colors as mcolors\n",
    "import matplotlib.patheffects as mpe\n",
    "from astropy.visualization import LogStretch\n",
    "from astropy.visualization.mpl_normalize import ImageNormalize\n",
    "from sklearn.preprocessing import MinMaxScaler\n",
    "from sklearn.model_selection import train_test_split\n",
    "from sklearn.metrics import ConfusionMatrixDisplay, roc_auc_score, roc_curve, RocCurveDisplay, matthews_corrcoef\n",
    "from sklearn.calibration import calibration_curve\n",
    "import sklearn.pipeline\n",
    "import ppscore as pps\n",
    "import seaborn as sns\n",
    "import colorcet as cc\n",
    "from pycaret import classification as pyc\n",
    "from pycaret import regression as pyr\n",
    "from pycaret.internal.tabular import _get_columns_to_stratify_by\n",
    "import pandas as pd"
   ]
  },
  {
   "cell_type": "code",
   "execution_count": 2,
   "id": "85c08229-3870-441e-892c-08e3e71aaebc",
   "metadata": {
    "papermill": {
     "duration": 0.027558,
     "end_time": "2022-04-21T14:20:16.907078",
     "exception": false,
     "start_time": "2022-04-21T14:20:16.879520",
     "status": "completed"
    },
    "tags": []
   },
   "outputs": [],
   "source": [
    "mpl.rcdefaults()"
   ]
  },
  {
   "cell_type": "markdown",
   "id": "9647d74a-8d80-4d24-a2f4-023184fa27ac",
   "metadata": {
    "id": "9647d74a-8d80-4d24-a2f4-023184fa27ac",
    "papermill": {
     "duration": 0.018269,
     "end_time": "2022-04-21T14:20:16.947312",
     "exception": false,
     "start_time": "2022-04-21T14:20:16.929043",
     "status": "completed"
    },
    "tags": []
   },
   "source": [
    "Create class to normalize asymmetric colorscales  \n",
    "(from [http://chris35wills.github.io/matplotlib_diverging_colorbar/](http://chris35wills.github.io/matplotlib_diverging_colorbar/))."
   ]
  },
  {
   "cell_type": "code",
   "execution_count": 3,
   "id": "652a8557-e595-4861-af72-5d3220fb7620",
   "metadata": {
    "id": "652a8557-e595-4861-af72-5d3220fb7620",
    "jupyter": {
     "source_hidden": true
    },
    "papermill": {
     "duration": 0.029884,
     "end_time": "2022-04-21T14:20:16.995362",
     "exception": false,
     "start_time": "2022-04-21T14:20:16.965478",
     "status": "completed"
    },
    "tags": []
   },
   "outputs": [],
   "source": [
    "class MidpointNormalize(mcolors.Normalize):\n",
    "    \"\"\"\n",
    "    Normalise the colorbar so that diverging bars work there way either side from a prescribed midpoint value)\n",
    "\n",
    "    e.g. im=ax1.imshow(array, norm=MidpointNormalize(midpoint=0.,vmin=-100, vmax=100))\n",
    "    \"\"\"\n",
    "    def __init__(self, vmin=None, vmax=None, midpoint=None, clip=False):\n",
    "        self.midpoint = midpoint\n",
    "        mcolors.Normalize.__init__(self, vmin, vmax, clip)\n",
    "\n",
    "    def __call__(self, value, clip=None):\n",
    "        # I'm ignoring masked values and all kinds of edge cases to make a\n",
    "        # simple example...\n",
    "        x, y = [self.vmin, self.midpoint, self.vmax], [0, 0.5, 1]\n",
    "        return np.ma.masked_array(np.interp(value, x, y), np.isnan(value))"
   ]
  },
  {
   "cell_type": "markdown",
   "id": "0bc24aa0-581a-4c39-bc90-b18f85385e78",
   "metadata": {
    "id": "0bc24aa0-581a-4c39-bc90-b18f85385e78",
    "papermill": {
     "duration": 0.018387,
     "end_time": "2022-04-21T14:20:17.034903",
     "exception": false,
     "start_time": "2022-04-21T14:20:17.016516",
     "status": "completed"
    },
    "tags": []
   },
   "source": [
    "For future plots, we can configure their aspect too."
   ]
  },
  {
   "cell_type": "code",
   "execution_count": 4,
   "id": "cc05a86c-85e4-46e7-9b7f-f8ac4abd4ff2",
   "metadata": {
    "id": "cc05a86c-85e4-46e7-9b7f-f8ac4abd4ff2",
    "jupyter": {
     "source_hidden": true
    },
    "papermill": {
     "duration": 0.043131,
     "end_time": "2022-04-21T14:20:17.096414",
     "exception": false,
     "start_time": "2022-04-21T14:20:17.053283",
     "status": "completed"
    },
    "tags": []
   },
   "outputs": [],
   "source": [
    "cmap           = cm.get_cmap('inferno')\n",
    "cmap_alt       = cm.get_cmap('Dark2')\n",
    "cmap_alt_2     = cm.get_cmap('Greys_r')  # Shades of grey\n",
    "cmap_alt_3     = cm.get_cmap('coolwarm')  # blue to red\n",
    "dark_color     = cmap(0.4)  # RGBA color code\n",
    "light_color    = cmap(0.6)  # RGBA color code\n",
    "colors         = [cmap(0.15), cmap(0.30), cmap(0.45), cmap(0.60), cmap(0.75), cmap(0.90)]\n",
    "colors_3       = [cmap(0.25), cmap(0.50), cmap(0.75)]\n",
    "colors_3_alt   = [cmap_alt(0.25), cmap_alt(0.50), cmap_alt(0.75)]\n",
    "colors_3_alt_2 = [cmap_alt_2(0.25), cmap_alt_2(0.50), cmap_alt_2(0.75)]\n",
    "colors_8       = [cmap(0.12), cmap(0.24), cmap(0.35), cmap(0.48), cmap(0.6), cmap(0.72), cmap(0.84), cmap(0.96)]\n",
    "colors_8_alt   = [cmap_alt(0.12), cmap_alt(0.24), cmap_alt(0.35), cmap_alt(0.48), cmap_alt(0.6), cmap_alt(0.72),\\\n",
    "                  cmap_alt(0.84), cmap_alt(0.96)]\n",
    "colors_8_alt_2 = [cmap_alt_2(0.06), cmap_alt_2(0.18), cmap_alt_2(0.29), cmap_alt_2(0.42), cmap_alt_2(0.54),\\\n",
    "                  cmap_alt_2(0.66), cmap_alt_2(0.78), cmap_alt_2(0.90)]\n",
    "colors_8_alt_3 = [cmap_alt_3(0.06), cmap_alt_3(0.18), cmap_alt_3(0.29), cmap_alt_3(0.42), cmap_alt_3(0.54),\\\n",
    "                  cmap_alt_3(0.66), cmap_alt_3(0.78), cmap_alt_3(0.90)]"
   ]
  },
  {
   "cell_type": "code",
   "execution_count": 5,
   "id": "f7b5bb0d-e1c0-415d-b7a8-3237c86e6c7b",
   "metadata": {
    "id": "f7b5bb0d-e1c0-415d-b7a8-3237c86e6c7b",
    "jupyter": {
     "source_hidden": true
    },
    "papermill": {
     "duration": 0.02639,
     "end_time": "2022-04-21T14:20:17.145458",
     "exception": false,
     "start_time": "2022-04-21T14:20:17.119068",
     "status": "completed"
    },
    "tags": []
   },
   "outputs": [],
   "source": [
    "pe1            = [mpe.Stroke(linewidth=5.0, foreground='black'),\n",
    "                  mpe.Stroke(foreground='white', alpha=1),\n",
    "                  mpe.Normal()]\n",
    "pe2            = [mpe.Stroke(linewidth=3.0, foreground='white'),\n",
    "                  mpe.Stroke(foreground='white', alpha=1),\n",
    "                  mpe.Normal()]\n",
    "\n",
    "alp_str        = r'$\\alpha$'"
   ]
  },
  {
   "cell_type": "markdown",
   "id": "aacf1d05-0bd7-4cbe-a480-5bd658bc008c",
   "metadata": {
    "id": "aacf1d05-0bd7-4cbe-a480-5bd658bc008c",
    "papermill": {
     "duration": 0.018222,
     "end_time": "2022-04-21T14:20:17.182093",
     "exception": false,
     "start_time": "2022-04-21T14:20:17.163871",
     "status": "completed"
    },
    "tags": []
   },
   "source": [
    "Methdods for PyCaret and saved models."
   ]
  },
  {
   "cell_type": "code",
   "execution_count": 6,
   "id": "d5b96d4e-620f-4572-8a2c-eb5faa7238e5",
   "metadata": {
    "id": "86db6e67-85aa-4cd6-a3dc-bfe638bc69bb",
    "jupyter": {
     "source_hidden": true
    },
    "papermill": {
     "duration": 0.029095,
     "end_time": "2022-04-21T14:20:17.229999",
     "exception": false,
     "start_time": "2022-04-21T14:20:17.200904",
     "status": "completed"
    },
    "tags": []
   },
   "outputs": [],
   "source": [
    "def get_final_column_names(pycaret_pipeline, sample_df):\n",
    "    if isinstance(pycaret_pipeline, sklearn.pipeline.Pipeline):\n",
    "        for (name, method) in pycaret_pipeline.named_steps.items():\n",
    "            if method != 'passthrough' and name != 'trained_model':\n",
    "                print(f'Running {name}')\n",
    "                sample_df = method.transform(sample_df)\n",
    "        return sample_df.columns.tolist()\n",
    "    else:\n",
    "        for (name, method) in pyr.get_config('prep_pipe').named_steps.items():\n",
    "            if method != 'passthrough' and name != 'trained_model':\n",
    "                print(f'Running {name}')\n",
    "                sample_df = method.transform(sample_df)\n",
    "        return sample_df.columns.tolist()"
   ]
  },
  {
   "cell_type": "code",
   "execution_count": 7,
   "id": "dee49c70-46cb-41f2-aed1-5c111a89d913",
   "metadata": {
    "id": "715acda9-475d-4c9c-8e99-4921da2e1152",
    "jupyter": {
     "source_hidden": true
    },
    "papermill": {
     "duration": 0.033723,
     "end_time": "2022-04-21T14:20:17.285458",
     "exception": false,
     "start_time": "2022-04-21T14:20:17.251735",
     "status": "completed"
    },
    "tags": []
   },
   "outputs": [],
   "source": [
    "def get_feature_importances_df(pycaret_pipeline, sample_df, n = 10):\n",
    "    \n",
    "    final_cols = get_final_column_names(pycaret_pipeline, sample_df)\n",
    "    \n",
    "    if isinstance(pycaret_pipeline, sklearn.pipeline.Pipeline):\n",
    "        try:\n",
    "            variables = pycaret_pipeline[\"trained_model\"].feature_importances_\n",
    "            \n",
    "        except:\n",
    "            variables = np.mean([\n",
    "                            tree.feature_importances_ for tree in pycaret_pipeline[\"trained_model\"].estimators_\n",
    "                if hasattr(tree, 'feature_importances_')\n",
    "                            ], axis=0)\n",
    "        \n",
    "        coef_df = pd.DataFrame({'Feature': final_cols, 'Importance': variables})\n",
    "        sorted_df = (\n",
    "            coef_df.sort_values(by='Importance', ascending=False)\n",
    "            .head(n)\n",
    "            .sort_values(by='Importance', ascending=True).reset_index(drop=True)\n",
    "        )\n",
    "    else:\n",
    "        try:\n",
    "            variables = pycaret_pipeline.feature_importances_\n",
    "            \n",
    "        except:\n",
    "            variables = np.mean([\n",
    "                            tree.feature_importances_ for tree in pycaret_pipeline.estimators_\n",
    "                if hasattr(tree, 'feature_importances_')\n",
    "                            ], axis=0)\n",
    "        \n",
    "        coef_df = pd.DataFrame({'Feature': final_cols, 'Importance': variables})\n",
    "        sorted_df = (\n",
    "            coef_df.sort_values(by='Importance', ascending=False)\n",
    "            .head(n)\n",
    "            .sort_values(by='Importance', ascending=True).reset_index(drop=True)\n",
    "        )\n",
    "    return sorted_df"
   ]
  },
  {
   "cell_type": "code",
   "execution_count": 8,
   "id": "bda331d1-609b-4bc2-a25a-e198ee7a1ea9",
   "metadata": {},
   "outputs": [],
   "source": [
    "def mad(true_class, pred_class, **kwargs):\n",
    "    med = np.nanmedian(np.abs(true_class - pred_class))\n",
    "    return med"
   ]
  },
  {
   "cell_type": "markdown",
   "id": "8222df68-1b98-436b-af43-d9f38d015ba6",
   "metadata": {
    "id": "8222df68-1b98-436b-af43-d9f38d015ba6",
    "papermill": {
     "duration": 0.018994,
     "end_time": "2022-04-21T14:20:17.326833",
     "exception": false,
     "start_time": "2022-04-21T14:20:17.307839",
     "status": "completed"
    },
    "tags": []
   },
   "source": [
    "***"
   ]
  },
  {
   "cell_type": "markdown",
   "id": "e2ce5669-172d-4ed4-b6fe-5fff8afc7df5",
   "metadata": {
    "id": "e2ce5669-172d-4ed4-b6fe-5fff8afc7df5",
    "papermill": {
     "duration": 0.018237,
     "end_time": "2022-04-21T14:20:17.363497",
     "exception": false,
     "start_time": "2022-04-21T14:20:17.345260",
     "status": "completed"
    },
    "tags": []
   },
   "source": [
    "## Reading data"
   ]
  },
  {
   "cell_type": "code",
   "execution_count": 9,
   "id": "b0619b32-391c-4f18-8284-d1fabf6a800c",
   "metadata": {
    "id": "b0619b32-391c-4f18-8284-d1fabf6a800c",
    "papermill": {
     "duration": 0.024342,
     "end_time": "2022-04-21T14:20:17.406152",
     "exception": false,
     "start_time": "2022-04-21T14:20:17.381810",
     "status": "completed"
    },
    "tags": []
   },
   "outputs": [],
   "source": [
    "cat_path = '../../Catalogs/'  # relative path to the same directory"
   ]
  },
  {
   "cell_type": "markdown",
   "id": "c4e41fd8-fbc5-4185-b03e-8a57634a05a9",
   "metadata": {
    "id": "c4e41fd8-fbc5-4185-b03e-8a57634a05a9",
    "papermill": {
     "duration": 0.018124,
     "end_time": "2022-04-21T14:20:17.442915",
     "exception": false,
     "start_time": "2022-04-21T14:20:17.424791",
     "status": "completed"
    },
    "tags": []
   },
   "source": [
    "We import our data using the `pandas` package."
   ]
  },
  {
   "cell_type": "code",
   "execution_count": 10,
   "id": "c2f62f66-a612-49f8-83e6-b57cdd21e426",
   "metadata": {
    "papermill": {
     "duration": 0.025282,
     "end_time": "2022-04-21T14:20:17.486583",
     "exception": false,
     "start_time": "2022-04-21T14:20:17.461301",
     "status": "completed"
    },
    "tags": []
   },
   "outputs": [],
   "source": [
    "save_plot_flag  = False\n",
    "save_model_flag = False\n",
    "load_model_flag = True"
   ]
  },
  {
   "cell_type": "code",
   "execution_count": 11,
   "id": "04b65783-eee3-44e5-b164-626f6f15afd6",
   "metadata": {
    "papermill": {
     "duration": 0.025594,
     "end_time": "2022-04-21T14:20:17.531100",
     "exception": false,
     "start_time": "2022-04-21T14:20:17.505506",
     "status": "completed"
    },
    "tags": []
   },
   "outputs": [],
   "source": [
    "use_5sigma = True  # use files with 5-sigma magnitude imputation"
   ]
  },
  {
   "cell_type": "code",
   "execution_count": 12,
   "id": "5e7d0421-42f6-4787-9068-fa44b3b52e4f",
   "metadata": {
    "papermill": {
     "duration": 0.026481,
     "end_time": "2022-04-21T14:20:17.576281",
     "exception": false,
     "start_time": "2022-04-21T14:20:17.549800",
     "status": "completed"
    },
    "tags": []
   },
   "outputs": [],
   "source": [
    "mqc_version = '7_4d'  # '7_2'"
   ]
  },
  {
   "cell_type": "code",
   "execution_count": 13,
   "id": "c69bd7ee-7184-46e3-a6cb-1a66cb75d6ae",
   "metadata": {
    "id": "c69bd7ee-7184-46e3-a6cb-1a66cb75d6ae",
    "papermill": {
     "duration": 0.026761,
     "end_time": "2022-04-21T14:20:17.626518",
     "exception": false,
     "start_time": "2022-04-21T14:20:17.599757",
     "status": "completed"
    },
    "tags": []
   },
   "outputs": [],
   "source": [
    "file_name_train = f'CatWISE2020_VLASS_LOFAR_PS1_GALEX_TGSS_XMM_2MASS_MILLIQUAS_{mqc_version}_ALLWISE_LOLSS_SDSS_DR16_5sigma_imp.h5'  # 6729647 objects (6.7e6)"
   ]
  },
  {
   "cell_type": "markdown",
   "id": "2cd751bd-1eb4-4c54-b6fa-418773ac8938",
   "metadata": {
    "id": "2cd751bd-1eb4-4c54-b6fa-418773ac8938",
    "papermill": {
     "duration": 0.018447,
     "end_time": "2022-04-21T14:20:17.665828",
     "exception": false,
     "start_time": "2022-04-21T14:20:17.647381",
     "status": "completed"
    },
    "tags": []
   },
   "source": [
    "First, open the file as astropy Table to modify (and standardise)  \n",
    "the units of fluxes and/or magnitudes."
   ]
  },
  {
   "cell_type": "markdown",
   "id": "048a606d-3140-4b8d-8e79-9a145df74f1a",
   "metadata": {
    "id": "d0ce0178-04a7-4113-bbb8-1b70ce220764",
    "papermill": {
     "duration": 0.018362,
     "end_time": "2022-04-21T14:20:17.702830",
     "exception": false,
     "start_time": "2022-04-21T14:20:17.684468",
     "status": "completed"
    },
    "tags": []
   },
   "source": [
    "---"
   ]
  },
  {
   "cell_type": "markdown",
   "id": "6e66f66c-4987-4340-bf82-7d8e218033fb",
   "metadata": {
    "id": "6e66f66c-4987-4340-bf82-7d8e218033fb",
    "papermill": {
     "duration": 0.018447,
     "end_time": "2022-04-21T14:20:17.740377",
     "exception": false,
     "start_time": "2022-04-21T14:20:17.721930",
     "status": "completed"
    },
    "tags": []
   },
   "source": [
    "Create `pandas` DataFrame from `astropy` table."
   ]
  },
  {
   "cell_type": "code",
   "execution_count": 14,
   "id": "b1e064d5",
   "metadata": {
    "papermill": {
     "duration": 0.027392,
     "end_time": "2022-04-21T14:20:17.786188",
     "exception": false,
     "start_time": "2022-04-21T14:20:17.758796",
     "status": "completed"
    },
    "tags": []
   },
   "outputs": [],
   "source": [
    "features_2_discard = ['W1mag', 'W2mag', 'objID', 'RA_ICRS', 'DE_ICRS', 'Name', 'RA_MILLI', 'DEC_MILLI',\\\n",
    "                     'TYPE', 'Z', 'X_ray_detect', 'radio_detect', 'Total_flux_VLASS',\\\n",
    "                     'Sint_LOFAR', 'Stotal_TGSS', 'FEP', 'TotalFlux_LoLSS'] # , 'mode',\\\n",
    "                     # 'class', 'f_zsp', 'subCl', 'zph', 'e_zph']  # Not needed for training in this model"
   ]
  },
  {
   "cell_type": "code",
   "execution_count": 15,
   "id": "498083f5-b8c6-44aa-8de4-75b1dc899296",
   "metadata": {
    "id": "498083f5-b8c6-44aa-8de4-75b1dc899296",
    "papermill": {
     "duration": 9.276425,
     "end_time": "2022-04-21T14:20:27.084320",
     "exception": false,
     "start_time": "2022-04-21T14:20:17.807895",
     "status": "completed"
    },
    "tags": []
   },
   "outputs": [],
   "source": [
    "full_catalog_df = pd.read_hdf(cat_path + file_name_train, key='df').drop(columns=features_2_discard)"
   ]
  },
  {
   "cell_type": "code",
   "execution_count": 16,
   "id": "7373cafa-c176-4a4d-b366-4a9b357e7795",
   "metadata": {
    "papermill": {
     "duration": 0.024632,
     "end_time": "2022-04-21T14:20:27.133440",
     "exception": false,
     "start_time": "2022-04-21T14:20:27.108808",
     "status": "completed"
    },
    "tags": []
   },
   "outputs": [],
   "source": [
    "# full_catalog_df.describe()"
   ]
  },
  {
   "cell_type": "markdown",
   "id": "u4vi69d_pPbd",
   "metadata": {
    "id": "u4vi69d_pPbd",
    "papermill": {
     "duration": 0.018756,
     "end_time": "2022-04-21T14:20:27.170824",
     "exception": false,
     "start_time": "2022-04-21T14:20:27.152068",
     "status": "completed"
    },
    "tags": []
   },
   "source": [
    "## Random seed"
   ]
  },
  {
   "cell_type": "code",
   "execution_count": 17,
   "id": "8byjjVU3pOjM",
   "metadata": {
    "id": "8byjjVU3pOjM",
    "papermill": {
     "duration": 0.025205,
     "end_time": "2022-04-21T14:20:27.214782",
     "exception": false,
     "start_time": "2022-04-21T14:20:27.189577",
     "status": "completed"
    },
    "tags": []
   },
   "outputs": [],
   "source": [
    "seed = 42"
   ]
  },
  {
   "cell_type": "markdown",
   "id": "11296d1a",
   "metadata": {
    "papermill": {
     "duration": 0.018861,
     "end_time": "2022-04-21T14:20:27.252293",
     "exception": false,
     "start_time": "2022-04-21T14:20:27.233432",
     "status": "completed"
    },
    "tags": []
   },
   "source": [
    "#### Select confirmed galaxies and AGN, and a fraction (or all) unknown sources"
   ]
  },
  {
   "cell_type": "code",
   "execution_count": 18,
   "id": "88fa2638",
   "metadata": {
    "papermill": {
     "duration": 1.46203,
     "end_time": "2022-04-21T14:20:28.732926",
     "exception": false,
     "start_time": "2022-04-21T14:20:27.270896",
     "status": "completed"
    },
    "tags": []
   },
   "outputs": [],
   "source": [
    "confirmed_indices = full_catalog_df.loc[(full_catalog_df.loc[:, 'is_gal'] == 1) | (full_catalog_df.loc[:, 'is_AGN'] == 1)].index\n",
    "unknown_indices   = full_catalog_df.drop(index=confirmed_indices).index"
   ]
  },
  {
   "cell_type": "markdown",
   "id": "0bff7ad2",
   "metadata": {
    "papermill": {
     "duration": 0.018744,
     "end_time": "2022-04-21T14:20:28.777281",
     "exception": false,
     "start_time": "2022-04-21T14:20:28.758537",
     "status": "completed"
    },
    "tags": []
   },
   "source": [
    "##### Temporary: Select a smaller sample size for testing."
   ]
  },
  {
   "cell_type": "code",
   "execution_count": 19,
   "id": "18f3e3dc",
   "metadata": {
    "papermill": {
     "duration": 0.099915,
     "end_time": "2022-04-21T14:20:28.895741",
     "exception": false,
     "start_time": "2022-04-21T14:20:28.795826",
     "status": "completed"
    },
    "tags": []
   },
   "outputs": [],
   "source": [
    "# selected_indices = full_catalog_df.loc[unknown_indices].sample(n=2*len(confirmed_indices), random_state=seed).index\n",
    "selected_indices = unknown_indices\n",
    "final_indices    = confirmed_indices.union(selected_indices)"
   ]
  },
  {
   "cell_type": "code",
   "execution_count": 20,
   "id": "08f37a64",
   "metadata": {
    "papermill": {
     "duration": 0.638896,
     "end_time": "2022-04-21T14:20:29.558258",
     "exception": false,
     "start_time": "2022-04-21T14:20:28.919362",
     "status": "completed"
    },
    "tags": []
   },
   "outputs": [],
   "source": [
    "full_catalog_df = full_catalog_df.loc[final_indices]"
   ]
  },
  {
   "cell_type": "markdown",
   "id": "e3765bf6",
   "metadata": {
    "papermill": {
     "duration": 0.018493,
     "end_time": "2022-04-21T14:20:29.600619",
     "exception": false,
     "start_time": "2022-04-21T14:20:29.582126",
     "status": "completed"
    },
    "tags": []
   },
   "source": [
    "Create target"
   ]
  },
  {
   "cell_type": "markdown",
   "id": "93fb5045-215a-44d0-acf5-438e68f98921",
   "metadata": {
    "papermill": {
     "duration": 0.01878,
     "end_time": "2022-04-21T14:20:29.638079",
     "exception": false,
     "start_time": "2022-04-21T14:20:29.619299",
     "status": "completed"
    },
    "tags": []
   },
   "source": [
    "$0$ for galaxies and $1$ for AGN"
   ]
  },
  {
   "cell_type": "code",
   "execution_count": 21,
   "id": "1a19415f",
   "metadata": {
    "papermill": {
     "duration": 0.06252,
     "end_time": "2022-04-21T14:20:29.719257",
     "exception": false,
     "start_time": "2022-04-21T14:20:29.656737",
     "status": "completed"
    },
    "tags": []
   },
   "outputs": [],
   "source": [
    "full_catalog_df['class'] = full_catalog_df.loc[:, 'is_AGN'].copy()"
   ]
  },
  {
   "cell_type": "markdown",
   "id": "b74ec9a9",
   "metadata": {
    "papermill": {
     "duration": 0.018835,
     "end_time": "2022-04-21T14:20:29.760494",
     "exception": false,
     "start_time": "2022-04-21T14:20:29.741659",
     "status": "completed"
    },
    "tags": []
   },
   "source": [
    "#### Load previous model to create labels for unknown sources."
   ]
  },
  {
   "cell_type": "code",
   "execution_count": 22,
   "id": "d81d729d",
   "metadata": {
    "papermill": {
     "duration": 0.583663,
     "end_time": "2022-04-21T14:20:30.362786",
     "exception": false,
     "start_time": "2022-04-21T14:20:29.779123",
     "status": "completed"
    },
    "tags": []
   },
   "outputs": [
    {
     "name": "stdout",
     "output_type": "stream",
     "text": [
      "Transformation Pipeline and Model Successfully Loaded\n"
     ]
    }
   ],
   "source": [
    "# if load_model_flag:\n",
    "AGN_gal_clf = pyc.load_model('models/classification_AGN_galaxy_apr_20_2022')"
   ]
  },
  {
   "cell_type": "code",
   "execution_count": 23,
   "id": "b37b1ee2",
   "metadata": {
    "papermill": {
     "duration": 125.807916,
     "end_time": "2022-04-21T14:22:36.194906",
     "exception": false,
     "start_time": "2022-04-21T14:20:30.386990",
     "status": "completed"
    },
    "tags": []
   },
   "outputs": [],
   "source": [
    "AGN_pred_threshold = 0.5\n",
    "new_labels_train   = pyc.predict_model(AGN_gal_clf,\\\n",
    "                    data=full_catalog_df.loc[selected_indices],\\\n",
    "                    probability_threshold=AGN_pred_threshold, raw_score=True).loc[:, 'Score_1']"
   ]
  },
  {
   "cell_type": "code",
   "execution_count": 24,
   "id": "500ed1dd",
   "metadata": {
    "papermill": {
     "duration": 0.691881,
     "end_time": "2022-04-21T14:22:36.909516",
     "exception": false,
     "start_time": "2022-04-21T14:22:36.217635",
     "status": "completed"
    },
    "tags": []
   },
   "outputs": [],
   "source": [
    "full_catalog_df.loc[selected_indices, 'class'] = new_labels_train"
   ]
  },
  {
   "cell_type": "code",
   "execution_count": 25,
   "id": "176ab5f7-d85f-4d5c-9ef3-ae7c36f21539",
   "metadata": {
    "jupyter": {
     "source_hidden": true
    },
    "papermill": {
     "duration": 0.057067,
     "end_time": "2022-04-21T14:22:36.992837",
     "exception": false,
     "start_time": "2022-04-21T14:22:36.935770",
     "status": "completed"
    },
    "tags": []
   },
   "outputs": [
    {
     "name": "stdout",
     "output_type": "stream",
     "text": [
      "In this dataset, with 6729647 elements,\n",
      "30395 of them are marked as AGN, and 55153 are identified as galaxies\n",
      "6644099 have no previous (confirmed) label.\n"
     ]
    }
   ],
   "source": [
    "n_is_AGN = np.sum(full_catalog_df.loc[:, 'is_AGN'] == 1)\n",
    "n_is_gal = np.sum(full_catalog_df.loc[:, 'is_gal'] == 1)\n",
    "n_is_unk = len(full_catalog_df) - n_is_AGN - n_is_gal\n",
    "print(f'In this dataset, with {len(full_catalog_df.loc[:, \"is_AGN\"])} elements,\\n' +\\\n",
    "         f'{n_is_AGN} of them are marked as AGN, and {n_is_gal} are identified as galaxies\\n' +\\\n",
    "         f'{n_is_unk} have no previous (confirmed) label.')"
   ]
  },
  {
   "cell_type": "markdown",
   "id": "37747a00-c668-4aeb-9978-60f65e09f304",
   "metadata": {
    "papermill": {
     "duration": 0.019263,
     "end_time": "2022-04-21T14:22:37.035902",
     "exception": false,
     "start_time": "2022-04-21T14:22:37.016639",
     "status": "completed"
    },
    "tags": []
   },
   "source": [
    "Remove intermediate targets"
   ]
  },
  {
   "cell_type": "code",
   "execution_count": 26,
   "id": "a6723ecb-c503-4f27-9b9b-6d2e5a1b5b75",
   "metadata": {
    "papermill": {
     "duration": 0.40856,
     "end_time": "2022-04-21T14:22:37.463594",
     "exception": false,
     "start_time": "2022-04-21T14:22:37.055034",
     "status": "completed"
    },
    "tags": []
   },
   "outputs": [],
   "source": [
    "full_catalog_df = full_catalog_df.drop(columns=['is_AGN', 'is_SDSS_gal', 'is_gal'])"
   ]
  },
  {
   "cell_type": "markdown",
   "id": "6619390c-a04f-4bd0-9f97-9ca54bc9c764",
   "metadata": {
    "id": "6619390c-a04f-4bd0-9f97-9ca54bc9c764",
    "papermill": {
     "duration": 0.019756,
     "end_time": "2022-04-21T14:22:37.510644",
     "exception": false,
     "start_time": "2022-04-21T14:22:37.490888",
     "status": "completed"
    },
    "tags": []
   },
   "source": [
    "---"
   ]
  },
  {
   "cell_type": "code",
   "execution_count": 27,
   "id": "8135cd39-a9ca-431c-a27d-f7bc98aa9f1a",
   "metadata": {
    "papermill": {
     "duration": 0.034731,
     "end_time": "2022-04-21T14:22:38.992576",
     "exception": false,
     "start_time": "2022-04-21T14:22:38.957845",
     "status": "completed"
    },
    "tags": []
   },
   "outputs": [],
   "source": [
    "gal_threshold = 0.05\n",
    "AGN_threshold = 0.95"
   ]
  },
  {
   "cell_type": "markdown",
   "id": "cd1651fc-d16e-44b6-88e9-9977d26699dc",
   "metadata": {
    "papermill": {
     "duration": 0.019495,
     "end_time": "2022-04-21T14:22:37.550973",
     "exception": false,
     "start_time": "2022-04-21T14:22:37.531478",
     "status": "completed"
    },
    "tags": []
   },
   "source": [
    "Histogram of new classes (and their probabilities)"
   ]
  },
  {
   "cell_type": "code",
   "execution_count": 28,
   "id": "e9e0e4ae-da38-446b-badb-440b3c192adf",
   "metadata": {
    "papermill": {
     "duration": 1.268634,
     "end_time": "2022-04-21T14:22:38.840466",
     "exception": false,
     "start_time": "2022-04-21T14:22:37.571832",
     "status": "completed"
    },
    "tags": []
   },
   "outputs": [
    {
     "data": {
      "image/png": "[encoded data removed]",
      "text/plain": [
       "<Figure size 900x550 with 1 Axes>"
      ]
     },
     "metadata": {},
     "output_type": "display_data"
    }
   ],
   "source": [
    "fig             = plt.figure(figsize=(9,5.5))\n",
    "ax1             = fig.add_subplot(111, xscale='linear', yscale='log')\n",
    "\n",
    "min_score  = np.nanmin(full_catalog_df.loc[:, 'class'])\n",
    "max_score  = np.nanmax(full_catalog_df.loc[:, 'class'])\n",
    "score_bins = np.linspace(min_score, max_score, 30)\n",
    "\n",
    "ax1.hist(full_catalog_df.loc[:, 'class'], bins=score_bins, histtype='stepfilled', ec='k',\\\n",
    "         lw=3.5, color=cm.get_cmap('cet_gray')(0.8), alpha=1.0, label='Full used sample')\n",
    "\n",
    "ax1.axvline(x=0.5,           ls='--', c='k', lw=2.5)\n",
    "ax1.axvline(x=gal_threshold, ls='-.', c='k', lw=2.5)\n",
    "ax1.axvline(x=AGN_threshold, ls='-.', c='k', lw=2.5)\n",
    "    \n",
    "ax1.tick_params(which='both', top=True, right=True, direction='in')\n",
    "ax1.tick_params(axis='both', which='major', labelsize=14)\n",
    "ax1.tick_params(which='major', length=8, width=1.5)\n",
    "ax1.tick_params(which='minor', length=4, width=1.5)\n",
    "ax1.set_xlabel('AGN/Galaxy class', size=20)\n",
    "ax1.set_ylabel('Frequency', size=20)\n",
    "plt.setp(ax1.spines.values(), linewidth=3.5)\n",
    "plt.setp(ax1.spines.values(), linewidth=3.5)\n",
    "plt.legend(loc=1, fontsize=14)\n",
    "plt.grid(False)\n",
    "# ax1.set_xlim(left=min_score - 1e-2, right=max_score + 1e-2)\n",
    "#ax1.set_aspect('equal', 'box')\n",
    "if save_plot_flag:\n",
    "    plt.savefig('plots/classes_AGN_galaxy_plus_predictions.pdf', bbox_inches='tight')\n",
    "fig.tight_layout()"
   ]
  },
  {
   "cell_type": "markdown",
   "id": "600bf7cc-5299-43b1-8376-d7a87dc42cd7",
   "metadata": {
    "papermill": {
     "duration": 0.073896,
     "end_time": "2022-04-21T14:22:38.938244",
     "exception": false,
     "start_time": "2022-04-21T14:22:38.864348",
     "status": "completed"
    },
    "tags": []
   },
   "source": [
    "It is possible to select only sources that are very close to be confirmed.  \n",
    "Training could be done with these sources only."
   ]
  },
  {
   "cell_type": "code",
   "execution_count": 29,
   "id": "72502490-0cf6-4e9e-973f-ee02669d8259",
   "metadata": {
    "papermill": {
     "duration": 0.04058,
     "end_time": "2022-04-21T14:22:39.056990",
     "exception": false,
     "start_time": "2022-04-21T14:22:39.016410",
     "status": "completed"
    },
    "tags": []
   },
   "outputs": [],
   "source": [
    "conf_gal = np.sum((full_catalog_df.loc[:, 'class'] == 0.0))"
   ]
  },
  {
   "cell_type": "code",
   "execution_count": 30,
   "id": "1ac24256-137d-4741-858b-f449c4014c53",
   "metadata": {
    "papermill": {
     "duration": 0.039998,
     "end_time": "2022-04-21T14:22:39.120993",
     "exception": false,
     "start_time": "2022-04-21T14:22:39.080995",
     "status": "completed"
    },
    "tags": []
   },
   "outputs": [],
   "source": [
    "conf_AGN = np.sum((full_catalog_df.loc[:, 'class'] == 1.0))"
   ]
  },
  {
   "cell_type": "code",
   "execution_count": 31,
   "id": "f36bee28-6ee7-416f-8ee2-2aa23b8640b6",
   "metadata": {
    "papermill": {
     "duration": 0.050567,
     "end_time": "2022-04-21T14:22:39.195914",
     "exception": false,
     "start_time": "2022-04-21T14:22:39.145347",
     "status": "completed"
    },
    "tags": []
   },
   "outputs": [],
   "source": [
    "upgrad_AGN = np.sum((full_catalog_df.loc[:, 'class'] > AGN_threshold) & (full_catalog_df.loc[:, 'class'] < 1.00))"
   ]
  },
  {
   "cell_type": "code",
   "execution_count": 32,
   "id": "8dca6b74-5b6d-4300-b3b4-084c02374381",
   "metadata": {
    "papermill": {
     "duration": 0.043402,
     "end_time": "2022-04-21T14:22:39.264664",
     "exception": false,
     "start_time": "2022-04-21T14:22:39.221262",
     "status": "completed"
    },
    "tags": []
   },
   "outputs": [],
   "source": [
    "upgrad_gal = np.sum((full_catalog_df.loc[:, 'class'] > 0.00) & (full_catalog_df.loc[:, 'class'] < gal_threshold))"
   ]
  },
  {
   "cell_type": "code",
   "execution_count": 33,
   "id": "f0a8be79-5c8a-4812-97ea-408196010251",
   "metadata": {
    "papermill": {
     "duration": 0.027061,
     "end_time": "2022-04-21T14:22:39.315784",
     "exception": false,
     "start_time": "2022-04-21T14:22:39.288723",
     "status": "completed"
    },
    "tags": []
   },
   "outputs": [
    {
     "name": "stdout",
     "output_type": "stream",
     "text": [
      "85,548\n"
     ]
    }
   ],
   "source": [
    "print(f'{conf_gal + conf_AGN:,}')"
   ]
  },
  {
   "cell_type": "code",
   "execution_count": 34,
   "id": "0c6bb61e-d825-4eb1-b722-5f81eb3f7753",
   "metadata": {
    "papermill": {
     "duration": 0.027411,
     "end_time": "2022-04-21T14:22:39.362742",
     "exception": false,
     "start_time": "2022-04-21T14:22:39.335331",
     "status": "completed"
    },
    "tags": []
   },
   "outputs": [
    {
     "name": "stdout",
     "output_type": "stream",
     "text": [
      "746,816\n"
     ]
    }
   ],
   "source": [
    "print(f'{upgrad_gal + upgrad_AGN:,}')"
   ]
  },
  {
   "cell_type": "code",
   "execution_count": 35,
   "id": "059be459-c5d5-475e-93b8-aa5dd841d176",
   "metadata": {
    "papermill": {
     "duration": 0.029514,
     "end_time": "2022-04-21T14:22:39.412228",
     "exception": false,
     "start_time": "2022-04-21T14:22:39.382714",
     "status": "completed"
    },
    "tags": []
   },
   "outputs": [
    {
     "name": "stdout",
     "output_type": "stream",
     "text": [
      "753,431\n"
     ]
    }
   ],
   "source": [
    "print(f'{conf_gal + upgrad_gal:,}')"
   ]
  },
  {
   "cell_type": "code",
   "execution_count": 36,
   "id": "af09bfee-9fbf-4706-864c-28ae920956cd",
   "metadata": {
    "papermill": {
     "duration": 0.028574,
     "end_time": "2022-04-21T14:22:39.461581",
     "exception": false,
     "start_time": "2022-04-21T14:22:39.433007",
     "status": "completed"
    },
    "tags": []
   },
   "outputs": [
    {
     "name": "stdout",
     "output_type": "stream",
     "text": [
      "78,933\n"
     ]
    }
   ],
   "source": [
    "print(f'{conf_AGN + upgrad_AGN:,}')"
   ]
  },
  {
   "cell_type": "code",
   "execution_count": 37,
   "id": "08b79439-7d0c-4260-9c8e-6533b8f091c3",
   "metadata": {
    "papermill": {
     "duration": 0.028708,
     "end_time": "2022-04-21T14:22:39.510226",
     "exception": false,
     "start_time": "2022-04-21T14:22:39.481518",
     "status": "completed"
    },
    "tags": []
   },
   "outputs": [
    {
     "name": "stdout",
     "output_type": "stream",
     "text": [
      "832,364\n"
     ]
    }
   ],
   "source": [
    "print(f'{conf_gal + conf_AGN + upgrad_gal + upgrad_AGN:,}')"
   ]
  },
  {
   "cell_type": "code",
   "execution_count": 38,
   "id": "5cdb6790-691c-4b2b-b52e-83d7b4b8dad7",
   "metadata": {
    "papermill": {
     "duration": 0.047887,
     "end_time": "2022-04-21T14:22:39.581620",
     "exception": false,
     "start_time": "2022-04-21T14:22:39.533733",
     "status": "completed"
    },
    "tags": []
   },
   "outputs": [
    {
     "name": "stdout",
     "output_type": "stream",
     "text": [
      "6,644,099\n"
     ]
    }
   ],
   "source": [
    "print(f\"{np.sum((full_catalog_df.loc[:, 'class'] > 0.0) & (full_catalog_df.loc[:, 'class'] < 1.0)):,}\")"
   ]
  },
  {
   "cell_type": "code",
   "execution_count": 39,
   "id": "d33b7ca8-690d-4f03-ad6d-6e4fa1e40ed2",
   "metadata": {
    "papermill": {
     "duration": 0.052332,
     "end_time": "2022-04-21T14:22:39.659390",
     "exception": false,
     "start_time": "2022-04-21T14:22:39.607058",
     "status": "completed"
    },
    "tags": []
   },
   "outputs": [],
   "source": [
    "filter_upgrade_gal = (full_catalog_df.loc[:, 'class'] > 0.00) & (full_catalog_df.loc[:, 'class'] < gal_threshold)\n",
    "filter_upgrade_AGN = (full_catalog_df.loc[:, 'class'] > AGN_threshold) & (full_catalog_df.loc[:, 'class'] < 1.00)"
   ]
  },
  {
   "cell_type": "code",
   "execution_count": 40,
   "id": "0bad2e22-7b43-495d-a48b-ad088a879684",
   "metadata": {
    "papermill": {
     "duration": 0.176205,
     "end_time": "2022-04-21T14:22:39.861114",
     "exception": false,
     "start_time": "2022-04-21T14:22:39.684909",
     "status": "completed"
    },
    "tags": []
   },
   "outputs": [],
   "source": [
    "# full_catalog_df.loc[:, 'class'] = full_catalog_df.loc[:, 'class'].mask(filter_upgrade_gal, 0)\n",
    "# full_catalog_df.loc[:, 'class'] = full_catalog_df.loc[:, 'class'].mask(filter_upgrade_AGN, 1)"
   ]
  },
  {
   "cell_type": "code",
   "execution_count": 41,
   "id": "67204398-aba8-4e41-9d25-6664a0739ad8",
   "metadata": {
    "papermill": {
     "duration": 0.192193,
     "end_time": "2022-04-21T14:22:40.079777",
     "exception": false,
     "start_time": "2022-04-21T14:22:39.887584",
     "status": "completed"
    },
    "tags": []
   },
   "outputs": [],
   "source": [
    "# full_catalog_df = full_catalog_df.loc[(full_catalog_df.loc[:, 'class'] == 0) | (full_catalog_df.loc[:, 'class'] == 1) |\\\n",
    "#                                       filter_upgrade_gal | filter_upgrade_AGN]"
   ]
  },
  {
   "cell_type": "code",
   "execution_count": 42,
   "id": "1995f5c5-3a26-409b-aa2e-c6caba40d540",
   "metadata": {
    "papermill": {
     "duration": 0.036042,
     "end_time": "2022-04-21T14:22:40.142613",
     "exception": false,
     "start_time": "2022-04-21T14:22:40.106571",
     "status": "completed"
    },
    "tags": []
   },
   "outputs": [],
   "source": [
    "# full_catalog_df.loc[:, 'class'] = full_catalog_df.loc[:, 'class'].astype(int)"
   ]
  },
  {
   "cell_type": "markdown",
   "id": "27645d12-9370-40d8-aeba-24d4415bb9eb",
   "metadata": {
    "id": "27645d12-9370-40d8-aeba-24d4415bb9eb",
    "papermill": {
     "duration": 0.020056,
     "end_time": "2022-04-21T14:22:40.189347",
     "exception": false,
     "start_time": "2022-04-21T14:22:40.169291",
     "status": "completed"
    },
    "tags": []
   },
   "source": [
    "---"
   ]
  },
  {
   "cell_type": "markdown",
   "id": "89fed398-a493-40eb-adf1-44e8cc3d403b",
   "metadata": {
    "papermill": {
     "duration": 0.020019,
     "end_time": "2022-04-21T14:22:40.229652",
     "exception": false,
     "start_time": "2022-04-21T14:22:40.209633",
     "status": "completed"
    },
    "tags": []
   },
   "source": [
    "Load validation set indices from previous model."
   ]
  },
  {
   "cell_type": "code",
   "execution_count": 43,
   "id": "b9a21b6e-0ea6-43c4-a8cc-6051d0561a8e",
   "metadata": {
    "papermill": {
     "duration": 0.072286,
     "end_time": "2022-04-21T14:22:40.322825",
     "exception": false,
     "start_time": "2022-04-21T14:22:40.250539",
     "status": "completed"
    },
    "tags": []
   },
   "outputs": [],
   "source": [
    "old_validation_idx = pd.Index(np.loadtxt(fname='idx_validation_01.txt', dtype=np.int32))"
   ]
  },
  {
   "cell_type": "code",
   "execution_count": 44,
   "id": "9aefedeb-65d8-4ade-9b97-6179c322d3a3",
   "metadata": {
    "papermill": {
     "duration": 0.191459,
     "end_time": "2022-04-21T14:22:40.537239",
     "exception": false,
     "start_time": "2022-04-21T14:22:40.345780",
     "status": "completed"
    },
    "tags": []
   },
   "outputs": [],
   "source": [
    "remaining_idx      = full_catalog_df.drop(index=old_validation_idx).index"
   ]
  },
  {
   "cell_type": "code",
   "execution_count": 45,
   "id": "24295c22-fd38-4920-9ad7-375b7e25ef0d",
   "metadata": {
    "papermill": {
     "duration": 0.027462,
     "end_time": "2022-04-21T14:22:40.590434",
     "exception": false,
     "start_time": "2022-04-21T14:22:40.562972",
     "status": "completed"
    },
    "tags": []
   },
   "outputs": [],
   "source": [
    "needed_val         = np.ceil(len(full_catalog_df) * 0.2).astype(int)"
   ]
  },
  {
   "cell_type": "code",
   "execution_count": 46,
   "id": "e8cfd47c-99d6-4ac7-86ba-56d6aaf2d14b",
   "metadata": {
    "papermill": {
     "duration": 0.026966,
     "end_time": "2022-04-21T14:22:40.637868",
     "exception": false,
     "start_time": "2022-04-21T14:22:40.610902",
     "status": "completed"
    },
    "tags": []
   },
   "outputs": [],
   "source": [
    "remaining_val_size = needed_val - len(old_validation_idx)"
   ]
  },
  {
   "cell_type": "markdown",
   "id": "a703c5a2",
   "metadata": {
    "papermill": {
     "duration": 0.020947,
     "end_time": "2022-04-21T14:22:40.679357",
     "exception": false,
     "start_time": "2022-04-21T14:22:40.658410",
     "status": "completed"
    },
    "tags": []
   },
   "source": [
    "## Split data: Test, Train, Validation"
   ]
  },
  {
   "cell_type": "code",
   "execution_count": 47,
   "id": "2e8f8310-48c9-44ae-a998-da69fa736919",
   "metadata": {
    "papermill": {
     "duration": 0.619699,
     "end_time": "2022-04-21T14:22:41.320218",
     "exception": false,
     "start_time": "2022-04-21T14:22:40.700519",
     "status": "completed"
    },
    "tags": []
   },
   "outputs": [
    {
     "name": "stdout",
     "output_type": "stream",
     "text": [
      "Shape of used data\n",
      "----------------------------------------\n",
      "Full Dataset size: (6729647, 39)\n",
      "Data for Modeling (Train and Test): (5383717, 39)\n",
      "Unseen Data For Validation: (1345930, 39)\n",
      "----------------------------------------\n"
     ]
    }
   ],
   "source": [
    "_, temp_val_df = train_test_split(full_catalog_df.drop(index=old_validation_idx), test_size=remaining_val_size,\\\n",
    "                                  random_state=seed, stratify=None)\n",
    "temp_val_idx   = temp_val_df.index\n",
    "new_val_idx    = old_validation_idx.union(temp_val_idx)\n",
    "\n",
    "validation_df  = full_catalog_df.loc[new_val_idx]\n",
    "train_test_df  = full_catalog_df.drop(index=new_val_idx)\n",
    "\n",
    "print('Shape of used data')\n",
    "print('-' * 40)\n",
    "print(f'Full Dataset size: {full_catalog_df.shape}')\n",
    "print(f'Data for Modeling (Train and Test): {train_test_df.shape}')\n",
    "print(f'Unseen Data For Validation: {validation_df.shape}')\n",
    "print('-' * 40)"
   ]
  },
  {
   "cell_type": "markdown",
   "id": "fcb25172-9c37-496b-9b32-c2ba18f4bc86",
   "metadata": {
    "papermill": {
     "duration": 0.020383,
     "end_time": "2022-04-21T14:22:41.365037",
     "exception": false,
     "start_time": "2022-04-21T14:22:41.344654",
     "status": "completed"
    },
    "tags": []
   },
   "source": [
    "Save indices of sources in validation sub-set for future steps."
   ]
  },
  {
   "cell_type": "code",
   "execution_count": 48,
   "id": "fb7a7a5e-f8ca-4022-b64a-6d68301557dc",
   "metadata": {
    "papermill": {
     "duration": 0.026474,
     "end_time": "2022-04-21T14:22:41.411944",
     "exception": false,
     "start_time": "2022-04-21T14:22:41.385470",
     "status": "completed"
    },
    "tags": []
   },
   "outputs": [],
   "source": [
    "# val_idx = new_val_idx.to_numpy()\n",
    "# np.savetxt(fname='idx_validation_02.txt', X=val_idx, header='Indices from second AGN training.', fmt='%i')"
   ]
  },
  {
   "cell_type": "markdown",
   "id": "b1d5d457-4601-40bd-9bc3-6576c691d87d",
   "metadata": {
    "papermill": {
     "duration": 0.020249,
     "end_time": "2022-04-21T14:22:41.453013",
     "exception": false,
     "start_time": "2022-04-21T14:22:41.432764",
     "status": "completed"
    },
    "tags": []
   },
   "source": [
    "---"
   ]
  },
  {
   "cell_type": "markdown",
   "id": "5033fec1-9290-49fd-a58b-e6c9e8350871",
   "metadata": {
    "papermill": {
     "duration": 0.02036,
     "end_time": "2022-04-21T14:22:41.494479",
     "exception": false,
     "start_time": "2022-04-21T14:22:41.474119",
     "status": "completed"
    },
    "tags": []
   },
   "source": [
    "## Use Correlation matrix to discard some features"
   ]
  },
  {
   "cell_type": "code",
   "execution_count": 49,
   "id": "747f0c79-4353-406f-97b5-fc275f6812c8",
   "metadata": {
    "jupyter": {
     "source_hidden": true
    },
    "papermill": {
     "duration": 0.273966,
     "end_time": "2022-04-21T14:22:41.789006",
     "exception": false,
     "start_time": "2022-04-21T14:22:41.515040",
     "status": "completed"
    },
    "tags": []
   },
   "outputs": [],
   "source": [
    "min_max_scaler              = MinMaxScaler(feature_range=(0., 1.))\n",
    "full_scaled                 = min_max_scaler.fit_transform(train_test_df.values)\n",
    "norm_train_test_df = pd.DataFrame(data=full_scaled, columns=train_test_df.columns, index=train_test_df.index)"
   ]
  },
  {
   "cell_type": "markdown",
   "id": "f058e8e1-3263-4979-aae8-d1536f0233fd",
   "metadata": {
    "papermill": {
     "duration": 0.020571,
     "end_time": "2022-04-21T14:22:41.834589",
     "exception": false,
     "start_time": "2022-04-21T14:22:41.814018",
     "status": "completed"
    },
    "tags": []
   },
   "source": [
    "Calculate Reduced Standard deviation to discard between pairs of features:  \n",
    "\n",
    "$$\\mathrm{RSD} = \\frac{\\sigma}{\\mu} \\times 100$$"
   ]
  },
  {
   "cell_type": "code",
   "execution_count": 50,
   "id": "92a2f35f-c277-45f5-8e17-7bcb5e3b4fce",
   "metadata": {
    "papermill": {
     "duration": 0.114547,
     "end_time": "2022-04-21T14:22:41.969640",
     "exception": false,
     "start_time": "2022-04-21T14:22:41.855093",
     "status": "completed"
    },
    "tags": []
   },
   "outputs": [],
   "source": [
    "rsd_vals = (train_test_df.std() / train_test_df.mean() * 100).sort_values(ascending=False)"
   ]
  },
  {
   "cell_type": "code",
   "execution_count": 51,
   "id": "a279053a-23c1-4ba1-af31-1f2a70a84ffc",
   "metadata": {
    "papermill": {
     "duration": 0.031585,
     "end_time": "2022-04-21T14:22:42.026348",
     "exception": false,
     "start_time": "2022-04-21T14:22:41.994763",
     "status": "completed"
    },
    "tags": []
   },
   "outputs": [
    {
     "data": {
      "text/plain": [
       "w1_w2       297.002761\n",
       "r_i         156.150228\n",
       "g_r         151.003560\n",
       "g_i         108.997276\n",
       "i_z          89.909671\n",
       "z_y          86.754900\n",
       "band_num     63.638094\n",
       "class        55.051763\n",
       "J_H          22.464530\n",
       "H_K          21.513474\n",
       "w2_w3        17.492513\n",
       "FUVmag        8.097891\n",
       "imag          7.818320\n",
       "zmag          7.575312\n",
       "i/K           7.550355\n",
       "W2mproPM      7.215621\n",
       "rmag          7.139579\n",
       "w1/w4         6.273324\n",
       "gmag          6.113229\n",
       "z/W1          6.031682\n",
       "r/H           5.742295\n",
       "w3_w4         5.702286\n",
       "ymag          5.670218\n",
       "w1/w3         5.539109\n",
       "Jmag          5.533106\n",
       "y/W2          5.380681\n",
       "FUV/K         5.202941\n",
       "g/J           4.648971\n",
       "Hmag          4.569893\n",
       "W4mag         4.517869\n",
       "i/y           4.343032\n",
       "r/z           4.079542\n",
       "W1mproPM      3.992815\n",
       "J/K           3.907972\n",
       "w2/w4         3.427626\n",
       "W3mag         3.188633\n",
       "NUVmag        3.146051\n",
       "Kmag          3.123574\n",
       "FUV_NUV     -16.369570\n",
       "dtype: float64"
      ]
     },
     "execution_count": 51,
     "metadata": {},
     "output_type": "execute_result"
    }
   ],
   "source": [
    "rsd_vals"
   ]
  },
  {
   "cell_type": "code",
   "execution_count": 52,
   "id": "b86e34d9-aa3e-45b0-a825-fdd745cf0a6f",
   "metadata": {
    "papermill": {
     "duration": 2.663497,
     "end_time": "2022-04-21T14:22:44.712748",
     "exception": false,
     "start_time": "2022-04-21T14:22:42.049251",
     "status": "completed"
    },
    "tags": []
   },
   "outputs": [],
   "source": [
    "correlation = norm_train_test_df.corr()"
   ]
  },
  {
   "cell_type": "code",
   "execution_count": 53,
   "id": "ad9e8665-7152-45af-8bc1-ba67fe1dec09",
   "metadata": {
    "papermill": {
     "duration": 0.031546,
     "end_time": "2022-04-21T14:22:44.773554",
     "exception": false,
     "start_time": "2022-04-21T14:22:44.742008",
     "status": "completed"
    },
    "tags": []
   },
   "outputs": [],
   "source": [
    "filt_high_corr = np.array(correlation.abs().unstack().sort_values(ascending=False).drop_duplicates().values > 0.75) &\\\n",
    "np.array(correlation.abs().unstack().sort_values(ascending=False).drop_duplicates().values < 1.00)"
   ]
  },
  {
   "cell_type": "code",
   "execution_count": 54,
   "id": "9a9c3b24-e028-4b18-b577-90757f6ac6a8",
   "metadata": {
    "papermill": {
     "duration": 0.03101,
     "end_time": "2022-04-21T14:22:44.828920",
     "exception": false,
     "start_time": "2022-04-21T14:22:44.797910",
     "status": "completed"
    },
    "tags": []
   },
   "outputs": [],
   "source": [
    "corr_pairs     = correlation.abs().unstack().sort_values(ascending=False).drop_duplicates().index[filt_high_corr]"
   ]
  },
  {
   "cell_type": "code",
   "execution_count": 55,
   "id": "199b9be5-89b1-42c6-a47d-cabd688a5645",
   "metadata": {
    "papermill": {
     "duration": 0.027731,
     "end_time": "2022-04-21T14:22:44.881417",
     "exception": false,
     "start_time": "2022-04-21T14:22:44.853686",
     "status": "completed"
    },
    "tags": []
   },
   "outputs": [],
   "source": [
    "target_feat = 'class'"
   ]
  },
  {
   "cell_type": "code",
   "execution_count": 56,
   "id": "a264ec1a-79b8-4dd5-8405-af173cf62649",
   "metadata": {
    "jupyter": {
     "source_hidden": true
    },
    "papermill": {
     "duration": 0.028411,
     "end_time": "2022-04-21T14:22:44.930853",
     "exception": false,
     "start_time": "2022-04-21T14:22:44.902442",
     "status": "completed"
    },
    "tags": []
   },
   "outputs": [],
   "source": [
    "list_drop_corr = []"
   ]
  },
  {
   "cell_type": "markdown",
   "id": "b9d49be1-930f-4620-b398-9ff63802d13f",
   "metadata": {
    "papermill": {
     "duration": 0.020578,
     "end_time": "2022-04-21T14:22:44.974852",
     "exception": false,
     "start_time": "2022-04-21T14:22:44.954274",
     "status": "completed"
    },
    "tags": []
   },
   "source": [
    "We want to discard features that are highly correlated (>0.75).  \n",
    "Between two features, we will discard the one with the lowest standard deviation (RSD)."
   ]
  },
  {
   "cell_type": "code",
   "execution_count": 57,
   "id": "477787a2-f9e0-4c6b-9054-4c9c24b2ca76",
   "metadata": {
    "jupyter": {
     "source_hidden": true
    },
    "papermill": {
     "duration": 0.032563,
     "end_time": "2022-04-21T14:22:45.028574",
     "exception": false,
     "start_time": "2022-04-21T14:22:44.996011",
     "status": "completed"
    },
    "tags": []
   },
   "outputs": [],
   "source": [
    "for row in corr_pairs:\n",
    "    if target_feat in row:\n",
    "        continue\n",
    "    elif row[0] in list_drop_corr:\n",
    "        continue\n",
    "    elif row[1] in list_drop_corr:\n",
    "        continue\n",
    "    else:\n",
    "        metric_a = rsd_vals[row[0]]\n",
    "        metric_b = rsd_vals[row[1]]\n",
    "        if metric_a >= metric_b:\n",
    "            list_drop_corr.append(row[1])\n",
    "        else:\n",
    "            list_drop_corr.append(row[0])"
   ]
  },
  {
   "cell_type": "code",
   "execution_count": 58,
   "id": "448c0ecb-965d-45c5-b485-335ef66cac9f",
   "metadata": {
    "papermill": {
     "duration": 0.03214,
     "end_time": "2022-04-21T14:22:45.084983",
     "exception": false,
     "start_time": "2022-04-21T14:22:45.052843",
     "status": "completed"
    },
    "tags": []
   },
   "outputs": [
    {
     "data": {
      "text/plain": [
       "['W1mproPM',\n",
       " 'w2/w4',\n",
       " 'Hmag',\n",
       " 'w1/w3',\n",
       " 'i/K',\n",
       " 'FUV_NUV',\n",
       " 'Kmag',\n",
       " 'W2mproPM',\n",
       " 'J/K',\n",
       " 'r/H',\n",
       " 'zmag',\n",
       " 'W3mag',\n",
       " 'g/J',\n",
       " 'rmag',\n",
       " 'w1/w4',\n",
       " 'y/W2',\n",
       " 'FUV/K',\n",
       " 'ymag',\n",
       " 'gmag',\n",
       " 'Jmag',\n",
       " 'imag',\n",
       " 'w2_w3',\n",
       " 'i/y']"
      ]
     },
     "execution_count": 58,
     "metadata": {},
     "output_type": "execute_result"
    }
   ],
   "source": [
    "list_drop_corr"
   ]
  },
  {
   "cell_type": "code",
   "execution_count": 59,
   "id": "00bd0f36-0d5d-4bb6-bb86-c0f0783e5c2e",
   "metadata": {
    "papermill": {
     "duration": 0.029083,
     "end_time": "2022-04-21T14:22:45.135810",
     "exception": false,
     "start_time": "2022-04-21T14:22:45.106727",
     "status": "completed"
    },
    "tags": []
   },
   "outputs": [],
   "source": [
    "# correlation.abs().unstack().sort_values(ascending=False).drop_duplicates()[:15]"
   ]
  },
  {
   "cell_type": "code",
   "execution_count": 60,
   "id": "6c4a6747-9ac2-41a8-84a9-bfb6357672c2",
   "metadata": {
    "papermill": {
     "duration": 0.062823,
     "end_time": "2022-04-21T14:22:45.219567",
     "exception": false,
     "start_time": "2022-04-21T14:22:45.156744",
     "status": "completed"
    },
    "tags": []
   },
   "outputs": [],
   "source": [
    "norm_train_test_discard = norm_train_test_df.drop(columns=list_drop_corr)"
   ]
  },
  {
   "cell_type": "code",
   "execution_count": 61,
   "id": "5422b138-610a-4506-9101-a2f6fb83ebc1",
   "metadata": {
    "papermill": {
     "duration": 0.631979,
     "end_time": "2022-04-21T14:22:45.879433",
     "exception": false,
     "start_time": "2022-04-21T14:22:45.247454",
     "status": "completed"
    },
    "tags": []
   },
   "outputs": [],
   "source": [
    "corr_discard = norm_train_test_discard.corr()"
   ]
  },
  {
   "cell_type": "code",
   "execution_count": 62,
   "id": "241c4494-f9be-462e-bde6-985cf64b257f",
   "metadata": {
    "papermill": {
     "duration": 0.032517,
     "end_time": "2022-04-21T14:22:45.936943",
     "exception": false,
     "start_time": "2022-04-21T14:22:45.904426",
     "status": "completed"
    },
    "tags": []
   },
   "outputs": [
    {
     "data": {
      "text/plain": [
       "band_num  band_num    1.000000\n",
       "g_i       g_r         0.741233\n",
       "          r_i         0.690146\n",
       "w1_w2     band_num    0.675735\n",
       "band_num  z/W1        0.628080\n",
       "r/z       r_i         0.623873\n",
       "z/W1      z_y         0.594933\n",
       "class     w1_w2       0.582693\n",
       "band_num  g_i         0.566286\n",
       "g_i       i_z         0.511103\n",
       "J_H       H_K         0.506416\n",
       "g_i       class       0.506121\n",
       "band_num  z_y         0.504305\n",
       "w1_w2     g_i         0.501009\n",
       "band_num  g_r         0.474234\n",
       "dtype: float64"
      ]
     },
     "execution_count": 62,
     "metadata": {},
     "output_type": "execute_result"
    }
   ],
   "source": [
    "corr_discard.abs().unstack().sort_values(ascending=False).drop_duplicates()[:15]"
   ]
  },
  {
   "cell_type": "code",
   "execution_count": 63,
   "id": "dd35a1bf-b365-4f75-8d1e-27b9e4b7c828",
   "metadata": {
    "jupyter": {
     "source_hidden": true
    },
    "papermill": {
     "duration": 1.797815,
     "end_time": "2022-04-21T14:22:47.756215",
     "exception": false,
     "start_time": "2022-04-21T14:22:45.958400",
     "status": "completed"
    },
    "tags": []
   },
   "outputs": [
    {
     "data": {
      "text/plain": [
       "Text(1049.9166666666667, 0.5, 'feature')"
      ]
     },
     "execution_count": 63,
     "metadata": {},
     "output_type": "execute_result"
    },
    {
     "data": {
      "image/png": "[encoded data removed]",
      "text/plain": [
       "<Figure size 3000x1500 with 2 Axes>"
      ]
     },
     "metadata": {},
     "output_type": "display_data"
    }
   ],
   "source": [
    "plt.figure(figsize=(30,15))\n",
    "sns.set_context('paper', rc={'axes.labelsize':20, 'axes.ticklabelsize':14})\n",
    "ax1 = sns.heatmap(corr_discard, annot=True, cmap=plt.get_cmap('cet_CET_D1A'), center=0.0, square=True)\n",
    "ax1.set_xlabel('feature')\n",
    "ax1.set_ylabel('feature')"
   ]
  },
  {
   "cell_type": "code",
   "execution_count": 64,
   "id": "5f15bc56-cc98-4f7d-b193-8f5a04e6c976",
   "metadata": {
    "papermill": {
     "duration": 0.068446,
     "end_time": "2022-04-21T14:22:47.849946",
     "exception": false,
     "start_time": "2022-04-21T14:22:47.781500",
     "status": "completed"
    },
    "tags": []
   },
   "outputs": [],
   "source": [
    "# norm_train_test_discard.loc[:, 'class'] = norm_train_test_discard.loc[:, 'class'].astype(bool)"
   ]
  },
  {
   "cell_type": "code",
   "execution_count": 65,
   "id": "e4c72849-3867-4be7-bcb0-1fd867f48e22",
   "metadata": {
    "papermill": {
     "duration": 13.108486,
     "end_time": "2022-04-21T14:23:00.985901",
     "exception": false,
     "start_time": "2022-04-21T14:22:47.877415",
     "status": "completed"
    },
    "tags": []
   },
   "outputs": [],
   "source": [
    "pps_matrix = pps.matrix(norm_train_test_discard, random_seed=seed)[['x', 'y', 'ppscore']].pivot(columns='x', index='y', values='ppscore')"
   ]
  },
  {
   "cell_type": "code",
   "execution_count": 66,
   "id": "a1433261-2a7b-42d5-b358-1caec64b3866",
   "metadata": {
    "papermill": {
     "duration": 0.038476,
     "end_time": "2022-04-21T14:23:01.055523",
     "exception": false,
     "start_time": "2022-04-21T14:23:01.017047",
     "status": "completed"
    },
    "tags": []
   },
   "outputs": [
    {
     "data": {
      "text/plain": [
       "x         y       \n",
       "FUVmag    FUVmag      1.000000\n",
       "r_i       g_i         0.561323\n",
       "band_num  g_i         0.493028\n",
       "class     band_num    0.444838\n",
       "i_z       g_i         0.437219\n",
       "r/z       g_i         0.425859\n",
       "i_z       z_y         0.388882\n",
       "z/W1      z_y         0.375098\n",
       "band_num  z/W1        0.372118\n",
       "          i_z         0.363942\n",
       "r/z       z_y         0.352461\n",
       "band_num  z_y         0.348884\n",
       "g_r       g_i         0.337430\n",
       "r/z       i_z         0.321290\n",
       "          r_i         0.313878\n",
       "z/W1      band_num    0.293885\n",
       "J_H       H_K         0.291668\n",
       "z/W1      w1_w2       0.287300\n",
       "band_num  w1_w2       0.280208\n",
       "z_y       z/W1        0.274591\n",
       "dtype: float64"
      ]
     },
     "execution_count": 66,
     "metadata": {},
     "output_type": "execute_result"
    }
   ],
   "source": [
    "pps_matrix.unstack().sort_values(ascending=False).drop_duplicates()[:20]"
   ]
  },
  {
   "cell_type": "code",
   "execution_count": 67,
   "id": "0a16ec24-f1ce-4f3e-b4a6-1702f58ab104",
   "metadata": {
    "jupyter": {
     "source_hidden": true
    },
    "papermill": {
     "duration": 0.034028,
     "end_time": "2022-04-21T14:23:01.116242",
     "exception": false,
     "start_time": "2022-04-21T14:23:01.082214",
     "status": "completed"
    },
    "tags": []
   },
   "outputs": [],
   "source": [
    "filt_high_pps = np.array(pps_matrix.abs().unstack().sort_values(ascending=False).drop_duplicates().values > 0.75) &\\\n",
    "np.array(pps_matrix.abs().unstack().sort_values(ascending=False).drop_duplicates().values < 1.00)"
   ]
  },
  {
   "cell_type": "code",
   "execution_count": 68,
   "id": "cff5a20e-9902-42d2-9ffb-ffd84e86ef1a",
   "metadata": {
    "papermill": {
     "duration": 0.033789,
     "end_time": "2022-04-21T14:23:01.178051",
     "exception": false,
     "start_time": "2022-04-21T14:23:01.144262",
     "status": "completed"
    },
    "tags": []
   },
   "outputs": [],
   "source": [
    "pps_pairs     = pps_matrix.abs().unstack().sort_values(ascending=False).drop_duplicates().index[filt_high_pps]"
   ]
  },
  {
   "cell_type": "code",
   "execution_count": 69,
   "id": "7368e02d-c98b-45f4-a51d-ae2f47ae2d1f",
   "metadata": {
    "papermill": {
     "duration": 0.03171,
     "end_time": "2022-04-21T14:23:01.234376",
     "exception": false,
     "start_time": "2022-04-21T14:23:01.202666",
     "status": "completed"
    },
    "tags": []
   },
   "outputs": [],
   "source": [
    "target_feat = 'class'"
   ]
  },
  {
   "cell_type": "code",
   "execution_count": 70,
   "id": "b978c4d6-f8d3-40c6-8a3c-c21a32780749",
   "metadata": {
    "papermill": {
     "duration": 0.032232,
     "end_time": "2022-04-21T14:23:01.291405",
     "exception": false,
     "start_time": "2022-04-21T14:23:01.259173",
     "status": "completed"
    },
    "tags": []
   },
   "outputs": [],
   "source": [
    "list_drop_pps = []"
   ]
  },
  {
   "cell_type": "code",
   "execution_count": 71,
   "id": "442a5dc2-ed13-404d-8039-a44ee41171d6",
   "metadata": {
    "jupyter": {
     "source_hidden": true
    },
    "papermill": {
     "duration": 0.035489,
     "end_time": "2022-04-21T14:23:01.351399",
     "exception": false,
     "start_time": "2022-04-21T14:23:01.315910",
     "status": "completed"
    },
    "tags": []
   },
   "outputs": [],
   "source": [
    "for row in pps_pairs:\n",
    "    if target_feat in row:\n",
    "        continue\n",
    "    elif row[0] in list_drop_pps:\n",
    "        continue\n",
    "    elif row[1] in list_drop_pps:\n",
    "        continue\n",
    "    else:\n",
    "        metric_a = rsd_vals[row[0]]\n",
    "        metric_b = rsd_vals[row[1]]\n",
    "        if metric_a >= metric_b:\n",
    "            list_drop_pps.append(row[1])\n",
    "        else:\n",
    "            list_drop_pps.append(row[0])"
   ]
  },
  {
   "cell_type": "code",
   "execution_count": 72,
   "id": "30c24a4d-c155-4914-a7f8-865b454ba50e",
   "metadata": {
    "papermill": {
     "duration": 0.034313,
     "end_time": "2022-04-21T14:23:01.410391",
     "exception": false,
     "start_time": "2022-04-21T14:23:01.376078",
     "status": "completed"
    },
    "tags": []
   },
   "outputs": [
    {
     "data": {
      "text/plain": [
       "[]"
      ]
     },
     "execution_count": 72,
     "metadata": {},
     "output_type": "execute_result"
    }
   ],
   "source": [
    "list_drop_pps"
   ]
  },
  {
   "cell_type": "code",
   "execution_count": 73,
   "id": "75faecb9-b716-4de6-a7d2-8a2b718c41e3",
   "metadata": {
    "papermill": {
     "duration": 0.066605,
     "end_time": "2022-04-21T14:23:01.507465",
     "exception": false,
     "start_time": "2022-04-21T14:23:01.440860",
     "status": "completed"
    },
    "tags": []
   },
   "outputs": [],
   "source": [
    "norm_train_test_discard = norm_train_test_discard.drop(columns=list_drop_pps)"
   ]
  },
  {
   "cell_type": "code",
   "execution_count": 74,
   "id": "e5c322eb-c315-48f4-8d7c-6184a89f6ab5",
   "metadata": {
    "papermill": {
     "duration": 0.830994,
     "end_time": "2022-04-21T14:23:02.365975",
     "exception": false,
     "start_time": "2022-04-21T14:23:01.534981",
     "status": "completed"
    },
    "tags": []
   },
   "outputs": [],
   "source": [
    "pps_pred_target = pps.predictors(norm_train_test_discard, 'class', random_seed=seed)"
   ]
  },
  {
   "cell_type": "code",
   "execution_count": 75,
   "id": "bbd71c5c-4711-4569-84c8-4563547d249e",
   "metadata": {
    "papermill": {
     "duration": 0.050263,
     "end_time": "2022-04-21T14:23:02.448744",
     "exception": false,
     "start_time": "2022-04-21T14:23:02.398481",
     "status": "completed"
    },
    "tags": []
   },
   "outputs": [
    {
     "data": {
      "text/html": [
       "<div>\n",
       "<style scoped>\n",
       "    .dataframe tbody tr th:only-of-type {\n",
       "        vertical-align: middle;\n",
       "    }\n",
       "\n",
       "    .dataframe tbody tr th {\n",
       "        vertical-align: top;\n",
       "    }\n",
       "\n",
       "    .dataframe thead th {\n",
       "        text-align: right;\n",
       "    }\n",
       "</style>\n",
       "<table border=\"1\" class=\"dataframe\">\n",
       "  <thead>\n",
       "    <tr style=\"text-align: right;\">\n",
       "      <th></th>\n",
       "      <th>x</th>\n",
       "      <th>y</th>\n",
       "      <th>ppscore</th>\n",
       "      <th>case</th>\n",
       "      <th>is_valid_score</th>\n",
       "      <th>metric</th>\n",
       "      <th>baseline_score</th>\n",
       "      <th>model_score</th>\n",
       "      <th>model</th>\n",
       "    </tr>\n",
       "  </thead>\n",
       "  <tbody>\n",
       "    <tr>\n",
       "      <th>0</th>\n",
       "      <td>w1_w2</td>\n",
       "      <td>class</td>\n",
       "      <td>0.207858</td>\n",
       "      <td>regression</td>\n",
       "      <td>True</td>\n",
       "      <td>mean absolute error</td>\n",
       "      <td>0.146057</td>\n",
       "      <td>0.115698</td>\n",
       "      <td>DecisionTreeRegressor()</td>\n",
       "    </tr>\n",
       "    <tr>\n",
       "      <th>1</th>\n",
       "      <td>band_num</td>\n",
       "      <td>class</td>\n",
       "      <td>0.150394</td>\n",
       "      <td>regression</td>\n",
       "      <td>True</td>\n",
       "      <td>mean absolute error</td>\n",
       "      <td>0.146057</td>\n",
       "      <td>0.124091</td>\n",
       "      <td>DecisionTreeRegressor()</td>\n",
       "    </tr>\n",
       "    <tr>\n",
       "      <th>2</th>\n",
       "      <td>r/z</td>\n",
       "      <td>class</td>\n",
       "      <td>0.100996</td>\n",
       "      <td>regression</td>\n",
       "      <td>True</td>\n",
       "      <td>mean absolute error</td>\n",
       "      <td>0.146057</td>\n",
       "      <td>0.131305</td>\n",
       "      <td>DecisionTreeRegressor()</td>\n",
       "    </tr>\n",
       "    <tr>\n",
       "      <th>3</th>\n",
       "      <td>g_i</td>\n",
       "      <td>class</td>\n",
       "      <td>0.088043</td>\n",
       "      <td>regression</td>\n",
       "      <td>True</td>\n",
       "      <td>mean absolute error</td>\n",
       "      <td>0.146057</td>\n",
       "      <td>0.133197</td>\n",
       "      <td>DecisionTreeRegressor()</td>\n",
       "    </tr>\n",
       "    <tr>\n",
       "      <th>4</th>\n",
       "      <td>z_y</td>\n",
       "      <td>class</td>\n",
       "      <td>0.067503</td>\n",
       "      <td>regression</td>\n",
       "      <td>True</td>\n",
       "      <td>mean absolute error</td>\n",
       "      <td>0.146057</td>\n",
       "      <td>0.136197</td>\n",
       "      <td>DecisionTreeRegressor()</td>\n",
       "    </tr>\n",
       "    <tr>\n",
       "      <th>5</th>\n",
       "      <td>r_i</td>\n",
       "      <td>class</td>\n",
       "      <td>0.040319</td>\n",
       "      <td>regression</td>\n",
       "      <td>True</td>\n",
       "      <td>mean absolute error</td>\n",
       "      <td>0.146057</td>\n",
       "      <td>0.140168</td>\n",
       "      <td>DecisionTreeRegressor()</td>\n",
       "    </tr>\n",
       "    <tr>\n",
       "      <th>6</th>\n",
       "      <td>i_z</td>\n",
       "      <td>class</td>\n",
       "      <td>0.033793</td>\n",
       "      <td>regression</td>\n",
       "      <td>True</td>\n",
       "      <td>mean absolute error</td>\n",
       "      <td>0.146057</td>\n",
       "      <td>0.141121</td>\n",
       "      <td>DecisionTreeRegressor()</td>\n",
       "    </tr>\n",
       "    <tr>\n",
       "      <th>7</th>\n",
       "      <td>FUVmag</td>\n",
       "      <td>class</td>\n",
       "      <td>0.000000</td>\n",
       "      <td>regression</td>\n",
       "      <td>True</td>\n",
       "      <td>mean absolute error</td>\n",
       "      <td>0.146057</td>\n",
       "      <td>0.166644</td>\n",
       "      <td>DecisionTreeRegressor()</td>\n",
       "    </tr>\n",
       "    <tr>\n",
       "      <th>8</th>\n",
       "      <td>NUVmag</td>\n",
       "      <td>class</td>\n",
       "      <td>0.000000</td>\n",
       "      <td>regression</td>\n",
       "      <td>True</td>\n",
       "      <td>mean absolute error</td>\n",
       "      <td>0.146057</td>\n",
       "      <td>0.166496</td>\n",
       "      <td>DecisionTreeRegressor()</td>\n",
       "    </tr>\n",
       "    <tr>\n",
       "      <th>9</th>\n",
       "      <td>W4mag</td>\n",
       "      <td>class</td>\n",
       "      <td>0.000000</td>\n",
       "      <td>regression</td>\n",
       "      <td>True</td>\n",
       "      <td>mean absolute error</td>\n",
       "      <td>0.146057</td>\n",
       "      <td>0.166869</td>\n",
       "      <td>DecisionTreeRegressor()</td>\n",
       "    </tr>\n",
       "    <tr>\n",
       "      <th>10</th>\n",
       "      <td>g_r</td>\n",
       "      <td>class</td>\n",
       "      <td>0.000000</td>\n",
       "      <td>regression</td>\n",
       "      <td>True</td>\n",
       "      <td>mean absolute error</td>\n",
       "      <td>0.146057</td>\n",
       "      <td>0.160583</td>\n",
       "      <td>DecisionTreeRegressor()</td>\n",
       "    </tr>\n",
       "    <tr>\n",
       "      <th>11</th>\n",
       "      <td>w3_w4</td>\n",
       "      <td>class</td>\n",
       "      <td>0.000000</td>\n",
       "      <td>regression</td>\n",
       "      <td>True</td>\n",
       "      <td>mean absolute error</td>\n",
       "      <td>0.146057</td>\n",
       "      <td>0.167714</td>\n",
       "      <td>DecisionTreeRegressor()</td>\n",
       "    </tr>\n",
       "    <tr>\n",
       "      <th>12</th>\n",
       "      <td>J_H</td>\n",
       "      <td>class</td>\n",
       "      <td>0.000000</td>\n",
       "      <td>regression</td>\n",
       "      <td>True</td>\n",
       "      <td>mean absolute error</td>\n",
       "      <td>0.146057</td>\n",
       "      <td>0.163702</td>\n",
       "      <td>DecisionTreeRegressor()</td>\n",
       "    </tr>\n",
       "    <tr>\n",
       "      <th>13</th>\n",
       "      <td>H_K</td>\n",
       "      <td>class</td>\n",
       "      <td>0.000000</td>\n",
       "      <td>regression</td>\n",
       "      <td>True</td>\n",
       "      <td>mean absolute error</td>\n",
       "      <td>0.146057</td>\n",
       "      <td>0.164365</td>\n",
       "      <td>DecisionTreeRegressor()</td>\n",
       "    </tr>\n",
       "    <tr>\n",
       "      <th>14</th>\n",
       "      <td>z/W1</td>\n",
       "      <td>class</td>\n",
       "      <td>0.000000</td>\n",
       "      <td>regression</td>\n",
       "      <td>True</td>\n",
       "      <td>mean absolute error</td>\n",
       "      <td>0.146057</td>\n",
       "      <td>0.146749</td>\n",
       "      <td>DecisionTreeRegressor()</td>\n",
       "    </tr>\n",
       "  </tbody>\n",
       "</table>\n",
       "</div>"
      ],
      "text/plain": [
       "           x      y   ppscore        case  is_valid_score  \\\n",
       "0      w1_w2  class  0.207858  regression            True   \n",
       "1   band_num  class  0.150394  regression            True   \n",
       "2        r/z  class  0.100996  regression            True   \n",
       "3        g_i  class  0.088043  regression            True   \n",
       "4        z_y  class  0.067503  regression            True   \n",
       "5        r_i  class  0.040319  regression            True   \n",
       "6        i_z  class  0.033793  regression            True   \n",
       "7     FUVmag  class  0.000000  regression            True   \n",
       "8     NUVmag  class  0.000000  regression            True   \n",
       "9      W4mag  class  0.000000  regression            True   \n",
       "10       g_r  class  0.000000  regression            True   \n",
       "11     w3_w4  class  0.000000  regression            True   \n",
       "12       J_H  class  0.000000  regression            True   \n",
       "13       H_K  class  0.000000  regression            True   \n",
       "14      z/W1  class  0.000000  regression            True   \n",
       "\n",
       "                 metric  baseline_score  model_score                    model  \n",
       "0   mean absolute error        0.146057     0.115698  DecisionTreeRegressor()  \n",
       "1   mean absolute error        0.146057     0.124091  DecisionTreeRegressor()  \n",
       "2   mean absolute error        0.146057     0.131305  DecisionTreeRegressor()  \n",
       "3   mean absolute error        0.146057     0.133197  DecisionTreeRegressor()  \n",
       "4   mean absolute error        0.146057     0.136197  DecisionTreeRegressor()  \n",
       "5   mean absolute error        0.146057     0.140168  DecisionTreeRegressor()  \n",
       "6   mean absolute error        0.146057     0.141121  DecisionTreeRegressor()  \n",
       "7   mean absolute error        0.146057     0.166644  DecisionTreeRegressor()  \n",
       "8   mean absolute error        0.146057     0.166496  DecisionTreeRegressor()  \n",
       "9   mean absolute error        0.146057     0.166869  DecisionTreeRegressor()  \n",
       "10  mean absolute error        0.146057     0.160583  DecisionTreeRegressor()  \n",
       "11  mean absolute error        0.146057     0.167714  DecisionTreeRegressor()  \n",
       "12  mean absolute error        0.146057     0.163702  DecisionTreeRegressor()  \n",
       "13  mean absolute error        0.146057     0.164365  DecisionTreeRegressor()  \n",
       "14  mean absolute error        0.146057     0.146749  DecisionTreeRegressor()  "
      ]
     },
     "execution_count": 75,
     "metadata": {},
     "output_type": "execute_result"
    }
   ],
   "source": [
    "pps_pred_target"
   ]
  },
  {
   "cell_type": "markdown",
   "id": "f567638a-2720-4d09-8fc4-0832c0307148",
   "metadata": {
    "id": "f567638a-2720-4d09-8fc4-0832c0307148",
    "papermill": {
     "duration": 0.024808,
     "end_time": "2022-04-21T14:23:02.499778",
     "exception": false,
     "start_time": "2022-04-21T14:23:02.474970",
     "status": "completed"
    },
    "tags": []
   },
   "source": [
    "---"
   ]
  },
  {
   "cell_type": "markdown",
   "id": "1b55b413-36ea-4c3a-b261-ae4f4b71045d",
   "metadata": {
    "id": "1b55b413-36ea-4c3a-b261-ae4f4b71045d",
    "papermill": {
     "duration": 0.024681,
     "end_time": "2022-04-21T14:23:02.550007",
     "exception": false,
     "start_time": "2022-04-21T14:23:02.525326",
     "status": "completed"
    },
    "tags": []
   },
   "source": [
    "## Use Machine Learning (ML): PyCaret"
   ]
  },
  {
   "cell_type": "markdown",
   "id": "8BFUMLcApfnI",
   "metadata": {
    "id": "8BFUMLcApfnI",
    "papermill": {
     "duration": 0.024958,
     "end_time": "2022-04-21T14:23:02.600031",
     "exception": false,
     "start_time": "2022-04-21T14:23:02.575073",
     "status": "completed"
    },
    "tags": []
   },
   "source": [
    "## Train Models"
   ]
  },
  {
   "cell_type": "markdown",
   "id": "L0rK_gTcprFK",
   "metadata": {
    "id": "L0rK_gTcprFK",
    "papermill": {
     "duration": 0.056089,
     "end_time": "2022-04-21T14:23:02.681137",
     "exception": false,
     "start_time": "2022-04-21T14:23:02.625048",
     "status": "completed"
    },
    "tags": []
   },
   "source": [
    "### AGN Detection Prediction"
   ]
  },
  {
   "cell_type": "code",
   "execution_count": 76,
   "id": "94b66e0c-55e6-45b2-bd2c-1cec5d314dac",
   "metadata": {
    "papermill": {
     "duration": 0.031793,
     "end_time": "2022-04-21T14:23:02.738268",
     "exception": false,
     "start_time": "2022-04-21T14:23:02.706475",
     "status": "completed"
    },
    "tags": []
   },
   "outputs": [],
   "source": [
    "# final_feats = pps_pred_target.x.to_list()  # Before Boruta\n",
    "final_feats = ['band_num', 'NUVmag', 'g_r', 'r_i', 'i_z', 'z_y',\\\n",
    "               'g_i', 'w1_w2', 'w3_w4', 'H_K', 'r/z', 'z/W1']  # After Boruta"
   ]
  },
  {
   "cell_type": "code",
   "execution_count": 77,
   "id": "a292350f-59de-44db-bd52-e3fcf1bdb8eb",
   "metadata": {
    "papermill": {
     "duration": 0.033157,
     "end_time": "2022-04-21T14:23:02.796563",
     "exception": false,
     "start_time": "2022-04-21T14:23:02.763406",
     "status": "completed"
    },
    "tags": []
   },
   "outputs": [],
   "source": [
    "feats_2_discard = list_drop_corr + list_drop_pps + ['FUVmag', 'W4mag', 'J_H']"
   ]
  },
  {
   "cell_type": "markdown",
   "id": "0f7d88e5-8206-4705-a4a9-17ac9e87a75c",
   "metadata": {
    "papermill": {
     "duration": 0.024915,
     "end_time": "2022-04-21T14:23:02.846634",
     "exception": false,
     "start_time": "2022-04-21T14:23:02.821719",
     "status": "completed"
    },
    "tags": []
   },
   "source": [
    "Boruta discards one feature."
   ]
  },
  {
   "cell_type": "code",
   "execution_count": 78,
   "id": "ttLEcpmVst4j",
   "metadata": {
    "id": "ttLEcpmVst4j",
    "papermill": {
     "duration": 34.203168,
     "end_time": "2022-04-21T14:23:37.074740",
     "exception": false,
     "start_time": "2022-04-21T14:23:02.871572",
     "status": "completed"
    },
    "tags": []
   },
   "outputs": [
    {
     "data": {
      "text/html": [
       "<style type=\"text/css\">\n",
       "#T_75004_row27_col1, #T_75004_row29_col1, #T_75004_row42_col1 {\n",
       "  background-color: lightgreen;\n",
       "}\n",
       "</style>\n",
       "<table id=\"T_75004\">\n",
       "  <thead>\n",
       "    <tr>\n",
       "      <th class=\"blank level0\" >&nbsp;</th>\n",
       "      <th id=\"T_75004_level0_col0\" class=\"col_heading level0 col0\" >Description</th>\n",
       "      <th id=\"T_75004_level0_col1\" class=\"col_heading level0 col1\" >Value</th>\n",
       "    </tr>\n",
       "  </thead>\n",
       "  <tbody>\n",
       "    <tr>\n",
       "      <th id=\"T_75004_level0_row0\" class=\"row_heading level0 row0\" >0</th>\n",
       "      <td id=\"T_75004_row0_col0\" class=\"data row0 col0\" >session_id</td>\n",
       "      <td id=\"T_75004_row0_col1\" class=\"data row0 col1\" >42</td>\n",
       "    </tr>\n",
       "    <tr>\n",
       "      <th id=\"T_75004_level0_row1\" class=\"row_heading level0 row1\" >1</th>\n",
       "      <td id=\"T_75004_row1_col0\" class=\"data row1 col0\" >Target</td>\n",
       "      <td id=\"T_75004_row1_col1\" class=\"data row1 col1\" >class</td>\n",
       "    </tr>\n",
       "    <tr>\n",
       "      <th id=\"T_75004_level0_row2\" class=\"row_heading level0 row2\" >2</th>\n",
       "      <td id=\"T_75004_row2_col0\" class=\"data row2 col0\" >Original Data</td>\n",
       "      <td id=\"T_75004_row2_col1\" class=\"data row2 col1\" >(5383717, 39)</td>\n",
       "    </tr>\n",
       "    <tr>\n",
       "      <th id=\"T_75004_level0_row3\" class=\"row_heading level0 row3\" >3</th>\n",
       "      <td id=\"T_75004_row3_col0\" class=\"data row3 col0\" >Missing Values</td>\n",
       "      <td id=\"T_75004_row3_col1\" class=\"data row3 col1\" >False</td>\n",
       "    </tr>\n",
       "    <tr>\n",
       "      <th id=\"T_75004_level0_row4\" class=\"row_heading level0 row4\" >4</th>\n",
       "      <td id=\"T_75004_row4_col0\" class=\"data row4 col0\" >Numeric Features</td>\n",
       "      <td id=\"T_75004_row4_col1\" class=\"data row4 col1\" >12</td>\n",
       "    </tr>\n",
       "    <tr>\n",
       "      <th id=\"T_75004_level0_row5\" class=\"row_heading level0 row5\" >5</th>\n",
       "      <td id=\"T_75004_row5_col0\" class=\"data row5 col0\" >Categorical Features</td>\n",
       "      <td id=\"T_75004_row5_col1\" class=\"data row5 col1\" >0</td>\n",
       "    </tr>\n",
       "    <tr>\n",
       "      <th id=\"T_75004_level0_row6\" class=\"row_heading level0 row6\" >6</th>\n",
       "      <td id=\"T_75004_row6_col0\" class=\"data row6 col0\" >Ordinal Features</td>\n",
       "      <td id=\"T_75004_row6_col1\" class=\"data row6 col1\" >False</td>\n",
       "    </tr>\n",
       "    <tr>\n",
       "      <th id=\"T_75004_level0_row7\" class=\"row_heading level0 row7\" >7</th>\n",
       "      <td id=\"T_75004_row7_col0\" class=\"data row7 col0\" >High Cardinality Features</td>\n",
       "      <td id=\"T_75004_row7_col1\" class=\"data row7 col1\" >False</td>\n",
       "    </tr>\n",
       "    <tr>\n",
       "      <th id=\"T_75004_level0_row8\" class=\"row_heading level0 row8\" >8</th>\n",
       "      <td id=\"T_75004_row8_col0\" class=\"data row8 col0\" >High Cardinality Method</td>\n",
       "      <td id=\"T_75004_row8_col1\" class=\"data row8 col1\" >None</td>\n",
       "    </tr>\n",
       "    <tr>\n",
       "      <th id=\"T_75004_level0_row9\" class=\"row_heading level0 row9\" >9</th>\n",
       "      <td id=\"T_75004_row9_col0\" class=\"data row9 col0\" >Transformed Train Set</td>\n",
       "      <td id=\"T_75004_row9_col1\" class=\"data row9 col1\" >(3768601, 12)</td>\n",
       "    </tr>\n",
       "    <tr>\n",
       "      <th id=\"T_75004_level0_row10\" class=\"row_heading level0 row10\" >10</th>\n",
       "      <td id=\"T_75004_row10_col0\" class=\"data row10 col0\" >Transformed Test Set</td>\n",
       "      <td id=\"T_75004_row10_col1\" class=\"data row10 col1\" >(1615116, 12)</td>\n",
       "    </tr>\n",
       "    <tr>\n",
       "      <th id=\"T_75004_level0_row11\" class=\"row_heading level0 row11\" >11</th>\n",
       "      <td id=\"T_75004_row11_col0\" class=\"data row11 col0\" >Shuffle Train-Test</td>\n",
       "      <td id=\"T_75004_row11_col1\" class=\"data row11 col1\" >True</td>\n",
       "    </tr>\n",
       "    <tr>\n",
       "      <th id=\"T_75004_level0_row12\" class=\"row_heading level0 row12\" >12</th>\n",
       "      <td id=\"T_75004_row12_col0\" class=\"data row12 col0\" >Stratify Train-Test</td>\n",
       "      <td id=\"T_75004_row12_col1\" class=\"data row12 col1\" >False</td>\n",
       "    </tr>\n",
       "    <tr>\n",
       "      <th id=\"T_75004_level0_row13\" class=\"row_heading level0 row13\" >13</th>\n",
       "      <td id=\"T_75004_row13_col0\" class=\"data row13 col0\" >Fold Generator</td>\n",
       "      <td id=\"T_75004_row13_col1\" class=\"data row13 col1\" >KFold</td>\n",
       "    </tr>\n",
       "    <tr>\n",
       "      <th id=\"T_75004_level0_row14\" class=\"row_heading level0 row14\" >14</th>\n",
       "      <td id=\"T_75004_row14_col0\" class=\"data row14 col0\" >Fold Number</td>\n",
       "      <td id=\"T_75004_row14_col1\" class=\"data row14 col1\" >10</td>\n",
       "    </tr>\n",
       "    <tr>\n",
       "      <th id=\"T_75004_level0_row15\" class=\"row_heading level0 row15\" >15</th>\n",
       "      <td id=\"T_75004_row15_col0\" class=\"data row15 col0\" >CPU Jobs</td>\n",
       "      <td id=\"T_75004_row15_col1\" class=\"data row15 col1\" >12</td>\n",
       "    </tr>\n",
       "    <tr>\n",
       "      <th id=\"T_75004_level0_row16\" class=\"row_heading level0 row16\" >16</th>\n",
       "      <td id=\"T_75004_row16_col0\" class=\"data row16 col0\" >Use GPU</td>\n",
       "      <td id=\"T_75004_row16_col1\" class=\"data row16 col1\" >force</td>\n",
       "    </tr>\n",
       "    <tr>\n",
       "      <th id=\"T_75004_level0_row17\" class=\"row_heading level0 row17\" >17</th>\n",
       "      <td id=\"T_75004_row17_col0\" class=\"data row17 col0\" >Log Experiment</td>\n",
       "      <td id=\"T_75004_row17_col1\" class=\"data row17 col1\" >False</td>\n",
       "    </tr>\n",
       "    <tr>\n",
       "      <th id=\"T_75004_level0_row18\" class=\"row_heading level0 row18\" >18</th>\n",
       "      <td id=\"T_75004_row18_col0\" class=\"data row18 col0\" >Experiment Name</td>\n",
       "      <td id=\"T_75004_row18_col1\" class=\"data row18 col1\" >reg-default-name</td>\n",
       "    </tr>\n",
       "    <tr>\n",
       "      <th id=\"T_75004_level0_row19\" class=\"row_heading level0 row19\" >19</th>\n",
       "      <td id=\"T_75004_row19_col0\" class=\"data row19 col0\" >USI</td>\n",
       "      <td id=\"T_75004_row19_col1\" class=\"data row19 col1\" >9ae8</td>\n",
       "    </tr>\n",
       "    <tr>\n",
       "      <th id=\"T_75004_level0_row20\" class=\"row_heading level0 row20\" >20</th>\n",
       "      <td id=\"T_75004_row20_col0\" class=\"data row20 col0\" >Imputation Type</td>\n",
       "      <td id=\"T_75004_row20_col1\" class=\"data row20 col1\" >simple</td>\n",
       "    </tr>\n",
       "    <tr>\n",
       "      <th id=\"T_75004_level0_row21\" class=\"row_heading level0 row21\" >21</th>\n",
       "      <td id=\"T_75004_row21_col0\" class=\"data row21 col0\" >Iterative Imputation Iteration</td>\n",
       "      <td id=\"T_75004_row21_col1\" class=\"data row21 col1\" >None</td>\n",
       "    </tr>\n",
       "    <tr>\n",
       "      <th id=\"T_75004_level0_row22\" class=\"row_heading level0 row22\" >22</th>\n",
       "      <td id=\"T_75004_row22_col0\" class=\"data row22 col0\" >Numeric Imputer</td>\n",
       "      <td id=\"T_75004_row22_col1\" class=\"data row22 col1\" >mean</td>\n",
       "    </tr>\n",
       "    <tr>\n",
       "      <th id=\"T_75004_level0_row23\" class=\"row_heading level0 row23\" >23</th>\n",
       "      <td id=\"T_75004_row23_col0\" class=\"data row23 col0\" >Iterative Imputation Numeric Model</td>\n",
       "      <td id=\"T_75004_row23_col1\" class=\"data row23 col1\" >None</td>\n",
       "    </tr>\n",
       "    <tr>\n",
       "      <th id=\"T_75004_level0_row24\" class=\"row_heading level0 row24\" >24</th>\n",
       "      <td id=\"T_75004_row24_col0\" class=\"data row24 col0\" >Categorical Imputer</td>\n",
       "      <td id=\"T_75004_row24_col1\" class=\"data row24 col1\" >constant</td>\n",
       "    </tr>\n",
       "    <tr>\n",
       "      <th id=\"T_75004_level0_row25\" class=\"row_heading level0 row25\" >25</th>\n",
       "      <td id=\"T_75004_row25_col0\" class=\"data row25 col0\" >Iterative Imputation Categorical Model</td>\n",
       "      <td id=\"T_75004_row25_col1\" class=\"data row25 col1\" >None</td>\n",
       "    </tr>\n",
       "    <tr>\n",
       "      <th id=\"T_75004_level0_row26\" class=\"row_heading level0 row26\" >26</th>\n",
       "      <td id=\"T_75004_row26_col0\" class=\"data row26 col0\" >Unknown Categoricals Handling</td>\n",
       "      <td id=\"T_75004_row26_col1\" class=\"data row26 col1\" >least_frequent</td>\n",
       "    </tr>\n",
       "    <tr>\n",
       "      <th id=\"T_75004_level0_row27\" class=\"row_heading level0 row27\" >27</th>\n",
       "      <td id=\"T_75004_row27_col0\" class=\"data row27 col0\" >Normalize</td>\n",
       "      <td id=\"T_75004_row27_col1\" class=\"data row27 col1\" >True</td>\n",
       "    </tr>\n",
       "    <tr>\n",
       "      <th id=\"T_75004_level0_row28\" class=\"row_heading level0 row28\" >28</th>\n",
       "      <td id=\"T_75004_row28_col0\" class=\"data row28 col0\" >Normalize Method</td>\n",
       "      <td id=\"T_75004_row28_col1\" class=\"data row28 col1\" >zscore</td>\n",
       "    </tr>\n",
       "    <tr>\n",
       "      <th id=\"T_75004_level0_row29\" class=\"row_heading level0 row29\" >29</th>\n",
       "      <td id=\"T_75004_row29_col0\" class=\"data row29 col0\" >Transformation</td>\n",
       "      <td id=\"T_75004_row29_col1\" class=\"data row29 col1\" >True</td>\n",
       "    </tr>\n",
       "    <tr>\n",
       "      <th id=\"T_75004_level0_row30\" class=\"row_heading level0 row30\" >30</th>\n",
       "      <td id=\"T_75004_row30_col0\" class=\"data row30 col0\" >Transformation Method</td>\n",
       "      <td id=\"T_75004_row30_col1\" class=\"data row30 col1\" >yeo-johnson</td>\n",
       "    </tr>\n",
       "    <tr>\n",
       "      <th id=\"T_75004_level0_row31\" class=\"row_heading level0 row31\" >31</th>\n",
       "      <td id=\"T_75004_row31_col0\" class=\"data row31 col0\" >PCA</td>\n",
       "      <td id=\"T_75004_row31_col1\" class=\"data row31 col1\" >False</td>\n",
       "    </tr>\n",
       "    <tr>\n",
       "      <th id=\"T_75004_level0_row32\" class=\"row_heading level0 row32\" >32</th>\n",
       "      <td id=\"T_75004_row32_col0\" class=\"data row32 col0\" >PCA Method</td>\n",
       "      <td id=\"T_75004_row32_col1\" class=\"data row32 col1\" >None</td>\n",
       "    </tr>\n",
       "    <tr>\n",
       "      <th id=\"T_75004_level0_row33\" class=\"row_heading level0 row33\" >33</th>\n",
       "      <td id=\"T_75004_row33_col0\" class=\"data row33 col0\" >PCA Components</td>\n",
       "      <td id=\"T_75004_row33_col1\" class=\"data row33 col1\" >None</td>\n",
       "    </tr>\n",
       "    <tr>\n",
       "      <th id=\"T_75004_level0_row34\" class=\"row_heading level0 row34\" >34</th>\n",
       "      <td id=\"T_75004_row34_col0\" class=\"data row34 col0\" >Ignore Low Variance</td>\n",
       "      <td id=\"T_75004_row34_col1\" class=\"data row34 col1\" >False</td>\n",
       "    </tr>\n",
       "    <tr>\n",
       "      <th id=\"T_75004_level0_row35\" class=\"row_heading level0 row35\" >35</th>\n",
       "      <td id=\"T_75004_row35_col0\" class=\"data row35 col0\" >Combine Rare Levels</td>\n",
       "      <td id=\"T_75004_row35_col1\" class=\"data row35 col1\" >False</td>\n",
       "    </tr>\n",
       "    <tr>\n",
       "      <th id=\"T_75004_level0_row36\" class=\"row_heading level0 row36\" >36</th>\n",
       "      <td id=\"T_75004_row36_col0\" class=\"data row36 col0\" >Rare Level Threshold</td>\n",
       "      <td id=\"T_75004_row36_col1\" class=\"data row36 col1\" >None</td>\n",
       "    </tr>\n",
       "    <tr>\n",
       "      <th id=\"T_75004_level0_row37\" class=\"row_heading level0 row37\" >37</th>\n",
       "      <td id=\"T_75004_row37_col0\" class=\"data row37 col0\" >Numeric Binning</td>\n",
       "      <td id=\"T_75004_row37_col1\" class=\"data row37 col1\" >False</td>\n",
       "    </tr>\n",
       "    <tr>\n",
       "      <th id=\"T_75004_level0_row38\" class=\"row_heading level0 row38\" >38</th>\n",
       "      <td id=\"T_75004_row38_col0\" class=\"data row38 col0\" >Remove Outliers</td>\n",
       "      <td id=\"T_75004_row38_col1\" class=\"data row38 col1\" >False</td>\n",
       "    </tr>\n",
       "    <tr>\n",
       "      <th id=\"T_75004_level0_row39\" class=\"row_heading level0 row39\" >39</th>\n",
       "      <td id=\"T_75004_row39_col0\" class=\"data row39 col0\" >Outliers Threshold</td>\n",
       "      <td id=\"T_75004_row39_col1\" class=\"data row39 col1\" >None</td>\n",
       "    </tr>\n",
       "    <tr>\n",
       "      <th id=\"T_75004_level0_row40\" class=\"row_heading level0 row40\" >40</th>\n",
       "      <td id=\"T_75004_row40_col0\" class=\"data row40 col0\" >Remove Multicollinearity</td>\n",
       "      <td id=\"T_75004_row40_col1\" class=\"data row40 col1\" >False</td>\n",
       "    </tr>\n",
       "    <tr>\n",
       "      <th id=\"T_75004_level0_row41\" class=\"row_heading level0 row41\" >41</th>\n",
       "      <td id=\"T_75004_row41_col0\" class=\"data row41 col0\" >Multicollinearity Threshold</td>\n",
       "      <td id=\"T_75004_row41_col1\" class=\"data row41 col1\" >None</td>\n",
       "    </tr>\n",
       "    <tr>\n",
       "      <th id=\"T_75004_level0_row42\" class=\"row_heading level0 row42\" >42</th>\n",
       "      <td id=\"T_75004_row42_col0\" class=\"data row42 col0\" >Remove Perfect Collinearity</td>\n",
       "      <td id=\"T_75004_row42_col1\" class=\"data row42 col1\" >True</td>\n",
       "    </tr>\n",
       "    <tr>\n",
       "      <th id=\"T_75004_level0_row43\" class=\"row_heading level0 row43\" >43</th>\n",
       "      <td id=\"T_75004_row43_col0\" class=\"data row43 col0\" >Clustering</td>\n",
       "      <td id=\"T_75004_row43_col1\" class=\"data row43 col1\" >False</td>\n",
       "    </tr>\n",
       "    <tr>\n",
       "      <th id=\"T_75004_level0_row44\" class=\"row_heading level0 row44\" >44</th>\n",
       "      <td id=\"T_75004_row44_col0\" class=\"data row44 col0\" >Clustering Iteration</td>\n",
       "      <td id=\"T_75004_row44_col1\" class=\"data row44 col1\" >None</td>\n",
       "    </tr>\n",
       "    <tr>\n",
       "      <th id=\"T_75004_level0_row45\" class=\"row_heading level0 row45\" >45</th>\n",
       "      <td id=\"T_75004_row45_col0\" class=\"data row45 col0\" >Polynomial Features</td>\n",
       "      <td id=\"T_75004_row45_col1\" class=\"data row45 col1\" >False</td>\n",
       "    </tr>\n",
       "    <tr>\n",
       "      <th id=\"T_75004_level0_row46\" class=\"row_heading level0 row46\" >46</th>\n",
       "      <td id=\"T_75004_row46_col0\" class=\"data row46 col0\" >Polynomial Degree</td>\n",
       "      <td id=\"T_75004_row46_col1\" class=\"data row46 col1\" >None</td>\n",
       "    </tr>\n",
       "    <tr>\n",
       "      <th id=\"T_75004_level0_row47\" class=\"row_heading level0 row47\" >47</th>\n",
       "      <td id=\"T_75004_row47_col0\" class=\"data row47 col0\" >Trignometry Features</td>\n",
       "      <td id=\"T_75004_row47_col1\" class=\"data row47 col1\" >False</td>\n",
       "    </tr>\n",
       "    <tr>\n",
       "      <th id=\"T_75004_level0_row48\" class=\"row_heading level0 row48\" >48</th>\n",
       "      <td id=\"T_75004_row48_col0\" class=\"data row48 col0\" >Polynomial Threshold</td>\n",
       "      <td id=\"T_75004_row48_col1\" class=\"data row48 col1\" >None</td>\n",
       "    </tr>\n",
       "    <tr>\n",
       "      <th id=\"T_75004_level0_row49\" class=\"row_heading level0 row49\" >49</th>\n",
       "      <td id=\"T_75004_row49_col0\" class=\"data row49 col0\" >Group Features</td>\n",
       "      <td id=\"T_75004_row49_col1\" class=\"data row49 col1\" >False</td>\n",
       "    </tr>\n",
       "    <tr>\n",
       "      <th id=\"T_75004_level0_row50\" class=\"row_heading level0 row50\" >50</th>\n",
       "      <td id=\"T_75004_row50_col0\" class=\"data row50 col0\" >Feature Selection</td>\n",
       "      <td id=\"T_75004_row50_col1\" class=\"data row50 col1\" >False</td>\n",
       "    </tr>\n",
       "    <tr>\n",
       "      <th id=\"T_75004_level0_row51\" class=\"row_heading level0 row51\" >51</th>\n",
       "      <td id=\"T_75004_row51_col0\" class=\"data row51 col0\" >Feature Selection Method</td>\n",
       "      <td id=\"T_75004_row51_col1\" class=\"data row51 col1\" >boruta</td>\n",
       "    </tr>\n",
       "    <tr>\n",
       "      <th id=\"T_75004_level0_row52\" class=\"row_heading level0 row52\" >52</th>\n",
       "      <td id=\"T_75004_row52_col0\" class=\"data row52 col0\" >Features Selection Threshold</td>\n",
       "      <td id=\"T_75004_row52_col1\" class=\"data row52 col1\" >None</td>\n",
       "    </tr>\n",
       "    <tr>\n",
       "      <th id=\"T_75004_level0_row53\" class=\"row_heading level0 row53\" >53</th>\n",
       "      <td id=\"T_75004_row53_col0\" class=\"data row53 col0\" >Feature Interaction</td>\n",
       "      <td id=\"T_75004_row53_col1\" class=\"data row53 col1\" >False</td>\n",
       "    </tr>\n",
       "    <tr>\n",
       "      <th id=\"T_75004_level0_row54\" class=\"row_heading level0 row54\" >54</th>\n",
       "      <td id=\"T_75004_row54_col0\" class=\"data row54 col0\" >Feature Ratio</td>\n",
       "      <td id=\"T_75004_row54_col1\" class=\"data row54 col1\" >False</td>\n",
       "    </tr>\n",
       "    <tr>\n",
       "      <th id=\"T_75004_level0_row55\" class=\"row_heading level0 row55\" >55</th>\n",
       "      <td id=\"T_75004_row55_col0\" class=\"data row55 col0\" >Interaction Threshold</td>\n",
       "      <td id=\"T_75004_row55_col1\" class=\"data row55 col1\" >None</td>\n",
       "    </tr>\n",
       "    <tr>\n",
       "      <th id=\"T_75004_level0_row56\" class=\"row_heading level0 row56\" >56</th>\n",
       "      <td id=\"T_75004_row56_col0\" class=\"data row56 col0\" >Transform Target</td>\n",
       "      <td id=\"T_75004_row56_col1\" class=\"data row56 col1\" >False</td>\n",
       "    </tr>\n",
       "    <tr>\n",
       "      <th id=\"T_75004_level0_row57\" class=\"row_heading level0 row57\" >57</th>\n",
       "      <td id=\"T_75004_row57_col0\" class=\"data row57 col0\" >Transform Target Method</td>\n",
       "      <td id=\"T_75004_row57_col1\" class=\"data row57 col1\" >box-cox</td>\n",
       "    </tr>\n",
       "  </tbody>\n",
       "</table>\n"
      ],
      "text/plain": [
       "<pandas.io.formats.style.Styler at 0x7f3977787190>"
      ]
     },
     "metadata": {},
     "output_type": "display_data"
    }
   ],
   "source": [
    "exp_AGN = pyr.setup(data=train_test_df, target='class', session_id=seed, silent=True,\\\n",
    "                    feature_selection=False, feature_selection_method='boruta',\\\n",
    "                    numeric_features=final_feats, ignore_features=feats_2_discard, transformation=True,\\\n",
    "                    transformation_method='yeo-johnson', n_jobs=12, normalize=True,\\\n",
    "                    normalize_method='zscore', use_gpu='force')  # 1 minute with Boruta # 5 without"
   ]
  },
  {
   "cell_type": "code",
   "execution_count": 79,
   "id": "ykHUiWyetG0G",
   "metadata": {
    "id": "ykHUiWyetG0G",
    "papermill": {
     "duration": 0.044701,
     "end_time": "2022-04-21T14:23:37.149382",
     "exception": false,
     "start_time": "2022-04-21T14:23:37.104681",
     "status": "completed"
    },
    "tags": []
   },
   "outputs": [
    {
     "data": {
      "text/plain": [
       "Index(['band_num', 'NUVmag', 'g_r', 'r_i', 'i_z', 'z_y', 'g_i', 'w1_w2',\n",
       "       'w3_w4', 'H_K', 'r/z', 'z/W1'],\n",
       "      dtype='object')"
      ]
     },
     "execution_count": 79,
     "metadata": {},
     "output_type": "execute_result"
    }
   ],
   "source": [
    "pyr.get_config('X').columns"
   ]
  },
  {
   "cell_type": "code",
   "execution_count": 80,
   "id": "JFF_T52ztI11",
   "metadata": {
    "id": "JFF_T52ztI11",
    "papermill": {
     "duration": 0.122733,
     "end_time": "2022-04-21T14:23:37.300485",
     "exception": false,
     "start_time": "2022-04-21T14:23:37.177752",
     "status": "completed"
    },
    "tags": []
   },
   "outputs": [
    {
     "data": {
      "text/html": [
       "<div>\n",
       "<style scoped>\n",
       "    .dataframe tbody tr th:only-of-type {\n",
       "        vertical-align: middle;\n",
       "    }\n",
       "\n",
       "    .dataframe tbody tr th {\n",
       "        vertical-align: top;\n",
       "    }\n",
       "\n",
       "    .dataframe thead th {\n",
       "        text-align: right;\n",
       "    }\n",
       "</style>\n",
       "<table border=\"1\" class=\"dataframe\">\n",
       "  <thead>\n",
       "    <tr style=\"text-align: right;\">\n",
       "      <th></th>\n",
       "      <th>Name</th>\n",
       "      <th>Reference</th>\n",
       "      <th>Turbo</th>\n",
       "    </tr>\n",
       "    <tr>\n",
       "      <th>ID</th>\n",
       "      <th></th>\n",
       "      <th></th>\n",
       "      <th></th>\n",
       "    </tr>\n",
       "  </thead>\n",
       "  <tbody>\n",
       "    <tr>\n",
       "      <th>lr</th>\n",
       "      <td>Linear Regression</td>\n",
       "      <td>cuml.linear_model.linear_regression.LinearRegr...</td>\n",
       "      <td>True</td>\n",
       "    </tr>\n",
       "    <tr>\n",
       "      <th>lasso</th>\n",
       "      <td>Lasso Regression</td>\n",
       "      <td>cuml.linear_model.lasso.Lasso</td>\n",
       "      <td>True</td>\n",
       "    </tr>\n",
       "    <tr>\n",
       "      <th>ridge</th>\n",
       "      <td>Ridge Regression</td>\n",
       "      <td>cuml.linear_model.ridge.Ridge</td>\n",
       "      <td>True</td>\n",
       "    </tr>\n",
       "    <tr>\n",
       "      <th>en</th>\n",
       "      <td>Elastic Net</td>\n",
       "      <td>cuml.linear_model.elastic_net.ElasticNet</td>\n",
       "      <td>True</td>\n",
       "    </tr>\n",
       "    <tr>\n",
       "      <th>lar</th>\n",
       "      <td>Least Angle Regression</td>\n",
       "      <td>sklearn.linear_model._least_angle.Lars</td>\n",
       "      <td>True</td>\n",
       "    </tr>\n",
       "    <tr>\n",
       "      <th>llar</th>\n",
       "      <td>Lasso Least Angle Regression</td>\n",
       "      <td>sklearn.linear_model._least_angle.LassoLars</td>\n",
       "      <td>True</td>\n",
       "    </tr>\n",
       "    <tr>\n",
       "      <th>omp</th>\n",
       "      <td>Orthogonal Matching Pursuit</td>\n",
       "      <td>sklearn.linear_model._omp.OrthogonalMatchingPu...</td>\n",
       "      <td>True</td>\n",
       "    </tr>\n",
       "    <tr>\n",
       "      <th>br</th>\n",
       "      <td>Bayesian Ridge</td>\n",
       "      <td>sklearn.linear_model._bayes.BayesianRidge</td>\n",
       "      <td>True</td>\n",
       "    </tr>\n",
       "    <tr>\n",
       "      <th>ard</th>\n",
       "      <td>Automatic Relevance Determination</td>\n",
       "      <td>sklearn.linear_model._bayes.ARDRegression</td>\n",
       "      <td>False</td>\n",
       "    </tr>\n",
       "    <tr>\n",
       "      <th>par</th>\n",
       "      <td>Passive Aggressive Regressor</td>\n",
       "      <td>sklearn.linear_model._passive_aggressive.Passi...</td>\n",
       "      <td>True</td>\n",
       "    </tr>\n",
       "    <tr>\n",
       "      <th>ransac</th>\n",
       "      <td>Random Sample Consensus</td>\n",
       "      <td>sklearn.linear_model._ransac.RANSACRegressor</td>\n",
       "      <td>False</td>\n",
       "    </tr>\n",
       "    <tr>\n",
       "      <th>tr</th>\n",
       "      <td>TheilSen Regressor</td>\n",
       "      <td>sklearn.linear_model._theil_sen.TheilSenRegressor</td>\n",
       "      <td>False</td>\n",
       "    </tr>\n",
       "    <tr>\n",
       "      <th>huber</th>\n",
       "      <td>Huber Regressor</td>\n",
       "      <td>sklearn.linear_model._huber.HuberRegressor</td>\n",
       "      <td>True</td>\n",
       "    </tr>\n",
       "    <tr>\n",
       "      <th>kr</th>\n",
       "      <td>Kernel Ridge</td>\n",
       "      <td>sklearn.kernel_ridge.KernelRidge</td>\n",
       "      <td>False</td>\n",
       "    </tr>\n",
       "    <tr>\n",
       "      <th>svm</th>\n",
       "      <td>Support Vector Regression</td>\n",
       "      <td>cuml.svm.svr.SVR</td>\n",
       "      <td>False</td>\n",
       "    </tr>\n",
       "    <tr>\n",
       "      <th>knn</th>\n",
       "      <td>K Neighbors Regressor</td>\n",
       "      <td>cuml.neighbors.kneighbors_regressor.KNeighbors...</td>\n",
       "      <td>True</td>\n",
       "    </tr>\n",
       "    <tr>\n",
       "      <th>dt</th>\n",
       "      <td>Decision Tree Regressor</td>\n",
       "      <td>sklearn.tree._classes.DecisionTreeRegressor</td>\n",
       "      <td>True</td>\n",
       "    </tr>\n",
       "    <tr>\n",
       "      <th>rf</th>\n",
       "      <td>Random Forest Regressor</td>\n",
       "      <td>cuml.ensemble.randomforestregressor.RandomFore...</td>\n",
       "      <td>True</td>\n",
       "    </tr>\n",
       "    <tr>\n",
       "      <th>et</th>\n",
       "      <td>Extra Trees Regressor</td>\n",
       "      <td>sklearn.ensemble._forest.ExtraTreesRegressor</td>\n",
       "      <td>True</td>\n",
       "    </tr>\n",
       "    <tr>\n",
       "      <th>ada</th>\n",
       "      <td>AdaBoost Regressor</td>\n",
       "      <td>sklearn.ensemble._weight_boosting.AdaBoostRegr...</td>\n",
       "      <td>True</td>\n",
       "    </tr>\n",
       "    <tr>\n",
       "      <th>gbr</th>\n",
       "      <td>Gradient Boosting Regressor</td>\n",
       "      <td>sklearn.ensemble._gb.GradientBoostingRegressor</td>\n",
       "      <td>True</td>\n",
       "    </tr>\n",
       "    <tr>\n",
       "      <th>mlp</th>\n",
       "      <td>MLP Regressor</td>\n",
       "      <td>sklearn.neural_network._multilayer_perceptron....</td>\n",
       "      <td>False</td>\n",
       "    </tr>\n",
       "    <tr>\n",
       "      <th>xgboost</th>\n",
       "      <td>Extreme Gradient Boosting</td>\n",
       "      <td>xgboost.sklearn.XGBRegressor</td>\n",
       "      <td>True</td>\n",
       "    </tr>\n",
       "    <tr>\n",
       "      <th>lightgbm</th>\n",
       "      <td>Light Gradient Boosting Machine</td>\n",
       "      <td>lightgbm.sklearn.LGBMRegressor</td>\n",
       "      <td>True</td>\n",
       "    </tr>\n",
       "    <tr>\n",
       "      <th>catboost</th>\n",
       "      <td>CatBoost Regressor</td>\n",
       "      <td>catboost.core.CatBoostRegressor</td>\n",
       "      <td>True</td>\n",
       "    </tr>\n",
       "    <tr>\n",
       "      <th>dummy</th>\n",
       "      <td>Dummy Regressor</td>\n",
       "      <td>sklearn.dummy.DummyRegressor</td>\n",
       "      <td>True</td>\n",
       "    </tr>\n",
       "  </tbody>\n",
       "</table>\n",
       "</div>"
      ],
      "text/plain": [
       "                                       Name  \\\n",
       "ID                                            \n",
       "lr                        Linear Regression   \n",
       "lasso                      Lasso Regression   \n",
       "ridge                      Ridge Regression   \n",
       "en                              Elastic Net   \n",
       "lar                  Least Angle Regression   \n",
       "llar           Lasso Least Angle Regression   \n",
       "omp             Orthogonal Matching Pursuit   \n",
       "br                           Bayesian Ridge   \n",
       "ard       Automatic Relevance Determination   \n",
       "par            Passive Aggressive Regressor   \n",
       "ransac              Random Sample Consensus   \n",
       "tr                       TheilSen Regressor   \n",
       "huber                       Huber Regressor   \n",
       "kr                             Kernel Ridge   \n",
       "svm               Support Vector Regression   \n",
       "knn                   K Neighbors Regressor   \n",
       "dt                  Decision Tree Regressor   \n",
       "rf                  Random Forest Regressor   \n",
       "et                    Extra Trees Regressor   \n",
       "ada                      AdaBoost Regressor   \n",
       "gbr             Gradient Boosting Regressor   \n",
       "mlp                           MLP Regressor   \n",
       "xgboost           Extreme Gradient Boosting   \n",
       "lightgbm    Light Gradient Boosting Machine   \n",
       "catboost                 CatBoost Regressor   \n",
       "dummy                       Dummy Regressor   \n",
       "\n",
       "                                                  Reference  Turbo  \n",
       "ID                                                                  \n",
       "lr        cuml.linear_model.linear_regression.LinearRegr...   True  \n",
       "lasso                         cuml.linear_model.lasso.Lasso   True  \n",
       "ridge                         cuml.linear_model.ridge.Ridge   True  \n",
       "en                 cuml.linear_model.elastic_net.ElasticNet   True  \n",
       "lar                  sklearn.linear_model._least_angle.Lars   True  \n",
       "llar            sklearn.linear_model._least_angle.LassoLars   True  \n",
       "omp       sklearn.linear_model._omp.OrthogonalMatchingPu...   True  \n",
       "br                sklearn.linear_model._bayes.BayesianRidge   True  \n",
       "ard               sklearn.linear_model._bayes.ARDRegression  False  \n",
       "par       sklearn.linear_model._passive_aggressive.Passi...   True  \n",
       "ransac         sklearn.linear_model._ransac.RANSACRegressor  False  \n",
       "tr        sklearn.linear_model._theil_sen.TheilSenRegressor  False  \n",
       "huber            sklearn.linear_model._huber.HuberRegressor   True  \n",
       "kr                         sklearn.kernel_ridge.KernelRidge  False  \n",
       "svm                                        cuml.svm.svr.SVR  False  \n",
       "knn       cuml.neighbors.kneighbors_regressor.KNeighbors...   True  \n",
       "dt              sklearn.tree._classes.DecisionTreeRegressor   True  \n",
       "rf        cuml.ensemble.randomforestregressor.RandomFore...   True  \n",
       "et             sklearn.ensemble._forest.ExtraTreesRegressor   True  \n",
       "ada       sklearn.ensemble._weight_boosting.AdaBoostRegr...   True  \n",
       "gbr          sklearn.ensemble._gb.GradientBoostingRegressor   True  \n",
       "mlp       sklearn.neural_network._multilayer_perceptron....  False  \n",
       "xgboost                        xgboost.sklearn.XGBRegressor   True  \n",
       "lightgbm                     lightgbm.sklearn.LGBMRegressor   True  \n",
       "catboost                    catboost.core.CatBoostRegressor   True  \n",
       "dummy                          sklearn.dummy.DummyRegressor   True  "
      ]
     },
     "execution_count": 80,
     "metadata": {},
     "output_type": "execute_result"
    }
   ],
   "source": [
    "pyr.models()"
   ]
  },
  {
   "cell_type": "code",
   "execution_count": 81,
   "id": "a38af75e-7191-4a9e-b4a9-07e35787a3dc",
   "metadata": {},
   "outputs": [
    {
     "data": {
      "text/plain": [
       "Name                                                       MAD\n",
       "Display Name                                               MAD\n",
       "Score Function                <function mad at 0x7f39aa7844c0>\n",
       "Scorer               make_scorer(mad, greater_is_better=False)\n",
       "Target                                                    pred\n",
       "Args                                                        {}\n",
       "Greater is Better                                        False\n",
       "Custom                                                    True\n",
       "Name: mad, dtype: object"
      ]
     },
     "execution_count": 81,
     "metadata": {},
     "output_type": "execute_result"
    }
   ],
   "source": [
    "pyr.add_metric('mad', 'MAD', mad, greater_is_better=False)"
   ]
  },
  {
   "cell_type": "code",
   "execution_count": 82,
   "id": "m3mCNspXtLnI",
   "metadata": {
    "id": "m3mCNspXtLnI",
    "papermill": {
     "duration": 760.007133,
     "end_time": "2022-04-21T14:36:17.338089",
     "exception": false,
     "start_time": "2022-04-21T14:23:37.330956",
     "status": "completed"
    },
    "tags": []
   },
   "outputs": [
    {
     "data": {
      "text/html": [
       "<style type=\"text/css\">\n",
       "#T_d90d9 th {\n",
       "  text-align: left;\n",
       "}\n",
       "#T_d90d9_row0_col0, #T_d90d9_row1_col0, #T_d90d9_row1_col1, #T_d90d9_row1_col2, #T_d90d9_row1_col3, #T_d90d9_row1_col4, #T_d90d9_row1_col5, #T_d90d9_row1_col6, #T_d90d9_row1_col7, #T_d90d9_row2_col0, #T_d90d9_row2_col1, #T_d90d9_row2_col2, #T_d90d9_row2_col3, #T_d90d9_row2_col4, #T_d90d9_row2_col5, #T_d90d9_row2_col6, #T_d90d9_row2_col7, #T_d90d9_row3_col0, #T_d90d9_row3_col1, #T_d90d9_row3_col2, #T_d90d9_row3_col3, #T_d90d9_row3_col4, #T_d90d9_row3_col5, #T_d90d9_row3_col6, #T_d90d9_row3_col7, #T_d90d9_row4_col0, #T_d90d9_row4_col1, #T_d90d9_row4_col2, #T_d90d9_row4_col3, #T_d90d9_row4_col4, #T_d90d9_row4_col5, #T_d90d9_row4_col6, #T_d90d9_row4_col7, #T_d90d9_row5_col0, #T_d90d9_row5_col1, #T_d90d9_row5_col2, #T_d90d9_row5_col3, #T_d90d9_row5_col4, #T_d90d9_row5_col5, #T_d90d9_row5_col6, #T_d90d9_row5_col7 {\n",
       "  text-align: left;\n",
       "}\n",
       "#T_d90d9_row0_col1, #T_d90d9_row0_col2, #T_d90d9_row0_col3, #T_d90d9_row0_col4, #T_d90d9_row0_col5, #T_d90d9_row0_col6, #T_d90d9_row0_col7 {\n",
       "  text-align: left;\n",
       "  background-color: yellow;\n",
       "}\n",
       "#T_d90d9_row0_col8, #T_d90d9_row1_col8, #T_d90d9_row2_col8, #T_d90d9_row3_col8, #T_d90d9_row4_col8 {\n",
       "  text-align: left;\n",
       "  background-color: lightgrey;\n",
       "}\n",
       "#T_d90d9_row5_col8 {\n",
       "  text-align: left;\n",
       "  background-color: yellow;\n",
       "  background-color: lightgrey;\n",
       "}\n",
       "</style>\n",
       "<table id=\"T_d90d9\">\n",
       "  <thead>\n",
       "    <tr>\n",
       "      <th class=\"blank level0\" >&nbsp;</th>\n",
       "      <th id=\"T_d90d9_level0_col0\" class=\"col_heading level0 col0\" >Model</th>\n",
       "      <th id=\"T_d90d9_level0_col1\" class=\"col_heading level0 col1\" >MAE</th>\n",
       "      <th id=\"T_d90d9_level0_col2\" class=\"col_heading level0 col2\" >MSE</th>\n",
       "      <th id=\"T_d90d9_level0_col3\" class=\"col_heading level0 col3\" >RMSE</th>\n",
       "      <th id=\"T_d90d9_level0_col4\" class=\"col_heading level0 col4\" >R2</th>\n",
       "      <th id=\"T_d90d9_level0_col5\" class=\"col_heading level0 col5\" >RMSLE</th>\n",
       "      <th id=\"T_d90d9_level0_col6\" class=\"col_heading level0 col6\" >MAPE</th>\n",
       "      <th id=\"T_d90d9_level0_col7\" class=\"col_heading level0 col7\" >MAD</th>\n",
       "      <th id=\"T_d90d9_level0_col8\" class=\"col_heading level0 col8\" >TT (Sec)</th>\n",
       "    </tr>\n",
       "  </thead>\n",
       "  <tbody>\n",
       "    <tr>\n",
       "      <th id=\"T_d90d9_level0_row0\" class=\"row_heading level0 row0\" >xgboost</th>\n",
       "      <td id=\"T_d90d9_row0_col0\" class=\"data row0 col0\" >Extreme Gradient Boosting</td>\n",
       "      <td id=\"T_d90d9_row0_col1\" class=\"data row0 col1\" >0.0253</td>\n",
       "      <td id=\"T_d90d9_row0_col2\" class=\"data row0 col2\" >0.0028</td>\n",
       "      <td id=\"T_d90d9_row0_col3\" class=\"data row0 col3\" >0.0531</td>\n",
       "      <td id=\"T_d90d9_row0_col4\" class=\"data row0 col4\" >0.9380</td>\n",
       "      <td id=\"T_d90d9_row0_col5\" class=\"data row0 col5\" >0.0378</td>\n",
       "      <td id=\"T_d90d9_row0_col6\" class=\"data row0 col6\" >0.2232</td>\n",
       "      <td id=\"T_d90d9_row0_col7\" class=\"data row0 col7\" >0.0036</td>\n",
       "      <td id=\"T_d90d9_row0_col8\" class=\"data row0 col8\" >2.0450</td>\n",
       "    </tr>\n",
       "    <tr>\n",
       "      <th id=\"T_d90d9_level0_row1\" class=\"row_heading level0 row1\" >catboost</th>\n",
       "      <td id=\"T_d90d9_row1_col0\" class=\"data row1 col0\" >CatBoost Regressor</td>\n",
       "      <td id=\"T_d90d9_row1_col1\" class=\"data row1 col1\" >0.0276</td>\n",
       "      <td id=\"T_d90d9_row1_col2\" class=\"data row1 col2\" >0.0032</td>\n",
       "      <td id=\"T_d90d9_row1_col3\" class=\"data row1 col3\" >0.0567</td>\n",
       "      <td id=\"T_d90d9_row1_col4\" class=\"data row1 col4\" >0.9295</td>\n",
       "      <td id=\"T_d90d9_row1_col5\" class=\"data row1 col5\" >0.0402</td>\n",
       "      <td id=\"T_d90d9_row1_col6\" class=\"data row1 col6\" >0.2278</td>\n",
       "      <td id=\"T_d90d9_row1_col7\" class=\"data row1 col7\" >0.0039</td>\n",
       "      <td id=\"T_d90d9_row1_col8\" class=\"data row1 col8\" >17.6010</td>\n",
       "    </tr>\n",
       "    <tr>\n",
       "      <th id=\"T_d90d9_level0_row2\" class=\"row_heading level0 row2\" >lightgbm</th>\n",
       "      <td id=\"T_d90d9_row2_col0\" class=\"data row2 col0\" >Light Gradient Boosting Machine</td>\n",
       "      <td id=\"T_d90d9_row2_col1\" class=\"data row2 col1\" >0.0298</td>\n",
       "      <td id=\"T_d90d9_row2_col2\" class=\"data row2 col2\" >0.0037</td>\n",
       "      <td id=\"T_d90d9_row2_col3\" class=\"data row2 col3\" >0.0605</td>\n",
       "      <td id=\"T_d90d9_row2_col4\" class=\"data row2 col4\" >0.9195</td>\n",
       "      <td id=\"T_d90d9_row2_col5\" class=\"data row2 col5\" >0.0431</td>\n",
       "      <td id=\"T_d90d9_row2_col6\" class=\"data row2 col6\" >0.2506</td>\n",
       "      <td id=\"T_d90d9_row2_col7\" class=\"data row2 col7\" >0.0042</td>\n",
       "      <td id=\"T_d90d9_row2_col8\" class=\"data row2 col8\" >4.8170</td>\n",
       "    </tr>\n",
       "    <tr>\n",
       "      <th id=\"T_d90d9_level0_row3\" class=\"row_heading level0 row3\" >lr</th>\n",
       "      <td id=\"T_d90d9_row3_col0\" class=\"data row3 col0\" >Linear Regression</td>\n",
       "      <td id=\"T_d90d9_row3_col1\" class=\"data row3 col1\" >0.0945</td>\n",
       "      <td id=\"T_d90d9_row3_col2\" class=\"data row3 col2\" >0.0253</td>\n",
       "      <td id=\"T_d90d9_row3_col3\" class=\"data row3 col3\" >0.1590</td>\n",
       "      <td id=\"T_d90d9_row3_col4\" class=\"data row3 col4\" >0.4446</td>\n",
       "      <td id=\"T_d90d9_row3_col5\" class=\"data row3 col5\" >0.1134</td>\n",
       "      <td id=\"T_d90d9_row3_col6\" class=\"data row3 col6\" >1.6242</td>\n",
       "      <td id=\"T_d90d9_row3_col7\" class=\"data row3 col7\" >0.0277</td>\n",
       "      <td id=\"T_d90d9_row3_col8\" class=\"data row3 col8\" >0.2200</td>\n",
       "    </tr>\n",
       "    <tr>\n",
       "      <th id=\"T_d90d9_level0_row4\" class=\"row_heading level0 row4\" >ridge</th>\n",
       "      <td id=\"T_d90d9_row4_col0\" class=\"data row4 col0\" >Ridge Regression</td>\n",
       "      <td id=\"T_d90d9_row4_col1\" class=\"data row4 col1\" >0.0945</td>\n",
       "      <td id=\"T_d90d9_row4_col2\" class=\"data row4 col2\" >0.0253</td>\n",
       "      <td id=\"T_d90d9_row4_col3\" class=\"data row4 col3\" >0.1590</td>\n",
       "      <td id=\"T_d90d9_row4_col4\" class=\"data row4 col4\" >0.4446</td>\n",
       "      <td id=\"T_d90d9_row4_col5\" class=\"data row4 col5\" >0.1134</td>\n",
       "      <td id=\"T_d90d9_row4_col6\" class=\"data row4 col6\" >1.6242</td>\n",
       "      <td id=\"T_d90d9_row4_col7\" class=\"data row4 col7\" >0.0277</td>\n",
       "      <td id=\"T_d90d9_row4_col8\" class=\"data row4 col8\" >0.1390</td>\n",
       "    </tr>\n",
       "    <tr>\n",
       "      <th id=\"T_d90d9_level0_row5\" class=\"row_heading level0 row5\" >dummy</th>\n",
       "      <td id=\"T_d90d9_row5_col0\" class=\"data row5 col0\" >Dummy Regressor</td>\n",
       "      <td id=\"T_d90d9_row5_col1\" class=\"data row5 col1\" >0.1659</td>\n",
       "      <td id=\"T_d90d9_row5_col2\" class=\"data row5 col2\" >0.0456</td>\n",
       "      <td id=\"T_d90d9_row5_col3\" class=\"data row5 col3\" >0.2134</td>\n",
       "      <td id=\"T_d90d9_row5_col4\" class=\"data row5 col4\" >-0.0000</td>\n",
       "      <td id=\"T_d90d9_row5_col5\" class=\"data row5 col5\" >0.1591</td>\n",
       "      <td id=\"T_d90d9_row5_col6\" class=\"data row5 col6\" >3.5199</td>\n",
       "      <td id=\"T_d90d9_row5_col7\" class=\"data row5 col7\" >0.0742</td>\n",
       "      <td id=\"T_d90d9_row5_col8\" class=\"data row5 col8\" >0.0950</td>\n",
       "    </tr>\n",
       "  </tbody>\n",
       "</table>\n"
      ],
      "text/plain": [
       "<pandas.io.formats.style.Styler at 0x7f3988304cd0>"
      ]
     },
     "metadata": {},
     "output_type": "display_data"
    }
   ],
   "source": [
    "used_models_reg      = ['catboost', 'lightgbm', 'xgboost', 'gbr', 'et', 'rf', 'dt', 'ridge', 'lr', 'dummy']  # knn too slow, ridge does not work\n",
    "used_models_reg_gpu  = ['catboost', 'lightgbm', 'xgboost', 'lr', 'lasso', 'ridge', 'en', 'rf', 'dummy']\n",
    "# final_selection_reg  = ['xgboost', 'rf', 'catboost', 'lightgbm', 'lr', 'dummy']  # 'rf' takes too much time\n",
    "final_selection_reg  = ['xgboost', 'catboost', 'lightgbm', 'lr', 'ridge', 'dummy']\n",
    "n_models             = 5\n",
    "top_model_AGN = pyr.compare_models(n_select=n_models, include=final_selection_reg, sort='RMSE')  # 1:15 hour for used_models_clf\n",
    "# top_model_AGN = pyr.compare_models(n_select=n_models, exclude=['knn'], sort='RMSE')  # 1 hour, using all models."
   ]
  },
  {
   "cell_type": "markdown",
   "id": "0d693732-fb85-4697-8712-51b9a0844cc7",
   "metadata": {
    "papermill": {
     "duration": 0.025979,
     "end_time": "2022-04-21T14:36:17.390468",
     "exception": false,
     "start_time": "2022-04-21T14:36:17.364489",
     "status": "completed"
    },
    "tags": []
   },
   "source": [
    "Results from `compare_models` are with ad-hoc imputation are:  \n",
    "\n",
    "|            |Model                          |Accuracy|AUC   |Recall|Prec. |F1    |Kappa |MCC   |TT (Sec)|\n",
    "|------------|-------------------------------|--------|------|------|------|------|------|------|--------|\n",
    "|**xgboost** |Extreme Gradient Boosting      |0.9979  |0.9876|0.6146|0.8104|0.6989|0.6979|0.7047|92.2400 |"
   ]
  },
  {
   "cell_type": "markdown",
   "id": "4aa754ed-d0e0-437c-a82f-6be3ebcfd7ec",
   "metadata": {
    "papermill": {
     "duration": 0.026566,
     "end_time": "2022-04-21T14:36:17.443100",
     "exception": false,
     "start_time": "2022-04-21T14:36:17.416534",
     "status": "completed"
    },
    "tags": []
   },
   "source": [
    "Thus, we select `xgboost` as meta learner."
   ]
  },
  {
   "cell_type": "markdown",
   "id": "3afc57b3-c041-4229-b4b0-90496d2d3bab",
   "metadata": {
    "papermill": {
     "duration": 0.025998,
     "end_time": "2022-04-21T14:36:17.495206",
     "exception": false,
     "start_time": "2022-04-21T14:36:17.469208",
     "status": "completed"
    },
    "tags": []
   },
   "source": [
    "Thus, we stack the models."
   ]
  },
  {
   "cell_type": "code",
   "execution_count": 83,
   "id": "5c69d75f-6560-4578-89d4-38921bff106e",
   "metadata": {
    "papermill": {
     "duration": 2215.599033,
     "end_time": "2022-04-21T15:13:13.120159",
     "exception": false,
     "start_time": "2022-04-21T14:36:17.521126",
     "status": "completed"
    },
    "tags": []
   },
   "outputs": [
    {
     "data": {
      "text/html": [
       "<style type=\"text/css\">\n",
       "#T_f428f_row10_col0, #T_f428f_row10_col1, #T_f428f_row10_col2, #T_f428f_row10_col3, #T_f428f_row10_col4, #T_f428f_row10_col5, #T_f428f_row10_col6 {\n",
       "  background: yellow;\n",
       "}\n",
       "</style>\n",
       "<table id=\"T_f428f\">\n",
       "  <thead>\n",
       "    <tr>\n",
       "      <th class=\"blank level0\" >&nbsp;</th>\n",
       "      <th id=\"T_f428f_level0_col0\" class=\"col_heading level0 col0\" >MAE</th>\n",
       "      <th id=\"T_f428f_level0_col1\" class=\"col_heading level0 col1\" >MSE</th>\n",
       "      <th id=\"T_f428f_level0_col2\" class=\"col_heading level0 col2\" >RMSE</th>\n",
       "      <th id=\"T_f428f_level0_col3\" class=\"col_heading level0 col3\" >R2</th>\n",
       "      <th id=\"T_f428f_level0_col4\" class=\"col_heading level0 col4\" >RMSLE</th>\n",
       "      <th id=\"T_f428f_level0_col5\" class=\"col_heading level0 col5\" >MAPE</th>\n",
       "      <th id=\"T_f428f_level0_col6\" class=\"col_heading level0 col6\" >MAD</th>\n",
       "    </tr>\n",
       "    <tr>\n",
       "      <th class=\"index_name level0\" >Fold</th>\n",
       "      <th class=\"blank col0\" >&nbsp;</th>\n",
       "      <th class=\"blank col1\" >&nbsp;</th>\n",
       "      <th class=\"blank col2\" >&nbsp;</th>\n",
       "      <th class=\"blank col3\" >&nbsp;</th>\n",
       "      <th class=\"blank col4\" >&nbsp;</th>\n",
       "      <th class=\"blank col5\" >&nbsp;</th>\n",
       "      <th class=\"blank col6\" >&nbsp;</th>\n",
       "    </tr>\n",
       "  </thead>\n",
       "  <tbody>\n",
       "    <tr>\n",
       "      <th id=\"T_f428f_level0_row0\" class=\"row_heading level0 row0\" >0</th>\n",
       "      <td id=\"T_f428f_row0_col0\" class=\"data row0 col0\" >0.0202</td>\n",
       "      <td id=\"T_f428f_row0_col1\" class=\"data row0 col1\" >0.0022</td>\n",
       "      <td id=\"T_f428f_row0_col2\" class=\"data row0 col2\" >0.0466</td>\n",
       "      <td id=\"T_f428f_row0_col3\" class=\"data row0 col3\" >0.9524</td>\n",
       "      <td id=\"T_f428f_row0_col4\" class=\"data row0 col4\" >0.0331</td>\n",
       "      <td id=\"T_f428f_row0_col5\" class=\"data row0 col5\" >0.1361</td>\n",
       "      <td id=\"T_f428f_row0_col6\" class=\"data row0 col6\" >0.0022</td>\n",
       "    </tr>\n",
       "    <tr>\n",
       "      <th id=\"T_f428f_level0_row1\" class=\"row_heading level0 row1\" >1</th>\n",
       "      <td id=\"T_f428f_row1_col0\" class=\"data row1 col0\" >0.0359</td>\n",
       "      <td id=\"T_f428f_row1_col1\" class=\"data row1 col1\" >0.0027</td>\n",
       "      <td id=\"T_f428f_row1_col2\" class=\"data row1 col2\" >0.0519</td>\n",
       "      <td id=\"T_f428f_row1_col3\" class=\"data row1 col3\" >0.9408</td>\n",
       "      <td id=\"T_f428f_row1_col4\" class=\"data row1 col4\" >0.0366</td>\n",
       "      <td id=\"T_f428f_row1_col5\" class=\"data row1 col5\" >0.1694</td>\n",
       "      <td id=\"T_f428f_row1_col6\" class=\"data row1 col6\" >0.0331</td>\n",
       "    </tr>\n",
       "    <tr>\n",
       "      <th id=\"T_f428f_level0_row2\" class=\"row_heading level0 row2\" >2</th>\n",
       "      <td id=\"T_f428f_row2_col0\" class=\"data row2 col0\" >0.0204</td>\n",
       "      <td id=\"T_f428f_row2_col1\" class=\"data row2 col1\" >0.0021</td>\n",
       "      <td id=\"T_f428f_row2_col2\" class=\"data row2 col2\" >0.0462</td>\n",
       "      <td id=\"T_f428f_row2_col3\" class=\"data row2 col3\" >0.9532</td>\n",
       "      <td id=\"T_f428f_row2_col4\" class=\"data row2 col4\" >0.0329</td>\n",
       "      <td id=\"T_f428f_row2_col5\" class=\"data row2 col5\" >0.1359</td>\n",
       "      <td id=\"T_f428f_row2_col6\" class=\"data row2 col6\" >0.0021</td>\n",
       "    </tr>\n",
       "    <tr>\n",
       "      <th id=\"T_f428f_level0_row3\" class=\"row_heading level0 row3\" >3</th>\n",
       "      <td id=\"T_f428f_row3_col0\" class=\"data row3 col0\" >0.0205</td>\n",
       "      <td id=\"T_f428f_row3_col1\" class=\"data row3 col1\" >0.0022</td>\n",
       "      <td id=\"T_f428f_row3_col2\" class=\"data row3 col2\" >0.0469</td>\n",
       "      <td id=\"T_f428f_row3_col3\" class=\"data row3 col3\" >0.9516</td>\n",
       "      <td id=\"T_f428f_row3_col4\" class=\"data row3 col4\" >0.0333</td>\n",
       "      <td id=\"T_f428f_row3_col5\" class=\"data row3 col5\" >0.1367</td>\n",
       "      <td id=\"T_f428f_row3_col6\" class=\"data row3 col6\" >0.0026</td>\n",
       "    </tr>\n",
       "    <tr>\n",
       "      <th id=\"T_f428f_level0_row4\" class=\"row_heading level0 row4\" >4</th>\n",
       "      <td id=\"T_f428f_row4_col0\" class=\"data row4 col0\" >0.0204</td>\n",
       "      <td id=\"T_f428f_row4_col1\" class=\"data row4 col1\" >0.0022</td>\n",
       "      <td id=\"T_f428f_row4_col2\" class=\"data row4 col2\" >0.0469</td>\n",
       "      <td id=\"T_f428f_row4_col3\" class=\"data row4 col3\" >0.9518</td>\n",
       "      <td id=\"T_f428f_row4_col4\" class=\"data row4 col4\" >0.0334</td>\n",
       "      <td id=\"T_f428f_row4_col5\" class=\"data row4 col5\" >0.1378</td>\n",
       "      <td id=\"T_f428f_row4_col6\" class=\"data row4 col6\" >0.0022</td>\n",
       "    </tr>\n",
       "    <tr>\n",
       "      <th id=\"T_f428f_level0_row5\" class=\"row_heading level0 row5\" >5</th>\n",
       "      <td id=\"T_f428f_row5_col0\" class=\"data row5 col0\" >0.0206</td>\n",
       "      <td id=\"T_f428f_row5_col1\" class=\"data row5 col1\" >0.0022</td>\n",
       "      <td id=\"T_f428f_row5_col2\" class=\"data row5 col2\" >0.0473</td>\n",
       "      <td id=\"T_f428f_row5_col3\" class=\"data row5 col3\" >0.9509</td>\n",
       "      <td id=\"T_f428f_row5_col4\" class=\"data row5 col4\" >0.0336</td>\n",
       "      <td id=\"T_f428f_row5_col5\" class=\"data row5 col5\" >0.1359</td>\n",
       "      <td id=\"T_f428f_row5_col6\" class=\"data row5 col6\" >0.0022</td>\n",
       "    </tr>\n",
       "    <tr>\n",
       "      <th id=\"T_f428f_level0_row6\" class=\"row_heading level0 row6\" >6</th>\n",
       "      <td id=\"T_f428f_row6_col0\" class=\"data row6 col0\" >0.0206</td>\n",
       "      <td id=\"T_f428f_row6_col1\" class=\"data row6 col1\" >0.0022</td>\n",
       "      <td id=\"T_f428f_row6_col2\" class=\"data row6 col2\" >0.0466</td>\n",
       "      <td id=\"T_f428f_row6_col3\" class=\"data row6 col3\" >0.9523</td>\n",
       "      <td id=\"T_f428f_row6_col4\" class=\"data row6 col4\" >0.0332</td>\n",
       "      <td id=\"T_f428f_row6_col5\" class=\"data row6 col5\" >0.1380</td>\n",
       "      <td id=\"T_f428f_row6_col6\" class=\"data row6 col6\" >0.0021</td>\n",
       "    </tr>\n",
       "    <tr>\n",
       "      <th id=\"T_f428f_level0_row7\" class=\"row_heading level0 row7\" >7</th>\n",
       "      <td id=\"T_f428f_row7_col0\" class=\"data row7 col0\" >0.0202</td>\n",
       "      <td id=\"T_f428f_row7_col1\" class=\"data row7 col1\" >0.0021</td>\n",
       "      <td id=\"T_f428f_row7_col2\" class=\"data row7 col2\" >0.0464</td>\n",
       "      <td id=\"T_f428f_row7_col3\" class=\"data row7 col3\" >0.9529</td>\n",
       "      <td id=\"T_f428f_row7_col4\" class=\"data row7 col4\" >0.0329</td>\n",
       "      <td id=\"T_f428f_row7_col5\" class=\"data row7 col5\" >0.1359</td>\n",
       "      <td id=\"T_f428f_row7_col6\" class=\"data row7 col6\" >0.0021</td>\n",
       "    </tr>\n",
       "    <tr>\n",
       "      <th id=\"T_f428f_level0_row8\" class=\"row_heading level0 row8\" >8</th>\n",
       "      <td id=\"T_f428f_row8_col0\" class=\"data row8 col0\" >0.0205</td>\n",
       "      <td id=\"T_f428f_row8_col1\" class=\"data row8 col1\" >0.0022</td>\n",
       "      <td id=\"T_f428f_row8_col2\" class=\"data row8 col2\" >0.0469</td>\n",
       "      <td id=\"T_f428f_row8_col3\" class=\"data row8 col3\" >0.9518</td>\n",
       "      <td id=\"T_f428f_row8_col4\" class=\"data row8 col4\" >0.0333</td>\n",
       "      <td id=\"T_f428f_row8_col5\" class=\"data row8 col5\" >0.1353</td>\n",
       "      <td id=\"T_f428f_row8_col6\" class=\"data row8 col6\" >0.0026</td>\n",
       "    </tr>\n",
       "    <tr>\n",
       "      <th id=\"T_f428f_level0_row9\" class=\"row_heading level0 row9\" >9</th>\n",
       "      <td id=\"T_f428f_row9_col0\" class=\"data row9 col0\" >0.0205</td>\n",
       "      <td id=\"T_f428f_row9_col1\" class=\"data row9 col1\" >0.0022</td>\n",
       "      <td id=\"T_f428f_row9_col2\" class=\"data row9 col2\" >0.0474</td>\n",
       "      <td id=\"T_f428f_row9_col3\" class=\"data row9 col3\" >0.9507</td>\n",
       "      <td id=\"T_f428f_row9_col4\" class=\"data row9 col4\" >0.0337</td>\n",
       "      <td id=\"T_f428f_row9_col5\" class=\"data row9 col5\" >0.1360</td>\n",
       "      <td id=\"T_f428f_row9_col6\" class=\"data row9 col6\" >0.0022</td>\n",
       "    </tr>\n",
       "    <tr>\n",
       "      <th id=\"T_f428f_level0_row10\" class=\"row_heading level0 row10\" >Mean</th>\n",
       "      <td id=\"T_f428f_row10_col0\" class=\"data row10 col0\" >0.0220</td>\n",
       "      <td id=\"T_f428f_row10_col1\" class=\"data row10 col1\" >0.0022</td>\n",
       "      <td id=\"T_f428f_row10_col2\" class=\"data row10 col2\" >0.0473</td>\n",
       "      <td id=\"T_f428f_row10_col3\" class=\"data row10 col3\" >0.9508</td>\n",
       "      <td id=\"T_f428f_row10_col4\" class=\"data row10 col4\" >0.0336</td>\n",
       "      <td id=\"T_f428f_row10_col5\" class=\"data row10 col5\" >0.1397</td>\n",
       "      <td id=\"T_f428f_row10_col6\" class=\"data row10 col6\" >0.0053</td>\n",
       "    </tr>\n",
       "    <tr>\n",
       "      <th id=\"T_f428f_level0_row11\" class=\"row_heading level0 row11\" >Std</th>\n",
       "      <td id=\"T_f428f_row11_col0\" class=\"data row11 col0\" >0.0047</td>\n",
       "      <td id=\"T_f428f_row11_col1\" class=\"data row11 col1\" >0.0002</td>\n",
       "      <td id=\"T_f428f_row11_col2\" class=\"data row11 col2\" >0.0016</td>\n",
       "      <td id=\"T_f428f_row11_col3\" class=\"data row11 col3\" >0.0034</td>\n",
       "      <td id=\"T_f428f_row11_col4\" class=\"data row11 col4\" >0.0010</td>\n",
       "      <td id=\"T_f428f_row11_col5\" class=\"data row11 col5\" >0.0099</td>\n",
       "      <td id=\"T_f428f_row11_col6\" class=\"data row11 col6\" >0.0093</td>\n",
       "    </tr>\n",
       "  </tbody>\n",
       "</table>\n"
      ],
      "text/plain": [
       "<pandas.io.formats.style.Styler at 0x7f3a9af6c970>"
      ]
     },
     "metadata": {},
     "output_type": "display_data"
    }
   ],
   "source": [
    "stacked_model_AGN = pyr.stack_models(estimator_list=top_model_AGN[1:], meta_model=top_model_AGN[0])"
   ]
  },
  {
   "cell_type": "code",
   "execution_count": 84,
   "id": "Dz0XvX17teel",
   "metadata": {
    "id": "Dz0XvX17teel",
    "papermill": {
     "duration": 17744.199884,
     "end_time": "2022-04-21T20:08:57.375784",
     "exception": false,
     "start_time": "2022-04-21T15:13:13.175900",
     "status": "completed"
    },
    "tags": []
   },
   "outputs": [
    {
     "data": {
      "text/html": [
       "<style type=\"text/css\">\n",
       "#T_c9f18_row10_col0, #T_c9f18_row10_col1, #T_c9f18_row10_col2, #T_c9f18_row10_col3, #T_c9f18_row10_col4, #T_c9f18_row10_col5, #T_c9f18_row10_col6 {\n",
       "  background: yellow;\n",
       "}\n",
       "</style>\n",
       "<table id=\"T_c9f18\">\n",
       "  <thead>\n",
       "    <tr>\n",
       "      <th class=\"blank level0\" >&nbsp;</th>\n",
       "      <th id=\"T_c9f18_level0_col0\" class=\"col_heading level0 col0\" >MAE</th>\n",
       "      <th id=\"T_c9f18_level0_col1\" class=\"col_heading level0 col1\" >MSE</th>\n",
       "      <th id=\"T_c9f18_level0_col2\" class=\"col_heading level0 col2\" >RMSE</th>\n",
       "      <th id=\"T_c9f18_level0_col3\" class=\"col_heading level0 col3\" >R2</th>\n",
       "      <th id=\"T_c9f18_level0_col4\" class=\"col_heading level0 col4\" >RMSLE</th>\n",
       "      <th id=\"T_c9f18_level0_col5\" class=\"col_heading level0 col5\" >MAPE</th>\n",
       "      <th id=\"T_c9f18_level0_col6\" class=\"col_heading level0 col6\" >MAD</th>\n",
       "    </tr>\n",
       "    <tr>\n",
       "      <th class=\"index_name level0\" >Fold</th>\n",
       "      <th class=\"blank col0\" >&nbsp;</th>\n",
       "      <th class=\"blank col1\" >&nbsp;</th>\n",
       "      <th class=\"blank col2\" >&nbsp;</th>\n",
       "      <th class=\"blank col3\" >&nbsp;</th>\n",
       "      <th class=\"blank col4\" >&nbsp;</th>\n",
       "      <th class=\"blank col5\" >&nbsp;</th>\n",
       "      <th class=\"blank col6\" >&nbsp;</th>\n",
       "    </tr>\n",
       "  </thead>\n",
       "  <tbody>\n",
       "    <tr>\n",
       "      <th id=\"T_c9f18_level0_row0\" class=\"row_heading level0 row0\" >0</th>\n",
       "      <td id=\"T_c9f18_row0_col0\" class=\"data row0 col0\" >0.0223</td>\n",
       "      <td id=\"T_c9f18_row0_col1\" class=\"data row0 col1\" >0.0022</td>\n",
       "      <td id=\"T_c9f18_row0_col2\" class=\"data row0 col2\" >0.0470</td>\n",
       "      <td id=\"T_c9f18_row0_col3\" class=\"data row0 col3\" >0.9514</td>\n",
       "      <td id=\"T_c9f18_row0_col4\" class=\"data row0 col4\" >0.0338</td>\n",
       "      <td id=\"T_c9f18_row0_col5\" class=\"data row0 col5\" >0.2128</td>\n",
       "      <td id=\"T_c9f18_row0_col6\" class=\"data row0 col6\" >0.0098</td>\n",
       "    </tr>\n",
       "    <tr>\n",
       "      <th id=\"T_c9f18_level0_row1\" class=\"row_heading level0 row1\" >1</th>\n",
       "      <td id=\"T_c9f18_row1_col0\" class=\"data row1 col0\" >0.0209</td>\n",
       "      <td id=\"T_c9f18_row1_col1\" class=\"data row1 col1\" >0.0021</td>\n",
       "      <td id=\"T_c9f18_row1_col2\" class=\"data row1 col2\" >0.0463</td>\n",
       "      <td id=\"T_c9f18_row1_col3\" class=\"data row1 col3\" >0.9529</td>\n",
       "      <td id=\"T_c9f18_row1_col4\" class=\"data row1 col4\" >0.0335</td>\n",
       "      <td id=\"T_c9f18_row1_col5\" class=\"data row1 col5\" >0.2090</td>\n",
       "      <td id=\"T_c9f18_row1_col6\" class=\"data row1 col6\" >0.0035</td>\n",
       "    </tr>\n",
       "    <tr>\n",
       "      <th id=\"T_c9f18_level0_row2\" class=\"row_heading level0 row2\" >2</th>\n",
       "      <td id=\"T_c9f18_row2_col0\" class=\"data row2 col0\" >0.0209</td>\n",
       "      <td id=\"T_c9f18_row2_col1\" class=\"data row2 col1\" >0.0021</td>\n",
       "      <td id=\"T_c9f18_row2_col2\" class=\"data row2 col2\" >0.0463</td>\n",
       "      <td id=\"T_c9f18_row2_col3\" class=\"data row2 col3\" >0.9530</td>\n",
       "      <td id=\"T_c9f18_row2_col4\" class=\"data row2 col4\" >0.0334</td>\n",
       "      <td id=\"T_c9f18_row2_col5\" class=\"data row2 col5\" >0.2063</td>\n",
       "      <td id=\"T_c9f18_row2_col6\" class=\"data row2 col6\" >0.0026</td>\n",
       "    </tr>\n",
       "    <tr>\n",
       "      <th id=\"T_c9f18_level0_row3\" class=\"row_heading level0 row3\" >3</th>\n",
       "      <td id=\"T_c9f18_row3_col0\" class=\"data row3 col0\" >0.0214</td>\n",
       "      <td id=\"T_c9f18_row3_col1\" class=\"data row3 col1\" >0.0022</td>\n",
       "      <td id=\"T_c9f18_row3_col2\" class=\"data row3 col2\" >0.0469</td>\n",
       "      <td id=\"T_c9f18_row3_col3\" class=\"data row3 col3\" >0.9517</td>\n",
       "      <td id=\"T_c9f18_row3_col4\" class=\"data row3 col4\" >0.0337</td>\n",
       "      <td id=\"T_c9f18_row3_col5\" class=\"data row3 col5\" >0.2126</td>\n",
       "      <td id=\"T_c9f18_row3_col6\" class=\"data row3 col6\" >0.0084</td>\n",
       "    </tr>\n",
       "    <tr>\n",
       "      <th id=\"T_c9f18_level0_row4\" class=\"row_heading level0 row4\" >4</th>\n",
       "      <td id=\"T_c9f18_row4_col0\" class=\"data row4 col0\" >0.0205</td>\n",
       "      <td id=\"T_c9f18_row4_col1\" class=\"data row4 col1\" >0.0022</td>\n",
       "      <td id=\"T_c9f18_row4_col2\" class=\"data row4 col2\" >0.0467</td>\n",
       "      <td id=\"T_c9f18_row4_col3\" class=\"data row4 col3\" >0.9522</td>\n",
       "      <td id=\"T_c9f18_row4_col4\" class=\"data row4 col4\" >0.0337</td>\n",
       "      <td id=\"T_c9f18_row4_col5\" class=\"data row4 col5\" >0.2082</td>\n",
       "      <td id=\"T_c9f18_row4_col6\" class=\"data row4 col6\" >0.0026</td>\n",
       "    </tr>\n",
       "    <tr>\n",
       "      <th id=\"T_c9f18_level0_row5\" class=\"row_heading level0 row5\" >5</th>\n",
       "      <td id=\"T_c9f18_row5_col0\" class=\"data row5 col0\" >0.0208</td>\n",
       "      <td id=\"T_c9f18_row5_col1\" class=\"data row5 col1\" >0.0022</td>\n",
       "      <td id=\"T_c9f18_row5_col2\" class=\"data row5 col2\" >0.0471</td>\n",
       "      <td id=\"T_c9f18_row5_col3\" class=\"data row5 col3\" >0.9512</td>\n",
       "      <td id=\"T_c9f18_row5_col4\" class=\"data row5 col4\" >0.0339</td>\n",
       "      <td id=\"T_c9f18_row5_col5\" class=\"data row5 col5\" >0.2118</td>\n",
       "      <td id=\"T_c9f18_row5_col6\" class=\"data row5 col6\" >0.0026</td>\n",
       "    </tr>\n",
       "    <tr>\n",
       "      <th id=\"T_c9f18_level0_row6\" class=\"row_heading level0 row6\" >6</th>\n",
       "      <td id=\"T_c9f18_row6_col0\" class=\"data row6 col0\" >0.0213</td>\n",
       "      <td id=\"T_c9f18_row6_col1\" class=\"data row6 col1\" >0.0021</td>\n",
       "      <td id=\"T_c9f18_row6_col2\" class=\"data row6 col2\" >0.0463</td>\n",
       "      <td id=\"T_c9f18_row6_col3\" class=\"data row6 col3\" >0.9529</td>\n",
       "      <td id=\"T_c9f18_row6_col4\" class=\"data row6 col4\" >0.0334</td>\n",
       "      <td id=\"T_c9f18_row6_col5\" class=\"data row6 col5\" >0.2118</td>\n",
       "      <td id=\"T_c9f18_row6_col6\" class=\"data row6 col6\" >0.0057</td>\n",
       "    </tr>\n",
       "    <tr>\n",
       "      <th id=\"T_c9f18_level0_row7\" class=\"row_heading level0 row7\" >7</th>\n",
       "      <td id=\"T_c9f18_row7_col0\" class=\"data row7 col0\" >0.0205</td>\n",
       "      <td id=\"T_c9f18_row7_col1\" class=\"data row7 col1\" >0.0022</td>\n",
       "      <td id=\"T_c9f18_row7_col2\" class=\"data row7 col2\" >0.0465</td>\n",
       "      <td id=\"T_c9f18_row7_col3\" class=\"data row7 col3\" >0.9527</td>\n",
       "      <td id=\"T_c9f18_row7_col4\" class=\"data row7 col4\" >0.0335</td>\n",
       "      <td id=\"T_c9f18_row7_col5\" class=\"data row7 col5\" >0.2130</td>\n",
       "      <td id=\"T_c9f18_row7_col6\" class=\"data row7 col6\" >0.0027</td>\n",
       "    </tr>\n",
       "    <tr>\n",
       "      <th id=\"T_c9f18_level0_row8\" class=\"row_heading level0 row8\" >8</th>\n",
       "      <td id=\"T_c9f18_row8_col0\" class=\"data row8 col0\" >0.0205</td>\n",
       "      <td id=\"T_c9f18_row8_col1\" class=\"data row8 col1\" >0.0022</td>\n",
       "      <td id=\"T_c9f18_row8_col2\" class=\"data row8 col2\" >0.0468</td>\n",
       "      <td id=\"T_c9f18_row8_col3\" class=\"data row8 col3\" >0.9519</td>\n",
       "      <td id=\"T_c9f18_row8_col4\" class=\"data row8 col4\" >0.0337</td>\n",
       "      <td id=\"T_c9f18_row8_col5\" class=\"data row8 col5\" >0.2038</td>\n",
       "      <td id=\"T_c9f18_row8_col6\" class=\"data row8 col6\" >0.0026</td>\n",
       "    </tr>\n",
       "    <tr>\n",
       "      <th id=\"T_c9f18_level0_row9\" class=\"row_heading level0 row9\" >9</th>\n",
       "      <td id=\"T_c9f18_row9_col0\" class=\"data row9 col0\" >0.0210</td>\n",
       "      <td id=\"T_c9f18_row9_col1\" class=\"data row9 col1\" >0.0022</td>\n",
       "      <td id=\"T_c9f18_row9_col2\" class=\"data row9 col2\" >0.0473</td>\n",
       "      <td id=\"T_c9f18_row9_col3\" class=\"data row9 col3\" >0.9508</td>\n",
       "      <td id=\"T_c9f18_row9_col4\" class=\"data row9 col4\" >0.0341</td>\n",
       "      <td id=\"T_c9f18_row9_col5\" class=\"data row9 col5\" >0.2132</td>\n",
       "      <td id=\"T_c9f18_row9_col6\" class=\"data row9 col6\" >0.0028</td>\n",
       "    </tr>\n",
       "    <tr>\n",
       "      <th id=\"T_c9f18_level0_row10\" class=\"row_heading level0 row10\" >Mean</th>\n",
       "      <td id=\"T_c9f18_row10_col0\" class=\"data row10 col0\" >0.0210</td>\n",
       "      <td id=\"T_c9f18_row10_col1\" class=\"data row10 col1\" >0.0022</td>\n",
       "      <td id=\"T_c9f18_row10_col2\" class=\"data row10 col2\" >0.0467</td>\n",
       "      <td id=\"T_c9f18_row10_col3\" class=\"data row10 col3\" >0.9521</td>\n",
       "      <td id=\"T_c9f18_row10_col4\" class=\"data row10 col4\" >0.0337</td>\n",
       "      <td id=\"T_c9f18_row10_col5\" class=\"data row10 col5\" >0.2103</td>\n",
       "      <td id=\"T_c9f18_row10_col6\" class=\"data row10 col6\" >0.0043</td>\n",
       "    </tr>\n",
       "    <tr>\n",
       "      <th id=\"T_c9f18_level0_row11\" class=\"row_heading level0 row11\" >Std</th>\n",
       "      <td id=\"T_c9f18_row11_col0\" class=\"data row11 col0\" >0.0005</td>\n",
       "      <td id=\"T_c9f18_row11_col1\" class=\"data row11 col1\" >0.0000</td>\n",
       "      <td id=\"T_c9f18_row11_col2\" class=\"data row11 col2\" >0.0004</td>\n",
       "      <td id=\"T_c9f18_row11_col3\" class=\"data row11 col3\" >0.0007</td>\n",
       "      <td id=\"T_c9f18_row11_col4\" class=\"data row11 col4\" >0.0002</td>\n",
       "      <td id=\"T_c9f18_row11_col5\" class=\"data row11 col5\" >0.0031</td>\n",
       "      <td id=\"T_c9f18_row11_col6\" class=\"data row11 col6\" >0.0026</td>\n",
       "    </tr>\n",
       "  </tbody>\n",
       "</table>\n"
      ],
      "text/plain": [
       "<pandas.io.formats.style.Styler at 0x7f393bea7df0>"
      ]
     },
     "metadata": {},
     "output_type": "display_data"
    }
   ],
   "source": [
    "tuned_AGN_reg = pyr.tune_model(stacked_model_AGN, early_stopping='asha', optimize='RMSE',\\\n",
    "                               search_library='tune-sklearn', search_algorithm='random')  # 20  minutes"
   ]
  },
  {
   "cell_type": "code",
   "execution_count": 85,
   "id": "GJfDVspZtn7Z",
   "metadata": {
    "id": "GJfDVspZtn7Z",
    "papermill": {
     "duration": 3.103925,
     "end_time": "2022-04-21T20:09:00.510124",
     "exception": false,
     "start_time": "2022-04-21T20:08:57.406199",
     "status": "completed"
    },
    "tags": []
   },
   "outputs": [
    {
     "data": {
      "image/png": "[encoded data removed]",
      "text/plain": [
       "<Figure size 640x480 with 2 Axes>"
      ]
     },
     "metadata": {},
     "output_type": "display_data"
    }
   ],
   "source": [
    "pyr.plot_model(tuned_AGN_reg, plot='residuals')"
   ]
  },
  {
   "cell_type": "code",
   "execution_count": 86,
   "id": "3N6_OxWptsEe",
   "metadata": {
    "id": "3N6_OxWptsEe",
    "papermill": {
     "duration": 3.035898,
     "end_time": "2022-04-21T20:09:03.581905",
     "exception": false,
     "start_time": "2022-04-21T20:09:00.546007",
     "status": "completed"
    },
    "tags": []
   },
   "outputs": [
    {
     "data": {
      "image/png": "[encoded data removed]",
      "text/plain": [
       "<Figure size 640x480 with 1 Axes>"
      ]
     },
     "metadata": {},
     "output_type": "display_data"
    }
   ],
   "source": [
    "pyr.plot_model(tuned_AGN_reg, plot='error')"
   ]
  },
  {
   "cell_type": "code",
   "execution_count": 87,
   "id": "Mq15jdjqtv3Y",
   "metadata": {
    "id": "Mq15jdjqtv3Y",
    "papermill": {
     "duration": 0.484844,
     "end_time": "2022-04-21T20:09:06.091147",
     "exception": false,
     "start_time": "2022-04-21T20:09:05.606303",
     "status": "completed"
    },
    "tags": []
   },
   "outputs": [
    {
     "data": {
      "image/png": "[encoded data removed]",
      "text/plain": [
       "<Figure size 800x500 with 1 Axes>"
      ]
     },
     "metadata": {},
     "output_type": "display_data"
    }
   ],
   "source": [
    "pyr.plot_model(tuned_AGN_reg.estimators_[0], plot='feature_all')"
   ]
  },
  {
   "cell_type": "code",
   "execution_count": 88,
   "id": "82670338-33f5-4440-b64f-4c6cfc323542",
   "metadata": {
    "id": "Mq15jdjqtv3Y",
    "papermill": {
     "duration": 0.378658,
     "end_time": "2022-04-21T20:09:06.503344",
     "exception": false,
     "start_time": "2022-04-21T20:09:06.124686",
     "status": "completed"
    },
    "tags": []
   },
   "outputs": [
    {
     "data": {
      "text/html": [
       "<div>\n",
       "<style scoped>\n",
       "    .dataframe tbody tr th:only-of-type {\n",
       "        vertical-align: middle;\n",
       "    }\n",
       "\n",
       "    .dataframe tbody tr th {\n",
       "        vertical-align: top;\n",
       "    }\n",
       "\n",
       "    .dataframe thead th {\n",
       "        text-align: right;\n",
       "    }\n",
       "</style>\n",
       "<table border=\"1\" class=\"dataframe\">\n",
       "  <thead>\n",
       "    <tr style=\"text-align: right;\">\n",
       "      <th></th>\n",
       "      <th>Parameters</th>\n",
       "    </tr>\n",
       "  </thead>\n",
       "  <tbody>\n",
       "    <tr>\n",
       "      <th>cv</th>\n",
       "      <td>5</td>\n",
       "    </tr>\n",
       "    <tr>\n",
       "      <th>estimators</th>\n",
       "      <td>[('catboost', &lt;catboost.core.CatBoostRegressor...</td>\n",
       "    </tr>\n",
       "    <tr>\n",
       "      <th>final_estimator</th>\n",
       "      <td>XGBRegressor(base_score=0.5, booster='gbtree',...</td>\n",
       "    </tr>\n",
       "    <tr>\n",
       "      <th>n_jobs</th>\n",
       "      <td>1</td>\n",
       "    </tr>\n",
       "    <tr>\n",
       "      <th>passthrough</th>\n",
       "      <td>True</td>\n",
       "    </tr>\n",
       "    <tr>\n",
       "      <th>verbose</th>\n",
       "      <td>0</td>\n",
       "    </tr>\n",
       "  </tbody>\n",
       "</table>\n",
       "</div>"
      ],
      "text/plain": [
       "                                                        Parameters\n",
       "cv                                                               5\n",
       "estimators       [('catboost', <catboost.core.CatBoostRegressor...\n",
       "final_estimator  XGBRegressor(base_score=0.5, booster='gbtree',...\n",
       "n_jobs                                                           1\n",
       "passthrough                                                   True\n",
       "verbose                                                          0"
      ]
     },
     "metadata": {},
     "output_type": "display_data"
    }
   ],
   "source": [
    "pyr.plot_model(tuned_AGN_reg, plot='parameter')"
   ]
  },
  {
   "cell_type": "code",
   "execution_count": 89,
   "id": "t2CRgDLptzuE",
   "metadata": {
    "id": "t2CRgDLptzuE",
    "papermill": {
     "duration": 0.038641,
     "end_time": "2022-04-21T20:09:06.575992",
     "exception": false,
     "start_time": "2022-04-21T20:09:06.537351",
     "status": "completed"
    },
    "tags": []
   },
   "outputs": [],
   "source": [
    "plt.rcParams.update(plt.rcParamsDefault)"
   ]
  },
  {
   "cell_type": "code",
   "execution_count": 90,
   "id": "16bcca48-930e-4210-89be-7c3a1e9684ce",
   "metadata": {
    "papermill": {
     "duration": 3.06984,
     "end_time": "2022-04-21T20:09:09.677403",
     "exception": false,
     "start_time": "2022-04-21T20:09:06.607563",
     "status": "completed"
    },
    "tags": []
   },
   "outputs": [
    {
     "data": {
      "text/html": [
       "<style type=\"text/css\">\n",
       "</style>\n",
       "<table id=\"T_1d941\">\n",
       "  <thead>\n",
       "    <tr>\n",
       "      <th class=\"blank level0\" >&nbsp;</th>\n",
       "      <th id=\"T_1d941_level0_col0\" class=\"col_heading level0 col0\" >Model</th>\n",
       "      <th id=\"T_1d941_level0_col1\" class=\"col_heading level0 col1\" >MAE</th>\n",
       "      <th id=\"T_1d941_level0_col2\" class=\"col_heading level0 col2\" >MSE</th>\n",
       "      <th id=\"T_1d941_level0_col3\" class=\"col_heading level0 col3\" >RMSE</th>\n",
       "      <th id=\"T_1d941_level0_col4\" class=\"col_heading level0 col4\" >R2</th>\n",
       "      <th id=\"T_1d941_level0_col5\" class=\"col_heading level0 col5\" >RMSLE</th>\n",
       "      <th id=\"T_1d941_level0_col6\" class=\"col_heading level0 col6\" >MAPE</th>\n",
       "      <th id=\"T_1d941_level0_col7\" class=\"col_heading level0 col7\" >MAD</th>\n",
       "    </tr>\n",
       "  </thead>\n",
       "  <tbody>\n",
       "    <tr>\n",
       "      <th id=\"T_1d941_level0_row0\" class=\"row_heading level0 row0\" >0</th>\n",
       "      <td id=\"T_1d941_row0_col0\" class=\"data row0 col0\" >Stacking Regressor</td>\n",
       "      <td id=\"T_1d941_row0_col1\" class=\"data row0 col1\" >0.0235</td>\n",
       "      <td id=\"T_1d941_row0_col2\" class=\"data row0 col2\" >0.0023</td>\n",
       "      <td id=\"T_1d941_row0_col3\" class=\"data row0 col3\" >0.0478</td>\n",
       "      <td id=\"T_1d941_row0_col4\" class=\"data row0 col4\" >0.9498</td>\n",
       "      <td id=\"T_1d941_row0_col5\" class=\"data row0 col5\" >0.0344</td>\n",
       "      <td id=\"T_1d941_row0_col6\" class=\"data row0 col6\" >0.2127</td>\n",
       "      <td id=\"T_1d941_row0_col7\" class=\"data row0 col7\" >0.0102</td>\n",
       "    </tr>\n",
       "  </tbody>\n",
       "</table>\n"
      ],
      "text/plain": [
       "<pandas.io.formats.style.Styler at 0x7f392af39220>"
      ]
     },
     "metadata": {},
     "output_type": "display_data"
    },
    {
     "data": {
      "text/html": [
       "<div>\n",
       "<style scoped>\n",
       "    .dataframe tbody tr th:only-of-type {\n",
       "        vertical-align: middle;\n",
       "    }\n",
       "\n",
       "    .dataframe tbody tr th {\n",
       "        vertical-align: top;\n",
       "    }\n",
       "\n",
       "    .dataframe thead th {\n",
       "        text-align: right;\n",
       "    }\n",
       "</style>\n",
       "<table border=\"1\" class=\"dataframe\">\n",
       "  <thead>\n",
       "    <tr style=\"text-align: right;\">\n",
       "      <th></th>\n",
       "      <th>band_num</th>\n",
       "      <th>NUVmag</th>\n",
       "      <th>g_r</th>\n",
       "      <th>r_i</th>\n",
       "      <th>i_z</th>\n",
       "      <th>z_y</th>\n",
       "      <th>g_i</th>\n",
       "      <th>w1_w2</th>\n",
       "      <th>w3_w4</th>\n",
       "      <th>H_K</th>\n",
       "      <th>r/z</th>\n",
       "      <th>z/W1</th>\n",
       "      <th>class</th>\n",
       "      <th>Label</th>\n",
       "    </tr>\n",
       "  </thead>\n",
       "  <tbody>\n",
       "    <tr>\n",
       "      <th>0</th>\n",
       "      <td>0.947842</td>\n",
       "      <td>0.105469</td>\n",
       "      <td>-2.349921</td>\n",
       "      <td>2.159467</td>\n",
       "      <td>-1.236271</td>\n",
       "      <td>-0.841083</td>\n",
       "      <td>0.338716</td>\n",
       "      <td>-1.139824</td>\n",
       "      <td>0.087292</td>\n",
       "      <td>0.14925</td>\n",
       "      <td>1.187269</td>\n",
       "      <td>0.307920</td>\n",
       "      <td>0.8056</td>\n",
       "      <td>0.765121</td>\n",
       "    </tr>\n",
       "    <tr>\n",
       "      <th>1</th>\n",
       "      <td>1.324612</td>\n",
       "      <td>0.105469</td>\n",
       "      <td>1.163678</td>\n",
       "      <td>1.356437</td>\n",
       "      <td>-0.163889</td>\n",
       "      <td>-0.690534</td>\n",
       "      <td>1.610397</td>\n",
       "      <td>-1.650926</td>\n",
       "      <td>0.087292</td>\n",
       "      <td>0.14925</td>\n",
       "      <td>1.525919</td>\n",
       "      <td>-1.815785</td>\n",
       "      <td>0.3287</td>\n",
       "      <td>0.294704</td>\n",
       "    </tr>\n",
       "    <tr>\n",
       "      <th>2</th>\n",
       "      <td>-1.137560</td>\n",
       "      <td>0.105469</td>\n",
       "      <td>-0.440407</td>\n",
       "      <td>-0.413893</td>\n",
       "      <td>0.482484</td>\n",
       "      <td>0.515906</td>\n",
       "      <td>-0.620380</td>\n",
       "      <td>0.652730</td>\n",
       "      <td>0.087292</td>\n",
       "      <td>0.14925</td>\n",
       "      <td>-0.026778</td>\n",
       "      <td>0.401484</td>\n",
       "      <td>0.4613</td>\n",
       "      <td>0.461802</td>\n",
       "    </tr>\n",
       "    <tr>\n",
       "      <th>3</th>\n",
       "      <td>0.249080</td>\n",
       "      <td>0.105469</td>\n",
       "      <td>-0.440407</td>\n",
       "      <td>-0.413893</td>\n",
       "      <td>0.482484</td>\n",
       "      <td>0.515906</td>\n",
       "      <td>-0.620380</td>\n",
       "      <td>0.652730</td>\n",
       "      <td>0.087292</td>\n",
       "      <td>0.14925</td>\n",
       "      <td>-0.026778</td>\n",
       "      <td>0.401484</td>\n",
       "      <td>0.4620</td>\n",
       "      <td>0.436932</td>\n",
       "    </tr>\n",
       "    <tr>\n",
       "      <th>4</th>\n",
       "      <td>-1.137560</td>\n",
       "      <td>0.105469</td>\n",
       "      <td>-0.440407</td>\n",
       "      <td>-0.413893</td>\n",
       "      <td>0.482484</td>\n",
       "      <td>0.515906</td>\n",
       "      <td>-0.620380</td>\n",
       "      <td>0.652730</td>\n",
       "      <td>0.087292</td>\n",
       "      <td>0.14925</td>\n",
       "      <td>-0.026778</td>\n",
       "      <td>0.401484</td>\n",
       "      <td>0.4613</td>\n",
       "      <td>0.461802</td>\n",
       "    </tr>\n",
       "    <tr>\n",
       "      <th>...</th>\n",
       "      <td>...</td>\n",
       "      <td>...</td>\n",
       "      <td>...</td>\n",
       "      <td>...</td>\n",
       "      <td>...</td>\n",
       "      <td>...</td>\n",
       "      <td>...</td>\n",
       "      <td>...</td>\n",
       "      <td>...</td>\n",
       "      <td>...</td>\n",
       "      <td>...</td>\n",
       "      <td>...</td>\n",
       "      <td>...</td>\n",
       "      <td>...</td>\n",
       "    </tr>\n",
       "    <tr>\n",
       "      <th>1615111</th>\n",
       "      <td>0.249080</td>\n",
       "      <td>0.105469</td>\n",
       "      <td>1.152404</td>\n",
       "      <td>0.128183</td>\n",
       "      <td>0.469179</td>\n",
       "      <td>-1.631022</td>\n",
       "      <td>0.946260</td>\n",
       "      <td>0.652730</td>\n",
       "      <td>0.087292</td>\n",
       "      <td>0.14925</td>\n",
       "      <td>0.499327</td>\n",
       "      <td>-0.892615</td>\n",
       "      <td>0.1607</td>\n",
       "      <td>0.247922</td>\n",
       "    </tr>\n",
       "    <tr>\n",
       "      <th>1615112</th>\n",
       "      <td>0.249080</td>\n",
       "      <td>0.105469</td>\n",
       "      <td>2.451880</td>\n",
       "      <td>0.153961</td>\n",
       "      <td>-0.399594</td>\n",
       "      <td>0.650959</td>\n",
       "      <td>1.803205</td>\n",
       "      <td>-1.380602</td>\n",
       "      <td>0.087292</td>\n",
       "      <td>0.14925</td>\n",
       "      <td>-0.114686</td>\n",
       "      <td>-0.859032</td>\n",
       "      <td>0.0221</td>\n",
       "      <td>0.065801</td>\n",
       "    </tr>\n",
       "    <tr>\n",
       "      <th>1615113</th>\n",
       "      <td>-1.137560</td>\n",
       "      <td>0.105469</td>\n",
       "      <td>-0.440407</td>\n",
       "      <td>-0.413893</td>\n",
       "      <td>0.482484</td>\n",
       "      <td>0.515906</td>\n",
       "      <td>-0.620380</td>\n",
       "      <td>0.652730</td>\n",
       "      <td>0.087292</td>\n",
       "      <td>0.14925</td>\n",
       "      <td>-0.026778</td>\n",
       "      <td>0.401484</td>\n",
       "      <td>0.4613</td>\n",
       "      <td>0.461802</td>\n",
       "    </tr>\n",
       "    <tr>\n",
       "      <th>1615114</th>\n",
       "      <td>1.324612</td>\n",
       "      <td>0.105469</td>\n",
       "      <td>0.685766</td>\n",
       "      <td>0.226079</td>\n",
       "      <td>-1.038957</td>\n",
       "      <td>2.552229</td>\n",
       "      <td>0.678468</td>\n",
       "      <td>-1.496659</td>\n",
       "      <td>0.087292</td>\n",
       "      <td>0.14925</td>\n",
       "      <td>-0.673239</td>\n",
       "      <td>-0.969512</td>\n",
       "      <td>0.1002</td>\n",
       "      <td>0.151946</td>\n",
       "    </tr>\n",
       "    <tr>\n",
       "      <th>1615115</th>\n",
       "      <td>-0.044831</td>\n",
       "      <td>0.105469</td>\n",
       "      <td>-0.161232</td>\n",
       "      <td>-0.238062</td>\n",
       "      <td>-2.187337</td>\n",
       "      <td>0.515906</td>\n",
       "      <td>-0.257906</td>\n",
       "      <td>0.652730</td>\n",
       "      <td>0.087292</td>\n",
       "      <td>0.14925</td>\n",
       "      <td>-2.530725</td>\n",
       "      <td>0.401484</td>\n",
       "      <td>0.8764</td>\n",
       "      <td>0.898557</td>\n",
       "    </tr>\n",
       "  </tbody>\n",
       "</table>\n",
       "<p>1615116 rows × 14 columns</p>\n",
       "</div>"
      ],
      "text/plain": [
       "         band_num    NUVmag       g_r       r_i       i_z       z_y       g_i  \\\n",
       "0        0.947842  0.105469 -2.349921  2.159467 -1.236271 -0.841083  0.338716   \n",
       "1        1.324612  0.105469  1.163678  1.356437 -0.163889 -0.690534  1.610397   \n",
       "2       -1.137560  0.105469 -0.440407 -0.413893  0.482484  0.515906 -0.620380   \n",
       "3        0.249080  0.105469 -0.440407 -0.413893  0.482484  0.515906 -0.620380   \n",
       "4       -1.137560  0.105469 -0.440407 -0.413893  0.482484  0.515906 -0.620380   \n",
       "...           ...       ...       ...       ...       ...       ...       ...   \n",
       "1615111  0.249080  0.105469  1.152404  0.128183  0.469179 -1.631022  0.946260   \n",
       "1615112  0.249080  0.105469  2.451880  0.153961 -0.399594  0.650959  1.803205   \n",
       "1615113 -1.137560  0.105469 -0.440407 -0.413893  0.482484  0.515906 -0.620380   \n",
       "1615114  1.324612  0.105469  0.685766  0.226079 -1.038957  2.552229  0.678468   \n",
       "1615115 -0.044831  0.105469 -0.161232 -0.238062 -2.187337  0.515906 -0.257906   \n",
       "\n",
       "            w1_w2     w3_w4      H_K       r/z      z/W1   class     Label  \n",
       "0       -1.139824  0.087292  0.14925  1.187269  0.307920  0.8056  0.765121  \n",
       "1       -1.650926  0.087292  0.14925  1.525919 -1.815785  0.3287  0.294704  \n",
       "2        0.652730  0.087292  0.14925 -0.026778  0.401484  0.4613  0.461802  \n",
       "3        0.652730  0.087292  0.14925 -0.026778  0.401484  0.4620  0.436932  \n",
       "4        0.652730  0.087292  0.14925 -0.026778  0.401484  0.4613  0.461802  \n",
       "...           ...       ...      ...       ...       ...     ...       ...  \n",
       "1615111  0.652730  0.087292  0.14925  0.499327 -0.892615  0.1607  0.247922  \n",
       "1615112 -1.380602  0.087292  0.14925 -0.114686 -0.859032  0.0221  0.065801  \n",
       "1615113  0.652730  0.087292  0.14925 -0.026778  0.401484  0.4613  0.461802  \n",
       "1615114 -1.496659  0.087292  0.14925 -0.673239 -0.969512  0.1002  0.151946  \n",
       "1615115  0.652730  0.087292  0.14925 -2.530725  0.401484  0.8764  0.898557  \n",
       "\n",
       "[1615116 rows x 14 columns]"
      ]
     },
     "execution_count": 90,
     "metadata": {},
     "output_type": "execute_result"
    }
   ],
   "source": [
    "pyr.predict_model(tuned_AGN_reg)"
   ]
  },
  {
   "cell_type": "code",
   "execution_count": 91,
   "id": "c5e351d3-343b-4c30-8a42-37445a3dd91a",
   "metadata": {
    "papermill": {
     "duration": 3.036255,
     "end_time": "2022-04-21T20:09:12.746956",
     "exception": false,
     "start_time": "2022-04-21T20:09:09.710701",
     "status": "completed"
    },
    "tags": []
   },
   "outputs": [
    {
     "data": {
      "text/html": [
       "<style type=\"text/css\">\n",
       "</style>\n",
       "<table id=\"T_1c823\">\n",
       "  <thead>\n",
       "    <tr>\n",
       "      <th class=\"blank level0\" >&nbsp;</th>\n",
       "      <th id=\"T_1c823_level0_col0\" class=\"col_heading level0 col0\" >Model</th>\n",
       "      <th id=\"T_1c823_level0_col1\" class=\"col_heading level0 col1\" >MAE</th>\n",
       "      <th id=\"T_1c823_level0_col2\" class=\"col_heading level0 col2\" >MSE</th>\n",
       "      <th id=\"T_1c823_level0_col3\" class=\"col_heading level0 col3\" >RMSE</th>\n",
       "      <th id=\"T_1c823_level0_col4\" class=\"col_heading level0 col4\" >R2</th>\n",
       "      <th id=\"T_1c823_level0_col5\" class=\"col_heading level0 col5\" >RMSLE</th>\n",
       "      <th id=\"T_1c823_level0_col6\" class=\"col_heading level0 col6\" >MAPE</th>\n",
       "      <th id=\"T_1c823_level0_col7\" class=\"col_heading level0 col7\" >MAD</th>\n",
       "    </tr>\n",
       "  </thead>\n",
       "  <tbody>\n",
       "    <tr>\n",
       "      <th id=\"T_1c823_level0_row0\" class=\"row_heading level0 row0\" >0</th>\n",
       "      <td id=\"T_1c823_row0_col0\" class=\"data row0 col0\" >Stacking Regressor</td>\n",
       "      <td id=\"T_1c823_row0_col1\" class=\"data row0 col1\" >0.0235</td>\n",
       "      <td id=\"T_1c823_row0_col2\" class=\"data row0 col2\" >0.0023</td>\n",
       "      <td id=\"T_1c823_row0_col3\" class=\"data row0 col3\" >0.0478</td>\n",
       "      <td id=\"T_1c823_row0_col4\" class=\"data row0 col4\" >0.9498</td>\n",
       "      <td id=\"T_1c823_row0_col5\" class=\"data row0 col5\" >0.0344</td>\n",
       "      <td id=\"T_1c823_row0_col6\" class=\"data row0 col6\" >0.2127</td>\n",
       "      <td id=\"T_1c823_row0_col7\" class=\"data row0 col7\" >0.0102</td>\n",
       "    </tr>\n",
       "  </tbody>\n",
       "</table>\n"
      ],
      "text/plain": [
       "<pandas.io.formats.style.Styler at 0x7f393bbc4f70>"
      ]
     },
     "metadata": {},
     "output_type": "display_data"
    }
   ],
   "source": [
    "test_prediction_reg = pyr.predict_model(tuned_AGN_reg)"
   ]
  },
  {
   "cell_type": "markdown",
   "id": "33fb0cc0-5c96-491a-9ef1-26640d9ed884",
   "metadata": {
    "papermill": {
     "duration": 0.02987,
     "end_time": "2022-04-21T20:09:12.813839",
     "exception": false,
     "start_time": "2022-04-21T20:09:12.783969",
     "status": "completed"
    },
    "tags": []
   },
   "source": [
    "Metrics from applying model to test data.  \n",
    "\n",
    "|Model                    |Accuracy|AUC   |Recall|Prec. |F1    |Kappa |MCC   |\n",
    "|-------------------------|--------|------|------|------|------|------|------|\n",
    "|Extreme Gradient Boosting|0.9978  |0.9781|0.5978|0.8092|0.6876|0.6865|0.6945|"
   ]
  },
  {
   "cell_type": "code",
   "execution_count": 92,
   "id": "WsMuc6dtt2ci",
   "metadata": {
    "id": "WsMuc6dtt2ci",
    "papermill": {
     "duration": 2951.114744,
     "end_time": "2022-04-21T20:58:23.958009",
     "exception": false,
     "start_time": "2022-04-21T20:09:12.843265",
     "status": "completed"
    },
    "tags": []
   },
   "outputs": [
    {
     "name": "stderr",
     "output_type": "stream",
     "text": [
      "Warning: less than 75% gpu memory available for training. Free: 7790.625 Total: 12051.3125\n",
      "Warning: less than 75% gpu memory available for training. Free: 7710.625 Total: 12051.3125\n",
      "Warning: less than 75% gpu memory available for training. Free: 7710.625 Total: 12051.3125\n",
      "Warning: less than 75% gpu memory available for training. Free: 7710.625 Total: 12051.3125\n",
      "Warning: less than 75% gpu memory available for training. Free: 7710.625 Total: 12051.3125\n",
      "Warning: less than 75% gpu memory available for training. Free: 7710.625 Total: 12051.3125\n",
      "Warning: less than 75% gpu memory available for training. Free: 7398.625 Total: 12051.3125\n",
      "Warning: less than 75% gpu memory available for training. Free: 7398.625 Total: 12051.3125\n",
      "Warning: less than 75% gpu memory available for training. Free: 7518.625 Total: 12051.3125\n",
      "Warning: less than 75% gpu memory available for training. Free: 7518.625 Total: 12051.3125\n",
      "Warning: less than 75% gpu memory available for training. Free: 7518.625 Total: 12051.3125\n",
      "Warning: less than 75% gpu memory available for training. Free: 7518.625 Total: 12051.3125\n",
      "Warning: less than 75% gpu memory available for training. Free: 7398.625 Total: 12051.3125\n",
      "Warning: less than 75% gpu memory available for training. Free: 7398.625 Total: 12051.3125\n",
      "Warning: less than 75% gpu memory available for training. Free: 7398.625 Total: 12051.3125\n",
      "Warning: less than 75% gpu memory available for training. Free: 7398.625 Total: 12051.3125\n",
      "Warning: less than 75% gpu memory available for training. Free: 7398.625 Total: 12051.3125\n",
      "Warning: less than 75% gpu memory available for training. Free: 7398.625 Total: 12051.3125\n",
      "Warning: less than 75% gpu memory available for training. Free: 7438.625 Total: 12051.3125\n",
      "Warning: less than 75% gpu memory available for training. Free: 7358.625 Total: 12051.3125\n",
      "Warning: less than 75% gpu memory available for training. Free: 7358.625 Total: 12051.3125\n",
      "Warning: less than 75% gpu memory available for training. Free: 7358.625 Total: 12051.3125\n",
      "Warning: less than 75% gpu memory available for training. Free: 7358.625 Total: 12051.3125\n",
      "Warning: less than 75% gpu memory available for training. Free: 7358.625 Total: 12051.3125\n",
      "Warning: less than 75% gpu memory available for training. Free: 7356.625 Total: 12051.3125\n",
      "Warning: less than 75% gpu memory available for training. Free: 7276.625 Total: 12051.3125\n",
      "Warning: less than 75% gpu memory available for training. Free: 7518.625 Total: 12051.3125\n",
      "Warning: less than 75% gpu memory available for training. Free: 7518.625 Total: 12051.3125\n",
      "Warning: less than 75% gpu memory available for training. Free: 7518.625 Total: 12051.3125\n",
      "Warning: less than 75% gpu memory available for training. Free: 7518.625 Total: 12051.3125\n",
      "Warning: less than 75% gpu memory available for training. Free: 7398.625 Total: 12051.3125\n",
      "Warning: less than 75% gpu memory available for training. Free: 7398.625 Total: 12051.3125\n",
      "Warning: less than 75% gpu memory available for training. Free: 7398.625 Total: 12051.3125\n",
      "Warning: less than 75% gpu memory available for training. Free: 7398.625 Total: 12051.3125\n",
      "Warning: less than 75% gpu memory available for training. Free: 7398.625 Total: 12051.3125\n",
      "Warning: less than 75% gpu memory available for training. Free: 7398.625 Total: 12051.3125\n",
      "Warning: less than 75% gpu memory available for training. Free: 7438.625 Total: 12051.3125\n",
      "Warning: less than 75% gpu memory available for training. Free: 7358.625 Total: 12051.3125\n",
      "Warning: less than 75% gpu memory available for training. Free: 7358.625 Total: 12051.3125\n",
      "Warning: less than 75% gpu memory available for training. Free: 7358.625 Total: 12051.3125\n",
      "Warning: less than 75% gpu memory available for training. Free: 7358.625 Total: 12051.3125\n",
      "Warning: less than 75% gpu memory available for training. Free: 7358.625 Total: 12051.3125\n",
      "Warning: less than 75% gpu memory available for training. Free: 7356.625 Total: 12051.3125\n",
      "Warning: less than 75% gpu memory available for training. Free: 7276.625 Total: 12051.3125\n",
      "Warning: less than 75% gpu memory available for training. Free: 7518.625 Total: 12051.3125\n",
      "Warning: less than 75% gpu memory available for training. Free: 7518.625 Total: 12051.3125\n",
      "Warning: less than 75% gpu memory available for training. Free: 7518.625 Total: 12051.3125\n",
      "Warning: less than 75% gpu memory available for training. Free: 7518.625 Total: 12051.3125\n",
      "Warning: less than 75% gpu memory available for training. Free: 7518.625 Total: 12051.3125\n",
      "Warning: less than 75% gpu memory available for training. Free: 7518.625 Total: 12051.3125\n",
      "Warning: less than 75% gpu memory available for training. Free: 7518.625 Total: 12051.3125\n",
      "Warning: less than 75% gpu memory available for training. Free: 7518.625 Total: 12051.3125\n",
      "Warning: less than 75% gpu memory available for training. Free: 7518.625 Total: 12051.3125\n",
      "Warning: less than 75% gpu memory available for training. Free: 7518.625 Total: 12051.3125\n",
      "Warning: less than 75% gpu memory available for training. Free: 7398.625 Total: 12051.3125\n",
      "Warning: less than 75% gpu memory available for training. Free: 7398.625 Total: 12051.3125\n",
      "Warning: less than 75% gpu memory available for training. Free: 7398.625 Total: 12051.3125\n",
      "Warning: less than 75% gpu memory available for training. Free: 7398.625 Total: 12051.3125\n",
      "Warning: less than 75% gpu memory available for training. Free: 7398.625 Total: 12051.3125\n",
      "Warning: less than 75% gpu memory available for training. Free: 7398.625 Total: 12051.3125\n",
      "Warning: less than 75% gpu memory available for training. Free: 7196.625 Total: 12051.3125\n",
      "Warning: less than 75% gpu memory available for training. Free: 7358.625 Total: 12051.3125\n",
      "Warning: less than 75% gpu memory available for training. Free: 7358.625 Total: 12051.3125\n",
      "Warning: less than 75% gpu memory available for training. Free: 7358.625 Total: 12051.3125\n",
      "Warning: less than 75% gpu memory available for training. Free: 7358.625 Total: 12051.3125\n",
      "Warning: less than 75% gpu memory available for training. Free: 7358.625 Total: 12051.3125\n"
     ]
    }
   ],
   "source": [
    "final_AGN_reg = pyr.finalize_model(tuned_AGN_reg)"
   ]
  },
  {
   "cell_type": "code",
   "execution_count": 93,
   "id": "kAciINC6t-gk",
   "metadata": {
    "id": "kAciINC6t-gk",
    "papermill": {
     "duration": 0.700739,
     "end_time": "2022-04-21T20:58:24.695002",
     "exception": false,
     "start_time": "2022-04-21T20:58:23.994263",
     "status": "completed"
    },
    "tags": []
   },
   "outputs": [
    {
     "name": "stdout",
     "output_type": "stream",
     "text": [
      "Transformation Pipeline and Model Successfully Saved\n"
     ]
    },
    {
     "data": {
      "text/plain": [
       "(Pipeline(memory=None,\n",
       "          steps=[('dtypes',\n",
       "                  DataTypes_Auto_infer(categorical_features=[],\n",
       "                                       display_types=False,\n",
       "                                       features_todrop=['W1mproPM', 'w2/w4',\n",
       "                                                        'Hmag', 'w1/w3', 'i/K',\n",
       "                                                        'FUV_NUV', 'Kmag',\n",
       "                                                        'W2mproPM', 'J/K', 'r/H',\n",
       "                                                        'zmag', 'W3mag', 'g/J',\n",
       "                                                        'rmag', 'w1/w4', 'y/W2',\n",
       "                                                        'FUV/K', 'ymag', 'gmag',\n",
       "                                                        'Jmag', 'imag', 'w2_w3',\n",
       "                                                        'i/y', 'FUVmag', 'W4mag',\n",
       "                                                        'J_H'],\n",
       "                                       id_columns=[], ml_usecase='regress...\n",
       "                                                                 min_child_weight=3,\n",
       "                                                                 missing=nan,\n",
       "                                                                 monotone_constraints='()',\n",
       "                                                                 n_estimators=300,\n",
       "                                                                 n_jobs=12,\n",
       "                                                                 num_parallel_tree=1,\n",
       "                                                                 objective='reg:squarederror',\n",
       "                                                                 predictor='auto',\n",
       "                                                                 random_state=42,\n",
       "                                                                 reg_alpha=0.05,\n",
       "                                                                 reg_lambda=10,\n",
       "                                                                 scale_pos_weight=20.700000000000003,\n",
       "                                                                 subsample=0.7,\n",
       "                                                                 tree_method='gpu_hist',\n",
       "                                                                 validate_parameters=1,\n",
       "                                                                 verbosity=0),\n",
       "                                    n_jobs=1, passthrough=True, verbose=0)]],\n",
       "          verbose=False),\n",
       " 'models/classification_AGN_galaxy_apr_22_2022.pkl')"
      ]
     },
     "execution_count": 93,
     "metadata": {},
     "output_type": "execute_result"
    }
   ],
   "source": [
    "if save_model_flag:\n",
    "    pyr.save_model(final_AGN_reg, 'models/classification_AGN_galaxy_apr_22_2022')  # Model (it will be saved with .pkl extension)\n",
    "    # pyr.save_config('../../models/config_classification_AGN_galaxy_apr_22_2022')  # Configuration file"
   ]
  },
  {
   "cell_type": "markdown",
   "id": "ef654bbb-7b74-4cef-a809-42d2eb8e7fcb",
   "metadata": {
    "id": "ef654bbb-7b74-4cef-a809-42d2eb8e7fcb",
    "papermill": {
     "duration": 0.031915,
     "end_time": "2022-04-21T20:58:24.763851",
     "exception": false,
     "start_time": "2022-04-21T20:58:24.731936",
     "status": "completed"
    },
    "tags": []
   },
   "source": [
    "## Load Models"
   ]
  },
  {
   "cell_type": "markdown",
   "id": "217777e4-0212-4a37-b535-6fcaf2f0817e",
   "metadata": {
    "id": "217777e4-0212-4a37-b535-6fcaf2f0817e",
    "papermill": {
     "duration": 0.030734,
     "end_time": "2022-04-21T20:58:24.825842",
     "exception": false,
     "start_time": "2022-04-21T20:58:24.795108",
     "status": "completed"
    },
    "tags": []
   },
   "source": [
    "AGN detection model."
   ]
  },
  {
   "cell_type": "code",
   "execution_count": 76,
   "id": "ad6bf94f-c59d-4013-b523-76a77df047cc",
   "metadata": {
    "id": "ad6bf94f-c59d-4013-b523-76a77df047cc",
    "outputId": "d8cd5b82-e109-4bd1-90ea-bf0e85e10ccd",
    "papermill": {
     "duration": 0.037989,
     "end_time": "2022-04-21T20:58:24.895352",
     "exception": false,
     "start_time": "2022-04-21T20:58:24.857363",
     "status": "completed"
    },
    "tags": []
   },
   "outputs": [
    {
     "name": "stdout",
     "output_type": "stream",
     "text": [
      "Transformation Pipeline and Model Successfully Loaded\n"
     ]
    }
   ],
   "source": [
    "if load_model_flag:\n",
    "    inal_AGN_reg = pyr.load_model('models/classification_AGN_galaxy_apr_22_2022')"
   ]
  },
  {
   "cell_type": "markdown",
   "id": "6fcb2c6c-a004-4801-b43d-a3593f802cf5",
   "metadata": {
    "id": "6fcb2c6c-a004-4801-b43d-a3593f802cf5",
    "papermill": {
     "duration": 0.030849,
     "end_time": "2022-04-21T20:58:24.957110",
     "exception": false,
     "start_time": "2022-04-21T20:58:24.926261",
     "status": "completed"
    },
    "tags": []
   },
   "source": [
    "### Prediction process"
   ]
  },
  {
   "cell_type": "markdown",
   "id": "d08aeba7-5a4c-4ae1-bf5c-34251a6b0f63",
   "metadata": {
    "papermill": {
     "duration": 0.031062,
     "end_time": "2022-04-21T20:58:25.019458",
     "exception": false,
     "start_time": "2022-04-21T20:58:24.988396",
     "status": "completed"
    },
    "tags": []
   },
   "source": [
    "#### Feature importances"
   ]
  },
  {
   "cell_type": "code",
   "execution_count": 94,
   "id": "5913b67b-3790-4d68-b6e6-9399616d835f",
   "metadata": {
    "papermill": {
     "duration": 0.460595,
     "end_time": "2022-04-21T20:58:25.510933",
     "exception": true,
     "start_time": "2022-04-21T20:58:25.050338",
     "status": "failed"
    },
    "tags": []
   },
   "outputs": [
    {
     "name": "stdout",
     "output_type": "stream",
     "text": [
      "Running dtypes\n",
      "Running imputer\n",
      "Running new_levels1\n",
      "Running new_levels\n",
      "Running feature_time\n",
      "Running scaling\n",
      "Running P_transform\n",
      "Running dummy\n",
      "Running fix_perfect\n",
      "Running clean_names\n"
     ]
    }
   ],
   "source": [
    "extended_data_AGN = validation_df.loc[:, get_final_column_names(final_AGN_reg, validation_df)].copy()\n",
    "extended_idx_AGN  = extended_data_AGN.index\n",
    "initial_cols_AGN  = extended_data_AGN.columns\n",
    "extended_cols_AGN = extended_data_AGN.columns.insert(0, 'catboost')\n",
    "extended_cols_AGN = extended_cols_AGN.insert(0, 'lightgbm')\n",
    "extended_cols_AGN = extended_cols_AGN.insert(0, 'lr')\n",
    "extended_cols_AGN = extended_cols_AGN.insert(0, 'ridge')"
   ]
  },
  {
   "cell_type": "code",
   "execution_count": 95,
   "id": "ac4af6f8-d5b4-4424-aede-5c91efb62588",
   "metadata": {
    "papermill": {
     "duration": null,
     "end_time": null,
     "exception": null,
     "start_time": null,
     "status": "pending"
    },
    "tags": []
   },
   "outputs": [
    {
     "name": "stdout",
     "output_type": "stream",
     "text": [
      "Running data pre-processing:\n",
      "\n",
      "Running dtypes\n",
      "Running imputer\n",
      "Running new_levels1\n",
      "Running new_levels\n",
      "Running feature_time\n",
      "Running scaling\n",
      "Running P_transform\n",
      "Running dummy\n",
      "Running fix_perfect\n",
      "Running clean_names\n"
     ]
    }
   ],
   "source": [
    "print('Running data pre-processing:\\n')\n",
    "if isinstance(final_AGN_reg, sklearn.pipeline.Pipeline):\n",
    "    prep_steps = final_AGN_reg.named_steps.items()\n",
    "else:\n",
    "    prep_steps = pyr.get_config('prep_pipe').named_steps.items()\n",
    "\n",
    "for (name, method) in prep_steps:\n",
    "    if method != 'passthrough':  # and name != 'trained_model':\n",
    "        print(f'Running {name}')\n",
    "        extended_data_AGN = method.transform(extended_data_AGN)\n",
    "extended_data_AGN_df = pd.DataFrame(extended_data_AGN, columns=extended_cols_AGN, index=extended_idx_AGN)"
   ]
  },
  {
   "cell_type": "code",
   "execution_count": 96,
   "id": "665497d5-9266-4622-b61f-5bfcf09d55b3",
   "metadata": {
    "papermill": {
     "duration": null,
     "end_time": null,
     "exception": null,
     "start_time": null,
     "status": "pending"
    },
    "tags": []
   },
   "outputs": [],
   "source": [
    "if isinstance(final_AGN_reg, sklearn.pipeline.Pipeline):\n",
    "    importances_coef = final_AGN_reg.named_steps['trained_model'].final_estimator_.feature_importances_\n",
    "else:\n",
    "    importances_coef = final_AGN_reg.final_estimator_.feature_importances_\n",
    "\n",
    "coef_meta_df = pd.DataFrame({'Feature': extended_cols_AGN, 'Importance': importances_coef})\n",
    "coef_sorted_meta_df = (\n",
    "    coef_meta_df.sort_values(by='Importance', ascending=False)\n",
    "    .head(len(extended_cols_AGN))\n",
    "    .sort_values(by='Importance', ascending=False).reset_index(drop=True)\n",
    ")"
   ]
  },
  {
   "cell_type": "code",
   "execution_count": 97,
   "id": "d674bdaf-b281-40ec-a624-be7cda0f72a9",
   "metadata": {
    "papermill": {
     "duration": null,
     "end_time": null,
     "exception": null,
     "start_time": null,
     "status": "pending"
    },
    "tags": []
   },
   "outputs": [],
   "source": [
    "if isinstance(final_AGN_reg, sklearn.pipeline.Pipeline):\n",
    "    estimators_list  = final_AGN_reg.named_steps['trained_model'].estimators\n",
    "    estimators_list_ = final_AGN_reg.named_steps['trained_model'].estimators_\n",
    "else:\n",
    "    estimators_list  = final_AGN_reg.estimators\n",
    "    estimators_list_ = final_AGN_reg.estimators_"
   ]
  },
  {
   "cell_type": "code",
   "execution_count": 98,
   "id": "54577797-b2f6-45b6-a777-293d6da0c24e",
   "metadata": {
    "papermill": {
     "duration": null,
     "end_time": null,
     "exception": null,
     "start_time": null,
     "status": "pending"
    },
    "tags": []
   },
   "outputs": [],
   "source": [
    "base_models_names = [model[0] for model in estimators_list]"
   ]
  },
  {
   "cell_type": "code",
   "execution_count": 99,
   "id": "3a5a62dd-904e-4ab7-8c49-52387c86a925",
   "metadata": {
    "papermill": {
     "duration": null,
     "end_time": null,
     "exception": null,
     "start_time": null,
     "status": "pending"
    },
    "tags": []
   },
   "outputs": [],
   "source": [
    "coef_sorted_base_df = {}"
   ]
  },
  {
   "cell_type": "code",
   "execution_count": 110,
   "id": "fda6f633-1e63-4f75-8ebb-7cf80f6c4270",
   "metadata": {
    "papermill": {
     "duration": null,
     "end_time": null,
     "exception": null,
     "start_time": null,
     "status": "pending"
    },
    "tags": []
   },
   "outputs": [],
   "source": [
    "for model, model_fit in zip(base_models_names, estimators_list_):\n",
    "    if hasattr(model_fit, 'feature_importances_'):\n",
    "        coef_base_df = pd.DataFrame({'Feature': extended_cols_AGN.drop(base_models_names),\n",
    "                                     'Importance': model_fit.feature_importances_})\n",
    "        coef_sorted_base_df[model] = (\n",
    "        coef_base_df.sort_values(by='Importance', ascending=False)\n",
    "        .head(len(extended_cols_AGN.drop(base_models_names)))\n",
    "        .sort_values(by='Importance', ascending=False).reset_index(drop=True)\n",
    ")"
   ]
  },
  {
   "cell_type": "code",
   "execution_count": 111,
   "id": "277de6e2-9ffc-447e-9309-3494e75c2549",
   "metadata": {
    "papermill": {
     "duration": null,
     "end_time": null,
     "exception": null,
     "start_time": null,
     "status": "pending"
    },
    "tags": []
   },
   "outputs": [],
   "source": [
    "multicol_feat = [(key, name) for key in coef_sorted_base_df.keys() for name in ('Feature', 'Importance')]"
   ]
  },
  {
   "cell_type": "code",
   "execution_count": 112,
   "id": "846036dc-6f7e-4d1a-b3c8-e64d7b8fa5c5",
   "metadata": {
    "papermill": {
     "duration": null,
     "end_time": null,
     "exception": null,
     "start_time": null,
     "status": "pending"
    },
    "tags": []
   },
   "outputs": [
    {
     "name": "stdout",
     "output_type": "stream",
     "text": [
      "Feature importances scaled to sum 100\n",
      "Calculating for catboost...\n",
      "Calculating for lightgbm...\n"
     ]
    },
    {
     "data": {
      "text/html": [
       "<div>\n",
       "<style scoped>\n",
       "    .dataframe tbody tr th:only-of-type {\n",
       "        vertical-align: middle;\n",
       "    }\n",
       "\n",
       "    .dataframe tbody tr th {\n",
       "        vertical-align: top;\n",
       "    }\n",
       "\n",
       "    .dataframe thead tr th {\n",
       "        text-align: left;\n",
       "    }\n",
       "</style>\n",
       "<table border=\"1\" class=\"dataframe\">\n",
       "  <thead>\n",
       "    <tr>\n",
       "      <th></th>\n",
       "      <th colspan=\"2\" halign=\"left\">catboost</th>\n",
       "      <th colspan=\"2\" halign=\"left\">lightgbm</th>\n",
       "    </tr>\n",
       "    <tr>\n",
       "      <th></th>\n",
       "      <th>Feature</th>\n",
       "      <th>Importance</th>\n",
       "      <th>Feature</th>\n",
       "      <th>Importance</th>\n",
       "    </tr>\n",
       "  </thead>\n",
       "  <tbody>\n",
       "    <tr>\n",
       "      <th>0</th>\n",
       "      <td>w1_w2</td>\n",
       "      <td>32.986107</td>\n",
       "      <td>z/W1</td>\n",
       "      <td>19.866667</td>\n",
       "    </tr>\n",
       "    <tr>\n",
       "      <th>1</th>\n",
       "      <td>z/W1</td>\n",
       "      <td>19.720854</td>\n",
       "      <td>w1_w2</td>\n",
       "      <td>18.433333</td>\n",
       "    </tr>\n",
       "    <tr>\n",
       "      <th>2</th>\n",
       "      <td>r/z</td>\n",
       "      <td>13.019848</td>\n",
       "      <td>r/z</td>\n",
       "      <td>10.166667</td>\n",
       "    </tr>\n",
       "    <tr>\n",
       "      <th>3</th>\n",
       "      <td>g_i</td>\n",
       "      <td>11.053946</td>\n",
       "      <td>band_num</td>\n",
       "      <td>10.033333</td>\n",
       "    </tr>\n",
       "    <tr>\n",
       "      <th>4</th>\n",
       "      <td>g_r</td>\n",
       "      <td>7.241155</td>\n",
       "      <td>g_r</td>\n",
       "      <td>8.500000</td>\n",
       "    </tr>\n",
       "    <tr>\n",
       "      <th>5</th>\n",
       "      <td>i_z</td>\n",
       "      <td>4.191453</td>\n",
       "      <td>z_y</td>\n",
       "      <td>7.900000</td>\n",
       "    </tr>\n",
       "    <tr>\n",
       "      <th>6</th>\n",
       "      <td>band_num</td>\n",
       "      <td>3.705945</td>\n",
       "      <td>g_i</td>\n",
       "      <td>7.700000</td>\n",
       "    </tr>\n",
       "    <tr>\n",
       "      <th>7</th>\n",
       "      <td>z_y</td>\n",
       "      <td>3.547390</td>\n",
       "      <td>i_z</td>\n",
       "      <td>6.633333</td>\n",
       "    </tr>\n",
       "    <tr>\n",
       "      <th>8</th>\n",
       "      <td>H_K</td>\n",
       "      <td>2.046282</td>\n",
       "      <td>r_i</td>\n",
       "      <td>4.766667</td>\n",
       "    </tr>\n",
       "    <tr>\n",
       "      <th>9</th>\n",
       "      <td>r_i</td>\n",
       "      <td>1.271951</td>\n",
       "      <td>H_K</td>\n",
       "      <td>2.666667</td>\n",
       "    </tr>\n",
       "    <tr>\n",
       "      <th>10</th>\n",
       "      <td>w3_w4</td>\n",
       "      <td>0.743540</td>\n",
       "      <td>w3_w4</td>\n",
       "      <td>2.366667</td>\n",
       "    </tr>\n",
       "    <tr>\n",
       "      <th>11</th>\n",
       "      <td>NUVmag</td>\n",
       "      <td>0.471529</td>\n",
       "      <td>NUVmag</td>\n",
       "      <td>0.966667</td>\n",
       "    </tr>\n",
       "  </tbody>\n",
       "</table>\n",
       "</div>"
      ],
      "text/plain": [
       "    catboost             lightgbm           \n",
       "     Feature Importance   Feature Importance\n",
       "0      w1_w2  32.986107      z/W1  19.866667\n",
       "1       z/W1  19.720854     w1_w2  18.433333\n",
       "2        r/z  13.019848       r/z  10.166667\n",
       "3        g_i  11.053946  band_num  10.033333\n",
       "4        g_r   7.241155       g_r   8.500000\n",
       "5        i_z   4.191453       z_y   7.900000\n",
       "6   band_num   3.705945       g_i   7.700000\n",
       "7        z_y   3.547390       i_z   6.633333\n",
       "8        H_K   2.046282       r_i   4.766667\n",
       "9        r_i   1.271951       H_K   2.666667\n",
       "10     w3_w4   0.743540     w3_w4   2.366667\n",
       "11    NUVmag   0.471529    NUVmag   0.966667"
      ]
     },
     "metadata": {},
     "output_type": "display_data"
    }
   ],
   "source": [
    "print('Feature importances scaled to sum 100')\n",
    "coef_sorted_base_df_copy_sum = coef_sorted_base_df.copy()\n",
    "for key in coef_sorted_base_df_copy_sum.keys():\n",
    "    print(f'Calculating for {key}...')\n",
    "    coef_sorted_base_df_copy_sum[key].loc[:, 'Importance'] = coef_sorted_base_df[key].loc[:, 'Importance'] /\\\n",
    "                                                        coef_sorted_base_df[key].loc[:, 'Importance'].sum() * 100\n",
    "    # display(coef_sorted_base_df_copy_sum[key])\n",
    "coef_sorted_base_full_df = pd.concat([coef_sorted_base_df_copy_sum[key].reset_index(drop=True) for key in coef_sorted_base_df_copy_sum.keys()], axis=1)\n",
    "coef_sorted_base_full_df.columns = pd.MultiIndex.from_tuples(multicol_feat)\n",
    "display(coef_sorted_base_full_df)"
   ]
  },
  {
   "cell_type": "code",
   "execution_count": 113,
   "id": "747c86f0-ee5b-4606-bfed-8eb72406eb4e",
   "metadata": {
    "papermill": {
     "duration": null,
     "end_time": null,
     "exception": null,
     "start_time": null,
     "status": "pending"
    },
    "tags": []
   },
   "outputs": [
    {
     "name": "stdout",
     "output_type": "stream",
     "text": [
      "Feature importances scaled to sum 100\n",
      "Meta model\n"
     ]
    },
    {
     "data": {
      "text/html": [
       "<div>\n",
       "<style scoped>\n",
       "    .dataframe tbody tr th:only-of-type {\n",
       "        vertical-align: middle;\n",
       "    }\n",
       "\n",
       "    .dataframe tbody tr th {\n",
       "        vertical-align: top;\n",
       "    }\n",
       "\n",
       "    .dataframe thead th {\n",
       "        text-align: right;\n",
       "    }\n",
       "</style>\n",
       "<table border=\"1\" class=\"dataframe\">\n",
       "  <thead>\n",
       "    <tr style=\"text-align: right;\">\n",
       "      <th></th>\n",
       "      <th>Feature</th>\n",
       "      <th>Importance</th>\n",
       "    </tr>\n",
       "  </thead>\n",
       "  <tbody>\n",
       "    <tr>\n",
       "      <th>0</th>\n",
       "      <td>ridge</td>\n",
       "      <td>52.404701</td>\n",
       "    </tr>\n",
       "    <tr>\n",
       "      <th>1</th>\n",
       "      <td>lr</td>\n",
       "      <td>23.283199</td>\n",
       "    </tr>\n",
       "    <tr>\n",
       "      <th>2</th>\n",
       "      <td>catboost</td>\n",
       "      <td>8.319914</td>\n",
       "    </tr>\n",
       "    <tr>\n",
       "      <th>3</th>\n",
       "      <td>lightgbm</td>\n",
       "      <td>2.199219</td>\n",
       "    </tr>\n",
       "    <tr>\n",
       "      <th>4</th>\n",
       "      <td>H_K</td>\n",
       "      <td>1.809855</td>\n",
       "    </tr>\n",
       "    <tr>\n",
       "      <th>5</th>\n",
       "      <td>w3_w4</td>\n",
       "      <td>1.720487</td>\n",
       "    </tr>\n",
       "    <tr>\n",
       "      <th>6</th>\n",
       "      <td>w1_w2</td>\n",
       "      <td>1.648594</td>\n",
       "    </tr>\n",
       "    <tr>\n",
       "      <th>7</th>\n",
       "      <td>band_num</td>\n",
       "      <td>1.496701</td>\n",
       "    </tr>\n",
       "    <tr>\n",
       "      <th>8</th>\n",
       "      <td>z/W1</td>\n",
       "      <td>1.220994</td>\n",
       "    </tr>\n",
       "    <tr>\n",
       "      <th>9</th>\n",
       "      <td>g_i</td>\n",
       "      <td>0.972524</td>\n",
       "    </tr>\n",
       "    <tr>\n",
       "      <th>10</th>\n",
       "      <td>z_y</td>\n",
       "      <td>0.931860</td>\n",
       "    </tr>\n",
       "    <tr>\n",
       "      <th>11</th>\n",
       "      <td>NUVmag</td>\n",
       "      <td>0.922344</td>\n",
       "    </tr>\n",
       "    <tr>\n",
       "      <th>12</th>\n",
       "      <td>r/z</td>\n",
       "      <td>0.847984</td>\n",
       "    </tr>\n",
       "    <tr>\n",
       "      <th>13</th>\n",
       "      <td>i_z</td>\n",
       "      <td>0.804666</td>\n",
       "    </tr>\n",
       "    <tr>\n",
       "      <th>14</th>\n",
       "      <td>r_i</td>\n",
       "      <td>0.715386</td>\n",
       "    </tr>\n",
       "    <tr>\n",
       "      <th>15</th>\n",
       "      <td>g_r</td>\n",
       "      <td>0.701571</td>\n",
       "    </tr>\n",
       "  </tbody>\n",
       "</table>\n",
       "</div>"
      ],
      "text/plain": [
       "     Feature  Importance\n",
       "0      ridge   52.404701\n",
       "1         lr   23.283199\n",
       "2   catboost    8.319914\n",
       "3   lightgbm    2.199219\n",
       "4        H_K    1.809855\n",
       "5      w3_w4    1.720487\n",
       "6      w1_w2    1.648594\n",
       "7   band_num    1.496701\n",
       "8       z/W1    1.220994\n",
       "9        g_i    0.972524\n",
       "10       z_y    0.931860\n",
       "11    NUVmag    0.922344\n",
       "12       r/z    0.847984\n",
       "13       i_z    0.804666\n",
       "14       r_i    0.715386\n",
       "15       g_r    0.701571"
      ]
     },
     "metadata": {},
     "output_type": "display_data"
    }
   ],
   "source": [
    "print('Feature importances scaled to sum 100')\n",
    "coef_sorted_meta_df_copy_sum = coef_sorted_meta_df.copy()\n",
    "coef_sorted_meta_df_copy_sum.loc[:, 'Importance'] = coef_sorted_meta_df.loc[:, 'Importance'] /\\\n",
    "                                                     coef_sorted_meta_df.loc[:, 'Importance'].sum() * 100\n",
    "print('Meta model')\n",
    "display(coef_sorted_meta_df_copy_sum)"
   ]
  },
  {
   "cell_type": "code",
   "execution_count": 114,
   "id": "1debd290-f559-4df7-9030-414294791d1d",
   "metadata": {
    "papermill": {
     "duration": null,
     "end_time": null,
     "exception": null,
     "start_time": null,
     "status": "pending"
    },
    "tags": []
   },
   "outputs": [
    {
     "name": "stdout",
     "output_type": "stream",
     "text": [
      "Feature importances scaled to sum 100\n",
      "Running dtypes\n",
      "Running imputer\n",
      "Running new_levels1\n",
      "Running new_levels\n",
      "Running feature_time\n",
      "Running scaling\n",
      "Running P_transform\n",
      "Running dummy\n",
      "Running fix_perfect\n",
      "Running clean_names\n",
      "--------------------\n",
      "top features:\n",
      "Feature\tImportance\n",
      "z/W1\t19.862\n",
      "w1_w2\t18.903\n",
      "r/z\t10.259\n",
      "band_num\t9.829\n",
      "g_r\t8.459\n",
      "g_i\t7.808\n",
      "z_y\t7.760\n",
      "i_z\t6.555\n",
      "r_i\t4.654\n",
      "H_K\t2.647\n",
      "w3_w4\t2.314\n",
      "NUVmag\t0.951\n"
     ]
    },
    {
     "data": {
      "image/png": "[encoded data removed]",
      "text/plain": [
       "<Figure size 700x1000 with 1 Axes>"
      ]
     },
     "metadata": {},
     "output_type": "display_data"
    }
   ],
   "source": [
    "print('Feature importances scaled to sum 100')\n",
    "try:\n",
    "    fig         = plt.figure(figsize=(7,10))\n",
    "    ax1         = fig.add_subplot(111)\n",
    "    n_top       = len(validation_df.columns)\n",
    "    features_df = get_feature_importances_df(final_AGN_reg, validation_df, n=n_top)\n",
    "    features    = features_df.loc[:, 'Feature'].to_list()\n",
    "    importances = features_df.loc[:, 'Importance'].to_list()\n",
    "    import_scal = importances / np.nansum(importances)\n",
    "    import_scal_colors = (importances - np.nanmin(importances)) / (np.nanmax(importances) - np.nanmin(importances))\n",
    "    # indices     = np.argsort(importances)[-n_top:] #only show most important features\n",
    "    # indices     = np.argsort(importances)\n",
    "    # ax1.set_title(f'{model_name} Feature Importances', size=14)\n",
    "    ax1.set_title('Feature Importances', size=14)\n",
    "    ax1.barh(range(len(importances)), import_scal * 100,\\\n",
    "             color=plt.get_cmap('bone', len(importances))(import_scal_colors), align='center', ec='k', lw=1.5)\n",
    "    # plt.yticks(range(len(importances)), [features[i] for i in importances])\n",
    "    plt.yticks(range(len(importances)), features)\n",
    "    ax1.set_xlabel('Relative Importance', size=14)\n",
    "    ax1.set_ylabel('Features', size=14)\n",
    "    ax1.tick_params(axis='both', which='major', labelsize=14)\n",
    "    ax1.tick_params(axis='y', which='major', rotation=30)\n",
    "    plt.setp(ax1.spines.values(), linewidth=2.5)\n",
    "    ax1.tick_params(which='both',top=True, right=False, direction='in')\n",
    "    # ax1.set_xscale('log')\n",
    "    # plt.show()\n",
    "    plt.tight_layout()\n",
    "    if save_plot_flag:\n",
    "        plt.savefig('plots/feat_imp_classification_AGN_galaxy_03.pdf', bbox_inches='tight')\n",
    "\n",
    "    print('-' * 20)\n",
    "    print('top features:')\n",
    "    print('Feature\\tImportance')\n",
    "    for feat, imp in zip(reversed(features), reversed(import_scal  * 100)):\n",
    "        print(f'{feat}\\t{round(imp, 3):>.3f}')\n",
    "\n",
    "except:\n",
    "    print('learning algorithm does not provide feature importance.')"
   ]
  },
  {
   "cell_type": "code",
   "execution_count": 115,
   "id": "264cefdc-44c9-4054-b0d1-ca2c111705bd",
   "metadata": {
    "papermill": {
     "duration": null,
     "end_time": null,
     "exception": null,
     "start_time": null,
     "status": "pending"
    },
    "tags": []
   },
   "outputs": [],
   "source": [
    "AGN_pred_threshold = 0.5\n",
    "# AGN_pred_threshold = 0.49999523  # from MCC optimisation - From S82 data"
   ]
  },
  {
   "cell_type": "code",
   "execution_count": 117,
   "id": "0084a2ce-a762-4597-9539-e559fbe8dcbb",
   "metadata": {
    "papermill": {
     "duration": null,
     "end_time": null,
     "exception": null,
     "start_time": null,
     "status": "pending"
    },
    "tags": []
   },
   "outputs": [
    {
     "data": {
      "text/html": [
       "<style type=\"text/css\">\n",
       "</style>\n",
       "<table id=\"T_c53f7\">\n",
       "  <thead>\n",
       "    <tr>\n",
       "      <th class=\"blank level0\" >&nbsp;</th>\n",
       "      <th id=\"T_c53f7_level0_col0\" class=\"col_heading level0 col0\" >Model</th>\n",
       "      <th id=\"T_c53f7_level0_col1\" class=\"col_heading level0 col1\" >MAE</th>\n",
       "      <th id=\"T_c53f7_level0_col2\" class=\"col_heading level0 col2\" >MSE</th>\n",
       "      <th id=\"T_c53f7_level0_col3\" class=\"col_heading level0 col3\" >RMSE</th>\n",
       "      <th id=\"T_c53f7_level0_col4\" class=\"col_heading level0 col4\" >R2</th>\n",
       "      <th id=\"T_c53f7_level0_col5\" class=\"col_heading level0 col5\" >RMSLE</th>\n",
       "      <th id=\"T_c53f7_level0_col6\" class=\"col_heading level0 col6\" >MAPE</th>\n",
       "      <th id=\"T_c53f7_level0_col7\" class=\"col_heading level0 col7\" >MAD</th>\n",
       "    </tr>\n",
       "  </thead>\n",
       "  <tbody>\n",
       "    <tr>\n",
       "      <th id=\"T_c53f7_level0_row0\" class=\"row_heading level0 row0\" >0</th>\n",
       "      <td id=\"T_c53f7_row0_col0\" class=\"data row0 col0\" >Stacking Regressor</td>\n",
       "      <td id=\"T_c53f7_row0_col1\" class=\"data row0 col1\" >0.0222</td>\n",
       "      <td id=\"T_c53f7_row0_col2\" class=\"data row0 col2\" >0.0028</td>\n",
       "      <td id=\"T_c53f7_row0_col3\" class=\"data row0 col3\" >0.0530</td>\n",
       "      <td id=\"T_c53f7_row0_col4\" class=\"data row0 col4\" >0.9414</td>\n",
       "      <td id=\"T_c53f7_row0_col5\" class=\"data row0 col5\" >0.0382</td>\n",
       "      <td id=\"T_c53f7_row0_col6\" class=\"data row0 col6\" >0.2154</td>\n",
       "      <td id=\"T_c53f7_row0_col7\" class=\"data row0 col7\" >0.0029</td>\n",
       "    </tr>\n",
       "  </tbody>\n",
       "</table>\n"
      ],
      "text/plain": [
       "<pandas.io.formats.style.Styler at 0x7f38b3ec4c10>"
      ]
     },
     "metadata": {},
     "output_type": "display_data"
    }
   ],
   "source": [
    "validation_prediction_reg = pyr.predict_model(final_AGN_reg, data=validation_df)"
   ]
  },
  {
   "cell_type": "markdown",
   "id": "6ad04694-6e67-4347-971d-3014d4a813b4",
   "metadata": {
    "papermill": {
     "duration": null,
     "end_time": null,
     "exception": null,
     "start_time": null,
     "status": "pending"
    },
    "tags": []
   },
   "source": [
    "Create confusion matrix with validation data."
   ]
  },
  {
   "cell_type": "code",
   "execution_count": 90,
   "id": "fe9822c0-1064-4575-bc40-84f6e4c9dc9e",
   "metadata": {
    "jupyter": {
     "source_hidden": true
    },
    "papermill": {
     "duration": null,
     "end_time": null,
     "exception": null,
     "start_time": null,
     "status": "pending"
    },
    "tags": []
   },
   "outputs": [],
   "source": [
    "cm_mat_val = np.array([[np.sum(np.array(validation_prediction_clf['class'] == 0) & np.array(validation_prediction_clf['Label'] == 0)),\\\n",
    "          np.sum(np.array(validation_prediction_clf['class'] == 0) & np.array(validation_prediction_clf['Label'] ==1))],\\\n",
    "        [np.sum(np.array(validation_prediction_clf['class'] == 1) & np.array(validation_prediction_clf['Label'] == 0)),\\\n",
    "          np.sum(np.array(validation_prediction_clf['class'] == 1) & np.array(validation_prediction_clf['Label'] ==1))]])"
   ]
  },
  {
   "cell_type": "code",
   "execution_count": 91,
   "id": "e324a125-a366-43bc-9854-f946458a510e",
   "metadata": {
    "jupyter": {
     "source_hidden": true
    },
    "papermill": {
     "duration": null,
     "end_time": null,
     "exception": null,
     "start_time": null,
     "status": "pending"
    },
    "tags": []
   },
   "outputs": [
    {
     "data": {
      "image/png": "[encoded data removed]",
      "text/plain": [
       "<Figure size 600x500 with 1 Axes>"
      ]
     },
     "metadata": {},
     "output_type": "display_data"
    }
   ],
   "source": [
    "from sklearn.metrics import ConfusionMatrixDisplay\n",
    "\n",
    "fig             = plt.figure(figsize=(6,5))\n",
    "ax1             = fig.add_subplot(111)\n",
    "disp = ConfusionMatrixDisplay(confusion_matrix=cm_mat_val,\n",
    "                              display_labels=['Galaxy', 'AGN'])\n",
    "norm = ImageNormalize(stretch=LogStretch())\n",
    "\n",
    "# NOTE: Fill all variables here with default values of the plot_confusion_matrix\n",
    "disp_b = disp.plot(include_values=True,\n",
    "                 cmap=cm.get_cmap('cet_dimgray_r'), ax=ax1, xticks_rotation='horizontal')\n",
    "\n",
    "for text_val in disp_b.text_.flatten():\n",
    "    text_val.set_fontsize(30)\n",
    "clb = plt.gca().images[-1].colorbar\n",
    "clb.ax.tick_params(labelsize=14)\n",
    "clb.ax.ticklabel_format(style='sci', scilimits=(0, 0))\n",
    "clb.outline.set_linewidth(2.5)\n",
    "clb.ax.set_ylabel('Sources in bin', size=14, path_effects=pe2)\n",
    "clb.remove()\n",
    "\n",
    "disp_b.im_.norm = norm\n",
    "\n",
    "ax1.xaxis.get_label().set_fontsize(16)\n",
    "ax1.yaxis.get_label().set_fontsize(16)\n",
    "\n",
    "ax1.tick_params(axis='both', which='major', labelsize=14)\n",
    "\n",
    "plt.setp(ax1.spines.values(), linewidth=2.5)\n",
    "plt.setp(ax1.spines.values(), linewidth=2.5)\n",
    "plt.tight_layout()\n",
    "if save_plot_flag:\n",
    "    plt.savefig('plots/conf_matrix_validation_classification_AGN_galaxy_02.pdf', bbox_inches='tight')\n",
    "plt.show()"
   ]
  },
  {
   "cell_type": "code",
   "execution_count": 92,
   "id": "59934f6a-cc5a-43bf-9a9f-45a4a9a5c1e4",
   "metadata": {
    "id": "36c0a111-8876-48fd-aa3c-7e900fdeaef6",
    "jupyter": {
     "source_hidden": true
    },
    "papermill": {
     "duration": null,
     "end_time": null,
     "exception": null,
     "start_time": null,
     "status": "pending"
    },
    "tags": []
   },
   "outputs": [],
   "source": [
    "TN_AGN, FP_AGN, FN_AGN, TP_AGN = cm_mat_val.flatten().astype('float32')"
   ]
  },
  {
   "cell_type": "code",
   "execution_count": 93,
   "id": "8962c002-3cf8-4574-9bbc-68f1a4e1c874",
   "metadata": {
    "id": "dc1ed42b-d2cf-4c2f-9d30-c6adcf919310",
    "jupyter": {
     "source_hidden": true
    },
    "papermill": {
     "duration": null,
     "end_time": null,
     "exception": null,
     "start_time": null,
     "status": "pending"
    },
    "tags": []
   },
   "outputs": [],
   "source": [
    "MCC_AGN_val = ((TP_AGN * TN_AGN) - (FP_AGN * FN_AGN)) /\\\n",
    "            np.sqrt((TP_AGN + FP_AGN) * (TP_AGN + FN_AGN) * (TN_AGN + FP_AGN) * (TN_AGN + FN_AGN))\n",
    "\n",
    "ACC_AGN_val = (TP_AGN + TN_AGN) / (TP_AGN + TN_AGN + FP_AGN + FN_AGN)\n",
    "\n",
    "F1_AGN_val  = 2 * TP_AGN / (2 * TP_AGN + FP_AGN + FN_AGN)\n",
    "\n",
    "Recall_AGN_val = TP_AGN / (TP_AGN + FN_AGN)"
   ]
  },
  {
   "cell_type": "code",
   "execution_count": 94,
   "id": "f60957c9-a17e-45b7-a56f-f89555e8a51c",
   "metadata": {
    "id": "b1410aa3-a97f-410f-9d1b-c374b7143d2d",
    "jupyter": {
     "source_hidden": true
    },
    "outputId": "fc50cee5-60c6-40cd-f7d7-66252e9219ac",
    "papermill": {
     "duration": null,
     "end_time": null,
     "exception": null,
     "start_time": null,
     "status": "pending"
    },
    "tags": []
   },
   "outputs": [
    {
     "name": "stdout",
     "output_type": "stream",
     "text": [
      "Metrics for Validation set.\n",
      "Matthews Correlation Coefficient is MCC = 0.9556\n",
      "Accuracy is ACC = 0.9909\n",
      "F1-score is F1 = 0.9608\n",
      "Recall is TPR = 0.9560\n"
     ]
    }
   ],
   "source": [
    "print('Metrics for Validation set.')\n",
    "print(f'Matthews Correlation Coefficient is MCC = {MCC_AGN_val:.4f}')\n",
    "print(f'Accuracy is ACC = {ACC_AGN_val:.4f}')\n",
    "print(f'F1-score is F1 = {F1_AGN_val:.4f}')\n",
    "print(f'Recall is TPR = {Recall_AGN_val:.4f}')"
   ]
  },
  {
   "cell_type": "markdown",
   "id": "c0479140-74f5-4afa-947a-a9f262e271e7",
   "metadata": {},
   "source": [
    "Create confusion matrix for original (v01) validation set."
   ]
  },
  {
   "cell_type": "code",
   "execution_count": 112,
   "id": "b4de88fb-d06f-4e1b-889f-dac70dd7c22e",
   "metadata": {
    "tags": []
   },
   "outputs": [],
   "source": [
    "orig_validation_prediction_reg = validation_prediction_reg.loc[old_validation_idx]"
   ]
  },
  {
   "cell_type": "code",
   "execution_count": 113,
   "id": "206d3af1-b2c5-48c2-a1bf-7e2ba0be1f91",
   "metadata": {
    "jupyter": {
     "source_hidden": true
    },
    "papermill": {
     "duration": null,
     "end_time": null,
     "exception": null,
     "start_time": null,
     "status": "pending"
    },
    "tags": []
   },
   "outputs": [],
   "source": [
    "cm_mat_orig_val = np.array([[np.sum(np.array(orig_validation_prediction_clf['class'] == 0) & np.array(orig_validation_prediction_clf['Label'] == 0)),\\\n",
    "          np.sum(np.array(orig_validation_prediction_clf['class'] == 0) & np.array(orig_validation_prediction_clf['Label'] ==1))],\\\n",
    "        [np.sum(np.array(orig_validation_prediction_clf['class'] == 1) & np.array(orig_validation_prediction_clf['Label'] == 0)),\\\n",
    "          np.sum(np.array(orig_validation_prediction_clf['class'] == 1) & np.array(orig_validation_prediction_clf['Label'] ==1))]])"
   ]
  },
  {
   "cell_type": "code",
   "execution_count": 118,
   "id": "4a3b0037-1c3f-4331-994b-6da896d94476",
   "metadata": {
    "jupyter": {
     "source_hidden": true
    },
    "papermill": {
     "duration": null,
     "end_time": null,
     "exception": null,
     "start_time": null,
     "status": "pending"
    },
    "tags": []
   },
   "outputs": [
    {
     "data": {
      "image/png": "[encoded data removed]",
      "text/plain": [
       "<Figure size 600x500 with 1 Axes>"
      ]
     },
     "metadata": {},
     "output_type": "display_data"
    }
   ],
   "source": [
    "from sklearn.metrics import ConfusionMatrixDisplay\n",
    "\n",
    "fig             = plt.figure(figsize=(6,5))\n",
    "ax1             = fig.add_subplot(111)\n",
    "disp = ConfusionMatrixDisplay(confusion_matrix=cm_mat_orig_val,\n",
    "                              display_labels=['Galaxy', 'AGN'])\n",
    "norm = ImageNormalize(stretch=LogStretch())\n",
    "\n",
    "# NOTE: Fill all variables here with default values of the plot_confusion_matrix\n",
    "disp_b = disp.plot(include_values=True,\n",
    "                 cmap=cm.get_cmap('cet_dimgray_r'), ax=ax1, xticks_rotation='horizontal')\n",
    "\n",
    "for text_val in disp_b.text_.flatten():\n",
    "    text_val.set_fontsize(30)\n",
    "clb = plt.gca().images[-1].colorbar\n",
    "clb.ax.tick_params(labelsize=14)\n",
    "clb.ax.ticklabel_format(style='sci', scilimits=(0, 0))\n",
    "clb.outline.set_linewidth(2.5)\n",
    "clb.ax.set_ylabel('Sources in bin', size=14, path_effects=pe2)\n",
    "clb.remove()\n",
    "\n",
    "disp_b.im_.norm = norm\n",
    "\n",
    "ax1.xaxis.get_label().set_fontsize(16)\n",
    "ax1.yaxis.get_label().set_fontsize(16)\n",
    "\n",
    "ax1.tick_params(axis='both', which='major', labelsize=14)\n",
    "\n",
    "plt.setp(ax1.spines.values(), linewidth=2.5)\n",
    "plt.setp(ax1.spines.values(), linewidth=2.5)\n",
    "plt.tight_layout()\n",
    "if save_plot_flag:\n",
    "    plt.savefig('plots/conf_matrix_original_validation_classification_AGN_galaxy_02.pdf', bbox_inches='tight')\n",
    "plt.show()"
   ]
  },
  {
   "cell_type": "code",
   "execution_count": 115,
   "id": "f698a3f6-b282-4867-8ce4-8e838a7ec29f",
   "metadata": {
    "id": "36c0a111-8876-48fd-aa3c-7e900fdeaef6",
    "jupyter": {
     "source_hidden": true
    },
    "papermill": {
     "duration": null,
     "end_time": null,
     "exception": null,
     "start_time": null,
     "status": "pending"
    },
    "tags": []
   },
   "outputs": [],
   "source": [
    "TN_AGN_orig_val, FP_AGN_orig_val, FN_AGN_orig_val, TP_AGN_orig_val = cm_mat_orig_val.flatten().astype('float32')"
   ]
  },
  {
   "cell_type": "code",
   "execution_count": 116,
   "id": "ebc2de4d-e935-4214-aac0-383cbf36a304",
   "metadata": {
    "id": "dc1ed42b-d2cf-4c2f-9d30-c6adcf919310",
    "jupyter": {
     "source_hidden": true
    },
    "papermill": {
     "duration": null,
     "end_time": null,
     "exception": null,
     "start_time": null,
     "status": "pending"
    },
    "tags": []
   },
   "outputs": [],
   "source": [
    "MCC_AGN_orig_val = ((TP_AGN_orig_val * TN_AGN_orig_val) - (FP_AGN_orig_val * FN_AGN_orig_val)) /\\\n",
    "            np.sqrt((TP_AGN_orig_val + FP_AGN_orig_val) * (TP_AGN_orig_val + FN_AGN_orig_val) * (TN_AGN_orig_val + FP_AGN_orig_val) * (TN_AGN_orig_val + FN_AGN_orig_val))\n",
    "\n",
    "ACC_AGN_orig_val = (TP_AGN_orig_val + TN_AGN_orig_val) / (TP_AGN_orig_val + TN_AGN_orig_val + FP_AGN_orig_val + FN_AGN_orig_val)\n",
    "\n",
    "F1_AGN_orig_val  = 2 * TP_AGN_orig_val / (2 * TP_AGN_orig_val + FP_AGN_orig_val + FN_AGN_orig_val)\n",
    "\n",
    "Recall_AGN_orig_val = TP_AGN_orig_val / (TP_AGN_orig_val + FN_AGN_orig_val)"
   ]
  },
  {
   "cell_type": "code",
   "execution_count": 117,
   "id": "d30ca743-a931-4a93-a150-b343d60a527c",
   "metadata": {
    "id": "b1410aa3-a97f-410f-9d1b-c374b7143d2d",
    "jupyter": {
     "source_hidden": true
    },
    "outputId": "fc50cee5-60c6-40cd-f7d7-66252e9219ac",
    "papermill": {
     "duration": null,
     "end_time": null,
     "exception": null,
     "start_time": null,
     "status": "pending"
    },
    "tags": []
   },
   "outputs": [
    {
     "name": "stdout",
     "output_type": "stream",
     "text": [
      "Metrics for the original Validation set.\n",
      "Matthews Correlation Coefficient is MCC = 0.8838\n",
      "Accuracy is ACC = 0.9470\n",
      "F1-score is F1 = 0.9244\n",
      "Recall is TPR = 0.9128\n"
     ]
    }
   ],
   "source": [
    "print('Metrics for the original Validation set.')\n",
    "print(f'Matthews Correlation Coefficient is MCC = {MCC_AGN_orig_val:.4f}')\n",
    "print(f'Accuracy is ACC = {ACC_AGN_orig_val:.4f}')\n",
    "print(f'F1-score is F1 = {F1_AGN_orig_val:.4f}')\n",
    "print(f'Recall is TPR = {Recall_AGN_orig_val:.4f}')"
   ]
  },
  {
   "cell_type": "code",
   "execution_count": 95,
   "id": "671aaa2e-b6bd-401a-b4e5-0c353d6a24f1",
   "metadata": {
    "jupyter": {
     "source_hidden": true
    },
    "papermill": {
     "duration": null,
     "end_time": null,
     "exception": null,
     "start_time": null,
     "status": "pending"
    },
    "tags": []
   },
   "outputs": [],
   "source": [
    "train_size         = 0.7\n",
    "data_split_shuffle = True\n",
    "_stratify_columns = _get_columns_to_stratify_by(\n",
    "            train_test_df.drop(columns=['class']), train_test_df.loc[:, 'class'], False, 'class'\n",
    "        )\n",
    "\n",
    "X_train, X_test, y_train, y_test = train_test_split(\n",
    "                train_test_df.drop(columns=['class']),\n",
    "                train_test_df.loc[:, 'class'],\n",
    "                test_size=1 - train_size,\n",
    "                stratify=_stratify_columns,\n",
    "                random_state=seed,\n",
    "                shuffle=data_split_shuffle,\n",
    "            )\n",
    "train_data_df        = pd.concat([X_train, y_train], axis=1)\n",
    "test_data_df         = pd.concat([X_test, y_test], axis=1)"
   ]
  },
  {
   "cell_type": "code",
   "execution_count": 96,
   "id": "afeb7f2f-f613-4397-b06e-477f05055140",
   "metadata": {
    "papermill": {
     "duration": null,
     "end_time": null,
     "exception": null,
     "start_time": null,
     "status": "pending"
    },
    "tags": []
   },
   "outputs": [],
   "source": [
    "train_prediction_reg = pyr.predict_model(final_AGN_reg, data=train_data_df, probability_threshold=AGN_pred_threshold, raw_score=True)"
   ]
  },
  {
   "cell_type": "code",
   "execution_count": 97,
   "id": "03a8cdd3-196a-449b-b690-1259fa35a788",
   "metadata": {
    "papermill": {
     "duration": null,
     "end_time": null,
     "exception": null,
     "start_time": null,
     "status": "pending"
    },
    "tags": []
   },
   "outputs": [],
   "source": [
    "test_prediction_reg = pyr.predict_model(final_AGN_reg, data=test_data_df, probability_threshold=AGN_pred_threshold, raw_score=True)"
   ]
  },
  {
   "cell_type": "code",
   "execution_count": 98,
   "id": "be664454-ef64-40d9-ae88-80cca8fc7bdc",
   "metadata": {
    "jupyter": {
     "source_hidden": true
    },
    "papermill": {
     "duration": null,
     "end_time": null,
     "exception": null,
     "start_time": null,
     "status": "pending"
    },
    "tags": []
   },
   "outputs": [],
   "source": [
    "cm_mat_train = np.array([[np.sum(np.array(train_prediction_clf['class'] == 0) & np.array(train_prediction_clf['Label'] == 0)),\\\n",
    "          np.sum(np.array(train_prediction_clf['class'] == 0) & np.array(train_prediction_clf['Label'] ==1))],\\\n",
    "        [np.sum(np.array(train_prediction_clf['class'] == 1) & np.array(train_prediction_clf['Label'] == 0)),\\\n",
    "          np.sum(np.array(train_prediction_clf['class'] == 1) & np.array(train_prediction_clf['Label'] ==1))]])"
   ]
  },
  {
   "cell_type": "code",
   "execution_count": 99,
   "id": "0869dd17-7d96-42e2-a7a2-e6df1f85e407",
   "metadata": {
    "jupyter": {
     "source_hidden": true
    },
    "papermill": {
     "duration": null,
     "end_time": null,
     "exception": null,
     "start_time": null,
     "status": "pending"
    },
    "tags": []
   },
   "outputs": [],
   "source": [
    "cm_mat_test = np.array([[np.sum(np.array(test_prediction_clf['class'] == 0) & np.array(test_prediction_clf['Label'] == 0)),\\\n",
    "          np.sum(np.array(test_prediction_clf['class'] == 0) & np.array(test_prediction_clf['Label'] ==1))],\\\n",
    "        [np.sum(np.array(test_prediction_clf['class'] == 1) & np.array(test_prediction_clf['Label'] == 0)),\\\n",
    "          np.sum(np.array(test_prediction_clf['class'] == 1) & np.array(test_prediction_clf['Label'] ==1))]])"
   ]
  },
  {
   "cell_type": "code",
   "execution_count": 100,
   "id": "5980e520-8cfa-43b9-ba3b-dda7d00687b8",
   "metadata": {
    "jupyter": {
     "source_hidden": true
    },
    "papermill": {
     "duration": null,
     "end_time": null,
     "exception": null,
     "start_time": null,
     "status": "pending"
    },
    "tags": []
   },
   "outputs": [
    {
     "data": {
      "image/png": "[encoded data removed]",
      "text/plain": [
       "<Figure size 600x500 with 1 Axes>"
      ]
     },
     "metadata": {},
     "output_type": "display_data"
    }
   ],
   "source": [
    "from sklearn.metrics import ConfusionMatrixDisplay\n",
    "\n",
    "fig             = plt.figure(figsize=(6,5))\n",
    "ax1             = fig.add_subplot(111)\n",
    "disp = ConfusionMatrixDisplay(confusion_matrix=cm_mat_train,\n",
    "                              display_labels=['Galaxy', 'AGN'])\n",
    "norm = ImageNormalize(stretch=LogStretch())\n",
    "\n",
    "# NOTE: Fill all variables here with default values of the plot_confusion_matrix\n",
    "disp_b = disp.plot(include_values=True,\n",
    "                 cmap=cm.get_cmap('cet_dimgray_r'), ax=ax1, xticks_rotation='horizontal')\n",
    "\n",
    "for text_val in disp_b.text_.flatten():\n",
    "    text_val.set_fontsize(30)\n",
    "clb = plt.gca().images[-1].colorbar\n",
    "clb.ax.tick_params(labelsize=14)\n",
    "clb.ax.ticklabel_format(style='sci', scilimits=(0, 0))\n",
    "clb.outline.set_linewidth(2.5)\n",
    "clb.ax.set_ylabel('Sources in bin', size=14, path_effects=pe2)\n",
    "clb.remove()\n",
    "\n",
    "disp_b.im_.norm = norm\n",
    "\n",
    "ax1.xaxis.get_label().set_fontsize(16)\n",
    "ax1.yaxis.get_label().set_fontsize(16)\n",
    "\n",
    "ax1.tick_params(axis='both', which='major', labelsize=14)\n",
    "\n",
    "plt.setp(ax1.spines.values(), linewidth=2.5)\n",
    "plt.setp(ax1.spines.values(), linewidth=2.5)\n",
    "plt.tight_layout()\n",
    "if save_plot_flag:\n",
    "    plt.savefig('plots/conf_matrix_train_classification_AGN_galaxy_02.pdf', bbox_inches='tight')\n",
    "plt.show()"
   ]
  },
  {
   "cell_type": "code",
   "execution_count": 101,
   "id": "e136e3be-c17e-4b49-8416-d7b948a36b95",
   "metadata": {
    "jupyter": {
     "source_hidden": true
    },
    "papermill": {
     "duration": null,
     "end_time": null,
     "exception": null,
     "start_time": null,
     "status": "pending"
    },
    "tags": []
   },
   "outputs": [
    {
     "data": {
      "image/png": "[encoded data removed]",
      "text/plain": [
       "<Figure size 600x500 with 1 Axes>"
      ]
     },
     "metadata": {},
     "output_type": "display_data"
    }
   ],
   "source": [
    "from sklearn.metrics import ConfusionMatrixDisplay\n",
    "\n",
    "fig             = plt.figure(figsize=(6,5))\n",
    "ax1             = fig.add_subplot(111)\n",
    "disp = ConfusionMatrixDisplay(confusion_matrix=cm_mat_test,\n",
    "                              display_labels=['Galaxy', 'AGN'])\n",
    "norm = ImageNormalize(stretch=LogStretch())\n",
    "\n",
    "# NOTE: Fill all variables here with default values of the plot_confusion_matrix\n",
    "disp_b = disp.plot(include_values=True,\n",
    "                 cmap=cm.get_cmap('cet_dimgray_r'), ax=ax1, xticks_rotation='horizontal')\n",
    "\n",
    "for text_val in disp_b.text_.flatten():\n",
    "    text_val.set_fontsize(30)\n",
    "clb = plt.gca().images[-1].colorbar\n",
    "clb.ax.tick_params(labelsize=14)\n",
    "clb.ax.ticklabel_format(style='sci', scilimits=(0, 0))\n",
    "clb.outline.set_linewidth(2.5)\n",
    "clb.ax.set_ylabel('Sources in bin', size=14, path_effects=pe2)\n",
    "clb.remove()\n",
    "\n",
    "disp_b.im_.norm = norm\n",
    "\n",
    "ax1.xaxis.get_label().set_fontsize(16)\n",
    "ax1.yaxis.get_label().set_fontsize(16)\n",
    "\n",
    "ax1.tick_params(axis='both', which='major', labelsize=14)\n",
    "\n",
    "plt.setp(ax1.spines.values(), linewidth=2.5)\n",
    "plt.setp(ax1.spines.values(), linewidth=2.5)\n",
    "plt.tight_layout()\n",
    "if save_plot_flag:\n",
    "    plt.savefig('plots/conf_matrix_test_classification_AGN_galaxy_02.pdf', bbox_inches='tight')\n",
    "plt.show()"
   ]
  },
  {
   "cell_type": "code",
   "execution_count": 102,
   "id": "c49f0b5a-0ffc-4dd3-a622-e8085137edfa",
   "metadata": {
    "id": "36c0a111-8876-48fd-aa3c-7e900fdeaef6",
    "jupyter": {
     "source_hidden": true
    },
    "papermill": {
     "duration": null,
     "end_time": null,
     "exception": null,
     "start_time": null,
     "status": "pending"
    },
    "tags": []
   },
   "outputs": [],
   "source": [
    "TN_AGN_train, FP_AGN_train, FN_AGN_train, TP_AGN_train = cm_mat_train.flatten().astype('float32')"
   ]
  },
  {
   "cell_type": "code",
   "execution_count": 103,
   "id": "19ec10e9-6eff-4d3f-8a17-f45e467fd631",
   "metadata": {
    "id": "dc1ed42b-d2cf-4c2f-9d30-c6adcf919310",
    "jupyter": {
     "source_hidden": true
    },
    "papermill": {
     "duration": null,
     "end_time": null,
     "exception": null,
     "start_time": null,
     "status": "pending"
    },
    "tags": []
   },
   "outputs": [],
   "source": [
    "MCC_AGN_train = ((TP_AGN_train * TN_AGN_train) - (FP_AGN_train * FN_AGN_train)) /\\\n",
    "            np.sqrt((TP_AGN_train + FP_AGN_train) * (TP_AGN_train + FN_AGN_train) * \n",
    "                    (TN_AGN_train + FP_AGN_train) * (TN_AGN_train + FN_AGN_train))\n",
    "\n",
    "ACC_AGN_train = (TP_AGN_train + TN_AGN_train) / (TP_AGN_train + TN_AGN_train + FP_AGN_train + FN_AGN_train)\n",
    "\n",
    "F1_AGN_train  = 2 * TP_AGN_train / (2 * TP_AGN_train + FP_AGN_train + FN_AGN_train)\n",
    "\n",
    "Recall_AGN_train = TP_AGN_train / (TP_AGN_train + FN_AGN_train)"
   ]
  },
  {
   "cell_type": "code",
   "execution_count": 104,
   "id": "df9ce198-5ec8-41d9-8f84-76089793707a",
   "metadata": {
    "id": "b1410aa3-a97f-410f-9d1b-c374b7143d2d",
    "jupyter": {
     "source_hidden": true
    },
    "outputId": "fc50cee5-60c6-40cd-f7d7-66252e9219ac",
    "papermill": {
     "duration": null,
     "end_time": null,
     "exception": null,
     "start_time": null,
     "status": "pending"
    },
    "tags": []
   },
   "outputs": [
    {
     "name": "stdout",
     "output_type": "stream",
     "text": [
      "Metrics for Training set.\n",
      "Matthews Correlation Coefficient is MCC = 0.9971\n",
      "Accuracy is ACC = 0.9995\n",
      "F1-score is F1 = 0.9973\n",
      "Recall is TPR = 0.9984\n"
     ]
    }
   ],
   "source": [
    "print('Metrics for Training set.')\n",
    "print(f'Matthews Correlation Coefficient is MCC = {MCC_AGN_train:.4f}')\n",
    "print(f'Accuracy is ACC = {ACC_AGN_train:.4f}')\n",
    "print(f'F1-score is F1 = {F1_AGN_train:.4f}')\n",
    "print(f'Recall is TPR = {Recall_AGN_train:.4f}')"
   ]
  },
  {
   "cell_type": "code",
   "execution_count": 105,
   "id": "f4ddc380-f862-4139-930a-0aa96d0311a6",
   "metadata": {
    "id": "36c0a111-8876-48fd-aa3c-7e900fdeaef6",
    "jupyter": {
     "source_hidden": true
    },
    "papermill": {
     "duration": null,
     "end_time": null,
     "exception": null,
     "start_time": null,
     "status": "pending"
    },
    "tags": []
   },
   "outputs": [],
   "source": [
    "TN_AGN_test, FP_AGN_test, FN_AGN_test, TP_AGN_test = cm_mat_test.flatten().astype('float32')"
   ]
  },
  {
   "cell_type": "code",
   "execution_count": 106,
   "id": "d7bd1d80-52a1-421c-80bf-af06ae70f773",
   "metadata": {
    "id": "dc1ed42b-d2cf-4c2f-9d30-c6adcf919310",
    "jupyter": {
     "source_hidden": true
    },
    "papermill": {
     "duration": null,
     "end_time": null,
     "exception": null,
     "start_time": null,
     "status": "pending"
    },
    "tags": []
   },
   "outputs": [],
   "source": [
    "MCC_AGN_test = ((TP_AGN_test * TN_AGN_test) - (FP_AGN_test * FN_AGN_test)) /\\\n",
    "            np.sqrt((TP_AGN_test + FP_AGN_test) * (TP_AGN_test + FN_AGN_test) * \n",
    "                    (TN_AGN_test + FP_AGN_test) * (TN_AGN_test + FN_AGN_test))\n",
    "\n",
    "ACC_AGN_test = (TP_AGN_test + TN_AGN_test) / (TP_AGN_test + TN_AGN_test + FP_AGN_test + FN_AGN_test)\n",
    "\n",
    "F1_AGN_test  = 2 * TP_AGN_test / (2 * TP_AGN_test + FP_AGN_test + FN_AGN_test)\n",
    "\n",
    "Recall_AGN_test = TP_AGN_test / (TP_AGN_test + FN_AGN_test)"
   ]
  },
  {
   "cell_type": "code",
   "execution_count": 107,
   "id": "af76987a-ef54-480e-800d-bbb44b048257",
   "metadata": {
    "id": "b1410aa3-a97f-410f-9d1b-c374b7143d2d",
    "jupyter": {
     "source_hidden": true
    },
    "outputId": "fc50cee5-60c6-40cd-f7d7-66252e9219ac",
    "papermill": {
     "duration": null,
     "end_time": null,
     "exception": null,
     "start_time": null,
     "status": "pending"
    },
    "tags": []
   },
   "outputs": [
    {
     "name": "stdout",
     "output_type": "stream",
     "text": [
      "Metrics for Test set.\n",
      "Matthews Correlation Coefficient is MCC = 0.9973\n",
      "Accuracy is ACC = 0.9996\n",
      "F1-score is F1 = 0.9975\n",
      "Recall is TPR = 0.9985\n"
     ]
    }
   ],
   "source": [
    "print('Metrics for Test set.')\n",
    "print(f'Matthews Correlation Coefficient is MCC = {MCC_AGN_test:.4f}')\n",
    "print(f'Accuracy is ACC = {ACC_AGN_test:.4f}')\n",
    "print(f'F1-score is F1 = {F1_AGN_test:.4f}')\n",
    "print(f'Recall is TPR = {Recall_AGN_test:.4f}')"
   ]
  },
  {
   "cell_type": "markdown",
   "id": "cad2c6a2-b801-4c4d-aa78-298bdded3ffb",
   "metadata": {
    "papermill": {
     "duration": null,
     "end_time": null,
     "exception": null,
     "start_time": null,
     "status": "pending"
    },
    "tags": []
   },
   "source": [
    "Calculate ROC AUC values and plots."
   ]
  },
  {
   "cell_type": "code",
   "execution_count": 108,
   "id": "b47f6aa7-8d75-4c19-908a-1e30080f6da5",
   "metadata": {
    "id": "b47f6aa7-8d75-4c19-908a-1e30080f6da5",
    "papermill": {
     "duration": null,
     "end_time": null,
     "exception": null,
     "start_time": null,
     "status": "pending"
    },
    "tags": []
   },
   "outputs": [],
   "source": [
    "roc_auc_train      = roc_auc_score(train_prediction_reg.loc[:, 'class'],      train_prediction_reg.loc[:, 'Score_1'])\n",
    "roc_auc_test       = roc_auc_score(test_prediction_reg.loc[:, 'class'],       test_prediction_reg.loc[:, 'Score_1'])\n",
    "roc_auc_validation = roc_auc_score(validation_prediction_reg.loc[:, 'class'], validation_prediction_reg.loc[:, 'Score_1'])"
   ]
  },
  {
   "cell_type": "code",
   "execution_count": 109,
   "id": "6f1fb6d8-31d5-482f-9ae4-a076e96fca10",
   "metadata": {
    "jupyter": {
     "source_hidden": true
    },
    "papermill": {
     "duration": null,
     "end_time": null,
     "exception": null,
     "start_time": null,
     "status": "pending"
    },
    "tags": []
   },
   "outputs": [
    {
     "name": "stdout",
     "output_type": "stream",
     "text": [
      "Area under the curve (ROC) for training   = 1.00000\n",
      "Area under the curve (ROC) for test       = 1.00000\n",
      "Area under the curve (ROC) for validation = 0.99636\n"
     ]
    }
   ],
   "source": [
    "print(f'Area under the curve (ROC) for training   = {roc_auc_train:.5f}')\n",
    "print(f'Area under the curve (ROC) for test       = {roc_auc_test:.5f}')\n",
    "print(f'Area under the curve (ROC) for validation = {roc_auc_validation:.5f}')"
   ]
  },
  {
   "cell_type": "code",
   "execution_count": 110,
   "id": "b3e364a8-5922-41f4-9fdc-f05d991188c0",
   "metadata": {
    "papermill": {
     "duration": null,
     "end_time": null,
     "exception": null,
     "start_time": null,
     "status": "pending"
    },
    "tags": []
   },
   "outputs": [],
   "source": [
    "fpr_train, tpr_train, thresh_train = roc_curve(train_prediction_reg.loc[:, 'class'],      train_prediction_reg.loc[:, 'Score_1'])\n",
    "fpr_test,  tpr_test,  thresh_test  = roc_curve(test_prediction_reg.loc[:, 'class'],       test_prediction_reg.loc[:, 'Score_1'])\n",
    "fpr_val,   tpr_val,   thresh_val   = roc_curve(validation_prediction_reg.loc[:, 'class'], validation_prediction_reg.loc[:, 'Score_1'])"
   ]
  },
  {
   "cell_type": "code",
   "execution_count": 111,
   "id": "4086bd62-8105-49e7-9321-9f2722c98489",
   "metadata": {
    "papermill": {
     "duration": null,
     "end_time": null,
     "exception": null,
     "start_time": null,
     "status": "pending"
    },
    "tags": []
   },
   "outputs": [
    {
     "data": {
      "image/png": "[encoded data removed]",
      "text/plain": [
       "<Figure size 700x600 with 1 Axes>"
      ]
     },
     "metadata": {},
     "output_type": "display_data"
    }
   ],
   "source": [
    "fig             = plt.figure(figsize=(7,6))\n",
    "ax1             = fig.add_subplot(111)\n",
    "\n",
    "viz_train = RocCurveDisplay(fpr=fpr_train, tpr=tpr_train, roc_auc=roc_auc_train)\n",
    "viz_test  = RocCurveDisplay(fpr=fpr_test,  tpr=tpr_test,  roc_auc=roc_auc_test)\n",
    "viz_val   = RocCurveDisplay(fpr=fpr_val,   tpr=tpr_val,   roc_auc=roc_auc_validation)\n",
    "viz_train.plot(ax=ax1, lw=3, c=cm.get_cmap('cet_dimgray')(0.0), label=f\"Training.   (AUC = {roc_auc_train:0.5f})\")\n",
    "viz_test.plot(ax=ax1,  lw=3, c=cm.get_cmap('cet_dimgray')(0.4), label=f\"Test.       (AUC = {roc_auc_test:0.5f})\")\n",
    "viz_val.plot(ax=ax1,   lw=3, c=cm.get_cmap('cet_dimgray')(0.8), label=f\"Validation. (AUC = {roc_auc_validation:0.5f})\")\n",
    "\n",
    "ax1.plot([0, 1], [0, 1], ls='--', marker=None, c='Gray', alpha=0.7, lw=3.0, label='Random guess (AUC = 0.50)')\n",
    "\n",
    "ax1.set_xlabel('False Positive Rate', fontsize=20)\n",
    "ax1.set_ylabel('True Positive Rate', fontsize=20)\n",
    "ax1.tick_params(which='both', top=True, right=True, direction='in')\n",
    "ax1.tick_params(axis='both', which='major', labelsize=14)\n",
    "ax1.tick_params(which='major', length=8, width=1.5)\n",
    "ax1.tick_params(which='minor', length=4, width=1.5)\n",
    "plt.setp(ax1.spines.values(), linewidth=2.5)\n",
    "plt.setp(ax1.spines.values(), linewidth=2.5)\n",
    "# ax1.set_aspect('equal', 'box')\n",
    "plt.legend(loc=4, fontsize=16, title='AGN/Galaxy\\nregression', title_fontsize=16)\n",
    "ax1.set_aspect('equal', 'datalim')\n",
    "ax1.set_title('ROC curve. HETDEX field.', fontsize=16)\n",
    "fig.tight_layout()\n",
    "if save_plot_flag:\n",
    "    plt.savefig('plots/AUC_ROC_regression_AGN_galaxy_03.pdf', bbox_inches='tight')\n",
    "plt.show()"
   ]
  },
  {
   "cell_type": "code",
   "execution_count": null,
   "id": "169551b8-6f55-46e6-bbea-f7438e5a2157",
   "metadata": {
    "papermill": {
     "duration": null,
     "end_time": null,
     "exception": null,
     "start_time": null,
     "status": "pending"
    },
    "tags": []
   },
   "outputs": [],
   "source": []
  }
 ],
 "metadata": {
  "accelerator": "GPU",
  "colab": {
   "name": "HETDEX_pipeline_AGN_training.ipynb",
   "provenance": []
  },
  "kernelspec": {
   "display_name": "Python 3 (ipykernel)",
   "language": "python",
   "name": "python3"
  },
  "language_info": {
   "codemirror_mode": {
    "name": "ipython",
    "version": 3
   },
   "file_extension": ".py",
   "mimetype": "text/x-python",
   "name": "python",
   "nbconvert_exporter": "python",
   "pygments_lexer": "ipython3",
   "version": "3.8.13"
  },
  "papermill": {
   "default_parameters": {},
   "duration": 23895.79797,
   "end_time": "2022-04-21T20:58:28.304645",
   "environment_variables": {},
   "exception": true,
   "input_path": "ML_02.ipynb",
   "output_path": "temp_notebooks/temp_02_output_ML.ipynb",
   "parameters": {},
   "start_time": "2022-04-21T14:20:12.506675",
   "version": "2.3.4"
  },
  "widgets": {
   "application/vnd.jupyter.widget-state+json": {
    "state": {
     "0590f19df8854e259982f6b91d240192": {
      "model_module": "@jupyter-widgets/base",
      "model_module_version": "1.2.0",
      "model_name": "LayoutModel",
      "state": {
       "_model_module": "@jupyter-widgets/base",
       "_model_module_version": "1.2.0",
       "_model_name": "LayoutModel",
       "_view_count": null,
       "_view_module": "@jupyter-widgets/base",
       "_view_module_version": "1.2.0",
       "_view_name": "LayoutView",
       "align_content": null,
       "align_items": null,
       "align_self": null,
       "border": null,
       "bottom": null,
       "display": null,
       "flex": null,
       "flex_flow": null,
       "grid_area": null,
       "grid_auto_columns": null,
       "grid_auto_flow": null,
       "grid_auto_rows": null,
       "grid_column": null,
       "grid_gap": null,
       "grid_row": null,
       "grid_template_areas": null,
       "grid_template_columns": null,
       "grid_template_rows": null,
       "height": null,
       "justify_content": null,
       "justify_items": null,
       "left": null,
       "margin": null,
       "max_height": null,
       "max_width": null,
       "min_height": null,
       "min_width": null,
       "object_fit": null,
       "object_position": null,
       "order": null,
       "overflow": null,
       "overflow_x": null,
       "overflow_y": null,
       "padding": null,
       "right": null,
       "top": null,
       "visibility": null,
       "width": null
      }
     },
     "07e73d8ed15f40fdbe9c59e7217e29c9": {
      "model_module": "@jupyter-widgets/controls",
      "model_module_version": "1.5.0",
      "model_name": "ProgressStyleModel",
      "state": {
       "_model_module": "@jupyter-widgets/controls",
       "_model_module_version": "1.5.0",
       "_model_name": "ProgressStyleModel",
       "_view_count": null,
       "_view_module": "@jupyter-widgets/base",
       "_view_module_version": "1.2.0",
       "_view_name": "StyleView",
       "bar_color": null,
       "description_width": ""
      }
     },
     "08467a9d37c54103934bcd2ebde866cd": {
      "model_module": "@jupyter-widgets/controls",
      "model_module_version": "1.5.0",
      "model_name": "IntProgressModel",
      "state": {
       "_dom_classes": [],
       "_model_module": "@jupyter-widgets/controls",
       "_model_module_version": "1.5.0",
       "_model_name": "IntProgressModel",
       "_view_count": null,
       "_view_module": "@jupyter-widgets/controls",
       "_view_module_version": "1.5.0",
       "_view_name": "ProgressView",
       "bar_style": "",
       "description": "Processing: ",
       "description_tooltip": null,
       "layout": "IPY_MODEL_4005334f5aa64f518c5c808b79786303",
       "max": 3,
       "min": 0,
       "orientation": "horizontal",
       "style": "IPY_MODEL_6e3083857bc64062b0c5ba0d4d918619",
       "value": 3
      }
     },
     "0aabf0e12b374ae49e1bb1f82e7694c2": {
      "model_module": "@jupyter-widgets/controls",
      "model_module_version": "1.5.0",
      "model_name": "ProgressStyleModel",
      "state": {
       "_model_module": "@jupyter-widgets/controls",
       "_model_module_version": "1.5.0",
       "_model_name": "ProgressStyleModel",
       "_view_count": null,
       "_view_module": "@jupyter-widgets/base",
       "_view_module_version": "1.2.0",
       "_view_name": "StyleView",
       "bar_color": null,
       "description_width": ""
      }
     },
     "136fac6ae9664058a7748d1e93c3ba1b": {
      "model_module": "@jupyter-widgets/controls",
      "model_module_version": "1.5.0",
      "model_name": "IntProgressModel",
      "state": {
       "_dom_classes": [],
       "_model_module": "@jupyter-widgets/controls",
       "_model_module_version": "1.5.0",
       "_model_name": "IntProgressModel",
       "_view_count": null,
       "_view_module": "@jupyter-widgets/controls",
       "_view_module_version": "1.5.0",
       "_view_name": "ProgressView",
       "bar_style": "",
       "description": "Processing: ",
       "description_tooltip": null,
       "layout": "IPY_MODEL_16fe283757d34b92a54a4ee1afc553bc",
       "max": 5,
       "min": 0,
       "orientation": "horizontal",
       "style": "IPY_MODEL_44fdc5f65d3e4714b82c54aadd43e320",
       "value": 5
      }
     },
     "16fe283757d34b92a54a4ee1afc553bc": {
      "model_module": "@jupyter-widgets/base",
      "model_module_version": "1.2.0",
      "model_name": "LayoutModel",
      "state": {
       "_model_module": "@jupyter-widgets/base",
       "_model_module_version": "1.2.0",
       "_model_name": "LayoutModel",
       "_view_count": null,
       "_view_module": "@jupyter-widgets/base",
       "_view_module_version": "1.2.0",
       "_view_name": "LayoutView",
       "align_content": null,
       "align_items": null,
       "align_self": null,
       "border": null,
       "bottom": null,
       "display": null,
       "flex": null,
       "flex_flow": null,
       "grid_area": null,
       "grid_auto_columns": null,
       "grid_auto_flow": null,
       "grid_auto_rows": null,
       "grid_column": null,
       "grid_gap": null,
       "grid_row": null,
       "grid_template_areas": null,
       "grid_template_columns": null,
       "grid_template_rows": null,
       "height": null,
       "justify_content": null,
       "justify_items": null,
       "left": null,
       "margin": null,
       "max_height": null,
       "max_width": null,
       "min_height": null,
       "min_width": null,
       "object_fit": null,
       "object_position": null,
       "order": null,
       "overflow": null,
       "overflow_x": null,
       "overflow_y": null,
       "padding": null,
       "right": null,
       "top": null,
       "visibility": null,
       "width": null
      }
     },
     "22841c6261014900b29547b2d4c918ba": {
      "model_module": "@jupyter-widgets/controls",
      "model_module_version": "1.5.0",
      "model_name": "ProgressStyleModel",
      "state": {
       "_model_module": "@jupyter-widgets/controls",
       "_model_module_version": "1.5.0",
       "_model_name": "ProgressStyleModel",
       "_view_count": null,
       "_view_module": "@jupyter-widgets/base",
       "_view_module_version": "1.2.0",
       "_view_name": "StyleView",
       "bar_color": null,
       "description_width": ""
      }
     },
     "4005334f5aa64f518c5c808b79786303": {
      "model_module": "@jupyter-widgets/base",
      "model_module_version": "1.2.0",
      "model_name": "LayoutModel",
      "state": {
       "_model_module": "@jupyter-widgets/base",
       "_model_module_version": "1.2.0",
       "_model_name": "LayoutModel",
       "_view_count": null,
       "_view_module": "@jupyter-widgets/base",
       "_view_module_version": "1.2.0",
       "_view_name": "LayoutView",
       "align_content": null,
       "align_items": null,
       "align_self": null,
       "border": null,
       "bottom": null,
       "display": null,
       "flex": null,
       "flex_flow": null,
       "grid_area": null,
       "grid_auto_columns": null,
       "grid_auto_flow": null,
       "grid_auto_rows": null,
       "grid_column": null,
       "grid_gap": null,
       "grid_row": null,
       "grid_template_areas": null,
       "grid_template_columns": null,
       "grid_template_rows": null,
       "height": null,
       "justify_content": null,
       "justify_items": null,
       "left": null,
       "margin": null,
       "max_height": null,
       "max_width": null,
       "min_height": null,
       "min_width": null,
       "object_fit": null,
       "object_position": null,
       "order": null,
       "overflow": null,
       "overflow_x": null,
       "overflow_y": null,
       "padding": null,
       "right": null,
       "top": null,
       "visibility": null,
       "width": null
      }
     },
     "40aed039372f4894864de24fbb6ca54b": {
      "model_module": "@jupyter-widgets/controls",
      "model_module_version": "1.5.0",
      "model_name": "IntProgressModel",
      "state": {
       "_dom_classes": [],
       "_model_module": "@jupyter-widgets/controls",
       "_model_module_version": "1.5.0",
       "_model_name": "IntProgressModel",
       "_view_count": null,
       "_view_module": "@jupyter-widgets/controls",
       "_view_module_version": "1.5.0",
       "_view_name": "ProgressView",
       "bar_style": "",
       "description": "Processing: ",
       "description_tooltip": null,
       "layout": "IPY_MODEL_f1e46bf78b9c43ccbc39450e4987365a",
       "max": 5,
       "min": 0,
       "orientation": "horizontal",
       "style": "IPY_MODEL_22841c6261014900b29547b2d4c918ba",
       "value": 3
      }
     },
     "44fdc5f65d3e4714b82c54aadd43e320": {
      "model_module": "@jupyter-widgets/controls",
      "model_module_version": "1.5.0",
      "model_name": "ProgressStyleModel",
      "state": {
       "_model_module": "@jupyter-widgets/controls",
       "_model_module_version": "1.5.0",
       "_model_name": "ProgressStyleModel",
       "_view_count": null,
       "_view_module": "@jupyter-widgets/base",
       "_view_module_version": "1.2.0",
       "_view_name": "StyleView",
       "bar_color": null,
       "description_width": ""
      }
     },
     "4bf40f8e28f4414586032f722a090d58": {
      "model_module": "@jupyter-widgets/controls",
      "model_module_version": "1.5.0",
      "model_name": "IntProgressModel",
      "state": {
       "_dom_classes": [],
       "_model_module": "@jupyter-widgets/controls",
       "_model_module_version": "1.5.0",
       "_model_name": "IntProgressModel",
       "_view_count": null,
       "_view_module": "@jupyter-widgets/controls",
       "_view_module_version": "1.5.0",
       "_view_name": "ProgressView",
       "bar_style": "",
       "description": "Processing: ",
       "description_tooltip": null,
       "layout": "IPY_MODEL_93773ec7de0647e48e3dee64b5ac2845",
       "max": 5,
       "min": 0,
       "orientation": "horizontal",
       "style": "IPY_MODEL_78c0ff397e06461ab1645c1680b2ab05",
       "value": 5
      }
     },
     "6289fe5700684b49a915ca5614d16723": {
      "model_module": "@jupyter-widgets/controls",
      "model_module_version": "1.5.0",
      "model_name": "IntProgressModel",
      "state": {
       "_dom_classes": [],
       "_model_module": "@jupyter-widgets/controls",
       "_model_module_version": "1.5.0",
       "_model_name": "IntProgressModel",
       "_view_count": null,
       "_view_module": "@jupyter-widgets/controls",
       "_view_module_version": "1.5.0",
       "_view_name": "ProgressView",
       "bar_style": "",
       "description": "Processing: ",
       "description_tooltip": null,
       "layout": "IPY_MODEL_9d4beb1951174d6e910ffa97a6035d6c",
       "max": 7,
       "min": 0,
       "orientation": "horizontal",
       "style": "IPY_MODEL_0aabf0e12b374ae49e1bb1f82e7694c2",
       "value": 7
      }
     },
     "6e3083857bc64062b0c5ba0d4d918619": {
      "model_module": "@jupyter-widgets/controls",
      "model_module_version": "1.5.0",
      "model_name": "ProgressStyleModel",
      "state": {
       "_model_module": "@jupyter-widgets/controls",
       "_model_module_version": "1.5.0",
       "_model_name": "ProgressStyleModel",
       "_view_count": null,
       "_view_module": "@jupyter-widgets/base",
       "_view_module_version": "1.2.0",
       "_view_name": "StyleView",
       "bar_color": null,
       "description_width": ""
      }
     },
     "7776c772c49b48aa8afc3ae7eb972e95": {
      "model_module": "@jupyter-widgets/base",
      "model_module_version": "1.2.0",
      "model_name": "LayoutModel",
      "state": {
       "_model_module": "@jupyter-widgets/base",
       "_model_module_version": "1.2.0",
       "_model_name": "LayoutModel",
       "_view_count": null,
       "_view_module": "@jupyter-widgets/base",
       "_view_module_version": "1.2.0",
       "_view_name": "LayoutView",
       "align_content": null,
       "align_items": null,
       "align_self": null,
       "border": null,
       "bottom": null,
       "display": null,
       "flex": null,
       "flex_flow": null,
       "grid_area": null,
       "grid_auto_columns": null,
       "grid_auto_flow": null,
       "grid_auto_rows": null,
       "grid_column": null,
       "grid_gap": null,
       "grid_row": null,
       "grid_template_areas": null,
       "grid_template_columns": null,
       "grid_template_rows": null,
       "height": null,
       "justify_content": null,
       "justify_items": null,
       "left": null,
       "margin": null,
       "max_height": null,
       "max_width": null,
       "min_height": null,
       "min_width": null,
       "object_fit": null,
       "object_position": null,
       "order": null,
       "overflow": null,
       "overflow_x": null,
       "overflow_y": null,
       "padding": null,
       "right": null,
       "top": null,
       "visibility": null,
       "width": null
      }
     },
     "78c0ff397e06461ab1645c1680b2ab05": {
      "model_module": "@jupyter-widgets/controls",
      "model_module_version": "1.5.0",
      "model_name": "ProgressStyleModel",
      "state": {
       "_model_module": "@jupyter-widgets/controls",
       "_model_module_version": "1.5.0",
       "_model_name": "ProgressStyleModel",
       "_view_count": null,
       "_view_module": "@jupyter-widgets/base",
       "_view_module_version": "1.2.0",
       "_view_name": "StyleView",
       "bar_color": null,
       "description_width": ""
      }
     },
     "80d80f699a1740c593bbab1b3761534d": {
      "model_module": "@jupyter-widgets/base",
      "model_module_version": "1.2.0",
      "model_name": "LayoutModel",
      "state": {
       "_model_module": "@jupyter-widgets/base",
       "_model_module_version": "1.2.0",
       "_model_name": "LayoutModel",
       "_view_count": null,
       "_view_module": "@jupyter-widgets/base",
       "_view_module_version": "1.2.0",
       "_view_name": "LayoutView",
       "align_content": null,
       "align_items": null,
       "align_self": null,
       "border": null,
       "bottom": null,
       "display": null,
       "flex": null,
       "flex_flow": null,
       "grid_area": null,
       "grid_auto_columns": null,
       "grid_auto_flow": null,
       "grid_auto_rows": null,
       "grid_column": null,
       "grid_gap": null,
       "grid_row": null,
       "grid_template_areas": null,
       "grid_template_columns": null,
       "grid_template_rows": null,
       "height": null,
       "justify_content": null,
       "justify_items": null,
       "left": null,
       "margin": null,
       "max_height": null,
       "max_width": null,
       "min_height": null,
       "min_width": null,
       "object_fit": null,
       "object_position": null,
       "order": null,
       "overflow": null,
       "overflow_x": null,
       "overflow_y": null,
       "padding": null,
       "right": null,
       "top": null,
       "visibility": null,
       "width": null
      }
     },
     "8e6bcb2a3d82421f9c7b8ae390e71eb3": {
      "model_module": "@jupyter-widgets/controls",
      "model_module_version": "1.5.0",
      "model_name": "ProgressStyleModel",
      "state": {
       "_model_module": "@jupyter-widgets/controls",
       "_model_module_version": "1.5.0",
       "_model_name": "ProgressStyleModel",
       "_view_count": null,
       "_view_module": "@jupyter-widgets/base",
       "_view_module_version": "1.2.0",
       "_view_name": "StyleView",
       "bar_color": null,
       "description_width": ""
      }
     },
     "93773ec7de0647e48e3dee64b5ac2845": {
      "model_module": "@jupyter-widgets/base",
      "model_module_version": "1.2.0",
      "model_name": "LayoutModel",
      "state": {
       "_model_module": "@jupyter-widgets/base",
       "_model_module_version": "1.2.0",
       "_model_name": "LayoutModel",
       "_view_count": null,
       "_view_module": "@jupyter-widgets/base",
       "_view_module_version": "1.2.0",
       "_view_name": "LayoutView",
       "align_content": null,
       "align_items": null,
       "align_self": null,
       "border": null,
       "bottom": null,
       "display": null,
       "flex": null,
       "flex_flow": null,
       "grid_area": null,
       "grid_auto_columns": null,
       "grid_auto_flow": null,
       "grid_auto_rows": null,
       "grid_column": null,
       "grid_gap": null,
       "grid_row": null,
       "grid_template_areas": null,
       "grid_template_columns": null,
       "grid_template_rows": null,
       "height": null,
       "justify_content": null,
       "justify_items": null,
       "left": null,
       "margin": null,
       "max_height": null,
       "max_width": null,
       "min_height": null,
       "min_width": null,
       "object_fit": null,
       "object_position": null,
       "order": null,
       "overflow": null,
       "overflow_x": null,
       "overflow_y": null,
       "padding": null,
       "right": null,
       "top": null,
       "visibility": null,
       "width": null
      }
     },
     "9d4beb1951174d6e910ffa97a6035d6c": {
      "model_module": "@jupyter-widgets/base",
      "model_module_version": "1.2.0",
      "model_name": "LayoutModel",
      "state": {
       "_model_module": "@jupyter-widgets/base",
       "_model_module_version": "1.2.0",
       "_model_name": "LayoutModel",
       "_view_count": null,
       "_view_module": "@jupyter-widgets/base",
       "_view_module_version": "1.2.0",
       "_view_name": "LayoutView",
       "align_content": null,
       "align_items": null,
       "align_self": null,
       "border": null,
       "bottom": null,
       "display": null,
       "flex": null,
       "flex_flow": null,
       "grid_area": null,
       "grid_auto_columns": null,
       "grid_auto_flow": null,
       "grid_auto_rows": null,
       "grid_column": null,
       "grid_gap": null,
       "grid_row": null,
       "grid_template_areas": null,
       "grid_template_columns": null,
       "grid_template_rows": null,
       "height": null,
       "justify_content": null,
       "justify_items": null,
       "left": null,
       "margin": null,
       "max_height": null,
       "max_width": null,
       "min_height": null,
       "min_width": null,
       "object_fit": null,
       "object_position": null,
       "order": null,
       "overflow": null,
       "overflow_x": null,
       "overflow_y": null,
       "padding": null,
       "right": null,
       "top": null,
       "visibility": null,
       "width": null
      }
     },
     "a167815747514cd48670fa37ae21aa0f": {
      "model_module": "@jupyter-widgets/controls",
      "model_module_version": "1.5.0",
      "model_name": "IntProgressModel",
      "state": {
       "_dom_classes": [],
       "_model_module": "@jupyter-widgets/controls",
       "_model_module_version": "1.5.0",
       "_model_name": "IntProgressModel",
       "_view_count": null,
       "_view_module": "@jupyter-widgets/controls",
       "_view_module_version": "1.5.0",
       "_view_name": "ProgressView",
       "bar_style": "",
       "description": "Processing: ",
       "description_tooltip": null,
       "layout": "IPY_MODEL_0590f19df8854e259982f6b91d240192",
       "max": 6,
       "min": 0,
       "orientation": "horizontal",
       "style": "IPY_MODEL_8e6bcb2a3d82421f9c7b8ae390e71eb3",
       "value": 6
      }
     },
     "abd66de134ec44788e2526c198baca18": {
      "model_module": "@jupyter-widgets/base",
      "model_module_version": "1.2.0",
      "model_name": "LayoutModel",
      "state": {
       "_model_module": "@jupyter-widgets/base",
       "_model_module_version": "1.2.0",
       "_model_name": "LayoutModel",
       "_view_count": null,
       "_view_module": "@jupyter-widgets/base",
       "_view_module_version": "1.2.0",
       "_view_name": "LayoutView",
       "align_content": null,
       "align_items": null,
       "align_self": null,
       "border": null,
       "bottom": null,
       "display": null,
       "flex": null,
       "flex_flow": null,
       "grid_area": null,
       "grid_auto_columns": null,
       "grid_auto_flow": null,
       "grid_auto_rows": null,
       "grid_column": null,
       "grid_gap": null,
       "grid_row": null,
       "grid_template_areas": null,
       "grid_template_columns": null,
       "grid_template_rows": null,
       "height": null,
       "justify_content": null,
       "justify_items": null,
       "left": null,
       "margin": null,
       "max_height": null,
       "max_width": null,
       "min_height": null,
       "min_width": null,
       "object_fit": null,
       "object_position": null,
       "order": null,
       "overflow": null,
       "overflow_x": null,
       "overflow_y": null,
       "padding": null,
       "right": null,
       "top": null,
       "visibility": null,
       "width": null
      }
     },
     "af26e9ecd22d4ab3b8f924c4157c0fef": {
      "model_module": "@jupyter-widgets/controls",
      "model_module_version": "1.5.0",
      "model_name": "IntProgressModel",
      "state": {
       "_dom_classes": [],
       "_model_module": "@jupyter-widgets/controls",
       "_model_module_version": "1.5.0",
       "_model_name": "IntProgressModel",
       "_view_count": null,
       "_view_module": "@jupyter-widgets/controls",
       "_view_module_version": "1.5.0",
       "_view_name": "ProgressView",
       "bar_style": "",
       "description": "Processing: ",
       "description_tooltip": null,
       "layout": "IPY_MODEL_7776c772c49b48aa8afc3ae7eb972e95",
       "max": 5,
       "min": 0,
       "orientation": "horizontal",
       "style": "IPY_MODEL_07e73d8ed15f40fdbe9c59e7217e29c9",
       "value": 5
      }
     },
     "baab460885af4a0c9cdbbd6589a4c9bc": {
      "model_module": "@jupyter-widgets/controls",
      "model_module_version": "1.5.0",
      "model_name": "IntProgressModel",
      "state": {
       "_dom_classes": [],
       "_model_module": "@jupyter-widgets/controls",
       "_model_module_version": "1.5.0",
       "_model_name": "IntProgressModel",
       "_view_count": null,
       "_view_module": "@jupyter-widgets/controls",
       "_view_module_version": "1.5.0",
       "_view_name": "ProgressView",
       "bar_style": "",
       "description": "Processing: ",
       "description_tooltip": null,
       "layout": "IPY_MODEL_abd66de134ec44788e2526c198baca18",
       "max": 34,
       "min": 0,
       "orientation": "horizontal",
       "style": "IPY_MODEL_de6f8eb51c3844da97be68e91f74e598",
       "value": 34
      }
     },
     "de6f8eb51c3844da97be68e91f74e598": {
      "model_module": "@jupyter-widgets/controls",
      "model_module_version": "1.5.0",
      "model_name": "ProgressStyleModel",
      "state": {
       "_model_module": "@jupyter-widgets/controls",
       "_model_module_version": "1.5.0",
       "_model_name": "ProgressStyleModel",
       "_view_count": null,
       "_view_module": "@jupyter-widgets/base",
       "_view_module_version": "1.2.0",
       "_view_name": "StyleView",
       "bar_color": null,
       "description_width": ""
      }
     },
     "ef0a71441f2d45ad82ffe6cae8b02bf4": {
      "model_module": "@jupyter-widgets/controls",
      "model_module_version": "1.5.0",
      "model_name": "IntProgressModel",
      "state": {
       "_dom_classes": [],
       "_model_module": "@jupyter-widgets/controls",
       "_model_module_version": "1.5.0",
       "_model_name": "IntProgressModel",
       "_view_count": null,
       "_view_module": "@jupyter-widgets/controls",
       "_view_module_version": "1.5.0",
       "_view_name": "ProgressView",
       "bar_style": "",
       "description": "Processing: ",
       "description_tooltip": null,
       "layout": "IPY_MODEL_80d80f699a1740c593bbab1b3761534d",
       "max": 5,
       "min": 0,
       "orientation": "horizontal",
       "style": "IPY_MODEL_fb46da975b1e4ec1a4c47e500b816259",
       "value": 5
      }
     },
     "f1e46bf78b9c43ccbc39450e4987365a": {
      "model_module": "@jupyter-widgets/base",
      "model_module_version": "1.2.0",
      "model_name": "LayoutModel",
      "state": {
       "_model_module": "@jupyter-widgets/base",
       "_model_module_version": "1.2.0",
       "_model_name": "LayoutModel",
       "_view_count": null,
       "_view_module": "@jupyter-widgets/base",
       "_view_module_version": "1.2.0",
       "_view_name": "LayoutView",
       "align_content": null,
       "align_items": null,
       "align_self": null,
       "border": null,
       "bottom": null,
       "display": null,
       "flex": null,
       "flex_flow": null,
       "grid_area": null,
       "grid_auto_columns": null,
       "grid_auto_flow": null,
       "grid_auto_rows": null,
       "grid_column": null,
       "grid_gap": null,
       "grid_row": null,
       "grid_template_areas": null,
       "grid_template_columns": null,
       "grid_template_rows": null,
       "height": null,
       "justify_content": null,
       "justify_items": null,
       "left": null,
       "margin": null,
       "max_height": null,
       "max_width": null,
       "min_height": null,
       "min_width": null,
       "object_fit": null,
       "object_position": null,
       "order": null,
       "overflow": null,
       "overflow_x": null,
       "overflow_y": null,
       "padding": null,
       "right": null,
       "top": null,
       "visibility": null,
       "width": null
      }
     },
     "fb46da975b1e4ec1a4c47e500b816259": {
      "model_module": "@jupyter-widgets/controls",
      "model_module_version": "1.5.0",
      "model_name": "ProgressStyleModel",
      "state": {
       "_model_module": "@jupyter-widgets/controls",
       "_model_module_version": "1.5.0",
       "_model_name": "ProgressStyleModel",
       "_view_count": null,
       "_view_module": "@jupyter-widgets/base",
       "_view_module_version": "1.2.0",
       "_view_name": "StyleView",
       "bar_color": null,
       "description_width": ""
      }
     }
    },
    "version_major": 2,
    "version_minor": 0
   }
  }
 },
 "nbformat": 4,
 "nbformat_minor": 5
}
