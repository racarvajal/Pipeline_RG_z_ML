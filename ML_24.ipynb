{
 "cells": [
  {
   "cell_type": "markdown",
   "id": "27b8ebbe",
   "metadata": {
    "id": "c71fae7e-a4c4-4950-8c16-4a74a1e69482"
   },
   "source": [
    "# Pipeline for High-z Radio Galaxies 24: Redshift prediction (high z, new instance with data balancing)"
   ]
  },
  {
   "cell_type": "markdown",
   "id": "19bc020e",
   "metadata": {
    "id": "714a7301-9b3d-4ad9-9659-b68cad4014c5"
   },
   "source": [
    "## Introduction"
   ]
  },
  {
   "cell_type": "markdown",
   "id": "52c5a8f9",
   "metadata": {
    "id": "dea6dd12-650e-4ab6-bae7-0268f78e7fea"
   },
   "source": [
    "Training for regression (prediction) of redshift for sources in the HETDEX field. \n",
    "\n",
    "Sources are all elements detected in the CatWISE2020 catalogue. But regression  \n",
    "will be done only with AGN from the Million Quasar Catalog (MQC).  \n",
    "Only sources with confirmed $z$ will be used.\n",
    "\n",
    "Also, as a test, only high-redshift sources ($z \\geq 3.6$ (or $3.7$), from recall behaviour. Turn-off point) will be used.  \n",
    "Additionally, SMOGN will be used to increase the parameter space size oversampling highest redshift elements.\n",
    "\n",
    "Being either AGN or galaxy will not be used as an additional feature."
   ]
  },
  {
   "cell_type": "markdown",
   "id": "c60bb774",
   "metadata": {
    "id": "00a0aec8-0112-4728-a8fe-f99cdf05a33b"
   },
   "source": [
    "Training data is from HETDEX Spring Field."
   ]
  },
  {
   "cell_type": "code",
   "execution_count": 1,
   "id": "229f436f",
   "metadata": {
    "id": "1161a2b6-ef8d-429d-8dea-40f0de36e393"
   },
   "outputs": [],
   "source": [
    "%matplotlib inline\n",
    "# Static plots\n",
    "#%matplotlib ipympl\n",
    "# Interactive plots\n",
    "import numpy as np\n",
    "import matplotlib as mpl\n",
    "from matplotlib import ticker\n",
    "import matplotlib.cm as cm\n",
    "import matplotlib.pyplot as plt\n",
    "import matplotlib.colors as mcolors\n",
    "import matplotlib.patheffects as mpe\n",
    "import mpl_scatter_density\n",
    "from mpl_toolkits.axes_grid1.inset_locator import inset_axes\n",
    "from astropy.visualization import LogStretch, PowerStretch\n",
    "from astropy.visualization.mpl_normalize import ImageNormalize\n",
    "from sklearn.preprocessing import MinMaxScaler\n",
    "from sklearn.model_selection import train_test_split\n",
    "# from sklearn.metrics import ConfusionMatrixDisplay, roc_auc_score, roc_curve, RocCurveDisplay, matthews_corrcoef\n",
    "# from sklearn.calibration import calibration_curve\n",
    "import sklearn.pipeline\n",
    "import ppscore as pps\n",
    "import seaborn as sns\n",
    "import colorcet as cc\n",
    "# from pycaret import classification as pyc\n",
    "from pycaret import regression as pyr\n",
    "from pycaret.internal.tabular import _get_columns_to_stratify_by\n",
    "import pandas as pd\n",
    "import smogn"
   ]
  },
  {
   "cell_type": "code",
   "execution_count": 2,
   "id": "498d85cf",
   "metadata": {},
   "outputs": [],
   "source": [
    "mpl.rcdefaults()"
   ]
  },
  {
   "cell_type": "markdown",
   "id": "23a746a6",
   "metadata": {
    "id": "9647d74a-8d80-4d24-a2f4-023184fa27ac"
   },
   "source": [
    "Create class to normalize asymmetric colorscales  \n",
    "(from [http://chris35wills.github.io/matplotlib_diverging_colorbar/](http://chris35wills.github.io/matplotlib_diverging_colorbar/))."
   ]
  },
  {
   "cell_type": "code",
   "execution_count": 3,
   "id": "991d4b1e",
   "metadata": {
    "id": "652a8557-e595-4861-af72-5d3220fb7620",
    "jupyter": {
     "source_hidden": true
    },
    "tags": []
   },
   "outputs": [],
   "source": [
    "class MidpointNormalize(mcolors.Normalize):\n",
    "    \"\"\"\n",
    "    Normalise the colorbar so that diverging bars work there way either side from a prescribed midpoint value)\n",
    "\n",
    "    e.g. im=ax1.imshow(array, norm=MidpointNormalize(midpoint=0.,vmin=-100, vmax=100))\n",
    "    \"\"\"\n",
    "    def __init__(self, vmin=None, vmax=None, midpoint=None, clip=False):\n",
    "        self.midpoint = midpoint\n",
    "        mcolors.Normalize.__init__(self, vmin, vmax, clip)\n",
    "\n",
    "    def __call__(self, value, clip=None):\n",
    "        # I'm ignoring masked values and all kinds of edge cases to make a\n",
    "        # simple example...\n",
    "        x, y = [self.vmin, self.midpoint, self.vmax], [0, 0.5, 1]\n",
    "        return np.ma.masked_array(np.interp(value, x, y), np.isnan(value))"
   ]
  },
  {
   "cell_type": "markdown",
   "id": "e512edf9",
   "metadata": {
    "id": "0bc24aa0-581a-4c39-bc90-b18f85385e78"
   },
   "source": [
    "For future plots, we can configure their aspect too."
   ]
  },
  {
   "cell_type": "code",
   "execution_count": 4,
   "id": "f27f5b07",
   "metadata": {
    "id": "cc05a86c-85e4-46e7-9b7f-f8ac4abd4ff2",
    "jupyter": {
     "source_hidden": true
    },
    "tags": []
   },
   "outputs": [],
   "source": [
    "cmap           = cm.get_cmap('inferno')\n",
    "cmap_alt       = cm.get_cmap('Dark2')\n",
    "cmap_alt_2     = cm.get_cmap('Greys_r')  # Shades of grey\n",
    "cmap_alt_3     = cm.get_cmap('coolwarm')  # blue to red\n",
    "dark_color     = cmap(0.4)  # RGBA color code\n",
    "light_color    = cmap(0.6)  # RGBA color code\n",
    "colors         = [cmap(0.15), cmap(0.30), cmap(0.45), cmap(0.60), cmap(0.75), cmap(0.90)]\n",
    "colors_3       = [cmap(0.25), cmap(0.50), cmap(0.75)]\n",
    "colors_3_alt   = [cmap_alt(0.25), cmap_alt(0.50), cmap_alt(0.75)]\n",
    "colors_3_alt_2 = [cmap_alt_2(0.25), cmap_alt_2(0.50), cmap_alt_2(0.75)]\n",
    "colors_8       = [cmap(0.12), cmap(0.24), cmap(0.35), cmap(0.48), cmap(0.6), cmap(0.72), cmap(0.84), cmap(0.96)]\n",
    "colors_8_alt   = [cmap_alt(0.12), cmap_alt(0.24), cmap_alt(0.35), cmap_alt(0.48), cmap_alt(0.6), cmap_alt(0.72),\\\n",
    "                  cmap_alt(0.84), cmap_alt(0.96)]\n",
    "colors_8_alt_2 = [cmap_alt_2(0.06), cmap_alt_2(0.18), cmap_alt_2(0.29), cmap_alt_2(0.42), cmap_alt_2(0.54),\\\n",
    "                  cmap_alt_2(0.66), cmap_alt_2(0.78), cmap_alt_2(0.90)]\n",
    "colors_8_alt_3 = [cmap_alt_3(0.06), cmap_alt_3(0.18), cmap_alt_3(0.29), cmap_alt_3(0.42), cmap_alt_3(0.54),\\\n",
    "                  cmap_alt_3(0.66), cmap_alt_3(0.78), cmap_alt_3(0.90)]"
   ]
  },
  {
   "cell_type": "code",
   "execution_count": 5,
   "id": "eb8a717f",
   "metadata": {
    "id": "f7b5bb0d-e1c0-415d-b7a8-3237c86e6c7b",
    "jupyter": {
     "source_hidden": true
    },
    "tags": []
   },
   "outputs": [],
   "source": [
    "pe1            = [mpe.Stroke(linewidth=5.0, foreground='black'),\n",
    "                  mpe.Stroke(foreground='white', alpha=1),\n",
    "                  mpe.Normal()]\n",
    "pe2            = [mpe.Stroke(linewidth=3.0, foreground='white'),\n",
    "                  mpe.Stroke(foreground='white', alpha=1),\n",
    "                  mpe.Normal()]\n",
    "\n",
    "alp_str        = r'$\\alpha$'"
   ]
  },
  {
   "cell_type": "markdown",
   "id": "21a4acad",
   "metadata": {},
   "source": [
    "Define specific metrics for redshift values:  \n",
    "\n",
    "$$\n",
    "\\sigma_{\\mathrm{NMAD}} = 1.48 \\times \\mathrm{median}\\left(\\frac{|(z_{True} - z_{Predict})|}{(1 + z_{True})}\\right)\n",
    "$$"
   ]
  },
  {
   "cell_type": "code",
   "execution_count": 6,
   "id": "15559b35",
   "metadata": {
    "jupyter": {
     "source_hidden": true
    },
    "tags": []
   },
   "outputs": [],
   "source": [
    "def sigma_mad(z_true, z_pred, **kwargs):\n",
    "    med = np.nanmedian(np.abs(z_true - z_pred)).astype('float32')\n",
    "    return 1.48 * med"
   ]
  },
  {
   "cell_type": "code",
   "execution_count": 7,
   "id": "d619912c",
   "metadata": {
    "jupyter": {
     "source_hidden": true
    },
    "tags": []
   },
   "outputs": [],
   "source": [
    "def sigma_nmad(z_true, z_pred, **kwargs):\n",
    "    dif  = (z_true - z_pred)\n",
    "    frac = dif / (1 + z_true).values\n",
    "    med  = np.nanmedian(np.abs(frac)).astype('float32')\n",
    "    return 1.48 * med"
   ]
  },
  {
   "cell_type": "code",
   "execution_count": 8,
   "id": "557c1ad8",
   "metadata": {
    "jupyter": {
     "source_hidden": true
    },
    "tags": []
   },
   "outputs": [],
   "source": [
    "def sigma_z(z_true, z_pred, **kwargs):\n",
    "    dif = z_true - z_pred\n",
    "    ssq = np.sum(dif**2)\n",
    "    rot = np.sqrt(ssq / len(z_true)).astype('float32')\n",
    "    return rot"
   ]
  },
  {
   "cell_type": "code",
   "execution_count": 9,
   "id": "087c55e7",
   "metadata": {
    "jupyter": {
     "source_hidden": true
    },
    "tags": []
   },
   "outputs": [],
   "source": [
    "def sigma_z_norm(z_true, z_pred, **kwargs):\n",
    "    dif = (z_true - z_pred) / (1 + z_true)\n",
    "    ssq = np.sum(dif**2)\n",
    "    rot = np.sqrt(ssq / len(z_true)).astype('float32')\n",
    "    return rot"
   ]
  },
  {
   "cell_type": "code",
   "execution_count": 10,
   "id": "be58c21e",
   "metadata": {
    "jupyter": {
     "source_hidden": true
    },
    "tags": []
   },
   "outputs": [],
   "source": [
    "def outlier_frac(z_true, z_pred, **kwargs):\n",
    "    dif  = np.abs((z_true - z_pred) / (1 + z_true))\n",
    "    siz  = np.sum(np.isfinite(dif)).astype('float32')\n",
    "    num  = np.sum(np.array(dif > 0.15)).astype('float32')\n",
    "    frac = num / siz\n",
    "    return frac"
   ]
  },
  {
   "cell_type": "markdown",
   "id": "7db9ccb3",
   "metadata": {
    "id": "aacf1d05-0bd7-4cbe-a480-5bd658bc008c"
   },
   "source": [
    "Methdods for PyCaret and saved models."
   ]
  },
  {
   "cell_type": "code",
   "execution_count": 11,
   "id": "51250bc7",
   "metadata": {
    "id": "86db6e67-85aa-4cd6-a3dc-bfe638bc69bb",
    "jupyter": {
     "source_hidden": true
    },
    "tags": []
   },
   "outputs": [],
   "source": [
    "def get_final_column_names(pycaret_pipeline, sample_df):\n",
    "    if isinstance(pycaret_pipeline, sklearn.pipeline.Pipeline):\n",
    "        for (name, method) in pycaret_pipeline.named_steps.items():\n",
    "            if method != 'passthrough' and name != 'trained_model':\n",
    "                print(f'Running {name}')\n",
    "                sample_df = method.transform(sample_df)\n",
    "        return sample_df.columns.tolist()\n",
    "    else:\n",
    "        for (name, method) in pyr.get_config('prep_pipe').named_steps.items():\n",
    "            if method != 'passthrough' and name != 'trained_model':\n",
    "                print(f'Running {name}')\n",
    "                sample_df = method.transform(sample_df)\n",
    "        return sample_df.columns.tolist()"
   ]
  },
  {
   "cell_type": "code",
   "execution_count": 12,
   "id": "0f360f14",
   "metadata": {
    "id": "715acda9-475d-4c9c-8e99-4921da2e1152",
    "jupyter": {
     "source_hidden": true
    },
    "tags": []
   },
   "outputs": [],
   "source": [
    "def get_feature_importances_df(pycaret_pipeline, sample_df, n = 10):\n",
    "    \n",
    "    final_cols = get_final_column_names(pycaret_pipeline, sample_df)\n",
    "    \n",
    "    if isinstance(pycaret_pipeline, sklearn.pipeline.Pipeline):\n",
    "        try:\n",
    "            variables = pycaret_pipeline[\"trained_model\"].feature_importances_\n",
    "            \n",
    "        except:\n",
    "            variables = np.mean([\n",
    "                            tree.feature_importances_ for tree in pycaret_pipeline[\"trained_model\"].estimators_\n",
    "                if hasattr(tree, 'feature_importances_')\n",
    "                            ], axis=0)\n",
    "        \n",
    "        coef_df = pd.DataFrame({'Feature': final_cols, 'Importance': variables})\n",
    "        sorted_df = (\n",
    "            coef_df.sort_values(by='Importance', ascending=False)\n",
    "            .head(n)\n",
    "            .sort_values(by='Importance', ascending=True).reset_index(drop=True)\n",
    "        )\n",
    "    else:\n",
    "        try:\n",
    "            variables = pycaret_pipeline.feature_importances_\n",
    "            \n",
    "        except:\n",
    "            variables = np.mean([\n",
    "                            tree.feature_importances_ for tree in pycaret_pipeline.estimators_\n",
    "                if hasattr(tree, 'feature_importances_')\n",
    "                            ], axis=0)\n",
    "        \n",
    "        coef_df = pd.DataFrame({'Feature': final_cols, 'Importance': variables})\n",
    "        sorted_df = (\n",
    "            coef_df.sort_values(by='Importance', ascending=False)\n",
    "            .head(n)\n",
    "            .sort_values(by='Importance', ascending=True).reset_index(drop=True)\n",
    "        )\n",
    "    return sorted_df"
   ]
  },
  {
   "cell_type": "code",
   "execution_count": 13,
   "id": "1fa0fb0d",
   "metadata": {
    "jupyter": {
     "source_hidden": true
    },
    "tags": []
   },
   "outputs": [],
   "source": [
    "def plot_conf_mat(confusion_matrix, title, axin, display_labels=['Non true', 'True'], cmap='cet_dimgray_r', show_clb=False, log_stretch=False):\n",
    "    disp = ConfusionMatrixDisplay(confusion_matrix=confusion_matrix,\n",
    "                              display_labels=display_labels)\n",
    "\n",
    "    min_val_colour = np.nanmin(confusion_matrix)\n",
    "    max_val_colour = np.nanmin(confusion_matrix)\n",
    "    \n",
    "    if log_stretch:\n",
    "        norm = ImageNormalize(stretch=LogStretch())\n",
    "    if not log_stretch:\n",
    "        norm = ImageNormalize()\n",
    "\n",
    "    # NOTE: Fill all variables here with default values of the plot_confusion_matrix\n",
    "    disp_b = disp.plot(include_values=True, cmap=cm.get_cmap(cmap),\\\n",
    "             ax=axin, xticks_rotation='horizontal')\n",
    "\n",
    "    for text_val in disp_b.text_.flatten():\n",
    "        text_val.set_fontsize(30)\n",
    "    clb = plt.gca().images[-1].colorbar\n",
    "    clb.ax.tick_params(labelsize=14)\n",
    "    clb.ax.ticklabel_format(style='sci', scilimits=(0, 0))\n",
    "    clb.outline.set_linewidth(2.5)\n",
    "    clb.ax.set_ylabel('Elements in bin', size=14)\n",
    "    if not show_clb:\n",
    "        clb.remove()\n",
    "\n",
    "    # disp_b.im_.set_clim(1e2, 3e3)\n",
    "    disp_b.im_.norm = norm\n",
    "\n",
    "    axin.xaxis.get_label().set_fontsize(16)\n",
    "    axin.yaxis.get_label().set_fontsize(16)\n",
    "\n",
    "    axin.tick_params(axis='both', which='major', labelsize=14)\n",
    "\n",
    "    plt.setp(axin.spines.values(), linewidth=2.5)\n",
    "    plt.setp(axin.spines.values(), linewidth=2.5)\n",
    "    axin.set_title(title)\n",
    "    plt.tight_layout()"
   ]
  },
  {
   "cell_type": "code",
   "execution_count": 14,
   "id": "78a31e28",
   "metadata": {
    "jupyter": {
     "source_hidden": true
    }
   },
   "outputs": [],
   "source": [
    "def get_base_estimators_names(pycaret_pipeline):\n",
    "    if isinstance(pycaret_pipeline, sklearn.pipeline.Pipeline):\n",
    "        estimators  = pycaret_pipeline['trained_model'].estimators\n",
    "    else:\n",
    "        estimators  = pycaret_pipeline.estimators\n",
    "\n",
    "    estimators_list = [estimator[0] for estimator in estimators]\n",
    "    return estimators_list"
   ]
  },
  {
   "cell_type": "markdown",
   "id": "51baf6cc",
   "metadata": {},
   "source": [
    "Method to compare and plot redshifts."
   ]
  },
  {
   "cell_type": "code",
   "execution_count": 15,
   "id": "c312d9ae",
   "metadata": {
    "jupyter": {
     "source_hidden": true
    }
   },
   "outputs": [],
   "source": [
    "def plot_redshift_compare(true_z, predicted_z, ax_pre, title=None, dpi=10, cmap='cet_linear_kryw_5_100_c64_r', show_clb=False, log_stretch=False):\n",
    "    if log_stretch:\n",
    "        norm = ImageNormalize(vmin=0., stretch=LogStretch())\n",
    "    if not log_stretch:\n",
    "        norm = ImageNormalize(vmin=0., stretch=PowerStretch(0.3))\n",
    "\n",
    "    filt_pair_z   = np.isfinite(true_z) & np.isfinite(predicted_z)\n",
    "    max_for_range = np.nanmax([np.nanmax(1 + true_z.loc[filt_pair_z]), np.nanmax(1 + predicted_z.loc[filt_pair_z])])\n",
    "    min_for_range = np.nanmin([np.nanmin(1 + true_z.loc[filt_pair_z]), np.nanmin(1 + predicted_z.loc[filt_pair_z])])\n",
    "\n",
    "    dens_1 = ax_pre.scatter_density((1 + true_z.sample(frac=1, random_state=seed)),\\\n",
    "            (1 + predicted_z.sample(frac=1, random_state=seed)),\\\n",
    "            cmap=plt.get_cmap(cmap), zorder=0, dpi=dpi, norm=norm, alpha=0.93)\n",
    "    \n",
    "    ax_pre.axline((2., 2.), (3., 3.), ls='--', marker=None, c='Gray', alpha=0.8, lw=3.0, zorder=20)\n",
    "    ax_pre.axline(xy1=(1., 1.15), xy2=(2., 2.3), ls='-.', marker=None, c='slateblue', alpha=0.6, lw=3.0, zorder=20)\n",
    "    ax_pre.axline(xy1=(1., 0.85), xy2=(2., 1.7), ls='-.', marker=None, c='slateblue', alpha=0.6, lw=3.0, zorder=20)\n",
    "\n",
    "    if show_clb:\n",
    "        clb = plt.colorbar(dens_1, extend='neither', norm=norm, ticks=ticker.MaxNLocator(integer=True))\n",
    "        clb.ax.tick_params(labelsize=14)\n",
    "        clb.outline.set_linewidth(2.5)\n",
    "        clb.ax.set_ylabel('Elements per pixel', size=16, path_effects=pe2)\n",
    "\n",
    "    # Inset axis with residuals\n",
    "    axins = inset_axes(ax_pre, width='35%', height='20%', loc=2)\n",
    "    res_z_z = (predicted_z - true_z) / (1 + true_z)\n",
    "    axins.hist(res_z_z, histtype='stepfilled', fc='grey', ec='k', bins=50, lw=2.5)\n",
    "    axins.axvline(x=np.nanpercentile(res_z_z, [15.9]), ls='--', lw=2.5, c='royalblue')\n",
    "    axins.axvline(x=np.nanpercentile(res_z_z, [84.1]), ls='--', lw=2.5, c='royalblue')\n",
    "    axins.set_xlabel('$\\Delta z / (1 + z_{\\mathrm{True}})$', fontsize=10)\n",
    "    axins.tick_params(labelleft=False, labelbottom=True)\n",
    "    axins.tick_params(which='both', top=True, right=True, direction='in')\n",
    "    axins.tick_params(axis='both', which='major', labelsize=10)\n",
    "    axins.tick_params(which='major', length=8, width=1.5)\n",
    "    axins.tick_params(which='minor', length=4, width=1.5)\n",
    "    plt.setp(axins.spines.values(), linewidth=2.5)\n",
    "    plt.setp(axins.spines.values(), linewidth=2.5)\n",
    "    axins.set_xlim(left=-0.9, right=0.9)\n",
    "    ##\n",
    "    ax_pre.set_xlabel('$1 + z_{\\mathrm{True}}$', fontsize=20)\n",
    "    ax_pre.set_ylabel('$1 + z_{\\mathrm{Predicted}}$', fontsize=20)\n",
    "    ax_pre.tick_params(which='both', top=True, right=True, direction='in')\n",
    "    ax_pre.tick_params(axis='both', which='minor', labelsize=14)\n",
    "    ax_pre.tick_params(which='major', length=8, width=1.5)\n",
    "    ax_pre.tick_params(which='minor', length=4, width=1.5)\n",
    "    # ax_pre.xaxis.set_major_locator(ticker.MaxNLocator(integer=True))\n",
    "    # ax_pre.yaxis.set_major_locator(ticker.MaxNLocator(integer=True))\n",
    "    ax_pre.xaxis.set_minor_formatter(ticker.ScalarFormatter(useMathText=False))\n",
    "    ax_pre.yaxis.set_minor_formatter(ticker.ScalarFormatter(useMathText=False))\n",
    "    plt.setp(ax_pre.spines.values(), linewidth=2.5)\n",
    "    plt.setp(ax_pre.spines.values(), linewidth=2.5)\n",
    "    ax_pre.set_xlim(left=np.floor(min_for_range), right=np.ceil(max_for_range))\n",
    "    ax_pre.set_ylim(bottom=np.floor(min_for_range), top=np.ceil(max_for_range))\n",
    "    ax_pre.set_title(title, fontsize=14)\n",
    "    plt.tight_layout()"
   ]
  },
  {
   "cell_type": "markdown",
   "id": "983fbdc3",
   "metadata": {
    "id": "8222df68-1b98-436b-af43-d9f38d015ba6"
   },
   "source": [
    "***"
   ]
  },
  {
   "cell_type": "markdown",
   "id": "9c069a5a",
   "metadata": {
    "id": "e2ce5669-172d-4ed4-b6fe-5fff8afc7df5"
   },
   "source": [
    "## Reading data"
   ]
  },
  {
   "cell_type": "code",
   "execution_count": 16,
   "id": "65525c38",
   "metadata": {
    "id": "b0619b32-391c-4f18-8284-d1fabf6a800c",
    "tags": []
   },
   "outputs": [],
   "source": [
    "cat_path = '../../Catalogs/'  # relative path to the same directory"
   ]
  },
  {
   "cell_type": "markdown",
   "id": "91962a94",
   "metadata": {
    "id": "c4e41fd8-fbc5-4185-b03e-8a57634a05a9"
   },
   "source": [
    "We import our data using the `pandas` package."
   ]
  },
  {
   "cell_type": "code",
   "execution_count": 146,
   "id": "3e45327a",
   "metadata": {},
   "outputs": [
    {
     "name": "stderr",
     "output_type": "stream",
     "text": [
      "/home/rcarvajal/.miniforge3/envs/test_pycaret/lib/python3.8/site-packages/xgboost/compat.py:36: FutureWarning: pandas.Int64Index is deprecated and will be removed from pandas in a future version. Use pandas.Index with the appropriate dtype instead.\n",
      "  from pandas import MultiIndex, Int64Index\n",
      "/home/rcarvajal/.miniforge3/envs/test_pycaret/lib/python3.8/site-packages/xgboost/compat.py:36: FutureWarning: pandas.Int64Index is deprecated and will be removed from pandas in a future version. Use pandas.Index with the appropriate dtype instead.\n",
      "  from pandas import MultiIndex, Int64Index\n",
      "/home/rcarvajal/.miniforge3/envs/test_pycaret/lib/python3.8/site-packages/xgboost/compat.py:36: FutureWarning: pandas.Int64Index is deprecated and will be removed from pandas in a future version. Use pandas.Index with the appropriate dtype instead.\n",
      "  from pandas import MultiIndex, Int64Index\n",
      "/home/rcarvajal/.miniforge3/envs/test_pycaret/lib/python3.8/site-packages/xgboost/compat.py:36: FutureWarning: pandas.Int64Index is deprecated and will be removed from pandas in a future version. Use pandas.Index with the appropriate dtype instead.\n",
      "  from pandas import MultiIndex, Int64Index\n",
      "Custom logger is already specified. Specify more than one logger at same time is not thread safe.Custom logger is already specified. Specify more than one logger at same time is not thread safe.Custom logger is already specified. Specify more than one logger at same time is not thread safe.Custom logger is already specified. Specify more than one logger at same time is not thread safe./home/rcarvajal/.miniforge3/envs/test_pycaret/lib/python3.8/site-packages/xgboost/compat.py:36: FutureWarning: pandas.Int64Index is deprecated and will be removed from pandas in a future version. Use pandas.Index with the appropriate dtype instead.\n",
      "  from pandas import MultiIndex, Int64Index\n",
      "Custom logger is already specified. Specify more than one logger at same time is not thread safe.Custom logger is already specified. Specify more than one logger at same time is not thread safe.Custom logger is already specified. Specify more than one logger at same time is not thread safe.Custom logger is already specified. Specify more than one logger at same time is not thread safe./home/rcarvajal/.miniforge3/envs/test_pycaret/lib/python3.8/site-packages/xgboost/compat.py:36: FutureWarning: pandas.Int64Index is deprecated and will be removed from pandas in a future version. Use pandas.Index with the appropriate dtype instead.\n",
      "  from pandas import MultiIndex, Int64Index\n",
      "/home/rcarvajal/.miniforge3/envs/test_pycaret/lib/python3.8/site-packages/xgboost/compat.py:36: FutureWarning: pandas.Int64Index is deprecated and will be removed from pandas in a future version. Use pandas.Index with the appropriate dtype instead.\n",
      "  from pandas import MultiIndex, Int64Index\n",
      "/home/rcarvajal/.miniforge3/envs/test_pycaret/lib/python3.8/site-packages/xgboost/compat.py:36: FutureWarning: pandas.Int64Index is deprecated and will be removed from pandas in a future version. Use pandas.Index with the appropriate dtype instead.\n",
      "  from pandas import MultiIndex, Int64Index\n",
      "/home/rcarvajal/.miniforge3/envs/test_pycaret/lib/python3.8/site-packages/xgboost/compat.py:36: FutureWarning: pandas.Int64Index is deprecated and will be removed from pandas in a future version. Use pandas.Index with the appropriate dtype instead.\n",
      "  from pandas import MultiIndex, Int64Index\n",
      "/home/rcarvajal/.miniforge3/envs/test_pycaret/lib/python3.8/site-packages/xgboost/compat.py:36: FutureWarning: pandas.Int64Index is deprecated and will be removed from pandas in a future version. Use pandas.Index with the appropriate dtype instead.\n",
      "  from pandas import MultiIndex, Int64Index\n",
      "/home/rcarvajal/.miniforge3/envs/test_pycaret/lib/python3.8/site-packages/xgboost/compat.py:36: FutureWarning: pandas.Int64Index is deprecated and will be removed from pandas in a future version. Use pandas.Index with the appropriate dtype instead.\n",
      "  from pandas import MultiIndex, Int64Index\n",
      "/home/rcarvajal/.miniforge3/envs/test_pycaret/lib/python3.8/site-packages/xgboost/compat.py:36: FutureWarning: pandas.Int64Index is deprecated and will be removed from pandas in a future version. Use pandas.Index with the appropriate dtype instead.\n",
      "  from pandas import MultiIndex, Int64Index\n",
      "Custom logger is already specified. Specify more than one logger at same time is not thread safe.Custom logger is already specified. Specify more than one logger at same time is not thread safe.Custom logger is already specified. Specify more than one logger at same time is not thread safe.Custom logger is already specified. Specify more than one logger at same time is not thread safe."
     ]
    }
   ],
   "source": [
    "save_plot_flag  = False\n",
    "save_model_flag = False\n",
    "load_model_flag = True"
   ]
  },
  {
   "cell_type": "code",
   "execution_count": 18,
   "id": "dcdffd21",
   "metadata": {},
   "outputs": [],
   "source": [
    "use_5sigma = True  # use files with 5-sigma magnitude imputation"
   ]
  },
  {
   "cell_type": "code",
   "execution_count": 19,
   "id": "7c236c4c",
   "metadata": {},
   "outputs": [],
   "source": [
    "mqc_version = '7_4d'  # '7_2'"
   ]
  },
  {
   "cell_type": "code",
   "execution_count": 20,
   "id": "7749bc24",
   "metadata": {
    "id": "c69bd7ee-7184-46e3-a6cb-1a66cb75d6ae",
    "tags": []
   },
   "outputs": [],
   "source": [
    "file_name_train = f'CatWISE2020_VLASS_LOFAR_PS1_GALEX_TGSS_XMM_2MASS_MILLIQUAS_{mqc_version}_ALLWISE_LOLSS_SDSS_DR16_5sigma_imp.h5'  # 6729647 objects (6.7e6)"
   ]
  },
  {
   "cell_type": "markdown",
   "id": "f2c09fd1",
   "metadata": {
    "id": "2cd751bd-1eb4-4c54-b6fa-418773ac8938"
   },
   "source": [
    "First, open the file as astropy Table to modify (and standardise)  \n",
    "the units of fluxes and/or magnitudes."
   ]
  },
  {
   "cell_type": "markdown",
   "id": "b7433799",
   "metadata": {
    "id": "d0ce0178-04a7-4113-bbb8-1b70ce220764"
   },
   "source": [
    "---"
   ]
  },
  {
   "cell_type": "markdown",
   "id": "e1292ae6",
   "metadata": {
    "id": "6e66f66c-4987-4340-bf82-7d8e218033fb"
   },
   "source": [
    "Create `pandas` DataFrame from `astropy` table."
   ]
  },
  {
   "cell_type": "code",
   "execution_count": 21,
   "id": "69c95d7e",
   "metadata": {},
   "outputs": [],
   "source": [
    "features_2_discard = ['objID', 'RA_ICRS', 'DE_ICRS', 'Name', 'RA_MILLI', 'DEC_MILLI', 'TYPE',\\\n",
    "                      'X_ray_detect', 'Total_flux_VLASS', 'Sint_LOFAR', 'Stotal_TGSS', 'FEP',\\\n",
    "                      'TotalFlux_LoLSS', 'W1mag', 'W2mag', 'FUVmag', 'NUVmag'] # , 'mode',\\\n",
    "                     # 'class', 'f_zsp', 'subCl', 'zph', 'e_zph']  # Not needed for training in this model"
   ]
  },
  {
   "cell_type": "code",
   "execution_count": 22,
   "id": "daa7fab6",
   "metadata": {
    "id": "498083f5-b8c6-44aa-8de4-75b1dc899296",
    "tags": []
   },
   "outputs": [],
   "source": [
    "full_catalog_df = pd.read_hdf(cat_path + file_name_train, key='df').drop(columns=features_2_discard)"
   ]
  },
  {
   "cell_type": "code",
   "execution_count": 23,
   "id": "4ff8c2d3",
   "metadata": {},
   "outputs": [],
   "source": [
    "full_catalog_df.loc[:, 'radio_detect'] = full_catalog_df.loc[:, 'radio_detect'].astype(int)"
   ]
  },
  {
   "cell_type": "markdown",
   "id": "4f8cdf2d",
   "metadata": {},
   "source": [
    "Combine redshift values (AGN + galaxies)."
   ]
  },
  {
   "cell_type": "code",
   "execution_count": 25,
   "id": "90635662",
   "metadata": {},
   "outputs": [],
   "source": [
    "idx_non_Z                = full_catalog_df.loc[:, 'Z'].where(full_catalog_df.loc[:, 'Z'] > 0).isna()\n",
    "full_catalog_df.loc[idx_non_Z, 'Z'] = full_catalog_df.loc[:, 'Z'].mask(idx_non_Z, full_catalog_df.loc[idx_non_Z, 'zsp'])"
   ]
  },
  {
   "cell_type": "markdown",
   "id": "8e730274",
   "metadata": {
    "id": "6619390c-a04f-4bd0-9f97-9ca54bc9c764"
   },
   "source": [
    "---"
   ]
  },
  {
   "cell_type": "markdown",
   "id": "c7228c6c",
   "metadata": {
    "id": "u4vi69d_pPbd"
   },
   "source": [
    "## Random seed"
   ]
  },
  {
   "cell_type": "code",
   "execution_count": 29,
   "id": "3bf2a06e",
   "metadata": {
    "id": "8byjjVU3pOjM"
   },
   "outputs": [],
   "source": [
    "seed = 42"
   ]
  },
  {
   "cell_type": "markdown",
   "id": "25926d23",
   "metadata": {},
   "source": [
    "Create target"
   ]
  },
  {
   "cell_type": "code",
   "execution_count": 30,
   "id": "cafc3c44",
   "metadata": {},
   "outputs": [],
   "source": [
    "full_catalog_df.loc[:, 'radio_detect'] = full_catalog_df.loc[:, 'radio_detect'].astype(int)"
   ]
  },
  {
   "cell_type": "markdown",
   "id": "e4e90c00",
   "metadata": {},
   "source": [
    "## Split data: Test, Train, Validation"
   ]
  },
  {
   "cell_type": "markdown",
   "id": "1e2971c0",
   "metadata": {},
   "source": [
    "Create same train/test/validation sub-sets as with AGN/galaxy model.  \n",
    "After this, select sources needed for this model (`is_AGN == 1` and `radio_detect == 1`)."
   ]
  },
  {
   "cell_type": "code",
   "execution_count": 31,
   "id": "68a66696",
   "metadata": {
    "jupyter": {
     "source_hidden": true
    }
   },
   "outputs": [
    {
     "name": "stdout",
     "output_type": "stream",
     "text": [
      "Shape of used data in HETDEX\n",
      "(Confirmed galaxies and AGN)\n",
      "--------------------------------------------------\n",
      "Full confirmed dataset size:        (83409, 87)\n",
      "Data for Modeling (Train and Test): (66727, 87)\n",
      "Training data:                      (46708, 87)\n",
      "Testing data:                       (20019, 87)\n",
      "Validation data:                    (16682, 87)\n",
      "--------------------------------------------------\n",
      "\n"
     ]
    }
   ],
   "source": [
    "filter_known_spec  = (full_catalog_df.loc[:, 'is_AGN'] == 1) | (full_catalog_df.loc[:, 'is_gal'] == 1)\n",
    "filter_known_radio = full_catalog_df.loc[:, 'radio_detect'] == 1\n",
    "full_catalog_df    = full_catalog_df.loc[filter_known_spec]\n",
    "train_test_df, validation_df     = train_test_split(full_catalog_df, test_size=0.2,\\\n",
    "                                    random_state=seed, stratify=full_catalog_df.loc[:, 'is_AGN'])\n",
    "train_df, test_df                = train_test_split(train_test_df, test_size=0.3,\\\n",
    "                                    random_state=seed, stratify=train_test_df.loc[:, 'is_AGN'])\n",
    "print('Shape of used data in HETDEX')\n",
    "print('(Confirmed galaxies and AGN)')\n",
    "print('-' * 50)\n",
    "print(f'Full confirmed dataset size:        {full_catalog_df.shape}')\n",
    "print(f'Data for Modeling (Train and Test): {train_test_df.shape}')\n",
    "print(f'Training data:                      {train_df.shape}')\n",
    "print(f'Testing data:                       {test_df.shape}')\n",
    "print(f'Validation data:                    {validation_df.shape}')\n",
    "print('-' * 50)\n",
    "print()"
   ]
  },
  {
   "cell_type": "code",
   "execution_count": 32,
   "id": "d1fbfe53",
   "metadata": {
    "jupyter": {
     "source_hidden": true
    }
   },
   "outputs": [],
   "source": [
    "full_catalog_df = full_catalog_df.loc[(full_catalog_df.loc[:, 'is_AGN'] == 1) & (full_catalog_df.loc[:, 'radio_detect'] == 1)]\n",
    "train_test_df   = train_test_df.loc[(train_test_df.loc[:, 'is_AGN'] == 1) & (train_test_df.loc[:, 'radio_detect'] == 1)]\n",
    "train_df        = train_df.loc[(train_df.loc[:, 'is_AGN'] == 1) & (train_df.loc[:, 'radio_detect'] == 1)]\n",
    "test_df         = test_df.loc[(test_df.loc[:, 'is_AGN'] == 1) & (test_df.loc[:, 'radio_detect'] == 1)]\n",
    "validation_df   = validation_df.loc[(validation_df.loc[:, 'is_AGN'] == 1) & (validation_df.loc[:, 'radio_detect'] == 1)]"
   ]
  },
  {
   "cell_type": "markdown",
   "id": "3669f703",
   "metadata": {},
   "source": [
    "#### Select high-z objects"
   ]
  },
  {
   "cell_type": "code",
   "execution_count": null,
   "id": "1ea591c6",
   "metadata": {
    "jupyter": {
     "source_hidden": true
    }
   },
   "outputs": [],
   "source": [
    "redshift_low_lim = 3.6  # 3.6, 3.7, 4.0\n",
    "filter_high_z    = full_catalog_df.loc[:, 'Z'] >= redshift_low_lim\n",
    "full_catalog_df  = full_catalog_df.loc[full_catalog_df.loc[:, 'Z'] >= redshift_low_lim]\n",
    "train_test_df    = train_test_df.loc[train_test_df.loc[:, 'Z'] >= redshift_low_lim]\n",
    "train_df         = train_df.loc[train_df.loc[:, 'Z'] >= redshift_low_lim]\n",
    "test_df          = test_df.loc[test_df.loc[:, 'Z'] >= redshift_low_lim]\n",
    "validation_df    = validation_df.loc[validation_df.loc[:, 'Z'] >= redshift_low_lim]"
   ]
  },
  {
   "cell_type": "code",
   "execution_count": 33,
   "id": "d9ad79f0",
   "metadata": {
    "jupyter": {
     "source_hidden": true
    },
    "tags": []
   },
   "outputs": [
    {
     "name": "stdout",
     "output_type": "stream",
     "text": [
      "In this dataset (HETDEX), with 8,518 elements,\n",
      "8,518 of them are marked as AGN, and, from them, 8,518 have confirmed radio detection.\n"
     ]
    }
   ],
   "source": [
    "n_is_AGN = np.sum(full_catalog_df.loc[:, 'is_AGN'] == 1)\n",
    "n_is_rad = np.sum(full_catalog_df.loc[:, 'radio_detect'] == 1)\n",
    "print(f'In this dataset (HETDEX), with {len(full_catalog_df.loc[:, \"is_AGN\"]):,} elements,\\n' +\\\n",
    "         f'{n_is_AGN:,} of them are marked as AGN, and, from them, {n_is_rad:,} have confirmed radio detection.')"
   ]
  },
  {
   "cell_type": "markdown",
   "id": "c432d633",
   "metadata": {},
   "source": [
    "#### Remove intermediate targets"
   ]
  },
  {
   "cell_type": "code",
   "execution_count": 34,
   "id": "2f05fa28",
   "metadata": {
    "jupyter": {
     "source_hidden": true
    }
   },
   "outputs": [],
   "source": [
    "full_catalog_df = full_catalog_df.drop(columns=['is_AGN', 'is_SDSS_gal', 'is_gal', 'is_str', 'spCl', 'radio_detect', 'zsp'])\n",
    "train_test_df   = train_test_df.drop(columns=['is_AGN', 'is_SDSS_gal', 'is_gal', 'is_str', 'spCl', 'radio_detect', 'zsp'])\n",
    "train_df        = train_df.drop(columns=['is_AGN', 'is_SDSS_gal', 'is_gal', 'is_str', 'spCl', 'radio_detect', 'zsp'])\n",
    "test_df         = test_df.drop(columns=['is_AGN', 'is_SDSS_gal', 'is_gal', 'is_str', 'spCl', 'radio_detect', 'zsp'])\n",
    "validation_df   = validation_df.drop(columns=['is_AGN', 'is_SDSS_gal', 'is_gal', 'is_str', 'spCl', 'radio_detect', 'zsp'])"
   ]
  },
  {
   "cell_type": "markdown",
   "id": "7045953c",
   "metadata": {
    "id": "6619390c-a04f-4bd0-9f97-9ca54bc9c764"
   },
   "source": [
    "---"
   ]
  },
  {
   "cell_type": "code",
   "execution_count": 35,
   "id": "89251ba1",
   "metadata": {
    "jupyter": {
     "source_hidden": true
    },
    "tags": []
   },
   "outputs": [
    {
     "name": "stdout",
     "output_type": "stream",
     "text": [
      "Final shape of used data\n",
      "--------------------------------------------------\n",
      "Confirmed Radio AGN\n",
      "--------------------------------------------------\n",
      "Full confirmed dataset size:        (8518, 80)\n",
      "Data for Modeling (Train and Test): (6856, 80)\n",
      "Training data:                      (4814, 80)\n",
      "Testing data:                       (2042, 80)\n",
      "Validation data:                    (1662, 80)\n",
      "--------------------------------------------------\n"
     ]
    }
   ],
   "source": [
    "print('Final shape of used data')\n",
    "print('-' * 50)\n",
    "print('Confirmed Radio AGN')\n",
    "print('-' * 50)\n",
    "print(f'Full confirmed dataset size:        {full_catalog_df.shape}')\n",
    "print(f'Data for Modeling (Train and Test): {train_test_df.shape}')\n",
    "print(f'Training data:                      {train_df.shape}')\n",
    "print(f'Testing data:                       {test_df.shape}')\n",
    "print(f'Validation data:                    {validation_df.shape}')\n",
    "print('-' * 50)"
   ]
  },
  {
   "cell_type": "code",
   "execution_count": 37,
   "id": "2dd58ee9",
   "metadata": {
    "jupyter": {
     "source_hidden": true
    },
    "tags": []
   },
   "outputs": [
    {
     "data": {
      "image/png": "[encoded data removed]",
      "text/plain": [
       "<Figure size 700x450 with 1 Axes>"
      ]
     },
     "metadata": {},
     "output_type": "display_data"
    }
   ],
   "source": [
    "fig             = plt.figure(figsize=(7,4.5))\n",
    "ax1             = fig.add_subplot(111, xscale='linear', yscale='log')\n",
    "\n",
    "min_score  = np.nanmin(full_catalog_df.loc[:, 'Z'])\n",
    "max_score  = np.nanmax(full_catalog_df.loc[:, 'Z'])\n",
    "score_bins = np.linspace(min_score, max_score, 30)\n",
    "\n",
    "ax1.hist(train_test_df.loc[:, 'Z'], bins=score_bins, histtype='stepfilled', ec='k',\\\n",
    "         lw=3.5, color=cm.get_cmap('cet_gray')(0.8), alpha=1.0, label='Train+Test')\n",
    "ax1.hist(validation_df.loc[:, 'Z'], bins=score_bins, histtype='stepfilled', ec='k',\\\n",
    "         lw=3.5, color=cm.get_cmap('cet_gray')(0.95), alpha=1.0, label='Validation')\n",
    "\n",
    "ax1.axvline(x=redshift_low_lim, ls='--', c='k', lw=2.5)\n",
    "    \n",
    "ax1.tick_params(which='both', top=True, right=True, direction='in')\n",
    "ax1.tick_params(axis='both', which='major', labelsize=14)\n",
    "ax1.tick_params(which='major', length=8, width=1.5)\n",
    "ax1.tick_params(which='minor', length=4, width=1.5)\n",
    "ax1.set_xlabel('Redshift', size=20)\n",
    "ax1.set_ylabel('Frequency', size=20)\n",
    "plt.setp(ax1.spines.values(), linewidth=3.5)\n",
    "plt.setp(ax1.spines.values(), linewidth=3.5)\n",
    "plt.legend(loc=1, fontsize=14)\n",
    "plt.grid(False)\n",
    "# ax1.set_xlim(left=min_score - 1e-2, right=max_score + 1e-2)\n",
    "#ax1.set_aspect('equal', 'box')\n",
    "fig.tight_layout()"
   ]
  },
  {
   "cell_type": "markdown",
   "id": "96fccd94",
   "metadata": {},
   "source": [
    "Save indices of sources in validation sub-set for future steps."
   ]
  },
  {
   "cell_type": "code",
   "execution_count": 38,
   "id": "f5082e70",
   "metadata": {},
   "outputs": [],
   "source": [
    "# val_idx = validation_df.index.to_numpy()\n",
    "# np.savetxt(fname='idx_validation_radio_01.txt', X=val_idx, header='Indices from first radio detection training.', fmt='%i')"
   ]
  },
  {
   "cell_type": "markdown",
   "id": "aab91bc1",
   "metadata": {},
   "source": [
    "---"
   ]
  },
  {
   "cell_type": "markdown",
   "id": "bfa1c5e7",
   "metadata": {},
   "source": [
    "## Use SMOGN for data augmentation at high redshifts"
   ]
  },
  {
   "cell_type": "code",
   "execution_count": 39,
   "id": "d96985bf",
   "metadata": {},
   "outputs": [],
   "source": [
    "backup_train_df = train_df.copy()"
   ]
  },
  {
   "cell_type": "code",
   "execution_count": 40,
   "id": "dfa81585",
   "metadata": {},
   "outputs": [
    {
     "name": "stderr",
     "output_type": "stream",
     "text": [
      "dist_matrix: 100%|###############################| 9/9 [00:00<00:00, 186.44it/s]\n",
      "synth_matrix: 100%|###############################| 9/9 [00:00<00:00, 17.82it/s]\n"
     ]
    }
   ],
   "source": [
    "train_df = smogn.smoter(\n",
    "    \n",
    "    ## main arguments\n",
    "    data          = train_test_df.reset_index(drop=True),           ## pandas dataframe\n",
    "    y             = 'Z',          ## string ('header name')\n",
    "    k             = 10,                    ## positive integer (k < n), 4\n",
    "    samp_method   = 'extreme',  ## string ('balance' or 'extreme')\n",
    "    drop_na_col   = False,\n",
    "    drop_na_row   = False,\n",
    "    under_samp    = True,\n",
    "    seed          = seed,\n",
    "    replace       = False,\n",
    "\n",
    "    ## phi relevance arguments\n",
    "    rel_thres     = 0.85,         ## positive real number (0 < R < 1), 0.5\n",
    "    rel_method    = 'auto',      ## string ('auto' or 'manual')\n",
    "    rel_xtrm_type = 'both',   ## string ('low' or 'both' or 'high')\n",
    "    rel_coef      = 2.00           ## positive real number (0 < R), 2.85\n",
    ")"
   ]
  },
  {
   "cell_type": "code",
   "execution_count": 41,
   "id": "b0edb34e",
   "metadata": {},
   "outputs": [
    {
     "name": "stdout",
     "output_type": "stream",
     "text": [
      "Shape of new used data (after SMOGN)\n",
      "----------------------------------------\n",
      "Data for Modeling (Train and Test): (119, 39)\n",
      "----------------------------------------\n"
     ]
    }
   ],
   "source": [
    "print('Shape of new used data (after SMOGN)')\n",
    "print('-' * 40)\n",
    "print(f'Data for Modeling (Train and Test): {train_df.shape}')\n",
    "print('-' * 40)"
   ]
  },
  {
   "cell_type": "code",
   "execution_count": 42,
   "id": "9d37d94c",
   "metadata": {
    "tags": []
   },
   "outputs": [
    {
     "data": {
      "image/png": "[encoded data removed]",
      "text/plain": [
       "<Figure size 700x450 with 1 Axes>"
      ]
     },
     "metadata": {},
     "output_type": "display_data"
    }
   ],
   "source": [
    "fig             = plt.figure(figsize=(7,4.5))\n",
    "ax1             = fig.add_subplot(111, xscale='linear', yscale='log')\n",
    "\n",
    "min_score  = np.nanmin(full_catalog_df.loc[:, 'Z'])\n",
    "max_score  = np.nanmax(full_catalog_df.loc[:, 'Z'])\n",
    "score_bins = np.linspace(min_score, max_score, 40)\n",
    "\n",
    "ax1.hist(train_df.loc[:, 'Z'], bins=score_bins, histtype='stepfilled', ec='k',\\\n",
    "         lw=3.5, color=cm.get_cmap('cet_gray')(0.95), alpha=1.0, label='SMOGN Train')\n",
    "ax1.hist(backup_train_df.loc[:, 'Z'], bins=score_bins, histtype='stepfilled', ec='k',\\\n",
    "         lw=3.5, color=cm.get_cmap('cet_gray')(0.8), alpha=0.75, label='Original Train')\n",
    "\n",
    "ax1.axvline(x=redshift_low_lim, ls='--', c='k', lw=2.5)\n",
    "    \n",
    "ax1.tick_params(which='both', top=True, right=True, direction='in')\n",
    "ax1.tick_params(axis='both', which='major', labelsize=14)\n",
    "ax1.tick_params(which='major', length=8, width=1.5)\n",
    "ax1.tick_params(which='minor', length=4, width=1.5)\n",
    "ax1.set_xlabel('Redshift', size=20)\n",
    "ax1.set_ylabel('Frequency', size=20)\n",
    "plt.setp(ax1.spines.values(), linewidth=3.5)\n",
    "plt.setp(ax1.spines.values(), linewidth=3.5)\n",
    "plt.legend(loc=1, fontsize=14)\n",
    "plt.grid(False)\n",
    "# ax1.set_xlim(left=min_score - 1e-2, right=max_score + 1e-2)\n",
    "#ax1.set_aspect('equal', 'box')\n",
    "fig.tight_layout()"
   ]
  },
  {
   "cell_type": "markdown",
   "id": "30fdd346",
   "metadata": {},
   "source": [
    "---"
   ]
  },
  {
   "cell_type": "markdown",
   "id": "20e0184c",
   "metadata": {},
   "source": [
    "## Use Correlation matrix to discard some features"
   ]
  },
  {
   "cell_type": "code",
   "execution_count": 43,
   "id": "4d7cf8ce",
   "metadata": {
    "jupyter": {
     "source_hidden": true
    },
    "tags": []
   },
   "outputs": [],
   "source": [
    "min_max_scaler              = MinMaxScaler(feature_range=(0., 1.))\n",
    "full_scaled                 = min_max_scaler.fit_transform(train_test_df.values)\n",
    "norm_train_test_df = pd.DataFrame(data=full_scaled, columns=train_test_df.columns, index=train_test_df.index)"
   ]
  },
  {
   "cell_type": "markdown",
   "id": "f12c99d4",
   "metadata": {},
   "source": [
    "Calculate Reduced Standard deviation to discard between pairs of features:  \n",
    "\n",
    "$$\\mathrm{RSD} = \\frac{\\sigma}{\\mu} \\times 100$$"
   ]
  },
  {
   "cell_type": "code",
   "execution_count": 44,
   "id": "793a102e",
   "metadata": {},
   "outputs": [],
   "source": [
    "rsd_vals = (train_test_df.std() / train_test_df.mean() * 100).sort_values(ascending=False)"
   ]
  },
  {
   "cell_type": "code",
   "execution_count": 45,
   "id": "aba2ecca",
   "metadata": {},
   "outputs": [
    {
     "data": {
      "text/plain": [
       "w1_w2       35843.105377\n",
       "z_y           425.851625\n",
       "i_z           114.287484\n",
       "r_i            94.133169\n",
       "g_r            53.340481\n",
       "g_i            46.884607\n",
       "w2_w3          22.674179\n",
       "band_num       18.431223\n",
       "Z              16.637075\n",
       "w3_w4          11.686377\n",
       "J_H             8.546328\n",
       "H_K             6.891322\n",
       "rmag            6.580169\n",
       "r/H             6.486163\n",
       "gmag            5.665166\n",
       "g/J             5.563220\n",
       "imag            5.456160\n",
       "i/K             5.450657\n",
       "ymag            4.823030\n",
       "zmag            4.814086\n",
       "W1mproPM        4.073805\n",
       "w1/w4           3.974007\n",
       "W2mproPM        3.892614\n",
       "r/z             3.849767\n",
       "w2/w4           3.752020\n",
       "z/W1            3.586647\n",
       "y/W2            3.422781\n",
       "w1/w3           3.325704\n",
       "i/y             3.169009\n",
       "W3mag           1.638622\n",
       "W4mag           0.553316\n",
       "Jmag            0.428465\n",
       "J/K             0.354456\n",
       "Hmag            0.333414\n",
       "FUV/K           0.088700\n",
       "Kmag            0.087865\n",
       "FUV_NUV        -0.000000\n",
       "NUVmag          0.000000\n",
       "FUVmag          0.000000\n",
       "dtype: float64"
      ]
     },
     "execution_count": 45,
     "metadata": {},
     "output_type": "execute_result"
    }
   ],
   "source": [
    "rsd_vals"
   ]
  },
  {
   "cell_type": "code",
   "execution_count": 46,
   "id": "489dfbc1",
   "metadata": {},
   "outputs": [],
   "source": [
    "correlation = norm_train_test_df.corr()"
   ]
  },
  {
   "cell_type": "code",
   "execution_count": 47,
   "id": "2fb243cf",
   "metadata": {
    "jupyter": {
     "source_hidden": true
    },
    "tags": []
   },
   "outputs": [],
   "source": [
    "filt_high_corr = np.array(correlation.abs().unstack().sort_values(ascending=False).drop_duplicates().values > 0.75) &\\\n",
    "np.array(correlation.abs().unstack().sort_values(ascending=False).drop_duplicates().values < 1.00)"
   ]
  },
  {
   "cell_type": "code",
   "execution_count": 48,
   "id": "3c2eb514",
   "metadata": {
    "jupyter": {
     "source_hidden": true
    },
    "tags": []
   },
   "outputs": [],
   "source": [
    "corr_pairs     = correlation.abs().unstack().sort_values(ascending=False).drop_duplicates().index[filt_high_corr]"
   ]
  },
  {
   "cell_type": "code",
   "execution_count": 49,
   "id": "d53b00da",
   "metadata": {},
   "outputs": [],
   "source": [
    "target_feat = 'Z'"
   ]
  },
  {
   "cell_type": "code",
   "execution_count": 50,
   "id": "6feaa1b8",
   "metadata": {
    "jupyter": {
     "source_hidden": true
    },
    "tags": []
   },
   "outputs": [],
   "source": [
    "list_drop_corr = []"
   ]
  },
  {
   "cell_type": "markdown",
   "id": "c32de488",
   "metadata": {},
   "source": [
    "We want to discard features that are highly correlated (>0.75).  \n",
    "Between two features, we will discard the one with the lowest standard deviation (RSD)."
   ]
  },
  {
   "cell_type": "code",
   "execution_count": 51,
   "id": "1d1a2843",
   "metadata": {
    "jupyter": {
     "source_hidden": true
    },
    "tags": []
   },
   "outputs": [],
   "source": [
    "for row in corr_pairs:\n",
    "    if target_feat in row:\n",
    "        continue\n",
    "    elif row[0] in list_drop_corr:\n",
    "        continue\n",
    "    elif row[1] in list_drop_corr:\n",
    "        continue\n",
    "    else:\n",
    "        metric_a = rsd_vals[row[0]]\n",
    "        metric_b = rsd_vals[row[1]]\n",
    "        if metric_a >= metric_b:\n",
    "            list_drop_corr.append(row[1])\n",
    "        else:\n",
    "            list_drop_corr.append(row[0])"
   ]
  },
  {
   "cell_type": "code",
   "execution_count": 52,
   "id": "2c3ba536",
   "metadata": {},
   "outputs": [
    {
     "data": {
      "text/plain": [
       "['i/K',\n",
       " 'J/K',\n",
       " 'r/H',\n",
       " 'Hmag',\n",
       " 'Jmag',\n",
       " 'g/J',\n",
       " 'w1/w4',\n",
       " 'H_K',\n",
       " 'w2/w4',\n",
       " 'zmag',\n",
       " 'W3mag',\n",
       " 'r/z',\n",
       " 'W2mproPM',\n",
       " 'W1mproPM',\n",
       " 'i/y',\n",
       " 'w1/w3',\n",
       " 'gmag',\n",
       " 'imag',\n",
       " 'y/W2',\n",
       " 'rmag',\n",
       " 'Kmag']"
      ]
     },
     "execution_count": 52,
     "metadata": {},
     "output_type": "execute_result"
    }
   ],
   "source": [
    "list_drop_corr"
   ]
  },
  {
   "cell_type": "code",
   "execution_count": 53,
   "id": "1bcd13fe",
   "metadata": {},
   "outputs": [],
   "source": [
    "# correlation.abs().unstack().sort_values(ascending=False).drop_duplicates()[:15]"
   ]
  },
  {
   "cell_type": "code",
   "execution_count": 54,
   "id": "b11393aa",
   "metadata": {},
   "outputs": [],
   "source": [
    "norm_train_test_discard = norm_train_test_df.drop(columns=list_drop_corr)"
   ]
  },
  {
   "cell_type": "code",
   "execution_count": 55,
   "id": "47d68dbc",
   "metadata": {},
   "outputs": [],
   "source": [
    "corr_discard = norm_train_test_discard.corr()"
   ]
  },
  {
   "cell_type": "code",
   "execution_count": 56,
   "id": "3ddf6c3c",
   "metadata": {},
   "outputs": [
    {
     "data": {
      "text/plain": [
       "Z         Z           1.000000\n",
       "FUV/K     J_H         0.784858\n",
       "Z         i_z         0.762966\n",
       "ymag      band_num    0.747939\n",
       "z/W1      z_y         0.747471\n",
       "ymag      w2_w3       0.737542\n",
       "g_i       r_i         0.704379\n",
       "          g_r         0.656044\n",
       "w1_w2     g_r         0.645087\n",
       "band_num  Z           0.593722\n",
       "z/W1      Z           0.593468\n",
       "w2_w3     w3_w4       0.579271\n",
       "Z         w1_w2       0.540392\n",
       "J_H       w3_w4       0.533285\n",
       "w1_w2     z/W1        0.510684\n",
       "dtype: float64"
      ]
     },
     "execution_count": 56,
     "metadata": {},
     "output_type": "execute_result"
    }
   ],
   "source": [
    "corr_discard.abs().unstack().sort_values(ascending=False).drop_duplicates()[:15]"
   ]
  },
  {
   "cell_type": "code",
   "execution_count": 57,
   "id": "b5233d58",
   "metadata": {
    "jupyter": {
     "source_hidden": true
    },
    "tags": []
   },
   "outputs": [
    {
     "data": {
      "text/plain": [
       "Text(1049.9166666666667, 0.5, 'feature')"
      ]
     },
     "execution_count": 57,
     "metadata": {},
     "output_type": "execute_result"
    },
    {
     "data": {
      "image/png": "[encoded data removed]",
      "text/plain": [
       "<Figure size 3000x1500 with 2 Axes>"
      ]
     },
     "metadata": {},
     "output_type": "display_data"
    }
   ],
   "source": [
    "plt.figure(figsize=(30,15))\n",
    "sns.set_context('paper', rc={'axes.labelsize':20, 'axes.ticklabelsize':14})\n",
    "ax1 = sns.heatmap(corr_discard, annot=True, cmap=plt.get_cmap('cet_CET_D1A'), center=0.0, square=True)\n",
    "ax1.set_xlabel('feature')\n",
    "ax1.set_ylabel('feature')"
   ]
  },
  {
   "cell_type": "code",
   "execution_count": 58,
   "id": "d0cd6523",
   "metadata": {},
   "outputs": [],
   "source": [
    "# norm_train_test_discard.loc[:, 'Z'] = norm_train_test_discard.loc[:, 'Z'].astype(bool)"
   ]
  },
  {
   "cell_type": "code",
   "execution_count": 59,
   "id": "86813b30",
   "metadata": {},
   "outputs": [],
   "source": [
    "pps_matrix = pps.matrix(norm_train_test_discard, random_seed=seed)[['x', 'y', 'ppscore']].pivot(columns='x', index='y', values='ppscore')"
   ]
  },
  {
   "cell_type": "code",
   "execution_count": 60,
   "id": "f44b7e37",
   "metadata": {},
   "outputs": [
    {
     "data": {
      "text/plain": [
       "x      y    \n",
       "FUV/K  FUV/K    1.000000\n",
       "g_i    r_i      0.825215\n",
       "       g_r      0.804283\n",
       "Z      r_i      0.786754\n",
       "w2_w3  J_H      0.756131\n",
       "r_i    g_i      0.720133\n",
       "       Z        0.695099\n",
       "i_z    Z        0.689882\n",
       "Z      g_i      0.646808\n",
       "g_i    Z        0.640305\n",
       "Z      g_r      0.631327\n",
       "r_i    g_r      0.585489\n",
       "i_z    r_i      0.556255\n",
       "ymag   w3_w4    0.545744\n",
       "z_y    z/W1     0.545468\n",
       "w2_w3  w1_w2    0.527876\n",
       "Z      z/W1     0.520520\n",
       "i_z    z/W1     0.518602\n",
       "w2_w3  ymag     0.516281\n",
       "i_z    g_i      0.496082\n",
       "dtype: float64"
      ]
     },
     "execution_count": 60,
     "metadata": {},
     "output_type": "execute_result"
    }
   ],
   "source": [
    "pps_matrix.unstack().sort_values(ascending=False).drop_duplicates()[:20]"
   ]
  },
  {
   "cell_type": "code",
   "execution_count": 61,
   "id": "52abf71b",
   "metadata": {
    "jupyter": {
     "source_hidden": true
    },
    "tags": []
   },
   "outputs": [],
   "source": [
    "filt_high_pps = np.array(pps_matrix.abs().unstack().sort_values(ascending=False).drop_duplicates().values > 0.75) &\\\n",
    "np.array(pps_matrix.abs().unstack().sort_values(ascending=False).drop_duplicates().values < 1.00)"
   ]
  },
  {
   "cell_type": "code",
   "execution_count": 62,
   "id": "fdb5ec4f",
   "metadata": {},
   "outputs": [],
   "source": [
    "pps_pairs     = pps_matrix.abs().unstack().sort_values(ascending=False).drop_duplicates().index[filt_high_pps]"
   ]
  },
  {
   "cell_type": "code",
   "execution_count": 63,
   "id": "1c6ff89c",
   "metadata": {},
   "outputs": [],
   "source": [
    "target_feat = 'Z'"
   ]
  },
  {
   "cell_type": "code",
   "execution_count": 64,
   "id": "bf2f1f6e",
   "metadata": {
    "tags": []
   },
   "outputs": [],
   "source": [
    "list_drop_pps = []"
   ]
  },
  {
   "cell_type": "code",
   "execution_count": 65,
   "id": "4e64757d",
   "metadata": {
    "jupyter": {
     "source_hidden": true
    },
    "tags": []
   },
   "outputs": [],
   "source": [
    "for row in pps_pairs:\n",
    "    if target_feat in row:\n",
    "        continue\n",
    "    elif row[0] in list_drop_pps:\n",
    "        continue\n",
    "    elif row[1] in list_drop_pps:\n",
    "        continue\n",
    "    else:\n",
    "        metric_a = rsd_vals[row[0]]\n",
    "        metric_b = rsd_vals[row[1]]\n",
    "        if metric_a >= metric_b:\n",
    "            list_drop_pps.append(row[1])\n",
    "        else:\n",
    "            list_drop_pps.append(row[0])"
   ]
  },
  {
   "cell_type": "code",
   "execution_count": 66,
   "id": "efce12d5",
   "metadata": {},
   "outputs": [
    {
     "data": {
      "text/plain": [
       "['g_i', 'J_H']"
      ]
     },
     "execution_count": 66,
     "metadata": {},
     "output_type": "execute_result"
    }
   ],
   "source": [
    "list_drop_pps"
   ]
  },
  {
   "cell_type": "code",
   "execution_count": 67,
   "id": "309108c5",
   "metadata": {},
   "outputs": [],
   "source": [
    "norm_train_test_discard = norm_train_test_discard.drop(columns=list_drop_pps)"
   ]
  },
  {
   "cell_type": "code",
   "execution_count": 68,
   "id": "cd51220f",
   "metadata": {},
   "outputs": [],
   "source": [
    "pps_pred_target = pps.predictors(norm_train_test_discard, 'Z', random_seed=seed)"
   ]
  },
  {
   "cell_type": "code",
   "execution_count": 69,
   "id": "0aaaaa41",
   "metadata": {},
   "outputs": [
    {
     "data": {
      "text/html": [
       "<div>\n",
       "<style scoped>\n",
       "    .dataframe tbody tr th:only-of-type {\n",
       "        vertical-align: middle;\n",
       "    }\n",
       "\n",
       "    .dataframe tbody tr th {\n",
       "        vertical-align: top;\n",
       "    }\n",
       "\n",
       "    .dataframe thead th {\n",
       "        text-align: right;\n",
       "    }\n",
       "</style>\n",
       "<table border=\"1\" class=\"dataframe\">\n",
       "  <thead>\n",
       "    <tr style=\"text-align: right;\">\n",
       "      <th></th>\n",
       "      <th>x</th>\n",
       "      <th>y</th>\n",
       "      <th>ppscore</th>\n",
       "      <th>case</th>\n",
       "      <th>is_valid_score</th>\n",
       "      <th>metric</th>\n",
       "      <th>baseline_score</th>\n",
       "      <th>model_score</th>\n",
       "      <th>model</th>\n",
       "    </tr>\n",
       "  </thead>\n",
       "  <tbody>\n",
       "    <tr>\n",
       "      <th>0</th>\n",
       "      <td>r_i</td>\n",
       "      <td>Z</td>\n",
       "      <td>0.695099</td>\n",
       "      <td>regression</td>\n",
       "      <td>True</td>\n",
       "      <td>mean absolute error</td>\n",
       "      <td>0.229518</td>\n",
       "      <td>0.069980</td>\n",
       "      <td>DecisionTreeRegressor()</td>\n",
       "    </tr>\n",
       "    <tr>\n",
       "      <th>1</th>\n",
       "      <td>i_z</td>\n",
       "      <td>Z</td>\n",
       "      <td>0.689882</td>\n",
       "      <td>regression</td>\n",
       "      <td>True</td>\n",
       "      <td>mean absolute error</td>\n",
       "      <td>0.229518</td>\n",
       "      <td>0.071178</td>\n",
       "      <td>DecisionTreeRegressor()</td>\n",
       "    </tr>\n",
       "    <tr>\n",
       "      <th>2</th>\n",
       "      <td>z/W1</td>\n",
       "      <td>Z</td>\n",
       "      <td>0.408198</td>\n",
       "      <td>regression</td>\n",
       "      <td>True</td>\n",
       "      <td>mean absolute error</td>\n",
       "      <td>0.229518</td>\n",
       "      <td>0.135829</td>\n",
       "      <td>DecisionTreeRegressor()</td>\n",
       "    </tr>\n",
       "    <tr>\n",
       "      <th>3</th>\n",
       "      <td>w1_w2</td>\n",
       "      <td>Z</td>\n",
       "      <td>0.391523</td>\n",
       "      <td>regression</td>\n",
       "      <td>True</td>\n",
       "      <td>mean absolute error</td>\n",
       "      <td>0.229518</td>\n",
       "      <td>0.139656</td>\n",
       "      <td>DecisionTreeRegressor()</td>\n",
       "    </tr>\n",
       "    <tr>\n",
       "      <th>4</th>\n",
       "      <td>ymag</td>\n",
       "      <td>Z</td>\n",
       "      <td>0.383053</td>\n",
       "      <td>regression</td>\n",
       "      <td>True</td>\n",
       "      <td>mean absolute error</td>\n",
       "      <td>0.229518</td>\n",
       "      <td>0.141601</td>\n",
       "      <td>DecisionTreeRegressor()</td>\n",
       "    </tr>\n",
       "    <tr>\n",
       "      <th>5</th>\n",
       "      <td>g_r</td>\n",
       "      <td>Z</td>\n",
       "      <td>0.369423</td>\n",
       "      <td>regression</td>\n",
       "      <td>True</td>\n",
       "      <td>mean absolute error</td>\n",
       "      <td>0.229518</td>\n",
       "      <td>0.144729</td>\n",
       "      <td>DecisionTreeRegressor()</td>\n",
       "    </tr>\n",
       "    <tr>\n",
       "      <th>6</th>\n",
       "      <td>w2_w3</td>\n",
       "      <td>Z</td>\n",
       "      <td>0.351844</td>\n",
       "      <td>regression</td>\n",
       "      <td>True</td>\n",
       "      <td>mean absolute error</td>\n",
       "      <td>0.229518</td>\n",
       "      <td>0.148764</td>\n",
       "      <td>DecisionTreeRegressor()</td>\n",
       "    </tr>\n",
       "    <tr>\n",
       "      <th>7</th>\n",
       "      <td>band_num</td>\n",
       "      <td>Z</td>\n",
       "      <td>0.320189</td>\n",
       "      <td>regression</td>\n",
       "      <td>True</td>\n",
       "      <td>mean absolute error</td>\n",
       "      <td>0.229518</td>\n",
       "      <td>0.156029</td>\n",
       "      <td>DecisionTreeRegressor()</td>\n",
       "    </tr>\n",
       "    <tr>\n",
       "      <th>8</th>\n",
       "      <td>w3_w4</td>\n",
       "      <td>Z</td>\n",
       "      <td>0.310909</td>\n",
       "      <td>regression</td>\n",
       "      <td>True</td>\n",
       "      <td>mean absolute error</td>\n",
       "      <td>0.229518</td>\n",
       "      <td>0.158159</td>\n",
       "      <td>DecisionTreeRegressor()</td>\n",
       "    </tr>\n",
       "    <tr>\n",
       "      <th>9</th>\n",
       "      <td>z_y</td>\n",
       "      <td>Z</td>\n",
       "      <td>0.221659</td>\n",
       "      <td>regression</td>\n",
       "      <td>True</td>\n",
       "      <td>mean absolute error</td>\n",
       "      <td>0.229518</td>\n",
       "      <td>0.178643</td>\n",
       "      <td>DecisionTreeRegressor()</td>\n",
       "    </tr>\n",
       "    <tr>\n",
       "      <th>10</th>\n",
       "      <td>W4mag</td>\n",
       "      <td>Z</td>\n",
       "      <td>0.194111</td>\n",
       "      <td>regression</td>\n",
       "      <td>True</td>\n",
       "      <td>mean absolute error</td>\n",
       "      <td>0.229518</td>\n",
       "      <td>0.184966</td>\n",
       "      <td>DecisionTreeRegressor()</td>\n",
       "    </tr>\n",
       "    <tr>\n",
       "      <th>11</th>\n",
       "      <td>FUVmag</td>\n",
       "      <td>Z</td>\n",
       "      <td>0.000000</td>\n",
       "      <td>regression</td>\n",
       "      <td>True</td>\n",
       "      <td>mean absolute error</td>\n",
       "      <td>0.229518</td>\n",
       "      <td>0.230857</td>\n",
       "      <td>DecisionTreeRegressor()</td>\n",
       "    </tr>\n",
       "    <tr>\n",
       "      <th>12</th>\n",
       "      <td>NUVmag</td>\n",
       "      <td>Z</td>\n",
       "      <td>0.000000</td>\n",
       "      <td>regression</td>\n",
       "      <td>True</td>\n",
       "      <td>mean absolute error</td>\n",
       "      <td>0.229518</td>\n",
       "      <td>0.230857</td>\n",
       "      <td>DecisionTreeRegressor()</td>\n",
       "    </tr>\n",
       "    <tr>\n",
       "      <th>13</th>\n",
       "      <td>FUV_NUV</td>\n",
       "      <td>Z</td>\n",
       "      <td>0.000000</td>\n",
       "      <td>regression</td>\n",
       "      <td>True</td>\n",
       "      <td>mean absolute error</td>\n",
       "      <td>0.229518</td>\n",
       "      <td>0.230857</td>\n",
       "      <td>DecisionTreeRegressor()</td>\n",
       "    </tr>\n",
       "    <tr>\n",
       "      <th>14</th>\n",
       "      <td>FUV/K</td>\n",
       "      <td>Z</td>\n",
       "      <td>0.000000</td>\n",
       "      <td>regression</td>\n",
       "      <td>True</td>\n",
       "      <td>mean absolute error</td>\n",
       "      <td>0.229518</td>\n",
       "      <td>0.230779</td>\n",
       "      <td>DecisionTreeRegressor()</td>\n",
       "    </tr>\n",
       "  </tbody>\n",
       "</table>\n",
       "</div>"
      ],
      "text/plain": [
       "           x  y   ppscore        case  is_valid_score               metric  \\\n",
       "0        r_i  Z  0.695099  regression            True  mean absolute error   \n",
       "1        i_z  Z  0.689882  regression            True  mean absolute error   \n",
       "2       z/W1  Z  0.408198  regression            True  mean absolute error   \n",
       "3      w1_w2  Z  0.391523  regression            True  mean absolute error   \n",
       "4       ymag  Z  0.383053  regression            True  mean absolute error   \n",
       "5        g_r  Z  0.369423  regression            True  mean absolute error   \n",
       "6      w2_w3  Z  0.351844  regression            True  mean absolute error   \n",
       "7   band_num  Z  0.320189  regression            True  mean absolute error   \n",
       "8      w3_w4  Z  0.310909  regression            True  mean absolute error   \n",
       "9        z_y  Z  0.221659  regression            True  mean absolute error   \n",
       "10     W4mag  Z  0.194111  regression            True  mean absolute error   \n",
       "11    FUVmag  Z  0.000000  regression            True  mean absolute error   \n",
       "12    NUVmag  Z  0.000000  regression            True  mean absolute error   \n",
       "13   FUV_NUV  Z  0.000000  regression            True  mean absolute error   \n",
       "14     FUV/K  Z  0.000000  regression            True  mean absolute error   \n",
       "\n",
       "    baseline_score  model_score                    model  \n",
       "0         0.229518     0.069980  DecisionTreeRegressor()  \n",
       "1         0.229518     0.071178  DecisionTreeRegressor()  \n",
       "2         0.229518     0.135829  DecisionTreeRegressor()  \n",
       "3         0.229518     0.139656  DecisionTreeRegressor()  \n",
       "4         0.229518     0.141601  DecisionTreeRegressor()  \n",
       "5         0.229518     0.144729  DecisionTreeRegressor()  \n",
       "6         0.229518     0.148764  DecisionTreeRegressor()  \n",
       "7         0.229518     0.156029  DecisionTreeRegressor()  \n",
       "8         0.229518     0.158159  DecisionTreeRegressor()  \n",
       "9         0.229518     0.178643  DecisionTreeRegressor()  \n",
       "10        0.229518     0.184966  DecisionTreeRegressor()  \n",
       "11        0.229518     0.230857  DecisionTreeRegressor()  \n",
       "12        0.229518     0.230857  DecisionTreeRegressor()  \n",
       "13        0.229518     0.230857  DecisionTreeRegressor()  \n",
       "14        0.229518     0.230779  DecisionTreeRegressor()  "
      ]
     },
     "execution_count": 69,
     "metadata": {},
     "output_type": "execute_result"
    }
   ],
   "source": [
    "pps_pred_target"
   ]
  },
  {
   "cell_type": "markdown",
   "id": "cf5d87af",
   "metadata": {
    "id": "f567638a-2720-4d09-8fc4-0832c0307148"
   },
   "source": [
    "---"
   ]
  },
  {
   "cell_type": "markdown",
   "id": "de39ff11",
   "metadata": {
    "id": "1b55b413-36ea-4c3a-b261-ae4f4b71045d"
   },
   "source": [
    "## Use Machine Learning (ML): PyCaret"
   ]
  },
  {
   "cell_type": "markdown",
   "id": "b076f82c",
   "metadata": {
    "id": "8BFUMLcApfnI"
   },
   "source": [
    "## Train Models"
   ]
  },
  {
   "cell_type": "markdown",
   "id": "7c67cec4",
   "metadata": {
    "id": "L0rK_gTcprFK"
   },
   "source": [
    "### AGN Detection Prediction"
   ]
  },
  {
   "cell_type": "code",
   "execution_count": 70,
   "id": "2d53f608",
   "metadata": {},
   "outputs": [],
   "source": [
    "final_feats = pps_pred_target.x.to_list()  # Before Boruta\n",
    "if redshift_low_lim == 3.7:\n",
    "    final_feats.remove('W4mag')  # After Boruta\n",
    "    final_feats.remove('FUVmag')  # After Boruta\n",
    "    final_feats.remove('NUVmag')  # After Boruta\n",
    "    final_feats.remove('Kmag')  # After Boruta\n",
    "    final_feats.remove('J_H')  # After Boruta\n",
    "    final_feats.remove('H_K')  # After Boruta\n",
    "    final_feats.remove('FUV_NUV')  # After Boruta\n",
    "elif redshift_low_lim == 3.6:\n",
    "    final_feats.remove('band_num')  # After Boruta\n",
    "    final_feats.remove('W4mag')  # After Boruta\n",
    "    final_feats.remove('FUVmag')  # After Boruta\n",
    "    final_feats.remove('NUVmag')  # After Boruta\n",
    "    final_feats.remove('FUV_NUV')  # After Boruta\n",
    "    final_feats.remove('FUV/K')  # After Boruta"
   ]
  },
  {
   "cell_type": "code",
   "execution_count": 71,
   "id": "9c974ca3",
   "metadata": {},
   "outputs": [],
   "source": [
    "if redshift_low_lim == 3.7:\n",
    "    feats_2_discard = list_drop_corr + list_drop_pps + ['W4mag', 'FUVmag', 'NUVmag', 'Kmag', 'J_H', 'H_K', 'FUV_NUV']\n",
    "elif redshift_low_lim == 3.6:\n",
    "    feats_2_discard = list_drop_corr + list_drop_pps + ['band_num', 'W4mag', 'FUVmag', 'NUVmag', 'FUV_NUV', 'FUV/K']"
   ]
  },
  {
   "cell_type": "markdown",
   "id": "b7efc060",
   "metadata": {},
   "source": [
    "Boruta discards one feature."
   ]
  },
  {
   "cell_type": "code",
   "execution_count": 72,
   "id": "346a8426",
   "metadata": {
    "id": "ttLEcpmVst4j"
   },
   "outputs": [
    {
     "data": {
      "text/html": [
       "<style type=\"text/css\">\n",
       "#T_d5326_row27_col1, #T_d5326_row29_col1, #T_d5326_row42_col1 {\n",
       "  background-color: lightgreen;\n",
       "}\n",
       "</style>\n",
       "<table id=\"T_d5326\">\n",
       "  <thead>\n",
       "    <tr>\n",
       "      <th class=\"blank level0\" >&nbsp;</th>\n",
       "      <th id=\"T_d5326_level0_col0\" class=\"col_heading level0 col0\" >Description</th>\n",
       "      <th id=\"T_d5326_level0_col1\" class=\"col_heading level0 col1\" >Value</th>\n",
       "    </tr>\n",
       "  </thead>\n",
       "  <tbody>\n",
       "    <tr>\n",
       "      <th id=\"T_d5326_level0_row0\" class=\"row_heading level0 row0\" >0</th>\n",
       "      <td id=\"T_d5326_row0_col0\" class=\"data row0 col0\" >session_id</td>\n",
       "      <td id=\"T_d5326_row0_col1\" class=\"data row0 col1\" >42</td>\n",
       "    </tr>\n",
       "    <tr>\n",
       "      <th id=\"T_d5326_level0_row1\" class=\"row_heading level0 row1\" >1</th>\n",
       "      <td id=\"T_d5326_row1_col0\" class=\"data row1 col0\" >Target</td>\n",
       "      <td id=\"T_d5326_row1_col1\" class=\"data row1 col1\" >Z</td>\n",
       "    </tr>\n",
       "    <tr>\n",
       "      <th id=\"T_d5326_level0_row2\" class=\"row_heading level0 row2\" >2</th>\n",
       "      <td id=\"T_d5326_row2_col0\" class=\"data row2 col0\" >Original Data</td>\n",
       "      <td id=\"T_d5326_row2_col1\" class=\"data row2 col1\" >(119, 39)</td>\n",
       "    </tr>\n",
       "    <tr>\n",
       "      <th id=\"T_d5326_level0_row3\" class=\"row_heading level0 row3\" >3</th>\n",
       "      <td id=\"T_d5326_row3_col0\" class=\"data row3 col0\" >Missing Values</td>\n",
       "      <td id=\"T_d5326_row3_col1\" class=\"data row3 col1\" >False</td>\n",
       "    </tr>\n",
       "    <tr>\n",
       "      <th id=\"T_d5326_level0_row4\" class=\"row_heading level0 row4\" >4</th>\n",
       "      <td id=\"T_d5326_row4_col0\" class=\"data row4 col0\" >Numeric Features</td>\n",
       "      <td id=\"T_d5326_row4_col1\" class=\"data row4 col1\" >9</td>\n",
       "    </tr>\n",
       "    <tr>\n",
       "      <th id=\"T_d5326_level0_row5\" class=\"row_heading level0 row5\" >5</th>\n",
       "      <td id=\"T_d5326_row5_col0\" class=\"data row5 col0\" >Categorical Features</td>\n",
       "      <td id=\"T_d5326_row5_col1\" class=\"data row5 col1\" >0</td>\n",
       "    </tr>\n",
       "    <tr>\n",
       "      <th id=\"T_d5326_level0_row6\" class=\"row_heading level0 row6\" >6</th>\n",
       "      <td id=\"T_d5326_row6_col0\" class=\"data row6 col0\" >Ordinal Features</td>\n",
       "      <td id=\"T_d5326_row6_col1\" class=\"data row6 col1\" >False</td>\n",
       "    </tr>\n",
       "    <tr>\n",
       "      <th id=\"T_d5326_level0_row7\" class=\"row_heading level0 row7\" >7</th>\n",
       "      <td id=\"T_d5326_row7_col0\" class=\"data row7 col0\" >High Cardinality Features</td>\n",
       "      <td id=\"T_d5326_row7_col1\" class=\"data row7 col1\" >False</td>\n",
       "    </tr>\n",
       "    <tr>\n",
       "      <th id=\"T_d5326_level0_row8\" class=\"row_heading level0 row8\" >8</th>\n",
       "      <td id=\"T_d5326_row8_col0\" class=\"data row8 col0\" >High Cardinality Method</td>\n",
       "      <td id=\"T_d5326_row8_col1\" class=\"data row8 col1\" >None</td>\n",
       "    </tr>\n",
       "    <tr>\n",
       "      <th id=\"T_d5326_level0_row9\" class=\"row_heading level0 row9\" >9</th>\n",
       "      <td id=\"T_d5326_row9_col0\" class=\"data row9 col0\" >Transformed Train Set</td>\n",
       "      <td id=\"T_d5326_row9_col1\" class=\"data row9 col1\" >(83, 9)</td>\n",
       "    </tr>\n",
       "    <tr>\n",
       "      <th id=\"T_d5326_level0_row10\" class=\"row_heading level0 row10\" >10</th>\n",
       "      <td id=\"T_d5326_row10_col0\" class=\"data row10 col0\" >Transformed Test Set</td>\n",
       "      <td id=\"T_d5326_row10_col1\" class=\"data row10 col1\" >(36, 9)</td>\n",
       "    </tr>\n",
       "    <tr>\n",
       "      <th id=\"T_d5326_level0_row11\" class=\"row_heading level0 row11\" >11</th>\n",
       "      <td id=\"T_d5326_row11_col0\" class=\"data row11 col0\" >Shuffle Train-Test</td>\n",
       "      <td id=\"T_d5326_row11_col1\" class=\"data row11 col1\" >True</td>\n",
       "    </tr>\n",
       "    <tr>\n",
       "      <th id=\"T_d5326_level0_row12\" class=\"row_heading level0 row12\" >12</th>\n",
       "      <td id=\"T_d5326_row12_col0\" class=\"data row12 col0\" >Stratify Train-Test</td>\n",
       "      <td id=\"T_d5326_row12_col1\" class=\"data row12 col1\" >False</td>\n",
       "    </tr>\n",
       "    <tr>\n",
       "      <th id=\"T_d5326_level0_row13\" class=\"row_heading level0 row13\" >13</th>\n",
       "      <td id=\"T_d5326_row13_col0\" class=\"data row13 col0\" >Fold Generator</td>\n",
       "      <td id=\"T_d5326_row13_col1\" class=\"data row13 col1\" >KFold</td>\n",
       "    </tr>\n",
       "    <tr>\n",
       "      <th id=\"T_d5326_level0_row14\" class=\"row_heading level0 row14\" >14</th>\n",
       "      <td id=\"T_d5326_row14_col0\" class=\"data row14 col0\" >Fold Number</td>\n",
       "      <td id=\"T_d5326_row14_col1\" class=\"data row14 col1\" >10</td>\n",
       "    </tr>\n",
       "    <tr>\n",
       "      <th id=\"T_d5326_level0_row15\" class=\"row_heading level0 row15\" >15</th>\n",
       "      <td id=\"T_d5326_row15_col0\" class=\"data row15 col0\" >CPU Jobs</td>\n",
       "      <td id=\"T_d5326_row15_col1\" class=\"data row15 col1\" >12</td>\n",
       "    </tr>\n",
       "    <tr>\n",
       "      <th id=\"T_d5326_level0_row16\" class=\"row_heading level0 row16\" >16</th>\n",
       "      <td id=\"T_d5326_row16_col0\" class=\"data row16 col0\" >Use GPU</td>\n",
       "      <td id=\"T_d5326_row16_col1\" class=\"data row16 col1\" >False</td>\n",
       "    </tr>\n",
       "    <tr>\n",
       "      <th id=\"T_d5326_level0_row17\" class=\"row_heading level0 row17\" >17</th>\n",
       "      <td id=\"T_d5326_row17_col0\" class=\"data row17 col0\" >Log Experiment</td>\n",
       "      <td id=\"T_d5326_row17_col1\" class=\"data row17 col1\" >False</td>\n",
       "    </tr>\n",
       "    <tr>\n",
       "      <th id=\"T_d5326_level0_row18\" class=\"row_heading level0 row18\" >18</th>\n",
       "      <td id=\"T_d5326_row18_col0\" class=\"data row18 col0\" >Experiment Name</td>\n",
       "      <td id=\"T_d5326_row18_col1\" class=\"data row18 col1\" >reg-default-name</td>\n",
       "    </tr>\n",
       "    <tr>\n",
       "      <th id=\"T_d5326_level0_row19\" class=\"row_heading level0 row19\" >19</th>\n",
       "      <td id=\"T_d5326_row19_col0\" class=\"data row19 col0\" >USI</td>\n",
       "      <td id=\"T_d5326_row19_col1\" class=\"data row19 col1\" >0b44</td>\n",
       "    </tr>\n",
       "    <tr>\n",
       "      <th id=\"T_d5326_level0_row20\" class=\"row_heading level0 row20\" >20</th>\n",
       "      <td id=\"T_d5326_row20_col0\" class=\"data row20 col0\" >Imputation Type</td>\n",
       "      <td id=\"T_d5326_row20_col1\" class=\"data row20 col1\" >simple</td>\n",
       "    </tr>\n",
       "    <tr>\n",
       "      <th id=\"T_d5326_level0_row21\" class=\"row_heading level0 row21\" >21</th>\n",
       "      <td id=\"T_d5326_row21_col0\" class=\"data row21 col0\" >Iterative Imputation Iteration</td>\n",
       "      <td id=\"T_d5326_row21_col1\" class=\"data row21 col1\" >None</td>\n",
       "    </tr>\n",
       "    <tr>\n",
       "      <th id=\"T_d5326_level0_row22\" class=\"row_heading level0 row22\" >22</th>\n",
       "      <td id=\"T_d5326_row22_col0\" class=\"data row22 col0\" >Numeric Imputer</td>\n",
       "      <td id=\"T_d5326_row22_col1\" class=\"data row22 col1\" >mean</td>\n",
       "    </tr>\n",
       "    <tr>\n",
       "      <th id=\"T_d5326_level0_row23\" class=\"row_heading level0 row23\" >23</th>\n",
       "      <td id=\"T_d5326_row23_col0\" class=\"data row23 col0\" >Iterative Imputation Numeric Model</td>\n",
       "      <td id=\"T_d5326_row23_col1\" class=\"data row23 col1\" >None</td>\n",
       "    </tr>\n",
       "    <tr>\n",
       "      <th id=\"T_d5326_level0_row24\" class=\"row_heading level0 row24\" >24</th>\n",
       "      <td id=\"T_d5326_row24_col0\" class=\"data row24 col0\" >Categorical Imputer</td>\n",
       "      <td id=\"T_d5326_row24_col1\" class=\"data row24 col1\" >constant</td>\n",
       "    </tr>\n",
       "    <tr>\n",
       "      <th id=\"T_d5326_level0_row25\" class=\"row_heading level0 row25\" >25</th>\n",
       "      <td id=\"T_d5326_row25_col0\" class=\"data row25 col0\" >Iterative Imputation Categorical Model</td>\n",
       "      <td id=\"T_d5326_row25_col1\" class=\"data row25 col1\" >None</td>\n",
       "    </tr>\n",
       "    <tr>\n",
       "      <th id=\"T_d5326_level0_row26\" class=\"row_heading level0 row26\" >26</th>\n",
       "      <td id=\"T_d5326_row26_col0\" class=\"data row26 col0\" >Unknown Categoricals Handling</td>\n",
       "      <td id=\"T_d5326_row26_col1\" class=\"data row26 col1\" >least_frequent</td>\n",
       "    </tr>\n",
       "    <tr>\n",
       "      <th id=\"T_d5326_level0_row27\" class=\"row_heading level0 row27\" >27</th>\n",
       "      <td id=\"T_d5326_row27_col0\" class=\"data row27 col0\" >Normalize</td>\n",
       "      <td id=\"T_d5326_row27_col1\" class=\"data row27 col1\" >True</td>\n",
       "    </tr>\n",
       "    <tr>\n",
       "      <th id=\"T_d5326_level0_row28\" class=\"row_heading level0 row28\" >28</th>\n",
       "      <td id=\"T_d5326_row28_col0\" class=\"data row28 col0\" >Normalize Method</td>\n",
       "      <td id=\"T_d5326_row28_col1\" class=\"data row28 col1\" >zscore</td>\n",
       "    </tr>\n",
       "    <tr>\n",
       "      <th id=\"T_d5326_level0_row29\" class=\"row_heading level0 row29\" >29</th>\n",
       "      <td id=\"T_d5326_row29_col0\" class=\"data row29 col0\" >Transformation</td>\n",
       "      <td id=\"T_d5326_row29_col1\" class=\"data row29 col1\" >True</td>\n",
       "    </tr>\n",
       "    <tr>\n",
       "      <th id=\"T_d5326_level0_row30\" class=\"row_heading level0 row30\" >30</th>\n",
       "      <td id=\"T_d5326_row30_col0\" class=\"data row30 col0\" >Transformation Method</td>\n",
       "      <td id=\"T_d5326_row30_col1\" class=\"data row30 col1\" >yeo-johnson</td>\n",
       "    </tr>\n",
       "    <tr>\n",
       "      <th id=\"T_d5326_level0_row31\" class=\"row_heading level0 row31\" >31</th>\n",
       "      <td id=\"T_d5326_row31_col0\" class=\"data row31 col0\" >PCA</td>\n",
       "      <td id=\"T_d5326_row31_col1\" class=\"data row31 col1\" >False</td>\n",
       "    </tr>\n",
       "    <tr>\n",
       "      <th id=\"T_d5326_level0_row32\" class=\"row_heading level0 row32\" >32</th>\n",
       "      <td id=\"T_d5326_row32_col0\" class=\"data row32 col0\" >PCA Method</td>\n",
       "      <td id=\"T_d5326_row32_col1\" class=\"data row32 col1\" >None</td>\n",
       "    </tr>\n",
       "    <tr>\n",
       "      <th id=\"T_d5326_level0_row33\" class=\"row_heading level0 row33\" >33</th>\n",
       "      <td id=\"T_d5326_row33_col0\" class=\"data row33 col0\" >PCA Components</td>\n",
       "      <td id=\"T_d5326_row33_col1\" class=\"data row33 col1\" >None</td>\n",
       "    </tr>\n",
       "    <tr>\n",
       "      <th id=\"T_d5326_level0_row34\" class=\"row_heading level0 row34\" >34</th>\n",
       "      <td id=\"T_d5326_row34_col0\" class=\"data row34 col0\" >Ignore Low Variance</td>\n",
       "      <td id=\"T_d5326_row34_col1\" class=\"data row34 col1\" >False</td>\n",
       "    </tr>\n",
       "    <tr>\n",
       "      <th id=\"T_d5326_level0_row35\" class=\"row_heading level0 row35\" >35</th>\n",
       "      <td id=\"T_d5326_row35_col0\" class=\"data row35 col0\" >Combine Rare Levels</td>\n",
       "      <td id=\"T_d5326_row35_col1\" class=\"data row35 col1\" >False</td>\n",
       "    </tr>\n",
       "    <tr>\n",
       "      <th id=\"T_d5326_level0_row36\" class=\"row_heading level0 row36\" >36</th>\n",
       "      <td id=\"T_d5326_row36_col0\" class=\"data row36 col0\" >Rare Level Threshold</td>\n",
       "      <td id=\"T_d5326_row36_col1\" class=\"data row36 col1\" >None</td>\n",
       "    </tr>\n",
       "    <tr>\n",
       "      <th id=\"T_d5326_level0_row37\" class=\"row_heading level0 row37\" >37</th>\n",
       "      <td id=\"T_d5326_row37_col0\" class=\"data row37 col0\" >Numeric Binning</td>\n",
       "      <td id=\"T_d5326_row37_col1\" class=\"data row37 col1\" >False</td>\n",
       "    </tr>\n",
       "    <tr>\n",
       "      <th id=\"T_d5326_level0_row38\" class=\"row_heading level0 row38\" >38</th>\n",
       "      <td id=\"T_d5326_row38_col0\" class=\"data row38 col0\" >Remove Outliers</td>\n",
       "      <td id=\"T_d5326_row38_col1\" class=\"data row38 col1\" >False</td>\n",
       "    </tr>\n",
       "    <tr>\n",
       "      <th id=\"T_d5326_level0_row39\" class=\"row_heading level0 row39\" >39</th>\n",
       "      <td id=\"T_d5326_row39_col0\" class=\"data row39 col0\" >Outliers Threshold</td>\n",
       "      <td id=\"T_d5326_row39_col1\" class=\"data row39 col1\" >None</td>\n",
       "    </tr>\n",
       "    <tr>\n",
       "      <th id=\"T_d5326_level0_row40\" class=\"row_heading level0 row40\" >40</th>\n",
       "      <td id=\"T_d5326_row40_col0\" class=\"data row40 col0\" >Remove Multicollinearity</td>\n",
       "      <td id=\"T_d5326_row40_col1\" class=\"data row40 col1\" >False</td>\n",
       "    </tr>\n",
       "    <tr>\n",
       "      <th id=\"T_d5326_level0_row41\" class=\"row_heading level0 row41\" >41</th>\n",
       "      <td id=\"T_d5326_row41_col0\" class=\"data row41 col0\" >Multicollinearity Threshold</td>\n",
       "      <td id=\"T_d5326_row41_col1\" class=\"data row41 col1\" >None</td>\n",
       "    </tr>\n",
       "    <tr>\n",
       "      <th id=\"T_d5326_level0_row42\" class=\"row_heading level0 row42\" >42</th>\n",
       "      <td id=\"T_d5326_row42_col0\" class=\"data row42 col0\" >Remove Perfect Collinearity</td>\n",
       "      <td id=\"T_d5326_row42_col1\" class=\"data row42 col1\" >True</td>\n",
       "    </tr>\n",
       "    <tr>\n",
       "      <th id=\"T_d5326_level0_row43\" class=\"row_heading level0 row43\" >43</th>\n",
       "      <td id=\"T_d5326_row43_col0\" class=\"data row43 col0\" >Clustering</td>\n",
       "      <td id=\"T_d5326_row43_col1\" class=\"data row43 col1\" >False</td>\n",
       "    </tr>\n",
       "    <tr>\n",
       "      <th id=\"T_d5326_level0_row44\" class=\"row_heading level0 row44\" >44</th>\n",
       "      <td id=\"T_d5326_row44_col0\" class=\"data row44 col0\" >Clustering Iteration</td>\n",
       "      <td id=\"T_d5326_row44_col1\" class=\"data row44 col1\" >None</td>\n",
       "    </tr>\n",
       "    <tr>\n",
       "      <th id=\"T_d5326_level0_row45\" class=\"row_heading level0 row45\" >45</th>\n",
       "      <td id=\"T_d5326_row45_col0\" class=\"data row45 col0\" >Polynomial Features</td>\n",
       "      <td id=\"T_d5326_row45_col1\" class=\"data row45 col1\" >False</td>\n",
       "    </tr>\n",
       "    <tr>\n",
       "      <th id=\"T_d5326_level0_row46\" class=\"row_heading level0 row46\" >46</th>\n",
       "      <td id=\"T_d5326_row46_col0\" class=\"data row46 col0\" >Polynomial Degree</td>\n",
       "      <td id=\"T_d5326_row46_col1\" class=\"data row46 col1\" >None</td>\n",
       "    </tr>\n",
       "    <tr>\n",
       "      <th id=\"T_d5326_level0_row47\" class=\"row_heading level0 row47\" >47</th>\n",
       "      <td id=\"T_d5326_row47_col0\" class=\"data row47 col0\" >Trignometry Features</td>\n",
       "      <td id=\"T_d5326_row47_col1\" class=\"data row47 col1\" >False</td>\n",
       "    </tr>\n",
       "    <tr>\n",
       "      <th id=\"T_d5326_level0_row48\" class=\"row_heading level0 row48\" >48</th>\n",
       "      <td id=\"T_d5326_row48_col0\" class=\"data row48 col0\" >Polynomial Threshold</td>\n",
       "      <td id=\"T_d5326_row48_col1\" class=\"data row48 col1\" >None</td>\n",
       "    </tr>\n",
       "    <tr>\n",
       "      <th id=\"T_d5326_level0_row49\" class=\"row_heading level0 row49\" >49</th>\n",
       "      <td id=\"T_d5326_row49_col0\" class=\"data row49 col0\" >Group Features</td>\n",
       "      <td id=\"T_d5326_row49_col1\" class=\"data row49 col1\" >False</td>\n",
       "    </tr>\n",
       "    <tr>\n",
       "      <th id=\"T_d5326_level0_row50\" class=\"row_heading level0 row50\" >50</th>\n",
       "      <td id=\"T_d5326_row50_col0\" class=\"data row50 col0\" >Feature Selection</td>\n",
       "      <td id=\"T_d5326_row50_col1\" class=\"data row50 col1\" >False</td>\n",
       "    </tr>\n",
       "    <tr>\n",
       "      <th id=\"T_d5326_level0_row51\" class=\"row_heading level0 row51\" >51</th>\n",
       "      <td id=\"T_d5326_row51_col0\" class=\"data row51 col0\" >Feature Selection Method</td>\n",
       "      <td id=\"T_d5326_row51_col1\" class=\"data row51 col1\" >boruta</td>\n",
       "    </tr>\n",
       "    <tr>\n",
       "      <th id=\"T_d5326_level0_row52\" class=\"row_heading level0 row52\" >52</th>\n",
       "      <td id=\"T_d5326_row52_col0\" class=\"data row52 col0\" >Features Selection Threshold</td>\n",
       "      <td id=\"T_d5326_row52_col1\" class=\"data row52 col1\" >None</td>\n",
       "    </tr>\n",
       "    <tr>\n",
       "      <th id=\"T_d5326_level0_row53\" class=\"row_heading level0 row53\" >53</th>\n",
       "      <td id=\"T_d5326_row53_col0\" class=\"data row53 col0\" >Feature Interaction</td>\n",
       "      <td id=\"T_d5326_row53_col1\" class=\"data row53 col1\" >False</td>\n",
       "    </tr>\n",
       "    <tr>\n",
       "      <th id=\"T_d5326_level0_row54\" class=\"row_heading level0 row54\" >54</th>\n",
       "      <td id=\"T_d5326_row54_col0\" class=\"data row54 col0\" >Feature Ratio</td>\n",
       "      <td id=\"T_d5326_row54_col1\" class=\"data row54 col1\" >False</td>\n",
       "    </tr>\n",
       "    <tr>\n",
       "      <th id=\"T_d5326_level0_row55\" class=\"row_heading level0 row55\" >55</th>\n",
       "      <td id=\"T_d5326_row55_col0\" class=\"data row55 col0\" >Interaction Threshold</td>\n",
       "      <td id=\"T_d5326_row55_col1\" class=\"data row55 col1\" >None</td>\n",
       "    </tr>\n",
       "    <tr>\n",
       "      <th id=\"T_d5326_level0_row56\" class=\"row_heading level0 row56\" >56</th>\n",
       "      <td id=\"T_d5326_row56_col0\" class=\"data row56 col0\" >Transform Target</td>\n",
       "      <td id=\"T_d5326_row56_col1\" class=\"data row56 col1\" >False</td>\n",
       "    </tr>\n",
       "    <tr>\n",
       "      <th id=\"T_d5326_level0_row57\" class=\"row_heading level0 row57\" >57</th>\n",
       "      <td id=\"T_d5326_row57_col0\" class=\"data row57 col0\" >Transform Target Method</td>\n",
       "      <td id=\"T_d5326_row57_col1\" class=\"data row57 col1\" >box-cox</td>\n",
       "    </tr>\n",
       "  </tbody>\n",
       "</table>\n"
      ],
      "text/plain": [
       "<pandas.io.formats.style.Styler at 0x7fdb1dc5ec70>"
      ]
     },
     "metadata": {},
     "output_type": "display_data"
    }
   ],
   "source": [
    "exp_radio = pyr.setup(data=train_df, test_data=test_df, target='Z', session_id=seed, silent=True,\\\n",
    "                    feature_selection=False, feature_selection_method='boruta',\\\n",
    "                    numeric_features=final_feats, ignore_features=feats_2_discard, transformation=True,\\\n",
    "                    transformation_method='yeo-johnson', n_jobs=12, normalize=True,\\\n",
    "                    normalize_method='zscore', use_gpu=False)  # 15 minutes with Boruta # 5 without"
   ]
  },
  {
   "cell_type": "code",
   "execution_count": 73,
   "id": "79e55d02",
   "metadata": {
    "id": "ykHUiWyetG0G"
   },
   "outputs": [
    {
     "data": {
      "text/plain": [
       "Index(['ymag', 'g_r', 'r_i', 'i_z', 'z_y', 'w1_w2', 'w2_w3', 'w3_w4', 'z/W1'], dtype='object')"
      ]
     },
     "execution_count": 73,
     "metadata": {},
     "output_type": "execute_result"
    }
   ],
   "source": [
    "pyr.get_config('X').columns"
   ]
  },
  {
   "cell_type": "code",
   "execution_count": 74,
   "id": "b146bc23",
   "metadata": {
    "id": "JFF_T52ztI11"
   },
   "outputs": [
    {
     "data": {
      "text/html": [
       "<div>\n",
       "<style scoped>\n",
       "    .dataframe tbody tr th:only-of-type {\n",
       "        vertical-align: middle;\n",
       "    }\n",
       "\n",
       "    .dataframe tbody tr th {\n",
       "        vertical-align: top;\n",
       "    }\n",
       "\n",
       "    .dataframe thead th {\n",
       "        text-align: right;\n",
       "    }\n",
       "</style>\n",
       "<table border=\"1\" class=\"dataframe\">\n",
       "  <thead>\n",
       "    <tr style=\"text-align: right;\">\n",
       "      <th></th>\n",
       "      <th>Name</th>\n",
       "      <th>Reference</th>\n",
       "      <th>Turbo</th>\n",
       "    </tr>\n",
       "    <tr>\n",
       "      <th>ID</th>\n",
       "      <th></th>\n",
       "      <th></th>\n",
       "      <th></th>\n",
       "    </tr>\n",
       "  </thead>\n",
       "  <tbody>\n",
       "    <tr>\n",
       "      <th>lr</th>\n",
       "      <td>Linear Regression</td>\n",
       "      <td>sklearn.linear_model._base.LinearRegression</td>\n",
       "      <td>True</td>\n",
       "    </tr>\n",
       "    <tr>\n",
       "      <th>lasso</th>\n",
       "      <td>Lasso Regression</td>\n",
       "      <td>sklearn.linear_model._coordinate_descent.Lasso</td>\n",
       "      <td>True</td>\n",
       "    </tr>\n",
       "    <tr>\n",
       "      <th>ridge</th>\n",
       "      <td>Ridge Regression</td>\n",
       "      <td>sklearn.linear_model._ridge.Ridge</td>\n",
       "      <td>True</td>\n",
       "    </tr>\n",
       "    <tr>\n",
       "      <th>en</th>\n",
       "      <td>Elastic Net</td>\n",
       "      <td>sklearn.linear_model._coordinate_descent.Elast...</td>\n",
       "      <td>True</td>\n",
       "    </tr>\n",
       "    <tr>\n",
       "      <th>lar</th>\n",
       "      <td>Least Angle Regression</td>\n",
       "      <td>sklearn.linear_model._least_angle.Lars</td>\n",
       "      <td>True</td>\n",
       "    </tr>\n",
       "    <tr>\n",
       "      <th>llar</th>\n",
       "      <td>Lasso Least Angle Regression</td>\n",
       "      <td>sklearn.linear_model._least_angle.LassoLars</td>\n",
       "      <td>True</td>\n",
       "    </tr>\n",
       "    <tr>\n",
       "      <th>omp</th>\n",
       "      <td>Orthogonal Matching Pursuit</td>\n",
       "      <td>sklearn.linear_model._omp.OrthogonalMatchingPu...</td>\n",
       "      <td>True</td>\n",
       "    </tr>\n",
       "    <tr>\n",
       "      <th>br</th>\n",
       "      <td>Bayesian Ridge</td>\n",
       "      <td>sklearn.linear_model._bayes.BayesianRidge</td>\n",
       "      <td>True</td>\n",
       "    </tr>\n",
       "    <tr>\n",
       "      <th>ard</th>\n",
       "      <td>Automatic Relevance Determination</td>\n",
       "      <td>sklearn.linear_model._bayes.ARDRegression</td>\n",
       "      <td>False</td>\n",
       "    </tr>\n",
       "    <tr>\n",
       "      <th>par</th>\n",
       "      <td>Passive Aggressive Regressor</td>\n",
       "      <td>sklearn.linear_model._passive_aggressive.Passi...</td>\n",
       "      <td>True</td>\n",
       "    </tr>\n",
       "    <tr>\n",
       "      <th>ransac</th>\n",
       "      <td>Random Sample Consensus</td>\n",
       "      <td>sklearn.linear_model._ransac.RANSACRegressor</td>\n",
       "      <td>False</td>\n",
       "    </tr>\n",
       "    <tr>\n",
       "      <th>tr</th>\n",
       "      <td>TheilSen Regressor</td>\n",
       "      <td>sklearn.linear_model._theil_sen.TheilSenRegressor</td>\n",
       "      <td>False</td>\n",
       "    </tr>\n",
       "    <tr>\n",
       "      <th>huber</th>\n",
       "      <td>Huber Regressor</td>\n",
       "      <td>sklearn.linear_model._huber.HuberRegressor</td>\n",
       "      <td>True</td>\n",
       "    </tr>\n",
       "    <tr>\n",
       "      <th>kr</th>\n",
       "      <td>Kernel Ridge</td>\n",
       "      <td>sklearn.kernel_ridge.KernelRidge</td>\n",
       "      <td>False</td>\n",
       "    </tr>\n",
       "    <tr>\n",
       "      <th>svm</th>\n",
       "      <td>Support Vector Regression</td>\n",
       "      <td>sklearn.svm._classes.SVR</td>\n",
       "      <td>False</td>\n",
       "    </tr>\n",
       "    <tr>\n",
       "      <th>knn</th>\n",
       "      <td>K Neighbors Regressor</td>\n",
       "      <td>sklearn.neighbors._regression.KNeighborsRegressor</td>\n",
       "      <td>True</td>\n",
       "    </tr>\n",
       "    <tr>\n",
       "      <th>dt</th>\n",
       "      <td>Decision Tree Regressor</td>\n",
       "      <td>sklearn.tree._classes.DecisionTreeRegressor</td>\n",
       "      <td>True</td>\n",
       "    </tr>\n",
       "    <tr>\n",
       "      <th>rf</th>\n",
       "      <td>Random Forest Regressor</td>\n",
       "      <td>sklearn.ensemble._forest.RandomForestRegressor</td>\n",
       "      <td>True</td>\n",
       "    </tr>\n",
       "    <tr>\n",
       "      <th>et</th>\n",
       "      <td>Extra Trees Regressor</td>\n",
       "      <td>sklearn.ensemble._forest.ExtraTreesRegressor</td>\n",
       "      <td>True</td>\n",
       "    </tr>\n",
       "    <tr>\n",
       "      <th>ada</th>\n",
       "      <td>AdaBoost Regressor</td>\n",
       "      <td>sklearn.ensemble._weight_boosting.AdaBoostRegr...</td>\n",
       "      <td>True</td>\n",
       "    </tr>\n",
       "    <tr>\n",
       "      <th>gbr</th>\n",
       "      <td>Gradient Boosting Regressor</td>\n",
       "      <td>sklearn.ensemble._gb.GradientBoostingRegressor</td>\n",
       "      <td>True</td>\n",
       "    </tr>\n",
       "    <tr>\n",
       "      <th>mlp</th>\n",
       "      <td>MLP Regressor</td>\n",
       "      <td>sklearn.neural_network._multilayer_perceptron....</td>\n",
       "      <td>False</td>\n",
       "    </tr>\n",
       "    <tr>\n",
       "      <th>xgboost</th>\n",
       "      <td>Extreme Gradient Boosting</td>\n",
       "      <td>xgboost.sklearn.XGBRegressor</td>\n",
       "      <td>True</td>\n",
       "    </tr>\n",
       "    <tr>\n",
       "      <th>lightgbm</th>\n",
       "      <td>Light Gradient Boosting Machine</td>\n",
       "      <td>lightgbm.sklearn.LGBMRegressor</td>\n",
       "      <td>True</td>\n",
       "    </tr>\n",
       "    <tr>\n",
       "      <th>catboost</th>\n",
       "      <td>CatBoost Regressor</td>\n",
       "      <td>catboost.core.CatBoostRegressor</td>\n",
       "      <td>True</td>\n",
       "    </tr>\n",
       "    <tr>\n",
       "      <th>dummy</th>\n",
       "      <td>Dummy Regressor</td>\n",
       "      <td>sklearn.dummy.DummyRegressor</td>\n",
       "      <td>True</td>\n",
       "    </tr>\n",
       "  </tbody>\n",
       "</table>\n",
       "</div>"
      ],
      "text/plain": [
       "                                       Name  \\\n",
       "ID                                            \n",
       "lr                        Linear Regression   \n",
       "lasso                      Lasso Regression   \n",
       "ridge                      Ridge Regression   \n",
       "en                              Elastic Net   \n",
       "lar                  Least Angle Regression   \n",
       "llar           Lasso Least Angle Regression   \n",
       "omp             Orthogonal Matching Pursuit   \n",
       "br                           Bayesian Ridge   \n",
       "ard       Automatic Relevance Determination   \n",
       "par            Passive Aggressive Regressor   \n",
       "ransac              Random Sample Consensus   \n",
       "tr                       TheilSen Regressor   \n",
       "huber                       Huber Regressor   \n",
       "kr                             Kernel Ridge   \n",
       "svm               Support Vector Regression   \n",
       "knn                   K Neighbors Regressor   \n",
       "dt                  Decision Tree Regressor   \n",
       "rf                  Random Forest Regressor   \n",
       "et                    Extra Trees Regressor   \n",
       "ada                      AdaBoost Regressor   \n",
       "gbr             Gradient Boosting Regressor   \n",
       "mlp                           MLP Regressor   \n",
       "xgboost           Extreme Gradient Boosting   \n",
       "lightgbm    Light Gradient Boosting Machine   \n",
       "catboost                 CatBoost Regressor   \n",
       "dummy                       Dummy Regressor   \n",
       "\n",
       "                                                  Reference  Turbo  \n",
       "ID                                                                  \n",
       "lr              sklearn.linear_model._base.LinearRegression   True  \n",
       "lasso        sklearn.linear_model._coordinate_descent.Lasso   True  \n",
       "ridge                     sklearn.linear_model._ridge.Ridge   True  \n",
       "en        sklearn.linear_model._coordinate_descent.Elast...   True  \n",
       "lar                  sklearn.linear_model._least_angle.Lars   True  \n",
       "llar            sklearn.linear_model._least_angle.LassoLars   True  \n",
       "omp       sklearn.linear_model._omp.OrthogonalMatchingPu...   True  \n",
       "br                sklearn.linear_model._bayes.BayesianRidge   True  \n",
       "ard               sklearn.linear_model._bayes.ARDRegression  False  \n",
       "par       sklearn.linear_model._passive_aggressive.Passi...   True  \n",
       "ransac         sklearn.linear_model._ransac.RANSACRegressor  False  \n",
       "tr        sklearn.linear_model._theil_sen.TheilSenRegressor  False  \n",
       "huber            sklearn.linear_model._huber.HuberRegressor   True  \n",
       "kr                         sklearn.kernel_ridge.KernelRidge  False  \n",
       "svm                                sklearn.svm._classes.SVR  False  \n",
       "knn       sklearn.neighbors._regression.KNeighborsRegressor   True  \n",
       "dt              sklearn.tree._classes.DecisionTreeRegressor   True  \n",
       "rf           sklearn.ensemble._forest.RandomForestRegressor   True  \n",
       "et             sklearn.ensemble._forest.ExtraTreesRegressor   True  \n",
       "ada       sklearn.ensemble._weight_boosting.AdaBoostRegr...   True  \n",
       "gbr          sklearn.ensemble._gb.GradientBoostingRegressor   True  \n",
       "mlp       sklearn.neural_network._multilayer_perceptron....  False  \n",
       "xgboost                        xgboost.sklearn.XGBRegressor   True  \n",
       "lightgbm                     lightgbm.sklearn.LGBMRegressor   True  \n",
       "catboost                    catboost.core.CatBoostRegressor   True  \n",
       "dummy                          sklearn.dummy.DummyRegressor   True  "
      ]
     },
     "execution_count": 74,
     "metadata": {},
     "output_type": "execute_result"
    }
   ],
   "source": [
    "pyr.models()"
   ]
  },
  {
   "cell_type": "markdown",
   "id": "275d1e5d",
   "metadata": {},
   "source": [
    "Add custom metrics"
   ]
  },
  {
   "cell_type": "code",
   "execution_count": 75,
   "id": "402b2bad",
   "metadata": {},
   "outputs": [
    {
     "data": {
      "text/plain": [
       "Name                                                        outlier_fr\n",
       "Display Name                                                outlier_fr\n",
       "Score Function               <function outlier_frac at 0x7fdbc64441f0>\n",
       "Scorer               make_scorer(outlier_frac, greater_is_better=Fa...\n",
       "Target                                                            pred\n",
       "Args                                                                {}\n",
       "Greater is Better                                                False\n",
       "Custom                                                            True\n",
       "Name: out_f, dtype: object"
      ]
     },
     "execution_count": 75,
     "metadata": {},
     "output_type": "execute_result"
    }
   ],
   "source": [
    "pyr.add_metric('s_mad',  'sigma_mad',    sigma_mad,    greater_is_better=False)\n",
    "pyr.add_metric('s_nmad', 'sigma_nmad',   sigma_nmad,   greater_is_better=False)\n",
    "pyr.add_metric('s_z',    'sigma_z',      sigma_z,      greater_is_better=False)\n",
    "pyr.add_metric('s_z_n',  'sigma_z_norm', sigma_z_norm, greater_is_better=False)\n",
    "pyr.add_metric('out_f',  'outlier_fr',   outlier_frac, greater_is_better=False)"
   ]
  },
  {
   "cell_type": "code",
   "execution_count": 76,
   "id": "0fa821e0",
   "metadata": {
    "id": "m3mCNspXtLnI"
   },
   "outputs": [
    {
     "data": {
      "text/html": [
       "<style type=\"text/css\">\n",
       "#T_3eaeb th {\n",
       "  text-align: left;\n",
       "}\n",
       "#T_3eaeb_row0_col0, #T_3eaeb_row0_col1, #T_3eaeb_row0_col2, #T_3eaeb_row0_col3, #T_3eaeb_row0_col4, #T_3eaeb_row0_col5, #T_3eaeb_row0_col6, #T_3eaeb_row0_col9, #T_3eaeb_row0_col10, #T_3eaeb_row0_col11, #T_3eaeb_row1_col0, #T_3eaeb_row1_col2, #T_3eaeb_row1_col3, #T_3eaeb_row1_col4, #T_3eaeb_row1_col5, #T_3eaeb_row1_col7, #T_3eaeb_row1_col8, #T_3eaeb_row1_col9, #T_3eaeb_row1_col10, #T_3eaeb_row1_col11, #T_3eaeb_row2_col0, #T_3eaeb_row2_col1, #T_3eaeb_row2_col2, #T_3eaeb_row2_col3, #T_3eaeb_row2_col4, #T_3eaeb_row2_col5, #T_3eaeb_row2_col6, #T_3eaeb_row2_col7, #T_3eaeb_row2_col8, #T_3eaeb_row2_col9, #T_3eaeb_row2_col10, #T_3eaeb_row2_col11, #T_3eaeb_row3_col0, #T_3eaeb_row3_col1, #T_3eaeb_row3_col2, #T_3eaeb_row3_col3, #T_3eaeb_row3_col4, #T_3eaeb_row3_col5, #T_3eaeb_row3_col6, #T_3eaeb_row3_col7, #T_3eaeb_row3_col8, #T_3eaeb_row3_col9, #T_3eaeb_row3_col10, #T_3eaeb_row4_col0, #T_3eaeb_row4_col1, #T_3eaeb_row4_col2, #T_3eaeb_row4_col3, #T_3eaeb_row4_col4, #T_3eaeb_row4_col5, #T_3eaeb_row4_col6, #T_3eaeb_row4_col7, #T_3eaeb_row4_col8, #T_3eaeb_row4_col9, #T_3eaeb_row4_col10, #T_3eaeb_row4_col11, #T_3eaeb_row5_col0, #T_3eaeb_row5_col1, #T_3eaeb_row5_col2, #T_3eaeb_row5_col3, #T_3eaeb_row5_col4, #T_3eaeb_row5_col5, #T_3eaeb_row5_col6, #T_3eaeb_row5_col7, #T_3eaeb_row5_col8, #T_3eaeb_row5_col9, #T_3eaeb_row5_col10, #T_3eaeb_row5_col11, #T_3eaeb_row6_col0, #T_3eaeb_row6_col1, #T_3eaeb_row6_col6, #T_3eaeb_row6_col7, #T_3eaeb_row6_col8, #T_3eaeb_row7_col0, #T_3eaeb_row7_col1, #T_3eaeb_row7_col2, #T_3eaeb_row7_col3, #T_3eaeb_row7_col4, #T_3eaeb_row7_col5, #T_3eaeb_row7_col6, #T_3eaeb_row7_col7, #T_3eaeb_row7_col8, #T_3eaeb_row7_col9, #T_3eaeb_row7_col10, #T_3eaeb_row7_col11, #T_3eaeb_row8_col0, #T_3eaeb_row8_col1, #T_3eaeb_row8_col2, #T_3eaeb_row8_col3, #T_3eaeb_row8_col4, #T_3eaeb_row8_col5, #T_3eaeb_row8_col6, #T_3eaeb_row8_col7, #T_3eaeb_row8_col8, #T_3eaeb_row8_col9, #T_3eaeb_row8_col10, #T_3eaeb_row8_col11, #T_3eaeb_row9_col0, #T_3eaeb_row9_col1, #T_3eaeb_row9_col2, #T_3eaeb_row9_col3, #T_3eaeb_row9_col4, #T_3eaeb_row9_col5, #T_3eaeb_row9_col6, #T_3eaeb_row9_col7, #T_3eaeb_row9_col8, #T_3eaeb_row9_col9, #T_3eaeb_row9_col10, #T_3eaeb_row10_col0, #T_3eaeb_row10_col1, #T_3eaeb_row10_col2, #T_3eaeb_row10_col3, #T_3eaeb_row10_col4, #T_3eaeb_row10_col5, #T_3eaeb_row10_col6, #T_3eaeb_row10_col7, #T_3eaeb_row10_col8, #T_3eaeb_row10_col9, #T_3eaeb_row10_col10, #T_3eaeb_row11_col0, #T_3eaeb_row11_col1, #T_3eaeb_row11_col2, #T_3eaeb_row11_col3, #T_3eaeb_row11_col4, #T_3eaeb_row11_col5, #T_3eaeb_row11_col6, #T_3eaeb_row11_col7, #T_3eaeb_row11_col8, #T_3eaeb_row11_col9, #T_3eaeb_row11_col10, #T_3eaeb_row12_col0, #T_3eaeb_row12_col1, #T_3eaeb_row12_col2, #T_3eaeb_row12_col3, #T_3eaeb_row12_col4, #T_3eaeb_row12_col5, #T_3eaeb_row12_col6, #T_3eaeb_row12_col7, #T_3eaeb_row12_col8, #T_3eaeb_row12_col9, #T_3eaeb_row12_col10, #T_3eaeb_row12_col11, #T_3eaeb_row13_col0, #T_3eaeb_row13_col1, #T_3eaeb_row13_col2, #T_3eaeb_row13_col3, #T_3eaeb_row13_col4, #T_3eaeb_row13_col5, #T_3eaeb_row13_col6, #T_3eaeb_row13_col7, #T_3eaeb_row13_col8, #T_3eaeb_row13_col9, #T_3eaeb_row13_col10, #T_3eaeb_row13_col11, #T_3eaeb_row14_col0, #T_3eaeb_row14_col1, #T_3eaeb_row14_col2, #T_3eaeb_row14_col3, #T_3eaeb_row14_col4, #T_3eaeb_row14_col5, #T_3eaeb_row14_col6, #T_3eaeb_row14_col7, #T_3eaeb_row14_col8, #T_3eaeb_row14_col9, #T_3eaeb_row14_col10, #T_3eaeb_row14_col11, #T_3eaeb_row15_col0, #T_3eaeb_row15_col1, #T_3eaeb_row15_col2, #T_3eaeb_row15_col3, #T_3eaeb_row15_col4, #T_3eaeb_row15_col5, #T_3eaeb_row15_col6, #T_3eaeb_row15_col7, #T_3eaeb_row15_col8, #T_3eaeb_row15_col9, #T_3eaeb_row15_col10, #T_3eaeb_row15_col11, #T_3eaeb_row16_col0, #T_3eaeb_row16_col1, #T_3eaeb_row16_col2, #T_3eaeb_row16_col3, #T_3eaeb_row16_col4, #T_3eaeb_row16_col5, #T_3eaeb_row16_col6, #T_3eaeb_row16_col7, #T_3eaeb_row16_col8, #T_3eaeb_row16_col9, #T_3eaeb_row16_col10, #T_3eaeb_row16_col11, #T_3eaeb_row17_col0, #T_3eaeb_row17_col1, #T_3eaeb_row17_col2, #T_3eaeb_row17_col3, #T_3eaeb_row17_col4, #T_3eaeb_row17_col5, #T_3eaeb_row17_col6, #T_3eaeb_row17_col7, #T_3eaeb_row17_col8, #T_3eaeb_row17_col9, #T_3eaeb_row17_col10, #T_3eaeb_row17_col11, #T_3eaeb_row18_col0, #T_3eaeb_row18_col1, #T_3eaeb_row18_col2, #T_3eaeb_row18_col3, #T_3eaeb_row18_col4, #T_3eaeb_row18_col5, #T_3eaeb_row18_col6, #T_3eaeb_row18_col7, #T_3eaeb_row18_col8, #T_3eaeb_row18_col9, #T_3eaeb_row18_col10, #T_3eaeb_row18_col11 {\n",
       "  text-align: left;\n",
       "}\n",
       "#T_3eaeb_row0_col7, #T_3eaeb_row0_col8, #T_3eaeb_row1_col1, #T_3eaeb_row1_col6, #T_3eaeb_row3_col11, #T_3eaeb_row6_col2, #T_3eaeb_row6_col3, #T_3eaeb_row6_col4, #T_3eaeb_row6_col5, #T_3eaeb_row6_col9, #T_3eaeb_row6_col10, #T_3eaeb_row6_col11, #T_3eaeb_row9_col11, #T_3eaeb_row10_col11, #T_3eaeb_row11_col11 {\n",
       "  text-align: left;\n",
       "  background-color: yellow;\n",
       "}\n",
       "#T_3eaeb_row0_col12, #T_3eaeb_row1_col12, #T_3eaeb_row2_col12, #T_3eaeb_row3_col12, #T_3eaeb_row4_col12, #T_3eaeb_row5_col12, #T_3eaeb_row6_col12, #T_3eaeb_row7_col12, #T_3eaeb_row8_col12, #T_3eaeb_row9_col12, #T_3eaeb_row10_col12, #T_3eaeb_row11_col12, #T_3eaeb_row13_col12, #T_3eaeb_row14_col12, #T_3eaeb_row15_col12, #T_3eaeb_row16_col12, #T_3eaeb_row17_col12 {\n",
       "  text-align: left;\n",
       "  background-color: lightgrey;\n",
       "}\n",
       "#T_3eaeb_row12_col12, #T_3eaeb_row18_col12 {\n",
       "  text-align: left;\n",
       "  background-color: yellow;\n",
       "  background-color: lightgrey;\n",
       "}\n",
       "</style>\n",
       "<table id=\"T_3eaeb\">\n",
       "  <thead>\n",
       "    <tr>\n",
       "      <th class=\"blank level0\" >&nbsp;</th>\n",
       "      <th id=\"T_3eaeb_level0_col0\" class=\"col_heading level0 col0\" >Model</th>\n",
       "      <th id=\"T_3eaeb_level0_col1\" class=\"col_heading level0 col1\" >MAE</th>\n",
       "      <th id=\"T_3eaeb_level0_col2\" class=\"col_heading level0 col2\" >MSE</th>\n",
       "      <th id=\"T_3eaeb_level0_col3\" class=\"col_heading level0 col3\" >RMSE</th>\n",
       "      <th id=\"T_3eaeb_level0_col4\" class=\"col_heading level0 col4\" >R2</th>\n",
       "      <th id=\"T_3eaeb_level0_col5\" class=\"col_heading level0 col5\" >RMSLE</th>\n",
       "      <th id=\"T_3eaeb_level0_col6\" class=\"col_heading level0 col6\" >MAPE</th>\n",
       "      <th id=\"T_3eaeb_level0_col7\" class=\"col_heading level0 col7\" >sigma_mad</th>\n",
       "      <th id=\"T_3eaeb_level0_col8\" class=\"col_heading level0 col8\" >sigma_nmad</th>\n",
       "      <th id=\"T_3eaeb_level0_col9\" class=\"col_heading level0 col9\" >sigma_z</th>\n",
       "      <th id=\"T_3eaeb_level0_col10\" class=\"col_heading level0 col10\" >sigma_z_norm</th>\n",
       "      <th id=\"T_3eaeb_level0_col11\" class=\"col_heading level0 col11\" >outlier_fr</th>\n",
       "      <th id=\"T_3eaeb_level0_col12\" class=\"col_heading level0 col12\" >TT (Sec)</th>\n",
       "    </tr>\n",
       "  </thead>\n",
       "  <tbody>\n",
       "    <tr>\n",
       "      <th id=\"T_3eaeb_level0_row0\" class=\"row_heading level0 row0\" >xgboost</th>\n",
       "      <td id=\"T_3eaeb_row0_col0\" class=\"data row0 col0\" >Extreme Gradient Boosting</td>\n",
       "      <td id=\"T_3eaeb_row0_col1\" class=\"data row0 col1\" >0.1226</td>\n",
       "      <td id=\"T_3eaeb_row0_col2\" class=\"data row0 col2\" >0.0749</td>\n",
       "      <td id=\"T_3eaeb_row0_col3\" class=\"data row0 col3\" >0.2143</td>\n",
       "      <td id=\"T_3eaeb_row0_col4\" class=\"data row0 col4\" >0.3928</td>\n",
       "      <td id=\"T_3eaeb_row0_col5\" class=\"data row0 col5\" >0.0405</td>\n",
       "      <td id=\"T_3eaeb_row0_col6\" class=\"data row0 col6\" >0.0304</td>\n",
       "      <td id=\"T_3eaeb_row0_col7\" class=\"data row0 col7\" >0.0654</td>\n",
       "      <td id=\"T_3eaeb_row0_col8\" class=\"data row0 col8\" >0.0130</td>\n",
       "      <td id=\"T_3eaeb_row0_col9\" class=\"data row0 col9\" >0.2143</td>\n",
       "      <td id=\"T_3eaeb_row0_col10\" class=\"data row0 col10\" >0.0430</td>\n",
       "      <td id=\"T_3eaeb_row0_col11\" class=\"data row0 col11\" >0.0361</td>\n",
       "      <td id=\"T_3eaeb_row0_col12\" class=\"data row0 col12\" >2.9270</td>\n",
       "    </tr>\n",
       "    <tr>\n",
       "      <th id=\"T_3eaeb_level0_row1\" class=\"row_heading level0 row1\" >et</th>\n",
       "      <td id=\"T_3eaeb_row1_col0\" class=\"data row1 col0\" >Extra Trees Regressor</td>\n",
       "      <td id=\"T_3eaeb_row1_col1\" class=\"data row1 col1\" >0.0983</td>\n",
       "      <td id=\"T_3eaeb_row1_col2\" class=\"data row1 col2\" >0.0420</td>\n",
       "      <td id=\"T_3eaeb_row1_col3\" class=\"data row1 col3\" >0.1689</td>\n",
       "      <td id=\"T_3eaeb_row1_col4\" class=\"data row1 col4\" >0.8705</td>\n",
       "      <td id=\"T_3eaeb_row1_col5\" class=\"data row1 col5\" >0.0323</td>\n",
       "      <td id=\"T_3eaeb_row1_col6\" class=\"data row1 col6\" >0.0244</td>\n",
       "      <td id=\"T_3eaeb_row1_col7\" class=\"data row1 col7\" >0.0696</td>\n",
       "      <td id=\"T_3eaeb_row1_col8\" class=\"data row1 col8\" >0.0133</td>\n",
       "      <td id=\"T_3eaeb_row1_col9\" class=\"data row1 col9\" >0.1689</td>\n",
       "      <td id=\"T_3eaeb_row1_col10\" class=\"data row1 col10\" >0.0340</td>\n",
       "      <td id=\"T_3eaeb_row1_col11\" class=\"data row1 col11\" >0.0347</td>\n",
       "      <td id=\"T_3eaeb_row1_col12\" class=\"data row1 col12\" >0.0280</td>\n",
       "    </tr>\n",
       "    <tr>\n",
       "      <th id=\"T_3eaeb_level0_row2\" class=\"row_heading level0 row2\" >dt</th>\n",
       "      <td id=\"T_3eaeb_row2_col0\" class=\"data row2 col0\" >Decision Tree Regressor</td>\n",
       "      <td id=\"T_3eaeb_row2_col1\" class=\"data row2 col1\" >0.1123</td>\n",
       "      <td id=\"T_3eaeb_row2_col2\" class=\"data row2 col2\" >0.0843</td>\n",
       "      <td id=\"T_3eaeb_row2_col3\" class=\"data row2 col3\" >0.2058</td>\n",
       "      <td id=\"T_3eaeb_row2_col4\" class=\"data row2 col4\" >0.3406</td>\n",
       "      <td id=\"T_3eaeb_row2_col5\" class=\"data row2 col5\" >0.0377</td>\n",
       "      <td id=\"T_3eaeb_row2_col6\" class=\"data row2 col6\" >0.0276</td>\n",
       "      <td id=\"T_3eaeb_row2_col7\" class=\"data row2 col7\" >0.0768</td>\n",
       "      <td id=\"T_3eaeb_row2_col8\" class=\"data row2 col8\" >0.0152</td>\n",
       "      <td id=\"T_3eaeb_row2_col9\" class=\"data row2 col9\" >0.2058</td>\n",
       "      <td id=\"T_3eaeb_row2_col10\" class=\"data row2 col10\" >0.0406</td>\n",
       "      <td id=\"T_3eaeb_row2_col11\" class=\"data row2 col11\" >0.0250</td>\n",
       "      <td id=\"T_3eaeb_row2_col12\" class=\"data row2 col12\" >0.0090</td>\n",
       "    </tr>\n",
       "    <tr>\n",
       "      <th id=\"T_3eaeb_level0_row3\" class=\"row_heading level0 row3\" >catboost</th>\n",
       "      <td id=\"T_3eaeb_row3_col0\" class=\"data row3 col0\" >CatBoost Regressor</td>\n",
       "      <td id=\"T_3eaeb_row3_col1\" class=\"data row3 col1\" >0.1024</td>\n",
       "      <td id=\"T_3eaeb_row3_col2\" class=\"data row3 col2\" >0.0318</td>\n",
       "      <td id=\"T_3eaeb_row3_col3\" class=\"data row3 col3\" >0.1593</td>\n",
       "      <td id=\"T_3eaeb_row3_col4\" class=\"data row3 col4\" >0.8930</td>\n",
       "      <td id=\"T_3eaeb_row3_col5\" class=\"data row3 col5\" >0.0304</td>\n",
       "      <td id=\"T_3eaeb_row3_col6\" class=\"data row3 col6\" >0.0251</td>\n",
       "      <td id=\"T_3eaeb_row3_col7\" class=\"data row3 col7\" >0.0825</td>\n",
       "      <td id=\"T_3eaeb_row3_col8\" class=\"data row3 col8\" >0.0156</td>\n",
       "      <td id=\"T_3eaeb_row3_col9\" class=\"data row3 col9\" >0.1593</td>\n",
       "      <td id=\"T_3eaeb_row3_col10\" class=\"data row3 col10\" >0.0315</td>\n",
       "      <td id=\"T_3eaeb_row3_col11\" class=\"data row3 col11\" >0.0125</td>\n",
       "      <td id=\"T_3eaeb_row3_col12\" class=\"data row3 col12\" >0.1500</td>\n",
       "    </tr>\n",
       "    <tr>\n",
       "      <th id=\"T_3eaeb_level0_row4\" class=\"row_heading level0 row4\" >gbr</th>\n",
       "      <td id=\"T_3eaeb_row4_col0\" class=\"data row4 col0\" >Gradient Boosting Regressor</td>\n",
       "      <td id=\"T_3eaeb_row4_col1\" class=\"data row4 col1\" >0.1152</td>\n",
       "      <td id=\"T_3eaeb_row4_col2\" class=\"data row4 col2\" >0.0607</td>\n",
       "      <td id=\"T_3eaeb_row4_col3\" class=\"data row4 col3\" >0.1953</td>\n",
       "      <td id=\"T_3eaeb_row4_col4\" class=\"data row4 col4\" >0.4500</td>\n",
       "      <td id=\"T_3eaeb_row4_col5\" class=\"data row4 col5\" >0.0362</td>\n",
       "      <td id=\"T_3eaeb_row4_col6\" class=\"data row4 col6\" >0.0281</td>\n",
       "      <td id=\"T_3eaeb_row4_col7\" class=\"data row4 col7\" >0.0870</td>\n",
       "      <td id=\"T_3eaeb_row4_col8\" class=\"data row4 col8\" >0.0170</td>\n",
       "      <td id=\"T_3eaeb_row4_col9\" class=\"data row4 col9\" >0.1953</td>\n",
       "      <td id=\"T_3eaeb_row4_col10\" class=\"data row4 col10\" >0.0384</td>\n",
       "      <td id=\"T_3eaeb_row4_col11\" class=\"data row4 col11\" >0.0361</td>\n",
       "      <td id=\"T_3eaeb_row4_col12\" class=\"data row4 col12\" >0.0130</td>\n",
       "    </tr>\n",
       "    <tr>\n",
       "      <th id=\"T_3eaeb_level0_row5\" class=\"row_heading level0 row5\" >rf</th>\n",
       "      <td id=\"T_3eaeb_row5_col0\" class=\"data row5 col0\" >Random Forest Regressor</td>\n",
       "      <td id=\"T_3eaeb_row5_col1\" class=\"data row5 col1\" >0.1241</td>\n",
       "      <td id=\"T_3eaeb_row5_col2\" class=\"data row5 col2\" >0.0647</td>\n",
       "      <td id=\"T_3eaeb_row5_col3\" class=\"data row5 col3\" >0.2053</td>\n",
       "      <td id=\"T_3eaeb_row5_col4\" class=\"data row5 col4\" >0.5616</td>\n",
       "      <td id=\"T_3eaeb_row5_col5\" class=\"data row5 col5\" >0.0382</td>\n",
       "      <td id=\"T_3eaeb_row5_col6\" class=\"data row5 col6\" >0.0301</td>\n",
       "      <td id=\"T_3eaeb_row5_col7\" class=\"data row5 col7\" >0.0979</td>\n",
       "      <td id=\"T_3eaeb_row5_col8\" class=\"data row5 col8\" >0.0171</td>\n",
       "      <td id=\"T_3eaeb_row5_col9\" class=\"data row5 col9\" >0.2053</td>\n",
       "      <td id=\"T_3eaeb_row5_col10\" class=\"data row5 col10\" >0.0408</td>\n",
       "      <td id=\"T_3eaeb_row5_col11\" class=\"data row5 col11\" >0.0361</td>\n",
       "      <td id=\"T_3eaeb_row5_col12\" class=\"data row5 col12\" >0.0330</td>\n",
       "    </tr>\n",
       "    <tr>\n",
       "      <th id=\"T_3eaeb_level0_row6\" class=\"row_heading level0 row6\" >ada</th>\n",
       "      <td id=\"T_3eaeb_row6_col0\" class=\"data row6 col0\" >AdaBoost Regressor</td>\n",
       "      <td id=\"T_3eaeb_row6_col1\" class=\"data row6 col1\" >0.1063</td>\n",
       "      <td id=\"T_3eaeb_row6_col2\" class=\"data row6 col2\" >0.0309</td>\n",
       "      <td id=\"T_3eaeb_row6_col3\" class=\"data row6 col3\" >0.1521</td>\n",
       "      <td id=\"T_3eaeb_row6_col4\" class=\"data row6 col4\" >0.9284</td>\n",
       "      <td id=\"T_3eaeb_row6_col5\" class=\"data row6 col5\" >0.0292</td>\n",
       "      <td id=\"T_3eaeb_row6_col6\" class=\"data row6 col6\" >0.0256</td>\n",
       "      <td id=\"T_3eaeb_row6_col7\" class=\"data row6 col7\" >0.1040</td>\n",
       "      <td id=\"T_3eaeb_row6_col8\" class=\"data row6 col8\" >0.0192</td>\n",
       "      <td id=\"T_3eaeb_row6_col9\" class=\"data row6 col9\" >0.1521</td>\n",
       "      <td id=\"T_3eaeb_row6_col10\" class=\"data row6 col10\" >0.0300</td>\n",
       "      <td id=\"T_3eaeb_row6_col11\" class=\"data row6 col11\" >0.0125</td>\n",
       "      <td id=\"T_3eaeb_row6_col12\" class=\"data row6 col12\" >0.0160</td>\n",
       "    </tr>\n",
       "    <tr>\n",
       "      <th id=\"T_3eaeb_level0_row7\" class=\"row_heading level0 row7\" >lightgbm</th>\n",
       "      <td id=\"T_3eaeb_row7_col0\" class=\"data row7 col0\" >Light Gradient Boosting Machine</td>\n",
       "      <td id=\"T_3eaeb_row7_col1\" class=\"data row7 col1\" >0.1879</td>\n",
       "      <td id=\"T_3eaeb_row7_col2\" class=\"data row7 col2\" >0.0868</td>\n",
       "      <td id=\"T_3eaeb_row7_col3\" class=\"data row7 col3\" >0.2597</td>\n",
       "      <td id=\"T_3eaeb_row7_col4\" class=\"data row7 col4\" >0.6278</td>\n",
       "      <td id=\"T_3eaeb_row7_col5\" class=\"data row7 col5\" >0.0472</td>\n",
       "      <td id=\"T_3eaeb_row7_col6\" class=\"data row7 col6\" >0.0437</td>\n",
       "      <td id=\"T_3eaeb_row7_col7\" class=\"data row7 col7\" >0.1805</td>\n",
       "      <td id=\"T_3eaeb_row7_col8\" class=\"data row7 col8\" >0.0336</td>\n",
       "      <td id=\"T_3eaeb_row7_col9\" class=\"data row7 col9\" >0.2597</td>\n",
       "      <td id=\"T_3eaeb_row7_col10\" class=\"data row7 col10\" >0.0495</td>\n",
       "      <td id=\"T_3eaeb_row7_col11\" class=\"data row7 col11\" >0.0472</td>\n",
       "      <td id=\"T_3eaeb_row7_col12\" class=\"data row7 col12\" >2.1070</td>\n",
       "    </tr>\n",
       "    <tr>\n",
       "      <th id=\"T_3eaeb_level0_row8\" class=\"row_heading level0 row8\" >huber</th>\n",
       "      <td id=\"T_3eaeb_row8_col0\" class=\"data row8 col0\" >Huber Regressor</td>\n",
       "      <td id=\"T_3eaeb_row8_col1\" class=\"data row8 col1\" >0.3187</td>\n",
       "      <td id=\"T_3eaeb_row8_col2\" class=\"data row8 col2\" >0.1523</td>\n",
       "      <td id=\"T_3eaeb_row8_col3\" class=\"data row8 col3\" >0.3797</td>\n",
       "      <td id=\"T_3eaeb_row8_col4\" class=\"data row8 col4\" >0.0896</td>\n",
       "      <td id=\"T_3eaeb_row8_col5\" class=\"data row8 col5\" >0.0708</td>\n",
       "      <td id=\"T_3eaeb_row8_col6\" class=\"data row8 col6\" >0.0720</td>\n",
       "      <td id=\"T_3eaeb_row8_col7\" class=\"data row8 col7\" >0.4109</td>\n",
       "      <td id=\"T_3eaeb_row8_col8\" class=\"data row8 col8\" >0.0725</td>\n",
       "      <td id=\"T_3eaeb_row8_col9\" class=\"data row8 col9\" >0.3797</td>\n",
       "      <td id=\"T_3eaeb_row8_col10\" class=\"data row8 col10\" >0.0715</td>\n",
       "      <td id=\"T_3eaeb_row8_col11\" class=\"data row8 col11\" >0.0486</td>\n",
       "      <td id=\"T_3eaeb_row8_col12\" class=\"data row8 col12\" >0.0090</td>\n",
       "    </tr>\n",
       "    <tr>\n",
       "      <th id=\"T_3eaeb_level0_row9\" class=\"row_heading level0 row9\" >ridge</th>\n",
       "      <td id=\"T_3eaeb_row9_col0\" class=\"data row9 col0\" >Ridge Regression</td>\n",
       "      <td id=\"T_3eaeb_row9_col1\" class=\"data row9 col1\" >0.3018</td>\n",
       "      <td id=\"T_3eaeb_row9_col2\" class=\"data row9 col2\" >0.1281</td>\n",
       "      <td id=\"T_3eaeb_row9_col3\" class=\"data row9 col3\" >0.3533</td>\n",
       "      <td id=\"T_3eaeb_row9_col4\" class=\"data row9 col4\" >0.4905</td>\n",
       "      <td id=\"T_3eaeb_row9_col5\" class=\"data row9 col5\" >0.0643</td>\n",
       "      <td id=\"T_3eaeb_row9_col6\" class=\"data row9 col6\" >0.0675</td>\n",
       "      <td id=\"T_3eaeb_row9_col7\" class=\"data row9 col7\" >0.4224</td>\n",
       "      <td id=\"T_3eaeb_row9_col8\" class=\"data row9 col8\" >0.0747</td>\n",
       "      <td id=\"T_3eaeb_row9_col9\" class=\"data row9 col9\" >0.3533</td>\n",
       "      <td id=\"T_3eaeb_row9_col10\" class=\"data row9 col10\" >0.0656</td>\n",
       "      <td id=\"T_3eaeb_row9_col11\" class=\"data row9 col11\" >0.0125</td>\n",
       "      <td id=\"T_3eaeb_row9_col12\" class=\"data row9 col12\" >0.0090</td>\n",
       "    </tr>\n",
       "    <tr>\n",
       "      <th id=\"T_3eaeb_level0_row10\" class=\"row_heading level0 row10\" >br</th>\n",
       "      <td id=\"T_3eaeb_row10_col0\" class=\"data row10 col0\" >Bayesian Ridge</td>\n",
       "      <td id=\"T_3eaeb_row10_col1\" class=\"data row10 col1\" >0.2993</td>\n",
       "      <td id=\"T_3eaeb_row10_col2\" class=\"data row10 col2\" >0.1268</td>\n",
       "      <td id=\"T_3eaeb_row10_col3\" class=\"data row10 col3\" >0.3517</td>\n",
       "      <td id=\"T_3eaeb_row10_col4\" class=\"data row10 col4\" >0.4904</td>\n",
       "      <td id=\"T_3eaeb_row10_col5\" class=\"data row10 col5\" >0.0639</td>\n",
       "      <td id=\"T_3eaeb_row10_col6\" class=\"data row10 col6\" >0.0669</td>\n",
       "      <td id=\"T_3eaeb_row10_col7\" class=\"data row10 col7\" >0.4238</td>\n",
       "      <td id=\"T_3eaeb_row10_col8\" class=\"data row10 col8\" >0.0750</td>\n",
       "      <td id=\"T_3eaeb_row10_col9\" class=\"data row10 col9\" >0.3517</td>\n",
       "      <td id=\"T_3eaeb_row10_col10\" class=\"data row10 col10\" >0.0652</td>\n",
       "      <td id=\"T_3eaeb_row10_col11\" class=\"data row10 col11\" >0.0125</td>\n",
       "      <td id=\"T_3eaeb_row10_col12\" class=\"data row10 col12\" >0.0090</td>\n",
       "    </tr>\n",
       "    <tr>\n",
       "      <th id=\"T_3eaeb_level0_row11\" class=\"row_heading level0 row11\" >lr</th>\n",
       "      <td id=\"T_3eaeb_row11_col0\" class=\"data row11 col0\" >Linear Regression</td>\n",
       "      <td id=\"T_3eaeb_row11_col1\" class=\"data row11 col1\" >0.3046</td>\n",
       "      <td id=\"T_3eaeb_row11_col2\" class=\"data row11 col2\" >0.1300</td>\n",
       "      <td id=\"T_3eaeb_row11_col3\" class=\"data row11 col3\" >0.3557</td>\n",
       "      <td id=\"T_3eaeb_row11_col4\" class=\"data row11 col4\" >0.4892</td>\n",
       "      <td id=\"T_3eaeb_row11_col5\" class=\"data row11 col5\" >0.0648</td>\n",
       "      <td id=\"T_3eaeb_row11_col6\" class=\"data row11 col6\" >0.0681</td>\n",
       "      <td id=\"T_3eaeb_row11_col7\" class=\"data row11 col7\" >0.4243</td>\n",
       "      <td id=\"T_3eaeb_row11_col8\" class=\"data row11 col8\" >0.0744</td>\n",
       "      <td id=\"T_3eaeb_row11_col9\" class=\"data row11 col9\" >0.3557</td>\n",
       "      <td id=\"T_3eaeb_row11_col10\" class=\"data row11 col10\" >0.0662</td>\n",
       "      <td id=\"T_3eaeb_row11_col11\" class=\"data row11 col11\" >0.0125</td>\n",
       "      <td id=\"T_3eaeb_row11_col12\" class=\"data row11 col12\" >0.2170</td>\n",
       "    </tr>\n",
       "    <tr>\n",
       "      <th id=\"T_3eaeb_level0_row12\" class=\"row_heading level0 row12\" >lar</th>\n",
       "      <td id=\"T_3eaeb_row12_col0\" class=\"data row12 col0\" >Least Angle Regression</td>\n",
       "      <td id=\"T_3eaeb_row12_col1\" class=\"data row12 col1\" >0.3134</td>\n",
       "      <td id=\"T_3eaeb_row12_col2\" class=\"data row12 col2\" >0.1371</td>\n",
       "      <td id=\"T_3eaeb_row12_col3\" class=\"data row12 col3\" >0.3653</td>\n",
       "      <td id=\"T_3eaeb_row12_col4\" class=\"data row12 col4\" >0.4764</td>\n",
       "      <td id=\"T_3eaeb_row12_col5\" class=\"data row12 col5\" >0.0666</td>\n",
       "      <td id=\"T_3eaeb_row12_col6\" class=\"data row12 col6\" >0.0702</td>\n",
       "      <td id=\"T_3eaeb_row12_col7\" class=\"data row12 col7\" >0.4387</td>\n",
       "      <td id=\"T_3eaeb_row12_col8\" class=\"data row12 col8\" >0.0764</td>\n",
       "      <td id=\"T_3eaeb_row12_col9\" class=\"data row12 col9\" >0.3653</td>\n",
       "      <td id=\"T_3eaeb_row12_col10\" class=\"data row12 col10\" >0.0681</td>\n",
       "      <td id=\"T_3eaeb_row12_col11\" class=\"data row12 col11\" >0.0250</td>\n",
       "      <td id=\"T_3eaeb_row12_col12\" class=\"data row12 col12\" >0.0080</td>\n",
       "    </tr>\n",
       "    <tr>\n",
       "      <th id=\"T_3eaeb_level0_row13\" class=\"row_heading level0 row13\" >omp</th>\n",
       "      <td id=\"T_3eaeb_row13_col0\" class=\"data row13 col0\" >Orthogonal Matching Pursuit</td>\n",
       "      <td id=\"T_3eaeb_row13_col1\" class=\"data row13 col1\" >0.4166</td>\n",
       "      <td id=\"T_3eaeb_row13_col2\" class=\"data row13 col2\" >0.2855</td>\n",
       "      <td id=\"T_3eaeb_row13_col3\" class=\"data row13 col3\" >0.5258</td>\n",
       "      <td id=\"T_3eaeb_row13_col4\" class=\"data row13 col4\" >-0.1226</td>\n",
       "      <td id=\"T_3eaeb_row13_col5\" class=\"data row13 col5\" >0.0969</td>\n",
       "      <td id=\"T_3eaeb_row13_col6\" class=\"data row13 col6\" >0.0942</td>\n",
       "      <td id=\"T_3eaeb_row13_col7\" class=\"data row13 col7\" >0.4753</td>\n",
       "      <td id=\"T_3eaeb_row13_col8\" class=\"data row13 col8\" >0.0891</td>\n",
       "      <td id=\"T_3eaeb_row13_col9\" class=\"data row13 col9\" >0.5258</td>\n",
       "      <td id=\"T_3eaeb_row13_col10\" class=\"data row13 col10\" >0.0981</td>\n",
       "      <td id=\"T_3eaeb_row13_col11\" class=\"data row13 col11\" >0.1306</td>\n",
       "      <td id=\"T_3eaeb_row13_col12\" class=\"data row13 col12\" >0.0090</td>\n",
       "    </tr>\n",
       "    <tr>\n",
       "      <th id=\"T_3eaeb_level0_row14\" class=\"row_heading level0 row14\" >par</th>\n",
       "      <td id=\"T_3eaeb_row14_col0\" class=\"data row14 col0\" >Passive Aggressive Regressor</td>\n",
       "      <td id=\"T_3eaeb_row14_col1\" class=\"data row14 col1\" >0.4057</td>\n",
       "      <td id=\"T_3eaeb_row14_col2\" class=\"data row14 col2\" >0.2673</td>\n",
       "      <td id=\"T_3eaeb_row14_col3\" class=\"data row14 col3\" >0.4947</td>\n",
       "      <td id=\"T_3eaeb_row14_col4\" class=\"data row14 col4\" >-0.0375</td>\n",
       "      <td id=\"T_3eaeb_row14_col5\" class=\"data row14 col5\" >0.0919</td>\n",
       "      <td id=\"T_3eaeb_row14_col6\" class=\"data row14 col6\" >0.0910</td>\n",
       "      <td id=\"T_3eaeb_row14_col7\" class=\"data row14 col7\" >0.5413</td>\n",
       "      <td id=\"T_3eaeb_row14_col8\" class=\"data row14 col8\" >0.0965</td>\n",
       "      <td id=\"T_3eaeb_row14_col9\" class=\"data row14 col9\" >0.4947</td>\n",
       "      <td id=\"T_3eaeb_row14_col10\" class=\"data row14 col10\" >0.0901</td>\n",
       "      <td id=\"T_3eaeb_row14_col11\" class=\"data row14 col11\" >0.1236</td>\n",
       "      <td id=\"T_3eaeb_row14_col12\" class=\"data row14 col12\" >0.0090</td>\n",
       "    </tr>\n",
       "    <tr>\n",
       "      <th id=\"T_3eaeb_level0_row15\" class=\"row_heading level0 row15\" >en</th>\n",
       "      <td id=\"T_3eaeb_row15_col0\" class=\"data row15 col0\" >Elastic Net</td>\n",
       "      <td id=\"T_3eaeb_row15_col1\" class=\"data row15 col1\" >0.6007</td>\n",
       "      <td id=\"T_3eaeb_row15_col2\" class=\"data row15 col2\" >0.5578</td>\n",
       "      <td id=\"T_3eaeb_row15_col3\" class=\"data row15 col3\" >0.7288</td>\n",
       "      <td id=\"T_3eaeb_row15_col4\" class=\"data row15 col4\" >-0.5111</td>\n",
       "      <td id=\"T_3eaeb_row15_col5\" class=\"data row15 col5\" >0.1263</td>\n",
       "      <td id=\"T_3eaeb_row15_col6\" class=\"data row15 col6\" >0.1301</td>\n",
       "      <td id=\"T_3eaeb_row15_col7\" class=\"data row15 col7\" >0.7561</td>\n",
       "      <td id=\"T_3eaeb_row15_col8\" class=\"data row15 col8\" >0.1505</td>\n",
       "      <td id=\"T_3eaeb_row15_col9\" class=\"data row15 col9\" >0.7288</td>\n",
       "      <td id=\"T_3eaeb_row15_col10\" class=\"data row15 col10\" >0.1241</td>\n",
       "      <td id=\"T_3eaeb_row15_col11\" class=\"data row15 col11\" >0.3375</td>\n",
       "      <td id=\"T_3eaeb_row15_col12\" class=\"data row15 col12\" >0.0090</td>\n",
       "    </tr>\n",
       "    <tr>\n",
       "      <th id=\"T_3eaeb_level0_row16\" class=\"row_heading level0 row16\" >lasso</th>\n",
       "      <td id=\"T_3eaeb_row16_col0\" class=\"data row16 col0\" >Lasso Regression</td>\n",
       "      <td id=\"T_3eaeb_row16_col1\" class=\"data row16 col1\" >0.6116</td>\n",
       "      <td id=\"T_3eaeb_row16_col2\" class=\"data row16 col2\" >0.5832</td>\n",
       "      <td id=\"T_3eaeb_row16_col3\" class=\"data row16 col3\" >0.7472</td>\n",
       "      <td id=\"T_3eaeb_row16_col4\" class=\"data row16 col4\" >-0.6053</td>\n",
       "      <td id=\"T_3eaeb_row16_col5\" class=\"data row16 col5\" >0.1296</td>\n",
       "      <td id=\"T_3eaeb_row16_col6\" class=\"data row16 col6\" >0.1325</td>\n",
       "      <td id=\"T_3eaeb_row16_col7\" class=\"data row16 col7\" >0.7646</td>\n",
       "      <td id=\"T_3eaeb_row16_col8\" class=\"data row16 col8\" >0.1524</td>\n",
       "      <td id=\"T_3eaeb_row16_col9\" class=\"data row16 col9\" >0.7472</td>\n",
       "      <td id=\"T_3eaeb_row16_col10\" class=\"data row16 col10\" >0.1271</td>\n",
       "      <td id=\"T_3eaeb_row16_col11\" class=\"data row16 col11\" >0.3611</td>\n",
       "      <td id=\"T_3eaeb_row16_col12\" class=\"data row16 col12\" >0.1450</td>\n",
       "    </tr>\n",
       "    <tr>\n",
       "      <th id=\"T_3eaeb_level0_row17\" class=\"row_heading level0 row17\" >llar</th>\n",
       "      <td id=\"T_3eaeb_row17_col0\" class=\"data row17 col0\" >Lasso Least Angle Regression</td>\n",
       "      <td id=\"T_3eaeb_row17_col1\" class=\"data row17 col1\" >0.6116</td>\n",
       "      <td id=\"T_3eaeb_row17_col2\" class=\"data row17 col2\" >0.5832</td>\n",
       "      <td id=\"T_3eaeb_row17_col3\" class=\"data row17 col3\" >0.7472</td>\n",
       "      <td id=\"T_3eaeb_row17_col4\" class=\"data row17 col4\" >-0.6053</td>\n",
       "      <td id=\"T_3eaeb_row17_col5\" class=\"data row17 col5\" >0.1296</td>\n",
       "      <td id=\"T_3eaeb_row17_col6\" class=\"data row17 col6\" >0.1325</td>\n",
       "      <td id=\"T_3eaeb_row17_col7\" class=\"data row17 col7\" >0.7646</td>\n",
       "      <td id=\"T_3eaeb_row17_col8\" class=\"data row17 col8\" >0.1524</td>\n",
       "      <td id=\"T_3eaeb_row17_col9\" class=\"data row17 col9\" >0.7472</td>\n",
       "      <td id=\"T_3eaeb_row17_col10\" class=\"data row17 col10\" >0.1271</td>\n",
       "      <td id=\"T_3eaeb_row17_col11\" class=\"data row17 col11\" >0.3611</td>\n",
       "      <td id=\"T_3eaeb_row17_col12\" class=\"data row17 col12\" >0.0090</td>\n",
       "    </tr>\n",
       "    <tr>\n",
       "      <th id=\"T_3eaeb_level0_row18\" class=\"row_heading level0 row18\" >dummy</th>\n",
       "      <td id=\"T_3eaeb_row18_col0\" class=\"data row18 col0\" >Dummy Regressor</td>\n",
       "      <td id=\"T_3eaeb_row18_col1\" class=\"data row18 col1\" >0.6116</td>\n",
       "      <td id=\"T_3eaeb_row18_col2\" class=\"data row18 col2\" >0.5832</td>\n",
       "      <td id=\"T_3eaeb_row18_col3\" class=\"data row18 col3\" >0.7472</td>\n",
       "      <td id=\"T_3eaeb_row18_col4\" class=\"data row18 col4\" >-0.6053</td>\n",
       "      <td id=\"T_3eaeb_row18_col5\" class=\"data row18 col5\" >0.1296</td>\n",
       "      <td id=\"T_3eaeb_row18_col6\" class=\"data row18 col6\" >0.1325</td>\n",
       "      <td id=\"T_3eaeb_row18_col7\" class=\"data row18 col7\" >0.7646</td>\n",
       "      <td id=\"T_3eaeb_row18_col8\" class=\"data row18 col8\" >0.1524</td>\n",
       "      <td id=\"T_3eaeb_row18_col9\" class=\"data row18 col9\" >0.7472</td>\n",
       "      <td id=\"T_3eaeb_row18_col10\" class=\"data row18 col10\" >0.1271</td>\n",
       "      <td id=\"T_3eaeb_row18_col11\" class=\"data row18 col11\" >0.3611</td>\n",
       "      <td id=\"T_3eaeb_row18_col12\" class=\"data row18 col12\" >0.0080</td>\n",
       "    </tr>\n",
       "  </tbody>\n",
       "</table>\n"
      ],
      "text/plain": [
       "<pandas.io.formats.style.Styler at 0x7fdbc644ed90>"
      ]
     },
     "metadata": {},
     "output_type": "display_data"
    }
   ],
   "source": [
    "metric_2_opt         = 's_mad'\n",
    "if redshift_low_lim == 3.7:\n",
    "    final_selection_reg  = ['et', 'gbr' 'rf', 'dt', 'xgboost', 'dummy']\n",
    "elif redshift_low_lim == 3.6:\n",
    "    final_selection_reg  = ['xgboost', 'et' 'dt', 'catboost', 'gbr', 'dummy']\n",
    "n_models             = 5\n",
    "# top_model_z          = pyr.compare_models(n_select=n_models, include=final_selection_reg, sort=metric_2_opt)  # 1:15 hour for used_models_clf\n",
    "top_model_z          = pyr.compare_models(n_select=n_models, exclude=['knn'], sort=metric_2_opt)  # 5 minutes, using all models."
   ]
  },
  {
   "cell_type": "markdown",
   "id": "8a6df2ca",
   "metadata": {},
   "source": [
    "Thus, we select `lightgbm` as meta learner."
   ]
  },
  {
   "cell_type": "markdown",
   "id": "d942e63c",
   "metadata": {},
   "source": [
    "Thus, we stack the models."
   ]
  },
  {
   "cell_type": "code",
   "execution_count": 77,
   "id": "a44b5912",
   "metadata": {},
   "outputs": [
    {
     "data": {
      "text/html": [
       "<style type=\"text/css\">\n",
       "#T_117f5_row10_col0, #T_117f5_row10_col1, #T_117f5_row10_col2, #T_117f5_row10_col3, #T_117f5_row10_col4, #T_117f5_row10_col5, #T_117f5_row10_col6, #T_117f5_row10_col7, #T_117f5_row10_col8, #T_117f5_row10_col9, #T_117f5_row10_col10 {\n",
       "  background: yellow;\n",
       "}\n",
       "</style>\n",
       "<table id=\"T_117f5\">\n",
       "  <thead>\n",
       "    <tr>\n",
       "      <th class=\"blank level0\" >&nbsp;</th>\n",
       "      <th id=\"T_117f5_level0_col0\" class=\"col_heading level0 col0\" >MAE</th>\n",
       "      <th id=\"T_117f5_level0_col1\" class=\"col_heading level0 col1\" >MSE</th>\n",
       "      <th id=\"T_117f5_level0_col2\" class=\"col_heading level0 col2\" >RMSE</th>\n",
       "      <th id=\"T_117f5_level0_col3\" class=\"col_heading level0 col3\" >R2</th>\n",
       "      <th id=\"T_117f5_level0_col4\" class=\"col_heading level0 col4\" >RMSLE</th>\n",
       "      <th id=\"T_117f5_level0_col5\" class=\"col_heading level0 col5\" >MAPE</th>\n",
       "      <th id=\"T_117f5_level0_col6\" class=\"col_heading level0 col6\" >sigma_mad</th>\n",
       "      <th id=\"T_117f5_level0_col7\" class=\"col_heading level0 col7\" >sigma_nmad</th>\n",
       "      <th id=\"T_117f5_level0_col8\" class=\"col_heading level0 col8\" >sigma_z</th>\n",
       "      <th id=\"T_117f5_level0_col9\" class=\"col_heading level0 col9\" >sigma_z_norm</th>\n",
       "      <th id=\"T_117f5_level0_col10\" class=\"col_heading level0 col10\" >outlier_fr</th>\n",
       "    </tr>\n",
       "    <tr>\n",
       "      <th class=\"index_name level0\" >Fold</th>\n",
       "      <th class=\"blank col0\" >&nbsp;</th>\n",
       "      <th class=\"blank col1\" >&nbsp;</th>\n",
       "      <th class=\"blank col2\" >&nbsp;</th>\n",
       "      <th class=\"blank col3\" >&nbsp;</th>\n",
       "      <th class=\"blank col4\" >&nbsp;</th>\n",
       "      <th class=\"blank col5\" >&nbsp;</th>\n",
       "      <th class=\"blank col6\" >&nbsp;</th>\n",
       "      <th class=\"blank col7\" >&nbsp;</th>\n",
       "      <th class=\"blank col8\" >&nbsp;</th>\n",
       "      <th class=\"blank col9\" >&nbsp;</th>\n",
       "      <th class=\"blank col10\" >&nbsp;</th>\n",
       "    </tr>\n",
       "  </thead>\n",
       "  <tbody>\n",
       "    <tr>\n",
       "      <th id=\"T_117f5_level0_row0\" class=\"row_heading level0 row0\" >0</th>\n",
       "      <td id=\"T_117f5_row0_col0\" class=\"data row0 col0\" >0.1152</td>\n",
       "      <td id=\"T_117f5_row0_col1\" class=\"data row0 col1\" >0.0262</td>\n",
       "      <td id=\"T_117f5_row0_col2\" class=\"data row0 col2\" >0.1619</td>\n",
       "      <td id=\"T_117f5_row0_col3\" class=\"data row0 col3\" >0.9289</td>\n",
       "      <td id=\"T_117f5_row0_col4\" class=\"data row0 col4\" >0.0323</td>\n",
       "      <td id=\"T_117f5_row0_col5\" class=\"data row0 col5\" >0.0286</td>\n",
       "      <td id=\"T_117f5_row0_col6\" class=\"data row0 col6\" >0.0965</td>\n",
       "      <td id=\"T_117f5_row0_col7\" class=\"data row0 col7\" >0.0198</td>\n",
       "      <td id=\"T_117f5_row0_col8\" class=\"data row0 col8\" >0.1619</td>\n",
       "      <td id=\"T_117f5_row0_col9\" class=\"data row0 col9\" >0.0327</td>\n",
       "      <td id=\"T_117f5_row0_col10\" class=\"data row0 col10\" >0.0000</td>\n",
       "    </tr>\n",
       "    <tr>\n",
       "      <th id=\"T_117f5_level0_row1\" class=\"row_heading level0 row1\" >1</th>\n",
       "      <td id=\"T_117f5_row1_col0\" class=\"data row1 col0\" >0.0568</td>\n",
       "      <td id=\"T_117f5_row1_col1\" class=\"data row1 col1\" >0.0093</td>\n",
       "      <td id=\"T_117f5_row1_col2\" class=\"data row1 col2\" >0.0962</td>\n",
       "      <td id=\"T_117f5_row1_col3\" class=\"data row1 col3\" >0.9853</td>\n",
       "      <td id=\"T_117f5_row1_col4\" class=\"data row1 col4\" >0.0191</td>\n",
       "      <td id=\"T_117f5_row1_col5\" class=\"data row1 col5\" >0.0136</td>\n",
       "      <td id=\"T_117f5_row1_col6\" class=\"data row1 col6\" >0.0383</td>\n",
       "      <td id=\"T_117f5_row1_col7\" class=\"data row1 col7\" >0.0053</td>\n",
       "      <td id=\"T_117f5_row1_col8\" class=\"data row1 col8\" >0.0962</td>\n",
       "      <td id=\"T_117f5_row1_col9\" class=\"data row1 col9\" >0.0195</td>\n",
       "      <td id=\"T_117f5_row1_col10\" class=\"data row1 col10\" >0.0000</td>\n",
       "    </tr>\n",
       "    <tr>\n",
       "      <th id=\"T_117f5_level0_row2\" class=\"row_heading level0 row2\" >2</th>\n",
       "      <td id=\"T_117f5_row2_col0\" class=\"data row2 col0\" >0.1299</td>\n",
       "      <td id=\"T_117f5_row2_col1\" class=\"data row2 col1\" >0.0300</td>\n",
       "      <td id=\"T_117f5_row2_col2\" class=\"data row2 col2\" >0.1731</td>\n",
       "      <td id=\"T_117f5_row2_col3\" class=\"data row2 col3\" >0.9335</td>\n",
       "      <td id=\"T_117f5_row2_col4\" class=\"data row2 col4\" >0.0341</td>\n",
       "      <td id=\"T_117f5_row2_col5\" class=\"data row2 col5\" >0.0323</td>\n",
       "      <td id=\"T_117f5_row2_col6\" class=\"data row2 col6\" >0.2171</td>\n",
       "      <td id=\"T_117f5_row2_col7\" class=\"data row2 col7\" >0.0428</td>\n",
       "      <td id=\"T_117f5_row2_col8\" class=\"data row2 col8\" >0.1731</td>\n",
       "      <td id=\"T_117f5_row2_col9\" class=\"data row2 col9\" >0.0350</td>\n",
       "      <td id=\"T_117f5_row2_col10\" class=\"data row2 col10\" >0.0000</td>\n",
       "    </tr>\n",
       "    <tr>\n",
       "      <th id=\"T_117f5_level0_row3\" class=\"row_heading level0 row3\" >3</th>\n",
       "      <td id=\"T_117f5_row3_col0\" class=\"data row3 col0\" >0.0646</td>\n",
       "      <td id=\"T_117f5_row3_col1\" class=\"data row3 col1\" >0.0098</td>\n",
       "      <td id=\"T_117f5_row3_col2\" class=\"data row3 col2\" >0.0992</td>\n",
       "      <td id=\"T_117f5_row3_col3\" class=\"data row3 col3\" >0.9482</td>\n",
       "      <td id=\"T_117f5_row3_col4\" class=\"data row3 col4\" >0.0199</td>\n",
       "      <td id=\"T_117f5_row3_col5\" class=\"data row3 col5\" >0.0149</td>\n",
       "      <td id=\"T_117f5_row3_col6\" class=\"data row3 col6\" >0.0517</td>\n",
       "      <td id=\"T_117f5_row3_col7\" class=\"data row3 col7\" >0.0090</td>\n",
       "      <td id=\"T_117f5_row3_col8\" class=\"data row3 col8\" >0.0992</td>\n",
       "      <td id=\"T_117f5_row3_col9\" class=\"data row3 col9\" >0.0195</td>\n",
       "      <td id=\"T_117f5_row3_col10\" class=\"data row3 col10\" >0.0000</td>\n",
       "    </tr>\n",
       "    <tr>\n",
       "      <th id=\"T_117f5_level0_row4\" class=\"row_heading level0 row4\" >4</th>\n",
       "      <td id=\"T_117f5_row4_col0\" class=\"data row4 col0\" >0.0606</td>\n",
       "      <td id=\"T_117f5_row4_col1\" class=\"data row4 col1\" >0.0053</td>\n",
       "      <td id=\"T_117f5_row4_col2\" class=\"data row4 col2\" >0.0729</td>\n",
       "      <td id=\"T_117f5_row4_col3\" class=\"data row4 col3\" >0.9931</td>\n",
       "      <td id=\"T_117f5_row4_col4\" class=\"data row4 col4\" >0.0147</td>\n",
       "      <td id=\"T_117f5_row4_col5\" class=\"data row4 col5\" >0.0150</td>\n",
       "      <td id=\"T_117f5_row4_col6\" class=\"data row4 col6\" >0.0772</td>\n",
       "      <td id=\"T_117f5_row4_col7\" class=\"data row4 col7\" >0.0150</td>\n",
       "      <td id=\"T_117f5_row4_col8\" class=\"data row4 col8\" >0.0729</td>\n",
       "      <td id=\"T_117f5_row4_col9\" class=\"data row4 col9\" >0.0149</td>\n",
       "      <td id=\"T_117f5_row4_col10\" class=\"data row4 col10\" >0.0000</td>\n",
       "    </tr>\n",
       "    <tr>\n",
       "      <th id=\"T_117f5_level0_row5\" class=\"row_heading level0 row5\" >5</th>\n",
       "      <td id=\"T_117f5_row5_col0\" class=\"data row5 col0\" >0.1545</td>\n",
       "      <td id=\"T_117f5_row5_col1\" class=\"data row5 col1\" >0.0599</td>\n",
       "      <td id=\"T_117f5_row5_col2\" class=\"data row5 col2\" >0.2447</td>\n",
       "      <td id=\"T_117f5_row5_col3\" class=\"data row5 col3\" >0.9378</td>\n",
       "      <td id=\"T_117f5_row5_col4\" class=\"data row5 col4\" >0.0484</td>\n",
       "      <td id=\"T_117f5_row5_col5\" class=\"data row5 col5\" >0.0375</td>\n",
       "      <td id=\"T_117f5_row5_col6\" class=\"data row5 col6\" >0.1396</td>\n",
       "      <td id=\"T_117f5_row5_col7\" class=\"data row5 col7\" >0.0284</td>\n",
       "      <td id=\"T_117f5_row5_col8\" class=\"data row5 col8\" >0.2447</td>\n",
       "      <td id=\"T_117f5_row5_col9\" class=\"data row5 col9\" >0.0466</td>\n",
       "      <td id=\"T_117f5_row5_col10\" class=\"data row5 col10\" >0.0000</td>\n",
       "    </tr>\n",
       "    <tr>\n",
       "      <th id=\"T_117f5_level0_row6\" class=\"row_heading level0 row6\" >6</th>\n",
       "      <td id=\"T_117f5_row6_col0\" class=\"data row6 col0\" >0.1563</td>\n",
       "      <td id=\"T_117f5_row6_col1\" class=\"data row6 col1\" >0.1302</td>\n",
       "      <td id=\"T_117f5_row6_col2\" class=\"data row6 col2\" >0.3608</td>\n",
       "      <td id=\"T_117f5_row6_col3\" class=\"data row6 col3\" >0.8054</td>\n",
       "      <td id=\"T_117f5_row6_col4\" class=\"data row6 col4\" >0.0670</td>\n",
       "      <td id=\"T_117f5_row6_col5\" class=\"data row6 col5\" >0.0401</td>\n",
       "      <td id=\"T_117f5_row6_col6\" class=\"data row6 col6\" >0.0606</td>\n",
       "      <td id=\"T_117f5_row6_col7\" class=\"data row6 col7\" >0.0123</td>\n",
       "      <td id=\"T_117f5_row6_col8\" class=\"data row6 col8\" >0.3608</td>\n",
       "      <td id=\"T_117f5_row6_col9\" class=\"data row6 col9\" >0.0736</td>\n",
       "      <td id=\"T_117f5_row6_col10\" class=\"data row6 col10\" >0.1250</td>\n",
       "    </tr>\n",
       "    <tr>\n",
       "      <th id=\"T_117f5_level0_row7\" class=\"row_heading level0 row7\" >7</th>\n",
       "      <td id=\"T_117f5_row7_col0\" class=\"data row7 col0\" >0.0406</td>\n",
       "      <td id=\"T_117f5_row7_col1\" class=\"data row7 col1\" >0.0038</td>\n",
       "      <td id=\"T_117f5_row7_col2\" class=\"data row7 col2\" >0.0615</td>\n",
       "      <td id=\"T_117f5_row7_col3\" class=\"data row7 col3\" >0.9918</td>\n",
       "      <td id=\"T_117f5_row7_col4\" class=\"data row7 col4\" >0.0120</td>\n",
       "      <td id=\"T_117f5_row7_col5\" class=\"data row7 col5\" >0.0093</td>\n",
       "      <td id=\"T_117f5_row7_col6\" class=\"data row7 col6\" >0.0287</td>\n",
       "      <td id=\"T_117f5_row7_col7\" class=\"data row7 col7\" >0.0047</td>\n",
       "      <td id=\"T_117f5_row7_col8\" class=\"data row7 col8\" >0.0615</td>\n",
       "      <td id=\"T_117f5_row7_col9\" class=\"data row7 col9\" >0.0121</td>\n",
       "      <td id=\"T_117f5_row7_col10\" class=\"data row7 col10\" >0.0000</td>\n",
       "    </tr>\n",
       "    <tr>\n",
       "      <th id=\"T_117f5_level0_row8\" class=\"row_heading level0 row8\" >8</th>\n",
       "      <td id=\"T_117f5_row8_col0\" class=\"data row8 col0\" >0.1089</td>\n",
       "      <td id=\"T_117f5_row8_col1\" class=\"data row8 col1\" >0.0219</td>\n",
       "      <td id=\"T_117f5_row8_col2\" class=\"data row8 col2\" >0.1481</td>\n",
       "      <td id=\"T_117f5_row8_col3\" class=\"data row8 col3\" >0.5586</td>\n",
       "      <td id=\"T_117f5_row8_col4\" class=\"data row8 col4\" >0.0289</td>\n",
       "      <td id=\"T_117f5_row8_col5\" class=\"data row8 col5\" >0.0264</td>\n",
       "      <td id=\"T_117f5_row8_col6\" class=\"data row8 col6\" >0.0868</td>\n",
       "      <td id=\"T_117f5_row8_col7\" class=\"data row8 col7\" >0.0180</td>\n",
       "      <td id=\"T_117f5_row8_col8\" class=\"data row8 col8\" >0.1481</td>\n",
       "      <td id=\"T_117f5_row8_col9\" class=\"data row8 col9\" >0.0287</td>\n",
       "      <td id=\"T_117f5_row8_col10\" class=\"data row8 col10\" >0.0000</td>\n",
       "    </tr>\n",
       "    <tr>\n",
       "      <th id=\"T_117f5_level0_row9\" class=\"row_heading level0 row9\" >9</th>\n",
       "      <td id=\"T_117f5_row9_col0\" class=\"data row9 col0\" >0.0848</td>\n",
       "      <td id=\"T_117f5_row9_col1\" class=\"data row9 col1\" >0.0139</td>\n",
       "      <td id=\"T_117f5_row9_col2\" class=\"data row9 col2\" >0.1180</td>\n",
       "      <td id=\"T_117f5_row9_col3\" class=\"data row9 col3\" >0.9748</td>\n",
       "      <td id=\"T_117f5_row9_col4\" class=\"data row9 col4\" >0.0230</td>\n",
       "      <td id=\"T_117f5_row9_col5\" class=\"data row9 col5\" >0.0208</td>\n",
       "      <td id=\"T_117f5_row9_col6\" class=\"data row9 col6\" >0.0875</td>\n",
       "      <td id=\"T_117f5_row9_col7\" class=\"data row9 col7\" >0.0182</td>\n",
       "      <td id=\"T_117f5_row9_col8\" class=\"data row9 col8\" >0.1180</td>\n",
       "      <td id=\"T_117f5_row9_col9\" class=\"data row9 col9\" >0.0232</td>\n",
       "      <td id=\"T_117f5_row9_col10\" class=\"data row9 col10\" >0.0000</td>\n",
       "    </tr>\n",
       "    <tr>\n",
       "      <th id=\"T_117f5_level0_row10\" class=\"row_heading level0 row10\" >Mean</th>\n",
       "      <td id=\"T_117f5_row10_col0\" class=\"data row10 col0\" >0.0972</td>\n",
       "      <td id=\"T_117f5_row10_col1\" class=\"data row10 col1\" >0.0310</td>\n",
       "      <td id=\"T_117f5_row10_col2\" class=\"data row10 col2\" >0.1537</td>\n",
       "      <td id=\"T_117f5_row10_col3\" class=\"data row10 col3\" >0.9057</td>\n",
       "      <td id=\"T_117f5_row10_col4\" class=\"data row10 col4\" >0.0299</td>\n",
       "      <td id=\"T_117f5_row10_col5\" class=\"data row10 col5\" >0.0239</td>\n",
       "      <td id=\"T_117f5_row10_col6\" class=\"data row10 col6\" >0.0884</td>\n",
       "      <td id=\"T_117f5_row10_col7\" class=\"data row10 col7\" >0.0173</td>\n",
       "      <td id=\"T_117f5_row10_col8\" class=\"data row10 col8\" >0.1537</td>\n",
       "      <td id=\"T_117f5_row10_col9\" class=\"data row10 col9\" >0.0306</td>\n",
       "      <td id=\"T_117f5_row10_col10\" class=\"data row10 col10\" >0.0125</td>\n",
       "    </tr>\n",
       "    <tr>\n",
       "      <th id=\"T_117f5_level0_row11\" class=\"row_heading level0 row11\" >Std</th>\n",
       "      <td id=\"T_117f5_row11_col0\" class=\"data row11 col0\" >0.0396</td>\n",
       "      <td id=\"T_117f5_row11_col1\" class=\"data row11 col1\" >0.0366</td>\n",
       "      <td id=\"T_117f5_row11_col2\" class=\"data row11 col2\" >0.0862</td>\n",
       "      <td id=\"T_117f5_row11_col3\" class=\"data row11 col3\" >0.1268</td>\n",
       "      <td id=\"T_117f5_row11_col4\" class=\"data row11 col4\" >0.0160</td>\n",
       "      <td id=\"T_117f5_row11_col5\" class=\"data row11 col5\" >0.0102</td>\n",
       "      <td id=\"T_117f5_row11_col6\" class=\"data row11 col6\" >0.0525</td>\n",
       "      <td id=\"T_117f5_row11_col7\" class=\"data row11 col7\" >0.0109</td>\n",
       "      <td id=\"T_117f5_row11_col8\" class=\"data row11 col8\" >0.0862</td>\n",
       "      <td id=\"T_117f5_row11_col9\" class=\"data row11 col9\" >0.0174</td>\n",
       "      <td id=\"T_117f5_row11_col10\" class=\"data row11 col10\" >0.0375</td>\n",
       "    </tr>\n",
       "  </tbody>\n",
       "</table>\n"
      ],
      "text/plain": [
       "<pandas.io.formats.style.Styler at 0x7fdc0c517d90>"
      ]
     },
     "metadata": {},
     "output_type": "display_data"
    }
   ],
   "source": [
    "stacked_model_z = pyr.stack_models(estimator_list=top_model_z[1:], meta_model=top_model_z[0],\\\n",
    "                                   optimize=metric_2_opt, restack=True)"
   ]
  },
  {
   "cell_type": "code",
   "execution_count": 78,
   "id": "8655eba6",
   "metadata": {
    "id": "Dz0XvX17teel"
   },
   "outputs": [
    {
     "data": {
      "text/html": [
       "<style type=\"text/css\">\n",
       "#T_a613a_row10_col0, #T_a613a_row10_col1, #T_a613a_row10_col2, #T_a613a_row10_col3, #T_a613a_row10_col4, #T_a613a_row10_col5, #T_a613a_row10_col6, #T_a613a_row10_col7, #T_a613a_row10_col8, #T_a613a_row10_col9, #T_a613a_row10_col10 {\n",
       "  background: yellow;\n",
       "}\n",
       "</style>\n",
       "<table id=\"T_a613a\">\n",
       "  <thead>\n",
       "    <tr>\n",
       "      <th class=\"blank level0\" >&nbsp;</th>\n",
       "      <th id=\"T_a613a_level0_col0\" class=\"col_heading level0 col0\" >MAE</th>\n",
       "      <th id=\"T_a613a_level0_col1\" class=\"col_heading level0 col1\" >MSE</th>\n",
       "      <th id=\"T_a613a_level0_col2\" class=\"col_heading level0 col2\" >RMSE</th>\n",
       "      <th id=\"T_a613a_level0_col3\" class=\"col_heading level0 col3\" >R2</th>\n",
       "      <th id=\"T_a613a_level0_col4\" class=\"col_heading level0 col4\" >RMSLE</th>\n",
       "      <th id=\"T_a613a_level0_col5\" class=\"col_heading level0 col5\" >MAPE</th>\n",
       "      <th id=\"T_a613a_level0_col6\" class=\"col_heading level0 col6\" >sigma_mad</th>\n",
       "      <th id=\"T_a613a_level0_col7\" class=\"col_heading level0 col7\" >sigma_nmad</th>\n",
       "      <th id=\"T_a613a_level0_col8\" class=\"col_heading level0 col8\" >sigma_z</th>\n",
       "      <th id=\"T_a613a_level0_col9\" class=\"col_heading level0 col9\" >sigma_z_norm</th>\n",
       "      <th id=\"T_a613a_level0_col10\" class=\"col_heading level0 col10\" >outlier_fr</th>\n",
       "    </tr>\n",
       "    <tr>\n",
       "      <th class=\"index_name level0\" >Fold</th>\n",
       "      <th class=\"blank col0\" >&nbsp;</th>\n",
       "      <th class=\"blank col1\" >&nbsp;</th>\n",
       "      <th class=\"blank col2\" >&nbsp;</th>\n",
       "      <th class=\"blank col3\" >&nbsp;</th>\n",
       "      <th class=\"blank col4\" >&nbsp;</th>\n",
       "      <th class=\"blank col5\" >&nbsp;</th>\n",
       "      <th class=\"blank col6\" >&nbsp;</th>\n",
       "      <th class=\"blank col7\" >&nbsp;</th>\n",
       "      <th class=\"blank col8\" >&nbsp;</th>\n",
       "      <th class=\"blank col9\" >&nbsp;</th>\n",
       "      <th class=\"blank col10\" >&nbsp;</th>\n",
       "    </tr>\n",
       "  </thead>\n",
       "  <tbody>\n",
       "    <tr>\n",
       "      <th id=\"T_a613a_level0_row0\" class=\"row_heading level0 row0\" >0</th>\n",
       "      <td id=\"T_a613a_row0_col0\" class=\"data row0 col0\" >0.1613</td>\n",
       "      <td id=\"T_a613a_row0_col1\" class=\"data row0 col1\" >0.0561</td>\n",
       "      <td id=\"T_a613a_row0_col2\" class=\"data row0 col2\" >0.2368</td>\n",
       "      <td id=\"T_a613a_row0_col3\" class=\"data row0 col3\" >0.8478</td>\n",
       "      <td id=\"T_a613a_row0_col4\" class=\"data row0 col4\" >0.0473</td>\n",
       "      <td id=\"T_a613a_row0_col5\" class=\"data row0 col5\" >0.0400</td>\n",
       "      <td id=\"T_a613a_row0_col6\" class=\"data row0 col6\" >0.0603</td>\n",
       "      <td id=\"T_a613a_row0_col7\" class=\"data row0 col7\" >0.0103</td>\n",
       "      <td id=\"T_a613a_row0_col8\" class=\"data row0 col8\" >0.2368</td>\n",
       "      <td id=\"T_a613a_row0_col9\" class=\"data row0 col9\" >0.0478</td>\n",
       "      <td id=\"T_a613a_row0_col10\" class=\"data row0 col10\" >0.0000</td>\n",
       "    </tr>\n",
       "    <tr>\n",
       "      <th id=\"T_a613a_level0_row1\" class=\"row_heading level0 row1\" >1</th>\n",
       "      <td id=\"T_a613a_row1_col0\" class=\"data row1 col0\" >0.0668</td>\n",
       "      <td id=\"T_a613a_row1_col1\" class=\"data row1 col1\" >0.0095</td>\n",
       "      <td id=\"T_a613a_row1_col2\" class=\"data row1 col2\" >0.0975</td>\n",
       "      <td id=\"T_a613a_row1_col3\" class=\"data row1 col3\" >0.9850</td>\n",
       "      <td id=\"T_a613a_row1_col4\" class=\"data row1 col4\" >0.0195</td>\n",
       "      <td id=\"T_a613a_row1_col5\" class=\"data row1 col5\" >0.0160</td>\n",
       "      <td id=\"T_a613a_row1_col6\" class=\"data row1 col6\" >0.0391</td>\n",
       "      <td id=\"T_a613a_row1_col7\" class=\"data row1 col7\" >0.0061</td>\n",
       "      <td id=\"T_a613a_row1_col8\" class=\"data row1 col8\" >0.0975</td>\n",
       "      <td id=\"T_a613a_row1_col9\" class=\"data row1 col9\" >0.0199</td>\n",
       "      <td id=\"T_a613a_row1_col10\" class=\"data row1 col10\" >0.0000</td>\n",
       "    </tr>\n",
       "    <tr>\n",
       "      <th id=\"T_a613a_level0_row2\" class=\"row_heading level0 row2\" >2</th>\n",
       "      <td id=\"T_a613a_row2_col0\" class=\"data row2 col0\" >0.1478</td>\n",
       "      <td id=\"T_a613a_row2_col1\" class=\"data row2 col1\" >0.0642</td>\n",
       "      <td id=\"T_a613a_row2_col2\" class=\"data row2 col2\" >0.2533</td>\n",
       "      <td id=\"T_a613a_row2_col3\" class=\"data row2 col3\" >0.8576</td>\n",
       "      <td id=\"T_a613a_row2_col4\" class=\"data row2 col4\" >0.0498</td>\n",
       "      <td id=\"T_a613a_row2_col5\" class=\"data row2 col5\" >0.0376</td>\n",
       "      <td id=\"T_a613a_row2_col6\" class=\"data row2 col6\" >0.0866</td>\n",
       "      <td id=\"T_a613a_row2_col7\" class=\"data row2 col7\" >0.0170</td>\n",
       "      <td id=\"T_a613a_row2_col8\" class=\"data row2 col8\" >0.2533</td>\n",
       "      <td id=\"T_a613a_row2_col9\" class=\"data row2 col9\" >0.0529</td>\n",
       "      <td id=\"T_a613a_row2_col10\" class=\"data row2 col10\" >0.0000</td>\n",
       "    </tr>\n",
       "    <tr>\n",
       "      <th id=\"T_a613a_level0_row3\" class=\"row_heading level0 row3\" >3</th>\n",
       "      <td id=\"T_a613a_row3_col0\" class=\"data row3 col0\" >0.0534</td>\n",
       "      <td id=\"T_a613a_row3_col1\" class=\"data row3 col1\" >0.0047</td>\n",
       "      <td id=\"T_a613a_row3_col2\" class=\"data row3 col2\" >0.0687</td>\n",
       "      <td id=\"T_a613a_row3_col3\" class=\"data row3 col3\" >0.9752</td>\n",
       "      <td id=\"T_a613a_row3_col4\" class=\"data row3 col4\" >0.0133</td>\n",
       "      <td id=\"T_a613a_row3_col5\" class=\"data row3 col5\" >0.0119</td>\n",
       "      <td id=\"T_a613a_row3_col6\" class=\"data row3 col6\" >0.0614</td>\n",
       "      <td id=\"T_a613a_row3_col7\" class=\"data row3 col7\" >0.0100</td>\n",
       "      <td id=\"T_a613a_row3_col8\" class=\"data row3 col8\" >0.0687</td>\n",
       "      <td id=\"T_a613a_row3_col9\" class=\"data row3 col9\" >0.0131</td>\n",
       "      <td id=\"T_a613a_row3_col10\" class=\"data row3 col10\" >0.0000</td>\n",
       "    </tr>\n",
       "    <tr>\n",
       "      <th id=\"T_a613a_level0_row4\" class=\"row_heading level0 row4\" >4</th>\n",
       "      <td id=\"T_a613a_row4_col0\" class=\"data row4 col0\" >0.0372</td>\n",
       "      <td id=\"T_a613a_row4_col1\" class=\"data row4 col1\" >0.0023</td>\n",
       "      <td id=\"T_a613a_row4_col2\" class=\"data row4 col2\" >0.0474</td>\n",
       "      <td id=\"T_a613a_row4_col3\" class=\"data row4 col3\" >0.9971</td>\n",
       "      <td id=\"T_a613a_row4_col4\" class=\"data row4 col4\" >0.0094</td>\n",
       "      <td id=\"T_a613a_row4_col5\" class=\"data row4 col5\" >0.0092</td>\n",
       "      <td id=\"T_a613a_row4_col6\" class=\"data row4 col6\" >0.0483</td>\n",
       "      <td id=\"T_a613a_row4_col7\" class=\"data row4 col7\" >0.0101</td>\n",
       "      <td id=\"T_a613a_row4_col8\" class=\"data row4 col8\" >0.0474</td>\n",
       "      <td id=\"T_a613a_row4_col9\" class=\"data row4 col9\" >0.0095</td>\n",
       "      <td id=\"T_a613a_row4_col10\" class=\"data row4 col10\" >0.0000</td>\n",
       "    </tr>\n",
       "    <tr>\n",
       "      <th id=\"T_a613a_level0_row5\" class=\"row_heading level0 row5\" >5</th>\n",
       "      <td id=\"T_a613a_row5_col0\" class=\"data row5 col0\" >0.1599</td>\n",
       "      <td id=\"T_a613a_row5_col1\" class=\"data row5 col1\" >0.0643</td>\n",
       "      <td id=\"T_a613a_row5_col2\" class=\"data row5 col2\" >0.2536</td>\n",
       "      <td id=\"T_a613a_row5_col3\" class=\"data row5 col3\" >0.9332</td>\n",
       "      <td id=\"T_a613a_row5_col4\" class=\"data row5 col4\" >0.0501</td>\n",
       "      <td id=\"T_a613a_row5_col5\" class=\"data row5 col5\" >0.0387</td>\n",
       "      <td id=\"T_a613a_row5_col6\" class=\"data row5 col6\" >0.1165</td>\n",
       "      <td id=\"T_a613a_row5_col7\" class=\"data row5 col7\" >0.0237</td>\n",
       "      <td id=\"T_a613a_row5_col8\" class=\"data row5 col8\" >0.2536</td>\n",
       "      <td id=\"T_a613a_row5_col9\" class=\"data row5 col9\" >0.0485</td>\n",
       "      <td id=\"T_a613a_row5_col10\" class=\"data row5 col10\" >0.0000</td>\n",
       "    </tr>\n",
       "    <tr>\n",
       "      <th id=\"T_a613a_level0_row6\" class=\"row_heading level0 row6\" >6</th>\n",
       "      <td id=\"T_a613a_row6_col0\" class=\"data row6 col0\" >0.1668</td>\n",
       "      <td id=\"T_a613a_row6_col1\" class=\"data row6 col1\" >0.0973</td>\n",
       "      <td id=\"T_a613a_row6_col2\" class=\"data row6 col2\" >0.3119</td>\n",
       "      <td id=\"T_a613a_row6_col3\" class=\"data row6 col3\" >0.8546</td>\n",
       "      <td id=\"T_a613a_row6_col4\" class=\"data row6 col4\" >0.0591</td>\n",
       "      <td id=\"T_a613a_row6_col5\" class=\"data row6 col5\" >0.0429</td>\n",
       "      <td id=\"T_a613a_row6_col6\" class=\"data row6 col6\" >0.0993</td>\n",
       "      <td id=\"T_a613a_row6_col7\" class=\"data row6 col7\" >0.0206</td>\n",
       "      <td id=\"T_a613a_row6_col8\" class=\"data row6 col8\" >0.3119</td>\n",
       "      <td id=\"T_a613a_row6_col9\" class=\"data row6 col9\" >0.0637</td>\n",
       "      <td id=\"T_a613a_row6_col10\" class=\"data row6 col10\" >0.1250</td>\n",
       "    </tr>\n",
       "    <tr>\n",
       "      <th id=\"T_a613a_level0_row7\" class=\"row_heading level0 row7\" >7</th>\n",
       "      <td id=\"T_a613a_row7_col0\" class=\"data row7 col0\" >0.0295</td>\n",
       "      <td id=\"T_a613a_row7_col1\" class=\"data row7 col1\" >0.0017</td>\n",
       "      <td id=\"T_a613a_row7_col2\" class=\"data row7 col2\" >0.0410</td>\n",
       "      <td id=\"T_a613a_row7_col3\" class=\"data row7 col3\" >0.9964</td>\n",
       "      <td id=\"T_a613a_row7_col4\" class=\"data row7 col4\" >0.0079</td>\n",
       "      <td id=\"T_a613a_row7_col5\" class=\"data row7 col5\" >0.0067</td>\n",
       "      <td id=\"T_a613a_row7_col6\" class=\"data row7 col6\" >0.0214</td>\n",
       "      <td id=\"T_a613a_row7_col7\" class=\"data row7 col7\" >0.0034</td>\n",
       "      <td id=\"T_a613a_row7_col8\" class=\"data row7 col8\" >0.0410</td>\n",
       "      <td id=\"T_a613a_row7_col9\" class=\"data row7 col9\" >0.0079</td>\n",
       "      <td id=\"T_a613a_row7_col10\" class=\"data row7 col10\" >0.0000</td>\n",
       "    </tr>\n",
       "    <tr>\n",
       "      <th id=\"T_a613a_level0_row8\" class=\"row_heading level0 row8\" >8</th>\n",
       "      <td id=\"T_a613a_row8_col0\" class=\"data row8 col0\" >0.1102</td>\n",
       "      <td id=\"T_a613a_row8_col1\" class=\"data row8 col1\" >0.0265</td>\n",
       "      <td id=\"T_a613a_row8_col2\" class=\"data row8 col2\" >0.1629</td>\n",
       "      <td id=\"T_a613a_row8_col3\" class=\"data row8 col3\" >0.4663</td>\n",
       "      <td id=\"T_a613a_row8_col4\" class=\"data row8 col4\" >0.0329</td>\n",
       "      <td id=\"T_a613a_row8_col5\" class=\"data row8 col5\" >0.0271</td>\n",
       "      <td id=\"T_a613a_row8_col6\" class=\"data row8 col6\" >0.1031</td>\n",
       "      <td id=\"T_a613a_row8_col7\" class=\"data row8 col7\" >0.0210</td>\n",
       "      <td id=\"T_a613a_row8_col8\" class=\"data row8 col8\" >0.1629</td>\n",
       "      <td id=\"T_a613a_row8_col9\" class=\"data row8 col9\" >0.0319</td>\n",
       "      <td id=\"T_a613a_row8_col10\" class=\"data row8 col10\" >0.0000</td>\n",
       "    </tr>\n",
       "    <tr>\n",
       "      <th id=\"T_a613a_level0_row9\" class=\"row_heading level0 row9\" >9</th>\n",
       "      <td id=\"T_a613a_row9_col0\" class=\"data row9 col0\" >0.0646</td>\n",
       "      <td id=\"T_a613a_row9_col1\" class=\"data row9 col1\" >0.0088</td>\n",
       "      <td id=\"T_a613a_row9_col2\" class=\"data row9 col2\" >0.0936</td>\n",
       "      <td id=\"T_a613a_row9_col3\" class=\"data row9 col3\" >0.9842</td>\n",
       "      <td id=\"T_a613a_row9_col4\" class=\"data row9 col4\" >0.0175</td>\n",
       "      <td id=\"T_a613a_row9_col5\" class=\"data row9 col5\" >0.0154</td>\n",
       "      <td id=\"T_a613a_row9_col6\" class=\"data row9 col6\" >0.0701</td>\n",
       "      <td id=\"T_a613a_row9_col7\" class=\"data row9 col7\" >0.0139</td>\n",
       "      <td id=\"T_a613a_row9_col8\" class=\"data row9 col8\" >0.0936</td>\n",
       "      <td id=\"T_a613a_row9_col9\" class=\"data row9 col9\" >0.0178</td>\n",
       "      <td id=\"T_a613a_row9_col10\" class=\"data row9 col10\" >0.0000</td>\n",
       "    </tr>\n",
       "    <tr>\n",
       "      <th id=\"T_a613a_level0_row10\" class=\"row_heading level0 row10\" >Mean</th>\n",
       "      <td id=\"T_a613a_row10_col0\" class=\"data row10 col0\" >0.0997</td>\n",
       "      <td id=\"T_a613a_row10_col1\" class=\"data row10 col1\" >0.0335</td>\n",
       "      <td id=\"T_a613a_row10_col2\" class=\"data row10 col2\" >0.1567</td>\n",
       "      <td id=\"T_a613a_row10_col3\" class=\"data row10 col3\" >0.8897</td>\n",
       "      <td id=\"T_a613a_row10_col4\" class=\"data row10 col4\" >0.0307</td>\n",
       "      <td id=\"T_a613a_row10_col5\" class=\"data row10 col5\" >0.0246</td>\n",
       "      <td id=\"T_a613a_row10_col6\" class=\"data row10 col6\" >0.0706</td>\n",
       "      <td id=\"T_a613a_row10_col7\" class=\"data row10 col7\" >0.0136</td>\n",
       "      <td id=\"T_a613a_row10_col8\" class=\"data row10 col8\" >0.1567</td>\n",
       "      <td id=\"T_a613a_row10_col9\" class=\"data row10 col9\" >0.0313</td>\n",
       "      <td id=\"T_a613a_row10_col10\" class=\"data row10 col10\" >0.0125</td>\n",
       "    </tr>\n",
       "    <tr>\n",
       "      <th id=\"T_a613a_level0_row11\" class=\"row_heading level0 row11\" >Std</th>\n",
       "      <td id=\"T_a613a_row11_col0\" class=\"data row11 col0\" >0.0526</td>\n",
       "      <td id=\"T_a613a_row11_col1\" class=\"data row11 col1\" >0.0324</td>\n",
       "      <td id=\"T_a613a_row11_col2\" class=\"data row11 col2\" >0.0948</td>\n",
       "      <td id=\"T_a613a_row11_col3\" class=\"data row11 col3\" >0.1528</td>\n",
       "      <td id=\"T_a613a_row11_col4\" class=\"data row11 col4\" >0.0185</td>\n",
       "      <td id=\"T_a613a_row11_col5\" class=\"data row11 col5\" >0.0135</td>\n",
       "      <td id=\"T_a613a_row11_col6\" class=\"data row11 col6\" >0.0289</td>\n",
       "      <td id=\"T_a613a_row11_col7\" class=\"data row11 col7\" >0.0064</td>\n",
       "      <td id=\"T_a613a_row11_col8\" class=\"data row11 col8\" >0.0948</td>\n",
       "      <td id=\"T_a613a_row11_col9\" class=\"data row11 col9\" >0.0194</td>\n",
       "      <td id=\"T_a613a_row11_col10\" class=\"data row11 col10\" >0.0375</td>\n",
       "    </tr>\n",
       "  </tbody>\n",
       "</table>\n"
      ],
      "text/plain": [
       "<pandas.io.formats.style.Styler at 0x7fdb1c10efd0>"
      ]
     },
     "metadata": {},
     "output_type": "display_data"
    }
   ],
   "source": [
    "tuned_z_reg = pyr.tune_model(stacked_model_z, early_stopping='asha', optimize=metric_2_opt,\\\n",
    "                             search_library='tune-sklearn', search_algorithm='random')  # 1h30"
   ]
  },
  {
   "cell_type": "code",
   "execution_count": 79,
   "id": "efc72334",
   "metadata": {
    "id": "GJfDVspZtn7Z"
   },
   "outputs": [
    {
     "data": {
      "image/png": "[encoded data removed]",
      "text/plain": [
       "<Figure size 640x480 with 1 Axes>"
      ]
     },
     "metadata": {},
     "output_type": "display_data"
    }
   ],
   "source": [
    "pyr.plot_model(tuned_z_reg, plot='error')"
   ]
  },
  {
   "cell_type": "code",
   "execution_count": 80,
   "id": "ea06cc5e",
   "metadata": {
    "id": "3N6_OxWptsEe",
    "tags": []
   },
   "outputs": [
    {
     "data": {
      "image/png": "[encoded data removed]",
      "text/plain": [
       "<Figure size 640x480 with 2 Axes>"
      ]
     },
     "metadata": {},
     "output_type": "display_data"
    }
   ],
   "source": [
    "pyr.plot_model(tuned_z_reg, plot='residuals')"
   ]
  },
  {
   "cell_type": "code",
   "execution_count": 81,
   "id": "186b296c",
   "metadata": {
    "id": "Mq15jdjqtv3Y"
   },
   "outputs": [
    {
     "data": {
      "image/png": "[encoded data removed]",
      "text/plain": [
       "<Figure size 800x0 with 1 Axes>"
      ]
     },
     "metadata": {},
     "output_type": "display_data"
    }
   ],
   "source": [
    "pyr.plot_model(tuned_z_reg.estimators_[0], plot='feature_all')"
   ]
  },
  {
   "cell_type": "code",
   "execution_count": 82,
   "id": "361cdefe",
   "metadata": {
    "id": "Mq15jdjqtv3Y"
   },
   "outputs": [
    {
     "data": {
      "text/html": [
       "<div>\n",
       "<style scoped>\n",
       "    .dataframe tbody tr th:only-of-type {\n",
       "        vertical-align: middle;\n",
       "    }\n",
       "\n",
       "    .dataframe tbody tr th {\n",
       "        vertical-align: top;\n",
       "    }\n",
       "\n",
       "    .dataframe thead th {\n",
       "        text-align: right;\n",
       "    }\n",
       "</style>\n",
       "<table border=\"1\" class=\"dataframe\">\n",
       "  <thead>\n",
       "    <tr style=\"text-align: right;\">\n",
       "      <th></th>\n",
       "      <th>Parameters</th>\n",
       "    </tr>\n",
       "  </thead>\n",
       "  <tbody>\n",
       "    <tr>\n",
       "      <th>objective</th>\n",
       "      <td>reg:squarederror</td>\n",
       "    </tr>\n",
       "    <tr>\n",
       "      <th>base_score</th>\n",
       "      <td>0.5</td>\n",
       "    </tr>\n",
       "    <tr>\n",
       "      <th>booster</th>\n",
       "      <td>gbtree</td>\n",
       "    </tr>\n",
       "    <tr>\n",
       "      <th>colsample_bylevel</th>\n",
       "      <td>1</td>\n",
       "    </tr>\n",
       "    <tr>\n",
       "      <th>colsample_bynode</th>\n",
       "      <td>1</td>\n",
       "    </tr>\n",
       "    <tr>\n",
       "      <th>colsample_bytree</th>\n",
       "      <td>0.7</td>\n",
       "    </tr>\n",
       "    <tr>\n",
       "      <th>enable_categorical</th>\n",
       "      <td>False</td>\n",
       "    </tr>\n",
       "    <tr>\n",
       "      <th>gamma</th>\n",
       "      <td>0</td>\n",
       "    </tr>\n",
       "    <tr>\n",
       "      <th>gpu_id</th>\n",
       "      <td>-1</td>\n",
       "    </tr>\n",
       "    <tr>\n",
       "      <th>importance_type</th>\n",
       "      <td>None</td>\n",
       "    </tr>\n",
       "    <tr>\n",
       "      <th>interaction_constraints</th>\n",
       "      <td></td>\n",
       "    </tr>\n",
       "    <tr>\n",
       "      <th>learning_rate</th>\n",
       "      <td>0.15</td>\n",
       "    </tr>\n",
       "    <tr>\n",
       "      <th>max_delta_step</th>\n",
       "      <td>0</td>\n",
       "    </tr>\n",
       "    <tr>\n",
       "      <th>max_depth</th>\n",
       "      <td>8</td>\n",
       "    </tr>\n",
       "    <tr>\n",
       "      <th>min_child_weight</th>\n",
       "      <td>3</td>\n",
       "    </tr>\n",
       "    <tr>\n",
       "      <th>missing</th>\n",
       "      <td>nan</td>\n",
       "    </tr>\n",
       "    <tr>\n",
       "      <th>monotone_constraints</th>\n",
       "      <td>()</td>\n",
       "    </tr>\n",
       "    <tr>\n",
       "      <th>n_estimators</th>\n",
       "      <td>300</td>\n",
       "    </tr>\n",
       "    <tr>\n",
       "      <th>n_jobs</th>\n",
       "      <td>12</td>\n",
       "    </tr>\n",
       "    <tr>\n",
       "      <th>num_parallel_tree</th>\n",
       "      <td>1</td>\n",
       "    </tr>\n",
       "    <tr>\n",
       "      <th>predictor</th>\n",
       "      <td>auto</td>\n",
       "    </tr>\n",
       "    <tr>\n",
       "      <th>random_state</th>\n",
       "      <td>42</td>\n",
       "    </tr>\n",
       "    <tr>\n",
       "      <th>reg_alpha</th>\n",
       "      <td>0.05</td>\n",
       "    </tr>\n",
       "    <tr>\n",
       "      <th>reg_lambda</th>\n",
       "      <td>10.0</td>\n",
       "    </tr>\n",
       "    <tr>\n",
       "      <th>scale_pos_weight</th>\n",
       "      <td>20.700000000000003</td>\n",
       "    </tr>\n",
       "    <tr>\n",
       "      <th>subsample</th>\n",
       "      <td>0.7</td>\n",
       "    </tr>\n",
       "    <tr>\n",
       "      <th>tree_method</th>\n",
       "      <td>auto</td>\n",
       "    </tr>\n",
       "    <tr>\n",
       "      <th>validate_parameters</th>\n",
       "      <td>1</td>\n",
       "    </tr>\n",
       "    <tr>\n",
       "      <th>verbosity</th>\n",
       "      <td>0</td>\n",
       "    </tr>\n",
       "  </tbody>\n",
       "</table>\n",
       "</div>"
      ],
      "text/plain": [
       "                                 Parameters\n",
       "objective                  reg:squarederror\n",
       "base_score                              0.5\n",
       "booster                              gbtree\n",
       "colsample_bylevel                         1\n",
       "colsample_bynode                          1\n",
       "colsample_bytree                        0.7\n",
       "enable_categorical                    False\n",
       "gamma                                     0\n",
       "gpu_id                                   -1\n",
       "importance_type                        None\n",
       "interaction_constraints                    \n",
       "learning_rate                          0.15\n",
       "max_delta_step                            0\n",
       "max_depth                                 8\n",
       "min_child_weight                          3\n",
       "missing                                 nan\n",
       "monotone_constraints                     ()\n",
       "n_estimators                            300\n",
       "n_jobs                                   12\n",
       "num_parallel_tree                         1\n",
       "predictor                              auto\n",
       "random_state                             42\n",
       "reg_alpha                              0.05\n",
       "reg_lambda                             10.0\n",
       "scale_pos_weight         20.700000000000003\n",
       "subsample                               0.7\n",
       "tree_method                            auto\n",
       "validate_parameters                       1\n",
       "verbosity                                 0"
      ]
     },
     "metadata": {},
     "output_type": "display_data"
    }
   ],
   "source": [
    "pyr.plot_model(tuned_z_reg.final_estimator, plot='parameter')"
   ]
  },
  {
   "cell_type": "code",
   "execution_count": 83,
   "id": "a60aa845",
   "metadata": {
    "id": "t2CRgDLptzuE"
   },
   "outputs": [],
   "source": [
    "plt.rcParams.update(plt.rcParamsDefault)"
   ]
  },
  {
   "cell_type": "code",
   "execution_count": 84,
   "id": "d05c6147",
   "metadata": {},
   "outputs": [
    {
     "data": {
      "text/html": [
       "<style type=\"text/css\">\n",
       "</style>\n",
       "<table id=\"T_5dbe9\">\n",
       "  <thead>\n",
       "    <tr>\n",
       "      <th class=\"blank level0\" >&nbsp;</th>\n",
       "      <th id=\"T_5dbe9_level0_col0\" class=\"col_heading level0 col0\" >Model</th>\n",
       "      <th id=\"T_5dbe9_level0_col1\" class=\"col_heading level0 col1\" >MAE</th>\n",
       "      <th id=\"T_5dbe9_level0_col2\" class=\"col_heading level0 col2\" >MSE</th>\n",
       "      <th id=\"T_5dbe9_level0_col3\" class=\"col_heading level0 col3\" >RMSE</th>\n",
       "      <th id=\"T_5dbe9_level0_col4\" class=\"col_heading level0 col4\" >R2</th>\n",
       "      <th id=\"T_5dbe9_level0_col5\" class=\"col_heading level0 col5\" >RMSLE</th>\n",
       "      <th id=\"T_5dbe9_level0_col6\" class=\"col_heading level0 col6\" >MAPE</th>\n",
       "      <th id=\"T_5dbe9_level0_col7\" class=\"col_heading level0 col7\" >sigma_mad</th>\n",
       "      <th id=\"T_5dbe9_level0_col8\" class=\"col_heading level0 col8\" >sigma_nmad</th>\n",
       "      <th id=\"T_5dbe9_level0_col9\" class=\"col_heading level0 col9\" >sigma_z</th>\n",
       "      <th id=\"T_5dbe9_level0_col10\" class=\"col_heading level0 col10\" >sigma_z_norm</th>\n",
       "      <th id=\"T_5dbe9_level0_col11\" class=\"col_heading level0 col11\" >outlier_fr</th>\n",
       "    </tr>\n",
       "  </thead>\n",
       "  <tbody>\n",
       "    <tr>\n",
       "      <th id=\"T_5dbe9_level0_row0\" class=\"row_heading level0 row0\" >0</th>\n",
       "      <td id=\"T_5dbe9_row0_col0\" class=\"data row0 col0\" >Stacking Regressor</td>\n",
       "      <td id=\"T_5dbe9_row0_col1\" class=\"data row0 col1\" >0.0978</td>\n",
       "      <td id=\"T_5dbe9_row0_col2\" class=\"data row0 col2\" >0.0304</td>\n",
       "      <td id=\"T_5dbe9_row0_col3\" class=\"data row0 col3\" >0.1743</td>\n",
       "      <td id=\"T_5dbe9_row0_col4\" class=\"data row0 col4\" >0.9451</td>\n",
       "      <td id=\"T_5dbe9_row0_col5\" class=\"data row0 col5\" >0.0357</td>\n",
       "      <td id=\"T_5dbe9_row0_col6\" class=\"data row0 col6\" >0.0256</td>\n",
       "      <td id=\"T_5dbe9_row0_col7\" class=\"data row0 col7\" >0.0388</td>\n",
       "      <td id=\"T_5dbe9_row0_col8\" class=\"data row0 col8\" >0.0068</td>\n",
       "      <td id=\"T_5dbe9_row0_col9\" class=\"data row0 col9\" >0.1743</td>\n",
       "      <td id=\"T_5dbe9_row0_col10\" class=\"data row0 col10\" >0.0372</td>\n",
       "      <td id=\"T_5dbe9_row0_col11\" class=\"data row0 col11\" >0.0000</td>\n",
       "    </tr>\n",
       "  </tbody>\n",
       "</table>\n"
      ],
      "text/plain": [
       "<pandas.io.formats.style.Styler at 0x7fdb29d1d5e0>"
      ]
     },
     "metadata": {},
     "output_type": "display_data"
    },
    {
     "data": {
      "text/html": [
       "<div>\n",
       "<style scoped>\n",
       "    .dataframe tbody tr th:only-of-type {\n",
       "        vertical-align: middle;\n",
       "    }\n",
       "\n",
       "    .dataframe tbody tr th {\n",
       "        vertical-align: top;\n",
       "    }\n",
       "\n",
       "    .dataframe thead th {\n",
       "        text-align: right;\n",
       "    }\n",
       "</style>\n",
       "<table border=\"1\" class=\"dataframe\">\n",
       "  <thead>\n",
       "    <tr style=\"text-align: right;\">\n",
       "      <th></th>\n",
       "      <th>ymag</th>\n",
       "      <th>g_r</th>\n",
       "      <th>r_i</th>\n",
       "      <th>i_z</th>\n",
       "      <th>z_y</th>\n",
       "      <th>w1_w2</th>\n",
       "      <th>w2_w3</th>\n",
       "      <th>w3_w4</th>\n",
       "      <th>z/W1</th>\n",
       "      <th>Z</th>\n",
       "      <th>Label</th>\n",
       "    </tr>\n",
       "  </thead>\n",
       "  <tbody>\n",
       "    <tr>\n",
       "      <th>0</th>\n",
       "      <td>-0.471246</td>\n",
       "      <td>-0.540073</td>\n",
       "      <td>-0.470443</td>\n",
       "      <td>-0.852714</td>\n",
       "      <td>0.078241</td>\n",
       "      <td>0.135389</td>\n",
       "      <td>-0.507934</td>\n",
       "      <td>0.516598</td>\n",
       "      <td>-0.405404</td>\n",
       "      <td>4.000000</td>\n",
       "      <td>3.913399</td>\n",
       "    </tr>\n",
       "    <tr>\n",
       "      <th>1</th>\n",
       "      <td>0.013458</td>\n",
       "      <td>-0.800225</td>\n",
       "      <td>-1.165033</td>\n",
       "      <td>-0.920749</td>\n",
       "      <td>1.209868</td>\n",
       "      <td>0.058998</td>\n",
       "      <td>0.287895</td>\n",
       "      <td>0.516598</td>\n",
       "      <td>0.604975</td>\n",
       "      <td>3.701000</td>\n",
       "      <td>3.881833</td>\n",
       "    </tr>\n",
       "    <tr>\n",
       "      <th>2</th>\n",
       "      <td>-0.460776</td>\n",
       "      <td>0.175468</td>\n",
       "      <td>0.263064</td>\n",
       "      <td>-0.278014</td>\n",
       "      <td>-0.342805</td>\n",
       "      <td>-1.275726</td>\n",
       "      <td>-0.113736</td>\n",
       "      <td>0.382066</td>\n",
       "      <td>-0.745698</td>\n",
       "      <td>4.543724</td>\n",
       "      <td>4.542876</td>\n",
       "    </tr>\n",
       "    <tr>\n",
       "      <th>3</th>\n",
       "      <td>-0.185742</td>\n",
       "      <td>-1.581073</td>\n",
       "      <td>1.356713</td>\n",
       "      <td>0.998320</td>\n",
       "      <td>2.401482</td>\n",
       "      <td>1.845891</td>\n",
       "      <td>-1.626576</td>\n",
       "      <td>-2.007542</td>\n",
       "      <td>1.960174</td>\n",
       "      <td>5.776715</td>\n",
       "      <td>5.795785</td>\n",
       "    </tr>\n",
       "    <tr>\n",
       "      <th>4</th>\n",
       "      <td>0.098472</td>\n",
       "      <td>1.311384</td>\n",
       "      <td>1.019669</td>\n",
       "      <td>-1.237699</td>\n",
       "      <td>-0.281960</td>\n",
       "      <td>-0.068410</td>\n",
       "      <td>-0.509998</td>\n",
       "      <td>0.447237</td>\n",
       "      <td>0.367771</td>\n",
       "      <td>4.741865</td>\n",
       "      <td>4.733782</td>\n",
       "    </tr>\n",
       "    <tr>\n",
       "      <th>5</th>\n",
       "      <td>0.133012</td>\n",
       "      <td>-0.279798</td>\n",
       "      <td>-0.618899</td>\n",
       "      <td>-0.456211</td>\n",
       "      <td>-0.043977</td>\n",
       "      <td>1.030198</td>\n",
       "      <td>0.327007</td>\n",
       "      <td>0.516598</td>\n",
       "      <td>-0.837307</td>\n",
       "      <td>3.652000</td>\n",
       "      <td>4.096828</td>\n",
       "    </tr>\n",
       "    <tr>\n",
       "      <th>6</th>\n",
       "      <td>0.743779</td>\n",
       "      <td>-0.640330</td>\n",
       "      <td>-0.866448</td>\n",
       "      <td>-1.116169</td>\n",
       "      <td>-0.648264</td>\n",
       "      <td>0.237647</td>\n",
       "      <td>0.005397</td>\n",
       "      <td>0.516598</td>\n",
       "      <td>0.519066</td>\n",
       "      <td>3.607000</td>\n",
       "      <td>3.855051</td>\n",
       "    </tr>\n",
       "    <tr>\n",
       "      <th>7</th>\n",
       "      <td>1.515202</td>\n",
       "      <td>-1.597086</td>\n",
       "      <td>1.943382</td>\n",
       "      <td>-0.019744</td>\n",
       "      <td>-2.473318</td>\n",
       "      <td>1.208431</td>\n",
       "      <td>1.298448</td>\n",
       "      <td>0.313164</td>\n",
       "      <td>-1.354343</td>\n",
       "      <td>4.592960</td>\n",
       "      <td>4.622982</td>\n",
       "    </tr>\n",
       "    <tr>\n",
       "      <th>8</th>\n",
       "      <td>-1.647761</td>\n",
       "      <td>-0.371322</td>\n",
       "      <td>-0.872413</td>\n",
       "      <td>-0.424393</td>\n",
       "      <td>-0.165033</td>\n",
       "      <td>-0.758882</td>\n",
       "      <td>-1.601458</td>\n",
       "      <td>-1.978129</td>\n",
       "      <td>0.038857</td>\n",
       "      <td>3.833000</td>\n",
       "      <td>3.802419</td>\n",
       "    </tr>\n",
       "    <tr>\n",
       "      <th>9</th>\n",
       "      <td>-0.106305</td>\n",
       "      <td>-0.045169</td>\n",
       "      <td>-0.753598</td>\n",
       "      <td>-0.457768</td>\n",
       "      <td>-0.202004</td>\n",
       "      <td>1.037305</td>\n",
       "      <td>-0.014429</td>\n",
       "      <td>0.516598</td>\n",
       "      <td>-1.202831</td>\n",
       "      <td>3.612000</td>\n",
       "      <td>4.109505</td>\n",
       "    </tr>\n",
       "    <tr>\n",
       "      <th>10</th>\n",
       "      <td>0.007123</td>\n",
       "      <td>1.052507</td>\n",
       "      <td>0.910667</td>\n",
       "      <td>0.196415</td>\n",
       "      <td>-0.150143</td>\n",
       "      <td>-1.218637</td>\n",
       "      <td>1.070666</td>\n",
       "      <td>0.393893</td>\n",
       "      <td>-0.790103</td>\n",
       "      <td>4.720107</td>\n",
       "      <td>4.712487</td>\n",
       "    </tr>\n",
       "    <tr>\n",
       "      <th>11</th>\n",
       "      <td>0.749897</td>\n",
       "      <td>0.211215</td>\n",
       "      <td>-1.757781</td>\n",
       "      <td>-0.903009</td>\n",
       "      <td>-0.428268</td>\n",
       "      <td>-1.233712</td>\n",
       "      <td>1.258974</td>\n",
       "      <td>0.516598</td>\n",
       "      <td>0.270920</td>\n",
       "      <td>3.770000</td>\n",
       "      <td>3.718828</td>\n",
       "    </tr>\n",
       "    <tr>\n",
       "      <th>12</th>\n",
       "      <td>1.509489</td>\n",
       "      <td>-1.617007</td>\n",
       "      <td>1.950083</td>\n",
       "      <td>-0.029299</td>\n",
       "      <td>-2.497979</td>\n",
       "      <td>1.214407</td>\n",
       "      <td>1.230459</td>\n",
       "      <td>0.466160</td>\n",
       "      <td>-1.386857</td>\n",
       "      <td>4.591133</td>\n",
       "      <td>4.605499</td>\n",
       "    </tr>\n",
       "    <tr>\n",
       "      <th>13</th>\n",
       "      <td>-0.049215</td>\n",
       "      <td>0.575324</td>\n",
       "      <td>-0.971763</td>\n",
       "      <td>-0.380700</td>\n",
       "      <td>0.829011</td>\n",
       "      <td>-0.455196</td>\n",
       "      <td>1.258974</td>\n",
       "      <td>0.516598</td>\n",
       "      <td>-0.290325</td>\n",
       "      <td>3.829000</td>\n",
       "      <td>4.048779</td>\n",
       "    </tr>\n",
       "    <tr>\n",
       "      <th>14</th>\n",
       "      <td>-0.189651</td>\n",
       "      <td>-1.607306</td>\n",
       "      <td>1.376754</td>\n",
       "      <td>0.966812</td>\n",
       "      <td>2.367383</td>\n",
       "      <td>1.833932</td>\n",
       "      <td>-1.635314</td>\n",
       "      <td>-2.007552</td>\n",
       "      <td>1.937816</td>\n",
       "      <td>5.812290</td>\n",
       "      <td>5.796325</td>\n",
       "    </tr>\n",
       "    <tr>\n",
       "      <th>15</th>\n",
       "      <td>-0.615995</td>\n",
       "      <td>1.831010</td>\n",
       "      <td>0.993492</td>\n",
       "      <td>0.314857</td>\n",
       "      <td>-0.016814</td>\n",
       "      <td>-0.377739</td>\n",
       "      <td>-0.261203</td>\n",
       "      <td>0.331531</td>\n",
       "      <td>-0.837918</td>\n",
       "      <td>4.943670</td>\n",
       "      <td>4.941308</td>\n",
       "    </tr>\n",
       "    <tr>\n",
       "      <th>16</th>\n",
       "      <td>-0.945894</td>\n",
       "      <td>0.071800</td>\n",
       "      <td>-0.126385</td>\n",
       "      <td>-0.036983</td>\n",
       "      <td>0.179937</td>\n",
       "      <td>-0.262816</td>\n",
       "      <td>-1.510038</td>\n",
       "      <td>0.516598</td>\n",
       "      <td>0.359674</td>\n",
       "      <td>4.170000</td>\n",
       "      <td>4.033303</td>\n",
       "    </tr>\n",
       "    <tr>\n",
       "      <th>17</th>\n",
       "      <td>-0.446885</td>\n",
       "      <td>0.143060</td>\n",
       "      <td>0.301674</td>\n",
       "      <td>-0.253968</td>\n",
       "      <td>-0.336661</td>\n",
       "      <td>-1.327105</td>\n",
       "      <td>-0.135588</td>\n",
       "      <td>0.328733</td>\n",
       "      <td>-0.778120</td>\n",
       "      <td>4.557315</td>\n",
       "      <td>4.552474</td>\n",
       "    </tr>\n",
       "    <tr>\n",
       "      <th>18</th>\n",
       "      <td>1.506360</td>\n",
       "      <td>-1.600779</td>\n",
       "      <td>1.939493</td>\n",
       "      <td>-0.036241</td>\n",
       "      <td>-2.503447</td>\n",
       "      <td>1.217666</td>\n",
       "      <td>1.258974</td>\n",
       "      <td>0.516598</td>\n",
       "      <td>-1.358268</td>\n",
       "      <td>4.610000</td>\n",
       "      <td>4.616653</td>\n",
       "    </tr>\n",
       "    <tr>\n",
       "      <th>19</th>\n",
       "      <td>-0.890712</td>\n",
       "      <td>-0.620498</td>\n",
       "      <td>-0.582088</td>\n",
       "      <td>-0.634863</td>\n",
       "      <td>-0.145449</td>\n",
       "      <td>0.077267</td>\n",
       "      <td>-0.282725</td>\n",
       "      <td>0.516598</td>\n",
       "      <td>-1.971392</td>\n",
       "      <td>3.740000</td>\n",
       "      <td>3.823169</td>\n",
       "    </tr>\n",
       "    <tr>\n",
       "      <th>20</th>\n",
       "      <td>-0.011409</td>\n",
       "      <td>-0.314398</td>\n",
       "      <td>-0.031155</td>\n",
       "      <td>0.845919</td>\n",
       "      <td>0.189170</td>\n",
       "      <td>0.278306</td>\n",
       "      <td>-0.919842</td>\n",
       "      <td>0.516598</td>\n",
       "      <td>0.776725</td>\n",
       "      <td>3.618000</td>\n",
       "      <td>4.196877</td>\n",
       "    </tr>\n",
       "    <tr>\n",
       "      <th>21</th>\n",
       "      <td>0.467741</td>\n",
       "      <td>-0.174218</td>\n",
       "      <td>0.496315</td>\n",
       "      <td>1.546765</td>\n",
       "      <td>0.058423</td>\n",
       "      <td>1.309409</td>\n",
       "      <td>-0.027187</td>\n",
       "      <td>-1.769269</td>\n",
       "      <td>0.633602</td>\n",
       "      <td>5.702120</td>\n",
       "      <td>5.692366</td>\n",
       "    </tr>\n",
       "    <tr>\n",
       "      <th>22</th>\n",
       "      <td>-0.786237</td>\n",
       "      <td>-0.066171</td>\n",
       "      <td>-0.618654</td>\n",
       "      <td>-1.266527</td>\n",
       "      <td>0.249981</td>\n",
       "      <td>-0.093600</td>\n",
       "      <td>-0.965558</td>\n",
       "      <td>0.516598</td>\n",
       "      <td>-0.118396</td>\n",
       "      <td>4.107000</td>\n",
       "      <td>3.937851</td>\n",
       "    </tr>\n",
       "    <tr>\n",
       "      <th>23</th>\n",
       "      <td>1.504233</td>\n",
       "      <td>-1.591468</td>\n",
       "      <td>-1.091932</td>\n",
       "      <td>1.876099</td>\n",
       "      <td>1.483555</td>\n",
       "      <td>1.099067</td>\n",
       "      <td>1.307217</td>\n",
       "      <td>0.469632</td>\n",
       "      <td>1.501194</td>\n",
       "      <td>6.200253</td>\n",
       "      <td>6.193373</td>\n",
       "    </tr>\n",
       "    <tr>\n",
       "      <th>24</th>\n",
       "      <td>-0.166560</td>\n",
       "      <td>-1.600329</td>\n",
       "      <td>1.344959</td>\n",
       "      <td>0.978933</td>\n",
       "      <td>2.342679</td>\n",
       "      <td>1.841169</td>\n",
       "      <td>-1.648225</td>\n",
       "      <td>-2.007011</td>\n",
       "      <td>1.934290</td>\n",
       "      <td>5.817400</td>\n",
       "      <td>5.805782</td>\n",
       "    </tr>\n",
       "    <tr>\n",
       "      <th>25</th>\n",
       "      <td>-0.451052</td>\n",
       "      <td>0.826844</td>\n",
       "      <td>1.120489</td>\n",
       "      <td>0.015104</td>\n",
       "      <td>0.462959</td>\n",
       "      <td>-0.735875</td>\n",
       "      <td>-1.351336</td>\n",
       "      <td>0.678041</td>\n",
       "      <td>1.053635</td>\n",
       "      <td>4.682856</td>\n",
       "      <td>4.654746</td>\n",
       "    </tr>\n",
       "    <tr>\n",
       "      <th>26</th>\n",
       "      <td>-0.472779</td>\n",
       "      <td>0.785987</td>\n",
       "      <td>1.150234</td>\n",
       "      <td>0.060528</td>\n",
       "      <td>0.403394</td>\n",
       "      <td>-0.783631</td>\n",
       "      <td>-1.358324</td>\n",
       "      <td>0.511648</td>\n",
       "      <td>1.044093</td>\n",
       "      <td>4.679961</td>\n",
       "      <td>4.599843</td>\n",
       "    </tr>\n",
       "    <tr>\n",
       "      <th>27</th>\n",
       "      <td>-0.078526</td>\n",
       "      <td>0.029521</td>\n",
       "      <td>-1.338253</td>\n",
       "      <td>-1.622103</td>\n",
       "      <td>0.100361</td>\n",
       "      <td>-1.082975</td>\n",
       "      <td>-0.870591</td>\n",
       "      <td>0.516598</td>\n",
       "      <td>0.913400</td>\n",
       "      <td>3.938000</td>\n",
       "      <td>3.692965</td>\n",
       "    </tr>\n",
       "    <tr>\n",
       "      <th>28</th>\n",
       "      <td>0.598662</td>\n",
       "      <td>-0.469298</td>\n",
       "      <td>-0.811130</td>\n",
       "      <td>-0.768245</td>\n",
       "      <td>-0.229894</td>\n",
       "      <td>0.934726</td>\n",
       "      <td>1.258974</td>\n",
       "      <td>0.516598</td>\n",
       "      <td>-0.763731</td>\n",
       "      <td>3.803000</td>\n",
       "      <td>3.983743</td>\n",
       "    </tr>\n",
       "    <tr>\n",
       "      <th>29</th>\n",
       "      <td>0.095416</td>\n",
       "      <td>1.258201</td>\n",
       "      <td>1.037091</td>\n",
       "      <td>-1.193774</td>\n",
       "      <td>-0.261134</td>\n",
       "      <td>-0.225789</td>\n",
       "      <td>-0.504517</td>\n",
       "      <td>0.410259</td>\n",
       "      <td>0.403288</td>\n",
       "      <td>4.723762</td>\n",
       "      <td>4.706759</td>\n",
       "    </tr>\n",
       "    <tr>\n",
       "      <th>30</th>\n",
       "      <td>1.506360</td>\n",
       "      <td>-0.662464</td>\n",
       "      <td>-1.276296</td>\n",
       "      <td>-1.314880</td>\n",
       "      <td>-1.931870</td>\n",
       "      <td>0.629953</td>\n",
       "      <td>1.258974</td>\n",
       "      <td>0.516598</td>\n",
       "      <td>-0.244738</td>\n",
       "      <td>3.678000</td>\n",
       "      <td>3.723201</td>\n",
       "    </tr>\n",
       "    <tr>\n",
       "      <th>31</th>\n",
       "      <td>0.021263</td>\n",
       "      <td>1.002328</td>\n",
       "      <td>0.899248</td>\n",
       "      <td>0.171591</td>\n",
       "      <td>-0.183716</td>\n",
       "      <td>-1.247781</td>\n",
       "      <td>1.137146</td>\n",
       "      <td>0.551027</td>\n",
       "      <td>-0.859737</td>\n",
       "      <td>4.711195</td>\n",
       "      <td>4.706623</td>\n",
       "    </tr>\n",
       "    <tr>\n",
       "      <th>32</th>\n",
       "      <td>0.492225</td>\n",
       "      <td>-0.190727</td>\n",
       "      <td>0.468002</td>\n",
       "      <td>1.517322</td>\n",
       "      <td>0.010948</td>\n",
       "      <td>1.323283</td>\n",
       "      <td>-0.017900</td>\n",
       "      <td>-1.773187</td>\n",
       "      <td>0.674821</td>\n",
       "      <td>5.703161</td>\n",
       "      <td>5.695825</td>\n",
       "    </tr>\n",
       "    <tr>\n",
       "      <th>33</th>\n",
       "      <td>-1.461824</td>\n",
       "      <td>-0.577527</td>\n",
       "      <td>-1.331331</td>\n",
       "      <td>-1.047627</td>\n",
       "      <td>-0.273573</td>\n",
       "      <td>-1.432669</td>\n",
       "      <td>-1.510038</td>\n",
       "      <td>0.516598</td>\n",
       "      <td>-0.633942</td>\n",
       "      <td>3.735000</td>\n",
       "      <td>3.736204</td>\n",
       "    </tr>\n",
       "    <tr>\n",
       "      <th>34</th>\n",
       "      <td>-0.456623</td>\n",
       "      <td>0.817718</td>\n",
       "      <td>1.149310</td>\n",
       "      <td>0.032022</td>\n",
       "      <td>0.465713</td>\n",
       "      <td>-0.746464</td>\n",
       "      <td>-1.355656</td>\n",
       "      <td>0.516598</td>\n",
       "      <td>1.058701</td>\n",
       "      <td>4.680000</td>\n",
       "      <td>4.655630</td>\n",
       "    </tr>\n",
       "    <tr>\n",
       "      <th>35</th>\n",
       "      <td>-0.614075</td>\n",
       "      <td>1.788782</td>\n",
       "      <td>1.001664</td>\n",
       "      <td>0.312623</td>\n",
       "      <td>-0.063160</td>\n",
       "      <td>-0.352379</td>\n",
       "      <td>-0.248726</td>\n",
       "      <td>0.475312</td>\n",
       "      <td>-0.955650</td>\n",
       "      <td>4.960059</td>\n",
       "      <td>4.938796</td>\n",
       "    </tr>\n",
       "  </tbody>\n",
       "</table>\n",
       "</div>"
      ],
      "text/plain": [
       "        ymag       g_r       r_i       i_z       z_y     w1_w2     w2_w3  \\\n",
       "0  -0.471246 -0.540073 -0.470443 -0.852714  0.078241  0.135389 -0.507934   \n",
       "1   0.013458 -0.800225 -1.165033 -0.920749  1.209868  0.058998  0.287895   \n",
       "2  -0.460776  0.175468  0.263064 -0.278014 -0.342805 -1.275726 -0.113736   \n",
       "3  -0.185742 -1.581073  1.356713  0.998320  2.401482  1.845891 -1.626576   \n",
       "4   0.098472  1.311384  1.019669 -1.237699 -0.281960 -0.068410 -0.509998   \n",
       "5   0.133012 -0.279798 -0.618899 -0.456211 -0.043977  1.030198  0.327007   \n",
       "6   0.743779 -0.640330 -0.866448 -1.116169 -0.648264  0.237647  0.005397   \n",
       "7   1.515202 -1.597086  1.943382 -0.019744 -2.473318  1.208431  1.298448   \n",
       "8  -1.647761 -0.371322 -0.872413 -0.424393 -0.165033 -0.758882 -1.601458   \n",
       "9  -0.106305 -0.045169 -0.753598 -0.457768 -0.202004  1.037305 -0.014429   \n",
       "10  0.007123  1.052507  0.910667  0.196415 -0.150143 -1.218637  1.070666   \n",
       "11  0.749897  0.211215 -1.757781 -0.903009 -0.428268 -1.233712  1.258974   \n",
       "12  1.509489 -1.617007  1.950083 -0.029299 -2.497979  1.214407  1.230459   \n",
       "13 -0.049215  0.575324 -0.971763 -0.380700  0.829011 -0.455196  1.258974   \n",
       "14 -0.189651 -1.607306  1.376754  0.966812  2.367383  1.833932 -1.635314   \n",
       "15 -0.615995  1.831010  0.993492  0.314857 -0.016814 -0.377739 -0.261203   \n",
       "16 -0.945894  0.071800 -0.126385 -0.036983  0.179937 -0.262816 -1.510038   \n",
       "17 -0.446885  0.143060  0.301674 -0.253968 -0.336661 -1.327105 -0.135588   \n",
       "18  1.506360 -1.600779  1.939493 -0.036241 -2.503447  1.217666  1.258974   \n",
       "19 -0.890712 -0.620498 -0.582088 -0.634863 -0.145449  0.077267 -0.282725   \n",
       "20 -0.011409 -0.314398 -0.031155  0.845919  0.189170  0.278306 -0.919842   \n",
       "21  0.467741 -0.174218  0.496315  1.546765  0.058423  1.309409 -0.027187   \n",
       "22 -0.786237 -0.066171 -0.618654 -1.266527  0.249981 -0.093600 -0.965558   \n",
       "23  1.504233 -1.591468 -1.091932  1.876099  1.483555  1.099067  1.307217   \n",
       "24 -0.166560 -1.600329  1.344959  0.978933  2.342679  1.841169 -1.648225   \n",
       "25 -0.451052  0.826844  1.120489  0.015104  0.462959 -0.735875 -1.351336   \n",
       "26 -0.472779  0.785987  1.150234  0.060528  0.403394 -0.783631 -1.358324   \n",
       "27 -0.078526  0.029521 -1.338253 -1.622103  0.100361 -1.082975 -0.870591   \n",
       "28  0.598662 -0.469298 -0.811130 -0.768245 -0.229894  0.934726  1.258974   \n",
       "29  0.095416  1.258201  1.037091 -1.193774 -0.261134 -0.225789 -0.504517   \n",
       "30  1.506360 -0.662464 -1.276296 -1.314880 -1.931870  0.629953  1.258974   \n",
       "31  0.021263  1.002328  0.899248  0.171591 -0.183716 -1.247781  1.137146   \n",
       "32  0.492225 -0.190727  0.468002  1.517322  0.010948  1.323283 -0.017900   \n",
       "33 -1.461824 -0.577527 -1.331331 -1.047627 -0.273573 -1.432669 -1.510038   \n",
       "34 -0.456623  0.817718  1.149310  0.032022  0.465713 -0.746464 -1.355656   \n",
       "35 -0.614075  1.788782  1.001664  0.312623 -0.063160 -0.352379 -0.248726   \n",
       "\n",
       "       w3_w4      z/W1         Z     Label  \n",
       "0   0.516598 -0.405404  4.000000  3.913399  \n",
       "1   0.516598  0.604975  3.701000  3.881833  \n",
       "2   0.382066 -0.745698  4.543724  4.542876  \n",
       "3  -2.007542  1.960174  5.776715  5.795785  \n",
       "4   0.447237  0.367771  4.741865  4.733782  \n",
       "5   0.516598 -0.837307  3.652000  4.096828  \n",
       "6   0.516598  0.519066  3.607000  3.855051  \n",
       "7   0.313164 -1.354343  4.592960  4.622982  \n",
       "8  -1.978129  0.038857  3.833000  3.802419  \n",
       "9   0.516598 -1.202831  3.612000  4.109505  \n",
       "10  0.393893 -0.790103  4.720107  4.712487  \n",
       "11  0.516598  0.270920  3.770000  3.718828  \n",
       "12  0.466160 -1.386857  4.591133  4.605499  \n",
       "13  0.516598 -0.290325  3.829000  4.048779  \n",
       "14 -2.007552  1.937816  5.812290  5.796325  \n",
       "15  0.331531 -0.837918  4.943670  4.941308  \n",
       "16  0.516598  0.359674  4.170000  4.033303  \n",
       "17  0.328733 -0.778120  4.557315  4.552474  \n",
       "18  0.516598 -1.358268  4.610000  4.616653  \n",
       "19  0.516598 -1.971392  3.740000  3.823169  \n",
       "20  0.516598  0.776725  3.618000  4.196877  \n",
       "21 -1.769269  0.633602  5.702120  5.692366  \n",
       "22  0.516598 -0.118396  4.107000  3.937851  \n",
       "23  0.469632  1.501194  6.200253  6.193373  \n",
       "24 -2.007011  1.934290  5.817400  5.805782  \n",
       "25  0.678041  1.053635  4.682856  4.654746  \n",
       "26  0.511648  1.044093  4.679961  4.599843  \n",
       "27  0.516598  0.913400  3.938000  3.692965  \n",
       "28  0.516598 -0.763731  3.803000  3.983743  \n",
       "29  0.410259  0.403288  4.723762  4.706759  \n",
       "30  0.516598 -0.244738  3.678000  3.723201  \n",
       "31  0.551027 -0.859737  4.711195  4.706623  \n",
       "32 -1.773187  0.674821  5.703161  5.695825  \n",
       "33  0.516598 -0.633942  3.735000  3.736204  \n",
       "34  0.516598  1.058701  4.680000  4.655630  \n",
       "35  0.475312 -0.955650  4.960059  4.938796  "
      ]
     },
     "execution_count": 84,
     "metadata": {},
     "output_type": "execute_result"
    }
   ],
   "source": [
    "pyr.predict_model(tuned_z_reg)"
   ]
  },
  {
   "cell_type": "code",
   "execution_count": 85,
   "id": "ae5c581b",
   "metadata": {},
   "outputs": [
    {
     "data": {
      "text/html": [
       "<style type=\"text/css\">\n",
       "</style>\n",
       "<table id=\"T_42312\">\n",
       "  <thead>\n",
       "    <tr>\n",
       "      <th class=\"blank level0\" >&nbsp;</th>\n",
       "      <th id=\"T_42312_level0_col0\" class=\"col_heading level0 col0\" >Model</th>\n",
       "      <th id=\"T_42312_level0_col1\" class=\"col_heading level0 col1\" >MAE</th>\n",
       "      <th id=\"T_42312_level0_col2\" class=\"col_heading level0 col2\" >MSE</th>\n",
       "      <th id=\"T_42312_level0_col3\" class=\"col_heading level0 col3\" >RMSE</th>\n",
       "      <th id=\"T_42312_level0_col4\" class=\"col_heading level0 col4\" >R2</th>\n",
       "      <th id=\"T_42312_level0_col5\" class=\"col_heading level0 col5\" >RMSLE</th>\n",
       "      <th id=\"T_42312_level0_col6\" class=\"col_heading level0 col6\" >MAPE</th>\n",
       "      <th id=\"T_42312_level0_col7\" class=\"col_heading level0 col7\" >sigma_mad</th>\n",
       "      <th id=\"T_42312_level0_col8\" class=\"col_heading level0 col8\" >sigma_nmad</th>\n",
       "      <th id=\"T_42312_level0_col9\" class=\"col_heading level0 col9\" >sigma_z</th>\n",
       "      <th id=\"T_42312_level0_col10\" class=\"col_heading level0 col10\" >sigma_z_norm</th>\n",
       "      <th id=\"T_42312_level0_col11\" class=\"col_heading level0 col11\" >outlier_fr</th>\n",
       "    </tr>\n",
       "  </thead>\n",
       "  <tbody>\n",
       "    <tr>\n",
       "      <th id=\"T_42312_level0_row0\" class=\"row_heading level0 row0\" >0</th>\n",
       "      <td id=\"T_42312_row0_col0\" class=\"data row0 col0\" >Stacking Regressor</td>\n",
       "      <td id=\"T_42312_row0_col1\" class=\"data row0 col1\" >0.0978</td>\n",
       "      <td id=\"T_42312_row0_col2\" class=\"data row0 col2\" >0.0304</td>\n",
       "      <td id=\"T_42312_row0_col3\" class=\"data row0 col3\" >0.1743</td>\n",
       "      <td id=\"T_42312_row0_col4\" class=\"data row0 col4\" >0.9451</td>\n",
       "      <td id=\"T_42312_row0_col5\" class=\"data row0 col5\" >0.0357</td>\n",
       "      <td id=\"T_42312_row0_col6\" class=\"data row0 col6\" >0.0256</td>\n",
       "      <td id=\"T_42312_row0_col7\" class=\"data row0 col7\" >0.0388</td>\n",
       "      <td id=\"T_42312_row0_col8\" class=\"data row0 col8\" >0.0068</td>\n",
       "      <td id=\"T_42312_row0_col9\" class=\"data row0 col9\" >0.1743</td>\n",
       "      <td id=\"T_42312_row0_col10\" class=\"data row0 col10\" >0.0372</td>\n",
       "      <td id=\"T_42312_row0_col11\" class=\"data row0 col11\" >0.0000</td>\n",
       "    </tr>\n",
       "  </tbody>\n",
       "</table>\n"
      ],
      "text/plain": [
       "<pandas.io.formats.style.Styler at 0x7fdac849e820>"
      ]
     },
     "metadata": {},
     "output_type": "display_data"
    }
   ],
   "source": [
    "test_prediction_reg = pyr.predict_model(tuned_z_reg)"
   ]
  },
  {
   "cell_type": "code",
   "execution_count": 86,
   "id": "6ad230d1",
   "metadata": {
    "id": "WsMuc6dtt2ci"
   },
   "outputs": [],
   "source": [
    "final_z_reg = pyr.finalize_model(tuned_z_reg)"
   ]
  },
  {
   "cell_type": "code",
   "execution_count": 87,
   "id": "098c288c",
   "metadata": {
    "id": "kAciINC6t-gk"
   },
   "outputs": [
    {
     "name": "stdout",
     "output_type": "stream",
     "text": [
      "Transformation Pipeline and Model Successfully Saved\n"
     ]
    }
   ],
   "source": [
    "if save_model_flag:\n",
    "    if redshift_low_lim == 3.7:\n",
    "        pyr.save_model(final_z_reg, 'models/regression_z_jun_01_2022')  # Model (it will be saved with .pkl extension)\n",
    "        # pyr.save_config('models/config_regression_z_jun_01_2022')  # Configuration file\n",
    "    elif redshift_low_lim == 3.6:\n",
    "        pyr.save_model(final_z_reg, 'models/regression_z_jul_19_2022')  # Model (it will be saved with .pkl extension)\n",
    "        # pyr.save_config('models/config_regression_z_jul_19_2022')  # Configuration file"
   ]
  },
  {
   "cell_type": "markdown",
   "id": "3506f81a",
   "metadata": {
    "id": "ef654bbb-7b74-4cef-a809-42d2eb8e7fcb"
   },
   "source": [
    "## Load Models"
   ]
  },
  {
   "cell_type": "markdown",
   "id": "087d8a84",
   "metadata": {
    "id": "217777e4-0212-4a37-b535-6fcaf2f0817e"
   },
   "source": [
    "AGN detection model."
   ]
  },
  {
   "cell_type": "code",
   "execution_count": 70,
   "id": "7b5cc52c",
   "metadata": {
    "id": "ad6bf94f-c59d-4013-b523-76a77df047cc",
    "outputId": "d8cd5b82-e109-4bd1-90ea-bf0e85e10ccd",
    "tags": []
   },
   "outputs": [
    {
     "name": "stdout",
     "output_type": "stream",
     "text": [
      "Transformation Pipeline and Model Successfully Loaded\n"
     ]
    }
   ],
   "source": [
    "if load_model_flag:\n",
    "    if redshift_low_lim == 3.7:\n",
    "        final_z_reg = pyr.load_model('models/regression_z_jun_01_2022')  # for z >= 4, regression_z_may_31_4_2022\n",
    "    elif redshift_low_lim == 3.6:\n",
    "        final_z_reg = pyr.load_model('models/regression_z_jul_19_2022')  # for z >= 4, regression_z_may_31_4_2022"
   ]
  },
  {
   "cell_type": "markdown",
   "id": "a009d005",
   "metadata": {
    "id": "6fcb2c6c-a004-4801-b43d-a3593f802cf5"
   },
   "source": [
    "### Prediction process"
   ]
  },
  {
   "cell_type": "markdown",
   "id": "6bf1f32d",
   "metadata": {},
   "source": [
    "#### Feature importances"
   ]
  },
  {
   "cell_type": "code",
   "execution_count": 88,
   "id": "059ebdc2",
   "metadata": {
    "jupyter": {
     "source_hidden": true
    }
   },
   "outputs": [],
   "source": [
    "estimators_list = get_base_estimators_names(final_z_reg)"
   ]
  },
  {
   "cell_type": "code",
   "execution_count": 89,
   "id": "7f07a8a8",
   "metadata": {
    "jupyter": {
     "source_hidden": true
    },
    "tags": []
   },
   "outputs": [
    {
     "name": "stdout",
     "output_type": "stream",
     "text": [
      "Running dtypes\n",
      "Running imputer\n",
      "Running new_levels1\n",
      "Running new_levels\n",
      "Running feature_time\n",
      "Running scaling\n",
      "Running P_transform\n",
      "Running dummy\n",
      "Running fix_perfect\n",
      "Running clean_names\n"
     ]
    }
   ],
   "source": [
    "extended_data_z = validation_df.loc[:, get_final_column_names(final_z_reg, validation_df)].copy()\n",
    "extended_idx_z  = extended_data_z.index\n",
    "initial_cols_z  = extended_data_z.columns\n",
    "extended_cols_z = extended_data_z.columns.insert(0, estimators_list[0])\n",
    "if len(estimators_list) > 1:\n",
    "    for est_name in estimators_list[1::]:\n",
    "        extended_cols_z = extended_cols_z.insert(0, est_name)"
   ]
  },
  {
   "cell_type": "code",
   "execution_count": 90,
   "id": "da19b815",
   "metadata": {
    "jupyter": {
     "source_hidden": true
    },
    "tags": []
   },
   "outputs": [
    {
     "name": "stdout",
     "output_type": "stream",
     "text": [
      "Running data pre-processing:\n",
      "\n",
      "Running dtypes\n",
      "Running imputer\n",
      "Running new_levels1\n",
      "Running new_levels\n",
      "Running feature_time\n",
      "Running scaling\n",
      "Running P_transform\n",
      "Running dummy\n",
      "Running fix_perfect\n",
      "Running clean_names\n"
     ]
    }
   ],
   "source": [
    "print('Running data pre-processing:\\n')\n",
    "if isinstance(final_z_reg, sklearn.pipeline.Pipeline):\n",
    "    prep_steps = final_z_reg.named_steps.items()\n",
    "else:\n",
    "    prep_steps = pyr.get_config('prep_pipe').named_steps.items()\n",
    "\n",
    "for (name, method) in prep_steps:\n",
    "    if method != 'passthrough':  # and name != 'trained_model':\n",
    "        print(f'Running {name}')\n",
    "        extended_data_z = method.transform(extended_data_z)\n",
    "extended_data_z_df = pd.DataFrame(extended_data_z, columns=extended_cols_z, index=extended_idx_z)"
   ]
  },
  {
   "cell_type": "code",
   "execution_count": 91,
   "id": "8d1ff004",
   "metadata": {
    "jupyter": {
     "source_hidden": true
    },
    "tags": []
   },
   "outputs": [],
   "source": [
    "if isinstance(final_z_reg, sklearn.pipeline.Pipeline):\n",
    "    if hasattr(final_z_reg.named_steps['trained_model'].final_estimator_, 'feature_importances_'):\n",
    "        importances_coef = final_z_reg.named_steps['trained_model'].final_estimator_.feature_importances_\n",
    "    elif hasattr(final_z_reg.named_steps['trained_model'].final_estimator_, 'coef_'):\n",
    "        importances_coef = np.abs(np.ravel(final_z_reg.named_steps['trained_model'].final_estimator_.coef_)) *\\\n",
    "                                     extended_data_z_df.loc[:, extended_cols_z].std(axis=0)\n",
    "else:\n",
    "    if hasattr(final_z_reg.final_estimator_, 'feature_importances_'):\n",
    "        importances_coef = final_z_reg.final_estimator_.feature_importances_\n",
    "    elif hasattr(final_z_reg.final_estimator_, 'coef_'):\n",
    "        importances_coef = np.abs(np.ravel(final_z_reg.final_estimator_.coef_)) *\\\n",
    "                                     extended_data_z_df.loc[:, extended_cols_z].std(axis=0)\n",
    "\n",
    "coef_meta_df = pd.DataFrame({'Feature': extended_cols_z, 'Importance': importances_coef})\n",
    "coef_sorted_meta_df = (\n",
    "    coef_meta_df.sort_values(by='Importance', ascending=False)\n",
    "    .head(len(extended_cols_z))\n",
    "    .sort_values(by='Importance', ascending=False).reset_index(drop=True)\n",
    ")"
   ]
  },
  {
   "cell_type": "code",
   "execution_count": 92,
   "id": "7f005772",
   "metadata": {
    "jupyter": {
     "source_hidden": true
    },
    "tags": []
   },
   "outputs": [],
   "source": [
    "if isinstance(final_z_reg, sklearn.pipeline.Pipeline):\n",
    "    estimators_list  = final_z_reg.named_steps['trained_model'].estimators\n",
    "    estimators_list_ = final_z_reg.named_steps['trained_model'].estimators_\n",
    "else:\n",
    "    estimators_list  = final_z_reg.estimators\n",
    "    estimators_list_ = final_z_reg.estimators_"
   ]
  },
  {
   "cell_type": "code",
   "execution_count": 93,
   "id": "1b6ba6ad",
   "metadata": {
    "jupyter": {
     "source_hidden": true
    },
    "tags": []
   },
   "outputs": [],
   "source": [
    "base_models_names = [model[0] for model in estimators_list]"
   ]
  },
  {
   "cell_type": "code",
   "execution_count": 94,
   "id": "4e60c6d8",
   "metadata": {
    "jupyter": {
     "source_hidden": true
    },
    "tags": []
   },
   "outputs": [],
   "source": [
    "coef_sorted_base_df = {}"
   ]
  },
  {
   "cell_type": "code",
   "execution_count": 95,
   "id": "f178aa33",
   "metadata": {
    "jupyter": {
     "source_hidden": true
    },
    "tags": []
   },
   "outputs": [],
   "source": [
    "for model, model_fit in zip(base_models_names, estimators_list_):\n",
    "    if hasattr(model_fit, 'feature_importances_'):\n",
    "        coef_base_df = pd.DataFrame({'Feature': extended_cols_z.drop(base_models_names),\n",
    "                                     'Importance': model_fit.feature_importances_})\n",
    "        coef_sorted_base_df[model] = (\n",
    "        coef_base_df.sort_values(by='Importance', ascending=False)\n",
    "        .head(len(extended_cols_z.drop(base_models_names)))\n",
    "        .sort_values(by='Importance', ascending=False).reset_index(drop=True)\n",
    "    )\n",
    "    elif hasattr(model_fit, 'coef_'):\n",
    "        coef_base_df = pd.DataFrame({'Feature': extended_cols_z.drop(base_models_names),\n",
    "                                     'Importance': np.abs(np.ravel(model_fit.coef_)) *\\\n",
    "                                     extended_data_z_df.loc[:, extended_cols_z.drop(base_models_names)].std(axis=0)})\n",
    "        coef_sorted_base_df[model] = (\n",
    "        coef_base_df.sort_values(by='Importance', ascending=False)\n",
    "        .head(len(extended_cols_radio.drop(base_models_names)))\n",
    "        .sort_values(by='Importance', ascending=False).reset_index(drop=True)\n",
    ")"
   ]
  },
  {
   "cell_type": "code",
   "execution_count": 96,
   "id": "0039ec08",
   "metadata": {
    "jupyter": {
     "source_hidden": true
    },
    "tags": []
   },
   "outputs": [],
   "source": [
    "multicol_feat = [(key, name) for key in coef_sorted_base_df.keys() for name in ('Feature', 'Importance')]"
   ]
  },
  {
   "cell_type": "code",
   "execution_count": 97,
   "id": "ce65d62f",
   "metadata": {
    "jupyter": {
     "source_hidden": true
    },
    "tags": []
   },
   "outputs": [
    {
     "name": "stdout",
     "output_type": "stream",
     "text": [
      "Feature importances scaled to sum 100\n",
      "Calculating for et...\n",
      "Calculating for dt...\n",
      "Calculating for catboost...\n",
      "Calculating for gbr...\n"
     ]
    },
    {
     "data": {
      "text/html": [
       "<div>\n",
       "<style scoped>\n",
       "    .dataframe tbody tr th:only-of-type {\n",
       "        vertical-align: middle;\n",
       "    }\n",
       "\n",
       "    .dataframe tbody tr th {\n",
       "        vertical-align: top;\n",
       "    }\n",
       "\n",
       "    .dataframe thead tr th {\n",
       "        text-align: left;\n",
       "    }\n",
       "</style>\n",
       "<table border=\"1\" class=\"dataframe\">\n",
       "  <thead>\n",
       "    <tr>\n",
       "      <th></th>\n",
       "      <th colspan=\"2\" halign=\"left\">et</th>\n",
       "      <th colspan=\"2\" halign=\"left\">dt</th>\n",
       "      <th colspan=\"2\" halign=\"left\">catboost</th>\n",
       "      <th colspan=\"2\" halign=\"left\">gbr</th>\n",
       "    </tr>\n",
       "    <tr>\n",
       "      <th></th>\n",
       "      <th>Feature</th>\n",
       "      <th>Importance</th>\n",
       "      <th>Feature</th>\n",
       "      <th>Importance</th>\n",
       "      <th>Feature</th>\n",
       "      <th>Importance</th>\n",
       "      <th>Feature</th>\n",
       "      <th>Importance</th>\n",
       "    </tr>\n",
       "  </thead>\n",
       "  <tbody>\n",
       "    <tr>\n",
       "      <th>0</th>\n",
       "      <td>i_z</td>\n",
       "      <td>29.046446</td>\n",
       "      <td>i_z</td>\n",
       "      <td>62.161853</td>\n",
       "      <td>i_z</td>\n",
       "      <td>29.362151</td>\n",
       "      <td>i_z</td>\n",
       "      <td>62.217421</td>\n",
       "    </tr>\n",
       "    <tr>\n",
       "      <th>1</th>\n",
       "      <td>r_i</td>\n",
       "      <td>22.306928</td>\n",
       "      <td>r_i</td>\n",
       "      <td>24.857051</td>\n",
       "      <td>r_i</td>\n",
       "      <td>26.720730</td>\n",
       "      <td>r_i</td>\n",
       "      <td>24.655207</td>\n",
       "    </tr>\n",
       "    <tr>\n",
       "      <th>2</th>\n",
       "      <td>g_r</td>\n",
       "      <td>11.151399</td>\n",
       "      <td>g_r</td>\n",
       "      <td>10.672517</td>\n",
       "      <td>g_r</td>\n",
       "      <td>13.040656</td>\n",
       "      <td>g_r</td>\n",
       "      <td>6.153391</td>\n",
       "    </tr>\n",
       "    <tr>\n",
       "      <th>3</th>\n",
       "      <td>z_y</td>\n",
       "      <td>11.030223</td>\n",
       "      <td>w1_w2</td>\n",
       "      <td>1.641176</td>\n",
       "      <td>z/W1</td>\n",
       "      <td>9.595832</td>\n",
       "      <td>z/W1</td>\n",
       "      <td>4.912498</td>\n",
       "    </tr>\n",
       "    <tr>\n",
       "      <th>4</th>\n",
       "      <td>z/W1</td>\n",
       "      <td>10.760078</td>\n",
       "      <td>ymag</td>\n",
       "      <td>0.252748</td>\n",
       "      <td>z_y</td>\n",
       "      <td>6.467115</td>\n",
       "      <td>ymag</td>\n",
       "      <td>0.796223</td>\n",
       "    </tr>\n",
       "    <tr>\n",
       "      <th>5</th>\n",
       "      <td>w1_w2</td>\n",
       "      <td>7.939859</td>\n",
       "      <td>z/W1</td>\n",
       "      <td>0.195427</td>\n",
       "      <td>w1_w2</td>\n",
       "      <td>5.439570</td>\n",
       "      <td>w1_w2</td>\n",
       "      <td>0.580265</td>\n",
       "    </tr>\n",
       "    <tr>\n",
       "      <th>6</th>\n",
       "      <td>w3_w4</td>\n",
       "      <td>5.010300</td>\n",
       "      <td>z_y</td>\n",
       "      <td>0.127549</td>\n",
       "      <td>w3_w4</td>\n",
       "      <td>3.560490</td>\n",
       "      <td>w2_w3</td>\n",
       "      <td>0.474946</td>\n",
       "    </tr>\n",
       "    <tr>\n",
       "      <th>7</th>\n",
       "      <td>ymag</td>\n",
       "      <td>1.731388</td>\n",
       "      <td>w2_w3</td>\n",
       "      <td>0.089658</td>\n",
       "      <td>w2_w3</td>\n",
       "      <td>3.009944</td>\n",
       "      <td>z_y</td>\n",
       "      <td>0.207285</td>\n",
       "    </tr>\n",
       "    <tr>\n",
       "      <th>8</th>\n",
       "      <td>w2_w3</td>\n",
       "      <td>1.023378</td>\n",
       "      <td>w3_w4</td>\n",
       "      <td>0.002020</td>\n",
       "      <td>ymag</td>\n",
       "      <td>2.803512</td>\n",
       "      <td>w3_w4</td>\n",
       "      <td>0.002764</td>\n",
       "    </tr>\n",
       "  </tbody>\n",
       "</table>\n",
       "</div>"
      ],
      "text/plain": [
       "       et                 dt            catboost                gbr           \n",
       "  Feature Importance Feature Importance  Feature Importance Feature Importance\n",
       "0     i_z  29.046446     i_z  62.161853      i_z  29.362151     i_z  62.217421\n",
       "1     r_i  22.306928     r_i  24.857051      r_i  26.720730     r_i  24.655207\n",
       "2     g_r  11.151399     g_r  10.672517      g_r  13.040656     g_r   6.153391\n",
       "3     z_y  11.030223   w1_w2   1.641176     z/W1   9.595832    z/W1   4.912498\n",
       "4    z/W1  10.760078    ymag   0.252748      z_y   6.467115    ymag   0.796223\n",
       "5   w1_w2   7.939859    z/W1   0.195427    w1_w2   5.439570   w1_w2   0.580265\n",
       "6   w3_w4   5.010300     z_y   0.127549    w3_w4   3.560490   w2_w3   0.474946\n",
       "7    ymag   1.731388   w2_w3   0.089658    w2_w3   3.009944     z_y   0.207285\n",
       "8   w2_w3   1.023378   w3_w4   0.002020     ymag   2.803512   w3_w4   0.002764"
      ]
     },
     "metadata": {},
     "output_type": "display_data"
    }
   ],
   "source": [
    "print('Feature importances scaled to sum 100')\n",
    "coef_sorted_base_df_copy_sum = coef_sorted_base_df.copy()\n",
    "for key in coef_sorted_base_df_copy_sum.keys():\n",
    "    print(f'Calculating for {key}...')\n",
    "    coef_sorted_base_df_copy_sum[key].loc[:, 'Importance'] = coef_sorted_base_df[key].loc[:, 'Importance'] /\\\n",
    "                                                        coef_sorted_base_df[key].loc[:, 'Importance'].sum() * 100\n",
    "    # display(coef_sorted_base_df_copy_sum[key])\n",
    "coef_sorted_base_full_df = pd.concat([coef_sorted_base_df_copy_sum[key].reset_index(drop=True) for key in coef_sorted_base_df_copy_sum.keys()], axis=1)\n",
    "coef_sorted_base_full_df.columns = pd.MultiIndex.from_tuples(multicol_feat)\n",
    "display(coef_sorted_base_full_df)"
   ]
  },
  {
   "cell_type": "code",
   "execution_count": 98,
   "id": "de730624",
   "metadata": {
    "jupyter": {
     "source_hidden": true
    },
    "tags": []
   },
   "outputs": [
    {
     "name": "stdout",
     "output_type": "stream",
     "text": [
      "Feature importances scaled to sum 100\n",
      "Meta model\n"
     ]
    },
    {
     "data": {
      "text/html": [
       "<div>\n",
       "<style scoped>\n",
       "    .dataframe tbody tr th:only-of-type {\n",
       "        vertical-align: middle;\n",
       "    }\n",
       "\n",
       "    .dataframe tbody tr th {\n",
       "        vertical-align: top;\n",
       "    }\n",
       "\n",
       "    .dataframe thead th {\n",
       "        text-align: right;\n",
       "    }\n",
       "</style>\n",
       "<table border=\"1\" class=\"dataframe\">\n",
       "  <thead>\n",
       "    <tr style=\"text-align: right;\">\n",
       "      <th></th>\n",
       "      <th>Feature</th>\n",
       "      <th>Importance</th>\n",
       "    </tr>\n",
       "  </thead>\n",
       "  <tbody>\n",
       "    <tr>\n",
       "      <th>0</th>\n",
       "      <td>catboost</td>\n",
       "      <td>29.177380</td>\n",
       "    </tr>\n",
       "    <tr>\n",
       "      <th>1</th>\n",
       "      <td>dt</td>\n",
       "      <td>28.070375</td>\n",
       "    </tr>\n",
       "    <tr>\n",
       "      <th>2</th>\n",
       "      <td>gbr</td>\n",
       "      <td>21.422155</td>\n",
       "    </tr>\n",
       "    <tr>\n",
       "      <th>3</th>\n",
       "      <td>et</td>\n",
       "      <td>14.574236</td>\n",
       "    </tr>\n",
       "    <tr>\n",
       "      <th>4</th>\n",
       "      <td>i_z</td>\n",
       "      <td>2.145884</td>\n",
       "    </tr>\n",
       "    <tr>\n",
       "      <th>5</th>\n",
       "      <td>r_i</td>\n",
       "      <td>1.146741</td>\n",
       "    </tr>\n",
       "    <tr>\n",
       "      <th>6</th>\n",
       "      <td>z_y</td>\n",
       "      <td>0.749679</td>\n",
       "    </tr>\n",
       "    <tr>\n",
       "      <th>7</th>\n",
       "      <td>ymag</td>\n",
       "      <td>0.671285</td>\n",
       "    </tr>\n",
       "    <tr>\n",
       "      <th>8</th>\n",
       "      <td>g_r</td>\n",
       "      <td>0.531442</td>\n",
       "    </tr>\n",
       "    <tr>\n",
       "      <th>9</th>\n",
       "      <td>w1_w2</td>\n",
       "      <td>0.509123</td>\n",
       "    </tr>\n",
       "    <tr>\n",
       "      <th>10</th>\n",
       "      <td>w2_w3</td>\n",
       "      <td>0.507781</td>\n",
       "    </tr>\n",
       "    <tr>\n",
       "      <th>11</th>\n",
       "      <td>z/W1</td>\n",
       "      <td>0.366522</td>\n",
       "    </tr>\n",
       "    <tr>\n",
       "      <th>12</th>\n",
       "      <td>w3_w4</td>\n",
       "      <td>0.127396</td>\n",
       "    </tr>\n",
       "  </tbody>\n",
       "</table>\n",
       "</div>"
      ],
      "text/plain": [
       "     Feature  Importance\n",
       "0   catboost   29.177380\n",
       "1         dt   28.070375\n",
       "2        gbr   21.422155\n",
       "3         et   14.574236\n",
       "4        i_z    2.145884\n",
       "5        r_i    1.146741\n",
       "6        z_y    0.749679\n",
       "7       ymag    0.671285\n",
       "8        g_r    0.531442\n",
       "9      w1_w2    0.509123\n",
       "10     w2_w3    0.507781\n",
       "11      z/W1    0.366522\n",
       "12     w3_w4    0.127396"
      ]
     },
     "metadata": {},
     "output_type": "display_data"
    }
   ],
   "source": [
    "print('Feature importances scaled to sum 100')\n",
    "coef_sorted_meta_df_copy_sum = coef_sorted_meta_df.copy()\n",
    "coef_sorted_meta_df_copy_sum.loc[:, 'Importance'] = coef_sorted_meta_df.loc[:, 'Importance'] /\\\n",
    "                                                     coef_sorted_meta_df.loc[:, 'Importance'].sum() * 100\n",
    "print('Meta model')\n",
    "display(coef_sorted_meta_df_copy_sum)"
   ]
  },
  {
   "cell_type": "code",
   "execution_count": 123,
   "id": "cd57c516",
   "metadata": {
    "jupyter": {
     "source_hidden": true
    },
    "tags": []
   },
   "outputs": [
    {
     "name": "stdout",
     "output_type": "stream",
     "text": [
      "Feature importances scaled to sum 100\n",
      "Running dtypes\n",
      "Running imputer\n",
      "Running new_levels1\n",
      "Running new_levels\n",
      "Running feature_time\n",
      "Running scaling\n",
      "Running P_transform\n",
      "Running dummy\n",
      "Running fix_perfect\n",
      "Running clean_names\n",
      "--------------------\n",
      "top features:\n",
      "Feature\tImportance\n",
      "i_z\t29.997\n",
      "r_i\t26.640\n",
      "g_r\t12.932\n",
      "z/W1\t9.470\n",
      "z_y\t6.389\n",
      "w1_w2\t5.380\n",
      "w3_w4\t3.505\n",
      "w2_w3\t2.938\n",
      "ymag\t2.749\n"
     ]
    },
    {
     "data": {
      "image/png": "[encoded data removed]",
      "text/plain": [
       "<Figure size 700x1000 with 1 Axes>"
      ]
     },
     "metadata": {},
     "output_type": "display_data"
    }
   ],
   "source": [
    "print('Feature importances scaled to sum 100')\n",
    "try:\n",
    "    fig         = plt.figure(figsize=(7,10))\n",
    "    ax1         = fig.add_subplot(111)\n",
    "    n_top       = len(validation_df.columns)\n",
    "    features_df = get_feature_importances_df(final_z_reg, validation_df, n=n_top)\n",
    "    features    = features_df.loc[:, 'Feature'].to_list()\n",
    "    importances = features_df.loc[:, 'Importance'].to_list()\n",
    "    import_scal = importances / np.nansum(importances)\n",
    "    import_scal_colors = (importances - np.nanmin(importances)) / (np.nanmax(importances) - np.nanmin(importances))\n",
    "    # indices     = np.argsort(importances)[-n_top:] #only show most important features\n",
    "    # indices     = np.argsort(importances)\n",
    "    # ax1.set_title(f'{model_name} Feature Importances', size=14)\n",
    "    ax1.set_title('Feature Importances', size=14)\n",
    "    ax1.barh(range(len(importances)), import_scal * 100,\\\n",
    "             color=plt.get_cmap('bone', len(importances))(import_scal_colors), align='center', ec='k', lw=1.5)\n",
    "    # plt.yticks(range(len(importances)), [features[i] for i in importances])\n",
    "    plt.yticks(range(len(importances)), features)\n",
    "    ax1.set_xlabel('Relative Importance', size=14)\n",
    "    ax1.set_ylabel('Features', size=14)\n",
    "    ax1.tick_params(axis='both', which='major', labelsize=14)\n",
    "    ax1.tick_params(axis='y', which='major', rotation=30)\n",
    "    plt.setp(ax1.spines.values(), linewidth=2.5)\n",
    "    ax1.tick_params(which='both',top=True, right=False, direction='in')\n",
    "    # ax1.set_xscale('log')\n",
    "    # plt.show()\n",
    "    plt.tight_layout()\n",
    "    if save_plot_flag:\n",
    "        if redshift_low_lim == 3.7:\n",
    "            plt.savefig('plots/feat_imp_regression_z_08.pdf', bbox_inches='tight')\n",
    "        elif redshift_low_lim == 3.6:\n",
    "            plt.savefig('plots/feat_imp_regression_z_09.pdf', bbox_inches='tight')\n",
    "\n",
    "    print('-' * 20)\n",
    "    print('top features:')\n",
    "    print('Feature\\tImportance')\n",
    "    for feat, imp in zip(reversed(features), reversed(import_scal  * 100)):\n",
    "        print(f'{feat}\\t{round(imp, 3):>.3f}')\n",
    "\n",
    "except:\n",
    "    print('learning algorithm does not provide feature importance.')"
   ]
  },
  {
   "cell_type": "code",
   "execution_count": 124,
   "id": "1f812350",
   "metadata": {},
   "outputs": [
    {
     "data": {
      "text/html": [
       "<style type=\"text/css\">\n",
       "</style>\n",
       "<table id=\"T_aaf81\">\n",
       "  <thead>\n",
       "    <tr>\n",
       "      <th class=\"blank level0\" >&nbsp;</th>\n",
       "      <th id=\"T_aaf81_level0_col0\" class=\"col_heading level0 col0\" >Model</th>\n",
       "      <th id=\"T_aaf81_level0_col1\" class=\"col_heading level0 col1\" >MAE</th>\n",
       "      <th id=\"T_aaf81_level0_col2\" class=\"col_heading level0 col2\" >MSE</th>\n",
       "      <th id=\"T_aaf81_level0_col3\" class=\"col_heading level0 col3\" >RMSE</th>\n",
       "      <th id=\"T_aaf81_level0_col4\" class=\"col_heading level0 col4\" >R2</th>\n",
       "      <th id=\"T_aaf81_level0_col5\" class=\"col_heading level0 col5\" >RMSLE</th>\n",
       "      <th id=\"T_aaf81_level0_col6\" class=\"col_heading level0 col6\" >MAPE</th>\n",
       "      <th id=\"T_aaf81_level0_col7\" class=\"col_heading level0 col7\" >sigma_mad</th>\n",
       "      <th id=\"T_aaf81_level0_col8\" class=\"col_heading level0 col8\" >sigma_nmad</th>\n",
       "      <th id=\"T_aaf81_level0_col9\" class=\"col_heading level0 col9\" >sigma_z</th>\n",
       "      <th id=\"T_aaf81_level0_col10\" class=\"col_heading level0 col10\" >sigma_z_norm</th>\n",
       "      <th id=\"T_aaf81_level0_col11\" class=\"col_heading level0 col11\" >outlier_fr</th>\n",
       "    </tr>\n",
       "  </thead>\n",
       "  <tbody>\n",
       "    <tr>\n",
       "      <th id=\"T_aaf81_level0_row0\" class=\"row_heading level0 row0\" >0</th>\n",
       "      <td id=\"T_aaf81_row0_col0\" class=\"data row0 col0\" >Stacking Regressor</td>\n",
       "      <td id=\"T_aaf81_row0_col1\" class=\"data row0 col1\" >0.2658</td>\n",
       "      <td id=\"T_aaf81_row0_col2\" class=\"data row0 col2\" >0.1387</td>\n",
       "      <td id=\"T_aaf81_row0_col3\" class=\"data row0 col3\" >0.3725</td>\n",
       "      <td id=\"T_aaf81_row0_col4\" class=\"data row0 col4\" >0.3427</td>\n",
       "      <td id=\"T_aaf81_row0_col5\" class=\"data row0 col5\" >0.0705</td>\n",
       "      <td id=\"T_aaf81_row0_col6\" class=\"data row0 col6\" >0.0606</td>\n",
       "      <td id=\"T_aaf81_row0_col7\" class=\"data row0 col7\" >0.2672</td>\n",
       "      <td id=\"T_aaf81_row0_col8\" class=\"data row0 col8\" >0.0569</td>\n",
       "      <td id=\"T_aaf81_row0_col9\" class=\"data row0 col9\" >0.3725</td>\n",
       "      <td id=\"T_aaf81_row0_col10\" class=\"data row0 col10\" >0.0665</td>\n",
       "      <td id=\"T_aaf81_row0_col11\" class=\"data row0 col11\" >0.0556</td>\n",
       "    </tr>\n",
       "  </tbody>\n",
       "</table>\n"
      ],
      "text/plain": [
       "<pandas.io.formats.style.Styler at 0x7fdac81eafa0>"
      ]
     },
     "metadata": {},
     "output_type": "display_data"
    }
   ],
   "source": [
    "validation_prediction_reg = pyr.predict_model(final_z_reg, data=validation_df)"
   ]
  },
  {
   "cell_type": "code",
   "execution_count": 125,
   "id": "ddb90348",
   "metadata": {},
   "outputs": [
    {
     "data": {
      "text/html": [
       "<div>\n",
       "<style scoped>\n",
       "    .dataframe tbody tr th:only-of-type {\n",
       "        vertical-align: middle;\n",
       "    }\n",
       "\n",
       "    .dataframe tbody tr th {\n",
       "        vertical-align: top;\n",
       "    }\n",
       "\n",
       "    .dataframe thead th {\n",
       "        text-align: right;\n",
       "    }\n",
       "</style>\n",
       "<table border=\"1\" class=\"dataframe\">\n",
       "  <thead>\n",
       "    <tr style=\"text-align: right;\">\n",
       "      <th></th>\n",
       "      <th>Z</th>\n",
       "      <th>Label</th>\n",
       "    </tr>\n",
       "  </thead>\n",
       "  <tbody>\n",
       "    <tr>\n",
       "      <th>count</th>\n",
       "      <td>18.000000</td>\n",
       "      <td>18.000000</td>\n",
       "    </tr>\n",
       "    <tr>\n",
       "      <th>mean</th>\n",
       "      <td>4.106167</td>\n",
       "      <td>3.941846</td>\n",
       "    </tr>\n",
       "    <tr>\n",
       "      <th>std</th>\n",
       "      <td>0.472725</td>\n",
       "      <td>0.262318</td>\n",
       "    </tr>\n",
       "    <tr>\n",
       "      <th>min</th>\n",
       "      <td>3.612000</td>\n",
       "      <td>3.572991</td>\n",
       "    </tr>\n",
       "    <tr>\n",
       "      <th>25%</th>\n",
       "      <td>3.675250</td>\n",
       "      <td>3.819198</td>\n",
       "    </tr>\n",
       "    <tr>\n",
       "      <th>50%</th>\n",
       "      <td>3.917000</td>\n",
       "      <td>3.865333</td>\n",
       "    </tr>\n",
       "    <tr>\n",
       "      <th>75%</th>\n",
       "      <td>4.531000</td>\n",
       "      <td>4.013038</td>\n",
       "    </tr>\n",
       "    <tr>\n",
       "      <th>max</th>\n",
       "      <td>5.000000</td>\n",
       "      <td>4.672462</td>\n",
       "    </tr>\n",
       "  </tbody>\n",
       "</table>\n",
       "</div>"
      ],
      "text/plain": [
       "               Z      Label\n",
       "count  18.000000  18.000000\n",
       "mean    4.106167   3.941846\n",
       "std     0.472725   0.262318\n",
       "min     3.612000   3.572991\n",
       "25%     3.675250   3.819198\n",
       "50%     3.917000   3.865333\n",
       "75%     4.531000   4.013038\n",
       "max     5.000000   4.672462"
      ]
     },
     "execution_count": 125,
     "metadata": {},
     "output_type": "execute_result"
    }
   ],
   "source": [
    "validation_prediction_reg.loc[:, ['Z', 'Label']].describe()"
   ]
  },
  {
   "cell_type": "code",
   "execution_count": 127,
   "id": "ed988a7d",
   "metadata": {
    "jupyter": {
     "source_hidden": true
    },
    "tags": []
   },
   "outputs": [
    {
     "data": {
      "image/png": "[encoded data removed]",
      "text/plain": [
       "<Figure size 600x500 with 3 Axes>"
      ]
     },
     "metadata": {},
     "output_type": "display_data"
    }
   ],
   "source": [
    "fig             = plt.figure(figsize=(6,5))\n",
    "ax1             = fig.add_subplot(111, projection='scatter_density', xscale='log', yscale='log')\n",
    "plot_redshift_compare(validation_prediction_reg.loc[:, 'Z'], validation_prediction_reg.loc[:, 'Label'],\\\n",
    "                      ax_pre=ax1, title='Validation set', dpi=10, show_clb=True, log_stretch=False)\n",
    "if save_plot_flag:\n",
    "    if redshift_low_lim == 3.7:\n",
    "        plt.savefig('plots/compare_plot_validation_redshift_08.pdf', bbox_inches='tight')\n",
    "    elif redshift_low_lim == 3.6:\n",
    "        plt.savefig('plots/compare_plot_validation_redshift_09.pdf', bbox_inches='tight')\n",
    "plt.show()"
   ]
  },
  {
   "cell_type": "code",
   "execution_count": 128,
   "id": "53c31733",
   "metadata": {
    "jupyter": {
     "source_hidden": true
    },
    "tags": []
   },
   "outputs": [],
   "source": [
    "train_size         = 0.7\n",
    "data_split_shuffle = True\n",
    "_stratify_columns  = _get_columns_to_stratify_by(\n",
    "            backup_train_test_df.drop(columns=['Z']), backup_train_test_df.loc[:, 'Z'], False, 'Z'\n",
    "        )\n",
    "\n",
    "X_train, X_test, y_train, y_test = train_test_split(\n",
    "                backup_train_test_df.drop(columns=['Z']),\n",
    "                backup_train_test_df.loc[:, 'Z'],\n",
    "                test_size=1 - train_size,\n",
    "                stratify=_stratify_columns,\n",
    "                random_state=seed,\n",
    "                shuffle=data_split_shuffle,\n",
    "            )\n",
    "train_df        = pd.concat([X_train, y_train], axis=1)\n",
    "test_df         = pd.concat([X_test, y_test], axis=1)"
   ]
  },
  {
   "cell_type": "code",
   "execution_count": 129,
   "id": "12214989",
   "metadata": {},
   "outputs": [
    {
     "data": {
      "text/html": [
       "<style type=\"text/css\">\n",
       "</style>\n",
       "<table id=\"T_b2d69\">\n",
       "  <thead>\n",
       "    <tr>\n",
       "      <th class=\"blank level0\" >&nbsp;</th>\n",
       "      <th id=\"T_b2d69_level0_col0\" class=\"col_heading level0 col0\" >Model</th>\n",
       "      <th id=\"T_b2d69_level0_col1\" class=\"col_heading level0 col1\" >MAE</th>\n",
       "      <th id=\"T_b2d69_level0_col2\" class=\"col_heading level0 col2\" >MSE</th>\n",
       "      <th id=\"T_b2d69_level0_col3\" class=\"col_heading level0 col3\" >RMSE</th>\n",
       "      <th id=\"T_b2d69_level0_col4\" class=\"col_heading level0 col4\" >R2</th>\n",
       "      <th id=\"T_b2d69_level0_col5\" class=\"col_heading level0 col5\" >RMSLE</th>\n",
       "      <th id=\"T_b2d69_level0_col6\" class=\"col_heading level0 col6\" >MAPE</th>\n",
       "      <th id=\"T_b2d69_level0_col7\" class=\"col_heading level0 col7\" >sigma_mad</th>\n",
       "      <th id=\"T_b2d69_level0_col8\" class=\"col_heading level0 col8\" >sigma_nmad</th>\n",
       "      <th id=\"T_b2d69_level0_col9\" class=\"col_heading level0 col9\" >sigma_z</th>\n",
       "      <th id=\"T_b2d69_level0_col10\" class=\"col_heading level0 col10\" >sigma_z_norm</th>\n",
       "      <th id=\"T_b2d69_level0_col11\" class=\"col_heading level0 col11\" >outlier_fr</th>\n",
       "    </tr>\n",
       "  </thead>\n",
       "  <tbody>\n",
       "    <tr>\n",
       "      <th id=\"T_b2d69_level0_row0\" class=\"row_heading level0 row0\" >0</th>\n",
       "      <td id=\"T_b2d69_row0_col0\" class=\"data row0 col0\" >Stacking Regressor</td>\n",
       "      <td id=\"T_b2d69_row0_col1\" class=\"data row0 col1\" >0.0563</td>\n",
       "      <td id=\"T_b2d69_row0_col2\" class=\"data row0 col2\" >0.0084</td>\n",
       "      <td id=\"T_b2d69_row0_col3\" class=\"data row0 col3\" >0.0917</td>\n",
       "      <td id=\"T_b2d69_row0_col4\" class=\"data row0 col4\" >0.9731</td>\n",
       "      <td id=\"T_b2d69_row0_col5\" class=\"data row0 col5\" >0.0182</td>\n",
       "      <td id=\"T_b2d69_row0_col6\" class=\"data row0 col6\" >0.0139</td>\n",
       "      <td id=\"T_b2d69_row0_col7\" class=\"data row0 col7\" >0.0420</td>\n",
       "      <td id=\"T_b2d69_row0_col8\" class=\"data row0 col8\" >0.0084</td>\n",
       "      <td id=\"T_b2d69_row0_col9\" class=\"data row0 col9\" >0.0917</td>\n",
       "      <td id=\"T_b2d69_row0_col10\" class=\"data row0 col10\" >0.0179</td>\n",
       "      <td id=\"T_b2d69_row0_col11\" class=\"data row0 col11\" >0.0000</td>\n",
       "    </tr>\n",
       "  </tbody>\n",
       "</table>\n"
      ],
      "text/plain": [
       "<pandas.io.formats.style.Styler at 0x7fdac80676a0>"
      ]
     },
     "metadata": {},
     "output_type": "display_data"
    },
    {
     "data": {
      "text/html": [
       "<style type=\"text/css\">\n",
       "</style>\n",
       "<table id=\"T_d27ca\">\n",
       "  <thead>\n",
       "    <tr>\n",
       "      <th class=\"blank level0\" >&nbsp;</th>\n",
       "      <th id=\"T_d27ca_level0_col0\" class=\"col_heading level0 col0\" >Model</th>\n",
       "      <th id=\"T_d27ca_level0_col1\" class=\"col_heading level0 col1\" >MAE</th>\n",
       "      <th id=\"T_d27ca_level0_col2\" class=\"col_heading level0 col2\" >MSE</th>\n",
       "      <th id=\"T_d27ca_level0_col3\" class=\"col_heading level0 col3\" >RMSE</th>\n",
       "      <th id=\"T_d27ca_level0_col4\" class=\"col_heading level0 col4\" >R2</th>\n",
       "      <th id=\"T_d27ca_level0_col5\" class=\"col_heading level0 col5\" >RMSLE</th>\n",
       "      <th id=\"T_d27ca_level0_col6\" class=\"col_heading level0 col6\" >MAPE</th>\n",
       "      <th id=\"T_d27ca_level0_col7\" class=\"col_heading level0 col7\" >sigma_mad</th>\n",
       "      <th id=\"T_d27ca_level0_col8\" class=\"col_heading level0 col8\" >sigma_nmad</th>\n",
       "      <th id=\"T_d27ca_level0_col9\" class=\"col_heading level0 col9\" >sigma_z</th>\n",
       "      <th id=\"T_d27ca_level0_col10\" class=\"col_heading level0 col10\" >sigma_z_norm</th>\n",
       "      <th id=\"T_d27ca_level0_col11\" class=\"col_heading level0 col11\" >outlier_fr</th>\n",
       "    </tr>\n",
       "  </thead>\n",
       "  <tbody>\n",
       "    <tr>\n",
       "      <th id=\"T_d27ca_level0_row0\" class=\"row_heading level0 row0\" >0</th>\n",
       "      <td id=\"T_d27ca_row0_col0\" class=\"data row0 col0\" >Stacking Regressor</td>\n",
       "      <td id=\"T_d27ca_row0_col1\" class=\"data row0 col1\" >0.1601</td>\n",
       "      <td id=\"T_d27ca_row0_col2\" class=\"data row0 col2\" >0.0739</td>\n",
       "      <td id=\"T_d27ca_row0_col3\" class=\"data row0 col3\" >0.2718</td>\n",
       "      <td id=\"T_d27ca_row0_col4\" class=\"data row0 col4\" >-0.0528</td>\n",
       "      <td id=\"T_d27ca_row0_col5\" class=\"data row0 col5\" >0.0545</td>\n",
       "      <td id=\"T_d27ca_row0_col6\" class=\"data row0 col6\" >0.0407</td>\n",
       "      <td id=\"T_d27ca_row0_col7\" class=\"data row0 col7\" >0.1075</td>\n",
       "      <td id=\"T_d27ca_row0_col8\" class=\"data row0 col8\" >0.0218</td>\n",
       "      <td id=\"T_d27ca_row0_col9\" class=\"data row0 col9\" >0.2718</td>\n",
       "      <td id=\"T_d27ca_row0_col10\" class=\"data row0 col10\" >0.0557</td>\n",
       "      <td id=\"T_d27ca_row0_col11\" class=\"data row0 col11\" >0.0455</td>\n",
       "    </tr>\n",
       "  </tbody>\n",
       "</table>\n"
      ],
      "text/plain": [
       "<pandas.io.formats.style.Styler at 0x7fdbb559af70>"
      ]
     },
     "metadata": {},
     "output_type": "display_data"
    },
    {
     "data": {
      "text/html": [
       "<style type=\"text/css\">\n",
       "</style>\n",
       "<table id=\"T_f0655\">\n",
       "  <thead>\n",
       "    <tr>\n",
       "      <th class=\"blank level0\" >&nbsp;</th>\n",
       "      <th id=\"T_f0655_level0_col0\" class=\"col_heading level0 col0\" >Model</th>\n",
       "      <th id=\"T_f0655_level0_col1\" class=\"col_heading level0 col1\" >MAE</th>\n",
       "      <th id=\"T_f0655_level0_col2\" class=\"col_heading level0 col2\" >MSE</th>\n",
       "      <th id=\"T_f0655_level0_col3\" class=\"col_heading level0 col3\" >RMSE</th>\n",
       "      <th id=\"T_f0655_level0_col4\" class=\"col_heading level0 col4\" >R2</th>\n",
       "      <th id=\"T_f0655_level0_col5\" class=\"col_heading level0 col5\" >RMSLE</th>\n",
       "      <th id=\"T_f0655_level0_col6\" class=\"col_heading level0 col6\" >MAPE</th>\n",
       "      <th id=\"T_f0655_level0_col7\" class=\"col_heading level0 col7\" >sigma_mad</th>\n",
       "      <th id=\"T_f0655_level0_col8\" class=\"col_heading level0 col8\" >sigma_nmad</th>\n",
       "      <th id=\"T_f0655_level0_col9\" class=\"col_heading level0 col9\" >sigma_z</th>\n",
       "      <th id=\"T_f0655_level0_col10\" class=\"col_heading level0 col10\" >sigma_z_norm</th>\n",
       "      <th id=\"T_f0655_level0_col11\" class=\"col_heading level0 col11\" >outlier_fr</th>\n",
       "    </tr>\n",
       "  </thead>\n",
       "  <tbody>\n",
       "    <tr>\n",
       "      <th id=\"T_f0655_level0_row0\" class=\"row_heading level0 row0\" >0</th>\n",
       "      <td id=\"T_f0655_row0_col0\" class=\"data row0 col0\" >Stacking Regressor</td>\n",
       "      <td id=\"T_f0655_row0_col1\" class=\"data row0 col1\" >0.0496</td>\n",
       "      <td id=\"T_f0655_row0_col2\" class=\"data row0 col2\" >0.0098</td>\n",
       "      <td id=\"T_f0655_row0_col3\" class=\"data row0 col3\" >0.0992</td>\n",
       "      <td id=\"T_f0655_row0_col4\" class=\"data row0 col4\" >0.9826</td>\n",
       "      <td id=\"T_f0655_row0_col5\" class=\"data row0 col5\" >0.0197</td>\n",
       "      <td id=\"T_f0655_row0_col6\" class=\"data row0 col6\" >0.0118</td>\n",
       "      <td id=\"T_f0655_row0_col7\" class=\"data row0 col7\" >0.0298</td>\n",
       "      <td id=\"T_f0655_row0_col8\" class=\"data row0 col8\" >0.0062</td>\n",
       "      <td id=\"T_f0655_row0_col9\" class=\"data row0 col9\" >0.0992</td>\n",
       "      <td id=\"T_f0655_row0_col10\" class=\"data row0 col10\" >0.0189</td>\n",
       "      <td id=\"T_f0655_row0_col11\" class=\"data row0 col11\" >0.0000</td>\n",
       "    </tr>\n",
       "  </tbody>\n",
       "</table>\n"
      ],
      "text/plain": [
       "<pandas.io.formats.style.Styler at 0x7fdac8581ac0>"
      ]
     },
     "metadata": {},
     "output_type": "display_data"
    }
   ],
   "source": [
    "train_prediction_reg      = pyr.predict_model(final_z_reg, data=train_df)\n",
    "test_prediction_reg       = pyr.predict_model(final_z_reg, data=test_df)\n",
    "train_test_prediction_reg = pyr.predict_model(final_z_reg, data=train_test_df)"
   ]
  },
  {
   "cell_type": "code",
   "execution_count": 130,
   "id": "ac61a54b",
   "metadata": {
    "jupyter": {
     "source_hidden": true
    },
    "tags": []
   },
   "outputs": [],
   "source": [
    "sigma_mad_train         = sigma_mad(train_prediction_reg.loc[:, 'Z'],         train_prediction_reg.loc[:, 'Label'])\n",
    "sigma_mad_test          = sigma_mad(test_prediction_reg.loc[:, 'Z'],          test_prediction_reg.loc[:, 'Label'])\n",
    "sigma_mad_train_test    = sigma_mad(train_test_prediction_reg.loc[:, 'Z'],    train_test_prediction_reg.loc[:, 'Label'])\n",
    "sigma_mad_valid         = sigma_mad(validation_prediction_reg.loc[:, 'Z'],    validation_prediction_reg.loc[:, 'Label'])"
   ]
  },
  {
   "cell_type": "code",
   "execution_count": 131,
   "id": "1ba9ddc9",
   "metadata": {
    "jupyter": {
     "source_hidden": true
    },
    "tags": []
   },
   "outputs": [],
   "source": [
    "sigma_nmad_train        = sigma_nmad(train_prediction_reg.loc[:, 'Z'],        train_prediction_reg.loc[:, 'Label'])\n",
    "sigma_nmad_test         = sigma_nmad(test_prediction_reg.loc[:, 'Z'],         test_prediction_reg.loc[:, 'Label'])\n",
    "sigma_nmad_train_test   = sigma_nmad(train_test_prediction_reg.loc[:, 'Z'],   train_test_prediction_reg.loc[:, 'Label'])\n",
    "sigma_nmad_valid        = sigma_nmad(validation_prediction_reg.loc[:, 'Z'],   validation_prediction_reg.loc[:, 'Label'])"
   ]
  },
  {
   "cell_type": "code",
   "execution_count": 132,
   "id": "34214322",
   "metadata": {
    "jupyter": {
     "source_hidden": true
    },
    "tags": []
   },
   "outputs": [],
   "source": [
    "sigma_z_train           = sigma_z(train_prediction_reg.loc[:, 'Z'],           train_prediction_reg.loc[:, 'Label'])\n",
    "sigma_z_test            = sigma_z(test_prediction_reg.loc[:, 'Z'],            test_prediction_reg.loc[:, 'Label'])\n",
    "sigma_z_train_test      = sigma_z(train_test_prediction_reg.loc[:, 'Z'],      train_test_prediction_reg.loc[:, 'Label'])\n",
    "sigma_z_valid           = sigma_z(validation_prediction_reg.loc[:, 'Z'],      validation_prediction_reg.loc[:, 'Label'])"
   ]
  },
  {
   "cell_type": "code",
   "execution_count": 133,
   "id": "d722c3dd",
   "metadata": {
    "jupyter": {
     "source_hidden": true
    },
    "tags": []
   },
   "outputs": [],
   "source": [
    "sigma_z_norm_train      = sigma_z_norm(train_prediction_reg.loc[:, 'Z'],      train_prediction_reg.loc[:, 'Label'])\n",
    "sigma_z_norm_test       = sigma_z_norm(test_prediction_reg.loc[:, 'Z'],       test_prediction_reg.loc[:, 'Label'])\n",
    "sigma_z_norm_train_test = sigma_z_norm(train_test_prediction_reg.loc[:, 'Z'], train_test_prediction_reg.loc[:, 'Label'])\n",
    "sigma_z_norm_valid      = sigma_z_norm(validation_prediction_reg.loc[:, 'Z'], validation_prediction_reg.loc[:, 'Label'])"
   ]
  },
  {
   "cell_type": "code",
   "execution_count": 134,
   "id": "db7db938",
   "metadata": {
    "jupyter": {
     "source_hidden": true
    },
    "tags": []
   },
   "outputs": [],
   "source": [
    "out_frac_train      = outlier_frac(train_prediction_reg.loc[:, 'Z'],           train_prediction_reg.loc[:, 'Label'])\n",
    "out_frac_test       = outlier_frac(test_prediction_reg.loc[:, 'Z'],            test_prediction_reg.loc[:, 'Label'])\n",
    "out_frac_train_test = outlier_frac(train_test_prediction_reg.loc[:, 'Z'],      train_test_prediction_reg.loc[:, 'Label'])\n",
    "out_frac_valid      = outlier_frac(validation_prediction_reg.loc[:, 'Z'],      validation_prediction_reg.loc[:, 'Label'])"
   ]
  },
  {
   "cell_type": "code",
   "execution_count": 135,
   "id": "5f284f2c",
   "metadata": {
    "jupyter": {
     "source_hidden": true
    },
    "tags": []
   },
   "outputs": [
    {
     "name": "stdout",
     "output_type": "stream",
     "text": [
      "Scores for training set:\n",
      "Sigma MAD:\t\t0.0420\n",
      "Sigma NMAD:\t\t0.0084\n",
      "Sigma z:\t\t0.0917\n",
      "Sigma z norm:\t\t0.0179\n",
      "Out fraction:\t\t0.0000\n",
      "-----------------------------------\n"
     ]
    }
   ],
   "source": [
    "print('Scores for training set:')\n",
    "print(f'Sigma MAD:\\t\\t{sigma_mad_train:.4f}')\n",
    "print(f'Sigma NMAD:\\t\\t{sigma_nmad_train:.4f}')\n",
    "print(f'Sigma z:\\t\\t{sigma_z_train:.4f}')\n",
    "print(f'Sigma z norm:\\t\\t{sigma_z_norm_train:.4f}')\n",
    "print(f'Out fraction:\\t\\t{out_frac_train:.4f}')\n",
    "print('-' * 35)"
   ]
  },
  {
   "cell_type": "code",
   "execution_count": 136,
   "id": "056b7f0f",
   "metadata": {
    "jupyter": {
     "source_hidden": true
    },
    "tags": []
   },
   "outputs": [
    {
     "name": "stdout",
     "output_type": "stream",
     "text": [
      "Scores for test set:\n",
      "Sigma MAD:\t\t0.1075\n",
      "Sigma NMAD:\t\t0.0218\n",
      "Sigma z:\t\t0.2718\n",
      "Sigma z norm:\t\t0.0557\n",
      "Out fraction:\t\t0.0455\n",
      "-----------------------------------\n"
     ]
    }
   ],
   "source": [
    "print('Scores for test set:')\n",
    "print(f'Sigma MAD:\\t\\t{sigma_mad_test:.4f}')\n",
    "print(f'Sigma NMAD:\\t\\t{sigma_nmad_test:.4f}')\n",
    "print(f'Sigma z:\\t\\t{sigma_z_test:.4f}')\n",
    "print(f'Sigma z norm:\\t\\t{sigma_z_norm_test:.4f}')\n",
    "print(f'Out fraction:\\t\\t{out_frac_test:.4f}')\n",
    "print('-' * 35)"
   ]
  },
  {
   "cell_type": "code",
   "execution_count": 137,
   "id": "710e8714",
   "metadata": {
    "jupyter": {
     "source_hidden": true
    },
    "tags": []
   },
   "outputs": [
    {
     "name": "stdout",
     "output_type": "stream",
     "text": [
      "Scores for training+test set:\n",
      "Sigma MAD:\t\t0.0298\n",
      "Sigma NMAD:\t\t0.0062\n",
      "Sigma z:\t\t0.0992\n",
      "Sigma z norm:\t\t0.0189\n",
      "Out fraction:\t\t0.0000\n",
      "-----------------------------------\n"
     ]
    }
   ],
   "source": [
    "print('Scores for training+test set:')\n",
    "print(f'Sigma MAD:\\t\\t{sigma_mad_train_test:.4f}')\n",
    "print(f'Sigma NMAD:\\t\\t{sigma_nmad_train_test:.4f}')\n",
    "print(f'Sigma z:\\t\\t{sigma_z_train_test:.4f}')\n",
    "print(f'Sigma z norm:\\t\\t{sigma_z_norm_train_test:.4f}')\n",
    "print(f'Out fraction:\\t\\t{out_frac_train_test:.4f}')\n",
    "print('-' * 35)"
   ]
  },
  {
   "cell_type": "code",
   "execution_count": 138,
   "id": "7508cd21",
   "metadata": {
    "jupyter": {
     "source_hidden": true
    },
    "tags": []
   },
   "outputs": [
    {
     "name": "stdout",
     "output_type": "stream",
     "text": [
      "Scores for validation set:\n",
      "Sigma MAD:\t\t0.2672\n",
      "Sigma NMAD:\t\t0.0569\n",
      "Sigma z:\t\t0.3725\n",
      "Sigma z norm:\t\t0.0665\n",
      "Out fraction:\t\t0.0556\n",
      "-----------------------------------\n"
     ]
    }
   ],
   "source": [
    "print('Scores for validation set:')\n",
    "print(f'Sigma MAD:\\t\\t{sigma_mad_valid:.4f}')\n",
    "print(f'Sigma NMAD:\\t\\t{sigma_nmad_valid:.4f}')\n",
    "print(f'Sigma z:\\t\\t{sigma_z_valid:.4f}')\n",
    "print(f'Sigma z norm:\\t\\t{sigma_z_norm_valid:.4f}')\n",
    "print(f'Out fraction:\\t\\t{out_frac_valid:.4f}')\n",
    "print('-' * 35)"
   ]
  },
  {
   "cell_type": "markdown",
   "id": "ad0e34b0",
   "metadata": {},
   "source": [
    "Display metrics as DataFrame"
   ]
  },
  {
   "cell_type": "code",
   "execution_count": 139,
   "id": "7358681d",
   "metadata": {
    "jupyter": {
     "source_hidden": true
    }
   },
   "outputs": [],
   "source": [
    "metrics_z = np.array([[sigma_mad_train,      sigma_nmad_train,      sigma_z_train,      sigma_z_norm_train,      out_frac_train],\\\n",
    "                      [sigma_mad_test,       sigma_nmad_test,       sigma_z_test,       sigma_z_norm_test,       out_frac_test],\\\n",
    "                      [sigma_mad_train_test, sigma_nmad_train_test, sigma_z_train_test, sigma_z_norm_train_test, out_frac_train_test],\\\n",
    "                      [sigma_mad_valid,      sigma_nmad_valid,      sigma_z_valid,      sigma_z_norm_valid,      out_frac_valid]])"
   ]
  },
  {
   "cell_type": "code",
   "execution_count": 140,
   "id": "9b3320c0",
   "metadata": {
    "jupyter": {
     "source_hidden": true
    }
   },
   "outputs": [],
   "source": [
    "metrics_z_df = pd.DataFrame(data=metrics_z, index=['Train', 'Test', 'Train+Test', 'Validation'],\\\n",
    "                            columns=['\\u03C3 MAD', '\\u03C3 NMAD', '\\u03C3 z', '\\u03C3 z N', '\\u03B7'])"
   ]
  },
  {
   "cell_type": "code",
   "execution_count": 141,
   "id": "f6df53e8",
   "metadata": {
    "jupyter": {
     "source_hidden": true
    }
   },
   "outputs": [
    {
     "data": {
      "text/html": [
       "<div>\n",
       "<style scoped>\n",
       "    .dataframe tbody tr th:only-of-type {\n",
       "        vertical-align: middle;\n",
       "    }\n",
       "\n",
       "    .dataframe tbody tr th {\n",
       "        vertical-align: top;\n",
       "    }\n",
       "\n",
       "    .dataframe thead th {\n",
       "        text-align: right;\n",
       "    }\n",
       "</style>\n",
       "<table border=\"1\" class=\"dataframe\">\n",
       "  <thead>\n",
       "    <tr style=\"text-align: right;\">\n",
       "      <th></th>\n",
       "      <th>σ MAD</th>\n",
       "      <th>σ NMAD</th>\n",
       "      <th>σ z</th>\n",
       "      <th>σ z N</th>\n",
       "      <th>η</th>\n",
       "    </tr>\n",
       "  </thead>\n",
       "  <tbody>\n",
       "    <tr>\n",
       "      <th>Train</th>\n",
       "      <td>0.0420</td>\n",
       "      <td>0.0084</td>\n",
       "      <td>0.0917</td>\n",
       "      <td>0.0179</td>\n",
       "      <td>0.0000</td>\n",
       "    </tr>\n",
       "    <tr>\n",
       "      <th>Test</th>\n",
       "      <td>0.1075</td>\n",
       "      <td>0.0218</td>\n",
       "      <td>0.2718</td>\n",
       "      <td>0.0557</td>\n",
       "      <td>0.0455</td>\n",
       "    </tr>\n",
       "    <tr>\n",
       "      <th>Train+Test</th>\n",
       "      <td>0.0298</td>\n",
       "      <td>0.0062</td>\n",
       "      <td>0.0992</td>\n",
       "      <td>0.0189</td>\n",
       "      <td>0.0000</td>\n",
       "    </tr>\n",
       "    <tr>\n",
       "      <th>Validation</th>\n",
       "      <td>0.2672</td>\n",
       "      <td>0.0569</td>\n",
       "      <td>0.3725</td>\n",
       "      <td>0.0665</td>\n",
       "      <td>0.0556</td>\n",
       "    </tr>\n",
       "  </tbody>\n",
       "</table>\n",
       "</div>"
      ],
      "text/plain": [
       "            σ MAD  σ NMAD    σ z  σ z N      η\n",
       "Train      0.0420  0.0084 0.0917 0.0179 0.0000\n",
       "Test       0.1075  0.0218 0.2718 0.0557 0.0455\n",
       "Train+Test 0.0298  0.0062 0.0992 0.0189 0.0000\n",
       "Validation 0.2672  0.0569 0.3725 0.0665 0.0556"
      ]
     },
     "metadata": {},
     "output_type": "display_data"
    }
   ],
   "source": [
    "with pd.option_context('display.float_format', '{:.4f}'.format):\n",
    "    display(metrics_z_df)"
   ]
  },
  {
   "cell_type": "code",
   "execution_count": 142,
   "id": "414fc4db",
   "metadata": {
    "jupyter": {
     "source_hidden": true
    },
    "tags": []
   },
   "outputs": [
    {
     "data": {
      "image/png": "[encoded data removed]",
      "text/plain": [
       "<Figure size 600x500 with 3 Axes>"
      ]
     },
     "metadata": {},
     "output_type": "display_data"
    }
   ],
   "source": [
    "fig             = plt.figure(figsize=(6,5))\n",
    "ax1             = fig.add_subplot(111, projection='scatter_density', xscale='log', yscale='log')\n",
    "plot_redshift_compare(train_prediction_reg.loc[:, 'Z'], train_prediction_reg.loc[:, 'Label'],\\\n",
    "                      ax_pre=ax1, title='Training set', dpi=10, show_clb=True, log_stretch=False)\n",
    "if save_plot_flag:\n",
    "    if redshift_low_lim == 3.7:\n",
    "        plt.savefig('plots/compare_plot_train_redshift_08.pdf', bbox_inches='tight')\n",
    "    elif redshift_low_lim == 3.6:\n",
    "        plt.savefig('plots/compare_plot_train_redshift_09.pdf', bbox_inches='tight')\n",
    "plt.show()"
   ]
  },
  {
   "cell_type": "code",
   "execution_count": 143,
   "id": "b46fd08f",
   "metadata": {
    "jupyter": {
     "source_hidden": true
    },
    "tags": []
   },
   "outputs": [
    {
     "data": {
      "image/png": "[encoded data removed]",
      "text/plain": [
       "<Figure size 600x500 with 3 Axes>"
      ]
     },
     "metadata": {},
     "output_type": "display_data"
    }
   ],
   "source": [
    "fig             = plt.figure(figsize=(6,5))\n",
    "ax1             = fig.add_subplot(111, projection='scatter_density', xscale='log', yscale='log')\n",
    "plot_redshift_compare(test_prediction_reg.loc[:, 'Z'], test_prediction_reg.loc[:, 'Label'],\\\n",
    "                      ax_pre=ax1, title='Test set', dpi=10, show_clb=True, log_stretch=False)\n",
    "if save_plot_flag:\n",
    "    if redshift_low_lim == 3.7:\n",
    "        plt.savefig('plots/compare_plot_test_redshift_08.pdf', bbox_inches='tight')\n",
    "    elif redshift_low_lim == 3.6:\n",
    "        plt.savefig('plots/compare_plot_test_redshift_09.pdf', bbox_inches='tight')\n",
    "plt.show()"
   ]
  },
  {
   "cell_type": "code",
   "execution_count": 144,
   "id": "b53242b7",
   "metadata": {
    "jupyter": {
     "source_hidden": true
    },
    "tags": []
   },
   "outputs": [
    {
     "data": {
      "image/png": "[encoded data removed]",
      "text/plain": [
       "<Figure size 600x500 with 3 Axes>"
      ]
     },
     "metadata": {},
     "output_type": "display_data"
    }
   ],
   "source": [
    "fig             = plt.figure(figsize=(6,5))\n",
    "ax1             = fig.add_subplot(111, projection='scatter_density', xscale='log', yscale='log')\n",
    "plot_redshift_compare(train_test_prediction_reg.loc[:, 'Z'], train_test_prediction_reg.loc[:, 'Label'],\\\n",
    "                      ax_pre=ax1, title='Train+test set', dpi=10, show_clb=True, log_stretch=False)\n",
    "if save_plot_flag:\n",
    "    if redshift_low_lim == 3.7:\n",
    "        plt.savefig('plots/compare_plot_train_test_redshift_08.pdf', bbox_inches='tight')\n",
    "    elif redshift_low_lim == 3.6:\n",
    "        plt.savefig('plots/compare_plot_train_test_redshift_09.pdf', bbox_inches='tight')\n",
    "plt.show()"
   ]
  },
  {
   "cell_type": "code",
   "execution_count": 145,
   "id": "b0a50869",
   "metadata": {
    "jupyter": {
     "source_hidden": true
    },
    "tags": []
   },
   "outputs": [
    {
     "data": {
      "image/png": "[encoded data removed]",
      "text/plain": [
       "<Figure size 1000x350 with 1 Axes>"
      ]
     },
     "metadata": {},
     "output_type": "display_data"
    }
   ],
   "source": [
    "fig             = plt.figure(figsize=(10,3.5))\n",
    "ax1             = fig.add_subplot(111, xscale='linear', yscale='log')\n",
    "\n",
    "min_for_range = np.nanmin([np.nanmin(validation_prediction_reg.loc[:, 'Z']),\\\n",
    "                           np.nanmin(validation_prediction_reg.loc[:, 'Label'])])\n",
    "max_for_range = np.nanmax([np.nanmax(validation_prediction_reg.loc[:, 'Z']),\\\n",
    "                           np.nanmax(validation_prediction_reg.loc[:, 'Label'])])\n",
    "bins_z        = np.linspace(min_for_range, max_for_range, 50)\n",
    "\n",
    "_, bins, _ = ax1.hist(validation_prediction_reg.loc[:, 'Label'], bins=bins_z, histtype='stepfilled',\\\n",
    "                      ec='k', fc='mediumpurple', lw=3.5,\\\n",
    "                      label=f\"Predicted\\nN={np.sum(np.array(validation_prediction_reg.loc[:, 'Label'] > 0))}\")\n",
    "ax1.hist(validation_prediction_reg.loc[:, 'Z'], bins=bins_z, histtype='stepfilled', ec='k', fc='darkcyan',\\\n",
    "         lw=3.5, label=f\"True\\nN={np.sum(np.array(validation_prediction_reg.loc[:, 'Z'] > 0))}\", alpha=0.7)\n",
    "\n",
    "ax1.tick_params(which='both', top=True, right=True, direction='in')\n",
    "ax1.tick_params(axis='both', which='major', labelsize=14)\n",
    "ax1.tick_params(which='major', length=8, width=1.5)\n",
    "ax1.tick_params(which='minor', length=4, width=1.5)\n",
    "# ax1.set_xlabel('$m_{\\mathrm{W1}}\\, \\mathrm{[AB]}$', size=20)\n",
    "ax1.set_xlabel('$z_{\\mathrm{AGN}}$', size=20)\n",
    "ax1.set_ylabel('Frequency', size=20)\n",
    "# ax1.set_ylabel('Frequency', size=20)\n",
    "plt.setp(ax1.spines.values(), linewidth=3.5)\n",
    "plt.setp(ax1.spines.values(), linewidth=3.5)\n",
    "plt.legend(loc=1, fontsize=20)\n",
    "# ax1.invert_xaxis()\n",
    "# ax1.set_xlim(left=-4, right=6)\n",
    "#ax1.set_aspect('equal', 'box')\n",
    "fig.tight_layout()\n",
    "if save_plot_flag:\n",
    "    if redshift_low_lim == 3.7:\n",
    "        plt.savefig('plots/hist_true_predicted_z_08.pdf')\n",
    "    elif redshift_low_lim == 3.6:\n",
    "        plt.savefig('plots/hist_true_predicted_z_09.pdf')\n",
    "plt.show()"
   ]
  },
  {
   "cell_type": "code",
   "execution_count": null,
   "id": "cdca4f8e",
   "metadata": {},
   "outputs": [],
   "source": []
  }
 ],
 "metadata": {
  "accelerator": "GPU",
  "colab": {
   "name": "HETDEX_pipeline_AGN_training.ipynb",
   "provenance": []
  },
  "kernelspec": {
   "display_name": "Python 3 (ipykernel)",
   "language": "python",
   "name": "python3"
  },
  "language_info": {
   "codemirror_mode": {
    "name": "ipython",
    "version": 3
   },
   "file_extension": ".py",
   "mimetype": "text/x-python",
   "name": "python",
   "nbconvert_exporter": "python",
   "pygments_lexer": "ipython3",
   "version": "3.8.13"
  }
 },
 "nbformat": 4,
 "nbformat_minor": 5
}
