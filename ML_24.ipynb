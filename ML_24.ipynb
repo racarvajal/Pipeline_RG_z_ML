{
 "cells": [
  {
   "cell_type": "markdown",
   "id": "8b214803",
   "metadata": {
    "id": "c71fae7e-a4c4-4950-8c16-4a74a1e69482"
   },
   "source": [
    "# Pipeline for High-z Radio Galaxies 23: Redshift prediction (high z, new instance)"
   ]
  },
  {
   "cell_type": "markdown",
   "id": "6e5dff1f",
   "metadata": {
    "id": "714a7301-9b3d-4ad9-9659-b68cad4014c5"
   },
   "source": [
    "## Introduction"
   ]
  },
  {
   "cell_type": "markdown",
   "id": "df1c5da5",
   "metadata": {
    "id": "dea6dd12-650e-4ab6-bae7-0268f78e7fea"
   },
   "source": [
    "Training for regression (prediction) of redshift for sources in the HETDEX field. \n",
    "\n",
    "Sources are all elements detected in the CatWISE2020 catalogue. But regression  \n",
    "will be done only with AGN from the Million Quasar Catalog (MQC).  \n",
    "Only sources with confirmed $z$ will be used.\n",
    "\n",
    "Also, as a test, only high-redshift sources ($z \\geq 3.7$, from recall behaviour. Turn-off point) will be used.\n",
    "\n",
    "Being either AGN or galaxy will not be used as an additional feature."
   ]
  },
  {
   "cell_type": "markdown",
   "id": "19180c7c",
   "metadata": {
    "id": "00a0aec8-0112-4728-a8fe-f99cdf05a33b"
   },
   "source": [
    "Training data is from HETDEX Spring Field."
   ]
  },
  {
   "cell_type": "code",
   "execution_count": 1,
   "id": "db1c4013",
   "metadata": {
    "id": "1161a2b6-ef8d-429d-8dea-40f0de36e393"
   },
   "outputs": [],
   "source": [
    "%matplotlib inline\n",
    "# Static plots\n",
    "#%matplotlib ipympl\n",
    "# Interactive plots\n",
    "import numpy as np\n",
    "import matplotlib as mpl\n",
    "from matplotlib import ticker\n",
    "import matplotlib.cm as cm\n",
    "import matplotlib.pyplot as plt\n",
    "import matplotlib.colors as mcolors\n",
    "import matplotlib.patheffects as mpe\n",
    "import mpl_scatter_density\n",
    "from mpl_toolkits.axes_grid1.inset_locator import inset_axes\n",
    "from astropy.visualization import LogStretch, PowerStretch\n",
    "from astropy.visualization.mpl_normalize import ImageNormalize\n",
    "from sklearn.preprocessing import MinMaxScaler\n",
    "from sklearn.model_selection import train_test_split\n",
    "# from sklearn.metrics import ConfusionMatrixDisplay, roc_auc_score, roc_curve, RocCurveDisplay, matthews_corrcoef\n",
    "# from sklearn.calibration import calibration_curve\n",
    "import sklearn.pipeline\n",
    "import ppscore as pps\n",
    "import seaborn as sns\n",
    "import colorcet as cc\n",
    "# from pycaret import classification as pyc\n",
    "from pycaret import regression as pyr\n",
    "from pycaret.internal.tabular import _get_columns_to_stratify_by\n",
    "import pandas as pd\n",
    "import smogn"
   ]
  },
  {
   "cell_type": "code",
   "execution_count": 2,
   "id": "e8393ddf",
   "metadata": {},
   "outputs": [],
   "source": [
    "mpl.rcdefaults()"
   ]
  },
  {
   "cell_type": "markdown",
   "id": "eaa47b2d",
   "metadata": {
    "id": "9647d74a-8d80-4d24-a2f4-023184fa27ac"
   },
   "source": [
    "Create class to normalize asymmetric colorscales  \n",
    "(from [http://chris35wills.github.io/matplotlib_diverging_colorbar/](http://chris35wills.github.io/matplotlib_diverging_colorbar/))."
   ]
  },
  {
   "cell_type": "code",
   "execution_count": 3,
   "id": "e5e0c015",
   "metadata": {
    "id": "652a8557-e595-4861-af72-5d3220fb7620",
    "jupyter": {
     "source_hidden": true
    },
    "tags": []
   },
   "outputs": [],
   "source": [
    "class MidpointNormalize(mcolors.Normalize):\n",
    "    \"\"\"\n",
    "    Normalise the colorbar so that diverging bars work there way either side from a prescribed midpoint value)\n",
    "\n",
    "    e.g. im=ax1.imshow(array, norm=MidpointNormalize(midpoint=0.,vmin=-100, vmax=100))\n",
    "    \"\"\"\n",
    "    def __init__(self, vmin=None, vmax=None, midpoint=None, clip=False):\n",
    "        self.midpoint = midpoint\n",
    "        mcolors.Normalize.__init__(self, vmin, vmax, clip)\n",
    "\n",
    "    def __call__(self, value, clip=None):\n",
    "        # I'm ignoring masked values and all kinds of edge cases to make a\n",
    "        # simple example...\n",
    "        x, y = [self.vmin, self.midpoint, self.vmax], [0, 0.5, 1]\n",
    "        return np.ma.masked_array(np.interp(value, x, y), np.isnan(value))"
   ]
  },
  {
   "cell_type": "markdown",
   "id": "2908dd39",
   "metadata": {
    "id": "0bc24aa0-581a-4c39-bc90-b18f85385e78"
   },
   "source": [
    "For future plots, we can configure their aspect too."
   ]
  },
  {
   "cell_type": "code",
   "execution_count": 4,
   "id": "2fce4af1",
   "metadata": {
    "id": "cc05a86c-85e4-46e7-9b7f-f8ac4abd4ff2",
    "jupyter": {
     "source_hidden": true
    },
    "tags": []
   },
   "outputs": [],
   "source": [
    "cmap           = cm.get_cmap('inferno')\n",
    "cmap_alt       = cm.get_cmap('Dark2')\n",
    "cmap_alt_2     = cm.get_cmap('Greys_r')  # Shades of grey\n",
    "cmap_alt_3     = cm.get_cmap('coolwarm')  # blue to red\n",
    "dark_color     = cmap(0.4)  # RGBA color code\n",
    "light_color    = cmap(0.6)  # RGBA color code\n",
    "colors         = [cmap(0.15), cmap(0.30), cmap(0.45), cmap(0.60), cmap(0.75), cmap(0.90)]\n",
    "colors_3       = [cmap(0.25), cmap(0.50), cmap(0.75)]\n",
    "colors_3_alt   = [cmap_alt(0.25), cmap_alt(0.50), cmap_alt(0.75)]\n",
    "colors_3_alt_2 = [cmap_alt_2(0.25), cmap_alt_2(0.50), cmap_alt_2(0.75)]\n",
    "colors_8       = [cmap(0.12), cmap(0.24), cmap(0.35), cmap(0.48), cmap(0.6), cmap(0.72), cmap(0.84), cmap(0.96)]\n",
    "colors_8_alt   = [cmap_alt(0.12), cmap_alt(0.24), cmap_alt(0.35), cmap_alt(0.48), cmap_alt(0.6), cmap_alt(0.72),\\\n",
    "                  cmap_alt(0.84), cmap_alt(0.96)]\n",
    "colors_8_alt_2 = [cmap_alt_2(0.06), cmap_alt_2(0.18), cmap_alt_2(0.29), cmap_alt_2(0.42), cmap_alt_2(0.54),\\\n",
    "                  cmap_alt_2(0.66), cmap_alt_2(0.78), cmap_alt_2(0.90)]\n",
    "colors_8_alt_3 = [cmap_alt_3(0.06), cmap_alt_3(0.18), cmap_alt_3(0.29), cmap_alt_3(0.42), cmap_alt_3(0.54),\\\n",
    "                  cmap_alt_3(0.66), cmap_alt_3(0.78), cmap_alt_3(0.90)]"
   ]
  },
  {
   "cell_type": "code",
   "execution_count": 5,
   "id": "df4eac91",
   "metadata": {
    "id": "f7b5bb0d-e1c0-415d-b7a8-3237c86e6c7b",
    "jupyter": {
     "source_hidden": true
    },
    "tags": []
   },
   "outputs": [],
   "source": [
    "pe1            = [mpe.Stroke(linewidth=5.0, foreground='black'),\n",
    "                  mpe.Stroke(foreground='white', alpha=1),\n",
    "                  mpe.Normal()]\n",
    "pe2            = [mpe.Stroke(linewidth=3.0, foreground='white'),\n",
    "                  mpe.Stroke(foreground='white', alpha=1),\n",
    "                  mpe.Normal()]\n",
    "\n",
    "alp_str        = r'$\\alpha$'"
   ]
  },
  {
   "cell_type": "markdown",
   "id": "b4cdcfea",
   "metadata": {},
   "source": [
    "Define specific metrics for redshift values:  \n",
    "\n",
    "$$\n",
    "\\sigma_{\\mathrm{NMAD}} = 1.48 \\times \\mathrm{median}\\left(\\frac{|(z_{True} - z_{Predict})|}{(1 + z_{True})}\\right)\n",
    "$$"
   ]
  },
  {
   "cell_type": "code",
   "execution_count": 6,
   "id": "735ca859",
   "metadata": {
    "jupyter": {
     "source_hidden": true
    },
    "tags": []
   },
   "outputs": [],
   "source": [
    "def sigma_mad(z_true, z_pred, **kwargs):\n",
    "    med = np.nanmedian(np.abs(z_true - z_pred)).astype('float32')\n",
    "    return 1.48 * med"
   ]
  },
  {
   "cell_type": "code",
   "execution_count": 7,
   "id": "cb24d1cc",
   "metadata": {
    "jupyter": {
     "source_hidden": true
    },
    "tags": []
   },
   "outputs": [],
   "source": [
    "def sigma_nmad(z_true, z_pred, **kwargs):\n",
    "    dif  = (z_true - z_pred)\n",
    "    frac = dif / (1 + z_true).values\n",
    "    med  = np.nanmedian(np.abs(frac)).astype('float32')\n",
    "    return 1.48 * med"
   ]
  },
  {
   "cell_type": "code",
   "execution_count": 8,
   "id": "4eb0f28e",
   "metadata": {
    "jupyter": {
     "source_hidden": true
    },
    "tags": []
   },
   "outputs": [],
   "source": [
    "def sigma_z(z_true, z_pred, **kwargs):\n",
    "    dif = z_true - z_pred\n",
    "    ssq = np.sum(dif**2)\n",
    "    rot = np.sqrt(ssq / len(z_true)).astype('float32')\n",
    "    return rot"
   ]
  },
  {
   "cell_type": "code",
   "execution_count": 9,
   "id": "a53c7811",
   "metadata": {
    "jupyter": {
     "source_hidden": true
    },
    "tags": []
   },
   "outputs": [],
   "source": [
    "def sigma_z_norm(z_true, z_pred, **kwargs):\n",
    "    dif = (z_true - z_pred) / (1 + z_true)\n",
    "    ssq = np.sum(dif**2)\n",
    "    rot = np.sqrt(ssq / len(z_true)).astype('float32')\n",
    "    return rot"
   ]
  },
  {
   "cell_type": "code",
   "execution_count": 10,
   "id": "f39d703c",
   "metadata": {
    "jupyter": {
     "source_hidden": true
    },
    "tags": []
   },
   "outputs": [],
   "source": [
    "def outlier_frac(z_true, z_pred, **kwargs):\n",
    "    dif  = np.abs((z_true - z_pred) / (1 + z_true))\n",
    "    siz  = np.sum(np.isfinite(dif)).astype('float32')\n",
    "    num  = np.sum(np.array(dif > 0.15)).astype('float32')\n",
    "    frac = num / siz\n",
    "    return frac"
   ]
  },
  {
   "cell_type": "markdown",
   "id": "eb940248",
   "metadata": {
    "id": "aacf1d05-0bd7-4cbe-a480-5bd658bc008c"
   },
   "source": [
    "Methdods for PyCaret and saved models."
   ]
  },
  {
   "cell_type": "code",
   "execution_count": 11,
   "id": "42c0b284",
   "metadata": {
    "id": "86db6e67-85aa-4cd6-a3dc-bfe638bc69bb",
    "jupyter": {
     "source_hidden": true
    },
    "tags": []
   },
   "outputs": [],
   "source": [
    "def get_final_column_names(pycaret_pipeline, sample_df):\n",
    "    if isinstance(pycaret_pipeline, sklearn.pipeline.Pipeline):\n",
    "        for (name, method) in pycaret_pipeline.named_steps.items():\n",
    "            if method != 'passthrough' and name != 'trained_model':\n",
    "                print(f'Running {name}')\n",
    "                sample_df = method.transform(sample_df)\n",
    "        return sample_df.columns.tolist()\n",
    "    else:\n",
    "        for (name, method) in pyr.get_config('prep_pipe').named_steps.items():\n",
    "            if method != 'passthrough' and name != 'trained_model':\n",
    "                print(f'Running {name}')\n",
    "                sample_df = method.transform(sample_df)\n",
    "        return sample_df.columns.tolist()"
   ]
  },
  {
   "cell_type": "code",
   "execution_count": 12,
   "id": "195d2b58",
   "metadata": {
    "id": "715acda9-475d-4c9c-8e99-4921da2e1152",
    "jupyter": {
     "source_hidden": true
    },
    "tags": []
   },
   "outputs": [],
   "source": [
    "def get_feature_importances_df(pycaret_pipeline, sample_df, n = 10):\n",
    "    \n",
    "    final_cols = get_final_column_names(pycaret_pipeline, sample_df)\n",
    "    \n",
    "    if isinstance(pycaret_pipeline, sklearn.pipeline.Pipeline):\n",
    "        try:\n",
    "            variables = pycaret_pipeline[\"trained_model\"].feature_importances_\n",
    "            \n",
    "        except:\n",
    "            variables = np.mean([\n",
    "                            tree.feature_importances_ for tree in pycaret_pipeline[\"trained_model\"].estimators_\n",
    "                if hasattr(tree, 'feature_importances_')\n",
    "                            ], axis=0)\n",
    "        \n",
    "        coef_df = pd.DataFrame({'Feature': final_cols, 'Importance': variables})\n",
    "        sorted_df = (\n",
    "            coef_df.sort_values(by='Importance', ascending=False)\n",
    "            .head(n)\n",
    "            .sort_values(by='Importance', ascending=True).reset_index(drop=True)\n",
    "        )\n",
    "    else:\n",
    "        try:\n",
    "            variables = pycaret_pipeline.feature_importances_\n",
    "            \n",
    "        except:\n",
    "            variables = np.mean([\n",
    "                            tree.feature_importances_ for tree in pycaret_pipeline.estimators_\n",
    "                if hasattr(tree, 'feature_importances_')\n",
    "                            ], axis=0)\n",
    "        \n",
    "        coef_df = pd.DataFrame({'Feature': final_cols, 'Importance': variables})\n",
    "        sorted_df = (\n",
    "            coef_df.sort_values(by='Importance', ascending=False)\n",
    "            .head(n)\n",
    "            .sort_values(by='Importance', ascending=True).reset_index(drop=True)\n",
    "        )\n",
    "    return sorted_df"
   ]
  },
  {
   "cell_type": "code",
   "execution_count": 13,
   "id": "7bf527cd",
   "metadata": {
    "jupyter": {
     "source_hidden": true
    },
    "tags": []
   },
   "outputs": [],
   "source": [
    "def plot_conf_mat(confusion_matrix, title, axin, display_labels=['Non true', 'True'], cmap='cet_dimgray_r', show_clb=False, log_stretch=False):\n",
    "    disp = ConfusionMatrixDisplay(confusion_matrix=confusion_matrix,\n",
    "                              display_labels=display_labels)\n",
    "\n",
    "    min_val_colour = np.nanmin(confusion_matrix)\n",
    "    max_val_colour = np.nanmin(confusion_matrix)\n",
    "    \n",
    "    if log_stretch:\n",
    "        norm = ImageNormalize(stretch=LogStretch())\n",
    "    if not log_stretch:\n",
    "        norm = ImageNormalize()\n",
    "\n",
    "    # NOTE: Fill all variables here with default values of the plot_confusion_matrix\n",
    "    disp_b = disp.plot(include_values=True, cmap=cm.get_cmap(cmap),\\\n",
    "             ax=axin, xticks_rotation='horizontal')\n",
    "\n",
    "    for text_val in disp_b.text_.flatten():\n",
    "        text_val.set_fontsize(30)\n",
    "    clb = plt.gca().images[-1].colorbar\n",
    "    clb.ax.tick_params(labelsize=14)\n",
    "    clb.ax.ticklabel_format(style='sci', scilimits=(0, 0))\n",
    "    clb.outline.set_linewidth(2.5)\n",
    "    clb.ax.set_ylabel('Elements in bin', size=14)\n",
    "    if not show_clb:\n",
    "        clb.remove()\n",
    "\n",
    "    # disp_b.im_.set_clim(1e2, 3e3)\n",
    "    disp_b.im_.norm = norm\n",
    "\n",
    "    axin.xaxis.get_label().set_fontsize(16)\n",
    "    axin.yaxis.get_label().set_fontsize(16)\n",
    "\n",
    "    axin.tick_params(axis='both', which='major', labelsize=14)\n",
    "\n",
    "    plt.setp(axin.spines.values(), linewidth=2.5)\n",
    "    plt.setp(axin.spines.values(), linewidth=2.5)\n",
    "    axin.set_title(title)\n",
    "    plt.tight_layout()"
   ]
  },
  {
   "cell_type": "code",
   "execution_count": 14,
   "id": "bd2a2cfe",
   "metadata": {
    "jupyter": {
     "source_hidden": true
    }
   },
   "outputs": [],
   "source": [
    "def get_base_estimators_names(pycaret_pipeline):\n",
    "    if isinstance(pycaret_pipeline, sklearn.pipeline.Pipeline):\n",
    "        estimators  = pycaret_pipeline['trained_model'].estimators\n",
    "    else:\n",
    "        estimators  = pycaret_pipeline.estimators\n",
    "\n",
    "    estimators_list = [estimator[0] for estimator in estimators]\n",
    "    return estimators_list"
   ]
  },
  {
   "cell_type": "markdown",
   "id": "a969ca38",
   "metadata": {},
   "source": [
    "Method to compare and plot redshifts."
   ]
  },
  {
   "cell_type": "code",
   "execution_count": 15,
   "id": "6040c2f8",
   "metadata": {
    "jupyter": {
     "source_hidden": true
    }
   },
   "outputs": [],
   "source": [
    "def plot_redshift_compare(true_z, predicted_z, ax_pre, title=None, dpi=10, cmap='cet_linear_kryw_5_100_c64_r', show_clb=False, log_stretch=False):\n",
    "    if log_stretch:\n",
    "        norm = ImageNormalize(vmin=0., stretch=LogStretch())\n",
    "    if not log_stretch:\n",
    "        norm = ImageNormalize(vmin=0., stretch=PowerStretch(0.3))\n",
    "\n",
    "    filt_pair_z   = np.isfinite(true_z) & np.isfinite(predicted_z)\n",
    "    max_for_range = np.nanmax([np.nanmax(1 + true_z.loc[filt_pair_z]), np.nanmax(1 + predicted_z.loc[filt_pair_z])])\n",
    "    min_for_range = np.nanmin([np.nanmin(1 + true_z.loc[filt_pair_z]), np.nanmin(1 + predicted_z.loc[filt_pair_z])])\n",
    "\n",
    "    dens_1 = ax_pre.scatter_density((1 + true_z.sample(frac=1, random_state=seed)),\\\n",
    "            (1 + predicted_z.sample(frac=1, random_state=seed)),\\\n",
    "            cmap=plt.get_cmap(cmap), zorder=0, dpi=dpi, norm=norm, alpha=0.93)\n",
    "    \n",
    "    ax_pre.axline((2., 2.), (3., 3.), ls='--', marker=None, c='Gray', alpha=0.8, lw=3.0, zorder=20)\n",
    "    ax_pre.axline(xy1=(1., 1.15), xy2=(2., 2.3), ls='-.', marker=None, c='slateblue', alpha=0.6, lw=3.0, zorder=20)\n",
    "    ax_pre.axline(xy1=(1., 0.85), xy2=(2., 1.7), ls='-.', marker=None, c='slateblue', alpha=0.6, lw=3.0, zorder=20)\n",
    "\n",
    "    if show_clb:\n",
    "        clb = plt.colorbar(dens_1, extend='neither', norm=norm, ticks=ticker.MaxNLocator(integer=True))\n",
    "        clb.ax.tick_params(labelsize=14)\n",
    "        clb.outline.set_linewidth(2.5)\n",
    "        clb.ax.set_ylabel('Elements per pixel', size=16, path_effects=pe2)\n",
    "\n",
    "    # Inset axis with residuals\n",
    "    axins = inset_axes(ax_pre, width='35%', height='20%', loc=2)\n",
    "    res_z_z = (predicted_z - true_z) / (1 + true_z)\n",
    "    axins.hist(res_z_z, histtype='stepfilled', fc='grey', ec='k', bins=50, lw=2.5)\n",
    "    axins.axvline(x=np.nanpercentile(res_z_z, [15.9]), ls='--', lw=2.5, c='royalblue')\n",
    "    axins.axvline(x=np.nanpercentile(res_z_z, [84.1]), ls='--', lw=2.5, c='royalblue')\n",
    "    axins.set_xlabel('$\\Delta z / (1 + z_{\\mathrm{True}})$', fontsize=10)\n",
    "    axins.tick_params(labelleft=False, labelbottom=True)\n",
    "    axins.tick_params(which='both', top=True, right=True, direction='in')\n",
    "    axins.tick_params(axis='both', which='major', labelsize=10)\n",
    "    axins.tick_params(which='major', length=8, width=1.5)\n",
    "    axins.tick_params(which='minor', length=4, width=1.5)\n",
    "    plt.setp(axins.spines.values(), linewidth=2.5)\n",
    "    plt.setp(axins.spines.values(), linewidth=2.5)\n",
    "    axins.set_xlim(left=-0.9, right=0.9)\n",
    "    ##\n",
    "    ax_pre.set_xlabel('$1 + z_{\\mathrm{True}}$', fontsize=20)\n",
    "    ax_pre.set_ylabel('$1 + z_{\\mathrm{Predicted}}$', fontsize=20)\n",
    "    ax_pre.tick_params(which='both', top=True, right=True, direction='in')\n",
    "    ax_pre.tick_params(axis='both', which='minor', labelsize=14)\n",
    "    ax_pre.tick_params(which='major', length=8, width=1.5)\n",
    "    ax_pre.tick_params(which='minor', length=4, width=1.5)\n",
    "    # ax_pre.xaxis.set_major_locator(ticker.MaxNLocator(integer=True))\n",
    "    # ax_pre.yaxis.set_major_locator(ticker.MaxNLocator(integer=True))\n",
    "    ax_pre.xaxis.set_minor_formatter(ticker.ScalarFormatter(useMathText=False))\n",
    "    ax_pre.yaxis.set_minor_formatter(ticker.ScalarFormatter(useMathText=False))\n",
    "    plt.setp(ax_pre.spines.values(), linewidth=2.5)\n",
    "    plt.setp(ax_pre.spines.values(), linewidth=2.5)\n",
    "    ax_pre.set_xlim(left=np.floor(min_for_range), right=np.ceil(max_for_range))\n",
    "    ax_pre.set_ylim(bottom=np.floor(min_for_range), top=np.ceil(max_for_range))\n",
    "    ax_pre.set_title(title, fontsize=14)\n",
    "    plt.tight_layout()"
   ]
  },
  {
   "cell_type": "markdown",
   "id": "57cbc87c",
   "metadata": {
    "id": "8222df68-1b98-436b-af43-d9f38d015ba6"
   },
   "source": [
    "***"
   ]
  },
  {
   "cell_type": "markdown",
   "id": "de029278",
   "metadata": {
    "id": "e2ce5669-172d-4ed4-b6fe-5fff8afc7df5"
   },
   "source": [
    "## Reading data"
   ]
  },
  {
   "cell_type": "code",
   "execution_count": 16,
   "id": "e15c7368",
   "metadata": {
    "id": "b0619b32-391c-4f18-8284-d1fabf6a800c",
    "tags": []
   },
   "outputs": [],
   "source": [
    "cat_path = '../../Catalogs/'  # relative path to the same directory"
   ]
  },
  {
   "cell_type": "markdown",
   "id": "b0f446c6",
   "metadata": {
    "id": "c4e41fd8-fbc5-4185-b03e-8a57634a05a9"
   },
   "source": [
    "We import our data using the `pandas` package."
   ]
  },
  {
   "cell_type": "code",
   "execution_count": 17,
   "id": "b855bc11",
   "metadata": {},
   "outputs": [],
   "source": [
    "save_plot_flag  = False\n",
    "save_model_flag = False\n",
    "load_model_flag = False"
   ]
  },
  {
   "cell_type": "code",
   "execution_count": 18,
   "id": "e8098f66",
   "metadata": {},
   "outputs": [],
   "source": [
    "use_5sigma = True  # use files with 5-sigma magnitude imputation"
   ]
  },
  {
   "cell_type": "code",
   "execution_count": 19,
   "id": "2fc07c90",
   "metadata": {},
   "outputs": [],
   "source": [
    "mqc_version = '7_4d'  # '7_2'"
   ]
  },
  {
   "cell_type": "code",
   "execution_count": 20,
   "id": "a7c620ec",
   "metadata": {
    "id": "c69bd7ee-7184-46e3-a6cb-1a66cb75d6ae",
    "tags": []
   },
   "outputs": [],
   "source": [
    "file_name_train = f'CatWISE2020_VLASS_LOFAR_PS1_GALEX_TGSS_XMM_2MASS_MILLIQUAS_{mqc_version}_ALLWISE_LOLSS_SDSS_DR16_5sigma_imp.h5'  # 6729647 objects (6.7e6)"
   ]
  },
  {
   "cell_type": "markdown",
   "id": "c61f2f5b",
   "metadata": {
    "id": "2cd751bd-1eb4-4c54-b6fa-418773ac8938"
   },
   "source": [
    "First, open the file as astropy Table to modify (and standardise)  \n",
    "the units of fluxes and/or magnitudes."
   ]
  },
  {
   "cell_type": "markdown",
   "id": "a94edc83",
   "metadata": {
    "id": "d0ce0178-04a7-4113-bbb8-1b70ce220764"
   },
   "source": [
    "---"
   ]
  },
  {
   "cell_type": "markdown",
   "id": "21b7d1e5",
   "metadata": {
    "id": "6e66f66c-4987-4340-bf82-7d8e218033fb"
   },
   "source": [
    "Create `pandas` DataFrame from `astropy` table."
   ]
  },
  {
   "cell_type": "code",
   "execution_count": 21,
   "id": "f217374a",
   "metadata": {},
   "outputs": [],
   "source": [
    "features_2_discard = ['objID', 'RA_ICRS', 'DE_ICRS', 'Name', 'RA_MILLI', 'DEC_MILLI',\\\n",
    "                     'TYPE', 'X_ray_detect', 'Total_flux_VLASS',\\\n",
    "                     'Sint_LOFAR', 'Stotal_TGSS', 'FEP', 'TotalFlux_LoLSS', 'W1mag', 'W2mag'] # , 'mode',\\\n",
    "                     # 'class', 'f_zsp', 'subCl', 'zph', 'e_zph']  # Not needed for training in this model"
   ]
  },
  {
   "cell_type": "code",
   "execution_count": 22,
   "id": "6ced6898",
   "metadata": {
    "id": "498083f5-b8c6-44aa-8de4-75b1dc899296",
    "tags": []
   },
   "outputs": [],
   "source": [
    "full_catalog_df = pd.read_hdf(cat_path + file_name_train, key='df').drop(columns=features_2_discard)"
   ]
  },
  {
   "cell_type": "code",
   "execution_count": 23,
   "id": "45f6cf75",
   "metadata": {},
   "outputs": [],
   "source": [
    "full_catalog_df.loc[:, 'radio_detect'] = full_catalog_df.loc[:, 'radio_detect'].astype(int)"
   ]
  },
  {
   "cell_type": "code",
   "execution_count": 24,
   "id": "809c023c",
   "metadata": {},
   "outputs": [],
   "source": [
    "# full_catalog_df.describe()"
   ]
  },
  {
   "cell_type": "markdown",
   "id": "18411a1e",
   "metadata": {},
   "source": [
    "Combine redshift values (AGN + galaxies)."
   ]
  },
  {
   "cell_type": "code",
   "execution_count": 25,
   "id": "cd62e0de",
   "metadata": {},
   "outputs": [],
   "source": [
    "idx_non_Z                = full_catalog_df.loc[:, 'Z'].where(full_catalog_df.loc[:, 'Z'] > 0).isna()\n",
    "full_catalog_df.loc[idx_non_Z, 'Z'] = full_catalog_df.loc[:, 'Z'].mask(idx_non_Z, full_catalog_df.loc[idx_non_Z, 'zsp'])"
   ]
  },
  {
   "cell_type": "markdown",
   "id": "b61547de",
   "metadata": {},
   "source": [
    "#### Select only confirmed radio AGN"
   ]
  },
  {
   "cell_type": "code",
   "execution_count": 26,
   "id": "46b971f1",
   "metadata": {},
   "outputs": [],
   "source": [
    "# full_catalog_df = full_catalog_df.loc[(full_catalog_df.loc[:, 'is_gal'] == 1) | (full_catalog_df.loc[:, 'is_AGN'] == 1)]\n",
    "filter_confirmed = full_catalog_df.loc[:, 'is_AGN'] == 1\n",
    "filter_redshift  = (full_catalog_df.loc[:, 'Z'] > 0) | (full_catalog_df.loc[:, 'zsp'] > 0)\n",
    "filter_radio     = full_catalog_df.loc[:, 'radio_detect'] == 1\n",
    "full_catalog_df  = full_catalog_df.loc[filter_confirmed & filter_redshift & filter_radio]"
   ]
  },
  {
   "cell_type": "markdown",
   "id": "32ec8574",
   "metadata": {
    "tags": []
   },
   "source": [
    "#### Select high-redshift sources"
   ]
  },
  {
   "cell_type": "code",
   "execution_count": 27,
   "id": "a060a0b1",
   "metadata": {},
   "outputs": [],
   "source": [
    "redshift_low_lim = 3.7  # 3.7, 4.0\n",
    "filter_high_z    = full_catalog_df.loc[:, 'Z'] >= redshift_low_lim\n",
    "full_catalog_df  = full_catalog_df.loc[filter_high_z]"
   ]
  },
  {
   "cell_type": "code",
   "execution_count": 28,
   "id": "ae35e218",
   "metadata": {
    "tags": []
   },
   "outputs": [
    {
     "name": "stdout",
     "output_type": "stream",
     "text": [
      "In this dataset, with 72 elements,\n",
      "72 of them are marked as AGN, 0 have been indentified as galaxies, and 72 are identified as radio detections.\n"
     ]
    }
   ],
   "source": [
    "n_full   = len(full_catalog_df)\n",
    "n_is_AGN = np.sum(full_catalog_df.loc[:, 'is_AGN'] == 1)\n",
    "n_is_gal = np.sum(full_catalog_df.loc[:, 'is_gal'] == 1)\n",
    "n_is_rad = np.sum(full_catalog_df.loc[:, 'radio_detect'] == 1)\n",
    "print(f'In this dataset, with {n_full:,} elements,\\n' +\\\n",
    "         f'{n_is_AGN:,} of them are marked as AGN, {n_is_gal:,} have been indentified as galaxies,' +\\\n",
    "      f' and {n_is_rad:,} are identified as radio detections.')"
   ]
  },
  {
   "cell_type": "markdown",
   "id": "19fe2341",
   "metadata": {
    "id": "6619390c-a04f-4bd0-9f97-9ca54bc9c764"
   },
   "source": [
    "---"
   ]
  },
  {
   "cell_type": "markdown",
   "id": "a1e655de",
   "metadata": {
    "id": "e1111608-acd0-41fd-a79d-831539eb56b9"
   },
   "source": [
    "## Possible correlations"
   ]
  },
  {
   "cell_type": "code",
   "execution_count": 29,
   "id": "61cdde98",
   "metadata": {
    "id": "c5787752-376d-4409-bda6-ed1ab94bbe9b",
    "jupyter": {
     "source_hidden": true
    },
    "outputId": "80a70466-b8d8-4390-8734-77688a25a7de",
    "tags": []
   },
   "outputs": [
    {
     "name": "stdout",
     "output_type": "stream",
     "text": [
      "['Z', 'zsp', 'band_num', 'radio_detect', 'is_AGN', 'is_SDSS_gal', 'is_gal', 'W1mproPM', 'W2mproPM', 'gmag', 'rmag', 'imag', 'zmag', 'ymag', 'FUVmag', 'NUVmag', 'Jmag', 'Hmag', 'Kmag', 'W3mag', 'W4mag', 'g_r', 'r_i', 'i_z', 'z_y', 'g_i', 'w1_w2', 'w2_w3', 'w3_w4', 'J_H', 'H_K', 'FUV_NUV', 'r/z', 'i/y', 'w1/w3', 'w1/w4', 'w2/w4', 'J/K', 'FUV/K', 'g/J', 'r/H', 'i/K', 'z/W1', 'y/W2']\n"
     ]
    }
   ],
   "source": [
    "print(full_catalog_df.columns.to_list())"
   ]
  },
  {
   "cell_type": "markdown",
   "id": "f023ed90",
   "metadata": {
    "id": "27645d12-9370-40d8-aeba-24d4415bb9eb"
   },
   "source": [
    "---"
   ]
  },
  {
   "cell_type": "markdown",
   "id": "e0af60e9",
   "metadata": {
    "id": "u4vi69d_pPbd"
   },
   "source": [
    "## Random seed"
   ]
  },
  {
   "cell_type": "code",
   "execution_count": 30,
   "id": "3bc7fd3f",
   "metadata": {
    "id": "8byjjVU3pOjM"
   },
   "outputs": [],
   "source": [
    "seed = 42"
   ]
  },
  {
   "cell_type": "markdown",
   "id": "9467564e",
   "metadata": {},
   "source": [
    "Create target"
   ]
  },
  {
   "cell_type": "markdown",
   "id": "1e8ebcd8",
   "metadata": {},
   "source": [
    "$0$ for galaxies and $1$ for AGN"
   ]
  },
  {
   "cell_type": "code",
   "execution_count": 31,
   "id": "a799fd30",
   "metadata": {},
   "outputs": [],
   "source": [
    "# full_catalog_df['class'] = full_catalog_df.loc[:, 'is_AGN'].copy()"
   ]
  },
  {
   "cell_type": "markdown",
   "id": "fc0fe7f2",
   "metadata": {},
   "source": [
    "Remove intermediate targets"
   ]
  },
  {
   "cell_type": "code",
   "execution_count": 32,
   "id": "ad41a389",
   "metadata": {},
   "outputs": [],
   "source": [
    "full_catalog_df = full_catalog_df.drop(columns=['is_AGN', 'is_SDSS_gal', 'is_gal', 'radio_detect', 'zsp'])"
   ]
  },
  {
   "cell_type": "markdown",
   "id": "e57d40e1",
   "metadata": {},
   "source": [
    "---"
   ]
  },
  {
   "cell_type": "markdown",
   "id": "422007e2",
   "metadata": {},
   "source": [
    "#### Add prediction from first AGN/galaxy model as feature."
   ]
  },
  {
   "cell_type": "code",
   "execution_count": 33,
   "id": "7a18c6c1",
   "metadata": {},
   "outputs": [],
   "source": [
    "# AGN_gal_clf = pyc.load_model('models/classification_AGN_galaxy_apr_20_2022')"
   ]
  },
  {
   "cell_type": "code",
   "execution_count": 34,
   "id": "af100ae7",
   "metadata": {},
   "outputs": [],
   "source": [
    "# AGN_pred_threshold = 0.5\n",
    "# full_catalog_df    = pyc.predict_model(AGN_gal_clf, data=full_catalog_df, probability_threshold=AGN_pred_threshold, raw_score=False).drop(columns=['Score'])"
   ]
  },
  {
   "cell_type": "code",
   "execution_count": 35,
   "id": "a5cfc6f3",
   "metadata": {},
   "outputs": [],
   "source": [
    "# full_catalog_df = full_catalog_df.rename(columns={'Label': 'class'})"
   ]
  },
  {
   "cell_type": "markdown",
   "id": "61d9ff87",
   "metadata": {},
   "source": [
    "---"
   ]
  },
  {
   "cell_type": "markdown",
   "id": "dbf737bb",
   "metadata": {},
   "source": [
    "## Split data: Test, Train, Validation"
   ]
  },
  {
   "cell_type": "code",
   "execution_count": 36,
   "id": "462089f2",
   "metadata": {
    "tags": []
   },
   "outputs": [
    {
     "name": "stdout",
     "output_type": "stream",
     "text": [
      "Shape of used data\n",
      "----------------------------------------\n",
      "Full Dataset size: (72, 39)\n",
      "Data for Modeling (Train and Test): (58, 39)\n",
      "Unseen Data For Validation: (14, 39)\n",
      "----------------------------------------\n"
     ]
    }
   ],
   "source": [
    "# train_test_df, validation_df = train_test_split(full_catalog_df, test_size=0.2,\\\n",
    "#                                                 random_state=seed, stratify=None)\n",
    "train_test_df = full_catalog_df.loc[np.isfinite(full_catalog_df.loc[:, 'Z'])].sample(frac=0.8, random_state=seed)  # Train + test sets\n",
    "validation_df = full_catalog_df.drop(train_test_df.index)  # Validation data\n",
    "\n",
    "print('Shape of used data')\n",
    "print('-' * 40)\n",
    "print(f'Full Dataset size: {full_catalog_df.shape}')\n",
    "print(f'Data for Modeling (Train and Test): {train_test_df.shape}')\n",
    "print(f'Unseen Data For Validation: {validation_df.shape}')\n",
    "print('-' * 40)"
   ]
  },
  {
   "cell_type": "code",
   "execution_count": 37,
   "id": "42ddf0ff",
   "metadata": {
    "jupyter": {
     "source_hidden": true
    },
    "tags": []
   },
   "outputs": [
    {
     "data": {
      "image/png": "[encoded data removed]",
      "text/plain": [
       "<Figure size 700x450 with 1 Axes>"
      ]
     },
     "metadata": {},
     "output_type": "display_data"
    }
   ],
   "source": [
    "fig             = plt.figure(figsize=(7,4.5))\n",
    "ax1             = fig.add_subplot(111, xscale='linear', yscale='log')\n",
    "\n",
    "min_score  = np.nanmin(full_catalog_df.loc[:, 'Z'])\n",
    "max_score  = np.nanmax(full_catalog_df.loc[:, 'Z'])\n",
    "score_bins = np.linspace(min_score, max_score, 30)\n",
    "\n",
    "ax1.hist(train_test_df.loc[:, 'Z'], bins=score_bins, histtype='stepfilled', ec='k',\\\n",
    "         lw=3.5, color=cm.get_cmap('cet_gray')(0.8), alpha=1.0, label='Train+Test')\n",
    "ax1.hist(validation_df.loc[:, 'Z'], bins=score_bins, histtype='stepfilled', ec='k',\\\n",
    "         lw=3.5, color=cm.get_cmap('cet_gray')(0.95), alpha=1.0, label='Validation')\n",
    "\n",
    "ax1.axvline(x=redshift_low_lim, ls='--', c='k', lw=2.5)\n",
    "    \n",
    "ax1.tick_params(which='both', top=True, right=True, direction='in')\n",
    "ax1.tick_params(axis='both', which='major', labelsize=14)\n",
    "ax1.tick_params(which='major', length=8, width=1.5)\n",
    "ax1.tick_params(which='minor', length=4, width=1.5)\n",
    "ax1.set_xlabel('Redshift', size=20)\n",
    "ax1.set_ylabel('Frequency', size=20)\n",
    "plt.setp(ax1.spines.values(), linewidth=3.5)\n",
    "plt.setp(ax1.spines.values(), linewidth=3.5)\n",
    "plt.legend(loc=1, fontsize=14)\n",
    "plt.grid(False)\n",
    "# ax1.set_xlim(left=min_score - 1e-2, right=max_score + 1e-2)\n",
    "#ax1.set_aspect('equal', 'box')\n",
    "fig.tight_layout()"
   ]
  },
  {
   "cell_type": "markdown",
   "id": "41cb1ba7",
   "metadata": {},
   "source": [
    "Save indices of sources in validation sub-set for future steps."
   ]
  },
  {
   "cell_type": "code",
   "execution_count": 38,
   "id": "4cf261d4",
   "metadata": {},
   "outputs": [],
   "source": [
    "# val_idx = validation_df.index.to_numpy()\n",
    "# np.savetxt(fname='idx_validation_radio_01.txt', X=val_idx, header='Indices from first radio detection training.', fmt='%i')"
   ]
  },
  {
   "cell_type": "markdown",
   "id": "e1b1a3a1",
   "metadata": {},
   "source": [
    "---"
   ]
  },
  {
   "cell_type": "markdown",
   "id": "2c47f610",
   "metadata": {},
   "source": [
    "## Use SMOGN for data augmentation at high redshifts"
   ]
  },
  {
   "cell_type": "code",
   "execution_count": 39,
   "id": "7073cfb2",
   "metadata": {
    "jupyter": {
     "source_hidden": true
    }
   },
   "outputs": [],
   "source": [
    "backup_train_test_df = train_test_df.copy()"
   ]
  },
  {
   "cell_type": "code",
   "execution_count": 40,
   "id": "43d3366c",
   "metadata": {
    "jupyter": {
     "source_hidden": true
    }
   },
   "outputs": [
    {
     "name": "stderr",
     "output_type": "stream",
     "text": [
      "dist_matrix: 100%|###############################| 6/6 [00:00<00:00, 293.96it/s]\n",
      "synth_matrix: 100%|###############################| 6/6 [00:00<00:00, 14.83it/s]\n",
      "r_index: 100%|###################################| 4/4 [00:00<00:00, 105.76it/s]\n"
     ]
    }
   ],
   "source": [
    "train_test_df = smogn.smoter(\n",
    "    \n",
    "    ## main arguments\n",
    "    data          = train_test_df.reset_index(drop=True),           ## pandas dataframe\n",
    "    y             = 'Z',          ## string ('header name')\n",
    "    k             = 10,                    ## positive integer (k < n), 4\n",
    "    samp_method   = 'extreme',  ## string ('balance' or 'extreme')\n",
    "    drop_na_col   = False,\n",
    "    drop_na_row   = False,\n",
    "    under_samp    = True,\n",
    "    seed          = seed,\n",
    "    replace       = False,\n",
    "\n",
    "    ## phi relevance arguments\n",
    "    rel_thres     = 0.85,         ## positive real number (0 < R < 1), 0.5\n",
    "    rel_method    = 'auto',      ## string ('auto' or 'manual')\n",
    "    rel_xtrm_type = 'both',   ## string ('low' or 'both' or 'high')\n",
    "    rel_coef      = 2.00           ## positive real number (0 < R), 2.85\n",
    ")"
   ]
  },
  {
   "cell_type": "code",
   "execution_count": 41,
   "id": "2393fce3",
   "metadata": {
    "jupyter": {
     "source_hidden": true
    }
   },
   "outputs": [
    {
     "name": "stdout",
     "output_type": "stream",
     "text": [
      "Shape of new used data (after SMOGN)\n",
      "----------------------------------------\n",
      "Data for Modeling (Train and Test): (99, 39)\n",
      "----------------------------------------\n"
     ]
    }
   ],
   "source": [
    "print('Shape of new used data (after SMOGN)')\n",
    "print('-' * 40)\n",
    "print(f'Data for Modeling (Train and Test): {train_test_df.shape}')\n",
    "print('-' * 40)"
   ]
  },
  {
   "cell_type": "code",
   "execution_count": 43,
   "id": "2a0c7753",
   "metadata": {
    "jupyter": {
     "source_hidden": true
    },
    "tags": []
   },
   "outputs": [
    {
     "data": {
      "image/png": "[encoded data removed]",
      "text/plain": [
       "<Figure size 700x450 with 1 Axes>"
      ]
     },
     "metadata": {},
     "output_type": "display_data"
    }
   ],
   "source": [
    "fig             = plt.figure(figsize=(7,4.5))\n",
    "ax1             = fig.add_subplot(111, xscale='linear', yscale='log')\n",
    "\n",
    "min_score  = np.nanmin(full_catalog_df.loc[:, 'Z'])\n",
    "max_score  = np.nanmax(full_catalog_df.loc[:, 'Z'])\n",
    "score_bins = np.linspace(min_score, max_score, 40)\n",
    "\n",
    "ax1.hist(train_test_df.loc[:, 'Z'], bins=score_bins, histtype='stepfilled', ec='k',\\\n",
    "         lw=3.5, color=cm.get_cmap('cet_gray')(0.95), alpha=1.0, label='SMOGN Train+Test')\n",
    "ax1.hist(backup_train_test_df.loc[:, 'Z'], bins=score_bins, histtype='stepfilled', ec='k',\\\n",
    "         lw=3.5, color=cm.get_cmap('cet_gray')(0.8), alpha=0.75, label='Original Train+Test')\n",
    "\n",
    "ax1.axvline(x=redshift_low_lim, ls='--', c='k', lw=2.5)\n",
    "    \n",
    "ax1.tick_params(which='both', top=True, right=True, direction='in')\n",
    "ax1.tick_params(axis='both', which='major', labelsize=14)\n",
    "ax1.tick_params(which='major', length=8, width=1.5)\n",
    "ax1.tick_params(which='minor', length=4, width=1.5)\n",
    "ax1.set_xlabel('Redshift', size=20)\n",
    "ax1.set_ylabel('Frequency', size=20)\n",
    "plt.setp(ax1.spines.values(), linewidth=3.5)\n",
    "plt.setp(ax1.spines.values(), linewidth=3.5)\n",
    "plt.legend(loc=1, fontsize=14)\n",
    "plt.grid(False)\n",
    "# ax1.set_xlim(left=min_score - 1e-2, right=max_score + 1e-2)\n",
    "#ax1.set_aspect('equal', 'box')\n",
    "fig.tight_layout()"
   ]
  },
  {
   "cell_type": "markdown",
   "id": "73db14b9",
   "metadata": {},
   "source": [
    "---"
   ]
  },
  {
   "cell_type": "markdown",
   "id": "979d8e27",
   "metadata": {},
   "source": [
    "## Use Correlation matrix to discard some features"
   ]
  },
  {
   "cell_type": "code",
   "execution_count": 44,
   "id": "78a8b7c1",
   "metadata": {
    "jupyter": {
     "source_hidden": true
    },
    "tags": []
   },
   "outputs": [],
   "source": [
    "min_max_scaler              = MinMaxScaler(feature_range=(0., 1.))\n",
    "full_scaled                 = min_max_scaler.fit_transform(train_test_df.values)\n",
    "norm_train_test_df = pd.DataFrame(data=full_scaled, columns=train_test_df.columns, index=train_test_df.index)"
   ]
  },
  {
   "cell_type": "markdown",
   "id": "a806f092",
   "metadata": {},
   "source": [
    "Calculate Reduced Standard deviation to discard between pairs of features:  \n",
    "\n",
    "$$\\mathrm{RSD} = \\frac{\\sigma}{\\mu} \\times 100$$"
   ]
  },
  {
   "cell_type": "code",
   "execution_count": 45,
   "id": "219096be",
   "metadata": {},
   "outputs": [],
   "source": [
    "rsd_vals = (train_test_df.std() / train_test_df.mean() * 100).sort_values(ascending=False)"
   ]
  },
  {
   "cell_type": "code",
   "execution_count": 46,
   "id": "36f0294b",
   "metadata": {},
   "outputs": [
    {
     "data": {
      "text/plain": [
       "w1_w2       6872.559917\n",
       "z_y          182.365897\n",
       "i_z          103.314168\n",
       "r_i           85.809378\n",
       "g_r           54.770880\n",
       "g_i           50.457490\n",
       "w2_w3         23.382240\n",
       "band_num      19.995983\n",
       "Z             17.316567\n",
       "w3_w4         13.210328\n",
       "J_H           11.175754\n",
       "H_K            7.799776\n",
       "rmag           6.572102\n",
       "r/H            6.476977\n",
       "imag           6.157646\n",
       "i/K            6.140554\n",
       "gmag           5.631859\n",
       "g/J            5.501159\n",
       "zmag           5.410870\n",
       "ymag           5.045714\n",
       "W1mproPM       4.500017\n",
       "w1/w4          4.432545\n",
       "W2mproPM       4.221512\n",
       "w2/w4          4.112933\n",
       "z/W1           3.970516\n",
       "y/W2           3.646823\n",
       "w1/w3          3.618015\n",
       "r/z            3.362884\n",
       "i/y            3.104443\n",
       "W3mag          1.747403\n",
       "Jmag           0.469478\n",
       "W4mag          0.437119\n",
       "J/K            0.388342\n",
       "Hmag           0.371615\n",
       "FUV/K          0.097246\n",
       "Kmag           0.096333\n",
       "FUV_NUV       -0.000000\n",
       "NUVmag         0.000000\n",
       "FUVmag         0.000000\n",
       "dtype: float64"
      ]
     },
     "execution_count": 46,
     "metadata": {},
     "output_type": "execute_result"
    }
   ],
   "source": [
    "rsd_vals"
   ]
  },
  {
   "cell_type": "code",
   "execution_count": 47,
   "id": "a463ca5c",
   "metadata": {},
   "outputs": [],
   "source": [
    "correlation = norm_train_test_df.corr()"
   ]
  },
  {
   "cell_type": "code",
   "execution_count": 48,
   "id": "32dafbe7",
   "metadata": {
    "jupyter": {
     "source_hidden": true
    },
    "tags": []
   },
   "outputs": [],
   "source": [
    "filt_high_corr = np.array(correlation.abs().unstack().sort_values(ascending=False).drop_duplicates().values > 0.75) &\\\n",
    "np.array(correlation.abs().unstack().sort_values(ascending=False).drop_duplicates().values < 1.00)"
   ]
  },
  {
   "cell_type": "code",
   "execution_count": 49,
   "id": "591b0a17",
   "metadata": {
    "jupyter": {
     "source_hidden": true
    },
    "tags": []
   },
   "outputs": [],
   "source": [
    "corr_pairs     = correlation.abs().unstack().sort_values(ascending=False).drop_duplicates().index[filt_high_corr]"
   ]
  },
  {
   "cell_type": "code",
   "execution_count": 50,
   "id": "172bc9ee",
   "metadata": {},
   "outputs": [],
   "source": [
    "target_feat = 'Z'"
   ]
  },
  {
   "cell_type": "code",
   "execution_count": 51,
   "id": "21c31779",
   "metadata": {
    "jupyter": {
     "source_hidden": true
    },
    "tags": []
   },
   "outputs": [],
   "source": [
    "list_drop_corr = []"
   ]
  },
  {
   "cell_type": "markdown",
   "id": "90f6dea0",
   "metadata": {},
   "source": [
    "We want to discard features that are highly correlated (>0.75).  \n",
    "Between two features, we will discard the one with the lowest standard deviation (RSD)."
   ]
  },
  {
   "cell_type": "code",
   "execution_count": 52,
   "id": "9d1a475d",
   "metadata": {
    "jupyter": {
     "source_hidden": true
    },
    "tags": []
   },
   "outputs": [],
   "source": [
    "for row in corr_pairs:\n",
    "    if target_feat in row:\n",
    "        continue\n",
    "    elif row[0] in list_drop_corr:\n",
    "        continue\n",
    "    elif row[1] in list_drop_corr:\n",
    "        continue\n",
    "    else:\n",
    "        metric_a = rsd_vals[row[0]]\n",
    "        metric_b = rsd_vals[row[1]]\n",
    "        if metric_a >= metric_b:\n",
    "            list_drop_corr.append(row[1])\n",
    "        else:\n",
    "            list_drop_corr.append(row[0])"
   ]
  },
  {
   "cell_type": "code",
   "execution_count": 53,
   "id": "a34c4b41",
   "metadata": {},
   "outputs": [
    {
     "data": {
      "text/plain": [
       "['i/K',\n",
       " 'r/H',\n",
       " 'g/J',\n",
       " 'w1/w4',\n",
       " 'w2/w4',\n",
       " 'J/K',\n",
       " 'Hmag',\n",
       " 'W3mag',\n",
       " 'zmag',\n",
       " 'Jmag',\n",
       " 'W2mproPM',\n",
       " 'w1/w3',\n",
       " 'W1mproPM',\n",
       " 'r/z',\n",
       " 'i/y',\n",
       " 'imag',\n",
       " 'gmag',\n",
       " 'FUV/K',\n",
       " 'rmag',\n",
       " 'g_i',\n",
       " 'y/W2',\n",
       " 'z/W1',\n",
       " 'ymag']"
      ]
     },
     "execution_count": 53,
     "metadata": {},
     "output_type": "execute_result"
    }
   ],
   "source": [
    "list_drop_corr"
   ]
  },
  {
   "cell_type": "code",
   "execution_count": 54,
   "id": "895c3a0a",
   "metadata": {},
   "outputs": [],
   "source": [
    "# correlation.abs().unstack().sort_values(ascending=False).drop_duplicates()[:15]"
   ]
  },
  {
   "cell_type": "code",
   "execution_count": 55,
   "id": "07041a27",
   "metadata": {},
   "outputs": [],
   "source": [
    "norm_train_test_discard = norm_train_test_df.drop(columns=list_drop_corr)"
   ]
  },
  {
   "cell_type": "code",
   "execution_count": 56,
   "id": "8d83179a",
   "metadata": {},
   "outputs": [],
   "source": [
    "corr_discard = norm_train_test_discard.corr()"
   ]
  },
  {
   "cell_type": "code",
   "execution_count": 57,
   "id": "7cb9393c",
   "metadata": {},
   "outputs": [
    {
     "data": {
      "text/plain": [
       "Z         Z           1.000000\n",
       "H_K       Kmag        0.835371\n",
       "Z         i_z         0.802064\n",
       "w3_w4     w2_w3       0.703161\n",
       "J_H       H_K         0.672072\n",
       "g_r       w1_w2       0.671521\n",
       "J_H       Kmag        0.660120\n",
       "Z         band_num    0.632845\n",
       "z_y       Z           0.585912\n",
       "H_K       w3_w4       0.541741\n",
       "band_num  i_z         0.517557\n",
       "g_r       z_y         0.481327\n",
       "w3_w4     W4mag       0.465849\n",
       "Z         w1_w2       0.459124\n",
       "band_num  w2_w3       0.433839\n",
       "dtype: float64"
      ]
     },
     "execution_count": 57,
     "metadata": {},
     "output_type": "execute_result"
    }
   ],
   "source": [
    "corr_discard.abs().unstack().sort_values(ascending=False).drop_duplicates()[:15]"
   ]
  },
  {
   "cell_type": "code",
   "execution_count": 58,
   "id": "1875f215",
   "metadata": {
    "jupyter": {
     "source_hidden": true
    },
    "tags": []
   },
   "outputs": [
    {
     "data": {
      "text/plain": [
       "Text(1049.9166666666667, 0.5, 'feature')"
      ]
     },
     "execution_count": 58,
     "metadata": {},
     "output_type": "execute_result"
    },
    {
     "data": {
      "image/png": "[encoded data removed]",
      "text/plain": [
       "<Figure size 3000x1500 with 2 Axes>"
      ]
     },
     "metadata": {},
     "output_type": "display_data"
    }
   ],
   "source": [
    "plt.figure(figsize=(30,15))\n",
    "sns.set_context('paper', rc={'axes.labelsize':20, 'axes.ticklabelsize':14})\n",
    "ax1 = sns.heatmap(corr_discard, annot=True, cmap=plt.get_cmap('cet_CET_D1A'), center=0.0, square=True)\n",
    "ax1.set_xlabel('feature')\n",
    "ax1.set_ylabel('feature')"
   ]
  },
  {
   "cell_type": "code",
   "execution_count": 59,
   "id": "d7016fc5",
   "metadata": {},
   "outputs": [],
   "source": [
    "# norm_train_test_discard.loc[:, 'Z'] = norm_train_test_discard.loc[:, 'Z'].astype(bool)"
   ]
  },
  {
   "cell_type": "code",
   "execution_count": 60,
   "id": "d1667e9a",
   "metadata": {},
   "outputs": [],
   "source": [
    "pps_matrix = pps.matrix(norm_train_test_discard, random_seed=seed)[['x', 'y', 'ppscore']].pivot(columns='x', index='y', values='ppscore')"
   ]
  },
  {
   "cell_type": "code",
   "execution_count": 61,
   "id": "5acf6be5",
   "metadata": {},
   "outputs": [
    {
     "data": {
      "text/plain": [
       "x        y      \n",
       "FUV_NUV  FUV_NUV    1.000000\n",
       "Z        r_i        0.711026\n",
       "r_i      Z          0.689385\n",
       "w1_w2    Z          0.673943\n",
       "g_r      Z          0.672237\n",
       "i_z      Z          0.661123\n",
       "r_i      g_r        0.619083\n",
       "w1_w2    i_z        0.584136\n",
       "r_i      w1_w2      0.577322\n",
       "w2_w3    w1_w2      0.573560\n",
       "i_z      r_i        0.572037\n",
       "Z        i_z        0.565025\n",
       "w2_w3    Z          0.556898\n",
       "Z        W4mag      0.528366\n",
       "w2_w3    J_H        0.524905\n",
       "i_z      w1_w2      0.518971\n",
       "w1_w2    z_y        0.517690\n",
       "Z        w1_w2      0.516756\n",
       "z_y      w1_w2      0.512405\n",
       "w2_w3    r_i        0.512257\n",
       "dtype: float64"
      ]
     },
     "execution_count": 61,
     "metadata": {},
     "output_type": "execute_result"
    }
   ],
   "source": [
    "pps_matrix.unstack().sort_values(ascending=False).drop_duplicates()[:20]"
   ]
  },
  {
   "cell_type": "code",
   "execution_count": 62,
   "id": "61bfa6db",
   "metadata": {
    "jupyter": {
     "source_hidden": true
    },
    "tags": []
   },
   "outputs": [],
   "source": [
    "filt_high_pps = np.array(pps_matrix.abs().unstack().sort_values(ascending=False).drop_duplicates().values > 0.75) &\\\n",
    "np.array(pps_matrix.abs().unstack().sort_values(ascending=False).drop_duplicates().values < 1.00)"
   ]
  },
  {
   "cell_type": "code",
   "execution_count": 63,
   "id": "fa85f044",
   "metadata": {},
   "outputs": [],
   "source": [
    "pps_pairs     = pps_matrix.abs().unstack().sort_values(ascending=False).drop_duplicates().index[filt_high_pps]"
   ]
  },
  {
   "cell_type": "code",
   "execution_count": 64,
   "id": "1a189387",
   "metadata": {},
   "outputs": [],
   "source": [
    "target_feat = 'Z'"
   ]
  },
  {
   "cell_type": "code",
   "execution_count": 65,
   "id": "83460b19",
   "metadata": {
    "tags": []
   },
   "outputs": [],
   "source": [
    "list_drop_pps = []"
   ]
  },
  {
   "cell_type": "code",
   "execution_count": 66,
   "id": "c500471b",
   "metadata": {
    "jupyter": {
     "source_hidden": true
    },
    "tags": []
   },
   "outputs": [],
   "source": [
    "for row in pps_pairs:\n",
    "    if target_feat in row:\n",
    "        continue\n",
    "    elif row[0] in list_drop_pps:\n",
    "        continue\n",
    "    elif row[1] in list_drop_pps:\n",
    "        continue\n",
    "    else:\n",
    "        metric_a = rsd_vals[row[0]]\n",
    "        metric_b = rsd_vals[row[1]]\n",
    "        if metric_a >= metric_b:\n",
    "            list_drop_pps.append(row[1])\n",
    "        else:\n",
    "            list_drop_pps.append(row[0])"
   ]
  },
  {
   "cell_type": "code",
   "execution_count": 67,
   "id": "4fefecbe",
   "metadata": {},
   "outputs": [
    {
     "data": {
      "text/plain": [
       "[]"
      ]
     },
     "execution_count": 67,
     "metadata": {},
     "output_type": "execute_result"
    }
   ],
   "source": [
    "list_drop_pps"
   ]
  },
  {
   "cell_type": "code",
   "execution_count": 68,
   "id": "ccc77d11",
   "metadata": {},
   "outputs": [],
   "source": [
    "norm_train_test_discard = norm_train_test_discard.drop(columns=list_drop_pps)"
   ]
  },
  {
   "cell_type": "code",
   "execution_count": 69,
   "id": "22325d68",
   "metadata": {},
   "outputs": [],
   "source": [
    "pps_pred_target = pps.predictors(norm_train_test_discard, 'Z', random_seed=seed)"
   ]
  },
  {
   "cell_type": "code",
   "execution_count": 70,
   "id": "2c9d4598",
   "metadata": {},
   "outputs": [
    {
     "data": {
      "text/html": [
       "<div>\n",
       "<style scoped>\n",
       "    .dataframe tbody tr th:only-of-type {\n",
       "        vertical-align: middle;\n",
       "    }\n",
       "\n",
       "    .dataframe tbody tr th {\n",
       "        vertical-align: top;\n",
       "    }\n",
       "\n",
       "    .dataframe thead th {\n",
       "        text-align: right;\n",
       "    }\n",
       "</style>\n",
       "<table border=\"1\" class=\"dataframe\">\n",
       "  <thead>\n",
       "    <tr style=\"text-align: right;\">\n",
       "      <th></th>\n",
       "      <th>x</th>\n",
       "      <th>y</th>\n",
       "      <th>ppscore</th>\n",
       "      <th>case</th>\n",
       "      <th>is_valid_score</th>\n",
       "      <th>metric</th>\n",
       "      <th>baseline_score</th>\n",
       "      <th>model_score</th>\n",
       "      <th>model</th>\n",
       "    </tr>\n",
       "  </thead>\n",
       "  <tbody>\n",
       "    <tr>\n",
       "      <th>0</th>\n",
       "      <td>r_i</td>\n",
       "      <td>Z</td>\n",
       "      <td>0.689385</td>\n",
       "      <td>regression</td>\n",
       "      <td>True</td>\n",
       "      <td>mean absolute error</td>\n",
       "      <td>0.277678</td>\n",
       "      <td>0.086251</td>\n",
       "      <td>DecisionTreeRegressor()</td>\n",
       "    </tr>\n",
       "    <tr>\n",
       "      <th>1</th>\n",
       "      <td>w1_w2</td>\n",
       "      <td>Z</td>\n",
       "      <td>0.673943</td>\n",
       "      <td>regression</td>\n",
       "      <td>True</td>\n",
       "      <td>mean absolute error</td>\n",
       "      <td>0.277678</td>\n",
       "      <td>0.090539</td>\n",
       "      <td>DecisionTreeRegressor()</td>\n",
       "    </tr>\n",
       "    <tr>\n",
       "      <th>2</th>\n",
       "      <td>g_r</td>\n",
       "      <td>Z</td>\n",
       "      <td>0.672237</td>\n",
       "      <td>regression</td>\n",
       "      <td>True</td>\n",
       "      <td>mean absolute error</td>\n",
       "      <td>0.277678</td>\n",
       "      <td>0.091012</td>\n",
       "      <td>DecisionTreeRegressor()</td>\n",
       "    </tr>\n",
       "    <tr>\n",
       "      <th>3</th>\n",
       "      <td>i_z</td>\n",
       "      <td>Z</td>\n",
       "      <td>0.661123</td>\n",
       "      <td>regression</td>\n",
       "      <td>True</td>\n",
       "      <td>mean absolute error</td>\n",
       "      <td>0.277678</td>\n",
       "      <td>0.094098</td>\n",
       "      <td>DecisionTreeRegressor()</td>\n",
       "    </tr>\n",
       "    <tr>\n",
       "      <th>4</th>\n",
       "      <td>w2_w3</td>\n",
       "      <td>Z</td>\n",
       "      <td>0.556898</td>\n",
       "      <td>regression</td>\n",
       "      <td>True</td>\n",
       "      <td>mean absolute error</td>\n",
       "      <td>0.277678</td>\n",
       "      <td>0.123040</td>\n",
       "      <td>DecisionTreeRegressor()</td>\n",
       "    </tr>\n",
       "    <tr>\n",
       "      <th>5</th>\n",
       "      <td>z_y</td>\n",
       "      <td>Z</td>\n",
       "      <td>0.456289</td>\n",
       "      <td>regression</td>\n",
       "      <td>True</td>\n",
       "      <td>mean absolute error</td>\n",
       "      <td>0.277678</td>\n",
       "      <td>0.150976</td>\n",
       "      <td>DecisionTreeRegressor()</td>\n",
       "    </tr>\n",
       "    <tr>\n",
       "      <th>6</th>\n",
       "      <td>W4mag</td>\n",
       "      <td>Z</td>\n",
       "      <td>0.453462</td>\n",
       "      <td>regression</td>\n",
       "      <td>True</td>\n",
       "      <td>mean absolute error</td>\n",
       "      <td>0.277678</td>\n",
       "      <td>0.151761</td>\n",
       "      <td>DecisionTreeRegressor()</td>\n",
       "    </tr>\n",
       "    <tr>\n",
       "      <th>7</th>\n",
       "      <td>w3_w4</td>\n",
       "      <td>Z</td>\n",
       "      <td>0.441702</td>\n",
       "      <td>regression</td>\n",
       "      <td>True</td>\n",
       "      <td>mean absolute error</td>\n",
       "      <td>0.277678</td>\n",
       "      <td>0.155027</td>\n",
       "      <td>DecisionTreeRegressor()</td>\n",
       "    </tr>\n",
       "    <tr>\n",
       "      <th>8</th>\n",
       "      <td>band_num</td>\n",
       "      <td>Z</td>\n",
       "      <td>0.365789</td>\n",
       "      <td>regression</td>\n",
       "      <td>True</td>\n",
       "      <td>mean absolute error</td>\n",
       "      <td>0.277678</td>\n",
       "      <td>0.176106</td>\n",
       "      <td>DecisionTreeRegressor()</td>\n",
       "    </tr>\n",
       "    <tr>\n",
       "      <th>9</th>\n",
       "      <td>FUVmag</td>\n",
       "      <td>Z</td>\n",
       "      <td>0.000000</td>\n",
       "      <td>regression</td>\n",
       "      <td>True</td>\n",
       "      <td>mean absolute error</td>\n",
       "      <td>0.277678</td>\n",
       "      <td>0.284902</td>\n",
       "      <td>DecisionTreeRegressor()</td>\n",
       "    </tr>\n",
       "    <tr>\n",
       "      <th>10</th>\n",
       "      <td>NUVmag</td>\n",
       "      <td>Z</td>\n",
       "      <td>0.000000</td>\n",
       "      <td>regression</td>\n",
       "      <td>True</td>\n",
       "      <td>mean absolute error</td>\n",
       "      <td>0.277678</td>\n",
       "      <td>0.284902</td>\n",
       "      <td>DecisionTreeRegressor()</td>\n",
       "    </tr>\n",
       "    <tr>\n",
       "      <th>11</th>\n",
       "      <td>Kmag</td>\n",
       "      <td>Z</td>\n",
       "      <td>0.000000</td>\n",
       "      <td>regression</td>\n",
       "      <td>True</td>\n",
       "      <td>mean absolute error</td>\n",
       "      <td>0.277678</td>\n",
       "      <td>0.284589</td>\n",
       "      <td>DecisionTreeRegressor()</td>\n",
       "    </tr>\n",
       "    <tr>\n",
       "      <th>12</th>\n",
       "      <td>J_H</td>\n",
       "      <td>Z</td>\n",
       "      <td>0.000000</td>\n",
       "      <td>regression</td>\n",
       "      <td>True</td>\n",
       "      <td>mean absolute error</td>\n",
       "      <td>0.277678</td>\n",
       "      <td>0.281105</td>\n",
       "      <td>DecisionTreeRegressor()</td>\n",
       "    </tr>\n",
       "    <tr>\n",
       "      <th>13</th>\n",
       "      <td>H_K</td>\n",
       "      <td>Z</td>\n",
       "      <td>0.000000</td>\n",
       "      <td>regression</td>\n",
       "      <td>True</td>\n",
       "      <td>mean absolute error</td>\n",
       "      <td>0.277678</td>\n",
       "      <td>0.284679</td>\n",
       "      <td>DecisionTreeRegressor()</td>\n",
       "    </tr>\n",
       "    <tr>\n",
       "      <th>14</th>\n",
       "      <td>FUV_NUV</td>\n",
       "      <td>Z</td>\n",
       "      <td>0.000000</td>\n",
       "      <td>regression</td>\n",
       "      <td>True</td>\n",
       "      <td>mean absolute error</td>\n",
       "      <td>0.277678</td>\n",
       "      <td>0.284902</td>\n",
       "      <td>DecisionTreeRegressor()</td>\n",
       "    </tr>\n",
       "  </tbody>\n",
       "</table>\n",
       "</div>"
      ],
      "text/plain": [
       "           x  y   ppscore        case  is_valid_score               metric  \\\n",
       "0        r_i  Z  0.689385  regression            True  mean absolute error   \n",
       "1      w1_w2  Z  0.673943  regression            True  mean absolute error   \n",
       "2        g_r  Z  0.672237  regression            True  mean absolute error   \n",
       "3        i_z  Z  0.661123  regression            True  mean absolute error   \n",
       "4      w2_w3  Z  0.556898  regression            True  mean absolute error   \n",
       "5        z_y  Z  0.456289  regression            True  mean absolute error   \n",
       "6      W4mag  Z  0.453462  regression            True  mean absolute error   \n",
       "7      w3_w4  Z  0.441702  regression            True  mean absolute error   \n",
       "8   band_num  Z  0.365789  regression            True  mean absolute error   \n",
       "9     FUVmag  Z  0.000000  regression            True  mean absolute error   \n",
       "10    NUVmag  Z  0.000000  regression            True  mean absolute error   \n",
       "11      Kmag  Z  0.000000  regression            True  mean absolute error   \n",
       "12       J_H  Z  0.000000  regression            True  mean absolute error   \n",
       "13       H_K  Z  0.000000  regression            True  mean absolute error   \n",
       "14   FUV_NUV  Z  0.000000  regression            True  mean absolute error   \n",
       "\n",
       "    baseline_score  model_score                    model  \n",
       "0         0.277678     0.086251  DecisionTreeRegressor()  \n",
       "1         0.277678     0.090539  DecisionTreeRegressor()  \n",
       "2         0.277678     0.091012  DecisionTreeRegressor()  \n",
       "3         0.277678     0.094098  DecisionTreeRegressor()  \n",
       "4         0.277678     0.123040  DecisionTreeRegressor()  \n",
       "5         0.277678     0.150976  DecisionTreeRegressor()  \n",
       "6         0.277678     0.151761  DecisionTreeRegressor()  \n",
       "7         0.277678     0.155027  DecisionTreeRegressor()  \n",
       "8         0.277678     0.176106  DecisionTreeRegressor()  \n",
       "9         0.277678     0.284902  DecisionTreeRegressor()  \n",
       "10        0.277678     0.284902  DecisionTreeRegressor()  \n",
       "11        0.277678     0.284589  DecisionTreeRegressor()  \n",
       "12        0.277678     0.281105  DecisionTreeRegressor()  \n",
       "13        0.277678     0.284679  DecisionTreeRegressor()  \n",
       "14        0.277678     0.284902  DecisionTreeRegressor()  "
      ]
     },
     "execution_count": 70,
     "metadata": {},
     "output_type": "execute_result"
    }
   ],
   "source": [
    "pps_pred_target"
   ]
  },
  {
   "cell_type": "markdown",
   "id": "d2b9dd5a",
   "metadata": {
    "id": "f567638a-2720-4d09-8fc4-0832c0307148"
   },
   "source": [
    "---"
   ]
  },
  {
   "cell_type": "markdown",
   "id": "7207575f",
   "metadata": {
    "id": "1b55b413-36ea-4c3a-b261-ae4f4b71045d"
   },
   "source": [
    "## Use Machine Learning (ML): PyCaret"
   ]
  },
  {
   "cell_type": "markdown",
   "id": "bae691a7",
   "metadata": {
    "id": "8BFUMLcApfnI"
   },
   "source": [
    "## Train Models"
   ]
  },
  {
   "cell_type": "markdown",
   "id": "e0d8773a",
   "metadata": {
    "id": "L0rK_gTcprFK"
   },
   "source": [
    "### AGN Detection Prediction"
   ]
  },
  {
   "cell_type": "code",
   "execution_count": 75,
   "id": "bec078f4",
   "metadata": {},
   "outputs": [],
   "source": [
    "final_feats = pps_pred_target.x.to_list()  # Before Boruta\n",
    "# # z >= 3.7\n",
    "final_feats.remove('W4mag')  # After Boruta\n",
    "final_feats.remove('FUVmag')  # After Boruta\n",
    "final_feats.remove('NUVmag')  # After Boruta\n",
    "final_feats.remove('Kmag')  # After Boruta\n",
    "final_feats.remove('J_H')  # After Boruta\n",
    "final_feats.remove('H_K')  # After Boruta\n",
    "final_feats.remove('FUV_NUV')  # After Boruta"
   ]
  },
  {
   "cell_type": "code",
   "execution_count": 76,
   "id": "ba968b80",
   "metadata": {},
   "outputs": [],
   "source": [
    "# z >= 3.7\n",
    "feats_2_discard = list_drop_corr + list_drop_pps + ['W4mag', 'FUVmag', 'NUVmag', 'Kmag', 'J_H', 'H_K', 'FUV_NUV']"
   ]
  },
  {
   "cell_type": "markdown",
   "id": "efda5a0f",
   "metadata": {},
   "source": [
    "Boruta discards one feature."
   ]
  },
  {
   "cell_type": "code",
   "execution_count": 77,
   "id": "8adda444",
   "metadata": {
    "id": "ttLEcpmVst4j"
   },
   "outputs": [
    {
     "data": {
      "text/html": [
       "<style type=\"text/css\">\n",
       "#T_530d0_row27_col1, #T_530d0_row29_col1, #T_530d0_row42_col1 {\n",
       "  background-color: lightgreen;\n",
       "}\n",
       "</style>\n",
       "<table id=\"T_530d0\">\n",
       "  <thead>\n",
       "    <tr>\n",
       "      <th class=\"blank level0\" >&nbsp;</th>\n",
       "      <th id=\"T_530d0_level0_col0\" class=\"col_heading level0 col0\" >Description</th>\n",
       "      <th id=\"T_530d0_level0_col1\" class=\"col_heading level0 col1\" >Value</th>\n",
       "    </tr>\n",
       "  </thead>\n",
       "  <tbody>\n",
       "    <tr>\n",
       "      <th id=\"T_530d0_level0_row0\" class=\"row_heading level0 row0\" >0</th>\n",
       "      <td id=\"T_530d0_row0_col0\" class=\"data row0 col0\" >session_id</td>\n",
       "      <td id=\"T_530d0_row0_col1\" class=\"data row0 col1\" >42</td>\n",
       "    </tr>\n",
       "    <tr>\n",
       "      <th id=\"T_530d0_level0_row1\" class=\"row_heading level0 row1\" >1</th>\n",
       "      <td id=\"T_530d0_row1_col0\" class=\"data row1 col0\" >Target</td>\n",
       "      <td id=\"T_530d0_row1_col1\" class=\"data row1 col1\" >Z</td>\n",
       "    </tr>\n",
       "    <tr>\n",
       "      <th id=\"T_530d0_level0_row2\" class=\"row_heading level0 row2\" >2</th>\n",
       "      <td id=\"T_530d0_row2_col0\" class=\"data row2 col0\" >Original Data</td>\n",
       "      <td id=\"T_530d0_row2_col1\" class=\"data row2 col1\" >(99, 39)</td>\n",
       "    </tr>\n",
       "    <tr>\n",
       "      <th id=\"T_530d0_level0_row3\" class=\"row_heading level0 row3\" >3</th>\n",
       "      <td id=\"T_530d0_row3_col0\" class=\"data row3 col0\" >Missing Values</td>\n",
       "      <td id=\"T_530d0_row3_col1\" class=\"data row3 col1\" >False</td>\n",
       "    </tr>\n",
       "    <tr>\n",
       "      <th id=\"T_530d0_level0_row4\" class=\"row_heading level0 row4\" >4</th>\n",
       "      <td id=\"T_530d0_row4_col0\" class=\"data row4 col0\" >Numeric Features</td>\n",
       "      <td id=\"T_530d0_row4_col1\" class=\"data row4 col1\" >8</td>\n",
       "    </tr>\n",
       "    <tr>\n",
       "      <th id=\"T_530d0_level0_row5\" class=\"row_heading level0 row5\" >5</th>\n",
       "      <td id=\"T_530d0_row5_col0\" class=\"data row5 col0\" >Categorical Features</td>\n",
       "      <td id=\"T_530d0_row5_col1\" class=\"data row5 col1\" >0</td>\n",
       "    </tr>\n",
       "    <tr>\n",
       "      <th id=\"T_530d0_level0_row6\" class=\"row_heading level0 row6\" >6</th>\n",
       "      <td id=\"T_530d0_row6_col0\" class=\"data row6 col0\" >Ordinal Features</td>\n",
       "      <td id=\"T_530d0_row6_col1\" class=\"data row6 col1\" >False</td>\n",
       "    </tr>\n",
       "    <tr>\n",
       "      <th id=\"T_530d0_level0_row7\" class=\"row_heading level0 row7\" >7</th>\n",
       "      <td id=\"T_530d0_row7_col0\" class=\"data row7 col0\" >High Cardinality Features</td>\n",
       "      <td id=\"T_530d0_row7_col1\" class=\"data row7 col1\" >False</td>\n",
       "    </tr>\n",
       "    <tr>\n",
       "      <th id=\"T_530d0_level0_row8\" class=\"row_heading level0 row8\" >8</th>\n",
       "      <td id=\"T_530d0_row8_col0\" class=\"data row8 col0\" >High Cardinality Method</td>\n",
       "      <td id=\"T_530d0_row8_col1\" class=\"data row8 col1\" >None</td>\n",
       "    </tr>\n",
       "    <tr>\n",
       "      <th id=\"T_530d0_level0_row9\" class=\"row_heading level0 row9\" >9</th>\n",
       "      <td id=\"T_530d0_row9_col0\" class=\"data row9 col0\" >Transformed Train Set</td>\n",
       "      <td id=\"T_530d0_row9_col1\" class=\"data row9 col1\" >(69, 8)</td>\n",
       "    </tr>\n",
       "    <tr>\n",
       "      <th id=\"T_530d0_level0_row10\" class=\"row_heading level0 row10\" >10</th>\n",
       "      <td id=\"T_530d0_row10_col0\" class=\"data row10 col0\" >Transformed Test Set</td>\n",
       "      <td id=\"T_530d0_row10_col1\" class=\"data row10 col1\" >(30, 8)</td>\n",
       "    </tr>\n",
       "    <tr>\n",
       "      <th id=\"T_530d0_level0_row11\" class=\"row_heading level0 row11\" >11</th>\n",
       "      <td id=\"T_530d0_row11_col0\" class=\"data row11 col0\" >Shuffle Train-Test</td>\n",
       "      <td id=\"T_530d0_row11_col1\" class=\"data row11 col1\" >True</td>\n",
       "    </tr>\n",
       "    <tr>\n",
       "      <th id=\"T_530d0_level0_row12\" class=\"row_heading level0 row12\" >12</th>\n",
       "      <td id=\"T_530d0_row12_col0\" class=\"data row12 col0\" >Stratify Train-Test</td>\n",
       "      <td id=\"T_530d0_row12_col1\" class=\"data row12 col1\" >False</td>\n",
       "    </tr>\n",
       "    <tr>\n",
       "      <th id=\"T_530d0_level0_row13\" class=\"row_heading level0 row13\" >13</th>\n",
       "      <td id=\"T_530d0_row13_col0\" class=\"data row13 col0\" >Fold Generator</td>\n",
       "      <td id=\"T_530d0_row13_col1\" class=\"data row13 col1\" >KFold</td>\n",
       "    </tr>\n",
       "    <tr>\n",
       "      <th id=\"T_530d0_level0_row14\" class=\"row_heading level0 row14\" >14</th>\n",
       "      <td id=\"T_530d0_row14_col0\" class=\"data row14 col0\" >Fold Number</td>\n",
       "      <td id=\"T_530d0_row14_col1\" class=\"data row14 col1\" >10</td>\n",
       "    </tr>\n",
       "    <tr>\n",
       "      <th id=\"T_530d0_level0_row15\" class=\"row_heading level0 row15\" >15</th>\n",
       "      <td id=\"T_530d0_row15_col0\" class=\"data row15 col0\" >CPU Jobs</td>\n",
       "      <td id=\"T_530d0_row15_col1\" class=\"data row15 col1\" >12</td>\n",
       "    </tr>\n",
       "    <tr>\n",
       "      <th id=\"T_530d0_level0_row16\" class=\"row_heading level0 row16\" >16</th>\n",
       "      <td id=\"T_530d0_row16_col0\" class=\"data row16 col0\" >Use GPU</td>\n",
       "      <td id=\"T_530d0_row16_col1\" class=\"data row16 col1\" >False</td>\n",
       "    </tr>\n",
       "    <tr>\n",
       "      <th id=\"T_530d0_level0_row17\" class=\"row_heading level0 row17\" >17</th>\n",
       "      <td id=\"T_530d0_row17_col0\" class=\"data row17 col0\" >Log Experiment</td>\n",
       "      <td id=\"T_530d0_row17_col1\" class=\"data row17 col1\" >False</td>\n",
       "    </tr>\n",
       "    <tr>\n",
       "      <th id=\"T_530d0_level0_row18\" class=\"row_heading level0 row18\" >18</th>\n",
       "      <td id=\"T_530d0_row18_col0\" class=\"data row18 col0\" >Experiment Name</td>\n",
       "      <td id=\"T_530d0_row18_col1\" class=\"data row18 col1\" >reg-default-name</td>\n",
       "    </tr>\n",
       "    <tr>\n",
       "      <th id=\"T_530d0_level0_row19\" class=\"row_heading level0 row19\" >19</th>\n",
       "      <td id=\"T_530d0_row19_col0\" class=\"data row19 col0\" >USI</td>\n",
       "      <td id=\"T_530d0_row19_col1\" class=\"data row19 col1\" >8b26</td>\n",
       "    </tr>\n",
       "    <tr>\n",
       "      <th id=\"T_530d0_level0_row20\" class=\"row_heading level0 row20\" >20</th>\n",
       "      <td id=\"T_530d0_row20_col0\" class=\"data row20 col0\" >Imputation Type</td>\n",
       "      <td id=\"T_530d0_row20_col1\" class=\"data row20 col1\" >simple</td>\n",
       "    </tr>\n",
       "    <tr>\n",
       "      <th id=\"T_530d0_level0_row21\" class=\"row_heading level0 row21\" >21</th>\n",
       "      <td id=\"T_530d0_row21_col0\" class=\"data row21 col0\" >Iterative Imputation Iteration</td>\n",
       "      <td id=\"T_530d0_row21_col1\" class=\"data row21 col1\" >None</td>\n",
       "    </tr>\n",
       "    <tr>\n",
       "      <th id=\"T_530d0_level0_row22\" class=\"row_heading level0 row22\" >22</th>\n",
       "      <td id=\"T_530d0_row22_col0\" class=\"data row22 col0\" >Numeric Imputer</td>\n",
       "      <td id=\"T_530d0_row22_col1\" class=\"data row22 col1\" >mean</td>\n",
       "    </tr>\n",
       "    <tr>\n",
       "      <th id=\"T_530d0_level0_row23\" class=\"row_heading level0 row23\" >23</th>\n",
       "      <td id=\"T_530d0_row23_col0\" class=\"data row23 col0\" >Iterative Imputation Numeric Model</td>\n",
       "      <td id=\"T_530d0_row23_col1\" class=\"data row23 col1\" >None</td>\n",
       "    </tr>\n",
       "    <tr>\n",
       "      <th id=\"T_530d0_level0_row24\" class=\"row_heading level0 row24\" >24</th>\n",
       "      <td id=\"T_530d0_row24_col0\" class=\"data row24 col0\" >Categorical Imputer</td>\n",
       "      <td id=\"T_530d0_row24_col1\" class=\"data row24 col1\" >constant</td>\n",
       "    </tr>\n",
       "    <tr>\n",
       "      <th id=\"T_530d0_level0_row25\" class=\"row_heading level0 row25\" >25</th>\n",
       "      <td id=\"T_530d0_row25_col0\" class=\"data row25 col0\" >Iterative Imputation Categorical Model</td>\n",
       "      <td id=\"T_530d0_row25_col1\" class=\"data row25 col1\" >None</td>\n",
       "    </tr>\n",
       "    <tr>\n",
       "      <th id=\"T_530d0_level0_row26\" class=\"row_heading level0 row26\" >26</th>\n",
       "      <td id=\"T_530d0_row26_col0\" class=\"data row26 col0\" >Unknown Categoricals Handling</td>\n",
       "      <td id=\"T_530d0_row26_col1\" class=\"data row26 col1\" >least_frequent</td>\n",
       "    </tr>\n",
       "    <tr>\n",
       "      <th id=\"T_530d0_level0_row27\" class=\"row_heading level0 row27\" >27</th>\n",
       "      <td id=\"T_530d0_row27_col0\" class=\"data row27 col0\" >Normalize</td>\n",
       "      <td id=\"T_530d0_row27_col1\" class=\"data row27 col1\" >True</td>\n",
       "    </tr>\n",
       "    <tr>\n",
       "      <th id=\"T_530d0_level0_row28\" class=\"row_heading level0 row28\" >28</th>\n",
       "      <td id=\"T_530d0_row28_col0\" class=\"data row28 col0\" >Normalize Method</td>\n",
       "      <td id=\"T_530d0_row28_col1\" class=\"data row28 col1\" >zscore</td>\n",
       "    </tr>\n",
       "    <tr>\n",
       "      <th id=\"T_530d0_level0_row29\" class=\"row_heading level0 row29\" >29</th>\n",
       "      <td id=\"T_530d0_row29_col0\" class=\"data row29 col0\" >Transformation</td>\n",
       "      <td id=\"T_530d0_row29_col1\" class=\"data row29 col1\" >True</td>\n",
       "    </tr>\n",
       "    <tr>\n",
       "      <th id=\"T_530d0_level0_row30\" class=\"row_heading level0 row30\" >30</th>\n",
       "      <td id=\"T_530d0_row30_col0\" class=\"data row30 col0\" >Transformation Method</td>\n",
       "      <td id=\"T_530d0_row30_col1\" class=\"data row30 col1\" >yeo-johnson</td>\n",
       "    </tr>\n",
       "    <tr>\n",
       "      <th id=\"T_530d0_level0_row31\" class=\"row_heading level0 row31\" >31</th>\n",
       "      <td id=\"T_530d0_row31_col0\" class=\"data row31 col0\" >PCA</td>\n",
       "      <td id=\"T_530d0_row31_col1\" class=\"data row31 col1\" >False</td>\n",
       "    </tr>\n",
       "    <tr>\n",
       "      <th id=\"T_530d0_level0_row32\" class=\"row_heading level0 row32\" >32</th>\n",
       "      <td id=\"T_530d0_row32_col0\" class=\"data row32 col0\" >PCA Method</td>\n",
       "      <td id=\"T_530d0_row32_col1\" class=\"data row32 col1\" >None</td>\n",
       "    </tr>\n",
       "    <tr>\n",
       "      <th id=\"T_530d0_level0_row33\" class=\"row_heading level0 row33\" >33</th>\n",
       "      <td id=\"T_530d0_row33_col0\" class=\"data row33 col0\" >PCA Components</td>\n",
       "      <td id=\"T_530d0_row33_col1\" class=\"data row33 col1\" >None</td>\n",
       "    </tr>\n",
       "    <tr>\n",
       "      <th id=\"T_530d0_level0_row34\" class=\"row_heading level0 row34\" >34</th>\n",
       "      <td id=\"T_530d0_row34_col0\" class=\"data row34 col0\" >Ignore Low Variance</td>\n",
       "      <td id=\"T_530d0_row34_col1\" class=\"data row34 col1\" >False</td>\n",
       "    </tr>\n",
       "    <tr>\n",
       "      <th id=\"T_530d0_level0_row35\" class=\"row_heading level0 row35\" >35</th>\n",
       "      <td id=\"T_530d0_row35_col0\" class=\"data row35 col0\" >Combine Rare Levels</td>\n",
       "      <td id=\"T_530d0_row35_col1\" class=\"data row35 col1\" >False</td>\n",
       "    </tr>\n",
       "    <tr>\n",
       "      <th id=\"T_530d0_level0_row36\" class=\"row_heading level0 row36\" >36</th>\n",
       "      <td id=\"T_530d0_row36_col0\" class=\"data row36 col0\" >Rare Level Threshold</td>\n",
       "      <td id=\"T_530d0_row36_col1\" class=\"data row36 col1\" >None</td>\n",
       "    </tr>\n",
       "    <tr>\n",
       "      <th id=\"T_530d0_level0_row37\" class=\"row_heading level0 row37\" >37</th>\n",
       "      <td id=\"T_530d0_row37_col0\" class=\"data row37 col0\" >Numeric Binning</td>\n",
       "      <td id=\"T_530d0_row37_col1\" class=\"data row37 col1\" >False</td>\n",
       "    </tr>\n",
       "    <tr>\n",
       "      <th id=\"T_530d0_level0_row38\" class=\"row_heading level0 row38\" >38</th>\n",
       "      <td id=\"T_530d0_row38_col0\" class=\"data row38 col0\" >Remove Outliers</td>\n",
       "      <td id=\"T_530d0_row38_col1\" class=\"data row38 col1\" >False</td>\n",
       "    </tr>\n",
       "    <tr>\n",
       "      <th id=\"T_530d0_level0_row39\" class=\"row_heading level0 row39\" >39</th>\n",
       "      <td id=\"T_530d0_row39_col0\" class=\"data row39 col0\" >Outliers Threshold</td>\n",
       "      <td id=\"T_530d0_row39_col1\" class=\"data row39 col1\" >None</td>\n",
       "    </tr>\n",
       "    <tr>\n",
       "      <th id=\"T_530d0_level0_row40\" class=\"row_heading level0 row40\" >40</th>\n",
       "      <td id=\"T_530d0_row40_col0\" class=\"data row40 col0\" >Remove Multicollinearity</td>\n",
       "      <td id=\"T_530d0_row40_col1\" class=\"data row40 col1\" >False</td>\n",
       "    </tr>\n",
       "    <tr>\n",
       "      <th id=\"T_530d0_level0_row41\" class=\"row_heading level0 row41\" >41</th>\n",
       "      <td id=\"T_530d0_row41_col0\" class=\"data row41 col0\" >Multicollinearity Threshold</td>\n",
       "      <td id=\"T_530d0_row41_col1\" class=\"data row41 col1\" >None</td>\n",
       "    </tr>\n",
       "    <tr>\n",
       "      <th id=\"T_530d0_level0_row42\" class=\"row_heading level0 row42\" >42</th>\n",
       "      <td id=\"T_530d0_row42_col0\" class=\"data row42 col0\" >Remove Perfect Collinearity</td>\n",
       "      <td id=\"T_530d0_row42_col1\" class=\"data row42 col1\" >True</td>\n",
       "    </tr>\n",
       "    <tr>\n",
       "      <th id=\"T_530d0_level0_row43\" class=\"row_heading level0 row43\" >43</th>\n",
       "      <td id=\"T_530d0_row43_col0\" class=\"data row43 col0\" >Clustering</td>\n",
       "      <td id=\"T_530d0_row43_col1\" class=\"data row43 col1\" >False</td>\n",
       "    </tr>\n",
       "    <tr>\n",
       "      <th id=\"T_530d0_level0_row44\" class=\"row_heading level0 row44\" >44</th>\n",
       "      <td id=\"T_530d0_row44_col0\" class=\"data row44 col0\" >Clustering Iteration</td>\n",
       "      <td id=\"T_530d0_row44_col1\" class=\"data row44 col1\" >None</td>\n",
       "    </tr>\n",
       "    <tr>\n",
       "      <th id=\"T_530d0_level0_row45\" class=\"row_heading level0 row45\" >45</th>\n",
       "      <td id=\"T_530d0_row45_col0\" class=\"data row45 col0\" >Polynomial Features</td>\n",
       "      <td id=\"T_530d0_row45_col1\" class=\"data row45 col1\" >False</td>\n",
       "    </tr>\n",
       "    <tr>\n",
       "      <th id=\"T_530d0_level0_row46\" class=\"row_heading level0 row46\" >46</th>\n",
       "      <td id=\"T_530d0_row46_col0\" class=\"data row46 col0\" >Polynomial Degree</td>\n",
       "      <td id=\"T_530d0_row46_col1\" class=\"data row46 col1\" >None</td>\n",
       "    </tr>\n",
       "    <tr>\n",
       "      <th id=\"T_530d0_level0_row47\" class=\"row_heading level0 row47\" >47</th>\n",
       "      <td id=\"T_530d0_row47_col0\" class=\"data row47 col0\" >Trignometry Features</td>\n",
       "      <td id=\"T_530d0_row47_col1\" class=\"data row47 col1\" >False</td>\n",
       "    </tr>\n",
       "    <tr>\n",
       "      <th id=\"T_530d0_level0_row48\" class=\"row_heading level0 row48\" >48</th>\n",
       "      <td id=\"T_530d0_row48_col0\" class=\"data row48 col0\" >Polynomial Threshold</td>\n",
       "      <td id=\"T_530d0_row48_col1\" class=\"data row48 col1\" >None</td>\n",
       "    </tr>\n",
       "    <tr>\n",
       "      <th id=\"T_530d0_level0_row49\" class=\"row_heading level0 row49\" >49</th>\n",
       "      <td id=\"T_530d0_row49_col0\" class=\"data row49 col0\" >Group Features</td>\n",
       "      <td id=\"T_530d0_row49_col1\" class=\"data row49 col1\" >False</td>\n",
       "    </tr>\n",
       "    <tr>\n",
       "      <th id=\"T_530d0_level0_row50\" class=\"row_heading level0 row50\" >50</th>\n",
       "      <td id=\"T_530d0_row50_col0\" class=\"data row50 col0\" >Feature Selection</td>\n",
       "      <td id=\"T_530d0_row50_col1\" class=\"data row50 col1\" >False</td>\n",
       "    </tr>\n",
       "    <tr>\n",
       "      <th id=\"T_530d0_level0_row51\" class=\"row_heading level0 row51\" >51</th>\n",
       "      <td id=\"T_530d0_row51_col0\" class=\"data row51 col0\" >Feature Selection Method</td>\n",
       "      <td id=\"T_530d0_row51_col1\" class=\"data row51 col1\" >boruta</td>\n",
       "    </tr>\n",
       "    <tr>\n",
       "      <th id=\"T_530d0_level0_row52\" class=\"row_heading level0 row52\" >52</th>\n",
       "      <td id=\"T_530d0_row52_col0\" class=\"data row52 col0\" >Features Selection Threshold</td>\n",
       "      <td id=\"T_530d0_row52_col1\" class=\"data row52 col1\" >None</td>\n",
       "    </tr>\n",
       "    <tr>\n",
       "      <th id=\"T_530d0_level0_row53\" class=\"row_heading level0 row53\" >53</th>\n",
       "      <td id=\"T_530d0_row53_col0\" class=\"data row53 col0\" >Feature Interaction</td>\n",
       "      <td id=\"T_530d0_row53_col1\" class=\"data row53 col1\" >False</td>\n",
       "    </tr>\n",
       "    <tr>\n",
       "      <th id=\"T_530d0_level0_row54\" class=\"row_heading level0 row54\" >54</th>\n",
       "      <td id=\"T_530d0_row54_col0\" class=\"data row54 col0\" >Feature Ratio</td>\n",
       "      <td id=\"T_530d0_row54_col1\" class=\"data row54 col1\" >False</td>\n",
       "    </tr>\n",
       "    <tr>\n",
       "      <th id=\"T_530d0_level0_row55\" class=\"row_heading level0 row55\" >55</th>\n",
       "      <td id=\"T_530d0_row55_col0\" class=\"data row55 col0\" >Interaction Threshold</td>\n",
       "      <td id=\"T_530d0_row55_col1\" class=\"data row55 col1\" >None</td>\n",
       "    </tr>\n",
       "    <tr>\n",
       "      <th id=\"T_530d0_level0_row56\" class=\"row_heading level0 row56\" >56</th>\n",
       "      <td id=\"T_530d0_row56_col0\" class=\"data row56 col0\" >Transform Target</td>\n",
       "      <td id=\"T_530d0_row56_col1\" class=\"data row56 col1\" >False</td>\n",
       "    </tr>\n",
       "    <tr>\n",
       "      <th id=\"T_530d0_level0_row57\" class=\"row_heading level0 row57\" >57</th>\n",
       "      <td id=\"T_530d0_row57_col0\" class=\"data row57 col0\" >Transform Target Method</td>\n",
       "      <td id=\"T_530d0_row57_col1\" class=\"data row57 col1\" >box-cox</td>\n",
       "    </tr>\n",
       "  </tbody>\n",
       "</table>\n"
      ],
      "text/plain": [
       "<pandas.io.formats.style.Styler at 0x7ff078c733a0>"
      ]
     },
     "metadata": {},
     "output_type": "display_data"
    }
   ],
   "source": [
    "exp_radio = pyr.setup(data=train_test_df, target='Z', session_id=seed, silent=True,\\\n",
    "                    feature_selection=False, feature_selection_method='boruta',\\\n",
    "                    numeric_features=final_feats, ignore_features=feats_2_discard, transformation=True,\\\n",
    "                    transformation_method='yeo-johnson', n_jobs=12, normalize=True,\\\n",
    "                    normalize_method='zscore', use_gpu=False)  # 15 minutes with Boruta # 5 without"
   ]
  },
  {
   "cell_type": "code",
   "execution_count": 78,
   "id": "54525a88",
   "metadata": {
    "id": "ykHUiWyetG0G"
   },
   "outputs": [
    {
     "data": {
      "text/plain": [
       "Index(['band_num', 'g_r', 'r_i', 'i_z', 'z_y', 'w1_w2', 'w2_w3', 'w3_w4'], dtype='object')"
      ]
     },
     "execution_count": 78,
     "metadata": {},
     "output_type": "execute_result"
    }
   ],
   "source": [
    "pyr.get_config('X').columns"
   ]
  },
  {
   "cell_type": "code",
   "execution_count": 78,
   "id": "f7ae59ee",
   "metadata": {
    "id": "JFF_T52ztI11"
   },
   "outputs": [
    {
     "data": {
      "text/html": [
       "<div>\n",
       "<style scoped>\n",
       "    .dataframe tbody tr th:only-of-type {\n",
       "        vertical-align: middle;\n",
       "    }\n",
       "\n",
       "    .dataframe tbody tr th {\n",
       "        vertical-align: top;\n",
       "    }\n",
       "\n",
       "    .dataframe thead th {\n",
       "        text-align: right;\n",
       "    }\n",
       "</style>\n",
       "<table border=\"1\" class=\"dataframe\">\n",
       "  <thead>\n",
       "    <tr style=\"text-align: right;\">\n",
       "      <th></th>\n",
       "      <th>Name</th>\n",
       "      <th>Reference</th>\n",
       "      <th>Turbo</th>\n",
       "    </tr>\n",
       "    <tr>\n",
       "      <th>ID</th>\n",
       "      <th></th>\n",
       "      <th></th>\n",
       "      <th></th>\n",
       "    </tr>\n",
       "  </thead>\n",
       "  <tbody>\n",
       "    <tr>\n",
       "      <th>lr</th>\n",
       "      <td>Linear Regression</td>\n",
       "      <td>sklearn.linear_model._base.LinearRegression</td>\n",
       "      <td>True</td>\n",
       "    </tr>\n",
       "    <tr>\n",
       "      <th>lasso</th>\n",
       "      <td>Lasso Regression</td>\n",
       "      <td>sklearn.linear_model._coordinate_descent.Lasso</td>\n",
       "      <td>True</td>\n",
       "    </tr>\n",
       "    <tr>\n",
       "      <th>ridge</th>\n",
       "      <td>Ridge Regression</td>\n",
       "      <td>sklearn.linear_model._ridge.Ridge</td>\n",
       "      <td>True</td>\n",
       "    </tr>\n",
       "    <tr>\n",
       "      <th>en</th>\n",
       "      <td>Elastic Net</td>\n",
       "      <td>sklearn.linear_model._coordinate_descent.Elast...</td>\n",
       "      <td>True</td>\n",
       "    </tr>\n",
       "    <tr>\n",
       "      <th>lar</th>\n",
       "      <td>Least Angle Regression</td>\n",
       "      <td>sklearn.linear_model._least_angle.Lars</td>\n",
       "      <td>True</td>\n",
       "    </tr>\n",
       "    <tr>\n",
       "      <th>llar</th>\n",
       "      <td>Lasso Least Angle Regression</td>\n",
       "      <td>sklearn.linear_model._least_angle.LassoLars</td>\n",
       "      <td>True</td>\n",
       "    </tr>\n",
       "    <tr>\n",
       "      <th>omp</th>\n",
       "      <td>Orthogonal Matching Pursuit</td>\n",
       "      <td>sklearn.linear_model._omp.OrthogonalMatchingPu...</td>\n",
       "      <td>True</td>\n",
       "    </tr>\n",
       "    <tr>\n",
       "      <th>br</th>\n",
       "      <td>Bayesian Ridge</td>\n",
       "      <td>sklearn.linear_model._bayes.BayesianRidge</td>\n",
       "      <td>True</td>\n",
       "    </tr>\n",
       "    <tr>\n",
       "      <th>ard</th>\n",
       "      <td>Automatic Relevance Determination</td>\n",
       "      <td>sklearn.linear_model._bayes.ARDRegression</td>\n",
       "      <td>False</td>\n",
       "    </tr>\n",
       "    <tr>\n",
       "      <th>par</th>\n",
       "      <td>Passive Aggressive Regressor</td>\n",
       "      <td>sklearn.linear_model._passive_aggressive.Passi...</td>\n",
       "      <td>True</td>\n",
       "    </tr>\n",
       "    <tr>\n",
       "      <th>ransac</th>\n",
       "      <td>Random Sample Consensus</td>\n",
       "      <td>sklearn.linear_model._ransac.RANSACRegressor</td>\n",
       "      <td>False</td>\n",
       "    </tr>\n",
       "    <tr>\n",
       "      <th>tr</th>\n",
       "      <td>TheilSen Regressor</td>\n",
       "      <td>sklearn.linear_model._theil_sen.TheilSenRegressor</td>\n",
       "      <td>False</td>\n",
       "    </tr>\n",
       "    <tr>\n",
       "      <th>huber</th>\n",
       "      <td>Huber Regressor</td>\n",
       "      <td>sklearn.linear_model._huber.HuberRegressor</td>\n",
       "      <td>True</td>\n",
       "    </tr>\n",
       "    <tr>\n",
       "      <th>kr</th>\n",
       "      <td>Kernel Ridge</td>\n",
       "      <td>sklearn.kernel_ridge.KernelRidge</td>\n",
       "      <td>False</td>\n",
       "    </tr>\n",
       "    <tr>\n",
       "      <th>svm</th>\n",
       "      <td>Support Vector Regression</td>\n",
       "      <td>sklearn.svm._classes.SVR</td>\n",
       "      <td>False</td>\n",
       "    </tr>\n",
       "    <tr>\n",
       "      <th>knn</th>\n",
       "      <td>K Neighbors Regressor</td>\n",
       "      <td>sklearn.neighbors._regression.KNeighborsRegressor</td>\n",
       "      <td>True</td>\n",
       "    </tr>\n",
       "    <tr>\n",
       "      <th>dt</th>\n",
       "      <td>Decision Tree Regressor</td>\n",
       "      <td>sklearn.tree._classes.DecisionTreeRegressor</td>\n",
       "      <td>True</td>\n",
       "    </tr>\n",
       "    <tr>\n",
       "      <th>rf</th>\n",
       "      <td>Random Forest Regressor</td>\n",
       "      <td>sklearn.ensemble._forest.RandomForestRegressor</td>\n",
       "      <td>True</td>\n",
       "    </tr>\n",
       "    <tr>\n",
       "      <th>et</th>\n",
       "      <td>Extra Trees Regressor</td>\n",
       "      <td>sklearn.ensemble._forest.ExtraTreesRegressor</td>\n",
       "      <td>True</td>\n",
       "    </tr>\n",
       "    <tr>\n",
       "      <th>ada</th>\n",
       "      <td>AdaBoost Regressor</td>\n",
       "      <td>sklearn.ensemble._weight_boosting.AdaBoostRegr...</td>\n",
       "      <td>True</td>\n",
       "    </tr>\n",
       "    <tr>\n",
       "      <th>gbr</th>\n",
       "      <td>Gradient Boosting Regressor</td>\n",
       "      <td>sklearn.ensemble._gb.GradientBoostingRegressor</td>\n",
       "      <td>True</td>\n",
       "    </tr>\n",
       "    <tr>\n",
       "      <th>mlp</th>\n",
       "      <td>MLP Regressor</td>\n",
       "      <td>sklearn.neural_network._multilayer_perceptron....</td>\n",
       "      <td>False</td>\n",
       "    </tr>\n",
       "    <tr>\n",
       "      <th>xgboost</th>\n",
       "      <td>Extreme Gradient Boosting</td>\n",
       "      <td>xgboost.sklearn.XGBRegressor</td>\n",
       "      <td>True</td>\n",
       "    </tr>\n",
       "    <tr>\n",
       "      <th>lightgbm</th>\n",
       "      <td>Light Gradient Boosting Machine</td>\n",
       "      <td>lightgbm.sklearn.LGBMRegressor</td>\n",
       "      <td>True</td>\n",
       "    </tr>\n",
       "    <tr>\n",
       "      <th>catboost</th>\n",
       "      <td>CatBoost Regressor</td>\n",
       "      <td>catboost.core.CatBoostRegressor</td>\n",
       "      <td>True</td>\n",
       "    </tr>\n",
       "    <tr>\n",
       "      <th>dummy</th>\n",
       "      <td>Dummy Regressor</td>\n",
       "      <td>sklearn.dummy.DummyRegressor</td>\n",
       "      <td>True</td>\n",
       "    </tr>\n",
       "  </tbody>\n",
       "</table>\n",
       "</div>"
      ],
      "text/plain": [
       "                                       Name  \\\n",
       "ID                                            \n",
       "lr                        Linear Regression   \n",
       "lasso                      Lasso Regression   \n",
       "ridge                      Ridge Regression   \n",
       "en                              Elastic Net   \n",
       "lar                  Least Angle Regression   \n",
       "llar           Lasso Least Angle Regression   \n",
       "omp             Orthogonal Matching Pursuit   \n",
       "br                           Bayesian Ridge   \n",
       "ard       Automatic Relevance Determination   \n",
       "par            Passive Aggressive Regressor   \n",
       "ransac              Random Sample Consensus   \n",
       "tr                       TheilSen Regressor   \n",
       "huber                       Huber Regressor   \n",
       "kr                             Kernel Ridge   \n",
       "svm               Support Vector Regression   \n",
       "knn                   K Neighbors Regressor   \n",
       "dt                  Decision Tree Regressor   \n",
       "rf                  Random Forest Regressor   \n",
       "et                    Extra Trees Regressor   \n",
       "ada                      AdaBoost Regressor   \n",
       "gbr             Gradient Boosting Regressor   \n",
       "mlp                           MLP Regressor   \n",
       "xgboost           Extreme Gradient Boosting   \n",
       "lightgbm    Light Gradient Boosting Machine   \n",
       "catboost                 CatBoost Regressor   \n",
       "dummy                       Dummy Regressor   \n",
       "\n",
       "                                                  Reference  Turbo  \n",
       "ID                                                                  \n",
       "lr              sklearn.linear_model._base.LinearRegression   True  \n",
       "lasso        sklearn.linear_model._coordinate_descent.Lasso   True  \n",
       "ridge                     sklearn.linear_model._ridge.Ridge   True  \n",
       "en        sklearn.linear_model._coordinate_descent.Elast...   True  \n",
       "lar                  sklearn.linear_model._least_angle.Lars   True  \n",
       "llar            sklearn.linear_model._least_angle.LassoLars   True  \n",
       "omp       sklearn.linear_model._omp.OrthogonalMatchingPu...   True  \n",
       "br                sklearn.linear_model._bayes.BayesianRidge   True  \n",
       "ard               sklearn.linear_model._bayes.ARDRegression  False  \n",
       "par       sklearn.linear_model._passive_aggressive.Passi...   True  \n",
       "ransac         sklearn.linear_model._ransac.RANSACRegressor  False  \n",
       "tr        sklearn.linear_model._theil_sen.TheilSenRegressor  False  \n",
       "huber            sklearn.linear_model._huber.HuberRegressor   True  \n",
       "kr                         sklearn.kernel_ridge.KernelRidge  False  \n",
       "svm                                sklearn.svm._classes.SVR  False  \n",
       "knn       sklearn.neighbors._regression.KNeighborsRegressor   True  \n",
       "dt              sklearn.tree._classes.DecisionTreeRegressor   True  \n",
       "rf           sklearn.ensemble._forest.RandomForestRegressor   True  \n",
       "et             sklearn.ensemble._forest.ExtraTreesRegressor   True  \n",
       "ada       sklearn.ensemble._weight_boosting.AdaBoostRegr...   True  \n",
       "gbr          sklearn.ensemble._gb.GradientBoostingRegressor   True  \n",
       "mlp       sklearn.neural_network._multilayer_perceptron....  False  \n",
       "xgboost                        xgboost.sklearn.XGBRegressor   True  \n",
       "lightgbm                     lightgbm.sklearn.LGBMRegressor   True  \n",
       "catboost                    catboost.core.CatBoostRegressor   True  \n",
       "dummy                          sklearn.dummy.DummyRegressor   True  "
      ]
     },
     "execution_count": 78,
     "metadata": {},
     "output_type": "execute_result"
    }
   ],
   "source": [
    "pyr.models()"
   ]
  },
  {
   "cell_type": "markdown",
   "id": "fdc15c7b",
   "metadata": {},
   "source": [
    "Add custom metrics"
   ]
  },
  {
   "cell_type": "code",
   "execution_count": 79,
   "id": "1fbed67a",
   "metadata": {},
   "outputs": [
    {
     "data": {
      "text/plain": [
       "Name                                                        outlier_fr\n",
       "Display Name                                                outlier_fr\n",
       "Score Function               <function outlier_frac at 0x7ff0b9c70280>\n",
       "Scorer               make_scorer(outlier_frac, greater_is_better=Fa...\n",
       "Target                                                            pred\n",
       "Args                                                                {}\n",
       "Greater is Better                                                False\n",
       "Custom                                                            True\n",
       "Name: out_f, dtype: object"
      ]
     },
     "execution_count": 79,
     "metadata": {},
     "output_type": "execute_result"
    }
   ],
   "source": [
    "pyr.add_metric('s_mad',  'sigma_mad',    sigma_mad,    greater_is_better=False)\n",
    "pyr.add_metric('s_nmad', 'sigma_nmad',   sigma_nmad,   greater_is_better=False)\n",
    "pyr.add_metric('s_z',    'sigma_z',      sigma_z,      greater_is_better=False)\n",
    "pyr.add_metric('s_z_n',  'sigma_z_norm', sigma_z_norm, greater_is_better=False)\n",
    "pyr.add_metric('out_f',  'outlier_fr',   outlier_frac, greater_is_better=False)"
   ]
  },
  {
   "cell_type": "code",
   "execution_count": 80,
   "id": "1d38c543",
   "metadata": {
    "id": "m3mCNspXtLnI"
   },
   "outputs": [
    {
     "data": {
      "text/html": [
       "<style type=\"text/css\">\n",
       "#T_abbfc th {\n",
       "  text-align: left;\n",
       "}\n",
       "#T_abbfc_row0_col0, #T_abbfc_row0_col2, #T_abbfc_row1_col0, #T_abbfc_row1_col1, #T_abbfc_row1_col2, #T_abbfc_row1_col3, #T_abbfc_row1_col4, #T_abbfc_row1_col5, #T_abbfc_row1_col6, #T_abbfc_row1_col7, #T_abbfc_row1_col8, #T_abbfc_row1_col9, #T_abbfc_row1_col10, #T_abbfc_row1_col11, #T_abbfc_row2_col0, #T_abbfc_row2_col1, #T_abbfc_row2_col2, #T_abbfc_row2_col3, #T_abbfc_row2_col4, #T_abbfc_row2_col5, #T_abbfc_row2_col6, #T_abbfc_row2_col7, #T_abbfc_row2_col8, #T_abbfc_row2_col9, #T_abbfc_row2_col10, #T_abbfc_row3_col0, #T_abbfc_row3_col1, #T_abbfc_row3_col2, #T_abbfc_row3_col3, #T_abbfc_row3_col4, #T_abbfc_row3_col5, #T_abbfc_row3_col6, #T_abbfc_row3_col7, #T_abbfc_row3_col8, #T_abbfc_row3_col9, #T_abbfc_row3_col10, #T_abbfc_row3_col11, #T_abbfc_row4_col0, #T_abbfc_row4_col1, #T_abbfc_row4_col2, #T_abbfc_row4_col3, #T_abbfc_row4_col4, #T_abbfc_row4_col5, #T_abbfc_row4_col6, #T_abbfc_row4_col7, #T_abbfc_row4_col8, #T_abbfc_row4_col9, #T_abbfc_row4_col10, #T_abbfc_row4_col11, #T_abbfc_row5_col0, #T_abbfc_row5_col1, #T_abbfc_row5_col2, #T_abbfc_row5_col3, #T_abbfc_row5_col4, #T_abbfc_row5_col5, #T_abbfc_row5_col6, #T_abbfc_row5_col7, #T_abbfc_row5_col8, #T_abbfc_row5_col9, #T_abbfc_row5_col10, #T_abbfc_row6_col0, #T_abbfc_row6_col1, #T_abbfc_row6_col3, #T_abbfc_row6_col4, #T_abbfc_row6_col5, #T_abbfc_row6_col6, #T_abbfc_row6_col7, #T_abbfc_row6_col8, #T_abbfc_row6_col9, #T_abbfc_row6_col10, #T_abbfc_row7_col0, #T_abbfc_row7_col1, #T_abbfc_row7_col2, #T_abbfc_row7_col3, #T_abbfc_row7_col4, #T_abbfc_row7_col5, #T_abbfc_row7_col6, #T_abbfc_row7_col7, #T_abbfc_row7_col8, #T_abbfc_row7_col9, #T_abbfc_row7_col10, #T_abbfc_row7_col11, #T_abbfc_row8_col0, #T_abbfc_row8_col1, #T_abbfc_row8_col2, #T_abbfc_row8_col3, #T_abbfc_row8_col4, #T_abbfc_row8_col5, #T_abbfc_row8_col6, #T_abbfc_row8_col7, #T_abbfc_row8_col8, #T_abbfc_row8_col9, #T_abbfc_row8_col10, #T_abbfc_row8_col11, #T_abbfc_row9_col0, #T_abbfc_row9_col1, #T_abbfc_row9_col2, #T_abbfc_row9_col3, #T_abbfc_row9_col4, #T_abbfc_row9_col5, #T_abbfc_row9_col6, #T_abbfc_row9_col7, #T_abbfc_row9_col8, #T_abbfc_row9_col9, #T_abbfc_row9_col10, #T_abbfc_row10_col0, #T_abbfc_row10_col1, #T_abbfc_row10_col2, #T_abbfc_row10_col3, #T_abbfc_row10_col4, #T_abbfc_row10_col5, #T_abbfc_row10_col6, #T_abbfc_row10_col7, #T_abbfc_row10_col8, #T_abbfc_row10_col9, #T_abbfc_row10_col10, #T_abbfc_row11_col0, #T_abbfc_row11_col1, #T_abbfc_row11_col2, #T_abbfc_row11_col3, #T_abbfc_row11_col4, #T_abbfc_row11_col5, #T_abbfc_row11_col6, #T_abbfc_row11_col7, #T_abbfc_row11_col8, #T_abbfc_row11_col9, #T_abbfc_row11_col10, #T_abbfc_row12_col0, #T_abbfc_row12_col1, #T_abbfc_row12_col2, #T_abbfc_row12_col3, #T_abbfc_row12_col4, #T_abbfc_row12_col5, #T_abbfc_row12_col6, #T_abbfc_row12_col7, #T_abbfc_row12_col8, #T_abbfc_row12_col9, #T_abbfc_row12_col10, #T_abbfc_row12_col11, #T_abbfc_row13_col0, #T_abbfc_row13_col1, #T_abbfc_row13_col2, #T_abbfc_row13_col3, #T_abbfc_row13_col4, #T_abbfc_row13_col5, #T_abbfc_row13_col6, #T_abbfc_row13_col7, #T_abbfc_row13_col8, #T_abbfc_row13_col9, #T_abbfc_row13_col10, #T_abbfc_row13_col11, #T_abbfc_row14_col0, #T_abbfc_row14_col1, #T_abbfc_row14_col2, #T_abbfc_row14_col3, #T_abbfc_row14_col4, #T_abbfc_row14_col5, #T_abbfc_row14_col6, #T_abbfc_row14_col7, #T_abbfc_row14_col8, #T_abbfc_row14_col9, #T_abbfc_row14_col10, #T_abbfc_row14_col11, #T_abbfc_row15_col0, #T_abbfc_row15_col1, #T_abbfc_row15_col2, #T_abbfc_row15_col3, #T_abbfc_row15_col4, #T_abbfc_row15_col5, #T_abbfc_row15_col6, #T_abbfc_row15_col7, #T_abbfc_row15_col8, #T_abbfc_row15_col9, #T_abbfc_row15_col10, #T_abbfc_row15_col11, #T_abbfc_row16_col0, #T_abbfc_row16_col1, #T_abbfc_row16_col2, #T_abbfc_row16_col3, #T_abbfc_row16_col4, #T_abbfc_row16_col5, #T_abbfc_row16_col6, #T_abbfc_row16_col7, #T_abbfc_row16_col8, #T_abbfc_row16_col9, #T_abbfc_row16_col10, #T_abbfc_row16_col11, #T_abbfc_row17_col0, #T_abbfc_row17_col1, #T_abbfc_row17_col2, #T_abbfc_row17_col3, #T_abbfc_row17_col4, #T_abbfc_row17_col5, #T_abbfc_row17_col6, #T_abbfc_row17_col7, #T_abbfc_row17_col8, #T_abbfc_row17_col9, #T_abbfc_row17_col10, #T_abbfc_row17_col11, #T_abbfc_row18_col0, #T_abbfc_row18_col1, #T_abbfc_row18_col2, #T_abbfc_row18_col3, #T_abbfc_row18_col4, #T_abbfc_row18_col5, #T_abbfc_row18_col6, #T_abbfc_row18_col7, #T_abbfc_row18_col8, #T_abbfc_row18_col9, #T_abbfc_row18_col10, #T_abbfc_row18_col11 {\n",
       "  text-align: left;\n",
       "}\n",
       "#T_abbfc_row0_col1, #T_abbfc_row0_col3, #T_abbfc_row0_col4, #T_abbfc_row0_col5, #T_abbfc_row0_col6, #T_abbfc_row0_col7, #T_abbfc_row0_col8, #T_abbfc_row0_col9, #T_abbfc_row0_col10, #T_abbfc_row0_col11, #T_abbfc_row2_col11, #T_abbfc_row5_col11, #T_abbfc_row6_col2, #T_abbfc_row6_col11, #T_abbfc_row9_col11, #T_abbfc_row10_col11, #T_abbfc_row11_col11 {\n",
       "  text-align: left;\n",
       "  background-color: yellow;\n",
       "}\n",
       "#T_abbfc_row0_col12, #T_abbfc_row1_col12, #T_abbfc_row2_col12, #T_abbfc_row4_col12, #T_abbfc_row5_col12, #T_abbfc_row6_col12, #T_abbfc_row7_col12, #T_abbfc_row8_col12, #T_abbfc_row10_col12, #T_abbfc_row13_col12, #T_abbfc_row15_col12, #T_abbfc_row16_col12, #T_abbfc_row17_col12 {\n",
       "  text-align: left;\n",
       "  background-color: lightgrey;\n",
       "}\n",
       "#T_abbfc_row3_col12, #T_abbfc_row9_col12, #T_abbfc_row11_col12, #T_abbfc_row12_col12, #T_abbfc_row14_col12, #T_abbfc_row18_col12 {\n",
       "  text-align: left;\n",
       "  background-color: yellow;\n",
       "  background-color: lightgrey;\n",
       "}\n",
       "</style>\n",
       "<table id=\"T_abbfc\">\n",
       "  <thead>\n",
       "    <tr>\n",
       "      <th class=\"blank level0\" >&nbsp;</th>\n",
       "      <th id=\"T_abbfc_level0_col0\" class=\"col_heading level0 col0\" >Model</th>\n",
       "      <th id=\"T_abbfc_level0_col1\" class=\"col_heading level0 col1\" >MAE</th>\n",
       "      <th id=\"T_abbfc_level0_col2\" class=\"col_heading level0 col2\" >MSE</th>\n",
       "      <th id=\"T_abbfc_level0_col3\" class=\"col_heading level0 col3\" >RMSE</th>\n",
       "      <th id=\"T_abbfc_level0_col4\" class=\"col_heading level0 col4\" >R2</th>\n",
       "      <th id=\"T_abbfc_level0_col5\" class=\"col_heading level0 col5\" >RMSLE</th>\n",
       "      <th id=\"T_abbfc_level0_col6\" class=\"col_heading level0 col6\" >MAPE</th>\n",
       "      <th id=\"T_abbfc_level0_col7\" class=\"col_heading level0 col7\" >sigma_mad</th>\n",
       "      <th id=\"T_abbfc_level0_col8\" class=\"col_heading level0 col8\" >sigma_nmad</th>\n",
       "      <th id=\"T_abbfc_level0_col9\" class=\"col_heading level0 col9\" >sigma_z</th>\n",
       "      <th id=\"T_abbfc_level0_col10\" class=\"col_heading level0 col10\" >sigma_z_norm</th>\n",
       "      <th id=\"T_abbfc_level0_col11\" class=\"col_heading level0 col11\" >outlier_fr</th>\n",
       "      <th id=\"T_abbfc_level0_col12\" class=\"col_heading level0 col12\" >TT (Sec)</th>\n",
       "    </tr>\n",
       "  </thead>\n",
       "  <tbody>\n",
       "    <tr>\n",
       "      <th id=\"T_abbfc_level0_row0\" class=\"row_heading level0 row0\" >et</th>\n",
       "      <td id=\"T_abbfc_row0_col0\" class=\"data row0 col0\" >Extra Trees Regressor</td>\n",
       "      <td id=\"T_abbfc_row0_col1\" class=\"data row0 col1\" >0.1077</td>\n",
       "      <td id=\"T_abbfc_row0_col2\" class=\"data row0 col2\" >0.0481</td>\n",
       "      <td id=\"T_abbfc_row0_col3\" class=\"data row0 col3\" >0.1763</td>\n",
       "      <td id=\"T_abbfc_row0_col4\" class=\"data row0 col4\" >0.9257</td>\n",
       "      <td id=\"T_abbfc_row0_col5\" class=\"data row0 col5\" >0.0337</td>\n",
       "      <td id=\"T_abbfc_row0_col6\" class=\"data row0 col6\" >0.0264</td>\n",
       "      <td id=\"T_abbfc_row0_col7\" class=\"data row0 col7\" >0.0867</td>\n",
       "      <td id=\"T_abbfc_row0_col8\" class=\"data row0 col8\" >0.0163</td>\n",
       "      <td id=\"T_abbfc_row0_col9\" class=\"data row0 col9\" >0.1763</td>\n",
       "      <td id=\"T_abbfc_row0_col10\" class=\"data row0 col10\" >0.0353</td>\n",
       "      <td id=\"T_abbfc_row0_col11\" class=\"data row0 col11\" >0.0143</td>\n",
       "      <td id=\"T_abbfc_row0_col12\" class=\"data row0 col12\" >0.0290</td>\n",
       "    </tr>\n",
       "    <tr>\n",
       "      <th id=\"T_abbfc_level0_row1\" class=\"row_heading level0 row1\" >gbr</th>\n",
       "      <td id=\"T_abbfc_row1_col0\" class=\"data row1 col0\" >Gradient Boosting Regressor</td>\n",
       "      <td id=\"T_abbfc_row1_col1\" class=\"data row1 col1\" >0.1362</td>\n",
       "      <td id=\"T_abbfc_row1_col2\" class=\"data row1 col2\" >0.1165</td>\n",
       "      <td id=\"T_abbfc_row1_col3\" class=\"data row1 col3\" >0.2457</td>\n",
       "      <td id=\"T_abbfc_row1_col4\" class=\"data row1 col4\" >0.8021</td>\n",
       "      <td id=\"T_abbfc_row1_col5\" class=\"data row1 col5\" >0.0440</td>\n",
       "      <td id=\"T_abbfc_row1_col6\" class=\"data row1 col6\" >0.0329</td>\n",
       "      <td id=\"T_abbfc_row1_col7\" class=\"data row1 col7\" >0.0883</td>\n",
       "      <td id=\"T_abbfc_row1_col8\" class=\"data row1 col8\" >0.0165</td>\n",
       "      <td id=\"T_abbfc_row1_col9\" class=\"data row1 col9\" >0.2457</td>\n",
       "      <td id=\"T_abbfc_row1_col10\" class=\"data row1 col10\" >0.0482</td>\n",
       "      <td id=\"T_abbfc_row1_col11\" class=\"data row1 col11\" >0.0429</td>\n",
       "      <td id=\"T_abbfc_row1_col12\" class=\"data row1 col12\" >0.0120</td>\n",
       "    </tr>\n",
       "    <tr>\n",
       "      <th id=\"T_abbfc_level0_row2\" class=\"row_heading level0 row2\" >rf</th>\n",
       "      <td id=\"T_abbfc_row2_col0\" class=\"data row2 col0\" >Random Forest Regressor</td>\n",
       "      <td id=\"T_abbfc_row2_col1\" class=\"data row2 col1\" >0.1199</td>\n",
       "      <td id=\"T_abbfc_row2_col2\" class=\"data row2 col2\" >0.0737</td>\n",
       "      <td id=\"T_abbfc_row2_col3\" class=\"data row2 col3\" >0.2020</td>\n",
       "      <td id=\"T_abbfc_row2_col4\" class=\"data row2 col4\" >0.8936</td>\n",
       "      <td id=\"T_abbfc_row2_col5\" class=\"data row2 col5\" >0.0372</td>\n",
       "      <td id=\"T_abbfc_row2_col6\" class=\"data row2 col6\" >0.0289</td>\n",
       "      <td id=\"T_abbfc_row2_col7\" class=\"data row2 col7\" >0.0915</td>\n",
       "      <td id=\"T_abbfc_row2_col8\" class=\"data row2 col8\" >0.0173</td>\n",
       "      <td id=\"T_abbfc_row2_col9\" class=\"data row2 col9\" >0.2020</td>\n",
       "      <td id=\"T_abbfc_row2_col10\" class=\"data row2 col10\" >0.0398</td>\n",
       "      <td id=\"T_abbfc_row2_col11\" class=\"data row2 col11\" >0.0143</td>\n",
       "      <td id=\"T_abbfc_row2_col12\" class=\"data row2 col12\" >0.0330</td>\n",
       "    </tr>\n",
       "    <tr>\n",
       "      <th id=\"T_abbfc_level0_row3\" class=\"row_heading level0 row3\" >dt</th>\n",
       "      <td id=\"T_abbfc_row3_col0\" class=\"data row3 col0\" >Decision Tree Regressor</td>\n",
       "      <td id=\"T_abbfc_row3_col1\" class=\"data row3 col1\" >0.1289</td>\n",
       "      <td id=\"T_abbfc_row3_col2\" class=\"data row3 col2\" >0.1100</td>\n",
       "      <td id=\"T_abbfc_row3_col3\" class=\"data row3 col3\" >0.2340</td>\n",
       "      <td id=\"T_abbfc_row3_col4\" class=\"data row3 col4\" >0.8682</td>\n",
       "      <td id=\"T_abbfc_row3_col5\" class=\"data row3 col5\" >0.0420</td>\n",
       "      <td id=\"T_abbfc_row3_col6\" class=\"data row3 col6\" >0.0310</td>\n",
       "      <td id=\"T_abbfc_row3_col7\" class=\"data row3 col7\" >0.0967</td>\n",
       "      <td id=\"T_abbfc_row3_col8\" class=\"data row3 col8\" >0.0195</td>\n",
       "      <td id=\"T_abbfc_row3_col9\" class=\"data row3 col9\" >0.2340</td>\n",
       "      <td id=\"T_abbfc_row3_col10\" class=\"data row3 col10\" >0.0454</td>\n",
       "      <td id=\"T_abbfc_row3_col11\" class=\"data row3 col11\" >0.0286</td>\n",
       "      <td id=\"T_abbfc_row3_col12\" class=\"data row3 col12\" >0.0080</td>\n",
       "    </tr>\n",
       "    <tr>\n",
       "      <th id=\"T_abbfc_level0_row4\" class=\"row_heading level0 row4\" >xgboost</th>\n",
       "      <td id=\"T_abbfc_row4_col0\" class=\"data row4 col0\" >Extreme Gradient Boosting</td>\n",
       "      <td id=\"T_abbfc_row4_col1\" class=\"data row4 col1\" >0.1179</td>\n",
       "      <td id=\"T_abbfc_row4_col2\" class=\"data row4 col2\" >0.0710</td>\n",
       "      <td id=\"T_abbfc_row4_col3\" class=\"data row4 col3\" >0.1964</td>\n",
       "      <td id=\"T_abbfc_row4_col4\" class=\"data row4 col4\" >0.8987</td>\n",
       "      <td id=\"T_abbfc_row4_col5\" class=\"data row4 col5\" >0.0369</td>\n",
       "      <td id=\"T_abbfc_row4_col6\" class=\"data row4 col6\" >0.0289</td>\n",
       "      <td id=\"T_abbfc_row4_col7\" class=\"data row4 col7\" >0.0980</td>\n",
       "      <td id=\"T_abbfc_row4_col8\" class=\"data row4 col8\" >0.0184</td>\n",
       "      <td id=\"T_abbfc_row4_col9\" class=\"data row4 col9\" >0.1964</td>\n",
       "      <td id=\"T_abbfc_row4_col10\" class=\"data row4 col10\" >0.0392</td>\n",
       "      <td id=\"T_abbfc_row4_col11\" class=\"data row4 col11\" >0.0286</td>\n",
       "      <td id=\"T_abbfc_row4_col12\" class=\"data row4 col12\" >2.9420</td>\n",
       "    </tr>\n",
       "    <tr>\n",
       "      <th id=\"T_abbfc_level0_row5\" class=\"row_heading level0 row5\" >ada</th>\n",
       "      <td id=\"T_abbfc_row5_col0\" class=\"data row5 col0\" >AdaBoost Regressor</td>\n",
       "      <td id=\"T_abbfc_row5_col1\" class=\"data row5 col1\" >0.1311</td>\n",
       "      <td id=\"T_abbfc_row5_col2\" class=\"data row5 col2\" >0.0709</td>\n",
       "      <td id=\"T_abbfc_row5_col3\" class=\"data row5 col3\" >0.2020</td>\n",
       "      <td id=\"T_abbfc_row5_col4\" class=\"data row5 col4\" >0.9009</td>\n",
       "      <td id=\"T_abbfc_row5_col5\" class=\"data row5 col5\" >0.0375</td>\n",
       "      <td id=\"T_abbfc_row5_col6\" class=\"data row5 col6\" >0.0313</td>\n",
       "      <td id=\"T_abbfc_row5_col7\" class=\"data row5 col7\" >0.1130</td>\n",
       "      <td id=\"T_abbfc_row5_col8\" class=\"data row5 col8\" >0.0223</td>\n",
       "      <td id=\"T_abbfc_row5_col9\" class=\"data row5 col9\" >0.2020</td>\n",
       "      <td id=\"T_abbfc_row5_col10\" class=\"data row5 col10\" >0.0395</td>\n",
       "      <td id=\"T_abbfc_row5_col11\" class=\"data row5 col11\" >0.0143</td>\n",
       "      <td id=\"T_abbfc_row5_col12\" class=\"data row5 col12\" >0.0160</td>\n",
       "    </tr>\n",
       "    <tr>\n",
       "      <th id=\"T_abbfc_level0_row6\" class=\"row_heading level0 row6\" >catboost</th>\n",
       "      <td id=\"T_abbfc_row6_col0\" class=\"data row6 col0\" >CatBoost Regressor</td>\n",
       "      <td id=\"T_abbfc_row6_col1\" class=\"data row6 col1\" >0.1241</td>\n",
       "      <td id=\"T_abbfc_row6_col2\" class=\"data row6 col2\" >0.0464</td>\n",
       "      <td id=\"T_abbfc_row6_col3\" class=\"data row6 col3\" >0.1814</td>\n",
       "      <td id=\"T_abbfc_row6_col4\" class=\"data row6 col4\" >0.9237</td>\n",
       "      <td id=\"T_abbfc_row6_col5\" class=\"data row6 col5\" >0.0348</td>\n",
       "      <td id=\"T_abbfc_row6_col6\" class=\"data row6 col6\" >0.0300</td>\n",
       "      <td id=\"T_abbfc_row6_col7\" class=\"data row6 col7\" >0.1218</td>\n",
       "      <td id=\"T_abbfc_row6_col8\" class=\"data row6 col8\" >0.0222</td>\n",
       "      <td id=\"T_abbfc_row6_col9\" class=\"data row6 col9\" >0.1814</td>\n",
       "      <td id=\"T_abbfc_row6_col10\" class=\"data row6 col10\" >0.0362</td>\n",
       "      <td id=\"T_abbfc_row6_col11\" class=\"data row6 col11\" >0.0143</td>\n",
       "      <td id=\"T_abbfc_row6_col12\" class=\"data row6 col12\" >0.1010</td>\n",
       "    </tr>\n",
       "    <tr>\n",
       "      <th id=\"T_abbfc_level0_row7\" class=\"row_heading level0 row7\" >huber</th>\n",
       "      <td id=\"T_abbfc_row7_col0\" class=\"data row7 col0\" >Huber Regressor</td>\n",
       "      <td id=\"T_abbfc_row7_col1\" class=\"data row7 col1\" >0.2261</td>\n",
       "      <td id=\"T_abbfc_row7_col2\" class=\"data row7 col2\" >0.1094</td>\n",
       "      <td id=\"T_abbfc_row7_col3\" class=\"data row7 col3\" >0.3061</td>\n",
       "      <td id=\"T_abbfc_row7_col4\" class=\"data row7 col4\" >0.8244</td>\n",
       "      <td id=\"T_abbfc_row7_col5\" class=\"data row7 col5\" >0.0590</td>\n",
       "      <td id=\"T_abbfc_row7_col6\" class=\"data row7 col6\" >0.0532</td>\n",
       "      <td id=\"T_abbfc_row7_col7\" class=\"data row7 col7\" >0.2345</td>\n",
       "      <td id=\"T_abbfc_row7_col8\" class=\"data row7 col8\" >0.0399</td>\n",
       "      <td id=\"T_abbfc_row7_col9\" class=\"data row7 col9\" >0.3061</td>\n",
       "      <td id=\"T_abbfc_row7_col10\" class=\"data row7 col10\" >0.0603</td>\n",
       "      <td id=\"T_abbfc_row7_col11\" class=\"data row7 col11\" >0.0286</td>\n",
       "      <td id=\"T_abbfc_row7_col12\" class=\"data row7 col12\" >0.0090</td>\n",
       "    </tr>\n",
       "    <tr>\n",
       "      <th id=\"T_abbfc_level0_row8\" class=\"row_heading level0 row8\" >lightgbm</th>\n",
       "      <td id=\"T_abbfc_row8_col0\" class=\"data row8 col0\" >Light Gradient Boosting Machine</td>\n",
       "      <td id=\"T_abbfc_row8_col1\" class=\"data row8 col1\" >0.2393</td>\n",
       "      <td id=\"T_abbfc_row8_col2\" class=\"data row8 col2\" >0.1150</td>\n",
       "      <td id=\"T_abbfc_row8_col3\" class=\"data row8 col3\" >0.3136</td>\n",
       "      <td id=\"T_abbfc_row8_col4\" class=\"data row8 col4\" >0.8117</td>\n",
       "      <td id=\"T_abbfc_row8_col5\" class=\"data row8 col5\" >0.0560</td>\n",
       "      <td id=\"T_abbfc_row8_col6\" class=\"data row8 col6\" >0.0533</td>\n",
       "      <td id=\"T_abbfc_row8_col7\" class=\"data row8 col7\" >0.2853</td>\n",
       "      <td id=\"T_abbfc_row8_col8\" class=\"data row8 col8\" >0.0484</td>\n",
       "      <td id=\"T_abbfc_row8_col9\" class=\"data row8 col9\" >0.3136</td>\n",
       "      <td id=\"T_abbfc_row8_col10\" class=\"data row8 col10\" >0.0583</td>\n",
       "      <td id=\"T_abbfc_row8_col11\" class=\"data row8 col11\" >0.0286</td>\n",
       "      <td id=\"T_abbfc_row8_col12\" class=\"data row8 col12\" >1.4800</td>\n",
       "    </tr>\n",
       "    <tr>\n",
       "      <th id=\"T_abbfc_level0_row9\" class=\"row_heading level0 row9\" >br</th>\n",
       "      <td id=\"T_abbfc_row9_col0\" class=\"data row9 col0\" >Bayesian Ridge</td>\n",
       "      <td id=\"T_abbfc_row9_col1\" class=\"data row9 col1\" >0.2363</td>\n",
       "      <td id=\"T_abbfc_row9_col2\" class=\"data row9 col2\" >0.1010</td>\n",
       "      <td id=\"T_abbfc_row9_col3\" class=\"data row9 col3\" >0.2956</td>\n",
       "      <td id=\"T_abbfc_row9_col4\" class=\"data row9 col4\" >0.8387</td>\n",
       "      <td id=\"T_abbfc_row9_col5\" class=\"data row9 col5\" >0.0547</td>\n",
       "      <td id=\"T_abbfc_row9_col6\" class=\"data row9 col6\" >0.0533</td>\n",
       "      <td id=\"T_abbfc_row9_col7\" class=\"data row9 col7\" >0.2908</td>\n",
       "      <td id=\"T_abbfc_row9_col8\" class=\"data row9 col8\" >0.0515</td>\n",
       "      <td id=\"T_abbfc_row9_col9\" class=\"data row9 col9\" >0.2956</td>\n",
       "      <td id=\"T_abbfc_row9_col10\" class=\"data row9 col10\" >0.0564</td>\n",
       "      <td id=\"T_abbfc_row9_col11\" class=\"data row9 col11\" >0.0143</td>\n",
       "      <td id=\"T_abbfc_row9_col12\" class=\"data row9 col12\" >0.0080</td>\n",
       "    </tr>\n",
       "    <tr>\n",
       "      <th id=\"T_abbfc_level0_row10\" class=\"row_heading level0 row10\" >lr</th>\n",
       "      <td id=\"T_abbfc_row10_col0\" class=\"data row10 col0\" >Linear Regression</td>\n",
       "      <td id=\"T_abbfc_row10_col1\" class=\"data row10 col1\" >0.2367</td>\n",
       "      <td id=\"T_abbfc_row10_col2\" class=\"data row10 col2\" >0.1030</td>\n",
       "      <td id=\"T_abbfc_row10_col3\" class=\"data row10 col3\" >0.2978</td>\n",
       "      <td id=\"T_abbfc_row10_col4\" class=\"data row10 col4\" >0.8357</td>\n",
       "      <td id=\"T_abbfc_row10_col5\" class=\"data row10 col5\" >0.0555</td>\n",
       "      <td id=\"T_abbfc_row10_col6\" class=\"data row10 col6\" >0.0539</td>\n",
       "      <td id=\"T_abbfc_row10_col7\" class=\"data row10 col7\" >0.2912</td>\n",
       "      <td id=\"T_abbfc_row10_col8\" class=\"data row10 col8\" >0.0489</td>\n",
       "      <td id=\"T_abbfc_row10_col9\" class=\"data row10 col9\" >0.2978</td>\n",
       "      <td id=\"T_abbfc_row10_col10\" class=\"data row10 col10\" >0.0571</td>\n",
       "      <td id=\"T_abbfc_row10_col11\" class=\"data row10 col11\" >0.0143</td>\n",
       "      <td id=\"T_abbfc_row10_col12\" class=\"data row10 col12\" >0.2190</td>\n",
       "    </tr>\n",
       "    <tr>\n",
       "      <th id=\"T_abbfc_level0_row11\" class=\"row_heading level0 row11\" >ridge</th>\n",
       "      <td id=\"T_abbfc_row11_col0\" class=\"data row11 col0\" >Ridge Regression</td>\n",
       "      <td id=\"T_abbfc_row11_col1\" class=\"data row11 col1\" >0.2354</td>\n",
       "      <td id=\"T_abbfc_row11_col2\" class=\"data row11 col2\" >0.1010</td>\n",
       "      <td id=\"T_abbfc_row11_col3\" class=\"data row11 col3\" >0.2953</td>\n",
       "      <td id=\"T_abbfc_row11_col4\" class=\"data row11 col4\" >0.8388</td>\n",
       "      <td id=\"T_abbfc_row11_col5\" class=\"data row11 col5\" >0.0548</td>\n",
       "      <td id=\"T_abbfc_row11_col6\" class=\"data row11 col6\" >0.0533</td>\n",
       "      <td id=\"T_abbfc_row11_col7\" class=\"data row11 col7\" >0.2928</td>\n",
       "      <td id=\"T_abbfc_row11_col8\" class=\"data row11 col8\" >0.0506</td>\n",
       "      <td id=\"T_abbfc_row11_col9\" class=\"data row11 col9\" >0.2953</td>\n",
       "      <td id=\"T_abbfc_row11_col10\" class=\"data row11 col10\" >0.0565</td>\n",
       "      <td id=\"T_abbfc_row11_col11\" class=\"data row11 col11\" >0.0143</td>\n",
       "      <td id=\"T_abbfc_row11_col12\" class=\"data row11 col12\" >0.0080</td>\n",
       "    </tr>\n",
       "    <tr>\n",
       "      <th id=\"T_abbfc_level0_row12\" class=\"row_heading level0 row12\" >par</th>\n",
       "      <td id=\"T_abbfc_row12_col0\" class=\"data row12 col0\" >Passive Aggressive Regressor</td>\n",
       "      <td id=\"T_abbfc_row12_col1\" class=\"data row12 col1\" >0.3190</td>\n",
       "      <td id=\"T_abbfc_row12_col2\" class=\"data row12 col2\" >0.1777</td>\n",
       "      <td id=\"T_abbfc_row12_col3\" class=\"data row12 col3\" >0.4063</td>\n",
       "      <td id=\"T_abbfc_row12_col4\" class=\"data row12 col4\" >0.6913</td>\n",
       "      <td id=\"T_abbfc_row12_col5\" class=\"data row12 col5\" >0.0752</td>\n",
       "      <td id=\"T_abbfc_row12_col6\" class=\"data row12 col6\" >0.0735</td>\n",
       "      <td id=\"T_abbfc_row12_col7\" class=\"data row12 col7\" >0.3366</td>\n",
       "      <td id=\"T_abbfc_row12_col8\" class=\"data row12 col8\" >0.0582</td>\n",
       "      <td id=\"T_abbfc_row12_col9\" class=\"data row12 col9\" >0.4063</td>\n",
       "      <td id=\"T_abbfc_row12_col10\" class=\"data row12 col10\" >0.0780</td>\n",
       "      <td id=\"T_abbfc_row12_col11\" class=\"data row12 col11\" >0.0714</td>\n",
       "      <td id=\"T_abbfc_row12_col12\" class=\"data row12 col12\" >0.0080</td>\n",
       "    </tr>\n",
       "    <tr>\n",
       "      <th id=\"T_abbfc_level0_row13\" class=\"row_heading level0 row13\" >lar</th>\n",
       "      <td id=\"T_abbfc_row13_col0\" class=\"data row13 col0\" >Least Angle Regression</td>\n",
       "      <td id=\"T_abbfc_row13_col1\" class=\"data row13 col1\" >0.3260</td>\n",
       "      <td id=\"T_abbfc_row13_col2\" class=\"data row13 col2\" >0.2254</td>\n",
       "      <td id=\"T_abbfc_row13_col3\" class=\"data row13 col3\" >0.4128</td>\n",
       "      <td id=\"T_abbfc_row13_col4\" class=\"data row13 col4\" >0.5412</td>\n",
       "      <td id=\"T_abbfc_row13_col5\" class=\"data row13 col5\" >0.0762</td>\n",
       "      <td id=\"T_abbfc_row13_col6\" class=\"data row13 col6\" >0.0746</td>\n",
       "      <td id=\"T_abbfc_row13_col7\" class=\"data row13 col7\" >0.3763</td>\n",
       "      <td id=\"T_abbfc_row13_col8\" class=\"data row13 col8\" >0.0634</td>\n",
       "      <td id=\"T_abbfc_row13_col9\" class=\"data row13 col9\" >0.4128</td>\n",
       "      <td id=\"T_abbfc_row13_col10\" class=\"data row13 col10\" >0.0790</td>\n",
       "      <td id=\"T_abbfc_row13_col11\" class=\"data row13 col11\" >0.0714</td>\n",
       "      <td id=\"T_abbfc_row13_col12\" class=\"data row13 col12\" >0.0090</td>\n",
       "    </tr>\n",
       "    <tr>\n",
       "      <th id=\"T_abbfc_level0_row14\" class=\"row_heading level0 row14\" >omp</th>\n",
       "      <td id=\"T_abbfc_row14_col0\" class=\"data row14 col0\" >Orthogonal Matching Pursuit</td>\n",
       "      <td id=\"T_abbfc_row14_col1\" class=\"data row14 col1\" >0.3814</td>\n",
       "      <td id=\"T_abbfc_row14_col2\" class=\"data row14 col2\" >0.2532</td>\n",
       "      <td id=\"T_abbfc_row14_col3\" class=\"data row14 col3\" >0.4889</td>\n",
       "      <td id=\"T_abbfc_row14_col4\" class=\"data row14 col4\" >0.5659</td>\n",
       "      <td id=\"T_abbfc_row14_col5\" class=\"data row14 col5\" >0.0923</td>\n",
       "      <td id=\"T_abbfc_row14_col6\" class=\"data row14 col6\" >0.0863</td>\n",
       "      <td id=\"T_abbfc_row14_col7\" class=\"data row14 col7\" >0.4451</td>\n",
       "      <td id=\"T_abbfc_row14_col8\" class=\"data row14 col8\" >0.0847</td>\n",
       "      <td id=\"T_abbfc_row14_col9\" class=\"data row14 col9\" >0.4889</td>\n",
       "      <td id=\"T_abbfc_row14_col10\" class=\"data row14 col10\" >0.0924</td>\n",
       "      <td id=\"T_abbfc_row14_col11\" class=\"data row14 col11\" >0.0571</td>\n",
       "      <td id=\"T_abbfc_row14_col12\" class=\"data row14 col12\" >0.0080</td>\n",
       "    </tr>\n",
       "    <tr>\n",
       "      <th id=\"T_abbfc_level0_row15\" class=\"row_heading level0 row15\" >en</th>\n",
       "      <td id=\"T_abbfc_row15_col0\" class=\"data row15 col0\" >Elastic Net</td>\n",
       "      <td id=\"T_abbfc_row15_col1\" class=\"data row15 col1\" >0.6855</td>\n",
       "      <td id=\"T_abbfc_row15_col2\" class=\"data row15 col2\" >0.5810</td>\n",
       "      <td id=\"T_abbfc_row15_col3\" class=\"data row15 col3\" >0.7575</td>\n",
       "      <td id=\"T_abbfc_row15_col4\" class=\"data row15 col4\" >0.0288</td>\n",
       "      <td id=\"T_abbfc_row15_col5\" class=\"data row15 col5\" >0.1307</td>\n",
       "      <td id=\"T_abbfc_row15_col6\" class=\"data row15 col6\" >0.1474</td>\n",
       "      <td id=\"T_abbfc_row15_col7\" class=\"data row15 col7\" >1.0962</td>\n",
       "      <td id=\"T_abbfc_row15_col8\" class=\"data row15 col8\" >0.1942</td>\n",
       "      <td id=\"T_abbfc_row15_col9\" class=\"data row15 col9\" >0.7575</td>\n",
       "      <td id=\"T_abbfc_row15_col10\" class=\"data row15 col10\" >0.1324</td>\n",
       "      <td id=\"T_abbfc_row15_col11\" class=\"data row15 col11\" >0.3214</td>\n",
       "      <td id=\"T_abbfc_row15_col12\" class=\"data row15 col12\" >0.0090</td>\n",
       "    </tr>\n",
       "    <tr>\n",
       "      <th id=\"T_abbfc_level0_row16\" class=\"row_heading level0 row16\" >lasso</th>\n",
       "      <td id=\"T_abbfc_row16_col0\" class=\"data row16 col0\" >Lasso Regression</td>\n",
       "      <td id=\"T_abbfc_row16_col1\" class=\"data row16 col1\" >0.7660</td>\n",
       "      <td id=\"T_abbfc_row16_col2\" class=\"data row16 col2\" >0.7469</td>\n",
       "      <td id=\"T_abbfc_row16_col3\" class=\"data row16 col3\" >0.8591</td>\n",
       "      <td id=\"T_abbfc_row16_col4\" class=\"data row16 col4\" >-0.2489</td>\n",
       "      <td id=\"T_abbfc_row16_col5\" class=\"data row16 col5\" >0.1481</td>\n",
       "      <td id=\"T_abbfc_row16_col6\" class=\"data row16 col6\" >0.1642</td>\n",
       "      <td id=\"T_abbfc_row16_col7\" class=\"data row16 col7\" >1.2180</td>\n",
       "      <td id=\"T_abbfc_row16_col8\" class=\"data row16 col8\" >0.2235</td>\n",
       "      <td id=\"T_abbfc_row16_col9\" class=\"data row16 col9\" >0.8591</td>\n",
       "      <td id=\"T_abbfc_row16_col10\" class=\"data row16 col10\" >0.1492</td>\n",
       "      <td id=\"T_abbfc_row16_col11\" class=\"data row16 col11\" >0.4929</td>\n",
       "      <td id=\"T_abbfc_row16_col12\" class=\"data row16 col12\" >0.1440</td>\n",
       "    </tr>\n",
       "    <tr>\n",
       "      <th id=\"T_abbfc_level0_row17\" class=\"row_heading level0 row17\" >llar</th>\n",
       "      <td id=\"T_abbfc_row17_col0\" class=\"data row17 col0\" >Lasso Least Angle Regression</td>\n",
       "      <td id=\"T_abbfc_row17_col1\" class=\"data row17 col1\" >0.7660</td>\n",
       "      <td id=\"T_abbfc_row17_col2\" class=\"data row17 col2\" >0.7469</td>\n",
       "      <td id=\"T_abbfc_row17_col3\" class=\"data row17 col3\" >0.8591</td>\n",
       "      <td id=\"T_abbfc_row17_col4\" class=\"data row17 col4\" >-0.2489</td>\n",
       "      <td id=\"T_abbfc_row17_col5\" class=\"data row17 col5\" >0.1481</td>\n",
       "      <td id=\"T_abbfc_row17_col6\" class=\"data row17 col6\" >0.1642</td>\n",
       "      <td id=\"T_abbfc_row17_col7\" class=\"data row17 col7\" >1.2180</td>\n",
       "      <td id=\"T_abbfc_row17_col8\" class=\"data row17 col8\" >0.2235</td>\n",
       "      <td id=\"T_abbfc_row17_col9\" class=\"data row17 col9\" >0.8591</td>\n",
       "      <td id=\"T_abbfc_row17_col10\" class=\"data row17 col10\" >0.1492</td>\n",
       "      <td id=\"T_abbfc_row17_col11\" class=\"data row17 col11\" >0.4929</td>\n",
       "      <td id=\"T_abbfc_row17_col12\" class=\"data row17 col12\" >0.0090</td>\n",
       "    </tr>\n",
       "    <tr>\n",
       "      <th id=\"T_abbfc_level0_row18\" class=\"row_heading level0 row18\" >dummy</th>\n",
       "      <td id=\"T_abbfc_row18_col0\" class=\"data row18 col0\" >Dummy Regressor</td>\n",
       "      <td id=\"T_abbfc_row18_col1\" class=\"data row18 col1\" >0.7660</td>\n",
       "      <td id=\"T_abbfc_row18_col2\" class=\"data row18 col2\" >0.7469</td>\n",
       "      <td id=\"T_abbfc_row18_col3\" class=\"data row18 col3\" >0.8591</td>\n",
       "      <td id=\"T_abbfc_row18_col4\" class=\"data row18 col4\" >-0.2489</td>\n",
       "      <td id=\"T_abbfc_row18_col5\" class=\"data row18 col5\" >0.1481</td>\n",
       "      <td id=\"T_abbfc_row18_col6\" class=\"data row18 col6\" >0.1642</td>\n",
       "      <td id=\"T_abbfc_row18_col7\" class=\"data row18 col7\" >1.2180</td>\n",
       "      <td id=\"T_abbfc_row18_col8\" class=\"data row18 col8\" >0.2235</td>\n",
       "      <td id=\"T_abbfc_row18_col9\" class=\"data row18 col9\" >0.8591</td>\n",
       "      <td id=\"T_abbfc_row18_col10\" class=\"data row18 col10\" >0.1492</td>\n",
       "      <td id=\"T_abbfc_row18_col11\" class=\"data row18 col11\" >0.4929</td>\n",
       "      <td id=\"T_abbfc_row18_col12\" class=\"data row18 col12\" >0.0080</td>\n",
       "    </tr>\n",
       "  </tbody>\n",
       "</table>\n"
      ],
      "text/plain": [
       "<pandas.io.formats.style.Styler at 0x7ff078c9ab50>"
      ]
     },
     "metadata": {},
     "output_type": "display_data"
    }
   ],
   "source": [
    "# z >= 3.7\n",
    "final_selection_reg  = ['et', 'gbr' 'rf', 'dt', 'xgboost', 'dummy']\n",
    "n_models             = 5\n",
    "# top_model_z          = pyr.compare_models(n_select=n_models, include=final_selection_reg, sort='s_mad')  # 1:15 hour for used_models_clf\n",
    "top_model_z          = pyr.compare_models(n_select=n_models, exclude=['knn'], sort='s_mad')  # 5 minutes, using all models."
   ]
  },
  {
   "cell_type": "markdown",
   "id": "2a25bbbe",
   "metadata": {},
   "source": [
    "Thus, we select `lightgbm` as meta learner."
   ]
  },
  {
   "cell_type": "markdown",
   "id": "35041509",
   "metadata": {},
   "source": [
    "Thus, we stack the models."
   ]
  },
  {
   "cell_type": "code",
   "execution_count": 81,
   "id": "86158795",
   "metadata": {},
   "outputs": [
    {
     "data": {
      "text/html": [
       "<style type=\"text/css\">\n",
       "#T_c664a_row10_col0, #T_c664a_row10_col1, #T_c664a_row10_col2, #T_c664a_row10_col3, #T_c664a_row10_col4, #T_c664a_row10_col5, #T_c664a_row10_col6, #T_c664a_row10_col7, #T_c664a_row10_col8, #T_c664a_row10_col9, #T_c664a_row10_col10 {\n",
       "  background: yellow;\n",
       "}\n",
       "</style>\n",
       "<table id=\"T_c664a\">\n",
       "  <thead>\n",
       "    <tr>\n",
       "      <th class=\"blank level0\" >&nbsp;</th>\n",
       "      <th id=\"T_c664a_level0_col0\" class=\"col_heading level0 col0\" >MAE</th>\n",
       "      <th id=\"T_c664a_level0_col1\" class=\"col_heading level0 col1\" >MSE</th>\n",
       "      <th id=\"T_c664a_level0_col2\" class=\"col_heading level0 col2\" >RMSE</th>\n",
       "      <th id=\"T_c664a_level0_col3\" class=\"col_heading level0 col3\" >R2</th>\n",
       "      <th id=\"T_c664a_level0_col4\" class=\"col_heading level0 col4\" >RMSLE</th>\n",
       "      <th id=\"T_c664a_level0_col5\" class=\"col_heading level0 col5\" >MAPE</th>\n",
       "      <th id=\"T_c664a_level0_col6\" class=\"col_heading level0 col6\" >sigma_mad</th>\n",
       "      <th id=\"T_c664a_level0_col7\" class=\"col_heading level0 col7\" >sigma_nmad</th>\n",
       "      <th id=\"T_c664a_level0_col8\" class=\"col_heading level0 col8\" >sigma_z</th>\n",
       "      <th id=\"T_c664a_level0_col9\" class=\"col_heading level0 col9\" >sigma_z_norm</th>\n",
       "      <th id=\"T_c664a_level0_col10\" class=\"col_heading level0 col10\" >outlier_fr</th>\n",
       "    </tr>\n",
       "    <tr>\n",
       "      <th class=\"index_name level0\" >Fold</th>\n",
       "      <th class=\"blank col0\" >&nbsp;</th>\n",
       "      <th class=\"blank col1\" >&nbsp;</th>\n",
       "      <th class=\"blank col2\" >&nbsp;</th>\n",
       "      <th class=\"blank col3\" >&nbsp;</th>\n",
       "      <th class=\"blank col4\" >&nbsp;</th>\n",
       "      <th class=\"blank col5\" >&nbsp;</th>\n",
       "      <th class=\"blank col6\" >&nbsp;</th>\n",
       "      <th class=\"blank col7\" >&nbsp;</th>\n",
       "      <th class=\"blank col8\" >&nbsp;</th>\n",
       "      <th class=\"blank col9\" >&nbsp;</th>\n",
       "      <th class=\"blank col10\" >&nbsp;</th>\n",
       "    </tr>\n",
       "  </thead>\n",
       "  <tbody>\n",
       "    <tr>\n",
       "      <th id=\"T_c664a_level0_row0\" class=\"row_heading level0 row0\" >0</th>\n",
       "      <td id=\"T_c664a_row0_col0\" class=\"data row0 col0\" >0.0297</td>\n",
       "      <td id=\"T_c664a_row0_col1\" class=\"data row0 col1\" >0.0012</td>\n",
       "      <td id=\"T_c664a_row0_col2\" class=\"data row0 col2\" >0.0352</td>\n",
       "      <td id=\"T_c664a_row0_col3\" class=\"data row0 col3\" >0.9984</td>\n",
       "      <td id=\"T_c664a_row0_col4\" class=\"data row0 col4\" >0.0069</td>\n",
       "      <td id=\"T_c664a_row0_col5\" class=\"data row0 col5\" >0.0069</td>\n",
       "      <td id=\"T_c664a_row0_col6\" class=\"data row0 col6\" >0.0444</td>\n",
       "      <td id=\"T_c664a_row0_col7\" class=\"data row0 col7\" >0.0067</td>\n",
       "      <td id=\"T_c664a_row0_col8\" class=\"data row0 col8\" >0.0352</td>\n",
       "      <td id=\"T_c664a_row0_col9\" class=\"data row0 col9\" >0.0069</td>\n",
       "      <td id=\"T_c664a_row0_col10\" class=\"data row0 col10\" >0.0000</td>\n",
       "    </tr>\n",
       "    <tr>\n",
       "      <th id=\"T_c664a_level0_row1\" class=\"row_heading level0 row1\" >1</th>\n",
       "      <td id=\"T_c664a_row1_col0\" class=\"data row1 col0\" >0.0770</td>\n",
       "      <td id=\"T_c664a_row1_col1\" class=\"data row1 col1\" >0.0189</td>\n",
       "      <td id=\"T_c664a_row1_col2\" class=\"data row1 col2\" >0.1374</td>\n",
       "      <td id=\"T_c664a_row1_col3\" class=\"data row1 col3\" >0.9656</td>\n",
       "      <td id=\"T_c664a_row1_col4\" class=\"data row1 col4\" >0.0266</td>\n",
       "      <td id=\"T_c664a_row1_col5\" class=\"data row1 col5\" >0.0184</td>\n",
       "      <td id=\"T_c664a_row1_col6\" class=\"data row1 col6\" >0.0136</td>\n",
       "      <td id=\"T_c664a_row1_col7\" class=\"data row1 col7\" >0.0023</td>\n",
       "      <td id=\"T_c664a_row1_col8\" class=\"data row1 col8\" >0.1374</td>\n",
       "      <td id=\"T_c664a_row1_col9\" class=\"data row1 col9\" >0.0274</td>\n",
       "      <td id=\"T_c664a_row1_col10\" class=\"data row1 col10\" >0.0000</td>\n",
       "    </tr>\n",
       "    <tr>\n",
       "      <th id=\"T_c664a_level0_row2\" class=\"row_heading level0 row2\" >2</th>\n",
       "      <td id=\"T_c664a_row2_col0\" class=\"data row2 col0\" >0.0498</td>\n",
       "      <td id=\"T_c664a_row2_col1\" class=\"data row2 col1\" >0.0121</td>\n",
       "      <td id=\"T_c664a_row2_col2\" class=\"data row2 col2\" >0.1099</td>\n",
       "      <td id=\"T_c664a_row2_col3\" class=\"data row2 col3\" >0.9733</td>\n",
       "      <td id=\"T_c664a_row2_col4\" class=\"data row2 col4\" >0.0225</td>\n",
       "      <td id=\"T_c664a_row2_col5\" class=\"data row2 col5\" >0.0126</td>\n",
       "      <td id=\"T_c664a_row2_col6\" class=\"data row2 col6\" >0.0143</td>\n",
       "      <td id=\"T_c664a_row2_col7\" class=\"data row2 col7\" >0.0021</td>\n",
       "      <td id=\"T_c664a_row2_col8\" class=\"data row2 col8\" >0.1099</td>\n",
       "      <td id=\"T_c664a_row2_col9\" class=\"data row2 col9\" >0.0231</td>\n",
       "      <td id=\"T_c664a_row2_col10\" class=\"data row2 col10\" >0.0000</td>\n",
       "    </tr>\n",
       "    <tr>\n",
       "      <th id=\"T_c664a_level0_row3\" class=\"row_heading level0 row3\" >3</th>\n",
       "      <td id=\"T_c664a_row3_col0\" class=\"data row3 col0\" >0.0445</td>\n",
       "      <td id=\"T_c664a_row3_col1\" class=\"data row3 col1\" >0.0050</td>\n",
       "      <td id=\"T_c664a_row3_col2\" class=\"data row3 col2\" >0.0706</td>\n",
       "      <td id=\"T_c664a_row3_col3\" class=\"data row3 col3\" >0.9933</td>\n",
       "      <td id=\"T_c664a_row3_col4\" class=\"data row3 col4\" >0.0142</td>\n",
       "      <td id=\"T_c664a_row3_col5\" class=\"data row3 col5\" >0.0108</td>\n",
       "      <td id=\"T_c664a_row3_col6\" class=\"data row3 col6\" >0.0207</td>\n",
       "      <td id=\"T_c664a_row3_col7\" class=\"data row3 col7\" >0.0029</td>\n",
       "      <td id=\"T_c664a_row3_col8\" class=\"data row3 col8\" >0.0706</td>\n",
       "      <td id=\"T_c664a_row3_col9\" class=\"data row3 col9\" >0.0144</td>\n",
       "      <td id=\"T_c664a_row3_col10\" class=\"data row3 col10\" >0.0000</td>\n",
       "    </tr>\n",
       "    <tr>\n",
       "      <th id=\"T_c664a_level0_row4\" class=\"row_heading level0 row4\" >4</th>\n",
       "      <td id=\"T_c664a_row4_col0\" class=\"data row4 col0\" >0.2099</td>\n",
       "      <td id=\"T_c664a_row4_col1\" class=\"data row4 col1\" >0.0717</td>\n",
       "      <td id=\"T_c664a_row4_col2\" class=\"data row4 col2\" >0.2678</td>\n",
       "      <td id=\"T_c664a_row4_col3\" class=\"data row4 col3\" >0.8835</td>\n",
       "      <td id=\"T_c664a_row4_col4\" class=\"data row4 col4\" >0.0519</td>\n",
       "      <td id=\"T_c664a_row4_col5\" class=\"data row4 col5\" >0.0497</td>\n",
       "      <td id=\"T_c664a_row4_col6\" class=\"data row4 col6\" >0.2676</td>\n",
       "      <td id=\"T_c664a_row4_col7\" class=\"data row4 col7\" >0.0525</td>\n",
       "      <td id=\"T_c664a_row4_col8\" class=\"data row4 col8\" >0.2678</td>\n",
       "      <td id=\"T_c664a_row4_col9\" class=\"data row4 col9\" >0.0505</td>\n",
       "      <td id=\"T_c664a_row4_col10\" class=\"data row4 col10\" >0.0000</td>\n",
       "    </tr>\n",
       "    <tr>\n",
       "      <th id=\"T_c664a_level0_row5\" class=\"row_heading level0 row5\" >5</th>\n",
       "      <td id=\"T_c664a_row5_col0\" class=\"data row5 col0\" >0.1101</td>\n",
       "      <td id=\"T_c664a_row5_col1\" class=\"data row5 col1\" >0.0184</td>\n",
       "      <td id=\"T_c664a_row5_col2\" class=\"data row5 col2\" >0.1355</td>\n",
       "      <td id=\"T_c664a_row5_col3\" class=\"data row5 col3\" >0.9827</td>\n",
       "      <td id=\"T_c664a_row5_col4\" class=\"data row5 col4\" >0.0268</td>\n",
       "      <td id=\"T_c664a_row5_col5\" class=\"data row5 col5\" >0.0274</td>\n",
       "      <td id=\"T_c664a_row5_col6\" class=\"data row5 col6\" >0.1751</td>\n",
       "      <td id=\"T_c664a_row5_col7\" class=\"data row5 col7\" >0.0372</td>\n",
       "      <td id=\"T_c664a_row5_col8\" class=\"data row5 col8\" >0.1355</td>\n",
       "      <td id=\"T_c664a_row5_col9\" class=\"data row5 col9\" >0.0268</td>\n",
       "      <td id=\"T_c664a_row5_col10\" class=\"data row5 col10\" >0.0000</td>\n",
       "    </tr>\n",
       "    <tr>\n",
       "      <th id=\"T_c664a_level0_row6\" class=\"row_heading level0 row6\" >6</th>\n",
       "      <td id=\"T_c664a_row6_col0\" class=\"data row6 col0\" >0.0171</td>\n",
       "      <td id=\"T_c664a_row6_col1\" class=\"data row6 col1\" >0.0006</td>\n",
       "      <td id=\"T_c664a_row6_col2\" class=\"data row6 col2\" >0.0239</td>\n",
       "      <td id=\"T_c664a_row6_col3\" class=\"data row6 col3\" >0.9991</td>\n",
       "      <td id=\"T_c664a_row6_col4\" class=\"data row6 col4\" >0.0046</td>\n",
       "      <td id=\"T_c664a_row6_col5\" class=\"data row6 col5\" >0.0040</td>\n",
       "      <td id=\"T_c664a_row6_col6\" class=\"data row6 col6\" >0.0071</td>\n",
       "      <td id=\"T_c664a_row6_col7\" class=\"data row6 col7\" >0.0014</td>\n",
       "      <td id=\"T_c664a_row6_col8\" class=\"data row6 col8\" >0.0239</td>\n",
       "      <td id=\"T_c664a_row6_col9\" class=\"data row6 col9\" >0.0046</td>\n",
       "      <td id=\"T_c664a_row6_col10\" class=\"data row6 col10\" >0.0000</td>\n",
       "    </tr>\n",
       "    <tr>\n",
       "      <th id=\"T_c664a_level0_row7\" class=\"row_heading level0 row7\" >7</th>\n",
       "      <td id=\"T_c664a_row7_col0\" class=\"data row7 col0\" >0.2823</td>\n",
       "      <td id=\"T_c664a_row7_col1\" class=\"data row7 col1\" >0.4660</td>\n",
       "      <td id=\"T_c664a_row7_col2\" class=\"data row7 col2\" >0.6826</td>\n",
       "      <td id=\"T_c664a_row7_col3\" class=\"data row7 col3\" >0.4473</td>\n",
       "      <td id=\"T_c664a_row7_col4\" class=\"data row7 col4\" >0.1186</td>\n",
       "      <td id=\"T_c664a_row7_col5\" class=\"data row7 col5\" >0.0718</td>\n",
       "      <td id=\"T_c664a_row7_col6\" class=\"data row7 col6\" >0.0330</td>\n",
       "      <td id=\"T_c664a_row7_col7\" class=\"data row7 col7\" >0.0049</td>\n",
       "      <td id=\"T_c664a_row7_col8\" class=\"data row7 col8\" >0.6826</td>\n",
       "      <td id=\"T_c664a_row7_col9\" class=\"data row7 col9\" >0.1392</td>\n",
       "      <td id=\"T_c664a_row7_col10\" class=\"data row7 col10\" >0.1429</td>\n",
       "    </tr>\n",
       "    <tr>\n",
       "      <th id=\"T_c664a_level0_row8\" class=\"row_heading level0 row8\" >8</th>\n",
       "      <td id=\"T_c664a_row8_col0\" class=\"data row8 col0\" >0.2217</td>\n",
       "      <td id=\"T_c664a_row8_col1\" class=\"data row8 col1\" >0.1311</td>\n",
       "      <td id=\"T_c664a_row8_col2\" class=\"data row8 col2\" >0.3621</td>\n",
       "      <td id=\"T_c664a_row8_col3\" class=\"data row8 col3\" >0.6566</td>\n",
       "      <td id=\"T_c664a_row8_col4\" class=\"data row8 col4\" >0.0659</td>\n",
       "      <td id=\"T_c664a_row8_col5\" class=\"data row8 col5\" >0.0536</td>\n",
       "      <td id=\"T_c664a_row8_col6\" class=\"data row8 col6\" >0.2777</td>\n",
       "      <td id=\"T_c664a_row8_col7\" class=\"data row8 col7\" >0.0495</td>\n",
       "      <td id=\"T_c664a_row8_col8\" class=\"data row8 col8\" >0.3621</td>\n",
       "      <td id=\"T_c664a_row8_col9\" class=\"data row8 col9\" >0.0707</td>\n",
       "      <td id=\"T_c664a_row8_col10\" class=\"data row8 col10\" >0.1429</td>\n",
       "    </tr>\n",
       "    <tr>\n",
       "      <th id=\"T_c664a_level0_row9\" class=\"row_heading level0 row9\" >9</th>\n",
       "      <td id=\"T_c664a_row9_col0\" class=\"data row9 col0\" >0.0372</td>\n",
       "      <td id=\"T_c664a_row9_col1\" class=\"data row9 col1\" >0.0042</td>\n",
       "      <td id=\"T_c664a_row9_col2\" class=\"data row9 col2\" >0.0646</td>\n",
       "      <td id=\"T_c664a_row9_col3\" class=\"data row9 col3\" >0.9854</td>\n",
       "      <td id=\"T_c664a_row9_col4\" class=\"data row9 col4\" >0.0134</td>\n",
       "      <td id=\"T_c664a_row9_col5\" class=\"data row9 col5\" >0.0097</td>\n",
       "      <td id=\"T_c664a_row9_col6\" class=\"data row9 col6\" >0.0237</td>\n",
       "      <td id=\"T_c664a_row9_col7\" class=\"data row9 col7\" >0.0045</td>\n",
       "      <td id=\"T_c664a_row9_col8\" class=\"data row9 col8\" >0.0646</td>\n",
       "      <td id=\"T_c664a_row9_col9\" class=\"data row9 col9\" >0.0137</td>\n",
       "      <td id=\"T_c664a_row9_col10\" class=\"data row9 col10\" >0.0000</td>\n",
       "    </tr>\n",
       "    <tr>\n",
       "      <th id=\"T_c664a_level0_row10\" class=\"row_heading level0 row10\" >Mean</th>\n",
       "      <td id=\"T_c664a_row10_col0\" class=\"data row10 col0\" >0.1079</td>\n",
       "      <td id=\"T_c664a_row10_col1\" class=\"data row10 col1\" >0.0729</td>\n",
       "      <td id=\"T_c664a_row10_col2\" class=\"data row10 col2\" >0.1890</td>\n",
       "      <td id=\"T_c664a_row10_col3\" class=\"data row10 col3\" >0.8885</td>\n",
       "      <td id=\"T_c664a_row10_col4\" class=\"data row10 col4\" >0.0352</td>\n",
       "      <td id=\"T_c664a_row10_col5\" class=\"data row10 col5\" >0.0265</td>\n",
       "      <td id=\"T_c664a_row10_col6\" class=\"data row10 col6\" >0.0877</td>\n",
       "      <td id=\"T_c664a_row10_col7\" class=\"data row10 col7\" >0.0164</td>\n",
       "      <td id=\"T_c664a_row10_col8\" class=\"data row10 col8\" >0.1890</td>\n",
       "      <td id=\"T_c664a_row10_col9\" class=\"data row10 col9\" >0.0377</td>\n",
       "      <td id=\"T_c664a_row10_col10\" class=\"data row10 col10\" >0.0286</td>\n",
       "    </tr>\n",
       "    <tr>\n",
       "      <th id=\"T_c664a_level0_row11\" class=\"row_heading level0 row11\" >Std</th>\n",
       "      <td id=\"T_c664a_row11_col0\" class=\"data row11 col0\" >0.0903</td>\n",
       "      <td id=\"T_c664a_row11_col1\" class=\"data row11 col1\" >0.1368</td>\n",
       "      <td id=\"T_c664a_row11_col2\" class=\"data row11 col2\" >0.1929</td>\n",
       "      <td id=\"T_c664a_row11_col3\" class=\"data row11 col3\" >0.1775</td>\n",
       "      <td id=\"T_c664a_row11_col4\" class=\"data row11 col4\" >0.0334</td>\n",
       "      <td id=\"T_c664a_row11_col5\" class=\"data row11 col5\" >0.0224</td>\n",
       "      <td id=\"T_c664a_row11_col6\" class=\"data row11 col6\" >0.1034</td>\n",
       "      <td id=\"T_c664a_row11_col7\" class=\"data row11 col7\" >0.0200</td>\n",
       "      <td id=\"T_c664a_row11_col8\" class=\"data row11 col8\" >0.1929</td>\n",
       "      <td id=\"T_c664a_row11_col9\" class=\"data row11 col9\" >0.0389</td>\n",
       "      <td id=\"T_c664a_row11_col10\" class=\"data row11 col10\" >0.0571</td>\n",
       "    </tr>\n",
       "  </tbody>\n",
       "</table>\n"
      ],
      "text/plain": [
       "<pandas.io.formats.style.Styler at 0x7ff0e4637730>"
      ]
     },
     "metadata": {},
     "output_type": "display_data"
    }
   ],
   "source": [
    "stacked_model_z = pyr.stack_models(estimator_list=top_model_z[1:], meta_model=top_model_z[0], optimize='s_mad')"
   ]
  },
  {
   "cell_type": "code",
   "execution_count": 82,
   "id": "2f84b8ef",
   "metadata": {
    "id": "Dz0XvX17teel"
   },
   "outputs": [
    {
     "data": {
      "text/html": [
       "<style type=\"text/css\">\n",
       "#T_c6306_row10_col0, #T_c6306_row10_col1, #T_c6306_row10_col2, #T_c6306_row10_col3, #T_c6306_row10_col4, #T_c6306_row10_col5, #T_c6306_row10_col6, #T_c6306_row10_col7, #T_c6306_row10_col8, #T_c6306_row10_col9, #T_c6306_row10_col10 {\n",
       "  background: yellow;\n",
       "}\n",
       "</style>\n",
       "<table id=\"T_c6306\">\n",
       "  <thead>\n",
       "    <tr>\n",
       "      <th class=\"blank level0\" >&nbsp;</th>\n",
       "      <th id=\"T_c6306_level0_col0\" class=\"col_heading level0 col0\" >MAE</th>\n",
       "      <th id=\"T_c6306_level0_col1\" class=\"col_heading level0 col1\" >MSE</th>\n",
       "      <th id=\"T_c6306_level0_col2\" class=\"col_heading level0 col2\" >RMSE</th>\n",
       "      <th id=\"T_c6306_level0_col3\" class=\"col_heading level0 col3\" >R2</th>\n",
       "      <th id=\"T_c6306_level0_col4\" class=\"col_heading level0 col4\" >RMSLE</th>\n",
       "      <th id=\"T_c6306_level0_col5\" class=\"col_heading level0 col5\" >MAPE</th>\n",
       "      <th id=\"T_c6306_level0_col6\" class=\"col_heading level0 col6\" >sigma_mad</th>\n",
       "      <th id=\"T_c6306_level0_col7\" class=\"col_heading level0 col7\" >sigma_nmad</th>\n",
       "      <th id=\"T_c6306_level0_col8\" class=\"col_heading level0 col8\" >sigma_z</th>\n",
       "      <th id=\"T_c6306_level0_col9\" class=\"col_heading level0 col9\" >sigma_z_norm</th>\n",
       "      <th id=\"T_c6306_level0_col10\" class=\"col_heading level0 col10\" >outlier_fr</th>\n",
       "    </tr>\n",
       "    <tr>\n",
       "      <th class=\"index_name level0\" >Fold</th>\n",
       "      <th class=\"blank col0\" >&nbsp;</th>\n",
       "      <th class=\"blank col1\" >&nbsp;</th>\n",
       "      <th class=\"blank col2\" >&nbsp;</th>\n",
       "      <th class=\"blank col3\" >&nbsp;</th>\n",
       "      <th class=\"blank col4\" >&nbsp;</th>\n",
       "      <th class=\"blank col5\" >&nbsp;</th>\n",
       "      <th class=\"blank col6\" >&nbsp;</th>\n",
       "      <th class=\"blank col7\" >&nbsp;</th>\n",
       "      <th class=\"blank col8\" >&nbsp;</th>\n",
       "      <th class=\"blank col9\" >&nbsp;</th>\n",
       "      <th class=\"blank col10\" >&nbsp;</th>\n",
       "    </tr>\n",
       "  </thead>\n",
       "  <tbody>\n",
       "    <tr>\n",
       "      <th id=\"T_c6306_level0_row0\" class=\"row_heading level0 row0\" >0</th>\n",
       "      <td id=\"T_c6306_row0_col0\" class=\"data row0 col0\" >0.0746</td>\n",
       "      <td id=\"T_c6306_row0_col1\" class=\"data row0 col1\" >0.0106</td>\n",
       "      <td id=\"T_c6306_row0_col2\" class=\"data row0 col2\" >0.1030</td>\n",
       "      <td id=\"T_c6306_row0_col3\" class=\"data row0 col3\" >0.9866</td>\n",
       "      <td id=\"T_c6306_row0_col4\" class=\"data row0 col4\" >0.0208</td>\n",
       "      <td id=\"T_c6306_row0_col5\" class=\"data row0 col5\" >0.0181</td>\n",
       "      <td id=\"T_c6306_row0_col6\" class=\"data row0 col6\" >0.0593</td>\n",
       "      <td id=\"T_c6306_row0_col7\" class=\"data row0 col7\" >0.0119</td>\n",
       "      <td id=\"T_c6306_row0_col8\" class=\"data row0 col8\" >0.1030</td>\n",
       "      <td id=\"T_c6306_row0_col9\" class=\"data row0 col9\" >0.0212</td>\n",
       "      <td id=\"T_c6306_row0_col10\" class=\"data row0 col10\" >0.0000</td>\n",
       "    </tr>\n",
       "    <tr>\n",
       "      <th id=\"T_c6306_level0_row1\" class=\"row_heading level0 row1\" >1</th>\n",
       "      <td id=\"T_c6306_row1_col0\" class=\"data row1 col0\" >0.0872</td>\n",
       "      <td id=\"T_c6306_row1_col1\" class=\"data row1 col1\" >0.0099</td>\n",
       "      <td id=\"T_c6306_row1_col2\" class=\"data row1 col2\" >0.0997</td>\n",
       "      <td id=\"T_c6306_row1_col3\" class=\"data row1 col3\" >0.9819</td>\n",
       "      <td id=\"T_c6306_row1_col4\" class=\"data row1 col4\" >0.0179</td>\n",
       "      <td id=\"T_c6306_row1_col5\" class=\"data row1 col5\" >0.0184</td>\n",
       "      <td id=\"T_c6306_row1_col6\" class=\"data row1 col6\" >0.1632</td>\n",
       "      <td id=\"T_c6306_row1_col7\" class=\"data row1 col7\" >0.0281</td>\n",
       "      <td id=\"T_c6306_row1_col8\" class=\"data row1 col8\" >0.0997</td>\n",
       "      <td id=\"T_c6306_row1_col9\" class=\"data row1 col9\" >0.0180</td>\n",
       "      <td id=\"T_c6306_row1_col10\" class=\"data row1 col10\" >0.0000</td>\n",
       "    </tr>\n",
       "    <tr>\n",
       "      <th id=\"T_c6306_level0_row2\" class=\"row_heading level0 row2\" >2</th>\n",
       "      <td id=\"T_c6306_row2_col0\" class=\"data row2 col0\" >0.0947</td>\n",
       "      <td id=\"T_c6306_row2_col1\" class=\"data row2 col1\" >0.0134</td>\n",
       "      <td id=\"T_c6306_row2_col2\" class=\"data row2 col2\" >0.1160</td>\n",
       "      <td id=\"T_c6306_row2_col3\" class=\"data row2 col3\" >0.9702</td>\n",
       "      <td id=\"T_c6306_row2_col4\" class=\"data row2 col4\" >0.0218</td>\n",
       "      <td id=\"T_c6306_row2_col5\" class=\"data row2 col5\" >0.0205</td>\n",
       "      <td id=\"T_c6306_row2_col6\" class=\"data row2 col6\" >0.1473</td>\n",
       "      <td id=\"T_c6306_row2_col7\" class=\"data row2 col7\" >0.0220</td>\n",
       "      <td id=\"T_c6306_row2_col8\" class=\"data row2 col8\" >0.1160</td>\n",
       "      <td id=\"T_c6306_row2_col9\" class=\"data row2 col9\" >0.0221</td>\n",
       "      <td id=\"T_c6306_row2_col10\" class=\"data row2 col10\" >0.0000</td>\n",
       "    </tr>\n",
       "    <tr>\n",
       "      <th id=\"T_c6306_level0_row3\" class=\"row_heading level0 row3\" >3</th>\n",
       "      <td id=\"T_c6306_row3_col0\" class=\"data row3 col0\" >0.1244</td>\n",
       "      <td id=\"T_c6306_row3_col1\" class=\"data row3 col1\" >0.0180</td>\n",
       "      <td id=\"T_c6306_row3_col2\" class=\"data row3 col2\" >0.1342</td>\n",
       "      <td id=\"T_c6306_row3_col3\" class=\"data row3 col3\" >0.9757</td>\n",
       "      <td id=\"T_c6306_row3_col4\" class=\"data row3 col4\" >0.0237</td>\n",
       "      <td id=\"T_c6306_row3_col5\" class=\"data row3 col5\" >0.0259</td>\n",
       "      <td id=\"T_c6306_row3_col6\" class=\"data row3 col6\" >0.2070</td>\n",
       "      <td id=\"T_c6306_row3_col7\" class=\"data row3 col7\" >0.0286</td>\n",
       "      <td id=\"T_c6306_row3_col8\" class=\"data row3 col8\" >0.1342</td>\n",
       "      <td id=\"T_c6306_row3_col9\" class=\"data row3 col9\" >0.0236</td>\n",
       "      <td id=\"T_c6306_row3_col10\" class=\"data row3 col10\" >0.0000</td>\n",
       "    </tr>\n",
       "    <tr>\n",
       "      <th id=\"T_c6306_level0_row4\" class=\"row_heading level0 row4\" >4</th>\n",
       "      <td id=\"T_c6306_row4_col0\" class=\"data row4 col0\" >0.2434</td>\n",
       "      <td id=\"T_c6306_row4_col1\" class=\"data row4 col1\" >0.0914</td>\n",
       "      <td id=\"T_c6306_row4_col2\" class=\"data row4 col2\" >0.3023</td>\n",
       "      <td id=\"T_c6306_row4_col3\" class=\"data row4 col3\" >0.8515</td>\n",
       "      <td id=\"T_c6306_row4_col4\" class=\"data row4 col4\" >0.0584</td>\n",
       "      <td id=\"T_c6306_row4_col5\" class=\"data row4 col5\" >0.0566</td>\n",
       "      <td id=\"T_c6306_row4_col6\" class=\"data row4 col6\" >0.2592</td>\n",
       "      <td id=\"T_c6306_row4_col7\" class=\"data row4 col7\" >0.0509</td>\n",
       "      <td id=\"T_c6306_row4_col8\" class=\"data row4 col8\" >0.3023</td>\n",
       "      <td id=\"T_c6306_row4_col9\" class=\"data row4 col9\" >0.0565</td>\n",
       "      <td id=\"T_c6306_row4_col10\" class=\"data row4 col10\" >0.0000</td>\n",
       "    </tr>\n",
       "    <tr>\n",
       "      <th id=\"T_c6306_level0_row5\" class=\"row_heading level0 row5\" >5</th>\n",
       "      <td id=\"T_c6306_row5_col0\" class=\"data row5 col0\" >0.1503</td>\n",
       "      <td id=\"T_c6306_row5_col1\" class=\"data row5 col1\" >0.0266</td>\n",
       "      <td id=\"T_c6306_row5_col2\" class=\"data row5 col2\" >0.1632</td>\n",
       "      <td id=\"T_c6306_row5_col3\" class=\"data row5 col3\" >0.9749</td>\n",
       "      <td id=\"T_c6306_row5_col4\" class=\"data row5 col4\" >0.0310</td>\n",
       "      <td id=\"T_c6306_row5_col5\" class=\"data row5 col5\" >0.0346</td>\n",
       "      <td id=\"T_c6306_row5_col6\" class=\"data row5 col6\" >0.2078</td>\n",
       "      <td id=\"T_c6306_row5_col7\" class=\"data row5 col7\" >0.0341</td>\n",
       "      <td id=\"T_c6306_row5_col8\" class=\"data row5 col8\" >0.1632</td>\n",
       "      <td id=\"T_c6306_row5_col9\" class=\"data row5 col9\" >0.0314</td>\n",
       "      <td id=\"T_c6306_row5_col10\" class=\"data row5 col10\" >0.0000</td>\n",
       "    </tr>\n",
       "    <tr>\n",
       "      <th id=\"T_c6306_level0_row6\" class=\"row_heading level0 row6\" >6</th>\n",
       "      <td id=\"T_c6306_row6_col0\" class=\"data row6 col0\" >0.0740</td>\n",
       "      <td id=\"T_c6306_row6_col1\" class=\"data row6 col1\" >0.0083</td>\n",
       "      <td id=\"T_c6306_row6_col2\" class=\"data row6 col2\" >0.0911</td>\n",
       "      <td id=\"T_c6306_row6_col3\" class=\"data row6 col3\" >0.9873</td>\n",
       "      <td id=\"T_c6306_row6_col4\" class=\"data row6 col4\" >0.0166</td>\n",
       "      <td id=\"T_c6306_row6_col5\" class=\"data row6 col5\" >0.0164</td>\n",
       "      <td id=\"T_c6306_row6_col6\" class=\"data row6 col6\" >0.0943</td>\n",
       "      <td id=\"T_c6306_row6_col7\" class=\"data row6 col7\" >0.0138</td>\n",
       "      <td id=\"T_c6306_row6_col8\" class=\"data row6 col8\" >0.0911</td>\n",
       "      <td id=\"T_c6306_row6_col9\" class=\"data row6 col9\" >0.0166</td>\n",
       "      <td id=\"T_c6306_row6_col10\" class=\"data row6 col10\" >0.0000</td>\n",
       "    </tr>\n",
       "    <tr>\n",
       "      <th id=\"T_c6306_level0_row7\" class=\"row_heading level0 row7\" >7</th>\n",
       "      <td id=\"T_c6306_row7_col0\" class=\"data row7 col0\" >0.2952</td>\n",
       "      <td id=\"T_c6306_row7_col1\" class=\"data row7 col1\" >0.4681</td>\n",
       "      <td id=\"T_c6306_row7_col2\" class=\"data row7 col2\" >0.6842</td>\n",
       "      <td id=\"T_c6306_row7_col3\" class=\"data row7 col3\" >0.4448</td>\n",
       "      <td id=\"T_c6306_row7_col4\" class=\"data row7 col4\" >0.1187</td>\n",
       "      <td id=\"T_c6306_row7_col5\" class=\"data row7 col5\" >0.0734</td>\n",
       "      <td id=\"T_c6306_row7_col6\" class=\"data row7 col6\" >0.0648</td>\n",
       "      <td id=\"T_c6306_row7_col7\" class=\"data row7 col7\" >0.0130</td>\n",
       "      <td id=\"T_c6306_row7_col8\" class=\"data row7 col8\" >0.6842</td>\n",
       "      <td id=\"T_c6306_row7_col9\" class=\"data row7 col9\" >0.1394</td>\n",
       "      <td id=\"T_c6306_row7_col10\" class=\"data row7 col10\" >0.1429</td>\n",
       "    </tr>\n",
       "    <tr>\n",
       "      <th id=\"T_c6306_level0_row8\" class=\"row_heading level0 row8\" >8</th>\n",
       "      <td id=\"T_c6306_row8_col0\" class=\"data row8 col0\" >0.2090</td>\n",
       "      <td id=\"T_c6306_row8_col1\" class=\"data row8 col1\" >0.0988</td>\n",
       "      <td id=\"T_c6306_row8_col2\" class=\"data row8 col2\" >0.3143</td>\n",
       "      <td id=\"T_c6306_row8_col3\" class=\"data row8 col3\" >0.7413</td>\n",
       "      <td id=\"T_c6306_row8_col4\" class=\"data row8 col4\" >0.0583</td>\n",
       "      <td id=\"T_c6306_row8_col5\" class=\"data row8 col5\" >0.0507</td>\n",
       "      <td id=\"T_c6306_row8_col6\" class=\"data row8 col6\" >0.1619</td>\n",
       "      <td id=\"T_c6306_row8_col7\" class=\"data row8 col7\" >0.0335</td>\n",
       "      <td id=\"T_c6306_row8_col8\" class=\"data row8 col8\" >0.3143</td>\n",
       "      <td id=\"T_c6306_row8_col9\" class=\"data row8 col9\" >0.0615</td>\n",
       "      <td id=\"T_c6306_row8_col10\" class=\"data row8 col10\" >0.0000</td>\n",
       "    </tr>\n",
       "    <tr>\n",
       "      <th id=\"T_c6306_level0_row9\" class=\"row_heading level0 row9\" >9</th>\n",
       "      <td id=\"T_c6306_row9_col0\" class=\"data row9 col0\" >0.1130</td>\n",
       "      <td id=\"T_c6306_row9_col1\" class=\"data row9 col1\" >0.0191</td>\n",
       "      <td id=\"T_c6306_row9_col2\" class=\"data row9 col2\" >0.1381</td>\n",
       "      <td id=\"T_c6306_row9_col3\" class=\"data row9 col3\" >0.9332</td>\n",
       "      <td id=\"T_c6306_row9_col4\" class=\"data row9 col4\" >0.0274</td>\n",
       "      <td id=\"T_c6306_row9_col5\" class=\"data row9 col5\" >0.0275</td>\n",
       "      <td id=\"T_c6306_row9_col6\" class=\"data row9 col6\" >0.1686</td>\n",
       "      <td id=\"T_c6306_row9_col7\" class=\"data row9 col7\" >0.0281</td>\n",
       "      <td id=\"T_c6306_row9_col8\" class=\"data row9 col8\" >0.1381</td>\n",
       "      <td id=\"T_c6306_row9_col9\" class=\"data row9 col9\" >0.0279</td>\n",
       "      <td id=\"T_c6306_row9_col10\" class=\"data row9 col10\" >0.0000</td>\n",
       "    </tr>\n",
       "    <tr>\n",
       "      <th id=\"T_c6306_level0_row10\" class=\"row_heading level0 row10\" >Mean</th>\n",
       "      <td id=\"T_c6306_row10_col0\" class=\"data row10 col0\" >0.1466</td>\n",
       "      <td id=\"T_c6306_row10_col1\" class=\"data row10 col1\" >0.0764</td>\n",
       "      <td id=\"T_c6306_row10_col2\" class=\"data row10 col2\" >0.2146</td>\n",
       "      <td id=\"T_c6306_row10_col3\" class=\"data row10 col3\" >0.8847</td>\n",
       "      <td id=\"T_c6306_row10_col4\" class=\"data row10 col4\" >0.0395</td>\n",
       "      <td id=\"T_c6306_row10_col5\" class=\"data row10 col5\" >0.0342</td>\n",
       "      <td id=\"T_c6306_row10_col6\" class=\"data row10 col6\" >0.1533</td>\n",
       "      <td id=\"T_c6306_row10_col7\" class=\"data row10 col7\" >0.0264</td>\n",
       "      <td id=\"T_c6306_row10_col8\" class=\"data row10 col8\" >0.2146</td>\n",
       "      <td id=\"T_c6306_row10_col9\" class=\"data row10 col9\" >0.0418</td>\n",
       "      <td id=\"T_c6306_row10_col10\" class=\"data row10 col10\" >0.0143</td>\n",
       "    </tr>\n",
       "    <tr>\n",
       "      <th id=\"T_c6306_level0_row11\" class=\"row_heading level0 row11\" >Std</th>\n",
       "      <td id=\"T_c6306_row11_col0\" class=\"data row11 col0\" >0.0733</td>\n",
       "      <td id=\"T_c6306_row11_col1\" class=\"data row11 col1\" >0.1344</td>\n",
       "      <td id=\"T_c6306_row11_col2\" class=\"data row11 col2\" >0.1743</td>\n",
       "      <td id=\"T_c6306_row11_col3\" class=\"data row11 col3\" >0.1648</td>\n",
       "      <td id=\"T_c6306_row11_col4\" class=\"data row11 col4\" >0.0302</td>\n",
       "      <td id=\"T_c6306_row11_col5\" class=\"data row11 col5\" >0.0185</td>\n",
       "      <td id=\"T_c6306_row11_col6\" class=\"data row11 col6\" >0.0614</td>\n",
       "      <td id=\"T_c6306_row11_col7\" class=\"data row11 col7\" >0.0113</td>\n",
       "      <td id=\"T_c6306_row11_col8\" class=\"data row11 col8\" >0.1743</td>\n",
       "      <td id=\"T_c6306_row11_col9\" class=\"data row11 col9\" >0.0357</td>\n",
       "      <td id=\"T_c6306_row11_col10\" class=\"data row11 col10\" >0.0429</td>\n",
       "    </tr>\n",
       "  </tbody>\n",
       "</table>\n"
      ],
      "text/plain": [
       "<pandas.io.formats.style.Styler at 0x7ff0b8f2c070>"
      ]
     },
     "metadata": {},
     "output_type": "display_data"
    }
   ],
   "source": [
    "tuned_z_reg = pyr.tune_model(stacked_model_z, early_stopping='asha', optimize='s_mad') # ,\\\n",
    "#                                search_library='tune-sklearn', search_algorithm='random')  # 1h30"
   ]
  },
  {
   "cell_type": "code",
   "execution_count": 83,
   "id": "cae35679",
   "metadata": {
    "id": "GJfDVspZtn7Z"
   },
   "outputs": [
    {
     "data": {
      "image/png": "[encoded data removed]",
      "text/plain": [
       "<Figure size 640x480 with 1 Axes>"
      ]
     },
     "metadata": {},
     "output_type": "display_data"
    }
   ],
   "source": [
    "pyr.plot_model(tuned_z_reg, plot='error')"
   ]
  },
  {
   "cell_type": "code",
   "execution_count": 84,
   "id": "7d49a51b",
   "metadata": {
    "id": "3N6_OxWptsEe",
    "tags": []
   },
   "outputs": [
    {
     "data": {
      "image/png": "[encoded data removed]",
      "text/plain": [
       "<Figure size 640x480 with 2 Axes>"
      ]
     },
     "metadata": {},
     "output_type": "display_data"
    }
   ],
   "source": [
    "pyr.plot_model(tuned_z_reg, plot='residuals')"
   ]
  },
  {
   "cell_type": "code",
   "execution_count": 86,
   "id": "086c58f2",
   "metadata": {
    "id": "Mq15jdjqtv3Y"
   },
   "outputs": [
    {
     "data": {
      "image/png": "[encoded data removed]",
      "text/plain": [
       "<Figure size 800x0 with 1 Axes>"
      ]
     },
     "metadata": {},
     "output_type": "display_data"
    }
   ],
   "source": [
    "pyr.plot_model(tuned_z_reg.estimators_[0], plot='feature_all')"
   ]
  },
  {
   "cell_type": "code",
   "execution_count": 87,
   "id": "5a944653",
   "metadata": {
    "id": "Mq15jdjqtv3Y"
   },
   "outputs": [
    {
     "data": {
      "text/html": [
       "<div>\n",
       "<style scoped>\n",
       "    .dataframe tbody tr th:only-of-type {\n",
       "        vertical-align: middle;\n",
       "    }\n",
       "\n",
       "    .dataframe tbody tr th {\n",
       "        vertical-align: top;\n",
       "    }\n",
       "\n",
       "    .dataframe thead th {\n",
       "        text-align: right;\n",
       "    }\n",
       "</style>\n",
       "<table border=\"1\" class=\"dataframe\">\n",
       "  <thead>\n",
       "    <tr style=\"text-align: right;\">\n",
       "      <th></th>\n",
       "      <th>Parameters</th>\n",
       "    </tr>\n",
       "  </thead>\n",
       "  <tbody>\n",
       "    <tr>\n",
       "      <th>bootstrap</th>\n",
       "      <td>True</td>\n",
       "    </tr>\n",
       "    <tr>\n",
       "      <th>ccp_alpha</th>\n",
       "      <td>0.0</td>\n",
       "    </tr>\n",
       "    <tr>\n",
       "      <th>criterion</th>\n",
       "      <td>mse</td>\n",
       "    </tr>\n",
       "    <tr>\n",
       "      <th>max_depth</th>\n",
       "      <td>5</td>\n",
       "    </tr>\n",
       "    <tr>\n",
       "      <th>max_features</th>\n",
       "      <td>1.0</td>\n",
       "    </tr>\n",
       "    <tr>\n",
       "      <th>max_leaf_nodes</th>\n",
       "      <td>None</td>\n",
       "    </tr>\n",
       "    <tr>\n",
       "      <th>max_samples</th>\n",
       "      <td>None</td>\n",
       "    </tr>\n",
       "    <tr>\n",
       "      <th>min_impurity_decrease</th>\n",
       "      <td>0.01</td>\n",
       "    </tr>\n",
       "    <tr>\n",
       "      <th>min_impurity_split</th>\n",
       "      <td>None</td>\n",
       "    </tr>\n",
       "    <tr>\n",
       "      <th>min_samples_leaf</th>\n",
       "      <td>2</td>\n",
       "    </tr>\n",
       "    <tr>\n",
       "      <th>min_samples_split</th>\n",
       "      <td>7</td>\n",
       "    </tr>\n",
       "    <tr>\n",
       "      <th>min_weight_fraction_leaf</th>\n",
       "      <td>0.0</td>\n",
       "    </tr>\n",
       "    <tr>\n",
       "      <th>n_estimators</th>\n",
       "      <td>280</td>\n",
       "    </tr>\n",
       "    <tr>\n",
       "      <th>n_jobs</th>\n",
       "      <td>12</td>\n",
       "    </tr>\n",
       "    <tr>\n",
       "      <th>oob_score</th>\n",
       "      <td>False</td>\n",
       "    </tr>\n",
       "    <tr>\n",
       "      <th>random_state</th>\n",
       "      <td>42</td>\n",
       "    </tr>\n",
       "    <tr>\n",
       "      <th>verbose</th>\n",
       "      <td>0</td>\n",
       "    </tr>\n",
       "    <tr>\n",
       "      <th>warm_start</th>\n",
       "      <td>False</td>\n",
       "    </tr>\n",
       "  </tbody>\n",
       "</table>\n",
       "</div>"
      ],
      "text/plain": [
       "                         Parameters\n",
       "bootstrap                      True\n",
       "ccp_alpha                       0.0\n",
       "criterion                       mse\n",
       "max_depth                         5\n",
       "max_features                    1.0\n",
       "max_leaf_nodes                 None\n",
       "max_samples                    None\n",
       "min_impurity_decrease          0.01\n",
       "min_impurity_split             None\n",
       "min_samples_leaf                  2\n",
       "min_samples_split                 7\n",
       "min_weight_fraction_leaf        0.0\n",
       "n_estimators                    280\n",
       "n_jobs                           12\n",
       "oob_score                     False\n",
       "random_state                     42\n",
       "verbose                           0\n",
       "warm_start                    False"
      ]
     },
     "metadata": {},
     "output_type": "display_data"
    }
   ],
   "source": [
    "pyr.plot_model(tuned_z_reg.final_estimator, plot='parameter')"
   ]
  },
  {
   "cell_type": "code",
   "execution_count": 88,
   "id": "2f432330",
   "metadata": {
    "id": "t2CRgDLptzuE"
   },
   "outputs": [],
   "source": [
    "plt.rcParams.update(plt.rcParamsDefault)"
   ]
  },
  {
   "cell_type": "code",
   "execution_count": 89,
   "id": "0198f30f",
   "metadata": {},
   "outputs": [
    {
     "data": {
      "text/html": [
       "<style type=\"text/css\">\n",
       "</style>\n",
       "<table id=\"T_a2f49\">\n",
       "  <thead>\n",
       "    <tr>\n",
       "      <th class=\"blank level0\" >&nbsp;</th>\n",
       "      <th id=\"T_a2f49_level0_col0\" class=\"col_heading level0 col0\" >Model</th>\n",
       "      <th id=\"T_a2f49_level0_col1\" class=\"col_heading level0 col1\" >MAE</th>\n",
       "      <th id=\"T_a2f49_level0_col2\" class=\"col_heading level0 col2\" >MSE</th>\n",
       "      <th id=\"T_a2f49_level0_col3\" class=\"col_heading level0 col3\" >RMSE</th>\n",
       "      <th id=\"T_a2f49_level0_col4\" class=\"col_heading level0 col4\" >R2</th>\n",
       "      <th id=\"T_a2f49_level0_col5\" class=\"col_heading level0 col5\" >RMSLE</th>\n",
       "      <th id=\"T_a2f49_level0_col6\" class=\"col_heading level0 col6\" >MAPE</th>\n",
       "      <th id=\"T_a2f49_level0_col7\" class=\"col_heading level0 col7\" >sigma_mad</th>\n",
       "      <th id=\"T_a2f49_level0_col8\" class=\"col_heading level0 col8\" >sigma_nmad</th>\n",
       "      <th id=\"T_a2f49_level0_col9\" class=\"col_heading level0 col9\" >sigma_z</th>\n",
       "      <th id=\"T_a2f49_level0_col10\" class=\"col_heading level0 col10\" >sigma_z_norm</th>\n",
       "      <th id=\"T_a2f49_level0_col11\" class=\"col_heading level0 col11\" >outlier_fr</th>\n",
       "    </tr>\n",
       "  </thead>\n",
       "  <tbody>\n",
       "    <tr>\n",
       "      <th id=\"T_a2f49_level0_row0\" class=\"row_heading level0 row0\" >0</th>\n",
       "      <td id=\"T_a2f49_row0_col0\" class=\"data row0 col0\" >Stacking Regressor</td>\n",
       "      <td id=\"T_a2f49_row0_col1\" class=\"data row0 col1\" >0.1193</td>\n",
       "      <td id=\"T_a2f49_row0_col2\" class=\"data row0 col2\" >0.0585</td>\n",
       "      <td id=\"T_a2f49_row0_col3\" class=\"data row0 col3\" >0.2419</td>\n",
       "      <td id=\"T_a2f49_row0_col4\" class=\"data row0 col4\" >0.8900</td>\n",
       "      <td id=\"T_a2f49_row0_col5\" class=\"data row0 col5\" >0.0410</td>\n",
       "      <td id=\"T_a2f49_row0_col6\" class=\"data row0 col6\" >0.0266</td>\n",
       "      <td id=\"T_a2f49_row0_col7\" class=\"data row0 col7\" >0.1196</td>\n",
       "      <td id=\"T_a2f49_row0_col8\" class=\"data row0 col8\" >0.0216</td>\n",
       "      <td id=\"T_a2f49_row0_col9\" class=\"data row0 col9\" >0.2419</td>\n",
       "      <td id=\"T_a2f49_row0_col10\" class=\"data row0 col10\" >0.0446</td>\n",
       "      <td id=\"T_a2f49_row0_col11\" class=\"data row0 col11\" >0.0333</td>\n",
       "    </tr>\n",
       "  </tbody>\n",
       "</table>\n"
      ],
      "text/plain": [
       "<pandas.io.formats.style.Styler at 0x7ff0ba0011c0>"
      ]
     },
     "metadata": {},
     "output_type": "display_data"
    },
    {
     "data": {
      "text/html": [
       "<div>\n",
       "<style scoped>\n",
       "    .dataframe tbody tr th:only-of-type {\n",
       "        vertical-align: middle;\n",
       "    }\n",
       "\n",
       "    .dataframe tbody tr th {\n",
       "        vertical-align: top;\n",
       "    }\n",
       "\n",
       "    .dataframe thead th {\n",
       "        text-align: right;\n",
       "    }\n",
       "</style>\n",
       "<table border=\"1\" class=\"dataframe\">\n",
       "  <thead>\n",
       "    <tr style=\"text-align: right;\">\n",
       "      <th></th>\n",
       "      <th>band_num</th>\n",
       "      <th>g_r</th>\n",
       "      <th>r_i</th>\n",
       "      <th>i_z</th>\n",
       "      <th>z_y</th>\n",
       "      <th>w1_w2</th>\n",
       "      <th>w2_w3</th>\n",
       "      <th>w3_w4</th>\n",
       "      <th>Z</th>\n",
       "      <th>Label</th>\n",
       "    </tr>\n",
       "  </thead>\n",
       "  <tbody>\n",
       "    <tr>\n",
       "      <th>0</th>\n",
       "      <td>-0.351552</td>\n",
       "      <td>1.336836</td>\n",
       "      <td>-0.426547</td>\n",
       "      <td>-1.040786</td>\n",
       "      <td>-1.780063</td>\n",
       "      <td>0.857763</td>\n",
       "      <td>1.198270</td>\n",
       "      <td>0.630177</td>\n",
       "      <td>3.998000</td>\n",
       "      <td>3.982016</td>\n",
       "    </tr>\n",
       "    <tr>\n",
       "      <th>1</th>\n",
       "      <td>-1.705125</td>\n",
       "      <td>-1.474228</td>\n",
       "      <td>-1.087634</td>\n",
       "      <td>1.644134</td>\n",
       "      <td>1.219760</td>\n",
       "      <td>0.663247</td>\n",
       "      <td>1.156761</td>\n",
       "      <td>0.562752</td>\n",
       "      <td>6.188034</td>\n",
       "      <td>6.143522</td>\n",
       "    </tr>\n",
       "    <tr>\n",
       "      <th>2</th>\n",
       "      <td>-0.351552</td>\n",
       "      <td>0.675054</td>\n",
       "      <td>-0.205185</td>\n",
       "      <td>-0.020091</td>\n",
       "      <td>-1.794812</td>\n",
       "      <td>0.857763</td>\n",
       "      <td>1.198270</td>\n",
       "      <td>0.630177</td>\n",
       "      <td>4.128000</td>\n",
       "      <td>4.007193</td>\n",
       "    </tr>\n",
       "    <tr>\n",
       "      <th>3</th>\n",
       "      <td>-0.351552</td>\n",
       "      <td>1.309004</td>\n",
       "      <td>0.724705</td>\n",
       "      <td>0.215516</td>\n",
       "      <td>0.226079</td>\n",
       "      <td>-1.968516</td>\n",
       "      <td>-0.726770</td>\n",
       "      <td>0.835948</td>\n",
       "      <td>5.007803</td>\n",
       "      <td>4.881387</td>\n",
       "    </tr>\n",
       "    <tr>\n",
       "      <th>4</th>\n",
       "      <td>0.639221</td>\n",
       "      <td>-0.503452</td>\n",
       "      <td>-0.749982</td>\n",
       "      <td>-0.290073</td>\n",
       "      <td>-0.518427</td>\n",
       "      <td>-0.818113</td>\n",
       "      <td>-1.063190</td>\n",
       "      <td>0.630177</td>\n",
       "      <td>3.785000</td>\n",
       "      <td>3.962900</td>\n",
       "    </tr>\n",
       "    <tr>\n",
       "      <th>5</th>\n",
       "      <td>0.639221</td>\n",
       "      <td>0.613270</td>\n",
       "      <td>-1.543158</td>\n",
       "      <td>-0.036384</td>\n",
       "      <td>-0.558531</td>\n",
       "      <td>-0.393664</td>\n",
       "      <td>-0.564019</td>\n",
       "      <td>-1.770852</td>\n",
       "      <td>3.770000</td>\n",
       "      <td>3.945378</td>\n",
       "    </tr>\n",
       "    <tr>\n",
       "      <th>6</th>\n",
       "      <td>0.639221</td>\n",
       "      <td>0.421398</td>\n",
       "      <td>-1.880667</td>\n",
       "      <td>-0.962844</td>\n",
       "      <td>-0.808976</td>\n",
       "      <td>-0.882884</td>\n",
       "      <td>1.198270</td>\n",
       "      <td>0.630177</td>\n",
       "      <td>3.770000</td>\n",
       "      <td>3.943267</td>\n",
       "    </tr>\n",
       "    <tr>\n",
       "      <th>7</th>\n",
       "      <td>0.132539</td>\n",
       "      <td>1.010804</td>\n",
       "      <td>1.333080</td>\n",
       "      <td>-1.000782</td>\n",
       "      <td>-0.254029</td>\n",
       "      <td>-0.327968</td>\n",
       "      <td>0.788389</td>\n",
       "      <td>0.806275</td>\n",
       "      <td>4.839247</td>\n",
       "      <td>4.860469</td>\n",
       "    </tr>\n",
       "    <tr>\n",
       "      <th>8</th>\n",
       "      <td>0.132539</td>\n",
       "      <td>1.916461</td>\n",
       "      <td>1.104507</td>\n",
       "      <td>0.121054</td>\n",
       "      <td>-0.363264</td>\n",
       "      <td>-0.445038</td>\n",
       "      <td>-0.274013</td>\n",
       "      <td>0.692611</td>\n",
       "      <td>4.949646</td>\n",
       "      <td>4.854511</td>\n",
       "    </tr>\n",
       "    <tr>\n",
       "      <th>9</th>\n",
       "      <td>0.132539</td>\n",
       "      <td>1.023029</td>\n",
       "      <td>1.339184</td>\n",
       "      <td>-0.985165</td>\n",
       "      <td>-0.273465</td>\n",
       "      <td>-0.242247</td>\n",
       "      <td>0.802509</td>\n",
       "      <td>0.839150</td>\n",
       "      <td>4.847556</td>\n",
       "      <td>4.860904</td>\n",
       "    </tr>\n",
       "    <tr>\n",
       "      <th>10</th>\n",
       "      <td>-0.351552</td>\n",
       "      <td>-1.505627</td>\n",
       "      <td>1.464184</td>\n",
       "      <td>0.760500</td>\n",
       "      <td>1.917150</td>\n",
       "      <td>1.882765</td>\n",
       "      <td>-1.506188</td>\n",
       "      <td>-1.725644</td>\n",
       "      <td>5.793155</td>\n",
       "      <td>5.763095</td>\n",
       "    </tr>\n",
       "    <tr>\n",
       "      <th>11</th>\n",
       "      <td>0.132539</td>\n",
       "      <td>1.873411</td>\n",
       "      <td>1.110757</td>\n",
       "      <td>0.111504</td>\n",
       "      <td>-0.359152</td>\n",
       "      <td>-0.472356</td>\n",
       "      <td>-0.289006</td>\n",
       "      <td>0.630177</td>\n",
       "      <td>4.958000</td>\n",
       "      <td>4.870288</td>\n",
       "    </tr>\n",
       "    <tr>\n",
       "      <th>12</th>\n",
       "      <td>-0.351552</td>\n",
       "      <td>0.605847</td>\n",
       "      <td>-0.476903</td>\n",
       "      <td>1.601780</td>\n",
       "      <td>-2.712087</td>\n",
       "      <td>0.756884</td>\n",
       "      <td>1.198270</td>\n",
       "      <td>0.630177</td>\n",
       "      <td>4.432000</td>\n",
       "      <td>5.647458</td>\n",
       "    </tr>\n",
       "    <tr>\n",
       "      <th>13</th>\n",
       "      <td>-0.351552</td>\n",
       "      <td>0.097380</td>\n",
       "      <td>0.541600</td>\n",
       "      <td>1.299664</td>\n",
       "      <td>-0.308479</td>\n",
       "      <td>0.976632</td>\n",
       "      <td>-0.080167</td>\n",
       "      <td>-1.333506</td>\n",
       "      <td>5.720167</td>\n",
       "      <td>5.674481</td>\n",
       "    </tr>\n",
       "    <tr>\n",
       "      <th>14</th>\n",
       "      <td>0.132539</td>\n",
       "      <td>1.266652</td>\n",
       "      <td>0.725535</td>\n",
       "      <td>0.160974</td>\n",
       "      <td>0.242712</td>\n",
       "      <td>-1.967525</td>\n",
       "      <td>-0.704624</td>\n",
       "      <td>0.515837</td>\n",
       "      <td>4.996663</td>\n",
       "      <td>4.869162</td>\n",
       "    </tr>\n",
       "    <tr>\n",
       "      <th>15</th>\n",
       "      <td>0.132539</td>\n",
       "      <td>1.067776</td>\n",
       "      <td>1.328868</td>\n",
       "      <td>-0.976439</td>\n",
       "      <td>-0.252483</td>\n",
       "      <td>-0.307332</td>\n",
       "      <td>0.755093</td>\n",
       "      <td>0.687008</td>\n",
       "      <td>4.845085</td>\n",
       "      <td>4.861428</td>\n",
       "    </tr>\n",
       "    <tr>\n",
       "      <th>16</th>\n",
       "      <td>0.132539</td>\n",
       "      <td>0.046265</td>\n",
       "      <td>0.548798</td>\n",
       "      <td>1.259866</td>\n",
       "      <td>-0.268716</td>\n",
       "      <td>0.936581</td>\n",
       "      <td>-0.097258</td>\n",
       "      <td>-1.318986</td>\n",
       "      <td>5.726276</td>\n",
       "      <td>5.616883</td>\n",
       "    </tr>\n",
       "    <tr>\n",
       "      <th>17</th>\n",
       "      <td>-0.351552</td>\n",
       "      <td>1.861870</td>\n",
       "      <td>1.115575</td>\n",
       "      <td>0.112720</td>\n",
       "      <td>-0.339181</td>\n",
       "      <td>-0.471004</td>\n",
       "      <td>-0.247383</td>\n",
       "      <td>0.661183</td>\n",
       "      <td>4.956390</td>\n",
       "      <td>4.888669</td>\n",
       "    </tr>\n",
       "    <tr>\n",
       "      <th>18</th>\n",
       "      <td>0.639221</td>\n",
       "      <td>-0.449312</td>\n",
       "      <td>-0.525240</td>\n",
       "      <td>-0.988337</td>\n",
       "      <td>0.550260</td>\n",
       "      <td>-0.765187</td>\n",
       "      <td>1.198270</td>\n",
       "      <td>0.630177</td>\n",
       "      <td>3.910000</td>\n",
       "      <td>3.944690</td>\n",
       "    </tr>\n",
       "    <tr>\n",
       "      <th>19</th>\n",
       "      <td>0.132539</td>\n",
       "      <td>1.028553</td>\n",
       "      <td>1.328269</td>\n",
       "      <td>-0.998114</td>\n",
       "      <td>-0.270014</td>\n",
       "      <td>-0.271622</td>\n",
       "      <td>0.781908</td>\n",
       "      <td>0.630177</td>\n",
       "      <td>4.848000</td>\n",
       "      <td>4.860904</td>\n",
       "    </tr>\n",
       "    <tr>\n",
       "      <th>20</th>\n",
       "      <td>0.132539</td>\n",
       "      <td>-0.360023</td>\n",
       "      <td>-0.689525</td>\n",
       "      <td>-0.638300</td>\n",
       "      <td>-2.327902</td>\n",
       "      <td>0.557191</td>\n",
       "      <td>0.714211</td>\n",
       "      <td>0.630177</td>\n",
       "      <td>4.020000</td>\n",
       "      <td>3.942745</td>\n",
       "    </tr>\n",
       "    <tr>\n",
       "      <th>21</th>\n",
       "      <td>0.639221</td>\n",
       "      <td>0.242940</td>\n",
       "      <td>-1.408196</td>\n",
       "      <td>-1.577935</td>\n",
       "      <td>-0.218211</td>\n",
       "      <td>-0.818113</td>\n",
       "      <td>-0.850927</td>\n",
       "      <td>0.630177</td>\n",
       "      <td>3.938000</td>\n",
       "      <td>3.940497</td>\n",
       "    </tr>\n",
       "    <tr>\n",
       "      <th>22</th>\n",
       "      <td>-1.705125</td>\n",
       "      <td>1.338262</td>\n",
       "      <td>-0.367890</td>\n",
       "      <td>-0.273507</td>\n",
       "      <td>-0.595617</td>\n",
       "      <td>-0.173172</td>\n",
       "      <td>0.690279</td>\n",
       "      <td>0.630177</td>\n",
       "      <td>3.929000</td>\n",
       "      <td>4.034821</td>\n",
       "    </tr>\n",
       "    <tr>\n",
       "      <th>23</th>\n",
       "      <td>0.132539</td>\n",
       "      <td>1.280041</td>\n",
       "      <td>0.725736</td>\n",
       "      <td>0.151601</td>\n",
       "      <td>0.245385</td>\n",
       "      <td>-1.958789</td>\n",
       "      <td>-0.703104</td>\n",
       "      <td>0.639912</td>\n",
       "      <td>5.015315</td>\n",
       "      <td>4.871242</td>\n",
       "    </tr>\n",
       "    <tr>\n",
       "      <th>24</th>\n",
       "      <td>-1.705125</td>\n",
       "      <td>-1.522099</td>\n",
       "      <td>-1.130628</td>\n",
       "      <td>1.677061</td>\n",
       "      <td>1.204049</td>\n",
       "      <td>0.693476</td>\n",
       "      <td>1.212343</td>\n",
       "      <td>0.641617</td>\n",
       "      <td>6.198329</td>\n",
       "      <td>6.143522</td>\n",
       "    </tr>\n",
       "    <tr>\n",
       "      <th>25</th>\n",
       "      <td>-0.351552</td>\n",
       "      <td>-1.492577</td>\n",
       "      <td>1.463494</td>\n",
       "      <td>0.797240</td>\n",
       "      <td>1.930207</td>\n",
       "      <td>1.866426</td>\n",
       "      <td>-1.500191</td>\n",
       "      <td>-1.724941</td>\n",
       "      <td>5.818389</td>\n",
       "      <td>5.767790</td>\n",
       "    </tr>\n",
       "    <tr>\n",
       "      <th>26</th>\n",
       "      <td>0.132539</td>\n",
       "      <td>1.911689</td>\n",
       "      <td>1.116035</td>\n",
       "      <td>0.130012</td>\n",
       "      <td>-0.372764</td>\n",
       "      <td>-0.485914</td>\n",
       "      <td>-0.311802</td>\n",
       "      <td>0.638560</td>\n",
       "      <td>4.957591</td>\n",
       "      <td>4.862559</td>\n",
       "    </tr>\n",
       "    <tr>\n",
       "      <th>27</th>\n",
       "      <td>0.132539</td>\n",
       "      <td>0.996259</td>\n",
       "      <td>1.264563</td>\n",
       "      <td>-0.134541</td>\n",
       "      <td>0.166675</td>\n",
       "      <td>-0.665391</td>\n",
       "      <td>-1.274516</td>\n",
       "      <td>0.630177</td>\n",
       "      <td>4.680000</td>\n",
       "      <td>4.863122</td>\n",
       "    </tr>\n",
       "    <tr>\n",
       "      <th>28</th>\n",
       "      <td>0.132539</td>\n",
       "      <td>1.875438</td>\n",
       "      <td>1.095503</td>\n",
       "      <td>0.104807</td>\n",
       "      <td>-0.341155</td>\n",
       "      <td>-0.471253</td>\n",
       "      <td>-0.310170</td>\n",
       "      <td>0.664198</td>\n",
       "      <td>4.949020</td>\n",
       "      <td>4.864649</td>\n",
       "    </tr>\n",
       "    <tr>\n",
       "      <th>29</th>\n",
       "      <td>2.249652</td>\n",
       "      <td>0.130497</td>\n",
       "      <td>-1.396543</td>\n",
       "      <td>-1.189929</td>\n",
       "      <td>-0.274622</td>\n",
       "      <td>-0.989070</td>\n",
       "      <td>-1.920218</td>\n",
       "      <td>-1.828838</td>\n",
       "      <td>3.880000</td>\n",
       "      <td>3.950912</td>\n",
       "    </tr>\n",
       "  </tbody>\n",
       "</table>\n",
       "</div>"
      ],
      "text/plain": [
       "    band_num       g_r       r_i       i_z       z_y     w1_w2     w2_w3  \\\n",
       "0  -0.351552  1.336836 -0.426547 -1.040786 -1.780063  0.857763  1.198270   \n",
       "1  -1.705125 -1.474228 -1.087634  1.644134  1.219760  0.663247  1.156761   \n",
       "2  -0.351552  0.675054 -0.205185 -0.020091 -1.794812  0.857763  1.198270   \n",
       "3  -0.351552  1.309004  0.724705  0.215516  0.226079 -1.968516 -0.726770   \n",
       "4   0.639221 -0.503452 -0.749982 -0.290073 -0.518427 -0.818113 -1.063190   \n",
       "5   0.639221  0.613270 -1.543158 -0.036384 -0.558531 -0.393664 -0.564019   \n",
       "6   0.639221  0.421398 -1.880667 -0.962844 -0.808976 -0.882884  1.198270   \n",
       "7   0.132539  1.010804  1.333080 -1.000782 -0.254029 -0.327968  0.788389   \n",
       "8   0.132539  1.916461  1.104507  0.121054 -0.363264 -0.445038 -0.274013   \n",
       "9   0.132539  1.023029  1.339184 -0.985165 -0.273465 -0.242247  0.802509   \n",
       "10 -0.351552 -1.505627  1.464184  0.760500  1.917150  1.882765 -1.506188   \n",
       "11  0.132539  1.873411  1.110757  0.111504 -0.359152 -0.472356 -0.289006   \n",
       "12 -0.351552  0.605847 -0.476903  1.601780 -2.712087  0.756884  1.198270   \n",
       "13 -0.351552  0.097380  0.541600  1.299664 -0.308479  0.976632 -0.080167   \n",
       "14  0.132539  1.266652  0.725535  0.160974  0.242712 -1.967525 -0.704624   \n",
       "15  0.132539  1.067776  1.328868 -0.976439 -0.252483 -0.307332  0.755093   \n",
       "16  0.132539  0.046265  0.548798  1.259866 -0.268716  0.936581 -0.097258   \n",
       "17 -0.351552  1.861870  1.115575  0.112720 -0.339181 -0.471004 -0.247383   \n",
       "18  0.639221 -0.449312 -0.525240 -0.988337  0.550260 -0.765187  1.198270   \n",
       "19  0.132539  1.028553  1.328269 -0.998114 -0.270014 -0.271622  0.781908   \n",
       "20  0.132539 -0.360023 -0.689525 -0.638300 -2.327902  0.557191  0.714211   \n",
       "21  0.639221  0.242940 -1.408196 -1.577935 -0.218211 -0.818113 -0.850927   \n",
       "22 -1.705125  1.338262 -0.367890 -0.273507 -0.595617 -0.173172  0.690279   \n",
       "23  0.132539  1.280041  0.725736  0.151601  0.245385 -1.958789 -0.703104   \n",
       "24 -1.705125 -1.522099 -1.130628  1.677061  1.204049  0.693476  1.212343   \n",
       "25 -0.351552 -1.492577  1.463494  0.797240  1.930207  1.866426 -1.500191   \n",
       "26  0.132539  1.911689  1.116035  0.130012 -0.372764 -0.485914 -0.311802   \n",
       "27  0.132539  0.996259  1.264563 -0.134541  0.166675 -0.665391 -1.274516   \n",
       "28  0.132539  1.875438  1.095503  0.104807 -0.341155 -0.471253 -0.310170   \n",
       "29  2.249652  0.130497 -1.396543 -1.189929 -0.274622 -0.989070 -1.920218   \n",
       "\n",
       "       w3_w4         Z     Label  \n",
       "0   0.630177  3.998000  3.982016  \n",
       "1   0.562752  6.188034  6.143522  \n",
       "2   0.630177  4.128000  4.007193  \n",
       "3   0.835948  5.007803  4.881387  \n",
       "4   0.630177  3.785000  3.962900  \n",
       "5  -1.770852  3.770000  3.945378  \n",
       "6   0.630177  3.770000  3.943267  \n",
       "7   0.806275  4.839247  4.860469  \n",
       "8   0.692611  4.949646  4.854511  \n",
       "9   0.839150  4.847556  4.860904  \n",
       "10 -1.725644  5.793155  5.763095  \n",
       "11  0.630177  4.958000  4.870288  \n",
       "12  0.630177  4.432000  5.647458  \n",
       "13 -1.333506  5.720167  5.674481  \n",
       "14  0.515837  4.996663  4.869162  \n",
       "15  0.687008  4.845085  4.861428  \n",
       "16 -1.318986  5.726276  5.616883  \n",
       "17  0.661183  4.956390  4.888669  \n",
       "18  0.630177  3.910000  3.944690  \n",
       "19  0.630177  4.848000  4.860904  \n",
       "20  0.630177  4.020000  3.942745  \n",
       "21  0.630177  3.938000  3.940497  \n",
       "22  0.630177  3.929000  4.034821  \n",
       "23  0.639912  5.015315  4.871242  \n",
       "24  0.641617  6.198329  6.143522  \n",
       "25 -1.724941  5.818389  5.767790  \n",
       "26  0.638560  4.957591  4.862559  \n",
       "27  0.630177  4.680000  4.863122  \n",
       "28  0.664198  4.949020  4.864649  \n",
       "29 -1.828838  3.880000  3.950912  "
      ]
     },
     "execution_count": 89,
     "metadata": {},
     "output_type": "execute_result"
    }
   ],
   "source": [
    "pyr.predict_model(tuned_z_reg)"
   ]
  },
  {
   "cell_type": "code",
   "execution_count": 90,
   "id": "1260edfd",
   "metadata": {},
   "outputs": [
    {
     "data": {
      "text/html": [
       "<style type=\"text/css\">\n",
       "</style>\n",
       "<table id=\"T_68b05\">\n",
       "  <thead>\n",
       "    <tr>\n",
       "      <th class=\"blank level0\" >&nbsp;</th>\n",
       "      <th id=\"T_68b05_level0_col0\" class=\"col_heading level0 col0\" >Model</th>\n",
       "      <th id=\"T_68b05_level0_col1\" class=\"col_heading level0 col1\" >MAE</th>\n",
       "      <th id=\"T_68b05_level0_col2\" class=\"col_heading level0 col2\" >MSE</th>\n",
       "      <th id=\"T_68b05_level0_col3\" class=\"col_heading level0 col3\" >RMSE</th>\n",
       "      <th id=\"T_68b05_level0_col4\" class=\"col_heading level0 col4\" >R2</th>\n",
       "      <th id=\"T_68b05_level0_col5\" class=\"col_heading level0 col5\" >RMSLE</th>\n",
       "      <th id=\"T_68b05_level0_col6\" class=\"col_heading level0 col6\" >MAPE</th>\n",
       "      <th id=\"T_68b05_level0_col7\" class=\"col_heading level0 col7\" >sigma_mad</th>\n",
       "      <th id=\"T_68b05_level0_col8\" class=\"col_heading level0 col8\" >sigma_nmad</th>\n",
       "      <th id=\"T_68b05_level0_col9\" class=\"col_heading level0 col9\" >sigma_z</th>\n",
       "      <th id=\"T_68b05_level0_col10\" class=\"col_heading level0 col10\" >sigma_z_norm</th>\n",
       "      <th id=\"T_68b05_level0_col11\" class=\"col_heading level0 col11\" >outlier_fr</th>\n",
       "    </tr>\n",
       "  </thead>\n",
       "  <tbody>\n",
       "    <tr>\n",
       "      <th id=\"T_68b05_level0_row0\" class=\"row_heading level0 row0\" >0</th>\n",
       "      <td id=\"T_68b05_row0_col0\" class=\"data row0 col0\" >Stacking Regressor</td>\n",
       "      <td id=\"T_68b05_row0_col1\" class=\"data row0 col1\" >0.1193</td>\n",
       "      <td id=\"T_68b05_row0_col2\" class=\"data row0 col2\" >0.0585</td>\n",
       "      <td id=\"T_68b05_row0_col3\" class=\"data row0 col3\" >0.2419</td>\n",
       "      <td id=\"T_68b05_row0_col4\" class=\"data row0 col4\" >0.8900</td>\n",
       "      <td id=\"T_68b05_row0_col5\" class=\"data row0 col5\" >0.0410</td>\n",
       "      <td id=\"T_68b05_row0_col6\" class=\"data row0 col6\" >0.0266</td>\n",
       "      <td id=\"T_68b05_row0_col7\" class=\"data row0 col7\" >0.1196</td>\n",
       "      <td id=\"T_68b05_row0_col8\" class=\"data row0 col8\" >0.0216</td>\n",
       "      <td id=\"T_68b05_row0_col9\" class=\"data row0 col9\" >0.2419</td>\n",
       "      <td id=\"T_68b05_row0_col10\" class=\"data row0 col10\" >0.0446</td>\n",
       "      <td id=\"T_68b05_row0_col11\" class=\"data row0 col11\" >0.0333</td>\n",
       "    </tr>\n",
       "  </tbody>\n",
       "</table>\n"
      ],
      "text/plain": [
       "<pandas.io.formats.style.Styler at 0x7feff4099dc0>"
      ]
     },
     "metadata": {},
     "output_type": "display_data"
    }
   ],
   "source": [
    "test_prediction_reg = pyr.predict_model(tuned_z_reg)"
   ]
  },
  {
   "cell_type": "markdown",
   "id": "63e6c967",
   "metadata": {},
   "source": [
    "Metrics from applying model to test data.  \n",
    "\n",
    "|Model                    |Accuracy|AUC   |Recall|Prec. |F1    |Kappa |MCC   |\n",
    "|-------------------------|--------|------|------|------|------|------|------|\n",
    "|Extreme Gradient Boosting|0.9978  |0.9781|0.5978|0.8092|0.6876|0.6865|0.6945|"
   ]
  },
  {
   "cell_type": "code",
   "execution_count": 91,
   "id": "6b955378",
   "metadata": {
    "id": "WsMuc6dtt2ci"
   },
   "outputs": [
    {
     "name": "stderr",
     "output_type": "stream",
     "text": [
      "/home/rcarvajal/.miniforge3/envs/test_pycaret/lib/python3.8/site-packages/xgboost/data.py:262: FutureWarning: pandas.Int64Index is deprecated and will be removed from pandas in a future version. Use pandas.Index with the appropriate dtype instead.\n",
      "  elif isinstance(data.columns, (pd.Int64Index, pd.RangeIndex)):\n",
      "/home/rcarvajal/.miniforge3/envs/test_pycaret/lib/python3.8/site-packages/xgboost/data.py:262: FutureWarning: pandas.Int64Index is deprecated and will be removed from pandas in a future version. Use pandas.Index with the appropriate dtype instead.\n",
      "  elif isinstance(data.columns, (pd.Int64Index, pd.RangeIndex)):\n",
      "/home/rcarvajal/.miniforge3/envs/test_pycaret/lib/python3.8/site-packages/xgboost/data.py:262: FutureWarning: pandas.Int64Index is deprecated and will be removed from pandas in a future version. Use pandas.Index with the appropriate dtype instead.\n",
      "  elif isinstance(data.columns, (pd.Int64Index, pd.RangeIndex)):\n",
      "/home/rcarvajal/.miniforge3/envs/test_pycaret/lib/python3.8/site-packages/xgboost/data.py:262: FutureWarning: pandas.Int64Index is deprecated and will be removed from pandas in a future version. Use pandas.Index with the appropriate dtype instead.\n",
      "  elif isinstance(data.columns, (pd.Int64Index, pd.RangeIndex)):\n",
      "/home/rcarvajal/.miniforge3/envs/test_pycaret/lib/python3.8/site-packages/xgboost/data.py:262: FutureWarning: pandas.Int64Index is deprecated and will be removed from pandas in a future version. Use pandas.Index with the appropriate dtype instead.\n",
      "  elif isinstance(data.columns, (pd.Int64Index, pd.RangeIndex)):\n",
      "/home/rcarvajal/.miniforge3/envs/test_pycaret/lib/python3.8/site-packages/xgboost/data.py:262: FutureWarning: pandas.Int64Index is deprecated and will be removed from pandas in a future version. Use pandas.Index with the appropriate dtype instead.\n",
      "  elif isinstance(data.columns, (pd.Int64Index, pd.RangeIndex)):\n",
      "/home/rcarvajal/.miniforge3/envs/test_pycaret/lib/python3.8/site-packages/xgboost/data.py:262: FutureWarning: pandas.Int64Index is deprecated and will be removed from pandas in a future version. Use pandas.Index with the appropriate dtype instead.\n",
      "  elif isinstance(data.columns, (pd.Int64Index, pd.RangeIndex)):\n",
      "/home/rcarvajal/.miniforge3/envs/test_pycaret/lib/python3.8/site-packages/xgboost/data.py:262: FutureWarning: pandas.Int64Index is deprecated and will be removed from pandas in a future version. Use pandas.Index with the appropriate dtype instead.\n",
      "  elif isinstance(data.columns, (pd.Int64Index, pd.RangeIndex)):\n",
      "/home/rcarvajal/.miniforge3/envs/test_pycaret/lib/python3.8/site-packages/xgboost/data.py:262: FutureWarning: pandas.Int64Index is deprecated and will be removed from pandas in a future version. Use pandas.Index with the appropriate dtype instead.\n",
      "  elif isinstance(data.columns, (pd.Int64Index, pd.RangeIndex)):\n",
      "/home/rcarvajal/.miniforge3/envs/test_pycaret/lib/python3.8/site-packages/xgboost/data.py:262: FutureWarning: pandas.Int64Index is deprecated and will be removed from pandas in a future version. Use pandas.Index with the appropriate dtype instead.\n",
      "  elif isinstance(data.columns, (pd.Int64Index, pd.RangeIndex)):\n",
      "/home/rcarvajal/.miniforge3/envs/test_pycaret/lib/python3.8/site-packages/xgboost/data.py:262: FutureWarning: pandas.Int64Index is deprecated and will be removed from pandas in a future version. Use pandas.Index with the appropriate dtype instead.\n",
      "  elif isinstance(data.columns, (pd.Int64Index, pd.RangeIndex)):\n",
      "/home/rcarvajal/.miniforge3/envs/test_pycaret/lib/python3.8/site-packages/xgboost/data.py:262: FutureWarning: pandas.Int64Index is deprecated and will be removed from pandas in a future version. Use pandas.Index with the appropriate dtype instead.\n",
      "  elif isinstance(data.columns, (pd.Int64Index, pd.RangeIndex)):\n",
      "/home/rcarvajal/.miniforge3/envs/test_pycaret/lib/python3.8/site-packages/xgboost/data.py:262: FutureWarning: pandas.Int64Index is deprecated and will be removed from pandas in a future version. Use pandas.Index with the appropriate dtype instead.\n",
      "  elif isinstance(data.columns, (pd.Int64Index, pd.RangeIndex)):\n",
      "/home/rcarvajal/.miniforge3/envs/test_pycaret/lib/python3.8/site-packages/xgboost/data.py:262: FutureWarning: pandas.Int64Index is deprecated and will be removed from pandas in a future version. Use pandas.Index with the appropriate dtype instead.\n",
      "  elif isinstance(data.columns, (pd.Int64Index, pd.RangeIndex)):\n",
      "/home/rcarvajal/.miniforge3/envs/test_pycaret/lib/python3.8/site-packages/xgboost/data.py:262: FutureWarning: pandas.Int64Index is deprecated and will be removed from pandas in a future version. Use pandas.Index with the appropriate dtype instead.\n",
      "  elif isinstance(data.columns, (pd.Int64Index, pd.RangeIndex)):\n",
      "/home/rcarvajal/.miniforge3/envs/test_pycaret/lib/python3.8/site-packages/xgboost/data.py:262: FutureWarning: pandas.Int64Index is deprecated and will be removed from pandas in a future version. Use pandas.Index with the appropriate dtype instead.\n",
      "  elif isinstance(data.columns, (pd.Int64Index, pd.RangeIndex)):\n",
      "/home/rcarvajal/.miniforge3/envs/test_pycaret/lib/python3.8/site-packages/xgboost/data.py:262: FutureWarning: pandas.Int64Index is deprecated and will be removed from pandas in a future version. Use pandas.Index with the appropriate dtype instead.\n",
      "  elif isinstance(data.columns, (pd.Int64Index, pd.RangeIndex)):\n",
      "/home/rcarvajal/.miniforge3/envs/test_pycaret/lib/python3.8/site-packages/xgboost/data.py:262: FutureWarning: pandas.Int64Index is deprecated and will be removed from pandas in a future version. Use pandas.Index with the appropriate dtype instead.\n",
      "  elif isinstance(data.columns, (pd.Int64Index, pd.RangeIndex)):\n",
      "/home/rcarvajal/.miniforge3/envs/test_pycaret/lib/python3.8/site-packages/xgboost/data.py:262: FutureWarning: pandas.Int64Index is deprecated and will be removed from pandas in a future version. Use pandas.Index with the appropriate dtype instead.\n",
      "  elif isinstance(data.columns, (pd.Int64Index, pd.RangeIndex)):\n",
      "/home/rcarvajal/.miniforge3/envs/test_pycaret/lib/python3.8/site-packages/xgboost/data.py:262: FutureWarning: pandas.Int64Index is deprecated and will be removed from pandas in a future version. Use pandas.Index with the appropriate dtype instead.\n",
      "  elif isinstance(data.columns, (pd.Int64Index, pd.RangeIndex)):\n",
      "/home/rcarvajal/.miniforge3/envs/test_pycaret/lib/python3.8/site-packages/xgboost/data.py:262: FutureWarning: pandas.Int64Index is deprecated and will be removed from pandas in a future version. Use pandas.Index with the appropriate dtype instead.\n",
      "  elif isinstance(data.columns, (pd.Int64Index, pd.RangeIndex)):\n",
      "/home/rcarvajal/.miniforge3/envs/test_pycaret/lib/python3.8/site-packages/xgboost/data.py:262: FutureWarning: pandas.Int64Index is deprecated and will be removed from pandas in a future version. Use pandas.Index with the appropriate dtype instead.\n",
      "  elif isinstance(data.columns, (pd.Int64Index, pd.RangeIndex)):\n",
      "/home/rcarvajal/.miniforge3/envs/test_pycaret/lib/python3.8/site-packages/xgboost/data.py:262: FutureWarning: pandas.Int64Index is deprecated and will be removed from pandas in a future version. Use pandas.Index with the appropriate dtype instead.\n",
      "  elif isinstance(data.columns, (pd.Int64Index, pd.RangeIndex)):\n",
      "/home/rcarvajal/.miniforge3/envs/test_pycaret/lib/python3.8/site-packages/xgboost/data.py:262: FutureWarning: pandas.Int64Index is deprecated and will be removed from pandas in a future version. Use pandas.Index with the appropriate dtype instead.\n",
      "  elif isinstance(data.columns, (pd.Int64Index, pd.RangeIndex)):\n",
      "/home/rcarvajal/.miniforge3/envs/test_pycaret/lib/python3.8/site-packages/xgboost/data.py:262: FutureWarning: pandas.Int64Index is deprecated and will be removed from pandas in a future version. Use pandas.Index with the appropriate dtype instead.\n",
      "  elif isinstance(data.columns, (pd.Int64Index, pd.RangeIndex)):\n",
      "/home/rcarvajal/.miniforge3/envs/test_pycaret/lib/python3.8/site-packages/xgboost/data.py:262: FutureWarning: pandas.Int64Index is deprecated and will be removed from pandas in a future version. Use pandas.Index with the appropriate dtype instead.\n",
      "  elif isinstance(data.columns, (pd.Int64Index, pd.RangeIndex)):\n"
     ]
    }
   ],
   "source": [
    "final_z_reg = pyr.finalize_model(tuned_z_reg)"
   ]
  },
  {
   "cell_type": "code",
   "execution_count": 92,
   "id": "bf56af3c",
   "metadata": {
    "id": "kAciINC6t-gk"
   },
   "outputs": [
    {
     "name": "stdout",
     "output_type": "stream",
     "text": [
      "Transformation Pipeline and Model Successfully Saved\n"
     ]
    }
   ],
   "source": [
    "if save_model_flag:\n",
    "    pyr.save_model(final_z_reg, 'models/regression_z_jun_01_2022')  # Model (it will be saved with .pkl extension)\n",
    "    # pyr.save_config('models/config_regression_z_jun_01_2022')  # Configuration file"
   ]
  },
  {
   "cell_type": "markdown",
   "id": "08cfe535",
   "metadata": {
    "id": "ef654bbb-7b74-4cef-a809-42d2eb8e7fcb"
   },
   "source": [
    "## Load Models"
   ]
  },
  {
   "cell_type": "markdown",
   "id": "f2c473ea",
   "metadata": {
    "id": "217777e4-0212-4a37-b535-6fcaf2f0817e"
   },
   "source": [
    "AGN detection model."
   ]
  },
  {
   "cell_type": "code",
   "execution_count": 93,
   "id": "1505100f",
   "metadata": {
    "id": "ad6bf94f-c59d-4013-b523-76a77df047cc",
    "outputId": "d8cd5b82-e109-4bd1-90ea-bf0e85e10ccd",
    "tags": []
   },
   "outputs": [],
   "source": [
    "if load_model_flag:\n",
    "    final_z_reg = pyr.load_model('models/regression_z_jun_01_2022')  # for z >= 4, regression_z_may_31_4_2022"
   ]
  },
  {
   "cell_type": "markdown",
   "id": "4d158988",
   "metadata": {
    "id": "6fcb2c6c-a004-4801-b43d-a3593f802cf5"
   },
   "source": [
    "### Prediction process"
   ]
  },
  {
   "cell_type": "markdown",
   "id": "008938d1",
   "metadata": {},
   "source": [
    "#### Feature importances"
   ]
  },
  {
   "cell_type": "code",
   "execution_count": 94,
   "id": "12366b4c",
   "metadata": {
    "jupyter": {
     "source_hidden": true
    }
   },
   "outputs": [],
   "source": [
    "estimators_list = get_base_estimators_names(final_z_reg)"
   ]
  },
  {
   "cell_type": "code",
   "execution_count": 95,
   "id": "77460b7b",
   "metadata": {
    "jupyter": {
     "source_hidden": true
    },
    "tags": []
   },
   "outputs": [
    {
     "name": "stdout",
     "output_type": "stream",
     "text": [
      "Running dtypes\n",
      "Running imputer\n",
      "Running new_levels1\n",
      "Running new_levels\n",
      "Running feature_time\n",
      "Running scaling\n",
      "Running P_transform\n",
      "Running dummy\n",
      "Running fix_perfect\n",
      "Running clean_names\n"
     ]
    }
   ],
   "source": [
    "extended_data_z = validation_df.loc[:, get_final_column_names(final_z_reg, validation_df)].copy()\n",
    "extended_idx_z  = extended_data_z.index\n",
    "initial_cols_z  = extended_data_z.columns\n",
    "extended_cols_z = extended_data_z.columns.insert(0, estimators_list[0])\n",
    "if len(estimators_list) > 1:\n",
    "    for est_name in estimators_list[1::]:\n",
    "        extended_cols_z = extended_cols_z.insert(0, est_name)"
   ]
  },
  {
   "cell_type": "code",
   "execution_count": 96,
   "id": "efc8d3bf",
   "metadata": {
    "jupyter": {
     "source_hidden": true
    },
    "tags": []
   },
   "outputs": [
    {
     "name": "stdout",
     "output_type": "stream",
     "text": [
      "Running data pre-processing:\n",
      "\n",
      "Running dtypes\n",
      "Running imputer\n",
      "Running new_levels1\n",
      "Running new_levels\n",
      "Running feature_time\n",
      "Running scaling\n",
      "Running P_transform\n",
      "Running dummy\n",
      "Running fix_perfect\n",
      "Running clean_names\n"
     ]
    }
   ],
   "source": [
    "print('Running data pre-processing:\\n')\n",
    "if isinstance(final_z_reg, sklearn.pipeline.Pipeline):\n",
    "    prep_steps = final_z_reg.named_steps.items()\n",
    "else:\n",
    "    prep_steps = pyr.get_config('prep_pipe').named_steps.items()\n",
    "\n",
    "for (name, method) in prep_steps:\n",
    "    if method != 'passthrough':  # and name != 'trained_model':\n",
    "        print(f'Running {name}')\n",
    "        extended_data_z = method.transform(extended_data_z)\n",
    "extended_data_z_df = pd.DataFrame(extended_data_z, columns=extended_cols_z, index=extended_idx_z)"
   ]
  },
  {
   "cell_type": "code",
   "execution_count": 97,
   "id": "1b994d4f",
   "metadata": {
    "jupyter": {
     "source_hidden": true
    },
    "tags": []
   },
   "outputs": [],
   "source": [
    "if isinstance(final_z_reg, sklearn.pipeline.Pipeline):\n",
    "    if hasattr(final_z_reg.named_steps['trained_model'].final_estimator_, 'feature_importances_'):\n",
    "        importances_coef = final_z_reg.named_steps['trained_model'].final_estimator_.feature_importances_\n",
    "    elif hasattr(final_z_reg.named_steps['trained_model'].final_estimator_, 'coef_'):\n",
    "        importances_coef = np.abs(np.ravel(final_z_reg.named_steps['trained_model'].final_estimator_.coef_)) *\\\n",
    "                                     extended_data_z_df.loc[:, extended_cols_z].std(axis=0)\n",
    "else:\n",
    "    if hasattr(final_z_reg.final_estimator_, 'feature_importances_'):\n",
    "        importances_coef = final_z_reg.final_estimator_.feature_importances_\n",
    "    elif hasattr(final_z_reg.final_estimator_, 'coef_'):\n",
    "        importances_coef = np.abs(np.ravel(final_z_reg.final_estimator_.coef_)) *\\\n",
    "                                     extended_data_z_df.loc[:, extended_cols_z].std(axis=0)\n",
    "\n",
    "coef_meta_df = pd.DataFrame({'Feature': extended_cols_z, 'Importance': importances_coef})\n",
    "coef_sorted_meta_df = (\n",
    "    coef_meta_df.sort_values(by='Importance', ascending=False)\n",
    "    .head(len(extended_cols_z))\n",
    "    .sort_values(by='Importance', ascending=False).reset_index(drop=True)\n",
    ")"
   ]
  },
  {
   "cell_type": "code",
   "execution_count": 98,
   "id": "ba8040a7",
   "metadata": {
    "jupyter": {
     "source_hidden": true
    },
    "tags": []
   },
   "outputs": [],
   "source": [
    "if isinstance(final_z_reg, sklearn.pipeline.Pipeline):\n",
    "    estimators_list  = final_z_reg.named_steps['trained_model'].estimators\n",
    "    estimators_list_ = final_z_reg.named_steps['trained_model'].estimators_\n",
    "else:\n",
    "    estimators_list  = final_z_reg.estimators\n",
    "    estimators_list_ = final_z_reg.estimators_"
   ]
  },
  {
   "cell_type": "code",
   "execution_count": 99,
   "id": "54f100c3",
   "metadata": {
    "jupyter": {
     "source_hidden": true
    },
    "tags": []
   },
   "outputs": [],
   "source": [
    "base_models_names = [model[0] for model in estimators_list]"
   ]
  },
  {
   "cell_type": "code",
   "execution_count": 100,
   "id": "2a1350e7",
   "metadata": {
    "jupyter": {
     "source_hidden": true
    },
    "tags": []
   },
   "outputs": [],
   "source": [
    "coef_sorted_base_df = {}"
   ]
  },
  {
   "cell_type": "code",
   "execution_count": 101,
   "id": "7b46021e",
   "metadata": {
    "jupyter": {
     "source_hidden": true
    },
    "tags": []
   },
   "outputs": [],
   "source": [
    "for model, model_fit in zip(base_models_names, estimators_list_):\n",
    "    if hasattr(model_fit, 'feature_importances_'):\n",
    "        coef_base_df = pd.DataFrame({'Feature': extended_cols_z.drop(base_models_names),\n",
    "                                     'Importance': model_fit.feature_importances_})\n",
    "        coef_sorted_base_df[model] = (\n",
    "        coef_base_df.sort_values(by='Importance', ascending=False)\n",
    "        .head(len(extended_cols_z.drop(base_models_names)))\n",
    "        .sort_values(by='Importance', ascending=False).reset_index(drop=True)\n",
    "    )\n",
    "    elif hasattr(model_fit, 'coef_'):\n",
    "        coef_base_df = pd.DataFrame({'Feature': extended_cols_z.drop(base_models_names),\n",
    "                                     'Importance': np.abs(np.ravel(model_fit.coef_)) *\\\n",
    "                                     extended_data_z_df.loc[:, extended_cols_z.drop(base_models_names)].std(axis=0)})\n",
    "        coef_sorted_base_df[model] = (\n",
    "        coef_base_df.sort_values(by='Importance', ascending=False)\n",
    "        .head(len(extended_cols_radio.drop(base_models_names)))\n",
    "        .sort_values(by='Importance', ascending=False).reset_index(drop=True)\n",
    ")"
   ]
  },
  {
   "cell_type": "code",
   "execution_count": 102,
   "id": "eca90a24",
   "metadata": {
    "jupyter": {
     "source_hidden": true
    },
    "tags": []
   },
   "outputs": [],
   "source": [
    "multicol_feat = [(key, name) for key in coef_sorted_base_df.keys() for name in ('Feature', 'Importance')]"
   ]
  },
  {
   "cell_type": "code",
   "execution_count": 103,
   "id": "8f0eaad5",
   "metadata": {
    "jupyter": {
     "source_hidden": true
    },
    "tags": []
   },
   "outputs": [
    {
     "name": "stdout",
     "output_type": "stream",
     "text": [
      "Feature importances scaled to sum 100\n",
      "Calculating for gbr...\n",
      "Calculating for rf...\n",
      "Calculating for dt...\n",
      "Calculating for xgboost...\n"
     ]
    },
    {
     "data": {
      "text/html": [
       "<div>\n",
       "<style scoped>\n",
       "    .dataframe tbody tr th:only-of-type {\n",
       "        vertical-align: middle;\n",
       "    }\n",
       "\n",
       "    .dataframe tbody tr th {\n",
       "        vertical-align: top;\n",
       "    }\n",
       "\n",
       "    .dataframe thead tr th {\n",
       "        text-align: left;\n",
       "    }\n",
       "</style>\n",
       "<table border=\"1\" class=\"dataframe\">\n",
       "  <thead>\n",
       "    <tr>\n",
       "      <th></th>\n",
       "      <th colspan=\"2\" halign=\"left\">gbr</th>\n",
       "      <th colspan=\"2\" halign=\"left\">rf</th>\n",
       "      <th colspan=\"2\" halign=\"left\">dt</th>\n",
       "      <th colspan=\"2\" halign=\"left\">xgboost</th>\n",
       "    </tr>\n",
       "    <tr>\n",
       "      <th></th>\n",
       "      <th>Feature</th>\n",
       "      <th>Importance</th>\n",
       "      <th>Feature</th>\n",
       "      <th>Importance</th>\n",
       "      <th>Feature</th>\n",
       "      <th>Importance</th>\n",
       "      <th>Feature</th>\n",
       "      <th>Importance</th>\n",
       "    </tr>\n",
       "  </thead>\n",
       "  <tbody>\n",
       "    <tr>\n",
       "      <th>0</th>\n",
       "      <td>i_z</td>\n",
       "      <td>64.537806</td>\n",
       "      <td>i_z</td>\n",
       "      <td>64.933333</td>\n",
       "      <td>i_z</td>\n",
       "      <td>64.202485</td>\n",
       "      <td>i_z</td>\n",
       "      <td>81.666946</td>\n",
       "    </tr>\n",
       "    <tr>\n",
       "      <th>1</th>\n",
       "      <td>r_i</td>\n",
       "      <td>19.995355</td>\n",
       "      <td>r_i</td>\n",
       "      <td>19.203660</td>\n",
       "      <td>r_i</td>\n",
       "      <td>24.482788</td>\n",
       "      <td>r_i</td>\n",
       "      <td>11.530340</td>\n",
       "    </tr>\n",
       "    <tr>\n",
       "      <th>2</th>\n",
       "      <td>g_r</td>\n",
       "      <td>9.455225</td>\n",
       "      <td>g_r</td>\n",
       "      <td>10.229260</td>\n",
       "      <td>g_r</td>\n",
       "      <td>8.928476</td>\n",
       "      <td>g_r</td>\n",
       "      <td>4.759406</td>\n",
       "    </tr>\n",
       "    <tr>\n",
       "      <th>3</th>\n",
       "      <td>z_y</td>\n",
       "      <td>3.361998</td>\n",
       "      <td>z_y</td>\n",
       "      <td>2.032066</td>\n",
       "      <td>w2_w3</td>\n",
       "      <td>2.119029</td>\n",
       "      <td>z_y</td>\n",
       "      <td>0.887966</td>\n",
       "    </tr>\n",
       "    <tr>\n",
       "      <th>4</th>\n",
       "      <td>w3_w4</td>\n",
       "      <td>1.211875</td>\n",
       "      <td>w1_w2</td>\n",
       "      <td>1.643530</td>\n",
       "      <td>z_y</td>\n",
       "      <td>0.190576</td>\n",
       "      <td>w1_w2</td>\n",
       "      <td>0.613112</td>\n",
       "    </tr>\n",
       "    <tr>\n",
       "      <th>5</th>\n",
       "      <td>w1_w2</td>\n",
       "      <td>0.820324</td>\n",
       "      <td>band_num</td>\n",
       "      <td>0.952329</td>\n",
       "      <td>w1_w2</td>\n",
       "      <td>0.068603</td>\n",
       "      <td>w2_w3</td>\n",
       "      <td>0.254400</td>\n",
       "    </tr>\n",
       "    <tr>\n",
       "      <th>6</th>\n",
       "      <td>band_num</td>\n",
       "      <td>0.350367</td>\n",
       "      <td>w3_w4</td>\n",
       "      <td>0.556195</td>\n",
       "      <td>band_num</td>\n",
       "      <td>0.007594</td>\n",
       "      <td>band_num</td>\n",
       "      <td>0.243145</td>\n",
       "    </tr>\n",
       "    <tr>\n",
       "      <th>7</th>\n",
       "      <td>w2_w3</td>\n",
       "      <td>0.267049</td>\n",
       "      <td>w2_w3</td>\n",
       "      <td>0.449626</td>\n",
       "      <td>w3_w4</td>\n",
       "      <td>0.000449</td>\n",
       "      <td>w3_w4</td>\n",
       "      <td>0.044683</td>\n",
       "    </tr>\n",
       "  </tbody>\n",
       "</table>\n",
       "</div>"
      ],
      "text/plain": [
       "        gbr                   rf                   dt              xgboost  \\\n",
       "    Feature Importance   Feature Importance   Feature Importance   Feature   \n",
       "0       i_z  64.537806       i_z  64.933333       i_z  64.202485       i_z   \n",
       "1       r_i  19.995355       r_i  19.203660       r_i  24.482788       r_i   \n",
       "2       g_r   9.455225       g_r  10.229260       g_r   8.928476       g_r   \n",
       "3       z_y   3.361998       z_y   2.032066     w2_w3   2.119029       z_y   \n",
       "4     w3_w4   1.211875     w1_w2   1.643530       z_y   0.190576     w1_w2   \n",
       "5     w1_w2   0.820324  band_num   0.952329     w1_w2   0.068603     w2_w3   \n",
       "6  band_num   0.350367     w3_w4   0.556195  band_num   0.007594  band_num   \n",
       "7     w2_w3   0.267049     w2_w3   0.449626     w3_w4   0.000449     w3_w4   \n",
       "\n",
       "              \n",
       "  Importance  \n",
       "0  81.666946  \n",
       "1  11.530340  \n",
       "2   4.759406  \n",
       "3   0.887966  \n",
       "4   0.613112  \n",
       "5   0.254400  \n",
       "6   0.243145  \n",
       "7   0.044683  "
      ]
     },
     "metadata": {},
     "output_type": "display_data"
    }
   ],
   "source": [
    "print('Feature importances scaled to sum 100')\n",
    "coef_sorted_base_df_copy_sum = coef_sorted_base_df.copy()\n",
    "for key in coef_sorted_base_df_copy_sum.keys():\n",
    "    print(f'Calculating for {key}...')\n",
    "    coef_sorted_base_df_copy_sum[key].loc[:, 'Importance'] = coef_sorted_base_df[key].loc[:, 'Importance'] /\\\n",
    "                                                        coef_sorted_base_df[key].loc[:, 'Importance'].sum() * 100\n",
    "    # display(coef_sorted_base_df_copy_sum[key])\n",
    "coef_sorted_base_full_df = pd.concat([coef_sorted_base_df_copy_sum[key].reset_index(drop=True) for key in coef_sorted_base_df_copy_sum.keys()], axis=1)\n",
    "coef_sorted_base_full_df.columns = pd.MultiIndex.from_tuples(multicol_feat)\n",
    "display(coef_sorted_base_full_df)"
   ]
  },
  {
   "cell_type": "code",
   "execution_count": 104,
   "id": "01014dd1",
   "metadata": {
    "jupyter": {
     "source_hidden": true
    },
    "tags": []
   },
   "outputs": [
    {
     "name": "stdout",
     "output_type": "stream",
     "text": [
      "Feature importances scaled to sum 100\n",
      "Meta model\n"
     ]
    },
    {
     "data": {
      "text/html": [
       "<div>\n",
       "<style scoped>\n",
       "    .dataframe tbody tr th:only-of-type {\n",
       "        vertical-align: middle;\n",
       "    }\n",
       "\n",
       "    .dataframe tbody tr th {\n",
       "        vertical-align: top;\n",
       "    }\n",
       "\n",
       "    .dataframe thead th {\n",
       "        text-align: right;\n",
       "    }\n",
       "</style>\n",
       "<table border=\"1\" class=\"dataframe\">\n",
       "  <thead>\n",
       "    <tr style=\"text-align: right;\">\n",
       "      <th></th>\n",
       "      <th>Feature</th>\n",
       "      <th>Importance</th>\n",
       "    </tr>\n",
       "  </thead>\n",
       "  <tbody>\n",
       "    <tr>\n",
       "      <th>0</th>\n",
       "      <td>gbr</td>\n",
       "      <td>23.706568</td>\n",
       "    </tr>\n",
       "    <tr>\n",
       "      <th>1</th>\n",
       "      <td>rf</td>\n",
       "      <td>22.742279</td>\n",
       "    </tr>\n",
       "    <tr>\n",
       "      <th>2</th>\n",
       "      <td>dt</td>\n",
       "      <td>18.675448</td>\n",
       "    </tr>\n",
       "    <tr>\n",
       "      <th>3</th>\n",
       "      <td>xgboost</td>\n",
       "      <td>17.488525</td>\n",
       "    </tr>\n",
       "    <tr>\n",
       "      <th>4</th>\n",
       "      <td>g_r</td>\n",
       "      <td>5.801018</td>\n",
       "    </tr>\n",
       "    <tr>\n",
       "      <th>5</th>\n",
       "      <td>i_z</td>\n",
       "      <td>3.130489</td>\n",
       "    </tr>\n",
       "    <tr>\n",
       "      <th>6</th>\n",
       "      <td>r_i</td>\n",
       "      <td>2.674220</td>\n",
       "    </tr>\n",
       "    <tr>\n",
       "      <th>7</th>\n",
       "      <td>w1_w2</td>\n",
       "      <td>2.368170</td>\n",
       "    </tr>\n",
       "    <tr>\n",
       "      <th>8</th>\n",
       "      <td>w3_w4</td>\n",
       "      <td>1.671796</td>\n",
       "    </tr>\n",
       "    <tr>\n",
       "      <th>9</th>\n",
       "      <td>band_num</td>\n",
       "      <td>0.928624</td>\n",
       "    </tr>\n",
       "    <tr>\n",
       "      <th>10</th>\n",
       "      <td>z_y</td>\n",
       "      <td>0.698434</td>\n",
       "    </tr>\n",
       "    <tr>\n",
       "      <th>11</th>\n",
       "      <td>w2_w3</td>\n",
       "      <td>0.114429</td>\n",
       "    </tr>\n",
       "  </tbody>\n",
       "</table>\n",
       "</div>"
      ],
      "text/plain": [
       "     Feature  Importance\n",
       "0        gbr   23.706568\n",
       "1         rf   22.742279\n",
       "2         dt   18.675448\n",
       "3    xgboost   17.488525\n",
       "4        g_r    5.801018\n",
       "5        i_z    3.130489\n",
       "6        r_i    2.674220\n",
       "7      w1_w2    2.368170\n",
       "8      w3_w4    1.671796\n",
       "9   band_num    0.928624\n",
       "10       z_y    0.698434\n",
       "11     w2_w3    0.114429"
      ]
     },
     "metadata": {},
     "output_type": "display_data"
    }
   ],
   "source": [
    "print('Feature importances scaled to sum 100')\n",
    "coef_sorted_meta_df_copy_sum = coef_sorted_meta_df.copy()\n",
    "coef_sorted_meta_df_copy_sum.loc[:, 'Importance'] = coef_sorted_meta_df.loc[:, 'Importance'] /\\\n",
    "                                                     coef_sorted_meta_df.loc[:, 'Importance'].sum() * 100\n",
    "print('Meta model')\n",
    "display(coef_sorted_meta_df_copy_sum)"
   ]
  },
  {
   "cell_type": "code",
   "execution_count": 105,
   "id": "14bd16b2",
   "metadata": {
    "jupyter": {
     "source_hidden": true
    },
    "tags": []
   },
   "outputs": [
    {
     "name": "stdout",
     "output_type": "stream",
     "text": [
      "Feature importances scaled to sum 100\n",
      "Running dtypes\n",
      "Running imputer\n",
      "Running new_levels1\n",
      "Running new_levels\n",
      "Running feature_time\n",
      "Running scaling\n",
      "Running P_transform\n",
      "Running dummy\n",
      "Running fix_perfect\n",
      "Running clean_names\n",
      "--------------------\n",
      "top features:\n",
      "Feature\tImportance\n",
      "i_z\t68.835\n",
      "r_i\t18.803\n",
      "g_r\t8.343\n",
      "z_y\t1.618\n",
      "w1_w2\t0.786\n",
      "w2_w3\t0.773\n",
      "w3_w4\t0.453\n",
      "band_num\t0.388\n"
     ]
    },
    {
     "data": {
      "image/png": "[encoded data removed]",
      "text/plain": [
       "<Figure size 700x1000 with 1 Axes>"
      ]
     },
     "metadata": {},
     "output_type": "display_data"
    }
   ],
   "source": [
    "print('Feature importances scaled to sum 100')\n",
    "try:\n",
    "    fig         = plt.figure(figsize=(7,10))\n",
    "    ax1         = fig.add_subplot(111)\n",
    "    n_top       = len(validation_df.columns)\n",
    "    features_df = get_feature_importances_df(final_z_reg, validation_df, n=n_top)\n",
    "    features    = features_df.loc[:, 'Feature'].to_list()\n",
    "    importances = features_df.loc[:, 'Importance'].to_list()\n",
    "    import_scal = importances / np.nansum(importances)\n",
    "    import_scal_colors = (importances - np.nanmin(importances)) / (np.nanmax(importances) - np.nanmin(importances))\n",
    "    # indices     = np.argsort(importances)[-n_top:] #only show most important features\n",
    "    # indices     = np.argsort(importances)\n",
    "    # ax1.set_title(f'{model_name} Feature Importances', size=14)\n",
    "    ax1.set_title('Feature Importances', size=14)\n",
    "    ax1.barh(range(len(importances)), import_scal * 100,\\\n",
    "             color=plt.get_cmap('bone', len(importances))(import_scal_colors), align='center', ec='k', lw=1.5)\n",
    "    # plt.yticks(range(len(importances)), [features[i] for i in importances])\n",
    "    plt.yticks(range(len(importances)), features)\n",
    "    ax1.set_xlabel('Relative Importance', size=14)\n",
    "    ax1.set_ylabel('Features', size=14)\n",
    "    ax1.tick_params(axis='both', which='major', labelsize=14)\n",
    "    ax1.tick_params(axis='y', which='major', rotation=30)\n",
    "    plt.setp(ax1.spines.values(), linewidth=2.5)\n",
    "    ax1.tick_params(which='both',top=True, right=False, direction='in')\n",
    "    # ax1.set_xscale('log')\n",
    "    # plt.show()\n",
    "    plt.tight_layout()\n",
    "    if save_plot_flag:\n",
    "        plt.savefig('plots/feat_imp_regression_z_07.pdf', bbox_inches='tight')\n",
    "\n",
    "    print('-' * 20)\n",
    "    print('top features:')\n",
    "    print('Feature\\tImportance')\n",
    "    for feat, imp in zip(reversed(features), reversed(import_scal  * 100)):\n",
    "        print(f'{feat}\\t{round(imp, 3):>.3f}')\n",
    "\n",
    "except:\n",
    "    print('learning algorithm does not provide feature importance.')"
   ]
  },
  {
   "cell_type": "code",
   "execution_count": 106,
   "id": "57b00c7d",
   "metadata": {},
   "outputs": [
    {
     "data": {
      "text/html": [
       "<style type=\"text/css\">\n",
       "</style>\n",
       "<table id=\"T_3059b\">\n",
       "  <thead>\n",
       "    <tr>\n",
       "      <th class=\"blank level0\" >&nbsp;</th>\n",
       "      <th id=\"T_3059b_level0_col0\" class=\"col_heading level0 col0\" >Model</th>\n",
       "      <th id=\"T_3059b_level0_col1\" class=\"col_heading level0 col1\" >MAE</th>\n",
       "      <th id=\"T_3059b_level0_col2\" class=\"col_heading level0 col2\" >MSE</th>\n",
       "      <th id=\"T_3059b_level0_col3\" class=\"col_heading level0 col3\" >RMSE</th>\n",
       "      <th id=\"T_3059b_level0_col4\" class=\"col_heading level0 col4\" >R2</th>\n",
       "      <th id=\"T_3059b_level0_col5\" class=\"col_heading level0 col5\" >RMSLE</th>\n",
       "      <th id=\"T_3059b_level0_col6\" class=\"col_heading level0 col6\" >MAPE</th>\n",
       "      <th id=\"T_3059b_level0_col7\" class=\"col_heading level0 col7\" >sigma_mad</th>\n",
       "      <th id=\"T_3059b_level0_col8\" class=\"col_heading level0 col8\" >sigma_nmad</th>\n",
       "      <th id=\"T_3059b_level0_col9\" class=\"col_heading level0 col9\" >sigma_z</th>\n",
       "      <th id=\"T_3059b_level0_col10\" class=\"col_heading level0 col10\" >sigma_z_norm</th>\n",
       "      <th id=\"T_3059b_level0_col11\" class=\"col_heading level0 col11\" >outlier_fr</th>\n",
       "    </tr>\n",
       "  </thead>\n",
       "  <tbody>\n",
       "    <tr>\n",
       "      <th id=\"T_3059b_level0_row0\" class=\"row_heading level0 row0\" >0</th>\n",
       "      <td id=\"T_3059b_row0_col0\" class=\"data row0 col0\" >Stacking Regressor</td>\n",
       "      <td id=\"T_3059b_row0_col1\" class=\"data row0 col1\" >0.3130</td>\n",
       "      <td id=\"T_3059b_row0_col2\" class=\"data row0 col2\" >0.2361</td>\n",
       "      <td id=\"T_3059b_row0_col3\" class=\"data row0 col3\" >0.4859</td>\n",
       "      <td id=\"T_3059b_row0_col4\" class=\"data row0 col4\" >-1.3391</td>\n",
       "      <td id=\"T_3059b_row0_col5\" class=\"data row0 col5\" >0.0894</td>\n",
       "      <td id=\"T_3059b_row0_col6\" class=\"data row0 col6\" >0.0769</td>\n",
       "      <td id=\"T_3059b_row0_col7\" class=\"data row0 col7\" >0.2723</td>\n",
       "      <td id=\"T_3059b_row0_col8\" class=\"data row0 col8\" >0.0548</td>\n",
       "      <td id=\"T_3059b_row0_col9\" class=\"data row0 col9\" >0.4859</td>\n",
       "      <td id=\"T_3059b_row0_col10\" class=\"data row0 col10\" >0.0976</td>\n",
       "      <td id=\"T_3059b_row0_col11\" class=\"data row0 col11\" >0.0714</td>\n",
       "    </tr>\n",
       "  </tbody>\n",
       "</table>\n"
      ],
      "text/plain": [
       "<pandas.io.formats.style.Styler at 0x7feff410af10>"
      ]
     },
     "metadata": {},
     "output_type": "display_data"
    }
   ],
   "source": [
    "validation_prediction_reg = pyr.predict_model(final_z_reg, data=validation_df)"
   ]
  },
  {
   "cell_type": "code",
   "execution_count": 107,
   "id": "a3f83ce9",
   "metadata": {},
   "outputs": [
    {
     "data": {
      "text/html": [
       "<div>\n",
       "<style scoped>\n",
       "    .dataframe tbody tr th:only-of-type {\n",
       "        vertical-align: middle;\n",
       "    }\n",
       "\n",
       "    .dataframe tbody tr th {\n",
       "        vertical-align: top;\n",
       "    }\n",
       "\n",
       "    .dataframe thead th {\n",
       "        text-align: right;\n",
       "    }\n",
       "</style>\n",
       "<table border=\"1\" class=\"dataframe\">\n",
       "  <thead>\n",
       "    <tr style=\"text-align: right;\">\n",
       "      <th></th>\n",
       "      <th>Z</th>\n",
       "      <th>Label</th>\n",
       "    </tr>\n",
       "  </thead>\n",
       "  <tbody>\n",
       "    <tr>\n",
       "      <th>count</th>\n",
       "      <td>14.000000</td>\n",
       "      <td>14.000000</td>\n",
       "    </tr>\n",
       "    <tr>\n",
       "      <th>mean</th>\n",
       "      <td>4.183000</td>\n",
       "      <td>4.262134</td>\n",
       "    </tr>\n",
       "    <tr>\n",
       "      <th>std</th>\n",
       "      <td>0.329723</td>\n",
       "      <td>0.467124</td>\n",
       "    </tr>\n",
       "    <tr>\n",
       "      <th>min</th>\n",
       "      <td>3.780000</td>\n",
       "      <td>3.947599</td>\n",
       "    </tr>\n",
       "    <tr>\n",
       "      <th>25%</th>\n",
       "      <td>3.911500</td>\n",
       "      <td>3.949387</td>\n",
       "    </tr>\n",
       "    <tr>\n",
       "      <th>50%</th>\n",
       "      <td>4.127500</td>\n",
       "      <td>3.953194</td>\n",
       "    </tr>\n",
       "    <tr>\n",
       "      <th>75%</th>\n",
       "      <td>4.406750</td>\n",
       "      <td>4.662124</td>\n",
       "    </tr>\n",
       "    <tr>\n",
       "      <th>max</th>\n",
       "      <td>4.745000</td>\n",
       "      <td>5.346428</td>\n",
       "    </tr>\n",
       "  </tbody>\n",
       "</table>\n",
       "</div>"
      ],
      "text/plain": [
       "               Z      Label\n",
       "count  14.000000  14.000000\n",
       "mean    4.183000   4.262134\n",
       "std     0.329723   0.467124\n",
       "min     3.780000   3.947599\n",
       "25%     3.911500   3.949387\n",
       "50%     4.127500   3.953194\n",
       "75%     4.406750   4.662124\n",
       "max     4.745000   5.346428"
      ]
     },
     "execution_count": 107,
     "metadata": {},
     "output_type": "execute_result"
    }
   ],
   "source": [
    "validation_prediction_reg.loc[:, ['Z', 'Label']].describe()"
   ]
  },
  {
   "cell_type": "code",
   "execution_count": 108,
   "id": "8cc2b8ed",
   "metadata": {},
   "outputs": [],
   "source": [
    "# clb.vmax"
   ]
  },
  {
   "cell_type": "code",
   "execution_count": 109,
   "id": "849aec7f",
   "metadata": {
    "jupyter": {
     "source_hidden": true
    },
    "tags": []
   },
   "outputs": [
    {
     "data": {
      "image/png": "[encoded data removed]",
      "text/plain": [
       "<Figure size 600x500 with 3 Axes>"
      ]
     },
     "metadata": {},
     "output_type": "display_data"
    }
   ],
   "source": [
    "fig             = plt.figure(figsize=(6,5))\n",
    "ax1             = fig.add_subplot(111, projection='scatter_density', xscale='log', yscale='log')\n",
    "plot_redshift_compare(validation_prediction_reg.loc[:, 'Z'], validation_prediction_reg.loc[:, 'Label'],\\\n",
    "                      ax_pre=ax1, title='Validation set', dpi=10, show_clb=True, log_stretch=False)\n",
    "if save_plot_flag:\n",
    "    plt.savefig('plots/compare_plot_validation_redshift_07.pdf', bbox_inches='tight')\n",
    "plt.show()"
   ]
  },
  {
   "cell_type": "code",
   "execution_count": 110,
   "id": "132a116c",
   "metadata": {
    "jupyter": {
     "source_hidden": true
    },
    "tags": []
   },
   "outputs": [],
   "source": [
    "train_size         = 0.7\n",
    "data_split_shuffle = True\n",
    "_stratify_columns  = _get_columns_to_stratify_by(\n",
    "            backup_train_test_df.drop(columns=['Z']), backup_train_test_df.loc[:, 'Z'], False, 'Z'\n",
    "        )\n",
    "\n",
    "X_train, X_test, y_train, y_test = train_test_split(\n",
    "                backup_train_test_df.drop(columns=['Z']),\n",
    "                backup_train_test_df.loc[:, 'Z'],\n",
    "                test_size=1 - train_size,\n",
    "                stratify=_stratify_columns,\n",
    "                random_state=seed,\n",
    "                shuffle=data_split_shuffle,\n",
    "            )\n",
    "train_df        = pd.concat([X_train, y_train], axis=1)\n",
    "test_df         = pd.concat([X_test, y_test], axis=1)"
   ]
  },
  {
   "cell_type": "code",
   "execution_count": 111,
   "id": "ccebb8c3",
   "metadata": {},
   "outputs": [
    {
     "data": {
      "text/html": [
       "<style type=\"text/css\">\n",
       "</style>\n",
       "<table id=\"T_80b14\">\n",
       "  <thead>\n",
       "    <tr>\n",
       "      <th class=\"blank level0\" >&nbsp;</th>\n",
       "      <th id=\"T_80b14_level0_col0\" class=\"col_heading level0 col0\" >Model</th>\n",
       "      <th id=\"T_80b14_level0_col1\" class=\"col_heading level0 col1\" >MAE</th>\n",
       "      <th id=\"T_80b14_level0_col2\" class=\"col_heading level0 col2\" >MSE</th>\n",
       "      <th id=\"T_80b14_level0_col3\" class=\"col_heading level0 col3\" >RMSE</th>\n",
       "      <th id=\"T_80b14_level0_col4\" class=\"col_heading level0 col4\" >R2</th>\n",
       "      <th id=\"T_80b14_level0_col5\" class=\"col_heading level0 col5\" >RMSLE</th>\n",
       "      <th id=\"T_80b14_level0_col6\" class=\"col_heading level0 col6\" >MAPE</th>\n",
       "      <th id=\"T_80b14_level0_col7\" class=\"col_heading level0 col7\" >sigma_mad</th>\n",
       "      <th id=\"T_80b14_level0_col8\" class=\"col_heading level0 col8\" >sigma_nmad</th>\n",
       "      <th id=\"T_80b14_level0_col9\" class=\"col_heading level0 col9\" >sigma_z</th>\n",
       "      <th id=\"T_80b14_level0_col10\" class=\"col_heading level0 col10\" >sigma_z_norm</th>\n",
       "      <th id=\"T_80b14_level0_col11\" class=\"col_heading level0 col11\" >outlier_fr</th>\n",
       "    </tr>\n",
       "  </thead>\n",
       "  <tbody>\n",
       "    <tr>\n",
       "      <th id=\"T_80b14_level0_row0\" class=\"row_heading level0 row0\" >0</th>\n",
       "      <td id=\"T_80b14_row0_col0\" class=\"data row0 col0\" >Stacking Regressor</td>\n",
       "      <td id=\"T_80b14_row0_col1\" class=\"data row0 col1\" >0.1198</td>\n",
       "      <td id=\"T_80b14_row0_col2\" class=\"data row0 col2\" >0.0197</td>\n",
       "      <td id=\"T_80b14_row0_col3\" class=\"data row0 col3\" >0.1405</td>\n",
       "      <td id=\"T_80b14_row0_col4\" class=\"data row0 col4\" >0.8816</td>\n",
       "      <td id=\"T_80b14_row0_col5\" class=\"data row0 col5\" >0.0281</td>\n",
       "      <td id=\"T_80b14_row0_col6\" class=\"data row0 col6\" >0.0300</td>\n",
       "      <td id=\"T_80b14_row0_col7\" class=\"data row0 col7\" >0.1942</td>\n",
       "      <td id=\"T_80b14_row0_col8\" class=\"data row0 col8\" >0.0382</td>\n",
       "      <td id=\"T_80b14_row0_col9\" class=\"data row0 col9\" >0.1405</td>\n",
       "      <td id=\"T_80b14_row0_col10\" class=\"data row0 col10\" >0.0282</td>\n",
       "      <td id=\"T_80b14_row0_col11\" class=\"data row0 col11\" >0.0000</td>\n",
       "    </tr>\n",
       "  </tbody>\n",
       "</table>\n"
      ],
      "text/plain": [
       "<pandas.io.formats.style.Styler at 0x7fefb226b640>"
      ]
     },
     "metadata": {},
     "output_type": "display_data"
    },
    {
     "data": {
      "text/html": [
       "<style type=\"text/css\">\n",
       "</style>\n",
       "<table id=\"T_f0a80\">\n",
       "  <thead>\n",
       "    <tr>\n",
       "      <th class=\"blank level0\" >&nbsp;</th>\n",
       "      <th id=\"T_f0a80_level0_col0\" class=\"col_heading level0 col0\" >Model</th>\n",
       "      <th id=\"T_f0a80_level0_col1\" class=\"col_heading level0 col1\" >MAE</th>\n",
       "      <th id=\"T_f0a80_level0_col2\" class=\"col_heading level0 col2\" >MSE</th>\n",
       "      <th id=\"T_f0a80_level0_col3\" class=\"col_heading level0 col3\" >RMSE</th>\n",
       "      <th id=\"T_f0a80_level0_col4\" class=\"col_heading level0 col4\" >R2</th>\n",
       "      <th id=\"T_f0a80_level0_col5\" class=\"col_heading level0 col5\" >RMSLE</th>\n",
       "      <th id=\"T_f0a80_level0_col6\" class=\"col_heading level0 col6\" >MAPE</th>\n",
       "      <th id=\"T_f0a80_level0_col7\" class=\"col_heading level0 col7\" >sigma_mad</th>\n",
       "      <th id=\"T_f0a80_level0_col8\" class=\"col_heading level0 col8\" >sigma_nmad</th>\n",
       "      <th id=\"T_f0a80_level0_col9\" class=\"col_heading level0 col9\" >sigma_z</th>\n",
       "      <th id=\"T_f0a80_level0_col10\" class=\"col_heading level0 col10\" >sigma_z_norm</th>\n",
       "      <th id=\"T_f0a80_level0_col11\" class=\"col_heading level0 col11\" >outlier_fr</th>\n",
       "    </tr>\n",
       "  </thead>\n",
       "  <tbody>\n",
       "    <tr>\n",
       "      <th id=\"T_f0a80_level0_row0\" class=\"row_heading level0 row0\" >0</th>\n",
       "      <td id=\"T_f0a80_row0_col0\" class=\"data row0 col0\" >Stacking Regressor</td>\n",
       "      <td id=\"T_f0a80_row0_col1\" class=\"data row0 col1\" >0.1121</td>\n",
       "      <td id=\"T_f0a80_row0_col2\" class=\"data row0 col2\" >0.0181</td>\n",
       "      <td id=\"T_f0a80_row0_col3\" class=\"data row0 col3\" >0.1344</td>\n",
       "      <td id=\"T_f0a80_row0_col4\" class=\"data row0 col4\" >0.9609</td>\n",
       "      <td id=\"T_f0a80_row0_col5\" class=\"data row0 col5\" >0.0264</td>\n",
       "      <td id=\"T_f0a80_row0_col6\" class=\"data row0 col6\" >0.0271</td>\n",
       "      <td id=\"T_f0a80_row0_col7\" class=\"data row0 col7\" >0.1351</td>\n",
       "      <td id=\"T_f0a80_row0_col8\" class=\"data row0 col8\" >0.0272</td>\n",
       "      <td id=\"T_f0a80_row0_col9\" class=\"data row0 col9\" >0.1344</td>\n",
       "      <td id=\"T_f0a80_row0_col10\" class=\"data row0 col10\" >0.0266</td>\n",
       "      <td id=\"T_f0a80_row0_col11\" class=\"data row0 col11\" >0.0000</td>\n",
       "    </tr>\n",
       "  </tbody>\n",
       "</table>\n"
      ],
      "text/plain": [
       "<pandas.io.formats.style.Styler at 0x7feff410a2b0>"
      ]
     },
     "metadata": {},
     "output_type": "display_data"
    },
    {
     "data": {
      "text/html": [
       "<style type=\"text/css\">\n",
       "</style>\n",
       "<table id=\"T_f41db\">\n",
       "  <thead>\n",
       "    <tr>\n",
       "      <th class=\"blank level0\" >&nbsp;</th>\n",
       "      <th id=\"T_f41db_level0_col0\" class=\"col_heading level0 col0\" >Model</th>\n",
       "      <th id=\"T_f41db_level0_col1\" class=\"col_heading level0 col1\" >MAE</th>\n",
       "      <th id=\"T_f41db_level0_col2\" class=\"col_heading level0 col2\" >MSE</th>\n",
       "      <th id=\"T_f41db_level0_col3\" class=\"col_heading level0 col3\" >RMSE</th>\n",
       "      <th id=\"T_f41db_level0_col4\" class=\"col_heading level0 col4\" >R2</th>\n",
       "      <th id=\"T_f41db_level0_col5\" class=\"col_heading level0 col5\" >RMSLE</th>\n",
       "      <th id=\"T_f41db_level0_col6\" class=\"col_heading level0 col6\" >MAPE</th>\n",
       "      <th id=\"T_f41db_level0_col7\" class=\"col_heading level0 col7\" >sigma_mad</th>\n",
       "      <th id=\"T_f41db_level0_col8\" class=\"col_heading level0 col8\" >sigma_nmad</th>\n",
       "      <th id=\"T_f41db_level0_col9\" class=\"col_heading level0 col9\" >sigma_z</th>\n",
       "      <th id=\"T_f41db_level0_col10\" class=\"col_heading level0 col10\" >sigma_z_norm</th>\n",
       "      <th id=\"T_f41db_level0_col11\" class=\"col_heading level0 col11\" >outlier_fr</th>\n",
       "    </tr>\n",
       "  </thead>\n",
       "  <tbody>\n",
       "    <tr>\n",
       "      <th id=\"T_f41db_level0_row0\" class=\"row_heading level0 row0\" >0</th>\n",
       "      <td id=\"T_f41db_row0_col0\" class=\"data row0 col0\" >Stacking Regressor</td>\n",
       "      <td id=\"T_f41db_row0_col1\" class=\"data row0 col1\" >0.0903</td>\n",
       "      <td id=\"T_f41db_row0_col2\" class=\"data row0 col2\" >0.0124</td>\n",
       "      <td id=\"T_f41db_row0_col3\" class=\"data row0 col3\" >0.1115</td>\n",
       "      <td id=\"T_f41db_row0_col4\" class=\"data row0 col4\" >0.9814</td>\n",
       "      <td id=\"T_f41db_row0_col5\" class=\"data row0 col5\" >0.0215</td>\n",
       "      <td id=\"T_f41db_row0_col6\" class=\"data row0 col6\" >0.0207</td>\n",
       "      <td id=\"T_f41db_row0_col7\" class=\"data row0 col7\" >0.1009</td>\n",
       "      <td id=\"T_f41db_row0_col8\" class=\"data row0 col8\" >0.0164</td>\n",
       "      <td id=\"T_f41db_row0_col9\" class=\"data row0 col9\" >0.1115</td>\n",
       "      <td id=\"T_f41db_row0_col10\" class=\"data row0 col10\" >0.0216</td>\n",
       "      <td id=\"T_f41db_row0_col11\" class=\"data row0 col11\" >0.0000</td>\n",
       "    </tr>\n",
       "  </tbody>\n",
       "</table>\n"
      ],
      "text/plain": [
       "<pandas.io.formats.style.Styler at 0x7feff40d9910>"
      ]
     },
     "metadata": {},
     "output_type": "display_data"
    }
   ],
   "source": [
    "train_prediction_reg      = pyr.predict_model(final_z_reg, data=train_df)\n",
    "test_prediction_reg       = pyr.predict_model(final_z_reg, data=test_df)\n",
    "train_test_prediction_reg = pyr.predict_model(final_z_reg, data=train_test_df)"
   ]
  },
  {
   "cell_type": "code",
   "execution_count": 112,
   "id": "6d6db8c8",
   "metadata": {
    "jupyter": {
     "source_hidden": true
    },
    "tags": []
   },
   "outputs": [],
   "source": [
    "sigma_mad_train         = sigma_mad(train_prediction_reg.loc[:, 'Z'],         train_prediction_reg.loc[:, 'Label'])\n",
    "sigma_mad_test          = sigma_mad(test_prediction_reg.loc[:, 'Z'],          test_prediction_reg.loc[:, 'Label'])\n",
    "sigma_mad_train_test    = sigma_mad(train_test_prediction_reg.loc[:, 'Z'],    train_test_prediction_reg.loc[:, 'Label'])\n",
    "sigma_mad_valid         = sigma_mad(validation_prediction_reg.loc[:, 'Z'],    validation_prediction_reg.loc[:, 'Label'])"
   ]
  },
  {
   "cell_type": "code",
   "execution_count": 113,
   "id": "b7cc02f9",
   "metadata": {
    "jupyter": {
     "source_hidden": true
    },
    "tags": []
   },
   "outputs": [],
   "source": [
    "sigma_nmad_train        = sigma_nmad(train_prediction_reg.loc[:, 'Z'],        train_prediction_reg.loc[:, 'Label'])\n",
    "sigma_nmad_test         = sigma_nmad(test_prediction_reg.loc[:, 'Z'],         test_prediction_reg.loc[:, 'Label'])\n",
    "sigma_nmad_train_test   = sigma_nmad(train_test_prediction_reg.loc[:, 'Z'],   train_test_prediction_reg.loc[:, 'Label'])\n",
    "sigma_nmad_valid        = sigma_nmad(validation_prediction_reg.loc[:, 'Z'],   validation_prediction_reg.loc[:, 'Label'])"
   ]
  },
  {
   "cell_type": "code",
   "execution_count": 114,
   "id": "5703f107",
   "metadata": {
    "jupyter": {
     "source_hidden": true
    },
    "tags": []
   },
   "outputs": [],
   "source": [
    "sigma_z_train           = sigma_z(train_prediction_reg.loc[:, 'Z'],           train_prediction_reg.loc[:, 'Label'])\n",
    "sigma_z_test            = sigma_z(test_prediction_reg.loc[:, 'Z'],            test_prediction_reg.loc[:, 'Label'])\n",
    "sigma_z_train_test      = sigma_z(train_test_prediction_reg.loc[:, 'Z'],      train_test_prediction_reg.loc[:, 'Label'])\n",
    "sigma_z_valid           = sigma_z(validation_prediction_reg.loc[:, 'Z'],      validation_prediction_reg.loc[:, 'Label'])"
   ]
  },
  {
   "cell_type": "code",
   "execution_count": 115,
   "id": "81154633",
   "metadata": {
    "jupyter": {
     "source_hidden": true
    },
    "tags": []
   },
   "outputs": [],
   "source": [
    "sigma_z_norm_train      = sigma_z_norm(train_prediction_reg.loc[:, 'Z'],      train_prediction_reg.loc[:, 'Label'])\n",
    "sigma_z_norm_test       = sigma_z_norm(test_prediction_reg.loc[:, 'Z'],       test_prediction_reg.loc[:, 'Label'])\n",
    "sigma_z_norm_train_test = sigma_z_norm(train_test_prediction_reg.loc[:, 'Z'], train_test_prediction_reg.loc[:, 'Label'])\n",
    "sigma_z_norm_valid      = sigma_z_norm(validation_prediction_reg.loc[:, 'Z'], validation_prediction_reg.loc[:, 'Label'])"
   ]
  },
  {
   "cell_type": "code",
   "execution_count": 116,
   "id": "3ca1e0a9",
   "metadata": {
    "jupyter": {
     "source_hidden": true
    },
    "tags": []
   },
   "outputs": [],
   "source": [
    "out_frac_train      = outlier_frac(train_prediction_reg.loc[:, 'Z'],           train_prediction_reg.loc[:, 'Label'])\n",
    "out_frac_test       = outlier_frac(test_prediction_reg.loc[:, 'Z'],            test_prediction_reg.loc[:, 'Label'])\n",
    "out_frac_train_test = outlier_frac(train_test_prediction_reg.loc[:, 'Z'],      train_test_prediction_reg.loc[:, 'Label'])\n",
    "out_frac_valid      = outlier_frac(validation_prediction_reg.loc[:, 'Z'],      validation_prediction_reg.loc[:, 'Label'])"
   ]
  },
  {
   "cell_type": "code",
   "execution_count": 117,
   "id": "5187b18c",
   "metadata": {
    "jupyter": {
     "source_hidden": true
    },
    "tags": []
   },
   "outputs": [
    {
     "name": "stdout",
     "output_type": "stream",
     "text": [
      "Scores for training set:\n",
      "Sigma MAD:\t\t0.1942\n",
      "Sigma NMAD:\t\t0.0382\n",
      "Sigma z:\t\t0.1405\n",
      "Sigma z norm:\t\t0.0282\n",
      "Out fraction:\t\t0.0000\n",
      "-----------------------------------\n"
     ]
    }
   ],
   "source": [
    "print('Scores for training set:')\n",
    "print(f'Sigma MAD:\\t\\t{sigma_mad_train:.4f}')\n",
    "print(f'Sigma NMAD:\\t\\t{sigma_nmad_train:.4f}')\n",
    "print(f'Sigma z:\\t\\t{sigma_z_train:.4f}')\n",
    "print(f'Sigma z norm:\\t\\t{sigma_z_norm_train:.4f}')\n",
    "print(f'Out fraction:\\t\\t{out_frac_train:.4f}')\n",
    "print('-' * 35)"
   ]
  },
  {
   "cell_type": "code",
   "execution_count": 118,
   "id": "f284320a",
   "metadata": {
    "jupyter": {
     "source_hidden": true
    },
    "tags": []
   },
   "outputs": [
    {
     "name": "stdout",
     "output_type": "stream",
     "text": [
      "Scores for test set:\n",
      "Sigma MAD:\t\t0.1351\n",
      "Sigma NMAD:\t\t0.0272\n",
      "Sigma z:\t\t0.1344\n",
      "Sigma z norm:\t\t0.0266\n",
      "Out fraction:\t\t0.0000\n",
      "-----------------------------------\n"
     ]
    }
   ],
   "source": [
    "print('Scores for test set:')\n",
    "print(f'Sigma MAD:\\t\\t{sigma_mad_test:.4f}')\n",
    "print(f'Sigma NMAD:\\t\\t{sigma_nmad_test:.4f}')\n",
    "print(f'Sigma z:\\t\\t{sigma_z_test:.4f}')\n",
    "print(f'Sigma z norm:\\t\\t{sigma_z_norm_test:.4f}')\n",
    "print(f'Out fraction:\\t\\t{out_frac_test:.4f}')\n",
    "print('-' * 35)"
   ]
  },
  {
   "cell_type": "code",
   "execution_count": 119,
   "id": "e954edf0",
   "metadata": {
    "jupyter": {
     "source_hidden": true
    },
    "tags": []
   },
   "outputs": [
    {
     "name": "stdout",
     "output_type": "stream",
     "text": [
      "Scores for training+test set:\n",
      "Sigma MAD:\t\t0.1009\n",
      "Sigma NMAD:\t\t0.0164\n",
      "Sigma z:\t\t0.1115\n",
      "Sigma z norm:\t\t0.0216\n",
      "Out fraction:\t\t0.0000\n",
      "-----------------------------------\n"
     ]
    }
   ],
   "source": [
    "print('Scores for training+test set:')\n",
    "print(f'Sigma MAD:\\t\\t{sigma_mad_train_test:.4f}')\n",
    "print(f'Sigma NMAD:\\t\\t{sigma_nmad_train_test:.4f}')\n",
    "print(f'Sigma z:\\t\\t{sigma_z_train_test:.4f}')\n",
    "print(f'Sigma z norm:\\t\\t{sigma_z_norm_train_test:.4f}')\n",
    "print(f'Out fraction:\\t\\t{out_frac_train_test:.4f}')\n",
    "print('-' * 35)"
   ]
  },
  {
   "cell_type": "code",
   "execution_count": 120,
   "id": "230fe986",
   "metadata": {
    "jupyter": {
     "source_hidden": true
    },
    "tags": []
   },
   "outputs": [
    {
     "name": "stdout",
     "output_type": "stream",
     "text": [
      "Scores for validation set:\n",
      "Sigma MAD:\t\t0.2723\n",
      "Sigma NMAD:\t\t0.0548\n",
      "Sigma z:\t\t0.4859\n",
      "Sigma z norm:\t\t0.0976\n",
      "Out fraction:\t\t0.0714\n",
      "-----------------------------------\n"
     ]
    }
   ],
   "source": [
    "print('Scores for validation set:')\n",
    "print(f'Sigma MAD:\\t\\t{sigma_mad_valid:.4f}')\n",
    "print(f'Sigma NMAD:\\t\\t{sigma_nmad_valid:.4f}')\n",
    "print(f'Sigma z:\\t\\t{sigma_z_valid:.4f}')\n",
    "print(f'Sigma z norm:\\t\\t{sigma_z_norm_valid:.4f}')\n",
    "print(f'Out fraction:\\t\\t{out_frac_valid:.4f}')\n",
    "print('-' * 35)"
   ]
  },
  {
   "cell_type": "code",
   "execution_count": 121,
   "id": "bdb747ea",
   "metadata": {
    "jupyter": {
     "source_hidden": true
    },
    "tags": []
   },
   "outputs": [
    {
     "data": {
      "image/png": "[encoded data removed]",
      "text/plain": [
       "<Figure size 600x500 with 3 Axes>"
      ]
     },
     "metadata": {},
     "output_type": "display_data"
    }
   ],
   "source": [
    "fig             = plt.figure(figsize=(6,5))\n",
    "ax1             = fig.add_subplot(111, projection='scatter_density', xscale='log', yscale='log')\n",
    "plot_redshift_compare(train_prediction_reg.loc[:, 'Z'], train_prediction_reg.loc[:, 'Label'],\\\n",
    "                      ax_pre=ax1, title='Training set', dpi=10, show_clb=True, log_stretch=False)\n",
    "if save_plot_flag:\n",
    "    plt.savefig('plots/compare_plot_train_redshift_07.pdf', bbox_inches='tight')\n",
    "plt.show()"
   ]
  },
  {
   "cell_type": "code",
   "execution_count": 122,
   "id": "133b7362",
   "metadata": {
    "jupyter": {
     "source_hidden": true
    },
    "tags": []
   },
   "outputs": [
    {
     "data": {
      "image/png": "[encoded data removed]",
      "text/plain": [
       "<Figure size 600x500 with 3 Axes>"
      ]
     },
     "metadata": {},
     "output_type": "display_data"
    }
   ],
   "source": [
    "fig             = plt.figure(figsize=(6,5))\n",
    "ax1             = fig.add_subplot(111, projection='scatter_density', xscale='log', yscale='log')\n",
    "plot_redshift_compare(test_prediction_reg.loc[:, 'Z'], test_prediction_reg.loc[:, 'Label'],\\\n",
    "                      ax_pre=ax1, title='Test set', dpi=10, show_clb=True, log_stretch=False)\n",
    "if save_plot_flag:\n",
    "    plt.savefig('plots/compare_plot_test_redshift_07.pdf', bbox_inches='tight')\n",
    "plt.show()"
   ]
  },
  {
   "cell_type": "code",
   "execution_count": 123,
   "id": "8b8c5c38",
   "metadata": {
    "jupyter": {
     "source_hidden": true
    },
    "tags": []
   },
   "outputs": [
    {
     "data": {
      "image/png": "[encoded data removed]",
      "text/plain": [
       "<Figure size 600x500 with 3 Axes>"
      ]
     },
     "metadata": {},
     "output_type": "display_data"
    }
   ],
   "source": [
    "fig             = plt.figure(figsize=(6,5))\n",
    "ax1             = fig.add_subplot(111, projection='scatter_density', xscale='log', yscale='log')\n",
    "plot_redshift_compare(train_test_prediction_reg.loc[:, 'Z'], train_test_prediction_reg.loc[:, 'Label'],\\\n",
    "                      ax_pre=ax1, title='Train+test set', dpi=10, show_clb=True, log_stretch=False)\n",
    "if save_plot_flag:\n",
    "    plt.savefig('plots/compare_plot_train_test_redshift_07.pdf', bbox_inches='tight')\n",
    "plt.show()"
   ]
  },
  {
   "cell_type": "code",
   "execution_count": 124,
   "id": "789c78cd",
   "metadata": {
    "jupyter": {
     "source_hidden": true
    },
    "tags": []
   },
   "outputs": [
    {
     "data": {
      "image/png": "[encoded data removed]",
      "text/plain": [
       "<Figure size 1000x350 with 1 Axes>"
      ]
     },
     "metadata": {},
     "output_type": "display_data"
    }
   ],
   "source": [
    "fig             = plt.figure(figsize=(10,3.5))\n",
    "ax1             = fig.add_subplot(111, xscale='linear', yscale='log')\n",
    "\n",
    "min_for_range = np.nanmin([np.nanmin(validation_prediction_reg.loc[:, 'Z']),\\\n",
    "                           np.nanmin(validation_prediction_reg.loc[:, 'Label'])])\n",
    "max_for_range = np.nanmax([np.nanmax(validation_prediction_reg.loc[:, 'Z']),\\\n",
    "                           np.nanmax(validation_prediction_reg.loc[:, 'Label'])])\n",
    "bins_z        = np.linspace(min_for_range, max_for_range, 50)\n",
    "\n",
    "_, bins, _ = ax1.hist(validation_prediction_reg.loc[:, 'Label'], bins=bins_z, histtype='stepfilled',\\\n",
    "                      ec='k', fc='mediumpurple', lw=3.5,\\\n",
    "                      label=f\"Predicted\\nN={np.sum(np.array(validation_prediction_reg.loc[:, 'Label'] > 0))}\")\n",
    "ax1.hist(validation_prediction_reg.loc[:, 'Z'], bins=bins_z, histtype='stepfilled', ec='k', fc='darkcyan',\\\n",
    "         lw=3.5, label=f\"True\\nN={np.sum(np.array(validation_prediction_reg.loc[:, 'Z'] > 0))}\", alpha=0.7)\n",
    "\n",
    "ax1.tick_params(which='both', top=True, right=True, direction='in')\n",
    "ax1.tick_params(axis='both', which='major', labelsize=14)\n",
    "ax1.tick_params(which='major', length=8, width=1.5)\n",
    "ax1.tick_params(which='minor', length=4, width=1.5)\n",
    "# ax1.set_xlabel('$m_{\\mathrm{W1}}\\, \\mathrm{[AB]}$', size=20)\n",
    "ax1.set_xlabel('$z_{\\mathrm{AGN}}$', size=20)\n",
    "ax1.set_ylabel('Frequency', size=20)\n",
    "# ax1.set_ylabel('Frequency', size=20)\n",
    "plt.setp(ax1.spines.values(), linewidth=3.5)\n",
    "plt.setp(ax1.spines.values(), linewidth=3.5)\n",
    "plt.legend(loc=1, fontsize=20)\n",
    "# ax1.invert_xaxis()\n",
    "# ax1.set_xlim(left=-4, right=6)\n",
    "#ax1.set_aspect('equal', 'box')\n",
    "fig.tight_layout()\n",
    "if save_plot_flag:\n",
    "    plt.savefig('plots/hist_true_predicted_z_07.pdf')\n",
    "plt.show()"
   ]
  },
  {
   "cell_type": "code",
   "execution_count": null,
   "id": "e45361a1",
   "metadata": {},
   "outputs": [],
   "source": []
  }
 ],
 "metadata": {
  "accelerator": "GPU",
  "colab": {
   "name": "HETDEX_pipeline_AGN_training.ipynb",
   "provenance": []
  },
  "kernelspec": {
   "display_name": "Python 3 (ipykernel)",
   "language": "python",
   "name": "python3"
  },
  "language_info": {
   "codemirror_mode": {
    "name": "ipython",
    "version": 3
   },
   "file_extension": ".py",
   "mimetype": "text/x-python",
   "name": "python",
   "nbconvert_exporter": "python",
   "pygments_lexer": "ipython3",
   "version": "3.8.13"
  }
 },
 "nbformat": 4,
 "nbformat_minor": 5
}
