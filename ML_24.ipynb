{
 "cells": [
  {
   "cell_type": "markdown",
   "id": "1498a550",
   "metadata": {
    "id": "c71fae7e-a4c4-4950-8c16-4a74a1e69482"
   },
   "source": [
    "# Pipeline for High-z Radio Galaxies 23: Redshift prediction (high z, new instance)"
   ]
  },
  {
   "cell_type": "markdown",
   "id": "428061d3",
   "metadata": {
    "id": "714a7301-9b3d-4ad9-9659-b68cad4014c5"
   },
   "source": [
    "## Introduction"
   ]
  },
  {
   "cell_type": "markdown",
   "id": "9e5d379d",
   "metadata": {
    "id": "dea6dd12-650e-4ab6-bae7-0268f78e7fea"
   },
   "source": [
    "Training for regression (prediction) of redshift for sources in the HETDEX field. \n",
    "\n",
    "Sources are all elements detected in the CatWISE2020 catalogue. But regression  \n",
    "will be done only with AGN from the Million Quasar Catalog (MQC).  \n",
    "Only sources with confirmed $z$ will be used.\n",
    "\n",
    "Also, as a test, only high-redshift sources ($z \\geq 3.7$, from recall behaviour. Turn-off point) will be used.\n",
    "\n",
    "Being either AGN or galaxy will not be used as an additional feature."
   ]
  },
  {
   "cell_type": "markdown",
   "id": "927c207f",
   "metadata": {
    "id": "00a0aec8-0112-4728-a8fe-f99cdf05a33b"
   },
   "source": [
    "Training data is from HETDEX Spring Field."
   ]
  },
  {
   "cell_type": "code",
   "execution_count": 1,
   "id": "ed99aa4c",
   "metadata": {
    "id": "1161a2b6-ef8d-429d-8dea-40f0de36e393"
   },
   "outputs": [],
   "source": [
    "%matplotlib inline\n",
    "# Static plots\n",
    "#%matplotlib ipympl\n",
    "# Interactive plots\n",
    "import numpy as np\n",
    "import matplotlib as mpl\n",
    "from matplotlib import ticker\n",
    "import matplotlib.cm as cm\n",
    "import matplotlib.pyplot as plt\n",
    "import matplotlib.colors as mcolors\n",
    "import matplotlib.patheffects as mpe\n",
    "import mpl_scatter_density\n",
    "from mpl_toolkits.axes_grid1.inset_locator import inset_axes\n",
    "from astropy.visualization import LogStretch, PowerStretch\n",
    "from astropy.visualization.mpl_normalize import ImageNormalize\n",
    "from sklearn.preprocessing import MinMaxScaler\n",
    "from sklearn.model_selection import train_test_split\n",
    "# from sklearn.metrics import ConfusionMatrixDisplay, roc_auc_score, roc_curve, RocCurveDisplay, matthews_corrcoef\n",
    "# from sklearn.calibration import calibration_curve\n",
    "import sklearn.pipeline\n",
    "import ppscore as pps\n",
    "import seaborn as sns\n",
    "import colorcet as cc\n",
    "# from pycaret import classification as pyc\n",
    "from pycaret import regression as pyr\n",
    "from pycaret.internal.tabular import _get_columns_to_stratify_by\n",
    "import pandas as pd\n",
    "import smogn"
   ]
  },
  {
   "cell_type": "code",
   "execution_count": 2,
   "id": "4cc54c3e",
   "metadata": {},
   "outputs": [],
   "source": [
    "mpl.rcdefaults()"
   ]
  },
  {
   "cell_type": "markdown",
   "id": "316f212d",
   "metadata": {
    "id": "9647d74a-8d80-4d24-a2f4-023184fa27ac"
   },
   "source": [
    "Create class to normalize asymmetric colorscales  \n",
    "(from [http://chris35wills.github.io/matplotlib_diverging_colorbar/](http://chris35wills.github.io/matplotlib_diverging_colorbar/))."
   ]
  },
  {
   "cell_type": "code",
   "execution_count": 3,
   "id": "c19e269e",
   "metadata": {
    "id": "652a8557-e595-4861-af72-5d3220fb7620",
    "jupyter": {
     "source_hidden": true
    },
    "tags": []
   },
   "outputs": [],
   "source": [
    "class MidpointNormalize(mcolors.Normalize):\n",
    "    \"\"\"\n",
    "    Normalise the colorbar so that diverging bars work there way either side from a prescribed midpoint value)\n",
    "\n",
    "    e.g. im=ax1.imshow(array, norm=MidpointNormalize(midpoint=0.,vmin=-100, vmax=100))\n",
    "    \"\"\"\n",
    "    def __init__(self, vmin=None, vmax=None, midpoint=None, clip=False):\n",
    "        self.midpoint = midpoint\n",
    "        mcolors.Normalize.__init__(self, vmin, vmax, clip)\n",
    "\n",
    "    def __call__(self, value, clip=None):\n",
    "        # I'm ignoring masked values and all kinds of edge cases to make a\n",
    "        # simple example...\n",
    "        x, y = [self.vmin, self.midpoint, self.vmax], [0, 0.5, 1]\n",
    "        return np.ma.masked_array(np.interp(value, x, y), np.isnan(value))"
   ]
  },
  {
   "cell_type": "markdown",
   "id": "20db3ba4",
   "metadata": {
    "id": "0bc24aa0-581a-4c39-bc90-b18f85385e78"
   },
   "source": [
    "For future plots, we can configure their aspect too."
   ]
  },
  {
   "cell_type": "code",
   "execution_count": 4,
   "id": "ef987c6d",
   "metadata": {
    "id": "cc05a86c-85e4-46e7-9b7f-f8ac4abd4ff2",
    "jupyter": {
     "source_hidden": true
    },
    "tags": []
   },
   "outputs": [],
   "source": [
    "cmap           = cm.get_cmap('inferno')\n",
    "cmap_alt       = cm.get_cmap('Dark2')\n",
    "cmap_alt_2     = cm.get_cmap('Greys_r')  # Shades of grey\n",
    "cmap_alt_3     = cm.get_cmap('coolwarm')  # blue to red\n",
    "dark_color     = cmap(0.4)  # RGBA color code\n",
    "light_color    = cmap(0.6)  # RGBA color code\n",
    "colors         = [cmap(0.15), cmap(0.30), cmap(0.45), cmap(0.60), cmap(0.75), cmap(0.90)]\n",
    "colors_3       = [cmap(0.25), cmap(0.50), cmap(0.75)]\n",
    "colors_3_alt   = [cmap_alt(0.25), cmap_alt(0.50), cmap_alt(0.75)]\n",
    "colors_3_alt_2 = [cmap_alt_2(0.25), cmap_alt_2(0.50), cmap_alt_2(0.75)]\n",
    "colors_8       = [cmap(0.12), cmap(0.24), cmap(0.35), cmap(0.48), cmap(0.6), cmap(0.72), cmap(0.84), cmap(0.96)]\n",
    "colors_8_alt   = [cmap_alt(0.12), cmap_alt(0.24), cmap_alt(0.35), cmap_alt(0.48), cmap_alt(0.6), cmap_alt(0.72),\\\n",
    "                  cmap_alt(0.84), cmap_alt(0.96)]\n",
    "colors_8_alt_2 = [cmap_alt_2(0.06), cmap_alt_2(0.18), cmap_alt_2(0.29), cmap_alt_2(0.42), cmap_alt_2(0.54),\\\n",
    "                  cmap_alt_2(0.66), cmap_alt_2(0.78), cmap_alt_2(0.90)]\n",
    "colors_8_alt_3 = [cmap_alt_3(0.06), cmap_alt_3(0.18), cmap_alt_3(0.29), cmap_alt_3(0.42), cmap_alt_3(0.54),\\\n",
    "                  cmap_alt_3(0.66), cmap_alt_3(0.78), cmap_alt_3(0.90)]"
   ]
  },
  {
   "cell_type": "code",
   "execution_count": 5,
   "id": "c1fd532d",
   "metadata": {
    "id": "f7b5bb0d-e1c0-415d-b7a8-3237c86e6c7b",
    "jupyter": {
     "source_hidden": true
    },
    "tags": []
   },
   "outputs": [],
   "source": [
    "pe1            = [mpe.Stroke(linewidth=5.0, foreground='black'),\n",
    "                  mpe.Stroke(foreground='white', alpha=1),\n",
    "                  mpe.Normal()]\n",
    "pe2            = [mpe.Stroke(linewidth=3.0, foreground='white'),\n",
    "                  mpe.Stroke(foreground='white', alpha=1),\n",
    "                  mpe.Normal()]\n",
    "\n",
    "alp_str        = r'$\\alpha$'"
   ]
  },
  {
   "cell_type": "markdown",
   "id": "68cc4135",
   "metadata": {},
   "source": [
    "Define specific metrics for redshift values:  \n",
    "\n",
    "$$\n",
    "\\sigma_{\\mathrm{NMAD}} = 1.48 \\times \\mathrm{median}\\left(\\frac{|(z_{True} - z_{Predict})|}{(1 + z_{True})}\\right)\n",
    "$$"
   ]
  },
  {
   "cell_type": "code",
   "execution_count": 6,
   "id": "e0bddc87",
   "metadata": {
    "jupyter": {
     "source_hidden": true
    },
    "tags": []
   },
   "outputs": [],
   "source": [
    "def sigma_mad(z_true, z_pred, **kwargs):\n",
    "    med = np.nanmedian(np.abs(z_true - z_pred)).astype('float32')\n",
    "    return 1.48 * med"
   ]
  },
  {
   "cell_type": "code",
   "execution_count": 7,
   "id": "8beac398",
   "metadata": {
    "jupyter": {
     "source_hidden": true
    },
    "tags": []
   },
   "outputs": [],
   "source": [
    "def sigma_nmad(z_true, z_pred, **kwargs):\n",
    "    dif  = (z_true - z_pred)\n",
    "    frac = dif / (1 + z_true).values\n",
    "    med  = np.nanmedian(np.abs(frac)).astype('float32')\n",
    "    return 1.48 * med"
   ]
  },
  {
   "cell_type": "code",
   "execution_count": 8,
   "id": "feebffb9",
   "metadata": {
    "jupyter": {
     "source_hidden": true
    },
    "tags": []
   },
   "outputs": [],
   "source": [
    "def sigma_z(z_true, z_pred, **kwargs):\n",
    "    dif = z_true - z_pred\n",
    "    ssq = np.sum(dif**2)\n",
    "    rot = np.sqrt(ssq / len(z_true)).astype('float32')\n",
    "    return rot"
   ]
  },
  {
   "cell_type": "code",
   "execution_count": 9,
   "id": "1f26ffa7",
   "metadata": {
    "jupyter": {
     "source_hidden": true
    },
    "tags": []
   },
   "outputs": [],
   "source": [
    "def sigma_z_norm(z_true, z_pred, **kwargs):\n",
    "    dif = (z_true - z_pred) / (1 + z_true)\n",
    "    ssq = np.sum(dif**2)\n",
    "    rot = np.sqrt(ssq / len(z_true)).astype('float32')\n",
    "    return rot"
   ]
  },
  {
   "cell_type": "code",
   "execution_count": 10,
   "id": "90fa38e9",
   "metadata": {
    "jupyter": {
     "source_hidden": true
    },
    "tags": []
   },
   "outputs": [],
   "source": [
    "def outlier_frac(z_true, z_pred, **kwargs):\n",
    "    dif  = np.abs((z_true - z_pred) / (1 + z_true))\n",
    "    siz  = np.sum(np.isfinite(dif)).astype('float32')\n",
    "    num  = np.sum(np.array(dif > 0.15)).astype('float32')\n",
    "    frac = num / siz\n",
    "    return frac"
   ]
  },
  {
   "cell_type": "markdown",
   "id": "c421ce3c",
   "metadata": {
    "id": "aacf1d05-0bd7-4cbe-a480-5bd658bc008c"
   },
   "source": [
    "Methdods for PyCaret and saved models."
   ]
  },
  {
   "cell_type": "code",
   "execution_count": 11,
   "id": "16f0a396",
   "metadata": {
    "id": "86db6e67-85aa-4cd6-a3dc-bfe638bc69bb",
    "jupyter": {
     "source_hidden": true
    },
    "tags": []
   },
   "outputs": [],
   "source": [
    "def get_final_column_names(pycaret_pipeline, sample_df):\n",
    "    if isinstance(pycaret_pipeline, sklearn.pipeline.Pipeline):\n",
    "        for (name, method) in pycaret_pipeline.named_steps.items():\n",
    "            if method != 'passthrough' and name != 'trained_model':\n",
    "                print(f'Running {name}')\n",
    "                sample_df = method.transform(sample_df)\n",
    "        return sample_df.columns.tolist()\n",
    "    else:\n",
    "        for (name, method) in pyr.get_config('prep_pipe').named_steps.items():\n",
    "            if method != 'passthrough' and name != 'trained_model':\n",
    "                print(f'Running {name}')\n",
    "                sample_df = method.transform(sample_df)\n",
    "        return sample_df.columns.tolist()"
   ]
  },
  {
   "cell_type": "code",
   "execution_count": 12,
   "id": "6bc15ac7",
   "metadata": {
    "id": "715acda9-475d-4c9c-8e99-4921da2e1152",
    "jupyter": {
     "source_hidden": true
    },
    "tags": []
   },
   "outputs": [],
   "source": [
    "def get_feature_importances_df(pycaret_pipeline, sample_df, n = 10):\n",
    "    \n",
    "    final_cols = get_final_column_names(pycaret_pipeline, sample_df)\n",
    "    \n",
    "    if isinstance(pycaret_pipeline, sklearn.pipeline.Pipeline):\n",
    "        try:\n",
    "            variables = pycaret_pipeline[\"trained_model\"].feature_importances_\n",
    "            \n",
    "        except:\n",
    "            variables = np.mean([\n",
    "                            tree.feature_importances_ for tree in pycaret_pipeline[\"trained_model\"].estimators_\n",
    "                if hasattr(tree, 'feature_importances_')\n",
    "                            ], axis=0)\n",
    "        \n",
    "        coef_df = pd.DataFrame({'Feature': final_cols, 'Importance': variables})\n",
    "        sorted_df = (\n",
    "            coef_df.sort_values(by='Importance', ascending=False)\n",
    "            .head(n)\n",
    "            .sort_values(by='Importance', ascending=True).reset_index(drop=True)\n",
    "        )\n",
    "    else:\n",
    "        try:\n",
    "            variables = pycaret_pipeline.feature_importances_\n",
    "            \n",
    "        except:\n",
    "            variables = np.mean([\n",
    "                            tree.feature_importances_ for tree in pycaret_pipeline.estimators_\n",
    "                if hasattr(tree, 'feature_importances_')\n",
    "                            ], axis=0)\n",
    "        \n",
    "        coef_df = pd.DataFrame({'Feature': final_cols, 'Importance': variables})\n",
    "        sorted_df = (\n",
    "            coef_df.sort_values(by='Importance', ascending=False)\n",
    "            .head(n)\n",
    "            .sort_values(by='Importance', ascending=True).reset_index(drop=True)\n",
    "        )\n",
    "    return sorted_df"
   ]
  },
  {
   "cell_type": "code",
   "execution_count": 13,
   "id": "f76530a4",
   "metadata": {
    "jupyter": {
     "source_hidden": true
    },
    "tags": []
   },
   "outputs": [],
   "source": [
    "def plot_conf_mat(confusion_matrix, title, axin, display_labels=['Non true', 'True'], cmap='cet_dimgray_r', show_clb=False, log_stretch=False):\n",
    "    disp = ConfusionMatrixDisplay(confusion_matrix=confusion_matrix,\n",
    "                              display_labels=display_labels)\n",
    "\n",
    "    min_val_colour = np.nanmin(confusion_matrix)\n",
    "    max_val_colour = np.nanmin(confusion_matrix)\n",
    "    \n",
    "    if log_stretch:\n",
    "        norm = ImageNormalize(stretch=LogStretch())\n",
    "    if not log_stretch:\n",
    "        norm = ImageNormalize()\n",
    "\n",
    "    # NOTE: Fill all variables here with default values of the plot_confusion_matrix\n",
    "    disp_b = disp.plot(include_values=True, cmap=cm.get_cmap(cmap),\\\n",
    "             ax=axin, xticks_rotation='horizontal')\n",
    "\n",
    "    for text_val in disp_b.text_.flatten():\n",
    "        text_val.set_fontsize(30)\n",
    "    clb = plt.gca().images[-1].colorbar\n",
    "    clb.ax.tick_params(labelsize=14)\n",
    "    clb.ax.ticklabel_format(style='sci', scilimits=(0, 0))\n",
    "    clb.outline.set_linewidth(2.5)\n",
    "    clb.ax.set_ylabel('Elements in bin', size=14)\n",
    "    if not show_clb:\n",
    "        clb.remove()\n",
    "\n",
    "    # disp_b.im_.set_clim(1e2, 3e3)\n",
    "    disp_b.im_.norm = norm\n",
    "\n",
    "    axin.xaxis.get_label().set_fontsize(16)\n",
    "    axin.yaxis.get_label().set_fontsize(16)\n",
    "\n",
    "    axin.tick_params(axis='both', which='major', labelsize=14)\n",
    "\n",
    "    plt.setp(axin.spines.values(), linewidth=2.5)\n",
    "    plt.setp(axin.spines.values(), linewidth=2.5)\n",
    "    axin.set_title(title)\n",
    "    plt.tight_layout()"
   ]
  },
  {
   "cell_type": "code",
   "execution_count": 14,
   "id": "bb3e2183",
   "metadata": {
    "jupyter": {
     "source_hidden": true
    }
   },
   "outputs": [],
   "source": [
    "def get_base_estimators_names(pycaret_pipeline):\n",
    "    if isinstance(pycaret_pipeline, sklearn.pipeline.Pipeline):\n",
    "        estimators  = pycaret_pipeline['trained_model'].estimators\n",
    "    else:\n",
    "        estimators  = pycaret_pipeline.estimators\n",
    "\n",
    "    estimators_list = [estimator[0] for estimator in estimators]\n",
    "    return estimators_list"
   ]
  },
  {
   "cell_type": "markdown",
   "id": "ca734275",
   "metadata": {},
   "source": [
    "Method to compare and plot redshifts."
   ]
  },
  {
   "cell_type": "code",
   "execution_count": 15,
   "id": "097a61ad",
   "metadata": {
    "jupyter": {
     "source_hidden": true
    }
   },
   "outputs": [],
   "source": [
    "def plot_redshift_compare(true_z, predicted_z, ax_pre, title=None, dpi=10, cmap='cet_linear_kryw_5_100_c64_r', show_clb=False, log_stretch=False):\n",
    "    if log_stretch:\n",
    "        norm = ImageNormalize(vmin=0., stretch=LogStretch())\n",
    "    if not log_stretch:\n",
    "        norm = ImageNormalize(vmin=0., stretch=PowerStretch(0.3))\n",
    "\n",
    "    filt_pair_z   = np.isfinite(true_z) & np.isfinite(predicted_z)\n",
    "    max_for_range = np.nanmax([np.nanmax(1 + true_z.loc[filt_pair_z]), np.nanmax(1 + predicted_z.loc[filt_pair_z])])\n",
    "    min_for_range = np.nanmin([np.nanmin(1 + true_z.loc[filt_pair_z]), np.nanmin(1 + predicted_z.loc[filt_pair_z])])\n",
    "\n",
    "    dens_1 = ax_pre.scatter_density((1 + true_z.sample(frac=1, random_state=seed)),\\\n",
    "            (1 + predicted_z.sample(frac=1, random_state=seed)),\\\n",
    "            cmap=plt.get_cmap(cmap), zorder=0, dpi=dpi, norm=norm, alpha=0.93)\n",
    "    \n",
    "    ax_pre.axline((2., 2.), (3., 3.), ls='--', marker=None, c='Gray', alpha=0.8, lw=3.0, zorder=20)\n",
    "    ax_pre.axline(xy1=(1., 1.15), xy2=(2., 2.3), ls='-.', marker=None, c='slateblue', alpha=0.6, lw=3.0, zorder=20)\n",
    "    ax_pre.axline(xy1=(1., 0.85), xy2=(2., 1.7), ls='-.', marker=None, c='slateblue', alpha=0.6, lw=3.0, zorder=20)\n",
    "\n",
    "    if show_clb:\n",
    "        clb = plt.colorbar(dens_1, extend='neither', norm=norm, ticks=ticker.MaxNLocator(integer=True))\n",
    "        clb.ax.tick_params(labelsize=14)\n",
    "        clb.outline.set_linewidth(2.5)\n",
    "        clb.ax.set_ylabel('Elements per pixel', size=16, path_effects=pe2)\n",
    "\n",
    "    # Inset axis with residuals\n",
    "    axins = inset_axes(ax_pre, width='35%', height='20%', loc=2)\n",
    "    res_z_z = (predicted_z - true_z) / (1 + true_z)\n",
    "    axins.hist(res_z_z, histtype='stepfilled', fc='grey', ec='k', bins=50, lw=2.5)\n",
    "    axins.axvline(x=np.nanpercentile(res_z_z, [15.9]), ls='--', lw=2.5, c='royalblue')\n",
    "    axins.axvline(x=np.nanpercentile(res_z_z, [84.1]), ls='--', lw=2.5, c='royalblue')\n",
    "    axins.set_xlabel('$\\Delta z / (1 + z_{\\mathrm{True}})$', fontsize=10)\n",
    "    axins.tick_params(labelleft=False, labelbottom=True)\n",
    "    axins.tick_params(which='both', top=True, right=True, direction='in')\n",
    "    axins.tick_params(axis='both', which='major', labelsize=10)\n",
    "    axins.tick_params(which='major', length=8, width=1.5)\n",
    "    axins.tick_params(which='minor', length=4, width=1.5)\n",
    "    plt.setp(axins.spines.values(), linewidth=2.5)\n",
    "    plt.setp(axins.spines.values(), linewidth=2.5)\n",
    "    axins.set_xlim(left=-0.9, right=0.9)\n",
    "    ##\n",
    "    ax_pre.set_xlabel('$1 + z_{\\mathrm{True}}$', fontsize=20)\n",
    "    ax_pre.set_ylabel('$1 + z_{\\mathrm{Predicted}}$', fontsize=20)\n",
    "    ax_pre.tick_params(which='both', top=True, right=True, direction='in')\n",
    "    ax_pre.tick_params(axis='both', which='minor', labelsize=14)\n",
    "    ax_pre.tick_params(which='major', length=8, width=1.5)\n",
    "    ax_pre.tick_params(which='minor', length=4, width=1.5)\n",
    "    # ax_pre.xaxis.set_major_locator(ticker.MaxNLocator(integer=True))\n",
    "    # ax_pre.yaxis.set_major_locator(ticker.MaxNLocator(integer=True))\n",
    "    ax_pre.xaxis.set_minor_formatter(ticker.ScalarFormatter(useMathText=False))\n",
    "    ax_pre.yaxis.set_minor_formatter(ticker.ScalarFormatter(useMathText=False))\n",
    "    plt.setp(ax_pre.spines.values(), linewidth=2.5)\n",
    "    plt.setp(ax_pre.spines.values(), linewidth=2.5)\n",
    "    ax_pre.set_xlim(left=np.floor(min_for_range), right=np.ceil(max_for_range))\n",
    "    ax_pre.set_ylim(bottom=np.floor(min_for_range), top=np.ceil(max_for_range))\n",
    "    ax_pre.set_title(title, fontsize=14)\n",
    "    plt.tight_layout()"
   ]
  },
  {
   "cell_type": "markdown",
   "id": "f7d04867",
   "metadata": {
    "id": "8222df68-1b98-436b-af43-d9f38d015ba6"
   },
   "source": [
    "***"
   ]
  },
  {
   "cell_type": "markdown",
   "id": "53bc8bbf",
   "metadata": {
    "id": "e2ce5669-172d-4ed4-b6fe-5fff8afc7df5"
   },
   "source": [
    "## Reading data"
   ]
  },
  {
   "cell_type": "code",
   "execution_count": 16,
   "id": "daf56fcc",
   "metadata": {
    "id": "b0619b32-391c-4f18-8284-d1fabf6a800c",
    "tags": []
   },
   "outputs": [],
   "source": [
    "cat_path = '../../Catalogs/'  # relative path to the same directory"
   ]
  },
  {
   "cell_type": "markdown",
   "id": "329119f8",
   "metadata": {
    "id": "c4e41fd8-fbc5-4185-b03e-8a57634a05a9"
   },
   "source": [
    "We import our data using the `pandas` package."
   ]
  },
  {
   "cell_type": "code",
   "execution_count": 17,
   "id": "8cebd9da",
   "metadata": {},
   "outputs": [],
   "source": [
    "save_plot_flag  = False\n",
    "save_model_flag = False\n",
    "load_model_flag = False"
   ]
  },
  {
   "cell_type": "code",
   "execution_count": 18,
   "id": "e522146f",
   "metadata": {},
   "outputs": [],
   "source": [
    "use_5sigma = True  # use files with 5-sigma magnitude imputation"
   ]
  },
  {
   "cell_type": "code",
   "execution_count": 19,
   "id": "2f054066",
   "metadata": {},
   "outputs": [],
   "source": [
    "mqc_version = '7_4d'  # '7_2'"
   ]
  },
  {
   "cell_type": "code",
   "execution_count": 20,
   "id": "3782bb2b",
   "metadata": {
    "id": "c69bd7ee-7184-46e3-a6cb-1a66cb75d6ae",
    "tags": []
   },
   "outputs": [],
   "source": [
    "file_name_train = f'CatWISE2020_VLASS_LOFAR_PS1_GALEX_TGSS_XMM_2MASS_MILLIQUAS_{mqc_version}_ALLWISE_LOLSS_SDSS_DR16_5sigma_imp.h5'  # 6729647 objects (6.7e6)"
   ]
  },
  {
   "cell_type": "markdown",
   "id": "5f77169d",
   "metadata": {
    "id": "2cd751bd-1eb4-4c54-b6fa-418773ac8938"
   },
   "source": [
    "First, open the file as astropy Table to modify (and standardise)  \n",
    "the units of fluxes and/or magnitudes."
   ]
  },
  {
   "cell_type": "markdown",
   "id": "60901c53",
   "metadata": {
    "id": "d0ce0178-04a7-4113-bbb8-1b70ce220764"
   },
   "source": [
    "---"
   ]
  },
  {
   "cell_type": "markdown",
   "id": "64dad99d",
   "metadata": {
    "id": "6e66f66c-4987-4340-bf82-7d8e218033fb"
   },
   "source": [
    "Create `pandas` DataFrame from `astropy` table."
   ]
  },
  {
   "cell_type": "code",
   "execution_count": 21,
   "id": "671b267c",
   "metadata": {},
   "outputs": [],
   "source": [
    "features_2_discard = ['objID', 'RA_ICRS', 'DE_ICRS', 'Name', 'RA_MILLI', 'DEC_MILLI',\\\n",
    "                     'TYPE', 'X_ray_detect', 'Total_flux_VLASS',\\\n",
    "                     'Sint_LOFAR', 'Stotal_TGSS', 'FEP', 'TotalFlux_LoLSS', 'W1mag', 'W2mag'] # , 'mode',\\\n",
    "                     # 'class', 'f_zsp', 'subCl', 'zph', 'e_zph']  # Not needed for training in this model"
   ]
  },
  {
   "cell_type": "code",
   "execution_count": 22,
   "id": "e3c2360c",
   "metadata": {
    "id": "498083f5-b8c6-44aa-8de4-75b1dc899296",
    "tags": []
   },
   "outputs": [],
   "source": [
    "full_catalog_df = pd.read_hdf(cat_path + file_name_train, key='df').drop(columns=features_2_discard)"
   ]
  },
  {
   "cell_type": "code",
   "execution_count": 23,
   "id": "0a96bc10",
   "metadata": {},
   "outputs": [],
   "source": [
    "full_catalog_df.loc[:, 'radio_detect'] = full_catalog_df.loc[:, 'radio_detect'].astype(int)"
   ]
  },
  {
   "cell_type": "code",
   "execution_count": 24,
   "id": "0288442b",
   "metadata": {},
   "outputs": [],
   "source": [
    "# full_catalog_df.describe()"
   ]
  },
  {
   "cell_type": "markdown",
   "id": "d815a44b",
   "metadata": {},
   "source": [
    "Combine redshift values (AGN + galaxies)."
   ]
  },
  {
   "cell_type": "code",
   "execution_count": 25,
   "id": "805c1ce1",
   "metadata": {},
   "outputs": [],
   "source": [
    "idx_non_Z                = full_catalog_df.loc[:, 'Z'].where(full_catalog_df.loc[:, 'Z'] > 0).isna()\n",
    "full_catalog_df.loc[idx_non_Z, 'Z'] = full_catalog_df.loc[:, 'Z'].mask(idx_non_Z, full_catalog_df.loc[idx_non_Z, 'zsp'])"
   ]
  },
  {
   "cell_type": "markdown",
   "id": "963589a5",
   "metadata": {},
   "source": [
    "#### Select only confirmed radio AGN"
   ]
  },
  {
   "cell_type": "code",
   "execution_count": 26,
   "id": "c2be054b",
   "metadata": {},
   "outputs": [],
   "source": [
    "# full_catalog_df = full_catalog_df.loc[(full_catalog_df.loc[:, 'is_gal'] == 1) | (full_catalog_df.loc[:, 'is_AGN'] == 1)]\n",
    "filter_confirmed = full_catalog_df.loc[:, 'is_AGN'] == 1\n",
    "filter_redshift  = (full_catalog_df.loc[:, 'Z'] > 0) | (full_catalog_df.loc[:, 'zsp'] > 0)\n",
    "filter_radio     = full_catalog_df.loc[:, 'radio_detect'] == 1\n",
    "full_catalog_df  = full_catalog_df.loc[filter_confirmed & filter_redshift & filter_radio]"
   ]
  },
  {
   "cell_type": "markdown",
   "id": "1b865cfb",
   "metadata": {
    "tags": []
   },
   "source": [
    "#### Select high-redshift sources"
   ]
  },
  {
   "cell_type": "code",
   "execution_count": 27,
   "id": "9c5f4f7e",
   "metadata": {},
   "outputs": [],
   "source": [
    "redshift_low_lim = 3.7  # 3.7, 4.0\n",
    "filter_high_z    = full_catalog_df.loc[:, 'Z'] >= redshift_low_lim\n",
    "full_catalog_df  = full_catalog_df.loc[filter_high_z]"
   ]
  },
  {
   "cell_type": "code",
   "execution_count": 28,
   "id": "52b99c3f",
   "metadata": {
    "tags": []
   },
   "outputs": [
    {
     "name": "stdout",
     "output_type": "stream",
     "text": [
      "In this dataset, with 72 elements,\n",
      "72 of them are marked as AGN, 0 have been indentified as galaxies, and 72 are identified as radio detections.\n"
     ]
    }
   ],
   "source": [
    "n_full   = len(full_catalog_df)\n",
    "n_is_AGN = np.sum(full_catalog_df.loc[:, 'is_AGN'] == 1)\n",
    "n_is_gal = np.sum(full_catalog_df.loc[:, 'is_gal'] == 1)\n",
    "n_is_rad = np.sum(full_catalog_df.loc[:, 'radio_detect'] == 1)\n",
    "print(f'In this dataset, with {n_full:,} elements,\\n' +\\\n",
    "         f'{n_is_AGN:,} of them are marked as AGN, {n_is_gal:,} have been indentified as galaxies,' +\\\n",
    "      f' and {n_is_rad:,} are identified as radio detections.')"
   ]
  },
  {
   "cell_type": "markdown",
   "id": "ed5496ff",
   "metadata": {
    "id": "6619390c-a04f-4bd0-9f97-9ca54bc9c764"
   },
   "source": [
    "---"
   ]
  },
  {
   "cell_type": "markdown",
   "id": "3a7f81e8",
   "metadata": {
    "id": "e1111608-acd0-41fd-a79d-831539eb56b9"
   },
   "source": [
    "## Possible correlations"
   ]
  },
  {
   "cell_type": "code",
   "execution_count": 29,
   "id": "1cc69b8e",
   "metadata": {
    "id": "c5787752-376d-4409-bda6-ed1ab94bbe9b",
    "jupyter": {
     "source_hidden": true
    },
    "outputId": "80a70466-b8d8-4390-8734-77688a25a7de",
    "tags": []
   },
   "outputs": [
    {
     "name": "stdout",
     "output_type": "stream",
     "text": [
      "['Z', 'zsp', 'band_num', 'radio_detect', 'is_AGN', 'is_SDSS_gal', 'is_gal', 'W1mproPM', 'W2mproPM', 'gmag', 'rmag', 'imag', 'zmag', 'ymag', 'FUVmag', 'NUVmag', 'Jmag', 'Hmag', 'Kmag', 'W3mag', 'W4mag', 'g_r', 'r_i', 'i_z', 'z_y', 'g_i', 'w1_w2', 'w2_w3', 'w3_w4', 'J_H', 'H_K', 'FUV_NUV', 'r/z', 'i/y', 'w1/w3', 'w1/w4', 'w2/w4', 'J/K', 'FUV/K', 'g/J', 'r/H', 'i/K', 'z/W1', 'y/W2']\n"
     ]
    }
   ],
   "source": [
    "print(full_catalog_df.columns.to_list())"
   ]
  },
  {
   "cell_type": "markdown",
   "id": "d5976b1d",
   "metadata": {
    "id": "27645d12-9370-40d8-aeba-24d4415bb9eb"
   },
   "source": [
    "---"
   ]
  },
  {
   "cell_type": "markdown",
   "id": "d3731a21",
   "metadata": {
    "id": "u4vi69d_pPbd"
   },
   "source": [
    "## Random seed"
   ]
  },
  {
   "cell_type": "code",
   "execution_count": 30,
   "id": "da336676",
   "metadata": {
    "id": "8byjjVU3pOjM"
   },
   "outputs": [],
   "source": [
    "seed = 42"
   ]
  },
  {
   "cell_type": "markdown",
   "id": "580121a6",
   "metadata": {},
   "source": [
    "Create target"
   ]
  },
  {
   "cell_type": "markdown",
   "id": "4d90a1b4",
   "metadata": {},
   "source": [
    "$0$ for galaxies and $1$ for AGN"
   ]
  },
  {
   "cell_type": "code",
   "execution_count": 31,
   "id": "247d7417",
   "metadata": {},
   "outputs": [],
   "source": [
    "# full_catalog_df['class'] = full_catalog_df.loc[:, 'is_AGN'].copy()"
   ]
  },
  {
   "cell_type": "markdown",
   "id": "95cc72b0",
   "metadata": {},
   "source": [
    "Remove intermediate targets"
   ]
  },
  {
   "cell_type": "code",
   "execution_count": 32,
   "id": "50701676",
   "metadata": {},
   "outputs": [],
   "source": [
    "full_catalog_df = full_catalog_df.drop(columns=['is_AGN', 'is_SDSS_gal', 'is_gal', 'radio_detect', 'zsp'])"
   ]
  },
  {
   "cell_type": "markdown",
   "id": "47a70cca",
   "metadata": {},
   "source": [
    "---"
   ]
  },
  {
   "cell_type": "markdown",
   "id": "e19230a6",
   "metadata": {},
   "source": [
    "#### Add prediction from first AGN/galaxy model as feature."
   ]
  },
  {
   "cell_type": "code",
   "execution_count": 33,
   "id": "77811952",
   "metadata": {},
   "outputs": [],
   "source": [
    "# AGN_gal_clf = pyc.load_model('models/classification_AGN_galaxy_apr_20_2022')"
   ]
  },
  {
   "cell_type": "code",
   "execution_count": 34,
   "id": "08c3bcbb",
   "metadata": {},
   "outputs": [],
   "source": [
    "# AGN_pred_threshold = 0.5\n",
    "# full_catalog_df    = pyc.predict_model(AGN_gal_clf, data=full_catalog_df, probability_threshold=AGN_pred_threshold, raw_score=False).drop(columns=['Score'])"
   ]
  },
  {
   "cell_type": "code",
   "execution_count": 35,
   "id": "4bf6385d",
   "metadata": {},
   "outputs": [],
   "source": [
    "# full_catalog_df = full_catalog_df.rename(columns={'Label': 'class'})"
   ]
  },
  {
   "cell_type": "markdown",
   "id": "dea17c9b",
   "metadata": {},
   "source": [
    "---"
   ]
  },
  {
   "cell_type": "markdown",
   "id": "a78e73d6",
   "metadata": {},
   "source": [
    "## Split data: Test, Train, Validation"
   ]
  },
  {
   "cell_type": "code",
   "execution_count": 36,
   "id": "ad3f2471",
   "metadata": {
    "tags": []
   },
   "outputs": [
    {
     "name": "stdout",
     "output_type": "stream",
     "text": [
      "Shape of used data\n",
      "----------------------------------------\n",
      "Full Dataset size: (72, 39)\n",
      "Data for Modeling (Train and Test): (58, 39)\n",
      "Unseen Data For Validation: (14, 39)\n",
      "----------------------------------------\n"
     ]
    }
   ],
   "source": [
    "# train_test_df, validation_df = train_test_split(full_catalog_df, test_size=0.2,\\\n",
    "#                                                 random_state=seed, stratify=None)\n",
    "train_test_df = full_catalog_df.loc[np.isfinite(full_catalog_df.loc[:, 'Z'])].sample(frac=0.8, random_state=seed)  # Train + test sets\n",
    "validation_df = full_catalog_df.drop(train_test_df.index)  # Validation data\n",
    "\n",
    "print('Shape of used data')\n",
    "print('-' * 40)\n",
    "print(f'Full Dataset size: {full_catalog_df.shape}')\n",
    "print(f'Data for Modeling (Train and Test): {train_test_df.shape}')\n",
    "print(f'Unseen Data For Validation: {validation_df.shape}')\n",
    "print('-' * 40)"
   ]
  },
  {
   "cell_type": "code",
   "execution_count": 37,
   "id": "8934880d",
   "metadata": {
    "jupyter": {
     "source_hidden": true
    },
    "tags": []
   },
   "outputs": [
    {
     "data": {
      "image/png": "[encoded data removed]",
      "text/plain": [
       "<Figure size 700x450 with 1 Axes>"
      ]
     },
     "metadata": {},
     "output_type": "display_data"
    }
   ],
   "source": [
    "fig             = plt.figure(figsize=(7,4.5))\n",
    "ax1             = fig.add_subplot(111, xscale='linear', yscale='log')\n",
    "\n",
    "min_score  = np.nanmin(full_catalog_df.loc[:, 'Z'])\n",
    "max_score  = np.nanmax(full_catalog_df.loc[:, 'Z'])\n",
    "score_bins = np.linspace(min_score, max_score, 30)\n",
    "\n",
    "ax1.hist(train_test_df.loc[:, 'Z'], bins=score_bins, histtype='stepfilled', ec='k',\\\n",
    "         lw=3.5, color=cm.get_cmap('cet_gray')(0.8), alpha=1.0, label='Train+Test')\n",
    "ax1.hist(validation_df.loc[:, 'Z'], bins=score_bins, histtype='stepfilled', ec='k',\\\n",
    "         lw=3.5, color=cm.get_cmap('cet_gray')(0.95), alpha=1.0, label='Validation')\n",
    "\n",
    "ax1.axvline(x=redshift_low_lim, ls='--', c='k', lw=2.5)\n",
    "    \n",
    "ax1.tick_params(which='both', top=True, right=True, direction='in')\n",
    "ax1.tick_params(axis='both', which='major', labelsize=14)\n",
    "ax1.tick_params(which='major', length=8, width=1.5)\n",
    "ax1.tick_params(which='minor', length=4, width=1.5)\n",
    "ax1.set_xlabel('Redshift', size=20)\n",
    "ax1.set_ylabel('Frequency', size=20)\n",
    "plt.setp(ax1.spines.values(), linewidth=3.5)\n",
    "plt.setp(ax1.spines.values(), linewidth=3.5)\n",
    "plt.legend(loc=1, fontsize=14)\n",
    "plt.grid(False)\n",
    "# ax1.set_xlim(left=min_score - 1e-2, right=max_score + 1e-2)\n",
    "#ax1.set_aspect('equal', 'box')\n",
    "fig.tight_layout()"
   ]
  },
  {
   "cell_type": "markdown",
   "id": "95b6a72c",
   "metadata": {},
   "source": [
    "Save indices of sources in validation sub-set for future steps."
   ]
  },
  {
   "cell_type": "code",
   "execution_count": 38,
   "id": "c87d0b51",
   "metadata": {},
   "outputs": [],
   "source": [
    "# val_idx = validation_df.index.to_numpy()\n",
    "# np.savetxt(fname='idx_validation_radio_01.txt', X=val_idx, header='Indices from first radio detection training.', fmt='%i')"
   ]
  },
  {
   "cell_type": "markdown",
   "id": "51c6498a",
   "metadata": {},
   "source": [
    "---"
   ]
  },
  {
   "cell_type": "markdown",
   "id": "7707b05d",
   "metadata": {},
   "source": [
    "## Use SMOGN for data augmentation at high redshifts"
   ]
  },
  {
   "cell_type": "code",
   "execution_count": 39,
   "id": "92e940a1",
   "metadata": {
    "jupyter": {
     "source_hidden": true
    }
   },
   "outputs": [],
   "source": [
    "backup_train_test_df = train_test_df.copy()"
   ]
  },
  {
   "cell_type": "code",
   "execution_count": 40,
   "id": "d9438aa7",
   "metadata": {
    "jupyter": {
     "source_hidden": true
    }
   },
   "outputs": [
    {
     "name": "stderr",
     "output_type": "stream",
     "text": [
      "dist_matrix: 100%|#############################| 11/11 [00:00<00:00, 152.55it/s]\n",
      "synth_matrix: 100%|#############################| 11/11 [00:00<00:00, 33.15it/s]\n",
      "r_index: 100%|####################################| 3/3 [00:00<00:00, 99.54it/s]\n"
     ]
    }
   ],
   "source": [
    "train_test_df = smogn.smoter(\n",
    "    \n",
    "    ## main arguments\n",
    "    data          = train_test_df.reset_index(drop=True),           ## pandas dataframe\n",
    "    y             = 'Z',          ## string ('header name')\n",
    "    k             = 4,                    ## positive integer (k < n)\n",
    "    samp_method   = 'extreme',  ## string ('balance' or 'extreme')\n",
    "    drop_na_col   = False,\n",
    "    drop_na_row   = False,\n",
    "    under_samp    = True,\n",
    "    seed          = seed,\n",
    "    replace       = False,\n",
    "\n",
    "    ## phi relevance arguments\n",
    "    rel_thres     = 0.50,         ## positive real number (0 < R < 1)\n",
    "    rel_method    = 'auto',      ## string ('auto' or 'manual')\n",
    "    rel_xtrm_type = 'high',   ## string ('low' or 'both' or 'high')\n",
    "    rel_coef      = 2.25           ## positive real number (0 < R)\n",
    ")"
   ]
  },
  {
   "cell_type": "code",
   "execution_count": 41,
   "id": "9d26895a",
   "metadata": {
    "jupyter": {
     "source_hidden": true
    }
   },
   "outputs": [
    {
     "name": "stdout",
     "output_type": "stream",
     "text": [
      "Shape of new used data (after SMOGN)\n",
      "----------------------------------------\n",
      "Data for Modeling (Train and Test): (85, 39)\n",
      "----------------------------------------\n"
     ]
    }
   ],
   "source": [
    "print('Shape of new used data (after SMOGN)')\n",
    "print('-' * 40)\n",
    "print(f'Data for Modeling (Train and Test): {train_test_df.shape}')\n",
    "print('-' * 40)"
   ]
  },
  {
   "cell_type": "code",
   "execution_count": 42,
   "id": "cc09caf6",
   "metadata": {
    "jupyter": {
     "source_hidden": true
    },
    "tags": []
   },
   "outputs": [
    {
     "data": {
      "image/png": "[encoded data removed]",
      "text/plain": [
       "<Figure size 700x450 with 1 Axes>"
      ]
     },
     "metadata": {},
     "output_type": "display_data"
    }
   ],
   "source": [
    "fig             = plt.figure(figsize=(7,4.5))\n",
    "ax1             = fig.add_subplot(111, xscale='linear', yscale='log')\n",
    "\n",
    "min_score  = np.nanmin(full_catalog_df.loc[:, 'Z'])\n",
    "max_score  = np.nanmax(full_catalog_df.loc[:, 'Z'])\n",
    "score_bins = np.linspace(min_score, max_score, 30)\n",
    "\n",
    "ax1.hist(train_test_df.loc[:, 'Z'], bins=score_bins, histtype='stepfilled', ec='k',\\\n",
    "         lw=3.5, color=cm.get_cmap('cet_gray')(0.95), alpha=1.0, label='SMOGN Train+Test')\n",
    "ax1.hist(backup_train_test_df.loc[:, 'Z'], bins=score_bins, histtype='stepfilled', ec='k',\\\n",
    "         lw=3.5, color=cm.get_cmap('cet_gray')(0.8), alpha=0.75, label='Original Train+Test')\n",
    "\n",
    "ax1.axvline(x=redshift_low_lim, ls='--', c='k', lw=2.5)\n",
    "    \n",
    "ax1.tick_params(which='both', top=True, right=True, direction='in')\n",
    "ax1.tick_params(axis='both', which='major', labelsize=14)\n",
    "ax1.tick_params(which='major', length=8, width=1.5)\n",
    "ax1.tick_params(which='minor', length=4, width=1.5)\n",
    "ax1.set_xlabel('Redshift', size=20)\n",
    "ax1.set_ylabel('Frequency', size=20)\n",
    "plt.setp(ax1.spines.values(), linewidth=3.5)\n",
    "plt.setp(ax1.spines.values(), linewidth=3.5)\n",
    "plt.legend(loc=1, fontsize=14)\n",
    "plt.grid(False)\n",
    "# ax1.set_xlim(left=min_score - 1e-2, right=max_score + 1e-2)\n",
    "#ax1.set_aspect('equal', 'box')\n",
    "fig.tight_layout()"
   ]
  },
  {
   "cell_type": "markdown",
   "id": "466de4b9",
   "metadata": {},
   "source": [
    "---"
   ]
  },
  {
   "cell_type": "markdown",
   "id": "fbe6a7fb",
   "metadata": {},
   "source": [
    "## Use Correlation matrix to discard some features"
   ]
  },
  {
   "cell_type": "code",
   "execution_count": 43,
   "id": "fef45ed4",
   "metadata": {
    "jupyter": {
     "source_hidden": true
    },
    "tags": []
   },
   "outputs": [],
   "source": [
    "min_max_scaler              = MinMaxScaler(feature_range=(0., 1.))\n",
    "full_scaled                 = min_max_scaler.fit_transform(train_test_df.values)\n",
    "norm_train_test_df = pd.DataFrame(data=full_scaled, columns=train_test_df.columns, index=train_test_df.index)"
   ]
  },
  {
   "cell_type": "markdown",
   "id": "2fcfe0cb",
   "metadata": {},
   "source": [
    "Calculate Reduced Standard deviation to discard between pairs of features:  \n",
    "\n",
    "$$\\mathrm{RSD} = \\frac{\\sigma}{\\mu} \\times 100$$"
   ]
  },
  {
   "cell_type": "code",
   "execution_count": 44,
   "id": "d351c0a5",
   "metadata": {},
   "outputs": [],
   "source": [
    "rsd_vals = (train_test_df.std() / train_test_df.mean() * 100).sort_values(ascending=False)"
   ]
  },
  {
   "cell_type": "code",
   "execution_count": 45,
   "id": "c3de6a6d",
   "metadata": {},
   "outputs": [
    {
     "data": {
      "text/plain": [
       "z_y          512.912630\n",
       "i_z          108.437638\n",
       "r_i           90.839114\n",
       "g_r           49.736467\n",
       "g_i           43.415773\n",
       "w2_w3         25.101801\n",
       "band_num      19.383358\n",
       "Z             15.113774\n",
       "J_H           13.952469\n",
       "w3_w4         12.874540\n",
       "rmag           6.772678\n",
       "r/H            6.693329\n",
       "i/K            5.837785\n",
       "imag           5.805444\n",
       "gmag           5.803021\n",
       "H_K            5.801110\n",
       "g/J            5.750090\n",
       "ymag           5.534833\n",
       "zmag           5.338996\n",
       "W1mproPM       4.794232\n",
       "w1/w4          4.727587\n",
       "W2mproPM       4.347793\n",
       "w2/w4          4.255194\n",
       "w1/w3          3.894679\n",
       "r/z            3.749985\n",
       "z/W1           3.474045\n",
       "y/W2           3.402325\n",
       "i/y            2.989633\n",
       "W3mag          1.686096\n",
       "W4mag          0.395023\n",
       "J/K            0.226933\n",
       "Jmag           0.226933\n",
       "Hmag           0.216016\n",
       "FUV_NUV       -0.000000\n",
       "Kmag           0.000000\n",
       "FUVmag         0.000000\n",
       "FUV/K          0.000000\n",
       "NUVmag         0.000000\n",
       "w1_w2      -1076.836027\n",
       "dtype: float64"
      ]
     },
     "execution_count": 45,
     "metadata": {},
     "output_type": "execute_result"
    }
   ],
   "source": [
    "rsd_vals"
   ]
  },
  {
   "cell_type": "code",
   "execution_count": 46,
   "id": "69c23783",
   "metadata": {},
   "outputs": [],
   "source": [
    "correlation = norm_train_test_df.corr()"
   ]
  },
  {
   "cell_type": "code",
   "execution_count": 47,
   "id": "f58cc6de",
   "metadata": {
    "jupyter": {
     "source_hidden": true
    },
    "tags": []
   },
   "outputs": [],
   "source": [
    "filt_high_corr = np.array(correlation.abs().unstack().sort_values(ascending=False).drop_duplicates().values > 0.75) &\\\n",
    "np.array(correlation.abs().unstack().sort_values(ascending=False).drop_duplicates().values < 1.00)"
   ]
  },
  {
   "cell_type": "code",
   "execution_count": 48,
   "id": "39ec805f",
   "metadata": {
    "jupyter": {
     "source_hidden": true
    },
    "tags": []
   },
   "outputs": [],
   "source": [
    "corr_pairs     = correlation.abs().unstack().sort_values(ascending=False).drop_duplicates().index[filt_high_corr]"
   ]
  },
  {
   "cell_type": "code",
   "execution_count": 49,
   "id": "07a0f25e",
   "metadata": {},
   "outputs": [],
   "source": [
    "target_feat = 'Z'"
   ]
  },
  {
   "cell_type": "code",
   "execution_count": 50,
   "id": "86814669",
   "metadata": {
    "jupyter": {
     "source_hidden": true
    },
    "tags": []
   },
   "outputs": [],
   "source": [
    "list_drop_corr = []"
   ]
  },
  {
   "cell_type": "markdown",
   "id": "48c5e3f3",
   "metadata": {},
   "source": [
    "We want to discard features that are highly correlated (>0.75).  \n",
    "Between two features, we will discard the one with the lowest standard deviation (RSD)."
   ]
  },
  {
   "cell_type": "code",
   "execution_count": 51,
   "id": "192afa05",
   "metadata": {
    "jupyter": {
     "source_hidden": true
    },
    "tags": []
   },
   "outputs": [],
   "source": [
    "for row in corr_pairs:\n",
    "    if target_feat in row:\n",
    "        continue\n",
    "    elif row[0] in list_drop_corr:\n",
    "        continue\n",
    "    elif row[1] in list_drop_corr:\n",
    "        continue\n",
    "    else:\n",
    "        metric_a = rsd_vals[row[0]]\n",
    "        metric_b = rsd_vals[row[1]]\n",
    "        if metric_a >= metric_b:\n",
    "            list_drop_corr.append(row[1])\n",
    "        else:\n",
    "            list_drop_corr.append(row[0])"
   ]
  },
  {
   "cell_type": "code",
   "execution_count": 52,
   "id": "8f563975",
   "metadata": {},
   "outputs": [
    {
     "data": {
      "text/plain": [
       "['Hmag',\n",
       " 'imag',\n",
       " 'r/H',\n",
       " 'g/J',\n",
       " 'w1/w4',\n",
       " 'w2/w4',\n",
       " 'W3mag',\n",
       " 'zmag',\n",
       " 'W2mproPM',\n",
       " 'r/z',\n",
       " 'w1/w3',\n",
       " 'W1mproPM',\n",
       " 'i/y',\n",
       " 'gmag',\n",
       " 'i/K',\n",
       " 'rmag',\n",
       " 'ymag',\n",
       " 'w1_w2']"
      ]
     },
     "execution_count": 52,
     "metadata": {},
     "output_type": "execute_result"
    }
   ],
   "source": [
    "list_drop_corr"
   ]
  },
  {
   "cell_type": "code",
   "execution_count": 53,
   "id": "27e31387",
   "metadata": {},
   "outputs": [],
   "source": [
    "# correlation.abs().unstack().sort_values(ascending=False).drop_duplicates()[:15]"
   ]
  },
  {
   "cell_type": "code",
   "execution_count": 54,
   "id": "7e862f02",
   "metadata": {},
   "outputs": [],
   "source": [
    "norm_train_test_discard = norm_train_test_df.drop(columns=list_drop_corr)"
   ]
  },
  {
   "cell_type": "code",
   "execution_count": 55,
   "id": "0140f7f7",
   "metadata": {},
   "outputs": [],
   "source": [
    "corr_discard = norm_train_test_discard.corr()"
   ]
  },
  {
   "cell_type": "code",
   "execution_count": 56,
   "id": "7f296e1d",
   "metadata": {},
   "outputs": [
    {
     "data": {
      "text/plain": [
       "Z         Z           1.000000\n",
       "          i_z         0.736933\n",
       "z_y       z/W1        0.724906\n",
       "g_i       r_i         0.699288\n",
       "J/K       H_K         0.696994\n",
       "w2_w3     w3_w4       0.652644\n",
       "g_r       g_i         0.631426\n",
       "y/W2      z/W1        0.625721\n",
       "H_K       w3_w4       0.583925\n",
       "g_r       y/W2        0.576173\n",
       "y/W2      band_num    0.549220\n",
       "z/W1      Z           0.530630\n",
       "w2_w3     band_num    0.524481\n",
       "band_num  w3_w4       0.509116\n",
       "          Z           0.492338\n",
       "dtype: float64"
      ]
     },
     "execution_count": 56,
     "metadata": {},
     "output_type": "execute_result"
    }
   ],
   "source": [
    "corr_discard.abs().unstack().sort_values(ascending=False).drop_duplicates()[:15]"
   ]
  },
  {
   "cell_type": "code",
   "execution_count": 57,
   "id": "4d86f69b",
   "metadata": {
    "jupyter": {
     "source_hidden": true
    },
    "tags": []
   },
   "outputs": [
    {
     "data": {
      "text/plain": [
       "Text(1049.9166666666667, 0.5, 'feature')"
      ]
     },
     "execution_count": 57,
     "metadata": {},
     "output_type": "execute_result"
    },
    {
     "data": {
      "image/png": "[encoded data removed]",
      "text/plain": [
       "<Figure size 3000x1500 with 2 Axes>"
      ]
     },
     "metadata": {},
     "output_type": "display_data"
    }
   ],
   "source": [
    "plt.figure(figsize=(30,15))\n",
    "sns.set_context('paper', rc={'axes.labelsize':20, 'axes.ticklabelsize':14})\n",
    "ax1 = sns.heatmap(corr_discard, annot=True, cmap=plt.get_cmap('cet_CET_D1A'), center=0.0, square=True)\n",
    "ax1.set_xlabel('feature')\n",
    "ax1.set_ylabel('feature')"
   ]
  },
  {
   "cell_type": "code",
   "execution_count": 58,
   "id": "3c542225",
   "metadata": {},
   "outputs": [],
   "source": [
    "# norm_train_test_discard.loc[:, 'Z'] = norm_train_test_discard.loc[:, 'Z'].astype(bool)"
   ]
  },
  {
   "cell_type": "code",
   "execution_count": 59,
   "id": "ae7efef3",
   "metadata": {},
   "outputs": [],
   "source": [
    "pps_matrix = pps.matrix(norm_train_test_discard, random_seed=seed)[['x', 'y', 'ppscore']].pivot(columns='x', index='y', values='ppscore')"
   ]
  },
  {
   "cell_type": "code",
   "execution_count": 60,
   "id": "3fa8b7c6",
   "metadata": {},
   "outputs": [
    {
     "data": {
      "text/plain": [
       "x      y    \n",
       "FUV/K  FUV/K    1.000000\n",
       "Z      r_i      0.830863\n",
       "w2_w3  H_K      0.806536\n",
       "g_i    r_i      0.789488\n",
       "       g_r      0.770828\n",
       "y/W2   J_H      0.758066\n",
       "g_r    J_H      0.757715\n",
       "r_i    g_i      0.735825\n",
       "       Z        0.713992\n",
       "Z      z/W1     0.667272\n",
       "J_H    H_K      0.641835\n",
       "g_r    H_K      0.641044\n",
       "y/W2   H_K      0.635579\n",
       "Z      g_i      0.629297\n",
       "r_i    g_r      0.623457\n",
       "g_i    Z        0.607421\n",
       "z_y    y/W2     0.588279\n",
       "g_r    g_i      0.586728\n",
       "w3_w4  J_H      0.572477\n",
       "Z      g_r      0.570103\n",
       "dtype: float64"
      ]
     },
     "execution_count": 60,
     "metadata": {},
     "output_type": "execute_result"
    }
   ],
   "source": [
    "pps_matrix.unstack().sort_values(ascending=False).drop_duplicates()[:20]"
   ]
  },
  {
   "cell_type": "code",
   "execution_count": 61,
   "id": "ee3250ad",
   "metadata": {
    "jupyter": {
     "source_hidden": true
    },
    "tags": []
   },
   "outputs": [],
   "source": [
    "filt_high_pps = np.array(pps_matrix.abs().unstack().sort_values(ascending=False).drop_duplicates().values > 0.75) &\\\n",
    "np.array(pps_matrix.abs().unstack().sort_values(ascending=False).drop_duplicates().values < 1.00)"
   ]
  },
  {
   "cell_type": "code",
   "execution_count": 62,
   "id": "534b1fc9",
   "metadata": {},
   "outputs": [],
   "source": [
    "pps_pairs     = pps_matrix.abs().unstack().sort_values(ascending=False).drop_duplicates().index[filt_high_pps]"
   ]
  },
  {
   "cell_type": "code",
   "execution_count": 63,
   "id": "41061045",
   "metadata": {},
   "outputs": [],
   "source": [
    "target_feat = 'Z'"
   ]
  },
  {
   "cell_type": "code",
   "execution_count": 64,
   "id": "dff32d91",
   "metadata": {
    "tags": []
   },
   "outputs": [],
   "source": [
    "list_drop_pps = []"
   ]
  },
  {
   "cell_type": "code",
   "execution_count": 65,
   "id": "1dba018b",
   "metadata": {
    "jupyter": {
     "source_hidden": true
    },
    "tags": []
   },
   "outputs": [],
   "source": [
    "for row in pps_pairs:\n",
    "    if target_feat in row:\n",
    "        continue\n",
    "    elif row[0] in list_drop_pps:\n",
    "        continue\n",
    "    elif row[1] in list_drop_pps:\n",
    "        continue\n",
    "    else:\n",
    "        metric_a = rsd_vals[row[0]]\n",
    "        metric_b = rsd_vals[row[1]]\n",
    "        if metric_a >= metric_b:\n",
    "            list_drop_pps.append(row[1])\n",
    "        else:\n",
    "            list_drop_pps.append(row[0])"
   ]
  },
  {
   "cell_type": "code",
   "execution_count": 66,
   "id": "a74bc4b1",
   "metadata": {},
   "outputs": [
    {
     "data": {
      "text/plain": [
       "['H_K', 'g_i', 'y/W2', 'J_H']"
      ]
     },
     "execution_count": 66,
     "metadata": {},
     "output_type": "execute_result"
    }
   ],
   "source": [
    "list_drop_pps"
   ]
  },
  {
   "cell_type": "code",
   "execution_count": 67,
   "id": "7cc18ee3",
   "metadata": {},
   "outputs": [],
   "source": [
    "norm_train_test_discard = norm_train_test_discard.drop(columns=list_drop_pps)"
   ]
  },
  {
   "cell_type": "code",
   "execution_count": 68,
   "id": "8af0a4f6",
   "metadata": {},
   "outputs": [],
   "source": [
    "pps_pred_target = pps.predictors(norm_train_test_discard, 'Z', random_seed=seed)"
   ]
  },
  {
   "cell_type": "code",
   "execution_count": 69,
   "id": "7219071b",
   "metadata": {},
   "outputs": [
    {
     "data": {
      "text/html": [
       "<div>\n",
       "<style scoped>\n",
       "    .dataframe tbody tr th:only-of-type {\n",
       "        vertical-align: middle;\n",
       "    }\n",
       "\n",
       "    .dataframe tbody tr th {\n",
       "        vertical-align: top;\n",
       "    }\n",
       "\n",
       "    .dataframe thead th {\n",
       "        text-align: right;\n",
       "    }\n",
       "</style>\n",
       "<table border=\"1\" class=\"dataframe\">\n",
       "  <thead>\n",
       "    <tr style=\"text-align: right;\">\n",
       "      <th></th>\n",
       "      <th>x</th>\n",
       "      <th>y</th>\n",
       "      <th>ppscore</th>\n",
       "      <th>case</th>\n",
       "      <th>is_valid_score</th>\n",
       "      <th>metric</th>\n",
       "      <th>baseline_score</th>\n",
       "      <th>model_score</th>\n",
       "      <th>model</th>\n",
       "    </tr>\n",
       "  </thead>\n",
       "  <tbody>\n",
       "    <tr>\n",
       "      <th>0</th>\n",
       "      <td>r_i</td>\n",
       "      <td>Z</td>\n",
       "      <td>0.713992</td>\n",
       "      <td>regression</td>\n",
       "      <td>True</td>\n",
       "      <td>mean absolute error</td>\n",
       "      <td>0.213224</td>\n",
       "      <td>0.060984</td>\n",
       "      <td>DecisionTreeRegressor()</td>\n",
       "    </tr>\n",
       "    <tr>\n",
       "      <th>1</th>\n",
       "      <td>g_r</td>\n",
       "      <td>Z</td>\n",
       "      <td>0.472462</td>\n",
       "      <td>regression</td>\n",
       "      <td>True</td>\n",
       "      <td>mean absolute error</td>\n",
       "      <td>0.213224</td>\n",
       "      <td>0.112484</td>\n",
       "      <td>DecisionTreeRegressor()</td>\n",
       "    </tr>\n",
       "    <tr>\n",
       "      <th>2</th>\n",
       "      <td>z/W1</td>\n",
       "      <td>Z</td>\n",
       "      <td>0.457366</td>\n",
       "      <td>regression</td>\n",
       "      <td>True</td>\n",
       "      <td>mean absolute error</td>\n",
       "      <td>0.213224</td>\n",
       "      <td>0.115703</td>\n",
       "      <td>DecisionTreeRegressor()</td>\n",
       "    </tr>\n",
       "    <tr>\n",
       "      <th>3</th>\n",
       "      <td>i_z</td>\n",
       "      <td>Z</td>\n",
       "      <td>0.430771</td>\n",
       "      <td>regression</td>\n",
       "      <td>True</td>\n",
       "      <td>mean absolute error</td>\n",
       "      <td>0.213224</td>\n",
       "      <td>0.121373</td>\n",
       "      <td>DecisionTreeRegressor()</td>\n",
       "    </tr>\n",
       "    <tr>\n",
       "      <th>4</th>\n",
       "      <td>w2_w3</td>\n",
       "      <td>Z</td>\n",
       "      <td>0.357450</td>\n",
       "      <td>regression</td>\n",
       "      <td>True</td>\n",
       "      <td>mean absolute error</td>\n",
       "      <td>0.213224</td>\n",
       "      <td>0.137007</td>\n",
       "      <td>DecisionTreeRegressor()</td>\n",
       "    </tr>\n",
       "    <tr>\n",
       "      <th>5</th>\n",
       "      <td>w3_w4</td>\n",
       "      <td>Z</td>\n",
       "      <td>0.271884</td>\n",
       "      <td>regression</td>\n",
       "      <td>True</td>\n",
       "      <td>mean absolute error</td>\n",
       "      <td>0.213224</td>\n",
       "      <td>0.155252</td>\n",
       "      <td>DecisionTreeRegressor()</td>\n",
       "    </tr>\n",
       "    <tr>\n",
       "      <th>6</th>\n",
       "      <td>band_num</td>\n",
       "      <td>Z</td>\n",
       "      <td>0.202613</td>\n",
       "      <td>regression</td>\n",
       "      <td>True</td>\n",
       "      <td>mean absolute error</td>\n",
       "      <td>0.213224</td>\n",
       "      <td>0.170022</td>\n",
       "      <td>DecisionTreeRegressor()</td>\n",
       "    </tr>\n",
       "    <tr>\n",
       "      <th>7</th>\n",
       "      <td>z_y</td>\n",
       "      <td>Z</td>\n",
       "      <td>0.084399</td>\n",
       "      <td>regression</td>\n",
       "      <td>True</td>\n",
       "      <td>mean absolute error</td>\n",
       "      <td>0.213224</td>\n",
       "      <td>0.195228</td>\n",
       "      <td>DecisionTreeRegressor()</td>\n",
       "    </tr>\n",
       "    <tr>\n",
       "      <th>8</th>\n",
       "      <td>W4mag</td>\n",
       "      <td>Z</td>\n",
       "      <td>0.082951</td>\n",
       "      <td>regression</td>\n",
       "      <td>True</td>\n",
       "      <td>mean absolute error</td>\n",
       "      <td>0.213224</td>\n",
       "      <td>0.195537</td>\n",
       "      <td>DecisionTreeRegressor()</td>\n",
       "    </tr>\n",
       "    <tr>\n",
       "      <th>9</th>\n",
       "      <td>FUVmag</td>\n",
       "      <td>Z</td>\n",
       "      <td>0.000000</td>\n",
       "      <td>regression</td>\n",
       "      <td>True</td>\n",
       "      <td>mean absolute error</td>\n",
       "      <td>0.213224</td>\n",
       "      <td>0.214095</td>\n",
       "      <td>DecisionTreeRegressor()</td>\n",
       "    </tr>\n",
       "    <tr>\n",
       "      <th>10</th>\n",
       "      <td>NUVmag</td>\n",
       "      <td>Z</td>\n",
       "      <td>0.000000</td>\n",
       "      <td>regression</td>\n",
       "      <td>True</td>\n",
       "      <td>mean absolute error</td>\n",
       "      <td>0.213224</td>\n",
       "      <td>0.214095</td>\n",
       "      <td>DecisionTreeRegressor()</td>\n",
       "    </tr>\n",
       "    <tr>\n",
       "      <th>11</th>\n",
       "      <td>Jmag</td>\n",
       "      <td>Z</td>\n",
       "      <td>0.000000</td>\n",
       "      <td>regression</td>\n",
       "      <td>True</td>\n",
       "      <td>mean absolute error</td>\n",
       "      <td>0.213224</td>\n",
       "      <td>0.214212</td>\n",
       "      <td>DecisionTreeRegressor()</td>\n",
       "    </tr>\n",
       "    <tr>\n",
       "      <th>12</th>\n",
       "      <td>Kmag</td>\n",
       "      <td>Z</td>\n",
       "      <td>0.000000</td>\n",
       "      <td>regression</td>\n",
       "      <td>True</td>\n",
       "      <td>mean absolute error</td>\n",
       "      <td>0.213224</td>\n",
       "      <td>0.214095</td>\n",
       "      <td>DecisionTreeRegressor()</td>\n",
       "    </tr>\n",
       "    <tr>\n",
       "      <th>13</th>\n",
       "      <td>FUV_NUV</td>\n",
       "      <td>Z</td>\n",
       "      <td>0.000000</td>\n",
       "      <td>regression</td>\n",
       "      <td>True</td>\n",
       "      <td>mean absolute error</td>\n",
       "      <td>0.213224</td>\n",
       "      <td>0.214095</td>\n",
       "      <td>DecisionTreeRegressor()</td>\n",
       "    </tr>\n",
       "    <tr>\n",
       "      <th>14</th>\n",
       "      <td>J/K</td>\n",
       "      <td>Z</td>\n",
       "      <td>0.000000</td>\n",
       "      <td>regression</td>\n",
       "      <td>True</td>\n",
       "      <td>mean absolute error</td>\n",
       "      <td>0.213224</td>\n",
       "      <td>0.214212</td>\n",
       "      <td>DecisionTreeRegressor()</td>\n",
       "    </tr>\n",
       "    <tr>\n",
       "      <th>15</th>\n",
       "      <td>FUV/K</td>\n",
       "      <td>Z</td>\n",
       "      <td>0.000000</td>\n",
       "      <td>regression</td>\n",
       "      <td>True</td>\n",
       "      <td>mean absolute error</td>\n",
       "      <td>0.213224</td>\n",
       "      <td>0.214095</td>\n",
       "      <td>DecisionTreeRegressor()</td>\n",
       "    </tr>\n",
       "  </tbody>\n",
       "</table>\n",
       "</div>"
      ],
      "text/plain": [
       "           x  y   ppscore        case  is_valid_score               metric  \\\n",
       "0        r_i  Z  0.713992  regression            True  mean absolute error   \n",
       "1        g_r  Z  0.472462  regression            True  mean absolute error   \n",
       "2       z/W1  Z  0.457366  regression            True  mean absolute error   \n",
       "3        i_z  Z  0.430771  regression            True  mean absolute error   \n",
       "4      w2_w3  Z  0.357450  regression            True  mean absolute error   \n",
       "5      w3_w4  Z  0.271884  regression            True  mean absolute error   \n",
       "6   band_num  Z  0.202613  regression            True  mean absolute error   \n",
       "7        z_y  Z  0.084399  regression            True  mean absolute error   \n",
       "8      W4mag  Z  0.082951  regression            True  mean absolute error   \n",
       "9     FUVmag  Z  0.000000  regression            True  mean absolute error   \n",
       "10    NUVmag  Z  0.000000  regression            True  mean absolute error   \n",
       "11      Jmag  Z  0.000000  regression            True  mean absolute error   \n",
       "12      Kmag  Z  0.000000  regression            True  mean absolute error   \n",
       "13   FUV_NUV  Z  0.000000  regression            True  mean absolute error   \n",
       "14       J/K  Z  0.000000  regression            True  mean absolute error   \n",
       "15     FUV/K  Z  0.000000  regression            True  mean absolute error   \n",
       "\n",
       "    baseline_score  model_score                    model  \n",
       "0         0.213224     0.060984  DecisionTreeRegressor()  \n",
       "1         0.213224     0.112484  DecisionTreeRegressor()  \n",
       "2         0.213224     0.115703  DecisionTreeRegressor()  \n",
       "3         0.213224     0.121373  DecisionTreeRegressor()  \n",
       "4         0.213224     0.137007  DecisionTreeRegressor()  \n",
       "5         0.213224     0.155252  DecisionTreeRegressor()  \n",
       "6         0.213224     0.170022  DecisionTreeRegressor()  \n",
       "7         0.213224     0.195228  DecisionTreeRegressor()  \n",
       "8         0.213224     0.195537  DecisionTreeRegressor()  \n",
       "9         0.213224     0.214095  DecisionTreeRegressor()  \n",
       "10        0.213224     0.214095  DecisionTreeRegressor()  \n",
       "11        0.213224     0.214212  DecisionTreeRegressor()  \n",
       "12        0.213224     0.214095  DecisionTreeRegressor()  \n",
       "13        0.213224     0.214095  DecisionTreeRegressor()  \n",
       "14        0.213224     0.214212  DecisionTreeRegressor()  \n",
       "15        0.213224     0.214095  DecisionTreeRegressor()  "
      ]
     },
     "execution_count": 69,
     "metadata": {},
     "output_type": "execute_result"
    }
   ],
   "source": [
    "pps_pred_target"
   ]
  },
  {
   "cell_type": "markdown",
   "id": "cf43e2e4",
   "metadata": {
    "id": "f567638a-2720-4d09-8fc4-0832c0307148"
   },
   "source": [
    "---"
   ]
  },
  {
   "cell_type": "markdown",
   "id": "e643b964",
   "metadata": {
    "id": "1b55b413-36ea-4c3a-b261-ae4f4b71045d"
   },
   "source": [
    "## Use Machine Learning (ML): PyCaret"
   ]
  },
  {
   "cell_type": "markdown",
   "id": "38f932b2",
   "metadata": {
    "id": "8BFUMLcApfnI"
   },
   "source": [
    "## Train Models"
   ]
  },
  {
   "cell_type": "markdown",
   "id": "0819ca29",
   "metadata": {
    "id": "L0rK_gTcprFK"
   },
   "source": [
    "### AGN Detection Prediction"
   ]
  },
  {
   "cell_type": "code",
   "execution_count": 74,
   "id": "4d2cb104",
   "metadata": {},
   "outputs": [],
   "source": [
    "final_feats = pps_pred_target.x.to_list()  # Before Boruta\n",
    "# # z >= 3.7\n",
    "final_feats.remove('W4mag')  # After Boruta\n",
    "final_feats.remove('FUVmag')  # After Boruta\n",
    "final_feats.remove('NUVmag')  # After Boruta\n",
    "final_feats.remove('Jmag')  # After Boruta\n",
    "final_feats.remove('Kmag')  # After Boruta\n",
    "final_feats.remove('FUV_NUV')  # After Boruta\n",
    "final_feats.remove('J/K')  # After Boruta\n",
    "final_feats.remove('FUV/K')  # After Boruta"
   ]
  },
  {
   "cell_type": "code",
   "execution_count": 75,
   "id": "1398d7b1",
   "metadata": {},
   "outputs": [],
   "source": [
    "# z >= 3.7\n",
    "feats_2_discard = list_drop_corr + list_drop_pps + ['W4mag', 'FUVmag', 'NUVmag', 'Jmag', 'Kmag', 'FUV_NUV', 'J/K', 'FUV/K']"
   ]
  },
  {
   "cell_type": "markdown",
   "id": "4309c725",
   "metadata": {},
   "source": [
    "Boruta discards one feature."
   ]
  },
  {
   "cell_type": "code",
   "execution_count": 76,
   "id": "d280fec9",
   "metadata": {
    "id": "ttLEcpmVst4j"
   },
   "outputs": [
    {
     "data": {
      "text/html": [
       "<style type=\"text/css\">\n",
       "#T_660fa_row27_col1, #T_660fa_row29_col1, #T_660fa_row42_col1 {\n",
       "  background-color: lightgreen;\n",
       "}\n",
       "</style>\n",
       "<table id=\"T_660fa\">\n",
       "  <thead>\n",
       "    <tr>\n",
       "      <th class=\"blank level0\" >&nbsp;</th>\n",
       "      <th id=\"T_660fa_level0_col0\" class=\"col_heading level0 col0\" >Description</th>\n",
       "      <th id=\"T_660fa_level0_col1\" class=\"col_heading level0 col1\" >Value</th>\n",
       "    </tr>\n",
       "  </thead>\n",
       "  <tbody>\n",
       "    <tr>\n",
       "      <th id=\"T_660fa_level0_row0\" class=\"row_heading level0 row0\" >0</th>\n",
       "      <td id=\"T_660fa_row0_col0\" class=\"data row0 col0\" >session_id</td>\n",
       "      <td id=\"T_660fa_row0_col1\" class=\"data row0 col1\" >42</td>\n",
       "    </tr>\n",
       "    <tr>\n",
       "      <th id=\"T_660fa_level0_row1\" class=\"row_heading level0 row1\" >1</th>\n",
       "      <td id=\"T_660fa_row1_col0\" class=\"data row1 col0\" >Target</td>\n",
       "      <td id=\"T_660fa_row1_col1\" class=\"data row1 col1\" >Z</td>\n",
       "    </tr>\n",
       "    <tr>\n",
       "      <th id=\"T_660fa_level0_row2\" class=\"row_heading level0 row2\" >2</th>\n",
       "      <td id=\"T_660fa_row2_col0\" class=\"data row2 col0\" >Original Data</td>\n",
       "      <td id=\"T_660fa_row2_col1\" class=\"data row2 col1\" >(85, 39)</td>\n",
       "    </tr>\n",
       "    <tr>\n",
       "      <th id=\"T_660fa_level0_row3\" class=\"row_heading level0 row3\" >3</th>\n",
       "      <td id=\"T_660fa_row3_col0\" class=\"data row3 col0\" >Missing Values</td>\n",
       "      <td id=\"T_660fa_row3_col1\" class=\"data row3 col1\" >False</td>\n",
       "    </tr>\n",
       "    <tr>\n",
       "      <th id=\"T_660fa_level0_row4\" class=\"row_heading level0 row4\" >4</th>\n",
       "      <td id=\"T_660fa_row4_col0\" class=\"data row4 col0\" >Numeric Features</td>\n",
       "      <td id=\"T_660fa_row4_col1\" class=\"data row4 col1\" >8</td>\n",
       "    </tr>\n",
       "    <tr>\n",
       "      <th id=\"T_660fa_level0_row5\" class=\"row_heading level0 row5\" >5</th>\n",
       "      <td id=\"T_660fa_row5_col0\" class=\"data row5 col0\" >Categorical Features</td>\n",
       "      <td id=\"T_660fa_row5_col1\" class=\"data row5 col1\" >0</td>\n",
       "    </tr>\n",
       "    <tr>\n",
       "      <th id=\"T_660fa_level0_row6\" class=\"row_heading level0 row6\" >6</th>\n",
       "      <td id=\"T_660fa_row6_col0\" class=\"data row6 col0\" >Ordinal Features</td>\n",
       "      <td id=\"T_660fa_row6_col1\" class=\"data row6 col1\" >False</td>\n",
       "    </tr>\n",
       "    <tr>\n",
       "      <th id=\"T_660fa_level0_row7\" class=\"row_heading level0 row7\" >7</th>\n",
       "      <td id=\"T_660fa_row7_col0\" class=\"data row7 col0\" >High Cardinality Features</td>\n",
       "      <td id=\"T_660fa_row7_col1\" class=\"data row7 col1\" >False</td>\n",
       "    </tr>\n",
       "    <tr>\n",
       "      <th id=\"T_660fa_level0_row8\" class=\"row_heading level0 row8\" >8</th>\n",
       "      <td id=\"T_660fa_row8_col0\" class=\"data row8 col0\" >High Cardinality Method</td>\n",
       "      <td id=\"T_660fa_row8_col1\" class=\"data row8 col1\" >None</td>\n",
       "    </tr>\n",
       "    <tr>\n",
       "      <th id=\"T_660fa_level0_row9\" class=\"row_heading level0 row9\" >9</th>\n",
       "      <td id=\"T_660fa_row9_col0\" class=\"data row9 col0\" >Transformed Train Set</td>\n",
       "      <td id=\"T_660fa_row9_col1\" class=\"data row9 col1\" >(59, 8)</td>\n",
       "    </tr>\n",
       "    <tr>\n",
       "      <th id=\"T_660fa_level0_row10\" class=\"row_heading level0 row10\" >10</th>\n",
       "      <td id=\"T_660fa_row10_col0\" class=\"data row10 col0\" >Transformed Test Set</td>\n",
       "      <td id=\"T_660fa_row10_col1\" class=\"data row10 col1\" >(26, 8)</td>\n",
       "    </tr>\n",
       "    <tr>\n",
       "      <th id=\"T_660fa_level0_row11\" class=\"row_heading level0 row11\" >11</th>\n",
       "      <td id=\"T_660fa_row11_col0\" class=\"data row11 col0\" >Shuffle Train-Test</td>\n",
       "      <td id=\"T_660fa_row11_col1\" class=\"data row11 col1\" >True</td>\n",
       "    </tr>\n",
       "    <tr>\n",
       "      <th id=\"T_660fa_level0_row12\" class=\"row_heading level0 row12\" >12</th>\n",
       "      <td id=\"T_660fa_row12_col0\" class=\"data row12 col0\" >Stratify Train-Test</td>\n",
       "      <td id=\"T_660fa_row12_col1\" class=\"data row12 col1\" >False</td>\n",
       "    </tr>\n",
       "    <tr>\n",
       "      <th id=\"T_660fa_level0_row13\" class=\"row_heading level0 row13\" >13</th>\n",
       "      <td id=\"T_660fa_row13_col0\" class=\"data row13 col0\" >Fold Generator</td>\n",
       "      <td id=\"T_660fa_row13_col1\" class=\"data row13 col1\" >KFold</td>\n",
       "    </tr>\n",
       "    <tr>\n",
       "      <th id=\"T_660fa_level0_row14\" class=\"row_heading level0 row14\" >14</th>\n",
       "      <td id=\"T_660fa_row14_col0\" class=\"data row14 col0\" >Fold Number</td>\n",
       "      <td id=\"T_660fa_row14_col1\" class=\"data row14 col1\" >10</td>\n",
       "    </tr>\n",
       "    <tr>\n",
       "      <th id=\"T_660fa_level0_row15\" class=\"row_heading level0 row15\" >15</th>\n",
       "      <td id=\"T_660fa_row15_col0\" class=\"data row15 col0\" >CPU Jobs</td>\n",
       "      <td id=\"T_660fa_row15_col1\" class=\"data row15 col1\" >12</td>\n",
       "    </tr>\n",
       "    <tr>\n",
       "      <th id=\"T_660fa_level0_row16\" class=\"row_heading level0 row16\" >16</th>\n",
       "      <td id=\"T_660fa_row16_col0\" class=\"data row16 col0\" >Use GPU</td>\n",
       "      <td id=\"T_660fa_row16_col1\" class=\"data row16 col1\" >False</td>\n",
       "    </tr>\n",
       "    <tr>\n",
       "      <th id=\"T_660fa_level0_row17\" class=\"row_heading level0 row17\" >17</th>\n",
       "      <td id=\"T_660fa_row17_col0\" class=\"data row17 col0\" >Log Experiment</td>\n",
       "      <td id=\"T_660fa_row17_col1\" class=\"data row17 col1\" >False</td>\n",
       "    </tr>\n",
       "    <tr>\n",
       "      <th id=\"T_660fa_level0_row18\" class=\"row_heading level0 row18\" >18</th>\n",
       "      <td id=\"T_660fa_row18_col0\" class=\"data row18 col0\" >Experiment Name</td>\n",
       "      <td id=\"T_660fa_row18_col1\" class=\"data row18 col1\" >reg-default-name</td>\n",
       "    </tr>\n",
       "    <tr>\n",
       "      <th id=\"T_660fa_level0_row19\" class=\"row_heading level0 row19\" >19</th>\n",
       "      <td id=\"T_660fa_row19_col0\" class=\"data row19 col0\" >USI</td>\n",
       "      <td id=\"T_660fa_row19_col1\" class=\"data row19 col1\" >1e80</td>\n",
       "    </tr>\n",
       "    <tr>\n",
       "      <th id=\"T_660fa_level0_row20\" class=\"row_heading level0 row20\" >20</th>\n",
       "      <td id=\"T_660fa_row20_col0\" class=\"data row20 col0\" >Imputation Type</td>\n",
       "      <td id=\"T_660fa_row20_col1\" class=\"data row20 col1\" >simple</td>\n",
       "    </tr>\n",
       "    <tr>\n",
       "      <th id=\"T_660fa_level0_row21\" class=\"row_heading level0 row21\" >21</th>\n",
       "      <td id=\"T_660fa_row21_col0\" class=\"data row21 col0\" >Iterative Imputation Iteration</td>\n",
       "      <td id=\"T_660fa_row21_col1\" class=\"data row21 col1\" >None</td>\n",
       "    </tr>\n",
       "    <tr>\n",
       "      <th id=\"T_660fa_level0_row22\" class=\"row_heading level0 row22\" >22</th>\n",
       "      <td id=\"T_660fa_row22_col0\" class=\"data row22 col0\" >Numeric Imputer</td>\n",
       "      <td id=\"T_660fa_row22_col1\" class=\"data row22 col1\" >mean</td>\n",
       "    </tr>\n",
       "    <tr>\n",
       "      <th id=\"T_660fa_level0_row23\" class=\"row_heading level0 row23\" >23</th>\n",
       "      <td id=\"T_660fa_row23_col0\" class=\"data row23 col0\" >Iterative Imputation Numeric Model</td>\n",
       "      <td id=\"T_660fa_row23_col1\" class=\"data row23 col1\" >None</td>\n",
       "    </tr>\n",
       "    <tr>\n",
       "      <th id=\"T_660fa_level0_row24\" class=\"row_heading level0 row24\" >24</th>\n",
       "      <td id=\"T_660fa_row24_col0\" class=\"data row24 col0\" >Categorical Imputer</td>\n",
       "      <td id=\"T_660fa_row24_col1\" class=\"data row24 col1\" >constant</td>\n",
       "    </tr>\n",
       "    <tr>\n",
       "      <th id=\"T_660fa_level0_row25\" class=\"row_heading level0 row25\" >25</th>\n",
       "      <td id=\"T_660fa_row25_col0\" class=\"data row25 col0\" >Iterative Imputation Categorical Model</td>\n",
       "      <td id=\"T_660fa_row25_col1\" class=\"data row25 col1\" >None</td>\n",
       "    </tr>\n",
       "    <tr>\n",
       "      <th id=\"T_660fa_level0_row26\" class=\"row_heading level0 row26\" >26</th>\n",
       "      <td id=\"T_660fa_row26_col0\" class=\"data row26 col0\" >Unknown Categoricals Handling</td>\n",
       "      <td id=\"T_660fa_row26_col1\" class=\"data row26 col1\" >least_frequent</td>\n",
       "    </tr>\n",
       "    <tr>\n",
       "      <th id=\"T_660fa_level0_row27\" class=\"row_heading level0 row27\" >27</th>\n",
       "      <td id=\"T_660fa_row27_col0\" class=\"data row27 col0\" >Normalize</td>\n",
       "      <td id=\"T_660fa_row27_col1\" class=\"data row27 col1\" >True</td>\n",
       "    </tr>\n",
       "    <tr>\n",
       "      <th id=\"T_660fa_level0_row28\" class=\"row_heading level0 row28\" >28</th>\n",
       "      <td id=\"T_660fa_row28_col0\" class=\"data row28 col0\" >Normalize Method</td>\n",
       "      <td id=\"T_660fa_row28_col1\" class=\"data row28 col1\" >zscore</td>\n",
       "    </tr>\n",
       "    <tr>\n",
       "      <th id=\"T_660fa_level0_row29\" class=\"row_heading level0 row29\" >29</th>\n",
       "      <td id=\"T_660fa_row29_col0\" class=\"data row29 col0\" >Transformation</td>\n",
       "      <td id=\"T_660fa_row29_col1\" class=\"data row29 col1\" >True</td>\n",
       "    </tr>\n",
       "    <tr>\n",
       "      <th id=\"T_660fa_level0_row30\" class=\"row_heading level0 row30\" >30</th>\n",
       "      <td id=\"T_660fa_row30_col0\" class=\"data row30 col0\" >Transformation Method</td>\n",
       "      <td id=\"T_660fa_row30_col1\" class=\"data row30 col1\" >yeo-johnson</td>\n",
       "    </tr>\n",
       "    <tr>\n",
       "      <th id=\"T_660fa_level0_row31\" class=\"row_heading level0 row31\" >31</th>\n",
       "      <td id=\"T_660fa_row31_col0\" class=\"data row31 col0\" >PCA</td>\n",
       "      <td id=\"T_660fa_row31_col1\" class=\"data row31 col1\" >False</td>\n",
       "    </tr>\n",
       "    <tr>\n",
       "      <th id=\"T_660fa_level0_row32\" class=\"row_heading level0 row32\" >32</th>\n",
       "      <td id=\"T_660fa_row32_col0\" class=\"data row32 col0\" >PCA Method</td>\n",
       "      <td id=\"T_660fa_row32_col1\" class=\"data row32 col1\" >None</td>\n",
       "    </tr>\n",
       "    <tr>\n",
       "      <th id=\"T_660fa_level0_row33\" class=\"row_heading level0 row33\" >33</th>\n",
       "      <td id=\"T_660fa_row33_col0\" class=\"data row33 col0\" >PCA Components</td>\n",
       "      <td id=\"T_660fa_row33_col1\" class=\"data row33 col1\" >None</td>\n",
       "    </tr>\n",
       "    <tr>\n",
       "      <th id=\"T_660fa_level0_row34\" class=\"row_heading level0 row34\" >34</th>\n",
       "      <td id=\"T_660fa_row34_col0\" class=\"data row34 col0\" >Ignore Low Variance</td>\n",
       "      <td id=\"T_660fa_row34_col1\" class=\"data row34 col1\" >False</td>\n",
       "    </tr>\n",
       "    <tr>\n",
       "      <th id=\"T_660fa_level0_row35\" class=\"row_heading level0 row35\" >35</th>\n",
       "      <td id=\"T_660fa_row35_col0\" class=\"data row35 col0\" >Combine Rare Levels</td>\n",
       "      <td id=\"T_660fa_row35_col1\" class=\"data row35 col1\" >False</td>\n",
       "    </tr>\n",
       "    <tr>\n",
       "      <th id=\"T_660fa_level0_row36\" class=\"row_heading level0 row36\" >36</th>\n",
       "      <td id=\"T_660fa_row36_col0\" class=\"data row36 col0\" >Rare Level Threshold</td>\n",
       "      <td id=\"T_660fa_row36_col1\" class=\"data row36 col1\" >None</td>\n",
       "    </tr>\n",
       "    <tr>\n",
       "      <th id=\"T_660fa_level0_row37\" class=\"row_heading level0 row37\" >37</th>\n",
       "      <td id=\"T_660fa_row37_col0\" class=\"data row37 col0\" >Numeric Binning</td>\n",
       "      <td id=\"T_660fa_row37_col1\" class=\"data row37 col1\" >False</td>\n",
       "    </tr>\n",
       "    <tr>\n",
       "      <th id=\"T_660fa_level0_row38\" class=\"row_heading level0 row38\" >38</th>\n",
       "      <td id=\"T_660fa_row38_col0\" class=\"data row38 col0\" >Remove Outliers</td>\n",
       "      <td id=\"T_660fa_row38_col1\" class=\"data row38 col1\" >False</td>\n",
       "    </tr>\n",
       "    <tr>\n",
       "      <th id=\"T_660fa_level0_row39\" class=\"row_heading level0 row39\" >39</th>\n",
       "      <td id=\"T_660fa_row39_col0\" class=\"data row39 col0\" >Outliers Threshold</td>\n",
       "      <td id=\"T_660fa_row39_col1\" class=\"data row39 col1\" >None</td>\n",
       "    </tr>\n",
       "    <tr>\n",
       "      <th id=\"T_660fa_level0_row40\" class=\"row_heading level0 row40\" >40</th>\n",
       "      <td id=\"T_660fa_row40_col0\" class=\"data row40 col0\" >Remove Multicollinearity</td>\n",
       "      <td id=\"T_660fa_row40_col1\" class=\"data row40 col1\" >False</td>\n",
       "    </tr>\n",
       "    <tr>\n",
       "      <th id=\"T_660fa_level0_row41\" class=\"row_heading level0 row41\" >41</th>\n",
       "      <td id=\"T_660fa_row41_col0\" class=\"data row41 col0\" >Multicollinearity Threshold</td>\n",
       "      <td id=\"T_660fa_row41_col1\" class=\"data row41 col1\" >None</td>\n",
       "    </tr>\n",
       "    <tr>\n",
       "      <th id=\"T_660fa_level0_row42\" class=\"row_heading level0 row42\" >42</th>\n",
       "      <td id=\"T_660fa_row42_col0\" class=\"data row42 col0\" >Remove Perfect Collinearity</td>\n",
       "      <td id=\"T_660fa_row42_col1\" class=\"data row42 col1\" >True</td>\n",
       "    </tr>\n",
       "    <tr>\n",
       "      <th id=\"T_660fa_level0_row43\" class=\"row_heading level0 row43\" >43</th>\n",
       "      <td id=\"T_660fa_row43_col0\" class=\"data row43 col0\" >Clustering</td>\n",
       "      <td id=\"T_660fa_row43_col1\" class=\"data row43 col1\" >False</td>\n",
       "    </tr>\n",
       "    <tr>\n",
       "      <th id=\"T_660fa_level0_row44\" class=\"row_heading level0 row44\" >44</th>\n",
       "      <td id=\"T_660fa_row44_col0\" class=\"data row44 col0\" >Clustering Iteration</td>\n",
       "      <td id=\"T_660fa_row44_col1\" class=\"data row44 col1\" >None</td>\n",
       "    </tr>\n",
       "    <tr>\n",
       "      <th id=\"T_660fa_level0_row45\" class=\"row_heading level0 row45\" >45</th>\n",
       "      <td id=\"T_660fa_row45_col0\" class=\"data row45 col0\" >Polynomial Features</td>\n",
       "      <td id=\"T_660fa_row45_col1\" class=\"data row45 col1\" >False</td>\n",
       "    </tr>\n",
       "    <tr>\n",
       "      <th id=\"T_660fa_level0_row46\" class=\"row_heading level0 row46\" >46</th>\n",
       "      <td id=\"T_660fa_row46_col0\" class=\"data row46 col0\" >Polynomial Degree</td>\n",
       "      <td id=\"T_660fa_row46_col1\" class=\"data row46 col1\" >None</td>\n",
       "    </tr>\n",
       "    <tr>\n",
       "      <th id=\"T_660fa_level0_row47\" class=\"row_heading level0 row47\" >47</th>\n",
       "      <td id=\"T_660fa_row47_col0\" class=\"data row47 col0\" >Trignometry Features</td>\n",
       "      <td id=\"T_660fa_row47_col1\" class=\"data row47 col1\" >False</td>\n",
       "    </tr>\n",
       "    <tr>\n",
       "      <th id=\"T_660fa_level0_row48\" class=\"row_heading level0 row48\" >48</th>\n",
       "      <td id=\"T_660fa_row48_col0\" class=\"data row48 col0\" >Polynomial Threshold</td>\n",
       "      <td id=\"T_660fa_row48_col1\" class=\"data row48 col1\" >None</td>\n",
       "    </tr>\n",
       "    <tr>\n",
       "      <th id=\"T_660fa_level0_row49\" class=\"row_heading level0 row49\" >49</th>\n",
       "      <td id=\"T_660fa_row49_col0\" class=\"data row49 col0\" >Group Features</td>\n",
       "      <td id=\"T_660fa_row49_col1\" class=\"data row49 col1\" >False</td>\n",
       "    </tr>\n",
       "    <tr>\n",
       "      <th id=\"T_660fa_level0_row50\" class=\"row_heading level0 row50\" >50</th>\n",
       "      <td id=\"T_660fa_row50_col0\" class=\"data row50 col0\" >Feature Selection</td>\n",
       "      <td id=\"T_660fa_row50_col1\" class=\"data row50 col1\" >False</td>\n",
       "    </tr>\n",
       "    <tr>\n",
       "      <th id=\"T_660fa_level0_row51\" class=\"row_heading level0 row51\" >51</th>\n",
       "      <td id=\"T_660fa_row51_col0\" class=\"data row51 col0\" >Feature Selection Method</td>\n",
       "      <td id=\"T_660fa_row51_col1\" class=\"data row51 col1\" >boruta</td>\n",
       "    </tr>\n",
       "    <tr>\n",
       "      <th id=\"T_660fa_level0_row52\" class=\"row_heading level0 row52\" >52</th>\n",
       "      <td id=\"T_660fa_row52_col0\" class=\"data row52 col0\" >Features Selection Threshold</td>\n",
       "      <td id=\"T_660fa_row52_col1\" class=\"data row52 col1\" >None</td>\n",
       "    </tr>\n",
       "    <tr>\n",
       "      <th id=\"T_660fa_level0_row53\" class=\"row_heading level0 row53\" >53</th>\n",
       "      <td id=\"T_660fa_row53_col0\" class=\"data row53 col0\" >Feature Interaction</td>\n",
       "      <td id=\"T_660fa_row53_col1\" class=\"data row53 col1\" >False</td>\n",
       "    </tr>\n",
       "    <tr>\n",
       "      <th id=\"T_660fa_level0_row54\" class=\"row_heading level0 row54\" >54</th>\n",
       "      <td id=\"T_660fa_row54_col0\" class=\"data row54 col0\" >Feature Ratio</td>\n",
       "      <td id=\"T_660fa_row54_col1\" class=\"data row54 col1\" >False</td>\n",
       "    </tr>\n",
       "    <tr>\n",
       "      <th id=\"T_660fa_level0_row55\" class=\"row_heading level0 row55\" >55</th>\n",
       "      <td id=\"T_660fa_row55_col0\" class=\"data row55 col0\" >Interaction Threshold</td>\n",
       "      <td id=\"T_660fa_row55_col1\" class=\"data row55 col1\" >None</td>\n",
       "    </tr>\n",
       "    <tr>\n",
       "      <th id=\"T_660fa_level0_row56\" class=\"row_heading level0 row56\" >56</th>\n",
       "      <td id=\"T_660fa_row56_col0\" class=\"data row56 col0\" >Transform Target</td>\n",
       "      <td id=\"T_660fa_row56_col1\" class=\"data row56 col1\" >False</td>\n",
       "    </tr>\n",
       "    <tr>\n",
       "      <th id=\"T_660fa_level0_row57\" class=\"row_heading level0 row57\" >57</th>\n",
       "      <td id=\"T_660fa_row57_col0\" class=\"data row57 col0\" >Transform Target Method</td>\n",
       "      <td id=\"T_660fa_row57_col1\" class=\"data row57 col1\" >box-cox</td>\n",
       "    </tr>\n",
       "  </tbody>\n",
       "</table>\n"
      ],
      "text/plain": [
       "<pandas.io.formats.style.Styler at 0x7fe0a9036ee0>"
      ]
     },
     "metadata": {},
     "output_type": "display_data"
    }
   ],
   "source": [
    "exp_radio = pyr.setup(data=train_test_df, target='Z', session_id=seed, silent=True,\\\n",
    "                    feature_selection=False, feature_selection_method='boruta',\\\n",
    "                    numeric_features=final_feats, ignore_features=feats_2_discard, transformation=True,\\\n",
    "                    transformation_method='yeo-johnson', n_jobs=12, normalize=True,\\\n",
    "                    normalize_method='zscore', use_gpu=False)  # 15 minutes with Boruta # 5 without"
   ]
  },
  {
   "cell_type": "code",
   "execution_count": 77,
   "id": "6ef4080c",
   "metadata": {
    "id": "ykHUiWyetG0G"
   },
   "outputs": [
    {
     "data": {
      "text/plain": [
       "Index(['band_num', 'g_r', 'r_i', 'i_z', 'z_y', 'w2_w3', 'w3_w4', 'z/W1'], dtype='object')"
      ]
     },
     "execution_count": 77,
     "metadata": {},
     "output_type": "execute_result"
    }
   ],
   "source": [
    "pyr.get_config('X').columns"
   ]
  },
  {
   "cell_type": "code",
   "execution_count": 78,
   "id": "c5e8fd92",
   "metadata": {
    "id": "JFF_T52ztI11"
   },
   "outputs": [
    {
     "data": {
      "text/html": [
       "<div>\n",
       "<style scoped>\n",
       "    .dataframe tbody tr th:only-of-type {\n",
       "        vertical-align: middle;\n",
       "    }\n",
       "\n",
       "    .dataframe tbody tr th {\n",
       "        vertical-align: top;\n",
       "    }\n",
       "\n",
       "    .dataframe thead th {\n",
       "        text-align: right;\n",
       "    }\n",
       "</style>\n",
       "<table border=\"1\" class=\"dataframe\">\n",
       "  <thead>\n",
       "    <tr style=\"text-align: right;\">\n",
       "      <th></th>\n",
       "      <th>Name</th>\n",
       "      <th>Reference</th>\n",
       "      <th>Turbo</th>\n",
       "    </tr>\n",
       "    <tr>\n",
       "      <th>ID</th>\n",
       "      <th></th>\n",
       "      <th></th>\n",
       "      <th></th>\n",
       "    </tr>\n",
       "  </thead>\n",
       "  <tbody>\n",
       "    <tr>\n",
       "      <th>lr</th>\n",
       "      <td>Linear Regression</td>\n",
       "      <td>sklearn.linear_model._base.LinearRegression</td>\n",
       "      <td>True</td>\n",
       "    </tr>\n",
       "    <tr>\n",
       "      <th>lasso</th>\n",
       "      <td>Lasso Regression</td>\n",
       "      <td>sklearn.linear_model._coordinate_descent.Lasso</td>\n",
       "      <td>True</td>\n",
       "    </tr>\n",
       "    <tr>\n",
       "      <th>ridge</th>\n",
       "      <td>Ridge Regression</td>\n",
       "      <td>sklearn.linear_model._ridge.Ridge</td>\n",
       "      <td>True</td>\n",
       "    </tr>\n",
       "    <tr>\n",
       "      <th>en</th>\n",
       "      <td>Elastic Net</td>\n",
       "      <td>sklearn.linear_model._coordinate_descent.Elast...</td>\n",
       "      <td>True</td>\n",
       "    </tr>\n",
       "    <tr>\n",
       "      <th>lar</th>\n",
       "      <td>Least Angle Regression</td>\n",
       "      <td>sklearn.linear_model._least_angle.Lars</td>\n",
       "      <td>True</td>\n",
       "    </tr>\n",
       "    <tr>\n",
       "      <th>llar</th>\n",
       "      <td>Lasso Least Angle Regression</td>\n",
       "      <td>sklearn.linear_model._least_angle.LassoLars</td>\n",
       "      <td>True</td>\n",
       "    </tr>\n",
       "    <tr>\n",
       "      <th>omp</th>\n",
       "      <td>Orthogonal Matching Pursuit</td>\n",
       "      <td>sklearn.linear_model._omp.OrthogonalMatchingPu...</td>\n",
       "      <td>True</td>\n",
       "    </tr>\n",
       "    <tr>\n",
       "      <th>br</th>\n",
       "      <td>Bayesian Ridge</td>\n",
       "      <td>sklearn.linear_model._bayes.BayesianRidge</td>\n",
       "      <td>True</td>\n",
       "    </tr>\n",
       "    <tr>\n",
       "      <th>ard</th>\n",
       "      <td>Automatic Relevance Determination</td>\n",
       "      <td>sklearn.linear_model._bayes.ARDRegression</td>\n",
       "      <td>False</td>\n",
       "    </tr>\n",
       "    <tr>\n",
       "      <th>par</th>\n",
       "      <td>Passive Aggressive Regressor</td>\n",
       "      <td>sklearn.linear_model._passive_aggressive.Passi...</td>\n",
       "      <td>True</td>\n",
       "    </tr>\n",
       "    <tr>\n",
       "      <th>ransac</th>\n",
       "      <td>Random Sample Consensus</td>\n",
       "      <td>sklearn.linear_model._ransac.RANSACRegressor</td>\n",
       "      <td>False</td>\n",
       "    </tr>\n",
       "    <tr>\n",
       "      <th>tr</th>\n",
       "      <td>TheilSen Regressor</td>\n",
       "      <td>sklearn.linear_model._theil_sen.TheilSenRegressor</td>\n",
       "      <td>False</td>\n",
       "    </tr>\n",
       "    <tr>\n",
       "      <th>huber</th>\n",
       "      <td>Huber Regressor</td>\n",
       "      <td>sklearn.linear_model._huber.HuberRegressor</td>\n",
       "      <td>True</td>\n",
       "    </tr>\n",
       "    <tr>\n",
       "      <th>kr</th>\n",
       "      <td>Kernel Ridge</td>\n",
       "      <td>sklearn.kernel_ridge.KernelRidge</td>\n",
       "      <td>False</td>\n",
       "    </tr>\n",
       "    <tr>\n",
       "      <th>svm</th>\n",
       "      <td>Support Vector Regression</td>\n",
       "      <td>sklearn.svm._classes.SVR</td>\n",
       "      <td>False</td>\n",
       "    </tr>\n",
       "    <tr>\n",
       "      <th>knn</th>\n",
       "      <td>K Neighbors Regressor</td>\n",
       "      <td>sklearn.neighbors._regression.KNeighborsRegressor</td>\n",
       "      <td>True</td>\n",
       "    </tr>\n",
       "    <tr>\n",
       "      <th>dt</th>\n",
       "      <td>Decision Tree Regressor</td>\n",
       "      <td>sklearn.tree._classes.DecisionTreeRegressor</td>\n",
       "      <td>True</td>\n",
       "    </tr>\n",
       "    <tr>\n",
       "      <th>rf</th>\n",
       "      <td>Random Forest Regressor</td>\n",
       "      <td>sklearn.ensemble._forest.RandomForestRegressor</td>\n",
       "      <td>True</td>\n",
       "    </tr>\n",
       "    <tr>\n",
       "      <th>et</th>\n",
       "      <td>Extra Trees Regressor</td>\n",
       "      <td>sklearn.ensemble._forest.ExtraTreesRegressor</td>\n",
       "      <td>True</td>\n",
       "    </tr>\n",
       "    <tr>\n",
       "      <th>ada</th>\n",
       "      <td>AdaBoost Regressor</td>\n",
       "      <td>sklearn.ensemble._weight_boosting.AdaBoostRegr...</td>\n",
       "      <td>True</td>\n",
       "    </tr>\n",
       "    <tr>\n",
       "      <th>gbr</th>\n",
       "      <td>Gradient Boosting Regressor</td>\n",
       "      <td>sklearn.ensemble._gb.GradientBoostingRegressor</td>\n",
       "      <td>True</td>\n",
       "    </tr>\n",
       "    <tr>\n",
       "      <th>mlp</th>\n",
       "      <td>MLP Regressor</td>\n",
       "      <td>sklearn.neural_network._multilayer_perceptron....</td>\n",
       "      <td>False</td>\n",
       "    </tr>\n",
       "    <tr>\n",
       "      <th>xgboost</th>\n",
       "      <td>Extreme Gradient Boosting</td>\n",
       "      <td>xgboost.sklearn.XGBRegressor</td>\n",
       "      <td>True</td>\n",
       "    </tr>\n",
       "    <tr>\n",
       "      <th>lightgbm</th>\n",
       "      <td>Light Gradient Boosting Machine</td>\n",
       "      <td>lightgbm.sklearn.LGBMRegressor</td>\n",
       "      <td>True</td>\n",
       "    </tr>\n",
       "    <tr>\n",
       "      <th>catboost</th>\n",
       "      <td>CatBoost Regressor</td>\n",
       "      <td>catboost.core.CatBoostRegressor</td>\n",
       "      <td>True</td>\n",
       "    </tr>\n",
       "    <tr>\n",
       "      <th>dummy</th>\n",
       "      <td>Dummy Regressor</td>\n",
       "      <td>sklearn.dummy.DummyRegressor</td>\n",
       "      <td>True</td>\n",
       "    </tr>\n",
       "  </tbody>\n",
       "</table>\n",
       "</div>"
      ],
      "text/plain": [
       "                                       Name  \\\n",
       "ID                                            \n",
       "lr                        Linear Regression   \n",
       "lasso                      Lasso Regression   \n",
       "ridge                      Ridge Regression   \n",
       "en                              Elastic Net   \n",
       "lar                  Least Angle Regression   \n",
       "llar           Lasso Least Angle Regression   \n",
       "omp             Orthogonal Matching Pursuit   \n",
       "br                           Bayesian Ridge   \n",
       "ard       Automatic Relevance Determination   \n",
       "par            Passive Aggressive Regressor   \n",
       "ransac              Random Sample Consensus   \n",
       "tr                       TheilSen Regressor   \n",
       "huber                       Huber Regressor   \n",
       "kr                             Kernel Ridge   \n",
       "svm               Support Vector Regression   \n",
       "knn                   K Neighbors Regressor   \n",
       "dt                  Decision Tree Regressor   \n",
       "rf                  Random Forest Regressor   \n",
       "et                    Extra Trees Regressor   \n",
       "ada                      AdaBoost Regressor   \n",
       "gbr             Gradient Boosting Regressor   \n",
       "mlp                           MLP Regressor   \n",
       "xgboost           Extreme Gradient Boosting   \n",
       "lightgbm    Light Gradient Boosting Machine   \n",
       "catboost                 CatBoost Regressor   \n",
       "dummy                       Dummy Regressor   \n",
       "\n",
       "                                                  Reference  Turbo  \n",
       "ID                                                                  \n",
       "lr              sklearn.linear_model._base.LinearRegression   True  \n",
       "lasso        sklearn.linear_model._coordinate_descent.Lasso   True  \n",
       "ridge                     sklearn.linear_model._ridge.Ridge   True  \n",
       "en        sklearn.linear_model._coordinate_descent.Elast...   True  \n",
       "lar                  sklearn.linear_model._least_angle.Lars   True  \n",
       "llar            sklearn.linear_model._least_angle.LassoLars   True  \n",
       "omp       sklearn.linear_model._omp.OrthogonalMatchingPu...   True  \n",
       "br                sklearn.linear_model._bayes.BayesianRidge   True  \n",
       "ard               sklearn.linear_model._bayes.ARDRegression  False  \n",
       "par       sklearn.linear_model._passive_aggressive.Passi...   True  \n",
       "ransac         sklearn.linear_model._ransac.RANSACRegressor  False  \n",
       "tr        sklearn.linear_model._theil_sen.TheilSenRegressor  False  \n",
       "huber            sklearn.linear_model._huber.HuberRegressor   True  \n",
       "kr                         sklearn.kernel_ridge.KernelRidge  False  \n",
       "svm                                sklearn.svm._classes.SVR  False  \n",
       "knn       sklearn.neighbors._regression.KNeighborsRegressor   True  \n",
       "dt              sklearn.tree._classes.DecisionTreeRegressor   True  \n",
       "rf           sklearn.ensemble._forest.RandomForestRegressor   True  \n",
       "et             sklearn.ensemble._forest.ExtraTreesRegressor   True  \n",
       "ada       sklearn.ensemble._weight_boosting.AdaBoostRegr...   True  \n",
       "gbr          sklearn.ensemble._gb.GradientBoostingRegressor   True  \n",
       "mlp       sklearn.neural_network._multilayer_perceptron....  False  \n",
       "xgboost                        xgboost.sklearn.XGBRegressor   True  \n",
       "lightgbm                     lightgbm.sklearn.LGBMRegressor   True  \n",
       "catboost                    catboost.core.CatBoostRegressor   True  \n",
       "dummy                          sklearn.dummy.DummyRegressor   True  "
      ]
     },
     "execution_count": 78,
     "metadata": {},
     "output_type": "execute_result"
    }
   ],
   "source": [
    "pyr.models()"
   ]
  },
  {
   "cell_type": "markdown",
   "id": "43c84c1c",
   "metadata": {},
   "source": [
    "Add custom metrics"
   ]
  },
  {
   "cell_type": "code",
   "execution_count": 79,
   "id": "26732cbb",
   "metadata": {},
   "outputs": [
    {
     "data": {
      "text/plain": [
       "Name                                                        outlier_fr\n",
       "Display Name                                                outlier_fr\n",
       "Score Function               <function outlier_frac at 0x7fe16dc6a160>\n",
       "Scorer               make_scorer(outlier_frac, greater_is_better=Fa...\n",
       "Target                                                            pred\n",
       "Args                                                                {}\n",
       "Greater is Better                                                False\n",
       "Custom                                                            True\n",
       "Name: out_f, dtype: object"
      ]
     },
     "execution_count": 79,
     "metadata": {},
     "output_type": "execute_result"
    }
   ],
   "source": [
    "pyr.add_metric('s_mad',  'sigma_mad',    sigma_mad,    greater_is_better=False)\n",
    "pyr.add_metric('s_nmad', 'sigma_nmad',   sigma_nmad,   greater_is_better=False)\n",
    "pyr.add_metric('s_z',    'sigma_z',      sigma_z,      greater_is_better=False)\n",
    "pyr.add_metric('s_z_n',  'sigma_z_norm', sigma_z_norm, greater_is_better=False)\n",
    "pyr.add_metric('out_f',  'outlier_fr',   outlier_frac, greater_is_better=False)"
   ]
  },
  {
   "cell_type": "code",
   "execution_count": 80,
   "id": "14a97982",
   "metadata": {
    "id": "m3mCNspXtLnI"
   },
   "outputs": [
    {
     "data": {
      "text/html": [
       "<style type=\"text/css\">\n",
       "#T_09f11 th {\n",
       "  text-align: left;\n",
       "}\n",
       "#T_09f11_row0_col0, #T_09f11_row0_col1, #T_09f11_row0_col2, #T_09f11_row0_col3, #T_09f11_row0_col4, #T_09f11_row0_col5, #T_09f11_row0_col6, #T_09f11_row0_col9, #T_09f11_row0_col10, #T_09f11_row0_col11, #T_09f11_row1_col0, #T_09f11_row1_col1, #T_09f11_row1_col2, #T_09f11_row1_col3, #T_09f11_row1_col4, #T_09f11_row1_col5, #T_09f11_row1_col6, #T_09f11_row1_col7, #T_09f11_row1_col8, #T_09f11_row1_col9, #T_09f11_row1_col10, #T_09f11_row1_col11, #T_09f11_row2_col0, #T_09f11_row2_col1, #T_09f11_row2_col2, #T_09f11_row2_col3, #T_09f11_row2_col4, #T_09f11_row2_col5, #T_09f11_row2_col6, #T_09f11_row2_col7, #T_09f11_row2_col8, #T_09f11_row2_col9, #T_09f11_row2_col10, #T_09f11_row3_col0, #T_09f11_row3_col4, #T_09f11_row3_col7, #T_09f11_row3_col8, #T_09f11_row4_col0, #T_09f11_row4_col1, #T_09f11_row4_col2, #T_09f11_row4_col3, #T_09f11_row4_col4, #T_09f11_row4_col5, #T_09f11_row4_col6, #T_09f11_row4_col7, #T_09f11_row4_col8, #T_09f11_row4_col9, #T_09f11_row4_col10, #T_09f11_row5_col0, #T_09f11_row5_col1, #T_09f11_row5_col2, #T_09f11_row5_col3, #T_09f11_row5_col4, #T_09f11_row5_col5, #T_09f11_row5_col6, #T_09f11_row5_col7, #T_09f11_row5_col8, #T_09f11_row5_col9, #T_09f11_row5_col10, #T_09f11_row6_col0, #T_09f11_row6_col1, #T_09f11_row6_col2, #T_09f11_row6_col3, #T_09f11_row6_col5, #T_09f11_row6_col6, #T_09f11_row6_col7, #T_09f11_row6_col8, #T_09f11_row6_col9, #T_09f11_row6_col10, #T_09f11_row7_col0, #T_09f11_row7_col1, #T_09f11_row7_col2, #T_09f11_row7_col3, #T_09f11_row7_col4, #T_09f11_row7_col5, #T_09f11_row7_col6, #T_09f11_row7_col7, #T_09f11_row7_col8, #T_09f11_row7_col9, #T_09f11_row7_col10, #T_09f11_row8_col0, #T_09f11_row8_col1, #T_09f11_row8_col2, #T_09f11_row8_col3, #T_09f11_row8_col4, #T_09f11_row8_col5, #T_09f11_row8_col6, #T_09f11_row8_col7, #T_09f11_row8_col8, #T_09f11_row8_col9, #T_09f11_row8_col10, #T_09f11_row9_col0, #T_09f11_row9_col1, #T_09f11_row9_col2, #T_09f11_row9_col3, #T_09f11_row9_col4, #T_09f11_row9_col5, #T_09f11_row9_col6, #T_09f11_row9_col7, #T_09f11_row9_col8, #T_09f11_row9_col9, #T_09f11_row9_col10, #T_09f11_row10_col0, #T_09f11_row10_col1, #T_09f11_row10_col2, #T_09f11_row10_col3, #T_09f11_row10_col4, #T_09f11_row10_col5, #T_09f11_row10_col6, #T_09f11_row10_col7, #T_09f11_row10_col8, #T_09f11_row10_col9, #T_09f11_row10_col10, #T_09f11_row11_col0, #T_09f11_row11_col1, #T_09f11_row11_col2, #T_09f11_row11_col3, #T_09f11_row11_col4, #T_09f11_row11_col5, #T_09f11_row11_col6, #T_09f11_row11_col7, #T_09f11_row11_col8, #T_09f11_row11_col9, #T_09f11_row11_col10, #T_09f11_row11_col11, #T_09f11_row12_col0, #T_09f11_row12_col1, #T_09f11_row12_col2, #T_09f11_row12_col3, #T_09f11_row12_col4, #T_09f11_row12_col5, #T_09f11_row12_col6, #T_09f11_row12_col7, #T_09f11_row12_col8, #T_09f11_row12_col9, #T_09f11_row12_col10, #T_09f11_row12_col11, #T_09f11_row13_col0, #T_09f11_row13_col1, #T_09f11_row13_col2, #T_09f11_row13_col3, #T_09f11_row13_col4, #T_09f11_row13_col5, #T_09f11_row13_col6, #T_09f11_row13_col7, #T_09f11_row13_col8, #T_09f11_row13_col9, #T_09f11_row13_col10, #T_09f11_row14_col0, #T_09f11_row14_col1, #T_09f11_row14_col2, #T_09f11_row14_col3, #T_09f11_row14_col4, #T_09f11_row14_col5, #T_09f11_row14_col6, #T_09f11_row14_col7, #T_09f11_row14_col8, #T_09f11_row14_col9, #T_09f11_row14_col10, #T_09f11_row14_col11, #T_09f11_row15_col0, #T_09f11_row15_col1, #T_09f11_row15_col2, #T_09f11_row15_col3, #T_09f11_row15_col4, #T_09f11_row15_col5, #T_09f11_row15_col6, #T_09f11_row15_col7, #T_09f11_row15_col8, #T_09f11_row15_col9, #T_09f11_row15_col10, #T_09f11_row15_col11, #T_09f11_row16_col0, #T_09f11_row16_col1, #T_09f11_row16_col2, #T_09f11_row16_col3, #T_09f11_row16_col4, #T_09f11_row16_col5, #T_09f11_row16_col6, #T_09f11_row16_col7, #T_09f11_row16_col8, #T_09f11_row16_col9, #T_09f11_row16_col10, #T_09f11_row16_col11, #T_09f11_row17_col0, #T_09f11_row17_col1, #T_09f11_row17_col2, #T_09f11_row17_col3, #T_09f11_row17_col4, #T_09f11_row17_col5, #T_09f11_row17_col6, #T_09f11_row17_col7, #T_09f11_row17_col8, #T_09f11_row17_col9, #T_09f11_row17_col10, #T_09f11_row17_col11, #T_09f11_row18_col0, #T_09f11_row18_col1, #T_09f11_row18_col2, #T_09f11_row18_col3, #T_09f11_row18_col4, #T_09f11_row18_col5, #T_09f11_row18_col6, #T_09f11_row18_col7, #T_09f11_row18_col8, #T_09f11_row18_col9, #T_09f11_row18_col10, #T_09f11_row18_col11 {\n",
       "  text-align: left;\n",
       "}\n",
       "#T_09f11_row0_col7, #T_09f11_row0_col8, #T_09f11_row2_col11, #T_09f11_row3_col1, #T_09f11_row3_col2, #T_09f11_row3_col3, #T_09f11_row3_col5, #T_09f11_row3_col6, #T_09f11_row3_col9, #T_09f11_row3_col10, #T_09f11_row3_col11, #T_09f11_row4_col11, #T_09f11_row5_col11, #T_09f11_row6_col4, #T_09f11_row6_col11, #T_09f11_row7_col11, #T_09f11_row8_col11, #T_09f11_row9_col11, #T_09f11_row10_col11, #T_09f11_row13_col11 {\n",
       "  text-align: left;\n",
       "  background-color: yellow;\n",
       "}\n",
       "#T_09f11_row0_col12, #T_09f11_row1_col12, #T_09f11_row2_col12, #T_09f11_row3_col12, #T_09f11_row4_col12, #T_09f11_row5_col12, #T_09f11_row6_col12, #T_09f11_row8_col12, #T_09f11_row9_col12, #T_09f11_row10_col12, #T_09f11_row11_col12, #T_09f11_row12_col12, #T_09f11_row13_col12, #T_09f11_row15_col12, #T_09f11_row16_col12, #T_09f11_row17_col12 {\n",
       "  text-align: left;\n",
       "  background-color: lightgrey;\n",
       "}\n",
       "#T_09f11_row7_col12, #T_09f11_row14_col12, #T_09f11_row18_col12 {\n",
       "  text-align: left;\n",
       "  background-color: yellow;\n",
       "  background-color: lightgrey;\n",
       "}\n",
       "</style>\n",
       "<table id=\"T_09f11\">\n",
       "  <thead>\n",
       "    <tr>\n",
       "      <th class=\"blank level0\" >&nbsp;</th>\n",
       "      <th id=\"T_09f11_level0_col0\" class=\"col_heading level0 col0\" >Model</th>\n",
       "      <th id=\"T_09f11_level0_col1\" class=\"col_heading level0 col1\" >MAE</th>\n",
       "      <th id=\"T_09f11_level0_col2\" class=\"col_heading level0 col2\" >MSE</th>\n",
       "      <th id=\"T_09f11_level0_col3\" class=\"col_heading level0 col3\" >RMSE</th>\n",
       "      <th id=\"T_09f11_level0_col4\" class=\"col_heading level0 col4\" >R2</th>\n",
       "      <th id=\"T_09f11_level0_col5\" class=\"col_heading level0 col5\" >RMSLE</th>\n",
       "      <th id=\"T_09f11_level0_col6\" class=\"col_heading level0 col6\" >MAPE</th>\n",
       "      <th id=\"T_09f11_level0_col7\" class=\"col_heading level0 col7\" >sigma_mad</th>\n",
       "      <th id=\"T_09f11_level0_col8\" class=\"col_heading level0 col8\" >sigma_nmad</th>\n",
       "      <th id=\"T_09f11_level0_col9\" class=\"col_heading level0 col9\" >sigma_z</th>\n",
       "      <th id=\"T_09f11_level0_col10\" class=\"col_heading level0 col10\" >sigma_z_norm</th>\n",
       "      <th id=\"T_09f11_level0_col11\" class=\"col_heading level0 col11\" >outlier_fr</th>\n",
       "      <th id=\"T_09f11_level0_col12\" class=\"col_heading level0 col12\" >TT (Sec)</th>\n",
       "    </tr>\n",
       "  </thead>\n",
       "  <tbody>\n",
       "    <tr>\n",
       "      <th id=\"T_09f11_level0_row0\" class=\"row_heading level0 row0\" >dt</th>\n",
       "      <td id=\"T_09f11_row0_col0\" class=\"data row0 col0\" >Decision Tree Regressor</td>\n",
       "      <td id=\"T_09f11_row0_col1\" class=\"data row0 col1\" >0.1280</td>\n",
       "      <td id=\"T_09f11_row0_col2\" class=\"data row0 col2\" >0.1397</td>\n",
       "      <td id=\"T_09f11_row0_col3\" class=\"data row0 col3\" >0.2482</td>\n",
       "      <td id=\"T_09f11_row0_col4\" class=\"data row0 col4\" >-0.1182</td>\n",
       "      <td id=\"T_09f11_row0_col5\" class=\"data row0 col5\" >0.0430</td>\n",
       "      <td id=\"T_09f11_row0_col6\" class=\"data row0 col6\" >0.0303</td>\n",
       "      <td id=\"T_09f11_row0_col7\" class=\"data row0 col7\" >0.0454</td>\n",
       "      <td id=\"T_09f11_row0_col8\" class=\"data row0 col8\" >0.0087</td>\n",
       "      <td id=\"T_09f11_row0_col9\" class=\"data row0 col9\" >0.2482</td>\n",
       "      <td id=\"T_09f11_row0_col10\" class=\"data row0 col10\" >0.0475</td>\n",
       "      <td id=\"T_09f11_row0_col11\" class=\"data row0 col11\" >0.0333</td>\n",
       "      <td id=\"T_09f11_row0_col12\" class=\"data row0 col12\" >0.0090</td>\n",
       "    </tr>\n",
       "    <tr>\n",
       "      <th id=\"T_09f11_level0_row1\" class=\"row_heading level0 row1\" >gbr</th>\n",
       "      <td id=\"T_09f11_row1_col0\" class=\"data row1 col0\" >Gradient Boosting Regressor</td>\n",
       "      <td id=\"T_09f11_row1_col1\" class=\"data row1 col1\" >0.1216</td>\n",
       "      <td id=\"T_09f11_row1_col2\" class=\"data row1 col2\" >0.1094</td>\n",
       "      <td id=\"T_09f11_row1_col3\" class=\"data row1 col3\" >0.2282</td>\n",
       "      <td id=\"T_09f11_row1_col4\" class=\"data row1 col4\" >0.1175</td>\n",
       "      <td id=\"T_09f11_row1_col5\" class=\"data row1 col5\" >0.0405</td>\n",
       "      <td id=\"T_09f11_row1_col6\" class=\"data row1 col6\" >0.0289</td>\n",
       "      <td id=\"T_09f11_row1_col7\" class=\"data row1 col7\" >0.0507</td>\n",
       "      <td id=\"T_09f11_row1_col8\" class=\"data row1 col8\" >0.0093</td>\n",
       "      <td id=\"T_09f11_row1_col9\" class=\"data row1 col9\" >0.2282</td>\n",
       "      <td id=\"T_09f11_row1_col10\" class=\"data row1 col10\" >0.0441</td>\n",
       "      <td id=\"T_09f11_row1_col11\" class=\"data row1 col11\" >0.0333</td>\n",
       "      <td id=\"T_09f11_row1_col12\" class=\"data row1 col12\" >0.0120</td>\n",
       "    </tr>\n",
       "    <tr>\n",
       "      <th id=\"T_09f11_level0_row2\" class=\"row_heading level0 row2\" >xgboost</th>\n",
       "      <td id=\"T_09f11_row2_col0\" class=\"data row2 col0\" >Extreme Gradient Boosting</td>\n",
       "      <td id=\"T_09f11_row2_col1\" class=\"data row2 col1\" >0.1093</td>\n",
       "      <td id=\"T_09f11_row2_col2\" class=\"data row2 col2\" >0.0441</td>\n",
       "      <td id=\"T_09f11_row2_col3\" class=\"data row2 col3\" >0.1702</td>\n",
       "      <td id=\"T_09f11_row2_col4\" class=\"data row2 col4\" >0.5689</td>\n",
       "      <td id=\"T_09f11_row2_col5\" class=\"data row2 col5\" >0.0318</td>\n",
       "      <td id=\"T_09f11_row2_col6\" class=\"data row2 col6\" >0.0256</td>\n",
       "      <td id=\"T_09f11_row2_col7\" class=\"data row2 col7\" >0.0727</td>\n",
       "      <td id=\"T_09f11_row2_col8\" class=\"data row2 col8\" >0.0136</td>\n",
       "      <td id=\"T_09f11_row2_col9\" class=\"data row2 col9\" >0.1702</td>\n",
       "      <td id=\"T_09f11_row2_col10\" class=\"data row2 col10\" >0.0326</td>\n",
       "      <td id=\"T_09f11_row2_col11\" class=\"data row2 col11\" >0.0167</td>\n",
       "      <td id=\"T_09f11_row2_col12\" class=\"data row2 col12\" >2.7700</td>\n",
       "    </tr>\n",
       "    <tr>\n",
       "      <th id=\"T_09f11_level0_row3\" class=\"row_heading level0 row3\" >et</th>\n",
       "      <td id=\"T_09f11_row3_col0\" class=\"data row3 col0\" >Extra Trees Regressor</td>\n",
       "      <td id=\"T_09f11_row3_col1\" class=\"data row3 col1\" >0.1010</td>\n",
       "      <td id=\"T_09f11_row3_col2\" class=\"data row3 col2\" >0.0382</td>\n",
       "      <td id=\"T_09f11_row3_col3\" class=\"data row3 col3\" >0.1593</td>\n",
       "      <td id=\"T_09f11_row3_col4\" class=\"data row3 col4\" >0.7971</td>\n",
       "      <td id=\"T_09f11_row3_col5\" class=\"data row3 col5\" >0.0304</td>\n",
       "      <td id=\"T_09f11_row3_col6\" class=\"data row3 col6\" >0.0245</td>\n",
       "      <td id=\"T_09f11_row3_col7\" class=\"data row3 col7\" >0.0866</td>\n",
       "      <td id=\"T_09f11_row3_col8\" class=\"data row3 col8\" >0.0160</td>\n",
       "      <td id=\"T_09f11_row3_col9\" class=\"data row3 col9\" >0.1593</td>\n",
       "      <td id=\"T_09f11_row3_col10\" class=\"data row3 col10\" >0.0316</td>\n",
       "      <td id=\"T_09f11_row3_col11\" class=\"data row3 col11\" >0.0167</td>\n",
       "      <td id=\"T_09f11_row3_col12\" class=\"data row3 col12\" >0.0280</td>\n",
       "    </tr>\n",
       "    <tr>\n",
       "      <th id=\"T_09f11_level0_row4\" class=\"row_heading level0 row4\" >ada</th>\n",
       "      <td id=\"T_09f11_row4_col0\" class=\"data row4 col0\" >AdaBoost Regressor</td>\n",
       "      <td id=\"T_09f11_row4_col1\" class=\"data row4 col1\" >0.1113</td>\n",
       "      <td id=\"T_09f11_row4_col2\" class=\"data row4 col2\" >0.0462</td>\n",
       "      <td id=\"T_09f11_row4_col3\" class=\"data row4 col3\" >0.1694</td>\n",
       "      <td id=\"T_09f11_row4_col4\" class=\"data row4 col4\" >0.5365</td>\n",
       "      <td id=\"T_09f11_row4_col5\" class=\"data row4 col5\" >0.0315</td>\n",
       "      <td id=\"T_09f11_row4_col6\" class=\"data row4 col6\" >0.0263</td>\n",
       "      <td id=\"T_09f11_row4_col7\" class=\"data row4 col7\" >0.0915</td>\n",
       "      <td id=\"T_09f11_row4_col8\" class=\"data row4 col8\" >0.0172</td>\n",
       "      <td id=\"T_09f11_row4_col9\" class=\"data row4 col9\" >0.1694</td>\n",
       "      <td id=\"T_09f11_row4_col10\" class=\"data row4 col10\" >0.0327</td>\n",
       "      <td id=\"T_09f11_row4_col11\" class=\"data row4 col11\" >0.0167</td>\n",
       "      <td id=\"T_09f11_row4_col12\" class=\"data row4 col12\" >0.0150</td>\n",
       "    </tr>\n",
       "    <tr>\n",
       "      <th id=\"T_09f11_level0_row5\" class=\"row_heading level0 row5\" >rf</th>\n",
       "      <td id=\"T_09f11_row5_col0\" class=\"data row5 col0\" >Random Forest Regressor</td>\n",
       "      <td id=\"T_09f11_row5_col1\" class=\"data row5 col1\" >0.1259</td>\n",
       "      <td id=\"T_09f11_row5_col2\" class=\"data row5 col2\" >0.0673</td>\n",
       "      <td id=\"T_09f11_row5_col3\" class=\"data row5 col3\" >0.2033</td>\n",
       "      <td id=\"T_09f11_row5_col4\" class=\"data row5 col4\" >0.4169</td>\n",
       "      <td id=\"T_09f11_row5_col5\" class=\"data row5 col5\" >0.0354</td>\n",
       "      <td id=\"T_09f11_row5_col6\" class=\"data row5 col6\" >0.0282</td>\n",
       "      <td id=\"T_09f11_row5_col7\" class=\"data row5 col7\" >0.1006</td>\n",
       "      <td id=\"T_09f11_row5_col8\" class=\"data row5 col8\" >0.0191</td>\n",
       "      <td id=\"T_09f11_row5_col9\" class=\"data row5 col9\" >0.2033</td>\n",
       "      <td id=\"T_09f11_row5_col10\" class=\"data row5 col10\" >0.0369</td>\n",
       "      <td id=\"T_09f11_row5_col11\" class=\"data row5 col11\" >0.0167</td>\n",
       "      <td id=\"T_09f11_row5_col12\" class=\"data row5 col12\" >0.0320</td>\n",
       "    </tr>\n",
       "    <tr>\n",
       "      <th id=\"T_09f11_level0_row6\" class=\"row_heading level0 row6\" >catboost</th>\n",
       "      <td id=\"T_09f11_row6_col0\" class=\"data row6 col0\" >CatBoost Regressor</td>\n",
       "      <td id=\"T_09f11_row6_col1\" class=\"data row6 col1\" >0.1237</td>\n",
       "      <td id=\"T_09f11_row6_col2\" class=\"data row6 col2\" >0.0383</td>\n",
       "      <td id=\"T_09f11_row6_col3\" class=\"data row6 col3\" >0.1812</td>\n",
       "      <td id=\"T_09f11_row6_col4\" class=\"data row6 col4\" >0.8874</td>\n",
       "      <td id=\"T_09f11_row6_col5\" class=\"data row6 col5\" >0.0347</td>\n",
       "      <td id=\"T_09f11_row6_col6\" class=\"data row6 col6\" >0.0295</td>\n",
       "      <td id=\"T_09f11_row6_col7\" class=\"data row6 col7\" >0.1283</td>\n",
       "      <td id=\"T_09f11_row6_col8\" class=\"data row6 col8\" >0.0229</td>\n",
       "      <td id=\"T_09f11_row6_col9\" class=\"data row6 col9\" >0.1812</td>\n",
       "      <td id=\"T_09f11_row6_col10\" class=\"data row6 col10\" >0.0357</td>\n",
       "      <td id=\"T_09f11_row6_col11\" class=\"data row6 col11\" >0.0167</td>\n",
       "      <td id=\"T_09f11_row6_col12\" class=\"data row6 col12\" >0.0980</td>\n",
       "    </tr>\n",
       "    <tr>\n",
       "      <th id=\"T_09f11_level0_row7\" class=\"row_heading level0 row7\" >ridge</th>\n",
       "      <td id=\"T_09f11_row7_col0\" class=\"data row7 col0\" >Ridge Regression</td>\n",
       "      <td id=\"T_09f11_row7_col1\" class=\"data row7 col1\" >0.2312</td>\n",
       "      <td id=\"T_09f11_row7_col2\" class=\"data row7 col2\" >0.0844</td>\n",
       "      <td id=\"T_09f11_row7_col3\" class=\"data row7 col3\" >0.2693</td>\n",
       "      <td id=\"T_09f11_row7_col4\" class=\"data row7 col4\" >0.7322</td>\n",
       "      <td id=\"T_09f11_row7_col5\" class=\"data row7 col5\" >0.0485</td>\n",
       "      <td id=\"T_09f11_row7_col6\" class=\"data row7 col6\" >0.0512</td>\n",
       "      <td id=\"T_09f11_row7_col7\" class=\"data row7 col7\" >0.3023</td>\n",
       "      <td id=\"T_09f11_row7_col8\" class=\"data row7 col8\" >0.0539</td>\n",
       "      <td id=\"T_09f11_row7_col9\" class=\"data row7 col9\" >0.2693</td>\n",
       "      <td id=\"T_09f11_row7_col10\" class=\"data row7 col10\" >0.0493</td>\n",
       "      <td id=\"T_09f11_row7_col11\" class=\"data row7 col11\" >0.0167</td>\n",
       "      <td id=\"T_09f11_row7_col12\" class=\"data row7 col12\" >0.0080</td>\n",
       "    </tr>\n",
       "    <tr>\n",
       "      <th id=\"T_09f11_level0_row8\" class=\"row_heading level0 row8\" >br</th>\n",
       "      <td id=\"T_09f11_row8_col0\" class=\"data row8 col0\" >Bayesian Ridge</td>\n",
       "      <td id=\"T_09f11_row8_col1\" class=\"data row8 col1\" >0.2310</td>\n",
       "      <td id=\"T_09f11_row8_col2\" class=\"data row8 col2\" >0.0840</td>\n",
       "      <td id=\"T_09f11_row8_col3\" class=\"data row8 col3\" >0.2683</td>\n",
       "      <td id=\"T_09f11_row8_col4\" class=\"data row8 col4\" >0.7361</td>\n",
       "      <td id=\"T_09f11_row8_col5\" class=\"data row8 col5\" >0.0482</td>\n",
       "      <td id=\"T_09f11_row8_col6\" class=\"data row8 col6\" >0.0511</td>\n",
       "      <td id=\"T_09f11_row8_col7\" class=\"data row8 col7\" >0.3033</td>\n",
       "      <td id=\"T_09f11_row8_col8\" class=\"data row8 col8\" >0.0541</td>\n",
       "      <td id=\"T_09f11_row8_col9\" class=\"data row8 col9\" >0.2683</td>\n",
       "      <td id=\"T_09f11_row8_col10\" class=\"data row8 col10\" >0.0490</td>\n",
       "      <td id=\"T_09f11_row8_col11\" class=\"data row8 col11\" >0.0167</td>\n",
       "      <td id=\"T_09f11_row8_col12\" class=\"data row8 col12\" >0.0090</td>\n",
       "    </tr>\n",
       "    <tr>\n",
       "      <th id=\"T_09f11_level0_row9\" class=\"row_heading level0 row9\" >lar</th>\n",
       "      <td id=\"T_09f11_row9_col0\" class=\"data row9 col0\" >Least Angle Regression</td>\n",
       "      <td id=\"T_09f11_row9_col1\" class=\"data row9 col1\" >0.2321</td>\n",
       "      <td id=\"T_09f11_row9_col2\" class=\"data row9 col2\" >0.0861</td>\n",
       "      <td id=\"T_09f11_row9_col3\" class=\"data row9 col3\" >0.2721</td>\n",
       "      <td id=\"T_09f11_row9_col4\" class=\"data row9 col4\" >0.7235</td>\n",
       "      <td id=\"T_09f11_row9_col5\" class=\"data row9 col5\" >0.0491</td>\n",
       "      <td id=\"T_09f11_row9_col6\" class=\"data row9 col6\" >0.0516</td>\n",
       "      <td id=\"T_09f11_row9_col7\" class=\"data row9 col7\" >0.3051</td>\n",
       "      <td id=\"T_09f11_row9_col8\" class=\"data row9 col8\" >0.0540</td>\n",
       "      <td id=\"T_09f11_row9_col9\" class=\"data row9 col9\" >0.2721</td>\n",
       "      <td id=\"T_09f11_row9_col10\" class=\"data row9 col10\" >0.0499</td>\n",
       "      <td id=\"T_09f11_row9_col11\" class=\"data row9 col11\" >0.0167</td>\n",
       "      <td id=\"T_09f11_row9_col12\" class=\"data row9 col12\" >0.0090</td>\n",
       "    </tr>\n",
       "    <tr>\n",
       "      <th id=\"T_09f11_level0_row10\" class=\"row_heading level0 row10\" >lr</th>\n",
       "      <td id=\"T_09f11_row10_col0\" class=\"data row10 col0\" >Linear Regression</td>\n",
       "      <td id=\"T_09f11_row10_col1\" class=\"data row10 col1\" >0.2321</td>\n",
       "      <td id=\"T_09f11_row10_col2\" class=\"data row10 col2\" >0.0861</td>\n",
       "      <td id=\"T_09f11_row10_col3\" class=\"data row10 col3\" >0.2721</td>\n",
       "      <td id=\"T_09f11_row10_col4\" class=\"data row10 col4\" >0.7235</td>\n",
       "      <td id=\"T_09f11_row10_col5\" class=\"data row10 col5\" >0.0491</td>\n",
       "      <td id=\"T_09f11_row10_col6\" class=\"data row10 col6\" >0.0516</td>\n",
       "      <td id=\"T_09f11_row10_col7\" class=\"data row10 col7\" >0.3051</td>\n",
       "      <td id=\"T_09f11_row10_col8\" class=\"data row10 col8\" >0.0540</td>\n",
       "      <td id=\"T_09f11_row10_col9\" class=\"data row10 col9\" >0.2721</td>\n",
       "      <td id=\"T_09f11_row10_col10\" class=\"data row10 col10\" >0.0499</td>\n",
       "      <td id=\"T_09f11_row10_col11\" class=\"data row10 col11\" >0.0167</td>\n",
       "      <td id=\"T_09f11_row10_col12\" class=\"data row10 col12\" >0.2180</td>\n",
       "    </tr>\n",
       "    <tr>\n",
       "      <th id=\"T_09f11_level0_row11\" class=\"row_heading level0 row11\" >huber</th>\n",
       "      <td id=\"T_09f11_row11_col0\" class=\"data row11 col0\" >Huber Regressor</td>\n",
       "      <td id=\"T_09f11_row11_col1\" class=\"data row11 col1\" >0.2526</td>\n",
       "      <td id=\"T_09f11_row11_col2\" class=\"data row11 col2\" >0.1169</td>\n",
       "      <td id=\"T_09f11_row11_col3\" class=\"data row11 col3\" >0.3126</td>\n",
       "      <td id=\"T_09f11_row11_col4\" class=\"data row11 col4\" >0.6487</td>\n",
       "      <td id=\"T_09f11_row11_col5\" class=\"data row11 col5\" >0.0558</td>\n",
       "      <td id=\"T_09f11_row11_col6\" class=\"data row11 col6\" >0.0566</td>\n",
       "      <td id=\"T_09f11_row11_col7\" class=\"data row11 col7\" >0.3205</td>\n",
       "      <td id=\"T_09f11_row11_col8\" class=\"data row11 col8\" >0.0562</td>\n",
       "      <td id=\"T_09f11_row11_col9\" class=\"data row11 col9\" >0.3126</td>\n",
       "      <td id=\"T_09f11_row11_col10\" class=\"data row11 col10\" >0.0579</td>\n",
       "      <td id=\"T_09f11_row11_col11\" class=\"data row11 col11\" >0.0333</td>\n",
       "      <td id=\"T_09f11_row11_col12\" class=\"data row11 col12\" >0.0090</td>\n",
       "    </tr>\n",
       "    <tr>\n",
       "      <th id=\"T_09f11_level0_row12\" class=\"row_heading level0 row12\" >lightgbm</th>\n",
       "      <td id=\"T_09f11_row12_col0\" class=\"data row12 col0\" >Light Gradient Boosting Machine</td>\n",
       "      <td id=\"T_09f11_row12_col1\" class=\"data row12 col1\" >0.3024</td>\n",
       "      <td id=\"T_09f11_row12_col2\" class=\"data row12 col2\" >0.1803</td>\n",
       "      <td id=\"T_09f11_row12_col3\" class=\"data row12 col3\" >0.3850</td>\n",
       "      <td id=\"T_09f11_row12_col4\" class=\"data row12 col4\" >0.5848</td>\n",
       "      <td id=\"T_09f11_row12_col5\" class=\"data row12 col5\" >0.0679</td>\n",
       "      <td id=\"T_09f11_row12_col6\" class=\"data row12 col6\" >0.0655</td>\n",
       "      <td id=\"T_09f11_row12_col7\" class=\"data row12 col7\" >0.3667</td>\n",
       "      <td id=\"T_09f11_row12_col8\" class=\"data row12 col8\" >0.0657</td>\n",
       "      <td id=\"T_09f11_row12_col9\" class=\"data row12 col9\" >0.3850</td>\n",
       "      <td id=\"T_09f11_row12_col10\" class=\"data row12 col10\" >0.0672</td>\n",
       "      <td id=\"T_09f11_row12_col11\" class=\"data row12 col11\" >0.0667</td>\n",
       "      <td id=\"T_09f11_row12_col12\" class=\"data row12 col12\" >1.3310</td>\n",
       "    </tr>\n",
       "    <tr>\n",
       "      <th id=\"T_09f11_level0_row13\" class=\"row_heading level0 row13\" >par</th>\n",
       "      <td id=\"T_09f11_row13_col0\" class=\"data row13 col0\" >Passive Aggressive Regressor</td>\n",
       "      <td id=\"T_09f11_row13_col1\" class=\"data row13 col1\" >0.3232</td>\n",
       "      <td id=\"T_09f11_row13_col2\" class=\"data row13 col2\" >0.1790</td>\n",
       "      <td id=\"T_09f11_row13_col3\" class=\"data row13 col3\" >0.4067</td>\n",
       "      <td id=\"T_09f11_row13_col4\" class=\"data row13 col4\" >0.4170</td>\n",
       "      <td id=\"T_09f11_row13_col5\" class=\"data row13 col5\" >0.0711</td>\n",
       "      <td id=\"T_09f11_row13_col6\" class=\"data row13 col6\" >0.0705</td>\n",
       "      <td id=\"T_09f11_row13_col7\" class=\"data row13 col7\" >0.3996</td>\n",
       "      <td id=\"T_09f11_row13_col8\" class=\"data row13 col8\" >0.0725</td>\n",
       "      <td id=\"T_09f11_row13_col9\" class=\"data row13 col9\" >0.4067</td>\n",
       "      <td id=\"T_09f11_row13_col10\" class=\"data row13 col10\" >0.0717</td>\n",
       "      <td id=\"T_09f11_row13_col11\" class=\"data row13 col11\" >0.0167</td>\n",
       "      <td id=\"T_09f11_row13_col12\" class=\"data row13 col12\" >0.0090</td>\n",
       "    </tr>\n",
       "    <tr>\n",
       "      <th id=\"T_09f11_level0_row14\" class=\"row_heading level0 row14\" >omp</th>\n",
       "      <td id=\"T_09f11_row14_col0\" class=\"data row14 col0\" >Orthogonal Matching Pursuit</td>\n",
       "      <td id=\"T_09f11_row14_col1\" class=\"data row14 col1\" >0.3827</td>\n",
       "      <td id=\"T_09f11_row14_col2\" class=\"data row14 col2\" >0.2461</td>\n",
       "      <td id=\"T_09f11_row14_col3\" class=\"data row14 col3\" >0.4676</td>\n",
       "      <td id=\"T_09f11_row14_col4\" class=\"data row14 col4\" >0.0001</td>\n",
       "      <td id=\"T_09f11_row14_col5\" class=\"data row14 col5\" >0.0882</td>\n",
       "      <td id=\"T_09f11_row14_col6\" class=\"data row14 col6\" >0.0868</td>\n",
       "      <td id=\"T_09f11_row14_col7\" class=\"data row14 col7\" >0.4858</td>\n",
       "      <td id=\"T_09f11_row14_col8\" class=\"data row14 col8\" >0.0850</td>\n",
       "      <td id=\"T_09f11_row14_col9\" class=\"data row14 col9\" >0.4676</td>\n",
       "      <td id=\"T_09f11_row14_col10\" class=\"data row14 col10\" >0.0880</td>\n",
       "      <td id=\"T_09f11_row14_col11\" class=\"data row14 col11\" >0.0833</td>\n",
       "      <td id=\"T_09f11_row14_col12\" class=\"data row14 col12\" >0.0080</td>\n",
       "    </tr>\n",
       "    <tr>\n",
       "      <th id=\"T_09f11_level0_row15\" class=\"row_heading level0 row15\" >lasso</th>\n",
       "      <td id=\"T_09f11_row15_col0\" class=\"data row15 col0\" >Lasso Regression</td>\n",
       "      <td id=\"T_09f11_row15_col1\" class=\"data row15 col1\" >0.5580</td>\n",
       "      <td id=\"T_09f11_row15_col2\" class=\"data row15 col2\" >0.4977</td>\n",
       "      <td id=\"T_09f11_row15_col3\" class=\"data row15 col3\" >0.6707</td>\n",
       "      <td id=\"T_09f11_row15_col4\" class=\"data row15 col4\" >-0.1601</td>\n",
       "      <td id=\"T_09f11_row15_col5\" class=\"data row15 col5\" >0.1178</td>\n",
       "      <td id=\"T_09f11_row15_col6\" class=\"data row15 col6\" >0.1219</td>\n",
       "      <td id=\"T_09f11_row15_col7\" class=\"data row15 col7\" >0.7686</td>\n",
       "      <td id=\"T_09f11_row15_col8\" class=\"data row15 col8\" >0.1456</td>\n",
       "      <td id=\"T_09f11_row15_col9\" class=\"data row15 col9\" >0.6707</td>\n",
       "      <td id=\"T_09f11_row15_col10\" class=\"data row15 col10\" >0.1170</td>\n",
       "      <td id=\"T_09f11_row15_col11\" class=\"data row15 col11\" >0.3367</td>\n",
       "      <td id=\"T_09f11_row15_col12\" class=\"data row15 col12\" >0.1420</td>\n",
       "    </tr>\n",
       "    <tr>\n",
       "      <th id=\"T_09f11_level0_row16\" class=\"row_heading level0 row16\" >llar</th>\n",
       "      <td id=\"T_09f11_row16_col0\" class=\"data row16 col0\" >Lasso Least Angle Regression</td>\n",
       "      <td id=\"T_09f11_row16_col1\" class=\"data row16 col1\" >0.5580</td>\n",
       "      <td id=\"T_09f11_row16_col2\" class=\"data row16 col2\" >0.4977</td>\n",
       "      <td id=\"T_09f11_row16_col3\" class=\"data row16 col3\" >0.6707</td>\n",
       "      <td id=\"T_09f11_row16_col4\" class=\"data row16 col4\" >-0.1601</td>\n",
       "      <td id=\"T_09f11_row16_col5\" class=\"data row16 col5\" >0.1178</td>\n",
       "      <td id=\"T_09f11_row16_col6\" class=\"data row16 col6\" >0.1219</td>\n",
       "      <td id=\"T_09f11_row16_col7\" class=\"data row16 col7\" >0.7686</td>\n",
       "      <td id=\"T_09f11_row16_col8\" class=\"data row16 col8\" >0.1456</td>\n",
       "      <td id=\"T_09f11_row16_col9\" class=\"data row16 col9\" >0.6707</td>\n",
       "      <td id=\"T_09f11_row16_col10\" class=\"data row16 col10\" >0.1170</td>\n",
       "      <td id=\"T_09f11_row16_col11\" class=\"data row16 col11\" >0.3367</td>\n",
       "      <td id=\"T_09f11_row16_col12\" class=\"data row16 col12\" >0.0090</td>\n",
       "    </tr>\n",
       "    <tr>\n",
       "      <th id=\"T_09f11_level0_row17\" class=\"row_heading level0 row17\" >dummy</th>\n",
       "      <td id=\"T_09f11_row17_col0\" class=\"data row17 col0\" >Dummy Regressor</td>\n",
       "      <td id=\"T_09f11_row17_col1\" class=\"data row17 col1\" >0.5580</td>\n",
       "      <td id=\"T_09f11_row17_col2\" class=\"data row17 col2\" >0.4977</td>\n",
       "      <td id=\"T_09f11_row17_col3\" class=\"data row17 col3\" >0.6707</td>\n",
       "      <td id=\"T_09f11_row17_col4\" class=\"data row17 col4\" >-0.1601</td>\n",
       "      <td id=\"T_09f11_row17_col5\" class=\"data row17 col5\" >0.1178</td>\n",
       "      <td id=\"T_09f11_row17_col6\" class=\"data row17 col6\" >0.1219</td>\n",
       "      <td id=\"T_09f11_row17_col7\" class=\"data row17 col7\" >0.7686</td>\n",
       "      <td id=\"T_09f11_row17_col8\" class=\"data row17 col8\" >0.1456</td>\n",
       "      <td id=\"T_09f11_row17_col9\" class=\"data row17 col9\" >0.6707</td>\n",
       "      <td id=\"T_09f11_row17_col10\" class=\"data row17 col10\" >0.1170</td>\n",
       "      <td id=\"T_09f11_row17_col11\" class=\"data row17 col11\" >0.3367</td>\n",
       "      <td id=\"T_09f11_row17_col12\" class=\"data row17 col12\" >0.0090</td>\n",
       "    </tr>\n",
       "    <tr>\n",
       "      <th id=\"T_09f11_level0_row18\" class=\"row_heading level0 row18\" >en</th>\n",
       "      <td id=\"T_09f11_row18_col0\" class=\"data row18 col0\" >Elastic Net</td>\n",
       "      <td id=\"T_09f11_row18_col1\" class=\"data row18 col1\" >0.5552</td>\n",
       "      <td id=\"T_09f11_row18_col2\" class=\"data row18 col2\" >0.4906</td>\n",
       "      <td id=\"T_09f11_row18_col3\" class=\"data row18 col3\" >0.6649</td>\n",
       "      <td id=\"T_09f11_row18_col4\" class=\"data row18 col4\" >-0.1391</td>\n",
       "      <td id=\"T_09f11_row18_col5\" class=\"data row18 col5\" >0.1168</td>\n",
       "      <td id=\"T_09f11_row18_col6\" class=\"data row18 col6\" >0.1213</td>\n",
       "      <td id=\"T_09f11_row18_col7\" class=\"data row18 col7\" >0.7690</td>\n",
       "      <td id=\"T_09f11_row18_col8\" class=\"data row18 col8\" >0.1453</td>\n",
       "      <td id=\"T_09f11_row18_col9\" class=\"data row18 col9\" >0.6649</td>\n",
       "      <td id=\"T_09f11_row18_col10\" class=\"data row18 col10\" >0.1159</td>\n",
       "      <td id=\"T_09f11_row18_col11\" class=\"data row18 col11\" >0.3367</td>\n",
       "      <td id=\"T_09f11_row18_col12\" class=\"data row18 col12\" >0.0080</td>\n",
       "    </tr>\n",
       "  </tbody>\n",
       "</table>\n"
      ],
      "text/plain": [
       "<pandas.io.formats.style.Styler at 0x7fe16cf4e970>"
      ]
     },
     "metadata": {},
     "output_type": "display_data"
    }
   ],
   "source": [
    "# z >= 3.7\n",
    "final_selection_reg  = ['dt', 'gbr', 'xgboost', 'et', 'ada', 'dummy']\n",
    "n_models             = 5\n",
    "# top_model_z          = pyr.compare_models(n_select=n_models, include=final_selection_reg, sort='s_mad')  # 1:15 hour for used_models_clf\n",
    "top_model_z          = pyr.compare_models(n_select=n_models, exclude=['knn'], sort='s_mad')  # 5 minutes, using all models."
   ]
  },
  {
   "cell_type": "markdown",
   "id": "ef4885ee",
   "metadata": {},
   "source": [
    "Thus, we select `lightgbm` as meta learner."
   ]
  },
  {
   "cell_type": "markdown",
   "id": "1f6fce6e",
   "metadata": {},
   "source": [
    "Thus, we stack the models."
   ]
  },
  {
   "cell_type": "code",
   "execution_count": 81,
   "id": "8119402b",
   "metadata": {},
   "outputs": [
    {
     "data": {
      "text/html": [
       "<style type=\"text/css\">\n",
       "#T_252ca_row10_col0, #T_252ca_row10_col1, #T_252ca_row10_col2, #T_252ca_row10_col3, #T_252ca_row10_col4, #T_252ca_row10_col5, #T_252ca_row10_col6, #T_252ca_row10_col7, #T_252ca_row10_col8, #T_252ca_row10_col9, #T_252ca_row10_col10 {\n",
       "  background: yellow;\n",
       "}\n",
       "</style>\n",
       "<table id=\"T_252ca\">\n",
       "  <thead>\n",
       "    <tr>\n",
       "      <th class=\"blank level0\" >&nbsp;</th>\n",
       "      <th id=\"T_252ca_level0_col0\" class=\"col_heading level0 col0\" >MAE</th>\n",
       "      <th id=\"T_252ca_level0_col1\" class=\"col_heading level0 col1\" >MSE</th>\n",
       "      <th id=\"T_252ca_level0_col2\" class=\"col_heading level0 col2\" >RMSE</th>\n",
       "      <th id=\"T_252ca_level0_col3\" class=\"col_heading level0 col3\" >R2</th>\n",
       "      <th id=\"T_252ca_level0_col4\" class=\"col_heading level0 col4\" >RMSLE</th>\n",
       "      <th id=\"T_252ca_level0_col5\" class=\"col_heading level0 col5\" >MAPE</th>\n",
       "      <th id=\"T_252ca_level0_col6\" class=\"col_heading level0 col6\" >sigma_mad</th>\n",
       "      <th id=\"T_252ca_level0_col7\" class=\"col_heading level0 col7\" >sigma_nmad</th>\n",
       "      <th id=\"T_252ca_level0_col8\" class=\"col_heading level0 col8\" >sigma_z</th>\n",
       "      <th id=\"T_252ca_level0_col9\" class=\"col_heading level0 col9\" >sigma_z_norm</th>\n",
       "      <th id=\"T_252ca_level0_col10\" class=\"col_heading level0 col10\" >outlier_fr</th>\n",
       "    </tr>\n",
       "    <tr>\n",
       "      <th class=\"index_name level0\" >Fold</th>\n",
       "      <th class=\"blank col0\" >&nbsp;</th>\n",
       "      <th class=\"blank col1\" >&nbsp;</th>\n",
       "      <th class=\"blank col2\" >&nbsp;</th>\n",
       "      <th class=\"blank col3\" >&nbsp;</th>\n",
       "      <th class=\"blank col4\" >&nbsp;</th>\n",
       "      <th class=\"blank col5\" >&nbsp;</th>\n",
       "      <th class=\"blank col6\" >&nbsp;</th>\n",
       "      <th class=\"blank col7\" >&nbsp;</th>\n",
       "      <th class=\"blank col8\" >&nbsp;</th>\n",
       "      <th class=\"blank col9\" >&nbsp;</th>\n",
       "      <th class=\"blank col10\" >&nbsp;</th>\n",
       "    </tr>\n",
       "  </thead>\n",
       "  <tbody>\n",
       "    <tr>\n",
       "      <th id=\"T_252ca_level0_row0\" class=\"row_heading level0 row0\" >0</th>\n",
       "      <td id=\"T_252ca_row0_col0\" class=\"data row0 col0\" >0.1612</td>\n",
       "      <td id=\"T_252ca_row0_col1\" class=\"data row0 col1\" >0.0577</td>\n",
       "      <td id=\"T_252ca_row0_col2\" class=\"data row0 col2\" >0.2402</td>\n",
       "      <td id=\"T_252ca_row0_col3\" class=\"data row0 col3\" >0.9106</td>\n",
       "      <td id=\"T_252ca_row0_col4\" class=\"data row0 col4\" >0.0449</td>\n",
       "      <td id=\"T_252ca_row0_col5\" class=\"data row0 col5\" >0.0355</td>\n",
       "      <td id=\"T_252ca_row0_col6\" class=\"data row0 col6\" >0.0990</td>\n",
       "      <td id=\"T_252ca_row0_col7\" class=\"data row0 col7\" >0.0186</td>\n",
       "      <td id=\"T_252ca_row0_col8\" class=\"data row0 col8\" >0.2402</td>\n",
       "      <td id=\"T_252ca_row0_col9\" class=\"data row0 col9\" >0.0432</td>\n",
       "      <td id=\"T_252ca_row0_col10\" class=\"data row0 col10\" >0.0000</td>\n",
       "    </tr>\n",
       "    <tr>\n",
       "      <th id=\"T_252ca_level0_row1\" class=\"row_heading level0 row1\" >1</th>\n",
       "      <td id=\"T_252ca_row1_col0\" class=\"data row1 col0\" >0.0459</td>\n",
       "      <td id=\"T_252ca_row1_col1\" class=\"data row1 col1\" >0.0034</td>\n",
       "      <td id=\"T_252ca_row1_col2\" class=\"data row1 col2\" >0.0580</td>\n",
       "      <td id=\"T_252ca_row1_col3\" class=\"data row1 col3\" >0.9864</td>\n",
       "      <td id=\"T_252ca_row1_col4\" class=\"data row1 col4\" >0.0120</td>\n",
       "      <td id=\"T_252ca_row1_col5\" class=\"data row1 col5\" >0.0117</td>\n",
       "      <td id=\"T_252ca_row1_col6\" class=\"data row1 col6\" >0.0726</td>\n",
       "      <td id=\"T_252ca_row1_col7\" class=\"data row1 col7\" >0.0141</td>\n",
       "      <td id=\"T_252ca_row1_col8\" class=\"data row1 col8\" >0.0580</td>\n",
       "      <td id=\"T_252ca_row1_col9\" class=\"data row1 col9\" >0.0120</td>\n",
       "      <td id=\"T_252ca_row1_col10\" class=\"data row1 col10\" >0.0000</td>\n",
       "    </tr>\n",
       "    <tr>\n",
       "      <th id=\"T_252ca_level0_row2\" class=\"row_heading level0 row2\" >2</th>\n",
       "      <td id=\"T_252ca_row2_col0\" class=\"data row2 col0\" >0.1324</td>\n",
       "      <td id=\"T_252ca_row2_col1\" class=\"data row2 col1\" >0.0465</td>\n",
       "      <td id=\"T_252ca_row2_col2\" class=\"data row2 col2\" >0.2156</td>\n",
       "      <td id=\"T_252ca_row2_col3\" class=\"data row2 col3\" >0.8728</td>\n",
       "      <td id=\"T_252ca_row2_col4\" class=\"data row2 col4\" >0.0426</td>\n",
       "      <td id=\"T_252ca_row2_col5\" class=\"data row2 col5\" >0.0313</td>\n",
       "      <td id=\"T_252ca_row2_col6\" class=\"data row2 col6\" >0.0315</td>\n",
       "      <td id=\"T_252ca_row2_col7\" class=\"data row2 col7\" >0.0064</td>\n",
       "      <td id=\"T_252ca_row2_col8\" class=\"data row2 col8\" >0.2156</td>\n",
       "      <td id=\"T_252ca_row2_col9\" class=\"data row2 col9\" >0.0411</td>\n",
       "      <td id=\"T_252ca_row2_col10\" class=\"data row2 col10\" >0.0000</td>\n",
       "    </tr>\n",
       "    <tr>\n",
       "      <th id=\"T_252ca_level0_row3\" class=\"row_heading level0 row3\" >3</th>\n",
       "      <td id=\"T_252ca_row3_col0\" class=\"data row3 col0\" >0.1415</td>\n",
       "      <td id=\"T_252ca_row3_col1\" class=\"data row3 col1\" >0.0610</td>\n",
       "      <td id=\"T_252ca_row3_col2\" class=\"data row3 col2\" >0.2469</td>\n",
       "      <td id=\"T_252ca_row3_col3\" class=\"data row3 col3\" >0.0878</td>\n",
       "      <td id=\"T_252ca_row3_col4\" class=\"data row3 col4\" >0.0433</td>\n",
       "      <td id=\"T_252ca_row3_col5\" class=\"data row3 col5\" >0.0320</td>\n",
       "      <td id=\"T_252ca_row3_col6\" class=\"data row3 col6\" >0.0827</td>\n",
       "      <td id=\"T_252ca_row3_col7\" class=\"data row3 col7\" >0.0162</td>\n",
       "      <td id=\"T_252ca_row3_col8\" class=\"data row3 col8\" >0.2469</td>\n",
       "      <td id=\"T_252ca_row3_col9\" class=\"data row3 col9\" >0.0454</td>\n",
       "      <td id=\"T_252ca_row3_col10\" class=\"data row3 col10\" >0.0000</td>\n",
       "    </tr>\n",
       "    <tr>\n",
       "      <th id=\"T_252ca_level0_row4\" class=\"row_heading level0 row4\" >4</th>\n",
       "      <td id=\"T_252ca_row4_col0\" class=\"data row4 col0\" >0.0587</td>\n",
       "      <td id=\"T_252ca_row4_col1\" class=\"data row4 col1\" >0.0083</td>\n",
       "      <td id=\"T_252ca_row4_col2\" class=\"data row4 col2\" >0.0912</td>\n",
       "      <td id=\"T_252ca_row4_col3\" class=\"data row4 col3\" >0.9890</td>\n",
       "      <td id=\"T_252ca_row4_col4\" class=\"data row4 col4\" >0.0183</td>\n",
       "      <td id=\"T_252ca_row4_col5\" class=\"data row4 col5\" >0.0148</td>\n",
       "      <td id=\"T_252ca_row4_col6\" class=\"data row4 col6\" >0.0244</td>\n",
       "      <td id=\"T_252ca_row4_col7\" class=\"data row4 col7\" >0.0051</td>\n",
       "      <td id=\"T_252ca_row4_col8\" class=\"data row4 col8\" >0.0912</td>\n",
       "      <td id=\"T_252ca_row4_col9\" class=\"data row4 col9\" >0.0184</td>\n",
       "      <td id=\"T_252ca_row4_col10\" class=\"data row4 col10\" >0.0000</td>\n",
       "    </tr>\n",
       "    <tr>\n",
       "      <th id=\"T_252ca_level0_row5\" class=\"row_heading level0 row5\" >5</th>\n",
       "      <td id=\"T_252ca_row5_col0\" class=\"data row5 col0\" >0.0988</td>\n",
       "      <td id=\"T_252ca_row5_col1\" class=\"data row5 col1\" >0.0262</td>\n",
       "      <td id=\"T_252ca_row5_col2\" class=\"data row5 col2\" >0.1619</td>\n",
       "      <td id=\"T_252ca_row5_col3\" class=\"data row5 col3\" >0.9694</td>\n",
       "      <td id=\"T_252ca_row5_col4\" class=\"data row5 col4\" >0.0326</td>\n",
       "      <td id=\"T_252ca_row5_col5\" class=\"data row5 col5\" >0.0255</td>\n",
       "      <td id=\"T_252ca_row5_col6\" class=\"data row5 col6\" >0.0428</td>\n",
       "      <td id=\"T_252ca_row5_col7\" class=\"data row5 col7\" >0.0074</td>\n",
       "      <td id=\"T_252ca_row5_col8\" class=\"data row5 col8\" >0.1619</td>\n",
       "      <td id=\"T_252ca_row5_col9\" class=\"data row5 col9\" >0.0337</td>\n",
       "      <td id=\"T_252ca_row5_col10\" class=\"data row5 col10\" >0.0000</td>\n",
       "    </tr>\n",
       "    <tr>\n",
       "      <th id=\"T_252ca_level0_row6\" class=\"row_heading level0 row6\" >6</th>\n",
       "      <td id=\"T_252ca_row6_col0\" class=\"data row6 col0\" >0.0509</td>\n",
       "      <td id=\"T_252ca_row6_col1\" class=\"data row6 col1\" >0.0064</td>\n",
       "      <td id=\"T_252ca_row6_col2\" class=\"data row6 col2\" >0.0803</td>\n",
       "      <td id=\"T_252ca_row6_col3\" class=\"data row6 col3\" >0.9917</td>\n",
       "      <td id=\"T_252ca_row6_col4\" class=\"data row6 col4\" >0.0156</td>\n",
       "      <td id=\"T_252ca_row6_col5\" class=\"data row6 col5\" >0.0126</td>\n",
       "      <td id=\"T_252ca_row6_col6\" class=\"data row6 col6\" >0.0348</td>\n",
       "      <td id=\"T_252ca_row6_col7\" class=\"data row6 col7\" >0.0073</td>\n",
       "      <td id=\"T_252ca_row6_col8\" class=\"data row6 col8\" >0.0803</td>\n",
       "      <td id=\"T_252ca_row6_col9\" class=\"data row6 col9\" >0.0158</td>\n",
       "      <td id=\"T_252ca_row6_col10\" class=\"data row6 col10\" >0.0000</td>\n",
       "    </tr>\n",
       "    <tr>\n",
       "      <th id=\"T_252ca_level0_row7\" class=\"row_heading level0 row7\" >7</th>\n",
       "      <td id=\"T_252ca_row7_col0\" class=\"data row7 col0\" >0.0512</td>\n",
       "      <td id=\"T_252ca_row7_col1\" class=\"data row7 col1\" >0.0076</td>\n",
       "      <td id=\"T_252ca_row7_col2\" class=\"data row7 col2\" >0.0871</td>\n",
       "      <td id=\"T_252ca_row7_col3\" class=\"data row7 col3\" >0.9711</td>\n",
       "      <td id=\"T_252ca_row7_col4\" class=\"data row7 col4\" >0.0172</td>\n",
       "      <td id=\"T_252ca_row7_col5\" class=\"data row7 col5\" >0.0117</td>\n",
       "      <td id=\"T_252ca_row7_col6\" class=\"data row7 col6\" >0.0291</td>\n",
       "      <td id=\"T_252ca_row7_col7\" class=\"data row7 col7\" >0.0046</td>\n",
       "      <td id=\"T_252ca_row7_col8\" class=\"data row7 col8\" >0.0871</td>\n",
       "      <td id=\"T_252ca_row7_col9\" class=\"data row7 col9\" >0.0168</td>\n",
       "      <td id=\"T_252ca_row7_col10\" class=\"data row7 col10\" >0.0000</td>\n",
       "    </tr>\n",
       "    <tr>\n",
       "      <th id=\"T_252ca_level0_row8\" class=\"row_heading level0 row8\" >8</th>\n",
       "      <td id=\"T_252ca_row8_col0\" class=\"data row8 col0\" >0.0984</td>\n",
       "      <td id=\"T_252ca_row8_col1\" class=\"data row8 col1\" >0.0124</td>\n",
       "      <td id=\"T_252ca_row8_col2\" class=\"data row8 col2\" >0.1114</td>\n",
       "      <td id=\"T_252ca_row8_col3\" class=\"data row8 col3\" >0.9403</td>\n",
       "      <td id=\"T_252ca_row8_col4\" class=\"data row8 col4\" >0.0217</td>\n",
       "      <td id=\"T_252ca_row8_col5\" class=\"data row8 col5\" >0.0232</td>\n",
       "      <td id=\"T_252ca_row8_col6\" class=\"data row8 col6\" >0.1406</td>\n",
       "      <td id=\"T_252ca_row8_col7\" class=\"data row8 col7\" >0.0284</td>\n",
       "      <td id=\"T_252ca_row8_col8\" class=\"data row8 col8\" >0.1114</td>\n",
       "      <td id=\"T_252ca_row8_col9\" class=\"data row8 col9\" >0.0214</td>\n",
       "      <td id=\"T_252ca_row8_col10\" class=\"data row8 col10\" >0.0000</td>\n",
       "    </tr>\n",
       "    <tr>\n",
       "      <th id=\"T_252ca_level0_row9\" class=\"row_heading level0 row9\" >9</th>\n",
       "      <td id=\"T_252ca_row9_col0\" class=\"data row9 col0\" >0.0067</td>\n",
       "      <td id=\"T_252ca_row9_col1\" class=\"data row9 col1\" >0.0001</td>\n",
       "      <td id=\"T_252ca_row9_col2\" class=\"data row9 col2\" >0.0092</td>\n",
       "      <td id=\"T_252ca_row9_col3\" class=\"data row9 col3\" >0.9996</td>\n",
       "      <td id=\"T_252ca_row9_col4\" class=\"data row9 col4\" >0.0017</td>\n",
       "      <td id=\"T_252ca_row9_col5\" class=\"data row9 col5\" >0.0015</td>\n",
       "      <td id=\"T_252ca_row9_col6\" class=\"data row9 col6\" >0.0096</td>\n",
       "      <td id=\"T_252ca_row9_col7\" class=\"data row9 col7\" >0.0017</td>\n",
       "      <td id=\"T_252ca_row9_col8\" class=\"data row9 col8\" >0.0092</td>\n",
       "      <td id=\"T_252ca_row9_col9\" class=\"data row9 col9\" >0.0017</td>\n",
       "      <td id=\"T_252ca_row9_col10\" class=\"data row9 col10\" >0.0000</td>\n",
       "    </tr>\n",
       "    <tr>\n",
       "      <th id=\"T_252ca_level0_row10\" class=\"row_heading level0 row10\" >Mean</th>\n",
       "      <td id=\"T_252ca_row10_col0\" class=\"data row10 col0\" >0.0846</td>\n",
       "      <td id=\"T_252ca_row10_col1\" class=\"data row10 col1\" >0.0230</td>\n",
       "      <td id=\"T_252ca_row10_col2\" class=\"data row10 col2\" >0.1302</td>\n",
       "      <td id=\"T_252ca_row10_col3\" class=\"data row10 col3\" >0.8719</td>\n",
       "      <td id=\"T_252ca_row10_col4\" class=\"data row10 col4\" >0.0250</td>\n",
       "      <td id=\"T_252ca_row10_col5\" class=\"data row10 col5\" >0.0200</td>\n",
       "      <td id=\"T_252ca_row10_col6\" class=\"data row10 col6\" >0.0567</td>\n",
       "      <td id=\"T_252ca_row10_col7\" class=\"data row10 col7\" >0.0110</td>\n",
       "      <td id=\"T_252ca_row10_col8\" class=\"data row10 col8\" >0.1302</td>\n",
       "      <td id=\"T_252ca_row10_col9\" class=\"data row10 col9\" >0.0250</td>\n",
       "      <td id=\"T_252ca_row10_col10\" class=\"data row10 col10\" >0.0000</td>\n",
       "    </tr>\n",
       "    <tr>\n",
       "      <th id=\"T_252ca_level0_row11\" class=\"row_heading level0 row11\" >Std</th>\n",
       "      <td id=\"T_252ca_row11_col0\" class=\"data row11 col0\" >0.0472</td>\n",
       "      <td id=\"T_252ca_row11_col1\" class=\"data row11 col1\" >0.0223</td>\n",
       "      <td id=\"T_252ca_row11_col2\" class=\"data row11 col2\" >0.0775</td>\n",
       "      <td id=\"T_252ca_row11_col3\" class=\"data row11 col3\" >0.2642</td>\n",
       "      <td id=\"T_252ca_row11_col4\" class=\"data row11 col4\" >0.0142</td>\n",
       "      <td id=\"T_252ca_row11_col5\" class=\"data row11 col5\" >0.0105</td>\n",
       "      <td id=\"T_252ca_row11_col6\" class=\"data row11 col6\" >0.0388</td>\n",
       "      <td id=\"T_252ca_row11_col7\" class=\"data row11 col7\" >0.0078</td>\n",
       "      <td id=\"T_252ca_row11_col8\" class=\"data row11 col8\" >0.0775</td>\n",
       "      <td id=\"T_252ca_row11_col9\" class=\"data row11 col9\" >0.0142</td>\n",
       "      <td id=\"T_252ca_row11_col10\" class=\"data row11 col10\" >0.0000</td>\n",
       "    </tr>\n",
       "  </tbody>\n",
       "</table>\n"
      ],
      "text/plain": [
       "<pandas.io.formats.style.Styler at 0x7fe16cd87790>"
      ]
     },
     "metadata": {},
     "output_type": "display_data"
    }
   ],
   "source": [
    "stacked_model_z = pyr.stack_models(estimator_list=top_model_z[1:], meta_model=top_model_z[0], optimize='s_mad')"
   ]
  },
  {
   "cell_type": "code",
   "execution_count": 82,
   "id": "e33715c5",
   "metadata": {
    "id": "Dz0XvX17teel"
   },
   "outputs": [
    {
     "data": {
      "text/html": [
       "<style type=\"text/css\">\n",
       "#T_386eb_row10_col0, #T_386eb_row10_col1, #T_386eb_row10_col2, #T_386eb_row10_col3, #T_386eb_row10_col4, #T_386eb_row10_col5, #T_386eb_row10_col6, #T_386eb_row10_col7, #T_386eb_row10_col8, #T_386eb_row10_col9, #T_386eb_row10_col10 {\n",
       "  background: yellow;\n",
       "}\n",
       "</style>\n",
       "<table id=\"T_386eb\">\n",
       "  <thead>\n",
       "    <tr>\n",
       "      <th class=\"blank level0\" >&nbsp;</th>\n",
       "      <th id=\"T_386eb_level0_col0\" class=\"col_heading level0 col0\" >MAE</th>\n",
       "      <th id=\"T_386eb_level0_col1\" class=\"col_heading level0 col1\" >MSE</th>\n",
       "      <th id=\"T_386eb_level0_col2\" class=\"col_heading level0 col2\" >RMSE</th>\n",
       "      <th id=\"T_386eb_level0_col3\" class=\"col_heading level0 col3\" >R2</th>\n",
       "      <th id=\"T_386eb_level0_col4\" class=\"col_heading level0 col4\" >RMSLE</th>\n",
       "      <th id=\"T_386eb_level0_col5\" class=\"col_heading level0 col5\" >MAPE</th>\n",
       "      <th id=\"T_386eb_level0_col6\" class=\"col_heading level0 col6\" >sigma_mad</th>\n",
       "      <th id=\"T_386eb_level0_col7\" class=\"col_heading level0 col7\" >sigma_nmad</th>\n",
       "      <th id=\"T_386eb_level0_col8\" class=\"col_heading level0 col8\" >sigma_z</th>\n",
       "      <th id=\"T_386eb_level0_col9\" class=\"col_heading level0 col9\" >sigma_z_norm</th>\n",
       "      <th id=\"T_386eb_level0_col10\" class=\"col_heading level0 col10\" >outlier_fr</th>\n",
       "    </tr>\n",
       "    <tr>\n",
       "      <th class=\"index_name level0\" >Fold</th>\n",
       "      <th class=\"blank col0\" >&nbsp;</th>\n",
       "      <th class=\"blank col1\" >&nbsp;</th>\n",
       "      <th class=\"blank col2\" >&nbsp;</th>\n",
       "      <th class=\"blank col3\" >&nbsp;</th>\n",
       "      <th class=\"blank col4\" >&nbsp;</th>\n",
       "      <th class=\"blank col5\" >&nbsp;</th>\n",
       "      <th class=\"blank col6\" >&nbsp;</th>\n",
       "      <th class=\"blank col7\" >&nbsp;</th>\n",
       "      <th class=\"blank col8\" >&nbsp;</th>\n",
       "      <th class=\"blank col9\" >&nbsp;</th>\n",
       "      <th class=\"blank col10\" >&nbsp;</th>\n",
       "    </tr>\n",
       "  </thead>\n",
       "  <tbody>\n",
       "    <tr>\n",
       "      <th id=\"T_386eb_level0_row0\" class=\"row_heading level0 row0\" >0</th>\n",
       "      <td id=\"T_386eb_row0_col0\" class=\"data row0 col0\" >0.1593</td>\n",
       "      <td id=\"T_386eb_row0_col1\" class=\"data row0 col1\" >0.0424</td>\n",
       "      <td id=\"T_386eb_row0_col2\" class=\"data row0 col2\" >0.2058</td>\n",
       "      <td id=\"T_386eb_row0_col3\" class=\"data row0 col3\" >0.9343</td>\n",
       "      <td id=\"T_386eb_row0_col4\" class=\"data row0 col4\" >0.0376</td>\n",
       "      <td id=\"T_386eb_row0_col5\" class=\"data row0 col5\" >0.0338</td>\n",
       "      <td id=\"T_386eb_row0_col6\" class=\"data row0 col6\" >0.1588</td>\n",
       "      <td id=\"T_386eb_row0_col7\" class=\"data row0 col7\" >0.0259</td>\n",
       "      <td id=\"T_386eb_row0_col8\" class=\"data row0 col8\" >0.2058</td>\n",
       "      <td id=\"T_386eb_row0_col9\" class=\"data row0 col9\" >0.0365</td>\n",
       "      <td id=\"T_386eb_row0_col10\" class=\"data row0 col10\" >0.0000</td>\n",
       "    </tr>\n",
       "    <tr>\n",
       "      <th id=\"T_386eb_level0_row1\" class=\"row_heading level0 row1\" >1</th>\n",
       "      <td id=\"T_386eb_row1_col0\" class=\"data row1 col0\" >0.0436</td>\n",
       "      <td id=\"T_386eb_row1_col1\" class=\"data row1 col1\" >0.0029</td>\n",
       "      <td id=\"T_386eb_row1_col2\" class=\"data row1 col2\" >0.0537</td>\n",
       "      <td id=\"T_386eb_row1_col3\" class=\"data row1 col3\" >0.9884</td>\n",
       "      <td id=\"T_386eb_row1_col4\" class=\"data row1 col4\" >0.0097</td>\n",
       "      <td id=\"T_386eb_row1_col5\" class=\"data row1 col5\" >0.0100</td>\n",
       "      <td id=\"T_386eb_row1_col6\" class=\"data row1 col6\" >0.0504</td>\n",
       "      <td id=\"T_386eb_row1_col7\" class=\"data row1 col7\" >0.0104</td>\n",
       "      <td id=\"T_386eb_row1_col8\" class=\"data row1 col8\" >0.0537</td>\n",
       "      <td id=\"T_386eb_row1_col9\" class=\"data row1 col9\" >0.0096</td>\n",
       "      <td id=\"T_386eb_row1_col10\" class=\"data row1 col10\" >0.0000</td>\n",
       "    </tr>\n",
       "    <tr>\n",
       "      <th id=\"T_386eb_level0_row2\" class=\"row_heading level0 row2\" >2</th>\n",
       "      <td id=\"T_386eb_row2_col0\" class=\"data row2 col0\" >0.1790</td>\n",
       "      <td id=\"T_386eb_row2_col1\" class=\"data row2 col1\" >0.0635</td>\n",
       "      <td id=\"T_386eb_row2_col2\" class=\"data row2 col2\" >0.2519</td>\n",
       "      <td id=\"T_386eb_row2_col3\" class=\"data row2 col3\" >0.8263</td>\n",
       "      <td id=\"T_386eb_row2_col4\" class=\"data row2 col4\" >0.0493</td>\n",
       "      <td id=\"T_386eb_row2_col5\" class=\"data row2 col5\" >0.0414</td>\n",
       "      <td id=\"T_386eb_row2_col6\" class=\"data row2 col6\" >0.1499</td>\n",
       "      <td id=\"T_386eb_row2_col7\" class=\"data row2 col7\" >0.0282</td>\n",
       "      <td id=\"T_386eb_row2_col8\" class=\"data row2 col8\" >0.2519</td>\n",
       "      <td id=\"T_386eb_row2_col9\" class=\"data row2 col9\" >0.0475</td>\n",
       "      <td id=\"T_386eb_row2_col10\" class=\"data row2 col10\" >0.0000</td>\n",
       "    </tr>\n",
       "    <tr>\n",
       "      <th id=\"T_386eb_level0_row3\" class=\"row_heading level0 row3\" >3</th>\n",
       "      <td id=\"T_386eb_row3_col0\" class=\"data row3 col0\" >0.3362</td>\n",
       "      <td id=\"T_386eb_row3_col1\" class=\"data row3 col1\" >0.5332</td>\n",
       "      <td id=\"T_386eb_row3_col2\" class=\"data row3 col2\" >0.7302</td>\n",
       "      <td id=\"T_386eb_row3_col3\" class=\"data row3 col3\" >-6.9798</td>\n",
       "      <td id=\"T_386eb_row3_col4\" class=\"data row3 col4\" >0.1164</td>\n",
       "      <td id=\"T_386eb_row3_col5\" class=\"data row3 col5\" >0.0757</td>\n",
       "      <td id=\"T_386eb_row3_col6\" class=\"data row3 col6\" >0.0516</td>\n",
       "      <td id=\"T_386eb_row3_col7\" class=\"data row3 col7\" >0.0100</td>\n",
       "      <td id=\"T_386eb_row3_col8\" class=\"data row3 col8\" >0.7302</td>\n",
       "      <td id=\"T_386eb_row3_col9\" class=\"data row3 col9\" >0.1344</td>\n",
       "      <td id=\"T_386eb_row3_col10\" class=\"data row3 col10\" >0.1667</td>\n",
       "    </tr>\n",
       "    <tr>\n",
       "      <th id=\"T_386eb_level0_row4\" class=\"row_heading level0 row4\" >4</th>\n",
       "      <td id=\"T_386eb_row4_col0\" class=\"data row4 col0\" >0.0874</td>\n",
       "      <td id=\"T_386eb_row4_col1\" class=\"data row4 col1\" >0.0106</td>\n",
       "      <td id=\"T_386eb_row4_col2\" class=\"data row4 col2\" >0.1030</td>\n",
       "      <td id=\"T_386eb_row4_col3\" class=\"data row4 col3\" >0.9859</td>\n",
       "      <td id=\"T_386eb_row4_col4\" class=\"data row4 col4\" >0.0192</td>\n",
       "      <td id=\"T_386eb_row4_col5\" class=\"data row4 col5\" >0.0197</td>\n",
       "      <td id=\"T_386eb_row4_col6\" class=\"data row4 col6\" >0.1260</td>\n",
       "      <td id=\"T_386eb_row4_col7\" class=\"data row4 col7\" >0.0256</td>\n",
       "      <td id=\"T_386eb_row4_col8\" class=\"data row4 col8\" >0.1030</td>\n",
       "      <td id=\"T_386eb_row4_col9\" class=\"data row4 col9\" >0.0190</td>\n",
       "      <td id=\"T_386eb_row4_col10\" class=\"data row4 col10\" >0.0000</td>\n",
       "    </tr>\n",
       "    <tr>\n",
       "      <th id=\"T_386eb_level0_row5\" class=\"row_heading level0 row5\" >5</th>\n",
       "      <td id=\"T_386eb_row5_col0\" class=\"data row5 col0\" >0.2018</td>\n",
       "      <td id=\"T_386eb_row5_col1\" class=\"data row5 col1\" >0.0530</td>\n",
       "      <td id=\"T_386eb_row5_col2\" class=\"data row5 col2\" >0.2302</td>\n",
       "      <td id=\"T_386eb_row5_col3\" class=\"data row5 col3\" >0.9382</td>\n",
       "      <td id=\"T_386eb_row5_col4\" class=\"data row5 col4\" >0.0397</td>\n",
       "      <td id=\"T_386eb_row5_col5\" class=\"data row5 col5\" >0.0423</td>\n",
       "      <td id=\"T_386eb_row5_col6\" class=\"data row5 col6\" >0.3369</td>\n",
       "      <td id=\"T_386eb_row5_col7\" class=\"data row5 col7\" >0.0500</td>\n",
       "      <td id=\"T_386eb_row5_col8\" class=\"data row5 col8\" >0.2302</td>\n",
       "      <td id=\"T_386eb_row5_col9\" class=\"data row5 col9\" >0.0408</td>\n",
       "      <td id=\"T_386eb_row5_col10\" class=\"data row5 col10\" >0.0000</td>\n",
       "    </tr>\n",
       "    <tr>\n",
       "      <th id=\"T_386eb_level0_row6\" class=\"row_heading level0 row6\" >6</th>\n",
       "      <td id=\"T_386eb_row6_col0\" class=\"data row6 col0\" >0.0567</td>\n",
       "      <td id=\"T_386eb_row6_col1\" class=\"data row6 col1\" >0.0058</td>\n",
       "      <td id=\"T_386eb_row6_col2\" class=\"data row6 col2\" >0.0763</td>\n",
       "      <td id=\"T_386eb_row6_col3\" class=\"data row6 col3\" >0.9925</td>\n",
       "      <td id=\"T_386eb_row6_col4\" class=\"data row6 col4\" >0.0126</td>\n",
       "      <td id=\"T_386eb_row6_col5\" class=\"data row6 col5\" >0.0120</td>\n",
       "      <td id=\"T_386eb_row6_col6\" class=\"data row6 col6\" >0.0509</td>\n",
       "      <td id=\"T_386eb_row6_col7\" class=\"data row6 col7\" >0.0092</td>\n",
       "      <td id=\"T_386eb_row6_col8\" class=\"data row6 col8\" >0.0763</td>\n",
       "      <td id=\"T_386eb_row6_col9\" class=\"data row6 col9\" >0.0126</td>\n",
       "      <td id=\"T_386eb_row6_col10\" class=\"data row6 col10\" >0.0000</td>\n",
       "    </tr>\n",
       "    <tr>\n",
       "      <th id=\"T_386eb_level0_row7\" class=\"row_heading level0 row7\" >7</th>\n",
       "      <td id=\"T_386eb_row7_col0\" class=\"data row7 col0\" >0.1897</td>\n",
       "      <td id=\"T_386eb_row7_col1\" class=\"data row7 col1\" >0.0953</td>\n",
       "      <td id=\"T_386eb_row7_col2\" class=\"data row7 col2\" >0.3087</td>\n",
       "      <td id=\"T_386eb_row7_col3\" class=\"data row7 col3\" >0.6367</td>\n",
       "      <td id=\"T_386eb_row7_col4\" class=\"data row7 col4\" >0.0560</td>\n",
       "      <td id=\"T_386eb_row7_col5\" class=\"data row7 col5\" >0.0428</td>\n",
       "      <td id=\"T_386eb_row7_col6\" class=\"data row7 col6\" >0.1500</td>\n",
       "      <td id=\"T_386eb_row7_col7\" class=\"data row7 col7\" >0.0239</td>\n",
       "      <td id=\"T_386eb_row7_col8\" class=\"data row7 col8\" >0.3087</td>\n",
       "      <td id=\"T_386eb_row7_col9\" class=\"data row7 col9\" >0.0596</td>\n",
       "      <td id=\"T_386eb_row7_col10\" class=\"data row7 col10\" >0.0000</td>\n",
       "    </tr>\n",
       "    <tr>\n",
       "      <th id=\"T_386eb_level0_row8\" class=\"row_heading level0 row8\" >8</th>\n",
       "      <td id=\"T_386eb_row8_col0\" class=\"data row8 col0\" >0.0968</td>\n",
       "      <td id=\"T_386eb_row8_col1\" class=\"data row8 col1\" >0.0165</td>\n",
       "      <td id=\"T_386eb_row8_col2\" class=\"data row8 col2\" >0.1286</td>\n",
       "      <td id=\"T_386eb_row8_col3\" class=\"data row8 col3\" >0.9205</td>\n",
       "      <td id=\"T_386eb_row8_col4\" class=\"data row8 col4\" >0.0233</td>\n",
       "      <td id=\"T_386eb_row8_col5\" class=\"data row8 col5\" >0.0217</td>\n",
       "      <td id=\"T_386eb_row8_col6\" class=\"data row8 col6\" >0.1070</td>\n",
       "      <td id=\"T_386eb_row8_col7\" class=\"data row8 col7\" >0.0199</td>\n",
       "      <td id=\"T_386eb_row8_col8\" class=\"data row8 col8\" >0.1286</td>\n",
       "      <td id=\"T_386eb_row8_col9\" class=\"data row8 col9\" >0.0229</td>\n",
       "      <td id=\"T_386eb_row8_col10\" class=\"data row8 col10\" >0.0000</td>\n",
       "    </tr>\n",
       "    <tr>\n",
       "      <th id=\"T_386eb_level0_row9\" class=\"row_heading level0 row9\" >9</th>\n",
       "      <td id=\"T_386eb_row9_col0\" class=\"data row9 col0\" >0.0479</td>\n",
       "      <td id=\"T_386eb_row9_col1\" class=\"data row9 col1\" >0.0026</td>\n",
       "      <td id=\"T_386eb_row9_col2\" class=\"data row9 col2\" >0.0505</td>\n",
       "      <td id=\"T_386eb_row9_col3\" class=\"data row9 col3\" >0.9881</td>\n",
       "      <td id=\"T_386eb_row9_col4\" class=\"data row9 col4\" >0.0094</td>\n",
       "      <td id=\"T_386eb_row9_col5\" class=\"data row9 col5\" >0.0110</td>\n",
       "      <td id=\"T_386eb_row9_col6\" class=\"data row9 col6\" >0.0768</td>\n",
       "      <td id=\"T_386eb_row9_col7\" class=\"data row9 col7\" >0.0140</td>\n",
       "      <td id=\"T_386eb_row9_col8\" class=\"data row9 col8\" >0.0505</td>\n",
       "      <td id=\"T_386eb_row9_col9\" class=\"data row9 col9\" >0.0094</td>\n",
       "      <td id=\"T_386eb_row9_col10\" class=\"data row9 col10\" >0.0000</td>\n",
       "    </tr>\n",
       "    <tr>\n",
       "      <th id=\"T_386eb_level0_row10\" class=\"row_heading level0 row10\" >Mean</th>\n",
       "      <td id=\"T_386eb_row10_col0\" class=\"data row10 col0\" >0.1398</td>\n",
       "      <td id=\"T_386eb_row10_col1\" class=\"data row10 col1\" >0.0826</td>\n",
       "      <td id=\"T_386eb_row10_col2\" class=\"data row10 col2\" >0.2139</td>\n",
       "      <td id=\"T_386eb_row10_col3\" class=\"data row10 col3\" >0.1231</td>\n",
       "      <td id=\"T_386eb_row10_col4\" class=\"data row10 col4\" >0.0373</td>\n",
       "      <td id=\"T_386eb_row10_col5\" class=\"data row10 col5\" >0.0310</td>\n",
       "      <td id=\"T_386eb_row10_col6\" class=\"data row10 col6\" >0.1258</td>\n",
       "      <td id=\"T_386eb_row10_col7\" class=\"data row10 col7\" >0.0217</td>\n",
       "      <td id=\"T_386eb_row10_col8\" class=\"data row10 col8\" >0.2139</td>\n",
       "      <td id=\"T_386eb_row10_col9\" class=\"data row10 col9\" >0.0393</td>\n",
       "      <td id=\"T_386eb_row10_col10\" class=\"data row10 col10\" >0.0167</td>\n",
       "    </tr>\n",
       "    <tr>\n",
       "      <th id=\"T_386eb_level0_row11\" class=\"row_heading level0 row11\" >Std</th>\n",
       "      <td id=\"T_386eb_row11_col0\" class=\"data row11 col0\" >0.0872</td>\n",
       "      <td id=\"T_386eb_row11_col1\" class=\"data row11 col1\" >0.1531</td>\n",
       "      <td id=\"T_386eb_row11_col2\" class=\"data row11 col2\" >0.1919</td>\n",
       "      <td id=\"T_386eb_row11_col3\" class=\"data row11 col3\" >2.3699</td>\n",
       "      <td id=\"T_386eb_row11_col4\" class=\"data row11 col4\" >0.0307</td>\n",
       "      <td id=\"T_386eb_row11_col5\" class=\"data row11 col5\" >0.0195</td>\n",
       "      <td id=\"T_386eb_row11_col6\" class=\"data row11 col6\" >0.0815</td>\n",
       "      <td id=\"T_386eb_row11_col7\" class=\"data row11 col7\" >0.0117</td>\n",
       "      <td id=\"T_386eb_row11_col8\" class=\"data row11 col8\" >0.1919</td>\n",
       "      <td id=\"T_386eb_row11_col9\" class=\"data row11 col9\" >0.0356</td>\n",
       "      <td id=\"T_386eb_row11_col10\" class=\"data row11 col10\" >0.0500</td>\n",
       "    </tr>\n",
       "  </tbody>\n",
       "</table>\n"
      ],
      "text/plain": [
       "<pandas.io.formats.style.Styler at 0x7fdf8ddcd910>"
      ]
     },
     "metadata": {},
     "output_type": "display_data"
    }
   ],
   "source": [
    "tuned_z_reg = pyr.tune_model(stacked_model_z, early_stopping='asha', optimize='s_mad') # ,\\\n",
    "#                                search_library='tune-sklearn', search_algorithm='random')  # 1h30"
   ]
  },
  {
   "cell_type": "code",
   "execution_count": 83,
   "id": "5f6ef707",
   "metadata": {
    "id": "GJfDVspZtn7Z"
   },
   "outputs": [
    {
     "data": {
      "image/png": "[encoded data removed]",
      "text/plain": [
       "<Figure size 640x480 with 1 Axes>"
      ]
     },
     "metadata": {},
     "output_type": "display_data"
    }
   ],
   "source": [
    "pyr.plot_model(tuned_z_reg, plot='error')"
   ]
  },
  {
   "cell_type": "code",
   "execution_count": 84,
   "id": "adaa6e09",
   "metadata": {
    "id": "3N6_OxWptsEe",
    "tags": []
   },
   "outputs": [
    {
     "data": {
      "image/png": "[encoded data removed]",
      "text/plain": [
       "<Figure size 640x480 with 2 Axes>"
      ]
     },
     "metadata": {},
     "output_type": "display_data"
    }
   ],
   "source": [
    "pyr.plot_model(tuned_z_reg, plot='residuals')"
   ]
  },
  {
   "cell_type": "code",
   "execution_count": 85,
   "id": "36327115",
   "metadata": {
    "id": "Mq15jdjqtv3Y"
   },
   "outputs": [
    {
     "data": {
      "image/png": "[encoded data removed]",
      "text/plain": [
       "<Figure size 800x0 with 1 Axes>"
      ]
     },
     "metadata": {},
     "output_type": "display_data"
    }
   ],
   "source": [
    "pyr.plot_model(tuned_z_reg.estimators_[0], plot='feature_all')"
   ]
  },
  {
   "cell_type": "code",
   "execution_count": 86,
   "id": "ab507881",
   "metadata": {
    "id": "Mq15jdjqtv3Y"
   },
   "outputs": [
    {
     "data": {
      "text/html": [
       "<div>\n",
       "<style scoped>\n",
       "    .dataframe tbody tr th:only-of-type {\n",
       "        vertical-align: middle;\n",
       "    }\n",
       "\n",
       "    .dataframe tbody tr th {\n",
       "        vertical-align: top;\n",
       "    }\n",
       "\n",
       "    .dataframe thead th {\n",
       "        text-align: right;\n",
       "    }\n",
       "</style>\n",
       "<table border=\"1\" class=\"dataframe\">\n",
       "  <thead>\n",
       "    <tr style=\"text-align: right;\">\n",
       "      <th></th>\n",
       "      <th>Parameters</th>\n",
       "    </tr>\n",
       "  </thead>\n",
       "  <tbody>\n",
       "    <tr>\n",
       "      <th>ccp_alpha</th>\n",
       "      <td>0.0</td>\n",
       "    </tr>\n",
       "    <tr>\n",
       "      <th>criterion</th>\n",
       "      <td>friedman_mse</td>\n",
       "    </tr>\n",
       "    <tr>\n",
       "      <th>max_depth</th>\n",
       "      <td>8</td>\n",
       "    </tr>\n",
       "    <tr>\n",
       "      <th>max_features</th>\n",
       "      <td>log2</td>\n",
       "    </tr>\n",
       "    <tr>\n",
       "      <th>max_leaf_nodes</th>\n",
       "      <td>None</td>\n",
       "    </tr>\n",
       "    <tr>\n",
       "      <th>min_impurity_decrease</th>\n",
       "      <td>0.0002</td>\n",
       "    </tr>\n",
       "    <tr>\n",
       "      <th>min_impurity_split</th>\n",
       "      <td>None</td>\n",
       "    </tr>\n",
       "    <tr>\n",
       "      <th>min_samples_leaf</th>\n",
       "      <td>3</td>\n",
       "    </tr>\n",
       "    <tr>\n",
       "      <th>min_samples_split</th>\n",
       "      <td>7</td>\n",
       "    </tr>\n",
       "    <tr>\n",
       "      <th>min_weight_fraction_leaf</th>\n",
       "      <td>0.0</td>\n",
       "    </tr>\n",
       "    <tr>\n",
       "      <th>presort</th>\n",
       "      <td>deprecated</td>\n",
       "    </tr>\n",
       "    <tr>\n",
       "      <th>random_state</th>\n",
       "      <td>42</td>\n",
       "    </tr>\n",
       "    <tr>\n",
       "      <th>splitter</th>\n",
       "      <td>best</td>\n",
       "    </tr>\n",
       "  </tbody>\n",
       "</table>\n",
       "</div>"
      ],
      "text/plain": [
       "                            Parameters\n",
       "ccp_alpha                          0.0\n",
       "criterion                 friedman_mse\n",
       "max_depth                            8\n",
       "max_features                      log2\n",
       "max_leaf_nodes                    None\n",
       "min_impurity_decrease           0.0002\n",
       "min_impurity_split                None\n",
       "min_samples_leaf                     3\n",
       "min_samples_split                    7\n",
       "min_weight_fraction_leaf           0.0\n",
       "presort                     deprecated\n",
       "random_state                        42\n",
       "splitter                          best"
      ]
     },
     "metadata": {},
     "output_type": "display_data"
    }
   ],
   "source": [
    "pyr.plot_model(tuned_z_reg.final_estimator, plot='parameter')"
   ]
  },
  {
   "cell_type": "code",
   "execution_count": 87,
   "id": "4447d4ec",
   "metadata": {
    "id": "t2CRgDLptzuE"
   },
   "outputs": [],
   "source": [
    "plt.rcParams.update(plt.rcParamsDefault)"
   ]
  },
  {
   "cell_type": "code",
   "execution_count": 88,
   "id": "57071dc6",
   "metadata": {},
   "outputs": [
    {
     "data": {
      "text/html": [
       "<style type=\"text/css\">\n",
       "</style>\n",
       "<table id=\"T_b9ad3\">\n",
       "  <thead>\n",
       "    <tr>\n",
       "      <th class=\"blank level0\" >&nbsp;</th>\n",
       "      <th id=\"T_b9ad3_level0_col0\" class=\"col_heading level0 col0\" >Model</th>\n",
       "      <th id=\"T_b9ad3_level0_col1\" class=\"col_heading level0 col1\" >MAE</th>\n",
       "      <th id=\"T_b9ad3_level0_col2\" class=\"col_heading level0 col2\" >MSE</th>\n",
       "      <th id=\"T_b9ad3_level0_col3\" class=\"col_heading level0 col3\" >RMSE</th>\n",
       "      <th id=\"T_b9ad3_level0_col4\" class=\"col_heading level0 col4\" >R2</th>\n",
       "      <th id=\"T_b9ad3_level0_col5\" class=\"col_heading level0 col5\" >RMSLE</th>\n",
       "      <th id=\"T_b9ad3_level0_col6\" class=\"col_heading level0 col6\" >MAPE</th>\n",
       "      <th id=\"T_b9ad3_level0_col7\" class=\"col_heading level0 col7\" >sigma_mad</th>\n",
       "      <th id=\"T_b9ad3_level0_col8\" class=\"col_heading level0 col8\" >sigma_nmad</th>\n",
       "      <th id=\"T_b9ad3_level0_col9\" class=\"col_heading level0 col9\" >sigma_z</th>\n",
       "      <th id=\"T_b9ad3_level0_col10\" class=\"col_heading level0 col10\" >sigma_z_norm</th>\n",
       "      <th id=\"T_b9ad3_level0_col11\" class=\"col_heading level0 col11\" >outlier_fr</th>\n",
       "    </tr>\n",
       "  </thead>\n",
       "  <tbody>\n",
       "    <tr>\n",
       "      <th id=\"T_b9ad3_level0_row0\" class=\"row_heading level0 row0\" >0</th>\n",
       "      <td id=\"T_b9ad3_row0_col0\" class=\"data row0 col0\" >Stacking Regressor</td>\n",
       "      <td id=\"T_b9ad3_row0_col1\" class=\"data row0 col1\" >0.1271</td>\n",
       "      <td id=\"T_b9ad3_row0_col2\" class=\"data row0 col2\" >0.0513</td>\n",
       "      <td id=\"T_b9ad3_row0_col3\" class=\"data row0 col3\" >0.2265</td>\n",
       "      <td id=\"T_b9ad3_row0_col4\" class=\"data row0 col4\" >0.8760</td>\n",
       "      <td id=\"T_b9ad3_row0_col5\" class=\"data row0 col5\" >0.0426</td>\n",
       "      <td id=\"T_b9ad3_row0_col6\" class=\"data row0 col6\" >0.0306</td>\n",
       "      <td id=\"T_b9ad3_row0_col7\" class=\"data row0 col7\" >0.1068</td>\n",
       "      <td id=\"T_b9ad3_row0_col8\" class=\"data row0 col8\" >0.0183</td>\n",
       "      <td id=\"T_b9ad3_row0_col9\" class=\"data row0 col9\" >0.2265</td>\n",
       "      <td id=\"T_b9ad3_row0_col10\" class=\"data row0 col10\" >0.0452</td>\n",
       "      <td id=\"T_b9ad3_row0_col11\" class=\"data row0 col11\" >0.0385</td>\n",
       "    </tr>\n",
       "  </tbody>\n",
       "</table>\n"
      ],
      "text/plain": [
       "<pandas.io.formats.style.Styler at 0x7fe0a905aa60>"
      ]
     },
     "metadata": {},
     "output_type": "display_data"
    },
    {
     "data": {
      "text/html": [
       "<div>\n",
       "<style scoped>\n",
       "    .dataframe tbody tr th:only-of-type {\n",
       "        vertical-align: middle;\n",
       "    }\n",
       "\n",
       "    .dataframe tbody tr th {\n",
       "        vertical-align: top;\n",
       "    }\n",
       "\n",
       "    .dataframe thead th {\n",
       "        text-align: right;\n",
       "    }\n",
       "</style>\n",
       "<table border=\"1\" class=\"dataframe\">\n",
       "  <thead>\n",
       "    <tr style=\"text-align: right;\">\n",
       "      <th></th>\n",
       "      <th>band_num</th>\n",
       "      <th>g_r</th>\n",
       "      <th>r_i</th>\n",
       "      <th>i_z</th>\n",
       "      <th>z_y</th>\n",
       "      <th>w2_w3</th>\n",
       "      <th>w3_w4</th>\n",
       "      <th>z/W1</th>\n",
       "      <th>Z</th>\n",
       "      <th>Label</th>\n",
       "    </tr>\n",
       "  </thead>\n",
       "  <tbody>\n",
       "    <tr>\n",
       "      <th>0</th>\n",
       "      <td>-2.198180</td>\n",
       "      <td>-0.828677</td>\n",
       "      <td>-0.597365</td>\n",
       "      <td>-1.098812</td>\n",
       "      <td>-0.847272</td>\n",
       "      <td>1.112616</td>\n",
       "      <td>0.549644</td>\n",
       "      <td>0.445106</td>\n",
       "      <td>3.988000</td>\n",
       "      <td>4.017667</td>\n",
       "    </tr>\n",
       "    <tr>\n",
       "      <th>1</th>\n",
       "      <td>0.493092</td>\n",
       "      <td>0.140256</td>\n",
       "      <td>0.151911</td>\n",
       "      <td>-0.210324</td>\n",
       "      <td>-0.273060</td>\n",
       "      <td>-0.246820</td>\n",
       "      <td>0.736791</td>\n",
       "      <td>-0.652310</td>\n",
       "      <td>4.547460</td>\n",
       "      <td>4.559325</td>\n",
       "    </tr>\n",
       "    <tr>\n",
       "      <th>2</th>\n",
       "      <td>0.493092</td>\n",
       "      <td>-0.416028</td>\n",
       "      <td>-0.932795</td>\n",
       "      <td>-0.346898</td>\n",
       "      <td>-0.133472</td>\n",
       "      <td>-1.477206</td>\n",
       "      <td>-1.868354</td>\n",
       "      <td>0.307988</td>\n",
       "      <td>3.833000</td>\n",
       "      <td>3.835667</td>\n",
       "    </tr>\n",
       "    <tr>\n",
       "      <th>3</th>\n",
       "      <td>-0.591111</td>\n",
       "      <td>1.242007</td>\n",
       "      <td>0.538349</td>\n",
       "      <td>0.485553</td>\n",
       "      <td>0.561161</td>\n",
       "      <td>-0.752691</td>\n",
       "      <td>0.545396</td>\n",
       "      <td>1.422814</td>\n",
       "      <td>5.000156</td>\n",
       "      <td>4.813532</td>\n",
       "    </tr>\n",
       "    <tr>\n",
       "      <th>4</th>\n",
       "      <td>-0.050831</td>\n",
       "      <td>1.031365</td>\n",
       "      <td>0.976200</td>\n",
       "      <td>-0.265929</td>\n",
       "      <td>-0.031867</td>\n",
       "      <td>0.823013</td>\n",
       "      <td>0.549644</td>\n",
       "      <td>-0.911652</td>\n",
       "      <td>4.772853</td>\n",
       "      <td>4.762521</td>\n",
       "    </tr>\n",
       "    <tr>\n",
       "      <th>5</th>\n",
       "      <td>0.493092</td>\n",
       "      <td>-0.747247</td>\n",
       "      <td>-0.814969</td>\n",
       "      <td>-0.056098</td>\n",
       "      <td>-0.140281</td>\n",
       "      <td>-1.099301</td>\n",
       "      <td>0.549644</td>\n",
       "      <td>-1.261590</td>\n",
       "      <td>3.785000</td>\n",
       "      <td>3.928400</td>\n",
       "    </tr>\n",
       "    <tr>\n",
       "      <th>6</th>\n",
       "      <td>-0.050831</td>\n",
       "      <td>1.025527</td>\n",
       "      <td>0.914664</td>\n",
       "      <td>0.232831</td>\n",
       "      <td>0.524338</td>\n",
       "      <td>-1.136082</td>\n",
       "      <td>0.549644</td>\n",
       "      <td>1.307578</td>\n",
       "      <td>4.834711</td>\n",
       "      <td>4.762521</td>\n",
       "    </tr>\n",
       "    <tr>\n",
       "      <th>7</th>\n",
       "      <td>-0.591111</td>\n",
       "      <td>2.072485</td>\n",
       "      <td>0.925085</td>\n",
       "      <td>0.388826</td>\n",
       "      <td>-0.037921</td>\n",
       "      <td>-0.383408</td>\n",
       "      <td>0.308984</td>\n",
       "      <td>-0.896326</td>\n",
       "      <td>4.949032</td>\n",
       "      <td>4.956313</td>\n",
       "    </tr>\n",
       "    <tr>\n",
       "      <th>8</th>\n",
       "      <td>1.588948</td>\n",
       "      <td>0.767901</td>\n",
       "      <td>-0.121285</td>\n",
       "      <td>-0.321893</td>\n",
       "      <td>-0.173583</td>\n",
       "      <td>-1.642058</td>\n",
       "      <td>-1.929738</td>\n",
       "      <td>-0.113114</td>\n",
       "      <td>4.546711</td>\n",
       "      <td>4.559325</td>\n",
       "    </tr>\n",
       "    <tr>\n",
       "      <th>9</th>\n",
       "      <td>-0.591111</td>\n",
       "      <td>-1.638258</td>\n",
       "      <td>1.272012</td>\n",
       "      <td>1.097035</td>\n",
       "      <td>2.688204</td>\n",
       "      <td>-1.496128</td>\n",
       "      <td>-1.909164</td>\n",
       "      <td>1.884107</td>\n",
       "      <td>5.800000</td>\n",
       "      <td>5.738722</td>\n",
       "    </tr>\n",
       "    <tr>\n",
       "      <th>10</th>\n",
       "      <td>-0.050831</td>\n",
       "      <td>1.800907</td>\n",
       "      <td>0.893744</td>\n",
       "      <td>1.396456</td>\n",
       "      <td>0.403463</td>\n",
       "      <td>-0.565638</td>\n",
       "      <td>0.549644</td>\n",
       "      <td>-0.278007</td>\n",
       "      <td>3.905000</td>\n",
       "      <td>4.813532</td>\n",
       "    </tr>\n",
       "    <tr>\n",
       "      <th>11</th>\n",
       "      <td>-0.591111</td>\n",
       "      <td>0.867451</td>\n",
       "      <td>-0.949105</td>\n",
       "      <td>0.079843</td>\n",
       "      <td>-0.867517</td>\n",
       "      <td>1.087938</td>\n",
       "      <td>0.549644</td>\n",
       "      <td>0.820390</td>\n",
       "      <td>4.078000</td>\n",
       "      <td>3.783600</td>\n",
       "    </tr>\n",
       "    <tr>\n",
       "      <th>12</th>\n",
       "      <td>-1.128665</td>\n",
       "      <td>-1.645413</td>\n",
       "      <td>1.860067</td>\n",
       "      <td>0.041153</td>\n",
       "      <td>-2.191146</td>\n",
       "      <td>1.140180</td>\n",
       "      <td>0.597017</td>\n",
       "      <td>-1.553693</td>\n",
       "      <td>4.602494</td>\n",
       "      <td>4.607056</td>\n",
       "    </tr>\n",
       "    <tr>\n",
       "      <th>13</th>\n",
       "      <td>0.493092</td>\n",
       "      <td>0.261991</td>\n",
       "      <td>-0.469362</td>\n",
       "      <td>-0.410979</td>\n",
       "      <td>-0.000581</td>\n",
       "      <td>1.112616</td>\n",
       "      <td>0.549644</td>\n",
       "      <td>-1.332503</td>\n",
       "      <td>4.230000</td>\n",
       "      <td>4.152200</td>\n",
       "    </tr>\n",
       "    <tr>\n",
       "      <th>14</th>\n",
       "      <td>-2.198180</td>\n",
       "      <td>1.347778</td>\n",
       "      <td>-0.483016</td>\n",
       "      <td>-0.037379</td>\n",
       "      <td>-0.206091</td>\n",
       "      <td>0.588803</td>\n",
       "      <td>0.549644</td>\n",
       "      <td>0.724450</td>\n",
       "      <td>3.929000</td>\n",
       "      <td>4.152200</td>\n",
       "    </tr>\n",
       "    <tr>\n",
       "      <th>15</th>\n",
       "      <td>-2.198180</td>\n",
       "      <td>-0.634698</td>\n",
       "      <td>-0.748316</td>\n",
       "      <td>-0.041200</td>\n",
       "      <td>-1.142707</td>\n",
       "      <td>1.112616</td>\n",
       "      <td>0.549644</td>\n",
       "      <td>0.143753</td>\n",
       "      <td>4.088000</td>\n",
       "      <td>4.017667</td>\n",
       "    </tr>\n",
       "    <tr>\n",
       "      <th>16</th>\n",
       "      <td>-0.050831</td>\n",
       "      <td>0.083728</td>\n",
       "      <td>0.191059</td>\n",
       "      <td>-0.177784</td>\n",
       "      <td>-0.303672</td>\n",
       "      <td>-0.251003</td>\n",
       "      <td>0.524426</td>\n",
       "      <td>-0.751893</td>\n",
       "      <td>4.543558</td>\n",
       "      <td>4.559325</td>\n",
       "    </tr>\n",
       "    <tr>\n",
       "      <th>17</th>\n",
       "      <td>0.493092</td>\n",
       "      <td>0.011759</td>\n",
       "      <td>-0.642697</td>\n",
       "      <td>-0.094066</td>\n",
       "      <td>0.438554</td>\n",
       "      <td>-0.039067</td>\n",
       "      <td>0.549644</td>\n",
       "      <td>0.722437</td>\n",
       "      <td>3.852000</td>\n",
       "      <td>4.152200</td>\n",
       "    </tr>\n",
       "    <tr>\n",
       "      <th>18</th>\n",
       "      <td>2.139634</td>\n",
       "      <td>0.783911</td>\n",
       "      <td>-0.093778</td>\n",
       "      <td>-0.337778</td>\n",
       "      <td>-0.194907</td>\n",
       "      <td>-1.666257</td>\n",
       "      <td>-1.929875</td>\n",
       "      <td>-0.112918</td>\n",
       "      <td>4.564000</td>\n",
       "      <td>4.559325</td>\n",
       "    </tr>\n",
       "    <tr>\n",
       "      <th>19</th>\n",
       "      <td>-0.591111</td>\n",
       "      <td>1.345919</td>\n",
       "      <td>-0.534485</td>\n",
       "      <td>-0.931386</td>\n",
       "      <td>-1.110497</td>\n",
       "      <td>1.112616</td>\n",
       "      <td>0.549644</td>\n",
       "      <td>0.180562</td>\n",
       "      <td>3.998000</td>\n",
       "      <td>4.152200</td>\n",
       "    </tr>\n",
       "    <tr>\n",
       "      <th>20</th>\n",
       "      <td>-0.050831</td>\n",
       "      <td>0.947370</td>\n",
       "      <td>1.018102</td>\n",
       "      <td>0.155875</td>\n",
       "      <td>0.510660</td>\n",
       "      <td>-1.241229</td>\n",
       "      <td>0.549644</td>\n",
       "      <td>1.269508</td>\n",
       "      <td>4.834711</td>\n",
       "      <td>4.762521</td>\n",
       "    </tr>\n",
       "    <tr>\n",
       "      <th>21</th>\n",
       "      <td>-2.198180</td>\n",
       "      <td>-1.644927</td>\n",
       "      <td>-1.125685</td>\n",
       "      <td>2.008096</td>\n",
       "      <td>1.742511</td>\n",
       "      <td>1.134754</td>\n",
       "      <td>0.833785</td>\n",
       "      <td>1.574418</td>\n",
       "      <td>6.202119</td>\n",
       "      <td>6.213221</td>\n",
       "    </tr>\n",
       "    <tr>\n",
       "      <th>22</th>\n",
       "      <td>0.493092</td>\n",
       "      <td>-0.856393</td>\n",
       "      <td>-1.209859</td>\n",
       "      <td>-0.856744</td>\n",
       "      <td>1.316458</td>\n",
       "      <td>0.124540</td>\n",
       "      <td>0.549644</td>\n",
       "      <td>0.867489</td>\n",
       "      <td>3.701000</td>\n",
       "      <td>3.783600</td>\n",
       "    </tr>\n",
       "    <tr>\n",
       "      <th>23</th>\n",
       "      <td>-1.128665</td>\n",
       "      <td>-1.642803</td>\n",
       "      <td>1.273235</td>\n",
       "      <td>1.092246</td>\n",
       "      <td>2.691381</td>\n",
       "      <td>-1.504479</td>\n",
       "      <td>-1.909649</td>\n",
       "      <td>1.875375</td>\n",
       "      <td>5.815564</td>\n",
       "      <td>5.738722</td>\n",
       "    </tr>\n",
       "    <tr>\n",
       "      <th>24</th>\n",
       "      <td>-0.591111</td>\n",
       "      <td>0.978204</td>\n",
       "      <td>1.077877</td>\n",
       "      <td>0.087363</td>\n",
       "      <td>0.493221</td>\n",
       "      <td>-1.280574</td>\n",
       "      <td>0.624264</td>\n",
       "      <td>1.257861</td>\n",
       "      <td>4.689603</td>\n",
       "      <td>4.762521</td>\n",
       "    </tr>\n",
       "    <tr>\n",
       "      <th>25</th>\n",
       "      <td>0.493092</td>\n",
       "      <td>0.157919</td>\n",
       "      <td>-1.242545</td>\n",
       "      <td>0.761496</td>\n",
       "      <td>-0.094038</td>\n",
       "      <td>0.697447</td>\n",
       "      <td>0.549644</td>\n",
       "      <td>-0.495392</td>\n",
       "      <td>4.417000</td>\n",
       "      <td>4.813532</td>\n",
       "    </tr>\n",
       "  </tbody>\n",
       "</table>\n",
       "</div>"
      ],
      "text/plain": [
       "    band_num       g_r       r_i       i_z       z_y     w2_w3     w3_w4  \\\n",
       "0  -2.198180 -0.828677 -0.597365 -1.098812 -0.847272  1.112616  0.549644   \n",
       "1   0.493092  0.140256  0.151911 -0.210324 -0.273060 -0.246820  0.736791   \n",
       "2   0.493092 -0.416028 -0.932795 -0.346898 -0.133472 -1.477206 -1.868354   \n",
       "3  -0.591111  1.242007  0.538349  0.485553  0.561161 -0.752691  0.545396   \n",
       "4  -0.050831  1.031365  0.976200 -0.265929 -0.031867  0.823013  0.549644   \n",
       "5   0.493092 -0.747247 -0.814969 -0.056098 -0.140281 -1.099301  0.549644   \n",
       "6  -0.050831  1.025527  0.914664  0.232831  0.524338 -1.136082  0.549644   \n",
       "7  -0.591111  2.072485  0.925085  0.388826 -0.037921 -0.383408  0.308984   \n",
       "8   1.588948  0.767901 -0.121285 -0.321893 -0.173583 -1.642058 -1.929738   \n",
       "9  -0.591111 -1.638258  1.272012  1.097035  2.688204 -1.496128 -1.909164   \n",
       "10 -0.050831  1.800907  0.893744  1.396456  0.403463 -0.565638  0.549644   \n",
       "11 -0.591111  0.867451 -0.949105  0.079843 -0.867517  1.087938  0.549644   \n",
       "12 -1.128665 -1.645413  1.860067  0.041153 -2.191146  1.140180  0.597017   \n",
       "13  0.493092  0.261991 -0.469362 -0.410979 -0.000581  1.112616  0.549644   \n",
       "14 -2.198180  1.347778 -0.483016 -0.037379 -0.206091  0.588803  0.549644   \n",
       "15 -2.198180 -0.634698 -0.748316 -0.041200 -1.142707  1.112616  0.549644   \n",
       "16 -0.050831  0.083728  0.191059 -0.177784 -0.303672 -0.251003  0.524426   \n",
       "17  0.493092  0.011759 -0.642697 -0.094066  0.438554 -0.039067  0.549644   \n",
       "18  2.139634  0.783911 -0.093778 -0.337778 -0.194907 -1.666257 -1.929875   \n",
       "19 -0.591111  1.345919 -0.534485 -0.931386 -1.110497  1.112616  0.549644   \n",
       "20 -0.050831  0.947370  1.018102  0.155875  0.510660 -1.241229  0.549644   \n",
       "21 -2.198180 -1.644927 -1.125685  2.008096  1.742511  1.134754  0.833785   \n",
       "22  0.493092 -0.856393 -1.209859 -0.856744  1.316458  0.124540  0.549644   \n",
       "23 -1.128665 -1.642803  1.273235  1.092246  2.691381 -1.504479 -1.909649   \n",
       "24 -0.591111  0.978204  1.077877  0.087363  0.493221 -1.280574  0.624264   \n",
       "25  0.493092  0.157919 -1.242545  0.761496 -0.094038  0.697447  0.549644   \n",
       "\n",
       "        z/W1         Z     Label  \n",
       "0   0.445106  3.988000  4.017667  \n",
       "1  -0.652310  4.547460  4.559325  \n",
       "2   0.307988  3.833000  3.835667  \n",
       "3   1.422814  5.000156  4.813532  \n",
       "4  -0.911652  4.772853  4.762521  \n",
       "5  -1.261590  3.785000  3.928400  \n",
       "6   1.307578  4.834711  4.762521  \n",
       "7  -0.896326  4.949032  4.956313  \n",
       "8  -0.113114  4.546711  4.559325  \n",
       "9   1.884107  5.800000  5.738722  \n",
       "10 -0.278007  3.905000  4.813532  \n",
       "11  0.820390  4.078000  3.783600  \n",
       "12 -1.553693  4.602494  4.607056  \n",
       "13 -1.332503  4.230000  4.152200  \n",
       "14  0.724450  3.929000  4.152200  \n",
       "15  0.143753  4.088000  4.017667  \n",
       "16 -0.751893  4.543558  4.559325  \n",
       "17  0.722437  3.852000  4.152200  \n",
       "18 -0.112918  4.564000  4.559325  \n",
       "19  0.180562  3.998000  4.152200  \n",
       "20  1.269508  4.834711  4.762521  \n",
       "21  1.574418  6.202119  6.213221  \n",
       "22  0.867489  3.701000  3.783600  \n",
       "23  1.875375  5.815564  5.738722  \n",
       "24  1.257861  4.689603  4.762521  \n",
       "25 -0.495392  4.417000  4.813532  "
      ]
     },
     "execution_count": 88,
     "metadata": {},
     "output_type": "execute_result"
    }
   ],
   "source": [
    "pyr.predict_model(tuned_z_reg)"
   ]
  },
  {
   "cell_type": "code",
   "execution_count": 89,
   "id": "ab554da3",
   "metadata": {},
   "outputs": [
    {
     "data": {
      "text/html": [
       "<style type=\"text/css\">\n",
       "</style>\n",
       "<table id=\"T_63fcf\">\n",
       "  <thead>\n",
       "    <tr>\n",
       "      <th class=\"blank level0\" >&nbsp;</th>\n",
       "      <th id=\"T_63fcf_level0_col0\" class=\"col_heading level0 col0\" >Model</th>\n",
       "      <th id=\"T_63fcf_level0_col1\" class=\"col_heading level0 col1\" >MAE</th>\n",
       "      <th id=\"T_63fcf_level0_col2\" class=\"col_heading level0 col2\" >MSE</th>\n",
       "      <th id=\"T_63fcf_level0_col3\" class=\"col_heading level0 col3\" >RMSE</th>\n",
       "      <th id=\"T_63fcf_level0_col4\" class=\"col_heading level0 col4\" >R2</th>\n",
       "      <th id=\"T_63fcf_level0_col5\" class=\"col_heading level0 col5\" >RMSLE</th>\n",
       "      <th id=\"T_63fcf_level0_col6\" class=\"col_heading level0 col6\" >MAPE</th>\n",
       "      <th id=\"T_63fcf_level0_col7\" class=\"col_heading level0 col7\" >sigma_mad</th>\n",
       "      <th id=\"T_63fcf_level0_col8\" class=\"col_heading level0 col8\" >sigma_nmad</th>\n",
       "      <th id=\"T_63fcf_level0_col9\" class=\"col_heading level0 col9\" >sigma_z</th>\n",
       "      <th id=\"T_63fcf_level0_col10\" class=\"col_heading level0 col10\" >sigma_z_norm</th>\n",
       "      <th id=\"T_63fcf_level0_col11\" class=\"col_heading level0 col11\" >outlier_fr</th>\n",
       "    </tr>\n",
       "  </thead>\n",
       "  <tbody>\n",
       "    <tr>\n",
       "      <th id=\"T_63fcf_level0_row0\" class=\"row_heading level0 row0\" >0</th>\n",
       "      <td id=\"T_63fcf_row0_col0\" class=\"data row0 col0\" >Stacking Regressor</td>\n",
       "      <td id=\"T_63fcf_row0_col1\" class=\"data row0 col1\" >0.1271</td>\n",
       "      <td id=\"T_63fcf_row0_col2\" class=\"data row0 col2\" >0.0513</td>\n",
       "      <td id=\"T_63fcf_row0_col3\" class=\"data row0 col3\" >0.2265</td>\n",
       "      <td id=\"T_63fcf_row0_col4\" class=\"data row0 col4\" >0.8760</td>\n",
       "      <td id=\"T_63fcf_row0_col5\" class=\"data row0 col5\" >0.0426</td>\n",
       "      <td id=\"T_63fcf_row0_col6\" class=\"data row0 col6\" >0.0306</td>\n",
       "      <td id=\"T_63fcf_row0_col7\" class=\"data row0 col7\" >0.1068</td>\n",
       "      <td id=\"T_63fcf_row0_col8\" class=\"data row0 col8\" >0.0183</td>\n",
       "      <td id=\"T_63fcf_row0_col9\" class=\"data row0 col9\" >0.2265</td>\n",
       "      <td id=\"T_63fcf_row0_col10\" class=\"data row0 col10\" >0.0452</td>\n",
       "      <td id=\"T_63fcf_row0_col11\" class=\"data row0 col11\" >0.0385</td>\n",
       "    </tr>\n",
       "  </tbody>\n",
       "</table>\n"
      ],
      "text/plain": [
       "<pandas.io.formats.style.Styler at 0x7fe16c83b5b0>"
      ]
     },
     "metadata": {},
     "output_type": "display_data"
    }
   ],
   "source": [
    "test_prediction_reg = pyr.predict_model(tuned_z_reg)"
   ]
  },
  {
   "cell_type": "markdown",
   "id": "ac23e553",
   "metadata": {},
   "source": [
    "Metrics from applying model to test data.  \n",
    "\n",
    "|Model                    |Accuracy|AUC   |Recall|Prec. |F1    |Kappa |MCC   |\n",
    "|-------------------------|--------|------|------|------|------|------|------|\n",
    "|Extreme Gradient Boosting|0.9978  |0.9781|0.5978|0.8092|0.6876|0.6865|0.6945|"
   ]
  },
  {
   "cell_type": "code",
   "execution_count": 90,
   "id": "5cf2a4f9",
   "metadata": {
    "id": "WsMuc6dtt2ci"
   },
   "outputs": [],
   "source": [
    "final_z_reg = pyr.finalize_model(tuned_z_reg)"
   ]
  },
  {
   "cell_type": "code",
   "execution_count": 91,
   "id": "0f84a687",
   "metadata": {
    "id": "kAciINC6t-gk"
   },
   "outputs": [
    {
     "name": "stdout",
     "output_type": "stream",
     "text": [
      "Transformation Pipeline and Model Successfully Saved\n"
     ]
    }
   ],
   "source": [
    "if save_model_flag:\n",
    "    pyr.save_model(final_z_reg, 'models/regression_z_jun_01_2022')  # Model (it will be saved with .pkl extension)\n",
    "    # pyr.save_config('models/config_regression_z_jun_01_2022')  # Configuration file"
   ]
  },
  {
   "cell_type": "markdown",
   "id": "daf9d4a8",
   "metadata": {
    "id": "ef654bbb-7b74-4cef-a809-42d2eb8e7fcb"
   },
   "source": [
    "## Load Models"
   ]
  },
  {
   "cell_type": "markdown",
   "id": "257034a8",
   "metadata": {
    "id": "217777e4-0212-4a37-b535-6fcaf2f0817e"
   },
   "source": [
    "AGN detection model."
   ]
  },
  {
   "cell_type": "code",
   "execution_count": 92,
   "id": "a3f9a2a5",
   "metadata": {
    "id": "ad6bf94f-c59d-4013-b523-76a77df047cc",
    "outputId": "d8cd5b82-e109-4bd1-90ea-bf0e85e10ccd",
    "tags": []
   },
   "outputs": [],
   "source": [
    "if load_model_flag:\n",
    "    final_z_reg = pyr.load_model('models/regression_z_jun_01_2022')  # for z >= 4, regression_z_may_31_4_2022"
   ]
  },
  {
   "cell_type": "markdown",
   "id": "3c819b35",
   "metadata": {
    "id": "6fcb2c6c-a004-4801-b43d-a3593f802cf5"
   },
   "source": [
    "### Prediction process"
   ]
  },
  {
   "cell_type": "markdown",
   "id": "b499498c",
   "metadata": {},
   "source": [
    "#### Feature importances"
   ]
  },
  {
   "cell_type": "code",
   "execution_count": 93,
   "id": "0357355d",
   "metadata": {
    "jupyter": {
     "source_hidden": true
    }
   },
   "outputs": [],
   "source": [
    "estimators_list = get_base_estimators_names(final_z_reg)"
   ]
  },
  {
   "cell_type": "code",
   "execution_count": 94,
   "id": "050ecad9",
   "metadata": {
    "jupyter": {
     "source_hidden": true
    },
    "tags": []
   },
   "outputs": [
    {
     "name": "stdout",
     "output_type": "stream",
     "text": [
      "Running dtypes\n",
      "Running imputer\n",
      "Running new_levels1\n",
      "Running new_levels\n",
      "Running feature_time\n",
      "Running scaling\n",
      "Running P_transform\n",
      "Running dummy\n",
      "Running fix_perfect\n",
      "Running clean_names\n"
     ]
    }
   ],
   "source": [
    "extended_data_z = validation_df.loc[:, get_final_column_names(final_z_reg, validation_df)].copy()\n",
    "extended_idx_z  = extended_data_z.index\n",
    "initial_cols_z  = extended_data_z.columns\n",
    "extended_cols_z = extended_data_z.columns.insert(0, estimators_list[0])\n",
    "if len(estimators_list) > 1:\n",
    "    for est_name in estimators_list[1::]:\n",
    "        extended_cols_z = extended_cols_z.insert(0, est_name)"
   ]
  },
  {
   "cell_type": "code",
   "execution_count": 95,
   "id": "e20282b6",
   "metadata": {
    "jupyter": {
     "source_hidden": true
    },
    "tags": []
   },
   "outputs": [
    {
     "name": "stdout",
     "output_type": "stream",
     "text": [
      "Running data pre-processing:\n",
      "\n",
      "Running dtypes\n",
      "Running imputer\n",
      "Running new_levels1\n",
      "Running new_levels\n",
      "Running feature_time\n",
      "Running scaling\n",
      "Running P_transform\n",
      "Running dummy\n",
      "Running fix_perfect\n",
      "Running clean_names\n"
     ]
    }
   ],
   "source": [
    "print('Running data pre-processing:\\n')\n",
    "if isinstance(final_z_reg, sklearn.pipeline.Pipeline):\n",
    "    prep_steps = final_z_reg.named_steps.items()\n",
    "else:\n",
    "    prep_steps = pyr.get_config('prep_pipe').named_steps.items()\n",
    "\n",
    "for (name, method) in prep_steps:\n",
    "    if method != 'passthrough':  # and name != 'trained_model':\n",
    "        print(f'Running {name}')\n",
    "        extended_data_z = method.transform(extended_data_z)\n",
    "extended_data_z_df = pd.DataFrame(extended_data_z, columns=extended_cols_z, index=extended_idx_z)"
   ]
  },
  {
   "cell_type": "code",
   "execution_count": 96,
   "id": "3e1c3e13",
   "metadata": {
    "jupyter": {
     "source_hidden": true
    },
    "tags": []
   },
   "outputs": [],
   "source": [
    "if isinstance(final_z_reg, sklearn.pipeline.Pipeline):\n",
    "    if hasattr(final_z_reg.named_steps['trained_model'].final_estimator_, 'feature_importances_'):\n",
    "        importances_coef = final_z_reg.named_steps['trained_model'].final_estimator_.feature_importances_\n",
    "    elif hasattr(final_z_reg.named_steps['trained_model'].final_estimator_, 'coef_'):\n",
    "        importances_coef = np.abs(np.ravel(final_z_reg.named_steps['trained_model'].final_estimator_.coef_)) *\\\n",
    "                                     extended_data_z_df.loc[:, extended_cols_z].std(axis=0)\n",
    "else:\n",
    "    if hasattr(final_z_reg.final_estimator_, 'feature_importances_'):\n",
    "        importances_coef = final_z_reg.final_estimator_.feature_importances_\n",
    "    elif hasattr(final_z_reg.final_estimator_, 'coef_'):\n",
    "        importances_coef = np.abs(np.ravel(final_z_reg.final_estimator_.coef_)) *\\\n",
    "                                     extended_data_z_df.loc[:, extended_cols_z].std(axis=0)\n",
    "\n",
    "coef_meta_df = pd.DataFrame({'Feature': extended_cols_z, 'Importance': importances_coef})\n",
    "coef_sorted_meta_df = (\n",
    "    coef_meta_df.sort_values(by='Importance', ascending=False)\n",
    "    .head(len(extended_cols_z))\n",
    "    .sort_values(by='Importance', ascending=False).reset_index(drop=True)\n",
    ")"
   ]
  },
  {
   "cell_type": "code",
   "execution_count": 97,
   "id": "b78e041f",
   "metadata": {
    "jupyter": {
     "source_hidden": true
    },
    "tags": []
   },
   "outputs": [],
   "source": [
    "if isinstance(final_z_reg, sklearn.pipeline.Pipeline):\n",
    "    estimators_list  = final_z_reg.named_steps['trained_model'].estimators\n",
    "    estimators_list_ = final_z_reg.named_steps['trained_model'].estimators_\n",
    "else:\n",
    "    estimators_list  = final_z_reg.estimators\n",
    "    estimators_list_ = final_z_reg.estimators_"
   ]
  },
  {
   "cell_type": "code",
   "execution_count": 98,
   "id": "3ec22431",
   "metadata": {
    "jupyter": {
     "source_hidden": true
    },
    "tags": []
   },
   "outputs": [],
   "source": [
    "base_models_names = [model[0] for model in estimators_list]"
   ]
  },
  {
   "cell_type": "code",
   "execution_count": 99,
   "id": "c626ac7e",
   "metadata": {
    "jupyter": {
     "source_hidden": true
    },
    "tags": []
   },
   "outputs": [],
   "source": [
    "coef_sorted_base_df = {}"
   ]
  },
  {
   "cell_type": "code",
   "execution_count": 100,
   "id": "f8650ac8",
   "metadata": {
    "jupyter": {
     "source_hidden": true
    },
    "tags": []
   },
   "outputs": [],
   "source": [
    "for model, model_fit in zip(base_models_names, estimators_list_):\n",
    "    if hasattr(model_fit, 'feature_importances_'):\n",
    "        coef_base_df = pd.DataFrame({'Feature': extended_cols_z.drop(base_models_names),\n",
    "                                     'Importance': model_fit.feature_importances_})\n",
    "        coef_sorted_base_df[model] = (\n",
    "        coef_base_df.sort_values(by='Importance', ascending=False)\n",
    "        .head(len(extended_cols_z.drop(base_models_names)))\n",
    "        .sort_values(by='Importance', ascending=False).reset_index(drop=True)\n",
    "    )\n",
    "    elif hasattr(model_fit, 'coef_'):\n",
    "        coef_base_df = pd.DataFrame({'Feature': extended_cols_z.drop(base_models_names),\n",
    "                                     'Importance': np.abs(np.ravel(model_fit.coef_)) *\\\n",
    "                                     extended_data_z_df.loc[:, extended_cols_z.drop(base_models_names)].std(axis=0)})\n",
    "        coef_sorted_base_df[model] = (\n",
    "        coef_base_df.sort_values(by='Importance', ascending=False)\n",
    "        .head(len(extended_cols_radio.drop(base_models_names)))\n",
    "        .sort_values(by='Importance', ascending=False).reset_index(drop=True)\n",
    ")"
   ]
  },
  {
   "cell_type": "code",
   "execution_count": 101,
   "id": "68540091",
   "metadata": {
    "jupyter": {
     "source_hidden": true
    },
    "tags": []
   },
   "outputs": [],
   "source": [
    "multicol_feat = [(key, name) for key in coef_sorted_base_df.keys() for name in ('Feature', 'Importance')]"
   ]
  },
  {
   "cell_type": "code",
   "execution_count": 102,
   "id": "78fe257d",
   "metadata": {
    "jupyter": {
     "source_hidden": true
    },
    "tags": []
   },
   "outputs": [
    {
     "name": "stdout",
     "output_type": "stream",
     "text": [
      "Feature importances scaled to sum 100\n",
      "Calculating for gbr...\n",
      "Calculating for xgboost...\n",
      "Calculating for et...\n",
      "Calculating for ada...\n"
     ]
    },
    {
     "data": {
      "text/html": [
       "<div>\n",
       "<style scoped>\n",
       "    .dataframe tbody tr th:only-of-type {\n",
       "        vertical-align: middle;\n",
       "    }\n",
       "\n",
       "    .dataframe tbody tr th {\n",
       "        vertical-align: top;\n",
       "    }\n",
       "\n",
       "    .dataframe thead tr th {\n",
       "        text-align: left;\n",
       "    }\n",
       "</style>\n",
       "<table border=\"1\" class=\"dataframe\">\n",
       "  <thead>\n",
       "    <tr>\n",
       "      <th></th>\n",
       "      <th colspan=\"2\" halign=\"left\">gbr</th>\n",
       "      <th colspan=\"2\" halign=\"left\">xgboost</th>\n",
       "      <th colspan=\"2\" halign=\"left\">et</th>\n",
       "      <th colspan=\"2\" halign=\"left\">ada</th>\n",
       "    </tr>\n",
       "    <tr>\n",
       "      <th></th>\n",
       "      <th>Feature</th>\n",
       "      <th>Importance</th>\n",
       "      <th>Feature</th>\n",
       "      <th>Importance</th>\n",
       "      <th>Feature</th>\n",
       "      <th>Importance</th>\n",
       "      <th>Feature</th>\n",
       "      <th>Importance</th>\n",
       "    </tr>\n",
       "  </thead>\n",
       "  <tbody>\n",
       "    <tr>\n",
       "      <th>0</th>\n",
       "      <td>i_z</td>\n",
       "      <td>53.288585</td>\n",
       "      <td>i_z</td>\n",
       "      <td>64.702782</td>\n",
       "      <td>i_z</td>\n",
       "      <td>24.939515</td>\n",
       "      <td>i_z</td>\n",
       "      <td>29.715320</td>\n",
       "    </tr>\n",
       "    <tr>\n",
       "      <th>1</th>\n",
       "      <td>r_i</td>\n",
       "      <td>28.357040</td>\n",
       "      <td>r_i</td>\n",
       "      <td>22.244015</td>\n",
       "      <td>r_i</td>\n",
       "      <td>23.749933</td>\n",
       "      <td>z/W1</td>\n",
       "      <td>19.656065</td>\n",
       "    </tr>\n",
       "    <tr>\n",
       "      <th>2</th>\n",
       "      <td>g_r</td>\n",
       "      <td>8.543354</td>\n",
       "      <td>g_r</td>\n",
       "      <td>10.004293</td>\n",
       "      <td>g_r</td>\n",
       "      <td>15.831617</td>\n",
       "      <td>r_i</td>\n",
       "      <td>19.238787</td>\n",
       "    </tr>\n",
       "    <tr>\n",
       "      <th>3</th>\n",
       "      <td>z/W1</td>\n",
       "      <td>6.999637</td>\n",
       "      <td>z/W1</td>\n",
       "      <td>1.530140</td>\n",
       "      <td>z/W1</td>\n",
       "      <td>12.655857</td>\n",
       "      <td>g_r</td>\n",
       "      <td>17.383617</td>\n",
       "    </tr>\n",
       "    <tr>\n",
       "      <th>4</th>\n",
       "      <td>z_y</td>\n",
       "      <td>1.275883</td>\n",
       "      <td>z_y</td>\n",
       "      <td>0.984699</td>\n",
       "      <td>z_y</td>\n",
       "      <td>8.856187</td>\n",
       "      <td>z_y</td>\n",
       "      <td>5.604243</td>\n",
       "    </tr>\n",
       "    <tr>\n",
       "      <th>5</th>\n",
       "      <td>w2_w3</td>\n",
       "      <td>0.749184</td>\n",
       "      <td>w2_w3</td>\n",
       "      <td>0.421891</td>\n",
       "      <td>band_num</td>\n",
       "      <td>6.098305</td>\n",
       "      <td>w3_w4</td>\n",
       "      <td>3.989079</td>\n",
       "    </tr>\n",
       "    <tr>\n",
       "      <th>6</th>\n",
       "      <td>band_num</td>\n",
       "      <td>0.443110</td>\n",
       "      <td>w3_w4</td>\n",
       "      <td>0.088953</td>\n",
       "      <td>w3_w4</td>\n",
       "      <td>5.778047</td>\n",
       "      <td>band_num</td>\n",
       "      <td>2.463856</td>\n",
       "    </tr>\n",
       "    <tr>\n",
       "      <th>7</th>\n",
       "      <td>w3_w4</td>\n",
       "      <td>0.343207</td>\n",
       "      <td>band_num</td>\n",
       "      <td>0.023229</td>\n",
       "      <td>w2_w3</td>\n",
       "      <td>2.090540</td>\n",
       "      <td>w2_w3</td>\n",
       "      <td>1.949034</td>\n",
       "    </tr>\n",
       "  </tbody>\n",
       "</table>\n",
       "</div>"
      ],
      "text/plain": [
       "        gbr              xgboost                   et                  ada  \\\n",
       "    Feature Importance   Feature Importance   Feature Importance   Feature   \n",
       "0       i_z  53.288585       i_z  64.702782       i_z  24.939515       i_z   \n",
       "1       r_i  28.357040       r_i  22.244015       r_i  23.749933      z/W1   \n",
       "2       g_r   8.543354       g_r  10.004293       g_r  15.831617       r_i   \n",
       "3      z/W1   6.999637      z/W1   1.530140      z/W1  12.655857       g_r   \n",
       "4       z_y   1.275883       z_y   0.984699       z_y   8.856187       z_y   \n",
       "5     w2_w3   0.749184     w2_w3   0.421891  band_num   6.098305     w3_w4   \n",
       "6  band_num   0.443110     w3_w4   0.088953     w3_w4   5.778047  band_num   \n",
       "7     w3_w4   0.343207  band_num   0.023229     w2_w3   2.090540     w2_w3   \n",
       "\n",
       "              \n",
       "  Importance  \n",
       "0  29.715320  \n",
       "1  19.656065  \n",
       "2  19.238787  \n",
       "3  17.383617  \n",
       "4   5.604243  \n",
       "5   3.989079  \n",
       "6   2.463856  \n",
       "7   1.949034  "
      ]
     },
     "metadata": {},
     "output_type": "display_data"
    }
   ],
   "source": [
    "print('Feature importances scaled to sum 100')\n",
    "coef_sorted_base_df_copy_sum = coef_sorted_base_df.copy()\n",
    "for key in coef_sorted_base_df_copy_sum.keys():\n",
    "    print(f'Calculating for {key}...')\n",
    "    coef_sorted_base_df_copy_sum[key].loc[:, 'Importance'] = coef_sorted_base_df[key].loc[:, 'Importance'] /\\\n",
    "                                                        coef_sorted_base_df[key].loc[:, 'Importance'].sum() * 100\n",
    "    # display(coef_sorted_base_df_copy_sum[key])\n",
    "coef_sorted_base_full_df = pd.concat([coef_sorted_base_df_copy_sum[key].reset_index(drop=True) for key in coef_sorted_base_df_copy_sum.keys()], axis=1)\n",
    "coef_sorted_base_full_df.columns = pd.MultiIndex.from_tuples(multicol_feat)\n",
    "display(coef_sorted_base_full_df)"
   ]
  },
  {
   "cell_type": "code",
   "execution_count": 103,
   "id": "bf85fbf7",
   "metadata": {
    "jupyter": {
     "source_hidden": true
    },
    "tags": []
   },
   "outputs": [
    {
     "name": "stdout",
     "output_type": "stream",
     "text": [
      "Feature importances scaled to sum 100\n",
      "Meta model\n"
     ]
    },
    {
     "data": {
      "text/html": [
       "<div>\n",
       "<style scoped>\n",
       "    .dataframe tbody tr th:only-of-type {\n",
       "        vertical-align: middle;\n",
       "    }\n",
       "\n",
       "    .dataframe tbody tr th {\n",
       "        vertical-align: top;\n",
       "    }\n",
       "\n",
       "    .dataframe thead th {\n",
       "        text-align: right;\n",
       "    }\n",
       "</style>\n",
       "<table border=\"1\" class=\"dataframe\">\n",
       "  <thead>\n",
       "    <tr style=\"text-align: right;\">\n",
       "      <th></th>\n",
       "      <th>Feature</th>\n",
       "      <th>Importance</th>\n",
       "    </tr>\n",
       "  </thead>\n",
       "  <tbody>\n",
       "    <tr>\n",
       "      <th>0</th>\n",
       "      <td>i_z</td>\n",
       "      <td>54.883176</td>\n",
       "    </tr>\n",
       "    <tr>\n",
       "      <th>1</th>\n",
       "      <td>gbr</td>\n",
       "      <td>30.045825</td>\n",
       "    </tr>\n",
       "    <tr>\n",
       "      <th>2</th>\n",
       "      <td>z/W1</td>\n",
       "      <td>10.080089</td>\n",
       "    </tr>\n",
       "    <tr>\n",
       "      <th>3</th>\n",
       "      <td>et</td>\n",
       "      <td>1.866681</td>\n",
       "    </tr>\n",
       "    <tr>\n",
       "      <th>4</th>\n",
       "      <td>ada</td>\n",
       "      <td>1.802921</td>\n",
       "    </tr>\n",
       "    <tr>\n",
       "      <th>5</th>\n",
       "      <td>r_i</td>\n",
       "      <td>0.874936</td>\n",
       "    </tr>\n",
       "    <tr>\n",
       "      <th>6</th>\n",
       "      <td>xgboost</td>\n",
       "      <td>0.272291</td>\n",
       "    </tr>\n",
       "    <tr>\n",
       "      <th>7</th>\n",
       "      <td>w2_w3</td>\n",
       "      <td>0.104926</td>\n",
       "    </tr>\n",
       "    <tr>\n",
       "      <th>8</th>\n",
       "      <td>z_y</td>\n",
       "      <td>0.069156</td>\n",
       "    </tr>\n",
       "    <tr>\n",
       "      <th>9</th>\n",
       "      <td>band_num</td>\n",
       "      <td>0.000000</td>\n",
       "    </tr>\n",
       "    <tr>\n",
       "      <th>10</th>\n",
       "      <td>g_r</td>\n",
       "      <td>0.000000</td>\n",
       "    </tr>\n",
       "    <tr>\n",
       "      <th>11</th>\n",
       "      <td>w3_w4</td>\n",
       "      <td>0.000000</td>\n",
       "    </tr>\n",
       "  </tbody>\n",
       "</table>\n",
       "</div>"
      ],
      "text/plain": [
       "     Feature  Importance\n",
       "0        i_z   54.883176\n",
       "1        gbr   30.045825\n",
       "2       z/W1   10.080089\n",
       "3         et    1.866681\n",
       "4        ada    1.802921\n",
       "5        r_i    0.874936\n",
       "6    xgboost    0.272291\n",
       "7      w2_w3    0.104926\n",
       "8        z_y    0.069156\n",
       "9   band_num    0.000000\n",
       "10       g_r    0.000000\n",
       "11     w3_w4    0.000000"
      ]
     },
     "metadata": {},
     "output_type": "display_data"
    }
   ],
   "source": [
    "print('Feature importances scaled to sum 100')\n",
    "coef_sorted_meta_df_copy_sum = coef_sorted_meta_df.copy()\n",
    "coef_sorted_meta_df_copy_sum.loc[:, 'Importance'] = coef_sorted_meta_df.loc[:, 'Importance'] /\\\n",
    "                                                     coef_sorted_meta_df.loc[:, 'Importance'].sum() * 100\n",
    "print('Meta model')\n",
    "display(coef_sorted_meta_df_copy_sum)"
   ]
  },
  {
   "cell_type": "code",
   "execution_count": 104,
   "id": "237cd412",
   "metadata": {
    "jupyter": {
     "source_hidden": true
    },
    "tags": []
   },
   "outputs": [
    {
     "name": "stdout",
     "output_type": "stream",
     "text": [
      "Feature importances scaled to sum 100\n",
      "Running dtypes\n",
      "Running imputer\n",
      "Running new_levels1\n",
      "Running new_levels\n",
      "Running feature_time\n",
      "Running scaling\n",
      "Running P_transform\n",
      "Running dummy\n",
      "Running fix_perfect\n",
      "Running clean_names\n",
      "--------------------\n",
      "top features:\n",
      "Feature\tImportance\n",
      "i_z\t43.162\n",
      "r_i\t23.397\n",
      "g_r\t12.941\n",
      "z/W1\t10.210\n",
      "z_y\t4.180\n",
      "w3_w4\t2.550\n",
      "band_num\t2.257\n",
      "w2_w3\t1.303\n"
     ]
    },
    {
     "data": {
      "image/png": "[encoded data removed]",
      "text/plain": [
       "<Figure size 700x1000 with 1 Axes>"
      ]
     },
     "metadata": {},
     "output_type": "display_data"
    }
   ],
   "source": [
    "print('Feature importances scaled to sum 100')\n",
    "try:\n",
    "    fig         = plt.figure(figsize=(7,10))\n",
    "    ax1         = fig.add_subplot(111)\n",
    "    n_top       = len(validation_df.columns)\n",
    "    features_df = get_feature_importances_df(final_z_reg, validation_df, n=n_top)\n",
    "    features    = features_df.loc[:, 'Feature'].to_list()\n",
    "    importances = features_df.loc[:, 'Importance'].to_list()\n",
    "    import_scal = importances / np.nansum(importances)\n",
    "    import_scal_colors = (importances - np.nanmin(importances)) / (np.nanmax(importances) - np.nanmin(importances))\n",
    "    # indices     = np.argsort(importances)[-n_top:] #only show most important features\n",
    "    # indices     = np.argsort(importances)\n",
    "    # ax1.set_title(f'{model_name} Feature Importances', size=14)\n",
    "    ax1.set_title('Feature Importances', size=14)\n",
    "    ax1.barh(range(len(importances)), import_scal * 100,\\\n",
    "             color=plt.get_cmap('bone', len(importances))(import_scal_colors), align='center', ec='k', lw=1.5)\n",
    "    # plt.yticks(range(len(importances)), [features[i] for i in importances])\n",
    "    plt.yticks(range(len(importances)), features)\n",
    "    ax1.set_xlabel('Relative Importance', size=14)\n",
    "    ax1.set_ylabel('Features', size=14)\n",
    "    ax1.tick_params(axis='both', which='major', labelsize=14)\n",
    "    ax1.tick_params(axis='y', which='major', rotation=30)\n",
    "    plt.setp(ax1.spines.values(), linewidth=2.5)\n",
    "    ax1.tick_params(which='both',top=True, right=False, direction='in')\n",
    "    # ax1.set_xscale('log')\n",
    "    # plt.show()\n",
    "    plt.tight_layout()\n",
    "    if save_plot_flag:\n",
    "        plt.savefig('plots/feat_imp_regression_z_07.pdf', bbox_inches='tight')\n",
    "\n",
    "    print('-' * 20)\n",
    "    print('top features:')\n",
    "    print('Feature\\tImportance')\n",
    "    for feat, imp in zip(reversed(features), reversed(import_scal  * 100)):\n",
    "        print(f'{feat}\\t{round(imp, 3):>.3f}')\n",
    "\n",
    "except:\n",
    "    print('learning algorithm does not provide feature importance.')"
   ]
  },
  {
   "cell_type": "code",
   "execution_count": 105,
   "id": "1fc23df4",
   "metadata": {},
   "outputs": [
    {
     "data": {
      "text/html": [
       "<style type=\"text/css\">\n",
       "</style>\n",
       "<table id=\"T_a33a5\">\n",
       "  <thead>\n",
       "    <tr>\n",
       "      <th class=\"blank level0\" >&nbsp;</th>\n",
       "      <th id=\"T_a33a5_level0_col0\" class=\"col_heading level0 col0\" >Model</th>\n",
       "      <th id=\"T_a33a5_level0_col1\" class=\"col_heading level0 col1\" >MAE</th>\n",
       "      <th id=\"T_a33a5_level0_col2\" class=\"col_heading level0 col2\" >MSE</th>\n",
       "      <th id=\"T_a33a5_level0_col3\" class=\"col_heading level0 col3\" >RMSE</th>\n",
       "      <th id=\"T_a33a5_level0_col4\" class=\"col_heading level0 col4\" >R2</th>\n",
       "      <th id=\"T_a33a5_level0_col5\" class=\"col_heading level0 col5\" >RMSLE</th>\n",
       "      <th id=\"T_a33a5_level0_col6\" class=\"col_heading level0 col6\" >MAPE</th>\n",
       "      <th id=\"T_a33a5_level0_col7\" class=\"col_heading level0 col7\" >sigma_mad</th>\n",
       "      <th id=\"T_a33a5_level0_col8\" class=\"col_heading level0 col8\" >sigma_nmad</th>\n",
       "      <th id=\"T_a33a5_level0_col9\" class=\"col_heading level0 col9\" >sigma_z</th>\n",
       "      <th id=\"T_a33a5_level0_col10\" class=\"col_heading level0 col10\" >sigma_z_norm</th>\n",
       "      <th id=\"T_a33a5_level0_col11\" class=\"col_heading level0 col11\" >outlier_fr</th>\n",
       "    </tr>\n",
       "  </thead>\n",
       "  <tbody>\n",
       "    <tr>\n",
       "      <th id=\"T_a33a5_level0_row0\" class=\"row_heading level0 row0\" >0</th>\n",
       "      <td id=\"T_a33a5_row0_col0\" class=\"data row0 col0\" >Stacking Regressor</td>\n",
       "      <td id=\"T_a33a5_row0_col1\" class=\"data row0 col1\" >0.2148</td>\n",
       "      <td id=\"T_a33a5_row0_col2\" class=\"data row0 col2\" >0.0976</td>\n",
       "      <td id=\"T_a33a5_row0_col3\" class=\"data row0 col3\" >0.3124</td>\n",
       "      <td id=\"T_a33a5_row0_col4\" class=\"data row0 col4\" >0.0331</td>\n",
       "      <td id=\"T_a33a5_row0_col5\" class=\"data row0 col5\" >0.0599</td>\n",
       "      <td id=\"T_a33a5_row0_col6\" class=\"data row0 col6\" >0.0515</td>\n",
       "      <td id=\"T_a33a5_row0_col7\" class=\"data row0 col7\" >0.1792</td>\n",
       "      <td id=\"T_a33a5_row0_col8\" class=\"data row0 col8\" >0.0327</td>\n",
       "      <td id=\"T_a33a5_row0_col9\" class=\"data row0 col9\" >0.3124</td>\n",
       "      <td id=\"T_a33a5_row0_col10\" class=\"data row0 col10\" >0.0609</td>\n",
       "      <td id=\"T_a33a5_row0_col11\" class=\"data row0 col11\" >0.0714</td>\n",
       "    </tr>\n",
       "  </tbody>\n",
       "</table>\n"
      ],
      "text/plain": [
       "<pandas.io.formats.style.Styler at 0x7fe12f79e100>"
      ]
     },
     "metadata": {},
     "output_type": "display_data"
    }
   ],
   "source": [
    "validation_prediction_reg = pyr.predict_model(final_z_reg, data=validation_df)"
   ]
  },
  {
   "cell_type": "code",
   "execution_count": 106,
   "id": "a1196f10",
   "metadata": {},
   "outputs": [
    {
     "data": {
      "text/html": [
       "<div>\n",
       "<style scoped>\n",
       "    .dataframe tbody tr th:only-of-type {\n",
       "        vertical-align: middle;\n",
       "    }\n",
       "\n",
       "    .dataframe tbody tr th {\n",
       "        vertical-align: top;\n",
       "    }\n",
       "\n",
       "    .dataframe thead th {\n",
       "        text-align: right;\n",
       "    }\n",
       "</style>\n",
       "<table border=\"1\" class=\"dataframe\">\n",
       "  <thead>\n",
       "    <tr style=\"text-align: right;\">\n",
       "      <th></th>\n",
       "      <th>Z</th>\n",
       "      <th>Label</th>\n",
       "    </tr>\n",
       "  </thead>\n",
       "  <tbody>\n",
       "    <tr>\n",
       "      <th>count</th>\n",
       "      <td>14.000000</td>\n",
       "      <td>14.000000</td>\n",
       "    </tr>\n",
       "    <tr>\n",
       "      <th>mean</th>\n",
       "      <td>4.183000</td>\n",
       "      <td>4.168200</td>\n",
       "    </tr>\n",
       "    <tr>\n",
       "      <th>std</th>\n",
       "      <td>0.329723</td>\n",
       "      <td>0.351483</td>\n",
       "    </tr>\n",
       "    <tr>\n",
       "      <th>min</th>\n",
       "      <td>3.780000</td>\n",
       "      <td>3.717333</td>\n",
       "    </tr>\n",
       "    <tr>\n",
       "      <th>25%</th>\n",
       "      <td>3.911500</td>\n",
       "      <td>3.980350</td>\n",
       "    </tr>\n",
       "    <tr>\n",
       "      <th>50%</th>\n",
       "      <td>4.127500</td>\n",
       "      <td>4.104000</td>\n",
       "    </tr>\n",
       "    <tr>\n",
       "      <th>75%</th>\n",
       "      <td>4.406750</td>\n",
       "      <td>4.502277</td>\n",
       "    </tr>\n",
       "    <tr>\n",
       "      <th>max</th>\n",
       "      <td>4.745000</td>\n",
       "      <td>4.721011</td>\n",
       "    </tr>\n",
       "  </tbody>\n",
       "</table>\n",
       "</div>"
      ],
      "text/plain": [
       "               Z      Label\n",
       "count  14.000000  14.000000\n",
       "mean    4.183000   4.168200\n",
       "std     0.329723   0.351483\n",
       "min     3.780000   3.717333\n",
       "25%     3.911500   3.980350\n",
       "50%     4.127500   4.104000\n",
       "75%     4.406750   4.502277\n",
       "max     4.745000   4.721011"
      ]
     },
     "execution_count": 106,
     "metadata": {},
     "output_type": "execute_result"
    }
   ],
   "source": [
    "validation_prediction_reg.loc[:, ['Z', 'Label']].describe()"
   ]
  },
  {
   "cell_type": "code",
   "execution_count": 107,
   "id": "82fbdd49",
   "metadata": {},
   "outputs": [],
   "source": [
    "# clb.vmax"
   ]
  },
  {
   "cell_type": "code",
   "execution_count": 108,
   "id": "78bce6ca",
   "metadata": {
    "jupyter": {
     "source_hidden": true
    },
    "tags": []
   },
   "outputs": [
    {
     "data": {
      "image/png": "[encoded data removed]",
      "text/plain": [
       "<Figure size 600x500 with 3 Axes>"
      ]
     },
     "metadata": {},
     "output_type": "display_data"
    }
   ],
   "source": [
    "fig             = plt.figure(figsize=(6,5))\n",
    "ax1             = fig.add_subplot(111, projection='scatter_density', xscale='log', yscale='log')\n",
    "plot_redshift_compare(validation_prediction_reg.loc[:, 'Z'], validation_prediction_reg.loc[:, 'Label'],\\\n",
    "                      ax_pre=ax1, title='Validation set', dpi=10, show_clb=True, log_stretch=False)\n",
    "if save_plot_flag:\n",
    "    plt.savefig('plots/compare_plot_validation_redshift_07.pdf', bbox_inches='tight')\n",
    "plt.show()"
   ]
  },
  {
   "cell_type": "code",
   "execution_count": 109,
   "id": "29eca86d",
   "metadata": {
    "jupyter": {
     "source_hidden": true
    },
    "tags": []
   },
   "outputs": [],
   "source": [
    "train_size         = 0.7\n",
    "data_split_shuffle = True\n",
    "_stratify_columns  = _get_columns_to_stratify_by(\n",
    "            backup_train_test_df.drop(columns=['Z']), backup_train_test_df.loc[:, 'Z'], False, 'Z'\n",
    "        )\n",
    "\n",
    "X_train, X_test, y_train, y_test = train_test_split(\n",
    "                backup_train_test_df.drop(columns=['Z']),\n",
    "                backup_train_test_df.loc[:, 'Z'],\n",
    "                test_size=1 - train_size,\n",
    "                stratify=_stratify_columns,\n",
    "                random_state=seed,\n",
    "                shuffle=data_split_shuffle,\n",
    "            )\n",
    "train_df        = pd.concat([X_train, y_train], axis=1)\n",
    "test_df         = pd.concat([X_test, y_test], axis=1)"
   ]
  },
  {
   "cell_type": "code",
   "execution_count": 110,
   "id": "a864aefa",
   "metadata": {},
   "outputs": [
    {
     "data": {
      "text/html": [
       "<style type=\"text/css\">\n",
       "</style>\n",
       "<table id=\"T_bf7eb\">\n",
       "  <thead>\n",
       "    <tr>\n",
       "      <th class=\"blank level0\" >&nbsp;</th>\n",
       "      <th id=\"T_bf7eb_level0_col0\" class=\"col_heading level0 col0\" >Model</th>\n",
       "      <th id=\"T_bf7eb_level0_col1\" class=\"col_heading level0 col1\" >MAE</th>\n",
       "      <th id=\"T_bf7eb_level0_col2\" class=\"col_heading level0 col2\" >MSE</th>\n",
       "      <th id=\"T_bf7eb_level0_col3\" class=\"col_heading level0 col3\" >RMSE</th>\n",
       "      <th id=\"T_bf7eb_level0_col4\" class=\"col_heading level0 col4\" >R2</th>\n",
       "      <th id=\"T_bf7eb_level0_col5\" class=\"col_heading level0 col5\" >RMSLE</th>\n",
       "      <th id=\"T_bf7eb_level0_col6\" class=\"col_heading level0 col6\" >MAPE</th>\n",
       "      <th id=\"T_bf7eb_level0_col7\" class=\"col_heading level0 col7\" >sigma_mad</th>\n",
       "      <th id=\"T_bf7eb_level0_col8\" class=\"col_heading level0 col8\" >sigma_nmad</th>\n",
       "      <th id=\"T_bf7eb_level0_col9\" class=\"col_heading level0 col9\" >sigma_z</th>\n",
       "      <th id=\"T_bf7eb_level0_col10\" class=\"col_heading level0 col10\" >sigma_z_norm</th>\n",
       "      <th id=\"T_bf7eb_level0_col11\" class=\"col_heading level0 col11\" >outlier_fr</th>\n",
       "    </tr>\n",
       "  </thead>\n",
       "  <tbody>\n",
       "    <tr>\n",
       "      <th id=\"T_bf7eb_level0_row0\" class=\"row_heading level0 row0\" >0</th>\n",
       "      <td id=\"T_bf7eb_row0_col0\" class=\"data row0 col0\" >Stacking Regressor</td>\n",
       "      <td id=\"T_bf7eb_row0_col1\" class=\"data row0 col1\" >0.1176</td>\n",
       "      <td id=\"T_bf7eb_row0_col2\" class=\"data row0 col2\" >0.0271</td>\n",
       "      <td id=\"T_bf7eb_row0_col3\" class=\"data row0 col3\" >0.1645</td>\n",
       "      <td id=\"T_bf7eb_row0_col4\" class=\"data row0 col4\" >0.8379</td>\n",
       "      <td id=\"T_bf7eb_row0_col5\" class=\"data row0 col5\" >0.0325</td>\n",
       "      <td id=\"T_bf7eb_row0_col6\" class=\"data row0 col6\" >0.0295</td>\n",
       "      <td id=\"T_bf7eb_row0_col7\" class=\"data row0 col7\" >0.1217</td>\n",
       "      <td id=\"T_bf7eb_row0_col8\" class=\"data row0 col8\" >0.0224</td>\n",
       "      <td id=\"T_bf7eb_row0_col9\" class=\"data row0 col9\" >0.1645</td>\n",
       "      <td id=\"T_bf7eb_row0_col10\" class=\"data row0 col10\" >0.0328</td>\n",
       "      <td id=\"T_bf7eb_row0_col11\" class=\"data row0 col11\" >0.0000</td>\n",
       "    </tr>\n",
       "  </tbody>\n",
       "</table>\n"
      ],
      "text/plain": [
       "<pandas.io.formats.style.Styler at 0x7fe12f6dcc70>"
      ]
     },
     "metadata": {},
     "output_type": "display_data"
    },
    {
     "data": {
      "text/html": [
       "<style type=\"text/css\">\n",
       "</style>\n",
       "<table id=\"T_5d944\">\n",
       "  <thead>\n",
       "    <tr>\n",
       "      <th class=\"blank level0\" >&nbsp;</th>\n",
       "      <th id=\"T_5d944_level0_col0\" class=\"col_heading level0 col0\" >Model</th>\n",
       "      <th id=\"T_5d944_level0_col1\" class=\"col_heading level0 col1\" >MAE</th>\n",
       "      <th id=\"T_5d944_level0_col2\" class=\"col_heading level0 col2\" >MSE</th>\n",
       "      <th id=\"T_5d944_level0_col3\" class=\"col_heading level0 col3\" >RMSE</th>\n",
       "      <th id=\"T_5d944_level0_col4\" class=\"col_heading level0 col4\" >R2</th>\n",
       "      <th id=\"T_5d944_level0_col5\" class=\"col_heading level0 col5\" >RMSLE</th>\n",
       "      <th id=\"T_5d944_level0_col6\" class=\"col_heading level0 col6\" >MAPE</th>\n",
       "      <th id=\"T_5d944_level0_col7\" class=\"col_heading level0 col7\" >sigma_mad</th>\n",
       "      <th id=\"T_5d944_level0_col8\" class=\"col_heading level0 col8\" >sigma_nmad</th>\n",
       "      <th id=\"T_5d944_level0_col9\" class=\"col_heading level0 col9\" >sigma_z</th>\n",
       "      <th id=\"T_5d944_level0_col10\" class=\"col_heading level0 col10\" >sigma_z_norm</th>\n",
       "      <th id=\"T_5d944_level0_col11\" class=\"col_heading level0 col11\" >outlier_fr</th>\n",
       "    </tr>\n",
       "  </thead>\n",
       "  <tbody>\n",
       "    <tr>\n",
       "      <th id=\"T_5d944_level0_row0\" class=\"row_heading level0 row0\" >0</th>\n",
       "      <td id=\"T_5d944_row0_col0\" class=\"data row0 col0\" >Stacking Regressor</td>\n",
       "      <td id=\"T_5d944_row0_col1\" class=\"data row0 col1\" >0.1304</td>\n",
       "      <td id=\"T_5d944_row0_col2\" class=\"data row0 col2\" >0.0511</td>\n",
       "      <td id=\"T_5d944_row0_col3\" class=\"data row0 col3\" >0.2261</td>\n",
       "      <td id=\"T_5d944_row0_col4\" class=\"data row0 col4\" >0.8894</td>\n",
       "      <td id=\"T_5d944_row0_col5\" class=\"data row0 col5\" >0.0434</td>\n",
       "      <td id=\"T_5d944_row0_col6\" class=\"data row0 col6\" >0.0326</td>\n",
       "      <td id=\"T_5d944_row0_col7\" class=\"data row0 col7\" >0.1083</td>\n",
       "      <td id=\"T_5d944_row0_col8\" class=\"data row0 col8\" >0.0215</td>\n",
       "      <td id=\"T_5d944_row0_col9\" class=\"data row0 col9\" >0.2261</td>\n",
       "      <td id=\"T_5d944_row0_col10\" class=\"data row0 col10\" >0.0453</td>\n",
       "      <td id=\"T_5d944_row0_col11\" class=\"data row0 col11\" >0.0556</td>\n",
       "    </tr>\n",
       "  </tbody>\n",
       "</table>\n"
      ],
      "text/plain": [
       "<pandas.io.formats.style.Styler at 0x7fe16cd64040>"
      ]
     },
     "metadata": {},
     "output_type": "display_data"
    },
    {
     "data": {
      "text/html": [
       "<style type=\"text/css\">\n",
       "</style>\n",
       "<table id=\"T_c34dc\">\n",
       "  <thead>\n",
       "    <tr>\n",
       "      <th class=\"blank level0\" >&nbsp;</th>\n",
       "      <th id=\"T_c34dc_level0_col0\" class=\"col_heading level0 col0\" >Model</th>\n",
       "      <th id=\"T_c34dc_level0_col1\" class=\"col_heading level0 col1\" >MAE</th>\n",
       "      <th id=\"T_c34dc_level0_col2\" class=\"col_heading level0 col2\" >MSE</th>\n",
       "      <th id=\"T_c34dc_level0_col3\" class=\"col_heading level0 col3\" >RMSE</th>\n",
       "      <th id=\"T_c34dc_level0_col4\" class=\"col_heading level0 col4\" >R2</th>\n",
       "      <th id=\"T_c34dc_level0_col5\" class=\"col_heading level0 col5\" >RMSLE</th>\n",
       "      <th id=\"T_c34dc_level0_col6\" class=\"col_heading level0 col6\" >MAPE</th>\n",
       "      <th id=\"T_c34dc_level0_col7\" class=\"col_heading level0 col7\" >sigma_mad</th>\n",
       "      <th id=\"T_c34dc_level0_col8\" class=\"col_heading level0 col8\" >sigma_nmad</th>\n",
       "      <th id=\"T_c34dc_level0_col9\" class=\"col_heading level0 col9\" >sigma_z</th>\n",
       "      <th id=\"T_c34dc_level0_col10\" class=\"col_heading level0 col10\" >sigma_z_norm</th>\n",
       "      <th id=\"T_c34dc_level0_col11\" class=\"col_heading level0 col11\" >outlier_fr</th>\n",
       "    </tr>\n",
       "  </thead>\n",
       "  <tbody>\n",
       "    <tr>\n",
       "      <th id=\"T_c34dc_level0_row0\" class=\"row_heading level0 row0\" >0</th>\n",
       "      <td id=\"T_c34dc_row0_col0\" class=\"data row0 col0\" >Stacking Regressor</td>\n",
       "      <td id=\"T_c34dc_row0_col1\" class=\"data row0 col1\" >0.0754</td>\n",
       "      <td id=\"T_c34dc_row0_col2\" class=\"data row0 col2\" >0.0280</td>\n",
       "      <td id=\"T_c34dc_row0_col3\" class=\"data row0 col3\" >0.1673</td>\n",
       "      <td id=\"T_c34dc_row0_col4\" class=\"data row0 col4\" >0.9402</td>\n",
       "      <td id=\"T_c34dc_row0_col5\" class=\"data row0 col5\" >0.0301</td>\n",
       "      <td id=\"T_c34dc_row0_col6\" class=\"data row0 col6\" >0.0177</td>\n",
       "      <td id=\"T_c34dc_row0_col7\" class=\"data row0 col7\" >0.0423</td>\n",
       "      <td id=\"T_c34dc_row0_col8\" class=\"data row0 col8\" >0.0076</td>\n",
       "      <td id=\"T_c34dc_row0_col9\" class=\"data row0 col9\" >0.1673</td>\n",
       "      <td id=\"T_c34dc_row0_col10\" class=\"data row0 col10\" >0.0299</td>\n",
       "      <td id=\"T_c34dc_row0_col11\" class=\"data row0 col11\" >0.0235</td>\n",
       "    </tr>\n",
       "  </tbody>\n",
       "</table>\n"
      ],
      "text/plain": [
       "<pandas.io.formats.style.Styler at 0x7fdf8ddcdd60>"
      ]
     },
     "metadata": {},
     "output_type": "display_data"
    }
   ],
   "source": [
    "train_prediction_reg      = pyr.predict_model(final_z_reg, data=train_df)\n",
    "test_prediction_reg       = pyr.predict_model(final_z_reg, data=test_df)\n",
    "train_test_prediction_reg = pyr.predict_model(final_z_reg, data=train_test_df)"
   ]
  },
  {
   "cell_type": "code",
   "execution_count": 111,
   "id": "ed4aab5f",
   "metadata": {
    "jupyter": {
     "source_hidden": true
    },
    "tags": []
   },
   "outputs": [],
   "source": [
    "sigma_mad_train         = sigma_mad(train_prediction_reg.loc[:, 'Z'],         train_prediction_reg.loc[:, 'Label'])\n",
    "sigma_mad_test          = sigma_mad(test_prediction_reg.loc[:, 'Z'],          test_prediction_reg.loc[:, 'Label'])\n",
    "sigma_mad_train_test    = sigma_mad(train_test_prediction_reg.loc[:, 'Z'],    train_test_prediction_reg.loc[:, 'Label'])\n",
    "sigma_mad_valid         = sigma_mad(validation_prediction_reg.loc[:, 'Z'],    validation_prediction_reg.loc[:, 'Label'])"
   ]
  },
  {
   "cell_type": "code",
   "execution_count": 112,
   "id": "4c9fa1c8",
   "metadata": {
    "jupyter": {
     "source_hidden": true
    },
    "tags": []
   },
   "outputs": [],
   "source": [
    "sigma_nmad_train        = sigma_nmad(train_prediction_reg.loc[:, 'Z'],        train_prediction_reg.loc[:, 'Label'])\n",
    "sigma_nmad_test         = sigma_nmad(test_prediction_reg.loc[:, 'Z'],         test_prediction_reg.loc[:, 'Label'])\n",
    "sigma_nmad_train_test   = sigma_nmad(train_test_prediction_reg.loc[:, 'Z'],   train_test_prediction_reg.loc[:, 'Label'])\n",
    "sigma_nmad_valid        = sigma_nmad(validation_prediction_reg.loc[:, 'Z'],   validation_prediction_reg.loc[:, 'Label'])"
   ]
  },
  {
   "cell_type": "code",
   "execution_count": 113,
   "id": "b49fa268",
   "metadata": {
    "jupyter": {
     "source_hidden": true
    },
    "tags": []
   },
   "outputs": [],
   "source": [
    "sigma_z_train           = sigma_z(train_prediction_reg.loc[:, 'Z'],           train_prediction_reg.loc[:, 'Label'])\n",
    "sigma_z_test            = sigma_z(test_prediction_reg.loc[:, 'Z'],            test_prediction_reg.loc[:, 'Label'])\n",
    "sigma_z_train_test      = sigma_z(train_test_prediction_reg.loc[:, 'Z'],      train_test_prediction_reg.loc[:, 'Label'])\n",
    "sigma_z_valid           = sigma_z(validation_prediction_reg.loc[:, 'Z'],      validation_prediction_reg.loc[:, 'Label'])"
   ]
  },
  {
   "cell_type": "code",
   "execution_count": 114,
   "id": "08ec5934",
   "metadata": {
    "jupyter": {
     "source_hidden": true
    },
    "tags": []
   },
   "outputs": [],
   "source": [
    "sigma_z_norm_train      = sigma_z_norm(train_prediction_reg.loc[:, 'Z'],      train_prediction_reg.loc[:, 'Label'])\n",
    "sigma_z_norm_test       = sigma_z_norm(test_prediction_reg.loc[:, 'Z'],       test_prediction_reg.loc[:, 'Label'])\n",
    "sigma_z_norm_train_test = sigma_z_norm(train_test_prediction_reg.loc[:, 'Z'], train_test_prediction_reg.loc[:, 'Label'])\n",
    "sigma_z_norm_valid      = sigma_z_norm(validation_prediction_reg.loc[:, 'Z'], validation_prediction_reg.loc[:, 'Label'])"
   ]
  },
  {
   "cell_type": "code",
   "execution_count": 115,
   "id": "8b9da86a",
   "metadata": {
    "jupyter": {
     "source_hidden": true
    },
    "tags": []
   },
   "outputs": [],
   "source": [
    "out_frac_train      = outlier_frac(train_prediction_reg.loc[:, 'Z'],           train_prediction_reg.loc[:, 'Label'])\n",
    "out_frac_test       = outlier_frac(test_prediction_reg.loc[:, 'Z'],            test_prediction_reg.loc[:, 'Label'])\n",
    "out_frac_train_test = outlier_frac(train_test_prediction_reg.loc[:, 'Z'],      train_test_prediction_reg.loc[:, 'Label'])\n",
    "out_frac_valid      = outlier_frac(validation_prediction_reg.loc[:, 'Z'],      validation_prediction_reg.loc[:, 'Label'])"
   ]
  },
  {
   "cell_type": "code",
   "execution_count": 116,
   "id": "cc5b6f2c",
   "metadata": {
    "jupyter": {
     "source_hidden": true
    },
    "tags": []
   },
   "outputs": [
    {
     "name": "stdout",
     "output_type": "stream",
     "text": [
      "Scores for training set:\n",
      "Sigma MAD:\t\t0.1217\n",
      "Sigma NMAD:\t\t0.0224\n",
      "Sigma z:\t\t0.1645\n",
      "Sigma z norm:\t\t0.0328\n",
      "Out fraction:\t\t0.0000\n",
      "-----------------------------------\n"
     ]
    }
   ],
   "source": [
    "print('Scores for training set:')\n",
    "print(f'Sigma MAD:\\t\\t{sigma_mad_train:.4f}')\n",
    "print(f'Sigma NMAD:\\t\\t{sigma_nmad_train:.4f}')\n",
    "print(f'Sigma z:\\t\\t{sigma_z_train:.4f}')\n",
    "print(f'Sigma z norm:\\t\\t{sigma_z_norm_train:.4f}')\n",
    "print(f'Out fraction:\\t\\t{out_frac_train:.4f}')\n",
    "print('-' * 35)"
   ]
  },
  {
   "cell_type": "code",
   "execution_count": 117,
   "id": "e2888acf",
   "metadata": {
    "jupyter": {
     "source_hidden": true
    },
    "tags": []
   },
   "outputs": [
    {
     "name": "stdout",
     "output_type": "stream",
     "text": [
      "Scores for test set:\n",
      "Sigma MAD:\t\t0.1083\n",
      "Sigma NMAD:\t\t0.0215\n",
      "Sigma z:\t\t0.2261\n",
      "Sigma z norm:\t\t0.0453\n",
      "Out fraction:\t\t0.0556\n",
      "-----------------------------------\n"
     ]
    }
   ],
   "source": [
    "print('Scores for test set:')\n",
    "print(f'Sigma MAD:\\t\\t{sigma_mad_test:.4f}')\n",
    "print(f'Sigma NMAD:\\t\\t{sigma_nmad_test:.4f}')\n",
    "print(f'Sigma z:\\t\\t{sigma_z_test:.4f}')\n",
    "print(f'Sigma z norm:\\t\\t{sigma_z_norm_test:.4f}')\n",
    "print(f'Out fraction:\\t\\t{out_frac_test:.4f}')\n",
    "print('-' * 35)"
   ]
  },
  {
   "cell_type": "code",
   "execution_count": 118,
   "id": "16b1ebb5",
   "metadata": {
    "jupyter": {
     "source_hidden": true
    },
    "tags": []
   },
   "outputs": [
    {
     "name": "stdout",
     "output_type": "stream",
     "text": [
      "Scores for training+test set:\n",
      "Sigma MAD:\t\t0.0423\n",
      "Sigma NMAD:\t\t0.0076\n",
      "Sigma z:\t\t0.1673\n",
      "Sigma z norm:\t\t0.0299\n",
      "Out fraction:\t\t0.0235\n",
      "-----------------------------------\n"
     ]
    }
   ],
   "source": [
    "print('Scores for training+test set:')\n",
    "print(f'Sigma MAD:\\t\\t{sigma_mad_train_test:.4f}')\n",
    "print(f'Sigma NMAD:\\t\\t{sigma_nmad_train_test:.4f}')\n",
    "print(f'Sigma z:\\t\\t{sigma_z_train_test:.4f}')\n",
    "print(f'Sigma z norm:\\t\\t{sigma_z_norm_train_test:.4f}')\n",
    "print(f'Out fraction:\\t\\t{out_frac_train_test:.4f}')\n",
    "print('-' * 35)"
   ]
  },
  {
   "cell_type": "code",
   "execution_count": 119,
   "id": "3f60ebff",
   "metadata": {
    "jupyter": {
     "source_hidden": true
    },
    "tags": []
   },
   "outputs": [
    {
     "name": "stdout",
     "output_type": "stream",
     "text": [
      "Scores for validation set:\n",
      "Sigma MAD:\t\t0.1792\n",
      "Sigma NMAD:\t\t0.0327\n",
      "Sigma z:\t\t0.3124\n",
      "Sigma z norm:\t\t0.0609\n",
      "Out fraction:\t\t0.0714\n",
      "-----------------------------------\n"
     ]
    }
   ],
   "source": [
    "print('Scores for validation set:')\n",
    "print(f'Sigma MAD:\\t\\t{sigma_mad_valid:.4f}')\n",
    "print(f'Sigma NMAD:\\t\\t{sigma_nmad_valid:.4f}')\n",
    "print(f'Sigma z:\\t\\t{sigma_z_valid:.4f}')\n",
    "print(f'Sigma z norm:\\t\\t{sigma_z_norm_valid:.4f}')\n",
    "print(f'Out fraction:\\t\\t{out_frac_valid:.4f}')\n",
    "print('-' * 35)"
   ]
  },
  {
   "cell_type": "code",
   "execution_count": 120,
   "id": "a409f589",
   "metadata": {
    "jupyter": {
     "source_hidden": true
    },
    "tags": []
   },
   "outputs": [
    {
     "data": {
      "image/png": "[encoded data removed]",
      "text/plain": [
       "<Figure size 600x500 with 3 Axes>"
      ]
     },
     "metadata": {},
     "output_type": "display_data"
    }
   ],
   "source": [
    "fig             = plt.figure(figsize=(6,5))\n",
    "ax1             = fig.add_subplot(111, projection='scatter_density', xscale='log', yscale='log')\n",
    "plot_redshift_compare(train_prediction_reg.loc[:, 'Z'], train_prediction_reg.loc[:, 'Label'],\\\n",
    "                      ax_pre=ax1, title='Training set', dpi=10, show_clb=True, log_stretch=False)\n",
    "if save_plot_flag:\n",
    "    plt.savefig('plots/compare_plot_train_redshift_07.pdf', bbox_inches='tight')\n",
    "plt.show()"
   ]
  },
  {
   "cell_type": "code",
   "execution_count": 121,
   "id": "5c05de29",
   "metadata": {
    "jupyter": {
     "source_hidden": true
    },
    "tags": []
   },
   "outputs": [
    {
     "data": {
      "image/png": "[encoded data removed]",
      "text/plain": [
       "<Figure size 600x500 with 3 Axes>"
      ]
     },
     "metadata": {},
     "output_type": "display_data"
    }
   ],
   "source": [
    "fig             = plt.figure(figsize=(6,5))\n",
    "ax1             = fig.add_subplot(111, projection='scatter_density', xscale='log', yscale='log')\n",
    "plot_redshift_compare(test_prediction_reg.loc[:, 'Z'], test_prediction_reg.loc[:, 'Label'],\\\n",
    "                      ax_pre=ax1, title='Test set', dpi=10, show_clb=True, log_stretch=False)\n",
    "if save_plot_flag:\n",
    "    plt.savefig('plots/compare_plot_test_redshift_07.pdf', bbox_inches='tight')\n",
    "plt.show()"
   ]
  },
  {
   "cell_type": "code",
   "execution_count": 122,
   "id": "19d65adc",
   "metadata": {
    "jupyter": {
     "source_hidden": true
    },
    "tags": []
   },
   "outputs": [
    {
     "data": {
      "image/png": "[encoded data removed]",
      "text/plain": [
       "<Figure size 600x500 with 3 Axes>"
      ]
     },
     "metadata": {},
     "output_type": "display_data"
    }
   ],
   "source": [
    "fig             = plt.figure(figsize=(6,5))\n",
    "ax1             = fig.add_subplot(111, projection='scatter_density', xscale='log', yscale='log')\n",
    "plot_redshift_compare(train_test_prediction_reg.loc[:, 'Z'], train_test_prediction_reg.loc[:, 'Label'],\\\n",
    "                      ax_pre=ax1, title='Train+test set', dpi=10, show_clb=True, log_stretch=False)\n",
    "if save_plot_flag:\n",
    "    plt.savefig('plots/compare_plot_train_test_redshift_07.pdf', bbox_inches='tight')\n",
    "plt.show()"
   ]
  },
  {
   "cell_type": "code",
   "execution_count": 123,
   "id": "e657be15",
   "metadata": {
    "jupyter": {
     "source_hidden": true
    },
    "tags": []
   },
   "outputs": [
    {
     "data": {
      "image/png": "[encoded data removed]",
      "text/plain": [
       "<Figure size 1000x350 with 1 Axes>"
      ]
     },
     "metadata": {},
     "output_type": "display_data"
    }
   ],
   "source": [
    "fig             = plt.figure(figsize=(10,3.5))\n",
    "ax1             = fig.add_subplot(111, xscale='linear', yscale='log')\n",
    "\n",
    "min_for_range = np.nanmin([np.nanmin(validation_prediction_reg.loc[:, 'Z']),\\\n",
    "                           np.nanmin(validation_prediction_reg.loc[:, 'Label'])])\n",
    "max_for_range = np.nanmax([np.nanmax(validation_prediction_reg.loc[:, 'Z']),\\\n",
    "                           np.nanmax(validation_prediction_reg.loc[:, 'Label'])])\n",
    "bins_z        = np.linspace(min_for_range, max_for_range, 50)\n",
    "\n",
    "_, bins, _ = ax1.hist(validation_prediction_reg.loc[:, 'Label'], bins=bins_z, histtype='stepfilled',\\\n",
    "                      ec='k', fc='mediumpurple', lw=3.5,\\\n",
    "                      label=f\"Predicted\\nN={np.sum(np.array(validation_prediction_reg.loc[:, 'Label'] > 0))}\")\n",
    "ax1.hist(validation_prediction_reg.loc[:, 'Z'], bins=bins_z, histtype='stepfilled', ec='k', fc='darkcyan',\\\n",
    "         lw=3.5, label=f\"True\\nN={np.sum(np.array(validation_prediction_reg.loc[:, 'Z'] > 0))}\", alpha=0.7)\n",
    "\n",
    "ax1.tick_params(which='both', top=True, right=True, direction='in')\n",
    "ax1.tick_params(axis='both', which='major', labelsize=14)\n",
    "ax1.tick_params(which='major', length=8, width=1.5)\n",
    "ax1.tick_params(which='minor', length=4, width=1.5)\n",
    "# ax1.set_xlabel('$m_{\\mathrm{W1}}\\, \\mathrm{[AB]}$', size=20)\n",
    "ax1.set_xlabel('$z_{\\mathrm{AGN}}$', size=20)\n",
    "ax1.set_ylabel('Frequency', size=20)\n",
    "# ax1.set_ylabel('Frequency', size=20)\n",
    "plt.setp(ax1.spines.values(), linewidth=3.5)\n",
    "plt.setp(ax1.spines.values(), linewidth=3.5)\n",
    "plt.legend(loc=1, fontsize=20)\n",
    "# ax1.invert_xaxis()\n",
    "# ax1.set_xlim(left=-4, right=6)\n",
    "#ax1.set_aspect('equal', 'box')\n",
    "fig.tight_layout()\n",
    "if save_plot_flag:\n",
    "    plt.savefig('plots/hist_true_predicted_z_07.pdf')\n",
    "plt.show()"
   ]
  },
  {
   "cell_type": "code",
   "execution_count": null,
   "id": "7c615c52",
   "metadata": {},
   "outputs": [],
   "source": []
  }
 ],
 "metadata": {
  "accelerator": "GPU",
  "colab": {
   "name": "HETDEX_pipeline_AGN_training.ipynb",
   "provenance": []
  },
  "kernelspec": {
   "display_name": "Python 3 (ipykernel)",
   "language": "python",
   "name": "python3"
  },
  "language_info": {
   "codemirror_mode": {
    "name": "ipython",
    "version": 3
   },
   "file_extension": ".py",
   "mimetype": "text/x-python",
   "name": "python",
   "nbconvert_exporter": "python",
   "pygments_lexer": "ipython3",
   "version": "3.8.13"
  }
 },
 "nbformat": 4,
 "nbformat_minor": 5
}
