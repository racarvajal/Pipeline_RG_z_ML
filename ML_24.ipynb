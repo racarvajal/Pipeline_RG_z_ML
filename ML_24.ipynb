{
 "cells": [
  {
   "cell_type": "markdown",
   "id": "4a1b23cb",
   "metadata": {
    "id": "c71fae7e-a4c4-4950-8c16-4a74a1e69482"
   },
   "source": [
    "# Pipeline for High-z Radio Galaxies 23: Redshift prediction (high z, new instance)"
   ]
  },
  {
   "cell_type": "markdown",
   "id": "ff07e46a",
   "metadata": {
    "id": "714a7301-9b3d-4ad9-9659-b68cad4014c5"
   },
   "source": [
    "## Introduction"
   ]
  },
  {
   "cell_type": "markdown",
   "id": "dc349704",
   "metadata": {
    "id": "dea6dd12-650e-4ab6-bae7-0268f78e7fea"
   },
   "source": [
    "Training for regression (prediction) of redshift for sources in the HETDEX field. \n",
    "\n",
    "Sources are all elements detected in the CatWISE2020 catalogue. But regression  \n",
    "will be done only with AGN from the Million Quasar Catalog (MQC).  \n",
    "Only sources with confirmed $z$ will be used.\n",
    "\n",
    "Also, as a test, only high-redshift sources ($z \\geq 3.7$, from recall behaviour. Turn-off point) will be used.\n",
    "\n",
    "Being either AGN or galaxy will not be used as an additional feature."
   ]
  },
  {
   "cell_type": "markdown",
   "id": "dad9997c",
   "metadata": {
    "id": "00a0aec8-0112-4728-a8fe-f99cdf05a33b"
   },
   "source": [
    "Training data is from HETDEX Spring Field."
   ]
  },
  {
   "cell_type": "code",
   "execution_count": 1,
   "id": "82ac1f8b",
   "metadata": {
    "id": "1161a2b6-ef8d-429d-8dea-40f0de36e393"
   },
   "outputs": [],
   "source": [
    "%matplotlib inline\n",
    "# Static plots\n",
    "#%matplotlib ipympl\n",
    "# Interactive plots\n",
    "import numpy as np\n",
    "import matplotlib as mpl\n",
    "from matplotlib import ticker\n",
    "import matplotlib.cm as cm\n",
    "import matplotlib.pyplot as plt\n",
    "import matplotlib.colors as mcolors\n",
    "import matplotlib.patheffects as mpe\n",
    "import mpl_scatter_density\n",
    "from mpl_toolkits.axes_grid1.inset_locator import inset_axes\n",
    "from astropy.visualization import LogStretch, PowerStretch\n",
    "from astropy.visualization.mpl_normalize import ImageNormalize\n",
    "from sklearn.preprocessing import MinMaxScaler\n",
    "from sklearn.model_selection import train_test_split\n",
    "# from sklearn.metrics import ConfusionMatrixDisplay, roc_auc_score, roc_curve, RocCurveDisplay, matthews_corrcoef\n",
    "# from sklearn.calibration import calibration_curve\n",
    "import sklearn.pipeline\n",
    "import ppscore as pps\n",
    "import seaborn as sns\n",
    "import colorcet as cc\n",
    "# from pycaret import classification as pyc\n",
    "from pycaret import regression as pyr\n",
    "from pycaret.internal.tabular import _get_columns_to_stratify_by\n",
    "import pandas as pd"
   ]
  },
  {
   "cell_type": "code",
   "execution_count": 2,
   "id": "144f4ad2",
   "metadata": {},
   "outputs": [],
   "source": [
    "mpl.rcdefaults()"
   ]
  },
  {
   "cell_type": "markdown",
   "id": "fe2259cc",
   "metadata": {
    "id": "9647d74a-8d80-4d24-a2f4-023184fa27ac"
   },
   "source": [
    "Create class to normalize asymmetric colorscales  \n",
    "(from [http://chris35wills.github.io/matplotlib_diverging_colorbar/](http://chris35wills.github.io/matplotlib_diverging_colorbar/))."
   ]
  },
  {
   "cell_type": "code",
   "execution_count": 3,
   "id": "a61f83db",
   "metadata": {
    "id": "652a8557-e595-4861-af72-5d3220fb7620",
    "jupyter": {
     "source_hidden": true
    },
    "tags": []
   },
   "outputs": [],
   "source": [
    "class MidpointNormalize(mcolors.Normalize):\n",
    "    \"\"\"\n",
    "    Normalise the colorbar so that diverging bars work there way either side from a prescribed midpoint value)\n",
    "\n",
    "    e.g. im=ax1.imshow(array, norm=MidpointNormalize(midpoint=0.,vmin=-100, vmax=100))\n",
    "    \"\"\"\n",
    "    def __init__(self, vmin=None, vmax=None, midpoint=None, clip=False):\n",
    "        self.midpoint = midpoint\n",
    "        mcolors.Normalize.__init__(self, vmin, vmax, clip)\n",
    "\n",
    "    def __call__(self, value, clip=None):\n",
    "        # I'm ignoring masked values and all kinds of edge cases to make a\n",
    "        # simple example...\n",
    "        x, y = [self.vmin, self.midpoint, self.vmax], [0, 0.5, 1]\n",
    "        return np.ma.masked_array(np.interp(value, x, y), np.isnan(value))"
   ]
  },
  {
   "cell_type": "markdown",
   "id": "85de6978",
   "metadata": {
    "id": "0bc24aa0-581a-4c39-bc90-b18f85385e78"
   },
   "source": [
    "For future plots, we can configure their aspect too."
   ]
  },
  {
   "cell_type": "code",
   "execution_count": 4,
   "id": "066cc43b",
   "metadata": {
    "id": "cc05a86c-85e4-46e7-9b7f-f8ac4abd4ff2",
    "jupyter": {
     "source_hidden": true
    },
    "tags": []
   },
   "outputs": [],
   "source": [
    "cmap           = cm.get_cmap('inferno')\n",
    "cmap_alt       = cm.get_cmap('Dark2')\n",
    "cmap_alt_2     = cm.get_cmap('Greys_r')  # Shades of grey\n",
    "cmap_alt_3     = cm.get_cmap('coolwarm')  # blue to red\n",
    "dark_color     = cmap(0.4)  # RGBA color code\n",
    "light_color    = cmap(0.6)  # RGBA color code\n",
    "colors         = [cmap(0.15), cmap(0.30), cmap(0.45), cmap(0.60), cmap(0.75), cmap(0.90)]\n",
    "colors_3       = [cmap(0.25), cmap(0.50), cmap(0.75)]\n",
    "colors_3_alt   = [cmap_alt(0.25), cmap_alt(0.50), cmap_alt(0.75)]\n",
    "colors_3_alt_2 = [cmap_alt_2(0.25), cmap_alt_2(0.50), cmap_alt_2(0.75)]\n",
    "colors_8       = [cmap(0.12), cmap(0.24), cmap(0.35), cmap(0.48), cmap(0.6), cmap(0.72), cmap(0.84), cmap(0.96)]\n",
    "colors_8_alt   = [cmap_alt(0.12), cmap_alt(0.24), cmap_alt(0.35), cmap_alt(0.48), cmap_alt(0.6), cmap_alt(0.72),\\\n",
    "                  cmap_alt(0.84), cmap_alt(0.96)]\n",
    "colors_8_alt_2 = [cmap_alt_2(0.06), cmap_alt_2(0.18), cmap_alt_2(0.29), cmap_alt_2(0.42), cmap_alt_2(0.54),\\\n",
    "                  cmap_alt_2(0.66), cmap_alt_2(0.78), cmap_alt_2(0.90)]\n",
    "colors_8_alt_3 = [cmap_alt_3(0.06), cmap_alt_3(0.18), cmap_alt_3(0.29), cmap_alt_3(0.42), cmap_alt_3(0.54),\\\n",
    "                  cmap_alt_3(0.66), cmap_alt_3(0.78), cmap_alt_3(0.90)]"
   ]
  },
  {
   "cell_type": "code",
   "execution_count": 5,
   "id": "e030d993",
   "metadata": {
    "id": "f7b5bb0d-e1c0-415d-b7a8-3237c86e6c7b",
    "jupyter": {
     "source_hidden": true
    },
    "tags": []
   },
   "outputs": [],
   "source": [
    "pe1            = [mpe.Stroke(linewidth=5.0, foreground='black'),\n",
    "                  mpe.Stroke(foreground='white', alpha=1),\n",
    "                  mpe.Normal()]\n",
    "pe2            = [mpe.Stroke(linewidth=3.0, foreground='white'),\n",
    "                  mpe.Stroke(foreground='white', alpha=1),\n",
    "                  mpe.Normal()]\n",
    "\n",
    "alp_str        = r'$\\alpha$'"
   ]
  },
  {
   "cell_type": "markdown",
   "id": "c718d3c7",
   "metadata": {},
   "source": [
    "Define specific metrics for redshift values:  \n",
    "\n",
    "$$\n",
    "\\sigma_{\\mathrm{NMAD}} = 1.48 \\times \\mathrm{median}\\left(\\frac{|(z_{True} - z_{Predict})|}{(1 + z_{True})}\\right)\n",
    "$$"
   ]
  },
  {
   "cell_type": "code",
   "execution_count": 6,
   "id": "0d507737",
   "metadata": {
    "jupyter": {
     "source_hidden": true
    },
    "tags": []
   },
   "outputs": [],
   "source": [
    "def sigma_mad(z_true, z_pred, **kwargs):\n",
    "    med = np.nanmedian(np.abs(z_true - z_pred)).astype('float32')\n",
    "    return 1.48 * med"
   ]
  },
  {
   "cell_type": "code",
   "execution_count": 7,
   "id": "96732cfd",
   "metadata": {
    "jupyter": {
     "source_hidden": true
    },
    "tags": []
   },
   "outputs": [],
   "source": [
    "def sigma_nmad(z_true, z_pred, **kwargs):\n",
    "    dif  = (z_true - z_pred)\n",
    "    frac = dif / (1 + z_true).values\n",
    "    med  = np.nanmedian(np.abs(frac)).astype('float32')\n",
    "    return 1.48 * med"
   ]
  },
  {
   "cell_type": "code",
   "execution_count": 8,
   "id": "4183b659",
   "metadata": {
    "jupyter": {
     "source_hidden": true
    },
    "tags": []
   },
   "outputs": [],
   "source": [
    "def sigma_z(z_true, z_pred, **kwargs):\n",
    "    dif = z_true - z_pred\n",
    "    ssq = np.sum(dif**2)\n",
    "    rot = np.sqrt(ssq / len(z_true)).astype('float32')\n",
    "    return rot"
   ]
  },
  {
   "cell_type": "code",
   "execution_count": 9,
   "id": "7b33c9ec",
   "metadata": {
    "jupyter": {
     "source_hidden": true
    },
    "tags": []
   },
   "outputs": [],
   "source": [
    "def sigma_z_norm(z_true, z_pred, **kwargs):\n",
    "    dif = (z_true - z_pred) / (1 + z_true)\n",
    "    ssq = np.sum(dif**2)\n",
    "    rot = np.sqrt(ssq / len(z_true)).astype('float32')\n",
    "    return rot"
   ]
  },
  {
   "cell_type": "code",
   "execution_count": 10,
   "id": "4c292c3e",
   "metadata": {
    "jupyter": {
     "source_hidden": true
    },
    "tags": []
   },
   "outputs": [],
   "source": [
    "def outlier_frac(z_true, z_pred, **kwargs):\n",
    "    dif  = np.abs((z_true - z_pred) / (1 + z_true))\n",
    "    siz  = np.sum(np.isfinite(dif)).astype('float32')\n",
    "    num  = np.sum(np.array(dif > 0.15)).astype('float32')\n",
    "    frac = num / siz\n",
    "    return frac"
   ]
  },
  {
   "cell_type": "markdown",
   "id": "8f0d2cd5",
   "metadata": {
    "id": "aacf1d05-0bd7-4cbe-a480-5bd658bc008c"
   },
   "source": [
    "Methdods for PyCaret and saved models."
   ]
  },
  {
   "cell_type": "code",
   "execution_count": 11,
   "id": "dee99696",
   "metadata": {
    "id": "86db6e67-85aa-4cd6-a3dc-bfe638bc69bb",
    "jupyter": {
     "source_hidden": true
    },
    "tags": []
   },
   "outputs": [],
   "source": [
    "def get_final_column_names(pycaret_pipeline, sample_df):\n",
    "    if isinstance(pycaret_pipeline, sklearn.pipeline.Pipeline):\n",
    "        for (name, method) in pycaret_pipeline.named_steps.items():\n",
    "            if method != 'passthrough' and name != 'trained_model':\n",
    "                print(f'Running {name}')\n",
    "                sample_df = method.transform(sample_df)\n",
    "        return sample_df.columns.tolist()\n",
    "    else:\n",
    "        for (name, method) in pyr.get_config('prep_pipe').named_steps.items():\n",
    "            if method != 'passthrough' and name != 'trained_model':\n",
    "                print(f'Running {name}')\n",
    "                sample_df = method.transform(sample_df)\n",
    "        return sample_df.columns.tolist()"
   ]
  },
  {
   "cell_type": "code",
   "execution_count": 12,
   "id": "f2ae6c83",
   "metadata": {
    "id": "715acda9-475d-4c9c-8e99-4921da2e1152",
    "jupyter": {
     "source_hidden": true
    },
    "tags": []
   },
   "outputs": [],
   "source": [
    "def get_feature_importances_df(pycaret_pipeline, sample_df, n = 10):\n",
    "    \n",
    "    final_cols = get_final_column_names(pycaret_pipeline, sample_df)\n",
    "    \n",
    "    if isinstance(pycaret_pipeline, sklearn.pipeline.Pipeline):\n",
    "        try:\n",
    "            variables = pycaret_pipeline[\"trained_model\"].feature_importances_\n",
    "            \n",
    "        except:\n",
    "            variables = np.mean([\n",
    "                            tree.feature_importances_ for tree in pycaret_pipeline[\"trained_model\"].estimators_\n",
    "                if hasattr(tree, 'feature_importances_')\n",
    "                            ], axis=0)\n",
    "        \n",
    "        coef_df = pd.DataFrame({'Feature': final_cols, 'Importance': variables})\n",
    "        sorted_df = (\n",
    "            coef_df.sort_values(by='Importance', ascending=False)\n",
    "            .head(n)\n",
    "            .sort_values(by='Importance', ascending=True).reset_index(drop=True)\n",
    "        )\n",
    "    else:\n",
    "        try:\n",
    "            variables = pycaret_pipeline.feature_importances_\n",
    "            \n",
    "        except:\n",
    "            variables = np.mean([\n",
    "                            tree.feature_importances_ for tree in pycaret_pipeline.estimators_\n",
    "                if hasattr(tree, 'feature_importances_')\n",
    "                            ], axis=0)\n",
    "        \n",
    "        coef_df = pd.DataFrame({'Feature': final_cols, 'Importance': variables})\n",
    "        sorted_df = (\n",
    "            coef_df.sort_values(by='Importance', ascending=False)\n",
    "            .head(n)\n",
    "            .sort_values(by='Importance', ascending=True).reset_index(drop=True)\n",
    "        )\n",
    "    return sorted_df"
   ]
  },
  {
   "cell_type": "code",
   "execution_count": 13,
   "id": "e329aad8",
   "metadata": {
    "jupyter": {
     "source_hidden": true
    },
    "tags": []
   },
   "outputs": [],
   "source": [
    "def plot_conf_mat(confusion_matrix, title, axin, display_labels=['Non true', 'True'], cmap='cet_dimgray_r', show_clb=False, log_stretch=False):\n",
    "    disp = ConfusionMatrixDisplay(confusion_matrix=confusion_matrix,\n",
    "                              display_labels=display_labels)\n",
    "\n",
    "    min_val_colour = np.nanmin(confusion_matrix)\n",
    "    max_val_colour = np.nanmin(confusion_matrix)\n",
    "    \n",
    "    if log_stretch:\n",
    "        norm = ImageNormalize(stretch=LogStretch())\n",
    "    if not log_stretch:\n",
    "        norm = ImageNormalize()\n",
    "\n",
    "    # NOTE: Fill all variables here with default values of the plot_confusion_matrix\n",
    "    disp_b = disp.plot(include_values=True, cmap=cm.get_cmap(cmap),\\\n",
    "             ax=axin, xticks_rotation='horizontal')\n",
    "\n",
    "    for text_val in disp_b.text_.flatten():\n",
    "        text_val.set_fontsize(30)\n",
    "    clb = plt.gca().images[-1].colorbar\n",
    "    clb.ax.tick_params(labelsize=14)\n",
    "    clb.ax.ticklabel_format(style='sci', scilimits=(0, 0))\n",
    "    clb.outline.set_linewidth(2.5)\n",
    "    clb.ax.set_ylabel('Elements in bin', size=14)\n",
    "    if not show_clb:\n",
    "        clb.remove()\n",
    "\n",
    "    # disp_b.im_.set_clim(1e2, 3e3)\n",
    "    disp_b.im_.norm = norm\n",
    "\n",
    "    axin.xaxis.get_label().set_fontsize(16)\n",
    "    axin.yaxis.get_label().set_fontsize(16)\n",
    "\n",
    "    axin.tick_params(axis='both', which='major', labelsize=14)\n",
    "\n",
    "    plt.setp(axin.spines.values(), linewidth=2.5)\n",
    "    plt.setp(axin.spines.values(), linewidth=2.5)\n",
    "    axin.set_title(title)\n",
    "    plt.tight_layout()"
   ]
  },
  {
   "cell_type": "code",
   "execution_count": 14,
   "id": "9799683d",
   "metadata": {
    "jupyter": {
     "source_hidden": true
    }
   },
   "outputs": [],
   "source": [
    "def get_base_estimators_names(pycaret_pipeline):\n",
    "    if isinstance(pycaret_pipeline, sklearn.pipeline.Pipeline):\n",
    "        estimators  = pycaret_pipeline['trained_model'].estimators\n",
    "    else:\n",
    "        estimators  = pycaret_pipeline.estimators\n",
    "\n",
    "    estimators_list = [estimator[0] for estimator in estimators]\n",
    "    return estimators_list"
   ]
  },
  {
   "cell_type": "markdown",
   "id": "50b650cf",
   "metadata": {},
   "source": [
    "Method to compare and plot redshifts."
   ]
  },
  {
   "cell_type": "code",
   "execution_count": 15,
   "id": "b0c222aa",
   "metadata": {
    "jupyter": {
     "source_hidden": true
    }
   },
   "outputs": [],
   "source": [
    "def plot_redshift_compare(true_z, predicted_z, ax_pre, title=None, dpi=10, cmap='cet_linear_kryw_5_100_c64_r', show_clb=False, log_stretch=False):\n",
    "    if log_stretch:\n",
    "        norm = ImageNormalize(vmin=0., stretch=LogStretch())\n",
    "    if not log_stretch:\n",
    "        norm = ImageNormalize(vmin=0., stretch=PowerStretch(0.3))\n",
    "\n",
    "    filt_pair_z   = np.isfinite(true_z) & np.isfinite(predicted_z)\n",
    "    max_for_range = np.nanmax([np.nanmax(1 + true_z.loc[filt_pair_z]), np.nanmax(1 + predicted_z.loc[filt_pair_z])])\n",
    "    min_for_range = np.nanmin([np.nanmin(1 + true_z.loc[filt_pair_z]), np.nanmin(1 + predicted_z.loc[filt_pair_z])])\n",
    "\n",
    "    dens_1 = ax_pre.scatter_density((1 + true_z.sample(frac=1, random_state=seed)),\\\n",
    "            (1 + predicted_z.sample(frac=1, random_state=seed)),\\\n",
    "            cmap=plt.get_cmap(cmap), zorder=0, dpi=dpi, norm=norm, alpha=0.93)\n",
    "    \n",
    "    ax_pre.axline((2., 2.), (3., 3.), ls='--', marker=None, c='Gray', alpha=0.8, lw=3.0, zorder=20)\n",
    "    ax_pre.axline(xy1=(1., 1.15), xy2=(2., 2.3), ls='-.', marker=None, c='slateblue', alpha=0.6, lw=3.0, zorder=20)\n",
    "    ax_pre.axline(xy1=(1., 0.85), xy2=(2., 1.7), ls='-.', marker=None, c='slateblue', alpha=0.6, lw=3.0, zorder=20)\n",
    "\n",
    "    if show_clb:\n",
    "        clb = plt.colorbar(dens_1, extend='neither', norm=norm, ticks=ticker.MaxNLocator(integer=True))\n",
    "        clb.ax.tick_params(labelsize=14)\n",
    "        clb.outline.set_linewidth(2.5)\n",
    "        clb.ax.set_ylabel('Elements per pixel', size=16, path_effects=pe2)\n",
    "\n",
    "    # Inset axis with residuals\n",
    "    axins = inset_axes(ax_pre, width='35%', height='20%', loc=2)\n",
    "    res_z_z = (predicted_z - true_z) / (1 + true_z)\n",
    "    axins.hist(res_z_z, histtype='stepfilled', fc='grey', ec='k', bins=50, lw=2.5)\n",
    "    axins.axvline(x=np.nanpercentile(res_z_z, [15.9]), ls='--', lw=2.5, c='royalblue')\n",
    "    axins.axvline(x=np.nanpercentile(res_z_z, [84.1]), ls='--', lw=2.5, c='royalblue')\n",
    "    axins.set_xlabel('$\\Delta z / (1 + z_{\\mathrm{True}})$', fontsize=10)\n",
    "    axins.tick_params(labelleft=False, labelbottom=True)\n",
    "    axins.tick_params(which='both', top=True, right=True, direction='in')\n",
    "    axins.tick_params(axis='both', which='major', labelsize=10)\n",
    "    axins.tick_params(which='major', length=8, width=1.5)\n",
    "    axins.tick_params(which='minor', length=4, width=1.5)\n",
    "    plt.setp(axins.spines.values(), linewidth=2.5)\n",
    "    plt.setp(axins.spines.values(), linewidth=2.5)\n",
    "    axins.set_xlim(left=-0.9, right=0.9)\n",
    "    ##\n",
    "    ax_pre.set_xlabel('$1 + z_{\\mathrm{True}}$', fontsize=20)\n",
    "    ax_pre.set_ylabel('$1 + z_{\\mathrm{Predicted}}$', fontsize=20)\n",
    "    ax_pre.tick_params(which='both', top=True, right=True, direction='in')\n",
    "    ax_pre.tick_params(axis='both', which='minor', labelsize=14)\n",
    "    ax_pre.tick_params(which='major', length=8, width=1.5)\n",
    "    ax_pre.tick_params(which='minor', length=4, width=1.5)\n",
    "    # ax_pre.xaxis.set_major_locator(ticker.MaxNLocator(integer=True))\n",
    "    # ax_pre.yaxis.set_major_locator(ticker.MaxNLocator(integer=True))\n",
    "    ax_pre.xaxis.set_minor_formatter(ticker.ScalarFormatter(useMathText=False))\n",
    "    ax_pre.yaxis.set_minor_formatter(ticker.ScalarFormatter(useMathText=False))\n",
    "    plt.setp(ax_pre.spines.values(), linewidth=2.5)\n",
    "    plt.setp(ax_pre.spines.values(), linewidth=2.5)\n",
    "    ax_pre.set_xlim(left=np.floor(min_for_range), right=np.ceil(max_for_range))\n",
    "    ax_pre.set_ylim(bottom=np.floor(min_for_range), top=np.ceil(max_for_range))\n",
    "    ax_pre.set_title(title, fontsize=14)\n",
    "    plt.tight_layout()"
   ]
  },
  {
   "cell_type": "markdown",
   "id": "abbe736c",
   "metadata": {
    "id": "8222df68-1b98-436b-af43-d9f38d015ba6"
   },
   "source": [
    "***"
   ]
  },
  {
   "cell_type": "markdown",
   "id": "9b01a837",
   "metadata": {
    "id": "e2ce5669-172d-4ed4-b6fe-5fff8afc7df5"
   },
   "source": [
    "## Reading data"
   ]
  },
  {
   "cell_type": "code",
   "execution_count": 16,
   "id": "148cc32c",
   "metadata": {
    "id": "b0619b32-391c-4f18-8284-d1fabf6a800c",
    "tags": []
   },
   "outputs": [],
   "source": [
    "cat_path = '../../Catalogs/'  # relative path to the same directory"
   ]
  },
  {
   "cell_type": "markdown",
   "id": "b9e3bd53",
   "metadata": {
    "id": "c4e41fd8-fbc5-4185-b03e-8a57634a05a9"
   },
   "source": [
    "We import our data using the `pandas` package."
   ]
  },
  {
   "cell_type": "code",
   "execution_count": 83,
   "id": "804bbc1f",
   "metadata": {},
   "outputs": [],
   "source": [
    "save_plot_flag  = False\n",
    "save_model_flag = False\n",
    "load_model_flag = False"
   ]
  },
  {
   "cell_type": "code",
   "execution_count": 18,
   "id": "8a9ea397",
   "metadata": {},
   "outputs": [],
   "source": [
    "use_5sigma = True  # use files with 5-sigma magnitude imputation"
   ]
  },
  {
   "cell_type": "code",
   "execution_count": 19,
   "id": "29c92739",
   "metadata": {},
   "outputs": [],
   "source": [
    "mqc_version = '7_4d'  # '7_2'"
   ]
  },
  {
   "cell_type": "code",
   "execution_count": 20,
   "id": "38a81042",
   "metadata": {
    "id": "c69bd7ee-7184-46e3-a6cb-1a66cb75d6ae",
    "tags": []
   },
   "outputs": [],
   "source": [
    "file_name_train = f'CatWISE2020_VLASS_LOFAR_PS1_GALEX_TGSS_XMM_2MASS_MILLIQUAS_{mqc_version}_ALLWISE_LOLSS_SDSS_DR16_5sigma_imp.h5'  # 6729647 objects (6.7e6)"
   ]
  },
  {
   "cell_type": "markdown",
   "id": "3cd9f7b4",
   "metadata": {
    "id": "2cd751bd-1eb4-4c54-b6fa-418773ac8938"
   },
   "source": [
    "First, open the file as astropy Table to modify (and standardise)  \n",
    "the units of fluxes and/or magnitudes."
   ]
  },
  {
   "cell_type": "markdown",
   "id": "381a04bb",
   "metadata": {
    "id": "d0ce0178-04a7-4113-bbb8-1b70ce220764"
   },
   "source": [
    "---"
   ]
  },
  {
   "cell_type": "markdown",
   "id": "9e097c6c",
   "metadata": {
    "id": "6e66f66c-4987-4340-bf82-7d8e218033fb"
   },
   "source": [
    "Create `pandas` DataFrame from `astropy` table."
   ]
  },
  {
   "cell_type": "code",
   "execution_count": 21,
   "id": "b2b4bf2f",
   "metadata": {},
   "outputs": [],
   "source": [
    "features_2_discard = ['objID', 'RA_ICRS', 'DE_ICRS', 'Name', 'RA_MILLI', 'DEC_MILLI',\\\n",
    "                     'TYPE', 'X_ray_detect', 'Total_flux_VLASS',\\\n",
    "                     'Sint_LOFAR', 'Stotal_TGSS', 'FEP', 'TotalFlux_LoLSS', 'W1mag', 'W2mag'] # , 'mode',\\\n",
    "                     # 'class', 'f_zsp', 'subCl', 'zph', 'e_zph']  # Not needed for training in this model"
   ]
  },
  {
   "cell_type": "code",
   "execution_count": 22,
   "id": "7087dbed",
   "metadata": {
    "id": "498083f5-b8c6-44aa-8de4-75b1dc899296",
    "tags": []
   },
   "outputs": [],
   "source": [
    "full_catalog_df = pd.read_hdf(cat_path + file_name_train, key='df').drop(columns=features_2_discard)"
   ]
  },
  {
   "cell_type": "code",
   "execution_count": 23,
   "id": "b23b0f1e",
   "metadata": {},
   "outputs": [],
   "source": [
    "full_catalog_df.loc[:, 'radio_detect'] = full_catalog_df.loc[:, 'radio_detect'].astype(int)"
   ]
  },
  {
   "cell_type": "code",
   "execution_count": 24,
   "id": "d489d003",
   "metadata": {},
   "outputs": [],
   "source": [
    "# full_catalog_df.describe()"
   ]
  },
  {
   "cell_type": "markdown",
   "id": "0435c59a",
   "metadata": {},
   "source": [
    "Combine redshift values (AGN + galaxies)."
   ]
  },
  {
   "cell_type": "code",
   "execution_count": 25,
   "id": "bd6b8267",
   "metadata": {},
   "outputs": [],
   "source": [
    "idx_non_Z                = full_catalog_df.loc[:, 'Z'].where(full_catalog_df.loc[:, 'Z'] > 0).isna()\n",
    "full_catalog_df.loc[idx_non_Z, 'Z'] = full_catalog_df.loc[:, 'Z'].mask(idx_non_Z, full_catalog_df.loc[idx_non_Z, 'zsp'])"
   ]
  },
  {
   "cell_type": "markdown",
   "id": "6fafd9ab",
   "metadata": {},
   "source": [
    "#### Select only confirmed radio AGN"
   ]
  },
  {
   "cell_type": "code",
   "execution_count": 26,
   "id": "ab257ea7",
   "metadata": {},
   "outputs": [],
   "source": [
    "# full_catalog_df = full_catalog_df.loc[(full_catalog_df.loc[:, 'is_gal'] == 1) | (full_catalog_df.loc[:, 'is_AGN'] == 1)]\n",
    "filter_confirmed = full_catalog_df.loc[:, 'is_AGN'] == 1\n",
    "filter_redshift  = (full_catalog_df.loc[:, 'Z'] > 0) | (full_catalog_df.loc[:, 'zsp'] > 0)\n",
    "filter_radio     = full_catalog_df.loc[:, 'radio_detect'] == 1\n",
    "full_catalog_df  = full_catalog_df.loc[filter_confirmed & filter_redshift & filter_radio]"
   ]
  },
  {
   "cell_type": "markdown",
   "id": "9407b44b",
   "metadata": {
    "tags": []
   },
   "source": [
    "#### Select high-redshift sources"
   ]
  },
  {
   "cell_type": "code",
   "execution_count": 27,
   "id": "a9a23983",
   "metadata": {},
   "outputs": [],
   "source": [
    "redshift_low_lim = 3.7  # 3.7, 4.0\n",
    "filter_high_z    = full_catalog_df.loc[:, 'Z'] >= redshift_low_lim\n",
    "full_catalog_df  = full_catalog_df.loc[filter_high_z]"
   ]
  },
  {
   "cell_type": "code",
   "execution_count": 28,
   "id": "5a6b0cf1",
   "metadata": {
    "tags": []
   },
   "outputs": [
    {
     "name": "stdout",
     "output_type": "stream",
     "text": [
      "In this dataset, with 72 elements,\n",
      "72 of them are marked as AGN, 0 have been indentified as galaxies, and 72 are identified as radio detections.\n"
     ]
    }
   ],
   "source": [
    "n_full   = len(full_catalog_df)\n",
    "n_is_AGN = np.sum(full_catalog_df.loc[:, 'is_AGN'] == 1)\n",
    "n_is_gal = np.sum(full_catalog_df.loc[:, 'is_gal'] == 1)\n",
    "n_is_rad = np.sum(full_catalog_df.loc[:, 'radio_detect'] == 1)\n",
    "print(f'In this dataset, with {n_full:,} elements,\\n' +\\\n",
    "         f'{n_is_AGN:,} of them are marked as AGN, {n_is_gal:,} have been indentified as galaxies,' +\\\n",
    "      f' and {n_is_rad:,} are identified as radio detections.')"
   ]
  },
  {
   "cell_type": "markdown",
   "id": "8101ab68",
   "metadata": {
    "id": "6619390c-a04f-4bd0-9f97-9ca54bc9c764"
   },
   "source": [
    "---"
   ]
  },
  {
   "cell_type": "markdown",
   "id": "c77e55f2",
   "metadata": {
    "id": "e1111608-acd0-41fd-a79d-831539eb56b9"
   },
   "source": [
    "## Possible correlations"
   ]
  },
  {
   "cell_type": "code",
   "execution_count": 29,
   "id": "4e480edf",
   "metadata": {
    "id": "c5787752-376d-4409-bda6-ed1ab94bbe9b",
    "jupyter": {
     "source_hidden": true
    },
    "outputId": "80a70466-b8d8-4390-8734-77688a25a7de",
    "tags": []
   },
   "outputs": [
    {
     "name": "stdout",
     "output_type": "stream",
     "text": [
      "['Z', 'zsp', 'band_num', 'radio_detect', 'is_AGN', 'is_SDSS_gal', 'is_gal', 'W1mproPM', 'W2mproPM', 'gmag', 'rmag', 'imag', 'zmag', 'ymag', 'FUVmag', 'NUVmag', 'Jmag', 'Hmag', 'Kmag', 'W3mag', 'W4mag', 'g_r', 'r_i', 'i_z', 'z_y', 'g_i', 'w1_w2', 'w2_w3', 'w3_w4', 'J_H', 'H_K', 'FUV_NUV', 'r/z', 'i/y', 'w1/w3', 'w1/w4', 'w2/w4', 'J/K', 'FUV/K', 'g/J', 'r/H', 'i/K', 'z/W1', 'y/W2']\n"
     ]
    }
   ],
   "source": [
    "print(full_catalog_df.columns.to_list())"
   ]
  },
  {
   "cell_type": "markdown",
   "id": "ab2ffc95",
   "metadata": {
    "id": "27645d12-9370-40d8-aeba-24d4415bb9eb"
   },
   "source": [
    "---"
   ]
  },
  {
   "cell_type": "markdown",
   "id": "f4eea916",
   "metadata": {
    "id": "u4vi69d_pPbd"
   },
   "source": [
    "## Random seed"
   ]
  },
  {
   "cell_type": "code",
   "execution_count": 30,
   "id": "95ea251e",
   "metadata": {
    "id": "8byjjVU3pOjM"
   },
   "outputs": [],
   "source": [
    "seed = 42"
   ]
  },
  {
   "cell_type": "markdown",
   "id": "89cfb75e",
   "metadata": {},
   "source": [
    "Create target"
   ]
  },
  {
   "cell_type": "markdown",
   "id": "ee97a06b",
   "metadata": {},
   "source": [
    "$0$ for galaxies and $1$ for AGN"
   ]
  },
  {
   "cell_type": "code",
   "execution_count": 31,
   "id": "426495fe",
   "metadata": {},
   "outputs": [],
   "source": [
    "# full_catalog_df['class'] = full_catalog_df.loc[:, 'is_AGN'].copy()"
   ]
  },
  {
   "cell_type": "markdown",
   "id": "fe912837",
   "metadata": {},
   "source": [
    "Remove intermediate targets"
   ]
  },
  {
   "cell_type": "code",
   "execution_count": 32,
   "id": "af26cdd1",
   "metadata": {},
   "outputs": [],
   "source": [
    "full_catalog_df = full_catalog_df.drop(columns=['is_AGN', 'is_SDSS_gal', 'is_gal', 'radio_detect', 'zsp'])"
   ]
  },
  {
   "cell_type": "markdown",
   "id": "6a962b63",
   "metadata": {},
   "source": [
    "---"
   ]
  },
  {
   "cell_type": "markdown",
   "id": "e16445d8",
   "metadata": {},
   "source": [
    "#### Add prediction from first AGN/galaxy model as feature."
   ]
  },
  {
   "cell_type": "code",
   "execution_count": 33,
   "id": "8f259961",
   "metadata": {},
   "outputs": [],
   "source": [
    "# AGN_gal_clf = pyc.load_model('models/classification_AGN_galaxy_apr_20_2022')"
   ]
  },
  {
   "cell_type": "code",
   "execution_count": 34,
   "id": "bfa2f137",
   "metadata": {},
   "outputs": [],
   "source": [
    "# AGN_pred_threshold = 0.5\n",
    "# full_catalog_df    = pyc.predict_model(AGN_gal_clf, data=full_catalog_df, probability_threshold=AGN_pred_threshold, raw_score=False).drop(columns=['Score'])"
   ]
  },
  {
   "cell_type": "code",
   "execution_count": 35,
   "id": "a0933690",
   "metadata": {},
   "outputs": [],
   "source": [
    "# full_catalog_df = full_catalog_df.rename(columns={'Label': 'class'})"
   ]
  },
  {
   "cell_type": "markdown",
   "id": "f4ef38fa",
   "metadata": {},
   "source": [
    "---"
   ]
  },
  {
   "cell_type": "markdown",
   "id": "e5377d1f",
   "metadata": {},
   "source": [
    "## Split data: Test, Train, Validation"
   ]
  },
  {
   "cell_type": "code",
   "execution_count": 36,
   "id": "ab06a562",
   "metadata": {
    "jupyter": {
     "source_hidden": true
    },
    "tags": []
   },
   "outputs": [
    {
     "name": "stdout",
     "output_type": "stream",
     "text": [
      "Shape of used data\n",
      "----------------------------------------\n",
      "Full Dataset size: (72, 39)\n",
      "Data for Modeling (Train and Test): (58, 39)\n",
      "Unseen Data For Validation: (14, 39)\n",
      "----------------------------------------\n"
     ]
    }
   ],
   "source": [
    "# train_test_df, validation_df = train_test_split(full_catalog_df, test_size=0.2,\\\n",
    "#                                                 random_state=seed, stratify=None)\n",
    "train_test_df = full_catalog_df.loc[np.isfinite(full_catalog_df.loc[:, 'Z'])].sample(frac=0.8, random_state=seed)  # Train + test sets\n",
    "validation_df = full_catalog_df.drop(train_test_df.index)  # Validation data\n",
    "\n",
    "print('Shape of used data')\n",
    "print('-' * 40)\n",
    "print(f'Full Dataset size: {full_catalog_df.shape}')\n",
    "print(f'Data for Modeling (Train and Test): {train_test_df.shape}')\n",
    "print(f'Unseen Data For Validation: {validation_df.shape}')\n",
    "print('-' * 40)"
   ]
  },
  {
   "cell_type": "code",
   "execution_count": 37,
   "id": "433fcdfd",
   "metadata": {
    "jupyter": {
     "source_hidden": true
    },
    "tags": []
   },
   "outputs": [
    {
     "data": {
      "image/png": "[encoded data removed]",
      "text/plain": [
       "<Figure size 700x450 with 1 Axes>"
      ]
     },
     "metadata": {},
     "output_type": "display_data"
    }
   ],
   "source": [
    "fig             = plt.figure(figsize=(7,4.5))\n",
    "ax1             = fig.add_subplot(111, xscale='linear', yscale='log')\n",
    "\n",
    "min_score  = np.nanmin(full_catalog_df.loc[:, 'Z'])\n",
    "max_score  = np.nanmax(full_catalog_df.loc[:, 'Z'])\n",
    "score_bins = np.linspace(min_score, max_score, 30)\n",
    "\n",
    "ax1.hist(train_test_df.loc[:, 'Z'], bins=score_bins, histtype='stepfilled', ec='k',\\\n",
    "         lw=3.5, color=cm.get_cmap('cet_gray')(0.8), alpha=1.0, label='Train+Test')\n",
    "ax1.hist(validation_df.loc[:, 'Z'], bins=score_bins, histtype='stepfilled', ec='k',\\\n",
    "         lw=3.5, color=cm.get_cmap('cet_gray')(0.95), alpha=1.0, label='Validation')\n",
    "\n",
    "ax1.axvline(x=redshift_low_lim, ls='--', c='k', lw=2.5)\n",
    "    \n",
    "ax1.tick_params(which='both', top=True, right=True, direction='in')\n",
    "ax1.tick_params(axis='both', which='major', labelsize=14)\n",
    "ax1.tick_params(which='major', length=8, width=1.5)\n",
    "ax1.tick_params(which='minor', length=4, width=1.5)\n",
    "ax1.set_xlabel('Redshift', size=20)\n",
    "ax1.set_ylabel('Frequency', size=20)\n",
    "plt.setp(ax1.spines.values(), linewidth=3.5)\n",
    "plt.setp(ax1.spines.values(), linewidth=3.5)\n",
    "plt.legend(loc=1, fontsize=14)\n",
    "plt.grid(False)\n",
    "# ax1.set_xlim(left=min_score - 1e-2, right=max_score + 1e-2)\n",
    "#ax1.set_aspect('equal', 'box')\n",
    "fig.tight_layout()"
   ]
  },
  {
   "cell_type": "markdown",
   "id": "e0d9b0ae",
   "metadata": {},
   "source": [
    "Save indices of sources in validation sub-set for future steps."
   ]
  },
  {
   "cell_type": "code",
   "execution_count": 38,
   "id": "5c9596d3",
   "metadata": {},
   "outputs": [],
   "source": [
    "# val_idx = validation_df.index.to_numpy()\n",
    "# np.savetxt(fname='idx_validation_radio_01.txt', X=val_idx, header='Indices from first radio detection training.', fmt='%i')"
   ]
  },
  {
   "cell_type": "markdown",
   "id": "655b26ac",
   "metadata": {},
   "source": [
    "---"
   ]
  },
  {
   "cell_type": "markdown",
   "id": "9b52ae02",
   "metadata": {},
   "source": [
    "## Use Correlation matrix to discard some features"
   ]
  },
  {
   "cell_type": "code",
   "execution_count": 39,
   "id": "c0b29733",
   "metadata": {
    "jupyter": {
     "source_hidden": true
    },
    "tags": []
   },
   "outputs": [],
   "source": [
    "min_max_scaler              = MinMaxScaler(feature_range=(0., 1.))\n",
    "full_scaled                 = min_max_scaler.fit_transform(train_test_df.values)\n",
    "norm_train_test_df = pd.DataFrame(data=full_scaled, columns=train_test_df.columns, index=train_test_df.index)"
   ]
  },
  {
   "cell_type": "markdown",
   "id": "f777c341",
   "metadata": {},
   "source": [
    "Calculate Reduced Standard deviation to discard between pairs of features:  \n",
    "\n",
    "$$\\mathrm{RSD} = \\frac{\\sigma}{\\mu} \\times 100$$"
   ]
  },
  {
   "cell_type": "code",
   "execution_count": 40,
   "id": "4f0a4f12",
   "metadata": {},
   "outputs": [],
   "source": [
    "rsd_vals = (train_test_df.std() / train_test_df.mean() * 100).sort_values(ascending=False)"
   ]
  },
  {
   "cell_type": "code",
   "execution_count": 41,
   "id": "b14ffa82",
   "metadata": {},
   "outputs": [
    {
     "data": {
      "text/plain": [
       "z_y         592.901814\n",
       "i_z         152.311818\n",
       "r_i         120.807543\n",
       "g_i          41.076105\n",
       "g_r          37.250379\n",
       "w2_w3        24.890803\n",
       "band_num     17.438729\n",
       "J_H          14.706861\n",
       "w3_w4        14.656950\n",
       "Z            12.598732\n",
       "H_K          10.223898\n",
       "rmag          6.240111\n",
       "r/H           6.068868\n",
       "gmag          6.022021\n",
       "ymag          5.893277\n",
       "g/J           5.854642\n",
       "imag          5.591040\n",
       "i/K           5.558384\n",
       "zmag          5.372447\n",
       "W1mproPM      5.112257\n",
       "w1/w4         4.964048\n",
       "W2mproPM      4.533150\n",
       "w2/w4         4.365213\n",
       "w1/w3         3.904989\n",
       "y/W2          3.201331\n",
       "r/z           3.033289\n",
       "z/W1          2.740122\n",
       "i/y           2.225768\n",
       "W3mag         1.963578\n",
       "Jmag          0.611825\n",
       "J/K           0.505846\n",
       "Hmag          0.483544\n",
       "W4mag         0.429736\n",
       "FUV/K         0.127041\n",
       "Kmag          0.125866\n",
       "FUV_NUV      -0.000000\n",
       "FUVmag        0.000000\n",
       "NUVmag        0.000000\n",
       "w1_w2      -562.379301\n",
       "dtype: float64"
      ]
     },
     "execution_count": 41,
     "metadata": {},
     "output_type": "execute_result"
    }
   ],
   "source": [
    "rsd_vals"
   ]
  },
  {
   "cell_type": "code",
   "execution_count": 42,
   "id": "b5da58a1",
   "metadata": {},
   "outputs": [],
   "source": [
    "correlation = norm_train_test_df.corr()"
   ]
  },
  {
   "cell_type": "code",
   "execution_count": 43,
   "id": "e0f9da8f",
   "metadata": {
    "jupyter": {
     "source_hidden": true
    },
    "tags": []
   },
   "outputs": [],
   "source": [
    "filt_high_corr = np.array(correlation.abs().unstack().sort_values(ascending=False).drop_duplicates().values > 0.75) &\\\n",
    "np.array(correlation.abs().unstack().sort_values(ascending=False).drop_duplicates().values < 1.00)"
   ]
  },
  {
   "cell_type": "code",
   "execution_count": 44,
   "id": "6f0f517c",
   "metadata": {
    "jupyter": {
     "source_hidden": true
    },
    "tags": []
   },
   "outputs": [],
   "source": [
    "corr_pairs     = correlation.abs().unstack().sort_values(ascending=False).drop_duplicates().index[filt_high_corr]"
   ]
  },
  {
   "cell_type": "code",
   "execution_count": 45,
   "id": "dce83d23",
   "metadata": {},
   "outputs": [],
   "source": [
    "target_feat = 'Z'"
   ]
  },
  {
   "cell_type": "code",
   "execution_count": 46,
   "id": "7799525d",
   "metadata": {
    "jupyter": {
     "source_hidden": true
    },
    "tags": []
   },
   "outputs": [],
   "source": [
    "list_drop_corr = []"
   ]
  },
  {
   "cell_type": "markdown",
   "id": "fdaeccfb",
   "metadata": {},
   "source": [
    "We want to discard features that are highly correlated (>0.75).  \n",
    "Between two features, we will discard the one with the lowest standard deviation (RSD)."
   ]
  },
  {
   "cell_type": "code",
   "execution_count": 47,
   "id": "abaf1a8d",
   "metadata": {
    "jupyter": {
     "source_hidden": true
    },
    "tags": []
   },
   "outputs": [],
   "source": [
    "for row in corr_pairs:\n",
    "    if target_feat in row:\n",
    "        continue\n",
    "    elif row[0] in list_drop_corr:\n",
    "        continue\n",
    "    elif row[1] in list_drop_corr:\n",
    "        continue\n",
    "    else:\n",
    "        metric_a = rsd_vals[row[0]]\n",
    "        metric_b = rsd_vals[row[1]]\n",
    "        if metric_a >= metric_b:\n",
    "            list_drop_corr.append(row[1])\n",
    "        else:\n",
    "            list_drop_corr.append(row[0])"
   ]
  },
  {
   "cell_type": "code",
   "execution_count": 48,
   "id": "fd5691e0",
   "metadata": {},
   "outputs": [
    {
     "data": {
      "text/plain": [
       "['i/K',\n",
       " 'r/H',\n",
       " 'w1/w4',\n",
       " 'w2/w4',\n",
       " 'g/J',\n",
       " 'J/K',\n",
       " 'Hmag',\n",
       " 'W3mag',\n",
       " 'zmag',\n",
       " 'W2mproPM',\n",
       " 'Jmag',\n",
       " 'W1mproPM',\n",
       " 'w1/w3',\n",
       " 'r/z',\n",
       " 'gmag',\n",
       " 'imag',\n",
       " 'i/y',\n",
       " 'ymag',\n",
       " 'FUV/K',\n",
       " 'Kmag',\n",
       " 'rmag']"
      ]
     },
     "execution_count": 48,
     "metadata": {},
     "output_type": "execute_result"
    }
   ],
   "source": [
    "list_drop_corr"
   ]
  },
  {
   "cell_type": "code",
   "execution_count": 49,
   "id": "8e074bfc",
   "metadata": {},
   "outputs": [],
   "source": [
    "# correlation.abs().unstack().sort_values(ascending=False).drop_duplicates()[:15]"
   ]
  },
  {
   "cell_type": "code",
   "execution_count": 50,
   "id": "8dc5b643",
   "metadata": {},
   "outputs": [],
   "source": [
    "norm_train_test_discard = norm_train_test_df.drop(columns=list_drop_corr)"
   ]
  },
  {
   "cell_type": "code",
   "execution_count": 51,
   "id": "5b85cfc8",
   "metadata": {},
   "outputs": [],
   "source": [
    "corr_discard = norm_train_test_discard.corr()"
   ]
  },
  {
   "cell_type": "code",
   "execution_count": 52,
   "id": "30d00f3d",
   "metadata": {},
   "outputs": [
    {
     "data": {
      "text/plain": [
       "Z         Z           1.000000\n",
       "y/W2      w1_w2       0.744987\n",
       "g_i       r_i         0.727321\n",
       "          g_r         0.699284\n",
       "H_K       J_H         0.671870\n",
       "w2_w3     w3_w4       0.648152\n",
       "w3_w4     H_K         0.647271\n",
       "          W4mag       0.614390\n",
       "i_z       Z           0.601764\n",
       "band_num  w2_w3       0.601138\n",
       "          w3_w4       0.593431\n",
       "z/W1      y/W2        0.587098\n",
       "Z         r_i         0.548354\n",
       "y/W2      band_num    0.543281\n",
       "w1_w2     band_num    0.530887\n",
       "dtype: float64"
      ]
     },
     "execution_count": 52,
     "metadata": {},
     "output_type": "execute_result"
    }
   ],
   "source": [
    "corr_discard.abs().unstack().sort_values(ascending=False).drop_duplicates()[:15]"
   ]
  },
  {
   "cell_type": "code",
   "execution_count": 53,
   "id": "bf1b80b4",
   "metadata": {
    "jupyter": {
     "source_hidden": true
    },
    "tags": []
   },
   "outputs": [
    {
     "data": {
      "text/plain": [
       "Text(1049.9166666666667, 0.5, 'feature')"
      ]
     },
     "execution_count": 53,
     "metadata": {},
     "output_type": "execute_result"
    },
    {
     "data": {
      "image/png": "[encoded data removed]",
      "text/plain": [
       "<Figure size 3000x1500 with 2 Axes>"
      ]
     },
     "metadata": {},
     "output_type": "display_data"
    }
   ],
   "source": [
    "plt.figure(figsize=(30,15))\n",
    "sns.set_context('paper', rc={'axes.labelsize':20, 'axes.ticklabelsize':14})\n",
    "ax1 = sns.heatmap(corr_discard, annot=True, cmap=plt.get_cmap('cet_CET_D1A'), center=0.0, square=True)\n",
    "ax1.set_xlabel('feature')\n",
    "ax1.set_ylabel('feature')"
   ]
  },
  {
   "cell_type": "code",
   "execution_count": 54,
   "id": "1a217042",
   "metadata": {},
   "outputs": [],
   "source": [
    "# norm_train_test_discard.loc[:, 'Z'] = norm_train_test_discard.loc[:, 'Z'].astype(bool)"
   ]
  },
  {
   "cell_type": "code",
   "execution_count": 55,
   "id": "ed544666",
   "metadata": {},
   "outputs": [],
   "source": [
    "pps_matrix = pps.matrix(norm_train_test_discard, random_seed=seed)[['x', 'y', 'ppscore']].pivot(columns='x', index='y', values='ppscore')"
   ]
  },
  {
   "cell_type": "code",
   "execution_count": 56,
   "id": "cd844a69",
   "metadata": {},
   "outputs": [
    {
     "data": {
      "text/plain": [
       "x         y      \n",
       "FUV_NUV   FUV_NUV    1.000000\n",
       "w2_w3     J_H        0.530378\n",
       "g_i       g_r        0.456272\n",
       "g_r       g_i        0.410228\n",
       "w2_w3     H_K        0.403484\n",
       "band_num  y/W2       0.327361\n",
       "g_i       r_i        0.309417\n",
       "y/W2      w1_w2      0.288436\n",
       "band_num  w1_w2      0.272429\n",
       "z_y       y/W2       0.255961\n",
       "band_num  w3_w4      0.250382\n",
       "z/W1      y/W2       0.231628\n",
       "Z         r_i        0.191553\n",
       "w1_w2     y/W2       0.177437\n",
       "band_num  w2_w3      0.175670\n",
       "w3_w4     w2_w3      0.174827\n",
       "          H_K        0.164874\n",
       "z_y       w1_w2      0.159792\n",
       "band_num  g_i        0.151520\n",
       "y/W2      z/W1       0.134207\n",
       "dtype: float64"
      ]
     },
     "execution_count": 56,
     "metadata": {},
     "output_type": "execute_result"
    }
   ],
   "source": [
    "pps_matrix.unstack().sort_values(ascending=False).drop_duplicates()[:20]"
   ]
  },
  {
   "cell_type": "code",
   "execution_count": 57,
   "id": "7fce5582",
   "metadata": {
    "jupyter": {
     "source_hidden": true
    },
    "tags": []
   },
   "outputs": [],
   "source": [
    "filt_high_pps = np.array(pps_matrix.abs().unstack().sort_values(ascending=False).drop_duplicates().values > 0.75) &\\\n",
    "np.array(pps_matrix.abs().unstack().sort_values(ascending=False).drop_duplicates().values < 1.00)"
   ]
  },
  {
   "cell_type": "code",
   "execution_count": 58,
   "id": "f27a7897",
   "metadata": {},
   "outputs": [],
   "source": [
    "pps_pairs     = pps_matrix.abs().unstack().sort_values(ascending=False).drop_duplicates().index[filt_high_pps]"
   ]
  },
  {
   "cell_type": "code",
   "execution_count": 59,
   "id": "e5ec003d",
   "metadata": {},
   "outputs": [],
   "source": [
    "target_feat = 'Z'"
   ]
  },
  {
   "cell_type": "code",
   "execution_count": 60,
   "id": "50f5401c",
   "metadata": {
    "tags": []
   },
   "outputs": [],
   "source": [
    "list_drop_pps = []"
   ]
  },
  {
   "cell_type": "code",
   "execution_count": 61,
   "id": "83439c07",
   "metadata": {
    "jupyter": {
     "source_hidden": true
    },
    "tags": []
   },
   "outputs": [],
   "source": [
    "for row in pps_pairs:\n",
    "    if target_feat in row:\n",
    "        continue\n",
    "    elif row[0] in list_drop_pps:\n",
    "        continue\n",
    "    elif row[1] in list_drop_pps:\n",
    "        continue\n",
    "    else:\n",
    "        metric_a = rsd_vals[row[0]]\n",
    "        metric_b = rsd_vals[row[1]]\n",
    "        if metric_a >= metric_b:\n",
    "            list_drop_pps.append(row[1])\n",
    "        else:\n",
    "            list_drop_pps.append(row[0])"
   ]
  },
  {
   "cell_type": "code",
   "execution_count": 62,
   "id": "97e0cf2a",
   "metadata": {},
   "outputs": [
    {
     "data": {
      "text/plain": [
       "[]"
      ]
     },
     "execution_count": 62,
     "metadata": {},
     "output_type": "execute_result"
    }
   ],
   "source": [
    "list_drop_pps"
   ]
  },
  {
   "cell_type": "code",
   "execution_count": 63,
   "id": "25be37a7",
   "metadata": {},
   "outputs": [],
   "source": [
    "norm_train_test_discard = norm_train_test_discard.drop(columns=list_drop_pps)"
   ]
  },
  {
   "cell_type": "code",
   "execution_count": 64,
   "id": "0382fddc",
   "metadata": {},
   "outputs": [],
   "source": [
    "pps_pred_target = pps.predictors(norm_train_test_discard, 'Z', random_seed=seed)"
   ]
  },
  {
   "cell_type": "code",
   "execution_count": 65,
   "id": "329175b4",
   "metadata": {},
   "outputs": [
    {
     "data": {
      "text/html": [
       "<div>\n",
       "<style scoped>\n",
       "    .dataframe tbody tr th:only-of-type {\n",
       "        vertical-align: middle;\n",
       "    }\n",
       "\n",
       "    .dataframe tbody tr th {\n",
       "        vertical-align: top;\n",
       "    }\n",
       "\n",
       "    .dataframe thead th {\n",
       "        text-align: right;\n",
       "    }\n",
       "</style>\n",
       "<table border=\"1\" class=\"dataframe\">\n",
       "  <thead>\n",
       "    <tr style=\"text-align: right;\">\n",
       "      <th></th>\n",
       "      <th>x</th>\n",
       "      <th>y</th>\n",
       "      <th>ppscore</th>\n",
       "      <th>case</th>\n",
       "      <th>is_valid_score</th>\n",
       "      <th>metric</th>\n",
       "      <th>baseline_score</th>\n",
       "      <th>model_score</th>\n",
       "      <th>model</th>\n",
       "    </tr>\n",
       "  </thead>\n",
       "  <tbody>\n",
       "    <tr>\n",
       "      <th>0</th>\n",
       "      <td>r_i</td>\n",
       "      <td>Z</td>\n",
       "      <td>0.110922</td>\n",
       "      <td>regression</td>\n",
       "      <td>True</td>\n",
       "      <td>mean absolute error</td>\n",
       "      <td>0.130386</td>\n",
       "      <td>0.115923</td>\n",
       "      <td>DecisionTreeRegressor()</td>\n",
       "    </tr>\n",
       "    <tr>\n",
       "      <th>1</th>\n",
       "      <td>band_num</td>\n",
       "      <td>Z</td>\n",
       "      <td>0.000000</td>\n",
       "      <td>regression</td>\n",
       "      <td>True</td>\n",
       "      <td>mean absolute error</td>\n",
       "      <td>0.130386</td>\n",
       "      <td>0.144132</td>\n",
       "      <td>DecisionTreeRegressor()</td>\n",
       "    </tr>\n",
       "    <tr>\n",
       "      <th>2</th>\n",
       "      <td>FUVmag</td>\n",
       "      <td>Z</td>\n",
       "      <td>0.000000</td>\n",
       "      <td>regression</td>\n",
       "      <td>True</td>\n",
       "      <td>mean absolute error</td>\n",
       "      <td>0.130386</td>\n",
       "      <td>0.151194</td>\n",
       "      <td>DecisionTreeRegressor()</td>\n",
       "    </tr>\n",
       "    <tr>\n",
       "      <th>3</th>\n",
       "      <td>NUVmag</td>\n",
       "      <td>Z</td>\n",
       "      <td>0.000000</td>\n",
       "      <td>regression</td>\n",
       "      <td>True</td>\n",
       "      <td>mean absolute error</td>\n",
       "      <td>0.130386</td>\n",
       "      <td>0.151194</td>\n",
       "      <td>DecisionTreeRegressor()</td>\n",
       "    </tr>\n",
       "    <tr>\n",
       "      <th>4</th>\n",
       "      <td>W4mag</td>\n",
       "      <td>Z</td>\n",
       "      <td>0.000000</td>\n",
       "      <td>regression</td>\n",
       "      <td>True</td>\n",
       "      <td>mean absolute error</td>\n",
       "      <td>0.130386</td>\n",
       "      <td>0.166726</td>\n",
       "      <td>DecisionTreeRegressor()</td>\n",
       "    </tr>\n",
       "    <tr>\n",
       "      <th>5</th>\n",
       "      <td>g_r</td>\n",
       "      <td>Z</td>\n",
       "      <td>0.000000</td>\n",
       "      <td>regression</td>\n",
       "      <td>True</td>\n",
       "      <td>mean absolute error</td>\n",
       "      <td>0.130386</td>\n",
       "      <td>0.163829</td>\n",
       "      <td>DecisionTreeRegressor()</td>\n",
       "    </tr>\n",
       "    <tr>\n",
       "      <th>6</th>\n",
       "      <td>i_z</td>\n",
       "      <td>Z</td>\n",
       "      <td>0.000000</td>\n",
       "      <td>regression</td>\n",
       "      <td>True</td>\n",
       "      <td>mean absolute error</td>\n",
       "      <td>0.130386</td>\n",
       "      <td>0.162226</td>\n",
       "      <td>DecisionTreeRegressor()</td>\n",
       "    </tr>\n",
       "    <tr>\n",
       "      <th>7</th>\n",
       "      <td>z_y</td>\n",
       "      <td>Z</td>\n",
       "      <td>0.000000</td>\n",
       "      <td>regression</td>\n",
       "      <td>True</td>\n",
       "      <td>mean absolute error</td>\n",
       "      <td>0.130386</td>\n",
       "      <td>0.203887</td>\n",
       "      <td>DecisionTreeRegressor()</td>\n",
       "    </tr>\n",
       "    <tr>\n",
       "      <th>8</th>\n",
       "      <td>g_i</td>\n",
       "      <td>Z</td>\n",
       "      <td>0.000000</td>\n",
       "      <td>regression</td>\n",
       "      <td>True</td>\n",
       "      <td>mean absolute error</td>\n",
       "      <td>0.130386</td>\n",
       "      <td>0.139682</td>\n",
       "      <td>DecisionTreeRegressor()</td>\n",
       "    </tr>\n",
       "    <tr>\n",
       "      <th>9</th>\n",
       "      <td>w1_w2</td>\n",
       "      <td>Z</td>\n",
       "      <td>0.000000</td>\n",
       "      <td>regression</td>\n",
       "      <td>True</td>\n",
       "      <td>mean absolute error</td>\n",
       "      <td>0.130386</td>\n",
       "      <td>0.140517</td>\n",
       "      <td>DecisionTreeRegressor()</td>\n",
       "    </tr>\n",
       "    <tr>\n",
       "      <th>10</th>\n",
       "      <td>w2_w3</td>\n",
       "      <td>Z</td>\n",
       "      <td>0.000000</td>\n",
       "      <td>regression</td>\n",
       "      <td>True</td>\n",
       "      <td>mean absolute error</td>\n",
       "      <td>0.130386</td>\n",
       "      <td>0.204566</td>\n",
       "      <td>DecisionTreeRegressor()</td>\n",
       "    </tr>\n",
       "    <tr>\n",
       "      <th>11</th>\n",
       "      <td>w3_w4</td>\n",
       "      <td>Z</td>\n",
       "      <td>0.000000</td>\n",
       "      <td>regression</td>\n",
       "      <td>True</td>\n",
       "      <td>mean absolute error</td>\n",
       "      <td>0.130386</td>\n",
       "      <td>0.177394</td>\n",
       "      <td>DecisionTreeRegressor()</td>\n",
       "    </tr>\n",
       "    <tr>\n",
       "      <th>12</th>\n",
       "      <td>J_H</td>\n",
       "      <td>Z</td>\n",
       "      <td>0.000000</td>\n",
       "      <td>regression</td>\n",
       "      <td>True</td>\n",
       "      <td>mean absolute error</td>\n",
       "      <td>0.130386</td>\n",
       "      <td>0.152095</td>\n",
       "      <td>DecisionTreeRegressor()</td>\n",
       "    </tr>\n",
       "    <tr>\n",
       "      <th>13</th>\n",
       "      <td>H_K</td>\n",
       "      <td>Z</td>\n",
       "      <td>0.000000</td>\n",
       "      <td>regression</td>\n",
       "      <td>True</td>\n",
       "      <td>mean absolute error</td>\n",
       "      <td>0.130386</td>\n",
       "      <td>0.156317</td>\n",
       "      <td>DecisionTreeRegressor()</td>\n",
       "    </tr>\n",
       "    <tr>\n",
       "      <th>14</th>\n",
       "      <td>FUV_NUV</td>\n",
       "      <td>Z</td>\n",
       "      <td>0.000000</td>\n",
       "      <td>regression</td>\n",
       "      <td>True</td>\n",
       "      <td>mean absolute error</td>\n",
       "      <td>0.130386</td>\n",
       "      <td>0.151194</td>\n",
       "      <td>DecisionTreeRegressor()</td>\n",
       "    </tr>\n",
       "    <tr>\n",
       "      <th>15</th>\n",
       "      <td>z/W1</td>\n",
       "      <td>Z</td>\n",
       "      <td>0.000000</td>\n",
       "      <td>regression</td>\n",
       "      <td>True</td>\n",
       "      <td>mean absolute error</td>\n",
       "      <td>0.130386</td>\n",
       "      <td>0.219181</td>\n",
       "      <td>DecisionTreeRegressor()</td>\n",
       "    </tr>\n",
       "    <tr>\n",
       "      <th>16</th>\n",
       "      <td>y/W2</td>\n",
       "      <td>Z</td>\n",
       "      <td>0.000000</td>\n",
       "      <td>regression</td>\n",
       "      <td>True</td>\n",
       "      <td>mean absolute error</td>\n",
       "      <td>0.130386</td>\n",
       "      <td>0.173006</td>\n",
       "      <td>DecisionTreeRegressor()</td>\n",
       "    </tr>\n",
       "  </tbody>\n",
       "</table>\n",
       "</div>"
      ],
      "text/plain": [
       "           x  y   ppscore        case  is_valid_score               metric  \\\n",
       "0        r_i  Z  0.110922  regression            True  mean absolute error   \n",
       "1   band_num  Z  0.000000  regression            True  mean absolute error   \n",
       "2     FUVmag  Z  0.000000  regression            True  mean absolute error   \n",
       "3     NUVmag  Z  0.000000  regression            True  mean absolute error   \n",
       "4      W4mag  Z  0.000000  regression            True  mean absolute error   \n",
       "5        g_r  Z  0.000000  regression            True  mean absolute error   \n",
       "6        i_z  Z  0.000000  regression            True  mean absolute error   \n",
       "7        z_y  Z  0.000000  regression            True  mean absolute error   \n",
       "8        g_i  Z  0.000000  regression            True  mean absolute error   \n",
       "9      w1_w2  Z  0.000000  regression            True  mean absolute error   \n",
       "10     w2_w3  Z  0.000000  regression            True  mean absolute error   \n",
       "11     w3_w4  Z  0.000000  regression            True  mean absolute error   \n",
       "12       J_H  Z  0.000000  regression            True  mean absolute error   \n",
       "13       H_K  Z  0.000000  regression            True  mean absolute error   \n",
       "14   FUV_NUV  Z  0.000000  regression            True  mean absolute error   \n",
       "15      z/W1  Z  0.000000  regression            True  mean absolute error   \n",
       "16      y/W2  Z  0.000000  regression            True  mean absolute error   \n",
       "\n",
       "    baseline_score  model_score                    model  \n",
       "0         0.130386     0.115923  DecisionTreeRegressor()  \n",
       "1         0.130386     0.144132  DecisionTreeRegressor()  \n",
       "2         0.130386     0.151194  DecisionTreeRegressor()  \n",
       "3         0.130386     0.151194  DecisionTreeRegressor()  \n",
       "4         0.130386     0.166726  DecisionTreeRegressor()  \n",
       "5         0.130386     0.163829  DecisionTreeRegressor()  \n",
       "6         0.130386     0.162226  DecisionTreeRegressor()  \n",
       "7         0.130386     0.203887  DecisionTreeRegressor()  \n",
       "8         0.130386     0.139682  DecisionTreeRegressor()  \n",
       "9         0.130386     0.140517  DecisionTreeRegressor()  \n",
       "10        0.130386     0.204566  DecisionTreeRegressor()  \n",
       "11        0.130386     0.177394  DecisionTreeRegressor()  \n",
       "12        0.130386     0.152095  DecisionTreeRegressor()  \n",
       "13        0.130386     0.156317  DecisionTreeRegressor()  \n",
       "14        0.130386     0.151194  DecisionTreeRegressor()  \n",
       "15        0.130386     0.219181  DecisionTreeRegressor()  \n",
       "16        0.130386     0.173006  DecisionTreeRegressor()  "
      ]
     },
     "execution_count": 65,
     "metadata": {},
     "output_type": "execute_result"
    }
   ],
   "source": [
    "pps_pred_target"
   ]
  },
  {
   "cell_type": "markdown",
   "id": "23cdb7d9",
   "metadata": {
    "id": "f567638a-2720-4d09-8fc4-0832c0307148"
   },
   "source": [
    "---"
   ]
  },
  {
   "cell_type": "markdown",
   "id": "567954b5",
   "metadata": {
    "id": "1b55b413-36ea-4c3a-b261-ae4f4b71045d"
   },
   "source": [
    "## Use Machine Learning (ML): PyCaret"
   ]
  },
  {
   "cell_type": "markdown",
   "id": "6fbad4b2",
   "metadata": {
    "id": "8BFUMLcApfnI"
   },
   "source": [
    "## Train Models"
   ]
  },
  {
   "cell_type": "markdown",
   "id": "53d1e672",
   "metadata": {
    "id": "L0rK_gTcprFK"
   },
   "source": [
    "### AGN Detection Prediction"
   ]
  },
  {
   "cell_type": "code",
   "execution_count": 66,
   "id": "06f181b6",
   "metadata": {},
   "outputs": [],
   "source": [
    "final_feats = pps_pred_target.x.to_list()  # Before Boruta\n",
    "# # z >= 3.7\n",
    "final_feats.remove('band_num')  # After Boruta\n",
    "final_feats.remove('FUVmag')  # After Boruta\n",
    "final_feats.remove('NUVmag')  # After Boruta\n",
    "final_feats.remove('W4mag')  # After Boruta\n",
    "final_feats.remove('g_r')  # After Boruta\n",
    "final_feats.remove('w2_w3')  # After Boruta\n",
    "final_feats.remove('w3_w4')  # After Boruta\n",
    "final_feats.remove('J_H')  # After Boruta\n",
    "final_feats.remove('H_K')  # After Boruta\n",
    "final_feats.remove('FUV_NUV')  # After Boruta\n",
    "final_feats.remove('z/W1')  # After Boruta\n",
    "final_feats.remove('y/W2')  # After Boruta\n",
    "# # z >= 4\n",
    "# final_feats.remove('g_r')  # After Boruta\n",
    "# final_feats.remove('band_num')  # After Boruta\n",
    "# final_feats.remove('FUVmag')  # After Boruta\n",
    "# final_feats.remove('NUVmag')  # After Boruta\n",
    "# final_feats.remove('Jmag')  # After Boruta\n",
    "# final_feats.remove('Hmag')  # After Boruta\n",
    "# final_feats.remove('Kmag')  # After Boruta\n",
    "# final_feats.remove('w1_w2')  # After Boruta\n",
    "# final_feats.remove('w2_w3')  # After Boruta\n",
    "# final_feats.remove('w3_w4')  # After Boruta\n",
    "# final_feats.remove('J_H')  # After Boruta\n",
    "# final_feats.remove('H_K')  # After Boruta\n",
    "# final_feats.remove('FUV_NUV')  # After Boruta\n",
    "# final_feats.remove('J/K')  # After Boruta\n",
    "# final_feats.remove('FUV/K')  # After Boruta\n",
    "# final_feats.remove('y/W2')  # After Boruta"
   ]
  },
  {
   "cell_type": "code",
   "execution_count": 67,
   "id": "25e31706",
   "metadata": {},
   "outputs": [],
   "source": [
    "# z >= 3.7\n",
    "feats_2_discard = list_drop_corr + list_drop_pps + ['band_num', 'FUVmag', 'NUVmag', 'W4mag', 'g_r', 'w2_w3',\\\n",
    "                                                    'w3_w4', 'J_H', 'H_K', 'FUV_NUV', 'z/W1', 'y/W2']\n",
    "# z >= 4\n",
    "# feats_2_discard = list_drop_corr + list_drop_pps + ['g_r', 'band_num', 'FUVmag', 'NUVmag', 'Jmag',\\\n",
    "#                                                     'Hmag', 'Kmag', 'w1_w2', 'w2_w3', 'w3_w4', 'J_H',\\\n",
    "#                                                     'H_K', 'FUV_NUV', 'J/K', 'FUV/K', 'y/W2']"
   ]
  },
  {
   "cell_type": "markdown",
   "id": "bbe98af2",
   "metadata": {},
   "source": [
    "Boruta discards one feature."
   ]
  },
  {
   "cell_type": "code",
   "execution_count": 68,
   "id": "777af2f7",
   "metadata": {
    "id": "ttLEcpmVst4j"
   },
   "outputs": [
    {
     "data": {
      "text/html": [
       "<style type=\"text/css\">\n",
       "#T_aa143_row27_col1, #T_aa143_row29_col1, #T_aa143_row42_col1 {\n",
       "  background-color: lightgreen;\n",
       "}\n",
       "</style>\n",
       "<table id=\"T_aa143\">\n",
       "  <thead>\n",
       "    <tr>\n",
       "      <th class=\"blank level0\" >&nbsp;</th>\n",
       "      <th id=\"T_aa143_level0_col0\" class=\"col_heading level0 col0\" >Description</th>\n",
       "      <th id=\"T_aa143_level0_col1\" class=\"col_heading level0 col1\" >Value</th>\n",
       "    </tr>\n",
       "  </thead>\n",
       "  <tbody>\n",
       "    <tr>\n",
       "      <th id=\"T_aa143_level0_row0\" class=\"row_heading level0 row0\" >0</th>\n",
       "      <td id=\"T_aa143_row0_col0\" class=\"data row0 col0\" >session_id</td>\n",
       "      <td id=\"T_aa143_row0_col1\" class=\"data row0 col1\" >42</td>\n",
       "    </tr>\n",
       "    <tr>\n",
       "      <th id=\"T_aa143_level0_row1\" class=\"row_heading level0 row1\" >1</th>\n",
       "      <td id=\"T_aa143_row1_col0\" class=\"data row1 col0\" >Target</td>\n",
       "      <td id=\"T_aa143_row1_col1\" class=\"data row1 col1\" >Z</td>\n",
       "    </tr>\n",
       "    <tr>\n",
       "      <th id=\"T_aa143_level0_row2\" class=\"row_heading level0 row2\" >2</th>\n",
       "      <td id=\"T_aa143_row2_col0\" class=\"data row2 col0\" >Original Data</td>\n",
       "      <td id=\"T_aa143_row2_col1\" class=\"data row2 col1\" >(58, 39)</td>\n",
       "    </tr>\n",
       "    <tr>\n",
       "      <th id=\"T_aa143_level0_row3\" class=\"row_heading level0 row3\" >3</th>\n",
       "      <td id=\"T_aa143_row3_col0\" class=\"data row3 col0\" >Missing Values</td>\n",
       "      <td id=\"T_aa143_row3_col1\" class=\"data row3 col1\" >False</td>\n",
       "    </tr>\n",
       "    <tr>\n",
       "      <th id=\"T_aa143_level0_row4\" class=\"row_heading level0 row4\" >4</th>\n",
       "      <td id=\"T_aa143_row4_col0\" class=\"data row4 col0\" >Numeric Features</td>\n",
       "      <td id=\"T_aa143_row4_col1\" class=\"data row4 col1\" >5</td>\n",
       "    </tr>\n",
       "    <tr>\n",
       "      <th id=\"T_aa143_level0_row5\" class=\"row_heading level0 row5\" >5</th>\n",
       "      <td id=\"T_aa143_row5_col0\" class=\"data row5 col0\" >Categorical Features</td>\n",
       "      <td id=\"T_aa143_row5_col1\" class=\"data row5 col1\" >0</td>\n",
       "    </tr>\n",
       "    <tr>\n",
       "      <th id=\"T_aa143_level0_row6\" class=\"row_heading level0 row6\" >6</th>\n",
       "      <td id=\"T_aa143_row6_col0\" class=\"data row6 col0\" >Ordinal Features</td>\n",
       "      <td id=\"T_aa143_row6_col1\" class=\"data row6 col1\" >False</td>\n",
       "    </tr>\n",
       "    <tr>\n",
       "      <th id=\"T_aa143_level0_row7\" class=\"row_heading level0 row7\" >7</th>\n",
       "      <td id=\"T_aa143_row7_col0\" class=\"data row7 col0\" >High Cardinality Features</td>\n",
       "      <td id=\"T_aa143_row7_col1\" class=\"data row7 col1\" >False</td>\n",
       "    </tr>\n",
       "    <tr>\n",
       "      <th id=\"T_aa143_level0_row8\" class=\"row_heading level0 row8\" >8</th>\n",
       "      <td id=\"T_aa143_row8_col0\" class=\"data row8 col0\" >High Cardinality Method</td>\n",
       "      <td id=\"T_aa143_row8_col1\" class=\"data row8 col1\" >None</td>\n",
       "    </tr>\n",
       "    <tr>\n",
       "      <th id=\"T_aa143_level0_row9\" class=\"row_heading level0 row9\" >9</th>\n",
       "      <td id=\"T_aa143_row9_col0\" class=\"data row9 col0\" >Transformed Train Set</td>\n",
       "      <td id=\"T_aa143_row9_col1\" class=\"data row9 col1\" >(40, 5)</td>\n",
       "    </tr>\n",
       "    <tr>\n",
       "      <th id=\"T_aa143_level0_row10\" class=\"row_heading level0 row10\" >10</th>\n",
       "      <td id=\"T_aa143_row10_col0\" class=\"data row10 col0\" >Transformed Test Set</td>\n",
       "      <td id=\"T_aa143_row10_col1\" class=\"data row10 col1\" >(18, 5)</td>\n",
       "    </tr>\n",
       "    <tr>\n",
       "      <th id=\"T_aa143_level0_row11\" class=\"row_heading level0 row11\" >11</th>\n",
       "      <td id=\"T_aa143_row11_col0\" class=\"data row11 col0\" >Shuffle Train-Test</td>\n",
       "      <td id=\"T_aa143_row11_col1\" class=\"data row11 col1\" >True</td>\n",
       "    </tr>\n",
       "    <tr>\n",
       "      <th id=\"T_aa143_level0_row12\" class=\"row_heading level0 row12\" >12</th>\n",
       "      <td id=\"T_aa143_row12_col0\" class=\"data row12 col0\" >Stratify Train-Test</td>\n",
       "      <td id=\"T_aa143_row12_col1\" class=\"data row12 col1\" >False</td>\n",
       "    </tr>\n",
       "    <tr>\n",
       "      <th id=\"T_aa143_level0_row13\" class=\"row_heading level0 row13\" >13</th>\n",
       "      <td id=\"T_aa143_row13_col0\" class=\"data row13 col0\" >Fold Generator</td>\n",
       "      <td id=\"T_aa143_row13_col1\" class=\"data row13 col1\" >KFold</td>\n",
       "    </tr>\n",
       "    <tr>\n",
       "      <th id=\"T_aa143_level0_row14\" class=\"row_heading level0 row14\" >14</th>\n",
       "      <td id=\"T_aa143_row14_col0\" class=\"data row14 col0\" >Fold Number</td>\n",
       "      <td id=\"T_aa143_row14_col1\" class=\"data row14 col1\" >10</td>\n",
       "    </tr>\n",
       "    <tr>\n",
       "      <th id=\"T_aa143_level0_row15\" class=\"row_heading level0 row15\" >15</th>\n",
       "      <td id=\"T_aa143_row15_col0\" class=\"data row15 col0\" >CPU Jobs</td>\n",
       "      <td id=\"T_aa143_row15_col1\" class=\"data row15 col1\" >12</td>\n",
       "    </tr>\n",
       "    <tr>\n",
       "      <th id=\"T_aa143_level0_row16\" class=\"row_heading level0 row16\" >16</th>\n",
       "      <td id=\"T_aa143_row16_col0\" class=\"data row16 col0\" >Use GPU</td>\n",
       "      <td id=\"T_aa143_row16_col1\" class=\"data row16 col1\" >False</td>\n",
       "    </tr>\n",
       "    <tr>\n",
       "      <th id=\"T_aa143_level0_row17\" class=\"row_heading level0 row17\" >17</th>\n",
       "      <td id=\"T_aa143_row17_col0\" class=\"data row17 col0\" >Log Experiment</td>\n",
       "      <td id=\"T_aa143_row17_col1\" class=\"data row17 col1\" >False</td>\n",
       "    </tr>\n",
       "    <tr>\n",
       "      <th id=\"T_aa143_level0_row18\" class=\"row_heading level0 row18\" >18</th>\n",
       "      <td id=\"T_aa143_row18_col0\" class=\"data row18 col0\" >Experiment Name</td>\n",
       "      <td id=\"T_aa143_row18_col1\" class=\"data row18 col1\" >reg-default-name</td>\n",
       "    </tr>\n",
       "    <tr>\n",
       "      <th id=\"T_aa143_level0_row19\" class=\"row_heading level0 row19\" >19</th>\n",
       "      <td id=\"T_aa143_row19_col0\" class=\"data row19 col0\" >USI</td>\n",
       "      <td id=\"T_aa143_row19_col1\" class=\"data row19 col1\" >b273</td>\n",
       "    </tr>\n",
       "    <tr>\n",
       "      <th id=\"T_aa143_level0_row20\" class=\"row_heading level0 row20\" >20</th>\n",
       "      <td id=\"T_aa143_row20_col0\" class=\"data row20 col0\" >Imputation Type</td>\n",
       "      <td id=\"T_aa143_row20_col1\" class=\"data row20 col1\" >simple</td>\n",
       "    </tr>\n",
       "    <tr>\n",
       "      <th id=\"T_aa143_level0_row21\" class=\"row_heading level0 row21\" >21</th>\n",
       "      <td id=\"T_aa143_row21_col0\" class=\"data row21 col0\" >Iterative Imputation Iteration</td>\n",
       "      <td id=\"T_aa143_row21_col1\" class=\"data row21 col1\" >None</td>\n",
       "    </tr>\n",
       "    <tr>\n",
       "      <th id=\"T_aa143_level0_row22\" class=\"row_heading level0 row22\" >22</th>\n",
       "      <td id=\"T_aa143_row22_col0\" class=\"data row22 col0\" >Numeric Imputer</td>\n",
       "      <td id=\"T_aa143_row22_col1\" class=\"data row22 col1\" >mean</td>\n",
       "    </tr>\n",
       "    <tr>\n",
       "      <th id=\"T_aa143_level0_row23\" class=\"row_heading level0 row23\" >23</th>\n",
       "      <td id=\"T_aa143_row23_col0\" class=\"data row23 col0\" >Iterative Imputation Numeric Model</td>\n",
       "      <td id=\"T_aa143_row23_col1\" class=\"data row23 col1\" >None</td>\n",
       "    </tr>\n",
       "    <tr>\n",
       "      <th id=\"T_aa143_level0_row24\" class=\"row_heading level0 row24\" >24</th>\n",
       "      <td id=\"T_aa143_row24_col0\" class=\"data row24 col0\" >Categorical Imputer</td>\n",
       "      <td id=\"T_aa143_row24_col1\" class=\"data row24 col1\" >constant</td>\n",
       "    </tr>\n",
       "    <tr>\n",
       "      <th id=\"T_aa143_level0_row25\" class=\"row_heading level0 row25\" >25</th>\n",
       "      <td id=\"T_aa143_row25_col0\" class=\"data row25 col0\" >Iterative Imputation Categorical Model</td>\n",
       "      <td id=\"T_aa143_row25_col1\" class=\"data row25 col1\" >None</td>\n",
       "    </tr>\n",
       "    <tr>\n",
       "      <th id=\"T_aa143_level0_row26\" class=\"row_heading level0 row26\" >26</th>\n",
       "      <td id=\"T_aa143_row26_col0\" class=\"data row26 col0\" >Unknown Categoricals Handling</td>\n",
       "      <td id=\"T_aa143_row26_col1\" class=\"data row26 col1\" >least_frequent</td>\n",
       "    </tr>\n",
       "    <tr>\n",
       "      <th id=\"T_aa143_level0_row27\" class=\"row_heading level0 row27\" >27</th>\n",
       "      <td id=\"T_aa143_row27_col0\" class=\"data row27 col0\" >Normalize</td>\n",
       "      <td id=\"T_aa143_row27_col1\" class=\"data row27 col1\" >True</td>\n",
       "    </tr>\n",
       "    <tr>\n",
       "      <th id=\"T_aa143_level0_row28\" class=\"row_heading level0 row28\" >28</th>\n",
       "      <td id=\"T_aa143_row28_col0\" class=\"data row28 col0\" >Normalize Method</td>\n",
       "      <td id=\"T_aa143_row28_col1\" class=\"data row28 col1\" >zscore</td>\n",
       "    </tr>\n",
       "    <tr>\n",
       "      <th id=\"T_aa143_level0_row29\" class=\"row_heading level0 row29\" >29</th>\n",
       "      <td id=\"T_aa143_row29_col0\" class=\"data row29 col0\" >Transformation</td>\n",
       "      <td id=\"T_aa143_row29_col1\" class=\"data row29 col1\" >True</td>\n",
       "    </tr>\n",
       "    <tr>\n",
       "      <th id=\"T_aa143_level0_row30\" class=\"row_heading level0 row30\" >30</th>\n",
       "      <td id=\"T_aa143_row30_col0\" class=\"data row30 col0\" >Transformation Method</td>\n",
       "      <td id=\"T_aa143_row30_col1\" class=\"data row30 col1\" >yeo-johnson</td>\n",
       "    </tr>\n",
       "    <tr>\n",
       "      <th id=\"T_aa143_level0_row31\" class=\"row_heading level0 row31\" >31</th>\n",
       "      <td id=\"T_aa143_row31_col0\" class=\"data row31 col0\" >PCA</td>\n",
       "      <td id=\"T_aa143_row31_col1\" class=\"data row31 col1\" >False</td>\n",
       "    </tr>\n",
       "    <tr>\n",
       "      <th id=\"T_aa143_level0_row32\" class=\"row_heading level0 row32\" >32</th>\n",
       "      <td id=\"T_aa143_row32_col0\" class=\"data row32 col0\" >PCA Method</td>\n",
       "      <td id=\"T_aa143_row32_col1\" class=\"data row32 col1\" >None</td>\n",
       "    </tr>\n",
       "    <tr>\n",
       "      <th id=\"T_aa143_level0_row33\" class=\"row_heading level0 row33\" >33</th>\n",
       "      <td id=\"T_aa143_row33_col0\" class=\"data row33 col0\" >PCA Components</td>\n",
       "      <td id=\"T_aa143_row33_col1\" class=\"data row33 col1\" >None</td>\n",
       "    </tr>\n",
       "    <tr>\n",
       "      <th id=\"T_aa143_level0_row34\" class=\"row_heading level0 row34\" >34</th>\n",
       "      <td id=\"T_aa143_row34_col0\" class=\"data row34 col0\" >Ignore Low Variance</td>\n",
       "      <td id=\"T_aa143_row34_col1\" class=\"data row34 col1\" >False</td>\n",
       "    </tr>\n",
       "    <tr>\n",
       "      <th id=\"T_aa143_level0_row35\" class=\"row_heading level0 row35\" >35</th>\n",
       "      <td id=\"T_aa143_row35_col0\" class=\"data row35 col0\" >Combine Rare Levels</td>\n",
       "      <td id=\"T_aa143_row35_col1\" class=\"data row35 col1\" >False</td>\n",
       "    </tr>\n",
       "    <tr>\n",
       "      <th id=\"T_aa143_level0_row36\" class=\"row_heading level0 row36\" >36</th>\n",
       "      <td id=\"T_aa143_row36_col0\" class=\"data row36 col0\" >Rare Level Threshold</td>\n",
       "      <td id=\"T_aa143_row36_col1\" class=\"data row36 col1\" >None</td>\n",
       "    </tr>\n",
       "    <tr>\n",
       "      <th id=\"T_aa143_level0_row37\" class=\"row_heading level0 row37\" >37</th>\n",
       "      <td id=\"T_aa143_row37_col0\" class=\"data row37 col0\" >Numeric Binning</td>\n",
       "      <td id=\"T_aa143_row37_col1\" class=\"data row37 col1\" >False</td>\n",
       "    </tr>\n",
       "    <tr>\n",
       "      <th id=\"T_aa143_level0_row38\" class=\"row_heading level0 row38\" >38</th>\n",
       "      <td id=\"T_aa143_row38_col0\" class=\"data row38 col0\" >Remove Outliers</td>\n",
       "      <td id=\"T_aa143_row38_col1\" class=\"data row38 col1\" >False</td>\n",
       "    </tr>\n",
       "    <tr>\n",
       "      <th id=\"T_aa143_level0_row39\" class=\"row_heading level0 row39\" >39</th>\n",
       "      <td id=\"T_aa143_row39_col0\" class=\"data row39 col0\" >Outliers Threshold</td>\n",
       "      <td id=\"T_aa143_row39_col1\" class=\"data row39 col1\" >None</td>\n",
       "    </tr>\n",
       "    <tr>\n",
       "      <th id=\"T_aa143_level0_row40\" class=\"row_heading level0 row40\" >40</th>\n",
       "      <td id=\"T_aa143_row40_col0\" class=\"data row40 col0\" >Remove Multicollinearity</td>\n",
       "      <td id=\"T_aa143_row40_col1\" class=\"data row40 col1\" >False</td>\n",
       "    </tr>\n",
       "    <tr>\n",
       "      <th id=\"T_aa143_level0_row41\" class=\"row_heading level0 row41\" >41</th>\n",
       "      <td id=\"T_aa143_row41_col0\" class=\"data row41 col0\" >Multicollinearity Threshold</td>\n",
       "      <td id=\"T_aa143_row41_col1\" class=\"data row41 col1\" >None</td>\n",
       "    </tr>\n",
       "    <tr>\n",
       "      <th id=\"T_aa143_level0_row42\" class=\"row_heading level0 row42\" >42</th>\n",
       "      <td id=\"T_aa143_row42_col0\" class=\"data row42 col0\" >Remove Perfect Collinearity</td>\n",
       "      <td id=\"T_aa143_row42_col1\" class=\"data row42 col1\" >True</td>\n",
       "    </tr>\n",
       "    <tr>\n",
       "      <th id=\"T_aa143_level0_row43\" class=\"row_heading level0 row43\" >43</th>\n",
       "      <td id=\"T_aa143_row43_col0\" class=\"data row43 col0\" >Clustering</td>\n",
       "      <td id=\"T_aa143_row43_col1\" class=\"data row43 col1\" >False</td>\n",
       "    </tr>\n",
       "    <tr>\n",
       "      <th id=\"T_aa143_level0_row44\" class=\"row_heading level0 row44\" >44</th>\n",
       "      <td id=\"T_aa143_row44_col0\" class=\"data row44 col0\" >Clustering Iteration</td>\n",
       "      <td id=\"T_aa143_row44_col1\" class=\"data row44 col1\" >None</td>\n",
       "    </tr>\n",
       "    <tr>\n",
       "      <th id=\"T_aa143_level0_row45\" class=\"row_heading level0 row45\" >45</th>\n",
       "      <td id=\"T_aa143_row45_col0\" class=\"data row45 col0\" >Polynomial Features</td>\n",
       "      <td id=\"T_aa143_row45_col1\" class=\"data row45 col1\" >False</td>\n",
       "    </tr>\n",
       "    <tr>\n",
       "      <th id=\"T_aa143_level0_row46\" class=\"row_heading level0 row46\" >46</th>\n",
       "      <td id=\"T_aa143_row46_col0\" class=\"data row46 col0\" >Polynomial Degree</td>\n",
       "      <td id=\"T_aa143_row46_col1\" class=\"data row46 col1\" >None</td>\n",
       "    </tr>\n",
       "    <tr>\n",
       "      <th id=\"T_aa143_level0_row47\" class=\"row_heading level0 row47\" >47</th>\n",
       "      <td id=\"T_aa143_row47_col0\" class=\"data row47 col0\" >Trignometry Features</td>\n",
       "      <td id=\"T_aa143_row47_col1\" class=\"data row47 col1\" >False</td>\n",
       "    </tr>\n",
       "    <tr>\n",
       "      <th id=\"T_aa143_level0_row48\" class=\"row_heading level0 row48\" >48</th>\n",
       "      <td id=\"T_aa143_row48_col0\" class=\"data row48 col0\" >Polynomial Threshold</td>\n",
       "      <td id=\"T_aa143_row48_col1\" class=\"data row48 col1\" >None</td>\n",
       "    </tr>\n",
       "    <tr>\n",
       "      <th id=\"T_aa143_level0_row49\" class=\"row_heading level0 row49\" >49</th>\n",
       "      <td id=\"T_aa143_row49_col0\" class=\"data row49 col0\" >Group Features</td>\n",
       "      <td id=\"T_aa143_row49_col1\" class=\"data row49 col1\" >False</td>\n",
       "    </tr>\n",
       "    <tr>\n",
       "      <th id=\"T_aa143_level0_row50\" class=\"row_heading level0 row50\" >50</th>\n",
       "      <td id=\"T_aa143_row50_col0\" class=\"data row50 col0\" >Feature Selection</td>\n",
       "      <td id=\"T_aa143_row50_col1\" class=\"data row50 col1\" >False</td>\n",
       "    </tr>\n",
       "    <tr>\n",
       "      <th id=\"T_aa143_level0_row51\" class=\"row_heading level0 row51\" >51</th>\n",
       "      <td id=\"T_aa143_row51_col0\" class=\"data row51 col0\" >Feature Selection Method</td>\n",
       "      <td id=\"T_aa143_row51_col1\" class=\"data row51 col1\" >boruta</td>\n",
       "    </tr>\n",
       "    <tr>\n",
       "      <th id=\"T_aa143_level0_row52\" class=\"row_heading level0 row52\" >52</th>\n",
       "      <td id=\"T_aa143_row52_col0\" class=\"data row52 col0\" >Features Selection Threshold</td>\n",
       "      <td id=\"T_aa143_row52_col1\" class=\"data row52 col1\" >None</td>\n",
       "    </tr>\n",
       "    <tr>\n",
       "      <th id=\"T_aa143_level0_row53\" class=\"row_heading level0 row53\" >53</th>\n",
       "      <td id=\"T_aa143_row53_col0\" class=\"data row53 col0\" >Feature Interaction</td>\n",
       "      <td id=\"T_aa143_row53_col1\" class=\"data row53 col1\" >False</td>\n",
       "    </tr>\n",
       "    <tr>\n",
       "      <th id=\"T_aa143_level0_row54\" class=\"row_heading level0 row54\" >54</th>\n",
       "      <td id=\"T_aa143_row54_col0\" class=\"data row54 col0\" >Feature Ratio</td>\n",
       "      <td id=\"T_aa143_row54_col1\" class=\"data row54 col1\" >False</td>\n",
       "    </tr>\n",
       "    <tr>\n",
       "      <th id=\"T_aa143_level0_row55\" class=\"row_heading level0 row55\" >55</th>\n",
       "      <td id=\"T_aa143_row55_col0\" class=\"data row55 col0\" >Interaction Threshold</td>\n",
       "      <td id=\"T_aa143_row55_col1\" class=\"data row55 col1\" >None</td>\n",
       "    </tr>\n",
       "    <tr>\n",
       "      <th id=\"T_aa143_level0_row56\" class=\"row_heading level0 row56\" >56</th>\n",
       "      <td id=\"T_aa143_row56_col0\" class=\"data row56 col0\" >Transform Target</td>\n",
       "      <td id=\"T_aa143_row56_col1\" class=\"data row56 col1\" >False</td>\n",
       "    </tr>\n",
       "    <tr>\n",
       "      <th id=\"T_aa143_level0_row57\" class=\"row_heading level0 row57\" >57</th>\n",
       "      <td id=\"T_aa143_row57_col0\" class=\"data row57 col0\" >Transform Target Method</td>\n",
       "      <td id=\"T_aa143_row57_col1\" class=\"data row57 col1\" >box-cox</td>\n",
       "    </tr>\n",
       "  </tbody>\n",
       "</table>\n"
      ],
      "text/plain": [
       "<pandas.io.formats.style.Styler at 0x7f78fb1522e0>"
      ]
     },
     "metadata": {},
     "output_type": "display_data"
    }
   ],
   "source": [
    "exp_radio = pyr.setup(data=train_test_df, target='Z', session_id=seed, silent=True,\\\n",
    "                    feature_selection=False, feature_selection_method='boruta',\\\n",
    "                    numeric_features=final_feats, ignore_features=feats_2_discard, transformation=True,\\\n",
    "                    transformation_method='yeo-johnson', n_jobs=12, normalize=True,\\\n",
    "                    normalize_method='zscore', use_gpu=False)  # 15 minutes with Boruta # 5 without"
   ]
  },
  {
   "cell_type": "code",
   "execution_count": 69,
   "id": "c2ceddd4",
   "metadata": {
    "id": "ykHUiWyetG0G"
   },
   "outputs": [
    {
     "data": {
      "text/plain": [
       "Index(['r_i', 'i_z', 'z_y', 'g_i', 'w1_w2'], dtype='object')"
      ]
     },
     "execution_count": 69,
     "metadata": {},
     "output_type": "execute_result"
    }
   ],
   "source": [
    "pyr.get_config('X').columns"
   ]
  },
  {
   "cell_type": "code",
   "execution_count": 70,
   "id": "9720ff62",
   "metadata": {
    "id": "JFF_T52ztI11"
   },
   "outputs": [
    {
     "data": {
      "text/html": [
       "<div>\n",
       "<style scoped>\n",
       "    .dataframe tbody tr th:only-of-type {\n",
       "        vertical-align: middle;\n",
       "    }\n",
       "\n",
       "    .dataframe tbody tr th {\n",
       "        vertical-align: top;\n",
       "    }\n",
       "\n",
       "    .dataframe thead th {\n",
       "        text-align: right;\n",
       "    }\n",
       "</style>\n",
       "<table border=\"1\" class=\"dataframe\">\n",
       "  <thead>\n",
       "    <tr style=\"text-align: right;\">\n",
       "      <th></th>\n",
       "      <th>Name</th>\n",
       "      <th>Reference</th>\n",
       "      <th>Turbo</th>\n",
       "    </tr>\n",
       "    <tr>\n",
       "      <th>ID</th>\n",
       "      <th></th>\n",
       "      <th></th>\n",
       "      <th></th>\n",
       "    </tr>\n",
       "  </thead>\n",
       "  <tbody>\n",
       "    <tr>\n",
       "      <th>lr</th>\n",
       "      <td>Linear Regression</td>\n",
       "      <td>sklearn.linear_model._base.LinearRegression</td>\n",
       "      <td>True</td>\n",
       "    </tr>\n",
       "    <tr>\n",
       "      <th>lasso</th>\n",
       "      <td>Lasso Regression</td>\n",
       "      <td>sklearn.linear_model._coordinate_descent.Lasso</td>\n",
       "      <td>True</td>\n",
       "    </tr>\n",
       "    <tr>\n",
       "      <th>ridge</th>\n",
       "      <td>Ridge Regression</td>\n",
       "      <td>sklearn.linear_model._ridge.Ridge</td>\n",
       "      <td>True</td>\n",
       "    </tr>\n",
       "    <tr>\n",
       "      <th>en</th>\n",
       "      <td>Elastic Net</td>\n",
       "      <td>sklearn.linear_model._coordinate_descent.Elast...</td>\n",
       "      <td>True</td>\n",
       "    </tr>\n",
       "    <tr>\n",
       "      <th>lar</th>\n",
       "      <td>Least Angle Regression</td>\n",
       "      <td>sklearn.linear_model._least_angle.Lars</td>\n",
       "      <td>True</td>\n",
       "    </tr>\n",
       "    <tr>\n",
       "      <th>llar</th>\n",
       "      <td>Lasso Least Angle Regression</td>\n",
       "      <td>sklearn.linear_model._least_angle.LassoLars</td>\n",
       "      <td>True</td>\n",
       "    </tr>\n",
       "    <tr>\n",
       "      <th>omp</th>\n",
       "      <td>Orthogonal Matching Pursuit</td>\n",
       "      <td>sklearn.linear_model._omp.OrthogonalMatchingPu...</td>\n",
       "      <td>True</td>\n",
       "    </tr>\n",
       "    <tr>\n",
       "      <th>br</th>\n",
       "      <td>Bayesian Ridge</td>\n",
       "      <td>sklearn.linear_model._bayes.BayesianRidge</td>\n",
       "      <td>True</td>\n",
       "    </tr>\n",
       "    <tr>\n",
       "      <th>ard</th>\n",
       "      <td>Automatic Relevance Determination</td>\n",
       "      <td>sklearn.linear_model._bayes.ARDRegression</td>\n",
       "      <td>False</td>\n",
       "    </tr>\n",
       "    <tr>\n",
       "      <th>par</th>\n",
       "      <td>Passive Aggressive Regressor</td>\n",
       "      <td>sklearn.linear_model._passive_aggressive.Passi...</td>\n",
       "      <td>True</td>\n",
       "    </tr>\n",
       "    <tr>\n",
       "      <th>ransac</th>\n",
       "      <td>Random Sample Consensus</td>\n",
       "      <td>sklearn.linear_model._ransac.RANSACRegressor</td>\n",
       "      <td>False</td>\n",
       "    </tr>\n",
       "    <tr>\n",
       "      <th>tr</th>\n",
       "      <td>TheilSen Regressor</td>\n",
       "      <td>sklearn.linear_model._theil_sen.TheilSenRegressor</td>\n",
       "      <td>False</td>\n",
       "    </tr>\n",
       "    <tr>\n",
       "      <th>huber</th>\n",
       "      <td>Huber Regressor</td>\n",
       "      <td>sklearn.linear_model._huber.HuberRegressor</td>\n",
       "      <td>True</td>\n",
       "    </tr>\n",
       "    <tr>\n",
       "      <th>kr</th>\n",
       "      <td>Kernel Ridge</td>\n",
       "      <td>sklearn.kernel_ridge.KernelRidge</td>\n",
       "      <td>False</td>\n",
       "    </tr>\n",
       "    <tr>\n",
       "      <th>svm</th>\n",
       "      <td>Support Vector Regression</td>\n",
       "      <td>sklearn.svm._classes.SVR</td>\n",
       "      <td>False</td>\n",
       "    </tr>\n",
       "    <tr>\n",
       "      <th>knn</th>\n",
       "      <td>K Neighbors Regressor</td>\n",
       "      <td>sklearn.neighbors._regression.KNeighborsRegressor</td>\n",
       "      <td>True</td>\n",
       "    </tr>\n",
       "    <tr>\n",
       "      <th>dt</th>\n",
       "      <td>Decision Tree Regressor</td>\n",
       "      <td>sklearn.tree._classes.DecisionTreeRegressor</td>\n",
       "      <td>True</td>\n",
       "    </tr>\n",
       "    <tr>\n",
       "      <th>rf</th>\n",
       "      <td>Random Forest Regressor</td>\n",
       "      <td>sklearn.ensemble._forest.RandomForestRegressor</td>\n",
       "      <td>True</td>\n",
       "    </tr>\n",
       "    <tr>\n",
       "      <th>et</th>\n",
       "      <td>Extra Trees Regressor</td>\n",
       "      <td>sklearn.ensemble._forest.ExtraTreesRegressor</td>\n",
       "      <td>True</td>\n",
       "    </tr>\n",
       "    <tr>\n",
       "      <th>ada</th>\n",
       "      <td>AdaBoost Regressor</td>\n",
       "      <td>sklearn.ensemble._weight_boosting.AdaBoostRegr...</td>\n",
       "      <td>True</td>\n",
       "    </tr>\n",
       "    <tr>\n",
       "      <th>gbr</th>\n",
       "      <td>Gradient Boosting Regressor</td>\n",
       "      <td>sklearn.ensemble._gb.GradientBoostingRegressor</td>\n",
       "      <td>True</td>\n",
       "    </tr>\n",
       "    <tr>\n",
       "      <th>mlp</th>\n",
       "      <td>MLP Regressor</td>\n",
       "      <td>sklearn.neural_network._multilayer_perceptron....</td>\n",
       "      <td>False</td>\n",
       "    </tr>\n",
       "    <tr>\n",
       "      <th>xgboost</th>\n",
       "      <td>Extreme Gradient Boosting</td>\n",
       "      <td>xgboost.sklearn.XGBRegressor</td>\n",
       "      <td>True</td>\n",
       "    </tr>\n",
       "    <tr>\n",
       "      <th>lightgbm</th>\n",
       "      <td>Light Gradient Boosting Machine</td>\n",
       "      <td>lightgbm.sklearn.LGBMRegressor</td>\n",
       "      <td>True</td>\n",
       "    </tr>\n",
       "    <tr>\n",
       "      <th>catboost</th>\n",
       "      <td>CatBoost Regressor</td>\n",
       "      <td>catboost.core.CatBoostRegressor</td>\n",
       "      <td>True</td>\n",
       "    </tr>\n",
       "    <tr>\n",
       "      <th>dummy</th>\n",
       "      <td>Dummy Regressor</td>\n",
       "      <td>sklearn.dummy.DummyRegressor</td>\n",
       "      <td>True</td>\n",
       "    </tr>\n",
       "  </tbody>\n",
       "</table>\n",
       "</div>"
      ],
      "text/plain": [
       "                                       Name  \\\n",
       "ID                                            \n",
       "lr                        Linear Regression   \n",
       "lasso                      Lasso Regression   \n",
       "ridge                      Ridge Regression   \n",
       "en                              Elastic Net   \n",
       "lar                  Least Angle Regression   \n",
       "llar           Lasso Least Angle Regression   \n",
       "omp             Orthogonal Matching Pursuit   \n",
       "br                           Bayesian Ridge   \n",
       "ard       Automatic Relevance Determination   \n",
       "par            Passive Aggressive Regressor   \n",
       "ransac              Random Sample Consensus   \n",
       "tr                       TheilSen Regressor   \n",
       "huber                       Huber Regressor   \n",
       "kr                             Kernel Ridge   \n",
       "svm               Support Vector Regression   \n",
       "knn                   K Neighbors Regressor   \n",
       "dt                  Decision Tree Regressor   \n",
       "rf                  Random Forest Regressor   \n",
       "et                    Extra Trees Regressor   \n",
       "ada                      AdaBoost Regressor   \n",
       "gbr             Gradient Boosting Regressor   \n",
       "mlp                           MLP Regressor   \n",
       "xgboost           Extreme Gradient Boosting   \n",
       "lightgbm    Light Gradient Boosting Machine   \n",
       "catboost                 CatBoost Regressor   \n",
       "dummy                       Dummy Regressor   \n",
       "\n",
       "                                                  Reference  Turbo  \n",
       "ID                                                                  \n",
       "lr              sklearn.linear_model._base.LinearRegression   True  \n",
       "lasso        sklearn.linear_model._coordinate_descent.Lasso   True  \n",
       "ridge                     sklearn.linear_model._ridge.Ridge   True  \n",
       "en        sklearn.linear_model._coordinate_descent.Elast...   True  \n",
       "lar                  sklearn.linear_model._least_angle.Lars   True  \n",
       "llar            sklearn.linear_model._least_angle.LassoLars   True  \n",
       "omp       sklearn.linear_model._omp.OrthogonalMatchingPu...   True  \n",
       "br                sklearn.linear_model._bayes.BayesianRidge   True  \n",
       "ard               sklearn.linear_model._bayes.ARDRegression  False  \n",
       "par       sklearn.linear_model._passive_aggressive.Passi...   True  \n",
       "ransac         sklearn.linear_model._ransac.RANSACRegressor  False  \n",
       "tr        sklearn.linear_model._theil_sen.TheilSenRegressor  False  \n",
       "huber            sklearn.linear_model._huber.HuberRegressor   True  \n",
       "kr                         sklearn.kernel_ridge.KernelRidge  False  \n",
       "svm                                sklearn.svm._classes.SVR  False  \n",
       "knn       sklearn.neighbors._regression.KNeighborsRegressor   True  \n",
       "dt              sklearn.tree._classes.DecisionTreeRegressor   True  \n",
       "rf           sklearn.ensemble._forest.RandomForestRegressor   True  \n",
       "et             sklearn.ensemble._forest.ExtraTreesRegressor   True  \n",
       "ada       sklearn.ensemble._weight_boosting.AdaBoostRegr...   True  \n",
       "gbr          sklearn.ensemble._gb.GradientBoostingRegressor   True  \n",
       "mlp       sklearn.neural_network._multilayer_perceptron....  False  \n",
       "xgboost                        xgboost.sklearn.XGBRegressor   True  \n",
       "lightgbm                     lightgbm.sklearn.LGBMRegressor   True  \n",
       "catboost                    catboost.core.CatBoostRegressor   True  \n",
       "dummy                          sklearn.dummy.DummyRegressor   True  "
      ]
     },
     "execution_count": 70,
     "metadata": {},
     "output_type": "execute_result"
    }
   ],
   "source": [
    "pyr.models()"
   ]
  },
  {
   "cell_type": "markdown",
   "id": "e692bfea",
   "metadata": {},
   "source": [
    "Add custom metrics"
   ]
  },
  {
   "cell_type": "code",
   "execution_count": 71,
   "id": "05135e91",
   "metadata": {},
   "outputs": [
    {
     "data": {
      "text/plain": [
       "Name                                                        outlier_fr\n",
       "Display Name                                                outlier_fr\n",
       "Score Function               <function outlier_frac at 0x7f7920a2e0d0>\n",
       "Scorer               make_scorer(outlier_frac, greater_is_better=Fa...\n",
       "Target                                                            pred\n",
       "Args                                                                {}\n",
       "Greater is Better                                                False\n",
       "Custom                                                            True\n",
       "Name: out_f, dtype: object"
      ]
     },
     "execution_count": 71,
     "metadata": {},
     "output_type": "execute_result"
    }
   ],
   "source": [
    "pyr.add_metric('s_mad',  'sigma_mad',    sigma_mad,    greater_is_better=False)\n",
    "pyr.add_metric('s_nmad', 'sigma_nmad',   sigma_nmad,   greater_is_better=False)\n",
    "pyr.add_metric('s_z',    'sigma_z',      sigma_z,      greater_is_better=False)\n",
    "pyr.add_metric('s_z_n',  'sigma_z_norm', sigma_z_norm, greater_is_better=False)\n",
    "pyr.add_metric('out_f',  'outlier_fr',   outlier_frac, greater_is_better=False)"
   ]
  },
  {
   "cell_type": "code",
   "execution_count": 72,
   "id": "0d131b70",
   "metadata": {
    "id": "m3mCNspXtLnI"
   },
   "outputs": [
    {
     "data": {
      "text/html": [
       "<style type=\"text/css\">\n",
       "#T_4c23b th {\n",
       "  text-align: left;\n",
       "}\n",
       "#T_4c23b_row0_col0, #T_4c23b_row0_col2, #T_4c23b_row0_col11, #T_4c23b_row1_col0, #T_4c23b_row1_col1, #T_4c23b_row1_col2, #T_4c23b_row1_col3, #T_4c23b_row1_col4, #T_4c23b_row1_col5, #T_4c23b_row1_col6, #T_4c23b_row1_col7, #T_4c23b_row1_col8, #T_4c23b_row1_col9, #T_4c23b_row1_col10, #T_4c23b_row1_col11, #T_4c23b_row2_col0, #T_4c23b_row2_col1, #T_4c23b_row2_col2, #T_4c23b_row2_col3, #T_4c23b_row2_col4, #T_4c23b_row2_col5, #T_4c23b_row2_col6, #T_4c23b_row2_col7, #T_4c23b_row2_col8, #T_4c23b_row2_col9, #T_4c23b_row2_col10, #T_4c23b_row3_col0, #T_4c23b_row3_col1, #T_4c23b_row3_col3, #T_4c23b_row3_col4, #T_4c23b_row3_col5, #T_4c23b_row3_col6, #T_4c23b_row3_col7, #T_4c23b_row3_col8, #T_4c23b_row3_col9, #T_4c23b_row3_col10, #T_4c23b_row4_col0, #T_4c23b_row4_col1, #T_4c23b_row4_col2, #T_4c23b_row4_col3, #T_4c23b_row4_col4, #T_4c23b_row4_col5, #T_4c23b_row4_col6, #T_4c23b_row4_col7, #T_4c23b_row4_col8, #T_4c23b_row4_col9, #T_4c23b_row4_col10, #T_4c23b_row4_col11, #T_4c23b_row5_col0, #T_4c23b_row5_col1, #T_4c23b_row5_col2, #T_4c23b_row5_col3, #T_4c23b_row5_col4, #T_4c23b_row5_col5, #T_4c23b_row5_col6, #T_4c23b_row5_col7, #T_4c23b_row5_col8, #T_4c23b_row5_col9, #T_4c23b_row5_col10, #T_4c23b_row5_col11, #T_4c23b_row6_col0, #T_4c23b_row6_col1, #T_4c23b_row6_col2, #T_4c23b_row6_col3, #T_4c23b_row6_col4, #T_4c23b_row6_col5, #T_4c23b_row6_col6, #T_4c23b_row6_col7, #T_4c23b_row6_col8, #T_4c23b_row6_col9, #T_4c23b_row6_col10, #T_4c23b_row6_col11, #T_4c23b_row7_col0, #T_4c23b_row7_col1, #T_4c23b_row7_col2, #T_4c23b_row7_col3, #T_4c23b_row7_col4, #T_4c23b_row7_col5, #T_4c23b_row7_col6, #T_4c23b_row7_col7, #T_4c23b_row7_col8, #T_4c23b_row7_col9, #T_4c23b_row7_col10, #T_4c23b_row7_col11, #T_4c23b_row8_col0, #T_4c23b_row8_col1, #T_4c23b_row8_col2, #T_4c23b_row8_col3, #T_4c23b_row8_col4, #T_4c23b_row8_col5, #T_4c23b_row8_col6, #T_4c23b_row8_col7, #T_4c23b_row8_col8, #T_4c23b_row8_col9, #T_4c23b_row8_col10, #T_4c23b_row8_col11, #T_4c23b_row9_col0, #T_4c23b_row9_col1, #T_4c23b_row9_col2, #T_4c23b_row9_col3, #T_4c23b_row9_col4, #T_4c23b_row9_col5, #T_4c23b_row9_col6, #T_4c23b_row9_col7, #T_4c23b_row9_col8, #T_4c23b_row9_col9, #T_4c23b_row9_col10, #T_4c23b_row9_col11, #T_4c23b_row10_col0, #T_4c23b_row10_col1, #T_4c23b_row10_col2, #T_4c23b_row10_col3, #T_4c23b_row10_col4, #T_4c23b_row10_col5, #T_4c23b_row10_col6, #T_4c23b_row10_col7, #T_4c23b_row10_col8, #T_4c23b_row10_col9, #T_4c23b_row10_col10, #T_4c23b_row10_col11, #T_4c23b_row11_col0, #T_4c23b_row11_col1, #T_4c23b_row11_col2, #T_4c23b_row11_col3, #T_4c23b_row11_col4, #T_4c23b_row11_col5, #T_4c23b_row11_col6, #T_4c23b_row11_col7, #T_4c23b_row11_col8, #T_4c23b_row11_col9, #T_4c23b_row11_col10, #T_4c23b_row11_col11, #T_4c23b_row12_col0, #T_4c23b_row12_col1, #T_4c23b_row12_col2, #T_4c23b_row12_col3, #T_4c23b_row12_col4, #T_4c23b_row12_col5, #T_4c23b_row12_col6, #T_4c23b_row12_col7, #T_4c23b_row12_col8, #T_4c23b_row12_col9, #T_4c23b_row12_col10, #T_4c23b_row12_col11, #T_4c23b_row13_col0, #T_4c23b_row13_col1, #T_4c23b_row13_col2, #T_4c23b_row13_col3, #T_4c23b_row13_col4, #T_4c23b_row13_col5, #T_4c23b_row13_col6, #T_4c23b_row13_col7, #T_4c23b_row13_col8, #T_4c23b_row13_col9, #T_4c23b_row13_col10, #T_4c23b_row13_col11, #T_4c23b_row14_col0, #T_4c23b_row14_col1, #T_4c23b_row14_col2, #T_4c23b_row14_col3, #T_4c23b_row14_col4, #T_4c23b_row14_col5, #T_4c23b_row14_col6, #T_4c23b_row14_col7, #T_4c23b_row14_col8, #T_4c23b_row14_col9, #T_4c23b_row14_col10, #T_4c23b_row14_col11, #T_4c23b_row15_col0, #T_4c23b_row15_col1, #T_4c23b_row15_col2, #T_4c23b_row15_col3, #T_4c23b_row15_col4, #T_4c23b_row15_col5, #T_4c23b_row15_col6, #T_4c23b_row15_col7, #T_4c23b_row15_col8, #T_4c23b_row15_col9, #T_4c23b_row15_col10, #T_4c23b_row15_col11, #T_4c23b_row16_col0, #T_4c23b_row16_col1, #T_4c23b_row16_col2, #T_4c23b_row16_col3, #T_4c23b_row16_col4, #T_4c23b_row16_col5, #T_4c23b_row16_col6, #T_4c23b_row16_col7, #T_4c23b_row16_col8, #T_4c23b_row16_col9, #T_4c23b_row16_col10, #T_4c23b_row16_col11, #T_4c23b_row17_col0, #T_4c23b_row17_col1, #T_4c23b_row17_col2, #T_4c23b_row17_col3, #T_4c23b_row17_col4, #T_4c23b_row17_col5, #T_4c23b_row17_col6, #T_4c23b_row17_col7, #T_4c23b_row17_col8, #T_4c23b_row17_col9, #T_4c23b_row17_col10, #T_4c23b_row17_col11, #T_4c23b_row18_col0, #T_4c23b_row18_col1, #T_4c23b_row18_col2, #T_4c23b_row18_col3, #T_4c23b_row18_col4, #T_4c23b_row18_col5, #T_4c23b_row18_col6, #T_4c23b_row18_col7, #T_4c23b_row18_col8, #T_4c23b_row18_col9, #T_4c23b_row18_col10, #T_4c23b_row18_col11 {\n",
       "  text-align: left;\n",
       "}\n",
       "#T_4c23b_row0_col1, #T_4c23b_row0_col3, #T_4c23b_row0_col4, #T_4c23b_row0_col5, #T_4c23b_row0_col6, #T_4c23b_row0_col7, #T_4c23b_row0_col8, #T_4c23b_row0_col9, #T_4c23b_row0_col10, #T_4c23b_row2_col11, #T_4c23b_row3_col2, #T_4c23b_row3_col11 {\n",
       "  text-align: left;\n",
       "  background-color: yellow;\n",
       "}\n",
       "#T_4c23b_row0_col12, #T_4c23b_row1_col12, #T_4c23b_row2_col12, #T_4c23b_row3_col12, #T_4c23b_row4_col12, #T_4c23b_row5_col12, #T_4c23b_row6_col12, #T_4c23b_row7_col12, #T_4c23b_row8_col12, #T_4c23b_row10_col12, #T_4c23b_row11_col12, #T_4c23b_row12_col12, #T_4c23b_row13_col12, #T_4c23b_row14_col12, #T_4c23b_row15_col12, #T_4c23b_row16_col12, #T_4c23b_row18_col12 {\n",
       "  text-align: left;\n",
       "  background-color: lightgrey;\n",
       "}\n",
       "#T_4c23b_row9_col12, #T_4c23b_row17_col12 {\n",
       "  text-align: left;\n",
       "  background-color: yellow;\n",
       "  background-color: lightgrey;\n",
       "}\n",
       "</style>\n",
       "<table id=\"T_4c23b\">\n",
       "  <thead>\n",
       "    <tr>\n",
       "      <th class=\"blank level0\" >&nbsp;</th>\n",
       "      <th id=\"T_4c23b_level0_col0\" class=\"col_heading level0 col0\" >Model</th>\n",
       "      <th id=\"T_4c23b_level0_col1\" class=\"col_heading level0 col1\" >MAE</th>\n",
       "      <th id=\"T_4c23b_level0_col2\" class=\"col_heading level0 col2\" >MSE</th>\n",
       "      <th id=\"T_4c23b_level0_col3\" class=\"col_heading level0 col3\" >RMSE</th>\n",
       "      <th id=\"T_4c23b_level0_col4\" class=\"col_heading level0 col4\" >R2</th>\n",
       "      <th id=\"T_4c23b_level0_col5\" class=\"col_heading level0 col5\" >RMSLE</th>\n",
       "      <th id=\"T_4c23b_level0_col6\" class=\"col_heading level0 col6\" >MAPE</th>\n",
       "      <th id=\"T_4c23b_level0_col7\" class=\"col_heading level0 col7\" >sigma_mad</th>\n",
       "      <th id=\"T_4c23b_level0_col8\" class=\"col_heading level0 col8\" >sigma_nmad</th>\n",
       "      <th id=\"T_4c23b_level0_col9\" class=\"col_heading level0 col9\" >sigma_z</th>\n",
       "      <th id=\"T_4c23b_level0_col10\" class=\"col_heading level0 col10\" >sigma_z_norm</th>\n",
       "      <th id=\"T_4c23b_level0_col11\" class=\"col_heading level0 col11\" >outlier_fr</th>\n",
       "      <th id=\"T_4c23b_level0_col12\" class=\"col_heading level0 col12\" >TT (Sec)</th>\n",
       "    </tr>\n",
       "  </thead>\n",
       "  <tbody>\n",
       "    <tr>\n",
       "      <th id=\"T_4c23b_level0_row0\" class=\"row_heading level0 row0\" >et</th>\n",
       "      <td id=\"T_4c23b_row0_col0\" class=\"data row0 col0\" >Extra Trees Regressor</td>\n",
       "      <td id=\"T_4c23b_row0_col1\" class=\"data row0 col1\" >0.1473</td>\n",
       "      <td id=\"T_4c23b_row0_col2\" class=\"data row0 col2\" >0.0610</td>\n",
       "      <td id=\"T_4c23b_row0_col3\" class=\"data row0 col3\" >0.1938</td>\n",
       "      <td id=\"T_4c23b_row0_col4\" class=\"data row0 col4\" >-0.4881</td>\n",
       "      <td id=\"T_4c23b_row0_col5\" class=\"data row0 col5\" >0.0357</td>\n",
       "      <td id=\"T_4c23b_row0_col6\" class=\"data row0 col6\" >0.0337</td>\n",
       "      <td id=\"T_4c23b_row0_col7\" class=\"data row0 col7\" >0.1583</td>\n",
       "      <td id=\"T_4c23b_row0_col8\" class=\"data row0 col8\" >0.0318</td>\n",
       "      <td id=\"T_4c23b_row0_col9\" class=\"data row0 col9\" >0.1938</td>\n",
       "      <td id=\"T_4c23b_row0_col10\" class=\"data row0 col10\" >0.0347</td>\n",
       "      <td id=\"T_4c23b_row0_col11\" class=\"data row0 col11\" >0.0250</td>\n",
       "      <td id=\"T_4c23b_row0_col12\" class=\"data row0 col12\" >0.0290</td>\n",
       "    </tr>\n",
       "    <tr>\n",
       "      <th id=\"T_4c23b_level0_row1\" class=\"row_heading level0 row1\" >catboost</th>\n",
       "      <td id=\"T_4c23b_row1_col0\" class=\"data row1 col0\" >CatBoost Regressor</td>\n",
       "      <td id=\"T_4c23b_row1_col1\" class=\"data row1 col1\" >0.1685</td>\n",
       "      <td id=\"T_4c23b_row1_col2\" class=\"data row1 col2\" >0.0804</td>\n",
       "      <td id=\"T_4c23b_row1_col3\" class=\"data row1 col3\" >0.2326</td>\n",
       "      <td id=\"T_4c23b_row1_col4\" class=\"data row1 col4\" >-0.9661</td>\n",
       "      <td id=\"T_4c23b_row1_col5\" class=\"data row1 col5\" >0.0430</td>\n",
       "      <td id=\"T_4c23b_row1_col6\" class=\"data row1 col6\" >0.0383</td>\n",
       "      <td id=\"T_4c23b_row1_col7\" class=\"data row1 col7\" >0.1670</td>\n",
       "      <td id=\"T_4c23b_row1_col8\" class=\"data row1 col8\" >0.0335</td>\n",
       "      <td id=\"T_4c23b_row1_col9\" class=\"data row1 col9\" >0.2326</td>\n",
       "      <td id=\"T_4c23b_row1_col10\" class=\"data row1 col10\" >0.0416</td>\n",
       "      <td id=\"T_4c23b_row1_col11\" class=\"data row1 col11\" >0.0250</td>\n",
       "      <td id=\"T_4c23b_row1_col12\" class=\"data row1 col12\" >0.0720</td>\n",
       "    </tr>\n",
       "    <tr>\n",
       "      <th id=\"T_4c23b_level0_row2\" class=\"row_heading level0 row2\" >xgboost</th>\n",
       "      <td id=\"T_4c23b_row2_col0\" class=\"data row2 col0\" >Extreme Gradient Boosting</td>\n",
       "      <td id=\"T_4c23b_row2_col1\" class=\"data row2 col1\" >0.1624</td>\n",
       "      <td id=\"T_4c23b_row2_col2\" class=\"data row2 col2\" >0.0615</td>\n",
       "      <td id=\"T_4c23b_row2_col3\" class=\"data row2 col3\" >0.2093</td>\n",
       "      <td id=\"T_4c23b_row2_col4\" class=\"data row2 col4\" >-0.9397</td>\n",
       "      <td id=\"T_4c23b_row2_col5\" class=\"data row2 col5\" >0.0387</td>\n",
       "      <td id=\"T_4c23b_row2_col6\" class=\"data row2 col6\" >0.0379</td>\n",
       "      <td id=\"T_4c23b_row2_col7\" class=\"data row2 col7\" >0.1745</td>\n",
       "      <td id=\"T_4c23b_row2_col8\" class=\"data row2 col8\" >0.0348</td>\n",
       "      <td id=\"T_4c23b_row2_col9\" class=\"data row2 col9\" >0.2093</td>\n",
       "      <td id=\"T_4c23b_row2_col10\" class=\"data row2 col10\" >0.0384</td>\n",
       "      <td id=\"T_4c23b_row2_col11\" class=\"data row2 col11\" >0.0000</td>\n",
       "      <td id=\"T_4c23b_row2_col12\" class=\"data row2 col12\" >2.7810</td>\n",
       "    </tr>\n",
       "    <tr>\n",
       "      <th id=\"T_4c23b_level0_row3\" class=\"row_heading level0 row3\" >gbr</th>\n",
       "      <td id=\"T_4c23b_row3_col0\" class=\"data row3 col0\" >Gradient Boosting Regressor</td>\n",
       "      <td id=\"T_4c23b_row3_col1\" class=\"data row3 col1\" >0.1547</td>\n",
       "      <td id=\"T_4c23b_row3_col2\" class=\"data row3 col2\" >0.0513</td>\n",
       "      <td id=\"T_4c23b_row3_col3\" class=\"data row3 col3\" >0.1998</td>\n",
       "      <td id=\"T_4c23b_row3_col4\" class=\"data row3 col4\" >-1.2475</td>\n",
       "      <td id=\"T_4c23b_row3_col5\" class=\"data row3 col5\" >0.0367</td>\n",
       "      <td id=\"T_4c23b_row3_col6\" class=\"data row3 col6\" >0.0359</td>\n",
       "      <td id=\"T_4c23b_row3_col7\" class=\"data row3 col7\" >0.1926</td>\n",
       "      <td id=\"T_4c23b_row3_col8\" class=\"data row3 col8\" >0.0384</td>\n",
       "      <td id=\"T_4c23b_row3_col9\" class=\"data row3 col9\" >0.1998</td>\n",
       "      <td id=\"T_4c23b_row3_col10\" class=\"data row3 col10\" >0.0366</td>\n",
       "      <td id=\"T_4c23b_row3_col11\" class=\"data row3 col11\" >0.0000</td>\n",
       "      <td id=\"T_4c23b_row3_col12\" class=\"data row3 col12\" >0.0110</td>\n",
       "    </tr>\n",
       "    <tr>\n",
       "      <th id=\"T_4c23b_level0_row4\" class=\"row_heading level0 row4\" >ada</th>\n",
       "      <td id=\"T_4c23b_row4_col0\" class=\"data row4 col0\" >AdaBoost Regressor</td>\n",
       "      <td id=\"T_4c23b_row4_col1\" class=\"data row4 col1\" >0.1653</td>\n",
       "      <td id=\"T_4c23b_row4_col2\" class=\"data row4 col2\" >0.0664</td>\n",
       "      <td id=\"T_4c23b_row4_col3\" class=\"data row4 col3\" >0.2152</td>\n",
       "      <td id=\"T_4c23b_row4_col4\" class=\"data row4 col4\" >-1.3046</td>\n",
       "      <td id=\"T_4c23b_row4_col5\" class=\"data row4 col5\" >0.0401</td>\n",
       "      <td id=\"T_4c23b_row4_col6\" class=\"data row4 col6\" >0.0382</td>\n",
       "      <td id=\"T_4c23b_row4_col7\" class=\"data row4 col7\" >0.2027</td>\n",
       "      <td id=\"T_4c23b_row4_col8\" class=\"data row4 col8\" >0.0396</td>\n",
       "      <td id=\"T_4c23b_row4_col9\" class=\"data row4 col9\" >0.2152</td>\n",
       "      <td id=\"T_4c23b_row4_col10\" class=\"data row4 col10\" >0.0392</td>\n",
       "      <td id=\"T_4c23b_row4_col11\" class=\"data row4 col11\" >0.0250</td>\n",
       "      <td id=\"T_4c23b_row4_col12\" class=\"data row4 col12\" >0.0160</td>\n",
       "    </tr>\n",
       "    <tr>\n",
       "      <th id=\"T_4c23b_level0_row5\" class=\"row_heading level0 row5\" >rf</th>\n",
       "      <td id=\"T_4c23b_row5_col0\" class=\"data row5 col0\" >Random Forest Regressor</td>\n",
       "      <td id=\"T_4c23b_row5_col1\" class=\"data row5 col1\" >0.1589</td>\n",
       "      <td id=\"T_4c23b_row5_col2\" class=\"data row5 col2\" >0.0550</td>\n",
       "      <td id=\"T_4c23b_row5_col3\" class=\"data row5 col3\" >0.1940</td>\n",
       "      <td id=\"T_4c23b_row5_col4\" class=\"data row5 col4\" >-0.8431</td>\n",
       "      <td id=\"T_4c23b_row5_col5\" class=\"data row5 col5\" >0.0362</td>\n",
       "      <td id=\"T_4c23b_row5_col6\" class=\"data row5 col6\" >0.0369</td>\n",
       "      <td id=\"T_4c23b_row5_col7\" class=\"data row5 col7\" >0.2118</td>\n",
       "      <td id=\"T_4c23b_row5_col8\" class=\"data row5 col8\" >0.0413</td>\n",
       "      <td id=\"T_4c23b_row5_col9\" class=\"data row5 col9\" >0.1940</td>\n",
       "      <td id=\"T_4c23b_row5_col10\" class=\"data row5 col10\" >0.0355</td>\n",
       "      <td id=\"T_4c23b_row5_col11\" class=\"data row5 col11\" >0.0250</td>\n",
       "      <td id=\"T_4c23b_row5_col12\" class=\"data row5 col12\" >0.0340</td>\n",
       "    </tr>\n",
       "    <tr>\n",
       "      <th id=\"T_4c23b_level0_row6\" class=\"row_heading level0 row6\" >dt</th>\n",
       "      <td id=\"T_4c23b_row6_col0\" class=\"data row6 col0\" >Decision Tree Regressor</td>\n",
       "      <td id=\"T_4c23b_row6_col1\" class=\"data row6 col1\" >0.1839</td>\n",
       "      <td id=\"T_4c23b_row6_col2\" class=\"data row6 col2\" >0.0778</td>\n",
       "      <td id=\"T_4c23b_row6_col3\" class=\"data row6 col3\" >0.2285</td>\n",
       "      <td id=\"T_4c23b_row6_col4\" class=\"data row6 col4\" >-2.0165</td>\n",
       "      <td id=\"T_4c23b_row6_col5\" class=\"data row6 col5\" >0.0422</td>\n",
       "      <td id=\"T_4c23b_row6_col6\" class=\"data row6 col6\" >0.0432</td>\n",
       "      <td id=\"T_4c23b_row6_col7\" class=\"data row6 col7\" >0.2229</td>\n",
       "      <td id=\"T_4c23b_row6_col8\" class=\"data row6 col8\" >0.0432</td>\n",
       "      <td id=\"T_4c23b_row6_col9\" class=\"data row6 col9\" >0.2285</td>\n",
       "      <td id=\"T_4c23b_row6_col10\" class=\"data row6 col10\" >0.0427</td>\n",
       "      <td id=\"T_4c23b_row6_col11\" class=\"data row6 col11\" >0.0250</td>\n",
       "      <td id=\"T_4c23b_row6_col12\" class=\"data row6 col12\" >0.0090</td>\n",
       "    </tr>\n",
       "    <tr>\n",
       "      <th id=\"T_4c23b_level0_row7\" class=\"row_heading level0 row7\" >huber</th>\n",
       "      <td id=\"T_4c23b_row7_col0\" class=\"data row7 col0\" >Huber Regressor</td>\n",
       "      <td id=\"T_4c23b_row7_col1\" class=\"data row7 col1\" >0.2162</td>\n",
       "      <td id=\"T_4c23b_row7_col2\" class=\"data row7 col2\" >0.1113</td>\n",
       "      <td id=\"T_4c23b_row7_col3\" class=\"data row7 col3\" >0.2727</td>\n",
       "      <td id=\"T_4c23b_row7_col4\" class=\"data row7 col4\" >-3.1080</td>\n",
       "      <td id=\"T_4c23b_row7_col5\" class=\"data row7 col5\" >0.0521</td>\n",
       "      <td id=\"T_4c23b_row7_col6\" class=\"data row7 col6\" >0.0503</td>\n",
       "      <td id=\"T_4c23b_row7_col7\" class=\"data row7 col7\" >0.2600</td>\n",
       "      <td id=\"T_4c23b_row7_col8\" class=\"data row7 col8\" >0.0514</td>\n",
       "      <td id=\"T_4c23b_row7_col9\" class=\"data row7 col9\" >0.2727</td>\n",
       "      <td id=\"T_4c23b_row7_col10\" class=\"data row7 col10\" >0.0499</td>\n",
       "      <td id=\"T_4c23b_row7_col11\" class=\"data row7 col11\" >0.0250</td>\n",
       "      <td id=\"T_4c23b_row7_col12\" class=\"data row7 col12\" >0.0090</td>\n",
       "    </tr>\n",
       "    <tr>\n",
       "      <th id=\"T_4c23b_level0_row8\" class=\"row_heading level0 row8\" >br</th>\n",
       "      <td id=\"T_4c23b_row8_col0\" class=\"data row8 col0\" >Bayesian Ridge</td>\n",
       "      <td id=\"T_4c23b_row8_col1\" class=\"data row8 col1\" >0.2200</td>\n",
       "      <td id=\"T_4c23b_row8_col2\" class=\"data row8 col2\" >0.1003</td>\n",
       "      <td id=\"T_4c23b_row8_col3\" class=\"data row8 col3\" >0.2693</td>\n",
       "      <td id=\"T_4c23b_row8_col4\" class=\"data row8 col4\" >-2.5614</td>\n",
       "      <td id=\"T_4c23b_row8_col5\" class=\"data row8 col5\" >0.0509</td>\n",
       "      <td id=\"T_4c23b_row8_col6\" class=\"data row8 col6\" >0.0519</td>\n",
       "      <td id=\"T_4c23b_row8_col7\" class=\"data row8 col7\" >0.2841</td>\n",
       "      <td id=\"T_4c23b_row8_col8\" class=\"data row8 col8\" >0.0564</td>\n",
       "      <td id=\"T_4c23b_row8_col9\" class=\"data row8 col9\" >0.2693</td>\n",
       "      <td id=\"T_4c23b_row8_col10\" class=\"data row8 col10\" >0.0498</td>\n",
       "      <td id=\"T_4c23b_row8_col11\" class=\"data row8 col11\" >0.0250</td>\n",
       "      <td id=\"T_4c23b_row8_col12\" class=\"data row8 col12\" >0.0090</td>\n",
       "    </tr>\n",
       "    <tr>\n",
       "      <th id=\"T_4c23b_level0_row9\" class=\"row_heading level0 row9\" >ridge</th>\n",
       "      <td id=\"T_4c23b_row9_col0\" class=\"data row9 col0\" >Ridge Regression</td>\n",
       "      <td id=\"T_4c23b_row9_col1\" class=\"data row9 col1\" >0.2297</td>\n",
       "      <td id=\"T_4c23b_row9_col2\" class=\"data row9 col2\" >0.1058</td>\n",
       "      <td id=\"T_4c23b_row9_col3\" class=\"data row9 col3\" >0.2809</td>\n",
       "      <td id=\"T_4c23b_row9_col4\" class=\"data row9 col4\" >-3.2949</td>\n",
       "      <td id=\"T_4c23b_row9_col5\" class=\"data row9 col5\" >0.0534</td>\n",
       "      <td id=\"T_4c23b_row9_col6\" class=\"data row9 col6\" >0.0544</td>\n",
       "      <td id=\"T_4c23b_row9_col7\" class=\"data row9 col7\" >0.2979</td>\n",
       "      <td id=\"T_4c23b_row9_col8\" class=\"data row9 col8\" >0.0591</td>\n",
       "      <td id=\"T_4c23b_row9_col9\" class=\"data row9 col9\" >0.2809</td>\n",
       "      <td id=\"T_4c23b_row9_col10\" class=\"data row9 col10\" >0.0522</td>\n",
       "      <td id=\"T_4c23b_row9_col11\" class=\"data row9 col11\" >0.0250</td>\n",
       "      <td id=\"T_4c23b_row9_col12\" class=\"data row9 col12\" >0.0080</td>\n",
       "    </tr>\n",
       "    <tr>\n",
       "      <th id=\"T_4c23b_level0_row10\" class=\"row_heading level0 row10\" >lr</th>\n",
       "      <td id=\"T_4c23b_row10_col0\" class=\"data row10 col0\" >Linear Regression</td>\n",
       "      <td id=\"T_4c23b_row10_col1\" class=\"data row10 col1\" >0.2329</td>\n",
       "      <td id=\"T_4c23b_row10_col2\" class=\"data row10 col2\" >0.1081</td>\n",
       "      <td id=\"T_4c23b_row10_col3\" class=\"data row10 col3\" >0.2849</td>\n",
       "      <td id=\"T_4c23b_row10_col4\" class=\"data row10 col4\" >-3.5467</td>\n",
       "      <td id=\"T_4c23b_row10_col5\" class=\"data row10 col5\" >0.0543</td>\n",
       "      <td id=\"T_4c23b_row10_col6\" class=\"data row10 col6\" >0.0552</td>\n",
       "      <td id=\"T_4c23b_row10_col7\" class=\"data row10 col7\" >0.3034</td>\n",
       "      <td id=\"T_4c23b_row10_col8\" class=\"data row10 col8\" >0.0601</td>\n",
       "      <td id=\"T_4c23b_row10_col9\" class=\"data row10 col9\" >0.2849</td>\n",
       "      <td id=\"T_4c23b_row10_col10\" class=\"data row10 col10\" >0.0530</td>\n",
       "      <td id=\"T_4c23b_row10_col11\" class=\"data row10 col11\" >0.0250</td>\n",
       "      <td id=\"T_4c23b_row10_col12\" class=\"data row10 col12\" >0.2150</td>\n",
       "    </tr>\n",
       "    <tr>\n",
       "      <th id=\"T_4c23b_level0_row11\" class=\"row_heading level0 row11\" >lar</th>\n",
       "      <td id=\"T_4c23b_row11_col0\" class=\"data row11 col0\" >Least Angle Regression</td>\n",
       "      <td id=\"T_4c23b_row11_col1\" class=\"data row11 col1\" >0.2329</td>\n",
       "      <td id=\"T_4c23b_row11_col2\" class=\"data row11 col2\" >0.1081</td>\n",
       "      <td id=\"T_4c23b_row11_col3\" class=\"data row11 col3\" >0.2849</td>\n",
       "      <td id=\"T_4c23b_row11_col4\" class=\"data row11 col4\" >-3.5467</td>\n",
       "      <td id=\"T_4c23b_row11_col5\" class=\"data row11 col5\" >0.0543</td>\n",
       "      <td id=\"T_4c23b_row11_col6\" class=\"data row11 col6\" >0.0552</td>\n",
       "      <td id=\"T_4c23b_row11_col7\" class=\"data row11 col7\" >0.3034</td>\n",
       "      <td id=\"T_4c23b_row11_col8\" class=\"data row11 col8\" >0.0601</td>\n",
       "      <td id=\"T_4c23b_row11_col9\" class=\"data row11 col9\" >0.2849</td>\n",
       "      <td id=\"T_4c23b_row11_col10\" class=\"data row11 col10\" >0.0530</td>\n",
       "      <td id=\"T_4c23b_row11_col11\" class=\"data row11 col11\" >0.0250</td>\n",
       "      <td id=\"T_4c23b_row11_col12\" class=\"data row11 col12\" >0.0090</td>\n",
       "    </tr>\n",
       "    <tr>\n",
       "      <th id=\"T_4c23b_level0_row12\" class=\"row_heading level0 row12\" >omp</th>\n",
       "      <td id=\"T_4c23b_row12_col0\" class=\"data row12 col0\" >Orthogonal Matching Pursuit</td>\n",
       "      <td id=\"T_4c23b_row12_col1\" class=\"data row12 col1\" >0.2503</td>\n",
       "      <td id=\"T_4c23b_row12_col2\" class=\"data row12 col2\" >0.1102</td>\n",
       "      <td id=\"T_4c23b_row12_col3\" class=\"data row12 col3\" >0.2960</td>\n",
       "      <td id=\"T_4c23b_row12_col4\" class=\"data row12 col4\" >-5.1125</td>\n",
       "      <td id=\"T_4c23b_row12_col5\" class=\"data row12 col5\" >0.0561</td>\n",
       "      <td id=\"T_4c23b_row12_col6\" class=\"data row12 col6\" >0.0596</td>\n",
       "      <td id=\"T_4c23b_row12_col7\" class=\"data row12 col7\" >0.3173</td>\n",
       "      <td id=\"T_4c23b_row12_col8\" class=\"data row12 col8\" >0.0634</td>\n",
       "      <td id=\"T_4c23b_row12_col9\" class=\"data row12 col9\" >0.2960</td>\n",
       "      <td id=\"T_4c23b_row12_col10\" class=\"data row12 col10\" >0.0555</td>\n",
       "      <td id=\"T_4c23b_row12_col11\" class=\"data row12 col11\" >0.0250</td>\n",
       "      <td id=\"T_4c23b_row12_col12\" class=\"data row12 col12\" >0.0090</td>\n",
       "    </tr>\n",
       "    <tr>\n",
       "      <th id=\"T_4c23b_level0_row13\" class=\"row_heading level0 row13\" >lasso</th>\n",
       "      <td id=\"T_4c23b_row13_col0\" class=\"data row13 col0\" >Lasso Regression</td>\n",
       "      <td id=\"T_4c23b_row13_col1\" class=\"data row13 col1\" >0.3090</td>\n",
       "      <td id=\"T_4c23b_row13_col2\" class=\"data row13 col2\" >0.1760</td>\n",
       "      <td id=\"T_4c23b_row13_col3\" class=\"data row13 col3\" >0.3776</td>\n",
       "      <td id=\"T_4c23b_row13_col4\" class=\"data row13 col4\" >-4.6362</td>\n",
       "      <td id=\"T_4c23b_row13_col5\" class=\"data row13 col5\" >0.0711</td>\n",
       "      <td id=\"T_4c23b_row13_col6\" class=\"data row13 col6\" >0.0722</td>\n",
       "      <td id=\"T_4c23b_row13_col7\" class=\"data row13 col7\" >0.3633</td>\n",
       "      <td id=\"T_4c23b_row13_col8\" class=\"data row13 col8\" >0.0742</td>\n",
       "      <td id=\"T_4c23b_row13_col9\" class=\"data row13 col9\" >0.3776</td>\n",
       "      <td id=\"T_4c23b_row13_col10\" class=\"data row13 col10\" >0.0686</td>\n",
       "      <td id=\"T_4c23b_row13_col11\" class=\"data row13 col11\" >0.0500</td>\n",
       "      <td id=\"T_4c23b_row13_col12\" class=\"data row13 col12\" >0.1440</td>\n",
       "    </tr>\n",
       "    <tr>\n",
       "      <th id=\"T_4c23b_level0_row14\" class=\"row_heading level0 row14\" >en</th>\n",
       "      <td id=\"T_4c23b_row14_col0\" class=\"data row14 col0\" >Elastic Net</td>\n",
       "      <td id=\"T_4c23b_row14_col1\" class=\"data row14 col1\" >0.3090</td>\n",
       "      <td id=\"T_4c23b_row14_col2\" class=\"data row14 col2\" >0.1760</td>\n",
       "      <td id=\"T_4c23b_row14_col3\" class=\"data row14 col3\" >0.3776</td>\n",
       "      <td id=\"T_4c23b_row14_col4\" class=\"data row14 col4\" >-4.6362</td>\n",
       "      <td id=\"T_4c23b_row14_col5\" class=\"data row14 col5\" >0.0711</td>\n",
       "      <td id=\"T_4c23b_row14_col6\" class=\"data row14 col6\" >0.0722</td>\n",
       "      <td id=\"T_4c23b_row14_col7\" class=\"data row14 col7\" >0.3633</td>\n",
       "      <td id=\"T_4c23b_row14_col8\" class=\"data row14 col8\" >0.0742</td>\n",
       "      <td id=\"T_4c23b_row14_col9\" class=\"data row14 col9\" >0.3776</td>\n",
       "      <td id=\"T_4c23b_row14_col10\" class=\"data row14 col10\" >0.0686</td>\n",
       "      <td id=\"T_4c23b_row14_col11\" class=\"data row14 col11\" >0.0500</td>\n",
       "      <td id=\"T_4c23b_row14_col12\" class=\"data row14 col12\" >0.0090</td>\n",
       "    </tr>\n",
       "    <tr>\n",
       "      <th id=\"T_4c23b_level0_row15\" class=\"row_heading level0 row15\" >llar</th>\n",
       "      <td id=\"T_4c23b_row15_col0\" class=\"data row15 col0\" >Lasso Least Angle Regression</td>\n",
       "      <td id=\"T_4c23b_row15_col1\" class=\"data row15 col1\" >0.3090</td>\n",
       "      <td id=\"T_4c23b_row15_col2\" class=\"data row15 col2\" >0.1760</td>\n",
       "      <td id=\"T_4c23b_row15_col3\" class=\"data row15 col3\" >0.3776</td>\n",
       "      <td id=\"T_4c23b_row15_col4\" class=\"data row15 col4\" >-4.6362</td>\n",
       "      <td id=\"T_4c23b_row15_col5\" class=\"data row15 col5\" >0.0711</td>\n",
       "      <td id=\"T_4c23b_row15_col6\" class=\"data row15 col6\" >0.0722</td>\n",
       "      <td id=\"T_4c23b_row15_col7\" class=\"data row15 col7\" >0.3633</td>\n",
       "      <td id=\"T_4c23b_row15_col8\" class=\"data row15 col8\" >0.0742</td>\n",
       "      <td id=\"T_4c23b_row15_col9\" class=\"data row15 col9\" >0.3776</td>\n",
       "      <td id=\"T_4c23b_row15_col10\" class=\"data row15 col10\" >0.0686</td>\n",
       "      <td id=\"T_4c23b_row15_col11\" class=\"data row15 col11\" >0.0500</td>\n",
       "      <td id=\"T_4c23b_row15_col12\" class=\"data row15 col12\" >0.0090</td>\n",
       "    </tr>\n",
       "    <tr>\n",
       "      <th id=\"T_4c23b_level0_row16\" class=\"row_heading level0 row16\" >lightgbm</th>\n",
       "      <td id=\"T_4c23b_row16_col0\" class=\"data row16 col0\" >Light Gradient Boosting Machine</td>\n",
       "      <td id=\"T_4c23b_row16_col1\" class=\"data row16 col1\" >0.3090</td>\n",
       "      <td id=\"T_4c23b_row16_col2\" class=\"data row16 col2\" >0.1760</td>\n",
       "      <td id=\"T_4c23b_row16_col3\" class=\"data row16 col3\" >0.3776</td>\n",
       "      <td id=\"T_4c23b_row16_col4\" class=\"data row16 col4\" >-4.6362</td>\n",
       "      <td id=\"T_4c23b_row16_col5\" class=\"data row16 col5\" >0.0711</td>\n",
       "      <td id=\"T_4c23b_row16_col6\" class=\"data row16 col6\" >0.0722</td>\n",
       "      <td id=\"T_4c23b_row16_col7\" class=\"data row16 col7\" >0.3633</td>\n",
       "      <td id=\"T_4c23b_row16_col8\" class=\"data row16 col8\" >0.0742</td>\n",
       "      <td id=\"T_4c23b_row16_col9\" class=\"data row16 col9\" >0.3776</td>\n",
       "      <td id=\"T_4c23b_row16_col10\" class=\"data row16 col10\" >0.0686</td>\n",
       "      <td id=\"T_4c23b_row16_col11\" class=\"data row16 col11\" >0.0500</td>\n",
       "      <td id=\"T_4c23b_row16_col12\" class=\"data row16 col12\" >0.2090</td>\n",
       "    </tr>\n",
       "    <tr>\n",
       "      <th id=\"T_4c23b_level0_row17\" class=\"row_heading level0 row17\" >dummy</th>\n",
       "      <td id=\"T_4c23b_row17_col0\" class=\"data row17 col0\" >Dummy Regressor</td>\n",
       "      <td id=\"T_4c23b_row17_col1\" class=\"data row17 col1\" >0.3090</td>\n",
       "      <td id=\"T_4c23b_row17_col2\" class=\"data row17 col2\" >0.1760</td>\n",
       "      <td id=\"T_4c23b_row17_col3\" class=\"data row17 col3\" >0.3776</td>\n",
       "      <td id=\"T_4c23b_row17_col4\" class=\"data row17 col4\" >-4.6362</td>\n",
       "      <td id=\"T_4c23b_row17_col5\" class=\"data row17 col5\" >0.0711</td>\n",
       "      <td id=\"T_4c23b_row17_col6\" class=\"data row17 col6\" >0.0722</td>\n",
       "      <td id=\"T_4c23b_row17_col7\" class=\"data row17 col7\" >0.3633</td>\n",
       "      <td id=\"T_4c23b_row17_col8\" class=\"data row17 col8\" >0.0742</td>\n",
       "      <td id=\"T_4c23b_row17_col9\" class=\"data row17 col9\" >0.3776</td>\n",
       "      <td id=\"T_4c23b_row17_col10\" class=\"data row17 col10\" >0.0686</td>\n",
       "      <td id=\"T_4c23b_row17_col11\" class=\"data row17 col11\" >0.0500</td>\n",
       "      <td id=\"T_4c23b_row17_col12\" class=\"data row17 col12\" >0.0080</td>\n",
       "    </tr>\n",
       "    <tr>\n",
       "      <th id=\"T_4c23b_level0_row18\" class=\"row_heading level0 row18\" >par</th>\n",
       "      <td id=\"T_4c23b_row18_col0\" class=\"data row18 col0\" >Passive Aggressive Regressor</td>\n",
       "      <td id=\"T_4c23b_row18_col1\" class=\"data row18 col1\" >0.4155</td>\n",
       "      <td id=\"T_4c23b_row18_col2\" class=\"data row18 col2\" >0.3661</td>\n",
       "      <td id=\"T_4c23b_row18_col3\" class=\"data row18 col3\" >0.5121</td>\n",
       "      <td id=\"T_4c23b_row18_col4\" class=\"data row18 col4\" >-20.7351</td>\n",
       "      <td id=\"T_4c23b_row18_col5\" class=\"data row18 col5\" >0.0977</td>\n",
       "      <td id=\"T_4c23b_row18_col6\" class=\"data row18 col6\" >0.0987</td>\n",
       "      <td id=\"T_4c23b_row18_col7\" class=\"data row18 col7\" >0.4845</td>\n",
       "      <td id=\"T_4c23b_row18_col8\" class=\"data row18 col8\" >0.0980</td>\n",
       "      <td id=\"T_4c23b_row18_col9\" class=\"data row18 col9\" >0.5121</td>\n",
       "      <td id=\"T_4c23b_row18_col10\" class=\"data row18 col10\" >0.0951</td>\n",
       "      <td id=\"T_4c23b_row18_col11\" class=\"data row18 col11\" >0.1500</td>\n",
       "      <td id=\"T_4c23b_row18_col12\" class=\"data row18 col12\" >0.0090</td>\n",
       "    </tr>\n",
       "  </tbody>\n",
       "</table>\n"
      ],
      "text/plain": [
       "<pandas.io.formats.style.Styler at 0x7f78fb13bc10>"
      ]
     },
     "metadata": {},
     "output_type": "display_data"
    }
   ],
   "source": [
    "# z >= 3.7\n",
    "final_selection_reg  = ['et', 'catboost', 'xgboost', 'gbr', 'ada', 'dummy']\n",
    "# z >= 4\n",
    "final_selection_reg  = ['ada', 'catboost', 'rf', 'et', 'dt', 'dummy']\n",
    "n_models             = 5\n",
    "# top_model_z          = pyr.compare_models(n_select=n_models, include=final_selection_reg, sort='s_mad')  # 1:15 hour for used_models_clf\n",
    "top_model_z          = pyr.compare_models(n_select=n_models, exclude=['knn'], sort='s_mad')  # 5 minutes, using all models."
   ]
  },
  {
   "cell_type": "markdown",
   "id": "e650722c",
   "metadata": {},
   "source": [
    "Thus, we select `lightgbm` as meta learner."
   ]
  },
  {
   "cell_type": "markdown",
   "id": "ea2441d4",
   "metadata": {},
   "source": [
    "Thus, we stack the models."
   ]
  },
  {
   "cell_type": "code",
   "execution_count": 73,
   "id": "df1b010d",
   "metadata": {},
   "outputs": [
    {
     "data": {
      "text/html": [
       "<style type=\"text/css\">\n",
       "#T_2b46c_row10_col0, #T_2b46c_row10_col1, #T_2b46c_row10_col2, #T_2b46c_row10_col3, #T_2b46c_row10_col4, #T_2b46c_row10_col5, #T_2b46c_row10_col6, #T_2b46c_row10_col7, #T_2b46c_row10_col8, #T_2b46c_row10_col9, #T_2b46c_row10_col10 {\n",
       "  background: yellow;\n",
       "}\n",
       "</style>\n",
       "<table id=\"T_2b46c\">\n",
       "  <thead>\n",
       "    <tr>\n",
       "      <th class=\"blank level0\" >&nbsp;</th>\n",
       "      <th id=\"T_2b46c_level0_col0\" class=\"col_heading level0 col0\" >MAE</th>\n",
       "      <th id=\"T_2b46c_level0_col1\" class=\"col_heading level0 col1\" >MSE</th>\n",
       "      <th id=\"T_2b46c_level0_col2\" class=\"col_heading level0 col2\" >RMSE</th>\n",
       "      <th id=\"T_2b46c_level0_col3\" class=\"col_heading level0 col3\" >R2</th>\n",
       "      <th id=\"T_2b46c_level0_col4\" class=\"col_heading level0 col4\" >RMSLE</th>\n",
       "      <th id=\"T_2b46c_level0_col5\" class=\"col_heading level0 col5\" >MAPE</th>\n",
       "      <th id=\"T_2b46c_level0_col6\" class=\"col_heading level0 col6\" >sigma_mad</th>\n",
       "      <th id=\"T_2b46c_level0_col7\" class=\"col_heading level0 col7\" >sigma_nmad</th>\n",
       "      <th id=\"T_2b46c_level0_col8\" class=\"col_heading level0 col8\" >sigma_z</th>\n",
       "      <th id=\"T_2b46c_level0_col9\" class=\"col_heading level0 col9\" >sigma_z_norm</th>\n",
       "      <th id=\"T_2b46c_level0_col10\" class=\"col_heading level0 col10\" >outlier_fr</th>\n",
       "    </tr>\n",
       "    <tr>\n",
       "      <th class=\"index_name level0\" >Fold</th>\n",
       "      <th class=\"blank col0\" >&nbsp;</th>\n",
       "      <th class=\"blank col1\" >&nbsp;</th>\n",
       "      <th class=\"blank col2\" >&nbsp;</th>\n",
       "      <th class=\"blank col3\" >&nbsp;</th>\n",
       "      <th class=\"blank col4\" >&nbsp;</th>\n",
       "      <th class=\"blank col5\" >&nbsp;</th>\n",
       "      <th class=\"blank col6\" >&nbsp;</th>\n",
       "      <th class=\"blank col7\" >&nbsp;</th>\n",
       "      <th class=\"blank col8\" >&nbsp;</th>\n",
       "      <th class=\"blank col9\" >&nbsp;</th>\n",
       "      <th class=\"blank col10\" >&nbsp;</th>\n",
       "    </tr>\n",
       "  </thead>\n",
       "  <tbody>\n",
       "    <tr>\n",
       "      <th id=\"T_2b46c_level0_row0\" class=\"row_heading level0 row0\" >0</th>\n",
       "      <td id=\"T_2b46c_row0_col0\" class=\"data row0 col0\" >0.0234</td>\n",
       "      <td id=\"T_2b46c_row0_col1\" class=\"data row0 col1\" >0.0006</td>\n",
       "      <td id=\"T_2b46c_row0_col2\" class=\"data row0 col2\" >0.0247</td>\n",
       "      <td id=\"T_2b46c_row0_col3\" class=\"data row0 col3\" >0.8577</td>\n",
       "      <td id=\"T_2b46c_row0_col4\" class=\"data row0 col4\" >0.0051</td>\n",
       "      <td id=\"T_2b46c_row0_col5\" class=\"data row0 col5\" >0.0061</td>\n",
       "      <td id=\"T_2b46c_row0_col6\" class=\"data row0 col6\" >0.0371</td>\n",
       "      <td id=\"T_2b46c_row0_col7\" class=\"data row0 col7\" >0.0076</td>\n",
       "      <td id=\"T_2b46c_row0_col8\" class=\"data row0 col8\" >0.0247</td>\n",
       "      <td id=\"T_2b46c_row0_col9\" class=\"data row0 col9\" >0.0051</td>\n",
       "      <td id=\"T_2b46c_row0_col10\" class=\"data row0 col10\" >0.0000</td>\n",
       "    </tr>\n",
       "    <tr>\n",
       "      <th id=\"T_2b46c_level0_row1\" class=\"row_heading level0 row1\" >1</th>\n",
       "      <td id=\"T_2b46c_row1_col0\" class=\"data row1 col0\" >0.1448</td>\n",
       "      <td id=\"T_2b46c_row1_col1\" class=\"data row1 col1\" >0.0236</td>\n",
       "      <td id=\"T_2b46c_row1_col2\" class=\"data row1 col2\" >0.1535</td>\n",
       "      <td id=\"T_2b46c_row1_col3\" class=\"data row1 col3\" >0.8605</td>\n",
       "      <td id=\"T_2b46c_row1_col4\" class=\"data row1 col4\" >0.0314</td>\n",
       "      <td id=\"T_2b46c_row1_col5\" class=\"data row1 col5\" >0.0376</td>\n",
       "      <td id=\"T_2b46c_row1_col6\" class=\"data row1 col6\" >0.2279</td>\n",
       "      <td id=\"T_2b46c_row1_col7\" class=\"data row1 col7\" >0.0482</td>\n",
       "      <td id=\"T_2b46c_row1_col8\" class=\"data row1 col8\" >0.1535</td>\n",
       "      <td id=\"T_2b46c_row1_col9\" class=\"data row1 col9\" >0.0319</td>\n",
       "      <td id=\"T_2b46c_row1_col10\" class=\"data row1 col10\" >0.0000</td>\n",
       "    </tr>\n",
       "    <tr>\n",
       "      <th id=\"T_2b46c_level0_row2\" class=\"row_heading level0 row2\" >2</th>\n",
       "      <td id=\"T_2b46c_row2_col0\" class=\"data row2 col0\" >0.1001</td>\n",
       "      <td id=\"T_2b46c_row2_col1\" class=\"data row2 col1\" >0.0170</td>\n",
       "      <td id=\"T_2b46c_row2_col2\" class=\"data row2 col2\" >0.1304</td>\n",
       "      <td id=\"T_2b46c_row2_col3\" class=\"data row2 col3\" >0.8977</td>\n",
       "      <td id=\"T_2b46c_row2_col4\" class=\"data row2 col4\" >0.0265</td>\n",
       "      <td id=\"T_2b46c_row2_col5\" class=\"data row2 col5\" >0.0257</td>\n",
       "      <td id=\"T_2b46c_row2_col6\" class=\"data row2 col6\" >0.1125</td>\n",
       "      <td id=\"T_2b46c_row2_col7\" class=\"data row2 col7\" >0.0227</td>\n",
       "      <td id=\"T_2b46c_row2_col8\" class=\"data row2 col8\" >0.1304</td>\n",
       "      <td id=\"T_2b46c_row2_col9\" class=\"data row2 col9\" >0.0269</td>\n",
       "      <td id=\"T_2b46c_row2_col10\" class=\"data row2 col10\" >0.0000</td>\n",
       "    </tr>\n",
       "    <tr>\n",
       "      <th id=\"T_2b46c_level0_row3\" class=\"row_heading level0 row3\" >3</th>\n",
       "      <td id=\"T_2b46c_row3_col0\" class=\"data row3 col0\" >0.3287</td>\n",
       "      <td id=\"T_2b46c_row3_col1\" class=\"data row3 col1\" >0.2430</td>\n",
       "      <td id=\"T_2b46c_row3_col2\" class=\"data row3 col2\" >0.4930</td>\n",
       "      <td id=\"T_2b46c_row3_col3\" class=\"data row3 col3\" >0.5952</td>\n",
       "      <td id=\"T_2b46c_row3_col4\" class=\"data row3 col4\" >0.0804</td>\n",
       "      <td id=\"T_2b46c_row3_col5\" class=\"data row3 col5\" >0.0646</td>\n",
       "      <td id=\"T_2b46c_row3_col6\" class=\"data row3 col6\" >0.1757</td>\n",
       "      <td id=\"T_2b46c_row3_col7\" class=\"data row3 col7\" >0.0359</td>\n",
       "      <td id=\"T_2b46c_row3_col8\" class=\"data row3 col8\" >0.4930</td>\n",
       "      <td id=\"T_2b46c_row3_col9\" class=\"data row3 col9\" >0.0749</td>\n",
       "      <td id=\"T_2b46c_row3_col10\" class=\"data row3 col10\" >0.0000</td>\n",
       "    </tr>\n",
       "    <tr>\n",
       "      <th id=\"T_2b46c_level0_row4\" class=\"row_heading level0 row4\" >4</th>\n",
       "      <td id=\"T_2b46c_row4_col0\" class=\"data row4 col0\" >0.1449</td>\n",
       "      <td id=\"T_2b46c_row4_col1\" class=\"data row4 col1\" >0.0298</td>\n",
       "      <td id=\"T_2b46c_row4_col2\" class=\"data row4 col2\" >0.1727</td>\n",
       "      <td id=\"T_2b46c_row4_col3\" class=\"data row4 col3\" >-2.2620</td>\n",
       "      <td id=\"T_2b46c_row4_col4\" class=\"data row4 col4\" >0.0339</td>\n",
       "      <td id=\"T_2b46c_row4_col5\" class=\"data row4 col5\" >0.0344</td>\n",
       "      <td id=\"T_2b46c_row4_col6\" class=\"data row4 col6\" >0.2332</td>\n",
       "      <td id=\"T_2b46c_row4_col7\" class=\"data row4 col7\" >0.0449</td>\n",
       "      <td id=\"T_2b46c_row4_col8\" class=\"data row4 col8\" >0.1727</td>\n",
       "      <td id=\"T_2b46c_row4_col9\" class=\"data row4 col9\" >0.0331</td>\n",
       "      <td id=\"T_2b46c_row4_col10\" class=\"data row4 col10\" >0.0000</td>\n",
       "    </tr>\n",
       "    <tr>\n",
       "      <th id=\"T_2b46c_level0_row5\" class=\"row_heading level0 row5\" >5</th>\n",
       "      <td id=\"T_2b46c_row5_col0\" class=\"data row5 col0\" >0.1625</td>\n",
       "      <td id=\"T_2b46c_row5_col1\" class=\"data row5 col1\" >0.0310</td>\n",
       "      <td id=\"T_2b46c_row5_col2\" class=\"data row5 col2\" >0.1760</td>\n",
       "      <td id=\"T_2b46c_row5_col3\" class=\"data row5 col3\" >0.7669</td>\n",
       "      <td id=\"T_2b46c_row5_col4\" class=\"data row5 col4\" >0.0317</td>\n",
       "      <td id=\"T_2b46c_row5_col5\" class=\"data row5 col5\" >0.0361</td>\n",
       "      <td id=\"T_2b46c_row5_col6\" class=\"data row5 col6\" >0.2232</td>\n",
       "      <td id=\"T_2b46c_row5_col7\" class=\"data row5 col7\" >0.0426</td>\n",
       "      <td id=\"T_2b46c_row5_col8\" class=\"data row5 col8\" >0.1760</td>\n",
       "      <td id=\"T_2b46c_row5_col9\" class=\"data row5 col9\" >0.0313</td>\n",
       "      <td id=\"T_2b46c_row5_col10\" class=\"data row5 col10\" >0.0000</td>\n",
       "    </tr>\n",
       "    <tr>\n",
       "      <th id=\"T_2b46c_level0_row6\" class=\"row_heading level0 row6\" >6</th>\n",
       "      <td id=\"T_2b46c_row6_col0\" class=\"data row6 col0\" >0.0600</td>\n",
       "      <td id=\"T_2b46c_row6_col1\" class=\"data row6 col1\" >0.0041</td>\n",
       "      <td id=\"T_2b46c_row6_col2\" class=\"data row6 col2\" >0.0643</td>\n",
       "      <td id=\"T_2b46c_row6_col3\" class=\"data row6 col3\" >0.5796</td>\n",
       "      <td id=\"T_2b46c_row6_col4\" class=\"data row6 col4\" >0.0132</td>\n",
       "      <td id=\"T_2b46c_row6_col5\" class=\"data row6 col5\" >0.0157</td>\n",
       "      <td id=\"T_2b46c_row6_col6\" class=\"data row6 col6\" >0.1055</td>\n",
       "      <td id=\"T_2b46c_row6_col7\" class=\"data row6 col7\" >0.0220</td>\n",
       "      <td id=\"T_2b46c_row6_col8\" class=\"data row6 col8\" >0.0643</td>\n",
       "      <td id=\"T_2b46c_row6_col9\" class=\"data row6 col9\" >0.0133</td>\n",
       "      <td id=\"T_2b46c_row6_col10\" class=\"data row6 col10\" >0.0000</td>\n",
       "    </tr>\n",
       "    <tr>\n",
       "      <th id=\"T_2b46c_level0_row7\" class=\"row_heading level0 row7\" >7</th>\n",
       "      <td id=\"T_2b46c_row7_col0\" class=\"data row7 col0\" >0.1663</td>\n",
       "      <td id=\"T_2b46c_row7_col1\" class=\"data row7 col1\" >0.0333</td>\n",
       "      <td id=\"T_2b46c_row7_col2\" class=\"data row7 col2\" >0.1824</td>\n",
       "      <td id=\"T_2b46c_row7_col3\" class=\"data row7 col3\" >-7.1868</td>\n",
       "      <td id=\"T_2b46c_row7_col4\" class=\"data row7 col4\" >0.0370</td>\n",
       "      <td id=\"T_2b46c_row7_col5\" class=\"data row7 col5\" >0.0434</td>\n",
       "      <td id=\"T_2b46c_row7_col6\" class=\"data row7 col6\" >0.2833</td>\n",
       "      <td id=\"T_2b46c_row7_col7\" class=\"data row7 col7\" >0.0585</td>\n",
       "      <td id=\"T_2b46c_row7_col8\" class=\"data row7 col8\" >0.1824</td>\n",
       "      <td id=\"T_2b46c_row7_col9\" class=\"data row7 col9\" >0.0378</td>\n",
       "      <td id=\"T_2b46c_row7_col10\" class=\"data row7 col10\" >0.0000</td>\n",
       "    </tr>\n",
       "    <tr>\n",
       "      <th id=\"T_2b46c_level0_row8\" class=\"row_heading level0 row8\" >8</th>\n",
       "      <td id=\"T_2b46c_row8_col0\" class=\"data row8 col0\" >0.1844</td>\n",
       "      <td id=\"T_2b46c_row8_col1\" class=\"data row8 col1\" >0.0555</td>\n",
       "      <td id=\"T_2b46c_row8_col2\" class=\"data row8 col2\" >0.2356</td>\n",
       "      <td id=\"T_2b46c_row8_col3\" class=\"data row8 col3\" >0.4403</td>\n",
       "      <td id=\"T_2b46c_row8_col4\" class=\"data row8 col4\" >0.0449</td>\n",
       "      <td id=\"T_2b46c_row8_col5\" class=\"data row8 col5\" >0.0429</td>\n",
       "      <td id=\"T_2b46c_row8_col6\" class=\"data row8 col6\" >0.2521</td>\n",
       "      <td id=\"T_2b46c_row8_col7\" class=\"data row8 col7\" >0.0475</td>\n",
       "      <td id=\"T_2b46c_row8_col8\" class=\"data row8 col8\" >0.2356</td>\n",
       "      <td id=\"T_2b46c_row8_col9\" class=\"data row8 col9\" >0.0440</td>\n",
       "      <td id=\"T_2b46c_row8_col10\" class=\"data row8 col10\" >0.0000</td>\n",
       "    </tr>\n",
       "    <tr>\n",
       "      <th id=\"T_2b46c_level0_row9\" class=\"row_heading level0 row9\" >9</th>\n",
       "      <td id=\"T_2b46c_row9_col0\" class=\"data row9 col0\" >0.1109</td>\n",
       "      <td id=\"T_2b46c_row9_col1\" class=\"data row9 col1\" >0.0326</td>\n",
       "      <td id=\"T_2b46c_row9_col2\" class=\"data row9 col2\" >0.1805</td>\n",
       "      <td id=\"T_2b46c_row9_col3\" class=\"data row9 col3\" >0.6149</td>\n",
       "      <td id=\"T_2b46c_row9_col4\" class=\"data row9 col4\" >0.0313</td>\n",
       "      <td id=\"T_2b46c_row9_col5\" class=\"data row9 col5\" >0.0248</td>\n",
       "      <td id=\"T_2b46c_row9_col6\" class=\"data row9 col6\" >0.0521</td>\n",
       "      <td id=\"T_2b46c_row9_col7\" class=\"data row9 col7\" >0.0106</td>\n",
       "      <td id=\"T_2b46c_row9_col8\" class=\"data row9 col8\" >0.1805</td>\n",
       "      <td id=\"T_2b46c_row9_col9\" class=\"data row9 col9\" >0.0323</td>\n",
       "      <td id=\"T_2b46c_row9_col10\" class=\"data row9 col10\" >0.0000</td>\n",
       "    </tr>\n",
       "    <tr>\n",
       "      <th id=\"T_2b46c_level0_row10\" class=\"row_heading level0 row10\" >Mean</th>\n",
       "      <td id=\"T_2b46c_row10_col0\" class=\"data row10 col0\" >0.1426</td>\n",
       "      <td id=\"T_2b46c_row10_col1\" class=\"data row10 col1\" >0.0471</td>\n",
       "      <td id=\"T_2b46c_row10_col2\" class=\"data row10 col2\" >0.1813</td>\n",
       "      <td id=\"T_2b46c_row10_col3\" class=\"data row10 col3\" >-0.3836</td>\n",
       "      <td id=\"T_2b46c_row10_col4\" class=\"data row10 col4\" >0.0335</td>\n",
       "      <td id=\"T_2b46c_row10_col5\" class=\"data row10 col5\" >0.0331</td>\n",
       "      <td id=\"T_2b46c_row10_col6\" class=\"data row10 col6\" >0.1703</td>\n",
       "      <td id=\"T_2b46c_row10_col7\" class=\"data row10 col7\" >0.0340</td>\n",
       "      <td id=\"T_2b46c_row10_col8\" class=\"data row10 col8\" >0.1813</td>\n",
       "      <td id=\"T_2b46c_row10_col9\" class=\"data row10 col9\" >0.0331</td>\n",
       "      <td id=\"T_2b46c_row10_col10\" class=\"data row10 col10\" >0.0000</td>\n",
       "    </tr>\n",
       "    <tr>\n",
       "      <th id=\"T_2b46c_level0_row11\" class=\"row_heading level0 row11\" >Std</th>\n",
       "      <td id=\"T_2b46c_row11_col0\" class=\"data row11 col0\" >0.0782</td>\n",
       "      <td id=\"T_2b46c_row11_col1\" class=\"data row11 col1\" >0.0670</td>\n",
       "      <td id=\"T_2b46c_row11_col2\" class=\"data row11 col2\" >0.1191</td>\n",
       "      <td id=\"T_2b46c_row11_col3\" class=\"data row11 col3\" >2.4378</td>\n",
       "      <td id=\"T_2b46c_row11_col4\" class=\"data row11 col4\" >0.0190</td>\n",
       "      <td id=\"T_2b46c_row11_col5\" class=\"data row11 col5\" >0.0154</td>\n",
       "      <td id=\"T_2b46c_row11_col6\" class=\"data row11 col6\" >0.0829</td>\n",
       "      <td id=\"T_2b46c_row11_col7\" class=\"data row11 col7\" >0.0164</td>\n",
       "      <td id=\"T_2b46c_row11_col8\" class=\"data row11 col8\" >0.1191</td>\n",
       "      <td id=\"T_2b46c_row11_col9\" class=\"data row11 col9\" >0.0176</td>\n",
       "      <td id=\"T_2b46c_row11_col10\" class=\"data row11 col10\" >0.0000</td>\n",
       "    </tr>\n",
       "  </tbody>\n",
       "</table>\n"
      ],
      "text/plain": [
       "<pandas.io.formats.style.Styler at 0x7f78fb2ee430>"
      ]
     },
     "metadata": {},
     "output_type": "display_data"
    }
   ],
   "source": [
    "stacked_model_z = pyr.stack_models(estimator_list=top_model_z[1:], meta_model=top_model_z[0], optimize='s_mad')"
   ]
  },
  {
   "cell_type": "code",
   "execution_count": 74,
   "id": "22742d86",
   "metadata": {
    "id": "Dz0XvX17teel"
   },
   "outputs": [
    {
     "data": {
      "text/html": [
       "<style type=\"text/css\">\n",
       "#T_cf733_row10_col0, #T_cf733_row10_col1, #T_cf733_row10_col2, #T_cf733_row10_col3, #T_cf733_row10_col4, #T_cf733_row10_col5, #T_cf733_row10_col6, #T_cf733_row10_col7, #T_cf733_row10_col8, #T_cf733_row10_col9, #T_cf733_row10_col10 {\n",
       "  background: yellow;\n",
       "}\n",
       "</style>\n",
       "<table id=\"T_cf733\">\n",
       "  <thead>\n",
       "    <tr>\n",
       "      <th class=\"blank level0\" >&nbsp;</th>\n",
       "      <th id=\"T_cf733_level0_col0\" class=\"col_heading level0 col0\" >MAE</th>\n",
       "      <th id=\"T_cf733_level0_col1\" class=\"col_heading level0 col1\" >MSE</th>\n",
       "      <th id=\"T_cf733_level0_col2\" class=\"col_heading level0 col2\" >RMSE</th>\n",
       "      <th id=\"T_cf733_level0_col3\" class=\"col_heading level0 col3\" >R2</th>\n",
       "      <th id=\"T_cf733_level0_col4\" class=\"col_heading level0 col4\" >RMSLE</th>\n",
       "      <th id=\"T_cf733_level0_col5\" class=\"col_heading level0 col5\" >MAPE</th>\n",
       "      <th id=\"T_cf733_level0_col6\" class=\"col_heading level0 col6\" >sigma_mad</th>\n",
       "      <th id=\"T_cf733_level0_col7\" class=\"col_heading level0 col7\" >sigma_nmad</th>\n",
       "      <th id=\"T_cf733_level0_col8\" class=\"col_heading level0 col8\" >sigma_z</th>\n",
       "      <th id=\"T_cf733_level0_col9\" class=\"col_heading level0 col9\" >sigma_z_norm</th>\n",
       "      <th id=\"T_cf733_level0_col10\" class=\"col_heading level0 col10\" >outlier_fr</th>\n",
       "    </tr>\n",
       "    <tr>\n",
       "      <th class=\"index_name level0\" >Fold</th>\n",
       "      <th class=\"blank col0\" >&nbsp;</th>\n",
       "      <th class=\"blank col1\" >&nbsp;</th>\n",
       "      <th class=\"blank col2\" >&nbsp;</th>\n",
       "      <th class=\"blank col3\" >&nbsp;</th>\n",
       "      <th class=\"blank col4\" >&nbsp;</th>\n",
       "      <th class=\"blank col5\" >&nbsp;</th>\n",
       "      <th class=\"blank col6\" >&nbsp;</th>\n",
       "      <th class=\"blank col7\" >&nbsp;</th>\n",
       "      <th class=\"blank col8\" >&nbsp;</th>\n",
       "      <th class=\"blank col9\" >&nbsp;</th>\n",
       "      <th class=\"blank col10\" >&nbsp;</th>\n",
       "    </tr>\n",
       "  </thead>\n",
       "  <tbody>\n",
       "    <tr>\n",
       "      <th id=\"T_cf733_level0_row0\" class=\"row_heading level0 row0\" >0</th>\n",
       "      <td id=\"T_cf733_row0_col0\" class=\"data row0 col0\" >0.0502</td>\n",
       "      <td id=\"T_cf733_row0_col1\" class=\"data row0 col1\" >0.0046</td>\n",
       "      <td id=\"T_cf733_row0_col2\" class=\"data row0 col2\" >0.0679</td>\n",
       "      <td id=\"T_cf733_row0_col3\" class=\"data row0 col3\" >-0.0724</td>\n",
       "      <td id=\"T_cf733_row0_col4\" class=\"data row0 col4\" >0.0140</td>\n",
       "      <td id=\"T_cf733_row0_col5\" class=\"data row0 col5\" >0.0132</td>\n",
       "      <td id=\"T_cf733_row0_col6\" class=\"data row0 col6\" >0.0450</td>\n",
       "      <td id=\"T_cf733_row0_col7\" class=\"data row0 col7\" >0.0093</td>\n",
       "      <td id=\"T_cf733_row0_col8\" class=\"data row0 col8\" >0.0679</td>\n",
       "      <td id=\"T_cf733_row0_col9\" class=\"data row0 col9\" >0.0142</td>\n",
       "      <td id=\"T_cf733_row0_col10\" class=\"data row0 col10\" >0.0000</td>\n",
       "    </tr>\n",
       "    <tr>\n",
       "      <th id=\"T_cf733_level0_row1\" class=\"row_heading level0 row1\" >1</th>\n",
       "      <td id=\"T_cf733_row1_col0\" class=\"data row1 col0\" >0.1412</td>\n",
       "      <td id=\"T_cf733_row1_col1\" class=\"data row1 col1\" >0.0253</td>\n",
       "      <td id=\"T_cf733_row1_col2\" class=\"data row1 col2\" >0.1592</td>\n",
       "      <td id=\"T_cf733_row1_col3\" class=\"data row1 col3\" >0.8502</td>\n",
       "      <td id=\"T_cf733_row1_col4\" class=\"data row1 col4\" >0.0328</td>\n",
       "      <td id=\"T_cf733_row1_col5\" class=\"data row1 col5\" >0.0374</td>\n",
       "      <td id=\"T_cf733_row1_col6\" class=\"data row1 col6\" >0.2393</td>\n",
       "      <td id=\"T_cf733_row1_col7\" class=\"data row1 col7\" >0.0503</td>\n",
       "      <td id=\"T_cf733_row1_col8\" class=\"data row1 col8\" >0.1592</td>\n",
       "      <td id=\"T_cf733_row1_col9\" class=\"data row1 col9\" >0.0335</td>\n",
       "      <td id=\"T_cf733_row1_col10\" class=\"data row1 col10\" >0.0000</td>\n",
       "    </tr>\n",
       "    <tr>\n",
       "      <th id=\"T_cf733_level0_row2\" class=\"row_heading level0 row2\" >2</th>\n",
       "      <td id=\"T_cf733_row2_col0\" class=\"data row2 col0\" >0.1878</td>\n",
       "      <td id=\"T_cf733_row2_col1\" class=\"data row2 col1\" >0.0461</td>\n",
       "      <td id=\"T_cf733_row2_col2\" class=\"data row2 col2\" >0.2147</td>\n",
       "      <td id=\"T_cf733_row2_col3\" class=\"data row2 col3\" >0.7229</td>\n",
       "      <td id=\"T_cf733_row2_col4\" class=\"data row2 col4\" >0.0397</td>\n",
       "      <td id=\"T_cf733_row2_col5\" class=\"data row2 col5\" >0.0437</td>\n",
       "      <td id=\"T_cf733_row2_col6\" class=\"data row2 col6\" >0.2460</td>\n",
       "      <td id=\"T_cf733_row2_col7\" class=\"data row2 col7\" >0.0503</td>\n",
       "      <td id=\"T_cf733_row2_col8\" class=\"data row2 col8\" >0.2147</td>\n",
       "      <td id=\"T_cf733_row2_col9\" class=\"data row2 col9\" >0.0393</td>\n",
       "      <td id=\"T_cf733_row2_col10\" class=\"data row2 col10\" >0.0000</td>\n",
       "    </tr>\n",
       "    <tr>\n",
       "      <th id=\"T_cf733_level0_row3\" class=\"row_heading level0 row3\" >3</th>\n",
       "      <td id=\"T_cf733_row3_col0\" class=\"data row3 col0\" >0.3907</td>\n",
       "      <td id=\"T_cf733_row3_col1\" class=\"data row3 col1\" >0.3962</td>\n",
       "      <td id=\"T_cf733_row3_col2\" class=\"data row3 col2\" >0.6294</td>\n",
       "      <td id=\"T_cf733_row3_col3\" class=\"data row3 col3\" >0.3402</td>\n",
       "      <td id=\"T_cf733_row3_col4\" class=\"data row3 col4\" >0.1049</td>\n",
       "      <td id=\"T_cf733_row3_col5\" class=\"data row3 col5\" >0.0756</td>\n",
       "      <td id=\"T_cf733_row3_col6\" class=\"data row3 col6\" >0.2351</td>\n",
       "      <td id=\"T_cf733_row3_col7\" class=\"data row3 col7\" >0.0489</td>\n",
       "      <td id=\"T_cf733_row3_col8\" class=\"data row3 col8\" >0.6294</td>\n",
       "      <td id=\"T_cf733_row3_col9\" class=\"data row3 col9\" >0.0957</td>\n",
       "      <td id=\"T_cf733_row3_col10\" class=\"data row3 col10\" >0.2500</td>\n",
       "    </tr>\n",
       "    <tr>\n",
       "      <th id=\"T_cf733_level0_row4\" class=\"row_heading level0 row4\" >4</th>\n",
       "      <td id=\"T_cf733_row4_col0\" class=\"data row4 col0\" >0.1078</td>\n",
       "      <td id=\"T_cf733_row4_col1\" class=\"data row4 col1\" >0.0170</td>\n",
       "      <td id=\"T_cf733_row4_col2\" class=\"data row4 col2\" >0.1305</td>\n",
       "      <td id=\"T_cf733_row4_col3\" class=\"data row4 col3\" >-0.8624</td>\n",
       "      <td id=\"T_cf733_row4_col4\" class=\"data row4 col4\" >0.0254</td>\n",
       "      <td id=\"T_cf733_row4_col5\" class=\"data row4 col5\" >0.0256</td>\n",
       "      <td id=\"T_cf733_row4_col6\" class=\"data row4 col6\" >0.1426</td>\n",
       "      <td id=\"T_cf733_row4_col7\" class=\"data row4 col7\" >0.0275</td>\n",
       "      <td id=\"T_cf733_row4_col8\" class=\"data row4 col8\" >0.1305</td>\n",
       "      <td id=\"T_cf733_row4_col9\" class=\"data row4 col9\" >0.0250</td>\n",
       "      <td id=\"T_cf733_row4_col10\" class=\"data row4 col10\" >0.0000</td>\n",
       "    </tr>\n",
       "    <tr>\n",
       "      <th id=\"T_cf733_level0_row5\" class=\"row_heading level0 row5\" >5</th>\n",
       "      <td id=\"T_cf733_row5_col0\" class=\"data row5 col0\" >0.1210</td>\n",
       "      <td id=\"T_cf733_row5_col1\" class=\"data row5 col1\" >0.0366</td>\n",
       "      <td id=\"T_cf733_row5_col2\" class=\"data row5 col2\" >0.1912</td>\n",
       "      <td id=\"T_cf733_row5_col3\" class=\"data row5 col3\" >0.7251</td>\n",
       "      <td id=\"T_cf733_row5_col4\" class=\"data row5 col4\" >0.0331</td>\n",
       "      <td id=\"T_cf733_row5_col5\" class=\"data row5 col5\" >0.0253</td>\n",
       "      <td id=\"T_cf733_row5_col6\" class=\"data row5 col6\" >0.0726</td>\n",
       "      <td id=\"T_cf733_row5_col7\" class=\"data row5 col7\" >0.0142</td>\n",
       "      <td id=\"T_cf733_row5_col8\" class=\"data row5 col8\" >0.1912</td>\n",
       "      <td id=\"T_cf733_row5_col9\" class=\"data row5 col9\" >0.0321</td>\n",
       "      <td id=\"T_cf733_row5_col10\" class=\"data row5 col10\" >0.0000</td>\n",
       "    </tr>\n",
       "    <tr>\n",
       "      <th id=\"T_cf733_level0_row6\" class=\"row_heading level0 row6\" >6</th>\n",
       "      <td id=\"T_cf733_row6_col0\" class=\"data row6 col0\" >0.0871</td>\n",
       "      <td id=\"T_cf733_row6_col1\" class=\"data row6 col1\" >0.0098</td>\n",
       "      <td id=\"T_cf733_row6_col2\" class=\"data row6 col2\" >0.0990</td>\n",
       "      <td id=\"T_cf733_row6_col3\" class=\"data row6 col3\" >0.0025</td>\n",
       "      <td id=\"T_cf733_row6_col4\" class=\"data row6 col4\" >0.0205</td>\n",
       "      <td id=\"T_cf733_row6_col5\" class=\"data row6 col5\" >0.0229</td>\n",
       "      <td id=\"T_cf733_row6_col6\" class=\"data row6 col6\" >0.1283</td>\n",
       "      <td id=\"T_cf733_row6_col7\" class=\"data row6 col7\" >0.0266</td>\n",
       "      <td id=\"T_cf733_row6_col8\" class=\"data row6 col8\" >0.0990</td>\n",
       "      <td id=\"T_cf733_row6_col9\" class=\"data row6 col9\" >0.0207</td>\n",
       "      <td id=\"T_cf733_row6_col10\" class=\"data row6 col10\" >0.0000</td>\n",
       "    </tr>\n",
       "    <tr>\n",
       "      <th id=\"T_cf733_level0_row7\" class=\"row_heading level0 row7\" >7</th>\n",
       "      <td id=\"T_cf733_row7_col0\" class=\"data row7 col0\" >0.2003</td>\n",
       "      <td id=\"T_cf733_row7_col1\" class=\"data row7 col1\" >0.0425</td>\n",
       "      <td id=\"T_cf733_row7_col2\" class=\"data row7 col2\" >0.2061</td>\n",
       "      <td id=\"T_cf733_row7_col3\" class=\"data row7 col3\" >-9.4568</td>\n",
       "      <td id=\"T_cf733_row7_col4\" class=\"data row7 col4\" >0.0417</td>\n",
       "      <td id=\"T_cf733_row7_col5\" class=\"data row7 col5\" >0.0523</td>\n",
       "      <td id=\"T_cf733_row7_col6\" class=\"data row7 col6\" >0.3037</td>\n",
       "      <td id=\"T_cf733_row7_col7\" class=\"data row7 col7\" >0.0626</td>\n",
       "      <td id=\"T_cf733_row7_col8\" class=\"data row7 col8\" >0.2061</td>\n",
       "      <td id=\"T_cf733_row7_col9\" class=\"data row7 col9\" >0.0426</td>\n",
       "      <td id=\"T_cf733_row7_col10\" class=\"data row7 col10\" >0.0000</td>\n",
       "    </tr>\n",
       "    <tr>\n",
       "      <th id=\"T_cf733_level0_row8\" class=\"row_heading level0 row8\" >8</th>\n",
       "      <td id=\"T_cf733_row8_col0\" class=\"data row8 col0\" >0.1462</td>\n",
       "      <td id=\"T_cf733_row8_col1\" class=\"data row8 col1\" >0.0468</td>\n",
       "      <td id=\"T_cf733_row8_col2\" class=\"data row8 col2\" >0.2163</td>\n",
       "      <td id=\"T_cf733_row8_col3\" class=\"data row8 col3\" >0.5282</td>\n",
       "      <td id=\"T_cf733_row8_col4\" class=\"data row8 col4\" >0.0427</td>\n",
       "      <td id=\"T_cf733_row8_col5\" class=\"data row8 col5\" >0.0353</td>\n",
       "      <td id=\"T_cf733_row8_col6\" class=\"data row8 col6\" >0.1308</td>\n",
       "      <td id=\"T_cf733_row8_col7\" class=\"data row8 col7\" >0.0272</td>\n",
       "      <td id=\"T_cf733_row8_col8\" class=\"data row8 col8\" >0.2163</td>\n",
       "      <td id=\"T_cf733_row8_col9\" class=\"data row8 col9\" >0.0415</td>\n",
       "      <td id=\"T_cf733_row8_col10\" class=\"data row8 col10\" >0.0000</td>\n",
       "    </tr>\n",
       "    <tr>\n",
       "      <th id=\"T_cf733_level0_row9\" class=\"row_heading level0 row9\" >9</th>\n",
       "      <td id=\"T_cf733_row9_col0\" class=\"data row9 col0\" >0.0492</td>\n",
       "      <td id=\"T_cf733_row9_col1\" class=\"data row9 col1\" >0.0028</td>\n",
       "      <td id=\"T_cf733_row9_col2\" class=\"data row9 col2\" >0.0533</td>\n",
       "      <td id=\"T_cf733_row9_col3\" class=\"data row9 col3\" >0.9664</td>\n",
       "      <td id=\"T_cf733_row9_col4\" class=\"data row9 col4\" >0.0102</td>\n",
       "      <td id=\"T_cf733_row9_col5\" class=\"data row9 col5\" >0.0119</td>\n",
       "      <td id=\"T_cf733_row9_col6\" class=\"data row9 col6\" >0.0816</td>\n",
       "      <td id=\"T_cf733_row9_col7\" class=\"data row9 col7\" >0.0165</td>\n",
       "      <td id=\"T_cf733_row9_col8\" class=\"data row9 col8\" >0.0533</td>\n",
       "      <td id=\"T_cf733_row9_col9\" class=\"data row9 col9\" >0.0103</td>\n",
       "      <td id=\"T_cf733_row9_col10\" class=\"data row9 col10\" >0.0000</td>\n",
       "    </tr>\n",
       "    <tr>\n",
       "      <th id=\"T_cf733_level0_row10\" class=\"row_heading level0 row10\" >Mean</th>\n",
       "      <td id=\"T_cf733_row10_col0\" class=\"data row10 col0\" >0.1481</td>\n",
       "      <td id=\"T_cf733_row10_col1\" class=\"data row10 col1\" >0.0628</td>\n",
       "      <td id=\"T_cf733_row10_col2\" class=\"data row10 col2\" >0.1968</td>\n",
       "      <td id=\"T_cf733_row10_col3\" class=\"data row10 col3\" >-0.6256</td>\n",
       "      <td id=\"T_cf733_row10_col4\" class=\"data row10 col4\" >0.0365</td>\n",
       "      <td id=\"T_cf733_row10_col5\" class=\"data row10 col5\" >0.0343</td>\n",
       "      <td id=\"T_cf733_row10_col6\" class=\"data row10 col6\" >0.1625</td>\n",
       "      <td id=\"T_cf733_row10_col7\" class=\"data row10 col7\" >0.0333</td>\n",
       "      <td id=\"T_cf733_row10_col8\" class=\"data row10 col8\" >0.1968</td>\n",
       "      <td id=\"T_cf733_row10_col9\" class=\"data row10 col9\" >0.0355</td>\n",
       "      <td id=\"T_cf733_row10_col10\" class=\"data row10 col10\" >0.0250</td>\n",
       "    </tr>\n",
       "    <tr>\n",
       "      <th id=\"T_cf733_level0_row11\" class=\"row_heading level0 row11\" >Std</th>\n",
       "      <td id=\"T_cf733_row11_col0\" class=\"data row11 col0\" >0.0942</td>\n",
       "      <td id=\"T_cf733_row11_col1\" class=\"data row11 col1\" >0.1123</td>\n",
       "      <td id=\"T_cf733_row11_col2\" class=\"data row11 col2\" >0.1551</td>\n",
       "      <td id=\"T_cf733_row11_col3\" class=\"data row11 col3\" >2.9894</td>\n",
       "      <td id=\"T_cf733_row11_col4\" class=\"data row11 col4\" >0.0252</td>\n",
       "      <td id=\"T_cf733_row11_col5\" class=\"data row11 col5\" >0.0183</td>\n",
       "      <td id=\"T_cf733_row11_col6\" class=\"data row11 col6\" >0.0831</td>\n",
       "      <td id=\"T_cf733_row11_col7\" class=\"data row11 col7\" >0.0174</td>\n",
       "      <td id=\"T_cf733_row11_col8\" class=\"data row11 col8\" >0.1551</td>\n",
       "      <td id=\"T_cf733_row11_col9\" class=\"data row11 col9\" >0.0227</td>\n",
       "      <td id=\"T_cf733_row11_col10\" class=\"data row11 col10\" >0.0750</td>\n",
       "    </tr>\n",
       "  </tbody>\n",
       "</table>\n"
      ],
      "text/plain": [
       "<pandas.io.formats.style.Styler at 0x7f78fb5be730>"
      ]
     },
     "metadata": {},
     "output_type": "display_data"
    }
   ],
   "source": [
    "tuned_z_reg = pyr.tune_model(stacked_model_z, early_stopping='asha', optimize='s_mad') # ,\\\n",
    "#                                search_library='tune-sklearn', search_algorithm='random')  # 1h30"
   ]
  },
  {
   "cell_type": "code",
   "execution_count": 75,
   "id": "2e1198c4",
   "metadata": {
    "id": "GJfDVspZtn7Z"
   },
   "outputs": [
    {
     "data": {
      "image/png": "[encoded data removed]",
      "text/plain": [
       "<Figure size 640x480 with 1 Axes>"
      ]
     },
     "metadata": {},
     "output_type": "display_data"
    }
   ],
   "source": [
    "pyr.plot_model(tuned_z_reg, plot='error')"
   ]
  },
  {
   "cell_type": "code",
   "execution_count": 76,
   "id": "abaca0cf",
   "metadata": {
    "id": "3N6_OxWptsEe",
    "tags": []
   },
   "outputs": [
    {
     "data": {
      "image/png": "[encoded data removed]",
      "text/plain": [
       "<Figure size 640x480 with 2 Axes>"
      ]
     },
     "metadata": {},
     "output_type": "display_data"
    }
   ],
   "source": [
    "pyr.plot_model(tuned_z_reg, plot='residuals')"
   ]
  },
  {
   "cell_type": "code",
   "execution_count": 77,
   "id": "c780f1ed",
   "metadata": {
    "id": "Mq15jdjqtv3Y"
   },
   "outputs": [
    {
     "data": {
      "image/png": "[encoded data removed]",
      "text/plain": [
       "<Figure size 800x0 with 1 Axes>"
      ]
     },
     "metadata": {},
     "output_type": "display_data"
    }
   ],
   "source": [
    "pyr.plot_model(tuned_z_reg.estimators_[0], plot='feature_all')"
   ]
  },
  {
   "cell_type": "code",
   "execution_count": 78,
   "id": "8e6fc623",
   "metadata": {
    "id": "Mq15jdjqtv3Y"
   },
   "outputs": [
    {
     "data": {
      "text/html": [
       "<div>\n",
       "<style scoped>\n",
       "    .dataframe tbody tr th:only-of-type {\n",
       "        vertical-align: middle;\n",
       "    }\n",
       "\n",
       "    .dataframe tbody tr th {\n",
       "        vertical-align: top;\n",
       "    }\n",
       "\n",
       "    .dataframe thead th {\n",
       "        text-align: right;\n",
       "    }\n",
       "</style>\n",
       "<table border=\"1\" class=\"dataframe\">\n",
       "  <thead>\n",
       "    <tr style=\"text-align: right;\">\n",
       "      <th></th>\n",
       "      <th>Parameters</th>\n",
       "    </tr>\n",
       "  </thead>\n",
       "  <tbody>\n",
       "    <tr>\n",
       "      <th>bootstrap</th>\n",
       "      <td>False</td>\n",
       "    </tr>\n",
       "    <tr>\n",
       "      <th>ccp_alpha</th>\n",
       "      <td>0.0</td>\n",
       "    </tr>\n",
       "    <tr>\n",
       "      <th>criterion</th>\n",
       "      <td>mse</td>\n",
       "    </tr>\n",
       "    <tr>\n",
       "      <th>max_depth</th>\n",
       "      <td>11</td>\n",
       "    </tr>\n",
       "    <tr>\n",
       "      <th>max_features</th>\n",
       "      <td>log2</td>\n",
       "    </tr>\n",
       "    <tr>\n",
       "      <th>max_leaf_nodes</th>\n",
       "      <td>None</td>\n",
       "    </tr>\n",
       "    <tr>\n",
       "      <th>max_samples</th>\n",
       "      <td>None</td>\n",
       "    </tr>\n",
       "    <tr>\n",
       "      <th>min_impurity_decrease</th>\n",
       "      <td>0.0001</td>\n",
       "    </tr>\n",
       "    <tr>\n",
       "      <th>min_impurity_split</th>\n",
       "      <td>None</td>\n",
       "    </tr>\n",
       "    <tr>\n",
       "      <th>min_samples_leaf</th>\n",
       "      <td>3</td>\n",
       "    </tr>\n",
       "    <tr>\n",
       "      <th>min_samples_split</th>\n",
       "      <td>7</td>\n",
       "    </tr>\n",
       "    <tr>\n",
       "      <th>min_weight_fraction_leaf</th>\n",
       "      <td>0.0</td>\n",
       "    </tr>\n",
       "    <tr>\n",
       "      <th>n_estimators</th>\n",
       "      <td>30</td>\n",
       "    </tr>\n",
       "    <tr>\n",
       "      <th>n_jobs</th>\n",
       "      <td>12</td>\n",
       "    </tr>\n",
       "    <tr>\n",
       "      <th>oob_score</th>\n",
       "      <td>False</td>\n",
       "    </tr>\n",
       "    <tr>\n",
       "      <th>random_state</th>\n",
       "      <td>42</td>\n",
       "    </tr>\n",
       "    <tr>\n",
       "      <th>verbose</th>\n",
       "      <td>0</td>\n",
       "    </tr>\n",
       "    <tr>\n",
       "      <th>warm_start</th>\n",
       "      <td>False</td>\n",
       "    </tr>\n",
       "  </tbody>\n",
       "</table>\n",
       "</div>"
      ],
      "text/plain": [
       "                         Parameters\n",
       "bootstrap                     False\n",
       "ccp_alpha                       0.0\n",
       "criterion                       mse\n",
       "max_depth                        11\n",
       "max_features                   log2\n",
       "max_leaf_nodes                 None\n",
       "max_samples                    None\n",
       "min_impurity_decrease        0.0001\n",
       "min_impurity_split             None\n",
       "min_samples_leaf                  3\n",
       "min_samples_split                 7\n",
       "min_weight_fraction_leaf        0.0\n",
       "n_estimators                     30\n",
       "n_jobs                           12\n",
       "oob_score                     False\n",
       "random_state                     42\n",
       "verbose                           0\n",
       "warm_start                    False"
      ]
     },
     "metadata": {},
     "output_type": "display_data"
    }
   ],
   "source": [
    "pyr.plot_model(tuned_z_reg.final_estimator, plot='parameter')"
   ]
  },
  {
   "cell_type": "code",
   "execution_count": 79,
   "id": "36004f83",
   "metadata": {
    "id": "t2CRgDLptzuE"
   },
   "outputs": [],
   "source": [
    "plt.rcParams.update(plt.rcParamsDefault)"
   ]
  },
  {
   "cell_type": "code",
   "execution_count": 80,
   "id": "f375f331",
   "metadata": {},
   "outputs": [
    {
     "data": {
      "text/html": [
       "<style type=\"text/css\">\n",
       "</style>\n",
       "<table id=\"T_8d119\">\n",
       "  <thead>\n",
       "    <tr>\n",
       "      <th class=\"blank level0\" >&nbsp;</th>\n",
       "      <th id=\"T_8d119_level0_col0\" class=\"col_heading level0 col0\" >Model</th>\n",
       "      <th id=\"T_8d119_level0_col1\" class=\"col_heading level0 col1\" >MAE</th>\n",
       "      <th id=\"T_8d119_level0_col2\" class=\"col_heading level0 col2\" >MSE</th>\n",
       "      <th id=\"T_8d119_level0_col3\" class=\"col_heading level0 col3\" >RMSE</th>\n",
       "      <th id=\"T_8d119_level0_col4\" class=\"col_heading level0 col4\" >R2</th>\n",
       "      <th id=\"T_8d119_level0_col5\" class=\"col_heading level0 col5\" >RMSLE</th>\n",
       "      <th id=\"T_8d119_level0_col6\" class=\"col_heading level0 col6\" >MAPE</th>\n",
       "      <th id=\"T_8d119_level0_col7\" class=\"col_heading level0 col7\" >sigma_mad</th>\n",
       "      <th id=\"T_8d119_level0_col8\" class=\"col_heading level0 col8\" >sigma_nmad</th>\n",
       "      <th id=\"T_8d119_level0_col9\" class=\"col_heading level0 col9\" >sigma_z</th>\n",
       "      <th id=\"T_8d119_level0_col10\" class=\"col_heading level0 col10\" >sigma_z_norm</th>\n",
       "      <th id=\"T_8d119_level0_col11\" class=\"col_heading level0 col11\" >outlier_fr</th>\n",
       "    </tr>\n",
       "  </thead>\n",
       "  <tbody>\n",
       "    <tr>\n",
       "      <th id=\"T_8d119_level0_row0\" class=\"row_heading level0 row0\" >0</th>\n",
       "      <td id=\"T_8d119_row0_col0\" class=\"data row0 col0\" >Stacking Regressor</td>\n",
       "      <td id=\"T_8d119_row0_col1\" class=\"data row0 col1\" >0.3462</td>\n",
       "      <td id=\"T_8d119_row0_col2\" class=\"data row0 col2\" >0.4114</td>\n",
       "      <td id=\"T_8d119_row0_col3\" class=\"data row0 col3\" >0.6414</td>\n",
       "      <td id=\"T_8d119_row0_col4\" class=\"data row0 col4\" >0.1098</td>\n",
       "      <td id=\"T_8d119_row0_col5\" class=\"data row0 col5\" >0.1084</td>\n",
       "      <td id=\"T_8d119_row0_col6\" class=\"data row0 col6\" >0.0692</td>\n",
       "      <td id=\"T_8d119_row0_col7\" class=\"data row0 col7\" >0.1559</td>\n",
       "      <td id=\"T_8d119_row0_col8\" class=\"data row0 col8\" >0.0311</td>\n",
       "      <td id=\"T_8d119_row0_col9\" class=\"data row0 col9\" >0.6414</td>\n",
       "      <td id=\"T_8d119_row0_col10\" class=\"data row0 col10\" >0.0970</td>\n",
       "      <td id=\"T_8d119_row0_col11\" class=\"data row0 col11\" >0.1667</td>\n",
       "    </tr>\n",
       "  </tbody>\n",
       "</table>\n"
      ],
      "text/plain": [
       "<pandas.io.formats.style.Styler at 0x7f78fb734250>"
      ]
     },
     "metadata": {},
     "output_type": "display_data"
    },
    {
     "data": {
      "text/html": [
       "<div>\n",
       "<style scoped>\n",
       "    .dataframe tbody tr th:only-of-type {\n",
       "        vertical-align: middle;\n",
       "    }\n",
       "\n",
       "    .dataframe tbody tr th {\n",
       "        vertical-align: top;\n",
       "    }\n",
       "\n",
       "    .dataframe thead th {\n",
       "        text-align: right;\n",
       "    }\n",
       "</style>\n",
       "<table border=\"1\" class=\"dataframe\">\n",
       "  <thead>\n",
       "    <tr style=\"text-align: right;\">\n",
       "      <th></th>\n",
       "      <th>r_i</th>\n",
       "      <th>i_z</th>\n",
       "      <th>z_y</th>\n",
       "      <th>g_i</th>\n",
       "      <th>w1_w2</th>\n",
       "      <th>Z</th>\n",
       "      <th>Label</th>\n",
       "    </tr>\n",
       "  </thead>\n",
       "  <tbody>\n",
       "    <tr>\n",
       "      <th>0</th>\n",
       "      <td>0.436709</td>\n",
       "      <td>-1.043119</td>\n",
       "      <td>0.654001</td>\n",
       "      <td>-0.471136</td>\n",
       "      <td>-0.160128</td>\n",
       "      <td>3.921</td>\n",
       "      <td>3.964709</td>\n",
       "    </tr>\n",
       "    <tr>\n",
       "      <th>1</th>\n",
       "      <td>-0.946656</td>\n",
       "      <td>-0.570231</td>\n",
       "      <td>2.406967</td>\n",
       "      <td>-2.455000</td>\n",
       "      <td>0.085753</td>\n",
       "      <td>3.701</td>\n",
       "      <td>3.895212</td>\n",
       "    </tr>\n",
       "    <tr>\n",
       "      <th>2</th>\n",
       "      <td>-1.020646</td>\n",
       "      <td>1.231418</td>\n",
       "      <td>-0.077677</td>\n",
       "      <td>-0.157743</td>\n",
       "      <td>0.174356</td>\n",
       "      <td>4.417</td>\n",
       "      <td>3.934000</td>\n",
       "    </tr>\n",
       "    <tr>\n",
       "      <th>3</th>\n",
       "      <td>-0.394702</td>\n",
       "      <td>0.442277</td>\n",
       "      <td>-1.102769</td>\n",
       "      <td>0.738181</td>\n",
       "      <td>0.546541</td>\n",
       "      <td>4.078</td>\n",
       "      <td>4.072015</td>\n",
       "    </tr>\n",
       "    <tr>\n",
       "      <th>4</th>\n",
       "      <td>0.461460</td>\n",
       "      <td>0.866328</td>\n",
       "      <td>-1.965913</td>\n",
       "      <td>-1.150174</td>\n",
       "      <td>1.502616</td>\n",
       "      <td>4.115</td>\n",
       "      <td>4.153351</td>\n",
       "    </tr>\n",
       "    <tr>\n",
       "      <th>5</th>\n",
       "      <td>0.307602</td>\n",
       "      <td>-0.496238</td>\n",
       "      <td>0.231657</td>\n",
       "      <td>-0.696196</td>\n",
       "      <td>0.157629</td>\n",
       "      <td>4.000</td>\n",
       "      <td>3.939520</td>\n",
       "    </tr>\n",
       "    <tr>\n",
       "      <th>6</th>\n",
       "      <td>1.837223</td>\n",
       "      <td>0.485466</td>\n",
       "      <td>0.898761</td>\n",
       "      <td>1.929861</td>\n",
       "      <td>-0.595376</td>\n",
       "      <td>4.680</td>\n",
       "      <td>4.686390</td>\n",
       "    </tr>\n",
       "    <tr>\n",
       "      <th>7</th>\n",
       "      <td>-0.802709</td>\n",
       "      <td>-0.690153</td>\n",
       "      <td>0.025585</td>\n",
       "      <td>-1.917668</td>\n",
       "      <td>-0.048698</td>\n",
       "      <td>3.801</td>\n",
       "      <td>3.864191</td>\n",
       "    </tr>\n",
       "    <tr>\n",
       "      <th>8</th>\n",
       "      <td>-0.654122</td>\n",
       "      <td>-0.314924</td>\n",
       "      <td>-0.014229</td>\n",
       "      <td>-2.105559</td>\n",
       "      <td>-0.219055</td>\n",
       "      <td>3.826</td>\n",
       "      <td>3.858732</td>\n",
       "    </tr>\n",
       "    <tr>\n",
       "      <th>9</th>\n",
       "      <td>-0.753323</td>\n",
       "      <td>2.761852</td>\n",
       "      <td>3.193570</td>\n",
       "      <td>-5.975014</td>\n",
       "      <td>1.280290</td>\n",
       "      <td>6.210</td>\n",
       "      <td>4.023139</td>\n",
       "    </tr>\n",
       "    <tr>\n",
       "      <th>10</th>\n",
       "      <td>0.159968</td>\n",
       "      <td>0.249333</td>\n",
       "      <td>0.785188</td>\n",
       "      <td>0.212286</td>\n",
       "      <td>-0.921687</td>\n",
       "      <td>3.852</td>\n",
       "      <td>4.045569</td>\n",
       "    </tr>\n",
       "    <tr>\n",
       "      <th>11</th>\n",
       "      <td>-0.044833</td>\n",
       "      <td>-0.143956</td>\n",
       "      <td>-1.804085</td>\n",
       "      <td>-1.035690</td>\n",
       "      <td>1.138707</td>\n",
       "      <td>4.020</td>\n",
       "      <td>3.982272</td>\n",
       "    </tr>\n",
       "    <tr>\n",
       "      <th>12</th>\n",
       "      <td>1.972685</td>\n",
       "      <td>1.635425</td>\n",
       "      <td>5.257725</td>\n",
       "      <td>0.430731</td>\n",
       "      <td>2.627278</td>\n",
       "      <td>5.800</td>\n",
       "      <td>4.634999</td>\n",
       "    </tr>\n",
       "    <tr>\n",
       "      <th>13</th>\n",
       "      <td>1.731748</td>\n",
       "      <td>0.794253</td>\n",
       "      <td>0.064669</td>\n",
       "      <td>2.118402</td>\n",
       "      <td>-0.283258</td>\n",
       "      <td>4.958</td>\n",
       "      <td>4.710913</td>\n",
       "    </tr>\n",
       "    <tr>\n",
       "      <th>14</th>\n",
       "      <td>0.876534</td>\n",
       "      <td>-0.016280</td>\n",
       "      <td>-0.225802</td>\n",
       "      <td>1.161806</td>\n",
       "      <td>-0.527913</td>\n",
       "      <td>4.564</td>\n",
       "      <td>4.100336</td>\n",
       "    </tr>\n",
       "    <tr>\n",
       "      <th>15</th>\n",
       "      <td>-0.161682</td>\n",
       "      <td>-0.321437</td>\n",
       "      <td>-1.304241</td>\n",
       "      <td>-2.055527</td>\n",
       "      <td>1.502616</td>\n",
       "      <td>3.918</td>\n",
       "      <td>3.978419</td>\n",
       "    </tr>\n",
       "    <tr>\n",
       "      <th>16</th>\n",
       "      <td>1.716874</td>\n",
       "      <td>2.002956</td>\n",
       "      <td>0.724921</td>\n",
       "      <td>2.047808</td>\n",
       "      <td>-1.557175</td>\n",
       "      <td>3.905</td>\n",
       "      <td>4.706372</td>\n",
       "    </tr>\n",
       "    <tr>\n",
       "      <th>17</th>\n",
       "      <td>0.544783</td>\n",
       "      <td>0.074777</td>\n",
       "      <td>0.136998</td>\n",
       "      <td>-0.478252</td>\n",
       "      <td>-0.537522</td>\n",
       "      <td>4.097</td>\n",
       "      <td>3.949540</td>\n",
       "    </tr>\n",
       "  </tbody>\n",
       "</table>\n",
       "</div>"
      ],
      "text/plain": [
       "         r_i       i_z       z_y       g_i     w1_w2      Z     Label\n",
       "0   0.436709 -1.043119  0.654001 -0.471136 -0.160128  3.921  3.964709\n",
       "1  -0.946656 -0.570231  2.406967 -2.455000  0.085753  3.701  3.895212\n",
       "2  -1.020646  1.231418 -0.077677 -0.157743  0.174356  4.417  3.934000\n",
       "3  -0.394702  0.442277 -1.102769  0.738181  0.546541  4.078  4.072015\n",
       "4   0.461460  0.866328 -1.965913 -1.150174  1.502616  4.115  4.153351\n",
       "5   0.307602 -0.496238  0.231657 -0.696196  0.157629  4.000  3.939520\n",
       "6   1.837223  0.485466  0.898761  1.929861 -0.595376  4.680  4.686390\n",
       "7  -0.802709 -0.690153  0.025585 -1.917668 -0.048698  3.801  3.864191\n",
       "8  -0.654122 -0.314924 -0.014229 -2.105559 -0.219055  3.826  3.858732\n",
       "9  -0.753323  2.761852  3.193570 -5.975014  1.280290  6.210  4.023139\n",
       "10  0.159968  0.249333  0.785188  0.212286 -0.921687  3.852  4.045569\n",
       "11 -0.044833 -0.143956 -1.804085 -1.035690  1.138707  4.020  3.982272\n",
       "12  1.972685  1.635425  5.257725  0.430731  2.627278  5.800  4.634999\n",
       "13  1.731748  0.794253  0.064669  2.118402 -0.283258  4.958  4.710913\n",
       "14  0.876534 -0.016280 -0.225802  1.161806 -0.527913  4.564  4.100336\n",
       "15 -0.161682 -0.321437 -1.304241 -2.055527  1.502616  3.918  3.978419\n",
       "16  1.716874  2.002956  0.724921  2.047808 -1.557175  3.905  4.706372\n",
       "17  0.544783  0.074777  0.136998 -0.478252 -0.537522  4.097  3.949540"
      ]
     },
     "execution_count": 80,
     "metadata": {},
     "output_type": "execute_result"
    }
   ],
   "source": [
    "pyr.predict_model(tuned_z_reg)"
   ]
  },
  {
   "cell_type": "code",
   "execution_count": 81,
   "id": "91ce8d37",
   "metadata": {},
   "outputs": [
    {
     "data": {
      "text/html": [
       "<style type=\"text/css\">\n",
       "</style>\n",
       "<table id=\"T_658c9\">\n",
       "  <thead>\n",
       "    <tr>\n",
       "      <th class=\"blank level0\" >&nbsp;</th>\n",
       "      <th id=\"T_658c9_level0_col0\" class=\"col_heading level0 col0\" >Model</th>\n",
       "      <th id=\"T_658c9_level0_col1\" class=\"col_heading level0 col1\" >MAE</th>\n",
       "      <th id=\"T_658c9_level0_col2\" class=\"col_heading level0 col2\" >MSE</th>\n",
       "      <th id=\"T_658c9_level0_col3\" class=\"col_heading level0 col3\" >RMSE</th>\n",
       "      <th id=\"T_658c9_level0_col4\" class=\"col_heading level0 col4\" >R2</th>\n",
       "      <th id=\"T_658c9_level0_col5\" class=\"col_heading level0 col5\" >RMSLE</th>\n",
       "      <th id=\"T_658c9_level0_col6\" class=\"col_heading level0 col6\" >MAPE</th>\n",
       "      <th id=\"T_658c9_level0_col7\" class=\"col_heading level0 col7\" >sigma_mad</th>\n",
       "      <th id=\"T_658c9_level0_col8\" class=\"col_heading level0 col8\" >sigma_nmad</th>\n",
       "      <th id=\"T_658c9_level0_col9\" class=\"col_heading level0 col9\" >sigma_z</th>\n",
       "      <th id=\"T_658c9_level0_col10\" class=\"col_heading level0 col10\" >sigma_z_norm</th>\n",
       "      <th id=\"T_658c9_level0_col11\" class=\"col_heading level0 col11\" >outlier_fr</th>\n",
       "    </tr>\n",
       "  </thead>\n",
       "  <tbody>\n",
       "    <tr>\n",
       "      <th id=\"T_658c9_level0_row0\" class=\"row_heading level0 row0\" >0</th>\n",
       "      <td id=\"T_658c9_row0_col0\" class=\"data row0 col0\" >Stacking Regressor</td>\n",
       "      <td id=\"T_658c9_row0_col1\" class=\"data row0 col1\" >0.3462</td>\n",
       "      <td id=\"T_658c9_row0_col2\" class=\"data row0 col2\" >0.4114</td>\n",
       "      <td id=\"T_658c9_row0_col3\" class=\"data row0 col3\" >0.6414</td>\n",
       "      <td id=\"T_658c9_row0_col4\" class=\"data row0 col4\" >0.1098</td>\n",
       "      <td id=\"T_658c9_row0_col5\" class=\"data row0 col5\" >0.1084</td>\n",
       "      <td id=\"T_658c9_row0_col6\" class=\"data row0 col6\" >0.0692</td>\n",
       "      <td id=\"T_658c9_row0_col7\" class=\"data row0 col7\" >0.1559</td>\n",
       "      <td id=\"T_658c9_row0_col8\" class=\"data row0 col8\" >0.0311</td>\n",
       "      <td id=\"T_658c9_row0_col9\" class=\"data row0 col9\" >0.6414</td>\n",
       "      <td id=\"T_658c9_row0_col10\" class=\"data row0 col10\" >0.0970</td>\n",
       "      <td id=\"T_658c9_row0_col11\" class=\"data row0 col11\" >0.1667</td>\n",
       "    </tr>\n",
       "  </tbody>\n",
       "</table>\n"
      ],
      "text/plain": [
       "<pandas.io.formats.style.Styler at 0x7f79480e0e50>"
      ]
     },
     "metadata": {},
     "output_type": "display_data"
    }
   ],
   "source": [
    "test_prediction_reg = pyr.predict_model(tuned_z_reg)"
   ]
  },
  {
   "cell_type": "markdown",
   "id": "0414adfc",
   "metadata": {},
   "source": [
    "Metrics from applying model to test data.  \n",
    "\n",
    "|Model                    |Accuracy|AUC   |Recall|Prec. |F1    |Kappa |MCC   |\n",
    "|-------------------------|--------|------|------|------|------|------|------|\n",
    "|Extreme Gradient Boosting|0.9978  |0.9781|0.5978|0.8092|0.6876|0.6865|0.6945|"
   ]
  },
  {
   "cell_type": "code",
   "execution_count": 82,
   "id": "9a8b121d",
   "metadata": {
    "id": "WsMuc6dtt2ci"
   },
   "outputs": [
    {
     "name": "stderr",
     "output_type": "stream",
     "text": [
      "/home/rcarvajal/.miniforge3/envs/test_pycaret/lib/python3.8/site-packages/xgboost/data.py:262: FutureWarning: pandas.Int64Index is deprecated and will be removed from pandas in a future version. Use pandas.Index with the appropriate dtype instead.\n",
      "  elif isinstance(data.columns, (pd.Int64Index, pd.RangeIndex)):\n",
      "/home/rcarvajal/.miniforge3/envs/test_pycaret/lib/python3.8/site-packages/xgboost/data.py:262: FutureWarning: pandas.Int64Index is deprecated and will be removed from pandas in a future version. Use pandas.Index with the appropriate dtype instead.\n",
      "  elif isinstance(data.columns, (pd.Int64Index, pd.RangeIndex)):\n",
      "/home/rcarvajal/.miniforge3/envs/test_pycaret/lib/python3.8/site-packages/xgboost/data.py:262: FutureWarning: pandas.Int64Index is deprecated and will be removed from pandas in a future version. Use pandas.Index with the appropriate dtype instead.\n",
      "  elif isinstance(data.columns, (pd.Int64Index, pd.RangeIndex)):\n",
      "/home/rcarvajal/.miniforge3/envs/test_pycaret/lib/python3.8/site-packages/xgboost/data.py:262: FutureWarning: pandas.Int64Index is deprecated and will be removed from pandas in a future version. Use pandas.Index with the appropriate dtype instead.\n",
      "  elif isinstance(data.columns, (pd.Int64Index, pd.RangeIndex)):\n",
      "/home/rcarvajal/.miniforge3/envs/test_pycaret/lib/python3.8/site-packages/xgboost/data.py:262: FutureWarning: pandas.Int64Index is deprecated and will be removed from pandas in a future version. Use pandas.Index with the appropriate dtype instead.\n",
      "  elif isinstance(data.columns, (pd.Int64Index, pd.RangeIndex)):\n",
      "/home/rcarvajal/.miniforge3/envs/test_pycaret/lib/python3.8/site-packages/xgboost/data.py:262: FutureWarning: pandas.Int64Index is deprecated and will be removed from pandas in a future version. Use pandas.Index with the appropriate dtype instead.\n",
      "  elif isinstance(data.columns, (pd.Int64Index, pd.RangeIndex)):\n",
      "/home/rcarvajal/.miniforge3/envs/test_pycaret/lib/python3.8/site-packages/xgboost/data.py:262: FutureWarning: pandas.Int64Index is deprecated and will be removed from pandas in a future version. Use pandas.Index with the appropriate dtype instead.\n",
      "  elif isinstance(data.columns, (pd.Int64Index, pd.RangeIndex)):\n",
      "/home/rcarvajal/.miniforge3/envs/test_pycaret/lib/python3.8/site-packages/xgboost/data.py:262: FutureWarning: pandas.Int64Index is deprecated and will be removed from pandas in a future version. Use pandas.Index with the appropriate dtype instead.\n",
      "  elif isinstance(data.columns, (pd.Int64Index, pd.RangeIndex)):\n",
      "/home/rcarvajal/.miniforge3/envs/test_pycaret/lib/python3.8/site-packages/xgboost/data.py:262: FutureWarning: pandas.Int64Index is deprecated and will be removed from pandas in a future version. Use pandas.Index with the appropriate dtype instead.\n",
      "  elif isinstance(data.columns, (pd.Int64Index, pd.RangeIndex)):\n",
      "/home/rcarvajal/.miniforge3/envs/test_pycaret/lib/python3.8/site-packages/xgboost/data.py:262: FutureWarning: pandas.Int64Index is deprecated and will be removed from pandas in a future version. Use pandas.Index with the appropriate dtype instead.\n",
      "  elif isinstance(data.columns, (pd.Int64Index, pd.RangeIndex)):\n",
      "/home/rcarvajal/.miniforge3/envs/test_pycaret/lib/python3.8/site-packages/xgboost/data.py:262: FutureWarning: pandas.Int64Index is deprecated and will be removed from pandas in a future version. Use pandas.Index with the appropriate dtype instead.\n",
      "  elif isinstance(data.columns, (pd.Int64Index, pd.RangeIndex)):\n",
      "/home/rcarvajal/.miniforge3/envs/test_pycaret/lib/python3.8/site-packages/xgboost/data.py:262: FutureWarning: pandas.Int64Index is deprecated and will be removed from pandas in a future version. Use pandas.Index with the appropriate dtype instead.\n",
      "  elif isinstance(data.columns, (pd.Int64Index, pd.RangeIndex)):\n",
      "/home/rcarvajal/.miniforge3/envs/test_pycaret/lib/python3.8/site-packages/xgboost/data.py:262: FutureWarning: pandas.Int64Index is deprecated and will be removed from pandas in a future version. Use pandas.Index with the appropriate dtype instead.\n",
      "  elif isinstance(data.columns, (pd.Int64Index, pd.RangeIndex)):\n",
      "/home/rcarvajal/.miniforge3/envs/test_pycaret/lib/python3.8/site-packages/xgboost/data.py:262: FutureWarning: pandas.Int64Index is deprecated and will be removed from pandas in a future version. Use pandas.Index with the appropriate dtype instead.\n",
      "  elif isinstance(data.columns, (pd.Int64Index, pd.RangeIndex)):\n",
      "/home/rcarvajal/.miniforge3/envs/test_pycaret/lib/python3.8/site-packages/xgboost/data.py:262: FutureWarning: pandas.Int64Index is deprecated and will be removed from pandas in a future version. Use pandas.Index with the appropriate dtype instead.\n",
      "  elif isinstance(data.columns, (pd.Int64Index, pd.RangeIndex)):\n",
      "/home/rcarvajal/.miniforge3/envs/test_pycaret/lib/python3.8/site-packages/xgboost/data.py:262: FutureWarning: pandas.Int64Index is deprecated and will be removed from pandas in a future version. Use pandas.Index with the appropriate dtype instead.\n",
      "  elif isinstance(data.columns, (pd.Int64Index, pd.RangeIndex)):\n",
      "/home/rcarvajal/.miniforge3/envs/test_pycaret/lib/python3.8/site-packages/xgboost/data.py:262: FutureWarning: pandas.Int64Index is deprecated and will be removed from pandas in a future version. Use pandas.Index with the appropriate dtype instead.\n",
      "  elif isinstance(data.columns, (pd.Int64Index, pd.RangeIndex)):\n",
      "/home/rcarvajal/.miniforge3/envs/test_pycaret/lib/python3.8/site-packages/xgboost/data.py:262: FutureWarning: pandas.Int64Index is deprecated and will be removed from pandas in a future version. Use pandas.Index with the appropriate dtype instead.\n",
      "  elif isinstance(data.columns, (pd.Int64Index, pd.RangeIndex)):\n",
      "/home/rcarvajal/.miniforge3/envs/test_pycaret/lib/python3.8/site-packages/xgboost/data.py:262: FutureWarning: pandas.Int64Index is deprecated and will be removed from pandas in a future version. Use pandas.Index with the appropriate dtype instead.\n",
      "  elif isinstance(data.columns, (pd.Int64Index, pd.RangeIndex)):\n",
      "/home/rcarvajal/.miniforge3/envs/test_pycaret/lib/python3.8/site-packages/xgboost/data.py:262: FutureWarning: pandas.Int64Index is deprecated and will be removed from pandas in a future version. Use pandas.Index with the appropriate dtype instead.\n",
      "  elif isinstance(data.columns, (pd.Int64Index, pd.RangeIndex)):\n",
      "/home/rcarvajal/.miniforge3/envs/test_pycaret/lib/python3.8/site-packages/xgboost/data.py:262: FutureWarning: pandas.Int64Index is deprecated and will be removed from pandas in a future version. Use pandas.Index with the appropriate dtype instead.\n",
      "  elif isinstance(data.columns, (pd.Int64Index, pd.RangeIndex)):\n",
      "/home/rcarvajal/.miniforge3/envs/test_pycaret/lib/python3.8/site-packages/xgboost/data.py:262: FutureWarning: pandas.Int64Index is deprecated and will be removed from pandas in a future version. Use pandas.Index with the appropriate dtype instead.\n",
      "  elif isinstance(data.columns, (pd.Int64Index, pd.RangeIndex)):\n",
      "/home/rcarvajal/.miniforge3/envs/test_pycaret/lib/python3.8/site-packages/xgboost/data.py:262: FutureWarning: pandas.Int64Index is deprecated and will be removed from pandas in a future version. Use pandas.Index with the appropriate dtype instead.\n",
      "  elif isinstance(data.columns, (pd.Int64Index, pd.RangeIndex)):\n",
      "/home/rcarvajal/.miniforge3/envs/test_pycaret/lib/python3.8/site-packages/xgboost/data.py:262: FutureWarning: pandas.Int64Index is deprecated and will be removed from pandas in a future version. Use pandas.Index with the appropriate dtype instead.\n",
      "  elif isinstance(data.columns, (pd.Int64Index, pd.RangeIndex)):\n",
      "/home/rcarvajal/.miniforge3/envs/test_pycaret/lib/python3.8/site-packages/xgboost/data.py:262: FutureWarning: pandas.Int64Index is deprecated and will be removed from pandas in a future version. Use pandas.Index with the appropriate dtype instead.\n",
      "  elif isinstance(data.columns, (pd.Int64Index, pd.RangeIndex)):\n",
      "/home/rcarvajal/.miniforge3/envs/test_pycaret/lib/python3.8/site-packages/xgboost/data.py:262: FutureWarning: pandas.Int64Index is deprecated and will be removed from pandas in a future version. Use pandas.Index with the appropriate dtype instead.\n",
      "  elif isinstance(data.columns, (pd.Int64Index, pd.RangeIndex)):\n",
      "/home/rcarvajal/.miniforge3/envs/test_pycaret/lib/python3.8/site-packages/xgboost/data.py:262: FutureWarning: pandas.Int64Index is deprecated and will be removed from pandas in a future version. Use pandas.Index with the appropriate dtype instead.\n",
      "  elif isinstance(data.columns, (pd.Int64Index, pd.RangeIndex)):\n",
      "/home/rcarvajal/.miniforge3/envs/test_pycaret/lib/python3.8/site-packages/xgboost/data.py:262: FutureWarning: pandas.Int64Index is deprecated and will be removed from pandas in a future version. Use pandas.Index with the appropriate dtype instead.\n",
      "  elif isinstance(data.columns, (pd.Int64Index, pd.RangeIndex)):\n",
      "/home/rcarvajal/.miniforge3/envs/test_pycaret/lib/python3.8/site-packages/xgboost/data.py:262: FutureWarning: pandas.Int64Index is deprecated and will be removed from pandas in a future version. Use pandas.Index with the appropriate dtype instead.\n",
      "  elif isinstance(data.columns, (pd.Int64Index, pd.RangeIndex)):\n",
      "/home/rcarvajal/.miniforge3/envs/test_pycaret/lib/python3.8/site-packages/xgboost/data.py:262: FutureWarning: pandas.Int64Index is deprecated and will be removed from pandas in a future version. Use pandas.Index with the appropriate dtype instead.\n",
      "  elif isinstance(data.columns, (pd.Int64Index, pd.RangeIndex)):\n",
      "/home/rcarvajal/.miniforge3/envs/test_pycaret/lib/python3.8/site-packages/xgboost/data.py:262: FutureWarning: pandas.Int64Index is deprecated and will be removed from pandas in a future version. Use pandas.Index with the appropriate dtype instead.\n",
      "  elif isinstance(data.columns, (pd.Int64Index, pd.RangeIndex)):\n",
      "/home/rcarvajal/.miniforge3/envs/test_pycaret/lib/python3.8/site-packages/xgboost/data.py:262: FutureWarning: pandas.Int64Index is deprecated and will be removed from pandas in a future version. Use pandas.Index with the appropriate dtype instead.\n",
      "  elif isinstance(data.columns, (pd.Int64Index, pd.RangeIndex)):\n",
      "/home/rcarvajal/.miniforge3/envs/test_pycaret/lib/python3.8/site-packages/xgboost/data.py:262: FutureWarning: pandas.Int64Index is deprecated and will be removed from pandas in a future version. Use pandas.Index with the appropriate dtype instead.\n",
      "  elif isinstance(data.columns, (pd.Int64Index, pd.RangeIndex)):\n",
      "/home/rcarvajal/.miniforge3/envs/test_pycaret/lib/python3.8/site-packages/xgboost/data.py:262: FutureWarning: pandas.Int64Index is deprecated and will be removed from pandas in a future version. Use pandas.Index with the appropriate dtype instead.\n",
      "  elif isinstance(data.columns, (pd.Int64Index, pd.RangeIndex)):\n",
      "/home/rcarvajal/.miniforge3/envs/test_pycaret/lib/python3.8/site-packages/xgboost/data.py:262: FutureWarning: pandas.Int64Index is deprecated and will be removed from pandas in a future version. Use pandas.Index with the appropriate dtype instead.\n",
      "  elif isinstance(data.columns, (pd.Int64Index, pd.RangeIndex)):\n",
      "/home/rcarvajal/.miniforge3/envs/test_pycaret/lib/python3.8/site-packages/xgboost/data.py:262: FutureWarning: pandas.Int64Index is deprecated and will be removed from pandas in a future version. Use pandas.Index with the appropriate dtype instead.\n",
      "  elif isinstance(data.columns, (pd.Int64Index, pd.RangeIndex)):\n",
      "/home/rcarvajal/.miniforge3/envs/test_pycaret/lib/python3.8/site-packages/xgboost/data.py:262: FutureWarning: pandas.Int64Index is deprecated and will be removed from pandas in a future version. Use pandas.Index with the appropriate dtype instead.\n",
      "  elif isinstance(data.columns, (pd.Int64Index, pd.RangeIndex)):\n",
      "/home/rcarvajal/.miniforge3/envs/test_pycaret/lib/python3.8/site-packages/xgboost/data.py:262: FutureWarning: pandas.Int64Index is deprecated and will be removed from pandas in a future version. Use pandas.Index with the appropriate dtype instead.\n",
      "  elif isinstance(data.columns, (pd.Int64Index, pd.RangeIndex)):\n",
      "/home/rcarvajal/.miniforge3/envs/test_pycaret/lib/python3.8/site-packages/xgboost/data.py:262: FutureWarning: pandas.Int64Index is deprecated and will be removed from pandas in a future version. Use pandas.Index with the appropriate dtype instead.\n",
      "  elif isinstance(data.columns, (pd.Int64Index, pd.RangeIndex)):\n",
      "Custom logger is already specified. Specify more than one logger at same time is not thread safe.Custom logger is already specified. Specify more than one logger at same time is not thread safe.Custom logger is already specified. Specify more than one logger at same time is not thread safe.Custom logger is already specified. Specify more than one logger at same time is not thread safe."
     ]
    }
   ],
   "source": [
    "final_z_reg = pyr.finalize_model(tuned_z_reg)"
   ]
  },
  {
   "cell_type": "code",
   "execution_count": 84,
   "id": "9b9fd1ba",
   "metadata": {
    "id": "kAciINC6t-gk"
   },
   "outputs": [
    {
     "name": "stdout",
     "output_type": "stream",
     "text": [
      "Transformation Pipeline and Model Successfully Saved\n"
     ]
    }
   ],
   "source": [
    "if save_model_flag:\n",
    "    pyr.save_model(final_z_reg, 'models/regression_z_may_31_2022')  # Model (it will be saved with .pkl extension)\n",
    "    # pyr.save_config('models/config_regression_z_may_31_2022')  # Configuration file"
   ]
  },
  {
   "cell_type": "markdown",
   "id": "8b092532",
   "metadata": {
    "id": "ef654bbb-7b74-4cef-a809-42d2eb8e7fcb"
   },
   "source": [
    "## Load Models"
   ]
  },
  {
   "cell_type": "markdown",
   "id": "8eef0b92",
   "metadata": {
    "id": "217777e4-0212-4a37-b535-6fcaf2f0817e"
   },
   "source": [
    "AGN detection model."
   ]
  },
  {
   "cell_type": "code",
   "execution_count": 85,
   "id": "892191a0",
   "metadata": {
    "id": "ad6bf94f-c59d-4013-b523-76a77df047cc",
    "outputId": "d8cd5b82-e109-4bd1-90ea-bf0e85e10ccd",
    "tags": []
   },
   "outputs": [],
   "source": [
    "if load_model_flag:\n",
    "    final_z_reg = pyr.load_model('models/regression_z_may_31_2022')  # for z >= 4, regression_z_may_31_4_2022"
   ]
  },
  {
   "cell_type": "markdown",
   "id": "8de59b27",
   "metadata": {
    "id": "6fcb2c6c-a004-4801-b43d-a3593f802cf5"
   },
   "source": [
    "### Prediction process"
   ]
  },
  {
   "cell_type": "markdown",
   "id": "f93e650c",
   "metadata": {},
   "source": [
    "#### Feature importances"
   ]
  },
  {
   "cell_type": "code",
   "execution_count": 86,
   "id": "56d399fc",
   "metadata": {
    "jupyter": {
     "source_hidden": true
    }
   },
   "outputs": [],
   "source": [
    "estimators_list = get_base_estimators_names(final_z_reg)"
   ]
  },
  {
   "cell_type": "code",
   "execution_count": 87,
   "id": "56acfd27",
   "metadata": {
    "jupyter": {
     "source_hidden": true
    },
    "tags": []
   },
   "outputs": [
    {
     "name": "stdout",
     "output_type": "stream",
     "text": [
      "Running dtypes\n",
      "Running imputer\n",
      "Running new_levels1\n",
      "Running new_levels\n",
      "Running feature_time\n",
      "Running scaling\n",
      "Running P_transform\n",
      "Running dummy\n",
      "Running fix_perfect\n",
      "Running clean_names\n"
     ]
    }
   ],
   "source": [
    "extended_data_z = validation_df.loc[:, get_final_column_names(final_z_reg, validation_df)].copy()\n",
    "extended_idx_z  = extended_data_z.index\n",
    "initial_cols_z  = extended_data_z.columns\n",
    "extended_cols_z = extended_data_z.columns.insert(0, estimators_list[0])\n",
    "if len(estimators_list) > 1:\n",
    "    for est_name in estimators_list[1::]:\n",
    "        extended_cols_z = extended_cols_z.insert(0, est_name)"
   ]
  },
  {
   "cell_type": "code",
   "execution_count": 88,
   "id": "6fefdf85",
   "metadata": {
    "jupyter": {
     "source_hidden": true
    },
    "tags": []
   },
   "outputs": [
    {
     "name": "stdout",
     "output_type": "stream",
     "text": [
      "Running data pre-processing:\n",
      "\n",
      "Running dtypes\n",
      "Running imputer\n",
      "Running new_levels1\n",
      "Running new_levels\n",
      "Running feature_time\n",
      "Running scaling\n",
      "Running P_transform\n",
      "Running dummy\n",
      "Running fix_perfect\n",
      "Running clean_names\n"
     ]
    }
   ],
   "source": [
    "print('Running data pre-processing:\\n')\n",
    "if isinstance(final_z_reg, sklearn.pipeline.Pipeline):\n",
    "    prep_steps = final_z_reg.named_steps.items()\n",
    "else:\n",
    "    prep_steps = pyr.get_config('prep_pipe').named_steps.items()\n",
    "\n",
    "for (name, method) in prep_steps:\n",
    "    if method != 'passthrough':  # and name != 'trained_model':\n",
    "        print(f'Running {name}')\n",
    "        extended_data_z = method.transform(extended_data_z)\n",
    "extended_data_z_df = pd.DataFrame(extended_data_z, columns=extended_cols_z, index=extended_idx_z)"
   ]
  },
  {
   "cell_type": "code",
   "execution_count": 89,
   "id": "b920807c",
   "metadata": {
    "jupyter": {
     "source_hidden": true
    },
    "tags": []
   },
   "outputs": [],
   "source": [
    "if isinstance(final_z_reg, sklearn.pipeline.Pipeline):\n",
    "    if hasattr(final_z_reg.named_steps['trained_model'].final_estimator_, 'feature_importances_'):\n",
    "        importances_coef = final_z_reg.named_steps['trained_model'].final_estimator_.feature_importances_\n",
    "    elif hasattr(final_z_reg.named_steps['trained_model'].final_estimator_, 'coef_'):\n",
    "        importances_coef = np.abs(np.ravel(final_z_reg.named_steps['trained_model'].final_estimator_.coef_)) *\\\n",
    "                                     extended_data_z_df.loc[:, extended_cols_z].std(axis=0)\n",
    "else:\n",
    "    if hasattr(final_z_reg.final_estimator_, 'feature_importances_'):\n",
    "        importances_coef = final_z_reg.final_estimator_.feature_importances_\n",
    "    elif hasattr(final_z_reg.final_estimator_, 'coef_'):\n",
    "        importances_coef = np.abs(np.ravel(final_z_reg.final_estimator_.coef_)) *\\\n",
    "                                     extended_data_z_df.loc[:, extended_cols_z].std(axis=0)\n",
    "\n",
    "coef_meta_df = pd.DataFrame({'Feature': extended_cols_z, 'Importance': importances_coef})\n",
    "coef_sorted_meta_df = (\n",
    "    coef_meta_df.sort_values(by='Importance', ascending=False)\n",
    "    .head(len(extended_cols_z))\n",
    "    .sort_values(by='Importance', ascending=False).reset_index(drop=True)\n",
    ")"
   ]
  },
  {
   "cell_type": "code",
   "execution_count": 90,
   "id": "760bd497",
   "metadata": {
    "jupyter": {
     "source_hidden": true
    },
    "tags": []
   },
   "outputs": [],
   "source": [
    "if isinstance(final_z_reg, sklearn.pipeline.Pipeline):\n",
    "    estimators_list  = final_z_reg.named_steps['trained_model'].estimators\n",
    "    estimators_list_ = final_z_reg.named_steps['trained_model'].estimators_\n",
    "else:\n",
    "    estimators_list  = final_z_reg.estimators\n",
    "    estimators_list_ = final_z_reg.estimators_"
   ]
  },
  {
   "cell_type": "code",
   "execution_count": 91,
   "id": "4966eb4d",
   "metadata": {
    "jupyter": {
     "source_hidden": true
    },
    "tags": []
   },
   "outputs": [],
   "source": [
    "base_models_names = [model[0] for model in estimators_list]"
   ]
  },
  {
   "cell_type": "code",
   "execution_count": 92,
   "id": "61679a06",
   "metadata": {
    "jupyter": {
     "source_hidden": true
    },
    "tags": []
   },
   "outputs": [],
   "source": [
    "coef_sorted_base_df = {}"
   ]
  },
  {
   "cell_type": "code",
   "execution_count": 93,
   "id": "aa2e48dd",
   "metadata": {
    "jupyter": {
     "source_hidden": true
    },
    "tags": []
   },
   "outputs": [],
   "source": [
    "for model, model_fit in zip(base_models_names, estimators_list_):\n",
    "    if hasattr(model_fit, 'feature_importances_'):\n",
    "        coef_base_df = pd.DataFrame({'Feature': extended_cols_z.drop(base_models_names),\n",
    "                                     'Importance': model_fit.feature_importances_})\n",
    "        coef_sorted_base_df[model] = (\n",
    "        coef_base_df.sort_values(by='Importance', ascending=False)\n",
    "        .head(len(extended_cols_z.drop(base_models_names)))\n",
    "        .sort_values(by='Importance', ascending=False).reset_index(drop=True)\n",
    "    )\n",
    "    elif hasattr(model_fit, 'coef_'):\n",
    "        coef_base_df = pd.DataFrame({'Feature': extended_cols_z.drop(base_models_names),\n",
    "                                     'Importance': np.abs(np.ravel(model_fit.coef_)) *\\\n",
    "                                     extended_data_z_df.loc[:, extended_cols_z.drop(base_models_names)].std(axis=0)})\n",
    "        coef_sorted_base_df[model] = (\n",
    "        coef_base_df.sort_values(by='Importance', ascending=False)\n",
    "        .head(len(extended_cols_radio.drop(base_models_names)))\n",
    "        .sort_values(by='Importance', ascending=False).reset_index(drop=True)\n",
    ")"
   ]
  },
  {
   "cell_type": "code",
   "execution_count": 94,
   "id": "3ea1314b",
   "metadata": {
    "jupyter": {
     "source_hidden": true
    },
    "tags": []
   },
   "outputs": [],
   "source": [
    "multicol_feat = [(key, name) for key in coef_sorted_base_df.keys() for name in ('Feature', 'Importance')]"
   ]
  },
  {
   "cell_type": "code",
   "execution_count": 95,
   "id": "c0234c06",
   "metadata": {
    "jupyter": {
     "source_hidden": true
    },
    "tags": []
   },
   "outputs": [
    {
     "name": "stdout",
     "output_type": "stream",
     "text": [
      "Feature importances scaled to sum 100\n",
      "Calculating for catboost...\n",
      "Calculating for xgboost...\n",
      "Calculating for gbr...\n",
      "Calculating for ada...\n"
     ]
    },
    {
     "data": {
      "text/html": [
       "<div>\n",
       "<style scoped>\n",
       "    .dataframe tbody tr th:only-of-type {\n",
       "        vertical-align: middle;\n",
       "    }\n",
       "\n",
       "    .dataframe tbody tr th {\n",
       "        vertical-align: top;\n",
       "    }\n",
       "\n",
       "    .dataframe thead tr th {\n",
       "        text-align: left;\n",
       "    }\n",
       "</style>\n",
       "<table border=\"1\" class=\"dataframe\">\n",
       "  <thead>\n",
       "    <tr>\n",
       "      <th></th>\n",
       "      <th colspan=\"2\" halign=\"left\">catboost</th>\n",
       "      <th colspan=\"2\" halign=\"left\">xgboost</th>\n",
       "      <th colspan=\"2\" halign=\"left\">gbr</th>\n",
       "      <th colspan=\"2\" halign=\"left\">ada</th>\n",
       "    </tr>\n",
       "    <tr>\n",
       "      <th></th>\n",
       "      <th>Feature</th>\n",
       "      <th>Importance</th>\n",
       "      <th>Feature</th>\n",
       "      <th>Importance</th>\n",
       "      <th>Feature</th>\n",
       "      <th>Importance</th>\n",
       "      <th>Feature</th>\n",
       "      <th>Importance</th>\n",
       "    </tr>\n",
       "  </thead>\n",
       "  <tbody>\n",
       "    <tr>\n",
       "      <th>0</th>\n",
       "      <td>i_z</td>\n",
       "      <td>28.156763</td>\n",
       "      <td>i_z</td>\n",
       "      <td>47.576443</td>\n",
       "      <td>i_z</td>\n",
       "      <td>39.353952</td>\n",
       "      <td>w1_w2</td>\n",
       "      <td>35.108136</td>\n",
       "    </tr>\n",
       "    <tr>\n",
       "      <th>1</th>\n",
       "      <td>r_i</td>\n",
       "      <td>26.908555</td>\n",
       "      <td>g_i</td>\n",
       "      <td>21.024185</td>\n",
       "      <td>r_i</td>\n",
       "      <td>29.744384</td>\n",
       "      <td>i_z</td>\n",
       "      <td>27.375848</td>\n",
       "    </tr>\n",
       "    <tr>\n",
       "      <th>2</th>\n",
       "      <td>g_i</td>\n",
       "      <td>17.506882</td>\n",
       "      <td>r_i</td>\n",
       "      <td>20.198069</td>\n",
       "      <td>g_i</td>\n",
       "      <td>11.484230</td>\n",
       "      <td>z_y</td>\n",
       "      <td>15.215676</td>\n",
       "    </tr>\n",
       "    <tr>\n",
       "      <th>3</th>\n",
       "      <td>z_y</td>\n",
       "      <td>14.258009</td>\n",
       "      <td>z_y</td>\n",
       "      <td>8.670534</td>\n",
       "      <td>z_y</td>\n",
       "      <td>11.243018</td>\n",
       "      <td>r_i</td>\n",
       "      <td>14.069086</td>\n",
       "    </tr>\n",
       "    <tr>\n",
       "      <th>4</th>\n",
       "      <td>w1_w2</td>\n",
       "      <td>13.169791</td>\n",
       "      <td>w1_w2</td>\n",
       "      <td>2.530774</td>\n",
       "      <td>w1_w2</td>\n",
       "      <td>8.174417</td>\n",
       "      <td>g_i</td>\n",
       "      <td>8.231254</td>\n",
       "    </tr>\n",
       "  </tbody>\n",
       "</table>\n",
       "</div>"
      ],
      "text/plain": [
       "  catboost            xgboost                gbr                ada           \n",
       "   Feature Importance Feature Importance Feature Importance Feature Importance\n",
       "0      i_z  28.156763     i_z  47.576443     i_z  39.353952   w1_w2  35.108136\n",
       "1      r_i  26.908555     g_i  21.024185     r_i  29.744384     i_z  27.375848\n",
       "2      g_i  17.506882     r_i  20.198069     g_i  11.484230     z_y  15.215676\n",
       "3      z_y  14.258009     z_y   8.670534     z_y  11.243018     r_i  14.069086\n",
       "4    w1_w2  13.169791   w1_w2   2.530774   w1_w2   8.174417     g_i   8.231254"
      ]
     },
     "metadata": {},
     "output_type": "display_data"
    }
   ],
   "source": [
    "print('Feature importances scaled to sum 100')\n",
    "coef_sorted_base_df_copy_sum = coef_sorted_base_df.copy()\n",
    "for key in coef_sorted_base_df_copy_sum.keys():\n",
    "    print(f'Calculating for {key}...')\n",
    "    coef_sorted_base_df_copy_sum[key].loc[:, 'Importance'] = coef_sorted_base_df[key].loc[:, 'Importance'] /\\\n",
    "                                                        coef_sorted_base_df[key].loc[:, 'Importance'].sum() * 100\n",
    "    # display(coef_sorted_base_df_copy_sum[key])\n",
    "coef_sorted_base_full_df = pd.concat([coef_sorted_base_df_copy_sum[key].reset_index(drop=True) for key in coef_sorted_base_df_copy_sum.keys()], axis=1)\n",
    "coef_sorted_base_full_df.columns = pd.MultiIndex.from_tuples(multicol_feat)\n",
    "display(coef_sorted_base_full_df)"
   ]
  },
  {
   "cell_type": "code",
   "execution_count": 96,
   "id": "66f6a0b8",
   "metadata": {
    "jupyter": {
     "source_hidden": true
    },
    "tags": []
   },
   "outputs": [
    {
     "name": "stdout",
     "output_type": "stream",
     "text": [
      "Feature importances scaled to sum 100\n",
      "Meta model\n"
     ]
    },
    {
     "data": {
      "text/html": [
       "<div>\n",
       "<style scoped>\n",
       "    .dataframe tbody tr th:only-of-type {\n",
       "        vertical-align: middle;\n",
       "    }\n",
       "\n",
       "    .dataframe tbody tr th {\n",
       "        vertical-align: top;\n",
       "    }\n",
       "\n",
       "    .dataframe thead th {\n",
       "        text-align: right;\n",
       "    }\n",
       "</style>\n",
       "<table border=\"1\" class=\"dataframe\">\n",
       "  <thead>\n",
       "    <tr style=\"text-align: right;\">\n",
       "      <th></th>\n",
       "      <th>Feature</th>\n",
       "      <th>Importance</th>\n",
       "    </tr>\n",
       "  </thead>\n",
       "  <tbody>\n",
       "    <tr>\n",
       "      <th>0</th>\n",
       "      <td>i_z</td>\n",
       "      <td>19.845047</td>\n",
       "    </tr>\n",
       "    <tr>\n",
       "      <th>1</th>\n",
       "      <td>xgboost</td>\n",
       "      <td>17.308197</td>\n",
       "    </tr>\n",
       "    <tr>\n",
       "      <th>2</th>\n",
       "      <td>ada</td>\n",
       "      <td>15.761154</td>\n",
       "    </tr>\n",
       "    <tr>\n",
       "      <th>3</th>\n",
       "      <td>gbr</td>\n",
       "      <td>15.720087</td>\n",
       "    </tr>\n",
       "    <tr>\n",
       "      <th>4</th>\n",
       "      <td>catboost</td>\n",
       "      <td>10.998648</td>\n",
       "    </tr>\n",
       "    <tr>\n",
       "      <th>5</th>\n",
       "      <td>r_i</td>\n",
       "      <td>6.267543</td>\n",
       "    </tr>\n",
       "    <tr>\n",
       "      <th>6</th>\n",
       "      <td>g_i</td>\n",
       "      <td>5.326567</td>\n",
       "    </tr>\n",
       "    <tr>\n",
       "      <th>7</th>\n",
       "      <td>z_y</td>\n",
       "      <td>4.996043</td>\n",
       "    </tr>\n",
       "    <tr>\n",
       "      <th>8</th>\n",
       "      <td>w1_w2</td>\n",
       "      <td>3.776713</td>\n",
       "    </tr>\n",
       "  </tbody>\n",
       "</table>\n",
       "</div>"
      ],
      "text/plain": [
       "    Feature  Importance\n",
       "0       i_z   19.845047\n",
       "1   xgboost   17.308197\n",
       "2       ada   15.761154\n",
       "3       gbr   15.720087\n",
       "4  catboost   10.998648\n",
       "5       r_i    6.267543\n",
       "6       g_i    5.326567\n",
       "7       z_y    4.996043\n",
       "8     w1_w2    3.776713"
      ]
     },
     "metadata": {},
     "output_type": "display_data"
    }
   ],
   "source": [
    "print('Feature importances scaled to sum 100')\n",
    "coef_sorted_meta_df_copy_sum = coef_sorted_meta_df.copy()\n",
    "coef_sorted_meta_df_copy_sum.loc[:, 'Importance'] = coef_sorted_meta_df.loc[:, 'Importance'] /\\\n",
    "                                                     coef_sorted_meta_df.loc[:, 'Importance'].sum() * 100\n",
    "print('Meta model')\n",
    "display(coef_sorted_meta_df_copy_sum)"
   ]
  },
  {
   "cell_type": "code",
   "execution_count": 97,
   "id": "635a5e92",
   "metadata": {
    "jupyter": {
     "source_hidden": true
    },
    "tags": []
   },
   "outputs": [
    {
     "name": "stdout",
     "output_type": "stream",
     "text": [
      "Feature importances scaled to sum 100\n",
      "Running dtypes\n",
      "Running imputer\n",
      "Running new_levels1\n",
      "Running new_levels\n",
      "Running feature_time\n",
      "Running scaling\n",
      "Running P_transform\n",
      "Running dummy\n",
      "Running fix_perfect\n",
      "Running clean_names\n",
      "--------------------\n",
      "top features:\n",
      "Feature\tImportance\n",
      "i_z\t28.446\n",
      "r_i\t26.746\n",
      "g_i\t17.393\n",
      "z_y\t14.184\n",
      "w1_w2\t13.231\n"
     ]
    },
    {
     "data": {
      "image/png": "[encoded data removed]",
      "text/plain": [
       "<Figure size 700x1000 with 1 Axes>"
      ]
     },
     "metadata": {},
     "output_type": "display_data"
    }
   ],
   "source": [
    "print('Feature importances scaled to sum 100')\n",
    "try:\n",
    "    fig         = plt.figure(figsize=(7,10))\n",
    "    ax1         = fig.add_subplot(111)\n",
    "    n_top       = len(validation_df.columns)\n",
    "    features_df = get_feature_importances_df(final_z_reg, validation_df, n=n_top)\n",
    "    features    = features_df.loc[:, 'Feature'].to_list()\n",
    "    importances = features_df.loc[:, 'Importance'].to_list()\n",
    "    import_scal = importances / np.nansum(importances)\n",
    "    import_scal_colors = (importances - np.nanmin(importances)) / (np.nanmax(importances) - np.nanmin(importances))\n",
    "    # indices     = np.argsort(importances)[-n_top:] #only show most important features\n",
    "    # indices     = np.argsort(importances)\n",
    "    # ax1.set_title(f'{model_name} Feature Importances', size=14)\n",
    "    ax1.set_title('Feature Importances', size=14)\n",
    "    ax1.barh(range(len(importances)), import_scal * 100,\\\n",
    "             color=plt.get_cmap('bone', len(importances))(import_scal_colors), align='center', ec='k', lw=1.5)\n",
    "    # plt.yticks(range(len(importances)), [features[i] for i in importances])\n",
    "    plt.yticks(range(len(importances)), features)\n",
    "    ax1.set_xlabel('Relative Importance', size=14)\n",
    "    ax1.set_ylabel('Features', size=14)\n",
    "    ax1.tick_params(axis='both', which='major', labelsize=14)\n",
    "    ax1.tick_params(axis='y', which='major', rotation=30)\n",
    "    plt.setp(ax1.spines.values(), linewidth=2.5)\n",
    "    ax1.tick_params(which='both',top=True, right=False, direction='in')\n",
    "    # ax1.set_xscale('log')\n",
    "    # plt.show()\n",
    "    plt.tight_layout()\n",
    "    if save_plot_flag:\n",
    "        plt.savefig('plots/feat_imp_regression_z_07.pdf', bbox_inches='tight')\n",
    "\n",
    "    print('-' * 20)\n",
    "    print('top features:')\n",
    "    print('Feature\\tImportance')\n",
    "    for feat, imp in zip(reversed(features), reversed(import_scal  * 100)):\n",
    "        print(f'{feat}\\t{round(imp, 3):>.3f}')\n",
    "\n",
    "except:\n",
    "    print('learning algorithm does not provide feature importance.')"
   ]
  },
  {
   "cell_type": "code",
   "execution_count": 98,
   "id": "dc21f596",
   "metadata": {},
   "outputs": [
    {
     "data": {
      "text/html": [
       "<style type=\"text/css\">\n",
       "</style>\n",
       "<table id=\"T_64354\">\n",
       "  <thead>\n",
       "    <tr>\n",
       "      <th class=\"blank level0\" >&nbsp;</th>\n",
       "      <th id=\"T_64354_level0_col0\" class=\"col_heading level0 col0\" >Model</th>\n",
       "      <th id=\"T_64354_level0_col1\" class=\"col_heading level0 col1\" >MAE</th>\n",
       "      <th id=\"T_64354_level0_col2\" class=\"col_heading level0 col2\" >MSE</th>\n",
       "      <th id=\"T_64354_level0_col3\" class=\"col_heading level0 col3\" >RMSE</th>\n",
       "      <th id=\"T_64354_level0_col4\" class=\"col_heading level0 col4\" >R2</th>\n",
       "      <th id=\"T_64354_level0_col5\" class=\"col_heading level0 col5\" >RMSLE</th>\n",
       "      <th id=\"T_64354_level0_col6\" class=\"col_heading level0 col6\" >MAPE</th>\n",
       "      <th id=\"T_64354_level0_col7\" class=\"col_heading level0 col7\" >sigma_mad</th>\n",
       "      <th id=\"T_64354_level0_col8\" class=\"col_heading level0 col8\" >sigma_nmad</th>\n",
       "      <th id=\"T_64354_level0_col9\" class=\"col_heading level0 col9\" >sigma_z</th>\n",
       "      <th id=\"T_64354_level0_col10\" class=\"col_heading level0 col10\" >sigma_z_norm</th>\n",
       "      <th id=\"T_64354_level0_col11\" class=\"col_heading level0 col11\" >outlier_fr</th>\n",
       "    </tr>\n",
       "  </thead>\n",
       "  <tbody>\n",
       "    <tr>\n",
       "      <th id=\"T_64354_level0_row0\" class=\"row_heading level0 row0\" >0</th>\n",
       "      <td id=\"T_64354_row0_col0\" class=\"data row0 col0\" >Stacking Regressor</td>\n",
       "      <td id=\"T_64354_row0_col1\" class=\"data row0 col1\" >0.2211</td>\n",
       "      <td id=\"T_64354_row0_col2\" class=\"data row0 col2\" >0.0821</td>\n",
       "      <td id=\"T_64354_row0_col3\" class=\"data row0 col3\" >0.2865</td>\n",
       "      <td id=\"T_64354_row0_col4\" class=\"data row0 col4\" >0.1868</td>\n",
       "      <td id=\"T_64354_row0_col5\" class=\"data row0 col5\" >0.0552</td>\n",
       "      <td id=\"T_64354_row0_col6\" class=\"data row0 col6\" >0.0534</td>\n",
       "      <td id=\"T_64354_row0_col7\" class=\"data row0 col7\" >0.2293</td>\n",
       "      <td id=\"T_64354_row0_col8\" class=\"data row0 col8\" >0.0445</td>\n",
       "      <td id=\"T_64354_row0_col9\" class=\"data row0 col9\" >0.2865</td>\n",
       "      <td id=\"T_64354_row0_col10\" class=\"data row0 col10\" >0.0562</td>\n",
       "      <td id=\"T_64354_row0_col11\" class=\"data row0 col11\" >0.0000</td>\n",
       "    </tr>\n",
       "  </tbody>\n",
       "</table>\n"
      ],
      "text/plain": [
       "<pandas.io.formats.style.Styler at 0x7f78e2fd8df0>"
      ]
     },
     "metadata": {},
     "output_type": "display_data"
    }
   ],
   "source": [
    "validation_prediction_reg = pyr.predict_model(final_z_reg, data=validation_df)"
   ]
  },
  {
   "cell_type": "code",
   "execution_count": 99,
   "id": "8facfadb",
   "metadata": {},
   "outputs": [
    {
     "data": {
      "text/html": [
       "<div>\n",
       "<style scoped>\n",
       "    .dataframe tbody tr th:only-of-type {\n",
       "        vertical-align: middle;\n",
       "    }\n",
       "\n",
       "    .dataframe tbody tr th {\n",
       "        vertical-align: top;\n",
       "    }\n",
       "\n",
       "    .dataframe thead th {\n",
       "        text-align: right;\n",
       "    }\n",
       "</style>\n",
       "<table border=\"1\" class=\"dataframe\">\n",
       "  <thead>\n",
       "    <tr style=\"text-align: right;\">\n",
       "      <th></th>\n",
       "      <th>Z</th>\n",
       "      <th>Label</th>\n",
       "    </tr>\n",
       "  </thead>\n",
       "  <tbody>\n",
       "    <tr>\n",
       "      <th>count</th>\n",
       "      <td>14.000000</td>\n",
       "      <td>14.000000</td>\n",
       "    </tr>\n",
       "    <tr>\n",
       "      <th>mean</th>\n",
       "      <td>4.183000</td>\n",
       "      <td>4.177105</td>\n",
       "    </tr>\n",
       "    <tr>\n",
       "      <th>std</th>\n",
       "      <td>0.329723</td>\n",
       "      <td>0.272887</td>\n",
       "    </tr>\n",
       "    <tr>\n",
       "      <th>min</th>\n",
       "      <td>3.780000</td>\n",
       "      <td>3.904083</td>\n",
       "    </tr>\n",
       "    <tr>\n",
       "      <th>25%</th>\n",
       "      <td>3.911500</td>\n",
       "      <td>3.964769</td>\n",
       "    </tr>\n",
       "    <tr>\n",
       "      <th>50%</th>\n",
       "      <td>4.127500</td>\n",
       "      <td>4.025726</td>\n",
       "    </tr>\n",
       "    <tr>\n",
       "      <th>75%</th>\n",
       "      <td>4.406750</td>\n",
       "      <td>4.469080</td>\n",
       "    </tr>\n",
       "    <tr>\n",
       "      <th>max</th>\n",
       "      <td>4.745000</td>\n",
       "      <td>4.604286</td>\n",
       "    </tr>\n",
       "  </tbody>\n",
       "</table>\n",
       "</div>"
      ],
      "text/plain": [
       "               Z      Label\n",
       "count  14.000000  14.000000\n",
       "mean    4.183000   4.177105\n",
       "std     0.329723   0.272887\n",
       "min     3.780000   3.904083\n",
       "25%     3.911500   3.964769\n",
       "50%     4.127500   4.025726\n",
       "75%     4.406750   4.469080\n",
       "max     4.745000   4.604286"
      ]
     },
     "execution_count": 99,
     "metadata": {},
     "output_type": "execute_result"
    }
   ],
   "source": [
    "validation_prediction_reg.loc[:, ['Z', 'Label']].describe()"
   ]
  },
  {
   "cell_type": "code",
   "execution_count": 100,
   "id": "f1bb1947",
   "metadata": {},
   "outputs": [],
   "source": [
    "# clb.vmax"
   ]
  },
  {
   "cell_type": "code",
   "execution_count": 101,
   "id": "332b3aa5",
   "metadata": {
    "jupyter": {
     "source_hidden": true
    },
    "tags": []
   },
   "outputs": [
    {
     "data": {
      "image/png": "[encoded data removed]",
      "text/plain": [
       "<Figure size 600x500 with 3 Axes>"
      ]
     },
     "metadata": {},
     "output_type": "display_data"
    }
   ],
   "source": [
    "fig             = plt.figure(figsize=(6,5))\n",
    "ax1             = fig.add_subplot(111, projection='scatter_density', xscale='log', yscale='log')\n",
    "plot_redshift_compare(validation_prediction_reg.loc[:, 'Z'], validation_prediction_reg.loc[:, 'Label'],\\\n",
    "                      ax_pre=ax1, title='Validation set', dpi=10, show_clb=True, log_stretch=False)\n",
    "if save_plot_flag:\n",
    "    plt.savefig('plots/compare_plot_validation_redshift_07.pdf', bbox_inches='tight')\n",
    "plt.show()"
   ]
  },
  {
   "cell_type": "code",
   "execution_count": 102,
   "id": "ff2f4c68",
   "metadata": {
    "jupyter": {
     "source_hidden": true
    },
    "tags": []
   },
   "outputs": [],
   "source": [
    "train_size         = 0.7\n",
    "data_split_shuffle = True\n",
    "_stratify_columns  = _get_columns_to_stratify_by(\n",
    "            train_test_df.drop(columns=['Z']), train_test_df.loc[:, 'Z'], False, 'Z'\n",
    "        )\n",
    "\n",
    "X_train, X_test, y_train, y_test = train_test_split(\n",
    "                train_test_df.drop(columns=['Z']),\n",
    "                train_test_df.loc[:, 'Z'],\n",
    "                test_size=1 - train_size,\n",
    "                stratify=_stratify_columns,\n",
    "                random_state=seed,\n",
    "                shuffle=data_split_shuffle,\n",
    "            )\n",
    "train_df        = pd.concat([X_train, y_train], axis=1)\n",
    "test_df         = pd.concat([X_test, y_test], axis=1)"
   ]
  },
  {
   "cell_type": "code",
   "execution_count": 103,
   "id": "3af580d1",
   "metadata": {},
   "outputs": [
    {
     "data": {
      "text/html": [
       "<style type=\"text/css\">\n",
       "</style>\n",
       "<table id=\"T_2d581\">\n",
       "  <thead>\n",
       "    <tr>\n",
       "      <th class=\"blank level0\" >&nbsp;</th>\n",
       "      <th id=\"T_2d581_level0_col0\" class=\"col_heading level0 col0\" >Model</th>\n",
       "      <th id=\"T_2d581_level0_col1\" class=\"col_heading level0 col1\" >MAE</th>\n",
       "      <th id=\"T_2d581_level0_col2\" class=\"col_heading level0 col2\" >MSE</th>\n",
       "      <th id=\"T_2d581_level0_col3\" class=\"col_heading level0 col3\" >RMSE</th>\n",
       "      <th id=\"T_2d581_level0_col4\" class=\"col_heading level0 col4\" >R2</th>\n",
       "      <th id=\"T_2d581_level0_col5\" class=\"col_heading level0 col5\" >RMSLE</th>\n",
       "      <th id=\"T_2d581_level0_col6\" class=\"col_heading level0 col6\" >MAPE</th>\n",
       "      <th id=\"T_2d581_level0_col7\" class=\"col_heading level0 col7\" >sigma_mad</th>\n",
       "      <th id=\"T_2d581_level0_col8\" class=\"col_heading level0 col8\" >sigma_nmad</th>\n",
       "      <th id=\"T_2d581_level0_col9\" class=\"col_heading level0 col9\" >sigma_z</th>\n",
       "      <th id=\"T_2d581_level0_col10\" class=\"col_heading level0 col10\" >sigma_z_norm</th>\n",
       "      <th id=\"T_2d581_level0_col11\" class=\"col_heading level0 col11\" >outlier_fr</th>\n",
       "    </tr>\n",
       "  </thead>\n",
       "  <tbody>\n",
       "    <tr>\n",
       "      <th id=\"T_2d581_level0_row0\" class=\"row_heading level0 row0\" >0</th>\n",
       "      <td id=\"T_2d581_row0_col0\" class=\"data row0 col0\" >Stacking Regressor</td>\n",
       "      <td id=\"T_2d581_row0_col1\" class=\"data row0 col1\" >0.1309</td>\n",
       "      <td id=\"T_2d581_row0_col2\" class=\"data row0 col2\" >0.0370</td>\n",
       "      <td id=\"T_2d581_row0_col3\" class=\"data row0 col3\" >0.1924</td>\n",
       "      <td id=\"T_2d581_row0_col4\" class=\"data row0 col4\" >0.7781</td>\n",
       "      <td id=\"T_2d581_row0_col5\" class=\"data row0 col5\" >0.0342</td>\n",
       "      <td id=\"T_2d581_row0_col6\" class=\"data row0 col6\" >0.0307</td>\n",
       "      <td id=\"T_2d581_row0_col7\" class=\"data row0 col7\" >0.1404</td>\n",
       "      <td id=\"T_2d581_row0_col8\" class=\"data row0 col8\" >0.0272</td>\n",
       "      <td id=\"T_2d581_row0_col9\" class=\"data row0 col9\" >0.1924</td>\n",
       "      <td id=\"T_2d581_row0_col10\" class=\"data row0 col10\" >0.0336</td>\n",
       "      <td id=\"T_2d581_row0_col11\" class=\"data row0 col11\" >0.0000</td>\n",
       "    </tr>\n",
       "  </tbody>\n",
       "</table>\n"
      ],
      "text/plain": [
       "<pandas.io.formats.style.Styler at 0x7f78093d96a0>"
      ]
     },
     "metadata": {},
     "output_type": "display_data"
    },
    {
     "data": {
      "text/html": [
       "<style type=\"text/css\">\n",
       "</style>\n",
       "<table id=\"T_f228c\">\n",
       "  <thead>\n",
       "    <tr>\n",
       "      <th class=\"blank level0\" >&nbsp;</th>\n",
       "      <th id=\"T_f228c_level0_col0\" class=\"col_heading level0 col0\" >Model</th>\n",
       "      <th id=\"T_f228c_level0_col1\" class=\"col_heading level0 col1\" >MAE</th>\n",
       "      <th id=\"T_f228c_level0_col2\" class=\"col_heading level0 col2\" >MSE</th>\n",
       "      <th id=\"T_f228c_level0_col3\" class=\"col_heading level0 col3\" >RMSE</th>\n",
       "      <th id=\"T_f228c_level0_col4\" class=\"col_heading level0 col4\" >R2</th>\n",
       "      <th id=\"T_f228c_level0_col5\" class=\"col_heading level0 col5\" >RMSLE</th>\n",
       "      <th id=\"T_f228c_level0_col6\" class=\"col_heading level0 col6\" >MAPE</th>\n",
       "      <th id=\"T_f228c_level0_col7\" class=\"col_heading level0 col7\" >sigma_mad</th>\n",
       "      <th id=\"T_f228c_level0_col8\" class=\"col_heading level0 col8\" >sigma_nmad</th>\n",
       "      <th id=\"T_f228c_level0_col9\" class=\"col_heading level0 col9\" >sigma_z</th>\n",
       "      <th id=\"T_f228c_level0_col10\" class=\"col_heading level0 col10\" >sigma_z_norm</th>\n",
       "      <th id=\"T_f228c_level0_col11\" class=\"col_heading level0 col11\" >outlier_fr</th>\n",
       "    </tr>\n",
       "  </thead>\n",
       "  <tbody>\n",
       "    <tr>\n",
       "      <th id=\"T_f228c_level0_row0\" class=\"row_heading level0 row0\" >0</th>\n",
       "      <td id=\"T_f228c_row0_col0\" class=\"data row0 col0\" >Stacking Regressor</td>\n",
       "      <td id=\"T_f228c_row0_col1\" class=\"data row0 col1\" >0.2320</td>\n",
       "      <td id=\"T_f228c_row0_col2\" class=\"data row0 col2\" >0.1928</td>\n",
       "      <td id=\"T_f228c_row0_col3\" class=\"data row0 col3\" >0.4391</td>\n",
       "      <td id=\"T_f228c_row0_col4\" class=\"data row0 col4\" >0.5827</td>\n",
       "      <td id=\"T_f228c_row0_col5\" class=\"data row0 col5\" >0.0704</td>\n",
       "      <td id=\"T_f228c_row0_col6\" class=\"data row0 col6\" >0.0459</td>\n",
       "      <td id=\"T_f228c_row0_col7\" class=\"data row0 col7\" >0.1514</td>\n",
       "      <td id=\"T_f228c_row0_col8\" class=\"data row0 col8\" >0.0312</td>\n",
       "      <td id=\"T_f228c_row0_col9\" class=\"data row0 col9\" >0.4391</td>\n",
       "      <td id=\"T_f228c_row0_col10\" class=\"data row0 col10\" >0.0648</td>\n",
       "      <td id=\"T_f228c_row0_col11\" class=\"data row0 col11\" >0.0556</td>\n",
       "    </tr>\n",
       "  </tbody>\n",
       "</table>\n"
      ],
      "text/plain": [
       "<pandas.io.formats.style.Styler at 0x7f77405becd0>"
      ]
     },
     "metadata": {},
     "output_type": "display_data"
    },
    {
     "data": {
      "text/html": [
       "<style type=\"text/css\">\n",
       "</style>\n",
       "<table id=\"T_137f6\">\n",
       "  <thead>\n",
       "    <tr>\n",
       "      <th class=\"blank level0\" >&nbsp;</th>\n",
       "      <th id=\"T_137f6_level0_col0\" class=\"col_heading level0 col0\" >Model</th>\n",
       "      <th id=\"T_137f6_level0_col1\" class=\"col_heading level0 col1\" >MAE</th>\n",
       "      <th id=\"T_137f6_level0_col2\" class=\"col_heading level0 col2\" >MSE</th>\n",
       "      <th id=\"T_137f6_level0_col3\" class=\"col_heading level0 col3\" >RMSE</th>\n",
       "      <th id=\"T_137f6_level0_col4\" class=\"col_heading level0 col4\" >R2</th>\n",
       "      <th id=\"T_137f6_level0_col5\" class=\"col_heading level0 col5\" >RMSLE</th>\n",
       "      <th id=\"T_137f6_level0_col6\" class=\"col_heading level0 col6\" >MAPE</th>\n",
       "      <th id=\"T_137f6_level0_col7\" class=\"col_heading level0 col7\" >sigma_mad</th>\n",
       "      <th id=\"T_137f6_level0_col8\" class=\"col_heading level0 col8\" >sigma_nmad</th>\n",
       "      <th id=\"T_137f6_level0_col9\" class=\"col_heading level0 col9\" >sigma_z</th>\n",
       "      <th id=\"T_137f6_level0_col10\" class=\"col_heading level0 col10\" >sigma_z_norm</th>\n",
       "      <th id=\"T_137f6_level0_col11\" class=\"col_heading level0 col11\" >outlier_fr</th>\n",
       "    </tr>\n",
       "  </thead>\n",
       "  <tbody>\n",
       "    <tr>\n",
       "      <th id=\"T_137f6_level0_row0\" class=\"row_heading level0 row0\" >0</th>\n",
       "      <td id=\"T_137f6_row0_col0\" class=\"data row0 col0\" >Stacking Regressor</td>\n",
       "      <td id=\"T_137f6_row0_col1\" class=\"data row0 col1\" >0.1623</td>\n",
       "      <td id=\"T_137f6_row0_col2\" class=\"data row0 col2\" >0.0854</td>\n",
       "      <td id=\"T_137f6_row0_col3\" class=\"data row0 col3\" >0.2922</td>\n",
       "      <td id=\"T_137f6_row0_col4\" class=\"data row0 col4\" >0.6842</td>\n",
       "      <td id=\"T_137f6_row0_col5\" class=\"data row0 col5\" >0.0484</td>\n",
       "      <td id=\"T_137f6_row0_col6\" class=\"data row0 col6\" >0.0355</td>\n",
       "      <td id=\"T_137f6_row0_col7\" class=\"data row0 col7\" >0.1447</td>\n",
       "      <td id=\"T_137f6_row0_col8\" class=\"data row0 col8\" >0.0297</td>\n",
       "      <td id=\"T_137f6_row0_col9\" class=\"data row0 col9\" >0.2922</td>\n",
       "      <td id=\"T_137f6_row0_col10\" class=\"data row0 col10\" >0.0456</td>\n",
       "      <td id=\"T_137f6_row0_col11\" class=\"data row0 col11\" >0.0172</td>\n",
       "    </tr>\n",
       "  </tbody>\n",
       "</table>\n"
      ],
      "text/plain": [
       "<pandas.io.formats.style.Styler at 0x7f77405becd0>"
      ]
     },
     "metadata": {},
     "output_type": "display_data"
    }
   ],
   "source": [
    "train_prediction_reg      = pyr.predict_model(final_z_reg, data=train_df)\n",
    "test_prediction_reg       = pyr.predict_model(final_z_reg, data=test_df)\n",
    "train_test_prediction_reg = pyr.predict_model(final_z_reg, data=train_test_df)"
   ]
  },
  {
   "cell_type": "code",
   "execution_count": 104,
   "id": "f31cf14a",
   "metadata": {
    "jupyter": {
     "source_hidden": true
    },
    "tags": []
   },
   "outputs": [],
   "source": [
    "sigma_mad_train         = sigma_mad(train_prediction_reg.loc[:, 'Z'],         train_prediction_reg.loc[:, 'Label'])\n",
    "sigma_mad_test          = sigma_mad(test_prediction_reg.loc[:, 'Z'],          test_prediction_reg.loc[:, 'Label'])\n",
    "sigma_mad_train_test    = sigma_mad(train_test_prediction_reg.loc[:, 'Z'],    train_test_prediction_reg.loc[:, 'Label'])\n",
    "sigma_mad_valid         = sigma_mad(validation_prediction_reg.loc[:, 'Z'],    validation_prediction_reg.loc[:, 'Label'])"
   ]
  },
  {
   "cell_type": "code",
   "execution_count": 105,
   "id": "2325be75",
   "metadata": {
    "jupyter": {
     "source_hidden": true
    },
    "tags": []
   },
   "outputs": [],
   "source": [
    "sigma_nmad_train        = sigma_nmad(train_prediction_reg.loc[:, 'Z'],        train_prediction_reg.loc[:, 'Label'])\n",
    "sigma_nmad_test         = sigma_nmad(test_prediction_reg.loc[:, 'Z'],         test_prediction_reg.loc[:, 'Label'])\n",
    "sigma_nmad_train_test   = sigma_nmad(train_test_prediction_reg.loc[:, 'Z'],   train_test_prediction_reg.loc[:, 'Label'])\n",
    "sigma_nmad_valid        = sigma_nmad(validation_prediction_reg.loc[:, 'Z'],   validation_prediction_reg.loc[:, 'Label'])"
   ]
  },
  {
   "cell_type": "code",
   "execution_count": 106,
   "id": "b864cc5c",
   "metadata": {
    "jupyter": {
     "source_hidden": true
    },
    "tags": []
   },
   "outputs": [],
   "source": [
    "sigma_z_train           = sigma_z(train_prediction_reg.loc[:, 'Z'],           train_prediction_reg.loc[:, 'Label'])\n",
    "sigma_z_test            = sigma_z(test_prediction_reg.loc[:, 'Z'],            test_prediction_reg.loc[:, 'Label'])\n",
    "sigma_z_train_test      = sigma_z(train_test_prediction_reg.loc[:, 'Z'],      train_test_prediction_reg.loc[:, 'Label'])\n",
    "sigma_z_valid           = sigma_z(validation_prediction_reg.loc[:, 'Z'],      validation_prediction_reg.loc[:, 'Label'])"
   ]
  },
  {
   "cell_type": "code",
   "execution_count": 107,
   "id": "6ef23c21",
   "metadata": {
    "jupyter": {
     "source_hidden": true
    },
    "tags": []
   },
   "outputs": [],
   "source": [
    "sigma_z_norm_train      = sigma_z_norm(train_prediction_reg.loc[:, 'Z'],      train_prediction_reg.loc[:, 'Label'])\n",
    "sigma_z_norm_test       = sigma_z_norm(test_prediction_reg.loc[:, 'Z'],       test_prediction_reg.loc[:, 'Label'])\n",
    "sigma_z_norm_train_test = sigma_z_norm(train_test_prediction_reg.loc[:, 'Z'], train_test_prediction_reg.loc[:, 'Label'])\n",
    "sigma_z_norm_valid      = sigma_z_norm(validation_prediction_reg.loc[:, 'Z'], validation_prediction_reg.loc[:, 'Label'])"
   ]
  },
  {
   "cell_type": "code",
   "execution_count": 108,
   "id": "47f41c62",
   "metadata": {
    "jupyter": {
     "source_hidden": true
    },
    "tags": []
   },
   "outputs": [],
   "source": [
    "out_frac_train      = outlier_frac(train_prediction_reg.loc[:, 'Z'],           train_prediction_reg.loc[:, 'Label'])\n",
    "out_frac_test       = outlier_frac(test_prediction_reg.loc[:, 'Z'],            test_prediction_reg.loc[:, 'Label'])\n",
    "out_frac_train_test = outlier_frac(train_test_prediction_reg.loc[:, 'Z'],      train_test_prediction_reg.loc[:, 'Label'])\n",
    "out_frac_valid      = outlier_frac(validation_prediction_reg.loc[:, 'Z'],      validation_prediction_reg.loc[:, 'Label'])"
   ]
  },
  {
   "cell_type": "code",
   "execution_count": 109,
   "id": "4d96f612",
   "metadata": {
    "jupyter": {
     "source_hidden": true
    },
    "tags": []
   },
   "outputs": [
    {
     "name": "stdout",
     "output_type": "stream",
     "text": [
      "Scores for training set:\n",
      "Sigma MAD:\t\t0.1404\n",
      "Sigma NMAD:\t\t0.0272\n",
      "Sigma z:\t\t0.1924\n",
      "Sigma z norm:\t\t0.0336\n",
      "Out fraction:\t\t0.0000\n",
      "-----------------------------------\n"
     ]
    }
   ],
   "source": [
    "print('Scores for training set:')\n",
    "print(f'Sigma MAD:\\t\\t{sigma_mad_train:.4f}')\n",
    "print(f'Sigma NMAD:\\t\\t{sigma_nmad_train:.4f}')\n",
    "print(f'Sigma z:\\t\\t{sigma_z_train:.4f}')\n",
    "print(f'Sigma z norm:\\t\\t{sigma_z_norm_train:.4f}')\n",
    "print(f'Out fraction:\\t\\t{out_frac_train:.4f}')\n",
    "print('-' * 35)"
   ]
  },
  {
   "cell_type": "code",
   "execution_count": 110,
   "id": "4b492b15",
   "metadata": {
    "jupyter": {
     "source_hidden": true
    },
    "tags": []
   },
   "outputs": [
    {
     "name": "stdout",
     "output_type": "stream",
     "text": [
      "Scores for test set:\n",
      "Sigma MAD:\t\t0.1514\n",
      "Sigma NMAD:\t\t0.0312\n",
      "Sigma z:\t\t0.4391\n",
      "Sigma z norm:\t\t0.0648\n",
      "Out fraction:\t\t0.0556\n",
      "-----------------------------------\n"
     ]
    }
   ],
   "source": [
    "print('Scores for test set:')\n",
    "print(f'Sigma MAD:\\t\\t{sigma_mad_test:.4f}')\n",
    "print(f'Sigma NMAD:\\t\\t{sigma_nmad_test:.4f}')\n",
    "print(f'Sigma z:\\t\\t{sigma_z_test:.4f}')\n",
    "print(f'Sigma z norm:\\t\\t{sigma_z_norm_test:.4f}')\n",
    "print(f'Out fraction:\\t\\t{out_frac_test:.4f}')\n",
    "print('-' * 35)"
   ]
  },
  {
   "cell_type": "code",
   "execution_count": 111,
   "id": "b19342d3",
   "metadata": {
    "jupyter": {
     "source_hidden": true
    },
    "tags": []
   },
   "outputs": [
    {
     "name": "stdout",
     "output_type": "stream",
     "text": [
      "Scores for training+test set:\n",
      "Sigma MAD:\t\t0.1447\n",
      "Sigma NMAD:\t\t0.0297\n",
      "Sigma z:\t\t0.2922\n",
      "Sigma z norm:\t\t0.0456\n",
      "Out fraction:\t\t0.0172\n",
      "-----------------------------------\n"
     ]
    }
   ],
   "source": [
    "print('Scores for training+test set:')\n",
    "print(f'Sigma MAD:\\t\\t{sigma_mad_train_test:.4f}')\n",
    "print(f'Sigma NMAD:\\t\\t{sigma_nmad_train_test:.4f}')\n",
    "print(f'Sigma z:\\t\\t{sigma_z_train_test:.4f}')\n",
    "print(f'Sigma z norm:\\t\\t{sigma_z_norm_train_test:.4f}')\n",
    "print(f'Out fraction:\\t\\t{out_frac_train_test:.4f}')\n",
    "print('-' * 35)"
   ]
  },
  {
   "cell_type": "code",
   "execution_count": 112,
   "id": "e8217b2c",
   "metadata": {
    "jupyter": {
     "source_hidden": true
    },
    "tags": []
   },
   "outputs": [
    {
     "name": "stdout",
     "output_type": "stream",
     "text": [
      "Scores for validation set:\n",
      "Sigma MAD:\t\t0.2293\n",
      "Sigma NMAD:\t\t0.0445\n",
      "Sigma z:\t\t0.2865\n",
      "Sigma z norm:\t\t0.0562\n",
      "Out fraction:\t\t0.0000\n",
      "-----------------------------------\n"
     ]
    }
   ],
   "source": [
    "print('Scores for validation set:')\n",
    "print(f'Sigma MAD:\\t\\t{sigma_mad_valid:.4f}')\n",
    "print(f'Sigma NMAD:\\t\\t{sigma_nmad_valid:.4f}')\n",
    "print(f'Sigma z:\\t\\t{sigma_z_valid:.4f}')\n",
    "print(f'Sigma z norm:\\t\\t{sigma_z_norm_valid:.4f}')\n",
    "print(f'Out fraction:\\t\\t{out_frac_valid:.4f}')\n",
    "print('-' * 35)"
   ]
  },
  {
   "cell_type": "code",
   "execution_count": 113,
   "id": "22ddfb98",
   "metadata": {
    "jupyter": {
     "source_hidden": true
    },
    "tags": []
   },
   "outputs": [
    {
     "data": {
      "image/png": "[encoded data removed]",
      "text/plain": [
       "<Figure size 600x500 with 3 Axes>"
      ]
     },
     "metadata": {},
     "output_type": "display_data"
    }
   ],
   "source": [
    "fig             = plt.figure(figsize=(6,5))\n",
    "ax1             = fig.add_subplot(111, projection='scatter_density', xscale='log', yscale='log')\n",
    "plot_redshift_compare(train_prediction_reg.loc[:, 'Z'], train_prediction_reg.loc[:, 'Label'],\\\n",
    "                      ax_pre=ax1, title='Training set', dpi=10, show_clb=True, log_stretch=False)\n",
    "if save_plot_flag:\n",
    "    plt.savefig('plots/compare_plot_train_redshift_07.pdf', bbox_inches='tight')\n",
    "plt.show()"
   ]
  },
  {
   "cell_type": "code",
   "execution_count": 114,
   "id": "aa5a99af",
   "metadata": {
    "jupyter": {
     "source_hidden": true
    },
    "tags": []
   },
   "outputs": [
    {
     "data": {
      "image/png": "[encoded data removed]",
      "text/plain": [
       "<Figure size 600x500 with 3 Axes>"
      ]
     },
     "metadata": {},
     "output_type": "display_data"
    }
   ],
   "source": [
    "fig             = plt.figure(figsize=(6,5))\n",
    "ax1             = fig.add_subplot(111, projection='scatter_density', xscale='log', yscale='log')\n",
    "plot_redshift_compare(test_prediction_reg.loc[:, 'Z'], test_prediction_reg.loc[:, 'Label'],\\\n",
    "                      ax_pre=ax1, title='Test set', dpi=10, show_clb=True, log_stretch=False)\n",
    "if save_plot_flag:\n",
    "    plt.savefig('plots/compare_plot_test_redshift_07.pdf', bbox_inches='tight')\n",
    "plt.show()"
   ]
  },
  {
   "cell_type": "code",
   "execution_count": 115,
   "id": "8797510e",
   "metadata": {
    "jupyter": {
     "source_hidden": true
    },
    "tags": []
   },
   "outputs": [
    {
     "data": {
      "image/png": "[encoded data removed]",
      "text/plain": [
       "<Figure size 600x500 with 3 Axes>"
      ]
     },
     "metadata": {},
     "output_type": "display_data"
    }
   ],
   "source": [
    "fig             = plt.figure(figsize=(6,5))\n",
    "ax1             = fig.add_subplot(111, projection='scatter_density', xscale='log', yscale='log')\n",
    "plot_redshift_compare(train_test_prediction_reg.loc[:, 'Z'], train_test_prediction_reg.loc[:, 'Label'],\\\n",
    "                      ax_pre=ax1, title='Train+test set', dpi=10, show_clb=True, log_stretch=False)\n",
    "if save_plot_flag:\n",
    "    plt.savefig('plots/compare_plot_train_test_redshift_07.pdf', bbox_inches='tight')\n",
    "plt.show()"
   ]
  },
  {
   "cell_type": "code",
   "execution_count": 116,
   "id": "2df74ccf",
   "metadata": {
    "jupyter": {
     "source_hidden": true
    },
    "tags": []
   },
   "outputs": [
    {
     "data": {
      "image/png": "[encoded data removed]",
      "text/plain": [
       "<Figure size 1000x350 with 1 Axes>"
      ]
     },
     "metadata": {},
     "output_type": "display_data"
    },
    {
     "name": "stderr",
     "output_type": "stream",
     "text": [
      "/home/rcarvajal/.miniforge3/envs/test_pycaret/lib/python3.8/site-packages/xgboost/data.py:262: FutureWarning: pandas.Int64Index is deprecated and will be removed from pandas in a future version. Use pandas.Index with the appropriate dtype instead.\n",
      "  elif isinstance(data.columns, (pd.Int64Index, pd.RangeIndex)):\n",
      "/home/rcarvajal/.miniforge3/envs/test_pycaret/lib/python3.8/site-packages/xgboost/data.py:262: FutureWarning: pandas.Int64Index is deprecated and will be removed from pandas in a future version. Use pandas.Index with the appropriate dtype instead.\n",
      "  elif isinstance(data.columns, (pd.Int64Index, pd.RangeIndex)):\n",
      "/home/rcarvajal/.miniforge3/envs/test_pycaret/lib/python3.8/site-packages/xgboost/data.py:262: FutureWarning: pandas.Int64Index is deprecated and will be removed from pandas in a future version. Use pandas.Index with the appropriate dtype instead.\n",
      "  elif isinstance(data.columns, (pd.Int64Index, pd.RangeIndex)):\n",
      "/home/rcarvajal/.miniforge3/envs/test_pycaret/lib/python3.8/site-packages/xgboost/data.py:262: FutureWarning: pandas.Int64Index is deprecated and will be removed from pandas in a future version. Use pandas.Index with the appropriate dtype instead.\n",
      "  elif isinstance(data.columns, (pd.Int64Index, pd.RangeIndex)):\n",
      "/home/rcarvajal/.miniforge3/envs/test_pycaret/lib/python3.8/site-packages/xgboost/data.py:262: FutureWarning: pandas.Int64Index is deprecated and will be removed from pandas in a future version. Use pandas.Index with the appropriate dtype instead.\n",
      "  elif isinstance(data.columns, (pd.Int64Index, pd.RangeIndex)):\n",
      "/home/rcarvajal/.miniforge3/envs/test_pycaret/lib/python3.8/site-packages/xgboost/data.py:262: FutureWarning: pandas.Int64Index is deprecated and will be removed from pandas in a future version. Use pandas.Index with the appropriate dtype instead.\n",
      "  elif isinstance(data.columns, (pd.Int64Index, pd.RangeIndex)):\n",
      "/home/rcarvajal/.miniforge3/envs/test_pycaret/lib/python3.8/site-packages/xgboost/data.py:262: FutureWarning: pandas.Int64Index is deprecated and will be removed from pandas in a future version. Use pandas.Index with the appropriate dtype instead.\n",
      "  elif isinstance(data.columns, (pd.Int64Index, pd.RangeIndex)):\n",
      "/home/rcarvajal/.miniforge3/envs/test_pycaret/lib/python3.8/site-packages/xgboost/data.py:262: FutureWarning: pandas.Int64Index is deprecated and will be removed from pandas in a future version. Use pandas.Index with the appropriate dtype instead.\n",
      "  elif isinstance(data.columns, (pd.Int64Index, pd.RangeIndex)):\n",
      "/home/rcarvajal/.miniforge3/envs/test_pycaret/lib/python3.8/site-packages/xgboost/data.py:262: FutureWarning: pandas.Int64Index is deprecated and will be removed from pandas in a future version. Use pandas.Index with the appropriate dtype instead.\n",
      "  elif isinstance(data.columns, (pd.Int64Index, pd.RangeIndex)):\n",
      "/home/rcarvajal/.miniforge3/envs/test_pycaret/lib/python3.8/site-packages/xgboost/data.py:262: FutureWarning: pandas.Int64Index is deprecated and will be removed from pandas in a future version. Use pandas.Index with the appropriate dtype instead.\n",
      "  elif isinstance(data.columns, (pd.Int64Index, pd.RangeIndex)):\n",
      "/home/rcarvajal/.miniforge3/envs/test_pycaret/lib/python3.8/site-packages/xgboost/data.py:262: FutureWarning: pandas.Int64Index is deprecated and will be removed from pandas in a future version. Use pandas.Index with the appropriate dtype instead.\n",
      "  elif isinstance(data.columns, (pd.Int64Index, pd.RangeIndex)):\n",
      "/home/rcarvajal/.miniforge3/envs/test_pycaret/lib/python3.8/site-packages/xgboost/data.py:262: FutureWarning: pandas.Int64Index is deprecated and will be removed from pandas in a future version. Use pandas.Index with the appropriate dtype instead.\n",
      "  elif isinstance(data.columns, (pd.Int64Index, pd.RangeIndex)):\n",
      "/home/rcarvajal/.miniforge3/envs/test_pycaret/lib/python3.8/site-packages/xgboost/data.py:262: FutureWarning: pandas.Int64Index is deprecated and will be removed from pandas in a future version. Use pandas.Index with the appropriate dtype instead.\n",
      "  elif isinstance(data.columns, (pd.Int64Index, pd.RangeIndex)):\n",
      "/home/rcarvajal/.miniforge3/envs/test_pycaret/lib/python3.8/site-packages/xgboost/data.py:262: FutureWarning: pandas.Int64Index is deprecated and will be removed from pandas in a future version. Use pandas.Index with the appropriate dtype instead.\n",
      "  elif isinstance(data.columns, (pd.Int64Index, pd.RangeIndex)):\n",
      "/home/rcarvajal/.miniforge3/envs/test_pycaret/lib/python3.8/site-packages/xgboost/data.py:262: FutureWarning: pandas.Int64Index is deprecated and will be removed from pandas in a future version. Use pandas.Index with the appropriate dtype instead.\n",
      "  elif isinstance(data.columns, (pd.Int64Index, pd.RangeIndex)):\n",
      "/home/rcarvajal/.miniforge3/envs/test_pycaret/lib/python3.8/site-packages/xgboost/data.py:262: FutureWarning: pandas.Int64Index is deprecated and will be removed from pandas in a future version. Use pandas.Index with the appropriate dtype instead.\n",
      "  elif isinstance(data.columns, (pd.Int64Index, pd.RangeIndex)):\n",
      "/home/rcarvajal/.miniforge3/envs/test_pycaret/lib/python3.8/site-packages/xgboost/data.py:262: FutureWarning: pandas.Int64Index is deprecated and will be removed from pandas in a future version. Use pandas.Index with the appropriate dtype instead.\n",
      "  elif isinstance(data.columns, (pd.Int64Index, pd.RangeIndex)):\n",
      "/home/rcarvajal/.miniforge3/envs/test_pycaret/lib/python3.8/site-packages/xgboost/data.py:262: FutureWarning: pandas.Int64Index is deprecated and will be removed from pandas in a future version. Use pandas.Index with the appropriate dtype instead.\n",
      "  elif isinstance(data.columns, (pd.Int64Index, pd.RangeIndex)):\n",
      "/home/rcarvajal/.miniforge3/envs/test_pycaret/lib/python3.8/site-packages/xgboost/data.py:262: FutureWarning: pandas.Int64Index is deprecated and will be removed from pandas in a future version. Use pandas.Index with the appropriate dtype instead.\n",
      "  elif isinstance(data.columns, (pd.Int64Index, pd.RangeIndex)):\n",
      "/home/rcarvajal/.miniforge3/envs/test_pycaret/lib/python3.8/site-packages/xgboost/data.py:262: FutureWarning: pandas.Int64Index is deprecated and will be removed from pandas in a future version. Use pandas.Index with the appropriate dtype instead.\n",
      "  elif isinstance(data.columns, (pd.Int64Index, pd.RangeIndex)):\n",
      "/home/rcarvajal/.miniforge3/envs/test_pycaret/lib/python3.8/site-packages/xgboost/data.py:262: FutureWarning: pandas.Int64Index is deprecated and will be removed from pandas in a future version. Use pandas.Index with the appropriate dtype instead.\n",
      "  elif isinstance(data.columns, (pd.Int64Index, pd.RangeIndex)):\n",
      "/home/rcarvajal/.miniforge3/envs/test_pycaret/lib/python3.8/site-packages/xgboost/data.py:262: FutureWarning: pandas.Int64Index is deprecated and will be removed from pandas in a future version. Use pandas.Index with the appropriate dtype instead.\n",
      "  elif isinstance(data.columns, (pd.Int64Index, pd.RangeIndex)):\n",
      "/home/rcarvajal/.miniforge3/envs/test_pycaret/lib/python3.8/site-packages/xgboost/data.py:262: FutureWarning: pandas.Int64Index is deprecated and will be removed from pandas in a future version. Use pandas.Index with the appropriate dtype instead.\n",
      "  elif isinstance(data.columns, (pd.Int64Index, pd.RangeIndex)):\n",
      "/home/rcarvajal/.miniforge3/envs/test_pycaret/lib/python3.8/site-packages/xgboost/data.py:262: FutureWarning: pandas.Int64Index is deprecated and will be removed from pandas in a future version. Use pandas.Index with the appropriate dtype instead.\n",
      "  elif isinstance(data.columns, (pd.Int64Index, pd.RangeIndex)):\n",
      "/home/rcarvajal/.miniforge3/envs/test_pycaret/lib/python3.8/site-packages/xgboost/data.py:262: FutureWarning: pandas.Int64Index is deprecated and will be removed from pandas in a future version. Use pandas.Index with the appropriate dtype instead.\n",
      "  elif isinstance(data.columns, (pd.Int64Index, pd.RangeIndex)):\n",
      "/home/rcarvajal/.miniforge3/envs/test_pycaret/lib/python3.8/site-packages/xgboost/data.py:262: FutureWarning: pandas.Int64Index is deprecated and will be removed from pandas in a future version. Use pandas.Index with the appropriate dtype instead.\n",
      "  elif isinstance(data.columns, (pd.Int64Index, pd.RangeIndex)):\n",
      "/home/rcarvajal/.miniforge3/envs/test_pycaret/lib/python3.8/site-packages/xgboost/data.py:262: FutureWarning: pandas.Int64Index is deprecated and will be removed from pandas in a future version. Use pandas.Index with the appropriate dtype instead.\n",
      "  elif isinstance(data.columns, (pd.Int64Index, pd.RangeIndex)):\n",
      "/home/rcarvajal/.miniforge3/envs/test_pycaret/lib/python3.8/site-packages/xgboost/data.py:262: FutureWarning: pandas.Int64Index is deprecated and will be removed from pandas in a future version. Use pandas.Index with the appropriate dtype instead.\n",
      "  elif isinstance(data.columns, (pd.Int64Index, pd.RangeIndex)):\n",
      "/home/rcarvajal/.miniforge3/envs/test_pycaret/lib/python3.8/site-packages/xgboost/data.py:262: FutureWarning: pandas.Int64Index is deprecated and will be removed from pandas in a future version. Use pandas.Index with the appropriate dtype instead.\n",
      "  elif isinstance(data.columns, (pd.Int64Index, pd.RangeIndex)):\n",
      "/home/rcarvajal/.miniforge3/envs/test_pycaret/lib/python3.8/site-packages/xgboost/data.py:262: FutureWarning: pandas.Int64Index is deprecated and will be removed from pandas in a future version. Use pandas.Index with the appropriate dtype instead.\n",
      "  elif isinstance(data.columns, (pd.Int64Index, pd.RangeIndex)):\n",
      "/home/rcarvajal/.miniforge3/envs/test_pycaret/lib/python3.8/site-packages/xgboost/data.py:262: FutureWarning: pandas.Int64Index is deprecated and will be removed from pandas in a future version. Use pandas.Index with the appropriate dtype instead.\n",
      "  elif isinstance(data.columns, (pd.Int64Index, pd.RangeIndex)):\n",
      "/home/rcarvajal/.miniforge3/envs/test_pycaret/lib/python3.8/site-packages/xgboost/data.py:262: FutureWarning: pandas.Int64Index is deprecated and will be removed from pandas in a future version. Use pandas.Index with the appropriate dtype instead.\n",
      "  elif isinstance(data.columns, (pd.Int64Index, pd.RangeIndex)):\n",
      "/home/rcarvajal/.miniforge3/envs/test_pycaret/lib/python3.8/site-packages/xgboost/data.py:262: FutureWarning: pandas.Int64Index is deprecated and will be removed from pandas in a future version. Use pandas.Index with the appropriate dtype instead.\n",
      "  elif isinstance(data.columns, (pd.Int64Index, pd.RangeIndex)):\n",
      "/home/rcarvajal/.miniforge3/envs/test_pycaret/lib/python3.8/site-packages/xgboost/data.py:262: FutureWarning: pandas.Int64Index is deprecated and will be removed from pandas in a future version. Use pandas.Index with the appropriate dtype instead.\n",
      "  elif isinstance(data.columns, (pd.Int64Index, pd.RangeIndex)):\n",
      "/home/rcarvajal/.miniforge3/envs/test_pycaret/lib/python3.8/site-packages/xgboost/data.py:262: FutureWarning: pandas.Int64Index is deprecated and will be removed from pandas in a future version. Use pandas.Index with the appropriate dtype instead.\n",
      "  elif isinstance(data.columns, (pd.Int64Index, pd.RangeIndex)):\n",
      "/home/rcarvajal/.miniforge3/envs/test_pycaret/lib/python3.8/site-packages/xgboost/data.py:262: FutureWarning: pandas.Int64Index is deprecated and will be removed from pandas in a future version. Use pandas.Index with the appropriate dtype instead.\n",
      "  elif isinstance(data.columns, (pd.Int64Index, pd.RangeIndex)):\n",
      "/home/rcarvajal/.miniforge3/envs/test_pycaret/lib/python3.8/site-packages/xgboost/data.py:262: FutureWarning: pandas.Int64Index is deprecated and will be removed from pandas in a future version. Use pandas.Index with the appropriate dtype instead.\n",
      "  elif isinstance(data.columns, (pd.Int64Index, pd.RangeIndex)):\n",
      "/home/rcarvajal/.miniforge3/envs/test_pycaret/lib/python3.8/site-packages/xgboost/data.py:262: FutureWarning: pandas.Int64Index is deprecated and will be removed from pandas in a future version. Use pandas.Index with the appropriate dtype instead.\n",
      "  elif isinstance(data.columns, (pd.Int64Index, pd.RangeIndex)):\n",
      "/home/rcarvajal/.miniforge3/envs/test_pycaret/lib/python3.8/site-packages/xgboost/data.py:262: FutureWarning: pandas.Int64Index is deprecated and will be removed from pandas in a future version. Use pandas.Index with the appropriate dtype instead.\n",
      "  elif isinstance(data.columns, (pd.Int64Index, pd.RangeIndex)):\n",
      "/home/rcarvajal/.miniforge3/envs/test_pycaret/lib/python3.8/site-packages/xgboost/data.py:262: FutureWarning: pandas.Int64Index is deprecated and will be removed from pandas in a future version. Use pandas.Index with the appropriate dtype instead.\n",
      "  elif isinstance(data.columns, (pd.Int64Index, pd.RangeIndex)):\n",
      "/home/rcarvajal/.miniforge3/envs/test_pycaret/lib/python3.8/site-packages/xgboost/data.py:262: FutureWarning: pandas.Int64Index is deprecated and will be removed from pandas in a future version. Use pandas.Index with the appropriate dtype instead.\n",
      "  elif isinstance(data.columns, (pd.Int64Index, pd.RangeIndex)):\n",
      "/home/rcarvajal/.miniforge3/envs/test_pycaret/lib/python3.8/site-packages/xgboost/data.py:262: FutureWarning: pandas.Int64Index is deprecated and will be removed from pandas in a future version. Use pandas.Index with the appropriate dtype instead.\n",
      "  elif isinstance(data.columns, (pd.Int64Index, pd.RangeIndex)):\n",
      "/home/rcarvajal/.miniforge3/envs/test_pycaret/lib/python3.8/site-packages/xgboost/data.py:262: FutureWarning: pandas.Int64Index is deprecated and will be removed from pandas in a future version. Use pandas.Index with the appropriate dtype instead.\n",
      "  elif isinstance(data.columns, (pd.Int64Index, pd.RangeIndex)):\n",
      "/home/rcarvajal/.miniforge3/envs/test_pycaret/lib/python3.8/site-packages/xgboost/data.py:262: FutureWarning: pandas.Int64Index is deprecated and will be removed from pandas in a future version. Use pandas.Index with the appropriate dtype instead.\n",
      "  elif isinstance(data.columns, (pd.Int64Index, pd.RangeIndex)):\n",
      "/home/rcarvajal/.miniforge3/envs/test_pycaret/lib/python3.8/site-packages/xgboost/data.py:262: FutureWarning: pandas.Int64Index is deprecated and will be removed from pandas in a future version. Use pandas.Index with the appropriate dtype instead.\n",
      "  elif isinstance(data.columns, (pd.Int64Index, pd.RangeIndex)):\n",
      "/home/rcarvajal/.miniforge3/envs/test_pycaret/lib/python3.8/site-packages/xgboost/data.py:262: FutureWarning: pandas.Int64Index is deprecated and will be removed from pandas in a future version. Use pandas.Index with the appropriate dtype instead.\n",
      "  elif isinstance(data.columns, (pd.Int64Index, pd.RangeIndex)):\n",
      "/home/rcarvajal/.miniforge3/envs/test_pycaret/lib/python3.8/site-packages/xgboost/data.py:262: FutureWarning: pandas.Int64Index is deprecated and will be removed from pandas in a future version. Use pandas.Index with the appropriate dtype instead.\n",
      "  elif isinstance(data.columns, (pd.Int64Index, pd.RangeIndex)):\n",
      "/home/rcarvajal/.miniforge3/envs/test_pycaret/lib/python3.8/site-packages/xgboost/data.py:262: FutureWarning: pandas.Int64Index is deprecated and will be removed from pandas in a future version. Use pandas.Index with the appropriate dtype instead.\n",
      "  elif isinstance(data.columns, (pd.Int64Index, pd.RangeIndex)):\n",
      "/home/rcarvajal/.miniforge3/envs/test_pycaret/lib/python3.8/site-packages/xgboost/data.py:262: FutureWarning: pandas.Int64Index is deprecated and will be removed from pandas in a future version. Use pandas.Index with the appropriate dtype instead.\n",
      "  elif isinstance(data.columns, (pd.Int64Index, pd.RangeIndex)):\n",
      "/home/rcarvajal/.miniforge3/envs/test_pycaret/lib/python3.8/site-packages/xgboost/data.py:262: FutureWarning: pandas.Int64Index is deprecated and will be removed from pandas in a future version. Use pandas.Index with the appropriate dtype instead.\n",
      "  elif isinstance(data.columns, (pd.Int64Index, pd.RangeIndex)):\n",
      "/home/rcarvajal/.miniforge3/envs/test_pycaret/lib/python3.8/site-packages/xgboost/data.py:262: FutureWarning: pandas.Int64Index is deprecated and will be removed from pandas in a future version. Use pandas.Index with the appropriate dtype instead.\n",
      "  elif isinstance(data.columns, (pd.Int64Index, pd.RangeIndex)):\n",
      "/home/rcarvajal/.miniforge3/envs/test_pycaret/lib/python3.8/site-packages/xgboost/data.py:262: FutureWarning: pandas.Int64Index is deprecated and will be removed from pandas in a future version. Use pandas.Index with the appropriate dtype instead.\n",
      "  elif isinstance(data.columns, (pd.Int64Index, pd.RangeIndex)):\n",
      "/home/rcarvajal/.miniforge3/envs/test_pycaret/lib/python3.8/site-packages/xgboost/data.py:262: FutureWarning: pandas.Int64Index is deprecated and will be removed from pandas in a future version. Use pandas.Index with the appropriate dtype instead.\n",
      "  elif isinstance(data.columns, (pd.Int64Index, pd.RangeIndex)):\n",
      "/home/rcarvajal/.miniforge3/envs/test_pycaret/lib/python3.8/site-packages/xgboost/data.py:262: FutureWarning: pandas.Int64Index is deprecated and will be removed from pandas in a future version. Use pandas.Index with the appropriate dtype instead.\n",
      "  elif isinstance(data.columns, (pd.Int64Index, pd.RangeIndex)):\n",
      "/home/rcarvajal/.miniforge3/envs/test_pycaret/lib/python3.8/site-packages/xgboost/data.py:262: FutureWarning: pandas.Int64Index is deprecated and will be removed from pandas in a future version. Use pandas.Index with the appropriate dtype instead.\n",
      "  elif isinstance(data.columns, (pd.Int64Index, pd.RangeIndex)):\n",
      "/home/rcarvajal/.miniforge3/envs/test_pycaret/lib/python3.8/site-packages/xgboost/data.py:262: FutureWarning: pandas.Int64Index is deprecated and will be removed from pandas in a future version. Use pandas.Index with the appropriate dtype instead.\n",
      "  elif isinstance(data.columns, (pd.Int64Index, pd.RangeIndex)):\n",
      "/home/rcarvajal/.miniforge3/envs/test_pycaret/lib/python3.8/site-packages/xgboost/data.py:262: FutureWarning: pandas.Int64Index is deprecated and will be removed from pandas in a future version. Use pandas.Index with the appropriate dtype instead.\n",
      "  elif isinstance(data.columns, (pd.Int64Index, pd.RangeIndex)):\n",
      "/home/rcarvajal/.miniforge3/envs/test_pycaret/lib/python3.8/site-packages/xgboost/data.py:262: FutureWarning: pandas.Int64Index is deprecated and will be removed from pandas in a future version. Use pandas.Index with the appropriate dtype instead.\n",
      "  elif isinstance(data.columns, (pd.Int64Index, pd.RangeIndex)):\n",
      "/home/rcarvajal/.miniforge3/envs/test_pycaret/lib/python3.8/site-packages/xgboost/data.py:262: FutureWarning: pandas.Int64Index is deprecated and will be removed from pandas in a future version. Use pandas.Index with the appropriate dtype instead.\n",
      "  elif isinstance(data.columns, (pd.Int64Index, pd.RangeIndex)):\n",
      "/home/rcarvajal/.miniforge3/envs/test_pycaret/lib/python3.8/site-packages/xgboost/data.py:262: FutureWarning: pandas.Int64Index is deprecated and will be removed from pandas in a future version. Use pandas.Index with the appropriate dtype instead.\n",
      "  elif isinstance(data.columns, (pd.Int64Index, pd.RangeIndex)):\n",
      "/home/rcarvajal/.miniforge3/envs/test_pycaret/lib/python3.8/site-packages/xgboost/data.py:262: FutureWarning: pandas.Int64Index is deprecated and will be removed from pandas in a future version. Use pandas.Index with the appropriate dtype instead.\n",
      "  elif isinstance(data.columns, (pd.Int64Index, pd.RangeIndex)):\n",
      "/home/rcarvajal/.miniforge3/envs/test_pycaret/lib/python3.8/site-packages/xgboost/data.py:262: FutureWarning: pandas.Int64Index is deprecated and will be removed from pandas in a future version. Use pandas.Index with the appropriate dtype instead.\n",
      "  elif isinstance(data.columns, (pd.Int64Index, pd.RangeIndex)):\n",
      "/home/rcarvajal/.miniforge3/envs/test_pycaret/lib/python3.8/site-packages/xgboost/data.py:262: FutureWarning: pandas.Int64Index is deprecated and will be removed from pandas in a future version. Use pandas.Index with the appropriate dtype instead.\n",
      "  elif isinstance(data.columns, (pd.Int64Index, pd.RangeIndex)):\n",
      "/home/rcarvajal/.miniforge3/envs/test_pycaret/lib/python3.8/site-packages/xgboost/data.py:262: FutureWarning: pandas.Int64Index is deprecated and will be removed from pandas in a future version. Use pandas.Index with the appropriate dtype instead.\n",
      "  elif isinstance(data.columns, (pd.Int64Index, pd.RangeIndex)):\n",
      "/home/rcarvajal/.miniforge3/envs/test_pycaret/lib/python3.8/site-packages/xgboost/data.py:262: FutureWarning: pandas.Int64Index is deprecated and will be removed from pandas in a future version. Use pandas.Index with the appropriate dtype instead.\n",
      "  elif isinstance(data.columns, (pd.Int64Index, pd.RangeIndex)):\n",
      "/home/rcarvajal/.miniforge3/envs/test_pycaret/lib/python3.8/site-packages/xgboost/data.py:262: FutureWarning: pandas.Int64Index is deprecated and will be removed from pandas in a future version. Use pandas.Index with the appropriate dtype instead.\n",
      "  elif isinstance(data.columns, (pd.Int64Index, pd.RangeIndex)):\n",
      "/home/rcarvajal/.miniforge3/envs/test_pycaret/lib/python3.8/site-packages/xgboost/data.py:262: FutureWarning: pandas.Int64Index is deprecated and will be removed from pandas in a future version. Use pandas.Index with the appropriate dtype instead.\n",
      "  elif isinstance(data.columns, (pd.Int64Index, pd.RangeIndex)):\n",
      "/home/rcarvajal/.miniforge3/envs/test_pycaret/lib/python3.8/site-packages/xgboost/data.py:262: FutureWarning: pandas.Int64Index is deprecated and will be removed from pandas in a future version. Use pandas.Index with the appropriate dtype instead.\n",
      "  elif isinstance(data.columns, (pd.Int64Index, pd.RangeIndex)):\n",
      "/home/rcarvajal/.miniforge3/envs/test_pycaret/lib/python3.8/site-packages/xgboost/data.py:262: FutureWarning: pandas.Int64Index is deprecated and will be removed from pandas in a future version. Use pandas.Index with the appropriate dtype instead.\n",
      "  elif isinstance(data.columns, (pd.Int64Index, pd.RangeIndex)):\n",
      "/home/rcarvajal/.miniforge3/envs/test_pycaret/lib/python3.8/site-packages/xgboost/data.py:262: FutureWarning: pandas.Int64Index is deprecated and will be removed from pandas in a future version. Use pandas.Index with the appropriate dtype instead.\n",
      "  elif isinstance(data.columns, (pd.Int64Index, pd.RangeIndex)):\n",
      "/home/rcarvajal/.miniforge3/envs/test_pycaret/lib/python3.8/site-packages/xgboost/data.py:262: FutureWarning: pandas.Int64Index is deprecated and will be removed from pandas in a future version. Use pandas.Index with the appropriate dtype instead.\n",
      "  elif isinstance(data.columns, (pd.Int64Index, pd.RangeIndex)):\n",
      "/home/rcarvajal/.miniforge3/envs/test_pycaret/lib/python3.8/site-packages/xgboost/data.py:262: FutureWarning: pandas.Int64Index is deprecated and will be removed from pandas in a future version. Use pandas.Index with the appropriate dtype instead.\n",
      "  elif isinstance(data.columns, (pd.Int64Index, pd.RangeIndex)):\n",
      "/home/rcarvajal/.miniforge3/envs/test_pycaret/lib/python3.8/site-packages/xgboost/data.py:262: FutureWarning: pandas.Int64Index is deprecated and will be removed from pandas in a future version. Use pandas.Index with the appropriate dtype instead.\n",
      "  elif isinstance(data.columns, (pd.Int64Index, pd.RangeIndex)):\n",
      "/home/rcarvajal/.miniforge3/envs/test_pycaret/lib/python3.8/site-packages/xgboost/data.py:262: FutureWarning: pandas.Int64Index is deprecated and will be removed from pandas in a future version. Use pandas.Index with the appropriate dtype instead.\n",
      "  elif isinstance(data.columns, (pd.Int64Index, pd.RangeIndex)):\n",
      "/home/rcarvajal/.miniforge3/envs/test_pycaret/lib/python3.8/site-packages/xgboost/data.py:262: FutureWarning: pandas.Int64Index is deprecated and will be removed from pandas in a future version. Use pandas.Index with the appropriate dtype instead.\n",
      "  elif isinstance(data.columns, (pd.Int64Index, pd.RangeIndex)):\n",
      "/home/rcarvajal/.miniforge3/envs/test_pycaret/lib/python3.8/site-packages/xgboost/data.py:262: FutureWarning: pandas.Int64Index is deprecated and will be removed from pandas in a future version. Use pandas.Index with the appropriate dtype instead.\n",
      "  elif isinstance(data.columns, (pd.Int64Index, pd.RangeIndex)):\n",
      "/home/rcarvajal/.miniforge3/envs/test_pycaret/lib/python3.8/site-packages/xgboost/data.py:262: FutureWarning: pandas.Int64Index is deprecated and will be removed from pandas in a future version. Use pandas.Index with the appropriate dtype instead.\n",
      "  elif isinstance(data.columns, (pd.Int64Index, pd.RangeIndex)):\n",
      "/home/rcarvajal/.miniforge3/envs/test_pycaret/lib/python3.8/site-packages/xgboost/data.py:262: FutureWarning: pandas.Int64Index is deprecated and will be removed from pandas in a future version. Use pandas.Index with the appropriate dtype instead.\n",
      "  elif isinstance(data.columns, (pd.Int64Index, pd.RangeIndex)):\n",
      "/home/rcarvajal/.miniforge3/envs/test_pycaret/lib/python3.8/site-packages/xgboost/data.py:262: FutureWarning: pandas.Int64Index is deprecated and will be removed from pandas in a future version. Use pandas.Index with the appropriate dtype instead.\n",
      "  elif isinstance(data.columns, (pd.Int64Index, pd.RangeIndex)):\n",
      "/home/rcarvajal/.miniforge3/envs/test_pycaret/lib/python3.8/site-packages/xgboost/data.py:262: FutureWarning: pandas.Int64Index is deprecated and will be removed from pandas in a future version. Use pandas.Index with the appropriate dtype instead.\n",
      "  elif isinstance(data.columns, (pd.Int64Index, pd.RangeIndex)):\n",
      "/home/rcarvajal/.miniforge3/envs/test_pycaret/lib/python3.8/site-packages/xgboost/data.py:262: FutureWarning: pandas.Int64Index is deprecated and will be removed from pandas in a future version. Use pandas.Index with the appropriate dtype instead.\n",
      "  elif isinstance(data.columns, (pd.Int64Index, pd.RangeIndex)):\n",
      "/home/rcarvajal/.miniforge3/envs/test_pycaret/lib/python3.8/site-packages/xgboost/data.py:262: FutureWarning: pandas.Int64Index is deprecated and will be removed from pandas in a future version. Use pandas.Index with the appropriate dtype instead.\n",
      "  elif isinstance(data.columns, (pd.Int64Index, pd.RangeIndex)):\n",
      "/home/rcarvajal/.miniforge3/envs/test_pycaret/lib/python3.8/site-packages/xgboost/data.py:262: FutureWarning: pandas.Int64Index is deprecated and will be removed from pandas in a future version. Use pandas.Index with the appropriate dtype instead.\n",
      "  elif isinstance(data.columns, (pd.Int64Index, pd.RangeIndex)):\n",
      "/home/rcarvajal/.miniforge3/envs/test_pycaret/lib/python3.8/site-packages/xgboost/data.py:262: FutureWarning: pandas.Int64Index is deprecated and will be removed from pandas in a future version. Use pandas.Index with the appropriate dtype instead.\n",
      "  elif isinstance(data.columns, (pd.Int64Index, pd.RangeIndex)):\n",
      "Custom logger is already specified. Specify more than one logger at same time is not thread safe.Custom logger is already specified. Specify more than one logger at same time is not thread safe.Custom logger is already specified. Specify more than one logger at same time is not thread safe.Custom logger is already specified. Specify more than one logger at same time is not thread safe./home/rcarvajal/.miniforge3/envs/test_pycaret/lib/python3.8/site-packages/xgboost/data.py:262: FutureWarning: pandas.Int64Index is deprecated and will be removed from pandas in a future version. Use pandas.Index with the appropriate dtype instead.\n",
      "  elif isinstance(data.columns, (pd.Int64Index, pd.RangeIndex)):\n",
      "/home/rcarvajal/.miniforge3/envs/test_pycaret/lib/python3.8/site-packages/xgboost/data.py:262: FutureWarning: pandas.Int64Index is deprecated and will be removed from pandas in a future version. Use pandas.Index with the appropriate dtype instead.\n",
      "  elif isinstance(data.columns, (pd.Int64Index, pd.RangeIndex)):\n",
      "/home/rcarvajal/.miniforge3/envs/test_pycaret/lib/python3.8/site-packages/xgboost/data.py:262: FutureWarning: pandas.Int64Index is deprecated and will be removed from pandas in a future version. Use pandas.Index with the appropriate dtype instead.\n",
      "  elif isinstance(data.columns, (pd.Int64Index, pd.RangeIndex)):\n",
      "/home/rcarvajal/.miniforge3/envs/test_pycaret/lib/python3.8/site-packages/xgboost/data.py:262: FutureWarning: pandas.Int64Index is deprecated and will be removed from pandas in a future version. Use pandas.Index with the appropriate dtype instead.\n",
      "  elif isinstance(data.columns, (pd.Int64Index, pd.RangeIndex)):\n",
      "/home/rcarvajal/.miniforge3/envs/test_pycaret/lib/python3.8/site-packages/xgboost/data.py:262: FutureWarning: pandas.Int64Index is deprecated and will be removed from pandas in a future version. Use pandas.Index with the appropriate dtype instead.\n",
      "  elif isinstance(data.columns, (pd.Int64Index, pd.RangeIndex)):\n",
      "/home/rcarvajal/.miniforge3/envs/test_pycaret/lib/python3.8/site-packages/xgboost/data.py:262: FutureWarning: pandas.Int64Index is deprecated and will be removed from pandas in a future version. Use pandas.Index with the appropriate dtype instead.\n",
      "  elif isinstance(data.columns, (pd.Int64Index, pd.RangeIndex)):\n",
      "/home/rcarvajal/.miniforge3/envs/test_pycaret/lib/python3.8/site-packages/xgboost/data.py:262: FutureWarning: pandas.Int64Index is deprecated and will be removed from pandas in a future version. Use pandas.Index with the appropriate dtype instead.\n",
      "  elif isinstance(data.columns, (pd.Int64Index, pd.RangeIndex)):\n",
      "/home/rcarvajal/.miniforge3/envs/test_pycaret/lib/python3.8/site-packages/xgboost/data.py:262: FutureWarning: pandas.Int64Index is deprecated and will be removed from pandas in a future version. Use pandas.Index with the appropriate dtype instead.\n",
      "  elif isinstance(data.columns, (pd.Int64Index, pd.RangeIndex)):\n",
      "/home/rcarvajal/.miniforge3/envs/test_pycaret/lib/python3.8/site-packages/xgboost/data.py:262: FutureWarning: pandas.Int64Index is deprecated and will be removed from pandas in a future version. Use pandas.Index with the appropriate dtype instead.\n",
      "  elif isinstance(data.columns, (pd.Int64Index, pd.RangeIndex)):\n",
      "/home/rcarvajal/.miniforge3/envs/test_pycaret/lib/python3.8/site-packages/xgboost/data.py:262: FutureWarning: pandas.Int64Index is deprecated and will be removed from pandas in a future version. Use pandas.Index with the appropriate dtype instead.\n",
      "  elif isinstance(data.columns, (pd.Int64Index, pd.RangeIndex)):\n",
      "/home/rcarvajal/.miniforge3/envs/test_pycaret/lib/python3.8/site-packages/xgboost/data.py:262: FutureWarning: pandas.Int64Index is deprecated and will be removed from pandas in a future version. Use pandas.Index with the appropriate dtype instead.\n",
      "  elif isinstance(data.columns, (pd.Int64Index, pd.RangeIndex)):\n",
      "/home/rcarvajal/.miniforge3/envs/test_pycaret/lib/python3.8/site-packages/xgboost/data.py:262: FutureWarning: pandas.Int64Index is deprecated and will be removed from pandas in a future version. Use pandas.Index with the appropriate dtype instead.\n",
      "  elif isinstance(data.columns, (pd.Int64Index, pd.RangeIndex)):\n",
      "/home/rcarvajal/.miniforge3/envs/test_pycaret/lib/python3.8/site-packages/xgboost/data.py:262: FutureWarning: pandas.Int64Index is deprecated and will be removed from pandas in a future version. Use pandas.Index with the appropriate dtype instead.\n",
      "  elif isinstance(data.columns, (pd.Int64Index, pd.RangeIndex)):\n",
      "/home/rcarvajal/.miniforge3/envs/test_pycaret/lib/python3.8/site-packages/xgboost/data.py:262: FutureWarning: pandas.Int64Index is deprecated and will be removed from pandas in a future version. Use pandas.Index with the appropriate dtype instead.\n",
      "  elif isinstance(data.columns, (pd.Int64Index, pd.RangeIndex)):\n",
      "/home/rcarvajal/.miniforge3/envs/test_pycaret/lib/python3.8/site-packages/xgboost/data.py:262: FutureWarning: pandas.Int64Index is deprecated and will be removed from pandas in a future version. Use pandas.Index with the appropriate dtype instead.\n",
      "  elif isinstance(data.columns, (pd.Int64Index, pd.RangeIndex)):\n",
      "/home/rcarvajal/.miniforge3/envs/test_pycaret/lib/python3.8/site-packages/xgboost/data.py:262: FutureWarning: pandas.Int64Index is deprecated and will be removed from pandas in a future version. Use pandas.Index with the appropriate dtype instead.\n",
      "  elif isinstance(data.columns, (pd.Int64Index, pd.RangeIndex)):\n",
      "/home/rcarvajal/.miniforge3/envs/test_pycaret/lib/python3.8/site-packages/xgboost/data.py:262: FutureWarning: pandas.Int64Index is deprecated and will be removed from pandas in a future version. Use pandas.Index with the appropriate dtype instead.\n",
      "  elif isinstance(data.columns, (pd.Int64Index, pd.RangeIndex)):\n",
      "/home/rcarvajal/.miniforge3/envs/test_pycaret/lib/python3.8/site-packages/xgboost/data.py:262: FutureWarning: pandas.Int64Index is deprecated and will be removed from pandas in a future version. Use pandas.Index with the appropriate dtype instead.\n",
      "  elif isinstance(data.columns, (pd.Int64Index, pd.RangeIndex)):\n",
      "/home/rcarvajal/.miniforge3/envs/test_pycaret/lib/python3.8/site-packages/xgboost/data.py:262: FutureWarning: pandas.Int64Index is deprecated and will be removed from pandas in a future version. Use pandas.Index with the appropriate dtype instead.\n",
      "  elif isinstance(data.columns, (pd.Int64Index, pd.RangeIndex)):\n",
      "/home/rcarvajal/.miniforge3/envs/test_pycaret/lib/python3.8/site-packages/xgboost/data.py:262: FutureWarning: pandas.Int64Index is deprecated and will be removed from pandas in a future version. Use pandas.Index with the appropriate dtype instead.\n",
      "  elif isinstance(data.columns, (pd.Int64Index, pd.RangeIndex)):\n",
      "/home/rcarvajal/.miniforge3/envs/test_pycaret/lib/python3.8/site-packages/xgboost/data.py:262: FutureWarning: pandas.Int64Index is deprecated and will be removed from pandas in a future version. Use pandas.Index with the appropriate dtype instead.\n",
      "  elif isinstance(data.columns, (pd.Int64Index, pd.RangeIndex)):\n",
      "/home/rcarvajal/.miniforge3/envs/test_pycaret/lib/python3.8/site-packages/xgboost/data.py:262: FutureWarning: pandas.Int64Index is deprecated and will be removed from pandas in a future version. Use pandas.Index with the appropriate dtype instead.\n",
      "  elif isinstance(data.columns, (pd.Int64Index, pd.RangeIndex)):\n",
      "/home/rcarvajal/.miniforge3/envs/test_pycaret/lib/python3.8/site-packages/xgboost/data.py:262: FutureWarning: pandas.Int64Index is deprecated and will be removed from pandas in a future version. Use pandas.Index with the appropriate dtype instead.\n",
      "  elif isinstance(data.columns, (pd.Int64Index, pd.RangeIndex)):\n",
      "/home/rcarvajal/.miniforge3/envs/test_pycaret/lib/python3.8/site-packages/xgboost/data.py:262: FutureWarning: pandas.Int64Index is deprecated and will be removed from pandas in a future version. Use pandas.Index with the appropriate dtype instead.\n",
      "  elif isinstance(data.columns, (pd.Int64Index, pd.RangeIndex)):\n",
      "/home/rcarvajal/.miniforge3/envs/test_pycaret/lib/python3.8/site-packages/xgboost/data.py:262: FutureWarning: pandas.Int64Index is deprecated and will be removed from pandas in a future version. Use pandas.Index with the appropriate dtype instead.\n",
      "  elif isinstance(data.columns, (pd.Int64Index, pd.RangeIndex)):\n",
      "/home/rcarvajal/.miniforge3/envs/test_pycaret/lib/python3.8/site-packages/xgboost/data.py:262: FutureWarning: pandas.Int64Index is deprecated and will be removed from pandas in a future version. Use pandas.Index with the appropriate dtype instead.\n",
      "  elif isinstance(data.columns, (pd.Int64Index, pd.RangeIndex)):\n",
      "/home/rcarvajal/.miniforge3/envs/test_pycaret/lib/python3.8/site-packages/xgboost/data.py:262: FutureWarning: pandas.Int64Index is deprecated and will be removed from pandas in a future version. Use pandas.Index with the appropriate dtype instead.\n",
      "  elif isinstance(data.columns, (pd.Int64Index, pd.RangeIndex)):\n",
      "/home/rcarvajal/.miniforge3/envs/test_pycaret/lib/python3.8/site-packages/xgboost/data.py:262: FutureWarning: pandas.Int64Index is deprecated and will be removed from pandas in a future version. Use pandas.Index with the appropriate dtype instead.\n",
      "  elif isinstance(data.columns, (pd.Int64Index, pd.RangeIndex)):\n",
      "/home/rcarvajal/.miniforge3/envs/test_pycaret/lib/python3.8/site-packages/xgboost/data.py:262: FutureWarning: pandas.Int64Index is deprecated and will be removed from pandas in a future version. Use pandas.Index with the appropriate dtype instead.\n",
      "  elif isinstance(data.columns, (pd.Int64Index, pd.RangeIndex)):\n",
      "/home/rcarvajal/.miniforge3/envs/test_pycaret/lib/python3.8/site-packages/xgboost/data.py:262: FutureWarning: pandas.Int64Index is deprecated and will be removed from pandas in a future version. Use pandas.Index with the appropriate dtype instead.\n",
      "  elif isinstance(data.columns, (pd.Int64Index, pd.RangeIndex)):\n",
      "/home/rcarvajal/.miniforge3/envs/test_pycaret/lib/python3.8/site-packages/xgboost/data.py:262: FutureWarning: pandas.Int64Index is deprecated and will be removed from pandas in a future version. Use pandas.Index with the appropriate dtype instead.\n",
      "  elif isinstance(data.columns, (pd.Int64Index, pd.RangeIndex)):\n",
      "/home/rcarvajal/.miniforge3/envs/test_pycaret/lib/python3.8/site-packages/xgboost/data.py:262: FutureWarning: pandas.Int64Index is deprecated and will be removed from pandas in a future version. Use pandas.Index with the appropriate dtype instead.\n",
      "  elif isinstance(data.columns, (pd.Int64Index, pd.RangeIndex)):\n",
      "/home/rcarvajal/.miniforge3/envs/test_pycaret/lib/python3.8/site-packages/xgboost/data.py:262: FutureWarning: pandas.Int64Index is deprecated and will be removed from pandas in a future version. Use pandas.Index with the appropriate dtype instead.\n",
      "  elif isinstance(data.columns, (pd.Int64Index, pd.RangeIndex)):\n",
      "/home/rcarvajal/.miniforge3/envs/test_pycaret/lib/python3.8/site-packages/xgboost/data.py:262: FutureWarning: pandas.Int64Index is deprecated and will be removed from pandas in a future version. Use pandas.Index with the appropriate dtype instead.\n",
      "  elif isinstance(data.columns, (pd.Int64Index, pd.RangeIndex)):\n",
      "/home/rcarvajal/.miniforge3/envs/test_pycaret/lib/python3.8/site-packages/xgboost/data.py:262: FutureWarning: pandas.Int64Index is deprecated and will be removed from pandas in a future version. Use pandas.Index with the appropriate dtype instead.\n",
      "  elif isinstance(data.columns, (pd.Int64Index, pd.RangeIndex)):\n",
      "/home/rcarvajal/.miniforge3/envs/test_pycaret/lib/python3.8/site-packages/xgboost/data.py:262: FutureWarning: pandas.Int64Index is deprecated and will be removed from pandas in a future version. Use pandas.Index with the appropriate dtype instead.\n",
      "  elif isinstance(data.columns, (pd.Int64Index, pd.RangeIndex)):\n",
      "/home/rcarvajal/.miniforge3/envs/test_pycaret/lib/python3.8/site-packages/xgboost/data.py:262: FutureWarning: pandas.Int64Index is deprecated and will be removed from pandas in a future version. Use pandas.Index with the appropriate dtype instead.\n",
      "  elif isinstance(data.columns, (pd.Int64Index, pd.RangeIndex)):\n",
      "/home/rcarvajal/.miniforge3/envs/test_pycaret/lib/python3.8/site-packages/xgboost/data.py:262: FutureWarning: pandas.Int64Index is deprecated and will be removed from pandas in a future version. Use pandas.Index with the appropriate dtype instead.\n",
      "  elif isinstance(data.columns, (pd.Int64Index, pd.RangeIndex)):\n",
      "/home/rcarvajal/.miniforge3/envs/test_pycaret/lib/python3.8/site-packages/xgboost/data.py:262: FutureWarning: pandas.Int64Index is deprecated and will be removed from pandas in a future version. Use pandas.Index with the appropriate dtype instead.\n",
      "  elif isinstance(data.columns, (pd.Int64Index, pd.RangeIndex)):\n",
      "/home/rcarvajal/.miniforge3/envs/test_pycaret/lib/python3.8/site-packages/xgboost/data.py:262: FutureWarning: pandas.Int64Index is deprecated and will be removed from pandas in a future version. Use pandas.Index with the appropriate dtype instead.\n",
      "  elif isinstance(data.columns, (pd.Int64Index, pd.RangeIndex)):\n",
      "/home/rcarvajal/.miniforge3/envs/test_pycaret/lib/python3.8/site-packages/xgboost/data.py:262: FutureWarning: pandas.Int64Index is deprecated and will be removed from pandas in a future version. Use pandas.Index with the appropriate dtype instead.\n",
      "  elif isinstance(data.columns, (pd.Int64Index, pd.RangeIndex)):\n",
      "/home/rcarvajal/.miniforge3/envs/test_pycaret/lib/python3.8/site-packages/xgboost/data.py:262: FutureWarning: pandas.Int64Index is deprecated and will be removed from pandas in a future version. Use pandas.Index with the appropriate dtype instead.\n",
      "  elif isinstance(data.columns, (pd.Int64Index, pd.RangeIndex)):\n",
      "/home/rcarvajal/.miniforge3/envs/test_pycaret/lib/python3.8/site-packages/xgboost/data.py:262: FutureWarning: pandas.Int64Index is deprecated and will be removed from pandas in a future version. Use pandas.Index with the appropriate dtype instead.\n",
      "  elif isinstance(data.columns, (pd.Int64Index, pd.RangeIndex)):\n",
      "/home/rcarvajal/.miniforge3/envs/test_pycaret/lib/python3.8/site-packages/xgboost/data.py:262: FutureWarning: pandas.Int64Index is deprecated and will be removed from pandas in a future version. Use pandas.Index with the appropriate dtype instead.\n",
      "  elif isinstance(data.columns, (pd.Int64Index, pd.RangeIndex)):\n",
      "/home/rcarvajal/.miniforge3/envs/test_pycaret/lib/python3.8/site-packages/xgboost/data.py:262: FutureWarning: pandas.Int64Index is deprecated and will be removed from pandas in a future version. Use pandas.Index with the appropriate dtype instead.\n",
      "  elif isinstance(data.columns, (pd.Int64Index, pd.RangeIndex)):\n",
      "/home/rcarvajal/.miniforge3/envs/test_pycaret/lib/python3.8/site-packages/xgboost/data.py:262: FutureWarning: pandas.Int64Index is deprecated and will be removed from pandas in a future version. Use pandas.Index with the appropriate dtype instead.\n",
      "  elif isinstance(data.columns, (pd.Int64Index, pd.RangeIndex)):\n",
      "/home/rcarvajal/.miniforge3/envs/test_pycaret/lib/python3.8/site-packages/xgboost/data.py:262: FutureWarning: pandas.Int64Index is deprecated and will be removed from pandas in a future version. Use pandas.Index with the appropriate dtype instead.\n",
      "  elif isinstance(data.columns, (pd.Int64Index, pd.RangeIndex)):\n",
      "/home/rcarvajal/.miniforge3/envs/test_pycaret/lib/python3.8/site-packages/xgboost/data.py:262: FutureWarning: pandas.Int64Index is deprecated and will be removed from pandas in a future version. Use pandas.Index with the appropriate dtype instead.\n",
      "  elif isinstance(data.columns, (pd.Int64Index, pd.RangeIndex)):\n",
      "/home/rcarvajal/.miniforge3/envs/test_pycaret/lib/python3.8/site-packages/xgboost/data.py:262: FutureWarning: pandas.Int64Index is deprecated and will be removed from pandas in a future version. Use pandas.Index with the appropriate dtype instead.\n",
      "  elif isinstance(data.columns, (pd.Int64Index, pd.RangeIndex)):\n",
      "/home/rcarvajal/.miniforge3/envs/test_pycaret/lib/python3.8/site-packages/xgboost/data.py:262: FutureWarning: pandas.Int64Index is deprecated and will be removed from pandas in a future version. Use pandas.Index with the appropriate dtype instead.\n",
      "  elif isinstance(data.columns, (pd.Int64Index, pd.RangeIndex)):\n",
      "/home/rcarvajal/.miniforge3/envs/test_pycaret/lib/python3.8/site-packages/xgboost/data.py:262: FutureWarning: pandas.Int64Index is deprecated and will be removed from pandas in a future version. Use pandas.Index with the appropriate dtype instead.\n",
      "  elif isinstance(data.columns, (pd.Int64Index, pd.RangeIndex)):\n",
      "/home/rcarvajal/.miniforge3/envs/test_pycaret/lib/python3.8/site-packages/xgboost/data.py:262: FutureWarning: pandas.Int64Index is deprecated and will be removed from pandas in a future version. Use pandas.Index with the appropriate dtype instead.\n",
      "  elif isinstance(data.columns, (pd.Int64Index, pd.RangeIndex)):\n",
      "/home/rcarvajal/.miniforge3/envs/test_pycaret/lib/python3.8/site-packages/xgboost/data.py:262: FutureWarning: pandas.Int64Index is deprecated and will be removed from pandas in a future version. Use pandas.Index with the appropriate dtype instead.\n",
      "  elif isinstance(data.columns, (pd.Int64Index, pd.RangeIndex)):\n",
      "/home/rcarvajal/.miniforge3/envs/test_pycaret/lib/python3.8/site-packages/xgboost/data.py:262: FutureWarning: pandas.Int64Index is deprecated and will be removed from pandas in a future version. Use pandas.Index with the appropriate dtype instead.\n",
      "  elif isinstance(data.columns, (pd.Int64Index, pd.RangeIndex)):\n",
      "/home/rcarvajal/.miniforge3/envs/test_pycaret/lib/python3.8/site-packages/xgboost/data.py:262: FutureWarning: pandas.Int64Index is deprecated and will be removed from pandas in a future version. Use pandas.Index with the appropriate dtype instead.\n",
      "  elif isinstance(data.columns, (pd.Int64Index, pd.RangeIndex)):\n",
      "/home/rcarvajal/.miniforge3/envs/test_pycaret/lib/python3.8/site-packages/xgboost/data.py:262: FutureWarning: pandas.Int64Index is deprecated and will be removed from pandas in a future version. Use pandas.Index with the appropriate dtype instead.\n",
      "  elif isinstance(data.columns, (pd.Int64Index, pd.RangeIndex)):\n",
      "/home/rcarvajal/.miniforge3/envs/test_pycaret/lib/python3.8/site-packages/xgboost/data.py:262: FutureWarning: pandas.Int64Index is deprecated and will be removed from pandas in a future version. Use pandas.Index with the appropriate dtype instead.\n",
      "  elif isinstance(data.columns, (pd.Int64Index, pd.RangeIndex)):\n",
      "/home/rcarvajal/.miniforge3/envs/test_pycaret/lib/python3.8/site-packages/xgboost/data.py:262: FutureWarning: pandas.Int64Index is deprecated and will be removed from pandas in a future version. Use pandas.Index with the appropriate dtype instead.\n",
      "  elif isinstance(data.columns, (pd.Int64Index, pd.RangeIndex)):\n",
      "/home/rcarvajal/.miniforge3/envs/test_pycaret/lib/python3.8/site-packages/xgboost/data.py:262: FutureWarning: pandas.Int64Index is deprecated and will be removed from pandas in a future version. Use pandas.Index with the appropriate dtype instead.\n",
      "  elif isinstance(data.columns, (pd.Int64Index, pd.RangeIndex)):\n",
      "/home/rcarvajal/.miniforge3/envs/test_pycaret/lib/python3.8/site-packages/xgboost/data.py:262: FutureWarning: pandas.Int64Index is deprecated and will be removed from pandas in a future version. Use pandas.Index with the appropriate dtype instead.\n",
      "  elif isinstance(data.columns, (pd.Int64Index, pd.RangeIndex)):\n",
      "/home/rcarvajal/.miniforge3/envs/test_pycaret/lib/python3.8/site-packages/xgboost/data.py:262: FutureWarning: pandas.Int64Index is deprecated and will be removed from pandas in a future version. Use pandas.Index with the appropriate dtype instead.\n",
      "  elif isinstance(data.columns, (pd.Int64Index, pd.RangeIndex)):\n",
      "/home/rcarvajal/.miniforge3/envs/test_pycaret/lib/python3.8/site-packages/xgboost/data.py:262: FutureWarning: pandas.Int64Index is deprecated and will be removed from pandas in a future version. Use pandas.Index with the appropriate dtype instead.\n",
      "  elif isinstance(data.columns, (pd.Int64Index, pd.RangeIndex)):\n",
      "/home/rcarvajal/.miniforge3/envs/test_pycaret/lib/python3.8/site-packages/xgboost/data.py:262: FutureWarning: pandas.Int64Index is deprecated and will be removed from pandas in a future version. Use pandas.Index with the appropriate dtype instead.\n",
      "  elif isinstance(data.columns, (pd.Int64Index, pd.RangeIndex)):\n",
      "/home/rcarvajal/.miniforge3/envs/test_pycaret/lib/python3.8/site-packages/xgboost/data.py:262: FutureWarning: pandas.Int64Index is deprecated and will be removed from pandas in a future version. Use pandas.Index with the appropriate dtype instead.\n",
      "  elif isinstance(data.columns, (pd.Int64Index, pd.RangeIndex)):\n",
      "/home/rcarvajal/.miniforge3/envs/test_pycaret/lib/python3.8/site-packages/xgboost/data.py:262: FutureWarning: pandas.Int64Index is deprecated and will be removed from pandas in a future version. Use pandas.Index with the appropriate dtype instead.\n",
      "  elif isinstance(data.columns, (pd.Int64Index, pd.RangeIndex)):\n",
      "/home/rcarvajal/.miniforge3/envs/test_pycaret/lib/python3.8/site-packages/xgboost/data.py:262: FutureWarning: pandas.Int64Index is deprecated and will be removed from pandas in a future version. Use pandas.Index with the appropriate dtype instead.\n",
      "  elif isinstance(data.columns, (pd.Int64Index, pd.RangeIndex)):\n",
      "/home/rcarvajal/.miniforge3/envs/test_pycaret/lib/python3.8/site-packages/xgboost/data.py:262: FutureWarning: pandas.Int64Index is deprecated and will be removed from pandas in a future version. Use pandas.Index with the appropriate dtype instead.\n",
      "  elif isinstance(data.columns, (pd.Int64Index, pd.RangeIndex)):\n"
     ]
    }
   ],
   "source": [
    "fig             = plt.figure(figsize=(10,3.5))\n",
    "ax1             = fig.add_subplot(111, xscale='linear', yscale='log')\n",
    "\n",
    "min_for_range = np.nanmin([np.nanmin(validation_prediction_reg.loc[:, 'Z']),\\\n",
    "                           np.nanmin(validation_prediction_reg.loc[:, 'Label'])])\n",
    "max_for_range = np.nanmax([np.nanmax(validation_prediction_reg.loc[:, 'Z']),\\\n",
    "                           np.nanmax(validation_prediction_reg.loc[:, 'Label'])])\n",
    "bins_z        = np.linspace(min_for_range, max_for_range, 50)\n",
    "\n",
    "_, bins, _ = ax1.hist(validation_prediction_reg.loc[:, 'Label'], bins=bins_z, histtype='stepfilled',\\\n",
    "                      ec='k', fc='mediumpurple', lw=3.5,\\\n",
    "                      label=f\"Predicted\\nN={np.sum(np.array(validation_prediction_reg.loc[:, 'Label'] > 0))}\")\n",
    "ax1.hist(validation_prediction_reg.loc[:, 'Z'], bins=bins_z, histtype='stepfilled', ec='k', fc='darkcyan',\\\n",
    "         lw=3.5, label=f\"True\\nN={np.sum(np.array(validation_prediction_reg.loc[:, 'Z'] > 0))}\", alpha=0.7)\n",
    "\n",
    "ax1.tick_params(which='both', top=True, right=True, direction='in')\n",
    "ax1.tick_params(axis='both', which='major', labelsize=14)\n",
    "ax1.tick_params(which='major', length=8, width=1.5)\n",
    "ax1.tick_params(which='minor', length=4, width=1.5)\n",
    "# ax1.set_xlabel('$m_{\\mathrm{W1}}\\, \\mathrm{[AB]}$', size=20)\n",
    "ax1.set_xlabel('$z_{\\mathrm{AGN}}$', size=20)\n",
    "ax1.set_ylabel('Frequency', size=20)\n",
    "# ax1.set_ylabel('Frequency', size=20)\n",
    "plt.setp(ax1.spines.values(), linewidth=3.5)\n",
    "plt.setp(ax1.spines.values(), linewidth=3.5)\n",
    "plt.legend(loc=1, fontsize=20)\n",
    "# ax1.invert_xaxis()\n",
    "# ax1.set_xlim(left=-4, right=6)\n",
    "#ax1.set_aspect('equal', 'box')\n",
    "fig.tight_layout()\n",
    "if save_plot_flag:\n",
    "    plt.savefig('plots/hist_true_predicted_z_07.pdf')\n",
    "plt.show()"
   ]
  },
  {
   "cell_type": "code",
   "execution_count": null,
   "id": "8046a768",
   "metadata": {},
   "outputs": [],
   "source": []
  }
 ],
 "metadata": {
  "accelerator": "GPU",
  "colab": {
   "name": "HETDEX_pipeline_AGN_training.ipynb",
   "provenance": []
  },
  "kernelspec": {
   "display_name": "Python 3 (ipykernel)",
   "language": "python",
   "name": "python3"
  },
  "language_info": {
   "codemirror_mode": {
    "name": "ipython",
    "version": 3
   },
   "file_extension": ".py",
   "mimetype": "text/x-python",
   "name": "python",
   "nbconvert_exporter": "python",
   "pygments_lexer": "ipython3",
   "version": "3.8.13"
  }
 },
 "nbformat": 4,
 "nbformat_minor": 5
}
