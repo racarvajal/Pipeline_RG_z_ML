{
 "cells": [
  {
   "cell_type": "markdown",
   "id": "1c0aeacb",
   "metadata": {},
   "source": [
    "# Describe data used in model training (HETDEX)"
   ]
  },
  {
   "cell_type": "code",
   "execution_count": null,
   "id": "e6b66878",
   "metadata": {},
   "outputs": [],
   "source": [
    "%matplotlib inline\n",
    "# Static plots\n",
    "#%matplotlib ipympl\n",
    "# Interactive plots\n",
    "import numpy as np\n",
    "import matplotlib as mpl\n",
    "import matplotlib.cm as cm\n",
    "import matplotlib.pyplot as plt\n",
    "import matplotlib.colors as mcolors\n",
    "import matplotlib.patheffects as mpe\n",
    "import matplotlib.patches as mpatches\n",
    "import mpl_scatter_density\n",
    "from astropy.visualization import LogStretch\n",
    "from astropy.visualization.mpl_normalize import ImageNormalize\n",
    "import colorcet as cc\n",
    "import pandas as pd"
   ]
  },
  {
   "cell_type": "code",
   "execution_count": null,
   "id": "c400c3fd",
   "metadata": {},
   "outputs": [],
   "source": [
    "mpl.rcdefaults()"
   ]
  },
  {
   "cell_type": "markdown",
   "id": "01276b07",
   "metadata": {},
   "source": [
    "Create class to normalize asymmetric colorscales  \n",
    "(from [http://chris35wills.github.io/matplotlib_diverging_colorbar/](http://chris35wills.github.io/matplotlib_diverging_colorbar/))."
   ]
  },
  {
   "cell_type": "code",
   "execution_count": null,
   "id": "4d4b227d",
   "metadata": {},
   "outputs": [],
   "source": [
    "class MidpointNormalize(mcolors.Normalize):\n",
    "    \"\"\"\n",
    "    Normalise the colorbar so that diverging bars work there way either side from a prescribed midpoint value)\n",
    "\n",
    "    e.g. im=ax1.imshow(array, norm=MidpointNormalize(midpoint=0.,vmin=-100, vmax=100))\n",
    "    \"\"\"\n",
    "    def __init__(self, vmin=None, vmax=None, midpoint=None, clip=False):\n",
    "        self.midpoint = midpoint\n",
    "        mcolors.Normalize.__init__(self, vmin, vmax, clip)\n",
    "\n",
    "    def __call__(self, value, clip=None):\n",
    "        # I'm ignoring masked values and all kinds of edge cases to make a\n",
    "        # simple example...\n",
    "        x, y = [self.vmin, self.midpoint, self.vmax], [0, 0.5, 1]\n",
    "        return np.ma.masked_array(np.interp(value, x, y), np.isnan(value))"
   ]
  },
  {
   "cell_type": "code",
   "execution_count": null,
   "id": "ff3d507d",
   "metadata": {},
   "outputs": [],
   "source": [
    "pe1            = [mpe.Stroke(linewidth=5.0, foreground='black'),\n",
    "                  mpe.Stroke(foreground='white', alpha=1),\n",
    "                  mpe.Normal()]\n",
    "pe2            = [mpe.Stroke(linewidth=3.0, foreground='white'),\n",
    "                  mpe.Stroke(foreground='white', alpha=1),\n",
    "                  mpe.Normal()]"
   ]
  },
  {
   "cell_type": "markdown",
   "id": "3737109a",
   "metadata": {},
   "source": [
    "---"
   ]
  },
  {
   "cell_type": "markdown",
   "id": "363e2fd7",
   "metadata": {},
   "source": [
    "## Reading data"
   ]
  },
  {
   "cell_type": "code",
   "execution_count": null,
   "id": "6cc0f156",
   "metadata": {},
   "outputs": [],
   "source": [
    "cat_path            = '../../Catalogs/'  # relative path to the same directory"
   ]
  },
  {
   "cell_type": "code",
   "execution_count": null,
   "id": "04c18429",
   "metadata": {},
   "outputs": [],
   "source": [
    "save_plot_flag      = False"
   ]
  },
  {
   "cell_type": "code",
   "execution_count": null,
   "id": "1e7928b4",
   "metadata": {},
   "outputs": [],
   "source": [
    "used_area           = 'HETDEX'  # can be 'S82', 'HETDEX', 'COSMOS'\n",
    "if used_area == 'HETDEX':\n",
    "    used_subset     = 'train_test'  # 'training', 'test', 'train_test', 'validation'"
   ]
  },
  {
   "cell_type": "code",
   "execution_count": null,
   "id": "a09cfed1",
   "metadata": {},
   "outputs": [],
   "source": [
    "file_S82            = 'CatWISE2020_S82_VLASS_VLAS82_PS1_GALEX_TGSS_XMM_2MASS_MILLIQUAS_7_4d_ALLWISE_SDSS_DR16_5sigma_imp.h5'\n",
    "file_HETDEX         = 'CatWISE2020_VLASS_LOFAR_PS1_GALEX_TGSS_XMM_2MASS_MILLIQUAS_7_4d_ALLWISE_LOLSS_SDSS_DR16_5sigma_imp.h5'\n",
    "file_COSMOS         = 'CatWISE2020_COSMOS_MILLIQUAS_7_4d_COSMOSVLA3_PS1_GALEX_TGSS_VLASS_XMM_2MASS_ALLWISE_SDSS_DR16_5sigma_imp.h5'\n",
    "file_S82_Ananna_17  = f'CatWISE2020_S82_VLASS_VLAS82_PS1_GALEX_TGSS_XMM_2MASS_MILLIQUAS_7_4d_ALLWISE_Ananna_17_zsp_5sigma_imp.h5'  # 204 objects\n",
    "\n",
    "file_name_dict      = {'S82': file_S82, 'HETDEX': file_HETDEX, 'COSMOS': file_COSMOS}\n",
    "file_name           = file_name_dict[used_area]"
   ]
  },
  {
   "cell_type": "code",
   "execution_count": null,
   "id": "512ba54c",
   "metadata": {},
   "outputs": [],
   "source": [
    "feats_2_disc_S82    = ['objID', 'RA_MILLI', 'DEC_MILLI', 'X_ray_detect', 'Total_flux_VLASS',\\\n",
    "                     'Fint_VLAS82', 'Stotal_TGSS', 'FEP', 'W1mag', 'W2mag']\n",
    "feats_2_disc_HETDEX = ['objID', 'RA_MILLI', 'DEC_MILLI', 'X_ray_detect', 'Total_flux_VLASS',\\\n",
    "                     'Sint_LOFAR', 'Stotal_TGSS', 'FEP', 'TotalFlux_LoLSS', 'W1mag', 'W2mag']\n",
    "feats_2_disc_COSMOS = ['objID', 'RA_MILLI', 'DEC_MILLI', 'X_ray_detect', 'Total_flux_VLASS',\\\n",
    "                     'Stotal_TGSS', 'FEP', 'Flux_COSMOSVLA3', 'W1mag', 'W2mag']\n",
    "\n",
    "feats_2_disc        = {'S82': feats_2_disc_S82, 'HETDEX': feats_2_disc_HETDEX, 'COSMOS': feats_2_disc_COSMOS}\n",
    "features_2_discard  = feats_2_disc[used_area]"
   ]
  },
  {
   "cell_type": "code",
   "execution_count": null,
   "id": "032e4327",
   "metadata": {},
   "outputs": [],
   "source": [
    "full_catalog_df     = pd.read_hdf(cat_path + file_name, key='df').drop(columns=features_2_discard)"
   ]
  },
  {
   "cell_type": "code",
   "execution_count": null,
   "id": "1e768ec1",
   "metadata": {},
   "outputs": [],
   "source": [
    "full_catalog_df.info(show_counts=True)"
   ]
  },
  {
   "cell_type": "markdown",
   "id": "b2d13436",
   "metadata": {},
   "source": [
    "---"
   ]
  },
  {
   "cell_type": "markdown",
   "id": "b87d5b2a",
   "metadata": {},
   "source": [
    "## Description plots"
   ]
  },
  {
   "cell_type": "code",
   "execution_count": null,
   "id": "83e81918",
   "metadata": {},
   "outputs": [],
   "source": [
    "bands_plot = ['FUVmag', 'NUVmag', 'gmag', 'rmag', 'imag', 'zmag', 'ymag', 'Jmag',\n",
    "              'Hmag', 'Kmag', 'W1mproPM', 'W2mproPM', 'W3mag', 'W4mag']"
   ]
  },
  {
   "cell_type": "code",
   "execution_count": null,
   "id": "368db8a8",
   "metadata": {},
   "outputs": [],
   "source": [
    "mag_cols_lim = {'W1mproPM': 20.13, 'W2mproPM': 19.81, 'Sint_LOFAR': 17.52, 'Total_flux_VLASS': 15.21,\\\n",
    "                    'TotalFlux_LoLSS': 12.91, 'Stotal_TGSS': 11.18, 'Fint_VLAS82': 17.86,\\\n",
    "                    'Flux_COSMOSVLA3': 21.25, 'W1mag': 19.6, 'W2mag': 19.34, 'W3mag': 16.67,\\\n",
    "                    'W4mag': 14.62, 'gmag': 23.3, 'rmag': 23.2, 'imag': 23.1, 'zmag': 22.3,\\\n",
    "                    'ymag': 21.4, 'FUVmag': 20.0, 'NUVmag': 21.0, 'FEP': 57.9, 'Jmag': 17.45,\\\n",
    "                    'Hmag': 17.24, 'Kmag': 16.59}  # Proper (5-sigma) limits\n",
    "\n",
    "for key in mag_cols_lim:\n",
    "    mag_cols_lim[key] = np.float32(mag_cols_lim[key])"
   ]
  },
  {
   "cell_type": "code",
   "execution_count": null,
   "id": "7ffad2bd",
   "metadata": {},
   "outputs": [],
   "source": [
    "mag_cols_names   = {'W1mproPM': 'W1 (CW)', 'W2mproPM': 'W2 (CW)', 'Sint_LOFAR': 'LOFAR', 'Total_flux_VLASS': 'VLASS', \n",
    "                  'TotalFlux_LoLSS': 'LoLSS', 'Stotal_TGSS': 'TGSS', 'W1mag': 'W1 (AW)', \n",
    "                  'W2mag': 'W2 (AW)', 'W3mag': 'W3 (AW)', 'W4mag': 'W4 (AW)', 'gmag': 'g', 'rmag': 'r', \n",
    "                  'imag': 'i', 'zmag': 'z', 'ymag': 'y', 'FUVmag': 'FUV', 'NUVmag': 'NUV', \n",
    "                  'FEP': 'XMM', 'Jmag': 'J', 'Hmag': 'H', 'Kmag': 'K'}"
   ]
  },
  {
   "cell_type": "code",
   "execution_count": null,
   "id": "191a8339",
   "metadata": {},
   "outputs": [],
   "source": [
    "fig             = plt.figure(figsize=(9,5.5))\n",
    "ax1             = fig.add_subplot(111, xscale='linear', yscale='log')\n",
    "\n",
    "min_magnitude  = full_catalog_df.loc[:, bands_plot].min().min()\n",
    "max_magnitude  = full_catalog_df.loc[:, bands_plot].max().max()\n",
    "mag_bins       = np.linspace(min_magnitude, max_magnitude, 50)\n",
    "\n",
    "for band in bands_plot:\n",
    "    filt_lims = np.array(full_catalog_df.loc[:, band] != mag_cols_lim[lims_select][band])\n",
    "    ax1.hist(full_catalog_df.loc[filt_lims, band], bins=mag_bins, histtype='stepfilled', ec='k', lw=3.5, alpha=0.8)\n",
    "    \n",
    "ax1.tick_params(which='both', top=True, right=True, direction='in')\n",
    "ax1.tick_params(axis='both', which='major', labelsize=14)\n",
    "ax1.tick_params(which='major', length=8, width=1.5)\n",
    "ax1.tick_params(which='minor', length=4, width=1.5)\n",
    "ax1.set_xlabel('$m\\, \\mathrm{[AB]}$', size=20)\n",
    "ax1.set_ylabel('Frequency', size=20)\n",
    "plt.setp(ax1.spines.values(), linewidth=3.5)\n",
    "plt.setp(ax1.spines.values(), linewidth=3.5)\n",
    "# plt.legend(loc=1, fontsize=14)\n",
    "ax1.set_xlim(left=np.floor(min_magnitude), right=np.ceil(max_magnitude))\n",
    "ax1.invert_xaxis()\n",
    "#ax1.set_aspect('equal', 'box')\n",
    "fig.tight_layout()"
   ]
  },
  {
   "cell_type": "code",
   "execution_count": null,
   "id": "cb37748f",
   "metadata": {},
   "outputs": [],
   "source": [
    "n_cols = 4\n",
    "n_rows = int(np.ceil((len(bands_plot)) / 4))\n",
    "\n",
    "min_magnitude  = full_catalog_df.loc[:, bands_plot].min().min()\n",
    "max_magnitude  = full_catalog_df.loc[:, bands_plot].max().max()\n",
    "mag_bins       = np.linspace(min_magnitude, max_magnitude, 50)\n",
    "\n",
    "fig             = plt.figure(figsize=(4 * n_cols, 1.4 * n_rows), constrained_layout=True)\n",
    "\n",
    "grid            = fig.add_gridspec(ncols=n_cols, nrows=n_rows, width_ratios=[1]*n_cols,\n",
    "                                   height_ratios=[1]*n_rows, hspace=0.0, wspace=0.0)\n",
    "axs             = {}\n",
    "norm_z = mcolors.Normalize(vmin=0, vmax=8)\n",
    "\n",
    "for count, band in enumerate(bands_plot):\n",
    "    if count == 0:\n",
    "        axs[count] = fig.add_subplot(grid[int(np.floor(count / n_cols)), int(count % n_cols)],\n",
    "                                     xscale='linear', yscale='log')\n",
    "    elif count != 0:\n",
    "        axs[count] = fig.add_subplot(grid[int(np.floor(count / n_cols)), int(count % n_cols)],\n",
    "                                     sharex=axs[0], sharey=axs[0])\n",
    "    \n",
    "    filt_lims = np.array(full_catalog_df.loc[:, band] != mag_cols_lim[lims_select][band])\n",
    "    axs[count].hist(full_catalog_df.loc[filt_lims, band], bins=mag_bins, histtype='stepfilled',\n",
    "                    ec='k', lw=3.5, fc=plt.get_cmap('cet_CET_R1', len(bands_plot))(count),\n",
    "                    alpha=0.75, label=f'{band}')\n",
    "    \n",
    "    axs[count].tick_params(which='both', top=True, right=True, direction='in')\n",
    "    axs[count].tick_params(axis='both', which='major', labelsize=20)\n",
    "    axs[count].tick_params(which='major', length=8, width=1.5)\n",
    "    axs[count].tick_params(which='minor', length=4, width=1.5)\n",
    "    plt.setp(axs[count].spines.values(), linewidth=2.5)\n",
    "    plt.setp(axs[count].spines.values(), linewidth=2.5)\n",
    "    #axs[count].grid(zorder=0)\n",
    "    if count % n_cols != 0:\n",
    "        plt.setp(axs[count].get_yticklabels(), visible=False)\n",
    "    # if np.ceil((count + 1) / n_cols) != n_rows:\n",
    "    #     plt.setp(axs[count].get_xticklabels(), visible=False)\n",
    "    if count < (len(bands_plot) - n_cols):\n",
    "        plt.setp(axs[count].get_xticklabels(), visible=False)\n",
    "    axs[count].annotate(text=f'{mag_cols_names[band]}', xy=(0.02, 0.9),\\\n",
    "                         xycoords='axes fraction', fontsize=18, ha='left', va='top', path_effects=pe2)\n",
    "    axs[count].annotate(text=f'N={np.sum(filt_lims):,}', xy=(0.98, 0.9),\\\n",
    "                         xycoords='axes fraction', fontsize=18, ha='right', va='top', path_effects=pe2)\n",
    "    axs[0].set_xlim(left=np.floor(min_magnitude), right=np.ceil(max_magnitude))\n",
    "    axs[0].invert_xaxis()\n",
    "    # axs[count].legend(loc=2)\n",
    "\n",
    "\n",
    "fig.supxlabel('$m\\, \\mathrm{[AB]}$', fontsize=20, x=0.52)\n",
    "fig.supylabel('Frequency', fontsize=20, va='bottom')\n",
    "\n",
    "fig.tight_layout()\n",
    "if save_plot_flag:\n",
    "    plt.savefig(f'plots/hists_bands_{used_area}.pdf', bbox_inches='tight')\n",
    "plt.show()"
   ]
  },
  {
   "cell_type": "code",
   "execution_count": null,
   "id": "a874dcbd",
   "metadata": {},
   "outputs": [],
   "source": []
  }
 ],
 "metadata": {
  "kernelspec": {
   "display_name": "Python 3 (ipykernel)",
   "language": "python",
   "name": "python3"
  },
  "language_info": {
   "codemirror_mode": {
    "name": "ipython",
    "version": 3
   },
   "file_extension": ".py",
   "mimetype": "text/x-python",
   "name": "python",
   "nbconvert_exporter": "python",
   "pygments_lexer": "ipython3",
   "version": "3.8.13"
  }
 },
 "nbformat": 4,
 "nbformat_minor": 5
}
