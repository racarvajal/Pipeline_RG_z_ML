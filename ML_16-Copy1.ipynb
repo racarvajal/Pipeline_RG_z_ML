{
 "cells": [
  {
   "cell_type": "markdown",
   "id": "c11b375e",
   "metadata": {
    "id": "c71fae7e-a4c4-4950-8c16-4a74a1e69482"
   },
   "source": [
    "# Pipeline for High-z Radio Galaxies 16: AGN/Galaxy classification"
   ]
  },
  {
   "cell_type": "markdown",
   "id": "e2888bca",
   "metadata": {
    "id": "714a7301-9b3d-4ad9-9659-b68cad4014c5"
   },
   "source": [
    "## Introduction"
   ]
  },
  {
   "cell_type": "markdown",
   "id": "8d7a5d52",
   "metadata": {
    "id": "dea6dd12-650e-4ab6-bae7-0268f78e7fea"
   },
   "source": [
    "Training for classification of AGN and galaxies will be done in the HETDEX Field.  \n",
    "\n",
    "Sources are all elements detected in the CatWISE2020 catalogue.  But classification  \n",
    "will be done with AGN from the Million Quasar Catalog (MQC) and galaxies from  \n",
    "spectroscopically detected sources in SDSS DR16 (Spectral Class = \"GALAXY\")."
   ]
  },
  {
   "cell_type": "markdown",
   "id": "4efc95f9",
   "metadata": {
    "id": "00a0aec8-0112-4728-a8fe-f99cdf05a33b"
   },
   "source": [
    "Training data is from HETDEX Spring Field."
   ]
  },
  {
   "cell_type": "code",
   "execution_count": 1,
   "id": "cc88fee5",
   "metadata": {
    "id": "1161a2b6-ef8d-429d-8dea-40f0de36e393"
   },
   "outputs": [],
   "source": [
    "%matplotlib inline\n",
    "# Static plots\n",
    "#%matplotlib ipympl\n",
    "# Interactive plots\n",
    "import numpy as np\n",
    "import matplotlib as mpl\n",
    "import matplotlib.cm as cm\n",
    "import matplotlib.pyplot as plt\n",
    "import matplotlib.colors as mcolors\n",
    "import matplotlib.patheffects as mpe\n",
    "from astropy.visualization import LogStretch, PowerStretch\n",
    "from astropy.visualization.mpl_normalize import ImageNormalize\n",
    "from sklearn.preprocessing import MinMaxScaler\n",
    "from sklearn.model_selection import train_test_split\n",
    "from sklearn.metrics import ConfusionMatrixDisplay, roc_auc_score, roc_curve, RocCurveDisplay, matthews_corrcoef\n",
    "from sklearn.metrics import precision_recall_curve, PrecisionRecallDisplay, auc\n",
    "from sklearn.calibration import calibration_curve\n",
    "import sklearn.pipeline\n",
    "import ppscore as pps\n",
    "import seaborn as sns\n",
    "import colorcet as cc\n",
    "from pycaret import classification as pyc\n",
    "# from pycaret import regression as pyr\n",
    "# from pycaret.internal.tabular import _get_columns_to_stratify_by\n",
    "import pandas as pd"
   ]
  },
  {
   "cell_type": "code",
   "execution_count": 2,
   "id": "2efdbc9d",
   "metadata": {},
   "outputs": [],
   "source": [
    "mpl.rcdefaults()"
   ]
  },
  {
   "cell_type": "markdown",
   "id": "2c426ec7",
   "metadata": {
    "id": "9647d74a-8d80-4d24-a2f4-023184fa27ac"
   },
   "source": [
    "Create class to normalize asymmetric colorscales  \n",
    "(from [http://chris35wills.github.io/matplotlib_diverging_colorbar/](http://chris35wills.github.io/matplotlib_diverging_colorbar/))."
   ]
  },
  {
   "cell_type": "code",
   "execution_count": 3,
   "id": "60b574a5",
   "metadata": {
    "id": "652a8557-e595-4861-af72-5d3220fb7620",
    "jupyter": {
     "source_hidden": true
    },
    "tags": []
   },
   "outputs": [],
   "source": [
    "class MidpointNormalize(mcolors.Normalize):\n",
    "    \"\"\"\n",
    "    Normalise the colorbar so that diverging bars work there way either side from a prescribed midpoint value)\n",
    "\n",
    "    e.g. im=ax1.imshow(array, norm=MidpointNormalize(midpoint=0.,vmin=-100, vmax=100))\n",
    "    \"\"\"\n",
    "    def __init__(self, vmin=None, vmax=None, midpoint=None, clip=False):\n",
    "        self.midpoint = midpoint\n",
    "        mcolors.Normalize.__init__(self, vmin, vmax, clip)\n",
    "\n",
    "    def __call__(self, value, clip=None):\n",
    "        # I'm ignoring masked values and all kinds of edge cases to make a\n",
    "        # simple example...\n",
    "        x, y = [self.vmin, self.midpoint, self.vmax], [0, 0.5, 1]\n",
    "        return np.ma.masked_array(np.interp(value, x, y), np.isnan(value))"
   ]
  },
  {
   "cell_type": "markdown",
   "id": "00f71bae",
   "metadata": {
    "id": "0bc24aa0-581a-4c39-bc90-b18f85385e78"
   },
   "source": [
    "For future plots, we can configure their aspect too."
   ]
  },
  {
   "cell_type": "code",
   "execution_count": 4,
   "id": "87b803d0",
   "metadata": {
    "id": "cc05a86c-85e4-46e7-9b7f-f8ac4abd4ff2",
    "jupyter": {
     "source_hidden": true
    },
    "tags": []
   },
   "outputs": [],
   "source": [
    "cmap           = cm.get_cmap('inferno')\n",
    "cmap_alt       = cm.get_cmap('Dark2')\n",
    "cmap_alt_2     = cm.get_cmap('Greys_r')  # Shades of grey\n",
    "cmap_alt_3     = cm.get_cmap('coolwarm')  # blue to red\n",
    "dark_color     = cmap(0.4)  # RGBA color code\n",
    "light_color    = cmap(0.6)  # RGBA color code\n",
    "colors         = [cmap(0.15), cmap(0.30), cmap(0.45), cmap(0.60), cmap(0.75), cmap(0.90)]\n",
    "colors_3       = [cmap(0.25), cmap(0.50), cmap(0.75)]\n",
    "colors_3_alt   = [cmap_alt(0.25), cmap_alt(0.50), cmap_alt(0.75)]\n",
    "colors_3_alt_2 = [cmap_alt_2(0.25), cmap_alt_2(0.50), cmap_alt_2(0.75)]\n",
    "colors_8       = [cmap(0.12), cmap(0.24), cmap(0.35), cmap(0.48), cmap(0.6), cmap(0.72), cmap(0.84), cmap(0.96)]\n",
    "colors_8_alt   = [cmap_alt(0.12), cmap_alt(0.24), cmap_alt(0.35), cmap_alt(0.48), cmap_alt(0.6), cmap_alt(0.72),\\\n",
    "                  cmap_alt(0.84), cmap_alt(0.96)]\n",
    "colors_8_alt_2 = [cmap_alt_2(0.06), cmap_alt_2(0.18), cmap_alt_2(0.29), cmap_alt_2(0.42), cmap_alt_2(0.54),\\\n",
    "                  cmap_alt_2(0.66), cmap_alt_2(0.78), cmap_alt_2(0.90)]\n",
    "colors_8_alt_3 = [cmap_alt_3(0.06), cmap_alt_3(0.18), cmap_alt_3(0.29), cmap_alt_3(0.42), cmap_alt_3(0.54),\\\n",
    "                  cmap_alt_3(0.66), cmap_alt_3(0.78), cmap_alt_3(0.90)]"
   ]
  },
  {
   "cell_type": "code",
   "execution_count": 5,
   "id": "6c712e6d",
   "metadata": {
    "id": "f7b5bb0d-e1c0-415d-b7a8-3237c86e6c7b",
    "jupyter": {
     "source_hidden": true
    },
    "tags": []
   },
   "outputs": [],
   "source": [
    "pe1            = [mpe.Stroke(linewidth=5.0, foreground='black'),\n",
    "                  mpe.Stroke(foreground='white', alpha=1),\n",
    "                  mpe.Normal()]\n",
    "pe2            = [mpe.Stroke(linewidth=3.0, foreground='white'),\n",
    "                  mpe.Stroke(foreground='white', alpha=1),\n",
    "                  mpe.Normal()]\n",
    "\n",
    "alp_str        = r'$\\alpha$'"
   ]
  },
  {
   "cell_type": "markdown",
   "id": "b0b0823b",
   "metadata": {
    "id": "aacf1d05-0bd7-4cbe-a480-5bd658bc008c"
   },
   "source": [
    "Methods for PyCaret and saved models."
   ]
  },
  {
   "cell_type": "code",
   "execution_count": 6,
   "id": "2817d248",
   "metadata": {
    "id": "86db6e67-85aa-4cd6-a3dc-bfe638bc69bb",
    "jupyter": {
     "source_hidden": true
    },
    "tags": []
   },
   "outputs": [],
   "source": [
    "def get_final_column_names(pycaret_pipeline, sample_df):\n",
    "    if isinstance(pycaret_pipeline, sklearn.pipeline.Pipeline):\n",
    "        for (name, method) in pycaret_pipeline.named_steps.items():\n",
    "            if method != 'passthrough' and name != 'trained_model':\n",
    "                print(f'Running {name}')\n",
    "                sample_df = method.transform(sample_df)\n",
    "        return sample_df.columns.tolist()\n",
    "    else:\n",
    "        for (name, method) in pyc.get_config('prep_pipe').named_steps.items():\n",
    "            if method != 'passthrough' and name != 'trained_model':\n",
    "                print(f'Running {name}')\n",
    "                sample_df = method.transform(sample_df)\n",
    "        return sample_df.columns.tolist()"
   ]
  },
  {
   "cell_type": "code",
   "execution_count": 7,
   "id": "f4f1245e",
   "metadata": {
    "id": "715acda9-475d-4c9c-8e99-4921da2e1152",
    "jupyter": {
     "source_hidden": true
    },
    "tags": []
   },
   "outputs": [],
   "source": [
    "def get_feature_importances_df(pycaret_pipeline, sample_df, n = 10):\n",
    "    \n",
    "    final_cols = get_final_column_names(pycaret_pipeline, sample_df)\n",
    "    \n",
    "    if isinstance(pycaret_pipeline, sklearn.pipeline.Pipeline):\n",
    "        try:\n",
    "            variables = pycaret_pipeline[\"trained_model\"].feature_importances_\n",
    "            \n",
    "        except:\n",
    "            variables = np.mean([\n",
    "                            tree.feature_importances_ for tree in pycaret_pipeline[\"trained_model\"].estimators_\n",
    "                if hasattr(tree, 'feature_importances_')\n",
    "                            ], axis=0)\n",
    "        \n",
    "        coef_df = pd.DataFrame({'Feature': final_cols, 'Importance': variables})\n",
    "        sorted_df = (\n",
    "            coef_df.sort_values(by='Importance', ascending=False)\n",
    "            .head(n)\n",
    "            .sort_values(by='Importance', ascending=True).reset_index(drop=True)\n",
    "        )\n",
    "    else:\n",
    "        try:\n",
    "            variables = pycaret_pipeline.feature_importances_\n",
    "            \n",
    "        except:\n",
    "            variables = np.mean([\n",
    "                            tree.feature_importances_ for tree in pycaret_pipeline.estimators_\n",
    "                if hasattr(tree, 'feature_importances_')\n",
    "                            ], axis=0)\n",
    "        \n",
    "        coef_df = pd.DataFrame({'Feature': final_cols, 'Importance': variables})\n",
    "        sorted_df = (\n",
    "            coef_df.sort_values(by='Importance', ascending=False)\n",
    "            .head(n)\n",
    "            .sort_values(by='Importance', ascending=True).reset_index(drop=True)\n",
    "        )\n",
    "    return sorted_df"
   ]
  },
  {
   "cell_type": "code",
   "execution_count": 8,
   "id": "00924ae1",
   "metadata": {
    "jupyter": {
     "source_hidden": true
    },
    "tags": []
   },
   "outputs": [],
   "source": [
    "def plot_conf_mat(confusion_matrix, title, axin, display_labels=['Non true', 'True'], cmap='cet_dimgray_r', show_clb=False, log_stretch=False):\n",
    "    disp = ConfusionMatrixDisplay(confusion_matrix=confusion_matrix,\n",
    "                              display_labels=display_labels)\n",
    "\n",
    "    min_val_colour = np.nanmin(confusion_matrix)\n",
    "    max_val_colour = np.nanmin(confusion_matrix)\n",
    "    \n",
    "    if log_stretch:\n",
    "        norm = ImageNormalize(stretch=LogStretch())\n",
    "    if not log_stretch:\n",
    "        norm = ImageNormalize(stretch=PowerStretch(0.35))\n",
    "\n",
    "    # NOTE: Fill all variables here with default values of the plot_confusion_matrix\n",
    "    disp_b = disp.plot(include_values=True, cmap=cm.get_cmap(cmap),\\\n",
    "             ax=axin, xticks_rotation='horizontal')\n",
    "\n",
    "    for text_val in disp_b.text_.flatten():\n",
    "        text_val.set_fontsize(30)\n",
    "    clb = plt.gca().images[-1].colorbar\n",
    "    clb.ax.tick_params(labelsize=14)\n",
    "    clb.ax.ticklabel_format(style='sci', scilimits=(0, 0))\n",
    "    clb.outline.set_linewidth(2.5)\n",
    "    clb.ax.set_ylabel('Elements in bin', size=14)\n",
    "    if not show_clb:\n",
    "        clb.remove()\n",
    "\n",
    "    # disp_b.im_.set_clim(1e2, 3e3)\n",
    "    disp_b.im_.norm = norm\n",
    "\n",
    "    axin.xaxis.get_label().set_fontsize(16)\n",
    "    axin.yaxis.get_label().set_fontsize(16)\n",
    "\n",
    "    axin.tick_params(axis='both', which='major', labelsize=14)\n",
    "\n",
    "    plt.setp(axin.spines.values(), linewidth=2.5)\n",
    "    plt.setp(axin.spines.values(), linewidth=2.5)\n",
    "    axin.set_title(title, fontsize=14)\n",
    "    plt.tight_layout()"
   ]
  },
  {
   "cell_type": "code",
   "execution_count": 9,
   "id": "7ef3595a",
   "metadata": {
    "jupyter": {
     "source_hidden": true
    },
    "tags": []
   },
   "outputs": [],
   "source": [
    "def MCC_from_CM(cm_array):  # Matthews correlation coefficient\n",
    "    TN, FP, FN, TP = cm_array.flatten().astype('float32')\n",
    "    MCC = ((TP * TN) - (FP * FN)) / np.sqrt((TP + FP) * (TP + FN) * (TN + FP) * (TN + FN))\n",
    "    return MCC"
   ]
  },
  {
   "cell_type": "code",
   "execution_count": 10,
   "id": "b3390f6b",
   "metadata": {
    "jupyter": {
     "source_hidden": true
    },
    "tags": []
   },
   "outputs": [],
   "source": [
    "def ACC_from_CM(cm_array):  # Accuracy\n",
    "    TN, FP, FN, TP = cm_array.flatten().astype('float32')\n",
    "    ACC = (TP + TN) / (TP + TN + FP + FN)\n",
    "    return ACC"
   ]
  },
  {
   "cell_type": "code",
   "execution_count": 11,
   "id": "b06919e8",
   "metadata": {
    "jupyter": {
     "source_hidden": true
    },
    "tags": []
   },
   "outputs": [],
   "source": [
    "def F1_from_CM(cm_array):  # F-1 score\n",
    "    TN, FP, FN, TP = cm_array.flatten().astype('float32')\n",
    "    F1 = 2 * TP / (2 * TP + FP + FN)\n",
    "    return F1"
   ]
  },
  {
   "cell_type": "code",
   "execution_count": 12,
   "id": "6c072abb",
   "metadata": {
    "jupyter": {
     "source_hidden": true
    },
    "tags": []
   },
   "outputs": [],
   "source": [
    "def Recall_from_CM(cm_array):  # Recall\n",
    "    TN, FP, FN, TP = cm_array.flatten().astype('float32')\n",
    "    Recall = TP / (TP + FN)\n",
    "    return Recall"
   ]
  },
  {
   "cell_type": "markdown",
   "id": "9d48dc83",
   "metadata": {},
   "source": [
    "Get estimators list"
   ]
  },
  {
   "cell_type": "code",
   "execution_count": 13,
   "id": "9f6d745c",
   "metadata": {
    "jupyter": {
     "source_hidden": true
    }
   },
   "outputs": [],
   "source": [
    "def get_base_estimators_names(pycaret_pipeline):\n",
    "    if isinstance(final_AGN_clf, sklearn.pipeline.Pipeline):\n",
    "        estimators  = pycaret_pipeline['trained_model'].estimators\n",
    "    else:\n",
    "        estimators  = pycaret_pipeline.estimators\n",
    "\n",
    "    estimators_list = [estimator[0] for estimator in estimators]\n",
    "    return estimators_list"
   ]
  },
  {
   "cell_type": "markdown",
   "id": "6bda25b4",
   "metadata": {
    "id": "8222df68-1b98-436b-af43-d9f38d015ba6"
   },
   "source": [
    "***"
   ]
  },
  {
   "cell_type": "markdown",
   "id": "e6ea476d",
   "metadata": {
    "id": "e2ce5669-172d-4ed4-b6fe-5fff8afc7df5"
   },
   "source": [
    "## Reading data"
   ]
  },
  {
   "cell_type": "code",
   "execution_count": 14,
   "id": "3031eb88",
   "metadata": {
    "id": "b0619b32-391c-4f18-8284-d1fabf6a800c",
    "tags": []
   },
   "outputs": [],
   "source": [
    "cat_path = '../../Catalogs/'  # relative path to the same directory"
   ]
  },
  {
   "cell_type": "markdown",
   "id": "bdd80c24",
   "metadata": {
    "id": "c4e41fd8-fbc5-4185-b03e-8a57634a05a9"
   },
   "source": [
    "We import our data using the `pandas` package."
   ]
  },
  {
   "cell_type": "code",
   "execution_count": 15,
   "id": "8cf2dff2",
   "metadata": {},
   "outputs": [],
   "source": [
    "save_plot_flag  = False\n",
    "save_model_flag = False\n",
    "load_model_flag = False"
   ]
  },
  {
   "cell_type": "code",
   "execution_count": 16,
   "id": "b8a2f1bc",
   "metadata": {},
   "outputs": [],
   "source": [
    "use_5sigma = True  # use files with 5-sigma magnitude imputation"
   ]
  },
  {
   "cell_type": "code",
   "execution_count": 17,
   "id": "bb3b9611",
   "metadata": {},
   "outputs": [],
   "source": [
    "mqc_version = '7_4d'  # '7_2'"
   ]
  },
  {
   "cell_type": "code",
   "execution_count": 18,
   "id": "f62a239c",
   "metadata": {
    "id": "c69bd7ee-7184-46e3-a6cb-1a66cb75d6ae",
    "tags": []
   },
   "outputs": [],
   "source": [
    "file_name_train = f'CatWISE2020_VLASS_LOFAR_PS1_GALEX_TGSS_XMM_2MASS_MILLIQUAS_{mqc_version}_ALLWISE_LOLSS_SDSS_DR16_5sigma_imp.h5'  # 6729647 objects (6.7e6)"
   ]
  },
  {
   "cell_type": "markdown",
   "id": "30ec22a9",
   "metadata": {
    "id": "2cd751bd-1eb4-4c54-b6fa-418773ac8938"
   },
   "source": [
    "First, open the file as astropy Table to modify (and standardise)  \n",
    "the units of fluxes and/or magnitudes."
   ]
  },
  {
   "cell_type": "markdown",
   "id": "72a0b5bd",
   "metadata": {
    "id": "d0ce0178-04a7-4113-bbb8-1b70ce220764"
   },
   "source": [
    "---"
   ]
  },
  {
   "cell_type": "markdown",
   "id": "a261004f",
   "metadata": {
    "id": "6e66f66c-4987-4340-bf82-7d8e218033fb"
   },
   "source": [
    "Create `pandas` DataFrame from `astropy` table."
   ]
  },
  {
   "cell_type": "code",
   "execution_count": 19,
   "id": "e388386e",
   "metadata": {},
   "outputs": [],
   "source": [
    "features_2_discard = ['objID', 'RA_ICRS', 'DE_ICRS', 'Name', 'RA_MILLI', 'DEC_MILLI',\\\n",
    "                     'TYPE', 'Z', 'zsp', 'X_ray_detect', 'radio_detect', 'Total_flux_VLASS',\\\n",
    "                     'Sint_LOFAR', 'Stotal_TGSS', 'FEP', 'TotalFlux_LoLSS', 'W1mag',\\\n",
    "                     'W2mag', 'spCl', 'FUVmag', 'NUVmag'] # , 'mode',\\\n",
    "                     # 'class', 'f_zsp', 'subCl', 'zph', 'e_zph']  # Not needed for training in this model"
   ]
  },
  {
   "cell_type": "code",
   "execution_count": 20,
   "id": "ed3f79da",
   "metadata": {
    "id": "498083f5-b8c6-44aa-8de4-75b1dc899296",
    "tags": []
   },
   "outputs": [],
   "source": [
    "full_catalog_df = pd.read_hdf(cat_path + file_name_train, key='df').drop(columns=features_2_discard).sample(frac=0.075, random_state=42)"
   ]
  },
  {
   "cell_type": "code",
   "execution_count": 21,
   "id": "22d8f484",
   "metadata": {},
   "outputs": [],
   "source": [
    "# full_catalog_df.describe()"
   ]
  },
  {
   "cell_type": "markdown",
   "id": "20468cc0",
   "metadata": {},
   "source": [
    "#### Select only confirmed galaxies and AGN"
   ]
  },
  {
   "cell_type": "code",
   "execution_count": 22,
   "id": "de146e63",
   "metadata": {},
   "outputs": [],
   "source": [
    "full_catalog_df = full_catalog_df.loc[(full_catalog_df.loc[:, 'is_gal'] == 1) | (full_catalog_df.loc[:, 'is_AGN'] == 1)]"
   ]
  },
  {
   "cell_type": "code",
   "execution_count": 23,
   "id": "0ff41245",
   "metadata": {
    "jupyter": {
     "source_hidden": true
    },
    "tags": []
   },
   "outputs": [
    {
     "name": "stdout",
     "output_type": "stream",
     "text": [
      "In this dataset, with 6188 elements,\n",
      "2120 of them are marked as AGN, and 4068 are identified as galaxies.\n"
     ]
    }
   ],
   "source": [
    "n_is_AGN = np.sum(full_catalog_df.loc[:, 'is_AGN'] == 1)\n",
    "n_is_gal = np.sum(full_catalog_df.loc[:, 'is_gal'] == 1)\n",
    "print(f'In this dataset, with {len(full_catalog_df.loc[:, \"is_AGN\"])} elements,\\n' +\\\n",
    "         f'{n_is_AGN} of them are marked as AGN, and {n_is_gal} are identified as galaxies.')"
   ]
  },
  {
   "cell_type": "markdown",
   "id": "045cb1fe",
   "metadata": {
    "id": "6619390c-a04f-4bd0-9f97-9ca54bc9c764"
   },
   "source": [
    "---"
   ]
  },
  {
   "cell_type": "markdown",
   "id": "20b1e7c5",
   "metadata": {
    "id": "e1111608-acd0-41fd-a79d-831539eb56b9"
   },
   "source": [
    "## Possible correlations"
   ]
  },
  {
   "cell_type": "code",
   "execution_count": 24,
   "id": "b40b10cb",
   "metadata": {
    "id": "c5787752-376d-4409-bda6-ed1ab94bbe9b",
    "jupyter": {
     "source_hidden": true
    },
    "outputId": "80a70466-b8d8-4390-8734-77688a25a7de",
    "tags": []
   },
   "outputs": [
    {
     "name": "stdout",
     "output_type": "stream",
     "text": [
      "['band_num', 'is_str', 'is_AGN', 'is_SDSS_gal', 'is_gal', 'W1mproPM', 'W2mproPM', 'gmag', 'rmag', 'imag', 'zmag', 'ymag', 'Jmag', 'Hmag', 'Kmag', 'W3mag', 'W4mag', 'g_r', 'g_i', 'g_z', 'g_y', 'g_J', 'g_H', 'g_K', 'g_W1', 'g_W2', 'g_W3', 'g_W4', 'r_i', 'r_z', 'r_y', 'r_J', 'r_H', 'r_K', 'r_W1', 'r_W2', 'r_W3', 'r_W4', 'i_z', 'i_y', 'i_J', 'i_H', 'i_K', 'i_W1', 'i_W2', 'i_W3', 'i_W4', 'z_y', 'z_J', 'z_H', 'z_K', 'z_W1', 'z_W2', 'z_W3', 'z_W4', 'y_J', 'y_H', 'y_K', 'y_W1', 'y_W2', 'y_W3', 'y_W4', 'J_H', 'J_K', 'J_W1', 'J_W2', 'J_W3', 'J_W4', 'H_K', 'H_W1', 'H_W2', 'H_W3', 'H_W4', 'K_W1', 'K_W2', 'K_W3', 'K_W4', 'W1_W2', 'W1_W3', 'W1_W4', 'W2_W3', 'W2_W4', 'W3_W4']\n"
     ]
    }
   ],
   "source": [
    "print(full_catalog_df.columns.to_list())"
   ]
  },
  {
   "cell_type": "markdown",
   "id": "8332a0f4",
   "metadata": {
    "id": "27645d12-9370-40d8-aeba-24d4415bb9eb"
   },
   "source": [
    "---"
   ]
  },
  {
   "cell_type": "markdown",
   "id": "f185881a",
   "metadata": {
    "id": "u4vi69d_pPbd"
   },
   "source": [
    "## Random seed"
   ]
  },
  {
   "cell_type": "code",
   "execution_count": 25,
   "id": "a5edae3f",
   "metadata": {
    "id": "8byjjVU3pOjM"
   },
   "outputs": [],
   "source": [
    "seed = 42"
   ]
  },
  {
   "cell_type": "markdown",
   "id": "7ae13807",
   "metadata": {},
   "source": [
    "Create target"
   ]
  },
  {
   "cell_type": "markdown",
   "id": "aa307b7a",
   "metadata": {},
   "source": [
    "$0$ for galaxies and $1$ for AGN"
   ]
  },
  {
   "cell_type": "code",
   "execution_count": 26,
   "id": "44af42e2",
   "metadata": {},
   "outputs": [],
   "source": [
    "full_catalog_df['class'] = full_catalog_df.loc[:, 'is_AGN'].copy()"
   ]
  },
  {
   "cell_type": "markdown",
   "id": "9aac6518",
   "metadata": {},
   "source": [
    "Remove intermediate targets"
   ]
  },
  {
   "cell_type": "code",
   "execution_count": 27,
   "id": "b3286164",
   "metadata": {},
   "outputs": [],
   "source": [
    "full_catalog_df = full_catalog_df.drop(columns=['is_AGN', 'is_SDSS_gal', 'is_gal', 'is_str'])"
   ]
  },
  {
   "cell_type": "markdown",
   "id": "deb39dab",
   "metadata": {},
   "source": [
    "## Split data: Test, Train, Validation"
   ]
  },
  {
   "cell_type": "code",
   "execution_count": 28,
   "id": "db42c28f",
   "metadata": {
    "jupyter": {
     "source_hidden": true
    }
   },
   "outputs": [
    {
     "name": "stdout",
     "output_type": "stream",
     "text": [
      "Shape of used data\n",
      "----------------------------------------\n",
      "Full Dataset size: (6188, 80)\n",
      "Data for Modeling (Train and Test): (4950, 80)\n",
      "Unseen Data For Validation: (1238, 80)\n",
      "----------------------------------------\n"
     ]
    }
   ],
   "source": [
    "train_test_df, validation_df = train_test_split(full_catalog_df, test_size=0.2, random_state=seed, stratify=full_catalog_df.loc[:, 'class'])\n",
    "# data_train_test_AGN_df = full_catalog_df.sample(frac=0.9, random_state=seed)  # Train + test sets\n",
    "# data_validation_AGN_df = full_catalog_df.drop(data_train_test_AGN_df.index)  # Validation data\n",
    "\n",
    "print('Shape of used data')\n",
    "print('-' * 40)\n",
    "print(f'Full Dataset size: {full_catalog_df.shape}')\n",
    "print(f'Data for Modeling (Train and Test): {train_test_df.shape}')\n",
    "print(f'Unseen Data For Validation: {validation_df.shape}')\n",
    "print('-' * 40)"
   ]
  },
  {
   "cell_type": "markdown",
   "id": "a6f846f2",
   "metadata": {},
   "source": [
    "Save indices of sources in validation sub-set for future steps."
   ]
  },
  {
   "cell_type": "code",
   "execution_count": 29,
   "id": "7f12a98d",
   "metadata": {},
   "outputs": [],
   "source": [
    "# val_idx = validation_df.index.to_numpy()\n",
    "# np.savetxt(fname='idx_validation_01.txt', X=val_idx, header='Indices from first AGN training.', fmt='%i')"
   ]
  },
  {
   "cell_type": "markdown",
   "id": "4a21dc21",
   "metadata": {},
   "source": [
    "---"
   ]
  },
  {
   "cell_type": "markdown",
   "id": "1fbf862f",
   "metadata": {},
   "source": [
    "## Use Correlation matrix to discard some features"
   ]
  },
  {
   "cell_type": "code",
   "execution_count": 30,
   "id": "643dc230",
   "metadata": {
    "tags": []
   },
   "outputs": [],
   "source": [
    "min_max_scaler              = MinMaxScaler(feature_range=(0., 1.))\n",
    "full_scaled                 = min_max_scaler.fit_transform(train_test_df.values)\n",
    "norm_train_test_df = pd.DataFrame(data=full_scaled, columns=train_test_df.columns, index=train_test_df.index)"
   ]
  },
  {
   "cell_type": "markdown",
   "id": "c7c6b1d8",
   "metadata": {},
   "source": [
    "Calculate Reduced Standard deviation to discard between pairs of features:  \n",
    "\n",
    "$$\\mathrm{RSD} = \\frac{\\sigma}{\\mu} \\times 100$$"
   ]
  },
  {
   "cell_type": "code",
   "execution_count": 31,
   "id": "edc9fabf",
   "metadata": {},
   "outputs": [],
   "source": [
    "rsd_vals = (train_test_df.std() / train_test_df.mean() * 100).sort_values(ascending=False)"
   ]
  },
  {
   "cell_type": "code",
   "execution_count": 32,
   "id": "fbd48314",
   "metadata": {},
   "outputs": [
    {
     "data": {
      "text/plain": [
       "K_W3        1381.783144\n",
       "z_y          242.754039\n",
       "i_z          198.763118\n",
       "class        138.528689\n",
       "i_y          129.947585\n",
       "r_i          115.147210\n",
       "y_W2         111.940140\n",
       "g_r           95.503770\n",
       "r_z           88.439657\n",
       "y_W1          86.569680\n",
       "z_W2          84.638023\n",
       "r_y           81.030131\n",
       "g_i           74.963927\n",
       "z_W1          71.925690\n",
       "g_z           69.479385\n",
       "i_W2          68.583580\n",
       "H_W3          68.147934\n",
       "g_y           67.644002\n",
       "i_W1          63.563228\n",
       "r_W1          58.399618\n",
       "r_W2          56.038303\n",
       "g_W1          52.072047\n",
       "J_W3          50.761297\n",
       "y_J           46.859377\n",
       "g_W2          46.305024\n",
       "W1_W3         42.898934\n",
       "y_H           42.504367\n",
       "z_J           41.478922\n",
       "J_H           39.112353\n",
       "i_J           38.633763\n",
       "z_H           37.877271\n",
       "y_K           37.179140\n",
       "r_J           37.172197\n",
       "i_H           35.529442\n",
       "y_W3          35.445754\n",
       "r_H           34.684651\n",
       "g_J           34.195194\n",
       "z_K           33.725098\n",
       "H_K           33.099846\n",
       "g_H           32.354331\n",
       "i_K           32.193088\n",
       "W2_W3         32.159508\n",
       "z_W3          32.106758\n",
       "r_K           31.740803\n",
       "i_W3          30.447602\n",
       "g_K           30.055935\n",
       "r_W3          29.877141\n",
       "g_W3          28.082335\n",
       "W1_W4         24.657997\n",
       "y_W4          23.408968\n",
       "J_K           22.871366\n",
       "r_W4          22.002127\n",
       "z_W4          21.850168\n",
       "g_W4          21.824435\n",
       "i_W4          21.487889\n",
       "band_num      21.136541\n",
       "W2_W4         20.299128\n",
       "W3_W4         17.167371\n",
       "H_W4          13.373997\n",
       "J_W4          12.161511\n",
       "K_W4          11.998017\n",
       "gmag           7.130412\n",
       "rmag           6.612250\n",
       "ymag           6.160126\n",
       "imag           6.042573\n",
       "zmag           5.937435\n",
       "W1mproPM       5.587092\n",
       "W2mproPM       4.874427\n",
       "W3mag          2.757632\n",
       "Hmag           2.108410\n",
       "Jmag           2.042360\n",
       "W4mag          1.492797\n",
       "Kmag           1.316911\n",
       "K_W2         -37.021400\n",
       "H_W2         -46.045459\n",
       "K_W1         -46.446194\n",
       "J_W2         -53.540863\n",
       "H_W1         -59.626999\n",
       "J_W1         -70.761510\n",
       "W1_W2       -238.957517\n",
       "dtype: float64"
      ]
     },
     "execution_count": 32,
     "metadata": {},
     "output_type": "execute_result"
    }
   ],
   "source": [
    "rsd_vals"
   ]
  },
  {
   "cell_type": "code",
   "execution_count": 33,
   "id": "2b3a5ab7",
   "metadata": {},
   "outputs": [],
   "source": [
    "correlation = norm_train_test_df.corr()"
   ]
  },
  {
   "cell_type": "code",
   "execution_count": 34,
   "id": "e6a8c33a",
   "metadata": {},
   "outputs": [],
   "source": [
    "filt_high_corr = np.array(correlation.abs().unstack().sort_values(ascending=False).drop_duplicates().values > 0.75) &\\\n",
    "np.array(correlation.abs().unstack().sort_values(ascending=False).drop_duplicates().values < 1.00)"
   ]
  },
  {
   "cell_type": "code",
   "execution_count": 35,
   "id": "2c0dc5cf",
   "metadata": {},
   "outputs": [],
   "source": [
    "corr_pairs     = correlation.abs().unstack().sort_values(ascending=False).drop_duplicates().index[filt_high_corr]"
   ]
  },
  {
   "cell_type": "code",
   "execution_count": 36,
   "id": "473bfaf6",
   "metadata": {},
   "outputs": [],
   "source": [
    "target_feat = 'class'"
   ]
  },
  {
   "cell_type": "code",
   "execution_count": 37,
   "id": "f139411f",
   "metadata": {
    "jupyter": {
     "source_hidden": true
    },
    "tags": []
   },
   "outputs": [],
   "source": [
    "list_drop_corr = []"
   ]
  },
  {
   "cell_type": "markdown",
   "id": "a4964cf8",
   "metadata": {},
   "source": [
    "We want to discard features that are highly correlated (>0.75).  \n",
    "Between two features, we will discard the one with the lowest standard deviation (RSD)."
   ]
  },
  {
   "cell_type": "code",
   "execution_count": 38,
   "id": "5f1da12e",
   "metadata": {
    "jupyter": {
     "source_hidden": true
    },
    "tags": []
   },
   "outputs": [],
   "source": [
    "for row in corr_pairs:\n",
    "    if target_feat in row:\n",
    "        continue\n",
    "    elif row[0] in list_drop_corr:\n",
    "        continue\n",
    "    elif row[1] in list_drop_corr:\n",
    "        continue\n",
    "    else:\n",
    "        metric_a = rsd_vals[row[0]]\n",
    "        metric_b = rsd_vals[row[1]]\n",
    "        if metric_a >= metric_b:\n",
    "            list_drop_corr.append(row[1])\n",
    "        else:\n",
    "            list_drop_corr.append(row[0])"
   ]
  },
  {
   "cell_type": "code",
   "execution_count": 39,
   "id": "f53829a2",
   "metadata": {},
   "outputs": [
    {
     "data": {
      "text/plain": [
       "['g_H',\n",
       " 'r_H',\n",
       " 'y_H',\n",
       " 'i_H',\n",
       " 'z_H',\n",
       " 'J_W1',\n",
       " 'J_W2',\n",
       " 'g_K',\n",
       " 'r_K',\n",
       " 'gmag',\n",
       " 'i_K',\n",
       " 'y_K',\n",
       " 'z_K',\n",
       " 'rmag',\n",
       " 'imag',\n",
       " 'ymag',\n",
       " 'zmag',\n",
       " 'H_W1',\n",
       " 'K_W1',\n",
       " 'J_W3',\n",
       " 'W1mproPM',\n",
       " 'g_W4',\n",
       " 'H_W2',\n",
       " 'K_W2',\n",
       " 'W2mproPM',\n",
       " 'Jmag',\n",
       " 'r_W4',\n",
       " 'J_W4',\n",
       " 'i_W4',\n",
       " 'y_W4',\n",
       " 'g_W2',\n",
       " 'z_W4',\n",
       " 'g_W3',\n",
       " 'W1_W4',\n",
       " 'r_W3',\n",
       " 'r_W2',\n",
       " 'W2_W4',\n",
       " 'y_W3',\n",
       " 'i_W3',\n",
       " 'z_W3',\n",
       " 'g_y',\n",
       " 'Kmag',\n",
       " 'J_K',\n",
       " 'g_z',\n",
       " 'W3mag',\n",
       " 'H_W3',\n",
       " 'i_J',\n",
       " 'z_J',\n",
       " 'i_W1',\n",
       " 'y_W1',\n",
       " 'Hmag',\n",
       " 'z_W1',\n",
       " 'W2_W3',\n",
       " 'g_W1',\n",
       " 'i_W2',\n",
       " 'g_J',\n",
       " 'K_W4',\n",
       " 'z_W2',\n",
       " 'W3_W4',\n",
       " 'r_y',\n",
       " 'g_i',\n",
       " 'band_num']"
      ]
     },
     "execution_count": 39,
     "metadata": {},
     "output_type": "execute_result"
    }
   ],
   "source": [
    "list_drop_corr"
   ]
  },
  {
   "cell_type": "code",
   "execution_count": 40,
   "id": "e3fe7f9f",
   "metadata": {},
   "outputs": [],
   "source": [
    "# correlation.abs().unstack().sort_values(ascending=False).drop_duplicates()[:15]"
   ]
  },
  {
   "cell_type": "code",
   "execution_count": 41,
   "id": "31a046cd",
   "metadata": {},
   "outputs": [],
   "source": [
    "norm_train_test_discard = norm_train_test_df.drop(columns=list_drop_corr)"
   ]
  },
  {
   "cell_type": "code",
   "execution_count": 42,
   "id": "81666d61",
   "metadata": {},
   "outputs": [],
   "source": [
    "corr_discard = norm_train_test_discard.corr()"
   ]
  },
  {
   "cell_type": "code",
   "execution_count": 43,
   "id": "0f151bbb",
   "metadata": {},
   "outputs": [
    {
     "data": {
      "text/plain": [
       "W4mag  W4mag    1.000000\n",
       "W1_W2  class    0.804954\n",
       "y_J    r_J      0.746646\n",
       "H_K    H_W4     0.743238\n",
       "r_i    r_z      0.736943\n",
       "r_W1   r_J      0.726136\n",
       "y_W2   y_J      0.700673\n",
       "r_W1   r_z      0.673117\n",
       "i_y    z_y      0.623165\n",
       "r_i    r_W1     0.617702\n",
       "W4mag  K_W3     0.587397\n",
       "W1_W2  W1_W3    0.579745\n",
       "i_z    i_y      0.560767\n",
       "W1_W3  y_J      0.555987\n",
       "r_J    r_z      0.539890\n",
       "dtype: float64"
      ]
     },
     "execution_count": 43,
     "metadata": {},
     "output_type": "execute_result"
    }
   ],
   "source": [
    "corr_discard.abs().unstack().sort_values(ascending=False).drop_duplicates()[:15]"
   ]
  },
  {
   "cell_type": "code",
   "execution_count": 44,
   "id": "f8ecdb3b",
   "metadata": {
    "jupyter": {
     "source_hidden": true
    },
    "tags": []
   },
   "outputs": [
    {
     "data": {
      "image/png": "[encoded data removed]",
      "text/plain": [
       "<Figure size 3000x1500 with 2 Axes>"
      ]
     },
     "metadata": {},
     "output_type": "display_data"
    }
   ],
   "source": [
    "plt.figure(figsize=(30,15))\n",
    "sns.set_context('paper', rc={'axes.labelsize':20, 'axes.ticklabelsize':14})\n",
    "ax1 = sns.heatmap(corr_discard, annot=True, cmap=plt.get_cmap('cet_CET_D1A'), center=0.0, square=True)\n",
    "ax1.set_xlabel('feature')\n",
    "ax1.set_ylabel('feature')\n",
    "plt.show()"
   ]
  },
  {
   "cell_type": "code",
   "execution_count": 45,
   "id": "c068646f",
   "metadata": {},
   "outputs": [],
   "source": [
    "norm_train_test_discard.loc[:, 'class'] = norm_train_test_discard.loc[:, 'class'].astype(bool)"
   ]
  },
  {
   "cell_type": "code",
   "execution_count": 46,
   "id": "9a6ecd2a",
   "metadata": {},
   "outputs": [],
   "source": [
    "pps_matrix = pps.matrix(norm_train_test_discard, random_seed=seed)[['x', 'y', 'ppscore']].pivot(columns='x', index='y', values='ppscore')"
   ]
  },
  {
   "cell_type": "code",
   "execution_count": 47,
   "id": "9f7951d9",
   "metadata": {},
   "outputs": [
    {
     "data": {
      "text/plain": [
       "x      y    \n",
       "H_K    H_K      1.000000\n",
       "W1_W2  class    0.748207\n",
       "H_W4   H_K      0.672112\n",
       "g_r    class    0.579278\n",
       "r_z    class    0.509873\n",
       "class  W1_W2    0.509464\n",
       "r_i    class    0.503215\n",
       "r_z    r_i      0.383535\n",
       "r_i    r_z      0.374715\n",
       "J_H    H_K      0.320767\n",
       "H_K    H_W4     0.312610\n",
       "y_J    r_J      0.288503\n",
       "i_y    class    0.278633\n",
       "W1_W3  class    0.269857\n",
       "y_W2   class    0.268519\n",
       "r_W1   class    0.254614\n",
       "class  r_z      0.247686\n",
       "       g_r      0.244030\n",
       "i_z    class    0.234986\n",
       "y_W2   y_J      0.231780\n",
       "dtype: float64"
      ]
     },
     "execution_count": 47,
     "metadata": {},
     "output_type": "execute_result"
    }
   ],
   "source": [
    "pps_matrix.unstack().sort_values(ascending=False).drop_duplicates()[:20]"
   ]
  },
  {
   "cell_type": "code",
   "execution_count": 48,
   "id": "532373e0",
   "metadata": {
    "jupyter": {
     "source_hidden": true
    },
    "tags": []
   },
   "outputs": [],
   "source": [
    "filt_high_pps = np.array(pps_matrix.abs().unstack().sort_values(ascending=False).drop_duplicates().values > 0.75) &\\\n",
    "np.array(pps_matrix.abs().unstack().sort_values(ascending=False).drop_duplicates().values < 1.00)"
   ]
  },
  {
   "cell_type": "code",
   "execution_count": 49,
   "id": "64f17465",
   "metadata": {},
   "outputs": [],
   "source": [
    "pps_pairs     = pps_matrix.abs().unstack().sort_values(ascending=False).drop_duplicates().index[filt_high_pps]"
   ]
  },
  {
   "cell_type": "code",
   "execution_count": 50,
   "id": "76cd2acf",
   "metadata": {},
   "outputs": [],
   "source": [
    "target_feat = 'class'"
   ]
  },
  {
   "cell_type": "code",
   "execution_count": 51,
   "id": "c0208348",
   "metadata": {
    "tags": []
   },
   "outputs": [],
   "source": [
    "list_drop_pps = []"
   ]
  },
  {
   "cell_type": "code",
   "execution_count": 52,
   "id": "587c0b09",
   "metadata": {
    "jupyter": {
     "source_hidden": true
    },
    "tags": []
   },
   "outputs": [],
   "source": [
    "for row in pps_pairs:\n",
    "    if target_feat in row:\n",
    "        continue\n",
    "    elif row[0] in list_drop_pps:\n",
    "        continue\n",
    "    elif row[1] in list_drop_pps:\n",
    "        continue\n",
    "    else:\n",
    "        metric_a = rsd_vals[row[0]]\n",
    "        metric_b = rsd_vals[row[1]]\n",
    "        if metric_a >= metric_b:\n",
    "            list_drop_pps.append(row[1])\n",
    "        else:\n",
    "            list_drop_pps.append(row[0])"
   ]
  },
  {
   "cell_type": "code",
   "execution_count": 53,
   "id": "4182d26a",
   "metadata": {},
   "outputs": [
    {
     "data": {
      "text/plain": [
       "[]"
      ]
     },
     "execution_count": 53,
     "metadata": {},
     "output_type": "execute_result"
    }
   ],
   "source": [
    "list_drop_pps"
   ]
  },
  {
   "cell_type": "code",
   "execution_count": 54,
   "id": "558b4c49",
   "metadata": {},
   "outputs": [],
   "source": [
    "norm_train_test_discard = norm_train_test_discard.drop(columns=list_drop_pps)"
   ]
  },
  {
   "cell_type": "code",
   "execution_count": 55,
   "id": "c362cab2",
   "metadata": {},
   "outputs": [],
   "source": [
    "pps_pred_target = pps.predictors(norm_train_test_discard, 'class', random_seed=seed)"
   ]
  },
  {
   "cell_type": "code",
   "execution_count": 56,
   "id": "06a8708f",
   "metadata": {},
   "outputs": [
    {
     "data": {
      "text/html": [
       "<div>\n",
       "<style scoped>\n",
       "    .dataframe tbody tr th:only-of-type {\n",
       "        vertical-align: middle;\n",
       "    }\n",
       "\n",
       "    .dataframe tbody tr th {\n",
       "        vertical-align: top;\n",
       "    }\n",
       "\n",
       "    .dataframe thead th {\n",
       "        text-align: right;\n",
       "    }\n",
       "</style>\n",
       "<table border=\"1\" class=\"dataframe\">\n",
       "  <thead>\n",
       "    <tr style=\"text-align: right;\">\n",
       "      <th></th>\n",
       "      <th>x</th>\n",
       "      <th>y</th>\n",
       "      <th>ppscore</th>\n",
       "      <th>case</th>\n",
       "      <th>is_valid_score</th>\n",
       "      <th>metric</th>\n",
       "      <th>baseline_score</th>\n",
       "      <th>model_score</th>\n",
       "      <th>model</th>\n",
       "    </tr>\n",
       "  </thead>\n",
       "  <tbody>\n",
       "    <tr>\n",
       "      <th>0</th>\n",
       "      <td>W1_W2</td>\n",
       "      <td>class</td>\n",
       "      <td>0.748207</td>\n",
       "      <td>classification</td>\n",
       "      <td>True</td>\n",
       "      <td>weighted F1</td>\n",
       "      <td>0.547475</td>\n",
       "      <td>0.886057</td>\n",
       "      <td>DecisionTreeClassifier()</td>\n",
       "    </tr>\n",
       "    <tr>\n",
       "      <th>1</th>\n",
       "      <td>g_r</td>\n",
       "      <td>class</td>\n",
       "      <td>0.579278</td>\n",
       "      <td>classification</td>\n",
       "      <td>True</td>\n",
       "      <td>weighted F1</td>\n",
       "      <td>0.547475</td>\n",
       "      <td>0.809612</td>\n",
       "      <td>DecisionTreeClassifier()</td>\n",
       "    </tr>\n",
       "    <tr>\n",
       "      <th>2</th>\n",
       "      <td>r_z</td>\n",
       "      <td>class</td>\n",
       "      <td>0.509873</td>\n",
       "      <td>classification</td>\n",
       "      <td>True</td>\n",
       "      <td>weighted F1</td>\n",
       "      <td>0.547475</td>\n",
       "      <td>0.778205</td>\n",
       "      <td>DecisionTreeClassifier()</td>\n",
       "    </tr>\n",
       "    <tr>\n",
       "      <th>3</th>\n",
       "      <td>r_i</td>\n",
       "      <td>class</td>\n",
       "      <td>0.503215</td>\n",
       "      <td>classification</td>\n",
       "      <td>True</td>\n",
       "      <td>weighted F1</td>\n",
       "      <td>0.547475</td>\n",
       "      <td>0.775192</td>\n",
       "      <td>DecisionTreeClassifier()</td>\n",
       "    </tr>\n",
       "    <tr>\n",
       "      <th>4</th>\n",
       "      <td>i_y</td>\n",
       "      <td>class</td>\n",
       "      <td>0.278633</td>\n",
       "      <td>classification</td>\n",
       "      <td>True</td>\n",
       "      <td>weighted F1</td>\n",
       "      <td>0.547475</td>\n",
       "      <td>0.673563</td>\n",
       "      <td>DecisionTreeClassifier()</td>\n",
       "    </tr>\n",
       "    <tr>\n",
       "      <th>5</th>\n",
       "      <td>W1_W3</td>\n",
       "      <td>class</td>\n",
       "      <td>0.269857</td>\n",
       "      <td>classification</td>\n",
       "      <td>True</td>\n",
       "      <td>weighted F1</td>\n",
       "      <td>0.547475</td>\n",
       "      <td>0.669592</td>\n",
       "      <td>DecisionTreeClassifier()</td>\n",
       "    </tr>\n",
       "    <tr>\n",
       "      <th>6</th>\n",
       "      <td>y_W2</td>\n",
       "      <td>class</td>\n",
       "      <td>0.268519</td>\n",
       "      <td>classification</td>\n",
       "      <td>True</td>\n",
       "      <td>weighted F1</td>\n",
       "      <td>0.547475</td>\n",
       "      <td>0.668986</td>\n",
       "      <td>DecisionTreeClassifier()</td>\n",
       "    </tr>\n",
       "    <tr>\n",
       "      <th>7</th>\n",
       "      <td>r_W1</td>\n",
       "      <td>class</td>\n",
       "      <td>0.254614</td>\n",
       "      <td>classification</td>\n",
       "      <td>True</td>\n",
       "      <td>weighted F1</td>\n",
       "      <td>0.547475</td>\n",
       "      <td>0.662694</td>\n",
       "      <td>DecisionTreeClassifier()</td>\n",
       "    </tr>\n",
       "    <tr>\n",
       "      <th>8</th>\n",
       "      <td>i_z</td>\n",
       "      <td>class</td>\n",
       "      <td>0.234986</td>\n",
       "      <td>classification</td>\n",
       "      <td>True</td>\n",
       "      <td>weighted F1</td>\n",
       "      <td>0.547475</td>\n",
       "      <td>0.653812</td>\n",
       "      <td>DecisionTreeClassifier()</td>\n",
       "    </tr>\n",
       "    <tr>\n",
       "      <th>9</th>\n",
       "      <td>y_J</td>\n",
       "      <td>class</td>\n",
       "      <td>0.195701</td>\n",
       "      <td>classification</td>\n",
       "      <td>True</td>\n",
       "      <td>weighted F1</td>\n",
       "      <td>0.547475</td>\n",
       "      <td>0.636034</td>\n",
       "      <td>DecisionTreeClassifier()</td>\n",
       "    </tr>\n",
       "    <tr>\n",
       "      <th>10</th>\n",
       "      <td>z_y</td>\n",
       "      <td>class</td>\n",
       "      <td>0.107011</td>\n",
       "      <td>classification</td>\n",
       "      <td>True</td>\n",
       "      <td>weighted F1</td>\n",
       "      <td>0.547475</td>\n",
       "      <td>0.595900</td>\n",
       "      <td>DecisionTreeClassifier()</td>\n",
       "    </tr>\n",
       "    <tr>\n",
       "      <th>11</th>\n",
       "      <td>r_J</td>\n",
       "      <td>class</td>\n",
       "      <td>0.105414</td>\n",
       "      <td>classification</td>\n",
       "      <td>True</td>\n",
       "      <td>weighted F1</td>\n",
       "      <td>0.547475</td>\n",
       "      <td>0.595177</td>\n",
       "      <td>DecisionTreeClassifier()</td>\n",
       "    </tr>\n",
       "    <tr>\n",
       "      <th>12</th>\n",
       "      <td>K_W3</td>\n",
       "      <td>class</td>\n",
       "      <td>0.045375</td>\n",
       "      <td>classification</td>\n",
       "      <td>True</td>\n",
       "      <td>weighted F1</td>\n",
       "      <td>0.547475</td>\n",
       "      <td>0.568008</td>\n",
       "      <td>DecisionTreeClassifier()</td>\n",
       "    </tr>\n",
       "    <tr>\n",
       "      <th>13</th>\n",
       "      <td>W4mag</td>\n",
       "      <td>class</td>\n",
       "      <td>0.000000</td>\n",
       "      <td>classification</td>\n",
       "      <td>True</td>\n",
       "      <td>weighted F1</td>\n",
       "      <td>0.547475</td>\n",
       "      <td>0.538440</td>\n",
       "      <td>DecisionTreeClassifier()</td>\n",
       "    </tr>\n",
       "    <tr>\n",
       "      <th>14</th>\n",
       "      <td>J_H</td>\n",
       "      <td>class</td>\n",
       "      <td>0.000000</td>\n",
       "      <td>classification</td>\n",
       "      <td>True</td>\n",
       "      <td>weighted F1</td>\n",
       "      <td>0.547475</td>\n",
       "      <td>0.523638</td>\n",
       "      <td>DecisionTreeClassifier()</td>\n",
       "    </tr>\n",
       "    <tr>\n",
       "      <th>15</th>\n",
       "      <td>H_K</td>\n",
       "      <td>class</td>\n",
       "      <td>0.000000</td>\n",
       "      <td>classification</td>\n",
       "      <td>True</td>\n",
       "      <td>weighted F1</td>\n",
       "      <td>0.547475</td>\n",
       "      <td>0.518380</td>\n",
       "      <td>DecisionTreeClassifier()</td>\n",
       "    </tr>\n",
       "    <tr>\n",
       "      <th>16</th>\n",
       "      <td>H_W4</td>\n",
       "      <td>class</td>\n",
       "      <td>0.000000</td>\n",
       "      <td>classification</td>\n",
       "      <td>True</td>\n",
       "      <td>weighted F1</td>\n",
       "      <td>0.547475</td>\n",
       "      <td>0.538916</td>\n",
       "      <td>DecisionTreeClassifier()</td>\n",
       "    </tr>\n",
       "  </tbody>\n",
       "</table>\n",
       "</div>"
      ],
      "text/plain": [
       "        x      y   ppscore            case  is_valid_score       metric  \\\n",
       "0   W1_W2  class  0.748207  classification            True  weighted F1   \n",
       "1     g_r  class  0.579278  classification            True  weighted F1   \n",
       "2     r_z  class  0.509873  classification            True  weighted F1   \n",
       "3     r_i  class  0.503215  classification            True  weighted F1   \n",
       "4     i_y  class  0.278633  classification            True  weighted F1   \n",
       "5   W1_W3  class  0.269857  classification            True  weighted F1   \n",
       "6    y_W2  class  0.268519  classification            True  weighted F1   \n",
       "7    r_W1  class  0.254614  classification            True  weighted F1   \n",
       "8     i_z  class  0.234986  classification            True  weighted F1   \n",
       "9     y_J  class  0.195701  classification            True  weighted F1   \n",
       "10    z_y  class  0.107011  classification            True  weighted F1   \n",
       "11    r_J  class  0.105414  classification            True  weighted F1   \n",
       "12   K_W3  class  0.045375  classification            True  weighted F1   \n",
       "13  W4mag  class  0.000000  classification            True  weighted F1   \n",
       "14    J_H  class  0.000000  classification            True  weighted F1   \n",
       "15    H_K  class  0.000000  classification            True  weighted F1   \n",
       "16   H_W4  class  0.000000  classification            True  weighted F1   \n",
       "\n",
       "    baseline_score  model_score                     model  \n",
       "0         0.547475     0.886057  DecisionTreeClassifier()  \n",
       "1         0.547475     0.809612  DecisionTreeClassifier()  \n",
       "2         0.547475     0.778205  DecisionTreeClassifier()  \n",
       "3         0.547475     0.775192  DecisionTreeClassifier()  \n",
       "4         0.547475     0.673563  DecisionTreeClassifier()  \n",
       "5         0.547475     0.669592  DecisionTreeClassifier()  \n",
       "6         0.547475     0.668986  DecisionTreeClassifier()  \n",
       "7         0.547475     0.662694  DecisionTreeClassifier()  \n",
       "8         0.547475     0.653812  DecisionTreeClassifier()  \n",
       "9         0.547475     0.636034  DecisionTreeClassifier()  \n",
       "10        0.547475     0.595900  DecisionTreeClassifier()  \n",
       "11        0.547475     0.595177  DecisionTreeClassifier()  \n",
       "12        0.547475     0.568008  DecisionTreeClassifier()  \n",
       "13        0.547475     0.538440  DecisionTreeClassifier()  \n",
       "14        0.547475     0.523638  DecisionTreeClassifier()  \n",
       "15        0.547475     0.518380  DecisionTreeClassifier()  \n",
       "16        0.547475     0.538916  DecisionTreeClassifier()  "
      ]
     },
     "execution_count": 56,
     "metadata": {},
     "output_type": "execute_result"
    }
   ],
   "source": [
    "pps_pred_target"
   ]
  },
  {
   "cell_type": "markdown",
   "id": "b7262d29",
   "metadata": {
    "id": "f567638a-2720-4d09-8fc4-0832c0307148"
   },
   "source": [
    "---"
   ]
  },
  {
   "cell_type": "markdown",
   "id": "80ff393a",
   "metadata": {
    "id": "1b55b413-36ea-4c3a-b261-ae4f4b71045d"
   },
   "source": [
    "## Use Machine Learning (ML): PyCaret"
   ]
  },
  {
   "cell_type": "markdown",
   "id": "0b13bc71",
   "metadata": {
    "id": "8BFUMLcApfnI"
   },
   "source": [
    "## Train Models"
   ]
  },
  {
   "cell_type": "markdown",
   "id": "a54bc943",
   "metadata": {
    "id": "L0rK_gTcprFK"
   },
   "source": [
    "### AGN Detection Prediction"
   ]
  },
  {
   "cell_type": "code",
   "execution_count": 57,
   "id": "e3ada887",
   "metadata": {},
   "outputs": [],
   "source": [
    "# final_feats = pps_pred_target.x.to_list()  # Before Boruta\n",
    "final_feats = pps_pred_target.x.to_list()  # After Boruta"
   ]
  },
  {
   "cell_type": "code",
   "execution_count": 58,
   "id": "f7a4dd79",
   "metadata": {},
   "outputs": [],
   "source": [
    "feats_2_discard = list_drop_corr + list_drop_pps"
   ]
  },
  {
   "cell_type": "markdown",
   "id": "1eab424a",
   "metadata": {},
   "source": [
    "Boruta discards one feature."
   ]
  },
  {
   "cell_type": "code",
   "execution_count": 67,
   "id": "0434b4b6",
   "metadata": {
    "id": "ttLEcpmVst4j"
   },
   "outputs": [
    {
     "data": {
      "text/html": [
       "<style type=\"text/css\">\n",
       "#T_2b683_row29_col1, #T_2b683_row31_col1, #T_2b683_row44_col1 {\n",
       "  background-color: lightgreen;\n",
       "}\n",
       "</style>\n",
       "<table id=\"T_2b683\">\n",
       "  <thead>\n",
       "    <tr>\n",
       "      <th class=\"blank level0\" >&nbsp;</th>\n",
       "      <th id=\"T_2b683_level0_col0\" class=\"col_heading level0 col0\" >Description</th>\n",
       "      <th id=\"T_2b683_level0_col1\" class=\"col_heading level0 col1\" >Value</th>\n",
       "    </tr>\n",
       "  </thead>\n",
       "  <tbody>\n",
       "    <tr>\n",
       "      <th id=\"T_2b683_level0_row0\" class=\"row_heading level0 row0\" >0</th>\n",
       "      <td id=\"T_2b683_row0_col0\" class=\"data row0 col0\" >session_id</td>\n",
       "      <td id=\"T_2b683_row0_col1\" class=\"data row0 col1\" >42</td>\n",
       "    </tr>\n",
       "    <tr>\n",
       "      <th id=\"T_2b683_level0_row1\" class=\"row_heading level0 row1\" >1</th>\n",
       "      <td id=\"T_2b683_row1_col0\" class=\"data row1 col0\" >Target</td>\n",
       "      <td id=\"T_2b683_row1_col1\" class=\"data row1 col1\" >class</td>\n",
       "    </tr>\n",
       "    <tr>\n",
       "      <th id=\"T_2b683_level0_row2\" class=\"row_heading level0 row2\" >2</th>\n",
       "      <td id=\"T_2b683_row2_col0\" class=\"data row2 col0\" >Target Type</td>\n",
       "      <td id=\"T_2b683_row2_col1\" class=\"data row2 col1\" >Binary</td>\n",
       "    </tr>\n",
       "    <tr>\n",
       "      <th id=\"T_2b683_level0_row3\" class=\"row_heading level0 row3\" >3</th>\n",
       "      <td id=\"T_2b683_row3_col0\" class=\"data row3 col0\" >Label Encoded</td>\n",
       "      <td id=\"T_2b683_row3_col1\" class=\"data row3 col1\" >None</td>\n",
       "    </tr>\n",
       "    <tr>\n",
       "      <th id=\"T_2b683_level0_row4\" class=\"row_heading level0 row4\" >4</th>\n",
       "      <td id=\"T_2b683_row4_col0\" class=\"data row4 col0\" >Original Data</td>\n",
       "      <td id=\"T_2b683_row4_col1\" class=\"data row4 col1\" >(4950, 80)</td>\n",
       "    </tr>\n",
       "    <tr>\n",
       "      <th id=\"T_2b683_level0_row5\" class=\"row_heading level0 row5\" >5</th>\n",
       "      <td id=\"T_2b683_row5_col0\" class=\"data row5 col0\" >Missing Values</td>\n",
       "      <td id=\"T_2b683_row5_col1\" class=\"data row5 col1\" >False</td>\n",
       "    </tr>\n",
       "    <tr>\n",
       "      <th id=\"T_2b683_level0_row6\" class=\"row_heading level0 row6\" >6</th>\n",
       "      <td id=\"T_2b683_row6_col0\" class=\"data row6 col0\" >Numeric Features</td>\n",
       "      <td id=\"T_2b683_row6_col1\" class=\"data row6 col1\" >17</td>\n",
       "    </tr>\n",
       "    <tr>\n",
       "      <th id=\"T_2b683_level0_row7\" class=\"row_heading level0 row7\" >7</th>\n",
       "      <td id=\"T_2b683_row7_col0\" class=\"data row7 col0\" >Categorical Features</td>\n",
       "      <td id=\"T_2b683_row7_col1\" class=\"data row7 col1\" >0</td>\n",
       "    </tr>\n",
       "    <tr>\n",
       "      <th id=\"T_2b683_level0_row8\" class=\"row_heading level0 row8\" >8</th>\n",
       "      <td id=\"T_2b683_row8_col0\" class=\"data row8 col0\" >Ordinal Features</td>\n",
       "      <td id=\"T_2b683_row8_col1\" class=\"data row8 col1\" >False</td>\n",
       "    </tr>\n",
       "    <tr>\n",
       "      <th id=\"T_2b683_level0_row9\" class=\"row_heading level0 row9\" >9</th>\n",
       "      <td id=\"T_2b683_row9_col0\" class=\"data row9 col0\" >High Cardinality Features</td>\n",
       "      <td id=\"T_2b683_row9_col1\" class=\"data row9 col1\" >False</td>\n",
       "    </tr>\n",
       "    <tr>\n",
       "      <th id=\"T_2b683_level0_row10\" class=\"row_heading level0 row10\" >10</th>\n",
       "      <td id=\"T_2b683_row10_col0\" class=\"data row10 col0\" >High Cardinality Method</td>\n",
       "      <td id=\"T_2b683_row10_col1\" class=\"data row10 col1\" >None</td>\n",
       "    </tr>\n",
       "    <tr>\n",
       "      <th id=\"T_2b683_level0_row11\" class=\"row_heading level0 row11\" >11</th>\n",
       "      <td id=\"T_2b683_row11_col0\" class=\"data row11 col0\" >Transformed Train Set</td>\n",
       "      <td id=\"T_2b683_row11_col1\" class=\"data row11 col1\" >(3464, 17)</td>\n",
       "    </tr>\n",
       "    <tr>\n",
       "      <th id=\"T_2b683_level0_row12\" class=\"row_heading level0 row12\" >12</th>\n",
       "      <td id=\"T_2b683_row12_col0\" class=\"data row12 col0\" >Transformed Test Set</td>\n",
       "      <td id=\"T_2b683_row12_col1\" class=\"data row12 col1\" >(1486, 17)</td>\n",
       "    </tr>\n",
       "    <tr>\n",
       "      <th id=\"T_2b683_level0_row13\" class=\"row_heading level0 row13\" >13</th>\n",
       "      <td id=\"T_2b683_row13_col0\" class=\"data row13 col0\" >Shuffle Train-Test</td>\n",
       "      <td id=\"T_2b683_row13_col1\" class=\"data row13 col1\" >True</td>\n",
       "    </tr>\n",
       "    <tr>\n",
       "      <th id=\"T_2b683_level0_row14\" class=\"row_heading level0 row14\" >14</th>\n",
       "      <td id=\"T_2b683_row14_col0\" class=\"data row14 col0\" >Stratify Train-Test</td>\n",
       "      <td id=\"T_2b683_row14_col1\" class=\"data row14 col1\" >True</td>\n",
       "    </tr>\n",
       "    <tr>\n",
       "      <th id=\"T_2b683_level0_row15\" class=\"row_heading level0 row15\" >15</th>\n",
       "      <td id=\"T_2b683_row15_col0\" class=\"data row15 col0\" >Fold Generator</td>\n",
       "      <td id=\"T_2b683_row15_col1\" class=\"data row15 col1\" >StratifiedKFold</td>\n",
       "    </tr>\n",
       "    <tr>\n",
       "      <th id=\"T_2b683_level0_row16\" class=\"row_heading level0 row16\" >16</th>\n",
       "      <td id=\"T_2b683_row16_col0\" class=\"data row16 col0\" >Fold Number</td>\n",
       "      <td id=\"T_2b683_row16_col1\" class=\"data row16 col1\" >10</td>\n",
       "    </tr>\n",
       "    <tr>\n",
       "      <th id=\"T_2b683_level0_row17\" class=\"row_heading level0 row17\" >17</th>\n",
       "      <td id=\"T_2b683_row17_col0\" class=\"data row17 col0\" >CPU Jobs</td>\n",
       "      <td id=\"T_2b683_row17_col1\" class=\"data row17 col1\" >12</td>\n",
       "    </tr>\n",
       "    <tr>\n",
       "      <th id=\"T_2b683_level0_row18\" class=\"row_heading level0 row18\" >18</th>\n",
       "      <td id=\"T_2b683_row18_col0\" class=\"data row18 col0\" >Use GPU</td>\n",
       "      <td id=\"T_2b683_row18_col1\" class=\"data row18 col1\" >False</td>\n",
       "    </tr>\n",
       "    <tr>\n",
       "      <th id=\"T_2b683_level0_row19\" class=\"row_heading level0 row19\" >19</th>\n",
       "      <td id=\"T_2b683_row19_col0\" class=\"data row19 col0\" >Log Experiment</td>\n",
       "      <td id=\"T_2b683_row19_col1\" class=\"data row19 col1\" >False</td>\n",
       "    </tr>\n",
       "    <tr>\n",
       "      <th id=\"T_2b683_level0_row20\" class=\"row_heading level0 row20\" >20</th>\n",
       "      <td id=\"T_2b683_row20_col0\" class=\"data row20 col0\" >Experiment Name</td>\n",
       "      <td id=\"T_2b683_row20_col1\" class=\"data row20 col1\" >clf-default-name</td>\n",
       "    </tr>\n",
       "    <tr>\n",
       "      <th id=\"T_2b683_level0_row21\" class=\"row_heading level0 row21\" >21</th>\n",
       "      <td id=\"T_2b683_row21_col0\" class=\"data row21 col0\" >USI</td>\n",
       "      <td id=\"T_2b683_row21_col1\" class=\"data row21 col1\" >eb33</td>\n",
       "    </tr>\n",
       "    <tr>\n",
       "      <th id=\"T_2b683_level0_row22\" class=\"row_heading level0 row22\" >22</th>\n",
       "      <td id=\"T_2b683_row22_col0\" class=\"data row22 col0\" >Imputation Type</td>\n",
       "      <td id=\"T_2b683_row22_col1\" class=\"data row22 col1\" >simple</td>\n",
       "    </tr>\n",
       "    <tr>\n",
       "      <th id=\"T_2b683_level0_row23\" class=\"row_heading level0 row23\" >23</th>\n",
       "      <td id=\"T_2b683_row23_col0\" class=\"data row23 col0\" >Iterative Imputation Iteration</td>\n",
       "      <td id=\"T_2b683_row23_col1\" class=\"data row23 col1\" >None</td>\n",
       "    </tr>\n",
       "    <tr>\n",
       "      <th id=\"T_2b683_level0_row24\" class=\"row_heading level0 row24\" >24</th>\n",
       "      <td id=\"T_2b683_row24_col0\" class=\"data row24 col0\" >Numeric Imputer</td>\n",
       "      <td id=\"T_2b683_row24_col1\" class=\"data row24 col1\" >mean</td>\n",
       "    </tr>\n",
       "    <tr>\n",
       "      <th id=\"T_2b683_level0_row25\" class=\"row_heading level0 row25\" >25</th>\n",
       "      <td id=\"T_2b683_row25_col0\" class=\"data row25 col0\" >Iterative Imputation Numeric Model</td>\n",
       "      <td id=\"T_2b683_row25_col1\" class=\"data row25 col1\" >None</td>\n",
       "    </tr>\n",
       "    <tr>\n",
       "      <th id=\"T_2b683_level0_row26\" class=\"row_heading level0 row26\" >26</th>\n",
       "      <td id=\"T_2b683_row26_col0\" class=\"data row26 col0\" >Categorical Imputer</td>\n",
       "      <td id=\"T_2b683_row26_col1\" class=\"data row26 col1\" >constant</td>\n",
       "    </tr>\n",
       "    <tr>\n",
       "      <th id=\"T_2b683_level0_row27\" class=\"row_heading level0 row27\" >27</th>\n",
       "      <td id=\"T_2b683_row27_col0\" class=\"data row27 col0\" >Iterative Imputation Categorical Model</td>\n",
       "      <td id=\"T_2b683_row27_col1\" class=\"data row27 col1\" >None</td>\n",
       "    </tr>\n",
       "    <tr>\n",
       "      <th id=\"T_2b683_level0_row28\" class=\"row_heading level0 row28\" >28</th>\n",
       "      <td id=\"T_2b683_row28_col0\" class=\"data row28 col0\" >Unknown Categoricals Handling</td>\n",
       "      <td id=\"T_2b683_row28_col1\" class=\"data row28 col1\" >least_frequent</td>\n",
       "    </tr>\n",
       "    <tr>\n",
       "      <th id=\"T_2b683_level0_row29\" class=\"row_heading level0 row29\" >29</th>\n",
       "      <td id=\"T_2b683_row29_col0\" class=\"data row29 col0\" >Normalize</td>\n",
       "      <td id=\"T_2b683_row29_col1\" class=\"data row29 col1\" >True</td>\n",
       "    </tr>\n",
       "    <tr>\n",
       "      <th id=\"T_2b683_level0_row30\" class=\"row_heading level0 row30\" >30</th>\n",
       "      <td id=\"T_2b683_row30_col0\" class=\"data row30 col0\" >Normalize Method</td>\n",
       "      <td id=\"T_2b683_row30_col1\" class=\"data row30 col1\" >zscore</td>\n",
       "    </tr>\n",
       "    <tr>\n",
       "      <th id=\"T_2b683_level0_row31\" class=\"row_heading level0 row31\" >31</th>\n",
       "      <td id=\"T_2b683_row31_col0\" class=\"data row31 col0\" >Transformation</td>\n",
       "      <td id=\"T_2b683_row31_col1\" class=\"data row31 col1\" >True</td>\n",
       "    </tr>\n",
       "    <tr>\n",
       "      <th id=\"T_2b683_level0_row32\" class=\"row_heading level0 row32\" >32</th>\n",
       "      <td id=\"T_2b683_row32_col0\" class=\"data row32 col0\" >Transformation Method</td>\n",
       "      <td id=\"T_2b683_row32_col1\" class=\"data row32 col1\" >yeo-johnson</td>\n",
       "    </tr>\n",
       "    <tr>\n",
       "      <th id=\"T_2b683_level0_row33\" class=\"row_heading level0 row33\" >33</th>\n",
       "      <td id=\"T_2b683_row33_col0\" class=\"data row33 col0\" >PCA</td>\n",
       "      <td id=\"T_2b683_row33_col1\" class=\"data row33 col1\" >False</td>\n",
       "    </tr>\n",
       "    <tr>\n",
       "      <th id=\"T_2b683_level0_row34\" class=\"row_heading level0 row34\" >34</th>\n",
       "      <td id=\"T_2b683_row34_col0\" class=\"data row34 col0\" >PCA Method</td>\n",
       "      <td id=\"T_2b683_row34_col1\" class=\"data row34 col1\" >None</td>\n",
       "    </tr>\n",
       "    <tr>\n",
       "      <th id=\"T_2b683_level0_row35\" class=\"row_heading level0 row35\" >35</th>\n",
       "      <td id=\"T_2b683_row35_col0\" class=\"data row35 col0\" >PCA Components</td>\n",
       "      <td id=\"T_2b683_row35_col1\" class=\"data row35 col1\" >None</td>\n",
       "    </tr>\n",
       "    <tr>\n",
       "      <th id=\"T_2b683_level0_row36\" class=\"row_heading level0 row36\" >36</th>\n",
       "      <td id=\"T_2b683_row36_col0\" class=\"data row36 col0\" >Ignore Low Variance</td>\n",
       "      <td id=\"T_2b683_row36_col1\" class=\"data row36 col1\" >False</td>\n",
       "    </tr>\n",
       "    <tr>\n",
       "      <th id=\"T_2b683_level0_row37\" class=\"row_heading level0 row37\" >37</th>\n",
       "      <td id=\"T_2b683_row37_col0\" class=\"data row37 col0\" >Combine Rare Levels</td>\n",
       "      <td id=\"T_2b683_row37_col1\" class=\"data row37 col1\" >False</td>\n",
       "    </tr>\n",
       "    <tr>\n",
       "      <th id=\"T_2b683_level0_row38\" class=\"row_heading level0 row38\" >38</th>\n",
       "      <td id=\"T_2b683_row38_col0\" class=\"data row38 col0\" >Rare Level Threshold</td>\n",
       "      <td id=\"T_2b683_row38_col1\" class=\"data row38 col1\" >None</td>\n",
       "    </tr>\n",
       "    <tr>\n",
       "      <th id=\"T_2b683_level0_row39\" class=\"row_heading level0 row39\" >39</th>\n",
       "      <td id=\"T_2b683_row39_col0\" class=\"data row39 col0\" >Numeric Binning</td>\n",
       "      <td id=\"T_2b683_row39_col1\" class=\"data row39 col1\" >False</td>\n",
       "    </tr>\n",
       "    <tr>\n",
       "      <th id=\"T_2b683_level0_row40\" class=\"row_heading level0 row40\" >40</th>\n",
       "      <td id=\"T_2b683_row40_col0\" class=\"data row40 col0\" >Remove Outliers</td>\n",
       "      <td id=\"T_2b683_row40_col1\" class=\"data row40 col1\" >False</td>\n",
       "    </tr>\n",
       "    <tr>\n",
       "      <th id=\"T_2b683_level0_row41\" class=\"row_heading level0 row41\" >41</th>\n",
       "      <td id=\"T_2b683_row41_col0\" class=\"data row41 col0\" >Outliers Threshold</td>\n",
       "      <td id=\"T_2b683_row41_col1\" class=\"data row41 col1\" >None</td>\n",
       "    </tr>\n",
       "    <tr>\n",
       "      <th id=\"T_2b683_level0_row42\" class=\"row_heading level0 row42\" >42</th>\n",
       "      <td id=\"T_2b683_row42_col0\" class=\"data row42 col0\" >Remove Multicollinearity</td>\n",
       "      <td id=\"T_2b683_row42_col1\" class=\"data row42 col1\" >False</td>\n",
       "    </tr>\n",
       "    <tr>\n",
       "      <th id=\"T_2b683_level0_row43\" class=\"row_heading level0 row43\" >43</th>\n",
       "      <td id=\"T_2b683_row43_col0\" class=\"data row43 col0\" >Multicollinearity Threshold</td>\n",
       "      <td id=\"T_2b683_row43_col1\" class=\"data row43 col1\" >None</td>\n",
       "    </tr>\n",
       "    <tr>\n",
       "      <th id=\"T_2b683_level0_row44\" class=\"row_heading level0 row44\" >44</th>\n",
       "      <td id=\"T_2b683_row44_col0\" class=\"data row44 col0\" >Remove Perfect Collinearity</td>\n",
       "      <td id=\"T_2b683_row44_col1\" class=\"data row44 col1\" >True</td>\n",
       "    </tr>\n",
       "    <tr>\n",
       "      <th id=\"T_2b683_level0_row45\" class=\"row_heading level0 row45\" >45</th>\n",
       "      <td id=\"T_2b683_row45_col0\" class=\"data row45 col0\" >Clustering</td>\n",
       "      <td id=\"T_2b683_row45_col1\" class=\"data row45 col1\" >False</td>\n",
       "    </tr>\n",
       "    <tr>\n",
       "      <th id=\"T_2b683_level0_row46\" class=\"row_heading level0 row46\" >46</th>\n",
       "      <td id=\"T_2b683_row46_col0\" class=\"data row46 col0\" >Clustering Iteration</td>\n",
       "      <td id=\"T_2b683_row46_col1\" class=\"data row46 col1\" >None</td>\n",
       "    </tr>\n",
       "    <tr>\n",
       "      <th id=\"T_2b683_level0_row47\" class=\"row_heading level0 row47\" >47</th>\n",
       "      <td id=\"T_2b683_row47_col0\" class=\"data row47 col0\" >Polynomial Features</td>\n",
       "      <td id=\"T_2b683_row47_col1\" class=\"data row47 col1\" >False</td>\n",
       "    </tr>\n",
       "    <tr>\n",
       "      <th id=\"T_2b683_level0_row48\" class=\"row_heading level0 row48\" >48</th>\n",
       "      <td id=\"T_2b683_row48_col0\" class=\"data row48 col0\" >Polynomial Degree</td>\n",
       "      <td id=\"T_2b683_row48_col1\" class=\"data row48 col1\" >None</td>\n",
       "    </tr>\n",
       "    <tr>\n",
       "      <th id=\"T_2b683_level0_row49\" class=\"row_heading level0 row49\" >49</th>\n",
       "      <td id=\"T_2b683_row49_col0\" class=\"data row49 col0\" >Trignometry Features</td>\n",
       "      <td id=\"T_2b683_row49_col1\" class=\"data row49 col1\" >False</td>\n",
       "    </tr>\n",
       "    <tr>\n",
       "      <th id=\"T_2b683_level0_row50\" class=\"row_heading level0 row50\" >50</th>\n",
       "      <td id=\"T_2b683_row50_col0\" class=\"data row50 col0\" >Polynomial Threshold</td>\n",
       "      <td id=\"T_2b683_row50_col1\" class=\"data row50 col1\" >None</td>\n",
       "    </tr>\n",
       "    <tr>\n",
       "      <th id=\"T_2b683_level0_row51\" class=\"row_heading level0 row51\" >51</th>\n",
       "      <td id=\"T_2b683_row51_col0\" class=\"data row51 col0\" >Group Features</td>\n",
       "      <td id=\"T_2b683_row51_col1\" class=\"data row51 col1\" >False</td>\n",
       "    </tr>\n",
       "    <tr>\n",
       "      <th id=\"T_2b683_level0_row52\" class=\"row_heading level0 row52\" >52</th>\n",
       "      <td id=\"T_2b683_row52_col0\" class=\"data row52 col0\" >Feature Selection</td>\n",
       "      <td id=\"T_2b683_row52_col1\" class=\"data row52 col1\" >False</td>\n",
       "    </tr>\n",
       "    <tr>\n",
       "      <th id=\"T_2b683_level0_row53\" class=\"row_heading level0 row53\" >53</th>\n",
       "      <td id=\"T_2b683_row53_col0\" class=\"data row53 col0\" >Feature Selection Method</td>\n",
       "      <td id=\"T_2b683_row53_col1\" class=\"data row53 col1\" >boruta</td>\n",
       "    </tr>\n",
       "    <tr>\n",
       "      <th id=\"T_2b683_level0_row54\" class=\"row_heading level0 row54\" >54</th>\n",
       "      <td id=\"T_2b683_row54_col0\" class=\"data row54 col0\" >Features Selection Threshold</td>\n",
       "      <td id=\"T_2b683_row54_col1\" class=\"data row54 col1\" >None</td>\n",
       "    </tr>\n",
       "    <tr>\n",
       "      <th id=\"T_2b683_level0_row55\" class=\"row_heading level0 row55\" >55</th>\n",
       "      <td id=\"T_2b683_row55_col0\" class=\"data row55 col0\" >Feature Interaction</td>\n",
       "      <td id=\"T_2b683_row55_col1\" class=\"data row55 col1\" >False</td>\n",
       "    </tr>\n",
       "    <tr>\n",
       "      <th id=\"T_2b683_level0_row56\" class=\"row_heading level0 row56\" >56</th>\n",
       "      <td id=\"T_2b683_row56_col0\" class=\"data row56 col0\" >Feature Ratio</td>\n",
       "      <td id=\"T_2b683_row56_col1\" class=\"data row56 col1\" >False</td>\n",
       "    </tr>\n",
       "    <tr>\n",
       "      <th id=\"T_2b683_level0_row57\" class=\"row_heading level0 row57\" >57</th>\n",
       "      <td id=\"T_2b683_row57_col0\" class=\"data row57 col0\" >Interaction Threshold</td>\n",
       "      <td id=\"T_2b683_row57_col1\" class=\"data row57 col1\" >None</td>\n",
       "    </tr>\n",
       "    <tr>\n",
       "      <th id=\"T_2b683_level0_row58\" class=\"row_heading level0 row58\" >58</th>\n",
       "      <td id=\"T_2b683_row58_col0\" class=\"data row58 col0\" >Fix Imbalance</td>\n",
       "      <td id=\"T_2b683_row58_col1\" class=\"data row58 col1\" >False</td>\n",
       "    </tr>\n",
       "    <tr>\n",
       "      <th id=\"T_2b683_level0_row59\" class=\"row_heading level0 row59\" >59</th>\n",
       "      <td id=\"T_2b683_row59_col0\" class=\"data row59 col0\" >Fix Imbalance Method</td>\n",
       "      <td id=\"T_2b683_row59_col1\" class=\"data row59 col1\" >SMOTE</td>\n",
       "    </tr>\n",
       "  </tbody>\n",
       "</table>\n"
      ],
      "text/plain": [
       "<pandas.io.formats.style.Styler at 0x7f67a1b83430>"
      ]
     },
     "metadata": {},
     "output_type": "display_data"
    }
   ],
   "source": [
    "exp_AGN = pyc.setup(data=train_test_df, target='class', session_id=seed, silent=True,\\\n",
    "                    feature_selection=False, feature_selection_method='boruta', data_split_stratify=True,\\\n",
    "                    numeric_features=final_feats, ignore_features=feats_2_discard, transformation=True,\\\n",
    "                    transformation_method='yeo-johnson', n_jobs=12, normalize=True,\\\n",
    "                    normalize_method='zscore', use_gpu=False)  # 15 minutes with Boruta # 5 without"
   ]
  },
  {
   "cell_type": "code",
   "execution_count": 60,
   "id": "23936ff5",
   "metadata": {
    "id": "ykHUiWyetG0G"
   },
   "outputs": [
    {
     "data": {
      "text/plain": [
       "Index(['W4mag', 'g_r', 'r_i', 'r_z', 'r_J', 'r_W1', 'i_z', 'i_y', 'z_y', 'y_J',\n",
       "       'y_W2', 'J_H', 'H_K', 'H_W4', 'K_W3', 'W1_W2', 'W1_W3'],\n",
       "      dtype='object')"
      ]
     },
     "execution_count": 60,
     "metadata": {},
     "output_type": "execute_result"
    }
   ],
   "source": [
    "pyc.get_config('X').columns"
   ]
  },
  {
   "cell_type": "code",
   "execution_count": 61,
   "id": "77676268",
   "metadata": {
    "id": "JFF_T52ztI11"
   },
   "outputs": [
    {
     "data": {
      "text/html": [
       "<div>\n",
       "<style scoped>\n",
       "    .dataframe tbody tr th:only-of-type {\n",
       "        vertical-align: middle;\n",
       "    }\n",
       "\n",
       "    .dataframe tbody tr th {\n",
       "        vertical-align: top;\n",
       "    }\n",
       "\n",
       "    .dataframe thead th {\n",
       "        text-align: right;\n",
       "    }\n",
       "</style>\n",
       "<table border=\"1\" class=\"dataframe\">\n",
       "  <thead>\n",
       "    <tr style=\"text-align: right;\">\n",
       "      <th></th>\n",
       "      <th>Name</th>\n",
       "      <th>Reference</th>\n",
       "      <th>Turbo</th>\n",
       "    </tr>\n",
       "    <tr>\n",
       "      <th>ID</th>\n",
       "      <th></th>\n",
       "      <th></th>\n",
       "      <th></th>\n",
       "    </tr>\n",
       "  </thead>\n",
       "  <tbody>\n",
       "    <tr>\n",
       "      <th>lr</th>\n",
       "      <td>Logistic Regression</td>\n",
       "      <td>sklearn.linear_model._logistic.LogisticRegression</td>\n",
       "      <td>True</td>\n",
       "    </tr>\n",
       "    <tr>\n",
       "      <th>knn</th>\n",
       "      <td>K Neighbors Classifier</td>\n",
       "      <td>sklearn.neighbors._classification.KNeighborsCl...</td>\n",
       "      <td>True</td>\n",
       "    </tr>\n",
       "    <tr>\n",
       "      <th>nb</th>\n",
       "      <td>Naive Bayes</td>\n",
       "      <td>sklearn.naive_bayes.GaussianNB</td>\n",
       "      <td>True</td>\n",
       "    </tr>\n",
       "    <tr>\n",
       "      <th>dt</th>\n",
       "      <td>Decision Tree Classifier</td>\n",
       "      <td>sklearn.tree._classes.DecisionTreeClassifier</td>\n",
       "      <td>True</td>\n",
       "    </tr>\n",
       "    <tr>\n",
       "      <th>svm</th>\n",
       "      <td>SVM - Linear Kernel</td>\n",
       "      <td>sklearn.linear_model._stochastic_gradient.SGDC...</td>\n",
       "      <td>True</td>\n",
       "    </tr>\n",
       "    <tr>\n",
       "      <th>rbfsvm</th>\n",
       "      <td>SVM - Radial Kernel</td>\n",
       "      <td>sklearn.svm._classes.SVC</td>\n",
       "      <td>False</td>\n",
       "    </tr>\n",
       "    <tr>\n",
       "      <th>gpc</th>\n",
       "      <td>Gaussian Process Classifier</td>\n",
       "      <td>sklearn.gaussian_process._gpc.GaussianProcessC...</td>\n",
       "      <td>False</td>\n",
       "    </tr>\n",
       "    <tr>\n",
       "      <th>mlp</th>\n",
       "      <td>MLP Classifier</td>\n",
       "      <td>sklearn.neural_network._multilayer_perceptron....</td>\n",
       "      <td>False</td>\n",
       "    </tr>\n",
       "    <tr>\n",
       "      <th>ridge</th>\n",
       "      <td>Ridge Classifier</td>\n",
       "      <td>sklearn.linear_model._ridge.RidgeClassifier</td>\n",
       "      <td>True</td>\n",
       "    </tr>\n",
       "    <tr>\n",
       "      <th>rf</th>\n",
       "      <td>Random Forest Classifier</td>\n",
       "      <td>sklearn.ensemble._forest.RandomForestClassifier</td>\n",
       "      <td>True</td>\n",
       "    </tr>\n",
       "    <tr>\n",
       "      <th>qda</th>\n",
       "      <td>Quadratic Discriminant Analysis</td>\n",
       "      <td>sklearn.discriminant_analysis.QuadraticDiscrim...</td>\n",
       "      <td>True</td>\n",
       "    </tr>\n",
       "    <tr>\n",
       "      <th>ada</th>\n",
       "      <td>Ada Boost Classifier</td>\n",
       "      <td>sklearn.ensemble._weight_boosting.AdaBoostClas...</td>\n",
       "      <td>True</td>\n",
       "    </tr>\n",
       "    <tr>\n",
       "      <th>gbc</th>\n",
       "      <td>Gradient Boosting Classifier</td>\n",
       "      <td>sklearn.ensemble._gb.GradientBoostingClassifier</td>\n",
       "      <td>True</td>\n",
       "    </tr>\n",
       "    <tr>\n",
       "      <th>lda</th>\n",
       "      <td>Linear Discriminant Analysis</td>\n",
       "      <td>sklearn.discriminant_analysis.LinearDiscrimina...</td>\n",
       "      <td>True</td>\n",
       "    </tr>\n",
       "    <tr>\n",
       "      <th>et</th>\n",
       "      <td>Extra Trees Classifier</td>\n",
       "      <td>sklearn.ensemble._forest.ExtraTreesClassifier</td>\n",
       "      <td>True</td>\n",
       "    </tr>\n",
       "    <tr>\n",
       "      <th>xgboost</th>\n",
       "      <td>Extreme Gradient Boosting</td>\n",
       "      <td>xgboost.sklearn.XGBClassifier</td>\n",
       "      <td>True</td>\n",
       "    </tr>\n",
       "    <tr>\n",
       "      <th>lightgbm</th>\n",
       "      <td>Light Gradient Boosting Machine</td>\n",
       "      <td>lightgbm.sklearn.LGBMClassifier</td>\n",
       "      <td>True</td>\n",
       "    </tr>\n",
       "    <tr>\n",
       "      <th>catboost</th>\n",
       "      <td>CatBoost Classifier</td>\n",
       "      <td>catboost.core.CatBoostClassifier</td>\n",
       "      <td>True</td>\n",
       "    </tr>\n",
       "    <tr>\n",
       "      <th>dummy</th>\n",
       "      <td>Dummy Classifier</td>\n",
       "      <td>sklearn.dummy.DummyClassifier</td>\n",
       "      <td>True</td>\n",
       "    </tr>\n",
       "  </tbody>\n",
       "</table>\n",
       "</div>"
      ],
      "text/plain": [
       "                                     Name  \\\n",
       "ID                                          \n",
       "lr                    Logistic Regression   \n",
       "knn                K Neighbors Classifier   \n",
       "nb                            Naive Bayes   \n",
       "dt               Decision Tree Classifier   \n",
       "svm                   SVM - Linear Kernel   \n",
       "rbfsvm                SVM - Radial Kernel   \n",
       "gpc           Gaussian Process Classifier   \n",
       "mlp                        MLP Classifier   \n",
       "ridge                    Ridge Classifier   \n",
       "rf               Random Forest Classifier   \n",
       "qda       Quadratic Discriminant Analysis   \n",
       "ada                  Ada Boost Classifier   \n",
       "gbc          Gradient Boosting Classifier   \n",
       "lda          Linear Discriminant Analysis   \n",
       "et                 Extra Trees Classifier   \n",
       "xgboost         Extreme Gradient Boosting   \n",
       "lightgbm  Light Gradient Boosting Machine   \n",
       "catboost              CatBoost Classifier   \n",
       "dummy                    Dummy Classifier   \n",
       "\n",
       "                                                  Reference  Turbo  \n",
       "ID                                                                  \n",
       "lr        sklearn.linear_model._logistic.LogisticRegression   True  \n",
       "knn       sklearn.neighbors._classification.KNeighborsCl...   True  \n",
       "nb                           sklearn.naive_bayes.GaussianNB   True  \n",
       "dt             sklearn.tree._classes.DecisionTreeClassifier   True  \n",
       "svm       sklearn.linear_model._stochastic_gradient.SGDC...   True  \n",
       "rbfsvm                             sklearn.svm._classes.SVC  False  \n",
       "gpc       sklearn.gaussian_process._gpc.GaussianProcessC...  False  \n",
       "mlp       sklearn.neural_network._multilayer_perceptron....  False  \n",
       "ridge           sklearn.linear_model._ridge.RidgeClassifier   True  \n",
       "rf          sklearn.ensemble._forest.RandomForestClassifier   True  \n",
       "qda       sklearn.discriminant_analysis.QuadraticDiscrim...   True  \n",
       "ada       sklearn.ensemble._weight_boosting.AdaBoostClas...   True  \n",
       "gbc         sklearn.ensemble._gb.GradientBoostingClassifier   True  \n",
       "lda       sklearn.discriminant_analysis.LinearDiscrimina...   True  \n",
       "et            sklearn.ensemble._forest.ExtraTreesClassifier   True  \n",
       "xgboost                       xgboost.sklearn.XGBClassifier   True  \n",
       "lightgbm                    lightgbm.sklearn.LGBMClassifier   True  \n",
       "catboost                   catboost.core.CatBoostClassifier   True  \n",
       "dummy                         sklearn.dummy.DummyClassifier   True  "
      ]
     },
     "execution_count": 61,
     "metadata": {},
     "output_type": "execute_result"
    }
   ],
   "source": [
    "pyc.models()"
   ]
  },
  {
   "cell_type": "code",
   "execution_count": 62,
   "id": "62322f57",
   "metadata": {},
   "outputs": [],
   "source": [
    "metric_to_optimize   = 'Recall'"
   ]
  },
  {
   "cell_type": "code",
   "execution_count": 68,
   "id": "a556a02c",
   "metadata": {
    "id": "m3mCNspXtLnI"
   },
   "outputs": [
    {
     "data": {
      "text/html": [
       "<style type=\"text/css\">\n",
       "#T_2fe20 th {\n",
       "  text-align: left;\n",
       "}\n",
       "#T_2fe20_row0_col0, #T_2fe20_row0_col4, #T_2fe20_row1_col0, #T_2fe20_row1_col1, #T_2fe20_row1_col2, #T_2fe20_row1_col3, #T_2fe20_row1_col4, #T_2fe20_row1_col5, #T_2fe20_row1_col6, #T_2fe20_row1_col7, #T_2fe20_row2_col0, #T_2fe20_row2_col1, #T_2fe20_row2_col2, #T_2fe20_row2_col3, #T_2fe20_row2_col4, #T_2fe20_row2_col5, #T_2fe20_row2_col6, #T_2fe20_row2_col7, #T_2fe20_row3_col0, #T_2fe20_row3_col1, #T_2fe20_row3_col2, #T_2fe20_row3_col3, #T_2fe20_row3_col4, #T_2fe20_row3_col5, #T_2fe20_row3_col6, #T_2fe20_row3_col7, #T_2fe20_row4_col0, #T_2fe20_row4_col1, #T_2fe20_row4_col2, #T_2fe20_row4_col3, #T_2fe20_row4_col5, #T_2fe20_row4_col6, #T_2fe20_row4_col7, #T_2fe20_row5_col0, #T_2fe20_row5_col1, #T_2fe20_row5_col2, #T_2fe20_row5_col3, #T_2fe20_row5_col4, #T_2fe20_row5_col5, #T_2fe20_row5_col6, #T_2fe20_row5_col7, #T_2fe20_row6_col0, #T_2fe20_row6_col1, #T_2fe20_row6_col2, #T_2fe20_row6_col3, #T_2fe20_row6_col4, #T_2fe20_row6_col5, #T_2fe20_row6_col6, #T_2fe20_row6_col7, #T_2fe20_row7_col0, #T_2fe20_row7_col1, #T_2fe20_row7_col2, #T_2fe20_row7_col3, #T_2fe20_row7_col4, #T_2fe20_row7_col5, #T_2fe20_row7_col6, #T_2fe20_row7_col7, #T_2fe20_row8_col0, #T_2fe20_row8_col1, #T_2fe20_row8_col2, #T_2fe20_row8_col3, #T_2fe20_row8_col4, #T_2fe20_row8_col5, #T_2fe20_row8_col6, #T_2fe20_row8_col7, #T_2fe20_row9_col0, #T_2fe20_row9_col1, #T_2fe20_row9_col2, #T_2fe20_row9_col3, #T_2fe20_row9_col4, #T_2fe20_row9_col5, #T_2fe20_row9_col6, #T_2fe20_row9_col7 {\n",
       "  text-align: left;\n",
       "}\n",
       "#T_2fe20_row0_col1, #T_2fe20_row0_col2, #T_2fe20_row0_col3, #T_2fe20_row0_col5, #T_2fe20_row0_col6, #T_2fe20_row0_col7, #T_2fe20_row4_col4 {\n",
       "  text-align: left;\n",
       "  background-color: yellow;\n",
       "}\n",
       "#T_2fe20_row0_col8, #T_2fe20_row1_col8, #T_2fe20_row2_col8, #T_2fe20_row3_col8, #T_2fe20_row4_col8, #T_2fe20_row5_col8, #T_2fe20_row6_col8, #T_2fe20_row7_col8, #T_2fe20_row8_col8 {\n",
       "  text-align: left;\n",
       "  background-color: lightgrey;\n",
       "}\n",
       "#T_2fe20_row9_col8 {\n",
       "  text-align: left;\n",
       "  background-color: yellow;\n",
       "  background-color: lightgrey;\n",
       "}\n",
       "</style>\n",
       "<table id=\"T_2fe20\">\n",
       "  <thead>\n",
       "    <tr>\n",
       "      <th class=\"blank level0\" >&nbsp;</th>\n",
       "      <th id=\"T_2fe20_level0_col0\" class=\"col_heading level0 col0\" >Model</th>\n",
       "      <th id=\"T_2fe20_level0_col1\" class=\"col_heading level0 col1\" >Accuracy</th>\n",
       "      <th id=\"T_2fe20_level0_col2\" class=\"col_heading level0 col2\" >AUC</th>\n",
       "      <th id=\"T_2fe20_level0_col3\" class=\"col_heading level0 col3\" >Recall</th>\n",
       "      <th id=\"T_2fe20_level0_col4\" class=\"col_heading level0 col4\" >Prec.</th>\n",
       "      <th id=\"T_2fe20_level0_col5\" class=\"col_heading level0 col5\" >F1</th>\n",
       "      <th id=\"T_2fe20_level0_col6\" class=\"col_heading level0 col6\" >Kappa</th>\n",
       "      <th id=\"T_2fe20_level0_col7\" class=\"col_heading level0 col7\" >MCC</th>\n",
       "      <th id=\"T_2fe20_level0_col8\" class=\"col_heading level0 col8\" >TT (Sec)</th>\n",
       "    </tr>\n",
       "  </thead>\n",
       "  <tbody>\n",
       "    <tr>\n",
       "      <th id=\"T_2fe20_level0_row0\" class=\"row_heading level0 row0\" >catboost</th>\n",
       "      <td id=\"T_2fe20_row0_col0\" class=\"data row0 col0\" >CatBoost Classifier</td>\n",
       "      <td id=\"T_2fe20_row0_col1\" class=\"data row0 col1\" >0.9576</td>\n",
       "      <td id=\"T_2fe20_row0_col2\" class=\"data row0 col2\" >0.9882</td>\n",
       "      <td id=\"T_2fe20_row0_col3\" class=\"data row0 col3\" >0.9292</td>\n",
       "      <td id=\"T_2fe20_row0_col4\" class=\"data row0 col4\" >0.9463</td>\n",
       "      <td id=\"T_2fe20_row0_col5\" class=\"data row0 col5\" >0.9374</td>\n",
       "      <td id=\"T_2fe20_row0_col6\" class=\"data row0 col6\" >0.9053</td>\n",
       "      <td id=\"T_2fe20_row0_col7\" class=\"data row0 col7\" >0.9057</td>\n",
       "      <td id=\"T_2fe20_row0_col8\" class=\"data row0 col8\" >0.5820</td>\n",
       "    </tr>\n",
       "    <tr>\n",
       "      <th id=\"T_2fe20_level0_row1\" class=\"row_heading level0 row1\" >lr</th>\n",
       "      <td id=\"T_2fe20_row1_col0\" class=\"data row1 col0\" >Logistic Regression</td>\n",
       "      <td id=\"T_2fe20_row1_col1\" class=\"data row1 col1\" >0.9446</td>\n",
       "      <td id=\"T_2fe20_row1_col2\" class=\"data row1 col2\" >0.9818</td>\n",
       "      <td id=\"T_2fe20_row1_col3\" class=\"data row1 col3\" >0.9242</td>\n",
       "      <td id=\"T_2fe20_row1_col4\" class=\"data row1 col4\" >0.9158</td>\n",
       "      <td id=\"T_2fe20_row1_col5\" class=\"data row1 col5\" >0.9196</td>\n",
       "      <td id=\"T_2fe20_row1_col6\" class=\"data row1 col6\" >0.8773</td>\n",
       "      <td id=\"T_2fe20_row1_col7\" class=\"data row1 col7\" >0.8778</td>\n",
       "      <td id=\"T_2fe20_row1_col8\" class=\"data row1 col8\" >0.0080</td>\n",
       "    </tr>\n",
       "    <tr>\n",
       "      <th id=\"T_2fe20_level0_row2\" class=\"row_heading level0 row2\" >gbc</th>\n",
       "      <td id=\"T_2fe20_row2_col0\" class=\"data row2 col0\" >Gradient Boosting Classifier</td>\n",
       "      <td id=\"T_2fe20_row2_col1\" class=\"data row2 col1\" >0.9521</td>\n",
       "      <td id=\"T_2fe20_row2_col2\" class=\"data row2 col2\" >0.9869</td>\n",
       "      <td id=\"T_2fe20_row2_col3\" class=\"data row2 col3\" >0.9242</td>\n",
       "      <td id=\"T_2fe20_row2_col4\" class=\"data row2 col4\" >0.9355</td>\n",
       "      <td id=\"T_2fe20_row2_col5\" class=\"data row2 col5\" >0.9296</td>\n",
       "      <td id=\"T_2fe20_row2_col6\" class=\"data row2 col6\" >0.8933</td>\n",
       "      <td id=\"T_2fe20_row2_col7\" class=\"data row2 col7\" >0.8935</td>\n",
       "      <td id=\"T_2fe20_row2_col8\" class=\"data row2 col8\" >0.1330</td>\n",
       "    </tr>\n",
       "    <tr>\n",
       "      <th id=\"T_2fe20_level0_row3\" class=\"row_heading level0 row3\" >svm</th>\n",
       "      <td id=\"T_2fe20_row3_col0\" class=\"data row3 col0\" >SVM - Linear Kernel</td>\n",
       "      <td id=\"T_2fe20_row3_col1\" class=\"data row3 col1\" >0.9397</td>\n",
       "      <td id=\"T_2fe20_row3_col2\" class=\"data row3 col2\" >0.0000</td>\n",
       "      <td id=\"T_2fe20_row3_col3\" class=\"data row3 col3\" >0.9233</td>\n",
       "      <td id=\"T_2fe20_row3_col4\" class=\"data row3 col4\" >0.9036</td>\n",
       "      <td id=\"T_2fe20_row3_col5\" class=\"data row3 col5\" >0.9129</td>\n",
       "      <td id=\"T_2fe20_row3_col6\" class=\"data row3 col6\" >0.8668</td>\n",
       "      <td id=\"T_2fe20_row3_col7\" class=\"data row3 col7\" >0.8674</td>\n",
       "      <td id=\"T_2fe20_row3_col8\" class=\"data row3 col8\" >0.0050</td>\n",
       "    </tr>\n",
       "    <tr>\n",
       "      <th id=\"T_2fe20_level0_row4\" class=\"row_heading level0 row4\" >rf</th>\n",
       "      <td id=\"T_2fe20_row4_col0\" class=\"data row4 col0\" >Random Forest Classifier</td>\n",
       "      <td id=\"T_2fe20_row4_col1\" class=\"data row4 col1\" >0.9550</td>\n",
       "      <td id=\"T_2fe20_row4_col2\" class=\"data row4 col2\" >0.9828</td>\n",
       "      <td id=\"T_2fe20_row4_col3\" class=\"data row4 col3\" >0.9208</td>\n",
       "      <td id=\"T_2fe20_row4_col4\" class=\"data row4 col4\" >0.9469</td>\n",
       "      <td id=\"T_2fe20_row4_col5\" class=\"data row4 col5\" >0.9333</td>\n",
       "      <td id=\"T_2fe20_row4_col6\" class=\"data row4 col6\" >0.8993</td>\n",
       "      <td id=\"T_2fe20_row4_col7\" class=\"data row4 col7\" >0.8999</td>\n",
       "      <td id=\"T_2fe20_row4_col8\" class=\"data row4 col8\" >0.0620</td>\n",
       "    </tr>\n",
       "    <tr>\n",
       "      <th id=\"T_2fe20_level0_row5\" class=\"row_heading level0 row5\" >xgboost</th>\n",
       "      <td id=\"T_2fe20_row5_col0\" class=\"data row5 col0\" >Extreme Gradient Boosting</td>\n",
       "      <td id=\"T_2fe20_row5_col1\" class=\"data row5 col1\" >0.9509</td>\n",
       "      <td id=\"T_2fe20_row5_col2\" class=\"data row5 col2\" >0.9849</td>\n",
       "      <td id=\"T_2fe20_row5_col3\" class=\"data row5 col3\" >0.9183</td>\n",
       "      <td id=\"T_2fe20_row5_col4\" class=\"data row5 col4\" >0.9376</td>\n",
       "      <td id=\"T_2fe20_row5_col5\" class=\"data row5 col5\" >0.9276</td>\n",
       "      <td id=\"T_2fe20_row5_col6\" class=\"data row5 col6\" >0.8905</td>\n",
       "      <td id=\"T_2fe20_row5_col7\" class=\"data row5 col7\" >0.8909</td>\n",
       "      <td id=\"T_2fe20_row5_col8\" class=\"data row5 col8\" >6.7010</td>\n",
       "    </tr>\n",
       "    <tr>\n",
       "      <th id=\"T_2fe20_level0_row6\" class=\"row_heading level0 row6\" >et</th>\n",
       "      <td id=\"T_2fe20_row6_col0\" class=\"data row6 col0\" >Extra Trees Classifier</td>\n",
       "      <td id=\"T_2fe20_row6_col1\" class=\"data row6 col1\" >0.9532</td>\n",
       "      <td id=\"T_2fe20_row6_col2\" class=\"data row6 col2\" >0.9831</td>\n",
       "      <td id=\"T_2fe20_row6_col3\" class=\"data row6 col3\" >0.9166</td>\n",
       "      <td id=\"T_2fe20_row6_col4\" class=\"data row6 col4\" >0.9459</td>\n",
       "      <td id=\"T_2fe20_row6_col5\" class=\"data row6 col5\" >0.9306</td>\n",
       "      <td id=\"T_2fe20_row6_col6\" class=\"data row6 col6\" >0.8954</td>\n",
       "      <td id=\"T_2fe20_row6_col7\" class=\"data row6 col7\" >0.8960</td>\n",
       "      <td id=\"T_2fe20_row6_col8\" class=\"data row6 col8\" >0.0370</td>\n",
       "    </tr>\n",
       "    <tr>\n",
       "      <th id=\"T_2fe20_level0_row7\" class=\"row_heading level0 row7\" >ada</th>\n",
       "      <td id=\"T_2fe20_row7_col0\" class=\"data row7 col0\" >Ada Boost Classifier</td>\n",
       "      <td id=\"T_2fe20_row7_col1\" class=\"data row7 col1\" >0.9483</td>\n",
       "      <td id=\"T_2fe20_row7_col2\" class=\"data row7 col2\" >0.9807</td>\n",
       "      <td id=\"T_2fe20_row7_col3\" class=\"data row7 col3\" >0.9157</td>\n",
       "      <td id=\"T_2fe20_row7_col4\" class=\"data row7 col4\" >0.9326</td>\n",
       "      <td id=\"T_2fe20_row7_col5\" class=\"data row7 col5\" >0.9239</td>\n",
       "      <td id=\"T_2fe20_row7_col6\" class=\"data row7 col6\" >0.8848</td>\n",
       "      <td id=\"T_2fe20_row7_col7\" class=\"data row7 col7\" >0.8851</td>\n",
       "      <td id=\"T_2fe20_row7_col8\" class=\"data row7 col8\" >0.0410</td>\n",
       "    </tr>\n",
       "    <tr>\n",
       "      <th id=\"T_2fe20_level0_row8\" class=\"row_heading level0 row8\" >dt</th>\n",
       "      <td id=\"T_2fe20_row8_col0\" class=\"data row8 col0\" >Decision Tree Classifier</td>\n",
       "      <td id=\"T_2fe20_row8_col1\" class=\"data row8 col1\" >0.9324</td>\n",
       "      <td id=\"T_2fe20_row8_col2\" class=\"data row8 col2\" >0.9262</td>\n",
       "      <td id=\"T_2fe20_row8_col3\" class=\"data row8 col3\" >0.8972</td>\n",
       "      <td id=\"T_2fe20_row8_col4\" class=\"data row8 col4\" >0.9050</td>\n",
       "      <td id=\"T_2fe20_row8_col5\" class=\"data row8 col5\" >0.9009</td>\n",
       "      <td id=\"T_2fe20_row8_col6\" class=\"data row8 col6\" >0.8496</td>\n",
       "      <td id=\"T_2fe20_row8_col7\" class=\"data row8 col7\" >0.8499</td>\n",
       "      <td id=\"T_2fe20_row8_col8\" class=\"data row8 col8\" >0.0080</td>\n",
       "    </tr>\n",
       "    <tr>\n",
       "      <th id=\"T_2fe20_level0_row9\" class=\"row_heading level0 row9\" >dummy</th>\n",
       "      <td id=\"T_2fe20_row9_col0\" class=\"data row9 col0\" >Dummy Classifier</td>\n",
       "      <td id=\"T_2fe20_row9_col1\" class=\"data row9 col1\" >0.6573</td>\n",
       "      <td id=\"T_2fe20_row9_col2\" class=\"data row9 col2\" >0.5000</td>\n",
       "      <td id=\"T_2fe20_row9_col3\" class=\"data row9 col3\" >0.0000</td>\n",
       "      <td id=\"T_2fe20_row9_col4\" class=\"data row9 col4\" >0.0000</td>\n",
       "      <td id=\"T_2fe20_row9_col5\" class=\"data row9 col5\" >0.0000</td>\n",
       "      <td id=\"T_2fe20_row9_col6\" class=\"data row9 col6\" >0.0000</td>\n",
       "      <td id=\"T_2fe20_row9_col7\" class=\"data row9 col7\" >0.0000</td>\n",
       "      <td id=\"T_2fe20_row9_col8\" class=\"data row9 col8\" >0.0040</td>\n",
       "    </tr>\n",
       "  </tbody>\n",
       "</table>\n"
      ],
      "text/plain": [
       "<pandas.io.formats.style.Styler at 0x7f67bb2cd2e0>"
      ]
     },
     "metadata": {},
     "output_type": "display_data"
    }
   ],
   "source": [
    "# final_selection_clf  = ['catboost', 'lightgbm', 'xgboost', 'lda', 'et', 'dummy']  # knn, qda, nb lack feat importances neither coefs, ridge lacks scores\n",
    "final_selection_clf  = ['catboost', 'lr', 'gbc', 'svm', 'rf', 'dummy']  # knn, qda, nb lack feat importances neither coefs, ridge lacks scores\n",
    "n_models             = 5\n",
    "# top_model_AGN = pyc.compare_models(n_select=n_models, include=final_selection_clf, sort=metric_to_optimize)  # 1:15 hour for used_models_clf\n",
    "top_model_AGN = pyc.compare_models(n_select=n_models, exclude=['knn', 'qda', 'ridge', 'nb', 'lightgbm', 'lda'], sort=metric_to_optimize)  # 10 minutes, using all models."
   ]
  },
  {
   "cell_type": "markdown",
   "id": "0dc178a2",
   "metadata": {},
   "source": [
    "Thus, we select `catboost` as meta learner."
   ]
  },
  {
   "cell_type": "markdown",
   "id": "030cea33",
   "metadata": {},
   "source": [
    "Then, we stack the models."
   ]
  },
  {
   "cell_type": "code",
   "execution_count": 69,
   "id": "9afba9d3",
   "metadata": {},
   "outputs": [],
   "source": [
    "meta_model = top_model_AGN[0]"
   ]
  },
  {
   "cell_type": "code",
   "execution_count": 70,
   "id": "42485262",
   "metadata": {},
   "outputs": [
    {
     "data": {
      "text/html": [
       "<style type=\"text/css\">\n",
       "#T_4f193_row10_col0, #T_4f193_row10_col1, #T_4f193_row10_col2, #T_4f193_row10_col3, #T_4f193_row10_col4, #T_4f193_row10_col5, #T_4f193_row10_col6 {\n",
       "  background: yellow;\n",
       "}\n",
       "</style>\n",
       "<table id=\"T_4f193\">\n",
       "  <thead>\n",
       "    <tr>\n",
       "      <th class=\"blank level0\" >&nbsp;</th>\n",
       "      <th id=\"T_4f193_level0_col0\" class=\"col_heading level0 col0\" >Accuracy</th>\n",
       "      <th id=\"T_4f193_level0_col1\" class=\"col_heading level0 col1\" >AUC</th>\n",
       "      <th id=\"T_4f193_level0_col2\" class=\"col_heading level0 col2\" >Recall</th>\n",
       "      <th id=\"T_4f193_level0_col3\" class=\"col_heading level0 col3\" >Prec.</th>\n",
       "      <th id=\"T_4f193_level0_col4\" class=\"col_heading level0 col4\" >F1</th>\n",
       "      <th id=\"T_4f193_level0_col5\" class=\"col_heading level0 col5\" >Kappa</th>\n",
       "      <th id=\"T_4f193_level0_col6\" class=\"col_heading level0 col6\" >MCC</th>\n",
       "    </tr>\n",
       "    <tr>\n",
       "      <th class=\"index_name level0\" >Fold</th>\n",
       "      <th class=\"blank col0\" >&nbsp;</th>\n",
       "      <th class=\"blank col1\" >&nbsp;</th>\n",
       "      <th class=\"blank col2\" >&nbsp;</th>\n",
       "      <th class=\"blank col3\" >&nbsp;</th>\n",
       "      <th class=\"blank col4\" >&nbsp;</th>\n",
       "      <th class=\"blank col5\" >&nbsp;</th>\n",
       "      <th class=\"blank col6\" >&nbsp;</th>\n",
       "    </tr>\n",
       "  </thead>\n",
       "  <tbody>\n",
       "    <tr>\n",
       "      <th id=\"T_4f193_level0_row0\" class=\"row_heading level0 row0\" >0</th>\n",
       "      <td id=\"T_4f193_row0_col0\" class=\"data row0 col0\" >0.9712</td>\n",
       "      <td id=\"T_4f193_row0_col1\" class=\"data row0 col1\" >0.9948</td>\n",
       "      <td id=\"T_4f193_row0_col2\" class=\"data row0 col2\" >0.9748</td>\n",
       "      <td id=\"T_4f193_row0_col3\" class=\"data row0 col3\" >0.9431</td>\n",
       "      <td id=\"T_4f193_row0_col4\" class=\"data row0 col4\" >0.9587</td>\n",
       "      <td id=\"T_4f193_row0_col5\" class=\"data row0 col5\" >0.9366</td>\n",
       "      <td id=\"T_4f193_row0_col6\" class=\"data row0 col6\" >0.9369</td>\n",
       "    </tr>\n",
       "    <tr>\n",
       "      <th id=\"T_4f193_level0_row1\" class=\"row_heading level0 row1\" >1</th>\n",
       "      <td id=\"T_4f193_row1_col0\" class=\"data row1 col0\" >0.9481</td>\n",
       "      <td id=\"T_4f193_row1_col1\" class=\"data row1 col1\" >0.9847</td>\n",
       "      <td id=\"T_4f193_row1_col2\" class=\"data row1 col2\" >0.8992</td>\n",
       "      <td id=\"T_4f193_row1_col3\" class=\"data row1 col3\" >0.9469</td>\n",
       "      <td id=\"T_4f193_row1_col4\" class=\"data row1 col4\" >0.9224</td>\n",
       "      <td id=\"T_4f193_row1_col5\" class=\"data row1 col5\" >0.8835</td>\n",
       "      <td id=\"T_4f193_row1_col6\" class=\"data row1 col6\" >0.8842</td>\n",
       "    </tr>\n",
       "    <tr>\n",
       "      <th id=\"T_4f193_level0_row2\" class=\"row_heading level0 row2\" >2</th>\n",
       "      <td id=\"T_4f193_row2_col0\" class=\"data row2 col0\" >0.9539</td>\n",
       "      <td id=\"T_4f193_row2_col1\" class=\"data row2 col1\" >0.9921</td>\n",
       "      <td id=\"T_4f193_row2_col2\" class=\"data row2 col2\" >0.9328</td>\n",
       "      <td id=\"T_4f193_row2_col3\" class=\"data row2 col3\" >0.9328</td>\n",
       "      <td id=\"T_4f193_row2_col4\" class=\"data row2 col4\" >0.9328</td>\n",
       "      <td id=\"T_4f193_row2_col5\" class=\"data row2 col5\" >0.8977</td>\n",
       "      <td id=\"T_4f193_row2_col6\" class=\"data row2 col6\" >0.8977</td>\n",
       "    </tr>\n",
       "    <tr>\n",
       "      <th id=\"T_4f193_level0_row3\" class=\"row_heading level0 row3\" >3</th>\n",
       "      <td id=\"T_4f193_row3_col0\" class=\"data row3 col0\" >0.9683</td>\n",
       "      <td id=\"T_4f193_row3_col1\" class=\"data row3 col1\" >0.9913</td>\n",
       "      <td id=\"T_4f193_row3_col2\" class=\"data row3 col2\" >0.9328</td>\n",
       "      <td id=\"T_4f193_row3_col3\" class=\"data row3 col3\" >0.9737</td>\n",
       "      <td id=\"T_4f193_row3_col4\" class=\"data row3 col4\" >0.9528</td>\n",
       "      <td id=\"T_4f193_row3_col5\" class=\"data row3 col5\" >0.9289</td>\n",
       "      <td id=\"T_4f193_row3_col6\" class=\"data row3 col6\" >0.9294</td>\n",
       "    </tr>\n",
       "    <tr>\n",
       "      <th id=\"T_4f193_level0_row4\" class=\"row_heading level0 row4\" >4</th>\n",
       "      <td id=\"T_4f193_row4_col0\" class=\"data row4 col0\" >0.9451</td>\n",
       "      <td id=\"T_4f193_row4_col1\" class=\"data row4 col1\" >0.9789</td>\n",
       "      <td id=\"T_4f193_row4_col2\" class=\"data row4 col2\" >0.8814</td>\n",
       "      <td id=\"T_4f193_row4_col3\" class=\"data row4 col3\" >0.9541</td>\n",
       "      <td id=\"T_4f193_row4_col4\" class=\"data row4 col4\" >0.9163</td>\n",
       "      <td id=\"T_4f193_row4_col5\" class=\"data row4 col5\" >0.8755</td>\n",
       "      <td id=\"T_4f193_row4_col6\" class=\"data row4 col6\" >0.8771</td>\n",
       "    </tr>\n",
       "    <tr>\n",
       "      <th id=\"T_4f193_level0_row5\" class=\"row_heading level0 row5\" >5</th>\n",
       "      <td id=\"T_4f193_row5_col0\" class=\"data row5 col0\" >0.9538</td>\n",
       "      <td id=\"T_4f193_row5_col1\" class=\"data row5 col1\" >0.9904</td>\n",
       "      <td id=\"T_4f193_row5_col2\" class=\"data row5 col2\" >0.9576</td>\n",
       "      <td id=\"T_4f193_row5_col3\" class=\"data row5 col3\" >0.9113</td>\n",
       "      <td id=\"T_4f193_row5_col4\" class=\"data row5 col4\" >0.9339</td>\n",
       "      <td id=\"T_4f193_row5_col5\" class=\"data row5 col5\" >0.8984</td>\n",
       "      <td id=\"T_4f193_row5_col6\" class=\"data row5 col6\" >0.8990</td>\n",
       "    </tr>\n",
       "    <tr>\n",
       "      <th id=\"T_4f193_level0_row6\" class=\"row_heading level0 row6\" >6</th>\n",
       "      <td id=\"T_4f193_row6_col0\" class=\"data row6 col0\" >0.9480</td>\n",
       "      <td id=\"T_4f193_row6_col1\" class=\"data row6 col1\" >0.9832</td>\n",
       "      <td id=\"T_4f193_row6_col2\" class=\"data row6 col2\" >0.9322</td>\n",
       "      <td id=\"T_4f193_row6_col3\" class=\"data row6 col3\" >0.9167</td>\n",
       "      <td id=\"T_4f193_row6_col4\" class=\"data row6 col4\" >0.9244</td>\n",
       "      <td id=\"T_4f193_row6_col5\" class=\"data row6 col5\" >0.8847</td>\n",
       "      <td id=\"T_4f193_row6_col6\" class=\"data row6 col6\" >0.8848</td>\n",
       "    </tr>\n",
       "    <tr>\n",
       "      <th id=\"T_4f193_level0_row7\" class=\"row_heading level0 row7\" >7</th>\n",
       "      <td id=\"T_4f193_row7_col0\" class=\"data row7 col0\" >0.9538</td>\n",
       "      <td id=\"T_4f193_row7_col1\" class=\"data row7 col1\" >0.9848</td>\n",
       "      <td id=\"T_4f193_row7_col2\" class=\"data row7 col2\" >0.9160</td>\n",
       "      <td id=\"T_4f193_row7_col3\" class=\"data row7 col3\" >0.9478</td>\n",
       "      <td id=\"T_4f193_row7_col4\" class=\"data row7 col4\" >0.9316</td>\n",
       "      <td id=\"T_4f193_row7_col5\" class=\"data row7 col5\" >0.8967</td>\n",
       "      <td id=\"T_4f193_row7_col6\" class=\"data row7 col6\" >0.8970</td>\n",
       "    </tr>\n",
       "    <tr>\n",
       "      <th id=\"T_4f193_level0_row8\" class=\"row_heading level0 row8\" >8</th>\n",
       "      <td id=\"T_4f193_row8_col0\" class=\"data row8 col0\" >0.9566</td>\n",
       "      <td id=\"T_4f193_row8_col1\" class=\"data row8 col1\" >0.9912</td>\n",
       "      <td id=\"T_4f193_row8_col2\" class=\"data row8 col2\" >0.9328</td>\n",
       "      <td id=\"T_4f193_row8_col3\" class=\"data row8 col3\" >0.9407</td>\n",
       "      <td id=\"T_4f193_row8_col4\" class=\"data row8 col4\" >0.9367</td>\n",
       "      <td id=\"T_4f193_row8_col5\" class=\"data row8 col5\" >0.9037</td>\n",
       "      <td id=\"T_4f193_row8_col6\" class=\"data row8 col6\" >0.9038</td>\n",
       "    </tr>\n",
       "    <tr>\n",
       "      <th id=\"T_4f193_level0_row9\" class=\"row_heading level0 row9\" >9</th>\n",
       "      <td id=\"T_4f193_row9_col0\" class=\"data row9 col0\" >0.9538</td>\n",
       "      <td id=\"T_4f193_row9_col1\" class=\"data row9 col1\" >0.9888</td>\n",
       "      <td id=\"T_4f193_row9_col2\" class=\"data row9 col2\" >0.9160</td>\n",
       "      <td id=\"T_4f193_row9_col3\" class=\"data row9 col3\" >0.9478</td>\n",
       "      <td id=\"T_4f193_row9_col4\" class=\"data row9 col4\" >0.9316</td>\n",
       "      <td id=\"T_4f193_row9_col5\" class=\"data row9 col5\" >0.8967</td>\n",
       "      <td id=\"T_4f193_row9_col6\" class=\"data row9 col6\" >0.8970</td>\n",
       "    </tr>\n",
       "    <tr>\n",
       "      <th id=\"T_4f193_level0_row10\" class=\"row_heading level0 row10\" >Mean</th>\n",
       "      <td id=\"T_4f193_row10_col0\" class=\"data row10 col0\" >0.9552</td>\n",
       "      <td id=\"T_4f193_row10_col1\" class=\"data row10 col1\" >0.9880</td>\n",
       "      <td id=\"T_4f193_row10_col2\" class=\"data row10 col2\" >0.9275</td>\n",
       "      <td id=\"T_4f193_row10_col3\" class=\"data row10 col3\" >0.9415</td>\n",
       "      <td id=\"T_4f193_row10_col4\" class=\"data row10 col4\" >0.9341</td>\n",
       "      <td id=\"T_4f193_row10_col5\" class=\"data row10 col5\" >0.9002</td>\n",
       "      <td id=\"T_4f193_row10_col6\" class=\"data row10 col6\" >0.9007</td>\n",
       "    </tr>\n",
       "    <tr>\n",
       "      <th id=\"T_4f193_level0_row11\" class=\"row_heading level0 row11\" >Std</th>\n",
       "      <td id=\"T_4f193_row11_col0\" class=\"data row11 col0\" >0.0080</td>\n",
       "      <td id=\"T_4f193_row11_col1\" class=\"data row11 col1\" >0.0047</td>\n",
       "      <td id=\"T_4f193_row11_col2\" class=\"data row11 col2\" >0.0254</td>\n",
       "      <td id=\"T_4f193_row11_col3\" class=\"data row11 col3\" >0.0171</td>\n",
       "      <td id=\"T_4f193_row11_col4\" class=\"data row11 col4\" >0.0123</td>\n",
       "      <td id=\"T_4f193_row11_col5\" class=\"data row11 col5\" >0.0182</td>\n",
       "      <td id=\"T_4f193_row11_col6\" class=\"data row11 col6\" >0.0181</td>\n",
       "    </tr>\n",
       "  </tbody>\n",
       "</table>\n"
      ],
      "text/plain": [
       "<pandas.io.formats.style.Styler at 0x7f67bb2997c0>"
      ]
     },
     "metadata": {},
     "output_type": "display_data"
    }
   ],
   "source": [
    "stacked_model_AGN = pyc.stack_models(estimator_list=top_model_AGN[1:], meta_model=meta_model,\\\n",
    "                                     optimize=metric_to_optimize, restack=True)  # Do not use 'lr' for this test (already calibrated)"
   ]
  },
  {
   "cell_type": "code",
   "execution_count": 66,
   "id": "ad79f4c5",
   "metadata": {},
   "outputs": [],
   "source": [
    "# pyc.plot_model(calibrated_stacked_AGN_clf_b.calibrated_classifiers_[0].base_estimator.final_estimator_, plot='feature_all')"
   ]
  },
  {
   "cell_type": "code",
   "execution_count": 71,
   "id": "0c0a442d",
   "metadata": {
    "id": "Dz0XvX17teel"
   },
   "outputs": [
    {
     "data": {
      "text/html": [
       "<style type=\"text/css\">\n",
       "#T_488d1_row10_col0, #T_488d1_row10_col1, #T_488d1_row10_col2, #T_488d1_row10_col3, #T_488d1_row10_col4, #T_488d1_row10_col5, #T_488d1_row10_col6 {\n",
       "  background: yellow;\n",
       "}\n",
       "</style>\n",
       "<table id=\"T_488d1\">\n",
       "  <thead>\n",
       "    <tr>\n",
       "      <th class=\"blank level0\" >&nbsp;</th>\n",
       "      <th id=\"T_488d1_level0_col0\" class=\"col_heading level0 col0\" >Accuracy</th>\n",
       "      <th id=\"T_488d1_level0_col1\" class=\"col_heading level0 col1\" >AUC</th>\n",
       "      <th id=\"T_488d1_level0_col2\" class=\"col_heading level0 col2\" >Recall</th>\n",
       "      <th id=\"T_488d1_level0_col3\" class=\"col_heading level0 col3\" >Prec.</th>\n",
       "      <th id=\"T_488d1_level0_col4\" class=\"col_heading level0 col4\" >F1</th>\n",
       "      <th id=\"T_488d1_level0_col5\" class=\"col_heading level0 col5\" >Kappa</th>\n",
       "      <th id=\"T_488d1_level0_col6\" class=\"col_heading level0 col6\" >MCC</th>\n",
       "    </tr>\n",
       "    <tr>\n",
       "      <th class=\"index_name level0\" >Fold</th>\n",
       "      <th class=\"blank col0\" >&nbsp;</th>\n",
       "      <th class=\"blank col1\" >&nbsp;</th>\n",
       "      <th class=\"blank col2\" >&nbsp;</th>\n",
       "      <th class=\"blank col3\" >&nbsp;</th>\n",
       "      <th class=\"blank col4\" >&nbsp;</th>\n",
       "      <th class=\"blank col5\" >&nbsp;</th>\n",
       "      <th class=\"blank col6\" >&nbsp;</th>\n",
       "    </tr>\n",
       "  </thead>\n",
       "  <tbody>\n",
       "    <tr>\n",
       "      <th id=\"T_488d1_level0_row0\" class=\"row_heading level0 row0\" >0</th>\n",
       "      <td id=\"T_488d1_row0_col0\" class=\"data row0 col0\" >0.9568</td>\n",
       "      <td id=\"T_488d1_row0_col1\" class=\"data row0 col1\" >0.9893</td>\n",
       "      <td id=\"T_488d1_row0_col2\" class=\"data row0 col2\" >0.9748</td>\n",
       "      <td id=\"T_488d1_row0_col3\" class=\"data row0 col3\" >0.9062</td>\n",
       "      <td id=\"T_488d1_row0_col4\" class=\"data row0 col4\" >0.9393</td>\n",
       "      <td id=\"T_488d1_row0_col5\" class=\"data row0 col5\" >0.9058</td>\n",
       "      <td id=\"T_488d1_row0_col6\" class=\"data row0 col6\" >0.9072</td>\n",
       "    </tr>\n",
       "    <tr>\n",
       "      <th id=\"T_488d1_level0_row1\" class=\"row_heading level0 row1\" >1</th>\n",
       "      <td id=\"T_488d1_row1_col0\" class=\"data row1 col0\" >0.9568</td>\n",
       "      <td id=\"T_488d1_row1_col1\" class=\"data row1 col1\" >0.9813</td>\n",
       "      <td id=\"T_488d1_row1_col2\" class=\"data row1 col2\" >0.9160</td>\n",
       "      <td id=\"T_488d1_row1_col3\" class=\"data row1 col3\" >0.9561</td>\n",
       "      <td id=\"T_488d1_row1_col4\" class=\"data row1 col4\" >0.9356</td>\n",
       "      <td id=\"T_488d1_row1_col5\" class=\"data row1 col5\" >0.9031</td>\n",
       "      <td id=\"T_488d1_row1_col6\" class=\"data row1 col6\" >0.9036</td>\n",
       "    </tr>\n",
       "    <tr>\n",
       "      <th id=\"T_488d1_level0_row2\" class=\"row_heading level0 row2\" >2</th>\n",
       "      <td id=\"T_488d1_row2_col0\" class=\"data row2 col0\" >0.9568</td>\n",
       "      <td id=\"T_488d1_row2_col1\" class=\"data row2 col1\" >0.9823</td>\n",
       "      <td id=\"T_488d1_row2_col2\" class=\"data row2 col2\" >0.9412</td>\n",
       "      <td id=\"T_488d1_row2_col3\" class=\"data row2 col3\" >0.9333</td>\n",
       "      <td id=\"T_488d1_row2_col4\" class=\"data row2 col4\" >0.9372</td>\n",
       "      <td id=\"T_488d1_row2_col5\" class=\"data row2 col5\" >0.9043</td>\n",
       "      <td id=\"T_488d1_row2_col6\" class=\"data row2 col6\" >0.9043</td>\n",
       "    </tr>\n",
       "    <tr>\n",
       "      <th id=\"T_488d1_level0_row3\" class=\"row_heading level0 row3\" >3</th>\n",
       "      <td id=\"T_488d1_row3_col0\" class=\"data row3 col0\" >0.9712</td>\n",
       "      <td id=\"T_488d1_row3_col1\" class=\"data row3 col1\" >0.9914</td>\n",
       "      <td id=\"T_488d1_row3_col2\" class=\"data row3 col2\" >0.9412</td>\n",
       "      <td id=\"T_488d1_row3_col3\" class=\"data row3 col3\" >0.9739</td>\n",
       "      <td id=\"T_488d1_row3_col4\" class=\"data row3 col4\" >0.9573</td>\n",
       "      <td id=\"T_488d1_row3_col5\" class=\"data row3 col5\" >0.9355</td>\n",
       "      <td id=\"T_488d1_row3_col6\" class=\"data row3 col6\" >0.9358</td>\n",
       "    </tr>\n",
       "    <tr>\n",
       "      <th id=\"T_488d1_level0_row4\" class=\"row_heading level0 row4\" >4</th>\n",
       "      <td id=\"T_488d1_row4_col0\" class=\"data row4 col0\" >0.9451</td>\n",
       "      <td id=\"T_488d1_row4_col1\" class=\"data row4 col1\" >0.9732</td>\n",
       "      <td id=\"T_488d1_row4_col2\" class=\"data row4 col2\" >0.8814</td>\n",
       "      <td id=\"T_488d1_row4_col3\" class=\"data row4 col3\" >0.9541</td>\n",
       "      <td id=\"T_488d1_row4_col4\" class=\"data row4 col4\" >0.9163</td>\n",
       "      <td id=\"T_488d1_row4_col5\" class=\"data row4 col5\" >0.8755</td>\n",
       "      <td id=\"T_488d1_row4_col6\" class=\"data row4 col6\" >0.8771</td>\n",
       "    </tr>\n",
       "    <tr>\n",
       "      <th id=\"T_488d1_level0_row5\" class=\"row_heading level0 row5\" >5</th>\n",
       "      <td id=\"T_488d1_row5_col0\" class=\"data row5 col0\" >0.9480</td>\n",
       "      <td id=\"T_488d1_row5_col1\" class=\"data row5 col1\" >0.9903</td>\n",
       "      <td id=\"T_488d1_row5_col2\" class=\"data row5 col2\" >0.9492</td>\n",
       "      <td id=\"T_488d1_row5_col3\" class=\"data row5 col3\" >0.9032</td>\n",
       "      <td id=\"T_488d1_row5_col4\" class=\"data row5 col4\" >0.9256</td>\n",
       "      <td id=\"T_488d1_row5_col5\" class=\"data row5 col5\" >0.8857</td>\n",
       "      <td id=\"T_488d1_row5_col6\" class=\"data row5 col6\" >0.8863</td>\n",
       "    </tr>\n",
       "    <tr>\n",
       "      <th id=\"T_488d1_level0_row6\" class=\"row_heading level0 row6\" >6</th>\n",
       "      <td id=\"T_488d1_row6_col0\" class=\"data row6 col0\" >0.9538</td>\n",
       "      <td id=\"T_488d1_row6_col1\" class=\"data row6 col1\" >0.9773</td>\n",
       "      <td id=\"T_488d1_row6_col2\" class=\"data row6 col2\" >0.9237</td>\n",
       "      <td id=\"T_488d1_row6_col3\" class=\"data row6 col3\" >0.9397</td>\n",
       "      <td id=\"T_488d1_row6_col4\" class=\"data row6 col4\" >0.9316</td>\n",
       "      <td id=\"T_488d1_row6_col5\" class=\"data row6 col5\" >0.8967</td>\n",
       "      <td id=\"T_488d1_row6_col6\" class=\"data row6 col6\" >0.8968</td>\n",
       "    </tr>\n",
       "    <tr>\n",
       "      <th id=\"T_488d1_level0_row7\" class=\"row_heading level0 row7\" >7</th>\n",
       "      <td id=\"T_488d1_row7_col0\" class=\"data row7 col0\" >0.9595</td>\n",
       "      <td id=\"T_488d1_row7_col1\" class=\"data row7 col1\" >0.9818</td>\n",
       "      <td id=\"T_488d1_row7_col2\" class=\"data row7 col2\" >0.9244</td>\n",
       "      <td id=\"T_488d1_row7_col3\" class=\"data row7 col3\" >0.9565</td>\n",
       "      <td id=\"T_488d1_row7_col4\" class=\"data row7 col4\" >0.9402</td>\n",
       "      <td id=\"T_488d1_row7_col5\" class=\"data row7 col5\" >0.9096</td>\n",
       "      <td id=\"T_488d1_row7_col6\" class=\"data row7 col6\" >0.9099</td>\n",
       "    </tr>\n",
       "    <tr>\n",
       "      <th id=\"T_488d1_level0_row8\" class=\"row_heading level0 row8\" >8</th>\n",
       "      <td id=\"T_488d1_row8_col0\" class=\"data row8 col0\" >0.9451</td>\n",
       "      <td id=\"T_488d1_row8_col1\" class=\"data row8 col1\" >0.9899</td>\n",
       "      <td id=\"T_488d1_row8_col2\" class=\"data row8 col2\" >0.9496</td>\n",
       "      <td id=\"T_488d1_row8_col3\" class=\"data row8 col3\" >0.8968</td>\n",
       "      <td id=\"T_488d1_row8_col4\" class=\"data row8 col4\" >0.9224</td>\n",
       "      <td id=\"T_488d1_row8_col5\" class=\"data row8 col5\" >0.8800</td>\n",
       "      <td id=\"T_488d1_row8_col6\" class=\"data row8 col6\" >0.8809</td>\n",
       "    </tr>\n",
       "    <tr>\n",
       "      <th id=\"T_488d1_level0_row9\" class=\"row_heading level0 row9\" >9</th>\n",
       "      <td id=\"T_488d1_row9_col0\" class=\"data row9 col0\" >0.9509</td>\n",
       "      <td id=\"T_488d1_row9_col1\" class=\"data row9 col1\" >0.9817</td>\n",
       "      <td id=\"T_488d1_row9_col2\" class=\"data row9 col2\" >0.9076</td>\n",
       "      <td id=\"T_488d1_row9_col3\" class=\"data row9 col3\" >0.9474</td>\n",
       "      <td id=\"T_488d1_row9_col4\" class=\"data row9 col4\" >0.9270</td>\n",
       "      <td id=\"T_488d1_row9_col5\" class=\"data row9 col5\" >0.8900</td>\n",
       "      <td id=\"T_488d1_row9_col6\" class=\"data row9 col6\" >0.8905</td>\n",
       "    </tr>\n",
       "    <tr>\n",
       "      <th id=\"T_488d1_level0_row10\" class=\"row_heading level0 row10\" >Mean</th>\n",
       "      <td id=\"T_488d1_row10_col0\" class=\"data row10 col0\" >0.9544</td>\n",
       "      <td id=\"T_488d1_row10_col1\" class=\"data row10 col1\" >0.9839</td>\n",
       "      <td id=\"T_488d1_row10_col2\" class=\"data row10 col2\" >0.9309</td>\n",
       "      <td id=\"T_488d1_row10_col3\" class=\"data row10 col3\" >0.9367</td>\n",
       "      <td id=\"T_488d1_row10_col4\" class=\"data row10 col4\" >0.9333</td>\n",
       "      <td id=\"T_488d1_row10_col5\" class=\"data row10 col5\" >0.8986</td>\n",
       "      <td id=\"T_488d1_row10_col6\" class=\"data row10 col6\" >0.8992</td>\n",
       "    </tr>\n",
       "    <tr>\n",
       "      <th id=\"T_488d1_level0_row11\" class=\"row_heading level0 row11\" >Std</th>\n",
       "      <td id=\"T_488d1_row11_col0\" class=\"data row11 col0\" >0.0074</td>\n",
       "      <td id=\"T_488d1_row11_col1\" class=\"data row11 col1\" >0.0058</td>\n",
       "      <td id=\"T_488d1_row11_col2\" class=\"data row11 col2\" >0.0248</td>\n",
       "      <td id=\"T_488d1_row11_col3\" class=\"data row11 col3\" >0.0250</td>\n",
       "      <td id=\"T_488d1_row11_col4\" class=\"data row11 col4\" >0.0109</td>\n",
       "      <td id=\"T_488d1_row11_col5\" class=\"data row11 col5\" >0.0165</td>\n",
       "      <td id=\"T_488d1_row11_col6\" class=\"data row11 col6\" >0.0163</td>\n",
       "    </tr>\n",
       "  </tbody>\n",
       "</table>\n"
      ],
      "text/plain": [
       "<pandas.io.formats.style.Styler at 0x7f67a2fa4610>"
      ]
     },
     "metadata": {},
     "output_type": "display_data"
    }
   ],
   "source": [
    "tuned_AGN_clf = pyc.tune_model(stacked_model_AGN, early_stopping='asha', optimize=metric_to_optimize,\\\n",
    "                               search_library='tune-sklearn', search_algorithm='bayesian')  # 20  minutes"
   ]
  },
  {
   "cell_type": "code",
   "execution_count": 72,
   "id": "8ae88039",
   "metadata": {},
   "outputs": [],
   "source": [
    "from sklearn.calibration import CalibratedClassifierCV\n",
    "calibrated_tuned_AGN_clf = CalibratedClassifierCV(base_estimator=tuned_AGN_clf, cv='prefit')"
   ]
  },
  {
   "cell_type": "code",
   "execution_count": 73,
   "id": "cd8430dd",
   "metadata": {},
   "outputs": [
    {
     "data": {
      "text/plain": [
       "CalibratedClassifierCV(base_estimator=StackingClassifier(cv=5,\n",
       "                                                         estimators=[('lr',\n",
       "                                                                      LogisticRegression(C=1.0,\n",
       "                                                                                         class_weight=None,\n",
       "                                                                                         dual=False,\n",
       "                                                                                         fit_intercept=True,\n",
       "                                                                                         intercept_scaling=1,\n",
       "                                                                                         l1_ratio=None,\n",
       "                                                                                         max_iter=1000,\n",
       "                                                                                         multi_class='auto',\n",
       "                                                                                         n_jobs=None,\n",
       "                                                                                         penalty='l2',\n",
       "                                                                                         random_state=42,\n",
       "                                                                                         solver='lbfgs',\n",
       "                                                                                         tol=0.0001,\n",
       "                                                                                         verbose=0,\n",
       "                                                                                         warm_start=False)),\n",
       "                                                                     ('gbc',\n",
       "                                                                      GradientBoostingClassifier(...\n",
       "                                                                                             min_impurity_decrease=0.0,\n",
       "                                                                                             min_impurity_split=None,\n",
       "                                                                                             min_samples_leaf=1,\n",
       "                                                                                             min_samples_split=2,\n",
       "                                                                                             min_weight_fraction_leaf=0.0,\n",
       "                                                                                             n_estimators=100,\n",
       "                                                                                             n_jobs=12,\n",
       "                                                                                             oob_score=False,\n",
       "                                                                                             random_state=42,\n",
       "                                                                                             verbose=0,\n",
       "                                                                                             warm_start=False))],\n",
       "                                                         final_estimator=<catboost.core.CatBoostClassifier object at 0x7f66d0f1ad90>,\n",
       "                                                         n_jobs=12,\n",
       "                                                         passthrough=True,\n",
       "                                                         stack_method='auto',\n",
       "                                                         verbose=0),\n",
       "                       cv='prefit', method='sigmoid')"
      ]
     },
     "execution_count": 73,
     "metadata": {},
     "output_type": "execute_result"
    }
   ],
   "source": [
    "calibrated_tuned_AGN_clf.fit(pyc.get_config('X'), pyc.get_config('y'))"
   ]
  },
  {
   "cell_type": "code",
   "execution_count": 74,
   "id": "5b76bd31",
   "metadata": {
    "id": "Mq15jdjqtv3Y"
   },
   "outputs": [],
   "source": [
    "# calibrated_AGN_clf = pyc.calibrate_model(tuned_AGN_clf, method='sigmoid', calibrate_fold=5)"
   ]
  },
  {
   "cell_type": "code",
   "execution_count": 75,
   "id": "cbebf778",
   "metadata": {
    "id": "GJfDVspZtn7Z"
   },
   "outputs": [
    {
     "data": {
      "image/png": "[encoded data removed]",
      "text/plain": [
       "<Figure size 640x480 with 1 Axes>"
      ]
     },
     "metadata": {},
     "output_type": "display_data"
    }
   ],
   "source": [
    "pyc.plot_model(calibrated_tuned_AGN_clf, plot='confusion_matrix')"
   ]
  },
  {
   "cell_type": "code",
   "execution_count": 76,
   "id": "80c0cd53",
   "metadata": {
    "id": "3N6_OxWptsEe",
    "tags": []
   },
   "outputs": [
    {
     "data": {
      "image/png": "[encoded data removed]",
      "text/plain": [
       "<Figure size 640x480 with 2 Axes>"
      ]
     },
     "metadata": {},
     "output_type": "display_data"
    }
   ],
   "source": [
    "pyc.plot_model(calibrated_tuned_AGN_clf, plot='class_report')"
   ]
  },
  {
   "cell_type": "code",
   "execution_count": 77,
   "id": "974e8483",
   "metadata": {
    "id": "Mq15jdjqtv3Y"
   },
   "outputs": [
    {
     "data": {
      "image/png": "[encoded data removed]",
      "text/plain": [
       "<Figure size 700x600 with 1 Axes>"
      ]
     },
     "metadata": {},
     "output_type": "display_data"
    }
   ],
   "source": [
    "pyc.plot_model(calibrated_tuned_AGN_clf, plot='calibration')"
   ]
  },
  {
   "cell_type": "code",
   "execution_count": 82,
   "id": "99db1fc4",
   "metadata": {},
   "outputs": [
    {
     "data": {
      "text/html": [
       "<style type=\"text/css\">\n",
       "</style>\n",
       "<table id=\"T_70c50\">\n",
       "  <thead>\n",
       "    <tr>\n",
       "      <th class=\"blank level0\" >&nbsp;</th>\n",
       "      <th id=\"T_70c50_level0_col0\" class=\"col_heading level0 col0\" >Model</th>\n",
       "      <th id=\"T_70c50_level0_col1\" class=\"col_heading level0 col1\" >Accuracy</th>\n",
       "      <th id=\"T_70c50_level0_col2\" class=\"col_heading level0 col2\" >AUC</th>\n",
       "      <th id=\"T_70c50_level0_col3\" class=\"col_heading level0 col3\" >Recall</th>\n",
       "      <th id=\"T_70c50_level0_col4\" class=\"col_heading level0 col4\" >Prec.</th>\n",
       "      <th id=\"T_70c50_level0_col5\" class=\"col_heading level0 col5\" >F1</th>\n",
       "      <th id=\"T_70c50_level0_col6\" class=\"col_heading level0 col6\" >Kappa</th>\n",
       "      <th id=\"T_70c50_level0_col7\" class=\"col_heading level0 col7\" >MCC</th>\n",
       "    </tr>\n",
       "  </thead>\n",
       "  <tbody>\n",
       "    <tr>\n",
       "      <th id=\"T_70c50_level0_row0\" class=\"row_heading level0 row0\" >0</th>\n",
       "      <td id=\"T_70c50_row0_col0\" class=\"data row0 col0\" >Stacking Classifier</td>\n",
       "      <td id=\"T_70c50_row0_col1\" class=\"data row0 col1\" >0.9590</td>\n",
       "      <td id=\"T_70c50_row0_col2\" class=\"data row0 col2\" >0.9826</td>\n",
       "      <td id=\"T_70c50_row0_col3\" class=\"data row0 col3\" >0.9352</td>\n",
       "      <td id=\"T_70c50_row0_col4\" class=\"data row0 col4\" >0.9444</td>\n",
       "      <td id=\"T_70c50_row0_col5\" class=\"data row0 col5\" >0.9398</td>\n",
       "      <td id=\"T_70c50_row0_col6\" class=\"data row0 col6\" >0.9086</td>\n",
       "      <td id=\"T_70c50_row0_col7\" class=\"data row0 col7\" >0.9087</td>\n",
       "    </tr>\n",
       "  </tbody>\n",
       "</table>\n"
      ],
      "text/plain": [
       "<pandas.io.formats.style.Styler at 0x7f66d0451e50>"
      ]
     },
     "metadata": {},
     "output_type": "display_data"
    },
    {
     "data": {
      "text/html": [
       "<div>\n",
       "<style scoped>\n",
       "    .dataframe tbody tr th:only-of-type {\n",
       "        vertical-align: middle;\n",
       "    }\n",
       "\n",
       "    .dataframe tbody tr th {\n",
       "        vertical-align: top;\n",
       "    }\n",
       "\n",
       "    .dataframe thead th {\n",
       "        text-align: right;\n",
       "    }\n",
       "</style>\n",
       "<table border=\"1\" class=\"dataframe\">\n",
       "  <thead>\n",
       "    <tr style=\"text-align: right;\">\n",
       "      <th></th>\n",
       "      <th>Score_0</th>\n",
       "      <th>Score_1</th>\n",
       "    </tr>\n",
       "  </thead>\n",
       "  <tbody>\n",
       "    <tr>\n",
       "      <th>count</th>\n",
       "      <td>1486.000000</td>\n",
       "      <td>1486.000000</td>\n",
       "    </tr>\n",
       "    <tr>\n",
       "      <th>mean</th>\n",
       "      <td>0.657818</td>\n",
       "      <td>0.342182</td>\n",
       "    </tr>\n",
       "    <tr>\n",
       "      <th>std</th>\n",
       "      <td>0.457144</td>\n",
       "      <td>0.457144</td>\n",
       "    </tr>\n",
       "    <tr>\n",
       "      <th>min</th>\n",
       "      <td>0.001300</td>\n",
       "      <td>0.001500</td>\n",
       "    </tr>\n",
       "    <tr>\n",
       "      <th>25%</th>\n",
       "      <td>0.003100</td>\n",
       "      <td>0.002600</td>\n",
       "    </tr>\n",
       "    <tr>\n",
       "      <th>50%</th>\n",
       "      <td>0.994350</td>\n",
       "      <td>0.005650</td>\n",
       "    </tr>\n",
       "    <tr>\n",
       "      <th>75%</th>\n",
       "      <td>0.997400</td>\n",
       "      <td>0.996900</td>\n",
       "    </tr>\n",
       "    <tr>\n",
       "      <th>max</th>\n",
       "      <td>0.998500</td>\n",
       "      <td>0.998700</td>\n",
       "    </tr>\n",
       "  </tbody>\n",
       "</table>\n",
       "</div>"
      ],
      "text/plain": [
       "           Score_0      Score_1\n",
       "count  1486.000000  1486.000000\n",
       "mean      0.657818     0.342182\n",
       "std       0.457144     0.457144\n",
       "min       0.001300     0.001500\n",
       "25%       0.003100     0.002600\n",
       "50%       0.994350     0.005650\n",
       "75%       0.997400     0.996900\n",
       "max       0.998500     0.998700"
      ]
     },
     "execution_count": 82,
     "metadata": {},
     "output_type": "execute_result"
    }
   ],
   "source": [
    "pyc.predict_model(calibrated_tuned_AGN_clf, raw_score=True).loc[:, ['Score_0', 'Score_1']].describe()"
   ]
  },
  {
   "cell_type": "code",
   "execution_count": 70,
   "id": "175b88ef",
   "metadata": {
    "id": "Mq15jdjqtv3Y"
   },
   "outputs": [],
   "source": [
    "# pyc.plot_model(tuned_AGN_clf.estimators_[0], plot='feature_all')"
   ]
  },
  {
   "cell_type": "code",
   "execution_count": 83,
   "id": "848a5626",
   "metadata": {
    "id": "Mq15jdjqtv3Y"
   },
   "outputs": [
    {
     "data": {
      "text/html": [
       "<div>\n",
       "<style scoped>\n",
       "    .dataframe tbody tr th:only-of-type {\n",
       "        vertical-align: middle;\n",
       "    }\n",
       "\n",
       "    .dataframe tbody tr th {\n",
       "        vertical-align: top;\n",
       "    }\n",
       "\n",
       "    .dataframe thead th {\n",
       "        text-align: right;\n",
       "    }\n",
       "</style>\n",
       "<table border=\"1\" class=\"dataframe\">\n",
       "  <thead>\n",
       "    <tr style=\"text-align: right;\">\n",
       "      <th></th>\n",
       "      <th>Parameters</th>\n",
       "    </tr>\n",
       "  </thead>\n",
       "  <tbody>\n",
       "    <tr>\n",
       "      <th>depth</th>\n",
       "      <td>7</td>\n",
       "    </tr>\n",
       "    <tr>\n",
       "      <th>l2_leaf_reg</th>\n",
       "      <td>16</td>\n",
       "    </tr>\n",
       "    <tr>\n",
       "      <th>border_count</th>\n",
       "      <td>254</td>\n",
       "    </tr>\n",
       "    <tr>\n",
       "      <th>thread_count</th>\n",
       "      <td>12</td>\n",
       "    </tr>\n",
       "    <tr>\n",
       "      <th>verbose</th>\n",
       "      <td>False</td>\n",
       "    </tr>\n",
       "    <tr>\n",
       "      <th>random_strength</th>\n",
       "      <td>0.01844994003313261</td>\n",
       "    </tr>\n",
       "    <tr>\n",
       "      <th>task_type</th>\n",
       "      <td>CPU</td>\n",
       "    </tr>\n",
       "    <tr>\n",
       "      <th>n_estimators</th>\n",
       "      <td>12</td>\n",
       "    </tr>\n",
       "    <tr>\n",
       "      <th>random_state</th>\n",
       "      <td>42</td>\n",
       "    </tr>\n",
       "    <tr>\n",
       "      <th>eta</th>\n",
       "      <td>0.0033037608437333534</td>\n",
       "    </tr>\n",
       "  </tbody>\n",
       "</table>\n",
       "</div>"
      ],
      "text/plain": [
       "                            Parameters\n",
       "depth                                7\n",
       "l2_leaf_reg                         16\n",
       "border_count                       254\n",
       "thread_count                        12\n",
       "verbose                          False\n",
       "random_strength    0.01844994003313261\n",
       "task_type                          CPU\n",
       "n_estimators                        12\n",
       "random_state                        42\n",
       "eta              0.0033037608437333534"
      ]
     },
     "metadata": {},
     "output_type": "display_data"
    }
   ],
   "source": [
    "pyc.plot_model(calibrated_tuned_AGN_clf.base_estimator.final_estimator, plot='parameter')"
   ]
  },
  {
   "cell_type": "code",
   "execution_count": 84,
   "id": "0d4e59e4",
   "metadata": {
    "id": "t2CRgDLptzuE"
   },
   "outputs": [],
   "source": [
    "plt.rcParams.update(plt.rcParamsDefault)"
   ]
  },
  {
   "cell_type": "code",
   "execution_count": 85,
   "id": "e5e6344f",
   "metadata": {},
   "outputs": [
    {
     "data": {
      "text/html": [
       "<style type=\"text/css\">\n",
       "</style>\n",
       "<table id=\"T_bbce5\">\n",
       "  <thead>\n",
       "    <tr>\n",
       "      <th class=\"blank level0\" >&nbsp;</th>\n",
       "      <th id=\"T_bbce5_level0_col0\" class=\"col_heading level0 col0\" >Model</th>\n",
       "      <th id=\"T_bbce5_level0_col1\" class=\"col_heading level0 col1\" >Accuracy</th>\n",
       "      <th id=\"T_bbce5_level0_col2\" class=\"col_heading level0 col2\" >AUC</th>\n",
       "      <th id=\"T_bbce5_level0_col3\" class=\"col_heading level0 col3\" >Recall</th>\n",
       "      <th id=\"T_bbce5_level0_col4\" class=\"col_heading level0 col4\" >Prec.</th>\n",
       "      <th id=\"T_bbce5_level0_col5\" class=\"col_heading level0 col5\" >F1</th>\n",
       "      <th id=\"T_bbce5_level0_col6\" class=\"col_heading level0 col6\" >Kappa</th>\n",
       "      <th id=\"T_bbce5_level0_col7\" class=\"col_heading level0 col7\" >MCC</th>\n",
       "    </tr>\n",
       "  </thead>\n",
       "  <tbody>\n",
       "    <tr>\n",
       "      <th id=\"T_bbce5_level0_row0\" class=\"row_heading level0 row0\" >0</th>\n",
       "      <td id=\"T_bbce5_row0_col0\" class=\"data row0 col0\" >Stacking Classifier</td>\n",
       "      <td id=\"T_bbce5_row0_col1\" class=\"data row0 col1\" >0.9590</td>\n",
       "      <td id=\"T_bbce5_row0_col2\" class=\"data row0 col2\" >0.9826</td>\n",
       "      <td id=\"T_bbce5_row0_col3\" class=\"data row0 col3\" >0.9352</td>\n",
       "      <td id=\"T_bbce5_row0_col4\" class=\"data row0 col4\" >0.9444</td>\n",
       "      <td id=\"T_bbce5_row0_col5\" class=\"data row0 col5\" >0.9398</td>\n",
       "      <td id=\"T_bbce5_row0_col6\" class=\"data row0 col6\" >0.9086</td>\n",
       "      <td id=\"T_bbce5_row0_col7\" class=\"data row0 col7\" >0.9087</td>\n",
       "    </tr>\n",
       "  </tbody>\n",
       "</table>\n"
      ],
      "text/plain": [
       "<pandas.io.formats.style.Styler at 0x7f65837be730>"
      ]
     },
     "metadata": {},
     "output_type": "display_data"
    },
    {
     "data": {
      "text/html": [
       "<div>\n",
       "<style scoped>\n",
       "    .dataframe tbody tr th:only-of-type {\n",
       "        vertical-align: middle;\n",
       "    }\n",
       "\n",
       "    .dataframe tbody tr th {\n",
       "        vertical-align: top;\n",
       "    }\n",
       "\n",
       "    .dataframe thead th {\n",
       "        text-align: right;\n",
       "    }\n",
       "</style>\n",
       "<table border=\"1\" class=\"dataframe\">\n",
       "  <thead>\n",
       "    <tr style=\"text-align: right;\">\n",
       "      <th></th>\n",
       "      <th>W4mag</th>\n",
       "      <th>g_r</th>\n",
       "      <th>r_i</th>\n",
       "      <th>r_z</th>\n",
       "      <th>r_J</th>\n",
       "      <th>r_W1</th>\n",
       "      <th>i_z</th>\n",
       "      <th>i_y</th>\n",
       "      <th>z_y</th>\n",
       "      <th>y_J</th>\n",
       "      <th>...</th>\n",
       "      <th>J_H</th>\n",
       "      <th>H_K</th>\n",
       "      <th>H_W4</th>\n",
       "      <th>K_W3</th>\n",
       "      <th>W1_W2</th>\n",
       "      <th>W1_W3</th>\n",
       "      <th>class</th>\n",
       "      <th>Label</th>\n",
       "      <th>Score_0</th>\n",
       "      <th>Score_1</th>\n",
       "    </tr>\n",
       "  </thead>\n",
       "  <tbody>\n",
       "    <tr>\n",
       "      <th>0</th>\n",
       "      <td>0.203698</td>\n",
       "      <td>-0.577126</td>\n",
       "      <td>-0.539245</td>\n",
       "      <td>-0.182553</td>\n",
       "      <td>-1.415992</td>\n",
       "      <td>-0.413903</td>\n",
       "      <td>0.415080</td>\n",
       "      <td>-0.111350</td>\n",
       "      <td>-0.522693</td>\n",
       "      <td>-1.238926</td>\n",
       "      <td>...</td>\n",
       "      <td>5.749631</td>\n",
       "      <td>-2.200510</td>\n",
       "      <td>-1.806960</td>\n",
       "      <td>1.203177</td>\n",
       "      <td>-0.466681</td>\n",
       "      <td>-0.475099</td>\n",
       "      <td>0</td>\n",
       "      <td>0</td>\n",
       "      <td>0.9926</td>\n",
       "      <td>0.0074</td>\n",
       "    </tr>\n",
       "    <tr>\n",
       "      <th>1</th>\n",
       "      <td>0.203698</td>\n",
       "      <td>0.880791</td>\n",
       "      <td>0.360137</td>\n",
       "      <td>0.329501</td>\n",
       "      <td>-0.261684</td>\n",
       "      <td>-1.704447</td>\n",
       "      <td>-0.012398</td>\n",
       "      <td>0.228727</td>\n",
       "      <td>0.266025</td>\n",
       "      <td>-0.621569</td>\n",
       "      <td>...</td>\n",
       "      <td>-0.056863</td>\n",
       "      <td>0.365249</td>\n",
       "      <td>0.181136</td>\n",
       "      <td>-0.178984</td>\n",
       "      <td>1.131779</td>\n",
       "      <td>1.619732</td>\n",
       "      <td>0</td>\n",
       "      <td>0</td>\n",
       "      <td>0.9968</td>\n",
       "      <td>0.0032</td>\n",
       "    </tr>\n",
       "    <tr>\n",
       "      <th>2</th>\n",
       "      <td>0.203698</td>\n",
       "      <td>-0.268381</td>\n",
       "      <td>-0.490797</td>\n",
       "      <td>-0.248693</td>\n",
       "      <td>0.289339</td>\n",
       "      <td>-0.445918</td>\n",
       "      <td>0.255404</td>\n",
       "      <td>-0.207529</td>\n",
       "      <td>-0.490376</td>\n",
       "      <td>0.761611</td>\n",
       "      <td>...</td>\n",
       "      <td>-0.056863</td>\n",
       "      <td>0.365249</td>\n",
       "      <td>0.181136</td>\n",
       "      <td>-0.178984</td>\n",
       "      <td>0.484788</td>\n",
       "      <td>0.947487</td>\n",
       "      <td>0</td>\n",
       "      <td>1</td>\n",
       "      <td>0.1440</td>\n",
       "      <td>0.8560</td>\n",
       "    </tr>\n",
       "    <tr>\n",
       "      <th>3</th>\n",
       "      <td>0.203698</td>\n",
       "      <td>0.409935</td>\n",
       "      <td>0.702329</td>\n",
       "      <td>1.438680</td>\n",
       "      <td>1.262503</td>\n",
       "      <td>1.508730</td>\n",
       "      <td>1.274246</td>\n",
       "      <td>1.010484</td>\n",
       "      <td>0.037519</td>\n",
       "      <td>0.554733</td>\n",
       "      <td>...</td>\n",
       "      <td>-0.056863</td>\n",
       "      <td>0.365249</td>\n",
       "      <td>0.181136</td>\n",
       "      <td>-0.178984</td>\n",
       "      <td>-1.224954</td>\n",
       "      <td>-0.460892</td>\n",
       "      <td>0</td>\n",
       "      <td>0</td>\n",
       "      <td>0.9977</td>\n",
       "      <td>0.0023</td>\n",
       "    </tr>\n",
       "    <tr>\n",
       "      <th>4</th>\n",
       "      <td>0.203698</td>\n",
       "      <td>-1.148811</td>\n",
       "      <td>-0.634098</td>\n",
       "      <td>-0.628322</td>\n",
       "      <td>0.306953</td>\n",
       "      <td>-0.976146</td>\n",
       "      <td>-0.106276</td>\n",
       "      <td>-1.681878</td>\n",
       "      <td>-1.925448</td>\n",
       "      <td>1.536191</td>\n",
       "      <td>...</td>\n",
       "      <td>-0.056863</td>\n",
       "      <td>0.365249</td>\n",
       "      <td>0.181136</td>\n",
       "      <td>-0.178984</td>\n",
       "      <td>1.131779</td>\n",
       "      <td>1.619732</td>\n",
       "      <td>1</td>\n",
       "      <td>1</td>\n",
       "      <td>0.0017</td>\n",
       "      <td>0.9983</td>\n",
       "    </tr>\n",
       "    <tr>\n",
       "      <th>...</th>\n",
       "      <td>...</td>\n",
       "      <td>...</td>\n",
       "      <td>...</td>\n",
       "      <td>...</td>\n",
       "      <td>...</td>\n",
       "      <td>...</td>\n",
       "      <td>...</td>\n",
       "      <td>...</td>\n",
       "      <td>...</td>\n",
       "      <td>...</td>\n",
       "      <td>...</td>\n",
       "      <td>...</td>\n",
       "      <td>...</td>\n",
       "      <td>...</td>\n",
       "      <td>...</td>\n",
       "      <td>...</td>\n",
       "      <td>...</td>\n",
       "      <td>...</td>\n",
       "      <td>...</td>\n",
       "      <td>...</td>\n",
       "      <td>...</td>\n",
       "    </tr>\n",
       "    <tr>\n",
       "      <th>1481</th>\n",
       "      <td>0.203698</td>\n",
       "      <td>1.805805</td>\n",
       "      <td>0.485779</td>\n",
       "      <td>0.454157</td>\n",
       "      <td>0.428828</td>\n",
       "      <td>0.773494</td>\n",
       "      <td>0.001514</td>\n",
       "      <td>0.380692</td>\n",
       "      <td>0.427738</td>\n",
       "      <td>0.059169</td>\n",
       "      <td>...</td>\n",
       "      <td>-0.056863</td>\n",
       "      <td>0.365249</td>\n",
       "      <td>0.181136</td>\n",
       "      <td>-0.178984</td>\n",
       "      <td>-1.051053</td>\n",
       "      <td>-0.491472</td>\n",
       "      <td>0</td>\n",
       "      <td>0</td>\n",
       "      <td>0.9981</td>\n",
       "      <td>0.0019</td>\n",
       "    </tr>\n",
       "    <tr>\n",
       "      <th>1482</th>\n",
       "      <td>0.203698</td>\n",
       "      <td>-0.928967</td>\n",
       "      <td>2.516874</td>\n",
       "      <td>2.966035</td>\n",
       "      <td>2.023756</td>\n",
       "      <td>2.057681</td>\n",
       "      <td>1.001880</td>\n",
       "      <td>-1.520067</td>\n",
       "      <td>-2.773817</td>\n",
       "      <td>1.536191</td>\n",
       "      <td>...</td>\n",
       "      <td>2.188688</td>\n",
       "      <td>-1.908127</td>\n",
       "      <td>-0.524073</td>\n",
       "      <td>-0.178984</td>\n",
       "      <td>-0.439849</td>\n",
       "      <td>-0.275855</td>\n",
       "      <td>0</td>\n",
       "      <td>0</td>\n",
       "      <td>0.9967</td>\n",
       "      <td>0.0033</td>\n",
       "    </tr>\n",
       "    <tr>\n",
       "      <th>1483</th>\n",
       "      <td>0.203698</td>\n",
       "      <td>0.505531</td>\n",
       "      <td>0.873220</td>\n",
       "      <td>1.188772</td>\n",
       "      <td>1.206833</td>\n",
       "      <td>1.438813</td>\n",
       "      <td>0.597572</td>\n",
       "      <td>1.508116</td>\n",
       "      <td>1.179567</td>\n",
       "      <td>0.116270</td>\n",
       "      <td>...</td>\n",
       "      <td>-0.056863</td>\n",
       "      <td>0.365249</td>\n",
       "      <td>0.181136</td>\n",
       "      <td>-0.178984</td>\n",
       "      <td>-1.075068</td>\n",
       "      <td>-0.428050</td>\n",
       "      <td>0</td>\n",
       "      <td>0</td>\n",
       "      <td>0.9977</td>\n",
       "      <td>0.0023</td>\n",
       "    </tr>\n",
       "    <tr>\n",
       "      <th>1484</th>\n",
       "      <td>0.203698</td>\n",
       "      <td>-0.922335</td>\n",
       "      <td>-0.620231</td>\n",
       "      <td>-0.903082</td>\n",
       "      <td>-0.945611</td>\n",
       "      <td>0.070047</td>\n",
       "      <td>-0.495148</td>\n",
       "      <td>-0.267101</td>\n",
       "      <td>0.147113</td>\n",
       "      <td>-0.494582</td>\n",
       "      <td>...</td>\n",
       "      <td>-0.056863</td>\n",
       "      <td>0.365249</td>\n",
       "      <td>0.181136</td>\n",
       "      <td>-0.178984</td>\n",
       "      <td>0.966730</td>\n",
       "      <td>-1.265986</td>\n",
       "      <td>1</td>\n",
       "      <td>1</td>\n",
       "      <td>0.0018</td>\n",
       "      <td>0.9982</td>\n",
       "    </tr>\n",
       "    <tr>\n",
       "      <th>1485</th>\n",
       "      <td>0.203698</td>\n",
       "      <td>-0.694777</td>\n",
       "      <td>-0.547338</td>\n",
       "      <td>-0.636730</td>\n",
       "      <td>-0.175117</td>\n",
       "      <td>-1.275050</td>\n",
       "      <td>-0.223678</td>\n",
       "      <td>0.180354</td>\n",
       "      <td>0.405697</td>\n",
       "      <td>0.089284</td>\n",
       "      <td>...</td>\n",
       "      <td>-0.056863</td>\n",
       "      <td>0.365249</td>\n",
       "      <td>0.181136</td>\n",
       "      <td>-0.178984</td>\n",
       "      <td>1.142091</td>\n",
       "      <td>1.258956</td>\n",
       "      <td>1</td>\n",
       "      <td>1</td>\n",
       "      <td>0.0015</td>\n",
       "      <td>0.9985</td>\n",
       "    </tr>\n",
       "  </tbody>\n",
       "</table>\n",
       "<p>1486 rows × 21 columns</p>\n",
       "</div>"
      ],
      "text/plain": [
       "         W4mag       g_r       r_i       r_z       r_J      r_W1       i_z  \\\n",
       "0     0.203698 -0.577126 -0.539245 -0.182553 -1.415992 -0.413903  0.415080   \n",
       "1     0.203698  0.880791  0.360137  0.329501 -0.261684 -1.704447 -0.012398   \n",
       "2     0.203698 -0.268381 -0.490797 -0.248693  0.289339 -0.445918  0.255404   \n",
       "3     0.203698  0.409935  0.702329  1.438680  1.262503  1.508730  1.274246   \n",
       "4     0.203698 -1.148811 -0.634098 -0.628322  0.306953 -0.976146 -0.106276   \n",
       "...        ...       ...       ...       ...       ...       ...       ...   \n",
       "1481  0.203698  1.805805  0.485779  0.454157  0.428828  0.773494  0.001514   \n",
       "1482  0.203698 -0.928967  2.516874  2.966035  2.023756  2.057681  1.001880   \n",
       "1483  0.203698  0.505531  0.873220  1.188772  1.206833  1.438813  0.597572   \n",
       "1484  0.203698 -0.922335 -0.620231 -0.903082 -0.945611  0.070047 -0.495148   \n",
       "1485  0.203698 -0.694777 -0.547338 -0.636730 -0.175117 -1.275050 -0.223678   \n",
       "\n",
       "           i_y       z_y       y_J  ...       J_H       H_K      H_W4  \\\n",
       "0    -0.111350 -0.522693 -1.238926  ...  5.749631 -2.200510 -1.806960   \n",
       "1     0.228727  0.266025 -0.621569  ... -0.056863  0.365249  0.181136   \n",
       "2    -0.207529 -0.490376  0.761611  ... -0.056863  0.365249  0.181136   \n",
       "3     1.010484  0.037519  0.554733  ... -0.056863  0.365249  0.181136   \n",
       "4    -1.681878 -1.925448  1.536191  ... -0.056863  0.365249  0.181136   \n",
       "...        ...       ...       ...  ...       ...       ...       ...   \n",
       "1481  0.380692  0.427738  0.059169  ... -0.056863  0.365249  0.181136   \n",
       "1482 -1.520067 -2.773817  1.536191  ...  2.188688 -1.908127 -0.524073   \n",
       "1483  1.508116  1.179567  0.116270  ... -0.056863  0.365249  0.181136   \n",
       "1484 -0.267101  0.147113 -0.494582  ... -0.056863  0.365249  0.181136   \n",
       "1485  0.180354  0.405697  0.089284  ... -0.056863  0.365249  0.181136   \n",
       "\n",
       "          K_W3     W1_W2     W1_W3  class  Label  Score_0  Score_1  \n",
       "0     1.203177 -0.466681 -0.475099      0      0   0.9926   0.0074  \n",
       "1    -0.178984  1.131779  1.619732      0      0   0.9968   0.0032  \n",
       "2    -0.178984  0.484788  0.947487      0      1   0.1440   0.8560  \n",
       "3    -0.178984 -1.224954 -0.460892      0      0   0.9977   0.0023  \n",
       "4    -0.178984  1.131779  1.619732      1      1   0.0017   0.9983  \n",
       "...        ...       ...       ...    ...    ...      ...      ...  \n",
       "1481 -0.178984 -1.051053 -0.491472      0      0   0.9981   0.0019  \n",
       "1482 -0.178984 -0.439849 -0.275855      0      0   0.9967   0.0033  \n",
       "1483 -0.178984 -1.075068 -0.428050      0      0   0.9977   0.0023  \n",
       "1484 -0.178984  0.966730 -1.265986      1      1   0.0018   0.9982  \n",
       "1485 -0.178984  1.142091  1.258956      1      1   0.0015   0.9985  \n",
       "\n",
       "[1486 rows x 21 columns]"
      ]
     },
     "execution_count": 85,
     "metadata": {},
     "output_type": "execute_result"
    }
   ],
   "source": [
    "pyc.predict_model(calibrated_tuned_AGN_clf, probability_threshold=0.5, raw_score=True)"
   ]
  },
  {
   "cell_type": "code",
   "execution_count": 86,
   "id": "5877d5a1",
   "metadata": {},
   "outputs": [
    {
     "data": {
      "text/html": [
       "<style type=\"text/css\">\n",
       "</style>\n",
       "<table id=\"T_794b9\">\n",
       "  <thead>\n",
       "    <tr>\n",
       "      <th class=\"blank level0\" >&nbsp;</th>\n",
       "      <th id=\"T_794b9_level0_col0\" class=\"col_heading level0 col0\" >Model</th>\n",
       "      <th id=\"T_794b9_level0_col1\" class=\"col_heading level0 col1\" >Accuracy</th>\n",
       "      <th id=\"T_794b9_level0_col2\" class=\"col_heading level0 col2\" >AUC</th>\n",
       "      <th id=\"T_794b9_level0_col3\" class=\"col_heading level0 col3\" >Recall</th>\n",
       "      <th id=\"T_794b9_level0_col4\" class=\"col_heading level0 col4\" >Prec.</th>\n",
       "      <th id=\"T_794b9_level0_col5\" class=\"col_heading level0 col5\" >F1</th>\n",
       "      <th id=\"T_794b9_level0_col6\" class=\"col_heading level0 col6\" >Kappa</th>\n",
       "      <th id=\"T_794b9_level0_col7\" class=\"col_heading level0 col7\" >MCC</th>\n",
       "    </tr>\n",
       "  </thead>\n",
       "  <tbody>\n",
       "    <tr>\n",
       "      <th id=\"T_794b9_level0_row0\" class=\"row_heading level0 row0\" >0</th>\n",
       "      <td id=\"T_794b9_row0_col0\" class=\"data row0 col0\" >Stacking Classifier</td>\n",
       "      <td id=\"T_794b9_row0_col1\" class=\"data row0 col1\" >0.9590</td>\n",
       "      <td id=\"T_794b9_row0_col2\" class=\"data row0 col2\" >0.9826</td>\n",
       "      <td id=\"T_794b9_row0_col3\" class=\"data row0 col3\" >0.9352</td>\n",
       "      <td id=\"T_794b9_row0_col4\" class=\"data row0 col4\" >0.9444</td>\n",
       "      <td id=\"T_794b9_row0_col5\" class=\"data row0 col5\" >0.9398</td>\n",
       "      <td id=\"T_794b9_row0_col6\" class=\"data row0 col6\" >0.9086</td>\n",
       "      <td id=\"T_794b9_row0_col7\" class=\"data row0 col7\" >0.9087</td>\n",
       "    </tr>\n",
       "  </tbody>\n",
       "</table>\n"
      ],
      "text/plain": [
       "<pandas.io.formats.style.Styler at 0x7f66ec3e0df0>"
      ]
     },
     "metadata": {},
     "output_type": "display_data"
    }
   ],
   "source": [
    "test_prediction_clf = pyc.predict_model(calibrated_tuned_AGN_clf, probability_threshold=0.5, raw_score=True)"
   ]
  },
  {
   "cell_type": "code",
   "execution_count": 89,
   "id": "61e9ed31",
   "metadata": {},
   "outputs": [
    {
     "data": {
      "text/plain": [
       "StackingClassifier(cv=5,\n",
       "                   estimators=[('lr',\n",
       "                                LogisticRegression(C=1.0, class_weight=None,\n",
       "                                                   dual=False,\n",
       "                                                   fit_intercept=True,\n",
       "                                                   intercept_scaling=1,\n",
       "                                                   l1_ratio=None, max_iter=1000,\n",
       "                                                   multi_class='auto',\n",
       "                                                   n_jobs=None, penalty='l2',\n",
       "                                                   random_state=42,\n",
       "                                                   solver='lbfgs', tol=0.0001,\n",
       "                                                   verbose=0,\n",
       "                                                   warm_start=False)),\n",
       "                               ('gbc',\n",
       "                                GradientBoostingClassifier(ccp_alpha=0.0,\n",
       "                                                           criterion='friedman_mse'...\n",
       "                                                       max_samples=None,\n",
       "                                                       min_impurity_decrease=0.0,\n",
       "                                                       min_impurity_split=None,\n",
       "                                                       min_samples_leaf=1,\n",
       "                                                       min_samples_split=2,\n",
       "                                                       min_weight_fraction_leaf=0.0,\n",
       "                                                       n_estimators=100,\n",
       "                                                       n_jobs=12,\n",
       "                                                       oob_score=False,\n",
       "                                                       random_state=42,\n",
       "                                                       verbose=0,\n",
       "                                                       warm_start=False))],\n",
       "                   final_estimator=<catboost.core.CatBoostClassifier object at 0x7f66d0f1ad90>,\n",
       "                   n_jobs=12, passthrough=True, stack_method='auto', verbose=0)"
      ]
     },
     "execution_count": 89,
     "metadata": {},
     "output_type": "execute_result"
    }
   ],
   "source": [
    "tuned_AGN_clf"
   ]
  },
  {
   "cell_type": "code",
   "execution_count": 101,
   "id": "358b8444",
   "metadata": {},
   "outputs": [
    {
     "data": {
      "text/plain": [
       "StackingClassifier(cv=5,\n",
       "                   estimators=[('lr',\n",
       "                                LogisticRegression(C=1.0, class_weight=None,\n",
       "                                                   dual=False,\n",
       "                                                   fit_intercept=True,\n",
       "                                                   intercept_scaling=1,\n",
       "                                                   l1_ratio=None, max_iter=1000,\n",
       "                                                   multi_class='auto',\n",
       "                                                   n_jobs=None, penalty='l2',\n",
       "                                                   random_state=42,\n",
       "                                                   solver='lbfgs', tol=0.0001,\n",
       "                                                   verbose=0,\n",
       "                                                   warm_start=False)),\n",
       "                               ('gbc',\n",
       "                                GradientBoostingClassifier(ccp_alpha=0.0,\n",
       "                                                           criterion='friedman_mse'...\n",
       "                                                       max_samples=None,\n",
       "                                                       min_impurity_decrease=0.0,\n",
       "                                                       min_impurity_split=None,\n",
       "                                                       min_samples_leaf=1,\n",
       "                                                       min_samples_split=2,\n",
       "                                                       min_weight_fraction_leaf=0.0,\n",
       "                                                       n_estimators=100,\n",
       "                                                       n_jobs=12,\n",
       "                                                       oob_score=False,\n",
       "                                                       random_state=42,\n",
       "                                                       verbose=0,\n",
       "                                                       warm_start=False))],\n",
       "                   final_estimator=<catboost.core.CatBoostClassifier object at 0x7f66d0f1ad90>,\n",
       "                   n_jobs=12, passthrough=True, stack_method='auto', verbose=0)"
      ]
     },
     "execution_count": 101,
     "metadata": {},
     "output_type": "execute_result"
    }
   ],
   "source": [
    "calibrated_tuned_AGN_clf.calibrated_classifiers_[0].base_estimator"
   ]
  },
  {
   "cell_type": "code",
   "execution_count": 92,
   "id": "ca71de3c",
   "metadata": {},
   "outputs": [
    {
     "data": {
      "text/plain": [
       "array([[0.96582979, 0.03417021],\n",
       "       [0.99717372, 0.00282628],\n",
       "       [0.99813402, 0.00186598],\n",
       "       ...,\n",
       "       [0.99736155, 0.00263845],\n",
       "       [0.99598807, 0.00401193],\n",
       "       [0.00170866, 0.99829134]])"
      ]
     },
     "execution_count": 92,
     "metadata": {},
     "output_type": "execute_result"
    }
   ],
   "source": [
    "calibrated_tuned_AGN_clf.predict_proba(pyc.get_config('X'))"
   ]
  },
  {
   "cell_type": "code",
   "execution_count": 104,
   "id": "c87bd7e1",
   "metadata": {
    "id": "WsMuc6dtt2ci"
   },
   "outputs": [],
   "source": [
    "final_AGN_clf = pyc.finalize_model(tuned_AGN_clf)"
   ]
  },
  {
   "cell_type": "code",
   "execution_count": 105,
   "id": "39ccaa1d",
   "metadata": {},
   "outputs": [
    {
     "data": {
      "text/html": [
       "<style type=\"text/css\">\n",
       "</style>\n",
       "<table id=\"T_3ccf4\">\n",
       "  <thead>\n",
       "    <tr>\n",
       "      <th class=\"blank level0\" >&nbsp;</th>\n",
       "      <th id=\"T_3ccf4_level0_col0\" class=\"col_heading level0 col0\" >Model</th>\n",
       "      <th id=\"T_3ccf4_level0_col1\" class=\"col_heading level0 col1\" >Accuracy</th>\n",
       "      <th id=\"T_3ccf4_level0_col2\" class=\"col_heading level0 col2\" >AUC</th>\n",
       "      <th id=\"T_3ccf4_level0_col3\" class=\"col_heading level0 col3\" >Recall</th>\n",
       "      <th id=\"T_3ccf4_level0_col4\" class=\"col_heading level0 col4\" >Prec.</th>\n",
       "      <th id=\"T_3ccf4_level0_col5\" class=\"col_heading level0 col5\" >F1</th>\n",
       "      <th id=\"T_3ccf4_level0_col6\" class=\"col_heading level0 col6\" >Kappa</th>\n",
       "      <th id=\"T_3ccf4_level0_col7\" class=\"col_heading level0 col7\" >MCC</th>\n",
       "    </tr>\n",
       "  </thead>\n",
       "  <tbody>\n",
       "    <tr>\n",
       "      <th id=\"T_3ccf4_level0_row0\" class=\"row_heading level0 row0\" >0</th>\n",
       "      <td id=\"T_3ccf4_row0_col0\" class=\"data row0 col0\" >Stacking Classifier</td>\n",
       "      <td id=\"T_3ccf4_row0_col1\" class=\"data row0 col1\" >0.9879</td>\n",
       "      <td id=\"T_3ccf4_row0_col2\" class=\"data row0 col2\" >0.9996</td>\n",
       "      <td id=\"T_3ccf4_row0_col3\" class=\"data row0 col3\" >0.9725</td>\n",
       "      <td id=\"T_3ccf4_row0_col4\" class=\"data row0 col4\" >0.9920</td>\n",
       "      <td id=\"T_3ccf4_row0_col5\" class=\"data row0 col5\" >0.9821</td>\n",
       "      <td id=\"T_3ccf4_row0_col6\" class=\"data row0 col6\" >0.9730</td>\n",
       "      <td id=\"T_3ccf4_row0_col7\" class=\"data row0 col7\" >0.9731</td>\n",
       "    </tr>\n",
       "  </tbody>\n",
       "</table>\n"
      ],
      "text/plain": [
       "<pandas.io.formats.style.Styler at 0x7f66d03214f0>"
      ]
     },
     "metadata": {},
     "output_type": "display_data"
    },
    {
     "data": {
      "text/html": [
       "<div>\n",
       "<style scoped>\n",
       "    .dataframe tbody tr th:only-of-type {\n",
       "        vertical-align: middle;\n",
       "    }\n",
       "\n",
       "    .dataframe tbody tr th {\n",
       "        vertical-align: top;\n",
       "    }\n",
       "\n",
       "    .dataframe thead th {\n",
       "        text-align: right;\n",
       "    }\n",
       "</style>\n",
       "<table border=\"1\" class=\"dataframe\">\n",
       "  <thead>\n",
       "    <tr style=\"text-align: right;\">\n",
       "      <th></th>\n",
       "      <th>W4mag</th>\n",
       "      <th>g_r</th>\n",
       "      <th>r_i</th>\n",
       "      <th>r_z</th>\n",
       "      <th>r_J</th>\n",
       "      <th>r_W1</th>\n",
       "      <th>i_z</th>\n",
       "      <th>i_y</th>\n",
       "      <th>z_y</th>\n",
       "      <th>y_J</th>\n",
       "      <th>...</th>\n",
       "      <th>J_H</th>\n",
       "      <th>H_K</th>\n",
       "      <th>H_W4</th>\n",
       "      <th>K_W3</th>\n",
       "      <th>W1_W2</th>\n",
       "      <th>W1_W3</th>\n",
       "      <th>class</th>\n",
       "      <th>Label</th>\n",
       "      <th>Score_0</th>\n",
       "      <th>Score_1</th>\n",
       "    </tr>\n",
       "  </thead>\n",
       "  <tbody>\n",
       "    <tr>\n",
       "      <th>0</th>\n",
       "      <td>0.203698</td>\n",
       "      <td>-0.577126</td>\n",
       "      <td>-0.539245</td>\n",
       "      <td>-0.182553</td>\n",
       "      <td>-1.415992</td>\n",
       "      <td>-0.413903</td>\n",
       "      <td>0.415080</td>\n",
       "      <td>-0.111350</td>\n",
       "      <td>-0.522693</td>\n",
       "      <td>-1.238926</td>\n",
       "      <td>...</td>\n",
       "      <td>5.749631</td>\n",
       "      <td>-2.200510</td>\n",
       "      <td>-1.806960</td>\n",
       "      <td>1.203177</td>\n",
       "      <td>-0.466681</td>\n",
       "      <td>-0.475099</td>\n",
       "      <td>0</td>\n",
       "      <td>0</td>\n",
       "      <td>0.5382</td>\n",
       "      <td>0.4618</td>\n",
       "    </tr>\n",
       "    <tr>\n",
       "      <th>1</th>\n",
       "      <td>0.203698</td>\n",
       "      <td>0.880791</td>\n",
       "      <td>0.360137</td>\n",
       "      <td>0.329501</td>\n",
       "      <td>-0.261684</td>\n",
       "      <td>-1.704447</td>\n",
       "      <td>-0.012398</td>\n",
       "      <td>0.228727</td>\n",
       "      <td>0.266025</td>\n",
       "      <td>-0.621569</td>\n",
       "      <td>...</td>\n",
       "      <td>-0.056863</td>\n",
       "      <td>0.365249</td>\n",
       "      <td>0.181136</td>\n",
       "      <td>-0.178984</td>\n",
       "      <td>1.131779</td>\n",
       "      <td>1.619732</td>\n",
       "      <td>0</td>\n",
       "      <td>0</td>\n",
       "      <td>0.5399</td>\n",
       "      <td>0.4601</td>\n",
       "    </tr>\n",
       "    <tr>\n",
       "      <th>2</th>\n",
       "      <td>0.203698</td>\n",
       "      <td>-0.268381</td>\n",
       "      <td>-0.490797</td>\n",
       "      <td>-0.248693</td>\n",
       "      <td>0.289339</td>\n",
       "      <td>-0.445918</td>\n",
       "      <td>0.255404</td>\n",
       "      <td>-0.207529</td>\n",
       "      <td>-0.490376</td>\n",
       "      <td>0.761611</td>\n",
       "      <td>...</td>\n",
       "      <td>-0.056863</td>\n",
       "      <td>0.365249</td>\n",
       "      <td>0.181136</td>\n",
       "      <td>-0.178984</td>\n",
       "      <td>0.484788</td>\n",
       "      <td>0.947487</td>\n",
       "      <td>0</td>\n",
       "      <td>0</td>\n",
       "      <td>0.5046</td>\n",
       "      <td>0.4954</td>\n",
       "    </tr>\n",
       "    <tr>\n",
       "      <th>3</th>\n",
       "      <td>0.203698</td>\n",
       "      <td>0.409935</td>\n",
       "      <td>0.702329</td>\n",
       "      <td>1.438680</td>\n",
       "      <td>1.262503</td>\n",
       "      <td>1.508730</td>\n",
       "      <td>1.274246</td>\n",
       "      <td>1.010484</td>\n",
       "      <td>0.037519</td>\n",
       "      <td>0.554733</td>\n",
       "      <td>...</td>\n",
       "      <td>-0.056863</td>\n",
       "      <td>0.365249</td>\n",
       "      <td>0.181136</td>\n",
       "      <td>-0.178984</td>\n",
       "      <td>-1.224954</td>\n",
       "      <td>-0.460892</td>\n",
       "      <td>0</td>\n",
       "      <td>0</td>\n",
       "      <td>0.5414</td>\n",
       "      <td>0.4586</td>\n",
       "    </tr>\n",
       "    <tr>\n",
       "      <th>4</th>\n",
       "      <td>0.203698</td>\n",
       "      <td>-1.148811</td>\n",
       "      <td>-0.634098</td>\n",
       "      <td>-0.628322</td>\n",
       "      <td>0.306953</td>\n",
       "      <td>-0.976146</td>\n",
       "      <td>-0.106276</td>\n",
       "      <td>-1.681878</td>\n",
       "      <td>-1.925448</td>\n",
       "      <td>1.536191</td>\n",
       "      <td>...</td>\n",
       "      <td>-0.056863</td>\n",
       "      <td>0.365249</td>\n",
       "      <td>0.181136</td>\n",
       "      <td>-0.178984</td>\n",
       "      <td>1.131779</td>\n",
       "      <td>1.619732</td>\n",
       "      <td>1</td>\n",
       "      <td>1</td>\n",
       "      <td>0.4633</td>\n",
       "      <td>0.5367</td>\n",
       "    </tr>\n",
       "    <tr>\n",
       "      <th>...</th>\n",
       "      <td>...</td>\n",
       "      <td>...</td>\n",
       "      <td>...</td>\n",
       "      <td>...</td>\n",
       "      <td>...</td>\n",
       "      <td>...</td>\n",
       "      <td>...</td>\n",
       "      <td>...</td>\n",
       "      <td>...</td>\n",
       "      <td>...</td>\n",
       "      <td>...</td>\n",
       "      <td>...</td>\n",
       "      <td>...</td>\n",
       "      <td>...</td>\n",
       "      <td>...</td>\n",
       "      <td>...</td>\n",
       "      <td>...</td>\n",
       "      <td>...</td>\n",
       "      <td>...</td>\n",
       "      <td>...</td>\n",
       "      <td>...</td>\n",
       "    </tr>\n",
       "    <tr>\n",
       "      <th>1481</th>\n",
       "      <td>0.203698</td>\n",
       "      <td>1.805805</td>\n",
       "      <td>0.485779</td>\n",
       "      <td>0.454157</td>\n",
       "      <td>0.428828</td>\n",
       "      <td>0.773494</td>\n",
       "      <td>0.001514</td>\n",
       "      <td>0.380692</td>\n",
       "      <td>0.427738</td>\n",
       "      <td>0.059169</td>\n",
       "      <td>...</td>\n",
       "      <td>-0.056863</td>\n",
       "      <td>0.365249</td>\n",
       "      <td>0.181136</td>\n",
       "      <td>-0.178984</td>\n",
       "      <td>-1.051053</td>\n",
       "      <td>-0.491472</td>\n",
       "      <td>0</td>\n",
       "      <td>0</td>\n",
       "      <td>0.5399</td>\n",
       "      <td>0.4601</td>\n",
       "    </tr>\n",
       "    <tr>\n",
       "      <th>1482</th>\n",
       "      <td>0.203698</td>\n",
       "      <td>-0.928967</td>\n",
       "      <td>2.516874</td>\n",
       "      <td>2.966035</td>\n",
       "      <td>2.023756</td>\n",
       "      <td>2.057681</td>\n",
       "      <td>1.001880</td>\n",
       "      <td>-1.520067</td>\n",
       "      <td>-2.773817</td>\n",
       "      <td>1.536191</td>\n",
       "      <td>...</td>\n",
       "      <td>2.188688</td>\n",
       "      <td>-1.908127</td>\n",
       "      <td>-0.524073</td>\n",
       "      <td>-0.178984</td>\n",
       "      <td>-0.439849</td>\n",
       "      <td>-0.275855</td>\n",
       "      <td>0</td>\n",
       "      <td>0</td>\n",
       "      <td>0.5421</td>\n",
       "      <td>0.4579</td>\n",
       "    </tr>\n",
       "    <tr>\n",
       "      <th>1483</th>\n",
       "      <td>0.203698</td>\n",
       "      <td>0.505531</td>\n",
       "      <td>0.873220</td>\n",
       "      <td>1.188772</td>\n",
       "      <td>1.206833</td>\n",
       "      <td>1.438813</td>\n",
       "      <td>0.597572</td>\n",
       "      <td>1.508116</td>\n",
       "      <td>1.179567</td>\n",
       "      <td>0.116270</td>\n",
       "      <td>...</td>\n",
       "      <td>-0.056863</td>\n",
       "      <td>0.365249</td>\n",
       "      <td>0.181136</td>\n",
       "      <td>-0.178984</td>\n",
       "      <td>-1.075068</td>\n",
       "      <td>-0.428050</td>\n",
       "      <td>0</td>\n",
       "      <td>0</td>\n",
       "      <td>0.5409</td>\n",
       "      <td>0.4591</td>\n",
       "    </tr>\n",
       "    <tr>\n",
       "      <th>1484</th>\n",
       "      <td>0.203698</td>\n",
       "      <td>-0.922335</td>\n",
       "      <td>-0.620231</td>\n",
       "      <td>-0.903082</td>\n",
       "      <td>-0.945611</td>\n",
       "      <td>0.070047</td>\n",
       "      <td>-0.495148</td>\n",
       "      <td>-0.267101</td>\n",
       "      <td>0.147113</td>\n",
       "      <td>-0.494582</td>\n",
       "      <td>...</td>\n",
       "      <td>-0.056863</td>\n",
       "      <td>0.365249</td>\n",
       "      <td>0.181136</td>\n",
       "      <td>-0.178984</td>\n",
       "      <td>0.966730</td>\n",
       "      <td>-1.265986</td>\n",
       "      <td>1</td>\n",
       "      <td>1</td>\n",
       "      <td>0.4598</td>\n",
       "      <td>0.5402</td>\n",
       "    </tr>\n",
       "    <tr>\n",
       "      <th>1485</th>\n",
       "      <td>0.203698</td>\n",
       "      <td>-0.694777</td>\n",
       "      <td>-0.547338</td>\n",
       "      <td>-0.636730</td>\n",
       "      <td>-0.175117</td>\n",
       "      <td>-1.275050</td>\n",
       "      <td>-0.223678</td>\n",
       "      <td>0.180354</td>\n",
       "      <td>0.405697</td>\n",
       "      <td>0.089284</td>\n",
       "      <td>...</td>\n",
       "      <td>-0.056863</td>\n",
       "      <td>0.365249</td>\n",
       "      <td>0.181136</td>\n",
       "      <td>-0.178984</td>\n",
       "      <td>1.142091</td>\n",
       "      <td>1.258956</td>\n",
       "      <td>1</td>\n",
       "      <td>1</td>\n",
       "      <td>0.4641</td>\n",
       "      <td>0.5359</td>\n",
       "    </tr>\n",
       "  </tbody>\n",
       "</table>\n",
       "<p>1486 rows × 21 columns</p>\n",
       "</div>"
      ],
      "text/plain": [
       "         W4mag       g_r       r_i       r_z       r_J      r_W1       i_z  \\\n",
       "0     0.203698 -0.577126 -0.539245 -0.182553 -1.415992 -0.413903  0.415080   \n",
       "1     0.203698  0.880791  0.360137  0.329501 -0.261684 -1.704447 -0.012398   \n",
       "2     0.203698 -0.268381 -0.490797 -0.248693  0.289339 -0.445918  0.255404   \n",
       "3     0.203698  0.409935  0.702329  1.438680  1.262503  1.508730  1.274246   \n",
       "4     0.203698 -1.148811 -0.634098 -0.628322  0.306953 -0.976146 -0.106276   \n",
       "...        ...       ...       ...       ...       ...       ...       ...   \n",
       "1481  0.203698  1.805805  0.485779  0.454157  0.428828  0.773494  0.001514   \n",
       "1482  0.203698 -0.928967  2.516874  2.966035  2.023756  2.057681  1.001880   \n",
       "1483  0.203698  0.505531  0.873220  1.188772  1.206833  1.438813  0.597572   \n",
       "1484  0.203698 -0.922335 -0.620231 -0.903082 -0.945611  0.070047 -0.495148   \n",
       "1485  0.203698 -0.694777 -0.547338 -0.636730 -0.175117 -1.275050 -0.223678   \n",
       "\n",
       "           i_y       z_y       y_J  ...       J_H       H_K      H_W4  \\\n",
       "0    -0.111350 -0.522693 -1.238926  ...  5.749631 -2.200510 -1.806960   \n",
       "1     0.228727  0.266025 -0.621569  ... -0.056863  0.365249  0.181136   \n",
       "2    -0.207529 -0.490376  0.761611  ... -0.056863  0.365249  0.181136   \n",
       "3     1.010484  0.037519  0.554733  ... -0.056863  0.365249  0.181136   \n",
       "4    -1.681878 -1.925448  1.536191  ... -0.056863  0.365249  0.181136   \n",
       "...        ...       ...       ...  ...       ...       ...       ...   \n",
       "1481  0.380692  0.427738  0.059169  ... -0.056863  0.365249  0.181136   \n",
       "1482 -1.520067 -2.773817  1.536191  ...  2.188688 -1.908127 -0.524073   \n",
       "1483  1.508116  1.179567  0.116270  ... -0.056863  0.365249  0.181136   \n",
       "1484 -0.267101  0.147113 -0.494582  ... -0.056863  0.365249  0.181136   \n",
       "1485  0.180354  0.405697  0.089284  ... -0.056863  0.365249  0.181136   \n",
       "\n",
       "          K_W3     W1_W2     W1_W3  class  Label  Score_0  Score_1  \n",
       "0     1.203177 -0.466681 -0.475099      0      0   0.5382   0.4618  \n",
       "1    -0.178984  1.131779  1.619732      0      0   0.5399   0.4601  \n",
       "2    -0.178984  0.484788  0.947487      0      0   0.5046   0.4954  \n",
       "3    -0.178984 -1.224954 -0.460892      0      0   0.5414   0.4586  \n",
       "4    -0.178984  1.131779  1.619732      1      1   0.4633   0.5367  \n",
       "...        ...       ...       ...    ...    ...      ...      ...  \n",
       "1481 -0.178984 -1.051053 -0.491472      0      0   0.5399   0.4601  \n",
       "1482 -0.178984 -0.439849 -0.275855      0      0   0.5421   0.4579  \n",
       "1483 -0.178984 -1.075068 -0.428050      0      0   0.5409   0.4591  \n",
       "1484 -0.178984  0.966730 -1.265986      1      1   0.4598   0.5402  \n",
       "1485 -0.178984  1.142091  1.258956      1      1   0.4641   0.5359  \n",
       "\n",
       "[1486 rows x 21 columns]"
      ]
     },
     "execution_count": 105,
     "metadata": {},
     "output_type": "execute_result"
    }
   ],
   "source": [
    "pyc.predict_model(final_AGN_clf, probability_threshold=0.5, raw_score=True)"
   ]
  },
  {
   "cell_type": "code",
   "execution_count": 102,
   "id": "b71e1286",
   "metadata": {},
   "outputs": [
    {
     "data": {
      "text/html": [
       "<style type=\"text/css\">\n",
       "</style>\n",
       "<table id=\"T_c2a90\">\n",
       "  <thead>\n",
       "    <tr>\n",
       "      <th class=\"blank level0\" >&nbsp;</th>\n",
       "      <th id=\"T_c2a90_level0_col0\" class=\"col_heading level0 col0\" >Model</th>\n",
       "      <th id=\"T_c2a90_level0_col1\" class=\"col_heading level0 col1\" >Accuracy</th>\n",
       "      <th id=\"T_c2a90_level0_col2\" class=\"col_heading level0 col2\" >AUC</th>\n",
       "      <th id=\"T_c2a90_level0_col3\" class=\"col_heading level0 col3\" >Recall</th>\n",
       "      <th id=\"T_c2a90_level0_col4\" class=\"col_heading level0 col4\" >Prec.</th>\n",
       "      <th id=\"T_c2a90_level0_col5\" class=\"col_heading level0 col5\" >F1</th>\n",
       "      <th id=\"T_c2a90_level0_col6\" class=\"col_heading level0 col6\" >Kappa</th>\n",
       "      <th id=\"T_c2a90_level0_col7\" class=\"col_heading level0 col7\" >MCC</th>\n",
       "    </tr>\n",
       "  </thead>\n",
       "  <tbody>\n",
       "    <tr>\n",
       "      <th id=\"T_c2a90_level0_row0\" class=\"row_heading level0 row0\" >0</th>\n",
       "      <td id=\"T_c2a90_row0_col0\" class=\"data row0 col0\" >Stacking Classifier</td>\n",
       "      <td id=\"T_c2a90_row0_col1\" class=\"data row0 col1\" >0.9590</td>\n",
       "      <td id=\"T_c2a90_row0_col2\" class=\"data row0 col2\" >0.9826</td>\n",
       "      <td id=\"T_c2a90_row0_col3\" class=\"data row0 col3\" >0.9352</td>\n",
       "      <td id=\"T_c2a90_row0_col4\" class=\"data row0 col4\" >0.9444</td>\n",
       "      <td id=\"T_c2a90_row0_col5\" class=\"data row0 col5\" >0.9398</td>\n",
       "      <td id=\"T_c2a90_row0_col6\" class=\"data row0 col6\" >0.9086</td>\n",
       "      <td id=\"T_c2a90_row0_col7\" class=\"data row0 col7\" >0.9087</td>\n",
       "    </tr>\n",
       "  </tbody>\n",
       "</table>\n"
      ],
      "text/plain": [
       "<pandas.io.formats.style.Styler at 0x7f66d0cfb400>"
      ]
     },
     "metadata": {},
     "output_type": "display_data"
    },
    {
     "data": {
      "text/html": [
       "<div>\n",
       "<style scoped>\n",
       "    .dataframe tbody tr th:only-of-type {\n",
       "        vertical-align: middle;\n",
       "    }\n",
       "\n",
       "    .dataframe tbody tr th {\n",
       "        vertical-align: top;\n",
       "    }\n",
       "\n",
       "    .dataframe thead th {\n",
       "        text-align: right;\n",
       "    }\n",
       "</style>\n",
       "<table border=\"1\" class=\"dataframe\">\n",
       "  <thead>\n",
       "    <tr style=\"text-align: right;\">\n",
       "      <th></th>\n",
       "      <th>W4mag</th>\n",
       "      <th>g_r</th>\n",
       "      <th>r_i</th>\n",
       "      <th>r_z</th>\n",
       "      <th>r_J</th>\n",
       "      <th>r_W1</th>\n",
       "      <th>i_z</th>\n",
       "      <th>i_y</th>\n",
       "      <th>z_y</th>\n",
       "      <th>y_J</th>\n",
       "      <th>...</th>\n",
       "      <th>J_H</th>\n",
       "      <th>H_K</th>\n",
       "      <th>H_W4</th>\n",
       "      <th>K_W3</th>\n",
       "      <th>W1_W2</th>\n",
       "      <th>W1_W3</th>\n",
       "      <th>class</th>\n",
       "      <th>Label</th>\n",
       "      <th>Score_0</th>\n",
       "      <th>Score_1</th>\n",
       "    </tr>\n",
       "  </thead>\n",
       "  <tbody>\n",
       "    <tr>\n",
       "      <th>0</th>\n",
       "      <td>0.203698</td>\n",
       "      <td>-0.577126</td>\n",
       "      <td>-0.539245</td>\n",
       "      <td>-0.182553</td>\n",
       "      <td>-1.415992</td>\n",
       "      <td>-0.413903</td>\n",
       "      <td>0.415080</td>\n",
       "      <td>-0.111350</td>\n",
       "      <td>-0.522693</td>\n",
       "      <td>-1.238926</td>\n",
       "      <td>...</td>\n",
       "      <td>5.749631</td>\n",
       "      <td>-2.200510</td>\n",
       "      <td>-1.806960</td>\n",
       "      <td>1.203177</td>\n",
       "      <td>-0.466681</td>\n",
       "      <td>-0.475099</td>\n",
       "      <td>0</td>\n",
       "      <td>0</td>\n",
       "      <td>0.9926</td>\n",
       "      <td>0.0074</td>\n",
       "    </tr>\n",
       "    <tr>\n",
       "      <th>1</th>\n",
       "      <td>0.203698</td>\n",
       "      <td>0.880791</td>\n",
       "      <td>0.360137</td>\n",
       "      <td>0.329501</td>\n",
       "      <td>-0.261684</td>\n",
       "      <td>-1.704447</td>\n",
       "      <td>-0.012398</td>\n",
       "      <td>0.228727</td>\n",
       "      <td>0.266025</td>\n",
       "      <td>-0.621569</td>\n",
       "      <td>...</td>\n",
       "      <td>-0.056863</td>\n",
       "      <td>0.365249</td>\n",
       "      <td>0.181136</td>\n",
       "      <td>-0.178984</td>\n",
       "      <td>1.131779</td>\n",
       "      <td>1.619732</td>\n",
       "      <td>0</td>\n",
       "      <td>0</td>\n",
       "      <td>0.9968</td>\n",
       "      <td>0.0032</td>\n",
       "    </tr>\n",
       "    <tr>\n",
       "      <th>2</th>\n",
       "      <td>0.203698</td>\n",
       "      <td>-0.268381</td>\n",
       "      <td>-0.490797</td>\n",
       "      <td>-0.248693</td>\n",
       "      <td>0.289339</td>\n",
       "      <td>-0.445918</td>\n",
       "      <td>0.255404</td>\n",
       "      <td>-0.207529</td>\n",
       "      <td>-0.490376</td>\n",
       "      <td>0.761611</td>\n",
       "      <td>...</td>\n",
       "      <td>-0.056863</td>\n",
       "      <td>0.365249</td>\n",
       "      <td>0.181136</td>\n",
       "      <td>-0.178984</td>\n",
       "      <td>0.484788</td>\n",
       "      <td>0.947487</td>\n",
       "      <td>0</td>\n",
       "      <td>1</td>\n",
       "      <td>0.1440</td>\n",
       "      <td>0.8560</td>\n",
       "    </tr>\n",
       "    <tr>\n",
       "      <th>3</th>\n",
       "      <td>0.203698</td>\n",
       "      <td>0.409935</td>\n",
       "      <td>0.702329</td>\n",
       "      <td>1.438680</td>\n",
       "      <td>1.262503</td>\n",
       "      <td>1.508730</td>\n",
       "      <td>1.274246</td>\n",
       "      <td>1.010484</td>\n",
       "      <td>0.037519</td>\n",
       "      <td>0.554733</td>\n",
       "      <td>...</td>\n",
       "      <td>-0.056863</td>\n",
       "      <td>0.365249</td>\n",
       "      <td>0.181136</td>\n",
       "      <td>-0.178984</td>\n",
       "      <td>-1.224954</td>\n",
       "      <td>-0.460892</td>\n",
       "      <td>0</td>\n",
       "      <td>0</td>\n",
       "      <td>0.9977</td>\n",
       "      <td>0.0023</td>\n",
       "    </tr>\n",
       "    <tr>\n",
       "      <th>4</th>\n",
       "      <td>0.203698</td>\n",
       "      <td>-1.148811</td>\n",
       "      <td>-0.634098</td>\n",
       "      <td>-0.628322</td>\n",
       "      <td>0.306953</td>\n",
       "      <td>-0.976146</td>\n",
       "      <td>-0.106276</td>\n",
       "      <td>-1.681878</td>\n",
       "      <td>-1.925448</td>\n",
       "      <td>1.536191</td>\n",
       "      <td>...</td>\n",
       "      <td>-0.056863</td>\n",
       "      <td>0.365249</td>\n",
       "      <td>0.181136</td>\n",
       "      <td>-0.178984</td>\n",
       "      <td>1.131779</td>\n",
       "      <td>1.619732</td>\n",
       "      <td>1</td>\n",
       "      <td>1</td>\n",
       "      <td>0.0017</td>\n",
       "      <td>0.9983</td>\n",
       "    </tr>\n",
       "    <tr>\n",
       "      <th>...</th>\n",
       "      <td>...</td>\n",
       "      <td>...</td>\n",
       "      <td>...</td>\n",
       "      <td>...</td>\n",
       "      <td>...</td>\n",
       "      <td>...</td>\n",
       "      <td>...</td>\n",
       "      <td>...</td>\n",
       "      <td>...</td>\n",
       "      <td>...</td>\n",
       "      <td>...</td>\n",
       "      <td>...</td>\n",
       "      <td>...</td>\n",
       "      <td>...</td>\n",
       "      <td>...</td>\n",
       "      <td>...</td>\n",
       "      <td>...</td>\n",
       "      <td>...</td>\n",
       "      <td>...</td>\n",
       "      <td>...</td>\n",
       "      <td>...</td>\n",
       "    </tr>\n",
       "    <tr>\n",
       "      <th>1481</th>\n",
       "      <td>0.203698</td>\n",
       "      <td>1.805805</td>\n",
       "      <td>0.485779</td>\n",
       "      <td>0.454157</td>\n",
       "      <td>0.428828</td>\n",
       "      <td>0.773494</td>\n",
       "      <td>0.001514</td>\n",
       "      <td>0.380692</td>\n",
       "      <td>0.427738</td>\n",
       "      <td>0.059169</td>\n",
       "      <td>...</td>\n",
       "      <td>-0.056863</td>\n",
       "      <td>0.365249</td>\n",
       "      <td>0.181136</td>\n",
       "      <td>-0.178984</td>\n",
       "      <td>-1.051053</td>\n",
       "      <td>-0.491472</td>\n",
       "      <td>0</td>\n",
       "      <td>0</td>\n",
       "      <td>0.9981</td>\n",
       "      <td>0.0019</td>\n",
       "    </tr>\n",
       "    <tr>\n",
       "      <th>1482</th>\n",
       "      <td>0.203698</td>\n",
       "      <td>-0.928967</td>\n",
       "      <td>2.516874</td>\n",
       "      <td>2.966035</td>\n",
       "      <td>2.023756</td>\n",
       "      <td>2.057681</td>\n",
       "      <td>1.001880</td>\n",
       "      <td>-1.520067</td>\n",
       "      <td>-2.773817</td>\n",
       "      <td>1.536191</td>\n",
       "      <td>...</td>\n",
       "      <td>2.188688</td>\n",
       "      <td>-1.908127</td>\n",
       "      <td>-0.524073</td>\n",
       "      <td>-0.178984</td>\n",
       "      <td>-0.439849</td>\n",
       "      <td>-0.275855</td>\n",
       "      <td>0</td>\n",
       "      <td>0</td>\n",
       "      <td>0.9967</td>\n",
       "      <td>0.0033</td>\n",
       "    </tr>\n",
       "    <tr>\n",
       "      <th>1483</th>\n",
       "      <td>0.203698</td>\n",
       "      <td>0.505531</td>\n",
       "      <td>0.873220</td>\n",
       "      <td>1.188772</td>\n",
       "      <td>1.206833</td>\n",
       "      <td>1.438813</td>\n",
       "      <td>0.597572</td>\n",
       "      <td>1.508116</td>\n",
       "      <td>1.179567</td>\n",
       "      <td>0.116270</td>\n",
       "      <td>...</td>\n",
       "      <td>-0.056863</td>\n",
       "      <td>0.365249</td>\n",
       "      <td>0.181136</td>\n",
       "      <td>-0.178984</td>\n",
       "      <td>-1.075068</td>\n",
       "      <td>-0.428050</td>\n",
       "      <td>0</td>\n",
       "      <td>0</td>\n",
       "      <td>0.9977</td>\n",
       "      <td>0.0023</td>\n",
       "    </tr>\n",
       "    <tr>\n",
       "      <th>1484</th>\n",
       "      <td>0.203698</td>\n",
       "      <td>-0.922335</td>\n",
       "      <td>-0.620231</td>\n",
       "      <td>-0.903082</td>\n",
       "      <td>-0.945611</td>\n",
       "      <td>0.070047</td>\n",
       "      <td>-0.495148</td>\n",
       "      <td>-0.267101</td>\n",
       "      <td>0.147113</td>\n",
       "      <td>-0.494582</td>\n",
       "      <td>...</td>\n",
       "      <td>-0.056863</td>\n",
       "      <td>0.365249</td>\n",
       "      <td>0.181136</td>\n",
       "      <td>-0.178984</td>\n",
       "      <td>0.966730</td>\n",
       "      <td>-1.265986</td>\n",
       "      <td>1</td>\n",
       "      <td>1</td>\n",
       "      <td>0.0018</td>\n",
       "      <td>0.9982</td>\n",
       "    </tr>\n",
       "    <tr>\n",
       "      <th>1485</th>\n",
       "      <td>0.203698</td>\n",
       "      <td>-0.694777</td>\n",
       "      <td>-0.547338</td>\n",
       "      <td>-0.636730</td>\n",
       "      <td>-0.175117</td>\n",
       "      <td>-1.275050</td>\n",
       "      <td>-0.223678</td>\n",
       "      <td>0.180354</td>\n",
       "      <td>0.405697</td>\n",
       "      <td>0.089284</td>\n",
       "      <td>...</td>\n",
       "      <td>-0.056863</td>\n",
       "      <td>0.365249</td>\n",
       "      <td>0.181136</td>\n",
       "      <td>-0.178984</td>\n",
       "      <td>1.142091</td>\n",
       "      <td>1.258956</td>\n",
       "      <td>1</td>\n",
       "      <td>1</td>\n",
       "      <td>0.0015</td>\n",
       "      <td>0.9985</td>\n",
       "    </tr>\n",
       "  </tbody>\n",
       "</table>\n",
       "<p>1486 rows × 21 columns</p>\n",
       "</div>"
      ],
      "text/plain": [
       "         W4mag       g_r       r_i       r_z       r_J      r_W1       i_z  \\\n",
       "0     0.203698 -0.577126 -0.539245 -0.182553 -1.415992 -0.413903  0.415080   \n",
       "1     0.203698  0.880791  0.360137  0.329501 -0.261684 -1.704447 -0.012398   \n",
       "2     0.203698 -0.268381 -0.490797 -0.248693  0.289339 -0.445918  0.255404   \n",
       "3     0.203698  0.409935  0.702329  1.438680  1.262503  1.508730  1.274246   \n",
       "4     0.203698 -1.148811 -0.634098 -0.628322  0.306953 -0.976146 -0.106276   \n",
       "...        ...       ...       ...       ...       ...       ...       ...   \n",
       "1481  0.203698  1.805805  0.485779  0.454157  0.428828  0.773494  0.001514   \n",
       "1482  0.203698 -0.928967  2.516874  2.966035  2.023756  2.057681  1.001880   \n",
       "1483  0.203698  0.505531  0.873220  1.188772  1.206833  1.438813  0.597572   \n",
       "1484  0.203698 -0.922335 -0.620231 -0.903082 -0.945611  0.070047 -0.495148   \n",
       "1485  0.203698 -0.694777 -0.547338 -0.636730 -0.175117 -1.275050 -0.223678   \n",
       "\n",
       "           i_y       z_y       y_J  ...       J_H       H_K      H_W4  \\\n",
       "0    -0.111350 -0.522693 -1.238926  ...  5.749631 -2.200510 -1.806960   \n",
       "1     0.228727  0.266025 -0.621569  ... -0.056863  0.365249  0.181136   \n",
       "2    -0.207529 -0.490376  0.761611  ... -0.056863  0.365249  0.181136   \n",
       "3     1.010484  0.037519  0.554733  ... -0.056863  0.365249  0.181136   \n",
       "4    -1.681878 -1.925448  1.536191  ... -0.056863  0.365249  0.181136   \n",
       "...        ...       ...       ...  ...       ...       ...       ...   \n",
       "1481  0.380692  0.427738  0.059169  ... -0.056863  0.365249  0.181136   \n",
       "1482 -1.520067 -2.773817  1.536191  ...  2.188688 -1.908127 -0.524073   \n",
       "1483  1.508116  1.179567  0.116270  ... -0.056863  0.365249  0.181136   \n",
       "1484 -0.267101  0.147113 -0.494582  ... -0.056863  0.365249  0.181136   \n",
       "1485  0.180354  0.405697  0.089284  ... -0.056863  0.365249  0.181136   \n",
       "\n",
       "          K_W3     W1_W2     W1_W3  class  Label  Score_0  Score_1  \n",
       "0     1.203177 -0.466681 -0.475099      0      0   0.9926   0.0074  \n",
       "1    -0.178984  1.131779  1.619732      0      0   0.9968   0.0032  \n",
       "2    -0.178984  0.484788  0.947487      0      1   0.1440   0.8560  \n",
       "3    -0.178984 -1.224954 -0.460892      0      0   0.9977   0.0023  \n",
       "4    -0.178984  1.131779  1.619732      1      1   0.0017   0.9983  \n",
       "...        ...       ...       ...    ...    ...      ...      ...  \n",
       "1481 -0.178984 -1.051053 -0.491472      0      0   0.9981   0.0019  \n",
       "1482 -0.178984 -0.439849 -0.275855      0      0   0.9967   0.0033  \n",
       "1483 -0.178984 -1.075068 -0.428050      0      0   0.9977   0.0023  \n",
       "1484 -0.178984  0.966730 -1.265986      1      1   0.0018   0.9982  \n",
       "1485 -0.178984  1.142091  1.258956      1      1   0.0015   0.9985  \n",
       "\n",
       "[1486 rows x 21 columns]"
      ]
     },
     "execution_count": 102,
     "metadata": {},
     "output_type": "execute_result"
    }
   ],
   "source": [
    "pyc.predict_model(calibrated_tuned_AGN_clf, probability_threshold=0.5, raw_score=True)"
   ]
  },
  {
   "cell_type": "code",
   "execution_count": 106,
   "id": "98a08295",
   "metadata": {},
   "outputs": [
    {
     "data": {
      "text/plain": [
       "CalibratedClassifierCV(base_estimator=StackingClassifier(cv=5,\n",
       "                                                         estimators=[('lr',\n",
       "                                                                      LogisticRegression(C=1.0,\n",
       "                                                                                         class_weight=None,\n",
       "                                                                                         dual=False,\n",
       "                                                                                         fit_intercept=True,\n",
       "                                                                                         intercept_scaling=1,\n",
       "                                                                                         l1_ratio=None,\n",
       "                                                                                         max_iter=1000,\n",
       "                                                                                         multi_class='auto',\n",
       "                                                                                         n_jobs=None,\n",
       "                                                                                         penalty='l2',\n",
       "                                                                                         random_state=42,\n",
       "                                                                                         solver='lbfgs',\n",
       "                                                                                         tol=0.0001,\n",
       "                                                                                         verbose=0,\n",
       "                                                                                         warm_start=False)),\n",
       "                                                                     ('gbc',\n",
       "                                                                      GradientBoostingClassifier(...\n",
       "                                                                                             min_impurity_decrease=0.0,\n",
       "                                                                                             min_impurity_split=None,\n",
       "                                                                                             min_samples_leaf=1,\n",
       "                                                                                             min_samples_split=2,\n",
       "                                                                                             min_weight_fraction_leaf=0.0,\n",
       "                                                                                             n_estimators=100,\n",
       "                                                                                             n_jobs=12,\n",
       "                                                                                             oob_score=False,\n",
       "                                                                                             random_state=42,\n",
       "                                                                                             verbose=0,\n",
       "                                                                                             warm_start=False))],\n",
       "                                                         final_estimator=<catboost.core.CatBoostClassifier object at 0x7f672b63a580>,\n",
       "                                                         n_jobs=12,\n",
       "                                                         passthrough=True,\n",
       "                                                         stack_method='auto',\n",
       "                                                         verbose=0),\n",
       "                       cv='prefit', method='sigmoid')"
      ]
     },
     "execution_count": 106,
     "metadata": {},
     "output_type": "execute_result"
    }
   ],
   "source": [
    "calibrated_final_AGN_clf = CalibratedClassifierCV(base_estimator=final_AGN_clf, cv='prefit')\n",
    "calibrated_final_AGN_clf.fit(pyc.get_config('X'), pyc.get_config('y'))"
   ]
  },
  {
   "cell_type": "code",
   "execution_count": 110,
   "id": "ac2dd762",
   "metadata": {},
   "outputs": [
    {
     "data": {
      "text/html": [
       "<style type=\"text/css\">\n",
       "</style>\n",
       "<table id=\"T_fdbf7\">\n",
       "  <thead>\n",
       "    <tr>\n",
       "      <th class=\"blank level0\" >&nbsp;</th>\n",
       "      <th id=\"T_fdbf7_level0_col0\" class=\"col_heading level0 col0\" >Model</th>\n",
       "      <th id=\"T_fdbf7_level0_col1\" class=\"col_heading level0 col1\" >Accuracy</th>\n",
       "      <th id=\"T_fdbf7_level0_col2\" class=\"col_heading level0 col2\" >AUC</th>\n",
       "      <th id=\"T_fdbf7_level0_col3\" class=\"col_heading level0 col3\" >Recall</th>\n",
       "      <th id=\"T_fdbf7_level0_col4\" class=\"col_heading level0 col4\" >Prec.</th>\n",
       "      <th id=\"T_fdbf7_level0_col5\" class=\"col_heading level0 col5\" >F1</th>\n",
       "      <th id=\"T_fdbf7_level0_col6\" class=\"col_heading level0 col6\" >Kappa</th>\n",
       "      <th id=\"T_fdbf7_level0_col7\" class=\"col_heading level0 col7\" >MCC</th>\n",
       "    </tr>\n",
       "  </thead>\n",
       "  <tbody>\n",
       "    <tr>\n",
       "      <th id=\"T_fdbf7_level0_row0\" class=\"row_heading level0 row0\" >0</th>\n",
       "      <td id=\"T_fdbf7_row0_col0\" class=\"data row0 col0\" >Stacking Classifier</td>\n",
       "      <td id=\"T_fdbf7_row0_col1\" class=\"data row0 col1\" >0.9879</td>\n",
       "      <td id=\"T_fdbf7_row0_col2\" class=\"data row0 col2\" >0.9996</td>\n",
       "      <td id=\"T_fdbf7_row0_col3\" class=\"data row0 col3\" >0.9725</td>\n",
       "      <td id=\"T_fdbf7_row0_col4\" class=\"data row0 col4\" >0.9920</td>\n",
       "      <td id=\"T_fdbf7_row0_col5\" class=\"data row0 col5\" >0.9821</td>\n",
       "      <td id=\"T_fdbf7_row0_col6\" class=\"data row0 col6\" >0.9730</td>\n",
       "      <td id=\"T_fdbf7_row0_col7\" class=\"data row0 col7\" >0.9731</td>\n",
       "    </tr>\n",
       "  </tbody>\n",
       "</table>\n"
      ],
      "text/plain": [
       "<pandas.io.formats.style.Styler at 0x7f66bb1dd6d0>"
      ]
     },
     "metadata": {},
     "output_type": "display_data"
    },
    {
     "data": {
      "text/plain": [
       "(array([909.,  16.,   8.,   8.,  46.,  35.,  28.,  14.,  40., 382.]),\n",
       " array([0.4579 , 0.46632, 0.47474, 0.48316, 0.49158, 0.5    , 0.50842,\n",
       "        0.51684, 0.52526, 0.53368, 0.5421 ]),\n",
       " <BarContainer object of 10 artists>)"
      ]
     },
     "execution_count": 110,
     "metadata": {},
     "output_type": "execute_result"
    },
    {
     "data": {
      "image/png": "[encoded data removed]",
      "text/plain": [
       "<Figure size 640x480 with 1 Axes>"
      ]
     },
     "metadata": {},
     "output_type": "display_data"
    }
   ],
   "source": [
    "plt.hist(pyc.predict_model(final_AGN_clf, probability_threshold=0.5, raw_score=True).loc[:, 'Score_1'])"
   ]
  },
  {
   "cell_type": "code",
   "execution_count": 76,
   "id": "73a5abb1",
   "metadata": {
    "id": "kAciINC6t-gk"
   },
   "outputs": [
    {
     "name": "stdout",
     "output_type": "stream",
     "text": [
      "Transformation Pipeline and Model Successfully Saved\n"
     ]
    }
   ],
   "source": [
    "if save_model_flag:\n",
    "    pyc.save_model(final_AGN_clf, 'models/classification_AGN_galaxy_ago_03_2022')  # Model (it will be saved with .pkl extension) classification_AGN_galaxy_may_15_2022\n",
    "    # pyc.save_config('../../models/config_classification_AGN_galaxy_ago_03_2022')  # Configuration file"
   ]
  },
  {
   "cell_type": "markdown",
   "id": "c0dece78",
   "metadata": {
    "id": "ef654bbb-7b74-4cef-a809-42d2eb8e7fcb"
   },
   "source": [
    "## Load Models"
   ]
  },
  {
   "cell_type": "markdown",
   "id": "aa09c827",
   "metadata": {
    "id": "217777e4-0212-4a37-b535-6fcaf2f0817e"
   },
   "source": [
    "AGN detection model."
   ]
  },
  {
   "cell_type": "code",
   "execution_count": 119,
   "id": "527a5502",
   "metadata": {
    "id": "ad6bf94f-c59d-4013-b523-76a77df047cc",
    "outputId": "d8cd5b82-e109-4bd1-90ea-bf0e85e10ccd",
    "tags": []
   },
   "outputs": [
    {
     "name": "stdout",
     "output_type": "stream",
     "text": [
      "Transformation Pipeline and Model Successfully Loaded\n"
     ]
    }
   ],
   "source": [
    "if load_model_flag:\n",
    "    if use_5sigma:\n",
    "        final_AGN_clf = pyc.load_model('models/classification_AGN_galaxy_ago_03_2022')"
   ]
  },
  {
   "cell_type": "markdown",
   "id": "c0a5db13",
   "metadata": {
    "id": "6fcb2c6c-a004-4801-b43d-a3593f802cf5"
   },
   "source": [
    "### Prediction process"
   ]
  },
  {
   "cell_type": "markdown",
   "id": "855cda9f",
   "metadata": {},
   "source": [
    "#### Feature importances"
   ]
  },
  {
   "cell_type": "code",
   "execution_count": 113,
   "id": "a70f260c",
   "metadata": {},
   "outputs": [],
   "source": [
    "estimators_list = get_base_estimators_names(calibrated_final_AGN_clf.calibrated_classifiers_[0].base_estimator)"
   ]
  },
  {
   "cell_type": "code",
   "execution_count": 114,
   "id": "3bf7461a",
   "metadata": {
    "tags": []
   },
   "outputs": [
    {
     "name": "stdout",
     "output_type": "stream",
     "text": [
      "Running dtypes\n",
      "Running imputer\n",
      "Running new_levels1\n",
      "Running new_levels\n",
      "Running feature_time\n",
      "Running scaling\n",
      "Running P_transform\n",
      "Running dummy\n",
      "Running fix_perfect\n",
      "Running clean_names\n"
     ]
    }
   ],
   "source": [
    "extended_data_AGN = validation_df.loc[:, get_final_column_names(final_AGN_clf, validation_df)].copy()\n",
    "extended_idx_AGN  = extended_data_AGN.index\n",
    "initial_cols_AGN  = extended_data_AGN.columns\n",
    "extended_cols_AGN = extended_data_AGN.columns.insert(0, estimators_list[0])\n",
    "if len(estimators_list) > 1:\n",
    "    for est_name in estimators_list[1::]:\n",
    "        extended_cols_AGN = extended_cols_AGN.insert(0, est_name)"
   ]
  },
  {
   "cell_type": "code",
   "execution_count": 115,
   "id": "959ba534",
   "metadata": {
    "jupyter": {
     "source_hidden": true
    },
    "tags": []
   },
   "outputs": [
    {
     "name": "stdout",
     "output_type": "stream",
     "text": [
      "Running data pre-processing:\n",
      "\n",
      "Running dtypes\n",
      "Running imputer\n",
      "Running new_levels1\n",
      "Running new_levels\n",
      "Running feature_time\n",
      "Running scaling\n",
      "Running P_transform\n",
      "Running dummy\n",
      "Running fix_perfect\n",
      "Running clean_names\n"
     ]
    }
   ],
   "source": [
    "print('Running data pre-processing:\\n')\n",
    "if isinstance(final_AGN_clf, sklearn.pipeline.Pipeline):\n",
    "    prep_steps = final_AGN_clf.named_steps.items()\n",
    "else:\n",
    "    prep_steps = pyc.get_config('prep_pipe').named_steps.items()\n",
    "\n",
    "for (name, method) in prep_steps:\n",
    "    if method != 'passthrough':  # and name != 'trained_model':\n",
    "        print(f'Running {name}')\n",
    "        extended_data_AGN = method.transform(extended_data_AGN)\n",
    "extended_data_AGN_df = pd.DataFrame(extended_data_AGN, columns=extended_cols_AGN, index=extended_idx_AGN)"
   ]
  },
  {
   "cell_type": "code",
   "execution_count": 136,
   "id": "7e7fd14d",
   "metadata": {},
   "outputs": [
    {
     "data": {
      "text/plain": [
       "[LogisticRegression(C=1.0, class_weight=None, dual=False, fit_intercept=True,\n",
       "                    intercept_scaling=1, l1_ratio=None, max_iter=1000,\n",
       "                    multi_class='auto', n_jobs=None, penalty='l2',\n",
       "                    random_state=42, solver='lbfgs', tol=0.0001, verbose=0,\n",
       "                    warm_start=False),\n",
       " GradientBoostingClassifier(ccp_alpha=0.0, criterion='friedman_mse', init=None,\n",
       "                            learning_rate=0.1, loss='deviance', max_depth=3,\n",
       "                            max_features=None, max_leaf_nodes=None,\n",
       "                            min_impurity_decrease=0.0, min_impurity_split=None,\n",
       "                            min_samples_leaf=1, min_samples_split=2,\n",
       "                            min_weight_fraction_leaf=0.0, n_estimators=100,\n",
       "                            n_iter_no_change=None, presort='deprecated',\n",
       "                            random_state=42, subsample=1.0, tol=0.0001,\n",
       "                            validation_fraction=0.1, verbose=0,\n",
       "                            warm_start=False),\n",
       " SGDClassifier(alpha=0.0001, average=False, class_weight=None,\n",
       "               early_stopping=False, epsilon=0.1, eta0=0.001, fit_intercept=True,\n",
       "               l1_ratio=0.15, learning_rate='optimal', loss='hinge',\n",
       "               max_iter=1000, n_iter_no_change=5, n_jobs=12, penalty='l2',\n",
       "               power_t=0.5, random_state=42, shuffle=True, tol=0.001,\n",
       "               validation_fraction=0.1, verbose=0, warm_start=False),\n",
       " RandomForestClassifier(bootstrap=True, ccp_alpha=0.0, class_weight=None,\n",
       "                        criterion='gini', max_depth=None, max_features='auto',\n",
       "                        max_leaf_nodes=None, max_samples=None,\n",
       "                        min_impurity_decrease=0.0, min_impurity_split=None,\n",
       "                        min_samples_leaf=1, min_samples_split=2,\n",
       "                        min_weight_fraction_leaf=0.0, n_estimators=100,\n",
       "                        n_jobs=12, oob_score=False, random_state=42, verbose=0,\n",
       "                        warm_start=False)]"
      ]
     },
     "execution_count": 136,
     "metadata": {},
     "output_type": "execute_result"
    }
   ],
   "source": [
    "calibrated_final_AGN_clf.calibrated_classifiers_[0].base_estimator.estimators_"
   ]
  },
  {
   "cell_type": "code",
   "execution_count": 137,
   "id": "d4a0b217",
   "metadata": {},
   "outputs": [],
   "source": [
    "if isinstance(final_AGN_clf, sklearn.pipeline.Pipeline):\n",
    "    if hasattr(final_AGN_clf.named_steps['trained_model'].final_estimator_, 'feature_importances_'):\n",
    "        importances_coef = final_AGN_clf.named_steps['trained_model'].final_estimator_.feature_importances_\n",
    "    elif hasattr(final_AGN_clf.named_steps['trained_model'].final_estimator_, 'coef_'):\n",
    "        importances_coef = np.abs(np.ravel(final_AGN_clf.named_steps['trained_model'].final_estimator_.coef_)) *\\\n",
    "                                     extended_data_AGN.loc[:, extended_cols_AGN].std(axis=0)\n",
    "else:\n",
    "    if hasattr(calibrated_final_AGN_clf.calibrated_classifiers_[0].base_estimator.final_estimator_, 'feature_importances_'):\n",
    "        importances_coef = calibrated_final_AGN_clf.calibrated_classifiers_[0].base_estimator.final_estimator_.feature_importances_\n",
    "    elif hasattr(calibrated_final_AGN_clf.calibrated_classifiers_[0].base_estimator.final_estimator_, 'coef_'):\n",
    "        importances_coef = np.abs(np.ravel(calibrated_final_AGN_clf.calibrated_classifiers_[0].base_estimator.final_estimator_.coef_)) *\\\n",
    "                                     extended_data_AGN.loc[:, extended_cols_AGN].std(axis=0)\n",
    "\n",
    "coef_meta_df = pd.DataFrame({'Feature': extended_cols_AGN, 'Importance': importances_coef})\n",
    "coef_sorted_meta_df = (\n",
    "    coef_meta_df.sort_values(by='Importance', ascending=False)\n",
    "    .head(len(extended_cols_AGN))\n",
    "    .sort_values(by='Importance', ascending=False).reset_index(drop=True)\n",
    ")"
   ]
  },
  {
   "cell_type": "code",
   "execution_count": 139,
   "id": "b44a61b8",
   "metadata": {},
   "outputs": [
    {
     "data": {
      "text/html": [
       "<div>\n",
       "<style scoped>\n",
       "    .dataframe tbody tr th:only-of-type {\n",
       "        vertical-align: middle;\n",
       "    }\n",
       "\n",
       "    .dataframe tbody tr th {\n",
       "        vertical-align: top;\n",
       "    }\n",
       "\n",
       "    .dataframe thead th {\n",
       "        text-align: right;\n",
       "    }\n",
       "</style>\n",
       "<table border=\"1\" class=\"dataframe\">\n",
       "  <thead>\n",
       "    <tr style=\"text-align: right;\">\n",
       "      <th></th>\n",
       "      <th>Feature</th>\n",
       "      <th>Importance</th>\n",
       "    </tr>\n",
       "  </thead>\n",
       "  <tbody>\n",
       "    <tr>\n",
       "      <th>0</th>\n",
       "      <td>svm</td>\n",
       "      <td>40.964334</td>\n",
       "    </tr>\n",
       "    <tr>\n",
       "      <th>1</th>\n",
       "      <td>lr</td>\n",
       "      <td>17.109653</td>\n",
       "    </tr>\n",
       "    <tr>\n",
       "      <th>2</th>\n",
       "      <td>rf</td>\n",
       "      <td>12.538026</td>\n",
       "    </tr>\n",
       "    <tr>\n",
       "      <th>3</th>\n",
       "      <td>W1_W3</td>\n",
       "      <td>5.862911</td>\n",
       "    </tr>\n",
       "    <tr>\n",
       "      <th>4</th>\n",
       "      <td>r_J</td>\n",
       "      <td>5.014920</td>\n",
       "    </tr>\n",
       "    <tr>\n",
       "      <th>5</th>\n",
       "      <td>H_K</td>\n",
       "      <td>4.223978</td>\n",
       "    </tr>\n",
       "    <tr>\n",
       "      <th>6</th>\n",
       "      <td>r_W1</td>\n",
       "      <td>3.234833</td>\n",
       "    </tr>\n",
       "    <tr>\n",
       "      <th>7</th>\n",
       "      <td>g_r</td>\n",
       "      <td>3.110710</td>\n",
       "    </tr>\n",
       "    <tr>\n",
       "      <th>8</th>\n",
       "      <td>gbc</td>\n",
       "      <td>1.899405</td>\n",
       "    </tr>\n",
       "    <tr>\n",
       "      <th>9</th>\n",
       "      <td>y_J</td>\n",
       "      <td>1.856557</td>\n",
       "    </tr>\n",
       "    <tr>\n",
       "      <th>10</th>\n",
       "      <td>K_W3</td>\n",
       "      <td>1.645051</td>\n",
       "    </tr>\n",
       "    <tr>\n",
       "      <th>11</th>\n",
       "      <td>r_z</td>\n",
       "      <td>1.594218</td>\n",
       "    </tr>\n",
       "    <tr>\n",
       "      <th>12</th>\n",
       "      <td>W1_W2</td>\n",
       "      <td>0.474281</td>\n",
       "    </tr>\n",
       "    <tr>\n",
       "      <th>13</th>\n",
       "      <td>H_W4</td>\n",
       "      <td>0.426554</td>\n",
       "    </tr>\n",
       "    <tr>\n",
       "      <th>14</th>\n",
       "      <td>r_i</td>\n",
       "      <td>0.044569</td>\n",
       "    </tr>\n",
       "    <tr>\n",
       "      <th>15</th>\n",
       "      <td>W4mag</td>\n",
       "      <td>0.000000</td>\n",
       "    </tr>\n",
       "    <tr>\n",
       "      <th>16</th>\n",
       "      <td>z_y</td>\n",
       "      <td>0.000000</td>\n",
       "    </tr>\n",
       "    <tr>\n",
       "      <th>17</th>\n",
       "      <td>J_H</td>\n",
       "      <td>0.000000</td>\n",
       "    </tr>\n",
       "    <tr>\n",
       "      <th>18</th>\n",
       "      <td>y_W2</td>\n",
       "      <td>0.000000</td>\n",
       "    </tr>\n",
       "    <tr>\n",
       "      <th>19</th>\n",
       "      <td>i_y</td>\n",
       "      <td>0.000000</td>\n",
       "    </tr>\n",
       "    <tr>\n",
       "      <th>20</th>\n",
       "      <td>i_z</td>\n",
       "      <td>0.000000</td>\n",
       "    </tr>\n",
       "  </tbody>\n",
       "</table>\n",
       "</div>"
      ],
      "text/plain": [
       "   Feature  Importance\n",
       "0      svm   40.964334\n",
       "1       lr   17.109653\n",
       "2       rf   12.538026\n",
       "3    W1_W3    5.862911\n",
       "4      r_J    5.014920\n",
       "5      H_K    4.223978\n",
       "6     r_W1    3.234833\n",
       "7      g_r    3.110710\n",
       "8      gbc    1.899405\n",
       "9      y_J    1.856557\n",
       "10    K_W3    1.645051\n",
       "11     r_z    1.594218\n",
       "12   W1_W2    0.474281\n",
       "13    H_W4    0.426554\n",
       "14     r_i    0.044569\n",
       "15   W4mag    0.000000\n",
       "16     z_y    0.000000\n",
       "17     J_H    0.000000\n",
       "18    y_W2    0.000000\n",
       "19     i_y    0.000000\n",
       "20     i_z    0.000000"
      ]
     },
     "execution_count": 139,
     "metadata": {},
     "output_type": "execute_result"
    }
   ],
   "source": [
    "coef_sorted_meta_df"
   ]
  },
  {
   "cell_type": "code",
   "execution_count": 126,
   "id": "bfbcfab4",
   "metadata": {
    "tags": []
   },
   "outputs": [],
   "source": [
    "if isinstance(final_AGN_clf, sklearn.pipeline.Pipeline):\n",
    "    estimators_list  = final_AGN_clf.named_steps['trained_model'].estimators\n",
    "    estimators_list_ = final_AGN_clf.named_steps['trained_model'].estimators_\n",
    "else:\n",
    "    estimators_list  = calibrated_final_AGN_clf.calibrated_classifiers_[0].base_estimator.estimators\n",
    "    # estimators_list_ = final_AGN_clf.base_estimator.estimators_\n",
    "    estimators_list_ = [estimator_tmp[1] for estimator_tmp in estimators_list]"
   ]
  },
  {
   "cell_type": "code",
   "execution_count": 127,
   "id": "502606c0",
   "metadata": {
    "tags": []
   },
   "outputs": [],
   "source": [
    "base_models_names = [model[0] for model in estimators_list]"
   ]
  },
  {
   "cell_type": "code",
   "execution_count": 128,
   "id": "fe19e975",
   "metadata": {
    "tags": []
   },
   "outputs": [],
   "source": [
    "coef_sorted_base_df = {}"
   ]
  },
  {
   "cell_type": "code",
   "execution_count": 129,
   "id": "83964931",
   "metadata": {
    "tags": []
   },
   "outputs": [],
   "source": [
    "for model, model_fit in zip(base_models_names, estimators_list_):\n",
    "    if hasattr(model_fit, 'feature_importances_'):\n",
    "        coef_base_df = pd.DataFrame({'Feature': extended_cols_AGN.drop(base_models_names),\n",
    "                                     'Importance': model_fit.feature_importances_})\n",
    "        coef_sorted_base_df[model] = (\n",
    "        coef_base_df.sort_values(by='Importance', ascending=False)\n",
    "        .head(len(extended_cols_AGN.drop(base_models_names)))\n",
    "        .sort_values(by='Importance', ascending=False).reset_index(drop=True)\n",
    "        )\n",
    "    elif hasattr(model_fit, 'coef_'):\n",
    "        coef_base_df = pd.DataFrame({'Feature': extended_cols_AGN.drop(base_models_names),\n",
    "                                     'Importance': np.abs(model_fit.coef_.ravel()) *\\\n",
    "                                     extended_data_AGN_df.loc[:, extended_cols_AGN.drop(base_models_names)].std(axis=0)})\n",
    "        coef_sorted_base_df[model] = (\n",
    "        coef_base_df.sort_values(by='Importance', ascending=False)\n",
    "        .head(len(extended_cols_AGN.drop(base_models_names)))\n",
    "        .sort_values(by='Importance', ascending=False).reset_index(drop=True)\n",
    "        )"
   ]
  },
  {
   "cell_type": "code",
   "execution_count": 130,
   "id": "dfe52959",
   "metadata": {},
   "outputs": [
    {
     "data": {
      "text/plain": [
       "{}"
      ]
     },
     "execution_count": 130,
     "metadata": {},
     "output_type": "execute_result"
    }
   ],
   "source": [
    "coef_sorted_base_df"
   ]
  },
  {
   "cell_type": "code",
   "execution_count": 131,
   "id": "0f01d78c",
   "metadata": {
    "tags": []
   },
   "outputs": [],
   "source": [
    "multicol_feat = [(key, name) for key in coef_sorted_base_df.keys() for name in ('Feature', 'Importance')]"
   ]
  },
  {
   "cell_type": "code",
   "execution_count": 132,
   "id": "d6f78d8b",
   "metadata": {
    "tags": []
   },
   "outputs": [
    {
     "name": "stdout",
     "output_type": "stream",
     "text": [
      "Feature importances scaled to sum 100\n"
     ]
    },
    {
     "ename": "ValueError",
     "evalue": "No objects to concatenate",
     "output_type": "error",
     "traceback": [
      "\u001b[0;31m---------------------------------------------------------------------------\u001b[0m",
      "\u001b[0;31mValueError\u001b[0m                                Traceback (most recent call last)",
      "Input \u001b[0;32mIn [132]\u001b[0m, in \u001b[0;36m<cell line: 8>\u001b[0;34m()\u001b[0m\n\u001b[1;32m      5\u001b[0m     coef_sorted_base_df_copy_sum[key]\u001b[38;5;241m.\u001b[39mloc[:, \u001b[38;5;124m'\u001b[39m\u001b[38;5;124mImportance\u001b[39m\u001b[38;5;124m'\u001b[39m] \u001b[38;5;241m=\u001b[39m coef_sorted_base_df[key]\u001b[38;5;241m.\u001b[39mloc[:, \u001b[38;5;124m'\u001b[39m\u001b[38;5;124mImportance\u001b[39m\u001b[38;5;124m'\u001b[39m] \u001b[38;5;241m/\u001b[39m\\\n\u001b[1;32m      6\u001b[0m                                                         coef_sorted_base_df[key]\u001b[38;5;241m.\u001b[39mloc[:, \u001b[38;5;124m'\u001b[39m\u001b[38;5;124mImportance\u001b[39m\u001b[38;5;124m'\u001b[39m]\u001b[38;5;241m.\u001b[39msum() \u001b[38;5;241m*\u001b[39m \u001b[38;5;241m100\u001b[39m\n\u001b[1;32m      7\u001b[0m     \u001b[38;5;66;03m# display(coef_sorted_base_df_copy_sum[key])\u001b[39;00m\n\u001b[0;32m----> 8\u001b[0m coef_sorted_base_full_df \u001b[38;5;241m=\u001b[39m \u001b[43mpd\u001b[49m\u001b[38;5;241;43m.\u001b[39;49m\u001b[43mconcat\u001b[49m\u001b[43m(\u001b[49m\u001b[43m[\u001b[49m\u001b[43mcoef_sorted_base_df_copy_sum\u001b[49m\u001b[43m[\u001b[49m\u001b[43mkey\u001b[49m\u001b[43m]\u001b[49m\u001b[38;5;241;43m.\u001b[39;49m\u001b[43mreset_index\u001b[49m\u001b[43m(\u001b[49m\u001b[43mdrop\u001b[49m\u001b[38;5;241;43m=\u001b[39;49m\u001b[38;5;28;43;01mTrue\u001b[39;49;00m\u001b[43m)\u001b[49m\u001b[43m \u001b[49m\u001b[38;5;28;43;01mfor\u001b[39;49;00m\u001b[43m \u001b[49m\u001b[43mkey\u001b[49m\u001b[43m \u001b[49m\u001b[38;5;129;43;01min\u001b[39;49;00m\u001b[43m \u001b[49m\u001b[43mcoef_sorted_base_df_copy_sum\u001b[49m\u001b[38;5;241;43m.\u001b[39;49m\u001b[43mkeys\u001b[49m\u001b[43m(\u001b[49m\u001b[43m)\u001b[49m\u001b[43m]\u001b[49m\u001b[43m,\u001b[49m\u001b[43m \u001b[49m\u001b[43maxis\u001b[49m\u001b[38;5;241;43m=\u001b[39;49m\u001b[38;5;241;43m1\u001b[39;49m\u001b[43m)\u001b[49m\n\u001b[1;32m      9\u001b[0m coef_sorted_base_full_df\u001b[38;5;241m.\u001b[39mcolumns \u001b[38;5;241m=\u001b[39m pd\u001b[38;5;241m.\u001b[39mMultiIndex\u001b[38;5;241m.\u001b[39mfrom_tuples(multicol_feat)\n\u001b[1;32m     10\u001b[0m \u001b[38;5;28;01mwith\u001b[39;00m pd\u001b[38;5;241m.\u001b[39moption_context(\u001b[38;5;124m'\u001b[39m\u001b[38;5;124mdisplay.float_format\u001b[39m\u001b[38;5;124m'\u001b[39m, \u001b[38;5;124m'\u001b[39m\u001b[38;5;132;01m{:.4f}\u001b[39;00m\u001b[38;5;124m'\u001b[39m\u001b[38;5;241m.\u001b[39mformat):\n",
      "File \u001b[0;32m~/.miniforge3/envs/test_pycaret/lib/python3.8/site-packages/pandas/util/_decorators.py:311\u001b[0m, in \u001b[0;36mdeprecate_nonkeyword_arguments.<locals>.decorate.<locals>.wrapper\u001b[0;34m(*args, **kwargs)\u001b[0m\n\u001b[1;32m    305\u001b[0m \u001b[38;5;28;01mif\u001b[39;00m \u001b[38;5;28mlen\u001b[39m(args) \u001b[38;5;241m>\u001b[39m num_allow_args:\n\u001b[1;32m    306\u001b[0m     warnings\u001b[38;5;241m.\u001b[39mwarn(\n\u001b[1;32m    307\u001b[0m         msg\u001b[38;5;241m.\u001b[39mformat(arguments\u001b[38;5;241m=\u001b[39marguments),\n\u001b[1;32m    308\u001b[0m         \u001b[38;5;167;01mFutureWarning\u001b[39;00m,\n\u001b[1;32m    309\u001b[0m         stacklevel\u001b[38;5;241m=\u001b[39mstacklevel,\n\u001b[1;32m    310\u001b[0m     )\n\u001b[0;32m--> 311\u001b[0m \u001b[38;5;28;01mreturn\u001b[39;00m \u001b[43mfunc\u001b[49m\u001b[43m(\u001b[49m\u001b[38;5;241;43m*\u001b[39;49m\u001b[43margs\u001b[49m\u001b[43m,\u001b[49m\u001b[43m \u001b[49m\u001b[38;5;241;43m*\u001b[39;49m\u001b[38;5;241;43m*\u001b[39;49m\u001b[43mkwargs\u001b[49m\u001b[43m)\u001b[49m\n",
      "File \u001b[0;32m~/.miniforge3/envs/test_pycaret/lib/python3.8/site-packages/pandas/core/reshape/concat.py:347\u001b[0m, in \u001b[0;36mconcat\u001b[0;34m(objs, axis, join, ignore_index, keys, levels, names, verify_integrity, sort, copy)\u001b[0m\n\u001b[1;32m    143\u001b[0m \u001b[38;5;129m@deprecate_nonkeyword_arguments\u001b[39m(version\u001b[38;5;241m=\u001b[39m\u001b[38;5;28;01mNone\u001b[39;00m, allowed_args\u001b[38;5;241m=\u001b[39m[\u001b[38;5;124m\"\u001b[39m\u001b[38;5;124mobjs\u001b[39m\u001b[38;5;124m\"\u001b[39m])\n\u001b[1;32m    144\u001b[0m \u001b[38;5;28;01mdef\u001b[39;00m \u001b[38;5;21mconcat\u001b[39m(\n\u001b[1;32m    145\u001b[0m     objs: Iterable[NDFrame] \u001b[38;5;241m|\u001b[39m Mapping[Hashable, NDFrame],\n\u001b[0;32m   (...)\u001b[0m\n\u001b[1;32m    154\u001b[0m     copy: \u001b[38;5;28mbool\u001b[39m \u001b[38;5;241m=\u001b[39m \u001b[38;5;28;01mTrue\u001b[39;00m,\n\u001b[1;32m    155\u001b[0m ) \u001b[38;5;241m-\u001b[39m\u001b[38;5;241m>\u001b[39m DataFrame \u001b[38;5;241m|\u001b[39m Series:\n\u001b[1;32m    156\u001b[0m     \u001b[38;5;124;03m\"\"\"\u001b[39;00m\n\u001b[1;32m    157\u001b[0m \u001b[38;5;124;03m    Concatenate pandas objects along a particular axis with optional set logic\u001b[39;00m\n\u001b[1;32m    158\u001b[0m \u001b[38;5;124;03m    along the other axes.\u001b[39;00m\n\u001b[0;32m   (...)\u001b[0m\n\u001b[1;32m    345\u001b[0m \u001b[38;5;124;03m    ValueError: Indexes have overlapping values: ['a']\u001b[39;00m\n\u001b[1;32m    346\u001b[0m \u001b[38;5;124;03m    \"\"\"\u001b[39;00m\n\u001b[0;32m--> 347\u001b[0m     op \u001b[38;5;241m=\u001b[39m \u001b[43m_Concatenator\u001b[49m\u001b[43m(\u001b[49m\n\u001b[1;32m    348\u001b[0m \u001b[43m        \u001b[49m\u001b[43mobjs\u001b[49m\u001b[43m,\u001b[49m\n\u001b[1;32m    349\u001b[0m \u001b[43m        \u001b[49m\u001b[43maxis\u001b[49m\u001b[38;5;241;43m=\u001b[39;49m\u001b[43maxis\u001b[49m\u001b[43m,\u001b[49m\n\u001b[1;32m    350\u001b[0m \u001b[43m        \u001b[49m\u001b[43mignore_index\u001b[49m\u001b[38;5;241;43m=\u001b[39;49m\u001b[43mignore_index\u001b[49m\u001b[43m,\u001b[49m\n\u001b[1;32m    351\u001b[0m \u001b[43m        \u001b[49m\u001b[43mjoin\u001b[49m\u001b[38;5;241;43m=\u001b[39;49m\u001b[43mjoin\u001b[49m\u001b[43m,\u001b[49m\n\u001b[1;32m    352\u001b[0m \u001b[43m        \u001b[49m\u001b[43mkeys\u001b[49m\u001b[38;5;241;43m=\u001b[39;49m\u001b[43mkeys\u001b[49m\u001b[43m,\u001b[49m\n\u001b[1;32m    353\u001b[0m \u001b[43m        \u001b[49m\u001b[43mlevels\u001b[49m\u001b[38;5;241;43m=\u001b[39;49m\u001b[43mlevels\u001b[49m\u001b[43m,\u001b[49m\n\u001b[1;32m    354\u001b[0m \u001b[43m        \u001b[49m\u001b[43mnames\u001b[49m\u001b[38;5;241;43m=\u001b[39;49m\u001b[43mnames\u001b[49m\u001b[43m,\u001b[49m\n\u001b[1;32m    355\u001b[0m \u001b[43m        \u001b[49m\u001b[43mverify_integrity\u001b[49m\u001b[38;5;241;43m=\u001b[39;49m\u001b[43mverify_integrity\u001b[49m\u001b[43m,\u001b[49m\n\u001b[1;32m    356\u001b[0m \u001b[43m        \u001b[49m\u001b[43mcopy\u001b[49m\u001b[38;5;241;43m=\u001b[39;49m\u001b[43mcopy\u001b[49m\u001b[43m,\u001b[49m\n\u001b[1;32m    357\u001b[0m \u001b[43m        \u001b[49m\u001b[43msort\u001b[49m\u001b[38;5;241;43m=\u001b[39;49m\u001b[43msort\u001b[49m\u001b[43m,\u001b[49m\n\u001b[1;32m    358\u001b[0m \u001b[43m    \u001b[49m\u001b[43m)\u001b[49m\n\u001b[1;32m    360\u001b[0m     \u001b[38;5;28;01mreturn\u001b[39;00m op\u001b[38;5;241m.\u001b[39mget_result()\n",
      "File \u001b[0;32m~/.miniforge3/envs/test_pycaret/lib/python3.8/site-packages/pandas/core/reshape/concat.py:404\u001b[0m, in \u001b[0;36m_Concatenator.__init__\u001b[0;34m(self, objs, axis, join, keys, levels, names, ignore_index, verify_integrity, copy, sort)\u001b[0m\n\u001b[1;32m    401\u001b[0m     objs \u001b[38;5;241m=\u001b[39m \u001b[38;5;28mlist\u001b[39m(objs)\n\u001b[1;32m    403\u001b[0m \u001b[38;5;28;01mif\u001b[39;00m \u001b[38;5;28mlen\u001b[39m(objs) \u001b[38;5;241m==\u001b[39m \u001b[38;5;241m0\u001b[39m:\n\u001b[0;32m--> 404\u001b[0m     \u001b[38;5;28;01mraise\u001b[39;00m \u001b[38;5;167;01mValueError\u001b[39;00m(\u001b[38;5;124m\"\u001b[39m\u001b[38;5;124mNo objects to concatenate\u001b[39m\u001b[38;5;124m\"\u001b[39m)\n\u001b[1;32m    406\u001b[0m \u001b[38;5;28;01mif\u001b[39;00m keys \u001b[38;5;129;01mis\u001b[39;00m \u001b[38;5;28;01mNone\u001b[39;00m:\n\u001b[1;32m    407\u001b[0m     objs \u001b[38;5;241m=\u001b[39m \u001b[38;5;28mlist\u001b[39m(com\u001b[38;5;241m.\u001b[39mnot_none(\u001b[38;5;241m*\u001b[39mobjs))\n",
      "\u001b[0;31mValueError\u001b[0m: No objects to concatenate"
     ]
    },
    {
     "name": "stderr",
     "output_type": "stream",
     "text": [
      "/home/rcarvajal/.miniforge3/envs/test_pycaret/lib/python3.8/site-packages/sklearn/utils/deprecation.py:101: FutureWarning: Attribute standard_coef_ was deprecated in version 0.23 and will be removed in 0.25.\n",
      "  warnings.warn(msg, category=FutureWarning)\n",
      "/home/rcarvajal/.miniforge3/envs/test_pycaret/lib/python3.8/site-packages/sklearn/utils/deprecation.py:101: FutureWarning: Attribute standard_intercept_ was deprecated in version 0.23 and will be removed in 0.25.\n",
      "  warnings.warn(msg, category=FutureWarning)\n",
      "/home/rcarvajal/.miniforge3/envs/test_pycaret/lib/python3.8/site-packages/sklearn/utils/deprecation.py:101: FutureWarning: Attribute average_coef_ was deprecated in version 0.23 and will be removed in 0.25.\n",
      "  warnings.warn(msg, category=FutureWarning)\n",
      "/home/rcarvajal/.miniforge3/envs/test_pycaret/lib/python3.8/site-packages/sklearn/utils/deprecation.py:101: FutureWarning: Attribute average_intercept_ was deprecated in version 0.23 and will be removed in 0.25.\n",
      "  warnings.warn(msg, category=FutureWarning)\n",
      "/home/rcarvajal/.miniforge3/envs/test_pycaret/lib/python3.8/site-packages/xgboost/sklearn.py:1224: UserWarning: The use of label encoder in XGBClassifier is deprecated and will be removed in a future release. To remove this warning, do the following: 1) Pass option use_label_encoder=False when constructing XGBClassifier object; and 2) Encode your labels (y) as integers starting with 0, i.e. 0, 1, 2, ..., [num_class - 1].\n",
      "  warnings.warn(label_encoder_deprecation_msg, UserWarning)\n",
      "/home/rcarvajal/.miniforge3/envs/test_pycaret/lib/python3.8/site-packages/xgboost/data.py:262: FutureWarning: pandas.Int64Index is deprecated and will be removed from pandas in a future version. Use pandas.Index with the appropriate dtype instead.\n",
      "  elif isinstance(data.columns, (pd.Int64Index, pd.RangeIndex)):\n",
      "/home/rcarvajal/.miniforge3/envs/test_pycaret/lib/python3.8/site-packages/sklearn/utils/deprecation.py:101: FutureWarning: The outputs_2d_ attribute is deprecated in version 0.22 and will be removed in version 0.24. It is equivalent to n_outputs_ > 1.\n",
      "  warnings.warn(msg, category=FutureWarning)\n",
      "/home/rcarvajal/.miniforge3/envs/test_pycaret/lib/python3.8/site-packages/sklearn/metrics/_classification.py:1221: UndefinedMetricWarning: Precision is ill-defined and being set to 0.0 due to no predicted samples. Use `zero_division` parameter to control this behavior.\n",
      "  _warn_prf(average, modifier, msg_start, len(result))\n",
      "/home/rcarvajal/.miniforge3/envs/test_pycaret/lib/python3.8/site-packages/sklearn/metrics/_classification.py:846: RuntimeWarning: invalid value encountered in double_scalars\n",
      "  mcc = cov_ytyp / np.sqrt(cov_ytyt * cov_ypyp)\n",
      "/home/rcarvajal/.miniforge3/envs/test_pycaret/lib/python3.8/site-packages/sklearn/model_selection/_validation.py:548: FitFailedWarning: Estimator fit failed. The score on this train-test partition for these parameters will be set to 0.000000. Details: \n",
      "Traceback (most recent call last):\n",
      "  File \"/home/rcarvajal/.miniforge3/envs/test_pycaret/lib/python3.8/site-packages/sklearn/model_selection/_validation.py\", line 531, in _fit_and_score\n",
      "    estimator.fit(X_train, y_train, **fit_params)\n",
      "  File \"/home/rcarvajal/.miniforge3/envs/test_pycaret/lib/python3.8/site-packages/pycaret/internal/pipeline.py\", line 118, in fit\n",
      "    result = super().fit(X, y=y, **fit_kwargs)\n",
      "  File \"/home/rcarvajal/.miniforge3/envs/test_pycaret/lib/python3.8/site-packages/imblearn/pipeline.py\", line 281, in fit\n",
      "    self._final_estimator.fit(Xt, yt, **fit_params)\n",
      "  File \"/home/rcarvajal/.miniforge3/envs/test_pycaret/lib/python3.8/site-packages/sklearn/calibration.py\", line 155, in fit\n",
      "    calibrated_classifier.fit(X, y, sample_weight)\n",
      "  File \"/home/rcarvajal/.miniforge3/envs/test_pycaret/lib/python3.8/site-packages/sklearn/calibration.py\", line 334, in fit\n",
      "    df, idx_pos_class = self._preproc(X)\n",
      "  File \"/home/rcarvajal/.miniforge3/envs/test_pycaret/lib/python3.8/site-packages/sklearn/calibration.py\", line 297, in _preproc\n",
      "    raise RuntimeError('classifier has no decision_function or '\n",
      "RuntimeError: classifier has no decision_function or predict_proba method.\n",
      "\n",
      "  warnings.warn(\"Estimator fit failed. The score on this train-test\"\n",
      "/home/rcarvajal/.miniforge3/envs/test_pycaret/lib/python3.8/site-packages/sklearn/model_selection/_validation.py:548: FitFailedWarning: Estimator fit failed. The score on this train-test partition for these parameters will be set to 0.000000. Details: \n",
      "Traceback (most recent call last):\n",
      "  File \"/home/rcarvajal/.miniforge3/envs/test_pycaret/lib/python3.8/site-packages/sklearn/model_selection/_validation.py\", line 531, in _fit_and_score\n",
      "    estimator.fit(X_train, y_train, **fit_params)\n",
      "  File \"/home/rcarvajal/.miniforge3/envs/test_pycaret/lib/python3.8/site-packages/pycaret/internal/pipeline.py\", line 118, in fit\n",
      "    result = super().fit(X, y=y, **fit_kwargs)\n",
      "  File \"/home/rcarvajal/.miniforge3/envs/test_pycaret/lib/python3.8/site-packages/imblearn/pipeline.py\", line 281, in fit\n",
      "    self._final_estimator.fit(Xt, yt, **fit_params)\n",
      "  File \"/home/rcarvajal/.miniforge3/envs/test_pycaret/lib/python3.8/site-packages/sklearn/calibration.py\", line 155, in fit\n",
      "    calibrated_classifier.fit(X, y, sample_weight)\n",
      "  File \"/home/rcarvajal/.miniforge3/envs/test_pycaret/lib/python3.8/site-packages/sklearn/calibration.py\", line 334, in fit\n",
      "    df, idx_pos_class = self._preproc(X)\n",
      "  File \"/home/rcarvajal/.miniforge3/envs/test_pycaret/lib/python3.8/site-packages/sklearn/calibration.py\", line 297, in _preproc\n",
      "    raise RuntimeError('classifier has no decision_function or '\n",
      "RuntimeError: classifier has no decision_function or predict_proba method.\n",
      "\n",
      "  warnings.warn(\"Estimator fit failed. The score on this train-test\"\n",
      "/home/rcarvajal/.miniforge3/envs/test_pycaret/lib/python3.8/site-packages/xgboost/data.py:262: FutureWarning: pandas.Int64Index is deprecated and will be removed from pandas in a future version. Use pandas.Index with the appropriate dtype instead.\n",
      "  elif isinstance(data.columns, (pd.Int64Index, pd.RangeIndex)):\n",
      "/home/rcarvajal/.miniforge3/envs/test_pycaret/lib/python3.8/site-packages/sklearn/utils/deprecation.py:101: FutureWarning: Attribute standard_coef_ was deprecated in version 0.23 and will be removed in 0.25.\n",
      "  warnings.warn(msg, category=FutureWarning)\n",
      "/home/rcarvajal/.miniforge3/envs/test_pycaret/lib/python3.8/site-packages/sklearn/utils/deprecation.py:101: FutureWarning: Attribute standard_intercept_ was deprecated in version 0.23 and will be removed in 0.25.\n",
      "  warnings.warn(msg, category=FutureWarning)\n",
      "/home/rcarvajal/.miniforge3/envs/test_pycaret/lib/python3.8/site-packages/sklearn/utils/deprecation.py:101: FutureWarning: Attribute average_coef_ was deprecated in version 0.23 and will be removed in 0.25.\n",
      "  warnings.warn(msg, category=FutureWarning)\n",
      "/home/rcarvajal/.miniforge3/envs/test_pycaret/lib/python3.8/site-packages/sklearn/utils/deprecation.py:101: FutureWarning: Attribute average_intercept_ was deprecated in version 0.23 and will be removed in 0.25.\n",
      "  warnings.warn(msg, category=FutureWarning)\n",
      "/home/rcarvajal/.miniforge3/envs/test_pycaret/lib/python3.8/site-packages/xgboost/sklearn.py:1224: UserWarning: The use of label encoder in XGBClassifier is deprecated and will be removed in a future release. To remove this warning, do the following: 1) Pass option use_label_encoder=False when constructing XGBClassifier object; and 2) Encode your labels (y) as integers starting with 0, i.e. 0, 1, 2, ..., [num_class - 1].\n",
      "  warnings.warn(label_encoder_deprecation_msg, UserWarning)\n",
      "/home/rcarvajal/.miniforge3/envs/test_pycaret/lib/python3.8/site-packages/xgboost/data.py:262: FutureWarning: pandas.Int64Index is deprecated and will be removed from pandas in a future version. Use pandas.Index with the appropriate dtype instead.\n",
      "  elif isinstance(data.columns, (pd.Int64Index, pd.RangeIndex)):\n",
      "/home/rcarvajal/.miniforge3/envs/test_pycaret/lib/python3.8/site-packages/sklearn/utils/deprecation.py:101: FutureWarning: The outputs_2d_ attribute is deprecated in version 0.22 and will be removed in version 0.24. It is equivalent to n_outputs_ > 1.\n",
      "  warnings.warn(msg, category=FutureWarning)\n",
      "/home/rcarvajal/.miniforge3/envs/test_pycaret/lib/python3.8/site-packages/sklearn/metrics/_classification.py:1221: UndefinedMetricWarning: Precision is ill-defined and being set to 0.0 due to no predicted samples. Use `zero_division` parameter to control this behavior.\n",
      "  _warn_prf(average, modifier, msg_start, len(result))\n",
      "/home/rcarvajal/.miniforge3/envs/test_pycaret/lib/python3.8/site-packages/sklearn/metrics/_classification.py:846: RuntimeWarning: invalid value encountered in double_scalars\n",
      "  mcc = cov_ytyp / np.sqrt(cov_ytyt * cov_ypyp)\n",
      "/home/rcarvajal/.miniforge3/envs/test_pycaret/lib/python3.8/site-packages/sklearn/model_selection/_validation.py:548: FitFailedWarning: Estimator fit failed. The score on this train-test partition for these parameters will be set to 0.000000. Details: \n",
      "Traceback (most recent call last):\n",
      "  File \"/home/rcarvajal/.miniforge3/envs/test_pycaret/lib/python3.8/site-packages/sklearn/model_selection/_validation.py\", line 531, in _fit_and_score\n",
      "    estimator.fit(X_train, y_train, **fit_params)\n",
      "  File \"/home/rcarvajal/.miniforge3/envs/test_pycaret/lib/python3.8/site-packages/pycaret/internal/pipeline.py\", line 118, in fit\n",
      "    result = super().fit(X, y=y, **fit_kwargs)\n",
      "  File \"/home/rcarvajal/.miniforge3/envs/test_pycaret/lib/python3.8/site-packages/imblearn/pipeline.py\", line 281, in fit\n",
      "    self._final_estimator.fit(Xt, yt, **fit_params)\n",
      "  File \"/home/rcarvajal/.miniforge3/envs/test_pycaret/lib/python3.8/site-packages/sklearn/calibration.py\", line 155, in fit\n",
      "    calibrated_classifier.fit(X, y, sample_weight)\n",
      "  File \"/home/rcarvajal/.miniforge3/envs/test_pycaret/lib/python3.8/site-packages/sklearn/calibration.py\", line 334, in fit\n",
      "    df, idx_pos_class = self._preproc(X)\n",
      "  File \"/home/rcarvajal/.miniforge3/envs/test_pycaret/lib/python3.8/site-packages/sklearn/calibration.py\", line 297, in _preproc\n",
      "    raise RuntimeError('classifier has no decision_function or '\n",
      "RuntimeError: classifier has no decision_function or predict_proba method.\n",
      "\n",
      "  warnings.warn(\"Estimator fit failed. The score on this train-test\"\n",
      "/home/rcarvajal/.miniforge3/envs/test_pycaret/lib/python3.8/site-packages/sklearn/utils/deprecation.py:101: FutureWarning: Attribute average_coef_ was deprecated in version 0.23 and will be removed in 0.25.\n",
      "  warnings.warn(msg, category=FutureWarning)\n",
      "/home/rcarvajal/.miniforge3/envs/test_pycaret/lib/python3.8/site-packages/sklearn/utils/deprecation.py:101: FutureWarning: Attribute average_intercept_ was deprecated in version 0.23 and will be removed in 0.25.\n",
      "  warnings.warn(msg, category=FutureWarning)\n",
      "/home/rcarvajal/.miniforge3/envs/test_pycaret/lib/python3.8/site-packages/sklearn/utils/deprecation.py:101: FutureWarning: The outputs_2d_ attribute is deprecated in version 0.22 and will be removed in version 0.24. It is equivalent to n_outputs_ > 1.\n",
      "  warnings.warn(msg, category=FutureWarning)\n",
      "/home/rcarvajal/.miniforge3/envs/test_pycaret/lib/python3.8/site-packages/sklearn/metrics/_classification.py:1221: UndefinedMetricWarning: Precision is ill-defined and being set to 0.0 due to no predicted samples. Use `zero_division` parameter to control this behavior.\n",
      "  _warn_prf(average, modifier, msg_start, len(result))\n",
      "/home/rcarvajal/.miniforge3/envs/test_pycaret/lib/python3.8/site-packages/sklearn/metrics/_classification.py:846: RuntimeWarning: invalid value encountered in double_scalars\n",
      "  mcc = cov_ytyp / np.sqrt(cov_ytyt * cov_ypyp)\n",
      "/home/rcarvajal/.miniforge3/envs/test_pycaret/lib/python3.8/site-packages/sklearn/model_selection/_validation.py:548: FitFailedWarning: Estimator fit failed. The score on this train-test partition for these parameters will be set to 0.000000. Details: \n",
      "Traceback (most recent call last):\n",
      "  File \"/home/rcarvajal/.miniforge3/envs/test_pycaret/lib/python3.8/site-packages/sklearn/model_selection/_validation.py\", line 531, in _fit_and_score\n",
      "    estimator.fit(X_train, y_train, **fit_params)\n",
      "  File \"/home/rcarvajal/.miniforge3/envs/test_pycaret/lib/python3.8/site-packages/pycaret/internal/pipeline.py\", line 118, in fit\n",
      "    result = super().fit(X, y=y, **fit_kwargs)\n",
      "  File \"/home/rcarvajal/.miniforge3/envs/test_pycaret/lib/python3.8/site-packages/imblearn/pipeline.py\", line 281, in fit\n",
      "    self._final_estimator.fit(Xt, yt, **fit_params)\n",
      "  File \"/home/rcarvajal/.miniforge3/envs/test_pycaret/lib/python3.8/site-packages/sklearn/calibration.py\", line 155, in fit\n",
      "    calibrated_classifier.fit(X, y, sample_weight)\n",
      "  File \"/home/rcarvajal/.miniforge3/envs/test_pycaret/lib/python3.8/site-packages/sklearn/calibration.py\", line 334, in fit\n",
      "    df, idx_pos_class = self._preproc(X)\n",
      "  File \"/home/rcarvajal/.miniforge3/envs/test_pycaret/lib/python3.8/site-packages/sklearn/calibration.py\", line 297, in _preproc\n",
      "    raise RuntimeError('classifier has no decision_function or '\n",
      "RuntimeError: classifier has no decision_function or predict_proba method.\n",
      "\n",
      "  warnings.warn(\"Estimator fit failed. The score on this train-test\"\n",
      "/home/rcarvajal/.miniforge3/envs/test_pycaret/lib/python3.8/site-packages/sklearn/model_selection/_validation.py:548: FitFailedWarning: Estimator fit failed. The score on this train-test partition for these parameters will be set to 0.000000. Details: \n",
      "Traceback (most recent call last):\n",
      "  File \"/home/rcarvajal/.miniforge3/envs/test_pycaret/lib/python3.8/site-packages/sklearn/model_selection/_validation.py\", line 531, in _fit_and_score\n",
      "    estimator.fit(X_train, y_train, **fit_params)\n",
      "  File \"/home/rcarvajal/.miniforge3/envs/test_pycaret/lib/python3.8/site-packages/pycaret/internal/pipeline.py\", line 118, in fit\n",
      "    result = super().fit(X, y=y, **fit_kwargs)\n",
      "  File \"/home/rcarvajal/.miniforge3/envs/test_pycaret/lib/python3.8/site-packages/imblearn/pipeline.py\", line 281, in fit\n",
      "    self._final_estimator.fit(Xt, yt, **fit_params)\n",
      "  File \"/home/rcarvajal/.miniforge3/envs/test_pycaret/lib/python3.8/site-packages/sklearn/calibration.py\", line 155, in fit\n",
      "    calibrated_classifier.fit(X, y, sample_weight)\n",
      "  File \"/home/rcarvajal/.miniforge3/envs/test_pycaret/lib/python3.8/site-packages/sklearn/calibration.py\", line 334, in fit\n",
      "    df, idx_pos_class = self._preproc(X)\n",
      "  File \"/home/rcarvajal/.miniforge3/envs/test_pycaret/lib/python3.8/site-packages/sklearn/calibration.py\", line 297, in _preproc\n",
      "    raise RuntimeError('classifier has no decision_function or '\n",
      "RuntimeError: classifier has no decision_function or predict_proba method.\n",
      "\n",
      "  warnings.warn(\"Estimator fit failed. The score on this train-test\"\n",
      "/home/rcarvajal/.miniforge3/envs/test_pycaret/lib/python3.8/site-packages/sklearn/utils/deprecation.py:101: FutureWarning: Attribute standard_intercept_ was deprecated in version 0.23 and will be removed in 0.25.\n",
      "  warnings.warn(msg, category=FutureWarning)\n",
      "/home/rcarvajal/.miniforge3/envs/test_pycaret/lib/python3.8/site-packages/sklearn/utils/deprecation.py:101: FutureWarning: Attribute average_coef_ was deprecated in version 0.23 and will be removed in 0.25.\n",
      "  warnings.warn(msg, category=FutureWarning)\n",
      "/home/rcarvajal/.miniforge3/envs/test_pycaret/lib/python3.8/site-packages/sklearn/utils/deprecation.py:101: FutureWarning: Attribute average_intercept_ was deprecated in version 0.23 and will be removed in 0.25.\n",
      "  warnings.warn(msg, category=FutureWarning)\n",
      "/home/rcarvajal/.miniforge3/envs/test_pycaret/lib/python3.8/site-packages/xgboost/sklearn.py:1224: UserWarning: The use of label encoder in XGBClassifier is deprecated and will be removed in a future release. To remove this warning, do the following: 1) Pass option use_label_encoder=False when constructing XGBClassifier object; and 2) Encode your labels (y) as integers starting with 0, i.e. 0, 1, 2, ..., [num_class - 1].\n",
      "  warnings.warn(label_encoder_deprecation_msg, UserWarning)\n",
      "/home/rcarvajal/.miniforge3/envs/test_pycaret/lib/python3.8/site-packages/xgboost/data.py:262: FutureWarning: pandas.Int64Index is deprecated and will be removed from pandas in a future version. Use pandas.Index with the appropriate dtype instead.\n",
      "  elif isinstance(data.columns, (pd.Int64Index, pd.RangeIndex)):\n",
      "/home/rcarvajal/.miniforge3/envs/test_pycaret/lib/python3.8/site-packages/sklearn/model_selection/_validation.py:548: FitFailedWarning: Estimator fit failed. The score on this train-test partition for these parameters will be set to 0.000000. Details: \n",
      "Traceback (most recent call last):\n",
      "  File \"/home/rcarvajal/.miniforge3/envs/test_pycaret/lib/python3.8/site-packages/sklearn/model_selection/_validation.py\", line 531, in _fit_and_score\n",
      "    estimator.fit(X_train, y_train, **fit_params)\n",
      "  File \"/home/rcarvajal/.miniforge3/envs/test_pycaret/lib/python3.8/site-packages/pycaret/internal/pipeline.py\", line 118, in fit\n",
      "    result = super().fit(X, y=y, **fit_kwargs)\n",
      "  File \"/home/rcarvajal/.miniforge3/envs/test_pycaret/lib/python3.8/site-packages/imblearn/pipeline.py\", line 281, in fit\n",
      "    self._final_estimator.fit(Xt, yt, **fit_params)\n",
      "  File \"/home/rcarvajal/.miniforge3/envs/test_pycaret/lib/python3.8/site-packages/sklearn/calibration.py\", line 155, in fit\n",
      "    calibrated_classifier.fit(X, y, sample_weight)\n",
      "  File \"/home/rcarvajal/.miniforge3/envs/test_pycaret/lib/python3.8/site-packages/sklearn/calibration.py\", line 334, in fit\n",
      "    df, idx_pos_class = self._preproc(X)\n",
      "  File \"/home/rcarvajal/.miniforge3/envs/test_pycaret/lib/python3.8/site-packages/sklearn/calibration.py\", line 297, in _preproc\n",
      "    raise RuntimeError('classifier has no decision_function or '\n",
      "RuntimeError: classifier has no decision_function or predict_proba method.\n",
      "\n",
      "  warnings.warn(\"Estimator fit failed. The score on this train-test\"\n",
      "/home/rcarvajal/.miniforge3/envs/test_pycaret/lib/python3.8/site-packages/xgboost/sklearn.py:1224: UserWarning: The use of label encoder in XGBClassifier is deprecated and will be removed in a future release. To remove this warning, do the following: 1) Pass option use_label_encoder=False when constructing XGBClassifier object; and 2) Encode your labels (y) as integers starting with 0, i.e. 0, 1, 2, ..., [num_class - 1].\n",
      "  warnings.warn(label_encoder_deprecation_msg, UserWarning)\n",
      "/home/rcarvajal/.miniforge3/envs/test_pycaret/lib/python3.8/site-packages/xgboost/data.py:262: FutureWarning: pandas.Int64Index is deprecated and will be removed from pandas in a future version. Use pandas.Index with the appropriate dtype instead.\n",
      "  elif isinstance(data.columns, (pd.Int64Index, pd.RangeIndex)):\n",
      "/home/rcarvajal/.miniforge3/envs/test_pycaret/lib/python3.8/site-packages/xgboost/sklearn.py:1224: UserWarning: The use of label encoder in XGBClassifier is deprecated and will be removed in a future release. To remove this warning, do the following: 1) Pass option use_label_encoder=False when constructing XGBClassifier object; and 2) Encode your labels (y) as integers starting with 0, i.e. 0, 1, 2, ..., [num_class - 1].\n",
      "  warnings.warn(label_encoder_deprecation_msg, UserWarning)\n",
      "/home/rcarvajal/.miniforge3/envs/test_pycaret/lib/python3.8/site-packages/xgboost/data.py:262: FutureWarning: pandas.Int64Index is deprecated and will be removed from pandas in a future version. Use pandas.Index with the appropriate dtype instead.\n",
      "  elif isinstance(data.columns, (pd.Int64Index, pd.RangeIndex)):\n",
      "/home/rcarvajal/.miniforge3/envs/test_pycaret/lib/python3.8/site-packages/sklearn/utils/deprecation.py:101: FutureWarning: The outputs_2d_ attribute is deprecated in version 0.22 and will be removed in version 0.24. It is equivalent to n_outputs_ > 1.\n",
      "  warnings.warn(msg, category=FutureWarning)\n",
      "/home/rcarvajal/.miniforge3/envs/test_pycaret/lib/python3.8/site-packages/sklearn/metrics/_classification.py:1221: UndefinedMetricWarning: Precision is ill-defined and being set to 0.0 due to no predicted samples. Use `zero_division` parameter to control this behavior.\n",
      "  _warn_prf(average, modifier, msg_start, len(result))\n",
      "/home/rcarvajal/.miniforge3/envs/test_pycaret/lib/python3.8/site-packages/sklearn/metrics/_classification.py:846: RuntimeWarning: invalid value encountered in double_scalars\n",
      "  mcc = cov_ytyp / np.sqrt(cov_ytyt * cov_ypyp)\n",
      "/home/rcarvajal/.miniforge3/envs/test_pycaret/lib/python3.8/site-packages/sklearn/model_selection/_validation.py:548: FitFailedWarning: Estimator fit failed. The score on this train-test partition for these parameters will be set to 0.000000. Details: \n",
      "Traceback (most recent call last):\n",
      "  File \"/home/rcarvajal/.miniforge3/envs/test_pycaret/lib/python3.8/site-packages/sklearn/model_selection/_validation.py\", line 531, in _fit_and_score\n",
      "    estimator.fit(X_train, y_train, **fit_params)\n",
      "  File \"/home/rcarvajal/.miniforge3/envs/test_pycaret/lib/python3.8/site-packages/pycaret/internal/pipeline.py\", line 118, in fit\n",
      "    result = super().fit(X, y=y, **fit_kwargs)\n",
      "  File \"/home/rcarvajal/.miniforge3/envs/test_pycaret/lib/python3.8/site-packages/imblearn/pipeline.py\", line 281, in fit\n",
      "    self._final_estimator.fit(Xt, yt, **fit_params)\n",
      "  File \"/home/rcarvajal/.miniforge3/envs/test_pycaret/lib/python3.8/site-packages/sklearn/calibration.py\", line 155, in fit\n",
      "    calibrated_classifier.fit(X, y, sample_weight)\n",
      "  File \"/home/rcarvajal/.miniforge3/envs/test_pycaret/lib/python3.8/site-packages/sklearn/calibration.py\", line 334, in fit\n",
      "    df, idx_pos_class = self._preproc(X)\n",
      "  File \"/home/rcarvajal/.miniforge3/envs/test_pycaret/lib/python3.8/site-packages/sklearn/calibration.py\", line 297, in _preproc\n",
      "    raise RuntimeError('classifier has no decision_function or '\n",
      "RuntimeError: classifier has no decision_function or predict_proba method.\n",
      "\n",
      "  warnings.warn(\"Estimator fit failed. The score on this train-test\"\n",
      "/home/rcarvajal/.miniforge3/envs/test_pycaret/lib/python3.8/site-packages/sklearn/model_selection/_validation.py:548: FitFailedWarning: Estimator fit failed. The score on this train-test partition for these parameters will be set to 0.000000. Details: \n",
      "Traceback (most recent call last):\n",
      "  File \"/home/rcarvajal/.miniforge3/envs/test_pycaret/lib/python3.8/site-packages/sklearn/model_selection/_validation.py\", line 531, in _fit_and_score\n",
      "    estimator.fit(X_train, y_train, **fit_params)\n",
      "  File \"/home/rcarvajal/.miniforge3/envs/test_pycaret/lib/python3.8/site-packages/pycaret/internal/pipeline.py\", line 118, in fit\n",
      "    result = super().fit(X, y=y, **fit_kwargs)\n",
      "  File \"/home/rcarvajal/.miniforge3/envs/test_pycaret/lib/python3.8/site-packages/imblearn/pipeline.py\", line 281, in fit\n",
      "    self._final_estimator.fit(Xt, yt, **fit_params)\n",
      "  File \"/home/rcarvajal/.miniforge3/envs/test_pycaret/lib/python3.8/site-packages/sklearn/calibration.py\", line 155, in fit\n",
      "    calibrated_classifier.fit(X, y, sample_weight)\n",
      "  File \"/home/rcarvajal/.miniforge3/envs/test_pycaret/lib/python3.8/site-packages/sklearn/calibration.py\", line 334, in fit\n",
      "    df, idx_pos_class = self._preproc(X)\n",
      "  File \"/home/rcarvajal/.miniforge3/envs/test_pycaret/lib/python3.8/site-packages/sklearn/calibration.py\", line 297, in _preproc\n",
      "    raise RuntimeError('classifier has no decision_function or '\n",
      "RuntimeError: classifier has no decision_function or predict_proba method.\n",
      "\n",
      "  warnings.warn(\"Estimator fit failed. The score on this train-test\"\n",
      "/home/rcarvajal/.miniforge3/envs/test_pycaret/lib/python3.8/site-packages/sklearn/model_selection/_validation.py:548: FitFailedWarning: Estimator fit failed. The score on this train-test partition for these parameters will be set to 0.000000. Details: \n",
      "Traceback (most recent call last):\n",
      "  File \"/home/rcarvajal/.miniforge3/envs/test_pycaret/lib/python3.8/site-packages/sklearn/model_selection/_validation.py\", line 531, in _fit_and_score\n",
      "    estimator.fit(X_train, y_train, **fit_params)\n",
      "  File \"/home/rcarvajal/.miniforge3/envs/test_pycaret/lib/python3.8/site-packages/pycaret/internal/pipeline.py\", line 118, in fit\n",
      "    result = super().fit(X, y=y, **fit_kwargs)\n",
      "  File \"/home/rcarvajal/.miniforge3/envs/test_pycaret/lib/python3.8/site-packages/imblearn/pipeline.py\", line 281, in fit\n",
      "    self._final_estimator.fit(Xt, yt, **fit_params)\n",
      "  File \"/home/rcarvajal/.miniforge3/envs/test_pycaret/lib/python3.8/site-packages/sklearn/calibration.py\", line 155, in fit\n",
      "    calibrated_classifier.fit(X, y, sample_weight)\n",
      "  File \"/home/rcarvajal/.miniforge3/envs/test_pycaret/lib/python3.8/site-packages/sklearn/calibration.py\", line 334, in fit\n",
      "    df, idx_pos_class = self._preproc(X)\n",
      "  File \"/home/rcarvajal/.miniforge3/envs/test_pycaret/lib/python3.8/site-packages/sklearn/calibration.py\", line 297, in _preproc\n",
      "    raise RuntimeError('classifier has no decision_function or '\n",
      "RuntimeError: classifier has no decision_function or predict_proba method.\n",
      "\n",
      "  warnings.warn(\"Estimator fit failed. The score on this train-test\"\n",
      "/home/rcarvajal/.miniforge3/envs/test_pycaret/lib/python3.8/site-packages/sklearn/model_selection/_validation.py:548: FitFailedWarning: Estimator fit failed. The score on this train-test partition for these parameters will be set to 0.000000. Details: \n",
      "Traceback (most recent call last):\n",
      "  File \"/home/rcarvajal/.miniforge3/envs/test_pycaret/lib/python3.8/site-packages/sklearn/model_selection/_validation.py\", line 531, in _fit_and_score\n",
      "    estimator.fit(X_train, y_train, **fit_params)\n",
      "  File \"/home/rcarvajal/.miniforge3/envs/test_pycaret/lib/python3.8/site-packages/pycaret/internal/pipeline.py\", line 118, in fit\n",
      "    result = super().fit(X, y=y, **fit_kwargs)\n",
      "  File \"/home/rcarvajal/.miniforge3/envs/test_pycaret/lib/python3.8/site-packages/imblearn/pipeline.py\", line 281, in fit\n",
      "    self._final_estimator.fit(Xt, yt, **fit_params)\n",
      "  File \"/home/rcarvajal/.miniforge3/envs/test_pycaret/lib/python3.8/site-packages/sklearn/calibration.py\", line 155, in fit\n",
      "    calibrated_classifier.fit(X, y, sample_weight)\n",
      "  File \"/home/rcarvajal/.miniforge3/envs/test_pycaret/lib/python3.8/site-packages/sklearn/calibration.py\", line 334, in fit\n",
      "    df, idx_pos_class = self._preproc(X)\n",
      "  File \"/home/rcarvajal/.miniforge3/envs/test_pycaret/lib/python3.8/site-packages/sklearn/calibration.py\", line 297, in _preproc\n",
      "    raise RuntimeError('classifier has no decision_function or '\n",
      "RuntimeError: classifier has no decision_function or predict_proba method.\n",
      "\n",
      "  warnings.warn(\"Estimator fit failed. The score on this train-test\"\n",
      "/home/rcarvajal/.miniforge3/envs/test_pycaret/lib/python3.8/site-packages/sklearn/model_selection/_validation.py:548: FitFailedWarning: Estimator fit failed. The score on this train-test partition for these parameters will be set to 0.000000. Details: \n",
      "Traceback (most recent call last):\n",
      "  File \"/home/rcarvajal/.miniforge3/envs/test_pycaret/lib/python3.8/site-packages/sklearn/model_selection/_validation.py\", line 531, in _fit_and_score\n",
      "    estimator.fit(X_train, y_train, **fit_params)\n",
      "  File \"/home/rcarvajal/.miniforge3/envs/test_pycaret/lib/python3.8/site-packages/pycaret/internal/pipeline.py\", line 118, in fit\n",
      "    result = super().fit(X, y=y, **fit_kwargs)\n",
      "  File \"/home/rcarvajal/.miniforge3/envs/test_pycaret/lib/python3.8/site-packages/imblearn/pipeline.py\", line 281, in fit\n",
      "    self._final_estimator.fit(Xt, yt, **fit_params)\n",
      "  File \"/home/rcarvajal/.miniforge3/envs/test_pycaret/lib/python3.8/site-packages/sklearn/calibration.py\", line 155, in fit\n",
      "    calibrated_classifier.fit(X, y, sample_weight)\n",
      "  File \"/home/rcarvajal/.miniforge3/envs/test_pycaret/lib/python3.8/site-packages/sklearn/calibration.py\", line 334, in fit\n",
      "    df, idx_pos_class = self._preproc(X)\n",
      "  File \"/home/rcarvajal/.miniforge3/envs/test_pycaret/lib/python3.8/site-packages/sklearn/calibration.py\", line 297, in _preproc\n",
      "    raise RuntimeError('classifier has no decision_function or '\n",
      "RuntimeError: classifier has no decision_function or predict_proba method.\n",
      "\n",
      "  warnings.warn(\"Estimator fit failed. The score on this train-test\"\n",
      "/home/rcarvajal/.miniforge3/envs/test_pycaret/lib/python3.8/site-packages/sklearn/model_selection/_validation.py:548: FitFailedWarning: Estimator fit failed. The score on this train-test partition for these parameters will be set to 0.000000. Details: \n",
      "Traceback (most recent call last):\n",
      "  File \"/home/rcarvajal/.miniforge3/envs/test_pycaret/lib/python3.8/site-packages/sklearn/model_selection/_validation.py\", line 531, in _fit_and_score\n",
      "    estimator.fit(X_train, y_train, **fit_params)\n",
      "  File \"/home/rcarvajal/.miniforge3/envs/test_pycaret/lib/python3.8/site-packages/pycaret/internal/pipeline.py\", line 118, in fit\n",
      "    result = super().fit(X, y=y, **fit_kwargs)\n",
      "  File \"/home/rcarvajal/.miniforge3/envs/test_pycaret/lib/python3.8/site-packages/imblearn/pipeline.py\", line 281, in fit\n",
      "    self._final_estimator.fit(Xt, yt, **fit_params)\n",
      "  File \"/home/rcarvajal/.miniforge3/envs/test_pycaret/lib/python3.8/site-packages/sklearn/calibration.py\", line 155, in fit\n",
      "    calibrated_classifier.fit(X, y, sample_weight)\n",
      "  File \"/home/rcarvajal/.miniforge3/envs/test_pycaret/lib/python3.8/site-packages/sklearn/calibration.py\", line 334, in fit\n",
      "    df, idx_pos_class = self._preproc(X)\n",
      "  File \"/home/rcarvajal/.miniforge3/envs/test_pycaret/lib/python3.8/site-packages/sklearn/calibration.py\", line 297, in _preproc\n",
      "    raise RuntimeError('classifier has no decision_function or '\n",
      "RuntimeError: classifier has no decision_function or predict_proba method.\n",
      "\n",
      "  warnings.warn(\"Estimator fit failed. The score on this train-test\"\n",
      "/home/rcarvajal/.miniforge3/envs/test_pycaret/lib/python3.8/site-packages/xgboost/data.py:262: FutureWarning: pandas.Int64Index is deprecated and will be removed from pandas in a future version. Use pandas.Index with the appropriate dtype instead.\n",
      "  elif isinstance(data.columns, (pd.Int64Index, pd.RangeIndex)):\n",
      "/home/rcarvajal/.miniforge3/envs/test_pycaret/lib/python3.8/site-packages/sklearn/utils/deprecation.py:101: FutureWarning: Attribute standard_coef_ was deprecated in version 0.23 and will be removed in 0.25.\n",
      "  warnings.warn(msg, category=FutureWarning)\n",
      "/home/rcarvajal/.miniforge3/envs/test_pycaret/lib/python3.8/site-packages/sklearn/utils/deprecation.py:101: FutureWarning: Attribute standard_intercept_ was deprecated in version 0.23 and will be removed in 0.25.\n",
      "  warnings.warn(msg, category=FutureWarning)\n",
      "/home/rcarvajal/.miniforge3/envs/test_pycaret/lib/python3.8/site-packages/sklearn/utils/deprecation.py:101: FutureWarning: Attribute average_coef_ was deprecated in version 0.23 and will be removed in 0.25.\n",
      "  warnings.warn(msg, category=FutureWarning)\n",
      "/home/rcarvajal/.miniforge3/envs/test_pycaret/lib/python3.8/site-packages/sklearn/utils/deprecation.py:101: FutureWarning: Attribute average_intercept_ was deprecated in version 0.23 and will be removed in 0.25.\n",
      "  warnings.warn(msg, category=FutureWarning)\n",
      "/home/rcarvajal/.miniforge3/envs/test_pycaret/lib/python3.8/site-packages/xgboost/sklearn.py:1224: UserWarning: The use of label encoder in XGBClassifier is deprecated and will be removed in a future release. To remove this warning, do the following: 1) Pass option use_label_encoder=False when constructing XGBClassifier object; and 2) Encode your labels (y) as integers starting with 0, i.e. 0, 1, 2, ..., [num_class - 1].\n",
      "  warnings.warn(label_encoder_deprecation_msg, UserWarning)\n",
      "/home/rcarvajal/.miniforge3/envs/test_pycaret/lib/python3.8/site-packages/xgboost/data.py:262: FutureWarning: pandas.Int64Index is deprecated and will be removed from pandas in a future version. Use pandas.Index with the appropriate dtype instead.\n",
      "  elif isinstance(data.columns, (pd.Int64Index, pd.RangeIndex)):\n",
      "/home/rcarvajal/.miniforge3/envs/test_pycaret/lib/python3.8/site-packages/sklearn/model_selection/_validation.py:548: FitFailedWarning: Estimator fit failed. The score on this train-test partition for these parameters will be set to 0.000000. Details: \n",
      "Traceback (most recent call last):\n",
      "  File \"/home/rcarvajal/.miniforge3/envs/test_pycaret/lib/python3.8/site-packages/sklearn/model_selection/_validation.py\", line 531, in _fit_and_score\n",
      "    estimator.fit(X_train, y_train, **fit_params)\n",
      "  File \"/home/rcarvajal/.miniforge3/envs/test_pycaret/lib/python3.8/site-packages/pycaret/internal/pipeline.py\", line 118, in fit\n",
      "    result = super().fit(X, y=y, **fit_kwargs)\n",
      "  File \"/home/rcarvajal/.miniforge3/envs/test_pycaret/lib/python3.8/site-packages/imblearn/pipeline.py\", line 281, in fit\n",
      "    self._final_estimator.fit(Xt, yt, **fit_params)\n",
      "  File \"/home/rcarvajal/.miniforge3/envs/test_pycaret/lib/python3.8/site-packages/sklearn/calibration.py\", line 155, in fit\n",
      "    calibrated_classifier.fit(X, y, sample_weight)\n",
      "  File \"/home/rcarvajal/.miniforge3/envs/test_pycaret/lib/python3.8/site-packages/sklearn/calibration.py\", line 334, in fit\n",
      "    df, idx_pos_class = self._preproc(X)\n",
      "  File \"/home/rcarvajal/.miniforge3/envs/test_pycaret/lib/python3.8/site-packages/sklearn/calibration.py\", line 297, in _preproc\n",
      "    raise RuntimeError('classifier has no decision_function or '\n",
      "RuntimeError: classifier has no decision_function or predict_proba method.\n",
      "\n",
      "  warnings.warn(\"Estimator fit failed. The score on this train-test\"\n",
      "/home/rcarvajal/.miniforge3/envs/test_pycaret/lib/python3.8/site-packages/xgboost/data.py:262: FutureWarning: pandas.Int64Index is deprecated and will be removed from pandas in a future version. Use pandas.Index with the appropriate dtype instead.\n",
      "  elif isinstance(data.columns, (pd.Int64Index, pd.RangeIndex)):\n",
      "/home/rcarvajal/.miniforge3/envs/test_pycaret/lib/python3.8/site-packages/sklearn/utils/deprecation.py:101: FutureWarning: Attribute standard_coef_ was deprecated in version 0.23 and will be removed in 0.25.\n",
      "  warnings.warn(msg, category=FutureWarning)\n",
      "/home/rcarvajal/.miniforge3/envs/test_pycaret/lib/python3.8/site-packages/sklearn/utils/deprecation.py:101: FutureWarning: Attribute standard_intercept_ was deprecated in version 0.23 and will be removed in 0.25.\n",
      "  warnings.warn(msg, category=FutureWarning)\n",
      "/home/rcarvajal/.miniforge3/envs/test_pycaret/lib/python3.8/site-packages/sklearn/utils/deprecation.py:101: FutureWarning: Attribute average_coef_ was deprecated in version 0.23 and will be removed in 0.25.\n",
      "  warnings.warn(msg, category=FutureWarning)\n",
      "/home/rcarvajal/.miniforge3/envs/test_pycaret/lib/python3.8/site-packages/sklearn/utils/deprecation.py:101: FutureWarning: Attribute average_intercept_ was deprecated in version 0.23 and will be removed in 0.25.\n",
      "  warnings.warn(msg, category=FutureWarning)\n",
      "/home/rcarvajal/.miniforge3/envs/test_pycaret/lib/python3.8/site-packages/xgboost/sklearn.py:1224: UserWarning: The use of label encoder in XGBClassifier is deprecated and will be removed in a future release. To remove this warning, do the following: 1) Pass option use_label_encoder=False when constructing XGBClassifier object; and 2) Encode your labels (y) as integers starting with 0, i.e. 0, 1, 2, ..., [num_class - 1].\n",
      "  warnings.warn(label_encoder_deprecation_msg, UserWarning)\n",
      "/home/rcarvajal/.miniforge3/envs/test_pycaret/lib/python3.8/site-packages/xgboost/data.py:262: FutureWarning: pandas.Int64Index is deprecated and will be removed from pandas in a future version. Use pandas.Index with the appropriate dtype instead.\n",
      "  elif isinstance(data.columns, (pd.Int64Index, pd.RangeIndex)):\n",
      "/home/rcarvajal/.miniforge3/envs/test_pycaret/lib/python3.8/site-packages/sklearn/utils/deprecation.py:101: FutureWarning: The outputs_2d_ attribute is deprecated in version 0.22 and will be removed in version 0.24. It is equivalent to n_outputs_ > 1.\n",
      "  warnings.warn(msg, category=FutureWarning)\n",
      "/home/rcarvajal/.miniforge3/envs/test_pycaret/lib/python3.8/site-packages/sklearn/metrics/_classification.py:1221: UndefinedMetricWarning: Precision is ill-defined and being set to 0.0 due to no predicted samples. Use `zero_division` parameter to control this behavior.\n",
      "  _warn_prf(average, modifier, msg_start, len(result))\n",
      "/home/rcarvajal/.miniforge3/envs/test_pycaret/lib/python3.8/site-packages/sklearn/metrics/_classification.py:846: RuntimeWarning: invalid value encountered in double_scalars\n",
      "  mcc = cov_ytyp / np.sqrt(cov_ytyt * cov_ypyp)\n",
      "/home/rcarvajal/.miniforge3/envs/test_pycaret/lib/python3.8/site-packages/sklearn/model_selection/_validation.py:548: FitFailedWarning: Estimator fit failed. The score on this train-test partition for these parameters will be set to 0.000000. Details: \n",
      "Traceback (most recent call last):\n",
      "  File \"/home/rcarvajal/.miniforge3/envs/test_pycaret/lib/python3.8/site-packages/sklearn/model_selection/_validation.py\", line 531, in _fit_and_score\n",
      "    estimator.fit(X_train, y_train, **fit_params)\n",
      "  File \"/home/rcarvajal/.miniforge3/envs/test_pycaret/lib/python3.8/site-packages/pycaret/internal/pipeline.py\", line 118, in fit\n",
      "    result = super().fit(X, y=y, **fit_kwargs)\n",
      "  File \"/home/rcarvajal/.miniforge3/envs/test_pycaret/lib/python3.8/site-packages/imblearn/pipeline.py\", line 281, in fit\n",
      "    self._final_estimator.fit(Xt, yt, **fit_params)\n",
      "  File \"/home/rcarvajal/.miniforge3/envs/test_pycaret/lib/python3.8/site-packages/sklearn/calibration.py\", line 155, in fit\n",
      "    calibrated_classifier.fit(X, y, sample_weight)\n",
      "  File \"/home/rcarvajal/.miniforge3/envs/test_pycaret/lib/python3.8/site-packages/sklearn/calibration.py\", line 334, in fit\n",
      "    df, idx_pos_class = self._preproc(X)\n",
      "  File \"/home/rcarvajal/.miniforge3/envs/test_pycaret/lib/python3.8/site-packages/sklearn/calibration.py\", line 297, in _preproc\n",
      "    raise RuntimeError('classifier has no decision_function or '\n",
      "RuntimeError: classifier has no decision_function or predict_proba method.\n",
      "\n",
      "  warnings.warn(\"Estimator fit failed. The score on this train-test\"\n",
      "/home/rcarvajal/.miniforge3/envs/test_pycaret/lib/python3.8/site-packages/xgboost/compat.py:36: FutureWarning: pandas.Int64Index is deprecated and will be removed from pandas in a future version. Use pandas.Index with the appropriate dtype instead.\n",
      "  from pandas import MultiIndex, Int64Index\n",
      "/home/rcarvajal/.miniforge3/envs/test_pycaret/lib/python3.8/site-packages/xgboost/sklearn.py:1224: UserWarning: The use of label encoder in XGBClassifier is deprecated and will be removed in a future release. To remove this warning, do the following: 1) Pass option use_label_encoder=False when constructing XGBClassifier object; and 2) Encode your labels (y) as integers starting with 0, i.e. 0, 1, 2, ..., [num_class - 1].\n",
      "  warnings.warn(label_encoder_deprecation_msg, UserWarning)\n",
      "/home/rcarvajal/.miniforge3/envs/test_pycaret/lib/python3.8/site-packages/xgboost/data.py:262: FutureWarning: pandas.Int64Index is deprecated and will be removed from pandas in a future version. Use pandas.Index with the appropriate dtype instead.\n",
      "  elif isinstance(data.columns, (pd.Int64Index, pd.RangeIndex)):\n",
      "/home/rcarvajal/.miniforge3/envs/test_pycaret/lib/python3.8/site-packages/sklearn/utils/deprecation.py:101: FutureWarning: The outputs_2d_ attribute is deprecated in version 0.22 and will be removed in version 0.24. It is equivalent to n_outputs_ > 1.\n",
      "  warnings.warn(msg, category=FutureWarning)\n",
      "/home/rcarvajal/.miniforge3/envs/test_pycaret/lib/python3.8/site-packages/sklearn/metrics/_classification.py:1221: UndefinedMetricWarning: Precision is ill-defined and being set to 0.0 due to no predicted samples. Use `zero_division` parameter to control this behavior.\n",
      "  _warn_prf(average, modifier, msg_start, len(result))\n",
      "/home/rcarvajal/.miniforge3/envs/test_pycaret/lib/python3.8/site-packages/sklearn/metrics/_classification.py:846: RuntimeWarning: invalid value encountered in double_scalars\n",
      "  mcc = cov_ytyp / np.sqrt(cov_ytyt * cov_ypyp)\n",
      "/home/rcarvajal/.miniforge3/envs/test_pycaret/lib/python3.8/site-packages/sklearn/utils/deprecation.py:101: FutureWarning: The outputs_2d_ attribute is deprecated in version 0.22 and will be removed in version 0.24. It is equivalent to n_outputs_ > 1.\n",
      "  warnings.warn(msg, category=FutureWarning)\n",
      "/home/rcarvajal/.miniforge3/envs/test_pycaret/lib/python3.8/site-packages/sklearn/metrics/_classification.py:1221: UndefinedMetricWarning: Precision is ill-defined and being set to 0.0 due to no predicted samples. Use `zero_division` parameter to control this behavior.\n",
      "  _warn_prf(average, modifier, msg_start, len(result))\n",
      "/home/rcarvajal/.miniforge3/envs/test_pycaret/lib/python3.8/site-packages/sklearn/metrics/_classification.py:846: RuntimeWarning: invalid value encountered in double_scalars\n",
      "  mcc = cov_ytyp / np.sqrt(cov_ytyt * cov_ypyp)\n",
      "/home/rcarvajal/.miniforge3/envs/test_pycaret/lib/python3.8/site-packages/sklearn/model_selection/_validation.py:548: FitFailedWarning: Estimator fit failed. The score on this train-test partition for these parameters will be set to 0.000000. Details: \n",
      "Traceback (most recent call last):\n",
      "  File \"/home/rcarvajal/.miniforge3/envs/test_pycaret/lib/python3.8/site-packages/sklearn/model_selection/_validation.py\", line 531, in _fit_and_score\n",
      "    estimator.fit(X_train, y_train, **fit_params)\n",
      "  File \"/home/rcarvajal/.miniforge3/envs/test_pycaret/lib/python3.8/site-packages/pycaret/internal/pipeline.py\", line 118, in fit\n",
      "    result = super().fit(X, y=y, **fit_kwargs)\n",
      "  File \"/home/rcarvajal/.miniforge3/envs/test_pycaret/lib/python3.8/site-packages/imblearn/pipeline.py\", line 281, in fit\n",
      "    self._final_estimator.fit(Xt, yt, **fit_params)\n",
      "  File \"/home/rcarvajal/.miniforge3/envs/test_pycaret/lib/python3.8/site-packages/sklearn/calibration.py\", line 155, in fit\n",
      "    calibrated_classifier.fit(X, y, sample_weight)\n",
      "  File \"/home/rcarvajal/.miniforge3/envs/test_pycaret/lib/python3.8/site-packages/sklearn/calibration.py\", line 334, in fit\n",
      "    df, idx_pos_class = self._preproc(X)\n",
      "  File \"/home/rcarvajal/.miniforge3/envs/test_pycaret/lib/python3.8/site-packages/sklearn/calibration.py\", line 297, in _preproc\n",
      "    raise RuntimeError('classifier has no decision_function or '\n",
      "RuntimeError: classifier has no decision_function or predict_proba method.\n",
      "\n",
      "  warnings.warn(\"Estimator fit failed. The score on this train-test\"\n",
      "/home/rcarvajal/.miniforge3/envs/test_pycaret/lib/python3.8/site-packages/sklearn/model_selection/_validation.py:548: FitFailedWarning: Estimator fit failed. The score on this train-test partition for these parameters will be set to 0.000000. Details: \n",
      "Traceback (most recent call last):\n",
      "  File \"/home/rcarvajal/.miniforge3/envs/test_pycaret/lib/python3.8/site-packages/sklearn/model_selection/_validation.py\", line 531, in _fit_and_score\n",
      "    estimator.fit(X_train, y_train, **fit_params)\n",
      "  File \"/home/rcarvajal/.miniforge3/envs/test_pycaret/lib/python3.8/site-packages/pycaret/internal/pipeline.py\", line 118, in fit\n",
      "    result = super().fit(X, y=y, **fit_kwargs)\n",
      "  File \"/home/rcarvajal/.miniforge3/envs/test_pycaret/lib/python3.8/site-packages/imblearn/pipeline.py\", line 281, in fit\n",
      "    self._final_estimator.fit(Xt, yt, **fit_params)\n",
      "  File \"/home/rcarvajal/.miniforge3/envs/test_pycaret/lib/python3.8/site-packages/sklearn/calibration.py\", line 155, in fit\n",
      "    calibrated_classifier.fit(X, y, sample_weight)\n",
      "  File \"/home/rcarvajal/.miniforge3/envs/test_pycaret/lib/python3.8/site-packages/sklearn/calibration.py\", line 334, in fit\n",
      "    df, idx_pos_class = self._preproc(X)\n",
      "  File \"/home/rcarvajal/.miniforge3/envs/test_pycaret/lib/python3.8/site-packages/sklearn/calibration.py\", line 297, in _preproc\n",
      "    raise RuntimeError('classifier has no decision_function or '\n",
      "RuntimeError: classifier has no decision_function or predict_proba method.\n",
      "\n",
      "  warnings.warn(\"Estimator fit failed. The score on this train-test\"\n"
     ]
    }
   ],
   "source": [
    "print('Feature importances scaled to sum 100')\n",
    "coef_sorted_base_df_copy_sum = coef_sorted_base_df.copy()\n",
    "for key in coef_sorted_base_df_copy_sum.keys():\n",
    "    print(f'Calculating for {key}...')\n",
    "    coef_sorted_base_df_copy_sum[key].loc[:, 'Importance'] = coef_sorted_base_df[key].loc[:, 'Importance'] /\\\n",
    "                                                        coef_sorted_base_df[key].loc[:, 'Importance'].sum() * 100\n",
    "    # display(coef_sorted_base_df_copy_sum[key])\n",
    "coef_sorted_base_full_df = pd.concat([coef_sorted_base_df_copy_sum[key].reset_index(drop=True) for key in coef_sorted_base_df_copy_sum.keys()], axis=1)\n",
    "coef_sorted_base_full_df.columns = pd.MultiIndex.from_tuples(multicol_feat)\n",
    "with pd.option_context('display.float_format', '{:.4f}'.format):\n",
    "    display(coef_sorted_base_full_df)"
   ]
  },
  {
   "cell_type": "code",
   "execution_count": null,
   "id": "b406d872",
   "metadata": {
    "jupyter": {
     "source_hidden": true
    },
    "tags": []
   },
   "outputs": [],
   "source": [
    "print('Feature importances scaled to sum 100')\n",
    "coef_sorted_meta_df_copy_sum = coef_sorted_meta_df.copy()\n",
    "coef_sorted_meta_df_copy_sum.loc[:, 'Importance'] = coef_sorted_meta_df.loc[:, 'Importance'] /\\\n",
    "                                                     coef_sorted_meta_df.loc[:, 'Importance'].sum() * 100\n",
    "print('Meta model')\n",
    "with pd.option_context('display.float_format', '{:.4e}'.format):\n",
    "    display(coef_sorted_meta_df_copy_sum)"
   ]
  },
  {
   "cell_type": "code",
   "execution_count": null,
   "id": "45fb62cc",
   "metadata": {
    "jupyter": {
     "source_hidden": true
    },
    "tags": []
   },
   "outputs": [],
   "source": [
    "print('Feature importances scaled to sum 100')\n",
    "try:\n",
    "    fig         = plt.figure(figsize=(7,10))\n",
    "    ax1         = fig.add_subplot(111)\n",
    "    n_top       = len(validation_df.columns)\n",
    "    features_df = get_feature_importances_df(final_AGN_clf, validation_df, n=n_top)\n",
    "    features    = features_df.loc[:, 'Feature'].to_list()\n",
    "    importances = features_df.loc[:, 'Importance'].to_list()\n",
    "    import_scal = importances / np.nansum(importances)\n",
    "    import_scal_colors = (importances - np.nanmin(importances)) / (np.nanmax(importances) - np.nanmin(importances))\n",
    "    # indices     = np.argsort(importances)[-n_top:] #only show most important features\n",
    "    # indices     = np.argsort(importances)\n",
    "    # ax1.set_title(f'{model_name} Feature Importances', size=14)\n",
    "    ax1.set_title('Feature Importances', size=14)\n",
    "    ax1.barh(range(len(importances)), import_scal * 100,\\\n",
    "             color=plt.get_cmap('bone', len(importances))(import_scal_colors), align='center', ec='k', lw=1.5)\n",
    "    # plt.yticks(range(len(importances)), [features[i] for i in importances])\n",
    "    plt.yticks(range(len(importances)), features)\n",
    "    ax1.set_xlabel('Relative Importance', size=14)\n",
    "    ax1.set_ylabel('Features', size=14)\n",
    "    ax1.tick_params(axis='both', which='major', labelsize=14)\n",
    "    ax1.tick_params(axis='y', which='major', rotation=30)\n",
    "    plt.setp(ax1.spines.values(), linewidth=2.5)\n",
    "    ax1.tick_params(which='both',top=True, right=False, direction='in')\n",
    "    # ax1.set_xscale('log')\n",
    "    # plt.show()\n",
    "    plt.tight_layout()\n",
    "    if save_plot_flag:\n",
    "        plt.savefig('plots/feat_imp_classification_AGN_galaxy_04.pdf', bbox_inches='tight')\n",
    "\n",
    "    print('-' * 20)\n",
    "    print('top features:')\n",
    "    print('Feature\\tImportance')\n",
    "    for feat, imp in zip(reversed(features), reversed(import_scal  * 100)):\n",
    "        print(f'{feat}\\t{round(imp, 3):>.3f}')\n",
    "\n",
    "except:\n",
    "    print('learning algorithm does not provide feature importance.')"
   ]
  },
  {
   "cell_type": "markdown",
   "id": "ef473600",
   "metadata": {},
   "source": [
    "---"
   ]
  },
  {
   "cell_type": "code",
   "execution_count": null,
   "id": "8de470b8",
   "metadata": {
    "jupyter": {
     "source_hidden": true
    },
    "tags": []
   },
   "outputs": [],
   "source": [
    "train_size         = 0.7\n",
    "data_split_shuffle = True\n",
    "_stratify_columns = _get_columns_to_stratify_by(\n",
    "            train_test_df.drop(columns=['class']), train_test_df.loc[:, 'class'], False, 'class'\n",
    "        )\n",
    "\n",
    "X_train, X_test, y_train, y_test = train_test_split(\n",
    "                train_test_df.drop(columns=['class']),\n",
    "                train_test_df.loc[:, 'class'],\n",
    "                test_size=1 - train_size,\n",
    "                stratify=_stratify_columns,\n",
    "                random_state=seed,\n",
    "                shuffle=data_split_shuffle,\n",
    "            )\n",
    "train_data_df        = pd.concat([X_train, y_train], axis=1)\n",
    "test_data_df         = pd.concat([X_test, y_test], axis=1)"
   ]
  },
  {
   "cell_type": "markdown",
   "id": "7c37f4e2",
   "metadata": {},
   "source": [
    "#### Calculate optimal threshold for classification"
   ]
  },
  {
   "cell_type": "code",
   "execution_count": null,
   "id": "0d70cda5",
   "metadata": {
    "jupyter": {
     "source_hidden": true
    }
   },
   "outputs": [],
   "source": [
    "AGN_naive_threshold       = 0.5"
   ]
  },
  {
   "cell_type": "code",
   "execution_count": null,
   "id": "1fd30366",
   "metadata": {},
   "outputs": [],
   "source": [
    "validation_prediction_clf = pyc.predict_model(final_AGN_clf, data=validation_df, probability_threshold=AGN_naive_threshold, raw_score=True, round=10)\n",
    "train_prediction_clf      = pyc.predict_model(final_AGN_clf, data=train_data_df, probability_threshold=AGN_naive_threshold, raw_score=True, round=10)\n",
    "test_prediction_clf       = pyc.predict_model(final_AGN_clf, data=test_data_df,  probability_threshold=AGN_naive_threshold, raw_score=True, round=10)\n",
    "train_test_prediction_clf = pyc.predict_model(final_AGN_clf, data=train_test_df, probability_threshold=AGN_naive_threshold, raw_score=True, round=10)"
   ]
  },
  {
   "cell_type": "markdown",
   "id": "62af2d2d",
   "metadata": {},
   "source": [
    "#### Naive threshold metrics."
   ]
  },
  {
   "cell_type": "code",
   "execution_count": null,
   "id": "040621c4",
   "metadata": {
    "jupyter": {
     "source_hidden": true
    },
    "tags": []
   },
   "outputs": [],
   "source": [
    "cm_mat_val_naive = np.array([[np.sum(np.array(validation_prediction_clf['class'] == 0) & np.array(validation_prediction_clf['Label'] == 0)),\\\n",
    "                              np.sum(np.array(validation_prediction_clf['class'] == 0) & np.array(validation_prediction_clf['Label'] == 1))],\\\n",
    "                             [np.sum(np.array(validation_prediction_clf['class'] == 1) & np.array(validation_prediction_clf['Label'] == 0)),\\\n",
    "                              np.sum(np.array(validation_prediction_clf['class'] == 1) & np.array(validation_prediction_clf['Label'] == 1))]])"
   ]
  },
  {
   "cell_type": "code",
   "execution_count": null,
   "id": "94346487",
   "metadata": {
    "jupyter": {
     "source_hidden": true
    },
    "tags": []
   },
   "outputs": [],
   "source": [
    "cm_mat_train_naive = np.array([[np.sum(np.array(train_prediction_clf['class'] == 0) & np.array(train_prediction_clf['Label'] == 0)),\\\n",
    "                                np.sum(np.array(train_prediction_clf['class'] == 0) & np.array(train_prediction_clf['Label'] == 1))],\\\n",
    "                               [np.sum(np.array(train_prediction_clf['class'] == 1) & np.array(train_prediction_clf['Label'] == 0)),\\\n",
    "                                np.sum(np.array(train_prediction_clf['class'] == 1) & np.array(train_prediction_clf['Label'] == 1))]])"
   ]
  },
  {
   "cell_type": "code",
   "execution_count": null,
   "id": "40e5ce69",
   "metadata": {
    "jupyter": {
     "source_hidden": true
    },
    "tags": []
   },
   "outputs": [],
   "source": [
    "cm_mat_test_naive = np.array([[np.sum(np.array(test_prediction_clf['class'] == 0) & np.array(test_prediction_clf['Label'] == 0)),\\\n",
    "                               np.sum(np.array(test_prediction_clf['class'] == 0) & np.array(test_prediction_clf['Label'] == 1))],\\\n",
    "                              [np.sum(np.array(test_prediction_clf['class'] == 1) & np.array(test_prediction_clf['Label'] == 0)),\\\n",
    "                               np.sum(np.array(test_prediction_clf['class'] == 1) & np.array(test_prediction_clf['Label'] == 1))]])"
   ]
  },
  {
   "cell_type": "code",
   "execution_count": null,
   "id": "81224a6e",
   "metadata": {
    "jupyter": {
     "source_hidden": true
    },
    "tags": []
   },
   "outputs": [],
   "source": [
    "cm_mat_train_test_naive = np.array([[np.sum(np.array(train_test_prediction_clf['class'] == 0) & np.array(train_test_prediction_clf['Label'] == 0)),\\\n",
    "                                     np.sum(np.array(train_test_prediction_clf['class'] == 0) & np.array(train_test_prediction_clf['Label'] == 1))],\\\n",
    "                                    [np.sum(np.array(train_test_prediction_clf['class'] == 1) & np.array(train_test_prediction_clf['Label'] == 0)),\\\n",
    "                                     np.sum(np.array(train_test_prediction_clf['class'] == 1) & np.array(train_test_prediction_clf['Label'] == 1))]])"
   ]
  },
  {
   "cell_type": "code",
   "execution_count": null,
   "id": "dd084d96",
   "metadata": {
    "jupyter": {
     "source_hidden": true
    }
   },
   "outputs": [],
   "source": [
    "MCC_val_naive           = MCC_from_CM(cm_mat_val_naive)\n",
    "ACC_val_naive           = ACC_from_CM(cm_mat_val_naive)\n",
    "F1_val_naive            = F1_from_CM(cm_mat_val_naive)\n",
    "Recall_val_naive        = Recall_from_CM(cm_mat_val_naive)\n",
    "\n",
    "MCC_train_naive         = MCC_from_CM(cm_mat_train_naive)\n",
    "ACC_train_naive         = ACC_from_CM(cm_mat_train_naive)\n",
    "F1_train_naive          = F1_from_CM(cm_mat_train_naive)\n",
    "Recall_train_naive      = Recall_from_CM(cm_mat_train_naive)\n",
    "\n",
    "MCC_test_naive          = MCC_from_CM(cm_mat_test_naive)\n",
    "ACC_test_naive          = ACC_from_CM(cm_mat_test_naive)\n",
    "F1_test_naive           = F1_from_CM(cm_mat_test_naive)\n",
    "Recall_test_naive       = Recall_from_CM(cm_mat_test_naive)\n",
    "\n",
    "MCC_train_test_naive    = MCC_from_CM(cm_mat_train_test_naive)\n",
    "ACC_train_test_naive    = ACC_from_CM(cm_mat_train_test_naive)\n",
    "F1_train_test_naive     = F1_from_CM(cm_mat_train_test_naive)\n",
    "Recall_train_test_naive = Recall_from_CM(cm_mat_train_test_naive)\n",
    "\n",
    "naive_scores_array            = np.array([[F1_train_naive,      MCC_train_naive,      Recall_train_naive,      ACC_train_naive],\\\n",
    "                                          [F1_test_naive,       MCC_test_naive,       Recall_test_naive,       ACC_test_naive],\\\n",
    "                                          [F1_train_test_naive, MCC_train_test_naive, Recall_train_test_naive, ACC_train_test_naive],\\\n",
    "                                          [F1_val_naive,        MCC_val_naive,        Recall_val_naive,        ACC_val_naive]])"
   ]
  },
  {
   "cell_type": "code",
   "execution_count": null,
   "id": "50e2beea",
   "metadata": {
    "jupyter": {
     "source_hidden": true
    }
   },
   "outputs": [],
   "source": [
    "naive_scores_df = pd.DataFrame(data=naive_scores_array, columns=['F1', 'MCC', 'Recall', 'ACC'], index=['Train', 'Test', 'Train+Test', 'Validation'])"
   ]
  },
  {
   "cell_type": "code",
   "execution_count": null,
   "id": "56a52ac9",
   "metadata": {
    "jupyter": {
     "source_hidden": true
    }
   },
   "outputs": [],
   "source": [
    "with pd.option_context('display.float_format', '{:.4f}'.format):\n",
    "    display(naive_scores_df)"
   ]
  },
  {
   "cell_type": "markdown",
   "id": "dabeea33",
   "metadata": {},
   "source": [
    "#### Calibration curve"
   ]
  },
  {
   "cell_type": "code",
   "execution_count": null,
   "id": "19f7d35a",
   "metadata": {
    "jupyter": {
     "source_hidden": true
    }
   },
   "outputs": [],
   "source": [
    "fract_positiv_train_test, mean_pred_val_train_test =\\\n",
    "                        calibration_curve(train_test_prediction_clf.loc[:, 'class'],\\\n",
    "                                          train_test_prediction_clf.loc[:, 'Score_1'],\\\n",
    "                                          n_bins=20, normalize=True)  # calibration_curve(y_test, prob_pos, n_bins=10)\n",
    "\n",
    "fract_positiv_val, mean_pred_val_val =\\\n",
    "                        calibration_curve(validation_prediction_clf.loc[:, 'class'],\\\n",
    "                                          validation_prediction_clf.loc[:, 'Score_1'],\\\n",
    "                                          n_bins=20, normalize=True)  # calibration_curve(y_test, prob_pos, n_bins=10)"
   ]
  },
  {
   "cell_type": "code",
   "execution_count": null,
   "id": "21a8059f",
   "metadata": {
    "jupyter": {
     "source_hidden": true
    }
   },
   "outputs": [],
   "source": [
    "fig             = plt.figure(figsize=(7,6))\n",
    "ax1             = fig.add_subplot(111)\n",
    "\n",
    "ax1.plot(mean_pred_val_val, fract_positiv_val, ls='-', marker='s', c='k', lw=2.5)\n",
    "ax1.plot([0, 1], [0, 1], ls=':', c='k', label=\"Perfectly calibrated\")\n",
    "ax1.set_xlabel('Mean predicted value', fontsize=20)\n",
    "ax1.set_ylabel('Fraction of positives', fontsize=20)\n",
    "ax1.tick_params(which='both', top=True, right=True, direction='in')\n",
    "ax1.tick_params(axis='both', which='major', labelsize=14)\n",
    "ax1.tick_params(which='major', length=8, width=1.5)\n",
    "ax1.tick_params(which='minor', length=4, width=1.5)\n",
    "plt.setp(ax1.spines.values(), linewidth=2.5)\n",
    "plt.setp(ax1.spines.values(), linewidth=2.5)\n",
    "plt.show()"
   ]
  },
  {
   "cell_type": "markdown",
   "id": "39e4b805",
   "metadata": {},
   "source": [
    "Calculate ROC AUC values and plots."
   ]
  },
  {
   "cell_type": "code",
   "execution_count": null,
   "id": "cbf9534e",
   "metadata": {
    "id": "b47f6aa7-8d75-4c19-908a-1e30080f6da5",
    "jupyter": {
     "source_hidden": true
    },
    "tags": []
   },
   "outputs": [],
   "source": [
    "roc_auc_train      = roc_auc_score(train_prediction_clf.loc[:, 'class'],      train_prediction_clf.loc[:, 'Score_1'])\n",
    "roc_auc_test       = roc_auc_score(test_prediction_clf.loc[:, 'class'],       test_prediction_clf.loc[:, 'Score_1'])\n",
    "roc_auc_train_test = roc_auc_score(train_test_prediction_clf.loc[:, 'class'], train_test_prediction_clf.loc[:, 'Score_1'])\n",
    "roc_auc_validation = roc_auc_score(validation_prediction_clf.loc[:, 'class'], validation_prediction_clf.loc[:, 'Score_1'])"
   ]
  },
  {
   "cell_type": "code",
   "execution_count": null,
   "id": "0e28a608",
   "metadata": {
    "jupyter": {
     "source_hidden": true
    },
    "tags": []
   },
   "outputs": [],
   "source": [
    "print(f'Area under the curve (ROC) for training   = {roc_auc_train:.5f}')\n",
    "print(f'Area under the curve (ROC) for test       = {roc_auc_test:.5f}')\n",
    "print(f'Area under the curve (ROC) for train+test = {roc_auc_train_test:.5f}')\n",
    "print(f'Area under the curve (ROC) for validation = {roc_auc_validation:.5f}')"
   ]
  },
  {
   "cell_type": "code",
   "execution_count": null,
   "id": "7a758ea9",
   "metadata": {
    "jupyter": {
     "source_hidden": true
    },
    "tags": []
   },
   "outputs": [],
   "source": [
    "fpr_train,      tpr_train,      thresh_train      = roc_curve(train_prediction_clf.loc[:, 'class'],      train_prediction_clf.loc[:, 'Score_1'])\n",
    "fpr_test,       tpr_test,       thresh_test       = roc_curve(test_prediction_clf.loc[:, 'class'],       test_prediction_clf.loc[:, 'Score_1'])\n",
    "fpr_train_test, tpr_train_test, thresh_train_test = roc_curve(train_test_prediction_clf.loc[:, 'class'], train_test_prediction_clf.loc[:, 'Score_1'])\n",
    "fpr_val,        tpr_val,        thresh_val        = roc_curve(validation_prediction_clf.loc[:, 'class'], validation_prediction_clf.loc[:, 'Score_1'])"
   ]
  },
  {
   "cell_type": "code",
   "execution_count": null,
   "id": "b05ba55b",
   "metadata": {
    "jupyter": {
     "source_hidden": true
    },
    "tags": []
   },
   "outputs": [],
   "source": [
    "fig             = plt.figure(figsize=(7,6))\n",
    "ax1             = fig.add_subplot(111)\n",
    "\n",
    "viz_train       = RocCurveDisplay(fpr=fpr_train,      tpr=tpr_train,      roc_auc=roc_auc_train)\n",
    "viz_test        = RocCurveDisplay(fpr=fpr_test,       tpr=tpr_test,       roc_auc=roc_auc_test)\n",
    "viz_train_test  = RocCurveDisplay(fpr=fpr_train_test, tpr=tpr_train_test, roc_auc=roc_auc_train_test)\n",
    "viz_val         = RocCurveDisplay(fpr=fpr_val,        tpr=tpr_val,        roc_auc=roc_auc_validation)\n",
    "viz_train.plot(ax=ax1,       lw=3, c=cm.get_cmap('cet_CET_C2s')(0.0), alpha=0.6, label=f\"Training.   (AUC = {roc_auc_train:0.5f})\")\n",
    "viz_test.plot(ax=ax1,        lw=3, c=cm.get_cmap('cet_CET_C2s')(0.4), alpha=0.6, label=f\"Test.       (AUC = {roc_auc_test:0.5f})\")\n",
    "viz_train_test.plot(ax=ax1,  lw=3, c=cm.get_cmap('cet_CET_C2s')(0.6), alpha=0.6, label=f\"Train+Test. (AUC = {roc_auc_train_test:0.5f})\")\n",
    "viz_val.plot(ax=ax1,         lw=3, c=cm.get_cmap('cet_CET_C2s')(0.8), alpha=0.6, label=f\"Validation. (AUC = {roc_auc_validation:0.5f})\")\n",
    "\n",
    "ax1.plot([0, 1], [0, 1], ls='--', marker=None, c='Gray', alpha=0.7, lw=3.0, label='Random guess (AUC = 0.50)')\n",
    "\n",
    "ax1.set_xlabel('False Positive Rate', fontsize=20)\n",
    "ax1.set_ylabel('True Positive Rate', fontsize=20)\n",
    "ax1.tick_params(which='both', top=True, right=True, direction='in')\n",
    "ax1.tick_params(axis='both', which='major', labelsize=14)\n",
    "ax1.tick_params(which='major', length=8, width=1.5)\n",
    "ax1.tick_params(which='minor', length=4, width=1.5)\n",
    "plt.setp(ax1.spines.values(), linewidth=2.5)\n",
    "plt.setp(ax1.spines.values(), linewidth=2.5)\n",
    "# ax1.set_aspect('equal', 'box')\n",
    "plt.legend(loc=4, fontsize=16, title='AGN/Galaxy\\nclassification', title_fontsize=16)\n",
    "ax1.set_aspect('equal', 'datalim')\n",
    "ax1.set_title('ROC curve. HETDEX field.', fontsize=16)\n",
    "fig.tight_layout()\n",
    "if save_plot_flag:\n",
    "    plt.savefig('plots/AUC_ROC_classification_AGN_galaxy_04.pdf', bbox_inches='tight')\n",
    "plt.show()"
   ]
  },
  {
   "cell_type": "markdown",
   "id": "a8f73270",
   "metadata": {},
   "source": [
    "##### Find optimal threshold for each sub-set"
   ]
  },
  {
   "cell_type": "code",
   "execution_count": null,
   "id": "0bcad6cf",
   "metadata": {
    "jupyter": {
     "source_hidden": true
    }
   },
   "outputs": [],
   "source": [
    "opt_t_train      = thresh_train[np.argmax(tpr_train - fpr_train)]\n",
    "opt_t_test       = thresh_test[np.argmax(tpr_test - fpr_test)]\n",
    "opt_t_train_test = thresh_train_test[np.argmax(tpr_train_test - fpr_train_test)]\n",
    "opt_t_validation = thresh_val[np.argmax(tpr_val - fpr_val)]"
   ]
  },
  {
   "cell_type": "code",
   "execution_count": null,
   "id": "820fb91b",
   "metadata": {
    "jupyter": {
     "source_hidden": true
    }
   },
   "outputs": [],
   "source": [
    "print(f'Optimal threshold from area under the curve (ROC) for training   = {opt_t_train:.5f}')\n",
    "print(f'Optimal threshold from area under the curve (ROC) for test       = {opt_t_test:.5f}')\n",
    "print(f'Optimal threshold from area under the curve (ROC) for train+test = {opt_t_train_test:.5f}')\n",
    "print(f'Optimal threshold from area under the curve (ROC) for validation = {opt_t_validation:.5f}')"
   ]
  },
  {
   "cell_type": "markdown",
   "id": "32419d3f",
   "metadata": {},
   "source": [
    "##### Precision-Recall curve"
   ]
  },
  {
   "cell_type": "code",
   "execution_count": null,
   "id": "dba3e637",
   "metadata": {
    "jupyter": {
     "source_hidden": true
    }
   },
   "outputs": [],
   "source": [
    "prec_train,      recall_train,      thresh_train      = precision_recall_curve(train_prediction_clf.loc[:, 'class'],\\\n",
    "                                                                               train_prediction_clf.loc[:, 'Score_1'],      pos_label=1)\n",
    "prec_test,       recall_test,       thresh_test       = precision_recall_curve(test_prediction_clf.loc[:, 'class'],\\\n",
    "                                                                               test_prediction_clf.loc[:, 'Score_1'],       pos_label=1)\n",
    "prec_train_test, recall_train_test, thresh_train_test = precision_recall_curve(train_test_prediction_clf.loc[:, 'class'],\\\n",
    "                                                                               train_test_prediction_clf.loc[:, 'Score_1'], pos_label=1)\n",
    "prec_validation, recall_validation, thresh_validation = precision_recall_curve(validation_prediction_clf.loc[:, 'class'],\\\n",
    "                                                                               validation_prediction_clf.loc[:, 'Score_1'], pos_label=1)"
   ]
  },
  {
   "cell_type": "markdown",
   "id": "8d5df916",
   "metadata": {},
   "source": [
    "AUC for PR curve"
   ]
  },
  {
   "cell_type": "code",
   "execution_count": null,
   "id": "9c514552",
   "metadata": {
    "jupyter": {
     "source_hidden": true
    }
   },
   "outputs": [],
   "source": [
    "auc_pr_train      = auc(recall_train,      prec_train)\n",
    "auc_pr_test       = auc(recall_test,       prec_test)\n",
    "auc_pr_train_test = auc(recall_train_test, prec_train_test)\n",
    "auc_pr_validation = auc(recall_validation, prec_validation)"
   ]
  },
  {
   "cell_type": "code",
   "execution_count": null,
   "id": "cdb51d60",
   "metadata": {
    "jupyter": {
     "source_hidden": true
    },
    "tags": []
   },
   "outputs": [],
   "source": [
    "fig             = plt.figure(figsize=(7,6))\n",
    "ax1             = fig.add_subplot(111)\n",
    "\n",
    "viz_train       = PrecisionRecallDisplay(precision=prec_train,      recall=recall_train)\n",
    "viz_test        = PrecisionRecallDisplay(precision=prec_test,       recall=recall_test)\n",
    "viz_train_test  = PrecisionRecallDisplay(precision=prec_train_test, recall=recall_train_test)\n",
    "viz_val         = PrecisionRecallDisplay(precision=prec_validation, recall=recall_validation)\n",
    "viz_train.plot(ax=ax1,       lw=3.5, c=cm.get_cmap('cet_CET_C2s')(0.0), alpha=0.6, label=f\"Training (AUC = {auc_pr_train:.4f})\")\n",
    "viz_test.plot(ax=ax1,        lw=3.5, c=cm.get_cmap('cet_CET_C2s')(0.4), alpha=0.6, label=f\"Test (AUC = {auc_pr_test:.4f})\")\n",
    "viz_train_test.plot(ax=ax1,  lw=3.5, c=cm.get_cmap('cet_CET_C2s')(0.6), alpha=0.6, label=f\"Train+Test (AUC = {auc_pr_train_test:.4f})\")\n",
    "viz_val.plot(ax=ax1,         lw=3.5, c=cm.get_cmap('cet_CET_C2s')(0.8), alpha=0.6, label=f\"Validation (AUC = {auc_pr_validation:.4f})\")\n",
    "\n",
    "no_skill_train      = np.sum(train_prediction_clf.loc[:, 'class'] == 1)      / len(train_prediction_clf.loc[:, 'class'])\n",
    "no_skill_test       = np.sum(test_prediction_clf.loc[:, 'class'] == 1)       / len(test_prediction_clf.loc[:, 'class'])\n",
    "no_skill_train_test = np.sum(train_test_prediction_clf.loc[:, 'class'] == 1) / len(train_test_prediction_clf.loc[:, 'class'])\n",
    "no_skill_val        = np.sum(validation_prediction_clf.loc[:, 'class'] == 1) / len(validation_prediction_clf.loc[:, 'class'])\n",
    "ax1.plot([0, 1], [no_skill_train,      no_skill_train],      ls='--', marker=None, c=cm.get_cmap('cet_CET_C2s')(0.0), alpha=0.7, lw=3.5)\n",
    "ax1.plot([0, 1], [no_skill_test,       no_skill_test],       ls='--', marker=None, c=cm.get_cmap('cet_CET_C2s')(0.4), alpha=0.7, lw=3.5)\n",
    "ax1.plot([0, 1], [no_skill_train_test, no_skill_train_test], ls='--', marker=None, c=cm.get_cmap('cet_CET_C2s')(0.6), alpha=0.7, lw=3.5)\n",
    "ax1.plot([0, 1], [no_skill_val,        no_skill_val],        ls='--', marker=None, c=cm.get_cmap('cet_CET_C2s')(0.8), alpha=0.7, lw=3.5)\n",
    "ax1.plot([1, 1], [1, 1], ls='--', marker=None, c='Gray', alpha=0.7, lw=3.5, label='No Skill', zorder=0)\n",
    "\n",
    "# ax1.plot([0, 1], [0, 1], ls='--', marker=None, c='Gray', alpha=0.7, lw=3.0, label='Random guess (AUC = 0.50)')\n",
    "\n",
    "ax1.set_xlabel('Recall', fontsize=20)\n",
    "ax1.set_ylabel('Precision', fontsize=20)\n",
    "ax1.tick_params(which='both', top=True, right=True, direction='in')\n",
    "ax1.tick_params(axis='both', which='major', labelsize=16)\n",
    "ax1.tick_params(which='major', length=8, width=1.5)\n",
    "ax1.tick_params(which='minor', length=4, width=1.5)\n",
    "plt.setp(ax1.spines.values(), linewidth=3.0)\n",
    "plt.setp(ax1.spines.values(), linewidth=3.0)\n",
    "# ax1.set_aspect('equal', 'box')\n",
    "plt.legend(loc=3, fontsize=14, title='AGN/Galaxy\\nclassification', title_fontsize=14)\n",
    "ax1.set_aspect('equal', 'datalim')\n",
    "ax1.set_title('PR curve. HETDEX field.', fontsize=16)\n",
    "fig.tight_layout()\n",
    "if save_plot_flag:\n",
    "    plt.savefig('plots/PR_curve_classification_AGN_galaxy_04.pdf', bbox_inches='tight')\n",
    "plt.show()"
   ]
  },
  {
   "cell_type": "markdown",
   "id": "ebb4bb25",
   "metadata": {},
   "source": [
    "Find optimal threshold from PR curve"
   ]
  },
  {
   "cell_type": "code",
   "execution_count": null,
   "id": "a6825a3c",
   "metadata": {
    "jupyter": {
     "source_hidden": true
    }
   },
   "outputs": [],
   "source": [
    "fscore_train      = (2 * prec_train      * recall_train)      / (prec_train      + recall_train)\n",
    "fscore_test       = (2 * prec_test       * recall_test)       / (prec_test       + recall_test)\n",
    "fscore_train_test = (2 * prec_train_test * recall_train_test) / (prec_train_test + recall_train_test)\n",
    "fscore_validation = (2 * prec_validation * recall_validation) / (prec_validation + recall_validation)"
   ]
  },
  {
   "cell_type": "code",
   "execution_count": null,
   "id": "b37bb415",
   "metadata": {
    "jupyter": {
     "source_hidden": true
    }
   },
   "outputs": [],
   "source": [
    "opt_t_PR_train      = thresh_train[np.argmax(fscore_train)]\n",
    "opt_t_PR_test       = thresh_test[np.argmax(fscore_test)]\n",
    "opt_t_PR_train_test = thresh_train_test[np.argmax(fscore_train_test)]\n",
    "opt_t_PR_validation = thresh_validation[np.argmax(fscore_validation)]"
   ]
  },
  {
   "cell_type": "code",
   "execution_count": null,
   "id": "f444d48e",
   "metadata": {
    "jupyter": {
     "source_hidden": true
    }
   },
   "outputs": [],
   "source": [
    "print(f'Optimal threshold from Precision-Recall curve for training   = {opt_t_PR_train:.5f}')\n",
    "print(f'Optimal threshold from Precision-Recall curve for test       = {opt_t_PR_test:.5f}')\n",
    "print(f'Optimal threshold from Precision-Recall curve for train+test = {opt_t_PR_train_test:.5f}')\n",
    "print(f'Optimal threshold from Precision-Recall curve for validation = {opt_t_PR_validation:.5f}')"
   ]
  },
  {
   "cell_type": "markdown",
   "id": "dc8b9259",
   "metadata": {},
   "source": [
    "---"
   ]
  },
  {
   "cell_type": "code",
   "execution_count": null,
   "id": "37e7b7b7",
   "metadata": {},
   "outputs": [],
   "source": [
    "AGN_pred_threshold = float(opt_t_PR_train_test) #  0.46759"
   ]
  },
  {
   "cell_type": "code",
   "execution_count": null,
   "id": "472cff32",
   "metadata": {
    "tags": []
   },
   "outputs": [],
   "source": [
    "validation_prediction_clf = pyc.predict_model(final_AGN_clf, data=validation_df, probability_threshold=AGN_pred_threshold, raw_score=True)\n",
    "train_prediction_clf      = pyc.predict_model(final_AGN_clf, data=train_data_df, probability_threshold=AGN_pred_threshold, raw_score=True)\n",
    "test_prediction_clf       = pyc.predict_model(final_AGN_clf, data=test_data_df,  probability_threshold=AGN_pred_threshold, raw_score=True)\n",
    "train_test_prediction_clf = pyc.predict_model(final_AGN_clf, data=train_test_df, probability_threshold=AGN_pred_threshold, raw_score=True)"
   ]
  },
  {
   "cell_type": "markdown",
   "id": "913e84f6",
   "metadata": {},
   "source": [
    "Create confusion matrices."
   ]
  },
  {
   "cell_type": "code",
   "execution_count": null,
   "id": "1f587348",
   "metadata": {
    "jupyter": {
     "source_hidden": true
    },
    "tags": []
   },
   "outputs": [],
   "source": [
    "cm_mat_train = np.array([[np.sum(np.array(train_prediction_clf['class'] == 0) & np.array(train_prediction_clf['Label'] == 0)),\\\n",
    "                          np.sum(np.array(train_prediction_clf['class'] == 0) & np.array(train_prediction_clf['Label'] == 1))],\\\n",
    "                         [np.sum(np.array(train_prediction_clf['class'] == 1) & np.array(train_prediction_clf['Label'] == 0)),\\\n",
    "                          np.sum(np.array(train_prediction_clf['class'] == 1) & np.array(train_prediction_clf['Label'] == 1))]])\n",
    "\n",
    "cm_mat_test = np.array([[np.sum(np.array(test_prediction_clf['class'] == 0) & np.array(test_prediction_clf['Label'] == 0)),\\\n",
    "                         np.sum(np.array(test_prediction_clf['class'] == 0) & np.array(test_prediction_clf['Label'] == 1))],\\\n",
    "                        [np.sum(np.array(test_prediction_clf['class'] == 1) & np.array(test_prediction_clf['Label'] == 0)),\\\n",
    "                         np.sum(np.array(test_prediction_clf['class'] == 1) & np.array(test_prediction_clf['Label'] == 1))]])\n",
    "\n",
    "cm_mat_train_test = np.array([[np.sum(np.array(train_test_prediction_clf['class'] == 0) & np.array(train_test_prediction_clf['Label'] == 0)),\\\n",
    "                               np.sum(np.array(train_test_prediction_clf['class'] == 0) & np.array(train_test_prediction_clf['Label'] == 1))],\\\n",
    "                              [np.sum(np.array(train_test_prediction_clf['class'] == 1) & np.array(train_test_prediction_clf['Label'] == 0)),\\\n",
    "                               np.sum(np.array(train_test_prediction_clf['class'] == 1) & np.array(train_test_prediction_clf['Label'] == 1))]])\n",
    "\n",
    "cm_mat_val = np.array([[np.sum(np.array(validation_prediction_clf['class'] == 0) & np.array(validation_prediction_clf['Label'] == 0)),\\\n",
    "                        np.sum(np.array(validation_prediction_clf['class'] == 0) & np.array(validation_prediction_clf['Label'] == 1))],\\\n",
    "                       [np.sum(np.array(validation_prediction_clf['class'] == 1) & np.array(validation_prediction_clf['Label'] == 0)),\\\n",
    "                        np.sum(np.array(validation_prediction_clf['class'] == 1) & np.array(validation_prediction_clf['Label'] == 1))]])"
   ]
  },
  {
   "cell_type": "code",
   "execution_count": null,
   "id": "c923e191",
   "metadata": {
    "jupyter": {
     "source_hidden": true
    }
   },
   "outputs": [],
   "source": [
    "MCC_gal_AGN_train    = MCC_from_CM(cm_mat_train)\n",
    "ACC_gal_AGN_train    = ACC_from_CM(cm_mat_train)\n",
    "F1_gal_AGN_train     = F1_from_CM(cm_mat_train)\n",
    "Recall_gal_AGN_train = Recall_from_CM(cm_mat_train)\n",
    "\n",
    "MCC_gal_AGN_test    = MCC_from_CM(cm_mat_test)\n",
    "ACC_gal_AGN_test    = ACC_from_CM(cm_mat_test)\n",
    "F1_gal_AGN_test     = F1_from_CM(cm_mat_test)\n",
    "Recall_gal_AGN_test = Recall_from_CM(cm_mat_test)\n",
    "\n",
    "MCC_gal_AGN_train_test    = MCC_from_CM(cm_mat_train_test)\n",
    "ACC_gal_AGN_train_test    = ACC_from_CM(cm_mat_train_test)\n",
    "F1_gal_AGN_train_test     = F1_from_CM(cm_mat_train_test)\n",
    "Recall_gal_AGN_train_test = Recall_from_CM(cm_mat_train_test)\n",
    "\n",
    "MCC_gal_AGN_val    = MCC_from_CM(cm_mat_val)\n",
    "ACC_gal_AGN_val    = ACC_from_CM(cm_mat_val)\n",
    "F1_gal_AGN_val     = F1_from_CM(cm_mat_val)\n",
    "Recall_gal_AGN_val = Recall_from_CM(cm_mat_val)\n",
    "\n",
    "final_scores_array      = np.array([[F1_gal_AGN_train,      MCC_gal_AGN_train,      Recall_gal_AGN_train,      ACC_gal_AGN_train],\\\n",
    "                                    [F1_gal_AGN_test,       MCC_gal_AGN_test,       Recall_gal_AGN_test,       ACC_gal_AGN_test],\\\n",
    "                                    [F1_gal_AGN_train_test, MCC_gal_AGN_train_test, Recall_gal_AGN_train_test, ACC_gal_AGN_train_test],\\\n",
    "                                    [F1_gal_AGN_val,        MCC_gal_AGN_val,        Recall_gal_AGN_val,        ACC_gal_AGN_val]])"
   ]
  },
  {
   "cell_type": "code",
   "execution_count": null,
   "id": "509680d0",
   "metadata": {
    "jupyter": {
     "source_hidden": true
    }
   },
   "outputs": [],
   "source": [
    "final_scores_df = pd.DataFrame(data=final_scores_array, columns=['F1', 'MCC', 'Recall', 'ACC'], index=['Train', 'Test', 'Train+Test', 'Validation'])"
   ]
  },
  {
   "cell_type": "code",
   "execution_count": null,
   "id": "375364bc",
   "metadata": {
    "jupyter": {
     "source_hidden": true
    }
   },
   "outputs": [],
   "source": [
    "with pd.option_context('display.float_format', '{:.4f}'.format):\n",
    "    display(final_scores_df)"
   ]
  },
  {
   "cell_type": "code",
   "execution_count": null,
   "id": "d561ec09",
   "metadata": {
    "jupyter": {
     "source_hidden": true
    },
    "tags": []
   },
   "outputs": [],
   "source": [
    "fig             = plt.figure(figsize=(6,5))\n",
    "ax1             = fig.add_subplot(111)\n",
    "\n",
    "plot_conf_mat(cm_mat_val, title='Validation set', axin=ax1, display_labels=['Galaxy', 'AGN'], log_stretch=False)\n",
    "if save_plot_flag:\n",
    "    plt.savefig('plots/conf_matrix_validation_classification_AGN_galaxy_04.pdf', bbox_inches='tight')\n",
    "plt.show()"
   ]
  },
  {
   "cell_type": "code",
   "execution_count": null,
   "id": "4fee8e97",
   "metadata": {
    "jupyter": {
     "source_hidden": true
    },
    "tags": []
   },
   "outputs": [],
   "source": [
    "fig             = plt.figure(figsize=(6,5))\n",
    "ax1             = fig.add_subplot(111)\n",
    "\n",
    "plot_conf_mat(cm_mat_train, title='Training set', axin=ax1, display_labels=['Galaxy', 'AGN'], log_stretch=False)\n",
    "if save_plot_flag:\n",
    "    plt.savefig('plots/conf_matrix_train_classification_AGN_galaxy_04.pdf', bbox_inches='tight')\n",
    "plt.show()"
   ]
  },
  {
   "cell_type": "code",
   "execution_count": null,
   "id": "1d51af28",
   "metadata": {
    "jupyter": {
     "source_hidden": true
    },
    "tags": []
   },
   "outputs": [],
   "source": [
    "fig             = plt.figure(figsize=(6,5))\n",
    "ax1             = fig.add_subplot(111)\n",
    "\n",
    "plot_conf_mat(cm_mat_test, title='Test set', axin=ax1, display_labels=['Galaxy', 'AGN'], log_stretch=False)\n",
    "if save_plot_flag:\n",
    "    plt.savefig('plots/conf_matrix_test_classification_AGN_galaxy_04.pdf', bbox_inches='tight')\n",
    "plt.show()"
   ]
  },
  {
   "cell_type": "code",
   "execution_count": null,
   "id": "82ece940",
   "metadata": {
    "jupyter": {
     "source_hidden": true
    },
    "tags": []
   },
   "outputs": [],
   "source": [
    "fig             = plt.figure(figsize=(6,5))\n",
    "ax1             = fig.add_subplot(111)\n",
    "\n",
    "plot_conf_mat(cm_mat_train_test, title='Train+test set', axin=ax1, display_labels=['Galaxy', 'AGN'], log_stretch=False)\n",
    "if save_plot_flag:\n",
    "    plt.savefig('plots/conf_matrix_train_test_classification_AGN_galaxy_04.pdf', bbox_inches='tight')\n",
    "plt.show()"
   ]
  },
  {
   "cell_type": "code",
   "execution_count": null,
   "id": "a2c92a29",
   "metadata": {
    "id": "dc1ed42b-d2cf-4c2f-9d30-c6adcf919310",
    "tags": []
   },
   "outputs": [],
   "source": []
  },
  {
   "cell_type": "code",
   "execution_count": null,
   "id": "76d6f43f",
   "metadata": {},
   "outputs": [],
   "source": []
  },
  {
   "cell_type": "code",
   "execution_count": null,
   "id": "e80f62d6",
   "metadata": {},
   "outputs": [],
   "source": []
  }
 ],
 "metadata": {
  "accelerator": "GPU",
  "colab": {
   "name": "HETDEX_pipeline_AGN_training.ipynb",
   "provenance": []
  },
  "kernelspec": {
   "display_name": "Python 3 (ipykernel)",
   "language": "python",
   "name": "python3"
  },
  "language_info": {
   "codemirror_mode": {
    "name": "ipython",
    "version": 3
   },
   "file_extension": ".py",
   "mimetype": "text/x-python",
   "name": "python",
   "nbconvert_exporter": "python",
   "pygments_lexer": "ipython3",
   "version": "3.8.13"
  }
 },
 "nbformat": 4,
 "nbformat_minor": 5
}
