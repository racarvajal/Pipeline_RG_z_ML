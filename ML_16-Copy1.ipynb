{
 "cells": [
  {
   "cell_type": "markdown",
   "id": "2010d585",
   "metadata": {
    "id": "c71fae7e-a4c4-4950-8c16-4a74a1e69482"
   },
   "source": [
    "# Pipeline for High-z Radio Galaxies 16: AGN/Galaxy classification"
   ]
  },
  {
   "cell_type": "markdown",
   "id": "a01cc27d",
   "metadata": {
    "id": "714a7301-9b3d-4ad9-9659-b68cad4014c5"
   },
   "source": [
    "## Introduction"
   ]
  },
  {
   "cell_type": "markdown",
   "id": "74d78fe9",
   "metadata": {
    "id": "dea6dd12-650e-4ab6-bae7-0268f78e7fea"
   },
   "source": [
    "Training for classification of AGN and galaxies will be done in the HETDEX Field.  \n",
    "\n",
    "Sources are all elements detected in the CatWISE2020 catalogue.  But classification  \n",
    "will be done with AGN from the Million Quasar Catalog (MQC) and galaxies from  \n",
    "spectroscopically detected sources in SDSS DR16 (Spectral Class = \"GALAXY\")."
   ]
  },
  {
   "cell_type": "markdown",
   "id": "0e4c04b9",
   "metadata": {
    "id": "00a0aec8-0112-4728-a8fe-f99cdf05a33b"
   },
   "source": [
    "Training data is from HETDEX Spring Field."
   ]
  },
  {
   "cell_type": "code",
   "execution_count": 1,
   "id": "2c8fa9e1",
   "metadata": {
    "id": "1161a2b6-ef8d-429d-8dea-40f0de36e393"
   },
   "outputs": [],
   "source": [
    "%matplotlib inline\n",
    "# Static plots\n",
    "#%matplotlib ipympl\n",
    "# Interactive plots\n",
    "import numpy as np\n",
    "import matplotlib as mpl\n",
    "import matplotlib.cm as cm\n",
    "import matplotlib.pyplot as plt\n",
    "import matplotlib.colors as mcolors\n",
    "import matplotlib.patheffects as mpe\n",
    "from astropy.visualization import LogStretch, PowerStretch\n",
    "from astropy.visualization.mpl_normalize import ImageNormalize\n",
    "from sklearn.preprocessing import MinMaxScaler\n",
    "from sklearn.model_selection import train_test_split\n",
    "from sklearn.metrics import ConfusionMatrixDisplay, roc_auc_score, roc_curve, RocCurveDisplay, matthews_corrcoef\n",
    "from sklearn.metrics import precision_recall_curve, PrecisionRecallDisplay, auc\n",
    "from sklearn.calibration import calibration_curve, CalibratedClassifierCV\n",
    "import sklearn.pipeline\n",
    "import ppscore as pps\n",
    "import seaborn as sns\n",
    "import colorcet as cc\n",
    "from pycaret import classification as pyc\n",
    "# from pycaret import regression as pyr\n",
    "# from pycaret.internal.tabular import _get_columns_to_stratify_by\n",
    "import pandas as pd"
   ]
  },
  {
   "cell_type": "code",
   "execution_count": 2,
   "id": "f5d2738a",
   "metadata": {},
   "outputs": [],
   "source": [
    "mpl.rcdefaults()"
   ]
  },
  {
   "cell_type": "markdown",
   "id": "8afd0ea2",
   "metadata": {
    "id": "9647d74a-8d80-4d24-a2f4-023184fa27ac"
   },
   "source": [
    "Create class to normalize asymmetric colorscales  \n",
    "(from [http://chris35wills.github.io/matplotlib_diverging_colorbar/](http://chris35wills.github.io/matplotlib_diverging_colorbar/))."
   ]
  },
  {
   "cell_type": "code",
   "execution_count": 3,
   "id": "408bebc6",
   "metadata": {
    "id": "652a8557-e595-4861-af72-5d3220fb7620",
    "jupyter": {
     "source_hidden": true
    },
    "tags": []
   },
   "outputs": [],
   "source": [
    "class MidpointNormalize(mcolors.Normalize):\n",
    "    \"\"\"\n",
    "    Normalise the colorbar so that diverging bars work there way either side from a prescribed midpoint value)\n",
    "\n",
    "    e.g. im=ax1.imshow(array, norm=MidpointNormalize(midpoint=0.,vmin=-100, vmax=100))\n",
    "    \"\"\"\n",
    "    def __init__(self, vmin=None, vmax=None, midpoint=None, clip=False):\n",
    "        self.midpoint = midpoint\n",
    "        mcolors.Normalize.__init__(self, vmin, vmax, clip)\n",
    "\n",
    "    def __call__(self, value, clip=None):\n",
    "        # I'm ignoring masked values and all kinds of edge cases to make a\n",
    "        # simple example...\n",
    "        x, y = [self.vmin, self.midpoint, self.vmax], [0, 0.5, 1]\n",
    "        return np.ma.masked_array(np.interp(value, x, y), np.isnan(value))"
   ]
  },
  {
   "cell_type": "markdown",
   "id": "a888ff66",
   "metadata": {
    "id": "0bc24aa0-581a-4c39-bc90-b18f85385e78"
   },
   "source": [
    "For future plots, we can configure their aspect too."
   ]
  },
  {
   "cell_type": "code",
   "execution_count": 4,
   "id": "690a2ccd",
   "metadata": {
    "id": "cc05a86c-85e4-46e7-9b7f-f8ac4abd4ff2",
    "jupyter": {
     "source_hidden": true
    },
    "tags": []
   },
   "outputs": [],
   "source": [
    "cmap           = cm.get_cmap('inferno')\n",
    "cmap_alt       = cm.get_cmap('Dark2')\n",
    "cmap_alt_2     = cm.get_cmap('Greys_r')  # Shades of grey\n",
    "cmap_alt_3     = cm.get_cmap('coolwarm')  # blue to red\n",
    "dark_color     = cmap(0.4)  # RGBA color code\n",
    "light_color    = cmap(0.6)  # RGBA color code\n",
    "colors         = [cmap(0.15), cmap(0.30), cmap(0.45), cmap(0.60), cmap(0.75), cmap(0.90)]\n",
    "colors_3       = [cmap(0.25), cmap(0.50), cmap(0.75)]\n",
    "colors_3_alt   = [cmap_alt(0.25), cmap_alt(0.50), cmap_alt(0.75)]\n",
    "colors_3_alt_2 = [cmap_alt_2(0.25), cmap_alt_2(0.50), cmap_alt_2(0.75)]\n",
    "colors_8       = [cmap(0.12), cmap(0.24), cmap(0.35), cmap(0.48), cmap(0.6), cmap(0.72), cmap(0.84), cmap(0.96)]\n",
    "colors_8_alt   = [cmap_alt(0.12), cmap_alt(0.24), cmap_alt(0.35), cmap_alt(0.48), cmap_alt(0.6), cmap_alt(0.72),\\\n",
    "                  cmap_alt(0.84), cmap_alt(0.96)]\n",
    "colors_8_alt_2 = [cmap_alt_2(0.06), cmap_alt_2(0.18), cmap_alt_2(0.29), cmap_alt_2(0.42), cmap_alt_2(0.54),\\\n",
    "                  cmap_alt_2(0.66), cmap_alt_2(0.78), cmap_alt_2(0.90)]\n",
    "colors_8_alt_3 = [cmap_alt_3(0.06), cmap_alt_3(0.18), cmap_alt_3(0.29), cmap_alt_3(0.42), cmap_alt_3(0.54),\\\n",
    "                  cmap_alt_3(0.66), cmap_alt_3(0.78), cmap_alt_3(0.90)]"
   ]
  },
  {
   "cell_type": "code",
   "execution_count": 5,
   "id": "ef7f63b1",
   "metadata": {
    "id": "f7b5bb0d-e1c0-415d-b7a8-3237c86e6c7b",
    "jupyter": {
     "source_hidden": true
    },
    "tags": []
   },
   "outputs": [],
   "source": [
    "pe1            = [mpe.Stroke(linewidth=5.0, foreground='black'),\n",
    "                  mpe.Stroke(foreground='white', alpha=1),\n",
    "                  mpe.Normal()]\n",
    "pe2            = [mpe.Stroke(linewidth=3.0, foreground='white'),\n",
    "                  mpe.Stroke(foreground='white', alpha=1),\n",
    "                  mpe.Normal()]\n",
    "\n",
    "alp_str        = r'$\\alpha$'"
   ]
  },
  {
   "cell_type": "markdown",
   "id": "2e9f45f6",
   "metadata": {
    "id": "aacf1d05-0bd7-4cbe-a480-5bd658bc008c"
   },
   "source": [
    "Methods for PyCaret and saved models."
   ]
  },
  {
   "cell_type": "code",
   "execution_count": 6,
   "id": "fadbdf1a",
   "metadata": {
    "id": "86db6e67-85aa-4cd6-a3dc-bfe638bc69bb",
    "jupyter": {
     "source_hidden": true
    },
    "tags": []
   },
   "outputs": [],
   "source": [
    "def get_final_column_names(pycaret_pipeline, sample_df):\n",
    "    if isinstance(pycaret_pipeline, sklearn.pipeline.Pipeline):\n",
    "        for (name, method) in pycaret_pipeline.named_steps.items():\n",
    "            if method != 'passthrough' and name != 'trained_model':\n",
    "                print(f'Running {name}')\n",
    "                sample_df = method.transform(sample_df)\n",
    "        return sample_df.columns.tolist()\n",
    "    else:\n",
    "        for (name, method) in pyc.get_config('prep_pipe').named_steps.items():\n",
    "            if method != 'passthrough' and name != 'trained_model':\n",
    "                print(f'Running {name}')\n",
    "                sample_df = method.transform(sample_df)\n",
    "        return sample_df.columns.tolist()"
   ]
  },
  {
   "cell_type": "code",
   "execution_count": 7,
   "id": "2de54840",
   "metadata": {
    "id": "715acda9-475d-4c9c-8e99-4921da2e1152",
    "jupyter": {
     "source_hidden": true
    },
    "tags": []
   },
   "outputs": [],
   "source": [
    "def get_feature_importances_df(pycaret_pipeline, sample_df, n = 10):\n",
    "    \n",
    "    final_cols = get_final_column_names(pycaret_pipeline, sample_df)\n",
    "    \n",
    "    if isinstance(pycaret_pipeline, sklearn.pipeline.Pipeline):\n",
    "        try:\n",
    "            variables = pycaret_pipeline[\"trained_model\"].feature_importances_\n",
    "            \n",
    "        except:\n",
    "            variables = np.mean([\n",
    "                            tree.feature_importances_ for tree in pycaret_pipeline[\"trained_model\"].estimators_\n",
    "                if hasattr(tree, 'feature_importances_')\n",
    "                            ], axis=0)\n",
    "        \n",
    "        coef_df = pd.DataFrame({'Feature': final_cols, 'Importance': variables})\n",
    "        sorted_df = (\n",
    "            coef_df.sort_values(by='Importance', ascending=False)\n",
    "            .head(n)\n",
    "            .sort_values(by='Importance', ascending=True).reset_index(drop=True)\n",
    "        )\n",
    "    else:\n",
    "        try:\n",
    "            variables = pycaret_pipeline.feature_importances_\n",
    "            \n",
    "        except:\n",
    "            variables = np.mean([\n",
    "                            tree.feature_importances_ for tree in pycaret_pipeline.estimators_\n",
    "                if hasattr(tree, 'feature_importances_')\n",
    "                            ], axis=0)\n",
    "        \n",
    "        coef_df = pd.DataFrame({'Feature': final_cols, 'Importance': variables})\n",
    "        sorted_df = (\n",
    "            coef_df.sort_values(by='Importance', ascending=False)\n",
    "            .head(n)\n",
    "            .sort_values(by='Importance', ascending=True).reset_index(drop=True)\n",
    "        )\n",
    "    return sorted_df"
   ]
  },
  {
   "cell_type": "code",
   "execution_count": 8,
   "id": "12df6408",
   "metadata": {
    "jupyter": {
     "source_hidden": true
    },
    "tags": []
   },
   "outputs": [],
   "source": [
    "def plot_conf_mat(confusion_matrix, title, axin, display_labels=['Non true', 'True'], cmap='cet_dimgray_r', show_clb=False, log_stretch=False):\n",
    "    disp = ConfusionMatrixDisplay(confusion_matrix=confusion_matrix,\n",
    "                              display_labels=display_labels)\n",
    "\n",
    "    min_val_colour = np.nanmin(confusion_matrix)\n",
    "    max_val_colour = np.nanmin(confusion_matrix)\n",
    "    \n",
    "    if log_stretch:\n",
    "        norm = ImageNormalize(stretch=LogStretch())\n",
    "    if not log_stretch:\n",
    "        norm = ImageNormalize(stretch=PowerStretch(0.35))\n",
    "\n",
    "    # NOTE: Fill all variables here with default values of the plot_confusion_matrix\n",
    "    disp_b = disp.plot(include_values=True, cmap=cm.get_cmap(cmap),\\\n",
    "             ax=axin, xticks_rotation='horizontal')\n",
    "\n",
    "    for text_val in disp_b.text_.flatten():\n",
    "        text_val.set_fontsize(30)\n",
    "    clb = plt.gca().images[-1].colorbar\n",
    "    clb.ax.tick_params(labelsize=14)\n",
    "    clb.ax.ticklabel_format(style='sci', scilimits=(0, 0))\n",
    "    clb.outline.set_linewidth(2.5)\n",
    "    clb.ax.set_ylabel('Elements in bin', size=14)\n",
    "    if not show_clb:\n",
    "        clb.remove()\n",
    "\n",
    "    # disp_b.im_.set_clim(1e2, 3e3)\n",
    "    disp_b.im_.norm = norm\n",
    "\n",
    "    axin.xaxis.get_label().set_fontsize(16)\n",
    "    axin.yaxis.get_label().set_fontsize(16)\n",
    "\n",
    "    axin.tick_params(axis='both', which='major', labelsize=14)\n",
    "\n",
    "    plt.setp(axin.spines.values(), linewidth=2.5)\n",
    "    plt.setp(axin.spines.values(), linewidth=2.5)\n",
    "    axin.set_title(title, fontsize=14)\n",
    "    plt.tight_layout()"
   ]
  },
  {
   "cell_type": "code",
   "execution_count": 9,
   "id": "fb305e63",
   "metadata": {
    "jupyter": {
     "source_hidden": true
    },
    "tags": []
   },
   "outputs": [],
   "source": [
    "def MCC_from_CM(cm_array):  # Matthews correlation coefficient\n",
    "    TN, FP, FN, TP = cm_array.flatten().astype('float32')\n",
    "    MCC = ((TP * TN) - (FP * FN)) / np.sqrt((TP + FP) * (TP + FN) * (TN + FP) * (TN + FN))\n",
    "    return MCC"
   ]
  },
  {
   "cell_type": "code",
   "execution_count": 10,
   "id": "11d08f7d",
   "metadata": {
    "jupyter": {
     "source_hidden": true
    },
    "tags": []
   },
   "outputs": [],
   "source": [
    "def ACC_from_CM(cm_array):  # Accuracy\n",
    "    TN, FP, FN, TP = cm_array.flatten().astype('float32')\n",
    "    ACC = (TP + TN) / (TP + TN + FP + FN)\n",
    "    return ACC"
   ]
  },
  {
   "cell_type": "code",
   "execution_count": 11,
   "id": "0c1db88c",
   "metadata": {
    "jupyter": {
     "source_hidden": true
    },
    "tags": []
   },
   "outputs": [],
   "source": [
    "def F1_from_CM(cm_array):  # F-1 score\n",
    "    TN, FP, FN, TP = cm_array.flatten().astype('float32')\n",
    "    F1 = 2 * TP / (2 * TP + FP + FN)\n",
    "    return F1"
   ]
  },
  {
   "cell_type": "code",
   "execution_count": 12,
   "id": "bbed11db",
   "metadata": {
    "jupyter": {
     "source_hidden": true
    },
    "tags": []
   },
   "outputs": [],
   "source": [
    "def Recall_from_CM(cm_array):  # Recall\n",
    "    TN, FP, FN, TP = cm_array.flatten().astype('float32')\n",
    "    Recall = TP / (TP + FN)\n",
    "    return Recall"
   ]
  },
  {
   "cell_type": "markdown",
   "id": "163d56e7",
   "metadata": {},
   "source": [
    "Get estimators list"
   ]
  },
  {
   "cell_type": "code",
   "execution_count": 95,
   "id": "c7f5eada",
   "metadata": {
    "jupyter": {
     "source_hidden": true
    }
   },
   "outputs": [],
   "source": [
    "def get_base_estimators_names(pycaret_pipeline):\n",
    "    if isinstance(pycaret_pipeline, sklearn.pipeline.Pipeline):\n",
    "        estimators  = pycaret_pipeline['trained_model'].estimators\n",
    "    else:\n",
    "        estimators  = pycaret_pipeline.estimators\n",
    "\n",
    "    estimators_list = [estimator[0] for estimator in estimators]\n",
    "    return estimators_list"
   ]
  },
  {
   "cell_type": "markdown",
   "id": "ded63492",
   "metadata": {
    "id": "8222df68-1b98-436b-af43-d9f38d015ba6"
   },
   "source": [
    "***"
   ]
  },
  {
   "cell_type": "markdown",
   "id": "07d53ed9",
   "metadata": {
    "id": "e2ce5669-172d-4ed4-b6fe-5fff8afc7df5"
   },
   "source": [
    "## Reading data"
   ]
  },
  {
   "cell_type": "code",
   "execution_count": 14,
   "id": "e8128932",
   "metadata": {
    "id": "b0619b32-391c-4f18-8284-d1fabf6a800c",
    "tags": []
   },
   "outputs": [],
   "source": [
    "cat_path = '../../Catalogs/'  # relative path to the same directory"
   ]
  },
  {
   "cell_type": "markdown",
   "id": "108fbf86",
   "metadata": {
    "id": "c4e41fd8-fbc5-4185-b03e-8a57634a05a9"
   },
   "source": [
    "We import our data using the `pandas` package."
   ]
  },
  {
   "cell_type": "code",
   "execution_count": 15,
   "id": "4b4dd8ce",
   "metadata": {},
   "outputs": [],
   "source": [
    "save_plot_flag  = False\n",
    "save_model_flag = False\n",
    "load_model_flag = False"
   ]
  },
  {
   "cell_type": "code",
   "execution_count": 16,
   "id": "ffbb4f03",
   "metadata": {},
   "outputs": [],
   "source": [
    "use_5sigma = True  # use files with 5-sigma magnitude imputation"
   ]
  },
  {
   "cell_type": "code",
   "execution_count": 17,
   "id": "310e01d4",
   "metadata": {},
   "outputs": [],
   "source": [
    "mqc_version = '7_4d'  # '7_2'"
   ]
  },
  {
   "cell_type": "code",
   "execution_count": 18,
   "id": "f2bb92a2",
   "metadata": {
    "id": "c69bd7ee-7184-46e3-a6cb-1a66cb75d6ae",
    "tags": []
   },
   "outputs": [],
   "source": [
    "file_name_train = f'CatWISE2020_VLASS_LOFAR_PS1_GALEX_TGSS_XMM_2MASS_MILLIQUAS_{mqc_version}_ALLWISE_LOLSS_SDSS_DR16_5sigma_imp.h5'  # 6729647 objects (6.7e6)"
   ]
  },
  {
   "cell_type": "markdown",
   "id": "68f0fd05",
   "metadata": {
    "id": "2cd751bd-1eb4-4c54-b6fa-418773ac8938"
   },
   "source": [
    "First, open the file as astropy Table to modify (and standardise)  \n",
    "the units of fluxes and/or magnitudes."
   ]
  },
  {
   "cell_type": "markdown",
   "id": "47370e23",
   "metadata": {
    "id": "d0ce0178-04a7-4113-bbb8-1b70ce220764"
   },
   "source": [
    "---"
   ]
  },
  {
   "cell_type": "markdown",
   "id": "59d9217a",
   "metadata": {
    "id": "6e66f66c-4987-4340-bf82-7d8e218033fb"
   },
   "source": [
    "Create `pandas` DataFrame from `astropy` table."
   ]
  },
  {
   "cell_type": "code",
   "execution_count": 19,
   "id": "bc1c0791",
   "metadata": {},
   "outputs": [],
   "source": [
    "features_2_discard = ['objID', 'RA_ICRS', 'DE_ICRS', 'Name', 'RA_MILLI', 'DEC_MILLI',\\\n",
    "                     'TYPE', 'Z', 'zsp', 'X_ray_detect', 'radio_detect', 'Total_flux_VLASS',\\\n",
    "                     'Sint_LOFAR', 'Stotal_TGSS', 'FEP', 'TotalFlux_LoLSS', 'W1mag',\\\n",
    "                     'W2mag', 'spCl', 'FUVmag', 'NUVmag'] # , 'mode',\\\n",
    "                     # 'class', 'f_zsp', 'subCl', 'zph', 'e_zph']  # Not needed for training in this model"
   ]
  },
  {
   "cell_type": "code",
   "execution_count": 20,
   "id": "3cd366db",
   "metadata": {
    "id": "498083f5-b8c6-44aa-8de4-75b1dc899296",
    "tags": []
   },
   "outputs": [],
   "source": [
    "full_catalog_df = pd.read_hdf(cat_path + file_name_train, key='df').drop(columns=features_2_discard).sample(frac=0.05, random_state=42)"
   ]
  },
  {
   "cell_type": "code",
   "execution_count": 21,
   "id": "e42b02d5",
   "metadata": {},
   "outputs": [],
   "source": [
    "# full_catalog_df.describe()"
   ]
  },
  {
   "cell_type": "markdown",
   "id": "c4118c22",
   "metadata": {},
   "source": [
    "#### Select only confirmed galaxies and AGN"
   ]
  },
  {
   "cell_type": "code",
   "execution_count": 22,
   "id": "c1e41e22",
   "metadata": {},
   "outputs": [],
   "source": [
    "full_catalog_df = full_catalog_df.loc[(full_catalog_df.loc[:, 'is_gal'] == 1) | (full_catalog_df.loc[:, 'is_AGN'] == 1)]"
   ]
  },
  {
   "cell_type": "code",
   "execution_count": 23,
   "id": "15dde7ac",
   "metadata": {
    "jupyter": {
     "source_hidden": true
    },
    "tags": []
   },
   "outputs": [
    {
     "name": "stdout",
     "output_type": "stream",
     "text": [
      "In this dataset, with 6188 elements,\n",
      "2120 of them are marked as AGN, and 4068 are identified as galaxies.\n"
     ]
    }
   ],
   "source": [
    "n_is_AGN = np.sum(full_catalog_df.loc[:, 'is_AGN'] == 1)\n",
    "n_is_gal = np.sum(full_catalog_df.loc[:, 'is_gal'] == 1)\n",
    "print(f'In this dataset, with {len(full_catalog_df.loc[:, \"is_AGN\"])} elements,\\n' +\\\n",
    "         f'{n_is_AGN} of them are marked as AGN, and {n_is_gal} are identified as galaxies.')"
   ]
  },
  {
   "cell_type": "markdown",
   "id": "e29a559d",
   "metadata": {
    "id": "6619390c-a04f-4bd0-9f97-9ca54bc9c764"
   },
   "source": [
    "---"
   ]
  },
  {
   "cell_type": "markdown",
   "id": "1986871f",
   "metadata": {
    "id": "e1111608-acd0-41fd-a79d-831539eb56b9"
   },
   "source": [
    "## Possible correlations"
   ]
  },
  {
   "cell_type": "code",
   "execution_count": 24,
   "id": "2ae4b26c",
   "metadata": {
    "id": "c5787752-376d-4409-bda6-ed1ab94bbe9b",
    "jupyter": {
     "source_hidden": true
    },
    "outputId": "80a70466-b8d8-4390-8734-77688a25a7de",
    "tags": []
   },
   "outputs": [
    {
     "name": "stdout",
     "output_type": "stream",
     "text": [
      "['band_num', 'is_str', 'is_AGN', 'is_SDSS_gal', 'is_gal', 'W1mproPM', 'W2mproPM', 'gmag', 'rmag', 'imag', 'zmag', 'ymag', 'Jmag', 'Hmag', 'Kmag', 'W3mag', 'W4mag', 'g_r', 'g_i', 'g_z', 'g_y', 'g_J', 'g_H', 'g_K', 'g_W1', 'g_W2', 'g_W3', 'g_W4', 'r_i', 'r_z', 'r_y', 'r_J', 'r_H', 'r_K', 'r_W1', 'r_W2', 'r_W3', 'r_W4', 'i_z', 'i_y', 'i_J', 'i_H', 'i_K', 'i_W1', 'i_W2', 'i_W3', 'i_W4', 'z_y', 'z_J', 'z_H', 'z_K', 'z_W1', 'z_W2', 'z_W3', 'z_W4', 'y_J', 'y_H', 'y_K', 'y_W1', 'y_W2', 'y_W3', 'y_W4', 'J_H', 'J_K', 'J_W1', 'J_W2', 'J_W3', 'J_W4', 'H_K', 'H_W1', 'H_W2', 'H_W3', 'H_W4', 'K_W1', 'K_W2', 'K_W3', 'K_W4', 'W1_W2', 'W1_W3', 'W1_W4', 'W2_W3', 'W2_W4', 'W3_W4']\n"
     ]
    }
   ],
   "source": [
    "print(full_catalog_df.columns.to_list())"
   ]
  },
  {
   "cell_type": "markdown",
   "id": "d0541698",
   "metadata": {
    "id": "27645d12-9370-40d8-aeba-24d4415bb9eb"
   },
   "source": [
    "---"
   ]
  },
  {
   "cell_type": "markdown",
   "id": "9f527715",
   "metadata": {
    "id": "u4vi69d_pPbd"
   },
   "source": [
    "## Random seed"
   ]
  },
  {
   "cell_type": "code",
   "execution_count": 25,
   "id": "16855bed",
   "metadata": {
    "id": "8byjjVU3pOjM"
   },
   "outputs": [],
   "source": [
    "seed = 42"
   ]
  },
  {
   "cell_type": "markdown",
   "id": "3bcc2343",
   "metadata": {},
   "source": [
    "Create target"
   ]
  },
  {
   "cell_type": "markdown",
   "id": "1ad15c39",
   "metadata": {},
   "source": [
    "$0$ for galaxies and $1$ for AGN"
   ]
  },
  {
   "cell_type": "code",
   "execution_count": 26,
   "id": "1ede394a",
   "metadata": {},
   "outputs": [],
   "source": [
    "full_catalog_df['class'] = full_catalog_df.loc[:, 'is_AGN'].copy()"
   ]
  },
  {
   "cell_type": "markdown",
   "id": "770ad5e9",
   "metadata": {},
   "source": [
    "Remove intermediate targets"
   ]
  },
  {
   "cell_type": "code",
   "execution_count": 27,
   "id": "3e7e73e4",
   "metadata": {},
   "outputs": [],
   "source": [
    "full_catalog_df = full_catalog_df.drop(columns=['is_AGN', 'is_SDSS_gal', 'is_gal', 'is_str'])"
   ]
  },
  {
   "cell_type": "markdown",
   "id": "d38007f7",
   "metadata": {},
   "source": [
    "## Split data: Test, Train, Validation"
   ]
  },
  {
   "cell_type": "code",
   "execution_count": 28,
   "id": "3b12b97f",
   "metadata": {
    "jupyter": {
     "source_hidden": true
    }
   },
   "outputs": [
    {
     "name": "stdout",
     "output_type": "stream",
     "text": [
      "Shape of used data\n",
      "----------------------------------------\n",
      "Full Dataset size: (6188, 80)\n",
      "Data for Modeling (Train and Test): (4950, 80)\n",
      "Unseen Data For Validation: (1238, 80)\n",
      "----------------------------------------\n"
     ]
    }
   ],
   "source": [
    "train_test_df, validation_df = train_test_split(full_catalog_df, test_size=0.2, random_state=seed, stratify=full_catalog_df.loc[:, 'class'])\n",
    "# data_train_test_AGN_df = full_catalog_df.sample(frac=0.9, random_state=seed)  # Train + test sets\n",
    "# data_validation_AGN_df = full_catalog_df.drop(data_train_test_AGN_df.index)  # Validation data\n",
    "\n",
    "print('Shape of used data')\n",
    "print('-' * 40)\n",
    "print(f'Full Dataset size: {full_catalog_df.shape}')\n",
    "print(f'Data for Modeling (Train and Test): {train_test_df.shape}')\n",
    "print(f'Unseen Data For Validation: {validation_df.shape}')\n",
    "print('-' * 40)"
   ]
  },
  {
   "cell_type": "markdown",
   "id": "8745cc3a",
   "metadata": {},
   "source": [
    "Save indices of sources in validation sub-set for future steps."
   ]
  },
  {
   "cell_type": "code",
   "execution_count": 29,
   "id": "220f2398",
   "metadata": {},
   "outputs": [],
   "source": [
    "# val_idx = validation_df.index.to_numpy()\n",
    "# np.savetxt(fname='idx_validation_01.txt', X=val_idx, header='Indices from first AGN training.', fmt='%i')"
   ]
  },
  {
   "cell_type": "markdown",
   "id": "92ab6220",
   "metadata": {},
   "source": [
    "---"
   ]
  },
  {
   "cell_type": "markdown",
   "id": "3c181c2d",
   "metadata": {},
   "source": [
    "## Use Correlation matrix to discard some features"
   ]
  },
  {
   "cell_type": "code",
   "execution_count": 30,
   "id": "6c84a70c",
   "metadata": {
    "jupyter": {
     "source_hidden": true
    },
    "tags": []
   },
   "outputs": [],
   "source": [
    "min_max_scaler              = MinMaxScaler(feature_range=(0., 1.))\n",
    "full_scaled                 = min_max_scaler.fit_transform(train_test_df.values)\n",
    "norm_train_test_df = pd.DataFrame(data=full_scaled, columns=train_test_df.columns, index=train_test_df.index)"
   ]
  },
  {
   "cell_type": "markdown",
   "id": "a8fb585a",
   "metadata": {},
   "source": [
    "Calculate Reduced Standard deviation to discard between pairs of features:  \n",
    "\n",
    "$$\\mathrm{RSD} = \\frac{\\sigma}{\\mu} \\times 100$$"
   ]
  },
  {
   "cell_type": "code",
   "execution_count": 31,
   "id": "ce71f2f6",
   "metadata": {},
   "outputs": [],
   "source": [
    "rsd_vals = (train_test_df.std() / train_test_df.mean() * 100).sort_values(ascending=False)"
   ]
  },
  {
   "cell_type": "code",
   "execution_count": 32,
   "id": "2fa10696",
   "metadata": {},
   "outputs": [
    {
     "data": {
      "text/plain": [
       "K_W3        1381.783144\n",
       "z_y          242.754039\n",
       "i_z          198.763118\n",
       "class        138.528689\n",
       "i_y          129.947585\n",
       "r_i          115.147210\n",
       "y_W2         111.940140\n",
       "g_r           95.503770\n",
       "r_z           88.439657\n",
       "y_W1          86.569680\n",
       "z_W2          84.638023\n",
       "r_y           81.030131\n",
       "g_i           74.963927\n",
       "z_W1          71.925690\n",
       "g_z           69.479385\n",
       "i_W2          68.583580\n",
       "H_W3          68.147934\n",
       "g_y           67.644002\n",
       "i_W1          63.563228\n",
       "r_W1          58.399618\n",
       "r_W2          56.038303\n",
       "g_W1          52.072047\n",
       "J_W3          50.761297\n",
       "y_J           46.859377\n",
       "g_W2          46.305024\n",
       "W1_W3         42.898934\n",
       "y_H           42.504367\n",
       "z_J           41.478922\n",
       "J_H           39.112353\n",
       "i_J           38.633763\n",
       "z_H           37.877271\n",
       "y_K           37.179140\n",
       "r_J           37.172197\n",
       "i_H           35.529442\n",
       "y_W3          35.445754\n",
       "r_H           34.684651\n",
       "g_J           34.195194\n",
       "z_K           33.725098\n",
       "H_K           33.099846\n",
       "g_H           32.354331\n",
       "i_K           32.193088\n",
       "W2_W3         32.159508\n",
       "z_W3          32.106758\n",
       "r_K           31.740803\n",
       "i_W3          30.447602\n",
       "g_K           30.055935\n",
       "r_W3          29.877141\n",
       "g_W3          28.082335\n",
       "W1_W4         24.657997\n",
       "y_W4          23.408968\n",
       "J_K           22.871366\n",
       "r_W4          22.002127\n",
       "z_W4          21.850168\n",
       "g_W4          21.824435\n",
       "i_W4          21.487889\n",
       "band_num      21.136541\n",
       "W2_W4         20.299128\n",
       "W3_W4         17.167371\n",
       "H_W4          13.373997\n",
       "J_W4          12.161511\n",
       "K_W4          11.998017\n",
       "gmag           7.130412\n",
       "rmag           6.612250\n",
       "ymag           6.160126\n",
       "imag           6.042573\n",
       "zmag           5.937435\n",
       "W1mproPM       5.587092\n",
       "W2mproPM       4.874427\n",
       "W3mag          2.757632\n",
       "Hmag           2.108410\n",
       "Jmag           2.042360\n",
       "W4mag          1.492797\n",
       "Kmag           1.316911\n",
       "K_W2         -37.021400\n",
       "H_W2         -46.045459\n",
       "K_W1         -46.446194\n",
       "J_W2         -53.540863\n",
       "H_W1         -59.626999\n",
       "J_W1         -70.761510\n",
       "W1_W2       -238.957517\n",
       "dtype: float64"
      ]
     },
     "execution_count": 32,
     "metadata": {},
     "output_type": "execute_result"
    }
   ],
   "source": [
    "rsd_vals"
   ]
  },
  {
   "cell_type": "code",
   "execution_count": 33,
   "id": "bd210a8c",
   "metadata": {},
   "outputs": [],
   "source": [
    "correlation = norm_train_test_df.corr()"
   ]
  },
  {
   "cell_type": "code",
   "execution_count": 34,
   "id": "b99e5565",
   "metadata": {
    "jupyter": {
     "source_hidden": true
    }
   },
   "outputs": [],
   "source": [
    "filt_high_corr = np.array(correlation.abs().unstack().sort_values(ascending=False).drop_duplicates().values > 0.75) &\\\n",
    "np.array(correlation.abs().unstack().sort_values(ascending=False).drop_duplicates().values < 1.00)"
   ]
  },
  {
   "cell_type": "code",
   "execution_count": 35,
   "id": "f3c96473",
   "metadata": {
    "jupyter": {
     "source_hidden": true
    }
   },
   "outputs": [],
   "source": [
    "corr_pairs     = correlation.abs().unstack().sort_values(ascending=False).drop_duplicates().index[filt_high_corr]"
   ]
  },
  {
   "cell_type": "code",
   "execution_count": 36,
   "id": "b7ee3e93",
   "metadata": {},
   "outputs": [],
   "source": [
    "target_feat = 'class'"
   ]
  },
  {
   "cell_type": "code",
   "execution_count": 37,
   "id": "d2754964",
   "metadata": {
    "jupyter": {
     "source_hidden": true
    },
    "tags": []
   },
   "outputs": [],
   "source": [
    "list_drop_corr = []"
   ]
  },
  {
   "cell_type": "markdown",
   "id": "a99d425e",
   "metadata": {},
   "source": [
    "We want to discard features that are highly correlated (>0.75).  \n",
    "Between two features, we will discard the one with the lowest standard deviation (RSD)."
   ]
  },
  {
   "cell_type": "code",
   "execution_count": 38,
   "id": "a72fa88b",
   "metadata": {
    "jupyter": {
     "source_hidden": true
    },
    "tags": []
   },
   "outputs": [],
   "source": [
    "for row in corr_pairs:\n",
    "    if target_feat in row:\n",
    "        continue\n",
    "    elif row[0] in list_drop_corr:\n",
    "        continue\n",
    "    elif row[1] in list_drop_corr:\n",
    "        continue\n",
    "    else:\n",
    "        metric_a = rsd_vals[row[0]]\n",
    "        metric_b = rsd_vals[row[1]]\n",
    "        if metric_a >= metric_b:\n",
    "            list_drop_corr.append(row[1])\n",
    "        else:\n",
    "            list_drop_corr.append(row[0])"
   ]
  },
  {
   "cell_type": "code",
   "execution_count": 39,
   "id": "a38b6216",
   "metadata": {},
   "outputs": [
    {
     "data": {
      "text/plain": [
       "['g_H',\n",
       " 'r_H',\n",
       " 'y_H',\n",
       " 'i_H',\n",
       " 'z_H',\n",
       " 'J_W1',\n",
       " 'J_W2',\n",
       " 'g_K',\n",
       " 'r_K',\n",
       " 'gmag',\n",
       " 'i_K',\n",
       " 'y_K',\n",
       " 'z_K',\n",
       " 'rmag',\n",
       " 'imag',\n",
       " 'ymag',\n",
       " 'zmag',\n",
       " 'H_W1',\n",
       " 'K_W1',\n",
       " 'J_W3',\n",
       " 'W1mproPM',\n",
       " 'g_W4',\n",
       " 'H_W2',\n",
       " 'K_W2',\n",
       " 'W2mproPM',\n",
       " 'Jmag',\n",
       " 'r_W4',\n",
       " 'J_W4',\n",
       " 'i_W4',\n",
       " 'y_W4',\n",
       " 'g_W2',\n",
       " 'z_W4',\n",
       " 'g_W3',\n",
       " 'W1_W4',\n",
       " 'r_W3',\n",
       " 'r_W2',\n",
       " 'W2_W4',\n",
       " 'y_W3',\n",
       " 'i_W3',\n",
       " 'z_W3',\n",
       " 'g_y',\n",
       " 'Kmag',\n",
       " 'J_K',\n",
       " 'g_z',\n",
       " 'W3mag',\n",
       " 'H_W3',\n",
       " 'i_J',\n",
       " 'z_J',\n",
       " 'i_W1',\n",
       " 'y_W1',\n",
       " 'Hmag',\n",
       " 'z_W1',\n",
       " 'W2_W3',\n",
       " 'g_W1',\n",
       " 'i_W2',\n",
       " 'g_J',\n",
       " 'K_W4',\n",
       " 'z_W2',\n",
       " 'W3_W4',\n",
       " 'r_y',\n",
       " 'g_i',\n",
       " 'band_num']"
      ]
     },
     "execution_count": 39,
     "metadata": {},
     "output_type": "execute_result"
    }
   ],
   "source": [
    "list_drop_corr"
   ]
  },
  {
   "cell_type": "code",
   "execution_count": 40,
   "id": "0d9f9c48",
   "metadata": {},
   "outputs": [],
   "source": [
    "# correlation.abs().unstack().sort_values(ascending=False).drop_duplicates()[:15]"
   ]
  },
  {
   "cell_type": "code",
   "execution_count": 41,
   "id": "629bb534",
   "metadata": {
    "jupyter": {
     "source_hidden": true
    }
   },
   "outputs": [],
   "source": [
    "norm_train_test_discard = norm_train_test_df.drop(columns=list_drop_corr)"
   ]
  },
  {
   "cell_type": "code",
   "execution_count": 42,
   "id": "a5524803",
   "metadata": {
    "jupyter": {
     "source_hidden": true
    }
   },
   "outputs": [],
   "source": [
    "corr_discard = norm_train_test_discard.corr()"
   ]
  },
  {
   "cell_type": "code",
   "execution_count": 43,
   "id": "a5e3e86a",
   "metadata": {},
   "outputs": [
    {
     "data": {
      "text/plain": [
       "W4mag  W4mag    1.000000\n",
       "W1_W2  class    0.804954\n",
       "y_J    r_J      0.746646\n",
       "H_K    H_W4     0.743238\n",
       "r_i    r_z      0.736943\n",
       "r_W1   r_J      0.726136\n",
       "y_W2   y_J      0.700673\n",
       "r_W1   r_z      0.673117\n",
       "i_y    z_y      0.623165\n",
       "r_i    r_W1     0.617702\n",
       "W4mag  K_W3     0.587397\n",
       "W1_W2  W1_W3    0.579745\n",
       "i_z    i_y      0.560767\n",
       "W1_W3  y_J      0.555987\n",
       "r_J    r_z      0.539890\n",
       "dtype: float64"
      ]
     },
     "execution_count": 43,
     "metadata": {},
     "output_type": "execute_result"
    }
   ],
   "source": [
    "corr_discard.abs().unstack().sort_values(ascending=False).drop_duplicates()[:15]"
   ]
  },
  {
   "cell_type": "code",
   "execution_count": 44,
   "id": "ee85c91f",
   "metadata": {
    "jupyter": {
     "source_hidden": true
    },
    "tags": []
   },
   "outputs": [
    {
     "data": {
      "image/png": "[encoded data removed]",
      "text/plain": [
       "<Figure size 3000x1500 with 2 Axes>"
      ]
     },
     "metadata": {},
     "output_type": "display_data"
    }
   ],
   "source": [
    "plt.figure(figsize=(30,15))\n",
    "sns.set_context('paper', rc={'axes.labelsize':20, 'axes.ticklabelsize':14})\n",
    "ax1 = sns.heatmap(corr_discard, annot=True, cmap=plt.get_cmap('cet_CET_D1A'), center=0.0, square=True)\n",
    "ax1.set_xlabel('feature')\n",
    "ax1.set_ylabel('feature')\n",
    "plt.show()"
   ]
  },
  {
   "cell_type": "code",
   "execution_count": 45,
   "id": "2b8fd208",
   "metadata": {},
   "outputs": [],
   "source": [
    "norm_train_test_discard.loc[:, 'class'] = norm_train_test_discard.loc[:, 'class'].astype(bool)"
   ]
  },
  {
   "cell_type": "code",
   "execution_count": 46,
   "id": "a1e72ab6",
   "metadata": {
    "jupyter": {
     "source_hidden": true
    }
   },
   "outputs": [],
   "source": [
    "pps_matrix = pps.matrix(norm_train_test_discard, random_seed=seed)[['x', 'y', 'ppscore']].pivot(columns='x', index='y', values='ppscore')"
   ]
  },
  {
   "cell_type": "code",
   "execution_count": 47,
   "id": "434d5a19",
   "metadata": {},
   "outputs": [
    {
     "data": {
      "text/plain": [
       "x      y    \n",
       "H_K    H_K      1.000000\n",
       "W1_W2  class    0.748207\n",
       "H_W4   H_K      0.672112\n",
       "g_r    class    0.579278\n",
       "r_z    class    0.509873\n",
       "class  W1_W2    0.509464\n",
       "r_i    class    0.503215\n",
       "r_z    r_i      0.383535\n",
       "r_i    r_z      0.374715\n",
       "J_H    H_K      0.320767\n",
       "H_K    H_W4     0.312610\n",
       "y_J    r_J      0.288503\n",
       "i_y    class    0.278633\n",
       "W1_W3  class    0.269857\n",
       "y_W2   class    0.268519\n",
       "r_W1   class    0.254614\n",
       "class  r_z      0.247686\n",
       "       g_r      0.244030\n",
       "i_z    class    0.234986\n",
       "y_W2   y_J      0.231780\n",
       "dtype: float64"
      ]
     },
     "execution_count": 47,
     "metadata": {},
     "output_type": "execute_result"
    }
   ],
   "source": [
    "pps_matrix.unstack().sort_values(ascending=False).drop_duplicates()[:20]"
   ]
  },
  {
   "cell_type": "code",
   "execution_count": 48,
   "id": "90d7bb22",
   "metadata": {
    "jupyter": {
     "source_hidden": true
    },
    "tags": []
   },
   "outputs": [],
   "source": [
    "filt_high_pps = np.array(pps_matrix.abs().unstack().sort_values(ascending=False).drop_duplicates().values > 0.75) &\\\n",
    "np.array(pps_matrix.abs().unstack().sort_values(ascending=False).drop_duplicates().values < 1.00)"
   ]
  },
  {
   "cell_type": "code",
   "execution_count": 49,
   "id": "4008b0d5",
   "metadata": {},
   "outputs": [],
   "source": [
    "pps_pairs     = pps_matrix.abs().unstack().sort_values(ascending=False).drop_duplicates().index[filt_high_pps]"
   ]
  },
  {
   "cell_type": "code",
   "execution_count": 50,
   "id": "f9638bd7",
   "metadata": {},
   "outputs": [],
   "source": [
    "target_feat = 'class'"
   ]
  },
  {
   "cell_type": "code",
   "execution_count": 51,
   "id": "99d86ca4",
   "metadata": {
    "tags": []
   },
   "outputs": [],
   "source": [
    "list_drop_pps = []"
   ]
  },
  {
   "cell_type": "code",
   "execution_count": 52,
   "id": "dff55b61",
   "metadata": {
    "jupyter": {
     "source_hidden": true
    },
    "tags": []
   },
   "outputs": [],
   "source": [
    "for row in pps_pairs:\n",
    "    if target_feat in row:\n",
    "        continue\n",
    "    elif row[0] in list_drop_pps:\n",
    "        continue\n",
    "    elif row[1] in list_drop_pps:\n",
    "        continue\n",
    "    else:\n",
    "        metric_a = rsd_vals[row[0]]\n",
    "        metric_b = rsd_vals[row[1]]\n",
    "        if metric_a >= metric_b:\n",
    "            list_drop_pps.append(row[1])\n",
    "        else:\n",
    "            list_drop_pps.append(row[0])"
   ]
  },
  {
   "cell_type": "code",
   "execution_count": 53,
   "id": "0d27e386",
   "metadata": {},
   "outputs": [
    {
     "data": {
      "text/plain": [
       "[]"
      ]
     },
     "execution_count": 53,
     "metadata": {},
     "output_type": "execute_result"
    }
   ],
   "source": [
    "list_drop_pps"
   ]
  },
  {
   "cell_type": "code",
   "execution_count": 54,
   "id": "ff0b20e4",
   "metadata": {},
   "outputs": [],
   "source": [
    "norm_train_test_discard = norm_train_test_discard.drop(columns=list_drop_pps)"
   ]
  },
  {
   "cell_type": "code",
   "execution_count": 55,
   "id": "d87e3c27",
   "metadata": {},
   "outputs": [],
   "source": [
    "pps_pred_target = pps.predictors(norm_train_test_discard, 'class', random_seed=seed)"
   ]
  },
  {
   "cell_type": "code",
   "execution_count": 56,
   "id": "23eba721",
   "metadata": {},
   "outputs": [
    {
     "data": {
      "text/html": [
       "<div>\n",
       "<style scoped>\n",
       "    .dataframe tbody tr th:only-of-type {\n",
       "        vertical-align: middle;\n",
       "    }\n",
       "\n",
       "    .dataframe tbody tr th {\n",
       "        vertical-align: top;\n",
       "    }\n",
       "\n",
       "    .dataframe thead th {\n",
       "        text-align: right;\n",
       "    }\n",
       "</style>\n",
       "<table border=\"1\" class=\"dataframe\">\n",
       "  <thead>\n",
       "    <tr style=\"text-align: right;\">\n",
       "      <th></th>\n",
       "      <th>x</th>\n",
       "      <th>y</th>\n",
       "      <th>ppscore</th>\n",
       "      <th>case</th>\n",
       "      <th>is_valid_score</th>\n",
       "      <th>metric</th>\n",
       "      <th>baseline_score</th>\n",
       "      <th>model_score</th>\n",
       "      <th>model</th>\n",
       "    </tr>\n",
       "  </thead>\n",
       "  <tbody>\n",
       "    <tr>\n",
       "      <th>0</th>\n",
       "      <td>W1_W2</td>\n",
       "      <td>class</td>\n",
       "      <td>0.748207</td>\n",
       "      <td>classification</td>\n",
       "      <td>True</td>\n",
       "      <td>weighted F1</td>\n",
       "      <td>0.547475</td>\n",
       "      <td>0.886057</td>\n",
       "      <td>DecisionTreeClassifier()</td>\n",
       "    </tr>\n",
       "    <tr>\n",
       "      <th>1</th>\n",
       "      <td>g_r</td>\n",
       "      <td>class</td>\n",
       "      <td>0.579278</td>\n",
       "      <td>classification</td>\n",
       "      <td>True</td>\n",
       "      <td>weighted F1</td>\n",
       "      <td>0.547475</td>\n",
       "      <td>0.809612</td>\n",
       "      <td>DecisionTreeClassifier()</td>\n",
       "    </tr>\n",
       "    <tr>\n",
       "      <th>2</th>\n",
       "      <td>r_z</td>\n",
       "      <td>class</td>\n",
       "      <td>0.509873</td>\n",
       "      <td>classification</td>\n",
       "      <td>True</td>\n",
       "      <td>weighted F1</td>\n",
       "      <td>0.547475</td>\n",
       "      <td>0.778205</td>\n",
       "      <td>DecisionTreeClassifier()</td>\n",
       "    </tr>\n",
       "    <tr>\n",
       "      <th>3</th>\n",
       "      <td>r_i</td>\n",
       "      <td>class</td>\n",
       "      <td>0.503215</td>\n",
       "      <td>classification</td>\n",
       "      <td>True</td>\n",
       "      <td>weighted F1</td>\n",
       "      <td>0.547475</td>\n",
       "      <td>0.775192</td>\n",
       "      <td>DecisionTreeClassifier()</td>\n",
       "    </tr>\n",
       "    <tr>\n",
       "      <th>4</th>\n",
       "      <td>i_y</td>\n",
       "      <td>class</td>\n",
       "      <td>0.278633</td>\n",
       "      <td>classification</td>\n",
       "      <td>True</td>\n",
       "      <td>weighted F1</td>\n",
       "      <td>0.547475</td>\n",
       "      <td>0.673563</td>\n",
       "      <td>DecisionTreeClassifier()</td>\n",
       "    </tr>\n",
       "    <tr>\n",
       "      <th>5</th>\n",
       "      <td>W1_W3</td>\n",
       "      <td>class</td>\n",
       "      <td>0.269857</td>\n",
       "      <td>classification</td>\n",
       "      <td>True</td>\n",
       "      <td>weighted F1</td>\n",
       "      <td>0.547475</td>\n",
       "      <td>0.669592</td>\n",
       "      <td>DecisionTreeClassifier()</td>\n",
       "    </tr>\n",
       "    <tr>\n",
       "      <th>6</th>\n",
       "      <td>y_W2</td>\n",
       "      <td>class</td>\n",
       "      <td>0.268519</td>\n",
       "      <td>classification</td>\n",
       "      <td>True</td>\n",
       "      <td>weighted F1</td>\n",
       "      <td>0.547475</td>\n",
       "      <td>0.668986</td>\n",
       "      <td>DecisionTreeClassifier()</td>\n",
       "    </tr>\n",
       "    <tr>\n",
       "      <th>7</th>\n",
       "      <td>r_W1</td>\n",
       "      <td>class</td>\n",
       "      <td>0.254614</td>\n",
       "      <td>classification</td>\n",
       "      <td>True</td>\n",
       "      <td>weighted F1</td>\n",
       "      <td>0.547475</td>\n",
       "      <td>0.662694</td>\n",
       "      <td>DecisionTreeClassifier()</td>\n",
       "    </tr>\n",
       "    <tr>\n",
       "      <th>8</th>\n",
       "      <td>i_z</td>\n",
       "      <td>class</td>\n",
       "      <td>0.234986</td>\n",
       "      <td>classification</td>\n",
       "      <td>True</td>\n",
       "      <td>weighted F1</td>\n",
       "      <td>0.547475</td>\n",
       "      <td>0.653812</td>\n",
       "      <td>DecisionTreeClassifier()</td>\n",
       "    </tr>\n",
       "    <tr>\n",
       "      <th>9</th>\n",
       "      <td>y_J</td>\n",
       "      <td>class</td>\n",
       "      <td>0.195701</td>\n",
       "      <td>classification</td>\n",
       "      <td>True</td>\n",
       "      <td>weighted F1</td>\n",
       "      <td>0.547475</td>\n",
       "      <td>0.636034</td>\n",
       "      <td>DecisionTreeClassifier()</td>\n",
       "    </tr>\n",
       "    <tr>\n",
       "      <th>10</th>\n",
       "      <td>z_y</td>\n",
       "      <td>class</td>\n",
       "      <td>0.107011</td>\n",
       "      <td>classification</td>\n",
       "      <td>True</td>\n",
       "      <td>weighted F1</td>\n",
       "      <td>0.547475</td>\n",
       "      <td>0.595900</td>\n",
       "      <td>DecisionTreeClassifier()</td>\n",
       "    </tr>\n",
       "    <tr>\n",
       "      <th>11</th>\n",
       "      <td>r_J</td>\n",
       "      <td>class</td>\n",
       "      <td>0.105414</td>\n",
       "      <td>classification</td>\n",
       "      <td>True</td>\n",
       "      <td>weighted F1</td>\n",
       "      <td>0.547475</td>\n",
       "      <td>0.595177</td>\n",
       "      <td>DecisionTreeClassifier()</td>\n",
       "    </tr>\n",
       "    <tr>\n",
       "      <th>12</th>\n",
       "      <td>K_W3</td>\n",
       "      <td>class</td>\n",
       "      <td>0.045375</td>\n",
       "      <td>classification</td>\n",
       "      <td>True</td>\n",
       "      <td>weighted F1</td>\n",
       "      <td>0.547475</td>\n",
       "      <td>0.568008</td>\n",
       "      <td>DecisionTreeClassifier()</td>\n",
       "    </tr>\n",
       "    <tr>\n",
       "      <th>13</th>\n",
       "      <td>W4mag</td>\n",
       "      <td>class</td>\n",
       "      <td>0.000000</td>\n",
       "      <td>classification</td>\n",
       "      <td>True</td>\n",
       "      <td>weighted F1</td>\n",
       "      <td>0.547475</td>\n",
       "      <td>0.538440</td>\n",
       "      <td>DecisionTreeClassifier()</td>\n",
       "    </tr>\n",
       "    <tr>\n",
       "      <th>14</th>\n",
       "      <td>J_H</td>\n",
       "      <td>class</td>\n",
       "      <td>0.000000</td>\n",
       "      <td>classification</td>\n",
       "      <td>True</td>\n",
       "      <td>weighted F1</td>\n",
       "      <td>0.547475</td>\n",
       "      <td>0.523638</td>\n",
       "      <td>DecisionTreeClassifier()</td>\n",
       "    </tr>\n",
       "    <tr>\n",
       "      <th>15</th>\n",
       "      <td>H_K</td>\n",
       "      <td>class</td>\n",
       "      <td>0.000000</td>\n",
       "      <td>classification</td>\n",
       "      <td>True</td>\n",
       "      <td>weighted F1</td>\n",
       "      <td>0.547475</td>\n",
       "      <td>0.518380</td>\n",
       "      <td>DecisionTreeClassifier()</td>\n",
       "    </tr>\n",
       "    <tr>\n",
       "      <th>16</th>\n",
       "      <td>H_W4</td>\n",
       "      <td>class</td>\n",
       "      <td>0.000000</td>\n",
       "      <td>classification</td>\n",
       "      <td>True</td>\n",
       "      <td>weighted F1</td>\n",
       "      <td>0.547475</td>\n",
       "      <td>0.538916</td>\n",
       "      <td>DecisionTreeClassifier()</td>\n",
       "    </tr>\n",
       "  </tbody>\n",
       "</table>\n",
       "</div>"
      ],
      "text/plain": [
       "        x      y   ppscore            case  is_valid_score       metric  \\\n",
       "0   W1_W2  class  0.748207  classification            True  weighted F1   \n",
       "1     g_r  class  0.579278  classification            True  weighted F1   \n",
       "2     r_z  class  0.509873  classification            True  weighted F1   \n",
       "3     r_i  class  0.503215  classification            True  weighted F1   \n",
       "4     i_y  class  0.278633  classification            True  weighted F1   \n",
       "5   W1_W3  class  0.269857  classification            True  weighted F1   \n",
       "6    y_W2  class  0.268519  classification            True  weighted F1   \n",
       "7    r_W1  class  0.254614  classification            True  weighted F1   \n",
       "8     i_z  class  0.234986  classification            True  weighted F1   \n",
       "9     y_J  class  0.195701  classification            True  weighted F1   \n",
       "10    z_y  class  0.107011  classification            True  weighted F1   \n",
       "11    r_J  class  0.105414  classification            True  weighted F1   \n",
       "12   K_W3  class  0.045375  classification            True  weighted F1   \n",
       "13  W4mag  class  0.000000  classification            True  weighted F1   \n",
       "14    J_H  class  0.000000  classification            True  weighted F1   \n",
       "15    H_K  class  0.000000  classification            True  weighted F1   \n",
       "16   H_W4  class  0.000000  classification            True  weighted F1   \n",
       "\n",
       "    baseline_score  model_score                     model  \n",
       "0         0.547475     0.886057  DecisionTreeClassifier()  \n",
       "1         0.547475     0.809612  DecisionTreeClassifier()  \n",
       "2         0.547475     0.778205  DecisionTreeClassifier()  \n",
       "3         0.547475     0.775192  DecisionTreeClassifier()  \n",
       "4         0.547475     0.673563  DecisionTreeClassifier()  \n",
       "5         0.547475     0.669592  DecisionTreeClassifier()  \n",
       "6         0.547475     0.668986  DecisionTreeClassifier()  \n",
       "7         0.547475     0.662694  DecisionTreeClassifier()  \n",
       "8         0.547475     0.653812  DecisionTreeClassifier()  \n",
       "9         0.547475     0.636034  DecisionTreeClassifier()  \n",
       "10        0.547475     0.595900  DecisionTreeClassifier()  \n",
       "11        0.547475     0.595177  DecisionTreeClassifier()  \n",
       "12        0.547475     0.568008  DecisionTreeClassifier()  \n",
       "13        0.547475     0.538440  DecisionTreeClassifier()  \n",
       "14        0.547475     0.523638  DecisionTreeClassifier()  \n",
       "15        0.547475     0.518380  DecisionTreeClassifier()  \n",
       "16        0.547475     0.538916  DecisionTreeClassifier()  "
      ]
     },
     "execution_count": 56,
     "metadata": {},
     "output_type": "execute_result"
    }
   ],
   "source": [
    "pps_pred_target"
   ]
  },
  {
   "cell_type": "markdown",
   "id": "2786a237",
   "metadata": {
    "id": "f567638a-2720-4d09-8fc4-0832c0307148"
   },
   "source": [
    "---"
   ]
  },
  {
   "cell_type": "markdown",
   "id": "79378afb",
   "metadata": {
    "id": "1b55b413-36ea-4c3a-b261-ae4f4b71045d"
   },
   "source": [
    "## Use Machine Learning (ML): PyCaret"
   ]
  },
  {
   "cell_type": "markdown",
   "id": "04b110cd",
   "metadata": {
    "id": "8BFUMLcApfnI"
   },
   "source": [
    "## Train Models"
   ]
  },
  {
   "cell_type": "markdown",
   "id": "ab785df9",
   "metadata": {
    "id": "L0rK_gTcprFK"
   },
   "source": [
    "### AGN Detection Prediction"
   ]
  },
  {
   "cell_type": "code",
   "execution_count": 57,
   "id": "9c33870a",
   "metadata": {},
   "outputs": [],
   "source": [
    "# final_feats = pps_pred_target.x.to_list()  # Before Boruta\n",
    "final_feats = pps_pred_target.x.to_list()  # After Boruta"
   ]
  },
  {
   "cell_type": "code",
   "execution_count": 58,
   "id": "a26963d7",
   "metadata": {},
   "outputs": [],
   "source": [
    "feats_2_discard = list_drop_corr + list_drop_pps"
   ]
  },
  {
   "cell_type": "markdown",
   "id": "7df39b27",
   "metadata": {},
   "source": [
    "Boruta discards one feature."
   ]
  },
  {
   "cell_type": "code",
   "execution_count": 59,
   "id": "3e482a5e",
   "metadata": {
    "id": "ttLEcpmVst4j"
   },
   "outputs": [
    {
     "data": {
      "text/html": [
       "<style type=\"text/css\">\n",
       "#T_da973_row29_col1, #T_da973_row31_col1, #T_da973_row44_col1 {\n",
       "  background-color: lightgreen;\n",
       "}\n",
       "</style>\n",
       "<table id=\"T_da973\">\n",
       "  <thead>\n",
       "    <tr>\n",
       "      <th class=\"blank level0\" >&nbsp;</th>\n",
       "      <th id=\"T_da973_level0_col0\" class=\"col_heading level0 col0\" >Description</th>\n",
       "      <th id=\"T_da973_level0_col1\" class=\"col_heading level0 col1\" >Value</th>\n",
       "    </tr>\n",
       "  </thead>\n",
       "  <tbody>\n",
       "    <tr>\n",
       "      <th id=\"T_da973_level0_row0\" class=\"row_heading level0 row0\" >0</th>\n",
       "      <td id=\"T_da973_row0_col0\" class=\"data row0 col0\" >session_id</td>\n",
       "      <td id=\"T_da973_row0_col1\" class=\"data row0 col1\" >42</td>\n",
       "    </tr>\n",
       "    <tr>\n",
       "      <th id=\"T_da973_level0_row1\" class=\"row_heading level0 row1\" >1</th>\n",
       "      <td id=\"T_da973_row1_col0\" class=\"data row1 col0\" >Target</td>\n",
       "      <td id=\"T_da973_row1_col1\" class=\"data row1 col1\" >class</td>\n",
       "    </tr>\n",
       "    <tr>\n",
       "      <th id=\"T_da973_level0_row2\" class=\"row_heading level0 row2\" >2</th>\n",
       "      <td id=\"T_da973_row2_col0\" class=\"data row2 col0\" >Target Type</td>\n",
       "      <td id=\"T_da973_row2_col1\" class=\"data row2 col1\" >Binary</td>\n",
       "    </tr>\n",
       "    <tr>\n",
       "      <th id=\"T_da973_level0_row3\" class=\"row_heading level0 row3\" >3</th>\n",
       "      <td id=\"T_da973_row3_col0\" class=\"data row3 col0\" >Label Encoded</td>\n",
       "      <td id=\"T_da973_row3_col1\" class=\"data row3 col1\" >None</td>\n",
       "    </tr>\n",
       "    <tr>\n",
       "      <th id=\"T_da973_level0_row4\" class=\"row_heading level0 row4\" >4</th>\n",
       "      <td id=\"T_da973_row4_col0\" class=\"data row4 col0\" >Original Data</td>\n",
       "      <td id=\"T_da973_row4_col1\" class=\"data row4 col1\" >(4950, 80)</td>\n",
       "    </tr>\n",
       "    <tr>\n",
       "      <th id=\"T_da973_level0_row5\" class=\"row_heading level0 row5\" >5</th>\n",
       "      <td id=\"T_da973_row5_col0\" class=\"data row5 col0\" >Missing Values</td>\n",
       "      <td id=\"T_da973_row5_col1\" class=\"data row5 col1\" >False</td>\n",
       "    </tr>\n",
       "    <tr>\n",
       "      <th id=\"T_da973_level0_row6\" class=\"row_heading level0 row6\" >6</th>\n",
       "      <td id=\"T_da973_row6_col0\" class=\"data row6 col0\" >Numeric Features</td>\n",
       "      <td id=\"T_da973_row6_col1\" class=\"data row6 col1\" >17</td>\n",
       "    </tr>\n",
       "    <tr>\n",
       "      <th id=\"T_da973_level0_row7\" class=\"row_heading level0 row7\" >7</th>\n",
       "      <td id=\"T_da973_row7_col0\" class=\"data row7 col0\" >Categorical Features</td>\n",
       "      <td id=\"T_da973_row7_col1\" class=\"data row7 col1\" >0</td>\n",
       "    </tr>\n",
       "    <tr>\n",
       "      <th id=\"T_da973_level0_row8\" class=\"row_heading level0 row8\" >8</th>\n",
       "      <td id=\"T_da973_row8_col0\" class=\"data row8 col0\" >Ordinal Features</td>\n",
       "      <td id=\"T_da973_row8_col1\" class=\"data row8 col1\" >False</td>\n",
       "    </tr>\n",
       "    <tr>\n",
       "      <th id=\"T_da973_level0_row9\" class=\"row_heading level0 row9\" >9</th>\n",
       "      <td id=\"T_da973_row9_col0\" class=\"data row9 col0\" >High Cardinality Features</td>\n",
       "      <td id=\"T_da973_row9_col1\" class=\"data row9 col1\" >False</td>\n",
       "    </tr>\n",
       "    <tr>\n",
       "      <th id=\"T_da973_level0_row10\" class=\"row_heading level0 row10\" >10</th>\n",
       "      <td id=\"T_da973_row10_col0\" class=\"data row10 col0\" >High Cardinality Method</td>\n",
       "      <td id=\"T_da973_row10_col1\" class=\"data row10 col1\" >None</td>\n",
       "    </tr>\n",
       "    <tr>\n",
       "      <th id=\"T_da973_level0_row11\" class=\"row_heading level0 row11\" >11</th>\n",
       "      <td id=\"T_da973_row11_col0\" class=\"data row11 col0\" >Transformed Train Set</td>\n",
       "      <td id=\"T_da973_row11_col1\" class=\"data row11 col1\" >(3464, 17)</td>\n",
       "    </tr>\n",
       "    <tr>\n",
       "      <th id=\"T_da973_level0_row12\" class=\"row_heading level0 row12\" >12</th>\n",
       "      <td id=\"T_da973_row12_col0\" class=\"data row12 col0\" >Transformed Test Set</td>\n",
       "      <td id=\"T_da973_row12_col1\" class=\"data row12 col1\" >(1486, 17)</td>\n",
       "    </tr>\n",
       "    <tr>\n",
       "      <th id=\"T_da973_level0_row13\" class=\"row_heading level0 row13\" >13</th>\n",
       "      <td id=\"T_da973_row13_col0\" class=\"data row13 col0\" >Shuffle Train-Test</td>\n",
       "      <td id=\"T_da973_row13_col1\" class=\"data row13 col1\" >True</td>\n",
       "    </tr>\n",
       "    <tr>\n",
       "      <th id=\"T_da973_level0_row14\" class=\"row_heading level0 row14\" >14</th>\n",
       "      <td id=\"T_da973_row14_col0\" class=\"data row14 col0\" >Stratify Train-Test</td>\n",
       "      <td id=\"T_da973_row14_col1\" class=\"data row14 col1\" >True</td>\n",
       "    </tr>\n",
       "    <tr>\n",
       "      <th id=\"T_da973_level0_row15\" class=\"row_heading level0 row15\" >15</th>\n",
       "      <td id=\"T_da973_row15_col0\" class=\"data row15 col0\" >Fold Generator</td>\n",
       "      <td id=\"T_da973_row15_col1\" class=\"data row15 col1\" >StratifiedKFold</td>\n",
       "    </tr>\n",
       "    <tr>\n",
       "      <th id=\"T_da973_level0_row16\" class=\"row_heading level0 row16\" >16</th>\n",
       "      <td id=\"T_da973_row16_col0\" class=\"data row16 col0\" >Fold Number</td>\n",
       "      <td id=\"T_da973_row16_col1\" class=\"data row16 col1\" >10</td>\n",
       "    </tr>\n",
       "    <tr>\n",
       "      <th id=\"T_da973_level0_row17\" class=\"row_heading level0 row17\" >17</th>\n",
       "      <td id=\"T_da973_row17_col0\" class=\"data row17 col0\" >CPU Jobs</td>\n",
       "      <td id=\"T_da973_row17_col1\" class=\"data row17 col1\" >12</td>\n",
       "    </tr>\n",
       "    <tr>\n",
       "      <th id=\"T_da973_level0_row18\" class=\"row_heading level0 row18\" >18</th>\n",
       "      <td id=\"T_da973_row18_col0\" class=\"data row18 col0\" >Use GPU</td>\n",
       "      <td id=\"T_da973_row18_col1\" class=\"data row18 col1\" >False</td>\n",
       "    </tr>\n",
       "    <tr>\n",
       "      <th id=\"T_da973_level0_row19\" class=\"row_heading level0 row19\" >19</th>\n",
       "      <td id=\"T_da973_row19_col0\" class=\"data row19 col0\" >Log Experiment</td>\n",
       "      <td id=\"T_da973_row19_col1\" class=\"data row19 col1\" >False</td>\n",
       "    </tr>\n",
       "    <tr>\n",
       "      <th id=\"T_da973_level0_row20\" class=\"row_heading level0 row20\" >20</th>\n",
       "      <td id=\"T_da973_row20_col0\" class=\"data row20 col0\" >Experiment Name</td>\n",
       "      <td id=\"T_da973_row20_col1\" class=\"data row20 col1\" >clf-default-name</td>\n",
       "    </tr>\n",
       "    <tr>\n",
       "      <th id=\"T_da973_level0_row21\" class=\"row_heading level0 row21\" >21</th>\n",
       "      <td id=\"T_da973_row21_col0\" class=\"data row21 col0\" >USI</td>\n",
       "      <td id=\"T_da973_row21_col1\" class=\"data row21 col1\" >dda6</td>\n",
       "    </tr>\n",
       "    <tr>\n",
       "      <th id=\"T_da973_level0_row22\" class=\"row_heading level0 row22\" >22</th>\n",
       "      <td id=\"T_da973_row22_col0\" class=\"data row22 col0\" >Imputation Type</td>\n",
       "      <td id=\"T_da973_row22_col1\" class=\"data row22 col1\" >simple</td>\n",
       "    </tr>\n",
       "    <tr>\n",
       "      <th id=\"T_da973_level0_row23\" class=\"row_heading level0 row23\" >23</th>\n",
       "      <td id=\"T_da973_row23_col0\" class=\"data row23 col0\" >Iterative Imputation Iteration</td>\n",
       "      <td id=\"T_da973_row23_col1\" class=\"data row23 col1\" >None</td>\n",
       "    </tr>\n",
       "    <tr>\n",
       "      <th id=\"T_da973_level0_row24\" class=\"row_heading level0 row24\" >24</th>\n",
       "      <td id=\"T_da973_row24_col0\" class=\"data row24 col0\" >Numeric Imputer</td>\n",
       "      <td id=\"T_da973_row24_col1\" class=\"data row24 col1\" >mean</td>\n",
       "    </tr>\n",
       "    <tr>\n",
       "      <th id=\"T_da973_level0_row25\" class=\"row_heading level0 row25\" >25</th>\n",
       "      <td id=\"T_da973_row25_col0\" class=\"data row25 col0\" >Iterative Imputation Numeric Model</td>\n",
       "      <td id=\"T_da973_row25_col1\" class=\"data row25 col1\" >None</td>\n",
       "    </tr>\n",
       "    <tr>\n",
       "      <th id=\"T_da973_level0_row26\" class=\"row_heading level0 row26\" >26</th>\n",
       "      <td id=\"T_da973_row26_col0\" class=\"data row26 col0\" >Categorical Imputer</td>\n",
       "      <td id=\"T_da973_row26_col1\" class=\"data row26 col1\" >constant</td>\n",
       "    </tr>\n",
       "    <tr>\n",
       "      <th id=\"T_da973_level0_row27\" class=\"row_heading level0 row27\" >27</th>\n",
       "      <td id=\"T_da973_row27_col0\" class=\"data row27 col0\" >Iterative Imputation Categorical Model</td>\n",
       "      <td id=\"T_da973_row27_col1\" class=\"data row27 col1\" >None</td>\n",
       "    </tr>\n",
       "    <tr>\n",
       "      <th id=\"T_da973_level0_row28\" class=\"row_heading level0 row28\" >28</th>\n",
       "      <td id=\"T_da973_row28_col0\" class=\"data row28 col0\" >Unknown Categoricals Handling</td>\n",
       "      <td id=\"T_da973_row28_col1\" class=\"data row28 col1\" >least_frequent</td>\n",
       "    </tr>\n",
       "    <tr>\n",
       "      <th id=\"T_da973_level0_row29\" class=\"row_heading level0 row29\" >29</th>\n",
       "      <td id=\"T_da973_row29_col0\" class=\"data row29 col0\" >Normalize</td>\n",
       "      <td id=\"T_da973_row29_col1\" class=\"data row29 col1\" >True</td>\n",
       "    </tr>\n",
       "    <tr>\n",
       "      <th id=\"T_da973_level0_row30\" class=\"row_heading level0 row30\" >30</th>\n",
       "      <td id=\"T_da973_row30_col0\" class=\"data row30 col0\" >Normalize Method</td>\n",
       "      <td id=\"T_da973_row30_col1\" class=\"data row30 col1\" >zscore</td>\n",
       "    </tr>\n",
       "    <tr>\n",
       "      <th id=\"T_da973_level0_row31\" class=\"row_heading level0 row31\" >31</th>\n",
       "      <td id=\"T_da973_row31_col0\" class=\"data row31 col0\" >Transformation</td>\n",
       "      <td id=\"T_da973_row31_col1\" class=\"data row31 col1\" >True</td>\n",
       "    </tr>\n",
       "    <tr>\n",
       "      <th id=\"T_da973_level0_row32\" class=\"row_heading level0 row32\" >32</th>\n",
       "      <td id=\"T_da973_row32_col0\" class=\"data row32 col0\" >Transformation Method</td>\n",
       "      <td id=\"T_da973_row32_col1\" class=\"data row32 col1\" >yeo-johnson</td>\n",
       "    </tr>\n",
       "    <tr>\n",
       "      <th id=\"T_da973_level0_row33\" class=\"row_heading level0 row33\" >33</th>\n",
       "      <td id=\"T_da973_row33_col0\" class=\"data row33 col0\" >PCA</td>\n",
       "      <td id=\"T_da973_row33_col1\" class=\"data row33 col1\" >False</td>\n",
       "    </tr>\n",
       "    <tr>\n",
       "      <th id=\"T_da973_level0_row34\" class=\"row_heading level0 row34\" >34</th>\n",
       "      <td id=\"T_da973_row34_col0\" class=\"data row34 col0\" >PCA Method</td>\n",
       "      <td id=\"T_da973_row34_col1\" class=\"data row34 col1\" >None</td>\n",
       "    </tr>\n",
       "    <tr>\n",
       "      <th id=\"T_da973_level0_row35\" class=\"row_heading level0 row35\" >35</th>\n",
       "      <td id=\"T_da973_row35_col0\" class=\"data row35 col0\" >PCA Components</td>\n",
       "      <td id=\"T_da973_row35_col1\" class=\"data row35 col1\" >None</td>\n",
       "    </tr>\n",
       "    <tr>\n",
       "      <th id=\"T_da973_level0_row36\" class=\"row_heading level0 row36\" >36</th>\n",
       "      <td id=\"T_da973_row36_col0\" class=\"data row36 col0\" >Ignore Low Variance</td>\n",
       "      <td id=\"T_da973_row36_col1\" class=\"data row36 col1\" >False</td>\n",
       "    </tr>\n",
       "    <tr>\n",
       "      <th id=\"T_da973_level0_row37\" class=\"row_heading level0 row37\" >37</th>\n",
       "      <td id=\"T_da973_row37_col0\" class=\"data row37 col0\" >Combine Rare Levels</td>\n",
       "      <td id=\"T_da973_row37_col1\" class=\"data row37 col1\" >False</td>\n",
       "    </tr>\n",
       "    <tr>\n",
       "      <th id=\"T_da973_level0_row38\" class=\"row_heading level0 row38\" >38</th>\n",
       "      <td id=\"T_da973_row38_col0\" class=\"data row38 col0\" >Rare Level Threshold</td>\n",
       "      <td id=\"T_da973_row38_col1\" class=\"data row38 col1\" >None</td>\n",
       "    </tr>\n",
       "    <tr>\n",
       "      <th id=\"T_da973_level0_row39\" class=\"row_heading level0 row39\" >39</th>\n",
       "      <td id=\"T_da973_row39_col0\" class=\"data row39 col0\" >Numeric Binning</td>\n",
       "      <td id=\"T_da973_row39_col1\" class=\"data row39 col1\" >False</td>\n",
       "    </tr>\n",
       "    <tr>\n",
       "      <th id=\"T_da973_level0_row40\" class=\"row_heading level0 row40\" >40</th>\n",
       "      <td id=\"T_da973_row40_col0\" class=\"data row40 col0\" >Remove Outliers</td>\n",
       "      <td id=\"T_da973_row40_col1\" class=\"data row40 col1\" >False</td>\n",
       "    </tr>\n",
       "    <tr>\n",
       "      <th id=\"T_da973_level0_row41\" class=\"row_heading level0 row41\" >41</th>\n",
       "      <td id=\"T_da973_row41_col0\" class=\"data row41 col0\" >Outliers Threshold</td>\n",
       "      <td id=\"T_da973_row41_col1\" class=\"data row41 col1\" >None</td>\n",
       "    </tr>\n",
       "    <tr>\n",
       "      <th id=\"T_da973_level0_row42\" class=\"row_heading level0 row42\" >42</th>\n",
       "      <td id=\"T_da973_row42_col0\" class=\"data row42 col0\" >Remove Multicollinearity</td>\n",
       "      <td id=\"T_da973_row42_col1\" class=\"data row42 col1\" >False</td>\n",
       "    </tr>\n",
       "    <tr>\n",
       "      <th id=\"T_da973_level0_row43\" class=\"row_heading level0 row43\" >43</th>\n",
       "      <td id=\"T_da973_row43_col0\" class=\"data row43 col0\" >Multicollinearity Threshold</td>\n",
       "      <td id=\"T_da973_row43_col1\" class=\"data row43 col1\" >None</td>\n",
       "    </tr>\n",
       "    <tr>\n",
       "      <th id=\"T_da973_level0_row44\" class=\"row_heading level0 row44\" >44</th>\n",
       "      <td id=\"T_da973_row44_col0\" class=\"data row44 col0\" >Remove Perfect Collinearity</td>\n",
       "      <td id=\"T_da973_row44_col1\" class=\"data row44 col1\" >True</td>\n",
       "    </tr>\n",
       "    <tr>\n",
       "      <th id=\"T_da973_level0_row45\" class=\"row_heading level0 row45\" >45</th>\n",
       "      <td id=\"T_da973_row45_col0\" class=\"data row45 col0\" >Clustering</td>\n",
       "      <td id=\"T_da973_row45_col1\" class=\"data row45 col1\" >False</td>\n",
       "    </tr>\n",
       "    <tr>\n",
       "      <th id=\"T_da973_level0_row46\" class=\"row_heading level0 row46\" >46</th>\n",
       "      <td id=\"T_da973_row46_col0\" class=\"data row46 col0\" >Clustering Iteration</td>\n",
       "      <td id=\"T_da973_row46_col1\" class=\"data row46 col1\" >None</td>\n",
       "    </tr>\n",
       "    <tr>\n",
       "      <th id=\"T_da973_level0_row47\" class=\"row_heading level0 row47\" >47</th>\n",
       "      <td id=\"T_da973_row47_col0\" class=\"data row47 col0\" >Polynomial Features</td>\n",
       "      <td id=\"T_da973_row47_col1\" class=\"data row47 col1\" >False</td>\n",
       "    </tr>\n",
       "    <tr>\n",
       "      <th id=\"T_da973_level0_row48\" class=\"row_heading level0 row48\" >48</th>\n",
       "      <td id=\"T_da973_row48_col0\" class=\"data row48 col0\" >Polynomial Degree</td>\n",
       "      <td id=\"T_da973_row48_col1\" class=\"data row48 col1\" >None</td>\n",
       "    </tr>\n",
       "    <tr>\n",
       "      <th id=\"T_da973_level0_row49\" class=\"row_heading level0 row49\" >49</th>\n",
       "      <td id=\"T_da973_row49_col0\" class=\"data row49 col0\" >Trignometry Features</td>\n",
       "      <td id=\"T_da973_row49_col1\" class=\"data row49 col1\" >False</td>\n",
       "    </tr>\n",
       "    <tr>\n",
       "      <th id=\"T_da973_level0_row50\" class=\"row_heading level0 row50\" >50</th>\n",
       "      <td id=\"T_da973_row50_col0\" class=\"data row50 col0\" >Polynomial Threshold</td>\n",
       "      <td id=\"T_da973_row50_col1\" class=\"data row50 col1\" >None</td>\n",
       "    </tr>\n",
       "    <tr>\n",
       "      <th id=\"T_da973_level0_row51\" class=\"row_heading level0 row51\" >51</th>\n",
       "      <td id=\"T_da973_row51_col0\" class=\"data row51 col0\" >Group Features</td>\n",
       "      <td id=\"T_da973_row51_col1\" class=\"data row51 col1\" >False</td>\n",
       "    </tr>\n",
       "    <tr>\n",
       "      <th id=\"T_da973_level0_row52\" class=\"row_heading level0 row52\" >52</th>\n",
       "      <td id=\"T_da973_row52_col0\" class=\"data row52 col0\" >Feature Selection</td>\n",
       "      <td id=\"T_da973_row52_col1\" class=\"data row52 col1\" >False</td>\n",
       "    </tr>\n",
       "    <tr>\n",
       "      <th id=\"T_da973_level0_row53\" class=\"row_heading level0 row53\" >53</th>\n",
       "      <td id=\"T_da973_row53_col0\" class=\"data row53 col0\" >Feature Selection Method</td>\n",
       "      <td id=\"T_da973_row53_col1\" class=\"data row53 col1\" >boruta</td>\n",
       "    </tr>\n",
       "    <tr>\n",
       "      <th id=\"T_da973_level0_row54\" class=\"row_heading level0 row54\" >54</th>\n",
       "      <td id=\"T_da973_row54_col0\" class=\"data row54 col0\" >Features Selection Threshold</td>\n",
       "      <td id=\"T_da973_row54_col1\" class=\"data row54 col1\" >None</td>\n",
       "    </tr>\n",
       "    <tr>\n",
       "      <th id=\"T_da973_level0_row55\" class=\"row_heading level0 row55\" >55</th>\n",
       "      <td id=\"T_da973_row55_col0\" class=\"data row55 col0\" >Feature Interaction</td>\n",
       "      <td id=\"T_da973_row55_col1\" class=\"data row55 col1\" >False</td>\n",
       "    </tr>\n",
       "    <tr>\n",
       "      <th id=\"T_da973_level0_row56\" class=\"row_heading level0 row56\" >56</th>\n",
       "      <td id=\"T_da973_row56_col0\" class=\"data row56 col0\" >Feature Ratio</td>\n",
       "      <td id=\"T_da973_row56_col1\" class=\"data row56 col1\" >False</td>\n",
       "    </tr>\n",
       "    <tr>\n",
       "      <th id=\"T_da973_level0_row57\" class=\"row_heading level0 row57\" >57</th>\n",
       "      <td id=\"T_da973_row57_col0\" class=\"data row57 col0\" >Interaction Threshold</td>\n",
       "      <td id=\"T_da973_row57_col1\" class=\"data row57 col1\" >None</td>\n",
       "    </tr>\n",
       "    <tr>\n",
       "      <th id=\"T_da973_level0_row58\" class=\"row_heading level0 row58\" >58</th>\n",
       "      <td id=\"T_da973_row58_col0\" class=\"data row58 col0\" >Fix Imbalance</td>\n",
       "      <td id=\"T_da973_row58_col1\" class=\"data row58 col1\" >False</td>\n",
       "    </tr>\n",
       "    <tr>\n",
       "      <th id=\"T_da973_level0_row59\" class=\"row_heading level0 row59\" >59</th>\n",
       "      <td id=\"T_da973_row59_col0\" class=\"data row59 col0\" >Fix Imbalance Method</td>\n",
       "      <td id=\"T_da973_row59_col1\" class=\"data row59 col1\" >SMOTE</td>\n",
       "    </tr>\n",
       "  </tbody>\n",
       "</table>\n"
      ],
      "text/plain": [
       "<pandas.io.formats.style.Styler at 0x7fc748a9a580>"
      ]
     },
     "metadata": {},
     "output_type": "display_data"
    }
   ],
   "source": [
    "exp_AGN = pyc.setup(data=train_test_df, target='class', session_id=seed, silent=True,\\\n",
    "                    feature_selection=False, feature_selection_method='boruta', data_split_stratify=True,\\\n",
    "                    numeric_features=final_feats, ignore_features=feats_2_discard, transformation=True,\\\n",
    "                    transformation_method='yeo-johnson', n_jobs=12, normalize=True,\\\n",
    "                    normalize_method='zscore', use_gpu=False)  # 15 minutes with Boruta # 5 without"
   ]
  },
  {
   "cell_type": "code",
   "execution_count": 60,
   "id": "f3bb6748",
   "metadata": {
    "id": "ykHUiWyetG0G"
   },
   "outputs": [
    {
     "data": {
      "text/plain": [
       "Index(['W4mag', 'g_r', 'r_i', 'r_z', 'r_J', 'r_W1', 'i_z', 'i_y', 'z_y', 'y_J',\n",
       "       'y_W2', 'J_H', 'H_K', 'H_W4', 'K_W3', 'W1_W2', 'W1_W3'],\n",
       "      dtype='object')"
      ]
     },
     "execution_count": 60,
     "metadata": {},
     "output_type": "execute_result"
    }
   ],
   "source": [
    "pyc.get_config('X').columns"
   ]
  },
  {
   "cell_type": "code",
   "execution_count": 61,
   "id": "2bada227",
   "metadata": {
    "id": "JFF_T52ztI11"
   },
   "outputs": [
    {
     "data": {
      "text/html": [
       "<div>\n",
       "<style scoped>\n",
       "    .dataframe tbody tr th:only-of-type {\n",
       "        vertical-align: middle;\n",
       "    }\n",
       "\n",
       "    .dataframe tbody tr th {\n",
       "        vertical-align: top;\n",
       "    }\n",
       "\n",
       "    .dataframe thead th {\n",
       "        text-align: right;\n",
       "    }\n",
       "</style>\n",
       "<table border=\"1\" class=\"dataframe\">\n",
       "  <thead>\n",
       "    <tr style=\"text-align: right;\">\n",
       "      <th></th>\n",
       "      <th>Name</th>\n",
       "      <th>Reference</th>\n",
       "      <th>Turbo</th>\n",
       "    </tr>\n",
       "    <tr>\n",
       "      <th>ID</th>\n",
       "      <th></th>\n",
       "      <th></th>\n",
       "      <th></th>\n",
       "    </tr>\n",
       "  </thead>\n",
       "  <tbody>\n",
       "    <tr>\n",
       "      <th>lr</th>\n",
       "      <td>Logistic Regression</td>\n",
       "      <td>sklearn.linear_model._logistic.LogisticRegression</td>\n",
       "      <td>True</td>\n",
       "    </tr>\n",
       "    <tr>\n",
       "      <th>knn</th>\n",
       "      <td>K Neighbors Classifier</td>\n",
       "      <td>sklearn.neighbors._classification.KNeighborsCl...</td>\n",
       "      <td>True</td>\n",
       "    </tr>\n",
       "    <tr>\n",
       "      <th>nb</th>\n",
       "      <td>Naive Bayes</td>\n",
       "      <td>sklearn.naive_bayes.GaussianNB</td>\n",
       "      <td>True</td>\n",
       "    </tr>\n",
       "    <tr>\n",
       "      <th>dt</th>\n",
       "      <td>Decision Tree Classifier</td>\n",
       "      <td>sklearn.tree._classes.DecisionTreeClassifier</td>\n",
       "      <td>True</td>\n",
       "    </tr>\n",
       "    <tr>\n",
       "      <th>svm</th>\n",
       "      <td>SVM - Linear Kernel</td>\n",
       "      <td>sklearn.linear_model._stochastic_gradient.SGDC...</td>\n",
       "      <td>True</td>\n",
       "    </tr>\n",
       "    <tr>\n",
       "      <th>rbfsvm</th>\n",
       "      <td>SVM - Radial Kernel</td>\n",
       "      <td>sklearn.svm._classes.SVC</td>\n",
       "      <td>False</td>\n",
       "    </tr>\n",
       "    <tr>\n",
       "      <th>gpc</th>\n",
       "      <td>Gaussian Process Classifier</td>\n",
       "      <td>sklearn.gaussian_process._gpc.GaussianProcessC...</td>\n",
       "      <td>False</td>\n",
       "    </tr>\n",
       "    <tr>\n",
       "      <th>mlp</th>\n",
       "      <td>MLP Classifier</td>\n",
       "      <td>sklearn.neural_network._multilayer_perceptron....</td>\n",
       "      <td>False</td>\n",
       "    </tr>\n",
       "    <tr>\n",
       "      <th>ridge</th>\n",
       "      <td>Ridge Classifier</td>\n",
       "      <td>sklearn.linear_model._ridge.RidgeClassifier</td>\n",
       "      <td>True</td>\n",
       "    </tr>\n",
       "    <tr>\n",
       "      <th>rf</th>\n",
       "      <td>Random Forest Classifier</td>\n",
       "      <td>sklearn.ensemble._forest.RandomForestClassifier</td>\n",
       "      <td>True</td>\n",
       "    </tr>\n",
       "    <tr>\n",
       "      <th>qda</th>\n",
       "      <td>Quadratic Discriminant Analysis</td>\n",
       "      <td>sklearn.discriminant_analysis.QuadraticDiscrim...</td>\n",
       "      <td>True</td>\n",
       "    </tr>\n",
       "    <tr>\n",
       "      <th>ada</th>\n",
       "      <td>Ada Boost Classifier</td>\n",
       "      <td>sklearn.ensemble._weight_boosting.AdaBoostClas...</td>\n",
       "      <td>True</td>\n",
       "    </tr>\n",
       "    <tr>\n",
       "      <th>gbc</th>\n",
       "      <td>Gradient Boosting Classifier</td>\n",
       "      <td>sklearn.ensemble._gb.GradientBoostingClassifier</td>\n",
       "      <td>True</td>\n",
       "    </tr>\n",
       "    <tr>\n",
       "      <th>lda</th>\n",
       "      <td>Linear Discriminant Analysis</td>\n",
       "      <td>sklearn.discriminant_analysis.LinearDiscrimina...</td>\n",
       "      <td>True</td>\n",
       "    </tr>\n",
       "    <tr>\n",
       "      <th>et</th>\n",
       "      <td>Extra Trees Classifier</td>\n",
       "      <td>sklearn.ensemble._forest.ExtraTreesClassifier</td>\n",
       "      <td>True</td>\n",
       "    </tr>\n",
       "    <tr>\n",
       "      <th>xgboost</th>\n",
       "      <td>Extreme Gradient Boosting</td>\n",
       "      <td>xgboost.sklearn.XGBClassifier</td>\n",
       "      <td>True</td>\n",
       "    </tr>\n",
       "    <tr>\n",
       "      <th>lightgbm</th>\n",
       "      <td>Light Gradient Boosting Machine</td>\n",
       "      <td>lightgbm.sklearn.LGBMClassifier</td>\n",
       "      <td>True</td>\n",
       "    </tr>\n",
       "    <tr>\n",
       "      <th>catboost</th>\n",
       "      <td>CatBoost Classifier</td>\n",
       "      <td>catboost.core.CatBoostClassifier</td>\n",
       "      <td>True</td>\n",
       "    </tr>\n",
       "    <tr>\n",
       "      <th>dummy</th>\n",
       "      <td>Dummy Classifier</td>\n",
       "      <td>sklearn.dummy.DummyClassifier</td>\n",
       "      <td>True</td>\n",
       "    </tr>\n",
       "  </tbody>\n",
       "</table>\n",
       "</div>"
      ],
      "text/plain": [
       "                                     Name  \\\n",
       "ID                                          \n",
       "lr                    Logistic Regression   \n",
       "knn                K Neighbors Classifier   \n",
       "nb                            Naive Bayes   \n",
       "dt               Decision Tree Classifier   \n",
       "svm                   SVM - Linear Kernel   \n",
       "rbfsvm                SVM - Radial Kernel   \n",
       "gpc           Gaussian Process Classifier   \n",
       "mlp                        MLP Classifier   \n",
       "ridge                    Ridge Classifier   \n",
       "rf               Random Forest Classifier   \n",
       "qda       Quadratic Discriminant Analysis   \n",
       "ada                  Ada Boost Classifier   \n",
       "gbc          Gradient Boosting Classifier   \n",
       "lda          Linear Discriminant Analysis   \n",
       "et                 Extra Trees Classifier   \n",
       "xgboost         Extreme Gradient Boosting   \n",
       "lightgbm  Light Gradient Boosting Machine   \n",
       "catboost              CatBoost Classifier   \n",
       "dummy                    Dummy Classifier   \n",
       "\n",
       "                                                  Reference  Turbo  \n",
       "ID                                                                  \n",
       "lr        sklearn.linear_model._logistic.LogisticRegression   True  \n",
       "knn       sklearn.neighbors._classification.KNeighborsCl...   True  \n",
       "nb                           sklearn.naive_bayes.GaussianNB   True  \n",
       "dt             sklearn.tree._classes.DecisionTreeClassifier   True  \n",
       "svm       sklearn.linear_model._stochastic_gradient.SGDC...   True  \n",
       "rbfsvm                             sklearn.svm._classes.SVC  False  \n",
       "gpc       sklearn.gaussian_process._gpc.GaussianProcessC...  False  \n",
       "mlp       sklearn.neural_network._multilayer_perceptron....  False  \n",
       "ridge           sklearn.linear_model._ridge.RidgeClassifier   True  \n",
       "rf          sklearn.ensemble._forest.RandomForestClassifier   True  \n",
       "qda       sklearn.discriminant_analysis.QuadraticDiscrim...   True  \n",
       "ada       sklearn.ensemble._weight_boosting.AdaBoostClas...   True  \n",
       "gbc         sklearn.ensemble._gb.GradientBoostingClassifier   True  \n",
       "lda       sklearn.discriminant_analysis.LinearDiscrimina...   True  \n",
       "et            sklearn.ensemble._forest.ExtraTreesClassifier   True  \n",
       "xgboost                       xgboost.sklearn.XGBClassifier   True  \n",
       "lightgbm                    lightgbm.sklearn.LGBMClassifier   True  \n",
       "catboost                   catboost.core.CatBoostClassifier   True  \n",
       "dummy                         sklearn.dummy.DummyClassifier   True  "
      ]
     },
     "execution_count": 61,
     "metadata": {},
     "output_type": "execute_result"
    }
   ],
   "source": [
    "pyc.models()"
   ]
  },
  {
   "cell_type": "code",
   "execution_count": 62,
   "id": "a539acf2",
   "metadata": {},
   "outputs": [],
   "source": [
    "metric_to_optimize   = 'Recall'"
   ]
  },
  {
   "cell_type": "code",
   "execution_count": 63,
   "id": "4a4569d0",
   "metadata": {
    "id": "m3mCNspXtLnI"
   },
   "outputs": [
    {
     "data": {
      "text/html": [
       "<style type=\"text/css\">\n",
       "#T_f6874 th {\n",
       "  text-align: left;\n",
       "}\n",
       "#T_f6874_row0_col0, #T_f6874_row0_col4, #T_f6874_row1_col0, #T_f6874_row1_col1, #T_f6874_row1_col2, #T_f6874_row1_col3, #T_f6874_row1_col4, #T_f6874_row1_col5, #T_f6874_row1_col6, #T_f6874_row1_col7, #T_f6874_row2_col0, #T_f6874_row2_col1, #T_f6874_row2_col2, #T_f6874_row2_col3, #T_f6874_row2_col4, #T_f6874_row2_col5, #T_f6874_row2_col6, #T_f6874_row2_col7, #T_f6874_row3_col0, #T_f6874_row3_col1, #T_f6874_row3_col2, #T_f6874_row3_col3, #T_f6874_row3_col5, #T_f6874_row3_col6, #T_f6874_row3_col7, #T_f6874_row4_col0, #T_f6874_row4_col1, #T_f6874_row4_col2, #T_f6874_row4_col3, #T_f6874_row4_col4, #T_f6874_row4_col5, #T_f6874_row4_col6, #T_f6874_row4_col7, #T_f6874_row5_col0, #T_f6874_row5_col1, #T_f6874_row5_col2, #T_f6874_row5_col3, #T_f6874_row5_col4, #T_f6874_row5_col5, #T_f6874_row5_col6, #T_f6874_row5_col7, #T_f6874_row6_col0, #T_f6874_row6_col1, #T_f6874_row6_col2, #T_f6874_row6_col3, #T_f6874_row6_col4, #T_f6874_row6_col5, #T_f6874_row6_col6, #T_f6874_row6_col7, #T_f6874_row7_col0, #T_f6874_row7_col1, #T_f6874_row7_col2, #T_f6874_row7_col3, #T_f6874_row7_col4, #T_f6874_row7_col5, #T_f6874_row7_col6, #T_f6874_row7_col7, #T_f6874_row8_col0, #T_f6874_row8_col1, #T_f6874_row8_col2, #T_f6874_row8_col3, #T_f6874_row8_col4, #T_f6874_row8_col5, #T_f6874_row8_col6, #T_f6874_row8_col7 {\n",
       "  text-align: left;\n",
       "}\n",
       "#T_f6874_row0_col1, #T_f6874_row0_col2, #T_f6874_row0_col3, #T_f6874_row0_col5, #T_f6874_row0_col6, #T_f6874_row0_col7, #T_f6874_row3_col4 {\n",
       "  text-align: left;\n",
       "  background-color: yellow;\n",
       "}\n",
       "#T_f6874_row0_col8, #T_f6874_row1_col8, #T_f6874_row2_col8, #T_f6874_row3_col8, #T_f6874_row4_col8, #T_f6874_row5_col8, #T_f6874_row6_col8, #T_f6874_row7_col8 {\n",
       "  text-align: left;\n",
       "  background-color: lightgrey;\n",
       "}\n",
       "#T_f6874_row8_col8 {\n",
       "  text-align: left;\n",
       "  background-color: yellow;\n",
       "  background-color: lightgrey;\n",
       "}\n",
       "</style>\n",
       "<table id=\"T_f6874\">\n",
       "  <thead>\n",
       "    <tr>\n",
       "      <th class=\"blank level0\" >&nbsp;</th>\n",
       "      <th id=\"T_f6874_level0_col0\" class=\"col_heading level0 col0\" >Model</th>\n",
       "      <th id=\"T_f6874_level0_col1\" class=\"col_heading level0 col1\" >Accuracy</th>\n",
       "      <th id=\"T_f6874_level0_col2\" class=\"col_heading level0 col2\" >AUC</th>\n",
       "      <th id=\"T_f6874_level0_col3\" class=\"col_heading level0 col3\" >Recall</th>\n",
       "      <th id=\"T_f6874_level0_col4\" class=\"col_heading level0 col4\" >Prec.</th>\n",
       "      <th id=\"T_f6874_level0_col5\" class=\"col_heading level0 col5\" >F1</th>\n",
       "      <th id=\"T_f6874_level0_col6\" class=\"col_heading level0 col6\" >Kappa</th>\n",
       "      <th id=\"T_f6874_level0_col7\" class=\"col_heading level0 col7\" >MCC</th>\n",
       "      <th id=\"T_f6874_level0_col8\" class=\"col_heading level0 col8\" >TT (Sec)</th>\n",
       "    </tr>\n",
       "  </thead>\n",
       "  <tbody>\n",
       "    <tr>\n",
       "      <th id=\"T_f6874_level0_row0\" class=\"row_heading level0 row0\" >catboost</th>\n",
       "      <td id=\"T_f6874_row0_col0\" class=\"data row0 col0\" >CatBoost Classifier</td>\n",
       "      <td id=\"T_f6874_row0_col1\" class=\"data row0 col1\" >0.9576</td>\n",
       "      <td id=\"T_f6874_row0_col2\" class=\"data row0 col2\" >0.9882</td>\n",
       "      <td id=\"T_f6874_row0_col3\" class=\"data row0 col3\" >0.9292</td>\n",
       "      <td id=\"T_f6874_row0_col4\" class=\"data row0 col4\" >0.9463</td>\n",
       "      <td id=\"T_f6874_row0_col5\" class=\"data row0 col5\" >0.9374</td>\n",
       "      <td id=\"T_f6874_row0_col6\" class=\"data row0 col6\" >0.9053</td>\n",
       "      <td id=\"T_f6874_row0_col7\" class=\"data row0 col7\" >0.9057</td>\n",
       "      <td id=\"T_f6874_row0_col8\" class=\"data row0 col8\" >0.5820</td>\n",
       "    </tr>\n",
       "    <tr>\n",
       "      <th id=\"T_f6874_level0_row1\" class=\"row_heading level0 row1\" >gbc</th>\n",
       "      <td id=\"T_f6874_row1_col0\" class=\"data row1 col0\" >Gradient Boosting Classifier</td>\n",
       "      <td id=\"T_f6874_row1_col1\" class=\"data row1 col1\" >0.9521</td>\n",
       "      <td id=\"T_f6874_row1_col2\" class=\"data row1 col2\" >0.9869</td>\n",
       "      <td id=\"T_f6874_row1_col3\" class=\"data row1 col3\" >0.9242</td>\n",
       "      <td id=\"T_f6874_row1_col4\" class=\"data row1 col4\" >0.9355</td>\n",
       "      <td id=\"T_f6874_row1_col5\" class=\"data row1 col5\" >0.9296</td>\n",
       "      <td id=\"T_f6874_row1_col6\" class=\"data row1 col6\" >0.8933</td>\n",
       "      <td id=\"T_f6874_row1_col7\" class=\"data row1 col7\" >0.8935</td>\n",
       "      <td id=\"T_f6874_row1_col8\" class=\"data row1 col8\" >0.1330</td>\n",
       "    </tr>\n",
       "    <tr>\n",
       "      <th id=\"T_f6874_level0_row2\" class=\"row_heading level0 row2\" >svm</th>\n",
       "      <td id=\"T_f6874_row2_col0\" class=\"data row2 col0\" >SVM - Linear Kernel</td>\n",
       "      <td id=\"T_f6874_row2_col1\" class=\"data row2 col1\" >0.9397</td>\n",
       "      <td id=\"T_f6874_row2_col2\" class=\"data row2 col2\" >0.0000</td>\n",
       "      <td id=\"T_f6874_row2_col3\" class=\"data row2 col3\" >0.9233</td>\n",
       "      <td id=\"T_f6874_row2_col4\" class=\"data row2 col4\" >0.9036</td>\n",
       "      <td id=\"T_f6874_row2_col5\" class=\"data row2 col5\" >0.9129</td>\n",
       "      <td id=\"T_f6874_row2_col6\" class=\"data row2 col6\" >0.8668</td>\n",
       "      <td id=\"T_f6874_row2_col7\" class=\"data row2 col7\" >0.8674</td>\n",
       "      <td id=\"T_f6874_row2_col8\" class=\"data row2 col8\" >0.1420</td>\n",
       "    </tr>\n",
       "    <tr>\n",
       "      <th id=\"T_f6874_level0_row3\" class=\"row_heading level0 row3\" >rf</th>\n",
       "      <td id=\"T_f6874_row3_col0\" class=\"data row3 col0\" >Random Forest Classifier</td>\n",
       "      <td id=\"T_f6874_row3_col1\" class=\"data row3 col1\" >0.9550</td>\n",
       "      <td id=\"T_f6874_row3_col2\" class=\"data row3 col2\" >0.9828</td>\n",
       "      <td id=\"T_f6874_row3_col3\" class=\"data row3 col3\" >0.9208</td>\n",
       "      <td id=\"T_f6874_row3_col4\" class=\"data row3 col4\" >0.9469</td>\n",
       "      <td id=\"T_f6874_row3_col5\" class=\"data row3 col5\" >0.9333</td>\n",
       "      <td id=\"T_f6874_row3_col6\" class=\"data row3 col6\" >0.8993</td>\n",
       "      <td id=\"T_f6874_row3_col7\" class=\"data row3 col7\" >0.8999</td>\n",
       "      <td id=\"T_f6874_row3_col8\" class=\"data row3 col8\" >0.0620</td>\n",
       "    </tr>\n",
       "    <tr>\n",
       "      <th id=\"T_f6874_level0_row4\" class=\"row_heading level0 row4\" >xgboost</th>\n",
       "      <td id=\"T_f6874_row4_col0\" class=\"data row4 col0\" >Extreme Gradient Boosting</td>\n",
       "      <td id=\"T_f6874_row4_col1\" class=\"data row4 col1\" >0.9509</td>\n",
       "      <td id=\"T_f6874_row4_col2\" class=\"data row4 col2\" >0.9849</td>\n",
       "      <td id=\"T_f6874_row4_col3\" class=\"data row4 col3\" >0.9183</td>\n",
       "      <td id=\"T_f6874_row4_col4\" class=\"data row4 col4\" >0.9376</td>\n",
       "      <td id=\"T_f6874_row4_col5\" class=\"data row4 col5\" >0.9276</td>\n",
       "      <td id=\"T_f6874_row4_col6\" class=\"data row4 col6\" >0.8905</td>\n",
       "      <td id=\"T_f6874_row4_col7\" class=\"data row4 col7\" >0.8909</td>\n",
       "      <td id=\"T_f6874_row4_col8\" class=\"data row4 col8\" >6.7070</td>\n",
       "    </tr>\n",
       "    <tr>\n",
       "      <th id=\"T_f6874_level0_row5\" class=\"row_heading level0 row5\" >et</th>\n",
       "      <td id=\"T_f6874_row5_col0\" class=\"data row5 col0\" >Extra Trees Classifier</td>\n",
       "      <td id=\"T_f6874_row5_col1\" class=\"data row5 col1\" >0.9532</td>\n",
       "      <td id=\"T_f6874_row5_col2\" class=\"data row5 col2\" >0.9831</td>\n",
       "      <td id=\"T_f6874_row5_col3\" class=\"data row5 col3\" >0.9166</td>\n",
       "      <td id=\"T_f6874_row5_col4\" class=\"data row5 col4\" >0.9459</td>\n",
       "      <td id=\"T_f6874_row5_col5\" class=\"data row5 col5\" >0.9306</td>\n",
       "      <td id=\"T_f6874_row5_col6\" class=\"data row5 col6\" >0.8954</td>\n",
       "      <td id=\"T_f6874_row5_col7\" class=\"data row5 col7\" >0.8960</td>\n",
       "      <td id=\"T_f6874_row5_col8\" class=\"data row5 col8\" >0.0370</td>\n",
       "    </tr>\n",
       "    <tr>\n",
       "      <th id=\"T_f6874_level0_row6\" class=\"row_heading level0 row6\" >ada</th>\n",
       "      <td id=\"T_f6874_row6_col0\" class=\"data row6 col0\" >Ada Boost Classifier</td>\n",
       "      <td id=\"T_f6874_row6_col1\" class=\"data row6 col1\" >0.9483</td>\n",
       "      <td id=\"T_f6874_row6_col2\" class=\"data row6 col2\" >0.9807</td>\n",
       "      <td id=\"T_f6874_row6_col3\" class=\"data row6 col3\" >0.9157</td>\n",
       "      <td id=\"T_f6874_row6_col4\" class=\"data row6 col4\" >0.9326</td>\n",
       "      <td id=\"T_f6874_row6_col5\" class=\"data row6 col5\" >0.9239</td>\n",
       "      <td id=\"T_f6874_row6_col6\" class=\"data row6 col6\" >0.8848</td>\n",
       "      <td id=\"T_f6874_row6_col7\" class=\"data row6 col7\" >0.8851</td>\n",
       "      <td id=\"T_f6874_row6_col8\" class=\"data row6 col8\" >0.0400</td>\n",
       "    </tr>\n",
       "    <tr>\n",
       "      <th id=\"T_f6874_level0_row7\" class=\"row_heading level0 row7\" >dt</th>\n",
       "      <td id=\"T_f6874_row7_col0\" class=\"data row7 col0\" >Decision Tree Classifier</td>\n",
       "      <td id=\"T_f6874_row7_col1\" class=\"data row7 col1\" >0.9324</td>\n",
       "      <td id=\"T_f6874_row7_col2\" class=\"data row7 col2\" >0.9262</td>\n",
       "      <td id=\"T_f6874_row7_col3\" class=\"data row7 col3\" >0.8972</td>\n",
       "      <td id=\"T_f6874_row7_col4\" class=\"data row7 col4\" >0.9050</td>\n",
       "      <td id=\"T_f6874_row7_col5\" class=\"data row7 col5\" >0.9009</td>\n",
       "      <td id=\"T_f6874_row7_col6\" class=\"data row7 col6\" >0.8496</td>\n",
       "      <td id=\"T_f6874_row7_col7\" class=\"data row7 col7\" >0.8499</td>\n",
       "      <td id=\"T_f6874_row7_col8\" class=\"data row7 col8\" >0.2220</td>\n",
       "    </tr>\n",
       "    <tr>\n",
       "      <th id=\"T_f6874_level0_row8\" class=\"row_heading level0 row8\" >dummy</th>\n",
       "      <td id=\"T_f6874_row8_col0\" class=\"data row8 col0\" >Dummy Classifier</td>\n",
       "      <td id=\"T_f6874_row8_col1\" class=\"data row8 col1\" >0.6573</td>\n",
       "      <td id=\"T_f6874_row8_col2\" class=\"data row8 col2\" >0.5000</td>\n",
       "      <td id=\"T_f6874_row8_col3\" class=\"data row8 col3\" >0.0000</td>\n",
       "      <td id=\"T_f6874_row8_col4\" class=\"data row8 col4\" >0.0000</td>\n",
       "      <td id=\"T_f6874_row8_col5\" class=\"data row8 col5\" >0.0000</td>\n",
       "      <td id=\"T_f6874_row8_col6\" class=\"data row8 col6\" >0.0000</td>\n",
       "      <td id=\"T_f6874_row8_col7\" class=\"data row8 col7\" >0.0000</td>\n",
       "      <td id=\"T_f6874_row8_col8\" class=\"data row8 col8\" >0.0040</td>\n",
       "    </tr>\n",
       "  </tbody>\n",
       "</table>\n"
      ],
      "text/plain": [
       "<pandas.io.formats.style.Styler at 0x7fc748af8160>"
      ]
     },
     "metadata": {},
     "output_type": "display_data"
    }
   ],
   "source": [
    "# final_selection_clf  = ['catboost', 'lightgbm', 'xgboost', 'lda', 'et', 'dummy']  # knn, qda, nb lack feat importances neither coefs, ridge lacks scores\n",
    "final_selection_clf  = ['catboost', 'lr', 'gbc', 'svm', 'rf', 'dummy']  # knn, qda, nb lack feat importances neither coefs, ridge lacks scores\n",
    "n_models             = 5\n",
    "# top_model_AGN = pyc.compare_models(n_select=n_models, include=final_selection_clf, sort=metric_to_optimize)  # 1:15 hour for used_models_clf\n",
    "top_model_AGN = pyc.compare_models(n_select=n_models, exclude=['knn', 'qda', 'ridge', 'nb', 'lightgbm', 'lda', 'lr'], sort=metric_to_optimize)  # 10 minutes, using all models."
   ]
  },
  {
   "cell_type": "markdown",
   "id": "27b1b6bf",
   "metadata": {},
   "source": [
    "Thus, we select `catboost` as meta learner."
   ]
  },
  {
   "cell_type": "markdown",
   "id": "270c3390",
   "metadata": {},
   "source": [
    "Then, we stack the models."
   ]
  },
  {
   "cell_type": "code",
   "execution_count": 64,
   "id": "cfbc4db4",
   "metadata": {},
   "outputs": [],
   "source": [
    "meta_model = top_model_AGN[0]"
   ]
  },
  {
   "cell_type": "code",
   "execution_count": 65,
   "id": "e76456c8",
   "metadata": {},
   "outputs": [
    {
     "data": {
      "text/html": [
       "<style type=\"text/css\">\n",
       "#T_4ca91_row10_col0, #T_4ca91_row10_col1, #T_4ca91_row10_col2, #T_4ca91_row10_col3, #T_4ca91_row10_col4, #T_4ca91_row10_col5, #T_4ca91_row10_col6 {\n",
       "  background: yellow;\n",
       "}\n",
       "</style>\n",
       "<table id=\"T_4ca91\">\n",
       "  <thead>\n",
       "    <tr>\n",
       "      <th class=\"blank level0\" >&nbsp;</th>\n",
       "      <th id=\"T_4ca91_level0_col0\" class=\"col_heading level0 col0\" >Accuracy</th>\n",
       "      <th id=\"T_4ca91_level0_col1\" class=\"col_heading level0 col1\" >AUC</th>\n",
       "      <th id=\"T_4ca91_level0_col2\" class=\"col_heading level0 col2\" >Recall</th>\n",
       "      <th id=\"T_4ca91_level0_col3\" class=\"col_heading level0 col3\" >Prec.</th>\n",
       "      <th id=\"T_4ca91_level0_col4\" class=\"col_heading level0 col4\" >F1</th>\n",
       "      <th id=\"T_4ca91_level0_col5\" class=\"col_heading level0 col5\" >Kappa</th>\n",
       "      <th id=\"T_4ca91_level0_col6\" class=\"col_heading level0 col6\" >MCC</th>\n",
       "    </tr>\n",
       "    <tr>\n",
       "      <th class=\"index_name level0\" >Fold</th>\n",
       "      <th class=\"blank col0\" >&nbsp;</th>\n",
       "      <th class=\"blank col1\" >&nbsp;</th>\n",
       "      <th class=\"blank col2\" >&nbsp;</th>\n",
       "      <th class=\"blank col3\" >&nbsp;</th>\n",
       "      <th class=\"blank col4\" >&nbsp;</th>\n",
       "      <th class=\"blank col5\" >&nbsp;</th>\n",
       "      <th class=\"blank col6\" >&nbsp;</th>\n",
       "    </tr>\n",
       "  </thead>\n",
       "  <tbody>\n",
       "    <tr>\n",
       "      <th id=\"T_4ca91_level0_row0\" class=\"row_heading level0 row0\" >0</th>\n",
       "      <td id=\"T_4ca91_row0_col0\" class=\"data row0 col0\" >0.9712</td>\n",
       "      <td id=\"T_4ca91_row0_col1\" class=\"data row0 col1\" >0.9943</td>\n",
       "      <td id=\"T_4ca91_row0_col2\" class=\"data row0 col2\" >0.9748</td>\n",
       "      <td id=\"T_4ca91_row0_col3\" class=\"data row0 col3\" >0.9431</td>\n",
       "      <td id=\"T_4ca91_row0_col4\" class=\"data row0 col4\" >0.9587</td>\n",
       "      <td id=\"T_4ca91_row0_col5\" class=\"data row0 col5\" >0.9366</td>\n",
       "      <td id=\"T_4ca91_row0_col6\" class=\"data row0 col6\" >0.9369</td>\n",
       "    </tr>\n",
       "    <tr>\n",
       "      <th id=\"T_4ca91_level0_row1\" class=\"row_heading level0 row1\" >1</th>\n",
       "      <td id=\"T_4ca91_row1_col0\" class=\"data row1 col0\" >0.9452</td>\n",
       "      <td id=\"T_4ca91_row1_col1\" class=\"data row1 col1\" >0.9823</td>\n",
       "      <td id=\"T_4ca91_row1_col2\" class=\"data row1 col2\" >0.8992</td>\n",
       "      <td id=\"T_4ca91_row1_col3\" class=\"data row1 col3\" >0.9386</td>\n",
       "      <td id=\"T_4ca91_row1_col4\" class=\"data row1 col4\" >0.9185</td>\n",
       "      <td id=\"T_4ca91_row1_col5\" class=\"data row1 col5\" >0.8773</td>\n",
       "      <td id=\"T_4ca91_row1_col6\" class=\"data row1 col6\" >0.8777</td>\n",
       "    </tr>\n",
       "    <tr>\n",
       "      <th id=\"T_4ca91_level0_row2\" class=\"row_heading level0 row2\" >2</th>\n",
       "      <td id=\"T_4ca91_row2_col0\" class=\"data row2 col0\" >0.9597</td>\n",
       "      <td id=\"T_4ca91_row2_col1\" class=\"data row2 col1\" >0.9907</td>\n",
       "      <td id=\"T_4ca91_row2_col2\" class=\"data row2 col2\" >0.9496</td>\n",
       "      <td id=\"T_4ca91_row2_col3\" class=\"data row2 col3\" >0.9339</td>\n",
       "      <td id=\"T_4ca91_row2_col4\" class=\"data row2 col4\" >0.9417</td>\n",
       "      <td id=\"T_4ca91_row2_col5\" class=\"data row2 col5\" >0.9108</td>\n",
       "      <td id=\"T_4ca91_row2_col6\" class=\"data row2 col6\" >0.9109</td>\n",
       "    </tr>\n",
       "    <tr>\n",
       "      <th id=\"T_4ca91_level0_row3\" class=\"row_heading level0 row3\" >3</th>\n",
       "      <td id=\"T_4ca91_row3_col0\" class=\"data row3 col0\" >0.9741</td>\n",
       "      <td id=\"T_4ca91_row3_col1\" class=\"data row3 col1\" >0.9928</td>\n",
       "      <td id=\"T_4ca91_row3_col2\" class=\"data row3 col2\" >0.9412</td>\n",
       "      <td id=\"T_4ca91_row3_col3\" class=\"data row3 col3\" >0.9825</td>\n",
       "      <td id=\"T_4ca91_row3_col4\" class=\"data row3 col4\" >0.9614</td>\n",
       "      <td id=\"T_4ca91_row3_col5\" class=\"data row3 col5\" >0.9419</td>\n",
       "      <td id=\"T_4ca91_row3_col6\" class=\"data row3 col6\" >0.9424</td>\n",
       "    </tr>\n",
       "    <tr>\n",
       "      <th id=\"T_4ca91_level0_row4\" class=\"row_heading level0 row4\" >4</th>\n",
       "      <td id=\"T_4ca91_row4_col0\" class=\"data row4 col0\" >0.9480</td>\n",
       "      <td id=\"T_4ca91_row4_col1\" class=\"data row4 col1\" >0.9778</td>\n",
       "      <td id=\"T_4ca91_row4_col2\" class=\"data row4 col2\" >0.8898</td>\n",
       "      <td id=\"T_4ca91_row4_col3\" class=\"data row4 col3\" >0.9545</td>\n",
       "      <td id=\"T_4ca91_row4_col4\" class=\"data row4 col4\" >0.9211</td>\n",
       "      <td id=\"T_4ca91_row4_col5\" class=\"data row4 col5\" >0.8823</td>\n",
       "      <td id=\"T_4ca91_row4_col6\" class=\"data row4 col6\" >0.8835</td>\n",
       "    </tr>\n",
       "    <tr>\n",
       "      <th id=\"T_4ca91_level0_row5\" class=\"row_heading level0 row5\" >5</th>\n",
       "      <td id=\"T_4ca91_row5_col0\" class=\"data row5 col0\" >0.9480</td>\n",
       "      <td id=\"T_4ca91_row5_col1\" class=\"data row5 col1\" >0.9908</td>\n",
       "      <td id=\"T_4ca91_row5_col2\" class=\"data row5 col2\" >0.9492</td>\n",
       "      <td id=\"T_4ca91_row5_col3\" class=\"data row5 col3\" >0.9032</td>\n",
       "      <td id=\"T_4ca91_row5_col4\" class=\"data row5 col4\" >0.9256</td>\n",
       "      <td id=\"T_4ca91_row5_col5\" class=\"data row5 col5\" >0.8857</td>\n",
       "      <td id=\"T_4ca91_row5_col6\" class=\"data row5 col6\" >0.8863</td>\n",
       "    </tr>\n",
       "    <tr>\n",
       "      <th id=\"T_4ca91_level0_row6\" class=\"row_heading level0 row6\" >6</th>\n",
       "      <td id=\"T_4ca91_row6_col0\" class=\"data row6 col0\" >0.9509</td>\n",
       "      <td id=\"T_4ca91_row6_col1\" class=\"data row6 col1\" >0.9842</td>\n",
       "      <td id=\"T_4ca91_row6_col2\" class=\"data row6 col2\" >0.9237</td>\n",
       "      <td id=\"T_4ca91_row6_col3\" class=\"data row6 col3\" >0.9316</td>\n",
       "      <td id=\"T_4ca91_row6_col4\" class=\"data row6 col4\" >0.9277</td>\n",
       "      <td id=\"T_4ca91_row6_col5\" class=\"data row6 col5\" >0.8905</td>\n",
       "      <td id=\"T_4ca91_row6_col6\" class=\"data row6 col6\" >0.8905</td>\n",
       "    </tr>\n",
       "    <tr>\n",
       "      <th id=\"T_4ca91_level0_row7\" class=\"row_heading level0 row7\" >7</th>\n",
       "      <td id=\"T_4ca91_row7_col0\" class=\"data row7 col0\" >0.9595</td>\n",
       "      <td id=\"T_4ca91_row7_col1\" class=\"data row7 col1\" >0.9860</td>\n",
       "      <td id=\"T_4ca91_row7_col2\" class=\"data row7 col2\" >0.9328</td>\n",
       "      <td id=\"T_4ca91_row7_col3\" class=\"data row7 col3\" >0.9487</td>\n",
       "      <td id=\"T_4ca91_row7_col4\" class=\"data row7 col4\" >0.9407</td>\n",
       "      <td id=\"T_4ca91_row7_col5\" class=\"data row7 col5\" >0.9100</td>\n",
       "      <td id=\"T_4ca91_row7_col6\" class=\"data row7 col6\" >0.9101</td>\n",
       "    </tr>\n",
       "    <tr>\n",
       "      <th id=\"T_4ca91_level0_row8\" class=\"row_heading level0 row8\" >8</th>\n",
       "      <td id=\"T_4ca91_row8_col0\" class=\"data row8 col0\" >0.9538</td>\n",
       "      <td id=\"T_4ca91_row8_col1\" class=\"data row8 col1\" >0.9911</td>\n",
       "      <td id=\"T_4ca91_row8_col2\" class=\"data row8 col2\" >0.9328</td>\n",
       "      <td id=\"T_4ca91_row8_col3\" class=\"data row8 col3\" >0.9328</td>\n",
       "      <td id=\"T_4ca91_row8_col4\" class=\"data row8 col4\" >0.9328</td>\n",
       "      <td id=\"T_4ca91_row8_col5\" class=\"data row8 col5\" >0.8975</td>\n",
       "      <td id=\"T_4ca91_row8_col6\" class=\"data row8 col6\" >0.8975</td>\n",
       "    </tr>\n",
       "    <tr>\n",
       "      <th id=\"T_4ca91_level0_row9\" class=\"row_heading level0 row9\" >9</th>\n",
       "      <td id=\"T_4ca91_row9_col0\" class=\"data row9 col0\" >0.9422</td>\n",
       "      <td id=\"T_4ca91_row9_col1\" class=\"data row9 col1\" >0.9886</td>\n",
       "      <td id=\"T_4ca91_row9_col2\" class=\"data row9 col2\" >0.9076</td>\n",
       "      <td id=\"T_4ca91_row9_col3\" class=\"data row9 col3\" >0.9231</td>\n",
       "      <td id=\"T_4ca91_row9_col4\" class=\"data row9 col4\" >0.9153</td>\n",
       "      <td id=\"T_4ca91_row9_col5\" class=\"data row9 col5\" >0.8714</td>\n",
       "      <td id=\"T_4ca91_row9_col6\" class=\"data row9 col6\" >0.8715</td>\n",
       "    </tr>\n",
       "    <tr>\n",
       "      <th id=\"T_4ca91_level0_row10\" class=\"row_heading level0 row10\" >Mean</th>\n",
       "      <td id=\"T_4ca91_row10_col0\" class=\"data row10 col0\" >0.9552</td>\n",
       "      <td id=\"T_4ca91_row10_col1\" class=\"data row10 col1\" >0.9879</td>\n",
       "      <td id=\"T_4ca91_row10_col2\" class=\"data row10 col2\" >0.9301</td>\n",
       "      <td id=\"T_4ca91_row10_col3\" class=\"data row10 col3\" >0.9392</td>\n",
       "      <td id=\"T_4ca91_row10_col4\" class=\"data row10 col4\" >0.9343</td>\n",
       "      <td id=\"T_4ca91_row10_col5\" class=\"data row10 col5\" >0.9004</td>\n",
       "      <td id=\"T_4ca91_row10_col6\" class=\"data row10 col6\" >0.9007</td>\n",
       "    </tr>\n",
       "    <tr>\n",
       "      <th id=\"T_4ca91_level0_row11\" class=\"row_heading level0 row11\" >Std</th>\n",
       "      <td id=\"T_4ca91_row11_col0\" class=\"data row11 col0\" >0.0102</td>\n",
       "      <td id=\"T_4ca91_row11_col1\" class=\"data row11 col1\" >0.0049</td>\n",
       "      <td id=\"T_4ca91_row11_col2\" class=\"data row11 col2\" >0.0245</td>\n",
       "      <td id=\"T_4ca91_row11_col3\" class=\"data row11 col3\" >0.0197</td>\n",
       "      <td id=\"T_4ca91_row11_col4\" class=\"data row11 col4\" >0.0153</td>\n",
       "      <td id=\"T_4ca91_row11_col5\" class=\"data row11 col5\" >0.0229</td>\n",
       "      <td id=\"T_4ca91_row11_col6\" class=\"data row11 col6\" >0.0229</td>\n",
       "    </tr>\n",
       "  </tbody>\n",
       "</table>\n"
      ],
      "text/plain": [
       "<pandas.io.formats.style.Styler at 0x7fc748ad8610>"
      ]
     },
     "metadata": {},
     "output_type": "display_data"
    }
   ],
   "source": [
    "stacked_model_AGN = pyc.stack_models(estimator_list=top_model_AGN[1:], meta_model=meta_model,\\\n",
    "                                     optimize=metric_to_optimize, restack=True)  # Do not use 'lr' for this test (already calibrated)"
   ]
  },
  {
   "cell_type": "code",
   "execution_count": 66,
   "id": "a989a2d3",
   "metadata": {},
   "outputs": [],
   "source": [
    "# pyc.plot_model(calibrated_stacked_AGN_clf_b.calibrated_classifiers_[0].base_estimator.final_estimator_, plot='feature_all')"
   ]
  },
  {
   "cell_type": "code",
   "execution_count": 67,
   "id": "1e0b1b9c",
   "metadata": {
    "id": "Dz0XvX17teel"
   },
   "outputs": [
    {
     "data": {
      "text/html": [
       "<style type=\"text/css\">\n",
       "#T_5c447_row10_col0, #T_5c447_row10_col1, #T_5c447_row10_col2, #T_5c447_row10_col3, #T_5c447_row10_col4, #T_5c447_row10_col5, #T_5c447_row10_col6 {\n",
       "  background: yellow;\n",
       "}\n",
       "</style>\n",
       "<table id=\"T_5c447\">\n",
       "  <thead>\n",
       "    <tr>\n",
       "      <th class=\"blank level0\" >&nbsp;</th>\n",
       "      <th id=\"T_5c447_level0_col0\" class=\"col_heading level0 col0\" >Accuracy</th>\n",
       "      <th id=\"T_5c447_level0_col1\" class=\"col_heading level0 col1\" >AUC</th>\n",
       "      <th id=\"T_5c447_level0_col2\" class=\"col_heading level0 col2\" >Recall</th>\n",
       "      <th id=\"T_5c447_level0_col3\" class=\"col_heading level0 col3\" >Prec.</th>\n",
       "      <th id=\"T_5c447_level0_col4\" class=\"col_heading level0 col4\" >F1</th>\n",
       "      <th id=\"T_5c447_level0_col5\" class=\"col_heading level0 col5\" >Kappa</th>\n",
       "      <th id=\"T_5c447_level0_col6\" class=\"col_heading level0 col6\" >MCC</th>\n",
       "    </tr>\n",
       "    <tr>\n",
       "      <th class=\"index_name level0\" >Fold</th>\n",
       "      <th class=\"blank col0\" >&nbsp;</th>\n",
       "      <th class=\"blank col1\" >&nbsp;</th>\n",
       "      <th class=\"blank col2\" >&nbsp;</th>\n",
       "      <th class=\"blank col3\" >&nbsp;</th>\n",
       "      <th class=\"blank col4\" >&nbsp;</th>\n",
       "      <th class=\"blank col5\" >&nbsp;</th>\n",
       "      <th class=\"blank col6\" >&nbsp;</th>\n",
       "    </tr>\n",
       "  </thead>\n",
       "  <tbody>\n",
       "    <tr>\n",
       "      <th id=\"T_5c447_level0_row0\" class=\"row_heading level0 row0\" >0</th>\n",
       "      <td id=\"T_5c447_row0_col0\" class=\"data row0 col0\" >0.9683</td>\n",
       "      <td id=\"T_5c447_row0_col1\" class=\"data row0 col1\" >0.9934</td>\n",
       "      <td id=\"T_5c447_row0_col2\" class=\"data row0 col2\" >0.9748</td>\n",
       "      <td id=\"T_5c447_row0_col3\" class=\"data row0 col3\" >0.9355</td>\n",
       "      <td id=\"T_5c447_row0_col4\" class=\"data row0 col4\" >0.9547</td>\n",
       "      <td id=\"T_5c447_row0_col5\" class=\"data row0 col5\" >0.9304</td>\n",
       "      <td id=\"T_5c447_row0_col6\" class=\"data row0 col6\" >0.9308</td>\n",
       "    </tr>\n",
       "    <tr>\n",
       "      <th id=\"T_5c447_level0_row1\" class=\"row_heading level0 row1\" >1</th>\n",
       "      <td id=\"T_5c447_row1_col0\" class=\"data row1 col0\" >0.9424</td>\n",
       "      <td id=\"T_5c447_row1_col1\" class=\"data row1 col1\" >0.9804</td>\n",
       "      <td id=\"T_5c447_row1_col2\" class=\"data row1 col2\" >0.8992</td>\n",
       "      <td id=\"T_5c447_row1_col3\" class=\"data row1 col3\" >0.9304</td>\n",
       "      <td id=\"T_5c447_row1_col4\" class=\"data row1 col4\" >0.9145</td>\n",
       "      <td id=\"T_5c447_row1_col5\" class=\"data row1 col5\" >0.8711</td>\n",
       "      <td id=\"T_5c447_row1_col6\" class=\"data row1 col6\" >0.8714</td>\n",
       "    </tr>\n",
       "    <tr>\n",
       "      <th id=\"T_5c447_level0_row2\" class=\"row_heading level0 row2\" >2</th>\n",
       "      <td id=\"T_5c447_row2_col0\" class=\"data row2 col0\" >0.9597</td>\n",
       "      <td id=\"T_5c447_row2_col1\" class=\"data row2 col1\" >0.9886</td>\n",
       "      <td id=\"T_5c447_row2_col2\" class=\"data row2 col2\" >0.9580</td>\n",
       "      <td id=\"T_5c447_row2_col3\" class=\"data row2 col3\" >0.9268</td>\n",
       "      <td id=\"T_5c447_row2_col4\" class=\"data row2 col4\" >0.9421</td>\n",
       "      <td id=\"T_5c447_row2_col5\" class=\"data row2 col5\" >0.9112</td>\n",
       "      <td id=\"T_5c447_row2_col6\" class=\"data row2 col6\" >0.9115</td>\n",
       "    </tr>\n",
       "    <tr>\n",
       "      <th id=\"T_5c447_level0_row3\" class=\"row_heading level0 row3\" >3</th>\n",
       "      <td id=\"T_5c447_row3_col0\" class=\"data row3 col0\" >0.9683</td>\n",
       "      <td id=\"T_5c447_row3_col1\" class=\"data row3 col1\" >0.9949</td>\n",
       "      <td id=\"T_5c447_row3_col2\" class=\"data row3 col2\" >0.9328</td>\n",
       "      <td id=\"T_5c447_row3_col3\" class=\"data row3 col3\" >0.9737</td>\n",
       "      <td id=\"T_5c447_row3_col4\" class=\"data row3 col4\" >0.9528</td>\n",
       "      <td id=\"T_5c447_row3_col5\" class=\"data row3 col5\" >0.9289</td>\n",
       "      <td id=\"T_5c447_row3_col6\" class=\"data row3 col6\" >0.9294</td>\n",
       "    </tr>\n",
       "    <tr>\n",
       "      <th id=\"T_5c447_level0_row4\" class=\"row_heading level0 row4\" >4</th>\n",
       "      <td id=\"T_5c447_row4_col0\" class=\"data row4 col0\" >0.9451</td>\n",
       "      <td id=\"T_5c447_row4_col1\" class=\"data row4 col1\" >0.9775</td>\n",
       "      <td id=\"T_5c447_row4_col2\" class=\"data row4 col2\" >0.8814</td>\n",
       "      <td id=\"T_5c447_row4_col3\" class=\"data row4 col3\" >0.9541</td>\n",
       "      <td id=\"T_5c447_row4_col4\" class=\"data row4 col4\" >0.9163</td>\n",
       "      <td id=\"T_5c447_row4_col5\" class=\"data row4 col5\" >0.8755</td>\n",
       "      <td id=\"T_5c447_row4_col6\" class=\"data row4 col6\" >0.8771</td>\n",
       "    </tr>\n",
       "    <tr>\n",
       "      <th id=\"T_5c447_level0_row5\" class=\"row_heading level0 row5\" >5</th>\n",
       "      <td id=\"T_5c447_row5_col0\" class=\"data row5 col0\" >0.9509</td>\n",
       "      <td id=\"T_5c447_row5_col1\" class=\"data row5 col1\" >0.9900</td>\n",
       "      <td id=\"T_5c447_row5_col2\" class=\"data row5 col2\" >0.9492</td>\n",
       "      <td id=\"T_5c447_row5_col3\" class=\"data row5 col3\" >0.9106</td>\n",
       "      <td id=\"T_5c447_row5_col4\" class=\"data row5 col4\" >0.9295</td>\n",
       "      <td id=\"T_5c447_row5_col5\" class=\"data row5 col5\" >0.8918</td>\n",
       "      <td id=\"T_5c447_row5_col6\" class=\"data row5 col6\" >0.8922</td>\n",
       "    </tr>\n",
       "    <tr>\n",
       "      <th id=\"T_5c447_level0_row6\" class=\"row_heading level0 row6\" >6</th>\n",
       "      <td id=\"T_5c447_row6_col0\" class=\"data row6 col0\" >0.9595</td>\n",
       "      <td id=\"T_5c447_row6_col1\" class=\"data row6 col1\" >0.9838</td>\n",
       "      <td id=\"T_5c447_row6_col2\" class=\"data row6 col2\" >0.9322</td>\n",
       "      <td id=\"T_5c447_row6_col3\" class=\"data row6 col3\" >0.9483</td>\n",
       "      <td id=\"T_5c447_row6_col4\" class=\"data row6 col4\" >0.9402</td>\n",
       "      <td id=\"T_5c447_row6_col5\" class=\"data row6 col5\" >0.9096</td>\n",
       "      <td id=\"T_5c447_row6_col6\" class=\"data row6 col6\" >0.9097</td>\n",
       "    </tr>\n",
       "    <tr>\n",
       "      <th id=\"T_5c447_level0_row7\" class=\"row_heading level0 row7\" >7</th>\n",
       "      <td id=\"T_5c447_row7_col0\" class=\"data row7 col0\" >0.9566</td>\n",
       "      <td id=\"T_5c447_row7_col1\" class=\"data row7 col1\" >0.9864</td>\n",
       "      <td id=\"T_5c447_row7_col2\" class=\"data row7 col2\" >0.9328</td>\n",
       "      <td id=\"T_5c447_row7_col3\" class=\"data row7 col3\" >0.9407</td>\n",
       "      <td id=\"T_5c447_row7_col4\" class=\"data row7 col4\" >0.9367</td>\n",
       "      <td id=\"T_5c447_row7_col5\" class=\"data row7 col5\" >0.9037</td>\n",
       "      <td id=\"T_5c447_row7_col6\" class=\"data row7 col6\" >0.9038</td>\n",
       "    </tr>\n",
       "    <tr>\n",
       "      <th id=\"T_5c447_level0_row8\" class=\"row_heading level0 row8\" >8</th>\n",
       "      <td id=\"T_5c447_row8_col0\" class=\"data row8 col0\" >0.9480</td>\n",
       "      <td id=\"T_5c447_row8_col1\" class=\"data row8 col1\" >0.9906</td>\n",
       "      <td id=\"T_5c447_row8_col2\" class=\"data row8 col2\" >0.9160</td>\n",
       "      <td id=\"T_5c447_row8_col3\" class=\"data row8 col3\" >0.9316</td>\n",
       "      <td id=\"T_5c447_row8_col4\" class=\"data row8 col4\" >0.9237</td>\n",
       "      <td id=\"T_5c447_row8_col5\" class=\"data row8 col5\" >0.8843</td>\n",
       "      <td id=\"T_5c447_row8_col6\" class=\"data row8 col6\" >0.8843</td>\n",
       "    </tr>\n",
       "    <tr>\n",
       "      <th id=\"T_5c447_level0_row9\" class=\"row_heading level0 row9\" >9</th>\n",
       "      <td id=\"T_5c447_row9_col0\" class=\"data row9 col0\" >0.9480</td>\n",
       "      <td id=\"T_5c447_row9_col1\" class=\"data row9 col1\" >0.9885</td>\n",
       "      <td id=\"T_5c447_row9_col2\" class=\"data row9 col2\" >0.9244</td>\n",
       "      <td id=\"T_5c447_row9_col3\" class=\"data row9 col3\" >0.9244</td>\n",
       "      <td id=\"T_5c447_row9_col4\" class=\"data row9 col4\" >0.9244</td>\n",
       "      <td id=\"T_5c447_row9_col5\" class=\"data row9 col5\" >0.8847</td>\n",
       "      <td id=\"T_5c447_row9_col6\" class=\"data row9 col6\" >0.8847</td>\n",
       "    </tr>\n",
       "    <tr>\n",
       "      <th id=\"T_5c447_level0_row10\" class=\"row_heading level0 row10\" >Mean</th>\n",
       "      <td id=\"T_5c447_row10_col0\" class=\"data row10 col0\" >0.9547</td>\n",
       "      <td id=\"T_5c447_row10_col1\" class=\"data row10 col1\" >0.9874</td>\n",
       "      <td id=\"T_5c447_row10_col2\" class=\"data row10 col2\" >0.9301</td>\n",
       "      <td id=\"T_5c447_row10_col3\" class=\"data row10 col3\" >0.9376</td>\n",
       "      <td id=\"T_5c447_row10_col4\" class=\"data row10 col4\" >0.9335</td>\n",
       "      <td id=\"T_5c447_row10_col5\" class=\"data row10 col5\" >0.8991</td>\n",
       "      <td id=\"T_5c447_row10_col6\" class=\"data row10 col6\" >0.8995</td>\n",
       "    </tr>\n",
       "    <tr>\n",
       "      <th id=\"T_5c447_level0_row11\" class=\"row_heading level0 row11\" >Std</th>\n",
       "      <td id=\"T_5c447_row11_col0\" class=\"data row11 col0\" >0.0088</td>\n",
       "      <td id=\"T_5c447_row11_col1\" class=\"data row11 col1\" >0.0052</td>\n",
       "      <td id=\"T_5c447_row11_col2\" class=\"data row11 col2\" >0.0259</td>\n",
       "      <td id=\"T_5c447_row11_col3\" class=\"data row11 col3\" >0.0168</td>\n",
       "      <td id=\"T_5c447_row11_col4\" class=\"data row11 col4\" >0.0134</td>\n",
       "      <td id=\"T_5c447_row11_col5\" class=\"data row11 col5\" >0.0199</td>\n",
       "      <td id=\"T_5c447_row11_col6\" class=\"data row11 col6\" >0.0198</td>\n",
       "    </tr>\n",
       "  </tbody>\n",
       "</table>\n"
      ],
      "text/plain": [
       "<pandas.io.formats.style.Styler at 0x7fc6331efc40>"
      ]
     },
     "metadata": {},
     "output_type": "display_data"
    }
   ],
   "source": [
    "tuned_AGN_clf = pyc.tune_model(stacked_model_AGN, early_stopping='asha', optimize=metric_to_optimize,\\\n",
    "                               search_library='tune-sklearn', search_algorithm='bayesian')  # 20  minutes"
   ]
  },
  {
   "cell_type": "code",
   "execution_count": 68,
   "id": "4debbb9f",
   "metadata": {
    "id": "Mq15jdjqtv3Y"
   },
   "outputs": [],
   "source": [
    "# calibrated_AGN_clf = pyc.calibrate_model(tuned_AGN_clf, method='sigmoid', calibrate_fold=5)"
   ]
  },
  {
   "cell_type": "code",
   "execution_count": 69,
   "id": "c6b231d0",
   "metadata": {
    "id": "GJfDVspZtn7Z"
   },
   "outputs": [
    {
     "data": {
      "image/png": "[encoded data removed]",
      "text/plain": [
       "<Figure size 640x480 with 1 Axes>"
      ]
     },
     "metadata": {},
     "output_type": "display_data"
    }
   ],
   "source": [
    "pyc.plot_model(tuned_AGN_clf, plot='confusion_matrix')"
   ]
  },
  {
   "cell_type": "code",
   "execution_count": 71,
   "id": "b5d20de4",
   "metadata": {
    "id": "3N6_OxWptsEe",
    "tags": []
   },
   "outputs": [
    {
     "data": {
      "image/png": "[encoded data removed]",
      "text/plain": [
       "<Figure size 640x480 with 2 Axes>"
      ]
     },
     "metadata": {},
     "output_type": "display_data"
    }
   ],
   "source": [
    "pyc.plot_model(tuned_AGN_clf, plot='class_report')"
   ]
  },
  {
   "cell_type": "code",
   "execution_count": 72,
   "id": "8f50305a",
   "metadata": {
    "id": "Mq15jdjqtv3Y"
   },
   "outputs": [
    {
     "data": {
      "image/png": "[encoded data removed]",
      "text/plain": [
       "<Figure size 700x600 with 1 Axes>"
      ]
     },
     "metadata": {},
     "output_type": "display_data"
    }
   ],
   "source": [
    "pyc.plot_model(tuned_AGN_clf, plot='calibration')"
   ]
  },
  {
   "cell_type": "code",
   "execution_count": 73,
   "id": "2ff3da29",
   "metadata": {
    "id": "Mq15jdjqtv3Y"
   },
   "outputs": [],
   "source": [
    "# pyc.plot_model(calibrated_tuned_AGN_clf.calibrated_classifiers_[0].base_estimator.final_estimator, plot='feature_all')"
   ]
  },
  {
   "cell_type": "code",
   "execution_count": 74,
   "id": "d5d1004f",
   "metadata": {
    "id": "Mq15jdjqtv3Y"
   },
   "outputs": [
    {
     "data": {
      "text/html": [
       "<div>\n",
       "<style scoped>\n",
       "    .dataframe tbody tr th:only-of-type {\n",
       "        vertical-align: middle;\n",
       "    }\n",
       "\n",
       "    .dataframe tbody tr th {\n",
       "        vertical-align: top;\n",
       "    }\n",
       "\n",
       "    .dataframe thead th {\n",
       "        text-align: right;\n",
       "    }\n",
       "</style>\n",
       "<table border=\"1\" class=\"dataframe\">\n",
       "  <thead>\n",
       "    <tr style=\"text-align: right;\">\n",
       "      <th></th>\n",
       "      <th>Parameters</th>\n",
       "    </tr>\n",
       "  </thead>\n",
       "  <tbody>\n",
       "    <tr>\n",
       "      <th>cv</th>\n",
       "      <td>5</td>\n",
       "    </tr>\n",
       "    <tr>\n",
       "      <th>estimators</th>\n",
       "      <td>[('gbc', GradientBoostingClassifier(ccp_alpha=...</td>\n",
       "    </tr>\n",
       "    <tr>\n",
       "      <th>final_estimator</th>\n",
       "      <td>&lt;catboost.core.CatBoostClassifier object at 0x...</td>\n",
       "    </tr>\n",
       "    <tr>\n",
       "      <th>n_jobs</th>\n",
       "      <td>12</td>\n",
       "    </tr>\n",
       "    <tr>\n",
       "      <th>passthrough</th>\n",
       "      <td>True</td>\n",
       "    </tr>\n",
       "    <tr>\n",
       "      <th>stack_method</th>\n",
       "      <td>auto</td>\n",
       "    </tr>\n",
       "    <tr>\n",
       "      <th>verbose</th>\n",
       "      <td>0</td>\n",
       "    </tr>\n",
       "  </tbody>\n",
       "</table>\n",
       "</div>"
      ],
      "text/plain": [
       "                                                        Parameters\n",
       "cv                                                               5\n",
       "estimators       [('gbc', GradientBoostingClassifier(ccp_alpha=...\n",
       "final_estimator  <catboost.core.CatBoostClassifier object at 0x...\n",
       "n_jobs                                                          12\n",
       "passthrough                                                   True\n",
       "stack_method                                                  auto\n",
       "verbose                                                          0"
      ]
     },
     "metadata": {},
     "output_type": "display_data"
    }
   ],
   "source": [
    "pyc.plot_model(tuned_AGN_clf, plot='parameter')"
   ]
  },
  {
   "cell_type": "code",
   "execution_count": 75,
   "id": "fe909f58",
   "metadata": {
    "id": "t2CRgDLptzuE"
   },
   "outputs": [],
   "source": [
    "plt.rcParams.update(plt.rcParamsDefault)"
   ]
  },
  {
   "cell_type": "code",
   "execution_count": 163,
   "id": "be0fd6aa",
   "metadata": {},
   "outputs": [
    {
     "data": {
      "text/html": [
       "<style type=\"text/css\">\n",
       "</style>\n",
       "<table id=\"T_c8ffc\">\n",
       "  <thead>\n",
       "    <tr>\n",
       "      <th class=\"blank level0\" >&nbsp;</th>\n",
       "      <th id=\"T_c8ffc_level0_col0\" class=\"col_heading level0 col0\" >Model</th>\n",
       "      <th id=\"T_c8ffc_level0_col1\" class=\"col_heading level0 col1\" >Accuracy</th>\n",
       "      <th id=\"T_c8ffc_level0_col2\" class=\"col_heading level0 col2\" >AUC</th>\n",
       "      <th id=\"T_c8ffc_level0_col3\" class=\"col_heading level0 col3\" >Recall</th>\n",
       "      <th id=\"T_c8ffc_level0_col4\" class=\"col_heading level0 col4\" >Prec.</th>\n",
       "      <th id=\"T_c8ffc_level0_col5\" class=\"col_heading level0 col5\" >F1</th>\n",
       "      <th id=\"T_c8ffc_level0_col6\" class=\"col_heading level0 col6\" >Kappa</th>\n",
       "      <th id=\"T_c8ffc_level0_col7\" class=\"col_heading level0 col7\" >MCC</th>\n",
       "    </tr>\n",
       "  </thead>\n",
       "  <tbody>\n",
       "    <tr>\n",
       "      <th id=\"T_c8ffc_level0_row0\" class=\"row_heading level0 row0\" >0</th>\n",
       "      <td id=\"T_c8ffc_row0_col0\" class=\"data row0 col0\" >Stacking Classifier</td>\n",
       "      <td id=\"T_c8ffc_row0_col1\" class=\"data row0 col1\" >0.9583</td>\n",
       "      <td id=\"T_c8ffc_row0_col2\" class=\"data row0 col2\" >0.9837</td>\n",
       "      <td id=\"T_c8ffc_row0_col3\" class=\"data row0 col3\" >0.9371</td>\n",
       "      <td id=\"T_c8ffc_row0_col4\" class=\"data row0 col4\" >0.9408</td>\n",
       "      <td id=\"T_c8ffc_row0_col5\" class=\"data row0 col5\" >0.9390</td>\n",
       "      <td id=\"T_c8ffc_row0_col6\" class=\"data row0 col6\" >0.9073</td>\n",
       "      <td id=\"T_c8ffc_row0_col7\" class=\"data row0 col7\" >0.9073</td>\n",
       "    </tr>\n",
       "  </tbody>\n",
       "</table>\n"
      ],
      "text/plain": [
       "<pandas.io.formats.style.Styler at 0x7fc57bc7e8e0>"
      ]
     },
     "metadata": {},
     "output_type": "display_data"
    },
    {
     "data": {
      "text/html": [
       "<div>\n",
       "<style scoped>\n",
       "    .dataframe tbody tr th:only-of-type {\n",
       "        vertical-align: middle;\n",
       "    }\n",
       "\n",
       "    .dataframe tbody tr th {\n",
       "        vertical-align: top;\n",
       "    }\n",
       "\n",
       "    .dataframe thead th {\n",
       "        text-align: right;\n",
       "    }\n",
       "</style>\n",
       "<table border=\"1\" class=\"dataframe\">\n",
       "  <thead>\n",
       "    <tr style=\"text-align: right;\">\n",
       "      <th></th>\n",
       "      <th>Score_0</th>\n",
       "      <th>Score_1</th>\n",
       "    </tr>\n",
       "  </thead>\n",
       "  <tbody>\n",
       "    <tr>\n",
       "      <th>count</th>\n",
       "      <td>1486.000000</td>\n",
       "      <td>1486.000000</td>\n",
       "    </tr>\n",
       "    <tr>\n",
       "      <th>mean</th>\n",
       "      <td>0.654269</td>\n",
       "      <td>0.345731</td>\n",
       "    </tr>\n",
       "    <tr>\n",
       "      <th>std</th>\n",
       "      <td>0.437376</td>\n",
       "      <td>0.437376</td>\n",
       "    </tr>\n",
       "    <tr>\n",
       "      <th>min</th>\n",
       "      <td>0.004600</td>\n",
       "      <td>0.004400</td>\n",
       "    </tr>\n",
       "    <tr>\n",
       "      <th>25%</th>\n",
       "      <td>0.052900</td>\n",
       "      <td>0.009400</td>\n",
       "    </tr>\n",
       "    <tr>\n",
       "      <th>50%</th>\n",
       "      <td>0.968950</td>\n",
       "      <td>0.031050</td>\n",
       "    </tr>\n",
       "    <tr>\n",
       "      <th>75%</th>\n",
       "      <td>0.990600</td>\n",
       "      <td>0.947100</td>\n",
       "    </tr>\n",
       "    <tr>\n",
       "      <th>max</th>\n",
       "      <td>0.995600</td>\n",
       "      <td>0.995400</td>\n",
       "    </tr>\n",
       "  </tbody>\n",
       "</table>\n",
       "</div>"
      ],
      "text/plain": [
       "           Score_0      Score_1\n",
       "count  1486.000000  1486.000000\n",
       "mean      0.654269     0.345731\n",
       "std       0.437376     0.437376\n",
       "min       0.004600     0.004400\n",
       "25%       0.052900     0.009400\n",
       "50%       0.968950     0.031050\n",
       "75%       0.990600     0.947100\n",
       "max       0.995600     0.995400"
      ]
     },
     "execution_count": 163,
     "metadata": {},
     "output_type": "execute_result"
    }
   ],
   "source": [
    "pyc.predict_model(tuned_AGN_clf, probability_threshold=0.5, raw_score=True).loc[:, ['Score_0', 'Score_1']].describe()"
   ]
  },
  {
   "cell_type": "code",
   "execution_count": 77,
   "id": "704b1921",
   "metadata": {},
   "outputs": [
    {
     "data": {
      "text/html": [
       "<style type=\"text/css\">\n",
       "</style>\n",
       "<table id=\"T_d0edc\">\n",
       "  <thead>\n",
       "    <tr>\n",
       "      <th class=\"blank level0\" >&nbsp;</th>\n",
       "      <th id=\"T_d0edc_level0_col0\" class=\"col_heading level0 col0\" >Model</th>\n",
       "      <th id=\"T_d0edc_level0_col1\" class=\"col_heading level0 col1\" >Accuracy</th>\n",
       "      <th id=\"T_d0edc_level0_col2\" class=\"col_heading level0 col2\" >AUC</th>\n",
       "      <th id=\"T_d0edc_level0_col3\" class=\"col_heading level0 col3\" >Recall</th>\n",
       "      <th id=\"T_d0edc_level0_col4\" class=\"col_heading level0 col4\" >Prec.</th>\n",
       "      <th id=\"T_d0edc_level0_col5\" class=\"col_heading level0 col5\" >F1</th>\n",
       "      <th id=\"T_d0edc_level0_col6\" class=\"col_heading level0 col6\" >Kappa</th>\n",
       "      <th id=\"T_d0edc_level0_col7\" class=\"col_heading level0 col7\" >MCC</th>\n",
       "    </tr>\n",
       "  </thead>\n",
       "  <tbody>\n",
       "    <tr>\n",
       "      <th id=\"T_d0edc_level0_row0\" class=\"row_heading level0 row0\" >0</th>\n",
       "      <td id=\"T_d0edc_row0_col0\" class=\"data row0 col0\" >Stacking Classifier</td>\n",
       "      <td id=\"T_d0edc_row0_col1\" class=\"data row0 col1\" >0.9583</td>\n",
       "      <td id=\"T_d0edc_row0_col2\" class=\"data row0 col2\" >0.9837</td>\n",
       "      <td id=\"T_d0edc_row0_col3\" class=\"data row0 col3\" >0.9371</td>\n",
       "      <td id=\"T_d0edc_row0_col4\" class=\"data row0 col4\" >0.9408</td>\n",
       "      <td id=\"T_d0edc_row0_col5\" class=\"data row0 col5\" >0.9390</td>\n",
       "      <td id=\"T_d0edc_row0_col6\" class=\"data row0 col6\" >0.9073</td>\n",
       "      <td id=\"T_d0edc_row0_col7\" class=\"data row0 col7\" >0.9073</td>\n",
       "    </tr>\n",
       "  </tbody>\n",
       "</table>\n"
      ],
      "text/plain": [
       "<pandas.io.formats.style.Styler at 0x7fc630417460>"
      ]
     },
     "metadata": {},
     "output_type": "display_data"
    }
   ],
   "source": [
    "test_prediction_clf = pyc.predict_model(tuned_AGN_clf, probability_threshold=0.5, raw_score=True)"
   ]
  },
  {
   "cell_type": "code",
   "execution_count": 78,
   "id": "f7c321d3",
   "metadata": {
    "id": "WsMuc6dtt2ci"
   },
   "outputs": [
    {
     "name": "stderr",
     "output_type": "stream",
     "text": [
      "/home/rcarvajal/.miniforge3/envs/test_pycaret/lib/python3.8/site-packages/xgboost/compat.py:36: FutureWarning: pandas.Int64Index is deprecated and will be removed from pandas in a future version. Use pandas.Index with the appropriate dtype instead.\n",
      "  from pandas import MultiIndex, Int64Index\n",
      "/home/rcarvajal/.miniforge3/envs/test_pycaret/lib/python3.8/site-packages/xgboost/sklearn.py:1224: UserWarning: The use of label encoder in XGBClassifier is deprecated and will be removed in a future release. To remove this warning, do the following: 1) Pass option use_label_encoder=False when constructing XGBClassifier object; and 2) Encode your labels (y) as integers starting with 0, i.e. 0, 1, 2, ..., [num_class - 1].\n",
      "  warnings.warn(label_encoder_deprecation_msg, UserWarning)\n",
      "/home/rcarvajal/.miniforge3/envs/test_pycaret/lib/python3.8/site-packages/xgboost/data.py:262: FutureWarning: pandas.Int64Index is deprecated and will be removed from pandas in a future version. Use pandas.Index with the appropriate dtype instead.\n",
      "  elif isinstance(data.columns, (pd.Int64Index, pd.RangeIndex)):\n",
      "/home/rcarvajal/.miniforge3/envs/test_pycaret/lib/python3.8/site-packages/xgboost/sklearn.py:1224: UserWarning: The use of label encoder in XGBClassifier is deprecated and will be removed in a future release. To remove this warning, do the following: 1) Pass option use_label_encoder=False when constructing XGBClassifier object; and 2) Encode your labels (y) as integers starting with 0, i.e. 0, 1, 2, ..., [num_class - 1].\n",
      "  warnings.warn(label_encoder_deprecation_msg, UserWarning)\n",
      "/home/rcarvajal/.miniforge3/envs/test_pycaret/lib/python3.8/site-packages/xgboost/data.py:262: FutureWarning: pandas.Int64Index is deprecated and will be removed from pandas in a future version. Use pandas.Index with the appropriate dtype instead.\n",
      "  elif isinstance(data.columns, (pd.Int64Index, pd.RangeIndex)):\n",
      "/home/rcarvajal/.miniforge3/envs/test_pycaret/lib/python3.8/site-packages/xgboost/data.py:262: FutureWarning: pandas.Int64Index is deprecated and will be removed from pandas in a future version. Use pandas.Index with the appropriate dtype instead.\n",
      "  elif isinstance(data.columns, (pd.Int64Index, pd.RangeIndex)):\n",
      "/home/rcarvajal/.miniforge3/envs/test_pycaret/lib/python3.8/site-packages/xgboost/sklearn.py:1224: UserWarning: The use of label encoder in XGBClassifier is deprecated and will be removed in a future release. To remove this warning, do the following: 1) Pass option use_label_encoder=False when constructing XGBClassifier object; and 2) Encode your labels (y) as integers starting with 0, i.e. 0, 1, 2, ..., [num_class - 1].\n",
      "  warnings.warn(label_encoder_deprecation_msg, UserWarning)\n",
      "/home/rcarvajal/.miniforge3/envs/test_pycaret/lib/python3.8/site-packages/xgboost/data.py:262: FutureWarning: pandas.Int64Index is deprecated and will be removed from pandas in a future version. Use pandas.Index with the appropriate dtype instead.\n",
      "  elif isinstance(data.columns, (pd.Int64Index, pd.RangeIndex)):\n",
      "/home/rcarvajal/.miniforge3/envs/test_pycaret/lib/python3.8/site-packages/xgboost/data.py:262: FutureWarning: pandas.Int64Index is deprecated and will be removed from pandas in a future version. Use pandas.Index with the appropriate dtype instead.\n",
      "  elif isinstance(data.columns, (pd.Int64Index, pd.RangeIndex)):\n",
      "/home/rcarvajal/.miniforge3/envs/test_pycaret/lib/python3.8/site-packages/xgboost/sklearn.py:1224: UserWarning: The use of label encoder in XGBClassifier is deprecated and will be removed in a future release. To remove this warning, do the following: 1) Pass option use_label_encoder=False when constructing XGBClassifier object; and 2) Encode your labels (y) as integers starting with 0, i.e. 0, 1, 2, ..., [num_class - 1].\n",
      "  warnings.warn(label_encoder_deprecation_msg, UserWarning)\n",
      "/home/rcarvajal/.miniforge3/envs/test_pycaret/lib/python3.8/site-packages/xgboost/data.py:262: FutureWarning: pandas.Int64Index is deprecated and will be removed from pandas in a future version. Use pandas.Index with the appropriate dtype instead.\n",
      "  elif isinstance(data.columns, (pd.Int64Index, pd.RangeIndex)):\n",
      "/home/rcarvajal/.miniforge3/envs/test_pycaret/lib/python3.8/site-packages/xgboost/sklearn.py:1224: UserWarning: The use of label encoder in XGBClassifier is deprecated and will be removed in a future release. To remove this warning, do the following: 1) Pass option use_label_encoder=False when constructing XGBClassifier object; and 2) Encode your labels (y) as integers starting with 0, i.e. 0, 1, 2, ..., [num_class - 1].\n",
      "  warnings.warn(label_encoder_deprecation_msg, UserWarning)\n",
      "/home/rcarvajal/.miniforge3/envs/test_pycaret/lib/python3.8/site-packages/xgboost/data.py:262: FutureWarning: pandas.Int64Index is deprecated and will be removed from pandas in a future version. Use pandas.Index with the appropriate dtype instead.\n",
      "  elif isinstance(data.columns, (pd.Int64Index, pd.RangeIndex)):\n",
      "/home/rcarvajal/.miniforge3/envs/test_pycaret/lib/python3.8/site-packages/xgboost/sklearn.py:1224: UserWarning: The use of label encoder in XGBClassifier is deprecated and will be removed in a future release. To remove this warning, do the following: 1) Pass option use_label_encoder=False when constructing XGBClassifier object; and 2) Encode your labels (y) as integers starting with 0, i.e. 0, 1, 2, ..., [num_class - 1].\n",
      "  warnings.warn(label_encoder_deprecation_msg, UserWarning)\n",
      "/home/rcarvajal/.miniforge3/envs/test_pycaret/lib/python3.8/site-packages/xgboost/data.py:262: FutureWarning: pandas.Int64Index is deprecated and will be removed from pandas in a future version. Use pandas.Index with the appropriate dtype instead.\n",
      "  elif isinstance(data.columns, (pd.Int64Index, pd.RangeIndex)):\n",
      "/home/rcarvajal/.miniforge3/envs/test_pycaret/lib/python3.8/site-packages/xgboost/data.py:262: FutureWarning: pandas.Int64Index is deprecated and will be removed from pandas in a future version. Use pandas.Index with the appropriate dtype instead.\n",
      "  elif isinstance(data.columns, (pd.Int64Index, pd.RangeIndex)):\n",
      "/home/rcarvajal/.miniforge3/envs/test_pycaret/lib/python3.8/site-packages/xgboost/sklearn.py:1224: UserWarning: The use of label encoder in XGBClassifier is deprecated and will be removed in a future release. To remove this warning, do the following: 1) Pass option use_label_encoder=False when constructing XGBClassifier object; and 2) Encode your labels (y) as integers starting with 0, i.e. 0, 1, 2, ..., [num_class - 1].\n",
      "  warnings.warn(label_encoder_deprecation_msg, UserWarning)\n",
      "/home/rcarvajal/.miniforge3/envs/test_pycaret/lib/python3.8/site-packages/xgboost/data.py:262: FutureWarning: pandas.Int64Index is deprecated and will be removed from pandas in a future version. Use pandas.Index with the appropriate dtype instead.\n",
      "  elif isinstance(data.columns, (pd.Int64Index, pd.RangeIndex)):\n",
      "/home/rcarvajal/.miniforge3/envs/test_pycaret/lib/python3.8/site-packages/xgboost/data.py:262: FutureWarning: pandas.Int64Index is deprecated and will be removed from pandas in a future version. Use pandas.Index with the appropriate dtype instead.\n",
      "  elif isinstance(data.columns, (pd.Int64Index, pd.RangeIndex)):\n",
      "/home/rcarvajal/.miniforge3/envs/test_pycaret/lib/python3.8/site-packages/xgboost/sklearn.py:1224: UserWarning: The use of label encoder in XGBClassifier is deprecated and will be removed in a future release. To remove this warning, do the following: 1) Pass option use_label_encoder=False when constructing XGBClassifier object; and 2) Encode your labels (y) as integers starting with 0, i.e. 0, 1, 2, ..., [num_class - 1].\n",
      "  warnings.warn(label_encoder_deprecation_msg, UserWarning)\n",
      "/home/rcarvajal/.miniforge3/envs/test_pycaret/lib/python3.8/site-packages/xgboost/data.py:262: FutureWarning: pandas.Int64Index is deprecated and will be removed from pandas in a future version. Use pandas.Index with the appropriate dtype instead.\n",
      "  elif isinstance(data.columns, (pd.Int64Index, pd.RangeIndex)):\n",
      "/home/rcarvajal/.miniforge3/envs/test_pycaret/lib/python3.8/site-packages/xgboost/compat.py:36: FutureWarning: pandas.Int64Index is deprecated and will be removed from pandas in a future version. Use pandas.Index with the appropriate dtype instead.\n",
      "  from pandas import MultiIndex, Int64Index\n",
      "/home/rcarvajal/.miniforge3/envs/test_pycaret/lib/python3.8/site-packages/xgboost/sklearn.py:1224: UserWarning: The use of label encoder in XGBClassifier is deprecated and will be removed in a future release. To remove this warning, do the following: 1) Pass option use_label_encoder=False when constructing XGBClassifier object; and 2) Encode your labels (y) as integers starting with 0, i.e. 0, 1, 2, ..., [num_class - 1].\n",
      "  warnings.warn(label_encoder_deprecation_msg, UserWarning)\n",
      "/home/rcarvajal/.miniforge3/envs/test_pycaret/lib/python3.8/site-packages/xgboost/data.py:262: FutureWarning: pandas.Int64Index is deprecated and will be removed from pandas in a future version. Use pandas.Index with the appropriate dtype instead.\n",
      "  elif isinstance(data.columns, (pd.Int64Index, pd.RangeIndex)):\n",
      "/home/rcarvajal/.miniforge3/envs/test_pycaret/lib/python3.8/site-packages/xgboost/sklearn.py:1224: UserWarning: The use of label encoder in XGBClassifier is deprecated and will be removed in a future release. To remove this warning, do the following: 1) Pass option use_label_encoder=False when constructing XGBClassifier object; and 2) Encode your labels (y) as integers starting with 0, i.e. 0, 1, 2, ..., [num_class - 1].\n",
      "  warnings.warn(label_encoder_deprecation_msg, UserWarning)\n",
      "/home/rcarvajal/.miniforge3/envs/test_pycaret/lib/python3.8/site-packages/xgboost/data.py:262: FutureWarning: pandas.Int64Index is deprecated and will be removed from pandas in a future version. Use pandas.Index with the appropriate dtype instead.\n",
      "  elif isinstance(data.columns, (pd.Int64Index, pd.RangeIndex)):\n",
      "/home/rcarvajal/.miniforge3/envs/test_pycaret/lib/python3.8/site-packages/xgboost/data.py:262: FutureWarning: pandas.Int64Index is deprecated and will be removed from pandas in a future version. Use pandas.Index with the appropriate dtype instead.\n",
      "  elif isinstance(data.columns, (pd.Int64Index, pd.RangeIndex)):\n",
      "/home/rcarvajal/.miniforge3/envs/test_pycaret/lib/python3.8/site-packages/xgboost/sklearn.py:1224: UserWarning: The use of label encoder in XGBClassifier is deprecated and will be removed in a future release. To remove this warning, do the following: 1) Pass option use_label_encoder=False when constructing XGBClassifier object; and 2) Encode your labels (y) as integers starting with 0, i.e. 0, 1, 2, ..., [num_class - 1].\n",
      "  warnings.warn(label_encoder_deprecation_msg, UserWarning)\n",
      "/home/rcarvajal/.miniforge3/envs/test_pycaret/lib/python3.8/site-packages/xgboost/data.py:262: FutureWarning: pandas.Int64Index is deprecated and will be removed from pandas in a future version. Use pandas.Index with the appropriate dtype instead.\n",
      "  elif isinstance(data.columns, (pd.Int64Index, pd.RangeIndex)):\n",
      "/home/rcarvajal/.miniforge3/envs/test_pycaret/lib/python3.8/site-packages/xgboost/data.py:262: FutureWarning: pandas.Int64Index is deprecated and will be removed from pandas in a future version. Use pandas.Index with the appropriate dtype instead.\n",
      "  elif isinstance(data.columns, (pd.Int64Index, pd.RangeIndex)):\n",
      "/home/rcarvajal/.miniforge3/envs/test_pycaret/lib/python3.8/site-packages/xgboost/sklearn.py:1224: UserWarning: The use of label encoder in XGBClassifier is deprecated and will be removed in a future release. To remove this warning, do the following: 1) Pass option use_label_encoder=False when constructing XGBClassifier object; and 2) Encode your labels (y) as integers starting with 0, i.e. 0, 1, 2, ..., [num_class - 1].\n",
      "  warnings.warn(label_encoder_deprecation_msg, UserWarning)\n",
      "/home/rcarvajal/.miniforge3/envs/test_pycaret/lib/python3.8/site-packages/xgboost/data.py:262: FutureWarning: pandas.Int64Index is deprecated and will be removed from pandas in a future version. Use pandas.Index with the appropriate dtype instead.\n",
      "  elif isinstance(data.columns, (pd.Int64Index, pd.RangeIndex)):\n",
      "/home/rcarvajal/.miniforge3/envs/test_pycaret/lib/python3.8/site-packages/xgboost/sklearn.py:1224: UserWarning: The use of label encoder in XGBClassifier is deprecated and will be removed in a future release. To remove this warning, do the following: 1) Pass option use_label_encoder=False when constructing XGBClassifier object; and 2) Encode your labels (y) as integers starting with 0, i.e. 0, 1, 2, ..., [num_class - 1].\n",
      "  warnings.warn(label_encoder_deprecation_msg, UserWarning)\n",
      "/home/rcarvajal/.miniforge3/envs/test_pycaret/lib/python3.8/site-packages/xgboost/data.py:262: FutureWarning: pandas.Int64Index is deprecated and will be removed from pandas in a future version. Use pandas.Index with the appropriate dtype instead.\n",
      "  elif isinstance(data.columns, (pd.Int64Index, pd.RangeIndex)):\n",
      "/home/rcarvajal/.miniforge3/envs/test_pycaret/lib/python3.8/site-packages/xgboost/data.py:262: FutureWarning: pandas.Int64Index is deprecated and will be removed from pandas in a future version. Use pandas.Index with the appropriate dtype instead.\n",
      "  elif isinstance(data.columns, (pd.Int64Index, pd.RangeIndex)):\n",
      "/home/rcarvajal/.miniforge3/envs/test_pycaret/lib/python3.8/site-packages/xgboost/sklearn.py:1224: UserWarning: The use of label encoder in XGBClassifier is deprecated and will be removed in a future release. To remove this warning, do the following: 1) Pass option use_label_encoder=False when constructing XGBClassifier object; and 2) Encode your labels (y) as integers starting with 0, i.e. 0, 1, 2, ..., [num_class - 1].\n",
      "  warnings.warn(label_encoder_deprecation_msg, UserWarning)\n",
      "/home/rcarvajal/.miniforge3/envs/test_pycaret/lib/python3.8/site-packages/xgboost/data.py:262: FutureWarning: pandas.Int64Index is deprecated and will be removed from pandas in a future version. Use pandas.Index with the appropriate dtype instead.\n",
      "  elif isinstance(data.columns, (pd.Int64Index, pd.RangeIndex)):\n",
      "/home/rcarvajal/.miniforge3/envs/test_pycaret/lib/python3.8/site-packages/xgboost/data.py:262: FutureWarning: pandas.Int64Index is deprecated and will be removed from pandas in a future version. Use pandas.Index with the appropriate dtype instead.\n",
      "  elif isinstance(data.columns, (pd.Int64Index, pd.RangeIndex)):\n",
      "/home/rcarvajal/.miniforge3/envs/test_pycaret/lib/python3.8/site-packages/xgboost/sklearn.py:1224: UserWarning: The use of label encoder in XGBClassifier is deprecated and will be removed in a future release. To remove this warning, do the following: 1) Pass option use_label_encoder=False when constructing XGBClassifier object; and 2) Encode your labels (y) as integers starting with 0, i.e. 0, 1, 2, ..., [num_class - 1].\n",
      "  warnings.warn(label_encoder_deprecation_msg, UserWarning)\n",
      "/home/rcarvajal/.miniforge3/envs/test_pycaret/lib/python3.8/site-packages/xgboost/data.py:262: FutureWarning: pandas.Int64Index is deprecated and will be removed from pandas in a future version. Use pandas.Index with the appropriate dtype instead.\n",
      "  elif isinstance(data.columns, (pd.Int64Index, pd.RangeIndex)):\n",
      "/home/rcarvajal/.miniforge3/envs/test_pycaret/lib/python3.8/site-packages/xgboost/data.py:262: FutureWarning: pandas.Int64Index is deprecated and will be removed from pandas in a future version. Use pandas.Index with the appropriate dtype instead.\n",
      "  elif isinstance(data.columns, (pd.Int64Index, pd.RangeIndex)):\n",
      "/home/rcarvajal/.miniforge3/envs/test_pycaret/lib/python3.8/site-packages/xgboost/sklearn.py:1224: UserWarning: The use of label encoder in XGBClassifier is deprecated and will be removed in a future release. To remove this warning, do the following: 1) Pass option use_label_encoder=False when constructing XGBClassifier object; and 2) Encode your labels (y) as integers starting with 0, i.e. 0, 1, 2, ..., [num_class - 1].\n",
      "  warnings.warn(label_encoder_deprecation_msg, UserWarning)\n",
      "/home/rcarvajal/.miniforge3/envs/test_pycaret/lib/python3.8/site-packages/xgboost/compat.py:36: FutureWarning: pandas.Int64Index is deprecated and will be removed from pandas in a future version. Use pandas.Index with the appropriate dtype instead.\n",
      "  from pandas import MultiIndex, Int64Index\n",
      "/home/rcarvajal/.miniforge3/envs/test_pycaret/lib/python3.8/site-packages/xgboost/sklearn.py:1224: UserWarning: The use of label encoder in XGBClassifier is deprecated and will be removed in a future release. To remove this warning, do the following: 1) Pass option use_label_encoder=False when constructing XGBClassifier object; and 2) Encode your labels (y) as integers starting with 0, i.e. 0, 1, 2, ..., [num_class - 1].\n",
      "  warnings.warn(label_encoder_deprecation_msg, UserWarning)\n",
      "/home/rcarvajal/.miniforge3/envs/test_pycaret/lib/python3.8/site-packages/xgboost/data.py:262: FutureWarning: pandas.Int64Index is deprecated and will be removed from pandas in a future version. Use pandas.Index with the appropriate dtype instead.\n",
      "  elif isinstance(data.columns, (pd.Int64Index, pd.RangeIndex)):\n",
      "/home/rcarvajal/.miniforge3/envs/test_pycaret/lib/python3.8/site-packages/xgboost/sklearn.py:1224: UserWarning: The use of label encoder in XGBClassifier is deprecated and will be removed in a future release. To remove this warning, do the following: 1) Pass option use_label_encoder=False when constructing XGBClassifier object; and 2) Encode your labels (y) as integers starting with 0, i.e. 0, 1, 2, ..., [num_class - 1].\n",
      "  warnings.warn(label_encoder_deprecation_msg, UserWarning)\n",
      "/home/rcarvajal/.miniforge3/envs/test_pycaret/lib/python3.8/site-packages/xgboost/data.py:262: FutureWarning: pandas.Int64Index is deprecated and will be removed from pandas in a future version. Use pandas.Index with the appropriate dtype instead.\n",
      "  elif isinstance(data.columns, (pd.Int64Index, pd.RangeIndex)):\n",
      "/home/rcarvajal/.miniforge3/envs/test_pycaret/lib/python3.8/site-packages/xgboost/sklearn.py:1224: UserWarning: The use of label encoder in XGBClassifier is deprecated and will be removed in a future release. To remove this warning, do the following: 1) Pass option use_label_encoder=False when constructing XGBClassifier object; and 2) Encode your labels (y) as integers starting with 0, i.e. 0, 1, 2, ..., [num_class - 1].\n",
      "  warnings.warn(label_encoder_deprecation_msg, UserWarning)\n",
      "/home/rcarvajal/.miniforge3/envs/test_pycaret/lib/python3.8/site-packages/xgboost/data.py:262: FutureWarning: pandas.Int64Index is deprecated and will be removed from pandas in a future version. Use pandas.Index with the appropriate dtype instead.\n",
      "  elif isinstance(data.columns, (pd.Int64Index, pd.RangeIndex)):\n",
      "/home/rcarvajal/.miniforge3/envs/test_pycaret/lib/python3.8/site-packages/xgboost/data.py:262: FutureWarning: pandas.Int64Index is deprecated and will be removed from pandas in a future version. Use pandas.Index with the appropriate dtype instead.\n",
      "  elif isinstance(data.columns, (pd.Int64Index, pd.RangeIndex)):\n",
      "/home/rcarvajal/.miniforge3/envs/test_pycaret/lib/python3.8/site-packages/xgboost/sklearn.py:1224: UserWarning: The use of label encoder in XGBClassifier is deprecated and will be removed in a future release. To remove this warning, do the following: 1) Pass option use_label_encoder=False when constructing XGBClassifier object; and 2) Encode your labels (y) as integers starting with 0, i.e. 0, 1, 2, ..., [num_class - 1].\n",
      "  warnings.warn(label_encoder_deprecation_msg, UserWarning)\n",
      "/home/rcarvajal/.miniforge3/envs/test_pycaret/lib/python3.8/site-packages/xgboost/data.py:262: FutureWarning: pandas.Int64Index is deprecated and will be removed from pandas in a future version. Use pandas.Index with the appropriate dtype instead.\n",
      "  elif isinstance(data.columns, (pd.Int64Index, pd.RangeIndex)):\n",
      "/home/rcarvajal/.miniforge3/envs/test_pycaret/lib/python3.8/site-packages/xgboost/data.py:262: FutureWarning: pandas.Int64Index is deprecated and will be removed from pandas in a future version. Use pandas.Index with the appropriate dtype instead.\n",
      "  elif isinstance(data.columns, (pd.Int64Index, pd.RangeIndex)):\n",
      "/home/rcarvajal/.miniforge3/envs/test_pycaret/lib/python3.8/site-packages/xgboost/sklearn.py:1224: UserWarning: The use of label encoder in XGBClassifier is deprecated and will be removed in a future release. To remove this warning, do the following: 1) Pass option use_label_encoder=False when constructing XGBClassifier object; and 2) Encode your labels (y) as integers starting with 0, i.e. 0, 1, 2, ..., [num_class - 1].\n",
      "  warnings.warn(label_encoder_deprecation_msg, UserWarning)\n",
      "/home/rcarvajal/.miniforge3/envs/test_pycaret/lib/python3.8/site-packages/xgboost/data.py:262: FutureWarning: pandas.Int64Index is deprecated and will be removed from pandas in a future version. Use pandas.Index with the appropriate dtype instead.\n",
      "  elif isinstance(data.columns, (pd.Int64Index, pd.RangeIndex)):\n",
      "/home/rcarvajal/.miniforge3/envs/test_pycaret/lib/python3.8/site-packages/xgboost/sklearn.py:1224: UserWarning: The use of label encoder in XGBClassifier is deprecated and will be removed in a future release. To remove this warning, do the following: 1) Pass option use_label_encoder=False when constructing XGBClassifier object; and 2) Encode your labels (y) as integers starting with 0, i.e. 0, 1, 2, ..., [num_class - 1].\n",
      "  warnings.warn(label_encoder_deprecation_msg, UserWarning)\n",
      "/home/rcarvajal/.miniforge3/envs/test_pycaret/lib/python3.8/site-packages/xgboost/data.py:262: FutureWarning: pandas.Int64Index is deprecated and will be removed from pandas in a future version. Use pandas.Index with the appropriate dtype instead.\n",
      "  elif isinstance(data.columns, (pd.Int64Index, pd.RangeIndex)):\n",
      "/home/rcarvajal/.miniforge3/envs/test_pycaret/lib/python3.8/site-packages/xgboost/data.py:262: FutureWarning: pandas.Int64Index is deprecated and will be removed from pandas in a future version. Use pandas.Index with the appropriate dtype instead.\n",
      "  elif isinstance(data.columns, (pd.Int64Index, pd.RangeIndex)):\n",
      "/home/rcarvajal/.miniforge3/envs/test_pycaret/lib/python3.8/site-packages/xgboost/sklearn.py:1224: UserWarning: The use of label encoder in XGBClassifier is deprecated and will be removed in a future release. To remove this warning, do the following: 1) Pass option use_label_encoder=False when constructing XGBClassifier object; and 2) Encode your labels (y) as integers starting with 0, i.e. 0, 1, 2, ..., [num_class - 1].\n",
      "  warnings.warn(label_encoder_deprecation_msg, UserWarning)\n",
      "/home/rcarvajal/.miniforge3/envs/test_pycaret/lib/python3.8/site-packages/xgboost/data.py:262: FutureWarning: pandas.Int64Index is deprecated and will be removed from pandas in a future version. Use pandas.Index with the appropriate dtype instead.\n",
      "  elif isinstance(data.columns, (pd.Int64Index, pd.RangeIndex)):\n",
      "/home/rcarvajal/.miniforge3/envs/test_pycaret/lib/python3.8/site-packages/xgboost/sklearn.py:1224: UserWarning: The use of label encoder in XGBClassifier is deprecated and will be removed in a future release. To remove this warning, do the following: 1) Pass option use_label_encoder=False when constructing XGBClassifier object; and 2) Encode your labels (y) as integers starting with 0, i.e. 0, 1, 2, ..., [num_class - 1].\n",
      "  warnings.warn(label_encoder_deprecation_msg, UserWarning)\n",
      "/home/rcarvajal/.miniforge3/envs/test_pycaret/lib/python3.8/site-packages/xgboost/data.py:262: FutureWarning: pandas.Int64Index is deprecated and will be removed from pandas in a future version. Use pandas.Index with the appropriate dtype instead.\n",
      "  elif isinstance(data.columns, (pd.Int64Index, pd.RangeIndex)):\n",
      "/home/rcarvajal/.miniforge3/envs/test_pycaret/lib/python3.8/site-packages/xgboost/sklearn.py:1224: UserWarning: The use of label encoder in XGBClassifier is deprecated and will be removed in a future release. To remove this warning, do the following: 1) Pass option use_label_encoder=False when constructing XGBClassifier object; and 2) Encode your labels (y) as integers starting with 0, i.e. 0, 1, 2, ..., [num_class - 1].\n",
      "  warnings.warn(label_encoder_deprecation_msg, UserWarning)\n",
      "/home/rcarvajal/.miniforge3/envs/test_pycaret/lib/python3.8/site-packages/xgboost/compat.py:36: FutureWarning: pandas.Int64Index is deprecated and will be removed from pandas in a future version. Use pandas.Index with the appropriate dtype instead.\n",
      "  from pandas import MultiIndex, Int64Index\n",
      "/home/rcarvajal/.miniforge3/envs/test_pycaret/lib/python3.8/site-packages/xgboost/sklearn.py:1224: UserWarning: The use of label encoder in XGBClassifier is deprecated and will be removed in a future release. To remove this warning, do the following: 1) Pass option use_label_encoder=False when constructing XGBClassifier object; and 2) Encode your labels (y) as integers starting with 0, i.e. 0, 1, 2, ..., [num_class - 1].\n",
      "  warnings.warn(label_encoder_deprecation_msg, UserWarning)\n",
      "/home/rcarvajal/.miniforge3/envs/test_pycaret/lib/python3.8/site-packages/xgboost/data.py:262: FutureWarning: pandas.Int64Index is deprecated and will be removed from pandas in a future version. Use pandas.Index with the appropriate dtype instead.\n",
      "  elif isinstance(data.columns, (pd.Int64Index, pd.RangeIndex)):\n",
      "/home/rcarvajal/.miniforge3/envs/test_pycaret/lib/python3.8/site-packages/xgboost/sklearn.py:1224: UserWarning: The use of label encoder in XGBClassifier is deprecated and will be removed in a future release. To remove this warning, do the following: 1) Pass option use_label_encoder=False when constructing XGBClassifier object; and 2) Encode your labels (y) as integers starting with 0, i.e. 0, 1, 2, ..., [num_class - 1].\n",
      "  warnings.warn(label_encoder_deprecation_msg, UserWarning)\n",
      "/home/rcarvajal/.miniforge3/envs/test_pycaret/lib/python3.8/site-packages/xgboost/data.py:262: FutureWarning: pandas.Int64Index is deprecated and will be removed from pandas in a future version. Use pandas.Index with the appropriate dtype instead.\n",
      "  elif isinstance(data.columns, (pd.Int64Index, pd.RangeIndex)):\n",
      "/home/rcarvajal/.miniforge3/envs/test_pycaret/lib/python3.8/site-packages/xgboost/data.py:262: FutureWarning: pandas.Int64Index is deprecated and will be removed from pandas in a future version. Use pandas.Index with the appropriate dtype instead.\n",
      "  elif isinstance(data.columns, (pd.Int64Index, pd.RangeIndex)):\n",
      "/home/rcarvajal/.miniforge3/envs/test_pycaret/lib/python3.8/site-packages/xgboost/sklearn.py:1224: UserWarning: The use of label encoder in XGBClassifier is deprecated and will be removed in a future release. To remove this warning, do the following: 1) Pass option use_label_encoder=False when constructing XGBClassifier object; and 2) Encode your labels (y) as integers starting with 0, i.e. 0, 1, 2, ..., [num_class - 1].\n",
      "  warnings.warn(label_encoder_deprecation_msg, UserWarning)\n",
      "/home/rcarvajal/.miniforge3/envs/test_pycaret/lib/python3.8/site-packages/xgboost/data.py:262: FutureWarning: pandas.Int64Index is deprecated and will be removed from pandas in a future version. Use pandas.Index with the appropriate dtype instead.\n",
      "  elif isinstance(data.columns, (pd.Int64Index, pd.RangeIndex)):\n",
      "/home/rcarvajal/.miniforge3/envs/test_pycaret/lib/python3.8/site-packages/xgboost/data.py:262: FutureWarning: pandas.Int64Index is deprecated and will be removed from pandas in a future version. Use pandas.Index with the appropriate dtype instead.\n",
      "  elif isinstance(data.columns, (pd.Int64Index, pd.RangeIndex)):\n",
      "/home/rcarvajal/.miniforge3/envs/test_pycaret/lib/python3.8/site-packages/xgboost/sklearn.py:1224: UserWarning: The use of label encoder in XGBClassifier is deprecated and will be removed in a future release. To remove this warning, do the following: 1) Pass option use_label_encoder=False when constructing XGBClassifier object; and 2) Encode your labels (y) as integers starting with 0, i.e. 0, 1, 2, ..., [num_class - 1].\n",
      "  warnings.warn(label_encoder_deprecation_msg, UserWarning)\n",
      "/home/rcarvajal/.miniforge3/envs/test_pycaret/lib/python3.8/site-packages/xgboost/data.py:262: FutureWarning: pandas.Int64Index is deprecated and will be removed from pandas in a future version. Use pandas.Index with the appropriate dtype instead.\n",
      "  elif isinstance(data.columns, (pd.Int64Index, pd.RangeIndex)):\n",
      "/home/rcarvajal/.miniforge3/envs/test_pycaret/lib/python3.8/site-packages/xgboost/sklearn.py:1224: UserWarning: The use of label encoder in XGBClassifier is deprecated and will be removed in a future release. To remove this warning, do the following: 1) Pass option use_label_encoder=False when constructing XGBClassifier object; and 2) Encode your labels (y) as integers starting with 0, i.e. 0, 1, 2, ..., [num_class - 1].\n",
      "  warnings.warn(label_encoder_deprecation_msg, UserWarning)\n",
      "/home/rcarvajal/.miniforge3/envs/test_pycaret/lib/python3.8/site-packages/xgboost/data.py:262: FutureWarning: pandas.Int64Index is deprecated and will be removed from pandas in a future version. Use pandas.Index with the appropriate dtype instead.\n",
      "  elif isinstance(data.columns, (pd.Int64Index, pd.RangeIndex)):\n",
      "/home/rcarvajal/.miniforge3/envs/test_pycaret/lib/python3.8/site-packages/xgboost/sklearn.py:1224: UserWarning: The use of label encoder in XGBClassifier is deprecated and will be removed in a future release. To remove this warning, do the following: 1) Pass option use_label_encoder=False when constructing XGBClassifier object; and 2) Encode your labels (y) as integers starting with 0, i.e. 0, 1, 2, ..., [num_class - 1].\n",
      "  warnings.warn(label_encoder_deprecation_msg, UserWarning)\n",
      "/home/rcarvajal/.miniforge3/envs/test_pycaret/lib/python3.8/site-packages/xgboost/data.py:262: FutureWarning: pandas.Int64Index is deprecated and will be removed from pandas in a future version. Use pandas.Index with the appropriate dtype instead.\n",
      "  elif isinstance(data.columns, (pd.Int64Index, pd.RangeIndex)):\n",
      "/home/rcarvajal/.miniforge3/envs/test_pycaret/lib/python3.8/site-packages/xgboost/data.py:262: FutureWarning: pandas.Int64Index is deprecated and will be removed from pandas in a future version. Use pandas.Index with the appropriate dtype instead.\n",
      "  elif isinstance(data.columns, (pd.Int64Index, pd.RangeIndex)):\n",
      "/home/rcarvajal/.miniforge3/envs/test_pycaret/lib/python3.8/site-packages/xgboost/sklearn.py:1224: UserWarning: The use of label encoder in XGBClassifier is deprecated and will be removed in a future release. To remove this warning, do the following: 1) Pass option use_label_encoder=False when constructing XGBClassifier object; and 2) Encode your labels (y) as integers starting with 0, i.e. 0, 1, 2, ..., [num_class - 1].\n",
      "  warnings.warn(label_encoder_deprecation_msg, UserWarning)\n",
      "/home/rcarvajal/.miniforge3/envs/test_pycaret/lib/python3.8/site-packages/xgboost/data.py:262: FutureWarning: pandas.Int64Index is deprecated and will be removed from pandas in a future version. Use pandas.Index with the appropriate dtype instead.\n",
      "  elif isinstance(data.columns, (pd.Int64Index, pd.RangeIndex)):\n",
      "/home/rcarvajal/.miniforge3/envs/test_pycaret/lib/python3.8/site-packages/xgboost/data.py:262: FutureWarning: pandas.Int64Index is deprecated and will be removed from pandas in a future version. Use pandas.Index with the appropriate dtype instead.\n",
      "  elif isinstance(data.columns, (pd.Int64Index, pd.RangeIndex)):\n",
      "/home/rcarvajal/.miniforge3/envs/test_pycaret/lib/python3.8/site-packages/xgboost/sklearn.py:1224: UserWarning: The use of label encoder in XGBClassifier is deprecated and will be removed in a future release. To remove this warning, do the following: 1) Pass option use_label_encoder=False when constructing XGBClassifier object; and 2) Encode your labels (y) as integers starting with 0, i.e. 0, 1, 2, ..., [num_class - 1].\n",
      "  warnings.warn(label_encoder_deprecation_msg, UserWarning)\n",
      "/home/rcarvajal/.miniforge3/envs/test_pycaret/lib/python3.8/site-packages/xgboost/data.py:262: FutureWarning: pandas.Int64Index is deprecated and will be removed from pandas in a future version. Use pandas.Index with the appropriate dtype instead.\n",
      "  elif isinstance(data.columns, (pd.Int64Index, pd.RangeIndex)):\n",
      "/home/rcarvajal/.miniforge3/envs/test_pycaret/lib/python3.8/site-packages/xgboost/compat.py:36: FutureWarning: pandas.Int64Index is deprecated and will be removed from pandas in a future version. Use pandas.Index with the appropriate dtype instead.\n",
      "  from pandas import MultiIndex, Int64Index\n",
      "/home/rcarvajal/.miniforge3/envs/test_pycaret/lib/python3.8/site-packages/xgboost/sklearn.py:1224: UserWarning: The use of label encoder in XGBClassifier is deprecated and will be removed in a future release. To remove this warning, do the following: 1) Pass option use_label_encoder=False when constructing XGBClassifier object; and 2) Encode your labels (y) as integers starting with 0, i.e. 0, 1, 2, ..., [num_class - 1].\n",
      "  warnings.warn(label_encoder_deprecation_msg, UserWarning)\n",
      "/home/rcarvajal/.miniforge3/envs/test_pycaret/lib/python3.8/site-packages/xgboost/data.py:262: FutureWarning: pandas.Int64Index is deprecated and will be removed from pandas in a future version. Use pandas.Index with the appropriate dtype instead.\n",
      "  elif isinstance(data.columns, (pd.Int64Index, pd.RangeIndex)):\n",
      "/home/rcarvajal/.miniforge3/envs/test_pycaret/lib/python3.8/site-packages/xgboost/sklearn.py:1224: UserWarning: The use of label encoder in XGBClassifier is deprecated and will be removed in a future release. To remove this warning, do the following: 1) Pass option use_label_encoder=False when constructing XGBClassifier object; and 2) Encode your labels (y) as integers starting with 0, i.e. 0, 1, 2, ..., [num_class - 1].\n",
      "  warnings.warn(label_encoder_deprecation_msg, UserWarning)\n",
      "/home/rcarvajal/.miniforge3/envs/test_pycaret/lib/python3.8/site-packages/xgboost/data.py:262: FutureWarning: pandas.Int64Index is deprecated and will be removed from pandas in a future version. Use pandas.Index with the appropriate dtype instead.\n",
      "  elif isinstance(data.columns, (pd.Int64Index, pd.RangeIndex)):\n",
      "/home/rcarvajal/.miniforge3/envs/test_pycaret/lib/python3.8/site-packages/xgboost/data.py:262: FutureWarning: pandas.Int64Index is deprecated and will be removed from pandas in a future version. Use pandas.Index with the appropriate dtype instead.\n",
      "  elif isinstance(data.columns, (pd.Int64Index, pd.RangeIndex)):\n",
      "/home/rcarvajal/.miniforge3/envs/test_pycaret/lib/python3.8/site-packages/xgboost/sklearn.py:1224: UserWarning: The use of label encoder in XGBClassifier is deprecated and will be removed in a future release. To remove this warning, do the following: 1) Pass option use_label_encoder=False when constructing XGBClassifier object; and 2) Encode your labels (y) as integers starting with 0, i.e. 0, 1, 2, ..., [num_class - 1].\n",
      "  warnings.warn(label_encoder_deprecation_msg, UserWarning)\n",
      "/home/rcarvajal/.miniforge3/envs/test_pycaret/lib/python3.8/site-packages/xgboost/data.py:262: FutureWarning: pandas.Int64Index is deprecated and will be removed from pandas in a future version. Use pandas.Index with the appropriate dtype instead.\n",
      "  elif isinstance(data.columns, (pd.Int64Index, pd.RangeIndex)):\n",
      "/home/rcarvajal/.miniforge3/envs/test_pycaret/lib/python3.8/site-packages/xgboost/data.py:262: FutureWarning: pandas.Int64Index is deprecated and will be removed from pandas in a future version. Use pandas.Index with the appropriate dtype instead.\n",
      "  elif isinstance(data.columns, (pd.Int64Index, pd.RangeIndex)):\n",
      "/home/rcarvajal/.miniforge3/envs/test_pycaret/lib/python3.8/site-packages/xgboost/sklearn.py:1224: UserWarning: The use of label encoder in XGBClassifier is deprecated and will be removed in a future release. To remove this warning, do the following: 1) Pass option use_label_encoder=False when constructing XGBClassifier object; and 2) Encode your labels (y) as integers starting with 0, i.e. 0, 1, 2, ..., [num_class - 1].\n",
      "  warnings.warn(label_encoder_deprecation_msg, UserWarning)\n",
      "/home/rcarvajal/.miniforge3/envs/test_pycaret/lib/python3.8/site-packages/xgboost/data.py:262: FutureWarning: pandas.Int64Index is deprecated and will be removed from pandas in a future version. Use pandas.Index with the appropriate dtype instead.\n",
      "  elif isinstance(data.columns, (pd.Int64Index, pd.RangeIndex)):\n",
      "/home/rcarvajal/.miniforge3/envs/test_pycaret/lib/python3.8/site-packages/xgboost/sklearn.py:1224: UserWarning: The use of label encoder in XGBClassifier is deprecated and will be removed in a future release. To remove this warning, do the following: 1) Pass option use_label_encoder=False when constructing XGBClassifier object; and 2) Encode your labels (y) as integers starting with 0, i.e. 0, 1, 2, ..., [num_class - 1].\n",
      "  warnings.warn(label_encoder_deprecation_msg, UserWarning)\n",
      "/home/rcarvajal/.miniforge3/envs/test_pycaret/lib/python3.8/site-packages/xgboost/data.py:262: FutureWarning: pandas.Int64Index is deprecated and will be removed from pandas in a future version. Use pandas.Index with the appropriate dtype instead.\n",
      "  elif isinstance(data.columns, (pd.Int64Index, pd.RangeIndex)):\n",
      "/home/rcarvajal/.miniforge3/envs/test_pycaret/lib/python3.8/site-packages/xgboost/data.py:262: FutureWarning: pandas.Int64Index is deprecated and will be removed from pandas in a future version. Use pandas.Index with the appropriate dtype instead.\n",
      "  elif isinstance(data.columns, (pd.Int64Index, pd.RangeIndex)):\n",
      "/home/rcarvajal/.miniforge3/envs/test_pycaret/lib/python3.8/site-packages/xgboost/sklearn.py:1224: UserWarning: The use of label encoder in XGBClassifier is deprecated and will be removed in a future release. To remove this warning, do the following: 1) Pass option use_label_encoder=False when constructing XGBClassifier object; and 2) Encode your labels (y) as integers starting with 0, i.e. 0, 1, 2, ..., [num_class - 1].\n",
      "  warnings.warn(label_encoder_deprecation_msg, UserWarning)\n",
      "/home/rcarvajal/.miniforge3/envs/test_pycaret/lib/python3.8/site-packages/xgboost/data.py:262: FutureWarning: pandas.Int64Index is deprecated and will be removed from pandas in a future version. Use pandas.Index with the appropriate dtype instead.\n",
      "  elif isinstance(data.columns, (pd.Int64Index, pd.RangeIndex)):\n",
      "/home/rcarvajal/.miniforge3/envs/test_pycaret/lib/python3.8/site-packages/xgboost/sklearn.py:1224: UserWarning: The use of label encoder in XGBClassifier is deprecated and will be removed in a future release. To remove this warning, do the following: 1) Pass option use_label_encoder=False when constructing XGBClassifier object; and 2) Encode your labels (y) as integers starting with 0, i.e. 0, 1, 2, ..., [num_class - 1].\n",
      "  warnings.warn(label_encoder_deprecation_msg, UserWarning)\n",
      "/home/rcarvajal/.miniforge3/envs/test_pycaret/lib/python3.8/site-packages/xgboost/data.py:262: FutureWarning: pandas.Int64Index is deprecated and will be removed from pandas in a future version. Use pandas.Index with the appropriate dtype instead.\n",
      "  elif isinstance(data.columns, (pd.Int64Index, pd.RangeIndex)):\n",
      "/home/rcarvajal/.miniforge3/envs/test_pycaret/lib/python3.8/site-packages/xgboost/data.py:262: FutureWarning: pandas.Int64Index is deprecated and will be removed from pandas in a future version. Use pandas.Index with the appropriate dtype instead.\n",
      "  elif isinstance(data.columns, (pd.Int64Index, pd.RangeIndex)):\n",
      "/home/rcarvajal/.miniforge3/envs/test_pycaret/lib/python3.8/site-packages/xgboost/sklearn.py:1224: UserWarning: The use of label encoder in XGBClassifier is deprecated and will be removed in a future release. To remove this warning, do the following: 1) Pass option use_label_encoder=False when constructing XGBClassifier object; and 2) Encode your labels (y) as integers starting with 0, i.e. 0, 1, 2, ..., [num_class - 1].\n",
      "  warnings.warn(label_encoder_deprecation_msg, UserWarning)\n",
      "/home/rcarvajal/.miniforge3/envs/test_pycaret/lib/python3.8/site-packages/xgboost/data.py:262: FutureWarning: pandas.Int64Index is deprecated and will be removed from pandas in a future version. Use pandas.Index with the appropriate dtype instead.\n",
      "  elif isinstance(data.columns, (pd.Int64Index, pd.RangeIndex)):\n",
      "/home/rcarvajal/.miniforge3/envs/test_pycaret/lib/python3.8/site-packages/xgboost/compat.py:36: FutureWarning: pandas.Int64Index is deprecated and will be removed from pandas in a future version. Use pandas.Index with the appropriate dtype instead.\n",
      "  from pandas import MultiIndex, Int64Index\n",
      "/home/rcarvajal/.miniforge3/envs/test_pycaret/lib/python3.8/site-packages/xgboost/sklearn.py:1224: UserWarning: The use of label encoder in XGBClassifier is deprecated and will be removed in a future release. To remove this warning, do the following: 1) Pass option use_label_encoder=False when constructing XGBClassifier object; and 2) Encode your labels (y) as integers starting with 0, i.e. 0, 1, 2, ..., [num_class - 1].\n",
      "  warnings.warn(label_encoder_deprecation_msg, UserWarning)\n",
      "/home/rcarvajal/.miniforge3/envs/test_pycaret/lib/python3.8/site-packages/xgboost/data.py:262: FutureWarning: pandas.Int64Index is deprecated and will be removed from pandas in a future version. Use pandas.Index with the appropriate dtype instead.\n",
      "  elif isinstance(data.columns, (pd.Int64Index, pd.RangeIndex)):\n",
      "/home/rcarvajal/.miniforge3/envs/test_pycaret/lib/python3.8/site-packages/xgboost/sklearn.py:1224: UserWarning: The use of label encoder in XGBClassifier is deprecated and will be removed in a future release. To remove this warning, do the following: 1) Pass option use_label_encoder=False when constructing XGBClassifier object; and 2) Encode your labels (y) as integers starting with 0, i.e. 0, 1, 2, ..., [num_class - 1].\n",
      "  warnings.warn(label_encoder_deprecation_msg, UserWarning)\n",
      "/home/rcarvajal/.miniforge3/envs/test_pycaret/lib/python3.8/site-packages/xgboost/data.py:262: FutureWarning: pandas.Int64Index is deprecated and will be removed from pandas in a future version. Use pandas.Index with the appropriate dtype instead.\n",
      "  elif isinstance(data.columns, (pd.Int64Index, pd.RangeIndex)):\n",
      "/home/rcarvajal/.miniforge3/envs/test_pycaret/lib/python3.8/site-packages/xgboost/data.py:262: FutureWarning: pandas.Int64Index is deprecated and will be removed from pandas in a future version. Use pandas.Index with the appropriate dtype instead.\n",
      "  elif isinstance(data.columns, (pd.Int64Index, pd.RangeIndex)):\n",
      "/home/rcarvajal/.miniforge3/envs/test_pycaret/lib/python3.8/site-packages/xgboost/sklearn.py:1224: UserWarning: The use of label encoder in XGBClassifier is deprecated and will be removed in a future release. To remove this warning, do the following: 1) Pass option use_label_encoder=False when constructing XGBClassifier object; and 2) Encode your labels (y) as integers starting with 0, i.e. 0, 1, 2, ..., [num_class - 1].\n",
      "  warnings.warn(label_encoder_deprecation_msg, UserWarning)\n",
      "/home/rcarvajal/.miniforge3/envs/test_pycaret/lib/python3.8/site-packages/xgboost/data.py:262: FutureWarning: pandas.Int64Index is deprecated and will be removed from pandas in a future version. Use pandas.Index with the appropriate dtype instead.\n",
      "  elif isinstance(data.columns, (pd.Int64Index, pd.RangeIndex)):\n",
      "/home/rcarvajal/.miniforge3/envs/test_pycaret/lib/python3.8/site-packages/xgboost/data.py:262: FutureWarning: pandas.Int64Index is deprecated and will be removed from pandas in a future version. Use pandas.Index with the appropriate dtype instead.\n",
      "  elif isinstance(data.columns, (pd.Int64Index, pd.RangeIndex)):\n",
      "/home/rcarvajal/.miniforge3/envs/test_pycaret/lib/python3.8/site-packages/xgboost/sklearn.py:1224: UserWarning: The use of label encoder in XGBClassifier is deprecated and will be removed in a future release. To remove this warning, do the following: 1) Pass option use_label_encoder=False when constructing XGBClassifier object; and 2) Encode your labels (y) as integers starting with 0, i.e. 0, 1, 2, ..., [num_class - 1].\n",
      "  warnings.warn(label_encoder_deprecation_msg, UserWarning)\n",
      "/home/rcarvajal/.miniforge3/envs/test_pycaret/lib/python3.8/site-packages/xgboost/data.py:262: FutureWarning: pandas.Int64Index is deprecated and will be removed from pandas in a future version. Use pandas.Index with the appropriate dtype instead.\n",
      "  elif isinstance(data.columns, (pd.Int64Index, pd.RangeIndex)):\n",
      "/home/rcarvajal/.miniforge3/envs/test_pycaret/lib/python3.8/site-packages/xgboost/sklearn.py:1224: UserWarning: The use of label encoder in XGBClassifier is deprecated and will be removed in a future release. To remove this warning, do the following: 1) Pass option use_label_encoder=False when constructing XGBClassifier object; and 2) Encode your labels (y) as integers starting with 0, i.e. 0, 1, 2, ..., [num_class - 1].\n",
      "  warnings.warn(label_encoder_deprecation_msg, UserWarning)\n",
      "/home/rcarvajal/.miniforge3/envs/test_pycaret/lib/python3.8/site-packages/xgboost/data.py:262: FutureWarning: pandas.Int64Index is deprecated and will be removed from pandas in a future version. Use pandas.Index with the appropriate dtype instead.\n",
      "  elif isinstance(data.columns, (pd.Int64Index, pd.RangeIndex)):\n",
      "/home/rcarvajal/.miniforge3/envs/test_pycaret/lib/python3.8/site-packages/xgboost/data.py:262: FutureWarning: pandas.Int64Index is deprecated and will be removed from pandas in a future version. Use pandas.Index with the appropriate dtype instead.\n",
      "  elif isinstance(data.columns, (pd.Int64Index, pd.RangeIndex)):\n",
      "/home/rcarvajal/.miniforge3/envs/test_pycaret/lib/python3.8/site-packages/xgboost/sklearn.py:1224: UserWarning: The use of label encoder in XGBClassifier is deprecated and will be removed in a future release. To remove this warning, do the following: 1) Pass option use_label_encoder=False when constructing XGBClassifier object; and 2) Encode your labels (y) as integers starting with 0, i.e. 0, 1, 2, ..., [num_class - 1].\n",
      "  warnings.warn(label_encoder_deprecation_msg, UserWarning)\n",
      "/home/rcarvajal/.miniforge3/envs/test_pycaret/lib/python3.8/site-packages/xgboost/data.py:262: FutureWarning: pandas.Int64Index is deprecated and will be removed from pandas in a future version. Use pandas.Index with the appropriate dtype instead.\n",
      "  elif isinstance(data.columns, (pd.Int64Index, pd.RangeIndex)):\n",
      "/home/rcarvajal/.miniforge3/envs/test_pycaret/lib/python3.8/site-packages/xgboost/sklearn.py:1224: UserWarning: The use of label encoder in XGBClassifier is deprecated and will be removed in a future release. To remove this warning, do the following: 1) Pass option use_label_encoder=False when constructing XGBClassifier object; and 2) Encode your labels (y) as integers starting with 0, i.e. 0, 1, 2, ..., [num_class - 1].\n",
      "  warnings.warn(label_encoder_deprecation_msg, UserWarning)\n",
      "/home/rcarvajal/.miniforge3/envs/test_pycaret/lib/python3.8/site-packages/xgboost/data.py:262: FutureWarning: pandas.Int64Index is deprecated and will be removed from pandas in a future version. Use pandas.Index with the appropriate dtype instead.\n",
      "  elif isinstance(data.columns, (pd.Int64Index, pd.RangeIndex)):\n",
      "/home/rcarvajal/.miniforge3/envs/test_pycaret/lib/python3.8/site-packages/xgboost/data.py:262: FutureWarning: pandas.Int64Index is deprecated and will be removed from pandas in a future version. Use pandas.Index with the appropriate dtype instead.\n",
      "  elif isinstance(data.columns, (pd.Int64Index, pd.RangeIndex)):\n",
      "/home/rcarvajal/.miniforge3/envs/test_pycaret/lib/python3.8/site-packages/xgboost/sklearn.py:1224: UserWarning: The use of label encoder in XGBClassifier is deprecated and will be removed in a future release. To remove this warning, do the following: 1) Pass option use_label_encoder=False when constructing XGBClassifier object; and 2) Encode your labels (y) as integers starting with 0, i.e. 0, 1, 2, ..., [num_class - 1].\n",
      "  warnings.warn(label_encoder_deprecation_msg, UserWarning)\n",
      "/home/rcarvajal/.miniforge3/envs/test_pycaret/lib/python3.8/site-packages/xgboost/data.py:262: FutureWarning: pandas.Int64Index is deprecated and will be removed from pandas in a future version. Use pandas.Index with the appropriate dtype instead.\n",
      "  elif isinstance(data.columns, (pd.Int64Index, pd.RangeIndex)):\n",
      "/home/rcarvajal/.miniforge3/envs/test_pycaret/lib/python3.8/site-packages/xgboost/compat.py:36: FutureWarning: pandas.Int64Index is deprecated and will be removed from pandas in a future version. Use pandas.Index with the appropriate dtype instead.\n",
      "  from pandas import MultiIndex, Int64Index\n",
      "/home/rcarvajal/.miniforge3/envs/test_pycaret/lib/python3.8/site-packages/xgboost/sklearn.py:1224: UserWarning: The use of label encoder in XGBClassifier is deprecated and will be removed in a future release. To remove this warning, do the following: 1) Pass option use_label_encoder=False when constructing XGBClassifier object; and 2) Encode your labels (y) as integers starting with 0, i.e. 0, 1, 2, ..., [num_class - 1].\n",
      "  warnings.warn(label_encoder_deprecation_msg, UserWarning)\n",
      "/home/rcarvajal/.miniforge3/envs/test_pycaret/lib/python3.8/site-packages/xgboost/data.py:262: FutureWarning: pandas.Int64Index is deprecated and will be removed from pandas in a future version. Use pandas.Index with the appropriate dtype instead.\n",
      "  elif isinstance(data.columns, (pd.Int64Index, pd.RangeIndex)):\n",
      "/home/rcarvajal/.miniforge3/envs/test_pycaret/lib/python3.8/site-packages/xgboost/sklearn.py:1224: UserWarning: The use of label encoder in XGBClassifier is deprecated and will be removed in a future release. To remove this warning, do the following: 1) Pass option use_label_encoder=False when constructing XGBClassifier object; and 2) Encode your labels (y) as integers starting with 0, i.e. 0, 1, 2, ..., [num_class - 1].\n",
      "  warnings.warn(label_encoder_deprecation_msg, UserWarning)\n",
      "/home/rcarvajal/.miniforge3/envs/test_pycaret/lib/python3.8/site-packages/xgboost/data.py:262: FutureWarning: pandas.Int64Index is deprecated and will be removed from pandas in a future version. Use pandas.Index with the appropriate dtype instead.\n",
      "  elif isinstance(data.columns, (pd.Int64Index, pd.RangeIndex)):\n",
      "/home/rcarvajal/.miniforge3/envs/test_pycaret/lib/python3.8/site-packages/xgboost/data.py:262: FutureWarning: pandas.Int64Index is deprecated and will be removed from pandas in a future version. Use pandas.Index with the appropriate dtype instead.\n",
      "  elif isinstance(data.columns, (pd.Int64Index, pd.RangeIndex)):\n",
      "/home/rcarvajal/.miniforge3/envs/test_pycaret/lib/python3.8/site-packages/xgboost/sklearn.py:1224: UserWarning: The use of label encoder in XGBClassifier is deprecated and will be removed in a future release. To remove this warning, do the following: 1) Pass option use_label_encoder=False when constructing XGBClassifier object; and 2) Encode your labels (y) as integers starting with 0, i.e. 0, 1, 2, ..., [num_class - 1].\n",
      "  warnings.warn(label_encoder_deprecation_msg, UserWarning)\n",
      "/home/rcarvajal/.miniforge3/envs/test_pycaret/lib/python3.8/site-packages/xgboost/data.py:262: FutureWarning: pandas.Int64Index is deprecated and will be removed from pandas in a future version. Use pandas.Index with the appropriate dtype instead.\n",
      "  elif isinstance(data.columns, (pd.Int64Index, pd.RangeIndex)):\n",
      "/home/rcarvajal/.miniforge3/envs/test_pycaret/lib/python3.8/site-packages/xgboost/data.py:262: FutureWarning: pandas.Int64Index is deprecated and will be removed from pandas in a future version. Use pandas.Index with the appropriate dtype instead.\n",
      "  elif isinstance(data.columns, (pd.Int64Index, pd.RangeIndex)):\n",
      "/home/rcarvajal/.miniforge3/envs/test_pycaret/lib/python3.8/site-packages/xgboost/sklearn.py:1224: UserWarning: The use of label encoder in XGBClassifier is deprecated and will be removed in a future release. To remove this warning, do the following: 1) Pass option use_label_encoder=False when constructing XGBClassifier object; and 2) Encode your labels (y) as integers starting with 0, i.e. 0, 1, 2, ..., [num_class - 1].\n",
      "  warnings.warn(label_encoder_deprecation_msg, UserWarning)\n",
      "/home/rcarvajal/.miniforge3/envs/test_pycaret/lib/python3.8/site-packages/xgboost/data.py:262: FutureWarning: pandas.Int64Index is deprecated and will be removed from pandas in a future version. Use pandas.Index with the appropriate dtype instead.\n",
      "  elif isinstance(data.columns, (pd.Int64Index, pd.RangeIndex)):\n",
      "/home/rcarvajal/.miniforge3/envs/test_pycaret/lib/python3.8/site-packages/xgboost/sklearn.py:1224: UserWarning: The use of label encoder in XGBClassifier is deprecated and will be removed in a future release. To remove this warning, do the following: 1) Pass option use_label_encoder=False when constructing XGBClassifier object; and 2) Encode your labels (y) as integers starting with 0, i.e. 0, 1, 2, ..., [num_class - 1].\n",
      "  warnings.warn(label_encoder_deprecation_msg, UserWarning)\n",
      "/home/rcarvajal/.miniforge3/envs/test_pycaret/lib/python3.8/site-packages/xgboost/data.py:262: FutureWarning: pandas.Int64Index is deprecated and will be removed from pandas in a future version. Use pandas.Index with the appropriate dtype instead.\n",
      "  elif isinstance(data.columns, (pd.Int64Index, pd.RangeIndex)):\n",
      "/home/rcarvajal/.miniforge3/envs/test_pycaret/lib/python3.8/site-packages/xgboost/data.py:262: FutureWarning: pandas.Int64Index is deprecated and will be removed from pandas in a future version. Use pandas.Index with the appropriate dtype instead.\n",
      "  elif isinstance(data.columns, (pd.Int64Index, pd.RangeIndex)):\n",
      "/home/rcarvajal/.miniforge3/envs/test_pycaret/lib/python3.8/site-packages/xgboost/sklearn.py:1224: UserWarning: The use of label encoder in XGBClassifier is deprecated and will be removed in a future release. To remove this warning, do the following: 1) Pass option use_label_encoder=False when constructing XGBClassifier object; and 2) Encode your labels (y) as integers starting with 0, i.e. 0, 1, 2, ..., [num_class - 1].\n",
      "  warnings.warn(label_encoder_deprecation_msg, UserWarning)\n",
      "/home/rcarvajal/.miniforge3/envs/test_pycaret/lib/python3.8/site-packages/xgboost/data.py:262: FutureWarning: pandas.Int64Index is deprecated and will be removed from pandas in a future version. Use pandas.Index with the appropriate dtype instead.\n",
      "  elif isinstance(data.columns, (pd.Int64Index, pd.RangeIndex)):\n",
      "/home/rcarvajal/.miniforge3/envs/test_pycaret/lib/python3.8/site-packages/xgboost/data.py:262: FutureWarning: pandas.Int64Index is deprecated and will be removed from pandas in a future version. Use pandas.Index with the appropriate dtype instead.\n",
      "  elif isinstance(data.columns, (pd.Int64Index, pd.RangeIndex)):\n",
      "/home/rcarvajal/.miniforge3/envs/test_pycaret/lib/python3.8/site-packages/xgboost/sklearn.py:1224: UserWarning: The use of label encoder in XGBClassifier is deprecated and will be removed in a future release. To remove this warning, do the following: 1) Pass option use_label_encoder=False when constructing XGBClassifier object; and 2) Encode your labels (y) as integers starting with 0, i.e. 0, 1, 2, ..., [num_class - 1].\n",
      "  warnings.warn(label_encoder_deprecation_msg, UserWarning)\n",
      "/home/rcarvajal/.miniforge3/envs/test_pycaret/lib/python3.8/site-packages/xgboost/data.py:262: FutureWarning: pandas.Int64Index is deprecated and will be removed from pandas in a future version. Use pandas.Index with the appropriate dtype instead.\n",
      "  elif isinstance(data.columns, (pd.Int64Index, pd.RangeIndex)):\n",
      "/home/rcarvajal/.miniforge3/envs/test_pycaret/lib/python3.8/site-packages/xgboost/sklearn.py:1224: UserWarning: The use of label encoder in XGBClassifier is deprecated and will be removed in a future release. To remove this warning, do the following: 1) Pass option use_label_encoder=False when constructing XGBClassifier object; and 2) Encode your labels (y) as integers starting with 0, i.e. 0, 1, 2, ..., [num_class - 1].\n",
      "  warnings.warn(label_encoder_deprecation_msg, UserWarning)\n",
      "/home/rcarvajal/.miniforge3/envs/test_pycaret/lib/python3.8/site-packages/xgboost/data.py:262: FutureWarning: pandas.Int64Index is deprecated and will be removed from pandas in a future version. Use pandas.Index with the appropriate dtype instead.\n",
      "  elif isinstance(data.columns, (pd.Int64Index, pd.RangeIndex)):\n"
     ]
    }
   ],
   "source": [
    "final_AGN_clf = pyc.finalize_model(tuned_AGN_clf)"
   ]
  },
  {
   "cell_type": "code",
   "execution_count": 173,
   "id": "cd5e2c97",
   "metadata": {},
   "outputs": [
    {
     "data": {
      "text/plain": [
       "{'gbc': GradientBoostingClassifier(ccp_alpha=0.0, criterion='friedman_mse', init=None,\n",
       "                            learning_rate=0.1, loss='deviance', max_depth=3,\n",
       "                            max_features=None, max_leaf_nodes=None,\n",
       "                            min_impurity_decrease=0.0, min_impurity_split=None,\n",
       "                            min_samples_leaf=1, min_samples_split=2,\n",
       "                            min_weight_fraction_leaf=0.0, n_estimators=100,\n",
       "                            n_iter_no_change=None, presort='deprecated',\n",
       "                            random_state=42, subsample=1.0, tol=0.0001,\n",
       "                            validation_fraction=0.1, verbose=0,\n",
       "                            warm_start=False),\n",
       " 'svm': SGDClassifier(alpha=0.0001, average=False, class_weight=None,\n",
       "               early_stopping=False, epsilon=0.1, eta0=0.001, fit_intercept=True,\n",
       "               l1_ratio=0.15, learning_rate='optimal', loss='hinge',\n",
       "               max_iter=1000, n_iter_no_change=5, n_jobs=12, penalty='l2',\n",
       "               power_t=0.5, random_state=42, shuffle=True, tol=0.001,\n",
       "               validation_fraction=0.1, verbose=0, warm_start=False),\n",
       " 'rf': RandomForestClassifier(bootstrap=True, ccp_alpha=0.0, class_weight=None,\n",
       "                        criterion='gini', max_depth=None, max_features='auto',\n",
       "                        max_leaf_nodes=None, max_samples=None,\n",
       "                        min_impurity_decrease=0.0, min_impurity_split=None,\n",
       "                        min_samples_leaf=1, min_samples_split=2,\n",
       "                        min_weight_fraction_leaf=0.0, n_estimators=100,\n",
       "                        n_jobs=12, oob_score=False, random_state=42, verbose=0,\n",
       "                        warm_start=False),\n",
       " 'xgboost': XGBClassifier(base_score=0.5, booster='gbtree', colsample_bylevel=1,\n",
       "               colsample_bynode=1, colsample_bytree=1, enable_categorical=False,\n",
       "               gamma=0, gpu_id=-1, importance_type=None,\n",
       "               interaction_constraints='', learning_rate=0.300000012,\n",
       "               max_delta_step=0, max_depth=6, min_child_weight=1, missing=nan,\n",
       "               monotone_constraints='()', n_estimators=100, n_jobs=12,\n",
       "               num_parallel_tree=1, objective='binary:logistic',\n",
       "               predictor='auto', random_state=42, reg_alpha=0, reg_lambda=1,\n",
       "               scale_pos_weight=1, subsample=1, tree_method='auto',\n",
       "               use_label_encoder=True, validate_parameters=1, verbosity=0)}"
      ]
     },
     "execution_count": 173,
     "metadata": {},
     "output_type": "execute_result"
    },
    {
     "name": "stderr",
     "output_type": "stream",
     "text": [
      "/home/rcarvajal/.miniforge3/envs/test_pycaret/lib/python3.8/site-packages/xgboost/compat.py:36: FutureWarning: pandas.Int64Index is deprecated and will be removed from pandas in a future version. Use pandas.Index with the appropriate dtype instead.\n",
      "  from pandas import MultiIndex, Int64Index\n",
      "/home/rcarvajal/.miniforge3/envs/test_pycaret/lib/python3.8/site-packages/sklearn/model_selection/_validation.py:548: FitFailedWarning: Estimator fit failed. The score on this train-test partition for these parameters will be set to 0.000000. Details: \n",
      "Traceback (most recent call last):\n",
      "  File \"/home/rcarvajal/.miniforge3/envs/test_pycaret/lib/python3.8/site-packages/sklearn/model_selection/_validation.py\", line 531, in _fit_and_score\n",
      "    estimator.fit(X_train, y_train, **fit_params)\n",
      "  File \"/home/rcarvajal/.miniforge3/envs/test_pycaret/lib/python3.8/site-packages/pycaret/internal/pipeline.py\", line 118, in fit\n",
      "    result = super().fit(X, y=y, **fit_kwargs)\n",
      "  File \"/home/rcarvajal/.miniforge3/envs/test_pycaret/lib/python3.8/site-packages/imblearn/pipeline.py\", line 281, in fit\n",
      "    self._final_estimator.fit(Xt, yt, **fit_params)\n",
      "  File \"/home/rcarvajal/.miniforge3/envs/test_pycaret/lib/python3.8/site-packages/sklearn/calibration.py\", line 155, in fit\n",
      "    calibrated_classifier.fit(X, y, sample_weight)\n",
      "  File \"/home/rcarvajal/.miniforge3/envs/test_pycaret/lib/python3.8/site-packages/sklearn/calibration.py\", line 334, in fit\n",
      "    df, idx_pos_class = self._preproc(X)\n",
      "  File \"/home/rcarvajal/.miniforge3/envs/test_pycaret/lib/python3.8/site-packages/sklearn/calibration.py\", line 297, in _preproc\n",
      "    raise RuntimeError('classifier has no decision_function or '\n",
      "RuntimeError: classifier has no decision_function or predict_proba method.\n",
      "\n",
      "  warnings.warn(\"Estimator fit failed. The score on this train-test\"\n",
      "/home/rcarvajal/.miniforge3/envs/test_pycaret/lib/python3.8/site-packages/xgboost/compat.py:36: FutureWarning: pandas.Int64Index is deprecated and will be removed from pandas in a future version. Use pandas.Index with the appropriate dtype instead.\n",
      "  from pandas import MultiIndex, Int64Index\n",
      "/home/rcarvajal/.miniforge3/envs/test_pycaret/lib/python3.8/site-packages/sklearn/model_selection/_validation.py:548: FitFailedWarning: Estimator fit failed. The score on this train-test partition for these parameters will be set to 0.000000. Details: \n",
      "Traceback (most recent call last):\n",
      "  File \"/home/rcarvajal/.miniforge3/envs/test_pycaret/lib/python3.8/site-packages/sklearn/model_selection/_validation.py\", line 531, in _fit_and_score\n",
      "    estimator.fit(X_train, y_train, **fit_params)\n",
      "  File \"/home/rcarvajal/.miniforge3/envs/test_pycaret/lib/python3.8/site-packages/pycaret/internal/pipeline.py\", line 118, in fit\n",
      "    result = super().fit(X, y=y, **fit_kwargs)\n",
      "  File \"/home/rcarvajal/.miniforge3/envs/test_pycaret/lib/python3.8/site-packages/imblearn/pipeline.py\", line 281, in fit\n",
      "    self._final_estimator.fit(Xt, yt, **fit_params)\n",
      "  File \"/home/rcarvajal/.miniforge3/envs/test_pycaret/lib/python3.8/site-packages/sklearn/calibration.py\", line 155, in fit\n",
      "    calibrated_classifier.fit(X, y, sample_weight)\n",
      "  File \"/home/rcarvajal/.miniforge3/envs/test_pycaret/lib/python3.8/site-packages/sklearn/calibration.py\", line 334, in fit\n",
      "    df, idx_pos_class = self._preproc(X)\n",
      "  File \"/home/rcarvajal/.miniforge3/envs/test_pycaret/lib/python3.8/site-packages/sklearn/calibration.py\", line 297, in _preproc\n",
      "    raise RuntimeError('classifier has no decision_function or '\n",
      "RuntimeError: classifier has no decision_function or predict_proba method.\n",
      "\n",
      "  warnings.warn(\"Estimator fit failed. The score on this train-test\"\n",
      "/home/rcarvajal/.miniforge3/envs/test_pycaret/lib/python3.8/site-packages/xgboost/compat.py:36: FutureWarning: pandas.Int64Index is deprecated and will be removed from pandas in a future version. Use pandas.Index with the appropriate dtype instead.\n",
      "  from pandas import MultiIndex, Int64Index\n",
      "/home/rcarvajal/.miniforge3/envs/test_pycaret/lib/python3.8/site-packages/sklearn/model_selection/_validation.py:548: FitFailedWarning: Estimator fit failed. The score on this train-test partition for these parameters will be set to 0.000000. Details: \n",
      "Traceback (most recent call last):\n",
      "  File \"/home/rcarvajal/.miniforge3/envs/test_pycaret/lib/python3.8/site-packages/sklearn/model_selection/_validation.py\", line 531, in _fit_and_score\n",
      "    estimator.fit(X_train, y_train, **fit_params)\n",
      "  File \"/home/rcarvajal/.miniforge3/envs/test_pycaret/lib/python3.8/site-packages/pycaret/internal/pipeline.py\", line 118, in fit\n",
      "    result = super().fit(X, y=y, **fit_kwargs)\n",
      "  File \"/home/rcarvajal/.miniforge3/envs/test_pycaret/lib/python3.8/site-packages/imblearn/pipeline.py\", line 281, in fit\n",
      "    self._final_estimator.fit(Xt, yt, **fit_params)\n",
      "  File \"/home/rcarvajal/.miniforge3/envs/test_pycaret/lib/python3.8/site-packages/sklearn/calibration.py\", line 155, in fit\n",
      "    calibrated_classifier.fit(X, y, sample_weight)\n",
      "  File \"/home/rcarvajal/.miniforge3/envs/test_pycaret/lib/python3.8/site-packages/sklearn/calibration.py\", line 334, in fit\n",
      "    df, idx_pos_class = self._preproc(X)\n",
      "  File \"/home/rcarvajal/.miniforge3/envs/test_pycaret/lib/python3.8/site-packages/sklearn/calibration.py\", line 297, in _preproc\n",
      "    raise RuntimeError('classifier has no decision_function or '\n",
      "RuntimeError: classifier has no decision_function or predict_proba method.\n",
      "\n",
      "  warnings.warn(\"Estimator fit failed. The score on this train-test\"\n",
      "/home/rcarvajal/.miniforge3/envs/test_pycaret/lib/python3.8/site-packages/xgboost/compat.py:36: FutureWarning: pandas.Int64Index is deprecated and will be removed from pandas in a future version. Use pandas.Index with the appropriate dtype instead.\n",
      "  from pandas import MultiIndex, Int64Index\n",
      "/home/rcarvajal/.miniforge3/envs/test_pycaret/lib/python3.8/site-packages/sklearn/model_selection/_validation.py:548: FitFailedWarning: Estimator fit failed. The score on this train-test partition for these parameters will be set to 0.000000. Details: \n",
      "Traceback (most recent call last):\n",
      "  File \"/home/rcarvajal/.miniforge3/envs/test_pycaret/lib/python3.8/site-packages/sklearn/model_selection/_validation.py\", line 531, in _fit_and_score\n",
      "    estimator.fit(X_train, y_train, **fit_params)\n",
      "  File \"/home/rcarvajal/.miniforge3/envs/test_pycaret/lib/python3.8/site-packages/pycaret/internal/pipeline.py\", line 118, in fit\n",
      "    result = super().fit(X, y=y, **fit_kwargs)\n",
      "  File \"/home/rcarvajal/.miniforge3/envs/test_pycaret/lib/python3.8/site-packages/imblearn/pipeline.py\", line 281, in fit\n",
      "    self._final_estimator.fit(Xt, yt, **fit_params)\n",
      "  File \"/home/rcarvajal/.miniforge3/envs/test_pycaret/lib/python3.8/site-packages/sklearn/calibration.py\", line 155, in fit\n",
      "    calibrated_classifier.fit(X, y, sample_weight)\n",
      "  File \"/home/rcarvajal/.miniforge3/envs/test_pycaret/lib/python3.8/site-packages/sklearn/calibration.py\", line 334, in fit\n",
      "    df, idx_pos_class = self._preproc(X)\n",
      "  File \"/home/rcarvajal/.miniforge3/envs/test_pycaret/lib/python3.8/site-packages/sklearn/calibration.py\", line 297, in _preproc\n",
      "    raise RuntimeError('classifier has no decision_function or '\n",
      "RuntimeError: classifier has no decision_function or predict_proba method.\n",
      "\n",
      "  warnings.warn(\"Estimator fit failed. The score on this train-test\"\n",
      "/home/rcarvajal/.miniforge3/envs/test_pycaret/lib/python3.8/site-packages/xgboost/compat.py:36: FutureWarning: pandas.Int64Index is deprecated and will be removed from pandas in a future version. Use pandas.Index with the appropriate dtype instead.\n",
      "  from pandas import MultiIndex, Int64Index\n",
      "/home/rcarvajal/.miniforge3/envs/test_pycaret/lib/python3.8/site-packages/sklearn/model_selection/_validation.py:548: FitFailedWarning: Estimator fit failed. The score on this train-test partition for these parameters will be set to 0.000000. Details: \n",
      "Traceback (most recent call last):\n",
      "  File \"/home/rcarvajal/.miniforge3/envs/test_pycaret/lib/python3.8/site-packages/sklearn/model_selection/_validation.py\", line 531, in _fit_and_score\n",
      "    estimator.fit(X_train, y_train, **fit_params)\n",
      "  File \"/home/rcarvajal/.miniforge3/envs/test_pycaret/lib/python3.8/site-packages/pycaret/internal/pipeline.py\", line 118, in fit\n",
      "    result = super().fit(X, y=y, **fit_kwargs)\n",
      "  File \"/home/rcarvajal/.miniforge3/envs/test_pycaret/lib/python3.8/site-packages/imblearn/pipeline.py\", line 281, in fit\n",
      "    self._final_estimator.fit(Xt, yt, **fit_params)\n",
      "  File \"/home/rcarvajal/.miniforge3/envs/test_pycaret/lib/python3.8/site-packages/sklearn/calibration.py\", line 155, in fit\n",
      "    calibrated_classifier.fit(X, y, sample_weight)\n",
      "  File \"/home/rcarvajal/.miniforge3/envs/test_pycaret/lib/python3.8/site-packages/sklearn/calibration.py\", line 334, in fit\n",
      "    df, idx_pos_class = self._preproc(X)\n",
      "  File \"/home/rcarvajal/.miniforge3/envs/test_pycaret/lib/python3.8/site-packages/sklearn/calibration.py\", line 297, in _preproc\n",
      "    raise RuntimeError('classifier has no decision_function or '\n",
      "RuntimeError: classifier has no decision_function or predict_proba method.\n",
      "\n",
      "  warnings.warn(\"Estimator fit failed. The score on this train-test\"\n",
      "/home/rcarvajal/.miniforge3/envs/test_pycaret/lib/python3.8/site-packages/xgboost/compat.py:36: FutureWarning: pandas.Int64Index is deprecated and will be removed from pandas in a future version. Use pandas.Index with the appropriate dtype instead.\n",
      "  from pandas import MultiIndex, Int64Index\n",
      "/home/rcarvajal/.miniforge3/envs/test_pycaret/lib/python3.8/site-packages/sklearn/model_selection/_validation.py:548: FitFailedWarning: Estimator fit failed. The score on this train-test partition for these parameters will be set to 0.000000. Details: \n",
      "Traceback (most recent call last):\n",
      "  File \"/home/rcarvajal/.miniforge3/envs/test_pycaret/lib/python3.8/site-packages/sklearn/model_selection/_validation.py\", line 531, in _fit_and_score\n",
      "    estimator.fit(X_train, y_train, **fit_params)\n",
      "  File \"/home/rcarvajal/.miniforge3/envs/test_pycaret/lib/python3.8/site-packages/pycaret/internal/pipeline.py\", line 118, in fit\n",
      "    result = super().fit(X, y=y, **fit_kwargs)\n",
      "  File \"/home/rcarvajal/.miniforge3/envs/test_pycaret/lib/python3.8/site-packages/imblearn/pipeline.py\", line 281, in fit\n",
      "    self._final_estimator.fit(Xt, yt, **fit_params)\n",
      "  File \"/home/rcarvajal/.miniforge3/envs/test_pycaret/lib/python3.8/site-packages/sklearn/calibration.py\", line 155, in fit\n",
      "    calibrated_classifier.fit(X, y, sample_weight)\n",
      "  File \"/home/rcarvajal/.miniforge3/envs/test_pycaret/lib/python3.8/site-packages/sklearn/calibration.py\", line 334, in fit\n",
      "    df, idx_pos_class = self._preproc(X)\n",
      "  File \"/home/rcarvajal/.miniforge3/envs/test_pycaret/lib/python3.8/site-packages/sklearn/calibration.py\", line 297, in _preproc\n",
      "    raise RuntimeError('classifier has no decision_function or '\n",
      "RuntimeError: classifier has no decision_function or predict_proba method.\n",
      "\n",
      "  warnings.warn(\"Estimator fit failed. The score on this train-test\"\n",
      "/home/rcarvajal/.miniforge3/envs/test_pycaret/lib/python3.8/site-packages/xgboost/compat.py:36: FutureWarning: pandas.Int64Index is deprecated and will be removed from pandas in a future version. Use pandas.Index with the appropriate dtype instead.\n",
      "  from pandas import MultiIndex, Int64Index\n",
      "/home/rcarvajal/.miniforge3/envs/test_pycaret/lib/python3.8/site-packages/sklearn/model_selection/_validation.py:548: FitFailedWarning: Estimator fit failed. The score on this train-test partition for these parameters will be set to 0.000000. Details: \n",
      "Traceback (most recent call last):\n",
      "  File \"/home/rcarvajal/.miniforge3/envs/test_pycaret/lib/python3.8/site-packages/sklearn/model_selection/_validation.py\", line 531, in _fit_and_score\n",
      "    estimator.fit(X_train, y_train, **fit_params)\n",
      "  File \"/home/rcarvajal/.miniforge3/envs/test_pycaret/lib/python3.8/site-packages/pycaret/internal/pipeline.py\", line 118, in fit\n",
      "    result = super().fit(X, y=y, **fit_kwargs)\n",
      "  File \"/home/rcarvajal/.miniforge3/envs/test_pycaret/lib/python3.8/site-packages/imblearn/pipeline.py\", line 281, in fit\n",
      "    self._final_estimator.fit(Xt, yt, **fit_params)\n",
      "  File \"/home/rcarvajal/.miniforge3/envs/test_pycaret/lib/python3.8/site-packages/sklearn/calibration.py\", line 155, in fit\n",
      "    calibrated_classifier.fit(X, y, sample_weight)\n",
      "  File \"/home/rcarvajal/.miniforge3/envs/test_pycaret/lib/python3.8/site-packages/sklearn/calibration.py\", line 334, in fit\n",
      "    df, idx_pos_class = self._preproc(X)\n",
      "  File \"/home/rcarvajal/.miniforge3/envs/test_pycaret/lib/python3.8/site-packages/sklearn/calibration.py\", line 297, in _preproc\n",
      "    raise RuntimeError('classifier has no decision_function or '\n",
      "RuntimeError: classifier has no decision_function or predict_proba method.\n",
      "\n",
      "  warnings.warn(\"Estimator fit failed. The score on this train-test\"\n",
      "/home/rcarvajal/.miniforge3/envs/test_pycaret/lib/python3.8/site-packages/xgboost/compat.py:36: FutureWarning: pandas.Int64Index is deprecated and will be removed from pandas in a future version. Use pandas.Index with the appropriate dtype instead.\n",
      "  from pandas import MultiIndex, Int64Index\n",
      "/home/rcarvajal/.miniforge3/envs/test_pycaret/lib/python3.8/site-packages/sklearn/model_selection/_validation.py:548: FitFailedWarning: Estimator fit failed. The score on this train-test partition for these parameters will be set to 0.000000. Details: \n",
      "Traceback (most recent call last):\n",
      "  File \"/home/rcarvajal/.miniforge3/envs/test_pycaret/lib/python3.8/site-packages/sklearn/model_selection/_validation.py\", line 531, in _fit_and_score\n",
      "    estimator.fit(X_train, y_train, **fit_params)\n",
      "  File \"/home/rcarvajal/.miniforge3/envs/test_pycaret/lib/python3.8/site-packages/pycaret/internal/pipeline.py\", line 118, in fit\n",
      "    result = super().fit(X, y=y, **fit_kwargs)\n",
      "  File \"/home/rcarvajal/.miniforge3/envs/test_pycaret/lib/python3.8/site-packages/imblearn/pipeline.py\", line 281, in fit\n",
      "    self._final_estimator.fit(Xt, yt, **fit_params)\n",
      "  File \"/home/rcarvajal/.miniforge3/envs/test_pycaret/lib/python3.8/site-packages/sklearn/calibration.py\", line 155, in fit\n",
      "    calibrated_classifier.fit(X, y, sample_weight)\n",
      "  File \"/home/rcarvajal/.miniforge3/envs/test_pycaret/lib/python3.8/site-packages/sklearn/calibration.py\", line 334, in fit\n",
      "    df, idx_pos_class = self._preproc(X)\n",
      "  File \"/home/rcarvajal/.miniforge3/envs/test_pycaret/lib/python3.8/site-packages/sklearn/calibration.py\", line 297, in _preproc\n",
      "    raise RuntimeError('classifier has no decision_function or '\n",
      "RuntimeError: classifier has no decision_function or predict_proba method.\n",
      "\n",
      "  warnings.warn(\"Estimator fit failed. The score on this train-test\"\n",
      "/home/rcarvajal/.miniforge3/envs/test_pycaret/lib/python3.8/site-packages/xgboost/compat.py:36: FutureWarning: pandas.Int64Index is deprecated and will be removed from pandas in a future version. Use pandas.Index with the appropriate dtype instead.\n",
      "  from pandas import MultiIndex, Int64Index\n",
      "/home/rcarvajal/.miniforge3/envs/test_pycaret/lib/python3.8/site-packages/sklearn/model_selection/_validation.py:548: FitFailedWarning: Estimator fit failed. The score on this train-test partition for these parameters will be set to 0.000000. Details: \n",
      "Traceback (most recent call last):\n",
      "  File \"/home/rcarvajal/.miniforge3/envs/test_pycaret/lib/python3.8/site-packages/sklearn/model_selection/_validation.py\", line 531, in _fit_and_score\n",
      "    estimator.fit(X_train, y_train, **fit_params)\n",
      "  File \"/home/rcarvajal/.miniforge3/envs/test_pycaret/lib/python3.8/site-packages/pycaret/internal/pipeline.py\", line 118, in fit\n",
      "    result = super().fit(X, y=y, **fit_kwargs)\n",
      "  File \"/home/rcarvajal/.miniforge3/envs/test_pycaret/lib/python3.8/site-packages/imblearn/pipeline.py\", line 281, in fit\n",
      "    self._final_estimator.fit(Xt, yt, **fit_params)\n",
      "  File \"/home/rcarvajal/.miniforge3/envs/test_pycaret/lib/python3.8/site-packages/sklearn/calibration.py\", line 155, in fit\n",
      "    calibrated_classifier.fit(X, y, sample_weight)\n",
      "  File \"/home/rcarvajal/.miniforge3/envs/test_pycaret/lib/python3.8/site-packages/sklearn/calibration.py\", line 334, in fit\n",
      "    df, idx_pos_class = self._preproc(X)\n",
      "  File \"/home/rcarvajal/.miniforge3/envs/test_pycaret/lib/python3.8/site-packages/sklearn/calibration.py\", line 297, in _preproc\n",
      "    raise RuntimeError('classifier has no decision_function or '\n",
      "RuntimeError: classifier has no decision_function or predict_proba method.\n",
      "\n",
      "  warnings.warn(\"Estimator fit failed. The score on this train-test\"\n",
      "/home/rcarvajal/.miniforge3/envs/test_pycaret/lib/python3.8/site-packages/xgboost/compat.py:36: FutureWarning: pandas.Int64Index is deprecated and will be removed from pandas in a future version. Use pandas.Index with the appropriate dtype instead.\n",
      "  from pandas import MultiIndex, Int64Index\n",
      "/home/rcarvajal/.miniforge3/envs/test_pycaret/lib/python3.8/site-packages/sklearn/model_selection/_validation.py:548: FitFailedWarning: Estimator fit failed. The score on this train-test partition for these parameters will be set to 0.000000. Details: \n",
      "Traceback (most recent call last):\n",
      "  File \"/home/rcarvajal/.miniforge3/envs/test_pycaret/lib/python3.8/site-packages/sklearn/model_selection/_validation.py\", line 531, in _fit_and_score\n",
      "    estimator.fit(X_train, y_train, **fit_params)\n",
      "  File \"/home/rcarvajal/.miniforge3/envs/test_pycaret/lib/python3.8/site-packages/pycaret/internal/pipeline.py\", line 118, in fit\n",
      "    result = super().fit(X, y=y, **fit_kwargs)\n",
      "  File \"/home/rcarvajal/.miniforge3/envs/test_pycaret/lib/python3.8/site-packages/imblearn/pipeline.py\", line 281, in fit\n",
      "    self._final_estimator.fit(Xt, yt, **fit_params)\n",
      "  File \"/home/rcarvajal/.miniforge3/envs/test_pycaret/lib/python3.8/site-packages/sklearn/calibration.py\", line 155, in fit\n",
      "    calibrated_classifier.fit(X, y, sample_weight)\n",
      "  File \"/home/rcarvajal/.miniforge3/envs/test_pycaret/lib/python3.8/site-packages/sklearn/calibration.py\", line 334, in fit\n",
      "    df, idx_pos_class = self._preproc(X)\n",
      "  File \"/home/rcarvajal/.miniforge3/envs/test_pycaret/lib/python3.8/site-packages/sklearn/calibration.py\", line 297, in _preproc\n",
      "    raise RuntimeError('classifier has no decision_function or '\n",
      "RuntimeError: classifier has no decision_function or predict_proba method.\n",
      "\n",
      "  warnings.warn(\"Estimator fit failed. The score on this train-test\"\n"
     ]
    }
   ],
   "source": [
    "final_AGN_clf.named_estimators_"
   ]
  },
  {
   "cell_type": "code",
   "execution_count": 164,
   "id": "460789bd",
   "metadata": {},
   "outputs": [
    {
     "data": {
      "application/vnd.jupyter.widget-view+json": {
       "model_id": "0875d26e84ce47658db8171970c216e9",
       "version_major": 2,
       "version_minor": 0
      },
      "text/plain": [
       "IntProgress(value=0, description='Processing: ', max=6)"
      ]
     },
     "metadata": {},
     "output_type": "display_data"
    },
    {
     "data": {
      "text/html": [
       "<div>\n",
       "<style scoped>\n",
       "    .dataframe tbody tr th:only-of-type {\n",
       "        vertical-align: middle;\n",
       "    }\n",
       "\n",
       "    .dataframe tbody tr th {\n",
       "        vertical-align: top;\n",
       "    }\n",
       "\n",
       "    .dataframe thead th {\n",
       "        text-align: right;\n",
       "    }\n",
       "</style>\n",
       "<table border=\"1\" class=\"dataframe\">\n",
       "  <thead>\n",
       "    <tr style=\"text-align: right;\">\n",
       "      <th></th>\n",
       "      <th></th>\n",
       "      <th></th>\n",
       "    </tr>\n",
       "    <tr>\n",
       "      <th></th>\n",
       "      <th></th>\n",
       "      <th></th>\n",
       "    </tr>\n",
       "  </thead>\n",
       "  <tbody>\n",
       "    <tr>\n",
       "      <th>Initiated</th>\n",
       "      <td>. . . . . . . . . . . . . . . . . .</td>\n",
       "      <td>23:37:42</td>\n",
       "    </tr>\n",
       "    <tr>\n",
       "      <th>Status</th>\n",
       "      <td>. . . . . . . . . . . . . . . . . .</td>\n",
       "      <td>Finalizing Model</td>\n",
       "    </tr>\n",
       "    <tr>\n",
       "      <th>Estimator</th>\n",
       "      <td>. . . . . . . . . . . . . . . . . .</td>\n",
       "      <td>Stacking Classifier</td>\n",
       "    </tr>\n",
       "  </tbody>\n",
       "</table>\n",
       "</div>"
      ],
      "text/plain": [
       "                                                                   \n",
       "                                                                   \n",
       "Initiated  . . . . . . . . . . . . . . . . . .             23:37:42\n",
       "Status     . . . . . . . . . . . . . . . . . .     Finalizing Model\n",
       "Estimator  . . . . . . . . . . . . . . . . . .  Stacking Classifier"
      ]
     },
     "metadata": {},
     "output_type": "display_data"
    },
    {
     "data": {
      "text/html": [
       "<div>\n",
       "<style scoped>\n",
       "    .dataframe tbody tr th:only-of-type {\n",
       "        vertical-align: middle;\n",
       "    }\n",
       "\n",
       "    .dataframe tbody tr th {\n",
       "        vertical-align: top;\n",
       "    }\n",
       "\n",
       "    .dataframe thead th {\n",
       "        text-align: right;\n",
       "    }\n",
       "</style>\n",
       "<table border=\"1\" class=\"dataframe\">\n",
       "  <thead>\n",
       "    <tr style=\"text-align: right;\">\n",
       "      <th></th>\n",
       "      <th>Fold</th>\n",
       "      <th>Accuracy</th>\n",
       "      <th>AUC</th>\n",
       "      <th>Recall</th>\n",
       "      <th>Prec.</th>\n",
       "      <th>F1</th>\n",
       "      <th>Kappa</th>\n",
       "      <th>MCC</th>\n",
       "    </tr>\n",
       "  </thead>\n",
       "  <tbody>\n",
       "  </tbody>\n",
       "</table>\n",
       "</div>"
      ],
      "text/plain": [
       "Empty DataFrame\n",
       "Columns: [Fold, Accuracy, AUC, Recall, Prec., F1, Kappa, MCC]\n",
       "Index: []"
      ]
     },
     "metadata": {},
     "output_type": "display_data"
    },
    {
     "ename": "RuntimeError",
     "evalue": "classifier has no decision_function or predict_proba method.",
     "output_type": "error",
     "traceback": [
      "\u001b[0;31m---------------------------------------------------------------------------\u001b[0m",
      "\u001b[0;31mRuntimeError\u001b[0m                              Traceback (most recent call last)",
      "Input \u001b[0;32mIn [164]\u001b[0m, in \u001b[0;36m<cell line: 1>\u001b[0;34m()\u001b[0m\n\u001b[0;32m----> 1\u001b[0m calibrated_final_AGN_clf_pyc \u001b[38;5;241m=\u001b[39m \u001b[43mpyc\u001b[49m\u001b[38;5;241;43m.\u001b[39;49m\u001b[43mcalibrate_model\u001b[49m\u001b[43m(\u001b[49m\u001b[43mfinal_AGN_clf\u001b[49m\u001b[43m,\u001b[49m\u001b[43m \u001b[49m\u001b[43mmethod\u001b[49m\u001b[38;5;241;43m=\u001b[39;49m\u001b[38;5;124;43m'\u001b[39;49m\u001b[38;5;124;43msigmoid\u001b[39;49m\u001b[38;5;124;43m'\u001b[39;49m\u001b[43m,\u001b[49m\u001b[43m \u001b[49m\u001b[43mcalibrate_fold\u001b[49m\u001b[38;5;241;43m=\u001b[39;49m\u001b[38;5;124;43m'\u001b[39;49m\u001b[38;5;124;43mprefit\u001b[39;49m\u001b[38;5;124;43m'\u001b[39;49m\u001b[43m)\u001b[49m\n",
      "File \u001b[0;32m~/.miniforge3/envs/test_pycaret/lib/python3.8/site-packages/pycaret/classification.py:1968\u001b[0m, in \u001b[0;36mcalibrate_model\u001b[0;34m(estimator, method, calibrate_fold, fold, round, fit_kwargs, groups, verbose, return_train_score)\u001b[0m\n\u001b[1;32m   1878\u001b[0m \u001b[38;5;28;01mdef\u001b[39;00m \u001b[38;5;21mcalibrate_model\u001b[39m(\n\u001b[1;32m   1879\u001b[0m     estimator,\n\u001b[1;32m   1880\u001b[0m     method: \u001b[38;5;28mstr\u001b[39m \u001b[38;5;241m=\u001b[39m \u001b[38;5;124m\"\u001b[39m\u001b[38;5;124msigmoid\u001b[39m\u001b[38;5;124m\"\u001b[39m,\n\u001b[0;32m   (...)\u001b[0m\n\u001b[1;32m   1887\u001b[0m     return_train_score: \u001b[38;5;28mbool\u001b[39m \u001b[38;5;241m=\u001b[39m \u001b[38;5;28;01mFalse\u001b[39;00m,\n\u001b[1;32m   1888\u001b[0m ) \u001b[38;5;241m-\u001b[39m\u001b[38;5;241m>\u001b[39m Any:\n\u001b[1;32m   1890\u001b[0m     \u001b[38;5;124;03m\"\"\"\u001b[39;00m\n\u001b[1;32m   1891\u001b[0m \u001b[38;5;124;03m    This function calibrates the probability of a given estimator using isotonic\u001b[39;00m\n\u001b[1;32m   1892\u001b[0m \u001b[38;5;124;03m    or logistic regression. The output of this function is a score grid with CV\u001b[39;00m\n\u001b[0;32m   (...)\u001b[0m\n\u001b[1;32m   1965\u001b[0m \n\u001b[1;32m   1966\u001b[0m \u001b[38;5;124;03m    \"\"\"\u001b[39;00m\n\u001b[0;32m-> 1968\u001b[0m     \u001b[38;5;28;01mreturn\u001b[39;00m \u001b[43mpycaret\u001b[49m\u001b[38;5;241;43m.\u001b[39;49m\u001b[43minternal\u001b[49m\u001b[38;5;241;43m.\u001b[39;49m\u001b[43mtabular\u001b[49m\u001b[38;5;241;43m.\u001b[39;49m\u001b[43mcalibrate_model\u001b[49m\u001b[43m(\u001b[49m\n\u001b[1;32m   1969\u001b[0m \u001b[43m        \u001b[49m\u001b[43mestimator\u001b[49m\u001b[38;5;241;43m=\u001b[39;49m\u001b[43mestimator\u001b[49m\u001b[43m,\u001b[49m\n\u001b[1;32m   1970\u001b[0m \u001b[43m        \u001b[49m\u001b[43mmethod\u001b[49m\u001b[38;5;241;43m=\u001b[39;49m\u001b[43mmethod\u001b[49m\u001b[43m,\u001b[49m\n\u001b[1;32m   1971\u001b[0m \u001b[43m        \u001b[49m\u001b[43mcalibrate_fold\u001b[49m\u001b[38;5;241;43m=\u001b[39;49m\u001b[43mcalibrate_fold\u001b[49m\u001b[43m,\u001b[49m\n\u001b[1;32m   1972\u001b[0m \u001b[43m        \u001b[49m\u001b[43mfold\u001b[49m\u001b[38;5;241;43m=\u001b[39;49m\u001b[43mfold\u001b[49m\u001b[43m,\u001b[49m\n\u001b[1;32m   1973\u001b[0m \u001b[43m        \u001b[49m\u001b[38;5;28;43mround\u001b[39;49m\u001b[38;5;241;43m=\u001b[39;49m\u001b[38;5;28;43mround\u001b[39;49m\u001b[43m,\u001b[49m\n\u001b[1;32m   1974\u001b[0m \u001b[43m        \u001b[49m\u001b[43mfit_kwargs\u001b[49m\u001b[38;5;241;43m=\u001b[39;49m\u001b[43mfit_kwargs\u001b[49m\u001b[43m,\u001b[49m\n\u001b[1;32m   1975\u001b[0m \u001b[43m        \u001b[49m\u001b[43mgroups\u001b[49m\u001b[38;5;241;43m=\u001b[39;49m\u001b[43mgroups\u001b[49m\u001b[43m,\u001b[49m\n\u001b[1;32m   1976\u001b[0m \u001b[43m        \u001b[49m\u001b[43mverbose\u001b[49m\u001b[38;5;241;43m=\u001b[39;49m\u001b[43mverbose\u001b[49m\u001b[43m,\u001b[49m\n\u001b[1;32m   1977\u001b[0m \u001b[43m        \u001b[49m\u001b[43mreturn_train_score\u001b[49m\u001b[38;5;241;43m=\u001b[39;49m\u001b[43mreturn_train_score\u001b[49m\u001b[43m,\u001b[49m\n\u001b[1;32m   1978\u001b[0m \u001b[43m    \u001b[49m\u001b[43m)\u001b[49m\n",
      "File \u001b[0;32m~/.miniforge3/envs/test_pycaret/lib/python3.8/site-packages/pycaret/internal/tabular.py:8483\u001b[0m, in \u001b[0;36mcalibrate_model\u001b[0;34m(estimator, method, calibrate_fold, fold, round, fit_kwargs, groups, verbose, display, return_train_score)\u001b[0m\n\u001b[1;32m   8480\u001b[0m display\u001b[38;5;241m.\u001b[39mmove_progress()\n\u001b[1;32m   8482\u001b[0m logger\u001b[38;5;241m.\u001b[39minfo(\u001b[38;5;124m\"\u001b[39m\u001b[38;5;124mSubProcess create_model() called ==================================\u001b[39m\u001b[38;5;124m\"\u001b[39m)\n\u001b[0;32m-> 8483\u001b[0m model, model_fit_time \u001b[38;5;241m=\u001b[39m \u001b[43mcreate_model_supervised\u001b[49m\u001b[43m(\u001b[49m\n\u001b[1;32m   8484\u001b[0m \u001b[43m    \u001b[49m\u001b[43mestimator\u001b[49m\u001b[38;5;241;43m=\u001b[39;49m\u001b[43mmodel\u001b[49m\u001b[43m,\u001b[49m\n\u001b[1;32m   8485\u001b[0m \u001b[43m    \u001b[49m\u001b[43msystem\u001b[49m\u001b[38;5;241;43m=\u001b[39;49m\u001b[38;5;28;43;01mFalse\u001b[39;49;00m\u001b[43m,\u001b[49m\n\u001b[1;32m   8486\u001b[0m \u001b[43m    \u001b[49m\u001b[43mdisplay\u001b[49m\u001b[38;5;241;43m=\u001b[39;49m\u001b[43mdisplay\u001b[49m\u001b[43m,\u001b[49m\n\u001b[1;32m   8487\u001b[0m \u001b[43m    \u001b[49m\u001b[43mfold\u001b[49m\u001b[38;5;241;43m=\u001b[39;49m\u001b[43mfold\u001b[49m\u001b[43m,\u001b[49m\n\u001b[1;32m   8488\u001b[0m \u001b[43m    \u001b[49m\u001b[38;5;28;43mround\u001b[39;49m\u001b[38;5;241;43m=\u001b[39;49m\u001b[38;5;28;43mround\u001b[39;49m\u001b[43m,\u001b[49m\n\u001b[1;32m   8489\u001b[0m \u001b[43m    \u001b[49m\u001b[43mfit_kwargs\u001b[49m\u001b[38;5;241;43m=\u001b[39;49m\u001b[43mfit_kwargs\u001b[49m\u001b[43m,\u001b[49m\n\u001b[1;32m   8490\u001b[0m \u001b[43m    \u001b[49m\u001b[43mgroups\u001b[49m\u001b[38;5;241;43m=\u001b[39;49m\u001b[43mgroups\u001b[49m\u001b[43m,\u001b[49m\n\u001b[1;32m   8491\u001b[0m \u001b[43m    \u001b[49m\u001b[43mprobability_threshold\u001b[49m\u001b[38;5;241;43m=\u001b[39;49m\u001b[43mprobability_threshold\u001b[49m\u001b[43m,\u001b[49m\n\u001b[1;32m   8492\u001b[0m \u001b[43m    \u001b[49m\u001b[43mreturn_train_score\u001b[49m\u001b[38;5;241;43m=\u001b[39;49m\u001b[43mreturn_train_score\u001b[49m\u001b[43m,\u001b[49m\n\u001b[1;32m   8493\u001b[0m \u001b[43m\u001b[49m\u001b[43m)\u001b[49m\n\u001b[1;32m   8494\u001b[0m model_results \u001b[38;5;241m=\u001b[39m pull()\n\u001b[1;32m   8495\u001b[0m logger\u001b[38;5;241m.\u001b[39minfo(\u001b[38;5;124m\"\u001b[39m\u001b[38;5;124mSubProcess create_model() end ==================================\u001b[39m\u001b[38;5;124m\"\u001b[39m)\n",
      "File \u001b[0;32m~/.miniforge3/envs/test_pycaret/lib/python3.8/site-packages/pycaret/internal/tabular.py:3282\u001b[0m, in \u001b[0;36mcreate_model_supervised\u001b[0;34m(estimator, fold, round, cross_validation, predict, fit_kwargs, groups, refit, verbose, system, X_train_data, y_train_data, metrics, experiment_custom_tags, add_to_model_list, probability_threshold, display, return_train_score, **kwargs)\u001b[0m\n\u001b[1;32m   3280\u001b[0m logger\u001b[38;5;241m.\u001b[39minfo(\u001b[38;5;124m\"\u001b[39m\u001b[38;5;124mFinalizing model\u001b[39m\u001b[38;5;124m\"\u001b[39m)\n\u001b[1;32m   3281\u001b[0m \u001b[38;5;28;01mwith\u001b[39;00m io\u001b[38;5;241m.\u001b[39mcapture_output():\n\u001b[0;32m-> 3282\u001b[0m     \u001b[43mpipeline_with_model\u001b[49m\u001b[38;5;241;43m.\u001b[39;49m\u001b[43mfit\u001b[49m\u001b[43m(\u001b[49m\u001b[43mdata_X\u001b[49m\u001b[43m,\u001b[49m\u001b[43m \u001b[49m\u001b[43mdata_y\u001b[49m\u001b[43m,\u001b[49m\u001b[43m \u001b[49m\u001b[38;5;241;43m*\u001b[39;49m\u001b[38;5;241;43m*\u001b[39;49m\u001b[43mfit_kwargs\u001b[49m\u001b[43m)\u001b[49m\n\u001b[1;32m   3284\u001b[0m     \u001b[38;5;28;01mif\u001b[39;00m return_train_score:\n\u001b[1;32m   3285\u001b[0m         predict_model(\n\u001b[1;32m   3286\u001b[0m             pipeline_with_model, data\u001b[38;5;241m=\u001b[39mpd\u001b[38;5;241m.\u001b[39mconcat([data_X, data_y], axis\u001b[38;5;241m=\u001b[39m\u001b[38;5;241m1\u001b[39m)\n\u001b[1;32m   3287\u001b[0m         )\n",
      "File \u001b[0;32m~/.miniforge3/envs/test_pycaret/lib/python3.8/site-packages/pycaret/internal/pipeline.py:118\u001b[0m, in \u001b[0;36mPipeline.fit\u001b[0;34m(self, X, y, **fit_kwargs)\u001b[0m\n\u001b[1;32m    117\u001b[0m \u001b[38;5;28;01mdef\u001b[39;00m \u001b[38;5;21mfit\u001b[39m(\u001b[38;5;28mself\u001b[39m, X, y\u001b[38;5;241m=\u001b[39m\u001b[38;5;28;01mNone\u001b[39;00m, \u001b[38;5;241m*\u001b[39m\u001b[38;5;241m*\u001b[39mfit_kwargs):\n\u001b[0;32m--> 118\u001b[0m     result \u001b[38;5;241m=\u001b[39m \u001b[38;5;28;43msuper\u001b[39;49m\u001b[43m(\u001b[49m\u001b[43m)\u001b[49m\u001b[38;5;241;43m.\u001b[39;49m\u001b[43mfit\u001b[49m\u001b[43m(\u001b[49m\u001b[43mX\u001b[49m\u001b[43m,\u001b[49m\u001b[43m \u001b[49m\u001b[43my\u001b[49m\u001b[38;5;241;43m=\u001b[39;49m\u001b[43my\u001b[49m\u001b[43m,\u001b[49m\u001b[43m \u001b[49m\u001b[38;5;241;43m*\u001b[39;49m\u001b[38;5;241;43m*\u001b[39;49m\u001b[43mfit_kwargs\u001b[49m\u001b[43m)\u001b[49m\n\u001b[1;32m    120\u001b[0m     \u001b[38;5;28mself\u001b[39m\u001b[38;5;241m.\u001b[39m_carry_over_final_estimator_fit_vars()\n\u001b[1;32m    121\u001b[0m     \u001b[38;5;28;01mreturn\u001b[39;00m result\n",
      "File \u001b[0;32m~/.miniforge3/envs/test_pycaret/lib/python3.8/site-packages/imblearn/pipeline.py:281\u001b[0m, in \u001b[0;36mPipeline.fit\u001b[0;34m(self, X, y, **fit_params)\u001b[0m\n\u001b[1;32m    278\u001b[0m \u001b[38;5;28;01mwith\u001b[39;00m _print_elapsed_time(\u001b[38;5;124m'\u001b[39m\u001b[38;5;124mPipeline\u001b[39m\u001b[38;5;124m'\u001b[39m,\n\u001b[1;32m    279\u001b[0m                          \u001b[38;5;28mself\u001b[39m\u001b[38;5;241m.\u001b[39m_log_message(\u001b[38;5;28mlen\u001b[39m(\u001b[38;5;28mself\u001b[39m\u001b[38;5;241m.\u001b[39msteps) \u001b[38;5;241m-\u001b[39m \u001b[38;5;241m1\u001b[39m)):\n\u001b[1;32m    280\u001b[0m     \u001b[38;5;28;01mif\u001b[39;00m \u001b[38;5;28mself\u001b[39m\u001b[38;5;241m.\u001b[39m_final_estimator \u001b[38;5;241m!=\u001b[39m \u001b[38;5;124m\"\u001b[39m\u001b[38;5;124mpassthrough\u001b[39m\u001b[38;5;124m\"\u001b[39m:\n\u001b[0;32m--> 281\u001b[0m         \u001b[38;5;28;43mself\u001b[39;49m\u001b[38;5;241;43m.\u001b[39;49m\u001b[43m_final_estimator\u001b[49m\u001b[38;5;241;43m.\u001b[39;49m\u001b[43mfit\u001b[49m\u001b[43m(\u001b[49m\u001b[43mXt\u001b[49m\u001b[43m,\u001b[49m\u001b[43m \u001b[49m\u001b[43myt\u001b[49m\u001b[43m,\u001b[49m\u001b[43m \u001b[49m\u001b[38;5;241;43m*\u001b[39;49m\u001b[38;5;241;43m*\u001b[39;49m\u001b[43mfit_params\u001b[49m\u001b[43m)\u001b[49m\n\u001b[1;32m    282\u001b[0m \u001b[38;5;28;01mreturn\u001b[39;00m \u001b[38;5;28mself\u001b[39m\n",
      "File \u001b[0;32m~/.miniforge3/envs/test_pycaret/lib/python3.8/site-packages/sklearn/calibration.py:155\u001b[0m, in \u001b[0;36mCalibratedClassifierCV.fit\u001b[0;34m(self, X, y, sample_weight)\u001b[0m\n\u001b[1;32m    152\u001b[0m \u001b[38;5;28;01mif\u001b[39;00m \u001b[38;5;28mself\u001b[39m\u001b[38;5;241m.\u001b[39mcv \u001b[38;5;241m==\u001b[39m \u001b[38;5;124m\"\u001b[39m\u001b[38;5;124mprefit\u001b[39m\u001b[38;5;124m\"\u001b[39m:\n\u001b[1;32m    153\u001b[0m     calibrated_classifier \u001b[38;5;241m=\u001b[39m _CalibratedClassifier(\n\u001b[1;32m    154\u001b[0m         base_estimator, method\u001b[38;5;241m=\u001b[39m\u001b[38;5;28mself\u001b[39m\u001b[38;5;241m.\u001b[39mmethod)\n\u001b[0;32m--> 155\u001b[0m     \u001b[43mcalibrated_classifier\u001b[49m\u001b[38;5;241;43m.\u001b[39;49m\u001b[43mfit\u001b[49m\u001b[43m(\u001b[49m\u001b[43mX\u001b[49m\u001b[43m,\u001b[49m\u001b[43m \u001b[49m\u001b[43my\u001b[49m\u001b[43m,\u001b[49m\u001b[43m \u001b[49m\u001b[43msample_weight\u001b[49m\u001b[43m)\u001b[49m\n\u001b[1;32m    156\u001b[0m     \u001b[38;5;28mself\u001b[39m\u001b[38;5;241m.\u001b[39mcalibrated_classifiers_\u001b[38;5;241m.\u001b[39mappend(calibrated_classifier)\n\u001b[1;32m    157\u001b[0m \u001b[38;5;28;01melse\u001b[39;00m:\n",
      "File \u001b[0;32m~/.miniforge3/envs/test_pycaret/lib/python3.8/site-packages/sklearn/calibration.py:334\u001b[0m, in \u001b[0;36m_CalibratedClassifier.fit\u001b[0;34m(self, X, y, sample_weight)\u001b[0m\n\u001b[1;32m    331\u001b[0m \u001b[38;5;28mself\u001b[39m\u001b[38;5;241m.\u001b[39mclasses_ \u001b[38;5;241m=\u001b[39m \u001b[38;5;28mself\u001b[39m\u001b[38;5;241m.\u001b[39mlabel_encoder_\u001b[38;5;241m.\u001b[39mclasses_\n\u001b[1;32m    332\u001b[0m Y \u001b[38;5;241m=\u001b[39m label_binarize(y, classes\u001b[38;5;241m=\u001b[39m\u001b[38;5;28mself\u001b[39m\u001b[38;5;241m.\u001b[39mclasses_)\n\u001b[0;32m--> 334\u001b[0m df, idx_pos_class \u001b[38;5;241m=\u001b[39m \u001b[38;5;28;43mself\u001b[39;49m\u001b[38;5;241;43m.\u001b[39;49m\u001b[43m_preproc\u001b[49m\u001b[43m(\u001b[49m\u001b[43mX\u001b[49m\u001b[43m)\u001b[49m\n\u001b[1;32m    335\u001b[0m \u001b[38;5;28mself\u001b[39m\u001b[38;5;241m.\u001b[39mcalibrators_ \u001b[38;5;241m=\u001b[39m []\n\u001b[1;32m    337\u001b[0m \u001b[38;5;28;01mfor\u001b[39;00m k, this_df \u001b[38;5;129;01min\u001b[39;00m \u001b[38;5;28mzip\u001b[39m(idx_pos_class, df\u001b[38;5;241m.\u001b[39mT):\n",
      "File \u001b[0;32m~/.miniforge3/envs/test_pycaret/lib/python3.8/site-packages/sklearn/calibration.py:297\u001b[0m, in \u001b[0;36m_CalibratedClassifier._preproc\u001b[0;34m(self, X)\u001b[0m\n\u001b[1;32m    295\u001b[0m         df \u001b[38;5;241m=\u001b[39m df[:, \u001b[38;5;241m1\u001b[39m:]\n\u001b[1;32m    296\u001b[0m \u001b[38;5;28;01melse\u001b[39;00m:\n\u001b[0;32m--> 297\u001b[0m     \u001b[38;5;28;01mraise\u001b[39;00m \u001b[38;5;167;01mRuntimeError\u001b[39;00m(\u001b[38;5;124m'\u001b[39m\u001b[38;5;124mclassifier has no decision_function or \u001b[39m\u001b[38;5;124m'\u001b[39m\n\u001b[1;32m    298\u001b[0m                        \u001b[38;5;124m'\u001b[39m\u001b[38;5;124mpredict_proba method.\u001b[39m\u001b[38;5;124m'\u001b[39m)\n\u001b[1;32m    300\u001b[0m idx_pos_class \u001b[38;5;241m=\u001b[39m \u001b[38;5;28mself\u001b[39m\u001b[38;5;241m.\u001b[39mlabel_encoder_\u001b[38;5;241m.\u001b[39m\\\n\u001b[1;32m    301\u001b[0m     transform(\u001b[38;5;28mself\u001b[39m\u001b[38;5;241m.\u001b[39mbase_estimator\u001b[38;5;241m.\u001b[39mclasses_)\n\u001b[1;32m    303\u001b[0m \u001b[38;5;28;01mreturn\u001b[39;00m df, idx_pos_class\n",
      "\u001b[0;31mRuntimeError\u001b[0m: classifier has no decision_function or predict_proba method."
     ]
    }
   ],
   "source": [
    "calibrated_final_AGN_clf_pyc = pyc.calibrate_model(final_AGN_clf, method='sigmoid', calibrate_fold='prefit')"
   ]
  },
  {
   "cell_type": "code",
   "execution_count": 79,
   "id": "6fa4b116",
   "metadata": {},
   "outputs": [
    {
     "data": {
      "text/plain": [
       "CalibratedClassifierCV(base_estimator=StackingClassifier(cv=5,\n",
       "                                                         estimators=[('gbc',\n",
       "                                                                      GradientBoostingClassifier(ccp_alpha=0.0,\n",
       "                                                                                                 criterion='friedman_mse',\n",
       "                                                                                                 init=None,\n",
       "                                                                                                 learning_rate=0.1,\n",
       "                                                                                                 loss='deviance',\n",
       "                                                                                                 max_depth=3,\n",
       "                                                                                                 max_features=None,\n",
       "                                                                                                 max_leaf_nodes=None,\n",
       "                                                                                                 min_impurity_decrease=0.0,\n",
       "                                                                                                 min_impurity_split=None,\n",
       "                                                                                                 min_samples_leaf=1,\n",
       "                                                                                                 min_samples_split=2,\n",
       "                                                                                                 min_weight_fraction_...\n",
       "                                                                                    objective='binary:logistic',\n",
       "                                                                                    predictor='auto',\n",
       "                                                                                    random_state=42,\n",
       "                                                                                    reg_alpha=0,\n",
       "                                                                                    reg_lambda=1,\n",
       "                                                                                    scale_pos_weight=1,\n",
       "                                                                                    subsample=1,\n",
       "                                                                                    tree_method='auto',\n",
       "                                                                                    use_label_encoder=True,\n",
       "                                                                                    validate_parameters=1,\n",
       "                                                                                    verbosity=0))],\n",
       "                                                         final_estimator=<catboost.core.CatBoostClassifier object at 0x7fc6302aba30>,\n",
       "                                                         n_jobs=12,\n",
       "                                                         passthrough=True,\n",
       "                                                         stack_method='auto',\n",
       "                                                         verbose=0),\n",
       "                       cv='prefit', method='sigmoid')"
      ]
     },
     "execution_count": 79,
     "metadata": {},
     "output_type": "execute_result"
    }
   ],
   "source": [
    "calibrated_final_AGN_clf = CalibratedClassifierCV(base_estimator=final_AGN_clf, method='sigmoid', cv='prefit')\n",
    "calibrated_final_AGN_clf.fit(pyc.get_config('X'), pyc.get_config('y'))"
   ]
  },
  {
   "cell_type": "code",
   "execution_count": 80,
   "id": "2545ebda",
   "metadata": {},
   "outputs": [
    {
     "data": {
      "text/html": [
       "<style type=\"text/css\">\n",
       "</style>\n",
       "<table id=\"T_81cbd\">\n",
       "  <thead>\n",
       "    <tr>\n",
       "      <th class=\"blank level0\" >&nbsp;</th>\n",
       "      <th id=\"T_81cbd_level0_col0\" class=\"col_heading level0 col0\" >Model</th>\n",
       "      <th id=\"T_81cbd_level0_col1\" class=\"col_heading level0 col1\" >Accuracy</th>\n",
       "      <th id=\"T_81cbd_level0_col2\" class=\"col_heading level0 col2\" >AUC</th>\n",
       "      <th id=\"T_81cbd_level0_col3\" class=\"col_heading level0 col3\" >Recall</th>\n",
       "      <th id=\"T_81cbd_level0_col4\" class=\"col_heading level0 col4\" >Prec.</th>\n",
       "      <th id=\"T_81cbd_level0_col5\" class=\"col_heading level0 col5\" >F1</th>\n",
       "      <th id=\"T_81cbd_level0_col6\" class=\"col_heading level0 col6\" >Kappa</th>\n",
       "      <th id=\"T_81cbd_level0_col7\" class=\"col_heading level0 col7\" >MCC</th>\n",
       "    </tr>\n",
       "  </thead>\n",
       "  <tbody>\n",
       "    <tr>\n",
       "      <th id=\"T_81cbd_level0_row0\" class=\"row_heading level0 row0\" >0</th>\n",
       "      <td id=\"T_81cbd_row0_col0\" class=\"data row0 col0\" >Stacking Classifier</td>\n",
       "      <td id=\"T_81cbd_row0_col1\" class=\"data row0 col1\" >0.9913</td>\n",
       "      <td id=\"T_81cbd_row0_col2\" class=\"data row0 col2\" >0.9997</td>\n",
       "      <td id=\"T_81cbd_row0_col3\" class=\"data row0 col3\" >0.9823</td>\n",
       "      <td id=\"T_81cbd_row0_col4\" class=\"data row0 col4\" >0.9921</td>\n",
       "      <td id=\"T_81cbd_row0_col5\" class=\"data row0 col5\" >0.9872</td>\n",
       "      <td id=\"T_81cbd_row0_col6\" class=\"data row0 col6\" >0.9805</td>\n",
       "      <td id=\"T_81cbd_row0_col7\" class=\"data row0 col7\" >0.9806</td>\n",
       "    </tr>\n",
       "  </tbody>\n",
       "</table>\n"
      ],
      "text/plain": [
       "<pandas.io.formats.style.Styler at 0x7fc6302dbbe0>"
      ]
     },
     "metadata": {},
     "output_type": "display_data"
    },
    {
     "data": {
      "text/html": [
       "<div>\n",
       "<style scoped>\n",
       "    .dataframe tbody tr th:only-of-type {\n",
       "        vertical-align: middle;\n",
       "    }\n",
       "\n",
       "    .dataframe tbody tr th {\n",
       "        vertical-align: top;\n",
       "    }\n",
       "\n",
       "    .dataframe thead th {\n",
       "        text-align: right;\n",
       "    }\n",
       "</style>\n",
       "<table border=\"1\" class=\"dataframe\">\n",
       "  <thead>\n",
       "    <tr style=\"text-align: right;\">\n",
       "      <th></th>\n",
       "      <th>Score_0</th>\n",
       "      <th>Score_1</th>\n",
       "    </tr>\n",
       "  </thead>\n",
       "  <tbody>\n",
       "    <tr>\n",
       "      <th>count</th>\n",
       "      <td>1486.000000</td>\n",
       "      <td>1486.000000</td>\n",
       "    </tr>\n",
       "    <tr>\n",
       "      <th>mean</th>\n",
       "      <td>0.657821</td>\n",
       "      <td>0.342179</td>\n",
       "    </tr>\n",
       "    <tr>\n",
       "      <th>std</th>\n",
       "      <td>0.469533</td>\n",
       "      <td>0.469533</td>\n",
       "    </tr>\n",
       "    <tr>\n",
       "      <th>min</th>\n",
       "      <td>0.000200</td>\n",
       "      <td>0.001100</td>\n",
       "    </tr>\n",
       "    <tr>\n",
       "      <th>25%</th>\n",
       "      <td>0.000500</td>\n",
       "      <td>0.001200</td>\n",
       "    </tr>\n",
       "    <tr>\n",
       "      <th>50%</th>\n",
       "      <td>0.998500</td>\n",
       "      <td>0.001500</td>\n",
       "    </tr>\n",
       "    <tr>\n",
       "      <th>75%</th>\n",
       "      <td>0.998800</td>\n",
       "      <td>0.999500</td>\n",
       "    </tr>\n",
       "    <tr>\n",
       "      <th>max</th>\n",
       "      <td>0.998900</td>\n",
       "      <td>0.999800</td>\n",
       "    </tr>\n",
       "  </tbody>\n",
       "</table>\n",
       "</div>"
      ],
      "text/plain": [
       "           Score_0      Score_1\n",
       "count  1486.000000  1486.000000\n",
       "mean      0.657821     0.342179\n",
       "std       0.469533     0.469533\n",
       "min       0.000200     0.001100\n",
       "25%       0.000500     0.001200\n",
       "50%       0.998500     0.001500\n",
       "75%       0.998800     0.999500\n",
       "max       0.998900     0.999800"
      ]
     },
     "execution_count": 80,
     "metadata": {},
     "output_type": "execute_result"
    }
   ],
   "source": [
    "pyc.predict_model(calibrated_final_AGN_clf, probability_threshold=0.5, raw_score=True).loc[:, ['Score_0', 'Score_1']].describe()"
   ]
  },
  {
   "cell_type": "code",
   "execution_count": 124,
   "id": "3e3fe9ae",
   "metadata": {},
   "outputs": [
    {
     "data": {
      "text/plain": [
       "array([21.71605332,  9.74565505, 22.89089909, 29.09396027,  0.79670258,\n",
       "        2.08268429,  0.66969926,  1.23126755,  0.55845848,  0.34916353,\n",
       "        0.86624545,  0.64263325,  0.17912434,  0.721578  ,  1.01230668,\n",
       "        0.39360629,  0.98833251,  0.64618518,  0.97963958,  1.93098317,\n",
       "        2.50482212])"
      ]
     },
     "execution_count": 124,
     "metadata": {},
     "output_type": "execute_result"
    }
   ],
   "source": [
    "calibrated_final_AGN_clf.base_estimator.final_estimator_.feature_importances_"
   ]
  },
  {
   "cell_type": "code",
   "execution_count": 86,
   "id": "905a6569",
   "metadata": {},
   "outputs": [
    {
     "data": {
      "text/plain": [
       "StackingClassifier(cv=5,\n",
       "                   estimators=[('gbc',\n",
       "                                GradientBoostingClassifier(ccp_alpha=0.0,\n",
       "                                                           criterion='friedman_mse',\n",
       "                                                           init=None,\n",
       "                                                           learning_rate=0.1,\n",
       "                                                           loss='deviance',\n",
       "                                                           max_depth=3,\n",
       "                                                           max_features=None,\n",
       "                                                           max_leaf_nodes=None,\n",
       "                                                           min_impurity_decrease=0.0,\n",
       "                                                           min_impurity_split=None,\n",
       "                                                           min_samples_leaf=1,\n",
       "                                                           min_samples_split=2,\n",
       "                                                           min_weight_fraction_leaf=0.0,\n",
       "                                                           n_estimators=100,\n",
       "                                                           n_iter_no_ch...\n",
       "                                              n_estimators=100, n_jobs=12,\n",
       "                                              num_parallel_tree=1,\n",
       "                                              objective='binary:logistic',\n",
       "                                              predictor='auto', random_state=42,\n",
       "                                              reg_alpha=0, reg_lambda=1,\n",
       "                                              scale_pos_weight=1, subsample=1,\n",
       "                                              tree_method='auto',\n",
       "                                              use_label_encoder=True,\n",
       "                                              validate_parameters=1,\n",
       "                                              verbosity=0))],\n",
       "                   final_estimator=<catboost.core.CatBoostClassifier object at 0x7fc6302aba30>,\n",
       "                   n_jobs=12, passthrough=True, stack_method='auto', verbose=0)"
      ]
     },
     "execution_count": 86,
     "metadata": {},
     "output_type": "execute_result"
    }
   ],
   "source": [
    "calibrated_final_AGN_clf.calibrated_classifiers_[0].base_estimator"
   ]
  },
  {
   "cell_type": "code",
   "execution_count": 129,
   "id": "3844022c",
   "metadata": {},
   "outputs": [
    {
     "data": {
      "image/png": "[encoded data removed]",
      "text/plain": [
       "<Figure size 800x500 with 1 Axes>"
      ]
     },
     "metadata": {},
     "output_type": "display_data"
    }
   ],
   "source": [
    "pyc.plot_model(calibrated_final_AGN_clf.base_estimator.estimators_[0], plot='feature_all')"
   ]
  },
  {
   "cell_type": "code",
   "execution_count": 76,
   "id": "2c957882",
   "metadata": {
    "id": "kAciINC6t-gk"
   },
   "outputs": [
    {
     "name": "stdout",
     "output_type": "stream",
     "text": [
      "Transformation Pipeline and Model Successfully Saved\n"
     ]
    }
   ],
   "source": [
    "if save_model_flag:\n",
    "    pyc.save_model(calibrated_final_AGN_clf, 'models/classification_AGN_galaxy_ago_03_2022')  # Model (it will be saved with .pkl extension) classification_AGN_galaxy_may_15_2022\n",
    "    # pyc.save_config('../../models/config_classification_AGN_galaxy_ago_03_2022')  # Configuration file"
   ]
  },
  {
   "cell_type": "markdown",
   "id": "d63343e7",
   "metadata": {
    "id": "ef654bbb-7b74-4cef-a809-42d2eb8e7fcb"
   },
   "source": [
    "## Load Models"
   ]
  },
  {
   "cell_type": "markdown",
   "id": "3316fee4",
   "metadata": {
    "id": "217777e4-0212-4a37-b535-6fcaf2f0817e"
   },
   "source": [
    "AGN detection model."
   ]
  },
  {
   "cell_type": "code",
   "execution_count": 119,
   "id": "eb3088e0",
   "metadata": {
    "id": "ad6bf94f-c59d-4013-b523-76a77df047cc",
    "outputId": "d8cd5b82-e109-4bd1-90ea-bf0e85e10ccd",
    "tags": []
   },
   "outputs": [
    {
     "name": "stdout",
     "output_type": "stream",
     "text": [
      "Transformation Pipeline and Model Successfully Loaded\n"
     ]
    }
   ],
   "source": [
    "if load_model_flag:\n",
    "    if use_5sigma:\n",
    "        calibrated_final_AGN_clf = pyc.load_model('models/classification_AGN_galaxy_ago_03_2022')"
   ]
  },
  {
   "cell_type": "markdown",
   "id": "5cfce303",
   "metadata": {},
   "source": [
    "Use the calibrated stacking model only"
   ]
  },
  {
   "cell_type": "code",
   "execution_count": 130,
   "id": "0e6137cd",
   "metadata": {},
   "outputs": [],
   "source": [
    "used_final_AGN_clf = calibrated_final_AGN_clf.base_estimator"
   ]
  },
  {
   "cell_type": "markdown",
   "id": "711f96df",
   "metadata": {
    "id": "6fcb2c6c-a004-4801-b43d-a3593f802cf5"
   },
   "source": [
    "### Prediction process"
   ]
  },
  {
   "cell_type": "markdown",
   "id": "2e581112",
   "metadata": {},
   "source": [
    "#### Feature importances"
   ]
  },
  {
   "cell_type": "code",
   "execution_count": 131,
   "id": "d40b00f8",
   "metadata": {},
   "outputs": [],
   "source": [
    "estimators_list = get_base_estimators_names(used_final_AGN_clf)"
   ]
  },
  {
   "cell_type": "code",
   "execution_count": 132,
   "id": "606482fa",
   "metadata": {},
   "outputs": [
    {
     "data": {
      "text/plain": [
       "['gbc', 'svm', 'rf', 'xgboost']"
      ]
     },
     "execution_count": 132,
     "metadata": {},
     "output_type": "execute_result"
    }
   ],
   "source": [
    "estimators_list"
   ]
  },
  {
   "cell_type": "code",
   "execution_count": 133,
   "id": "0f09211b",
   "metadata": {
    "tags": []
   },
   "outputs": [
    {
     "name": "stdout",
     "output_type": "stream",
     "text": [
      "Running dtypes\n",
      "Running imputer\n",
      "Running new_levels1\n",
      "Running new_levels\n",
      "Running feature_time\n",
      "Running scaling\n",
      "Running P_transform\n",
      "Running dummy\n",
      "Running fix_perfect\n",
      "Running clean_names\n"
     ]
    }
   ],
   "source": [
    "extended_data_AGN = validation_df.loc[:, get_final_column_names(calibrated_final_AGN_clf, validation_df)].copy()\n",
    "extended_idx_AGN  = extended_data_AGN.index\n",
    "initial_cols_AGN  = extended_data_AGN.columns\n",
    "extended_cols_AGN = extended_data_AGN.columns.insert(0, estimators_list[0])\n",
    "if len(estimators_list) > 1:\n",
    "    for est_name in estimators_list[1::]:\n",
    "        extended_cols_AGN = extended_cols_AGN.insert(0, est_name)"
   ]
  },
  {
   "cell_type": "code",
   "execution_count": 135,
   "id": "18a41b8e",
   "metadata": {},
   "outputs": [
    {
     "data": {
      "text/html": [
       "<div>\n",
       "<style scoped>\n",
       "    .dataframe tbody tr th:only-of-type {\n",
       "        vertical-align: middle;\n",
       "    }\n",
       "\n",
       "    .dataframe tbody tr th {\n",
       "        vertical-align: top;\n",
       "    }\n",
       "\n",
       "    .dataframe thead th {\n",
       "        text-align: right;\n",
       "    }\n",
       "</style>\n",
       "<table border=\"1\" class=\"dataframe\">\n",
       "  <thead>\n",
       "    <tr style=\"text-align: right;\">\n",
       "      <th></th>\n",
       "      <th>W4mag</th>\n",
       "      <th>g_r</th>\n",
       "      <th>r_i</th>\n",
       "      <th>r_z</th>\n",
       "      <th>r_J</th>\n",
       "      <th>r_W1</th>\n",
       "      <th>i_z</th>\n",
       "      <th>i_y</th>\n",
       "      <th>z_y</th>\n",
       "      <th>y_J</th>\n",
       "      <th>y_W2</th>\n",
       "      <th>J_H</th>\n",
       "      <th>H_K</th>\n",
       "      <th>H_W4</th>\n",
       "      <th>K_W3</th>\n",
       "      <th>W1_W2</th>\n",
       "      <th>W1_W3</th>\n",
       "    </tr>\n",
       "  </thead>\n",
       "  <tbody>\n",
       "    <tr>\n",
       "      <th>6694110</th>\n",
       "      <td>14.62</td>\n",
       "      <td>0.429701</td>\n",
       "      <td>0.183599</td>\n",
       "      <td>0.646099</td>\n",
       "      <td>1.639799</td>\n",
       "      <td>1.558800</td>\n",
       "      <td>0.462500</td>\n",
       "      <td>0.390001</td>\n",
       "      <td>-0.072498</td>\n",
       "      <td>1.066198</td>\n",
       "      <td>0.602200</td>\n",
       "      <td>0.210001</td>\n",
       "      <td>0.65</td>\n",
       "      <td>2.62</td>\n",
       "      <td>0.552</td>\n",
       "      <td>-0.382999</td>\n",
       "      <td>1.493000</td>\n",
       "    </tr>\n",
       "    <tr>\n",
       "      <th>2696849</th>\n",
       "      <td>14.62</td>\n",
       "      <td>0.099998</td>\n",
       "      <td>1.920301</td>\n",
       "      <td>1.950100</td>\n",
       "      <td>5.750000</td>\n",
       "      <td>3.524002</td>\n",
       "      <td>0.029799</td>\n",
       "      <td>0.748699</td>\n",
       "      <td>0.718901</td>\n",
       "      <td>3.080999</td>\n",
       "      <td>0.721001</td>\n",
       "      <td>0.210001</td>\n",
       "      <td>0.65</td>\n",
       "      <td>2.62</td>\n",
       "      <td>-0.080</td>\n",
       "      <td>-0.134001</td>\n",
       "      <td>3.005999</td>\n",
       "    </tr>\n",
       "    <tr>\n",
       "      <th>5655359</th>\n",
       "      <td>14.62</td>\n",
       "      <td>0.404699</td>\n",
       "      <td>0.755701</td>\n",
       "      <td>0.837700</td>\n",
       "      <td>3.979500</td>\n",
       "      <td>2.730501</td>\n",
       "      <td>0.081999</td>\n",
       "      <td>0.538399</td>\n",
       "      <td>0.456400</td>\n",
       "      <td>2.685400</td>\n",
       "      <td>0.639400</td>\n",
       "      <td>0.210001</td>\n",
       "      <td>0.65</td>\n",
       "      <td>2.62</td>\n",
       "      <td>-0.080</td>\n",
       "      <td>-0.797001</td>\n",
       "      <td>2.028999</td>\n",
       "    </tr>\n",
       "    <tr>\n",
       "      <th>4820922</th>\n",
       "      <td>14.62</td>\n",
       "      <td>0.152300</td>\n",
       "      <td>0.293800</td>\n",
       "      <td>0.618299</td>\n",
       "      <td>3.988899</td>\n",
       "      <td>2.095901</td>\n",
       "      <td>0.324499</td>\n",
       "      <td>0.904699</td>\n",
       "      <td>0.580200</td>\n",
       "      <td>2.790400</td>\n",
       "      <td>1.182400</td>\n",
       "      <td>0.210001</td>\n",
       "      <td>0.65</td>\n",
       "      <td>2.62</td>\n",
       "      <td>-0.080</td>\n",
       "      <td>0.284998</td>\n",
       "      <td>2.672998</td>\n",
       "    </tr>\n",
       "    <tr>\n",
       "      <th>1270671</th>\n",
       "      <td>14.62</td>\n",
       "      <td>1.044100</td>\n",
       "      <td>0.524599</td>\n",
       "      <td>0.743099</td>\n",
       "      <td>1.758499</td>\n",
       "      <td>1.009501</td>\n",
       "      <td>0.218500</td>\n",
       "      <td>0.598902</td>\n",
       "      <td>0.380402</td>\n",
       "      <td>0.634998</td>\n",
       "      <td>-0.578001</td>\n",
       "      <td>0.210001</td>\n",
       "      <td>0.65</td>\n",
       "      <td>2.62</td>\n",
       "      <td>-0.080</td>\n",
       "      <td>-0.464001</td>\n",
       "      <td>1.528999</td>\n",
       "    </tr>\n",
       "    <tr>\n",
       "      <th>...</th>\n",
       "      <td>...</td>\n",
       "      <td>...</td>\n",
       "      <td>...</td>\n",
       "      <td>...</td>\n",
       "      <td>...</td>\n",
       "      <td>...</td>\n",
       "      <td>...</td>\n",
       "      <td>...</td>\n",
       "      <td>...</td>\n",
       "      <td>...</td>\n",
       "      <td>...</td>\n",
       "      <td>...</td>\n",
       "      <td>...</td>\n",
       "      <td>...</td>\n",
       "      <td>...</td>\n",
       "      <td>...</td>\n",
       "      <td>...</td>\n",
       "    </tr>\n",
       "    <tr>\n",
       "      <th>5967919</th>\n",
       "      <td>14.62</td>\n",
       "      <td>0.099998</td>\n",
       "      <td>1.830000</td>\n",
       "      <td>2.272902</td>\n",
       "      <td>5.750000</td>\n",
       "      <td>4.633001</td>\n",
       "      <td>0.442902</td>\n",
       "      <td>-0.029999</td>\n",
       "      <td>-0.472900</td>\n",
       "      <td>3.949999</td>\n",
       "      <td>2.160999</td>\n",
       "      <td>0.210001</td>\n",
       "      <td>0.65</td>\n",
       "      <td>2.62</td>\n",
       "      <td>-0.080</td>\n",
       "      <td>-0.672001</td>\n",
       "      <td>1.896999</td>\n",
       "    </tr>\n",
       "    <tr>\n",
       "      <th>4843808</th>\n",
       "      <td>14.62</td>\n",
       "      <td>0.180101</td>\n",
       "      <td>0.146599</td>\n",
       "      <td>-0.817400</td>\n",
       "      <td>4.032598</td>\n",
       "      <td>1.352600</td>\n",
       "      <td>-0.963999</td>\n",
       "      <td>-0.063999</td>\n",
       "      <td>0.900000</td>\n",
       "      <td>3.949999</td>\n",
       "      <td>1.590000</td>\n",
       "      <td>0.210001</td>\n",
       "      <td>0.65</td>\n",
       "      <td>2.62</td>\n",
       "      <td>-0.080</td>\n",
       "      <td>0.320000</td>\n",
       "      <td>3.459999</td>\n",
       "    </tr>\n",
       "    <tr>\n",
       "      <th>480399</th>\n",
       "      <td>14.62</td>\n",
       "      <td>0.220100</td>\n",
       "      <td>0.075001</td>\n",
       "      <td>0.324100</td>\n",
       "      <td>3.363199</td>\n",
       "      <td>0.908201</td>\n",
       "      <td>0.249100</td>\n",
       "      <td>0.515999</td>\n",
       "      <td>0.266899</td>\n",
       "      <td>2.772200</td>\n",
       "      <td>0.849199</td>\n",
       "      <td>0.210001</td>\n",
       "      <td>0.65</td>\n",
       "      <td>2.62</td>\n",
       "      <td>-0.080</td>\n",
       "      <td>0.531998</td>\n",
       "      <td>3.234999</td>\n",
       "    </tr>\n",
       "    <tr>\n",
       "      <th>4877206</th>\n",
       "      <td>14.62</td>\n",
       "      <td>0.024801</td>\n",
       "      <td>0.185299</td>\n",
       "      <td>0.253799</td>\n",
       "      <td>3.513899</td>\n",
       "      <td>0.833900</td>\n",
       "      <td>0.068501</td>\n",
       "      <td>0.274601</td>\n",
       "      <td>0.206100</td>\n",
       "      <td>3.053999</td>\n",
       "      <td>0.694000</td>\n",
       "      <td>0.210001</td>\n",
       "      <td>0.65</td>\n",
       "      <td>2.62</td>\n",
       "      <td>-0.080</td>\n",
       "      <td>0.320000</td>\n",
       "      <td>3.459999</td>\n",
       "    </tr>\n",
       "    <tr>\n",
       "      <th>4002770</th>\n",
       "      <td>14.62</td>\n",
       "      <td>0.103001</td>\n",
       "      <td>0.175600</td>\n",
       "      <td>0.512199</td>\n",
       "      <td>4.225199</td>\n",
       "      <td>1.545200</td>\n",
       "      <td>0.336599</td>\n",
       "      <td>0.099600</td>\n",
       "      <td>-0.237000</td>\n",
       "      <td>3.949999</td>\n",
       "      <td>1.590000</td>\n",
       "      <td>0.210001</td>\n",
       "      <td>0.65</td>\n",
       "      <td>2.62</td>\n",
       "      <td>-0.080</td>\n",
       "      <td>0.320000</td>\n",
       "      <td>3.459999</td>\n",
       "    </tr>\n",
       "  </tbody>\n",
       "</table>\n",
       "<p>1238 rows × 17 columns</p>\n",
       "</div>"
      ],
      "text/plain": [
       "         W4mag       g_r       r_i       r_z       r_J      r_W1       i_z  \\\n",
       "6694110  14.62  0.429701  0.183599  0.646099  1.639799  1.558800  0.462500   \n",
       "2696849  14.62  0.099998  1.920301  1.950100  5.750000  3.524002  0.029799   \n",
       "5655359  14.62  0.404699  0.755701  0.837700  3.979500  2.730501  0.081999   \n",
       "4820922  14.62  0.152300  0.293800  0.618299  3.988899  2.095901  0.324499   \n",
       "1270671  14.62  1.044100  0.524599  0.743099  1.758499  1.009501  0.218500   \n",
       "...        ...       ...       ...       ...       ...       ...       ...   \n",
       "5967919  14.62  0.099998  1.830000  2.272902  5.750000  4.633001  0.442902   \n",
       "4843808  14.62  0.180101  0.146599 -0.817400  4.032598  1.352600 -0.963999   \n",
       "480399   14.62  0.220100  0.075001  0.324100  3.363199  0.908201  0.249100   \n",
       "4877206  14.62  0.024801  0.185299  0.253799  3.513899  0.833900  0.068501   \n",
       "4002770  14.62  0.103001  0.175600  0.512199  4.225199  1.545200  0.336599   \n",
       "\n",
       "              i_y       z_y       y_J      y_W2       J_H   H_K  H_W4   K_W3  \\\n",
       "6694110  0.390001 -0.072498  1.066198  0.602200  0.210001  0.65  2.62  0.552   \n",
       "2696849  0.748699  0.718901  3.080999  0.721001  0.210001  0.65  2.62 -0.080   \n",
       "5655359  0.538399  0.456400  2.685400  0.639400  0.210001  0.65  2.62 -0.080   \n",
       "4820922  0.904699  0.580200  2.790400  1.182400  0.210001  0.65  2.62 -0.080   \n",
       "1270671  0.598902  0.380402  0.634998 -0.578001  0.210001  0.65  2.62 -0.080   \n",
       "...           ...       ...       ...       ...       ...   ...   ...    ...   \n",
       "5967919 -0.029999 -0.472900  3.949999  2.160999  0.210001  0.65  2.62 -0.080   \n",
       "4843808 -0.063999  0.900000  3.949999  1.590000  0.210001  0.65  2.62 -0.080   \n",
       "480399   0.515999  0.266899  2.772200  0.849199  0.210001  0.65  2.62 -0.080   \n",
       "4877206  0.274601  0.206100  3.053999  0.694000  0.210001  0.65  2.62 -0.080   \n",
       "4002770  0.099600 -0.237000  3.949999  1.590000  0.210001  0.65  2.62 -0.080   \n",
       "\n",
       "            W1_W2     W1_W3  \n",
       "6694110 -0.382999  1.493000  \n",
       "2696849 -0.134001  3.005999  \n",
       "5655359 -0.797001  2.028999  \n",
       "4820922  0.284998  2.672998  \n",
       "1270671 -0.464001  1.528999  \n",
       "...           ...       ...  \n",
       "5967919 -0.672001  1.896999  \n",
       "4843808  0.320000  3.459999  \n",
       "480399   0.531998  3.234999  \n",
       "4877206  0.320000  3.459999  \n",
       "4002770  0.320000  3.459999  \n",
       "\n",
       "[1238 rows x 17 columns]"
      ]
     },
     "execution_count": 135,
     "metadata": {},
     "output_type": "execute_result"
    }
   ],
   "source": [
    "extended_data_AGN"
   ]
  },
  {
   "cell_type": "code",
   "execution_count": 136,
   "id": "c2ae55fb",
   "metadata": {
    "tags": []
   },
   "outputs": [
    {
     "name": "stdout",
     "output_type": "stream",
     "text": [
      "Running data pre-processing:\n",
      "\n",
      "Running dtypes\n",
      "Running imputer\n",
      "Running new_levels1\n",
      "Running new_levels\n",
      "Running feature_time\n",
      "Running scaling\n",
      "Running P_transform\n",
      "Running dummy\n",
      "Running fix_perfect\n",
      "Running clean_names\n"
     ]
    }
   ],
   "source": [
    "print('Running data pre-processing:\\n')\n",
    "if isinstance(calibrated_final_AGN_clf, sklearn.pipeline.Pipeline):\n",
    "    prep_steps = calibrated_final_AGN_clf.named_steps.items()\n",
    "else:\n",
    "    prep_steps = pyc.get_config('prep_pipe').named_steps.items()\n",
    "\n",
    "for (name, method) in prep_steps:\n",
    "    if method != 'passthrough':  # and name != 'trained_model':\n",
    "        print(f'Running {name}')\n",
    "        extended_data_AGN = method.transform(extended_data_AGN)\n",
    "extended_data_AGN_df = pd.DataFrame(extended_data_AGN, columns=extended_cols_AGN, index=extended_idx_AGN)"
   ]
  },
  {
   "cell_type": "code",
   "execution_count": null,
   "id": "b26b20c7",
   "metadata": {},
   "outputs": [],
   "source": []
  },
  {
   "cell_type": "code",
   "execution_count": 137,
   "id": "d754cd30",
   "metadata": {},
   "outputs": [
    {
     "data": {
      "text/html": [
       "<div>\n",
       "<style scoped>\n",
       "    .dataframe tbody tr th:only-of-type {\n",
       "        vertical-align: middle;\n",
       "    }\n",
       "\n",
       "    .dataframe tbody tr th {\n",
       "        vertical-align: top;\n",
       "    }\n",
       "\n",
       "    .dataframe thead th {\n",
       "        text-align: right;\n",
       "    }\n",
       "</style>\n",
       "<table border=\"1\" class=\"dataframe\">\n",
       "  <thead>\n",
       "    <tr style=\"text-align: right;\">\n",
       "      <th></th>\n",
       "      <th>xgboost</th>\n",
       "      <th>rf</th>\n",
       "      <th>svm</th>\n",
       "      <th>gbc</th>\n",
       "      <th>W4mag</th>\n",
       "      <th>g_r</th>\n",
       "      <th>r_i</th>\n",
       "      <th>r_z</th>\n",
       "      <th>r_J</th>\n",
       "      <th>r_W1</th>\n",
       "      <th>...</th>\n",
       "      <th>i_y</th>\n",
       "      <th>z_y</th>\n",
       "      <th>y_J</th>\n",
       "      <th>y_W2</th>\n",
       "      <th>J_H</th>\n",
       "      <th>H_K</th>\n",
       "      <th>H_W4</th>\n",
       "      <th>K_W3</th>\n",
       "      <th>W1_W2</th>\n",
       "      <th>W1_W3</th>\n",
       "    </tr>\n",
       "  </thead>\n",
       "  <tbody>\n",
       "    <tr>\n",
       "      <th>6694110</th>\n",
       "      <td>NaN</td>\n",
       "      <td>NaN</td>\n",
       "      <td>NaN</td>\n",
       "      <td>NaN</td>\n",
       "      <td>0.203698</td>\n",
       "      <td>-0.483446</td>\n",
       "      <td>-0.562160</td>\n",
       "      <td>-0.178680</td>\n",
       "      <td>-1.386404</td>\n",
       "      <td>-0.296243</td>\n",
       "      <td>...</td>\n",
       "      <td>-0.115944</td>\n",
       "      <td>-0.560295</td>\n",
       "      <td>-1.181971</td>\n",
       "      <td>-0.231137</td>\n",
       "      <td>-0.056863</td>\n",
       "      <td>0.365249</td>\n",
       "      <td>0.181136</td>\n",
       "      <td>1.353660</td>\n",
       "      <td>-0.288776</td>\n",
       "      <td>-0.686469</td>\n",
       "    </tr>\n",
       "    <tr>\n",
       "      <th>2696849</th>\n",
       "      <td>NaN</td>\n",
       "      <td>NaN</td>\n",
       "      <td>NaN</td>\n",
       "      <td>NaN</td>\n",
       "      <td>0.203698</td>\n",
       "      <td>-0.928967</td>\n",
       "      <td>2.082607</td>\n",
       "      <td>1.653973</td>\n",
       "      <td>2.023756</td>\n",
       "      <td>1.292380</td>\n",
       "      <td>...</td>\n",
       "      <td>0.495024</td>\n",
       "      <td>0.996652</td>\n",
       "      <td>0.847599</td>\n",
       "      <td>-0.097773</td>\n",
       "      <td>-0.056863</td>\n",
       "      <td>0.365249</td>\n",
       "      <td>0.181136</td>\n",
       "      <td>-0.178984</td>\n",
       "      <td>0.333845</td>\n",
       "      <td>1.057332</td>\n",
       "    </tr>\n",
       "    <tr>\n",
       "      <th>5655359</th>\n",
       "      <td>NaN</td>\n",
       "      <td>NaN</td>\n",
       "      <td>NaN</td>\n",
       "      <td>NaN</td>\n",
       "      <td>0.203698</td>\n",
       "      <td>-0.517188</td>\n",
       "      <td>0.379055</td>\n",
       "      <td>0.103657</td>\n",
       "      <td>0.648089</td>\n",
       "      <td>0.707388</td>\n",
       "      <td>...</td>\n",
       "      <td>0.136747</td>\n",
       "      <td>0.489491</td>\n",
       "      <td>0.507580</td>\n",
       "      <td>-0.189443</td>\n",
       "      <td>-0.056863</td>\n",
       "      <td>0.365249</td>\n",
       "      <td>0.181136</td>\n",
       "      <td>-0.178984</td>\n",
       "      <td>-1.668348</td>\n",
       "      <td>-0.096839</td>\n",
       "    </tr>\n",
       "    <tr>\n",
       "      <th>4820922</th>\n",
       "      <td>NaN</td>\n",
       "      <td>NaN</td>\n",
       "      <td>NaN</td>\n",
       "      <td>NaN</td>\n",
       "      <td>0.203698</td>\n",
       "      <td>-0.858216</td>\n",
       "      <td>-0.373583</td>\n",
       "      <td>-0.220141</td>\n",
       "      <td>0.655663</td>\n",
       "      <td>0.191784</td>\n",
       "      <td>...</td>\n",
       "      <td>0.760900</td>\n",
       "      <td>0.729552</td>\n",
       "      <td>0.599895</td>\n",
       "      <td>0.426384</td>\n",
       "      <td>-0.056863</td>\n",
       "      <td>0.365249</td>\n",
       "      <td>0.181136</td>\n",
       "      <td>-0.178984</td>\n",
       "      <td>1.079544</td>\n",
       "      <td>0.654001</td>\n",
       "    </tr>\n",
       "    <tr>\n",
       "      <th>1270671</th>\n",
       "      <td>NaN</td>\n",
       "      <td>NaN</td>\n",
       "      <td>NaN</td>\n",
       "      <td>NaN</td>\n",
       "      <td>0.203698</td>\n",
       "      <td>0.342817</td>\n",
       "      <td>0.010732</td>\n",
       "      <td>-0.034963</td>\n",
       "      <td>-1.276958</td>\n",
       "      <td>-0.842799</td>\n",
       "      <td>...</td>\n",
       "      <td>0.239803</td>\n",
       "      <td>0.341231</td>\n",
       "      <td>-1.704520</td>\n",
       "      <td>-1.531070</td>\n",
       "      <td>-0.056863</td>\n",
       "      <td>0.365249</td>\n",
       "      <td>0.181136</td>\n",
       "      <td>-0.178984</td>\n",
       "      <td>-0.527033</td>\n",
       "      <td>-0.647680</td>\n",
       "    </tr>\n",
       "    <tr>\n",
       "      <th>...</th>\n",
       "      <td>...</td>\n",
       "      <td>...</td>\n",
       "      <td>...</td>\n",
       "      <td>...</td>\n",
       "      <td>...</td>\n",
       "      <td>...</td>\n",
       "      <td>...</td>\n",
       "      <td>...</td>\n",
       "      <td>...</td>\n",
       "      <td>...</td>\n",
       "      <td>...</td>\n",
       "      <td>...</td>\n",
       "      <td>...</td>\n",
       "      <td>...</td>\n",
       "      <td>...</td>\n",
       "      <td>...</td>\n",
       "      <td>...</td>\n",
       "      <td>...</td>\n",
       "      <td>...</td>\n",
       "      <td>...</td>\n",
       "      <td>...</td>\n",
       "    </tr>\n",
       "    <tr>\n",
       "      <th>5967919</th>\n",
       "      <td>NaN</td>\n",
       "      <td>NaN</td>\n",
       "      <td>NaN</td>\n",
       "      <td>NaN</td>\n",
       "      <td>0.203698</td>\n",
       "      <td>-0.928967</td>\n",
       "      <td>1.956573</td>\n",
       "      <td>2.086126</td>\n",
       "      <td>2.023756</td>\n",
       "      <td>2.039617</td>\n",
       "      <td>...</td>\n",
       "      <td>-0.830599</td>\n",
       "      <td>-1.378456</td>\n",
       "      <td>1.536191</td>\n",
       "      <td>1.561665</td>\n",
       "      <td>-0.056863</td>\n",
       "      <td>0.365249</td>\n",
       "      <td>0.181136</td>\n",
       "      <td>-0.178984</td>\n",
       "      <td>-1.210839</td>\n",
       "      <td>-0.244737</td>\n",
       "    </tr>\n",
       "    <tr>\n",
       "      <th>4843808</th>\n",
       "      <td>NaN</td>\n",
       "      <td>NaN</td>\n",
       "      <td>NaN</td>\n",
       "      <td>NaN</td>\n",
       "      <td>0.203698</td>\n",
       "      <td>-0.820619</td>\n",
       "      <td>-0.626123</td>\n",
       "      <td>-2.471426</td>\n",
       "      <td>0.690826</td>\n",
       "      <td>-0.496409</td>\n",
       "      <td>...</td>\n",
       "      <td>-0.888426</td>\n",
       "      <td>1.342894</td>\n",
       "      <td>1.536191</td>\n",
       "      <td>0.896065</td>\n",
       "      <td>-0.056863</td>\n",
       "      <td>0.365249</td>\n",
       "      <td>0.181136</td>\n",
       "      <td>-0.178984</td>\n",
       "      <td>1.131779</td>\n",
       "      <td>1.619732</td>\n",
       "    </tr>\n",
       "    <tr>\n",
       "      <th>480399</th>\n",
       "      <td>NaN</td>\n",
       "      <td>NaN</td>\n",
       "      <td>NaN</td>\n",
       "      <td>NaN</td>\n",
       "      <td>0.203698</td>\n",
       "      <td>-0.766540</td>\n",
       "      <td>-0.750763</td>\n",
       "      <td>-0.665346</td>\n",
       "      <td>0.142098</td>\n",
       "      <td>-0.947997</td>\n",
       "      <td>...</td>\n",
       "      <td>0.098597</td>\n",
       "      <td>0.118331</td>\n",
       "      <td>0.584009</td>\n",
       "      <td>0.046890</td>\n",
       "      <td>-0.056863</td>\n",
       "      <td>0.365249</td>\n",
       "      <td>0.181136</td>\n",
       "      <td>-0.178984</td>\n",
       "      <td>1.426489</td>\n",
       "      <td>1.339362</td>\n",
       "    </tr>\n",
       "    <tr>\n",
       "      <th>4877206</th>\n",
       "      <td>NaN</td>\n",
       "      <td>NaN</td>\n",
       "      <td>NaN</td>\n",
       "      <td>NaN</td>\n",
       "      <td>0.203698</td>\n",
       "      <td>-1.030735</td>\n",
       "      <td>-0.559229</td>\n",
       "      <td>-0.773276</td>\n",
       "      <td>0.267720</td>\n",
       "      <td>-1.025956</td>\n",
       "      <td>...</td>\n",
       "      <td>-0.312373</td>\n",
       "      <td>-0.001905</td>\n",
       "      <td>0.825024</td>\n",
       "      <td>-0.128139</td>\n",
       "      <td>-0.056863</td>\n",
       "      <td>0.365249</td>\n",
       "      <td>0.181136</td>\n",
       "      <td>-0.178984</td>\n",
       "      <td>1.131779</td>\n",
       "      <td>1.619732</td>\n",
       "    </tr>\n",
       "    <tr>\n",
       "      <th>4002770</th>\n",
       "      <td>NaN</td>\n",
       "      <td>NaN</td>\n",
       "      <td>NaN</td>\n",
       "      <td>NaN</td>\n",
       "      <td>0.203698</td>\n",
       "      <td>-0.924905</td>\n",
       "      <td>-0.575962</td>\n",
       "      <td>-0.379402</td>\n",
       "      <td>0.844889</td>\n",
       "      <td>-0.309245</td>\n",
       "      <td>...</td>\n",
       "      <td>-0.610148</td>\n",
       "      <td>-0.894556</td>\n",
       "      <td>1.536191</td>\n",
       "      <td>0.896065</td>\n",
       "      <td>-0.056863</td>\n",
       "      <td>0.365249</td>\n",
       "      <td>0.181136</td>\n",
       "      <td>-0.178984</td>\n",
       "      <td>1.131779</td>\n",
       "      <td>1.619732</td>\n",
       "    </tr>\n",
       "  </tbody>\n",
       "</table>\n",
       "<p>1238 rows × 21 columns</p>\n",
       "</div>"
      ],
      "text/plain": [
       "         xgboost  rf  svm  gbc     W4mag       g_r       r_i       r_z  \\\n",
       "6694110      NaN NaN  NaN  NaN  0.203698 -0.483446 -0.562160 -0.178680   \n",
       "2696849      NaN NaN  NaN  NaN  0.203698 -0.928967  2.082607  1.653973   \n",
       "5655359      NaN NaN  NaN  NaN  0.203698 -0.517188  0.379055  0.103657   \n",
       "4820922      NaN NaN  NaN  NaN  0.203698 -0.858216 -0.373583 -0.220141   \n",
       "1270671      NaN NaN  NaN  NaN  0.203698  0.342817  0.010732 -0.034963   \n",
       "...          ...  ..  ...  ...       ...       ...       ...       ...   \n",
       "5967919      NaN NaN  NaN  NaN  0.203698 -0.928967  1.956573  2.086126   \n",
       "4843808      NaN NaN  NaN  NaN  0.203698 -0.820619 -0.626123 -2.471426   \n",
       "480399       NaN NaN  NaN  NaN  0.203698 -0.766540 -0.750763 -0.665346   \n",
       "4877206      NaN NaN  NaN  NaN  0.203698 -1.030735 -0.559229 -0.773276   \n",
       "4002770      NaN NaN  NaN  NaN  0.203698 -0.924905 -0.575962 -0.379402   \n",
       "\n",
       "              r_J      r_W1  ...       i_y       z_y       y_J      y_W2  \\\n",
       "6694110 -1.386404 -0.296243  ... -0.115944 -0.560295 -1.181971 -0.231137   \n",
       "2696849  2.023756  1.292380  ...  0.495024  0.996652  0.847599 -0.097773   \n",
       "5655359  0.648089  0.707388  ...  0.136747  0.489491  0.507580 -0.189443   \n",
       "4820922  0.655663  0.191784  ...  0.760900  0.729552  0.599895  0.426384   \n",
       "1270671 -1.276958 -0.842799  ...  0.239803  0.341231 -1.704520 -1.531070   \n",
       "...           ...       ...  ...       ...       ...       ...       ...   \n",
       "5967919  2.023756  2.039617  ... -0.830599 -1.378456  1.536191  1.561665   \n",
       "4843808  0.690826 -0.496409  ... -0.888426  1.342894  1.536191  0.896065   \n",
       "480399   0.142098 -0.947997  ...  0.098597  0.118331  0.584009  0.046890   \n",
       "4877206  0.267720 -1.025956  ... -0.312373 -0.001905  0.825024 -0.128139   \n",
       "4002770  0.844889 -0.309245  ... -0.610148 -0.894556  1.536191  0.896065   \n",
       "\n",
       "              J_H       H_K      H_W4      K_W3     W1_W2     W1_W3  \n",
       "6694110 -0.056863  0.365249  0.181136  1.353660 -0.288776 -0.686469  \n",
       "2696849 -0.056863  0.365249  0.181136 -0.178984  0.333845  1.057332  \n",
       "5655359 -0.056863  0.365249  0.181136 -0.178984 -1.668348 -0.096839  \n",
       "4820922 -0.056863  0.365249  0.181136 -0.178984  1.079544  0.654001  \n",
       "1270671 -0.056863  0.365249  0.181136 -0.178984 -0.527033 -0.647680  \n",
       "...           ...       ...       ...       ...       ...       ...  \n",
       "5967919 -0.056863  0.365249  0.181136 -0.178984 -1.210839 -0.244737  \n",
       "4843808 -0.056863  0.365249  0.181136 -0.178984  1.131779  1.619732  \n",
       "480399  -0.056863  0.365249  0.181136 -0.178984  1.426489  1.339362  \n",
       "4877206 -0.056863  0.365249  0.181136 -0.178984  1.131779  1.619732  \n",
       "4002770 -0.056863  0.365249  0.181136 -0.178984  1.131779  1.619732  \n",
       "\n",
       "[1238 rows x 21 columns]"
      ]
     },
     "execution_count": 137,
     "metadata": {},
     "output_type": "execute_result"
    }
   ],
   "source": [
    "extended_data_AGN_df"
   ]
  },
  {
   "cell_type": "code",
   "execution_count": 110,
   "id": "25c33449",
   "metadata": {},
   "outputs": [
    {
     "data": {
      "text/plain": [
       "[GradientBoostingClassifier(ccp_alpha=0.0, criterion='friedman_mse', init=None,\n",
       "                            learning_rate=0.1, loss='deviance', max_depth=3,\n",
       "                            max_features=None, max_leaf_nodes=None,\n",
       "                            min_impurity_decrease=0.0, min_impurity_split=None,\n",
       "                            min_samples_leaf=1, min_samples_split=2,\n",
       "                            min_weight_fraction_leaf=0.0, n_estimators=100,\n",
       "                            n_iter_no_change=None, presort='deprecated',\n",
       "                            random_state=42, subsample=1.0, tol=0.0001,\n",
       "                            validation_fraction=0.1, verbose=0,\n",
       "                            warm_start=False),\n",
       " SGDClassifier(alpha=0.0001, average=False, class_weight=None,\n",
       "               early_stopping=False, epsilon=0.1, eta0=0.001, fit_intercept=True,\n",
       "               l1_ratio=0.15, learning_rate='optimal', loss='hinge',\n",
       "               max_iter=1000, n_iter_no_change=5, n_jobs=12, penalty='l2',\n",
       "               power_t=0.5, random_state=42, shuffle=True, tol=0.001,\n",
       "               validation_fraction=0.1, verbose=0, warm_start=False),\n",
       " RandomForestClassifier(bootstrap=True, ccp_alpha=0.0, class_weight=None,\n",
       "                        criterion='gini', max_depth=None, max_features='auto',\n",
       "                        max_leaf_nodes=None, max_samples=None,\n",
       "                        min_impurity_decrease=0.0, min_impurity_split=None,\n",
       "                        min_samples_leaf=1, min_samples_split=2,\n",
       "                        min_weight_fraction_leaf=0.0, n_estimators=100,\n",
       "                        n_jobs=12, oob_score=False, random_state=42, verbose=0,\n",
       "                        warm_start=False),\n",
       " XGBClassifier(base_score=0.5, booster='gbtree', colsample_bylevel=1,\n",
       "               colsample_bynode=1, colsample_bytree=1, enable_categorical=False,\n",
       "               gamma=0, gpu_id=-1, importance_type=None,\n",
       "               interaction_constraints='', learning_rate=0.300000012,\n",
       "               max_delta_step=0, max_depth=6, min_child_weight=1, missing=nan,\n",
       "               monotone_constraints='()', n_estimators=100, n_jobs=12,\n",
       "               num_parallel_tree=1, objective='binary:logistic',\n",
       "               predictor='auto', random_state=42, reg_alpha=0, reg_lambda=1,\n",
       "               scale_pos_weight=1, subsample=1, tree_method='auto',\n",
       "               use_label_encoder=True, validate_parameters=1, verbosity=0)]"
      ]
     },
     "execution_count": 110,
     "metadata": {},
     "output_type": "execute_result"
    }
   ],
   "source": [
    "calibrated_final_AGN_clf.calibrated_classifiers_[0].base_estimator.estimators_"
   ]
  },
  {
   "cell_type": "code",
   "execution_count": 137,
   "id": "e6de173b",
   "metadata": {},
   "outputs": [],
   "source": [
    "if isinstance(final_AGN_clf, sklearn.pipeline.Pipeline):\n",
    "    if hasattr(final_AGN_clf.named_steps['trained_model'].final_estimator_, 'feature_importances_'):\n",
    "        importances_coef = final_AGN_clf.named_steps['trained_model'].final_estimator_.feature_importances_\n",
    "    elif hasattr(final_AGN_clf.named_steps['trained_model'].final_estimator_, 'coef_'):\n",
    "        importances_coef = np.abs(np.ravel(final_AGN_clf.named_steps['trained_model'].final_estimator_.coef_)) *\\\n",
    "                                     extended_data_AGN.loc[:, extended_cols_AGN].std(axis=0)\n",
    "else:\n",
    "    if hasattr(calibrated_final_AGN_clf.calibrated_classifiers_[0].base_estimator.final_estimator_, 'feature_importances_'):\n",
    "        importances_coef = calibrated_final_AGN_clf.calibrated_classifiers_[0].base_estimator.final_estimator_.feature_importances_\n",
    "    elif hasattr(calibrated_final_AGN_clf.calibrated_classifiers_[0].base_estimator.final_estimator_, 'coef_'):\n",
    "        importances_coef = np.abs(np.ravel(calibrated_final_AGN_clf.calibrated_classifiers_[0].base_estimator.final_estimator_.coef_)) *\\\n",
    "                                     extended_data_AGN.loc[:, extended_cols_AGN].std(axis=0)\n",
    "\n",
    "coef_meta_df = pd.DataFrame({'Feature': extended_cols_AGN, 'Importance': importances_coef})\n",
    "coef_sorted_meta_df = (\n",
    "    coef_meta_df.sort_values(by='Importance', ascending=False)\n",
    "    .head(len(extended_cols_AGN))\n",
    "    .sort_values(by='Importance', ascending=False).reset_index(drop=True)\n",
    ")"
   ]
  },
  {
   "cell_type": "code",
   "execution_count": 139,
   "id": "70a54935",
   "metadata": {},
   "outputs": [
    {
     "data": {
      "text/html": [
       "<div>\n",
       "<style scoped>\n",
       "    .dataframe tbody tr th:only-of-type {\n",
       "        vertical-align: middle;\n",
       "    }\n",
       "\n",
       "    .dataframe tbody tr th {\n",
       "        vertical-align: top;\n",
       "    }\n",
       "\n",
       "    .dataframe thead th {\n",
       "        text-align: right;\n",
       "    }\n",
       "</style>\n",
       "<table border=\"1\" class=\"dataframe\">\n",
       "  <thead>\n",
       "    <tr style=\"text-align: right;\">\n",
       "      <th></th>\n",
       "      <th>Feature</th>\n",
       "      <th>Importance</th>\n",
       "    </tr>\n",
       "  </thead>\n",
       "  <tbody>\n",
       "    <tr>\n",
       "      <th>0</th>\n",
       "      <td>svm</td>\n",
       "      <td>40.964334</td>\n",
       "    </tr>\n",
       "    <tr>\n",
       "      <th>1</th>\n",
       "      <td>lr</td>\n",
       "      <td>17.109653</td>\n",
       "    </tr>\n",
       "    <tr>\n",
       "      <th>2</th>\n",
       "      <td>rf</td>\n",
       "      <td>12.538026</td>\n",
       "    </tr>\n",
       "    <tr>\n",
       "      <th>3</th>\n",
       "      <td>W1_W3</td>\n",
       "      <td>5.862911</td>\n",
       "    </tr>\n",
       "    <tr>\n",
       "      <th>4</th>\n",
       "      <td>r_J</td>\n",
       "      <td>5.014920</td>\n",
       "    </tr>\n",
       "    <tr>\n",
       "      <th>5</th>\n",
       "      <td>H_K</td>\n",
       "      <td>4.223978</td>\n",
       "    </tr>\n",
       "    <tr>\n",
       "      <th>6</th>\n",
       "      <td>r_W1</td>\n",
       "      <td>3.234833</td>\n",
       "    </tr>\n",
       "    <tr>\n",
       "      <th>7</th>\n",
       "      <td>g_r</td>\n",
       "      <td>3.110710</td>\n",
       "    </tr>\n",
       "    <tr>\n",
       "      <th>8</th>\n",
       "      <td>gbc</td>\n",
       "      <td>1.899405</td>\n",
       "    </tr>\n",
       "    <tr>\n",
       "      <th>9</th>\n",
       "      <td>y_J</td>\n",
       "      <td>1.856557</td>\n",
       "    </tr>\n",
       "    <tr>\n",
       "      <th>10</th>\n",
       "      <td>K_W3</td>\n",
       "      <td>1.645051</td>\n",
       "    </tr>\n",
       "    <tr>\n",
       "      <th>11</th>\n",
       "      <td>r_z</td>\n",
       "      <td>1.594218</td>\n",
       "    </tr>\n",
       "    <tr>\n",
       "      <th>12</th>\n",
       "      <td>W1_W2</td>\n",
       "      <td>0.474281</td>\n",
       "    </tr>\n",
       "    <tr>\n",
       "      <th>13</th>\n",
       "      <td>H_W4</td>\n",
       "      <td>0.426554</td>\n",
       "    </tr>\n",
       "    <tr>\n",
       "      <th>14</th>\n",
       "      <td>r_i</td>\n",
       "      <td>0.044569</td>\n",
       "    </tr>\n",
       "    <tr>\n",
       "      <th>15</th>\n",
       "      <td>W4mag</td>\n",
       "      <td>0.000000</td>\n",
       "    </tr>\n",
       "    <tr>\n",
       "      <th>16</th>\n",
       "      <td>z_y</td>\n",
       "      <td>0.000000</td>\n",
       "    </tr>\n",
       "    <tr>\n",
       "      <th>17</th>\n",
       "      <td>J_H</td>\n",
       "      <td>0.000000</td>\n",
       "    </tr>\n",
       "    <tr>\n",
       "      <th>18</th>\n",
       "      <td>y_W2</td>\n",
       "      <td>0.000000</td>\n",
       "    </tr>\n",
       "    <tr>\n",
       "      <th>19</th>\n",
       "      <td>i_y</td>\n",
       "      <td>0.000000</td>\n",
       "    </tr>\n",
       "    <tr>\n",
       "      <th>20</th>\n",
       "      <td>i_z</td>\n",
       "      <td>0.000000</td>\n",
       "    </tr>\n",
       "  </tbody>\n",
       "</table>\n",
       "</div>"
      ],
      "text/plain": [
       "   Feature  Importance\n",
       "0      svm   40.964334\n",
       "1       lr   17.109653\n",
       "2       rf   12.538026\n",
       "3    W1_W3    5.862911\n",
       "4      r_J    5.014920\n",
       "5      H_K    4.223978\n",
       "6     r_W1    3.234833\n",
       "7      g_r    3.110710\n",
       "8      gbc    1.899405\n",
       "9      y_J    1.856557\n",
       "10    K_W3    1.645051\n",
       "11     r_z    1.594218\n",
       "12   W1_W2    0.474281\n",
       "13    H_W4    0.426554\n",
       "14     r_i    0.044569\n",
       "15   W4mag    0.000000\n",
       "16     z_y    0.000000\n",
       "17     J_H    0.000000\n",
       "18    y_W2    0.000000\n",
       "19     i_y    0.000000\n",
       "20     i_z    0.000000"
      ]
     },
     "execution_count": 139,
     "metadata": {},
     "output_type": "execute_result"
    }
   ],
   "source": [
    "coef_sorted_meta_df"
   ]
  },
  {
   "cell_type": "code",
   "execution_count": 126,
   "id": "dfdfccf5",
   "metadata": {
    "tags": []
   },
   "outputs": [],
   "source": [
    "if isinstance(final_AGN_clf, sklearn.pipeline.Pipeline):\n",
    "    estimators_list  = final_AGN_clf.named_steps['trained_model'].estimators\n",
    "    estimators_list_ = final_AGN_clf.named_steps['trained_model'].estimators_\n",
    "else:\n",
    "    estimators_list  = calibrated_final_AGN_clf.calibrated_classifiers_[0].base_estimator.estimators\n",
    "    # estimators_list_ = final_AGN_clf.base_estimator.estimators_\n",
    "    estimators_list_ = [estimator_tmp[1] for estimator_tmp in estimators_list]"
   ]
  },
  {
   "cell_type": "code",
   "execution_count": 127,
   "id": "35294f90",
   "metadata": {
    "tags": []
   },
   "outputs": [],
   "source": [
    "base_models_names = [model[0] for model in estimators_list]"
   ]
  },
  {
   "cell_type": "code",
   "execution_count": 128,
   "id": "07bfa6fb",
   "metadata": {
    "tags": []
   },
   "outputs": [],
   "source": [
    "coef_sorted_base_df = {}"
   ]
  },
  {
   "cell_type": "code",
   "execution_count": 129,
   "id": "4f22d792",
   "metadata": {
    "tags": []
   },
   "outputs": [],
   "source": [
    "for model, model_fit in zip(base_models_names, estimators_list_):\n",
    "    if hasattr(model_fit, 'feature_importances_'):\n",
    "        coef_base_df = pd.DataFrame({'Feature': extended_cols_AGN.drop(base_models_names),\n",
    "                                     'Importance': model_fit.feature_importances_})\n",
    "        coef_sorted_base_df[model] = (\n",
    "        coef_base_df.sort_values(by='Importance', ascending=False)\n",
    "        .head(len(extended_cols_AGN.drop(base_models_names)))\n",
    "        .sort_values(by='Importance', ascending=False).reset_index(drop=True)\n",
    "        )\n",
    "    elif hasattr(model_fit, 'coef_'):\n",
    "        coef_base_df = pd.DataFrame({'Feature': extended_cols_AGN.drop(base_models_names),\n",
    "                                     'Importance': np.abs(model_fit.coef_.ravel()) *\\\n",
    "                                     extended_data_AGN_df.loc[:, extended_cols_AGN.drop(base_models_names)].std(axis=0)})\n",
    "        coef_sorted_base_df[model] = (\n",
    "        coef_base_df.sort_values(by='Importance', ascending=False)\n",
    "        .head(len(extended_cols_AGN.drop(base_models_names)))\n",
    "        .sort_values(by='Importance', ascending=False).reset_index(drop=True)\n",
    "        )"
   ]
  },
  {
   "cell_type": "code",
   "execution_count": 130,
   "id": "4082810e",
   "metadata": {},
   "outputs": [
    {
     "data": {
      "text/plain": [
       "{}"
      ]
     },
     "execution_count": 130,
     "metadata": {},
     "output_type": "execute_result"
    }
   ],
   "source": [
    "coef_sorted_base_df"
   ]
  },
  {
   "cell_type": "code",
   "execution_count": 131,
   "id": "c7226740",
   "metadata": {
    "tags": []
   },
   "outputs": [],
   "source": [
    "multicol_feat = [(key, name) for key in coef_sorted_base_df.keys() for name in ('Feature', 'Importance')]"
   ]
  },
  {
   "cell_type": "code",
   "execution_count": 132,
   "id": "24bd51e1",
   "metadata": {
    "tags": []
   },
   "outputs": [
    {
     "name": "stdout",
     "output_type": "stream",
     "text": [
      "Feature importances scaled to sum 100\n"
     ]
    },
    {
     "ename": "ValueError",
     "evalue": "No objects to concatenate",
     "output_type": "error",
     "traceback": [
      "\u001b[0;31m---------------------------------------------------------------------------\u001b[0m",
      "\u001b[0;31mValueError\u001b[0m                                Traceback (most recent call last)",
      "Input \u001b[0;32mIn [132]\u001b[0m, in \u001b[0;36m<cell line: 8>\u001b[0;34m()\u001b[0m\n\u001b[1;32m      5\u001b[0m     coef_sorted_base_df_copy_sum[key]\u001b[38;5;241m.\u001b[39mloc[:, \u001b[38;5;124m'\u001b[39m\u001b[38;5;124mImportance\u001b[39m\u001b[38;5;124m'\u001b[39m] \u001b[38;5;241m=\u001b[39m coef_sorted_base_df[key]\u001b[38;5;241m.\u001b[39mloc[:, \u001b[38;5;124m'\u001b[39m\u001b[38;5;124mImportance\u001b[39m\u001b[38;5;124m'\u001b[39m] \u001b[38;5;241m/\u001b[39m\\\n\u001b[1;32m      6\u001b[0m                                                         coef_sorted_base_df[key]\u001b[38;5;241m.\u001b[39mloc[:, \u001b[38;5;124m'\u001b[39m\u001b[38;5;124mImportance\u001b[39m\u001b[38;5;124m'\u001b[39m]\u001b[38;5;241m.\u001b[39msum() \u001b[38;5;241m*\u001b[39m \u001b[38;5;241m100\u001b[39m\n\u001b[1;32m      7\u001b[0m     \u001b[38;5;66;03m# display(coef_sorted_base_df_copy_sum[key])\u001b[39;00m\n\u001b[0;32m----> 8\u001b[0m coef_sorted_base_full_df \u001b[38;5;241m=\u001b[39m \u001b[43mpd\u001b[49m\u001b[38;5;241;43m.\u001b[39;49m\u001b[43mconcat\u001b[49m\u001b[43m(\u001b[49m\u001b[43m[\u001b[49m\u001b[43mcoef_sorted_base_df_copy_sum\u001b[49m\u001b[43m[\u001b[49m\u001b[43mkey\u001b[49m\u001b[43m]\u001b[49m\u001b[38;5;241;43m.\u001b[39;49m\u001b[43mreset_index\u001b[49m\u001b[43m(\u001b[49m\u001b[43mdrop\u001b[49m\u001b[38;5;241;43m=\u001b[39;49m\u001b[38;5;28;43;01mTrue\u001b[39;49;00m\u001b[43m)\u001b[49m\u001b[43m \u001b[49m\u001b[38;5;28;43;01mfor\u001b[39;49;00m\u001b[43m \u001b[49m\u001b[43mkey\u001b[49m\u001b[43m \u001b[49m\u001b[38;5;129;43;01min\u001b[39;49;00m\u001b[43m \u001b[49m\u001b[43mcoef_sorted_base_df_copy_sum\u001b[49m\u001b[38;5;241;43m.\u001b[39;49m\u001b[43mkeys\u001b[49m\u001b[43m(\u001b[49m\u001b[43m)\u001b[49m\u001b[43m]\u001b[49m\u001b[43m,\u001b[49m\u001b[43m \u001b[49m\u001b[43maxis\u001b[49m\u001b[38;5;241;43m=\u001b[39;49m\u001b[38;5;241;43m1\u001b[39;49m\u001b[43m)\u001b[49m\n\u001b[1;32m      9\u001b[0m coef_sorted_base_full_df\u001b[38;5;241m.\u001b[39mcolumns \u001b[38;5;241m=\u001b[39m pd\u001b[38;5;241m.\u001b[39mMultiIndex\u001b[38;5;241m.\u001b[39mfrom_tuples(multicol_feat)\n\u001b[1;32m     10\u001b[0m \u001b[38;5;28;01mwith\u001b[39;00m pd\u001b[38;5;241m.\u001b[39moption_context(\u001b[38;5;124m'\u001b[39m\u001b[38;5;124mdisplay.float_format\u001b[39m\u001b[38;5;124m'\u001b[39m, \u001b[38;5;124m'\u001b[39m\u001b[38;5;132;01m{:.4f}\u001b[39;00m\u001b[38;5;124m'\u001b[39m\u001b[38;5;241m.\u001b[39mformat):\n",
      "File \u001b[0;32m~/.miniforge3/envs/test_pycaret/lib/python3.8/site-packages/pandas/util/_decorators.py:311\u001b[0m, in \u001b[0;36mdeprecate_nonkeyword_arguments.<locals>.decorate.<locals>.wrapper\u001b[0;34m(*args, **kwargs)\u001b[0m\n\u001b[1;32m    305\u001b[0m \u001b[38;5;28;01mif\u001b[39;00m \u001b[38;5;28mlen\u001b[39m(args) \u001b[38;5;241m>\u001b[39m num_allow_args:\n\u001b[1;32m    306\u001b[0m     warnings\u001b[38;5;241m.\u001b[39mwarn(\n\u001b[1;32m    307\u001b[0m         msg\u001b[38;5;241m.\u001b[39mformat(arguments\u001b[38;5;241m=\u001b[39marguments),\n\u001b[1;32m    308\u001b[0m         \u001b[38;5;167;01mFutureWarning\u001b[39;00m,\n\u001b[1;32m    309\u001b[0m         stacklevel\u001b[38;5;241m=\u001b[39mstacklevel,\n\u001b[1;32m    310\u001b[0m     )\n\u001b[0;32m--> 311\u001b[0m \u001b[38;5;28;01mreturn\u001b[39;00m \u001b[43mfunc\u001b[49m\u001b[43m(\u001b[49m\u001b[38;5;241;43m*\u001b[39;49m\u001b[43margs\u001b[49m\u001b[43m,\u001b[49m\u001b[43m \u001b[49m\u001b[38;5;241;43m*\u001b[39;49m\u001b[38;5;241;43m*\u001b[39;49m\u001b[43mkwargs\u001b[49m\u001b[43m)\u001b[49m\n",
      "File \u001b[0;32m~/.miniforge3/envs/test_pycaret/lib/python3.8/site-packages/pandas/core/reshape/concat.py:347\u001b[0m, in \u001b[0;36mconcat\u001b[0;34m(objs, axis, join, ignore_index, keys, levels, names, verify_integrity, sort, copy)\u001b[0m\n\u001b[1;32m    143\u001b[0m \u001b[38;5;129m@deprecate_nonkeyword_arguments\u001b[39m(version\u001b[38;5;241m=\u001b[39m\u001b[38;5;28;01mNone\u001b[39;00m, allowed_args\u001b[38;5;241m=\u001b[39m[\u001b[38;5;124m\"\u001b[39m\u001b[38;5;124mobjs\u001b[39m\u001b[38;5;124m\"\u001b[39m])\n\u001b[1;32m    144\u001b[0m \u001b[38;5;28;01mdef\u001b[39;00m \u001b[38;5;21mconcat\u001b[39m(\n\u001b[1;32m    145\u001b[0m     objs: Iterable[NDFrame] \u001b[38;5;241m|\u001b[39m Mapping[Hashable, NDFrame],\n\u001b[0;32m   (...)\u001b[0m\n\u001b[1;32m    154\u001b[0m     copy: \u001b[38;5;28mbool\u001b[39m \u001b[38;5;241m=\u001b[39m \u001b[38;5;28;01mTrue\u001b[39;00m,\n\u001b[1;32m    155\u001b[0m ) \u001b[38;5;241m-\u001b[39m\u001b[38;5;241m>\u001b[39m DataFrame \u001b[38;5;241m|\u001b[39m Series:\n\u001b[1;32m    156\u001b[0m     \u001b[38;5;124;03m\"\"\"\u001b[39;00m\n\u001b[1;32m    157\u001b[0m \u001b[38;5;124;03m    Concatenate pandas objects along a particular axis with optional set logic\u001b[39;00m\n\u001b[1;32m    158\u001b[0m \u001b[38;5;124;03m    along the other axes.\u001b[39;00m\n\u001b[0;32m   (...)\u001b[0m\n\u001b[1;32m    345\u001b[0m \u001b[38;5;124;03m    ValueError: Indexes have overlapping values: ['a']\u001b[39;00m\n\u001b[1;32m    346\u001b[0m \u001b[38;5;124;03m    \"\"\"\u001b[39;00m\n\u001b[0;32m--> 347\u001b[0m     op \u001b[38;5;241m=\u001b[39m \u001b[43m_Concatenator\u001b[49m\u001b[43m(\u001b[49m\n\u001b[1;32m    348\u001b[0m \u001b[43m        \u001b[49m\u001b[43mobjs\u001b[49m\u001b[43m,\u001b[49m\n\u001b[1;32m    349\u001b[0m \u001b[43m        \u001b[49m\u001b[43maxis\u001b[49m\u001b[38;5;241;43m=\u001b[39;49m\u001b[43maxis\u001b[49m\u001b[43m,\u001b[49m\n\u001b[1;32m    350\u001b[0m \u001b[43m        \u001b[49m\u001b[43mignore_index\u001b[49m\u001b[38;5;241;43m=\u001b[39;49m\u001b[43mignore_index\u001b[49m\u001b[43m,\u001b[49m\n\u001b[1;32m    351\u001b[0m \u001b[43m        \u001b[49m\u001b[43mjoin\u001b[49m\u001b[38;5;241;43m=\u001b[39;49m\u001b[43mjoin\u001b[49m\u001b[43m,\u001b[49m\n\u001b[1;32m    352\u001b[0m \u001b[43m        \u001b[49m\u001b[43mkeys\u001b[49m\u001b[38;5;241;43m=\u001b[39;49m\u001b[43mkeys\u001b[49m\u001b[43m,\u001b[49m\n\u001b[1;32m    353\u001b[0m \u001b[43m        \u001b[49m\u001b[43mlevels\u001b[49m\u001b[38;5;241;43m=\u001b[39;49m\u001b[43mlevels\u001b[49m\u001b[43m,\u001b[49m\n\u001b[1;32m    354\u001b[0m \u001b[43m        \u001b[49m\u001b[43mnames\u001b[49m\u001b[38;5;241;43m=\u001b[39;49m\u001b[43mnames\u001b[49m\u001b[43m,\u001b[49m\n\u001b[1;32m    355\u001b[0m \u001b[43m        \u001b[49m\u001b[43mverify_integrity\u001b[49m\u001b[38;5;241;43m=\u001b[39;49m\u001b[43mverify_integrity\u001b[49m\u001b[43m,\u001b[49m\n\u001b[1;32m    356\u001b[0m \u001b[43m        \u001b[49m\u001b[43mcopy\u001b[49m\u001b[38;5;241;43m=\u001b[39;49m\u001b[43mcopy\u001b[49m\u001b[43m,\u001b[49m\n\u001b[1;32m    357\u001b[0m \u001b[43m        \u001b[49m\u001b[43msort\u001b[49m\u001b[38;5;241;43m=\u001b[39;49m\u001b[43msort\u001b[49m\u001b[43m,\u001b[49m\n\u001b[1;32m    358\u001b[0m \u001b[43m    \u001b[49m\u001b[43m)\u001b[49m\n\u001b[1;32m    360\u001b[0m     \u001b[38;5;28;01mreturn\u001b[39;00m op\u001b[38;5;241m.\u001b[39mget_result()\n",
      "File \u001b[0;32m~/.miniforge3/envs/test_pycaret/lib/python3.8/site-packages/pandas/core/reshape/concat.py:404\u001b[0m, in \u001b[0;36m_Concatenator.__init__\u001b[0;34m(self, objs, axis, join, keys, levels, names, ignore_index, verify_integrity, copy, sort)\u001b[0m\n\u001b[1;32m    401\u001b[0m     objs \u001b[38;5;241m=\u001b[39m \u001b[38;5;28mlist\u001b[39m(objs)\n\u001b[1;32m    403\u001b[0m \u001b[38;5;28;01mif\u001b[39;00m \u001b[38;5;28mlen\u001b[39m(objs) \u001b[38;5;241m==\u001b[39m \u001b[38;5;241m0\u001b[39m:\n\u001b[0;32m--> 404\u001b[0m     \u001b[38;5;28;01mraise\u001b[39;00m \u001b[38;5;167;01mValueError\u001b[39;00m(\u001b[38;5;124m\"\u001b[39m\u001b[38;5;124mNo objects to concatenate\u001b[39m\u001b[38;5;124m\"\u001b[39m)\n\u001b[1;32m    406\u001b[0m \u001b[38;5;28;01mif\u001b[39;00m keys \u001b[38;5;129;01mis\u001b[39;00m \u001b[38;5;28;01mNone\u001b[39;00m:\n\u001b[1;32m    407\u001b[0m     objs \u001b[38;5;241m=\u001b[39m \u001b[38;5;28mlist\u001b[39m(com\u001b[38;5;241m.\u001b[39mnot_none(\u001b[38;5;241m*\u001b[39mobjs))\n",
      "\u001b[0;31mValueError\u001b[0m: No objects to concatenate"
     ]
    },
    {
     "name": "stderr",
     "output_type": "stream",
     "text": [
      "/home/rcarvajal/.miniforge3/envs/test_pycaret/lib/python3.8/site-packages/sklearn/utils/deprecation.py:101: FutureWarning: Attribute standard_coef_ was deprecated in version 0.23 and will be removed in 0.25.\n",
      "  warnings.warn(msg, category=FutureWarning)\n",
      "/home/rcarvajal/.miniforge3/envs/test_pycaret/lib/python3.8/site-packages/sklearn/utils/deprecation.py:101: FutureWarning: Attribute standard_intercept_ was deprecated in version 0.23 and will be removed in 0.25.\n",
      "  warnings.warn(msg, category=FutureWarning)\n",
      "/home/rcarvajal/.miniforge3/envs/test_pycaret/lib/python3.8/site-packages/sklearn/utils/deprecation.py:101: FutureWarning: Attribute average_coef_ was deprecated in version 0.23 and will be removed in 0.25.\n",
      "  warnings.warn(msg, category=FutureWarning)\n",
      "/home/rcarvajal/.miniforge3/envs/test_pycaret/lib/python3.8/site-packages/sklearn/utils/deprecation.py:101: FutureWarning: Attribute average_intercept_ was deprecated in version 0.23 and will be removed in 0.25.\n",
      "  warnings.warn(msg, category=FutureWarning)\n",
      "/home/rcarvajal/.miniforge3/envs/test_pycaret/lib/python3.8/site-packages/xgboost/sklearn.py:1224: UserWarning: The use of label encoder in XGBClassifier is deprecated and will be removed in a future release. To remove this warning, do the following: 1) Pass option use_label_encoder=False when constructing XGBClassifier object; and 2) Encode your labels (y) as integers starting with 0, i.e. 0, 1, 2, ..., [num_class - 1].\n",
      "  warnings.warn(label_encoder_deprecation_msg, UserWarning)\n",
      "/home/rcarvajal/.miniforge3/envs/test_pycaret/lib/python3.8/site-packages/xgboost/data.py:262: FutureWarning: pandas.Int64Index is deprecated and will be removed from pandas in a future version. Use pandas.Index with the appropriate dtype instead.\n",
      "  elif isinstance(data.columns, (pd.Int64Index, pd.RangeIndex)):\n",
      "/home/rcarvajal/.miniforge3/envs/test_pycaret/lib/python3.8/site-packages/sklearn/utils/deprecation.py:101: FutureWarning: The outputs_2d_ attribute is deprecated in version 0.22 and will be removed in version 0.24. It is equivalent to n_outputs_ > 1.\n",
      "  warnings.warn(msg, category=FutureWarning)\n",
      "/home/rcarvajal/.miniforge3/envs/test_pycaret/lib/python3.8/site-packages/sklearn/metrics/_classification.py:1221: UndefinedMetricWarning: Precision is ill-defined and being set to 0.0 due to no predicted samples. Use `zero_division` parameter to control this behavior.\n",
      "  _warn_prf(average, modifier, msg_start, len(result))\n",
      "/home/rcarvajal/.miniforge3/envs/test_pycaret/lib/python3.8/site-packages/sklearn/metrics/_classification.py:846: RuntimeWarning: invalid value encountered in double_scalars\n",
      "  mcc = cov_ytyp / np.sqrt(cov_ytyt * cov_ypyp)\n",
      "/home/rcarvajal/.miniforge3/envs/test_pycaret/lib/python3.8/site-packages/sklearn/model_selection/_validation.py:548: FitFailedWarning: Estimator fit failed. The score on this train-test partition for these parameters will be set to 0.000000. Details: \n",
      "Traceback (most recent call last):\n",
      "  File \"/home/rcarvajal/.miniforge3/envs/test_pycaret/lib/python3.8/site-packages/sklearn/model_selection/_validation.py\", line 531, in _fit_and_score\n",
      "    estimator.fit(X_train, y_train, **fit_params)\n",
      "  File \"/home/rcarvajal/.miniforge3/envs/test_pycaret/lib/python3.8/site-packages/pycaret/internal/pipeline.py\", line 118, in fit\n",
      "    result = super().fit(X, y=y, **fit_kwargs)\n",
      "  File \"/home/rcarvajal/.miniforge3/envs/test_pycaret/lib/python3.8/site-packages/imblearn/pipeline.py\", line 281, in fit\n",
      "    self._final_estimator.fit(Xt, yt, **fit_params)\n",
      "  File \"/home/rcarvajal/.miniforge3/envs/test_pycaret/lib/python3.8/site-packages/sklearn/calibration.py\", line 155, in fit\n",
      "    calibrated_classifier.fit(X, y, sample_weight)\n",
      "  File \"/home/rcarvajal/.miniforge3/envs/test_pycaret/lib/python3.8/site-packages/sklearn/calibration.py\", line 334, in fit\n",
      "    df, idx_pos_class = self._preproc(X)\n",
      "  File \"/home/rcarvajal/.miniforge3/envs/test_pycaret/lib/python3.8/site-packages/sklearn/calibration.py\", line 297, in _preproc\n",
      "    raise RuntimeError('classifier has no decision_function or '\n",
      "RuntimeError: classifier has no decision_function or predict_proba method.\n",
      "\n",
      "  warnings.warn(\"Estimator fit failed. The score on this train-test\"\n",
      "/home/rcarvajal/.miniforge3/envs/test_pycaret/lib/python3.8/site-packages/sklearn/model_selection/_validation.py:548: FitFailedWarning: Estimator fit failed. The score on this train-test partition for these parameters will be set to 0.000000. Details: \n",
      "Traceback (most recent call last):\n",
      "  File \"/home/rcarvajal/.miniforge3/envs/test_pycaret/lib/python3.8/site-packages/sklearn/model_selection/_validation.py\", line 531, in _fit_and_score\n",
      "    estimator.fit(X_train, y_train, **fit_params)\n",
      "  File \"/home/rcarvajal/.miniforge3/envs/test_pycaret/lib/python3.8/site-packages/pycaret/internal/pipeline.py\", line 118, in fit\n",
      "    result = super().fit(X, y=y, **fit_kwargs)\n",
      "  File \"/home/rcarvajal/.miniforge3/envs/test_pycaret/lib/python3.8/site-packages/imblearn/pipeline.py\", line 281, in fit\n",
      "    self._final_estimator.fit(Xt, yt, **fit_params)\n",
      "  File \"/home/rcarvajal/.miniforge3/envs/test_pycaret/lib/python3.8/site-packages/sklearn/calibration.py\", line 155, in fit\n",
      "    calibrated_classifier.fit(X, y, sample_weight)\n",
      "  File \"/home/rcarvajal/.miniforge3/envs/test_pycaret/lib/python3.8/site-packages/sklearn/calibration.py\", line 334, in fit\n",
      "    df, idx_pos_class = self._preproc(X)\n",
      "  File \"/home/rcarvajal/.miniforge3/envs/test_pycaret/lib/python3.8/site-packages/sklearn/calibration.py\", line 297, in _preproc\n",
      "    raise RuntimeError('classifier has no decision_function or '\n",
      "RuntimeError: classifier has no decision_function or predict_proba method.\n",
      "\n",
      "  warnings.warn(\"Estimator fit failed. The score on this train-test\"\n",
      "/home/rcarvajal/.miniforge3/envs/test_pycaret/lib/python3.8/site-packages/xgboost/data.py:262: FutureWarning: pandas.Int64Index is deprecated and will be removed from pandas in a future version. Use pandas.Index with the appropriate dtype instead.\n",
      "  elif isinstance(data.columns, (pd.Int64Index, pd.RangeIndex)):\n",
      "/home/rcarvajal/.miniforge3/envs/test_pycaret/lib/python3.8/site-packages/sklearn/utils/deprecation.py:101: FutureWarning: Attribute standard_coef_ was deprecated in version 0.23 and will be removed in 0.25.\n",
      "  warnings.warn(msg, category=FutureWarning)\n",
      "/home/rcarvajal/.miniforge3/envs/test_pycaret/lib/python3.8/site-packages/sklearn/utils/deprecation.py:101: FutureWarning: Attribute standard_intercept_ was deprecated in version 0.23 and will be removed in 0.25.\n",
      "  warnings.warn(msg, category=FutureWarning)\n",
      "/home/rcarvajal/.miniforge3/envs/test_pycaret/lib/python3.8/site-packages/sklearn/utils/deprecation.py:101: FutureWarning: Attribute average_coef_ was deprecated in version 0.23 and will be removed in 0.25.\n",
      "  warnings.warn(msg, category=FutureWarning)\n",
      "/home/rcarvajal/.miniforge3/envs/test_pycaret/lib/python3.8/site-packages/sklearn/utils/deprecation.py:101: FutureWarning: Attribute average_intercept_ was deprecated in version 0.23 and will be removed in 0.25.\n",
      "  warnings.warn(msg, category=FutureWarning)\n",
      "/home/rcarvajal/.miniforge3/envs/test_pycaret/lib/python3.8/site-packages/xgboost/sklearn.py:1224: UserWarning: The use of label encoder in XGBClassifier is deprecated and will be removed in a future release. To remove this warning, do the following: 1) Pass option use_label_encoder=False when constructing XGBClassifier object; and 2) Encode your labels (y) as integers starting with 0, i.e. 0, 1, 2, ..., [num_class - 1].\n",
      "  warnings.warn(label_encoder_deprecation_msg, UserWarning)\n",
      "/home/rcarvajal/.miniforge3/envs/test_pycaret/lib/python3.8/site-packages/xgboost/data.py:262: FutureWarning: pandas.Int64Index is deprecated and will be removed from pandas in a future version. Use pandas.Index with the appropriate dtype instead.\n",
      "  elif isinstance(data.columns, (pd.Int64Index, pd.RangeIndex)):\n",
      "/home/rcarvajal/.miniforge3/envs/test_pycaret/lib/python3.8/site-packages/sklearn/utils/deprecation.py:101: FutureWarning: The outputs_2d_ attribute is deprecated in version 0.22 and will be removed in version 0.24. It is equivalent to n_outputs_ > 1.\n",
      "  warnings.warn(msg, category=FutureWarning)\n",
      "/home/rcarvajal/.miniforge3/envs/test_pycaret/lib/python3.8/site-packages/sklearn/metrics/_classification.py:1221: UndefinedMetricWarning: Precision is ill-defined and being set to 0.0 due to no predicted samples. Use `zero_division` parameter to control this behavior.\n",
      "  _warn_prf(average, modifier, msg_start, len(result))\n",
      "/home/rcarvajal/.miniforge3/envs/test_pycaret/lib/python3.8/site-packages/sklearn/metrics/_classification.py:846: RuntimeWarning: invalid value encountered in double_scalars\n",
      "  mcc = cov_ytyp / np.sqrt(cov_ytyt * cov_ypyp)\n",
      "/home/rcarvajal/.miniforge3/envs/test_pycaret/lib/python3.8/site-packages/sklearn/model_selection/_validation.py:548: FitFailedWarning: Estimator fit failed. The score on this train-test partition for these parameters will be set to 0.000000. Details: \n",
      "Traceback (most recent call last):\n",
      "  File \"/home/rcarvajal/.miniforge3/envs/test_pycaret/lib/python3.8/site-packages/sklearn/model_selection/_validation.py\", line 531, in _fit_and_score\n",
      "    estimator.fit(X_train, y_train, **fit_params)\n",
      "  File \"/home/rcarvajal/.miniforge3/envs/test_pycaret/lib/python3.8/site-packages/pycaret/internal/pipeline.py\", line 118, in fit\n",
      "    result = super().fit(X, y=y, **fit_kwargs)\n",
      "  File \"/home/rcarvajal/.miniforge3/envs/test_pycaret/lib/python3.8/site-packages/imblearn/pipeline.py\", line 281, in fit\n",
      "    self._final_estimator.fit(Xt, yt, **fit_params)\n",
      "  File \"/home/rcarvajal/.miniforge3/envs/test_pycaret/lib/python3.8/site-packages/sklearn/calibration.py\", line 155, in fit\n",
      "    calibrated_classifier.fit(X, y, sample_weight)\n",
      "  File \"/home/rcarvajal/.miniforge3/envs/test_pycaret/lib/python3.8/site-packages/sklearn/calibration.py\", line 334, in fit\n",
      "    df, idx_pos_class = self._preproc(X)\n",
      "  File \"/home/rcarvajal/.miniforge3/envs/test_pycaret/lib/python3.8/site-packages/sklearn/calibration.py\", line 297, in _preproc\n",
      "    raise RuntimeError('classifier has no decision_function or '\n",
      "RuntimeError: classifier has no decision_function or predict_proba method.\n",
      "\n",
      "  warnings.warn(\"Estimator fit failed. The score on this train-test\"\n",
      "/home/rcarvajal/.miniforge3/envs/test_pycaret/lib/python3.8/site-packages/sklearn/utils/deprecation.py:101: FutureWarning: Attribute average_coef_ was deprecated in version 0.23 and will be removed in 0.25.\n",
      "  warnings.warn(msg, category=FutureWarning)\n",
      "/home/rcarvajal/.miniforge3/envs/test_pycaret/lib/python3.8/site-packages/sklearn/utils/deprecation.py:101: FutureWarning: Attribute average_intercept_ was deprecated in version 0.23 and will be removed in 0.25.\n",
      "  warnings.warn(msg, category=FutureWarning)\n",
      "/home/rcarvajal/.miniforge3/envs/test_pycaret/lib/python3.8/site-packages/sklearn/utils/deprecation.py:101: FutureWarning: The outputs_2d_ attribute is deprecated in version 0.22 and will be removed in version 0.24. It is equivalent to n_outputs_ > 1.\n",
      "  warnings.warn(msg, category=FutureWarning)\n",
      "/home/rcarvajal/.miniforge3/envs/test_pycaret/lib/python3.8/site-packages/sklearn/metrics/_classification.py:1221: UndefinedMetricWarning: Precision is ill-defined and being set to 0.0 due to no predicted samples. Use `zero_division` parameter to control this behavior.\n",
      "  _warn_prf(average, modifier, msg_start, len(result))\n",
      "/home/rcarvajal/.miniforge3/envs/test_pycaret/lib/python3.8/site-packages/sklearn/metrics/_classification.py:846: RuntimeWarning: invalid value encountered in double_scalars\n",
      "  mcc = cov_ytyp / np.sqrt(cov_ytyt * cov_ypyp)\n",
      "/home/rcarvajal/.miniforge3/envs/test_pycaret/lib/python3.8/site-packages/sklearn/model_selection/_validation.py:548: FitFailedWarning: Estimator fit failed. The score on this train-test partition for these parameters will be set to 0.000000. Details: \n",
      "Traceback (most recent call last):\n",
      "  File \"/home/rcarvajal/.miniforge3/envs/test_pycaret/lib/python3.8/site-packages/sklearn/model_selection/_validation.py\", line 531, in _fit_and_score\n",
      "    estimator.fit(X_train, y_train, **fit_params)\n",
      "  File \"/home/rcarvajal/.miniforge3/envs/test_pycaret/lib/python3.8/site-packages/pycaret/internal/pipeline.py\", line 118, in fit\n",
      "    result = super().fit(X, y=y, **fit_kwargs)\n",
      "  File \"/home/rcarvajal/.miniforge3/envs/test_pycaret/lib/python3.8/site-packages/imblearn/pipeline.py\", line 281, in fit\n",
      "    self._final_estimator.fit(Xt, yt, **fit_params)\n",
      "  File \"/home/rcarvajal/.miniforge3/envs/test_pycaret/lib/python3.8/site-packages/sklearn/calibration.py\", line 155, in fit\n",
      "    calibrated_classifier.fit(X, y, sample_weight)\n",
      "  File \"/home/rcarvajal/.miniforge3/envs/test_pycaret/lib/python3.8/site-packages/sklearn/calibration.py\", line 334, in fit\n",
      "    df, idx_pos_class = self._preproc(X)\n",
      "  File \"/home/rcarvajal/.miniforge3/envs/test_pycaret/lib/python3.8/site-packages/sklearn/calibration.py\", line 297, in _preproc\n",
      "    raise RuntimeError('classifier has no decision_function or '\n",
      "RuntimeError: classifier has no decision_function or predict_proba method.\n",
      "\n",
      "  warnings.warn(\"Estimator fit failed. The score on this train-test\"\n",
      "/home/rcarvajal/.miniforge3/envs/test_pycaret/lib/python3.8/site-packages/sklearn/model_selection/_validation.py:548: FitFailedWarning: Estimator fit failed. The score on this train-test partition for these parameters will be set to 0.000000. Details: \n",
      "Traceback (most recent call last):\n",
      "  File \"/home/rcarvajal/.miniforge3/envs/test_pycaret/lib/python3.8/site-packages/sklearn/model_selection/_validation.py\", line 531, in _fit_and_score\n",
      "    estimator.fit(X_train, y_train, **fit_params)\n",
      "  File \"/home/rcarvajal/.miniforge3/envs/test_pycaret/lib/python3.8/site-packages/pycaret/internal/pipeline.py\", line 118, in fit\n",
      "    result = super().fit(X, y=y, **fit_kwargs)\n",
      "  File \"/home/rcarvajal/.miniforge3/envs/test_pycaret/lib/python3.8/site-packages/imblearn/pipeline.py\", line 281, in fit\n",
      "    self._final_estimator.fit(Xt, yt, **fit_params)\n",
      "  File \"/home/rcarvajal/.miniforge3/envs/test_pycaret/lib/python3.8/site-packages/sklearn/calibration.py\", line 155, in fit\n",
      "    calibrated_classifier.fit(X, y, sample_weight)\n",
      "  File \"/home/rcarvajal/.miniforge3/envs/test_pycaret/lib/python3.8/site-packages/sklearn/calibration.py\", line 334, in fit\n",
      "    df, idx_pos_class = self._preproc(X)\n",
      "  File \"/home/rcarvajal/.miniforge3/envs/test_pycaret/lib/python3.8/site-packages/sklearn/calibration.py\", line 297, in _preproc\n",
      "    raise RuntimeError('classifier has no decision_function or '\n",
      "RuntimeError: classifier has no decision_function or predict_proba method.\n",
      "\n",
      "  warnings.warn(\"Estimator fit failed. The score on this train-test\"\n",
      "/home/rcarvajal/.miniforge3/envs/test_pycaret/lib/python3.8/site-packages/sklearn/utils/deprecation.py:101: FutureWarning: Attribute standard_intercept_ was deprecated in version 0.23 and will be removed in 0.25.\n",
      "  warnings.warn(msg, category=FutureWarning)\n",
      "/home/rcarvajal/.miniforge3/envs/test_pycaret/lib/python3.8/site-packages/sklearn/utils/deprecation.py:101: FutureWarning: Attribute average_coef_ was deprecated in version 0.23 and will be removed in 0.25.\n",
      "  warnings.warn(msg, category=FutureWarning)\n",
      "/home/rcarvajal/.miniforge3/envs/test_pycaret/lib/python3.8/site-packages/sklearn/utils/deprecation.py:101: FutureWarning: Attribute average_intercept_ was deprecated in version 0.23 and will be removed in 0.25.\n",
      "  warnings.warn(msg, category=FutureWarning)\n",
      "/home/rcarvajal/.miniforge3/envs/test_pycaret/lib/python3.8/site-packages/xgboost/sklearn.py:1224: UserWarning: The use of label encoder in XGBClassifier is deprecated and will be removed in a future release. To remove this warning, do the following: 1) Pass option use_label_encoder=False when constructing XGBClassifier object; and 2) Encode your labels (y) as integers starting with 0, i.e. 0, 1, 2, ..., [num_class - 1].\n",
      "  warnings.warn(label_encoder_deprecation_msg, UserWarning)\n",
      "/home/rcarvajal/.miniforge3/envs/test_pycaret/lib/python3.8/site-packages/xgboost/data.py:262: FutureWarning: pandas.Int64Index is deprecated and will be removed from pandas in a future version. Use pandas.Index with the appropriate dtype instead.\n",
      "  elif isinstance(data.columns, (pd.Int64Index, pd.RangeIndex)):\n",
      "/home/rcarvajal/.miniforge3/envs/test_pycaret/lib/python3.8/site-packages/sklearn/model_selection/_validation.py:548: FitFailedWarning: Estimator fit failed. The score on this train-test partition for these parameters will be set to 0.000000. Details: \n",
      "Traceback (most recent call last):\n",
      "  File \"/home/rcarvajal/.miniforge3/envs/test_pycaret/lib/python3.8/site-packages/sklearn/model_selection/_validation.py\", line 531, in _fit_and_score\n",
      "    estimator.fit(X_train, y_train, **fit_params)\n",
      "  File \"/home/rcarvajal/.miniforge3/envs/test_pycaret/lib/python3.8/site-packages/pycaret/internal/pipeline.py\", line 118, in fit\n",
      "    result = super().fit(X, y=y, **fit_kwargs)\n",
      "  File \"/home/rcarvajal/.miniforge3/envs/test_pycaret/lib/python3.8/site-packages/imblearn/pipeline.py\", line 281, in fit\n",
      "    self._final_estimator.fit(Xt, yt, **fit_params)\n",
      "  File \"/home/rcarvajal/.miniforge3/envs/test_pycaret/lib/python3.8/site-packages/sklearn/calibration.py\", line 155, in fit\n",
      "    calibrated_classifier.fit(X, y, sample_weight)\n",
      "  File \"/home/rcarvajal/.miniforge3/envs/test_pycaret/lib/python3.8/site-packages/sklearn/calibration.py\", line 334, in fit\n",
      "    df, idx_pos_class = self._preproc(X)\n",
      "  File \"/home/rcarvajal/.miniforge3/envs/test_pycaret/lib/python3.8/site-packages/sklearn/calibration.py\", line 297, in _preproc\n",
      "    raise RuntimeError('classifier has no decision_function or '\n",
      "RuntimeError: classifier has no decision_function or predict_proba method.\n",
      "\n",
      "  warnings.warn(\"Estimator fit failed. The score on this train-test\"\n",
      "/home/rcarvajal/.miniforge3/envs/test_pycaret/lib/python3.8/site-packages/xgboost/sklearn.py:1224: UserWarning: The use of label encoder in XGBClassifier is deprecated and will be removed in a future release. To remove this warning, do the following: 1) Pass option use_label_encoder=False when constructing XGBClassifier object; and 2) Encode your labels (y) as integers starting with 0, i.e. 0, 1, 2, ..., [num_class - 1].\n",
      "  warnings.warn(label_encoder_deprecation_msg, UserWarning)\n",
      "/home/rcarvajal/.miniforge3/envs/test_pycaret/lib/python3.8/site-packages/xgboost/data.py:262: FutureWarning: pandas.Int64Index is deprecated and will be removed from pandas in a future version. Use pandas.Index with the appropriate dtype instead.\n",
      "  elif isinstance(data.columns, (pd.Int64Index, pd.RangeIndex)):\n",
      "/home/rcarvajal/.miniforge3/envs/test_pycaret/lib/python3.8/site-packages/xgboost/sklearn.py:1224: UserWarning: The use of label encoder in XGBClassifier is deprecated and will be removed in a future release. To remove this warning, do the following: 1) Pass option use_label_encoder=False when constructing XGBClassifier object; and 2) Encode your labels (y) as integers starting with 0, i.e. 0, 1, 2, ..., [num_class - 1].\n",
      "  warnings.warn(label_encoder_deprecation_msg, UserWarning)\n",
      "/home/rcarvajal/.miniforge3/envs/test_pycaret/lib/python3.8/site-packages/xgboost/data.py:262: FutureWarning: pandas.Int64Index is deprecated and will be removed from pandas in a future version. Use pandas.Index with the appropriate dtype instead.\n",
      "  elif isinstance(data.columns, (pd.Int64Index, pd.RangeIndex)):\n",
      "/home/rcarvajal/.miniforge3/envs/test_pycaret/lib/python3.8/site-packages/sklearn/utils/deprecation.py:101: FutureWarning: The outputs_2d_ attribute is deprecated in version 0.22 and will be removed in version 0.24. It is equivalent to n_outputs_ > 1.\n",
      "  warnings.warn(msg, category=FutureWarning)\n",
      "/home/rcarvajal/.miniforge3/envs/test_pycaret/lib/python3.8/site-packages/sklearn/metrics/_classification.py:1221: UndefinedMetricWarning: Precision is ill-defined and being set to 0.0 due to no predicted samples. Use `zero_division` parameter to control this behavior.\n",
      "  _warn_prf(average, modifier, msg_start, len(result))\n",
      "/home/rcarvajal/.miniforge3/envs/test_pycaret/lib/python3.8/site-packages/sklearn/metrics/_classification.py:846: RuntimeWarning: invalid value encountered in double_scalars\n",
      "  mcc = cov_ytyp / np.sqrt(cov_ytyt * cov_ypyp)\n",
      "/home/rcarvajal/.miniforge3/envs/test_pycaret/lib/python3.8/site-packages/sklearn/model_selection/_validation.py:548: FitFailedWarning: Estimator fit failed. The score on this train-test partition for these parameters will be set to 0.000000. Details: \n",
      "Traceback (most recent call last):\n",
      "  File \"/home/rcarvajal/.miniforge3/envs/test_pycaret/lib/python3.8/site-packages/sklearn/model_selection/_validation.py\", line 531, in _fit_and_score\n",
      "    estimator.fit(X_train, y_train, **fit_params)\n",
      "  File \"/home/rcarvajal/.miniforge3/envs/test_pycaret/lib/python3.8/site-packages/pycaret/internal/pipeline.py\", line 118, in fit\n",
      "    result = super().fit(X, y=y, **fit_kwargs)\n",
      "  File \"/home/rcarvajal/.miniforge3/envs/test_pycaret/lib/python3.8/site-packages/imblearn/pipeline.py\", line 281, in fit\n",
      "    self._final_estimator.fit(Xt, yt, **fit_params)\n",
      "  File \"/home/rcarvajal/.miniforge3/envs/test_pycaret/lib/python3.8/site-packages/sklearn/calibration.py\", line 155, in fit\n",
      "    calibrated_classifier.fit(X, y, sample_weight)\n",
      "  File \"/home/rcarvajal/.miniforge3/envs/test_pycaret/lib/python3.8/site-packages/sklearn/calibration.py\", line 334, in fit\n",
      "    df, idx_pos_class = self._preproc(X)\n",
      "  File \"/home/rcarvajal/.miniforge3/envs/test_pycaret/lib/python3.8/site-packages/sklearn/calibration.py\", line 297, in _preproc\n",
      "    raise RuntimeError('classifier has no decision_function or '\n",
      "RuntimeError: classifier has no decision_function or predict_proba method.\n",
      "\n",
      "  warnings.warn(\"Estimator fit failed. The score on this train-test\"\n",
      "/home/rcarvajal/.miniforge3/envs/test_pycaret/lib/python3.8/site-packages/sklearn/model_selection/_validation.py:548: FitFailedWarning: Estimator fit failed. The score on this train-test partition for these parameters will be set to 0.000000. Details: \n",
      "Traceback (most recent call last):\n",
      "  File \"/home/rcarvajal/.miniforge3/envs/test_pycaret/lib/python3.8/site-packages/sklearn/model_selection/_validation.py\", line 531, in _fit_and_score\n",
      "    estimator.fit(X_train, y_train, **fit_params)\n",
      "  File \"/home/rcarvajal/.miniforge3/envs/test_pycaret/lib/python3.8/site-packages/pycaret/internal/pipeline.py\", line 118, in fit\n",
      "    result = super().fit(X, y=y, **fit_kwargs)\n",
      "  File \"/home/rcarvajal/.miniforge3/envs/test_pycaret/lib/python3.8/site-packages/imblearn/pipeline.py\", line 281, in fit\n",
      "    self._final_estimator.fit(Xt, yt, **fit_params)\n",
      "  File \"/home/rcarvajal/.miniforge3/envs/test_pycaret/lib/python3.8/site-packages/sklearn/calibration.py\", line 155, in fit\n",
      "    calibrated_classifier.fit(X, y, sample_weight)\n",
      "  File \"/home/rcarvajal/.miniforge3/envs/test_pycaret/lib/python3.8/site-packages/sklearn/calibration.py\", line 334, in fit\n",
      "    df, idx_pos_class = self._preproc(X)\n",
      "  File \"/home/rcarvajal/.miniforge3/envs/test_pycaret/lib/python3.8/site-packages/sklearn/calibration.py\", line 297, in _preproc\n",
      "    raise RuntimeError('classifier has no decision_function or '\n",
      "RuntimeError: classifier has no decision_function or predict_proba method.\n",
      "\n",
      "  warnings.warn(\"Estimator fit failed. The score on this train-test\"\n",
      "/home/rcarvajal/.miniforge3/envs/test_pycaret/lib/python3.8/site-packages/sklearn/model_selection/_validation.py:548: FitFailedWarning: Estimator fit failed. The score on this train-test partition for these parameters will be set to 0.000000. Details: \n",
      "Traceback (most recent call last):\n",
      "  File \"/home/rcarvajal/.miniforge3/envs/test_pycaret/lib/python3.8/site-packages/sklearn/model_selection/_validation.py\", line 531, in _fit_and_score\n",
      "    estimator.fit(X_train, y_train, **fit_params)\n",
      "  File \"/home/rcarvajal/.miniforge3/envs/test_pycaret/lib/python3.8/site-packages/pycaret/internal/pipeline.py\", line 118, in fit\n",
      "    result = super().fit(X, y=y, **fit_kwargs)\n",
      "  File \"/home/rcarvajal/.miniforge3/envs/test_pycaret/lib/python3.8/site-packages/imblearn/pipeline.py\", line 281, in fit\n",
      "    self._final_estimator.fit(Xt, yt, **fit_params)\n",
      "  File \"/home/rcarvajal/.miniforge3/envs/test_pycaret/lib/python3.8/site-packages/sklearn/calibration.py\", line 155, in fit\n",
      "    calibrated_classifier.fit(X, y, sample_weight)\n",
      "  File \"/home/rcarvajal/.miniforge3/envs/test_pycaret/lib/python3.8/site-packages/sklearn/calibration.py\", line 334, in fit\n",
      "    df, idx_pos_class = self._preproc(X)\n",
      "  File \"/home/rcarvajal/.miniforge3/envs/test_pycaret/lib/python3.8/site-packages/sklearn/calibration.py\", line 297, in _preproc\n",
      "    raise RuntimeError('classifier has no decision_function or '\n",
      "RuntimeError: classifier has no decision_function or predict_proba method.\n",
      "\n",
      "  warnings.warn(\"Estimator fit failed. The score on this train-test\"\n",
      "/home/rcarvajal/.miniforge3/envs/test_pycaret/lib/python3.8/site-packages/sklearn/model_selection/_validation.py:548: FitFailedWarning: Estimator fit failed. The score on this train-test partition for these parameters will be set to 0.000000. Details: \n",
      "Traceback (most recent call last):\n",
      "  File \"/home/rcarvajal/.miniforge3/envs/test_pycaret/lib/python3.8/site-packages/sklearn/model_selection/_validation.py\", line 531, in _fit_and_score\n",
      "    estimator.fit(X_train, y_train, **fit_params)\n",
      "  File \"/home/rcarvajal/.miniforge3/envs/test_pycaret/lib/python3.8/site-packages/pycaret/internal/pipeline.py\", line 118, in fit\n",
      "    result = super().fit(X, y=y, **fit_kwargs)\n",
      "  File \"/home/rcarvajal/.miniforge3/envs/test_pycaret/lib/python3.8/site-packages/imblearn/pipeline.py\", line 281, in fit\n",
      "    self._final_estimator.fit(Xt, yt, **fit_params)\n",
      "  File \"/home/rcarvajal/.miniforge3/envs/test_pycaret/lib/python3.8/site-packages/sklearn/calibration.py\", line 155, in fit\n",
      "    calibrated_classifier.fit(X, y, sample_weight)\n",
      "  File \"/home/rcarvajal/.miniforge3/envs/test_pycaret/lib/python3.8/site-packages/sklearn/calibration.py\", line 334, in fit\n",
      "    df, idx_pos_class = self._preproc(X)\n",
      "  File \"/home/rcarvajal/.miniforge3/envs/test_pycaret/lib/python3.8/site-packages/sklearn/calibration.py\", line 297, in _preproc\n",
      "    raise RuntimeError('classifier has no decision_function or '\n",
      "RuntimeError: classifier has no decision_function or predict_proba method.\n",
      "\n",
      "  warnings.warn(\"Estimator fit failed. The score on this train-test\"\n",
      "/home/rcarvajal/.miniforge3/envs/test_pycaret/lib/python3.8/site-packages/sklearn/model_selection/_validation.py:548: FitFailedWarning: Estimator fit failed. The score on this train-test partition for these parameters will be set to 0.000000. Details: \n",
      "Traceback (most recent call last):\n",
      "  File \"/home/rcarvajal/.miniforge3/envs/test_pycaret/lib/python3.8/site-packages/sklearn/model_selection/_validation.py\", line 531, in _fit_and_score\n",
      "    estimator.fit(X_train, y_train, **fit_params)\n",
      "  File \"/home/rcarvajal/.miniforge3/envs/test_pycaret/lib/python3.8/site-packages/pycaret/internal/pipeline.py\", line 118, in fit\n",
      "    result = super().fit(X, y=y, **fit_kwargs)\n",
      "  File \"/home/rcarvajal/.miniforge3/envs/test_pycaret/lib/python3.8/site-packages/imblearn/pipeline.py\", line 281, in fit\n",
      "    self._final_estimator.fit(Xt, yt, **fit_params)\n",
      "  File \"/home/rcarvajal/.miniforge3/envs/test_pycaret/lib/python3.8/site-packages/sklearn/calibration.py\", line 155, in fit\n",
      "    calibrated_classifier.fit(X, y, sample_weight)\n",
      "  File \"/home/rcarvajal/.miniforge3/envs/test_pycaret/lib/python3.8/site-packages/sklearn/calibration.py\", line 334, in fit\n",
      "    df, idx_pos_class = self._preproc(X)\n",
      "  File \"/home/rcarvajal/.miniforge3/envs/test_pycaret/lib/python3.8/site-packages/sklearn/calibration.py\", line 297, in _preproc\n",
      "    raise RuntimeError('classifier has no decision_function or '\n",
      "RuntimeError: classifier has no decision_function or predict_proba method.\n",
      "\n",
      "  warnings.warn(\"Estimator fit failed. The score on this train-test\"\n",
      "/home/rcarvajal/.miniforge3/envs/test_pycaret/lib/python3.8/site-packages/sklearn/model_selection/_validation.py:548: FitFailedWarning: Estimator fit failed. The score on this train-test partition for these parameters will be set to 0.000000. Details: \n",
      "Traceback (most recent call last):\n",
      "  File \"/home/rcarvajal/.miniforge3/envs/test_pycaret/lib/python3.8/site-packages/sklearn/model_selection/_validation.py\", line 531, in _fit_and_score\n",
      "    estimator.fit(X_train, y_train, **fit_params)\n",
      "  File \"/home/rcarvajal/.miniforge3/envs/test_pycaret/lib/python3.8/site-packages/pycaret/internal/pipeline.py\", line 118, in fit\n",
      "    result = super().fit(X, y=y, **fit_kwargs)\n",
      "  File \"/home/rcarvajal/.miniforge3/envs/test_pycaret/lib/python3.8/site-packages/imblearn/pipeline.py\", line 281, in fit\n",
      "    self._final_estimator.fit(Xt, yt, **fit_params)\n",
      "  File \"/home/rcarvajal/.miniforge3/envs/test_pycaret/lib/python3.8/site-packages/sklearn/calibration.py\", line 155, in fit\n",
      "    calibrated_classifier.fit(X, y, sample_weight)\n",
      "  File \"/home/rcarvajal/.miniforge3/envs/test_pycaret/lib/python3.8/site-packages/sklearn/calibration.py\", line 334, in fit\n",
      "    df, idx_pos_class = self._preproc(X)\n",
      "  File \"/home/rcarvajal/.miniforge3/envs/test_pycaret/lib/python3.8/site-packages/sklearn/calibration.py\", line 297, in _preproc\n",
      "    raise RuntimeError('classifier has no decision_function or '\n",
      "RuntimeError: classifier has no decision_function or predict_proba method.\n",
      "\n",
      "  warnings.warn(\"Estimator fit failed. The score on this train-test\"\n",
      "/home/rcarvajal/.miniforge3/envs/test_pycaret/lib/python3.8/site-packages/xgboost/data.py:262: FutureWarning: pandas.Int64Index is deprecated and will be removed from pandas in a future version. Use pandas.Index with the appropriate dtype instead.\n",
      "  elif isinstance(data.columns, (pd.Int64Index, pd.RangeIndex)):\n",
      "/home/rcarvajal/.miniforge3/envs/test_pycaret/lib/python3.8/site-packages/sklearn/utils/deprecation.py:101: FutureWarning: Attribute standard_coef_ was deprecated in version 0.23 and will be removed in 0.25.\n",
      "  warnings.warn(msg, category=FutureWarning)\n",
      "/home/rcarvajal/.miniforge3/envs/test_pycaret/lib/python3.8/site-packages/sklearn/utils/deprecation.py:101: FutureWarning: Attribute standard_intercept_ was deprecated in version 0.23 and will be removed in 0.25.\n",
      "  warnings.warn(msg, category=FutureWarning)\n",
      "/home/rcarvajal/.miniforge3/envs/test_pycaret/lib/python3.8/site-packages/sklearn/utils/deprecation.py:101: FutureWarning: Attribute average_coef_ was deprecated in version 0.23 and will be removed in 0.25.\n",
      "  warnings.warn(msg, category=FutureWarning)\n",
      "/home/rcarvajal/.miniforge3/envs/test_pycaret/lib/python3.8/site-packages/sklearn/utils/deprecation.py:101: FutureWarning: Attribute average_intercept_ was deprecated in version 0.23 and will be removed in 0.25.\n",
      "  warnings.warn(msg, category=FutureWarning)\n",
      "/home/rcarvajal/.miniforge3/envs/test_pycaret/lib/python3.8/site-packages/xgboost/sklearn.py:1224: UserWarning: The use of label encoder in XGBClassifier is deprecated and will be removed in a future release. To remove this warning, do the following: 1) Pass option use_label_encoder=False when constructing XGBClassifier object; and 2) Encode your labels (y) as integers starting with 0, i.e. 0, 1, 2, ..., [num_class - 1].\n",
      "  warnings.warn(label_encoder_deprecation_msg, UserWarning)\n",
      "/home/rcarvajal/.miniforge3/envs/test_pycaret/lib/python3.8/site-packages/xgboost/data.py:262: FutureWarning: pandas.Int64Index is deprecated and will be removed from pandas in a future version. Use pandas.Index with the appropriate dtype instead.\n",
      "  elif isinstance(data.columns, (pd.Int64Index, pd.RangeIndex)):\n",
      "/home/rcarvajal/.miniforge3/envs/test_pycaret/lib/python3.8/site-packages/sklearn/model_selection/_validation.py:548: FitFailedWarning: Estimator fit failed. The score on this train-test partition for these parameters will be set to 0.000000. Details: \n",
      "Traceback (most recent call last):\n",
      "  File \"/home/rcarvajal/.miniforge3/envs/test_pycaret/lib/python3.8/site-packages/sklearn/model_selection/_validation.py\", line 531, in _fit_and_score\n",
      "    estimator.fit(X_train, y_train, **fit_params)\n",
      "  File \"/home/rcarvajal/.miniforge3/envs/test_pycaret/lib/python3.8/site-packages/pycaret/internal/pipeline.py\", line 118, in fit\n",
      "    result = super().fit(X, y=y, **fit_kwargs)\n",
      "  File \"/home/rcarvajal/.miniforge3/envs/test_pycaret/lib/python3.8/site-packages/imblearn/pipeline.py\", line 281, in fit\n",
      "    self._final_estimator.fit(Xt, yt, **fit_params)\n",
      "  File \"/home/rcarvajal/.miniforge3/envs/test_pycaret/lib/python3.8/site-packages/sklearn/calibration.py\", line 155, in fit\n",
      "    calibrated_classifier.fit(X, y, sample_weight)\n",
      "  File \"/home/rcarvajal/.miniforge3/envs/test_pycaret/lib/python3.8/site-packages/sklearn/calibration.py\", line 334, in fit\n",
      "    df, idx_pos_class = self._preproc(X)\n",
      "  File \"/home/rcarvajal/.miniforge3/envs/test_pycaret/lib/python3.8/site-packages/sklearn/calibration.py\", line 297, in _preproc\n",
      "    raise RuntimeError('classifier has no decision_function or '\n",
      "RuntimeError: classifier has no decision_function or predict_proba method.\n",
      "\n",
      "  warnings.warn(\"Estimator fit failed. The score on this train-test\"\n",
      "/home/rcarvajal/.miniforge3/envs/test_pycaret/lib/python3.8/site-packages/xgboost/data.py:262: FutureWarning: pandas.Int64Index is deprecated and will be removed from pandas in a future version. Use pandas.Index with the appropriate dtype instead.\n",
      "  elif isinstance(data.columns, (pd.Int64Index, pd.RangeIndex)):\n",
      "/home/rcarvajal/.miniforge3/envs/test_pycaret/lib/python3.8/site-packages/sklearn/utils/deprecation.py:101: FutureWarning: Attribute standard_coef_ was deprecated in version 0.23 and will be removed in 0.25.\n",
      "  warnings.warn(msg, category=FutureWarning)\n",
      "/home/rcarvajal/.miniforge3/envs/test_pycaret/lib/python3.8/site-packages/sklearn/utils/deprecation.py:101: FutureWarning: Attribute standard_intercept_ was deprecated in version 0.23 and will be removed in 0.25.\n",
      "  warnings.warn(msg, category=FutureWarning)\n",
      "/home/rcarvajal/.miniforge3/envs/test_pycaret/lib/python3.8/site-packages/sklearn/utils/deprecation.py:101: FutureWarning: Attribute average_coef_ was deprecated in version 0.23 and will be removed in 0.25.\n",
      "  warnings.warn(msg, category=FutureWarning)\n",
      "/home/rcarvajal/.miniforge3/envs/test_pycaret/lib/python3.8/site-packages/sklearn/utils/deprecation.py:101: FutureWarning: Attribute average_intercept_ was deprecated in version 0.23 and will be removed in 0.25.\n",
      "  warnings.warn(msg, category=FutureWarning)\n",
      "/home/rcarvajal/.miniforge3/envs/test_pycaret/lib/python3.8/site-packages/xgboost/sklearn.py:1224: UserWarning: The use of label encoder in XGBClassifier is deprecated and will be removed in a future release. To remove this warning, do the following: 1) Pass option use_label_encoder=False when constructing XGBClassifier object; and 2) Encode your labels (y) as integers starting with 0, i.e. 0, 1, 2, ..., [num_class - 1].\n",
      "  warnings.warn(label_encoder_deprecation_msg, UserWarning)\n",
      "/home/rcarvajal/.miniforge3/envs/test_pycaret/lib/python3.8/site-packages/xgboost/data.py:262: FutureWarning: pandas.Int64Index is deprecated and will be removed from pandas in a future version. Use pandas.Index with the appropriate dtype instead.\n",
      "  elif isinstance(data.columns, (pd.Int64Index, pd.RangeIndex)):\n",
      "/home/rcarvajal/.miniforge3/envs/test_pycaret/lib/python3.8/site-packages/sklearn/utils/deprecation.py:101: FutureWarning: The outputs_2d_ attribute is deprecated in version 0.22 and will be removed in version 0.24. It is equivalent to n_outputs_ > 1.\n",
      "  warnings.warn(msg, category=FutureWarning)\n",
      "/home/rcarvajal/.miniforge3/envs/test_pycaret/lib/python3.8/site-packages/sklearn/metrics/_classification.py:1221: UndefinedMetricWarning: Precision is ill-defined and being set to 0.0 due to no predicted samples. Use `zero_division` parameter to control this behavior.\n",
      "  _warn_prf(average, modifier, msg_start, len(result))\n",
      "/home/rcarvajal/.miniforge3/envs/test_pycaret/lib/python3.8/site-packages/sklearn/metrics/_classification.py:846: RuntimeWarning: invalid value encountered in double_scalars\n",
      "  mcc = cov_ytyp / np.sqrt(cov_ytyt * cov_ypyp)\n",
      "/home/rcarvajal/.miniforge3/envs/test_pycaret/lib/python3.8/site-packages/sklearn/model_selection/_validation.py:548: FitFailedWarning: Estimator fit failed. The score on this train-test partition for these parameters will be set to 0.000000. Details: \n",
      "Traceback (most recent call last):\n",
      "  File \"/home/rcarvajal/.miniforge3/envs/test_pycaret/lib/python3.8/site-packages/sklearn/model_selection/_validation.py\", line 531, in _fit_and_score\n",
      "    estimator.fit(X_train, y_train, **fit_params)\n",
      "  File \"/home/rcarvajal/.miniforge3/envs/test_pycaret/lib/python3.8/site-packages/pycaret/internal/pipeline.py\", line 118, in fit\n",
      "    result = super().fit(X, y=y, **fit_kwargs)\n",
      "  File \"/home/rcarvajal/.miniforge3/envs/test_pycaret/lib/python3.8/site-packages/imblearn/pipeline.py\", line 281, in fit\n",
      "    self._final_estimator.fit(Xt, yt, **fit_params)\n",
      "  File \"/home/rcarvajal/.miniforge3/envs/test_pycaret/lib/python3.8/site-packages/sklearn/calibration.py\", line 155, in fit\n",
      "    calibrated_classifier.fit(X, y, sample_weight)\n",
      "  File \"/home/rcarvajal/.miniforge3/envs/test_pycaret/lib/python3.8/site-packages/sklearn/calibration.py\", line 334, in fit\n",
      "    df, idx_pos_class = self._preproc(X)\n",
      "  File \"/home/rcarvajal/.miniforge3/envs/test_pycaret/lib/python3.8/site-packages/sklearn/calibration.py\", line 297, in _preproc\n",
      "    raise RuntimeError('classifier has no decision_function or '\n",
      "RuntimeError: classifier has no decision_function or predict_proba method.\n",
      "\n",
      "  warnings.warn(\"Estimator fit failed. The score on this train-test\"\n",
      "/home/rcarvajal/.miniforge3/envs/test_pycaret/lib/python3.8/site-packages/xgboost/compat.py:36: FutureWarning: pandas.Int64Index is deprecated and will be removed from pandas in a future version. Use pandas.Index with the appropriate dtype instead.\n",
      "  from pandas import MultiIndex, Int64Index\n",
      "/home/rcarvajal/.miniforge3/envs/test_pycaret/lib/python3.8/site-packages/xgboost/sklearn.py:1224: UserWarning: The use of label encoder in XGBClassifier is deprecated and will be removed in a future release. To remove this warning, do the following: 1) Pass option use_label_encoder=False when constructing XGBClassifier object; and 2) Encode your labels (y) as integers starting with 0, i.e. 0, 1, 2, ..., [num_class - 1].\n",
      "  warnings.warn(label_encoder_deprecation_msg, UserWarning)\n",
      "/home/rcarvajal/.miniforge3/envs/test_pycaret/lib/python3.8/site-packages/xgboost/data.py:262: FutureWarning: pandas.Int64Index is deprecated and will be removed from pandas in a future version. Use pandas.Index with the appropriate dtype instead.\n",
      "  elif isinstance(data.columns, (pd.Int64Index, pd.RangeIndex)):\n",
      "/home/rcarvajal/.miniforge3/envs/test_pycaret/lib/python3.8/site-packages/sklearn/utils/deprecation.py:101: FutureWarning: The outputs_2d_ attribute is deprecated in version 0.22 and will be removed in version 0.24. It is equivalent to n_outputs_ > 1.\n",
      "  warnings.warn(msg, category=FutureWarning)\n",
      "/home/rcarvajal/.miniforge3/envs/test_pycaret/lib/python3.8/site-packages/sklearn/metrics/_classification.py:1221: UndefinedMetricWarning: Precision is ill-defined and being set to 0.0 due to no predicted samples. Use `zero_division` parameter to control this behavior.\n",
      "  _warn_prf(average, modifier, msg_start, len(result))\n",
      "/home/rcarvajal/.miniforge3/envs/test_pycaret/lib/python3.8/site-packages/sklearn/metrics/_classification.py:846: RuntimeWarning: invalid value encountered in double_scalars\n",
      "  mcc = cov_ytyp / np.sqrt(cov_ytyt * cov_ypyp)\n",
      "/home/rcarvajal/.miniforge3/envs/test_pycaret/lib/python3.8/site-packages/sklearn/utils/deprecation.py:101: FutureWarning: The outputs_2d_ attribute is deprecated in version 0.22 and will be removed in version 0.24. It is equivalent to n_outputs_ > 1.\n",
      "  warnings.warn(msg, category=FutureWarning)\n",
      "/home/rcarvajal/.miniforge3/envs/test_pycaret/lib/python3.8/site-packages/sklearn/metrics/_classification.py:1221: UndefinedMetricWarning: Precision is ill-defined and being set to 0.0 due to no predicted samples. Use `zero_division` parameter to control this behavior.\n",
      "  _warn_prf(average, modifier, msg_start, len(result))\n",
      "/home/rcarvajal/.miniforge3/envs/test_pycaret/lib/python3.8/site-packages/sklearn/metrics/_classification.py:846: RuntimeWarning: invalid value encountered in double_scalars\n",
      "  mcc = cov_ytyp / np.sqrt(cov_ytyt * cov_ypyp)\n",
      "/home/rcarvajal/.miniforge3/envs/test_pycaret/lib/python3.8/site-packages/sklearn/model_selection/_validation.py:548: FitFailedWarning: Estimator fit failed. The score on this train-test partition for these parameters will be set to 0.000000. Details: \n",
      "Traceback (most recent call last):\n",
      "  File \"/home/rcarvajal/.miniforge3/envs/test_pycaret/lib/python3.8/site-packages/sklearn/model_selection/_validation.py\", line 531, in _fit_and_score\n",
      "    estimator.fit(X_train, y_train, **fit_params)\n",
      "  File \"/home/rcarvajal/.miniforge3/envs/test_pycaret/lib/python3.8/site-packages/pycaret/internal/pipeline.py\", line 118, in fit\n",
      "    result = super().fit(X, y=y, **fit_kwargs)\n",
      "  File \"/home/rcarvajal/.miniforge3/envs/test_pycaret/lib/python3.8/site-packages/imblearn/pipeline.py\", line 281, in fit\n",
      "    self._final_estimator.fit(Xt, yt, **fit_params)\n",
      "  File \"/home/rcarvajal/.miniforge3/envs/test_pycaret/lib/python3.8/site-packages/sklearn/calibration.py\", line 155, in fit\n",
      "    calibrated_classifier.fit(X, y, sample_weight)\n",
      "  File \"/home/rcarvajal/.miniforge3/envs/test_pycaret/lib/python3.8/site-packages/sklearn/calibration.py\", line 334, in fit\n",
      "    df, idx_pos_class = self._preproc(X)\n",
      "  File \"/home/rcarvajal/.miniforge3/envs/test_pycaret/lib/python3.8/site-packages/sklearn/calibration.py\", line 297, in _preproc\n",
      "    raise RuntimeError('classifier has no decision_function or '\n",
      "RuntimeError: classifier has no decision_function or predict_proba method.\n",
      "\n",
      "  warnings.warn(\"Estimator fit failed. The score on this train-test\"\n",
      "/home/rcarvajal/.miniforge3/envs/test_pycaret/lib/python3.8/site-packages/sklearn/model_selection/_validation.py:548: FitFailedWarning: Estimator fit failed. The score on this train-test partition for these parameters will be set to 0.000000. Details: \n",
      "Traceback (most recent call last):\n",
      "  File \"/home/rcarvajal/.miniforge3/envs/test_pycaret/lib/python3.8/site-packages/sklearn/model_selection/_validation.py\", line 531, in _fit_and_score\n",
      "    estimator.fit(X_train, y_train, **fit_params)\n",
      "  File \"/home/rcarvajal/.miniforge3/envs/test_pycaret/lib/python3.8/site-packages/pycaret/internal/pipeline.py\", line 118, in fit\n",
      "    result = super().fit(X, y=y, **fit_kwargs)\n",
      "  File \"/home/rcarvajal/.miniforge3/envs/test_pycaret/lib/python3.8/site-packages/imblearn/pipeline.py\", line 281, in fit\n",
      "    self._final_estimator.fit(Xt, yt, **fit_params)\n",
      "  File \"/home/rcarvajal/.miniforge3/envs/test_pycaret/lib/python3.8/site-packages/sklearn/calibration.py\", line 155, in fit\n",
      "    calibrated_classifier.fit(X, y, sample_weight)\n",
      "  File \"/home/rcarvajal/.miniforge3/envs/test_pycaret/lib/python3.8/site-packages/sklearn/calibration.py\", line 334, in fit\n",
      "    df, idx_pos_class = self._preproc(X)\n",
      "  File \"/home/rcarvajal/.miniforge3/envs/test_pycaret/lib/python3.8/site-packages/sklearn/calibration.py\", line 297, in _preproc\n",
      "    raise RuntimeError('classifier has no decision_function or '\n",
      "RuntimeError: classifier has no decision_function or predict_proba method.\n",
      "\n",
      "  warnings.warn(\"Estimator fit failed. The score on this train-test\"\n"
     ]
    }
   ],
   "source": [
    "print('Feature importances scaled to sum 100')\n",
    "coef_sorted_base_df_copy_sum = coef_sorted_base_df.copy()\n",
    "for key in coef_sorted_base_df_copy_sum.keys():\n",
    "    print(f'Calculating for {key}...')\n",
    "    coef_sorted_base_df_copy_sum[key].loc[:, 'Importance'] = coef_sorted_base_df[key].loc[:, 'Importance'] /\\\n",
    "                                                        coef_sorted_base_df[key].loc[:, 'Importance'].sum() * 100\n",
    "    # display(coef_sorted_base_df_copy_sum[key])\n",
    "coef_sorted_base_full_df = pd.concat([coef_sorted_base_df_copy_sum[key].reset_index(drop=True) for key in coef_sorted_base_df_copy_sum.keys()], axis=1)\n",
    "coef_sorted_base_full_df.columns = pd.MultiIndex.from_tuples(multicol_feat)\n",
    "with pd.option_context('display.float_format', '{:.4f}'.format):\n",
    "    display(coef_sorted_base_full_df)"
   ]
  },
  {
   "cell_type": "code",
   "execution_count": null,
   "id": "3dbe0f67",
   "metadata": {
    "jupyter": {
     "source_hidden": true
    },
    "tags": []
   },
   "outputs": [],
   "source": [
    "print('Feature importances scaled to sum 100')\n",
    "coef_sorted_meta_df_copy_sum = coef_sorted_meta_df.copy()\n",
    "coef_sorted_meta_df_copy_sum.loc[:, 'Importance'] = coef_sorted_meta_df.loc[:, 'Importance'] /\\\n",
    "                                                     coef_sorted_meta_df.loc[:, 'Importance'].sum() * 100\n",
    "print('Meta model')\n",
    "with pd.option_context('display.float_format', '{:.4e}'.format):\n",
    "    display(coef_sorted_meta_df_copy_sum)"
   ]
  },
  {
   "cell_type": "code",
   "execution_count": null,
   "id": "b0f8f285",
   "metadata": {
    "jupyter": {
     "source_hidden": true
    },
    "tags": []
   },
   "outputs": [],
   "source": [
    "print('Feature importances scaled to sum 100')\n",
    "try:\n",
    "    fig         = plt.figure(figsize=(7,10))\n",
    "    ax1         = fig.add_subplot(111)\n",
    "    n_top       = len(validation_df.columns)\n",
    "    features_df = get_feature_importances_df(final_AGN_clf, validation_df, n=n_top)\n",
    "    features    = features_df.loc[:, 'Feature'].to_list()\n",
    "    importances = features_df.loc[:, 'Importance'].to_list()\n",
    "    import_scal = importances / np.nansum(importances)\n",
    "    import_scal_colors = (importances - np.nanmin(importances)) / (np.nanmax(importances) - np.nanmin(importances))\n",
    "    # indices     = np.argsort(importances)[-n_top:] #only show most important features\n",
    "    # indices     = np.argsort(importances)\n",
    "    # ax1.set_title(f'{model_name} Feature Importances', size=14)\n",
    "    ax1.set_title('Feature Importances', size=14)\n",
    "    ax1.barh(range(len(importances)), import_scal * 100,\\\n",
    "             color=plt.get_cmap('bone', len(importances))(import_scal_colors), align='center', ec='k', lw=1.5)\n",
    "    # plt.yticks(range(len(importances)), [features[i] for i in importances])\n",
    "    plt.yticks(range(len(importances)), features)\n",
    "    ax1.set_xlabel('Relative Importance', size=14)\n",
    "    ax1.set_ylabel('Features', size=14)\n",
    "    ax1.tick_params(axis='both', which='major', labelsize=14)\n",
    "    ax1.tick_params(axis='y', which='major', rotation=30)\n",
    "    plt.setp(ax1.spines.values(), linewidth=2.5)\n",
    "    ax1.tick_params(which='both',top=True, right=False, direction='in')\n",
    "    # ax1.set_xscale('log')\n",
    "    # plt.show()\n",
    "    plt.tight_layout()\n",
    "    if save_plot_flag:\n",
    "        plt.savefig('plots/feat_imp_classification_AGN_galaxy_04.pdf', bbox_inches='tight')\n",
    "\n",
    "    print('-' * 20)\n",
    "    print('top features:')\n",
    "    print('Feature\\tImportance')\n",
    "    for feat, imp in zip(reversed(features), reversed(import_scal  * 100)):\n",
    "        print(f'{feat}\\t{round(imp, 3):>.3f}')\n",
    "\n",
    "except:\n",
    "    print('learning algorithm does not provide feature importance.')"
   ]
  },
  {
   "cell_type": "markdown",
   "id": "d0cec6ce",
   "metadata": {},
   "source": [
    "---"
   ]
  },
  {
   "cell_type": "code",
   "execution_count": null,
   "id": "0022582e",
   "metadata": {
    "jupyter": {
     "source_hidden": true
    },
    "tags": []
   },
   "outputs": [],
   "source": [
    "train_size         = 0.7\n",
    "data_split_shuffle = True\n",
    "_stratify_columns = _get_columns_to_stratify_by(\n",
    "            train_test_df.drop(columns=['class']), train_test_df.loc[:, 'class'], False, 'class'\n",
    "        )\n",
    "\n",
    "X_train, X_test, y_train, y_test = train_test_split(\n",
    "                train_test_df.drop(columns=['class']),\n",
    "                train_test_df.loc[:, 'class'],\n",
    "                test_size=1 - train_size,\n",
    "                stratify=_stratify_columns,\n",
    "                random_state=seed,\n",
    "                shuffle=data_split_shuffle,\n",
    "            )\n",
    "train_data_df        = pd.concat([X_train, y_train], axis=1)\n",
    "test_data_df         = pd.concat([X_test, y_test], axis=1)"
   ]
  },
  {
   "cell_type": "markdown",
   "id": "14130926",
   "metadata": {},
   "source": [
    "#### Calculate optimal threshold for classification"
   ]
  },
  {
   "cell_type": "code",
   "execution_count": null,
   "id": "632de828",
   "metadata": {
    "jupyter": {
     "source_hidden": true
    }
   },
   "outputs": [],
   "source": [
    "AGN_naive_threshold       = 0.5"
   ]
  },
  {
   "cell_type": "code",
   "execution_count": null,
   "id": "9c01b9ef",
   "metadata": {},
   "outputs": [],
   "source": [
    "validation_prediction_clf = pyc.predict_model(final_AGN_clf, data=validation_df, probability_threshold=AGN_naive_threshold, raw_score=True, round=10)\n",
    "train_prediction_clf      = pyc.predict_model(final_AGN_clf, data=train_data_df, probability_threshold=AGN_naive_threshold, raw_score=True, round=10)\n",
    "test_prediction_clf       = pyc.predict_model(final_AGN_clf, data=test_data_df,  probability_threshold=AGN_naive_threshold, raw_score=True, round=10)\n",
    "train_test_prediction_clf = pyc.predict_model(final_AGN_clf, data=train_test_df, probability_threshold=AGN_naive_threshold, raw_score=True, round=10)"
   ]
  },
  {
   "cell_type": "markdown",
   "id": "3434208c",
   "metadata": {},
   "source": [
    "#### Naive threshold metrics."
   ]
  },
  {
   "cell_type": "code",
   "execution_count": null,
   "id": "1bd5c3c1",
   "metadata": {
    "jupyter": {
     "source_hidden": true
    },
    "tags": []
   },
   "outputs": [],
   "source": [
    "cm_mat_val_naive = np.array([[np.sum(np.array(validation_prediction_clf['class'] == 0) & np.array(validation_prediction_clf['Label'] == 0)),\\\n",
    "                              np.sum(np.array(validation_prediction_clf['class'] == 0) & np.array(validation_prediction_clf['Label'] == 1))],\\\n",
    "                             [np.sum(np.array(validation_prediction_clf['class'] == 1) & np.array(validation_prediction_clf['Label'] == 0)),\\\n",
    "                              np.sum(np.array(validation_prediction_clf['class'] == 1) & np.array(validation_prediction_clf['Label'] == 1))]])"
   ]
  },
  {
   "cell_type": "code",
   "execution_count": null,
   "id": "bd151f32",
   "metadata": {
    "jupyter": {
     "source_hidden": true
    },
    "tags": []
   },
   "outputs": [],
   "source": [
    "cm_mat_train_naive = np.array([[np.sum(np.array(train_prediction_clf['class'] == 0) & np.array(train_prediction_clf['Label'] == 0)),\\\n",
    "                                np.sum(np.array(train_prediction_clf['class'] == 0) & np.array(train_prediction_clf['Label'] == 1))],\\\n",
    "                               [np.sum(np.array(train_prediction_clf['class'] == 1) & np.array(train_prediction_clf['Label'] == 0)),\\\n",
    "                                np.sum(np.array(train_prediction_clf['class'] == 1) & np.array(train_prediction_clf['Label'] == 1))]])"
   ]
  },
  {
   "cell_type": "code",
   "execution_count": null,
   "id": "7076d3dc",
   "metadata": {
    "jupyter": {
     "source_hidden": true
    },
    "tags": []
   },
   "outputs": [],
   "source": [
    "cm_mat_test_naive = np.array([[np.sum(np.array(test_prediction_clf['class'] == 0) & np.array(test_prediction_clf['Label'] == 0)),\\\n",
    "                               np.sum(np.array(test_prediction_clf['class'] == 0) & np.array(test_prediction_clf['Label'] == 1))],\\\n",
    "                              [np.sum(np.array(test_prediction_clf['class'] == 1) & np.array(test_prediction_clf['Label'] == 0)),\\\n",
    "                               np.sum(np.array(test_prediction_clf['class'] == 1) & np.array(test_prediction_clf['Label'] == 1))]])"
   ]
  },
  {
   "cell_type": "code",
   "execution_count": null,
   "id": "8dadbabf",
   "metadata": {
    "jupyter": {
     "source_hidden": true
    },
    "tags": []
   },
   "outputs": [],
   "source": [
    "cm_mat_train_test_naive = np.array([[np.sum(np.array(train_test_prediction_clf['class'] == 0) & np.array(train_test_prediction_clf['Label'] == 0)),\\\n",
    "                                     np.sum(np.array(train_test_prediction_clf['class'] == 0) & np.array(train_test_prediction_clf['Label'] == 1))],\\\n",
    "                                    [np.sum(np.array(train_test_prediction_clf['class'] == 1) & np.array(train_test_prediction_clf['Label'] == 0)),\\\n",
    "                                     np.sum(np.array(train_test_prediction_clf['class'] == 1) & np.array(train_test_prediction_clf['Label'] == 1))]])"
   ]
  },
  {
   "cell_type": "code",
   "execution_count": null,
   "id": "27dff005",
   "metadata": {
    "jupyter": {
     "source_hidden": true
    }
   },
   "outputs": [],
   "source": [
    "MCC_val_naive           = MCC_from_CM(cm_mat_val_naive)\n",
    "ACC_val_naive           = ACC_from_CM(cm_mat_val_naive)\n",
    "F1_val_naive            = F1_from_CM(cm_mat_val_naive)\n",
    "Recall_val_naive        = Recall_from_CM(cm_mat_val_naive)\n",
    "\n",
    "MCC_train_naive         = MCC_from_CM(cm_mat_train_naive)\n",
    "ACC_train_naive         = ACC_from_CM(cm_mat_train_naive)\n",
    "F1_train_naive          = F1_from_CM(cm_mat_train_naive)\n",
    "Recall_train_naive      = Recall_from_CM(cm_mat_train_naive)\n",
    "\n",
    "MCC_test_naive          = MCC_from_CM(cm_mat_test_naive)\n",
    "ACC_test_naive          = ACC_from_CM(cm_mat_test_naive)\n",
    "F1_test_naive           = F1_from_CM(cm_mat_test_naive)\n",
    "Recall_test_naive       = Recall_from_CM(cm_mat_test_naive)\n",
    "\n",
    "MCC_train_test_naive    = MCC_from_CM(cm_mat_train_test_naive)\n",
    "ACC_train_test_naive    = ACC_from_CM(cm_mat_train_test_naive)\n",
    "F1_train_test_naive     = F1_from_CM(cm_mat_train_test_naive)\n",
    "Recall_train_test_naive = Recall_from_CM(cm_mat_train_test_naive)\n",
    "\n",
    "naive_scores_array            = np.array([[F1_train_naive,      MCC_train_naive,      Recall_train_naive,      ACC_train_naive],\\\n",
    "                                          [F1_test_naive,       MCC_test_naive,       Recall_test_naive,       ACC_test_naive],\\\n",
    "                                          [F1_train_test_naive, MCC_train_test_naive, Recall_train_test_naive, ACC_train_test_naive],\\\n",
    "                                          [F1_val_naive,        MCC_val_naive,        Recall_val_naive,        ACC_val_naive]])"
   ]
  },
  {
   "cell_type": "code",
   "execution_count": null,
   "id": "f46c5a66",
   "metadata": {
    "jupyter": {
     "source_hidden": true
    }
   },
   "outputs": [],
   "source": [
    "naive_scores_df = pd.DataFrame(data=naive_scores_array, columns=['F1', 'MCC', 'Recall', 'ACC'], index=['Train', 'Test', 'Train+Test', 'Validation'])"
   ]
  },
  {
   "cell_type": "code",
   "execution_count": null,
   "id": "a095a34c",
   "metadata": {
    "jupyter": {
     "source_hidden": true
    }
   },
   "outputs": [],
   "source": [
    "with pd.option_context('display.float_format', '{:.4f}'.format):\n",
    "    display(naive_scores_df)"
   ]
  },
  {
   "cell_type": "markdown",
   "id": "12f8d06c",
   "metadata": {},
   "source": [
    "#### Calibration curve"
   ]
  },
  {
   "cell_type": "code",
   "execution_count": null,
   "id": "3420651f",
   "metadata": {
    "jupyter": {
     "source_hidden": true
    }
   },
   "outputs": [],
   "source": [
    "fract_positiv_train_test, mean_pred_val_train_test =\\\n",
    "                        calibration_curve(train_test_prediction_clf.loc[:, 'class'],\\\n",
    "                                          train_test_prediction_clf.loc[:, 'Score_1'],\\\n",
    "                                          n_bins=20, normalize=True)  # calibration_curve(y_test, prob_pos, n_bins=10)\n",
    "\n",
    "fract_positiv_val, mean_pred_val_val =\\\n",
    "                        calibration_curve(validation_prediction_clf.loc[:, 'class'],\\\n",
    "                                          validation_prediction_clf.loc[:, 'Score_1'],\\\n",
    "                                          n_bins=20, normalize=True)  # calibration_curve(y_test, prob_pos, n_bins=10)"
   ]
  },
  {
   "cell_type": "code",
   "execution_count": null,
   "id": "85912cfb",
   "metadata": {
    "jupyter": {
     "source_hidden": true
    }
   },
   "outputs": [],
   "source": [
    "fig             = plt.figure(figsize=(7,6))\n",
    "ax1             = fig.add_subplot(111)\n",
    "\n",
    "ax1.plot(mean_pred_val_val, fract_positiv_val, ls='-', marker='s', c='k', lw=2.5)\n",
    "ax1.plot([0, 1], [0, 1], ls=':', c='k', label=\"Perfectly calibrated\")\n",
    "ax1.set_xlabel('Mean predicted value', fontsize=20)\n",
    "ax1.set_ylabel('Fraction of positives', fontsize=20)\n",
    "ax1.tick_params(which='both', top=True, right=True, direction='in')\n",
    "ax1.tick_params(axis='both', which='major', labelsize=14)\n",
    "ax1.tick_params(which='major', length=8, width=1.5)\n",
    "ax1.tick_params(which='minor', length=4, width=1.5)\n",
    "plt.setp(ax1.spines.values(), linewidth=2.5)\n",
    "plt.setp(ax1.spines.values(), linewidth=2.5)\n",
    "plt.show()"
   ]
  },
  {
   "cell_type": "markdown",
   "id": "7212de01",
   "metadata": {},
   "source": [
    "Calculate ROC AUC values and plots."
   ]
  },
  {
   "cell_type": "code",
   "execution_count": null,
   "id": "e1963bd9",
   "metadata": {
    "id": "b47f6aa7-8d75-4c19-908a-1e30080f6da5",
    "jupyter": {
     "source_hidden": true
    },
    "tags": []
   },
   "outputs": [],
   "source": [
    "roc_auc_train      = roc_auc_score(train_prediction_clf.loc[:, 'class'],      train_prediction_clf.loc[:, 'Score_1'])\n",
    "roc_auc_test       = roc_auc_score(test_prediction_clf.loc[:, 'class'],       test_prediction_clf.loc[:, 'Score_1'])\n",
    "roc_auc_train_test = roc_auc_score(train_test_prediction_clf.loc[:, 'class'], train_test_prediction_clf.loc[:, 'Score_1'])\n",
    "roc_auc_validation = roc_auc_score(validation_prediction_clf.loc[:, 'class'], validation_prediction_clf.loc[:, 'Score_1'])"
   ]
  },
  {
   "cell_type": "code",
   "execution_count": null,
   "id": "bff74852",
   "metadata": {
    "jupyter": {
     "source_hidden": true
    },
    "tags": []
   },
   "outputs": [],
   "source": [
    "print(f'Area under the curve (ROC) for training   = {roc_auc_train:.5f}')\n",
    "print(f'Area under the curve (ROC) for test       = {roc_auc_test:.5f}')\n",
    "print(f'Area under the curve (ROC) for train+test = {roc_auc_train_test:.5f}')\n",
    "print(f'Area under the curve (ROC) for validation = {roc_auc_validation:.5f}')"
   ]
  },
  {
   "cell_type": "code",
   "execution_count": null,
   "id": "ef3f3fa2",
   "metadata": {
    "jupyter": {
     "source_hidden": true
    },
    "tags": []
   },
   "outputs": [],
   "source": [
    "fpr_train,      tpr_train,      thresh_train      = roc_curve(train_prediction_clf.loc[:, 'class'],      train_prediction_clf.loc[:, 'Score_1'])\n",
    "fpr_test,       tpr_test,       thresh_test       = roc_curve(test_prediction_clf.loc[:, 'class'],       test_prediction_clf.loc[:, 'Score_1'])\n",
    "fpr_train_test, tpr_train_test, thresh_train_test = roc_curve(train_test_prediction_clf.loc[:, 'class'], train_test_prediction_clf.loc[:, 'Score_1'])\n",
    "fpr_val,        tpr_val,        thresh_val        = roc_curve(validation_prediction_clf.loc[:, 'class'], validation_prediction_clf.loc[:, 'Score_1'])"
   ]
  },
  {
   "cell_type": "code",
   "execution_count": null,
   "id": "7dc48040",
   "metadata": {
    "jupyter": {
     "source_hidden": true
    },
    "tags": []
   },
   "outputs": [],
   "source": [
    "fig             = plt.figure(figsize=(7,6))\n",
    "ax1             = fig.add_subplot(111)\n",
    "\n",
    "viz_train       = RocCurveDisplay(fpr=fpr_train,      tpr=tpr_train,      roc_auc=roc_auc_train)\n",
    "viz_test        = RocCurveDisplay(fpr=fpr_test,       tpr=tpr_test,       roc_auc=roc_auc_test)\n",
    "viz_train_test  = RocCurveDisplay(fpr=fpr_train_test, tpr=tpr_train_test, roc_auc=roc_auc_train_test)\n",
    "viz_val         = RocCurveDisplay(fpr=fpr_val,        tpr=tpr_val,        roc_auc=roc_auc_validation)\n",
    "viz_train.plot(ax=ax1,       lw=3, c=cm.get_cmap('cet_CET_C2s')(0.0), alpha=0.6, label=f\"Training.   (AUC = {roc_auc_train:0.5f})\")\n",
    "viz_test.plot(ax=ax1,        lw=3, c=cm.get_cmap('cet_CET_C2s')(0.4), alpha=0.6, label=f\"Test.       (AUC = {roc_auc_test:0.5f})\")\n",
    "viz_train_test.plot(ax=ax1,  lw=3, c=cm.get_cmap('cet_CET_C2s')(0.6), alpha=0.6, label=f\"Train+Test. (AUC = {roc_auc_train_test:0.5f})\")\n",
    "viz_val.plot(ax=ax1,         lw=3, c=cm.get_cmap('cet_CET_C2s')(0.8), alpha=0.6, label=f\"Validation. (AUC = {roc_auc_validation:0.5f})\")\n",
    "\n",
    "ax1.plot([0, 1], [0, 1], ls='--', marker=None, c='Gray', alpha=0.7, lw=3.0, label='Random guess (AUC = 0.50)')\n",
    "\n",
    "ax1.set_xlabel('False Positive Rate', fontsize=20)\n",
    "ax1.set_ylabel('True Positive Rate', fontsize=20)\n",
    "ax1.tick_params(which='both', top=True, right=True, direction='in')\n",
    "ax1.tick_params(axis='both', which='major', labelsize=14)\n",
    "ax1.tick_params(which='major', length=8, width=1.5)\n",
    "ax1.tick_params(which='minor', length=4, width=1.5)\n",
    "plt.setp(ax1.spines.values(), linewidth=2.5)\n",
    "plt.setp(ax1.spines.values(), linewidth=2.5)\n",
    "# ax1.set_aspect('equal', 'box')\n",
    "plt.legend(loc=4, fontsize=16, title='AGN/Galaxy\\nclassification', title_fontsize=16)\n",
    "ax1.set_aspect('equal', 'datalim')\n",
    "ax1.set_title('ROC curve. HETDEX field.', fontsize=16)\n",
    "fig.tight_layout()\n",
    "if save_plot_flag:\n",
    "    plt.savefig('plots/AUC_ROC_classification_AGN_galaxy_04.pdf', bbox_inches='tight')\n",
    "plt.show()"
   ]
  },
  {
   "cell_type": "markdown",
   "id": "37e12f45",
   "metadata": {},
   "source": [
    "##### Find optimal threshold for each sub-set"
   ]
  },
  {
   "cell_type": "code",
   "execution_count": null,
   "id": "e73ac558",
   "metadata": {
    "jupyter": {
     "source_hidden": true
    }
   },
   "outputs": [],
   "source": [
    "opt_t_train      = thresh_train[np.argmax(tpr_train - fpr_train)]\n",
    "opt_t_test       = thresh_test[np.argmax(tpr_test - fpr_test)]\n",
    "opt_t_train_test = thresh_train_test[np.argmax(tpr_train_test - fpr_train_test)]\n",
    "opt_t_validation = thresh_val[np.argmax(tpr_val - fpr_val)]"
   ]
  },
  {
   "cell_type": "code",
   "execution_count": null,
   "id": "cf48bde3",
   "metadata": {
    "jupyter": {
     "source_hidden": true
    }
   },
   "outputs": [],
   "source": [
    "print(f'Optimal threshold from area under the curve (ROC) for training   = {opt_t_train:.5f}')\n",
    "print(f'Optimal threshold from area under the curve (ROC) for test       = {opt_t_test:.5f}')\n",
    "print(f'Optimal threshold from area under the curve (ROC) for train+test = {opt_t_train_test:.5f}')\n",
    "print(f'Optimal threshold from area under the curve (ROC) for validation = {opt_t_validation:.5f}')"
   ]
  },
  {
   "cell_type": "markdown",
   "id": "a3becfe0",
   "metadata": {},
   "source": [
    "##### Precision-Recall curve"
   ]
  },
  {
   "cell_type": "code",
   "execution_count": null,
   "id": "431cef6b",
   "metadata": {
    "jupyter": {
     "source_hidden": true
    }
   },
   "outputs": [],
   "source": [
    "prec_train,      recall_train,      thresh_train      = precision_recall_curve(train_prediction_clf.loc[:, 'class'],\\\n",
    "                                                                               train_prediction_clf.loc[:, 'Score_1'],      pos_label=1)\n",
    "prec_test,       recall_test,       thresh_test       = precision_recall_curve(test_prediction_clf.loc[:, 'class'],\\\n",
    "                                                                               test_prediction_clf.loc[:, 'Score_1'],       pos_label=1)\n",
    "prec_train_test, recall_train_test, thresh_train_test = precision_recall_curve(train_test_prediction_clf.loc[:, 'class'],\\\n",
    "                                                                               train_test_prediction_clf.loc[:, 'Score_1'], pos_label=1)\n",
    "prec_validation, recall_validation, thresh_validation = precision_recall_curve(validation_prediction_clf.loc[:, 'class'],\\\n",
    "                                                                               validation_prediction_clf.loc[:, 'Score_1'], pos_label=1)"
   ]
  },
  {
   "cell_type": "markdown",
   "id": "7fcf937d",
   "metadata": {},
   "source": [
    "AUC for PR curve"
   ]
  },
  {
   "cell_type": "code",
   "execution_count": null,
   "id": "aca28a47",
   "metadata": {
    "jupyter": {
     "source_hidden": true
    }
   },
   "outputs": [],
   "source": [
    "auc_pr_train      = auc(recall_train,      prec_train)\n",
    "auc_pr_test       = auc(recall_test,       prec_test)\n",
    "auc_pr_train_test = auc(recall_train_test, prec_train_test)\n",
    "auc_pr_validation = auc(recall_validation, prec_validation)"
   ]
  },
  {
   "cell_type": "code",
   "execution_count": null,
   "id": "32f77ce6",
   "metadata": {
    "jupyter": {
     "source_hidden": true
    },
    "tags": []
   },
   "outputs": [],
   "source": [
    "fig             = plt.figure(figsize=(7,6))\n",
    "ax1             = fig.add_subplot(111)\n",
    "\n",
    "viz_train       = PrecisionRecallDisplay(precision=prec_train,      recall=recall_train)\n",
    "viz_test        = PrecisionRecallDisplay(precision=prec_test,       recall=recall_test)\n",
    "viz_train_test  = PrecisionRecallDisplay(precision=prec_train_test, recall=recall_train_test)\n",
    "viz_val         = PrecisionRecallDisplay(precision=prec_validation, recall=recall_validation)\n",
    "viz_train.plot(ax=ax1,       lw=3.5, c=cm.get_cmap('cet_CET_C2s')(0.0), alpha=0.6, label=f\"Training (AUC = {auc_pr_train:.4f})\")\n",
    "viz_test.plot(ax=ax1,        lw=3.5, c=cm.get_cmap('cet_CET_C2s')(0.4), alpha=0.6, label=f\"Test (AUC = {auc_pr_test:.4f})\")\n",
    "viz_train_test.plot(ax=ax1,  lw=3.5, c=cm.get_cmap('cet_CET_C2s')(0.6), alpha=0.6, label=f\"Train+Test (AUC = {auc_pr_train_test:.4f})\")\n",
    "viz_val.plot(ax=ax1,         lw=3.5, c=cm.get_cmap('cet_CET_C2s')(0.8), alpha=0.6, label=f\"Validation (AUC = {auc_pr_validation:.4f})\")\n",
    "\n",
    "no_skill_train      = np.sum(train_prediction_clf.loc[:, 'class'] == 1)      / len(train_prediction_clf.loc[:, 'class'])\n",
    "no_skill_test       = np.sum(test_prediction_clf.loc[:, 'class'] == 1)       / len(test_prediction_clf.loc[:, 'class'])\n",
    "no_skill_train_test = np.sum(train_test_prediction_clf.loc[:, 'class'] == 1) / len(train_test_prediction_clf.loc[:, 'class'])\n",
    "no_skill_val        = np.sum(validation_prediction_clf.loc[:, 'class'] == 1) / len(validation_prediction_clf.loc[:, 'class'])\n",
    "ax1.plot([0, 1], [no_skill_train,      no_skill_train],      ls='--', marker=None, c=cm.get_cmap('cet_CET_C2s')(0.0), alpha=0.7, lw=3.5)\n",
    "ax1.plot([0, 1], [no_skill_test,       no_skill_test],       ls='--', marker=None, c=cm.get_cmap('cet_CET_C2s')(0.4), alpha=0.7, lw=3.5)\n",
    "ax1.plot([0, 1], [no_skill_train_test, no_skill_train_test], ls='--', marker=None, c=cm.get_cmap('cet_CET_C2s')(0.6), alpha=0.7, lw=3.5)\n",
    "ax1.plot([0, 1], [no_skill_val,        no_skill_val],        ls='--', marker=None, c=cm.get_cmap('cet_CET_C2s')(0.8), alpha=0.7, lw=3.5)\n",
    "ax1.plot([1, 1], [1, 1], ls='--', marker=None, c='Gray', alpha=0.7, lw=3.5, label='No Skill', zorder=0)\n",
    "\n",
    "# ax1.plot([0, 1], [0, 1], ls='--', marker=None, c='Gray', alpha=0.7, lw=3.0, label='Random guess (AUC = 0.50)')\n",
    "\n",
    "ax1.set_xlabel('Recall', fontsize=20)\n",
    "ax1.set_ylabel('Precision', fontsize=20)\n",
    "ax1.tick_params(which='both', top=True, right=True, direction='in')\n",
    "ax1.tick_params(axis='both', which='major', labelsize=16)\n",
    "ax1.tick_params(which='major', length=8, width=1.5)\n",
    "ax1.tick_params(which='minor', length=4, width=1.5)\n",
    "plt.setp(ax1.spines.values(), linewidth=3.0)\n",
    "plt.setp(ax1.spines.values(), linewidth=3.0)\n",
    "# ax1.set_aspect('equal', 'box')\n",
    "plt.legend(loc=3, fontsize=14, title='AGN/Galaxy\\nclassification', title_fontsize=14)\n",
    "ax1.set_aspect('equal', 'datalim')\n",
    "ax1.set_title('PR curve. HETDEX field.', fontsize=16)\n",
    "fig.tight_layout()\n",
    "if save_plot_flag:\n",
    "    plt.savefig('plots/PR_curve_classification_AGN_galaxy_04.pdf', bbox_inches='tight')\n",
    "plt.show()"
   ]
  },
  {
   "cell_type": "markdown",
   "id": "95960bba",
   "metadata": {},
   "source": [
    "Find optimal threshold from PR curve"
   ]
  },
  {
   "cell_type": "code",
   "execution_count": null,
   "id": "d0fe67d7",
   "metadata": {
    "jupyter": {
     "source_hidden": true
    }
   },
   "outputs": [],
   "source": [
    "fscore_train      = (2 * prec_train      * recall_train)      / (prec_train      + recall_train)\n",
    "fscore_test       = (2 * prec_test       * recall_test)       / (prec_test       + recall_test)\n",
    "fscore_train_test = (2 * prec_train_test * recall_train_test) / (prec_train_test + recall_train_test)\n",
    "fscore_validation = (2 * prec_validation * recall_validation) / (prec_validation + recall_validation)"
   ]
  },
  {
   "cell_type": "code",
   "execution_count": null,
   "id": "04417ba3",
   "metadata": {
    "jupyter": {
     "source_hidden": true
    }
   },
   "outputs": [],
   "source": [
    "opt_t_PR_train      = thresh_train[np.argmax(fscore_train)]\n",
    "opt_t_PR_test       = thresh_test[np.argmax(fscore_test)]\n",
    "opt_t_PR_train_test = thresh_train_test[np.argmax(fscore_train_test)]\n",
    "opt_t_PR_validation = thresh_validation[np.argmax(fscore_validation)]"
   ]
  },
  {
   "cell_type": "code",
   "execution_count": null,
   "id": "0fbe8c3c",
   "metadata": {
    "jupyter": {
     "source_hidden": true
    }
   },
   "outputs": [],
   "source": [
    "print(f'Optimal threshold from Precision-Recall curve for training   = {opt_t_PR_train:.5f}')\n",
    "print(f'Optimal threshold from Precision-Recall curve for test       = {opt_t_PR_test:.5f}')\n",
    "print(f'Optimal threshold from Precision-Recall curve for train+test = {opt_t_PR_train_test:.5f}')\n",
    "print(f'Optimal threshold from Precision-Recall curve for validation = {opt_t_PR_validation:.5f}')"
   ]
  },
  {
   "cell_type": "markdown",
   "id": "dbc020ab",
   "metadata": {},
   "source": [
    "---"
   ]
  },
  {
   "cell_type": "code",
   "execution_count": null,
   "id": "9efde3a2",
   "metadata": {},
   "outputs": [],
   "source": [
    "AGN_pred_threshold = float(opt_t_PR_train_test) #  0.46759"
   ]
  },
  {
   "cell_type": "code",
   "execution_count": null,
   "id": "687d1ecc",
   "metadata": {
    "tags": []
   },
   "outputs": [],
   "source": [
    "validation_prediction_clf = pyc.predict_model(final_AGN_clf, data=validation_df, probability_threshold=AGN_pred_threshold, raw_score=True)\n",
    "train_prediction_clf      = pyc.predict_model(final_AGN_clf, data=train_data_df, probability_threshold=AGN_pred_threshold, raw_score=True)\n",
    "test_prediction_clf       = pyc.predict_model(final_AGN_clf, data=test_data_df,  probability_threshold=AGN_pred_threshold, raw_score=True)\n",
    "train_test_prediction_clf = pyc.predict_model(final_AGN_clf, data=train_test_df, probability_threshold=AGN_pred_threshold, raw_score=True)"
   ]
  },
  {
   "cell_type": "markdown",
   "id": "4fe3c983",
   "metadata": {},
   "source": [
    "Create confusion matrices."
   ]
  },
  {
   "cell_type": "code",
   "execution_count": null,
   "id": "ff764417",
   "metadata": {
    "jupyter": {
     "source_hidden": true
    },
    "tags": []
   },
   "outputs": [],
   "source": [
    "cm_mat_train = np.array([[np.sum(np.array(train_prediction_clf['class'] == 0) & np.array(train_prediction_clf['Label'] == 0)),\\\n",
    "                          np.sum(np.array(train_prediction_clf['class'] == 0) & np.array(train_prediction_clf['Label'] == 1))],\\\n",
    "                         [np.sum(np.array(train_prediction_clf['class'] == 1) & np.array(train_prediction_clf['Label'] == 0)),\\\n",
    "                          np.sum(np.array(train_prediction_clf['class'] == 1) & np.array(train_prediction_clf['Label'] == 1))]])\n",
    "\n",
    "cm_mat_test = np.array([[np.sum(np.array(test_prediction_clf['class'] == 0) & np.array(test_prediction_clf['Label'] == 0)),\\\n",
    "                         np.sum(np.array(test_prediction_clf['class'] == 0) & np.array(test_prediction_clf['Label'] == 1))],\\\n",
    "                        [np.sum(np.array(test_prediction_clf['class'] == 1) & np.array(test_prediction_clf['Label'] == 0)),\\\n",
    "                         np.sum(np.array(test_prediction_clf['class'] == 1) & np.array(test_prediction_clf['Label'] == 1))]])\n",
    "\n",
    "cm_mat_train_test = np.array([[np.sum(np.array(train_test_prediction_clf['class'] == 0) & np.array(train_test_prediction_clf['Label'] == 0)),\\\n",
    "                               np.sum(np.array(train_test_prediction_clf['class'] == 0) & np.array(train_test_prediction_clf['Label'] == 1))],\\\n",
    "                              [np.sum(np.array(train_test_prediction_clf['class'] == 1) & np.array(train_test_prediction_clf['Label'] == 0)),\\\n",
    "                               np.sum(np.array(train_test_prediction_clf['class'] == 1) & np.array(train_test_prediction_clf['Label'] == 1))]])\n",
    "\n",
    "cm_mat_val = np.array([[np.sum(np.array(validation_prediction_clf['class'] == 0) & np.array(validation_prediction_clf['Label'] == 0)),\\\n",
    "                        np.sum(np.array(validation_prediction_clf['class'] == 0) & np.array(validation_prediction_clf['Label'] == 1))],\\\n",
    "                       [np.sum(np.array(validation_prediction_clf['class'] == 1) & np.array(validation_prediction_clf['Label'] == 0)),\\\n",
    "                        np.sum(np.array(validation_prediction_clf['class'] == 1) & np.array(validation_prediction_clf['Label'] == 1))]])"
   ]
  },
  {
   "cell_type": "code",
   "execution_count": null,
   "id": "8b97c6c6",
   "metadata": {
    "jupyter": {
     "source_hidden": true
    }
   },
   "outputs": [],
   "source": [
    "MCC_gal_AGN_train    = MCC_from_CM(cm_mat_train)\n",
    "ACC_gal_AGN_train    = ACC_from_CM(cm_mat_train)\n",
    "F1_gal_AGN_train     = F1_from_CM(cm_mat_train)\n",
    "Recall_gal_AGN_train = Recall_from_CM(cm_mat_train)\n",
    "\n",
    "MCC_gal_AGN_test    = MCC_from_CM(cm_mat_test)\n",
    "ACC_gal_AGN_test    = ACC_from_CM(cm_mat_test)\n",
    "F1_gal_AGN_test     = F1_from_CM(cm_mat_test)\n",
    "Recall_gal_AGN_test = Recall_from_CM(cm_mat_test)\n",
    "\n",
    "MCC_gal_AGN_train_test    = MCC_from_CM(cm_mat_train_test)\n",
    "ACC_gal_AGN_train_test    = ACC_from_CM(cm_mat_train_test)\n",
    "F1_gal_AGN_train_test     = F1_from_CM(cm_mat_train_test)\n",
    "Recall_gal_AGN_train_test = Recall_from_CM(cm_mat_train_test)\n",
    "\n",
    "MCC_gal_AGN_val    = MCC_from_CM(cm_mat_val)\n",
    "ACC_gal_AGN_val    = ACC_from_CM(cm_mat_val)\n",
    "F1_gal_AGN_val     = F1_from_CM(cm_mat_val)\n",
    "Recall_gal_AGN_val = Recall_from_CM(cm_mat_val)\n",
    "\n",
    "final_scores_array      = np.array([[F1_gal_AGN_train,      MCC_gal_AGN_train,      Recall_gal_AGN_train,      ACC_gal_AGN_train],\\\n",
    "                                    [F1_gal_AGN_test,       MCC_gal_AGN_test,       Recall_gal_AGN_test,       ACC_gal_AGN_test],\\\n",
    "                                    [F1_gal_AGN_train_test, MCC_gal_AGN_train_test, Recall_gal_AGN_train_test, ACC_gal_AGN_train_test],\\\n",
    "                                    [F1_gal_AGN_val,        MCC_gal_AGN_val,        Recall_gal_AGN_val,        ACC_gal_AGN_val]])"
   ]
  },
  {
   "cell_type": "code",
   "execution_count": null,
   "id": "25d4ac26",
   "metadata": {
    "jupyter": {
     "source_hidden": true
    }
   },
   "outputs": [],
   "source": [
    "final_scores_df = pd.DataFrame(data=final_scores_array, columns=['F1', 'MCC', 'Recall', 'ACC'], index=['Train', 'Test', 'Train+Test', 'Validation'])"
   ]
  },
  {
   "cell_type": "code",
   "execution_count": null,
   "id": "c8f05671",
   "metadata": {
    "jupyter": {
     "source_hidden": true
    }
   },
   "outputs": [],
   "source": [
    "with pd.option_context('display.float_format', '{:.4f}'.format):\n",
    "    display(final_scores_df)"
   ]
  },
  {
   "cell_type": "code",
   "execution_count": null,
   "id": "cc879baf",
   "metadata": {
    "jupyter": {
     "source_hidden": true
    },
    "tags": []
   },
   "outputs": [],
   "source": [
    "fig             = plt.figure(figsize=(6,5))\n",
    "ax1             = fig.add_subplot(111)\n",
    "\n",
    "plot_conf_mat(cm_mat_val, title='Validation set', axin=ax1, display_labels=['Galaxy', 'AGN'], log_stretch=False)\n",
    "if save_plot_flag:\n",
    "    plt.savefig('plots/conf_matrix_validation_classification_AGN_galaxy_04.pdf', bbox_inches='tight')\n",
    "plt.show()"
   ]
  },
  {
   "cell_type": "code",
   "execution_count": null,
   "id": "94c0d7b7",
   "metadata": {
    "jupyter": {
     "source_hidden": true
    },
    "tags": []
   },
   "outputs": [],
   "source": [
    "fig             = plt.figure(figsize=(6,5))\n",
    "ax1             = fig.add_subplot(111)\n",
    "\n",
    "plot_conf_mat(cm_mat_train, title='Training set', axin=ax1, display_labels=['Galaxy', 'AGN'], log_stretch=False)\n",
    "if save_plot_flag:\n",
    "    plt.savefig('plots/conf_matrix_train_classification_AGN_galaxy_04.pdf', bbox_inches='tight')\n",
    "plt.show()"
   ]
  },
  {
   "cell_type": "code",
   "execution_count": null,
   "id": "2a6d41a9",
   "metadata": {
    "jupyter": {
     "source_hidden": true
    },
    "tags": []
   },
   "outputs": [],
   "source": [
    "fig             = plt.figure(figsize=(6,5))\n",
    "ax1             = fig.add_subplot(111)\n",
    "\n",
    "plot_conf_mat(cm_mat_test, title='Test set', axin=ax1, display_labels=['Galaxy', 'AGN'], log_stretch=False)\n",
    "if save_plot_flag:\n",
    "    plt.savefig('plots/conf_matrix_test_classification_AGN_galaxy_04.pdf', bbox_inches='tight')\n",
    "plt.show()"
   ]
  },
  {
   "cell_type": "code",
   "execution_count": null,
   "id": "ee66ffbd",
   "metadata": {
    "jupyter": {
     "source_hidden": true
    },
    "tags": []
   },
   "outputs": [],
   "source": [
    "fig             = plt.figure(figsize=(6,5))\n",
    "ax1             = fig.add_subplot(111)\n",
    "\n",
    "plot_conf_mat(cm_mat_train_test, title='Train+test set', axin=ax1, display_labels=['Galaxy', 'AGN'], log_stretch=False)\n",
    "if save_plot_flag:\n",
    "    plt.savefig('plots/conf_matrix_train_test_classification_AGN_galaxy_04.pdf', bbox_inches='tight')\n",
    "plt.show()"
   ]
  },
  {
   "cell_type": "code",
   "execution_count": null,
   "id": "acf8ec6b",
   "metadata": {
    "id": "dc1ed42b-d2cf-4c2f-9d30-c6adcf919310",
    "tags": []
   },
   "outputs": [],
   "source": []
  },
  {
   "cell_type": "code",
   "execution_count": null,
   "id": "ed941afd",
   "metadata": {},
   "outputs": [],
   "source": []
  },
  {
   "cell_type": "code",
   "execution_count": null,
   "id": "08043fc6",
   "metadata": {},
   "outputs": [],
   "source": []
  }
 ],
 "metadata": {
  "accelerator": "GPU",
  "colab": {
   "name": "HETDEX_pipeline_AGN_training.ipynb",
   "provenance": []
  },
  "kernelspec": {
   "display_name": "Python 3 (ipykernel)",
   "language": "python",
   "name": "python3"
  },
  "language_info": {
   "codemirror_mode": {
    "name": "ipython",
    "version": 3
   },
   "file_extension": ".py",
   "mimetype": "text/x-python",
   "name": "python",
   "nbconvert_exporter": "python",
   "pygments_lexer": "ipython3",
   "version": "3.8.13"
  }
 },
 "nbformat": 4,
 "nbformat_minor": 5
}
