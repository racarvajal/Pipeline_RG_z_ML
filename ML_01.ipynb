{
 "cells": [
  {
   "cell_type": "markdown",
   "id": "c71fae7e-a4c4-4950-8c16-4a74a1e69482",
   "metadata": {
    "id": "c71fae7e-a4c4-4950-8c16-4a74a1e69482"
   },
   "source": [
    "# Pipeline for High-z Radio Galaxies I: AGN/Galaxy classification"
   ]
  },
  {
   "cell_type": "markdown",
   "id": "714a7301-9b3d-4ad9-9659-b68cad4014c5",
   "metadata": {
    "id": "714a7301-9b3d-4ad9-9659-b68cad4014c5"
   },
   "source": [
    "## Introduction"
   ]
  },
  {
   "cell_type": "markdown",
   "id": "dea6dd12-650e-4ab6-bae7-0268f78e7fea",
   "metadata": {
    "id": "dea6dd12-650e-4ab6-bae7-0268f78e7fea"
   },
   "source": [
    "Training for classification of AGN and galaxies will be done in the HETDEX Field.  \n",
    "\n",
    "Sources are all elements detected in the CatWISE2020 catalogue.  But classification  \n",
    "will be done with AGN from the Million Quasar Catalog (MQC) and galaxies from  \n",
    "spectroscopically detected sources in SDSS DR16 (Spectral Class = \"GALAXY\")."
   ]
  },
  {
   "cell_type": "markdown",
   "id": "00a0aec8-0112-4728-a8fe-f99cdf05a33b",
   "metadata": {
    "id": "00a0aec8-0112-4728-a8fe-f99cdf05a33b"
   },
   "source": [
    "Training data is from HETDEX Spring Field."
   ]
  },
  {
   "cell_type": "code",
   "execution_count": 1,
   "id": "1161a2b6-ef8d-429d-8dea-40f0de36e393",
   "metadata": {
    "id": "1161a2b6-ef8d-429d-8dea-40f0de36e393"
   },
   "outputs": [],
   "source": [
    "%matplotlib inline\n",
    "# Static plots\n",
    "#%matplotlib ipympl\n",
    "# Interactive plots\n",
    "import numpy as np\n",
    "import matplotlib as mpl\n",
    "import matplotlib.cm as cm\n",
    "import matplotlib.pyplot as plt\n",
    "import matplotlib.colors as mcolors\n",
    "import matplotlib.patheffects as mpe\n",
    "from astropy.visualization import LogStretch\n",
    "from astropy.visualization.mpl_normalize import ImageNormalize\n",
    "from sklearn.preprocessing import MinMaxScaler\n",
    "from sklearn.model_selection import train_test_split\n",
    "from sklearn.metrics import ConfusionMatrixDisplay\n",
    "import sklearn.pipeline\n",
    "import ppscore as pps\n",
    "import seaborn as sns\n",
    "import colorcet as cc\n",
    "import pacmap\n",
    "from pycaret import classification as pyc\n",
    "# from pycaret import regression as pyr\n",
    "from pycaret.internal.tabular import _get_columns_to_stratify_by\n",
    "import pandas as pd"
   ]
  },
  {
   "cell_type": "code",
   "execution_count": 2,
   "id": "85c08229-3870-441e-892c-08e3e71aaebc",
   "metadata": {},
   "outputs": [],
   "source": [
    "mpl.rcdefaults()"
   ]
  },
  {
   "cell_type": "markdown",
   "id": "9647d74a-8d80-4d24-a2f4-023184fa27ac",
   "metadata": {
    "id": "9647d74a-8d80-4d24-a2f4-023184fa27ac"
   },
   "source": [
    "Create class to normalize asymmetric colorscales  \n",
    "(from [http://chris35wills.github.io/matplotlib_diverging_colorbar/](http://chris35wills.github.io/matplotlib_diverging_colorbar/))."
   ]
  },
  {
   "cell_type": "code",
   "execution_count": 3,
   "id": "652a8557-e595-4861-af72-5d3220fb7620",
   "metadata": {
    "id": "652a8557-e595-4861-af72-5d3220fb7620",
    "jupyter": {
     "source_hidden": true
    }
   },
   "outputs": [],
   "source": [
    "class MidpointNormalize(mcolors.Normalize):\n",
    "    \"\"\"\n",
    "    Normalise the colorbar so that diverging bars work there way either side from a prescribed midpoint value)\n",
    "\n",
    "    e.g. im=ax1.imshow(array, norm=MidpointNormalize(midpoint=0.,vmin=-100, vmax=100))\n",
    "    \"\"\"\n",
    "    def __init__(self, vmin=None, vmax=None, midpoint=None, clip=False):\n",
    "        self.midpoint = midpoint\n",
    "        mcolors.Normalize.__init__(self, vmin, vmax, clip)\n",
    "\n",
    "    def __call__(self, value, clip=None):\n",
    "        # I'm ignoring masked values and all kinds of edge cases to make a\n",
    "        # simple example...\n",
    "        x, y = [self.vmin, self.midpoint, self.vmax], [0, 0.5, 1]\n",
    "        return np.ma.masked_array(np.interp(value, x, y), np.isnan(value))"
   ]
  },
  {
   "cell_type": "markdown",
   "id": "0bc24aa0-581a-4c39-bc90-b18f85385e78",
   "metadata": {
    "id": "0bc24aa0-581a-4c39-bc90-b18f85385e78"
   },
   "source": [
    "For future plots, we can configure their aspect too."
   ]
  },
  {
   "cell_type": "code",
   "execution_count": 4,
   "id": "cc05a86c-85e4-46e7-9b7f-f8ac4abd4ff2",
   "metadata": {
    "id": "cc05a86c-85e4-46e7-9b7f-f8ac4abd4ff2",
    "jupyter": {
     "source_hidden": true
    }
   },
   "outputs": [],
   "source": [
    "cmap           = cm.get_cmap('inferno')\n",
    "cmap_alt       = cm.get_cmap('Dark2')\n",
    "cmap_alt_2     = cm.get_cmap('Greys_r')  # Shades of grey\n",
    "cmap_alt_3     = cm.get_cmap('coolwarm')  # blue to red\n",
    "dark_color     = cmap(0.4)  # RGBA color code\n",
    "light_color    = cmap(0.6)  # RGBA color code\n",
    "colors         = [cmap(0.15), cmap(0.30), cmap(0.45), cmap(0.60), cmap(0.75), cmap(0.90)]\n",
    "colors_3       = [cmap(0.25), cmap(0.50), cmap(0.75)]\n",
    "colors_3_alt   = [cmap_alt(0.25), cmap_alt(0.50), cmap_alt(0.75)]\n",
    "colors_3_alt_2 = [cmap_alt_2(0.25), cmap_alt_2(0.50), cmap_alt_2(0.75)]\n",
    "colors_8       = [cmap(0.12), cmap(0.24), cmap(0.35), cmap(0.48), cmap(0.6), cmap(0.72), cmap(0.84), cmap(0.96)]\n",
    "colors_8_alt   = [cmap_alt(0.12), cmap_alt(0.24), cmap_alt(0.35), cmap_alt(0.48), cmap_alt(0.6), cmap_alt(0.72),\\\n",
    "                  cmap_alt(0.84), cmap_alt(0.96)]\n",
    "colors_8_alt_2 = [cmap_alt_2(0.06), cmap_alt_2(0.18), cmap_alt_2(0.29), cmap_alt_2(0.42), cmap_alt_2(0.54),\\\n",
    "                  cmap_alt_2(0.66), cmap_alt_2(0.78), cmap_alt_2(0.90)]\n",
    "colors_8_alt_3 = [cmap_alt_3(0.06), cmap_alt_3(0.18), cmap_alt_3(0.29), cmap_alt_3(0.42), cmap_alt_3(0.54),\\\n",
    "                  cmap_alt_3(0.66), cmap_alt_3(0.78), cmap_alt_3(0.90)]"
   ]
  },
  {
   "cell_type": "code",
   "execution_count": 5,
   "id": "f7b5bb0d-e1c0-415d-b7a8-3237c86e6c7b",
   "metadata": {
    "id": "f7b5bb0d-e1c0-415d-b7a8-3237c86e6c7b",
    "jupyter": {
     "source_hidden": true
    }
   },
   "outputs": [],
   "source": [
    "pe1            = [mpe.Stroke(linewidth=5.0, foreground='black'),\n",
    "                  mpe.Stroke(foreground='white', alpha=1),\n",
    "                  mpe.Normal()]\n",
    "pe2            = [mpe.Stroke(linewidth=3.0, foreground='white'),\n",
    "                  mpe.Stroke(foreground='white', alpha=1),\n",
    "                  mpe.Normal()]\n",
    "\n",
    "alp_str        = r'$\\alpha$'"
   ]
  },
  {
   "cell_type": "markdown",
   "id": "aacf1d05-0bd7-4cbe-a480-5bd658bc008c",
   "metadata": {
    "id": "aacf1d05-0bd7-4cbe-a480-5bd658bc008c"
   },
   "source": [
    "Methdods for PyCaret and saved models."
   ]
  },
  {
   "cell_type": "code",
   "execution_count": 6,
   "id": "d5b96d4e-620f-4572-8a2c-eb5faa7238e5",
   "metadata": {
    "id": "86db6e67-85aa-4cd6-a3dc-bfe638bc69bb",
    "jupyter": {
     "source_hidden": true
    },
    "tags": []
   },
   "outputs": [],
   "source": [
    "def get_final_column_names(pycaret_pipeline, sample_df):\n",
    "    if isinstance(pycaret_pipeline, sklearn.pipeline.Pipeline):\n",
    "        for (name, method) in pycaret_pipeline.named_steps.items():\n",
    "            if method != 'passthrough' and name != 'trained_model':\n",
    "                print(f'Running {name}')\n",
    "                sample_df = method.transform(sample_df)\n",
    "        return sample_df.columns.tolist()\n",
    "    else:\n",
    "        for (name, method) in pyc.get_config('prep_pipe').named_steps.items():\n",
    "            if method != 'passthrough' and name != 'trained_model':\n",
    "                print(f'Running {name}')\n",
    "                sample_df = method.transform(sample_df)\n",
    "        return sample_df.columns.tolist()"
   ]
  },
  {
   "cell_type": "code",
   "execution_count": 7,
   "id": "dee49c70-46cb-41f2-aed1-5c111a89d913",
   "metadata": {
    "id": "715acda9-475d-4c9c-8e99-4921da2e1152",
    "jupyter": {
     "source_hidden": true
    },
    "tags": []
   },
   "outputs": [],
   "source": [
    "def get_feature_importances_df(pycaret_pipeline, sample_df, n = 10):\n",
    "    \n",
    "    final_cols = get_final_column_names(pycaret_pipeline, sample_df)\n",
    "    \n",
    "    if isinstance(pycaret_pipeline, sklearn.pipeline.Pipeline):\n",
    "        try:\n",
    "            variables = pycaret_pipeline[\"trained_model\"].feature_importances_\n",
    "            \n",
    "        except:\n",
    "            variables = np.mean([\n",
    "                            tree.feature_importances_ for tree in pycaret_pipeline[\"trained_model\"].estimators_\n",
    "                if hasattr(tree, 'feature_importances_')\n",
    "                            ], axis=0)\n",
    "        \n",
    "        coef_df = pd.DataFrame({'Feature': final_cols, 'Importance': variables})\n",
    "        sorted_df = (\n",
    "            coef_df.sort_values(by='Importance', ascending=False)\n",
    "            .head(n)\n",
    "            .sort_values(by='Importance', ascending=True).reset_index(drop=True)\n",
    "        )\n",
    "    else:\n",
    "        try:\n",
    "            variables = pycaret_pipeline.feature_importances_\n",
    "            \n",
    "        except:\n",
    "            variables = np.mean([\n",
    "                            tree.feature_importances_ for tree in pycaret_pipeline.estimators_\n",
    "                if hasattr(tree, 'feature_importances_')\n",
    "                            ], axis=0)\n",
    "        \n",
    "        coef_df = pd.DataFrame({'Feature': final_cols, 'Importance': variables})\n",
    "        sorted_df = (\n",
    "            coef_df.sort_values(by='Importance', ascending=False)\n",
    "            .head(n)\n",
    "            .sort_values(by='Importance', ascending=True).reset_index(drop=True)\n",
    "        )\n",
    "    return sorted_df"
   ]
  },
  {
   "cell_type": "markdown",
   "id": "8222df68-1b98-436b-af43-d9f38d015ba6",
   "metadata": {
    "id": "8222df68-1b98-436b-af43-d9f38d015ba6"
   },
   "source": [
    "***"
   ]
  },
  {
   "cell_type": "markdown",
   "id": "e2ce5669-172d-4ed4-b6fe-5fff8afc7df5",
   "metadata": {
    "id": "e2ce5669-172d-4ed4-b6fe-5fff8afc7df5"
   },
   "source": [
    "## Reading data"
   ]
  },
  {
   "cell_type": "code",
   "execution_count": 8,
   "id": "b0619b32-391c-4f18-8284-d1fabf6a800c",
   "metadata": {
    "id": "b0619b32-391c-4f18-8284-d1fabf6a800c",
    "tags": []
   },
   "outputs": [],
   "source": [
    "cat_path = '../../Catalogs/'  # relative path to the same directory"
   ]
  },
  {
   "cell_type": "markdown",
   "id": "c4e41fd8-fbc5-4185-b03e-8a57634a05a9",
   "metadata": {
    "id": "c4e41fd8-fbc5-4185-b03e-8a57634a05a9"
   },
   "source": [
    "We import our data using the `pandas` package."
   ]
  },
  {
   "cell_type": "code",
   "execution_count": 82,
   "id": "c2f62f66-a612-49f8-83e6-b57cdd21e426",
   "metadata": {},
   "outputs": [],
   "source": [
    "save_plot_flag  = False\n",
    "save_model_flag = False\n",
    "load_model_flag = True"
   ]
  },
  {
   "cell_type": "code",
   "execution_count": 10,
   "id": "04b65783-eee3-44e5-b164-626f6f15afd6",
   "metadata": {},
   "outputs": [],
   "source": [
    "use_5sigma = True  # use files with 5-sigma magnitude imputation"
   ]
  },
  {
   "cell_type": "code",
   "execution_count": 11,
   "id": "5e7d0421-42f6-4787-9068-fa44b3b52e4f",
   "metadata": {},
   "outputs": [],
   "source": [
    "mqc_version = '7_4d'  # '7_2'"
   ]
  },
  {
   "cell_type": "code",
   "execution_count": 12,
   "id": "c69bd7ee-7184-46e3-a6cb-1a66cb75d6ae",
   "metadata": {
    "id": "c69bd7ee-7184-46e3-a6cb-1a66cb75d6ae",
    "tags": []
   },
   "outputs": [],
   "source": [
    "file_name_train = f'CatWISE2020_VLASS_LOFAR_PS1_GALEX_TGSS_XMM_2MASS_MILLIQUAS_{mqc_version}_ALLWISE_LOLSS_SDSS_DR16_5sigma_imp.h5'  # 6729647 objects (6.7e6)"
   ]
  },
  {
   "cell_type": "markdown",
   "id": "2cd751bd-1eb4-4c54-b6fa-418773ac8938",
   "metadata": {
    "id": "2cd751bd-1eb4-4c54-b6fa-418773ac8938"
   },
   "source": [
    "First, open the file as astropy Table to modify (and standardise)  \n",
    "the units of fluxes and/or magnitudes."
   ]
  },
  {
   "cell_type": "markdown",
   "id": "048a606d-3140-4b8d-8e79-9a145df74f1a",
   "metadata": {
    "id": "d0ce0178-04a7-4113-bbb8-1b70ce220764"
   },
   "source": [
    "---"
   ]
  },
  {
   "cell_type": "markdown",
   "id": "6e66f66c-4987-4340-bf82-7d8e218033fb",
   "metadata": {
    "id": "6e66f66c-4987-4340-bf82-7d8e218033fb"
   },
   "source": [
    "Create `pandas` DataFrame from `astropy` table."
   ]
  },
  {
   "cell_type": "code",
   "execution_count": 14,
   "id": "b1e064d5",
   "metadata": {},
   "outputs": [],
   "source": [
    "features_2_discard = ['objID', 'RA_ICRS', 'DE_ICRS', 'Name', 'RA_MILLI', 'DEC_MILLI',\\\n",
    "                     'TYPE', 'Z', 'X_ray_detect', 'radio_detect', 'Total_flux_VLASS',\\\n",
    "                     'Sint_LOFAR', 'Stotal_TGSS', 'FEP', 'TotalFlux_LoLSS', 'mode',\\\n",
    "                     'class', 'f_zsp', 'subCl', 'zph', 'e_zph']  # Not needed for training in this model"
   ]
  },
  {
   "cell_type": "code",
   "execution_count": 15,
   "id": "498083f5-b8c6-44aa-8de4-75b1dc899296",
   "metadata": {
    "id": "498083f5-b8c6-44aa-8de4-75b1dc899296",
    "tags": []
   },
   "outputs": [],
   "source": [
    "full_catalog_df = pd.read_hdf(cat_path + file_name_train, key='df').drop(columns=features_2_discard)"
   ]
  },
  {
   "cell_type": "code",
   "execution_count": 16,
   "id": "7373cafa-c176-4a4d-b366-4a9b357e7795",
   "metadata": {},
   "outputs": [],
   "source": [
    "# full_catalog_df.describe()"
   ]
  },
  {
   "cell_type": "markdown",
   "id": "11296d1a",
   "metadata": {},
   "source": [
    "#### Select only confirmed galaxies and AGN"
   ]
  },
  {
   "cell_type": "code",
   "execution_count": null,
   "id": "08f37a64",
   "metadata": {},
   "outputs": [],
   "source": [
    "full_catalog_df.loc[:, 'is_gal']\n",
    "full_catalog_df.loc[:, 'is_AGN']"
   ]
  },
  {
   "cell_type": "code",
   "execution_count": 17,
   "id": "176ab5f7-d85f-4d5c-9ef3-ae7c36f21539",
   "metadata": {
    "jupyter": {
     "source_hidden": true
    },
    "tags": []
   },
   "outputs": [
    {
     "name": "stdout",
     "output_type": "stream",
     "text": [
      "In this dataset, with 6729647 elements, 30395 of them are marked as AGN.\n"
     ]
    }
   ],
   "source": [
    "n_is_AGN = np.sum(full_catalog_df.loc[:, 'is_AGN'] == 1)\n",
    "print(f'In this dataset, with {len(full_catalog_df.loc[:, \"is_AGN\"])} elements, {n_is_AGN} of them are marked as AGN.')"
   ]
  },
  {
   "cell_type": "markdown",
   "id": "6619390c-a04f-4bd0-9f97-9ca54bc9c764",
   "metadata": {
    "id": "6619390c-a04f-4bd0-9f97-9ca54bc9c764"
   },
   "source": [
    "---"
   ]
  },
  {
   "cell_type": "markdown",
   "id": "e1111608-acd0-41fd-a79d-831539eb56b9",
   "metadata": {
    "id": "e1111608-acd0-41fd-a79d-831539eb56b9"
   },
   "source": [
    "## Possible correlations"
   ]
  },
  {
   "cell_type": "code",
   "execution_count": 18,
   "id": "c5787752-376d-4409-bda6-ed1ab94bbe9b",
   "metadata": {
    "id": "c5787752-376d-4409-bda6-ed1ab94bbe9b",
    "jupyter": {
     "source_hidden": true
    },
    "outputId": "80a70466-b8d8-4390-8734-77688a25a7de",
    "tags": []
   },
   "outputs": [
    {
     "name": "stdout",
     "output_type": "stream",
     "text": [
      "['band_num', 'is_AGN', 'W1mproPM', 'W2mproPM', 'gmag', 'rmag', 'imag', 'zmag', 'ymag', 'FUVmag', 'NUVmag', 'Jmag', 'Hmag', 'Kmag', 'W1mag', 'W2mag', 'W3mag', 'W4mag', 'g_r', 'r_i', 'i_z', 'z_y', 'g_i', 'w1_w2', 'w2_w3', 'w3_w4', 'J_H', 'H_K', 'FUV_NUV', 'r/z', 'i/y', 'w1/w3', 'w1/w4', 'w2/w4', 'J/K', 'FUV/K', 'g/J', 'r/H', 'i/K', 'z/W1', 'y/W2']\n"
     ]
    }
   ],
   "source": [
    "print(full_catalog_df.columns.to_list())"
   ]
  },
  {
   "cell_type": "markdown",
   "id": "27645d12-9370-40d8-aeba-24d4415bb9eb",
   "metadata": {
    "id": "27645d12-9370-40d8-aeba-24d4415bb9eb"
   },
   "source": [
    "---"
   ]
  },
  {
   "cell_type": "markdown",
   "id": "u4vi69d_pPbd",
   "metadata": {
    "id": "u4vi69d_pPbd"
   },
   "source": [
    "## Random seed"
   ]
  },
  {
   "cell_type": "code",
   "execution_count": 19,
   "id": "8byjjVU3pOjM",
   "metadata": {
    "id": "8byjjVU3pOjM"
   },
   "outputs": [],
   "source": [
    "seed = 42"
   ]
  },
  {
   "cell_type": "markdown",
   "id": "a703c5a2",
   "metadata": {},
   "source": [
    "## Split data: Test, Train, Validation"
   ]
  },
  {
   "cell_type": "code",
   "execution_count": 20,
   "id": "2e8f8310-48c9-44ae-a998-da69fa736919",
   "metadata": {},
   "outputs": [
    {
     "name": "stdout",
     "output_type": "stream",
     "text": [
      "Shape of used data\n",
      "----------------------------------------\n",
      "Full Dataset size: (6729647, 41)\n",
      "Data for Modeling (Train and Test): (6056682, 41)\n",
      "Unseen Data For Validation: (672965, 41)\n",
      "----------------------------------------\n"
     ]
    }
   ],
   "source": [
    "# data_train_test_AGN_df = full_catalog_df.loc[np.array(full_catalog_df.loc[:, 'is_AGN'] == 1), :]  # Train + test sets\n",
    "data_train_test_AGN_df = full_catalog_df.sample(frac=0.9, random_state=seed)  # Train + test sets\n",
    "data_validation_AGN_df = full_catalog_df.drop(data_train_test_AGN_df.index)  # Validation data\n",
    "\n",
    "print('Shape of used data')\n",
    "print('-' * 40)\n",
    "print(f'Full Dataset size: {full_catalog_df.shape}')\n",
    "print(f'Data for Modeling (Train and Test): {data_train_test_AGN_df.shape}')\n",
    "print(f'Unseen Data For Validation: {data_validation_AGN_df.shape}')\n",
    "print('-' * 40)"
   ]
  },
  {
   "cell_type": "markdown",
   "id": "b1d5d457-4601-40bd-9bc3-6576c691d87d",
   "metadata": {},
   "source": [
    "---"
   ]
  },
  {
   "cell_type": "markdown",
   "id": "5033fec1-9290-49fd-a58b-e6c9e8350871",
   "metadata": {},
   "source": [
    "## Use Correlation matrix to discard some features"
   ]
  },
  {
   "cell_type": "code",
   "execution_count": 21,
   "id": "747f0c79-4353-406f-97b5-fc275f6812c8",
   "metadata": {},
   "outputs": [],
   "source": [
    "min_max_scaler              = MinMaxScaler(feature_range=(0., 1.))\n",
    "full_scaled                 = min_max_scaler.fit_transform(data_train_test_AGN_df.values)\n",
    "norm_data_train_test_AGN_df = pd.DataFrame(data=full_scaled, columns=data_train_test_AGN_df.columns, index=data_train_test_AGN_df.index)"
   ]
  },
  {
   "cell_type": "markdown",
   "id": "f058e8e1-3263-4979-aae8-d1536f0233fd",
   "metadata": {},
   "source": [
    "Calculate Reduced Standard deviation to discard between pairs of features:  \n",
    "\n",
    "$$\\mathrm{RSD} = \\frac{\\sigma}{\\mu} \\times 100$$"
   ]
  },
  {
   "cell_type": "code",
   "execution_count": 22,
   "id": "3ec89907-fec8-4897-a739-ab3f835a6b33",
   "metadata": {},
   "outputs": [],
   "source": [
    "rsd_vals = (norm_data_train_test_AGN_df.std() / norm_data_train_test_AGN_df.mean() * 100).sort_values(ascending=False)"
   ]
  },
  {
   "cell_type": "code",
   "execution_count": 23,
   "id": "a279053a-23c1-4ba1-af31-1f2a70a84ffc",
   "metadata": {},
   "outputs": [
    {
     "data": {
      "text/plain": [
       "is_AGN      1484.568180\n",
       "band_num      96.921317\n",
       "w1_w2         11.514514\n",
       "imag          10.244659\n",
       "i/K            9.798090\n",
       "zmag           9.174391\n",
       "z/W1           9.106722\n",
       "rmag           9.004916\n",
       "r/H            8.822793\n",
       "ymag           7.688826\n",
       "w1/w3          7.500195\n",
       "w1/w4          7.321475\n",
       "gmag           6.922821\n",
       "W1mproPM       6.090751\n",
       "y/W2           6.003216\n",
       "FUV/K          5.714314\n",
       "g/J            5.700751\n",
       "w2_w3          5.442239\n",
       "w2/w4          5.428985\n",
       "W1mag          5.275838\n",
       "i/y            4.751556\n",
       "W2mproPM       4.501499\n",
       "g_i            4.202821\n",
       "W2mag          4.049570\n",
       "r/z            3.584821\n",
       "z_y            3.415892\n",
       "r_i            3.329061\n",
       "Jmag           3.285824\n",
       "Hmag           3.166392\n",
       "g_r            3.122518\n",
       "i_z            3.020600\n",
       "FUV_NUV        2.965446\n",
       "Kmag           2.406068\n",
       "w3_w4          2.240411\n",
       "J/K            1.803372\n",
       "NUVmag         1.719729\n",
       "W3mag          1.633552\n",
       "H_K            1.461627\n",
       "J_H            0.936767\n",
       "W4mag          0.555059\n",
       "FUVmag         0.494752\n",
       "dtype: float64"
      ]
     },
     "execution_count": 23,
     "metadata": {},
     "output_type": "execute_result"
    }
   ],
   "source": [
    "rsd_vals"
   ]
  },
  {
   "cell_type": "code",
   "execution_count": 24,
   "id": "b86e34d9-aa3e-45b0-a825-fdd745cf0a6f",
   "metadata": {},
   "outputs": [],
   "source": [
    "correlation = norm_data_train_test_AGN_df.corr()"
   ]
  },
  {
   "cell_type": "code",
   "execution_count": 25,
   "id": "ad9e8665-7152-45af-8bc1-ba67fe1dec09",
   "metadata": {},
   "outputs": [],
   "source": [
    "filt_high_corr = np.array(correlation.abs().unstack().sort_values(ascending=False).drop_duplicates().values > 0.75) &\\\n",
    "np.array(correlation.abs().unstack().sort_values(ascending=False).drop_duplicates().values < 1.00)"
   ]
  },
  {
   "cell_type": "code",
   "execution_count": 26,
   "id": "9a9c3b24-e028-4b18-b577-90757f6ac6a8",
   "metadata": {},
   "outputs": [],
   "source": [
    "corr_pairs     = correlation.abs().unstack().sort_values(ascending=False).drop_duplicates().index[filt_high_corr]"
   ]
  },
  {
   "cell_type": "code",
   "execution_count": 27,
   "id": "199b9be5-89b1-42c6-a47d-cabd688a5645",
   "metadata": {},
   "outputs": [],
   "source": [
    "target_feat = 'is_AGN'"
   ]
  },
  {
   "cell_type": "code",
   "execution_count": 28,
   "id": "a264ec1a-79b8-4dd5-8405-af173cf62649",
   "metadata": {},
   "outputs": [],
   "source": [
    "list_drop_corr = []"
   ]
  },
  {
   "cell_type": "markdown",
   "id": "b9d49be1-930f-4620-b398-9ff63802d13f",
   "metadata": {},
   "source": [
    "We want to discard features that are highly correlated (>0.75).  \n",
    "Between two features, we will discard the one with the lowest standard deviation (RSD)."
   ]
  },
  {
   "cell_type": "code",
   "execution_count": 29,
   "id": "477787a2-f9e0-4c6b-9054-4c9c24b2ca76",
   "metadata": {
    "jupyter": {
     "source_hidden": true
    },
    "tags": []
   },
   "outputs": [],
   "source": [
    "for row in corr_pairs:\n",
    "    if target_feat in row:\n",
    "        continue\n",
    "    elif row[0] in list_drop_corr:\n",
    "        continue\n",
    "    elif row[1] in list_drop_corr:\n",
    "        continue\n",
    "    else:\n",
    "        metric_a = rsd_vals[row[0]]\n",
    "        metric_b = rsd_vals[row[1]]\n",
    "        if metric_a >= metric_b:\n",
    "            list_drop_corr.append(row[1])\n",
    "        else:\n",
    "            list_drop_corr.append(row[0])"
   ]
  },
  {
   "cell_type": "code",
   "execution_count": 30,
   "id": "448c0ecb-965d-45c5-b485-335ef66cac9f",
   "metadata": {},
   "outputs": [
    {
     "data": {
      "text/plain": [
       "['W1mproPM',\n",
       " 'W2mproPM',\n",
       " 'Hmag',\n",
       " 'w1/w4',\n",
       " 'i/K',\n",
       " 'w2/w4',\n",
       " 'NUVmag',\n",
       " 'Kmag',\n",
       " 'H_K',\n",
       " 'r/H',\n",
       " 'zmag',\n",
       " 'W3mag',\n",
       " 'W2mag',\n",
       " 'g/J',\n",
       " 'rmag',\n",
       " 'w2_w3',\n",
       " 'y/W2',\n",
       " 'Jmag',\n",
       " 'ymag',\n",
       " 'W1mag',\n",
       " 'gmag',\n",
       " 'imag',\n",
       " 'w1/w3',\n",
       " 'z_y']"
      ]
     },
     "execution_count": 30,
     "metadata": {},
     "output_type": "execute_result"
    }
   ],
   "source": [
    "list_drop_corr"
   ]
  },
  {
   "cell_type": "code",
   "execution_count": 31,
   "id": "00bd0f36-0d5d-4bb6-bb86-c0f0783e5c2e",
   "metadata": {},
   "outputs": [],
   "source": [
    "# correlation.abs().unstack().sort_values(ascending=False).drop_duplicates()[:15]"
   ]
  },
  {
   "cell_type": "code",
   "execution_count": 32,
   "id": "6c4a6747-9ac2-41a8-84a9-bfb6357672c2",
   "metadata": {},
   "outputs": [],
   "source": [
    "norm_train_test_discard = norm_data_train_test_AGN_df.drop(columns=list_drop_corr)"
   ]
  },
  {
   "cell_type": "code",
   "execution_count": 33,
   "id": "5422b138-610a-4506-9101-a2f6fb83ebc1",
   "metadata": {},
   "outputs": [],
   "source": [
    "corr_discard = norm_train_test_discard.corr()"
   ]
  },
  {
   "cell_type": "code",
   "execution_count": 34,
   "id": "241c4494-f9be-462e-bde6-985cf64b257f",
   "metadata": {},
   "outputs": [
    {
     "data": {
      "text/plain": [
       "band_num  band_num    1.000000\n",
       "g_r       g_i         0.741976\n",
       "i/y       i_z         0.696228\n",
       "J/K       J_H         0.691816\n",
       "g_i       r_i         0.690341\n",
       "band_num  w1_w2       0.674938\n",
       "FUV/K     J/K         0.631667\n",
       "z/W1      band_num    0.627424\n",
       "i/y       g_i         0.625818\n",
       "r/z       r_i         0.624502\n",
       "band_num  g_i         0.565721\n",
       "          i/y         0.560653\n",
       "FUV/K     FUV_NUV     0.528009\n",
       "i_z       g_i         0.509997\n",
       "FUV/K     w3_w4       0.504258\n",
       "dtype: float64"
      ]
     },
     "execution_count": 34,
     "metadata": {},
     "output_type": "execute_result"
    }
   ],
   "source": [
    "corr_discard.abs().unstack().sort_values(ascending=False).drop_duplicates()[:15]"
   ]
  },
  {
   "cell_type": "code",
   "execution_count": 35,
   "id": "dd35a1bf-b365-4f75-8d1e-27b9e4b7c828",
   "metadata": {
    "jupyter": {
     "source_hidden": true
    },
    "tags": []
   },
   "outputs": [
    {
     "data": {
      "text/plain": [
       "Text(1049.9166666666667, 0.5, 'feature')"
      ]
     },
     "execution_count": 35,
     "metadata": {},
     "output_type": "execute_result"
    },
    {
     "data": {
      "image/png": "[encoded data removed]",
      "text/plain": [
       "<Figure size 3000x1500 with 2 Axes>"
      ]
     },
     "metadata": {},
     "output_type": "display_data"
    }
   ],
   "source": [
    "plt.figure(figsize=(30,15))\n",
    "sns.set_context('paper', rc={'axes.labelsize':20, 'axes.ticklabelsize':14})\n",
    "ax1 = sns.heatmap(corr_discard, annot=True, cmap=plt.get_cmap('cet_CET_D1A'), center=0.0, square=True)\n",
    "ax1.set_xlabel('feature')\n",
    "ax1.set_ylabel('feature')"
   ]
  },
  {
   "cell_type": "code",
   "execution_count": 36,
   "id": "5f15bc56-cc98-4f7d-b193-8f5a04e6c976",
   "metadata": {},
   "outputs": [],
   "source": [
    "norm_train_test_discard.loc[:, 'is_AGN'] = norm_train_test_discard.loc[:, 'is_AGN'].astype(bool)"
   ]
  },
  {
   "cell_type": "code",
   "execution_count": 37,
   "id": "e4c72849-3867-4be7-bcb0-1fd867f48e22",
   "metadata": {},
   "outputs": [],
   "source": [
    "pps_matrix = pps.matrix(norm_train_test_discard, random_seed=seed)[['x', 'y', 'ppscore']].pivot(columns='x', index='y', values='ppscore')"
   ]
  },
  {
   "cell_type": "code",
   "execution_count": 38,
   "id": "a1433261-2a7b-42d5-b358-1caec64b3866",
   "metadata": {},
   "outputs": [
    {
     "data": {
      "text/plain": [
       "x         y       \n",
       "FUV/K     FUV/K       1.000000\n",
       "g_i       i/y         0.586456\n",
       "i_z       i/y         0.576010\n",
       "r_i       i/y         0.568685\n",
       "          g_i         0.555609\n",
       "band_num  i/y         0.523532\n",
       "          g_i         0.506684\n",
       "i_z       g_i         0.477340\n",
       "i/y       g_i         0.466337\n",
       "r/z       i/y         0.442506\n",
       "J_H       J/K         0.436112\n",
       "r/z       g_i         0.398263\n",
       "g_r       g_i         0.373952\n",
       "band_num  z/W1        0.361820\n",
       "          i_z         0.353687\n",
       "r/z       r_i         0.335130\n",
       "          i_z         0.323917\n",
       "z/W1      band_num    0.319025\n",
       "band_num  g_r         0.298379\n",
       "z/W1      w1_w2       0.295202\n",
       "dtype: float64"
      ]
     },
     "execution_count": 38,
     "metadata": {},
     "output_type": "execute_result"
    }
   ],
   "source": [
    "pps_matrix.unstack().sort_values(ascending=False).drop_duplicates()[:20]"
   ]
  },
  {
   "cell_type": "code",
   "execution_count": 39,
   "id": "0a16ec24-f1ce-4f3e-b4a6-1702f58ab104",
   "metadata": {},
   "outputs": [],
   "source": [
    "filt_high_pps = np.array(pps_matrix.abs().unstack().sort_values(ascending=False).drop_duplicates().values > 0.75) &\\\n",
    "np.array(pps_matrix.abs().unstack().sort_values(ascending=False).drop_duplicates().values < 1.00)"
   ]
  },
  {
   "cell_type": "code",
   "execution_count": 40,
   "id": "cff5a20e-9902-42d2-9ffb-ffd84e86ef1a",
   "metadata": {},
   "outputs": [],
   "source": [
    "pps_pairs     = pps_matrix.abs().unstack().sort_values(ascending=False).drop_duplicates().index[filt_high_pps]"
   ]
  },
  {
   "cell_type": "code",
   "execution_count": 41,
   "id": "7368e02d-c98b-45f4-a51d-ae2f47ae2d1f",
   "metadata": {},
   "outputs": [],
   "source": [
    "target_feat = 'is_AGN'"
   ]
  },
  {
   "cell_type": "code",
   "execution_count": 42,
   "id": "b978c4d6-f8d3-40c6-8a3c-c21a32780749",
   "metadata": {
    "jupyter": {
     "source_hidden": true
    },
    "tags": []
   },
   "outputs": [],
   "source": [
    "list_drop_pps = []"
   ]
  },
  {
   "cell_type": "code",
   "execution_count": 43,
   "id": "442a5dc2-ed13-404d-8039-a44ee41171d6",
   "metadata": {
    "jupyter": {
     "source_hidden": true
    },
    "tags": []
   },
   "outputs": [],
   "source": [
    "for row in pps_pairs:\n",
    "    if target_feat in row:\n",
    "        continue\n",
    "    elif row[0] in list_drop_pps:\n",
    "        continue\n",
    "    elif row[1] in list_drop_pps:\n",
    "        continue\n",
    "    else:\n",
    "        metric_a = rsd_vals[row[0]]\n",
    "        metric_b = rsd_vals[row[1]]\n",
    "        if metric_a >= metric_b:\n",
    "            list_drop_pps.append(row[1])\n",
    "        else:\n",
    "            list_drop_pps.append(row[0])"
   ]
  },
  {
   "cell_type": "code",
   "execution_count": 44,
   "id": "30c24a4d-c155-4914-a7f8-865b454ba50e",
   "metadata": {},
   "outputs": [
    {
     "data": {
      "text/plain": [
       "[]"
      ]
     },
     "execution_count": 44,
     "metadata": {},
     "output_type": "execute_result"
    }
   ],
   "source": [
    "list_drop_pps"
   ]
  },
  {
   "cell_type": "code",
   "execution_count": 45,
   "id": "75faecb9-b716-4de6-a7d2-8a2b718c41e3",
   "metadata": {},
   "outputs": [],
   "source": [
    "norm_train_test_discard = norm_train_test_discard.drop(columns=list_drop_pps)"
   ]
  },
  {
   "cell_type": "code",
   "execution_count": 46,
   "id": "e5c322eb-c315-48f4-8d7c-6184a89f6ab5",
   "metadata": {},
   "outputs": [],
   "source": [
    "pps_pred_target = pps.predictors(norm_train_test_discard, 'is_AGN', random_seed=seed)"
   ]
  },
  {
   "cell_type": "code",
   "execution_count": 47,
   "id": "bbd71c5c-4711-4569-84c8-4563547d249e",
   "metadata": {},
   "outputs": [
    {
     "data": {
      "text/html": [
       "<div>\n",
       "<style scoped>\n",
       "    .dataframe tbody tr th:only-of-type {\n",
       "        vertical-align: middle;\n",
       "    }\n",
       "\n",
       "    .dataframe tbody tr th {\n",
       "        vertical-align: top;\n",
       "    }\n",
       "\n",
       "    .dataframe thead th {\n",
       "        text-align: right;\n",
       "    }\n",
       "</style>\n",
       "<table border=\"1\" class=\"dataframe\">\n",
       "  <thead>\n",
       "    <tr style=\"text-align: right;\">\n",
       "      <th></th>\n",
       "      <th>x</th>\n",
       "      <th>y</th>\n",
       "      <th>ppscore</th>\n",
       "      <th>case</th>\n",
       "      <th>is_valid_score</th>\n",
       "      <th>metric</th>\n",
       "      <th>baseline_score</th>\n",
       "      <th>model_score</th>\n",
       "      <th>model</th>\n",
       "    </tr>\n",
       "  </thead>\n",
       "  <tbody>\n",
       "    <tr>\n",
       "      <th>0</th>\n",
       "      <td>band_num</td>\n",
       "      <td>is_AGN</td>\n",
       "      <td>0.000004</td>\n",
       "      <td>classification</td>\n",
       "      <td>True</td>\n",
       "      <td>weighted F1</td>\n",
       "      <td>0.993105</td>\n",
       "      <td>0.993105</td>\n",
       "      <td>DecisionTreeClassifier()</td>\n",
       "    </tr>\n",
       "    <tr>\n",
       "      <th>1</th>\n",
       "      <td>FUVmag</td>\n",
       "      <td>is_AGN</td>\n",
       "      <td>0.000004</td>\n",
       "      <td>classification</td>\n",
       "      <td>True</td>\n",
       "      <td>weighted F1</td>\n",
       "      <td>0.993105</td>\n",
       "      <td>0.993105</td>\n",
       "      <td>DecisionTreeClassifier()</td>\n",
       "    </tr>\n",
       "    <tr>\n",
       "      <th>2</th>\n",
       "      <td>W4mag</td>\n",
       "      <td>is_AGN</td>\n",
       "      <td>0.000004</td>\n",
       "      <td>classification</td>\n",
       "      <td>True</td>\n",
       "      <td>weighted F1</td>\n",
       "      <td>0.993105</td>\n",
       "      <td>0.993105</td>\n",
       "      <td>DecisionTreeClassifier()</td>\n",
       "    </tr>\n",
       "    <tr>\n",
       "      <th>3</th>\n",
       "      <td>J_H</td>\n",
       "      <td>is_AGN</td>\n",
       "      <td>0.000004</td>\n",
       "      <td>classification</td>\n",
       "      <td>True</td>\n",
       "      <td>weighted F1</td>\n",
       "      <td>0.993105</td>\n",
       "      <td>0.993105</td>\n",
       "      <td>DecisionTreeClassifier()</td>\n",
       "    </tr>\n",
       "    <tr>\n",
       "      <th>4</th>\n",
       "      <td>J/K</td>\n",
       "      <td>is_AGN</td>\n",
       "      <td>0.000004</td>\n",
       "      <td>classification</td>\n",
       "      <td>True</td>\n",
       "      <td>weighted F1</td>\n",
       "      <td>0.993105</td>\n",
       "      <td>0.993105</td>\n",
       "      <td>DecisionTreeClassifier()</td>\n",
       "    </tr>\n",
       "    <tr>\n",
       "      <th>5</th>\n",
       "      <td>FUV/K</td>\n",
       "      <td>is_AGN</td>\n",
       "      <td>0.000004</td>\n",
       "      <td>classification</td>\n",
       "      <td>True</td>\n",
       "      <td>weighted F1</td>\n",
       "      <td>0.993105</td>\n",
       "      <td>0.993105</td>\n",
       "      <td>DecisionTreeClassifier()</td>\n",
       "    </tr>\n",
       "    <tr>\n",
       "      <th>6</th>\n",
       "      <td>g_r</td>\n",
       "      <td>is_AGN</td>\n",
       "      <td>0.000000</td>\n",
       "      <td>classification</td>\n",
       "      <td>True</td>\n",
       "      <td>weighted F1</td>\n",
       "      <td>0.993105</td>\n",
       "      <td>0.991974</td>\n",
       "      <td>DecisionTreeClassifier()</td>\n",
       "    </tr>\n",
       "    <tr>\n",
       "      <th>7</th>\n",
       "      <td>r_i</td>\n",
       "      <td>is_AGN</td>\n",
       "      <td>0.000000</td>\n",
       "      <td>classification</td>\n",
       "      <td>True</td>\n",
       "      <td>weighted F1</td>\n",
       "      <td>0.993105</td>\n",
       "      <td>0.991200</td>\n",
       "      <td>DecisionTreeClassifier()</td>\n",
       "    </tr>\n",
       "    <tr>\n",
       "      <th>8</th>\n",
       "      <td>i_z</td>\n",
       "      <td>is_AGN</td>\n",
       "      <td>0.000000</td>\n",
       "      <td>classification</td>\n",
       "      <td>True</td>\n",
       "      <td>weighted F1</td>\n",
       "      <td>0.993105</td>\n",
       "      <td>0.990900</td>\n",
       "      <td>DecisionTreeClassifier()</td>\n",
       "    </tr>\n",
       "    <tr>\n",
       "      <th>9</th>\n",
       "      <td>g_i</td>\n",
       "      <td>is_AGN</td>\n",
       "      <td>0.000000</td>\n",
       "      <td>classification</td>\n",
       "      <td>True</td>\n",
       "      <td>weighted F1</td>\n",
       "      <td>0.993105</td>\n",
       "      <td>0.991502</td>\n",
       "      <td>DecisionTreeClassifier()</td>\n",
       "    </tr>\n",
       "    <tr>\n",
       "      <th>10</th>\n",
       "      <td>w1_w2</td>\n",
       "      <td>is_AGN</td>\n",
       "      <td>0.000000</td>\n",
       "      <td>classification</td>\n",
       "      <td>True</td>\n",
       "      <td>weighted F1</td>\n",
       "      <td>0.993105</td>\n",
       "      <td>0.992147</td>\n",
       "      <td>DecisionTreeClassifier()</td>\n",
       "    </tr>\n",
       "    <tr>\n",
       "      <th>11</th>\n",
       "      <td>w3_w4</td>\n",
       "      <td>is_AGN</td>\n",
       "      <td>0.000000</td>\n",
       "      <td>classification</td>\n",
       "      <td>True</td>\n",
       "      <td>weighted F1</td>\n",
       "      <td>0.993105</td>\n",
       "      <td>0.992805</td>\n",
       "      <td>DecisionTreeClassifier()</td>\n",
       "    </tr>\n",
       "    <tr>\n",
       "      <th>12</th>\n",
       "      <td>FUV_NUV</td>\n",
       "      <td>is_AGN</td>\n",
       "      <td>0.000000</td>\n",
       "      <td>classification</td>\n",
       "      <td>True</td>\n",
       "      <td>weighted F1</td>\n",
       "      <td>0.993105</td>\n",
       "      <td>0.993005</td>\n",
       "      <td>DecisionTreeClassifier()</td>\n",
       "    </tr>\n",
       "    <tr>\n",
       "      <th>13</th>\n",
       "      <td>r/z</td>\n",
       "      <td>is_AGN</td>\n",
       "      <td>0.000000</td>\n",
       "      <td>classification</td>\n",
       "      <td>True</td>\n",
       "      <td>weighted F1</td>\n",
       "      <td>0.993105</td>\n",
       "      <td>0.991000</td>\n",
       "      <td>DecisionTreeClassifier()</td>\n",
       "    </tr>\n",
       "    <tr>\n",
       "      <th>14</th>\n",
       "      <td>i/y</td>\n",
       "      <td>is_AGN</td>\n",
       "      <td>0.000000</td>\n",
       "      <td>classification</td>\n",
       "      <td>True</td>\n",
       "      <td>weighted F1</td>\n",
       "      <td>0.993105</td>\n",
       "      <td>0.991000</td>\n",
       "      <td>DecisionTreeClassifier()</td>\n",
       "    </tr>\n",
       "    <tr>\n",
       "      <th>15</th>\n",
       "      <td>z/W1</td>\n",
       "      <td>is_AGN</td>\n",
       "      <td>0.000000</td>\n",
       "      <td>classification</td>\n",
       "      <td>True</td>\n",
       "      <td>weighted F1</td>\n",
       "      <td>0.993105</td>\n",
       "      <td>0.989995</td>\n",
       "      <td>DecisionTreeClassifier()</td>\n",
       "    </tr>\n",
       "  </tbody>\n",
       "</table>\n",
       "</div>"
      ],
      "text/plain": [
       "           x       y   ppscore            case  is_valid_score       metric  \\\n",
       "0   band_num  is_AGN  0.000004  classification            True  weighted F1   \n",
       "1     FUVmag  is_AGN  0.000004  classification            True  weighted F1   \n",
       "2      W4mag  is_AGN  0.000004  classification            True  weighted F1   \n",
       "3        J_H  is_AGN  0.000004  classification            True  weighted F1   \n",
       "4        J/K  is_AGN  0.000004  classification            True  weighted F1   \n",
       "5      FUV/K  is_AGN  0.000004  classification            True  weighted F1   \n",
       "6        g_r  is_AGN  0.000000  classification            True  weighted F1   \n",
       "7        r_i  is_AGN  0.000000  classification            True  weighted F1   \n",
       "8        i_z  is_AGN  0.000000  classification            True  weighted F1   \n",
       "9        g_i  is_AGN  0.000000  classification            True  weighted F1   \n",
       "10     w1_w2  is_AGN  0.000000  classification            True  weighted F1   \n",
       "11     w3_w4  is_AGN  0.000000  classification            True  weighted F1   \n",
       "12   FUV_NUV  is_AGN  0.000000  classification            True  weighted F1   \n",
       "13       r/z  is_AGN  0.000000  classification            True  weighted F1   \n",
       "14       i/y  is_AGN  0.000000  classification            True  weighted F1   \n",
       "15      z/W1  is_AGN  0.000000  classification            True  weighted F1   \n",
       "\n",
       "    baseline_score  model_score                     model  \n",
       "0         0.993105     0.993105  DecisionTreeClassifier()  \n",
       "1         0.993105     0.993105  DecisionTreeClassifier()  \n",
       "2         0.993105     0.993105  DecisionTreeClassifier()  \n",
       "3         0.993105     0.993105  DecisionTreeClassifier()  \n",
       "4         0.993105     0.993105  DecisionTreeClassifier()  \n",
       "5         0.993105     0.993105  DecisionTreeClassifier()  \n",
       "6         0.993105     0.991974  DecisionTreeClassifier()  \n",
       "7         0.993105     0.991200  DecisionTreeClassifier()  \n",
       "8         0.993105     0.990900  DecisionTreeClassifier()  \n",
       "9         0.993105     0.991502  DecisionTreeClassifier()  \n",
       "10        0.993105     0.992147  DecisionTreeClassifier()  \n",
       "11        0.993105     0.992805  DecisionTreeClassifier()  \n",
       "12        0.993105     0.993005  DecisionTreeClassifier()  \n",
       "13        0.993105     0.991000  DecisionTreeClassifier()  \n",
       "14        0.993105     0.991000  DecisionTreeClassifier()  \n",
       "15        0.993105     0.989995  DecisionTreeClassifier()  "
      ]
     },
     "execution_count": 47,
     "metadata": {},
     "output_type": "execute_result"
    }
   ],
   "source": [
    "pps_pred_target"
   ]
  },
  {
   "cell_type": "markdown",
   "id": "f567638a-2720-4d09-8fc4-0832c0307148",
   "metadata": {
    "id": "f567638a-2720-4d09-8fc4-0832c0307148"
   },
   "source": [
    "---"
   ]
  },
  {
   "cell_type": "markdown",
   "id": "1b55b413-36ea-4c3a-b261-ae4f4b71045d",
   "metadata": {
    "id": "1b55b413-36ea-4c3a-b261-ae4f4b71045d"
   },
   "source": [
    "## Use Machine Learning (ML): PyCaret"
   ]
  },
  {
   "cell_type": "markdown",
   "id": "8BFUMLcApfnI",
   "metadata": {
    "id": "8BFUMLcApfnI"
   },
   "source": [
    "## Train Models"
   ]
  },
  {
   "cell_type": "markdown",
   "id": "L0rK_gTcprFK",
   "metadata": {
    "id": "L0rK_gTcprFK"
   },
   "source": [
    "### AGN Detection Prediction"
   ]
  },
  {
   "cell_type": "code",
   "execution_count": 48,
   "id": "94b66e0c-55e6-45b2-bd2c-1cec5d314dac",
   "metadata": {},
   "outputs": [],
   "source": [
    "# final_feats = pps_pred_target.x.to_list()  # Before Boruta\n",
    "if mqc_version == '7_2':\n",
    "    final_feats = ['band_num', 'W4mag', 'g_r', 'r_i', 'i_z', 'g_i', 'w1_w2',\\\n",
    "                   'w3_w4', 'J_H', 'FUV_NUV', 'r/z', 'i/y', 'J/K', 'FUV/K']  # After Boruta\n",
    "if mqc_version == '7_4d':\n",
    "    final_feats = ['band_num', 'FUVmag', 'W4mag', 'g_r', 'r_i', 'i_z',\\\n",
    "                   'g_i', 'w1_w2', 'w3_w4', 'J_H', 'FUV_NUV', 'r/z',\\\n",
    "                   'i/y', 'J/K', 'FUV/K', 'z/W1']  # After Boruta"
   ]
  },
  {
   "cell_type": "code",
   "execution_count": 49,
   "id": "a292350f-59de-44db-bd52-e3fcf1bdb8eb",
   "metadata": {},
   "outputs": [],
   "source": [
    "if mqc_version == '7_2':\n",
    "    feats_2_discard = list_drop_corr + list_drop_pps + ['FUVmag']\n",
    "if mqc_version == '7_4d':\n",
    "    feats_2_discard = list_drop_corr + list_drop_pps\n",
    "# final_feats.remove()  # After Boruta"
   ]
  },
  {
   "cell_type": "markdown",
   "id": "0f7d88e5-8206-4705-a4a9-17ac9e87a75c",
   "metadata": {},
   "source": [
    "Boruta discards one feature."
   ]
  },
  {
   "cell_type": "code",
   "execution_count": 50,
   "id": "ttLEcpmVst4j",
   "metadata": {
    "id": "ttLEcpmVst4j"
   },
   "outputs": [
    {
     "data": {
      "text/html": [
       "<style  type=\"text/css\" >\n",
       "#T_3b00d_row29_col1,#T_3b00d_row31_col1,#T_3b00d_row44_col1{\n",
       "            background-color:  lightgreen;\n",
       "        }</style><table id=\"T_3b00d_\" ><thead>    <tr>        <th class=\"blank level0\" ></th>        <th class=\"col_heading level0 col0\" >Description</th>        <th class=\"col_heading level0 col1\" >Value</th>    </tr></thead><tbody>\n",
       "                <tr>\n",
       "                        <th id=\"T_3b00d_level0_row0\" class=\"row_heading level0 row0\" >0</th>\n",
       "                        <td id=\"T_3b00d_row0_col0\" class=\"data row0 col0\" >session_id</td>\n",
       "                        <td id=\"T_3b00d_row0_col1\" class=\"data row0 col1\" >42</td>\n",
       "            </tr>\n",
       "            <tr>\n",
       "                        <th id=\"T_3b00d_level0_row1\" class=\"row_heading level0 row1\" >1</th>\n",
       "                        <td id=\"T_3b00d_row1_col0\" class=\"data row1 col0\" >Target</td>\n",
       "                        <td id=\"T_3b00d_row1_col1\" class=\"data row1 col1\" >is_AGN</td>\n",
       "            </tr>\n",
       "            <tr>\n",
       "                        <th id=\"T_3b00d_level0_row2\" class=\"row_heading level0 row2\" >2</th>\n",
       "                        <td id=\"T_3b00d_row2_col0\" class=\"data row2 col0\" >Target Type</td>\n",
       "                        <td id=\"T_3b00d_row2_col1\" class=\"data row2 col1\" >Binary</td>\n",
       "            </tr>\n",
       "            <tr>\n",
       "                        <th id=\"T_3b00d_level0_row3\" class=\"row_heading level0 row3\" >3</th>\n",
       "                        <td id=\"T_3b00d_row3_col0\" class=\"data row3 col0\" >Label Encoded</td>\n",
       "                        <td id=\"T_3b00d_row3_col1\" class=\"data row3 col1\" >None</td>\n",
       "            </tr>\n",
       "            <tr>\n",
       "                        <th id=\"T_3b00d_level0_row4\" class=\"row_heading level0 row4\" >4</th>\n",
       "                        <td id=\"T_3b00d_row4_col0\" class=\"data row4 col0\" >Original Data</td>\n",
       "                        <td id=\"T_3b00d_row4_col1\" class=\"data row4 col1\" >(6056682, 41)</td>\n",
       "            </tr>\n",
       "            <tr>\n",
       "                        <th id=\"T_3b00d_level0_row5\" class=\"row_heading level0 row5\" >5</th>\n",
       "                        <td id=\"T_3b00d_row5_col0\" class=\"data row5 col0\" >Missing Values</td>\n",
       "                        <td id=\"T_3b00d_row5_col1\" class=\"data row5 col1\" >False</td>\n",
       "            </tr>\n",
       "            <tr>\n",
       "                        <th id=\"T_3b00d_level0_row6\" class=\"row_heading level0 row6\" >6</th>\n",
       "                        <td id=\"T_3b00d_row6_col0\" class=\"data row6 col0\" >Numeric Features</td>\n",
       "                        <td id=\"T_3b00d_row6_col1\" class=\"data row6 col1\" >16</td>\n",
       "            </tr>\n",
       "            <tr>\n",
       "                        <th id=\"T_3b00d_level0_row7\" class=\"row_heading level0 row7\" >7</th>\n",
       "                        <td id=\"T_3b00d_row7_col0\" class=\"data row7 col0\" >Categorical Features</td>\n",
       "                        <td id=\"T_3b00d_row7_col1\" class=\"data row7 col1\" >0</td>\n",
       "            </tr>\n",
       "            <tr>\n",
       "                        <th id=\"T_3b00d_level0_row8\" class=\"row_heading level0 row8\" >8</th>\n",
       "                        <td id=\"T_3b00d_row8_col0\" class=\"data row8 col0\" >Ordinal Features</td>\n",
       "                        <td id=\"T_3b00d_row8_col1\" class=\"data row8 col1\" >False</td>\n",
       "            </tr>\n",
       "            <tr>\n",
       "                        <th id=\"T_3b00d_level0_row9\" class=\"row_heading level0 row9\" >9</th>\n",
       "                        <td id=\"T_3b00d_row9_col0\" class=\"data row9 col0\" >High Cardinality Features</td>\n",
       "                        <td id=\"T_3b00d_row9_col1\" class=\"data row9 col1\" >False</td>\n",
       "            </tr>\n",
       "            <tr>\n",
       "                        <th id=\"T_3b00d_level0_row10\" class=\"row_heading level0 row10\" >10</th>\n",
       "                        <td id=\"T_3b00d_row10_col0\" class=\"data row10 col0\" >High Cardinality Method</td>\n",
       "                        <td id=\"T_3b00d_row10_col1\" class=\"data row10 col1\" >None</td>\n",
       "            </tr>\n",
       "            <tr>\n",
       "                        <th id=\"T_3b00d_level0_row11\" class=\"row_heading level0 row11\" >11</th>\n",
       "                        <td id=\"T_3b00d_row11_col0\" class=\"data row11 col0\" >Transformed Train Set</td>\n",
       "                        <td id=\"T_3b00d_row11_col1\" class=\"data row11 col1\" >(4239677, 16)</td>\n",
       "            </tr>\n",
       "            <tr>\n",
       "                        <th id=\"T_3b00d_level0_row12\" class=\"row_heading level0 row12\" >12</th>\n",
       "                        <td id=\"T_3b00d_row12_col0\" class=\"data row12 col0\" >Transformed Test Set</td>\n",
       "                        <td id=\"T_3b00d_row12_col1\" class=\"data row12 col1\" >(1817005, 16)</td>\n",
       "            </tr>\n",
       "            <tr>\n",
       "                        <th id=\"T_3b00d_level0_row13\" class=\"row_heading level0 row13\" >13</th>\n",
       "                        <td id=\"T_3b00d_row13_col0\" class=\"data row13 col0\" >Shuffle Train-Test</td>\n",
       "                        <td id=\"T_3b00d_row13_col1\" class=\"data row13 col1\" >True</td>\n",
       "            </tr>\n",
       "            <tr>\n",
       "                        <th id=\"T_3b00d_level0_row14\" class=\"row_heading level0 row14\" >14</th>\n",
       "                        <td id=\"T_3b00d_row14_col0\" class=\"data row14 col0\" >Stratify Train-Test</td>\n",
       "                        <td id=\"T_3b00d_row14_col1\" class=\"data row14 col1\" >False</td>\n",
       "            </tr>\n",
       "            <tr>\n",
       "                        <th id=\"T_3b00d_level0_row15\" class=\"row_heading level0 row15\" >15</th>\n",
       "                        <td id=\"T_3b00d_row15_col0\" class=\"data row15 col0\" >Fold Generator</td>\n",
       "                        <td id=\"T_3b00d_row15_col1\" class=\"data row15 col1\" >StratifiedKFold</td>\n",
       "            </tr>\n",
       "            <tr>\n",
       "                        <th id=\"T_3b00d_level0_row16\" class=\"row_heading level0 row16\" >16</th>\n",
       "                        <td id=\"T_3b00d_row16_col0\" class=\"data row16 col0\" >Fold Number</td>\n",
       "                        <td id=\"T_3b00d_row16_col1\" class=\"data row16 col1\" >10</td>\n",
       "            </tr>\n",
       "            <tr>\n",
       "                        <th id=\"T_3b00d_level0_row17\" class=\"row_heading level0 row17\" >17</th>\n",
       "                        <td id=\"T_3b00d_row17_col0\" class=\"data row17 col0\" >CPU Jobs</td>\n",
       "                        <td id=\"T_3b00d_row17_col1\" class=\"data row17 col1\" >12</td>\n",
       "            </tr>\n",
       "            <tr>\n",
       "                        <th id=\"T_3b00d_level0_row18\" class=\"row_heading level0 row18\" >18</th>\n",
       "                        <td id=\"T_3b00d_row18_col0\" class=\"data row18 col0\" >Use GPU</td>\n",
       "                        <td id=\"T_3b00d_row18_col1\" class=\"data row18 col1\" >False</td>\n",
       "            </tr>\n",
       "            <tr>\n",
       "                        <th id=\"T_3b00d_level0_row19\" class=\"row_heading level0 row19\" >19</th>\n",
       "                        <td id=\"T_3b00d_row19_col0\" class=\"data row19 col0\" >Log Experiment</td>\n",
       "                        <td id=\"T_3b00d_row19_col1\" class=\"data row19 col1\" >False</td>\n",
       "            </tr>\n",
       "            <tr>\n",
       "                        <th id=\"T_3b00d_level0_row20\" class=\"row_heading level0 row20\" >20</th>\n",
       "                        <td id=\"T_3b00d_row20_col0\" class=\"data row20 col0\" >Experiment Name</td>\n",
       "                        <td id=\"T_3b00d_row20_col1\" class=\"data row20 col1\" >clf-default-name</td>\n",
       "            </tr>\n",
       "            <tr>\n",
       "                        <th id=\"T_3b00d_level0_row21\" class=\"row_heading level0 row21\" >21</th>\n",
       "                        <td id=\"T_3b00d_row21_col0\" class=\"data row21 col0\" >USI</td>\n",
       "                        <td id=\"T_3b00d_row21_col1\" class=\"data row21 col1\" >d8f6</td>\n",
       "            </tr>\n",
       "            <tr>\n",
       "                        <th id=\"T_3b00d_level0_row22\" class=\"row_heading level0 row22\" >22</th>\n",
       "                        <td id=\"T_3b00d_row22_col0\" class=\"data row22 col0\" >Imputation Type</td>\n",
       "                        <td id=\"T_3b00d_row22_col1\" class=\"data row22 col1\" >simple</td>\n",
       "            </tr>\n",
       "            <tr>\n",
       "                        <th id=\"T_3b00d_level0_row23\" class=\"row_heading level0 row23\" >23</th>\n",
       "                        <td id=\"T_3b00d_row23_col0\" class=\"data row23 col0\" >Iterative Imputation Iteration</td>\n",
       "                        <td id=\"T_3b00d_row23_col1\" class=\"data row23 col1\" >None</td>\n",
       "            </tr>\n",
       "            <tr>\n",
       "                        <th id=\"T_3b00d_level0_row24\" class=\"row_heading level0 row24\" >24</th>\n",
       "                        <td id=\"T_3b00d_row24_col0\" class=\"data row24 col0\" >Numeric Imputer</td>\n",
       "                        <td id=\"T_3b00d_row24_col1\" class=\"data row24 col1\" >mean</td>\n",
       "            </tr>\n",
       "            <tr>\n",
       "                        <th id=\"T_3b00d_level0_row25\" class=\"row_heading level0 row25\" >25</th>\n",
       "                        <td id=\"T_3b00d_row25_col0\" class=\"data row25 col0\" >Iterative Imputation Numeric Model</td>\n",
       "                        <td id=\"T_3b00d_row25_col1\" class=\"data row25 col1\" >None</td>\n",
       "            </tr>\n",
       "            <tr>\n",
       "                        <th id=\"T_3b00d_level0_row26\" class=\"row_heading level0 row26\" >26</th>\n",
       "                        <td id=\"T_3b00d_row26_col0\" class=\"data row26 col0\" >Categorical Imputer</td>\n",
       "                        <td id=\"T_3b00d_row26_col1\" class=\"data row26 col1\" >constant</td>\n",
       "            </tr>\n",
       "            <tr>\n",
       "                        <th id=\"T_3b00d_level0_row27\" class=\"row_heading level0 row27\" >27</th>\n",
       "                        <td id=\"T_3b00d_row27_col0\" class=\"data row27 col0\" >Iterative Imputation Categorical Model</td>\n",
       "                        <td id=\"T_3b00d_row27_col1\" class=\"data row27 col1\" >None</td>\n",
       "            </tr>\n",
       "            <tr>\n",
       "                        <th id=\"T_3b00d_level0_row28\" class=\"row_heading level0 row28\" >28</th>\n",
       "                        <td id=\"T_3b00d_row28_col0\" class=\"data row28 col0\" >Unknown Categoricals Handling</td>\n",
       "                        <td id=\"T_3b00d_row28_col1\" class=\"data row28 col1\" >least_frequent</td>\n",
       "            </tr>\n",
       "            <tr>\n",
       "                        <th id=\"T_3b00d_level0_row29\" class=\"row_heading level0 row29\" >29</th>\n",
       "                        <td id=\"T_3b00d_row29_col0\" class=\"data row29 col0\" >Normalize</td>\n",
       "                        <td id=\"T_3b00d_row29_col1\" class=\"data row29 col1\" >True</td>\n",
       "            </tr>\n",
       "            <tr>\n",
       "                        <th id=\"T_3b00d_level0_row30\" class=\"row_heading level0 row30\" >30</th>\n",
       "                        <td id=\"T_3b00d_row30_col0\" class=\"data row30 col0\" >Normalize Method</td>\n",
       "                        <td id=\"T_3b00d_row30_col1\" class=\"data row30 col1\" >zscore</td>\n",
       "            </tr>\n",
       "            <tr>\n",
       "                        <th id=\"T_3b00d_level0_row31\" class=\"row_heading level0 row31\" >31</th>\n",
       "                        <td id=\"T_3b00d_row31_col0\" class=\"data row31 col0\" >Transformation</td>\n",
       "                        <td id=\"T_3b00d_row31_col1\" class=\"data row31 col1\" >True</td>\n",
       "            </tr>\n",
       "            <tr>\n",
       "                        <th id=\"T_3b00d_level0_row32\" class=\"row_heading level0 row32\" >32</th>\n",
       "                        <td id=\"T_3b00d_row32_col0\" class=\"data row32 col0\" >Transformation Method</td>\n",
       "                        <td id=\"T_3b00d_row32_col1\" class=\"data row32 col1\" >yeo-johnson</td>\n",
       "            </tr>\n",
       "            <tr>\n",
       "                        <th id=\"T_3b00d_level0_row33\" class=\"row_heading level0 row33\" >33</th>\n",
       "                        <td id=\"T_3b00d_row33_col0\" class=\"data row33 col0\" >PCA</td>\n",
       "                        <td id=\"T_3b00d_row33_col1\" class=\"data row33 col1\" >False</td>\n",
       "            </tr>\n",
       "            <tr>\n",
       "                        <th id=\"T_3b00d_level0_row34\" class=\"row_heading level0 row34\" >34</th>\n",
       "                        <td id=\"T_3b00d_row34_col0\" class=\"data row34 col0\" >PCA Method</td>\n",
       "                        <td id=\"T_3b00d_row34_col1\" class=\"data row34 col1\" >None</td>\n",
       "            </tr>\n",
       "            <tr>\n",
       "                        <th id=\"T_3b00d_level0_row35\" class=\"row_heading level0 row35\" >35</th>\n",
       "                        <td id=\"T_3b00d_row35_col0\" class=\"data row35 col0\" >PCA Components</td>\n",
       "                        <td id=\"T_3b00d_row35_col1\" class=\"data row35 col1\" >None</td>\n",
       "            </tr>\n",
       "            <tr>\n",
       "                        <th id=\"T_3b00d_level0_row36\" class=\"row_heading level0 row36\" >36</th>\n",
       "                        <td id=\"T_3b00d_row36_col0\" class=\"data row36 col0\" >Ignore Low Variance</td>\n",
       "                        <td id=\"T_3b00d_row36_col1\" class=\"data row36 col1\" >False</td>\n",
       "            </tr>\n",
       "            <tr>\n",
       "                        <th id=\"T_3b00d_level0_row37\" class=\"row_heading level0 row37\" >37</th>\n",
       "                        <td id=\"T_3b00d_row37_col0\" class=\"data row37 col0\" >Combine Rare Levels</td>\n",
       "                        <td id=\"T_3b00d_row37_col1\" class=\"data row37 col1\" >False</td>\n",
       "            </tr>\n",
       "            <tr>\n",
       "                        <th id=\"T_3b00d_level0_row38\" class=\"row_heading level0 row38\" >38</th>\n",
       "                        <td id=\"T_3b00d_row38_col0\" class=\"data row38 col0\" >Rare Level Threshold</td>\n",
       "                        <td id=\"T_3b00d_row38_col1\" class=\"data row38 col1\" >None</td>\n",
       "            </tr>\n",
       "            <tr>\n",
       "                        <th id=\"T_3b00d_level0_row39\" class=\"row_heading level0 row39\" >39</th>\n",
       "                        <td id=\"T_3b00d_row39_col0\" class=\"data row39 col0\" >Numeric Binning</td>\n",
       "                        <td id=\"T_3b00d_row39_col1\" class=\"data row39 col1\" >False</td>\n",
       "            </tr>\n",
       "            <tr>\n",
       "                        <th id=\"T_3b00d_level0_row40\" class=\"row_heading level0 row40\" >40</th>\n",
       "                        <td id=\"T_3b00d_row40_col0\" class=\"data row40 col0\" >Remove Outliers</td>\n",
       "                        <td id=\"T_3b00d_row40_col1\" class=\"data row40 col1\" >False</td>\n",
       "            </tr>\n",
       "            <tr>\n",
       "                        <th id=\"T_3b00d_level0_row41\" class=\"row_heading level0 row41\" >41</th>\n",
       "                        <td id=\"T_3b00d_row41_col0\" class=\"data row41 col0\" >Outliers Threshold</td>\n",
       "                        <td id=\"T_3b00d_row41_col1\" class=\"data row41 col1\" >None</td>\n",
       "            </tr>\n",
       "            <tr>\n",
       "                        <th id=\"T_3b00d_level0_row42\" class=\"row_heading level0 row42\" >42</th>\n",
       "                        <td id=\"T_3b00d_row42_col0\" class=\"data row42 col0\" >Remove Multicollinearity</td>\n",
       "                        <td id=\"T_3b00d_row42_col1\" class=\"data row42 col1\" >False</td>\n",
       "            </tr>\n",
       "            <tr>\n",
       "                        <th id=\"T_3b00d_level0_row43\" class=\"row_heading level0 row43\" >43</th>\n",
       "                        <td id=\"T_3b00d_row43_col0\" class=\"data row43 col0\" >Multicollinearity Threshold</td>\n",
       "                        <td id=\"T_3b00d_row43_col1\" class=\"data row43 col1\" >None</td>\n",
       "            </tr>\n",
       "            <tr>\n",
       "                        <th id=\"T_3b00d_level0_row44\" class=\"row_heading level0 row44\" >44</th>\n",
       "                        <td id=\"T_3b00d_row44_col0\" class=\"data row44 col0\" >Remove Perfect Collinearity</td>\n",
       "                        <td id=\"T_3b00d_row44_col1\" class=\"data row44 col1\" >True</td>\n",
       "            </tr>\n",
       "            <tr>\n",
       "                        <th id=\"T_3b00d_level0_row45\" class=\"row_heading level0 row45\" >45</th>\n",
       "                        <td id=\"T_3b00d_row45_col0\" class=\"data row45 col0\" >Clustering</td>\n",
       "                        <td id=\"T_3b00d_row45_col1\" class=\"data row45 col1\" >False</td>\n",
       "            </tr>\n",
       "            <tr>\n",
       "                        <th id=\"T_3b00d_level0_row46\" class=\"row_heading level0 row46\" >46</th>\n",
       "                        <td id=\"T_3b00d_row46_col0\" class=\"data row46 col0\" >Clustering Iteration</td>\n",
       "                        <td id=\"T_3b00d_row46_col1\" class=\"data row46 col1\" >None</td>\n",
       "            </tr>\n",
       "            <tr>\n",
       "                        <th id=\"T_3b00d_level0_row47\" class=\"row_heading level0 row47\" >47</th>\n",
       "                        <td id=\"T_3b00d_row47_col0\" class=\"data row47 col0\" >Polynomial Features</td>\n",
       "                        <td id=\"T_3b00d_row47_col1\" class=\"data row47 col1\" >False</td>\n",
       "            </tr>\n",
       "            <tr>\n",
       "                        <th id=\"T_3b00d_level0_row48\" class=\"row_heading level0 row48\" >48</th>\n",
       "                        <td id=\"T_3b00d_row48_col0\" class=\"data row48 col0\" >Polynomial Degree</td>\n",
       "                        <td id=\"T_3b00d_row48_col1\" class=\"data row48 col1\" >None</td>\n",
       "            </tr>\n",
       "            <tr>\n",
       "                        <th id=\"T_3b00d_level0_row49\" class=\"row_heading level0 row49\" >49</th>\n",
       "                        <td id=\"T_3b00d_row49_col0\" class=\"data row49 col0\" >Trignometry Features</td>\n",
       "                        <td id=\"T_3b00d_row49_col1\" class=\"data row49 col1\" >False</td>\n",
       "            </tr>\n",
       "            <tr>\n",
       "                        <th id=\"T_3b00d_level0_row50\" class=\"row_heading level0 row50\" >50</th>\n",
       "                        <td id=\"T_3b00d_row50_col0\" class=\"data row50 col0\" >Polynomial Threshold</td>\n",
       "                        <td id=\"T_3b00d_row50_col1\" class=\"data row50 col1\" >None</td>\n",
       "            </tr>\n",
       "            <tr>\n",
       "                        <th id=\"T_3b00d_level0_row51\" class=\"row_heading level0 row51\" >51</th>\n",
       "                        <td id=\"T_3b00d_row51_col0\" class=\"data row51 col0\" >Group Features</td>\n",
       "                        <td id=\"T_3b00d_row51_col1\" class=\"data row51 col1\" >False</td>\n",
       "            </tr>\n",
       "            <tr>\n",
       "                        <th id=\"T_3b00d_level0_row52\" class=\"row_heading level0 row52\" >52</th>\n",
       "                        <td id=\"T_3b00d_row52_col0\" class=\"data row52 col0\" >Feature Selection</td>\n",
       "                        <td id=\"T_3b00d_row52_col1\" class=\"data row52 col1\" >False</td>\n",
       "            </tr>\n",
       "            <tr>\n",
       "                        <th id=\"T_3b00d_level0_row53\" class=\"row_heading level0 row53\" >53</th>\n",
       "                        <td id=\"T_3b00d_row53_col0\" class=\"data row53 col0\" >Feature Selection Method</td>\n",
       "                        <td id=\"T_3b00d_row53_col1\" class=\"data row53 col1\" >boruta</td>\n",
       "            </tr>\n",
       "            <tr>\n",
       "                        <th id=\"T_3b00d_level0_row54\" class=\"row_heading level0 row54\" >54</th>\n",
       "                        <td id=\"T_3b00d_row54_col0\" class=\"data row54 col0\" >Features Selection Threshold</td>\n",
       "                        <td id=\"T_3b00d_row54_col1\" class=\"data row54 col1\" >None</td>\n",
       "            </tr>\n",
       "            <tr>\n",
       "                        <th id=\"T_3b00d_level0_row55\" class=\"row_heading level0 row55\" >55</th>\n",
       "                        <td id=\"T_3b00d_row55_col0\" class=\"data row55 col0\" >Feature Interaction</td>\n",
       "                        <td id=\"T_3b00d_row55_col1\" class=\"data row55 col1\" >False</td>\n",
       "            </tr>\n",
       "            <tr>\n",
       "                        <th id=\"T_3b00d_level0_row56\" class=\"row_heading level0 row56\" >56</th>\n",
       "                        <td id=\"T_3b00d_row56_col0\" class=\"data row56 col0\" >Feature Ratio</td>\n",
       "                        <td id=\"T_3b00d_row56_col1\" class=\"data row56 col1\" >False</td>\n",
       "            </tr>\n",
       "            <tr>\n",
       "                        <th id=\"T_3b00d_level0_row57\" class=\"row_heading level0 row57\" >57</th>\n",
       "                        <td id=\"T_3b00d_row57_col0\" class=\"data row57 col0\" >Interaction Threshold</td>\n",
       "                        <td id=\"T_3b00d_row57_col1\" class=\"data row57 col1\" >None</td>\n",
       "            </tr>\n",
       "            <tr>\n",
       "                        <th id=\"T_3b00d_level0_row58\" class=\"row_heading level0 row58\" >58</th>\n",
       "                        <td id=\"T_3b00d_row58_col0\" class=\"data row58 col0\" >Fix Imbalance</td>\n",
       "                        <td id=\"T_3b00d_row58_col1\" class=\"data row58 col1\" >False</td>\n",
       "            </tr>\n",
       "            <tr>\n",
       "                        <th id=\"T_3b00d_level0_row59\" class=\"row_heading level0 row59\" >59</th>\n",
       "                        <td id=\"T_3b00d_row59_col0\" class=\"data row59 col0\" >Fix Imbalance Method</td>\n",
       "                        <td id=\"T_3b00d_row59_col1\" class=\"data row59 col1\" >SMOTE</td>\n",
       "            </tr>\n",
       "    </tbody></table>"
      ],
      "text/plain": [
       "<pandas.io.formats.style.Styler at 0x7fef3b471730>"
      ]
     },
     "metadata": {},
     "output_type": "display_data"
    }
   ],
   "source": [
    "exp_AGN = pyc.setup(data=data_train_test_AGN_df, target='is_AGN', session_id=seed, silent=True,\\\n",
    "                    feature_selection=False, feature_selection_method='boruta',\\\n",
    "                    numeric_features=final_feats, ignore_features=feats_2_discard,\\\n",
    "                    transformation=True, transformation_method='yeo-johnson', n_jobs=12,\\\n",
    "                    normalize=True, normalize_method='zscore', use_gpu=False)  # 15 minutes with Boruta # 5 without"
   ]
  },
  {
   "cell_type": "code",
   "execution_count": 51,
   "id": "ykHUiWyetG0G",
   "metadata": {
    "id": "ykHUiWyetG0G"
   },
   "outputs": [
    {
     "data": {
      "text/plain": [
       "Index(['band_num', 'FUVmag', 'W4mag', 'g_r', 'r_i', 'i_z', 'g_i', 'w1_w2',\n",
       "       'w3_w4', 'J_H', 'FUV_NUV', 'r/z', 'i/y', 'J/K', 'FUV/K', 'z/W1'],\n",
       "      dtype='object')"
      ]
     },
     "execution_count": 51,
     "metadata": {},
     "output_type": "execute_result"
    }
   ],
   "source": [
    "pyc.get_config('X').columns"
   ]
  },
  {
   "cell_type": "code",
   "execution_count": 52,
   "id": "JFF_T52ztI11",
   "metadata": {
    "id": "JFF_T52ztI11"
   },
   "outputs": [
    {
     "data": {
      "text/html": [
       "<div>\n",
       "<style scoped>\n",
       "    .dataframe tbody tr th:only-of-type {\n",
       "        vertical-align: middle;\n",
       "    }\n",
       "\n",
       "    .dataframe tbody tr th {\n",
       "        vertical-align: top;\n",
       "    }\n",
       "\n",
       "    .dataframe thead th {\n",
       "        text-align: right;\n",
       "    }\n",
       "</style>\n",
       "<table border=\"1\" class=\"dataframe\">\n",
       "  <thead>\n",
       "    <tr style=\"text-align: right;\">\n",
       "      <th></th>\n",
       "      <th>Name</th>\n",
       "      <th>Reference</th>\n",
       "      <th>Turbo</th>\n",
       "    </tr>\n",
       "    <tr>\n",
       "      <th>ID</th>\n",
       "      <th></th>\n",
       "      <th></th>\n",
       "      <th></th>\n",
       "    </tr>\n",
       "  </thead>\n",
       "  <tbody>\n",
       "    <tr>\n",
       "      <th>lr</th>\n",
       "      <td>Logistic Regression</td>\n",
       "      <td>sklearn.linear_model._logistic.LogisticRegression</td>\n",
       "      <td>True</td>\n",
       "    </tr>\n",
       "    <tr>\n",
       "      <th>knn</th>\n",
       "      <td>K Neighbors Classifier</td>\n",
       "      <td>sklearn.neighbors._classification.KNeighborsCl...</td>\n",
       "      <td>True</td>\n",
       "    </tr>\n",
       "    <tr>\n",
       "      <th>nb</th>\n",
       "      <td>Naive Bayes</td>\n",
       "      <td>sklearn.naive_bayes.GaussianNB</td>\n",
       "      <td>True</td>\n",
       "    </tr>\n",
       "    <tr>\n",
       "      <th>dt</th>\n",
       "      <td>Decision Tree Classifier</td>\n",
       "      <td>sklearn.tree._classes.DecisionTreeClassifier</td>\n",
       "      <td>True</td>\n",
       "    </tr>\n",
       "    <tr>\n",
       "      <th>svm</th>\n",
       "      <td>SVM - Linear Kernel</td>\n",
       "      <td>sklearn.linear_model._stochastic_gradient.SGDC...</td>\n",
       "      <td>True</td>\n",
       "    </tr>\n",
       "    <tr>\n",
       "      <th>rbfsvm</th>\n",
       "      <td>SVM - Radial Kernel</td>\n",
       "      <td>sklearn.svm._classes.SVC</td>\n",
       "      <td>False</td>\n",
       "    </tr>\n",
       "    <tr>\n",
       "      <th>gpc</th>\n",
       "      <td>Gaussian Process Classifier</td>\n",
       "      <td>sklearn.gaussian_process._gpc.GaussianProcessC...</td>\n",
       "      <td>False</td>\n",
       "    </tr>\n",
       "    <tr>\n",
       "      <th>mlp</th>\n",
       "      <td>MLP Classifier</td>\n",
       "      <td>sklearn.neural_network._multilayer_perceptron....</td>\n",
       "      <td>False</td>\n",
       "    </tr>\n",
       "    <tr>\n",
       "      <th>ridge</th>\n",
       "      <td>Ridge Classifier</td>\n",
       "      <td>sklearn.linear_model._ridge.RidgeClassifier</td>\n",
       "      <td>True</td>\n",
       "    </tr>\n",
       "    <tr>\n",
       "      <th>rf</th>\n",
       "      <td>Random Forest Classifier</td>\n",
       "      <td>sklearn.ensemble._forest.RandomForestClassifier</td>\n",
       "      <td>True</td>\n",
       "    </tr>\n",
       "    <tr>\n",
       "      <th>qda</th>\n",
       "      <td>Quadratic Discriminant Analysis</td>\n",
       "      <td>sklearn.discriminant_analysis.QuadraticDiscrim...</td>\n",
       "      <td>True</td>\n",
       "    </tr>\n",
       "    <tr>\n",
       "      <th>ada</th>\n",
       "      <td>Ada Boost Classifier</td>\n",
       "      <td>sklearn.ensemble._weight_boosting.AdaBoostClas...</td>\n",
       "      <td>True</td>\n",
       "    </tr>\n",
       "    <tr>\n",
       "      <th>gbc</th>\n",
       "      <td>Gradient Boosting Classifier</td>\n",
       "      <td>sklearn.ensemble._gb.GradientBoostingClassifier</td>\n",
       "      <td>True</td>\n",
       "    </tr>\n",
       "    <tr>\n",
       "      <th>lda</th>\n",
       "      <td>Linear Discriminant Analysis</td>\n",
       "      <td>sklearn.discriminant_analysis.LinearDiscrimina...</td>\n",
       "      <td>True</td>\n",
       "    </tr>\n",
       "    <tr>\n",
       "      <th>et</th>\n",
       "      <td>Extra Trees Classifier</td>\n",
       "      <td>sklearn.ensemble._forest.ExtraTreesClassifier</td>\n",
       "      <td>True</td>\n",
       "    </tr>\n",
       "    <tr>\n",
       "      <th>xgboost</th>\n",
       "      <td>Extreme Gradient Boosting</td>\n",
       "      <td>xgboost.sklearn.XGBClassifier</td>\n",
       "      <td>True</td>\n",
       "    </tr>\n",
       "    <tr>\n",
       "      <th>lightgbm</th>\n",
       "      <td>Light Gradient Boosting Machine</td>\n",
       "      <td>lightgbm.sklearn.LGBMClassifier</td>\n",
       "      <td>True</td>\n",
       "    </tr>\n",
       "    <tr>\n",
       "      <th>catboost</th>\n",
       "      <td>CatBoost Classifier</td>\n",
       "      <td>catboost.core.CatBoostClassifier</td>\n",
       "      <td>True</td>\n",
       "    </tr>\n",
       "  </tbody>\n",
       "</table>\n",
       "</div>"
      ],
      "text/plain": [
       "                                     Name  \\\n",
       "ID                                          \n",
       "lr                    Logistic Regression   \n",
       "knn                K Neighbors Classifier   \n",
       "nb                            Naive Bayes   \n",
       "dt               Decision Tree Classifier   \n",
       "svm                   SVM - Linear Kernel   \n",
       "rbfsvm                SVM - Radial Kernel   \n",
       "gpc           Gaussian Process Classifier   \n",
       "mlp                        MLP Classifier   \n",
       "ridge                    Ridge Classifier   \n",
       "rf               Random Forest Classifier   \n",
       "qda       Quadratic Discriminant Analysis   \n",
       "ada                  Ada Boost Classifier   \n",
       "gbc          Gradient Boosting Classifier   \n",
       "lda          Linear Discriminant Analysis   \n",
       "et                 Extra Trees Classifier   \n",
       "xgboost         Extreme Gradient Boosting   \n",
       "lightgbm  Light Gradient Boosting Machine   \n",
       "catboost              CatBoost Classifier   \n",
       "\n",
       "                                                  Reference  Turbo  \n",
       "ID                                                                  \n",
       "lr        sklearn.linear_model._logistic.LogisticRegression   True  \n",
       "knn       sklearn.neighbors._classification.KNeighborsCl...   True  \n",
       "nb                           sklearn.naive_bayes.GaussianNB   True  \n",
       "dt             sklearn.tree._classes.DecisionTreeClassifier   True  \n",
       "svm       sklearn.linear_model._stochastic_gradient.SGDC...   True  \n",
       "rbfsvm                             sklearn.svm._classes.SVC  False  \n",
       "gpc       sklearn.gaussian_process._gpc.GaussianProcessC...  False  \n",
       "mlp       sklearn.neural_network._multilayer_perceptron....  False  \n",
       "ridge           sklearn.linear_model._ridge.RidgeClassifier   True  \n",
       "rf          sklearn.ensemble._forest.RandomForestClassifier   True  \n",
       "qda       sklearn.discriminant_analysis.QuadraticDiscrim...   True  \n",
       "ada       sklearn.ensemble._weight_boosting.AdaBoostClas...   True  \n",
       "gbc         sklearn.ensemble._gb.GradientBoostingClassifier   True  \n",
       "lda       sklearn.discriminant_analysis.LinearDiscrimina...   True  \n",
       "et            sklearn.ensemble._forest.ExtraTreesClassifier   True  \n",
       "xgboost                       xgboost.sklearn.XGBClassifier   True  \n",
       "lightgbm                    lightgbm.sklearn.LGBMClassifier   True  \n",
       "catboost                   catboost.core.CatBoostClassifier   True  "
      ]
     },
     "execution_count": 52,
     "metadata": {},
     "output_type": "execute_result"
    }
   ],
   "source": [
    "pyc.models()"
   ]
  },
  {
   "cell_type": "code",
   "execution_count": 53,
   "id": "m3mCNspXtLnI",
   "metadata": {
    "id": "m3mCNspXtLnI"
   },
   "outputs": [
    {
     "data": {
      "text/html": [
       "<style  type=\"text/css\" >\n",
       "    #T_f6687_ th {\n",
       "          text-align: left;\n",
       "    }#T_f6687_row0_col0,#T_f6687_row0_col3,#T_f6687_row0_col4,#T_f6687_row0_col5,#T_f6687_row0_col6,#T_f6687_row1_col0,#T_f6687_row1_col2,#T_f6687_row1_col4,#T_f6687_row1_col7,#T_f6687_row2_col0,#T_f6687_row2_col2,#T_f6687_row2_col3,#T_f6687_row2_col5,#T_f6687_row2_col6,#T_f6687_row2_col7,#T_f6687_row3_col0,#T_f6687_row3_col1,#T_f6687_row3_col2,#T_f6687_row3_col3,#T_f6687_row3_col4,#T_f6687_row3_col5,#T_f6687_row3_col6,#T_f6687_row3_col7,#T_f6687_row4_col0,#T_f6687_row4_col1,#T_f6687_row4_col2,#T_f6687_row4_col3,#T_f6687_row4_col4,#T_f6687_row4_col5,#T_f6687_row4_col6,#T_f6687_row4_col7,#T_f6687_row5_col0,#T_f6687_row5_col1,#T_f6687_row5_col2,#T_f6687_row5_col3,#T_f6687_row5_col4,#T_f6687_row5_col5,#T_f6687_row5_col6,#T_f6687_row5_col7,#T_f6687_row6_col0,#T_f6687_row6_col1,#T_f6687_row6_col2,#T_f6687_row6_col3,#T_f6687_row6_col4,#T_f6687_row6_col5,#T_f6687_row6_col6,#T_f6687_row6_col7,#T_f6687_row7_col0,#T_f6687_row7_col1,#T_f6687_row7_col2,#T_f6687_row7_col3,#T_f6687_row7_col4,#T_f6687_row7_col5,#T_f6687_row7_col6,#T_f6687_row7_col7,#T_f6687_row8_col0,#T_f6687_row8_col1,#T_f6687_row8_col2,#T_f6687_row8_col3,#T_f6687_row8_col4,#T_f6687_row8_col5,#T_f6687_row8_col6,#T_f6687_row8_col7{\n",
       "            text-align:  left;\n",
       "            text-align:  left;\n",
       "        }#T_f6687_row0_col1,#T_f6687_row0_col2,#T_f6687_row0_col7,#T_f6687_row1_col1,#T_f6687_row1_col3,#T_f6687_row1_col5,#T_f6687_row1_col6,#T_f6687_row2_col1,#T_f6687_row2_col4{\n",
       "            text-align:  left;\n",
       "            text-align:  left;\n",
       "            background-color:  yellow;\n",
       "        }#T_f6687_row0_col8,#T_f6687_row1_col8,#T_f6687_row2_col8,#T_f6687_row3_col8,#T_f6687_row4_col8,#T_f6687_row5_col8,#T_f6687_row6_col8,#T_f6687_row7_col8{\n",
       "            text-align:  left;\n",
       "            text-align:  left;\n",
       "            background-color:  lightgrey;\n",
       "        }#T_f6687_row8_col8{\n",
       "            text-align:  left;\n",
       "            text-align:  left;\n",
       "            background-color:  yellow;\n",
       "            background-color:  lightgrey;\n",
       "        }</style><table id=\"T_f6687_\" ><thead>    <tr>        <th class=\"blank level0\" ></th>        <th class=\"col_heading level0 col0\" >Model</th>        <th class=\"col_heading level0 col1\" >Accuracy</th>        <th class=\"col_heading level0 col2\" >AUC</th>        <th class=\"col_heading level0 col3\" >Recall</th>        <th class=\"col_heading level0 col4\" >Prec.</th>        <th class=\"col_heading level0 col5\" >F1</th>        <th class=\"col_heading level0 col6\" >Kappa</th>        <th class=\"col_heading level0 col7\" >MCC</th>        <th class=\"col_heading level0 col8\" >TT (Sec)</th>    </tr></thead><tbody>\n",
       "                <tr>\n",
       "                        <th id=\"T_f6687_level0_row0\" class=\"row_heading level0 row0\" >xgboost</th>\n",
       "                        <td id=\"T_f6687_row0_col0\" class=\"data row0 col0\" >Extreme Gradient Boosting</td>\n",
       "                        <td id=\"T_f6687_row0_col1\" class=\"data row0 col1\" >0.9972</td>\n",
       "                        <td id=\"T_f6687_row0_col2\" class=\"data row0 col2\" >0.9796</td>\n",
       "                        <td id=\"T_f6687_row0_col3\" class=\"data row0 col3\" >0.5077</td>\n",
       "                        <td id=\"T_f6687_row0_col4\" class=\"data row0 col4\" >0.8126</td>\n",
       "                        <td id=\"T_f6687_row0_col5\" class=\"data row0 col5\" >0.6248</td>\n",
       "                        <td id=\"T_f6687_row0_col6\" class=\"data row0 col6\" >0.6235</td>\n",
       "                        <td id=\"T_f6687_row0_col7\" class=\"data row0 col7\" >0.6410</td>\n",
       "                        <td id=\"T_f6687_row0_col8\" class=\"data row0 col8\" >62.6890</td>\n",
       "            </tr>\n",
       "            <tr>\n",
       "                        <th id=\"T_f6687_level0_row1\" class=\"row_heading level0 row1\" >catboost</th>\n",
       "                        <td id=\"T_f6687_row1_col0\" class=\"data row1 col0\" >CatBoost Classifier</td>\n",
       "                        <td id=\"T_f6687_row1_col1\" class=\"data row1 col1\" >0.9972</td>\n",
       "                        <td id=\"T_f6687_row1_col2\" class=\"data row1 col2\" >0.9783</td>\n",
       "                        <td id=\"T_f6687_row1_col3\" class=\"data row1 col3\" >0.5177</td>\n",
       "                        <td id=\"T_f6687_row1_col4\" class=\"data row1 col4\" >0.7934</td>\n",
       "                        <td id=\"T_f6687_row1_col5\" class=\"data row1 col5\" >0.6265</td>\n",
       "                        <td id=\"T_f6687_row1_col6\" class=\"data row1 col6\" >0.6252</td>\n",
       "                        <td id=\"T_f6687_row1_col7\" class=\"data row1 col7\" >0.6396</td>\n",
       "                        <td id=\"T_f6687_row1_col8\" class=\"data row1 col8\" >218.6450</td>\n",
       "            </tr>\n",
       "            <tr>\n",
       "                        <th id=\"T_f6687_level0_row2\" class=\"row_heading level0 row2\" >rf</th>\n",
       "                        <td id=\"T_f6687_row2_col0\" class=\"data row2 col0\" >Random Forest Classifier</td>\n",
       "                        <td id=\"T_f6687_row2_col1\" class=\"data row2 col1\" >0.9972</td>\n",
       "                        <td id=\"T_f6687_row2_col2\" class=\"data row2 col2\" >0.9233</td>\n",
       "                        <td id=\"T_f6687_row2_col3\" class=\"data row2 col3\" >0.4778</td>\n",
       "                        <td id=\"T_f6687_row2_col4\" class=\"data row2 col4\" >0.8367</td>\n",
       "                        <td id=\"T_f6687_row2_col5\" class=\"data row2 col5\" >0.6082</td>\n",
       "                        <td id=\"T_f6687_row2_col6\" class=\"data row2 col6\" >0.6069</td>\n",
       "                        <td id=\"T_f6687_row2_col7\" class=\"data row2 col7\" >0.6311</td>\n",
       "                        <td id=\"T_f6687_row2_col8\" class=\"data row2 col8\" >72.6590</td>\n",
       "            </tr>\n",
       "            <tr>\n",
       "                        <th id=\"T_f6687_level0_row3\" class=\"row_heading level0 row3\" >et</th>\n",
       "                        <td id=\"T_f6687_row3_col0\" class=\"data row3 col0\" >Extra Trees Classifier</td>\n",
       "                        <td id=\"T_f6687_row3_col1\" class=\"data row3 col1\" >0.9971</td>\n",
       "                        <td id=\"T_f6687_row3_col2\" class=\"data row3 col2\" >0.9224</td>\n",
       "                        <td id=\"T_f6687_row3_col3\" class=\"data row3 col3\" >0.4588</td>\n",
       "                        <td id=\"T_f6687_row3_col4\" class=\"data row3 col4\" >0.8358</td>\n",
       "                        <td id=\"T_f6687_row3_col5\" class=\"data row3 col5\" >0.5923</td>\n",
       "                        <td id=\"T_f6687_row3_col6\" class=\"data row3 col6\" >0.5910</td>\n",
       "                        <td id=\"T_f6687_row3_col7\" class=\"data row3 col7\" >0.6180</td>\n",
       "                        <td id=\"T_f6687_row3_col8\" class=\"data row3 col8\" >63.6400</td>\n",
       "            </tr>\n",
       "            <tr>\n",
       "                        <th id=\"T_f6687_level0_row4\" class=\"row_heading level0 row4\" >lightgbm</th>\n",
       "                        <td id=\"T_f6687_row4_col0\" class=\"data row4 col0\" >Light Gradient Boosting Machine</td>\n",
       "                        <td id=\"T_f6687_row4_col1\" class=\"data row4 col1\" >0.9966</td>\n",
       "                        <td id=\"T_f6687_row4_col2\" class=\"data row4 col2\" >0.9076</td>\n",
       "                        <td id=\"T_f6687_row4_col3\" class=\"data row4 col3\" >0.4549</td>\n",
       "                        <td id=\"T_f6687_row4_col4\" class=\"data row4 col4\" >0.6889</td>\n",
       "                        <td id=\"T_f6687_row4_col5\" class=\"data row4 col5\" >0.5478</td>\n",
       "                        <td id=\"T_f6687_row4_col6\" class=\"data row4 col6\" >0.5461</td>\n",
       "                        <td id=\"T_f6687_row4_col7\" class=\"data row4 col7\" >0.5581</td>\n",
       "                        <td id=\"T_f6687_row4_col8\" class=\"data row4 col8\" >5.6290</td>\n",
       "            </tr>\n",
       "            <tr>\n",
       "                        <th id=\"T_f6687_level0_row5\" class=\"row_heading level0 row5\" >dt</th>\n",
       "                        <td id=\"T_f6687_row5_col0\" class=\"data row5 col0\" >Decision Tree Classifier</td>\n",
       "                        <td id=\"T_f6687_row5_col1\" class=\"data row5 col1\" >0.9952</td>\n",
       "                        <td id=\"T_f6687_row5_col2\" class=\"data row5 col2\" >0.6296</td>\n",
       "                        <td id=\"T_f6687_row5_col3\" class=\"data row5 col3\" >0.4916</td>\n",
       "                        <td id=\"T_f6687_row5_col4\" class=\"data row5 col4\" >0.4728</td>\n",
       "                        <td id=\"T_f6687_row5_col5\" class=\"data row5 col5\" >0.4820</td>\n",
       "                        <td id=\"T_f6687_row5_col6\" class=\"data row5 col6\" >0.4796</td>\n",
       "                        <td id=\"T_f6687_row5_col7\" class=\"data row5 col7\" >0.4797</td>\n",
       "                        <td id=\"T_f6687_row5_col8\" class=\"data row5 col8\" >6.8180</td>\n",
       "            </tr>\n",
       "            <tr>\n",
       "                        <th id=\"T_f6687_level0_row6\" class=\"row_heading level0 row6\" >lda</th>\n",
       "                        <td id=\"T_f6687_row6_col0\" class=\"data row6 col0\" >Linear Discriminant Analysis</td>\n",
       "                        <td id=\"T_f6687_row6_col1\" class=\"data row6 col1\" >0.9924</td>\n",
       "                        <td id=\"T_f6687_row6_col2\" class=\"data row6 col2\" >0.9334</td>\n",
       "                        <td id=\"T_f6687_row6_col3\" class=\"data row6 col3\" >0.3673</td>\n",
       "                        <td id=\"T_f6687_row6_col4\" class=\"data row6 col4\" >0.2618</td>\n",
       "                        <td id=\"T_f6687_row6_col5\" class=\"data row6 col5\" >0.3056</td>\n",
       "                        <td id=\"T_f6687_row6_col6\" class=\"data row6 col6\" >0.3019</td>\n",
       "                        <td id=\"T_f6687_row6_col7\" class=\"data row6 col7\" >0.3063</td>\n",
       "                        <td id=\"T_f6687_row6_col8\" class=\"data row6 col8\" >1.9250</td>\n",
       "            </tr>\n",
       "            <tr>\n",
       "                        <th id=\"T_f6687_level0_row7\" class=\"row_heading level0 row7\" >lr</th>\n",
       "                        <td id=\"T_f6687_row7_col0\" class=\"data row7 col0\" >Logistic Regression</td>\n",
       "                        <td id=\"T_f6687_row7_col1\" class=\"data row7 col1\" >0.9955</td>\n",
       "                        <td id=\"T_f6687_row7_col2\" class=\"data row7 col2\" >0.9473</td>\n",
       "                        <td id=\"T_f6687_row7_col3\" class=\"data row7 col3\" >0.1047</td>\n",
       "                        <td id=\"T_f6687_row7_col4\" class=\"data row7 col4\" >0.5229</td>\n",
       "                        <td id=\"T_f6687_row7_col5\" class=\"data row7 col5\" >0.1744</td>\n",
       "                        <td id=\"T_f6687_row7_col6\" class=\"data row7 col6\" >0.1731</td>\n",
       "                        <td id=\"T_f6687_row7_col7\" class=\"data row7 col7\" >0.2325</td>\n",
       "                        <td id=\"T_f6687_row7_col8\" class=\"data row7 col8\" >3.7850</td>\n",
       "            </tr>\n",
       "            <tr>\n",
       "                        <th id=\"T_f6687_level0_row8\" class=\"row_heading level0 row8\" >svm</th>\n",
       "                        <td id=\"T_f6687_row8_col0\" class=\"data row8 col0\" >SVM - Linear Kernel</td>\n",
       "                        <td id=\"T_f6687_row8_col1\" class=\"data row8 col1\" >0.9955</td>\n",
       "                        <td id=\"T_f6687_row8_col2\" class=\"data row8 col2\" >0.0000</td>\n",
       "                        <td id=\"T_f6687_row8_col3\" class=\"data row8 col3\" >0.0778</td>\n",
       "                        <td id=\"T_f6687_row8_col4\" class=\"data row8 col4\" >0.3550</td>\n",
       "                        <td id=\"T_f6687_row8_col5\" class=\"data row8 col5\" >0.1245</td>\n",
       "                        <td id=\"T_f6687_row8_col6\" class=\"data row8 col6\" >0.1237</td>\n",
       "                        <td id=\"T_f6687_row8_col7\" class=\"data row8 col7\" >0.1614</td>\n",
       "                        <td id=\"T_f6687_row8_col8\" class=\"data row8 col8\" >1.4990</td>\n",
       "            </tr>\n",
       "    </tbody></table>"
      ],
      "text/plain": [
       "<pandas.io.formats.style.Styler at 0x7ff1096e8e80>"
      ]
     },
     "metadata": {},
     "output_type": "display_data"
    }
   ],
   "source": [
    "# Catboost uses GPU only if rows > 50000\n",
    "# gpu_ready_models_clf = ['lr', 'knn', 'svm', 'ridge', 'rf', 'xgboost', 'lightgbm', 'catboost']  # Catboost too slow\n",
    "used_models_clf      = ['catboost','xgboost', 'lightgbm', 'rf', 'et', 'lr', 'dt', 'svm', 'lda']  # knn too slow, ridge does not work\n",
    "# fast_selection_clf   = ['xgboost', 'catboost', 'rf', 'et', 'lightgbm']\n",
    "if mqc_version == '7_2':\n",
    "    final_selection_clf  = ['xgboost', 'catboost', 'rf']\n",
    "    n_models             = 3\n",
    "if mqc_version == '7_4d':\n",
    "    final_selection_clf  = ['xgboost', 'catboost', 'rf', 'et', 'lightgbm']\n",
    "    n_models             = 5\n",
    "top_model_AGN = pyc.compare_models(n_select=n_models, include=final_selection_clf, sort='MCC')  # 1:15 hour for used_models_clf"
   ]
  },
  {
   "cell_type": "markdown",
   "id": "0d693732-fb85-4697-8712-51b9a0844cc7",
   "metadata": {},
   "source": [
    "Results from `compare_models` are with ad-hoc imputation are:  \n",
    "\n",
    "|            |Model                          |Accuracy|AUC   |Recall|Prec. |F1    |Kappa |MCC   |TT (Sec)|\n",
    "|------------|-------------------------------|--------|------|------|------|------|------|------|--------|\n",
    "|**xgboost** |Extreme Gradient Boosting      |0.9979  |0.9876|0.6146|0.8104|0.6989|0.6979|0.7047|92.2400 |\n",
    "|**catboost**|CatBoost Classifier            |0.9978  |0.9859|0.6162|0.7928|0.6933|0.6922|0.6978|203.0220|\n",
    "|**rf**      |Random Forest Classifier       |0.9978  |0.9632|0.5756|0.8353|0.6815|0.6804|0.6924|109.3340|\n",
    "|**et**      |Extra Trees Classifier         |0.9978  |0.9674|0.5513|0.8511|0.6691|0.6680|0.6840|65.3530 |\n",
    "|**lightgbm**|Light Gradient Boosting Machine|0.9969  |0.8978|0.5630|0.6439|0.6000|0.5984|0.6002|6.4480  |\n",
    "|**svm**     |SVM - Linear Kernel            |0.9970  |0.0000|0.4770|0.6796|0.5601|0.5587|0.5677|1.6290  |\n",
    "|**dt**      |Decision Tree Classifier       |0.9963  |0.7847|0.5713|0.5481|0.5593|0.5575|0.5577|9.7660  |\n",
    "|**lr**      |Logistic Regression            |0.9970  |0.9778|0.4028|0.7356|0.5205|0.5192|0.5430|5.6770  |\n",
    "|**lda**     |Linear Discriminant Analysis   |0.9920  |0.9700|0.4343|0.2367|0.3064|0.3027|0.3169|2.3460  |"
   ]
  },
  {
   "cell_type": "markdown",
   "id": "7aa55448-d0bd-47dc-b8b8-9c927e4ab7d2",
   "metadata": {},
   "source": [
    "Results from `compare_models` are with $5-\\sigma$ imputation and Million Quasar Catalog version 7.2 are:  \n",
    "    \n",
    "|            |Model                          |Accuracy|AUC   |Recall|Prec. |F1    |Kappa |MCC   |TT (Sec)|\n",
    "|------------|-------------------------------|--------|------|------|------|------|------|------|--------|\n",
    "|**xgboost** |Extreme Gradient Boosting      |0.9975  |0.9774|0.4876|0.8165|0.6105|0.6093|0.6298|53.4930 |\n",
    "|**catboost**|CatBoost Classifier            |0.9974  |0.9756|0.4978|0.7911|0.6110|0.6098|0.6264|180.6900|\n",
    "|**rf**      |Random Forest Classifier       |0.9975  |0.9137|0.4693|0.8284|0.5991|0.5979|0.6224|63.2750 |\n",
    "|**et**      |Extra Trees Classifier         |0.9974  |0.9086|0.4424|0.8322|0.5776|0.5764|0.6056|54.2790 |\n",
    "|**lightgbm**|Light Gradient Boosting Machine|0.9969  |0.9020|0.4499|0.6872|0.5435|0.5421|0.5545|5.5730  |\n",
    "|**dt**      |Decision Tree Classifier       |0.9956  |0.6220|0.4813|0.4634|0.4721|0.4699|0.4700|5.5580  |\n",
    "|**lda**     |Linear Discriminant Analysis   |0.9922  |0.9391|0.3916|0.2325|0.2915|0.2878|0.2979|1.8050  |\n",
    "|**lr**      |Logistic Regression            |0.9960  |0.9523|0.1120|0.5521|0.1861|0.1850|0.2473|3.9970  |\n",
    "|**svm**     |SVM - Linear Kernel            |0.9959  |0.0000|0.0225|0.0548|0.0319|0.0317|0.0348|1.4250  |"
   ]
  },
  {
   "cell_type": "markdown",
   "id": "b3502eff-6609-4dc5-9bac-73e8166b4bf1",
   "metadata": {},
   "source": [
    "Results from `compare_models` are with $5-\\sigma$ imputation and using Million Quasar Catalog version 7.4d are:  \n",
    "    \n",
    "|            |Model                          |Accuracy|AUC   |Recall|Prec. |F1    |Kappa |MCC   |TT (Sec)|\n",
    "|------------|-------------------------------|--------|------|------|------|------|------|------|--------|\n",
    "|**xgboost** |Extreme Gradient Boosting      |0.9972  |0.9796|0.5077|0.8126|0.6248|0.6235|0.6410|62.6890 |\n",
    "|**catboost**|CatBoost Classifier            |0.9972  |0.9783|0.5177|0.7934|0.6265|0.6252|0.6396|218.6450|\n",
    "|**rf**      |Random Forest Classifier       |0.9972  |0.9233|0.4778|0.8367|0.6082|0.6069|0.6311|72.6590 |\n",
    "|**et**      |Extra Trees Classifier         |0.9971  |0.9224|0.4588|0.8358|0.5923|0.5910|0.6180|63.6400 |\n",
    "|**lightgbm**|Light Gradient Boosting Machine|0.9966  |0.9076|0.4549|0.6889|0.5478|0.5461|0.5581|5.6290  |\n",
    "|**dt**      |Decision Tree Classifier       |0.9952  |0.6296|0.4916|0.4728|0.4820|0.4796|0.4797|6.8180  |\n",
    "|**lda**     |Linear Discriminant Analysis   |0.9924  |0.9334|0.3673|0.2618|0.3056|0.3019|0.3063|1.9250  |\n",
    "|**lr**      |Logistic Regression            |0.9955  |0.9473|0.1047|0.5229|0.1744|0.1731|0.2325|3.7850  |\n",
    "|**svm**     |SVM - Linear Kernel            |0.9955  |0.0000|0.0778|0.3550|0.1245|0.1237|0.1614|1.4990  |"
   ]
  },
  {
   "cell_type": "markdown",
   "id": "4aa754ed-d0e0-437c-a82f-6be3ebcfd7ec",
   "metadata": {},
   "source": [
    "Thus, we select `xgboost` as meta learner."
   ]
  },
  {
   "cell_type": "markdown",
   "id": "3afc57b3-c041-4229-b4b0-90496d2d3bab",
   "metadata": {},
   "source": [
    "Thus, we stack the models."
   ]
  },
  {
   "cell_type": "code",
   "execution_count": 55,
   "id": "5c69d75f-6560-4578-89d4-38921bff106e",
   "metadata": {},
   "outputs": [
    {
     "data": {
      "text/html": [
       "<style  type=\"text/css\" >\n",
       "#T_88cd0_row10_col0,#T_88cd0_row10_col1,#T_88cd0_row10_col2,#T_88cd0_row10_col3,#T_88cd0_row10_col4,#T_88cd0_row10_col5,#T_88cd0_row10_col6{\n",
       "            background:  yellow;\n",
       "        }</style><table id=\"T_88cd0_\" ><thead>    <tr>        <th class=\"blank level0\" ></th>        <th class=\"col_heading level0 col0\" >Accuracy</th>        <th class=\"col_heading level0 col1\" >AUC</th>        <th class=\"col_heading level0 col2\" >Recall</th>        <th class=\"col_heading level0 col3\" >Prec.</th>        <th class=\"col_heading level0 col4\" >F1</th>        <th class=\"col_heading level0 col5\" >Kappa</th>        <th class=\"col_heading level0 col6\" >MCC</th>    </tr></thead><tbody>\n",
       "                <tr>\n",
       "                        <th id=\"T_88cd0_level0_row0\" class=\"row_heading level0 row0\" >0</th>\n",
       "                        <td id=\"T_88cd0_row0_col0\" class=\"data row0 col0\" >0.9979</td>\n",
       "                        <td id=\"T_88cd0_row0_col1\" class=\"data row0 col1\" >0.9874</td>\n",
       "                        <td id=\"T_88cd0_row0_col2\" class=\"data row0 col2\" >0.6124</td>\n",
       "                        <td id=\"T_88cd0_row0_col3\" class=\"data row0 col3\" >0.8158</td>\n",
       "                        <td id=\"T_88cd0_row0_col4\" class=\"data row0 col4\" >0.6996</td>\n",
       "                        <td id=\"T_88cd0_row0_col5\" class=\"data row0 col5\" >0.6986</td>\n",
       "                        <td id=\"T_88cd0_row0_col6\" class=\"data row0 col6\" >0.7058</td>\n",
       "            </tr>\n",
       "            <tr>\n",
       "                        <th id=\"T_88cd0_level0_row1\" class=\"row_heading level0 row1\" >1</th>\n",
       "                        <td id=\"T_88cd0_row1_col0\" class=\"data row1 col0\" >0.9979</td>\n",
       "                        <td id=\"T_88cd0_row1_col1\" class=\"data row1 col1\" >0.9891</td>\n",
       "                        <td id=\"T_88cd0_row1_col2\" class=\"data row1 col2\" >0.6351</td>\n",
       "                        <td id=\"T_88cd0_row1_col3\" class=\"data row1 col3\" >0.8072</td>\n",
       "                        <td id=\"T_88cd0_row1_col4\" class=\"data row1 col4\" >0.7109</td>\n",
       "                        <td id=\"T_88cd0_row1_col5\" class=\"data row1 col5\" >0.7099</td>\n",
       "                        <td id=\"T_88cd0_row1_col6\" class=\"data row1 col6\" >0.7150</td>\n",
       "            </tr>\n",
       "            <tr>\n",
       "                        <th id=\"T_88cd0_level0_row2\" class=\"row_heading level0 row2\" >2</th>\n",
       "                        <td id=\"T_88cd0_row2_col0\" class=\"data row2 col0\" >0.9980</td>\n",
       "                        <td id=\"T_88cd0_row2_col1\" class=\"data row2 col1\" >0.9893</td>\n",
       "                        <td id=\"T_88cd0_row2_col2\" class=\"data row2 col2\" >0.6426</td>\n",
       "                        <td id=\"T_88cd0_row2_col3\" class=\"data row2 col3\" >0.8303</td>\n",
       "                        <td id=\"T_88cd0_row2_col4\" class=\"data row2 col4\" >0.7245</td>\n",
       "                        <td id=\"T_88cd0_row2_col5\" class=\"data row2 col5\" >0.7236</td>\n",
       "                        <td id=\"T_88cd0_row2_col6\" class=\"data row2 col6\" >0.7295</td>\n",
       "            </tr>\n",
       "            <tr>\n",
       "                        <th id=\"T_88cd0_level0_row3\" class=\"row_heading level0 row3\" >3</th>\n",
       "                        <td id=\"T_88cd0_row3_col0\" class=\"data row3 col0\" >0.9979</td>\n",
       "                        <td id=\"T_88cd0_row3_col1\" class=\"data row3 col1\" >0.9864</td>\n",
       "                        <td id=\"T_88cd0_row3_col2\" class=\"data row3 col2\" >0.6258</td>\n",
       "                        <td id=\"T_88cd0_row3_col3\" class=\"data row3 col3\" >0.8178</td>\n",
       "                        <td id=\"T_88cd0_row3_col4\" class=\"data row3 col4\" >0.7090</td>\n",
       "                        <td id=\"T_88cd0_row3_col5\" class=\"data row3 col5\" >0.7080</td>\n",
       "                        <td id=\"T_88cd0_row3_col6\" class=\"data row3 col6\" >0.7144</td>\n",
       "            </tr>\n",
       "            <tr>\n",
       "                        <th id=\"T_88cd0_level0_row4\" class=\"row_heading level0 row4\" >4</th>\n",
       "                        <td id=\"T_88cd0_row4_col0\" class=\"data row4 col0\" >0.9977</td>\n",
       "                        <td id=\"T_88cd0_row4_col1\" class=\"data row4 col1\" >0.9852</td>\n",
       "                        <td id=\"T_88cd0_row4_col2\" class=\"data row4 col2\" >0.6051</td>\n",
       "                        <td id=\"T_88cd0_row4_col3\" class=\"data row4 col3\" >0.7888</td>\n",
       "                        <td id=\"T_88cd0_row4_col4\" class=\"data row4 col4\" >0.6849</td>\n",
       "                        <td id=\"T_88cd0_row4_col5\" class=\"data row4 col5\" >0.6837</td>\n",
       "                        <td id=\"T_88cd0_row4_col6\" class=\"data row4 col6\" >0.6898</td>\n",
       "            </tr>\n",
       "            <tr>\n",
       "                        <th id=\"T_88cd0_level0_row5\" class=\"row_heading level0 row5\" >5</th>\n",
       "                        <td id=\"T_88cd0_row5_col0\" class=\"data row5 col0\" >0.9979</td>\n",
       "                        <td id=\"T_88cd0_row5_col1\" class=\"data row5 col1\" >0.9834</td>\n",
       "                        <td id=\"T_88cd0_row5_col2\" class=\"data row5 col2\" >0.6185</td>\n",
       "                        <td id=\"T_88cd0_row5_col3\" class=\"data row5 col3\" >0.8124</td>\n",
       "                        <td id=\"T_88cd0_row5_col4\" class=\"data row5 col4\" >0.7023</td>\n",
       "                        <td id=\"T_88cd0_row5_col5\" class=\"data row5 col5\" >0.7012</td>\n",
       "                        <td id=\"T_88cd0_row5_col6\" class=\"data row5 col6\" >0.7078</td>\n",
       "            </tr>\n",
       "            <tr>\n",
       "                        <th id=\"T_88cd0_level0_row6\" class=\"row_heading level0 row6\" >6</th>\n",
       "                        <td id=\"T_88cd0_row6_col0\" class=\"data row6 col0\" >0.9979</td>\n",
       "                        <td id=\"T_88cd0_row6_col1\" class=\"data row6 col1\" >0.9887</td>\n",
       "                        <td id=\"T_88cd0_row6_col2\" class=\"data row6 col2\" >0.6254</td>\n",
       "                        <td id=\"T_88cd0_row6_col3\" class=\"data row6 col3\" >0.8073</td>\n",
       "                        <td id=\"T_88cd0_row6_col4\" class=\"data row6 col4\" >0.7048</td>\n",
       "                        <td id=\"T_88cd0_row6_col5\" class=\"data row6 col5\" >0.7038</td>\n",
       "                        <td id=\"T_88cd0_row6_col6\" class=\"data row6 col6\" >0.7096</td>\n",
       "            </tr>\n",
       "            <tr>\n",
       "                        <th id=\"T_88cd0_level0_row7\" class=\"row_heading level0 row7\" >7</th>\n",
       "                        <td id=\"T_88cd0_row7_col0\" class=\"data row7 col0\" >0.9979</td>\n",
       "                        <td id=\"T_88cd0_row7_col1\" class=\"data row7 col1\" >0.9871</td>\n",
       "                        <td id=\"T_88cd0_row7_col2\" class=\"data row7 col2\" >0.6165</td>\n",
       "                        <td id=\"T_88cd0_row7_col3\" class=\"data row7 col3\" >0.8137</td>\n",
       "                        <td id=\"T_88cd0_row7_col4\" class=\"data row7 col4\" >0.7015</td>\n",
       "                        <td id=\"T_88cd0_row7_col5\" class=\"data row7 col5\" >0.7004</td>\n",
       "                        <td id=\"T_88cd0_row7_col6\" class=\"data row7 col6\" >0.7072</td>\n",
       "            </tr>\n",
       "            <tr>\n",
       "                        <th id=\"T_88cd0_level0_row8\" class=\"row_heading level0 row8\" >8</th>\n",
       "                        <td id=\"T_88cd0_row8_col0\" class=\"data row8 col0\" >0.9979</td>\n",
       "                        <td id=\"T_88cd0_row8_col1\" class=\"data row8 col1\" >0.9867</td>\n",
       "                        <td id=\"T_88cd0_row8_col2\" class=\"data row8 col2\" >0.6345</td>\n",
       "                        <td id=\"T_88cd0_row8_col3\" class=\"data row8 col3\" >0.8137</td>\n",
       "                        <td id=\"T_88cd0_row8_col4\" class=\"data row8 col4\" >0.7130</td>\n",
       "                        <td id=\"T_88cd0_row8_col5\" class=\"data row8 col5\" >0.7120</td>\n",
       "                        <td id=\"T_88cd0_row8_col6\" class=\"data row8 col6\" >0.7176</td>\n",
       "            </tr>\n",
       "            <tr>\n",
       "                        <th id=\"T_88cd0_level0_row9\" class=\"row_heading level0 row9\" >9</th>\n",
       "                        <td id=\"T_88cd0_row9_col0\" class=\"data row9 col0\" >0.9979</td>\n",
       "                        <td id=\"T_88cd0_row9_col1\" class=\"data row9 col1\" >0.9888</td>\n",
       "                        <td id=\"T_88cd0_row9_col2\" class=\"data row9 col2\" >0.6380</td>\n",
       "                        <td id=\"T_88cd0_row9_col3\" class=\"data row9 col3\" >0.8032</td>\n",
       "                        <td id=\"T_88cd0_row9_col4\" class=\"data row9 col4\" >0.7111</td>\n",
       "                        <td id=\"T_88cd0_row9_col5\" class=\"data row9 col5\" >0.7101</td>\n",
       "                        <td id=\"T_88cd0_row9_col6\" class=\"data row9 col6\" >0.7148</td>\n",
       "            </tr>\n",
       "            <tr>\n",
       "                        <th id=\"T_88cd0_level0_row10\" class=\"row_heading level0 row10\" >Mean</th>\n",
       "                        <td id=\"T_88cd0_row10_col0\" class=\"data row10 col0\" >0.9979</td>\n",
       "                        <td id=\"T_88cd0_row10_col1\" class=\"data row10 col1\" >0.9872</td>\n",
       "                        <td id=\"T_88cd0_row10_col2\" class=\"data row10 col2\" >0.6254</td>\n",
       "                        <td id=\"T_88cd0_row10_col3\" class=\"data row10 col3\" >0.8110</td>\n",
       "                        <td id=\"T_88cd0_row10_col4\" class=\"data row10 col4\" >0.7062</td>\n",
       "                        <td id=\"T_88cd0_row10_col5\" class=\"data row10 col5\" >0.7051</td>\n",
       "                        <td id=\"T_88cd0_row10_col6\" class=\"data row10 col6\" >0.7112</td>\n",
       "            </tr>\n",
       "            <tr>\n",
       "                        <th id=\"T_88cd0_level0_row11\" class=\"row_heading level0 row11\" >SD</th>\n",
       "                        <td id=\"T_88cd0_row11_col0\" class=\"data row11 col0\" >0.0001</td>\n",
       "                        <td id=\"T_88cd0_row11_col1\" class=\"data row11 col1\" >0.0018</td>\n",
       "                        <td id=\"T_88cd0_row11_col2\" class=\"data row11 col2\" >0.0116</td>\n",
       "                        <td id=\"T_88cd0_row11_col3\" class=\"data row11 col3\" >0.0102</td>\n",
       "                        <td id=\"T_88cd0_row11_col4\" class=\"data row11 col4\" >0.0099</td>\n",
       "                        <td id=\"T_88cd0_row11_col5\" class=\"data row11 col5\" >0.0099</td>\n",
       "                        <td id=\"T_88cd0_row11_col6\" class=\"data row11 col6\" >0.0097</td>\n",
       "            </tr>\n",
       "    </tbody></table>"
      ],
      "text/plain": [
       "<pandas.io.formats.style.Styler at 0x7f6abe6d2bb0>"
      ]
     },
     "metadata": {},
     "output_type": "display_data"
    }
   ],
   "source": [
    "stacked_model_AGN = pyc.stack_models(estimator_list=top_model_AGN[1:], meta_model=top_model_AGN[0])"
   ]
  },
  {
   "cell_type": "code",
   "execution_count": 56,
   "id": "Dz0XvX17teel",
   "metadata": {
    "id": "Dz0XvX17teel"
   },
   "outputs": [
    {
     "data": {
      "text/html": [
       "<style  type=\"text/css\" >\n",
       "#T_e590d_row10_col0,#T_e590d_row10_col1,#T_e590d_row10_col2,#T_e590d_row10_col3,#T_e590d_row10_col4,#T_e590d_row10_col5,#T_e590d_row10_col6{\n",
       "            background:  yellow;\n",
       "        }</style><table id=\"T_e590d_\" ><thead>    <tr>        <th class=\"blank level0\" ></th>        <th class=\"col_heading level0 col0\" >Accuracy</th>        <th class=\"col_heading level0 col1\" >AUC</th>        <th class=\"col_heading level0 col2\" >Recall</th>        <th class=\"col_heading level0 col3\" >Prec.</th>        <th class=\"col_heading level0 col4\" >F1</th>        <th class=\"col_heading level0 col5\" >Kappa</th>        <th class=\"col_heading level0 col6\" >MCC</th>    </tr></thead><tbody>\n",
       "                <tr>\n",
       "                        <th id=\"T_e590d_level0_row0\" class=\"row_heading level0 row0\" >0</th>\n",
       "                        <td id=\"T_e590d_row0_col0\" class=\"data row0 col0\" >0.9978</td>\n",
       "                        <td id=\"T_e590d_row0_col1\" class=\"data row0 col1\" >0.9838</td>\n",
       "                        <td id=\"T_e590d_row0_col2\" class=\"data row0 col2\" >0.6630</td>\n",
       "                        <td id=\"T_e590d_row0_col3\" class=\"data row0 col3\" >0.7607</td>\n",
       "                        <td id=\"T_e590d_row0_col4\" class=\"data row0 col4\" >0.7085</td>\n",
       "                        <td id=\"T_e590d_row0_col5\" class=\"data row0 col5\" >0.7074</td>\n",
       "                        <td id=\"T_e590d_row0_col6\" class=\"data row0 col6\" >0.7091</td>\n",
       "            </tr>\n",
       "            <tr>\n",
       "                        <th id=\"T_e590d_level0_row1\" class=\"row_heading level0 row1\" >1</th>\n",
       "                        <td id=\"T_e590d_row1_col0\" class=\"data row1 col0\" >0.9978</td>\n",
       "                        <td id=\"T_e590d_row1_col1\" class=\"data row1 col1\" >0.9834</td>\n",
       "                        <td id=\"T_e590d_row1_col2\" class=\"data row1 col2\" >0.6967</td>\n",
       "                        <td id=\"T_e590d_row1_col3\" class=\"data row1 col3\" >0.7541</td>\n",
       "                        <td id=\"T_e590d_row1_col4\" class=\"data row1 col4\" >0.7243</td>\n",
       "                        <td id=\"T_e590d_row1_col5\" class=\"data row1 col5\" >0.7232</td>\n",
       "                        <td id=\"T_e590d_row1_col6\" class=\"data row1 col6\" >0.7237</td>\n",
       "            </tr>\n",
       "            <tr>\n",
       "                        <th id=\"T_e590d_level0_row2\" class=\"row_heading level0 row2\" >2</th>\n",
       "                        <td id=\"T_e590d_row2_col0\" class=\"data row2 col0\" >0.9980</td>\n",
       "                        <td id=\"T_e590d_row2_col1\" class=\"data row2 col1\" >0.9798</td>\n",
       "                        <td id=\"T_e590d_row2_col2\" class=\"data row2 col2\" >0.7077</td>\n",
       "                        <td id=\"T_e590d_row2_col3\" class=\"data row2 col3\" >0.7689</td>\n",
       "                        <td id=\"T_e590d_row2_col4\" class=\"data row2 col4\" >0.7371</td>\n",
       "                        <td id=\"T_e590d_row2_col5\" class=\"data row2 col5\" >0.7360</td>\n",
       "                        <td id=\"T_e590d_row2_col6\" class=\"data row2 col6\" >0.7367</td>\n",
       "            </tr>\n",
       "            <tr>\n",
       "                        <th id=\"T_e590d_level0_row3\" class=\"row_heading level0 row3\" >3</th>\n",
       "                        <td id=\"T_e590d_row3_col0\" class=\"data row3 col0\" >0.9978</td>\n",
       "                        <td id=\"T_e590d_row3_col1\" class=\"data row3 col1\" >0.9778</td>\n",
       "                        <td id=\"T_e590d_row3_col2\" class=\"data row3 col2\" >0.6845</td>\n",
       "                        <td id=\"T_e590d_row3_col3\" class=\"data row3 col3\" >0.7576</td>\n",
       "                        <td id=\"T_e590d_row3_col4\" class=\"data row3 col4\" >0.7192</td>\n",
       "                        <td id=\"T_e590d_row3_col5\" class=\"data row3 col5\" >0.7181</td>\n",
       "                        <td id=\"T_e590d_row3_col6\" class=\"data row3 col6\" >0.7190</td>\n",
       "            </tr>\n",
       "            <tr>\n",
       "                        <th id=\"T_e590d_level0_row4\" class=\"row_heading level0 row4\" >4</th>\n",
       "                        <td id=\"T_e590d_row4_col0\" class=\"data row4 col0\" >0.9977</td>\n",
       "                        <td id=\"T_e590d_row4_col1\" class=\"data row4 col1\" >0.9741</td>\n",
       "                        <td id=\"T_e590d_row4_col2\" class=\"data row4 col2\" >0.6551</td>\n",
       "                        <td id=\"T_e590d_row4_col3\" class=\"data row4 col3\" >0.7431</td>\n",
       "                        <td id=\"T_e590d_row4_col4\" class=\"data row4 col4\" >0.6963</td>\n",
       "                        <td id=\"T_e590d_row4_col5\" class=\"data row4 col5\" >0.6951</td>\n",
       "                        <td id=\"T_e590d_row4_col6\" class=\"data row4 col6\" >0.6965</td>\n",
       "            </tr>\n",
       "            <tr>\n",
       "                        <th id=\"T_e590d_level0_row5\" class=\"row_heading level0 row5\" >5</th>\n",
       "                        <td id=\"T_e590d_row5_col0\" class=\"data row5 col0\" >0.9978</td>\n",
       "                        <td id=\"T_e590d_row5_col1\" class=\"data row5 col1\" >0.9753</td>\n",
       "                        <td id=\"T_e590d_row5_col2\" class=\"data row5 col2\" >0.6684</td>\n",
       "                        <td id=\"T_e590d_row5_col3\" class=\"data row5 col3\" >0.7592</td>\n",
       "                        <td id=\"T_e590d_row5_col4\" class=\"data row5 col4\" >0.7109</td>\n",
       "                        <td id=\"T_e590d_row5_col5\" class=\"data row5 col5\" >0.7098</td>\n",
       "                        <td id=\"T_e590d_row5_col6\" class=\"data row5 col6\" >0.7113</td>\n",
       "            </tr>\n",
       "            <tr>\n",
       "                        <th id=\"T_e590d_level0_row6\" class=\"row_heading level0 row6\" >6</th>\n",
       "                        <td id=\"T_e590d_row6_col0\" class=\"data row6 col0\" >0.9978</td>\n",
       "                        <td id=\"T_e590d_row6_col1\" class=\"data row6 col1\" >0.9795</td>\n",
       "                        <td id=\"T_e590d_row6_col2\" class=\"data row6 col2\" >0.6754</td>\n",
       "                        <td id=\"T_e590d_row6_col3\" class=\"data row6 col3\" >0.7596</td>\n",
       "                        <td id=\"T_e590d_row6_col4\" class=\"data row6 col4\" >0.7150</td>\n",
       "                        <td id=\"T_e590d_row6_col5\" class=\"data row6 col5\" >0.7139</td>\n",
       "                        <td id=\"T_e590d_row6_col6\" class=\"data row6 col6\" >0.7152</td>\n",
       "            </tr>\n",
       "            <tr>\n",
       "                        <th id=\"T_e590d_level0_row7\" class=\"row_heading level0 row7\" >7</th>\n",
       "                        <td id=\"T_e590d_row7_col0\" class=\"data row7 col0\" >0.9978</td>\n",
       "                        <td id=\"T_e590d_row7_col1\" class=\"data row7 col1\" >0.9788</td>\n",
       "                        <td id=\"T_e590d_row7_col2\" class=\"data row7 col2\" >0.6688</td>\n",
       "                        <td id=\"T_e590d_row7_col3\" class=\"data row7 col3\" >0.7562</td>\n",
       "                        <td id=\"T_e590d_row7_col4\" class=\"data row7 col4\" >0.7098</td>\n",
       "                        <td id=\"T_e590d_row7_col5\" class=\"data row7 col5\" >0.7087</td>\n",
       "                        <td id=\"T_e590d_row7_col6\" class=\"data row7 col6\" >0.7101</td>\n",
       "            </tr>\n",
       "            <tr>\n",
       "                        <th id=\"T_e590d_level0_row8\" class=\"row_heading level0 row8\" >8</th>\n",
       "                        <td id=\"T_e590d_row8_col0\" class=\"data row8 col0\" >0.9979</td>\n",
       "                        <td id=\"T_e590d_row8_col1\" class=\"data row8 col1\" >0.9786</td>\n",
       "                        <td id=\"T_e590d_row8_col2\" class=\"data row8 col2\" >0.6926</td>\n",
       "                        <td id=\"T_e590d_row8_col3\" class=\"data row8 col3\" >0.7617</td>\n",
       "                        <td id=\"T_e590d_row8_col4\" class=\"data row8 col4\" >0.7255</td>\n",
       "                        <td id=\"T_e590d_row8_col5\" class=\"data row8 col5\" >0.7244</td>\n",
       "                        <td id=\"T_e590d_row8_col6\" class=\"data row8 col6\" >0.7253</td>\n",
       "            </tr>\n",
       "            <tr>\n",
       "                        <th id=\"T_e590d_level0_row9\" class=\"row_heading level0 row9\" >9</th>\n",
       "                        <td id=\"T_e590d_row9_col0\" class=\"data row9 col0\" >0.9978</td>\n",
       "                        <td id=\"T_e590d_row9_col1\" class=\"data row9 col1\" >0.9804</td>\n",
       "                        <td id=\"T_e590d_row9_col2\" class=\"data row9 col2\" >0.6944</td>\n",
       "                        <td id=\"T_e590d_row9_col3\" class=\"data row9 col3\" >0.7525</td>\n",
       "                        <td id=\"T_e590d_row9_col4\" class=\"data row9 col4\" >0.7223</td>\n",
       "                        <td id=\"T_e590d_row9_col5\" class=\"data row9 col5\" >0.7212</td>\n",
       "                        <td id=\"T_e590d_row9_col6\" class=\"data row9 col6\" >0.7218</td>\n",
       "            </tr>\n",
       "            <tr>\n",
       "                        <th id=\"T_e590d_level0_row10\" class=\"row_heading level0 row10\" >Mean</th>\n",
       "                        <td id=\"T_e590d_row10_col0\" class=\"data row10 col0\" >0.9978</td>\n",
       "                        <td id=\"T_e590d_row10_col1\" class=\"data row10 col1\" >0.9792</td>\n",
       "                        <td id=\"T_e590d_row10_col2\" class=\"data row10 col2\" >0.6807</td>\n",
       "                        <td id=\"T_e590d_row10_col3\" class=\"data row10 col3\" >0.7574</td>\n",
       "                        <td id=\"T_e590d_row10_col4\" class=\"data row10 col4\" >0.7169</td>\n",
       "                        <td id=\"T_e590d_row10_col5\" class=\"data row10 col5\" >0.7158</td>\n",
       "                        <td id=\"T_e590d_row10_col6\" class=\"data row10 col6\" >0.7169</td>\n",
       "            </tr>\n",
       "            <tr>\n",
       "                        <th id=\"T_e590d_level0_row11\" class=\"row_heading level0 row11\" >SD</th>\n",
       "                        <td id=\"T_e590d_row11_col0\" class=\"data row11 col0\" >0.0001</td>\n",
       "                        <td id=\"T_e590d_row11_col1\" class=\"data row11 col1\" >0.0029</td>\n",
       "                        <td id=\"T_e590d_row11_col2\" class=\"data row11 col2\" >0.0162</td>\n",
       "                        <td id=\"T_e590d_row11_col3\" class=\"data row11 col3\" >0.0064</td>\n",
       "                        <td id=\"T_e590d_row11_col4\" class=\"data row11 col4\" >0.0107</td>\n",
       "                        <td id=\"T_e590d_row11_col5\" class=\"data row11 col5\" >0.0108</td>\n",
       "                        <td id=\"T_e590d_row11_col6\" class=\"data row11 col6\" >0.0105</td>\n",
       "            </tr>\n",
       "    </tbody></table>"
      ],
      "text/plain": [
       "<pandas.io.formats.style.Styler at 0x7f6a69d4bc40>"
      ]
     },
     "metadata": {},
     "output_type": "display_data"
    }
   ],
   "source": [
    "# tuned_AGN_clf = pyc.tune_model(top_model_AGN, early_stopping='asha', optimize='MCC')  #  minutes\n",
    "tuned_AGN_clf = pyc.tune_model(stacked_model_AGN, early_stopping='asha', optimize='MCC')  #  minutes"
   ]
  },
  {
   "cell_type": "code",
   "execution_count": 57,
   "id": "GJfDVspZtn7Z",
   "metadata": {
    "id": "GJfDVspZtn7Z"
   },
   "outputs": [
    {
     "data": {
      "image/png": "[encoded data removed]",
      "text/plain": [
       "<Figure size 576x396 with 1 Axes>"
      ]
     },
     "metadata": {},
     "output_type": "display_data"
    }
   ],
   "source": [
    "pyc.plot_model(tuned_AGN_clf, plot='confusion_matrix')"
   ]
  },
  {
   "cell_type": "code",
   "execution_count": 58,
   "id": "3N6_OxWptsEe",
   "metadata": {
    "id": "3N6_OxWptsEe",
    "tags": []
   },
   "outputs": [
    {
     "data": {
      "image/png": "[encoded data removed]",
      "text/plain": [
       "<Figure size 576x396 with 2 Axes>"
      ]
     },
     "metadata": {},
     "output_type": "display_data"
    }
   ],
   "source": [
    "pyc.plot_model(tuned_AGN_clf, plot='class_report')"
   ]
  },
  {
   "cell_type": "code",
   "execution_count": 59,
   "id": "f28baf68-967f-40dd-bb92-2fa3b769de1c",
   "metadata": {
    "id": "Mq15jdjqtv3Y"
   },
   "outputs": [
    {
     "data": {
      "image/png": "[encoded data removed]",
      "text/plain": [
       "<Figure size 800x500 with 1 Axes>"
      ]
     },
     "metadata": {},
     "output_type": "display_data"
    }
   ],
   "source": [
    "pyc.plot_model(tuned_AGN_clf.estimators_[0], plot='threshold')"
   ]
  },
  {
   "cell_type": "code",
   "execution_count": 59,
   "id": "Mq15jdjqtv3Y",
   "metadata": {
    "id": "Mq15jdjqtv3Y"
   },
   "outputs": [
    {
     "data": {
      "image/png": "[encoded data removed]",
      "text/plain": [
       "<Figure size 800x500 with 1 Axes>"
      ]
     },
     "metadata": {},
     "output_type": "display_data"
    }
   ],
   "source": [
    "pyc.plot_model(tuned_AGN_clf.estimators_[0], plot='feature_all')"
   ]
  },
  {
   "cell_type": "code",
   "execution_count": 60,
   "id": "82670338-33f5-4440-b64f-4c6cfc323542",
   "metadata": {
    "id": "Mq15jdjqtv3Y"
   },
   "outputs": [
    {
     "data": {
      "text/html": [
       "<div>\n",
       "<style scoped>\n",
       "    .dataframe tbody tr th:only-of-type {\n",
       "        vertical-align: middle;\n",
       "    }\n",
       "\n",
       "    .dataframe tbody tr th {\n",
       "        vertical-align: top;\n",
       "    }\n",
       "\n",
       "    .dataframe thead th {\n",
       "        text-align: right;\n",
       "    }\n",
       "</style>\n",
       "<table border=\"1\" class=\"dataframe\">\n",
       "  <thead>\n",
       "    <tr style=\"text-align: right;\">\n",
       "      <th></th>\n",
       "      <th>Parameters</th>\n",
       "    </tr>\n",
       "  </thead>\n",
       "  <tbody>\n",
       "    <tr>\n",
       "      <th>cv</th>\n",
       "      <td>StratifiedKFold(n_splits=10,\\n        random_s...</td>\n",
       "    </tr>\n",
       "    <tr>\n",
       "      <th>estimators</th>\n",
       "      <td>[('catboost', &lt;catboost.core.CatBoostClassifie...</td>\n",
       "    </tr>\n",
       "    <tr>\n",
       "      <th>final_estimator</th>\n",
       "      <td>XGBClassifier(base_score=0.5, booster='gbtree'...</td>\n",
       "    </tr>\n",
       "    <tr>\n",
       "      <th>n_jobs</th>\n",
       "      <td>12</td>\n",
       "    </tr>\n",
       "    <tr>\n",
       "      <th>passthrough</th>\n",
       "      <td>True</td>\n",
       "    </tr>\n",
       "    <tr>\n",
       "      <th>stack_method</th>\n",
       "      <td>auto</td>\n",
       "    </tr>\n",
       "    <tr>\n",
       "      <th>verbose</th>\n",
       "      <td>0</td>\n",
       "    </tr>\n",
       "  </tbody>\n",
       "</table>\n",
       "</div>"
      ],
      "text/plain": [
       "                                                        Parameters\n",
       "cv               StratifiedKFold(n_splits=10,\\n        random_s...\n",
       "estimators       [('catboost', <catboost.core.CatBoostClassifie...\n",
       "final_estimator  XGBClassifier(base_score=0.5, booster='gbtree'...\n",
       "n_jobs                                                          12\n",
       "passthrough                                                   True\n",
       "stack_method                                                  auto\n",
       "verbose                                                          0"
      ]
     },
     "metadata": {},
     "output_type": "display_data"
    }
   ],
   "source": [
    "pyc.plot_model(tuned_AGN_clf, plot='parameter')"
   ]
  },
  {
   "cell_type": "code",
   "execution_count": 61,
   "id": "t2CRgDLptzuE",
   "metadata": {
    "id": "t2CRgDLptzuE"
   },
   "outputs": [],
   "source": [
    "plt.rcParams.update(plt.rcParamsDefault)"
   ]
  },
  {
   "cell_type": "code",
   "execution_count": 62,
   "id": "16bcca48-930e-4210-89be-7c3a1e9684ce",
   "metadata": {},
   "outputs": [
    {
     "data": {
      "text/html": [
       "<style  type=\"text/css\" >\n",
       "</style><table id=\"T_b1d81_\" ><thead>    <tr>        <th class=\"blank level0\" ></th>        <th class=\"col_heading level0 col0\" >Model</th>        <th class=\"col_heading level0 col1\" >Accuracy</th>        <th class=\"col_heading level0 col2\" >AUC</th>        <th class=\"col_heading level0 col3\" >Recall</th>        <th class=\"col_heading level0 col4\" >Prec.</th>        <th class=\"col_heading level0 col5\" >F1</th>        <th class=\"col_heading level0 col6\" >Kappa</th>        <th class=\"col_heading level0 col7\" >MCC</th>    </tr></thead><tbody>\n",
       "                <tr>\n",
       "                        <th id=\"T_b1d81_level0_row0\" class=\"row_heading level0 row0\" >0</th>\n",
       "                        <td id=\"T_b1d81_row0_col0\" class=\"data row0 col0\" >Stacking Classifier</td>\n",
       "                        <td id=\"T_b1d81_row0_col1\" class=\"data row0 col1\" >0.9977</td>\n",
       "                        <td id=\"T_b1d81_row0_col2\" class=\"data row0 col2\" >0.9780</td>\n",
       "                        <td id=\"T_b1d81_row0_col3\" class=\"data row0 col3\" >0.6736</td>\n",
       "                        <td id=\"T_b1d81_row0_col4\" class=\"data row0 col4\" >0.7384</td>\n",
       "                        <td id=\"T_b1d81_row0_col5\" class=\"data row0 col5\" >0.7045</td>\n",
       "                        <td id=\"T_b1d81_row0_col6\" class=\"data row0 col6\" >0.7034</td>\n",
       "                        <td id=\"T_b1d81_row0_col7\" class=\"data row0 col7\" >0.7041</td>\n",
       "            </tr>\n",
       "    </tbody></table>"
      ],
      "text/plain": [
       "<pandas.io.formats.style.Styler at 0x7f6a69c29160>"
      ]
     },
     "metadata": {},
     "output_type": "display_data"
    },
    {
     "data": {
      "text/html": [
       "<div>\n",
       "<style scoped>\n",
       "    .dataframe tbody tr th:only-of-type {\n",
       "        vertical-align: middle;\n",
       "    }\n",
       "\n",
       "    .dataframe tbody tr th {\n",
       "        vertical-align: top;\n",
       "    }\n",
       "\n",
       "    .dataframe thead th {\n",
       "        text-align: right;\n",
       "    }\n",
       "</style>\n",
       "<table border=\"1\" class=\"dataframe\">\n",
       "  <thead>\n",
       "    <tr style=\"text-align: right;\">\n",
       "      <th></th>\n",
       "      <th>band_num</th>\n",
       "      <th>FUVmag</th>\n",
       "      <th>g_r</th>\n",
       "      <th>r_i</th>\n",
       "      <th>i_z</th>\n",
       "      <th>g_i</th>\n",
       "      <th>w1_w2</th>\n",
       "      <th>w2_w3</th>\n",
       "      <th>w3_w4</th>\n",
       "      <th>H_K</th>\n",
       "      <th>...</th>\n",
       "      <th>r/z</th>\n",
       "      <th>i/y</th>\n",
       "      <th>w1/w4</th>\n",
       "      <th>FUV/K</th>\n",
       "      <th>r/H</th>\n",
       "      <th>z/W1</th>\n",
       "      <th>is_AGN</th>\n",
       "      <th>Label</th>\n",
       "      <th>Score_0</th>\n",
       "      <th>Score_1</th>\n",
       "    </tr>\n",
       "  </thead>\n",
       "  <tbody>\n",
       "    <tr>\n",
       "      <th>0</th>\n",
       "      <td>-1.145079</td>\n",
       "      <td>0.118051</td>\n",
       "      <td>-0.441496</td>\n",
       "      <td>-0.414804</td>\n",
       "      <td>0.484870</td>\n",
       "      <td>-0.621312</td>\n",
       "      <td>0.829487</td>\n",
       "      <td>0.491603</td>\n",
       "      <td>-0.163208</td>\n",
       "      <td>0.081579</td>\n",
       "      <td>...</td>\n",
       "      <td>-0.026053</td>\n",
       "      <td>0.662185</td>\n",
       "      <td>0.208195</td>\n",
       "      <td>-0.079818</td>\n",
       "      <td>0.595025</td>\n",
       "      <td>-0.192464</td>\n",
       "      <td>0</td>\n",
       "      <td>0</td>\n",
       "      <td>0.5</td>\n",
       "      <td>0.5</td>\n",
       "    </tr>\n",
       "    <tr>\n",
       "      <th>1</th>\n",
       "      <td>-1.145079</td>\n",
       "      <td>0.118051</td>\n",
       "      <td>-0.441496</td>\n",
       "      <td>-0.414804</td>\n",
       "      <td>0.484870</td>\n",
       "      <td>-0.621312</td>\n",
       "      <td>0.835671</td>\n",
       "      <td>0.491603</td>\n",
       "      <td>-0.163208</td>\n",
       "      <td>0.081579</td>\n",
       "      <td>...</td>\n",
       "      <td>-0.026053</td>\n",
       "      <td>0.662185</td>\n",
       "      <td>0.455998</td>\n",
       "      <td>-0.079818</td>\n",
       "      <td>0.595025</td>\n",
       "      <td>-0.371136</td>\n",
       "      <td>0</td>\n",
       "      <td>0</td>\n",
       "      <td>0.5</td>\n",
       "      <td>0.5</td>\n",
       "    </tr>\n",
       "    <tr>\n",
       "      <th>2</th>\n",
       "      <td>0.923933</td>\n",
       "      <td>0.118051</td>\n",
       "      <td>-0.441496</td>\n",
       "      <td>2.043164</td>\n",
       "      <td>-1.142193</td>\n",
       "      <td>1.182423</td>\n",
       "      <td>0.145127</td>\n",
       "      <td>0.016518</td>\n",
       "      <td>1.924873</td>\n",
       "      <td>0.081579</td>\n",
       "      <td>...</td>\n",
       "      <td>1.131339</td>\n",
       "      <td>-1.027090</td>\n",
       "      <td>2.074166</td>\n",
       "      <td>-0.079818</td>\n",
       "      <td>0.595025</td>\n",
       "      <td>0.081395</td>\n",
       "      <td>0</td>\n",
       "      <td>0</td>\n",
       "      <td>0.5</td>\n",
       "      <td>0.5</td>\n",
       "    </tr>\n",
       "    <tr>\n",
       "      <th>3</th>\n",
       "      <td>-1.145079</td>\n",
       "      <td>0.118051</td>\n",
       "      <td>-0.441496</td>\n",
       "      <td>-0.414804</td>\n",
       "      <td>0.484870</td>\n",
       "      <td>-0.621312</td>\n",
       "      <td>1.244485</td>\n",
       "      <td>0.491603</td>\n",
       "      <td>-0.163208</td>\n",
       "      <td>0.081579</td>\n",
       "      <td>...</td>\n",
       "      <td>-0.026053</td>\n",
       "      <td>0.662185</td>\n",
       "      <td>0.687731</td>\n",
       "      <td>-0.079818</td>\n",
       "      <td>0.595025</td>\n",
       "      <td>-0.524271</td>\n",
       "      <td>0</td>\n",
       "      <td>0</td>\n",
       "      <td>0.5</td>\n",
       "      <td>0.5</td>\n",
       "    </tr>\n",
       "    <tr>\n",
       "      <th>4</th>\n",
       "      <td>0.229464</td>\n",
       "      <td>0.118051</td>\n",
       "      <td>-0.441496</td>\n",
       "      <td>-0.414804</td>\n",
       "      <td>0.484870</td>\n",
       "      <td>-0.621312</td>\n",
       "      <td>1.015121</td>\n",
       "      <td>1.112446</td>\n",
       "      <td>0.319964</td>\n",
       "      <td>0.081579</td>\n",
       "      <td>...</td>\n",
       "      <td>-0.026053</td>\n",
       "      <td>0.662185</td>\n",
       "      <td>1.180247</td>\n",
       "      <td>-0.079818</td>\n",
       "      <td>0.595025</td>\n",
       "      <td>0.747166</td>\n",
       "      <td>0</td>\n",
       "      <td>0</td>\n",
       "      <td>0.5</td>\n",
       "      <td>0.5</td>\n",
       "    </tr>\n",
       "    <tr>\n",
       "      <th>...</th>\n",
       "      <td>...</td>\n",
       "      <td>...</td>\n",
       "      <td>...</td>\n",
       "      <td>...</td>\n",
       "      <td>...</td>\n",
       "      <td>...</td>\n",
       "      <td>...</td>\n",
       "      <td>...</td>\n",
       "      <td>...</td>\n",
       "      <td>...</td>\n",
       "      <td>...</td>\n",
       "      <td>...</td>\n",
       "      <td>...</td>\n",
       "      <td>...</td>\n",
       "      <td>...</td>\n",
       "      <td>...</td>\n",
       "      <td>...</td>\n",
       "      <td>...</td>\n",
       "      <td>...</td>\n",
       "      <td>...</td>\n",
       "      <td>...</td>\n",
       "    </tr>\n",
       "    <tr>\n",
       "      <th>1817000</th>\n",
       "      <td>-1.145079</td>\n",
       "      <td>0.118051</td>\n",
       "      <td>-0.441496</td>\n",
       "      <td>-0.414804</td>\n",
       "      <td>0.484870</td>\n",
       "      <td>-0.621312</td>\n",
       "      <td>-0.092303</td>\n",
       "      <td>0.491603</td>\n",
       "      <td>-0.163208</td>\n",
       "      <td>0.081579</td>\n",
       "      <td>...</td>\n",
       "      <td>-0.026053</td>\n",
       "      <td>0.662185</td>\n",
       "      <td>-1.314701</td>\n",
       "      <td>-0.079818</td>\n",
       "      <td>0.595025</td>\n",
       "      <td>1.601069</td>\n",
       "      <td>0</td>\n",
       "      <td>0</td>\n",
       "      <td>0.5</td>\n",
       "      <td>0.5</td>\n",
       "    </tr>\n",
       "    <tr>\n",
       "      <th>1817001</th>\n",
       "      <td>0.229464</td>\n",
       "      <td>0.118051</td>\n",
       "      <td>-0.441496</td>\n",
       "      <td>-0.414804</td>\n",
       "      <td>0.484870</td>\n",
       "      <td>-0.621312</td>\n",
       "      <td>0.394868</td>\n",
       "      <td>0.819670</td>\n",
       "      <td>-0.526388</td>\n",
       "      <td>0.081579</td>\n",
       "      <td>...</td>\n",
       "      <td>-0.026053</td>\n",
       "      <td>0.662185</td>\n",
       "      <td>0.351924</td>\n",
       "      <td>-0.079818</td>\n",
       "      <td>0.595025</td>\n",
       "      <td>0.793904</td>\n",
       "      <td>0</td>\n",
       "      <td>0</td>\n",
       "      <td>0.5</td>\n",
       "      <td>0.5</td>\n",
       "    </tr>\n",
       "    <tr>\n",
       "      <th>1817002</th>\n",
       "      <td>1.297614</td>\n",
       "      <td>0.118051</td>\n",
       "      <td>0.464435</td>\n",
       "      <td>0.086001</td>\n",
       "      <td>-0.449426</td>\n",
       "      <td>0.436799</td>\n",
       "      <td>0.055558</td>\n",
       "      <td>-0.577332</td>\n",
       "      <td>-0.456921</td>\n",
       "      <td>0.081579</td>\n",
       "      <td>...</td>\n",
       "      <td>-0.210268</td>\n",
       "      <td>-1.015671</td>\n",
       "      <td>-0.414600</td>\n",
       "      <td>-0.079818</td>\n",
       "      <td>-1.397428</td>\n",
       "      <td>-0.734389</td>\n",
       "      <td>0</td>\n",
       "      <td>0</td>\n",
       "      <td>0.5</td>\n",
       "      <td>0.5</td>\n",
       "    </tr>\n",
       "    <tr>\n",
       "      <th>1817003</th>\n",
       "      <td>0.485678</td>\n",
       "      <td>0.118051</td>\n",
       "      <td>-0.441496</td>\n",
       "      <td>-0.414804</td>\n",
       "      <td>0.484870</td>\n",
       "      <td>-0.621312</td>\n",
       "      <td>1.197064</td>\n",
       "      <td>-1.006604</td>\n",
       "      <td>-0.702779</td>\n",
       "      <td>0.081579</td>\n",
       "      <td>...</td>\n",
       "      <td>-0.026053</td>\n",
       "      <td>0.662185</td>\n",
       "      <td>-0.086892</td>\n",
       "      <td>-0.079818</td>\n",
       "      <td>0.595025</td>\n",
       "      <td>1.759593</td>\n",
       "      <td>0</td>\n",
       "      <td>0</td>\n",
       "      <td>0.5</td>\n",
       "      <td>0.5</td>\n",
       "    </tr>\n",
       "    <tr>\n",
       "      <th>1817004</th>\n",
       "      <td>-1.145079</td>\n",
       "      <td>0.118051</td>\n",
       "      <td>-0.441496</td>\n",
       "      <td>-0.414804</td>\n",
       "      <td>0.484870</td>\n",
       "      <td>-0.621312</td>\n",
       "      <td>3.117651</td>\n",
       "      <td>0.491603</td>\n",
       "      <td>-0.163208</td>\n",
       "      <td>0.081579</td>\n",
       "      <td>...</td>\n",
       "      <td>-0.026053</td>\n",
       "      <td>0.662185</td>\n",
       "      <td>2.610811</td>\n",
       "      <td>-0.079818</td>\n",
       "      <td>0.595025</td>\n",
       "      <td>-1.503399</td>\n",
       "      <td>0</td>\n",
       "      <td>0</td>\n",
       "      <td>0.5</td>\n",
       "      <td>0.5</td>\n",
       "    </tr>\n",
       "  </tbody>\n",
       "</table>\n",
       "<p>1817005 rows × 21 columns</p>\n",
       "</div>"
      ],
      "text/plain": [
       "         band_num    FUVmag       g_r       r_i       i_z       g_i     w1_w2  \\\n",
       "0       -1.145079  0.118051 -0.441496 -0.414804  0.484870 -0.621312  0.829487   \n",
       "1       -1.145079  0.118051 -0.441496 -0.414804  0.484870 -0.621312  0.835671   \n",
       "2        0.923933  0.118051 -0.441496  2.043164 -1.142193  1.182423  0.145127   \n",
       "3       -1.145079  0.118051 -0.441496 -0.414804  0.484870 -0.621312  1.244485   \n",
       "4        0.229464  0.118051 -0.441496 -0.414804  0.484870 -0.621312  1.015121   \n",
       "...           ...       ...       ...       ...       ...       ...       ...   \n",
       "1817000 -1.145079  0.118051 -0.441496 -0.414804  0.484870 -0.621312 -0.092303   \n",
       "1817001  0.229464  0.118051 -0.441496 -0.414804  0.484870 -0.621312  0.394868   \n",
       "1817002  1.297614  0.118051  0.464435  0.086001 -0.449426  0.436799  0.055558   \n",
       "1817003  0.485678  0.118051 -0.441496 -0.414804  0.484870 -0.621312  1.197064   \n",
       "1817004 -1.145079  0.118051 -0.441496 -0.414804  0.484870 -0.621312  3.117651   \n",
       "\n",
       "            w2_w3     w3_w4       H_K  ...       r/z       i/y     w1/w4  \\\n",
       "0        0.491603 -0.163208  0.081579  ... -0.026053  0.662185  0.208195   \n",
       "1        0.491603 -0.163208  0.081579  ... -0.026053  0.662185  0.455998   \n",
       "2        0.016518  1.924873  0.081579  ...  1.131339 -1.027090  2.074166   \n",
       "3        0.491603 -0.163208  0.081579  ... -0.026053  0.662185  0.687731   \n",
       "4        1.112446  0.319964  0.081579  ... -0.026053  0.662185  1.180247   \n",
       "...           ...       ...       ...  ...       ...       ...       ...   \n",
       "1817000  0.491603 -0.163208  0.081579  ... -0.026053  0.662185 -1.314701   \n",
       "1817001  0.819670 -0.526388  0.081579  ... -0.026053  0.662185  0.351924   \n",
       "1817002 -0.577332 -0.456921  0.081579  ... -0.210268 -1.015671 -0.414600   \n",
       "1817003 -1.006604 -0.702779  0.081579  ... -0.026053  0.662185 -0.086892   \n",
       "1817004  0.491603 -0.163208  0.081579  ... -0.026053  0.662185  2.610811   \n",
       "\n",
       "            FUV/K       r/H      z/W1  is_AGN  Label  Score_0  Score_1  \n",
       "0       -0.079818  0.595025 -0.192464       0      0      0.5      0.5  \n",
       "1       -0.079818  0.595025 -0.371136       0      0      0.5      0.5  \n",
       "2       -0.079818  0.595025  0.081395       0      0      0.5      0.5  \n",
       "3       -0.079818  0.595025 -0.524271       0      0      0.5      0.5  \n",
       "4       -0.079818  0.595025  0.747166       0      0      0.5      0.5  \n",
       "...           ...       ...       ...     ...    ...      ...      ...  \n",
       "1817000 -0.079818  0.595025  1.601069       0      0      0.5      0.5  \n",
       "1817001 -0.079818  0.595025  0.793904       0      0      0.5      0.5  \n",
       "1817002 -0.079818 -1.397428 -0.734389       0      0      0.5      0.5  \n",
       "1817003 -0.079818  0.595025  1.759593       0      0      0.5      0.5  \n",
       "1817004 -0.079818  0.595025 -1.503399       0      0      0.5      0.5  \n",
       "\n",
       "[1817005 rows x 21 columns]"
      ]
     },
     "execution_count": 62,
     "metadata": {},
     "output_type": "execute_result"
    }
   ],
   "source": [
    "pyc.predict_model(tuned_AGN_clf, probability_threshold=0.5, raw_score=True)"
   ]
  },
  {
   "cell_type": "code",
   "execution_count": 63,
   "id": "c5e351d3-343b-4c30-8a42-37445a3dd91a",
   "metadata": {},
   "outputs": [
    {
     "data": {
      "text/html": [
       "<style  type=\"text/css\" >\n",
       "</style><table id=\"T_5c98e_\" ><thead>    <tr>        <th class=\"blank level0\" ></th>        <th class=\"col_heading level0 col0\" >Model</th>        <th class=\"col_heading level0 col1\" >Accuracy</th>        <th class=\"col_heading level0 col2\" >AUC</th>        <th class=\"col_heading level0 col3\" >Recall</th>        <th class=\"col_heading level0 col4\" >Prec.</th>        <th class=\"col_heading level0 col5\" >F1</th>        <th class=\"col_heading level0 col6\" >Kappa</th>        <th class=\"col_heading level0 col7\" >MCC</th>    </tr></thead><tbody>\n",
       "                <tr>\n",
       "                        <th id=\"T_5c98e_level0_row0\" class=\"row_heading level0 row0\" >0</th>\n",
       "                        <td id=\"T_5c98e_row0_col0\" class=\"data row0 col0\" >Stacking Classifier</td>\n",
       "                        <td id=\"T_5c98e_row0_col1\" class=\"data row0 col1\" >0.9977</td>\n",
       "                        <td id=\"T_5c98e_row0_col2\" class=\"data row0 col2\" >0.9780</td>\n",
       "                        <td id=\"T_5c98e_row0_col3\" class=\"data row0 col3\" >0.6736</td>\n",
       "                        <td id=\"T_5c98e_row0_col4\" class=\"data row0 col4\" >0.7384</td>\n",
       "                        <td id=\"T_5c98e_row0_col5\" class=\"data row0 col5\" >0.7045</td>\n",
       "                        <td id=\"T_5c98e_row0_col6\" class=\"data row0 col6\" >0.7034</td>\n",
       "                        <td id=\"T_5c98e_row0_col7\" class=\"data row0 col7\" >0.7041</td>\n",
       "            </tr>\n",
       "    </tbody></table>"
      ],
      "text/plain": [
       "<pandas.io.formats.style.Styler at 0x7f6abde6ca90>"
      ]
     },
     "metadata": {},
     "output_type": "display_data"
    }
   ],
   "source": [
    "test_prediction_clf = pyc.predict_model(tuned_AGN_clf, probability_threshold=0.5, raw_score=True)"
   ]
  },
  {
   "cell_type": "markdown",
   "id": "33fb0cc0-5c96-491a-9ef1-26640d9ed884",
   "metadata": {},
   "source": [
    "Metrics from applying model to test data.  \n",
    "\n",
    "|Model                    |Accuracy|AUC   |Recall|Prec. |F1    |Kappa |MCC   |\n",
    "|-------------------------|--------|------|------|------|------|------|------|\n",
    "|Extreme Gradient Boosting|0.9978  |0.9781|0.5978|0.8092|0.6876|0.6865|0.6945|"
   ]
  },
  {
   "cell_type": "code",
   "execution_count": 64,
   "id": "WsMuc6dtt2ci",
   "metadata": {
    "id": "WsMuc6dtt2ci"
   },
   "outputs": [
    {
     "name": "stderr",
     "output_type": "stream",
     "text": [
      "/home/rcarvajal/.anaconda3/lib/python3.8/site-packages/xgboost/sklearn.py:1224: UserWarning: The use of label encoder in XGBClassifier is deprecated and will be removed in a future release. To remove this warning, do the following: 1) Pass option use_label_encoder=False when constructing XGBClassifier object; and 2) Encode your labels (y) as integers starting with 0, i.e. 0, 1, 2, ..., [num_class - 1].\n",
      "  warnings.warn(label_encoder_deprecation_msg, UserWarning)\n",
      "/home/rcarvajal/.anaconda3/lib/python3.8/site-packages/xgboost/sklearn.py:1224: UserWarning: The use of label encoder in XGBClassifier is deprecated and will be removed in a future release. To remove this warning, do the following: 1) Pass option use_label_encoder=False when constructing XGBClassifier object; and 2) Encode your labels (y) as integers starting with 0, i.e. 0, 1, 2, ..., [num_class - 1].\n",
      "  warnings.warn(label_encoder_deprecation_msg, UserWarning)\n",
      "/home/rcarvajal/.anaconda3/lib/python3.8/site-packages/xgboost/sklearn.py:1224: UserWarning: The use of label encoder in XGBClassifier is deprecated and will be removed in a future release. To remove this warning, do the following: 1) Pass option use_label_encoder=False when constructing XGBClassifier object; and 2) Encode your labels (y) as integers starting with 0, i.e. 0, 1, 2, ..., [num_class - 1].\n",
      "  warnings.warn(label_encoder_deprecation_msg, UserWarning)\n",
      "/home/rcarvajal/.anaconda3/lib/python3.8/site-packages/xgboost/sklearn.py:1224: UserWarning: The use of label encoder in XGBClassifier is deprecated and will be removed in a future release. To remove this warning, do the following: 1) Pass option use_label_encoder=False when constructing XGBClassifier object; and 2) Encode your labels (y) as integers starting with 0, i.e. 0, 1, 2, ..., [num_class - 1].\n",
      "  warnings.warn(label_encoder_deprecation_msg, UserWarning)\n",
      "/home/rcarvajal/.anaconda3/lib/python3.8/site-packages/xgboost/sklearn.py:1224: UserWarning: The use of label encoder in XGBClassifier is deprecated and will be removed in a future release. To remove this warning, do the following: 1) Pass option use_label_encoder=False when constructing XGBClassifier object; and 2) Encode your labels (y) as integers starting with 0, i.e. 0, 1, 2, ..., [num_class - 1].\n",
      "  warnings.warn(label_encoder_deprecation_msg, UserWarning)\n",
      "/home/rcarvajal/.anaconda3/lib/python3.8/site-packages/xgboost/sklearn.py:1224: UserWarning: The use of label encoder in XGBClassifier is deprecated and will be removed in a future release. To remove this warning, do the following: 1) Pass option use_label_encoder=False when constructing XGBClassifier object; and 2) Encode your labels (y) as integers starting with 0, i.e. 0, 1, 2, ..., [num_class - 1].\n",
      "  warnings.warn(label_encoder_deprecation_msg, UserWarning)\n",
      "/home/rcarvajal/.anaconda3/lib/python3.8/site-packages/xgboost/sklearn.py:1224: UserWarning: The use of label encoder in XGBClassifier is deprecated and will be removed in a future release. To remove this warning, do the following: 1) Pass option use_label_encoder=False when constructing XGBClassifier object; and 2) Encode your labels (y) as integers starting with 0, i.e. 0, 1, 2, ..., [num_class - 1].\n",
      "  warnings.warn(label_encoder_deprecation_msg, UserWarning)\n",
      "/home/rcarvajal/.anaconda3/lib/python3.8/site-packages/xgboost/sklearn.py:1224: UserWarning: The use of label encoder in XGBClassifier is deprecated and will be removed in a future release. To remove this warning, do the following: 1) Pass option use_label_encoder=False when constructing XGBClassifier object; and 2) Encode your labels (y) as integers starting with 0, i.e. 0, 1, 2, ..., [num_class - 1].\n",
      "  warnings.warn(label_encoder_deprecation_msg, UserWarning)\n",
      "/home/rcarvajal/.anaconda3/lib/python3.8/site-packages/xgboost/sklearn.py:1224: UserWarning: The use of label encoder in XGBClassifier is deprecated and will be removed in a future release. To remove this warning, do the following: 1) Pass option use_label_encoder=False when constructing XGBClassifier object; and 2) Encode your labels (y) as integers starting with 0, i.e. 0, 1, 2, ..., [num_class - 1].\n",
      "  warnings.warn(label_encoder_deprecation_msg, UserWarning)\n",
      "/home/rcarvajal/.anaconda3/lib/python3.8/site-packages/xgboost/sklearn.py:1224: UserWarning: The use of label encoder in XGBClassifier is deprecated and will be removed in a future release. To remove this warning, do the following: 1) Pass option use_label_encoder=False when constructing XGBClassifier object; and 2) Encode your labels (y) as integers starting with 0, i.e. 0, 1, 2, ..., [num_class - 1].\n",
      "  warnings.warn(label_encoder_deprecation_msg, UserWarning)\n",
      "Custom logger is already specified. Specify more than one logger at same time is not thread safe.Custom logger is already specified. Specify more than one logger at same time is not thread safe.Custom logger is already specified. Specify more than one logger at same time is not thread safe.Custom logger is already specified. Specify more than one logger at same time is not thread safe.Custom logger is already specified. Specify more than one logger at same time is not thread safe.Custom logger is already specified. Specify more than one logger at same time is not thread safe.Custom logger is already specified. Specify more than one logger at same time is not thread safe.Custom logger is already specified. Specify more than one logger at same time is not thread safe.Custom logger is already specified. Specify more than one logger at same time is not thread safe."
     ]
    }
   ],
   "source": [
    "final_AGN_clf = pyc.finalize_model(tuned_AGN_clf)"
   ]
  },
  {
   "cell_type": "code",
   "execution_count": 65,
   "id": "kAciINC6t-gk",
   "metadata": {
    "id": "kAciINC6t-gk"
   },
   "outputs": [
    {
     "name": "stdout",
     "output_type": "stream",
     "text": [
      "Transformation Pipeline and Model Successfully Saved\n"
     ]
    },
    {
     "data": {
      "text/plain": [
       "(Pipeline(memory=None,\n",
       "          steps=[('dtypes',\n",
       "                  DataTypes_Auto_infer(categorical_features=[],\n",
       "                                       display_types=False,\n",
       "                                       features_todrop=['Hmag', 'Kmag', 'W2mag',\n",
       "                                                        'zmag', 'rmag', 'Jmag',\n",
       "                                                        'W2mproPM', 'w1/w3',\n",
       "                                                        'i/K', 'NUVmag', 'ymag',\n",
       "                                                        'J/K', 'w2/w4', 'W1mag',\n",
       "                                                        'gmag', 'W4mag', 'imag',\n",
       "                                                        'g/J', 'W1mproPM',\n",
       "                                                        'y/W2', 'J_H', 'z_y',\n",
       "                                                        'W3mag'],\n",
       "                                       id_columns=[],\n",
       "                                       ml_usecase='classification',\n",
       "                                       numerical_featu...\n",
       "                                                                   missing=nan,\n",
       "                                                                   monotone_constraints='()',\n",
       "                                                                   n_estimators=40,\n",
       "                                                                   n_jobs=12,\n",
       "                                                                   num_parallel_tree=1,\n",
       "                                                                   objective='binary:logistic',\n",
       "                                                                   predictor='auto',\n",
       "                                                                   random_state=42,\n",
       "                                                                   reg_alpha=4,\n",
       "                                                                   reg_lambda=0.5,\n",
       "                                                                   scale_pos_weight=2.0,\n",
       "                                                                   subsample=1,\n",
       "                                                                   tree_method='auto',\n",
       "                                                                   use_label_encoder=True,\n",
       "                                                                   validate_parameters=1,\n",
       "                                                                   verbosity=0),\n",
       "                                     n_jobs=12, passthrough=True,\n",
       "                                     stack_method='auto', verbose=0)]],\n",
       "          verbose=False),\n",
       " 'model_final_HETDEX_AGN_detect_nov_27_2021.pkl')"
      ]
     },
     "execution_count": 65,
     "metadata": {},
     "output_type": "execute_result"
    }
   ],
   "source": [
    "# pyc.save_model(final_AGN_clf, '../../models/model_final_HETDEX_AGN_detect_nov_27_2021')  # Model (it will be saved with .pkl extension)\n",
    "# pyc.save_config('../../models/config_final_HETDEX_AGN_detect_nov_27_2021')  # Configuration file\n",
    "if save_model_flag:\n",
    "    if use_5sigma:\n",
    "        if mqc_version == '7_2':\n",
    "            pyc.save_model(final_AGN_clf, '../../models/model_final_HETDEX_AGN_detect_mar_15_2022')  # Model (it will be saved with .pkl extension)\n",
    "            # pyc.save_config('../../models/config_final_HETDEX_AGN_detect_mar_15_2022')  # Configuration file\n",
    "        if mqc_version == '7_4d':\n",
    "            pyc.save_model(final_AGN_clf, '../../models/model_final_HETDEX_AGN_detect_mar_28_2022')  # Model (it will be saved with .pkl extension)\n",
    "            # pyc.save_config('../../models/config_final_HETDEX_AGN_detect_mar_28_2022')  # Configuration file"
   ]
  },
  {
   "cell_type": "markdown",
   "id": "ef654bbb-7b74-4cef-a809-42d2eb8e7fcb",
   "metadata": {
    "id": "ef654bbb-7b74-4cef-a809-42d2eb8e7fcb"
   },
   "source": [
    "## Load Models"
   ]
  },
  {
   "cell_type": "markdown",
   "id": "217777e4-0212-4a37-b535-6fcaf2f0817e",
   "metadata": {
    "id": "217777e4-0212-4a37-b535-6fcaf2f0817e"
   },
   "source": [
    "AGN detection model."
   ]
  },
  {
   "cell_type": "code",
   "execution_count": 49,
   "id": "ad6bf94f-c59d-4013-b523-76a77df047cc",
   "metadata": {
    "id": "ad6bf94f-c59d-4013-b523-76a77df047cc",
    "outputId": "d8cd5b82-e109-4bd1-90ea-bf0e85e10ccd",
    "tags": []
   },
   "outputs": [
    {
     "name": "stdout",
     "output_type": "stream",
     "text": [
      "Transformation Pipeline and Model Successfully Loaded\n"
     ]
    }
   ],
   "source": [
    "if load_model_flag:\n",
    "    # final_AGN_clf = pyc.load_model('../../models/model_final_HETDEX_AGN_detect_nov_27_2021')\n",
    "    if use_5sigma:\n",
    "        if mqc_version == '7_2':\n",
    "            final_AGN_clf = pyc.load_model('../../models/model_final_HETDEX_AGN_detect_mar_15_2022')\n",
    "        if mqc_version == '7_4d':\n",
    "            final_AGN_clf = pyc.load_model('../../models/model_final_HETDEX_AGN_detect_mar_28_2022')"
   ]
  },
  {
   "cell_type": "markdown",
   "id": "6fcb2c6c-a004-4801-b43d-a3593f802cf5",
   "metadata": {
    "id": "6fcb2c6c-a004-4801-b43d-a3593f802cf5"
   },
   "source": [
    "### Prediction process"
   ]
  },
  {
   "cell_type": "markdown",
   "id": "d08aeba7-5a4c-4ae1-bf5c-34251a6b0f63",
   "metadata": {},
   "source": [
    "#### Feature importances"
   ]
  },
  {
   "cell_type": "code",
   "execution_count": 50,
   "id": "5913b67b-3790-4d68-b6e6-9399616d835f",
   "metadata": {
    "tags": []
   },
   "outputs": [],
   "source": [
    "extended_data_AGN = data_validation_AGN_df.loc[:, final_AGN_clf.named_steps['dtypes'].numerical_features].copy()\n",
    "extended_idx_AGN  = extended_data_AGN.index\n",
    "initial_cols_AGN  = extended_data_AGN.columns\n",
    "if mqc_version == '7_2':\n",
    "    extended_cols_AGN = extended_data_AGN.columns.insert(0, 'catboost')\n",
    "    extended_cols_AGN = extended_cols_AGN.insert(0, 'rf')\n",
    "if mqc_version == '7_4d':\n",
    "    extended_cols_AGN = extended_data_AGN.columns.insert(0, 'catboost')\n",
    "    extended_cols_AGN = extended_cols_AGN.insert(0, 'rf')\n",
    "    extended_cols_AGN = extended_cols_AGN.insert(0, 'et')\n",
    "    extended_cols_AGN = extended_cols_AGN.insert(0, 'lightgbm')"
   ]
  },
  {
   "cell_type": "code",
   "execution_count": 51,
   "id": "ac4af6f8-d5b4-4424-aede-5c91efb62588",
   "metadata": {
    "jupyter": {
     "source_hidden": true
    },
    "tags": []
   },
   "outputs": [
    {
     "name": "stdout",
     "output_type": "stream",
     "text": [
      "Running data pre-processing:\n",
      "\n",
      "Running dtypes\n",
      "Running imputer\n",
      "Running new_levels1\n",
      "Running new_levels\n",
      "Running feature_time\n",
      "Running scaling\n",
      "Running P_transform\n",
      "Running dummy\n",
      "Running fix_perfect\n",
      "Running clean_names\n",
      "Running trained_model\n"
     ]
    }
   ],
   "source": [
    "print('Running data pre-processing:\\n')\n",
    "for (name, method) in final_AGN_clf.named_steps.items():\n",
    "    if method != 'passthrough':  # and name != 'trained_model':\n",
    "        print(f'Running {name}')\n",
    "        extended_data_AGN = method.transform(extended_data_AGN)\n",
    "extended_data_AGN_df = pd.DataFrame(extended_data_AGN, columns=extended_cols_AGN, index=extended_idx_AGN)"
   ]
  },
  {
   "cell_type": "code",
   "execution_count": 52,
   "id": "665497d5-9266-4622-b61f-5bfcf09d55b3",
   "metadata": {
    "jupyter": {
     "source_hidden": true
    },
    "tags": []
   },
   "outputs": [],
   "source": [
    "coef_meta_df = pd.DataFrame({'Feature': extended_cols_AGN, 'Importance': final_AGN_clf.named_steps['trained_model'].final_estimator_.feature_importances_})\n",
    "coef_sorted_meta_df = (\n",
    "    coef_meta_df.sort_values(by='Importance', ascending=False)\n",
    "    .head(len(extended_cols_AGN))\n",
    "    .sort_values(by='Importance', ascending=False).reset_index(drop=True)\n",
    ")"
   ]
  },
  {
   "cell_type": "code",
   "execution_count": 53,
   "id": "54577797-b2f6-45b6-a777-293d6da0c24e",
   "metadata": {
    "jupyter": {
     "source_hidden": true
    },
    "tags": []
   },
   "outputs": [],
   "source": [
    "base_models_names = [model[0] for model in final_AGN_clf.named_steps['trained_model'].estimators]"
   ]
  },
  {
   "cell_type": "code",
   "execution_count": 54,
   "id": "3a5a62dd-904e-4ab7-8c49-52387c86a925",
   "metadata": {
    "jupyter": {
     "source_hidden": true
    },
    "tags": []
   },
   "outputs": [],
   "source": [
    "coef_sorted_base_df = {}"
   ]
  },
  {
   "cell_type": "code",
   "execution_count": 55,
   "id": "fda6f633-1e63-4f75-8ebb-7cf80f6c4270",
   "metadata": {
    "jupyter": {
     "source_hidden": true
    },
    "tags": []
   },
   "outputs": [],
   "source": [
    "for model, model_fit in zip(base_models_names, final_AGN_clf.named_steps['trained_model'].estimators_):\n",
    "    coef_base_df = pd.DataFrame({'Feature': extended_cols_AGN.drop(base_models_names),\n",
    "                                 'Importance': model_fit.feature_importances_})\n",
    "    coef_sorted_base_df[model] = (\n",
    "    coef_base_df.sort_values(by='Importance', ascending=False)\n",
    "    .head(len(extended_cols_AGN.drop(base_models_names)))\n",
    "    .sort_values(by='Importance', ascending=False).reset_index(drop=True)\n",
    ")"
   ]
  },
  {
   "cell_type": "code",
   "execution_count": 56,
   "id": "768f2c5a-c735-4e8f-8cf2-ab41408766c1",
   "metadata": {
    "jupyter": {
     "source_hidden": true
    },
    "tags": []
   },
   "outputs": [
    {
     "name": "stdout",
     "output_type": "stream",
     "text": [
      "Feature importances scaled in [1,100]\n",
      "catboost\n"
     ]
    },
    {
     "data": {
      "text/html": [
       "<div>\n",
       "<style scoped>\n",
       "    .dataframe tbody tr th:only-of-type {\n",
       "        vertical-align: middle;\n",
       "    }\n",
       "\n",
       "    .dataframe tbody tr th {\n",
       "        vertical-align: top;\n",
       "    }\n",
       "\n",
       "    .dataframe thead th {\n",
       "        text-align: right;\n",
       "    }\n",
       "</style>\n",
       "<table border=\"1\" class=\"dataframe\">\n",
       "  <thead>\n",
       "    <tr style=\"text-align: right;\">\n",
       "      <th></th>\n",
       "      <th>Feature</th>\n",
       "      <th>Importance</th>\n",
       "    </tr>\n",
       "  </thead>\n",
       "  <tbody>\n",
       "    <tr>\n",
       "      <th>0</th>\n",
       "      <td>z/W1</td>\n",
       "      <td>100.000000</td>\n",
       "    </tr>\n",
       "    <tr>\n",
       "      <th>1</th>\n",
       "      <td>w1_w2</td>\n",
       "      <td>64.252976</td>\n",
       "    </tr>\n",
       "    <tr>\n",
       "      <th>2</th>\n",
       "      <td>band_num</td>\n",
       "      <td>49.276140</td>\n",
       "    </tr>\n",
       "    <tr>\n",
       "      <th>3</th>\n",
       "      <td>r_i</td>\n",
       "      <td>42.543365</td>\n",
       "    </tr>\n",
       "    <tr>\n",
       "      <th>4</th>\n",
       "      <td>g_r</td>\n",
       "      <td>32.576977</td>\n",
       "    </tr>\n",
       "    <tr>\n",
       "      <th>5</th>\n",
       "      <td>g_i</td>\n",
       "      <td>30.234938</td>\n",
       "    </tr>\n",
       "    <tr>\n",
       "      <th>6</th>\n",
       "      <td>r/z</td>\n",
       "      <td>29.526132</td>\n",
       "    </tr>\n",
       "    <tr>\n",
       "      <th>7</th>\n",
       "      <td>i/y</td>\n",
       "      <td>23.398688</td>\n",
       "    </tr>\n",
       "    <tr>\n",
       "      <th>8</th>\n",
       "      <td>i_z</td>\n",
       "      <td>18.744466</td>\n",
       "    </tr>\n",
       "    <tr>\n",
       "      <th>9</th>\n",
       "      <td>J/K</td>\n",
       "      <td>8.328392</td>\n",
       "    </tr>\n",
       "    <tr>\n",
       "      <th>10</th>\n",
       "      <td>FUV/K</td>\n",
       "      <td>5.989415</td>\n",
       "    </tr>\n",
       "    <tr>\n",
       "      <th>11</th>\n",
       "      <td>w3_w4</td>\n",
       "      <td>5.557197</td>\n",
       "    </tr>\n",
       "    <tr>\n",
       "      <th>12</th>\n",
       "      <td>J_H</td>\n",
       "      <td>3.156065</td>\n",
       "    </tr>\n",
       "    <tr>\n",
       "      <th>13</th>\n",
       "      <td>FUV_NUV</td>\n",
       "      <td>2.947474</td>\n",
       "    </tr>\n",
       "    <tr>\n",
       "      <th>14</th>\n",
       "      <td>W4mag</td>\n",
       "      <td>1.917260</td>\n",
       "    </tr>\n",
       "    <tr>\n",
       "      <th>15</th>\n",
       "      <td>FUVmag</td>\n",
       "      <td>1.000000</td>\n",
       "    </tr>\n",
       "  </tbody>\n",
       "</table>\n",
       "</div>"
      ],
      "text/plain": [
       "     Feature  Importance\n",
       "0       z/W1  100.000000\n",
       "1      w1_w2   64.252976\n",
       "2   band_num   49.276140\n",
       "3        r_i   42.543365\n",
       "4        g_r   32.576977\n",
       "5        g_i   30.234938\n",
       "6        r/z   29.526132\n",
       "7        i/y   23.398688\n",
       "8        i_z   18.744466\n",
       "9        J/K    8.328392\n",
       "10     FUV/K    5.989415\n",
       "11     w3_w4    5.557197\n",
       "12       J_H    3.156065\n",
       "13   FUV_NUV    2.947474\n",
       "14     W4mag    1.917260\n",
       "15    FUVmag    1.000000"
      ]
     },
     "metadata": {},
     "output_type": "display_data"
    },
    {
     "name": "stdout",
     "output_type": "stream",
     "text": [
      "rf\n"
     ]
    },
    {
     "data": {
      "text/html": [
       "<div>\n",
       "<style scoped>\n",
       "    .dataframe tbody tr th:only-of-type {\n",
       "        vertical-align: middle;\n",
       "    }\n",
       "\n",
       "    .dataframe tbody tr th {\n",
       "        vertical-align: top;\n",
       "    }\n",
       "\n",
       "    .dataframe thead th {\n",
       "        text-align: right;\n",
       "    }\n",
       "</style>\n",
       "<table border=\"1\" class=\"dataframe\">\n",
       "  <thead>\n",
       "    <tr style=\"text-align: right;\">\n",
       "      <th></th>\n",
       "      <th>Feature</th>\n",
       "      <th>Importance</th>\n",
       "    </tr>\n",
       "  </thead>\n",
       "  <tbody>\n",
       "    <tr>\n",
       "      <th>0</th>\n",
       "      <td>w1_w2</td>\n",
       "      <td>100.000000</td>\n",
       "    </tr>\n",
       "    <tr>\n",
       "      <th>1</th>\n",
       "      <td>z/W1</td>\n",
       "      <td>41.267679</td>\n",
       "    </tr>\n",
       "    <tr>\n",
       "      <th>2</th>\n",
       "      <td>g_i</td>\n",
       "      <td>38.657070</td>\n",
       "    </tr>\n",
       "    <tr>\n",
       "      <th>3</th>\n",
       "      <td>r/z</td>\n",
       "      <td>38.342690</td>\n",
       "    </tr>\n",
       "    <tr>\n",
       "      <th>4</th>\n",
       "      <td>g_r</td>\n",
       "      <td>35.276983</td>\n",
       "    </tr>\n",
       "    <tr>\n",
       "      <th>5</th>\n",
       "      <td>i_z</td>\n",
       "      <td>33.274530</td>\n",
       "    </tr>\n",
       "    <tr>\n",
       "      <th>6</th>\n",
       "      <td>i/y</td>\n",
       "      <td>32.522912</td>\n",
       "    </tr>\n",
       "    <tr>\n",
       "      <th>7</th>\n",
       "      <td>r_i</td>\n",
       "      <td>30.137274</td>\n",
       "    </tr>\n",
       "    <tr>\n",
       "      <th>8</th>\n",
       "      <td>band_num</td>\n",
       "      <td>25.480416</td>\n",
       "    </tr>\n",
       "    <tr>\n",
       "      <th>9</th>\n",
       "      <td>w3_w4</td>\n",
       "      <td>6.183515</td>\n",
       "    </tr>\n",
       "    <tr>\n",
       "      <th>10</th>\n",
       "      <td>FUV_NUV</td>\n",
       "      <td>4.187174</td>\n",
       "    </tr>\n",
       "    <tr>\n",
       "      <th>11</th>\n",
       "      <td>J/K</td>\n",
       "      <td>2.802134</td>\n",
       "    </tr>\n",
       "    <tr>\n",
       "      <th>12</th>\n",
       "      <td>FUV/K</td>\n",
       "      <td>2.556505</td>\n",
       "    </tr>\n",
       "    <tr>\n",
       "      <th>13</th>\n",
       "      <td>J_H</td>\n",
       "      <td>2.452519</td>\n",
       "    </tr>\n",
       "    <tr>\n",
       "      <th>14</th>\n",
       "      <td>W4mag</td>\n",
       "      <td>1.978915</td>\n",
       "    </tr>\n",
       "    <tr>\n",
       "      <th>15</th>\n",
       "      <td>FUVmag</td>\n",
       "      <td>1.000000</td>\n",
       "    </tr>\n",
       "  </tbody>\n",
       "</table>\n",
       "</div>"
      ],
      "text/plain": [
       "     Feature  Importance\n",
       "0      w1_w2  100.000000\n",
       "1       z/W1   41.267679\n",
       "2        g_i   38.657070\n",
       "3        r/z   38.342690\n",
       "4        g_r   35.276983\n",
       "5        i_z   33.274530\n",
       "6        i/y   32.522912\n",
       "7        r_i   30.137274\n",
       "8   band_num   25.480416\n",
       "9      w3_w4    6.183515\n",
       "10   FUV_NUV    4.187174\n",
       "11       J/K    2.802134\n",
       "12     FUV/K    2.556505\n",
       "13       J_H    2.452519\n",
       "14     W4mag    1.978915\n",
       "15    FUVmag    1.000000"
      ]
     },
     "metadata": {},
     "output_type": "display_data"
    },
    {
     "name": "stdout",
     "output_type": "stream",
     "text": [
      "et\n"
     ]
    },
    {
     "data": {
      "text/html": [
       "<div>\n",
       "<style scoped>\n",
       "    .dataframe tbody tr th:only-of-type {\n",
       "        vertical-align: middle;\n",
       "    }\n",
       "\n",
       "    .dataframe tbody tr th {\n",
       "        vertical-align: top;\n",
       "    }\n",
       "\n",
       "    .dataframe thead th {\n",
       "        text-align: right;\n",
       "    }\n",
       "</style>\n",
       "<table border=\"1\" class=\"dataframe\">\n",
       "  <thead>\n",
       "    <tr style=\"text-align: right;\">\n",
       "      <th></th>\n",
       "      <th>Feature</th>\n",
       "      <th>Importance</th>\n",
       "    </tr>\n",
       "  </thead>\n",
       "  <tbody>\n",
       "    <tr>\n",
       "      <th>0</th>\n",
       "      <td>w1_w2</td>\n",
       "      <td>100.000000</td>\n",
       "    </tr>\n",
       "    <tr>\n",
       "      <th>1</th>\n",
       "      <td>g_i</td>\n",
       "      <td>38.973255</td>\n",
       "    </tr>\n",
       "    <tr>\n",
       "      <th>2</th>\n",
       "      <td>z/W1</td>\n",
       "      <td>37.519694</td>\n",
       "    </tr>\n",
       "    <tr>\n",
       "      <th>3</th>\n",
       "      <td>g_r</td>\n",
       "      <td>32.777699</td>\n",
       "    </tr>\n",
       "    <tr>\n",
       "      <th>4</th>\n",
       "      <td>r/z</td>\n",
       "      <td>29.507592</td>\n",
       "    </tr>\n",
       "    <tr>\n",
       "      <th>5</th>\n",
       "      <td>i/y</td>\n",
       "      <td>27.847103</td>\n",
       "    </tr>\n",
       "    <tr>\n",
       "      <th>6</th>\n",
       "      <td>r_i</td>\n",
       "      <td>27.435078</td>\n",
       "    </tr>\n",
       "    <tr>\n",
       "      <th>7</th>\n",
       "      <td>i_z</td>\n",
       "      <td>26.262393</td>\n",
       "    </tr>\n",
       "    <tr>\n",
       "      <th>8</th>\n",
       "      <td>band_num</td>\n",
       "      <td>16.485226</td>\n",
       "    </tr>\n",
       "    <tr>\n",
       "      <th>9</th>\n",
       "      <td>w3_w4</td>\n",
       "      <td>6.818259</td>\n",
       "    </tr>\n",
       "    <tr>\n",
       "      <th>10</th>\n",
       "      <td>FUV_NUV</td>\n",
       "      <td>5.597480</td>\n",
       "    </tr>\n",
       "    <tr>\n",
       "      <th>11</th>\n",
       "      <td>W4mag</td>\n",
       "      <td>3.651180</td>\n",
       "    </tr>\n",
       "    <tr>\n",
       "      <th>12</th>\n",
       "      <td>FUV/K</td>\n",
       "      <td>2.488648</td>\n",
       "    </tr>\n",
       "    <tr>\n",
       "      <th>13</th>\n",
       "      <td>J/K</td>\n",
       "      <td>2.257865</td>\n",
       "    </tr>\n",
       "    <tr>\n",
       "      <th>14</th>\n",
       "      <td>J_H</td>\n",
       "      <td>2.235507</td>\n",
       "    </tr>\n",
       "    <tr>\n",
       "      <th>15</th>\n",
       "      <td>FUVmag</td>\n",
       "      <td>1.000000</td>\n",
       "    </tr>\n",
       "  </tbody>\n",
       "</table>\n",
       "</div>"
      ],
      "text/plain": [
       "     Feature  Importance\n",
       "0      w1_w2  100.000000\n",
       "1        g_i   38.973255\n",
       "2       z/W1   37.519694\n",
       "3        g_r   32.777699\n",
       "4        r/z   29.507592\n",
       "5        i/y   27.847103\n",
       "6        r_i   27.435078\n",
       "7        i_z   26.262393\n",
       "8   band_num   16.485226\n",
       "9      w3_w4    6.818259\n",
       "10   FUV_NUV    5.597480\n",
       "11     W4mag    3.651180\n",
       "12     FUV/K    2.488648\n",
       "13       J/K    2.257865\n",
       "14       J_H    2.235507\n",
       "15    FUVmag    1.000000"
      ]
     },
     "metadata": {},
     "output_type": "display_data"
    },
    {
     "name": "stdout",
     "output_type": "stream",
     "text": [
      "lightgbm\n"
     ]
    },
    {
     "data": {
      "text/html": [
       "<div>\n",
       "<style scoped>\n",
       "    .dataframe tbody tr th:only-of-type {\n",
       "        vertical-align: middle;\n",
       "    }\n",
       "\n",
       "    .dataframe tbody tr th {\n",
       "        vertical-align: top;\n",
       "    }\n",
       "\n",
       "    .dataframe thead th {\n",
       "        text-align: right;\n",
       "    }\n",
       "</style>\n",
       "<table border=\"1\" class=\"dataframe\">\n",
       "  <thead>\n",
       "    <tr style=\"text-align: right;\">\n",
       "      <th></th>\n",
       "      <th>Feature</th>\n",
       "      <th>Importance</th>\n",
       "    </tr>\n",
       "  </thead>\n",
       "  <tbody>\n",
       "    <tr>\n",
       "      <th>0</th>\n",
       "      <td>w1_w2</td>\n",
       "      <td>100.000000</td>\n",
       "    </tr>\n",
       "    <tr>\n",
       "      <th>1</th>\n",
       "      <td>z/W1</td>\n",
       "      <td>81.253191</td>\n",
       "    </tr>\n",
       "    <tr>\n",
       "      <th>2</th>\n",
       "      <td>g_i</td>\n",
       "      <td>80.200000</td>\n",
       "    </tr>\n",
       "    <tr>\n",
       "      <th>3</th>\n",
       "      <td>r/z</td>\n",
       "      <td>67.982979</td>\n",
       "    </tr>\n",
       "    <tr>\n",
       "      <th>4</th>\n",
       "      <td>g_r</td>\n",
       "      <td>56.397872</td>\n",
       "    </tr>\n",
       "    <tr>\n",
       "      <th>5</th>\n",
       "      <td>band_num</td>\n",
       "      <td>55.765957</td>\n",
       "    </tr>\n",
       "    <tr>\n",
       "      <th>6</th>\n",
       "      <td>i/y</td>\n",
       "      <td>53.027660</td>\n",
       "    </tr>\n",
       "    <tr>\n",
       "      <th>7</th>\n",
       "      <td>i_z</td>\n",
       "      <td>45.655319</td>\n",
       "    </tr>\n",
       "    <tr>\n",
       "      <th>8</th>\n",
       "      <td>r_i</td>\n",
       "      <td>42.285106</td>\n",
       "    </tr>\n",
       "    <tr>\n",
       "      <th>9</th>\n",
       "      <td>FUV_NUV</td>\n",
       "      <td>22.695745</td>\n",
       "    </tr>\n",
       "    <tr>\n",
       "      <th>10</th>\n",
       "      <td>FUV/K</td>\n",
       "      <td>12.163830</td>\n",
       "    </tr>\n",
       "    <tr>\n",
       "      <th>11</th>\n",
       "      <td>J/K</td>\n",
       "      <td>7.108511</td>\n",
       "    </tr>\n",
       "    <tr>\n",
       "      <th>12</th>\n",
       "      <td>w3_w4</td>\n",
       "      <td>6.897872</td>\n",
       "    </tr>\n",
       "    <tr>\n",
       "      <th>13</th>\n",
       "      <td>W4mag</td>\n",
       "      <td>6.476596</td>\n",
       "    </tr>\n",
       "    <tr>\n",
       "      <th>14</th>\n",
       "      <td>J_H</td>\n",
       "      <td>5.634043</td>\n",
       "    </tr>\n",
       "    <tr>\n",
       "      <th>15</th>\n",
       "      <td>FUVmag</td>\n",
       "      <td>1.000000</td>\n",
       "    </tr>\n",
       "  </tbody>\n",
       "</table>\n",
       "</div>"
      ],
      "text/plain": [
       "     Feature  Importance\n",
       "0      w1_w2  100.000000\n",
       "1       z/W1   81.253191\n",
       "2        g_i   80.200000\n",
       "3        r/z   67.982979\n",
       "4        g_r   56.397872\n",
       "5   band_num   55.765957\n",
       "6        i/y   53.027660\n",
       "7        i_z   45.655319\n",
       "8        r_i   42.285106\n",
       "9    FUV_NUV   22.695745\n",
       "10     FUV/K   12.163830\n",
       "11       J/K    7.108511\n",
       "12     w3_w4    6.897872\n",
       "13     W4mag    6.476596\n",
       "14       J_H    5.634043\n",
       "15    FUVmag    1.000000"
      ]
     },
     "metadata": {},
     "output_type": "display_data"
    }
   ],
   "source": [
    "print('Feature importances scaled in [1,100]')\n",
    "coef_sorted_base_df_copy = coef_sorted_base_df.copy()\n",
    "for key in coef_sorted_base_df_copy.keys():\n",
    "    print(key)\n",
    "    coef_sorted_base_df_copy[key].loc[:, 'Importance'] = (coef_sorted_base_df[key].loc[:, 'Importance'] -\\\n",
    "                                                     coef_sorted_base_df[key].loc[:, 'Importance'].min()) /\\\n",
    "                                                    (coef_sorted_base_df[key].loc[:, 'Importance'].max() -\\\n",
    "                                                     coef_sorted_base_df[key].loc[:, 'Importance'].min()) * (100 - 1) + 1\n",
    "    display(coef_sorted_base_df_copy[key])"
   ]
  },
  {
   "cell_type": "code",
   "execution_count": 57,
   "id": "eaea1de7-4163-45d2-ac85-30a0508e707f",
   "metadata": {
    "jupyter": {
     "source_hidden": true
    },
    "tags": []
   },
   "outputs": [
    {
     "name": "stdout",
     "output_type": "stream",
     "text": [
      "Feature importances scaled to sum 100\n",
      "catboost\n"
     ]
    },
    {
     "data": {
      "text/html": [
       "<div>\n",
       "<style scoped>\n",
       "    .dataframe tbody tr th:only-of-type {\n",
       "        vertical-align: middle;\n",
       "    }\n",
       "\n",
       "    .dataframe tbody tr th {\n",
       "        vertical-align: top;\n",
       "    }\n",
       "\n",
       "    .dataframe thead th {\n",
       "        text-align: right;\n",
       "    }\n",
       "</style>\n",
       "<table border=\"1\" class=\"dataframe\">\n",
       "  <thead>\n",
       "    <tr style=\"text-align: right;\">\n",
       "      <th></th>\n",
       "      <th>Feature</th>\n",
       "      <th>Importance</th>\n",
       "    </tr>\n",
       "  </thead>\n",
       "  <tbody>\n",
       "    <tr>\n",
       "      <th>0</th>\n",
       "      <td>z/W1</td>\n",
       "      <td>23.840773</td>\n",
       "    </tr>\n",
       "    <tr>\n",
       "      <th>1</th>\n",
       "      <td>w1_w2</td>\n",
       "      <td>15.318406</td>\n",
       "    </tr>\n",
       "    <tr>\n",
       "      <th>2</th>\n",
       "      <td>band_num</td>\n",
       "      <td>11.747813</td>\n",
       "    </tr>\n",
       "    <tr>\n",
       "      <th>3</th>\n",
       "      <td>r_i</td>\n",
       "      <td>10.142667</td>\n",
       "    </tr>\n",
       "    <tr>\n",
       "      <th>4</th>\n",
       "      <td>g_r</td>\n",
       "      <td>7.766603</td>\n",
       "    </tr>\n",
       "    <tr>\n",
       "      <th>5</th>\n",
       "      <td>g_i</td>\n",
       "      <td>7.208243</td>\n",
       "    </tr>\n",
       "    <tr>\n",
       "      <th>6</th>\n",
       "      <td>r/z</td>\n",
       "      <td>7.039258</td>\n",
       "    </tr>\n",
       "    <tr>\n",
       "      <th>7</th>\n",
       "      <td>i/y</td>\n",
       "      <td>5.578428</td>\n",
       "    </tr>\n",
       "    <tr>\n",
       "      <th>8</th>\n",
       "      <td>i_z</td>\n",
       "      <td>4.468826</td>\n",
       "    </tr>\n",
       "    <tr>\n",
       "      <th>9</th>\n",
       "      <td>J/K</td>\n",
       "      <td>1.985553</td>\n",
       "    </tr>\n",
       "    <tr>\n",
       "      <th>10</th>\n",
       "      <td>FUV/K</td>\n",
       "      <td>1.427923</td>\n",
       "    </tr>\n",
       "    <tr>\n",
       "      <th>11</th>\n",
       "      <td>w3_w4</td>\n",
       "      <td>1.324879</td>\n",
       "    </tr>\n",
       "    <tr>\n",
       "      <th>12</th>\n",
       "      <td>J_H</td>\n",
       "      <td>0.752430</td>\n",
       "    </tr>\n",
       "    <tr>\n",
       "      <th>13</th>\n",
       "      <td>FUV_NUV</td>\n",
       "      <td>0.702700</td>\n",
       "    </tr>\n",
       "    <tr>\n",
       "      <th>14</th>\n",
       "      <td>W4mag</td>\n",
       "      <td>0.457090</td>\n",
       "    </tr>\n",
       "    <tr>\n",
       "      <th>15</th>\n",
       "      <td>FUVmag</td>\n",
       "      <td>0.238408</td>\n",
       "    </tr>\n",
       "  </tbody>\n",
       "</table>\n",
       "</div>"
      ],
      "text/plain": [
       "     Feature  Importance\n",
       "0       z/W1   23.840773\n",
       "1      w1_w2   15.318406\n",
       "2   band_num   11.747813\n",
       "3        r_i   10.142667\n",
       "4        g_r    7.766603\n",
       "5        g_i    7.208243\n",
       "6        r/z    7.039258\n",
       "7        i/y    5.578428\n",
       "8        i_z    4.468826\n",
       "9        J/K    1.985553\n",
       "10     FUV/K    1.427923\n",
       "11     w3_w4    1.324879\n",
       "12       J_H    0.752430\n",
       "13   FUV_NUV    0.702700\n",
       "14     W4mag    0.457090\n",
       "15    FUVmag    0.238408"
      ]
     },
     "metadata": {},
     "output_type": "display_data"
    },
    {
     "name": "stdout",
     "output_type": "stream",
     "text": [
      "rf\n"
     ]
    },
    {
     "data": {
      "text/html": [
       "<div>\n",
       "<style scoped>\n",
       "    .dataframe tbody tr th:only-of-type {\n",
       "        vertical-align: middle;\n",
       "    }\n",
       "\n",
       "    .dataframe tbody tr th {\n",
       "        vertical-align: top;\n",
       "    }\n",
       "\n",
       "    .dataframe thead th {\n",
       "        text-align: right;\n",
       "    }\n",
       "</style>\n",
       "<table border=\"1\" class=\"dataframe\">\n",
       "  <thead>\n",
       "    <tr style=\"text-align: right;\">\n",
       "      <th></th>\n",
       "      <th>Feature</th>\n",
       "      <th>Importance</th>\n",
       "    </tr>\n",
       "  </thead>\n",
       "  <tbody>\n",
       "    <tr>\n",
       "      <th>0</th>\n",
       "      <td>w1_w2</td>\n",
       "      <td>25.244855</td>\n",
       "    </tr>\n",
       "    <tr>\n",
       "      <th>1</th>\n",
       "      <td>z/W1</td>\n",
       "      <td>10.417966</td>\n",
       "    </tr>\n",
       "    <tr>\n",
       "      <th>2</th>\n",
       "      <td>g_i</td>\n",
       "      <td>9.758921</td>\n",
       "    </tr>\n",
       "    <tr>\n",
       "      <th>3</th>\n",
       "      <td>r/z</td>\n",
       "      <td>9.679557</td>\n",
       "    </tr>\n",
       "    <tr>\n",
       "      <th>4</th>\n",
       "      <td>g_r</td>\n",
       "      <td>8.905623</td>\n",
       "    </tr>\n",
       "    <tr>\n",
       "      <th>5</th>\n",
       "      <td>i_z</td>\n",
       "      <td>8.400107</td>\n",
       "    </tr>\n",
       "    <tr>\n",
       "      <th>6</th>\n",
       "      <td>i/y</td>\n",
       "      <td>8.210362</td>\n",
       "    </tr>\n",
       "    <tr>\n",
       "      <th>7</th>\n",
       "      <td>r_i</td>\n",
       "      <td>7.608111</td>\n",
       "    </tr>\n",
       "    <tr>\n",
       "      <th>8</th>\n",
       "      <td>band_num</td>\n",
       "      <td>6.432494</td>\n",
       "    </tr>\n",
       "    <tr>\n",
       "      <th>9</th>\n",
       "      <td>w3_w4</td>\n",
       "      <td>1.561019</td>\n",
       "    </tr>\n",
       "    <tr>\n",
       "      <th>10</th>\n",
       "      <td>FUV_NUV</td>\n",
       "      <td>1.057046</td>\n",
       "    </tr>\n",
       "    <tr>\n",
       "      <th>11</th>\n",
       "      <td>J/K</td>\n",
       "      <td>0.707395</td>\n",
       "    </tr>\n",
       "    <tr>\n",
       "      <th>12</th>\n",
       "      <td>FUV/K</td>\n",
       "      <td>0.645386</td>\n",
       "    </tr>\n",
       "    <tr>\n",
       "      <th>13</th>\n",
       "      <td>J_H</td>\n",
       "      <td>0.619135</td>\n",
       "    </tr>\n",
       "    <tr>\n",
       "      <th>14</th>\n",
       "      <td>W4mag</td>\n",
       "      <td>0.499574</td>\n",
       "    </tr>\n",
       "    <tr>\n",
       "      <th>15</th>\n",
       "      <td>FUVmag</td>\n",
       "      <td>0.252449</td>\n",
       "    </tr>\n",
       "  </tbody>\n",
       "</table>\n",
       "</div>"
      ],
      "text/plain": [
       "     Feature  Importance\n",
       "0      w1_w2   25.244855\n",
       "1       z/W1   10.417966\n",
       "2        g_i    9.758921\n",
       "3        r/z    9.679557\n",
       "4        g_r    8.905623\n",
       "5        i_z    8.400107\n",
       "6        i/y    8.210362\n",
       "7        r_i    7.608111\n",
       "8   band_num    6.432494\n",
       "9      w3_w4    1.561019\n",
       "10   FUV_NUV    1.057046\n",
       "11       J/K    0.707395\n",
       "12     FUV/K    0.645386\n",
       "13       J_H    0.619135\n",
       "14     W4mag    0.499574\n",
       "15    FUVmag    0.252449"
      ]
     },
     "metadata": {},
     "output_type": "display_data"
    },
    {
     "name": "stdout",
     "output_type": "stream",
     "text": [
      "et\n"
     ]
    },
    {
     "data": {
      "text/html": [
       "<div>\n",
       "<style scoped>\n",
       "    .dataframe tbody tr th:only-of-type {\n",
       "        vertical-align: middle;\n",
       "    }\n",
       "\n",
       "    .dataframe tbody tr th {\n",
       "        vertical-align: top;\n",
       "    }\n",
       "\n",
       "    .dataframe thead th {\n",
       "        text-align: right;\n",
       "    }\n",
       "</style>\n",
       "<table border=\"1\" class=\"dataframe\">\n",
       "  <thead>\n",
       "    <tr style=\"text-align: right;\">\n",
       "      <th></th>\n",
       "      <th>Feature</th>\n",
       "      <th>Importance</th>\n",
       "    </tr>\n",
       "  </thead>\n",
       "  <tbody>\n",
       "    <tr>\n",
       "      <th>0</th>\n",
       "      <td>w1_w2</td>\n",
       "      <td>27.711810</td>\n",
       "    </tr>\n",
       "    <tr>\n",
       "      <th>1</th>\n",
       "      <td>g_i</td>\n",
       "      <td>10.800194</td>\n",
       "    </tr>\n",
       "    <tr>\n",
       "      <th>2</th>\n",
       "      <td>z/W1</td>\n",
       "      <td>10.397386</td>\n",
       "    </tr>\n",
       "    <tr>\n",
       "      <th>3</th>\n",
       "      <td>g_r</td>\n",
       "      <td>9.083294</td>\n",
       "    </tr>\n",
       "    <tr>\n",
       "      <th>4</th>\n",
       "      <td>r/z</td>\n",
       "      <td>8.177088</td>\n",
       "    </tr>\n",
       "    <tr>\n",
       "      <th>5</th>\n",
       "      <td>i/y</td>\n",
       "      <td>7.716936</td>\n",
       "    </tr>\n",
       "    <tr>\n",
       "      <th>6</th>\n",
       "      <td>r_i</td>\n",
       "      <td>7.602757</td>\n",
       "    </tr>\n",
       "    <tr>\n",
       "      <th>7</th>\n",
       "      <td>i_z</td>\n",
       "      <td>7.277784</td>\n",
       "    </tr>\n",
       "    <tr>\n",
       "      <th>8</th>\n",
       "      <td>band_num</td>\n",
       "      <td>4.568354</td>\n",
       "    </tr>\n",
       "    <tr>\n",
       "      <th>9</th>\n",
       "      <td>w3_w4</td>\n",
       "      <td>1.889463</td>\n",
       "    </tr>\n",
       "    <tr>\n",
       "      <th>10</th>\n",
       "      <td>FUV_NUV</td>\n",
       "      <td>1.551163</td>\n",
       "    </tr>\n",
       "    <tr>\n",
       "      <th>11</th>\n",
       "      <td>W4mag</td>\n",
       "      <td>1.011808</td>\n",
       "    </tr>\n",
       "    <tr>\n",
       "      <th>12</th>\n",
       "      <td>FUV/K</td>\n",
       "      <td>0.689649</td>\n",
       "    </tr>\n",
       "    <tr>\n",
       "      <th>13</th>\n",
       "      <td>J/K</td>\n",
       "      <td>0.625695</td>\n",
       "    </tr>\n",
       "    <tr>\n",
       "      <th>14</th>\n",
       "      <td>J_H</td>\n",
       "      <td>0.619499</td>\n",
       "    </tr>\n",
       "    <tr>\n",
       "      <th>15</th>\n",
       "      <td>FUVmag</td>\n",
       "      <td>0.277118</td>\n",
       "    </tr>\n",
       "  </tbody>\n",
       "</table>\n",
       "</div>"
      ],
      "text/plain": [
       "     Feature  Importance\n",
       "0      w1_w2   27.711810\n",
       "1        g_i   10.800194\n",
       "2       z/W1   10.397386\n",
       "3        g_r    9.083294\n",
       "4        r/z    8.177088\n",
       "5        i/y    7.716936\n",
       "6        r_i    7.602757\n",
       "7        i_z    7.277784\n",
       "8   band_num    4.568354\n",
       "9      w3_w4    1.889463\n",
       "10   FUV_NUV    1.551163\n",
       "11     W4mag    1.011808\n",
       "12     FUV/K    0.689649\n",
       "13       J/K    0.625695\n",
       "14       J_H    0.619499\n",
       "15    FUVmag    0.277118"
      ]
     },
     "metadata": {},
     "output_type": "display_data"
    },
    {
     "name": "stdout",
     "output_type": "stream",
     "text": [
      "lightgbm\n"
     ]
    },
    {
     "data": {
      "text/html": [
       "<div>\n",
       "<style scoped>\n",
       "    .dataframe tbody tr th:only-of-type {\n",
       "        vertical-align: middle;\n",
       "    }\n",
       "\n",
       "    .dataframe tbody tr th {\n",
       "        vertical-align: top;\n",
       "    }\n",
       "\n",
       "    .dataframe thead th {\n",
       "        text-align: right;\n",
       "    }\n",
       "</style>\n",
       "<table border=\"1\" class=\"dataframe\">\n",
       "  <thead>\n",
       "    <tr style=\"text-align: right;\">\n",
       "      <th></th>\n",
       "      <th>Feature</th>\n",
       "      <th>Importance</th>\n",
       "    </tr>\n",
       "  </thead>\n",
       "  <tbody>\n",
       "    <tr>\n",
       "      <th>0</th>\n",
       "      <td>w1_w2</td>\n",
       "      <td>15.514828</td>\n",
       "    </tr>\n",
       "    <tr>\n",
       "      <th>1</th>\n",
       "      <td>z/W1</td>\n",
       "      <td>12.606293</td>\n",
       "    </tr>\n",
       "    <tr>\n",
       "      <th>2</th>\n",
       "      <td>g_i</td>\n",
       "      <td>12.442892</td>\n",
       "    </tr>\n",
       "    <tr>\n",
       "      <th>3</th>\n",
       "      <td>r/z</td>\n",
       "      <td>10.547442</td>\n",
       "    </tr>\n",
       "    <tr>\n",
       "      <th>4</th>\n",
       "      <td>g_r</td>\n",
       "      <td>8.750033</td>\n",
       "    </tr>\n",
       "    <tr>\n",
       "      <th>5</th>\n",
       "      <td>band_num</td>\n",
       "      <td>8.651993</td>\n",
       "    </tr>\n",
       "    <tr>\n",
       "      <th>6</th>\n",
       "      <td>i/y</td>\n",
       "      <td>8.227150</td>\n",
       "    </tr>\n",
       "    <tr>\n",
       "      <th>7</th>\n",
       "      <td>i_z</td>\n",
       "      <td>7.083344</td>\n",
       "    </tr>\n",
       "    <tr>\n",
       "      <th>8</th>\n",
       "      <td>r_i</td>\n",
       "      <td>6.560462</td>\n",
       "    </tr>\n",
       "    <tr>\n",
       "      <th>9</th>\n",
       "      <td>FUV_NUV</td>\n",
       "      <td>3.521206</td>\n",
       "    </tr>\n",
       "    <tr>\n",
       "      <th>10</th>\n",
       "      <td>FUV/K</td>\n",
       "      <td>1.887197</td>\n",
       "    </tr>\n",
       "    <tr>\n",
       "      <th>11</th>\n",
       "      <td>J/K</td>\n",
       "      <td>1.102873</td>\n",
       "    </tr>\n",
       "    <tr>\n",
       "      <th>12</th>\n",
       "      <td>w3_w4</td>\n",
       "      <td>1.070193</td>\n",
       "    </tr>\n",
       "    <tr>\n",
       "      <th>13</th>\n",
       "      <td>W4mag</td>\n",
       "      <td>1.004833</td>\n",
       "    </tr>\n",
       "    <tr>\n",
       "      <th>14</th>\n",
       "      <td>J_H</td>\n",
       "      <td>0.874112</td>\n",
       "    </tr>\n",
       "    <tr>\n",
       "      <th>15</th>\n",
       "      <td>FUVmag</td>\n",
       "      <td>0.155148</td>\n",
       "    </tr>\n",
       "  </tbody>\n",
       "</table>\n",
       "</div>"
      ],
      "text/plain": [
       "     Feature  Importance\n",
       "0      w1_w2   15.514828\n",
       "1       z/W1   12.606293\n",
       "2        g_i   12.442892\n",
       "3        r/z   10.547442\n",
       "4        g_r    8.750033\n",
       "5   band_num    8.651993\n",
       "6        i/y    8.227150\n",
       "7        i_z    7.083344\n",
       "8        r_i    6.560462\n",
       "9    FUV_NUV    3.521206\n",
       "10     FUV/K    1.887197\n",
       "11       J/K    1.102873\n",
       "12     w3_w4    1.070193\n",
       "13     W4mag    1.004833\n",
       "14       J_H    0.874112\n",
       "15    FUVmag    0.155148"
      ]
     },
     "metadata": {},
     "output_type": "display_data"
    }
   ],
   "source": [
    "print('Feature importances scaled to sum 100')\n",
    "coef_sorted_base_df_copy_sum = coef_sorted_base_df.copy()\n",
    "for key in coef_sorted_base_df_copy_sum.keys():\n",
    "    print(key)\n",
    "    coef_sorted_base_df_copy_sum[key].loc[:, 'Importance'] = coef_sorted_base_df[key].loc[:, 'Importance'] /\\\n",
    "                                                        coef_sorted_base_df[key].loc[:, 'Importance'].sum() * 100\n",
    "    display(coef_sorted_base_df_copy_sum[key])"
   ]
  },
  {
   "cell_type": "code",
   "execution_count": 58,
   "id": "9eed2c39-a07a-4baa-a197-abfcfadf6714",
   "metadata": {
    "jupyter": {
     "source_hidden": true
    },
    "tags": []
   },
   "outputs": [
    {
     "name": "stdout",
     "output_type": "stream",
     "text": [
      "Feature importances scaled in [1,100]\n",
      "Meta model\n"
     ]
    },
    {
     "data": {
      "text/html": [
       "<div>\n",
       "<style scoped>\n",
       "    .dataframe tbody tr th:only-of-type {\n",
       "        vertical-align: middle;\n",
       "    }\n",
       "\n",
       "    .dataframe tbody tr th {\n",
       "        vertical-align: top;\n",
       "    }\n",
       "\n",
       "    .dataframe thead th {\n",
       "        text-align: right;\n",
       "    }\n",
       "</style>\n",
       "<table border=\"1\" class=\"dataframe\">\n",
       "  <thead>\n",
       "    <tr style=\"text-align: right;\">\n",
       "      <th></th>\n",
       "      <th>Feature</th>\n",
       "      <th>Importance</th>\n",
       "    </tr>\n",
       "  </thead>\n",
       "  <tbody>\n",
       "    <tr>\n",
       "      <th>0</th>\n",
       "      <td>lightgbm</td>\n",
       "      <td>100.000000</td>\n",
       "    </tr>\n",
       "    <tr>\n",
       "      <th>1</th>\n",
       "      <td>rf</td>\n",
       "      <td>47.972462</td>\n",
       "    </tr>\n",
       "    <tr>\n",
       "      <th>2</th>\n",
       "      <td>catboost</td>\n",
       "      <td>20.942572</td>\n",
       "    </tr>\n",
       "    <tr>\n",
       "      <th>3</th>\n",
       "      <td>et</td>\n",
       "      <td>13.421138</td>\n",
       "    </tr>\n",
       "    <tr>\n",
       "      <th>4</th>\n",
       "      <td>w1_w2</td>\n",
       "      <td>3.430240</td>\n",
       "    </tr>\n",
       "    <tr>\n",
       "      <th>5</th>\n",
       "      <td>band_num</td>\n",
       "      <td>1.745128</td>\n",
       "    </tr>\n",
       "    <tr>\n",
       "      <th>6</th>\n",
       "      <td>FUV_NUV</td>\n",
       "      <td>1.541613</td>\n",
       "    </tr>\n",
       "    <tr>\n",
       "      <th>7</th>\n",
       "      <td>r/z</td>\n",
       "      <td>1.396601</td>\n",
       "    </tr>\n",
       "    <tr>\n",
       "      <th>8</th>\n",
       "      <td>g_i</td>\n",
       "      <td>1.348530</td>\n",
       "    </tr>\n",
       "    <tr>\n",
       "      <th>9</th>\n",
       "      <td>w3_w4</td>\n",
       "      <td>1.252450</td>\n",
       "    </tr>\n",
       "    <tr>\n",
       "      <th>10</th>\n",
       "      <td>i/y</td>\n",
       "      <td>1.183461</td>\n",
       "    </tr>\n",
       "    <tr>\n",
       "      <th>11</th>\n",
       "      <td>z/W1</td>\n",
       "      <td>1.171404</td>\n",
       "    </tr>\n",
       "    <tr>\n",
       "      <th>12</th>\n",
       "      <td>FUVmag</td>\n",
       "      <td>1.091818</td>\n",
       "    </tr>\n",
       "    <tr>\n",
       "      <th>13</th>\n",
       "      <td>FUV/K</td>\n",
       "      <td>1.089791</td>\n",
       "    </tr>\n",
       "    <tr>\n",
       "      <th>14</th>\n",
       "      <td>g_r</td>\n",
       "      <td>1.085177</td>\n",
       "    </tr>\n",
       "    <tr>\n",
       "      <th>15</th>\n",
       "      <td>i_z</td>\n",
       "      <td>1.076295</td>\n",
       "    </tr>\n",
       "    <tr>\n",
       "      <th>16</th>\n",
       "      <td>J/K</td>\n",
       "      <td>1.053994</td>\n",
       "    </tr>\n",
       "    <tr>\n",
       "      <th>17</th>\n",
       "      <td>r_i</td>\n",
       "      <td>1.040466</td>\n",
       "    </tr>\n",
       "    <tr>\n",
       "      <th>18</th>\n",
       "      <td>W4mag</td>\n",
       "      <td>1.032907</td>\n",
       "    </tr>\n",
       "    <tr>\n",
       "      <th>19</th>\n",
       "      <td>J_H</td>\n",
       "      <td>1.000000</td>\n",
       "    </tr>\n",
       "  </tbody>\n",
       "</table>\n",
       "</div>"
      ],
      "text/plain": [
       "     Feature  Importance\n",
       "0   lightgbm  100.000000\n",
       "1         rf   47.972462\n",
       "2   catboost   20.942572\n",
       "3         et   13.421138\n",
       "4      w1_w2    3.430240\n",
       "5   band_num    1.745128\n",
       "6    FUV_NUV    1.541613\n",
       "7        r/z    1.396601\n",
       "8        g_i    1.348530\n",
       "9      w3_w4    1.252450\n",
       "10       i/y    1.183461\n",
       "11      z/W1    1.171404\n",
       "12    FUVmag    1.091818\n",
       "13     FUV/K    1.089791\n",
       "14       g_r    1.085177\n",
       "15       i_z    1.076295\n",
       "16       J/K    1.053994\n",
       "17       r_i    1.040466\n",
       "18     W4mag    1.032907\n",
       "19       J_H    1.000000"
      ]
     },
     "metadata": {},
     "output_type": "display_data"
    }
   ],
   "source": [
    "print('Feature importances scaled in [1,100]')\n",
    "coef_sorted_meta_df_copy = coef_sorted_meta_df.copy()\n",
    "coef_sorted_meta_df_copy.loc[:, 'Importance'] = (coef_sorted_meta_df.loc[:, 'Importance'] -\\\n",
    "                                                 coef_sorted_meta_df.loc[:, 'Importance'].min()) /\\\n",
    "                                                (coef_sorted_meta_df.loc[:, 'Importance'].max() -\\\n",
    "                                                 coef_sorted_meta_df.loc[:, 'Importance'].min()) * (100 - 1) + 1\n",
    "print('Meta model')\n",
    "display(coef_sorted_meta_df_copy)"
   ]
  },
  {
   "cell_type": "code",
   "execution_count": 59,
   "id": "747c86f0-ee5b-4606-bfed-8eb72406eb4e",
   "metadata": {
    "jupyter": {
     "source_hidden": true
    },
    "tags": []
   },
   "outputs": [
    {
     "name": "stdout",
     "output_type": "stream",
     "text": [
      "Feature importances scaled to sum 100\n",
      "Meta model\n"
     ]
    },
    {
     "data": {
      "text/html": [
       "<div>\n",
       "<style scoped>\n",
       "    .dataframe tbody tr th:only-of-type {\n",
       "        vertical-align: middle;\n",
       "    }\n",
       "\n",
       "    .dataframe tbody tr th {\n",
       "        vertical-align: top;\n",
       "    }\n",
       "\n",
       "    .dataframe thead th {\n",
       "        text-align: right;\n",
       "    }\n",
       "</style>\n",
       "<table border=\"1\" class=\"dataframe\">\n",
       "  <thead>\n",
       "    <tr style=\"text-align: right;\">\n",
       "      <th></th>\n",
       "      <th>Feature</th>\n",
       "      <th>Importance</th>\n",
       "    </tr>\n",
       "  </thead>\n",
       "  <tbody>\n",
       "    <tr>\n",
       "      <th>0</th>\n",
       "      <td>lightgbm</td>\n",
       "      <td>53.747921</td>\n",
       "    </tr>\n",
       "    <tr>\n",
       "      <th>1</th>\n",
       "      <td>rf</td>\n",
       "      <td>25.506725</td>\n",
       "    </tr>\n",
       "    <tr>\n",
       "      <th>2</th>\n",
       "      <td>catboost</td>\n",
       "      <td>10.834567</td>\n",
       "    </tr>\n",
       "    <tr>\n",
       "      <th>3</th>\n",
       "      <td>et</td>\n",
       "      <td>6.751838</td>\n",
       "    </tr>\n",
       "    <tr>\n",
       "      <th>4</th>\n",
       "      <td>w1_w2</td>\n",
       "      <td>1.328655</td>\n",
       "    </tr>\n",
       "    <tr>\n",
       "      <th>5</th>\n",
       "      <td>band_num</td>\n",
       "      <td>0.413955</td>\n",
       "    </tr>\n",
       "    <tr>\n",
       "      <th>6</th>\n",
       "      <td>FUV_NUV</td>\n",
       "      <td>0.303485</td>\n",
       "    </tr>\n",
       "    <tr>\n",
       "      <th>7</th>\n",
       "      <td>r/z</td>\n",
       "      <td>0.224770</td>\n",
       "    </tr>\n",
       "    <tr>\n",
       "      <th>8</th>\n",
       "      <td>g_i</td>\n",
       "      <td>0.198677</td>\n",
       "    </tr>\n",
       "    <tr>\n",
       "      <th>9</th>\n",
       "      <td>w3_w4</td>\n",
       "      <td>0.146523</td>\n",
       "    </tr>\n",
       "    <tr>\n",
       "      <th>10</th>\n",
       "      <td>i/y</td>\n",
       "      <td>0.109075</td>\n",
       "    </tr>\n",
       "    <tr>\n",
       "      <th>11</th>\n",
       "      <td>z/W1</td>\n",
       "      <td>0.102531</td>\n",
       "    </tr>\n",
       "    <tr>\n",
       "      <th>12</th>\n",
       "      <td>FUVmag</td>\n",
       "      <td>0.059330</td>\n",
       "    </tr>\n",
       "    <tr>\n",
       "      <th>13</th>\n",
       "      <td>FUV/K</td>\n",
       "      <td>0.058230</td>\n",
       "    </tr>\n",
       "    <tr>\n",
       "      <th>14</th>\n",
       "      <td>g_r</td>\n",
       "      <td>0.055726</td>\n",
       "    </tr>\n",
       "    <tr>\n",
       "      <th>15</th>\n",
       "      <td>i_z</td>\n",
       "      <td>0.050904</td>\n",
       "    </tr>\n",
       "    <tr>\n",
       "      <th>16</th>\n",
       "      <td>J/K</td>\n",
       "      <td>0.038799</td>\n",
       "    </tr>\n",
       "    <tr>\n",
       "      <th>17</th>\n",
       "      <td>r_i</td>\n",
       "      <td>0.031456</td>\n",
       "    </tr>\n",
       "    <tr>\n",
       "      <th>18</th>\n",
       "      <td>W4mag</td>\n",
       "      <td>0.027353</td>\n",
       "    </tr>\n",
       "    <tr>\n",
       "      <th>19</th>\n",
       "      <td>J_H</td>\n",
       "      <td>0.009490</td>\n",
       "    </tr>\n",
       "  </tbody>\n",
       "</table>\n",
       "</div>"
      ],
      "text/plain": [
       "     Feature  Importance\n",
       "0   lightgbm   53.747921\n",
       "1         rf   25.506725\n",
       "2   catboost   10.834567\n",
       "3         et    6.751838\n",
       "4      w1_w2    1.328655\n",
       "5   band_num    0.413955\n",
       "6    FUV_NUV    0.303485\n",
       "7        r/z    0.224770\n",
       "8        g_i    0.198677\n",
       "9      w3_w4    0.146523\n",
       "10       i/y    0.109075\n",
       "11      z/W1    0.102531\n",
       "12    FUVmag    0.059330\n",
       "13     FUV/K    0.058230\n",
       "14       g_r    0.055726\n",
       "15       i_z    0.050904\n",
       "16       J/K    0.038799\n",
       "17       r_i    0.031456\n",
       "18     W4mag    0.027353\n",
       "19       J_H    0.009490"
      ]
     },
     "metadata": {},
     "output_type": "display_data"
    }
   ],
   "source": [
    "print('Feature importances scaled to sum 100')\n",
    "coef_sorted_meta_df_copy_sum = coef_sorted_meta_df.copy()\n",
    "coef_sorted_meta_df_copy_sum.loc[:, 'Importance'] = coef_sorted_meta_df.loc[:, 'Importance'] /\\\n",
    "                                                     coef_sorted_meta_df.loc[:, 'Importance'].sum() * 100\n",
    "print('Meta model')\n",
    "display(coef_sorted_meta_df_copy_sum)"
   ]
  },
  {
   "cell_type": "code",
   "execution_count": 60,
   "id": "5ed14279-18cc-4e32-8ff6-410fa66c60e4",
   "metadata": {
    "jupyter": {
     "source_hidden": true
    },
    "tags": []
   },
   "outputs": [
    {
     "name": "stdout",
     "output_type": "stream",
     "text": [
      "Feature importances scaled in [1,100]\n",
      "Running dtypes\n",
      "Running imputer\n",
      "Running new_levels1\n",
      "Running new_levels\n",
      "Running feature_time\n",
      "Running scaling\n",
      "Running P_transform\n",
      "Running dummy\n",
      "Running fix_perfect\n",
      "Running clean_names\n",
      "--------------------\n",
      "top features:\n",
      "Feature\tImportance\n",
      "w1_w2\t100.000\n",
      "z/W1\t83.593\n",
      "g_i\t79.086\n",
      "r/z\t67.231\n",
      "band_num\t56.391\n",
      "g_r\t56.182\n",
      "i/y\t52.460\n",
      "i_z\t45.098\n",
      "r_i\t43.028\n",
      "FUV_NUV\t22.080\n",
      "FUV/K\t12.046\n",
      "J/K\t7.275\n",
      "w3_w4\t6.937\n",
      "W4mag\t6.343\n",
      "J_H\t5.590\n",
      "FUVmag\t1.000\n"
     ]
    },
    {
     "data": {
      "image/png": "[encoded data removed]",
      "text/plain": [
       "<Figure size 700x1000 with 1 Axes>"
      ]
     },
     "metadata": {},
     "output_type": "display_data"
    }
   ],
   "source": [
    "print('Feature importances scaled in [1,100]')\n",
    "try:\n",
    "    fig         = plt.figure(figsize=(7,10))\n",
    "    ax1         = fig.add_subplot(111)\n",
    "    n_top       = len(data_validation_AGN_df.columns)\n",
    "    features_df = get_feature_importances_df(final_AGN_clf, data_validation_AGN_df, n=n_top)\n",
    "    features    = features_df.loc[:, 'Feature'].to_list()\n",
    "    importances = features_df.loc[:, 'Importance'].to_list()\n",
    "    import_scal = (importances - np.nanmin(importances)) / (np.nanmax(importances) - np.nanmin(importances))\n",
    "    # indices     = np.argsort(importances)[-n_top:] #only show most important features\n",
    "    # indices     = np.argsort(importances)\n",
    "    # ax1.set_title(f'{model_name} Feature Importances', size=14)\n",
    "    ax1.set_title('Feature Importances', size=14)\n",
    "    ax1.barh(range(len(importances)), import_scal  * (100 - 1) + 1,\\\n",
    "             color=plt.get_cmap('bone', len(importances))(import_scal), align='center', ec='k', lw=1.5)\n",
    "    # plt.yticks(range(len(importances)), [features[i] for i in importances])\n",
    "    plt.yticks(range(len(importances)), features)\n",
    "    ax1.set_xlabel('Relative Importance', size=14)\n",
    "    ax1.set_ylabel('Features', size=14)\n",
    "    ax1.tick_params(axis='both', which='major', labelsize=14)\n",
    "    ax1.tick_params(axis='y', which='major', rotation=30)\n",
    "    plt.setp(ax1.spines.values(), linewidth=2.5)\n",
    "    ax1.tick_params(which='both',top=True, right=False, direction='in')\n",
    "    # ax1.set_xscale('log')\n",
    "    # plt.show()\n",
    "    plt.tight_layout()\n",
    "    if save_plot_flag:\n",
    "        plt.savefig('../plots/feat_importance_AGN_HETDEX.pdf', bbox_inches='tight')\n",
    "\n",
    "    print('-' * 20)\n",
    "    print('top features:')\n",
    "    print('Feature\\tImportance')\n",
    "    for feat, imp in zip(reversed(features), reversed(import_scal  * (100 - 1) + 1)):\n",
    "        print(f'{feat}\\t{round(imp, 3):>.3f}')\n",
    "\n",
    "except:\n",
    "    print('learning algorithm does not provide feature importance.')"
   ]
  },
  {
   "cell_type": "code",
   "execution_count": 61,
   "id": "1debd290-f559-4df7-9030-414294791d1d",
   "metadata": {
    "jupyter": {
     "source_hidden": true
    },
    "tags": []
   },
   "outputs": [
    {
     "name": "stdout",
     "output_type": "stream",
     "text": [
      "Feature importances scaled to sum 100\n",
      "Running dtypes\n",
      "Running imputer\n",
      "Running new_levels1\n",
      "Running new_levels\n",
      "Running feature_time\n",
      "Running scaling\n",
      "Running P_transform\n",
      "Running dummy\n",
      "Running fix_perfect\n",
      "Running clean_names\n",
      "--------------------\n",
      "top features:\n",
      "Feature\tImportance\n",
      "w1_w2\t15.704\n",
      "z/W1\t13.107\n",
      "g_i\t12.393\n",
      "r/z\t10.517\n",
      "band_num\t8.801\n",
      "g_r\t8.768\n",
      "i/y\t8.179\n",
      "i_z\t7.014\n",
      "r_i\t6.686\n",
      "FUV_NUV\t3.371\n",
      "FUV/K\t1.783\n",
      "J/K\t1.027\n",
      "w3_w4\t0.974\n",
      "W4mag\t0.880\n",
      "J_H\t0.761\n",
      "FUVmag\t0.034\n"
     ]
    },
    {
     "data": {
      "image/png": "[encoded data removed]",
      "text/plain": [
       "<Figure size 700x1000 with 1 Axes>"
      ]
     },
     "metadata": {},
     "output_type": "display_data"
    }
   ],
   "source": [
    "print('Feature importances scaled to sum 100')\n",
    "try:\n",
    "    fig         = plt.figure(figsize=(7,10))\n",
    "    ax1         = fig.add_subplot(111)\n",
    "    n_top       = len(data_validation_AGN_df.columns)\n",
    "    features_df = get_feature_importances_df(final_AGN_clf, data_validation_AGN_df, n=n_top)\n",
    "    features    = features_df.loc[:, 'Feature'].to_list()\n",
    "    importances = features_df.loc[:, 'Importance'].to_list()\n",
    "    import_scal = importances / np.nansum(importances)\n",
    "    import_scal_colors = (importances - np.nanmin(importances)) / (np.nanmax(importances) - np.nanmin(importances))\n",
    "    # indices     = np.argsort(importances)[-n_top:] #only show most important features\n",
    "    # indices     = np.argsort(importances)\n",
    "    # ax1.set_title(f'{model_name} Feature Importances', size=14)\n",
    "    ax1.set_title('Feature Importances', size=14)\n",
    "    ax1.barh(range(len(importances)), import_scal * 100,\\\n",
    "             color=plt.get_cmap('bone', len(importances))(import_scal_colors), align='center', ec='k', lw=1.5)\n",
    "    # plt.yticks(range(len(importances)), [features[i] for i in importances])\n",
    "    plt.yticks(range(len(importances)), features)\n",
    "    ax1.set_xlabel('Relative Importance', size=14)\n",
    "    ax1.set_ylabel('Features', size=14)\n",
    "    ax1.tick_params(axis='both', which='major', labelsize=14)\n",
    "    ax1.tick_params(axis='y', which='major', rotation=30)\n",
    "    plt.setp(ax1.spines.values(), linewidth=2.5)\n",
    "    ax1.tick_params(which='both',top=True, right=False, direction='in')\n",
    "    # ax1.set_xscale('log')\n",
    "    # plt.show()\n",
    "    plt.tight_layout()\n",
    "    if save_plot_flag:\n",
    "        plt.savefig('../plots/feat_importance_AGN_HETDEX_perc.pdf', bbox_inches='tight')\n",
    "\n",
    "    print('-' * 20)\n",
    "    print('top features:')\n",
    "    print('Feature\\tImportance')\n",
    "    for feat, imp in zip(reversed(features), reversed(import_scal  * 100)):\n",
    "        print(f'{feat}\\t{round(imp, 3):>.3f}')\n",
    "\n",
    "except:\n",
    "    print('learning algorithm does not provide feature importance.')"
   ]
  },
  {
   "cell_type": "code",
   "execution_count": 62,
   "id": "264cefdc-44c9-4054-b0d1-ca2c111705bd",
   "metadata": {},
   "outputs": [],
   "source": [
    "AGN_pred_threshold = 0.5\n",
    "# AGN_pred_threshold = 0.49999523  # from MCC optimisation - From S82 data"
   ]
  },
  {
   "cell_type": "code",
   "execution_count": 63,
   "id": "0084a2ce-a762-4597-9539-e559fbe8dcbb",
   "metadata": {
    "jupyter": {
     "source_hidden": true
    },
    "tags": []
   },
   "outputs": [],
   "source": [
    "validation_prediction_clf = pyc.predict_model(final_AGN_clf, \n",
    "                                              data=data_validation_AGN_df, probability_threshold=AGN_pred_threshold, raw_score=True)"
   ]
  },
  {
   "cell_type": "markdown",
   "id": "6ad04694-6e67-4347-971d-3014d4a813b4",
   "metadata": {},
   "source": [
    "Create confusion matrix with validation data."
   ]
  },
  {
   "cell_type": "code",
   "execution_count": 64,
   "id": "fe9822c0-1064-4575-bc40-84f6e4c9dc9e",
   "metadata": {
    "jupyter": {
     "source_hidden": true
    },
    "tags": []
   },
   "outputs": [],
   "source": [
    "cm_mat_val = np.array([[np.sum(np.array(validation_prediction_clf['is_AGN'] == 0) & np.array(validation_prediction_clf['Label'] == 0)),\\\n",
    "          np.sum(np.array(validation_prediction_clf['is_AGN'] == 0) & np.array(validation_prediction_clf['Label'] ==1))],\\\n",
    "        [np.sum(np.array(validation_prediction_clf['is_AGN'] == 1) & np.array(validation_prediction_clf['Label'] == 0)),\\\n",
    "          np.sum(np.array(validation_prediction_clf['is_AGN'] == 1) & np.array(validation_prediction_clf['Label'] ==1))]])"
   ]
  },
  {
   "cell_type": "code",
   "execution_count": 65,
   "id": "e324a125-a366-43bc-9854-f946458a510e",
   "metadata": {
    "jupyter": {
     "source_hidden": true
    },
    "tags": []
   },
   "outputs": [
    {
     "data": {
      "image/png": "[encoded data removed]",
      "text/plain": [
       "<Figure size 600x500 with 1 Axes>"
      ]
     },
     "metadata": {},
     "output_type": "display_data"
    }
   ],
   "source": [
    "from sklearn.metrics import ConfusionMatrixDisplay\n",
    "\n",
    "fig             = plt.figure(figsize=(6,5))\n",
    "ax1             = fig.add_subplot(111)\n",
    "disp = ConfusionMatrixDisplay(confusion_matrix=cm_mat_val,\n",
    "                              display_labels=['Non\\nAGN', 'AGN'])\n",
    "norm = ImageNormalize(stretch=LogStretch())\n",
    "\n",
    "# NOTE: Fill all variables here with default values of the plot_confusion_matrix\n",
    "disp_b = disp.plot(include_values=True,\n",
    "                 cmap=cm.get_cmap('cet_dimgray_r'), ax=ax1, xticks_rotation='horizontal')\n",
    "\n",
    "for text_val in disp_b.text_.flatten():\n",
    "    text_val.set_fontsize(30)\n",
    "clb = plt.gca().images[-1].colorbar\n",
    "clb.ax.tick_params(labelsize=14)\n",
    "clb.ax.ticklabel_format(style='sci', scilimits=(0, 0))\n",
    "clb.outline.set_linewidth(2.5)\n",
    "clb.ax.set_ylabel('Sources in bin', size=14, path_effects=pe2)\n",
    "clb.remove()\n",
    "\n",
    "disp_b.im_.norm = norm\n",
    "\n",
    "ax1.xaxis.get_label().set_fontsize(16)\n",
    "ax1.yaxis.get_label().set_fontsize(16)\n",
    "\n",
    "ax1.tick_params(axis='both', which='major', labelsize=14)\n",
    "\n",
    "plt.setp(ax1.spines.values(), linewidth=2.5)\n",
    "plt.setp(ax1.spines.values(), linewidth=2.5)\n",
    "plt.tight_layout()\n",
    "if save_plot_flag:\n",
    "    plt.savefig('../plots/confusion_matrix_validation_AGN_HETDEX.pdf', bbox_inches='tight')\n",
    "plt.show()"
   ]
  },
  {
   "cell_type": "code",
   "execution_count": 66,
   "id": "59934f6a-cc5a-43bf-9a9f-45a4a9a5c1e4",
   "metadata": {
    "id": "36c0a111-8876-48fd-aa3c-7e900fdeaef6",
    "jupyter": {
     "source_hidden": true
    },
    "tags": []
   },
   "outputs": [],
   "source": [
    "TN_AGN, FP_AGN, FN_AGN, TP_AGN = cm_mat_val.flatten().astype('float32')"
   ]
  },
  {
   "cell_type": "code",
   "execution_count": 67,
   "id": "8962c002-3cf8-4574-9bbc-68f1a4e1c874",
   "metadata": {
    "id": "dc1ed42b-d2cf-4c2f-9d30-c6adcf919310",
    "jupyter": {
     "source_hidden": true
    },
    "tags": []
   },
   "outputs": [],
   "source": [
    "MCC_AGN_val = ((TP_AGN * TN_AGN) - (FP_AGN * FN_AGN)) /\\\n",
    "            np.sqrt((TP_AGN + FP_AGN) * (TP_AGN + FN_AGN) * (TN_AGN + FP_AGN) * (TN_AGN + FN_AGN))\n",
    "\n",
    "ACC_AGN_val = (TP_AGN + TN_AGN) / (TP_AGN + TN_AGN + FP_AGN + FN_AGN)\n",
    "\n",
    "F1_AGN_val  = 2 * TP_AGN / (2 * TP_AGN + FP_AGN + FN_AGN)\n",
    "\n",
    "Recall_AGN_val = TP_AGN / (TP_AGN + FN_AGN)"
   ]
  },
  {
   "cell_type": "code",
   "execution_count": 68,
   "id": "f60957c9-a17e-45b7-a56f-f89555e8a51c",
   "metadata": {
    "id": "b1410aa3-a97f-410f-9d1b-c374b7143d2d",
    "jupyter": {
     "source_hidden": true
    },
    "outputId": "fc50cee5-60c6-40cd-f7d7-66252e9219ac",
    "tags": []
   },
   "outputs": [
    {
     "name": "stdout",
     "output_type": "stream",
     "text": [
      "Metrics for Validation set.\n",
      "Matthews Correlation Coefficient is MCC = 0.6293\n",
      "Accuracy is ACC = 0.9970\n",
      "F1-score is F1 = 0.6237\n",
      "Recall is TPR = 0.5431\n"
     ]
    }
   ],
   "source": [
    "print('Metrics for Validation set.')\n",
    "print(f'Matthews Correlation Coefficient is MCC = {MCC_AGN_val:.4f}')\n",
    "print(f'Accuracy is ACC = {ACC_AGN_val:.4f}')\n",
    "print(f'F1-score is F1 = {F1_AGN_val:.4f}')\n",
    "print(f'Recall is TPR = {Recall_AGN_val:.4f}')"
   ]
  },
  {
   "cell_type": "code",
   "execution_count": 69,
   "id": "671aaa2e-b6bd-401a-b4e5-0c353d6a24f1",
   "metadata": {
    "jupyter": {
     "source_hidden": true
    },
    "tags": []
   },
   "outputs": [],
   "source": [
    "train_size         = 0.7\n",
    "data_split_shuffle = True\n",
    "_stratify_columns = _get_columns_to_stratify_by(\n",
    "            data_train_test_AGN_df.drop(columns=['is_AGN']), data_train_test_AGN_df.loc[:, 'is_AGN'], False, 'is_AGN'\n",
    "        )\n",
    "\n",
    "X_train, X_test, y_train, y_test = train_test_split(\n",
    "                data_train_test_AGN_df.drop(columns=['is_AGN']),\n",
    "                data_train_test_AGN_df.loc[:, 'is_AGN'],\n",
    "                test_size=1 - train_size,\n",
    "                stratify=_stratify_columns,\n",
    "                random_state=seed,\n",
    "                shuffle=data_split_shuffle,\n",
    "            )\n",
    "train_data_df        = pd.concat([X_train, y_train], axis=1)\n",
    "test_data_df         = pd.concat([X_test, y_test], axis=1)"
   ]
  },
  {
   "cell_type": "code",
   "execution_count": 70,
   "id": "afeb7f2f-f613-4397-b06e-477f05055140",
   "metadata": {
    "jupyter": {
     "source_hidden": true
    },
    "tags": []
   },
   "outputs": [],
   "source": [
    "train_prediction_clf = pyc.predict_model(final_AGN_clf, \n",
    "                                              data=train_data_df, probability_threshold=AGN_pred_threshold, raw_score=True)"
   ]
  },
  {
   "cell_type": "code",
   "execution_count": 71,
   "id": "03a8cdd3-196a-449b-b690-1259fa35a788",
   "metadata": {
    "jupyter": {
     "source_hidden": true
    },
    "tags": []
   },
   "outputs": [],
   "source": [
    "test_prediction_clf = pyc.predict_model(final_AGN_clf, \n",
    "                                              data=test_data_df, probability_threshold=AGN_pred_threshold, raw_score=True)"
   ]
  },
  {
   "cell_type": "code",
   "execution_count": 72,
   "id": "be664454-ef64-40d9-ae88-80cca8fc7bdc",
   "metadata": {
    "jupyter": {
     "source_hidden": true
    },
    "tags": []
   },
   "outputs": [],
   "source": [
    "cm_mat_train = np.array([[np.sum(np.array(train_prediction_clf['is_AGN'] == 0) & np.array(train_prediction_clf['Label'] == 0)),\\\n",
    "          np.sum(np.array(train_prediction_clf['is_AGN'] == 0) & np.array(train_prediction_clf['Label'] ==1))],\\\n",
    "        [np.sum(np.array(train_prediction_clf['is_AGN'] == 1) & np.array(train_prediction_clf['Label'] == 0)),\\\n",
    "          np.sum(np.array(train_prediction_clf['is_AGN'] == 1) & np.array(train_prediction_clf['Label'] ==1))]])"
   ]
  },
  {
   "cell_type": "code",
   "execution_count": 73,
   "id": "0869dd17-7d96-42e2-a7a2-e6df1f85e407",
   "metadata": {
    "jupyter": {
     "source_hidden": true
    },
    "tags": []
   },
   "outputs": [],
   "source": [
    "cm_mat_test = np.array([[np.sum(np.array(test_prediction_clf['is_AGN'] == 0) & np.array(test_prediction_clf['Label'] == 0)),\\\n",
    "          np.sum(np.array(test_prediction_clf['is_AGN'] == 0) & np.array(test_prediction_clf['Label'] ==1))],\\\n",
    "        [np.sum(np.array(test_prediction_clf['is_AGN'] == 1) & np.array(test_prediction_clf['Label'] == 0)),\\\n",
    "          np.sum(np.array(test_prediction_clf['is_AGN'] == 1) & np.array(test_prediction_clf['Label'] ==1))]])"
   ]
  },
  {
   "cell_type": "code",
   "execution_count": 74,
   "id": "5980e520-8cfa-43b9-ba3b-dda7d00687b8",
   "metadata": {
    "jupyter": {
     "source_hidden": true
    },
    "tags": []
   },
   "outputs": [
    {
     "data": {
      "image/png": "[encoded data removed]",
      "text/plain": [
       "<Figure size 600x500 with 1 Axes>"
      ]
     },
     "metadata": {},
     "output_type": "display_data"
    }
   ],
   "source": [
    "from sklearn.metrics import ConfusionMatrixDisplay\n",
    "\n",
    "fig             = plt.figure(figsize=(6,5))\n",
    "ax1             = fig.add_subplot(111)\n",
    "disp = ConfusionMatrixDisplay(confusion_matrix=cm_mat_train,\n",
    "                              display_labels=['Non\\nAGN', 'AGN'])\n",
    "norm = ImageNormalize(stretch=LogStretch())\n",
    "\n",
    "# NOTE: Fill all variables here with default values of the plot_confusion_matrix\n",
    "disp_b = disp.plot(include_values=True,\n",
    "                 cmap=cm.get_cmap('cet_dimgray_r'), ax=ax1, xticks_rotation='horizontal')\n",
    "\n",
    "for text_val in disp_b.text_.flatten():\n",
    "    text_val.set_fontsize(30)\n",
    "clb = plt.gca().images[-1].colorbar\n",
    "clb.ax.tick_params(labelsize=14)\n",
    "clb.ax.ticklabel_format(style='sci', scilimits=(0, 0))\n",
    "clb.outline.set_linewidth(2.5)\n",
    "clb.ax.set_ylabel('Sources in bin', size=14, path_effects=pe2)\n",
    "clb.remove()\n",
    "\n",
    "disp_b.im_.norm = norm\n",
    "\n",
    "ax1.xaxis.get_label().set_fontsize(16)\n",
    "ax1.yaxis.get_label().set_fontsize(16)\n",
    "\n",
    "ax1.tick_params(axis='both', which='major', labelsize=14)\n",
    "\n",
    "plt.setp(ax1.spines.values(), linewidth=2.5)\n",
    "plt.setp(ax1.spines.values(), linewidth=2.5)\n",
    "plt.tight_layout()\n",
    "if save_plot_flag:\n",
    "    plt.savefig('../plots/confusion_matrix_train_AGN_HETDEX.pdf', bbox_inches='tight')\n",
    "plt.show()"
   ]
  },
  {
   "cell_type": "code",
   "execution_count": 75,
   "id": "e136e3be-c17e-4b49-8416-d7b948a36b95",
   "metadata": {
    "jupyter": {
     "source_hidden": true
    },
    "tags": []
   },
   "outputs": [
    {
     "data": {
      "image/png": "[encoded data removed]",
      "text/plain": [
       "<Figure size 600x500 with 1 Axes>"
      ]
     },
     "metadata": {},
     "output_type": "display_data"
    }
   ],
   "source": [
    "from sklearn.metrics import ConfusionMatrixDisplay\n",
    "\n",
    "fig             = plt.figure(figsize=(6,5))\n",
    "ax1             = fig.add_subplot(111)\n",
    "disp = ConfusionMatrixDisplay(confusion_matrix=cm_mat_test,\n",
    "                              display_labels=['Non\\nAGN', 'AGN'])\n",
    "norm = ImageNormalize(stretch=LogStretch())\n",
    "\n",
    "# NOTE: Fill all variables here with default values of the plot_confusion_matrix\n",
    "disp_b = disp.plot(include_values=True,\n",
    "                 cmap=cm.get_cmap('cet_dimgray_r'), ax=ax1, xticks_rotation='horizontal')\n",
    "\n",
    "for text_val in disp_b.text_.flatten():\n",
    "    text_val.set_fontsize(30)\n",
    "clb = plt.gca().images[-1].colorbar\n",
    "clb.ax.tick_params(labelsize=14)\n",
    "clb.ax.ticklabel_format(style='sci', scilimits=(0, 0))\n",
    "clb.outline.set_linewidth(2.5)\n",
    "clb.ax.set_ylabel('Sources in bin', size=14, path_effects=pe2)\n",
    "clb.remove()\n",
    "\n",
    "disp_b.im_.norm = norm\n",
    "\n",
    "ax1.xaxis.get_label().set_fontsize(16)\n",
    "ax1.yaxis.get_label().set_fontsize(16)\n",
    "\n",
    "ax1.tick_params(axis='both', which='major', labelsize=14)\n",
    "\n",
    "plt.setp(ax1.spines.values(), linewidth=2.5)\n",
    "plt.setp(ax1.spines.values(), linewidth=2.5)\n",
    "plt.tight_layout()\n",
    "if save_plot_flag:\n",
    "    plt.savefig('../plots/confusion_matrix_test_AGN_HETDEX.pdf', bbox_inches='tight')\n",
    "plt.show()"
   ]
  },
  {
   "cell_type": "code",
   "execution_count": 76,
   "id": "c49f0b5a-0ffc-4dd3-a622-e8085137edfa",
   "metadata": {
    "id": "36c0a111-8876-48fd-aa3c-7e900fdeaef6",
    "jupyter": {
     "source_hidden": true
    },
    "tags": []
   },
   "outputs": [],
   "source": [
    "TN_AGN_train, FP_AGN_train, FN_AGN_train, TP_AGN_train = cm_mat_train.flatten().astype('float32')"
   ]
  },
  {
   "cell_type": "code",
   "execution_count": 77,
   "id": "19ec10e9-6eff-4d3f-8a17-f45e467fd631",
   "metadata": {
    "id": "dc1ed42b-d2cf-4c2f-9d30-c6adcf919310",
    "jupyter": {
     "source_hidden": true
    },
    "tags": []
   },
   "outputs": [],
   "source": [
    "MCC_AGN_train = ((TP_AGN_train * TN_AGN_train) - (FP_AGN_train * FN_AGN_train)) /\\\n",
    "            np.sqrt((TP_AGN_train + FP_AGN_train) * (TP_AGN_train + FN_AGN_train) * \n",
    "                    (TN_AGN_train + FP_AGN_train) * (TN_AGN_train + FN_AGN_train))\n",
    "\n",
    "ACC_AGN_train = (TP_AGN_train + TN_AGN_train) / (TP_AGN_train + TN_AGN_train + FP_AGN_train + FN_AGN_train)\n",
    "\n",
    "F1_AGN_train  = 2 * TP_AGN_train / (2 * TP_AGN_train + FP_AGN_train + FN_AGN_train)\n",
    "\n",
    "Recall_AGN_train = TP_AGN_train / (TP_AGN_train + FN_AGN_train)"
   ]
  },
  {
   "cell_type": "code",
   "execution_count": 78,
   "id": "df9ce198-5ec8-41d9-8f84-76089793707a",
   "metadata": {
    "id": "b1410aa3-a97f-410f-9d1b-c374b7143d2d",
    "jupyter": {
     "source_hidden": true
    },
    "outputId": "fc50cee5-60c6-40cd-f7d7-66252e9219ac",
    "tags": []
   },
   "outputs": [
    {
     "name": "stdout",
     "output_type": "stream",
     "text": [
      "Metrics for Training set.\n",
      "Matthews Correlation Coefficient is MCC = 0.7278\n",
      "Accuracy is ACC = 0.9979\n",
      "F1-score is F1 = 0.7036\n",
      "Recall is TPR = 0.5585\n"
     ]
    }
   ],
   "source": [
    "print('Metrics for Training set.')\n",
    "print(f'Matthews Correlation Coefficient is MCC = {MCC_AGN_train:.4f}')\n",
    "print(f'Accuracy is ACC = {ACC_AGN_train:.4f}')\n",
    "print(f'F1-score is F1 = {F1_AGN_train:.4f}')\n",
    "print(f'Recall is TPR = {Recall_AGN_train:.4f}')"
   ]
  },
  {
   "cell_type": "code",
   "execution_count": 79,
   "id": "f4ddc380-f862-4139-930a-0aa96d0311a6",
   "metadata": {
    "id": "36c0a111-8876-48fd-aa3c-7e900fdeaef6",
    "jupyter": {
     "source_hidden": true
    },
    "tags": []
   },
   "outputs": [],
   "source": [
    "TN_AGN_test, FP_AGN_test, FN_AGN_test, TP_AGN_test = cm_mat_test.flatten().astype('float32')"
   ]
  },
  {
   "cell_type": "code",
   "execution_count": 80,
   "id": "d7bd1d80-52a1-421c-80bf-af06ae70f773",
   "metadata": {
    "id": "dc1ed42b-d2cf-4c2f-9d30-c6adcf919310",
    "jupyter": {
     "source_hidden": true
    },
    "tags": []
   },
   "outputs": [],
   "source": [
    "MCC_AGN_test = ((TP_AGN_test * TN_AGN_test) - (FP_AGN_test * FN_AGN_test)) /\\\n",
    "            np.sqrt((TP_AGN_test + FP_AGN_test) * (TP_AGN_test + FN_AGN_test) * \n",
    "                    (TN_AGN_test + FP_AGN_test) * (TN_AGN_test + FN_AGN_test))\n",
    "\n",
    "ACC_AGN_test = (TP_AGN_test + TN_AGN_test) / (TP_AGN_test + TN_AGN_test + FP_AGN_test + FN_AGN_test)\n",
    "\n",
    "F1_AGN_test  = 2 * TP_AGN_test / (2 * TP_AGN_test + FP_AGN_test + FN_AGN_test)\n",
    "\n",
    "Recall_AGN_test = TP_AGN_test / (TP_AGN_test + FN_AGN_test)"
   ]
  },
  {
   "cell_type": "code",
   "execution_count": 81,
   "id": "af76987a-ef54-480e-800d-bbb44b048257",
   "metadata": {
    "id": "b1410aa3-a97f-410f-9d1b-c374b7143d2d",
    "jupyter": {
     "source_hidden": true
    },
    "outputId": "fc50cee5-60c6-40cd-f7d7-66252e9219ac",
    "tags": []
   },
   "outputs": [
    {
     "name": "stdout",
     "output_type": "stream",
     "text": [
      "Metrics for Test set.\n",
      "Matthews Correlation Coefficient is MCC = 0.7233\n",
      "Accuracy is ACC = 0.9979\n",
      "F1-score is F1 = 0.7000\n",
      "Recall is TPR = 0.5573\n"
     ]
    }
   ],
   "source": [
    "print('Metrics for Test set.')\n",
    "print(f'Matthews Correlation Coefficient is MCC = {MCC_AGN_test:.4f}')\n",
    "print(f'Accuracy is ACC = {ACC_AGN_test:.4f}')\n",
    "print(f'F1-score is F1 = {F1_AGN_test:.4f}')\n",
    "print(f'Recall is TPR = {Recall_AGN_test:.4f}')"
   ]
  },
  {
   "cell_type": "code",
   "execution_count": null,
   "id": "62115d20-1b1e-4977-b42b-7426407eb278",
   "metadata": {},
   "outputs": [],
   "source": []
  },
  {
   "cell_type": "code",
   "execution_count": null,
   "id": "70b214e9-ff7e-4bf9-98e7-e2d88b7135b9",
   "metadata": {},
   "outputs": [],
   "source": []
  },
  {
   "cell_type": "code",
   "execution_count": null,
   "id": "b47f6aa7-8d75-4c19-908a-1e30080f6da5",
   "metadata": {
    "id": "b47f6aa7-8d75-4c19-908a-1e30080f6da5"
   },
   "outputs": [],
   "source": []
  }
 ],
 "metadata": {
  "accelerator": "GPU",
  "colab": {
   "name": "HETDEX_pipeline_AGN_training.ipynb",
   "provenance": []
  },
  "kernelspec": {
   "display_name": "Python 3 (ipykernel)",
   "language": "python",
   "name": "python3"
  },
  "language_info": {
   "codemirror_mode": {
    "name": "ipython",
    "version": 3
   },
   "file_extension": ".py",
   "mimetype": "text/x-python",
   "name": "python",
   "nbconvert_exporter": "python",
   "pygments_lexer": "ipython3",
   "version": "3.8.12"
  }
 },
 "nbformat": 4,
 "nbformat_minor": 5
}
